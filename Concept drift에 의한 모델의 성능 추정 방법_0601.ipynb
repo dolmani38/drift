{
  "nbformat": 4,
  "nbformat_minor": 0,
  "metadata": {
    "colab": {
      "name": "Untitled11.ipynb",
      "provenance": [],
      "machine_shape": "hm",
      "authorship_tag": "ABX9TyNOerNEfZyudkJdVqKYwP81",
      "include_colab_link": true
    },
    "kernelspec": {
      "name": "python3",
      "display_name": "Python 3"
    },
    "language_info": {
      "name": "python"
    },
    "accelerator": "GPU"
  },
  "cells": [
    {
      "cell_type": "markdown",
      "metadata": {
        "id": "view-in-github",
        "colab_type": "text"
      },
      "source": [
        "<a href=\"https://colab.research.google.com/github/dolmani38/drift/blob/main/Concept%20drift%EC%97%90%20%EC%9D%98%ED%95%9C%20%EB%AA%A8%EB%8D%B8%EC%9D%98%20%EC%84%B1%EB%8A%A5%20%EC%B6%94%EC%A0%95%20%EB%B0%A9%EB%B2%95_0601.ipynb\" target=\"_parent\"><img src=\"https://colab.research.google.com/assets/colab-badge.svg\" alt=\"Open In Colab\"/></a>"
      ]
    },
    {
      "cell_type": "markdown",
      "source": [
        "# Introduction"
      ],
      "metadata": {
        "id": "MdUY2ejjB2t0"
      }
    },
    {
      "cell_type": "markdown",
      "source": [
        "*   기계학습은 학습에 의해 모델을 구축한 후, Test dataset을 사용하여 N-fold class-validation으로 precision, recall, f1 및 MAPE, RMSE 등 성능을 측정한다.\n",
        "*   통상, 측정된 성능값은 해당 모델을 대변하는 성능 지표가 된다.\n",
        "*   이렇게 구축된 모델은 live data를 입력해서 실 활용하게 되는데, 이때 초기에 측정한 성능을 지속하여 확보하고 있는지 실측하여 알 수 없다.\n",
        "*   Time-series data에 의한 Regression의 경우, 예측 기간의 도래 이후, 실측 Y값을 알 수 있으나 역시 업무에 따라 그 시간 간격이 크게 발생 할 수 있으며, classification의 경우, 예측 class가 정확한지 실측하기 위해서는 별도의 labeling 작업을 해야 한다.\n",
        "*   즉, 한번 구축한 모델은 활용 단계에서 성능을 실측하는 것이 매우 어려우며, 비즈니스상에서 IT운영팀에서 이를 관리하는 것은 현실적으로 불가능 하다.\n",
        "*   하지만, 비즈니스 상에서 모델의 활용 중에 성능이 저하된다면 의사결정 및 경영상의 문제를 초래 할 수 있다.\n",
        "*   하여, concept drift의 통계량을 측정하여 모델의 성능 상태를 유추하는 연구들이 이루어져 왔다.\n",
        "*   하지만, concept drift의 측정값 (통계량)을 통해 precision, recall, accuracy 등 직접적으로 성능을 예측하는 연구는 많지 않다.\n",
        "*   이번 연구에서는 concept drift의 측정값 (통계량)을 통해 직접적으로 precision, recall, accuracy 등 성능을 예측하는 성능 예측 모델(PPM, Performance prediction model)을 제안한다.\n",
        "\n",
        "\n",
        "\n",
        "\n",
        "\n",
        "\n",
        "\n",
        "\n",
        "\n",
        "\n"
      ],
      "metadata": {
        "id": "aGIAaCn1CJB3"
      }
    },
    {
      "cell_type": "markdown",
      "source": [
        "# Proposed Method"
      ],
      "metadata": {
        "id": "-N2SQ0-MGunc"
      }
    },
    {
      "cell_type": "markdown",
      "source": [
        "1.   Feature의 importanc를 측정하는 Lime 알고리즘은 reference data를 기반으로 가상의 dataset을 임의 생성(permutation)하여 model.predict에 의한 결과 (Y)를 대조 분석하여 importance를 추정(실험의 시행에 따른 statistics에 해당) 한다.\n",
        "2.   즉, dataset의 feature중 x1의 값이 변하여도 Y의 변동이 없다면 x1의 importance는 낮은 것이다. \n",
        "3.   실험 dataset에서 X1의 변동량 대비 Y의 변동량을 통계적으로 측정하여 importance를 추정하는 것이다.\n",
        "4.  유사한 원리로 data drift  model performance (accuracy) 모델을 생성할 수 있을 것이다.\n",
        "5.   즉, 전체 Trainset에서 N-fold class-validation의 개념으로 reference dataset과 inference dataset을 임의로 나누고, \n",
        "6.   reference 의 feature x1 대비 inference의 feature x1의 drift statistics 을 측정하고 (이때, x2,x3… 모든 feature의 drift statistics 이 측정될 것임) 이때의 inference dataset의 accuracy를 측정하여 y값으로 설정하고\n",
        "7.   각 feature의 drift statistics 를 x로 설정하여 regressio에 의해 modeling (학습) 한다.\n",
        "8.   물론, trainset 내의 분포, 범위라는 한계성을 갖지만,  직접적인 model 성능 추정이 가능할 것이다.\n",
        "\n",
        "\n",
        "\n",
        "\n",
        "\n",
        "\n",
        "\n"
      ],
      "metadata": {
        "id": "h0nsMLKzGxU9"
      }
    },
    {
      "cell_type": "markdown",
      "source": [
        "## PPM1 : feature의 drift statistics 로부터 직접 model의 성능을 추정한다."
      ],
      "metadata": {
        "id": "tmErgAMEHjVd"
      }
    },
    {
      "cell_type": "code",
      "source": [
        "trainset : y=f(x)\n",
        "base_score = Score of base model\n",
        "scores = []\n",
        "feature_drift = []\n",
        "split_ratio = 0.1\n",
        "for n fold:\n",
        "    y_ref, y_inf, x_ref, x_inf = split(y, x, split_ratio)\n",
        "    inf_score = score(y_inf, predict(x_inf))\n",
        "    x_drift = drift(x, x_inf)\n",
        "    scores.add(inf_score)\n",
        "    feature_drift.add(x_drift)\n",
        "        \n",
        "perfomance_predict_model_1 = train(scores, feature_drift)\n",
        "\n",
        "x_live = Inference data from time1 to time2\n",
        "x_live_drift = drift(x, x_live)\n",
        "predict_score = perfomance_predict_model_1(x_live_drift)"
      ],
      "metadata": {
        "id": "EO15rrGVHoBX"
      },
      "execution_count": null,
      "outputs": []
    },
    {
      "cell_type": "markdown",
      "source": [
        "## PPM2 : feature의 drift statistics 로부터 base성능 대비 추정 성능의 차이를 추정한다."
      ],
      "metadata": {
        "id": "I6E_HZc9Hlt4"
      }
    },
    {
      "cell_type": "code",
      "source": [
        "trainset : y=f(x)\n",
        "base_score = Score of the model\n",
        "base_feature_drift = The drift statistics of the feature that measured the base score \n",
        "scores = []\n",
        "feature_drift = []\n",
        "split_ratio = 0.1\n",
        "for n fold:\n",
        "    y_ref, y_inf, x_ref, x_inf = split(y, x, split_ratio)\n",
        "    inf_score = score(y_inf, predict(x_inf))\n",
        "    x_drift = drift(x, x_inf)\n",
        "    scores.add(base_score - inf_score)\n",
        "    feature_drift.add(base_feature_drift - x_drift)\n",
        "        \n",
        "perfomance_predict_model_2 = train(scores, feature_drift)\n",
        "\n",
        "x_live = Inference data from time1 to time2\n",
        "x_live_drift = drift(x, x_live)\n",
        "predict_score = base_score - socre_predict_model_from_drift(base_feature_drift - x_live_drift)\n",
        "\n"
      ],
      "metadata": {
        "id": "DAUWsTPoHxNK"
      },
      "execution_count": null,
      "outputs": []
    },
    {
      "cell_type": "markdown",
      "source": [
        "# 실험 계획"
      ],
      "metadata": {
        "id": "qclC6IuFH5y5"
      }
    },
    {
      "cell_type": "markdown",
      "source": [
        "*   Data\n",
        "> 미국의 개인 대출 기업 ‘Lending Club’의 공개 데이터 사용<BR>\n",
        "> 2007~2017년까지 총 2,260,701건의 데이터, 대출 건당 실제 ‘default’ 여부 포함\n",
        "151개 Column<BR>\n",
        "> 데이터 정제 후, 81개 Features, 120만건 사용<BR>\n",
        "\n",
        "* 예측 알고리즘\n",
        "> Random-forest 알고리즘<BR>\n",
        "> Deep-learning 알고리즘\n",
        "\n",
        "* 실험\n",
        "> 2010년 data를 기준으로 모델 학습<BR>\n",
        ">2011년~2017년의 데이터를 2010년 학습데이터의 건수 (8000건) 단위로 drift 측정\n",
        "모델의 예측 성능과 실 성능을 비교<BR>\n",
        "\n",
        "* 실험의 변수\n",
        "> PPM1, PPM2<BR>\n",
        "> Split_ratio = 0.1, 0.3, 0.5<BR>\n",
        "> 예측 알고리즘 : random_forest, deep_learning<BR>\n",
        "\n",
        "* 측정 지표\n",
        "> 예측 알고리즘의 성능 지표 : precision<BR>\n",
        "> PPM의 성능 지표<BR>\n",
        "    >>Mean Absolute Error (MAE)<BR>\n",
        "    >>Mean Squared Error (MSE)<BR>\n",
        "    >>Root Mean Squared Error (RMSE)<BR>\n",
        "    >>R-Squared<BR>\n",
        "    >>Adjusted R-squared<BR>\n"
      ],
      "metadata": {
        "id": "N9iEkjRPH-ad"
      }
    },
    {
      "cell_type": "markdown",
      "source": [
        "# 데이터 준비"
      ],
      "metadata": {
        "id": "uNNbnbmhJAvK"
      }
    },
    {
      "cell_type": "code",
      "source": [
        "if True:\n",
        "    from google.colab import drive\n",
        "    drive.mount('/content/drive')"
      ],
      "metadata": {
        "colab": {
          "base_uri": "https://localhost:8080/"
        },
        "id": "J2c4ezIaJJjo",
        "outputId": "3f011a53-492a-4876-e165-b6d50c3e9d73"
      },
      "execution_count": 1,
      "outputs": [
        {
          "output_type": "stream",
          "name": "stdout",
          "text": [
            "Mounted at /content/drive\n"
          ]
        }
      ]
    },
    {
      "cell_type": "code",
      "source": [
        "import os\n",
        "\n",
        "import pandas as pd\n",
        "import numpy as np\n",
        "import matplotlib.pyplot as plt\n",
        "import seaborn as sns\n",
        "from sklearn.model_selection import train_test_split\n",
        "from sklearn.preprocessing import MinMaxScaler\n",
        "from sklearn.metrics import classification_report, confusion_matrix, accuracy_score\n",
        "import tensorflow as tf\n",
        "from tensorflow.keras.models import Sequential\n",
        "from tensorflow.keras.layers import Dense, Dropout"
      ],
      "metadata": {
        "id": "JUNcaGM_J27R"
      },
      "execution_count": 2,
      "outputs": []
    },
    {
      "cell_type": "code",
      "source": [
        "df_accepted = pd.read_csv(\"/content/drive/MyDrive/Drift/accepted_2007_to_2018Q4.csv\")\n",
        "\n",
        "print(df_accepted.shape)"
      ],
      "metadata": {
        "colab": {
          "base_uri": "https://localhost:8080/"
        },
        "id": "eW0ESQ-LJ86X",
        "outputId": "893d7dab-4cdc-4f3c-c648-5833ab422210"
      },
      "execution_count": 3,
      "outputs": [
        {
          "output_type": "stream",
          "name": "stderr",
          "text": [
            "/usr/local/lib/python3.7/dist-packages/IPython/core/interactiveshell.py:2882: DtypeWarning: Columns (0,19,49,59,118,129,130,131,134,135,136,139,145,146,147) have mixed types.Specify dtype option on import or set low_memory=False.\n",
            "  exec(code_obj, self.user_global_ns, self.user_ns)\n"
          ]
        },
        {
          "output_type": "stream",
          "name": "stdout",
          "text": [
            "(2260701, 151)\n"
          ]
        }
      ]
    },
    {
      "cell_type": "markdown",
      "source": [
        "### 데이터 정제"
      ],
      "metadata": {
        "id": "CFPlPXzNKAiQ"
      }
    },
    {
      "cell_type": "code",
      "source": [
        "# for the sake of simplicity, let's consider only Fully Paid and Charged Off values:\n",
        "\n",
        "df_accepted = df_accepted[df_accepted.loan_status.isin(['Fully Paid', 'Charged Off'])]\n",
        "\n",
        "print(df_accepted.shape)"
      ],
      "metadata": {
        "colab": {
          "base_uri": "https://localhost:8080/"
        },
        "id": "qmlNZDqPKDXg",
        "outputId": "d5e67f15-279c-43d7-e40f-e44ab0937e88"
      },
      "execution_count": 4,
      "outputs": [
        {
          "output_type": "stream",
          "name": "stdout",
          "text": [
            "(1345310, 151)\n"
          ]
        }
      ]
    },
    {
      "cell_type": "code",
      "source": [
        "cols_to_drop = df_accepted.isnull().sum().sort_values(ascending=False).head(50).index\n",
        "df_accepted = df_accepted.drop(columns=cols_to_drop)\n",
        "df_accepted.shape"
      ],
      "metadata": {
        "colab": {
          "base_uri": "https://localhost:8080/"
        },
        "id": "fN2Jx2vXKbKm",
        "outputId": "e2913003-e6fa-4d90-b871-1359cc983aa4"
      },
      "execution_count": 5,
      "outputs": [
        {
          "output_type": "execute_result",
          "data": {
            "text/plain": [
              "(1345310, 101)"
            ]
          },
          "metadata": {},
          "execution_count": 5
        }
      ]
    },
    {
      "cell_type": "code",
      "source": [
        "# maybe we can go further, and eliminate columns up to title:\n",
        "\n",
        "cols_to_drop = df_accepted.isnull().sum().sort_values(ascending=False).head(45).index\n",
        "df_accepted = df_accepted.drop(columns=cols_to_drop)\n",
        "df_accepted.shape"
      ],
      "metadata": {
        "colab": {
          "base_uri": "https://localhost:8080/"
        },
        "id": "4p3qUjW-KlCk",
        "outputId": "e9b70c76-e821-4ba8-e9df-3982d7133135"
      },
      "execution_count": 6,
      "outputs": [
        {
          "output_type": "execute_result",
          "data": {
            "text/plain": [
              "(1345310, 56)"
            ]
          },
          "metadata": {},
          "execution_count": 6
        }
      ]
    },
    {
      "cell_type": "code",
      "source": [
        "# Remaining columns have missing data points, but they account for less than 0.2% of the total data. Let's remove the rows that are missing those values in those columns with dropna():\n",
        "\n",
        "df_accepted = df_accepted.dropna()\n",
        "df_accepted.shape"
      ],
      "metadata": {
        "colab": {
          "base_uri": "https://localhost:8080/"
        },
        "id": "BOLNQcD7KunK",
        "outputId": "113b64b5-c702-4e48-eded-419f95174cae"
      },
      "execution_count": 7,
      "outputs": [
        {
          "output_type": "execute_result",
          "data": {
            "text/plain": [
              "(1341026, 56)"
            ]
          },
          "metadata": {},
          "execution_count": 7
        }
      ]
    },
    {
      "cell_type": "code",
      "source": [
        "# These are constant columns. We can drop it either.\n",
        "\n",
        "cols_to_drop = ['out_prncp', 'out_prncp_inv', 'policy_code']\n",
        "df_accepted = df_accepted.drop(columns=cols_to_drop)\n",
        "df_accepted.shape"
      ],
      "metadata": {
        "colab": {
          "base_uri": "https://localhost:8080/"
        },
        "id": "HGUkk3rBK7s4",
        "outputId": "c7d4854e-c879-4efb-8be7-f13aa347cf3c"
      },
      "execution_count": 8,
      "outputs": [
        {
          "output_type": "execute_result",
          "data": {
            "text/plain": [
              "(1341026, 53)"
            ]
          },
          "metadata": {},
          "execution_count": 8
        }
      ]
    },
    {
      "cell_type": "code",
      "source": [
        "# It seems we have many \"duplicated\" information. Let's drop some columns, based on visual inspection at corr_pairs dataframe:\n",
        "\n",
        "cols_to_drop = ['fico_range_low', 'funded_amnt_inv', 'funded_amnt', 'total_pymnt_inv', 'total_pymnt', 'installment', 'collection_recovery_fee', 'total_rec_prncp', 'last_fico_range_low']\n",
        "df_accepted = df_accepted.drop(columns=cols_to_drop)\n",
        "df_accepted.shape"
      ],
      "metadata": {
        "colab": {
          "base_uri": "https://localhost:8080/"
        },
        "id": "k6Gp_sv5LHKx",
        "outputId": "7f4786d9-fa41-414d-9ff9-c9d71d78879f"
      },
      "execution_count": 9,
      "outputs": [
        {
          "output_type": "execute_result",
          "data": {
            "text/plain": [
              "(1341026, 44)"
            ]
          },
          "metadata": {},
          "execution_count": 9
        }
      ]
    },
    {
      "cell_type": "code",
      "source": [
        "values = df_accepted.loan_status.unique()\n",
        "encode = [1,0]\n",
        "d = dict(zip(values, encode))\n",
        "\n",
        "df_accepted['loan_paid'] = df_accepted['loan_status'].map(d)\n",
        "\n",
        "df_accepted = df_accepted.drop(columns=['loan_status'])\n"
      ],
      "metadata": {
        "id": "DlmXhnoWLLqu"
      },
      "execution_count": 10,
      "outputs": []
    },
    {
      "cell_type": "code",
      "source": [
        "df_accepted"
      ],
      "metadata": {
        "colab": {
          "base_uri": "https://localhost:8080/",
          "height": 661
        },
        "id": "kodDyF1YLYFD",
        "outputId": "44077073-73a8-47c8-ec47-a490cdbe814e"
      },
      "execution_count": 11,
      "outputs": [
        {
          "output_type": "execute_result",
          "data": {
            "text/plain": [
              "               id  loan_amnt        term  int_rate grade sub_grade  \\\n",
              "0        68407277     3600.0   36 months     13.99     C        C4   \n",
              "1        68355089    24700.0   36 months     11.99     C        C1   \n",
              "2        68341763    20000.0   60 months     10.78     B        B4   \n",
              "4        68476807    10400.0   60 months     22.45     F        F1   \n",
              "5        68426831    11950.0   36 months     13.44     C        C3   \n",
              "...           ...        ...         ...       ...   ...       ...   \n",
              "2260688  89905081    18000.0   60 months      9.49     B        B2   \n",
              "2260690  88948836    29400.0   60 months     13.99     C        C3   \n",
              "2260691  89996426    32000.0   60 months     14.49     C        C4   \n",
              "2260692  90006534    16000.0   60 months     12.79     C        C1   \n",
              "2260697  88224441    24000.0   60 months     14.49     C        C4   \n",
              "\n",
              "        home_ownership  annual_inc verification_status   issue_d  ...  \\\n",
              "0             MORTGAGE     55000.0        Not Verified  Dec-2015  ...   \n",
              "1             MORTGAGE     65000.0        Not Verified  Dec-2015  ...   \n",
              "2             MORTGAGE     63000.0        Not Verified  Dec-2015  ...   \n",
              "4             MORTGAGE    104433.0     Source Verified  Dec-2015  ...   \n",
              "5                 RENT     34000.0     Source Verified  Dec-2015  ...   \n",
              "...                ...         ...                 ...       ...  ...   \n",
              "2260688            OWN    130000.0        Not Verified  Oct-2016  ...   \n",
              "2260690       MORTGAGE    180792.0        Not Verified  Oct-2016  ...   \n",
              "2260691       MORTGAGE    157000.0     Source Verified  Oct-2016  ...   \n",
              "2260692           RENT    150000.0        Not Verified  Oct-2016  ...   \n",
              "2260697           RENT    110000.0        Not Verified  Oct-2016  ...   \n",
              "\n",
              "        application_type acc_now_delinq chargeoff_within_12_mths delinq_amnt  \\\n",
              "0             Individual            0.0                      0.0         0.0   \n",
              "1             Individual            0.0                      0.0         0.0   \n",
              "2              Joint App            0.0                      0.0         0.0   \n",
              "4             Individual            0.0                      0.0         0.0   \n",
              "5             Individual            0.0                      0.0         0.0   \n",
              "...                  ...            ...                      ...         ...   \n",
              "2260688       Individual            0.0                      0.0         0.0   \n",
              "2260690       Individual            0.0                      0.0         0.0   \n",
              "2260691       Individual            0.0                      0.0         0.0   \n",
              "2260692       Individual            0.0                      0.0         0.0   \n",
              "2260697       Individual            0.0                      0.0         0.0   \n",
              "\n",
              "        pub_rec_bankruptcies  tax_liens  hardship_flag disbursement_method  \\\n",
              "0                        0.0        0.0              N                Cash   \n",
              "1                        0.0        0.0              N                Cash   \n",
              "2                        0.0        0.0              N                Cash   \n",
              "4                        0.0        0.0              N                Cash   \n",
              "5                        0.0        0.0              N                Cash   \n",
              "...                      ...        ...            ...                 ...   \n",
              "2260688                  0.0        0.0              N                Cash   \n",
              "2260690                  0.0        0.0              N                Cash   \n",
              "2260691                  0.0        0.0              N                Cash   \n",
              "2260692                  3.0        0.0              N                Cash   \n",
              "2260697                  1.0        0.0              N                Cash   \n",
              "\n",
              "         debt_settlement_flag  loan_paid  \n",
              "0                           N          1  \n",
              "1                           N          1  \n",
              "2                           N          1  \n",
              "4                           N          1  \n",
              "5                           N          1  \n",
              "...                       ...        ...  \n",
              "2260688                     N          1  \n",
              "2260690                     N          1  \n",
              "2260691                     N          0  \n",
              "2260692                     N          1  \n",
              "2260697                     Y          0  \n",
              "\n",
              "[1341026 rows x 44 columns]"
            ],
            "text/html": [
              "\n",
              "  <div id=\"df-c13c66ab-e0d0-4830-8cfd-85f8e4bdb568\">\n",
              "    <div class=\"colab-df-container\">\n",
              "      <div>\n",
              "<style scoped>\n",
              "    .dataframe tbody tr th:only-of-type {\n",
              "        vertical-align: middle;\n",
              "    }\n",
              "\n",
              "    .dataframe tbody tr th {\n",
              "        vertical-align: top;\n",
              "    }\n",
              "\n",
              "    .dataframe thead th {\n",
              "        text-align: right;\n",
              "    }\n",
              "</style>\n",
              "<table border=\"1\" class=\"dataframe\">\n",
              "  <thead>\n",
              "    <tr style=\"text-align: right;\">\n",
              "      <th></th>\n",
              "      <th>id</th>\n",
              "      <th>loan_amnt</th>\n",
              "      <th>term</th>\n",
              "      <th>int_rate</th>\n",
              "      <th>grade</th>\n",
              "      <th>sub_grade</th>\n",
              "      <th>home_ownership</th>\n",
              "      <th>annual_inc</th>\n",
              "      <th>verification_status</th>\n",
              "      <th>issue_d</th>\n",
              "      <th>...</th>\n",
              "      <th>application_type</th>\n",
              "      <th>acc_now_delinq</th>\n",
              "      <th>chargeoff_within_12_mths</th>\n",
              "      <th>delinq_amnt</th>\n",
              "      <th>pub_rec_bankruptcies</th>\n",
              "      <th>tax_liens</th>\n",
              "      <th>hardship_flag</th>\n",
              "      <th>disbursement_method</th>\n",
              "      <th>debt_settlement_flag</th>\n",
              "      <th>loan_paid</th>\n",
              "    </tr>\n",
              "  </thead>\n",
              "  <tbody>\n",
              "    <tr>\n",
              "      <th>0</th>\n",
              "      <td>68407277</td>\n",
              "      <td>3600.0</td>\n",
              "      <td>36 months</td>\n",
              "      <td>13.99</td>\n",
              "      <td>C</td>\n",
              "      <td>C4</td>\n",
              "      <td>MORTGAGE</td>\n",
              "      <td>55000.0</td>\n",
              "      <td>Not Verified</td>\n",
              "      <td>Dec-2015</td>\n",
              "      <td>...</td>\n",
              "      <td>Individual</td>\n",
              "      <td>0.0</td>\n",
              "      <td>0.0</td>\n",
              "      <td>0.0</td>\n",
              "      <td>0.0</td>\n",
              "      <td>0.0</td>\n",
              "      <td>N</td>\n",
              "      <td>Cash</td>\n",
              "      <td>N</td>\n",
              "      <td>1</td>\n",
              "    </tr>\n",
              "    <tr>\n",
              "      <th>1</th>\n",
              "      <td>68355089</td>\n",
              "      <td>24700.0</td>\n",
              "      <td>36 months</td>\n",
              "      <td>11.99</td>\n",
              "      <td>C</td>\n",
              "      <td>C1</td>\n",
              "      <td>MORTGAGE</td>\n",
              "      <td>65000.0</td>\n",
              "      <td>Not Verified</td>\n",
              "      <td>Dec-2015</td>\n",
              "      <td>...</td>\n",
              "      <td>Individual</td>\n",
              "      <td>0.0</td>\n",
              "      <td>0.0</td>\n",
              "      <td>0.0</td>\n",
              "      <td>0.0</td>\n",
              "      <td>0.0</td>\n",
              "      <td>N</td>\n",
              "      <td>Cash</td>\n",
              "      <td>N</td>\n",
              "      <td>1</td>\n",
              "    </tr>\n",
              "    <tr>\n",
              "      <th>2</th>\n",
              "      <td>68341763</td>\n",
              "      <td>20000.0</td>\n",
              "      <td>60 months</td>\n",
              "      <td>10.78</td>\n",
              "      <td>B</td>\n",
              "      <td>B4</td>\n",
              "      <td>MORTGAGE</td>\n",
              "      <td>63000.0</td>\n",
              "      <td>Not Verified</td>\n",
              "      <td>Dec-2015</td>\n",
              "      <td>...</td>\n",
              "      <td>Joint App</td>\n",
              "      <td>0.0</td>\n",
              "      <td>0.0</td>\n",
              "      <td>0.0</td>\n",
              "      <td>0.0</td>\n",
              "      <td>0.0</td>\n",
              "      <td>N</td>\n",
              "      <td>Cash</td>\n",
              "      <td>N</td>\n",
              "      <td>1</td>\n",
              "    </tr>\n",
              "    <tr>\n",
              "      <th>4</th>\n",
              "      <td>68476807</td>\n",
              "      <td>10400.0</td>\n",
              "      <td>60 months</td>\n",
              "      <td>22.45</td>\n",
              "      <td>F</td>\n",
              "      <td>F1</td>\n",
              "      <td>MORTGAGE</td>\n",
              "      <td>104433.0</td>\n",
              "      <td>Source Verified</td>\n",
              "      <td>Dec-2015</td>\n",
              "      <td>...</td>\n",
              "      <td>Individual</td>\n",
              "      <td>0.0</td>\n",
              "      <td>0.0</td>\n",
              "      <td>0.0</td>\n",
              "      <td>0.0</td>\n",
              "      <td>0.0</td>\n",
              "      <td>N</td>\n",
              "      <td>Cash</td>\n",
              "      <td>N</td>\n",
              "      <td>1</td>\n",
              "    </tr>\n",
              "    <tr>\n",
              "      <th>5</th>\n",
              "      <td>68426831</td>\n",
              "      <td>11950.0</td>\n",
              "      <td>36 months</td>\n",
              "      <td>13.44</td>\n",
              "      <td>C</td>\n",
              "      <td>C3</td>\n",
              "      <td>RENT</td>\n",
              "      <td>34000.0</td>\n",
              "      <td>Source Verified</td>\n",
              "      <td>Dec-2015</td>\n",
              "      <td>...</td>\n",
              "      <td>Individual</td>\n",
              "      <td>0.0</td>\n",
              "      <td>0.0</td>\n",
              "      <td>0.0</td>\n",
              "      <td>0.0</td>\n",
              "      <td>0.0</td>\n",
              "      <td>N</td>\n",
              "      <td>Cash</td>\n",
              "      <td>N</td>\n",
              "      <td>1</td>\n",
              "    </tr>\n",
              "    <tr>\n",
              "      <th>...</th>\n",
              "      <td>...</td>\n",
              "      <td>...</td>\n",
              "      <td>...</td>\n",
              "      <td>...</td>\n",
              "      <td>...</td>\n",
              "      <td>...</td>\n",
              "      <td>...</td>\n",
              "      <td>...</td>\n",
              "      <td>...</td>\n",
              "      <td>...</td>\n",
              "      <td>...</td>\n",
              "      <td>...</td>\n",
              "      <td>...</td>\n",
              "      <td>...</td>\n",
              "      <td>...</td>\n",
              "      <td>...</td>\n",
              "      <td>...</td>\n",
              "      <td>...</td>\n",
              "      <td>...</td>\n",
              "      <td>...</td>\n",
              "      <td>...</td>\n",
              "    </tr>\n",
              "    <tr>\n",
              "      <th>2260688</th>\n",
              "      <td>89905081</td>\n",
              "      <td>18000.0</td>\n",
              "      <td>60 months</td>\n",
              "      <td>9.49</td>\n",
              "      <td>B</td>\n",
              "      <td>B2</td>\n",
              "      <td>OWN</td>\n",
              "      <td>130000.0</td>\n",
              "      <td>Not Verified</td>\n",
              "      <td>Oct-2016</td>\n",
              "      <td>...</td>\n",
              "      <td>Individual</td>\n",
              "      <td>0.0</td>\n",
              "      <td>0.0</td>\n",
              "      <td>0.0</td>\n",
              "      <td>0.0</td>\n",
              "      <td>0.0</td>\n",
              "      <td>N</td>\n",
              "      <td>Cash</td>\n",
              "      <td>N</td>\n",
              "      <td>1</td>\n",
              "    </tr>\n",
              "    <tr>\n",
              "      <th>2260690</th>\n",
              "      <td>88948836</td>\n",
              "      <td>29400.0</td>\n",
              "      <td>60 months</td>\n",
              "      <td>13.99</td>\n",
              "      <td>C</td>\n",
              "      <td>C3</td>\n",
              "      <td>MORTGAGE</td>\n",
              "      <td>180792.0</td>\n",
              "      <td>Not Verified</td>\n",
              "      <td>Oct-2016</td>\n",
              "      <td>...</td>\n",
              "      <td>Individual</td>\n",
              "      <td>0.0</td>\n",
              "      <td>0.0</td>\n",
              "      <td>0.0</td>\n",
              "      <td>0.0</td>\n",
              "      <td>0.0</td>\n",
              "      <td>N</td>\n",
              "      <td>Cash</td>\n",
              "      <td>N</td>\n",
              "      <td>1</td>\n",
              "    </tr>\n",
              "    <tr>\n",
              "      <th>2260691</th>\n",
              "      <td>89996426</td>\n",
              "      <td>32000.0</td>\n",
              "      <td>60 months</td>\n",
              "      <td>14.49</td>\n",
              "      <td>C</td>\n",
              "      <td>C4</td>\n",
              "      <td>MORTGAGE</td>\n",
              "      <td>157000.0</td>\n",
              "      <td>Source Verified</td>\n",
              "      <td>Oct-2016</td>\n",
              "      <td>...</td>\n",
              "      <td>Individual</td>\n",
              "      <td>0.0</td>\n",
              "      <td>0.0</td>\n",
              "      <td>0.0</td>\n",
              "      <td>0.0</td>\n",
              "      <td>0.0</td>\n",
              "      <td>N</td>\n",
              "      <td>Cash</td>\n",
              "      <td>N</td>\n",
              "      <td>0</td>\n",
              "    </tr>\n",
              "    <tr>\n",
              "      <th>2260692</th>\n",
              "      <td>90006534</td>\n",
              "      <td>16000.0</td>\n",
              "      <td>60 months</td>\n",
              "      <td>12.79</td>\n",
              "      <td>C</td>\n",
              "      <td>C1</td>\n",
              "      <td>RENT</td>\n",
              "      <td>150000.0</td>\n",
              "      <td>Not Verified</td>\n",
              "      <td>Oct-2016</td>\n",
              "      <td>...</td>\n",
              "      <td>Individual</td>\n",
              "      <td>0.0</td>\n",
              "      <td>0.0</td>\n",
              "      <td>0.0</td>\n",
              "      <td>3.0</td>\n",
              "      <td>0.0</td>\n",
              "      <td>N</td>\n",
              "      <td>Cash</td>\n",
              "      <td>N</td>\n",
              "      <td>1</td>\n",
              "    </tr>\n",
              "    <tr>\n",
              "      <th>2260697</th>\n",
              "      <td>88224441</td>\n",
              "      <td>24000.0</td>\n",
              "      <td>60 months</td>\n",
              "      <td>14.49</td>\n",
              "      <td>C</td>\n",
              "      <td>C4</td>\n",
              "      <td>RENT</td>\n",
              "      <td>110000.0</td>\n",
              "      <td>Not Verified</td>\n",
              "      <td>Oct-2016</td>\n",
              "      <td>...</td>\n",
              "      <td>Individual</td>\n",
              "      <td>0.0</td>\n",
              "      <td>0.0</td>\n",
              "      <td>0.0</td>\n",
              "      <td>1.0</td>\n",
              "      <td>0.0</td>\n",
              "      <td>N</td>\n",
              "      <td>Cash</td>\n",
              "      <td>Y</td>\n",
              "      <td>0</td>\n",
              "    </tr>\n",
              "  </tbody>\n",
              "</table>\n",
              "<p>1341026 rows × 44 columns</p>\n",
              "</div>\n",
              "      <button class=\"colab-df-convert\" onclick=\"convertToInteractive('df-c13c66ab-e0d0-4830-8cfd-85f8e4bdb568')\"\n",
              "              title=\"Convert this dataframe to an interactive table.\"\n",
              "              style=\"display:none;\">\n",
              "        \n",
              "  <svg xmlns=\"http://www.w3.org/2000/svg\" height=\"24px\"viewBox=\"0 0 24 24\"\n",
              "       width=\"24px\">\n",
              "    <path d=\"M0 0h24v24H0V0z\" fill=\"none\"/>\n",
              "    <path d=\"M18.56 5.44l.94 2.06.94-2.06 2.06-.94-2.06-.94-.94-2.06-.94 2.06-2.06.94zm-11 1L8.5 8.5l.94-2.06 2.06-.94-2.06-.94L8.5 2.5l-.94 2.06-2.06.94zm10 10l.94 2.06.94-2.06 2.06-.94-2.06-.94-.94-2.06-.94 2.06-2.06.94z\"/><path d=\"M17.41 7.96l-1.37-1.37c-.4-.4-.92-.59-1.43-.59-.52 0-1.04.2-1.43.59L10.3 9.45l-7.72 7.72c-.78.78-.78 2.05 0 2.83L4 21.41c.39.39.9.59 1.41.59.51 0 1.02-.2 1.41-.59l7.78-7.78 2.81-2.81c.8-.78.8-2.07 0-2.86zM5.41 20L4 18.59l7.72-7.72 1.47 1.35L5.41 20z\"/>\n",
              "  </svg>\n",
              "      </button>\n",
              "      \n",
              "  <style>\n",
              "    .colab-df-container {\n",
              "      display:flex;\n",
              "      flex-wrap:wrap;\n",
              "      gap: 12px;\n",
              "    }\n",
              "\n",
              "    .colab-df-convert {\n",
              "      background-color: #E8F0FE;\n",
              "      border: none;\n",
              "      border-radius: 50%;\n",
              "      cursor: pointer;\n",
              "      display: none;\n",
              "      fill: #1967D2;\n",
              "      height: 32px;\n",
              "      padding: 0 0 0 0;\n",
              "      width: 32px;\n",
              "    }\n",
              "\n",
              "    .colab-df-convert:hover {\n",
              "      background-color: #E2EBFA;\n",
              "      box-shadow: 0px 1px 2px rgba(60, 64, 67, 0.3), 0px 1px 3px 1px rgba(60, 64, 67, 0.15);\n",
              "      fill: #174EA6;\n",
              "    }\n",
              "\n",
              "    [theme=dark] .colab-df-convert {\n",
              "      background-color: #3B4455;\n",
              "      fill: #D2E3FC;\n",
              "    }\n",
              "\n",
              "    [theme=dark] .colab-df-convert:hover {\n",
              "      background-color: #434B5C;\n",
              "      box-shadow: 0px 1px 3px 1px rgba(0, 0, 0, 0.15);\n",
              "      filter: drop-shadow(0px 1px 2px rgba(0, 0, 0, 0.3));\n",
              "      fill: #FFFFFF;\n",
              "    }\n",
              "  </style>\n",
              "\n",
              "      <script>\n",
              "        const buttonEl =\n",
              "          document.querySelector('#df-c13c66ab-e0d0-4830-8cfd-85f8e4bdb568 button.colab-df-convert');\n",
              "        buttonEl.style.display =\n",
              "          google.colab.kernel.accessAllowed ? 'block' : 'none';\n",
              "\n",
              "        async function convertToInteractive(key) {\n",
              "          const element = document.querySelector('#df-c13c66ab-e0d0-4830-8cfd-85f8e4bdb568');\n",
              "          const dataTable =\n",
              "            await google.colab.kernel.invokeFunction('convertToInteractive',\n",
              "                                                     [key], {});\n",
              "          if (!dataTable) return;\n",
              "\n",
              "          const docLinkHtml = 'Like what you see? Visit the ' +\n",
              "            '<a target=\"_blank\" href=https://colab.research.google.com/notebooks/data_table.ipynb>data table notebook</a>'\n",
              "            + ' to learn more about interactive tables.';\n",
              "          element.innerHTML = '';\n",
              "          dataTable['output_type'] = 'display_data';\n",
              "          await google.colab.output.renderOutput(dataTable, element);\n",
              "          const docLink = document.createElement('div');\n",
              "          docLink.innerHTML = docLinkHtml;\n",
              "          element.appendChild(docLink);\n",
              "        }\n",
              "      </script>\n",
              "    </div>\n",
              "  </div>\n",
              "  "
            ]
          },
          "metadata": {},
          "execution_count": 11
        }
      ]
    },
    {
      "cell_type": "code",
      "source": [
        "# droping constant columns\n",
        "\n",
        "print(df_accepted.pymnt_plan.value_counts())\n",
        "print(df_accepted.hardship_flag.value_counts())\n",
        "\n",
        "cols_to_drop = ['id', 'pymnt_plan', 'hardship_flag']\n",
        "df_accepted = df_accepted.drop(columns=cols_to_drop)\n",
        "df_accepted.shape"
      ],
      "metadata": {
        "colab": {
          "base_uri": "https://localhost:8080/"
        },
        "id": "ICfFBT4fLfCj",
        "outputId": "0ab42576-e1d4-4eda-e809-80dfc64f23cc"
      },
      "execution_count": 12,
      "outputs": [
        {
          "output_type": "stream",
          "name": "stdout",
          "text": [
            "n    1341026\n",
            "Name: pymnt_plan, dtype: int64\n",
            "N    1341026\n",
            "Name: hardship_flag, dtype: int64\n"
          ]
        },
        {
          "output_type": "execute_result",
          "data": {
            "text/plain": [
              "(1341026, 41)"
            ]
          },
          "metadata": {},
          "execution_count": 12
        }
      ]
    },
    {
      "cell_type": "code",
      "source": [
        "cat_cols = df_accepted.select_dtypes(include=['object']).columns\n",
        "print(cat_cols)\n",
        "\n",
        "print(df_accepted.term.value_counts())\n",
        "\n",
        "# convert term into either a 36 or 60 integer numeric data type\n",
        "\n",
        "l1 = df_accepted.term.unique()\n",
        "l2 = [36, 60]\n",
        "d = dict(zip(l1, l2))\n",
        "\n",
        "df_accepted['term'] = df_accepted['term'].map(d)\n",
        "\n",
        "# as grade is part of sub_grade, so let's just drop the grade feature.\n",
        "\n",
        "df_accepted = df_accepted.drop(columns='grade')\n",
        "\n",
        "df_accepted = pd.get_dummies(df_accepted, columns = ['sub_grade'], prefix='', prefix_sep='', drop_first=True)\n",
        "\n",
        "cat_cols = df_accepted.select_dtypes(include=['object']).columns\n",
        "print(cat_cols)\n",
        "\n",
        "# for these columns, let's just create dummy variables, concatenate them with the original dataframe and drop original columns.\n",
        "\n",
        "df_accepted = pd.get_dummies(df_accepted, columns = ['verification_status'], prefix='', prefix_sep='', drop_first=True)\n",
        "df_accepted = pd.get_dummies(df_accepted, columns = ['application_type'], prefix='', prefix_sep='', drop_first=True)\n",
        "df_accepted = pd.get_dummies(df_accepted, columns = ['initial_list_status'], prefix='', prefix_sep='', drop_first=True)\n",
        "df_accepted = pd.get_dummies(df_accepted, columns = ['purpose'], prefix='', prefix_sep='', drop_first=True)"
      ],
      "metadata": {
        "colab": {
          "base_uri": "https://localhost:8080/"
        },
        "id": "08s4i8w-LkG3",
        "outputId": "673dc8ef-329a-466b-f994-1eef8b549497"
      },
      "execution_count": 13,
      "outputs": [
        {
          "output_type": "stream",
          "name": "stdout",
          "text": [
            "Index(['term', 'grade', 'sub_grade', 'home_ownership', 'verification_status',\n",
            "       'issue_d', 'url', 'purpose', 'zip_code', 'addr_state',\n",
            "       'earliest_cr_line', 'initial_list_status', 'last_pymnt_d',\n",
            "       'last_credit_pull_d', 'application_type', 'disbursement_method',\n",
            "       'debt_settlement_flag'],\n",
            "      dtype='object')\n",
            " 36 months    1017398\n",
            " 60 months     323628\n",
            "Name: term, dtype: int64\n",
            "Index(['home_ownership', 'verification_status', 'issue_d', 'url', 'purpose',\n",
            "       'zip_code', 'addr_state', 'earliest_cr_line', 'initial_list_status',\n",
            "       'last_pymnt_d', 'last_credit_pull_d', 'application_type',\n",
            "       'disbursement_method', 'debt_settlement_flag'],\n",
            "      dtype='object')\n"
          ]
        }
      ]
    },
    {
      "cell_type": "code",
      "source": [
        "df_accepted.shape"
      ],
      "metadata": {
        "colab": {
          "base_uri": "https://localhost:8080/"
        },
        "id": "rQGED8QzL0Wn",
        "outputId": "deffe8b9-fd14-4024-c194-1b461c02c65a"
      },
      "execution_count": 14,
      "outputs": [
        {
          "output_type": "execute_result",
          "data": {
            "text/plain": [
              "(1341026, 86)"
            ]
          },
          "metadata": {},
          "execution_count": 14
        }
      ]
    },
    {
      "cell_type": "code",
      "source": [
        "df_accepted['home_ownership'] = df_accepted.home_ownership.replace('NONE', 'ANY')\n",
        "df_accepted = pd.get_dummies(df_accepted, columns = ['home_ownership'], prefix='', prefix_sep='', drop_first=True)\n",
        "df_accepted = df_accepted.drop(columns=[ 'url', 'last_pymnt_d', 'last_credit_pull_d'])\n",
        "df_accepted = df_accepted.drop(columns=['zip_code', 'addr_state'])\n",
        "df_accepted = pd.get_dummies(df_accepted, columns = ['disbursement_method'], prefix='', prefix_sep='', drop_first=True)\n",
        "df_accepted = pd.get_dummies(df_accepted, columns = ['debt_settlement_flag'], prefix='', prefix_sep='', drop_first=True)\n",
        "df_accepted = df_accepted.drop(columns=['earliest_cr_line'])\n",
        "df_accepted.shape"
      ],
      "metadata": {
        "colab": {
          "base_uri": "https://localhost:8080/"
        },
        "id": "MQklV-_8L9qf",
        "outputId": "90d4a154-924b-4b5b-8fee-08db6670fd0e"
      },
      "execution_count": 15,
      "outputs": [
        {
          "output_type": "execute_result",
          "data": {
            "text/plain": [
              "(1341026, 83)"
            ]
          },
          "metadata": {},
          "execution_count": 15
        }
      ]
    },
    {
      "cell_type": "code",
      "source": [
        "df_accepted['issue_d'] = df_accepted['issue_d'].str.replace('Jan','01')\n",
        "df_accepted['issue_d'] = df_accepted['issue_d'].str.replace('Feb','02')\n",
        "df_accepted['issue_d'] = df_accepted['issue_d'].str.replace('Mar','03')\n",
        "df_accepted['issue_d'] = df_accepted['issue_d'].str.replace('Apr','04')\n",
        "df_accepted['issue_d'] = df_accepted['issue_d'].str.replace('May','05')\n",
        "df_accepted['issue_d'] = df_accepted['issue_d'].str.replace('Jun','06')\n",
        "df_accepted['issue_d'] = df_accepted['issue_d'].str.replace('Jul','07')\n",
        "df_accepted['issue_d'] = df_accepted['issue_d'].str.replace('Aug','08')\n",
        "df_accepted['issue_d'] = df_accepted['issue_d'].str.replace('Sep','09')\n",
        "df_accepted['issue_d'] = df_accepted['issue_d'].str.replace('Oct','10')\n",
        "df_accepted['issue_d'] = df_accepted['issue_d'].str.replace('Dec','11')\n",
        "df_accepted['issue_d'] = df_accepted['issue_d'].str.replace('Nov','12')"
      ],
      "metadata": {
        "id": "lNSDpsRZMNOw"
      },
      "execution_count": 16,
      "outputs": []
    },
    {
      "cell_type": "code",
      "source": [
        "def reorder_issue_d(dt):\n",
        "    a = dt.split('-')\n",
        "    return a[1]+a[0]\n",
        "\n",
        "reorder_issue_d('01-2009')"
      ],
      "metadata": {
        "colab": {
          "base_uri": "https://localhost:8080/",
          "height": 35
        },
        "id": "aEzn-q3dMOJv",
        "outputId": "087fd245-6097-4402-b7e5-d1c8a7260231"
      },
      "execution_count": 17,
      "outputs": [
        {
          "output_type": "execute_result",
          "data": {
            "text/plain": [
              "'200901'"
            ],
            "application/vnd.google.colaboratory.intrinsic+json": {
              "type": "string"
            }
          },
          "metadata": {},
          "execution_count": 17
        }
      ]
    },
    {
      "cell_type": "code",
      "source": [
        " df_accepted['issue_d'] = df_accepted['issue_d'].apply(reorder_issue_d)\n",
        " df_accepted = df_accepted.sort_values(by='issue_d')\n",
        " df_accepted.reset_index(drop=True, inplace=True)"
      ],
      "metadata": {
        "id": "NTOD2T4MMTA1"
      },
      "execution_count": null,
      "outputs": []
    },
    {
      "cell_type": "markdown",
      "source": [
        "### dataset 만들기"
      ],
      "metadata": {
        "id": "88jAnxoUMpsJ"
      }
    },
    {
      "cell_type": "code",
      "source": [
        "X = {}\n",
        "Y = {}"
      ],
      "metadata": {
        "id": "V4squN4zMnph"
      },
      "execution_count": 20,
      "outputs": []
    },
    {
      "cell_type": "code",
      "source": [
        "# sampling data\n",
        "\n",
        "# df = df_accepted.sample(frac=0.8,random_state=42)\n",
        "# print(len(df))\n",
        "\n",
        "df = df_accepted[df_accepted['issue_d'].str.startswith('2007') + df_accepted['issue_d'].str.startswith('2008') + df_accepted['issue_d'].str.startswith('2009')].copy()\n",
        "df = df.drop(columns=['issue_d'])\n"
      ],
      "metadata": {
        "colab": {
          "base_uri": "https://localhost:8080/"
        },
        "id": "-XgRM0yLMtz7",
        "outputId": "fcc93c68-dac5-4613-d13a-08446cc40635"
      },
      "execution_count": 21,
      "outputs": [
        {
          "output_type": "stream",
          "name": "stderr",
          "text": [
            "/usr/local/lib/python3.7/dist-packages/pandas/core/computation/expressions.py:215: UserWarning: evaluating in Python space because the '+' operator is not supported by numexpr for the bool dtype, use '|' instead\n",
            "  f\"evaluating in Python space because the {repr(op_str)} \"\n"
          ]
        }
      ]
    },
    {
      "cell_type": "code",
      "source": [
        "X[2009] = df.loc[:, df.columns != 'loan_paid'].values\n",
        "Y[2009] = df.loan_paid.values"
      ],
      "metadata": {
        "id": "9bRfAIU_Mx0u"
      },
      "execution_count": 22,
      "outputs": []
    },
    {
      "cell_type": "code",
      "source": [
        "for year in range(2010,2019):\n",
        "    print(year)\n",
        "    df = df_accepted[df_accepted['issue_d'].str.startswith(str(year))].copy()\n",
        "    df = df.drop(columns=['issue_d'])\n",
        "    X[year] = df.loc[:, df.columns != 'loan_paid'].values\n",
        "    Y[year] = df.loan_paid.values"
      ],
      "metadata": {
        "colab": {
          "base_uri": "https://localhost:8080/"
        },
        "id": "9ISfkOAIMz4N",
        "outputId": "a6756b76-a673-44dd-aad5-c12a9db36b61"
      },
      "execution_count": 23,
      "outputs": [
        {
          "output_type": "stream",
          "name": "stdout",
          "text": [
            "2010\n",
            "2011\n",
            "2012\n",
            "2013\n",
            "2014\n",
            "2015\n",
            "2016\n",
            "2017\n",
            "2018\n"
          ]
        }
      ]
    },
    {
      "cell_type": "code",
      "source": [
        "X[2010].shape"
      ],
      "metadata": {
        "colab": {
          "base_uri": "https://localhost:8080/"
        },
        "id": "aN_hvbEeM4TJ",
        "outputId": "dea52fe7-3e16-4251-bd80-af4abb210110"
      },
      "execution_count": 24,
      "outputs": [
        {
          "output_type": "execute_result",
          "data": {
            "text/plain": [
              "(11497, 81)"
            ]
          },
          "metadata": {},
          "execution_count": 24
        }
      ]
    },
    {
      "cell_type": "markdown",
      "source": [
        "# 예측 모델 준비"
      ],
      "metadata": {
        "id": "wjmcjPU-NuDB"
      }
    },
    {
      "cell_type": "markdown",
      "source": [
        "## deep learning 모델"
      ],
      "metadata": {
        "id": "bEC31_WYM-ck"
      }
    },
    {
      "cell_type": "code",
      "source": [
        "import os.path \n",
        "\n",
        "def build_model_dl(year,x,y,epochs=5):\n",
        "    #X_train, X_test, y_train, y_test = train_test_split(X[year], Y[year], test_size=0.2, random_state=42)\n",
        "    X_train= scaler.fit_transform(x)\n",
        "    #X_test = scaler.transform(X_test)\n",
        "    y_train = get_one_hot(y,2)\n",
        "\n",
        "    # building the model\n",
        "    model = Sequential()\n",
        "    model.add(Dense(units=78,activation='relu'))\n",
        "    model.add(Dense(units=39,activation='relu'))\n",
        "    model.add(Dense(units=19,activation='relu'))\n",
        "    model.add(Dense(units=8,activation='relu'))\n",
        "    model.add(Dense(units=4,activation='relu'))\n",
        "    model.add(Dense(units=2,activation='softmax'))\n",
        "    model.compile(loss='binary_crossentropy', optimizer='adam', metrics=['accuracy'])\n",
        "    weight_path = '/content/drive/MyDrive/Drift/model/ml_'+str(year)\n",
        "    if os.path.exists(weight_path+'.index'):\n",
        "        model.load_weights(weight_path)\n",
        "        print('load weights from ',weight_path)\n",
        "    else:\n",
        "        model.fit(x=X_train, \n",
        "                y=y_train, \n",
        "                epochs=epochs,\n",
        "                batch_size=512,\n",
        "                verbose=1)\n",
        "            #validation_data=(X_test, y_test), verbose=1)\n",
        "        if year > 2000:\n",
        "            model.save_weights(weight_path) \n",
        "            print('save weights to ',weight_path)\n",
        "    return model"
      ],
      "metadata": {
        "id": "5hB5i-1mNBcK"
      },
      "execution_count": null,
      "outputs": []
    },
    {
      "cell_type": "markdown",
      "source": [
        "## random forest 모델"
      ],
      "metadata": {
        "id": "3OXxRO7DNFnp"
      }
    },
    {
      "cell_type": "code",
      "source": [
        "ML = {}\n",
        "scaler = MinMaxScaler()"
      ],
      "metadata": {
        "id": "qmokceqJNIv7"
      },
      "execution_count": 25,
      "outputs": []
    },
    {
      "cell_type": "code",
      "source": [
        "def get_one_hot(targets, nb_classes):\n",
        "    res = np.eye(nb_classes)[np.array(targets).reshape(-1)]\n",
        "    return res.reshape(list(targets.shape)+[nb_classes])"
      ],
      "metadata": {
        "id": "_aLKnDwtNL8s"
      },
      "execution_count": 26,
      "outputs": []
    },
    {
      "cell_type": "code",
      "source": [
        "MODEL_TYPE = 'RF'  ## RF / DL"
      ],
      "metadata": {
        "id": "QNTP6gUzNPwN"
      },
      "execution_count": 27,
      "outputs": []
    },
    {
      "cell_type": "code",
      "source": [
        "from sklearn.ensemble import RandomForestClassifier\n",
        "\n",
        "def build_model_rf(year,x,y,epochs=5):\n",
        "    X_train= scaler.fit_transform(x)\n",
        "    y_train = y #get_one_hot(y,2)\n",
        "    model = RandomForestClassifier(n_estimators=80,max_depth=5)\n",
        "    model.fit(X_train,y_train)\n",
        "    return model"
      ],
      "metadata": {
        "id": "KJBtx9J2NQe4"
      },
      "execution_count": 28,
      "outputs": []
    },
    {
      "cell_type": "markdown",
      "source": [
        "# 실험"
      ],
      "metadata": {
        "id": "r1XIuhYXNa2Z"
      }
    },
    {
      "cell_type": "markdown",
      "source": [
        "## PPM1, random_forest"
      ],
      "metadata": {
        "id": "_vpmYcsXOEAK"
      }
    },
    {
      "cell_type": "code",
      "source": [
        "y_ref, y_inf, x_ref, x_inf = train_test_split(Y[2010], X[2010], test_size=0.30, random_state=23543)"
      ],
      "metadata": {
        "id": "kRvoFv1MNWkL"
      },
      "execution_count": 29,
      "outputs": []
    },
    {
      "cell_type": "code",
      "source": [
        "ML[2010] = build_model_rf(year,x_ref,y_ref,epochs=5)"
      ],
      "metadata": {
        "id": "jld9FUMIN5xn"
      },
      "execution_count": 30,
      "outputs": []
    },
    {
      "cell_type": "code",
      "source": [
        "from sklearn.metrics import f1_score\n",
        "from sklearn.metrics import precision_recall_fscore_support\n",
        "\n",
        "base_score = precision_recall_fscore_support(y_inf,ML[2010].predict(scaler.transform(x_inf)),average='binary')"
      ],
      "metadata": {
        "id": "XouZX2b-OMGm"
      },
      "execution_count": 31,
      "outputs": []
    },
    {
      "cell_type": "markdown",
      "source": [
        "Kolmogorov–Smirnov test 에 의한 concept drift statistics 축정"
      ],
      "metadata": {
        "id": "kq2T-nlOOavk"
      }
    },
    {
      "cell_type": "code",
      "source": [
        "# \n",
        "\n",
        "from scipy.stats import ks_2samp, kstest\n",
        "\n",
        "def ks_drift(ref_x,inf_x):\n",
        "    x_drift = np.zeros((ref_x.shape[1],2))\n",
        "    for i in range(ref_x.shape[1]):\n",
        "        s, p = ks_2samp(ref_x[:,i],inf_x[:,i],mode='asymp')\n",
        "        #s, p = ks_2samp2(ref_x[:,i],inf_x[:,i])\n",
        "        x_drift[i,0] = s\n",
        "        x_drift[i,1] = p\n",
        "    return x_drift"
      ],
      "metadata": {
        "id": "2tHn5hdQOS3G"
      },
      "execution_count": 32,
      "outputs": []
    },
    {
      "cell_type": "code",
      "source": [
        "base_drift = ks_drift(x_ref, x_inf)"
      ],
      "metadata": {
        "id": "sCzNuwVfOkGq"
      },
      "execution_count": 33,
      "outputs": []
    },
    {
      "cell_type": "code",
      "source": [
        "base_drift"
      ],
      "metadata": {
        "id": "MQqtAzquOk8S"
      },
      "execution_count": null,
      "outputs": []
    },
    {
      "cell_type": "markdown",
      "source": [
        "dataset에서의 Sampling "
      ],
      "metadata": {
        "id": "JmmAMy9iOrNW"
      }
    },
    {
      "cell_type": "code",
      "source": [
        "from sklearn.model_selection import train_test_split\n",
        "\n",
        "def drift_sampling(predict,trainsize=0.10,epoch = 100):\n",
        "    metric_a= []\n",
        "    metric_b= []\n",
        "    metric_c= []\n",
        "    drift_data_ks_stats = []\n",
        "    drift_data_ks_pvals = []\n",
        "    drift_data_ks_stats_diff = []\n",
        "    drift_data_ks_pvals_diff = []     \n",
        "    for i in range(epoch):\n",
        "        #y_ref_d, _, x_ref_d, _ = train_test_split(y_ref, x_ref, train_size=0.10, random_state=i)\n",
        "        y_inf_d, _, x_inf_d, _ = train_test_split(y_inf, x_inf, train_size=trainsize, random_state=i*2)\n",
        "        acc = precision_recall_fscore_support(y_inf_d, predict(scaler.transform(x_inf_d)),average='binary')\n",
        "        if base_score[0] > acc[0]:\n",
        "            x_drift = ks_drift(x_ref, x_inf_d)\n",
        "            sumd = np.sum(x_drift[:,0])\n",
        "            sump = np.sum(x_drift[:,1])\n",
        "            print(f\"\\r{i+1}/{epoch} acc:{acc[0]:.4f} {acc[1]:.4f} {acc[2]:.4f} sum:{sumd:.4f} {sump:.4f} shape:{x_ref.shape}\", end=\"\", flush=True)\n",
        "            metric_a.append([abs(base_score[0] - acc[0]),abs(base_score[1] - acc[1]),abs(base_score[2] - acc[2])])\n",
        "            metric_b.append([(base_score[0] - acc[0]),(base_score[1] - acc[1]),(base_score[2] - acc[2])])\n",
        "            metric_c.append([acc[0],acc[1],acc[2]])\n",
        "            drift_data_ks_stats.append(x_drift[:,0])\n",
        "            drift_data_ks_pvals.append(x_drift[:,1])   \n",
        "            drift_data_ks_stats_diff.append(base_drift[:,0] - x_drift[:,0])\n",
        "            drift_data_ks_pvals_diff.append(base_drift[:,1] - x_drift[:,1]) \n",
        "\n",
        "    metric_a = np.asarray(metric_a)\n",
        "    metric_b = np.asarray(metric_b)\n",
        "    metric_c = np.asarray(metric_c)        \n",
        "    drift_data_ks_stats = np.asarray(drift_data_ks_stats)\n",
        "    drift_data_ks_pvals = np.asarray(drift_data_ks_pvals)    \n",
        "    drift_data_ks_stats_diff = np.asarray(drift_data_ks_stats_diff)\n",
        "    drift_data_ks_pvals_diff = np.asarray(drift_data_ks_pvals_diff)  \n",
        "\n",
        "    return  metric_a,metric_b,metric_c,drift_data_ks_stats,drift_data_ks_pvals,drift_data_ks_stats_diff,drift_data_ks_pvals_diff,y_ref.shape[0]\n"
      ],
      "metadata": {
        "id": "6EPigtUMOnnP"
      },
      "execution_count": 41,
      "outputs": []
    },
    {
      "cell_type": "markdown",
      "source": [
        "split_ratio = 0.1 "
      ],
      "metadata": {
        "id": "NB59JkkBP5Zp"
      }
    },
    {
      "cell_type": "code",
      "source": [
        "metric_a,metric_b,metric_c,drift_data_ks_stats,drift_data_ks_pvals,drift_data_ks_stats_diff,drift_data_ks_pvals_diff,length = drift_sampling(ML[2010].predict,trainsize=0.10, epoch = 6000)"
      ],
      "metadata": {
        "colab": {
          "base_uri": "https://localhost:8080/"
        },
        "id": "NgKiHw1hPAaC",
        "outputId": "c78839bc-69de-4db8-a714-d129c956b159"
      },
      "execution_count": 42,
      "outputs": [
        {
          "output_type": "stream",
          "name": "stdout",
          "text": [
            "6000/6000 acc:0.9708 1.0000 0.9852 sum:1.0336 74.6140 shape:(8047, 81)"
          ]
        }
      ]
    },
    {
      "cell_type": "code",
      "source": [
        "drift_data_ks_stats_diff.shape"
      ],
      "metadata": {
        "colab": {
          "base_uri": "https://localhost:8080/"
        },
        "id": "aW0AexzAPi25",
        "outputId": "653000e2-c042-45b3-a448-2cd633714e95"
      },
      "execution_count": 43,
      "outputs": [
        {
          "output_type": "execute_result",
          "data": {
            "text/plain": [
              "(3032, 81)"
            ]
          },
          "metadata": {},
          "execution_count": 43
        }
      ]
    },
    {
      "cell_type": "markdown",
      "source": [
        "performance predict model"
      ],
      "metadata": {
        "id": "2Pf5TRe0PpRJ"
      }
    },
    {
      "cell_type": "code",
      "source": [
        "import tensorflow as tf\n",
        "from tensorflow.keras import layers\n",
        "import pandas as pd\n",
        "import numpy as np\n",
        "from tensorflow.keras import datasets, layers, models, optimizers\n",
        "from tensorflow.keras.utils import to_categorical"
      ],
      "metadata": {
        "id": "Hf3gGXWrPrx6"
      },
      "execution_count": 44,
      "outputs": []
    },
    {
      "cell_type": "code",
      "source": [
        "from keras import backend as K\n",
        "\n",
        "\n",
        "def r2(y_true, y_pred):\n",
        "    \"\"\"\n",
        "    # custom R2-score metrics for keras backend\n",
        "    :param y_true: 실측 데이터\n",
        "    :param y_pred: 모델에 의한 예측 데이테\n",
        "    :return: R^2 value, 이 값이 높다고 (예:0.99)해서 예측 값이 정확 하다고 할 수 는 없음...\n",
        "    \"\"\"\n",
        "    SS_res = K.sum(K.square(y_true - y_pred))\n",
        "    SS_tot = K.sum(K.square(y_true - K.mean(y_true)))\n",
        "    return (1 - SS_res / (SS_tot + K.epsilon()))"
      ],
      "metadata": {
        "id": "0yfQQyBRPti6"
      },
      "execution_count": 45,
      "outputs": []
    },
    {
      "cell_type": "code",
      "source": [
        "model_c = tf.keras.Sequential([\n",
        "    tf.keras.layers.Dense(81, activation='relu'),\n",
        "    #tf.keras.layers.LayerNormalization(),\n",
        "    tf.keras.layers.Dense(81*2, activation='relu'),\n",
        "    #tf.keras.layers.LayerNormalization(),\n",
        "    #tf.keras.layers.Dense(10, activation='relu'),\n",
        "    #tf.keras.layers.LayerNormalization(),\n",
        "    tf.keras.layers.Dense(3)\n",
        "  ])\n",
        "opt = optimizers.Adam(learning_rate=0.00001)\n",
        "model_c.compile(optimizer=opt,\n",
        "              loss='mse',\n",
        "              metrics=[r2])"
      ],
      "metadata": {
        "id": "_gi_VT19Pvg2"
      },
      "execution_count": 46,
      "outputs": []
    },
    {
      "cell_type": "code",
      "source": [
        "model_c.fit(drift_data_ks_stats, metric_c, validation_split=0.2, batch_size=50, epochs=200)"
      ],
      "metadata": {
        "colab": {
          "base_uri": "https://localhost:8080/"
        },
        "id": "QBhDTTZMPyIm",
        "outputId": "341cc553-3d9c-4992-f32d-cbd55a623051"
      },
      "execution_count": 49,
      "outputs": [
        {
          "output_type": "stream",
          "name": "stdout",
          "text": [
            "Epoch 1/200\n",
            "49/49 [==============================] - 0s 4ms/step - loss: 7.4436e-06 - r2: 0.8633 - val_loss: 7.7219e-06 - val_r2: 0.8525\n",
            "Epoch 2/200\n",
            "49/49 [==============================] - 0s 3ms/step - loss: 7.4134e-06 - r2: 0.8643 - val_loss: 8.0161e-06 - val_r2: 0.8483\n",
            "Epoch 3/200\n",
            "49/49 [==============================] - 0s 3ms/step - loss: 7.4007e-06 - r2: 0.8649 - val_loss: 7.6390e-06 - val_r2: 0.8542\n",
            "Epoch 4/200\n",
            "49/49 [==============================] - 0s 3ms/step - loss: 7.4316e-06 - r2: 0.8640 - val_loss: 7.6582e-06 - val_r2: 0.8534\n",
            "Epoch 5/200\n",
            "49/49 [==============================] - 0s 5ms/step - loss: 7.3923e-06 - r2: 0.8655 - val_loss: 7.6893e-06 - val_r2: 0.8528\n",
            "Epoch 6/200\n",
            "49/49 [==============================] - 0s 5ms/step - loss: 7.4274e-06 - r2: 0.8639 - val_loss: 7.6803e-06 - val_r2: 0.8535\n",
            "Epoch 7/200\n",
            "49/49 [==============================] - 0s 4ms/step - loss: 7.3955e-06 - r2: 0.8651 - val_loss: 7.6423e-06 - val_r2: 0.8538\n",
            "Epoch 8/200\n",
            "49/49 [==============================] - 0s 5ms/step - loss: 7.4263e-06 - r2: 0.8643 - val_loss: 7.6933e-06 - val_r2: 0.8537\n",
            "Epoch 9/200\n",
            "49/49 [==============================] - 0s 4ms/step - loss: 7.4172e-06 - r2: 0.8648 - val_loss: 7.6679e-06 - val_r2: 0.8540\n",
            "Epoch 10/200\n",
            "49/49 [==============================] - 0s 3ms/step - loss: 7.4245e-06 - r2: 0.8650 - val_loss: 8.0739e-06 - val_r2: 0.8475\n",
            "Epoch 11/200\n",
            "49/49 [==============================] - 0s 3ms/step - loss: 7.4102e-06 - r2: 0.8642 - val_loss: 7.6922e-06 - val_r2: 0.8526\n",
            "Epoch 12/200\n",
            "49/49 [==============================] - 0s 3ms/step - loss: 7.3973e-06 - r2: 0.8647 - val_loss: 7.7051e-06 - val_r2: 0.8522\n",
            "Epoch 13/200\n",
            "49/49 [==============================] - 0s 3ms/step - loss: 7.3587e-06 - r2: 0.8651 - val_loss: 7.7345e-06 - val_r2: 0.8527\n",
            "Epoch 14/200\n",
            "49/49 [==============================] - 0s 3ms/step - loss: 7.3429e-06 - r2: 0.8658 - val_loss: 7.9840e-06 - val_r2: 0.8490\n",
            "Epoch 15/200\n",
            "49/49 [==============================] - 0s 3ms/step - loss: 7.3612e-06 - r2: 0.8649 - val_loss: 7.6223e-06 - val_r2: 0.8545\n",
            "Epoch 16/200\n",
            "49/49 [==============================] - 0s 3ms/step - loss: 7.2921e-06 - r2: 0.8671 - val_loss: 7.6761e-06 - val_r2: 0.8541\n",
            "Epoch 17/200\n",
            "49/49 [==============================] - 0s 3ms/step - loss: 7.3076e-06 - r2: 0.8657 - val_loss: 7.6135e-06 - val_r2: 0.8544\n",
            "Epoch 18/200\n",
            "49/49 [==============================] - 0s 3ms/step - loss: 7.4181e-06 - r2: 0.8644 - val_loss: 7.6209e-06 - val_r2: 0.8550\n",
            "Epoch 19/200\n",
            "49/49 [==============================] - 0s 3ms/step - loss: 7.2988e-06 - r2: 0.8666 - val_loss: 7.5891e-06 - val_r2: 0.8554\n",
            "Epoch 20/200\n",
            "49/49 [==============================] - 0s 3ms/step - loss: 7.3149e-06 - r2: 0.8661 - val_loss: 7.6699e-06 - val_r2: 0.8542\n",
            "Epoch 21/200\n",
            "49/49 [==============================] - 0s 3ms/step - loss: 7.3257e-06 - r2: 0.8669 - val_loss: 7.6106e-06 - val_r2: 0.8543\n",
            "Epoch 22/200\n",
            "49/49 [==============================] - 0s 3ms/step - loss: 7.3903e-06 - r2: 0.8647 - val_loss: 7.7413e-06 - val_r2: 0.8531\n",
            "Epoch 23/200\n",
            "49/49 [==============================] - 0s 3ms/step - loss: 7.3527e-06 - r2: 0.8665 - val_loss: 7.5995e-06 - val_r2: 0.8554\n",
            "Epoch 24/200\n",
            "49/49 [==============================] - 0s 3ms/step - loss: 7.3510e-06 - r2: 0.8660 - val_loss: 7.8791e-06 - val_r2: 0.8495\n",
            "Epoch 25/200\n",
            "49/49 [==============================] - 0s 3ms/step - loss: 7.4251e-06 - r2: 0.8647 - val_loss: 7.5850e-06 - val_r2: 0.8554\n",
            "Epoch 26/200\n",
            "49/49 [==============================] - 0s 3ms/step - loss: 7.3045e-06 - r2: 0.8664 - val_loss: 7.6509e-06 - val_r2: 0.8542\n",
            "Epoch 27/200\n",
            "49/49 [==============================] - 0s 3ms/step - loss: 7.3024e-06 - r2: 0.8666 - val_loss: 7.7469e-06 - val_r2: 0.8531\n",
            "Epoch 28/200\n",
            "49/49 [==============================] - 0s 3ms/step - loss: 7.2598e-06 - r2: 0.8670 - val_loss: 7.6493e-06 - val_r2: 0.8548\n",
            "Epoch 29/200\n",
            "49/49 [==============================] - 0s 3ms/step - loss: 7.2915e-06 - r2: 0.8667 - val_loss: 7.6276e-06 - val_r2: 0.8547\n",
            "Epoch 30/200\n",
            "49/49 [==============================] - 0s 3ms/step - loss: 7.2460e-06 - r2: 0.8679 - val_loss: 7.5408e-06 - val_r2: 0.8561\n",
            "Epoch 31/200\n",
            "49/49 [==============================] - 0s 3ms/step - loss: 7.3540e-06 - r2: 0.8658 - val_loss: 7.5625e-06 - val_r2: 0.8561\n",
            "Epoch 32/200\n",
            "49/49 [==============================] - 0s 3ms/step - loss: 7.2963e-06 - r2: 0.8664 - val_loss: 7.6226e-06 - val_r2: 0.8552\n",
            "Epoch 33/200\n",
            "49/49 [==============================] - 0s 3ms/step - loss: 7.2502e-06 - r2: 0.8678 - val_loss: 7.5579e-06 - val_r2: 0.8562\n",
            "Epoch 34/200\n",
            "49/49 [==============================] - 0s 3ms/step - loss: 7.2856e-06 - r2: 0.8661 - val_loss: 7.6422e-06 - val_r2: 0.8550\n",
            "Epoch 35/200\n",
            "49/49 [==============================] - 0s 3ms/step - loss: 7.2925e-06 - r2: 0.8672 - val_loss: 7.6395e-06 - val_r2: 0.8545\n",
            "Epoch 36/200\n",
            "49/49 [==============================] - 0s 3ms/step - loss: 7.3603e-06 - r2: 0.8655 - val_loss: 7.5401e-06 - val_r2: 0.8565\n",
            "Epoch 37/200\n",
            "49/49 [==============================] - 0s 3ms/step - loss: 7.3039e-06 - r2: 0.8661 - val_loss: 7.8703e-06 - val_r2: 0.8512\n",
            "Epoch 38/200\n",
            "49/49 [==============================] - 0s 3ms/step - loss: 7.2742e-06 - r2: 0.8677 - val_loss: 7.5381e-06 - val_r2: 0.8565\n",
            "Epoch 39/200\n",
            "49/49 [==============================] - 0s 3ms/step - loss: 7.2658e-06 - r2: 0.8663 - val_loss: 7.5650e-06 - val_r2: 0.8561\n",
            "Epoch 40/200\n",
            "49/49 [==============================] - 0s 3ms/step - loss: 7.2467e-06 - r2: 0.8673 - val_loss: 7.6636e-06 - val_r2: 0.8546\n",
            "Epoch 41/200\n",
            "49/49 [==============================] - 0s 3ms/step - loss: 7.2295e-06 - r2: 0.8680 - val_loss: 7.6077e-06 - val_r2: 0.8556\n",
            "Epoch 42/200\n",
            "49/49 [==============================] - 0s 3ms/step - loss: 7.3314e-06 - r2: 0.8662 - val_loss: 7.8245e-06 - val_r2: 0.8505\n",
            "Epoch 43/200\n",
            "49/49 [==============================] - 0s 3ms/step - loss: 7.2394e-06 - r2: 0.8677 - val_loss: 7.5962e-06 - val_r2: 0.8556\n",
            "Epoch 44/200\n",
            "49/49 [==============================] - 0s 3ms/step - loss: 7.3603e-06 - r2: 0.8652 - val_loss: 7.6178e-06 - val_r2: 0.8554\n",
            "Epoch 45/200\n",
            "49/49 [==============================] - 0s 3ms/step - loss: 7.1785e-06 - r2: 0.8693 - val_loss: 7.7729e-06 - val_r2: 0.8529\n",
            "Epoch 46/200\n",
            "49/49 [==============================] - 0s 3ms/step - loss: 7.2245e-06 - r2: 0.8675 - val_loss: 7.6523e-06 - val_r2: 0.8547\n",
            "Epoch 47/200\n",
            "49/49 [==============================] - 0s 3ms/step - loss: 7.2285e-06 - r2: 0.8679 - val_loss: 7.5861e-06 - val_r2: 0.8559\n",
            "Epoch 48/200\n",
            "49/49 [==============================] - 0s 3ms/step - loss: 7.1764e-06 - r2: 0.8691 - val_loss: 7.5701e-06 - val_r2: 0.8561\n",
            "Epoch 49/200\n",
            "49/49 [==============================] - 0s 3ms/step - loss: 7.2241e-06 - r2: 0.8681 - val_loss: 7.6304e-06 - val_r2: 0.8545\n",
            "Epoch 50/200\n",
            "49/49 [==============================] - 0s 3ms/step - loss: 7.2302e-06 - r2: 0.8681 - val_loss: 7.4903e-06 - val_r2: 0.8574\n",
            "Epoch 51/200\n",
            "49/49 [==============================] - 0s 3ms/step - loss: 7.2276e-06 - r2: 0.8677 - val_loss: 7.5565e-06 - val_r2: 0.8565\n",
            "Epoch 52/200\n",
            "49/49 [==============================] - 0s 3ms/step - loss: 7.2266e-06 - r2: 0.8681 - val_loss: 7.4746e-06 - val_r2: 0.8576\n",
            "Epoch 53/200\n",
            "49/49 [==============================] - 0s 3ms/step - loss: 7.2129e-06 - r2: 0.8678 - val_loss: 7.5834e-06 - val_r2: 0.8561\n",
            "Epoch 54/200\n",
            "49/49 [==============================] - 0s 3ms/step - loss: 7.2222e-06 - r2: 0.8677 - val_loss: 7.6080e-06 - val_r2: 0.8557\n",
            "Epoch 55/200\n",
            "49/49 [==============================] - 0s 3ms/step - loss: 7.2738e-06 - r2: 0.8676 - val_loss: 7.6129e-06 - val_r2: 0.8557\n",
            "Epoch 56/200\n",
            "49/49 [==============================] - 0s 3ms/step - loss: 7.1937e-06 - r2: 0.8680 - val_loss: 7.5307e-06 - val_r2: 0.8569\n",
            "Epoch 57/200\n",
            "49/49 [==============================] - 0s 3ms/step - loss: 7.2714e-06 - r2: 0.8674 - val_loss: 7.5580e-06 - val_r2: 0.8561\n",
            "Epoch 58/200\n",
            "49/49 [==============================] - 0s 3ms/step - loss: 7.1485e-06 - r2: 0.8694 - val_loss: 7.5053e-06 - val_r2: 0.8565\n",
            "Epoch 59/200\n",
            "49/49 [==============================] - 0s 3ms/step - loss: 7.2099e-06 - r2: 0.8685 - val_loss: 7.5526e-06 - val_r2: 0.8557\n",
            "Epoch 60/200\n",
            "49/49 [==============================] - 0s 3ms/step - loss: 7.1797e-06 - r2: 0.8685 - val_loss: 7.4718e-06 - val_r2: 0.8573\n",
            "Epoch 61/200\n",
            "49/49 [==============================] - 0s 3ms/step - loss: 7.1613e-06 - r2: 0.8688 - val_loss: 7.5512e-06 - val_r2: 0.8565\n",
            "Epoch 62/200\n",
            "49/49 [==============================] - 0s 3ms/step - loss: 7.2597e-06 - r2: 0.8673 - val_loss: 7.4401e-06 - val_r2: 0.8582\n",
            "Epoch 63/200\n",
            "49/49 [==============================] - 0s 3ms/step - loss: 7.1335e-06 - r2: 0.8697 - val_loss: 7.6232e-06 - val_r2: 0.8554\n",
            "Epoch 64/200\n",
            "49/49 [==============================] - 0s 3ms/step - loss: 7.1876e-06 - r2: 0.8683 - val_loss: 7.7271e-06 - val_r2: 0.8539\n",
            "Epoch 65/200\n",
            "49/49 [==============================] - 0s 3ms/step - loss: 7.1138e-06 - r2: 0.8703 - val_loss: 7.4720e-06 - val_r2: 0.8575\n",
            "Epoch 66/200\n",
            "49/49 [==============================] - 0s 3ms/step - loss: 7.1778e-06 - r2: 0.8689 - val_loss: 7.5908e-06 - val_r2: 0.8560\n",
            "Epoch 67/200\n",
            "49/49 [==============================] - 0s 3ms/step - loss: 7.1888e-06 - r2: 0.8694 - val_loss: 7.5010e-06 - val_r2: 0.8566\n",
            "Epoch 68/200\n",
            "49/49 [==============================] - 0s 3ms/step - loss: 7.1555e-06 - r2: 0.8692 - val_loss: 7.4887e-06 - val_r2: 0.8573\n",
            "Epoch 69/200\n",
            "49/49 [==============================] - 0s 3ms/step - loss: 7.1424e-06 - r2: 0.8696 - val_loss: 7.4435e-06 - val_r2: 0.8581\n",
            "Epoch 70/200\n",
            "49/49 [==============================] - 0s 3ms/step - loss: 7.1276e-06 - r2: 0.8696 - val_loss: 7.4947e-06 - val_r2: 0.8577\n",
            "Epoch 71/200\n",
            "49/49 [==============================] - 0s 3ms/step - loss: 7.1216e-06 - r2: 0.8700 - val_loss: 7.5231e-06 - val_r2: 0.8570\n",
            "Epoch 72/200\n",
            "49/49 [==============================] - 0s 3ms/step - loss: 7.1648e-06 - r2: 0.8695 - val_loss: 7.6040e-06 - val_r2: 0.8560\n",
            "Epoch 73/200\n",
            "49/49 [==============================] - 0s 3ms/step - loss: 7.1797e-06 - r2: 0.8687 - val_loss: 7.4257e-06 - val_r2: 0.8587\n",
            "Epoch 74/200\n",
            "49/49 [==============================] - 0s 3ms/step - loss: 7.1079e-06 - r2: 0.8698 - val_loss: 7.4239e-06 - val_r2: 0.8587\n",
            "Epoch 75/200\n",
            "49/49 [==============================] - 0s 3ms/step - loss: 7.2233e-06 - r2: 0.8684 - val_loss: 7.4250e-06 - val_r2: 0.8584\n",
            "Epoch 76/200\n",
            "49/49 [==============================] - 0s 3ms/step - loss: 7.1580e-06 - r2: 0.8693 - val_loss: 7.4211e-06 - val_r2: 0.8584\n",
            "Epoch 77/200\n",
            "49/49 [==============================] - 0s 3ms/step - loss: 7.1790e-06 - r2: 0.8681 - val_loss: 7.6601e-06 - val_r2: 0.8546\n",
            "Epoch 78/200\n",
            "49/49 [==============================] - 0s 3ms/step - loss: 7.1628e-06 - r2: 0.8682 - val_loss: 7.4075e-06 - val_r2: 0.8586\n",
            "Epoch 79/200\n",
            "49/49 [==============================] - 0s 3ms/step - loss: 7.1013e-06 - r2: 0.8701 - val_loss: 7.4740e-06 - val_r2: 0.8581\n",
            "Epoch 80/200\n",
            "49/49 [==============================] - 0s 3ms/step - loss: 7.1843e-06 - r2: 0.8684 - val_loss: 7.8062e-06 - val_r2: 0.8526\n",
            "Epoch 81/200\n",
            "49/49 [==============================] - 0s 3ms/step - loss: 7.1024e-06 - r2: 0.8706 - val_loss: 7.4748e-06 - val_r2: 0.8581\n",
            "Epoch 82/200\n",
            "49/49 [==============================] - 0s 3ms/step - loss: 7.1619e-06 - r2: 0.8692 - val_loss: 7.6510e-06 - val_r2: 0.8552\n",
            "Epoch 83/200\n",
            "49/49 [==============================] - 0s 3ms/step - loss: 7.1462e-06 - r2: 0.8703 - val_loss: 7.5088e-06 - val_r2: 0.8576\n",
            "Epoch 84/200\n",
            "49/49 [==============================] - 0s 3ms/step - loss: 7.1264e-06 - r2: 0.8701 - val_loss: 7.5014e-06 - val_r2: 0.8577\n",
            "Epoch 85/200\n",
            "49/49 [==============================] - 0s 3ms/step - loss: 7.0936e-06 - r2: 0.8703 - val_loss: 7.4401e-06 - val_r2: 0.8587\n",
            "Epoch 86/200\n",
            "49/49 [==============================] - 0s 3ms/step - loss: 7.1070e-06 - r2: 0.8702 - val_loss: 7.6049e-06 - val_r2: 0.8561\n",
            "Epoch 87/200\n",
            "49/49 [==============================] - 0s 3ms/step - loss: 7.1478e-06 - r2: 0.8699 - val_loss: 7.4611e-06 - val_r2: 0.8575\n",
            "Epoch 88/200\n",
            "49/49 [==============================] - 0s 3ms/step - loss: 7.1823e-06 - r2: 0.8690 - val_loss: 7.4279e-06 - val_r2: 0.8587\n",
            "Epoch 89/200\n",
            "49/49 [==============================] - 0s 3ms/step - loss: 7.1277e-06 - r2: 0.8703 - val_loss: 7.5584e-06 - val_r2: 0.8566\n",
            "Epoch 90/200\n",
            "49/49 [==============================] - 0s 3ms/step - loss: 7.2061e-06 - r2: 0.8683 - val_loss: 7.3790e-06 - val_r2: 0.8594\n",
            "Epoch 91/200\n",
            "49/49 [==============================] - 0s 3ms/step - loss: 7.1737e-06 - r2: 0.8691 - val_loss: 7.5283e-06 - val_r2: 0.8563\n",
            "Epoch 92/200\n",
            "49/49 [==============================] - 0s 3ms/step - loss: 7.1629e-06 - r2: 0.8688 - val_loss: 7.4637e-06 - val_r2: 0.8584\n",
            "Epoch 93/200\n",
            "49/49 [==============================] - 0s 3ms/step - loss: 7.1370e-06 - r2: 0.8699 - val_loss: 7.5111e-06 - val_r2: 0.8576\n",
            "Epoch 94/200\n",
            "49/49 [==============================] - 0s 3ms/step - loss: 7.0636e-06 - r2: 0.8709 - val_loss: 7.4462e-06 - val_r2: 0.8585\n",
            "Epoch 95/200\n",
            "49/49 [==============================] - 0s 3ms/step - loss: 7.2936e-06 - r2: 0.8672 - val_loss: 7.3783e-06 - val_r2: 0.8596\n",
            "Epoch 96/200\n",
            "49/49 [==============================] - 0s 3ms/step - loss: 7.0595e-06 - r2: 0.8716 - val_loss: 7.5430e-06 - val_r2: 0.8572\n",
            "Epoch 97/200\n",
            "49/49 [==============================] - 0s 3ms/step - loss: 7.1439e-06 - r2: 0.8699 - val_loss: 7.3993e-06 - val_r2: 0.8589\n",
            "Epoch 98/200\n",
            "49/49 [==============================] - 0s 3ms/step - loss: 7.0734e-06 - r2: 0.8714 - val_loss: 7.4371e-06 - val_r2: 0.8581\n",
            "Epoch 99/200\n",
            "49/49 [==============================] - 0s 3ms/step - loss: 7.0817e-06 - r2: 0.8704 - val_loss: 7.7122e-06 - val_r2: 0.8543\n",
            "Epoch 100/200\n",
            "49/49 [==============================] - 0s 3ms/step - loss: 7.1068e-06 - r2: 0.8694 - val_loss: 7.4486e-06 - val_r2: 0.8585\n",
            "Epoch 101/200\n",
            "49/49 [==============================] - 0s 3ms/step - loss: 7.0595e-06 - r2: 0.8715 - val_loss: 7.5375e-06 - val_r2: 0.8573\n",
            "Epoch 102/200\n",
            "49/49 [==============================] - 0s 3ms/step - loss: 7.0954e-06 - r2: 0.8702 - val_loss: 7.5065e-06 - val_r2: 0.8578\n",
            "Epoch 103/200\n",
            "49/49 [==============================] - 0s 3ms/step - loss: 7.1910e-06 - r2: 0.8690 - val_loss: 7.3836e-06 - val_r2: 0.8597\n",
            "Epoch 104/200\n",
            "49/49 [==============================] - 0s 3ms/step - loss: 7.0702e-06 - r2: 0.8714 - val_loss: 7.3680e-06 - val_r2: 0.8595\n",
            "Epoch 105/200\n",
            "49/49 [==============================] - 0s 3ms/step - loss: 7.0586e-06 - r2: 0.8705 - val_loss: 7.3992e-06 - val_r2: 0.8592\n",
            "Epoch 106/200\n",
            "49/49 [==============================] - 0s 3ms/step - loss: 7.1435e-06 - r2: 0.8696 - val_loss: 7.3708e-06 - val_r2: 0.8597\n",
            "Epoch 107/200\n",
            "49/49 [==============================] - 0s 3ms/step - loss: 7.0186e-06 - r2: 0.8718 - val_loss: 7.4213e-06 - val_r2: 0.8592\n",
            "Epoch 108/200\n",
            "49/49 [==============================] - 0s 3ms/step - loss: 7.0178e-06 - r2: 0.8721 - val_loss: 7.5070e-06 - val_r2: 0.8563\n",
            "Epoch 109/200\n",
            "49/49 [==============================] - 0s 3ms/step - loss: 7.0750e-06 - r2: 0.8705 - val_loss: 7.3993e-06 - val_r2: 0.8590\n",
            "Epoch 110/200\n",
            "49/49 [==============================] - 0s 3ms/step - loss: 7.0505e-06 - r2: 0.8712 - val_loss: 7.5683e-06 - val_r2: 0.8569\n",
            "Epoch 111/200\n",
            "49/49 [==============================] - 0s 3ms/step - loss: 7.0400e-06 - r2: 0.8712 - val_loss: 7.3494e-06 - val_r2: 0.8599\n",
            "Epoch 112/200\n",
            "49/49 [==============================] - 0s 3ms/step - loss: 7.0422e-06 - r2: 0.8706 - val_loss: 7.3870e-06 - val_r2: 0.8590\n",
            "Epoch 113/200\n",
            "49/49 [==============================] - 0s 3ms/step - loss: 7.1107e-06 - r2: 0.8707 - val_loss: 7.7114e-06 - val_r2: 0.8542\n",
            "Epoch 114/200\n",
            "49/49 [==============================] - 0s 3ms/step - loss: 7.0661e-06 - r2: 0.8712 - val_loss: 7.3790e-06 - val_r2: 0.8598\n",
            "Epoch 115/200\n",
            "49/49 [==============================] - 0s 3ms/step - loss: 7.0902e-06 - r2: 0.8700 - val_loss: 7.6725e-06 - val_r2: 0.8551\n",
            "Epoch 116/200\n",
            "49/49 [==============================] - 0s 3ms/step - loss: 7.1265e-06 - r2: 0.8706 - val_loss: 7.3440e-06 - val_r2: 0.8603\n",
            "Epoch 117/200\n",
            "49/49 [==============================] - 0s 3ms/step - loss: 7.0788e-06 - r2: 0.8708 - val_loss: 7.3783e-06 - val_r2: 0.8598\n",
            "Epoch 118/200\n",
            "49/49 [==============================] - 0s 3ms/step - loss: 7.0277e-06 - r2: 0.8714 - val_loss: 7.4502e-06 - val_r2: 0.8588\n",
            "Epoch 119/200\n",
            "49/49 [==============================] - 0s 3ms/step - loss: 7.0253e-06 - r2: 0.8725 - val_loss: 7.4444e-06 - val_r2: 0.8579\n",
            "Epoch 120/200\n",
            "49/49 [==============================] - 0s 3ms/step - loss: 7.0370e-06 - r2: 0.8709 - val_loss: 7.3903e-06 - val_r2: 0.8594\n",
            "Epoch 121/200\n",
            "49/49 [==============================] - 0s 3ms/step - loss: 7.0601e-06 - r2: 0.8704 - val_loss: 7.3364e-06 - val_r2: 0.8604\n",
            "Epoch 122/200\n",
            "49/49 [==============================] - 0s 3ms/step - loss: 7.1168e-06 - r2: 0.8693 - val_loss: 7.3410e-06 - val_r2: 0.8601\n",
            "Epoch 123/200\n",
            "49/49 [==============================] - 0s 3ms/step - loss: 7.0590e-06 - r2: 0.8711 - val_loss: 7.5507e-06 - val_r2: 0.8572\n",
            "Epoch 124/200\n",
            "49/49 [==============================] - 0s 3ms/step - loss: 7.1301e-06 - r2: 0.8694 - val_loss: 7.4550e-06 - val_r2: 0.8588\n",
            "Epoch 125/200\n",
            "49/49 [==============================] - 0s 3ms/step - loss: 6.9827e-06 - r2: 0.8728 - val_loss: 7.3764e-06 - val_r2: 0.8593\n",
            "Epoch 126/200\n",
            "49/49 [==============================] - 0s 3ms/step - loss: 7.0459e-06 - r2: 0.8714 - val_loss: 7.3348e-06 - val_r2: 0.8605\n",
            "Epoch 127/200\n",
            "49/49 [==============================] - 0s 3ms/step - loss: 7.0666e-06 - r2: 0.8715 - val_loss: 7.3890e-06 - val_r2: 0.8597\n",
            "Epoch 128/200\n",
            "49/49 [==============================] - 0s 3ms/step - loss: 7.0233e-06 - r2: 0.8723 - val_loss: 7.3449e-06 - val_r2: 0.8604\n",
            "Epoch 129/200\n",
            "49/49 [==============================] - 0s 3ms/step - loss: 7.0104e-06 - r2: 0.8719 - val_loss: 7.3303e-06 - val_r2: 0.8606\n",
            "Epoch 130/200\n",
            "49/49 [==============================] - 0s 3ms/step - loss: 6.9925e-06 - r2: 0.8721 - val_loss: 7.3518e-06 - val_r2: 0.8597\n",
            "Epoch 131/200\n",
            "49/49 [==============================] - 0s 3ms/step - loss: 7.0289e-06 - r2: 0.8715 - val_loss: 7.3257e-06 - val_r2: 0.8605\n",
            "Epoch 132/200\n",
            "49/49 [==============================] - 0s 3ms/step - loss: 6.9802e-06 - r2: 0.8723 - val_loss: 7.3305e-06 - val_r2: 0.8606\n",
            "Epoch 133/200\n",
            "49/49 [==============================] - 0s 3ms/step - loss: 6.9946e-06 - r2: 0.8721 - val_loss: 7.3305e-06 - val_r2: 0.8605\n",
            "Epoch 134/200\n",
            "49/49 [==============================] - 0s 3ms/step - loss: 7.0507e-06 - r2: 0.8723 - val_loss: 7.4102e-06 - val_r2: 0.8587\n",
            "Epoch 135/200\n",
            "49/49 [==============================] - 0s 3ms/step - loss: 7.1067e-06 - r2: 0.8708 - val_loss: 7.3769e-06 - val_r2: 0.8592\n",
            "Epoch 136/200\n",
            "49/49 [==============================] - 0s 3ms/step - loss: 7.0116e-06 - r2: 0.8720 - val_loss: 7.4237e-06 - val_r2: 0.8593\n",
            "Epoch 137/200\n",
            "49/49 [==============================] - 0s 3ms/step - loss: 6.9963e-06 - r2: 0.8725 - val_loss: 7.6800e-06 - val_r2: 0.8546\n",
            "Epoch 138/200\n",
            "49/49 [==============================] - 0s 3ms/step - loss: 7.0122e-06 - r2: 0.8721 - val_loss: 7.4049e-06 - val_r2: 0.8597\n",
            "Epoch 139/200\n",
            "49/49 [==============================] - 0s 3ms/step - loss: 6.9839e-06 - r2: 0.8718 - val_loss: 7.3341e-06 - val_r2: 0.8607\n",
            "Epoch 140/200\n",
            "49/49 [==============================] - 0s 3ms/step - loss: 7.0170e-06 - r2: 0.8723 - val_loss: 7.5240e-06 - val_r2: 0.8575\n",
            "Epoch 141/200\n",
            "49/49 [==============================] - 0s 3ms/step - loss: 7.0584e-06 - r2: 0.8711 - val_loss: 7.4048e-06 - val_r2: 0.8595\n",
            "Epoch 142/200\n",
            "49/49 [==============================] - 0s 3ms/step - loss: 6.9644e-06 - r2: 0.8722 - val_loss: 7.3801e-06 - val_r2: 0.8599\n",
            "Epoch 143/200\n",
            "49/49 [==============================] - 0s 3ms/step - loss: 6.9825e-06 - r2: 0.8724 - val_loss: 7.6480e-06 - val_r2: 0.8557\n",
            "Epoch 144/200\n",
            "49/49 [==============================] - 0s 3ms/step - loss: 7.0306e-06 - r2: 0.8717 - val_loss: 7.2905e-06 - val_r2: 0.8611\n",
            "Epoch 145/200\n",
            "49/49 [==============================] - 0s 3ms/step - loss: 6.9831e-06 - r2: 0.8720 - val_loss: 7.3354e-06 - val_r2: 0.8602\n",
            "Epoch 146/200\n",
            "49/49 [==============================] - 0s 3ms/step - loss: 7.0043e-06 - r2: 0.8729 - val_loss: 7.3286e-06 - val_r2: 0.8607\n",
            "Epoch 147/200\n",
            "49/49 [==============================] - 0s 3ms/step - loss: 7.0073e-06 - r2: 0.8723 - val_loss: 7.3504e-06 - val_r2: 0.8605\n",
            "Epoch 148/200\n",
            "49/49 [==============================] - 0s 3ms/step - loss: 6.9552e-06 - r2: 0.8733 - val_loss: 7.5093e-06 - val_r2: 0.8578\n",
            "Epoch 149/200\n",
            "49/49 [==============================] - 0s 3ms/step - loss: 7.0161e-06 - r2: 0.8719 - val_loss: 7.6916e-06 - val_r2: 0.8548\n",
            "Epoch 150/200\n",
            "49/49 [==============================] - 0s 3ms/step - loss: 7.0157e-06 - r2: 0.8713 - val_loss: 7.3270e-06 - val_r2: 0.8608\n",
            "Epoch 151/200\n",
            "49/49 [==============================] - 0s 3ms/step - loss: 6.9681e-06 - r2: 0.8725 - val_loss: 7.3424e-06 - val_r2: 0.8604\n",
            "Epoch 152/200\n",
            "49/49 [==============================] - 0s 3ms/step - loss: 7.0391e-06 - r2: 0.8719 - val_loss: 7.3027e-06 - val_r2: 0.8609\n",
            "Epoch 153/200\n",
            "49/49 [==============================] - 0s 3ms/step - loss: 6.9629e-06 - r2: 0.8727 - val_loss: 7.8082e-06 - val_r2: 0.8530\n",
            "Epoch 154/200\n",
            "49/49 [==============================] - 0s 3ms/step - loss: 7.0567e-06 - r2: 0.8712 - val_loss: 7.3450e-06 - val_r2: 0.8607\n",
            "Epoch 155/200\n",
            "49/49 [==============================] - 0s 3ms/step - loss: 7.0108e-06 - r2: 0.8716 - val_loss: 7.3005e-06 - val_r2: 0.8609\n",
            "Epoch 156/200\n",
            "49/49 [==============================] - 0s 3ms/step - loss: 6.9485e-06 - r2: 0.8733 - val_loss: 7.3924e-06 - val_r2: 0.8600\n",
            "Epoch 157/200\n",
            "49/49 [==============================] - 0s 3ms/step - loss: 6.9562e-06 - r2: 0.8735 - val_loss: 7.3077e-06 - val_r2: 0.8610\n",
            "Epoch 158/200\n",
            "49/49 [==============================] - 0s 3ms/step - loss: 6.9557e-06 - r2: 0.8725 - val_loss: 7.2929e-06 - val_r2: 0.8610\n",
            "Epoch 159/200\n",
            "49/49 [==============================] - 0s 3ms/step - loss: 6.9530e-06 - r2: 0.8723 - val_loss: 7.2820e-06 - val_r2: 0.8614\n",
            "Epoch 160/200\n",
            "49/49 [==============================] - 0s 3ms/step - loss: 6.9665e-06 - r2: 0.8722 - val_loss: 7.3259e-06 - val_r2: 0.8608\n",
            "Epoch 161/200\n",
            "49/49 [==============================] - 0s 3ms/step - loss: 6.9629e-06 - r2: 0.8723 - val_loss: 7.2878e-06 - val_r2: 0.8611\n",
            "Epoch 162/200\n",
            "49/49 [==============================] - 0s 3ms/step - loss: 7.0336e-06 - r2: 0.8719 - val_loss: 7.6244e-06 - val_r2: 0.8562\n",
            "Epoch 163/200\n",
            "49/49 [==============================] - 0s 3ms/step - loss: 7.0406e-06 - r2: 0.8715 - val_loss: 7.3270e-06 - val_r2: 0.8610\n",
            "Epoch 164/200\n",
            "49/49 [==============================] - 0s 3ms/step - loss: 6.9982e-06 - r2: 0.8724 - val_loss: 7.3979e-06 - val_r2: 0.8590\n",
            "Epoch 165/200\n",
            "49/49 [==============================] - 0s 3ms/step - loss: 7.0336e-06 - r2: 0.8715 - val_loss: 7.3280e-06 - val_r2: 0.8603\n",
            "Epoch 166/200\n",
            "49/49 [==============================] - 0s 3ms/step - loss: 7.0205e-06 - r2: 0.8717 - val_loss: 7.2872e-06 - val_r2: 0.8610\n",
            "Epoch 167/200\n",
            "49/49 [==============================] - 0s 3ms/step - loss: 6.9676e-06 - r2: 0.8721 - val_loss: 7.2757e-06 - val_r2: 0.8616\n",
            "Epoch 168/200\n",
            "49/49 [==============================] - 0s 3ms/step - loss: 7.0181e-06 - r2: 0.8714 - val_loss: 7.5096e-06 - val_r2: 0.8581\n",
            "Epoch 169/200\n",
            "49/49 [==============================] - 0s 3ms/step - loss: 6.9748e-06 - r2: 0.8728 - val_loss: 7.3179e-06 - val_r2: 0.8611\n",
            "Epoch 170/200\n",
            "49/49 [==============================] - 0s 3ms/step - loss: 7.0044e-06 - r2: 0.8718 - val_loss: 7.3078e-06 - val_r2: 0.8608\n",
            "Epoch 171/200\n",
            "49/49 [==============================] - 0s 3ms/step - loss: 6.9640e-06 - r2: 0.8731 - val_loss: 7.4464e-06 - val_r2: 0.8591\n",
            "Epoch 172/200\n",
            "49/49 [==============================] - 0s 3ms/step - loss: 6.9860e-06 - r2: 0.8725 - val_loss: 7.3674e-06 - val_r2: 0.8593\n",
            "Epoch 173/200\n",
            "49/49 [==============================] - 0s 3ms/step - loss: 7.0016e-06 - r2: 0.8731 - val_loss: 7.3079e-06 - val_r2: 0.8613\n",
            "Epoch 174/200\n",
            "49/49 [==============================] - 0s 3ms/step - loss: 6.9335e-06 - r2: 0.8737 - val_loss: 7.2686e-06 - val_r2: 0.8615\n",
            "Epoch 175/200\n",
            "49/49 [==============================] - 0s 3ms/step - loss: 6.9678e-06 - r2: 0.8727 - val_loss: 7.3293e-06 - val_r2: 0.8610\n",
            "Epoch 176/200\n",
            "49/49 [==============================] - 0s 3ms/step - loss: 6.9579e-06 - r2: 0.8734 - val_loss: 7.4094e-06 - val_r2: 0.8596\n",
            "Epoch 177/200\n",
            "49/49 [==============================] - 0s 3ms/step - loss: 6.9807e-06 - r2: 0.8719 - val_loss: 7.3068e-06 - val_r2: 0.8612\n",
            "Epoch 178/200\n",
            "49/49 [==============================] - 0s 3ms/step - loss: 7.0676e-06 - r2: 0.8705 - val_loss: 7.4251e-06 - val_r2: 0.8583\n",
            "Epoch 179/200\n",
            "49/49 [==============================] - 0s 3ms/step - loss: 6.9612e-06 - r2: 0.8726 - val_loss: 7.6140e-06 - val_r2: 0.8563\n",
            "Epoch 180/200\n",
            "49/49 [==============================] - 0s 3ms/step - loss: 7.0475e-06 - r2: 0.8711 - val_loss: 7.3401e-06 - val_r2: 0.8607\n",
            "Epoch 181/200\n",
            "49/49 [==============================] - 0s 3ms/step - loss: 6.9104e-06 - r2: 0.8733 - val_loss: 7.3755e-06 - val_r2: 0.8603\n",
            "Epoch 182/200\n",
            "49/49 [==============================] - 0s 3ms/step - loss: 7.0401e-06 - r2: 0.8715 - val_loss: 7.5056e-06 - val_r2: 0.8582\n",
            "Epoch 183/200\n",
            "49/49 [==============================] - 0s 3ms/step - loss: 6.9758e-06 - r2: 0.8717 - val_loss: 7.4097e-06 - val_r2: 0.8598\n",
            "Epoch 184/200\n",
            "49/49 [==============================] - 0s 3ms/step - loss: 7.0096e-06 - r2: 0.8730 - val_loss: 7.4491e-06 - val_r2: 0.8590\n",
            "Epoch 185/200\n",
            "49/49 [==============================] - 0s 3ms/step - loss: 6.9686e-06 - r2: 0.8724 - val_loss: 7.4023e-06 - val_r2: 0.8599\n",
            "Epoch 186/200\n",
            "49/49 [==============================] - 0s 3ms/step - loss: 6.9916e-06 - r2: 0.8721 - val_loss: 7.3390e-06 - val_r2: 0.8605\n",
            "Epoch 187/200\n",
            "49/49 [==============================] - 0s 3ms/step - loss: 7.0081e-06 - r2: 0.8721 - val_loss: 7.2659e-06 - val_r2: 0.8619\n",
            "Epoch 188/200\n",
            "49/49 [==============================] - 0s 3ms/step - loss: 6.9218e-06 - r2: 0.8740 - val_loss: 7.2623e-06 - val_r2: 0.8620\n",
            "Epoch 189/200\n",
            "49/49 [==============================] - 0s 3ms/step - loss: 6.9063e-06 - r2: 0.8729 - val_loss: 7.5267e-06 - val_r2: 0.8579\n",
            "Epoch 190/200\n",
            "49/49 [==============================] - 0s 3ms/step - loss: 6.9087e-06 - r2: 0.8732 - val_loss: 7.2719e-06 - val_r2: 0.8619\n",
            "Epoch 191/200\n",
            "49/49 [==============================] - 0s 3ms/step - loss: 6.9097e-06 - r2: 0.8738 - val_loss: 7.3199e-06 - val_r2: 0.8613\n",
            "Epoch 192/200\n",
            "49/49 [==============================] - 0s 3ms/step - loss: 6.9154e-06 - r2: 0.8737 - val_loss: 7.2888e-06 - val_r2: 0.8617\n",
            "Epoch 193/200\n",
            "49/49 [==============================] - 0s 3ms/step - loss: 6.9713e-06 - r2: 0.8724 - val_loss: 7.3185e-06 - val_r2: 0.8612\n",
            "Epoch 194/200\n",
            "49/49 [==============================] - 0s 3ms/step - loss: 6.9680e-06 - r2: 0.8720 - val_loss: 7.2805e-06 - val_r2: 0.8616\n",
            "Epoch 195/200\n",
            "49/49 [==============================] - 0s 3ms/step - loss: 6.9436e-06 - r2: 0.8731 - val_loss: 7.4123e-06 - val_r2: 0.8598\n",
            "Epoch 196/200\n",
            "49/49 [==============================] - 0s 3ms/step - loss: 6.9813e-06 - r2: 0.8724 - val_loss: 7.2645e-06 - val_r2: 0.8616\n",
            "Epoch 197/200\n",
            "49/49 [==============================] - 0s 3ms/step - loss: 6.9550e-06 - r2: 0.8733 - val_loss: 7.2772e-06 - val_r2: 0.8618\n",
            "Epoch 198/200\n",
            "49/49 [==============================] - 0s 3ms/step - loss: 6.9167e-06 - r2: 0.8737 - val_loss: 7.4261e-06 - val_r2: 0.8595\n",
            "Epoch 199/200\n",
            "49/49 [==============================] - 0s 3ms/step - loss: 6.9368e-06 - r2: 0.8729 - val_loss: 7.2677e-06 - val_r2: 0.8619\n",
            "Epoch 200/200\n",
            "49/49 [==============================] - 0s 3ms/step - loss: 6.9157e-06 - r2: 0.8744 - val_loss: 7.3016e-06 - val_r2: 0.8616\n"
          ]
        },
        {
          "output_type": "execute_result",
          "data": {
            "text/plain": [
              "<keras.callbacks.History at 0x7f4e335b9c90>"
            ]
          },
          "metadata": {},
          "execution_count": 49
        }
      ]
    },
    {
      "cell_type": "code",
      "source": [
        "length"
      ],
      "metadata": {
        "colab": {
          "base_uri": "https://localhost:8080/"
        },
        "id": "6cFZ_NmsRcec",
        "outputId": "30998337-67ac-429e-ad1e-5d941abdcbcd"
      },
      "execution_count": 50,
      "outputs": [
        {
          "output_type": "execute_result",
          "data": {
            "text/plain": [
              "8047"
            ]
          },
          "metadata": {},
          "execution_count": 50
        }
      ]
    },
    {
      "cell_type": "code",
      "source": [
        "import math\n",
        "\n",
        "batch_size = length\n",
        "# 2010년의 data를 기준으로 그 이후의 data 들...\n",
        "X2 = np.concatenate((X[2011],X[2012],X[2013],X[2014],X[2015],X[2016],X[2017],X[2018]))\n",
        "Y2 = np.concatenate((Y[2011],Y[2012],Y[2013],Y[2014],Y[2015],Y[2016],Y[2017],Y[2018]))\n",
        "\n",
        "batch = math.ceil(X2.shape[0]/batch_size)\n",
        "df = {}\n",
        "df['The precision of the model on real data'] = []\n",
        "df['Predicted precision'] = []\n",
        "\n",
        "predict = ML[2010].predict\n",
        "for i in range(batch):\n",
        "    X3 = X2[i*batch_size:(i+1)*batch_size]\n",
        "    Y3 = Y2[i*batch_size:(i+1)*batch_size]\n",
        "    f1 = precision_recall_fscore_support(Y3, predict(scaler.transform(X3)),average='binary')\n",
        "    X3_drift = ks_drift(x_ref,X3)[:,0]\n",
        "    acc_c = model_c.predict(X3_drift.reshape(1,-1))[0]\n",
        "\n",
        "    print(f\"{f1[0]},{acc_c[0]}\")\n",
        "    df['The precision of the model on real data'].append(f1[0])\n",
        "    df['Predicted precision'].append(acc_c[0])\n",
        "\n",
        "df2 = pd.DataFrame(df)\n",
        "\n",
        "df2"
      ],
      "metadata": {
        "colab": {
          "base_uri": "https://localhost:8080/",
          "height": 1000
        },
        "id": "RM37tW9qRXS0",
        "outputId": "86702573-05c8-4f50-b373-2b3cf809a4d1"
      },
      "execution_count": 51,
      "outputs": [
        {
          "output_type": "stream",
          "name": "stdout",
          "text": [
            "0.9912419239052405,0.9816336631774902\n",
            "0.9898946152735671,0.9831168055534363\n",
            "0.9869233029679695,1.010396957397461\n",
            "0.9874945470408608,1.0025229454040527\n",
            "0.9857672349888806,1.0150749683380127\n",
            "0.9874464628562989,1.0328054428100586\n",
            "0.9888970051132213,1.0367705821990967\n",
            "0.9866647340194231,1.0707340240478516\n",
            "0.9838686446780931,1.108935832977295\n",
            "0.9826263211234979,1.1263329982757568\n",
            "0.9835521569759054,1.1388163566589355\n",
            "0.982987848463188,1.1254607439041138\n",
            "0.9788283062645011,1.1327905654907227\n",
            "0.9821119446047317,1.1217902898788452\n",
            "0.9785546415981199,1.148626446723938\n",
            "0.9806330394565689,1.1164276599884033\n",
            "0.9797907410061631,1.1039223670959473\n",
            "0.9805430521271962,1.1132137775421143\n",
            "0.980192335294962,1.1066652536392212\n",
            "0.976858547873879,1.0974960327148438\n",
            "0.9741156169111302,1.103448510169983\n",
            "0.9764453961456103,1.108386754989624\n",
            "0.9749748310081979,1.0919289588928223\n",
            "0.9729806598407281,1.0978693962097168\n",
            "0.9736766809728183,1.0910789966583252\n",
            "0.9736954967834167,1.09382164478302\n",
            "0.9651804670912951,1.1045732498168945\n",
            "0.9689119170984456,1.115404725074768\n",
            "0.9475544246536612,1.0977863073349\n",
            "0.9455263900649168,1.1153055429458618\n",
            "0.9462395936221251,1.1100711822509766\n",
            "0.9407866911039052,1.1037383079528809\n",
            "0.9411006018916594,1.1094449758529663\n",
            "0.9390696347031964,1.0813664197921753\n",
            "0.9387610116510372,1.0854612588882446\n",
            "0.9370529327610873,1.0885037183761597\n",
            "0.933829848181037,1.0864815711975098\n",
            "0.9358550266072199,1.092824101448059\n",
            "0.9423631123919308,1.108080267906189\n",
            "0.9409234298824204,1.1034846305847168\n",
            "0.9407885304659498,1.0911872386932373\n",
            "0.9349112426035503,1.0952664613723755\n",
            "0.9428448646325741,1.079139232635498\n",
            "0.9431059506531204,1.0803130865097046\n",
            "0.9398128149748021,1.0547014474868774\n",
            "0.9435993111366245,1.0776586532592773\n",
            "0.943390762994064,1.0823291540145874\n",
            "0.9341431289331187,1.0897536277770996\n",
            "0.9298705077840826,1.058709979057312\n",
            "0.9414401388085598,1.0851383209228516\n",
            "0.9434151946000288,1.0343585014343262\n",
            "0.939717334871647,1.0810567140579224\n",
            "0.9407149084568439,1.0778363943099976\n",
            "0.9401388085598612,1.092708706855774\n",
            "0.937003323219188,1.0950632095336914\n",
            "0.934324480369515,1.0651100873947144\n",
            "0.9312844302696434,1.0516600608825684\n",
            "0.933781610875603,1.0706104040145874\n",
            "0.9273694807996549,1.0617738962173462\n",
            "0.935493119266055,1.062217354774475\n",
            "0.9244085401038661,1.0727134943008423\n",
            "0.9283326064835005,1.0749107599258423\n",
            "0.9252554744525547,1.0724042654037476\n",
            "0.9284781662556216,1.075656533241272\n",
            "0.9302929715687689,1.093234896659851\n",
            "0.9313811188811189,1.0772920846939087\n",
            "0.9253774680603949,1.070949673652649\n",
            "0.9235612827646801,1.088222622871399\n",
            "0.9282420749279539,1.067165732383728\n",
            "0.9329382858794624,1.0988417863845825\n",
            "0.932561505065123,1.0607751607894897\n",
            "0.9293193717277487,1.0682306289672852\n",
            "0.9273970609631893,1.0890288352966309\n",
            "0.929092500729501,1.0867539644241333\n",
            "0.9256786180868051,1.077714204788208\n",
            "0.9257045260461144,1.1160038709640503\n",
            "0.9277004733897576,1.056867241859436\n",
            "0.9297461050201962,1.0606755018234253\n",
            "0.9298091042584434,1.1522551774978638\n",
            "0.9237080754282424,1.0564318895339966\n",
            "0.9254506128334535,1.0788689851760864\n",
            "0.9292061179898033,1.079538345336914\n",
            "0.9288844903152834,1.1154255867004395\n",
            "0.9250930965339444,1.047114372253418\n",
            "0.91985559566787,1.0707343816757202\n",
            "0.9260333575054387,1.0891141891479492\n",
            "0.9229331416247304,1.1001769304275513\n",
            "0.9353198700748482,1.0783945322036743\n",
            "0.9261428571428572,1.044760823249817\n",
            "0.9278071051505208,1.0567899942398071\n",
            "0.9375089580048731,1.1106879711151123\n",
            "0.9250107743140353,1.0841721296310425\n",
            "0.9163646905348601,1.0904693603515625\n",
            "0.9227548368466647,1.0910630226135254\n",
            "0.9301190988664084,1.1247047185897827\n",
            "0.9172703564184295,1.0945011377334595\n",
            "0.9166908563134978,1.078222393989563\n",
            "0.9179487179487179,1.081810474395752\n",
            "0.9274559909142532,1.0953395366668701\n",
            "0.9242729628563202,1.0875078439712524\n",
            "0.9295249031146835,1.1034785509109497\n",
            "0.9362912400455062,1.1194111108779907\n",
            "0.9178860633612729,1.0813030004501343\n",
            "0.925056882821388,1.1365176439285278\n",
            "0.9324664429530202,1.136613368988037\n",
            "0.9292010235996588,1.1246817111968994\n",
            "0.9191112401975022,1.119886040687561\n",
            "0.9222827645540579,1.1263785362243652\n",
            "0.9082957110609481,1.0940157175064087\n",
            "0.8904985087345547,1.1466978788375854\n",
            "0.9337832138338253,1.0975168943405151\n",
            "0.9024039153591479,1.1124745607376099\n",
            "0.8908906000290571,1.1751515865325928\n",
            "0.8901146131805158,1.147060751914978\n",
            "0.8867170780425168,1.1020481586456299\n",
            "0.8689615273358403,1.108320713043213\n",
            "0.867717003567182,1.1196014881134033\n",
            "0.8946682121124312,1.1161526441574097\n",
            "0.878230987598984,1.1351877450942993\n",
            "0.907701619004388,1.0999691486358643\n",
            "0.8995358586614762,1.0933213233947754\n",
            "0.9011367035596769,1.1130427122116089\n",
            "0.8919902912621359,1.1048327684402466\n",
            "0.9019667170953102,1.1064835786819458\n",
            "0.8977323922510888,1.0865318775177002\n",
            "0.9004937902139758,1.1081393957138062\n",
            "0.8982816814973918,1.132875680923462\n",
            "0.8925914906277893,1.0816220045089722\n",
            "0.8927946324387398,1.097259283065796\n",
            "0.8896198830409356,1.080896258354187\n",
            "0.9042553191489362,1.121567964553833\n",
            "0.900710247862009,1.12302565574646\n",
            "0.8931586608442503,1.1420612335205078\n",
            "0.8803947562233024,1.1165738105773926\n",
            "0.8859050660473218,1.1263197660446167\n",
            "0.8929780656558222,1.1356018781661987\n",
            "0.8970051132213295,1.141455888748169\n",
            "0.8966011759644342,1.13023841381073\n",
            "0.8922723355357656,1.107300043106079\n",
            "0.8858532398798455,1.1187751293182373\n",
            "0.8910990269032627,1.118038535118103\n",
            "0.8898000287728385,1.139573335647583\n",
            "0.894789867587795,1.1401275396347046\n",
            "0.888134123428241,1.1450016498565674\n",
            "0.8792710706150342,1.1502474546432495\n",
            "0.873191001576157,1.128673791885376\n",
            "0.875722136113851,1.1500530242919922\n",
            "0.8702540679417642,1.1561750173568726\n",
            "0.8795708033319215,1.1683142185211182\n",
            "0.8687724335965542,1.1738038063049316\n",
            "0.8724244990121366,1.1679487228393555\n",
            "0.8746670405159119,1.1843369007110596\n",
            "0.8551978442774074,1.2019833326339722\n",
            "0.8655124653739612,1.1998472213745117\n",
            "0.8683810313839347,1.1972036361694336\n",
            "0.8654002713704206,1.208848237991333\n",
            "0.8696659850034083,1.220283031463623\n",
            "0.8725754310344828,1.2074130773544312\n",
            "0.8674554639723477,1.219537615776062\n",
            "0.8597375049714967,1.2384840250015259\n",
            "0.8532253852180726,1.2456684112548828\n",
            "0.8523455524224558,1.255566954612732\n",
            "0.8692115143929913,1.279617190361023\n",
            "0.9328525242476996,1.311058521270752\n",
            "0.9878230616302187,1.3564465045928955\n"
          ]
        },
        {
          "output_type": "execute_result",
          "data": {
            "text/plain": [
              "     The precision of the model on real data  Predicted precision\n",
              "0                                   0.991242             0.981634\n",
              "1                                   0.989895             0.983117\n",
              "2                                   0.986923             1.010397\n",
              "3                                   0.987495             1.002523\n",
              "4                                   0.985767             1.015075\n",
              "..                                       ...                  ...\n",
              "160                                 0.853225             1.245668\n",
              "161                                 0.852346             1.255567\n",
              "162                                 0.869212             1.279617\n",
              "163                                 0.932853             1.311059\n",
              "164                                 0.987823             1.356447\n",
              "\n",
              "[165 rows x 2 columns]"
            ],
            "text/html": [
              "\n",
              "  <div id=\"df-e88982d9-c790-460c-8bba-ab1da7d51cad\">\n",
              "    <div class=\"colab-df-container\">\n",
              "      <div>\n",
              "<style scoped>\n",
              "    .dataframe tbody tr th:only-of-type {\n",
              "        vertical-align: middle;\n",
              "    }\n",
              "\n",
              "    .dataframe tbody tr th {\n",
              "        vertical-align: top;\n",
              "    }\n",
              "\n",
              "    .dataframe thead th {\n",
              "        text-align: right;\n",
              "    }\n",
              "</style>\n",
              "<table border=\"1\" class=\"dataframe\">\n",
              "  <thead>\n",
              "    <tr style=\"text-align: right;\">\n",
              "      <th></th>\n",
              "      <th>The precision of the model on real data</th>\n",
              "      <th>Predicted precision</th>\n",
              "    </tr>\n",
              "  </thead>\n",
              "  <tbody>\n",
              "    <tr>\n",
              "      <th>0</th>\n",
              "      <td>0.991242</td>\n",
              "      <td>0.981634</td>\n",
              "    </tr>\n",
              "    <tr>\n",
              "      <th>1</th>\n",
              "      <td>0.989895</td>\n",
              "      <td>0.983117</td>\n",
              "    </tr>\n",
              "    <tr>\n",
              "      <th>2</th>\n",
              "      <td>0.986923</td>\n",
              "      <td>1.010397</td>\n",
              "    </tr>\n",
              "    <tr>\n",
              "      <th>3</th>\n",
              "      <td>0.987495</td>\n",
              "      <td>1.002523</td>\n",
              "    </tr>\n",
              "    <tr>\n",
              "      <th>4</th>\n",
              "      <td>0.985767</td>\n",
              "      <td>1.015075</td>\n",
              "    </tr>\n",
              "    <tr>\n",
              "      <th>...</th>\n",
              "      <td>...</td>\n",
              "      <td>...</td>\n",
              "    </tr>\n",
              "    <tr>\n",
              "      <th>160</th>\n",
              "      <td>0.853225</td>\n",
              "      <td>1.245668</td>\n",
              "    </tr>\n",
              "    <tr>\n",
              "      <th>161</th>\n",
              "      <td>0.852346</td>\n",
              "      <td>1.255567</td>\n",
              "    </tr>\n",
              "    <tr>\n",
              "      <th>162</th>\n",
              "      <td>0.869212</td>\n",
              "      <td>1.279617</td>\n",
              "    </tr>\n",
              "    <tr>\n",
              "      <th>163</th>\n",
              "      <td>0.932853</td>\n",
              "      <td>1.311059</td>\n",
              "    </tr>\n",
              "    <tr>\n",
              "      <th>164</th>\n",
              "      <td>0.987823</td>\n",
              "      <td>1.356447</td>\n",
              "    </tr>\n",
              "  </tbody>\n",
              "</table>\n",
              "<p>165 rows × 2 columns</p>\n",
              "</div>\n",
              "      <button class=\"colab-df-convert\" onclick=\"convertToInteractive('df-e88982d9-c790-460c-8bba-ab1da7d51cad')\"\n",
              "              title=\"Convert this dataframe to an interactive table.\"\n",
              "              style=\"display:none;\">\n",
              "        \n",
              "  <svg xmlns=\"http://www.w3.org/2000/svg\" height=\"24px\"viewBox=\"0 0 24 24\"\n",
              "       width=\"24px\">\n",
              "    <path d=\"M0 0h24v24H0V0z\" fill=\"none\"/>\n",
              "    <path d=\"M18.56 5.44l.94 2.06.94-2.06 2.06-.94-2.06-.94-.94-2.06-.94 2.06-2.06.94zm-11 1L8.5 8.5l.94-2.06 2.06-.94-2.06-.94L8.5 2.5l-.94 2.06-2.06.94zm10 10l.94 2.06.94-2.06 2.06-.94-2.06-.94-.94-2.06-.94 2.06-2.06.94z\"/><path d=\"M17.41 7.96l-1.37-1.37c-.4-.4-.92-.59-1.43-.59-.52 0-1.04.2-1.43.59L10.3 9.45l-7.72 7.72c-.78.78-.78 2.05 0 2.83L4 21.41c.39.39.9.59 1.41.59.51 0 1.02-.2 1.41-.59l7.78-7.78 2.81-2.81c.8-.78.8-2.07 0-2.86zM5.41 20L4 18.59l7.72-7.72 1.47 1.35L5.41 20z\"/>\n",
              "  </svg>\n",
              "      </button>\n",
              "      \n",
              "  <style>\n",
              "    .colab-df-container {\n",
              "      display:flex;\n",
              "      flex-wrap:wrap;\n",
              "      gap: 12px;\n",
              "    }\n",
              "\n",
              "    .colab-df-convert {\n",
              "      background-color: #E8F0FE;\n",
              "      border: none;\n",
              "      border-radius: 50%;\n",
              "      cursor: pointer;\n",
              "      display: none;\n",
              "      fill: #1967D2;\n",
              "      height: 32px;\n",
              "      padding: 0 0 0 0;\n",
              "      width: 32px;\n",
              "    }\n",
              "\n",
              "    .colab-df-convert:hover {\n",
              "      background-color: #E2EBFA;\n",
              "      box-shadow: 0px 1px 2px rgba(60, 64, 67, 0.3), 0px 1px 3px 1px rgba(60, 64, 67, 0.15);\n",
              "      fill: #174EA6;\n",
              "    }\n",
              "\n",
              "    [theme=dark] .colab-df-convert {\n",
              "      background-color: #3B4455;\n",
              "      fill: #D2E3FC;\n",
              "    }\n",
              "\n",
              "    [theme=dark] .colab-df-convert:hover {\n",
              "      background-color: #434B5C;\n",
              "      box-shadow: 0px 1px 3px 1px rgba(0, 0, 0, 0.15);\n",
              "      filter: drop-shadow(0px 1px 2px rgba(0, 0, 0, 0.3));\n",
              "      fill: #FFFFFF;\n",
              "    }\n",
              "  </style>\n",
              "\n",
              "      <script>\n",
              "        const buttonEl =\n",
              "          document.querySelector('#df-e88982d9-c790-460c-8bba-ab1da7d51cad button.colab-df-convert');\n",
              "        buttonEl.style.display =\n",
              "          google.colab.kernel.accessAllowed ? 'block' : 'none';\n",
              "\n",
              "        async function convertToInteractive(key) {\n",
              "          const element = document.querySelector('#df-e88982d9-c790-460c-8bba-ab1da7d51cad');\n",
              "          const dataTable =\n",
              "            await google.colab.kernel.invokeFunction('convertToInteractive',\n",
              "                                                     [key], {});\n",
              "          if (!dataTable) return;\n",
              "\n",
              "          const docLinkHtml = 'Like what you see? Visit the ' +\n",
              "            '<a target=\"_blank\" href=https://colab.research.google.com/notebooks/data_table.ipynb>data table notebook</a>'\n",
              "            + ' to learn more about interactive tables.';\n",
              "          element.innerHTML = '';\n",
              "          dataTable['output_type'] = 'display_data';\n",
              "          await google.colab.output.renderOutput(dataTable, element);\n",
              "          const docLink = document.createElement('div');\n",
              "          docLink.innerHTML = docLinkHtml;\n",
              "          element.appendChild(docLink);\n",
              "        }\n",
              "      </script>\n",
              "    </div>\n",
              "  </div>\n",
              "  "
            ]
          },
          "metadata": {},
          "execution_count": 51
        }
      ]
    },
    {
      "cell_type": "code",
      "source": [
        "from sklearn.metrics import mean_absolute_error\n",
        "from sklearn.metrics import mean_squared_error \n",
        "from sklearn.metrics import r2_score\n",
        "\n",
        "MAE = mean_absolute_error(df2['The precision of the model on real data'], df2['Predicted precision'])\n",
        "MSE = mean_squared_error(df2['The precision of the model on real data'], df2['Predicted precision']) \n",
        "RMSE = np.sqrt(MSE)\n",
        "r2 = r2_score(df2['The precision of the model on real data'], df2['Predicted precision']) \n",
        "print('MAE',MAE)\n",
        "print('RMSE',RMSE)\n",
        "print('R2',r2)\n",
        "#display adjusted R-squared\n",
        "adj_r2 = 1 - (1-r2)*(df2.shape[0]-1)/(df2.shape[0]-80)\n",
        "print('adj R2',adj_r2)"
      ],
      "metadata": {
        "colab": {
          "base_uri": "https://localhost:8080/"
        },
        "id": "m_u12sEeTFX2",
        "outputId": "cb2487a9-7631-4817-9418-d2c82188f2a1"
      },
      "execution_count": 56,
      "outputs": [
        {
          "output_type": "stream",
          "name": "stdout",
          "text": [
            "MAE 0.18464113089949685\n",
            "RMSE 0.19955414559435877\n",
            "R2 -31.545498010612505\n",
            "adj R2 -61.79366674988765\n"
          ]
        }
      ]
    },
    {
      "cell_type": "code",
      "source": [
        "df2.plot(title='PPM1, random forest, split_ratio=0.1', figsize=(20,5))"
      ],
      "metadata": {
        "colab": {
          "base_uri": "https://localhost:8080/",
          "height": 354
        },
        "id": "cx9sFZUYSoxA",
        "outputId": "1b39c196-5b20-48cf-c494-2dcb0770c52a"
      },
      "execution_count": 57,
      "outputs": [
        {
          "output_type": "execute_result",
          "data": {
            "text/plain": [
              "<matplotlib.axes._subplots.AxesSubplot at 0x7f4e3eb889d0>"
            ]
          },
          "metadata": {},
          "execution_count": 57
        },
        {
          "output_type": "display_data",
          "data": {
            "text/plain": [
              "<Figure size 1440x360 with 1 Axes>"
            ],
            "image/png": "[encoded data removed]"
          },
          "metadata": {
            "needs_background": "light"
          }
        }
      ]
    }
  ]
}