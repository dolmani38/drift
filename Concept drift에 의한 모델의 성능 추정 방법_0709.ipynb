{
  "nbformat": 4,
  "nbformat_minor": 0,
  "metadata": {
    "colab": {
      "name": "Untitled11.ipynb",
      "provenance": [],
      "machine_shape": "hm",
      "authorship_tag": "ABX9TyOROadaBqEkQZDLcIMp1vTb",
      "include_colab_link": true
    },
    "kernelspec": {
      "name": "python3",
      "display_name": "Python 3"
    },
    "language_info": {
      "name": "python"
    },
    "widgets": {
      "application/vnd.jupyter.widget-state+json": {
        "f807782517164610ac3209f0b7fbb446": {
          "model_module": "catboost-widget",
          "model_name": "CatboostWidgetModel",
          "model_module_version": "^1.0.0",
          "state": {
            "_dom_classes": [],
            "_model_module": "catboost-widget",
            "_model_module_version": "^1.0.0",
            "_model_name": "CatboostWidgetModel",
            "_view_count": null,
            "_view_module": "catboost-widget",
            "_view_module_version": "^1.0.0",
            "_view_name": "CatboostWidgetView",
            "data": {
              "catboost_info": {
                "path": "catboost_info",
                "name": "catboost_info",
                "content": {
                  "passed_iterations": 999,
                  "total_iterations": 1000,
                  "data": {
                    "iterations": [
                      {
                        "learn": [
                          0.6169236161
                        ],
                        "iteration": 0,
                        "passed_time": 0.05323671394,
                        "remaining_time": 53.18347723
                      },
                      {
                        "learn": [
                          0.5534212541
                        ],
                        "iteration": 1,
                        "passed_time": 0.05824010295,
                        "remaining_time": 29.06181137
                      },
                      {
                        "learn": [
                          0.4979601741
                        ],
                        "iteration": 2,
                        "passed_time": 0.0639206361,
                        "remaining_time": 21.24295806
                      },
                      {
                        "learn": [
                          0.4506618259
                        ],
                        "iteration": 3,
                        "passed_time": 0.06948445946,
                        "remaining_time": 17.3016304
                      },
                      {
                        "learn": [
                          0.4089695459
                        ],
                        "iteration": 4,
                        "passed_time": 0.07487501764,
                        "remaining_time": 14.90012851
                      },
                      {
                        "learn": [
                          0.3717227448
                        ],
                        "iteration": 5,
                        "passed_time": 0.08034869348,
                        "remaining_time": 13.31110022
                      },
                      {
                        "learn": [
                          0.3404141431
                        ],
                        "iteration": 6,
                        "passed_time": 0.08571091625,
                        "remaining_time": 12.15870569
                      },
                      {
                        "learn": [
                          0.313072995
                        ],
                        "iteration": 7,
                        "passed_time": 0.09116035341,
                        "remaining_time": 11.30388382
                      },
                      {
                        "learn": [
                          0.2902092084
                        ],
                        "iteration": 8,
                        "passed_time": 0.09642784828,
                        "remaining_time": 10.61777752
                      },
                      {
                        "learn": [
                          0.2693051366
                        ],
                        "iteration": 9,
                        "passed_time": 0.10192673,
                        "remaining_time": 10.09074627
                      },
                      {
                        "learn": [
                          0.2512498778
                        ],
                        "iteration": 10,
                        "passed_time": 0.1070907217,
                        "remaining_time": 9.628429434
                      },
                      {
                        "learn": [
                          0.2357647223
                        ],
                        "iteration": 11,
                        "passed_time": 0.1131584495,
                        "remaining_time": 9.316712342
                      },
                      {
                        "learn": [
                          0.2224670679
                        ],
                        "iteration": 12,
                        "passed_time": 0.1193051214,
                        "remaining_time": 9.058011907
                      },
                      {
                        "learn": [
                          0.2118774823
                        ],
                        "iteration": 13,
                        "passed_time": 0.1245708258,
                        "remaining_time": 8.773345304
                      },
                      {
                        "learn": [
                          0.2024083566
                        ],
                        "iteration": 14,
                        "passed_time": 0.1298026831,
                        "remaining_time": 8.523709525
                      },
                      {
                        "learn": [
                          0.1934791684
                        ],
                        "iteration": 15,
                        "passed_time": 0.1357260402,
                        "remaining_time": 8.347151475
                      },
                      {
                        "learn": [
                          0.1850383961
                        ],
                        "iteration": 16,
                        "passed_time": 0.1407248202,
                        "remaining_time": 8.137205782
                      },
                      {
                        "learn": [
                          0.1779969471
                        ],
                        "iteration": 17,
                        "passed_time": 0.1456478829,
                        "remaining_time": 7.945901167
                      },
                      {
                        "learn": [
                          0.1721435785
                        ],
                        "iteration": 18,
                        "passed_time": 0.1512677012,
                        "remaining_time": 7.810190257
                      },
                      {
                        "learn": [
                          0.166351886
                        ],
                        "iteration": 19,
                        "passed_time": 0.1566926511,
                        "remaining_time": 7.677939902
                      },
                      {
                        "learn": [
                          0.1607802699
                        ],
                        "iteration": 20,
                        "passed_time": 0.1621330207,
                        "remaining_time": 7.558487011
                      },
                      {
                        "learn": [
                          0.1561783672
                        ],
                        "iteration": 21,
                        "passed_time": 0.1672790422,
                        "remaining_time": 7.436313784
                      },
                      {
                        "learn": [
                          0.1515655822
                        ],
                        "iteration": 22,
                        "passed_time": 0.1735106753,
                        "remaining_time": 7.370431729
                      },
                      {
                        "learn": [
                          0.1479915139
                        ],
                        "iteration": 23,
                        "passed_time": 0.1801255363,
                        "remaining_time": 7.325105144
                      },
                      {
                        "learn": [
                          0.1444987476
                        ],
                        "iteration": 24,
                        "passed_time": 0.1870170153,
                        "remaining_time": 7.293663595
                      },
                      {
                        "learn": [
                          0.1417292412
                        ],
                        "iteration": 25,
                        "passed_time": 0.1937199138,
                        "remaining_time": 7.257046003
                      },
                      {
                        "learn": [
                          0.1382683626
                        ],
                        "iteration": 26,
                        "passed_time": 0.2028688935,
                        "remaining_time": 7.31079383
                      },
                      {
                        "learn": [
                          0.1353569043
                        ],
                        "iteration": 27,
                        "passed_time": 0.2095694931,
                        "remaining_time": 7.27505526
                      },
                      {
                        "learn": [
                          0.1328812754
                        ],
                        "iteration": 28,
                        "passed_time": 0.2153706591,
                        "remaining_time": 7.211203794
                      },
                      {
                        "learn": [
                          0.1305624391
                        ],
                        "iteration": 29,
                        "passed_time": 0.2206242783,
                        "remaining_time": 7.133518333
                      },
                      {
                        "learn": [
                          0.1288258933
                        ],
                        "iteration": 30,
                        "passed_time": 0.226467465,
                        "remaining_time": 7.078934632
                      },
                      {
                        "learn": [
                          0.1271779443
                        ],
                        "iteration": 31,
                        "passed_time": 0.2323692371,
                        "remaining_time": 7.029169421
                      },
                      {
                        "learn": [
                          0.12617277
                        ],
                        "iteration": 32,
                        "passed_time": 0.2380647931,
                        "remaining_time": 6.976019847
                      },
                      {
                        "learn": [
                          0.1244674232
                        ],
                        "iteration": 33,
                        "passed_time": 0.2478330075,
                        "remaining_time": 7.041373097
                      },
                      {
                        "learn": [
                          0.1232262367
                        ],
                        "iteration": 34,
                        "passed_time": 0.2530555837,
                        "remaining_time": 6.977103949
                      },
                      {
                        "learn": [
                          0.1220210505
                        ],
                        "iteration": 35,
                        "passed_time": 0.2580542673,
                        "remaining_time": 6.910119824
                      },
                      {
                        "learn": [
                          0.1205252787
                        ],
                        "iteration": 36,
                        "passed_time": 0.2633875174,
                        "remaining_time": 6.855194033
                      },
                      {
                        "learn": [
                          0.1194805903
                        ],
                        "iteration": 37,
                        "passed_time": 0.2685317717,
                        "remaining_time": 6.798093798
                      },
                      {
                        "learn": [
                          0.1184827501
                        ],
                        "iteration": 38,
                        "passed_time": 0.2738835628,
                        "remaining_time": 6.748771893
                      },
                      {
                        "learn": [
                          0.1173499824
                        ],
                        "iteration": 39,
                        "passed_time": 0.2793248792,
                        "remaining_time": 6.7037971
                      },
                      {
                        "learn": [
                          0.1166431709
                        ],
                        "iteration": 40,
                        "passed_time": 0.284608457,
                        "remaining_time": 6.657061225
                      },
                      {
                        "learn": [
                          0.1158759539
                        ],
                        "iteration": 41,
                        "passed_time": 0.2898392593,
                        "remaining_time": 6.611095486
                      },
                      {
                        "learn": [
                          0.115277644
                        ],
                        "iteration": 42,
                        "passed_time": 0.2949296854,
                        "remaining_time": 6.563900208
                      },
                      {
                        "learn": [
                          0.1146644604
                        ],
                        "iteration": 43,
                        "passed_time": 0.3002933495,
                        "remaining_time": 6.524555503
                      },
                      {
                        "learn": [
                          0.1137448523
                        ],
                        "iteration": 44,
                        "passed_time": 0.306395594,
                        "remaining_time": 6.502395383
                      },
                      {
                        "learn": [
                          0.1131876747
                        ],
                        "iteration": 45,
                        "passed_time": 0.3119328687,
                        "remaining_time": 6.469216451
                      },
                      {
                        "learn": [
                          0.1126452144
                        ],
                        "iteration": 46,
                        "passed_time": 0.3183448442,
                        "remaining_time": 6.454949712
                      },
                      {
                        "learn": [
                          0.1122629565
                        ],
                        "iteration": 47,
                        "passed_time": 0.3237770966,
                        "remaining_time": 6.421579083
                      },
                      {
                        "learn": [
                          0.111696251
                        ],
                        "iteration": 48,
                        "passed_time": 0.3295742118,
                        "remaining_time": 6.396430111
                      },
                      {
                        "learn": [
                          0.1104556403
                        ],
                        "iteration": 49,
                        "passed_time": 0.3354433781,
                        "remaining_time": 6.373424183
                      },
                      {
                        "learn": [
                          0.1100083477
                        ],
                        "iteration": 50,
                        "passed_time": 0.3414155212,
                        "remaining_time": 6.353006462
                      },
                      {
                        "learn": [
                          0.1097758426
                        ],
                        "iteration": 51,
                        "passed_time": 0.3466249175,
                        "remaining_time": 6.31923888
                      },
                      {
                        "learn": [
                          0.109071091
                        ],
                        "iteration": 52,
                        "passed_time": 0.3521759397,
                        "remaining_time": 6.292653111
                      },
                      {
                        "learn": [
                          0.1086674135
                        ],
                        "iteration": 53,
                        "passed_time": 0.3575628248,
                        "remaining_time": 6.263970967
                      },
                      {
                        "learn": [
                          0.1082902758
                        ],
                        "iteration": 54,
                        "passed_time": 0.363294677,
                        "remaining_time": 6.242063087
                      },
                      {
                        "learn": [
                          0.1078153943
                        ],
                        "iteration": 55,
                        "passed_time": 0.3689242506,
                        "remaining_time": 6.219008796
                      },
                      {
                        "learn": [
                          0.1073659348
                        ],
                        "iteration": 56,
                        "passed_time": 0.3746749239,
                        "remaining_time": 6.198569355
                      },
                      {
                        "learn": [
                          0.107077331
                        ],
                        "iteration": 57,
                        "passed_time": 0.3800519532,
                        "remaining_time": 6.17256793
                      },
                      {
                        "learn": [
                          0.1066662274
                        ],
                        "iteration": 58,
                        "passed_time": 0.3854443914,
                        "remaining_time": 6.147511395
                      },
                      {
                        "learn": [
                          0.1060543454
                        ],
                        "iteration": 59,
                        "passed_time": 0.3912960966,
                        "remaining_time": 6.130305513
                      },
                      {
                        "learn": [
                          0.105886928
                        ],
                        "iteration": 60,
                        "passed_time": 0.3981563242,
                        "remaining_time": 6.128996532
                      },
                      {
                        "learn": [
                          0.1055974795
                        ],
                        "iteration": 61,
                        "passed_time": 0.4062799577,
                        "remaining_time": 6.146622586
                      },
                      {
                        "learn": [
                          0.1053776457
                        ],
                        "iteration": 62,
                        "passed_time": 0.4142289382,
                        "remaining_time": 6.160833574
                      },
                      {
                        "learn": [
                          0.1051883364
                        ],
                        "iteration": 63,
                        "passed_time": 0.4216926272,
                        "remaining_time": 6.167254673
                      },
                      {
                        "learn": [
                          0.1049574913
                        ],
                        "iteration": 64,
                        "passed_time": 0.4271823305,
                        "remaining_time": 6.144853524
                      },
                      {
                        "learn": [
                          0.1045957866
                        ],
                        "iteration": 65,
                        "passed_time": 0.4324556871,
                        "remaining_time": 6.119903209
                      },
                      {
                        "learn": [
                          0.1043450374
                        ],
                        "iteration": 66,
                        "passed_time": 0.4378685813,
                        "remaining_time": 6.097483378
                      },
                      {
                        "learn": [
                          0.1041181227
                        ],
                        "iteration": 67,
                        "passed_time": 0.443022904,
                        "remaining_time": 6.072019802
                      },
                      {
                        "learn": [
                          0.1036398779
                        ],
                        "iteration": 68,
                        "passed_time": 0.4484441312,
                        "remaining_time": 6.050746176
                      },
                      {
                        "learn": [
                          0.1034542557
                        ],
                        "iteration": 69,
                        "passed_time": 0.4534850891,
                        "remaining_time": 6.024873327
                      },
                      {
                        "learn": [
                          0.1032035452
                        ],
                        "iteration": 70,
                        "passed_time": 0.4586959559,
                        "remaining_time": 6.001810465
                      },
                      {
                        "learn": [
                          0.1030246987
                        ],
                        "iteration": 71,
                        "passed_time": 0.4636120414,
                        "remaining_time": 5.975444089
                      },
                      {
                        "learn": [
                          0.1029229709
                        ],
                        "iteration": 72,
                        "passed_time": 0.4691574105,
                        "remaining_time": 5.957656432
                      },
                      {
                        "learn": [
                          0.1027521517
                        ],
                        "iteration": 73,
                        "passed_time": 0.4743605961,
                        "remaining_time": 5.935917729
                      },
                      {
                        "learn": [
                          0.1025542384
                        ],
                        "iteration": 74,
                        "passed_time": 0.4794812794,
                        "remaining_time": 5.913602446
                      },
                      {
                        "learn": [
                          0.1022792573
                        ],
                        "iteration": 75,
                        "passed_time": 0.4844635851,
                        "remaining_time": 5.890057272
                      },
                      {
                        "learn": [
                          0.1021659842
                        ],
                        "iteration": 76,
                        "passed_time": 0.4894128646,
                        "remaining_time": 5.866598364
                      },
                      {
                        "learn": [
                          0.1019314779
                        ],
                        "iteration": 77,
                        "passed_time": 0.4945555967,
                        "remaining_time": 5.845900771
                      },
                      {
                        "learn": [
                          0.1014515422
                        ],
                        "iteration": 78,
                        "passed_time": 0.4998291437,
                        "remaining_time": 5.827122042
                      },
                      {
                        "learn": [
                          0.1012937389
                        ],
                        "iteration": 79,
                        "passed_time": 0.5049770793,
                        "remaining_time": 5.807236412
                      },
                      {
                        "learn": [
                          0.1012028401
                        ],
                        "iteration": 80,
                        "passed_time": 0.5108888539,
                        "remaining_time": 5.796380947
                      },
                      {
                        "learn": [
                          0.1010267761
                        ],
                        "iteration": 81,
                        "passed_time": 0.5168118614,
                        "remaining_time": 5.785771815
                      },
                      {
                        "learn": [
                          0.1008444803
                        ],
                        "iteration": 82,
                        "passed_time": 0.5222545001,
                        "remaining_time": 5.769968392
                      },
                      {
                        "learn": [
                          0.1006727959
                        ],
                        "iteration": 83,
                        "passed_time": 0.5278655081,
                        "remaining_time": 5.756247683
                      },
                      {
                        "learn": [
                          0.1004910785
                        ],
                        "iteration": 84,
                        "passed_time": 0.5335018452,
                        "remaining_time": 5.742990451
                      },
                      {
                        "learn": [
                          0.1004030602
                        ],
                        "iteration": 85,
                        "passed_time": 0.5447943609,
                        "remaining_time": 5.790023789
                      },
                      {
                        "learn": [
                          0.1003044702
                        ],
                        "iteration": 86,
                        "passed_time": 0.5530168662,
                        "remaining_time": 5.803498837
                      },
                      {
                        "learn": [
                          0.100174245
                        ],
                        "iteration": 87,
                        "passed_time": 0.5584137725,
                        "remaining_time": 5.787197278
                      },
                      {
                        "learn": [
                          0.1000850447
                        ],
                        "iteration": 88,
                        "passed_time": 0.5638952732,
                        "remaining_time": 5.772006673
                      },
                      {
                        "learn": [
                          0.0999385729
                        ],
                        "iteration": 89,
                        "passed_time": 0.5695777545,
                        "remaining_time": 5.759063962
                      },
                      {
                        "learn": [
                          0.09971903619
                        ],
                        "iteration": 90,
                        "passed_time": 0.5746908043,
                        "remaining_time": 5.740592759
                      },
                      {
                        "learn": [
                          0.09937858779
                        ],
                        "iteration": 91,
                        "passed_time": 0.5804478593,
                        "remaining_time": 5.728768003
                      },
                      {
                        "learn": [
                          0.09928256479
                        ],
                        "iteration": 92,
                        "passed_time": 0.5854996184,
                        "remaining_time": 5.710195203
                      },
                      {
                        "learn": [
                          0.09912483194
                        ],
                        "iteration": 93,
                        "passed_time": 0.5907111192,
                        "remaining_time": 5.693449723
                      },
                      {
                        "learn": [
                          0.09875621175
                        ],
                        "iteration": 94,
                        "passed_time": 0.5988844504,
                        "remaining_time": 5.705162396
                      },
                      {
                        "learn": [
                          0.09859203295
                        ],
                        "iteration": 95,
                        "passed_time": 0.6052766608,
                        "remaining_time": 5.699688556
                      },
                      {
                        "learn": [
                          0.09849125286
                        ],
                        "iteration": 96,
                        "passed_time": 0.6109073134,
                        "remaining_time": 5.687106227
                      },
                      {
                        "learn": [
                          0.0983441914
                        ],
                        "iteration": 97,
                        "passed_time": 0.6186447631,
                        "remaining_time": 5.694056901
                      },
                      {
                        "learn": [
                          0.09814513803
                        ],
                        "iteration": 98,
                        "passed_time": 0.6275453471,
                        "remaining_time": 5.711296543
                      },
                      {
                        "learn": [
                          0.097923174
                        ],
                        "iteration": 99,
                        "passed_time": 0.6332705945,
                        "remaining_time": 5.699435351
                      },
                      {
                        "learn": [
                          0.09788266911
                        ],
                        "iteration": 100,
                        "passed_time": 0.6378059607,
                        "remaining_time": 5.677104542
                      },
                      {
                        "learn": [
                          0.09773485435
                        ],
                        "iteration": 101,
                        "passed_time": 0.6436603309,
                        "remaining_time": 5.66673507
                      },
                      {
                        "learn": [
                          0.09734396369
                        ],
                        "iteration": 102,
                        "passed_time": 0.6505875651,
                        "remaining_time": 5.665796562
                      },
                      {
                        "learn": [
                          0.09718662893
                        ],
                        "iteration": 103,
                        "passed_time": 0.6565088532,
                        "remaining_time": 5.656076273
                      },
                      {
                        "learn": [
                          0.09700141781
                        ],
                        "iteration": 104,
                        "passed_time": 0.6625954556,
                        "remaining_time": 5.647837455
                      },
                      {
                        "learn": [
                          0.09683021365
                        ],
                        "iteration": 105,
                        "passed_time": 0.6681563777,
                        "remaining_time": 5.635205676
                      },
                      {
                        "learn": [
                          0.09652693699
                        ],
                        "iteration": 106,
                        "passed_time": 0.674179993,
                        "remaining_time": 5.626567605
                      },
                      {
                        "learn": [
                          0.09643390225
                        ],
                        "iteration": 107,
                        "passed_time": 0.6798695342,
                        "remaining_time": 5.615218746
                      },
                      {
                        "learn": [
                          0.09626011149
                        ],
                        "iteration": 108,
                        "passed_time": 0.685388997,
                        "remaining_time": 5.602583452
                      },
                      {
                        "learn": [
                          0.09614357233
                        ],
                        "iteration": 109,
                        "passed_time": 0.6915598407,
                        "remaining_time": 5.595347802
                      },
                      {
                        "learn": [
                          0.09593501917
                        ],
                        "iteration": 110,
                        "passed_time": 0.6989038504,
                        "remaining_time": 5.597527234
                      },
                      {
                        "learn": [
                          0.0957538385
                        ],
                        "iteration": 111,
                        "passed_time": 0.7064404104,
                        "remaining_time": 5.601063254
                      },
                      {
                        "learn": [
                          0.09559526951
                        ],
                        "iteration": 112,
                        "passed_time": 0.7118573391,
                        "remaining_time": 5.58776513
                      },
                      {
                        "learn": [
                          0.0955121313
                        ],
                        "iteration": 113,
                        "passed_time": 0.7177384955,
                        "remaining_time": 5.57821322
                      },
                      {
                        "learn": [
                          0.09533473712
                        ],
                        "iteration": 114,
                        "passed_time": 0.7232421586,
                        "remaining_time": 5.56582009
                      },
                      {
                        "learn": [
                          0.09488629028
                        ],
                        "iteration": 115,
                        "passed_time": 0.7287856823,
                        "remaining_time": 5.55384951
                      },
                      {
                        "learn": [
                          0.09475468415
                        ],
                        "iteration": 116,
                        "passed_time": 0.7341574717,
                        "remaining_time": 5.540692714
                      },
                      {
                        "learn": [
                          0.09468154201
                        ],
                        "iteration": 117,
                        "passed_time": 0.7396503445,
                        "remaining_time": 5.528572914
                      },
                      {
                        "learn": [
                          0.09432629519
                        ],
                        "iteration": 118,
                        "passed_time": 0.7453579972,
                        "remaining_time": 5.518154584
                      },
                      {
                        "learn": [
                          0.09422747254
                        ],
                        "iteration": 119,
                        "passed_time": 0.7504514796,
                        "remaining_time": 5.50331085
                      },
                      {
                        "learn": [
                          0.09406066593
                        ],
                        "iteration": 120,
                        "passed_time": 0.7558095597,
                        "remaining_time": 5.490550438
                      },
                      {
                        "learn": [
                          0.09389763525
                        ],
                        "iteration": 121,
                        "passed_time": 0.7617908422,
                        "remaining_time": 5.482396389
                      },
                      {
                        "learn": [
                          0.09381187929
                        ],
                        "iteration": 122,
                        "passed_time": 0.7675684514,
                        "remaining_time": 5.472825462
                      },
                      {
                        "learn": [
                          0.09371453406
                        ],
                        "iteration": 123,
                        "passed_time": 0.7729017897,
                        "remaining_time": 5.460177159
                      },
                      {
                        "learn": [
                          0.09367869029
                        ],
                        "iteration": 124,
                        "passed_time": 0.7785318214,
                        "remaining_time": 5.44972275
                      },
                      {
                        "learn": [
                          0.09359233057
                        ],
                        "iteration": 125,
                        "passed_time": 0.7841310496,
                        "remaining_time": 5.439131249
                      },
                      {
                        "learn": [
                          0.09335191034
                        ],
                        "iteration": 126,
                        "passed_time": 0.7903202153,
                        "remaining_time": 5.432673606
                      },
                      {
                        "learn": [
                          0.09322909916
                        ],
                        "iteration": 127,
                        "passed_time": 0.8004844947,
                        "remaining_time": 5.45330062
                      },
                      {
                        "learn": [
                          0.09309403759
                        ],
                        "iteration": 128,
                        "passed_time": 0.8068274149,
                        "remaining_time": 5.44764867
                      },
                      {
                        "learn": [
                          0.09301005669
                        ],
                        "iteration": 129,
                        "passed_time": 0.8125507864,
                        "remaining_time": 5.437839878
                      },
                      {
                        "learn": [
                          0.09287706743
                        ],
                        "iteration": 130,
                        "passed_time": 0.8179802162,
                        "remaining_time": 5.426143572
                      },
                      {
                        "learn": [
                          0.092761348
                        ],
                        "iteration": 131,
                        "passed_time": 0.8233382845,
                        "remaining_time": 5.414072962
                      },
                      {
                        "learn": [
                          0.09265209468
                        ],
                        "iteration": 132,
                        "passed_time": 0.8285319929,
                        "remaining_time": 5.401031864
                      },
                      {
                        "learn": [
                          0.0924981938
                        ],
                        "iteration": 133,
                        "passed_time": 0.8336877407,
                        "remaining_time": 5.387862563
                      },
                      {
                        "learn": [
                          0.09234089411
                        ],
                        "iteration": 134,
                        "passed_time": 0.8392644556,
                        "remaining_time": 5.37750929
                      },
                      {
                        "learn": [
                          0.09221961712
                        ],
                        "iteration": 135,
                        "passed_time": 0.8448003581,
                        "remaining_time": 5.366966981
                      },
                      {
                        "learn": [
                          0.09214739465
                        ],
                        "iteration": 136,
                        "passed_time": 0.8503456018,
                        "remaining_time": 5.356556601
                      },
                      {
                        "learn": [
                          0.09206735059
                        ],
                        "iteration": 137,
                        "passed_time": 0.8557022115,
                        "remaining_time": 5.345038451
                      },
                      {
                        "learn": [
                          0.09193645351
                        ],
                        "iteration": 138,
                        "passed_time": 0.8613048287,
                        "remaining_time": 5.335132788
                      },
                      {
                        "learn": [
                          0.09182690575
                        ],
                        "iteration": 139,
                        "passed_time": 0.8667002509,
                        "remaining_time": 5.324015827
                      },
                      {
                        "learn": [
                          0.0917303033
                        ],
                        "iteration": 140,
                        "passed_time": 0.8721890583,
                        "remaining_time": 5.313548944
                      },
                      {
                        "learn": [
                          0.091638758
                        ],
                        "iteration": 141,
                        "passed_time": 0.8783163996,
                        "remaining_time": 5.307010358
                      },
                      {
                        "learn": [
                          0.09153664591
                        ],
                        "iteration": 142,
                        "passed_time": 0.8833147609,
                        "remaining_time": 5.293711539
                      },
                      {
                        "learn": [
                          0.09146098207
                        ],
                        "iteration": 143,
                        "passed_time": 0.8885019695,
                        "remaining_time": 5.281650596
                      },
                      {
                        "learn": [
                          0.09122159
                        ],
                        "iteration": 144,
                        "passed_time": 0.8940157523,
                        "remaining_time": 5.271610126
                      },
                      {
                        "learn": [
                          0.09118232351
                        ],
                        "iteration": 145,
                        "passed_time": 0.8997059817,
                        "remaining_time": 5.262663756
                      },
                      {
                        "learn": [
                          0.09112135816
                        ],
                        "iteration": 146,
                        "passed_time": 0.9048647334,
                        "remaining_time": 5.250677671
                      },
                      {
                        "learn": [
                          0.09096753621
                        ],
                        "iteration": 147,
                        "passed_time": 0.9101460853,
                        "remaining_time": 5.239489626
                      },
                      {
                        "learn": [
                          0.09088328842
                        ],
                        "iteration": 148,
                        "passed_time": 0.915682356,
                        "remaining_time": 5.229836812
                      },
                      {
                        "learn": [
                          0.09076702238
                        ],
                        "iteration": 149,
                        "passed_time": 0.921260975,
                        "remaining_time": 5.220478858
                      },
                      {
                        "learn": [
                          0.09069985475
                        ],
                        "iteration": 150,
                        "passed_time": 0.9265111265,
                        "remaining_time": 5.209324149
                      },
                      {
                        "learn": [
                          0.09055257473
                        ],
                        "iteration": 151,
                        "passed_time": 0.9314755603,
                        "remaining_time": 5.196653126
                      },
                      {
                        "learn": [
                          0.09040936042
                        ],
                        "iteration": 152,
                        "passed_time": 0.9365705668,
                        "remaining_time": 5.184805687
                      },
                      {
                        "learn": [
                          0.0902618882
                        ],
                        "iteration": 153,
                        "passed_time": 0.9419963894,
                        "remaining_time": 5.174863282
                      },
                      {
                        "learn": [
                          0.09014685684
                        ],
                        "iteration": 154,
                        "passed_time": 0.947804918,
                        "remaining_time": 5.167065521
                      },
                      {
                        "learn": [
                          0.09006297683
                        ],
                        "iteration": 155,
                        "passed_time": 0.9616258475,
                        "remaining_time": 5.202642406
                      },
                      {
                        "learn": [
                          0.09002587063
                        ],
                        "iteration": 156,
                        "passed_time": 0.968701626,
                        "remaining_time": 5.201372425
                      },
                      {
                        "learn": [
                          0.08996081872
                        ],
                        "iteration": 157,
                        "passed_time": 0.9739427418,
                        "remaining_time": 5.190251826
                      },
                      {
                        "learn": [
                          0.08992006686
                        ],
                        "iteration": 158,
                        "passed_time": 0.9787768074,
                        "remaining_time": 5.17705217
                      },
                      {
                        "learn": [
                          0.08981290322
                        ],
                        "iteration": 159,
                        "passed_time": 0.9837207588,
                        "remaining_time": 5.164533983
                      },
                      {
                        "learn": [
                          0.08963480399
                        ],
                        "iteration": 160,
                        "passed_time": 0.9889844341,
                        "remaining_time": 5.153776026
                      },
                      {
                        "learn": [
                          0.08958196355
                        ],
                        "iteration": 161,
                        "passed_time": 0.9944369753,
                        "remaining_time": 5.144062872
                      },
                      {
                        "learn": [
                          0.08941717915
                        ],
                        "iteration": 162,
                        "passed_time": 1.001156576,
                        "remaining_time": 5.140908309
                      },
                      {
                        "learn": [
                          0.08935241269
                        ],
                        "iteration": 163,
                        "passed_time": 1.007333958,
                        "remaining_time": 5.134946272
                      },
                      {
                        "learn": [
                          0.08929082984
                        ],
                        "iteration": 164,
                        "passed_time": 1.012926975,
                        "remaining_time": 5.126024389
                      },
                      {
                        "learn": [
                          0.08918810978
                        ],
                        "iteration": 165,
                        "passed_time": 1.018638379,
                        "remaining_time": 5.117737396
                      },
                      {
                        "learn": [
                          0.08912143938
                        ],
                        "iteration": 166,
                        "passed_time": 1.024101965,
                        "remaining_time": 5.108245131
                      },
                      {
                        "learn": [
                          0.08906315319
                        ],
                        "iteration": 167,
                        "passed_time": 1.029482028,
                        "remaining_time": 5.098387186
                      },
                      {
                        "learn": [
                          0.08897999406
                        ],
                        "iteration": 168,
                        "passed_time": 1.035149603,
                        "remaining_time": 5.089995978
                      },
                      {
                        "learn": [
                          0.0888689325
                        ],
                        "iteration": 169,
                        "passed_time": 1.040788665,
                        "remaining_time": 5.081497601
                      },
                      {
                        "learn": [
                          0.08883051397
                        ],
                        "iteration": 170,
                        "passed_time": 1.046194076,
                        "remaining_time": 5.071899937
                      },
                      {
                        "learn": [
                          0.08869517986
                        ],
                        "iteration": 171,
                        "passed_time": 1.053679121,
                        "remaining_time": 5.07236228
                      },
                      {
                        "learn": [
                          0.08861730469
                        ],
                        "iteration": 172,
                        "passed_time": 1.060421729,
                        "remaining_time": 5.069183642
                      },
                      {
                        "learn": [
                          0.08853547216
                        ],
                        "iteration": 173,
                        "passed_time": 1.065871255,
                        "remaining_time": 5.059825611
                      },
                      {
                        "learn": [
                          0.08835105635
                        ],
                        "iteration": 174,
                        "passed_time": 1.072980042,
                        "remaining_time": 5.058334484
                      },
                      {
                        "learn": [
                          0.08826400662
                        ],
                        "iteration": 175,
                        "passed_time": 1.078625603,
                        "remaining_time": 5.049928958
                      },
                      {
                        "learn": [
                          0.0881927792
                        ],
                        "iteration": 176,
                        "passed_time": 1.083872673,
                        "remaining_time": 5.03970175
                      },
                      {
                        "learn": [
                          0.08809714399
                        ],
                        "iteration": 177,
                        "passed_time": 1.08912432,
                        "remaining_time": 5.029551636
                      },
                      {
                        "learn": [
                          0.0880656624
                        ],
                        "iteration": 178,
                        "passed_time": 1.09435666,
                        "remaining_time": 5.019367699
                      },
                      {
                        "learn": [
                          0.08796691094
                        ],
                        "iteration": 179,
                        "passed_time": 1.099941762,
                        "remaining_time": 5.010845804
                      },
                      {
                        "learn": [
                          0.08791828864
                        ],
                        "iteration": 180,
                        "passed_time": 1.10640625,
                        "remaining_time": 5.006335461
                      },
                      {
                        "learn": [
                          0.08783633995
                        ],
                        "iteration": 181,
                        "passed_time": 1.112756788,
                        "remaining_time": 5.001291497
                      },
                      {
                        "learn": [
                          0.08776518601
                        ],
                        "iteration": 182,
                        "passed_time": 1.117804126,
                        "remaining_time": 4.99041514
                      },
                      {
                        "learn": [
                          0.08763645254
                        ],
                        "iteration": 183,
                        "passed_time": 1.124279869,
                        "remaining_time": 4.985936811
                      },
                      {
                        "learn": [
                          0.08760804687
                        ],
                        "iteration": 184,
                        "passed_time": 1.129803345,
                        "remaining_time": 4.977241763
                      },
                      {
                        "learn": [
                          0.08750194378
                        ],
                        "iteration": 185,
                        "passed_time": 1.135035893,
                        "remaining_time": 4.967307617
                      },
                      {
                        "learn": [
                          0.08741651606
                        ],
                        "iteration": 186,
                        "passed_time": 1.140605548,
                        "remaining_time": 4.958889362
                      },
                      {
                        "learn": [
                          0.08731902792
                        ],
                        "iteration": 187,
                        "passed_time": 1.146384931,
                        "remaining_time": 4.951407254
                      },
                      {
                        "learn": [
                          0.08725405819
                        ],
                        "iteration": 188,
                        "passed_time": 1.151532578,
                        "remaining_time": 4.941232387
                      },
                      {
                        "learn": [
                          0.08704553304
                        ],
                        "iteration": 189,
                        "passed_time": 1.157591956,
                        "remaining_time": 4.934997286
                      },
                      {
                        "learn": [
                          0.0870010622
                        ],
                        "iteration": 190,
                        "passed_time": 1.163174892,
                        "remaining_time": 4.926746009
                      },
                      {
                        "learn": [
                          0.08695147722
                        ],
                        "iteration": 191,
                        "passed_time": 1.172357059,
                        "remaining_time": 4.93366929
                      },
                      {
                        "learn": [
                          0.08690338576
                        ],
                        "iteration": 192,
                        "passed_time": 1.17947255,
                        "remaining_time": 4.931784186
                      },
                      {
                        "learn": [
                          0.08685113276
                        ],
                        "iteration": 193,
                        "passed_time": 1.185430702,
                        "remaining_time": 4.925036836
                      },
                      {
                        "learn": [
                          0.08675175249
                        ],
                        "iteration": 194,
                        "passed_time": 1.194550596,
                        "remaining_time": 4.931349896
                      },
                      {
                        "learn": [
                          0.0866116841
                        ],
                        "iteration": 195,
                        "passed_time": 1.201094966,
                        "remaining_time": 4.926940576
                      },
                      {
                        "learn": [
                          0.08652069089
                        ],
                        "iteration": 196,
                        "passed_time": 1.208305758,
                        "remaining_time": 4.92522601
                      },
                      {
                        "learn": [
                          0.08645666772
                        ],
                        "iteration": 197,
                        "passed_time": 1.215063368,
                        "remaining_time": 4.921620308
                      },
                      {
                        "learn": [
                          0.0863777493
                        ],
                        "iteration": 198,
                        "passed_time": 1.221244843,
                        "remaining_time": 4.915663916
                      },
                      {
                        "learn": [
                          0.08630736537
                        ],
                        "iteration": 199,
                        "passed_time": 1.22643069,
                        "remaining_time": 4.905722761
                      },
                      {
                        "learn": [
                          0.08618864664
                        ],
                        "iteration": 200,
                        "passed_time": 1.231695964,
                        "remaining_time": 4.896144654
                      },
                      {
                        "learn": [
                          0.08614268152
                        ],
                        "iteration": 201,
                        "passed_time": 1.237623384,
                        "remaining_time": 4.889225052
                      },
                      {
                        "learn": [
                          0.08594588287
                        ],
                        "iteration": 202,
                        "passed_time": 1.243026806,
                        "remaining_time": 4.880257953
                      },
                      {
                        "learn": [
                          0.08588802577
                        ],
                        "iteration": 203,
                        "passed_time": 1.248090945,
                        "remaining_time": 4.870001923
                      },
                      {
                        "learn": [
                          0.08586616604
                        ],
                        "iteration": 204,
                        "passed_time": 1.2538285,
                        "remaining_time": 4.862408087
                      },
                      {
                        "learn": [
                          0.08582781156
                        ],
                        "iteration": 205,
                        "passed_time": 1.259492723,
                        "remaining_time": 4.854549623
                      },
                      {
                        "learn": [
                          0.08569578009
                        ],
                        "iteration": 206,
                        "passed_time": 1.264509987,
                        "remaining_time": 4.84423391
                      },
                      {
                        "learn": [
                          0.08563513709
                        ],
                        "iteration": 207,
                        "passed_time": 1.270195287,
                        "remaining_time": 4.836512823
                      },
                      {
                        "learn": [
                          0.08557602176
                        ],
                        "iteration": 208,
                        "passed_time": 1.27560575,
                        "remaining_time": 4.827771045
                      },
                      {
                        "learn": [
                          0.08539592453
                        ],
                        "iteration": 209,
                        "passed_time": 1.281262442,
                        "remaining_time": 4.81998728
                      },
                      {
                        "learn": [
                          0.0851281687
                        ],
                        "iteration": 210,
                        "passed_time": 1.286483859,
                        "remaining_time": 4.810596042
                      },
                      {
                        "learn": [
                          0.08509902695
                        ],
                        "iteration": 211,
                        "passed_time": 1.291959568,
                        "remaining_time": 4.802189338
                      },
                      {
                        "learn": [
                          0.08505683603
                        ],
                        "iteration": 212,
                        "passed_time": 1.297026723,
                        "remaining_time": 4.792300614
                      },
                      {
                        "learn": [
                          0.08500219987
                        ],
                        "iteration": 213,
                        "passed_time": 1.302231052,
                        "remaining_time": 4.782960781
                      },
                      {
                        "learn": [
                          0.08493317271
                        ],
                        "iteration": 214,
                        "passed_time": 1.307723484,
                        "remaining_time": 4.774711324
                      },
                      {
                        "learn": [
                          0.08480700788
                        ],
                        "iteration": 215,
                        "passed_time": 1.313081138,
                        "remaining_time": 4.765998206
                      },
                      {
                        "learn": [
                          0.08473858718
                        ],
                        "iteration": 216,
                        "passed_time": 1.31841215,
                        "remaining_time": 4.757219877
                      },
                      {
                        "learn": [
                          0.08469103193
                        ],
                        "iteration": 217,
                        "passed_time": 1.32358708,
                        "remaining_time": 4.747913287
                      },
                      {
                        "learn": [
                          0.08463736781
                        ],
                        "iteration": 218,
                        "passed_time": 1.328887612,
                        "remaining_time": 4.739092352
                      },
                      {
                        "learn": [
                          0.08456926954
                        ],
                        "iteration": 219,
                        "passed_time": 1.334020497,
                        "remaining_time": 4.729709036
                      },
                      {
                        "learn": [
                          0.08443544921
                        ],
                        "iteration": 220,
                        "passed_time": 1.339323293,
                        "remaining_time": 4.720963101
                      },
                      {
                        "learn": [
                          0.08422832346
                        ],
                        "iteration": 221,
                        "passed_time": 1.344626488,
                        "remaining_time": 4.712249583
                      },
                      {
                        "learn": [
                          0.08415638188
                        ],
                        "iteration": 222,
                        "passed_time": 1.35025136,
                        "remaining_time": 4.704687476
                      },
                      {
                        "learn": [
                          0.08409180245
                        ],
                        "iteration": 223,
                        "passed_time": 1.355973017,
                        "remaining_time": 4.697477952
                      },
                      {
                        "learn": [
                          0.08402223407
                        ],
                        "iteration": 224,
                        "passed_time": 1.361737432,
                        "remaining_time": 4.690428932
                      },
                      {
                        "learn": [
                          0.08388386352
                        ],
                        "iteration": 225,
                        "passed_time": 1.367215913,
                        "remaining_time": 4.682412019
                      },
                      {
                        "learn": [
                          0.08380971813
                        ],
                        "iteration": 226,
                        "passed_time": 1.37269995,
                        "remaining_time": 4.674436392
                      },
                      {
                        "learn": [
                          0.08374113971
                        ],
                        "iteration": 227,
                        "passed_time": 1.378149326,
                        "remaining_time": 4.666365261
                      },
                      {
                        "learn": [
                          0.08364730902
                        ],
                        "iteration": 228,
                        "passed_time": 1.384159968,
                        "remaining_time": 4.660206706
                      },
                      {
                        "learn": [
                          0.08356308979
                        ],
                        "iteration": 229,
                        "passed_time": 1.390984987,
                        "remaining_time": 4.656775826
                      },
                      {
                        "learn": [
                          0.08350005573
                        ],
                        "iteration": 230,
                        "passed_time": 1.3974914,
                        "remaining_time": 4.65225492
                      },
                      {
                        "learn": [
                          0.08347311064
                        ],
                        "iteration": 231,
                        "passed_time": 1.402928867,
                        "remaining_time": 4.644178318
                      },
                      {
                        "learn": [
                          0.08344140245
                        ],
                        "iteration": 232,
                        "passed_time": 1.409769784,
                        "remaining_time": 4.640744312
                      },
                      {
                        "learn": [
                          0.08339434258
                        ],
                        "iteration": 233,
                        "passed_time": 1.416007991,
                        "remaining_time": 4.635308209
                      },
                      {
                        "learn": [
                          0.08329939385
                        ],
                        "iteration": 234,
                        "passed_time": 1.421972559,
                        "remaining_time": 4.6289745
                      },
                      {
                        "learn": [
                          0.08326089947
                        ],
                        "iteration": 235,
                        "passed_time": 1.427331966,
                        "remaining_time": 4.620684838
                      },
                      {
                        "learn": [
                          0.08320073868
                        ],
                        "iteration": 236,
                        "passed_time": 1.432588328,
                        "remaining_time": 4.61208816
                      },
                      {
                        "learn": [
                          0.08313004553
                        ],
                        "iteration": 237,
                        "passed_time": 1.437679479,
                        "remaining_time": 4.602990601
                      },
                      {
                        "learn": [
                          0.08302013118
                        ],
                        "iteration": 238,
                        "passed_time": 1.44324408,
                        "remaining_time": 4.595434078
                      },
                      {
                        "learn": [
                          0.0829519991
                        ],
                        "iteration": 239,
                        "passed_time": 1.448760056,
                        "remaining_time": 4.587740177
                      },
                      {
                        "learn": [
                          0.08286147948
                        ],
                        "iteration": 240,
                        "passed_time": 1.453908399,
                        "remaining_time": 4.578906534
                      },
                      {
                        "learn": [
                          0.082833104
                        ],
                        "iteration": 241,
                        "passed_time": 1.459581707,
                        "remaining_time": 4.571747661
                      },
                      {
                        "learn": [
                          0.08261715488
                        ],
                        "iteration": 242,
                        "passed_time": 1.465712292,
                        "remaining_time": 4.566025536
                      },
                      {
                        "learn": [
                          0.08254297312
                        ],
                        "iteration": 243,
                        "passed_time": 1.471691443,
                        "remaining_time": 4.559830863
                      },
                      {
                        "learn": [
                          0.0824192889
                        ],
                        "iteration": 244,
                        "passed_time": 1.477031697,
                        "remaining_time": 4.551669106
                      },
                      {
                        "learn": [
                          0.08234811006
                        ],
                        "iteration": 245,
                        "passed_time": 1.483028326,
                        "remaining_time": 4.545542104
                      },
                      {
                        "learn": [
                          0.08232316859
                        ],
                        "iteration": 246,
                        "passed_time": 1.490657077,
                        "remaining_time": 4.544391818
                      },
                      {
                        "learn": [
                          0.08224877792
                        ],
                        "iteration": 247,
                        "passed_time": 1.496791888,
                        "remaining_time": 4.538659273
                      },
                      {
                        "learn": [
                          0.08220309687
                        ],
                        "iteration": 248,
                        "passed_time": 1.501992769,
                        "remaining_time": 4.530106706
                      },
                      {
                        "learn": [
                          0.08211746098
                        ],
                        "iteration": 249,
                        "passed_time": 1.50771371,
                        "remaining_time": 4.52314113
                      },
                      {
                        "learn": [
                          0.08205353804
                        ],
                        "iteration": 250,
                        "passed_time": 1.512845397,
                        "remaining_time": 4.5144271
                      },
                      {
                        "learn": [
                          0.08201663446
                        ],
                        "iteration": 251,
                        "passed_time": 1.517855266,
                        "remaining_time": 4.505379916
                      },
                      {
                        "learn": [
                          0.08199396396
                        ],
                        "iteration": 252,
                        "passed_time": 1.523038134,
                        "remaining_time": 4.49687544
                      },
                      {
                        "learn": [
                          0.08191256039
                        ],
                        "iteration": 253,
                        "passed_time": 1.528518838,
                        "remaining_time": 4.489271862
                      },
                      {
                        "learn": [
                          0.08186032644
                        ],
                        "iteration": 254,
                        "passed_time": 1.533633223,
                        "remaining_time": 4.480614712
                      },
                      {
                        "learn": [
                          0.08174009293
                        ],
                        "iteration": 255,
                        "passed_time": 1.538442614,
                        "remaining_time": 4.471098846
                      },
                      {
                        "learn": [
                          0.08170965622
                        ],
                        "iteration": 256,
                        "passed_time": 1.543492615,
                        "remaining_time": 4.462315225
                      },
                      {
                        "learn": [
                          0.08159915544
                        ],
                        "iteration": 257,
                        "passed_time": 1.548986638,
                        "remaining_time": 4.454837541
                      },
                      {
                        "learn": [
                          0.08152899858
                        ],
                        "iteration": 258,
                        "passed_time": 1.556211177,
                        "remaining_time": 4.452326185
                      },
                      {
                        "learn": [
                          0.08145758455
                        ],
                        "iteration": 259,
                        "passed_time": 1.562076419,
                        "remaining_time": 4.445909808
                      },
                      {
                        "learn": [
                          0.08142842668
                        ],
                        "iteration": 260,
                        "passed_time": 1.569536464,
                        "remaining_time": 4.444013206
                      },
                      {
                        "learn": [
                          0.08138363383
                        ],
                        "iteration": 261,
                        "passed_time": 1.575904012,
                        "remaining_time": 4.438996797
                      },
                      {
                        "learn": [
                          0.08131261901
                        ],
                        "iteration": 262,
                        "passed_time": 1.581791307,
                        "remaining_time": 4.432624309
                      },
                      {
                        "learn": [
                          0.08121849955
                        ],
                        "iteration": 263,
                        "passed_time": 1.591090905,
                        "remaining_time": 4.435768585
                      },
                      {
                        "learn": [
                          0.08117170213
                        ],
                        "iteration": 264,
                        "passed_time": 1.598373302,
                        "remaining_time": 4.433224063
                      },
                      {
                        "learn": [
                          0.08109442732
                        ],
                        "iteration": 265,
                        "passed_time": 1.605489419,
                        "remaining_time": 4.43018509
                      },
                      {
                        "learn": [
                          0.08104307026
                        ],
                        "iteration": 266,
                        "passed_time": 1.611774363,
                        "remaining_time": 4.424833739
                      },
                      {
                        "learn": [
                          0.0810191148
                        ],
                        "iteration": 267,
                        "passed_time": 1.618251352,
                        "remaining_time": 4.419999962
                      },
                      {
                        "learn": [
                          0.08094838172
                        ],
                        "iteration": 268,
                        "passed_time": 1.624535918,
                        "remaining_time": 4.414631064
                      },
                      {
                        "learn": [
                          0.08087640342
                        ],
                        "iteration": 269,
                        "passed_time": 1.63087614,
                        "remaining_time": 4.40940586
                      },
                      {
                        "learn": [
                          0.08081422545
                        ],
                        "iteration": 270,
                        "passed_time": 1.637268586,
                        "remaining_time": 4.404312912
                      },
                      {
                        "learn": [
                          0.08072004363
                        ],
                        "iteration": 271,
                        "passed_time": 1.64397399,
                        "remaining_time": 4.400048031
                      },
                      {
                        "learn": [
                          0.08069105089
                        ],
                        "iteration": 272,
                        "passed_time": 1.650562441,
                        "remaining_time": 4.395453825
                      },
                      {
                        "learn": [
                          0.08062636946
                        ],
                        "iteration": 273,
                        "passed_time": 1.657003925,
                        "remaining_time": 4.390455654
                      },
                      {
                        "learn": [
                          0.08060358368
                        ],
                        "iteration": 274,
                        "passed_time": 1.663159218,
                        "remaining_time": 4.384692483
                      },
                      {
                        "learn": [
                          0.08057172845
                        ],
                        "iteration": 275,
                        "passed_time": 1.66900904,
                        "remaining_time": 4.378125163
                      },
                      {
                        "learn": [
                          0.080534763
                        ],
                        "iteration": 276,
                        "passed_time": 1.675057944,
                        "remaining_time": 4.372082649
                      },
                      {
                        "learn": [
                          0.08046739795
                        ],
                        "iteration": 277,
                        "passed_time": 1.681450644,
                        "remaining_time": 4.366932967
                      },
                      {
                        "learn": [
                          0.08041623564
                        ],
                        "iteration": 278,
                        "passed_time": 1.687895439,
                        "remaining_time": 4.361909001
                      },
                      {
                        "learn": [
                          0.08038342526
                        ],
                        "iteration": 279,
                        "passed_time": 1.694033149,
                        "remaining_time": 4.356085241
                      },
                      {
                        "learn": [
                          0.08028871798
                        ],
                        "iteration": 280,
                        "passed_time": 1.700617119,
                        "remaining_time": 4.351401098
                      },
                      {
                        "learn": [
                          0.08025944847
                        ],
                        "iteration": 281,
                        "passed_time": 1.710454231,
                        "remaining_time": 4.354986304
                      },
                      {
                        "learn": [
                          0.08022885559
                        ],
                        "iteration": 282,
                        "passed_time": 1.717088548,
                        "remaining_time": 4.350362151
                      },
                      {
                        "learn": [
                          0.08020056205
                        ],
                        "iteration": 283,
                        "passed_time": 1.72370713,
                        "remaining_time": 4.345684173
                      },
                      {
                        "learn": [
                          0.0801262337
                        ],
                        "iteration": 284,
                        "passed_time": 1.730252354,
                        "remaining_time": 4.340808537
                      },
                      {
                        "learn": [
                          0.08007431208
                        ],
                        "iteration": 285,
                        "passed_time": 1.736808123,
                        "remaining_time": 4.335947551
                      },
                      {
                        "learn": [
                          0.08005028971
                        ],
                        "iteration": 286,
                        "passed_time": 1.74331707,
                        "remaining_time": 4.330958435
                      },
                      {
                        "learn": [
                          0.08002318947
                        ],
                        "iteration": 287,
                        "passed_time": 1.749739783,
                        "remaining_time": 4.325745573
                      },
                      {
                        "learn": [
                          0.07996400736
                        ],
                        "iteration": 288,
                        "passed_time": 1.756094052,
                        "remaining_time": 4.320355955
                      },
                      {
                        "learn": [
                          0.07990817313
                        ],
                        "iteration": 289,
                        "passed_time": 1.762179548,
                        "remaining_time": 4.314301652
                      },
                      {
                        "learn": [
                          0.07988566683
                        ],
                        "iteration": 290,
                        "passed_time": 1.76833191,
                        "remaining_time": 4.308410049
                      },
                      {
                        "learn": [
                          0.07979936339
                        ],
                        "iteration": 291,
                        "passed_time": 1.77502903,
                        "remaining_time": 4.30383751
                      },
                      {
                        "learn": [
                          0.07974600426
                        ],
                        "iteration": 292,
                        "passed_time": 1.781910118,
                        "remaining_time": 4.299694381
                      },
                      {
                        "learn": [
                          0.07964325276
                        ],
                        "iteration": 293,
                        "passed_time": 1.797472523,
                        "remaining_time": 4.316379596
                      },
                      {
                        "learn": [
                          0.07955639487
                        ],
                        "iteration": 294,
                        "passed_time": 1.805137019,
                        "remaining_time": 4.31397152
                      },
                      {
                        "learn": [
                          0.07949456152
                        ],
                        "iteration": 295,
                        "passed_time": 1.81155682,
                        "remaining_time": 4.308567571
                      },
                      {
                        "learn": [
                          0.07946810876
                        ],
                        "iteration": 296,
                        "passed_time": 1.817840651,
                        "remaining_time": 4.302834941
                      },
                      {
                        "learn": [
                          0.07942191701
                        ],
                        "iteration": 297,
                        "passed_time": 1.824142365,
                        "remaining_time": 4.297140739
                      },
                      {
                        "learn": [
                          0.07934505368
                        ],
                        "iteration": 298,
                        "passed_time": 1.830824973,
                        "remaining_time": 4.292335471
                      },
                      {
                        "learn": [
                          0.07929467049
                        ],
                        "iteration": 299,
                        "passed_time": 1.837367931,
                        "remaining_time": 4.28719184
                      },
                      {
                        "learn": [
                          0.07924346351
                        ],
                        "iteration": 300,
                        "passed_time": 1.847888214,
                        "remaining_time": 4.291275288
                      },
                      {
                        "learn": [
                          0.07922161283
                        ],
                        "iteration": 301,
                        "passed_time": 1.854163391,
                        "remaining_time": 4.285450488
                      },
                      {
                        "learn": [
                          0.07917777914
                        ],
                        "iteration": 302,
                        "passed_time": 1.860475386,
                        "remaining_time": 4.279707406
                      },
                      {
                        "learn": [
                          0.07914516629
                        ],
                        "iteration": 303,
                        "passed_time": 1.867866416,
                        "remaining_time": 4.276431005
                      },
                      {
                        "learn": [
                          0.07912115577
                        ],
                        "iteration": 304,
                        "passed_time": 1.873190511,
                        "remaining_time": 4.268417721
                      },
                      {
                        "learn": [
                          0.0790572761
                        ],
                        "iteration": 305,
                        "passed_time": 1.878583666,
                        "remaining_time": 4.260578641
                      },
                      {
                        "learn": [
                          0.07904348068
                        ],
                        "iteration": 306,
                        "passed_time": 1.883846584,
                        "remaining_time": 4.252461506
                      },
                      {
                        "learn": [
                          0.07902144337
                        ],
                        "iteration": 307,
                        "passed_time": 1.888964839,
                        "remaining_time": 4.244037885
                      },
                      {
                        "learn": [
                          0.07897997192
                        ],
                        "iteration": 308,
                        "passed_time": 1.894025294,
                        "remaining_time": 4.235506401
                      },
                      {
                        "learn": [
                          0.07896028116
                        ],
                        "iteration": 309,
                        "passed_time": 1.901069273,
                        "remaining_time": 4.231412252
                      },
                      {
                        "learn": [
                          0.07890412119
                        ],
                        "iteration": 310,
                        "passed_time": 1.907119517,
                        "remaining_time": 4.225097579
                      },
                      {
                        "learn": [
                          0.07886694818
                        ],
                        "iteration": 311,
                        "passed_time": 1.923207091,
                        "remaining_time": 4.240918201
                      },
                      {
                        "learn": [
                          0.07881278116
                        ],
                        "iteration": 312,
                        "passed_time": 1.929987378,
                        "remaining_time": 4.236106482
                      },
                      {
                        "learn": [
                          0.07871841017
                        ],
                        "iteration": 313,
                        "passed_time": 1.936955221,
                        "remaining_time": 4.23169198
                      },
                      {
                        "learn": [
                          0.078700203
                        ],
                        "iteration": 314,
                        "passed_time": 1.941992114,
                        "remaining_time": 4.223062215
                      },
                      {
                        "learn": [
                          0.07865969045
                        ],
                        "iteration": 315,
                        "passed_time": 1.947302026,
                        "remaining_time": 4.215046156
                      },
                      {
                        "learn": [
                          0.07861087989
                        ],
                        "iteration": 316,
                        "passed_time": 1.952997962,
                        "remaining_time": 4.207878889
                      },
                      {
                        "learn": [
                          0.07857564092
                        ],
                        "iteration": 317,
                        "passed_time": 1.958461736,
                        "remaining_time": 4.200222969
                      },
                      {
                        "learn": [
                          0.07851550758
                        ],
                        "iteration": 318,
                        "passed_time": 1.963869357,
                        "remaining_time": 4.192460915
                      },
                      {
                        "learn": [
                          0.07843696292
                        ],
                        "iteration": 319,
                        "passed_time": 1.975915526,
                        "remaining_time": 4.198820493
                      },
                      {
                        "learn": [
                          0.07841661283
                        ],
                        "iteration": 320,
                        "passed_time": 1.985414649,
                        "remaining_time": 4.199677715
                      },
                      {
                        "learn": [
                          0.07840220905
                        ],
                        "iteration": 321,
                        "passed_time": 1.995844865,
                        "remaining_time": 4.202431113
                      },
                      {
                        "learn": [
                          0.07837400884
                        ],
                        "iteration": 322,
                        "passed_time": 2.002833368,
                        "remaining_time": 4.197889133
                      },
                      {
                        "learn": [
                          0.0782757852
                        ],
                        "iteration": 323,
                        "passed_time": 2.010316574,
                        "remaining_time": 4.194364209
                      },
                      {
                        "learn": [
                          0.0782588463
                        ],
                        "iteration": 324,
                        "passed_time": 2.017668901,
                        "remaining_time": 4.190543101
                      },
                      {
                        "learn": [
                          0.07821219453
                        ],
                        "iteration": 325,
                        "passed_time": 2.025942986,
                        "remaining_time": 4.188606052
                      },
                      {
                        "learn": [
                          0.07817648186
                        ],
                        "iteration": 326,
                        "passed_time": 2.038999882,
                        "remaining_time": 4.196473764
                      },
                      {
                        "learn": [
                          0.0781206086
                        ],
                        "iteration": 327,
                        "passed_time": 2.047960645,
                        "remaining_time": 4.19582181
                      },
                      {
                        "learn": [
                          0.07808728363
                        ],
                        "iteration": 328,
                        "passed_time": 2.056888378,
                        "remaining_time": 4.195051981
                      },
                      {
                        "learn": [
                          0.07806618685
                        ],
                        "iteration": 329,
                        "passed_time": 2.063671631,
                        "remaining_time": 4.189878766
                      },
                      {
                        "learn": [
                          0.07805487828
                        ],
                        "iteration": 330,
                        "passed_time": 2.069914374,
                        "remaining_time": 4.183603373
                      },
                      {
                        "learn": [
                          0.0779959018
                        ],
                        "iteration": 331,
                        "passed_time": 2.0765976,
                        "remaining_time": 4.178214448
                      },
                      {
                        "learn": [
                          0.07796523473
                        ],
                        "iteration": 332,
                        "passed_time": 2.084104281,
                        "remaining_time": 4.174467134
                      },
                      {
                        "learn": [
                          0.0779188912
                        ],
                        "iteration": 333,
                        "passed_time": 2.097392694,
                        "remaining_time": 4.182226151
                      },
                      {
                        "learn": [
                          0.07789006557
                        ],
                        "iteration": 334,
                        "passed_time": 2.10845436,
                        "remaining_time": 4.185439251
                      },
                      {
                        "learn": [
                          0.07784194174
                        ],
                        "iteration": 335,
                        "passed_time": 2.114083612,
                        "remaining_time": 4.1778319
                      },
                      {
                        "learn": [
                          0.0777772403
                        ],
                        "iteration": 336,
                        "passed_time": 2.121925433,
                        "remaining_time": 4.174589206
                      },
                      {
                        "learn": [
                          0.07771743892
                        ],
                        "iteration": 337,
                        "passed_time": 2.129064076,
                        "remaining_time": 4.169942065
                      },
                      {
                        "learn": [
                          0.07770105855
                        ],
                        "iteration": 338,
                        "passed_time": 2.134510241,
                        "remaining_time": 4.161980146
                      },
                      {
                        "learn": [
                          0.07768297824
                        ],
                        "iteration": 339,
                        "passed_time": 2.140277581,
                        "remaining_time": 4.154656481
                      },
                      {
                        "learn": [
                          0.07760552266
                        ],
                        "iteration": 340,
                        "passed_time": 2.147591784,
                        "remaining_time": 4.150331337
                      },
                      {
                        "learn": [
                          0.07759292757
                        ],
                        "iteration": 341,
                        "passed_time": 2.153586503,
                        "remaining_time": 4.143450055
                      },
                      {
                        "learn": [
                          0.07753513163
                        ],
                        "iteration": 342,
                        "passed_time": 2.159655057,
                        "remaining_time": 4.136715373
                      },
                      {
                        "learn": [
                          0.07744142957
                        ],
                        "iteration": 343,
                        "passed_time": 2.164864892,
                        "remaining_time": 4.128347004
                      },
                      {
                        "learn": [
                          0.07741179946
                        ],
                        "iteration": 344,
                        "passed_time": 2.170164167,
                        "remaining_time": 4.120166752
                      },
                      {
                        "learn": [
                          0.0773691704
                        ],
                        "iteration": 345,
                        "passed_time": 2.175814376,
                        "remaining_time": 4.112666479
                      },
                      {
                        "learn": [
                          0.07729319985
                        ],
                        "iteration": 346,
                        "passed_time": 2.185201393,
                        "remaining_time": 4.112208961
                      },
                      {
                        "learn": [
                          0.07726341739
                        ],
                        "iteration": 347,
                        "passed_time": 2.191051519,
                        "remaining_time": 4.105073536
                      },
                      {
                        "learn": [
                          0.07706384763
                        ],
                        "iteration": 348,
                        "passed_time": 2.198258422,
                        "remaining_time": 4.100476311
                      },
                      {
                        "learn": [
                          0.07700954176
                        ],
                        "iteration": 349,
                        "passed_time": 2.203928508,
                        "remaining_time": 4.093010086
                      },
                      {
                        "learn": [
                          0.07700151138
                        ],
                        "iteration": 350,
                        "passed_time": 2.209464504,
                        "remaining_time": 4.085306162
                      },
                      {
                        "learn": [
                          0.07694575182
                        ],
                        "iteration": 351,
                        "passed_time": 2.215074356,
                        "remaining_time": 4.077750519
                      },
                      {
                        "learn": [
                          0.07686947426
                        ],
                        "iteration": 352,
                        "passed_time": 2.220780013,
                        "remaining_time": 4.070381496
                      },
                      {
                        "learn": [
                          0.07685450371
                        ],
                        "iteration": 353,
                        "passed_time": 2.226732102,
                        "remaining_time": 4.063471577
                      },
                      {
                        "learn": [
                          0.076832438
                        ],
                        "iteration": 354,
                        "passed_time": 2.232291161,
                        "remaining_time": 4.055852954
                      },
                      {
                        "learn": [
                          0.07678796565
                        ],
                        "iteration": 355,
                        "passed_time": 2.238159422,
                        "remaining_time": 4.048805246
                      },
                      {
                        "learn": [
                          0.07674409236
                        ],
                        "iteration": 356,
                        "passed_time": 2.244130142,
                        "remaining_time": 4.041948687
                      },
                      {
                        "learn": [
                          0.07670689075
                        ],
                        "iteration": 357,
                        "passed_time": 2.250103094,
                        "remaining_time": 4.03510108
                      },
                      {
                        "learn": [
                          0.07668003108
                        ],
                        "iteration": 358,
                        "passed_time": 2.255958203,
                        "remaining_time": 4.028047933
                      },
                      {
                        "learn": [
                          0.07663530196
                        ],
                        "iteration": 359,
                        "passed_time": 2.261908098,
                        "remaining_time": 4.021169952
                      },
                      {
                        "learn": [
                          0.07659427444
                        ],
                        "iteration": 360,
                        "passed_time": 2.268169458,
                        "remaining_time": 4.014848431
                      },
                      {
                        "learn": [
                          0.07657175236
                        ],
                        "iteration": 361,
                        "passed_time": 2.27397504,
                        "remaining_time": 4.007723965
                      },
                      {
                        "learn": [
                          0.07651930166
                        ],
                        "iteration": 362,
                        "passed_time": 2.279837749,
                        "remaining_time": 4.000707013
                      },
                      {
                        "learn": [
                          0.07647747837
                        ],
                        "iteration": 363,
                        "passed_time": 2.28557578,
                        "remaining_time": 3.99347856
                      },
                      {
                        "learn": [
                          0.07643677477
                        ],
                        "iteration": 364,
                        "passed_time": 2.291831011,
                        "remaining_time": 3.987158061
                      },
                      {
                        "learn": [
                          0.07639825618
                        ],
                        "iteration": 365,
                        "passed_time": 2.296986899,
                        "remaining_time": 3.97893359
                      },
                      {
                        "learn": [
                          0.07631195112
                        ],
                        "iteration": 366,
                        "passed_time": 2.302755212,
                        "remaining_time": 3.97178215
                      },
                      {
                        "learn": [
                          0.0763058847
                        ],
                        "iteration": 367,
                        "passed_time": 2.308387033,
                        "remaining_time": 3.964403817
                      },
                      {
                        "learn": [
                          0.07623324533
                        ],
                        "iteration": 368,
                        "passed_time": 2.314244306,
                        "remaining_time": 3.957420479
                      },
                      {
                        "learn": [
                          0.07620275299
                        ],
                        "iteration": 369,
                        "passed_time": 2.319806763,
                        "remaining_time": 3.949941246
                      },
                      {
                        "learn": [
                          0.0761287332
                        ],
                        "iteration": 370,
                        "passed_time": 2.325255119,
                        "remaining_time": 3.942278895
                      },
                      {
                        "learn": [
                          0.07607838189
                        ],
                        "iteration": 371,
                        "passed_time": 2.330746352,
                        "remaining_time": 3.934700831
                      },
                      {
                        "learn": [
                          0.07605454816
                        ],
                        "iteration": 372,
                        "passed_time": 2.336237286,
                        "remaining_time": 3.927133454
                      },
                      {
                        "learn": [
                          0.07603383603
                        ],
                        "iteration": 373,
                        "passed_time": 2.342168163,
                        "remaining_time": 3.920313557
                      },
                      {
                        "learn": [
                          0.07601835021
                        ],
                        "iteration": 374,
                        "passed_time": 2.347969401,
                        "remaining_time": 3.913282335
                      },
                      {
                        "learn": [
                          0.07600003288
                        ],
                        "iteration": 375,
                        "passed_time": 2.353029929,
                        "remaining_time": 3.905028393
                      },
                      {
                        "learn": [
                          0.07595933084
                        ],
                        "iteration": 376,
                        "passed_time": 2.358393186,
                        "remaining_time": 3.897291657
                      },
                      {
                        "learn": [
                          0.07588496902
                        ],
                        "iteration": 377,
                        "passed_time": 2.363561397,
                        "remaining_time": 3.889246532
                      },
                      {
                        "learn": [
                          0.07584315535
                        ],
                        "iteration": 378,
                        "passed_time": 2.368859316,
                        "remaining_time": 3.881429116
                      },
                      {
                        "learn": [
                          0.07580450847
                        ],
                        "iteration": 379,
                        "passed_time": 2.374135349,
                        "remaining_time": 3.873589254
                      },
                      {
                        "learn": [
                          0.07576373612
                        ],
                        "iteration": 380,
                        "passed_time": 2.382158149,
                        "remaining_time": 3.870225444
                      },
                      {
                        "learn": [
                          0.07574413988
                        ],
                        "iteration": 381,
                        "passed_time": 2.388486443,
                        "remaining_time": 3.864095868
                      },
                      {
                        "learn": [
                          0.07573434885
                        ],
                        "iteration": 382,
                        "passed_time": 2.393988126,
                        "remaining_time": 3.856633613
                      },
                      {
                        "learn": [
                          0.07569676784
                        ],
                        "iteration": 383,
                        "passed_time": 2.399334969,
                        "remaining_time": 3.848933179
                      },
                      {
                        "learn": [
                          0.07564196491
                        ],
                        "iteration": 384,
                        "passed_time": 2.404840269,
                        "remaining_time": 3.841498092
                      },
                      {
                        "learn": [
                          0.07563354557
                        ],
                        "iteration": 385,
                        "passed_time": 2.411056464,
                        "remaining_time": 3.835203805
                      },
                      {
                        "learn": [
                          0.07559574796
                        ],
                        "iteration": 386,
                        "passed_time": 2.416213428,
                        "remaining_time": 3.827232122
                      },
                      {
                        "learn": [
                          0.07555958189
                        ],
                        "iteration": 387,
                        "passed_time": 2.4233253,
                        "remaining_time": 3.822358463
                      },
                      {
                        "learn": [
                          0.07550470561
                        ],
                        "iteration": 388,
                        "passed_time": 2.435088627,
                        "remaining_time": 3.824779309
                      },
                      {
                        "learn": [
                          0.07540237935
                        ],
                        "iteration": 389,
                        "passed_time": 2.440750964,
                        "remaining_time": 3.817584841
                      },
                      {
                        "learn": [
                          0.07528948957
                        ],
                        "iteration": 390,
                        "passed_time": 2.44590256,
                        "remaining_time": 3.809602708
                      },
                      {
                        "learn": [
                          0.07524942746
                        ],
                        "iteration": 391,
                        "passed_time": 2.450817729,
                        "remaining_time": 3.801268314
                      },
                      {
                        "learn": [
                          0.07517940388
                        ],
                        "iteration": 392,
                        "passed_time": 2.455945176,
                        "remaining_time": 3.79327919
                      },
                      {
                        "learn": [
                          0.07516093797
                        ],
                        "iteration": 393,
                        "passed_time": 2.461109074,
                        "remaining_time": 3.785360656
                      },
                      {
                        "learn": [
                          0.07514063764
                        ],
                        "iteration": 394,
                        "passed_time": 2.465891656,
                        "remaining_time": 3.77687203
                      },
                      {
                        "learn": [
                          0.07502315616
                        ],
                        "iteration": 395,
                        "passed_time": 2.472790498,
                        "remaining_time": 3.771629951
                      },
                      {
                        "learn": [
                          0.07500787035
                        ],
                        "iteration": 396,
                        "passed_time": 2.477885543,
                        "remaining_time": 3.763639754
                      },
                      {
                        "learn": [
                          0.0749414076
                        ],
                        "iteration": 397,
                        "passed_time": 2.483090431,
                        "remaining_time": 3.75583025
                      },
                      {
                        "learn": [
                          0.07493286285
                        ],
                        "iteration": 398,
                        "passed_time": 2.488137752,
                        "remaining_time": 3.747796464
                      },
                      {
                        "learn": [
                          0.07491813225
                        ],
                        "iteration": 399,
                        "passed_time": 2.493458964,
                        "remaining_time": 3.740188446
                      },
                      {
                        "learn": [
                          0.07487224491
                        ],
                        "iteration": 400,
                        "passed_time": 2.499446115,
                        "remaining_time": 3.733586591
                      },
                      {
                        "learn": [
                          0.07485575202
                        ],
                        "iteration": 401,
                        "passed_time": 2.504917997,
                        "remaining_time": 3.726221299
                      },
                      {
                        "learn": [
                          0.07481186037
                        ],
                        "iteration": 402,
                        "passed_time": 2.510906512,
                        "remaining_time": 3.719630738
                      },
                      {
                        "learn": [
                          0.07477973524
                        ],
                        "iteration": 403,
                        "passed_time": 2.516435115,
                        "remaining_time": 3.712364674
                      },
                      {
                        "learn": [
                          0.07475598008
                        ],
                        "iteration": 404,
                        "passed_time": 2.521680801,
                        "remaining_time": 3.704691547
                      },
                      {
                        "learn": [
                          0.07474287588
                        ],
                        "iteration": 405,
                        "passed_time": 2.527028577,
                        "remaining_time": 3.697179741
                      },
                      {
                        "learn": [
                          0.07466706667
                        ],
                        "iteration": 406,
                        "passed_time": 2.53232084,
                        "remaining_time": 3.689597686
                      },
                      {
                        "learn": [
                          0.0746519154
                        ],
                        "iteration": 407,
                        "passed_time": 2.537253994,
                        "remaining_time": 3.681505796
                      },
                      {
                        "learn": [
                          0.07463633267
                        ],
                        "iteration": 408,
                        "passed_time": 2.542973343,
                        "remaining_time": 3.674565393
                      },
                      {
                        "learn": [
                          0.07460707103
                        ],
                        "iteration": 409,
                        "passed_time": 2.548495966,
                        "remaining_time": 3.667347853
                      },
                      {
                        "learn": [
                          0.07453505382
                        ],
                        "iteration": 410,
                        "passed_time": 2.554175104,
                        "remaining_time": 3.660362863
                      },
                      {
                        "learn": [
                          0.07452168075
                        ],
                        "iteration": 411,
                        "passed_time": 2.559657592,
                        "remaining_time": 3.653103554
                      },
                      {
                        "learn": [
                          0.07450646247
                        ],
                        "iteration": 412,
                        "passed_time": 2.565165063,
                        "remaining_time": 3.645888358
                      },
                      {
                        "learn": [
                          0.07446631923
                        ],
                        "iteration": 413,
                        "passed_time": 2.570727873,
                        "remaining_time": 3.638759743
                      },
                      {
                        "learn": [
                          0.07443191189
                        ],
                        "iteration": 414,
                        "passed_time": 2.576106554,
                        "remaining_time": 3.631379118
                      },
                      {
                        "learn": [
                          0.07441610484
                        ],
                        "iteration": 415,
                        "passed_time": 2.585012018,
                        "remaining_time": 3.628959179
                      },
                      {
                        "learn": [
                          0.07439952172
                        ],
                        "iteration": 416,
                        "passed_time": 2.590388918,
                        "remaining_time": 3.621574914
                      },
                      {
                        "learn": [
                          0.07437394228
                        ],
                        "iteration": 417,
                        "passed_time": 2.596966281,
                        "remaining_time": 3.615871711
                      },
                      {
                        "learn": [
                          0.07433665504
                        ],
                        "iteration": 418,
                        "passed_time": 2.602283788,
                        "remaining_time": 3.608417377
                      },
                      {
                        "learn": [
                          0.0742937143
                        ],
                        "iteration": 419,
                        "passed_time": 2.608231696,
                        "remaining_time": 3.60184377
                      },
                      {
                        "learn": [
                          0.07418767643
                        ],
                        "iteration": 420,
                        "passed_time": 2.613988646,
                        "remaining_time": 3.595010514
                      },
                      {
                        "learn": [
                          0.07415305253
                        ],
                        "iteration": 421,
                        "passed_time": 2.619345463,
                        "remaining_time": 3.587634307
                      },
                      {
                        "learn": [
                          0.07409054183
                        ],
                        "iteration": 422,
                        "passed_time": 2.62438738,
                        "remaining_time": 3.579838105
                      },
                      {
                        "learn": [
                          0.07405684844
                        ],
                        "iteration": 423,
                        "passed_time": 2.629222345,
                        "remaining_time": 3.571773752
                      },
                      {
                        "learn": [
                          0.07404357182
                        ],
                        "iteration": 424,
                        "passed_time": 2.634631898,
                        "remaining_time": 3.56450198
                      },
                      {
                        "learn": [
                          0.07388986908
                        ],
                        "iteration": 425,
                        "passed_time": 2.640390307,
                        "remaining_time": 3.557709006
                      },
                      {
                        "learn": [
                          0.07384939239
                        ],
                        "iteration": 426,
                        "passed_time": 2.645740776,
                        "remaining_time": 3.550373453
                      },
                      {
                        "learn": [
                          0.07383457492
                        ],
                        "iteration": 427,
                        "passed_time": 2.650689811,
                        "remaining_time": 3.542510682
                      },
                      {
                        "learn": [
                          0.07381603705
                        ],
                        "iteration": 428,
                        "passed_time": 2.65654698,
                        "remaining_time": 3.535870223
                      },
                      {
                        "learn": [
                          0.07376330266
                        ],
                        "iteration": 429,
                        "passed_time": 2.661980103,
                        "remaining_time": 3.528671299
                      },
                      {
                        "learn": [
                          0.0737026401
                        ],
                        "iteration": 430,
                        "passed_time": 2.66734531,
                        "remaining_time": 3.521390908
                      },
                      {
                        "learn": [
                          0.07369554463
                        ],
                        "iteration": 431,
                        "passed_time": 2.672586279,
                        "remaining_time": 3.513956033
                      },
                      {
                        "learn": [
                          0.07365500472
                        ],
                        "iteration": 432,
                        "passed_time": 2.678061909,
                        "remaining_time": 3.506838573
                      },
                      {
                        "learn": [
                          0.07364135419
                        ],
                        "iteration": 433,
                        "passed_time": 2.683311519,
                        "remaining_time": 3.499433916
                      },
                      {
                        "learn": [
                          0.07362897875
                        ],
                        "iteration": 434,
                        "passed_time": 2.689854068,
                        "remaining_time": 3.493718502
                      },
                      {
                        "learn": [
                          0.07362013093
                        ],
                        "iteration": 435,
                        "passed_time": 2.695141057,
                        "remaining_time": 3.486375129
                      },
                      {
                        "learn": [
                          0.07347118646
                        ],
                        "iteration": 436,
                        "passed_time": 2.700740568,
                        "remaining_time": 3.479443798
                      },
                      {
                        "learn": [
                          0.07342847043
                        ],
                        "iteration": 437,
                        "passed_time": 2.706470581,
                        "remaining_time": 3.472685996
                      },
                      {
                        "learn": [
                          0.07332776551
                        ],
                        "iteration": 438,
                        "passed_time": 2.714679114,
                        "remaining_time": 3.469100189
                      },
                      {
                        "learn": [
                          0.07326460914
                        ],
                        "iteration": 439,
                        "passed_time": 2.721924704,
                        "remaining_time": 3.464267805
                      },
                      {
                        "learn": [
                          0.07316907935
                        ],
                        "iteration": 440,
                        "passed_time": 2.728421655,
                        "remaining_time": 3.458475522
                      },
                      {
                        "learn": [
                          0.07307829862
                        ],
                        "iteration": 441,
                        "passed_time": 2.73372284,
                        "remaining_time": 3.451170464
                      },
                      {
                        "learn": [
                          0.07297951259
                        ],
                        "iteration": 442,
                        "passed_time": 2.738933664,
                        "remaining_time": 3.443760838
                      },
                      {
                        "learn": [
                          0.07288672808
                        ],
                        "iteration": 443,
                        "passed_time": 2.74415511,
                        "remaining_time": 3.436374417
                      },
                      {
                        "learn": [
                          0.07280161583
                        ],
                        "iteration": 444,
                        "passed_time": 2.749227666,
                        "remaining_time": 3.428812032
                      },
                      {
                        "learn": [
                          0.07278889171
                        ],
                        "iteration": 445,
                        "passed_time": 2.754151584,
                        "remaining_time": 3.421076183
                      },
                      {
                        "learn": [
                          0.07278052792
                        ],
                        "iteration": 446,
                        "passed_time": 2.759154521,
                        "remaining_time": 3.413450672
                      },
                      {
                        "learn": [
                          0.07275055312
                        ],
                        "iteration": 447,
                        "passed_time": 2.764671451,
                        "remaining_time": 3.406470181
                      },
                      {
                        "learn": [
                          0.07272381518
                        ],
                        "iteration": 448,
                        "passed_time": 2.77015552,
                        "remaining_time": 3.399455883
                      },
                      {
                        "learn": [
                          0.07264977578
                        ],
                        "iteration": 449,
                        "passed_time": 2.777384946,
                        "remaining_time": 3.394581601
                      },
                      {
                        "learn": [
                          0.07260900814
                        ],
                        "iteration": 450,
                        "passed_time": 2.785566671,
                        "remaining_time": 3.390856103
                      },
                      {
                        "learn": [
                          0.07258065898
                        ],
                        "iteration": 451,
                        "passed_time": 2.792079378,
                        "remaining_time": 3.385087388
                      },
                      {
                        "learn": [
                          0.07256180089
                        ],
                        "iteration": 452,
                        "passed_time": 2.798077124,
                        "remaining_time": 3.37869357
                      },
                      {
                        "learn": [
                          0.07253437526
                        ],
                        "iteration": 453,
                        "passed_time": 2.802956494,
                        "remaining_time": 3.370956489
                      },
                      {
                        "learn": [
                          0.07250992096
                        ],
                        "iteration": 454,
                        "passed_time": 2.807930652,
                        "remaining_time": 3.363345506
                      },
                      {
                        "learn": [
                          0.07245370272
                        ],
                        "iteration": 455,
                        "passed_time": 2.813348572,
                        "remaining_time": 3.35627549
                      },
                      {
                        "learn": [
                          0.07242774158
                        ],
                        "iteration": 456,
                        "passed_time": 2.818829788,
                        "remaining_time": 3.349287909
                      },
                      {
                        "learn": [
                          0.07241600733
                        ],
                        "iteration": 457,
                        "passed_time": 2.824210437,
                        "remaining_time": 3.342187897
                      },
                      {
                        "learn": [
                          0.07238101793
                        ],
                        "iteration": 458,
                        "passed_time": 2.830087702,
                        "remaining_time": 3.335680712
                      },
                      {
                        "learn": [
                          0.07236607837
                        ],
                        "iteration": 459,
                        "passed_time": 2.835882258,
                        "remaining_time": 3.329079172
                      },
                      {
                        "learn": [
                          0.07233268595
                        ],
                        "iteration": 460,
                        "passed_time": 2.841827112,
                        "remaining_time": 3.322656862
                      },
                      {
                        "learn": [
                          0.07228429472
                        ],
                        "iteration": 461,
                        "passed_time": 2.847024557,
                        "remaining_time": 3.315366259
                      },
                      {
                        "learn": [
                          0.07220077303
                        ],
                        "iteration": 462,
                        "passed_time": 2.853127374,
                        "remaining_time": 3.309134773
                      },
                      {
                        "learn": [
                          0.0721198052
                        ],
                        "iteration": 463,
                        "passed_time": 2.858615869,
                        "remaining_time": 3.302194194
                      },
                      {
                        "learn": [
                          0.07207908271
                        ],
                        "iteration": 464,
                        "passed_time": 2.863853826,
                        "remaining_time": 3.294971607
                      },
                      {
                        "learn": [
                          0.07207160681
                        ],
                        "iteration": 465,
                        "passed_time": 2.870875423,
                        "remaining_time": 3.28980145
                      },
                      {
                        "learn": [
                          0.07200866599
                        ],
                        "iteration": 466,
                        "passed_time": 2.894519241,
                        "remaining_time": 3.303594765
                      },
                      {
                        "learn": [
                          0.07200158142
                        ],
                        "iteration": 467,
                        "passed_time": 2.901563405,
                        "remaining_time": 3.298358401
                      },
                      {
                        "learn": [
                          0.07196359614
                        ],
                        "iteration": 468,
                        "passed_time": 2.910880396,
                        "remaining_time": 3.295687613
                      },
                      {
                        "learn": [
                          0.07193584389
                        ],
                        "iteration": 469,
                        "passed_time": 2.91590622,
                        "remaining_time": 3.288149567
                      },
                      {
                        "learn": [
                          0.07184238071
                        ],
                        "iteration": 470,
                        "passed_time": 2.921358085,
                        "remaining_time": 3.281100694
                      },
                      {
                        "learn": [
                          0.07182917026
                        ],
                        "iteration": 471,
                        "passed_time": 2.926575576,
                        "remaining_time": 3.273796407
                      },
                      {
                        "learn": [
                          0.07180224545
                        ],
                        "iteration": 472,
                        "passed_time": 2.93185992,
                        "remaining_time": 3.266575429
                      },
                      {
                        "learn": [
                          0.07176974964
                        ],
                        "iteration": 473,
                        "passed_time": 2.936900769,
                        "remaining_time": 3.259092415
                      },
                      {
                        "learn": [
                          0.07175802768
                        ],
                        "iteration": 474,
                        "passed_time": 2.942348468,
                        "remaining_time": 3.252069359
                      },
                      {
                        "learn": [
                          0.07172357813
                        ],
                        "iteration": 475,
                        "passed_time": 2.947576377,
                        "remaining_time": 3.24481097
                      },
                      {
                        "learn": [
                          0.07168749997
                        ],
                        "iteration": 476,
                        "passed_time": 2.952913486,
                        "remaining_time": 3.237680824
                      },
                      {
                        "learn": [
                          0.07165733616
                        ],
                        "iteration": 477,
                        "passed_time": 2.958069675,
                        "remaining_time": 3.230360607
                      },
                      {
                        "learn": [
                          0.07157675785
                        ],
                        "iteration": 478,
                        "passed_time": 2.963643894,
                        "remaining_time": 3.22350411
                      },
                      {
                        "learn": [
                          0.07155236777
                        ],
                        "iteration": 479,
                        "passed_time": 2.969075854,
                        "remaining_time": 3.216498842
                      },
                      {
                        "learn": [
                          0.07151644304
                        ],
                        "iteration": 480,
                        "passed_time": 2.978013718,
                        "remaining_time": 3.213282993
                      },
                      {
                        "learn": [
                          0.07147928281
                        ],
                        "iteration": 481,
                        "passed_time": 2.983966853,
                        "remaining_time": 3.206835746
                      },
                      {
                        "learn": [
                          0.07142952231
                        ],
                        "iteration": 482,
                        "passed_time": 2.989286989,
                        "remaining_time": 3.199712988
                      },
                      {
                        "learn": [
                          0.0714155142
                        ],
                        "iteration": 483,
                        "passed_time": 2.994529643,
                        "remaining_time": 3.192515074
                      },
                      {
                        "learn": [
                          0.07140410421
                        ],
                        "iteration": 484,
                        "passed_time": 2.999353174,
                        "remaining_time": 3.184880175
                      },
                      {
                        "learn": [
                          0.07137835055
                        ],
                        "iteration": 485,
                        "passed_time": 3.007120177,
                        "remaining_time": 3.180369899
                      },
                      {
                        "learn": [
                          0.07136537462
                        ],
                        "iteration": 486,
                        "passed_time": 3.012592017,
                        "remaining_time": 3.173428552
                      },
                      {
                        "learn": [
                          0.07135324676
                        ],
                        "iteration": 487,
                        "passed_time": 3.017839319,
                        "remaining_time": 3.166257646
                      },
                      {
                        "learn": [
                          0.07134679719
                        ],
                        "iteration": 488,
                        "passed_time": 3.023137899,
                        "remaining_time": 3.159148193
                      },
                      {
                        "learn": [
                          0.07130065293
                        ],
                        "iteration": 489,
                        "passed_time": 3.028722813,
                        "remaining_time": 3.152344152
                      },
                      {
                        "learn": [
                          0.07127070606
                        ],
                        "iteration": 490,
                        "passed_time": 3.034118263,
                        "remaining_time": 3.145348668
                      },
                      {
                        "learn": [
                          0.07125944422
                        ],
                        "iteration": 491,
                        "passed_time": 3.03975856,
                        "remaining_time": 3.138612497
                      },
                      {
                        "learn": [
                          0.07122681179
                        ],
                        "iteration": 492,
                        "passed_time": 3.048988736,
                        "remaining_time": 3.135572594
                      },
                      {
                        "learn": [
                          0.07121535037
                        ],
                        "iteration": 493,
                        "passed_time": 3.054083466,
                        "remaining_time": 3.128271728
                      },
                      {
                        "learn": [
                          0.0712049883
                        ],
                        "iteration": 494,
                        "passed_time": 3.060617171,
                        "remaining_time": 3.122447821
                      },
                      {
                        "learn": [
                          0.07117381617
                        ],
                        "iteration": 495,
                        "passed_time": 3.066133162,
                        "remaining_time": 3.115586923
                      },
                      {
                        "learn": [
                          0.07114076318
                        ],
                        "iteration": 496,
                        "passed_time": 3.071779087,
                        "remaining_time": 3.108862939
                      },
                      {
                        "learn": [
                          0.07111130682
                        ],
                        "iteration": 497,
                        "passed_time": 3.077628668,
                        "remaining_time": 3.102348577
                      },
                      {
                        "learn": [
                          0.07108864062
                        ],
                        "iteration": 498,
                        "passed_time": 3.083145872,
                        "remaining_time": 3.09550317
                      },
                      {
                        "learn": [
                          0.07102135803
                        ],
                        "iteration": 499,
                        "passed_time": 3.088926854,
                        "remaining_time": 3.088926854
                      },
                      {
                        "learn": [
                          0.07099664092
                        ],
                        "iteration": 500,
                        "passed_time": 3.094541281,
                        "remaining_time": 3.082187823
                      },
                      {
                        "learn": [
                          0.07097536778
                        ],
                        "iteration": 501,
                        "passed_time": 3.100324258,
                        "remaining_time": 3.075620479
                      },
                      {
                        "learn": [
                          0.07096613651
                        ],
                        "iteration": 502,
                        "passed_time": 3.106058097,
                        "remaining_time": 3.069007702
                      },
                      {
                        "learn": [
                          0.07094654619
                        ],
                        "iteration": 503,
                        "passed_time": 3.111342774,
                        "remaining_time": 3.061956381
                      },
                      {
                        "learn": [
                          0.07091187256
                        ],
                        "iteration": 504,
                        "passed_time": 3.116813494,
                        "remaining_time": 3.055094414
                      },
                      {
                        "learn": [
                          0.0708292269
                        ],
                        "iteration": 505,
                        "passed_time": 3.124437617,
                        "remaining_time": 3.050340282
                      },
                      {
                        "learn": [
                          0.07079506646
                        ],
                        "iteration": 506,
                        "passed_time": 3.131077535,
                        "remaining_time": 3.0446178
                      },
                      {
                        "learn": [
                          0.07072667987
                        ],
                        "iteration": 507,
                        "passed_time": 3.137420039,
                        "remaining_time": 3.03860366
                      },
                      {
                        "learn": [
                          0.07069155218
                        ],
                        "iteration": 508,
                        "passed_time": 3.143024236,
                        "remaining_time": 3.031876031
                      },
                      {
                        "learn": [
                          0.07066936268
                        ],
                        "iteration": 509,
                        "passed_time": 3.148856432,
                        "remaining_time": 3.025371866
                      },
                      {
                        "learn": [
                          0.0706023729
                        ],
                        "iteration": 510,
                        "passed_time": 3.154314133,
                        "remaining_time": 3.018511959
                      },
                      {
                        "learn": [
                          0.07059239726
                        ],
                        "iteration": 511,
                        "passed_time": 3.159771451,
                        "remaining_time": 3.011657165
                      },
                      {
                        "learn": [
                          0.0705679494
                        ],
                        "iteration": 512,
                        "passed_time": 3.165163556,
                        "remaining_time": 3.00474591
                      },
                      {
                        "learn": [
                          0.07055383121
                        ],
                        "iteration": 513,
                        "passed_time": 3.170513538,
                        "remaining_time": 2.997800738
                      },
                      {
                        "learn": [
                          0.07054806348
                        ],
                        "iteration": 514,
                        "passed_time": 3.17898637,
                        "remaining_time": 2.993802698
                      },
                      {
                        "learn": [
                          0.07052869873
                        ],
                        "iteration": 515,
                        "passed_time": 3.18478546,
                        "remaining_time": 2.987279385
                      },
                      {
                        "learn": [
                          0.07051866417
                        ],
                        "iteration": 516,
                        "passed_time": 3.189656599,
                        "remaining_time": 2.979891949
                      },
                      {
                        "learn": [
                          0.07047265423
                        ],
                        "iteration": 517,
                        "passed_time": 3.195208572,
                        "remaining_time": 2.973147744
                      },
                      {
                        "learn": [
                          0.07044902879
                        ],
                        "iteration": 518,
                        "passed_time": 3.200337713,
                        "remaining_time": 2.966016262
                      },
                      {
                        "learn": [
                          0.07043624418
                        ],
                        "iteration": 519,
                        "passed_time": 3.205712385,
                        "remaining_time": 2.959119125
                      },
                      {
                        "learn": [
                          0.07040390181
                        ],
                        "iteration": 520,
                        "passed_time": 3.211434774,
                        "remaining_time": 2.952547517
                      },
                      {
                        "learn": [
                          0.07038590077
                        ],
                        "iteration": 521,
                        "passed_time": 3.21800333,
                        "remaining_time": 2.946754007
                      },
                      {
                        "learn": [
                          0.07032307854
                        ],
                        "iteration": 522,
                        "passed_time": 3.225947481,
                        "remaining_time": 2.942212139
                      },
                      {
                        "learn": [
                          0.070303983
                        ],
                        "iteration": 523,
                        "passed_time": 3.232127018,
                        "remaining_time": 2.936054314
                      },
                      {
                        "learn": [
                          0.07029841191
                        ],
                        "iteration": 524,
                        "passed_time": 3.237430047,
                        "remaining_time": 2.929103376
                      },
                      {
                        "learn": [
                          0.07025596851
                        ],
                        "iteration": 525,
                        "passed_time": 3.242896909,
                        "remaining_time": 2.92230634
                      },
                      {
                        "learn": [
                          0.07023786816
                        ],
                        "iteration": 526,
                        "passed_time": 3.248350095,
                        "remaining_time": 2.915502077
                      },
                      {
                        "learn": [
                          0.07020759999
                        ],
                        "iteration": 527,
                        "passed_time": 3.253632214,
                        "remaining_time": 2.908550009
                      },
                      {
                        "learn": [
                          0.07019014467
                        ],
                        "iteration": 528,
                        "passed_time": 3.258781127,
                        "remaining_time": 2.901485654
                      },
                      {
                        "learn": [
                          0.07016847542
                        ],
                        "iteration": 529,
                        "passed_time": 3.264538867,
                        "remaining_time": 2.894968429
                      },
                      {
                        "learn": [
                          0.07013342368
                        ],
                        "iteration": 530,
                        "passed_time": 3.270648778,
                        "remaining_time": 2.888765117
                      },
                      {
                        "learn": [
                          0.07011207099
                        ],
                        "iteration": 531,
                        "passed_time": 3.277616996,
                        "remaining_time": 2.883317207
                      },
                      {
                        "learn": [
                          0.07010680004
                        ],
                        "iteration": 532,
                        "passed_time": 3.283084608,
                        "remaining_time": 2.876548803
                      },
                      {
                        "learn": [
                          0.07008842181
                        ],
                        "iteration": 533,
                        "passed_time": 3.288788062,
                        "remaining_time": 2.869991081
                      },
                      {
                        "learn": [
                          0.07002987492
                        ],
                        "iteration": 534,
                        "passed_time": 3.294725286,
                        "remaining_time": 2.863639735
                      },
                      {
                        "learn": [
                          0.07002490741
                        ],
                        "iteration": 535,
                        "passed_time": 3.300973611,
                        "remaining_time": 2.857559245
                      },
                      {
                        "learn": [
                          0.07001416733
                        ],
                        "iteration": 536,
                        "passed_time": 3.306652241,
                        "remaining_time": 2.850986942
                      },
                      {
                        "learn": [
                          0.06998537434
                        ],
                        "iteration": 537,
                        "passed_time": 3.312210493,
                        "remaining_time": 2.844314587
                      },
                      {
                        "learn": [
                          0.069953582
                        ],
                        "iteration": 538,
                        "passed_time": 3.317766716,
                        "remaining_time": 2.837644631
                      },
                      {
                        "learn": [
                          0.0699144087
                        ],
                        "iteration": 539,
                        "passed_time": 3.322934537,
                        "remaining_time": 2.830647939
                      },
                      {
                        "learn": [
                          0.06988070611
                        ],
                        "iteration": 540,
                        "passed_time": 3.328568292,
                        "remaining_time": 2.82405332
                      },
                      {
                        "learn": [
                          0.06985393164
                        ],
                        "iteration": 541,
                        "passed_time": 3.33363835,
                        "remaining_time": 2.816985912
                      },
                      {
                        "learn": [
                          0.06981884614
                        ],
                        "iteration": 542,
                        "passed_time": 3.339247776,
                        "remaining_time": 2.810379804
                      },
                      {
                        "learn": [
                          0.06979769809
                        ],
                        "iteration": 543,
                        "passed_time": 3.344838427,
                        "remaining_time": 2.803761623
                      },
                      {
                        "learn": [
                          0.0697798037
                        ],
                        "iteration": 544,
                        "passed_time": 3.350372963,
                        "remaining_time": 2.797100363
                      },
                      {
                        "learn": [
                          0.06974124469
                        ],
                        "iteration": 545,
                        "passed_time": 3.355800228,
                        "remaining_time": 2.790354036
                      },
                      {
                        "learn": [
                          0.06970265834
                        ],
                        "iteration": 546,
                        "passed_time": 3.361332424,
                        "remaining_time": 2.78369943
                      },
                      {
                        "learn": [
                          0.06966686518
                        ],
                        "iteration": 547,
                        "passed_time": 3.366541051,
                        "remaining_time": 2.776782035
                      },
                      {
                        "learn": [
                          0.06964531905
                        ],
                        "iteration": 548,
                        "passed_time": 3.371990079,
                        "remaining_time": 2.770068353
                      },
                      {
                        "learn": [
                          0.06962135647
                        ],
                        "iteration": 549,
                        "passed_time": 3.379863996,
                        "remaining_time": 2.765343269
                      },
                      {
                        "learn": [
                          0.06959768919
                        ],
                        "iteration": 550,
                        "passed_time": 3.385923733,
                        "remaining_time": 2.759128414
                      },
                      {
                        "learn": [
                          0.06955920337
                        ],
                        "iteration": 551,
                        "passed_time": 3.391233195,
                        "remaining_time": 2.752305202
                      },
                      {
                        "learn": [
                          0.06954060839
                        ],
                        "iteration": 552,
                        "passed_time": 3.396718121,
                        "remaining_time": 2.745629295
                      },
                      {
                        "learn": [
                          0.06951549722
                        ],
                        "iteration": 553,
                        "passed_time": 3.401914416,
                        "remaining_time": 2.738725324
                      },
                      {
                        "learn": [
                          0.06949426697
                        ],
                        "iteration": 554,
                        "passed_time": 3.407309556,
                        "remaining_time": 2.731986941
                      },
                      {
                        "learn": [
                          0.0694583355
                        ],
                        "iteration": 555,
                        "passed_time": 3.412535807,
                        "remaining_time": 2.725118522
                      },
                      {
                        "learn": [
                          0.06942411627
                        ],
                        "iteration": 556,
                        "passed_time": 3.418569228,
                        "remaining_time": 2.718897968
                      },
                      {
                        "learn": [
                          0.069402788
                        ],
                        "iteration": 557,
                        "passed_time": 3.424158721,
                        "remaining_time": 2.712326442
                      },
                      {
                        "learn": [
                          0.06932134628
                        ],
                        "iteration": 558,
                        "passed_time": 3.429428892,
                        "remaining_time": 2.705506514
                      },
                      {
                        "learn": [
                          0.06930757958
                        ],
                        "iteration": 559,
                        "passed_time": 3.434165878,
                        "remaining_time": 2.69827319
                      },
                      {
                        "learn": [
                          0.06927756372
                        ],
                        "iteration": 560,
                        "passed_time": 3.439275583,
                        "remaining_time": 2.69134043
                      },
                      {
                        "learn": [
                          0.06920719094
                        ],
                        "iteration": 561,
                        "passed_time": 3.444383353,
                        "remaining_time": 2.684412649
                      },
                      {
                        "learn": [
                          0.06917223377
                        ],
                        "iteration": 562,
                        "passed_time": 3.450043067,
                        "remaining_time": 2.677919752
                      },
                      {
                        "learn": [
                          0.06911889828
                        ],
                        "iteration": 563,
                        "passed_time": 3.455702813,
                        "remaining_time": 2.671429834
                      },
                      {
                        "learn": [
                          0.06905256152
                        ],
                        "iteration": 564,
                        "passed_time": 3.461225617,
                        "remaining_time": 2.664837422
                      },
                      {
                        "learn": [
                          0.06901267637
                        ],
                        "iteration": 565,
                        "passed_time": 3.466693011,
                        "remaining_time": 2.658206302
                      },
                      {
                        "learn": [
                          0.06898243098
                        ],
                        "iteration": 566,
                        "passed_time": 3.472219405,
                        "remaining_time": 2.651624343
                      },
                      {
                        "learn": [
                          0.06896937245
                        ],
                        "iteration": 567,
                        "passed_time": 3.47725367,
                        "remaining_time": 2.644671805
                      },
                      {
                        "learn": [
                          0.06892891565
                        ],
                        "iteration": 568,
                        "passed_time": 3.482568119,
                        "remaining_time": 2.637938241
                      },
                      {
                        "learn": [
                          0.06889872347
                        ],
                        "iteration": 569,
                        "passed_time": 3.487657345,
                        "remaining_time": 2.631039752
                      },
                      {
                        "learn": [
                          0.06887413905
                        ],
                        "iteration": 570,
                        "passed_time": 3.493044113,
                        "remaining_time": 2.624371146
                      },
                      {
                        "learn": [
                          0.06885754873
                        ],
                        "iteration": 571,
                        "passed_time": 3.50178279,
                        "remaining_time": 2.620215094
                      },
                      {
                        "learn": [
                          0.06885293841
                        ],
                        "iteration": 572,
                        "passed_time": 3.509886158,
                        "remaining_time": 2.615569615
                      },
                      {
                        "learn": [
                          0.06882535516
                        ],
                        "iteration": 573,
                        "passed_time": 3.525086884,
                        "remaining_time": 2.616179465
                      },
                      {
                        "learn": [
                          0.06881455144
                        ],
                        "iteration": 574,
                        "passed_time": 3.542747379,
                        "remaining_time": 2.618552411
                      },
                      {
                        "learn": [
                          0.06876055268
                        ],
                        "iteration": 575,
                        "passed_time": 3.555913393,
                        "remaining_time": 2.617547359
                      },
                      {
                        "learn": [
                          0.06874832476
                        ],
                        "iteration": 576,
                        "passed_time": 3.571321444,
                        "remaining_time": 2.618143797
                      },
                      {
                        "learn": [
                          0.06872876382
                        ],
                        "iteration": 577,
                        "passed_time": 3.590670102,
                        "remaining_time": 2.621561909
                      },
                      {
                        "learn": [
                          0.06871761711
                        ],
                        "iteration": 578,
                        "passed_time": 3.596319955,
                        "remaining_time": 2.614940762
                      },
                      {
                        "learn": [
                          0.06869600134
                        ],
                        "iteration": 579,
                        "passed_time": 3.601980353,
                        "remaining_time": 2.6083306
                      },
                      {
                        "learn": [
                          0.0686306203
                        ],
                        "iteration": 580,
                        "passed_time": 3.607881505,
                        "remaining_time": 2.601897333
                      },
                      {
                        "learn": [
                          0.06854868703
                        ],
                        "iteration": 581,
                        "passed_time": 3.613907284,
                        "remaining_time": 2.595555403
                      },
                      {
                        "learn": [
                          0.06851934374
                        ],
                        "iteration": 582,
                        "passed_time": 3.621458915,
                        "remaining_time": 2.590305948
                      },
                      {
                        "learn": [
                          0.06844379022
                        ],
                        "iteration": 583,
                        "passed_time": 3.632900397,
                        "remaining_time": 2.587819461
                      },
                      {
                        "learn": [
                          0.06840637135
                        ],
                        "iteration": 584,
                        "passed_time": 3.645919772,
                        "remaining_time": 2.586421719
                      },
                      {
                        "learn": [
                          0.0683365446
                        ],
                        "iteration": 585,
                        "passed_time": 3.655332663,
                        "remaining_time": 2.582436387
                      },
                      {
                        "learn": [
                          0.06831022527
                        ],
                        "iteration": 586,
                        "passed_time": 3.663097244,
                        "remaining_time": 2.577272848
                      },
                      {
                        "learn": [
                          0.06826625526
                        ],
                        "iteration": 587,
                        "passed_time": 3.669563479,
                        "remaining_time": 2.571190737
                      },
                      {
                        "learn": [
                          0.06823179469
                        ],
                        "iteration": 588,
                        "passed_time": 3.676109163,
                        "remaining_time": 2.56516276
                      },
                      {
                        "learn": [
                          0.06819137707
                        ],
                        "iteration": 589,
                        "passed_time": 3.682708875,
                        "remaining_time": 2.559170574
                      },
                      {
                        "learn": [
                          0.06816718681
                        ],
                        "iteration": 590,
                        "passed_time": 3.689021171,
                        "remaining_time": 2.552977426
                      },
                      {
                        "learn": [
                          0.06814735899
                        ],
                        "iteration": 591,
                        "passed_time": 3.695434005,
                        "remaining_time": 2.546853165
                      },
                      {
                        "learn": [
                          0.06813104868
                        ],
                        "iteration": 592,
                        "passed_time": 3.701771212,
                        "remaining_time": 2.540676026
                      },
                      {
                        "learn": [
                          0.06808823705
                        ],
                        "iteration": 593,
                        "passed_time": 3.708194091,
                        "remaining_time": 2.534556904
                      },
                      {
                        "learn": [
                          0.06805029321
                        ],
                        "iteration": 594,
                        "passed_time": 3.714474479,
                        "remaining_time": 2.528339771
                      },
                      {
                        "learn": [
                          0.06801067193
                        ],
                        "iteration": 595,
                        "passed_time": 3.721221804,
                        "remaining_time": 2.522438941
                      },
                      {
                        "learn": [
                          0.06797998124
                        ],
                        "iteration": 596,
                        "passed_time": 3.728152705,
                        "remaining_time": 2.516659196
                      },
                      {
                        "learn": [
                          0.06796273011
                        ],
                        "iteration": 597,
                        "passed_time": 3.73472255,
                        "remaining_time": 2.510632885
                      },
                      {
                        "learn": [
                          0.06792636193
                        ],
                        "iteration": 598,
                        "passed_time": 3.741067686,
                        "remaining_time": 2.504454327
                      },
                      {
                        "learn": [
                          0.06788309904
                        ],
                        "iteration": 599,
                        "passed_time": 3.747401203,
                        "remaining_time": 2.498267469
                      },
                      {
                        "learn": [
                          0.06785479615
                        ],
                        "iteration": 600,
                        "passed_time": 3.753676283,
                        "remaining_time": 2.492041326
                      },
                      {
                        "learn": [
                          0.0678156882
                        ],
                        "iteration": 601,
                        "passed_time": 3.761811014,
                        "remaining_time": 2.487044491
                      },
                      {
                        "learn": [
                          0.06778631943
                        ],
                        "iteration": 602,
                        "passed_time": 3.767415161,
                        "remaining_time": 2.480371175
                      },
                      {
                        "learn": [
                          0.06776361598
                        ],
                        "iteration": 603,
                        "passed_time": 3.773175822,
                        "remaining_time": 2.473804016
                      },
                      {
                        "learn": [
                          0.06772097557
                        ],
                        "iteration": 604,
                        "passed_time": 3.77946253,
                        "remaining_time": 2.467582974
                      },
                      {
                        "learn": [
                          0.06764744116
                        ],
                        "iteration": 605,
                        "passed_time": 3.789394303,
                        "remaining_time": 2.46373161
                      },
                      {
                        "learn": [
                          0.06761193737
                        ],
                        "iteration": 606,
                        "passed_time": 3.798894418,
                        "remaining_time": 2.459580735
                      },
                      {
                        "learn": [
                          0.0675791658
                        ],
                        "iteration": 607,
                        "passed_time": 3.80733198,
                        "remaining_time": 2.454727197
                      },
                      {
                        "learn": [
                          0.06752553388
                        ],
                        "iteration": 608,
                        "passed_time": 3.81475812,
                        "remaining_time": 2.44921252
                      },
                      {
                        "learn": [
                          0.06748693613
                        ],
                        "iteration": 609,
                        "passed_time": 3.821625475,
                        "remaining_time": 2.44333432
                      },
                      {
                        "learn": [
                          0.06747051837
                        ],
                        "iteration": 610,
                        "passed_time": 3.828060169,
                        "remaining_time": 2.437177424
                      },
                      {
                        "learn": [
                          0.06742868475
                        ],
                        "iteration": 611,
                        "passed_time": 3.834492076,
                        "remaining_time": 2.431017852
                      },
                      {
                        "learn": [
                          0.06739949933
                        ],
                        "iteration": 612,
                        "passed_time": 3.840948477,
                        "remaining_time": 2.424872856
                      },
                      {
                        "learn": [
                          0.06733995281
                        ],
                        "iteration": 613,
                        "passed_time": 3.847706978,
                        "remaining_time": 2.418916765
                      },
                      {
                        "learn": [
                          0.06733566373
                        ],
                        "iteration": 614,
                        "passed_time": 3.85400919,
                        "remaining_time": 2.41267242
                      },
                      {
                        "learn": [
                          0.06732114498
                        ],
                        "iteration": 615,
                        "passed_time": 3.896890494,
                        "remaining_time": 2.429230438
                      },
                      {
                        "learn": [
                          0.06730182505
                        ],
                        "iteration": 616,
                        "passed_time": 3.91049481,
                        "remaining_time": 2.427422224
                      },
                      {
                        "learn": [
                          0.06727136554
                        ],
                        "iteration": 617,
                        "passed_time": 3.917038768,
                        "remaining_time": 2.421211665
                      },
                      {
                        "learn": [
                          0.06725747818
                        ],
                        "iteration": 618,
                        "passed_time": 3.923051912,
                        "remaining_time": 2.41467331
                      },
                      {
                        "learn": [
                          0.06723091103
                        ],
                        "iteration": 619,
                        "passed_time": 3.929180865,
                        "remaining_time": 2.408207627
                      },
                      {
                        "learn": [
                          0.06722380508
                        ],
                        "iteration": 620,
                        "passed_time": 3.935374244,
                        "remaining_time": 2.401782348
                      },
                      {
                        "learn": [
                          0.0672038811
                        ],
                        "iteration": 621,
                        "passed_time": 3.943993373,
                        "remaining_time": 2.396831985
                      },
                      {
                        "learn": [
                          0.067183859
                        ],
                        "iteration": 622,
                        "passed_time": 3.953345946,
                        "remaining_time": 2.392313678
                      },
                      {
                        "learn": [
                          0.06717480256
                        ],
                        "iteration": 623,
                        "passed_time": 3.959692092,
                        "remaining_time": 2.385968312
                      },
                      {
                        "learn": [
                          0.06716109092
                        ],
                        "iteration": 624,
                        "passed_time": 3.966745128,
                        "remaining_time": 2.380047077
                      },
                      {
                        "learn": [
                          0.06714447716
                        ],
                        "iteration": 625,
                        "passed_time": 3.973878785,
                        "remaining_time": 2.374170393
                      },
                      {
                        "learn": [
                          0.06712819726
                        ],
                        "iteration": 626,
                        "passed_time": 3.980198582,
                        "remaining_time": 2.367805536
                      },
                      {
                        "learn": [
                          0.06710864624
                        ],
                        "iteration": 627,
                        "passed_time": 3.992007644,
                        "remaining_time": 2.364692426
                      },
                      {
                        "learn": [
                          0.0670920904
                        ],
                        "iteration": 628,
                        "passed_time": 3.998851011,
                        "remaining_time": 2.358622774
                      },
                      {
                        "learn": [
                          0.06705862791
                        ],
                        "iteration": 629,
                        "passed_time": 4.00493743,
                        "remaining_time": 2.35210611
                      },
                      {
                        "learn": [
                          0.06702423226
                        ],
                        "iteration": 630,
                        "passed_time": 4.012190027,
                        "remaining_time": 2.346272773
                      },
                      {
                        "learn": [
                          0.06701029327
                        ],
                        "iteration": 631,
                        "passed_time": 4.018681937,
                        "remaining_time": 2.339992014
                      },
                      {
                        "learn": [
                          0.06698206832
                        ],
                        "iteration": 632,
                        "passed_time": 4.025135088,
                        "remaining_time": 2.333688116
                      },
                      {
                        "learn": [
                          0.06694719043
                        ],
                        "iteration": 633,
                        "passed_time": 4.031413973,
                        "remaining_time": 2.327283145
                      },
                      {
                        "learn": [
                          0.06691622214
                        ],
                        "iteration": 634,
                        "passed_time": 4.037709579,
                        "remaining_time": 2.320888183
                      },
                      {
                        "learn": [
                          0.0668891275
                        ],
                        "iteration": 635,
                        "passed_time": 4.044072623,
                        "remaining_time": 2.31453213
                      },
                      {
                        "learn": [
                          0.06685289382
                        ],
                        "iteration": 636,
                        "passed_time": 4.052149781,
                        "remaining_time": 2.309152858
                      },
                      {
                        "learn": [
                          0.06684882262
                        ],
                        "iteration": 637,
                        "passed_time": 4.060268686,
                        "remaining_time": 2.303788816
                      },
                      {
                        "learn": [
                          0.06683094234
                        ],
                        "iteration": 638,
                        "passed_time": 4.068265857,
                        "remaining_time": 2.298347378
                      },
                      {
                        "learn": [
                          0.06679762515
                        ],
                        "iteration": 639,
                        "passed_time": 4.074220494,
                        "remaining_time": 2.291749028
                      },
                      {
                        "learn": [
                          0.0667687095
                        ],
                        "iteration": 640,
                        "passed_time": 4.080497573,
                        "remaining_time": 2.285333274
                      },
                      {
                        "learn": [
                          0.06675054355
                        ],
                        "iteration": 641,
                        "passed_time": 4.086622238,
                        "remaining_time": 2.278832962
                      },
                      {
                        "learn": [
                          0.06673364158
                        ],
                        "iteration": 642,
                        "passed_time": 4.094259017,
                        "remaining_time": 2.273173358
                      },
                      {
                        "learn": [
                          0.06668211045
                        ],
                        "iteration": 643,
                        "passed_time": 4.102434567,
                        "remaining_time": 2.267805444
                      },
                      {
                        "learn": [
                          0.06662835934
                        ],
                        "iteration": 644,
                        "passed_time": 4.109883537,
                        "remaining_time": 2.262028924
                      },
                      {
                        "learn": [
                          0.06654913355
                        ],
                        "iteration": 645,
                        "passed_time": 4.121871257,
                        "remaining_time": 2.258734404
                      },
                      {
                        "learn": [
                          0.06653019153
                        ],
                        "iteration": 646,
                        "passed_time": 4.128591307,
                        "remaining_time": 2.252538998
                      },
                      {
                        "learn": [
                          0.06650000704
                        ],
                        "iteration": 647,
                        "passed_time": 4.136001141,
                        "remaining_time": 2.246716669
                      },
                      {
                        "learn": [
                          0.06648807506
                        ],
                        "iteration": 648,
                        "passed_time": 4.142370192,
                        "remaining_time": 2.24032656
                      },
                      {
                        "learn": [
                          0.06647768966
                        ],
                        "iteration": 649,
                        "passed_time": 4.148030276,
                        "remaining_time": 2.233554764
                      },
                      {
                        "learn": [
                          0.06645244528
                        ],
                        "iteration": 650,
                        "passed_time": 4.154244873,
                        "remaining_time": 2.227083657
                      },
                      {
                        "learn": [
                          0.06644865251
                        ],
                        "iteration": 651,
                        "passed_time": 4.160563957,
                        "remaining_time": 2.220669106
                      },
                      {
                        "learn": [
                          0.06643560801
                        ],
                        "iteration": 652,
                        "passed_time": 4.167856333,
                        "remaining_time": 2.214772049
                      },
                      {
                        "learn": [
                          0.06639764466
                        ],
                        "iteration": 653,
                        "passed_time": 4.174566222,
                        "remaining_time": 2.208562558
                      },
                      {
                        "learn": [
                          0.06636410321
                        ],
                        "iteration": 654,
                        "passed_time": 4.181050782,
                        "remaining_time": 2.202232855
                      },
                      {
                        "learn": [
                          0.06635620379
                        ],
                        "iteration": 655,
                        "passed_time": 4.188939317,
                        "remaining_time": 2.19663891
                      },
                      {
                        "learn": [
                          0.06634484947
                        ],
                        "iteration": 656,
                        "passed_time": 4.200172441,
                        "remaining_time": 2.19278409
                      },
                      {
                        "learn": [
                          0.06631710398
                        ],
                        "iteration": 657,
                        "passed_time": 4.20647157,
                        "remaining_time": 2.186342366
                      },
                      {
                        "learn": [
                          0.06630148602
                        ],
                        "iteration": 658,
                        "passed_time": 4.212457973,
                        "remaining_time": 2.179739255
                      },
                      {
                        "learn": [
                          0.06626580737
                        ],
                        "iteration": 659,
                        "passed_time": 4.21869619,
                        "remaining_time": 2.173267734
                      },
                      {
                        "learn": [
                          0.06623821772
                        ],
                        "iteration": 660,
                        "passed_time": 4.224875483,
                        "remaining_time": 2.1667667
                      },
                      {
                        "learn": [
                          0.06620830242
                        ],
                        "iteration": 661,
                        "passed_time": 4.233018864,
                        "remaining_time": 2.16126945
                      },
                      {
                        "learn": [
                          0.06617880421
                        ],
                        "iteration": 662,
                        "passed_time": 4.240975459,
                        "remaining_time": 2.155669275
                      },
                      {
                        "learn": [
                          0.06617137835
                        ],
                        "iteration": 663,
                        "passed_time": 4.247076002,
                        "remaining_time": 2.149122796
                      },
                      {
                        "learn": [
                          0.06615802668
                        ],
                        "iteration": 664,
                        "passed_time": 4.253009477,
                        "remaining_time": 2.142493496
                      },
                      {
                        "learn": [
                          0.06614196857
                        ],
                        "iteration": 665,
                        "passed_time": 4.258997437,
                        "remaining_time": 2.135893609
                      },
                      {
                        "learn": [
                          0.06612774701
                        ],
                        "iteration": 666,
                        "passed_time": 4.26496247,
                        "remaining_time": 2.129284112
                      },
                      {
                        "learn": [
                          0.06611871159
                        ],
                        "iteration": 667,
                        "passed_time": 4.270947851,
                        "remaining_time": 2.122686657
                      },
                      {
                        "learn": [
                          0.06607313588
                        ],
                        "iteration": 668,
                        "passed_time": 4.27838087,
                        "remaining_time": 2.116807277
                      },
                      {
                        "learn": [
                          0.06600086263
                        ],
                        "iteration": 669,
                        "passed_time": 4.284514931,
                        "remaining_time": 2.110283473
                      },
                      {
                        "learn": [
                          0.06599316264
                        ],
                        "iteration": 670,
                        "passed_time": 4.290878091,
                        "remaining_time": 2.103873162
                      },
                      {
                        "learn": [
                          0.06596385984
                        ],
                        "iteration": 671,
                        "passed_time": 4.303161856,
                        "remaining_time": 2.100352811
                      },
                      {
                        "learn": [
                          0.06593012899
                        ],
                        "iteration": 672,
                        "passed_time": 4.309691241,
                        "remaining_time": 2.094010454
                      },
                      {
                        "learn": [
                          0.06591666829
                        ],
                        "iteration": 673,
                        "passed_time": 4.315410894,
                        "remaining_time": 2.087275892
                      },
                      {
                        "learn": [
                          0.06590195872
                        ],
                        "iteration": 674,
                        "passed_time": 4.32111143,
                        "remaining_time": 2.080535133
                      },
                      {
                        "learn": [
                          0.06589501675
                        ],
                        "iteration": 675,
                        "passed_time": 4.327229843,
                        "remaining_time": 2.073997736
                      },
                      {
                        "learn": [
                          0.06587095493
                        ],
                        "iteration": 676,
                        "passed_time": 4.334840711,
                        "remaining_time": 2.068173633
                      },
                      {
                        "learn": [
                          0.06584924808
                        ],
                        "iteration": 677,
                        "passed_time": 4.3410104,
                        "remaining_time": 2.061659806
                      },
                      {
                        "learn": [
                          0.0658211701
                        ],
                        "iteration": 678,
                        "passed_time": 4.347266098,
                        "remaining_time": 2.055187655
                      },
                      {
                        "learn": [
                          0.0657965693
                        ],
                        "iteration": 679,
                        "passed_time": 4.353292431,
                        "remaining_time": 2.048608203
                      },
                      {
                        "learn": [
                          0.06576907465
                        ],
                        "iteration": 680,
                        "passed_time": 4.359547307,
                        "remaining_time": 2.042137432
                      },
                      {
                        "learn": [
                          0.06575294857
                        ],
                        "iteration": 681,
                        "passed_time": 4.366170131,
                        "remaining_time": 2.035838859
                      },
                      {
                        "learn": [
                          0.06571926877
                        ],
                        "iteration": 682,
                        "passed_time": 4.372429478,
                        "remaining_time": 2.029370636
                      },
                      {
                        "learn": [
                          0.06569216327
                        ],
                        "iteration": 683,
                        "passed_time": 4.379103992,
                        "remaining_time": 2.023094827
                      },
                      {
                        "learn": [
                          0.06568152249
                        ],
                        "iteration": 684,
                        "passed_time": 4.386533595,
                        "remaining_time": 2.017165084
                      },
                      {
                        "learn": [
                          0.06565642371
                        ],
                        "iteration": 685,
                        "passed_time": 4.408424446,
                        "remaining_time": 2.017850257
                      },
                      {
                        "learn": [
                          0.06563114159
                        ],
                        "iteration": 686,
                        "passed_time": 4.418007148,
                        "remaining_time": 2.012862063
                      },
                      {
                        "learn": [
                          0.06561862733
                        ],
                        "iteration": 687,
                        "passed_time": 4.424615502,
                        "remaining_time": 2.006511681
                      },
                      {
                        "learn": [
                          0.06560018785
                        ],
                        "iteration": 688,
                        "passed_time": 4.432120271,
                        "remaining_time": 2.000565173
                      },
                      {
                        "learn": [
                          0.06555124011
                        ],
                        "iteration": 689,
                        "passed_time": 4.438202547,
                        "remaining_time": 1.993975057
                      },
                      {
                        "learn": [
                          0.06554486755
                        ],
                        "iteration": 690,
                        "passed_time": 4.445723382,
                        "remaining_time": 1.988029703
                      },
                      {
                        "learn": [
                          0.06545898585
                        ],
                        "iteration": 691,
                        "passed_time": 4.452529321,
                        "remaining_time": 1.981761605
                      },
                      {
                        "learn": [
                          0.06543253625
                        ],
                        "iteration": 692,
                        "passed_time": 4.464943481,
                        "remaining_time": 1.977976405
                      },
                      {
                        "learn": [
                          0.06539900724
                        ],
                        "iteration": 693,
                        "passed_time": 4.473187694,
                        "remaining_time": 1.972327715
                      },
                      {
                        "learn": [
                          0.06539301643
                        ],
                        "iteration": 694,
                        "passed_time": 4.481104887,
                        "remaining_time": 1.966528044
                      },
                      {
                        "learn": [
                          0.06536112387
                        ],
                        "iteration": 695,
                        "passed_time": 4.48949901,
                        "remaining_time": 1.960930602
                      },
                      {
                        "learn": [
                          0.0653345908
                        ],
                        "iteration": 696,
                        "passed_time": 4.497485285,
                        "remaining_time": 1.955147835
                      },
                      {
                        "learn": [
                          0.06531305168
                        ],
                        "iteration": 697,
                        "passed_time": 4.505592089,
                        "remaining_time": 1.949410904
                      },
                      {
                        "learn": [
                          0.06529642037
                        ],
                        "iteration": 698,
                        "passed_time": 4.513497433,
                        "remaining_time": 1.94358044
                      },
                      {
                        "learn": [
                          0.06529072502
                        ],
                        "iteration": 699,
                        "passed_time": 4.520244696,
                        "remaining_time": 1.937247727
                      },
                      {
                        "learn": [
                          0.06525879881
                        ],
                        "iteration": 700,
                        "passed_time": 4.52614015,
                        "remaining_time": 1.930550506
                      },
                      {
                        "learn": [
                          0.06524732858
                        ],
                        "iteration": 701,
                        "passed_time": 4.531606859,
                        "remaining_time": 1.923673567
                      },
                      {
                        "learn": [
                          0.06523197331
                        ],
                        "iteration": 702,
                        "passed_time": 4.538724795,
                        "remaining_time": 1.917498242
                      },
                      {
                        "learn": [
                          0.06519291137
                        ],
                        "iteration": 703,
                        "passed_time": 4.545217822,
                        "remaining_time": 1.911057494
                      },
                      {
                        "learn": [
                          0.06516187092
                        ],
                        "iteration": 704,
                        "passed_time": 4.552225108,
                        "remaining_time": 1.904831783
                      },
                      {
                        "learn": [
                          0.06511496918
                        ],
                        "iteration": 705,
                        "passed_time": 4.560529885,
                        "remaining_time": 1.899144173
                      },
                      {
                        "learn": [
                          0.06510010709
                        ],
                        "iteration": 706,
                        "passed_time": 4.567802313,
                        "remaining_time": 1.893021326
                      },
                      {
                        "learn": [
                          0.06507487943
                        ],
                        "iteration": 707,
                        "passed_time": 4.581177589,
                        "remaining_time": 1.889412226
                      },
                      {
                        "learn": [
                          0.06505589744
                        ],
                        "iteration": 708,
                        "passed_time": 4.6029495,
                        "remaining_time": 1.889221868
                      },
                      {
                        "learn": [
                          0.06501107363
                        ],
                        "iteration": 709,
                        "passed_time": 4.611649673,
                        "remaining_time": 1.883631557
                      },
                      {
                        "learn": [
                          0.06499844925
                        ],
                        "iteration": 710,
                        "passed_time": 4.62241577,
                        "remaining_time": 1.878872233
                      },
                      {
                        "learn": [
                          0.06497374796
                        ],
                        "iteration": 711,
                        "passed_time": 4.629315639,
                        "remaining_time": 1.872532168
                      },
                      {
                        "learn": [
                          0.06494612954
                        ],
                        "iteration": 712,
                        "passed_time": 4.636721328,
                        "remaining_time": 1.866394139
                      },
                      {
                        "learn": [
                          0.06489447336
                        ],
                        "iteration": 713,
                        "passed_time": 4.644169615,
                        "remaining_time": 1.860269622
                      },
                      {
                        "learn": [
                          0.06488088746
                        ],
                        "iteration": 714,
                        "passed_time": 4.652049571,
                        "remaining_time": 1.854313465
                      },
                      {
                        "learn": [
                          0.06484569971
                        ],
                        "iteration": 715,
                        "passed_time": 4.658352936,
                        "remaining_time": 1.847726584
                      },
                      {
                        "learn": [
                          0.06480208593
                        ],
                        "iteration": 716,
                        "passed_time": 4.664362814,
                        "remaining_time": 1.841024653
                      },
                      {
                        "learn": [
                          0.06478724186
                        ],
                        "iteration": 717,
                        "passed_time": 4.671072374,
                        "remaining_time": 1.834599456
                      },
                      {
                        "learn": [
                          0.06477545987
                        ],
                        "iteration": 718,
                        "passed_time": 4.678352865,
                        "remaining_time": 1.828396599
                      },
                      {
                        "learn": [
                          0.06471518427
                        ],
                        "iteration": 719,
                        "passed_time": 4.684983267,
                        "remaining_time": 1.821937937
                      },
                      {
                        "learn": [
                          0.06469808075
                        ],
                        "iteration": 720,
                        "passed_time": 4.691363436,
                        "remaining_time": 1.815381968
                      },
                      {
                        "learn": [
                          0.06464202558
                        ],
                        "iteration": 721,
                        "passed_time": 4.697994579,
                        "remaining_time": 1.808923121
                      },
                      {
                        "learn": [
                          0.06462737894
                        ],
                        "iteration": 722,
                        "passed_time": 4.704505292,
                        "remaining_time": 1.802417657
                      },
                      {
                        "learn": [
                          0.06458664089
                        ],
                        "iteration": 723,
                        "passed_time": 4.710602352,
                        "remaining_time": 1.795754488
                      },
                      {
                        "learn": [
                          0.06453699495
                        ],
                        "iteration": 724,
                        "passed_time": 4.717067683,
                        "remaining_time": 1.789232569
                      },
                      {
                        "learn": [
                          0.0645233149
                        ],
                        "iteration": 725,
                        "passed_time": 4.724725088,
                        "remaining_time": 1.783160708
                      },
                      {
                        "learn": [
                          0.06449892323
                        ],
                        "iteration": 726,
                        "passed_time": 4.732665782,
                        "remaining_time": 1.777190865
                      },
                      {
                        "learn": [
                          0.06446836827
                        ],
                        "iteration": 727,
                        "passed_time": 4.743858214,
                        "remaining_time": 1.772430542
                      },
                      {
                        "learn": [
                          0.06445515476
                        ],
                        "iteration": 728,
                        "passed_time": 4.75047056,
                        "remaining_time": 1.765949961
                      },
                      {
                        "learn": [
                          0.06442471077
                        ],
                        "iteration": 729,
                        "passed_time": 4.771010441,
                        "remaining_time": 1.7646203
                      },
                      {
                        "learn": [
                          0.06439697024
                        ],
                        "iteration": 730,
                        "passed_time": 4.777492314,
                        "remaining_time": 1.758064887
                      },
                      {
                        "learn": [
                          0.06431106301
                        ],
                        "iteration": 731,
                        "passed_time": 4.78392339,
                        "remaining_time": 1.751491077
                      },
                      {
                        "learn": [
                          0.06430612901
                        ],
                        "iteration": 732,
                        "passed_time": 4.790360944,
                        "remaining_time": 1.744920016
                      },
                      {
                        "learn": [
                          0.0642841969
                        ],
                        "iteration": 733,
                        "passed_time": 4.797619543,
                        "remaining_time": 1.738646864
                      },
                      {
                        "learn": [
                          0.06426667505
                        ],
                        "iteration": 734,
                        "passed_time": 4.813231805,
                        "remaining_time": 1.735382896
                      },
                      {
                        "learn": [
                          0.06424367028
                        ],
                        "iteration": 735,
                        "passed_time": 4.822784035,
                        "remaining_time": 1.729911665
                      },
                      {
                        "learn": [
                          0.0642189617
                        ],
                        "iteration": 736,
                        "passed_time": 4.833170581,
                        "remaining_time": 1.724727087
                      },
                      {
                        "learn": [
                          0.06420363814
                        ],
                        "iteration": 737,
                        "passed_time": 4.868692003,
                        "remaining_time": 1.728451632
                      },
                      {
                        "learn": [
                          0.06419402957
                        ],
                        "iteration": 738,
                        "passed_time": 4.886049691,
                        "remaining_time": 1.725654898
                      },
                      {
                        "learn": [
                          0.0641623943
                        ],
                        "iteration": 739,
                        "passed_time": 4.895765586,
                        "remaining_time": 1.720133855
                      },
                      {
                        "learn": [
                          0.06414531665
                        ],
                        "iteration": 740,
                        "passed_time": 4.902809714,
                        "remaining_time": 1.713667633
                      },
                      {
                        "learn": [
                          0.06414065703
                        ],
                        "iteration": 741,
                        "passed_time": 4.910680427,
                        "remaining_time": 1.707487264
                      },
                      {
                        "learn": [
                          0.06412911512
                        ],
                        "iteration": 742,
                        "passed_time": 4.916973004,
                        "remaining_time": 1.700756477
                      },
                      {
                        "learn": [
                          0.06411596122
                        ],
                        "iteration": 743,
                        "passed_time": 4.929750491,
                        "remaining_time": 1.696258233
                      },
                      {
                        "learn": [
                          0.06409245591
                        ],
                        "iteration": 744,
                        "passed_time": 4.93785983,
                        "remaining_time": 1.690139942
                      },
                      {
                        "learn": [
                          0.06407940831
                        ],
                        "iteration": 745,
                        "passed_time": 4.944538134,
                        "remaining_time": 1.68352907
                      },
                      {
                        "learn": [
                          0.06405031718
                        ],
                        "iteration": 746,
                        "passed_time": 4.951063338,
                        "remaining_time": 1.676866164
                      },
                      {
                        "learn": [
                          0.06404180551
                        ],
                        "iteration": 747,
                        "passed_time": 4.957656272,
                        "remaining_time": 1.670226445
                      },
                      {
                        "learn": [
                          0.06401863296
                        ],
                        "iteration": 748,
                        "passed_time": 4.964581589,
                        "remaining_time": 1.663698236
                      },
                      {
                        "learn": [
                          0.063952369
                        ],
                        "iteration": 749,
                        "passed_time": 4.97114435,
                        "remaining_time": 1.657048117
                      },
                      {
                        "learn": [
                          0.06394794701
                        ],
                        "iteration": 750,
                        "passed_time": 4.977899278,
                        "remaining_time": 1.650461944
                      },
                      {
                        "learn": [
                          0.06391215265
                        ],
                        "iteration": 751,
                        "passed_time": 4.983895679,
                        "remaining_time": 1.643625171
                      },
                      {
                        "learn": [
                          0.06388035921
                        ],
                        "iteration": 752,
                        "passed_time": 4.990645453,
                        "remaining_time": 1.637037751
                      },
                      {
                        "learn": [
                          0.0638547393
                        ],
                        "iteration": 753,
                        "passed_time": 4.997508906,
                        "remaining_time": 1.630486991
                      },
                      {
                        "learn": [
                          0.06383276767
                        ],
                        "iteration": 754,
                        "passed_time": 5.004281483,
                        "remaining_time": 1.623905912
                      },
                      {
                        "learn": [
                          0.06381864003
                        ],
                        "iteration": 755,
                        "passed_time": 5.01053352,
                        "remaining_time": 1.617156321
                      },
                      {
                        "learn": [
                          0.06380411535
                        ],
                        "iteration": 756,
                        "passed_time": 5.016604683,
                        "remaining_time": 1.610349984
                      },
                      {
                        "learn": [
                          0.06378314073
                        ],
                        "iteration": 757,
                        "passed_time": 5.022568053,
                        "remaining_time": 1.603511173
                      },
                      {
                        "learn": [
                          0.06376240164
                        ],
                        "iteration": 758,
                        "passed_time": 5.028474424,
                        "remaining_time": 1.596656569
                      },
                      {
                        "learn": [
                          0.06374129609
                        ],
                        "iteration": 759,
                        "passed_time": 5.033942685,
                        "remaining_time": 1.589666111
                      },
                      {
                        "learn": [
                          0.06371476492
                        ],
                        "iteration": 760,
                        "passed_time": 5.039724987,
                        "remaining_time": 1.582778281
                      },
                      {
                        "learn": [
                          0.06368543103
                        ],
                        "iteration": 761,
                        "passed_time": 5.045381559,
                        "remaining_time": 1.575854083
                      },
                      {
                        "learn": [
                          0.06367852071
                        ],
                        "iteration": 762,
                        "passed_time": 5.051760768,
                        "remaining_time": 1.56915767
                      },
                      {
                        "learn": [
                          0.06367194081
                        ],
                        "iteration": 763,
                        "passed_time": 5.056860542,
                        "remaining_time": 1.562066869
                      },
                      {
                        "learn": [
                          0.06365719721
                        ],
                        "iteration": 764,
                        "passed_time": 5.062861367,
                        "remaining_time": 1.555258067
                      },
                      {
                        "learn": [
                          0.06365091235
                        ],
                        "iteration": 765,
                        "passed_time": 5.070573872,
                        "remaining_time": 1.548974264
                      },
                      {
                        "learn": [
                          0.06359963745
                        ],
                        "iteration": 766,
                        "passed_time": 5.081327466,
                        "remaining_time": 1.54361056
                      },
                      {
                        "learn": [
                          0.0635725683
                        ],
                        "iteration": 767,
                        "passed_time": 5.087954349,
                        "remaining_time": 1.536986209
                      },
                      {
                        "learn": [
                          0.06355172543
                        ],
                        "iteration": 768,
                        "passed_time": 5.093678413,
                        "remaining_time": 1.530090655
                      },
                      {
                        "learn": [
                          0.06352404325
                        ],
                        "iteration": 769,
                        "passed_time": 5.09914239,
                        "remaining_time": 1.523120454
                      },
                      {
                        "learn": [
                          0.06350416116
                        ],
                        "iteration": 770,
                        "passed_time": 5.105329456,
                        "remaining_time": 1.516368931
                      },
                      {
                        "learn": [
                          0.06346615923
                        ],
                        "iteration": 771,
                        "passed_time": 5.111138363,
                        "remaining_time": 1.509507185
                      },
                      {
                        "learn": [
                          0.0634488453
                        ],
                        "iteration": 772,
                        "passed_time": 5.117440141,
                        "remaining_time": 1.502792901
                      },
                      {
                        "learn": [
                          0.06342349774
                        ],
                        "iteration": 773,
                        "passed_time": 5.124875767,
                        "remaining_time": 1.496410754
                      },
                      {
                        "learn": [
                          0.06338154443
                        ],
                        "iteration": 774,
                        "passed_time": 5.131508773,
                        "remaining_time": 1.48979287
                      },
                      {
                        "learn": [
                          0.06333823619
                        ],
                        "iteration": 775,
                        "passed_time": 5.138066675,
                        "remaining_time": 1.483153267
                      },
                      {
                        "learn": [
                          0.06329791359
                        ],
                        "iteration": 776,
                        "passed_time": 5.145451032,
                        "remaining_time": 1.476751068
                      },
                      {
                        "learn": [
                          0.06327394948
                        ],
                        "iteration": 777,
                        "passed_time": 5.150893779,
                        "remaining_time": 1.469792312
                      },
                      {
                        "learn": [
                          0.06325596928
                        ],
                        "iteration": 778,
                        "passed_time": 5.157258164,
                        "remaining_time": 1.463098914
                      },
                      {
                        "learn": [
                          0.06324271808
                        ],
                        "iteration": 779,
                        "passed_time": 5.163987359,
                        "remaining_time": 1.456509255
                      },
                      {
                        "learn": [
                          0.06321711053
                        ],
                        "iteration": 780,
                        "passed_time": 5.169524303,
                        "remaining_time": 1.44958492
                      },
                      {
                        "learn": [
                          0.0631953395
                        ],
                        "iteration": 781,
                        "passed_time": 5.176027824,
                        "remaining_time": 1.442933588
                      },
                      {
                        "learn": [
                          0.06318416327
                        ],
                        "iteration": 782,
                        "passed_time": 5.181610954,
                        "remaining_time": 1.436027557
                      },
                      {
                        "learn": [
                          0.06312166507
                        ],
                        "iteration": 783,
                        "passed_time": 5.191260639,
                        "remaining_time": 1.430245278
                      },
                      {
                        "learn": [
                          0.06309379074
                        ],
                        "iteration": 784,
                        "passed_time": 5.203542325,
                        "remaining_time": 1.425174012
                      },
                      {
                        "learn": [
                          0.06305268713
                        ],
                        "iteration": 785,
                        "passed_time": 5.21657533,
                        "remaining_time": 1.420288958
                      },
                      {
                        "learn": [
                          0.06300782879
                        ],
                        "iteration": 786,
                        "passed_time": 5.22428185,
                        "remaining_time": 1.413941593
                      },
                      {
                        "learn": [
                          0.06298088253
                        ],
                        "iteration": 787,
                        "passed_time": 5.231807506,
                        "remaining_time": 1.407542121
                      },
                      {
                        "learn": [
                          0.0629094937
                        ],
                        "iteration": 788,
                        "passed_time": 5.243676554,
                        "remaining_time": 1.402301335
                      },
                      {
                        "learn": [
                          0.06289463998
                        ],
                        "iteration": 789,
                        "passed_time": 5.250040502,
                        "remaining_time": 1.395580387
                      },
                      {
                        "learn": [
                          0.0628871371
                        ],
                        "iteration": 790,
                        "passed_time": 5.256142804,
                        "remaining_time": 1.388791209
                      },
                      {
                        "learn": [
                          0.06286866864
                        ],
                        "iteration": 791,
                        "passed_time": 5.262173531,
                        "remaining_time": 1.381984968
                      },
                      {
                        "learn": [
                          0.06285916759
                        ],
                        "iteration": 792,
                        "passed_time": 5.268514101,
                        "remaining_time": 1.375261562
                      },
                      {
                        "learn": [
                          0.06284090322
                        ],
                        "iteration": 793,
                        "passed_time": 5.282985346,
                        "remaining_time": 1.370648591
                      },
                      {
                        "learn": [
                          0.06279888664
                        ],
                        "iteration": 794,
                        "passed_time": 5.289117568,
                        "remaining_time": 1.363860505
                      },
                      {
                        "learn": [
                          0.06274839183
                        ],
                        "iteration": 795,
                        "passed_time": 5.298340035,
                        "remaining_time": 1.357866039
                      },
                      {
                        "learn": [
                          0.06272500482
                        ],
                        "iteration": 796,
                        "passed_time": 5.308098448,
                        "remaining_time": 1.351999981
                      },
                      {
                        "learn": [
                          0.06271478701
                        ],
                        "iteration": 797,
                        "passed_time": 5.316608591,
                        "remaining_time": 1.34580819
                      },
                      {
                        "learn": [
                          0.06269350336
                        ],
                        "iteration": 798,
                        "passed_time": 5.332946363,
                        "remaining_time": 1.341579748
                      },
                      {
                        "learn": [
                          0.06268453074
                        ],
                        "iteration": 799,
                        "passed_time": 5.341223366,
                        "remaining_time": 1.335305842
                      },
                      {
                        "learn": [
                          0.06264675397
                        ],
                        "iteration": 800,
                        "passed_time": 5.351156221,
                        "remaining_time": 1.329438312
                      },
                      {
                        "learn": [
                          0.06262830356
                        ],
                        "iteration": 801,
                        "passed_time": 5.357979358,
                        "remaining_time": 1.322792909
                      },
                      {
                        "learn": [
                          0.06261085218
                        ],
                        "iteration": 802,
                        "passed_time": 5.364024425,
                        "remaining_time": 1.315956179
                      },
                      {
                        "learn": [
                          0.0625875999
                        ],
                        "iteration": 803,
                        "passed_time": 5.370633469,
                        "remaining_time": 1.309258905
                      },
                      {
                        "learn": [
                          0.06255441738
                        ],
                        "iteration": 804,
                        "passed_time": 5.385512173,
                        "remaining_time": 1.304565061
                      },
                      {
                        "learn": [
                          0.06255018658
                        ],
                        "iteration": 805,
                        "passed_time": 5.392518788,
                        "remaining_time": 1.297951172
                      },
                      {
                        "learn": [
                          0.06254088476
                        ],
                        "iteration": 806,
                        "passed_time": 5.407706585,
                        "remaining_time": 1.293292901
                      },
                      {
                        "learn": [
                          0.06251889316
                        ],
                        "iteration": 807,
                        "passed_time": 5.41368297,
                        "remaining_time": 1.286419716
                      },
                      {
                        "learn": [
                          0.06248602175
                        ],
                        "iteration": 808,
                        "passed_time": 5.419596018,
                        "remaining_time": 1.279533794
                      },
                      {
                        "learn": [
                          0.06241161031
                        ],
                        "iteration": 809,
                        "passed_time": 5.425819401,
                        "remaining_time": 1.272723069
                      },
                      {
                        "learn": [
                          0.06239519721
                        ],
                        "iteration": 810,
                        "passed_time": 5.433307792,
                        "remaining_time": 1.266208598
                      },
                      {
                        "learn": [
                          0.0623409399
                        ],
                        "iteration": 811,
                        "passed_time": 5.440409263,
                        "remaining_time": 1.259602145
                      },
                      {
                        "learn": [
                          0.06232118116
                        ],
                        "iteration": 812,
                        "passed_time": 5.447962518,
                        "remaining_time": 1.25309839
                      },
                      {
                        "learn": [
                          0.06229308126
                        ],
                        "iteration": 813,
                        "passed_time": 5.455649374,
                        "remaining_time": 1.246622584
                      },
                      {
                        "learn": [
                          0.06228205852
                        ],
                        "iteration": 814,
                        "passed_time": 5.461964615,
                        "remaining_time": 1.239832459
                      },
                      {
                        "learn": [
                          0.06225296488
                        ],
                        "iteration": 815,
                        "passed_time": 5.468241887,
                        "remaining_time": 1.233034935
                      },
                      {
                        "learn": [
                          0.0622459154
                        ],
                        "iteration": 816,
                        "passed_time": 5.47561822,
                        "remaining_time": 1.226484864
                      },
                      {
                        "learn": [
                          0.06218441066
                        ],
                        "iteration": 817,
                        "passed_time": 5.481928655,
                        "remaining_time": 1.219695618
                      },
                      {
                        "learn": [
                          0.06216788712
                        ],
                        "iteration": 818,
                        "passed_time": 5.488049424,
                        "remaining_time": 1.212865624
                      },
                      {
                        "learn": [
                          0.06215013858
                        ],
                        "iteration": 819,
                        "passed_time": 5.494115457,
                        "remaining_time": 1.206025344
                      },
                      {
                        "learn": [
                          0.06214043516
                        ],
                        "iteration": 820,
                        "passed_time": 5.501020536,
                        "remaining_time": 1.199369885
                      },
                      {
                        "learn": [
                          0.06211528543
                        ],
                        "iteration": 821,
                        "passed_time": 5.519637738,
                        "remaining_time": 1.195250021
                      },
                      {
                        "learn": [
                          0.06210768996
                        ],
                        "iteration": 822,
                        "passed_time": 5.529658815,
                        "remaining_time": 1.189246185
                      },
                      {
                        "learn": [
                          0.06210383527
                        ],
                        "iteration": 823,
                        "passed_time": 5.536116503,
                        "remaining_time": 1.182471486
                      },
                      {
                        "learn": [
                          0.06205239319
                        ],
                        "iteration": 824,
                        "passed_time": 5.542469664,
                        "remaining_time": 1.175675383
                      },
                      {
                        "learn": [
                          0.06203456879
                        ],
                        "iteration": 825,
                        "passed_time": 5.548840639,
                        "remaining_time": 1.168884106
                      },
                      {
                        "learn": [
                          0.06199265001
                        ],
                        "iteration": 826,
                        "passed_time": 5.555379934,
                        "remaining_time": 1.162129055
                      },
                      {
                        "learn": [
                          0.06194586113
                        ],
                        "iteration": 827,
                        "passed_time": 5.561918404,
                        "remaining_time": 1.155374355
                      },
                      {
                        "learn": [
                          0.06193677744
                        ],
                        "iteration": 828,
                        "passed_time": 5.56964764,
                        "remaining_time": 1.148865798
                      },
                      {
                        "learn": [
                          0.06189517903
                        ],
                        "iteration": 829,
                        "passed_time": 5.576548476,
                        "remaining_time": 1.142184628
                      },
                      {
                        "learn": [
                          0.06187698913
                        ],
                        "iteration": 830,
                        "passed_time": 5.585985288,
                        "remaining_time": 1.136018669
                      },
                      {
                        "learn": [
                          0.06187139924
                        ],
                        "iteration": 831,
                        "passed_time": 5.592504969,
                        "remaining_time": 1.129255811
                      },
                      {
                        "learn": [
                          0.06182278786
                        ],
                        "iteration": 832,
                        "passed_time": 5.598975158,
                        "remaining_time": 1.122483615
                      },
                      {
                        "learn": [
                          0.06178784025
                        ],
                        "iteration": 833,
                        "passed_time": 5.6053857,
                        "remaining_time": 1.115700271
                      },
                      {
                        "learn": [
                          0.06176924908
                        ],
                        "iteration": 834,
                        "passed_time": 5.611392887,
                        "remaining_time": 1.108838115
                      },
                      {
                        "learn": [
                          0.06174692859
                        ],
                        "iteration": 835,
                        "passed_time": 5.618247239,
                        "remaining_time": 1.102144195
                      },
                      {
                        "learn": [
                          0.0617105227
                        ],
                        "iteration": 836,
                        "passed_time": 5.623987633,
                        "remaining_time": 1.095232956
                      },
                      {
                        "learn": [
                          0.06169997884
                        ],
                        "iteration": 837,
                        "passed_time": 5.630586688,
                        "remaining_time": 1.088490505
                      },
                      {
                        "learn": [
                          0.06163518162
                        ],
                        "iteration": 838,
                        "passed_time": 5.636766687,
                        "remaining_time": 1.081667982
                      },
                      {
                        "learn": [
                          0.06161783823
                        ],
                        "iteration": 839,
                        "passed_time": 5.642568408,
                        "remaining_time": 1.074774935
                      },
                      {
                        "learn": [
                          0.06161434672
                        ],
                        "iteration": 840,
                        "passed_time": 5.648803518,
                        "remaining_time": 1.06796642
                      },
                      {
                        "learn": [
                          0.06160899822
                        ],
                        "iteration": 841,
                        "passed_time": 5.65472727,
                        "remaining_time": 1.061100842
                      },
                      {
                        "learn": [
                          0.06160233635
                        ],
                        "iteration": 842,
                        "passed_time": 5.660807913,
                        "remaining_time": 1.054266717
                      },
                      {
                        "learn": [
                          0.06158582415
                        ],
                        "iteration": 843,
                        "passed_time": 5.66728452,
                        "remaining_time": 1.047507565
                      },
                      {
                        "learn": [
                          0.06157034766
                        ],
                        "iteration": 844,
                        "passed_time": 5.673602939,
                        "remaining_time": 1.040720066
                      },
                      {
                        "learn": [
                          0.06154299148
                        ],
                        "iteration": 845,
                        "passed_time": 5.681131893,
                        "remaining_time": 1.034154032
                      },
                      {
                        "learn": [
                          0.06153788317
                        ],
                        "iteration": 846,
                        "passed_time": 5.687170366,
                        "remaining_time": 1.027316489
                      },
                      {
                        "learn": [
                          0.06152334964
                        ],
                        "iteration": 847,
                        "passed_time": 5.693549029,
                        "remaining_time": 1.020541807
                      },
                      {
                        "learn": [
                          0.06151092
                        ],
                        "iteration": 848,
                        "passed_time": 5.699730921,
                        "remaining_time": 1.013733061
                      },
                      {
                        "learn": [
                          0.06149837304
                        ],
                        "iteration": 849,
                        "passed_time": 5.707390639,
                        "remaining_time": 1.007186583
                      },
                      {
                        "learn": [
                          0.06147623349
                        ],
                        "iteration": 850,
                        "passed_time": 5.715076696,
                        "remaining_time": 1.000642101
                      },
                      {
                        "learn": [
                          0.06146756952
                        ],
                        "iteration": 851,
                        "passed_time": 5.721600133,
                        "remaining_time": 0.9938929809
                      },
                      {
                        "learn": [
                          0.06141419219
                        ],
                        "iteration": 852,
                        "passed_time": 5.728743324,
                        "remaining_time": 0.9872511942
                      },
                      {
                        "learn": [
                          0.06139174249
                        ],
                        "iteration": 853,
                        "passed_time": 5.736213572,
                        "remaining_time": 0.9806641469
                      },
                      {
                        "learn": [
                          0.06138078769
                        ],
                        "iteration": 854,
                        "passed_time": 5.742608995,
                        "remaining_time": 0.9738927536
                      },
                      {
                        "learn": [
                          0.06135484542
                        ],
                        "iteration": 855,
                        "passed_time": 5.749606443,
                        "remaining_time": 0.9672235138
                      },
                      {
                        "learn": [
                          0.06133508021
                        ],
                        "iteration": 856,
                        "passed_time": 5.755641143,
                        "remaining_time": 0.9603928628
                      },
                      {
                        "learn": [
                          0.06129204164
                        ],
                        "iteration": 857,
                        "passed_time": 5.762138539,
                        "remaining_time": 0.953640644
                      },
                      {
                        "learn": [
                          0.06126042832
                        ],
                        "iteration": 858,
                        "passed_time": 5.768604058,
                        "remaining_time": 0.946883786
                      },
                      {
                        "learn": [
                          0.06123997858
                        ],
                        "iteration": 859,
                        "passed_time": 5.775144103,
                        "remaining_time": 0.9401397377
                      },
                      {
                        "learn": [
                          0.06122412688
                        ],
                        "iteration": 860,
                        "passed_time": 5.789162242,
                        "remaining_time": 0.9346034282
                      },
                      {
                        "learn": [
                          0.06120763844
                        ],
                        "iteration": 861,
                        "passed_time": 5.795712736,
                        "remaining_time": 0.927851923
                      },
                      {
                        "learn": [
                          0.06119182442
                        ],
                        "iteration": 862,
                        "passed_time": 5.801906237,
                        "remaining_time": 0.9210442114
                      },
                      {
                        "learn": [
                          0.06117559368
                        ],
                        "iteration": 863,
                        "passed_time": 5.809741301,
                        "remaining_time": 0.9144963158
                      },
                      {
                        "learn": [
                          0.06116639409
                        ],
                        "iteration": 864,
                        "passed_time": 5.816246399,
                        "remaining_time": 0.9077378774
                      },
                      {
                        "learn": [
                          0.06114577448
                        ],
                        "iteration": 865,
                        "passed_time": 5.836482874,
                        "remaining_time": 0.9031047403
                      },
                      {
                        "learn": [
                          0.06112773973
                        ],
                        "iteration": 866,
                        "passed_time": 5.881128195,
                        "remaining_time": 0.9021799884
                      },
                      {
                        "learn": [
                          0.06112284913
                        ],
                        "iteration": 867,
                        "passed_time": 5.896543157,
                        "remaining_time": 0.896709328
                      },
                      {
                        "learn": [
                          0.06108369887
                        ],
                        "iteration": 868,
                        "passed_time": 5.909754273,
                        "remaining_time": 0.8908835555
                      },
                      {
                        "learn": [
                          0.06103478076
                        ],
                        "iteration": 869,
                        "passed_time": 5.915671899,
                        "remaining_time": 0.8839509734
                      },
                      {
                        "learn": [
                          0.06102627027
                        ],
                        "iteration": 870,
                        "passed_time": 5.925275028,
                        "remaining_time": 0.8775665656
                      },
                      {
                        "learn": [
                          0.06100627606
                        ],
                        "iteration": 871,
                        "passed_time": 5.932074625,
                        "remaining_time": 0.8707632477
                      },
                      {
                        "learn": [
                          0.06099311132
                        ],
                        "iteration": 872,
                        "passed_time": 5.938828145,
                        "remaining_time": 0.8639532353
                      },
                      {
                        "learn": [
                          0.06098214827
                        ],
                        "iteration": 873,
                        "passed_time": 5.958185431,
                        "remaining_time": 0.8589603711
                      },
                      {
                        "learn": [
                          0.06093592815
                        ],
                        "iteration": 874,
                        "passed_time": 5.974958348,
                        "remaining_time": 0.8535654783
                      },
                      {
                        "learn": [
                          0.06091562015
                        ],
                        "iteration": 875,
                        "passed_time": 5.981086278,
                        "remaining_time": 0.8466377836
                      },
                      {
                        "learn": [
                          0.0609059914
                        ],
                        "iteration": 876,
                        "passed_time": 5.991982004,
                        "remaining_time": 0.8403806004
                      },
                      {
                        "learn": [
                          0.06086915062
                        ],
                        "iteration": 877,
                        "passed_time": 6.002233793,
                        "remaining_time": 0.8340233744
                      },
                      {
                        "learn": [
                          0.06083641332
                        ],
                        "iteration": 878,
                        "passed_time": 6.017871368,
                        "remaining_time": 0.8283986752
                      },
                      {
                        "learn": [
                          0.06078635619
                        ],
                        "iteration": 879,
                        "passed_time": 6.030359856,
                        "remaining_time": 0.8223217986
                      },
                      {
                        "learn": [
                          0.06077251913
                        ],
                        "iteration": 880,
                        "passed_time": 6.038671731,
                        "remaining_time": 0.8156662156
                      },
                      {
                        "learn": [
                          0.06073984224
                        ],
                        "iteration": 881,
                        "passed_time": 6.047465905,
                        "remaining_time": 0.8090714022
                      },
                      {
                        "learn": [
                          0.0607332143
                        ],
                        "iteration": 882,
                        "passed_time": 6.055437706,
                        "remaining_time": 0.8023626406
                      },
                      {
                        "learn": [
                          0.0607294311
                        ],
                        "iteration": 883,
                        "passed_time": 6.062952824,
                        "remaining_time": 0.7955910945
                      },
                      {
                        "learn": [
                          0.06071393999
                        ],
                        "iteration": 884,
                        "passed_time": 6.072739105,
                        "remaining_time": 0.789112991
                      },
                      {
                        "learn": [
                          0.06069767156
                        ],
                        "iteration": 885,
                        "passed_time": 6.07887578,
                        "remaining_time": 0.7821578317
                      },
                      {
                        "learn": [
                          0.06068126081
                        ],
                        "iteration": 886,
                        "passed_time": 6.085253759,
                        "remaining_time": 0.7752352591
                      },
                      {
                        "learn": [
                          0.06067522007
                        ],
                        "iteration": 887,
                        "passed_time": 6.091687379,
                        "remaining_time": 0.7683209307
                      },
                      {
                        "learn": [
                          0.06066605203
                        ],
                        "iteration": 888,
                        "passed_time": 6.097914128,
                        "remaining_time": 0.7613818541
                      },
                      {
                        "learn": [
                          0.06063383973
                        ],
                        "iteration": 889,
                        "passed_time": 6.115168682,
                        "remaining_time": 0.7558073652
                      },
                      {
                        "learn": [
                          0.06062118782
                        ],
                        "iteration": 890,
                        "passed_time": 6.12307011,
                        "remaining_time": 0.7490624489
                      },
                      {
                        "learn": [
                          0.06061795877
                        ],
                        "iteration": 891,
                        "passed_time": 6.139806268,
                        "remaining_time": 0.7433846154
                      },
                      {
                        "learn": [
                          0.06060645932
                        ],
                        "iteration": 892,
                        "passed_time": 6.14630363,
                        "remaining_time": 0.7364551942
                      },
                      {
                        "learn": [
                          0.06058659772
                        ],
                        "iteration": 893,
                        "passed_time": 6.153413425,
                        "remaining_time": 0.7295993546
                      },
                      {
                        "learn": [
                          0.06054202924
                        ],
                        "iteration": 894,
                        "passed_time": 6.160291377,
                        "remaining_time": 0.7227157482
                      },
                      {
                        "learn": [
                          0.06051115617
                        ],
                        "iteration": 895,
                        "passed_time": 6.166688013,
                        "remaining_time": 0.7157762872
                      },
                      {
                        "learn": [
                          0.06050272977
                        ],
                        "iteration": 896,
                        "passed_time": 6.173011412,
                        "remaining_time": 0.708829627
                      },
                      {
                        "learn": [
                          0.06046151445
                        ],
                        "iteration": 897,
                        "passed_time": 6.189009925,
                        "remaining_time": 0.70298331
                      },
                      {
                        "learn": [
                          0.0604464916
                        ],
                        "iteration": 898,
                        "passed_time": 6.19734297,
                        "remaining_time": 0.6962532146
                      },
                      {
                        "learn": [
                          0.06042709452
                        ],
                        "iteration": 899,
                        "passed_time": 6.203692972,
                        "remaining_time": 0.6892992192
                      },
                      {
                        "learn": [
                          0.06039455329
                        ],
                        "iteration": 900,
                        "passed_time": 6.209838773,
                        "remaining_time": 0.6823241272
                      },
                      {
                        "learn": [
                          0.06038359639
                        ],
                        "iteration": 901,
                        "passed_time": 6.215947649,
                        "remaining_time": 0.6753468621
                      },
                      {
                        "learn": [
                          0.06036462969
                        ],
                        "iteration": 902,
                        "passed_time": 6.228418268,
                        "remaining_time": 0.6690548971
                      },
                      {
                        "learn": [
                          0.06034878657
                        ],
                        "iteration": 903,
                        "passed_time": 6.240902136,
                        "remaining_time": 0.6627506693
                      },
                      {
                        "learn": [
                          0.06033694757
                        ],
                        "iteration": 904,
                        "passed_time": 6.24771374,
                        "remaining_time": 0.6558373539
                      },
                      {
                        "learn": [
                          0.06030767043
                        ],
                        "iteration": 905,
                        "passed_time": 6.25894489,
                        "remaining_time": 0.6493828032
                      },
                      {
                        "learn": [
                          0.06029333955
                        ],
                        "iteration": 906,
                        "passed_time": 6.268179546,
                        "remaining_time": 0.6427130075
                      },
                      {
                        "learn": [
                          0.06026623061
                        ],
                        "iteration": 907,
                        "passed_time": 6.276005396,
                        "remaining_time": 0.6358948198
                      },
                      {
                        "learn": [
                          0.06024773749
                        ],
                        "iteration": 908,
                        "passed_time": 6.281931363,
                        "remaining_time": 0.6288842179
                      },
                      {
                        "learn": [
                          0.06020628521
                        ],
                        "iteration": 909,
                        "passed_time": 6.294548325,
                        "remaining_time": 0.6225377465
                      },
                      {
                        "learn": [
                          0.06017012472
                        ],
                        "iteration": 910,
                        "passed_time": 6.30110291,
                        "remaining_time": 0.6155852459
                      },
                      {
                        "learn": [
                          0.06013630411
                        ],
                        "iteration": 911,
                        "passed_time": 6.307430084,
                        "remaining_time": 0.6086116748
                      },
                      {
                        "learn": [
                          0.06011842937
                        ],
                        "iteration": 912,
                        "passed_time": 6.313535722,
                        "remaining_time": 0.6016184095
                      },
                      {
                        "learn": [
                          0.06010035621
                        ],
                        "iteration": 913,
                        "passed_time": 6.319609473,
                        "remaining_time": 0.5946240861
                      },
                      {
                        "learn": [
                          0.06007613295
                        ],
                        "iteration": 914,
                        "passed_time": 6.325888149,
                        "remaining_time": 0.5876508117
                      },
                      {
                        "learn": [
                          0.06004221264
                        ],
                        "iteration": 915,
                        "passed_time": 6.332316619,
                        "remaining_time": 0.5806927904
                      },
                      {
                        "learn": [
                          0.06000714925
                        ],
                        "iteration": 916,
                        "passed_time": 6.338386728,
                        "remaining_time": 0.5737034879
                      },
                      {
                        "learn": [
                          0.05996669524
                        ],
                        "iteration": 917,
                        "passed_time": 6.34484342,
                        "remaining_time": 0.5667507194
                      },
                      {
                        "learn": [
                          0.05995943757
                        ],
                        "iteration": 918,
                        "passed_time": 6.35100986,
                        "remaining_time": 0.5597734479
                      },
                      {
                        "learn": [
                          0.05994397756
                        ],
                        "iteration": 919,
                        "passed_time": 6.357492123,
                        "remaining_time": 0.552825402
                      },
                      {
                        "learn": [
                          0.05993135708
                        ],
                        "iteration": 920,
                        "passed_time": 6.363772145,
                        "remaining_time": 0.54586102
                      },
                      {
                        "learn": [
                          0.05991112753
                        ],
                        "iteration": 921,
                        "passed_time": 6.371359427,
                        "remaining_time": 0.5390087151
                      },
                      {
                        "learn": [
                          0.05990392412
                        ],
                        "iteration": 922,
                        "passed_time": 6.378310487,
                        "remaining_time": 0.5321017416
                      },
                      {
                        "learn": [
                          0.05984003687
                        ],
                        "iteration": 923,
                        "passed_time": 6.385104309,
                        "remaining_time": 0.5251817397
                      },
                      {
                        "learn": [
                          0.05980760713
                        ],
                        "iteration": 924,
                        "passed_time": 6.39571453,
                        "remaining_time": 0.5185714484
                      },
                      {
                        "learn": [
                          0.05979196941
                        ],
                        "iteration": 925,
                        "passed_time": 6.40242772,
                        "remaining_time": 0.5116410921
                      },
                      {
                        "learn": [
                          0.05976549884
                        ],
                        "iteration": 926,
                        "passed_time": 6.408897319,
                        "remaining_time": 0.5046920219
                      },
                      {
                        "learn": [
                          0.05972987572
                        ],
                        "iteration": 927,
                        "passed_time": 6.415284405,
                        "remaining_time": 0.4977375832
                      },
                      {
                        "learn": [
                          0.05968975722
                        ],
                        "iteration": 928,
                        "passed_time": 6.422638551,
                        "remaining_time": 0.4908582746
                      },
                      {
                        "learn": [
                          0.05966213238
                        ],
                        "iteration": 929,
                        "passed_time": 6.435811178,
                        "remaining_time": 0.4844158951
                      },
                      {
                        "learn": [
                          0.05963366077
                        ],
                        "iteration": 930,
                        "passed_time": 6.448741943,
                        "remaining_time": 0.4779411322
                      },
                      {
                        "learn": [
                          0.05960820908
                        ],
                        "iteration": 931,
                        "passed_time": 6.456472214,
                        "remaining_time": 0.47107308
                      },
                      {
                        "learn": [
                          0.05958584338
                        ],
                        "iteration": 932,
                        "passed_time": 6.473070953,
                        "remaining_time": 0.4648400363
                      },
                      {
                        "learn": [
                          0.05956396316
                        ],
                        "iteration": 933,
                        "passed_time": 6.480518382,
                        "remaining_time": 0.4579381298
                      },
                      {
                        "learn": [
                          0.05954790468
                        ],
                        "iteration": 934,
                        "passed_time": 6.486955964,
                        "remaining_time": 0.4509648531
                      },
                      {
                        "learn": [
                          0.05953200818
                        ],
                        "iteration": 935,
                        "passed_time": 6.493073491,
                        "remaining_time": 0.443970837
                      },
                      {
                        "learn": [
                          0.059526049
                        ],
                        "iteration": 936,
                        "passed_time": 6.499762166,
                        "remaining_time": 0.4370170934
                      },
                      {
                        "learn": [
                          0.05949361933
                        ],
                        "iteration": 937,
                        "passed_time": 6.506515869,
                        "remaining_time": 0.4300682131
                      },
                      {
                        "learn": [
                          0.05948258961
                        ],
                        "iteration": 938,
                        "passed_time": 6.512848278,
                        "remaining_time": 0.4230923801
                      },
                      {
                        "learn": [
                          0.05946480681
                        ],
                        "iteration": 939,
                        "passed_time": 6.519124833,
                        "remaining_time": 0.416114351
                      },
                      {
                        "learn": [
                          0.05944991526
                        ],
                        "iteration": 940,
                        "passed_time": 6.525430882,
                        "remaining_time": 0.4091396621
                      },
                      {
                        "learn": [
                          0.05943534393
                        ],
                        "iteration": 941,
                        "passed_time": 6.531670982,
                        "remaining_time": 0.4021623323
                      },
                      {
                        "learn": [
                          0.05941852602
                        ],
                        "iteration": 942,
                        "passed_time": 6.53874572,
                        "remaining_time": 0.3952370159
                      },
                      {
                        "learn": [
                          0.05939844211
                        ],
                        "iteration": 943,
                        "passed_time": 6.545845867,
                        "remaining_time": 0.3883128904
                      },
                      {
                        "learn": [
                          0.059390632
                        ],
                        "iteration": 944,
                        "passed_time": 6.552308089,
                        "remaining_time": 0.3813512644
                      },
                      {
                        "learn": [
                          0.0593319187
                        ],
                        "iteration": 945,
                        "passed_time": 6.558964165,
                        "remaining_time": 0.37440176
                      },
                      {
                        "learn": [
                          0.05931338437
                        ],
                        "iteration": 946,
                        "passed_time": 6.566434687,
                        "remaining_time": 0.3674984566
                      },
                      {
                        "learn": [
                          0.05929850606
                        ],
                        "iteration": 947,
                        "passed_time": 6.573644643,
                        "remaining_time": 0.360579664
                      },
                      {
                        "learn": [
                          0.05927174035
                        ],
                        "iteration": 948,
                        "passed_time": 6.583545535,
                        "remaining_time": 0.3538048707
                      },
                      {
                        "learn": [
                          0.05926163738
                        ],
                        "iteration": 949,
                        "passed_time": 6.595156931,
                        "remaining_time": 0.3471135227
                      },
                      {
                        "learn": [
                          0.05924227778
                        ],
                        "iteration": 950,
                        "passed_time": 6.609267418,
                        "remaining_time": 0.3405405925
                      },
                      {
                        "learn": [
                          0.05920871845
                        ],
                        "iteration": 951,
                        "passed_time": 6.617431715,
                        "remaining_time": 0.3336520192
                      },
                      {
                        "learn": [
                          0.05919886264
                        ],
                        "iteration": 952,
                        "passed_time": 6.627517133,
                        "remaining_time": 0.3268555144
                      },
                      {
                        "learn": [
                          0.0591757155
                        ],
                        "iteration": 953,
                        "passed_time": 6.639112476,
                        "remaining_time": 0.3201249202
                      },
                      {
                        "learn": [
                          0.05915572528
                        ],
                        "iteration": 954,
                        "passed_time": 6.646407808,
                        "remaining_time": 0.3131815197
                      },
                      {
                        "learn": [
                          0.05914318385
                        ],
                        "iteration": 955,
                        "passed_time": 6.652780476,
                        "remaining_time": 0.3061949173
                      },
                      {
                        "learn": [
                          0.05913305414
                        ],
                        "iteration": 956,
                        "passed_time": 6.659130488,
                        "remaining_time": 0.2992085799
                      },
                      {
                        "learn": [
                          0.05907967919
                        ],
                        "iteration": 957,
                        "passed_time": 6.666066292,
                        "remaining_time": 0.2922492529
                      },
                      {
                        "learn": [
                          0.05907307054
                        ],
                        "iteration": 958,
                        "passed_time": 6.678166486,
                        "remaining_time": 0.2855107674
                      },
                      {
                        "learn": [
                          0.05905489967
                        ],
                        "iteration": 959,
                        "passed_time": 6.707047656,
                        "remaining_time": 0.279460319
                      },
                      {
                        "learn": [
                          0.05902234959
                        ],
                        "iteration": 960,
                        "passed_time": 6.713090242,
                        "remaining_time": 0.2724355041
                      },
                      {
                        "learn": [
                          0.05901383532
                        ],
                        "iteration": 961,
                        "passed_time": 6.718745546,
                        "remaining_time": 0.2653974332
                      },
                      {
                        "learn": [
                          0.05899511051
                        ],
                        "iteration": 962,
                        "passed_time": 6.733279914,
                        "remaining_time": 0.2587033819
                      },
                      {
                        "learn": [
                          0.05896187039
                        ],
                        "iteration": 963,
                        "passed_time": 6.765963333,
                        "remaining_time": 0.2526708299
                      },
                      {
                        "learn": [
                          0.05895063321
                        ],
                        "iteration": 964,
                        "passed_time": 6.782186148,
                        "remaining_time": 0.2459860261
                      },
                      {
                        "learn": [
                          0.05893320958
                        ],
                        "iteration": 965,
                        "passed_time": 6.79168167,
                        "remaining_time": 0.2390446965
                      },
                      {
                        "learn": [
                          0.05891008004
                        ],
                        "iteration": 966,
                        "passed_time": 6.803369063,
                        "remaining_time": 0.2321728843
                      },
                      {
                        "learn": [
                          0.05885559048
                        ],
                        "iteration": 967,
                        "passed_time": 6.814252783,
                        "remaining_time": 0.2252645548
                      },
                      {
                        "learn": [
                          0.0588485279
                        ],
                        "iteration": 968,
                        "passed_time": 6.82033691,
                        "remaining_time": 0.2181944729
                      },
                      {
                        "learn": [
                          0.0587960623
                        ],
                        "iteration": 969,
                        "passed_time": 6.826775223,
                        "remaining_time": 0.211137378
                      },
                      {
                        "learn": [
                          0.05877018589
                        ],
                        "iteration": 970,
                        "passed_time": 6.863270368,
                        "remaining_time": 0.2049792386
                      },
                      {
                        "learn": [
                          0.05874846933
                        ],
                        "iteration": 971,
                        "passed_time": 6.872194073,
                        "remaining_time": 0.1979644383
                      },
                      {
                        "learn": [
                          0.0587368766
                        ],
                        "iteration": 972,
                        "passed_time": 6.87998851,
                        "remaining_time": 0.190914378
                      },
                      {
                        "learn": [
                          0.05871959376
                        ],
                        "iteration": 973,
                        "passed_time": 6.887888512,
                        "remaining_time": 0.1838656071
                      },
                      {
                        "learn": [
                          0.05870362415
                        ],
                        "iteration": 974,
                        "passed_time": 6.895750544,
                        "remaining_time": 0.1768141165
                      },
                      {
                        "learn": [
                          0.05868012024
                        ],
                        "iteration": 975,
                        "passed_time": 6.908630687,
                        "remaining_time": 0.1698843612
                      },
                      {
                        "learn": [
                          0.05867008268
                        ],
                        "iteration": 976,
                        "passed_time": 6.915504732,
                        "remaining_time": 0.1628010326
                      },
                      {
                        "learn": [
                          0.05864529613
                        ],
                        "iteration": 977,
                        "passed_time": 6.923062695,
                        "remaining_time": 0.1557335166
                      },
                      {
                        "learn": [
                          0.05862724435
                        ],
                        "iteration": 978,
                        "passed_time": 6.929297502,
                        "remaining_time": 0.1486366165
                      },
                      {
                        "learn": [
                          0.05859902434
                        ],
                        "iteration": 979,
                        "passed_time": 6.935541597,
                        "remaining_time": 0.1415416653
                      },
                      {
                        "learn": [
                          0.05857616582
                        ],
                        "iteration": 980,
                        "passed_time": 6.941753127,
                        "remaining_time": 0.134447818
                      },
                      {
                        "learn": [
                          0.05856547492
                        ],
                        "iteration": 981,
                        "passed_time": 6.949041039,
                        "remaining_time": 0.1273754977
                      },
                      {
                        "learn": [
                          0.05854770447
                        ],
                        "iteration": 982,
                        "passed_time": 6.956103793,
                        "remaining_time": 0.1202988449
                      },
                      {
                        "learn": [
                          0.05853855777
                        ],
                        "iteration": 983,
                        "passed_time": 6.962823772,
                        "remaining_time": 0.1132166467
                      },
                      {
                        "learn": [
                          0.05851619682
                        ],
                        "iteration": 984,
                        "passed_time": 6.978352942,
                        "remaining_time": 0.1062693341
                      },
                      {
                        "learn": [
                          0.05850336272
                        ],
                        "iteration": 985,
                        "passed_time": 6.989131847,
                        "remaining_time": 0.09923716619
                      },
                      {
                        "learn": [
                          0.05848231986
                        ],
                        "iteration": 986,
                        "passed_time": 6.996031976,
                        "remaining_time": 0.09214631782
                      },
                      {
                        "learn": [
                          0.05846774705
                        ],
                        "iteration": 987,
                        "passed_time": 7.002183643,
                        "remaining_time": 0.08504676489
                      },
                      {
                        "learn": [
                          0.05844928001
                        ],
                        "iteration": 988,
                        "passed_time": 7.008861333,
                        "remaining_time": 0.07795497944
                      },
                      {
                        "learn": [
                          0.05844378277
                        ],
                        "iteration": 989,
                        "passed_time": 7.023790498,
                        "remaining_time": 0.07094737877
                      },
                      {
                        "learn": [
                          0.05844175933
                        ],
                        "iteration": 990,
                        "passed_time": 7.035278272,
                        "remaining_time": 0.06389253729
                      },
                      {
                        "learn": [
                          0.05842781738
                        ],
                        "iteration": 991,
                        "passed_time": 7.042052817,
                        "remaining_time": 0.05679074853
                      },
                      {
                        "learn": [
                          0.05840371814
                        ],
                        "iteration": 992,
                        "passed_time": 7.052582793,
                        "remaining_time": 0.0497160922
                      },
                      {
                        "learn": [
                          0.05838896372
                        ],
                        "iteration": 993,
                        "passed_time": 7.062034295,
                        "remaining_time": 0.04262797361
                      },
                      {
                        "learn": [
                          0.05836526505
                        ],
                        "iteration": 994,
                        "passed_time": 7.070119002,
                        "remaining_time": 0.03552823619
                      },
                      {
                        "learn": [
                          0.0583349273
                        ],
                        "iteration": 995,
                        "passed_time": 7.078527401,
                        "remaining_time": 0.02842782089
                      },
                      {
                        "learn": [
                          0.05831302241
                        ],
                        "iteration": 996,
                        "passed_time": 7.086373975,
                        "remaining_time": 0.0213230912
                      },
                      {
                        "learn": [
                          0.05830086904
                        ],
                        "iteration": 997,
                        "passed_time": 7.098685368,
                        "remaining_time": 0.01422582238
                      },
                      {
                        "learn": [
                          0.05826536292
                        ],
                        "iteration": 998,
                        "passed_time": 7.105288275,
                        "remaining_time": 0.007112400675
                      },
                      {
                        "learn": [
                          0.05824972281
                        ],
                        "iteration": 999,
                        "passed_time": 7.114498292,
                        "remaining_time": 0
                      }
                    ],
                    "meta": {
                      "test_sets": [],
                      "test_metrics": [],
                      "learn_metrics": [
                        {
                          "best_value": "Min",
                          "name": "Logloss"
                        }
                      ],
                      "launch_mode": "Train",
                      "parameters": "",
                      "iteration_count": 1000,
                      "learn_sets": [
                        "learn"
                      ],
                      "name": "experiment"
                    }
                  }
                }
              }
            },
            "layout": "IPY_MODEL_5a88c5a3f7ab48c7abdfe9030f101426"
          }
        }
      }
    },
    "gpuClass": "standard"
  },
  "cells": [
    {
      "cell_type": "markdown",
      "metadata": {
        "id": "view-in-github",
        "colab_type": "text"
      },
      "source": [
        "<a href=\"https://colab.research.google.com/github/dolmani38/drift/blob/main/Concept%20drift%EC%97%90%20%EC%9D%98%ED%95%9C%20%EB%AA%A8%EB%8D%B8%EC%9D%98%20%EC%84%B1%EB%8A%A5%20%EC%B6%94%EC%A0%95%20%EB%B0%A9%EB%B2%95_0709.ipynb\" target=\"_parent\"><img src=\"https://colab.research.google.com/assets/colab-badge.svg\" alt=\"Open In Colab\"/></a>"
      ]
    },
    {
      "cell_type": "markdown",
      "source": [
        "# Introduction"
      ],
      "metadata": {
        "id": "MdUY2ejjB2t0"
      }
    },
    {
      "cell_type": "markdown",
      "source": [
        "*   기계학습은 학습에 의해 모델을 구축한 후, Test dataset을 사용하여 N-fold class-validation으로 precision, recall, f1 및 MAPE, RMSE 등 성능을 측정한다.\n",
        "*   통상, 측정된 성능값은 해당 모델을 대변하는 성능 지표가 된다.\n",
        "*   이렇게 구축된 모델은 live data를 입력해서 실 활용하게 되는데, 이때 초기에 측정한 성능을 지속하여 확보하고 있는지 실측하여 알 수 없다.\n",
        "*   Time-series data에 의한 Regression의 경우, 예측 기간의 도래 이후, 실측 Y값을 알 수 있으나 역시 업무에 따라 그 시간 간격이 크게 발생 할 수 있으며, classification의 경우, 예측 class가 정확한지 실측하기 위해서는 별도의 labeling 작업을 해야 한다.\n",
        "*   즉, 한번 구축한 모델은 활용 단계에서 성능을 실측하는 것이 매우 어려우며, 비즈니스상에서 IT운영팀에서 이를 관리하는 것은 현실적으로 불가능 하다.\n",
        "*   하지만, 비즈니스 상에서 모델의 활용 중에 성능이 저하된다면 의사결정 및 경영상의 문제를 초래 할 수 있다.\n",
        "*   하여, concept drift의 통계량을 측정하여 모델의 성능 상태를 유추하는 연구들이 이루어져 왔다.\n",
        "*   하지만, concept drift의 측정값 (통계량)을 통해 precision, recall, accuracy 등 직접적으로 성능을 예측하는 연구는 많지 않다.\n",
        "*   이번 연구에서는 concept drift의 측정값 (통계량)을 통해 직접적으로 precision, recall, accuracy 등 성능을 예측하는 성능 예측 모델(PPM, Performance prediction model)을 제안한다.\n",
        "\n",
        "\n",
        "\n",
        "\n",
        "\n",
        "\n",
        "\n",
        "\n",
        "\n",
        "\n"
      ],
      "metadata": {
        "id": "aGIAaCn1CJB3"
      }
    },
    {
      "cell_type": "markdown",
      "source": [
        "# Proposed Method"
      ],
      "metadata": {
        "id": "-N2SQ0-MGunc"
      }
    },
    {
      "cell_type": "markdown",
      "source": [
        "1.   Feature의 importanc를 측정하는 Lime 알고리즘은 reference data를 기반으로 가상의 dataset을 임의 생성(permutation)하여 model.predict에 의한 결과 (Y)를 대조 분석하여 importance를 추정(실험의 시행에 따른 statistics에 해당) 한다.\n",
        "2.   즉, dataset의 feature중 x1의 값이 변하여도 Y의 변동이 없다면 x1의 importance는 낮은 것이다. \n",
        "3.   실험 dataset에서 X1의 변동량 대비 Y의 변동량을 통계적으로 측정하여 importance를 추정하는 것이다.\n",
        "4.  유사한 원리로 data drift  model performance (accuracy) 모델을 생성할 수 있을 것이다.\n",
        "5.   즉, 전체 Trainset에서 N-fold class-validation의 개념으로 reference dataset과 inference dataset을 임의로 나누고, \n",
        "6. inference dataset에 permutation에 의해 x의 값을 변형하여 drift를 유도하고,\n",
        "7. reference 의 feature x1 대비 inference의 feature x1의 drift statistics 을 측정하고 (이때, x2,x3… 모든 feature의 drift statistics 이 측정될 것임) 이때의 inference dataset의 accuracy를 측정하여 y값으로 설정하고\n",
        "8.   각 feature의 drift statistics 를 x로 설정하여 regressio에 의해 modeling (학습) 한다.\n",
        "9.   물론, trainset 내의 분포, 범위라는 한계성을 갖지만,  직접적인 model 성능 추정이 가능할 것이다.\n",
        "\n",
        "\n",
        "\n",
        "\n",
        "\n",
        "\n",
        "\n"
      ],
      "metadata": {
        "id": "h0nsMLKzGxU9"
      }
    },
    {
      "cell_type": "markdown",
      "source": [
        "## reference data에 대응하는 inference data를 sampling(복원추출)하고, permutation에 의해 drift 주입, feature의 drift statistics 로부터 직접 model의 성능을 추정한다."
      ],
      "metadata": {
        "id": "tmErgAMEHjVd"
      }
    },
    {
      "cell_type": "markdown",
      "source": [
        "### sudo code"
      ],
      "metadata": {
        "id": "8qAPuuGcBVLv"
      }
    },
    {
      "cell_type": "code",
      "source": [
        "trainset : y=f(x)\n",
        "base_score = Score of base model\n",
        "sampling_range = 0.05~0.95\n",
        "sigma_multiplier = 1\n",
        "for n sampling_count:\n",
        "    y_ref, y_inf, x_ref, x_inf = split(y, x, sampling_range)\n",
        "    x_inf = permutation(x_inf,sigma_multiplier)\n",
        "    inf_score = score(y_inf, predict(x_inf))\n",
        "    if base_score > inf_score:\n",
        "        x_drift_statistics,x_drift_p_value = drift(x, x_inf)\n",
        "        scores.add(inf_score)\n",
        "        feature_drift.add(x_drift_statistics * (1 if x_drift_p_value < 0.05 else 0))\n",
        "        \n",
        "perfomance_predict_model = train(scores, feature_drift)\n",
        "\n",
        "x_live = Inference data from time1 to time2\n",
        "x_live_drift_statistics,x_live_drift_p_value = drift(x, x_live)\n",
        "predict_score = perfomance_predict_model(x_live_drift_statistics * (1 if x_live_drift_p_value < 0.05 else 0))"
      ],
      "metadata": {
        "id": "EO15rrGVHoBX"
      },
      "execution_count": null,
      "outputs": []
    },
    {
      "cell_type": "markdown",
      "source": [
        "# 실험 계획"
      ],
      "metadata": {
        "id": "qclC6IuFH5y5"
      }
    },
    {
      "cell_type": "markdown",
      "source": [
        "*   Data\n",
        "> 미국의 개인 대출 기업 ‘Lending Club’의 공개 데이터 사용<BR>\n",
        "> 2007~2017년까지 총 2,260,701건의 데이터, 대출 건당 실제 ‘default’ 여부 포함\n",
        "151개 Column<BR>\n",
        "> 데이터 정제 후, 81개 Features, 120만건 사용<BR>\n",
        "\n",
        "* 예측 알고리즘\n",
        "> Random-forest 알고리즘<BR>\n",
        "> Deep-learning 알고리즘\n",
        "\n",
        "* 실험\n",
        "> 2010년 data를 기준으로 모델 학습<BR>\n",
        ">2011년~2017년의 데이터를 2010년 학습데이터의 건수 (8000건) 단위로 drift 측정\n",
        "모델의 예측 성능과 실 성능을 비교<BR>\n",
        "\n",
        "* 실험의 변수\n",
        "> feature_count (order of importance) = 5, 8, 10<br>\n",
        "> sampling_range = 0.05 ~ 0.95, 0.20 ~ 0.80, 0.40 ~ 0.60<BR>\n",
        "> sigma_multiplier = 1, 2, 3<BR>\n",
        "\n",
        "* 측정 지표\n",
        "> 예측 알고리즘의 성능 지표 : precision<BR>\n",
        "> PPM의 성능 지표<BR>\n",
        "    >>mean_absolute_error<br>\n",
        "    >>root_mean_square_error<br>\n",
        "    >>mean_absolute_percentage_error<br>\n",
        "    >>R_square<br>\n"
      ],
      "metadata": {
        "id": "N9iEkjRPH-ad"
      }
    },
    {
      "cell_type": "markdown",
      "source": [
        "# 데이터 준비"
      ],
      "metadata": {
        "id": "uNNbnbmhJAvK"
      }
    },
    {
      "cell_type": "code",
      "source": [
        "if True:\n",
        "    from google.colab import drive\n",
        "    drive.mount('/content/drive')"
      ],
      "metadata": {
        "colab": {
          "base_uri": "https://localhost:8080/"
        },
        "id": "J2c4ezIaJJjo",
        "outputId": "17395d70-0a06-4e0c-8538-72a2aec259b9"
      },
      "execution_count": 1,
      "outputs": [
        {
          "output_type": "stream",
          "name": "stdout",
          "text": [
            "Mounted at /content/drive\n"
          ]
        }
      ]
    },
    {
      "cell_type": "code",
      "source": [
        "import os\n",
        "\n",
        "import pandas as pd\n",
        "import numpy as np\n",
        "import matplotlib.pyplot as plt\n",
        "import seaborn as sns\n",
        "from sklearn.model_selection import train_test_split\n",
        "from sklearn.preprocessing import MinMaxScaler\n",
        "from sklearn.preprocessing import StandardScaler\n",
        "from sklearn.metrics import classification_report, confusion_matrix, accuracy_score\n",
        "import tensorflow as tf\n",
        "from tensorflow.keras.models import Sequential\n",
        "from tensorflow.keras.layers import Dense, Dropout\n",
        "\n",
        "np.random.seed(1337)"
      ],
      "metadata": {
        "id": "JUNcaGM_J27R"
      },
      "execution_count": 2,
      "outputs": []
    },
    {
      "cell_type": "code",
      "source": [
        "df_accepted = pd.read_csv(\"/content/drive/MyDrive/Drift/accepted_2007_to_2018Q4.csv\")\n",
        "\n",
        "print(df_accepted.shape)"
      ],
      "metadata": {
        "colab": {
          "base_uri": "https://localhost:8080/"
        },
        "id": "eW0ESQ-LJ86X",
        "outputId": "3b955f2a-575e-4cc7-9b6b-1ce3fd29a2e4"
      },
      "execution_count": 3,
      "outputs": [
        {
          "output_type": "stream",
          "name": "stderr",
          "text": [
            "/usr/local/lib/python3.7/dist-packages/IPython/core/interactiveshell.py:2882: DtypeWarning: Columns (0,19,49,59,118,129,130,131,134,135,136,139,145,146,147) have mixed types.Specify dtype option on import or set low_memory=False.\n",
            "  exec(code_obj, self.user_global_ns, self.user_ns)\n"
          ]
        },
        {
          "output_type": "stream",
          "name": "stdout",
          "text": [
            "(2260701, 151)\n"
          ]
        }
      ]
    },
    {
      "cell_type": "markdown",
      "source": [
        "### 데이터 정제"
      ],
      "metadata": {
        "id": "CFPlPXzNKAiQ"
      }
    },
    {
      "cell_type": "code",
      "source": [
        "# for the sake of simplicity, let's consider only Fully Paid and Charged Off values:\n",
        "\n",
        "df_accepted = df_accepted[df_accepted.loan_status.isin(['Fully Paid', 'Charged Off'])]\n",
        "\n",
        "print(df_accepted.shape)"
      ],
      "metadata": {
        "colab": {
          "base_uri": "https://localhost:8080/"
        },
        "id": "qmlNZDqPKDXg",
        "outputId": "398749a0-ae4f-4a69-c947-43ef365f4971"
      },
      "execution_count": 4,
      "outputs": [
        {
          "output_type": "stream",
          "name": "stdout",
          "text": [
            "(1345310, 151)\n"
          ]
        }
      ]
    },
    {
      "cell_type": "code",
      "source": [
        "cols_to_drop = df_accepted.isnull().sum().sort_values(ascending=False).head(50).index\n",
        "df_accepted = df_accepted.drop(columns=cols_to_drop)\n",
        "df_accepted.shape"
      ],
      "metadata": {
        "colab": {
          "base_uri": "https://localhost:8080/"
        },
        "id": "fN2Jx2vXKbKm",
        "outputId": "e600e7c6-ccb1-4360-e47f-3e00ab2197bd"
      },
      "execution_count": 5,
      "outputs": [
        {
          "output_type": "execute_result",
          "data": {
            "text/plain": [
              "(1345310, 101)"
            ]
          },
          "metadata": {},
          "execution_count": 5
        }
      ]
    },
    {
      "cell_type": "code",
      "source": [
        "# maybe we can go further, and eliminate columns up to title:\n",
        "\n",
        "cols_to_drop = df_accepted.isnull().sum().sort_values(ascending=False).head(45).index\n",
        "df_accepted = df_accepted.drop(columns=cols_to_drop)\n",
        "df_accepted.shape"
      ],
      "metadata": {
        "colab": {
          "base_uri": "https://localhost:8080/"
        },
        "id": "4p3qUjW-KlCk",
        "outputId": "a5302a50-777c-4269-9082-dc10da144cb3"
      },
      "execution_count": 6,
      "outputs": [
        {
          "output_type": "execute_result",
          "data": {
            "text/plain": [
              "(1345310, 56)"
            ]
          },
          "metadata": {},
          "execution_count": 6
        }
      ]
    },
    {
      "cell_type": "code",
      "source": [
        "# Remaining columns have missing data points, but they account for less than 0.2% of the total data. Let's remove the rows that are missing those values in those columns with dropna():\n",
        "\n",
        "df_accepted = df_accepted.dropna()\n",
        "df_accepted.shape"
      ],
      "metadata": {
        "colab": {
          "base_uri": "https://localhost:8080/"
        },
        "id": "BOLNQcD7KunK",
        "outputId": "447872bf-19bb-4769-db86-3c030c046afb"
      },
      "execution_count": 7,
      "outputs": [
        {
          "output_type": "execute_result",
          "data": {
            "text/plain": [
              "(1341026, 56)"
            ]
          },
          "metadata": {},
          "execution_count": 7
        }
      ]
    },
    {
      "cell_type": "code",
      "source": [
        "# These are constant columns. We can drop it either.\n",
        "\n",
        "cols_to_drop = ['out_prncp', 'out_prncp_inv', 'policy_code']\n",
        "df_accepted = df_accepted.drop(columns=cols_to_drop)\n",
        "df_accepted.shape"
      ],
      "metadata": {
        "colab": {
          "base_uri": "https://localhost:8080/"
        },
        "id": "HGUkk3rBK7s4",
        "outputId": "f3df0097-cf9d-4b24-cdb6-a56cda58bbae"
      },
      "execution_count": 8,
      "outputs": [
        {
          "output_type": "execute_result",
          "data": {
            "text/plain": [
              "(1341026, 53)"
            ]
          },
          "metadata": {},
          "execution_count": 8
        }
      ]
    },
    {
      "cell_type": "code",
      "source": [
        "# It seems we have many \"duplicated\" information. Let's drop some columns, based on visual inspection at corr_pairs dataframe:\n",
        "\n",
        "cols_to_drop = ['fico_range_low', 'funded_amnt_inv', 'funded_amnt', 'total_pymnt_inv', 'total_pymnt', 'installment', 'collection_recovery_fee', 'total_rec_prncp', 'last_fico_range_low']\n",
        "df_accepted = df_accepted.drop(columns=cols_to_drop)\n",
        "df_accepted.shape"
      ],
      "metadata": {
        "colab": {
          "base_uri": "https://localhost:8080/"
        },
        "id": "k6Gp_sv5LHKx",
        "outputId": "928e46b1-285e-491c-ded2-162895e28c78"
      },
      "execution_count": 9,
      "outputs": [
        {
          "output_type": "execute_result",
          "data": {
            "text/plain": [
              "(1341026, 44)"
            ]
          },
          "metadata": {},
          "execution_count": 9
        }
      ]
    },
    {
      "cell_type": "code",
      "source": [
        "values = df_accepted.loan_status.unique()\n",
        "encode = [1,0]\n",
        "d = dict(zip(values, encode))\n",
        "\n",
        "df_accepted['loan_paid'] = df_accepted['loan_status'].map(d)\n",
        "\n",
        "df_accepted = df_accepted.drop(columns=['loan_status'])\n"
      ],
      "metadata": {
        "id": "DlmXhnoWLLqu"
      },
      "execution_count": 10,
      "outputs": []
    },
    {
      "cell_type": "code",
      "source": [
        "df_accepted"
      ],
      "metadata": {
        "colab": {
          "base_uri": "https://localhost:8080/",
          "height": 0
        },
        "id": "kodDyF1YLYFD",
        "outputId": "74b1cfaa-c230-4767-ebef-7415c352d58c"
      },
      "execution_count": 11,
      "outputs": [
        {
          "output_type": "execute_result",
          "data": {
            "text/plain": [
              "               id  loan_amnt        term  int_rate grade sub_grade  \\\n",
              "0        68407277     3600.0   36 months     13.99     C        C4   \n",
              "1        68355089    24700.0   36 months     11.99     C        C1   \n",
              "2        68341763    20000.0   60 months     10.78     B        B4   \n",
              "4        68476807    10400.0   60 months     22.45     F        F1   \n",
              "5        68426831    11950.0   36 months     13.44     C        C3   \n",
              "...           ...        ...         ...       ...   ...       ...   \n",
              "2260688  89905081    18000.0   60 months      9.49     B        B2   \n",
              "2260690  88948836    29400.0   60 months     13.99     C        C3   \n",
              "2260691  89996426    32000.0   60 months     14.49     C        C4   \n",
              "2260692  90006534    16000.0   60 months     12.79     C        C1   \n",
              "2260697  88224441    24000.0   60 months     14.49     C        C4   \n",
              "\n",
              "        home_ownership  annual_inc verification_status   issue_d  ...  \\\n",
              "0             MORTGAGE     55000.0        Not Verified  Dec-2015  ...   \n",
              "1             MORTGAGE     65000.0        Not Verified  Dec-2015  ...   \n",
              "2             MORTGAGE     63000.0        Not Verified  Dec-2015  ...   \n",
              "4             MORTGAGE    104433.0     Source Verified  Dec-2015  ...   \n",
              "5                 RENT     34000.0     Source Verified  Dec-2015  ...   \n",
              "...                ...         ...                 ...       ...  ...   \n",
              "2260688            OWN    130000.0        Not Verified  Oct-2016  ...   \n",
              "2260690       MORTGAGE    180792.0        Not Verified  Oct-2016  ...   \n",
              "2260691       MORTGAGE    157000.0     Source Verified  Oct-2016  ...   \n",
              "2260692           RENT    150000.0        Not Verified  Oct-2016  ...   \n",
              "2260697           RENT    110000.0        Not Verified  Oct-2016  ...   \n",
              "\n",
              "        application_type acc_now_delinq chargeoff_within_12_mths delinq_amnt  \\\n",
              "0             Individual            0.0                      0.0         0.0   \n",
              "1             Individual            0.0                      0.0         0.0   \n",
              "2              Joint App            0.0                      0.0         0.0   \n",
              "4             Individual            0.0                      0.0         0.0   \n",
              "5             Individual            0.0                      0.0         0.0   \n",
              "...                  ...            ...                      ...         ...   \n",
              "2260688       Individual            0.0                      0.0         0.0   \n",
              "2260690       Individual            0.0                      0.0         0.0   \n",
              "2260691       Individual            0.0                      0.0         0.0   \n",
              "2260692       Individual            0.0                      0.0         0.0   \n",
              "2260697       Individual            0.0                      0.0         0.0   \n",
              "\n",
              "        pub_rec_bankruptcies  tax_liens  hardship_flag disbursement_method  \\\n",
              "0                        0.0        0.0              N                Cash   \n",
              "1                        0.0        0.0              N                Cash   \n",
              "2                        0.0        0.0              N                Cash   \n",
              "4                        0.0        0.0              N                Cash   \n",
              "5                        0.0        0.0              N                Cash   \n",
              "...                      ...        ...            ...                 ...   \n",
              "2260688                  0.0        0.0              N                Cash   \n",
              "2260690                  0.0        0.0              N                Cash   \n",
              "2260691                  0.0        0.0              N                Cash   \n",
              "2260692                  3.0        0.0              N                Cash   \n",
              "2260697                  1.0        0.0              N                Cash   \n",
              "\n",
              "         debt_settlement_flag  loan_paid  \n",
              "0                           N          1  \n",
              "1                           N          1  \n",
              "2                           N          1  \n",
              "4                           N          1  \n",
              "5                           N          1  \n",
              "...                       ...        ...  \n",
              "2260688                     N          1  \n",
              "2260690                     N          1  \n",
              "2260691                     N          0  \n",
              "2260692                     N          1  \n",
              "2260697                     Y          0  \n",
              "\n",
              "[1341026 rows x 44 columns]"
            ],
            "text/html": [
              "\n",
              "  <div id=\"df-c923f741-dd9f-46e0-a1d5-3dda6c8ec45a\">\n",
              "    <div class=\"colab-df-container\">\n",
              "      <div>\n",
              "<style scoped>\n",
              "    .dataframe tbody tr th:only-of-type {\n",
              "        vertical-align: middle;\n",
              "    }\n",
              "\n",
              "    .dataframe tbody tr th {\n",
              "        vertical-align: top;\n",
              "    }\n",
              "\n",
              "    .dataframe thead th {\n",
              "        text-align: right;\n",
              "    }\n",
              "</style>\n",
              "<table border=\"1\" class=\"dataframe\">\n",
              "  <thead>\n",
              "    <tr style=\"text-align: right;\">\n",
              "      <th></th>\n",
              "      <th>id</th>\n",
              "      <th>loan_amnt</th>\n",
              "      <th>term</th>\n",
              "      <th>int_rate</th>\n",
              "      <th>grade</th>\n",
              "      <th>sub_grade</th>\n",
              "      <th>home_ownership</th>\n",
              "      <th>annual_inc</th>\n",
              "      <th>verification_status</th>\n",
              "      <th>issue_d</th>\n",
              "      <th>...</th>\n",
              "      <th>application_type</th>\n",
              "      <th>acc_now_delinq</th>\n",
              "      <th>chargeoff_within_12_mths</th>\n",
              "      <th>delinq_amnt</th>\n",
              "      <th>pub_rec_bankruptcies</th>\n",
              "      <th>tax_liens</th>\n",
              "      <th>hardship_flag</th>\n",
              "      <th>disbursement_method</th>\n",
              "      <th>debt_settlement_flag</th>\n",
              "      <th>loan_paid</th>\n",
              "    </tr>\n",
              "  </thead>\n",
              "  <tbody>\n",
              "    <tr>\n",
              "      <th>0</th>\n",
              "      <td>68407277</td>\n",
              "      <td>3600.0</td>\n",
              "      <td>36 months</td>\n",
              "      <td>13.99</td>\n",
              "      <td>C</td>\n",
              "      <td>C4</td>\n",
              "      <td>MORTGAGE</td>\n",
              "      <td>55000.0</td>\n",
              "      <td>Not Verified</td>\n",
              "      <td>Dec-2015</td>\n",
              "      <td>...</td>\n",
              "      <td>Individual</td>\n",
              "      <td>0.0</td>\n",
              "      <td>0.0</td>\n",
              "      <td>0.0</td>\n",
              "      <td>0.0</td>\n",
              "      <td>0.0</td>\n",
              "      <td>N</td>\n",
              "      <td>Cash</td>\n",
              "      <td>N</td>\n",
              "      <td>1</td>\n",
              "    </tr>\n",
              "    <tr>\n",
              "      <th>1</th>\n",
              "      <td>68355089</td>\n",
              "      <td>24700.0</td>\n",
              "      <td>36 months</td>\n",
              "      <td>11.99</td>\n",
              "      <td>C</td>\n",
              "      <td>C1</td>\n",
              "      <td>MORTGAGE</td>\n",
              "      <td>65000.0</td>\n",
              "      <td>Not Verified</td>\n",
              "      <td>Dec-2015</td>\n",
              "      <td>...</td>\n",
              "      <td>Individual</td>\n",
              "      <td>0.0</td>\n",
              "      <td>0.0</td>\n",
              "      <td>0.0</td>\n",
              "      <td>0.0</td>\n",
              "      <td>0.0</td>\n",
              "      <td>N</td>\n",
              "      <td>Cash</td>\n",
              "      <td>N</td>\n",
              "      <td>1</td>\n",
              "    </tr>\n",
              "    <tr>\n",
              "      <th>2</th>\n",
              "      <td>68341763</td>\n",
              "      <td>20000.0</td>\n",
              "      <td>60 months</td>\n",
              "      <td>10.78</td>\n",
              "      <td>B</td>\n",
              "      <td>B4</td>\n",
              "      <td>MORTGAGE</td>\n",
              "      <td>63000.0</td>\n",
              "      <td>Not Verified</td>\n",
              "      <td>Dec-2015</td>\n",
              "      <td>...</td>\n",
              "      <td>Joint App</td>\n",
              "      <td>0.0</td>\n",
              "      <td>0.0</td>\n",
              "      <td>0.0</td>\n",
              "      <td>0.0</td>\n",
              "      <td>0.0</td>\n",
              "      <td>N</td>\n",
              "      <td>Cash</td>\n",
              "      <td>N</td>\n",
              "      <td>1</td>\n",
              "    </tr>\n",
              "    <tr>\n",
              "      <th>4</th>\n",
              "      <td>68476807</td>\n",
              "      <td>10400.0</td>\n",
              "      <td>60 months</td>\n",
              "      <td>22.45</td>\n",
              "      <td>F</td>\n",
              "      <td>F1</td>\n",
              "      <td>MORTGAGE</td>\n",
              "      <td>104433.0</td>\n",
              "      <td>Source Verified</td>\n",
              "      <td>Dec-2015</td>\n",
              "      <td>...</td>\n",
              "      <td>Individual</td>\n",
              "      <td>0.0</td>\n",
              "      <td>0.0</td>\n",
              "      <td>0.0</td>\n",
              "      <td>0.0</td>\n",
              "      <td>0.0</td>\n",
              "      <td>N</td>\n",
              "      <td>Cash</td>\n",
              "      <td>N</td>\n",
              "      <td>1</td>\n",
              "    </tr>\n",
              "    <tr>\n",
              "      <th>5</th>\n",
              "      <td>68426831</td>\n",
              "      <td>11950.0</td>\n",
              "      <td>36 months</td>\n",
              "      <td>13.44</td>\n",
              "      <td>C</td>\n",
              "      <td>C3</td>\n",
              "      <td>RENT</td>\n",
              "      <td>34000.0</td>\n",
              "      <td>Source Verified</td>\n",
              "      <td>Dec-2015</td>\n",
              "      <td>...</td>\n",
              "      <td>Individual</td>\n",
              "      <td>0.0</td>\n",
              "      <td>0.0</td>\n",
              "      <td>0.0</td>\n",
              "      <td>0.0</td>\n",
              "      <td>0.0</td>\n",
              "      <td>N</td>\n",
              "      <td>Cash</td>\n",
              "      <td>N</td>\n",
              "      <td>1</td>\n",
              "    </tr>\n",
              "    <tr>\n",
              "      <th>...</th>\n",
              "      <td>...</td>\n",
              "      <td>...</td>\n",
              "      <td>...</td>\n",
              "      <td>...</td>\n",
              "      <td>...</td>\n",
              "      <td>...</td>\n",
              "      <td>...</td>\n",
              "      <td>...</td>\n",
              "      <td>...</td>\n",
              "      <td>...</td>\n",
              "      <td>...</td>\n",
              "      <td>...</td>\n",
              "      <td>...</td>\n",
              "      <td>...</td>\n",
              "      <td>...</td>\n",
              "      <td>...</td>\n",
              "      <td>...</td>\n",
              "      <td>...</td>\n",
              "      <td>...</td>\n",
              "      <td>...</td>\n",
              "      <td>...</td>\n",
              "    </tr>\n",
              "    <tr>\n",
              "      <th>2260688</th>\n",
              "      <td>89905081</td>\n",
              "      <td>18000.0</td>\n",
              "      <td>60 months</td>\n",
              "      <td>9.49</td>\n",
              "      <td>B</td>\n",
              "      <td>B2</td>\n",
              "      <td>OWN</td>\n",
              "      <td>130000.0</td>\n",
              "      <td>Not Verified</td>\n",
              "      <td>Oct-2016</td>\n",
              "      <td>...</td>\n",
              "      <td>Individual</td>\n",
              "      <td>0.0</td>\n",
              "      <td>0.0</td>\n",
              "      <td>0.0</td>\n",
              "      <td>0.0</td>\n",
              "      <td>0.0</td>\n",
              "      <td>N</td>\n",
              "      <td>Cash</td>\n",
              "      <td>N</td>\n",
              "      <td>1</td>\n",
              "    </tr>\n",
              "    <tr>\n",
              "      <th>2260690</th>\n",
              "      <td>88948836</td>\n",
              "      <td>29400.0</td>\n",
              "      <td>60 months</td>\n",
              "      <td>13.99</td>\n",
              "      <td>C</td>\n",
              "      <td>C3</td>\n",
              "      <td>MORTGAGE</td>\n",
              "      <td>180792.0</td>\n",
              "      <td>Not Verified</td>\n",
              "      <td>Oct-2016</td>\n",
              "      <td>...</td>\n",
              "      <td>Individual</td>\n",
              "      <td>0.0</td>\n",
              "      <td>0.0</td>\n",
              "      <td>0.0</td>\n",
              "      <td>0.0</td>\n",
              "      <td>0.0</td>\n",
              "      <td>N</td>\n",
              "      <td>Cash</td>\n",
              "      <td>N</td>\n",
              "      <td>1</td>\n",
              "    </tr>\n",
              "    <tr>\n",
              "      <th>2260691</th>\n",
              "      <td>89996426</td>\n",
              "      <td>32000.0</td>\n",
              "      <td>60 months</td>\n",
              "      <td>14.49</td>\n",
              "      <td>C</td>\n",
              "      <td>C4</td>\n",
              "      <td>MORTGAGE</td>\n",
              "      <td>157000.0</td>\n",
              "      <td>Source Verified</td>\n",
              "      <td>Oct-2016</td>\n",
              "      <td>...</td>\n",
              "      <td>Individual</td>\n",
              "      <td>0.0</td>\n",
              "      <td>0.0</td>\n",
              "      <td>0.0</td>\n",
              "      <td>0.0</td>\n",
              "      <td>0.0</td>\n",
              "      <td>N</td>\n",
              "      <td>Cash</td>\n",
              "      <td>N</td>\n",
              "      <td>0</td>\n",
              "    </tr>\n",
              "    <tr>\n",
              "      <th>2260692</th>\n",
              "      <td>90006534</td>\n",
              "      <td>16000.0</td>\n",
              "      <td>60 months</td>\n",
              "      <td>12.79</td>\n",
              "      <td>C</td>\n",
              "      <td>C1</td>\n",
              "      <td>RENT</td>\n",
              "      <td>150000.0</td>\n",
              "      <td>Not Verified</td>\n",
              "      <td>Oct-2016</td>\n",
              "      <td>...</td>\n",
              "      <td>Individual</td>\n",
              "      <td>0.0</td>\n",
              "      <td>0.0</td>\n",
              "      <td>0.0</td>\n",
              "      <td>3.0</td>\n",
              "      <td>0.0</td>\n",
              "      <td>N</td>\n",
              "      <td>Cash</td>\n",
              "      <td>N</td>\n",
              "      <td>1</td>\n",
              "    </tr>\n",
              "    <tr>\n",
              "      <th>2260697</th>\n",
              "      <td>88224441</td>\n",
              "      <td>24000.0</td>\n",
              "      <td>60 months</td>\n",
              "      <td>14.49</td>\n",
              "      <td>C</td>\n",
              "      <td>C4</td>\n",
              "      <td>RENT</td>\n",
              "      <td>110000.0</td>\n",
              "      <td>Not Verified</td>\n",
              "      <td>Oct-2016</td>\n",
              "      <td>...</td>\n",
              "      <td>Individual</td>\n",
              "      <td>0.0</td>\n",
              "      <td>0.0</td>\n",
              "      <td>0.0</td>\n",
              "      <td>1.0</td>\n",
              "      <td>0.0</td>\n",
              "      <td>N</td>\n",
              "      <td>Cash</td>\n",
              "      <td>Y</td>\n",
              "      <td>0</td>\n",
              "    </tr>\n",
              "  </tbody>\n",
              "</table>\n",
              "<p>1341026 rows × 44 columns</p>\n",
              "</div>\n",
              "      <button class=\"colab-df-convert\" onclick=\"convertToInteractive('df-c923f741-dd9f-46e0-a1d5-3dda6c8ec45a')\"\n",
              "              title=\"Convert this dataframe to an interactive table.\"\n",
              "              style=\"display:none;\">\n",
              "        \n",
              "  <svg xmlns=\"http://www.w3.org/2000/svg\" height=\"24px\"viewBox=\"0 0 24 24\"\n",
              "       width=\"24px\">\n",
              "    <path d=\"M0 0h24v24H0V0z\" fill=\"none\"/>\n",
              "    <path d=\"M18.56 5.44l.94 2.06.94-2.06 2.06-.94-2.06-.94-.94-2.06-.94 2.06-2.06.94zm-11 1L8.5 8.5l.94-2.06 2.06-.94-2.06-.94L8.5 2.5l-.94 2.06-2.06.94zm10 10l.94 2.06.94-2.06 2.06-.94-2.06-.94-.94-2.06-.94 2.06-2.06.94z\"/><path d=\"M17.41 7.96l-1.37-1.37c-.4-.4-.92-.59-1.43-.59-.52 0-1.04.2-1.43.59L10.3 9.45l-7.72 7.72c-.78.78-.78 2.05 0 2.83L4 21.41c.39.39.9.59 1.41.59.51 0 1.02-.2 1.41-.59l7.78-7.78 2.81-2.81c.8-.78.8-2.07 0-2.86zM5.41 20L4 18.59l7.72-7.72 1.47 1.35L5.41 20z\"/>\n",
              "  </svg>\n",
              "      </button>\n",
              "      \n",
              "  <style>\n",
              "    .colab-df-container {\n",
              "      display:flex;\n",
              "      flex-wrap:wrap;\n",
              "      gap: 12px;\n",
              "    }\n",
              "\n",
              "    .colab-df-convert {\n",
              "      background-color: #E8F0FE;\n",
              "      border: none;\n",
              "      border-radius: 50%;\n",
              "      cursor: pointer;\n",
              "      display: none;\n",
              "      fill: #1967D2;\n",
              "      height: 32px;\n",
              "      padding: 0 0 0 0;\n",
              "      width: 32px;\n",
              "    }\n",
              "\n",
              "    .colab-df-convert:hover {\n",
              "      background-color: #E2EBFA;\n",
              "      box-shadow: 0px 1px 2px rgba(60, 64, 67, 0.3), 0px 1px 3px 1px rgba(60, 64, 67, 0.15);\n",
              "      fill: #174EA6;\n",
              "    }\n",
              "\n",
              "    [theme=dark] .colab-df-convert {\n",
              "      background-color: #3B4455;\n",
              "      fill: #D2E3FC;\n",
              "    }\n",
              "\n",
              "    [theme=dark] .colab-df-convert:hover {\n",
              "      background-color: #434B5C;\n",
              "      box-shadow: 0px 1px 3px 1px rgba(0, 0, 0, 0.15);\n",
              "      filter: drop-shadow(0px 1px 2px rgba(0, 0, 0, 0.3));\n",
              "      fill: #FFFFFF;\n",
              "    }\n",
              "  </style>\n",
              "\n",
              "      <script>\n",
              "        const buttonEl =\n",
              "          document.querySelector('#df-c923f741-dd9f-46e0-a1d5-3dda6c8ec45a button.colab-df-convert');\n",
              "        buttonEl.style.display =\n",
              "          google.colab.kernel.accessAllowed ? 'block' : 'none';\n",
              "\n",
              "        async function convertToInteractive(key) {\n",
              "          const element = document.querySelector('#df-c923f741-dd9f-46e0-a1d5-3dda6c8ec45a');\n",
              "          const dataTable =\n",
              "            await google.colab.kernel.invokeFunction('convertToInteractive',\n",
              "                                                     [key], {});\n",
              "          if (!dataTable) return;\n",
              "\n",
              "          const docLinkHtml = 'Like what you see? Visit the ' +\n",
              "            '<a target=\"_blank\" href=https://colab.research.google.com/notebooks/data_table.ipynb>data table notebook</a>'\n",
              "            + ' to learn more about interactive tables.';\n",
              "          element.innerHTML = '';\n",
              "          dataTable['output_type'] = 'display_data';\n",
              "          await google.colab.output.renderOutput(dataTable, element);\n",
              "          const docLink = document.createElement('div');\n",
              "          docLink.innerHTML = docLinkHtml;\n",
              "          element.appendChild(docLink);\n",
              "        }\n",
              "      </script>\n",
              "    </div>\n",
              "  </div>\n",
              "  "
            ]
          },
          "metadata": {},
          "execution_count": 11
        }
      ]
    },
    {
      "cell_type": "code",
      "source": [
        "# droping constant columns\n",
        "\n",
        "print(df_accepted.pymnt_plan.value_counts())\n",
        "print(df_accepted.hardship_flag.value_counts())\n",
        "\n",
        "cols_to_drop = ['id', 'pymnt_plan', 'hardship_flag']\n",
        "df_accepted = df_accepted.drop(columns=cols_to_drop)\n",
        "df_accepted.shape"
      ],
      "metadata": {
        "colab": {
          "base_uri": "https://localhost:8080/"
        },
        "id": "ICfFBT4fLfCj",
        "outputId": "53c6abf2-63d9-4057-f172-196f67a76566"
      },
      "execution_count": 12,
      "outputs": [
        {
          "output_type": "stream",
          "name": "stdout",
          "text": [
            "n    1341026\n",
            "Name: pymnt_plan, dtype: int64\n",
            "N    1341026\n",
            "Name: hardship_flag, dtype: int64\n"
          ]
        },
        {
          "output_type": "execute_result",
          "data": {
            "text/plain": [
              "(1341026, 41)"
            ]
          },
          "metadata": {},
          "execution_count": 12
        }
      ]
    },
    {
      "cell_type": "code",
      "source": [
        "cat_cols = df_accepted.select_dtypes(include=['object']).columns\n",
        "print(cat_cols)\n",
        "\n",
        "print(df_accepted.term.value_counts())\n",
        "\n",
        "# convert term into either a 36 or 60 integer numeric data type\n",
        "\n",
        "l1 = df_accepted.term.unique()\n",
        "l2 = [36, 60]\n",
        "d = dict(zip(l1, l2))\n",
        "\n",
        "df_accepted['term'] = df_accepted['term'].map(d)\n",
        "\n",
        "# as grade is part of sub_grade, so let's just drop the grade feature.\n",
        "\n",
        "df_accepted = df_accepted.drop(columns='grade')\n",
        "\n",
        "df_accepted = pd.get_dummies(df_accepted, columns = ['sub_grade'], prefix='', prefix_sep='', drop_first=True)\n",
        "\n",
        "cat_cols = df_accepted.select_dtypes(include=['object']).columns\n",
        "print(cat_cols)\n",
        "\n",
        "# for these columns, let's just create dummy variables, concatenate them with the original dataframe and drop original columns.\n",
        "\n",
        "df_accepted = pd.get_dummies(df_accepted, columns = ['verification_status'], prefix='', prefix_sep='', drop_first=True)\n",
        "df_accepted = pd.get_dummies(df_accepted, columns = ['application_type'], prefix='', prefix_sep='', drop_first=True)\n",
        "df_accepted = pd.get_dummies(df_accepted, columns = ['initial_list_status'], prefix='', prefix_sep='', drop_first=True)\n",
        "df_accepted = pd.get_dummies(df_accepted, columns = ['purpose'], prefix='', prefix_sep='', drop_first=True)"
      ],
      "metadata": {
        "colab": {
          "base_uri": "https://localhost:8080/"
        },
        "id": "08s4i8w-LkG3",
        "outputId": "3d740abc-1251-4b65-ba18-c99d4714a00f"
      },
      "execution_count": 13,
      "outputs": [
        {
          "output_type": "stream",
          "name": "stdout",
          "text": [
            "Index(['term', 'grade', 'sub_grade', 'home_ownership', 'verification_status',\n",
            "       'issue_d', 'url', 'purpose', 'zip_code', 'addr_state',\n",
            "       'earliest_cr_line', 'initial_list_status', 'last_pymnt_d',\n",
            "       'last_credit_pull_d', 'application_type', 'disbursement_method',\n",
            "       'debt_settlement_flag'],\n",
            "      dtype='object')\n",
            " 36 months    1017398\n",
            " 60 months     323628\n",
            "Name: term, dtype: int64\n",
            "Index(['home_ownership', 'verification_status', 'issue_d', 'url', 'purpose',\n",
            "       'zip_code', 'addr_state', 'earliest_cr_line', 'initial_list_status',\n",
            "       'last_pymnt_d', 'last_credit_pull_d', 'application_type',\n",
            "       'disbursement_method', 'debt_settlement_flag'],\n",
            "      dtype='object')\n"
          ]
        }
      ]
    },
    {
      "cell_type": "code",
      "source": [
        "df_accepted.shape"
      ],
      "metadata": {
        "colab": {
          "base_uri": "https://localhost:8080/"
        },
        "id": "rQGED8QzL0Wn",
        "outputId": "ad268c17-14b1-4273-d9df-1bff0f761a79"
      },
      "execution_count": 14,
      "outputs": [
        {
          "output_type": "execute_result",
          "data": {
            "text/plain": [
              "(1341026, 86)"
            ]
          },
          "metadata": {},
          "execution_count": 14
        }
      ]
    },
    {
      "cell_type": "code",
      "source": [
        "df_accepted['home_ownership'] = df_accepted.home_ownership.replace('NONE', 'ANY')\n",
        "df_accepted = pd.get_dummies(df_accepted, columns = ['home_ownership'], prefix='', prefix_sep='', drop_first=True)\n",
        "df_accepted = df_accepted.drop(columns=[ 'url', 'last_pymnt_d', 'last_credit_pull_d'])\n",
        "df_accepted = df_accepted.drop(columns=['zip_code', 'addr_state'])\n",
        "df_accepted = pd.get_dummies(df_accepted, columns = ['disbursement_method'], prefix='', prefix_sep='', drop_first=True)\n",
        "df_accepted = pd.get_dummies(df_accepted, columns = ['debt_settlement_flag'], prefix='', prefix_sep='', drop_first=True)\n",
        "df_accepted = df_accepted.drop(columns=['earliest_cr_line'])\n",
        "df_accepted.shape"
      ],
      "metadata": {
        "colab": {
          "base_uri": "https://localhost:8080/"
        },
        "id": "MQklV-_8L9qf",
        "outputId": "4fbae509-6d7f-4de5-bcc3-577b73851e00"
      },
      "execution_count": 15,
      "outputs": [
        {
          "output_type": "execute_result",
          "data": {
            "text/plain": [
              "(1341026, 83)"
            ]
          },
          "metadata": {},
          "execution_count": 15
        }
      ]
    },
    {
      "cell_type": "code",
      "source": [
        "df_accepted['issue_d'] = df_accepted['issue_d'].str.replace('Jan','01')\n",
        "df_accepted['issue_d'] = df_accepted['issue_d'].str.replace('Feb','02')\n",
        "df_accepted['issue_d'] = df_accepted['issue_d'].str.replace('Mar','03')\n",
        "df_accepted['issue_d'] = df_accepted['issue_d'].str.replace('Apr','04')\n",
        "df_accepted['issue_d'] = df_accepted['issue_d'].str.replace('May','05')\n",
        "df_accepted['issue_d'] = df_accepted['issue_d'].str.replace('Jun','06')\n",
        "df_accepted['issue_d'] = df_accepted['issue_d'].str.replace('Jul','07')\n",
        "df_accepted['issue_d'] = df_accepted['issue_d'].str.replace('Aug','08')\n",
        "df_accepted['issue_d'] = df_accepted['issue_d'].str.replace('Sep','09')\n",
        "df_accepted['issue_d'] = df_accepted['issue_d'].str.replace('Oct','10')\n",
        "df_accepted['issue_d'] = df_accepted['issue_d'].str.replace('Dec','11')\n",
        "df_accepted['issue_d'] = df_accepted['issue_d'].str.replace('Nov','12')"
      ],
      "metadata": {
        "id": "lNSDpsRZMNOw"
      },
      "execution_count": 16,
      "outputs": []
    },
    {
      "cell_type": "code",
      "source": [
        "def reorder_issue_d(dt):\n",
        "    a = dt.split('-')\n",
        "    return a[1]+a[0]\n",
        "\n",
        "reorder_issue_d('01-2009')"
      ],
      "metadata": {
        "colab": {
          "base_uri": "https://localhost:8080/",
          "height": 0
        },
        "id": "aEzn-q3dMOJv",
        "outputId": "89b9be60-6a87-46ec-c673-f2614b5815d3"
      },
      "execution_count": 17,
      "outputs": [
        {
          "output_type": "execute_result",
          "data": {
            "text/plain": [
              "'200901'"
            ],
            "application/vnd.google.colaboratory.intrinsic+json": {
              "type": "string"
            }
          },
          "metadata": {},
          "execution_count": 17
        }
      ]
    },
    {
      "cell_type": "code",
      "source": [
        " df_accepted['issue_d'] = df_accepted['issue_d'].apply(reorder_issue_d)\n",
        " df_accepted = df_accepted.sort_values(by='issue_d')\n",
        " df_accepted.reset_index(drop=True, inplace=True)"
      ],
      "metadata": {
        "id": "NTOD2T4MMTA1"
      },
      "execution_count": 18,
      "outputs": []
    },
    {
      "cell_type": "code",
      "source": [
        "df_accepted.info()"
      ],
      "metadata": {
        "colab": {
          "base_uri": "https://localhost:8080/"
        },
        "id": "Of4qdLUpT5fg",
        "outputId": "1544275e-69bc-40ef-cb91-5d7c9d8532e7"
      },
      "execution_count": 19,
      "outputs": [
        {
          "output_type": "stream",
          "name": "stdout",
          "text": [
            "<class 'pandas.core.frame.DataFrame'>\n",
            "RangeIndex: 1341026 entries, 0 to 1341025\n",
            "Data columns (total 83 columns):\n",
            " #   Column                      Non-Null Count    Dtype  \n",
            "---  ------                      --------------    -----  \n",
            " 0   loan_amnt                   1341026 non-null  float64\n",
            " 1   term                        1341026 non-null  int64  \n",
            " 2   int_rate                    1341026 non-null  float64\n",
            " 3   annual_inc                  1341026 non-null  float64\n",
            " 4   issue_d                     1341026 non-null  object \n",
            " 5   dti                         1341026 non-null  float64\n",
            " 6   delinq_2yrs                 1341026 non-null  float64\n",
            " 7   fico_range_high             1341026 non-null  float64\n",
            " 8   inq_last_6mths              1341026 non-null  float64\n",
            " 9   open_acc                    1341026 non-null  float64\n",
            " 10  pub_rec                     1341026 non-null  float64\n",
            " 11  revol_bal                   1341026 non-null  float64\n",
            " 12  revol_util                  1341026 non-null  float64\n",
            " 13  total_acc                   1341026 non-null  float64\n",
            " 14  total_rec_int               1341026 non-null  float64\n",
            " 15  total_rec_late_fee          1341026 non-null  float64\n",
            " 16  recoveries                  1341026 non-null  float64\n",
            " 17  last_pymnt_amnt             1341026 non-null  float64\n",
            " 18  last_fico_range_high        1341026 non-null  float64\n",
            " 19  collections_12_mths_ex_med  1341026 non-null  float64\n",
            " 20  acc_now_delinq              1341026 non-null  float64\n",
            " 21  chargeoff_within_12_mths    1341026 non-null  float64\n",
            " 22  delinq_amnt                 1341026 non-null  float64\n",
            " 23  pub_rec_bankruptcies        1341026 non-null  float64\n",
            " 24  tax_liens                   1341026 non-null  float64\n",
            " 25  loan_paid                   1341026 non-null  int64  \n",
            " 26  A2                          1341026 non-null  uint8  \n",
            " 27  A3                          1341026 non-null  uint8  \n",
            " 28  A4                          1341026 non-null  uint8  \n",
            " 29  A5                          1341026 non-null  uint8  \n",
            " 30  B1                          1341026 non-null  uint8  \n",
            " 31  B2                          1341026 non-null  uint8  \n",
            " 32  B3                          1341026 non-null  uint8  \n",
            " 33  B4                          1341026 non-null  uint8  \n",
            " 34  B5                          1341026 non-null  uint8  \n",
            " 35  C1                          1341026 non-null  uint8  \n",
            " 36  C2                          1341026 non-null  uint8  \n",
            " 37  C3                          1341026 non-null  uint8  \n",
            " 38  C4                          1341026 non-null  uint8  \n",
            " 39  C5                          1341026 non-null  uint8  \n",
            " 40  D1                          1341026 non-null  uint8  \n",
            " 41  D2                          1341026 non-null  uint8  \n",
            " 42  D3                          1341026 non-null  uint8  \n",
            " 43  D4                          1341026 non-null  uint8  \n",
            " 44  D5                          1341026 non-null  uint8  \n",
            " 45  E1                          1341026 non-null  uint8  \n",
            " 46  E2                          1341026 non-null  uint8  \n",
            " 47  E3                          1341026 non-null  uint8  \n",
            " 48  E4                          1341026 non-null  uint8  \n",
            " 49  E5                          1341026 non-null  uint8  \n",
            " 50  F1                          1341026 non-null  uint8  \n",
            " 51  F2                          1341026 non-null  uint8  \n",
            " 52  F3                          1341026 non-null  uint8  \n",
            " 53  F4                          1341026 non-null  uint8  \n",
            " 54  F5                          1341026 non-null  uint8  \n",
            " 55  G1                          1341026 non-null  uint8  \n",
            " 56  G2                          1341026 non-null  uint8  \n",
            " 57  G3                          1341026 non-null  uint8  \n",
            " 58  G4                          1341026 non-null  uint8  \n",
            " 59  G5                          1341026 non-null  uint8  \n",
            " 60  Source Verified             1341026 non-null  uint8  \n",
            " 61  Verified                    1341026 non-null  uint8  \n",
            " 62  Joint App                   1341026 non-null  uint8  \n",
            " 63  w                           1341026 non-null  uint8  \n",
            " 64  credit_card                 1341026 non-null  uint8  \n",
            " 65  debt_consolidation          1341026 non-null  uint8  \n",
            " 66  educational                 1341026 non-null  uint8  \n",
            " 67  home_improvement            1341026 non-null  uint8  \n",
            " 68  house                       1341026 non-null  uint8  \n",
            " 69  major_purchase              1341026 non-null  uint8  \n",
            " 70  medical                     1341026 non-null  uint8  \n",
            " 71  moving                      1341026 non-null  uint8  \n",
            " 72  other                       1341026 non-null  uint8  \n",
            " 73  renewable_energy            1341026 non-null  uint8  \n",
            " 74  small_business              1341026 non-null  uint8  \n",
            " 75  vacation                    1341026 non-null  uint8  \n",
            " 76  wedding                     1341026 non-null  uint8  \n",
            " 77  MORTGAGE                    1341026 non-null  uint8  \n",
            " 78  OTHER                       1341026 non-null  uint8  \n",
            " 79  OWN                         1341026 non-null  uint8  \n",
            " 80  RENT                        1341026 non-null  uint8  \n",
            " 81  DirectPay                   1341026 non-null  uint8  \n",
            " 82  Y                           1341026 non-null  uint8  \n",
            "dtypes: float64(23), int64(2), object(1), uint8(57)\n",
            "memory usage: 338.9+ MB\n"
          ]
        }
      ]
    },
    {
      "cell_type": "code",
      "source": [
        "df_accepted[['G1','G2','G3','G4']]"
      ],
      "metadata": {
        "colab": {
          "base_uri": "https://localhost:8080/",
          "height": 0
        },
        "id": "puwbvv-wUKSx",
        "outputId": "8362f797-e18d-4ef9-e23f-c010b9871155"
      },
      "execution_count": 20,
      "outputs": [
        {
          "output_type": "execute_result",
          "data": {
            "text/plain": [
              "         G1  G2  G3  G4\n",
              "0         0   0   0   0\n",
              "1         0   0   0   0\n",
              "2         0   0   0   0\n",
              "3         0   0   0   0\n",
              "4         0   0   0   0\n",
              "...      ..  ..  ..  ..\n",
              "1341021   0   0   0   0\n",
              "1341022   0   0   0   0\n",
              "1341023   0   0   0   0\n",
              "1341024   0   0   0   0\n",
              "1341025   0   0   0   0\n",
              "\n",
              "[1341026 rows x 4 columns]"
            ],
            "text/html": [
              "\n",
              "  <div id=\"df-0892010e-3072-4c13-b69f-150d5be856c4\">\n",
              "    <div class=\"colab-df-container\">\n",
              "      <div>\n",
              "<style scoped>\n",
              "    .dataframe tbody tr th:only-of-type {\n",
              "        vertical-align: middle;\n",
              "    }\n",
              "\n",
              "    .dataframe tbody tr th {\n",
              "        vertical-align: top;\n",
              "    }\n",
              "\n",
              "    .dataframe thead th {\n",
              "        text-align: right;\n",
              "    }\n",
              "</style>\n",
              "<table border=\"1\" class=\"dataframe\">\n",
              "  <thead>\n",
              "    <tr style=\"text-align: right;\">\n",
              "      <th></th>\n",
              "      <th>G1</th>\n",
              "      <th>G2</th>\n",
              "      <th>G3</th>\n",
              "      <th>G4</th>\n",
              "    </tr>\n",
              "  </thead>\n",
              "  <tbody>\n",
              "    <tr>\n",
              "      <th>0</th>\n",
              "      <td>0</td>\n",
              "      <td>0</td>\n",
              "      <td>0</td>\n",
              "      <td>0</td>\n",
              "    </tr>\n",
              "    <tr>\n",
              "      <th>1</th>\n",
              "      <td>0</td>\n",
              "      <td>0</td>\n",
              "      <td>0</td>\n",
              "      <td>0</td>\n",
              "    </tr>\n",
              "    <tr>\n",
              "      <th>2</th>\n",
              "      <td>0</td>\n",
              "      <td>0</td>\n",
              "      <td>0</td>\n",
              "      <td>0</td>\n",
              "    </tr>\n",
              "    <tr>\n",
              "      <th>3</th>\n",
              "      <td>0</td>\n",
              "      <td>0</td>\n",
              "      <td>0</td>\n",
              "      <td>0</td>\n",
              "    </tr>\n",
              "    <tr>\n",
              "      <th>4</th>\n",
              "      <td>0</td>\n",
              "      <td>0</td>\n",
              "      <td>0</td>\n",
              "      <td>0</td>\n",
              "    </tr>\n",
              "    <tr>\n",
              "      <th>...</th>\n",
              "      <td>...</td>\n",
              "      <td>...</td>\n",
              "      <td>...</td>\n",
              "      <td>...</td>\n",
              "    </tr>\n",
              "    <tr>\n",
              "      <th>1341021</th>\n",
              "      <td>0</td>\n",
              "      <td>0</td>\n",
              "      <td>0</td>\n",
              "      <td>0</td>\n",
              "    </tr>\n",
              "    <tr>\n",
              "      <th>1341022</th>\n",
              "      <td>0</td>\n",
              "      <td>0</td>\n",
              "      <td>0</td>\n",
              "      <td>0</td>\n",
              "    </tr>\n",
              "    <tr>\n",
              "      <th>1341023</th>\n",
              "      <td>0</td>\n",
              "      <td>0</td>\n",
              "      <td>0</td>\n",
              "      <td>0</td>\n",
              "    </tr>\n",
              "    <tr>\n",
              "      <th>1341024</th>\n",
              "      <td>0</td>\n",
              "      <td>0</td>\n",
              "      <td>0</td>\n",
              "      <td>0</td>\n",
              "    </tr>\n",
              "    <tr>\n",
              "      <th>1341025</th>\n",
              "      <td>0</td>\n",
              "      <td>0</td>\n",
              "      <td>0</td>\n",
              "      <td>0</td>\n",
              "    </tr>\n",
              "  </tbody>\n",
              "</table>\n",
              "<p>1341026 rows × 4 columns</p>\n",
              "</div>\n",
              "      <button class=\"colab-df-convert\" onclick=\"convertToInteractive('df-0892010e-3072-4c13-b69f-150d5be856c4')\"\n",
              "              title=\"Convert this dataframe to an interactive table.\"\n",
              "              style=\"display:none;\">\n",
              "        \n",
              "  <svg xmlns=\"http://www.w3.org/2000/svg\" height=\"24px\"viewBox=\"0 0 24 24\"\n",
              "       width=\"24px\">\n",
              "    <path d=\"M0 0h24v24H0V0z\" fill=\"none\"/>\n",
              "    <path d=\"M18.56 5.44l.94 2.06.94-2.06 2.06-.94-2.06-.94-.94-2.06-.94 2.06-2.06.94zm-11 1L8.5 8.5l.94-2.06 2.06-.94-2.06-.94L8.5 2.5l-.94 2.06-2.06.94zm10 10l.94 2.06.94-2.06 2.06-.94-2.06-.94-.94-2.06-.94 2.06-2.06.94z\"/><path d=\"M17.41 7.96l-1.37-1.37c-.4-.4-.92-.59-1.43-.59-.52 0-1.04.2-1.43.59L10.3 9.45l-7.72 7.72c-.78.78-.78 2.05 0 2.83L4 21.41c.39.39.9.59 1.41.59.51 0 1.02-.2 1.41-.59l7.78-7.78 2.81-2.81c.8-.78.8-2.07 0-2.86zM5.41 20L4 18.59l7.72-7.72 1.47 1.35L5.41 20z\"/>\n",
              "  </svg>\n",
              "      </button>\n",
              "      \n",
              "  <style>\n",
              "    .colab-df-container {\n",
              "      display:flex;\n",
              "      flex-wrap:wrap;\n",
              "      gap: 12px;\n",
              "    }\n",
              "\n",
              "    .colab-df-convert {\n",
              "      background-color: #E8F0FE;\n",
              "      border: none;\n",
              "      border-radius: 50%;\n",
              "      cursor: pointer;\n",
              "      display: none;\n",
              "      fill: #1967D2;\n",
              "      height: 32px;\n",
              "      padding: 0 0 0 0;\n",
              "      width: 32px;\n",
              "    }\n",
              "\n",
              "    .colab-df-convert:hover {\n",
              "      background-color: #E2EBFA;\n",
              "      box-shadow: 0px 1px 2px rgba(60, 64, 67, 0.3), 0px 1px 3px 1px rgba(60, 64, 67, 0.15);\n",
              "      fill: #174EA6;\n",
              "    }\n",
              "\n",
              "    [theme=dark] .colab-df-convert {\n",
              "      background-color: #3B4455;\n",
              "      fill: #D2E3FC;\n",
              "    }\n",
              "\n",
              "    [theme=dark] .colab-df-convert:hover {\n",
              "      background-color: #434B5C;\n",
              "      box-shadow: 0px 1px 3px 1px rgba(0, 0, 0, 0.15);\n",
              "      filter: drop-shadow(0px 1px 2px rgba(0, 0, 0, 0.3));\n",
              "      fill: #FFFFFF;\n",
              "    }\n",
              "  </style>\n",
              "\n",
              "      <script>\n",
              "        const buttonEl =\n",
              "          document.querySelector('#df-0892010e-3072-4c13-b69f-150d5be856c4 button.colab-df-convert');\n",
              "        buttonEl.style.display =\n",
              "          google.colab.kernel.accessAllowed ? 'block' : 'none';\n",
              "\n",
              "        async function convertToInteractive(key) {\n",
              "          const element = document.querySelector('#df-0892010e-3072-4c13-b69f-150d5be856c4');\n",
              "          const dataTable =\n",
              "            await google.colab.kernel.invokeFunction('convertToInteractive',\n",
              "                                                     [key], {});\n",
              "          if (!dataTable) return;\n",
              "\n",
              "          const docLinkHtml = 'Like what you see? Visit the ' +\n",
              "            '<a target=\"_blank\" href=https://colab.research.google.com/notebooks/data_table.ipynb>data table notebook</a>'\n",
              "            + ' to learn more about interactive tables.';\n",
              "          element.innerHTML = '';\n",
              "          dataTable['output_type'] = 'display_data';\n",
              "          await google.colab.output.renderOutput(dataTable, element);\n",
              "          const docLink = document.createElement('div');\n",
              "          docLink.innerHTML = docLinkHtml;\n",
              "          element.appendChild(docLink);\n",
              "        }\n",
              "      </script>\n",
              "    </div>\n",
              "  </div>\n",
              "  "
            ]
          },
          "metadata": {},
          "execution_count": 20
        }
      ]
    },
    {
      "cell_type": "markdown",
      "source": [
        "### dataset 만들기"
      ],
      "metadata": {
        "id": "88jAnxoUMpsJ"
      }
    },
    {
      "cell_type": "code",
      "source": [
        "X = {}\n",
        "Y = {}"
      ],
      "metadata": {
        "id": "V4squN4zMnph"
      },
      "execution_count": 21,
      "outputs": []
    },
    {
      "cell_type": "code",
      "source": [
        "# sampling data\n",
        "\n",
        "# df = df_accepted.sample(frac=0.8,random_state=42)\n",
        "# print(len(df))\n",
        "\n",
        "df = df_accepted[df_accepted['issue_d'].str.startswith('2007') + df_accepted['issue_d'].str.startswith('2008') + df_accepted['issue_d'].str.startswith('2009')].copy()\n",
        "df = df.drop(columns=['issue_d'])\n"
      ],
      "metadata": {
        "colab": {
          "base_uri": "https://localhost:8080/"
        },
        "id": "-XgRM0yLMtz7",
        "outputId": "23570aff-2254-4ca1-8290-df9f29d25b51"
      },
      "execution_count": 22,
      "outputs": [
        {
          "output_type": "stream",
          "name": "stderr",
          "text": [
            "/usr/local/lib/python3.7/dist-packages/pandas/core/computation/expressions.py:215: UserWarning: evaluating in Python space because the '+' operator is not supported by numexpr for the bool dtype, use '|' instead\n",
            "  f\"evaluating in Python space because the {repr(op_str)} \"\n"
          ]
        }
      ]
    },
    {
      "cell_type": "code",
      "source": [
        "X[2009] = df.loc[:, df.columns != 'loan_paid'].values\n",
        "Y[2009] = df.loan_paid.values"
      ],
      "metadata": {
        "id": "9bRfAIU_Mx0u"
      },
      "execution_count": 23,
      "outputs": []
    },
    {
      "cell_type": "code",
      "source": [
        "for year in range(2010,2019):\n",
        "    print(year)\n",
        "    df = df_accepted[df_accepted['issue_d'].str.startswith(str(year))].copy()\n",
        "    df = df.drop(columns=['issue_d'])\n",
        "    X[year] = df.loc[:, df.columns != 'loan_paid'].values\n",
        "    Y[year] = df.loan_paid.values"
      ],
      "metadata": {
        "colab": {
          "base_uri": "https://localhost:8080/"
        },
        "id": "9ISfkOAIMz4N",
        "outputId": "db12c630-0b4e-4496-ee56-691517f914f3"
      },
      "execution_count": 24,
      "outputs": [
        {
          "output_type": "stream",
          "name": "stdout",
          "text": [
            "2010\n",
            "2011\n",
            "2012\n",
            "2013\n",
            "2014\n",
            "2015\n",
            "2016\n",
            "2017\n",
            "2018\n"
          ]
        }
      ]
    },
    {
      "cell_type": "code",
      "source": [
        "X[2010].shape"
      ],
      "metadata": {
        "colab": {
          "base_uri": "https://localhost:8080/"
        },
        "id": "aN_hvbEeM4TJ",
        "outputId": "0a5bcc9a-679b-4dd5-c686-cf55d241fa1c"
      },
      "execution_count": 25,
      "outputs": [
        {
          "output_type": "execute_result",
          "data": {
            "text/plain": [
              "(11497, 81)"
            ]
          },
          "metadata": {},
          "execution_count": 25
        }
      ]
    },
    {
      "cell_type": "code",
      "source": [
        "COLUMNS = df.loc[:, df.columns != 'loan_paid'].columns"
      ],
      "metadata": {
        "id": "9UBYo0HEBDr-"
      },
      "execution_count": 26,
      "outputs": []
    },
    {
      "cell_type": "code",
      "source": [
        "COLUMNS"
      ],
      "metadata": {
        "colab": {
          "base_uri": "https://localhost:8080/"
        },
        "id": "1H1cqfRtBL4I",
        "outputId": "eaa7fe61-25f8-4ca6-a59f-db1e224bad28"
      },
      "execution_count": 27,
      "outputs": [
        {
          "output_type": "execute_result",
          "data": {
            "text/plain": [
              "Index(['loan_amnt', 'term', 'int_rate', 'annual_inc', 'dti', 'delinq_2yrs',\n",
              "       'fico_range_high', 'inq_last_6mths', 'open_acc', 'pub_rec', 'revol_bal',\n",
              "       'revol_util', 'total_acc', 'total_rec_int', 'total_rec_late_fee',\n",
              "       'recoveries', 'last_pymnt_amnt', 'last_fico_range_high',\n",
              "       'collections_12_mths_ex_med', 'acc_now_delinq',\n",
              "       'chargeoff_within_12_mths', 'delinq_amnt', 'pub_rec_bankruptcies',\n",
              "       'tax_liens', 'A2', 'A3', 'A4', 'A5', 'B1', 'B2', 'B3', 'B4', 'B5', 'C1',\n",
              "       'C2', 'C3', 'C4', 'C5', 'D1', 'D2', 'D3', 'D4', 'D5', 'E1', 'E2', 'E3',\n",
              "       'E4', 'E5', 'F1', 'F2', 'F3', 'F4', 'F5', 'G1', 'G2', 'G3', 'G4', 'G5',\n",
              "       'Source Verified', 'Verified', 'Joint App', 'w', 'credit_card',\n",
              "       'debt_consolidation', 'educational', 'home_improvement', 'house',\n",
              "       'major_purchase', 'medical', 'moving', 'other', 'renewable_energy',\n",
              "       'small_business', 'vacation', 'wedding', 'MORTGAGE', 'OTHER', 'OWN',\n",
              "       'RENT', 'DirectPay', 'Y'],\n",
              "      dtype='object')"
            ]
          },
          "metadata": {},
          "execution_count": 27
        }
      ]
    },
    {
      "cell_type": "markdown",
      "source": [
        "# 예측 모델 준비"
      ],
      "metadata": {
        "id": "wjmcjPU-NuDB"
      }
    },
    {
      "cell_type": "code",
      "source": [
        "ML = {}\n",
        "scaler = MinMaxScaler()"
      ],
      "metadata": {
        "id": "j1pTk3q7Xqca"
      },
      "execution_count": 28,
      "outputs": []
    },
    {
      "cell_type": "code",
      "source": [
        "MODEL_TYPE = 'RF'  ## RF / DL"
      ],
      "metadata": {
        "id": "IqnjFlMPX_KX"
      },
      "execution_count": 29,
      "outputs": []
    },
    {
      "cell_type": "markdown",
      "source": [
        "## deep learning 모델"
      ],
      "metadata": {
        "id": "bEC31_WYM-ck"
      }
    },
    {
      "cell_type": "code",
      "source": [
        "import os.path \n",
        "\n",
        "def build_model_dl(year,x,y,epochs=5):\n",
        "    #X_train, X_test, y_train, y_test = train_test_split(X[year], Y[year], test_size=0.2, random_state=42)\n",
        "    X_train= scaler.fit_transform(x)\n",
        "    #X_test = scaler.transform(X_test)\n",
        "    y_train = get_one_hot(y,2)\n",
        "\n",
        "    # building the model\n",
        "    model = Sequential()\n",
        "    model.add(Dense(units=78,activation='relu'))\n",
        "    model.add(Dense(units=39,activation='relu'))\n",
        "    model.add(Dense(units=19,activation='relu'))\n",
        "    model.add(Dense(units=8,activation='relu'))\n",
        "    model.add(Dense(units=4,activation='relu'))\n",
        "    model.add(Dense(units=2,activation='softmax'))\n",
        "    model.compile(loss='binary_crossentropy', optimizer='adam', metrics=['accuracy'])\n",
        "    weight_path = '/content/drive/MyDrive/Drift/model/ml_'+str(year)\n",
        "    if os.path.exists(weight_path+'.index'):\n",
        "        model.load_weights(weight_path)\n",
        "        print('load weights from ',weight_path)\n",
        "    else:\n",
        "        model.fit(x=X_train, \n",
        "                y=y_train, \n",
        "                epochs=epochs,\n",
        "                batch_size=512,\n",
        "                verbose=1)\n",
        "            #validation_data=(X_test, y_test), verbose=1)\n",
        "        if year > 2000:\n",
        "            model.save_weights(weight_path) \n",
        "            print('save weights to ',weight_path)\n",
        "    return model"
      ],
      "metadata": {
        "id": "5hB5i-1mNBcK"
      },
      "execution_count": 30,
      "outputs": []
    },
    {
      "cell_type": "markdown",
      "source": [
        "## random forest 모델"
      ],
      "metadata": {
        "id": "3OXxRO7DNFnp"
      }
    },
    {
      "cell_type": "code",
      "source": [
        "def get_one_hot(targets, nb_classes):\n",
        "    res = np.eye(nb_classes)[np.array(targets).reshape(-1)]\n",
        "    return res.reshape(list(targets.shape)+[nb_classes])"
      ],
      "metadata": {
        "id": "_aLKnDwtNL8s"
      },
      "execution_count": 31,
      "outputs": []
    },
    {
      "cell_type": "code",
      "source": [
        "from sklearn.ensemble import RandomForestClassifier\n",
        "\n",
        "def build_model_rf(year,x,y,epochs=5):\n",
        "    X_train= scaler.fit_transform(x)\n",
        "    y_train = y #get_one_hot(y,2)\n",
        "    model = RandomForestClassifier(n_estimators=80,max_depth=5)\n",
        "    model.fit(X_train,y_train)\n",
        "    return model"
      ],
      "metadata": {
        "id": "KJBtx9J2NQe4"
      },
      "execution_count": 32,
      "outputs": []
    },
    {
      "cell_type": "markdown",
      "source": [
        "# EDA"
      ],
      "metadata": {
        "id": "nbRzLDsj9JdJ"
      }
    },
    {
      "cell_type": "code",
      "source": [
        "y_ref, y_inf, x_ref, x_inf = train_test_split(Y[2010], X[2010], test_size=0.30, random_state=23543)\n",
        "ML[2010] = build_model_rf(year,x_ref,y_ref,epochs=5)"
      ],
      "metadata": {
        "id": "PuNF88fd9Nfz"
      },
      "execution_count": 33,
      "outputs": []
    },
    {
      "cell_type": "code",
      "source": [
        "from sklearn.metrics import f1_score\n",
        "from sklearn.metrics import precision_recall_fscore_support\n",
        "\n",
        "base_score = precision_recall_fscore_support(y_inf,ML[2010].predict(scaler.transform(x_inf)),average='binary')"
      ],
      "metadata": {
        "id": "vpceMKE09XsJ"
      },
      "execution_count": 34,
      "outputs": []
    },
    {
      "cell_type": "code",
      "source": [
        "# https://towardsdatascience.com/comparing-sample-distributions-with-the-kolmogorov-smirnov-ks-test-a2292ad6fee5\n",
        "\n",
        "from scipy import stats\n",
        "import sys\n",
        "import math\n",
        "if sys.version_info >= (3, 5):\n",
        "    from math import gcd\n",
        "else:\n",
        "    from fractions import gcd\n",
        "\n",
        "def ks_2samp2(sample1, sample2):\n",
        "    # Gets all observations\n",
        "    sample1 = np.sort(sample1)\n",
        "    sample2 = np.sort(sample2)\n",
        "    n1 = sample1.shape[0]\n",
        "    n2 = sample2.shape[0]   \n",
        "    data_all = np.concatenate([sample1, sample2])\n",
        "    cdf1 = np.searchsorted(sample1, data_all, side='right') / n1\n",
        "    cdf2 = np.searchsorted(sample2, data_all, side='right') / n2\n",
        "    # Evaluates the KS statistic\n",
        "    cddiffs = cdf1 - cdf2\n",
        "    minS = -np.min(cddiffs)\n",
        "    maxS = np.max(cddiffs)\n",
        "    ks_stat =  max(minS, maxS)\n",
        "\n",
        "    if ks_stat == minS:\n",
        "        ks_stat = -ks_stat\n",
        "    # Calculates the P-Value based on the two-sided test\n",
        "    # The P-Value comes from the KS Distribution Survival Function (SF = 1-CDF)\n",
        "    m, n = float(n1), float(n2)\n",
        "    en = m * n / (m + n)\n",
        "    p_value = stats.kstwobign.sf(en * abs(ks_stat))\n",
        "\n",
        "    return ks_stat,p_value"
      ],
      "metadata": {
        "id": "jsVW40B0U2A_"
      },
      "execution_count": 35,
      "outputs": []
    },
    {
      "cell_type": "code",
      "source": [
        "# \n",
        "\n",
        "from scipy.stats import ks_2samp, kstest\n",
        "\n",
        "def ks_drift(ref_x,inf_x):\n",
        "    x_drift = np.zeros((ref_x.shape[1],2))\n",
        "    for i in range(ref_x.shape[1]):\n",
        "        #s, p = ks_2samp(ref_x[:,i],inf_x[:,i],mode='asymp')\n",
        "        s, p = ks_2samp2(ref_x[:,i],inf_x[:,i])\n",
        "        x_drift[i,0] = s\n",
        "        x_drift[i,1] = p\n",
        "    return x_drift"
      ],
      "metadata": {
        "id": "ts5Co_VeBdiQ"
      },
      "execution_count": 36,
      "outputs": []
    },
    {
      "cell_type": "markdown",
      "source": [
        "# 실험"
      ],
      "metadata": {
        "id": "r1XIuhYXNa2Z"
      }
    },
    {
      "cell_type": "markdown",
      "source": [
        "## 학습 및 기본 준비"
      ],
      "metadata": {
        "id": "_vpmYcsXOEAK"
      }
    },
    {
      "cell_type": "code",
      "source": [
        "y_ref, y_inf, x_ref, x_inf = train_test_split(Y[2010], X[2010], test_size=0.30, random_state=23543)"
      ],
      "metadata": {
        "id": "kRvoFv1MNWkL"
      },
      "execution_count": 37,
      "outputs": []
    },
    {
      "cell_type": "code",
      "source": [
        "df_stat = pd.DataFrame({\"mean\":np.mean(x_inf,axis=0),\"std\":np.std(x_inf,axis=0)},index=COLUMNS)"
      ],
      "metadata": {
        "id": "1fYeVdXafayw"
      },
      "execution_count": 38,
      "outputs": []
    },
    {
      "cell_type": "code",
      "source": [
        "df_stat['mean'][0]"
      ],
      "metadata": {
        "id": "C5_5Qd8FehCs",
        "outputId": "70a65a1b-deec-4f55-949e-773ef69698e4",
        "colab": {
          "base_uri": "https://localhost:8080/"
        }
      },
      "execution_count": 39,
      "outputs": [
        {
          "output_type": "execute_result",
          "data": {
            "text/plain": [
              "10644.188405797102"
            ]
          },
          "metadata": {},
          "execution_count": 39
        }
      ]
    },
    {
      "cell_type": "code",
      "source": [
        "ML[2010] = build_model_rf(year,x_ref,y_ref,epochs=5)"
      ],
      "metadata": {
        "id": "jld9FUMIN5xn"
      },
      "execution_count": 40,
      "outputs": []
    },
    {
      "cell_type": "code",
      "source": [
        "importances = ML[2010].feature_importances_"
      ],
      "metadata": {
        "id": "iPEOaEOqVnJq"
      },
      "execution_count": 41,
      "outputs": []
    },
    {
      "cell_type": "code",
      "source": [
        "importances = importances/sum(importances)"
      ],
      "metadata": {
        "id": "ZGeJgC9bVpnw"
      },
      "execution_count": 42,
      "outputs": []
    },
    {
      "cell_type": "code",
      "source": [
        "l = []\n",
        "for x,(c,i) in enumerate(zip(COLUMNS,importances)):\n",
        "    l.append((c,i,x))\n",
        "l.sort(key = lambda x: x[1],reverse=True)    "
      ],
      "metadata": {
        "id": "oP7cH0FlVzRB"
      },
      "execution_count": 43,
      "outputs": []
    },
    {
      "cell_type": "code",
      "source": [
        "def getImportanceColumnNameTop(prefix=\"\", top=5):\n",
        "    return [prefix+w for w in np.asarray(l[0:top])[:,0]]\n",
        "\n",
        "def getImportanceIndexTop(top=5):\n",
        "    return [int(w) for w in np.asarray(l[0:top])[:,2]]    "
      ],
      "metadata": {
        "id": "oJ9Z2ozOG6Ga"
      },
      "execution_count": 44,
      "outputs": []
    },
    {
      "cell_type": "code",
      "source": [
        "it = getImportanceColumnNameTop(prefix=\"drift_\",top=5)\n",
        "it"
      ],
      "metadata": {
        "id": "gFmjebpnHxyc",
        "colab": {
          "base_uri": "https://localhost:8080/"
        },
        "outputId": "5d0b86e4-2119-4cee-d900-c2f8db5b9c03"
      },
      "execution_count": 45,
      "outputs": [
        {
          "output_type": "execute_result",
          "data": {
            "text/plain": [
              "['drift_recoveries',\n",
              " 'drift_last_fico_range_high',\n",
              " 'drift_last_pymnt_amnt',\n",
              " 'drift_total_rec_late_fee',\n",
              " 'drift_Y']"
            ]
          },
          "metadata": {},
          "execution_count": 45
        }
      ]
    },
    {
      "cell_type": "code",
      "source": [
        "x = getImportanceIndexTop(top=5)\n",
        "x"
      ],
      "metadata": {
        "id": "1dHNFLe4kTsG",
        "outputId": "b2282e59-0468-4565-81cc-875632cf7ec2",
        "colab": {
          "base_uri": "https://localhost:8080/"
        }
      },
      "execution_count": 46,
      "outputs": [
        {
          "output_type": "execute_result",
          "data": {
            "text/plain": [
              "[15, 17, 16, 14, 80]"
            ]
          },
          "metadata": {},
          "execution_count": 46
        }
      ]
    },
    {
      "cell_type": "code",
      "source": [
        "from sklearn.metrics import f1_score\n",
        "from sklearn.metrics import precision_recall_fscore_support\n",
        "\n",
        "base_score = precision_recall_fscore_support(y_inf,ML[2010].predict(scaler.transform(x_inf)),average='binary')"
      ],
      "metadata": {
        "id": "XouZX2b-OMGm"
      },
      "execution_count": 47,
      "outputs": []
    },
    {
      "cell_type": "code",
      "source": [
        "base_score"
      ],
      "metadata": {
        "id": "-w-1j-n6Bk_0",
        "outputId": "5ab85fed-4526-40fc-8f39-ad97954071aa",
        "colab": {
          "base_uri": "https://localhost:8080/"
        }
      },
      "execution_count": 48,
      "outputs": [
        {
          "output_type": "execute_result",
          "data": {
            "text/plain": [
              "(0.9907468605419696, 1.0, 0.9953519256308101, None)"
            ]
          },
          "metadata": {},
          "execution_count": 48
        }
      ]
    },
    {
      "cell_type": "markdown",
      "source": [
        "## dataset에서의 Sampling "
      ],
      "metadata": {
        "id": "JmmAMy9iOrNW"
      }
    },
    {
      "cell_type": "code",
      "source": [
        "from sklearn.model_selection import train_test_split\n",
        "import random\n",
        "\n",
        "def drift_sampling2(predict,sampling_sigma=0.95,permutaion_sigma=1,epoch = 100,toplist=[]):\n",
        "    metric_a= []\n",
        "    metric_b= []\n",
        "    metric_c= []\n",
        "    drift_data_ks_stats = []\n",
        "    drift_data_ks_pvals = []\n",
        "    drift_data_ks_stats_diff = []\n",
        "    drift_data_ks_pvals_diff = []     \n",
        "    drift_ratio1 = []\n",
        "    drift_ratio2 = []\n",
        "    for i in range(epoch):\n",
        "        #y_ref_d, _, x_ref_d, _ = train_test_split(y_ref, x_ref, train_size=0.10, random_state=i)\n",
        "        y_inf_d, _, x_inf_d, _ = train_test_split(y_ref, x_ref, train_size=random.uniform(1-sampling_sigma,sampling_sigma))\n",
        "        #print(x_ref.shape, x_inf_d.shape)\n",
        "        o_drift = ks_drift(x_ref, x_inf_d)\n",
        "        #permutation for x_inf_d\n",
        "        #for v in toplist:\n",
        "\n",
        "        # 20%의 feature에 대하여 permutaion...\n",
        "        for q in range(int(len(toplist)*0.2)):\n",
        "            v = random.choice(toplist)\n",
        "            x_inf_d[:,v] = x_inf_d[:,v] + np.random.normal(0, df_stat['std'][v]*permutaion_sigma, x_inf_d.shape[0])\n",
        "        \"\"\"\n",
        "        for k in range(x_inf_d.shape[0]):\n",
        "            for v in toplist:\n",
        "                x_inf_d[k,v] = x_inf_d[k,v] + np.random.normal(0, df_stat['std'][v]*5, 1)[0]\n",
        "        \"\"\"\n",
        "        acc = precision_recall_fscore_support(y_inf_d, predict(scaler.transform(x_inf_d)),average='binary')\n",
        "        if base_score[0] > acc[0]:\n",
        "            x_drift = ks_drift(x_ref, x_inf_d)\n",
        "            sumo = np.sum((o_drift[toplist,0]))\n",
        "            sumd = np.sum((x_drift[toplist,0]))\n",
        "            #sump = np.sum(x_drift[:,1])\n",
        "            drift_ratio1.append(o_drift[toplist,0])\n",
        "            drift_ratio2.append(x_drift[toplist,0])\n",
        "            print(f\"\\r{i+1}/{epoch} acc:{acc[0]:.4f} {acc[1]:.4f} {acc[2]:.4f} sum:{sumd:.4f} {sumo:.4f} {sumo/sumd:.4f}\", end=\"\", flush=True)\n",
        "            metric_a.append([acc[0]/base_score[0],acc[1]/base_score[1],acc[2]/base_score[2]])\n",
        "            metric_b.append([(base_score[0] - acc[0]),(base_score[1] - acc[1]),(base_score[2] - acc[2])])\n",
        "            metric_c.append([acc[0],acc[1],acc[2]])\n",
        "            drift_data_ks_stats.append(x_drift[:,0])\n",
        "            drift_data_ks_pvals.append(x_drift[:,1])\n",
        "            #drift_data_ks_pvals.append([1 if a < 0.05 else 0 for a in x_drift[:,1]]) # x_drift[:,1])   \n",
        "            #drift_data_ks_stats_diff.append(base_drift[:,0]*(1-base_drift[:,1]) - x_drift[:,0]*(1-x_drift[:,1]))\n",
        "            drift_data_ks_pvals_diff.append([1 if a < 0.05 else 0 for a in x_drift[:,1]]) \n",
        "\n",
        "    metric_a = np.asarray(metric_a)\n",
        "    metric_b = np.asarray(metric_b)\n",
        "    metric_c = np.asarray(metric_c)        \n",
        "    drift_data_ks_stats = np.asarray(drift_data_ks_stats)\n",
        "    drift_data_ks_pvals = np.asarray(drift_data_ks_pvals)    \n",
        "    drift_data_ks_stats_diff = np.asarray(drift_data_ks_stats_diff)\n",
        "    drift_data_ks_pvals_diff = np.asarray(drift_data_ks_pvals_diff)  \n",
        "\n",
        "    drift_ratio1 = np.asarray(drift_ratio1)\n",
        "    drift_ratio2 = np.asarray(drift_ratio2)\n",
        "\n",
        "    drift_ratio = []\n",
        "    for s in range(len(toplist)):\n",
        "        drift_ratio.append(sum(abs(drift_ratio2[:,s]))/sum(abs(drift_ratio1[:,s])))\n",
        "\n",
        "    return  metric_a,metric_b,metric_c,drift_data_ks_stats,drift_data_ks_pvals,drift_data_ks_stats_diff,drift_data_ks_pvals_diff,y_ref.shape[0],mean(drift_ratio)\n"
      ],
      "metadata": {
        "id": "ylHi1rr6cLfr"
      },
      "execution_count": 49,
      "outputs": []
    },
    {
      "cell_type": "code",
      "source": [
        "from sklearn.model_selection import train_test_split\n",
        "import random\n",
        "\n",
        "def drift_sampling3(predict,sampling_sigma=0.95,permutaion_sigma=1,epoch = 100,toplist=[]):\n",
        "    metric_a= []\n",
        "    metric_b= []\n",
        "    metric_c= []\n",
        "    drift_data_ks_stats = []\n",
        "    drift_data_ks_pvals = []\n",
        "    drift_data_ks_stats_diff = []\n",
        "    drift_data_ks_pvals_diff = []     \n",
        "    drift_ratio1 = []\n",
        "    drift_ratio2 = []\n",
        "    for i in range(epoch):\n",
        "        #y_ref_d, _, x_ref_d, _ = train_test_split(y_ref, x_ref, train_size=0.10, random_state=i)\n",
        "        y_inf_d, _, x_inf_d, _ = train_test_split(y_ref, x_ref, train_size=random.uniform(1-sampling_sigma,sampling_sigma))\n",
        "        #o_drift = ks_drift(x_ref, x_inf_d)\n",
        "        #permutation for x_inf_d\n",
        "        #for v in toplist:\n",
        "        #v = random.choice(toplist)\n",
        "        #x_inf_d[:,v] = x_inf_d[:,v] + np.random.normal(0, df_stat['std'][v]*permutaion_sigma, x_inf_d.shape[0])\n",
        "        \"\"\"\n",
        "        for k in range(x_inf_d.shape[0]):\n",
        "            for v in toplist:\n",
        "                x_inf_d[k,v] = x_inf_d[k,v] + np.random.normal(0, df_stat['std'][v]*5, 1)[0]\n",
        "        \"\"\"\n",
        "        acc = precision_recall_fscore_support(y_inf_d, predict(scaler.transform(x_inf_d)),average='binary')\n",
        "        #if base_score[0] > acc[0]:\n",
        "\n",
        "        x_drift = ks_drift(x_ref, x_inf_d)\n",
        "        #sumo = np.sum((o_drift[toplist,0]))\n",
        "        #sumd = np.sum((x_drift[toplist,0]))\n",
        "        #sump = np.sum(x_drift[:,1])\n",
        "        #drift_ratio1.append(o_drift[toplist,0])\n",
        "        #drift_ratio2.append(x_drift[toplist,0])\n",
        "        print(f\"\\r{i+1}/{epoch} acc:{acc[0]:.4f} {acc[1]:.4f} {acc[2]:.4f}\", end=\"\", flush=True)\n",
        "        #metric_a.append([acc[0]/base_score[0],acc[1]/base_score[1],acc[2]/base_score[2]])\n",
        "        #metric_b.append([(base_score[0] - acc[0]),(base_score[1] - acc[1]),(base_score[2] - acc[2])])\n",
        "        metric_c.append([acc[0],acc[1],acc[2]])\n",
        "        drift_data_ks_stats.append(x_drift[:,0])\n",
        "        #drift_data_ks_pvals.append(x_drift[:,1])\n",
        "        #drift_data_ks_pvals.append([1 if a < 0.05 else 0 for a in x_drift[:,1]]) # x_drift[:,1])   \n",
        "        #drift_data_ks_stats_diff.append(base_drift[:,0]*(1-base_drift[:,1]) - x_drift[:,0]*(1-x_drift[:,1]))\n",
        "        drift_data_ks_pvals_diff.append([1 if a < 0.05 else 0 for a in x_drift[:,1]]) \n",
        "\n",
        "    metric_a = np.asarray(metric_a)\n",
        "    metric_b = np.asarray(metric_b)\n",
        "    metric_c = np.asarray(metric_c)        \n",
        "    drift_data_ks_stats = np.asarray(drift_data_ks_stats)\n",
        "    drift_data_ks_pvals = np.asarray(drift_data_ks_pvals)    \n",
        "    drift_data_ks_stats_diff = np.asarray(drift_data_ks_stats_diff)\n",
        "    drift_data_ks_pvals_diff = np.asarray(drift_data_ks_pvals_diff)  \n",
        "    \"\"\"\n",
        "    drift_ratio1 = np.asarray(drift_ratio1)\n",
        "    drift_ratio2 = np.asarray(drift_ratio2)\n",
        "\n",
        "    drift_ratio = []\n",
        "    for s in range(len(toplist)):\n",
        "        drift_ratio.append(sum(abs(drift_ratio2[:,s]))/sum(abs(drift_ratio1[:,s])))\n",
        "    \"\"\"\n",
        "    return  metric_a,metric_b,metric_c,drift_data_ks_stats,drift_data_ks_pvals,drift_data_ks_stats_diff,drift_data_ks_pvals_diff,y_ref.shape[0],1.0\n"
      ],
      "metadata": {
        "id": "1P8-zc0pktjP"
      },
      "execution_count": 50,
      "outputs": []
    },
    {
      "cell_type": "markdown",
      "source": [
        "performance predict model"
      ],
      "metadata": {
        "id": "2Pf5TRe0PpRJ"
      }
    },
    {
      "cell_type": "code",
      "source": [
        "import tensorflow as tf\n",
        "from tensorflow.keras import layers\n",
        "import pandas as pd\n",
        "import numpy as np\n",
        "from tensorflow.keras import datasets, layers, models, optimizers\n",
        "from tensorflow.keras.utils import to_categorical\n",
        "import random\n",
        "\n",
        "random.seed(42)\n"
      ],
      "metadata": {
        "id": "Hf3gGXWrPrx6"
      },
      "execution_count": 51,
      "outputs": []
    },
    {
      "cell_type": "code",
      "source": [
        "from keras import backend as K\n",
        "\n",
        "\n",
        "def r2(y_true, y_pred):\n",
        "    \"\"\"\n",
        "    # custom R2-score metrics for keras backend\n",
        "    :param y_true: 실측 데이터\n",
        "    :param y_pred: 모델에 의한 예측 데이테\n",
        "    :return: R^2 value, 이 값이 높다고 (예:0.99)해서 예측 값이 정확 하다고 할 수 는 없음...\n",
        "    \"\"\"\n",
        "    SS_res = K.sum(K.square(y_true - y_pred))\n",
        "    SS_tot = K.sum(K.square(y_true - K.mean(y_true)))\n",
        "    return (1 - SS_res / (SS_tot + K.epsilon()))"
      ],
      "metadata": {
        "id": "0yfQQyBRPti6"
      },
      "execution_count": 52,
      "outputs": []
    },
    {
      "cell_type": "code",
      "source": [
        "class VerboseCallback(tf.keras.callbacks.Callback):\n",
        "    \"\"\"\n",
        "    kerase.model.fit 함수에서, log 출력을 위한 callback\n",
        "    \"\"\"\n",
        "    def __init__(self, epoch):\n",
        "        self.epoch = epoch\n",
        "        self.progress(\"learning:\", 0, [])\n",
        "\n",
        "    def progress(self, text, current=0, log=None):\n",
        "        g = self.epoch - current\n",
        "        f = 50 / self.epoch\n",
        "        c = int(current * f)\n",
        "        pg = ['=' for i in range(c)] + ['.' for i in range(50 - c)]\n",
        "        print(\"\\r\" + str(text) + \"{}/{}[{}]{}\".format(current, self.epoch, ''.join(pg), ('' if log is None else log)),\n",
        "              end=\"\", flush=True)\n",
        "        if self.epoch - current == 0:\n",
        "            print(\"\")\n",
        "\n",
        "    def on_epoch_end(self, epoch, logs=None):\n",
        "        self.progress(\"learning:\", epoch + 1, logs)"
      ],
      "metadata": {
        "id": "C94xfCUIudt5"
      },
      "execution_count": 53,
      "outputs": []
    },
    {
      "cell_type": "code",
      "source": [
        "from tensorflow.keras import initializers\n",
        "import random\n",
        "\n",
        "#ss = StandardScaler()\n",
        "#dx = ss.fit_transform(dx)\n",
        "\"\"\"\n",
        "tf.keras.layers.Dense(dx.shape[1], activation='relu',\n",
        "                    kernel_initializer=initializers.RandomNormal(stddev=0.4),\n",
        "                    bias_initializer=initializers.Zeros()),\n",
        "#tf.keras.layers.Dropout(0.5),\n",
        "tf.keras.layers.Dense(dx.shape[1]*8, activation='relu',\n",
        "                    kernel_initializer=initializers.RandomNormal(stddev=0.4),\n",
        "                    bias_initializer=initializers.Zeros()),\n",
        "#tf.keras.layers.Dropout(0.2),\n",
        "tf.keras.layers.Dense(dx.shape[1]*2, activation='relu',\n",
        "                    kernel_initializer=initializers.RandomNormal(stddev=0.4),\n",
        "                    bias_initializer=initializers.Zeros()),\n",
        "#tf.keras.layers.Dropout(0.1),\n",
        "\"\"\"\n",
        "\n",
        "def train_model(iter,epochs=600):\n",
        "\n",
        "    seed_everything()    \n",
        "\n",
        "    model_c = tf.keras.Sequential([\n",
        "        tf.keras.layers.Dense(dx.shape[1]*10, activation='relu', input_shape=(dx.shape[1],),\n",
        "                              kernel_initializer=initializers.RandomNormal(mean=-(0.2+iter*0.001), stddev=0.3),\n",
        "                              bias_initializer=initializers.Zeros()),\n",
        "        #tf.keras.layers.LayerNormalization(),\n",
        "        #tf.keras.layers.Dense(128, activation='relu'),\n",
        "        tf.keras.layers.Dense(64, activation='relu',\n",
        "                              kernel_initializer=initializers.RandomNormal(mean=-(0.2+iter*0.001), stddev=0.3),\n",
        "                              bias_initializer=initializers.Zeros()),\n",
        "        #tf.keras.layers.LayerNormalization(),\n",
        "        tf.keras.layers.Dense(1)\n",
        "    ])\n",
        "\n",
        "    # patience 매개변수는 성능 향상을 체크할 에포크 횟수입니다\n",
        "    early_stop = tf.keras.callbacks.EarlyStopping(monitor='val_loss', patience=10)\n",
        "\n",
        "    opt = optimizers.RMSprop(learning_rate=0.0001)\n",
        "    model_c.compile(optimizer=opt,\n",
        "                loss='mse',\n",
        "                metrics=[r2])\n",
        "    #print(model_c.summary())\n",
        "    #hist = model_c.fit(dx, metric_c[:,0], validation_split=0.2, batch_size=400, epochs=epochs,shuffle=False,verbose=0,callbacks=[early_stop,VerboseCallback(epochs)]) #, callbacks=[es_callback])\n",
        "    hist = model_c.fit(dx, metric_c[:,0], validation_split=0.2, \n",
        "                       batch_size=1200, epochs=epochs,shuffle=False,use_multiprocessing=False,\n",
        "                       verbose=0,callbacks=[early_stop,VerboseCallback(epochs)]) #, callbacks=[es_callback])\n",
        "\n",
        "    return hist, model_c"
      ],
      "metadata": {
        "id": "_gi_VT19Pvg2"
      },
      "execution_count": 54,
      "outputs": []
    },
    {
      "cell_type": "code",
      "source": [
        "def seed_everything(seed: int = 42):\n",
        "    random.seed(seed)\n",
        "    np.random.seed(seed)\n",
        "    os.environ[\"PYTHONHASHSEED\"] = str(seed)\n",
        "    tf.random.set_seed(seed)"
      ],
      "metadata": {
        "id": "h3emIgBbXQcI"
      },
      "execution_count": 55,
      "outputs": []
    },
    {
      "cell_type": "code",
      "source": [
        "def ensemble_train(ensemble_num=30, epochs=600, cut=0.90):\n",
        "    models = []\n",
        "    for i in range(ensemble_num):\n",
        "        h,m = train_model(i,epochs)\n",
        "        hist = pd.DataFrame(h.history)\n",
        "        print(f\"last val_r2:{hist.iloc[-1]['val_r2']}\")\n",
        "        if hist.iloc[-1]['val_r2'] > cut:\n",
        "            models.append(m)\n",
        "            df2 = predict_precision_for_PPM1([m])\n",
        "            print(f\"Iteration {i} ============================================================\")\n",
        "            result_statistics(df2)\n",
        "            df2.plot(title=f'Iteration {i}', figsize=(20,5))\n",
        "    return models"
      ],
      "metadata": {
        "id": "QBhDTTZMPyIm"
      },
      "execution_count": 56,
      "outputs": []
    },
    {
      "cell_type": "code",
      "source": [
        "import math\n",
        "from statistics import mean\n",
        "\n",
        "def predict_precision_for_PPM1(models):\n",
        "\n",
        "    batch_size = length\n",
        "    # 2010년의 data를 기준으로 그 이후의 data 들...\n",
        "    X2 = np.concatenate((X[2011],X[2012],X[2013],X[2014],X[2015],X[2016],X[2017],X[2018]))\n",
        "    Y2 = np.concatenate((Y[2011],Y[2012],Y[2013],Y[2014],Y[2015],Y[2016],Y[2017],Y[2018]))\n",
        "\n",
        "    batch = math.ceil(X2.shape[0]/batch_size)\n",
        "    df = {}\n",
        "    df['The precision of the model on real data'] = []\n",
        "    df['Predicted precision'] = []\n",
        "\n",
        "    predict = ML[2010].predict\n",
        "    for i in range(batch):\n",
        "        X3 = X2[i*batch_size:(i+1)*batch_size]\n",
        "        Y3 = Y2[i*batch_size:(i+1)*batch_size]\n",
        "        f1 = precision_recall_fscore_support(Y3, predict(scaler.transform(X3)),average='binary')\n",
        "        X3_drift = ks_drift(x_ref,X3)\n",
        "        X3_drift = X3_drift[:,0] * ([1 if a < 0.05 else 0 for a in X3_drift[:,1]]) \n",
        "        #X3_drift = X3_drift[:,0] * (1-X3_drift[:,1]) *importances\n",
        "        dd = pd.DataFrame(X3_drift.reshape(1,-1),columns=COLUMNS)[itc]\n",
        "        #dd = drift_scaler.transform(dd)\n",
        "        #acc_c = mean([m.predict(ss.transform(dd))[0][0] for m in  models]) #model_c.predict(dd)[0]\n",
        "        acc_c = mean([m.predict(dd)[0][0] for m in  models]) \n",
        "\n",
        "        print(f\"{f1[0]} - {acc_c}\")\n",
        "        df['The precision of the model on real data'].append(f1[0])\n",
        "        df['Predicted precision'].append(acc_c)\n",
        "\n",
        "    df2 = pd.DataFrame(df)\n",
        "\n",
        "    return df2"
      ],
      "metadata": {
        "id": "LIyXb1eGsKBb"
      },
      "execution_count": 57,
      "outputs": []
    },
    {
      "cell_type": "code",
      "source": [
        "from sklearn.metrics import mean_absolute_error\n",
        "from sklearn.metrics import mean_squared_error \n",
        "from sklearn.metrics import mean_absolute_percentage_error\n",
        "from sklearn.metrics import r2_score\n",
        "\n",
        "def result_statistics(df2):\n",
        "    MAE = mean_absolute_error(df2['The precision of the model on real data'], df2['Predicted precision'])\n",
        "    MSE = mean_squared_error(df2['The precision of the model on real data'], df2['Predicted precision']) \n",
        "    MAPE = mean_absolute_percentage_error(df2['The precision of the model on real data'], df2['Predicted precision'])\n",
        "    RMSE = np.sqrt(MSE)\n",
        "    r_2 = r2_score(df2['The precision of the model on real data'], df2['Predicted precision']) \n",
        "    print('MAE',MAE)\n",
        "    print('RMSE',RMSE)\n",
        "    print('MAPE',MAPE)\n",
        "    print('R2',r_2)\n",
        "    #display adjusted R-squared\n",
        "    #adj_r2 = 1 - (1-r_2)*(df2.shape[0]-1)/(df2.shape[0]-80)\n",
        "    #print('adj R2',adj_r2)\n",
        "    return MAE,RMSE,MAPE,r_2"
      ],
      "metadata": {
        "id": "m_u12sEeTFX2"
      },
      "execution_count": 58,
      "outputs": []
    },
    {
      "cell_type": "markdown",
      "source": [
        "## 실험1"
      ],
      "metadata": {
        "id": "d1Tf7MQP1YhH"
      }
    },
    {
      "cell_type": "code",
      "source": [
        "import math\n",
        "from statistics import mean\n",
        "\n",
        "def predict_precision_for_PPM2(models):\n",
        "\n",
        "    batch_size = length\n",
        "    # 2010년의 data를 기준으로 그 이후의 data 들...\n",
        "    X2 = np.concatenate((X[2011],X[2012],X[2013],X[2014],X[2015],X[2016],X[2017],X[2018]))\n",
        "    Y2 = np.concatenate((Y[2011],Y[2012],Y[2013],Y[2014],Y[2015],Y[2016],Y[2017],Y[2018]))\n",
        "\n",
        "    batch = math.ceil(X2.shape[0]/batch_size)\n",
        "    df = {}\n",
        "    df['The precision of the model on real data'] = []\n",
        "    df['Predicted precision'] = []\n",
        "    beta = 0\n",
        "    predict = ML[2010].predict\n",
        "    for i in range(batch):\n",
        "        X3 = X2[i*batch_size:(i+1)*batch_size]\n",
        "        Y3 = Y2[i*batch_size:(i+1)*batch_size]\n",
        "        f1 = precision_recall_fscore_support(Y3, predict(scaler.transform(X3)),average='binary')\n",
        "        X3_drift = ks_drift(x_ref,X3)\n",
        "        X3_drift = X3_drift[:,0] * ([1 if a < 0.05 else 0 for a in X3_drift[:,1]]) \n",
        "        #X3_drift = X3_drift[:,0] * (1-X3_drift[:,1]) *importances\n",
        "        dd = pd.DataFrame(X3_drift.reshape(1,-1),columns=COLUMNS)[itc]\n",
        "        #dd = drift_scaler.transform(dd)\n",
        "        #acc_c = mean([m.predict(ss.transform(dd))[0][0] for m in  models]) #model_c.predict(dd)[0]\n",
        "        #acc_c = mean([m.predict(dd)[0][0] for m in  models]) \n",
        "\n",
        "        #print(dd.values)\n",
        "        #print(dd.values/drift_ratio)\n",
        "        \n",
        "        acc_c = models.predict(dd.values/mdr)[0] \n",
        "        \n",
        "        if beta == 0:\n",
        "            beta = base_score[0] - acc_c\n",
        "        acc_c = beta + acc_c\n",
        "        \n",
        "        print(f\"{f1[0]} - {acc_c}\")\n",
        "        df['The precision of the model on real data'].append(f1[0])\n",
        "        df['Predicted precision'].append(acc_c)\n",
        "\n",
        "    df2 = pd.DataFrame(df)\n",
        "\n",
        "    return df2"
      ],
      "metadata": {
        "id": "HcFWHStCc6Ku"
      },
      "execution_count": 59,
      "outputs": []
    },
    {
      "cell_type": "code",
      "source": [
        "import statsmodels.api as sm # import statsmodels \n",
        "\n",
        "TOP = 5\n",
        "sampling_sigma=0.95\n",
        "permutaion_sigma=1\n",
        "\n",
        "itc = getImportanceColumnNameTop(prefix=\"\",top=TOP)\n",
        "top_list = getImportanceIndexTop(top=TOP)\n",
        "print(itc)\n",
        "metric_a,metric_b,metric_c,drift_data_ks_stats,drift_data_ks_pvals,drift_data_ks_stats_diff,drift_data_ks_pvals_diff,length,mdr = drift_sampling2(ML[2010].predict,sampling_sigma=sampling_sigma,permutaion_sigma=permutaion_sigma,epoch = 10000,toplist=top_list)\n",
        "\n",
        "trainset = pd.DataFrame(drift_data_ks_stats*drift_data_ks_pvals_diff,columns=COLUMNS)\n",
        "dx = trainset[itc]\n",
        "print(dx.shape)\n",
        "\n",
        "model = sm.OLS(metric_c[:,0], dx).fit() ## sm.OLS(output, input)\n",
        "# Print out the statistics\n",
        "print(model.summary())\n",
        "\n",
        "print(\"mdr:\",mdr)\n",
        "df2 = predict_precision_for_PPM2(model)\n",
        "MAE,RMSE,MAPE,r_2 = result_statistics(df2)\n",
        "df2.plot(title=f'TOP:{TOP}, sampling_sigma:{sampling_sigma}, permutaion_sigma:{permutaion_sigma}, R2:{r_2}', figsize=(20,5))\n"
      ],
      "metadata": {
        "colab": {
          "base_uri": "https://localhost:8080/",
          "height": 1000
        },
        "id": "F5IY7_lDgiH4",
        "outputId": "87bbd666-4844-4b12-fd87-ec799548d796"
      },
      "execution_count": 60,
      "outputs": [
        {
          "output_type": "stream",
          "name": "stderr",
          "text": [
            "/usr/local/lib/python3.7/dist-packages/statsmodels/tools/_testing.py:19: FutureWarning: pandas.util.testing is deprecated. Use the functions in the public API at pandas.testing instead.\n",
            "  import pandas.util.testing as tm\n"
          ]
        },
        {
          "output_type": "stream",
          "name": "stdout",
          "text": [
            "['recoveries', 'last_fico_range_high', 'last_pymnt_amnt', 'total_rec_late_fee', 'Y']\n",
            "9998/10000 acc:0.9211 0.6585 0.7680 sum:-0.4848 0.0040 -0.0083(3984, 5)\n",
            "                                 OLS Regression Results                                \n",
            "=======================================================================================\n",
            "Dep. Variable:                      y   R-squared (uncentered):                   0.969\n",
            "Model:                            OLS   Adj. R-squared (uncentered):              0.969\n",
            "Method:                 Least Squares   F-statistic:                          2.509e+04\n",
            "Date:                Sat, 09 Jul 2022   Prob (F-statistic):                        0.00\n",
            "Time:                        13:38:36   Log-Likelihood:                          1464.4\n",
            "No. Observations:                3984   AIC:                                     -2919.\n",
            "Df Residuals:                    3979   BIC:                                     -2887.\n",
            "Df Model:                           5                                                  \n",
            "Covariance Type:            nonrobust                                                  \n",
            "========================================================================================\n",
            "                           coef    std err          t      P>|t|      [0.025      0.975]\n",
            "----------------------------------------------------------------------------------------\n",
            "recoveries              -1.8935      0.008   -245.423      0.000      -1.909      -1.878\n",
            "last_fico_range_high     2.2132      0.154     14.396      0.000       1.912       2.515\n",
            "last_pymnt_amnt         -2.8730      0.011   -255.139      0.000      -2.895      -2.851\n",
            "total_rec_late_fee      -0.3031      0.107     -2.845      0.004      -0.512      -0.094\n",
            "Y                       -0.6177      0.116     -5.303      0.000      -0.846      -0.389\n",
            "==============================================================================\n",
            "Omnibus:                     5431.965   Durbin-Watson:                   1.948\n",
            "Prob(Omnibus):                  0.000   Jarque-Bera (JB):           954989.256\n",
            "Skew:                           7.988   Prob(JB):                         0.00\n",
            "Kurtosis:                      77.147   Cond. No.                         20.0\n",
            "==============================================================================\n",
            "\n",
            "Warnings:\n",
            "[1] Standard Errors assume that the covariance matrix of the errors is correctly specified.\n",
            "mdr: 12.10492242964371\n",
            "0.9928098935864251 - 0.9907468605419696\n",
            "0.9943445475638051 - 0.9852685561130133\n",
            "0.9930514488468362 - 0.963274692222663\n",
            "0.9928362573099415 - 0.9581357218244183\n",
            "0.9935744172145846 - 0.9497658783836066\n",
            "0.9943486020226056 - 0.9486569782686896\n",
            "0.9951484857394883 - 0.9518793790887784\n",
            "0.9919848440687846 - 0.9460083745742071\n",
            "0.9888535031847133 - 0.9383203780712018\n",
            "0.9882061735585324 - 0.9351569772136028\n",
            "0.9875416485585977 - 0.9283990113073515\n",
            "0.9869384239988517 - 0.9373165090368283\n",
            "0.9819610125109107 - 0.9333595395154765\n",
            "0.9849537037037037 - 0.9370841942067898\n",
            "0.9821612855668583 - 0.9288060330738892\n",
            "0.9823367598088896 - 0.9366042245040911\n",
            "0.9819017523700087 - 0.9408573972464869\n",
            "0.9823974396275822 - 0.9389369539330669\n",
            "0.9835805847616305 - 0.9428930371167303\n",
            "0.9798346148266357 - 0.9379059779880555\n",
            "0.9773481460106767 - 0.9413344028544339\n",
            "0.9788208357183743 - 0.9403058894096822\n",
            "0.9762384792626728 - 0.9395236638166227\n",
            "0.9760342368045649 - 0.9379109295618143\n",
            "0.9756307339449541 - 0.9390023030241904\n",
            "0.9776087268551744 - 0.9392674604616384\n",
            "0.9669597277368123 - 0.9361229637949352\n",
            "0.97086818575137 - 0.9346016815247361\n",
            "0.9486272289838664 - 0.9379980194285913\n",
            "0.9471303364433136 - 0.9361841944752889\n",
            "0.9469076532053092 - 0.9328654249640745\n",
            "0.9425141242937853 - 0.9349570697779869\n",
            "0.942451205510907 - 0.9284389063902796\n",
            "0.9402771824546364 - 0.9307473576979809\n",
            "0.9386276459724393 - 0.9367988951828317\n",
            "0.9378579610538373 - 0.9301144852636356\n",
            "0.9335624284077892 - 0.9330918546478137\n",
            "0.9357204486626403 - 0.9286209750715363\n",
            "0.9427706501369468 - 0.9301234103442959\n",
            "0.9428160919540229 - 0.9330210278096225\n",
            "0.9418688101047796 - 0.9301750973452227\n",
            "0.9355863662622761 - 0.9248585944254518\n",
            "0.9436559139784946 - 0.9360977373166139\n",
            "0.9432428509217593 - 0.9320394907562336\n",
            "0.9426632004621606 - 0.936208496296078\n",
            "0.9456349777074644 - 0.9331555277058736\n",
            "0.9439374185136897 - 0.9330949489370701\n",
            "0.9351010840902432 - 0.9268976608599918\n",
            "0.9308185260704923 - 0.9282121647312482\n",
            "0.9421212559687455 - 0.932080201941319\n",
            "0.9453158727874514 - 0.9344999300535746\n",
            "0.9409386281588448 - 0.9337141516086289\n",
            "0.9415357766143106 - 0.9300368765003522\n",
            "0.9402747650036153 - 0.9328458848858371\n",
            "0.9384949348769899 - 0.9284244246399567\n",
            "0.9359456333140543 - 0.9327355138428708\n",
            "0.9329073482428115 - 0.9309801446714067\n",
            "0.9347380743342113 - 0.9273499951790489\n",
            "0.9280368451352907 - 0.9354146554418666\n",
            "0.9368360608670686 - 0.9355476765891765\n",
            "0.9257440046229414 - 0.9334322779669051\n",
            "0.9295487627365356 - 0.9292857321672261\n",
            "0.9263373282665888 - 0.9346195503853586\n",
            "0.9294220156839965 - 0.9301259828830734\n",
            "0.9305615706655118 - 0.9292121063338148\n",
            "0.9328761126513936 - 0.9315101973326742\n",
            "0.9267228845594649 - 0.9331963533377667\n",
            "0.9243734427671112 - 0.9318262426056126\n",
            "0.930521450238336 - 0.9321264251282162\n",
            "0.9352361634308896 - 0.932068568550038\n",
            "0.9332367849384504 - 0.9314671675685657\n",
            "0.9293193717277487 - 0.9327135109736298\n",
            "0.9287483607751712 - 0.9323410555256669\n",
            "0.9308580616868879 - 0.9322456384395712\n",
            "0.9270242767844163 - 0.9302331262981116\n",
            "0.928082191780822 - 0.9372928791206216\n",
            "0.9295673422452206 - 0.9342344540897984\n",
            "0.9310892805547529 - 0.9336988155499639\n",
            "0.9298091042584434 - 0.9308971352741268\n",
            "0.9243733794295592 - 0.9357812467046154\n",
            "0.9274566473988439 - 0.938147969526385\n",
            "0.9301545640128317 - 0.9376104390426485\n",
            "0.9294101004385344 - 0.9390526094447739\n",
            "0.9265528618562616 - 0.9355273006664447\n",
            "0.9213190627711889 - 0.932171322095072\n",
            "0.9263020455534601 - 0.9336595934150231\n",
            "0.9250612480184465 - 0.9406575517169972\n",
            "0.9358485233856154 - 0.9411830980794769\n",
            "0.9274678111587983 - 0.940302064586849\n",
            "0.9287346472436446 - 0.9341106556296899\n",
            "0.9371060171919771 - 0.9363329243008558\n",
            "0.9251436781609196 - 0.9373886144303232\n",
            "0.9168963016678753 - 0.9373857594112235\n",
            "0.9235549132947977 - 0.9341198876290285\n",
            "0.9319913731128684 - 0.9361488779680911\n",
            "0.917536231884058 - 0.9379396435642798\n",
            "0.9178898415927917 - 0.9368732229559638\n",
            "0.9179487179487179 - 0.9400785130505188\n",
            "0.9282466609832338 - 0.9388266333992887\n",
            "0.9252053610030264 - 0.9368586628703682\n",
            "0.9301924734271761 - 0.9343495293344011\n",
            "0.93669085218381 - 0.9391683492172495\n",
            "0.9195844007970395 - 0.9423257657109084\n",
            "0.9272986457590877 - 0.9315981011646233\n",
            "0.9341644488023533 - 0.9429734307600972\n",
            "0.9306564146376193 - 0.9384184306371277\n",
            "0.9195118407671073 - 0.9340586100973555\n",
            "0.9233419465977606 - 0.933908740265203\n",
            "0.910479422995333 - 0.9400551378666978\n",
            "0.892399658411614 - 0.9345844759337231\n",
            "0.9345715491768679 - 0.9404629074069332\n",
            "0.9046176046176047 - 0.9276073729234453\n",
            "0.8925764192139738 - 0.923260454421525\n",
            "0.8916475315729047 - 0.9178905328345454\n",
            "0.8878571428571429 - 0.9146238598806952\n",
            "0.8705984639907259 - 0.9086250162184579\n",
            "0.8693968726731199 - 0.9092412419799711\n",
            "0.8955765047135605 - 0.9050284359650214\n",
            "0.879676743489973 - 0.901902876195445\n",
            "0.9104568219760206 - 0.895022921808779\n",
            "0.9011549422528874 - 0.8957295415546046\n",
            "0.9032983508245878 - 0.8963535359751584\n",
            "0.8944326133252206 - 0.8929145304614747\n",
            "0.9038811400849 - 0.8897135332524359\n",
            "0.8990825688073395 - 0.8965248518316231\n",
            "0.9019784172661871 - 0.8926413444862102\n",
            "0.9004921562596124 - 0.8875252850581031\n",
            "0.8928571428571429 - 0.8914875756678884\n",
            "0.8952757057188826 - 0.8970392724439833\n",
            "0.8904009364940005 - 0.8941269990373586\n",
            "0.9059484372749532 - 0.8918870452954487\n",
            "0.9039860343322665 - 0.8902007048407402\n",
            "0.8949824970828472 - 0.8895020369259532\n",
            "0.8822140221402214 - 0.8895753331452683\n",
            "0.8884844955597613 - 0.8906494096168918\n",
            "0.8940309506263817 - 0.8908143232028206\n",
            "0.8991067506223459 - 0.8875025149655714\n",
            "0.8985340615119287 - 0.8895242804163563\n",
            "0.8943276706017852 - 0.891393554485325\n",
            "0.8868681082629243 - 0.8895758674080471\n",
            "0.8922481730907007 - 0.883362448106112\n",
            "0.8913388096267474 - 0.8874178221050255\n",
            "0.8975025263461817 - 0.8869216246734483\n",
            "0.8894195976262845 - 0.8855971788161382\n",
            "0.882537867962275 - 0.8870129582455769\n",
            "0.8748205569910996 - 0.8864707716214746\n",
            "0.877700889704844 - 0.8898442854783983\n",
            "0.871 - 0.8859285464676093\n",
            "0.8816869515992075 - 0.890640049123456\n",
            "0.8696464501293475 - 0.8879120978027031\n",
            "0.8735339833262682 - 0.8844911069376513\n",
            "0.8770030924936745 - 0.8902483500068337\n",
            "0.856290826469753 - 0.8900028968600281\n",
            "0.8675551853394419 - 0.8918953357826932\n",
            "0.8698241240825371 - 0.8920860638372102\n",
            "0.8666938442723197 - 0.8914047301256227\n",
            "0.8708532423208191 - 0.891099190815349\n",
            "0.8737523603992446 - 0.8914917419950849\n",
            "0.8681479510377861 - 0.9038792983947999\n",
            "0.860650298606503 - 0.9045567973747597\n",
            "0.8533368159853728 - 0.902876045847458\n",
            "0.8528921380017955 - 0.9018505101071832\n",
            "0.8694291437155733 - 0.932073244972308\n",
            "0.93296853625171 - 0.937109131221025\n",
            "0.9878230616302187 - 0.9377213744885858\n",
            "MAE 0.016791484280976654\n",
            "RMSE 0.022876662446140374\n",
            "MAPE 0.017990505289538918\n",
            "R2 0.5864427492851041\n"
          ]
        },
        {
          "output_type": "execute_result",
          "data": {
            "text/plain": [
              "<matplotlib.axes._subplots.AxesSubplot at 0x7fa377986910>"
            ]
          },
          "metadata": {},
          "execution_count": 60
        },
        {
          "output_type": "display_data",
          "data": {
            "text/plain": [
              "<Figure size 1440x360 with 1 Axes>"
            ],
            "image/png": "[encoded data removed]"
          },
          "metadata": {
            "needs_background": "light"
          }
        }
      ]
    },
    {
      "cell_type": "code",
      "source": [
        "\n",
        "TOP = 10\n",
        "sampling_sigma=0.95\n",
        "permutaion_sigma=1\n",
        "\n",
        "itc = getImportanceColumnNameTop(prefix=\"\",top=TOP)\n",
        "top_list = getImportanceIndexTop(top=TOP)\n",
        "print(itc)\n",
        "metric_a,metric_b,metric_c,drift_data_ks_stats,drift_data_ks_pvals,drift_data_ks_stats_diff,drift_data_ks_pvals_diff,length,mdr = drift_sampling2(ML[2010].predict,sampling_sigma=sampling_sigma,permutaion_sigma=permutaion_sigma,epoch = 10000,toplist=top_list)\n",
        "\n",
        "trainset = pd.DataFrame(drift_data_ks_stats*drift_data_ks_pvals_diff,columns=COLUMNS)\n",
        "dx = trainset[itc]\n",
        "print(dx.shape)\n",
        "\n",
        "model = sm.OLS(metric_c[:,0], dx).fit() ## sm.OLS(output, input)\n",
        "# Print out the statistics\n",
        "print(model.summary())\n",
        "\n",
        "print(\"mdr:\",mdr)\n",
        "df2 = predict_precision_for_PPM2(model)\n",
        "MAE,RMSE,MAPE,r_2 = result_statistics(df2)\n",
        "df2.plot(title=f'TOP:{TOP}, sampling_sigma:{sampling_sigma}, permutaion_sigma:{permutaion_sigma}, R2:{r_2}', figsize=(20,5))\n"
      ],
      "metadata": {
        "colab": {
          "base_uri": "https://localhost:8080/",
          "height": 461
        },
        "id": "3Y2EwGtT807Z",
        "outputId": "cf353b0e-b2e5-42d5-d985-383bdac98399"
      },
      "execution_count": 61,
      "outputs": [
        {
          "output_type": "stream",
          "name": "stdout",
          "text": [
            "['recoveries', 'last_fico_range_high', 'last_pymnt_amnt', 'total_rec_late_fee', 'Y', 'int_rate', 'term', 'fico_range_high', 'total_rec_int', 'loan_amnt']\n",
            "35/10000 acc:0.9205 0.6582 0.7676 sum:-0.6547 0.0068 -0.0103"
          ]
        },
        {
          "output_type": "error",
          "ename": "KeyboardInterrupt",
          "evalue": "ignored",
          "traceback": [
            "\u001b[0;31m---------------------------------------------------------------------------\u001b[0m",
            "\u001b[0;31mKeyboardInterrupt\u001b[0m                         Traceback (most recent call last)",
            "\u001b[0;32m<ipython-input-61-3572b0b732d8>\u001b[0m in \u001b[0;36m<module>\u001b[0;34m()\u001b[0m\n\u001b[1;32m      7\u001b[0m \u001b[0mtop_list\u001b[0m \u001b[0;34m=\u001b[0m \u001b[0mgetImportanceIndexTop\u001b[0m\u001b[0;34m(\u001b[0m\u001b[0mtop\u001b[0m\u001b[0;34m=\u001b[0m\u001b[0mTOP\u001b[0m\u001b[0;34m)\u001b[0m\u001b[0;34m\u001b[0m\u001b[0;34m\u001b[0m\u001b[0m\n\u001b[1;32m      8\u001b[0m \u001b[0mprint\u001b[0m\u001b[0;34m(\u001b[0m\u001b[0mitc\u001b[0m\u001b[0;34m)\u001b[0m\u001b[0;34m\u001b[0m\u001b[0;34m\u001b[0m\u001b[0m\n\u001b[0;32m----> 9\u001b[0;31m \u001b[0mmetric_a\u001b[0m\u001b[0;34m,\u001b[0m\u001b[0mmetric_b\u001b[0m\u001b[0;34m,\u001b[0m\u001b[0mmetric_c\u001b[0m\u001b[0;34m,\u001b[0m\u001b[0mdrift_data_ks_stats\u001b[0m\u001b[0;34m,\u001b[0m\u001b[0mdrift_data_ks_pvals\u001b[0m\u001b[0;34m,\u001b[0m\u001b[0mdrift_data_ks_stats_diff\u001b[0m\u001b[0;34m,\u001b[0m\u001b[0mdrift_data_ks_pvals_diff\u001b[0m\u001b[0;34m,\u001b[0m\u001b[0mlength\u001b[0m\u001b[0;34m,\u001b[0m\u001b[0mmdr\u001b[0m \u001b[0;34m=\u001b[0m \u001b[0mdrift_sampling2\u001b[0m\u001b[0;34m(\u001b[0m\u001b[0mML\u001b[0m\u001b[0;34m[\u001b[0m\u001b[0;36m2010\u001b[0m\u001b[0;34m]\u001b[0m\u001b[0;34m.\u001b[0m\u001b[0mpredict\u001b[0m\u001b[0;34m,\u001b[0m\u001b[0msampling_sigma\u001b[0m\u001b[0;34m=\u001b[0m\u001b[0msampling_sigma\u001b[0m\u001b[0;34m,\u001b[0m\u001b[0mpermutaion_sigma\u001b[0m\u001b[0;34m=\u001b[0m\u001b[0mpermutaion_sigma\u001b[0m\u001b[0;34m,\u001b[0m\u001b[0mepoch\u001b[0m \u001b[0;34m=\u001b[0m \u001b[0;36m10000\u001b[0m\u001b[0;34m,\u001b[0m\u001b[0mtoplist\u001b[0m\u001b[0;34m=\u001b[0m\u001b[0mtop_list\u001b[0m\u001b[0;34m)\u001b[0m\u001b[0;34m\u001b[0m\u001b[0;34m\u001b[0m\u001b[0m\n\u001b[0m\u001b[1;32m     10\u001b[0m \u001b[0;34m\u001b[0m\u001b[0m\n\u001b[1;32m     11\u001b[0m \u001b[0mtrainset\u001b[0m \u001b[0;34m=\u001b[0m \u001b[0mpd\u001b[0m\u001b[0;34m.\u001b[0m\u001b[0mDataFrame\u001b[0m\u001b[0;34m(\u001b[0m\u001b[0mdrift_data_ks_stats\u001b[0m\u001b[0;34m*\u001b[0m\u001b[0mdrift_data_ks_pvals_diff\u001b[0m\u001b[0;34m,\u001b[0m\u001b[0mcolumns\u001b[0m\u001b[0;34m=\u001b[0m\u001b[0mCOLUMNS\u001b[0m\u001b[0;34m)\u001b[0m\u001b[0;34m\u001b[0m\u001b[0;34m\u001b[0m\u001b[0m\n",
            "\u001b[0;32m<ipython-input-49-4049225355ad>\u001b[0m in \u001b[0;36mdrift_sampling2\u001b[0;34m(predict, sampling_sigma, permutaion_sigma, epoch, toplist)\u001b[0m\n\u001b[1;32m     14\u001b[0m     \u001b[0;32mfor\u001b[0m \u001b[0mi\u001b[0m \u001b[0;32min\u001b[0m \u001b[0mrange\u001b[0m\u001b[0;34m(\u001b[0m\u001b[0mepoch\u001b[0m\u001b[0;34m)\u001b[0m\u001b[0;34m:\u001b[0m\u001b[0;34m\u001b[0m\u001b[0;34m\u001b[0m\u001b[0m\n\u001b[1;32m     15\u001b[0m         \u001b[0;31m#y_ref_d, _, x_ref_d, _ = train_test_split(y_ref, x_ref, train_size=0.10, random_state=i)\u001b[0m\u001b[0;34m\u001b[0m\u001b[0;34m\u001b[0m\u001b[0;34m\u001b[0m\u001b[0m\n\u001b[0;32m---> 16\u001b[0;31m         \u001b[0my_inf_d\u001b[0m\u001b[0;34m,\u001b[0m \u001b[0m_\u001b[0m\u001b[0;34m,\u001b[0m \u001b[0mx_inf_d\u001b[0m\u001b[0;34m,\u001b[0m \u001b[0m_\u001b[0m \u001b[0;34m=\u001b[0m \u001b[0mtrain_test_split\u001b[0m\u001b[0;34m(\u001b[0m\u001b[0my_ref\u001b[0m\u001b[0;34m,\u001b[0m \u001b[0mx_ref\u001b[0m\u001b[0;34m,\u001b[0m \u001b[0mtrain_size\u001b[0m\u001b[0;34m=\u001b[0m\u001b[0mrandom\u001b[0m\u001b[0;34m.\u001b[0m\u001b[0muniform\u001b[0m\u001b[0;34m(\u001b[0m\u001b[0;36m1\u001b[0m\u001b[0;34m-\u001b[0m\u001b[0msampling_sigma\u001b[0m\u001b[0;34m,\u001b[0m\u001b[0msampling_sigma\u001b[0m\u001b[0;34m)\u001b[0m\u001b[0;34m)\u001b[0m\u001b[0;34m\u001b[0m\u001b[0;34m\u001b[0m\u001b[0m\n\u001b[0m\u001b[1;32m     17\u001b[0m         \u001b[0;31m#print(x_ref.shape, x_inf_d.shape)\u001b[0m\u001b[0;34m\u001b[0m\u001b[0;34m\u001b[0m\u001b[0;34m\u001b[0m\u001b[0m\n\u001b[1;32m     18\u001b[0m         \u001b[0mo_drift\u001b[0m \u001b[0;34m=\u001b[0m \u001b[0mks_drift\u001b[0m\u001b[0;34m(\u001b[0m\u001b[0mx_ref\u001b[0m\u001b[0;34m,\u001b[0m \u001b[0mx_inf_d\u001b[0m\u001b[0;34m)\u001b[0m\u001b[0;34m\u001b[0m\u001b[0;34m\u001b[0m\u001b[0m\n",
            "\u001b[0;32m/usr/local/lib/python3.7/dist-packages/sklearn/model_selection/_split.py\u001b[0m in \u001b[0;36mtrain_test_split\u001b[0;34m(test_size, train_size, random_state, shuffle, stratify, *arrays)\u001b[0m\n\u001b[1;32m   2443\u001b[0m     return list(\n\u001b[1;32m   2444\u001b[0m         chain.from_iterable(\n\u001b[0;32m-> 2445\u001b[0;31m             \u001b[0;34m(\u001b[0m\u001b[0m_safe_indexing\u001b[0m\u001b[0;34m(\u001b[0m\u001b[0ma\u001b[0m\u001b[0;34m,\u001b[0m \u001b[0mtrain\u001b[0m\u001b[0;34m)\u001b[0m\u001b[0;34m,\u001b[0m \u001b[0m_safe_indexing\u001b[0m\u001b[0;34m(\u001b[0m\u001b[0ma\u001b[0m\u001b[0;34m,\u001b[0m \u001b[0mtest\u001b[0m\u001b[0;34m)\u001b[0m\u001b[0;34m)\u001b[0m \u001b[0;32mfor\u001b[0m \u001b[0ma\u001b[0m \u001b[0;32min\u001b[0m \u001b[0marrays\u001b[0m\u001b[0;34m\u001b[0m\u001b[0;34m\u001b[0m\u001b[0m\n\u001b[0m\u001b[1;32m   2446\u001b[0m         )\n\u001b[1;32m   2447\u001b[0m     )\n",
            "\u001b[0;32m/usr/local/lib/python3.7/dist-packages/sklearn/model_selection/_split.py\u001b[0m in \u001b[0;36m<genexpr>\u001b[0;34m(.0)\u001b[0m\n\u001b[1;32m   2443\u001b[0m     return list(\n\u001b[1;32m   2444\u001b[0m         chain.from_iterable(\n\u001b[0;32m-> 2445\u001b[0;31m             \u001b[0;34m(\u001b[0m\u001b[0m_safe_indexing\u001b[0m\u001b[0;34m(\u001b[0m\u001b[0ma\u001b[0m\u001b[0;34m,\u001b[0m \u001b[0mtrain\u001b[0m\u001b[0;34m)\u001b[0m\u001b[0;34m,\u001b[0m \u001b[0m_safe_indexing\u001b[0m\u001b[0;34m(\u001b[0m\u001b[0ma\u001b[0m\u001b[0;34m,\u001b[0m \u001b[0mtest\u001b[0m\u001b[0;34m)\u001b[0m\u001b[0;34m)\u001b[0m \u001b[0;32mfor\u001b[0m \u001b[0ma\u001b[0m \u001b[0;32min\u001b[0m \u001b[0marrays\u001b[0m\u001b[0;34m\u001b[0m\u001b[0;34m\u001b[0m\u001b[0m\n\u001b[0m\u001b[1;32m   2446\u001b[0m         )\n\u001b[1;32m   2447\u001b[0m     )\n",
            "\u001b[0;32m/usr/local/lib/python3.7/dist-packages/sklearn/utils/__init__.py\u001b[0m in \u001b[0;36m_safe_indexing\u001b[0;34m(X, indices, axis)\u001b[0m\n\u001b[1;32m    376\u001b[0m         \u001b[0;32mreturn\u001b[0m \u001b[0m_pandas_indexing\u001b[0m\u001b[0;34m(\u001b[0m\u001b[0mX\u001b[0m\u001b[0;34m,\u001b[0m \u001b[0mindices\u001b[0m\u001b[0;34m,\u001b[0m \u001b[0mindices_dtype\u001b[0m\u001b[0;34m,\u001b[0m \u001b[0maxis\u001b[0m\u001b[0;34m=\u001b[0m\u001b[0maxis\u001b[0m\u001b[0;34m)\u001b[0m\u001b[0;34m\u001b[0m\u001b[0;34m\u001b[0m\u001b[0m\n\u001b[1;32m    377\u001b[0m     \u001b[0;32melif\u001b[0m \u001b[0mhasattr\u001b[0m\u001b[0;34m(\u001b[0m\u001b[0mX\u001b[0m\u001b[0;34m,\u001b[0m \u001b[0;34m\"shape\"\u001b[0m\u001b[0;34m)\u001b[0m\u001b[0;34m:\u001b[0m\u001b[0;34m\u001b[0m\u001b[0;34m\u001b[0m\u001b[0m\n\u001b[0;32m--> 378\u001b[0;31m         \u001b[0;32mreturn\u001b[0m \u001b[0m_array_indexing\u001b[0m\u001b[0;34m(\u001b[0m\u001b[0mX\u001b[0m\u001b[0;34m,\u001b[0m \u001b[0mindices\u001b[0m\u001b[0;34m,\u001b[0m \u001b[0mindices_dtype\u001b[0m\u001b[0;34m,\u001b[0m \u001b[0maxis\u001b[0m\u001b[0;34m=\u001b[0m\u001b[0maxis\u001b[0m\u001b[0;34m)\u001b[0m\u001b[0;34m\u001b[0m\u001b[0;34m\u001b[0m\u001b[0m\n\u001b[0m\u001b[1;32m    379\u001b[0m     \u001b[0;32melse\u001b[0m\u001b[0;34m:\u001b[0m\u001b[0;34m\u001b[0m\u001b[0;34m\u001b[0m\u001b[0m\n\u001b[1;32m    380\u001b[0m         \u001b[0;32mreturn\u001b[0m \u001b[0m_list_indexing\u001b[0m\u001b[0;34m(\u001b[0m\u001b[0mX\u001b[0m\u001b[0;34m,\u001b[0m \u001b[0mindices\u001b[0m\u001b[0;34m,\u001b[0m \u001b[0mindices_dtype\u001b[0m\u001b[0;34m)\u001b[0m\u001b[0;34m\u001b[0m\u001b[0;34m\u001b[0m\u001b[0m\n",
            "\u001b[0;32m/usr/local/lib/python3.7/dist-packages/sklearn/utils/__init__.py\u001b[0m in \u001b[0;36m_array_indexing\u001b[0;34m(array, key, key_dtype, axis)\u001b[0m\n\u001b[1;32m    200\u001b[0m     \u001b[0;32mif\u001b[0m \u001b[0misinstance\u001b[0m\u001b[0;34m(\u001b[0m\u001b[0mkey\u001b[0m\u001b[0;34m,\u001b[0m \u001b[0mtuple\u001b[0m\u001b[0;34m)\u001b[0m\u001b[0;34m:\u001b[0m\u001b[0;34m\u001b[0m\u001b[0;34m\u001b[0m\u001b[0m\n\u001b[1;32m    201\u001b[0m         \u001b[0mkey\u001b[0m \u001b[0;34m=\u001b[0m \u001b[0mlist\u001b[0m\u001b[0;34m(\u001b[0m\u001b[0mkey\u001b[0m\u001b[0;34m)\u001b[0m\u001b[0;34m\u001b[0m\u001b[0;34m\u001b[0m\u001b[0m\n\u001b[0;32m--> 202\u001b[0;31m     \u001b[0;32mreturn\u001b[0m \u001b[0marray\u001b[0m\u001b[0;34m[\u001b[0m\u001b[0mkey\u001b[0m\u001b[0;34m]\u001b[0m \u001b[0;32mif\u001b[0m \u001b[0maxis\u001b[0m \u001b[0;34m==\u001b[0m \u001b[0;36m0\u001b[0m \u001b[0;32melse\u001b[0m \u001b[0marray\u001b[0m\u001b[0;34m[\u001b[0m\u001b[0;34m:\u001b[0m\u001b[0;34m,\u001b[0m \u001b[0mkey\u001b[0m\u001b[0;34m]\u001b[0m\u001b[0;34m\u001b[0m\u001b[0;34m\u001b[0m\u001b[0m\n\u001b[0m\u001b[1;32m    203\u001b[0m \u001b[0;34m\u001b[0m\u001b[0m\n\u001b[1;32m    204\u001b[0m \u001b[0;34m\u001b[0m\u001b[0m\n",
            "\u001b[0;31mKeyboardInterrupt\u001b[0m: "
          ]
        }
      ]
    },
    {
      "cell_type": "code",
      "source": [
        "\n",
        "TOP = 30\n",
        "sampling_sigma=0.95\n",
        "permutaion_sigma=1\n",
        "\n",
        "itc = getImportanceColumnNameTop(prefix=\"\",top=TOP)\n",
        "top_list = getImportanceIndexTop(top=TOP)\n",
        "print(itc)\n",
        "metric_a,metric_b,metric_c,drift_data_ks_stats,drift_data_ks_pvals,drift_data_ks_stats_diff,drift_data_ks_pvals_diff,length,mdr = drift_sampling2(ML[2010].predict,sampling_sigma=sampling_sigma,permutaion_sigma=permutaion_sigma,epoch = 10000,toplist=top_list)\n",
        "\n",
        "trainset = pd.DataFrame(drift_data_ks_stats*drift_data_ks_pvals_diff,columns=COLUMNS)\n",
        "dx = trainset[itc]\n",
        "print(dx.shape)\n",
        "\n",
        "model = sm.OLS(metric_c[:,0], dx).fit() ## sm.OLS(output, input)\n",
        "# Print out the statistics\n",
        "print(model.summary())\n",
        "\n",
        "print(\"mdr:\",mdr)\n",
        "df2 = predict_precision_for_PPM2(model)\n",
        "MAE,RMSE,MAPE,r_2 = result_statistics(df2)\n",
        "df2.plot(title=f'TOP:{TOP}, sampling_sigma:{sampling_sigma}, permutaion_sigma:{permutaion_sigma}, R2:{r_2}', figsize=(20,5))\n"
      ],
      "metadata": {
        "id": "EST6VVK-8_7R"
      },
      "execution_count": null,
      "outputs": []
    },
    {
      "cell_type": "code",
      "source": [
        "\n",
        "TOP = 5\n",
        "sampling_sigma=0.95\n",
        "permutaion_sigma=2\n",
        "\n",
        "itc = getImportanceColumnNameTop(prefix=\"\",top=TOP)\n",
        "top_list = getImportanceIndexTop(top=TOP)\n",
        "metric_a,metric_b,metric_c,drift_data_ks_stats,drift_data_ks_pvals,drift_data_ks_stats_diff,drift_data_ks_pvals_diff,length, mdr = drift_sampling2(ML[2010].predict,sampling_sigma=sampling_sigma,permutaion_sigma=permutaion_sigma,epoch = 10000,toplist=top_list)\n",
        "\n",
        "trainset = pd.DataFrame(drift_data_ks_stats*drift_data_ks_pvals_diff,columns=COLUMNS)\n",
        "dx = trainset[itc]\n",
        "print(dx.shape)\n",
        "\n",
        "model = sm.OLS(metric_c[:,0], dx).fit() ## sm.OLS(output, input)\n",
        "# Print out the statistics\n",
        "print(model.summary())\n",
        "\n",
        "print(\"mdr:\",mdr)\n",
        "df2 = predict_precision_for_PPM2(model)\n",
        "MAE,RMSE,MAPE,r_2 = result_statistics(df2)\n",
        "df2.plot(title=f'TOP:{TOP}, sampling_sigma:{sampling_sigma}, permutaion_sigma:{permutaion_sigma}, R2:{r_2}', figsize=(20,5))"
      ],
      "metadata": {
        "id": "qyhBMgvX9Esv"
      },
      "execution_count": null,
      "outputs": []
    },
    {
      "cell_type": "code",
      "source": [
        "\n",
        "TOP = 5\n",
        "sampling_sigma=0.95\n",
        "permutaion_sigma=3\n",
        "\n",
        "itc = getImportanceColumnNameTop(prefix=\"\",top=TOP)\n",
        "top_list = getImportanceIndexTop(top=TOP)\n",
        "metric_a,metric_b,metric_c,drift_data_ks_stats,drift_data_ks_pvals,drift_data_ks_stats_diff,drift_data_ks_pvals_diff,length,mdr = drift_sampling2(ML[2010].predict,sampling_sigma=sampling_sigma,permutaion_sigma=permutaion_sigma,epoch = 10000,toplist=top_list)\n",
        "\n",
        "trainset = pd.DataFrame(drift_data_ks_stats*drift_data_ks_pvals_diff,columns=COLUMNS)\n",
        "dx = trainset[itc]\n",
        "print(dx.shape)\n",
        "\n",
        "model = sm.OLS(metric_c[:,0], dx).fit() ## sm.OLS(output, input)\n",
        "# Print out the statistics\n",
        "print(model.summary())\n",
        "\n",
        "print(\"mdr:\",mdr)\n",
        "df2 = predict_precision_for_PPM2(model)\n",
        "MAE,RMSE,MAPE,r_2 = result_statistics(df2)\n",
        "df2.plot(title=f'TOP:{TOP}, sampling_sigma:{sampling_sigma}, permutaion_sigma:{permutaion_sigma}, R2:{r_2}', figsize=(20,5))"
      ],
      "metadata": {
        "id": "iPMsQsc19HfR"
      },
      "execution_count": null,
      "outputs": []
    },
    {
      "cell_type": "code",
      "source": [
        "\n",
        "TOP = 5\n",
        "sampling_sigma=0.80\n",
        "permutaion_sigma=1\n",
        "\n",
        "itc = getImportanceColumnNameTop(prefix=\"\",top=TOP)\n",
        "top_list = getImportanceIndexTop(top=TOP)\n",
        "metric_a,metric_b,metric_c,drift_data_ks_stats,drift_data_ks_pvals,drift_data_ks_stats_diff,drift_data_ks_pvals_diff,length,mdr = drift_sampling2(ML[2010].predict,sampling_sigma=sampling_sigma,permutaion_sigma=permutaion_sigma,epoch = 10000,toplist=top_list)\n",
        "\n",
        "trainset = pd.DataFrame(drift_data_ks_stats*drift_data_ks_pvals_diff,columns=COLUMNS)\n",
        "dx = trainset[itc]\n",
        "print(dx.shape)\n",
        "\n",
        "model = sm.OLS(metric_c[:,0], dx).fit() ## sm.OLS(output, input)\n",
        "# Print out the statistics\n",
        "print(model.summary())\n",
        "\n",
        "print(\"mdr:\",mdr)\n",
        "df2 = predict_precision_for_PPM2(model)\n",
        "MAE,RMSE,MAPE,r_2 = result_statistics(df2)\n",
        "df2.plot(title=f'TOP:{TOP}, sampling_sigma:{sampling_sigma}, permutaion_sigma:{permutaion_sigma}, R2:{r_2}', figsize=(20,5))"
      ],
      "metadata": {
        "id": "oi5_ngLX9L6K"
      },
      "execution_count": null,
      "outputs": []
    },
    {
      "cell_type": "code",
      "source": [
        "\n",
        "TOP = 5\n",
        "sampling_sigma=0.60\n",
        "permutaion_sigma=1\n",
        "\n",
        "itc = getImportanceColumnNameTop(prefix=\"\",top=TOP)\n",
        "top_list = getImportanceIndexTop(top=TOP)\n",
        "metric_a,metric_b,metric_c,drift_data_ks_stats,drift_data_ks_pvals,drift_data_ks_stats_diff,drift_data_ks_pvals_diff,length,mdr = drift_sampling2(ML[2010].predict,sampling_sigma=sampling_sigma,permutaion_sigma=permutaion_sigma,epoch = 10000,toplist=top_list)\n",
        "\n",
        "trainset = pd.DataFrame(drift_data_ks_stats*drift_data_ks_pvals_diff,columns=COLUMNS)\n",
        "dx = trainset[itc]\n",
        "print(dx.shape)\n",
        "\n",
        "model = sm.OLS(metric_c[:,0], dx).fit() ## sm.OLS(output, input)\n",
        "# Print out the statistics\n",
        "print(model.summary())\n",
        "\n",
        "print(\"mdr:\",mdr)\n",
        "df2 = predict_precision_for_PPM2(model)\n",
        "MAE,RMSE,MAPE,r_2 = result_statistics(df2)\n",
        "df2.plot(title=f'TOP:{TOP}, sampling_sigma:{sampling_sigma}, permutaion_sigma:{permutaion_sigma}, R2:{r_2}', figsize=(20,5))"
      ],
      "metadata": {
        "id": "xgyXdV5r9daQ"
      },
      "execution_count": null,
      "outputs": []
    },
    {
      "cell_type": "markdown",
      "source": [
        "# 단순한 로직으로 다시... => 실패!"
      ],
      "metadata": {
        "id": "_-iS7q9gTfKJ"
      }
    },
    {
      "cell_type": "code",
      "source": [
        "\n",
        "TOP = 5\n",
        "sampling_sigma=0.65\n",
        "permutaion_sigma=1\n",
        "\n",
        "itc = getImportanceColumnNameTop(prefix=\"\",top=TOP)\n",
        "top_list = getImportanceIndexTop(top=TOP)\n",
        "metric_a,metric_b,metric_c,drift_data_ks_stats,drift_data_ks_pvals,drift_data_ks_stats_diff,drift_data_ks_pvals_diff,length,mdr = drift_sampling3(ML[2010].predict,sampling_sigma=sampling_sigma,permutaion_sigma=permutaion_sigma,epoch = 10000,toplist=top_list)\n",
        "\n",
        "trainset = pd.DataFrame(drift_data_ks_stats*drift_data_ks_pvals_diff,columns=COLUMNS)\n",
        "dx = trainset[itc]\n",
        "print(dx.shape)\n",
        "\n",
        "model = sm.OLS(metric_c[:,0], dx).fit() ## sm.OLS(output, input)\n",
        "# Print out the statistics\n",
        "print(model.summary())\n",
        "\n",
        "print(\"mdr:\",mdr)\n",
        "\"\"\"\n",
        "df2 = predict_precision_for_PPM2(model)\n",
        "MAE,RMSE,MAPE,r_2 = result_statistics(df2)\n",
        "df2.plot(title=f'TOP:{TOP}, sampling_sigma:{sampling_sigma}, permutaion_sigma:{permutaion_sigma}, R2:{r_2}', figsize=(20,5))\n",
        "\"\"\""
      ],
      "metadata": {
        "colab": {
          "base_uri": "https://localhost:8080/",
          "height": 632
        },
        "id": "F-C5zTeWTevz",
        "outputId": "054ea5c7-67b6-4eeb-bc98-d3fef052087d"
      },
      "execution_count": null,
      "outputs": [
        {
          "output_type": "stream",
          "name": "stdout",
          "text": [
            "9937/10000 acc:0.9884 1.0000 0.9942(10, 5)\n",
            "                                 OLS Regression Results                                \n",
            "=======================================================================================\n",
            "Dep. Variable:                      y   R-squared (uncentered):                   0.949\n",
            "Model:                            OLS   Adj. R-squared (uncentered):              0.898\n",
            "Method:                 Least Squares   F-statistic:                              18.68\n",
            "Date:                Sat, 18 Jun 2022   Prob (F-statistic):                     0.00299\n",
            "Time:                        06:23:29   Log-Likelihood:                         0.82162\n",
            "No. Observations:                  10   AIC:                                      8.357\n",
            "Df Residuals:                       5   BIC:                                      9.870\n",
            "Df Model:                           5                                                  \n",
            "Covariance Type:            nonrobust                                                  \n",
            "========================================================================================\n",
            "                           coef    std err          t      P>|t|      [0.025      0.975]\n",
            "----------------------------------------------------------------------------------------\n",
            "recoveries             -33.2882     21.906     -1.520      0.189     -89.599      23.023\n",
            "last_fico_range_high   -18.5796     14.060     -1.321      0.244     -54.721      17.562\n",
            "last_pymnt_amnt        -15.0973     16.888     -0.894      0.412     -58.508      28.313\n",
            "total_rec_late_fee     106.9868     53.528      1.999      0.102     -30.611     244.585\n",
            "term                   103.7024     51.679      2.007      0.101     -29.144     236.549\n",
            "==============================================================================\n",
            "Omnibus:                        0.307   Durbin-Watson:                   2.064\n",
            "Prob(Omnibus):                  0.857   Jarque-Bera (JB):                0.401\n",
            "Skew:                           0.300   Prob(JB):                        0.818\n",
            "Kurtosis:                       2.223   Cond. No.                         11.8\n",
            "==============================================================================\n",
            "\n",
            "Warnings:\n",
            "[1] Standard Errors assume that the covariance matrix of the errors is correctly specified.\n",
            "mdr: 12.16210845741797\n"
          ]
        },
        {
          "output_type": "stream",
          "name": "stderr",
          "text": [
            "/usr/local/lib/python3.7/dist-packages/scipy/stats/stats.py:1535: UserWarning: kurtosistest only valid for n>=20 ... continuing anyway, n=10\n",
            "  \"anyway, n=%i\" % int(n))\n"
          ]
        },
        {
          "output_type": "execute_result",
          "data": {
            "text/plain": [
              "\"\\ndf2 = predict_precision_for_PPM2(model)\\nMAE,RMSE,MAPE,r_2 = result_statistics(df2)\\ndf2.plot(title=f'TOP:{TOP}, sampling_sigma:{sampling_sigma}, permutaion_sigma:{permutaion_sigma}, R2:{r_2}', figsize=(20,5))\\n\""
            ],
            "application/vnd.google.colaboratory.intrinsic+json": {
              "type": "string"
            }
          },
          "metadata": {},
          "execution_count": 167
        }
      ]
    },
    {
      "cell_type": "code",
      "source": [
        "df2 = predict_precision_for_PPM2(model)\n",
        "MAE,RMSE,MAPE,r_2 = result_statistics(df2)\n",
        "df2.plot(title=f'TOP:{TOP}, sampling_sigma:{sampling_sigma}, permutaion_sigma:{permutaion_sigma}, R2:{r_2}', figsize=(20,5))"
      ],
      "metadata": {
        "colab": {
          "base_uri": "https://localhost:8080/",
          "height": 1000
        },
        "id": "LkyCMfqacwSu",
        "outputId": "95302c13-a0b2-4712-d5e0-d6df0e50f6b3"
      },
      "execution_count": null,
      "outputs": [
        {
          "output_type": "stream",
          "name": "stdout",
          "text": [
            "0.9893952421897392 - 0.9891125041240515\n",
            "0.9883251657538196 - 0.4142371748196304\n",
            "0.9861987960651887 - 0.2588844740448829\n",
            "0.9869205057404447 - -0.9012220192441813\n",
            "0.9838709677419355 - -0.760808392238982\n",
            "0.9841036208419194 - -0.9371069561481382\n",
            "0.9851549992723039 - -0.9680538912555525\n",
            "0.9853792704111175 - -0.9508900383464334\n",
            "0.9813245223387445 - -0.8429104427464107\n",
            "0.9785178777393311 - -0.8661235816888821\n",
            "0.9821351390289583 - -0.9076243640878114\n",
            "0.9794871794871794 - -0.7279907947901667\n",
            "0.977694090382387 - -0.6107574818101489\n",
            "0.9798503166378814 - -0.5364575959870498\n",
            "0.9756883421206796 - -0.4293960150240659\n",
            "0.9780885108836673 - -0.37701461259504887\n",
            "0.9779685264663805 - -0.4709533694198753\n",
            "0.9782703172533681 - -0.21606230839427465\n",
            "0.9775264815344976 - -0.24881489550724528\n",
            "0.9753068592057762 - -0.10990084921410354\n",
            "0.9750971642435584 - 0.025627851916076583\n",
            "0.9749144811858609 - -0.05780305428587684\n",
            "0.9758168993810278 - -0.30814975681925405\n",
            "0.9740888382687927 - -0.33821498561496527\n",
            "0.9733981693363845 - -0.3014732914953861\n",
            "0.9756481879386907 - -0.3736449122886216\n",
            "0.9657272341028182 - -0.35157978929852096\n",
            "0.9705882352941176 - -0.2801186672088016\n",
            "0.9474204946996466 - -0.15630403122761594\n",
            "0.9445932609615113 - -0.19090119172192954\n",
            "0.9462395936221251 - -0.07757569176727871\n",
            "0.9391977480647431 - -0.21123741851291838\n",
            "0.9409657544060753 - -0.22200318993730023\n",
            "0.9389356541589385 - -0.23760915946994493\n",
            "0.9378282469836764 - -0.17619814373957293\n",
            "0.9365170145839291 - -0.15587837028863494\n",
            "0.9312955292101128 - -0.1483901301877112\n",
            "0.9341085271317829 - 0.04591120127385795\n",
            "0.9415490930031672 - -0.16894439680744638\n",
            "0.9414634146341463 - -0.29776340200479506\n",
            "0.9405188476422531 - 0.0038075658361073628\n",
            "0.9353161998267399 - -0.1443657183984548\n",
            "0.9429799426934098 - -0.44258515763178474\n",
            "0.9418756341498767 - -0.3224067459632481\n",
            "0.9407610262323436 - -0.2977401161304562\n",
            "0.9441412981045376 - -0.2736706694971314\n",
            "0.9431176726009552 - -0.44770169197379883\n",
            "0.933187134502924 - -0.2530316685657893\n",
            "0.9310897435897436 - -0.10991683454706569\n",
            "0.9422575976845152 - -0.2058239666042888\n",
            "0.9435507038207411 - -0.1622014055950074\n",
            "0.9409386281588448 - -0.11270308793706807\n",
            "0.9403050108932461 - -0.1407045180768564\n",
            "0.9387814034074502 - -0.0964378946697183\n",
            "0.9376807403123193 - -0.21130818334157597\n",
            "0.934324480369515 - -0.24472395476386138\n",
            "0.9318247751668117 - -0.061327399513228686\n",
            "0.932963341609464 - -0.2590939493654797\n",
            "0.9275028768699655 - -0.183212255833201\n",
            "0.9362984218077475 - -0.3372716623457278\n",
            "0.9244085401038661 - -0.21806398855590958\n",
            "0.9281976744186047 - -0.26762911244176774\n",
            "0.9253905679661264 - -0.21391171096263112\n",
            "0.9282088469905729 - -0.2464601344700011\n",
            "0.9301587301587302 - -0.2562455633560483\n",
            "0.9324679113185531 - -0.20770483072070756\n",
            "0.9255118338899375 - -0.33051280956031864\n",
            "0.9245089416593374 - -0.23986468953487572\n",
            "0.9299841201097157 - -0.10743840547403949\n",
            "0.9336129592131907 - -0.16295492699932912\n",
            "0.9322916666666666 - -0.43255582859328756\n",
            "0.9291842373127818 - -0.092384170158064\n",
            "0.928207368574341 - -0.2776532670276936\n",
            "0.9293636894337419 - -0.16677124088035145\n",
            "0.9258130081300813 - -0.15347640333969026\n",
            "0.926627724747115 - -0.24236086102797016\n",
            "0.9293001868084495 - -0.248633141483649\n",
            "0.93001443001443 - -0.36327865710632934\n",
            "0.9296725884598444 - -0.1294252717050457\n",
            "0.9237080754282424 - -0.3095898139438898\n",
            "0.9258511252163878 - -0.40118259812459733\n",
            "0.9297478501676141 - -0.24127385892026187\n",
            "0.9291472210436996 - -0.29766991770886386\n",
            "0.9260215053763441 - -0.07376725031406842\n",
            "0.9213190627711889 - -0.1090366366386013\n",
            "0.9264364480557168 - -0.17375878750608487\n",
            "0.9246614808412561 - -0.31057028186167324\n",
            "0.9346598927462603 - -0.5580452113636503\n",
            "0.9272025171624714 - -0.3489502573076111\n",
            "0.9271457085828343 - -0.21675800782384413\n",
            "0.9376433486238532 - -0.48354216429302765\n",
            "0.9252766202040523 - -0.25496344096579665\n",
            "0.9171623386043812 - -0.14238898097841712\n",
            "0.9234214708857101 - -0.29025253101413656\n",
            "0.9313218390804597 - -0.40102363918089523\n",
            "0.9178022615250797 - -0.358980725715645\n",
            "0.9169570267131243 - -0.1890277617684537\n",
            "0.9187339606501284 - -0.2816343285061423\n",
            "0.9285105173393974 - -0.47303666412141254\n",
            "0.9246723318450237 - -0.14152124966772228\n",
            "0.9299253302699598 - -0.4004983238157379\n",
            "0.9369574498363455 - -0.67830945741154\n",
            "0.9186691312384473 - -0.5078841650598664\n",
            "0.9262423465755375 - -0.4234602360549585\n",
            "0.9339028147318302 - -1.1517168292406281\n",
            "0.9306564146376193 - -0.7563279473293388\n",
            "0.9195118407671073 - -0.3079085018868315\n",
            "0.9220183486238532 - -0.5317619452223363\n",
            "0.9095789771121786 - -0.6722598570869958\n",
            "0.892018779342723 - -0.2587061363839242\n",
            "0.9347030678300028 - -1.2009521459856436\n",
            "0.9042261647194577 - -0.7906404564286675\n",
            "0.8916678784353642 - -0.09087258072538332\n",
            "0.8916475315729047 - -0.5353662008384914\n",
            "0.8878571428571429 - -0.8479063688545889\n",
            "0.8699681436432088 - -0.5481085791315528\n",
            "0.8683623382418563 - -0.4070698082559965\n",
            "0.8945386064030132 - -1.1014010526296962\n",
            "0.8788875598086124 - -0.01106126595030385\n",
            "0.9099044441073866 - -1.0847880590640748\n",
            "0.9002097692538208 - -0.279018428266102\n",
            "0.9028922523602577 - -0.5655716498599976\n",
            "0.8928029152748254 - -0.3355770979981176\n",
            "0.9033333333333333 - -0.3211435453171488\n",
            "0.8992178098676293 - -0.44107351430224573\n",
            "0.9007633587786259 - -0.44078551962279866\n",
            "0.8989712881928451 - -0.38335753819591534\n",
            "0.8928571428571429 - -0.5604226833562551\n",
            "0.8951447791751974 - -0.5572995840566096\n",
            "0.8901404330017554 - -0.5174602134447748\n",
            "0.9059484372749532 - -0.508621805387643\n",
            "0.9025417574437182 - -0.5240872211731322\n",
            "0.8940696488416144 - -0.6439108168977126\n",
            "0.8813034503096432 - -0.6478849620835403\n",
            "0.8879674087007129 - -0.46608516440245773\n",
            "0.8928466293788637 - -0.5988405858029116\n",
            "0.8983174835405998 - -0.5795315065711647\n",
            "0.8971157985363754 - -0.6857178734303184\n",
            "0.8930419781483612 - -0.6406378721018007\n",
            "0.8862335432169434 - -0.5636449249112965\n",
            "0.8914817465998568 - -0.526300312438469\n",
            "0.8908252916606654 - -0.6655892879226868\n",
            "0.8962087357647398 - -0.6264905886119447\n",
            "0.8883909209194738 - -0.47127708780876454\n",
            "0.8807758128921849 - -0.4737791328260996\n",
            "0.8738170347003155 - -0.49870056681174524\n",
            "0.8763395375070502 - -0.7113113980192043\n",
            "0.869881580824654 - -0.4264143253682533\n",
            "0.88081436448466 - -0.8430606132207719\n",
            "0.8679001721170396 - -0.21076584866467302\n",
            "0.8727940138359452 - -0.47737542329612437\n",
            "0.8755262419309571 - -0.8383309997405561\n",
            "0.8549553381539771 - 0.1062245493172686\n",
            "0.864793800166067 - -0.37491495892993076\n",
            "0.8676612791822075 - -0.47014291356812754\n",
            "0.8652828652828652 - -0.2192390940163237\n",
            "0.8694289219026851 - -0.48393613186307205\n",
            "0.8718707940780619 - -0.4833948854652256\n",
            "0.8680324597578821 - -0.34564339721655046\n",
            "0.8597375049714967 - -0.1798641716144344\n",
            "0.853448275862069 - -0.14718009014703615\n",
            "0.8524548134854506 - -0.18434567518017797\n",
            "0.8694291437155733 - -0.5834672114853106\n",
            "0.93296853625171 - -0.718841481653537\n",
            "0.9878230616302187 - -0.9941263344104456\n",
            "MAE 1.3024285538366425\n",
            "RMSE 1.3339804915717575\n",
            "MAPE 1.410088672630752\n",
            "R2 -1504.9753508059766\n"
          ]
        },
        {
          "output_type": "execute_result",
          "data": {
            "text/plain": [
              "<matplotlib.axes._subplots.AxesSubplot at 0x7fbd58991750>"
            ]
          },
          "metadata": {},
          "execution_count": 168
        },
        {
          "output_type": "display_data",
          "data": {
            "text/plain": [
              "<Figure size 1440x360 with 1 Axes>"
            ],
            "image/png": "[encoded data removed]"
          },
          "metadata": {
            "needs_background": "light"
          }
        }
      ]
    },
    {
      "cell_type": "markdown",
      "source": [
        "# ks알고리즘의 변형에 대한 검증"
      ],
      "metadata": {
        "id": "HXLhwOHRTAYL"
      }
    },
    {
      "cell_type": "code",
      "source": [
        "import statsmodels.api as sm # import statsmodels \n",
        "\n",
        "TOP = 5\n",
        "sampling_sigma=0.95\n",
        "permutaion_sigma=1\n",
        "\n",
        "itc = getImportanceColumnNameTop(prefix=\"\",top=TOP)\n",
        "top_list = getImportanceIndexTop(top=TOP)\n",
        "print(itc)\n",
        "metric_a,metric_b,metric_c,drift_data_ks_stats,drift_data_ks_pvals,drift_data_ks_stats_diff,drift_data_ks_pvals_diff,length,mdr = drift_sampling2(ML[2010].predict,sampling_sigma=sampling_sigma,permutaion_sigma=permutaion_sigma,epoch = 10000,toplist=top_list)\n",
        "\n",
        "trainset = pd.DataFrame(drift_data_ks_stats*drift_data_ks_pvals_diff,columns=COLUMNS)\n",
        "dx = trainset[itc]\n",
        "print(dx.shape)\n",
        "\n",
        "model = sm.OLS(metric_c[:,0], dx).fit() ## sm.OLS(output, input)\n",
        "# Print out the statistics\n",
        "print(model.summary())\n",
        "\n",
        "print(\"mdr:\",mdr)\n",
        "\n"
      ],
      "metadata": {
        "id": "MVVwUwrKTGPS",
        "outputId": "578dd7a9-0c7b-4ea3-8cde-e0537bb2b679",
        "colab": {
          "base_uri": "https://localhost:8080/"
        }
      },
      "execution_count": null,
      "outputs": [
        {
          "output_type": "stream",
          "name": "stderr",
          "text": [
            "/usr/local/lib/python3.7/dist-packages/statsmodels/tools/_testing.py:19: FutureWarning: pandas.util.testing is deprecated. Use the functions in the public API at pandas.testing instead.\n",
            "  import pandas.util.testing as tm\n"
          ]
        },
        {
          "output_type": "stream",
          "name": "stdout",
          "text": [
            "['recoveries', 'last_fico_range_high', 'last_pymnt_amnt', 'total_rec_late_fee', 'Y']\n",
            "9998/10000 acc:0.9211 0.6585 0.7680 sum:0.4950 0.0062 0.0125(3984, 5)\n",
            "                                 OLS Regression Results                                \n",
            "=======================================================================================\n",
            "Dep. Variable:                      y   R-squared (uncentered):                   0.995\n",
            "Model:                            OLS   Adj. R-squared (uncentered):              0.995\n",
            "Method:                 Least Squares   F-statistic:                          1.512e+05\n",
            "Date:                Mon, 20 Jun 2022   Prob (F-statistic):                        0.00\n",
            "Time:                        08:15:25   Log-Likelihood:                          4991.3\n",
            "No. Observations:                3984   AIC:                                     -9973.\n",
            "Df Residuals:                    3979   BIC:                                     -9941.\n",
            "Df Model:                           5                                                  \n",
            "Covariance Type:            nonrobust                                                  \n",
            "========================================================================================\n",
            "                           coef    std err          t      P>|t|      [0.025      0.975]\n",
            "----------------------------------------------------------------------------------------\n",
            "recoveries               1.7606      0.004    478.956      0.000       1.753       1.768\n",
            "last_fico_range_high     3.6428      0.084     43.590      0.000       3.479       3.807\n",
            "last_pymnt_amnt          2.7147      0.005    507.972      0.000       2.704       2.725\n",
            "total_rec_late_fee       1.4827      0.045     32.859      0.000       1.394       1.571\n",
            "Y                        1.4396      0.048     29.825      0.000       1.345       1.534\n",
            "==============================================================================\n",
            "Omnibus:                     1409.658   Durbin-Watson:                   2.023\n",
            "Prob(Omnibus):                  0.000   Jarque-Bera (JB):            42930.354\n",
            "Skew:                           1.061   Prob(JB):                         0.00\n",
            "Kurtosis:                      18.941   Cond. No.                         26.5\n",
            "==============================================================================\n",
            "\n",
            "Warnings:\n",
            "[1] Standard Errors assume that the covariance matrix of the errors is correctly specified.\n",
            "mdr: 12.10492242964371\n"
          ]
        }
      ]
    },
    {
      "cell_type": "code",
      "source": [
        "df2 = predict_precision_for_PPM2(model)\n",
        "MAE,RMSE,MAPE,r_2 = result_statistics(df2)\n",
        "df2.plot(title=f'TOP:{TOP}, sampling_sigma:{sampling_sigma}, permutaion_sigma:{permutaion_sigma}, R2:{r_2}', figsize=(20,5))"
      ],
      "metadata": {
        "id": "oiJWJBgZ6XPc",
        "outputId": "3852f1cc-9e0f-4838-c3e0-e3875e9b6b9a",
        "colab": {
          "base_uri": "https://localhost:8080/",
          "height": 1000
        }
      },
      "execution_count": null,
      "outputs": [
        {
          "output_type": "stream",
          "name": "stdout",
          "text": [
            "0.9928098935864251 - 0.9907468605419696\n",
            "0.9943445475638051 - 0.9966891180014827\n",
            "0.9930514488468362 - 1.0237030446482343\n",
            "0.9928362573099415 - 1.0280783554568813\n",
            "0.9935744172145846 - 1.041262027790325\n",
            "0.9943486020226056 - 1.0429469324193255\n",
            "0.9951484857394883 - 1.0384657202537455\n",
            "0.9919848440687846 - 1.044168643660212\n",
            "0.9888535031847133 - 1.0527402188506116\n",
            "0.9882061735585324 - 1.0554976527820004\n",
            "0.9875416485585977 - 1.0623284232487675\n",
            "0.9869384239988517 - 1.050192751183686\n",
            "0.9819610125109107 - 1.0565744760240623\n",
            "0.9849537037037037 - 1.0524478298335296\n",
            "0.9821612855668583 - 1.0640287553644776\n",
            "0.9823367598088896 - 1.0538034204120774\n",
            "0.9819017523700087 - 1.0488762323648821\n",
            "0.9823974396275822 - 1.0505397265828966\n",
            "0.9835805847616305 - 1.0463817314453503\n",
            "0.9798346148266357 - 1.0510958175826501\n",
            "0.9773481460106767 - 1.0478823054764144\n",
            "0.9788208357183743 - 1.047537706582476\n",
            "0.9762384792626728 - 1.0493069977878897\n",
            "0.9760342368045649 - 1.0514883157582582\n",
            "0.9756307339449541 - 1.0511528366386886\n",
            "0.9776087268551744 - 1.0506624073036874\n",
            "0.9669597277368123 - 1.0543949556132648\n",
            "0.97086818575137 - 1.0549269947701656\n",
            "0.9486272289838664 - 1.0508362905961088\n",
            "0.9471303364433136 - 1.0538655426936363\n",
            "0.9469076532053092 - 1.0590734696757698\n",
            "0.9425141242937853 - 1.056536690019529\n",
            "0.942451205510907 - 1.063698175839015\n",
            "0.9402771824546364 - 1.0622392072301003\n",
            "0.9386276459724393 - 1.0535740161367744\n",
            "0.9378579610538373 - 1.0618506604203588\n",
            "0.9335624284077892 - 1.058395710052992\n",
            "0.9357204486626403 - 1.0648754810884886\n",
            "0.9427706501369468 - 1.0622089010593645\n",
            "0.9428160919540229 - 1.0586819513075427\n",
            "0.9418688101047796 - 1.0616289670512817\n",
            "0.9355863662622761 - 1.0682035607290434\n",
            "0.9436559139784946 - 1.0545191080551195\n",
            "0.9432428509217593 - 1.0581574911966851\n",
            "0.9426632004621606 - 1.0524142512685748\n",
            "0.9456349777074644 - 1.0570613932578186\n",
            "0.9439374185136897 - 1.0597281680307804\n",
            "0.9351010840902432 - 1.0682936310399411\n",
            "0.9308185260704923 - 1.064005372462433\n",
            "0.9421212559687455 - 1.05842719205386\n",
            "0.9453158727874514 - 1.0548465777638514\n",
            "0.9409386281588448 - 1.0575659368658121\n",
            "0.9415357766143106 - 1.062518855735448\n",
            "0.9402747650036153 - 1.05838335732656\n",
            "0.9384949348769899 - 1.0624872853196754\n",
            "0.9359456333140543 - 1.0576213865451038\n",
            "0.9329073482428115 - 1.0602135056059876\n",
            "0.9347380743342113 - 1.065175114587137\n",
            "0.9280368451352907 - 1.0542002811796878\n",
            "0.9368360608670686 - 1.0537078171875958\n",
            "0.9257440046229414 - 1.057417248452842\n",
            "0.9295487627365356 - 1.063209831024838\n",
            "0.9263373282665888 - 1.0559021275196205\n",
            "0.9294220156839965 - 1.0627138922137713\n",
            "0.9305615706655118 - 1.0636293361137414\n",
            "0.9328761126513936 - 1.0614961706979122\n",
            "0.9267228845594649 - 1.0589282818760442\n",
            "0.9243734427671112 - 1.0603674768814146\n",
            "0.930521450238336 - 1.0594279520510006\n",
            "0.9352361634308896 - 1.0584738525379285\n",
            "0.9332367849384504 - 1.0617906120387355\n",
            "0.9293193717277487 - 1.0592099024883663\n",
            "0.9287483607751712 - 1.0590896759196462\n",
            "0.9308580616868879 - 1.0594882482704595\n",
            "0.9270242767844163 - 1.06345696120107\n",
            "0.928082191780822 - 1.0513762938029871\n",
            "0.9295673422452206 - 1.0574493704396453\n",
            "0.9310892805547529 - 1.0574788568393936\n",
            "0.9298091042584434 - 1.061360219678332\n",
            "0.9243733794295592 - 1.0552584113730805\n",
            "0.9274566473988439 - 1.0529875270070843\n",
            "0.9301545640128317 - 1.0526507777154417\n",
            "0.9294101004385344 - 1.0481548269265992\n",
            "0.9265528618562616 - 1.0524761599804515\n",
            "0.9213190627711889 - 1.0581355227447613\n",
            "0.9263020455534601 - 1.0583590246421164\n",
            "0.9250612480184465 - 1.0476945130835826\n",
            "0.9358485233856154 - 1.0476297985633505\n",
            "0.9274678111587983 - 1.0503559253849186\n",
            "0.9287346472436446 - 1.0562336052155783\n",
            "0.9371060171919771 - 1.0535792930757915\n",
            "0.9251436781609196 - 1.0534575732155944\n",
            "0.9168963016678753 - 1.0559534459756605\n",
            "0.9235549132947977 - 1.058170144763444\n",
            "0.9319913731128684 - 1.053316943273428\n",
            "0.917536231884058 - 1.0550262748888373\n",
            "0.9178898415927917 - 1.0559721026585134\n",
            "0.9179487179487179 - 1.0505064797550774\n",
            "0.9282466609832338 - 1.050789936204425\n",
            "0.9252053610030264 - 1.0537878097800082\n",
            "0.9301924734271761 - 1.0554856677356113\n",
            "0.93669085218381 - 1.0483445105244633\n",
            "0.9195844007970395 - 1.04722196024343\n",
            "0.9272986457590877 - 1.0579516613954472\n",
            "0.9341644488023533 - 1.0441369744209767\n",
            "0.9306564146376193 - 1.0512458381990362\n",
            "0.9195118407671073 - 1.058026936474642\n",
            "0.9233419465977606 - 1.0569798736118519\n",
            "0.910479422995333 - 1.0485136802919557\n",
            "0.892399658411614 - 1.055600733200122\n",
            "0.9345715491768679 - 1.0465070120502917\n",
            "0.9046176046176047 - 1.0632754635482433\n",
            "0.8925764192139738 - 1.0707412536044054\n",
            "0.8916475315729047 - 1.0720343218796897\n",
            "0.8878571428571429 - 1.0749965715416958\n",
            "0.8705984639907259 - 1.0854043846085273\n",
            "0.8693968726731199 - 1.0860176738080463\n",
            "0.8955765047135605 - 1.0858911296833722\n",
            "0.879676743489973 - 1.091104757778495\n",
            "0.9104568219760206 - 1.0990357056523035\n",
            "0.9011549422528874 - 1.0985394888972986\n",
            "0.9032983508245878 - 1.0952225945428367\n",
            "0.8944326133252206 - 1.1030827026710148\n",
            "0.9038811400849 - 1.1069156899909107\n",
            "0.8990825688073395 - 1.09659426289933\n",
            "0.9019784172661871 - 1.1007506128665783\n",
            "0.9004921562596124 - 1.1076026305655435\n",
            "0.8928571428571429 - 1.103166885791567\n",
            "0.8952757057188826 - 1.0946431418696896\n",
            "0.8904009364940005 - 1.098220305568265\n",
            "0.9059484372749532 - 1.0994001481114175\n",
            "0.9039860343322665 - 1.1006642513587064\n",
            "0.8949824970828472 - 1.1030619402701987\n",
            "0.8822140221402214 - 1.1030836386540406\n",
            "0.8884844955597613 - 1.102263836592549\n",
            "0.8940309506263817 - 1.1023498545895303\n",
            "0.8991067506223459 - 1.1038237083876072\n",
            "0.8985340615119287 - 1.0989040259859406\n",
            "0.8943276706017852 - 1.097134495093858\n",
            "0.8868681082629243 - 1.0988460694984694\n",
            "0.8922481730907007 - 1.106942917694095\n",
            "0.8913388096267474 - 1.1004332224300217\n",
            "0.8975025263461817 - 1.1014915626097337\n",
            "0.8894195976262845 - 1.1037979784183884\n",
            "0.882537867962275 - 1.1020104521138543\n",
            "0.8748205569910996 - 1.103867890322362\n",
            "0.877700889704844 - 1.0989463139872884\n",
            "0.871 - 1.1037723421279777\n",
            "0.8816869515992075 - 1.097696782720561\n",
            "0.8696464501293475 - 1.1015765762544998\n",
            "0.8735339833262682 - 1.1050618705398003\n",
            "0.8770030924936745 - 1.0968791662922088\n",
            "0.856290826469753 - 1.0977156651974003\n",
            "0.8675551853394419 - 1.0945916377039164\n",
            "0.8698241240825371 - 1.0929538784086095\n",
            "0.8666938442723197 - 1.0931030461255524\n",
            "0.8708532423208191 - 1.0947153126565683\n",
            "0.8737523603992446 - 1.0927827786988402\n",
            "0.8681479510377861 - 1.0982882071271998\n",
            "0.860650298606503 - 1.0992852838488694\n",
            "0.8533368159853728 - 1.1069317254263542\n",
            "0.8528921380017955 - 1.1135090205446858\n",
            "0.8694291437155733 - 1.127002068879502\n",
            "0.93296853625171 - 1.1610456206084934\n",
            "0.9878230616302187 - 1.192658136446156\n",
            "MAE 0.14283569984423242\n",
            "RMSE 0.15343612476611881\n",
            "MAPE 0.15661297419586545\n",
            "R2 -17.60396672156104\n"
          ]
        },
        {
          "output_type": "execute_result",
          "data": {
            "text/plain": [
              "<matplotlib.axes._subplots.AxesSubplot at 0x7f84c6045c50>"
            ]
          },
          "metadata": {},
          "execution_count": 64
        },
        {
          "output_type": "display_data",
          "data": {
            "text/plain": [
              "<Figure size 1440x360 with 1 Axes>"
            ],
            "image/png": "[encoded data removed]"
          },
          "metadata": {
            "needs_background": "light"
          }
        }
      ]
    },
    {
      "cell_type": "markdown",
      "source": [
        "# 여기서 부터는 다른 데이터셋, 모델로 검증\n",
        "\n",
        "\n",
        "https://www.kaggle.com/datasets/ealtman2019/credit-card-transactions\n",
        "\n",
        "https://www.kaggle.com/code/vadimabronin/notebookd76fc110c7"
      ],
      "metadata": {
        "id": "fUzyeLFy7JQ5"
      }
    },
    {
      "cell_type": "code",
      "source": [
        "from google.colab import files\n",
        "\n",
        "uploaded = files.upload()\n",
        "\n",
        "for fn in uploaded.keys():\n",
        "  print('User uploaded file \"{name}\" with length {length} bytes'.format(\n",
        "      name=fn, length=len(uploaded[fn])))\n",
        "  \n",
        "# Then move kaggle.json into the folder where the API expects to find it.\n",
        "!mkdir -p ~/.kaggle/ && mv kaggle.json ~/.kaggle/ && chmod 600 ~/.kaggle/kaggle.json"
      ],
      "metadata": {
        "id": "IAm4WpBm8bVM",
        "colab": {
          "resources": {
            "http://localhost:8080/nbextensions/google.colab/files.js": {
              "data": "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",
              "ok": true,
              "headers": [
                [
                  "content-type",
                  "application/javascript"
                ]
              ],
              "status": 200,
              "status_text": ""
            }
          },
          "base_uri": "https://localhost:8080/",
          "height": 96
        },
        "outputId": "d3a1d213-3ce3-41de-e6a9-2abfbc9e05b8"
      },
      "execution_count": 62,
      "outputs": [
        {
          "output_type": "display_data",
          "data": {
            "text/plain": [
              "<IPython.core.display.HTML object>"
            ],
            "text/html": [
              "\n",
              "     <input type=\"file\" id=\"files-1cf3faf0-e311-4b36-a44c-070b4355d316\" name=\"files[]\" multiple disabled\n",
              "        style=\"border:none\" />\n",
              "     <output id=\"result-1cf3faf0-e311-4b36-a44c-070b4355d316\">\n",
              "      Upload widget is only available when the cell has been executed in the\n",
              "      current browser session. Please rerun this cell to enable.\n",
              "      </output>\n",
              "      <script src=\"/nbextensions/google.colab/files.js\"></script> "
            ]
          },
          "metadata": {}
        },
        {
          "output_type": "stream",
          "name": "stdout",
          "text": [
            "Saving kaggle.json to kaggle.json\n",
            "User uploaded file \"kaggle.json\" with length 66 bytes\n"
          ]
        }
      ]
    },
    {
      "cell_type": "code",
      "source": [
        "!kaggle datasets download \"ealtman2019/credit-card-transactions\""
      ],
      "metadata": {
        "colab": {
          "base_uri": "https://localhost:8080/"
        },
        "id": "G7RiVTOldu5Q",
        "outputId": "a74c7542-05b9-4445-f8e3-b7d90411d73f"
      },
      "execution_count": 63,
      "outputs": [
        {
          "output_type": "stream",
          "name": "stdout",
          "text": [
            "Downloading credit-card-transactions.zip to /content\n",
            " 98% 259M/263M [00:01<00:00, 211MB/s]\n",
            "100% 263M/263M [00:01<00:00, 177MB/s]\n"
          ]
        }
      ]
    },
    {
      "cell_type": "code",
      "source": [
        "!unzip credit-card-transactions.zip"
      ],
      "metadata": {
        "colab": {
          "base_uri": "https://localhost:8080/"
        },
        "id": "eXCbtZSAd2Sc",
        "outputId": "a717915f-8d39-497f-f2ab-efac833c927b"
      },
      "execution_count": 64,
      "outputs": [
        {
          "output_type": "stream",
          "name": "stdout",
          "text": [
            "Archive:  credit-card-transactions.zip\n",
            "  inflating: User0_credit_card_transactions.csv  \n",
            "  inflating: credit_card_transactions-ibm_v2.csv  \n",
            "  inflating: sd254_cards.csv         \n",
            "  inflating: sd254_users.csv         \n"
          ]
        }
      ]
    },
    {
      "cell_type": "code",
      "source": [
        "df = pd.read_csv(\"credit_card_transactions-ibm_v2.csv\")"
      ],
      "metadata": {
        "id": "zZQUG9bSd4UO"
      },
      "execution_count": 65,
      "outputs": []
    },
    {
      "cell_type": "code",
      "source": [
        "df['Year'].value_counts()"
      ],
      "metadata": {
        "colab": {
          "base_uri": "https://localhost:8080/"
        },
        "id": "ZPg9M-Xqd8pb",
        "outputId": "ab2a0b6a-476a-45b9-eda4-2fe1d6a30aa4"
      },
      "execution_count": 66,
      "outputs": [
        {
          "output_type": "execute_result",
          "data": {
            "text/plain": [
              "2019    1723938\n",
              "2017    1723360\n",
              "2018    1721615\n",
              "2016    1708924\n",
              "2015    1701371\n",
              "2014    1672343\n",
              "2013    1650917\n",
              "2012    1610829\n",
              "2011    1570551\n",
              "2010    1491225\n",
              "2009    1355434\n",
              "2008    1223460\n",
              "2007    1064483\n",
              "2006     908793\n",
              "2005     746653\n",
              "2004     597003\n",
              "2003     466408\n",
              "2002     350732\n",
              "2020     336500\n",
              "2001     257998\n",
              "2000     177729\n",
              "1999     118250\n",
              "1998      78345\n",
              "1997      49753\n",
              "1996      29945\n",
              "1995      20928\n",
              "1994      14316\n",
              "1993       8378\n",
              "1992       5134\n",
              "1991       1585\n",
              "Name: Year, dtype: int64"
            ]
          },
          "metadata": {},
          "execution_count": 66
        }
      ]
    },
    {
      "cell_type": "markdown",
      "source": [
        "## 1/30 로 축소 한다."
      ],
      "metadata": {
        "id": "g7rO5MJ3MdqM"
      }
    },
    {
      "cell_type": "code",
      "source": [
        "import numpy as np \n",
        "import pandas as pd \n",
        "import os\n",
        "import lightgbm as lgb\n",
        "from sklearn.model_selection import train_test_split\n",
        "from sklearn.metrics import classification_report"
      ],
      "metadata": {
        "id": "oupPi2-Pd-oS"
      },
      "execution_count": 68,
      "outputs": []
    },
    {
      "cell_type": "code",
      "source": [
        "df['Is Fraud?']=df['Is Fraud?'].replace({'No':0,'Yes':1}) "
      ],
      "metadata": {
        "id": "k6UR_jP0d_Uj"
      },
      "execution_count": 69,
      "outputs": []
    },
    {
      "cell_type": "code",
      "source": [
        "df1 = df[df['Is Fraud?']==1]\n",
        "df2 = df[df['Is Fraud?']==0]\n",
        "df3 = df2.sample(int(df2.shape[0]/30))\n",
        "df4 = pd.concat([df1,df3])\n",
        "\n",
        "print(\"Compression rate:\",df4.shape[0] / df.shape[0] )\n",
        "\n",
        "df = df4"
      ],
      "metadata": {
        "colab": {
          "base_uri": "https://localhost:8080/"
        },
        "id": "WqGUHxlVMmMb",
        "outputId": "88daa864-79dd-497c-9dfd-7e73f9b7bb43"
      },
      "execution_count": 70,
      "outputs": [
        {
          "output_type": "stream",
          "name": "stdout",
          "text": [
            "Compression rate: 0.034512832709364456\n"
          ]
        }
      ]
    },
    {
      "cell_type": "markdown",
      "source": [
        "## 기타 등등 전처리"
      ],
      "metadata": {
        "id": "efaqfh_-MtIZ"
      }
    },
    {
      "cell_type": "code",
      "source": [
        "df['Errors?']=df['Errors?'].fillna('NAN')\n",
        "df['Errors?']=df['Errors?'].apply(lambda value:value=='NAN')\n",
        "df['Errors?'].value_counts()"
      ],
      "metadata": {
        "colab": {
          "base_uri": "https://localhost:8080/"
        },
        "id": "eXVL_qaZeA_9",
        "outputId": "91f711b2-e368-4163-ea06-599e455c3a71"
      },
      "execution_count": 71,
      "outputs": [
        {
          "output_type": "execute_result",
          "data": {
            "text/plain": [
              "True     827618\n",
              "False     14043\n",
              "Name: Errors?, dtype: int64"
            ]
          },
          "metadata": {},
          "execution_count": 71
        }
      ]
    },
    {
      "cell_type": "code",
      "source": [
        "df['Use Chip'].unique()\n",
        "df['is online']=df['Use Chip'].apply(lambda value:value=='Online Transaction')"
      ],
      "metadata": {
        "id": "qeI5dtpzeC8_"
      },
      "execution_count": 72,
      "outputs": []
    },
    {
      "cell_type": "code",
      "source": [
        "\n",
        "from sklearn.preprocessing import LabelEncoder\n",
        "df['Use Chip']=df['Use Chip'].replace({'Swipe Transaction':0, 'Online Transaction':1, 'Chip Transaction':2})\n",
        "df['Zip'] = df['Zip'].fillna(df['Zip'].mean())  \n",
        "df['Amount'] = df['Amount'].apply(lambda value: float(value.split(\"$\")[1]))\n",
        "df['Hour'] = df['Time'].apply(lambda value: int(value.split(\":\")[0]))\n",
        "df['Minutes'] = df['Time'].apply(lambda value: int(value.split(\":\")[1]))\n",
        "df.drop(['Time'], axis=1, inplace=True)     \n",
        "df['Merchant State']=df['Merchant State'].fillna('NAN')    \n",
        "df['Merchant City']=df['Merchant City'].fillna('NAN') \n",
        "df['is vozmes']=df['Amount'].apply(lambda value: value<0)  \n",
        "df['abs_amount']=df['Amount'].apply(lambda value: abs(value))"
      ],
      "metadata": {
        "id": "Ahy50SKfeEus"
      },
      "execution_count": 73,
      "outputs": []
    },
    {
      "cell_type": "code",
      "source": [
        "#encoding categorial features\n",
        "le=LabelEncoder() \n",
        "df['Merchant State']=le.fit_transform(df['Merchant State'])\n",
        "le=LabelEncoder()\n",
        "df['Merchant City']=le.fit_transform(df['Merchant City'])\n",
        "le=LabelEncoder()\n",
        "df['Errors?']=le.fit_transform(df['Errors?'])\n",
        "le=LabelEncoder()\n",
        "df['is online']=le.fit_transform(df['is online'])\n",
        "le=LabelEncoder()\n",
        "df['is vozmes']=le.fit_transform(df['is vozmes'])"
      ],
      "metadata": {
        "id": "C9sQKM1ZeGmN"
      },
      "execution_count": 74,
      "outputs": []
    },
    {
      "cell_type": "code",
      "source": [
        "df = df.sort_values(['Year','Month','Day'])"
      ],
      "metadata": {
        "id": "vDqBmdMieJrZ"
      },
      "execution_count": 75,
      "outputs": []
    },
    {
      "cell_type": "code",
      "source": [
        "df.Year.value_counts()"
      ],
      "metadata": {
        "colab": {
          "base_uri": "https://localhost:8080/"
        },
        "id": "Q9i5CgEwtTKu",
        "outputId": "4df21694-28fa-44d9-b48a-d9d0dc15fd7c"
      },
      "execution_count": 76,
      "outputs": [
        {
          "output_type": "execute_result",
          "data": {
            "text/plain": [
              "2016    60514\n",
              "2015    59920\n",
              "2019    59531\n",
              "2018    59443\n",
              "2017    57429\n",
              "2013    57043\n",
              "2014    56774\n",
              "2012    55170\n",
              "2010    53542\n",
              "2011    52253\n",
              "2009    46346\n",
              "2008    44315\n",
              "2007    37210\n",
              "2006    31477\n",
              "2005    25193\n",
              "2004    20459\n",
              "2003    15677\n",
              "2002    11977\n",
              "2020    11279\n",
              "2001     8985\n",
              "2000     6114\n",
              "1999     4047\n",
              "1998     2624\n",
              "1997     1681\n",
              "1996      987\n",
              "1995      725\n",
              "1994      436\n",
              "1993      279\n",
              "1992      172\n",
              "1991       59\n",
              "Name: Year, dtype: int64"
            ]
          },
          "metadata": {},
          "execution_count": 76
        }
      ]
    },
    {
      "cell_type": "code",
      "source": [
        "drop_columns = ['Is Fraud?','Zip','Year','Month','Day','Minutes','User','Errors?','Merchant Name','Merchant City','Merchant State']\n",
        "X = df[df['Year']==2007].drop(drop_columns,axis=1)\n",
        "y = df[df['Year']==2007]['Is Fraud?']"
      ],
      "metadata": {
        "id": "zaMkuT79eKUr"
      },
      "execution_count": 77,
      "outputs": []
    },
    {
      "cell_type": "code",
      "source": [
        "X.info()"
      ],
      "metadata": {
        "colab": {
          "base_uri": "https://localhost:8080/"
        },
        "id": "AIN8Gx9WqnNb",
        "outputId": "42a85363-58d6-453b-c4fd-c24b57c10e03"
      },
      "execution_count": 78,
      "outputs": [
        {
          "output_type": "stream",
          "name": "stdout",
          "text": [
            "<class 'pandas.core.frame.DataFrame'>\n",
            "Int64Index: 37210 entries, 2520757 to 20741627\n",
            "Data columns (total 8 columns):\n",
            " #   Column      Non-Null Count  Dtype  \n",
            "---  ------      --------------  -----  \n",
            " 0   Card        37210 non-null  int64  \n",
            " 1   Amount      37210 non-null  float64\n",
            " 2   Use Chip    37210 non-null  int64  \n",
            " 3   MCC         37210 non-null  int64  \n",
            " 4   is online   37210 non-null  int64  \n",
            " 5   Hour        37210 non-null  int64  \n",
            " 6   is vozmes   37210 non-null  int64  \n",
            " 7   abs_amount  37210 non-null  float64\n",
            "dtypes: float64(2), int64(6)\n",
            "memory usage: 2.6 MB\n"
          ]
        }
      ]
    },
    {
      "cell_type": "code",
      "source": [
        "y_ref, y_inf, x_ref, x_inf = train_test_split(y.values, X.values, test_size=0.30, random_state=23543)"
      ],
      "metadata": {
        "id": "9_egXthveXHI"
      },
      "execution_count": 79,
      "outputs": []
    },
    {
      "cell_type": "code",
      "source": [
        "!pip install catboost"
      ],
      "metadata": {
        "colab": {
          "base_uri": "https://localhost:8080/"
        },
        "id": "B7CqCtJTeeWt",
        "outputId": "6ddf23a3-283f-4de2-f8c0-556d0fc3da16"
      },
      "execution_count": 80,
      "outputs": [
        {
          "output_type": "stream",
          "name": "stdout",
          "text": [
            "Looking in indexes: https://pypi.org/simple, https://us-python.pkg.dev/colab-wheels/public/simple/\n",
            "Collecting catboost\n",
            "  Downloading catboost-1.0.6-cp37-none-manylinux1_x86_64.whl (76.6 MB)\n",
            "\u001b[K     |████████████████████████████████| 76.6 MB 67 kB/s \n",
            "\u001b[?25hRequirement already satisfied: scipy in /usr/local/lib/python3.7/dist-packages (from catboost) (1.4.1)\n",
            "Requirement already satisfied: plotly in /usr/local/lib/python3.7/dist-packages (from catboost) (5.5.0)\n",
            "Requirement already satisfied: six in /usr/local/lib/python3.7/dist-packages (from catboost) (1.15.0)\n",
            "Requirement already satisfied: matplotlib in /usr/local/lib/python3.7/dist-packages (from catboost) (3.2.2)\n",
            "Requirement already satisfied: pandas>=0.24.0 in /usr/local/lib/python3.7/dist-packages (from catboost) (1.3.5)\n",
            "Requirement already satisfied: graphviz in /usr/local/lib/python3.7/dist-packages (from catboost) (0.10.1)\n",
            "Requirement already satisfied: numpy>=1.16.0 in /usr/local/lib/python3.7/dist-packages (from catboost) (1.21.6)\n",
            "Requirement already satisfied: python-dateutil>=2.7.3 in /usr/local/lib/python3.7/dist-packages (from pandas>=0.24.0->catboost) (2.8.2)\n",
            "Requirement already satisfied: pytz>=2017.3 in /usr/local/lib/python3.7/dist-packages (from pandas>=0.24.0->catboost) (2022.1)\n",
            "Requirement already satisfied: cycler>=0.10 in /usr/local/lib/python3.7/dist-packages (from matplotlib->catboost) (0.11.0)\n",
            "Requirement already satisfied: kiwisolver>=1.0.1 in /usr/local/lib/python3.7/dist-packages (from matplotlib->catboost) (1.4.3)\n",
            "Requirement already satisfied: pyparsing!=2.0.4,!=2.1.2,!=2.1.6,>=2.0.1 in /usr/local/lib/python3.7/dist-packages (from matplotlib->catboost) (3.0.9)\n",
            "Requirement already satisfied: typing-extensions in /usr/local/lib/python3.7/dist-packages (from kiwisolver>=1.0.1->matplotlib->catboost) (4.1.1)\n",
            "Requirement already satisfied: tenacity>=6.2.0 in /usr/local/lib/python3.7/dist-packages (from plotly->catboost) (8.0.1)\n",
            "Installing collected packages: catboost\n",
            "Successfully installed catboost-1.0.6\n"
          ]
        }
      ]
    },
    {
      "cell_type": "code",
      "source": [
        "#cat boost classifier\n",
        "\n",
        "from catboost import CatBoostClassifier\n",
        "cat = CatBoostClassifier()\n",
        "cat.fit(x_ref, y_ref,plot=True) \n",
        "y_pred=cat.predict(x_inf)\n",
        "print(classification_report(y_inf, y_pred))  "
      ],
      "metadata": {
        "colab": {
          "base_uri": "https://localhost:8080/",
          "height": 1000,
          "referenced_widgets": [
            "f807782517164610ac3209f0b7fbb446"
          ]
        },
        "id": "hjSk2vzQeewx",
        "outputId": "1089e25c-6792-46b6-c9fe-fbb085898900"
      },
      "execution_count": 81,
      "outputs": [
        {
          "output_type": "display_data",
          "data": {
            "text/plain": [
              "MetricVisualizer(layout=Layout(align_self='stretch', height='500px'))"
            ],
            "application/vnd.jupyter.widget-view+json": {
              "version_major": 2,
              "version_minor": 0,
              "model_id": "f807782517164610ac3209f0b7fbb446"
            }
          },
          "metadata": {}
        },
        {
          "output_type": "stream",
          "name": "stdout",
          "text": [
            "Learning rate set to 0.041444\n",
            "0:\tlearn: 0.6169236\ttotal: 53.2ms\tremaining: 53.2s\n",
            "1:\tlearn: 0.5534213\ttotal: 58.2ms\tremaining: 29.1s\n",
            "2:\tlearn: 0.4979602\ttotal: 63.9ms\tremaining: 21.2s\n",
            "3:\tlearn: 0.4506618\ttotal: 69.5ms\tremaining: 17.3s\n",
            "4:\tlearn: 0.4089695\ttotal: 74.9ms\tremaining: 14.9s\n",
            "5:\tlearn: 0.3717227\ttotal: 80.3ms\tremaining: 13.3s\n",
            "6:\tlearn: 0.3404141\ttotal: 85.7ms\tremaining: 12.2s\n",
            "7:\tlearn: 0.3130730\ttotal: 91.2ms\tremaining: 11.3s\n",
            "8:\tlearn: 0.2902092\ttotal: 96.4ms\tremaining: 10.6s\n",
            "9:\tlearn: 0.2693051\ttotal: 102ms\tremaining: 10.1s\n",
            "10:\tlearn: 0.2512499\ttotal: 107ms\tremaining: 9.63s\n",
            "11:\tlearn: 0.2357647\ttotal: 113ms\tremaining: 9.32s\n",
            "12:\tlearn: 0.2224671\ttotal: 119ms\tremaining: 9.06s\n",
            "13:\tlearn: 0.2118775\ttotal: 125ms\tremaining: 8.77s\n",
            "14:\tlearn: 0.2024084\ttotal: 130ms\tremaining: 8.52s\n",
            "15:\tlearn: 0.1934792\ttotal: 136ms\tremaining: 8.35s\n",
            "16:\tlearn: 0.1850384\ttotal: 141ms\tremaining: 8.14s\n",
            "17:\tlearn: 0.1779969\ttotal: 146ms\tremaining: 7.95s\n",
            "18:\tlearn: 0.1721436\ttotal: 151ms\tremaining: 7.81s\n",
            "19:\tlearn: 0.1663519\ttotal: 157ms\tremaining: 7.68s\n",
            "20:\tlearn: 0.1607803\ttotal: 162ms\tremaining: 7.56s\n",
            "21:\tlearn: 0.1561784\ttotal: 167ms\tremaining: 7.44s\n",
            "22:\tlearn: 0.1515656\ttotal: 174ms\tremaining: 7.37s\n",
            "23:\tlearn: 0.1479915\ttotal: 180ms\tremaining: 7.33s\n",
            "24:\tlearn: 0.1444987\ttotal: 187ms\tremaining: 7.29s\n",
            "25:\tlearn: 0.1417292\ttotal: 194ms\tremaining: 7.26s\n",
            "26:\tlearn: 0.1382684\ttotal: 203ms\tremaining: 7.31s\n",
            "27:\tlearn: 0.1353569\ttotal: 210ms\tremaining: 7.28s\n",
            "28:\tlearn: 0.1328813\ttotal: 215ms\tremaining: 7.21s\n",
            "29:\tlearn: 0.1305624\ttotal: 221ms\tremaining: 7.13s\n",
            "30:\tlearn: 0.1288259\ttotal: 226ms\tremaining: 7.08s\n",
            "31:\tlearn: 0.1271779\ttotal: 232ms\tremaining: 7.03s\n",
            "32:\tlearn: 0.1261728\ttotal: 238ms\tremaining: 6.98s\n",
            "33:\tlearn: 0.1244674\ttotal: 248ms\tremaining: 7.04s\n",
            "34:\tlearn: 0.1232262\ttotal: 253ms\tremaining: 6.98s\n",
            "35:\tlearn: 0.1220211\ttotal: 258ms\tremaining: 6.91s\n",
            "36:\tlearn: 0.1205253\ttotal: 263ms\tremaining: 6.86s\n",
            "37:\tlearn: 0.1194806\ttotal: 269ms\tremaining: 6.8s\n",
            "38:\tlearn: 0.1184828\ttotal: 274ms\tremaining: 6.75s\n",
            "39:\tlearn: 0.1173500\ttotal: 279ms\tremaining: 6.7s\n",
            "40:\tlearn: 0.1166432\ttotal: 285ms\tremaining: 6.66s\n",
            "41:\tlearn: 0.1158760\ttotal: 290ms\tremaining: 6.61s\n",
            "42:\tlearn: 0.1152776\ttotal: 295ms\tremaining: 6.56s\n",
            "43:\tlearn: 0.1146645\ttotal: 300ms\tremaining: 6.52s\n",
            "44:\tlearn: 0.1137449\ttotal: 306ms\tremaining: 6.5s\n",
            "45:\tlearn: 0.1131877\ttotal: 312ms\tremaining: 6.47s\n",
            "46:\tlearn: 0.1126452\ttotal: 318ms\tremaining: 6.45s\n",
            "47:\tlearn: 0.1122630\ttotal: 324ms\tremaining: 6.42s\n",
            "48:\tlearn: 0.1116963\ttotal: 330ms\tremaining: 6.4s\n",
            "49:\tlearn: 0.1104556\ttotal: 335ms\tremaining: 6.37s\n",
            "50:\tlearn: 0.1100083\ttotal: 341ms\tremaining: 6.35s\n",
            "51:\tlearn: 0.1097758\ttotal: 347ms\tremaining: 6.32s\n",
            "52:\tlearn: 0.1090711\ttotal: 352ms\tremaining: 6.29s\n",
            "53:\tlearn: 0.1086674\ttotal: 358ms\tremaining: 6.26s\n",
            "54:\tlearn: 0.1082903\ttotal: 363ms\tremaining: 6.24s\n",
            "55:\tlearn: 0.1078154\ttotal: 369ms\tremaining: 6.22s\n",
            "56:\tlearn: 0.1073659\ttotal: 375ms\tremaining: 6.2s\n",
            "57:\tlearn: 0.1070773\ttotal: 380ms\tremaining: 6.17s\n",
            "58:\tlearn: 0.1066662\ttotal: 385ms\tremaining: 6.15s\n",
            "59:\tlearn: 0.1060543\ttotal: 391ms\tremaining: 6.13s\n",
            "60:\tlearn: 0.1058869\ttotal: 398ms\tremaining: 6.13s\n",
            "61:\tlearn: 0.1055975\ttotal: 406ms\tremaining: 6.15s\n",
            "62:\tlearn: 0.1053776\ttotal: 414ms\tremaining: 6.16s\n",
            "63:\tlearn: 0.1051883\ttotal: 422ms\tremaining: 6.17s\n",
            "64:\tlearn: 0.1049575\ttotal: 427ms\tremaining: 6.14s\n",
            "65:\tlearn: 0.1045958\ttotal: 432ms\tremaining: 6.12s\n",
            "66:\tlearn: 0.1043450\ttotal: 438ms\tremaining: 6.1s\n",
            "67:\tlearn: 0.1041181\ttotal: 443ms\tremaining: 6.07s\n",
            "68:\tlearn: 0.1036399\ttotal: 448ms\tremaining: 6.05s\n",
            "69:\tlearn: 0.1034543\ttotal: 453ms\tremaining: 6.02s\n",
            "70:\tlearn: 0.1032035\ttotal: 459ms\tremaining: 6s\n",
            "71:\tlearn: 0.1030247\ttotal: 464ms\tremaining: 5.97s\n",
            "72:\tlearn: 0.1029230\ttotal: 469ms\tremaining: 5.96s\n",
            "73:\tlearn: 0.1027522\ttotal: 474ms\tremaining: 5.93s\n",
            "74:\tlearn: 0.1025542\ttotal: 479ms\tremaining: 5.91s\n",
            "75:\tlearn: 0.1022793\ttotal: 484ms\tremaining: 5.89s\n",
            "76:\tlearn: 0.1021660\ttotal: 489ms\tremaining: 5.87s\n",
            "77:\tlearn: 0.1019315\ttotal: 495ms\tremaining: 5.84s\n",
            "78:\tlearn: 0.1014515\ttotal: 500ms\tremaining: 5.83s\n",
            "79:\tlearn: 0.1012937\ttotal: 505ms\tremaining: 5.81s\n",
            "80:\tlearn: 0.1012028\ttotal: 511ms\tremaining: 5.8s\n",
            "81:\tlearn: 0.1010268\ttotal: 517ms\tremaining: 5.79s\n",
            "82:\tlearn: 0.1008445\ttotal: 522ms\tremaining: 5.77s\n",
            "83:\tlearn: 0.1006728\ttotal: 528ms\tremaining: 5.76s\n",
            "84:\tlearn: 0.1004911\ttotal: 534ms\tremaining: 5.74s\n",
            "85:\tlearn: 0.1004031\ttotal: 545ms\tremaining: 5.79s\n",
            "86:\tlearn: 0.1003045\ttotal: 553ms\tremaining: 5.8s\n",
            "87:\tlearn: 0.1001742\ttotal: 558ms\tremaining: 5.79s\n",
            "88:\tlearn: 0.1000850\ttotal: 564ms\tremaining: 5.77s\n",
            "89:\tlearn: 0.0999386\ttotal: 570ms\tremaining: 5.76s\n",
            "90:\tlearn: 0.0997190\ttotal: 575ms\tremaining: 5.74s\n",
            "91:\tlearn: 0.0993786\ttotal: 580ms\tremaining: 5.73s\n",
            "92:\tlearn: 0.0992826\ttotal: 585ms\tremaining: 5.71s\n",
            "93:\tlearn: 0.0991248\ttotal: 591ms\tremaining: 5.69s\n",
            "94:\tlearn: 0.0987562\ttotal: 599ms\tremaining: 5.71s\n",
            "95:\tlearn: 0.0985920\ttotal: 605ms\tremaining: 5.7s\n",
            "96:\tlearn: 0.0984913\ttotal: 611ms\tremaining: 5.69s\n",
            "97:\tlearn: 0.0983442\ttotal: 619ms\tremaining: 5.69s\n",
            "98:\tlearn: 0.0981451\ttotal: 628ms\tremaining: 5.71s\n",
            "99:\tlearn: 0.0979232\ttotal: 633ms\tremaining: 5.7s\n",
            "100:\tlearn: 0.0978827\ttotal: 638ms\tremaining: 5.68s\n",
            "101:\tlearn: 0.0977349\ttotal: 644ms\tremaining: 5.67s\n",
            "102:\tlearn: 0.0973440\ttotal: 651ms\tremaining: 5.67s\n",
            "103:\tlearn: 0.0971866\ttotal: 657ms\tremaining: 5.66s\n",
            "104:\tlearn: 0.0970014\ttotal: 663ms\tremaining: 5.65s\n",
            "105:\tlearn: 0.0968302\ttotal: 668ms\tremaining: 5.63s\n",
            "106:\tlearn: 0.0965269\ttotal: 674ms\tremaining: 5.63s\n",
            "107:\tlearn: 0.0964339\ttotal: 680ms\tremaining: 5.62s\n",
            "108:\tlearn: 0.0962601\ttotal: 685ms\tremaining: 5.6s\n",
            "109:\tlearn: 0.0961436\ttotal: 692ms\tremaining: 5.59s\n",
            "110:\tlearn: 0.0959350\ttotal: 699ms\tremaining: 5.6s\n",
            "111:\tlearn: 0.0957538\ttotal: 706ms\tremaining: 5.6s\n",
            "112:\tlearn: 0.0955953\ttotal: 712ms\tremaining: 5.59s\n",
            "113:\tlearn: 0.0955121\ttotal: 718ms\tremaining: 5.58s\n",
            "114:\tlearn: 0.0953347\ttotal: 723ms\tremaining: 5.57s\n",
            "115:\tlearn: 0.0948863\ttotal: 729ms\tremaining: 5.55s\n",
            "116:\tlearn: 0.0947547\ttotal: 734ms\tremaining: 5.54s\n",
            "117:\tlearn: 0.0946815\ttotal: 740ms\tremaining: 5.53s\n",
            "118:\tlearn: 0.0943263\ttotal: 745ms\tremaining: 5.52s\n",
            "119:\tlearn: 0.0942275\ttotal: 750ms\tremaining: 5.5s\n",
            "120:\tlearn: 0.0940607\ttotal: 756ms\tremaining: 5.49s\n",
            "121:\tlearn: 0.0938976\ttotal: 762ms\tremaining: 5.48s\n",
            "122:\tlearn: 0.0938119\ttotal: 768ms\tremaining: 5.47s\n",
            "123:\tlearn: 0.0937145\ttotal: 773ms\tremaining: 5.46s\n",
            "124:\tlearn: 0.0936787\ttotal: 779ms\tremaining: 5.45s\n",
            "125:\tlearn: 0.0935923\ttotal: 784ms\tremaining: 5.44s\n",
            "126:\tlearn: 0.0933519\ttotal: 790ms\tremaining: 5.43s\n",
            "127:\tlearn: 0.0932291\ttotal: 800ms\tremaining: 5.45s\n",
            "128:\tlearn: 0.0930940\ttotal: 807ms\tremaining: 5.45s\n",
            "129:\tlearn: 0.0930101\ttotal: 813ms\tremaining: 5.44s\n",
            "130:\tlearn: 0.0928771\ttotal: 818ms\tremaining: 5.43s\n",
            "131:\tlearn: 0.0927613\ttotal: 823ms\tremaining: 5.41s\n",
            "132:\tlearn: 0.0926521\ttotal: 829ms\tremaining: 5.4s\n",
            "133:\tlearn: 0.0924982\ttotal: 834ms\tremaining: 5.39s\n",
            "134:\tlearn: 0.0923409\ttotal: 839ms\tremaining: 5.38s\n",
            "135:\tlearn: 0.0922196\ttotal: 845ms\tremaining: 5.37s\n",
            "136:\tlearn: 0.0921474\ttotal: 850ms\tremaining: 5.36s\n",
            "137:\tlearn: 0.0920674\ttotal: 856ms\tremaining: 5.34s\n",
            "138:\tlearn: 0.0919365\ttotal: 861ms\tremaining: 5.33s\n",
            "139:\tlearn: 0.0918269\ttotal: 867ms\tremaining: 5.32s\n",
            "140:\tlearn: 0.0917303\ttotal: 872ms\tremaining: 5.31s\n",
            "141:\tlearn: 0.0916388\ttotal: 878ms\tremaining: 5.31s\n",
            "142:\tlearn: 0.0915366\ttotal: 883ms\tremaining: 5.29s\n",
            "143:\tlearn: 0.0914610\ttotal: 889ms\tremaining: 5.28s\n",
            "144:\tlearn: 0.0912216\ttotal: 894ms\tremaining: 5.27s\n",
            "145:\tlearn: 0.0911823\ttotal: 900ms\tremaining: 5.26s\n",
            "146:\tlearn: 0.0911214\ttotal: 905ms\tremaining: 5.25s\n",
            "147:\tlearn: 0.0909675\ttotal: 910ms\tremaining: 5.24s\n",
            "148:\tlearn: 0.0908833\ttotal: 916ms\tremaining: 5.23s\n",
            "149:\tlearn: 0.0907670\ttotal: 921ms\tremaining: 5.22s\n",
            "150:\tlearn: 0.0906999\ttotal: 927ms\tremaining: 5.21s\n",
            "151:\tlearn: 0.0905526\ttotal: 931ms\tremaining: 5.2s\n",
            "152:\tlearn: 0.0904094\ttotal: 937ms\tremaining: 5.18s\n",
            "153:\tlearn: 0.0902619\ttotal: 942ms\tremaining: 5.17s\n",
            "154:\tlearn: 0.0901469\ttotal: 948ms\tremaining: 5.17s\n",
            "155:\tlearn: 0.0900630\ttotal: 962ms\tremaining: 5.2s\n",
            "156:\tlearn: 0.0900259\ttotal: 969ms\tremaining: 5.2s\n",
            "157:\tlearn: 0.0899608\ttotal: 974ms\tremaining: 5.19s\n",
            "158:\tlearn: 0.0899201\ttotal: 979ms\tremaining: 5.18s\n",
            "159:\tlearn: 0.0898129\ttotal: 984ms\tremaining: 5.16s\n",
            "160:\tlearn: 0.0896348\ttotal: 989ms\tremaining: 5.15s\n",
            "161:\tlearn: 0.0895820\ttotal: 994ms\tremaining: 5.14s\n",
            "162:\tlearn: 0.0894172\ttotal: 1s\tremaining: 5.14s\n",
            "163:\tlearn: 0.0893524\ttotal: 1.01s\tremaining: 5.13s\n",
            "164:\tlearn: 0.0892908\ttotal: 1.01s\tremaining: 5.13s\n",
            "165:\tlearn: 0.0891881\ttotal: 1.02s\tremaining: 5.12s\n",
            "166:\tlearn: 0.0891214\ttotal: 1.02s\tremaining: 5.11s\n",
            "167:\tlearn: 0.0890632\ttotal: 1.03s\tremaining: 5.1s\n",
            "168:\tlearn: 0.0889800\ttotal: 1.03s\tremaining: 5.09s\n",
            "169:\tlearn: 0.0888689\ttotal: 1.04s\tremaining: 5.08s\n",
            "170:\tlearn: 0.0888305\ttotal: 1.05s\tremaining: 5.07s\n",
            "171:\tlearn: 0.0886952\ttotal: 1.05s\tremaining: 5.07s\n",
            "172:\tlearn: 0.0886173\ttotal: 1.06s\tremaining: 5.07s\n",
            "173:\tlearn: 0.0885355\ttotal: 1.06s\tremaining: 5.06s\n",
            "174:\tlearn: 0.0883511\ttotal: 1.07s\tremaining: 5.06s\n",
            "175:\tlearn: 0.0882640\ttotal: 1.08s\tremaining: 5.05s\n",
            "176:\tlearn: 0.0881928\ttotal: 1.08s\tremaining: 5.04s\n",
            "177:\tlearn: 0.0880971\ttotal: 1.09s\tremaining: 5.03s\n",
            "178:\tlearn: 0.0880657\ttotal: 1.09s\tremaining: 5.02s\n",
            "179:\tlearn: 0.0879669\ttotal: 1.1s\tremaining: 5.01s\n",
            "180:\tlearn: 0.0879183\ttotal: 1.11s\tremaining: 5.01s\n",
            "181:\tlearn: 0.0878363\ttotal: 1.11s\tremaining: 5s\n",
            "182:\tlearn: 0.0877652\ttotal: 1.12s\tremaining: 4.99s\n",
            "183:\tlearn: 0.0876365\ttotal: 1.12s\tremaining: 4.99s\n",
            "184:\tlearn: 0.0876080\ttotal: 1.13s\tremaining: 4.98s\n",
            "185:\tlearn: 0.0875019\ttotal: 1.14s\tremaining: 4.97s\n",
            "186:\tlearn: 0.0874165\ttotal: 1.14s\tremaining: 4.96s\n",
            "187:\tlearn: 0.0873190\ttotal: 1.15s\tremaining: 4.95s\n",
            "188:\tlearn: 0.0872541\ttotal: 1.15s\tremaining: 4.94s\n",
            "189:\tlearn: 0.0870455\ttotal: 1.16s\tremaining: 4.93s\n",
            "190:\tlearn: 0.0870011\ttotal: 1.16s\tremaining: 4.93s\n",
            "191:\tlearn: 0.0869515\ttotal: 1.17s\tremaining: 4.93s\n",
            "192:\tlearn: 0.0869034\ttotal: 1.18s\tremaining: 4.93s\n",
            "193:\tlearn: 0.0868511\ttotal: 1.19s\tremaining: 4.92s\n",
            "194:\tlearn: 0.0867518\ttotal: 1.19s\tremaining: 4.93s\n",
            "195:\tlearn: 0.0866117\ttotal: 1.2s\tremaining: 4.93s\n",
            "196:\tlearn: 0.0865207\ttotal: 1.21s\tremaining: 4.92s\n",
            "197:\tlearn: 0.0864567\ttotal: 1.22s\tremaining: 4.92s\n",
            "198:\tlearn: 0.0863777\ttotal: 1.22s\tremaining: 4.92s\n",
            "199:\tlearn: 0.0863074\ttotal: 1.23s\tremaining: 4.91s\n",
            "200:\tlearn: 0.0861886\ttotal: 1.23s\tremaining: 4.9s\n",
            "201:\tlearn: 0.0861427\ttotal: 1.24s\tremaining: 4.89s\n",
            "202:\tlearn: 0.0859459\ttotal: 1.24s\tremaining: 4.88s\n",
            "203:\tlearn: 0.0858880\ttotal: 1.25s\tremaining: 4.87s\n",
            "204:\tlearn: 0.0858662\ttotal: 1.25s\tremaining: 4.86s\n",
            "205:\tlearn: 0.0858278\ttotal: 1.26s\tremaining: 4.85s\n",
            "206:\tlearn: 0.0856958\ttotal: 1.26s\tremaining: 4.84s\n",
            "207:\tlearn: 0.0856351\ttotal: 1.27s\tremaining: 4.84s\n",
            "208:\tlearn: 0.0855760\ttotal: 1.27s\tremaining: 4.83s\n",
            "209:\tlearn: 0.0853959\ttotal: 1.28s\tremaining: 4.82s\n",
            "210:\tlearn: 0.0851282\ttotal: 1.29s\tremaining: 4.81s\n",
            "211:\tlearn: 0.0850990\ttotal: 1.29s\tremaining: 4.8s\n",
            "212:\tlearn: 0.0850568\ttotal: 1.3s\tremaining: 4.79s\n",
            "213:\tlearn: 0.0850022\ttotal: 1.3s\tremaining: 4.78s\n",
            "214:\tlearn: 0.0849332\ttotal: 1.31s\tremaining: 4.77s\n",
            "215:\tlearn: 0.0848070\ttotal: 1.31s\tremaining: 4.76s\n",
            "216:\tlearn: 0.0847386\ttotal: 1.32s\tremaining: 4.76s\n",
            "217:\tlearn: 0.0846910\ttotal: 1.32s\tremaining: 4.75s\n",
            "218:\tlearn: 0.0846374\ttotal: 1.33s\tremaining: 4.74s\n",
            "219:\tlearn: 0.0845693\ttotal: 1.33s\tremaining: 4.73s\n",
            "220:\tlearn: 0.0844354\ttotal: 1.34s\tremaining: 4.72s\n",
            "221:\tlearn: 0.0842283\ttotal: 1.34s\tremaining: 4.71s\n",
            "222:\tlearn: 0.0841564\ttotal: 1.35s\tremaining: 4.7s\n",
            "223:\tlearn: 0.0840918\ttotal: 1.35s\tremaining: 4.7s\n",
            "224:\tlearn: 0.0840222\ttotal: 1.36s\tremaining: 4.69s\n",
            "225:\tlearn: 0.0838839\ttotal: 1.37s\tremaining: 4.68s\n",
            "226:\tlearn: 0.0838097\ttotal: 1.37s\tremaining: 4.67s\n",
            "227:\tlearn: 0.0837411\ttotal: 1.38s\tremaining: 4.67s\n",
            "228:\tlearn: 0.0836473\ttotal: 1.38s\tremaining: 4.66s\n",
            "229:\tlearn: 0.0835631\ttotal: 1.39s\tremaining: 4.66s\n",
            "230:\tlearn: 0.0835001\ttotal: 1.4s\tremaining: 4.65s\n",
            "231:\tlearn: 0.0834731\ttotal: 1.4s\tremaining: 4.64s\n",
            "232:\tlearn: 0.0834414\ttotal: 1.41s\tremaining: 4.64s\n",
            "233:\tlearn: 0.0833943\ttotal: 1.42s\tremaining: 4.63s\n",
            "234:\tlearn: 0.0832994\ttotal: 1.42s\tremaining: 4.63s\n",
            "235:\tlearn: 0.0832609\ttotal: 1.43s\tremaining: 4.62s\n",
            "236:\tlearn: 0.0832007\ttotal: 1.43s\tremaining: 4.61s\n",
            "237:\tlearn: 0.0831300\ttotal: 1.44s\tremaining: 4.6s\n",
            "238:\tlearn: 0.0830201\ttotal: 1.44s\tremaining: 4.59s\n",
            "239:\tlearn: 0.0829520\ttotal: 1.45s\tremaining: 4.59s\n",
            "240:\tlearn: 0.0828615\ttotal: 1.45s\tremaining: 4.58s\n",
            "241:\tlearn: 0.0828331\ttotal: 1.46s\tremaining: 4.57s\n",
            "242:\tlearn: 0.0826172\ttotal: 1.47s\tremaining: 4.57s\n",
            "243:\tlearn: 0.0825430\ttotal: 1.47s\tremaining: 4.56s\n",
            "244:\tlearn: 0.0824193\ttotal: 1.48s\tremaining: 4.55s\n",
            "245:\tlearn: 0.0823481\ttotal: 1.48s\tremaining: 4.54s\n",
            "246:\tlearn: 0.0823232\ttotal: 1.49s\tremaining: 4.54s\n",
            "247:\tlearn: 0.0822488\ttotal: 1.5s\tremaining: 4.54s\n",
            "248:\tlearn: 0.0822031\ttotal: 1.5s\tremaining: 4.53s\n",
            "249:\tlearn: 0.0821175\ttotal: 1.51s\tremaining: 4.52s\n",
            "250:\tlearn: 0.0820535\ttotal: 1.51s\tremaining: 4.51s\n",
            "251:\tlearn: 0.0820166\ttotal: 1.52s\tremaining: 4.5s\n",
            "252:\tlearn: 0.0819940\ttotal: 1.52s\tremaining: 4.5s\n",
            "253:\tlearn: 0.0819126\ttotal: 1.53s\tremaining: 4.49s\n",
            "254:\tlearn: 0.0818603\ttotal: 1.53s\tremaining: 4.48s\n",
            "255:\tlearn: 0.0817401\ttotal: 1.54s\tremaining: 4.47s\n",
            "256:\tlearn: 0.0817097\ttotal: 1.54s\tremaining: 4.46s\n",
            "257:\tlearn: 0.0815992\ttotal: 1.55s\tremaining: 4.45s\n",
            "258:\tlearn: 0.0815290\ttotal: 1.56s\tremaining: 4.45s\n",
            "259:\tlearn: 0.0814576\ttotal: 1.56s\tremaining: 4.45s\n",
            "260:\tlearn: 0.0814284\ttotal: 1.57s\tremaining: 4.44s\n",
            "261:\tlearn: 0.0813836\ttotal: 1.57s\tremaining: 4.44s\n",
            "262:\tlearn: 0.0813126\ttotal: 1.58s\tremaining: 4.43s\n",
            "263:\tlearn: 0.0812185\ttotal: 1.59s\tremaining: 4.43s\n",
            "264:\tlearn: 0.0811717\ttotal: 1.6s\tremaining: 4.43s\n",
            "265:\tlearn: 0.0810944\ttotal: 1.6s\tremaining: 4.43s\n",
            "266:\tlearn: 0.0810431\ttotal: 1.61s\tremaining: 4.42s\n",
            "267:\tlearn: 0.0810191\ttotal: 1.62s\tremaining: 4.42s\n",
            "268:\tlearn: 0.0809484\ttotal: 1.62s\tremaining: 4.41s\n",
            "269:\tlearn: 0.0808764\ttotal: 1.63s\tremaining: 4.41s\n",
            "270:\tlearn: 0.0808142\ttotal: 1.64s\tremaining: 4.4s\n",
            "271:\tlearn: 0.0807200\ttotal: 1.64s\tremaining: 4.4s\n",
            "272:\tlearn: 0.0806911\ttotal: 1.65s\tremaining: 4.39s\n",
            "273:\tlearn: 0.0806264\ttotal: 1.66s\tremaining: 4.39s\n",
            "274:\tlearn: 0.0806036\ttotal: 1.66s\tremaining: 4.38s\n",
            "275:\tlearn: 0.0805717\ttotal: 1.67s\tremaining: 4.38s\n",
            "276:\tlearn: 0.0805348\ttotal: 1.68s\tremaining: 4.37s\n",
            "277:\tlearn: 0.0804674\ttotal: 1.68s\tremaining: 4.37s\n",
            "278:\tlearn: 0.0804162\ttotal: 1.69s\tremaining: 4.36s\n",
            "279:\tlearn: 0.0803834\ttotal: 1.69s\tremaining: 4.36s\n",
            "280:\tlearn: 0.0802887\ttotal: 1.7s\tremaining: 4.35s\n",
            "281:\tlearn: 0.0802594\ttotal: 1.71s\tremaining: 4.35s\n",
            "282:\tlearn: 0.0802289\ttotal: 1.72s\tremaining: 4.35s\n",
            "283:\tlearn: 0.0802006\ttotal: 1.72s\tremaining: 4.34s\n",
            "284:\tlearn: 0.0801262\ttotal: 1.73s\tremaining: 4.34s\n",
            "285:\tlearn: 0.0800743\ttotal: 1.74s\tremaining: 4.33s\n",
            "286:\tlearn: 0.0800503\ttotal: 1.74s\tremaining: 4.33s\n",
            "287:\tlearn: 0.0800232\ttotal: 1.75s\tremaining: 4.33s\n",
            "288:\tlearn: 0.0799640\ttotal: 1.76s\tremaining: 4.32s\n",
            "289:\tlearn: 0.0799082\ttotal: 1.76s\tremaining: 4.31s\n",
            "290:\tlearn: 0.0798857\ttotal: 1.77s\tremaining: 4.31s\n",
            "291:\tlearn: 0.0797994\ttotal: 1.77s\tremaining: 4.3s\n",
            "292:\tlearn: 0.0797460\ttotal: 1.78s\tremaining: 4.3s\n",
            "293:\tlearn: 0.0796433\ttotal: 1.8s\tremaining: 4.32s\n",
            "294:\tlearn: 0.0795564\ttotal: 1.8s\tremaining: 4.31s\n",
            "295:\tlearn: 0.0794946\ttotal: 1.81s\tremaining: 4.31s\n",
            "296:\tlearn: 0.0794681\ttotal: 1.82s\tremaining: 4.3s\n",
            "297:\tlearn: 0.0794219\ttotal: 1.82s\tremaining: 4.3s\n",
            "298:\tlearn: 0.0793451\ttotal: 1.83s\tremaining: 4.29s\n",
            "299:\tlearn: 0.0792947\ttotal: 1.84s\tremaining: 4.29s\n",
            "300:\tlearn: 0.0792435\ttotal: 1.85s\tremaining: 4.29s\n",
            "301:\tlearn: 0.0792216\ttotal: 1.85s\tremaining: 4.29s\n",
            "302:\tlearn: 0.0791778\ttotal: 1.86s\tremaining: 4.28s\n",
            "303:\tlearn: 0.0791452\ttotal: 1.87s\tremaining: 4.28s\n",
            "304:\tlearn: 0.0791212\ttotal: 1.87s\tremaining: 4.27s\n",
            "305:\tlearn: 0.0790573\ttotal: 1.88s\tremaining: 4.26s\n",
            "306:\tlearn: 0.0790435\ttotal: 1.88s\tremaining: 4.25s\n",
            "307:\tlearn: 0.0790214\ttotal: 1.89s\tremaining: 4.24s\n",
            "308:\tlearn: 0.0789800\ttotal: 1.89s\tremaining: 4.24s\n",
            "309:\tlearn: 0.0789603\ttotal: 1.9s\tremaining: 4.23s\n",
            "310:\tlearn: 0.0789041\ttotal: 1.91s\tremaining: 4.22s\n",
            "311:\tlearn: 0.0788669\ttotal: 1.92s\tremaining: 4.24s\n",
            "312:\tlearn: 0.0788128\ttotal: 1.93s\tremaining: 4.24s\n",
            "313:\tlearn: 0.0787184\ttotal: 1.94s\tremaining: 4.23s\n",
            "314:\tlearn: 0.0787002\ttotal: 1.94s\tremaining: 4.22s\n",
            "315:\tlearn: 0.0786597\ttotal: 1.95s\tremaining: 4.21s\n",
            "316:\tlearn: 0.0786109\ttotal: 1.95s\tremaining: 4.21s\n",
            "317:\tlearn: 0.0785756\ttotal: 1.96s\tremaining: 4.2s\n",
            "318:\tlearn: 0.0785155\ttotal: 1.96s\tremaining: 4.19s\n",
            "319:\tlearn: 0.0784370\ttotal: 1.98s\tremaining: 4.2s\n",
            "320:\tlearn: 0.0784166\ttotal: 1.99s\tremaining: 4.2s\n",
            "321:\tlearn: 0.0784022\ttotal: 2s\tremaining: 4.2s\n",
            "322:\tlearn: 0.0783740\ttotal: 2s\tremaining: 4.2s\n",
            "323:\tlearn: 0.0782758\ttotal: 2.01s\tremaining: 4.19s\n",
            "324:\tlearn: 0.0782588\ttotal: 2.02s\tremaining: 4.19s\n",
            "325:\tlearn: 0.0782122\ttotal: 2.02s\tremaining: 4.19s\n",
            "326:\tlearn: 0.0781765\ttotal: 2.04s\tremaining: 4.2s\n",
            "327:\tlearn: 0.0781206\ttotal: 2.05s\tremaining: 4.2s\n",
            "328:\tlearn: 0.0780873\ttotal: 2.06s\tremaining: 4.2s\n",
            "329:\tlearn: 0.0780662\ttotal: 2.06s\tremaining: 4.19s\n",
            "330:\tlearn: 0.0780549\ttotal: 2.07s\tremaining: 4.18s\n",
            "331:\tlearn: 0.0779959\ttotal: 2.08s\tremaining: 4.18s\n",
            "332:\tlearn: 0.0779652\ttotal: 2.08s\tremaining: 4.17s\n",
            "333:\tlearn: 0.0779189\ttotal: 2.1s\tremaining: 4.18s\n",
            "334:\tlearn: 0.0778901\ttotal: 2.11s\tremaining: 4.18s\n",
            "335:\tlearn: 0.0778419\ttotal: 2.11s\tremaining: 4.18s\n",
            "336:\tlearn: 0.0777772\ttotal: 2.12s\tremaining: 4.17s\n",
            "337:\tlearn: 0.0777174\ttotal: 2.13s\tremaining: 4.17s\n",
            "338:\tlearn: 0.0777011\ttotal: 2.13s\tremaining: 4.16s\n",
            "339:\tlearn: 0.0776830\ttotal: 2.14s\tremaining: 4.15s\n",
            "340:\tlearn: 0.0776055\ttotal: 2.15s\tremaining: 4.15s\n",
            "341:\tlearn: 0.0775929\ttotal: 2.15s\tremaining: 4.14s\n",
            "342:\tlearn: 0.0775351\ttotal: 2.16s\tremaining: 4.14s\n",
            "343:\tlearn: 0.0774414\ttotal: 2.16s\tremaining: 4.13s\n",
            "344:\tlearn: 0.0774118\ttotal: 2.17s\tremaining: 4.12s\n",
            "345:\tlearn: 0.0773692\ttotal: 2.17s\tremaining: 4.11s\n",
            "346:\tlearn: 0.0772932\ttotal: 2.19s\tremaining: 4.11s\n",
            "347:\tlearn: 0.0772634\ttotal: 2.19s\tremaining: 4.11s\n",
            "348:\tlearn: 0.0770638\ttotal: 2.2s\tremaining: 4.1s\n",
            "349:\tlearn: 0.0770095\ttotal: 2.2s\tremaining: 4.09s\n",
            "350:\tlearn: 0.0770015\ttotal: 2.21s\tremaining: 4.08s\n",
            "351:\tlearn: 0.0769458\ttotal: 2.21s\tremaining: 4.08s\n",
            "352:\tlearn: 0.0768695\ttotal: 2.22s\tremaining: 4.07s\n",
            "353:\tlearn: 0.0768545\ttotal: 2.23s\tremaining: 4.06s\n",
            "354:\tlearn: 0.0768324\ttotal: 2.23s\tremaining: 4.05s\n",
            "355:\tlearn: 0.0767880\ttotal: 2.24s\tremaining: 4.05s\n",
            "356:\tlearn: 0.0767441\ttotal: 2.24s\tremaining: 4.04s\n",
            "357:\tlearn: 0.0767069\ttotal: 2.25s\tremaining: 4.04s\n",
            "358:\tlearn: 0.0766800\ttotal: 2.25s\tremaining: 4.03s\n",
            "359:\tlearn: 0.0766353\ttotal: 2.26s\tremaining: 4.02s\n",
            "360:\tlearn: 0.0765943\ttotal: 2.27s\tremaining: 4.01s\n",
            "361:\tlearn: 0.0765718\ttotal: 2.27s\tremaining: 4.01s\n",
            "362:\tlearn: 0.0765193\ttotal: 2.28s\tremaining: 4s\n",
            "363:\tlearn: 0.0764775\ttotal: 2.29s\tremaining: 3.99s\n",
            "364:\tlearn: 0.0764368\ttotal: 2.29s\tremaining: 3.99s\n",
            "365:\tlearn: 0.0763983\ttotal: 2.3s\tremaining: 3.98s\n",
            "366:\tlearn: 0.0763120\ttotal: 2.3s\tremaining: 3.97s\n",
            "367:\tlearn: 0.0763059\ttotal: 2.31s\tremaining: 3.96s\n",
            "368:\tlearn: 0.0762332\ttotal: 2.31s\tremaining: 3.96s\n",
            "369:\tlearn: 0.0762028\ttotal: 2.32s\tremaining: 3.95s\n",
            "370:\tlearn: 0.0761287\ttotal: 2.33s\tremaining: 3.94s\n",
            "371:\tlearn: 0.0760784\ttotal: 2.33s\tremaining: 3.93s\n",
            "372:\tlearn: 0.0760545\ttotal: 2.34s\tremaining: 3.93s\n",
            "373:\tlearn: 0.0760338\ttotal: 2.34s\tremaining: 3.92s\n",
            "374:\tlearn: 0.0760184\ttotal: 2.35s\tremaining: 3.91s\n",
            "375:\tlearn: 0.0760000\ttotal: 2.35s\tremaining: 3.9s\n",
            "376:\tlearn: 0.0759593\ttotal: 2.36s\tremaining: 3.9s\n",
            "377:\tlearn: 0.0758850\ttotal: 2.36s\tremaining: 3.89s\n",
            "378:\tlearn: 0.0758432\ttotal: 2.37s\tremaining: 3.88s\n",
            "379:\tlearn: 0.0758045\ttotal: 2.37s\tremaining: 3.87s\n",
            "380:\tlearn: 0.0757637\ttotal: 2.38s\tremaining: 3.87s\n",
            "381:\tlearn: 0.0757441\ttotal: 2.39s\tremaining: 3.86s\n",
            "382:\tlearn: 0.0757343\ttotal: 2.39s\tremaining: 3.86s\n",
            "383:\tlearn: 0.0756968\ttotal: 2.4s\tremaining: 3.85s\n",
            "384:\tlearn: 0.0756420\ttotal: 2.4s\tremaining: 3.84s\n",
            "385:\tlearn: 0.0756335\ttotal: 2.41s\tremaining: 3.83s\n",
            "386:\tlearn: 0.0755957\ttotal: 2.42s\tremaining: 3.83s\n",
            "387:\tlearn: 0.0755596\ttotal: 2.42s\tremaining: 3.82s\n",
            "388:\tlearn: 0.0755047\ttotal: 2.44s\tremaining: 3.82s\n",
            "389:\tlearn: 0.0754024\ttotal: 2.44s\tremaining: 3.82s\n",
            "390:\tlearn: 0.0752895\ttotal: 2.44s\tremaining: 3.81s\n",
            "391:\tlearn: 0.0752494\ttotal: 2.45s\tremaining: 3.8s\n",
            "392:\tlearn: 0.0751794\ttotal: 2.46s\tremaining: 3.79s\n",
            "393:\tlearn: 0.0751609\ttotal: 2.46s\tremaining: 3.79s\n",
            "394:\tlearn: 0.0751406\ttotal: 2.46s\tremaining: 3.78s\n",
            "395:\tlearn: 0.0750232\ttotal: 2.47s\tremaining: 3.77s\n",
            "396:\tlearn: 0.0750079\ttotal: 2.48s\tremaining: 3.76s\n",
            "397:\tlearn: 0.0749414\ttotal: 2.48s\tremaining: 3.75s\n",
            "398:\tlearn: 0.0749329\ttotal: 2.49s\tremaining: 3.75s\n",
            "399:\tlearn: 0.0749181\ttotal: 2.49s\tremaining: 3.74s\n",
            "400:\tlearn: 0.0748722\ttotal: 2.5s\tremaining: 3.73s\n",
            "401:\tlearn: 0.0748558\ttotal: 2.5s\tremaining: 3.73s\n",
            "402:\tlearn: 0.0748119\ttotal: 2.51s\tremaining: 3.72s\n",
            "403:\tlearn: 0.0747797\ttotal: 2.52s\tremaining: 3.71s\n",
            "404:\tlearn: 0.0747560\ttotal: 2.52s\tremaining: 3.7s\n",
            "405:\tlearn: 0.0747429\ttotal: 2.53s\tremaining: 3.7s\n",
            "406:\tlearn: 0.0746671\ttotal: 2.53s\tremaining: 3.69s\n",
            "407:\tlearn: 0.0746519\ttotal: 2.54s\tremaining: 3.68s\n",
            "408:\tlearn: 0.0746363\ttotal: 2.54s\tremaining: 3.67s\n",
            "409:\tlearn: 0.0746071\ttotal: 2.55s\tremaining: 3.67s\n",
            "410:\tlearn: 0.0745351\ttotal: 2.55s\tremaining: 3.66s\n",
            "411:\tlearn: 0.0745217\ttotal: 2.56s\tremaining: 3.65s\n",
            "412:\tlearn: 0.0745065\ttotal: 2.56s\tremaining: 3.65s\n",
            "413:\tlearn: 0.0744663\ttotal: 2.57s\tremaining: 3.64s\n",
            "414:\tlearn: 0.0744319\ttotal: 2.58s\tremaining: 3.63s\n",
            "415:\tlearn: 0.0744161\ttotal: 2.58s\tremaining: 3.63s\n",
            "416:\tlearn: 0.0743995\ttotal: 2.59s\tremaining: 3.62s\n",
            "417:\tlearn: 0.0743739\ttotal: 2.6s\tremaining: 3.62s\n",
            "418:\tlearn: 0.0743367\ttotal: 2.6s\tremaining: 3.61s\n",
            "419:\tlearn: 0.0742937\ttotal: 2.61s\tremaining: 3.6s\n",
            "420:\tlearn: 0.0741877\ttotal: 2.61s\tremaining: 3.6s\n",
            "421:\tlearn: 0.0741531\ttotal: 2.62s\tremaining: 3.59s\n",
            "422:\tlearn: 0.0740905\ttotal: 2.62s\tremaining: 3.58s\n",
            "423:\tlearn: 0.0740568\ttotal: 2.63s\tremaining: 3.57s\n",
            "424:\tlearn: 0.0740436\ttotal: 2.63s\tremaining: 3.56s\n",
            "425:\tlearn: 0.0738899\ttotal: 2.64s\tremaining: 3.56s\n",
            "426:\tlearn: 0.0738494\ttotal: 2.65s\tremaining: 3.55s\n",
            "427:\tlearn: 0.0738346\ttotal: 2.65s\tremaining: 3.54s\n",
            "428:\tlearn: 0.0738160\ttotal: 2.66s\tremaining: 3.54s\n",
            "429:\tlearn: 0.0737633\ttotal: 2.66s\tremaining: 3.53s\n",
            "430:\tlearn: 0.0737026\ttotal: 2.67s\tremaining: 3.52s\n",
            "431:\tlearn: 0.0736955\ttotal: 2.67s\tremaining: 3.51s\n",
            "432:\tlearn: 0.0736550\ttotal: 2.68s\tremaining: 3.51s\n",
            "433:\tlearn: 0.0736414\ttotal: 2.68s\tremaining: 3.5s\n",
            "434:\tlearn: 0.0736290\ttotal: 2.69s\tremaining: 3.49s\n",
            "435:\tlearn: 0.0736201\ttotal: 2.69s\tremaining: 3.49s\n",
            "436:\tlearn: 0.0734712\ttotal: 2.7s\tremaining: 3.48s\n",
            "437:\tlearn: 0.0734285\ttotal: 2.71s\tremaining: 3.47s\n",
            "438:\tlearn: 0.0733278\ttotal: 2.71s\tremaining: 3.47s\n",
            "439:\tlearn: 0.0732646\ttotal: 2.72s\tremaining: 3.46s\n",
            "440:\tlearn: 0.0731691\ttotal: 2.73s\tremaining: 3.46s\n",
            "441:\tlearn: 0.0730783\ttotal: 2.73s\tremaining: 3.45s\n",
            "442:\tlearn: 0.0729795\ttotal: 2.74s\tremaining: 3.44s\n",
            "443:\tlearn: 0.0728867\ttotal: 2.74s\tremaining: 3.44s\n",
            "444:\tlearn: 0.0728016\ttotal: 2.75s\tremaining: 3.43s\n",
            "445:\tlearn: 0.0727889\ttotal: 2.75s\tremaining: 3.42s\n",
            "446:\tlearn: 0.0727805\ttotal: 2.76s\tremaining: 3.41s\n",
            "447:\tlearn: 0.0727506\ttotal: 2.76s\tremaining: 3.41s\n",
            "448:\tlearn: 0.0727238\ttotal: 2.77s\tremaining: 3.4s\n",
            "449:\tlearn: 0.0726498\ttotal: 2.78s\tremaining: 3.39s\n",
            "450:\tlearn: 0.0726090\ttotal: 2.79s\tremaining: 3.39s\n",
            "451:\tlearn: 0.0725807\ttotal: 2.79s\tremaining: 3.38s\n",
            "452:\tlearn: 0.0725618\ttotal: 2.8s\tremaining: 3.38s\n",
            "453:\tlearn: 0.0725344\ttotal: 2.8s\tremaining: 3.37s\n",
            "454:\tlearn: 0.0725099\ttotal: 2.81s\tremaining: 3.36s\n",
            "455:\tlearn: 0.0724537\ttotal: 2.81s\tremaining: 3.36s\n",
            "456:\tlearn: 0.0724277\ttotal: 2.82s\tremaining: 3.35s\n",
            "457:\tlearn: 0.0724160\ttotal: 2.82s\tremaining: 3.34s\n",
            "458:\tlearn: 0.0723810\ttotal: 2.83s\tremaining: 3.33s\n",
            "459:\tlearn: 0.0723661\ttotal: 2.83s\tremaining: 3.33s\n",
            "460:\tlearn: 0.0723327\ttotal: 2.84s\tremaining: 3.32s\n",
            "461:\tlearn: 0.0722843\ttotal: 2.85s\tremaining: 3.31s\n",
            "462:\tlearn: 0.0722008\ttotal: 2.85s\tremaining: 3.31s\n",
            "463:\tlearn: 0.0721198\ttotal: 2.86s\tremaining: 3.3s\n",
            "464:\tlearn: 0.0720791\ttotal: 2.86s\tremaining: 3.29s\n",
            "465:\tlearn: 0.0720716\ttotal: 2.87s\tremaining: 3.29s\n",
            "466:\tlearn: 0.0720087\ttotal: 2.89s\tremaining: 3.3s\n",
            "467:\tlearn: 0.0720016\ttotal: 2.9s\tremaining: 3.3s\n",
            "468:\tlearn: 0.0719636\ttotal: 2.91s\tremaining: 3.29s\n",
            "469:\tlearn: 0.0719358\ttotal: 2.92s\tremaining: 3.29s\n",
            "470:\tlearn: 0.0718424\ttotal: 2.92s\tremaining: 3.28s\n",
            "471:\tlearn: 0.0718292\ttotal: 2.93s\tremaining: 3.27s\n",
            "472:\tlearn: 0.0718022\ttotal: 2.93s\tremaining: 3.27s\n",
            "473:\tlearn: 0.0717697\ttotal: 2.94s\tremaining: 3.26s\n",
            "474:\tlearn: 0.0717580\ttotal: 2.94s\tremaining: 3.25s\n",
            "475:\tlearn: 0.0717236\ttotal: 2.95s\tremaining: 3.24s\n",
            "476:\tlearn: 0.0716875\ttotal: 2.95s\tremaining: 3.24s\n",
            "477:\tlearn: 0.0716573\ttotal: 2.96s\tremaining: 3.23s\n",
            "478:\tlearn: 0.0715768\ttotal: 2.96s\tremaining: 3.22s\n",
            "479:\tlearn: 0.0715524\ttotal: 2.97s\tremaining: 3.22s\n",
            "480:\tlearn: 0.0715164\ttotal: 2.98s\tremaining: 3.21s\n",
            "481:\tlearn: 0.0714793\ttotal: 2.98s\tremaining: 3.21s\n",
            "482:\tlearn: 0.0714295\ttotal: 2.99s\tremaining: 3.2s\n",
            "483:\tlearn: 0.0714155\ttotal: 2.99s\tremaining: 3.19s\n",
            "484:\tlearn: 0.0714041\ttotal: 3s\tremaining: 3.18s\n",
            "485:\tlearn: 0.0713784\ttotal: 3.01s\tremaining: 3.18s\n",
            "486:\tlearn: 0.0713654\ttotal: 3.01s\tremaining: 3.17s\n",
            "487:\tlearn: 0.0713532\ttotal: 3.02s\tremaining: 3.17s\n",
            "488:\tlearn: 0.0713468\ttotal: 3.02s\tremaining: 3.16s\n",
            "489:\tlearn: 0.0713007\ttotal: 3.03s\tremaining: 3.15s\n",
            "490:\tlearn: 0.0712707\ttotal: 3.03s\tremaining: 3.15s\n",
            "491:\tlearn: 0.0712594\ttotal: 3.04s\tremaining: 3.14s\n",
            "492:\tlearn: 0.0712268\ttotal: 3.05s\tremaining: 3.13s\n",
            "493:\tlearn: 0.0712154\ttotal: 3.05s\tremaining: 3.13s\n",
            "494:\tlearn: 0.0712050\ttotal: 3.06s\tremaining: 3.12s\n",
            "495:\tlearn: 0.0711738\ttotal: 3.07s\tremaining: 3.12s\n",
            "496:\tlearn: 0.0711408\ttotal: 3.07s\tremaining: 3.11s\n",
            "497:\tlearn: 0.0711113\ttotal: 3.08s\tremaining: 3.1s\n",
            "498:\tlearn: 0.0710886\ttotal: 3.08s\tremaining: 3.1s\n",
            "499:\tlearn: 0.0710214\ttotal: 3.09s\tremaining: 3.09s\n",
            "500:\tlearn: 0.0709966\ttotal: 3.09s\tremaining: 3.08s\n",
            "501:\tlearn: 0.0709754\ttotal: 3.1s\tremaining: 3.08s\n",
            "502:\tlearn: 0.0709661\ttotal: 3.11s\tremaining: 3.07s\n",
            "503:\tlearn: 0.0709465\ttotal: 3.11s\tremaining: 3.06s\n",
            "504:\tlearn: 0.0709119\ttotal: 3.12s\tremaining: 3.06s\n",
            "505:\tlearn: 0.0708292\ttotal: 3.12s\tremaining: 3.05s\n",
            "506:\tlearn: 0.0707951\ttotal: 3.13s\tremaining: 3.04s\n",
            "507:\tlearn: 0.0707267\ttotal: 3.14s\tremaining: 3.04s\n",
            "508:\tlearn: 0.0706916\ttotal: 3.14s\tremaining: 3.03s\n",
            "509:\tlearn: 0.0706694\ttotal: 3.15s\tremaining: 3.02s\n",
            "510:\tlearn: 0.0706024\ttotal: 3.15s\tremaining: 3.02s\n",
            "511:\tlearn: 0.0705924\ttotal: 3.16s\tremaining: 3.01s\n",
            "512:\tlearn: 0.0705679\ttotal: 3.17s\tremaining: 3s\n",
            "513:\tlearn: 0.0705538\ttotal: 3.17s\tremaining: 3s\n",
            "514:\tlearn: 0.0705481\ttotal: 3.18s\tremaining: 2.99s\n",
            "515:\tlearn: 0.0705287\ttotal: 3.18s\tremaining: 2.99s\n",
            "516:\tlearn: 0.0705187\ttotal: 3.19s\tremaining: 2.98s\n",
            "517:\tlearn: 0.0704727\ttotal: 3.19s\tremaining: 2.97s\n",
            "518:\tlearn: 0.0704490\ttotal: 3.2s\tremaining: 2.97s\n",
            "519:\tlearn: 0.0704362\ttotal: 3.21s\tremaining: 2.96s\n",
            "520:\tlearn: 0.0704039\ttotal: 3.21s\tremaining: 2.95s\n",
            "521:\tlearn: 0.0703859\ttotal: 3.22s\tremaining: 2.95s\n",
            "522:\tlearn: 0.0703231\ttotal: 3.23s\tremaining: 2.94s\n",
            "523:\tlearn: 0.0703040\ttotal: 3.23s\tremaining: 2.94s\n",
            "524:\tlearn: 0.0702984\ttotal: 3.24s\tremaining: 2.93s\n",
            "525:\tlearn: 0.0702560\ttotal: 3.24s\tremaining: 2.92s\n",
            "526:\tlearn: 0.0702379\ttotal: 3.25s\tremaining: 2.92s\n",
            "527:\tlearn: 0.0702076\ttotal: 3.25s\tremaining: 2.91s\n",
            "528:\tlearn: 0.0701901\ttotal: 3.26s\tremaining: 2.9s\n",
            "529:\tlearn: 0.0701685\ttotal: 3.26s\tremaining: 2.89s\n",
            "530:\tlearn: 0.0701334\ttotal: 3.27s\tremaining: 2.89s\n",
            "531:\tlearn: 0.0701121\ttotal: 3.28s\tremaining: 2.88s\n",
            "532:\tlearn: 0.0701068\ttotal: 3.28s\tremaining: 2.88s\n",
            "533:\tlearn: 0.0700884\ttotal: 3.29s\tremaining: 2.87s\n",
            "534:\tlearn: 0.0700299\ttotal: 3.29s\tremaining: 2.86s\n",
            "535:\tlearn: 0.0700249\ttotal: 3.3s\tremaining: 2.86s\n",
            "536:\tlearn: 0.0700142\ttotal: 3.31s\tremaining: 2.85s\n",
            "537:\tlearn: 0.0699854\ttotal: 3.31s\tremaining: 2.84s\n",
            "538:\tlearn: 0.0699536\ttotal: 3.32s\tremaining: 2.84s\n",
            "539:\tlearn: 0.0699144\ttotal: 3.32s\tremaining: 2.83s\n",
            "540:\tlearn: 0.0698807\ttotal: 3.33s\tremaining: 2.82s\n",
            "541:\tlearn: 0.0698539\ttotal: 3.33s\tremaining: 2.82s\n",
            "542:\tlearn: 0.0698188\ttotal: 3.34s\tremaining: 2.81s\n",
            "543:\tlearn: 0.0697977\ttotal: 3.34s\tremaining: 2.8s\n",
            "544:\tlearn: 0.0697798\ttotal: 3.35s\tremaining: 2.8s\n",
            "545:\tlearn: 0.0697412\ttotal: 3.35s\tremaining: 2.79s\n",
            "546:\tlearn: 0.0697027\ttotal: 3.36s\tremaining: 2.78s\n",
            "547:\tlearn: 0.0696669\ttotal: 3.37s\tremaining: 2.78s\n",
            "548:\tlearn: 0.0696453\ttotal: 3.37s\tremaining: 2.77s\n",
            "549:\tlearn: 0.0696214\ttotal: 3.38s\tremaining: 2.77s\n",
            "550:\tlearn: 0.0695977\ttotal: 3.38s\tremaining: 2.76s\n",
            "551:\tlearn: 0.0695592\ttotal: 3.39s\tremaining: 2.75s\n",
            "552:\tlearn: 0.0695406\ttotal: 3.4s\tremaining: 2.75s\n",
            "553:\tlearn: 0.0695155\ttotal: 3.4s\tremaining: 2.74s\n",
            "554:\tlearn: 0.0694943\ttotal: 3.41s\tremaining: 2.73s\n",
            "555:\tlearn: 0.0694583\ttotal: 3.41s\tremaining: 2.73s\n",
            "556:\tlearn: 0.0694241\ttotal: 3.42s\tremaining: 2.72s\n",
            "557:\tlearn: 0.0694028\ttotal: 3.42s\tremaining: 2.71s\n",
            "558:\tlearn: 0.0693213\ttotal: 3.43s\tremaining: 2.71s\n",
            "559:\tlearn: 0.0693076\ttotal: 3.43s\tremaining: 2.7s\n",
            "560:\tlearn: 0.0692776\ttotal: 3.44s\tremaining: 2.69s\n",
            "561:\tlearn: 0.0692072\ttotal: 3.44s\tremaining: 2.68s\n",
            "562:\tlearn: 0.0691722\ttotal: 3.45s\tremaining: 2.68s\n",
            "563:\tlearn: 0.0691189\ttotal: 3.46s\tremaining: 2.67s\n",
            "564:\tlearn: 0.0690526\ttotal: 3.46s\tremaining: 2.66s\n",
            "565:\tlearn: 0.0690127\ttotal: 3.47s\tremaining: 2.66s\n",
            "566:\tlearn: 0.0689824\ttotal: 3.47s\tremaining: 2.65s\n",
            "567:\tlearn: 0.0689694\ttotal: 3.48s\tremaining: 2.64s\n",
            "568:\tlearn: 0.0689289\ttotal: 3.48s\tremaining: 2.64s\n",
            "569:\tlearn: 0.0688987\ttotal: 3.49s\tremaining: 2.63s\n",
            "570:\tlearn: 0.0688741\ttotal: 3.49s\tremaining: 2.62s\n",
            "571:\tlearn: 0.0688575\ttotal: 3.5s\tremaining: 2.62s\n",
            "572:\tlearn: 0.0688529\ttotal: 3.51s\tremaining: 2.62s\n",
            "573:\tlearn: 0.0688254\ttotal: 3.52s\tremaining: 2.62s\n",
            "574:\tlearn: 0.0688146\ttotal: 3.54s\tremaining: 2.62s\n",
            "575:\tlearn: 0.0687606\ttotal: 3.56s\tremaining: 2.62s\n",
            "576:\tlearn: 0.0687483\ttotal: 3.57s\tremaining: 2.62s\n",
            "577:\tlearn: 0.0687288\ttotal: 3.59s\tremaining: 2.62s\n",
            "578:\tlearn: 0.0687176\ttotal: 3.6s\tremaining: 2.61s\n",
            "579:\tlearn: 0.0686960\ttotal: 3.6s\tremaining: 2.61s\n",
            "580:\tlearn: 0.0686306\ttotal: 3.61s\tremaining: 2.6s\n",
            "581:\tlearn: 0.0685487\ttotal: 3.61s\tremaining: 2.6s\n",
            "582:\tlearn: 0.0685193\ttotal: 3.62s\tremaining: 2.59s\n",
            "583:\tlearn: 0.0684438\ttotal: 3.63s\tremaining: 2.59s\n",
            "584:\tlearn: 0.0684064\ttotal: 3.65s\tremaining: 2.59s\n",
            "585:\tlearn: 0.0683365\ttotal: 3.65s\tremaining: 2.58s\n",
            "586:\tlearn: 0.0683102\ttotal: 3.66s\tremaining: 2.58s\n",
            "587:\tlearn: 0.0682663\ttotal: 3.67s\tremaining: 2.57s\n",
            "588:\tlearn: 0.0682318\ttotal: 3.68s\tremaining: 2.56s\n",
            "589:\tlearn: 0.0681914\ttotal: 3.68s\tremaining: 2.56s\n",
            "590:\tlearn: 0.0681672\ttotal: 3.69s\tremaining: 2.55s\n",
            "591:\tlearn: 0.0681474\ttotal: 3.69s\tremaining: 2.55s\n",
            "592:\tlearn: 0.0681310\ttotal: 3.7s\tremaining: 2.54s\n",
            "593:\tlearn: 0.0680882\ttotal: 3.71s\tremaining: 2.53s\n",
            "594:\tlearn: 0.0680503\ttotal: 3.71s\tremaining: 2.53s\n",
            "595:\tlearn: 0.0680107\ttotal: 3.72s\tremaining: 2.52s\n",
            "596:\tlearn: 0.0679800\ttotal: 3.73s\tremaining: 2.52s\n",
            "597:\tlearn: 0.0679627\ttotal: 3.73s\tremaining: 2.51s\n",
            "598:\tlearn: 0.0679264\ttotal: 3.74s\tremaining: 2.5s\n",
            "599:\tlearn: 0.0678831\ttotal: 3.75s\tremaining: 2.5s\n",
            "600:\tlearn: 0.0678548\ttotal: 3.75s\tremaining: 2.49s\n",
            "601:\tlearn: 0.0678157\ttotal: 3.76s\tremaining: 2.49s\n",
            "602:\tlearn: 0.0677863\ttotal: 3.77s\tremaining: 2.48s\n",
            "603:\tlearn: 0.0677636\ttotal: 3.77s\tremaining: 2.47s\n",
            "604:\tlearn: 0.0677210\ttotal: 3.78s\tremaining: 2.47s\n",
            "605:\tlearn: 0.0676474\ttotal: 3.79s\tremaining: 2.46s\n",
            "606:\tlearn: 0.0676119\ttotal: 3.8s\tremaining: 2.46s\n",
            "607:\tlearn: 0.0675792\ttotal: 3.81s\tremaining: 2.45s\n",
            "608:\tlearn: 0.0675255\ttotal: 3.81s\tremaining: 2.45s\n",
            "609:\tlearn: 0.0674869\ttotal: 3.82s\tremaining: 2.44s\n",
            "610:\tlearn: 0.0674705\ttotal: 3.83s\tremaining: 2.44s\n",
            "611:\tlearn: 0.0674287\ttotal: 3.83s\tremaining: 2.43s\n",
            "612:\tlearn: 0.0673995\ttotal: 3.84s\tremaining: 2.42s\n",
            "613:\tlearn: 0.0673400\ttotal: 3.85s\tremaining: 2.42s\n",
            "614:\tlearn: 0.0673357\ttotal: 3.85s\tremaining: 2.41s\n",
            "615:\tlearn: 0.0673211\ttotal: 3.9s\tremaining: 2.43s\n",
            "616:\tlearn: 0.0673018\ttotal: 3.91s\tremaining: 2.43s\n",
            "617:\tlearn: 0.0672714\ttotal: 3.92s\tremaining: 2.42s\n",
            "618:\tlearn: 0.0672575\ttotal: 3.92s\tremaining: 2.41s\n",
            "619:\tlearn: 0.0672309\ttotal: 3.93s\tremaining: 2.41s\n",
            "620:\tlearn: 0.0672238\ttotal: 3.94s\tremaining: 2.4s\n",
            "621:\tlearn: 0.0672039\ttotal: 3.94s\tremaining: 2.4s\n",
            "622:\tlearn: 0.0671839\ttotal: 3.95s\tremaining: 2.39s\n",
            "623:\tlearn: 0.0671748\ttotal: 3.96s\tremaining: 2.38s\n",
            "624:\tlearn: 0.0671611\ttotal: 3.97s\tremaining: 2.38s\n",
            "625:\tlearn: 0.0671445\ttotal: 3.97s\tremaining: 2.37s\n",
            "626:\tlearn: 0.0671282\ttotal: 3.98s\tremaining: 2.37s\n",
            "627:\tlearn: 0.0671086\ttotal: 3.99s\tremaining: 2.36s\n",
            "628:\tlearn: 0.0670921\ttotal: 4s\tremaining: 2.36s\n",
            "629:\tlearn: 0.0670586\ttotal: 4s\tremaining: 2.35s\n",
            "630:\tlearn: 0.0670242\ttotal: 4.01s\tremaining: 2.35s\n",
            "631:\tlearn: 0.0670103\ttotal: 4.02s\tremaining: 2.34s\n",
            "632:\tlearn: 0.0669821\ttotal: 4.03s\tremaining: 2.33s\n",
            "633:\tlearn: 0.0669472\ttotal: 4.03s\tremaining: 2.33s\n",
            "634:\tlearn: 0.0669162\ttotal: 4.04s\tremaining: 2.32s\n",
            "635:\tlearn: 0.0668891\ttotal: 4.04s\tremaining: 2.31s\n",
            "636:\tlearn: 0.0668529\ttotal: 4.05s\tremaining: 2.31s\n",
            "637:\tlearn: 0.0668488\ttotal: 4.06s\tremaining: 2.3s\n",
            "638:\tlearn: 0.0668309\ttotal: 4.07s\tremaining: 2.3s\n",
            "639:\tlearn: 0.0667976\ttotal: 4.07s\tremaining: 2.29s\n",
            "640:\tlearn: 0.0667687\ttotal: 4.08s\tremaining: 2.29s\n",
            "641:\tlearn: 0.0667505\ttotal: 4.09s\tremaining: 2.28s\n",
            "642:\tlearn: 0.0667336\ttotal: 4.09s\tremaining: 2.27s\n",
            "643:\tlearn: 0.0666821\ttotal: 4.1s\tremaining: 2.27s\n",
            "644:\tlearn: 0.0666284\ttotal: 4.11s\tremaining: 2.26s\n",
            "645:\tlearn: 0.0665491\ttotal: 4.12s\tremaining: 2.26s\n",
            "646:\tlearn: 0.0665302\ttotal: 4.13s\tremaining: 2.25s\n",
            "647:\tlearn: 0.0665000\ttotal: 4.14s\tremaining: 2.25s\n",
            "648:\tlearn: 0.0664881\ttotal: 4.14s\tremaining: 2.24s\n",
            "649:\tlearn: 0.0664777\ttotal: 4.15s\tremaining: 2.23s\n",
            "650:\tlearn: 0.0664524\ttotal: 4.15s\tremaining: 2.23s\n",
            "651:\tlearn: 0.0664487\ttotal: 4.16s\tremaining: 2.22s\n",
            "652:\tlearn: 0.0664356\ttotal: 4.17s\tremaining: 2.21s\n",
            "653:\tlearn: 0.0663976\ttotal: 4.17s\tremaining: 2.21s\n",
            "654:\tlearn: 0.0663641\ttotal: 4.18s\tremaining: 2.2s\n",
            "655:\tlearn: 0.0663562\ttotal: 4.19s\tremaining: 2.2s\n",
            "656:\tlearn: 0.0663448\ttotal: 4.2s\tremaining: 2.19s\n",
            "657:\tlearn: 0.0663171\ttotal: 4.21s\tremaining: 2.19s\n",
            "658:\tlearn: 0.0663015\ttotal: 4.21s\tremaining: 2.18s\n",
            "659:\tlearn: 0.0662658\ttotal: 4.22s\tremaining: 2.17s\n",
            "660:\tlearn: 0.0662382\ttotal: 4.22s\tremaining: 2.17s\n",
            "661:\tlearn: 0.0662083\ttotal: 4.23s\tremaining: 2.16s\n",
            "662:\tlearn: 0.0661788\ttotal: 4.24s\tremaining: 2.15s\n",
            "663:\tlearn: 0.0661714\ttotal: 4.25s\tremaining: 2.15s\n",
            "664:\tlearn: 0.0661580\ttotal: 4.25s\tremaining: 2.14s\n",
            "665:\tlearn: 0.0661420\ttotal: 4.26s\tremaining: 2.13s\n",
            "666:\tlearn: 0.0661277\ttotal: 4.26s\tremaining: 2.13s\n",
            "667:\tlearn: 0.0661187\ttotal: 4.27s\tremaining: 2.12s\n",
            "668:\tlearn: 0.0660731\ttotal: 4.28s\tremaining: 2.12s\n",
            "669:\tlearn: 0.0660009\ttotal: 4.28s\tremaining: 2.11s\n",
            "670:\tlearn: 0.0659932\ttotal: 4.29s\tremaining: 2.1s\n",
            "671:\tlearn: 0.0659639\ttotal: 4.3s\tremaining: 2.1s\n",
            "672:\tlearn: 0.0659301\ttotal: 4.31s\tremaining: 2.09s\n",
            "673:\tlearn: 0.0659167\ttotal: 4.32s\tremaining: 2.09s\n",
            "674:\tlearn: 0.0659020\ttotal: 4.32s\tremaining: 2.08s\n",
            "675:\tlearn: 0.0658950\ttotal: 4.33s\tremaining: 2.07s\n",
            "676:\tlearn: 0.0658710\ttotal: 4.33s\tremaining: 2.07s\n",
            "677:\tlearn: 0.0658492\ttotal: 4.34s\tremaining: 2.06s\n",
            "678:\tlearn: 0.0658212\ttotal: 4.35s\tremaining: 2.06s\n",
            "679:\tlearn: 0.0657966\ttotal: 4.35s\tremaining: 2.05s\n",
            "680:\tlearn: 0.0657691\ttotal: 4.36s\tremaining: 2.04s\n",
            "681:\tlearn: 0.0657529\ttotal: 4.37s\tremaining: 2.04s\n",
            "682:\tlearn: 0.0657193\ttotal: 4.37s\tremaining: 2.03s\n",
            "683:\tlearn: 0.0656922\ttotal: 4.38s\tremaining: 2.02s\n",
            "684:\tlearn: 0.0656815\ttotal: 4.39s\tremaining: 2.02s\n",
            "685:\tlearn: 0.0656564\ttotal: 4.41s\tremaining: 2.02s\n",
            "686:\tlearn: 0.0656311\ttotal: 4.42s\tremaining: 2.01s\n",
            "687:\tlearn: 0.0656186\ttotal: 4.42s\tremaining: 2.01s\n",
            "688:\tlearn: 0.0656002\ttotal: 4.43s\tremaining: 2s\n",
            "689:\tlearn: 0.0655512\ttotal: 4.44s\tremaining: 1.99s\n",
            "690:\tlearn: 0.0655449\ttotal: 4.45s\tremaining: 1.99s\n",
            "691:\tlearn: 0.0654590\ttotal: 4.45s\tremaining: 1.98s\n",
            "692:\tlearn: 0.0654325\ttotal: 4.46s\tremaining: 1.98s\n",
            "693:\tlearn: 0.0653990\ttotal: 4.47s\tremaining: 1.97s\n",
            "694:\tlearn: 0.0653930\ttotal: 4.48s\tremaining: 1.97s\n",
            "695:\tlearn: 0.0653611\ttotal: 4.49s\tremaining: 1.96s\n",
            "696:\tlearn: 0.0653346\ttotal: 4.5s\tremaining: 1.96s\n",
            "697:\tlearn: 0.0653131\ttotal: 4.5s\tremaining: 1.95s\n",
            "698:\tlearn: 0.0652964\ttotal: 4.51s\tremaining: 1.94s\n",
            "699:\tlearn: 0.0652907\ttotal: 4.52s\tremaining: 1.94s\n",
            "700:\tlearn: 0.0652588\ttotal: 4.53s\tremaining: 1.93s\n",
            "701:\tlearn: 0.0652473\ttotal: 4.53s\tremaining: 1.92s\n",
            "702:\tlearn: 0.0652320\ttotal: 4.54s\tremaining: 1.92s\n",
            "703:\tlearn: 0.0651929\ttotal: 4.54s\tremaining: 1.91s\n",
            "704:\tlearn: 0.0651619\ttotal: 4.55s\tremaining: 1.9s\n",
            "705:\tlearn: 0.0651150\ttotal: 4.56s\tremaining: 1.9s\n",
            "706:\tlearn: 0.0651001\ttotal: 4.57s\tremaining: 1.89s\n",
            "707:\tlearn: 0.0650749\ttotal: 4.58s\tremaining: 1.89s\n",
            "708:\tlearn: 0.0650559\ttotal: 4.6s\tremaining: 1.89s\n",
            "709:\tlearn: 0.0650111\ttotal: 4.61s\tremaining: 1.88s\n",
            "710:\tlearn: 0.0649984\ttotal: 4.62s\tremaining: 1.88s\n",
            "711:\tlearn: 0.0649737\ttotal: 4.63s\tremaining: 1.87s\n",
            "712:\tlearn: 0.0649461\ttotal: 4.64s\tremaining: 1.87s\n",
            "713:\tlearn: 0.0648945\ttotal: 4.64s\tremaining: 1.86s\n",
            "714:\tlearn: 0.0648809\ttotal: 4.65s\tremaining: 1.85s\n",
            "715:\tlearn: 0.0648457\ttotal: 4.66s\tremaining: 1.85s\n",
            "716:\tlearn: 0.0648021\ttotal: 4.66s\tremaining: 1.84s\n",
            "717:\tlearn: 0.0647872\ttotal: 4.67s\tremaining: 1.83s\n",
            "718:\tlearn: 0.0647755\ttotal: 4.68s\tremaining: 1.83s\n",
            "719:\tlearn: 0.0647152\ttotal: 4.68s\tremaining: 1.82s\n",
            "720:\tlearn: 0.0646981\ttotal: 4.69s\tremaining: 1.81s\n",
            "721:\tlearn: 0.0646420\ttotal: 4.7s\tremaining: 1.81s\n",
            "722:\tlearn: 0.0646274\ttotal: 4.7s\tremaining: 1.8s\n",
            "723:\tlearn: 0.0645866\ttotal: 4.71s\tremaining: 1.79s\n",
            "724:\tlearn: 0.0645370\ttotal: 4.72s\tremaining: 1.79s\n",
            "725:\tlearn: 0.0645233\ttotal: 4.72s\tremaining: 1.78s\n",
            "726:\tlearn: 0.0644989\ttotal: 4.73s\tremaining: 1.78s\n",
            "727:\tlearn: 0.0644684\ttotal: 4.74s\tremaining: 1.77s\n",
            "728:\tlearn: 0.0644552\ttotal: 4.75s\tremaining: 1.76s\n",
            "729:\tlearn: 0.0644247\ttotal: 4.77s\tremaining: 1.76s\n",
            "730:\tlearn: 0.0643970\ttotal: 4.78s\tremaining: 1.76s\n",
            "731:\tlearn: 0.0643111\ttotal: 4.78s\tremaining: 1.75s\n",
            "732:\tlearn: 0.0643061\ttotal: 4.79s\tremaining: 1.74s\n",
            "733:\tlearn: 0.0642842\ttotal: 4.8s\tremaining: 1.74s\n",
            "734:\tlearn: 0.0642667\ttotal: 4.81s\tremaining: 1.74s\n",
            "735:\tlearn: 0.0642437\ttotal: 4.82s\tremaining: 1.73s\n",
            "736:\tlearn: 0.0642190\ttotal: 4.83s\tremaining: 1.72s\n",
            "737:\tlearn: 0.0642036\ttotal: 4.87s\tremaining: 1.73s\n",
            "738:\tlearn: 0.0641940\ttotal: 4.89s\tremaining: 1.73s\n",
            "739:\tlearn: 0.0641624\ttotal: 4.89s\tremaining: 1.72s\n",
            "740:\tlearn: 0.0641453\ttotal: 4.9s\tremaining: 1.71s\n",
            "741:\tlearn: 0.0641407\ttotal: 4.91s\tremaining: 1.71s\n",
            "742:\tlearn: 0.0641291\ttotal: 4.92s\tremaining: 1.7s\n",
            "743:\tlearn: 0.0641160\ttotal: 4.93s\tremaining: 1.7s\n",
            "744:\tlearn: 0.0640925\ttotal: 4.94s\tremaining: 1.69s\n",
            "745:\tlearn: 0.0640794\ttotal: 4.94s\tremaining: 1.68s\n",
            "746:\tlearn: 0.0640503\ttotal: 4.95s\tremaining: 1.68s\n",
            "747:\tlearn: 0.0640418\ttotal: 4.96s\tremaining: 1.67s\n",
            "748:\tlearn: 0.0640186\ttotal: 4.96s\tremaining: 1.66s\n",
            "749:\tlearn: 0.0639524\ttotal: 4.97s\tremaining: 1.66s\n",
            "750:\tlearn: 0.0639479\ttotal: 4.98s\tremaining: 1.65s\n",
            "751:\tlearn: 0.0639122\ttotal: 4.98s\tremaining: 1.64s\n",
            "752:\tlearn: 0.0638804\ttotal: 4.99s\tremaining: 1.64s\n",
            "753:\tlearn: 0.0638547\ttotal: 5s\tremaining: 1.63s\n",
            "754:\tlearn: 0.0638328\ttotal: 5s\tremaining: 1.62s\n",
            "755:\tlearn: 0.0638186\ttotal: 5.01s\tremaining: 1.62s\n",
            "756:\tlearn: 0.0638041\ttotal: 5.02s\tremaining: 1.61s\n",
            "757:\tlearn: 0.0637831\ttotal: 5.02s\tremaining: 1.6s\n",
            "758:\tlearn: 0.0637624\ttotal: 5.03s\tremaining: 1.6s\n",
            "759:\tlearn: 0.0637413\ttotal: 5.03s\tremaining: 1.59s\n",
            "760:\tlearn: 0.0637148\ttotal: 5.04s\tremaining: 1.58s\n",
            "761:\tlearn: 0.0636854\ttotal: 5.04s\tremaining: 1.57s\n",
            "762:\tlearn: 0.0636785\ttotal: 5.05s\tremaining: 1.57s\n",
            "763:\tlearn: 0.0636719\ttotal: 5.06s\tremaining: 1.56s\n",
            "764:\tlearn: 0.0636572\ttotal: 5.06s\tremaining: 1.55s\n",
            "765:\tlearn: 0.0636509\ttotal: 5.07s\tremaining: 1.55s\n",
            "766:\tlearn: 0.0635996\ttotal: 5.08s\tremaining: 1.54s\n",
            "767:\tlearn: 0.0635726\ttotal: 5.09s\tremaining: 1.54s\n",
            "768:\tlearn: 0.0635517\ttotal: 5.09s\tremaining: 1.53s\n",
            "769:\tlearn: 0.0635240\ttotal: 5.1s\tremaining: 1.52s\n",
            "770:\tlearn: 0.0635042\ttotal: 5.11s\tremaining: 1.52s\n",
            "771:\tlearn: 0.0634662\ttotal: 5.11s\tremaining: 1.51s\n",
            "772:\tlearn: 0.0634488\ttotal: 5.12s\tremaining: 1.5s\n",
            "773:\tlearn: 0.0634235\ttotal: 5.12s\tremaining: 1.5s\n",
            "774:\tlearn: 0.0633815\ttotal: 5.13s\tremaining: 1.49s\n",
            "775:\tlearn: 0.0633382\ttotal: 5.14s\tremaining: 1.48s\n",
            "776:\tlearn: 0.0632979\ttotal: 5.14s\tremaining: 1.48s\n",
            "777:\tlearn: 0.0632739\ttotal: 5.15s\tremaining: 1.47s\n",
            "778:\tlearn: 0.0632560\ttotal: 5.16s\tremaining: 1.46s\n",
            "779:\tlearn: 0.0632427\ttotal: 5.16s\tremaining: 1.46s\n",
            "780:\tlearn: 0.0632171\ttotal: 5.17s\tremaining: 1.45s\n",
            "781:\tlearn: 0.0631953\ttotal: 5.18s\tremaining: 1.44s\n",
            "782:\tlearn: 0.0631842\ttotal: 5.18s\tremaining: 1.44s\n",
            "783:\tlearn: 0.0631217\ttotal: 5.19s\tremaining: 1.43s\n",
            "784:\tlearn: 0.0630938\ttotal: 5.2s\tremaining: 1.43s\n",
            "785:\tlearn: 0.0630527\ttotal: 5.22s\tremaining: 1.42s\n",
            "786:\tlearn: 0.0630078\ttotal: 5.22s\tremaining: 1.41s\n",
            "787:\tlearn: 0.0629809\ttotal: 5.23s\tremaining: 1.41s\n",
            "788:\tlearn: 0.0629095\ttotal: 5.24s\tremaining: 1.4s\n",
            "789:\tlearn: 0.0628946\ttotal: 5.25s\tremaining: 1.4s\n",
            "790:\tlearn: 0.0628871\ttotal: 5.26s\tremaining: 1.39s\n",
            "791:\tlearn: 0.0628687\ttotal: 5.26s\tremaining: 1.38s\n",
            "792:\tlearn: 0.0628592\ttotal: 5.27s\tremaining: 1.38s\n",
            "793:\tlearn: 0.0628409\ttotal: 5.28s\tremaining: 1.37s\n",
            "794:\tlearn: 0.0627989\ttotal: 5.29s\tremaining: 1.36s\n",
            "795:\tlearn: 0.0627484\ttotal: 5.3s\tremaining: 1.36s\n",
            "796:\tlearn: 0.0627250\ttotal: 5.31s\tremaining: 1.35s\n",
            "797:\tlearn: 0.0627148\ttotal: 5.32s\tremaining: 1.34s\n",
            "798:\tlearn: 0.0626935\ttotal: 5.33s\tremaining: 1.34s\n",
            "799:\tlearn: 0.0626845\ttotal: 5.34s\tremaining: 1.33s\n",
            "800:\tlearn: 0.0626468\ttotal: 5.35s\tremaining: 1.33s\n",
            "801:\tlearn: 0.0626283\ttotal: 5.36s\tremaining: 1.32s\n",
            "802:\tlearn: 0.0626109\ttotal: 5.36s\tremaining: 1.31s\n",
            "803:\tlearn: 0.0625876\ttotal: 5.37s\tremaining: 1.31s\n",
            "804:\tlearn: 0.0625544\ttotal: 5.38s\tremaining: 1.3s\n",
            "805:\tlearn: 0.0625502\ttotal: 5.39s\tremaining: 1.3s\n",
            "806:\tlearn: 0.0625409\ttotal: 5.41s\tremaining: 1.29s\n",
            "807:\tlearn: 0.0625189\ttotal: 5.41s\tremaining: 1.29s\n",
            "808:\tlearn: 0.0624860\ttotal: 5.42s\tremaining: 1.28s\n",
            "809:\tlearn: 0.0624116\ttotal: 5.42s\tremaining: 1.27s\n",
            "810:\tlearn: 0.0623952\ttotal: 5.43s\tremaining: 1.27s\n",
            "811:\tlearn: 0.0623409\ttotal: 5.44s\tremaining: 1.26s\n",
            "812:\tlearn: 0.0623212\ttotal: 5.45s\tremaining: 1.25s\n",
            "813:\tlearn: 0.0622931\ttotal: 5.46s\tremaining: 1.25s\n",
            "814:\tlearn: 0.0622821\ttotal: 5.46s\tremaining: 1.24s\n",
            "815:\tlearn: 0.0622530\ttotal: 5.47s\tremaining: 1.23s\n",
            "816:\tlearn: 0.0622459\ttotal: 5.47s\tremaining: 1.23s\n",
            "817:\tlearn: 0.0621844\ttotal: 5.48s\tremaining: 1.22s\n",
            "818:\tlearn: 0.0621679\ttotal: 5.49s\tremaining: 1.21s\n",
            "819:\tlearn: 0.0621501\ttotal: 5.49s\tremaining: 1.21s\n",
            "820:\tlearn: 0.0621404\ttotal: 5.5s\tremaining: 1.2s\n",
            "821:\tlearn: 0.0621153\ttotal: 5.52s\tremaining: 1.2s\n",
            "822:\tlearn: 0.0621077\ttotal: 5.53s\tremaining: 1.19s\n",
            "823:\tlearn: 0.0621038\ttotal: 5.54s\tremaining: 1.18s\n",
            "824:\tlearn: 0.0620524\ttotal: 5.54s\tremaining: 1.18s\n",
            "825:\tlearn: 0.0620346\ttotal: 5.55s\tremaining: 1.17s\n",
            "826:\tlearn: 0.0619927\ttotal: 5.55s\tremaining: 1.16s\n",
            "827:\tlearn: 0.0619459\ttotal: 5.56s\tremaining: 1.16s\n",
            "828:\tlearn: 0.0619368\ttotal: 5.57s\tremaining: 1.15s\n",
            "829:\tlearn: 0.0618952\ttotal: 5.58s\tremaining: 1.14s\n",
            "830:\tlearn: 0.0618770\ttotal: 5.58s\tremaining: 1.14s\n",
            "831:\tlearn: 0.0618714\ttotal: 5.59s\tremaining: 1.13s\n",
            "832:\tlearn: 0.0618228\ttotal: 5.6s\tremaining: 1.12s\n",
            "833:\tlearn: 0.0617878\ttotal: 5.61s\tremaining: 1.11s\n",
            "834:\tlearn: 0.0617692\ttotal: 5.61s\tremaining: 1.11s\n",
            "835:\tlearn: 0.0617469\ttotal: 5.62s\tremaining: 1.1s\n",
            "836:\tlearn: 0.0617105\ttotal: 5.62s\tremaining: 1.09s\n",
            "837:\tlearn: 0.0617000\ttotal: 5.63s\tremaining: 1.09s\n",
            "838:\tlearn: 0.0616352\ttotal: 5.64s\tremaining: 1.08s\n",
            "839:\tlearn: 0.0616178\ttotal: 5.64s\tremaining: 1.07s\n",
            "840:\tlearn: 0.0616143\ttotal: 5.65s\tremaining: 1.07s\n",
            "841:\tlearn: 0.0616090\ttotal: 5.65s\tremaining: 1.06s\n",
            "842:\tlearn: 0.0616023\ttotal: 5.66s\tremaining: 1.05s\n",
            "843:\tlearn: 0.0615858\ttotal: 5.67s\tremaining: 1.05s\n",
            "844:\tlearn: 0.0615703\ttotal: 5.67s\tremaining: 1.04s\n",
            "845:\tlearn: 0.0615430\ttotal: 5.68s\tremaining: 1.03s\n",
            "846:\tlearn: 0.0615379\ttotal: 5.69s\tremaining: 1.03s\n",
            "847:\tlearn: 0.0615233\ttotal: 5.69s\tremaining: 1.02s\n",
            "848:\tlearn: 0.0615109\ttotal: 5.7s\tremaining: 1.01s\n",
            "849:\tlearn: 0.0614984\ttotal: 5.71s\tremaining: 1.01s\n",
            "850:\tlearn: 0.0614762\ttotal: 5.71s\tremaining: 1s\n",
            "851:\tlearn: 0.0614676\ttotal: 5.72s\tremaining: 994ms\n",
            "852:\tlearn: 0.0614142\ttotal: 5.73s\tremaining: 987ms\n",
            "853:\tlearn: 0.0613917\ttotal: 5.74s\tremaining: 981ms\n",
            "854:\tlearn: 0.0613808\ttotal: 5.74s\tremaining: 974ms\n",
            "855:\tlearn: 0.0613548\ttotal: 5.75s\tremaining: 967ms\n",
            "856:\tlearn: 0.0613351\ttotal: 5.75s\tremaining: 960ms\n",
            "857:\tlearn: 0.0612920\ttotal: 5.76s\tremaining: 954ms\n",
            "858:\tlearn: 0.0612604\ttotal: 5.77s\tremaining: 947ms\n",
            "859:\tlearn: 0.0612400\ttotal: 5.78s\tremaining: 940ms\n",
            "860:\tlearn: 0.0612241\ttotal: 5.79s\tremaining: 935ms\n",
            "861:\tlearn: 0.0612076\ttotal: 5.79s\tremaining: 928ms\n",
            "862:\tlearn: 0.0611918\ttotal: 5.8s\tremaining: 921ms\n",
            "863:\tlearn: 0.0611756\ttotal: 5.81s\tremaining: 914ms\n",
            "864:\tlearn: 0.0611664\ttotal: 5.82s\tremaining: 908ms\n",
            "865:\tlearn: 0.0611458\ttotal: 5.84s\tremaining: 903ms\n",
            "866:\tlearn: 0.0611277\ttotal: 5.88s\tremaining: 902ms\n",
            "867:\tlearn: 0.0611228\ttotal: 5.9s\tremaining: 897ms\n",
            "868:\tlearn: 0.0610837\ttotal: 5.91s\tremaining: 891ms\n",
            "869:\tlearn: 0.0610348\ttotal: 5.92s\tremaining: 884ms\n",
            "870:\tlearn: 0.0610263\ttotal: 5.92s\tremaining: 878ms\n",
            "871:\tlearn: 0.0610063\ttotal: 5.93s\tremaining: 871ms\n",
            "872:\tlearn: 0.0609931\ttotal: 5.94s\tremaining: 864ms\n",
            "873:\tlearn: 0.0609821\ttotal: 5.96s\tremaining: 859ms\n",
            "874:\tlearn: 0.0609359\ttotal: 5.97s\tremaining: 854ms\n",
            "875:\tlearn: 0.0609156\ttotal: 5.98s\tremaining: 847ms\n",
            "876:\tlearn: 0.0609060\ttotal: 5.99s\tremaining: 840ms\n",
            "877:\tlearn: 0.0608692\ttotal: 6s\tremaining: 834ms\n",
            "878:\tlearn: 0.0608364\ttotal: 6.02s\tremaining: 828ms\n",
            "879:\tlearn: 0.0607864\ttotal: 6.03s\tremaining: 822ms\n",
            "880:\tlearn: 0.0607725\ttotal: 6.04s\tremaining: 816ms\n",
            "881:\tlearn: 0.0607398\ttotal: 6.05s\tremaining: 809ms\n",
            "882:\tlearn: 0.0607332\ttotal: 6.05s\tremaining: 802ms\n",
            "883:\tlearn: 0.0607294\ttotal: 6.06s\tremaining: 796ms\n",
            "884:\tlearn: 0.0607139\ttotal: 6.07s\tremaining: 789ms\n",
            "885:\tlearn: 0.0606977\ttotal: 6.08s\tremaining: 782ms\n",
            "886:\tlearn: 0.0606813\ttotal: 6.08s\tremaining: 775ms\n",
            "887:\tlearn: 0.0606752\ttotal: 6.09s\tremaining: 768ms\n",
            "888:\tlearn: 0.0606661\ttotal: 6.1s\tremaining: 761ms\n",
            "889:\tlearn: 0.0606338\ttotal: 6.12s\tremaining: 756ms\n",
            "890:\tlearn: 0.0606212\ttotal: 6.12s\tremaining: 749ms\n",
            "891:\tlearn: 0.0606180\ttotal: 6.14s\tremaining: 743ms\n",
            "892:\tlearn: 0.0606065\ttotal: 6.15s\tremaining: 736ms\n",
            "893:\tlearn: 0.0605866\ttotal: 6.15s\tremaining: 730ms\n",
            "894:\tlearn: 0.0605420\ttotal: 6.16s\tremaining: 723ms\n",
            "895:\tlearn: 0.0605112\ttotal: 6.17s\tremaining: 716ms\n",
            "896:\tlearn: 0.0605027\ttotal: 6.17s\tremaining: 709ms\n",
            "897:\tlearn: 0.0604615\ttotal: 6.19s\tremaining: 703ms\n",
            "898:\tlearn: 0.0604465\ttotal: 6.2s\tremaining: 696ms\n",
            "899:\tlearn: 0.0604271\ttotal: 6.2s\tremaining: 689ms\n",
            "900:\tlearn: 0.0603946\ttotal: 6.21s\tremaining: 682ms\n",
            "901:\tlearn: 0.0603836\ttotal: 6.21s\tremaining: 675ms\n",
            "902:\tlearn: 0.0603646\ttotal: 6.23s\tremaining: 669ms\n",
            "903:\tlearn: 0.0603488\ttotal: 6.24s\tremaining: 663ms\n",
            "904:\tlearn: 0.0603369\ttotal: 6.25s\tremaining: 656ms\n",
            "905:\tlearn: 0.0603077\ttotal: 6.26s\tremaining: 649ms\n",
            "906:\tlearn: 0.0602933\ttotal: 6.27s\tremaining: 643ms\n",
            "907:\tlearn: 0.0602662\ttotal: 6.28s\tremaining: 636ms\n",
            "908:\tlearn: 0.0602477\ttotal: 6.28s\tremaining: 629ms\n",
            "909:\tlearn: 0.0602063\ttotal: 6.29s\tremaining: 623ms\n",
            "910:\tlearn: 0.0601701\ttotal: 6.3s\tremaining: 616ms\n",
            "911:\tlearn: 0.0601363\ttotal: 6.31s\tremaining: 609ms\n",
            "912:\tlearn: 0.0601184\ttotal: 6.31s\tremaining: 602ms\n",
            "913:\tlearn: 0.0601004\ttotal: 6.32s\tremaining: 595ms\n",
            "914:\tlearn: 0.0600761\ttotal: 6.33s\tremaining: 588ms\n",
            "915:\tlearn: 0.0600422\ttotal: 6.33s\tremaining: 581ms\n",
            "916:\tlearn: 0.0600071\ttotal: 6.34s\tremaining: 574ms\n",
            "917:\tlearn: 0.0599667\ttotal: 6.34s\tremaining: 567ms\n",
            "918:\tlearn: 0.0599594\ttotal: 6.35s\tremaining: 560ms\n",
            "919:\tlearn: 0.0599440\ttotal: 6.36s\tremaining: 553ms\n",
            "920:\tlearn: 0.0599314\ttotal: 6.36s\tremaining: 546ms\n",
            "921:\tlearn: 0.0599111\ttotal: 6.37s\tremaining: 539ms\n",
            "922:\tlearn: 0.0599039\ttotal: 6.38s\tremaining: 532ms\n",
            "923:\tlearn: 0.0598400\ttotal: 6.38s\tremaining: 525ms\n",
            "924:\tlearn: 0.0598076\ttotal: 6.39s\tremaining: 519ms\n",
            "925:\tlearn: 0.0597920\ttotal: 6.4s\tremaining: 512ms\n",
            "926:\tlearn: 0.0597655\ttotal: 6.41s\tremaining: 505ms\n",
            "927:\tlearn: 0.0597299\ttotal: 6.42s\tremaining: 498ms\n",
            "928:\tlearn: 0.0596898\ttotal: 6.42s\tremaining: 491ms\n",
            "929:\tlearn: 0.0596621\ttotal: 6.43s\tremaining: 484ms\n",
            "930:\tlearn: 0.0596337\ttotal: 6.45s\tremaining: 478ms\n",
            "931:\tlearn: 0.0596082\ttotal: 6.46s\tremaining: 471ms\n",
            "932:\tlearn: 0.0595858\ttotal: 6.47s\tremaining: 465ms\n",
            "933:\tlearn: 0.0595640\ttotal: 6.48s\tremaining: 458ms\n",
            "934:\tlearn: 0.0595479\ttotal: 6.49s\tremaining: 451ms\n",
            "935:\tlearn: 0.0595320\ttotal: 6.49s\tremaining: 444ms\n",
            "936:\tlearn: 0.0595260\ttotal: 6.5s\tremaining: 437ms\n",
            "937:\tlearn: 0.0594936\ttotal: 6.51s\tremaining: 430ms\n",
            "938:\tlearn: 0.0594826\ttotal: 6.51s\tremaining: 423ms\n",
            "939:\tlearn: 0.0594648\ttotal: 6.52s\tremaining: 416ms\n",
            "940:\tlearn: 0.0594499\ttotal: 6.53s\tremaining: 409ms\n",
            "941:\tlearn: 0.0594353\ttotal: 6.53s\tremaining: 402ms\n",
            "942:\tlearn: 0.0594185\ttotal: 6.54s\tremaining: 395ms\n",
            "943:\tlearn: 0.0593984\ttotal: 6.54s\tremaining: 388ms\n",
            "944:\tlearn: 0.0593906\ttotal: 6.55s\tremaining: 381ms\n",
            "945:\tlearn: 0.0593319\ttotal: 6.56s\tremaining: 374ms\n",
            "946:\tlearn: 0.0593134\ttotal: 6.57s\tremaining: 367ms\n",
            "947:\tlearn: 0.0592985\ttotal: 6.57s\tremaining: 361ms\n",
            "948:\tlearn: 0.0592717\ttotal: 6.58s\tremaining: 354ms\n",
            "949:\tlearn: 0.0592616\ttotal: 6.59s\tremaining: 347ms\n",
            "950:\tlearn: 0.0592423\ttotal: 6.61s\tremaining: 341ms\n",
            "951:\tlearn: 0.0592087\ttotal: 6.62s\tremaining: 334ms\n",
            "952:\tlearn: 0.0591989\ttotal: 6.63s\tremaining: 327ms\n",
            "953:\tlearn: 0.0591757\ttotal: 6.64s\tremaining: 320ms\n",
            "954:\tlearn: 0.0591557\ttotal: 6.65s\tremaining: 313ms\n",
            "955:\tlearn: 0.0591432\ttotal: 6.65s\tremaining: 306ms\n",
            "956:\tlearn: 0.0591331\ttotal: 6.66s\tremaining: 299ms\n",
            "957:\tlearn: 0.0590797\ttotal: 6.67s\tremaining: 292ms\n",
            "958:\tlearn: 0.0590731\ttotal: 6.68s\tremaining: 286ms\n",
            "959:\tlearn: 0.0590549\ttotal: 6.71s\tremaining: 279ms\n",
            "960:\tlearn: 0.0590223\ttotal: 6.71s\tremaining: 272ms\n",
            "961:\tlearn: 0.0590138\ttotal: 6.72s\tremaining: 265ms\n",
            "962:\tlearn: 0.0589951\ttotal: 6.73s\tremaining: 259ms\n",
            "963:\tlearn: 0.0589619\ttotal: 6.76s\tremaining: 253ms\n",
            "964:\tlearn: 0.0589506\ttotal: 6.78s\tremaining: 246ms\n",
            "965:\tlearn: 0.0589332\ttotal: 6.79s\tremaining: 239ms\n",
            "966:\tlearn: 0.0589101\ttotal: 6.8s\tremaining: 232ms\n",
            "967:\tlearn: 0.0588556\ttotal: 6.81s\tremaining: 225ms\n",
            "968:\tlearn: 0.0588485\ttotal: 6.82s\tremaining: 218ms\n",
            "969:\tlearn: 0.0587961\ttotal: 6.83s\tremaining: 211ms\n",
            "970:\tlearn: 0.0587702\ttotal: 6.86s\tremaining: 205ms\n",
            "971:\tlearn: 0.0587485\ttotal: 6.87s\tremaining: 198ms\n",
            "972:\tlearn: 0.0587369\ttotal: 6.88s\tremaining: 191ms\n",
            "973:\tlearn: 0.0587196\ttotal: 6.89s\tremaining: 184ms\n",
            "974:\tlearn: 0.0587036\ttotal: 6.89s\tremaining: 177ms\n",
            "975:\tlearn: 0.0586801\ttotal: 6.91s\tremaining: 170ms\n",
            "976:\tlearn: 0.0586701\ttotal: 6.92s\tremaining: 163ms\n",
            "977:\tlearn: 0.0586453\ttotal: 6.92s\tremaining: 156ms\n",
            "978:\tlearn: 0.0586272\ttotal: 6.93s\tremaining: 149ms\n",
            "979:\tlearn: 0.0585990\ttotal: 6.93s\tremaining: 142ms\n",
            "980:\tlearn: 0.0585762\ttotal: 6.94s\tremaining: 134ms\n",
            "981:\tlearn: 0.0585655\ttotal: 6.95s\tremaining: 127ms\n",
            "982:\tlearn: 0.0585477\ttotal: 6.96s\tremaining: 120ms\n",
            "983:\tlearn: 0.0585386\ttotal: 6.96s\tremaining: 113ms\n",
            "984:\tlearn: 0.0585162\ttotal: 6.98s\tremaining: 106ms\n",
            "985:\tlearn: 0.0585034\ttotal: 6.99s\tremaining: 99.2ms\n",
            "986:\tlearn: 0.0584823\ttotal: 7s\tremaining: 92.1ms\n",
            "987:\tlearn: 0.0584677\ttotal: 7s\tremaining: 85ms\n",
            "988:\tlearn: 0.0584493\ttotal: 7.01s\tremaining: 78ms\n",
            "989:\tlearn: 0.0584438\ttotal: 7.02s\tremaining: 70.9ms\n",
            "990:\tlearn: 0.0584418\ttotal: 7.04s\tremaining: 63.9ms\n",
            "991:\tlearn: 0.0584278\ttotal: 7.04s\tremaining: 56.8ms\n",
            "992:\tlearn: 0.0584037\ttotal: 7.05s\tremaining: 49.7ms\n",
            "993:\tlearn: 0.0583890\ttotal: 7.06s\tremaining: 42.6ms\n",
            "994:\tlearn: 0.0583653\ttotal: 7.07s\tremaining: 35.5ms\n",
            "995:\tlearn: 0.0583349\ttotal: 7.08s\tremaining: 28.4ms\n",
            "996:\tlearn: 0.0583130\ttotal: 7.09s\tremaining: 21.3ms\n",
            "997:\tlearn: 0.0583009\ttotal: 7.1s\tremaining: 14.2ms\n",
            "998:\tlearn: 0.0582654\ttotal: 7.11s\tremaining: 7.11ms\n",
            "999:\tlearn: 0.0582497\ttotal: 7.11s\tremaining: 0us\n",
            "              precision    recall  f1-score   support\n",
            "\n",
            "           0       0.98      0.99      0.98     10564\n",
            "           1       0.83      0.57      0.68       599\n",
            "\n",
            "    accuracy                           0.97     11163\n",
            "   macro avg       0.90      0.78      0.83     11163\n",
            "weighted avg       0.97      0.97      0.97     11163\n",
            "\n"
          ]
        }
      ]
    },
    {
      "cell_type": "code",
      "source": [
        "from sklearn.metrics import f1_score,roc_auc_score\n",
        "print(f1_score(y_inf, y_pred)) \n",
        "print(roc_auc_score(y_inf, y_pred))"
      ],
      "metadata": {
        "colab": {
          "base_uri": "https://localhost:8080/"
        },
        "id": "vgx-XAo1rb4-",
        "outputId": "a38182bc-c28a-4718-bea1-d1746786ba6a"
      },
      "execution_count": 83,
      "outputs": [
        {
          "output_type": "stream",
          "name": "stdout",
          "text": [
            "0.6759167492566898\n",
            "0.7813752600415055\n"
          ]
        }
      ]
    },
    {
      "cell_type": "code",
      "source": [
        "df1 = df[df['Year'] >= 2008]\n",
        "df2 = df1[df1['Year'] <= 2009]\n",
        "\n",
        "X_test2 = df2[df2['Year'] >= 2008].drop(drop_columns,axis=1)\n",
        "y_test2 = df2[df2['Year'] >= 2008]['Is Fraud?']"
      ],
      "metadata": {
        "id": "6Uc9moWFNImG"
      },
      "execution_count": 84,
      "outputs": []
    },
    {
      "cell_type": "code",
      "source": [
        "import math\n",
        "f1s = {}\n",
        "f1s['p'] = []\n",
        "f1s['r'] = []\n",
        "f1s['f'] = []\n",
        "window_size = 10000\n",
        "step = 500\n",
        "batch = math.ceil((X_test2.shape[0]-window_size)/step)\n",
        "for i in range(batch):\n",
        "    ux = X_test2[i*step:i*step+window_size]\n",
        "    uy = y_test2[i*step:i*step+window_size]\n",
        "    y_pred=cat.predict(ux)\n",
        "    #ppy = [1 if m=='No' else 0 for m in y_pred]   \n",
        "    f1 = precision_recall_fscore_support(uy, y_pred,average='binary') #precision_recall_fscore_support([1 if m=='No' else 0 for m in uy], ppy,average='binary')\n",
        "    print(f\"p:{f1[0]:.4f} \\n{uy.value_counts()}\")\n",
        "    f1s['p'].append(f1[0])\n",
        "    f1s['r'].append(f1[1])\n",
        "    f1s['f'].append(f1[2])"
      ],
      "metadata": {
        "colab": {
          "base_uri": "https://localhost:8080/"
        },
        "id": "6kxYw0VVNLzj",
        "outputId": "294ad2bc-2cb5-4f7e-8b92-9b6b38cc83b5"
      },
      "execution_count": 85,
      "outputs": [
        {
          "output_type": "stream",
          "name": "stdout",
          "text": [
            "p:0.9181 \n",
            "0    9265\n",
            "1     735\n",
            "Name: Is Fraud?, dtype: int64\n",
            "p:0.9141 \n",
            "0    9280\n",
            "1     720\n",
            "Name: Is Fraud?, dtype: int64\n",
            "p:0.9098 \n",
            "0    9292\n",
            "1     708\n",
            "Name: Is Fraud?, dtype: int64\n",
            "p:0.9064 \n",
            "0    9306\n",
            "1     694\n",
            "Name: Is Fraud?, dtype: int64\n",
            "p:0.9125 \n",
            "0    9296\n",
            "1     704\n",
            "Name: Is Fraud?, dtype: int64\n",
            "p:0.9136 \n",
            "0    9296\n",
            "1     704\n",
            "Name: Is Fraud?, dtype: int64\n",
            "p:0.9094 \n",
            "0    9302\n",
            "1     698\n",
            "Name: Is Fraud?, dtype: int64\n",
            "p:0.9159 \n",
            "0    9262\n",
            "1     738\n",
            "Name: Is Fraud?, dtype: int64\n",
            "p:0.9188 \n",
            "0    9241\n",
            "1     759\n",
            "Name: Is Fraud?, dtype: int64\n",
            "p:0.9177 \n",
            "0    9246\n",
            "1     754\n",
            "Name: Is Fraud?, dtype: int64\n",
            "p:0.9171 \n",
            "0    9211\n",
            "1     789\n",
            "Name: Is Fraud?, dtype: int64\n",
            "p:0.9160 \n",
            "0    9210\n",
            "1     790\n",
            "Name: Is Fraud?, dtype: int64\n",
            "p:0.9183 \n",
            "0    9192\n",
            "1     808\n",
            "Name: Is Fraud?, dtype: int64\n",
            "p:0.9228 \n",
            "0    9158\n",
            "1     842\n",
            "Name: Is Fraud?, dtype: int64\n",
            "p:0.9218 \n",
            "0    9199\n",
            "1     801\n",
            "Name: Is Fraud?, dtype: int64\n",
            "p:0.9185 \n",
            "0    9214\n",
            "1     786\n",
            "Name: Is Fraud?, dtype: int64\n",
            "p:0.9210 \n",
            "0    9211\n",
            "1     789\n",
            "Name: Is Fraud?, dtype: int64\n",
            "p:0.9174 \n",
            "0    9247\n",
            "1     753\n",
            "Name: Is Fraud?, dtype: int64\n",
            "p:0.9212 \n",
            "0    9220\n",
            "1     780\n",
            "Name: Is Fraud?, dtype: int64\n",
            "p:0.9120 \n",
            "0    9261\n",
            "1     739\n",
            "Name: Is Fraud?, dtype: int64\n",
            "p:0.9183 \n",
            "0    9249\n",
            "1     751\n",
            "Name: Is Fraud?, dtype: int64\n",
            "p:0.9199 \n",
            "0    9207\n",
            "1     793\n",
            "Name: Is Fraud?, dtype: int64\n",
            "p:0.9223 \n",
            "0    9186\n",
            "1     814\n",
            "Name: Is Fraud?, dtype: int64\n",
            "p:0.9195 \n",
            "0    9191\n",
            "1     809\n",
            "Name: Is Fraud?, dtype: int64\n",
            "p:0.9149 \n",
            "0    9200\n",
            "1     800\n",
            "Name: Is Fraud?, dtype: int64\n",
            "p:0.9137 \n",
            "0    9181\n",
            "1     819\n",
            "Name: Is Fraud?, dtype: int64\n",
            "p:0.9183 \n",
            "0    9195\n",
            "1     805\n",
            "Name: Is Fraud?, dtype: int64\n",
            "p:0.9174 \n",
            "0    9193\n",
            "1     807\n",
            "Name: Is Fraud?, dtype: int64\n",
            "p:0.9140 \n",
            "0    9204\n",
            "1     796\n",
            "Name: Is Fraud?, dtype: int64\n",
            "p:0.9157 \n",
            "0    9194\n",
            "1     806\n",
            "Name: Is Fraud?, dtype: int64\n",
            "p:0.9157 \n",
            "0    9193\n",
            "1     807\n",
            "Name: Is Fraud?, dtype: int64\n",
            "p:0.9236 \n",
            "0    9185\n",
            "1     815\n",
            "Name: Is Fraud?, dtype: int64\n",
            "p:0.9227 \n",
            "0    9174\n",
            "1     826\n",
            "Name: Is Fraud?, dtype: int64\n",
            "p:0.9198 \n",
            "0    9198\n",
            "1     802\n",
            "Name: Is Fraud?, dtype: int64\n",
            "p:0.9173 \n",
            "0    9178\n",
            "1     822\n",
            "Name: Is Fraud?, dtype: int64\n",
            "p:0.9130 \n",
            "0    9188\n",
            "1     812\n",
            "Name: Is Fraud?, dtype: int64\n",
            "p:0.9174 \n",
            "0    9185\n",
            "1     815\n",
            "Name: Is Fraud?, dtype: int64\n",
            "p:0.9227 \n",
            "0    9161\n",
            "1     839\n",
            "Name: Is Fraud?, dtype: int64\n",
            "p:0.9238 \n",
            "0    9164\n",
            "1     836\n",
            "Name: Is Fraud?, dtype: int64\n",
            "p:0.9267 \n",
            "0    9148\n",
            "1     852\n",
            "Name: Is Fraud?, dtype: int64\n",
            "p:0.9211 \n",
            "0    9167\n",
            "1     833\n",
            "Name: Is Fraud?, dtype: int64\n",
            "p:0.9252 \n",
            "0    9178\n",
            "1     822\n",
            "Name: Is Fraud?, dtype: int64\n",
            "p:0.9284 \n",
            "0    9192\n",
            "1     808\n",
            "Name: Is Fraud?, dtype: int64\n",
            "p:0.9322 \n",
            "0    9192\n",
            "1     808\n",
            "Name: Is Fraud?, dtype: int64\n",
            "p:0.9295 \n",
            "0    9193\n",
            "1     807\n",
            "Name: Is Fraud?, dtype: int64\n",
            "p:0.9249 \n",
            "0    9181\n",
            "1     819\n",
            "Name: Is Fraud?, dtype: int64\n",
            "p:0.9250 \n",
            "0    9143\n",
            "1     857\n",
            "Name: Is Fraud?, dtype: int64\n",
            "p:0.9153 \n",
            "0    9189\n",
            "1     811\n",
            "Name: Is Fraud?, dtype: int64\n",
            "p:0.9126 \n",
            "0    9167\n",
            "1     833\n",
            "Name: Is Fraud?, dtype: int64\n",
            "p:0.9180 \n",
            "0    9140\n",
            "1     860\n",
            "Name: Is Fraud?, dtype: int64\n",
            "p:0.9135 \n",
            "0    9122\n",
            "1     878\n",
            "Name: Is Fraud?, dtype: int64\n",
            "p:0.9122 \n",
            "0    9110\n",
            "1     890\n",
            "Name: Is Fraud?, dtype: int64\n",
            "p:0.9108 \n",
            "0    9129\n",
            "1     871\n",
            "Name: Is Fraud?, dtype: int64\n",
            "p:0.9140 \n",
            "0    9088\n",
            "1     912\n",
            "Name: Is Fraud?, dtype: int64\n",
            "p:0.9165 \n",
            "0    9106\n",
            "1     894\n",
            "Name: Is Fraud?, dtype: int64\n",
            "p:0.9223 \n",
            "0    9037\n",
            "1     963\n",
            "Name: Is Fraud?, dtype: int64\n",
            "p:0.9135 \n",
            "0    9051\n",
            "1     949\n",
            "Name: Is Fraud?, dtype: int64\n",
            "p:0.9139 \n",
            "0    9019\n",
            "1     981\n",
            "Name: Is Fraud?, dtype: int64\n",
            "p:0.9103 \n",
            "0    9006\n",
            "1     994\n",
            "Name: Is Fraud?, dtype: int64\n",
            "p:0.9108 \n",
            "0    8982\n",
            "1    1018\n",
            "Name: Is Fraud?, dtype: int64\n",
            "p:0.9078 \n",
            "0    8956\n",
            "1    1044\n",
            "Name: Is Fraud?, dtype: int64\n",
            "p:0.9064 \n",
            "0    8959\n",
            "1    1041\n",
            "Name: Is Fraud?, dtype: int64\n",
            "p:0.9033 \n",
            "0    8933\n",
            "1    1067\n",
            "Name: Is Fraud?, dtype: int64\n",
            "p:0.9020 \n",
            "0    8934\n",
            "1    1066\n",
            "Name: Is Fraud?, dtype: int64\n",
            "p:0.9076 \n",
            "0    8932\n",
            "1    1068\n",
            "Name: Is Fraud?, dtype: int64\n",
            "p:0.9125 \n",
            "0    8958\n",
            "1    1042\n",
            "Name: Is Fraud?, dtype: int64\n",
            "p:0.9101 \n",
            "0    8971\n",
            "1    1029\n",
            "Name: Is Fraud?, dtype: int64\n",
            "p:0.9113 \n",
            "0    8949\n",
            "1    1051\n",
            "Name: Is Fraud?, dtype: int64\n",
            "p:0.9141 \n",
            "0    8954\n",
            "1    1046\n",
            "Name: Is Fraud?, dtype: int64\n",
            "p:0.9061 \n",
            "0    9013\n",
            "1     987\n",
            "Name: Is Fraud?, dtype: int64\n",
            "p:0.9108 \n",
            "0    9040\n",
            "1     960\n",
            "Name: Is Fraud?, dtype: int64\n",
            "p:0.9075 \n",
            "0    9084\n",
            "1     916\n",
            "Name: Is Fraud?, dtype: int64\n",
            "p:0.9064 \n",
            "0    9077\n",
            "1     923\n",
            "Name: Is Fraud?, dtype: int64\n",
            "p:0.9027 \n",
            "0    9116\n",
            "1     884\n",
            "Name: Is Fraud?, dtype: int64\n",
            "p:0.9081 \n",
            "0    9090\n",
            "1     910\n",
            "Name: Is Fraud?, dtype: int64\n",
            "p:0.9035 \n",
            "0    9140\n",
            "1     860\n",
            "Name: Is Fraud?, dtype: int64\n",
            "p:0.9083 \n",
            "0    9124\n",
            "1     876\n",
            "Name: Is Fraud?, dtype: int64\n",
            "p:0.9047 \n",
            "0    9162\n",
            "1     838\n",
            "Name: Is Fraud?, dtype: int64\n",
            "p:0.9056 \n",
            "0    9185\n",
            "1     815\n",
            "Name: Is Fraud?, dtype: int64\n",
            "p:0.9023 \n",
            "0    9206\n",
            "1     794\n",
            "Name: Is Fraud?, dtype: int64\n",
            "p:0.9069 \n",
            "0    9219\n",
            "1     781\n",
            "Name: Is Fraud?, dtype: int64\n",
            "p:0.9025 \n",
            "0    9232\n",
            "1     768\n",
            "Name: Is Fraud?, dtype: int64\n",
            "p:0.9017 \n",
            "0    9241\n",
            "1     759\n",
            "Name: Is Fraud?, dtype: int64\n",
            "p:0.9007 \n",
            "0    9241\n",
            "1     759\n",
            "Name: Is Fraud?, dtype: int64\n",
            "p:0.9014 \n",
            "0    9227\n",
            "1     773\n",
            "Name: Is Fraud?, dtype: int64\n",
            "p:0.8950 \n",
            "0    9228\n",
            "1     772\n",
            "Name: Is Fraud?, dtype: int64\n",
            "p:0.8897 \n",
            "0    9264\n",
            "1     736\n",
            "Name: Is Fraud?, dtype: int64\n",
            "p:0.8912 \n",
            "0    9297\n",
            "1     703\n",
            "Name: Is Fraud?, dtype: int64\n",
            "p:0.8818 \n",
            "0    9350\n",
            "1     650\n",
            "Name: Is Fraud?, dtype: int64\n",
            "p:0.8793 \n",
            "0    9347\n",
            "1     653\n",
            "Name: Is Fraud?, dtype: int64\n",
            "p:0.8654 \n",
            "0    9374\n",
            "1     626\n",
            "Name: Is Fraud?, dtype: int64\n",
            "p:0.8659 \n",
            "0    9364\n",
            "1     636\n",
            "Name: Is Fraud?, dtype: int64\n",
            "p:0.8614 \n",
            "0    9401\n",
            "1     599\n",
            "Name: Is Fraud?, dtype: int64\n",
            "p:0.8483 \n",
            "0    9427\n",
            "1     573\n",
            "Name: Is Fraud?, dtype: int64\n",
            "p:0.8171 \n",
            "0    9482\n",
            "1     518\n",
            "Name: Is Fraud?, dtype: int64\n",
            "p:0.8107 \n",
            "0    9519\n",
            "1     481\n",
            "Name: Is Fraud?, dtype: int64\n",
            "p:0.7948 \n",
            "0    9559\n",
            "1     441\n",
            "Name: Is Fraud?, dtype: int64\n",
            "p:0.7524 \n",
            "0    9601\n",
            "1     399\n",
            "Name: Is Fraud?, dtype: int64\n",
            "p:0.7360 \n",
            "0    9623\n",
            "1     377\n",
            "Name: Is Fraud?, dtype: int64\n",
            "p:0.7228 \n",
            "0    9653\n",
            "1     347\n",
            "Name: Is Fraud?, dtype: int64\n",
            "p:0.6994 \n",
            "0    9684\n",
            "1     316\n",
            "Name: Is Fraud?, dtype: int64\n",
            "p:0.6748 \n",
            "0    9707\n",
            "1     293\n",
            "Name: Is Fraud?, dtype: int64\n",
            "p:0.6087 \n",
            "0    9747\n",
            "1     253\n",
            "Name: Is Fraud?, dtype: int64\n",
            "p:0.5635 \n",
            "0    9773\n",
            "1     227\n",
            "Name: Is Fraud?, dtype: int64\n",
            "p:0.4571 \n",
            "0    9814\n",
            "1     186\n",
            "Name: Is Fraud?, dtype: int64\n",
            "p:0.4327 \n",
            "0    9817\n",
            "1     183\n",
            "Name: Is Fraud?, dtype: int64\n",
            "p:0.4135 \n",
            "0    9819\n",
            "1     181\n",
            "Name: Is Fraud?, dtype: int64\n",
            "p:0.4404 \n",
            "0    9810\n",
            "1     190\n",
            "Name: Is Fraud?, dtype: int64\n",
            "p:0.4513 \n",
            "0    9808\n",
            "1     192\n",
            "Name: Is Fraud?, dtype: int64\n",
            "p:0.4828 \n",
            "0    9809\n",
            "1     191\n",
            "Name: Is Fraud?, dtype: int64\n",
            "p:0.4786 \n",
            "0    9824\n",
            "1     176\n",
            "Name: Is Fraud?, dtype: int64\n",
            "p:0.4915 \n",
            "0    9842\n",
            "1     158\n",
            "Name: Is Fraud?, dtype: int64\n",
            "p:0.4831 \n",
            "0    9845\n",
            "1     155\n",
            "Name: Is Fraud?, dtype: int64\n",
            "p:0.5088 \n",
            "0    9844\n",
            "1     156\n",
            "Name: Is Fraud?, dtype: int64\n",
            "p:0.5508 \n",
            "0    9827\n",
            "1     173\n",
            "Name: Is Fraud?, dtype: int64\n",
            "p:0.5630 \n",
            "0    9820\n",
            "1     180\n",
            "Name: Is Fraud?, dtype: int64\n",
            "p:0.5750 \n",
            "0    9815\n",
            "1     185\n",
            "Name: Is Fraud?, dtype: int64\n",
            "p:0.6148 \n",
            "0    9803\n",
            "1     197\n",
            "Name: Is Fraud?, dtype: int64\n",
            "p:0.5983 \n",
            "0    9807\n",
            "1     193\n",
            "Name: Is Fraud?, dtype: int64\n",
            "p:0.6071 \n",
            "0    9809\n",
            "1     191\n",
            "Name: Is Fraud?, dtype: int64\n",
            "p:0.5981 \n",
            "0    9816\n",
            "1     184\n",
            "Name: Is Fraud?, dtype: int64\n",
            "p:0.6000 \n",
            "0    9821\n",
            "1     179\n",
            "Name: Is Fraud?, dtype: int64\n",
            "p:0.6040 \n",
            "0    9833\n",
            "1     167\n",
            "Name: Is Fraud?, dtype: int64\n",
            "p:0.6061 \n",
            "0    9833\n",
            "1     167\n",
            "Name: Is Fraud?, dtype: int64\n",
            "p:0.6019 \n",
            "0    9837\n",
            "1     163\n",
            "Name: Is Fraud?, dtype: int64\n",
            "p:0.6275 \n",
            "0    9844\n",
            "1     156\n",
            "Name: Is Fraud?, dtype: int64\n",
            "p:0.6339 \n",
            "0    9834\n",
            "1     166\n",
            "Name: Is Fraud?, dtype: int64\n",
            "p:0.6339 \n",
            "0    9846\n",
            "1     154\n",
            "Name: Is Fraud?, dtype: int64\n",
            "p:0.6017 \n",
            "0    9846\n",
            "1     154\n",
            "Name: Is Fraud?, dtype: int64\n",
            "p:0.5641 \n",
            "0    9855\n",
            "1     145\n",
            "Name: Is Fraud?, dtype: int64\n",
            "p:0.5739 \n",
            "0    9848\n",
            "1     152\n",
            "Name: Is Fraud?, dtype: int64\n",
            "p:0.5345 \n",
            "0    9852\n",
            "1     148\n",
            "Name: Is Fraud?, dtype: int64\n",
            "p:0.5210 \n",
            "0    9858\n",
            "1     142\n",
            "Name: Is Fraud?, dtype: int64\n",
            "p:0.4876 \n",
            "0    9867\n",
            "1     133\n",
            "Name: Is Fraud?, dtype: int64\n",
            "p:0.4407 \n",
            "0    9883\n",
            "1     117\n",
            "Name: Is Fraud?, dtype: int64\n",
            "p:0.4174 \n",
            "0    9891\n",
            "1     109\n",
            "Name: Is Fraud?, dtype: int64\n",
            "p:0.3853 \n",
            "0    9899\n",
            "1     101\n",
            "Name: Is Fraud?, dtype: int64\n",
            "p:0.3431 \n",
            "0    9911\n",
            "1      89\n",
            "Name: Is Fraud?, dtype: int64\n",
            "p:0.3301 \n",
            "0    9913\n",
            "1      87\n",
            "Name: Is Fraud?, dtype: int64\n",
            "p:0.3302 \n",
            "0    9909\n",
            "1      91\n",
            "Name: Is Fraud?, dtype: int64\n",
            "p:0.3303 \n",
            "0    9904\n",
            "1      96\n",
            "Name: Is Fraud?, dtype: int64\n",
            "p:0.3509 \n",
            "0    9899\n",
            "1     101\n",
            "Name: Is Fraud?, dtype: int64\n",
            "p:0.3475 \n",
            "0    9890\n",
            "1     110\n",
            "Name: Is Fraud?, dtype: int64\n",
            "p:0.3554 \n",
            "0    9888\n",
            "1     112\n",
            "Name: Is Fraud?, dtype: int64\n",
            "p:0.3534 \n",
            "0    9888\n",
            "1     112\n",
            "Name: Is Fraud?, dtype: int64\n",
            "p:0.3534 \n",
            "0    9889\n",
            "1     111\n",
            "Name: Is Fraud?, dtype: int64\n",
            "p:0.3269 \n",
            "0    9903\n",
            "1      97\n",
            "Name: Is Fraud?, dtype: int64\n",
            "p:0.2887 \n",
            "0    9909\n",
            "1      91\n",
            "Name: Is Fraud?, dtype: int64\n",
            "p:0.3043 \n",
            "0    9907\n",
            "1      93\n",
            "Name: Is Fraud?, dtype: int64\n",
            "p:0.3111 \n",
            "0    9907\n",
            "1      93\n",
            "Name: Is Fraud?, dtype: int64\n",
            "p:0.2967 \n",
            "0    9916\n",
            "1      84\n",
            "Name: Is Fraud?, dtype: int64\n",
            "p:0.2967 \n",
            "0    9916\n",
            "1      84\n",
            "Name: Is Fraud?, dtype: int64\n",
            "p:0.3258 \n",
            "0    9913\n",
            "1      87\n",
            "Name: Is Fraud?, dtype: int64\n",
            "p:0.3407 \n",
            "0    9907\n",
            "1      93\n",
            "Name: Is Fraud?, dtype: int64\n",
            "p:0.3483 \n",
            "0    9906\n",
            "1      94\n",
            "Name: Is Fraud?, dtype: int64\n",
            "p:0.3563 \n",
            "0    9904\n",
            "1      96\n",
            "Name: Is Fraud?, dtype: int64\n",
            "p:0.3605 \n",
            "0    9904\n",
            "1      96\n",
            "Name: Is Fraud?, dtype: int64\n",
            "p:0.3523 \n",
            "0    9902\n",
            "1      98\n",
            "Name: Is Fraud?, dtype: int64\n",
            "p:0.4066 \n",
            "0    9895\n",
            "1     105\n",
            "Name: Is Fraud?, dtype: int64\n",
            "p:0.4255 \n",
            "0    9892\n",
            "1     108\n",
            "Name: Is Fraud?, dtype: int64\n",
            "p:0.4632 \n",
            "0    9892\n",
            "1     108\n",
            "Name: Is Fraud?, dtype: int64\n",
            "p:0.4457 \n",
            "0    9897\n",
            "1     103\n",
            "Name: Is Fraud?, dtype: int64\n"
          ]
        }
      ]
    },
    {
      "cell_type": "code",
      "source": [
        "plt.figure(figsize=(20,5))\n",
        "pps = pd.DataFrame(f1s)\n",
        "pps.plot(figsize=(20,5))"
      ],
      "metadata": {
        "colab": {
          "base_uri": "https://localhost:8080/",
          "height": 377
        },
        "id": "peAAA98gNNyf",
        "outputId": "2209e01b-12fa-44d0-9ee3-f938c6b3736e"
      },
      "execution_count": 86,
      "outputs": [
        {
          "output_type": "execute_result",
          "data": {
            "text/plain": [
              "<matplotlib.axes._subplots.AxesSubplot at 0x7fa329bca150>"
            ]
          },
          "metadata": {},
          "execution_count": 86
        },
        {
          "output_type": "display_data",
          "data": {
            "text/plain": [
              "<Figure size 1440x360 with 0 Axes>"
            ]
          },
          "metadata": {}
        },
        {
          "output_type": "display_data",
          "data": {
            "text/plain": [
              "<Figure size 1440x360 with 1 Axes>"
            ],
            "image/png": "[encoded data removed]"
          },
          "metadata": {
            "needs_background": "light"
          }
        }
      ]
    },
    {
      "cell_type": "code",
      "source": [
        "y_pred=cat.predict(x_inf)\n",
        "print(classification_report(y_inf, y_pred))  \n",
        "\n",
        "base_score = precision_recall_fscore_support(y_inf, y_pred,average='binary')"
      ],
      "metadata": {
        "colab": {
          "base_uri": "https://localhost:8080/"
        },
        "id": "RyMGCVv9NU-Y",
        "outputId": "40bdea31-9222-4bb5-a0ee-3ed49e986eca"
      },
      "execution_count": 87,
      "outputs": [
        {
          "output_type": "stream",
          "name": "stdout",
          "text": [
            "              precision    recall  f1-score   support\n",
            "\n",
            "           0       0.98      0.99      0.98     10564\n",
            "           1       0.83      0.57      0.68       599\n",
            "\n",
            "    accuracy                           0.97     11163\n",
            "   macro avg       0.90      0.78      0.83     11163\n",
            "weighted avg       0.97      0.97      0.97     11163\n",
            "\n"
          ]
        }
      ]
    },
    {
      "cell_type": "code",
      "source": [
        "base_score"
      ],
      "metadata": {
        "colab": {
          "base_uri": "https://localhost:8080/"
        },
        "id": "5pDJryBHwnJe",
        "outputId": "d10b79b0-da9a-43d9-d092-a948c2478b6c"
      },
      "execution_count": 88,
      "outputs": [
        {
          "output_type": "execute_result",
          "data": {
            "text/plain": [
              "(0.8317073170731707, 0.5692821368948247, 0.6759167492566898, None)"
            ]
          },
          "metadata": {},
          "execution_count": 88
        }
      ]
    },
    {
      "cell_type": "code",
      "source": [
        "COLUMNS = X.columns"
      ],
      "metadata": {
        "id": "lbnUKr2Ik3t7"
      },
      "execution_count": 89,
      "outputs": []
    },
    {
      "cell_type": "code",
      "source": [
        "COLUMNS"
      ],
      "metadata": {
        "colab": {
          "base_uri": "https://localhost:8080/"
        },
        "id": "ZWVBemF9k_61",
        "outputId": "5b37972b-dfcc-4364-e6a8-3f3b12a94a55"
      },
      "execution_count": 90,
      "outputs": [
        {
          "output_type": "execute_result",
          "data": {
            "text/plain": [
              "Index(['Card', 'Amount', 'Use Chip', 'MCC', 'is online', 'Hour', 'is vozmes',\n",
              "       'abs_amount'],\n",
              "      dtype='object')"
            ]
          },
          "metadata": {},
          "execution_count": 90
        }
      ]
    },
    {
      "cell_type": "code",
      "source": [
        "importances = cat.feature_importances_"
      ],
      "metadata": {
        "id": "SZPjlF2SlBiv"
      },
      "execution_count": 91,
      "outputs": []
    },
    {
      "cell_type": "code",
      "source": [
        "importances = importances/sum(importances)\n",
        "\n",
        "l = []\n",
        "for x,(c,i) in enumerate(zip(COLUMNS,importances)):\n",
        "    l.append((c,i,x))\n",
        "l.sort(key = lambda x: x[1],reverse=True)    "
      ],
      "metadata": {
        "id": "_RZUHhnalFjJ"
      },
      "execution_count": 92,
      "outputs": []
    },
    {
      "cell_type": "code",
      "source": [
        "l"
      ],
      "metadata": {
        "colab": {
          "base_uri": "https://localhost:8080/"
        },
        "id": "M_hGvSxilLkU",
        "outputId": "b929ecb2-1dad-457e-8af2-6846f9b1feab"
      },
      "execution_count": 93,
      "outputs": [
        {
          "output_type": "execute_result",
          "data": {
            "text/plain": [
              "[('MCC', 0.37217992252256665, 3),\n",
              " ('Hour', 0.22696146895970715, 5),\n",
              " ('abs_amount', 0.10060114150749194, 7),\n",
              " ('Use Chip', 0.0931837655409999, 2),\n",
              " ('Amount', 0.0865036856877188, 1),\n",
              " ('is online', 0.07103098481508456, 4),\n",
              " ('Card', 0.037606770600525634, 0),\n",
              " ('is vozmes', 0.011932260365905376, 6)]"
            ]
          },
          "metadata": {},
          "execution_count": 93
        }
      ]
    },
    {
      "cell_type": "code",
      "source": [
        "df_stat = pd.DataFrame({\"mean\":np.mean(x_ref,axis=0),\"std\":np.std(x_ref,axis=0)},index=COLUMNS)"
      ],
      "metadata": {
        "id": "gm-vvuUhNe-z"
      },
      "execution_count": 94,
      "outputs": []
    },
    {
      "cell_type": "code",
      "source": [
        "from sklearn.model_selection import train_test_split\n",
        "import random\n",
        "\n",
        "def drift_sampling4(predict,sampling_sigma=0.95,permutaion_sigma=1,epoch = 100,toplist=[]):\n",
        "    metric_a= []\n",
        "    metric_b= []\n",
        "    metric_c= []\n",
        "    drift_data_ks_stats = []\n",
        "    drift_data_ks_pvals = []\n",
        "    drift_data_ks_stats_diff = []\n",
        "    drift_data_ks_pvals_diff = []     \n",
        "    drift_ratio1 = []\n",
        "    drift_ratio2 = []\n",
        "    for i in range(epoch):\n",
        "        #y_ref_d, _, x_ref_d, _ = train_test_split(y_ref, x_ref, train_size=0.10, random_state=i)\n",
        "        y_inf_d, _, x_inf_d, _ = train_test_split(y_ref, x_ref, train_size=random.uniform(1-sampling_sigma,sampling_sigma))\n",
        "        #print(x_ref.shape, x_inf_d.shape)\n",
        "        o_drift = ks_drift(x_ref[:,top_list], x_inf_d[:,top_list])\n",
        "        #permutation for x_inf_d\n",
        "        #for v in toplist:\n",
        "\n",
        "        # 20%의 feature에 대하여 permutaion...\n",
        "        #for q in range(int(len(toplist)*0.2)):\n",
        "        \n",
        "        v = random.choice(toplist)\n",
        "        x_inf_d[:,v] = x_inf_d[:,v] + np.random.normal(0, df_stat['std'][v]*permutaion_sigma, x_inf_d.shape[0])\n",
        "        \"\"\"\n",
        "        for k in range(x_inf_d.shape[0]):\n",
        "            for v in toplist:\n",
        "                x_inf_d[k,v] = x_inf_d[k,v] + np.random.normal(0, df_stat['std'][v]*5, 1)[0]\n",
        "        \"\"\"\n",
        "        acc = precision_recall_fscore_support(y_inf_d, predict(x_inf_d),average='binary')\n",
        "        #print(acc)\n",
        "        if base_score[0] > acc[0]:\n",
        "            x_drift = ks_drift(x_ref[:,top_list], x_inf_d[:,top_list])\n",
        "            sumo = np.sum((o_drift[:,0]))\n",
        "            sumd = np.sum((x_drift[:,0]))\n",
        "            #sump = np.sum(x_drift[:,1])\n",
        "            drift_ratio1.append(o_drift[:,0])\n",
        "            drift_ratio2.append(x_drift[:,0])\n",
        "            print(f\"\\r{i+1}/{epoch} acc:{acc[0]:.4f} {acc[1]:.4f} {acc[2]:.4f} sum:{sumd:.4f} {sumo:.4f} {sumo/sumd:.4f} cnt:{x_ref.shape[0]} / {x_inf_d.shape[0]}\", end=\"\", flush=True)\n",
        "            metric_a.append([acc[0]/base_score[0],acc[1]/base_score[1],acc[2]/base_score[2]])\n",
        "            metric_b.append([(base_score[0] - acc[0]),(base_score[1] - acc[1]),(base_score[2] - acc[2])])\n",
        "            metric_c.append([acc[0],acc[1],acc[2]])\n",
        "            drift_data_ks_stats.append(x_drift[:,0])\n",
        "            drift_data_ks_pvals.append(x_drift[:,1])\n",
        "            #drift_data_ks_pvals.append([1 if a < 0.05 else 0 for a in x_drift[:,1]]) # x_drift[:,1])   \n",
        "            #drift_data_ks_stats_diff.append(base_drift[:,0]*(1-base_drift[:,1]) - x_drift[:,0]*(1-x_drift[:,1]))\n",
        "            drift_data_ks_pvals_diff.append([1 if a < 0.05 else 0 for a in x_drift[:,1]]) \n",
        "\n",
        "    metric_a = np.asarray(metric_a)\n",
        "    metric_b = np.asarray(metric_b)\n",
        "    metric_c = np.asarray(metric_c)        \n",
        "    drift_data_ks_stats = np.asarray(drift_data_ks_stats)\n",
        "    drift_data_ks_pvals = np.asarray(drift_data_ks_pvals)    \n",
        "    drift_data_ks_stats_diff = np.asarray(drift_data_ks_stats_diff)\n",
        "    drift_data_ks_pvals_diff = np.asarray(drift_data_ks_pvals_diff)  \n",
        "\n",
        "    drift_ratio1 = np.asarray(drift_ratio1)\n",
        "    drift_ratio2 = np.asarray(drift_ratio2)\n",
        "\n",
        "    drift_ratio = []\n",
        "    for s in range(len(toplist)):\n",
        "        drift_ratio.append(sum(abs(drift_ratio2[:,s]))/sum(abs(drift_ratio1[:,s])))\n",
        "\n",
        "    return  metric_a,metric_b,metric_c,drift_data_ks_stats,drift_data_ks_pvals,drift_data_ks_stats_diff,drift_data_ks_pvals_diff,y_ref.shape[0],mean(drift_ratio), drift_ratio\n"
      ],
      "metadata": {
        "id": "WptOxab7qC8r"
      },
      "execution_count": 95,
      "outputs": []
    },
    {
      "cell_type": "code",
      "source": [
        "TOP = 8\n",
        "sampling_sigma=0.95\n",
        "permutaion_sigma=1\n",
        "\n",
        "itc = getImportanceColumnNameTop(prefix=\"\",top=TOP)\n",
        "top_list = getImportanceIndexTop(top=TOP)\n",
        "print(itc)\n",
        "metric_a,metric_b,metric_c,drift_data_ks_stats,drift_data_ks_pvals,drift_data_ks_stats_diff,drift_data_ks_pvals_diff,length,mdr,mdrp = drift_sampling4(cat.predict,sampling_sigma=sampling_sigma,permutaion_sigma=permutaion_sigma,epoch = 5000,toplist=top_list)\n"
      ],
      "metadata": {
        "colab": {
          "base_uri": "https://localhost:8080/"
        },
        "id": "oDnrSmjdkEE7",
        "outputId": "875acc01-0426-4795-dbca-0bda82566e05"
      },
      "execution_count": 149,
      "outputs": [
        {
          "output_type": "stream",
          "name": "stdout",
          "text": [
            "['MCC', 'Hour', 'abs_amount', 'Use Chip', 'Amount', 'is online', 'Card', 'is vozmes']\n",
            "4999/5000 acc:0.6825 0.6721 0.6773 sum:-0.3044 -0.0014 0.0047 cnt:26047 / 23950"
          ]
        }
      ]
    },
    {
      "cell_type": "code",
      "source": [
        "\n",
        "trainset = pd.DataFrame(drift_data_ks_stats*drift_data_ks_pvals_diff,columns=COLUMNS[top_list])\n",
        "dx = trainset #.values #[itc]\n",
        "print(dx.shape)"
      ],
      "metadata": {
        "colab": {
          "base_uri": "https://localhost:8080/"
        },
        "id": "dWeseBnpoRob",
        "outputId": "bbaa03dd-eb67-44d9-8e98-048d277d6a22"
      },
      "execution_count": 150,
      "outputs": [
        {
          "output_type": "stream",
          "name": "stdout",
          "text": [
            "(1617, 8)\n"
          ]
        }
      ]
    },
    {
      "cell_type": "code",
      "source": [
        "import statsmodels.api as sm # import statsmodels \n",
        "\n",
        "model = sm.OLS(metric_c[:,0], dx).fit() ## sm.OLS(output, input)\n",
        "# Print out the statistics\n",
        "print(model.summary())"
      ],
      "metadata": {
        "colab": {
          "base_uri": "https://localhost:8080/"
        },
        "id": "iroPL_1uNs6D",
        "outputId": "2d1a3a51-553b-4c08-badd-ba67930b24d9"
      },
      "execution_count": 151,
      "outputs": [
        {
          "output_type": "stream",
          "name": "stdout",
          "text": [
            "                                 OLS Regression Results                                \n",
            "=======================================================================================\n",
            "Dep. Variable:                      y   R-squared (uncentered):                   0.686\n",
            "Model:                            OLS   Adj. R-squared (uncentered):              0.684\n",
            "Method:                 Least Squares   F-statistic:                              438.6\n",
            "Date:                Sat, 09 Jul 2022   Prob (F-statistic):                        0.00\n",
            "Time:                        15:12:10   Log-Likelihood:                         -538.69\n",
            "No. Observations:                1617   AIC:                                      1093.\n",
            "Df Residuals:                    1609   BIC:                                      1136.\n",
            "Df Model:                           8                                                  \n",
            "Covariance Type:            nonrobust                                                  \n",
            "==============================================================================\n",
            "                 coef    std err          t      P>|t|      [0.025      0.975]\n",
            "------------------------------------------------------------------------------\n",
            "MCC            1.0205      0.056     18.206      0.000       0.911       1.130\n",
            "Hour          -0.1938      1.141     -0.170      0.865      -2.432       2.045\n",
            "abs_amount    -2.2912      0.045    -51.471      0.000      -2.378      -2.204\n",
            "Use Chip      -0.0852      0.047     -1.816      0.070      -0.177       0.007\n",
            "Amount        -2.7113      0.120    -22.686      0.000      -2.946      -2.477\n",
            "is online     -5.0846      2.616     -1.944      0.052     -10.215       0.046\n",
            "Card           0.6668      1.330      0.501      0.616      -1.943       3.276\n",
            "is vozmes     -5.8885      4.084     -1.442      0.150     -13.900       2.123\n",
            "==============================================================================\n",
            "Omnibus:                      444.081   Durbin-Watson:                   1.590\n",
            "Prob(Omnibus):                  0.000   Jarque-Bera (JB):              884.456\n",
            "Skew:                           1.717   Prob(JB):                    8.77e-193\n",
            "Kurtosis:                       4.155   Cond. No.                         92.0\n",
            "==============================================================================\n",
            "\n",
            "Warnings:\n",
            "[1] Standard Errors assume that the covariance matrix of the errors is correctly specified.\n"
          ]
        }
      ]
    },
    {
      "cell_type": "code",
      "source": [
        "import math\n",
        "from statistics import mean\n",
        "\n",
        "def predict_precision_for_PPM3(models):\n",
        "\n",
        "    df = {}\n",
        "    df['The precision of the model on real data'] = []\n",
        "    df['Predicted precision'] = []\n",
        "    beta = 0\n",
        "    predict = cat.predict\n",
        "\n",
        "    window_size = 10000\n",
        "    step = 500\n",
        "    batch = math.ceil((X_test2.shape[0]-window_size)/step)\n",
        "    for i in range(batch):\n",
        "        ux = X_test2[i*step:i*step+window_size].values\n",
        "        uy = y_test2[i*step:i*step+window_size].values\n",
        "\n",
        "        f1 = precision_recall_fscore_support(uy, predict(ux),average='binary')\n",
        "        X3_drift = ks_drift(x_ref[:,top_list],ux[:,top_list])\n",
        "        X3_drift = X3_drift[:,0] * ([1 if a < 0.05 else 0 for a in X3_drift[:,1]]) \n",
        "        #X3_drift = X3_drift[:,0] * (1-X3_drift[:,1]) *importances\n",
        "        dd = pd.DataFrame(X3_drift.reshape(1,-1),columns=COLUMNS[top_list])[itc]\n",
        "        #dd = drift_scaler.transform(dd)\n",
        "        #acc_c = mean([m.predict(ss.transform(dd))[0][0] for m in  models]) #model_c.predict(dd)[0]\n",
        "        #acc_c = mean([m.predict(dd)[0][0] for m in  models]) \n",
        "\n",
        "        #print(dd.values)\n",
        "        #print(dd.values/drift_ratio)\n",
        "        \n",
        "        acc_c = models.predict(-dd.values)[0] \n",
        "        \n",
        "        if beta == 0:\n",
        "            beta = base_score[0] - acc_c\n",
        "        acc_c = beta + acc_c\n",
        "        \n",
        "        print(f\"{f1[0]} - {acc_c}\")\n",
        "        df['The precision of the model on real data'].append(f1[0])\n",
        "        df['Predicted precision'].append(acc_c)\n",
        "\n",
        "    df2 = pd.DataFrame(df)\n",
        "\n",
        "    return df2"
      ],
      "metadata": {
        "id": "FHKU-0l0NwQE"
      },
      "execution_count": 156,
      "outputs": []
    },
    {
      "cell_type": "code",
      "source": [
        "\n",
        "print(\"mdr:\",mdr)\n",
        "df2 = predict_precision_for_PPM3(model)\n",
        "MAE,RMSE,MAPE,r_2 = result_statistics(df2)\n",
        "df2.plot(title=f'TOP:{TOP}, sampling_sigma:{sampling_sigma}, permutaion_sigma:{permutaion_sigma}, R2:{r_2}', figsize=(20,5))\n"
      ],
      "metadata": {
        "colab": {
          "base_uri": "https://localhost:8080/",
          "height": 1000
        },
        "id": "QwTlK4cLNwzL",
        "outputId": "9f156a7a-b1b8-46d6-935d-6c6007009b44"
      },
      "execution_count": 157,
      "outputs": [
        {
          "output_type": "stream",
          "name": "stdout",
          "text": [
            "mdr: 9.574652200695791\n",
            "0.9180633147113594 - 0.8317073170731706\n",
            "0.9141221374045801 - 0.8286266111416384\n",
            "0.9097888675623801 - 0.8147639761624856\n",
            "0.9064327485380117 - 0.8107717671121352\n",
            "0.9124513618677043 - 0.7925284378954731\n",
            "0.9135559921414538 - 0.7971810227677258\n",
            "0.9094488188976378 - 0.7929577567024901\n",
            "0.9158878504672897 - 0.7901121517068915\n",
            "0.9187725631768953 - 0.8130421386301017\n",
            "0.9177101967799642 - 0.8129645565022765\n",
            "0.917098445595855 - 0.8137028966394152\n",
            "0.9159519725557461 - 0.8290271673365458\n",
            "0.9183333333333333 - 0.8576205126879053\n",
            "0.9228295819935691 - 0.8547120129410851\n",
            "0.9217970049916805 - 0.7865456003905867\n",
            "0.9185059422750425 - 0.7677674813768415\n",
            "0.9210084033613445 - 0.7839581220777062\n",
            "0.9173989455184535 - 0.8311921962055799\n",
            "0.9212328767123288 - 0.7564857382386261\n",
            "0.9120287253141831 - 0.7550574475949425\n",
            "0.9182948490230906 - 0.8263754053468346\n",
            "0.919931856899489 - 0.8514311761920217\n",
            "0.9223140495867769 - 0.8543854606661682\n",
            "0.9194630872483222 - 0.8526527706928653\n",
            "0.9148580968280468 - 0.8496018628699566\n",
            "0.9136807817589576 - 0.8576752323433903\n",
            "0.9183333333333333 - 0.8489118460778513\n",
            "0.9173553719008265 - 0.8594105818884306\n",
            "0.9139966273187183 - 0.85404659884633\n",
            "0.9156829679595279 - 0.8526545216564405\n",
            "0.9156829679595279 - 0.8606282092142905\n",
            "0.9235993208828522 - 0.856952042653564\n",
            "0.9226804123711341 - 0.853276491527841\n",
            "0.9197860962566845 - 0.8388456374311561\n",
            "0.9172535211267606 - 0.8583522263857031\n",
            "0.9130434782608695 - 0.8455848755173452\n",
            "0.9174311926605505 - 0.824209029450225\n",
            "0.9226618705035972 - 0.8337183224848316\n",
            "0.9237749546279492 - 0.834820295475376\n",
            "0.9266547406082289 - 0.8362714027177703\n",
            "0.9211009174311927 - 0.7820067351347479\n",
            "0.9252336448598131 - 0.7751302854543617\n",
            "0.9284332688588007 - 0.8075302381337152\n",
            "0.9321705426356589 - 0.8056051883797896\n",
            "0.9295499021526419 - 0.8011687408153698\n",
            "0.924901185770751 - 0.7887013346109363\n",
            "0.925 - 0.7970387732747344\n",
            "0.9152892561983471 - 0.7700484506271241\n",
            "0.9126016260162602 - 0.7824942108260233\n",
            "0.918 - 0.7935149359036595\n",
            "0.9134808853118712 - 0.7773324466582527\n",
            "0.9121756487025948 - 0.7748443692730664\n",
            "0.9107883817427386 - 0.6960340377685158\n",
            "0.914 - 0.7653297260770956\n",
            "0.9164926931106472 - 0.6894847674878272\n",
            "0.9223300970873787 - 0.7648862693026388\n",
            "0.9134808853118712 - 0.7515582759583549\n",
            "0.913894324853229 - 0.7477701852612364\n",
            "0.9103313840155945 - 0.7529755972921647\n",
            "0.9108159392789373 - 0.75288388765572\n",
            "0.9077757685352622 - 0.7706940993680067\n",
            "0.9064220183486239 - 0.760577178559128\n",
            "0.9032846715328468 - 0.7759649420733375\n",
            "0.9019963702359347 - 0.7841139632369005\n",
            "0.9075785582255084 - 0.7844256752213978\n",
            "0.9125475285171103 - 0.773818454918765\n",
            "0.9101338432122371 - 0.76700321905966\n",
            "0.9113207547169812 - 0.772104962519781\n",
            "0.9141221374045801 - 0.7719834450785827\n",
            "0.9061224489795918 - 0.7408183130089929\n",
            "0.9107883817427386 - 0.7318584285382651\n",
            "0.9074889867841409 - 0.6888249237328616\n",
            "0.9063829787234042 - 0.7040132055229611\n",
            "0.9026548672566371 - 0.7074900821369562\n",
            "0.9081419624217119 - 0.7274741624654651\n",
            "0.9035087719298246 - 0.7080306177755239\n",
            "0.908315565031983 - 0.7264348971898811\n",
            "0.9046563192904656 - 0.7246225794183824\n",
            "0.9056179775280899 - 0.7138058607244998\n",
            "0.9023255813953488 - 0.7215372038426479\n",
            "0.9068627450980392 - 0.6549703353310378\n",
            "0.9025 - 0.6501118063479087\n",
            "0.9017199017199017 - 0.6474167589923936\n",
            "0.9007444168734491 - 0.5917047259431145\n",
            "0.9014423076923077 - 0.6097768333855126\n",
            "0.8949880668257757 - 0.621691352359081\n",
            "0.8897243107769424 - 0.5834438684475719\n",
            "0.8912466843501327 - 0.5951687371021924\n",
            "0.8818443804034583 - 0.5595937916789476\n",
            "0.8793103448275862 - 0.5775179716874326\n",
            "0.8654434250764526 - 0.556816037302488\n",
            "0.8658536585365854 - 0.5603118229313921\n",
            "0.8613861386138614 - 0.5484155109370275\n",
            "0.8482758620689655 - 0.5294169902812602\n",
            "0.8171206225680934 - 0.5114571176862807\n",
            "0.8106995884773662 - 0.49028629667250667\n",
            "0.7947598253275109 - 0.4860133367734404\n",
            "0.7523809523809524 - 0.46309499255805014\n",
            "0.7360406091370558 - 0.4745172836444883\n",
            "0.7228260869565217 - 0.4626506696705049\n",
            "0.6994219653179191 - 0.46208255644986906\n",
            "0.6748466257668712 - 0.466289257725481\n",
            "0.6086956521739131 - 0.44677987858652635\n",
            "0.5634920634920635 - 0.450704229612198\n",
            "0.45714285714285713 - 0.4360544774695052\n",
            "0.4326923076923077 - 0.44514920448540096\n",
            "0.41346153846153844 - 0.46308425116572605\n",
            "0.44036697247706424 - 0.44847584713420197\n",
            "0.45132743362831856 - 0.44963223511437655\n",
            "0.4827586206896552 - 0.4566003739222512\n",
            "0.47863247863247865 - 0.471364854187994\n",
            "0.4915254237288136 - 0.45952536790554643\n",
            "0.4830508474576271 - 0.44780425182322386\n",
            "0.5087719298245614 - 0.4312647298549525\n",
            "0.5508474576271186 - 0.4458956026391112\n",
            "0.5630252100840336 - 0.4644711964896765\n",
            "0.575 - 0.47305143630051005\n",
            "0.6147540983606558 - 0.4894214967634368\n",
            "0.5982905982905983 - 0.4792483462302988\n",
            "0.6071428571428571 - 0.4847612869697294\n",
            "0.5981308411214953 - 0.4577501292100003\n",
            "0.6 - 0.45185017215141887\n",
            "0.6039603960396039 - 0.4512555764153745\n",
            "0.6060606060606061 - 0.42762329299474156\n",
            "0.6019417475728155 - 0.42603728697681764\n",
            "0.6274509803921569 - 0.40768566498724484\n",
            "0.6339285714285714 - 0.4074190005009641\n",
            "0.6339285714285714 - 0.4061628443621724\n",
            "0.6016949152542372 - 0.4088088890121784\n",
            "0.5641025641025641 - 0.3986161836067529\n",
            "0.5739130434782609 - 0.4078737838686941\n",
            "0.5344827586206896 - 0.4109702453830104\n",
            "0.5210084033613446 - 0.4329662383985876\n",
            "0.48760330578512395 - 0.4455787577943273\n",
            "0.4406779661016949 - 0.4345183937880662\n",
            "0.41739130434782606 - 0.4219955834236159\n",
            "0.3853211009174312 - 0.38896392205415475\n",
            "0.3431372549019608 - 0.3849954446419773\n",
            "0.3300970873786408 - 0.3702710369811954\n",
            "0.330188679245283 - 0.3796874495263429\n",
            "0.3302752293577982 - 0.39855279514107245\n",
            "0.3508771929824561 - 0.38850475161959486\n",
            "0.3474576271186441 - 0.39914016234685945\n",
            "0.35537190082644626 - 0.4024870157354571\n",
            "0.35344827586206895 - 0.4144773172675486\n",
            "0.35344827586206895 - 0.42176034227277065\n",
            "0.3269230769230769 - 0.4205700846043353\n",
            "0.28865979381443296 - 0.4149106712114202\n",
            "0.30434782608695654 - 0.4062987453941159\n",
            "0.3111111111111111 - 0.40791829705599725\n",
            "0.2967032967032967 - 0.3988174995188703\n",
            "0.2967032967032967 - 0.405582698325844\n",
            "0.3258426966292135 - 0.4092169097202141\n",
            "0.34065934065934067 - 0.3967481572998478\n",
            "0.34831460674157305 - 0.4088679719142625\n",
            "0.3563218390804598 - 0.3999828420926744\n",
            "0.36046511627906974 - 0.42193825771581067\n",
            "0.3522727272727273 - 0.40830222769798474\n",
            "0.4065934065934066 - 0.416164251061182\n",
            "0.425531914893617 - 0.4062628731390229\n",
            "0.4631578947368421 - 0.3884261701877628\n",
            "0.44565217391304346 - 0.39906458571885695\n",
            "MAE 0.13142609145076709\n",
            "RMSE 0.15418508853568555\n",
            "MAPE 0.18030973927210722\n",
            "R2 0.5345657500927083\n"
          ]
        },
        {
          "output_type": "execute_result",
          "data": {
            "text/plain": [
              "<matplotlib.axes._subplots.AxesSubplot at 0x7fa32b1f0410>"
            ]
          },
          "metadata": {},
          "execution_count": 157
        },
        {
          "output_type": "display_data",
          "data": {
            "text/plain": [
              "<Figure size 1440x360 with 1 Axes>"
            ],
            "image/png": "[encoded data removed]"
          },
          "metadata": {
            "needs_background": "light"
          }
        }
      ]
    }
  ]
}