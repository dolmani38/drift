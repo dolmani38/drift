{
  "nbformat": 4,
  "nbformat_minor": 0,
  "metadata": {
    "colab": {
      "name": "Untitled11.ipynb",
      "provenance": [],
      "machine_shape": "hm",
      "authorship_tag": "ABX9TyMP+hR9DAqWQ6NGmK1iZO9p",
      "include_colab_link": true
    },
    "kernelspec": {
      "name": "python3",
      "display_name": "Python 3"
    },
    "language_info": {
      "name": "python"
    },
    "gpuClass": "standard"
  },
  "cells": [
    {
      "cell_type": "markdown",
      "metadata": {
        "id": "view-in-github",
        "colab_type": "text"
      },
      "source": [
        "<a href=\"https://colab.research.google.com/github/dolmani38/drift/blob/main/Concept%20drift%EC%97%90%20%EC%9D%98%ED%95%9C%20%EB%AA%A8%EB%8D%B8%EC%9D%98%20%EC%84%B1%EB%8A%A5%20%EC%B6%94%EC%A0%95%20%EB%B0%A9%EB%B2%95_0721.ipynb\" target=\"_parent\"><img src=\"https://colab.research.google.com/assets/colab-badge.svg\" alt=\"Open In Colab\"/></a>"
      ]
    },
    {
      "cell_type": "markdown",
      "source": [
        "# Introduction"
      ],
      "metadata": {
        "id": "MdUY2ejjB2t0"
      }
    },
    {
      "cell_type": "markdown",
      "source": [
        "*   기계학습은 학습에 의해 모델을 구축한 후, Test dataset을 사용하여 N-fold class-validation으로 precision, recall, f1 및 MAPE, RMSE 등 성능을 측정한다.\n",
        "*   통상, 측정된 성능값은 해당 모델을 대변하는 성능 지표가 된다.\n",
        "*   이렇게 구축된 모델은 live data를 입력해서 실 활용하게 되는데, 이때 초기에 측정한 성능을 지속하여 확보하고 있는지 실측하여 알 수 없다.\n",
        "*   Time-series data에 의한 Regression의 경우, 예측 기간의 도래 이후, 실측 Y값을 알 수 있으나 역시 업무에 따라 그 시간 간격이 크게 발생 할 수 있으며, classification의 경우, 예측 class가 정확한지 실측하기 위해서는 별도의 labeling 작업을 해야 한다.\n",
        "*   즉, 한번 구축한 모델은 활용 단계에서 성능을 실측하는 것이 매우 어려우며, 비즈니스상에서 IT운영팀에서 이를 관리하는 것은 현실적으로 불가능 하다.\n",
        "*   하지만, 비즈니스 상에서 모델의 활용 중에 성능이 저하된다면 의사결정 및 경영상의 문제를 초래 할 수 있다.\n",
        "*   하여, concept drift의 통계량을 측정하여 모델의 성능 상태를 유추하는 연구들이 이루어져 왔다.\n",
        "*   하지만, concept drift의 측정값 (통계량)을 통해 precision, recall, accuracy 등 직접적으로 성능을 예측하는 연구는 많지 않다.\n",
        "*   이번 연구에서는 concept drift의 측정값 (통계량)을 통해 직접적으로 precision, recall, accuracy 등 성능을 예측하는 성능 예측 모델(PPM, Performance prediction model)을 제안한다.\n",
        "\n",
        "\n",
        "\n",
        "\n",
        "\n",
        "\n",
        "\n",
        "\n",
        "\n",
        "\n"
      ],
      "metadata": {
        "id": "aGIAaCn1CJB3"
      }
    },
    {
      "cell_type": "markdown",
      "source": [
        "# Proposed Method"
      ],
      "metadata": {
        "id": "-N2SQ0-MGunc"
      }
    },
    {
      "cell_type": "markdown",
      "source": [
        "1.   Feature의 importanc를 측정하는 Lime 알고리즘은 reference data를 기반으로 가상의 dataset을 임의 생성(permutation)하여 model.predict에 의한 결과 (Y)를 대조 분석하여 importance를 추정(실험의 시행에 따른 statistics에 해당) 한다.\n",
        "2.   즉, dataset의 feature중 x1의 값이 변하여도 Y의 변동이 없다면 x1의 importance는 낮은 것이다. \n",
        "3.   실험 dataset에서 X1의 변동량 대비 Y의 변동량을 통계적으로 측정하여 importance를 추정하는 것이다.\n",
        "4.  유사한 원리로 data drift  model performance (accuracy) 모델을 생성할 수 있을 것이다.\n",
        "5.   즉, 전체 Trainset에서 N-fold class-validation의 개념으로 reference dataset과 inference dataset을 임의로 나누고, \n",
        "6. inference dataset에 permutation에 의해 x의 값을 변형하여 drift를 유도하고,\n",
        "7. reference 의 feature x1 대비 inference의 feature x1의 drift statistics 을 측정하고 (이때, x2,x3… 모든 feature의 drift statistics 이 측정될 것임) 이때의 inference dataset의 accuracy를 측정하여 y값으로 설정하고\n",
        "8.   각 feature의 drift statistics 를 x로 설정하여 regressio에 의해 modeling (학습) 한다.\n",
        "9.   물론, trainset 내의 분포, 범위라는 한계성을 갖지만,  직접적인 model 성능 추정이 가능할 것이다.\n",
        "\n",
        "\n",
        "\n",
        "\n",
        "\n",
        "\n",
        "\n"
      ],
      "metadata": {
        "id": "h0nsMLKzGxU9"
      }
    },
    {
      "cell_type": "markdown",
      "source": [
        "## reference data에 대응하는 inference data를 sampling(복원추출)하고, permutation에 의해 drift 주입, feature의 drift statistics 로부터 직접 model의 성능을 추정한다."
      ],
      "metadata": {
        "id": "tmErgAMEHjVd"
      }
    },
    {
      "cell_type": "markdown",
      "source": [
        "### sudo code"
      ],
      "metadata": {
        "id": "8qAPuuGcBVLv"
      }
    },
    {
      "cell_type": "code",
      "source": [
        "trainset : y=f(x)\n",
        "base_score = Score of base model\n",
        "sampling_range = 0.05~0.95\n",
        "sigma_multiplier = 1\n",
        "for n sampling_count:\n",
        "    y_ref, y_inf, x_ref, x_inf = split(y, x, sampling_range)\n",
        "    x_inf = permutation(x_inf,sigma_multiplier)\n",
        "    inf_score = score(y_inf, predict(x_inf))\n",
        "    if base_score > inf_score:\n",
        "        x_drift_statistics,x_drift_p_value = drift(x, x_inf)\n",
        "        scores.add(inf_score)\n",
        "        feature_drift.add(x_drift_statistics * (1 if x_drift_p_value < 0.05 else 0))\n",
        "        \n",
        "perfomance_predict_model = train(scores, feature_drift)\n",
        "\n",
        "x_live = Inference data from time1 to time2\n",
        "x_live_drift_statistics,x_live_drift_p_value = drift(x, x_live)\n",
        "predict_score = perfomance_predict_model(x_live_drift_statistics * (1 if x_live_drift_p_value < 0.05 else 0))"
      ],
      "metadata": {
        "id": "EO15rrGVHoBX"
      },
      "execution_count": null,
      "outputs": []
    },
    {
      "cell_type": "markdown",
      "source": [
        "# 실험 계획"
      ],
      "metadata": {
        "id": "qclC6IuFH5y5"
      }
    },
    {
      "cell_type": "markdown",
      "source": [
        "*   Data\n",
        "> 미국의 개인 대출 기업 ‘Lending Club’의 공개 데이터 사용<BR>\n",
        "> 2007~2017년까지 총 2,260,701건의 데이터, 대출 건당 실제 ‘default’ 여부 포함\n",
        "151개 Column<BR>\n",
        "> 데이터 정제 후, 81개 Features, 120만건 사용<BR>\n",
        "\n",
        "* 예측 알고리즘\n",
        "> Random-forest 알고리즘<BR>\n",
        "> Deep-learning 알고리즘\n",
        "\n",
        "* 실험\n",
        "> 2010년 data를 기준으로 모델 학습<BR>\n",
        ">2011년~2017년의 데이터를 2010년 학습데이터의 건수 (8000건) 단위로 drift 측정\n",
        "모델의 예측 성능과 실 성능을 비교<BR>\n",
        "\n",
        "* 실험의 변수\n",
        "> feature_count (order of importance) = 5, 8, 10<br>\n",
        "> sampling_range = 0.05 ~ 0.95, 0.20 ~ 0.80, 0.40 ~ 0.60<BR>\n",
        "> sigma_multiplier = 1, 2, 3<BR>\n",
        "\n",
        "* 측정 지표\n",
        "> 예측 알고리즘의 성능 지표 : precision<BR>\n",
        "> PPM의 성능 지표<BR>\n",
        "    >>mean_absolute_error<br>\n",
        "    >>root_mean_square_error<br>\n",
        "    >>mean_absolute_percentage_error<br>\n",
        "    >>R_square<br>\n"
      ],
      "metadata": {
        "id": "N9iEkjRPH-ad"
      }
    },
    {
      "cell_type": "markdown",
      "source": [
        "# 데이터 준비"
      ],
      "metadata": {
        "id": "uNNbnbmhJAvK"
      }
    },
    {
      "cell_type": "code",
      "source": [
        "if True:\n",
        "    from google.colab import drive\n",
        "    drive.mount('/content/drive')"
      ],
      "metadata": {
        "colab": {
          "base_uri": "https://localhost:8080/"
        },
        "id": "J2c4ezIaJJjo",
        "outputId": "1cf75d16-bed6-4a64-e9e2-b3c735399d64"
      },
      "execution_count": 1,
      "outputs": [
        {
          "output_type": "stream",
          "name": "stdout",
          "text": [
            "Mounted at /content/drive\n"
          ]
        }
      ]
    },
    {
      "cell_type": "code",
      "source": [
        "import os\n",
        "\n",
        "import pandas as pd\n",
        "import numpy as np\n",
        "import matplotlib.pyplot as plt\n",
        "import seaborn as sns\n",
        "from sklearn.model_selection import train_test_split\n",
        "from sklearn.preprocessing import MinMaxScaler\n",
        "from sklearn.preprocessing import StandardScaler\n",
        "from sklearn.metrics import classification_report, confusion_matrix, accuracy_score\n",
        "import tensorflow as tf\n",
        "from tensorflow.keras.models import Sequential\n",
        "from tensorflow.keras.layers import Dense, Dropout\n",
        "\n",
        "np.random.seed(1337)"
      ],
      "metadata": {
        "id": "JUNcaGM_J27R"
      },
      "execution_count": 2,
      "outputs": []
    },
    {
      "cell_type": "code",
      "source": [
        "df_accepted = pd.read_csv(\"/content/drive/MyDrive/Drift/accepted_2007_to_2018Q4.csv\")\n",
        "\n",
        "print(df_accepted.shape)"
      ],
      "metadata": {
        "colab": {
          "base_uri": "https://localhost:8080/"
        },
        "id": "eW0ESQ-LJ86X",
        "outputId": "c981485f-6e93-40b4-9338-8bca559a5528"
      },
      "execution_count": 609,
      "outputs": [
        {
          "output_type": "stream",
          "name": "stderr",
          "text": [
            "/usr/local/lib/python3.7/dist-packages/IPython/core/interactiveshell.py:2882: DtypeWarning: Columns (0,19,49,59,118,129,130,131,134,135,136,139,145,146,147) have mixed types.Specify dtype option on import or set low_memory=False.\n",
            "  exec(code_obj, self.user_global_ns, self.user_ns)\n"
          ]
        },
        {
          "output_type": "stream",
          "name": "stdout",
          "text": [
            "(2260701, 151)\n"
          ]
        }
      ]
    },
    {
      "cell_type": "markdown",
      "source": [
        "### 데이터 정제"
      ],
      "metadata": {
        "id": "CFPlPXzNKAiQ"
      }
    },
    {
      "cell_type": "code",
      "source": [
        "# for the sake of simplicity, let's consider only Fully Paid and Charged Off values:\n",
        "\n",
        "df_accepted = df_accepted[df_accepted.loan_status.isin(['Fully Paid', 'Charged Off'])]\n",
        "\n",
        "print(df_accepted.shape)"
      ],
      "metadata": {
        "colab": {
          "base_uri": "https://localhost:8080/"
        },
        "id": "qmlNZDqPKDXg",
        "outputId": "24a68dd2-bd47-40ca-90f3-20182bc26ea7"
      },
      "execution_count": 610,
      "outputs": [
        {
          "output_type": "stream",
          "name": "stdout",
          "text": [
            "(1345310, 151)\n"
          ]
        }
      ]
    },
    {
      "cell_type": "code",
      "source": [
        "cols_to_drop = df_accepted.isnull().sum().sort_values(ascending=False).head(50).index\n",
        "df_accepted = df_accepted.drop(columns=cols_to_drop)\n",
        "df_accepted.shape"
      ],
      "metadata": {
        "colab": {
          "base_uri": "https://localhost:8080/"
        },
        "id": "fN2Jx2vXKbKm",
        "outputId": "31f68bb3-dc75-42de-dacf-600724869617"
      },
      "execution_count": 611,
      "outputs": [
        {
          "output_type": "execute_result",
          "data": {
            "text/plain": [
              "(1345310, 101)"
            ]
          },
          "metadata": {},
          "execution_count": 611
        }
      ]
    },
    {
      "cell_type": "code",
      "source": [
        "# maybe we can go further, and eliminate columns up to title:\n",
        "\n",
        "cols_to_drop = df_accepted.isnull().sum().sort_values(ascending=False).head(45).index\n",
        "df_accepted = df_accepted.drop(columns=cols_to_drop)\n",
        "df_accepted.shape"
      ],
      "metadata": {
        "colab": {
          "base_uri": "https://localhost:8080/"
        },
        "id": "4p3qUjW-KlCk",
        "outputId": "b1109cce-5305-4901-bb37-eacfd267743f"
      },
      "execution_count": 612,
      "outputs": [
        {
          "output_type": "execute_result",
          "data": {
            "text/plain": [
              "(1345310, 56)"
            ]
          },
          "metadata": {},
          "execution_count": 612
        }
      ]
    },
    {
      "cell_type": "code",
      "source": [
        "# Remaining columns have missing data points, but they account for less than 0.2% of the total data. Let's remove the rows that are missing those values in those columns with dropna():\n",
        "\n",
        "df_accepted = df_accepted.dropna()\n",
        "df_accepted.shape"
      ],
      "metadata": {
        "colab": {
          "base_uri": "https://localhost:8080/"
        },
        "id": "BOLNQcD7KunK",
        "outputId": "651b3656-f6a5-43f5-e539-f03fcceb985b"
      },
      "execution_count": 613,
      "outputs": [
        {
          "output_type": "execute_result",
          "data": {
            "text/plain": [
              "(1341026, 56)"
            ]
          },
          "metadata": {},
          "execution_count": 613
        }
      ]
    },
    {
      "cell_type": "code",
      "source": [
        "# These are constant columns. We can drop it either.\n",
        "\n",
        "cols_to_drop = ['out_prncp', 'out_prncp_inv', 'policy_code']\n",
        "df_accepted = df_accepted.drop(columns=cols_to_drop)\n",
        "df_accepted.shape"
      ],
      "metadata": {
        "colab": {
          "base_uri": "https://localhost:8080/"
        },
        "id": "HGUkk3rBK7s4",
        "outputId": "18efd284-415a-4b4a-c409-c16fe15592bf"
      },
      "execution_count": 614,
      "outputs": [
        {
          "output_type": "execute_result",
          "data": {
            "text/plain": [
              "(1341026, 53)"
            ]
          },
          "metadata": {},
          "execution_count": 614
        }
      ]
    },
    {
      "cell_type": "code",
      "source": [
        "# It seems we have many \"duplicated\" information. Let's drop some columns, based on visual inspection at corr_pairs dataframe:\n",
        "\n",
        "cols_to_drop = ['fico_range_low', 'funded_amnt_inv', 'funded_amnt', 'total_pymnt_inv', 'total_pymnt', 'installment', 'collection_recovery_fee', 'total_rec_prncp', 'last_fico_range_low']\n",
        "df_accepted = df_accepted.drop(columns=cols_to_drop)\n",
        "df_accepted.shape"
      ],
      "metadata": {
        "colab": {
          "base_uri": "https://localhost:8080/"
        },
        "id": "k6Gp_sv5LHKx",
        "outputId": "5b188ca4-201a-47ba-82a4-ab453533ff7b"
      },
      "execution_count": 615,
      "outputs": [
        {
          "output_type": "execute_result",
          "data": {
            "text/plain": [
              "(1341026, 44)"
            ]
          },
          "metadata": {},
          "execution_count": 615
        }
      ]
    },
    {
      "cell_type": "code",
      "source": [
        "values = df_accepted.loan_status.unique()\n",
        "encode = [1,0]\n",
        "d = dict(zip(values, encode))\n",
        "\n",
        "df_accepted['loan_paid'] = df_accepted['loan_status'].map(d)\n",
        "\n",
        "df_accepted = df_accepted.drop(columns=['loan_status'])\n"
      ],
      "metadata": {
        "id": "DlmXhnoWLLqu"
      },
      "execution_count": 616,
      "outputs": []
    },
    {
      "cell_type": "code",
      "source": [
        "df_accepted"
      ],
      "metadata": {
        "colab": {
          "base_uri": "https://localhost:8080/",
          "height": 0
        },
        "id": "kodDyF1YLYFD",
        "outputId": "3c3af4ab-33b2-4a1b-e5ea-7412dc0675db"
      },
      "execution_count": 617,
      "outputs": [
        {
          "output_type": "execute_result",
          "data": {
            "text/plain": [
              "               id  loan_amnt        term  int_rate grade sub_grade  \\\n",
              "0        68407277     3600.0   36 months     13.99     C        C4   \n",
              "1        68355089    24700.0   36 months     11.99     C        C1   \n",
              "2        68341763    20000.0   60 months     10.78     B        B4   \n",
              "4        68476807    10400.0   60 months     22.45     F        F1   \n",
              "5        68426831    11950.0   36 months     13.44     C        C3   \n",
              "...           ...        ...         ...       ...   ...       ...   \n",
              "2260688  89905081    18000.0   60 months      9.49     B        B2   \n",
              "2260690  88948836    29400.0   60 months     13.99     C        C3   \n",
              "2260691  89996426    32000.0   60 months     14.49     C        C4   \n",
              "2260692  90006534    16000.0   60 months     12.79     C        C1   \n",
              "2260697  88224441    24000.0   60 months     14.49     C        C4   \n",
              "\n",
              "        home_ownership  annual_inc verification_status   issue_d  ...  \\\n",
              "0             MORTGAGE     55000.0        Not Verified  Dec-2015  ...   \n",
              "1             MORTGAGE     65000.0        Not Verified  Dec-2015  ...   \n",
              "2             MORTGAGE     63000.0        Not Verified  Dec-2015  ...   \n",
              "4             MORTGAGE    104433.0     Source Verified  Dec-2015  ...   \n",
              "5                 RENT     34000.0     Source Verified  Dec-2015  ...   \n",
              "...                ...         ...                 ...       ...  ...   \n",
              "2260688            OWN    130000.0        Not Verified  Oct-2016  ...   \n",
              "2260690       MORTGAGE    180792.0        Not Verified  Oct-2016  ...   \n",
              "2260691       MORTGAGE    157000.0     Source Verified  Oct-2016  ...   \n",
              "2260692           RENT    150000.0        Not Verified  Oct-2016  ...   \n",
              "2260697           RENT    110000.0        Not Verified  Oct-2016  ...   \n",
              "\n",
              "        application_type acc_now_delinq chargeoff_within_12_mths delinq_amnt  \\\n",
              "0             Individual            0.0                      0.0         0.0   \n",
              "1             Individual            0.0                      0.0         0.0   \n",
              "2              Joint App            0.0                      0.0         0.0   \n",
              "4             Individual            0.0                      0.0         0.0   \n",
              "5             Individual            0.0                      0.0         0.0   \n",
              "...                  ...            ...                      ...         ...   \n",
              "2260688       Individual            0.0                      0.0         0.0   \n",
              "2260690       Individual            0.0                      0.0         0.0   \n",
              "2260691       Individual            0.0                      0.0         0.0   \n",
              "2260692       Individual            0.0                      0.0         0.0   \n",
              "2260697       Individual            0.0                      0.0         0.0   \n",
              "\n",
              "        pub_rec_bankruptcies  tax_liens  hardship_flag disbursement_method  \\\n",
              "0                        0.0        0.0              N                Cash   \n",
              "1                        0.0        0.0              N                Cash   \n",
              "2                        0.0        0.0              N                Cash   \n",
              "4                        0.0        0.0              N                Cash   \n",
              "5                        0.0        0.0              N                Cash   \n",
              "...                      ...        ...            ...                 ...   \n",
              "2260688                  0.0        0.0              N                Cash   \n",
              "2260690                  0.0        0.0              N                Cash   \n",
              "2260691                  0.0        0.0              N                Cash   \n",
              "2260692                  3.0        0.0              N                Cash   \n",
              "2260697                  1.0        0.0              N                Cash   \n",
              "\n",
              "         debt_settlement_flag  loan_paid  \n",
              "0                           N          1  \n",
              "1                           N          1  \n",
              "2                           N          1  \n",
              "4                           N          1  \n",
              "5                           N          1  \n",
              "...                       ...        ...  \n",
              "2260688                     N          1  \n",
              "2260690                     N          1  \n",
              "2260691                     N          0  \n",
              "2260692                     N          1  \n",
              "2260697                     Y          0  \n",
              "\n",
              "[1341026 rows x 44 columns]"
            ],
            "text/html": [
              "\n",
              "  <div id=\"df-967f5303-efa7-430e-9aaa-a7874fd99b7c\">\n",
              "    <div class=\"colab-df-container\">\n",
              "      <div>\n",
              "<style scoped>\n",
              "    .dataframe tbody tr th:only-of-type {\n",
              "        vertical-align: middle;\n",
              "    }\n",
              "\n",
              "    .dataframe tbody tr th {\n",
              "        vertical-align: top;\n",
              "    }\n",
              "\n",
              "    .dataframe thead th {\n",
              "        text-align: right;\n",
              "    }\n",
              "</style>\n",
              "<table border=\"1\" class=\"dataframe\">\n",
              "  <thead>\n",
              "    <tr style=\"text-align: right;\">\n",
              "      <th></th>\n",
              "      <th>id</th>\n",
              "      <th>loan_amnt</th>\n",
              "      <th>term</th>\n",
              "      <th>int_rate</th>\n",
              "      <th>grade</th>\n",
              "      <th>sub_grade</th>\n",
              "      <th>home_ownership</th>\n",
              "      <th>annual_inc</th>\n",
              "      <th>verification_status</th>\n",
              "      <th>issue_d</th>\n",
              "      <th>...</th>\n",
              "      <th>application_type</th>\n",
              "      <th>acc_now_delinq</th>\n",
              "      <th>chargeoff_within_12_mths</th>\n",
              "      <th>delinq_amnt</th>\n",
              "      <th>pub_rec_bankruptcies</th>\n",
              "      <th>tax_liens</th>\n",
              "      <th>hardship_flag</th>\n",
              "      <th>disbursement_method</th>\n",
              "      <th>debt_settlement_flag</th>\n",
              "      <th>loan_paid</th>\n",
              "    </tr>\n",
              "  </thead>\n",
              "  <tbody>\n",
              "    <tr>\n",
              "      <th>0</th>\n",
              "      <td>68407277</td>\n",
              "      <td>3600.0</td>\n",
              "      <td>36 months</td>\n",
              "      <td>13.99</td>\n",
              "      <td>C</td>\n",
              "      <td>C4</td>\n",
              "      <td>MORTGAGE</td>\n",
              "      <td>55000.0</td>\n",
              "      <td>Not Verified</td>\n",
              "      <td>Dec-2015</td>\n",
              "      <td>...</td>\n",
              "      <td>Individual</td>\n",
              "      <td>0.0</td>\n",
              "      <td>0.0</td>\n",
              "      <td>0.0</td>\n",
              "      <td>0.0</td>\n",
              "      <td>0.0</td>\n",
              "      <td>N</td>\n",
              "      <td>Cash</td>\n",
              "      <td>N</td>\n",
              "      <td>1</td>\n",
              "    </tr>\n",
              "    <tr>\n",
              "      <th>1</th>\n",
              "      <td>68355089</td>\n",
              "      <td>24700.0</td>\n",
              "      <td>36 months</td>\n",
              "      <td>11.99</td>\n",
              "      <td>C</td>\n",
              "      <td>C1</td>\n",
              "      <td>MORTGAGE</td>\n",
              "      <td>65000.0</td>\n",
              "      <td>Not Verified</td>\n",
              "      <td>Dec-2015</td>\n",
              "      <td>...</td>\n",
              "      <td>Individual</td>\n",
              "      <td>0.0</td>\n",
              "      <td>0.0</td>\n",
              "      <td>0.0</td>\n",
              "      <td>0.0</td>\n",
              "      <td>0.0</td>\n",
              "      <td>N</td>\n",
              "      <td>Cash</td>\n",
              "      <td>N</td>\n",
              "      <td>1</td>\n",
              "    </tr>\n",
              "    <tr>\n",
              "      <th>2</th>\n",
              "      <td>68341763</td>\n",
              "      <td>20000.0</td>\n",
              "      <td>60 months</td>\n",
              "      <td>10.78</td>\n",
              "      <td>B</td>\n",
              "      <td>B4</td>\n",
              "      <td>MORTGAGE</td>\n",
              "      <td>63000.0</td>\n",
              "      <td>Not Verified</td>\n",
              "      <td>Dec-2015</td>\n",
              "      <td>...</td>\n",
              "      <td>Joint App</td>\n",
              "      <td>0.0</td>\n",
              "      <td>0.0</td>\n",
              "      <td>0.0</td>\n",
              "      <td>0.0</td>\n",
              "      <td>0.0</td>\n",
              "      <td>N</td>\n",
              "      <td>Cash</td>\n",
              "      <td>N</td>\n",
              "      <td>1</td>\n",
              "    </tr>\n",
              "    <tr>\n",
              "      <th>4</th>\n",
              "      <td>68476807</td>\n",
              "      <td>10400.0</td>\n",
              "      <td>60 months</td>\n",
              "      <td>22.45</td>\n",
              "      <td>F</td>\n",
              "      <td>F1</td>\n",
              "      <td>MORTGAGE</td>\n",
              "      <td>104433.0</td>\n",
              "      <td>Source Verified</td>\n",
              "      <td>Dec-2015</td>\n",
              "      <td>...</td>\n",
              "      <td>Individual</td>\n",
              "      <td>0.0</td>\n",
              "      <td>0.0</td>\n",
              "      <td>0.0</td>\n",
              "      <td>0.0</td>\n",
              "      <td>0.0</td>\n",
              "      <td>N</td>\n",
              "      <td>Cash</td>\n",
              "      <td>N</td>\n",
              "      <td>1</td>\n",
              "    </tr>\n",
              "    <tr>\n",
              "      <th>5</th>\n",
              "      <td>68426831</td>\n",
              "      <td>11950.0</td>\n",
              "      <td>36 months</td>\n",
              "      <td>13.44</td>\n",
              "      <td>C</td>\n",
              "      <td>C3</td>\n",
              "      <td>RENT</td>\n",
              "      <td>34000.0</td>\n",
              "      <td>Source Verified</td>\n",
              "      <td>Dec-2015</td>\n",
              "      <td>...</td>\n",
              "      <td>Individual</td>\n",
              "      <td>0.0</td>\n",
              "      <td>0.0</td>\n",
              "      <td>0.0</td>\n",
              "      <td>0.0</td>\n",
              "      <td>0.0</td>\n",
              "      <td>N</td>\n",
              "      <td>Cash</td>\n",
              "      <td>N</td>\n",
              "      <td>1</td>\n",
              "    </tr>\n",
              "    <tr>\n",
              "      <th>...</th>\n",
              "      <td>...</td>\n",
              "      <td>...</td>\n",
              "      <td>...</td>\n",
              "      <td>...</td>\n",
              "      <td>...</td>\n",
              "      <td>...</td>\n",
              "      <td>...</td>\n",
              "      <td>...</td>\n",
              "      <td>...</td>\n",
              "      <td>...</td>\n",
              "      <td>...</td>\n",
              "      <td>...</td>\n",
              "      <td>...</td>\n",
              "      <td>...</td>\n",
              "      <td>...</td>\n",
              "      <td>...</td>\n",
              "      <td>...</td>\n",
              "      <td>...</td>\n",
              "      <td>...</td>\n",
              "      <td>...</td>\n",
              "      <td>...</td>\n",
              "    </tr>\n",
              "    <tr>\n",
              "      <th>2260688</th>\n",
              "      <td>89905081</td>\n",
              "      <td>18000.0</td>\n",
              "      <td>60 months</td>\n",
              "      <td>9.49</td>\n",
              "      <td>B</td>\n",
              "      <td>B2</td>\n",
              "      <td>OWN</td>\n",
              "      <td>130000.0</td>\n",
              "      <td>Not Verified</td>\n",
              "      <td>Oct-2016</td>\n",
              "      <td>...</td>\n",
              "      <td>Individual</td>\n",
              "      <td>0.0</td>\n",
              "      <td>0.0</td>\n",
              "      <td>0.0</td>\n",
              "      <td>0.0</td>\n",
              "      <td>0.0</td>\n",
              "      <td>N</td>\n",
              "      <td>Cash</td>\n",
              "      <td>N</td>\n",
              "      <td>1</td>\n",
              "    </tr>\n",
              "    <tr>\n",
              "      <th>2260690</th>\n",
              "      <td>88948836</td>\n",
              "      <td>29400.0</td>\n",
              "      <td>60 months</td>\n",
              "      <td>13.99</td>\n",
              "      <td>C</td>\n",
              "      <td>C3</td>\n",
              "      <td>MORTGAGE</td>\n",
              "      <td>180792.0</td>\n",
              "      <td>Not Verified</td>\n",
              "      <td>Oct-2016</td>\n",
              "      <td>...</td>\n",
              "      <td>Individual</td>\n",
              "      <td>0.0</td>\n",
              "      <td>0.0</td>\n",
              "      <td>0.0</td>\n",
              "      <td>0.0</td>\n",
              "      <td>0.0</td>\n",
              "      <td>N</td>\n",
              "      <td>Cash</td>\n",
              "      <td>N</td>\n",
              "      <td>1</td>\n",
              "    </tr>\n",
              "    <tr>\n",
              "      <th>2260691</th>\n",
              "      <td>89996426</td>\n",
              "      <td>32000.0</td>\n",
              "      <td>60 months</td>\n",
              "      <td>14.49</td>\n",
              "      <td>C</td>\n",
              "      <td>C4</td>\n",
              "      <td>MORTGAGE</td>\n",
              "      <td>157000.0</td>\n",
              "      <td>Source Verified</td>\n",
              "      <td>Oct-2016</td>\n",
              "      <td>...</td>\n",
              "      <td>Individual</td>\n",
              "      <td>0.0</td>\n",
              "      <td>0.0</td>\n",
              "      <td>0.0</td>\n",
              "      <td>0.0</td>\n",
              "      <td>0.0</td>\n",
              "      <td>N</td>\n",
              "      <td>Cash</td>\n",
              "      <td>N</td>\n",
              "      <td>0</td>\n",
              "    </tr>\n",
              "    <tr>\n",
              "      <th>2260692</th>\n",
              "      <td>90006534</td>\n",
              "      <td>16000.0</td>\n",
              "      <td>60 months</td>\n",
              "      <td>12.79</td>\n",
              "      <td>C</td>\n",
              "      <td>C1</td>\n",
              "      <td>RENT</td>\n",
              "      <td>150000.0</td>\n",
              "      <td>Not Verified</td>\n",
              "      <td>Oct-2016</td>\n",
              "      <td>...</td>\n",
              "      <td>Individual</td>\n",
              "      <td>0.0</td>\n",
              "      <td>0.0</td>\n",
              "      <td>0.0</td>\n",
              "      <td>3.0</td>\n",
              "      <td>0.0</td>\n",
              "      <td>N</td>\n",
              "      <td>Cash</td>\n",
              "      <td>N</td>\n",
              "      <td>1</td>\n",
              "    </tr>\n",
              "    <tr>\n",
              "      <th>2260697</th>\n",
              "      <td>88224441</td>\n",
              "      <td>24000.0</td>\n",
              "      <td>60 months</td>\n",
              "      <td>14.49</td>\n",
              "      <td>C</td>\n",
              "      <td>C4</td>\n",
              "      <td>RENT</td>\n",
              "      <td>110000.0</td>\n",
              "      <td>Not Verified</td>\n",
              "      <td>Oct-2016</td>\n",
              "      <td>...</td>\n",
              "      <td>Individual</td>\n",
              "      <td>0.0</td>\n",
              "      <td>0.0</td>\n",
              "      <td>0.0</td>\n",
              "      <td>1.0</td>\n",
              "      <td>0.0</td>\n",
              "      <td>N</td>\n",
              "      <td>Cash</td>\n",
              "      <td>Y</td>\n",
              "      <td>0</td>\n",
              "    </tr>\n",
              "  </tbody>\n",
              "</table>\n",
              "<p>1341026 rows × 44 columns</p>\n",
              "</div>\n",
              "      <button class=\"colab-df-convert\" onclick=\"convertToInteractive('df-967f5303-efa7-430e-9aaa-a7874fd99b7c')\"\n",
              "              title=\"Convert this dataframe to an interactive table.\"\n",
              "              style=\"display:none;\">\n",
              "        \n",
              "  <svg xmlns=\"http://www.w3.org/2000/svg\" height=\"24px\"viewBox=\"0 0 24 24\"\n",
              "       width=\"24px\">\n",
              "    <path d=\"M0 0h24v24H0V0z\" fill=\"none\"/>\n",
              "    <path d=\"M18.56 5.44l.94 2.06.94-2.06 2.06-.94-2.06-.94-.94-2.06-.94 2.06-2.06.94zm-11 1L8.5 8.5l.94-2.06 2.06-.94-2.06-.94L8.5 2.5l-.94 2.06-2.06.94zm10 10l.94 2.06.94-2.06 2.06-.94-2.06-.94-.94-2.06-.94 2.06-2.06.94z\"/><path d=\"M17.41 7.96l-1.37-1.37c-.4-.4-.92-.59-1.43-.59-.52 0-1.04.2-1.43.59L10.3 9.45l-7.72 7.72c-.78.78-.78 2.05 0 2.83L4 21.41c.39.39.9.59 1.41.59.51 0 1.02-.2 1.41-.59l7.78-7.78 2.81-2.81c.8-.78.8-2.07 0-2.86zM5.41 20L4 18.59l7.72-7.72 1.47 1.35L5.41 20z\"/>\n",
              "  </svg>\n",
              "      </button>\n",
              "      \n",
              "  <style>\n",
              "    .colab-df-container {\n",
              "      display:flex;\n",
              "      flex-wrap:wrap;\n",
              "      gap: 12px;\n",
              "    }\n",
              "\n",
              "    .colab-df-convert {\n",
              "      background-color: #E8F0FE;\n",
              "      border: none;\n",
              "      border-radius: 50%;\n",
              "      cursor: pointer;\n",
              "      display: none;\n",
              "      fill: #1967D2;\n",
              "      height: 32px;\n",
              "      padding: 0 0 0 0;\n",
              "      width: 32px;\n",
              "    }\n",
              "\n",
              "    .colab-df-convert:hover {\n",
              "      background-color: #E2EBFA;\n",
              "      box-shadow: 0px 1px 2px rgba(60, 64, 67, 0.3), 0px 1px 3px 1px rgba(60, 64, 67, 0.15);\n",
              "      fill: #174EA6;\n",
              "    }\n",
              "\n",
              "    [theme=dark] .colab-df-convert {\n",
              "      background-color: #3B4455;\n",
              "      fill: #D2E3FC;\n",
              "    }\n",
              "\n",
              "    [theme=dark] .colab-df-convert:hover {\n",
              "      background-color: #434B5C;\n",
              "      box-shadow: 0px 1px 3px 1px rgba(0, 0, 0, 0.15);\n",
              "      filter: drop-shadow(0px 1px 2px rgba(0, 0, 0, 0.3));\n",
              "      fill: #FFFFFF;\n",
              "    }\n",
              "  </style>\n",
              "\n",
              "      <script>\n",
              "        const buttonEl =\n",
              "          document.querySelector('#df-967f5303-efa7-430e-9aaa-a7874fd99b7c button.colab-df-convert');\n",
              "        buttonEl.style.display =\n",
              "          google.colab.kernel.accessAllowed ? 'block' : 'none';\n",
              "\n",
              "        async function convertToInteractive(key) {\n",
              "          const element = document.querySelector('#df-967f5303-efa7-430e-9aaa-a7874fd99b7c');\n",
              "          const dataTable =\n",
              "            await google.colab.kernel.invokeFunction('convertToInteractive',\n",
              "                                                     [key], {});\n",
              "          if (!dataTable) return;\n",
              "\n",
              "          const docLinkHtml = 'Like what you see? Visit the ' +\n",
              "            '<a target=\"_blank\" href=https://colab.research.google.com/notebooks/data_table.ipynb>data table notebook</a>'\n",
              "            + ' to learn more about interactive tables.';\n",
              "          element.innerHTML = '';\n",
              "          dataTable['output_type'] = 'display_data';\n",
              "          await google.colab.output.renderOutput(dataTable, element);\n",
              "          const docLink = document.createElement('div');\n",
              "          docLink.innerHTML = docLinkHtml;\n",
              "          element.appendChild(docLink);\n",
              "        }\n",
              "      </script>\n",
              "    </div>\n",
              "  </div>\n",
              "  "
            ]
          },
          "metadata": {},
          "execution_count": 617
        }
      ]
    },
    {
      "cell_type": "code",
      "source": [
        "# droping constant columns\n",
        "\n",
        "print(df_accepted.pymnt_plan.value_counts())\n",
        "print(df_accepted.hardship_flag.value_counts())\n",
        "\n",
        "cols_to_drop = ['id', 'pymnt_plan', 'hardship_flag']\n",
        "df_accepted = df_accepted.drop(columns=cols_to_drop)\n",
        "df_accepted.shape"
      ],
      "metadata": {
        "colab": {
          "base_uri": "https://localhost:8080/"
        },
        "id": "ICfFBT4fLfCj",
        "outputId": "53aa93ba-1861-4c65-eee4-8dd735f65f80"
      },
      "execution_count": 618,
      "outputs": [
        {
          "output_type": "stream",
          "name": "stdout",
          "text": [
            "n    1341026\n",
            "Name: pymnt_plan, dtype: int64\n",
            "N    1341026\n",
            "Name: hardship_flag, dtype: int64\n"
          ]
        },
        {
          "output_type": "execute_result",
          "data": {
            "text/plain": [
              "(1341026, 41)"
            ]
          },
          "metadata": {},
          "execution_count": 618
        }
      ]
    },
    {
      "cell_type": "code",
      "source": [
        "cat_cols = df_accepted.select_dtypes(include=['object']).columns\n",
        "print(cat_cols)\n",
        "\n",
        "print(df_accepted.term.value_counts())\n",
        "\n",
        "# convert term into either a 36 or 60 integer numeric data type\n",
        "\n",
        "l1 = df_accepted.term.unique()\n",
        "l2 = [36, 60]\n",
        "d = dict(zip(l1, l2))\n",
        "\n",
        "df_accepted['term'] = df_accepted['term'].map(d)\n",
        "\n",
        "# as grade is part of sub_grade, so let's just drop the grade feature.\n",
        "\n",
        "df_accepted = df_accepted.drop(columns='grade')\n",
        "\n",
        "df_accepted = pd.get_dummies(df_accepted, columns = ['sub_grade'], prefix='', prefix_sep='', drop_first=True)\n",
        "\n",
        "cat_cols = df_accepted.select_dtypes(include=['object']).columns\n",
        "print(cat_cols)\n",
        "\n",
        "# for these columns, let's just create dummy variables, concatenate them with the original dataframe and drop original columns.\n",
        "\n",
        "df_accepted = pd.get_dummies(df_accepted, columns = ['verification_status'], prefix='', prefix_sep='', drop_first=True)\n",
        "df_accepted = pd.get_dummies(df_accepted, columns = ['application_type'], prefix='', prefix_sep='', drop_first=True)\n",
        "df_accepted = pd.get_dummies(df_accepted, columns = ['initial_list_status'], prefix='', prefix_sep='', drop_first=True)\n",
        "df_accepted = pd.get_dummies(df_accepted, columns = ['purpose'], prefix='', prefix_sep='', drop_first=True)"
      ],
      "metadata": {
        "colab": {
          "base_uri": "https://localhost:8080/"
        },
        "id": "08s4i8w-LkG3",
        "outputId": "c8ab04c1-f9bc-4142-cb59-2cea50b2a576"
      },
      "execution_count": 619,
      "outputs": [
        {
          "output_type": "stream",
          "name": "stdout",
          "text": [
            "Index(['term', 'grade', 'sub_grade', 'home_ownership', 'verification_status',\n",
            "       'issue_d', 'url', 'purpose', 'zip_code', 'addr_state',\n",
            "       'earliest_cr_line', 'initial_list_status', 'last_pymnt_d',\n",
            "       'last_credit_pull_d', 'application_type', 'disbursement_method',\n",
            "       'debt_settlement_flag'],\n",
            "      dtype='object')\n",
            " 36 months    1017398\n",
            " 60 months     323628\n",
            "Name: term, dtype: int64\n",
            "Index(['home_ownership', 'verification_status', 'issue_d', 'url', 'purpose',\n",
            "       'zip_code', 'addr_state', 'earliest_cr_line', 'initial_list_status',\n",
            "       'last_pymnt_d', 'last_credit_pull_d', 'application_type',\n",
            "       'disbursement_method', 'debt_settlement_flag'],\n",
            "      dtype='object')\n"
          ]
        }
      ]
    },
    {
      "cell_type": "code",
      "source": [
        "df_accepted.shape"
      ],
      "metadata": {
        "colab": {
          "base_uri": "https://localhost:8080/"
        },
        "id": "rQGED8QzL0Wn",
        "outputId": "8c128902-aee7-4cf6-c46f-5267526dfb75"
      },
      "execution_count": 620,
      "outputs": [
        {
          "output_type": "execute_result",
          "data": {
            "text/plain": [
              "(1341026, 86)"
            ]
          },
          "metadata": {},
          "execution_count": 620
        }
      ]
    },
    {
      "cell_type": "code",
      "source": [
        "df_accepted['home_ownership'] = df_accepted.home_ownership.replace('NONE', 'ANY')\n",
        "df_accepted = pd.get_dummies(df_accepted, columns = ['home_ownership'], prefix='', prefix_sep='', drop_first=True)\n",
        "df_accepted = df_accepted.drop(columns=[ 'url', 'last_pymnt_d', 'last_credit_pull_d'])\n",
        "df_accepted = df_accepted.drop(columns=['zip_code', 'addr_state'])\n",
        "df_accepted = pd.get_dummies(df_accepted, columns = ['disbursement_method'], prefix='', prefix_sep='', drop_first=True)\n",
        "df_accepted = pd.get_dummies(df_accepted, columns = ['debt_settlement_flag'], prefix='', prefix_sep='', drop_first=True)\n",
        "df_accepted = df_accepted.drop(columns=['earliest_cr_line'])\n",
        "df_accepted.shape"
      ],
      "metadata": {
        "colab": {
          "base_uri": "https://localhost:8080/"
        },
        "id": "MQklV-_8L9qf",
        "outputId": "62462072-84ad-4006-e523-a6597331e8da"
      },
      "execution_count": 621,
      "outputs": [
        {
          "output_type": "execute_result",
          "data": {
            "text/plain": [
              "(1341026, 83)"
            ]
          },
          "metadata": {},
          "execution_count": 621
        }
      ]
    },
    {
      "cell_type": "code",
      "source": [
        "df_accepted['issue_d'] = df_accepted['issue_d'].str.replace('Jan','01')\n",
        "df_accepted['issue_d'] = df_accepted['issue_d'].str.replace('Feb','02')\n",
        "df_accepted['issue_d'] = df_accepted['issue_d'].str.replace('Mar','03')\n",
        "df_accepted['issue_d'] = df_accepted['issue_d'].str.replace('Apr','04')\n",
        "df_accepted['issue_d'] = df_accepted['issue_d'].str.replace('May','05')\n",
        "df_accepted['issue_d'] = df_accepted['issue_d'].str.replace('Jun','06')\n",
        "df_accepted['issue_d'] = df_accepted['issue_d'].str.replace('Jul','07')\n",
        "df_accepted['issue_d'] = df_accepted['issue_d'].str.replace('Aug','08')\n",
        "df_accepted['issue_d'] = df_accepted['issue_d'].str.replace('Sep','09')\n",
        "df_accepted['issue_d'] = df_accepted['issue_d'].str.replace('Oct','10')\n",
        "df_accepted['issue_d'] = df_accepted['issue_d'].str.replace('Dec','11')\n",
        "df_accepted['issue_d'] = df_accepted['issue_d'].str.replace('Nov','12')"
      ],
      "metadata": {
        "id": "lNSDpsRZMNOw"
      },
      "execution_count": 622,
      "outputs": []
    },
    {
      "cell_type": "code",
      "source": [
        "def reorder_issue_d(dt):\n",
        "    a = dt.split('-')\n",
        "    return a[1]+a[0]\n",
        "\n",
        "reorder_issue_d('01-2009')"
      ],
      "metadata": {
        "colab": {
          "base_uri": "https://localhost:8080/",
          "height": 0
        },
        "id": "aEzn-q3dMOJv",
        "outputId": "4a34d842-51b2-40a9-dd95-33725ee3e601"
      },
      "execution_count": 623,
      "outputs": [
        {
          "output_type": "execute_result",
          "data": {
            "text/plain": [
              "'200901'"
            ],
            "application/vnd.google.colaboratory.intrinsic+json": {
              "type": "string"
            }
          },
          "metadata": {},
          "execution_count": 623
        }
      ]
    },
    {
      "cell_type": "code",
      "source": [
        " df_accepted['issue_d'] = df_accepted['issue_d'].apply(reorder_issue_d)\n",
        " df_accepted = df_accepted.sort_values(by='issue_d')\n",
        " df_accepted.reset_index(drop=True, inplace=True)"
      ],
      "metadata": {
        "id": "NTOD2T4MMTA1"
      },
      "execution_count": 624,
      "outputs": []
    },
    {
      "cell_type": "code",
      "source": [
        "df_accepted.info()"
      ],
      "metadata": {
        "colab": {
          "base_uri": "https://localhost:8080/"
        },
        "id": "Of4qdLUpT5fg",
        "outputId": "526b6f0e-1daa-4149-9e91-d2759a24e9c9"
      },
      "execution_count": 625,
      "outputs": [
        {
          "output_type": "stream",
          "name": "stdout",
          "text": [
            "<class 'pandas.core.frame.DataFrame'>\n",
            "RangeIndex: 1341026 entries, 0 to 1341025\n",
            "Data columns (total 83 columns):\n",
            " #   Column                      Non-Null Count    Dtype  \n",
            "---  ------                      --------------    -----  \n",
            " 0   loan_amnt                   1341026 non-null  float64\n",
            " 1   term                        1341026 non-null  int64  \n",
            " 2   int_rate                    1341026 non-null  float64\n",
            " 3   annual_inc                  1341026 non-null  float64\n",
            " 4   issue_d                     1341026 non-null  object \n",
            " 5   dti                         1341026 non-null  float64\n",
            " 6   delinq_2yrs                 1341026 non-null  float64\n",
            " 7   fico_range_high             1341026 non-null  float64\n",
            " 8   inq_last_6mths              1341026 non-null  float64\n",
            " 9   open_acc                    1341026 non-null  float64\n",
            " 10  pub_rec                     1341026 non-null  float64\n",
            " 11  revol_bal                   1341026 non-null  float64\n",
            " 12  revol_util                  1341026 non-null  float64\n",
            " 13  total_acc                   1341026 non-null  float64\n",
            " 14  total_rec_int               1341026 non-null  float64\n",
            " 15  total_rec_late_fee          1341026 non-null  float64\n",
            " 16  recoveries                  1341026 non-null  float64\n",
            " 17  last_pymnt_amnt             1341026 non-null  float64\n",
            " 18  last_fico_range_high        1341026 non-null  float64\n",
            " 19  collections_12_mths_ex_med  1341026 non-null  float64\n",
            " 20  acc_now_delinq              1341026 non-null  float64\n",
            " 21  chargeoff_within_12_mths    1341026 non-null  float64\n",
            " 22  delinq_amnt                 1341026 non-null  float64\n",
            " 23  pub_rec_bankruptcies        1341026 non-null  float64\n",
            " 24  tax_liens                   1341026 non-null  float64\n",
            " 25  loan_paid                   1341026 non-null  int64  \n",
            " 26  A2                          1341026 non-null  uint8  \n",
            " 27  A3                          1341026 non-null  uint8  \n",
            " 28  A4                          1341026 non-null  uint8  \n",
            " 29  A5                          1341026 non-null  uint8  \n",
            " 30  B1                          1341026 non-null  uint8  \n",
            " 31  B2                          1341026 non-null  uint8  \n",
            " 32  B3                          1341026 non-null  uint8  \n",
            " 33  B4                          1341026 non-null  uint8  \n",
            " 34  B5                          1341026 non-null  uint8  \n",
            " 35  C1                          1341026 non-null  uint8  \n",
            " 36  C2                          1341026 non-null  uint8  \n",
            " 37  C3                          1341026 non-null  uint8  \n",
            " 38  C4                          1341026 non-null  uint8  \n",
            " 39  C5                          1341026 non-null  uint8  \n",
            " 40  D1                          1341026 non-null  uint8  \n",
            " 41  D2                          1341026 non-null  uint8  \n",
            " 42  D3                          1341026 non-null  uint8  \n",
            " 43  D4                          1341026 non-null  uint8  \n",
            " 44  D5                          1341026 non-null  uint8  \n",
            " 45  E1                          1341026 non-null  uint8  \n",
            " 46  E2                          1341026 non-null  uint8  \n",
            " 47  E3                          1341026 non-null  uint8  \n",
            " 48  E4                          1341026 non-null  uint8  \n",
            " 49  E5                          1341026 non-null  uint8  \n",
            " 50  F1                          1341026 non-null  uint8  \n",
            " 51  F2                          1341026 non-null  uint8  \n",
            " 52  F3                          1341026 non-null  uint8  \n",
            " 53  F4                          1341026 non-null  uint8  \n",
            " 54  F5                          1341026 non-null  uint8  \n",
            " 55  G1                          1341026 non-null  uint8  \n",
            " 56  G2                          1341026 non-null  uint8  \n",
            " 57  G3                          1341026 non-null  uint8  \n",
            " 58  G4                          1341026 non-null  uint8  \n",
            " 59  G5                          1341026 non-null  uint8  \n",
            " 60  Source Verified             1341026 non-null  uint8  \n",
            " 61  Verified                    1341026 non-null  uint8  \n",
            " 62  Joint App                   1341026 non-null  uint8  \n",
            " 63  w                           1341026 non-null  uint8  \n",
            " 64  credit_card                 1341026 non-null  uint8  \n",
            " 65  debt_consolidation          1341026 non-null  uint8  \n",
            " 66  educational                 1341026 non-null  uint8  \n",
            " 67  home_improvement            1341026 non-null  uint8  \n",
            " 68  house                       1341026 non-null  uint8  \n",
            " 69  major_purchase              1341026 non-null  uint8  \n",
            " 70  medical                     1341026 non-null  uint8  \n",
            " 71  moving                      1341026 non-null  uint8  \n",
            " 72  other                       1341026 non-null  uint8  \n",
            " 73  renewable_energy            1341026 non-null  uint8  \n",
            " 74  small_business              1341026 non-null  uint8  \n",
            " 75  vacation                    1341026 non-null  uint8  \n",
            " 76  wedding                     1341026 non-null  uint8  \n",
            " 77  MORTGAGE                    1341026 non-null  uint8  \n",
            " 78  OTHER                       1341026 non-null  uint8  \n",
            " 79  OWN                         1341026 non-null  uint8  \n",
            " 80  RENT                        1341026 non-null  uint8  \n",
            " 81  DirectPay                   1341026 non-null  uint8  \n",
            " 82  Y                           1341026 non-null  uint8  \n",
            "dtypes: float64(23), int64(2), object(1), uint8(57)\n",
            "memory usage: 338.9+ MB\n"
          ]
        }
      ]
    },
    {
      "cell_type": "code",
      "source": [
        "df_accepted[['G1','G2','G3','G4']]"
      ],
      "metadata": {
        "colab": {
          "base_uri": "https://localhost:8080/",
          "height": 0
        },
        "id": "puwbvv-wUKSx",
        "outputId": "a718257e-ac8d-4f33-b095-24fa84a26de4"
      },
      "execution_count": 626,
      "outputs": [
        {
          "output_type": "execute_result",
          "data": {
            "text/plain": [
              "         G1  G2  G3  G4\n",
              "0         0   0   0   0\n",
              "1         0   0   0   0\n",
              "2         0   0   0   0\n",
              "3         0   0   0   0\n",
              "4         0   0   0   0\n",
              "...      ..  ..  ..  ..\n",
              "1341021   0   0   0   0\n",
              "1341022   0   0   0   0\n",
              "1341023   0   0   0   0\n",
              "1341024   0   0   0   0\n",
              "1341025   0   0   0   0\n",
              "\n",
              "[1341026 rows x 4 columns]"
            ],
            "text/html": [
              "\n",
              "  <div id=\"df-0119a70b-5dd5-4acd-98c7-b98646d32856\">\n",
              "    <div class=\"colab-df-container\">\n",
              "      <div>\n",
              "<style scoped>\n",
              "    .dataframe tbody tr th:only-of-type {\n",
              "        vertical-align: middle;\n",
              "    }\n",
              "\n",
              "    .dataframe tbody tr th {\n",
              "        vertical-align: top;\n",
              "    }\n",
              "\n",
              "    .dataframe thead th {\n",
              "        text-align: right;\n",
              "    }\n",
              "</style>\n",
              "<table border=\"1\" class=\"dataframe\">\n",
              "  <thead>\n",
              "    <tr style=\"text-align: right;\">\n",
              "      <th></th>\n",
              "      <th>G1</th>\n",
              "      <th>G2</th>\n",
              "      <th>G3</th>\n",
              "      <th>G4</th>\n",
              "    </tr>\n",
              "  </thead>\n",
              "  <tbody>\n",
              "    <tr>\n",
              "      <th>0</th>\n",
              "      <td>0</td>\n",
              "      <td>0</td>\n",
              "      <td>0</td>\n",
              "      <td>0</td>\n",
              "    </tr>\n",
              "    <tr>\n",
              "      <th>1</th>\n",
              "      <td>0</td>\n",
              "      <td>0</td>\n",
              "      <td>0</td>\n",
              "      <td>0</td>\n",
              "    </tr>\n",
              "    <tr>\n",
              "      <th>2</th>\n",
              "      <td>0</td>\n",
              "      <td>0</td>\n",
              "      <td>0</td>\n",
              "      <td>0</td>\n",
              "    </tr>\n",
              "    <tr>\n",
              "      <th>3</th>\n",
              "      <td>0</td>\n",
              "      <td>0</td>\n",
              "      <td>0</td>\n",
              "      <td>0</td>\n",
              "    </tr>\n",
              "    <tr>\n",
              "      <th>4</th>\n",
              "      <td>0</td>\n",
              "      <td>0</td>\n",
              "      <td>0</td>\n",
              "      <td>0</td>\n",
              "    </tr>\n",
              "    <tr>\n",
              "      <th>...</th>\n",
              "      <td>...</td>\n",
              "      <td>...</td>\n",
              "      <td>...</td>\n",
              "      <td>...</td>\n",
              "    </tr>\n",
              "    <tr>\n",
              "      <th>1341021</th>\n",
              "      <td>0</td>\n",
              "      <td>0</td>\n",
              "      <td>0</td>\n",
              "      <td>0</td>\n",
              "    </tr>\n",
              "    <tr>\n",
              "      <th>1341022</th>\n",
              "      <td>0</td>\n",
              "      <td>0</td>\n",
              "      <td>0</td>\n",
              "      <td>0</td>\n",
              "    </tr>\n",
              "    <tr>\n",
              "      <th>1341023</th>\n",
              "      <td>0</td>\n",
              "      <td>0</td>\n",
              "      <td>0</td>\n",
              "      <td>0</td>\n",
              "    </tr>\n",
              "    <tr>\n",
              "      <th>1341024</th>\n",
              "      <td>0</td>\n",
              "      <td>0</td>\n",
              "      <td>0</td>\n",
              "      <td>0</td>\n",
              "    </tr>\n",
              "    <tr>\n",
              "      <th>1341025</th>\n",
              "      <td>0</td>\n",
              "      <td>0</td>\n",
              "      <td>0</td>\n",
              "      <td>0</td>\n",
              "    </tr>\n",
              "  </tbody>\n",
              "</table>\n",
              "<p>1341026 rows × 4 columns</p>\n",
              "</div>\n",
              "      <button class=\"colab-df-convert\" onclick=\"convertToInteractive('df-0119a70b-5dd5-4acd-98c7-b98646d32856')\"\n",
              "              title=\"Convert this dataframe to an interactive table.\"\n",
              "              style=\"display:none;\">\n",
              "        \n",
              "  <svg xmlns=\"http://www.w3.org/2000/svg\" height=\"24px\"viewBox=\"0 0 24 24\"\n",
              "       width=\"24px\">\n",
              "    <path d=\"M0 0h24v24H0V0z\" fill=\"none\"/>\n",
              "    <path d=\"M18.56 5.44l.94 2.06.94-2.06 2.06-.94-2.06-.94-.94-2.06-.94 2.06-2.06.94zm-11 1L8.5 8.5l.94-2.06 2.06-.94-2.06-.94L8.5 2.5l-.94 2.06-2.06.94zm10 10l.94 2.06.94-2.06 2.06-.94-2.06-.94-.94-2.06-.94 2.06-2.06.94z\"/><path d=\"M17.41 7.96l-1.37-1.37c-.4-.4-.92-.59-1.43-.59-.52 0-1.04.2-1.43.59L10.3 9.45l-7.72 7.72c-.78.78-.78 2.05 0 2.83L4 21.41c.39.39.9.59 1.41.59.51 0 1.02-.2 1.41-.59l7.78-7.78 2.81-2.81c.8-.78.8-2.07 0-2.86zM5.41 20L4 18.59l7.72-7.72 1.47 1.35L5.41 20z\"/>\n",
              "  </svg>\n",
              "      </button>\n",
              "      \n",
              "  <style>\n",
              "    .colab-df-container {\n",
              "      display:flex;\n",
              "      flex-wrap:wrap;\n",
              "      gap: 12px;\n",
              "    }\n",
              "\n",
              "    .colab-df-convert {\n",
              "      background-color: #E8F0FE;\n",
              "      border: none;\n",
              "      border-radius: 50%;\n",
              "      cursor: pointer;\n",
              "      display: none;\n",
              "      fill: #1967D2;\n",
              "      height: 32px;\n",
              "      padding: 0 0 0 0;\n",
              "      width: 32px;\n",
              "    }\n",
              "\n",
              "    .colab-df-convert:hover {\n",
              "      background-color: #E2EBFA;\n",
              "      box-shadow: 0px 1px 2px rgba(60, 64, 67, 0.3), 0px 1px 3px 1px rgba(60, 64, 67, 0.15);\n",
              "      fill: #174EA6;\n",
              "    }\n",
              "\n",
              "    [theme=dark] .colab-df-convert {\n",
              "      background-color: #3B4455;\n",
              "      fill: #D2E3FC;\n",
              "    }\n",
              "\n",
              "    [theme=dark] .colab-df-convert:hover {\n",
              "      background-color: #434B5C;\n",
              "      box-shadow: 0px 1px 3px 1px rgba(0, 0, 0, 0.15);\n",
              "      filter: drop-shadow(0px 1px 2px rgba(0, 0, 0, 0.3));\n",
              "      fill: #FFFFFF;\n",
              "    }\n",
              "  </style>\n",
              "\n",
              "      <script>\n",
              "        const buttonEl =\n",
              "          document.querySelector('#df-0119a70b-5dd5-4acd-98c7-b98646d32856 button.colab-df-convert');\n",
              "        buttonEl.style.display =\n",
              "          google.colab.kernel.accessAllowed ? 'block' : 'none';\n",
              "\n",
              "        async function convertToInteractive(key) {\n",
              "          const element = document.querySelector('#df-0119a70b-5dd5-4acd-98c7-b98646d32856');\n",
              "          const dataTable =\n",
              "            await google.colab.kernel.invokeFunction('convertToInteractive',\n",
              "                                                     [key], {});\n",
              "          if (!dataTable) return;\n",
              "\n",
              "          const docLinkHtml = 'Like what you see? Visit the ' +\n",
              "            '<a target=\"_blank\" href=https://colab.research.google.com/notebooks/data_table.ipynb>data table notebook</a>'\n",
              "            + ' to learn more about interactive tables.';\n",
              "          element.innerHTML = '';\n",
              "          dataTable['output_type'] = 'display_data';\n",
              "          await google.colab.output.renderOutput(dataTable, element);\n",
              "          const docLink = document.createElement('div');\n",
              "          docLink.innerHTML = docLinkHtml;\n",
              "          element.appendChild(docLink);\n",
              "        }\n",
              "      </script>\n",
              "    </div>\n",
              "  </div>\n",
              "  "
            ]
          },
          "metadata": {},
          "execution_count": 626
        }
      ]
    },
    {
      "cell_type": "markdown",
      "source": [
        "### dataset 만들기"
      ],
      "metadata": {
        "id": "88jAnxoUMpsJ"
      }
    },
    {
      "cell_type": "code",
      "source": [
        "X = {}\n",
        "Y = {}"
      ],
      "metadata": {
        "id": "V4squN4zMnph"
      },
      "execution_count": 627,
      "outputs": []
    },
    {
      "cell_type": "code",
      "source": [
        "# sampling data\n",
        "\n",
        "# df = df_accepted.sample(frac=0.8,random_state=42)\n",
        "# print(len(df))\n",
        "\n",
        "df = df_accepted[df_accepted['issue_d'].str.startswith('2007') + df_accepted['issue_d'].str.startswith('2008') + df_accepted['issue_d'].str.startswith('2009')].copy()\n",
        "df = df.drop(columns=['issue_d'])\n"
      ],
      "metadata": {
        "colab": {
          "base_uri": "https://localhost:8080/"
        },
        "id": "-XgRM0yLMtz7",
        "outputId": "b51b252a-c713-489d-e849-d55dcc3cf00b"
      },
      "execution_count": 628,
      "outputs": [
        {
          "output_type": "stream",
          "name": "stderr",
          "text": [
            "/usr/local/lib/python3.7/dist-packages/pandas/core/computation/expressions.py:215: UserWarning: evaluating in Python space because the '+' operator is not supported by numexpr for the bool dtype, use '|' instead\n",
            "  f\"evaluating in Python space because the {repr(op_str)} \"\n"
          ]
        }
      ]
    },
    {
      "cell_type": "code",
      "source": [
        "X[2009] = df.loc[:, df.columns != 'loan_paid'].values\n",
        "Y[2009] = df.loan_paid.values"
      ],
      "metadata": {
        "id": "9bRfAIU_Mx0u"
      },
      "execution_count": 629,
      "outputs": []
    },
    {
      "cell_type": "code",
      "source": [
        "for year in range(2010,2019):\n",
        "    print(year)\n",
        "    df = df_accepted[df_accepted['issue_d'].str.startswith(str(year))].copy()\n",
        "    df = df.drop(columns=['issue_d'])\n",
        "    X[year] = df.loc[:, df.columns != 'loan_paid'].values\n",
        "    Y[year] = df.loan_paid.values"
      ],
      "metadata": {
        "colab": {
          "base_uri": "https://localhost:8080/"
        },
        "id": "9ISfkOAIMz4N",
        "outputId": "e3bd3896-59b9-42fa-ce9f-116b702c69ff"
      },
      "execution_count": 630,
      "outputs": [
        {
          "output_type": "stream",
          "name": "stdout",
          "text": [
            "2010\n",
            "2011\n",
            "2012\n",
            "2013\n",
            "2014\n",
            "2015\n",
            "2016\n",
            "2017\n",
            "2018\n"
          ]
        }
      ]
    },
    {
      "cell_type": "code",
      "source": [
        "X[2010].shape"
      ],
      "metadata": {
        "colab": {
          "base_uri": "https://localhost:8080/"
        },
        "id": "aN_hvbEeM4TJ",
        "outputId": "84c0ae10-31f3-4f0d-d8a1-a4155542a402"
      },
      "execution_count": 631,
      "outputs": [
        {
          "output_type": "execute_result",
          "data": {
            "text/plain": [
              "(11497, 81)"
            ]
          },
          "metadata": {},
          "execution_count": 631
        }
      ]
    },
    {
      "cell_type": "code",
      "source": [
        "COLUMNS = df.loc[:, df.columns != 'loan_paid'].columns"
      ],
      "metadata": {
        "id": "9UBYo0HEBDr-"
      },
      "execution_count": 632,
      "outputs": []
    },
    {
      "cell_type": "code",
      "source": [
        "COLUMNS"
      ],
      "metadata": {
        "colab": {
          "base_uri": "https://localhost:8080/"
        },
        "id": "1H1cqfRtBL4I",
        "outputId": "5ae711aa-4698-41d3-a44d-77d6d0902275"
      },
      "execution_count": 633,
      "outputs": [
        {
          "output_type": "execute_result",
          "data": {
            "text/plain": [
              "Index(['loan_amnt', 'term', 'int_rate', 'annual_inc', 'dti', 'delinq_2yrs',\n",
              "       'fico_range_high', 'inq_last_6mths', 'open_acc', 'pub_rec', 'revol_bal',\n",
              "       'revol_util', 'total_acc', 'total_rec_int', 'total_rec_late_fee',\n",
              "       'recoveries', 'last_pymnt_amnt', 'last_fico_range_high',\n",
              "       'collections_12_mths_ex_med', 'acc_now_delinq',\n",
              "       'chargeoff_within_12_mths', 'delinq_amnt', 'pub_rec_bankruptcies',\n",
              "       'tax_liens', 'A2', 'A3', 'A4', 'A5', 'B1', 'B2', 'B3', 'B4', 'B5', 'C1',\n",
              "       'C2', 'C3', 'C4', 'C5', 'D1', 'D2', 'D3', 'D4', 'D5', 'E1', 'E2', 'E3',\n",
              "       'E4', 'E5', 'F1', 'F2', 'F3', 'F4', 'F5', 'G1', 'G2', 'G3', 'G4', 'G5',\n",
              "       'Source Verified', 'Verified', 'Joint App', 'w', 'credit_card',\n",
              "       'debt_consolidation', 'educational', 'home_improvement', 'house',\n",
              "       'major_purchase', 'medical', 'moving', 'other', 'renewable_energy',\n",
              "       'small_business', 'vacation', 'wedding', 'MORTGAGE', 'OTHER', 'OWN',\n",
              "       'RENT', 'DirectPay', 'Y'],\n",
              "      dtype='object')"
            ]
          },
          "metadata": {},
          "execution_count": 633
        }
      ]
    },
    {
      "cell_type": "markdown",
      "source": [
        "# 예측 모델 준비"
      ],
      "metadata": {
        "id": "wjmcjPU-NuDB"
      }
    },
    {
      "cell_type": "code",
      "source": [
        "ML = {}\n",
        "scaler = MinMaxScaler()"
      ],
      "metadata": {
        "id": "j1pTk3q7Xqca"
      },
      "execution_count": 634,
      "outputs": []
    },
    {
      "cell_type": "code",
      "source": [
        "MODEL_TYPE = 'RF'  ## RF / DL"
      ],
      "metadata": {
        "id": "IqnjFlMPX_KX"
      },
      "execution_count": 635,
      "outputs": []
    },
    {
      "cell_type": "markdown",
      "source": [
        "## deep learning 모델"
      ],
      "metadata": {
        "id": "bEC31_WYM-ck"
      }
    },
    {
      "cell_type": "code",
      "source": [
        "import os.path \n",
        "\n",
        "def build_model_dl(year,x,y,epochs=5):\n",
        "    #X_train, X_test, y_train, y_test = train_test_split(X[year], Y[year], test_size=0.2, random_state=42)\n",
        "    X_train= scaler.fit_transform(x)\n",
        "    #X_test = scaler.transform(X_test)\n",
        "    y_train = get_one_hot(y,2)\n",
        "\n",
        "    # building the model\n",
        "    model = Sequential()\n",
        "    model.add(Dense(units=78,activation='relu'))\n",
        "    model.add(Dense(units=39,activation='relu'))\n",
        "    model.add(Dense(units=19,activation='relu'))\n",
        "    model.add(Dense(units=8,activation='relu'))\n",
        "    model.add(Dense(units=4,activation='relu'))\n",
        "    model.add(Dense(units=2,activation='softmax'))\n",
        "    model.compile(loss='binary_crossentropy', optimizer='adam', metrics=['accuracy'])\n",
        "    weight_path = '/content/drive/MyDrive/Drift/model/ml_'+str(year)\n",
        "    if os.path.exists(weight_path+'.index'):\n",
        "        model.load_weights(weight_path)\n",
        "        print('load weights from ',weight_path)\n",
        "    else:\n",
        "        model.fit(x=X_train, \n",
        "                y=y_train, \n",
        "                epochs=epochs,\n",
        "                batch_size=512,\n",
        "                verbose=1)\n",
        "            #validation_data=(X_test, y_test), verbose=1)\n",
        "        if year > 2000:\n",
        "            model.save_weights(weight_path) \n",
        "            print('save weights to ',weight_path)\n",
        "    return model"
      ],
      "metadata": {
        "id": "5hB5i-1mNBcK"
      },
      "execution_count": 636,
      "outputs": []
    },
    {
      "cell_type": "markdown",
      "source": [
        "## random forest 모델"
      ],
      "metadata": {
        "id": "3OXxRO7DNFnp"
      }
    },
    {
      "cell_type": "code",
      "source": [
        "def get_one_hot(targets, nb_classes):\n",
        "    res = np.eye(nb_classes)[np.array(targets).reshape(-1)]\n",
        "    return res.reshape(list(targets.shape)+[nb_classes])"
      ],
      "metadata": {
        "id": "_aLKnDwtNL8s"
      },
      "execution_count": 637,
      "outputs": []
    },
    {
      "cell_type": "code",
      "source": [
        "from sklearn.ensemble import RandomForestClassifier\n",
        "\n",
        "def build_model_rf(year,x,y,epochs=5):\n",
        "    X_train= scaler.fit_transform(x)\n",
        "    y_train = y #get_one_hot(y,2)\n",
        "    model = RandomForestClassifier(n_estimators=80,max_depth=5)\n",
        "    model.fit(X_train,y_train)\n",
        "    return model"
      ],
      "metadata": {
        "id": "KJBtx9J2NQe4"
      },
      "execution_count": 638,
      "outputs": []
    },
    {
      "cell_type": "markdown",
      "source": [
        "# EDA"
      ],
      "metadata": {
        "id": "nbRzLDsj9JdJ"
      }
    },
    {
      "cell_type": "code",
      "source": [
        "y_ref, y_inf, x_ref, x_inf = train_test_split(Y[2010], X[2010], test_size=0.30, random_state=23543)\n",
        "ML[2010] = build_model_rf(year,x_ref,y_ref,epochs=5)"
      ],
      "metadata": {
        "id": "PuNF88fd9Nfz"
      },
      "execution_count": 33,
      "outputs": []
    },
    {
      "cell_type": "code",
      "source": [
        "from sklearn.metrics import f1_score\n",
        "from sklearn.metrics import precision_recall_fscore_support\n",
        "\n",
        "base_score = precision_recall_fscore_support(y_inf,ML[2010].predict(scaler.transform(x_inf)),average='binary')"
      ],
      "metadata": {
        "id": "vpceMKE09XsJ"
      },
      "execution_count": 34,
      "outputs": []
    },
    {
      "cell_type": "code",
      "source": [
        "# https://towardsdatascience.com/comparing-sample-distributions-with-the-kolmogorov-smirnov-ks-test-a2292ad6fee5\n",
        "\n",
        "from scipy import stats\n",
        "import sys\n",
        "import math\n",
        "if sys.version_info >= (3, 5):\n",
        "    from math import gcd\n",
        "else:\n",
        "    from fractions import gcd\n",
        "\n",
        "def ks_2samp2(sample1, sample2):\n",
        "    # Gets all observations\n",
        "    sample1 = np.sort(sample1)\n",
        "    sample2 = np.sort(sample2)\n",
        "    n1 = sample1.shape[0]\n",
        "    n2 = sample2.shape[0]   \n",
        "    data_all = np.concatenate([sample1, sample2])\n",
        "    cdf1 = np.searchsorted(sample1, data_all, side='right') / n1\n",
        "    cdf2 = np.searchsorted(sample2, data_all, side='right') / n2\n",
        "    # Evaluates the KS statistic\n",
        "    cddiffs = cdf1 - cdf2\n",
        "    minS = -np.min(cddiffs)\n",
        "    maxS = np.max(cddiffs)\n",
        "    ks_stat =  max(minS, maxS)\n",
        "    \n",
        "    if ks_stat == minS:\n",
        "        ks_stat = -ks_stat\n",
        "    \n",
        "    # Calculates the P-Value based on the two-sided test\n",
        "    # The P-Value comes from the KS Distribution Survival Function (SF = 1-CDF)\n",
        "    m, n = float(n1), float(n2)\n",
        "    en = m * n / (m + n)\n",
        "    p_value = stats.kstwobign.sf(en * abs(ks_stat))\n",
        "\n",
        "    return ks_stat,p_value"
      ],
      "metadata": {
        "id": "jsVW40B0U2A_"
      },
      "execution_count": 35,
      "outputs": []
    },
    {
      "cell_type": "code",
      "source": [
        "# \n",
        "\n",
        "from scipy.stats import ks_2samp, kstest\n",
        "\n",
        "def ks_drift(ref_x,inf_x):\n",
        "    x_drift = np.zeros((ref_x.shape[1],2))\n",
        "    for i in range(ref_x.shape[1]):\n",
        "        #s, p = ks_2samp(ref_x[:,i],inf_x[:,i],mode='asymp')\n",
        "        s, p = ks_2samp2(ref_x[:,i],inf_x[:,i])\n",
        "        x_drift[i,0] = s\n",
        "        x_drift[i,1] = p\n",
        "    return x_drift"
      ],
      "metadata": {
        "id": "ts5Co_VeBdiQ"
      },
      "execution_count": 36,
      "outputs": []
    },
    {
      "cell_type": "markdown",
      "source": [
        "# 실험"
      ],
      "metadata": {
        "id": "r1XIuhYXNa2Z"
      }
    },
    {
      "cell_type": "markdown",
      "source": [
        "## 학습 및 기본 준비"
      ],
      "metadata": {
        "id": "_vpmYcsXOEAK"
      }
    },
    {
      "cell_type": "code",
      "source": [
        "y_ref, x_ref, y_inf, x_inf = split_sample(Y[2010], X[2010], train_size=0.70, middle_offset =False)"
      ],
      "metadata": {
        "id": "kRvoFv1MNWkL"
      },
      "execution_count": 659,
      "outputs": []
    },
    {
      "cell_type": "code",
      "source": [
        "df_stat = pd.DataFrame({\"mean\":np.mean(x_ref,axis=0),\"std\":np.std(x_ref,axis=0)},index=COLUMNS)"
      ],
      "metadata": {
        "id": "1fYeVdXafayw"
      },
      "execution_count": 660,
      "outputs": []
    },
    {
      "cell_type": "code",
      "source": [
        "df_stat['mean'][0]"
      ],
      "metadata": {
        "id": "C5_5Qd8FehCs",
        "outputId": "f2e4d50f-9d25-4f2e-ec26-a1f262d0c165",
        "colab": {
          "base_uri": "https://localhost:8080/"
        }
      },
      "execution_count": 641,
      "outputs": [
        {
          "output_type": "execute_result",
          "data": {
            "text/plain": [
              "10465.170249782528"
            ]
          },
          "metadata": {},
          "execution_count": 641
        }
      ]
    },
    {
      "cell_type": "code",
      "source": [
        "ML[2010] = build_model_rf(year,x_ref,y_ref,epochs=5)"
      ],
      "metadata": {
        "id": "jld9FUMIN5xn"
      },
      "execution_count": 642,
      "outputs": []
    },
    {
      "cell_type": "code",
      "source": [
        "importances = ML[2010].feature_importances_"
      ],
      "metadata": {
        "id": "iPEOaEOqVnJq"
      },
      "execution_count": 643,
      "outputs": []
    },
    {
      "cell_type": "code",
      "source": [
        "importances = importances/sum(importances)"
      ],
      "metadata": {
        "id": "ZGeJgC9bVpnw"
      },
      "execution_count": 644,
      "outputs": []
    },
    {
      "cell_type": "code",
      "source": [
        "l = []\n",
        "for x,(c,i) in enumerate(zip(COLUMNS,importances)):\n",
        "    l.append((c,i,x))\n",
        "l.sort(key = lambda x: x[1],reverse=True)    "
      ],
      "metadata": {
        "id": "oP7cH0FlVzRB"
      },
      "execution_count": 645,
      "outputs": []
    },
    {
      "cell_type": "code",
      "source": [
        "l"
      ],
      "metadata": {
        "id": "QIgdG0bbB7x9",
        "outputId": "39d66312-0425-4f37-9ca0-fc93062302e3",
        "colab": {
          "base_uri": "https://localhost:8080/"
        }
      },
      "execution_count": 646,
      "outputs": [
        {
          "output_type": "execute_result",
          "data": {
            "text/plain": [
              "[('recoveries', 0.6016789393380986, 15),\n",
              " ('last_fico_range_high', 0.13638322439527759, 17),\n",
              " ('last_pymnt_amnt', 0.09224769494765923, 16),\n",
              " ('total_rec_late_fee', 0.04866145299797501, 14),\n",
              " ('Y', 0.020539431915366918, 80),\n",
              " ('term', 0.02029931620619978, 1),\n",
              " ('int_rate', 0.01809802690584062, 2),\n",
              " ('total_rec_int', 0.008929832945266286, 13),\n",
              " ('loan_amnt', 0.0062727731962435975, 0),\n",
              " ('annual_inc', 0.00511512967838699, 3),\n",
              " ('revol_util', 0.004094250611320656, 11),\n",
              " ('fico_range_high', 0.004032611621173462, 6),\n",
              " ('dti', 0.003445867066512444, 4),\n",
              " ('revol_bal', 0.0025319950005330575, 10),\n",
              " ('open_acc', 0.0024154449627640674, 8),\n",
              " ('total_acc', 0.002293169282252409, 12),\n",
              " ('inq_last_6mths', 0.0020254935498252385, 7),\n",
              " ('small_business', 0.001988406260183673, 72),\n",
              " ('pub_rec', 0.001847603329124764, 9),\n",
              " ('A5', 0.001683682731623119, 27),\n",
              " ('pub_rec_bankruptcies', 0.0015677433957651027, 22),\n",
              " ('E4', 0.0011237889542878492, 46),\n",
              " ('F3', 0.0011007450981166179, 50),\n",
              " ('D2', 0.001073101809347442, 39),\n",
              " ('A3', 0.0006247405064012502, 25),\n",
              " ('D3', 0.0006133473974513692, 40),\n",
              " ('MORTGAGE', 0.0005299611403842504, 75),\n",
              " ('E1', 0.0004907959911724524, 43),\n",
              " ('A4', 0.00047920307104416744, 26),\n",
              " ('G5', 0.00047862046257520635, 57),\n",
              " ('D5', 0.00047463971418363905, 42),\n",
              " ('E5', 0.00046124272323327996, 47),\n",
              " ('F2', 0.000438968384469573, 49),\n",
              " ('debt_consolidation', 0.0003962457517019157, 63),\n",
              " ('F5', 0.0003836811301181995, 52),\n",
              " ('OTHER', 0.00035921813803765196, 76),\n",
              " ('G3', 0.00031703631416583883, 55),\n",
              " ('B1', 0.00030076852284348837, 28),\n",
              " ('RENT', 0.0002928318660533284, 78),\n",
              " ('house', 0.0002801284056310089, 66),\n",
              " ('delinq_2yrs', 0.0002750047483762814, 5),\n",
              " ('Verified', 0.0002585370342515924, 59),\n",
              " ('vacation', 0.00023338562835347314, 73),\n",
              " ('C3', 0.00022910055469413105, 35),\n",
              " ('B5', 0.00022640389845091465, 32),\n",
              " ('Source Verified', 0.00021491457237853763, 58),\n",
              " ('F4', 0.00020528286624008996, 51),\n",
              " ('B3', 0.00018408277538621443, 30),\n",
              " ('D1', 0.00018345282479499214, 38),\n",
              " ('C5', 0.00013383873423376035, 37),\n",
              " ('B2', 0.0001337750065839238, 29),\n",
              " ('E3', 0.0001292275855764325, 45),\n",
              " ('educational', 0.0001203866808134155, 64),\n",
              " ('C1', 0.00010317207408515187, 33),\n",
              " ('G1', 0.000101961782853649, 53),\n",
              " ('OWN', 0.00010128320992519828, 77),\n",
              " ('D4', 9.481640873603846e-05, 41),\n",
              " ('wedding', 9.117975329310963e-05, 74),\n",
              " ('E2', 9.055091280982792e-05, 44),\n",
              " ('other', 8.61546170499645e-05, 70),\n",
              " ('F1', 7.379260024090806e-05, 48),\n",
              " ('home_improvement', 6.947201866623313e-05, 65),\n",
              " ('G2', 6.491255635314155e-05, 54),\n",
              " ('credit_card', 5.069448865721517e-05, 62),\n",
              " ('moving', 4.9135125781865395e-05, 69),\n",
              " ('A2', 4.166443500072595e-05, 24),\n",
              " ('renewable_energy', 2.557820057688052e-05, 71),\n",
              " ('medical', 2.5106130567195778e-05, 68),\n",
              " ('B4', 1.904613503522305e-05, 31),\n",
              " ('major_purchase', 7.453735924043723e-06, 67),\n",
              " ('C2', 5.4771856986944275e-06, 34),\n",
              " ('collections_12_mths_ex_med', 0.0, 18),\n",
              " ('acc_now_delinq', 0.0, 19),\n",
              " ('chargeoff_within_12_mths', 0.0, 20),\n",
              " ('delinq_amnt', 0.0, 21),\n",
              " ('tax_liens', 0.0, 23),\n",
              " ('C4', 0.0, 36),\n",
              " ('G4', 0.0, 56),\n",
              " ('Joint App', 0.0, 60),\n",
              " ('w', 0.0, 61),\n",
              " ('DirectPay', 0.0, 79)]"
            ]
          },
          "metadata": {},
          "execution_count": 646
        }
      ]
    },
    {
      "cell_type": "code",
      "source": [
        "def getImportanceColumnNameTop(prefix=\"\", top=5):\n",
        "    return [prefix+w for w in np.asarray(l[0:top])[:,0]]\n",
        "\n",
        "def getImportanceIndexTop(top=5):\n",
        "    return [int(w) for w in np.asarray(l[0:top])[:,2]]    "
      ],
      "metadata": {
        "id": "oJ9Z2ozOG6Ga"
      },
      "execution_count": 647,
      "outputs": []
    },
    {
      "cell_type": "code",
      "source": [
        "it = getImportanceColumnNameTop(prefix=\"drift_\",top=5)\n",
        "it"
      ],
      "metadata": {
        "id": "gFmjebpnHxyc",
        "colab": {
          "base_uri": "https://localhost:8080/"
        },
        "outputId": "83853c08-0602-4559-a7cf-77177007f6ef"
      },
      "execution_count": 648,
      "outputs": [
        {
          "output_type": "execute_result",
          "data": {
            "text/plain": [
              "['drift_recoveries',\n",
              " 'drift_last_fico_range_high',\n",
              " 'drift_last_pymnt_amnt',\n",
              " 'drift_total_rec_late_fee',\n",
              " 'drift_Y']"
            ]
          },
          "metadata": {},
          "execution_count": 648
        }
      ]
    },
    {
      "cell_type": "code",
      "source": [
        "x = getImportanceIndexTop(top=5)\n",
        "x"
      ],
      "metadata": {
        "id": "1dHNFLe4kTsG",
        "outputId": "b3ea55d6-4cd3-40be-e65b-cca266baf3d4",
        "colab": {
          "base_uri": "https://localhost:8080/"
        }
      },
      "execution_count": 649,
      "outputs": [
        {
          "output_type": "execute_result",
          "data": {
            "text/plain": [
              "[15, 17, 16, 14, 80]"
            ]
          },
          "metadata": {},
          "execution_count": 649
        }
      ]
    },
    {
      "cell_type": "code",
      "source": [
        "from sklearn.metrics import f1_score\n",
        "from sklearn.metrics import precision_recall_fscore_support\n",
        "\n",
        "base_score = precision_recall_fscore_support(y_inf,ML[2010].predict(scaler.transform(x_inf)),average='binary')"
      ],
      "metadata": {
        "id": "XouZX2b-OMGm"
      },
      "execution_count": 650,
      "outputs": []
    },
    {
      "cell_type": "code",
      "source": [
        "base_score"
      ],
      "metadata": {
        "id": "-w-1j-n6Bk_0",
        "outputId": "6b508bdd-a82d-4421-f7ea-ec093d5d1088",
        "colab": {
          "base_uri": "https://localhost:8080/"
        }
      },
      "execution_count": 651,
      "outputs": [
        {
          "output_type": "execute_result",
          "data": {
            "text/plain": [
              "(0.9943968358602505, 1.0, 0.997190547017022, None)"
            ]
          },
          "metadata": {},
          "execution_count": 651
        }
      ]
    },
    {
      "cell_type": "markdown",
      "source": [
        "## dataset에서의 Sampling "
      ],
      "metadata": {
        "id": "JmmAMy9iOrNW"
      }
    },
    {
      "cell_type": "code",
      "source": [
        "from sklearn.model_selection import train_test_split\n",
        "import random\n",
        "\n",
        "def drift_sampling2(predict,sampling_sigma=0.95,permutaion_sigma=1,epoch = 100,toplist=[]):\n",
        "    metric_a= []\n",
        "    metric_b= []\n",
        "    metric_c= []\n",
        "    drift_data_ks_stats = []\n",
        "    drift_data_ks_pvals = []\n",
        "    drift_data_ks_stats_diff = []\n",
        "    drift_data_ks_pvals_diff = []     \n",
        "    drift_ratio1 = []\n",
        "    drift_ratio2 = []\n",
        "    for i in range(epoch):\n",
        "        #y_ref_d, _, x_ref_d, _ = train_test_split(y_ref, x_ref, train_size=0.10, random_state=i)\n",
        "        y_inf_d, _, x_inf_d, _ = train_test_split(y_ref, x_ref, train_size=random.uniform(1-sampling_sigma,sampling_sigma))\n",
        "        #print(x_ref.shape, x_inf_d.shape)\n",
        "        o_drift = ks_drift(x_ref, x_inf_d)\n",
        "        #permutation for x_inf_d\n",
        "        #for v in toplist:\n",
        "\n",
        "        # 20%의 feature에 대하여 permutaion...\n",
        "        for q in range(int(len(toplist)*0.2)):\n",
        "            v = random.choice(toplist)\n",
        "            x_inf_d[:,v] = x_inf_d[:,v] + np.random.normal(0, df_stat['std'][v]*permutaion_sigma, x_inf_d.shape[0])\n",
        "        \"\"\"\n",
        "        for k in range(x_inf_d.shape[0]):\n",
        "            for v in toplist:\n",
        "                x_inf_d[k,v] = x_inf_d[k,v] + np.random.normal(0, df_stat['std'][v]*5, 1)[0]\n",
        "        \"\"\"\n",
        "        acc = precision_recall_fscore_support(y_inf_d, predict(scaler.transform(x_inf_d)),average='binary')\n",
        "        if base_score[0] > acc[0]:\n",
        "            x_drift = ks_drift(x_ref, x_inf_d)\n",
        "            sumo = np.sum((o_drift[toplist,0]))\n",
        "            sumd = np.sum((x_drift[toplist,0]))\n",
        "            #sump = np.sum(x_drift[:,1])\n",
        "            drift_ratio1.append(o_drift[toplist,0])\n",
        "            drift_ratio2.append(x_drift[toplist,0])\n",
        "            print(f\"\\r{i+1}/{epoch} acc:{acc[0]:.4f} {acc[1]:.4f} {acc[2]:.4f} sum:{sumd:.4f} {sumo:.4f} {sumo/sumd:.4f}\", end=\"\", flush=True)\n",
        "            metric_a.append([acc[0]/base_score[0],acc[1]/base_score[1],acc[2]/base_score[2]])\n",
        "            metric_b.append([(base_score[0] - acc[0]),(base_score[1] - acc[1]),(base_score[2] - acc[2])])\n",
        "            metric_c.append([acc[0],acc[1],acc[2]])\n",
        "            drift_data_ks_stats.append(x_drift[:,0])\n",
        "            drift_data_ks_pvals.append(x_drift[:,1])\n",
        "            #drift_data_ks_pvals.append([1 if a < 0.05 else 0 for a in x_drift[:,1]]) # x_drift[:,1])   \n",
        "            #drift_data_ks_stats_diff.append(base_drift[:,0]*(1-base_drift[:,1]) - x_drift[:,0]*(1-x_drift[:,1]))\n",
        "            drift_data_ks_pvals_diff.append([1 if a < 0.05 else 0 for a in x_drift[:,1]]) \n",
        "\n",
        "    metric_a = np.asarray(metric_a)\n",
        "    metric_b = np.asarray(metric_b)\n",
        "    metric_c = np.asarray(metric_c)        \n",
        "    drift_data_ks_stats = np.asarray(drift_data_ks_stats)\n",
        "    drift_data_ks_pvals = np.asarray(drift_data_ks_pvals)    \n",
        "    drift_data_ks_stats_diff = np.asarray(drift_data_ks_stats_diff)\n",
        "    drift_data_ks_pvals_diff = np.asarray(drift_data_ks_pvals_diff)  \n",
        "\n",
        "    drift_ratio1 = np.asarray(drift_ratio1)\n",
        "    drift_ratio2 = np.asarray(drift_ratio2)\n",
        "\n",
        "    drift_ratio = []\n",
        "    for s in range(len(toplist)):\n",
        "        drift_ratio.append(sum(abs(drift_ratio2[:,s]))/sum(abs(drift_ratio1[:,s])))\n",
        "\n",
        "    return  metric_a,metric_b,metric_c,drift_data_ks_stats,drift_data_ks_pvals,drift_data_ks_stats_diff,drift_data_ks_pvals_diff,y_ref.shape[0],mean(drift_ratio)\n"
      ],
      "metadata": {
        "id": "ylHi1rr6cLfr"
      },
      "execution_count": 50,
      "outputs": []
    },
    {
      "cell_type": "code",
      "source": [
        "from sklearn.model_selection import train_test_split\n",
        "import random\n",
        "\n",
        "def drift_sampling3(predict,sampling_sigma=0.95,permutaion_sigma=1,epoch = 100,toplist=[]):\n",
        "    metric_a= []\n",
        "    metric_b= []\n",
        "    metric_c= []\n",
        "    drift_data_ks_stats = []\n",
        "    drift_data_ks_pvals = []\n",
        "    drift_data_ks_stats_diff = []\n",
        "    drift_data_ks_pvals_diff = []     \n",
        "    drift_ratio1 = []\n",
        "    drift_ratio2 = []\n",
        "    for i in range(epoch):\n",
        "        #y_ref_d, _, x_ref_d, _ = train_test_split(y_ref, x_ref, train_size=0.10, random_state=i)\n",
        "        y_inf_d, _, x_inf_d, _ = train_test_split(y_ref, x_ref, train_size=random.uniform(1-sampling_sigma,sampling_sigma))\n",
        "        #o_drift = ks_drift(x_ref, x_inf_d)\n",
        "        #permutation for x_inf_d\n",
        "        #for v in toplist:\n",
        "        #v = random.choice(toplist)\n",
        "        #x_inf_d[:,v] = x_inf_d[:,v] + np.random.normal(0, df_stat['std'][v]*permutaion_sigma, x_inf_d.shape[0])\n",
        "        \"\"\"\n",
        "        for k in range(x_inf_d.shape[0]):\n",
        "            for v in toplist:\n",
        "                x_inf_d[k,v] = x_inf_d[k,v] + np.random.normal(0, df_stat['std'][v]*5, 1)[0]\n",
        "        \"\"\"\n",
        "        acc = precision_recall_fscore_support(y_inf_d, predict(scaler.transform(x_inf_d)),average='binary')\n",
        "        #if base_score[0] > acc[0]:\n",
        "\n",
        "        x_drift = ks_drift(x_ref, x_inf_d)\n",
        "        #sumo = np.sum((o_drift[toplist,0]))\n",
        "        #sumd = np.sum((x_drift[toplist,0]))\n",
        "        #sump = np.sum(x_drift[:,1])\n",
        "        #drift_ratio1.append(o_drift[toplist,0])\n",
        "        #drift_ratio2.append(x_drift[toplist,0])\n",
        "        print(f\"\\r{i+1}/{epoch} acc:{acc[0]:.4f} {acc[1]:.4f} {acc[2]:.4f}\", end=\"\", flush=True)\n",
        "        #metric_a.append([acc[0]/base_score[0],acc[1]/base_score[1],acc[2]/base_score[2]])\n",
        "        #metric_b.append([(base_score[0] - acc[0]),(base_score[1] - acc[1]),(base_score[2] - acc[2])])\n",
        "        metric_c.append([acc[0],acc[1],acc[2]])\n",
        "        drift_data_ks_stats.append(x_drift[:,0])\n",
        "        #drift_data_ks_pvals.append(x_drift[:,1])\n",
        "        #drift_data_ks_pvals.append([1 if a < 0.05 else 0 for a in x_drift[:,1]]) # x_drift[:,1])   \n",
        "        #drift_data_ks_stats_diff.append(base_drift[:,0]*(1-base_drift[:,1]) - x_drift[:,0]*(1-x_drift[:,1]))\n",
        "        drift_data_ks_pvals_diff.append([1 if a < 0.05 else 0 for a in x_drift[:,1]]) \n",
        "\n",
        "    metric_a = np.asarray(metric_a)\n",
        "    metric_b = np.asarray(metric_b)\n",
        "    metric_c = np.asarray(metric_c)        \n",
        "    drift_data_ks_stats = np.asarray(drift_data_ks_stats)\n",
        "    drift_data_ks_pvals = np.asarray(drift_data_ks_pvals)    \n",
        "    drift_data_ks_stats_diff = np.asarray(drift_data_ks_stats_diff)\n",
        "    drift_data_ks_pvals_diff = np.asarray(drift_data_ks_pvals_diff)  \n",
        "    \"\"\"\n",
        "    drift_ratio1 = np.asarray(drift_ratio1)\n",
        "    drift_ratio2 = np.asarray(drift_ratio2)\n",
        "\n",
        "    drift_ratio = []\n",
        "    for s in range(len(toplist)):\n",
        "        drift_ratio.append(sum(abs(drift_ratio2[:,s]))/sum(abs(drift_ratio1[:,s])))\n",
        "    \"\"\"\n",
        "    return  metric_a,metric_b,metric_c,drift_data_ks_stats,drift_data_ks_pvals,drift_data_ks_stats_diff,drift_data_ks_pvals_diff,y_ref.shape[0],1.0\n"
      ],
      "metadata": {
        "id": "1P8-zc0pktjP"
      },
      "execution_count": 51,
      "outputs": []
    },
    {
      "cell_type": "markdown",
      "source": [
        "performance predict model"
      ],
      "metadata": {
        "id": "2Pf5TRe0PpRJ"
      }
    },
    {
      "cell_type": "code",
      "source": [
        "import tensorflow as tf\n",
        "from tensorflow.keras import layers\n",
        "import pandas as pd\n",
        "import numpy as np\n",
        "from tensorflow.keras import datasets, layers, models, optimizers\n",
        "from tensorflow.keras.utils import to_categorical\n",
        "import random\n",
        "\n",
        "random.seed(42)\n"
      ],
      "metadata": {
        "id": "Hf3gGXWrPrx6"
      },
      "execution_count": 52,
      "outputs": []
    },
    {
      "cell_type": "code",
      "source": [
        "from keras import backend as K\n",
        "\n",
        "\n",
        "def r2(y_true, y_pred):\n",
        "    \"\"\"\n",
        "    # custom R2-score metrics for keras backend\n",
        "    :param y_true: 실측 데이터\n",
        "    :param y_pred: 모델에 의한 예측 데이테\n",
        "    :return: R^2 value, 이 값이 높다고 (예:0.99)해서 예측 값이 정확 하다고 할 수 는 없음...\n",
        "    \"\"\"\n",
        "    SS_res = K.sum(K.square(y_true - y_pred))\n",
        "    SS_tot = K.sum(K.square(y_true - K.mean(y_true)))\n",
        "    return (1 - SS_res / (SS_tot + K.epsilon()))"
      ],
      "metadata": {
        "id": "0yfQQyBRPti6"
      },
      "execution_count": 53,
      "outputs": []
    },
    {
      "cell_type": "code",
      "source": [
        "class VerboseCallback(tf.keras.callbacks.Callback):\n",
        "    \"\"\"\n",
        "    kerase.model.fit 함수에서, log 출력을 위한 callback\n",
        "    \"\"\"\n",
        "    def __init__(self, epoch):\n",
        "        self.epoch = epoch\n",
        "        self.progress(\"learning:\", 0, [])\n",
        "\n",
        "    def progress(self, text, current=0, log=None):\n",
        "        g = self.epoch - current\n",
        "        f = 50 / self.epoch\n",
        "        c = int(current * f)\n",
        "        pg = ['=' for i in range(c)] + ['.' for i in range(50 - c)]\n",
        "        print(\"\\r\" + str(text) + \"{}/{}[{}]{}\".format(current, self.epoch, ''.join(pg), ('' if log is None else log)),\n",
        "              end=\"\", flush=True)\n",
        "        if self.epoch - current == 0:\n",
        "            print(\"\")\n",
        "\n",
        "    def on_epoch_end(self, epoch, logs=None):\n",
        "        self.progress(\"learning:\", epoch + 1, logs)"
      ],
      "metadata": {
        "id": "C94xfCUIudt5"
      },
      "execution_count": 54,
      "outputs": []
    },
    {
      "cell_type": "code",
      "source": [
        "from tensorflow.keras import initializers\n",
        "import random\n",
        "\n",
        "#ss = StandardScaler()\n",
        "#dx = ss.fit_transform(dx)\n",
        "\"\"\"\n",
        "tf.keras.layers.Dense(dx.shape[1], activation='relu',\n",
        "                    kernel_initializer=initializers.RandomNormal(stddev=0.4),\n",
        "                    bias_initializer=initializers.Zeros()),\n",
        "#tf.keras.layers.Dropout(0.5),\n",
        "tf.keras.layers.Dense(dx.shape[1]*8, activation='relu',\n",
        "                    kernel_initializer=initializers.RandomNormal(stddev=0.4),\n",
        "                    bias_initializer=initializers.Zeros()),\n",
        "#tf.keras.layers.Dropout(0.2),\n",
        "tf.keras.layers.Dense(dx.shape[1]*2, activation='relu',\n",
        "                    kernel_initializer=initializers.RandomNormal(stddev=0.4),\n",
        "                    bias_initializer=initializers.Zeros()),\n",
        "#tf.keras.layers.Dropout(0.1),\n",
        "\"\"\"\n",
        "\n",
        "def train_model(iter,epochs=600):\n",
        "\n",
        "    seed_everything()    \n",
        "\n",
        "    model_c = tf.keras.Sequential([\n",
        "        tf.keras.layers.Dense(dx.shape[1]*10, activation='relu', input_shape=(dx.shape[1],),\n",
        "                              kernel_initializer=initializers.RandomNormal(mean=-(0.2+iter*0.001), stddev=0.3),\n",
        "                              bias_initializer=initializers.Zeros()),\n",
        "        #tf.keras.layers.LayerNormalization(),\n",
        "        #tf.keras.layers.Dense(128, activation='relu'),\n",
        "        tf.keras.layers.Dense(64, activation='relu',\n",
        "                              kernel_initializer=initializers.RandomNormal(mean=-(0.2+iter*0.001), stddev=0.3),\n",
        "                              bias_initializer=initializers.Zeros()),\n",
        "        #tf.keras.layers.LayerNormalization(),\n",
        "        tf.keras.layers.Dense(1)\n",
        "    ])\n",
        "\n",
        "    # patience 매개변수는 성능 향상을 체크할 에포크 횟수입니다\n",
        "    early_stop = tf.keras.callbacks.EarlyStopping(monitor='val_loss', patience=10)\n",
        "\n",
        "    opt = optimizers.RMSprop(learning_rate=0.0001)\n",
        "    model_c.compile(optimizer=opt,\n",
        "                loss='mse',\n",
        "                metrics=[r2])\n",
        "    #print(model_c.summary())\n",
        "    #hist = model_c.fit(dx, metric_c[:,0], validation_split=0.2, batch_size=400, epochs=epochs,shuffle=False,verbose=0,callbacks=[early_stop,VerboseCallback(epochs)]) #, callbacks=[es_callback])\n",
        "    hist = model_c.fit(dx, metric_c[:,0], validation_split=0.2, \n",
        "                       batch_size=1200, epochs=epochs,shuffle=False,use_multiprocessing=False,\n",
        "                       verbose=0,callbacks=[early_stop,VerboseCallback(epochs)]) #, callbacks=[es_callback])\n",
        "\n",
        "    return hist, model_c"
      ],
      "metadata": {
        "id": "_gi_VT19Pvg2"
      },
      "execution_count": 55,
      "outputs": []
    },
    {
      "cell_type": "code",
      "source": [
        "def seed_everything(seed: int = 42):\n",
        "    random.seed(seed)\n",
        "    np.random.seed(seed)\n",
        "    os.environ[\"PYTHONHASHSEED\"] = str(seed)\n",
        "    tf.random.set_seed(seed)"
      ],
      "metadata": {
        "id": "h3emIgBbXQcI"
      },
      "execution_count": 56,
      "outputs": []
    },
    {
      "cell_type": "code",
      "source": [
        "def ensemble_train(ensemble_num=30, epochs=600, cut=0.90):\n",
        "    models = []\n",
        "    for i in range(ensemble_num):\n",
        "        h,m = train_model(i,epochs)\n",
        "        hist = pd.DataFrame(h.history)\n",
        "        print(f\"last val_r2:{hist.iloc[-1]['val_r2']}\")\n",
        "        if hist.iloc[-1]['val_r2'] > cut:\n",
        "            models.append(m)\n",
        "            df2 = predict_precision_for_PPM1([m])\n",
        "            print(f\"Iteration {i} ============================================================\")\n",
        "            result_statistics(df2)\n",
        "            df2.plot(title=f'Iteration {i}', figsize=(20,5))\n",
        "    return models"
      ],
      "metadata": {
        "id": "QBhDTTZMPyIm"
      },
      "execution_count": 57,
      "outputs": []
    },
    {
      "cell_type": "code",
      "source": [
        "import math\n",
        "from statistics import mean\n",
        "\n",
        "def predict_precision_for_PPM1(models):\n",
        "\n",
        "    batch_size = length\n",
        "    # 2010년의 data를 기준으로 그 이후의 data 들...\n",
        "    X2 = np.concatenate((X[2011],X[2012],X[2013],X[2014],X[2015],X[2016],X[2017],X[2018]))\n",
        "    Y2 = np.concatenate((Y[2011],Y[2012],Y[2013],Y[2014],Y[2015],Y[2016],Y[2017],Y[2018]))\n",
        "\n",
        "    batch = math.ceil(X2.shape[0]/batch_size)\n",
        "    df = {}\n",
        "    df['The precision of the model on real data'] = []\n",
        "    df['Predicted precision'] = []\n",
        "\n",
        "    predict = ML[2010].predict\n",
        "    for i in range(batch):\n",
        "        X3 = X2[i*batch_size:(i+1)*batch_size]\n",
        "        Y3 = Y2[i*batch_size:(i+1)*batch_size]\n",
        "        f1 = precision_recall_fscore_support(Y3, predict(scaler.transform(X3)),average='binary')\n",
        "        X3_drift = ks_drift(x_ref,X3)\n",
        "        X3_drift = X3_drift[:,0] * ([1 if a < 0.05 else 0 for a in X3_drift[:,1]]) \n",
        "        #X3_drift = X3_drift[:,0] * (1-X3_drift[:,1]) *importances\n",
        "        dd = pd.DataFrame(X3_drift.reshape(1,-1),columns=COLUMNS)[itc]\n",
        "        #dd = drift_scaler.transform(dd)\n",
        "        #acc_c = mean([m.predict(ss.transform(dd))[0][0] for m in  models]) #model_c.predict(dd)[0]\n",
        "        acc_c = mean([m.predict(dd)[0][0] for m in  models]) \n",
        "\n",
        "        print(f\"{f1[0]} - {acc_c}\")\n",
        "        df['The precision of the model on real data'].append(f1[0])\n",
        "        df['Predicted precision'].append(acc_c)\n",
        "\n",
        "    df2 = pd.DataFrame(df)\n",
        "\n",
        "    return df2"
      ],
      "metadata": {
        "id": "LIyXb1eGsKBb"
      },
      "execution_count": 58,
      "outputs": []
    },
    {
      "cell_type": "code",
      "source": [
        "from sklearn.metrics import mean_absolute_error\n",
        "from sklearn.metrics import mean_squared_error \n",
        "from sklearn.metrics import mean_absolute_percentage_error\n",
        "from sklearn.metrics import r2_score\n",
        "\n",
        "def result_statistics(df2):\n",
        "    MAE = mean_absolute_error(df2['The precision of the model on real data'], df2['Predicted precision'])\n",
        "    MSE = mean_squared_error(df2['The precision of the model on real data'], df2['Predicted precision']) \n",
        "    MAPE = mean_absolute_percentage_error(df2['The precision of the model on real data'], df2['Predicted precision'])\n",
        "    RMSE = np.sqrt(MSE)\n",
        "    r_2 = r2_score(df2['The precision of the model on real data'], df2['Predicted precision']) \n",
        "    print('MAE',MAE)\n",
        "    print('RMSE',RMSE)\n",
        "    print('MAPE',MAPE)\n",
        "    print('R2',r_2)\n",
        "    #display adjusted R-squared\n",
        "    #adj_r2 = 1 - (1-r_2)*(df2.shape[0]-1)/(df2.shape[0]-80)\n",
        "    #print('adj R2',adj_r2)\n",
        "    return MAE,RMSE,MAPE,r_2"
      ],
      "metadata": {
        "id": "m_u12sEeTFX2"
      },
      "execution_count": 59,
      "outputs": []
    },
    {
      "cell_type": "markdown",
      "source": [
        "## 실험1"
      ],
      "metadata": {
        "id": "d1Tf7MQP1YhH"
      }
    },
    {
      "cell_type": "code",
      "source": [
        "import math\n",
        "from statistics import mean\n",
        "\n",
        "def predict_precision_for_PPM2(models):\n",
        "\n",
        "    batch_size = length\n",
        "    # 2010년의 data를 기준으로 그 이후의 data 들...\n",
        "    X2 = np.concatenate((X[2011],X[2012],X[2013],X[2014],X[2015],X[2016],X[2017]))\n",
        "    Y2 = np.concatenate((Y[2011],Y[2012],Y[2013],Y[2014],Y[2015],Y[2016],Y[2017]))\n",
        "\n",
        "    batch = math.ceil(X2.shape[0]/batch_size)\n",
        "    df = {}\n",
        "    df['The precision of the model on real data'] = []\n",
        "    df['Predicted precision'] = []\n",
        "    beta = 0\n",
        "    predict = ML[2010].predict\n",
        "    for i in range(batch):\n",
        "        X3 = X2[i*batch_size:(i+1)*batch_size]\n",
        "        Y3 = Y2[i*batch_size:(i+1)*batch_size]\n",
        "        f1 = precision_recall_fscore_support(Y3, predict(scaler.transform(X3)),average='binary')\n",
        "        X3_drift = ks_drift(x_ref[:,top_list],X3[:,top_list])\n",
        "        #X3_drift = mean_drift[top_list,0] - X3_drift[:,0]\n",
        "\n",
        "        X3_drift = X3_drift[:,0] * [1 if a < 0.05 else 0 for a in X3_drift[:,1]] # *importances[top_list]\n",
        "        #X3_drift = X3_drift[:,0] * (1-X3_drift[:,1]) *importances\n",
        "        dd = pd.DataFrame(X3_drift.reshape(1,-1),columns=COLUMNS[top_list])\n",
        "        #dd = drift_scaler.transform(dd)\n",
        "        #acc_c = mean([m.predict(ss.transform(dd))[0][0] for m in  models]) #model_c.predict(dd)[0]\n",
        "        #acc_c = mean([m.predict(dd)[0][0] for m in  models]) \n",
        "\n",
        "        #print(dd.values)\n",
        "        #print(dd.values/drift_ratio)\n",
        "        \n",
        "        acc_c = models.predict(dd.values)[0]\n",
        "        acc_c = acc_c / mdr\n",
        "        \n",
        "        if acc_c - beta > 0:\n",
        "            beta = beta+ acc_c\n",
        "        \n",
        "        acc_c = base_score[0] + acc_c - beta\n",
        "        \n",
        "        print(f\"{f1[0]} - {acc_c}\")\n",
        "        df['The precision of the model on real data'].append(f1[0])\n",
        "        df['Predicted precision'].append(acc_c)\n",
        "\n",
        "    df2 = pd.DataFrame(df)\n",
        "\n",
        "    return df2"
      ],
      "metadata": {
        "id": "HcFWHStCc6Ku"
      },
      "execution_count": 682,
      "outputs": []
    },
    {
      "cell_type": "code",
      "source": [
        "from sklearn.model_selection import train_test_split\n",
        "import random\n",
        "\n",
        "def drift_sampling5(predict,sampling_sigma=0.95,permutaion_sigma=1,epoch = 100,toplist=[]):\n",
        "    print(\"sampling_sigma:\",sampling_sigma)\n",
        "    print(\"permutaion_sigma:\",permutaion_sigma)\n",
        "    \n",
        "    metric_a= []\n",
        "    metric_b= []\n",
        "    metric_c= []\n",
        "    drift_data_ks_stats = []\n",
        "    drift_data_ks_pvals = []\n",
        "    drift_data_ks_stats_diff = []\n",
        "    drift_data_ks_pvals_diff = []     \n",
        "    drift_ratio1 = []\n",
        "    drift_ratio2 = []\n",
        "    for i in range(epoch):\n",
        "        #y_ref_d, _, x_ref_d, _ = train_test_split(y_ref, x_ref, train_size=0.10, random_state=i)\n",
        "        y_inf_d, x_inf_d, _, _ = split_sample(y_ref.copy(), x_ref.copy(), train_size=random.uniform(1-sampling_sigma,sampling_sigma),middle_offset = True)\n",
        "        #print(y_inf_d.shape, x_inf_d.shape)\n",
        "        #o_drift = ks_drift(x_ref[:,top_list], x_inf_d[:,top_list])\n",
        "        #permutation for x_inf_d\n",
        "        #for v in toplist:\n",
        "\n",
        "        # 20%의 feature에 대하여 permutaion...\n",
        "        #for q in range(int(len(toplist)*0.2)):\n",
        "        v = random.choice(toplist)\n",
        "        x_inf_d[:,v] = x_inf_d[:,v] + np.random.normal(0, df_stat['std'][v]*permutaion_sigma, x_inf_d.shape[0])\n",
        "\n",
        "        \"\"\"\n",
        "        for k in range(x_inf_d.shape[0]):\n",
        "            for v in toplist:\n",
        "                x_inf_d[k,v] = x_inf_d[k,v] + np.random.normal(0, df_stat['std'][v]*5, 1)[0]\n",
        "        \"\"\"\n",
        "        acc = precision_recall_fscore_support(y_inf_d, predict(scaler.transform(x_inf_d)),average='binary')\n",
        "        if acc[0] >0 and base_score[0] > acc[0]:\n",
        "            x_drift = ks_drift(x_ref[:,top_list], x_inf_d[:,top_list])\n",
        "            #sumo = np.sum((o_drift[:,0]))\n",
        "            sumd = np.sum((x_drift[:,0]))\n",
        "            #sump = np.sum(x_drift[:,1])\n",
        "            #drift_ratio1.append(o_drift[:,0])\n",
        "            #drift_ratio2.append(x_drift[:,0])\n",
        "            print(f\"\\r{i+1}/{epoch} acc:{acc[0]:.4f} {acc[1]:.4f} {acc[2]:.4f} sum:{sumd:.4f}\", end=\"\", flush=True)\n",
        "            metric_a.append([acc[0]/base_score[0],acc[1]/base_score[1],acc[2]/base_score[2]])\n",
        "            metric_b.append([(base_score[0] - acc[0]),(base_score[1] - acc[1]),(base_score[2] - acc[2])])\n",
        "            metric_c.append([acc[0],acc[1],acc[2]])\n",
        "            drift_data_ks_stats.append(x_drift[:,0])\n",
        "            drift_data_ks_pvals.append(x_drift[:,1])\n",
        "            #drift_data_ks_pvals.append([1 if a < 0.05 else 0 for a in x_drift[:,1]]) # x_drift[:,1])   \n",
        "            #drift_data_ks_stats_diff.append(base_drift[:,0]*(1-base_drift[:,1]) - x_drift[:,0]*(1-x_drift[:,1]))\n",
        "            drift_data_ks_pvals_diff.append([1 if a < 0.05 else 0 for a in x_drift[:,1]]) \n",
        "\n",
        "    metric_a = np.asarray(metric_a)\n",
        "    metric_b = np.asarray(metric_b)\n",
        "    metric_c = np.asarray(metric_c)        \n",
        "    drift_data_ks_stats = np.asarray(drift_data_ks_stats)\n",
        "    drift_data_ks_pvals = np.asarray(drift_data_ks_pvals)    \n",
        "    drift_data_ks_stats_diff = np.asarray(drift_data_ks_stats_diff)\n",
        "    drift_data_ks_pvals_diff = np.asarray(drift_data_ks_pvals_diff)  \n",
        "    \"\"\"\n",
        "    drift_ratio1 = np.asarray(drift_ratio1)\n",
        "    drift_ratio2 = np.asarray(drift_ratio2)\n",
        "\n",
        "    drift_ratio = []\n",
        "    for s in range(len(toplist)):\n",
        "        drift_ratio.append(sum(abs(drift_ratio2[:,s]))/sum(abs(drift_ratio1[:,s])))\n",
        "    \"\"\"\n",
        "    return  metric_a,metric_b,metric_c,drift_data_ks_stats,drift_data_ks_pvals,drift_data_ks_stats_diff,drift_data_ks_pvals_diff,y_ref.shape[0]\n"
      ],
      "metadata": {
        "id": "iHXafzPqu7fK"
      },
      "execution_count": 665,
      "outputs": []
    },
    {
      "cell_type": "code",
      "source": [
        "import statsmodels.api as sm # import statsmodels \n",
        "\n",
        "TOP = 4\n",
        "samplingsigma=0.95\n",
        "permutaionsigma=1.96\n",
        "\n",
        "itc = getImportanceColumnNameTop(prefix=\"\",top=TOP)\n",
        "top_list = getImportanceIndexTop(top=TOP)\n",
        "print(itc)\n",
        "metric_a,metric_b,metric_c,drift_data_ks_stats,drift_data_ks_pvals,drift_data_ks_stats_diff,drift_data_ks_pvals_diff,length = drift_sampling5(ML[2010].predict,sampling_sigma=samplingsigma,permutaion_sigma=permutaionsigma,epoch = 1000,toplist=top_list)\n",
        "\n"
      ],
      "metadata": {
        "colab": {
          "base_uri": "https://localhost:8080/"
        },
        "id": "F5IY7_lDgiH4",
        "outputId": "030bbc1e-10c0-464b-a810-c5fdea098df1"
      },
      "execution_count": 679,
      "outputs": [
        {
          "output_type": "stream",
          "name": "stdout",
          "text": [
            "['recoveries', 'last_fico_range_high', 'last_pymnt_amnt', 'total_rec_late_fee']\n",
            "sampling_sigma: 0.95\n",
            "permutaion_sigma: 1.96\n",
            "1000/1000 acc:0.9283 0.7678 0.8405 sum:-0.4923"
          ]
        }
      ]
    },
    {
      "cell_type": "code",
      "source": [
        "drift_data_ks_stats.shape"
      ],
      "metadata": {
        "colab": {
          "base_uri": "https://localhost:8080/"
        },
        "id": "ocxV118ZAGrX",
        "outputId": "0de9f1a3-1798-4907-b606-87e08b4f2281"
      },
      "execution_count": 680,
      "outputs": [
        {
          "output_type": "execute_result",
          "data": {
            "text/plain": [
              "(955, 4)"
            ]
          },
          "metadata": {},
          "execution_count": 680
        }
      ]
    },
    {
      "cell_type": "code",
      "source": [
        "\n",
        "import statsmodels.api as sm # import statsmodels \n",
        "\n",
        "trainset = pd.DataFrame(drift_data_ks_stats*drift_data_ks_pvals_diff,columns=COLUMNS[top_list])\n",
        "dx = trainset\n",
        "print(dx.shape)\n",
        "\n",
        "model = sm.OLS(metric_c[:,0], dx).fit() ## sm.OLS(output, input)\n",
        "# Print out the statistics\n",
        "print(model.summary())\n"
      ],
      "metadata": {
        "id": "87OSxPbZ_Q1L",
        "outputId": "4df8cf84-4dc4-450b-e564-62be495c1191",
        "colab": {
          "base_uri": "https://localhost:8080/"
        }
      },
      "execution_count": 681,
      "outputs": [
        {
          "output_type": "stream",
          "name": "stdout",
          "text": [
            "(955, 4)\n",
            "                                 OLS Regression Results                                \n",
            "=======================================================================================\n",
            "Dep. Variable:                      y   R-squared (uncentered):                   0.869\n",
            "Model:                            OLS   Adj. R-squared (uncentered):              0.868\n",
            "Method:                 Least Squares   F-statistic:                              1576.\n",
            "Date:                Thu, 21 Jul 2022   Prob (F-statistic):                        0.00\n",
            "Time:                        08:24:03   Log-Likelihood:                         -354.14\n",
            "No. Observations:                 955   AIC:                                      716.3\n",
            "Df Residuals:                     951   BIC:                                      735.7\n",
            "Df Model:                           4                                                  \n",
            "Covariance Type:            nonrobust                                                  \n",
            "========================================================================================\n",
            "                           coef    std err          t      P>|t|      [0.025      0.975]\n",
            "----------------------------------------------------------------------------------------\n",
            "recoveries              -1.8477      0.044    -41.624      0.000      -1.935      -1.761\n",
            "last_fico_range_high     4.2928      0.097     44.155      0.000       4.102       4.484\n",
            "last_pymnt_amnt         -2.4379      0.055    -44.515      0.000      -2.545      -2.330\n",
            "total_rec_late_fee      -1.2137      0.055    -22.121      0.000      -1.321      -1.106\n",
            "==============================================================================\n",
            "Omnibus:                      672.937   Durbin-Watson:                   1.726\n",
            "Prob(Omnibus):                  0.000   Jarque-Bera (JB):             7203.174\n",
            "Skew:                           3.259   Prob(JB):                         0.00\n",
            "Kurtosis:                      14.770   Cond. No.                         2.19\n",
            "==============================================================================\n",
            "\n",
            "Warnings:\n",
            "[1] Standard Errors assume that the covariance matrix of the errors is correctly specified.\n"
          ]
        }
      ]
    },
    {
      "cell_type": "code",
      "source": [
        "x_inf.shape"
      ],
      "metadata": {
        "id": "n6NLYYHvrhkf",
        "outputId": "ed172790-906a-4ffc-a5bf-2b3b33bf3fdc",
        "colab": {
          "base_uri": "https://localhost:8080/"
        }
      },
      "execution_count": 675,
      "outputs": [
        {
          "output_type": "execute_result",
          "data": {
            "text/plain": [
              "(3450, 81)"
            ]
          },
          "metadata": {},
          "execution_count": 675
        }
      ]
    },
    {
      "cell_type": "code",
      "source": [
        "acc_infs = []\n",
        "for i in range(1000):\n",
        "    #y_ref_d, _, x_ref_d, _ = train_test_split(y_ref, x_ref, train_size=0.10, random_state=i)\n",
        "    y_inf_d,x_inf_d, _, _ = split_sample(y_inf, x_inf, train_size=0.5,middle_offset = True)\n",
        "    inf_drift = ks_drift(x_ref[:,top_list], x_inf_d[:,top_list])\n",
        "    dd = inf_drift[:,0]*[1 if a < 0.05 else 0 for a in inf_drift[:,1]]\n",
        "    acc_inf = model.predict(dd)[0]\n",
        "    acc = precision_recall_fscore_support(y_inf_d, ML[2010].predict(scaler.transform(x_inf_d)),average='binary')\n",
        "    #print(f\"{x_inf_d.shape[0]} precision: {acc[0]:.4f}, predict:{acc_inf:.4f}\")\n",
        "    acc_infs.append(acc[0]/acc_inf)\n",
        "mdr = mean(acc_infs)\n",
        "print(mdr)\n"
      ],
      "metadata": {
        "id": "Ad5L5SrzteIm",
        "outputId": "90c8cd35-34a8-4fab-9c00-657f8c00c38e",
        "colab": {
          "base_uri": "https://localhost:8080/"
        }
      },
      "execution_count": 688,
      "outputs": [
        {
          "output_type": "stream",
          "name": "stdout",
          "text": [
            "14.85983134700654\n"
          ]
        }
      ]
    },
    {
      "cell_type": "code",
      "source": [
        "inf_drift = ks_drift(x_ref[:,top_list], x_inf[:,top_list])"
      ],
      "metadata": {
        "id": "gCZ6mNrKpDkA"
      },
      "execution_count": 67,
      "outputs": []
    },
    {
      "cell_type": "code",
      "source": [
        "dd = inf_drift[:,0]*[1 if a < 0.05 else 0 for a in inf_drift[:,1]]\n",
        "dd"
      ],
      "metadata": {
        "id": "jCow0kAIpsBK",
        "outputId": "2b95e412-3d87-4811-bca3-c1a572d3d3f2",
        "colab": {
          "base_uri": "https://localhost:8080/"
        }
      },
      "execution_count": 80,
      "outputs": [
        {
          "output_type": "execute_result",
          "data": {
            "text/plain": [
              "array([ 0.00575463, -0.01732704,  0.00973397,  0.00247924, -0.        ])"
            ]
          },
          "metadata": {},
          "execution_count": 80
        }
      ]
    },
    {
      "cell_type": "code",
      "source": [
        "acc_inf = model.predict(dd)[0]\n",
        "acc_inf"
      ],
      "metadata": {
        "id": "98QbkMCTpPi8",
        "outputId": "0a0bbbe6-cd34-4fcb-91e1-e642e9ec6cfb",
        "colab": {
          "base_uri": "https://localhost:8080/"
        }
      },
      "execution_count": 87,
      "outputs": [
        {
          "output_type": "execute_result",
          "data": {
            "text/plain": [
              "-0.10234796487223052"
            ]
          },
          "metadata": {},
          "execution_count": 87
        }
      ]
    },
    {
      "cell_type": "code",
      "source": [
        "mdr = base_score[0]/acc_inf\n",
        "mdr"
      ],
      "metadata": {
        "id": "ERBj59WArUna",
        "outputId": "d600ae9a-48e4-4ee1-df75-bae9a3ca284c",
        "colab": {
          "base_uri": "https://localhost:8080/"
        }
      },
      "execution_count": 88,
      "outputs": [
        {
          "output_type": "execute_result",
          "data": {
            "text/plain": [
              "-9.680181347805023"
            ]
          },
          "metadata": {},
          "execution_count": 88
        }
      ]
    },
    {
      "cell_type": "code",
      "source": [
        "acc_inf = model.predict(dd*mdr)[0]\n",
        "acc_inf"
      ],
      "metadata": {
        "id": "gZE7fbSBsC49",
        "outputId": "60d11c96-fe18-40a9-ff85-ec5b5303e88a",
        "colab": {
          "base_uri": "https://localhost:8080/"
        }
      },
      "execution_count": 90,
      "outputs": [
        {
          "output_type": "execute_result",
          "data": {
            "text/plain": [
              "0.9907468605419697"
            ]
          },
          "metadata": {},
          "execution_count": 90
        }
      ]
    },
    {
      "cell_type": "code",
      "source": [
        "\n",
        "df2 = predict_precision_for_PPM2(model)\n",
        "MAE,RMSE,MAPE,r_2 = result_statistics(df2)\n",
        "df2.plot(title=f'TOP:{TOP}, sampling_sigma:{sampling_sigma}, permutaion_sigma:{permutaion_sigma}, R2:{r_2}', figsize=(20,5))"
      ],
      "metadata": {
        "id": "HtVdk5oK_o4x",
        "outputId": "b64b0c5f-149f-42bf-dca2-8520ebff2ac1",
        "colab": {
          "base_uri": "https://localhost:8080/",
          "height": 1000
        }
      },
      "execution_count": 689,
      "outputs": [
        {
          "output_type": "stream",
          "name": "stdout",
          "text": [
            "0.9910996267585415 - 0.9863029504011522\n",
            "0.9939121611827801 - 0.9766511830449208\n",
            "0.9931982847848588 - 0.9561467447713866\n",
            "0.9928362573099415 - 0.9531119657058577\n",
            "0.9916480238627889 - 0.9417384791238214\n",
            "0.992724573125464 - 0.9403338362243585\n",
            "0.9941254222352769 - 0.9442887722434605\n",
            "0.9919848440687846 - 0.9401437330583231\n",
            "0.9885672937771346 - 0.9336731375717542\n",
            "0.988638018936635 - 0.932372500304574\n",
            "0.9871126556617434 - 0.927280172269306\n",
            "0.986372113039736 - 0.9390165983073874\n",
            "0.9828188701223064 - 0.9311152429852056\n",
            "0.9862378675937998 - 0.9355649926468088\n",
            "0.9825958702064896 - 0.9245319721569617\n",
            "0.9833333333333333 - 0.9333486934783838\n",
            "0.9827487061529615 - 0.9382240660715502\n",
            "0.9831125345756296 - 0.9362775210071765\n",
            "0.9831557731068241 - 0.9411700327203664\n",
            "0.9801189957916122 - 0.9375648730789665\n",
            "0.979043214337332 - 0.9381625744518479\n",
            "0.9799426934097422 - 0.9407812396468825\n",
            "0.9800491542576262 - 0.9385672732087488\n",
            "0.9779874213836478 - 0.9363175066369535\n",
            "0.9780140824831154 - 0.9362409650089123\n",
            "0.98 - 0.9369881318248245\n",
            "0.9680579216354344 - 0.9340996783228466\n",
            "0.9767846778874056 - 0.9332040334074849\n",
            "0.9488958097395244 - 0.9359544758803802\n",
            "0.9472642443093454 - 0.9332383308504081\n",
            "0.9473089419409522 - 0.9294981794174257\n",
            "0.941848976711362 - 0.9301035714386771\n",
            "0.9427217915590008 - 0.9232086854596135\n",
            "0.9406803887935964 - 0.925956453653798\n",
            "0.9398293029871977 - 0.9313733214787545\n",
            "0.9383954154727794 - 0.9241817926735084\n",
            "0.9347670250896057 - 0.9276910488351895\n",
            "0.937202938211148 - 0.9210848293383906\n",
            "0.9431785405249495 - 0.9233756360176515\n",
            "0.9429515735019399 - 0.9261944877065202\n",
            "0.9420040195233994 - 0.9238704068761052\n",
            "0.9365331791238977 - 0.9185118358254037\n",
            "0.943926573928008 - 0.9302506930792741\n",
            "0.9437908496732026 - 0.9273034202038171\n",
            "0.9426632004621606 - 0.932727785671015\n",
            "0.9456349777074644 - 0.928249015331357\n",
            "0.9443478260869566 - 0.9260170064135167\n",
            "0.935649369686309 - 0.917588072289098\n",
            "0.9319043452901721 - 0.921889506880958\n",
            "0.9434864512389509 - 0.927072149498096\n",
            "0.9453158727874514 - 0.9303646814293489\n",
            "0.94148244473342 - 0.9277462775034309\n",
            "0.9420838183934808 - 0.9233066633720036\n",
            "0.9408189842280422 - 0.9259362386273033\n",
            "0.9389025626176343 - 0.9247666936119489\n",
            "0.9351343542328807 - 0.927667709347822\n",
            "0.9329073482428115 - 0.9231707003535319\n",
            "0.9348748719449729 - 0.9209875917189838\n",
            "0.9284377249820014 - 0.9305686088151001\n",
            "0.937105112004595 - 0.9320931961640773\n",
            "0.9264131849067515 - 0.9277538017629026\n",
            "0.9296840879312855 - 0.9222490362044448\n",
            "0.9274217149546385 - 0.9290052198751356\n",
            "0.9299622202848009 - 0.9219874598944934\n",
            "0.9315028901734104 - 0.9221459844626532\n",
            "0.9342393686979396 - 0.923628822746392\n",
            "0.9269924374636417 - 0.925720299086614\n",
            "0.9249156767854524 - 0.9245033728717235\n",
            "0.9302527075812275 - 0.9255549277379413\n",
            "0.934694468578048 - 0.9249721569928873\n",
            "0.9336424224862359 - 0.9232046340464819\n",
            "0.9302664143252293 - 0.9243921044437171\n",
            "0.9296966161026837 - 0.9264313344304734\n",
            "0.9309941520467836 - 0.9253120846297097\n",
            "0.9267548321464903 - 0.9209368787975836\n",
            "0.928082191780822 - 0.9357850539700776\n",
            "0.929700977573318 - 0.9269625827689602\n",
            "0.932166618455308 - 0.9276817615954376\n",
            "0.9309026756836225 - 0.922943726076519\n",
            "0.9250396424967565 - 0.9292917946180306\n",
            "0.9273226412368155 - 0.9312442591713613\n",
            "0.9309690601284296 - 0.930561837459197\n",
            "0.9300679501698754 - 0.9388006318971392\n",
            "0.9277506463659868 - 0.9325399011133131\n",
            "0.9217189986977282 - 0.9275506577116741\n",
            "0.9277826213310084 - 0.9265894195979604\n",
            "0.9250612480184465 - 0.9365031685396181\n",
            "0.9362454057110545 - 0.9379285206875508\n",
            "0.9277332570120206 - 0.9323702484327293\n",
            "0.9286020277024133 - 0.9304994191285634\n",
            "0.9384505021520804 - 0.9330371254108656\n",
            "0.9262082853855006 - 0.9309914827863652\n",
            "0.9176948758890986 - 0.9288513077460244\n",
            "0.9242227042660882 - 0.9269612724544002\n",
            "0.931455668917948 - 0.9326134976565331\n",
            "0.9183347838700319 - 0.9292710127643451\n",
            "0.9173565722585331 - 0.9279501042163146\n",
            "0.9189960068454078 - 0.9347107032036616\n",
            "0.9291708149623098 - 0.9345403701743226\n",
            "0.9261396422388921 - 0.930851893355392\n",
            "0.930727220465651 - 0.9306580486424392\n",
            "0.9373576309794989 - 0.93770471021976\n",
            "0.9193227091633466 - 0.9363515957419751\n",
            "0.9267701951844992 - 0.9285984486197887\n",
            "0.9339028147318302 - 0.9424323069633521\n",
            "0.931054131054131 - 0.932820261361963\n",
            "0.9208497017314128 - 0.9276508325739361\n",
            "0.9233419465977606 - 0.9294678967622861\n",
            "0.9100932994062765 - 0.9378875072852267\n",
            "0.8926537585421412 - 0.9320602665726124\n",
            "0.935361216730038 - 0.9403448360330389\n",
            "0.9047481599076346 - 0.9241589801027792\n",
            "0.8929663608562691 - 0.9173133221055019\n",
            "0.8917755131333429 - 0.9176483131868394\n",
            "0.8882378162069459 - 0.9156263849101468\n",
            "0.8711033782804117 - 0.9051220973484138\n",
            "0.8693968726731199 - 0.9050426259881147\n",
            "0.8953168044077136 - 0.9060560005433803\n",
            "0.879676743489973 - 0.900475057443372\n",
            "0.9107332624867163 - 0.8929687681047774\n",
            "0.9014253563390847 - 0.8937225250897396\n",
            "0.9041116446578632 - 0.8975874584765908\n",
            "0.8944326133252206 - 0.8892547015164227\n",
            "0.9041552926903246 - 0.8872536088326439\n",
            "0.8997591812161349 - 0.8957579320646405\n",
            "0.9023841655420602 - 0.8935153940541076\n",
            "0.9000768639508071 - 0.8858707301695484\n",
            "0.8935219657483247 - 0.8903219461045976\n",
            "0.8947522292062564 - 0.8995159787242257\n",
            "0.8905312454266062 - 0.8955231849568863\n",
            "0.9063400576368876 - 0.8954077544899731\n",
            "0.9030664147652957 - 0.8955131955858122\n",
            "0.89472149314669 - 0.8917081544455304\n",
            "0.8828655834564254 - 0.8906405415912019\n",
            "0.8888727060879698 - 0.893158336518441\n",
            "0.8941627358490566 - 0.8928507783307438\n",
            "0.8992384299941417 - 0.891860591011065\n",
            "0.8981468179859216 - 0.8967563890651395\n",
            "0.8941989347919965 - 0.8983636866846006\n",
            "0.8869951303351475 - 0.8978382166640492\n",
            "0.892631880733945 - 0.8901367851181597\n",
            "0.8915957906876171 - 0.8959399252009023\n",
            "0.8972434694761149 - 0.8953554568169235\n",
            "0.8891622051801475 - 0.8921030059919164\n",
            "0.8821596914726467 - 0.8930161780524201\n",
            "0.8749461593682699 - 0.8927157046282057\n",
            "0.8775769556622423 - 0.896974041330035\n",
            "0.8711244463494785 - 0.8935248680394544\n",
            "0.8814374646293153 - 0.8985788573319144\n",
            "0.8693965517241379 - 0.8930153771834064\n",
            "0.8735339833262682 - 0.8910973437220189\n",
            "0.8776199184132789 - 0.8994603161570619\n",
            "0.8560477001703578 - 0.8973781716900106\n",
            "0.8664725457570716 - 0.9012747506720119\n",
            "0.869583275647238 - 0.9033713144478493\n",
            "0.8663406682966586 - 0.9036874232717836\n",
            "0.8712100518983884 - 0.9025986262014687\n",
            "0.8755697356426618 - 0.9046648333361821\n",
            "MAE 0.017359196613090464\n",
            "RMSE 0.02339350900245127\n",
            "MAPE 0.018460542138619244\n",
            "R2 0.5312057862137789\n"
          ]
        },
        {
          "output_type": "execute_result",
          "data": {
            "text/plain": [
              "<matplotlib.axes._subplots.AxesSubplot at 0x7f1b413b5a90>"
            ]
          },
          "metadata": {},
          "execution_count": 689
        },
        {
          "output_type": "display_data",
          "data": {
            "text/plain": [
              "<Figure size 1440x360 with 1 Axes>"
            ],
            "image/png": "[encoded data removed]"
          },
          "metadata": {
            "needs_background": "light"
          }
        }
      ]
    },
    {
      "cell_type": "code",
      "source": [
        "\n",
        "TOP = 10\n",
        "sampling_sigma=0.95\n",
        "permutaion_sigma=1\n",
        "\n",
        "itc = getImportanceColumnNameTop(prefix=\"\",top=TOP)\n",
        "top_list = getImportanceIndexTop(top=TOP)\n",
        "print(itc)\n",
        "metric_a,metric_b,metric_c,drift_data_ks_stats,drift_data_ks_pvals,drift_data_ks_stats_diff,drift_data_ks_pvals_diff,length,mdr = drift_sampling2(ML[2010].predict,sampling_sigma=sampling_sigma,permutaion_sigma=permutaion_sigma,epoch = 10000,toplist=top_list)\n",
        "\n",
        "trainset = pd.DataFrame(drift_data_ks_stats*drift_data_ks_pvals_diff,columns=COLUMNS)\n",
        "dx = trainset[itc]\n",
        "print(dx.shape)\n",
        "\n",
        "model = sm.OLS(metric_c[:,0], dx).fit() ## sm.OLS(output, input)\n",
        "# Print out the statistics\n",
        "print(model.summary())\n",
        "\n",
        "print(\"mdr:\",mdr)\n",
        "df2 = predict_precision_for_PPM2(model)\n",
        "MAE,RMSE,MAPE,r_2 = result_statistics(df2)\n",
        "df2.plot(title=f'TOP:{TOP}, sampling_sigma:{sampling_sigma}, permutaion_sigma:{permutaion_sigma}, R2:{r_2}', figsize=(20,5))\n"
      ],
      "metadata": {
        "colab": {
          "base_uri": "https://localhost:8080/",
          "height": 449
        },
        "id": "3Y2EwGtT807Z",
        "outputId": "cf353b0e-b2e5-42d5-d985-383bdac98399"
      },
      "execution_count": null,
      "outputs": [
        {
          "output_type": "stream",
          "name": "stdout",
          "text": [
            "['recoveries', 'last_fico_range_high', 'last_pymnt_amnt', 'total_rec_late_fee', 'Y', 'int_rate', 'term', 'fico_range_high', 'total_rec_int', 'loan_amnt']\n",
            "35/10000 acc:0.9205 0.6582 0.7676 sum:-0.6547 0.0068 -0.0103"
          ]
        },
        {
          "output_type": "error",
          "ename": "KeyboardInterrupt",
          "evalue": "ignored",
          "traceback": [
            "\u001b[0;31m---------------------------------------------------------------------------\u001b[0m",
            "\u001b[0;31mKeyboardInterrupt\u001b[0m                         Traceback (most recent call last)",
            "\u001b[0;32m<ipython-input-61-3572b0b732d8>\u001b[0m in \u001b[0;36m<module>\u001b[0;34m()\u001b[0m\n\u001b[1;32m      7\u001b[0m \u001b[0mtop_list\u001b[0m \u001b[0;34m=\u001b[0m \u001b[0mgetImportanceIndexTop\u001b[0m\u001b[0;34m(\u001b[0m\u001b[0mtop\u001b[0m\u001b[0;34m=\u001b[0m\u001b[0mTOP\u001b[0m\u001b[0;34m)\u001b[0m\u001b[0;34m\u001b[0m\u001b[0;34m\u001b[0m\u001b[0m\n\u001b[1;32m      8\u001b[0m \u001b[0mprint\u001b[0m\u001b[0;34m(\u001b[0m\u001b[0mitc\u001b[0m\u001b[0;34m)\u001b[0m\u001b[0;34m\u001b[0m\u001b[0;34m\u001b[0m\u001b[0m\n\u001b[0;32m----> 9\u001b[0;31m \u001b[0mmetric_a\u001b[0m\u001b[0;34m,\u001b[0m\u001b[0mmetric_b\u001b[0m\u001b[0;34m,\u001b[0m\u001b[0mmetric_c\u001b[0m\u001b[0;34m,\u001b[0m\u001b[0mdrift_data_ks_stats\u001b[0m\u001b[0;34m,\u001b[0m\u001b[0mdrift_data_ks_pvals\u001b[0m\u001b[0;34m,\u001b[0m\u001b[0mdrift_data_ks_stats_diff\u001b[0m\u001b[0;34m,\u001b[0m\u001b[0mdrift_data_ks_pvals_diff\u001b[0m\u001b[0;34m,\u001b[0m\u001b[0mlength\u001b[0m\u001b[0;34m,\u001b[0m\u001b[0mmdr\u001b[0m \u001b[0;34m=\u001b[0m \u001b[0mdrift_sampling2\u001b[0m\u001b[0;34m(\u001b[0m\u001b[0mML\u001b[0m\u001b[0;34m[\u001b[0m\u001b[0;36m2010\u001b[0m\u001b[0;34m]\u001b[0m\u001b[0;34m.\u001b[0m\u001b[0mpredict\u001b[0m\u001b[0;34m,\u001b[0m\u001b[0msampling_sigma\u001b[0m\u001b[0;34m=\u001b[0m\u001b[0msampling_sigma\u001b[0m\u001b[0;34m,\u001b[0m\u001b[0mpermutaion_sigma\u001b[0m\u001b[0;34m=\u001b[0m\u001b[0mpermutaion_sigma\u001b[0m\u001b[0;34m,\u001b[0m\u001b[0mepoch\u001b[0m \u001b[0;34m=\u001b[0m \u001b[0;36m10000\u001b[0m\u001b[0;34m,\u001b[0m\u001b[0mtoplist\u001b[0m\u001b[0;34m=\u001b[0m\u001b[0mtop_list\u001b[0m\u001b[0;34m)\u001b[0m\u001b[0;34m\u001b[0m\u001b[0;34m\u001b[0m\u001b[0m\n\u001b[0m\u001b[1;32m     10\u001b[0m \u001b[0;34m\u001b[0m\u001b[0m\n\u001b[1;32m     11\u001b[0m \u001b[0mtrainset\u001b[0m \u001b[0;34m=\u001b[0m \u001b[0mpd\u001b[0m\u001b[0;34m.\u001b[0m\u001b[0mDataFrame\u001b[0m\u001b[0;34m(\u001b[0m\u001b[0mdrift_data_ks_stats\u001b[0m\u001b[0;34m*\u001b[0m\u001b[0mdrift_data_ks_pvals_diff\u001b[0m\u001b[0;34m,\u001b[0m\u001b[0mcolumns\u001b[0m\u001b[0;34m=\u001b[0m\u001b[0mCOLUMNS\u001b[0m\u001b[0;34m)\u001b[0m\u001b[0;34m\u001b[0m\u001b[0;34m\u001b[0m\u001b[0m\n",
            "\u001b[0;32m<ipython-input-49-4049225355ad>\u001b[0m in \u001b[0;36mdrift_sampling2\u001b[0;34m(predict, sampling_sigma, permutaion_sigma, epoch, toplist)\u001b[0m\n\u001b[1;32m     14\u001b[0m     \u001b[0;32mfor\u001b[0m \u001b[0mi\u001b[0m \u001b[0;32min\u001b[0m \u001b[0mrange\u001b[0m\u001b[0;34m(\u001b[0m\u001b[0mepoch\u001b[0m\u001b[0;34m)\u001b[0m\u001b[0;34m:\u001b[0m\u001b[0;34m\u001b[0m\u001b[0;34m\u001b[0m\u001b[0m\n\u001b[1;32m     15\u001b[0m         \u001b[0;31m#y_ref_d, _, x_ref_d, _ = train_test_split(y_ref, x_ref, train_size=0.10, random_state=i)\u001b[0m\u001b[0;34m\u001b[0m\u001b[0;34m\u001b[0m\u001b[0;34m\u001b[0m\u001b[0m\n\u001b[0;32m---> 16\u001b[0;31m         \u001b[0my_inf_d\u001b[0m\u001b[0;34m,\u001b[0m \u001b[0m_\u001b[0m\u001b[0;34m,\u001b[0m \u001b[0mx_inf_d\u001b[0m\u001b[0;34m,\u001b[0m \u001b[0m_\u001b[0m \u001b[0;34m=\u001b[0m \u001b[0mtrain_test_split\u001b[0m\u001b[0;34m(\u001b[0m\u001b[0my_ref\u001b[0m\u001b[0;34m,\u001b[0m \u001b[0mx_ref\u001b[0m\u001b[0;34m,\u001b[0m \u001b[0mtrain_size\u001b[0m\u001b[0;34m=\u001b[0m\u001b[0mrandom\u001b[0m\u001b[0;34m.\u001b[0m\u001b[0muniform\u001b[0m\u001b[0;34m(\u001b[0m\u001b[0;36m1\u001b[0m\u001b[0;34m-\u001b[0m\u001b[0msampling_sigma\u001b[0m\u001b[0;34m,\u001b[0m\u001b[0msampling_sigma\u001b[0m\u001b[0;34m)\u001b[0m\u001b[0;34m)\u001b[0m\u001b[0;34m\u001b[0m\u001b[0;34m\u001b[0m\u001b[0m\n\u001b[0m\u001b[1;32m     17\u001b[0m         \u001b[0;31m#print(x_ref.shape, x_inf_d.shape)\u001b[0m\u001b[0;34m\u001b[0m\u001b[0;34m\u001b[0m\u001b[0;34m\u001b[0m\u001b[0m\n\u001b[1;32m     18\u001b[0m         \u001b[0mo_drift\u001b[0m \u001b[0;34m=\u001b[0m \u001b[0mks_drift\u001b[0m\u001b[0;34m(\u001b[0m\u001b[0mx_ref\u001b[0m\u001b[0;34m,\u001b[0m \u001b[0mx_inf_d\u001b[0m\u001b[0;34m)\u001b[0m\u001b[0;34m\u001b[0m\u001b[0;34m\u001b[0m\u001b[0m\n",
            "\u001b[0;32m/usr/local/lib/python3.7/dist-packages/sklearn/model_selection/_split.py\u001b[0m in \u001b[0;36mtrain_test_split\u001b[0;34m(test_size, train_size, random_state, shuffle, stratify, *arrays)\u001b[0m\n\u001b[1;32m   2443\u001b[0m     return list(\n\u001b[1;32m   2444\u001b[0m         chain.from_iterable(\n\u001b[0;32m-> 2445\u001b[0;31m             \u001b[0;34m(\u001b[0m\u001b[0m_safe_indexing\u001b[0m\u001b[0;34m(\u001b[0m\u001b[0ma\u001b[0m\u001b[0;34m,\u001b[0m \u001b[0mtrain\u001b[0m\u001b[0;34m)\u001b[0m\u001b[0;34m,\u001b[0m \u001b[0m_safe_indexing\u001b[0m\u001b[0;34m(\u001b[0m\u001b[0ma\u001b[0m\u001b[0;34m,\u001b[0m \u001b[0mtest\u001b[0m\u001b[0;34m)\u001b[0m\u001b[0;34m)\u001b[0m \u001b[0;32mfor\u001b[0m \u001b[0ma\u001b[0m \u001b[0;32min\u001b[0m \u001b[0marrays\u001b[0m\u001b[0;34m\u001b[0m\u001b[0;34m\u001b[0m\u001b[0m\n\u001b[0m\u001b[1;32m   2446\u001b[0m         )\n\u001b[1;32m   2447\u001b[0m     )\n",
            "\u001b[0;32m/usr/local/lib/python3.7/dist-packages/sklearn/model_selection/_split.py\u001b[0m in \u001b[0;36m<genexpr>\u001b[0;34m(.0)\u001b[0m\n\u001b[1;32m   2443\u001b[0m     return list(\n\u001b[1;32m   2444\u001b[0m         chain.from_iterable(\n\u001b[0;32m-> 2445\u001b[0;31m             \u001b[0;34m(\u001b[0m\u001b[0m_safe_indexing\u001b[0m\u001b[0;34m(\u001b[0m\u001b[0ma\u001b[0m\u001b[0;34m,\u001b[0m \u001b[0mtrain\u001b[0m\u001b[0;34m)\u001b[0m\u001b[0;34m,\u001b[0m \u001b[0m_safe_indexing\u001b[0m\u001b[0;34m(\u001b[0m\u001b[0ma\u001b[0m\u001b[0;34m,\u001b[0m \u001b[0mtest\u001b[0m\u001b[0;34m)\u001b[0m\u001b[0;34m)\u001b[0m \u001b[0;32mfor\u001b[0m \u001b[0ma\u001b[0m \u001b[0;32min\u001b[0m \u001b[0marrays\u001b[0m\u001b[0;34m\u001b[0m\u001b[0;34m\u001b[0m\u001b[0m\n\u001b[0m\u001b[1;32m   2446\u001b[0m         )\n\u001b[1;32m   2447\u001b[0m     )\n",
            "\u001b[0;32m/usr/local/lib/python3.7/dist-packages/sklearn/utils/__init__.py\u001b[0m in \u001b[0;36m_safe_indexing\u001b[0;34m(X, indices, axis)\u001b[0m\n\u001b[1;32m    376\u001b[0m         \u001b[0;32mreturn\u001b[0m \u001b[0m_pandas_indexing\u001b[0m\u001b[0;34m(\u001b[0m\u001b[0mX\u001b[0m\u001b[0;34m,\u001b[0m \u001b[0mindices\u001b[0m\u001b[0;34m,\u001b[0m \u001b[0mindices_dtype\u001b[0m\u001b[0;34m,\u001b[0m \u001b[0maxis\u001b[0m\u001b[0;34m=\u001b[0m\u001b[0maxis\u001b[0m\u001b[0;34m)\u001b[0m\u001b[0;34m\u001b[0m\u001b[0;34m\u001b[0m\u001b[0m\n\u001b[1;32m    377\u001b[0m     \u001b[0;32melif\u001b[0m \u001b[0mhasattr\u001b[0m\u001b[0;34m(\u001b[0m\u001b[0mX\u001b[0m\u001b[0;34m,\u001b[0m \u001b[0;34m\"shape\"\u001b[0m\u001b[0;34m)\u001b[0m\u001b[0;34m:\u001b[0m\u001b[0;34m\u001b[0m\u001b[0;34m\u001b[0m\u001b[0m\n\u001b[0;32m--> 378\u001b[0;31m         \u001b[0;32mreturn\u001b[0m \u001b[0m_array_indexing\u001b[0m\u001b[0;34m(\u001b[0m\u001b[0mX\u001b[0m\u001b[0;34m,\u001b[0m \u001b[0mindices\u001b[0m\u001b[0;34m,\u001b[0m \u001b[0mindices_dtype\u001b[0m\u001b[0;34m,\u001b[0m \u001b[0maxis\u001b[0m\u001b[0;34m=\u001b[0m\u001b[0maxis\u001b[0m\u001b[0;34m)\u001b[0m\u001b[0;34m\u001b[0m\u001b[0;34m\u001b[0m\u001b[0m\n\u001b[0m\u001b[1;32m    379\u001b[0m     \u001b[0;32melse\u001b[0m\u001b[0;34m:\u001b[0m\u001b[0;34m\u001b[0m\u001b[0;34m\u001b[0m\u001b[0m\n\u001b[1;32m    380\u001b[0m         \u001b[0;32mreturn\u001b[0m \u001b[0m_list_indexing\u001b[0m\u001b[0;34m(\u001b[0m\u001b[0mX\u001b[0m\u001b[0;34m,\u001b[0m \u001b[0mindices\u001b[0m\u001b[0;34m,\u001b[0m \u001b[0mindices_dtype\u001b[0m\u001b[0;34m)\u001b[0m\u001b[0;34m\u001b[0m\u001b[0;34m\u001b[0m\u001b[0m\n",
            "\u001b[0;32m/usr/local/lib/python3.7/dist-packages/sklearn/utils/__init__.py\u001b[0m in \u001b[0;36m_array_indexing\u001b[0;34m(array, key, key_dtype, axis)\u001b[0m\n\u001b[1;32m    200\u001b[0m     \u001b[0;32mif\u001b[0m \u001b[0misinstance\u001b[0m\u001b[0;34m(\u001b[0m\u001b[0mkey\u001b[0m\u001b[0;34m,\u001b[0m \u001b[0mtuple\u001b[0m\u001b[0;34m)\u001b[0m\u001b[0;34m:\u001b[0m\u001b[0;34m\u001b[0m\u001b[0;34m\u001b[0m\u001b[0m\n\u001b[1;32m    201\u001b[0m         \u001b[0mkey\u001b[0m \u001b[0;34m=\u001b[0m \u001b[0mlist\u001b[0m\u001b[0;34m(\u001b[0m\u001b[0mkey\u001b[0m\u001b[0;34m)\u001b[0m\u001b[0;34m\u001b[0m\u001b[0;34m\u001b[0m\u001b[0m\n\u001b[0;32m--> 202\u001b[0;31m     \u001b[0;32mreturn\u001b[0m \u001b[0marray\u001b[0m\u001b[0;34m[\u001b[0m\u001b[0mkey\u001b[0m\u001b[0;34m]\u001b[0m \u001b[0;32mif\u001b[0m \u001b[0maxis\u001b[0m \u001b[0;34m==\u001b[0m \u001b[0;36m0\u001b[0m \u001b[0;32melse\u001b[0m \u001b[0marray\u001b[0m\u001b[0;34m[\u001b[0m\u001b[0;34m:\u001b[0m\u001b[0;34m,\u001b[0m \u001b[0mkey\u001b[0m\u001b[0;34m]\u001b[0m\u001b[0;34m\u001b[0m\u001b[0;34m\u001b[0m\u001b[0m\n\u001b[0m\u001b[1;32m    203\u001b[0m \u001b[0;34m\u001b[0m\u001b[0m\n\u001b[1;32m    204\u001b[0m \u001b[0;34m\u001b[0m\u001b[0m\n",
            "\u001b[0;31mKeyboardInterrupt\u001b[0m: "
          ]
        }
      ]
    },
    {
      "cell_type": "code",
      "source": [
        "\n",
        "TOP = 30\n",
        "sampling_sigma=0.95\n",
        "permutaion_sigma=1\n",
        "\n",
        "itc = getImportanceColumnNameTop(prefix=\"\",top=TOP)\n",
        "top_list = getImportanceIndexTop(top=TOP)\n",
        "print(itc)\n",
        "metric_a,metric_b,metric_c,drift_data_ks_stats,drift_data_ks_pvals,drift_data_ks_stats_diff,drift_data_ks_pvals_diff,length,mdr = drift_sampling2(ML[2010].predict,sampling_sigma=sampling_sigma,permutaion_sigma=permutaion_sigma,epoch = 10000,toplist=top_list)\n",
        "\n",
        "trainset = pd.DataFrame(drift_data_ks_stats*drift_data_ks_pvals_diff,columns=COLUMNS)\n",
        "dx = trainset[itc]\n",
        "print(dx.shape)\n",
        "\n",
        "model = sm.OLS(metric_c[:,0], dx).fit() ## sm.OLS(output, input)\n",
        "# Print out the statistics\n",
        "print(model.summary())\n",
        "\n",
        "print(\"mdr:\",mdr)\n",
        "df2 = predict_precision_for_PPM2(model)\n",
        "MAE,RMSE,MAPE,r_2 = result_statistics(df2)\n",
        "df2.plot(title=f'TOP:{TOP}, sampling_sigma:{sampling_sigma}, permutaion_sigma:{permutaion_sigma}, R2:{r_2}', figsize=(20,5))\n"
      ],
      "metadata": {
        "id": "EST6VVK-8_7R"
      },
      "execution_count": null,
      "outputs": []
    },
    {
      "cell_type": "code",
      "source": [
        "\n",
        "TOP = 5\n",
        "sampling_sigma=0.95\n",
        "permutaion_sigma=2\n",
        "\n",
        "itc = getImportanceColumnNameTop(prefix=\"\",top=TOP)\n",
        "top_list = getImportanceIndexTop(top=TOP)\n",
        "metric_a,metric_b,metric_c,drift_data_ks_stats,drift_data_ks_pvals,drift_data_ks_stats_diff,drift_data_ks_pvals_diff,length, mdr = drift_sampling2(ML[2010].predict,sampling_sigma=sampling_sigma,permutaion_sigma=permutaion_sigma,epoch = 10000,toplist=top_list)\n",
        "\n",
        "trainset = pd.DataFrame(drift_data_ks_stats*drift_data_ks_pvals_diff,columns=COLUMNS)\n",
        "dx = trainset[itc]\n",
        "print(dx.shape)\n",
        "\n",
        "model = sm.OLS(metric_c[:,0], dx).fit() ## sm.OLS(output, input)\n",
        "# Print out the statistics\n",
        "print(model.summary())\n",
        "\n",
        "print(\"mdr:\",mdr)\n",
        "df2 = predict_precision_for_PPM2(model)\n",
        "MAE,RMSE,MAPE,r_2 = result_statistics(df2)\n",
        "df2.plot(title=f'TOP:{TOP}, sampling_sigma:{sampling_sigma}, permutaion_sigma:{permutaion_sigma}, R2:{r_2}', figsize=(20,5))"
      ],
      "metadata": {
        "id": "qyhBMgvX9Esv"
      },
      "execution_count": null,
      "outputs": []
    },
    {
      "cell_type": "code",
      "source": [
        "\n",
        "TOP = 5\n",
        "sampling_sigma=0.95\n",
        "permutaion_sigma=3\n",
        "\n",
        "itc = getImportanceColumnNameTop(prefix=\"\",top=TOP)\n",
        "top_list = getImportanceIndexTop(top=TOP)\n",
        "metric_a,metric_b,metric_c,drift_data_ks_stats,drift_data_ks_pvals,drift_data_ks_stats_diff,drift_data_ks_pvals_diff,length,mdr = drift_sampling2(ML[2010].predict,sampling_sigma=sampling_sigma,permutaion_sigma=permutaion_sigma,epoch = 10000,toplist=top_list)\n",
        "\n",
        "trainset = pd.DataFrame(drift_data_ks_stats*drift_data_ks_pvals_diff,columns=COLUMNS)\n",
        "dx = trainset[itc]\n",
        "print(dx.shape)\n",
        "\n",
        "model = sm.OLS(metric_c[:,0], dx).fit() ## sm.OLS(output, input)\n",
        "# Print out the statistics\n",
        "print(model.summary())\n",
        "\n",
        "print(\"mdr:\",mdr)\n",
        "df2 = predict_precision_for_PPM2(model)\n",
        "MAE,RMSE,MAPE,r_2 = result_statistics(df2)\n",
        "df2.plot(title=f'TOP:{TOP}, sampling_sigma:{sampling_sigma}, permutaion_sigma:{permutaion_sigma}, R2:{r_2}', figsize=(20,5))"
      ],
      "metadata": {
        "id": "iPMsQsc19HfR"
      },
      "execution_count": null,
      "outputs": []
    },
    {
      "cell_type": "code",
      "source": [
        "\n",
        "TOP = 5\n",
        "sampling_sigma=0.80\n",
        "permutaion_sigma=1\n",
        "\n",
        "itc = getImportanceColumnNameTop(prefix=\"\",top=TOP)\n",
        "top_list = getImportanceIndexTop(top=TOP)\n",
        "metric_a,metric_b,metric_c,drift_data_ks_stats,drift_data_ks_pvals,drift_data_ks_stats_diff,drift_data_ks_pvals_diff,length,mdr = drift_sampling2(ML[2010].predict,sampling_sigma=sampling_sigma,permutaion_sigma=permutaion_sigma,epoch = 10000,toplist=top_list)\n",
        "\n",
        "trainset = pd.DataFrame(drift_data_ks_stats*drift_data_ks_pvals_diff,columns=COLUMNS)\n",
        "dx = trainset[itc]\n",
        "print(dx.shape)\n",
        "\n",
        "model = sm.OLS(metric_c[:,0], dx).fit() ## sm.OLS(output, input)\n",
        "# Print out the statistics\n",
        "print(model.summary())\n",
        "\n",
        "print(\"mdr:\",mdr)\n",
        "df2 = predict_precision_for_PPM2(model)\n",
        "MAE,RMSE,MAPE,r_2 = result_statistics(df2)\n",
        "df2.plot(title=f'TOP:{TOP}, sampling_sigma:{sampling_sigma}, permutaion_sigma:{permutaion_sigma}, R2:{r_2}', figsize=(20,5))"
      ],
      "metadata": {
        "id": "oi5_ngLX9L6K"
      },
      "execution_count": null,
      "outputs": []
    },
    {
      "cell_type": "code",
      "source": [
        "\n",
        "TOP = 5\n",
        "sampling_sigma=0.60\n",
        "permutaion_sigma=1\n",
        "\n",
        "itc = getImportanceColumnNameTop(prefix=\"\",top=TOP)\n",
        "top_list = getImportanceIndexTop(top=TOP)\n",
        "metric_a,metric_b,metric_c,drift_data_ks_stats,drift_data_ks_pvals,drift_data_ks_stats_diff,drift_data_ks_pvals_diff,length,mdr = drift_sampling2(ML[2010].predict,sampling_sigma=sampling_sigma,permutaion_sigma=permutaion_sigma,epoch = 10000,toplist=top_list)\n",
        "\n",
        "trainset = pd.DataFrame(drift_data_ks_stats*drift_data_ks_pvals_diff,columns=COLUMNS)\n",
        "dx = trainset[itc]\n",
        "print(dx.shape)\n",
        "\n",
        "model = sm.OLS(metric_c[:,0], dx).fit() ## sm.OLS(output, input)\n",
        "# Print out the statistics\n",
        "print(model.summary())\n",
        "\n",
        "print(\"mdr:\",mdr)\n",
        "df2 = predict_precision_for_PPM2(model)\n",
        "MAE,RMSE,MAPE,r_2 = result_statistics(df2)\n",
        "df2.plot(title=f'TOP:{TOP}, sampling_sigma:{sampling_sigma}, permutaion_sigma:{permutaion_sigma}, R2:{r_2}', figsize=(20,5))"
      ],
      "metadata": {
        "id": "xgyXdV5r9daQ"
      },
      "execution_count": null,
      "outputs": []
    },
    {
      "cell_type": "markdown",
      "source": [
        "# 단순한 로직으로 다시... => 실패!"
      ],
      "metadata": {
        "id": "_-iS7q9gTfKJ"
      }
    },
    {
      "cell_type": "code",
      "source": [
        "\n",
        "TOP = 5\n",
        "sampling_sigma=0.6\n",
        "permutaion_sigma=1\n",
        "\n",
        "itc = getImportanceColumnNameTop(prefix=\"\",top=TOP)\n",
        "top_list = getImportanceIndexTop(top=TOP)\n",
        "metric_a,metric_b,metric_c,drift_data_ks_stats,drift_data_ks_pvals,drift_data_ks_stats_diff,drift_data_ks_pvals_diff,length,mdr = drift_sampling3(ML[2010].predict,sampling_sigma=sampling_sigma,permutaion_sigma=permutaion_sigma,epoch = 3000,toplist=top_list)\n",
        "\n",
        "trainset = pd.DataFrame(drift_data_ks_stats*drift_data_ks_pvals_diff,columns=COLUMNS)\n",
        "dx = trainset[itc]\n",
        "print(dx.shape)\n",
        "\n",
        "model = sm.OLS(metric_c[:,0], dx).fit() ## sm.OLS(output, input)\n",
        "# Print out the statistics\n",
        "print(model.summary())\n",
        "\n",
        "print(\"mdr:\",mdr)\n",
        "\"\"\"\n",
        "df2 = predict_precision_for_PPM2(model)\n",
        "MAE,RMSE,MAPE,r_2 = result_statistics(df2)\n",
        "df2.plot(title=f'TOP:{TOP}, sampling_sigma:{sampling_sigma}, permutaion_sigma:{permutaion_sigma}, R2:{r_2}', figsize=(20,5))\n",
        "\"\"\""
      ],
      "metadata": {
        "colab": {
          "base_uri": "https://localhost:8080/",
          "height": 598
        },
        "id": "F-C5zTeWTevz",
        "outputId": "322fae2b-d6de-4991-e053-7ca1d1898d72"
      },
      "execution_count": null,
      "outputs": [
        {
          "output_type": "stream",
          "name": "stdout",
          "text": [
            "3000/3000 acc:0.9948 1.0000 0.9974(3000, 5)\n",
            "                                 OLS Regression Results                                \n",
            "=======================================================================================\n",
            "Dep. Variable:                      y   R-squared (uncentered):                   0.002\n",
            "Model:                            OLS   Adj. R-squared (uncentered):              0.001\n",
            "Method:                 Least Squares   F-statistic:                              1.391\n",
            "Date:                Tue, 12 Jul 2022   Prob (F-statistic):                       0.224\n",
            "Time:                        08:55:15   Log-Likelihood:                         -4238.9\n",
            "No. Observations:                3000   AIC:                                      8488.\n",
            "Df Residuals:                    2995   BIC:                                      8518.\n",
            "Df Model:                           5                                                  \n",
            "Covariance Type:            nonrobust                                                  \n",
            "========================================================================================\n",
            "                           coef    std err          t      P>|t|      [0.025      0.975]\n",
            "----------------------------------------------------------------------------------------\n",
            "recoveries               0.7348      3.845      0.191      0.848      -6.805       8.274\n",
            "last_fico_range_high     4.8988      2.075      2.361      0.018       0.831       8.967\n",
            "last_pymnt_amnt          1.2057      1.840      0.655      0.512      -2.401       4.813\n",
            "total_rec_late_fee       1.3154      5.378      0.245      0.807      -9.230      11.860\n",
            "Y                       18.1423     26.918      0.674      0.500     -34.637      70.922\n",
            "==============================================================================\n",
            "Omnibus:                     1103.814   Durbin-Watson:                   0.005\n",
            "Prob(Omnibus):                  0.000   Jarque-Bera (JB):              149.829\n",
            "Skew:                           0.065   Prob(JB):                     2.92e-33\n",
            "Kurtosis:                       1.913   Cond. No.                         15.7\n",
            "==============================================================================\n",
            "\n",
            "Warnings:\n",
            "[1] Standard Errors assume that the covariance matrix of the errors is correctly specified.\n",
            "mdr: 1.0\n"
          ]
        },
        {
          "output_type": "execute_result",
          "data": {
            "text/plain": [
              "\"\\ndf2 = predict_precision_for_PPM2(model)\\nMAE,RMSE,MAPE,r_2 = result_statistics(df2)\\ndf2.plot(title=f'TOP:{TOP}, sampling_sigma:{sampling_sigma}, permutaion_sigma:{permutaion_sigma}, R2:{r_2}', figsize=(20,5))\\n\""
            ],
            "application/vnd.google.colaboratory.intrinsic+json": {
              "type": "string"
            }
          },
          "metadata": {},
          "execution_count": 94
        }
      ]
    },
    {
      "cell_type": "code",
      "source": [
        "df2 = predict_precision_for_PPM2(model)\n",
        "MAE,RMSE,MAPE,r_2 = result_statistics(df2)\n",
        "df2.plot(title=f'TOP:{TOP}, sampling_sigma:{sampling_sigma}, permutaion_sigma:{permutaion_sigma}, R2:{r_2}', figsize=(20,5))"
      ],
      "metadata": {
        "colab": {
          "base_uri": "https://localhost:8080/",
          "height": 1000
        },
        "id": "LkyCMfqacwSu",
        "outputId": "95302c13-a0b2-4712-d5e0-d6df0e50f6b3"
      },
      "execution_count": null,
      "outputs": [
        {
          "output_type": "stream",
          "name": "stdout",
          "text": [
            "0.9893952421897392 - 0.9891125041240515\n",
            "0.9883251657538196 - 0.4142371748196304\n",
            "0.9861987960651887 - 0.2588844740448829\n",
            "0.9869205057404447 - -0.9012220192441813\n",
            "0.9838709677419355 - -0.760808392238982\n",
            "0.9841036208419194 - -0.9371069561481382\n",
            "0.9851549992723039 - -0.9680538912555525\n",
            "0.9853792704111175 - -0.9508900383464334\n",
            "0.9813245223387445 - -0.8429104427464107\n",
            "0.9785178777393311 - -0.8661235816888821\n",
            "0.9821351390289583 - -0.9076243640878114\n",
            "0.9794871794871794 - -0.7279907947901667\n",
            "0.977694090382387 - -0.6107574818101489\n",
            "0.9798503166378814 - -0.5364575959870498\n",
            "0.9756883421206796 - -0.4293960150240659\n",
            "0.9780885108836673 - -0.37701461259504887\n",
            "0.9779685264663805 - -0.4709533694198753\n",
            "0.9782703172533681 - -0.21606230839427465\n",
            "0.9775264815344976 - -0.24881489550724528\n",
            "0.9753068592057762 - -0.10990084921410354\n",
            "0.9750971642435584 - 0.025627851916076583\n",
            "0.9749144811858609 - -0.05780305428587684\n",
            "0.9758168993810278 - -0.30814975681925405\n",
            "0.9740888382687927 - -0.33821498561496527\n",
            "0.9733981693363845 - -0.3014732914953861\n",
            "0.9756481879386907 - -0.3736449122886216\n",
            "0.9657272341028182 - -0.35157978929852096\n",
            "0.9705882352941176 - -0.2801186672088016\n",
            "0.9474204946996466 - -0.15630403122761594\n",
            "0.9445932609615113 - -0.19090119172192954\n",
            "0.9462395936221251 - -0.07757569176727871\n",
            "0.9391977480647431 - -0.21123741851291838\n",
            "0.9409657544060753 - -0.22200318993730023\n",
            "0.9389356541589385 - -0.23760915946994493\n",
            "0.9378282469836764 - -0.17619814373957293\n",
            "0.9365170145839291 - -0.15587837028863494\n",
            "0.9312955292101128 - -0.1483901301877112\n",
            "0.9341085271317829 - 0.04591120127385795\n",
            "0.9415490930031672 - -0.16894439680744638\n",
            "0.9414634146341463 - -0.29776340200479506\n",
            "0.9405188476422531 - 0.0038075658361073628\n",
            "0.9353161998267399 - -0.1443657183984548\n",
            "0.9429799426934098 - -0.44258515763178474\n",
            "0.9418756341498767 - -0.3224067459632481\n",
            "0.9407610262323436 - -0.2977401161304562\n",
            "0.9441412981045376 - -0.2736706694971314\n",
            "0.9431176726009552 - -0.44770169197379883\n",
            "0.933187134502924 - -0.2530316685657893\n",
            "0.9310897435897436 - -0.10991683454706569\n",
            "0.9422575976845152 - -0.2058239666042888\n",
            "0.9435507038207411 - -0.1622014055950074\n",
            "0.9409386281588448 - -0.11270308793706807\n",
            "0.9403050108932461 - -0.1407045180768564\n",
            "0.9387814034074502 - -0.0964378946697183\n",
            "0.9376807403123193 - -0.21130818334157597\n",
            "0.934324480369515 - -0.24472395476386138\n",
            "0.9318247751668117 - -0.061327399513228686\n",
            "0.932963341609464 - -0.2590939493654797\n",
            "0.9275028768699655 - -0.183212255833201\n",
            "0.9362984218077475 - -0.3372716623457278\n",
            "0.9244085401038661 - -0.21806398855590958\n",
            "0.9281976744186047 - -0.26762911244176774\n",
            "0.9253905679661264 - -0.21391171096263112\n",
            "0.9282088469905729 - -0.2464601344700011\n",
            "0.9301587301587302 - -0.2562455633560483\n",
            "0.9324679113185531 - -0.20770483072070756\n",
            "0.9255118338899375 - -0.33051280956031864\n",
            "0.9245089416593374 - -0.23986468953487572\n",
            "0.9299841201097157 - -0.10743840547403949\n",
            "0.9336129592131907 - -0.16295492699932912\n",
            "0.9322916666666666 - -0.43255582859328756\n",
            "0.9291842373127818 - -0.092384170158064\n",
            "0.928207368574341 - -0.2776532670276936\n",
            "0.9293636894337419 - -0.16677124088035145\n",
            "0.9258130081300813 - -0.15347640333969026\n",
            "0.926627724747115 - -0.24236086102797016\n",
            "0.9293001868084495 - -0.248633141483649\n",
            "0.93001443001443 - -0.36327865710632934\n",
            "0.9296725884598444 - -0.1294252717050457\n",
            "0.9237080754282424 - -0.3095898139438898\n",
            "0.9258511252163878 - -0.40118259812459733\n",
            "0.9297478501676141 - -0.24127385892026187\n",
            "0.9291472210436996 - -0.29766991770886386\n",
            "0.9260215053763441 - -0.07376725031406842\n",
            "0.9213190627711889 - -0.1090366366386013\n",
            "0.9264364480557168 - -0.17375878750608487\n",
            "0.9246614808412561 - -0.31057028186167324\n",
            "0.9346598927462603 - -0.5580452113636503\n",
            "0.9272025171624714 - -0.3489502573076111\n",
            "0.9271457085828343 - -0.21675800782384413\n",
            "0.9376433486238532 - -0.48354216429302765\n",
            "0.9252766202040523 - -0.25496344096579665\n",
            "0.9171623386043812 - -0.14238898097841712\n",
            "0.9234214708857101 - -0.29025253101413656\n",
            "0.9313218390804597 - -0.40102363918089523\n",
            "0.9178022615250797 - -0.358980725715645\n",
            "0.9169570267131243 - -0.1890277617684537\n",
            "0.9187339606501284 - -0.2816343285061423\n",
            "0.9285105173393974 - -0.47303666412141254\n",
            "0.9246723318450237 - -0.14152124966772228\n",
            "0.9299253302699598 - -0.4004983238157379\n",
            "0.9369574498363455 - -0.67830945741154\n",
            "0.9186691312384473 - -0.5078841650598664\n",
            "0.9262423465755375 - -0.4234602360549585\n",
            "0.9339028147318302 - -1.1517168292406281\n",
            "0.9306564146376193 - -0.7563279473293388\n",
            "0.9195118407671073 - -0.3079085018868315\n",
            "0.9220183486238532 - -0.5317619452223363\n",
            "0.9095789771121786 - -0.6722598570869958\n",
            "0.892018779342723 - -0.2587061363839242\n",
            "0.9347030678300028 - -1.2009521459856436\n",
            "0.9042261647194577 - -0.7906404564286675\n",
            "0.8916678784353642 - -0.09087258072538332\n",
            "0.8916475315729047 - -0.5353662008384914\n",
            "0.8878571428571429 - -0.8479063688545889\n",
            "0.8699681436432088 - -0.5481085791315528\n",
            "0.8683623382418563 - -0.4070698082559965\n",
            "0.8945386064030132 - -1.1014010526296962\n",
            "0.8788875598086124 - -0.01106126595030385\n",
            "0.9099044441073866 - -1.0847880590640748\n",
            "0.9002097692538208 - -0.279018428266102\n",
            "0.9028922523602577 - -0.5655716498599976\n",
            "0.8928029152748254 - -0.3355770979981176\n",
            "0.9033333333333333 - -0.3211435453171488\n",
            "0.8992178098676293 - -0.44107351430224573\n",
            "0.9007633587786259 - -0.44078551962279866\n",
            "0.8989712881928451 - -0.38335753819591534\n",
            "0.8928571428571429 - -0.5604226833562551\n",
            "0.8951447791751974 - -0.5572995840566096\n",
            "0.8901404330017554 - -0.5174602134447748\n",
            "0.9059484372749532 - -0.508621805387643\n",
            "0.9025417574437182 - -0.5240872211731322\n",
            "0.8940696488416144 - -0.6439108168977126\n",
            "0.8813034503096432 - -0.6478849620835403\n",
            "0.8879674087007129 - -0.46608516440245773\n",
            "0.8928466293788637 - -0.5988405858029116\n",
            "0.8983174835405998 - -0.5795315065711647\n",
            "0.8971157985363754 - -0.6857178734303184\n",
            "0.8930419781483612 - -0.6406378721018007\n",
            "0.8862335432169434 - -0.5636449249112965\n",
            "0.8914817465998568 - -0.526300312438469\n",
            "0.8908252916606654 - -0.6655892879226868\n",
            "0.8962087357647398 - -0.6264905886119447\n",
            "0.8883909209194738 - -0.47127708780876454\n",
            "0.8807758128921849 - -0.4737791328260996\n",
            "0.8738170347003155 - -0.49870056681174524\n",
            "0.8763395375070502 - -0.7113113980192043\n",
            "0.869881580824654 - -0.4264143253682533\n",
            "0.88081436448466 - -0.8430606132207719\n",
            "0.8679001721170396 - -0.21076584866467302\n",
            "0.8727940138359452 - -0.47737542329612437\n",
            "0.8755262419309571 - -0.8383309997405561\n",
            "0.8549553381539771 - 0.1062245493172686\n",
            "0.864793800166067 - -0.37491495892993076\n",
            "0.8676612791822075 - -0.47014291356812754\n",
            "0.8652828652828652 - -0.2192390940163237\n",
            "0.8694289219026851 - -0.48393613186307205\n",
            "0.8718707940780619 - -0.4833948854652256\n",
            "0.8680324597578821 - -0.34564339721655046\n",
            "0.8597375049714967 - -0.1798641716144344\n",
            "0.853448275862069 - -0.14718009014703615\n",
            "0.8524548134854506 - -0.18434567518017797\n",
            "0.8694291437155733 - -0.5834672114853106\n",
            "0.93296853625171 - -0.718841481653537\n",
            "0.9878230616302187 - -0.9941263344104456\n",
            "MAE 1.3024285538366425\n",
            "RMSE 1.3339804915717575\n",
            "MAPE 1.410088672630752\n",
            "R2 -1504.9753508059766\n"
          ]
        },
        {
          "output_type": "execute_result",
          "data": {
            "text/plain": [
              "<matplotlib.axes._subplots.AxesSubplot at 0x7fbd58991750>"
            ]
          },
          "metadata": {},
          "execution_count": 168
        },
        {
          "output_type": "display_data",
          "data": {
            "text/plain": [
              "<Figure size 1440x360 with 1 Axes>"
            ],
            "image/png": "[encoded data removed]"
          },
          "metadata": {
            "needs_background": "light"
          }
        }
      ]
    },
    {
      "cell_type": "markdown",
      "source": [
        "# ks알고리즘의 변형에 대한 검증"
      ],
      "metadata": {
        "id": "HXLhwOHRTAYL"
      }
    },
    {
      "cell_type": "code",
      "source": [
        "import statsmodels.api as sm # import statsmodels \n",
        "\n",
        "TOP = 5\n",
        "sampling_sigma=0.95\n",
        "permutaion_sigma=1\n",
        "\n",
        "itc = getImportanceColumnNameTop(prefix=\"\",top=TOP)\n",
        "top_list = getImportanceIndexTop(top=TOP)\n",
        "print(itc)\n",
        "metric_a,metric_b,metric_c,drift_data_ks_stats,drift_data_ks_pvals,drift_data_ks_stats_diff,drift_data_ks_pvals_diff,length,mdr = drift_sampling2(ML[2010].predict,sampling_sigma=sampling_sigma,permutaion_sigma=permutaion_sigma,epoch = 10000,toplist=top_list)\n",
        "\n",
        "trainset = pd.DataFrame(drift_data_ks_stats*drift_data_ks_pvals_diff,columns=COLUMNS)\n",
        "dx = trainset[itc]\n",
        "print(dx.shape)\n",
        "\n",
        "model = sm.OLS(metric_c[:,0], dx).fit() ## sm.OLS(output, input)\n",
        "# Print out the statistics\n",
        "print(model.summary())\n",
        "\n",
        "print(\"mdr:\",mdr)\n",
        "\n"
      ],
      "metadata": {
        "id": "MVVwUwrKTGPS",
        "outputId": "578dd7a9-0c7b-4ea3-8cde-e0537bb2b679",
        "colab": {
          "base_uri": "https://localhost:8080/"
        }
      },
      "execution_count": null,
      "outputs": [
        {
          "output_type": "stream",
          "name": "stderr",
          "text": [
            "/usr/local/lib/python3.7/dist-packages/statsmodels/tools/_testing.py:19: FutureWarning: pandas.util.testing is deprecated. Use the functions in the public API at pandas.testing instead.\n",
            "  import pandas.util.testing as tm\n"
          ]
        },
        {
          "output_type": "stream",
          "name": "stdout",
          "text": [
            "['recoveries', 'last_fico_range_high', 'last_pymnt_amnt', 'total_rec_late_fee', 'Y']\n",
            "9998/10000 acc:0.9211 0.6585 0.7680 sum:0.4950 0.0062 0.0125(3984, 5)\n",
            "                                 OLS Regression Results                                \n",
            "=======================================================================================\n",
            "Dep. Variable:                      y   R-squared (uncentered):                   0.995\n",
            "Model:                            OLS   Adj. R-squared (uncentered):              0.995\n",
            "Method:                 Least Squares   F-statistic:                          1.512e+05\n",
            "Date:                Mon, 20 Jun 2022   Prob (F-statistic):                        0.00\n",
            "Time:                        08:15:25   Log-Likelihood:                          4991.3\n",
            "No. Observations:                3984   AIC:                                     -9973.\n",
            "Df Residuals:                    3979   BIC:                                     -9941.\n",
            "Df Model:                           5                                                  \n",
            "Covariance Type:            nonrobust                                                  \n",
            "========================================================================================\n",
            "                           coef    std err          t      P>|t|      [0.025      0.975]\n",
            "----------------------------------------------------------------------------------------\n",
            "recoveries               1.7606      0.004    478.956      0.000       1.753       1.768\n",
            "last_fico_range_high     3.6428      0.084     43.590      0.000       3.479       3.807\n",
            "last_pymnt_amnt          2.7147      0.005    507.972      0.000       2.704       2.725\n",
            "total_rec_late_fee       1.4827      0.045     32.859      0.000       1.394       1.571\n",
            "Y                        1.4396      0.048     29.825      0.000       1.345       1.534\n",
            "==============================================================================\n",
            "Omnibus:                     1409.658   Durbin-Watson:                   2.023\n",
            "Prob(Omnibus):                  0.000   Jarque-Bera (JB):            42930.354\n",
            "Skew:                           1.061   Prob(JB):                         0.00\n",
            "Kurtosis:                      18.941   Cond. No.                         26.5\n",
            "==============================================================================\n",
            "\n",
            "Warnings:\n",
            "[1] Standard Errors assume that the covariance matrix of the errors is correctly specified.\n",
            "mdr: 12.10492242964371\n"
          ]
        }
      ]
    },
    {
      "cell_type": "code",
      "source": [
        "df2 = predict_precision_for_PPM2(model)\n",
        "MAE,RMSE,MAPE,r_2 = result_statistics(df2)\n",
        "df2.plot(title=f'TOP:{TOP}, sampling_sigma:{sampling_sigma}, permutaion_sigma:{permutaion_sigma}, R2:{r_2}', figsize=(20,5))"
      ],
      "metadata": {
        "id": "oiJWJBgZ6XPc",
        "outputId": "3852f1cc-9e0f-4838-c3e0-e3875e9b6b9a",
        "colab": {
          "base_uri": "https://localhost:8080/",
          "height": 1000
        }
      },
      "execution_count": null,
      "outputs": [
        {
          "output_type": "stream",
          "name": "stdout",
          "text": [
            "0.9928098935864251 - 0.9907468605419696\n",
            "0.9943445475638051 - 0.9966891180014827\n",
            "0.9930514488468362 - 1.0237030446482343\n",
            "0.9928362573099415 - 1.0280783554568813\n",
            "0.9935744172145846 - 1.041262027790325\n",
            "0.9943486020226056 - 1.0429469324193255\n",
            "0.9951484857394883 - 1.0384657202537455\n",
            "0.9919848440687846 - 1.044168643660212\n",
            "0.9888535031847133 - 1.0527402188506116\n",
            "0.9882061735585324 - 1.0554976527820004\n",
            "0.9875416485585977 - 1.0623284232487675\n",
            "0.9869384239988517 - 1.050192751183686\n",
            "0.9819610125109107 - 1.0565744760240623\n",
            "0.9849537037037037 - 1.0524478298335296\n",
            "0.9821612855668583 - 1.0640287553644776\n",
            "0.9823367598088896 - 1.0538034204120774\n",
            "0.9819017523700087 - 1.0488762323648821\n",
            "0.9823974396275822 - 1.0505397265828966\n",
            "0.9835805847616305 - 1.0463817314453503\n",
            "0.9798346148266357 - 1.0510958175826501\n",
            "0.9773481460106767 - 1.0478823054764144\n",
            "0.9788208357183743 - 1.047537706582476\n",
            "0.9762384792626728 - 1.0493069977878897\n",
            "0.9760342368045649 - 1.0514883157582582\n",
            "0.9756307339449541 - 1.0511528366386886\n",
            "0.9776087268551744 - 1.0506624073036874\n",
            "0.9669597277368123 - 1.0543949556132648\n",
            "0.97086818575137 - 1.0549269947701656\n",
            "0.9486272289838664 - 1.0508362905961088\n",
            "0.9471303364433136 - 1.0538655426936363\n",
            "0.9469076532053092 - 1.0590734696757698\n",
            "0.9425141242937853 - 1.056536690019529\n",
            "0.942451205510907 - 1.063698175839015\n",
            "0.9402771824546364 - 1.0622392072301003\n",
            "0.9386276459724393 - 1.0535740161367744\n",
            "0.9378579610538373 - 1.0618506604203588\n",
            "0.9335624284077892 - 1.058395710052992\n",
            "0.9357204486626403 - 1.0648754810884886\n",
            "0.9427706501369468 - 1.0622089010593645\n",
            "0.9428160919540229 - 1.0586819513075427\n",
            "0.9418688101047796 - 1.0616289670512817\n",
            "0.9355863662622761 - 1.0682035607290434\n",
            "0.9436559139784946 - 1.0545191080551195\n",
            "0.9432428509217593 - 1.0581574911966851\n",
            "0.9426632004621606 - 1.0524142512685748\n",
            "0.9456349777074644 - 1.0570613932578186\n",
            "0.9439374185136897 - 1.0597281680307804\n",
            "0.9351010840902432 - 1.0682936310399411\n",
            "0.9308185260704923 - 1.064005372462433\n",
            "0.9421212559687455 - 1.05842719205386\n",
            "0.9453158727874514 - 1.0548465777638514\n",
            "0.9409386281588448 - 1.0575659368658121\n",
            "0.9415357766143106 - 1.062518855735448\n",
            "0.9402747650036153 - 1.05838335732656\n",
            "0.9384949348769899 - 1.0624872853196754\n",
            "0.9359456333140543 - 1.0576213865451038\n",
            "0.9329073482428115 - 1.0602135056059876\n",
            "0.9347380743342113 - 1.065175114587137\n",
            "0.9280368451352907 - 1.0542002811796878\n",
            "0.9368360608670686 - 1.0537078171875958\n",
            "0.9257440046229414 - 1.057417248452842\n",
            "0.9295487627365356 - 1.063209831024838\n",
            "0.9263373282665888 - 1.0559021275196205\n",
            "0.9294220156839965 - 1.0627138922137713\n",
            "0.9305615706655118 - 1.0636293361137414\n",
            "0.9328761126513936 - 1.0614961706979122\n",
            "0.9267228845594649 - 1.0589282818760442\n",
            "0.9243734427671112 - 1.0603674768814146\n",
            "0.930521450238336 - 1.0594279520510006\n",
            "0.9352361634308896 - 1.0584738525379285\n",
            "0.9332367849384504 - 1.0617906120387355\n",
            "0.9293193717277487 - 1.0592099024883663\n",
            "0.9287483607751712 - 1.0590896759196462\n",
            "0.9308580616868879 - 1.0594882482704595\n",
            "0.9270242767844163 - 1.06345696120107\n",
            "0.928082191780822 - 1.0513762938029871\n",
            "0.9295673422452206 - 1.0574493704396453\n",
            "0.9310892805547529 - 1.0574788568393936\n",
            "0.9298091042584434 - 1.061360219678332\n",
            "0.9243733794295592 - 1.0552584113730805\n",
            "0.9274566473988439 - 1.0529875270070843\n",
            "0.9301545640128317 - 1.0526507777154417\n",
            "0.9294101004385344 - 1.0481548269265992\n",
            "0.9265528618562616 - 1.0524761599804515\n",
            "0.9213190627711889 - 1.0581355227447613\n",
            "0.9263020455534601 - 1.0583590246421164\n",
            "0.9250612480184465 - 1.0476945130835826\n",
            "0.9358485233856154 - 1.0476297985633505\n",
            "0.9274678111587983 - 1.0503559253849186\n",
            "0.9287346472436446 - 1.0562336052155783\n",
            "0.9371060171919771 - 1.0535792930757915\n",
            "0.9251436781609196 - 1.0534575732155944\n",
            "0.9168963016678753 - 1.0559534459756605\n",
            "0.9235549132947977 - 1.058170144763444\n",
            "0.9319913731128684 - 1.053316943273428\n",
            "0.917536231884058 - 1.0550262748888373\n",
            "0.9178898415927917 - 1.0559721026585134\n",
            "0.9179487179487179 - 1.0505064797550774\n",
            "0.9282466609832338 - 1.050789936204425\n",
            "0.9252053610030264 - 1.0537878097800082\n",
            "0.9301924734271761 - 1.0554856677356113\n",
            "0.93669085218381 - 1.0483445105244633\n",
            "0.9195844007970395 - 1.04722196024343\n",
            "0.9272986457590877 - 1.0579516613954472\n",
            "0.9341644488023533 - 1.0441369744209767\n",
            "0.9306564146376193 - 1.0512458381990362\n",
            "0.9195118407671073 - 1.058026936474642\n",
            "0.9233419465977606 - 1.0569798736118519\n",
            "0.910479422995333 - 1.0485136802919557\n",
            "0.892399658411614 - 1.055600733200122\n",
            "0.9345715491768679 - 1.0465070120502917\n",
            "0.9046176046176047 - 1.0632754635482433\n",
            "0.8925764192139738 - 1.0707412536044054\n",
            "0.8916475315729047 - 1.0720343218796897\n",
            "0.8878571428571429 - 1.0749965715416958\n",
            "0.8705984639907259 - 1.0854043846085273\n",
            "0.8693968726731199 - 1.0860176738080463\n",
            "0.8955765047135605 - 1.0858911296833722\n",
            "0.879676743489973 - 1.091104757778495\n",
            "0.9104568219760206 - 1.0990357056523035\n",
            "0.9011549422528874 - 1.0985394888972986\n",
            "0.9032983508245878 - 1.0952225945428367\n",
            "0.8944326133252206 - 1.1030827026710148\n",
            "0.9038811400849 - 1.1069156899909107\n",
            "0.8990825688073395 - 1.09659426289933\n",
            "0.9019784172661871 - 1.1007506128665783\n",
            "0.9004921562596124 - 1.1076026305655435\n",
            "0.8928571428571429 - 1.103166885791567\n",
            "0.8952757057188826 - 1.0946431418696896\n",
            "0.8904009364940005 - 1.098220305568265\n",
            "0.9059484372749532 - 1.0994001481114175\n",
            "0.9039860343322665 - 1.1006642513587064\n",
            "0.8949824970828472 - 1.1030619402701987\n",
            "0.8822140221402214 - 1.1030836386540406\n",
            "0.8884844955597613 - 1.102263836592549\n",
            "0.8940309506263817 - 1.1023498545895303\n",
            "0.8991067506223459 - 1.1038237083876072\n",
            "0.8985340615119287 - 1.0989040259859406\n",
            "0.8943276706017852 - 1.097134495093858\n",
            "0.8868681082629243 - 1.0988460694984694\n",
            "0.8922481730907007 - 1.106942917694095\n",
            "0.8913388096267474 - 1.1004332224300217\n",
            "0.8975025263461817 - 1.1014915626097337\n",
            "0.8894195976262845 - 1.1037979784183884\n",
            "0.882537867962275 - 1.1020104521138543\n",
            "0.8748205569910996 - 1.103867890322362\n",
            "0.877700889704844 - 1.0989463139872884\n",
            "0.871 - 1.1037723421279777\n",
            "0.8816869515992075 - 1.097696782720561\n",
            "0.8696464501293475 - 1.1015765762544998\n",
            "0.8735339833262682 - 1.1050618705398003\n",
            "0.8770030924936745 - 1.0968791662922088\n",
            "0.856290826469753 - 1.0977156651974003\n",
            "0.8675551853394419 - 1.0945916377039164\n",
            "0.8698241240825371 - 1.0929538784086095\n",
            "0.8666938442723197 - 1.0931030461255524\n",
            "0.8708532423208191 - 1.0947153126565683\n",
            "0.8737523603992446 - 1.0927827786988402\n",
            "0.8681479510377861 - 1.0982882071271998\n",
            "0.860650298606503 - 1.0992852838488694\n",
            "0.8533368159853728 - 1.1069317254263542\n",
            "0.8528921380017955 - 1.1135090205446858\n",
            "0.8694291437155733 - 1.127002068879502\n",
            "0.93296853625171 - 1.1610456206084934\n",
            "0.9878230616302187 - 1.192658136446156\n",
            "MAE 0.14283569984423242\n",
            "RMSE 0.15343612476611881\n",
            "MAPE 0.15661297419586545\n",
            "R2 -17.60396672156104\n"
          ]
        },
        {
          "output_type": "execute_result",
          "data": {
            "text/plain": [
              "<matplotlib.axes._subplots.AxesSubplot at 0x7f84c6045c50>"
            ]
          },
          "metadata": {},
          "execution_count": 64
        },
        {
          "output_type": "display_data",
          "data": {
            "text/plain": [
              "<Figure size 1440x360 with 1 Axes>"
            ],
            "image/png": "[encoded data removed]"
          },
          "metadata": {
            "needs_background": "light"
          }
        }
      ]
    },
    {
      "cell_type": "markdown",
      "source": [
        "# 여기서 부터는 다른 데이터셋, 모델로 검증\n",
        "\n",
        "\n",
        "https://www.kaggle.com/datasets/ealtman2019/credit-card-transactions\n",
        "\n",
        "https://www.kaggle.com/code/vadimabronin/notebookd76fc110c7"
      ],
      "metadata": {
        "id": "fUzyeLFy7JQ5"
      }
    },
    {
      "cell_type": "code",
      "source": [
        "from google.colab import files\n",
        "\n",
        "uploaded = files.upload()\n",
        "\n",
        "for fn in uploaded.keys():\n",
        "  print('User uploaded file \"{name}\" with length {length} bytes'.format(\n",
        "      name=fn, length=len(uploaded[fn])))\n",
        "  \n",
        "# Then move kaggle.json into the folder where the API expects to find it.\n",
        "!mkdir -p ~/.kaggle/ && mv kaggle.json ~/.kaggle/ && chmod 600 ~/.kaggle/kaggle.json"
      ],
      "metadata": {
        "id": "IAm4WpBm8bVM",
        "colab": {
          "resources": {
            "http://localhost:8080/nbextensions/google.colab/files.js": {
              "data": "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",
              "ok": true,
              "headers": [
                [
                  "content-type",
                  "application/javascript"
                ]
              ],
              "status": 200,
              "status_text": ""
            }
          },
          "base_uri": "https://localhost:8080/",
          "height": 95
        },
        "outputId": "45f876c9-a7cf-4738-f832-1ce23ca8fca1"
      },
      "execution_count": 110,
      "outputs": [
        {
          "output_type": "display_data",
          "data": {
            "text/plain": [
              "<IPython.core.display.HTML object>"
            ],
            "text/html": [
              "\n",
              "     <input type=\"file\" id=\"files-39353a47-1b28-40a1-abea-088763018ce4\" name=\"files[]\" multiple disabled\n",
              "        style=\"border:none\" />\n",
              "     <output id=\"result-39353a47-1b28-40a1-abea-088763018ce4\">\n",
              "      Upload widget is only available when the cell has been executed in the\n",
              "      current browser session. Please rerun this cell to enable.\n",
              "      </output>\n",
              "      <script src=\"/nbextensions/google.colab/files.js\"></script> "
            ]
          },
          "metadata": {}
        },
        {
          "output_type": "stream",
          "name": "stdout",
          "text": [
            "Saving kaggle.json to kaggle.json\n",
            "User uploaded file \"kaggle.json\" with length 66 bytes\n"
          ]
        }
      ]
    },
    {
      "cell_type": "code",
      "source": [
        "!kaggle datasets download \"ealtman2019/credit-card-transactions\""
      ],
      "metadata": {
        "colab": {
          "base_uri": "https://localhost:8080/"
        },
        "id": "G7RiVTOldu5Q",
        "outputId": "326f8dfc-cd58-4da6-9cd7-ed288de162ce"
      },
      "execution_count": 111,
      "outputs": [
        {
          "output_type": "stream",
          "name": "stdout",
          "text": [
            "Downloading credit-card-transactions.zip to /content\n",
            " 98% 257M/263M [00:03<00:00, 79.6MB/s]\n",
            "100% 263M/263M [00:03<00:00, 71.0MB/s]\n"
          ]
        }
      ]
    },
    {
      "cell_type": "code",
      "source": [
        "!unzip credit-card-transactions.zip"
      ],
      "metadata": {
        "colab": {
          "base_uri": "https://localhost:8080/"
        },
        "id": "eXCbtZSAd2Sc",
        "outputId": "ef166eae-c788-4df3-fae0-f023bb1eaea6"
      },
      "execution_count": 112,
      "outputs": [
        {
          "output_type": "stream",
          "name": "stdout",
          "text": [
            "Archive:  credit-card-transactions.zip\n",
            "  inflating: User0_credit_card_transactions.csv  \n",
            "  inflating: credit_card_transactions-ibm_v2.csv  \n",
            "  inflating: sd254_cards.csv         \n",
            "  inflating: sd254_users.csv         \n"
          ]
        }
      ]
    },
    {
      "cell_type": "code",
      "source": [
        "df = pd.read_csv(\"credit_card_transactions-ibm_v2.csv\")"
      ],
      "metadata": {
        "id": "zZQUG9bSd4UO"
      },
      "execution_count": 113,
      "outputs": []
    },
    {
      "cell_type": "code",
      "source": [
        "df['Year'].value_counts()"
      ],
      "metadata": {
        "colab": {
          "base_uri": "https://localhost:8080/"
        },
        "id": "ZPg9M-Xqd8pb",
        "outputId": "5a6fc1d4-9833-46ad-e457-830784e6ee9e"
      },
      "execution_count": 114,
      "outputs": [
        {
          "output_type": "execute_result",
          "data": {
            "text/plain": [
              "2019    1723938\n",
              "2017    1723360\n",
              "2018    1721615\n",
              "2016    1708924\n",
              "2015    1701371\n",
              "2014    1672343\n",
              "2013    1650917\n",
              "2012    1610829\n",
              "2011    1570551\n",
              "2010    1491225\n",
              "2009    1355434\n",
              "2008    1223460\n",
              "2007    1064483\n",
              "2006     908793\n",
              "2005     746653\n",
              "2004     597003\n",
              "2003     466408\n",
              "2002     350732\n",
              "2020     336500\n",
              "2001     257998\n",
              "2000     177729\n",
              "1999     118250\n",
              "1998      78345\n",
              "1997      49753\n",
              "1996      29945\n",
              "1995      20928\n",
              "1994      14316\n",
              "1993       8378\n",
              "1992       5134\n",
              "1991       1585\n",
              "Name: Year, dtype: int64"
            ]
          },
          "metadata": {},
          "execution_count": 114
        }
      ]
    },
    {
      "cell_type": "markdown",
      "source": [
        "## 1/30 로 축소 한다."
      ],
      "metadata": {
        "id": "g7rO5MJ3MdqM"
      }
    },
    {
      "cell_type": "code",
      "source": [
        "import numpy as np \n",
        "import pandas as pd \n",
        "import os\n",
        "import lightgbm as lgb\n",
        "from sklearn.model_selection import train_test_split\n",
        "from sklearn.metrics import classification_report"
      ],
      "metadata": {
        "id": "oupPi2-Pd-oS"
      },
      "execution_count": 115,
      "outputs": []
    },
    {
      "cell_type": "code",
      "source": [
        "df['Is Fraud?']=df['Is Fraud?'].replace({'No':0,'Yes':1}) "
      ],
      "metadata": {
        "id": "k6UR_jP0d_Uj"
      },
      "execution_count": 116,
      "outputs": []
    },
    {
      "cell_type": "code",
      "source": [
        "df1 = df[df['Is Fraud?']==1]\n",
        "df2 = df[df['Is Fraud?']==0]\n",
        "df3 = df2.sample(int(df2.shape[0]/30))\n",
        "df4 = pd.concat([df1,df3])\n",
        "\n",
        "print(\"Compression rate:\",df4.shape[0] / df.shape[0] )\n",
        "\n",
        "df = df4"
      ],
      "metadata": {
        "colab": {
          "base_uri": "https://localhost:8080/"
        },
        "id": "WqGUHxlVMmMb",
        "outputId": "10895aec-e840-42e3-fe5c-ad748a5c15eb"
      },
      "execution_count": 117,
      "outputs": [
        {
          "output_type": "stream",
          "name": "stdout",
          "text": [
            "Compression rate: 0.034512832709364456\n"
          ]
        }
      ]
    },
    {
      "cell_type": "markdown",
      "source": [
        "## 기타 등등 전처리"
      ],
      "metadata": {
        "id": "efaqfh_-MtIZ"
      }
    },
    {
      "cell_type": "code",
      "source": [
        "df['Errors?']=df['Errors?'].fillna('NAN')\n",
        "df['Errors?']=df['Errors?'].apply(lambda value:value=='NAN')\n",
        "df['Errors?'].value_counts()"
      ],
      "metadata": {
        "colab": {
          "base_uri": "https://localhost:8080/"
        },
        "id": "eXVL_qaZeA_9",
        "outputId": "7794abe8-f859-4294-83d2-651307cc65e3"
      },
      "execution_count": 118,
      "outputs": [
        {
          "output_type": "execute_result",
          "data": {
            "text/plain": [
              "True     827339\n",
              "False     14322\n",
              "Name: Errors?, dtype: int64"
            ]
          },
          "metadata": {},
          "execution_count": 118
        }
      ]
    },
    {
      "cell_type": "code",
      "source": [
        "df['Use Chip'].unique()\n",
        "df['is online']=df['Use Chip'].apply(lambda value:value=='Online Transaction')"
      ],
      "metadata": {
        "id": "qeI5dtpzeC8_"
      },
      "execution_count": 119,
      "outputs": []
    },
    {
      "cell_type": "code",
      "source": [
        "\n",
        "from sklearn.preprocessing import LabelEncoder\n",
        "df['Use Chip']=df['Use Chip'].replace({'Swipe Transaction':0, 'Online Transaction':1, 'Chip Transaction':2})\n",
        "df['Zip'] = df['Zip'].fillna(df['Zip'].mean())  \n",
        "df['Amount'] = df['Amount'].apply(lambda value: float(value.split(\"$\")[1]))\n",
        "df['Hour'] = df['Time'].apply(lambda value: int(value.split(\":\")[0]))\n",
        "df['Minutes'] = df['Time'].apply(lambda value: int(value.split(\":\")[1]))\n",
        "df.drop(['Time'], axis=1, inplace=True)     \n",
        "df['Merchant State']=df['Merchant State'].fillna('NAN')    \n",
        "df['Merchant City']=df['Merchant City'].fillna('NAN') \n",
        "df['is vozmes']=df['Amount'].apply(lambda value: value<0)  \n",
        "df['abs_amount']=df['Amount'].apply(lambda value: abs(value))"
      ],
      "metadata": {
        "id": "Ahy50SKfeEus"
      },
      "execution_count": 120,
      "outputs": []
    },
    {
      "cell_type": "code",
      "source": [
        "#encoding categorial features\n",
        "le=LabelEncoder() \n",
        "df['Merchant State']=le.fit_transform(df['Merchant State'])\n",
        "le=LabelEncoder()\n",
        "df['Merchant City']=le.fit_transform(df['Merchant City'])\n",
        "le=LabelEncoder()\n",
        "df['Errors?']=le.fit_transform(df['Errors?'])\n",
        "le=LabelEncoder()\n",
        "df['is online']=le.fit_transform(df['is online'])\n",
        "le=LabelEncoder()\n",
        "df['is vozmes']=le.fit_transform(df['is vozmes'])"
      ],
      "metadata": {
        "id": "C9sQKM1ZeGmN"
      },
      "execution_count": 121,
      "outputs": []
    },
    {
      "cell_type": "code",
      "source": [
        "df = df.sort_values(['Year','Month','Day'])"
      ],
      "metadata": {
        "id": "vDqBmdMieJrZ"
      },
      "execution_count": 122,
      "outputs": []
    },
    {
      "cell_type": "code",
      "source": [
        "df.Year.value_counts()"
      ],
      "metadata": {
        "colab": {
          "base_uri": "https://localhost:8080/"
        },
        "id": "Q9i5CgEwtTKu",
        "outputId": "742f8dee-8248-4bbb-ccc7-b1d7de9f8bb3"
      },
      "execution_count": 123,
      "outputs": [
        {
          "output_type": "execute_result",
          "data": {
            "text/plain": [
              "2016    60370\n",
              "2015    60022\n",
              "2018    60001\n",
              "2019    59528\n",
              "2017    57835\n",
              "2013    57129\n",
              "2014    56667\n",
              "2012    54950\n",
              "2010    53706\n",
              "2011    52530\n",
              "2009    45892\n",
              "2008    44527\n",
              "2007    37194\n",
              "2006    31328\n",
              "2005    24926\n",
              "2004    20373\n",
              "2003    15634\n",
              "2002    11766\n",
              "2020    11028\n",
              "2001     9021\n",
              "2000     6164\n",
              "1999     3910\n",
              "1998     2701\n",
              "1997     1722\n",
              "1996     1046\n",
              "1995      708\n",
              "1994      466\n",
              "1993      304\n",
              "1992      157\n",
              "1991       56\n",
              "Name: Year, dtype: int64"
            ]
          },
          "metadata": {},
          "execution_count": 123
        }
      ]
    },
    {
      "cell_type": "code",
      "source": [
        "drop_columns = ['Is Fraud?','Zip','Year','Month','Day','Minutes','User','Errors?','Merchant Name','Merchant City','Merchant State']\n",
        "X = df[df['Year']==2007].drop(drop_columns,axis=1)\n",
        "y = df[df['Year']==2007]['Is Fraud?']"
      ],
      "metadata": {
        "id": "zaMkuT79eKUr"
      },
      "execution_count": 124,
      "outputs": []
    },
    {
      "cell_type": "code",
      "source": [
        "X.info()"
      ],
      "metadata": {
        "colab": {
          "base_uri": "https://localhost:8080/"
        },
        "id": "AIN8Gx9WqnNb",
        "outputId": "3064f513-556e-4969-f2ce-65be7ec5e95c"
      },
      "execution_count": 125,
      "outputs": [
        {
          "output_type": "stream",
          "name": "stdout",
          "text": [
            "<class 'pandas.core.frame.DataFrame'>\n",
            "Int64Index: 37194 entries, 23808642 to 20480285\n",
            "Data columns (total 8 columns):\n",
            " #   Column      Non-Null Count  Dtype  \n",
            "---  ------      --------------  -----  \n",
            " 0   Card        37194 non-null  int64  \n",
            " 1   Amount      37194 non-null  float64\n",
            " 2   Use Chip    37194 non-null  int64  \n",
            " 3   MCC         37194 non-null  int64  \n",
            " 4   is online   37194 non-null  int64  \n",
            " 5   Hour        37194 non-null  int64  \n",
            " 6   is vozmes   37194 non-null  int64  \n",
            " 7   abs_amount  37194 non-null  float64\n",
            "dtypes: float64(2), int64(6)\n",
            "memory usage: 2.6 MB\n"
          ]
        }
      ]
    },
    {
      "cell_type": "markdown",
      "source": [
        "## fraud detect model 만들기"
      ],
      "metadata": {
        "id": "Wz5rYT4fdU4p"
      }
    },
    {
      "cell_type": "markdown",
      "source": [
        "이러한 데이터는 시계열 데이터는 아니지만, 시간적 특성을 포함하는 데이터로서\n",
        "testset을 나눌때 shuffle 없이 7:3으로 나눈다."
      ],
      "metadata": {
        "id": "H2XlDUFsCLlv"
      }
    },
    {
      "cell_type": "code",
      "source": [
        "X.shape"
      ],
      "metadata": {
        "id": "7uxnupe-ApDo",
        "outputId": "1b30a121-c2b5-41b2-90aa-0e6333362ca5",
        "colab": {
          "base_uri": "https://localhost:8080/"
        }
      },
      "execution_count": 192,
      "outputs": [
        {
          "output_type": "execute_result",
          "data": {
            "text/plain": [
              "(37194, 8)"
            ]
          },
          "metadata": {},
          "execution_count": 192
        }
      ]
    },
    {
      "cell_type": "code",
      "source": [
        "a = [1,2,3,4,5,6,7,8,9,0]\n",
        "print(a[0:2])\n",
        "print(a[2:])\n",
        "b = [2,3,4]\n",
        "a+b"
      ],
      "metadata": {
        "id": "g6_RQSK3aygX",
        "outputId": "967854dc-8908-4c7c-a1a5-3841e98540d6",
        "colab": {
          "base_uri": "https://localhost:8080/"
        }
      },
      "execution_count": 412,
      "outputs": [
        {
          "output_type": "stream",
          "name": "stdout",
          "text": [
            "[1, 2]\n",
            "[3, 4, 5, 6, 7, 8, 9, 0]\n"
          ]
        },
        {
          "output_type": "execute_result",
          "data": {
            "text/plain": [
              "[1, 2, 3, 4, 5, 6, 7, 8, 9, 0, 2, 3, 4]"
            ]
          },
          "metadata": {},
          "execution_count": 412
        }
      ]
    },
    {
      "cell_type": "code",
      "source": [
        "def split_sample(yy,xx,train_size = 0.7, middle_offset = False):\n",
        "    size = xx.shape[0]\n",
        "    offset = int(size*train_size)\n",
        "    mo = 0\n",
        "    if middle_offset:\n",
        "        mo = int(random.random() * (size - offset))\n",
        "        #print(mo)\n",
        "\n",
        "    x_ref1 = xx[mo:mo+offset]\n",
        "    y_ref1 = yy[mo:mo+offset]\n",
        "    x_inf1 = np.concatenate([xx[0:mo], xx[mo+offset:]], axis=0)\n",
        "    y_inf1 = np.concatenate([yy[0:mo],yy[mo+offset:]], axis=0)\n",
        "\n",
        "    return y_ref1,x_ref1,y_inf1,x_inf1"
      ],
      "metadata": {
        "id": "UHPfjOvDX_y-"
      },
      "execution_count": 450,
      "outputs": []
    },
    {
      "cell_type": "code",
      "source": [
        "y_ref,x_ref,y_inf,x_inf = split_sample(y.values,X.values,train_size=0.7,middle_offset = False)"
      ],
      "metadata": {
        "id": "FrC_LQwrBAwe"
      },
      "execution_count": 560,
      "outputs": []
    },
    {
      "cell_type": "code",
      "source": [
        "x_ref.shape[0] + x_inf.shape[0]"
      ],
      "metadata": {
        "id": "JU6wf9M3fyVl",
        "outputId": "dcd6742b-1b74-40bd-d1bd-e8b8bac71038",
        "colab": {
          "base_uri": "https://localhost:8080/"
        }
      },
      "execution_count": 523,
      "outputs": [
        {
          "output_type": "execute_result",
          "data": {
            "text/plain": [
              "37194"
            ]
          },
          "metadata": {},
          "execution_count": 523
        }
      ]
    },
    {
      "cell_type": "code",
      "source": [
        "#y_ref, y_inf, x_ref, x_inf = train_test_split(y.values, X.values, test_size=0.30, random_state=23543)"
      ],
      "metadata": {
        "id": "9_egXthveXHI"
      },
      "execution_count": 126,
      "outputs": []
    },
    {
      "cell_type": "code",
      "source": [
        "!pip install catboost"
      ],
      "metadata": {
        "colab": {
          "base_uri": "https://localhost:8080/"
        },
        "id": "B7CqCtJTeeWt",
        "outputId": "21f3ed1e-4e8e-4ccf-fba4-fafdf34828a2"
      },
      "execution_count": 127,
      "outputs": [
        {
          "output_type": "stream",
          "name": "stdout",
          "text": [
            "Looking in indexes: https://pypi.org/simple, https://us-python.pkg.dev/colab-wheels/public/simple/\n",
            "Collecting catboost\n",
            "  Downloading catboost-1.0.6-cp37-none-manylinux1_x86_64.whl (76.6 MB)\n",
            "\u001b[K     |████████████████████████████████| 76.6 MB 1.2 MB/s \n",
            "\u001b[?25hRequirement already satisfied: scipy in /usr/local/lib/python3.7/dist-packages (from catboost) (1.7.3)\n",
            "Requirement already satisfied: matplotlib in /usr/local/lib/python3.7/dist-packages (from catboost) (3.2.2)\n",
            "Requirement already satisfied: six in /usr/local/lib/python3.7/dist-packages (from catboost) (1.15.0)\n",
            "Requirement already satisfied: pandas>=0.24.0 in /usr/local/lib/python3.7/dist-packages (from catboost) (1.3.5)\n",
            "Requirement already satisfied: plotly in /usr/local/lib/python3.7/dist-packages (from catboost) (5.5.0)\n",
            "Requirement already satisfied: numpy>=1.16.0 in /usr/local/lib/python3.7/dist-packages (from catboost) (1.21.6)\n",
            "Requirement already satisfied: graphviz in /usr/local/lib/python3.7/dist-packages (from catboost) (0.10.1)\n",
            "Requirement already satisfied: pytz>=2017.3 in /usr/local/lib/python3.7/dist-packages (from pandas>=0.24.0->catboost) (2022.1)\n",
            "Requirement already satisfied: python-dateutil>=2.7.3 in /usr/local/lib/python3.7/dist-packages (from pandas>=0.24.0->catboost) (2.8.2)\n",
            "Requirement already satisfied: pyparsing!=2.0.4,!=2.1.2,!=2.1.6,>=2.0.1 in /usr/local/lib/python3.7/dist-packages (from matplotlib->catboost) (3.0.9)\n",
            "Requirement already satisfied: cycler>=0.10 in /usr/local/lib/python3.7/dist-packages (from matplotlib->catboost) (0.11.0)\n",
            "Requirement already satisfied: kiwisolver>=1.0.1 in /usr/local/lib/python3.7/dist-packages (from matplotlib->catboost) (1.4.4)\n",
            "Requirement already satisfied: typing-extensions in /usr/local/lib/python3.7/dist-packages (from kiwisolver>=1.0.1->matplotlib->catboost) (4.1.1)\n",
            "Requirement already satisfied: tenacity>=6.2.0 in /usr/local/lib/python3.7/dist-packages (from plotly->catboost) (8.0.1)\n",
            "Installing collected packages: catboost\n",
            "Successfully installed catboost-1.0.6\n"
          ]
        }
      ]
    },
    {
      "cell_type": "code",
      "source": [
        "#cat boost classifier\n",
        "\n",
        "from catboost import CatBoostClassifier\n",
        "cat = CatBoostClassifier()\n",
        "cat.fit(x_ref, y_ref,plot=False) \n",
        "y_pred=cat.predict(x_inf)\n",
        "print(classification_report(y_inf, y_pred))  "
      ],
      "metadata": {
        "colab": {
          "base_uri": "https://localhost:8080/"
        },
        "id": "hjSk2vzQeewx",
        "outputId": "5edb7619-3d2d-43e8-9760-ce179f768a3c"
      },
      "execution_count": 524,
      "outputs": [
        {
          "output_type": "stream",
          "name": "stdout",
          "text": [
            "Learning rate set to 0.041436\n",
            "0:\tlearn: 0.6220530\ttotal: 5.49ms\tremaining: 5.48s\n",
            "1:\tlearn: 0.5552252\ttotal: 11.1ms\tremaining: 5.52s\n",
            "2:\tlearn: 0.4986404\ttotal: 16.4ms\tremaining: 5.45s\n",
            "3:\tlearn: 0.4563215\ttotal: 21.5ms\tremaining: 5.35s\n",
            "4:\tlearn: 0.4147086\ttotal: 26.5ms\tremaining: 5.27s\n",
            "5:\tlearn: 0.3757297\ttotal: 32.2ms\tremaining: 5.33s\n",
            "6:\tlearn: 0.3429772\ttotal: 37.9ms\tremaining: 5.37s\n",
            "7:\tlearn: 0.3142237\ttotal: 43.7ms\tremaining: 5.41s\n",
            "8:\tlearn: 0.2895723\ttotal: 49.2ms\tremaining: 5.42s\n",
            "9:\tlearn: 0.2685604\ttotal: 55ms\tremaining: 5.44s\n",
            "10:\tlearn: 0.2503413\ttotal: 60.8ms\tremaining: 5.47s\n",
            "11:\tlearn: 0.2326120\ttotal: 66.7ms\tremaining: 5.49s\n",
            "12:\tlearn: 0.2219778\ttotal: 71.8ms\tremaining: 5.45s\n",
            "13:\tlearn: 0.2093186\ttotal: 76.9ms\tremaining: 5.41s\n",
            "14:\tlearn: 0.2008794\ttotal: 82.1ms\tremaining: 5.39s\n",
            "15:\tlearn: 0.1902617\ttotal: 87.5ms\tremaining: 5.38s\n",
            "16:\tlearn: 0.1808822\ttotal: 93.1ms\tremaining: 5.38s\n",
            "17:\tlearn: 0.1727978\ttotal: 98.2ms\tremaining: 5.36s\n",
            "18:\tlearn: 0.1658814\ttotal: 104ms\tremaining: 5.35s\n",
            "19:\tlearn: 0.1584920\ttotal: 110ms\tremaining: 5.38s\n",
            "20:\tlearn: 0.1550301\ttotal: 114ms\tremaining: 5.33s\n",
            "21:\tlearn: 0.1496504\ttotal: 120ms\tremaining: 5.32s\n",
            "22:\tlearn: 0.1450869\ttotal: 125ms\tremaining: 5.33s\n",
            "23:\tlearn: 0.1408646\ttotal: 131ms\tremaining: 5.33s\n",
            "24:\tlearn: 0.1384010\ttotal: 137ms\tremaining: 5.33s\n",
            "25:\tlearn: 0.1366158\ttotal: 140ms\tremaining: 5.23s\n",
            "26:\tlearn: 0.1339148\ttotal: 146ms\tremaining: 5.25s\n",
            "27:\tlearn: 0.1312918\ttotal: 151ms\tremaining: 5.23s\n",
            "28:\tlearn: 0.1287050\ttotal: 156ms\tremaining: 5.23s\n",
            "29:\tlearn: 0.1264834\ttotal: 162ms\tremaining: 5.25s\n",
            "30:\tlearn: 0.1240111\ttotal: 168ms\tremaining: 5.26s\n",
            "31:\tlearn: 0.1219718\ttotal: 174ms\tremaining: 5.25s\n",
            "32:\tlearn: 0.1201713\ttotal: 179ms\tremaining: 5.24s\n",
            "33:\tlearn: 0.1188338\ttotal: 184ms\tremaining: 5.22s\n",
            "34:\tlearn: 0.1174195\ttotal: 193ms\tremaining: 5.31s\n",
            "35:\tlearn: 0.1158357\ttotal: 200ms\tremaining: 5.36s\n",
            "36:\tlearn: 0.1143732\ttotal: 206ms\tremaining: 5.35s\n",
            "37:\tlearn: 0.1130369\ttotal: 211ms\tremaining: 5.33s\n",
            "38:\tlearn: 0.1121908\ttotal: 216ms\tremaining: 5.31s\n",
            "39:\tlearn: 0.1114186\ttotal: 221ms\tremaining: 5.29s\n",
            "40:\tlearn: 0.1103074\ttotal: 225ms\tremaining: 5.27s\n",
            "41:\tlearn: 0.1092338\ttotal: 231ms\tremaining: 5.26s\n",
            "42:\tlearn: 0.1085650\ttotal: 237ms\tremaining: 5.26s\n",
            "43:\tlearn: 0.1077871\ttotal: 243ms\tremaining: 5.28s\n",
            "44:\tlearn: 0.1071217\ttotal: 248ms\tremaining: 5.26s\n",
            "45:\tlearn: 0.1063135\ttotal: 253ms\tremaining: 5.25s\n",
            "46:\tlearn: 0.1059328\ttotal: 258ms\tremaining: 5.23s\n",
            "47:\tlearn: 0.1050962\ttotal: 263ms\tremaining: 5.22s\n",
            "48:\tlearn: 0.1046023\ttotal: 268ms\tremaining: 5.2s\n",
            "49:\tlearn: 0.1041233\ttotal: 273ms\tremaining: 5.19s\n",
            "50:\tlearn: 0.1034407\ttotal: 279ms\tremaining: 5.18s\n",
            "51:\tlearn: 0.1031687\ttotal: 284ms\tremaining: 5.17s\n",
            "52:\tlearn: 0.1025210\ttotal: 289ms\tremaining: 5.16s\n",
            "53:\tlearn: 0.1017845\ttotal: 294ms\tremaining: 5.15s\n",
            "54:\tlearn: 0.1013123\ttotal: 299ms\tremaining: 5.14s\n",
            "55:\tlearn: 0.1009452\ttotal: 304ms\tremaining: 5.13s\n",
            "56:\tlearn: 0.1007168\ttotal: 310ms\tremaining: 5.13s\n",
            "57:\tlearn: 0.1003844\ttotal: 315ms\tremaining: 5.12s\n",
            "58:\tlearn: 0.1001174\ttotal: 320ms\tremaining: 5.11s\n",
            "59:\tlearn: 0.0998228\ttotal: 326ms\tremaining: 5.11s\n",
            "60:\tlearn: 0.0995887\ttotal: 332ms\tremaining: 5.1s\n",
            "61:\tlearn: 0.0993952\ttotal: 337ms\tremaining: 5.1s\n",
            "62:\tlearn: 0.0990708\ttotal: 343ms\tremaining: 5.09s\n",
            "63:\tlearn: 0.0988660\ttotal: 348ms\tremaining: 5.09s\n",
            "64:\tlearn: 0.0985401\ttotal: 354ms\tremaining: 5.08s\n",
            "65:\tlearn: 0.0982059\ttotal: 359ms\tremaining: 5.08s\n",
            "66:\tlearn: 0.0979768\ttotal: 365ms\tremaining: 5.08s\n",
            "67:\tlearn: 0.0976772\ttotal: 371ms\tremaining: 5.08s\n",
            "68:\tlearn: 0.0973304\ttotal: 376ms\tremaining: 5.08s\n",
            "69:\tlearn: 0.0971059\ttotal: 382ms\tremaining: 5.08s\n",
            "70:\tlearn: 0.0969119\ttotal: 391ms\tremaining: 5.12s\n",
            "71:\tlearn: 0.0965778\ttotal: 397ms\tremaining: 5.11s\n",
            "72:\tlearn: 0.0964277\ttotal: 402ms\tremaining: 5.1s\n",
            "73:\tlearn: 0.0961695\ttotal: 407ms\tremaining: 5.09s\n",
            "74:\tlearn: 0.0958106\ttotal: 412ms\tremaining: 5.08s\n",
            "75:\tlearn: 0.0955068\ttotal: 417ms\tremaining: 5.07s\n",
            "76:\tlearn: 0.0952510\ttotal: 422ms\tremaining: 5.06s\n",
            "77:\tlearn: 0.0949957\ttotal: 427ms\tremaining: 5.05s\n",
            "78:\tlearn: 0.0947511\ttotal: 433ms\tremaining: 5.04s\n",
            "79:\tlearn: 0.0946224\ttotal: 438ms\tremaining: 5.04s\n",
            "80:\tlearn: 0.0944733\ttotal: 443ms\tremaining: 5.03s\n",
            "81:\tlearn: 0.0943888\ttotal: 448ms\tremaining: 5.01s\n",
            "82:\tlearn: 0.0942022\ttotal: 455ms\tremaining: 5.03s\n",
            "83:\tlearn: 0.0941108\ttotal: 462ms\tremaining: 5.03s\n",
            "84:\tlearn: 0.0939122\ttotal: 467ms\tremaining: 5.03s\n",
            "85:\tlearn: 0.0937830\ttotal: 473ms\tremaining: 5.02s\n",
            "86:\tlearn: 0.0936079\ttotal: 478ms\tremaining: 5.02s\n",
            "87:\tlearn: 0.0934474\ttotal: 484ms\tremaining: 5.02s\n",
            "88:\tlearn: 0.0933774\ttotal: 490ms\tremaining: 5.01s\n",
            "89:\tlearn: 0.0929951\ttotal: 495ms\tremaining: 5s\n",
            "90:\tlearn: 0.0928621\ttotal: 501ms\tremaining: 5s\n",
            "91:\tlearn: 0.0926313\ttotal: 507ms\tremaining: 5s\n",
            "92:\tlearn: 0.0925110\ttotal: 512ms\tremaining: 4.99s\n",
            "93:\tlearn: 0.0923633\ttotal: 517ms\tremaining: 4.98s\n",
            "94:\tlearn: 0.0922323\ttotal: 522ms\tremaining: 4.97s\n",
            "95:\tlearn: 0.0920588\ttotal: 527ms\tremaining: 4.96s\n",
            "96:\tlearn: 0.0919063\ttotal: 533ms\tremaining: 4.96s\n",
            "97:\tlearn: 0.0916833\ttotal: 538ms\tremaining: 4.95s\n",
            "98:\tlearn: 0.0915529\ttotal: 543ms\tremaining: 4.94s\n",
            "99:\tlearn: 0.0914490\ttotal: 548ms\tremaining: 4.94s\n",
            "100:\tlearn: 0.0912057\ttotal: 554ms\tremaining: 4.93s\n",
            "101:\tlearn: 0.0910513\ttotal: 560ms\tremaining: 4.93s\n",
            "102:\tlearn: 0.0907855\ttotal: 565ms\tremaining: 4.92s\n",
            "103:\tlearn: 0.0905949\ttotal: 571ms\tremaining: 4.92s\n",
            "104:\tlearn: 0.0904322\ttotal: 577ms\tremaining: 4.92s\n",
            "105:\tlearn: 0.0902745\ttotal: 585ms\tremaining: 4.93s\n",
            "106:\tlearn: 0.0901649\ttotal: 592ms\tremaining: 4.94s\n",
            "107:\tlearn: 0.0900097\ttotal: 597ms\tremaining: 4.93s\n",
            "108:\tlearn: 0.0898897\ttotal: 603ms\tremaining: 4.93s\n",
            "109:\tlearn: 0.0897299\ttotal: 609ms\tremaining: 4.92s\n",
            "110:\tlearn: 0.0896107\ttotal: 614ms\tremaining: 4.91s\n",
            "111:\tlearn: 0.0895389\ttotal: 620ms\tremaining: 4.91s\n",
            "112:\tlearn: 0.0894176\ttotal: 625ms\tremaining: 4.91s\n",
            "113:\tlearn: 0.0892957\ttotal: 630ms\tremaining: 4.9s\n",
            "114:\tlearn: 0.0890610\ttotal: 636ms\tremaining: 4.89s\n",
            "115:\tlearn: 0.0889502\ttotal: 641ms\tremaining: 4.89s\n",
            "116:\tlearn: 0.0887985\ttotal: 647ms\tremaining: 4.88s\n",
            "117:\tlearn: 0.0887247\ttotal: 652ms\tremaining: 4.88s\n",
            "118:\tlearn: 0.0885746\ttotal: 658ms\tremaining: 4.87s\n",
            "119:\tlearn: 0.0884967\ttotal: 663ms\tremaining: 4.86s\n",
            "120:\tlearn: 0.0883925\ttotal: 669ms\tremaining: 4.86s\n",
            "121:\tlearn: 0.0882833\ttotal: 674ms\tremaining: 4.85s\n",
            "122:\tlearn: 0.0880573\ttotal: 679ms\tremaining: 4.84s\n",
            "123:\tlearn: 0.0879446\ttotal: 685ms\tremaining: 4.84s\n",
            "124:\tlearn: 0.0878248\ttotal: 690ms\tremaining: 4.83s\n",
            "125:\tlearn: 0.0877608\ttotal: 695ms\tremaining: 4.82s\n",
            "126:\tlearn: 0.0876618\ttotal: 701ms\tremaining: 4.82s\n",
            "127:\tlearn: 0.0875703\ttotal: 706ms\tremaining: 4.81s\n",
            "128:\tlearn: 0.0874606\ttotal: 712ms\tremaining: 4.81s\n",
            "129:\tlearn: 0.0872446\ttotal: 717ms\tremaining: 4.8s\n",
            "130:\tlearn: 0.0871631\ttotal: 723ms\tremaining: 4.79s\n",
            "131:\tlearn: 0.0870775\ttotal: 728ms\tremaining: 4.79s\n",
            "132:\tlearn: 0.0869957\ttotal: 734ms\tremaining: 4.78s\n",
            "133:\tlearn: 0.0868597\ttotal: 739ms\tremaining: 4.78s\n",
            "134:\tlearn: 0.0867149\ttotal: 745ms\tremaining: 4.77s\n",
            "135:\tlearn: 0.0866012\ttotal: 750ms\tremaining: 4.76s\n",
            "136:\tlearn: 0.0865498\ttotal: 756ms\tremaining: 4.76s\n",
            "137:\tlearn: 0.0864451\ttotal: 762ms\tremaining: 4.76s\n",
            "138:\tlearn: 0.0863309\ttotal: 769ms\tremaining: 4.76s\n",
            "139:\tlearn: 0.0862480\ttotal: 783ms\tremaining: 4.81s\n",
            "140:\tlearn: 0.0861769\ttotal: 789ms\tremaining: 4.8s\n",
            "141:\tlearn: 0.0860398\ttotal: 794ms\tremaining: 4.8s\n",
            "142:\tlearn: 0.0858448\ttotal: 799ms\tremaining: 4.79s\n",
            "143:\tlearn: 0.0857649\ttotal: 804ms\tremaining: 4.78s\n",
            "144:\tlearn: 0.0856004\ttotal: 810ms\tremaining: 4.78s\n",
            "145:\tlearn: 0.0855491\ttotal: 816ms\tremaining: 4.77s\n",
            "146:\tlearn: 0.0854812\ttotal: 821ms\tremaining: 4.76s\n",
            "147:\tlearn: 0.0854046\ttotal: 827ms\tremaining: 4.76s\n",
            "148:\tlearn: 0.0853242\ttotal: 832ms\tremaining: 4.75s\n",
            "149:\tlearn: 0.0852314\ttotal: 837ms\tremaining: 4.74s\n",
            "150:\tlearn: 0.0851014\ttotal: 842ms\tremaining: 4.73s\n",
            "151:\tlearn: 0.0850235\ttotal: 847ms\tremaining: 4.73s\n",
            "152:\tlearn: 0.0849668\ttotal: 853ms\tremaining: 4.72s\n",
            "153:\tlearn: 0.0848396\ttotal: 858ms\tremaining: 4.71s\n",
            "154:\tlearn: 0.0847913\ttotal: 863ms\tremaining: 4.7s\n",
            "155:\tlearn: 0.0846143\ttotal: 868ms\tremaining: 4.7s\n",
            "156:\tlearn: 0.0845505\ttotal: 874ms\tremaining: 4.69s\n",
            "157:\tlearn: 0.0844673\ttotal: 879ms\tremaining: 4.68s\n",
            "158:\tlearn: 0.0843109\ttotal: 885ms\tremaining: 4.68s\n",
            "159:\tlearn: 0.0841972\ttotal: 890ms\tremaining: 4.67s\n",
            "160:\tlearn: 0.0841354\ttotal: 898ms\tremaining: 4.68s\n",
            "161:\tlearn: 0.0840385\ttotal: 904ms\tremaining: 4.68s\n",
            "162:\tlearn: 0.0839997\ttotal: 912ms\tremaining: 4.68s\n",
            "163:\tlearn: 0.0839518\ttotal: 918ms\tremaining: 4.68s\n",
            "164:\tlearn: 0.0839286\ttotal: 924ms\tremaining: 4.68s\n",
            "165:\tlearn: 0.0838659\ttotal: 930ms\tremaining: 4.67s\n",
            "166:\tlearn: 0.0838007\ttotal: 935ms\tremaining: 4.67s\n",
            "167:\tlearn: 0.0837110\ttotal: 941ms\tremaining: 4.66s\n",
            "168:\tlearn: 0.0836798\ttotal: 946ms\tremaining: 4.65s\n",
            "169:\tlearn: 0.0836242\ttotal: 951ms\tremaining: 4.64s\n",
            "170:\tlearn: 0.0833078\ttotal: 958ms\tremaining: 4.64s\n",
            "171:\tlearn: 0.0830991\ttotal: 965ms\tremaining: 4.65s\n",
            "172:\tlearn: 0.0829621\ttotal: 970ms\tremaining: 4.64s\n",
            "173:\tlearn: 0.0828599\ttotal: 978ms\tremaining: 4.64s\n",
            "174:\tlearn: 0.0828331\ttotal: 984ms\tremaining: 4.64s\n",
            "175:\tlearn: 0.0826888\ttotal: 989ms\tremaining: 4.63s\n",
            "176:\tlearn: 0.0826276\ttotal: 994ms\tremaining: 4.62s\n",
            "177:\tlearn: 0.0824444\ttotal: 1s\tremaining: 4.63s\n",
            "178:\tlearn: 0.0823659\ttotal: 1.01s\tremaining: 4.63s\n",
            "179:\tlearn: 0.0823062\ttotal: 1.01s\tremaining: 4.62s\n",
            "180:\tlearn: 0.0822560\ttotal: 1.02s\tremaining: 4.61s\n",
            "181:\tlearn: 0.0821184\ttotal: 1.02s\tremaining: 4.61s\n",
            "182:\tlearn: 0.0820843\ttotal: 1.03s\tremaining: 4.6s\n",
            "183:\tlearn: 0.0820516\ttotal: 1.04s\tremaining: 4.59s\n",
            "184:\tlearn: 0.0819763\ttotal: 1.04s\tremaining: 4.59s\n",
            "185:\tlearn: 0.0818871\ttotal: 1.05s\tremaining: 4.58s\n",
            "186:\tlearn: 0.0818342\ttotal: 1.05s\tremaining: 4.57s\n",
            "187:\tlearn: 0.0817113\ttotal: 1.06s\tremaining: 4.57s\n",
            "188:\tlearn: 0.0816498\ttotal: 1.06s\tremaining: 4.56s\n",
            "189:\tlearn: 0.0816052\ttotal: 1.07s\tremaining: 4.55s\n",
            "190:\tlearn: 0.0815643\ttotal: 1.07s\tremaining: 4.55s\n",
            "191:\tlearn: 0.0815320\ttotal: 1.08s\tremaining: 4.54s\n",
            "192:\tlearn: 0.0814725\ttotal: 1.08s\tremaining: 4.53s\n",
            "193:\tlearn: 0.0812863\ttotal: 1.09s\tremaining: 4.52s\n",
            "194:\tlearn: 0.0811812\ttotal: 1.09s\tremaining: 4.52s\n",
            "195:\tlearn: 0.0811378\ttotal: 1.1s\tremaining: 4.52s\n",
            "196:\tlearn: 0.0809795\ttotal: 1.11s\tremaining: 4.51s\n",
            "197:\tlearn: 0.0809503\ttotal: 1.11s\tremaining: 4.51s\n",
            "198:\tlearn: 0.0808919\ttotal: 1.12s\tremaining: 4.5s\n",
            "199:\tlearn: 0.0808533\ttotal: 1.12s\tremaining: 4.5s\n",
            "200:\tlearn: 0.0808163\ttotal: 1.13s\tremaining: 4.49s\n",
            "201:\tlearn: 0.0807716\ttotal: 1.14s\tremaining: 4.48s\n",
            "202:\tlearn: 0.0807025\ttotal: 1.14s\tremaining: 4.48s\n",
            "203:\tlearn: 0.0804395\ttotal: 1.15s\tremaining: 4.48s\n",
            "204:\tlearn: 0.0803292\ttotal: 1.15s\tremaining: 4.47s\n",
            "205:\tlearn: 0.0802953\ttotal: 1.16s\tremaining: 4.46s\n",
            "206:\tlearn: 0.0802320\ttotal: 1.16s\tremaining: 4.46s\n",
            "207:\tlearn: 0.0801231\ttotal: 1.17s\tremaining: 4.46s\n",
            "208:\tlearn: 0.0801040\ttotal: 1.18s\tremaining: 4.45s\n",
            "209:\tlearn: 0.0800324\ttotal: 1.18s\tremaining: 4.45s\n",
            "210:\tlearn: 0.0798582\ttotal: 1.19s\tremaining: 4.44s\n",
            "211:\tlearn: 0.0798032\ttotal: 1.19s\tremaining: 4.44s\n",
            "212:\tlearn: 0.0797460\ttotal: 1.2s\tremaining: 4.43s\n",
            "213:\tlearn: 0.0796666\ttotal: 1.2s\tremaining: 4.42s\n",
            "214:\tlearn: 0.0796354\ttotal: 1.21s\tremaining: 4.42s\n",
            "215:\tlearn: 0.0795392\ttotal: 1.21s\tremaining: 4.41s\n",
            "216:\tlearn: 0.0795117\ttotal: 1.22s\tremaining: 4.4s\n",
            "217:\tlearn: 0.0794077\ttotal: 1.23s\tremaining: 4.39s\n",
            "218:\tlearn: 0.0793623\ttotal: 1.23s\tremaining: 4.39s\n",
            "219:\tlearn: 0.0793277\ttotal: 1.24s\tremaining: 4.38s\n",
            "220:\tlearn: 0.0792502\ttotal: 1.24s\tremaining: 4.38s\n",
            "221:\tlearn: 0.0792009\ttotal: 1.25s\tremaining: 4.37s\n",
            "222:\tlearn: 0.0791176\ttotal: 1.25s\tremaining: 4.37s\n",
            "223:\tlearn: 0.0790246\ttotal: 1.26s\tremaining: 4.36s\n",
            "224:\tlearn: 0.0789400\ttotal: 1.26s\tremaining: 4.35s\n",
            "225:\tlearn: 0.0789045\ttotal: 1.27s\tremaining: 4.35s\n",
            "226:\tlearn: 0.0788218\ttotal: 1.27s\tremaining: 4.34s\n",
            "227:\tlearn: 0.0787980\ttotal: 1.28s\tremaining: 4.33s\n",
            "228:\tlearn: 0.0787211\ttotal: 1.28s\tremaining: 4.33s\n",
            "229:\tlearn: 0.0786806\ttotal: 1.29s\tremaining: 4.32s\n",
            "230:\tlearn: 0.0786436\ttotal: 1.3s\tremaining: 4.32s\n",
            "231:\tlearn: 0.0785559\ttotal: 1.3s\tremaining: 4.31s\n",
            "232:\tlearn: 0.0784820\ttotal: 1.31s\tremaining: 4.31s\n",
            "233:\tlearn: 0.0783517\ttotal: 1.31s\tremaining: 4.3s\n",
            "234:\tlearn: 0.0782845\ttotal: 1.32s\tremaining: 4.3s\n",
            "235:\tlearn: 0.0782636\ttotal: 1.32s\tremaining: 4.29s\n",
            "236:\tlearn: 0.0781956\ttotal: 1.33s\tremaining: 4.28s\n",
            "237:\tlearn: 0.0781390\ttotal: 1.33s\tremaining: 4.28s\n",
            "238:\tlearn: 0.0781021\ttotal: 1.34s\tremaining: 4.27s\n",
            "239:\tlearn: 0.0780513\ttotal: 1.35s\tremaining: 4.26s\n",
            "240:\tlearn: 0.0779802\ttotal: 1.35s\tremaining: 4.26s\n",
            "241:\tlearn: 0.0779386\ttotal: 1.36s\tremaining: 4.26s\n",
            "242:\tlearn: 0.0779022\ttotal: 1.37s\tremaining: 4.26s\n",
            "243:\tlearn: 0.0778362\ttotal: 1.37s\tremaining: 4.25s\n",
            "244:\tlearn: 0.0778078\ttotal: 1.38s\tremaining: 4.25s\n",
            "245:\tlearn: 0.0777336\ttotal: 1.38s\tremaining: 4.24s\n",
            "246:\tlearn: 0.0775773\ttotal: 1.39s\tremaining: 4.23s\n",
            "247:\tlearn: 0.0775536\ttotal: 1.39s\tremaining: 4.23s\n",
            "248:\tlearn: 0.0775342\ttotal: 1.4s\tremaining: 4.22s\n",
            "249:\tlearn: 0.0774503\ttotal: 1.4s\tremaining: 4.21s\n",
            "250:\tlearn: 0.0774223\ttotal: 1.41s\tremaining: 4.21s\n",
            "251:\tlearn: 0.0773448\ttotal: 1.42s\tremaining: 4.2s\n",
            "252:\tlearn: 0.0772655\ttotal: 1.42s\tremaining: 4.19s\n",
            "253:\tlearn: 0.0772002\ttotal: 1.43s\tremaining: 4.19s\n",
            "254:\tlearn: 0.0771421\ttotal: 1.43s\tremaining: 4.18s\n",
            "255:\tlearn: 0.0770977\ttotal: 1.44s\tremaining: 4.17s\n",
            "256:\tlearn: 0.0770387\ttotal: 1.44s\tremaining: 4.17s\n",
            "257:\tlearn: 0.0769796\ttotal: 1.45s\tremaining: 4.16s\n",
            "258:\tlearn: 0.0769520\ttotal: 1.45s\tremaining: 4.16s\n",
            "259:\tlearn: 0.0768793\ttotal: 1.46s\tremaining: 4.15s\n",
            "260:\tlearn: 0.0767665\ttotal: 1.46s\tremaining: 4.14s\n",
            "261:\tlearn: 0.0767263\ttotal: 1.47s\tremaining: 4.14s\n",
            "262:\tlearn: 0.0767153\ttotal: 1.47s\tremaining: 4.13s\n",
            "263:\tlearn: 0.0766491\ttotal: 1.48s\tremaining: 4.12s\n",
            "264:\tlearn: 0.0765842\ttotal: 1.48s\tremaining: 4.12s\n",
            "265:\tlearn: 0.0765244\ttotal: 1.49s\tremaining: 4.11s\n",
            "266:\tlearn: 0.0764724\ttotal: 1.49s\tremaining: 4.1s\n",
            "267:\tlearn: 0.0764394\ttotal: 1.5s\tremaining: 4.1s\n",
            "268:\tlearn: 0.0764020\ttotal: 1.51s\tremaining: 4.09s\n",
            "269:\tlearn: 0.0763426\ttotal: 1.51s\tremaining: 4.09s\n",
            "270:\tlearn: 0.0762471\ttotal: 1.52s\tremaining: 4.08s\n",
            "271:\tlearn: 0.0761926\ttotal: 1.52s\tremaining: 4.08s\n",
            "272:\tlearn: 0.0761562\ttotal: 1.53s\tremaining: 4.08s\n",
            "273:\tlearn: 0.0761166\ttotal: 1.53s\tremaining: 4.07s\n",
            "274:\tlearn: 0.0760744\ttotal: 1.54s\tremaining: 4.06s\n",
            "275:\tlearn: 0.0760132\ttotal: 1.55s\tremaining: 4.06s\n",
            "276:\tlearn: 0.0759608\ttotal: 1.55s\tremaining: 4.06s\n",
            "277:\tlearn: 0.0759085\ttotal: 1.56s\tremaining: 4.05s\n",
            "278:\tlearn: 0.0758316\ttotal: 1.57s\tremaining: 4.05s\n",
            "279:\tlearn: 0.0757863\ttotal: 1.57s\tremaining: 4.04s\n",
            "280:\tlearn: 0.0757355\ttotal: 1.58s\tremaining: 4.04s\n",
            "281:\tlearn: 0.0756448\ttotal: 1.58s\tremaining: 4.03s\n",
            "282:\tlearn: 0.0756083\ttotal: 1.59s\tremaining: 4.02s\n",
            "283:\tlearn: 0.0755540\ttotal: 1.59s\tremaining: 4.02s\n",
            "284:\tlearn: 0.0755064\ttotal: 1.6s\tremaining: 4.01s\n",
            "285:\tlearn: 0.0754782\ttotal: 1.6s\tremaining: 4s\n",
            "286:\tlearn: 0.0754227\ttotal: 1.61s\tremaining: 4s\n",
            "287:\tlearn: 0.0753926\ttotal: 1.61s\tremaining: 3.99s\n",
            "288:\tlearn: 0.0753484\ttotal: 1.62s\tremaining: 3.99s\n",
            "289:\tlearn: 0.0753146\ttotal: 1.63s\tremaining: 3.98s\n",
            "290:\tlearn: 0.0752945\ttotal: 1.63s\tremaining: 3.97s\n",
            "291:\tlearn: 0.0751694\ttotal: 1.64s\tremaining: 3.97s\n",
            "292:\tlearn: 0.0751249\ttotal: 1.64s\tremaining: 3.97s\n",
            "293:\tlearn: 0.0749860\ttotal: 1.65s\tremaining: 3.97s\n",
            "294:\tlearn: 0.0749719\ttotal: 1.66s\tremaining: 3.96s\n",
            "295:\tlearn: 0.0749342\ttotal: 1.66s\tremaining: 3.95s\n",
            "296:\tlearn: 0.0748894\ttotal: 1.67s\tremaining: 3.95s\n",
            "297:\tlearn: 0.0747938\ttotal: 1.67s\tremaining: 3.94s\n",
            "298:\tlearn: 0.0747495\ttotal: 1.68s\tremaining: 3.93s\n",
            "299:\tlearn: 0.0746732\ttotal: 1.68s\tremaining: 3.93s\n",
            "300:\tlearn: 0.0745817\ttotal: 1.69s\tremaining: 3.92s\n",
            "301:\tlearn: 0.0745313\ttotal: 1.7s\tremaining: 3.92s\n",
            "302:\tlearn: 0.0744925\ttotal: 1.7s\tremaining: 3.91s\n",
            "303:\tlearn: 0.0743776\ttotal: 1.71s\tremaining: 3.91s\n",
            "304:\tlearn: 0.0743512\ttotal: 1.71s\tremaining: 3.9s\n",
            "305:\tlearn: 0.0743005\ttotal: 1.72s\tremaining: 3.9s\n",
            "306:\tlearn: 0.0742755\ttotal: 1.72s\tremaining: 3.89s\n",
            "307:\tlearn: 0.0742447\ttotal: 1.73s\tremaining: 3.88s\n",
            "308:\tlearn: 0.0742203\ttotal: 1.73s\tremaining: 3.88s\n",
            "309:\tlearn: 0.0741959\ttotal: 1.74s\tremaining: 3.87s\n",
            "310:\tlearn: 0.0741733\ttotal: 1.74s\tremaining: 3.86s\n",
            "311:\tlearn: 0.0741450\ttotal: 1.75s\tremaining: 3.86s\n",
            "312:\tlearn: 0.0740884\ttotal: 1.75s\tremaining: 3.85s\n",
            "313:\tlearn: 0.0740198\ttotal: 1.76s\tremaining: 3.85s\n",
            "314:\tlearn: 0.0739786\ttotal: 1.77s\tremaining: 3.84s\n",
            "315:\tlearn: 0.0739405\ttotal: 1.77s\tremaining: 3.83s\n",
            "316:\tlearn: 0.0738790\ttotal: 1.78s\tremaining: 3.83s\n",
            "317:\tlearn: 0.0737817\ttotal: 1.78s\tremaining: 3.82s\n",
            "318:\tlearn: 0.0737599\ttotal: 1.79s\tremaining: 3.82s\n",
            "319:\tlearn: 0.0737309\ttotal: 1.79s\tremaining: 3.81s\n",
            "320:\tlearn: 0.0737132\ttotal: 1.8s\tremaining: 3.81s\n",
            "321:\tlearn: 0.0736307\ttotal: 1.81s\tremaining: 3.81s\n",
            "322:\tlearn: 0.0735996\ttotal: 1.81s\tremaining: 3.8s\n",
            "323:\tlearn: 0.0735904\ttotal: 1.82s\tremaining: 3.79s\n",
            "324:\tlearn: 0.0735416\ttotal: 1.82s\tremaining: 3.79s\n",
            "325:\tlearn: 0.0735043\ttotal: 1.83s\tremaining: 3.78s\n",
            "326:\tlearn: 0.0733962\ttotal: 1.84s\tremaining: 3.78s\n",
            "327:\tlearn: 0.0733521\ttotal: 1.84s\tremaining: 3.77s\n",
            "328:\tlearn: 0.0733449\ttotal: 1.85s\tremaining: 3.77s\n",
            "329:\tlearn: 0.0733093\ttotal: 1.86s\tremaining: 3.77s\n",
            "330:\tlearn: 0.0732896\ttotal: 1.87s\tremaining: 3.77s\n",
            "331:\tlearn: 0.0732463\ttotal: 1.87s\tremaining: 3.77s\n",
            "332:\tlearn: 0.0731389\ttotal: 1.88s\tremaining: 3.76s\n",
            "333:\tlearn: 0.0730789\ttotal: 1.88s\tremaining: 3.76s\n",
            "334:\tlearn: 0.0729728\ttotal: 1.89s\tremaining: 3.75s\n",
            "335:\tlearn: 0.0729117\ttotal: 1.9s\tremaining: 3.75s\n",
            "336:\tlearn: 0.0728809\ttotal: 1.9s\tremaining: 3.74s\n",
            "337:\tlearn: 0.0728424\ttotal: 1.91s\tremaining: 3.73s\n",
            "338:\tlearn: 0.0728303\ttotal: 1.91s\tremaining: 3.73s\n",
            "339:\tlearn: 0.0727875\ttotal: 1.92s\tremaining: 3.72s\n",
            "340:\tlearn: 0.0727544\ttotal: 1.92s\tremaining: 3.71s\n",
            "341:\tlearn: 0.0726261\ttotal: 1.93s\tremaining: 3.71s\n",
            "342:\tlearn: 0.0726073\ttotal: 1.93s\tremaining: 3.71s\n",
            "343:\tlearn: 0.0725668\ttotal: 1.94s\tremaining: 3.7s\n",
            "344:\tlearn: 0.0725359\ttotal: 1.95s\tremaining: 3.7s\n",
            "345:\tlearn: 0.0725147\ttotal: 1.95s\tremaining: 3.69s\n",
            "346:\tlearn: 0.0724861\ttotal: 1.96s\tremaining: 3.68s\n",
            "347:\tlearn: 0.0724724\ttotal: 1.96s\tremaining: 3.68s\n",
            "348:\tlearn: 0.0724075\ttotal: 1.97s\tremaining: 3.67s\n",
            "349:\tlearn: 0.0723681\ttotal: 1.97s\tremaining: 3.66s\n",
            "350:\tlearn: 0.0723343\ttotal: 1.98s\tremaining: 3.66s\n",
            "351:\tlearn: 0.0722954\ttotal: 1.99s\tremaining: 3.65s\n",
            "352:\tlearn: 0.0722704\ttotal: 1.99s\tremaining: 3.65s\n",
            "353:\tlearn: 0.0721543\ttotal: 2s\tremaining: 3.64s\n",
            "354:\tlearn: 0.0721184\ttotal: 2s\tremaining: 3.64s\n",
            "355:\tlearn: 0.0720944\ttotal: 2.01s\tremaining: 3.63s\n",
            "356:\tlearn: 0.0720664\ttotal: 2.01s\tremaining: 3.62s\n",
            "357:\tlearn: 0.0720250\ttotal: 2.02s\tremaining: 3.62s\n",
            "358:\tlearn: 0.0720191\ttotal: 2.02s\tremaining: 3.61s\n",
            "359:\tlearn: 0.0719864\ttotal: 2.03s\tremaining: 3.6s\n",
            "360:\tlearn: 0.0719417\ttotal: 2.03s\tremaining: 3.6s\n",
            "361:\tlearn: 0.0719060\ttotal: 2.04s\tremaining: 3.59s\n",
            "362:\tlearn: 0.0718594\ttotal: 2.04s\tremaining: 3.59s\n",
            "363:\tlearn: 0.0718066\ttotal: 2.05s\tremaining: 3.58s\n",
            "364:\tlearn: 0.0717400\ttotal: 2.05s\tremaining: 3.57s\n",
            "365:\tlearn: 0.0716368\ttotal: 2.06s\tremaining: 3.57s\n",
            "366:\tlearn: 0.0716121\ttotal: 2.06s\tremaining: 3.56s\n",
            "367:\tlearn: 0.0715904\ttotal: 2.07s\tremaining: 3.56s\n",
            "368:\tlearn: 0.0715714\ttotal: 2.08s\tremaining: 3.55s\n",
            "369:\tlearn: 0.0715298\ttotal: 2.08s\tremaining: 3.54s\n",
            "370:\tlearn: 0.0715003\ttotal: 2.09s\tremaining: 3.54s\n",
            "371:\tlearn: 0.0714530\ttotal: 2.09s\tremaining: 3.53s\n",
            "372:\tlearn: 0.0714195\ttotal: 2.1s\tremaining: 3.53s\n",
            "373:\tlearn: 0.0713931\ttotal: 2.1s\tremaining: 3.52s\n",
            "374:\tlearn: 0.0713743\ttotal: 2.11s\tremaining: 3.52s\n",
            "375:\tlearn: 0.0713620\ttotal: 2.12s\tremaining: 3.51s\n",
            "376:\tlearn: 0.0713448\ttotal: 2.12s\tremaining: 3.51s\n",
            "377:\tlearn: 0.0712962\ttotal: 2.13s\tremaining: 3.5s\n",
            "378:\tlearn: 0.0712562\ttotal: 2.14s\tremaining: 3.5s\n",
            "379:\tlearn: 0.0711128\ttotal: 2.14s\tremaining: 3.49s\n",
            "380:\tlearn: 0.0710677\ttotal: 2.15s\tremaining: 3.49s\n",
            "381:\tlearn: 0.0710396\ttotal: 2.15s\tremaining: 3.48s\n",
            "382:\tlearn: 0.0709798\ttotal: 2.16s\tremaining: 3.48s\n",
            "383:\tlearn: 0.0709594\ttotal: 2.16s\tremaining: 3.47s\n",
            "384:\tlearn: 0.0709295\ttotal: 2.17s\tremaining: 3.46s\n",
            "385:\tlearn: 0.0709227\ttotal: 2.17s\tremaining: 3.46s\n",
            "386:\tlearn: 0.0709028\ttotal: 2.18s\tremaining: 3.45s\n",
            "387:\tlearn: 0.0708965\ttotal: 2.19s\tremaining: 3.45s\n",
            "388:\tlearn: 0.0708396\ttotal: 2.19s\tremaining: 3.44s\n",
            "389:\tlearn: 0.0708047\ttotal: 2.2s\tremaining: 3.44s\n",
            "390:\tlearn: 0.0707758\ttotal: 2.2s\tremaining: 3.43s\n",
            "391:\tlearn: 0.0707572\ttotal: 2.21s\tremaining: 3.42s\n",
            "392:\tlearn: 0.0707048\ttotal: 2.21s\tremaining: 3.42s\n",
            "393:\tlearn: 0.0706486\ttotal: 2.22s\tremaining: 3.41s\n",
            "394:\tlearn: 0.0706359\ttotal: 2.22s\tremaining: 3.41s\n",
            "395:\tlearn: 0.0706120\ttotal: 2.23s\tremaining: 3.4s\n",
            "396:\tlearn: 0.0705713\ttotal: 2.23s\tremaining: 3.4s\n",
            "397:\tlearn: 0.0705691\ttotal: 2.24s\tremaining: 3.39s\n",
            "398:\tlearn: 0.0705429\ttotal: 2.25s\tremaining: 3.38s\n",
            "399:\tlearn: 0.0705108\ttotal: 2.25s\tremaining: 3.38s\n",
            "400:\tlearn: 0.0704606\ttotal: 2.26s\tremaining: 3.37s\n",
            "401:\tlearn: 0.0704253\ttotal: 2.26s\tremaining: 3.37s\n",
            "402:\tlearn: 0.0703928\ttotal: 2.27s\tremaining: 3.36s\n",
            "403:\tlearn: 0.0703579\ttotal: 2.27s\tremaining: 3.35s\n",
            "404:\tlearn: 0.0703367\ttotal: 2.28s\tremaining: 3.35s\n",
            "405:\tlearn: 0.0703099\ttotal: 2.29s\tremaining: 3.34s\n",
            "406:\tlearn: 0.0702926\ttotal: 2.29s\tremaining: 3.34s\n",
            "407:\tlearn: 0.0701862\ttotal: 2.29s\tremaining: 3.33s\n",
            "408:\tlearn: 0.0701415\ttotal: 2.3s\tremaining: 3.32s\n",
            "409:\tlearn: 0.0701207\ttotal: 2.31s\tremaining: 3.32s\n",
            "410:\tlearn: 0.0700888\ttotal: 2.31s\tremaining: 3.31s\n",
            "411:\tlearn: 0.0700830\ttotal: 2.32s\tremaining: 3.31s\n",
            "412:\tlearn: 0.0700768\ttotal: 2.33s\tremaining: 3.31s\n",
            "413:\tlearn: 0.0700463\ttotal: 2.34s\tremaining: 3.31s\n",
            "414:\tlearn: 0.0699971\ttotal: 2.34s\tremaining: 3.3s\n",
            "415:\tlearn: 0.0699561\ttotal: 2.35s\tremaining: 3.3s\n",
            "416:\tlearn: 0.0699372\ttotal: 2.35s\tremaining: 3.29s\n",
            "417:\tlearn: 0.0699115\ttotal: 2.36s\tremaining: 3.29s\n",
            "418:\tlearn: 0.0698292\ttotal: 2.36s\tremaining: 3.28s\n",
            "419:\tlearn: 0.0698114\ttotal: 2.37s\tremaining: 3.27s\n",
            "420:\tlearn: 0.0698006\ttotal: 2.38s\tremaining: 3.27s\n",
            "421:\tlearn: 0.0697919\ttotal: 2.38s\tremaining: 3.26s\n",
            "422:\tlearn: 0.0697749\ttotal: 2.38s\tremaining: 3.25s\n",
            "423:\tlearn: 0.0697284\ttotal: 2.39s\tremaining: 3.25s\n",
            "424:\tlearn: 0.0697014\ttotal: 2.4s\tremaining: 3.24s\n",
            "425:\tlearn: 0.0696847\ttotal: 2.4s\tremaining: 3.24s\n",
            "426:\tlearn: 0.0695907\ttotal: 2.41s\tremaining: 3.23s\n",
            "427:\tlearn: 0.0695749\ttotal: 2.41s\tremaining: 3.23s\n",
            "428:\tlearn: 0.0695570\ttotal: 2.42s\tremaining: 3.22s\n",
            "429:\tlearn: 0.0695259\ttotal: 2.42s\tremaining: 3.21s\n",
            "430:\tlearn: 0.0694968\ttotal: 2.43s\tremaining: 3.21s\n",
            "431:\tlearn: 0.0694821\ttotal: 2.44s\tremaining: 3.2s\n",
            "432:\tlearn: 0.0694227\ttotal: 2.44s\tremaining: 3.2s\n",
            "433:\tlearn: 0.0694074\ttotal: 2.45s\tremaining: 3.19s\n",
            "434:\tlearn: 0.0693299\ttotal: 2.45s\tremaining: 3.18s\n",
            "435:\tlearn: 0.0692790\ttotal: 2.46s\tremaining: 3.18s\n",
            "436:\tlearn: 0.0692651\ttotal: 2.46s\tremaining: 3.17s\n",
            "437:\tlearn: 0.0692162\ttotal: 2.47s\tremaining: 3.17s\n",
            "438:\tlearn: 0.0691806\ttotal: 2.47s\tremaining: 3.16s\n",
            "439:\tlearn: 0.0691552\ttotal: 2.48s\tremaining: 3.16s\n",
            "440:\tlearn: 0.0691452\ttotal: 2.48s\tremaining: 3.15s\n",
            "441:\tlearn: 0.0690450\ttotal: 2.49s\tremaining: 3.14s\n",
            "442:\tlearn: 0.0690370\ttotal: 2.5s\tremaining: 3.14s\n",
            "443:\tlearn: 0.0689930\ttotal: 2.5s\tremaining: 3.13s\n",
            "444:\tlearn: 0.0689413\ttotal: 2.51s\tremaining: 3.13s\n",
            "445:\tlearn: 0.0688582\ttotal: 2.51s\tremaining: 3.12s\n",
            "446:\tlearn: 0.0687694\ttotal: 2.52s\tremaining: 3.11s\n",
            "447:\tlearn: 0.0686528\ttotal: 2.52s\tremaining: 3.11s\n",
            "448:\tlearn: 0.0686215\ttotal: 2.53s\tremaining: 3.1s\n",
            "449:\tlearn: 0.0685757\ttotal: 2.54s\tremaining: 3.1s\n",
            "450:\tlearn: 0.0685598\ttotal: 2.54s\tremaining: 3.09s\n",
            "451:\tlearn: 0.0685444\ttotal: 2.55s\tremaining: 3.09s\n",
            "452:\tlearn: 0.0685142\ttotal: 2.55s\tremaining: 3.08s\n",
            "453:\tlearn: 0.0684723\ttotal: 2.56s\tremaining: 3.08s\n",
            "454:\tlearn: 0.0684437\ttotal: 2.56s\tremaining: 3.07s\n",
            "455:\tlearn: 0.0684198\ttotal: 2.57s\tremaining: 3.06s\n",
            "456:\tlearn: 0.0683790\ttotal: 2.57s\tremaining: 3.06s\n",
            "457:\tlearn: 0.0683345\ttotal: 2.58s\tremaining: 3.05s\n",
            "458:\tlearn: 0.0682901\ttotal: 2.58s\tremaining: 3.05s\n",
            "459:\tlearn: 0.0682679\ttotal: 2.59s\tremaining: 3.04s\n",
            "460:\tlearn: 0.0682441\ttotal: 2.6s\tremaining: 3.03s\n",
            "461:\tlearn: 0.0681974\ttotal: 2.6s\tremaining: 3.03s\n",
            "462:\tlearn: 0.0681619\ttotal: 2.61s\tremaining: 3.02s\n",
            "463:\tlearn: 0.0681460\ttotal: 2.61s\tremaining: 3.02s\n",
            "464:\tlearn: 0.0680804\ttotal: 2.62s\tremaining: 3.01s\n",
            "465:\tlearn: 0.0680631\ttotal: 2.62s\tremaining: 3s\n",
            "466:\tlearn: 0.0680151\ttotal: 2.63s\tremaining: 3s\n",
            "467:\tlearn: 0.0679868\ttotal: 2.63s\tremaining: 2.99s\n",
            "468:\tlearn: 0.0679458\ttotal: 2.64s\tremaining: 2.99s\n",
            "469:\tlearn: 0.0679084\ttotal: 2.65s\tremaining: 2.98s\n",
            "470:\tlearn: 0.0678674\ttotal: 2.65s\tremaining: 2.98s\n",
            "471:\tlearn: 0.0678456\ttotal: 2.65s\tremaining: 2.97s\n",
            "472:\tlearn: 0.0678195\ttotal: 2.66s\tremaining: 2.97s\n",
            "473:\tlearn: 0.0677843\ttotal: 2.67s\tremaining: 2.96s\n",
            "474:\tlearn: 0.0677746\ttotal: 2.67s\tremaining: 2.96s\n",
            "475:\tlearn: 0.0677591\ttotal: 2.68s\tremaining: 2.95s\n",
            "476:\tlearn: 0.0677368\ttotal: 2.69s\tremaining: 2.94s\n",
            "477:\tlearn: 0.0677173\ttotal: 2.69s\tremaining: 2.94s\n",
            "478:\tlearn: 0.0676785\ttotal: 2.69s\tremaining: 2.93s\n",
            "479:\tlearn: 0.0676437\ttotal: 2.7s\tremaining: 2.93s\n",
            "480:\tlearn: 0.0676311\ttotal: 2.71s\tremaining: 2.92s\n",
            "481:\tlearn: 0.0675771\ttotal: 2.71s\tremaining: 2.91s\n",
            "482:\tlearn: 0.0675528\ttotal: 2.72s\tremaining: 2.91s\n",
            "483:\tlearn: 0.0675441\ttotal: 2.72s\tremaining: 2.9s\n",
            "484:\tlearn: 0.0675080\ttotal: 2.73s\tremaining: 2.9s\n",
            "485:\tlearn: 0.0674931\ttotal: 2.74s\tremaining: 2.9s\n",
            "486:\tlearn: 0.0674491\ttotal: 2.75s\tremaining: 2.89s\n",
            "487:\tlearn: 0.0673998\ttotal: 2.75s\tremaining: 2.89s\n",
            "488:\tlearn: 0.0673640\ttotal: 2.76s\tremaining: 2.88s\n",
            "489:\tlearn: 0.0673517\ttotal: 2.76s\tremaining: 2.88s\n",
            "490:\tlearn: 0.0673348\ttotal: 2.77s\tremaining: 2.87s\n",
            "491:\tlearn: 0.0673136\ttotal: 2.77s\tremaining: 2.86s\n",
            "492:\tlearn: 0.0672836\ttotal: 2.78s\tremaining: 2.86s\n",
            "493:\tlearn: 0.0672783\ttotal: 2.78s\tremaining: 2.85s\n",
            "494:\tlearn: 0.0672624\ttotal: 2.79s\tremaining: 2.85s\n",
            "495:\tlearn: 0.0672299\ttotal: 2.8s\tremaining: 2.84s\n",
            "496:\tlearn: 0.0672085\ttotal: 2.8s\tremaining: 2.83s\n",
            "497:\tlearn: 0.0671790\ttotal: 2.81s\tremaining: 2.83s\n",
            "498:\tlearn: 0.0671615\ttotal: 2.81s\tremaining: 2.82s\n",
            "499:\tlearn: 0.0671436\ttotal: 2.82s\tremaining: 2.82s\n",
            "500:\tlearn: 0.0671287\ttotal: 2.83s\tremaining: 2.81s\n",
            "501:\tlearn: 0.0670389\ttotal: 2.83s\tremaining: 2.81s\n",
            "502:\tlearn: 0.0670182\ttotal: 2.84s\tremaining: 2.81s\n",
            "503:\tlearn: 0.0669944\ttotal: 2.85s\tremaining: 2.8s\n",
            "504:\tlearn: 0.0669763\ttotal: 2.85s\tremaining: 2.79s\n",
            "505:\tlearn: 0.0669565\ttotal: 2.86s\tremaining: 2.79s\n",
            "506:\tlearn: 0.0669502\ttotal: 2.86s\tremaining: 2.78s\n",
            "507:\tlearn: 0.0668670\ttotal: 2.87s\tremaining: 2.78s\n",
            "508:\tlearn: 0.0668456\ttotal: 2.87s\tremaining: 2.77s\n",
            "509:\tlearn: 0.0668270\ttotal: 2.88s\tremaining: 2.76s\n",
            "510:\tlearn: 0.0668152\ttotal: 2.88s\tremaining: 2.76s\n",
            "511:\tlearn: 0.0667908\ttotal: 2.89s\tremaining: 2.75s\n",
            "512:\tlearn: 0.0667735\ttotal: 2.89s\tremaining: 2.75s\n",
            "513:\tlearn: 0.0667491\ttotal: 2.9s\tremaining: 2.74s\n",
            "514:\tlearn: 0.0667150\ttotal: 2.9s\tremaining: 2.73s\n",
            "515:\tlearn: 0.0666885\ttotal: 2.91s\tremaining: 2.73s\n",
            "516:\tlearn: 0.0666559\ttotal: 2.91s\tremaining: 2.72s\n",
            "517:\tlearn: 0.0666308\ttotal: 2.92s\tremaining: 2.71s\n",
            "518:\tlearn: 0.0666088\ttotal: 2.92s\tremaining: 2.71s\n",
            "519:\tlearn: 0.0665776\ttotal: 2.93s\tremaining: 2.71s\n",
            "520:\tlearn: 0.0665572\ttotal: 2.94s\tremaining: 2.7s\n",
            "521:\tlearn: 0.0665274\ttotal: 2.94s\tremaining: 2.69s\n",
            "522:\tlearn: 0.0664989\ttotal: 2.95s\tremaining: 2.69s\n",
            "523:\tlearn: 0.0664794\ttotal: 2.96s\tremaining: 2.68s\n",
            "524:\tlearn: 0.0664522\ttotal: 2.96s\tremaining: 2.68s\n",
            "525:\tlearn: 0.0664327\ttotal: 2.96s\tremaining: 2.67s\n",
            "526:\tlearn: 0.0664067\ttotal: 2.97s\tremaining: 2.67s\n",
            "527:\tlearn: 0.0663818\ttotal: 2.98s\tremaining: 2.66s\n",
            "528:\tlearn: 0.0663613\ttotal: 2.98s\tremaining: 2.65s\n",
            "529:\tlearn: 0.0663331\ttotal: 2.99s\tremaining: 2.65s\n",
            "530:\tlearn: 0.0663162\ttotal: 2.99s\tremaining: 2.64s\n",
            "531:\tlearn: 0.0662925\ttotal: 3s\tremaining: 2.64s\n",
            "532:\tlearn: 0.0662698\ttotal: 3s\tremaining: 2.63s\n",
            "533:\tlearn: 0.0662482\ttotal: 3.01s\tremaining: 2.63s\n",
            "534:\tlearn: 0.0662022\ttotal: 3.01s\tremaining: 2.62s\n",
            "535:\tlearn: 0.0661863\ttotal: 3.02s\tremaining: 2.61s\n",
            "536:\tlearn: 0.0661741\ttotal: 3.02s\tremaining: 2.61s\n",
            "537:\tlearn: 0.0661589\ttotal: 3.03s\tremaining: 2.6s\n",
            "538:\tlearn: 0.0661242\ttotal: 3.04s\tremaining: 2.6s\n",
            "539:\tlearn: 0.0661114\ttotal: 3.04s\tremaining: 2.59s\n",
            "540:\tlearn: 0.0660951\ttotal: 3.05s\tremaining: 2.58s\n",
            "541:\tlearn: 0.0660527\ttotal: 3.05s\tremaining: 2.58s\n",
            "542:\tlearn: 0.0659980\ttotal: 3.06s\tremaining: 2.57s\n",
            "543:\tlearn: 0.0659651\ttotal: 3.06s\tremaining: 2.57s\n",
            "544:\tlearn: 0.0659440\ttotal: 3.07s\tremaining: 2.56s\n",
            "545:\tlearn: 0.0659272\ttotal: 3.07s\tremaining: 2.56s\n",
            "546:\tlearn: 0.0659160\ttotal: 3.08s\tremaining: 2.55s\n",
            "547:\tlearn: 0.0658955\ttotal: 3.08s\tremaining: 2.54s\n",
            "548:\tlearn: 0.0658762\ttotal: 3.09s\tremaining: 2.54s\n",
            "549:\tlearn: 0.0658652\ttotal: 3.1s\tremaining: 2.53s\n",
            "550:\tlearn: 0.0658542\ttotal: 3.1s\tremaining: 2.53s\n",
            "551:\tlearn: 0.0657580\ttotal: 3.11s\tremaining: 2.52s\n",
            "552:\tlearn: 0.0657471\ttotal: 3.12s\tremaining: 2.52s\n",
            "553:\tlearn: 0.0657081\ttotal: 3.12s\tremaining: 2.51s\n",
            "554:\tlearn: 0.0656774\ttotal: 3.13s\tremaining: 2.51s\n",
            "555:\tlearn: 0.0656260\ttotal: 3.13s\tremaining: 2.5s\n",
            "556:\tlearn: 0.0656156\ttotal: 3.14s\tremaining: 2.5s\n",
            "557:\tlearn: 0.0655981\ttotal: 3.15s\tremaining: 2.49s\n",
            "558:\tlearn: 0.0655870\ttotal: 3.15s\tremaining: 2.49s\n",
            "559:\tlearn: 0.0655758\ttotal: 3.16s\tremaining: 2.48s\n",
            "560:\tlearn: 0.0655659\ttotal: 3.16s\tremaining: 2.48s\n",
            "561:\tlearn: 0.0655619\ttotal: 3.17s\tremaining: 2.47s\n",
            "562:\tlearn: 0.0654859\ttotal: 3.17s\tremaining: 2.46s\n",
            "563:\tlearn: 0.0654680\ttotal: 3.18s\tremaining: 2.46s\n",
            "564:\tlearn: 0.0654479\ttotal: 3.19s\tremaining: 2.45s\n",
            "565:\tlearn: 0.0653887\ttotal: 3.19s\tremaining: 2.45s\n",
            "566:\tlearn: 0.0653599\ttotal: 3.2s\tremaining: 2.44s\n",
            "567:\tlearn: 0.0653536\ttotal: 3.2s\tremaining: 2.44s\n",
            "568:\tlearn: 0.0653393\ttotal: 3.21s\tremaining: 2.43s\n",
            "569:\tlearn: 0.0653217\ttotal: 3.21s\tremaining: 2.42s\n",
            "570:\tlearn: 0.0652948\ttotal: 3.22s\tremaining: 2.42s\n",
            "571:\tlearn: 0.0652699\ttotal: 3.22s\tremaining: 2.41s\n",
            "572:\tlearn: 0.0652497\ttotal: 3.23s\tremaining: 2.41s\n",
            "573:\tlearn: 0.0652383\ttotal: 3.23s\tremaining: 2.4s\n",
            "574:\tlearn: 0.0652195\ttotal: 3.24s\tremaining: 2.39s\n",
            "575:\tlearn: 0.0651652\ttotal: 3.25s\tremaining: 2.39s\n",
            "576:\tlearn: 0.0651487\ttotal: 3.25s\tremaining: 2.38s\n",
            "577:\tlearn: 0.0650863\ttotal: 3.25s\tremaining: 2.38s\n",
            "578:\tlearn: 0.0650688\ttotal: 3.26s\tremaining: 2.37s\n",
            "579:\tlearn: 0.0650302\ttotal: 3.27s\tremaining: 2.37s\n",
            "580:\tlearn: 0.0650160\ttotal: 3.27s\tremaining: 2.36s\n",
            "581:\tlearn: 0.0649928\ttotal: 3.28s\tremaining: 2.35s\n",
            "582:\tlearn: 0.0649776\ttotal: 3.29s\tremaining: 2.35s\n",
            "583:\tlearn: 0.0649746\ttotal: 3.29s\tremaining: 2.34s\n",
            "584:\tlearn: 0.0649582\ttotal: 3.29s\tremaining: 2.34s\n",
            "585:\tlearn: 0.0649435\ttotal: 3.3s\tremaining: 2.33s\n",
            "586:\tlearn: 0.0648932\ttotal: 3.31s\tremaining: 2.33s\n",
            "587:\tlearn: 0.0648487\ttotal: 3.31s\tremaining: 2.32s\n",
            "588:\tlearn: 0.0648382\ttotal: 3.32s\tremaining: 2.32s\n",
            "589:\tlearn: 0.0648302\ttotal: 3.33s\tremaining: 2.31s\n",
            "590:\tlearn: 0.0648169\ttotal: 3.33s\tremaining: 2.31s\n",
            "591:\tlearn: 0.0648077\ttotal: 3.34s\tremaining: 2.3s\n",
            "592:\tlearn: 0.0647949\ttotal: 3.34s\tremaining: 2.29s\n",
            "593:\tlearn: 0.0647607\ttotal: 3.35s\tremaining: 2.29s\n",
            "594:\tlearn: 0.0646687\ttotal: 3.35s\tremaining: 2.28s\n",
            "595:\tlearn: 0.0646563\ttotal: 3.36s\tremaining: 2.27s\n",
            "596:\tlearn: 0.0646348\ttotal: 3.36s\tremaining: 2.27s\n",
            "597:\tlearn: 0.0646217\ttotal: 3.37s\tremaining: 2.26s\n",
            "598:\tlearn: 0.0645813\ttotal: 3.37s\tremaining: 2.26s\n",
            "599:\tlearn: 0.0645650\ttotal: 3.38s\tremaining: 2.25s\n",
            "600:\tlearn: 0.0645490\ttotal: 3.38s\tremaining: 2.25s\n",
            "601:\tlearn: 0.0645367\ttotal: 3.39s\tremaining: 2.24s\n",
            "602:\tlearn: 0.0645054\ttotal: 3.4s\tremaining: 2.24s\n",
            "603:\tlearn: 0.0644962\ttotal: 3.4s\tremaining: 2.23s\n",
            "604:\tlearn: 0.0644638\ttotal: 3.41s\tremaining: 2.22s\n",
            "605:\tlearn: 0.0644303\ttotal: 3.41s\tremaining: 2.22s\n",
            "606:\tlearn: 0.0644151\ttotal: 3.42s\tremaining: 2.21s\n",
            "607:\tlearn: 0.0643952\ttotal: 3.42s\tremaining: 2.21s\n",
            "608:\tlearn: 0.0643860\ttotal: 3.43s\tremaining: 2.2s\n",
            "609:\tlearn: 0.0643765\ttotal: 3.43s\tremaining: 2.19s\n",
            "610:\tlearn: 0.0643077\ttotal: 3.44s\tremaining: 2.19s\n",
            "611:\tlearn: 0.0642688\ttotal: 3.45s\tremaining: 2.18s\n",
            "612:\tlearn: 0.0642603\ttotal: 3.45s\tremaining: 2.18s\n",
            "613:\tlearn: 0.0642464\ttotal: 3.46s\tremaining: 2.17s\n",
            "614:\tlearn: 0.0642062\ttotal: 3.46s\tremaining: 2.17s\n",
            "615:\tlearn: 0.0641906\ttotal: 3.47s\tremaining: 2.16s\n",
            "616:\tlearn: 0.0641704\ttotal: 3.48s\tremaining: 2.16s\n",
            "617:\tlearn: 0.0641557\ttotal: 3.48s\tremaining: 2.15s\n",
            "618:\tlearn: 0.0641413\ttotal: 3.49s\tremaining: 2.15s\n",
            "619:\tlearn: 0.0641286\ttotal: 3.49s\tremaining: 2.14s\n",
            "620:\tlearn: 0.0641199\ttotal: 3.5s\tremaining: 2.13s\n",
            "621:\tlearn: 0.0641111\ttotal: 3.5s\tremaining: 2.13s\n",
            "622:\tlearn: 0.0640814\ttotal: 3.51s\tremaining: 2.12s\n",
            "623:\tlearn: 0.0640704\ttotal: 3.52s\tremaining: 2.12s\n",
            "624:\tlearn: 0.0640194\ttotal: 3.52s\tremaining: 2.12s\n",
            "625:\tlearn: 0.0639776\ttotal: 3.53s\tremaining: 2.11s\n",
            "626:\tlearn: 0.0639499\ttotal: 3.54s\tremaining: 2.1s\n",
            "627:\tlearn: 0.0639272\ttotal: 3.54s\tremaining: 2.1s\n",
            "628:\tlearn: 0.0639061\ttotal: 3.55s\tremaining: 2.09s\n",
            "629:\tlearn: 0.0638872\ttotal: 3.55s\tremaining: 2.09s\n",
            "630:\tlearn: 0.0638732\ttotal: 3.56s\tremaining: 2.08s\n",
            "631:\tlearn: 0.0638492\ttotal: 3.57s\tremaining: 2.08s\n",
            "632:\tlearn: 0.0638361\ttotal: 3.57s\tremaining: 2.07s\n",
            "633:\tlearn: 0.0638282\ttotal: 3.58s\tremaining: 2.06s\n",
            "634:\tlearn: 0.0638196\ttotal: 3.58s\tremaining: 2.06s\n",
            "635:\tlearn: 0.0638154\ttotal: 3.59s\tremaining: 2.05s\n",
            "636:\tlearn: 0.0637954\ttotal: 3.59s\tremaining: 2.05s\n",
            "637:\tlearn: 0.0637826\ttotal: 3.6s\tremaining: 2.04s\n",
            "638:\tlearn: 0.0637508\ttotal: 3.6s\tremaining: 2.04s\n",
            "639:\tlearn: 0.0637330\ttotal: 3.61s\tremaining: 2.03s\n",
            "640:\tlearn: 0.0637191\ttotal: 3.62s\tremaining: 2.02s\n",
            "641:\tlearn: 0.0637059\ttotal: 3.62s\tremaining: 2.02s\n",
            "642:\tlearn: 0.0636427\ttotal: 3.63s\tremaining: 2.02s\n",
            "643:\tlearn: 0.0636057\ttotal: 3.64s\tremaining: 2.01s\n",
            "644:\tlearn: 0.0635975\ttotal: 3.64s\tremaining: 2s\n",
            "645:\tlearn: 0.0635894\ttotal: 3.65s\tremaining: 2s\n",
            "646:\tlearn: 0.0635815\ttotal: 3.65s\tremaining: 1.99s\n",
            "647:\tlearn: 0.0635755\ttotal: 3.66s\tremaining: 1.99s\n",
            "648:\tlearn: 0.0635680\ttotal: 3.67s\tremaining: 1.98s\n",
            "649:\tlearn: 0.0635118\ttotal: 3.67s\tremaining: 1.98s\n",
            "650:\tlearn: 0.0634850\ttotal: 3.68s\tremaining: 1.97s\n",
            "651:\tlearn: 0.0634750\ttotal: 3.68s\tremaining: 1.97s\n",
            "652:\tlearn: 0.0634656\ttotal: 3.69s\tremaining: 1.96s\n",
            "653:\tlearn: 0.0634573\ttotal: 3.69s\tremaining: 1.95s\n",
            "654:\tlearn: 0.0634460\ttotal: 3.7s\tremaining: 1.95s\n",
            "655:\tlearn: 0.0634167\ttotal: 3.71s\tremaining: 1.94s\n",
            "656:\tlearn: 0.0633818\ttotal: 3.71s\tremaining: 1.94s\n",
            "657:\tlearn: 0.0633641\ttotal: 3.72s\tremaining: 1.93s\n",
            "658:\tlearn: 0.0633356\ttotal: 3.72s\tremaining: 1.93s\n",
            "659:\tlearn: 0.0632565\ttotal: 3.73s\tremaining: 1.92s\n",
            "660:\tlearn: 0.0632318\ttotal: 3.73s\tremaining: 1.92s\n",
            "661:\tlearn: 0.0632251\ttotal: 3.74s\tremaining: 1.91s\n",
            "662:\tlearn: 0.0632157\ttotal: 3.75s\tremaining: 1.9s\n",
            "663:\tlearn: 0.0631518\ttotal: 3.75s\tremaining: 1.9s\n",
            "664:\tlearn: 0.0630996\ttotal: 3.76s\tremaining: 1.89s\n",
            "665:\tlearn: 0.0630363\ttotal: 3.76s\tremaining: 1.89s\n",
            "666:\tlearn: 0.0630023\ttotal: 3.77s\tremaining: 1.88s\n",
            "667:\tlearn: 0.0629251\ttotal: 3.77s\tremaining: 1.88s\n",
            "668:\tlearn: 0.0629129\ttotal: 3.78s\tremaining: 1.87s\n",
            "669:\tlearn: 0.0629061\ttotal: 3.79s\tremaining: 1.87s\n",
            "670:\tlearn: 0.0628885\ttotal: 3.8s\tremaining: 1.86s\n",
            "671:\tlearn: 0.0628357\ttotal: 3.81s\tremaining: 1.86s\n",
            "672:\tlearn: 0.0627973\ttotal: 3.81s\tremaining: 1.85s\n",
            "673:\tlearn: 0.0627879\ttotal: 3.82s\tremaining: 1.84s\n",
            "674:\tlearn: 0.0627351\ttotal: 3.82s\tremaining: 1.84s\n",
            "675:\tlearn: 0.0627183\ttotal: 3.83s\tremaining: 1.83s\n",
            "676:\tlearn: 0.0626308\ttotal: 3.83s\tremaining: 1.83s\n",
            "677:\tlearn: 0.0625723\ttotal: 3.84s\tremaining: 1.82s\n",
            "678:\tlearn: 0.0625247\ttotal: 3.84s\tremaining: 1.82s\n",
            "679:\tlearn: 0.0625012\ttotal: 3.85s\tremaining: 1.81s\n",
            "680:\tlearn: 0.0624649\ttotal: 3.86s\tremaining: 1.81s\n",
            "681:\tlearn: 0.0624527\ttotal: 3.86s\tremaining: 1.8s\n",
            "682:\tlearn: 0.0624164\ttotal: 3.87s\tremaining: 1.79s\n",
            "683:\tlearn: 0.0623825\ttotal: 3.87s\tremaining: 1.79s\n",
            "684:\tlearn: 0.0623760\ttotal: 3.88s\tremaining: 1.78s\n",
            "685:\tlearn: 0.0623558\ttotal: 3.88s\tremaining: 1.78s\n",
            "686:\tlearn: 0.0623384\ttotal: 3.89s\tremaining: 1.77s\n",
            "687:\tlearn: 0.0623301\ttotal: 3.9s\tremaining: 1.77s\n",
            "688:\tlearn: 0.0623203\ttotal: 3.9s\tremaining: 1.76s\n",
            "689:\tlearn: 0.0622761\ttotal: 3.91s\tremaining: 1.76s\n",
            "690:\tlearn: 0.0622433\ttotal: 3.91s\tremaining: 1.75s\n",
            "691:\tlearn: 0.0622141\ttotal: 3.92s\tremaining: 1.74s\n",
            "692:\tlearn: 0.0622023\ttotal: 3.92s\tremaining: 1.74s\n",
            "693:\tlearn: 0.0621929\ttotal: 3.93s\tremaining: 1.73s\n",
            "694:\tlearn: 0.0621885\ttotal: 3.94s\tremaining: 1.73s\n",
            "695:\tlearn: 0.0621748\ttotal: 3.94s\tremaining: 1.72s\n",
            "696:\tlearn: 0.0621632\ttotal: 3.95s\tremaining: 1.72s\n",
            "697:\tlearn: 0.0621161\ttotal: 3.95s\tremaining: 1.71s\n",
            "698:\tlearn: 0.0621073\ttotal: 3.96s\tremaining: 1.7s\n",
            "699:\tlearn: 0.0620315\ttotal: 3.96s\tremaining: 1.7s\n",
            "700:\tlearn: 0.0620162\ttotal: 3.97s\tremaining: 1.69s\n",
            "701:\tlearn: 0.0620095\ttotal: 3.97s\tremaining: 1.69s\n",
            "702:\tlearn: 0.0619800\ttotal: 3.98s\tremaining: 1.68s\n",
            "703:\tlearn: 0.0619133\ttotal: 3.98s\tremaining: 1.68s\n",
            "704:\tlearn: 0.0618910\ttotal: 3.99s\tremaining: 1.67s\n",
            "705:\tlearn: 0.0618609\ttotal: 4s\tremaining: 1.66s\n",
            "706:\tlearn: 0.0618543\ttotal: 4s\tremaining: 1.66s\n",
            "707:\tlearn: 0.0618435\ttotal: 4.01s\tremaining: 1.65s\n",
            "708:\tlearn: 0.0618359\ttotal: 4.01s\tremaining: 1.65s\n",
            "709:\tlearn: 0.0618296\ttotal: 4.02s\tremaining: 1.64s\n",
            "710:\tlearn: 0.0618235\ttotal: 4.02s\tremaining: 1.64s\n",
            "711:\tlearn: 0.0618144\ttotal: 4.03s\tremaining: 1.63s\n",
            "712:\tlearn: 0.0618073\ttotal: 4.03s\tremaining: 1.62s\n",
            "713:\tlearn: 0.0617872\ttotal: 4.04s\tremaining: 1.62s\n",
            "714:\tlearn: 0.0617807\ttotal: 4.04s\tremaining: 1.61s\n",
            "715:\tlearn: 0.0617771\ttotal: 4.05s\tremaining: 1.61s\n",
            "716:\tlearn: 0.0617640\ttotal: 4.06s\tremaining: 1.6s\n",
            "717:\tlearn: 0.0617301\ttotal: 4.06s\tremaining: 1.59s\n",
            "718:\tlearn: 0.0617063\ttotal: 4.07s\tremaining: 1.59s\n",
            "719:\tlearn: 0.0616422\ttotal: 4.07s\tremaining: 1.58s\n",
            "720:\tlearn: 0.0616259\ttotal: 4.08s\tremaining: 1.58s\n",
            "721:\tlearn: 0.0615996\ttotal: 4.08s\tremaining: 1.57s\n",
            "722:\tlearn: 0.0615844\ttotal: 4.09s\tremaining: 1.57s\n",
            "723:\tlearn: 0.0615768\ttotal: 4.09s\tremaining: 1.56s\n",
            "724:\tlearn: 0.0615635\ttotal: 4.1s\tremaining: 1.55s\n",
            "725:\tlearn: 0.0615569\ttotal: 4.11s\tremaining: 1.55s\n",
            "726:\tlearn: 0.0615508\ttotal: 4.11s\tremaining: 1.54s\n",
            "727:\tlearn: 0.0615104\ttotal: 4.12s\tremaining: 1.54s\n",
            "728:\tlearn: 0.0614930\ttotal: 4.12s\tremaining: 1.53s\n",
            "729:\tlearn: 0.0614871\ttotal: 4.13s\tremaining: 1.53s\n",
            "730:\tlearn: 0.0614302\ttotal: 4.13s\tremaining: 1.52s\n",
            "731:\tlearn: 0.0614162\ttotal: 4.14s\tremaining: 1.51s\n",
            "732:\tlearn: 0.0613827\ttotal: 4.14s\tremaining: 1.51s\n",
            "733:\tlearn: 0.0613155\ttotal: 4.15s\tremaining: 1.5s\n",
            "734:\tlearn: 0.0612928\ttotal: 4.15s\tremaining: 1.5s\n",
            "735:\tlearn: 0.0612862\ttotal: 4.16s\tremaining: 1.49s\n",
            "736:\tlearn: 0.0612736\ttotal: 4.17s\tremaining: 1.49s\n",
            "737:\tlearn: 0.0612324\ttotal: 4.17s\tremaining: 1.48s\n",
            "738:\tlearn: 0.0611887\ttotal: 4.18s\tremaining: 1.48s\n",
            "739:\tlearn: 0.0611199\ttotal: 4.18s\tremaining: 1.47s\n",
            "740:\tlearn: 0.0610944\ttotal: 4.19s\tremaining: 1.47s\n",
            "741:\tlearn: 0.0610724\ttotal: 4.2s\tremaining: 1.46s\n",
            "742:\tlearn: 0.0610530\ttotal: 4.21s\tremaining: 1.45s\n",
            "743:\tlearn: 0.0610475\ttotal: 4.21s\tremaining: 1.45s\n",
            "744:\tlearn: 0.0610114\ttotal: 4.22s\tremaining: 1.44s\n",
            "745:\tlearn: 0.0610048\ttotal: 4.22s\tremaining: 1.44s\n",
            "746:\tlearn: 0.0609921\ttotal: 4.23s\tremaining: 1.43s\n",
            "747:\tlearn: 0.0609803\ttotal: 4.23s\tremaining: 1.43s\n",
            "748:\tlearn: 0.0609672\ttotal: 4.24s\tremaining: 1.42s\n",
            "749:\tlearn: 0.0609026\ttotal: 4.24s\tremaining: 1.41s\n",
            "750:\tlearn: 0.0608823\ttotal: 4.25s\tremaining: 1.41s\n",
            "751:\tlearn: 0.0608615\ttotal: 4.26s\tremaining: 1.4s\n",
            "752:\tlearn: 0.0608552\ttotal: 4.26s\tremaining: 1.4s\n",
            "753:\tlearn: 0.0608331\ttotal: 4.27s\tremaining: 1.39s\n",
            "754:\tlearn: 0.0608215\ttotal: 4.27s\tremaining: 1.39s\n",
            "755:\tlearn: 0.0607955\ttotal: 4.28s\tremaining: 1.38s\n",
            "756:\tlearn: 0.0607589\ttotal: 4.29s\tremaining: 1.38s\n",
            "757:\tlearn: 0.0607527\ttotal: 4.29s\tremaining: 1.37s\n",
            "758:\tlearn: 0.0607443\ttotal: 4.3s\tremaining: 1.36s\n",
            "759:\tlearn: 0.0607361\ttotal: 4.3s\tremaining: 1.36s\n",
            "760:\tlearn: 0.0606968\ttotal: 4.31s\tremaining: 1.35s\n",
            "761:\tlearn: 0.0606636\ttotal: 4.32s\tremaining: 1.35s\n",
            "762:\tlearn: 0.0606051\ttotal: 4.32s\tremaining: 1.34s\n",
            "763:\tlearn: 0.0605987\ttotal: 4.33s\tremaining: 1.34s\n",
            "764:\tlearn: 0.0605557\ttotal: 4.33s\tremaining: 1.33s\n",
            "765:\tlearn: 0.0605200\ttotal: 4.34s\tremaining: 1.32s\n",
            "766:\tlearn: 0.0604742\ttotal: 4.34s\tremaining: 1.32s\n",
            "767:\tlearn: 0.0604561\ttotal: 4.35s\tremaining: 1.31s\n",
            "768:\tlearn: 0.0604171\ttotal: 4.36s\tremaining: 1.31s\n",
            "769:\tlearn: 0.0603774\ttotal: 4.36s\tremaining: 1.3s\n",
            "770:\tlearn: 0.0603617\ttotal: 4.37s\tremaining: 1.3s\n",
            "771:\tlearn: 0.0603308\ttotal: 4.37s\tremaining: 1.29s\n",
            "772:\tlearn: 0.0603272\ttotal: 4.38s\tremaining: 1.28s\n",
            "773:\tlearn: 0.0602878\ttotal: 4.38s\tremaining: 1.28s\n",
            "774:\tlearn: 0.0602496\ttotal: 4.39s\tremaining: 1.27s\n",
            "775:\tlearn: 0.0602156\ttotal: 4.4s\tremaining: 1.27s\n",
            "776:\tlearn: 0.0601530\ttotal: 4.4s\tremaining: 1.26s\n",
            "777:\tlearn: 0.0601177\ttotal: 4.41s\tremaining: 1.26s\n",
            "778:\tlearn: 0.0600908\ttotal: 4.41s\tremaining: 1.25s\n",
            "779:\tlearn: 0.0600593\ttotal: 4.42s\tremaining: 1.25s\n",
            "780:\tlearn: 0.0600266\ttotal: 4.42s\tremaining: 1.24s\n",
            "781:\tlearn: 0.0600000\ttotal: 4.43s\tremaining: 1.24s\n",
            "782:\tlearn: 0.0599716\ttotal: 4.44s\tremaining: 1.23s\n",
            "783:\tlearn: 0.0599094\ttotal: 4.44s\tremaining: 1.22s\n",
            "784:\tlearn: 0.0598623\ttotal: 4.45s\tremaining: 1.22s\n",
            "785:\tlearn: 0.0598333\ttotal: 4.45s\tremaining: 1.21s\n",
            "786:\tlearn: 0.0598229\ttotal: 4.46s\tremaining: 1.21s\n",
            "787:\tlearn: 0.0597978\ttotal: 4.46s\tremaining: 1.2s\n",
            "788:\tlearn: 0.0597673\ttotal: 4.47s\tremaining: 1.2s\n",
            "789:\tlearn: 0.0597479\ttotal: 4.48s\tremaining: 1.19s\n",
            "790:\tlearn: 0.0596883\ttotal: 4.48s\tremaining: 1.18s\n",
            "791:\tlearn: 0.0596310\ttotal: 4.49s\tremaining: 1.18s\n",
            "792:\tlearn: 0.0596255\ttotal: 4.5s\tremaining: 1.17s\n",
            "793:\tlearn: 0.0595706\ttotal: 4.5s\tremaining: 1.17s\n",
            "794:\tlearn: 0.0595527\ttotal: 4.51s\tremaining: 1.16s\n",
            "795:\tlearn: 0.0595440\ttotal: 4.51s\tremaining: 1.16s\n",
            "796:\tlearn: 0.0594913\ttotal: 4.52s\tremaining: 1.15s\n",
            "797:\tlearn: 0.0594594\ttotal: 4.52s\tremaining: 1.15s\n",
            "798:\tlearn: 0.0594518\ttotal: 4.53s\tremaining: 1.14s\n",
            "799:\tlearn: 0.0594294\ttotal: 4.54s\tremaining: 1.13s\n",
            "800:\tlearn: 0.0594010\ttotal: 4.54s\tremaining: 1.13s\n",
            "801:\tlearn: 0.0593517\ttotal: 4.55s\tremaining: 1.12s\n",
            "802:\tlearn: 0.0593332\ttotal: 4.55s\tremaining: 1.12s\n",
            "803:\tlearn: 0.0593073\ttotal: 4.56s\tremaining: 1.11s\n",
            "804:\tlearn: 0.0592569\ttotal: 4.57s\tremaining: 1.1s\n",
            "805:\tlearn: 0.0592290\ttotal: 4.57s\tremaining: 1.1s\n",
            "806:\tlearn: 0.0591808\ttotal: 4.58s\tremaining: 1.09s\n",
            "807:\tlearn: 0.0591724\ttotal: 4.58s\tremaining: 1.09s\n",
            "808:\tlearn: 0.0591465\ttotal: 4.59s\tremaining: 1.08s\n",
            "809:\tlearn: 0.0591298\ttotal: 4.6s\tremaining: 1.08s\n",
            "810:\tlearn: 0.0591115\ttotal: 4.6s\tremaining: 1.07s\n",
            "811:\tlearn: 0.0590880\ttotal: 4.61s\tremaining: 1.07s\n",
            "812:\tlearn: 0.0590562\ttotal: 4.62s\tremaining: 1.06s\n",
            "813:\tlearn: 0.0590474\ttotal: 4.62s\tremaining: 1.05s\n",
            "814:\tlearn: 0.0590317\ttotal: 4.63s\tremaining: 1.05s\n",
            "815:\tlearn: 0.0589739\ttotal: 4.63s\tremaining: 1.04s\n",
            "816:\tlearn: 0.0589476\ttotal: 4.64s\tremaining: 1.04s\n",
            "817:\tlearn: 0.0589396\ttotal: 4.64s\tremaining: 1.03s\n",
            "818:\tlearn: 0.0588899\ttotal: 4.65s\tremaining: 1.03s\n",
            "819:\tlearn: 0.0588457\ttotal: 4.65s\tremaining: 1.02s\n",
            "820:\tlearn: 0.0587922\ttotal: 4.66s\tremaining: 1.02s\n",
            "821:\tlearn: 0.0587774\ttotal: 4.67s\tremaining: 1.01s\n",
            "822:\tlearn: 0.0587494\ttotal: 4.67s\tremaining: 1s\n",
            "823:\tlearn: 0.0587034\ttotal: 4.68s\tremaining: 999ms\n",
            "824:\tlearn: 0.0586595\ttotal: 4.68s\tremaining: 994ms\n",
            "825:\tlearn: 0.0586303\ttotal: 4.69s\tremaining: 988ms\n",
            "826:\tlearn: 0.0585885\ttotal: 4.7s\tremaining: 982ms\n",
            "827:\tlearn: 0.0585673\ttotal: 4.7s\tremaining: 977ms\n",
            "828:\tlearn: 0.0585419\ttotal: 4.71s\tremaining: 971ms\n",
            "829:\tlearn: 0.0585142\ttotal: 4.71s\tremaining: 965ms\n",
            "830:\tlearn: 0.0584926\ttotal: 4.72s\tremaining: 960ms\n",
            "831:\tlearn: 0.0584686\ttotal: 4.72s\tremaining: 954ms\n",
            "832:\tlearn: 0.0584614\ttotal: 4.73s\tremaining: 948ms\n",
            "833:\tlearn: 0.0584308\ttotal: 4.74s\tremaining: 942ms\n",
            "834:\tlearn: 0.0584237\ttotal: 4.74s\tremaining: 937ms\n",
            "835:\tlearn: 0.0584206\ttotal: 4.75s\tremaining: 931ms\n",
            "836:\tlearn: 0.0584074\ttotal: 4.75s\tremaining: 926ms\n",
            "837:\tlearn: 0.0583836\ttotal: 4.76s\tremaining: 920ms\n",
            "838:\tlearn: 0.0583601\ttotal: 4.77s\tremaining: 915ms\n",
            "839:\tlearn: 0.0583488\ttotal: 4.78s\tremaining: 910ms\n",
            "840:\tlearn: 0.0583193\ttotal: 4.78s\tremaining: 904ms\n",
            "841:\tlearn: 0.0582939\ttotal: 4.79s\tremaining: 898ms\n",
            "842:\tlearn: 0.0582663\ttotal: 4.79s\tremaining: 893ms\n",
            "843:\tlearn: 0.0582607\ttotal: 4.8s\tremaining: 887ms\n",
            "844:\tlearn: 0.0582270\ttotal: 4.8s\tremaining: 881ms\n",
            "845:\tlearn: 0.0581878\ttotal: 4.81s\tremaining: 876ms\n",
            "846:\tlearn: 0.0581826\ttotal: 4.82s\tremaining: 870ms\n",
            "847:\tlearn: 0.0581703\ttotal: 4.82s\tremaining: 865ms\n",
            "848:\tlearn: 0.0581511\ttotal: 4.83s\tremaining: 859ms\n",
            "849:\tlearn: 0.0581256\ttotal: 4.84s\tremaining: 853ms\n",
            "850:\tlearn: 0.0580858\ttotal: 4.84s\tremaining: 848ms\n",
            "851:\tlearn: 0.0580364\ttotal: 4.85s\tremaining: 842ms\n",
            "852:\tlearn: 0.0580315\ttotal: 4.85s\tremaining: 836ms\n",
            "853:\tlearn: 0.0580061\ttotal: 4.86s\tremaining: 830ms\n",
            "854:\tlearn: 0.0579950\ttotal: 4.86s\tremaining: 825ms\n",
            "855:\tlearn: 0.0579617\ttotal: 4.87s\tremaining: 819ms\n",
            "856:\tlearn: 0.0579429\ttotal: 4.88s\tremaining: 814ms\n",
            "857:\tlearn: 0.0579391\ttotal: 4.88s\tremaining: 808ms\n",
            "858:\tlearn: 0.0579159\ttotal: 4.89s\tremaining: 802ms\n",
            "859:\tlearn: 0.0579044\ttotal: 4.89s\tremaining: 797ms\n",
            "860:\tlearn: 0.0578728\ttotal: 4.9s\tremaining: 791ms\n",
            "861:\tlearn: 0.0578492\ttotal: 4.91s\tremaining: 785ms\n",
            "862:\tlearn: 0.0578163\ttotal: 4.91s\tremaining: 780ms\n",
            "863:\tlearn: 0.0577792\ttotal: 4.92s\tremaining: 774ms\n",
            "864:\tlearn: 0.0577413\ttotal: 4.92s\tremaining: 768ms\n",
            "865:\tlearn: 0.0577158\ttotal: 4.93s\tremaining: 762ms\n",
            "866:\tlearn: 0.0577093\ttotal: 4.93s\tremaining: 757ms\n",
            "867:\tlearn: 0.0576888\ttotal: 4.94s\tremaining: 751ms\n",
            "868:\tlearn: 0.0576831\ttotal: 4.94s\tremaining: 745ms\n",
            "869:\tlearn: 0.0576763\ttotal: 4.95s\tremaining: 740ms\n",
            "870:\tlearn: 0.0576404\ttotal: 4.96s\tremaining: 734ms\n",
            "871:\tlearn: 0.0576348\ttotal: 4.96s\tremaining: 728ms\n",
            "872:\tlearn: 0.0575995\ttotal: 4.96s\tremaining: 722ms\n",
            "873:\tlearn: 0.0575935\ttotal: 4.97s\tremaining: 717ms\n",
            "874:\tlearn: 0.0575636\ttotal: 4.98s\tremaining: 711ms\n",
            "875:\tlearn: 0.0575296\ttotal: 4.98s\tremaining: 705ms\n",
            "876:\tlearn: 0.0575078\ttotal: 4.99s\tremaining: 699ms\n",
            "877:\tlearn: 0.0574855\ttotal: 4.99s\tremaining: 694ms\n",
            "878:\tlearn: 0.0574800\ttotal: 5s\tremaining: 688ms\n",
            "879:\tlearn: 0.0574554\ttotal: 5s\tremaining: 683ms\n",
            "880:\tlearn: 0.0574487\ttotal: 5.01s\tremaining: 677ms\n",
            "881:\tlearn: 0.0574322\ttotal: 5.02s\tremaining: 672ms\n",
            "882:\tlearn: 0.0574104\ttotal: 5.03s\tremaining: 666ms\n",
            "883:\tlearn: 0.0573775\ttotal: 5.03s\tremaining: 660ms\n",
            "884:\tlearn: 0.0573568\ttotal: 5.04s\tremaining: 655ms\n",
            "885:\tlearn: 0.0573512\ttotal: 5.04s\tremaining: 649ms\n",
            "886:\tlearn: 0.0573286\ttotal: 5.05s\tremaining: 643ms\n",
            "887:\tlearn: 0.0573067\ttotal: 5.05s\tremaining: 637ms\n",
            "888:\tlearn: 0.0573015\ttotal: 5.06s\tremaining: 632ms\n",
            "889:\tlearn: 0.0572820\ttotal: 5.07s\tremaining: 626ms\n",
            "890:\tlearn: 0.0572770\ttotal: 5.07s\tremaining: 621ms\n",
            "891:\tlearn: 0.0572615\ttotal: 5.08s\tremaining: 615ms\n",
            "892:\tlearn: 0.0572463\ttotal: 5.08s\tremaining: 609ms\n",
            "893:\tlearn: 0.0572399\ttotal: 5.09s\tremaining: 603ms\n",
            "894:\tlearn: 0.0572144\ttotal: 5.09s\tremaining: 598ms\n",
            "895:\tlearn: 0.0571954\ttotal: 5.1s\tremaining: 592ms\n",
            "896:\tlearn: 0.0571707\ttotal: 5.11s\tremaining: 586ms\n",
            "897:\tlearn: 0.0571502\ttotal: 5.11s\tremaining: 581ms\n",
            "898:\tlearn: 0.0571270\ttotal: 5.12s\tremaining: 575ms\n",
            "899:\tlearn: 0.0571223\ttotal: 5.12s\tremaining: 569ms\n",
            "900:\tlearn: 0.0571179\ttotal: 5.13s\tremaining: 564ms\n",
            "901:\tlearn: 0.0570881\ttotal: 5.13s\tremaining: 558ms\n",
            "902:\tlearn: 0.0570802\ttotal: 5.14s\tremaining: 552ms\n",
            "903:\tlearn: 0.0570244\ttotal: 5.15s\tremaining: 547ms\n",
            "904:\tlearn: 0.0569965\ttotal: 5.15s\tremaining: 541ms\n",
            "905:\tlearn: 0.0569721\ttotal: 5.16s\tremaining: 535ms\n",
            "906:\tlearn: 0.0569679\ttotal: 5.16s\tremaining: 530ms\n",
            "907:\tlearn: 0.0569276\ttotal: 5.17s\tremaining: 524ms\n",
            "908:\tlearn: 0.0569051\ttotal: 5.18s\tremaining: 518ms\n",
            "909:\tlearn: 0.0569008\ttotal: 5.18s\tremaining: 512ms\n",
            "910:\tlearn: 0.0568795\ttotal: 5.19s\tremaining: 507ms\n",
            "911:\tlearn: 0.0568533\ttotal: 5.19s\tremaining: 501ms\n",
            "912:\tlearn: 0.0568235\ttotal: 5.2s\tremaining: 495ms\n",
            "913:\tlearn: 0.0567919\ttotal: 5.2s\tremaining: 490ms\n",
            "914:\tlearn: 0.0567679\ttotal: 5.21s\tremaining: 484ms\n",
            "915:\tlearn: 0.0567481\ttotal: 5.21s\tremaining: 478ms\n",
            "916:\tlearn: 0.0567377\ttotal: 5.22s\tremaining: 473ms\n",
            "917:\tlearn: 0.0567139\ttotal: 5.23s\tremaining: 467ms\n",
            "918:\tlearn: 0.0567041\ttotal: 5.23s\tremaining: 461ms\n",
            "919:\tlearn: 0.0566848\ttotal: 5.24s\tremaining: 456ms\n",
            "920:\tlearn: 0.0566796\ttotal: 5.24s\tremaining: 450ms\n",
            "921:\tlearn: 0.0566597\ttotal: 5.25s\tremaining: 444ms\n",
            "922:\tlearn: 0.0566546\ttotal: 5.25s\tremaining: 438ms\n",
            "923:\tlearn: 0.0566341\ttotal: 5.26s\tremaining: 433ms\n",
            "924:\tlearn: 0.0566048\ttotal: 5.27s\tremaining: 427ms\n",
            "925:\tlearn: 0.0565728\ttotal: 5.27s\tremaining: 421ms\n",
            "926:\tlearn: 0.0565587\ttotal: 5.28s\tremaining: 416ms\n",
            "927:\tlearn: 0.0565546\ttotal: 5.28s\tremaining: 410ms\n",
            "928:\tlearn: 0.0565368\ttotal: 5.29s\tremaining: 404ms\n",
            "929:\tlearn: 0.0565304\ttotal: 5.29s\tremaining: 399ms\n",
            "930:\tlearn: 0.0565160\ttotal: 5.3s\tremaining: 393ms\n",
            "931:\tlearn: 0.0564992\ttotal: 5.31s\tremaining: 387ms\n",
            "932:\tlearn: 0.0564731\ttotal: 5.31s\tremaining: 382ms\n",
            "933:\tlearn: 0.0564422\ttotal: 5.32s\tremaining: 376ms\n",
            "934:\tlearn: 0.0564221\ttotal: 5.32s\tremaining: 370ms\n",
            "935:\tlearn: 0.0564109\ttotal: 5.33s\tremaining: 364ms\n",
            "936:\tlearn: 0.0563988\ttotal: 5.33s\tremaining: 359ms\n",
            "937:\tlearn: 0.0563814\ttotal: 5.34s\tremaining: 353ms\n",
            "938:\tlearn: 0.0563458\ttotal: 5.34s\tremaining: 347ms\n",
            "939:\tlearn: 0.0563410\ttotal: 5.35s\tremaining: 342ms\n",
            "940:\tlearn: 0.0563213\ttotal: 5.36s\tremaining: 336ms\n",
            "941:\tlearn: 0.0563062\ttotal: 5.36s\tremaining: 330ms\n",
            "942:\tlearn: 0.0562855\ttotal: 5.37s\tremaining: 324ms\n",
            "943:\tlearn: 0.0562677\ttotal: 5.37s\tremaining: 319ms\n",
            "944:\tlearn: 0.0562439\ttotal: 5.38s\tremaining: 313ms\n",
            "945:\tlearn: 0.0562221\ttotal: 5.38s\tremaining: 307ms\n",
            "946:\tlearn: 0.0562032\ttotal: 5.39s\tremaining: 302ms\n",
            "947:\tlearn: 0.0561817\ttotal: 5.39s\tremaining: 296ms\n",
            "948:\tlearn: 0.0561760\ttotal: 5.4s\tremaining: 290ms\n",
            "949:\tlearn: 0.0561692\ttotal: 5.41s\tremaining: 284ms\n",
            "950:\tlearn: 0.0561507\ttotal: 5.41s\tremaining: 279ms\n",
            "951:\tlearn: 0.0561273\ttotal: 5.42s\tremaining: 273ms\n",
            "952:\tlearn: 0.0560898\ttotal: 5.42s\tremaining: 267ms\n",
            "953:\tlearn: 0.0560720\ttotal: 5.43s\tremaining: 262ms\n",
            "954:\tlearn: 0.0560527\ttotal: 5.43s\tremaining: 256ms\n",
            "955:\tlearn: 0.0560286\ttotal: 5.44s\tremaining: 250ms\n",
            "956:\tlearn: 0.0560121\ttotal: 5.44s\tremaining: 245ms\n",
            "957:\tlearn: 0.0560033\ttotal: 5.45s\tremaining: 239ms\n",
            "958:\tlearn: 0.0559921\ttotal: 5.45s\tremaining: 233ms\n",
            "959:\tlearn: 0.0559767\ttotal: 5.46s\tremaining: 228ms\n",
            "960:\tlearn: 0.0559615\ttotal: 5.46s\tremaining: 222ms\n",
            "961:\tlearn: 0.0558755\ttotal: 5.47s\tremaining: 216ms\n",
            "962:\tlearn: 0.0558529\ttotal: 5.48s\tremaining: 210ms\n",
            "963:\tlearn: 0.0558375\ttotal: 5.48s\tremaining: 205ms\n",
            "964:\tlearn: 0.0558246\ttotal: 5.49s\tremaining: 199ms\n",
            "965:\tlearn: 0.0558160\ttotal: 5.49s\tremaining: 193ms\n",
            "966:\tlearn: 0.0558099\ttotal: 5.5s\tremaining: 188ms\n",
            "967:\tlearn: 0.0557944\ttotal: 5.51s\tremaining: 182ms\n",
            "968:\tlearn: 0.0557890\ttotal: 5.51s\tremaining: 176ms\n",
            "969:\tlearn: 0.0557544\ttotal: 5.52s\tremaining: 171ms\n",
            "970:\tlearn: 0.0556526\ttotal: 5.53s\tremaining: 165ms\n",
            "971:\tlearn: 0.0556302\ttotal: 5.53s\tremaining: 159ms\n",
            "972:\tlearn: 0.0556259\ttotal: 5.54s\tremaining: 154ms\n",
            "973:\tlearn: 0.0555806\ttotal: 5.54s\tremaining: 148ms\n",
            "974:\tlearn: 0.0555723\ttotal: 5.55s\tremaining: 142ms\n",
            "975:\tlearn: 0.0555434\ttotal: 5.55s\tremaining: 137ms\n",
            "976:\tlearn: 0.0555177\ttotal: 5.56s\tremaining: 131ms\n",
            "977:\tlearn: 0.0554859\ttotal: 5.56s\tremaining: 125ms\n",
            "978:\tlearn: 0.0554675\ttotal: 5.57s\tremaining: 119ms\n",
            "979:\tlearn: 0.0554627\ttotal: 5.57s\tremaining: 114ms\n",
            "980:\tlearn: 0.0554462\ttotal: 5.58s\tremaining: 108ms\n",
            "981:\tlearn: 0.0554388\ttotal: 5.58s\tremaining: 102ms\n",
            "982:\tlearn: 0.0554052\ttotal: 5.59s\tremaining: 96.7ms\n",
            "983:\tlearn: 0.0553725\ttotal: 5.6s\tremaining: 91ms\n",
            "984:\tlearn: 0.0553387\ttotal: 5.6s\tremaining: 85.3ms\n",
            "985:\tlearn: 0.0553353\ttotal: 5.61s\tremaining: 79.6ms\n",
            "986:\tlearn: 0.0553242\ttotal: 5.61s\tremaining: 73.9ms\n",
            "987:\tlearn: 0.0553128\ttotal: 5.62s\tremaining: 68.3ms\n",
            "988:\tlearn: 0.0552941\ttotal: 5.63s\tremaining: 62.6ms\n",
            "989:\tlearn: 0.0552761\ttotal: 5.63s\tremaining: 56.9ms\n",
            "990:\tlearn: 0.0552518\ttotal: 5.64s\tremaining: 51.2ms\n",
            "991:\tlearn: 0.0552231\ttotal: 5.65s\tremaining: 45.6ms\n",
            "992:\tlearn: 0.0551985\ttotal: 5.65s\tremaining: 39.9ms\n",
            "993:\tlearn: 0.0551902\ttotal: 5.66s\tremaining: 34.2ms\n",
            "994:\tlearn: 0.0551698\ttotal: 5.66s\tremaining: 28.5ms\n",
            "995:\tlearn: 0.0551652\ttotal: 5.67s\tremaining: 22.8ms\n",
            "996:\tlearn: 0.0551564\ttotal: 5.67s\tremaining: 17.1ms\n",
            "997:\tlearn: 0.0551377\ttotal: 5.68s\tremaining: 11.4ms\n",
            "998:\tlearn: 0.0551244\ttotal: 5.68s\tremaining: 5.69ms\n",
            "999:\tlearn: 0.0551149\ttotal: 5.69s\tremaining: 0us\n",
            "              precision    recall  f1-score   support\n",
            "\n",
            "           0       0.96      1.00      0.98     10248\n",
            "           1       0.95      0.54      0.69       911\n",
            "\n",
            "    accuracy                           0.96     11159\n",
            "   macro avg       0.95      0.77      0.83     11159\n",
            "weighted avg       0.96      0.96      0.96     11159\n",
            "\n"
          ]
        }
      ]
    },
    {
      "cell_type": "code",
      "source": [
        "from sklearn.metrics import f1_score,roc_auc_score\n",
        "print(f1_score(y_inf, y_pred)) \n",
        "print(roc_auc_score(y_inf, y_pred))"
      ],
      "metadata": {
        "colab": {
          "base_uri": "https://localhost:8080/"
        },
        "id": "vgx-XAo1rb4-",
        "outputId": "ec6ee6ff-3ca9-4e3b-ec1c-a786e7b6fe9c"
      },
      "execution_count": 525,
      "outputs": [
        {
          "output_type": "stream",
          "name": "stdout",
          "text": [
            "0.6899441340782122\n",
            "0.7698132954752864\n"
          ]
        }
      ]
    },
    {
      "cell_type": "markdown",
      "source": [
        "## 향후 데이터에 대한 precision..."
      ],
      "metadata": {
        "id": "gLNp28C6eM7-"
      }
    },
    {
      "cell_type": "code",
      "source": [
        "mean_drift = ks_drift(x_ref, x_inf)"
      ],
      "metadata": {
        "id": "L4dh9SJEWKn5"
      },
      "execution_count": 455,
      "outputs": []
    },
    {
      "cell_type": "code",
      "source": [
        "mean_drift[3,0], mean_drift[5,0]"
      ],
      "metadata": {
        "id": "jpWfzGlVWbJm",
        "outputId": "fbd09949-b541-4af2-cae4-097dd74f9634",
        "colab": {
          "base_uri": "https://localhost:8080/"
        }
      },
      "execution_count": 456,
      "outputs": [
        {
          "output_type": "execute_result",
          "data": {
            "text/plain": [
              "(-0.013855768100022814, -0.01487996376485412)"
            ]
          },
          "metadata": {},
          "execution_count": 456
        }
      ]
    },
    {
      "cell_type": "code",
      "source": [
        "df1 = df[df['Year'] >= 2008]\n",
        "df2 = df1[df1['Year'] <= 2009]\n",
        "\n",
        "X_test2 = df2[df2['Year'] >= 2008].drop(drop_columns,axis=1)\n",
        "y_test2 = df2[df2['Year'] >= 2008]['Is Fraud?']"
      ],
      "metadata": {
        "id": "6Uc9moWFNImG"
      },
      "execution_count": 526,
      "outputs": []
    },
    {
      "cell_type": "code",
      "source": [
        "import math\n",
        "f1s = {}\n",
        "f1s['p'] = []\n",
        "f1s['r'] = []\n",
        "f1s['f'] = []\n",
        "f1s['d_MCC'] = []\n",
        "f1s['d_HOUR'] = []\n",
        "f1s['d_MCC_abs'] = []\n",
        "f1s['d_HOUR_abs'] = []\n",
        "window_size = 10000\n",
        "step = 500\n",
        "batch = math.ceil((X_test2.shape[0]-window_size)/step)\n",
        "for i in range(batch):\n",
        "    ux = X_test2[i*step:i*step+window_size]\n",
        "    uy = y_test2[i*step:i*step+window_size]\n",
        "    y_pred=cat.predict(ux)\n",
        "    #ppy = [1 if m=='No' else 0 for m in y_pred]   \n",
        "    f1 = precision_recall_fscore_support(uy, y_pred,average='binary') #precision_recall_fscore_support([1 if m=='No' else 0 for m in uy], ppy,average='binary')\n",
        "    o_drift = ks_drift(x_ref, ux.values)\n",
        "\n",
        "    print(f\"p:{f1[0]:.4f} {o_drift[3,0]} \\n{uy.value_counts()}\")\n",
        "    f1s['p'].append(f1[0])\n",
        "    f1s['r'].append(f1[1])\n",
        "    f1s['f'].append(f1[2])\n",
        "    f1s['d_MCC'].append(o_drift[3,0])\n",
        "    f1s['d_HOUR'].append(o_drift[5,0])\n",
        "    f1s['d_MCC_abs'].append(abs(o_drift[3,0]))\n",
        "    f1s['d_HOUR_abs'].append(abs(o_drift[5,0]))        "
      ],
      "metadata": {
        "colab": {
          "base_uri": "https://localhost:8080/"
        },
        "id": "6kxYw0VVNLzj",
        "outputId": "eb14b3a9-9082-431a-c4aa-f21b0636b699"
      },
      "execution_count": 527,
      "outputs": [
        {
          "output_type": "stream",
          "name": "stdout",
          "text": [
            "p:0.9306 -0.016251699635106587 \n",
            "0    9265\n",
            "1     735\n",
            "Name: Is Fraud?, dtype: int64\n",
            "p:0.9332 -0.015051699635106608 \n",
            "0    9280\n",
            "1     720\n",
            "Name: Is Fraud?, dtype: int64\n",
            "p:0.9385 -0.01875169963510659 \n",
            "0    9272\n",
            "1     728\n",
            "Name: Is Fraud?, dtype: int64\n",
            "p:0.9378 -0.017251699635106588 \n",
            "0    9322\n",
            "1     678\n",
            "Name: Is Fraud?, dtype: int64\n",
            "p:0.9397 -0.0196516996351066 \n",
            "0    9296\n",
            "1     704\n",
            "Name: Is Fraud?, dtype: int64\n",
            "p:0.9371 -0.01855169963510661 \n",
            "0    9299\n",
            "1     701\n",
            "Name: Is Fraud?, dtype: int64\n",
            "p:0.9353 -0.015751699635106586 \n",
            "0    9337\n",
            "1     663\n",
            "Name: Is Fraud?, dtype: int64\n",
            "p:0.9371 -0.019551699635106612 \n",
            "0    9291\n",
            "1     709\n",
            "Name: Is Fraud?, dtype: int64\n",
            "p:0.9365 -0.019951699635106568 \n",
            "0    9258\n",
            "1     742\n",
            "Name: Is Fraud?, dtype: int64\n",
            "p:0.9384 -0.017251699635106588 \n",
            "0    9246\n",
            "1     754\n",
            "Name: Is Fraud?, dtype: int64\n",
            "p:0.9372 -0.01905169963510661 \n",
            "0    9220\n",
            "1     780\n",
            "Name: Is Fraud?, dtype: int64\n",
            "p:0.9389 -0.018851699635106578 \n",
            "0    9235\n",
            "1     765\n",
            "Name: Is Fraud?, dtype: int64\n",
            "p:0.9385 -0.021651699635106603 \n",
            "0    9192\n",
            "1     808\n",
            "Name: Is Fraud?, dtype: int64\n",
            "p:0.9451 -0.02395169963510657 \n",
            "0    9177\n",
            "1     823\n",
            "Name: Is Fraud?, dtype: int64\n",
            "p:0.9434 -0.02305169963510656 \n",
            "0    9179\n",
            "1     821\n",
            "Name: Is Fraud?, dtype: int64\n",
            "p:0.9423 -0.01905169963510661 \n",
            "0    9214\n",
            "1     786\n",
            "Name: Is Fraud?, dtype: int64\n",
            "p:0.9461 -0.01985169963510658 \n",
            "0    9225\n",
            "1     775\n",
            "Name: Is Fraud?, dtype: int64\n",
            "p:0.9488 -0.016951699635106565 \n",
            "0    9242\n",
            "1     758\n",
            "Name: Is Fraud?, dtype: int64\n",
            "p:0.9482 -0.0176516996351066 \n",
            "0    9250\n",
            "1     750\n",
            "Name: Is Fraud?, dtype: int64\n",
            "p:0.9489 -0.019951699635106568 \n",
            "0    9261\n",
            "1     739\n",
            "Name: Is Fraud?, dtype: int64\n",
            "p:0.9443 -0.02095169963510657 \n",
            "0    9262\n",
            "1     738\n",
            "Name: Is Fraud?, dtype: int64\n",
            "p:0.9356 -0.019551699635106612 \n",
            "0    9239\n",
            "1     761\n",
            "Name: Is Fraud?, dtype: int64\n",
            "p:0.9383 -0.017951699635106566 \n",
            "0    9209\n",
            "1     791\n",
            "Name: Is Fraud?, dtype: int64\n",
            "p:0.9315 -0.0176516996351066 \n",
            "0    9205\n",
            "1     795\n",
            "Name: Is Fraud?, dtype: int64\n",
            "p:0.9305 -0.0171516996351066 \n",
            "0    9213\n",
            "1     787\n",
            "Name: Is Fraud?, dtype: int64\n",
            "p:0.9306 -0.016751699635106587 \n",
            "0    9187\n",
            "1     813\n",
            "Name: Is Fraud?, dtype: int64\n",
            "p:0.9339 -0.01825169963510659 \n",
            "0    9178\n",
            "1     822\n",
            "Name: Is Fraud?, dtype: int64\n",
            "p:0.9350 -0.01875169963510659 \n",
            "0    9171\n",
            "1     829\n",
            "Name: Is Fraud?, dtype: int64\n",
            "p:0.9348 -0.01875169963510659 \n",
            "0    9207\n",
            "1     793\n",
            "Name: Is Fraud?, dtype: int64\n",
            "p:0.9308 -0.01825169963510659 \n",
            "0    9204\n",
            "1     796\n",
            "Name: Is Fraud?, dtype: int64\n",
            "p:0.9224 -0.015951699635106564 \n",
            "0    9223\n",
            "1     777\n",
            "Name: Is Fraud?, dtype: int64\n",
            "p:0.9261 -0.01755169963510661 \n",
            "0    9171\n",
            "1     829\n",
            "Name: Is Fraud?, dtype: int64\n",
            "p:0.9276 -0.014651699635106596 \n",
            "0    9180\n",
            "1     820\n",
            "Name: Is Fraud?, dtype: int64\n",
            "p:0.9242 -0.015051699635106608 \n",
            "0    9179\n",
            "1     821\n",
            "Name: Is Fraud?, dtype: int64\n",
            "p:0.9267 -0.014051699635106607 \n",
            "0    9186\n",
            "1     814\n",
            "Name: Is Fraud?, dtype: int64\n",
            "p:0.9212 -0.0176516996351066 \n",
            "0    9201\n",
            "1     799\n",
            "Name: Is Fraud?, dtype: int64\n",
            "p:0.9212 -0.017251699635106588 \n",
            "0    9183\n",
            "1     817\n",
            "Name: Is Fraud?, dtype: int64\n",
            "p:0.9186 -0.018851699635106578 \n",
            "0    9180\n",
            "1     820\n",
            "Name: Is Fraud?, dtype: int64\n",
            "p:0.9220 -0.019551699635106612 \n",
            "0    9136\n",
            "1     864\n",
            "Name: Is Fraud?, dtype: int64\n",
            "p:0.9221 -0.01825169963510659 \n",
            "0    9152\n",
            "1     848\n",
            "Name: Is Fraud?, dtype: int64\n",
            "p:0.9274 -0.014951699635106563 \n",
            "0    9159\n",
            "1     841\n",
            "Name: Is Fraud?, dtype: int64\n",
            "p:0.9317 -0.0181516996351066 \n",
            "0    9146\n",
            "1     854\n",
            "Name: Is Fraud?, dtype: int64\n",
            "p:0.9253 -0.0171516996351066 \n",
            "0    9188\n",
            "1     812\n",
            "Name: Is Fraud?, dtype: int64\n",
            "p:0.9332 -0.016651699635106598 \n",
            "0    9171\n",
            "1     829\n",
            "Name: Is Fraud?, dtype: int64\n",
            "p:0.9305 -0.015251699635106586 \n",
            "0    9180\n",
            "1     820\n",
            "Name: Is Fraud?, dtype: int64\n",
            "p:0.9318 -0.015251699635106586 \n",
            "0    9172\n",
            "1     828\n",
            "Name: Is Fraud?, dtype: int64\n",
            "p:0.9318 -0.015451699635106564 \n",
            "0    9148\n",
            "1     852\n",
            "Name: Is Fraud?, dtype: int64\n",
            "p:0.9279 -0.012151699635106594 \n",
            "0    9195\n",
            "1     805\n",
            "Name: Is Fraud?, dtype: int64\n",
            "p:0.9289 -0.011051699635106604 \n",
            "0    9148\n",
            "1     852\n",
            "Name: Is Fraud?, dtype: int64\n",
            "p:0.9289 -0.014451699635106563 \n",
            "0    9130\n",
            "1     870\n",
            "Name: Is Fraud?, dtype: int64\n",
            "p:0.9399 -0.01655169963510661 \n",
            "0    9103\n",
            "1     897\n",
            "Name: Is Fraud?, dtype: int64\n",
            "p:0.9360 -0.016751699635106587 \n",
            "0    9109\n",
            "1     891\n",
            "Name: Is Fraud?, dtype: int64\n",
            "p:0.9340 -0.017351699635106577 \n",
            "0    9123\n",
            "1     877\n",
            "Name: Is Fraud?, dtype: int64\n",
            "p:0.9397 -0.018451699635106567 \n",
            "0    9088\n",
            "1     912\n",
            "Name: Is Fraud?, dtype: int64\n",
            "p:0.9375 -0.016751699635106587 \n",
            "0    9098\n",
            "1     902\n",
            "Name: Is Fraud?, dtype: int64\n",
            "p:0.9422 -0.015551699635106608 \n",
            "0    9040\n",
            "1     960\n",
            "Name: Is Fraud?, dtype: int64\n",
            "p:0.9359 -0.016851699635106576 \n",
            "0    9046\n",
            "1     954\n",
            "Name: Is Fraud?, dtype: int64\n",
            "p:0.9378 -0.01605169963510661 \n",
            "0    9013\n",
            "1     987\n",
            "Name: Is Fraud?, dtype: int64\n",
            "p:0.9396 -0.016851699635106576 \n",
            "0    9037\n",
            "1     963\n",
            "Name: Is Fraud?, dtype: int64\n",
            "p:0.9410 -0.01925169963510659 \n",
            "0    8985\n",
            "1    1015\n",
            "Name: Is Fraud?, dtype: int64\n",
            "p:0.9398 -0.02185169963510658 \n",
            "0    8963\n",
            "1    1037\n",
            "Name: Is Fraud?, dtype: int64\n",
            "p:0.9432 -0.0186516996351066 \n",
            "0    8978\n",
            "1    1022\n",
            "Name: Is Fraud?, dtype: int64\n",
            "p:0.9444 -0.019551699635106612 \n",
            "0    8947\n",
            "1    1053\n",
            "Name: Is Fraud?, dtype: int64\n",
            "p:0.9458 -0.019951699635106568 \n",
            "0    8929\n",
            "1    1071\n",
            "Name: Is Fraud?, dtype: int64\n",
            "p:0.9417 -0.02245169963510657 \n",
            "0    8946\n",
            "1    1054\n",
            "Name: Is Fraud?, dtype: int64\n",
            "p:0.9386 -0.022251699635106592 \n",
            "0    8966\n",
            "1    1034\n",
            "Name: Is Fraud?, dtype: int64\n",
            "p:0.9403 -0.023651699635106604 \n",
            "0    8971\n",
            "1    1029\n",
            "Name: Is Fraud?, dtype: int64\n",
            "p:0.9387 -0.02205169963510656 \n",
            "0    8963\n",
            "1    1037\n",
            "Name: Is Fraud?, dtype: int64\n",
            "p:0.9401 -0.023151699635106604 \n",
            "0    8977\n",
            "1    1023\n",
            "Name: Is Fraud?, dtype: int64\n",
            "p:0.9395 -0.018951699635106567 \n",
            "0    9018\n",
            "1     982\n",
            "Name: Is Fraud?, dtype: int64\n",
            "p:0.9372 -0.016851699635106576 \n",
            "0    9051\n",
            "1     949\n",
            "Name: Is Fraud?, dtype: int64\n",
            "p:0.9391 -0.015751699635106586 \n",
            "0    9094\n",
            "1     906\n",
            "Name: Is Fraud?, dtype: int64\n",
            "p:0.9407 -0.018451699635106567 \n",
            "0    9088\n",
            "1     912\n",
            "Name: Is Fraud?, dtype: int64\n",
            "p:0.9381 -0.0181516996351066 \n",
            "0    9134\n",
            "1     866\n",
            "Name: Is Fraud?, dtype: int64\n",
            "p:0.9307 -0.020051699635106612 \n",
            "0    9113\n",
            "1     887\n",
            "Name: Is Fraud?, dtype: int64\n",
            "p:0.9306 -0.01905169963510661 \n",
            "0    9139\n",
            "1     861\n",
            "Name: Is Fraud?, dtype: int64\n",
            "p:0.9370 -0.01825169963510659 \n",
            "0    9132\n",
            "1     868\n",
            "Name: Is Fraud?, dtype: int64\n",
            "p:0.9384 -0.01875169963510659 \n",
            "0    9160\n",
            "1     840\n",
            "Name: Is Fraud?, dtype: int64\n",
            "p:0.9370 -0.017251699635106588 \n",
            "0    9152\n",
            "1     848\n",
            "Name: Is Fraud?, dtype: int64\n",
            "p:0.9355 -0.014851699635106574 \n",
            "0    9201\n",
            "1     799\n",
            "Name: Is Fraud?, dtype: int64\n",
            "p:0.9313 -0.012851699635106573 \n",
            "0    9213\n",
            "1     787\n",
            "Name: Is Fraud?, dtype: int64\n",
            "p:0.9290 -0.014651699635106596 \n",
            "0    9223\n",
            "1     777\n",
            "Name: Is Fraud?, dtype: int64\n",
            "p:0.9348 -0.013851699635106574 \n",
            "0    9231\n",
            "1     769\n",
            "Name: Is Fraud?, dtype: int64\n",
            "p:0.9272 -0.014451699635106563 \n",
            "0    9257\n",
            "1     743\n",
            "Name: Is Fraud?, dtype: int64\n",
            "p:0.9321 -0.011151699635106593 \n",
            "0    9243\n",
            "1     757\n",
            "Name: Is Fraud?, dtype: int64\n",
            "p:0.9377 -0.011151699635106593 \n",
            "0    9231\n",
            "1     769\n",
            "Name: Is Fraud?, dtype: int64\n",
            "p:0.9363 -0.008951699635106558 \n",
            "0    9259\n",
            "1     741\n",
            "Name: Is Fraud?, dtype: int64\n",
            "p:0.9412 -0.009051699635106603 \n",
            "0    9270\n",
            "1     730\n",
            "Name: Is Fraud?, dtype: int64\n",
            "p:0.9321 -0.00765169963510659 \n",
            "0    9329\n",
            "1     671\n",
            "Name: Is Fraud?, dtype: int64\n",
            "p:0.9265 -0.008651699635106591 \n",
            "0    9348\n",
            "1     652\n",
            "Name: Is Fraud?, dtype: int64\n",
            "p:0.9216 -0.009951699635106559 \n",
            "0    9357\n",
            "1     643\n",
            "Name: Is Fraud?, dtype: int64\n",
            "p:0.9205 -0.008051699635106602 \n",
            "0    9361\n",
            "1     639\n",
            "Name: Is Fraud?, dtype: int64\n",
            "p:0.8996 0.008011446130209321 \n",
            "0    9390\n",
            "1     610\n",
            "Name: Is Fraud?, dtype: int64\n",
            "p:0.8889 0.007603495294795537 \n",
            "0    9409\n",
            "1     591\n",
            "Name: Is Fraud?, dtype: int64\n",
            "p:0.8981 0.006303495294795458 \n",
            "0    9459\n",
            "1     541\n",
            "Name: Is Fraud?, dtype: int64\n",
            "p:0.8945 0.00610349529479548 \n",
            "0    9504\n",
            "1     496\n",
            "Name: Is Fraud?, dtype: int64\n",
            "p:0.8730 0.005703495294795524 \n",
            "0    9544\n",
            "1     456\n",
            "Name: Is Fraud?, dtype: int64\n",
            "p:0.8439 -0.005455233339734966 \n",
            "0    9584\n",
            "1     416\n",
            "Name: Is Fraud?, dtype: int64\n",
            "p:0.8280 0.006311446130209397 \n",
            "0    9623\n",
            "1     377\n",
            "Name: Is Fraud?, dtype: int64\n",
            "p:0.8176 0.007911446130209332 \n",
            "0    9651\n",
            "1     349\n",
            "Name: Is Fraud?, dtype: int64\n",
            "p:0.8222 0.007103495294795481 \n",
            "0    9678\n",
            "1     322\n",
            "Name: Is Fraud?, dtype: int64\n",
            "p:0.8168 0.00666591127328596 \n",
            "0    9697\n",
            "1     303\n",
            "Name: Is Fraud?, dtype: int64\n",
            "p:0.7949 0.008076550797004034 \n",
            "0    9724\n",
            "1     276\n",
            "Name: Is Fraud?, dtype: int64\n",
            "p:0.7629 0.008576550797004034 \n",
            "0    9756\n",
            "1     244\n",
            "Name: Is Fraud?, dtype: int64\n",
            "p:0.7176 0.008676550797004037 \n",
            "0    9784\n",
            "1     216\n",
            "Name: Is Fraud?, dtype: int64\n",
            "p:0.6709 0.007676550797004036 \n",
            "0    9814\n",
            "1     186\n",
            "Name: Is Fraud?, dtype: int64\n",
            "p:0.6486 0.008476550797004032 \n",
            "0    9815\n",
            "1     185\n",
            "Name: Is Fraud?, dtype: int64\n",
            "p:0.6623 0.00877655079700404 \n",
            "0    9810\n",
            "1     190\n",
            "Name: Is Fraud?, dtype: int64\n",
            "p:0.6543 0.00697655079700403 \n",
            "0    9808\n",
            "1     192\n",
            "Name: Is Fraud?, dtype: int64\n",
            "p:0.6860 0.006176550797004035 \n",
            "0    9805\n",
            "1     195\n",
            "Name: Is Fraud?, dtype: int64\n",
            "p:0.7059 0.006864125216055311 \n",
            "0    9822\n",
            "1     178\n",
            "Name: Is Fraud?, dtype: int64\n",
            "p:0.7143 -0.00818235068177453 \n",
            "0    9834\n",
            "1     166\n",
            "Name: Is Fraud?, dtype: int64\n",
            "p:0.7500 -0.00822579220280395 \n",
            "0    9849\n",
            "1     151\n",
            "Name: Is Fraud?, dtype: int64\n",
            "p:0.7692 -0.008782350681774576 \n",
            "0    9844\n",
            "1     156\n",
            "Name: Is Fraud?, dtype: int64\n",
            "p:0.7831 -0.007682350681774586 \n",
            "0    9827\n",
            "1     173\n",
            "Name: Is Fraud?, dtype: int64\n",
            "p:0.7816 -0.007782350681774575 \n",
            "0    9820\n",
            "1     180\n",
            "Name: Is Fraud?, dtype: int64\n",
            "p:0.8046 0.008217764547724216 \n",
            "0    9815\n",
            "1     185\n",
            "Name: Is Fraud?, dtype: int64\n",
            "p:0.8242 -0.008482350681774609 \n",
            "0    9803\n",
            "1     197\n",
            "Name: Is Fraud?, dtype: int64\n",
            "p:0.8068 -0.009796504705204545 \n",
            "0    9805\n",
            "1     195\n",
            "Name: Is Fraud?, dtype: int64\n",
            "p:0.7816 -0.012196504705204503 \n",
            "0    9809\n",
            "1     191\n",
            "Name: Is Fraud?, dtype: int64\n",
            "p:0.7619 -0.012296504705204492 \n",
            "0    9816\n",
            "1     184\n",
            "Name: Is Fraud?, dtype: int64\n",
            "p:0.7683 -0.008239984636066788 \n",
            "0    9821\n",
            "1     179\n",
            "Name: Is Fraud?, dtype: int64\n",
            "p:0.7143 -0.009096504705204511 \n",
            "0    9833\n",
            "1     167\n",
            "Name: Is Fraud?, dtype: int64\n",
            "p:0.7176 -0.0091399846360668 \n",
            "0    9830\n",
            "1     170\n",
            "Name: Is Fraud?, dtype: int64\n",
            "p:0.7059 -0.008996504705204522 \n",
            "0    9834\n",
            "1     166\n",
            "Name: Is Fraud?, dtype: int64\n",
            "p:0.7273 -0.01005523333973496 \n",
            "0    9826\n",
            "1     174\n",
            "Name: Is Fraud?, dtype: int64\n",
            "p:0.7303 -0.010355233339734982 \n",
            "0    9833\n",
            "1     167\n",
            "Name: Is Fraud?, dtype: int64\n",
            "p:0.6923 -0.01045523333973497 \n",
            "0    9846\n",
            "1     154\n",
            "Name: Is Fraud?, dtype: int64\n",
            "p:0.7111 -0.008055233339734957 \n",
            "0    9844\n",
            "1     156\n",
            "Name: Is Fraud?, dtype: int64\n",
            "p:0.6782 -0.00995523333973497 \n",
            "0    9847\n",
            "1     153\n",
            "Name: Is Fraud?, dtype: int64\n",
            "p:0.6591 -0.010155233339734948 \n",
            "0    9845\n",
            "1     155\n",
            "Name: Is Fraud?, dtype: int64\n",
            "p:0.6429 -0.009755233339734992 \n",
            "0    9851\n",
            "1     149\n",
            "Name: Is Fraud?, dtype: int64\n",
            "p:0.6207 -0.006455233339734967 \n",
            "0    9854\n",
            "1     146\n",
            "Name: Is Fraud?, dtype: int64\n",
            "p:0.5977 0.006264125216055308 \n",
            "0    9865\n",
            "1     135\n",
            "Name: Is Fraud?, dtype: int64\n",
            "p:0.5679 -0.0069552333397349675 \n",
            "0    9882\n",
            "1     118\n",
            "Name: Is Fraud?, dtype: int64\n",
            "p:0.5385 -0.0069552333397349675 \n",
            "0    9890\n",
            "1     110\n",
            "Name: Is Fraud?, dtype: int64\n",
            "p:0.5000 -0.006255233339734989 \n",
            "0    9899\n",
            "1     101\n",
            "Name: Is Fraud?, dtype: int64\n",
            "p:0.4615 0.007500729786825422 \n",
            "0    9911\n",
            "1      89\n",
            "Name: Is Fraud?, dtype: int64\n",
            "p:0.4762 0.006164125216055319 \n",
            "0    9913\n",
            "1      87\n",
            "Name: Is Fraud?, dtype: int64\n",
            "p:0.4921 0.006300729786825443 \n",
            "0    9908\n",
            "1      92\n",
            "Name: Is Fraud?, dtype: int64\n",
            "p:0.5000 0.005600729786825465 \n",
            "0    9900\n",
            "1     100\n",
            "Name: Is Fraud?, dtype: int64\n",
            "p:0.5143 0.005168772805838384 \n",
            "0    9895\n",
            "1     105\n",
            "Name: Is Fraud?, dtype: int64\n",
            "p:0.5507 0.006061878240829599 \n",
            "0    9885\n",
            "1     115\n",
            "Name: Is Fraud?, dtype: int64\n",
            "p:0.5263 0.009861878240829625 \n",
            "0    9885\n",
            "1     115\n",
            "Name: Is Fraud?, dtype: int64\n",
            "p:0.5556 0.01026187824082958 \n",
            "0    9883\n",
            "1     117\n",
            "Name: Is Fraud?, dtype: int64\n",
            "p:0.5270 0.010561878240829548 \n",
            "0    9899\n",
            "1     101\n",
            "Name: Is Fraud?, dtype: int64\n",
            "p:0.5135 0.00926187824082958 \n",
            "0    9904\n",
            "1      96\n",
            "Name: Is Fraud?, dtype: int64\n",
            "p:0.5000 0.009761878240829636 \n",
            "0    9907\n",
            "1      93\n",
            "Name: Is Fraud?, dtype: int64\n",
            "p:0.4921 0.009461878240829558 \n",
            "0    9907\n",
            "1      93\n",
            "Name: Is Fraud?, dtype: int64\n",
            "p:0.5085 0.010661878240829648 \n",
            "0    9911\n",
            "1      89\n",
            "Name: Is Fraud?, dtype: int64\n",
            "p:0.5088 0.01256187824082955 \n",
            "0    9916\n",
            "1      84\n",
            "Name: Is Fraud?, dtype: int64\n",
            "p:0.5082 0.011861878240829626 \n",
            "0    9913\n",
            "1      87\n",
            "Name: Is Fraud?, dtype: int64\n",
            "p:0.5254 0.013061878240829605 \n",
            "0    9912\n",
            "1      88\n",
            "Name: Is Fraud?, dtype: int64\n",
            "p:0.5424 0.011968772805838301 \n",
            "0    9906\n",
            "1      94\n",
            "Name: Is Fraud?, dtype: int64\n",
            "p:0.5625 0.013161878240829594 \n",
            "0    9899\n",
            "1     101\n",
            "Name: Is Fraud?, dtype: int64\n",
            "p:0.5424 0.013161878240829594 \n",
            "0    9905\n",
            "1      95\n",
            "Name: Is Fraud?, dtype: int64\n",
            "p:0.5500 0.011500729786825425 \n",
            "0    9902\n",
            "1      98\n",
            "Name: Is Fraud?, dtype: int64\n",
            "p:0.5714 0.011061878240829603 \n",
            "0    9899\n",
            "1     101\n",
            "Name: Is Fraud?, dtype: int64\n",
            "p:0.5972 0.011700729786825459 \n",
            "0    9888\n",
            "1     112\n",
            "Name: Is Fraud?, dtype: int64\n",
            "p:0.6000 0.011400729786825436 \n",
            "0    9889\n",
            "1     111\n",
            "Name: Is Fraud?, dtype: int64\n",
            "p:0.6053 0.011900729786825437 \n",
            "0    9894\n",
            "1     106\n",
            "Name: Is Fraud?, dtype: int64\n"
          ]
        }
      ]
    },
    {
      "cell_type": "code",
      "source": [
        "plt.figure(figsize=(20,5))\n",
        "pps = pd.DataFrame(f1s)\n",
        "pps['p'].plot(figsize=(20,5))"
      ],
      "metadata": {
        "id": "94jrAb-SeVm6",
        "outputId": "6ba20b5d-d880-44da-da5c-639dc3996040",
        "colab": {
          "base_uri": "https://localhost:8080/",
          "height": 273
        }
      },
      "execution_count": 528,
      "outputs": [
        {
          "output_type": "execute_result",
          "data": {
            "text/plain": [
              "<matplotlib.axes._subplots.AxesSubplot at 0x7f1b3e9dc410>"
            ]
          },
          "metadata": {},
          "execution_count": 528
        },
        {
          "output_type": "display_data",
          "data": {
            "text/plain": [
              "<Figure size 1440x360 with 1 Axes>"
            ],
            "image/png": "[encoded data removed]"
          },
          "metadata": {
            "needs_background": "light"
          }
        }
      ]
    },
    {
      "cell_type": "code",
      "source": [
        "\n",
        "pps['d_MCC'].plot(figsize=(20,5))\n",
        "pps['d_HOUR'].plot(figsize=(20,5))\n",
        "#pps['d_MCC_abs'].plot(figsize=(20,5))\n",
        "#pps['d_HOUR_abs'].plot(figsize=(20,5))"
      ],
      "metadata": {
        "colab": {
          "base_uri": "https://localhost:8080/",
          "height": 270
        },
        "id": "peAAA98gNNyf",
        "outputId": "9e8d3d2d-b4b1-4800-e901-6e976a3164b8"
      },
      "execution_count": 529,
      "outputs": [
        {
          "output_type": "execute_result",
          "data": {
            "text/plain": [
              "<matplotlib.axes._subplots.AxesSubplot at 0x7f1b3eae1bd0>"
            ]
          },
          "metadata": {},
          "execution_count": 529
        },
        {
          "output_type": "display_data",
          "data": {
            "text/plain": [
              "<Figure size 1440x360 with 1 Axes>"
            ],
            "image/png": "[encoded data removed]"
          },
          "metadata": {
            "needs_background": "light"
          }
        }
      ]
    },
    {
      "cell_type": "code",
      "source": [
        "y_pred=cat.predict(x_inf)\n",
        "print(classification_report(y_inf, y_pred))  \n",
        "\n",
        "base_score = precision_recall_fscore_support(y_inf, y_pred,average='binary')"
      ],
      "metadata": {
        "colab": {
          "base_uri": "https://localhost:8080/"
        },
        "id": "RyMGCVv9NU-Y",
        "outputId": "9dfe33d6-5b69-4e28-d75b-d557057e0322"
      },
      "execution_count": 530,
      "outputs": [
        {
          "output_type": "stream",
          "name": "stdout",
          "text": [
            "              precision    recall  f1-score   support\n",
            "\n",
            "           0       0.96      1.00      0.98     10248\n",
            "           1       0.95      0.54      0.69       911\n",
            "\n",
            "    accuracy                           0.96     11159\n",
            "   macro avg       0.95      0.77      0.83     11159\n",
            "weighted avg       0.96      0.96      0.96     11159\n",
            "\n"
          ]
        }
      ]
    },
    {
      "cell_type": "code",
      "source": [
        "base_score"
      ],
      "metadata": {
        "colab": {
          "base_uri": "https://localhost:8080/"
        },
        "id": "5pDJryBHwnJe",
        "outputId": "6108cfe6-06da-48ed-e52a-576626095eac"
      },
      "execution_count": 531,
      "outputs": [
        {
          "output_type": "execute_result",
          "data": {
            "text/plain": [
              "(0.9481765834932822, 0.5422612513721186, 0.6899441340782122, None)"
            ]
          },
          "metadata": {},
          "execution_count": 531
        }
      ]
    },
    {
      "cell_type": "markdown",
      "source": [
        "## importance 추출"
      ],
      "metadata": {
        "id": "9069YhpBejgM"
      }
    },
    {
      "cell_type": "code",
      "source": [
        "COLUMNS = X.columns"
      ],
      "metadata": {
        "id": "lbnUKr2Ik3t7"
      },
      "execution_count": 463,
      "outputs": []
    },
    {
      "cell_type": "code",
      "source": [
        "COLUMNS"
      ],
      "metadata": {
        "colab": {
          "base_uri": "https://localhost:8080/"
        },
        "id": "ZWVBemF9k_61",
        "outputId": "64936ef4-4f1a-4731-ca40-fb03c8a70a17"
      },
      "execution_count": 464,
      "outputs": [
        {
          "output_type": "execute_result",
          "data": {
            "text/plain": [
              "Index(['Card', 'Amount', 'Use Chip', 'MCC', 'is online', 'Hour', 'is vozmes',\n",
              "       'abs_amount'],\n",
              "      dtype='object')"
            ]
          },
          "metadata": {},
          "execution_count": 464
        }
      ]
    },
    {
      "cell_type": "code",
      "source": [
        "importances = cat.feature_importances_"
      ],
      "metadata": {
        "id": "SZPjlF2SlBiv"
      },
      "execution_count": 465,
      "outputs": []
    },
    {
      "cell_type": "code",
      "source": [
        "importances = importances/sum(importances)\n",
        "\n",
        "l = []\n",
        "for x,(c,i) in enumerate(zip(COLUMNS,importances)):\n",
        "    l.append((c,i,x))\n",
        "l.sort(key = lambda x: x[1],reverse=True)    "
      ],
      "metadata": {
        "id": "_RZUHhnalFjJ"
      },
      "execution_count": 466,
      "outputs": []
    },
    {
      "cell_type": "code",
      "source": [
        "l"
      ],
      "metadata": {
        "colab": {
          "base_uri": "https://localhost:8080/"
        },
        "id": "M_hGvSxilLkU",
        "outputId": "83535be8-af7a-4119-e819-1015f79b4dc9"
      },
      "execution_count": 467,
      "outputs": [
        {
          "output_type": "execute_result",
          "data": {
            "text/plain": [
              "[('MCC', 0.3152382108648391, 3),\n",
              " ('Hour', 0.2554950036849448, 5),\n",
              " ('abs_amount', 0.12045762001226974, 7),\n",
              " ('Amount', 0.10637763670048075, 1),\n",
              " ('is online', 0.08209582023119898, 4),\n",
              " ('Use Chip', 0.059479644640758375, 2),\n",
              " ('Card', 0.04159891124760206, 0),\n",
              " ('is vozmes', 0.019257152617906097, 6)]"
            ]
          },
          "metadata": {},
          "execution_count": 467
        }
      ]
    },
    {
      "cell_type": "markdown",
      "source": [
        "## 각 feature의 std"
      ],
      "metadata": {
        "id": "IOtGa27oepLG"
      }
    },
    {
      "cell_type": "code",
      "source": [
        "df_stat = pd.DataFrame({\"mean\":np.mean(x_ref,axis=0),\"std\":np.std(x_ref,axis=0)},index=COLUMNS)"
      ],
      "metadata": {
        "id": "gm-vvuUhNe-z"
      },
      "execution_count": 532,
      "outputs": []
    },
    {
      "cell_type": "code",
      "source": [
        "np.random.normal(0,0,3)"
      ],
      "metadata": {
        "id": "egFiBhn6nG_B",
        "outputId": "fc51d965-0fce-47e0-da02-4bdb9b7ccaaa",
        "colab": {
          "base_uri": "https://localhost:8080/"
        }
      },
      "execution_count": 514,
      "outputs": [
        {
          "output_type": "execute_result",
          "data": {
            "text/plain": [
              "array([0., 0., 0.])"
            ]
          },
          "metadata": {},
          "execution_count": 514
        }
      ]
    },
    {
      "cell_type": "markdown",
      "source": [
        "## Samping..."
      ],
      "metadata": {
        "id": "0rWDNuwWfJds"
      }
    },
    {
      "cell_type": "code",
      "source": [
        "from sklearn.model_selection import train_test_split\n",
        "import random\n",
        "\n",
        "def drift_sampling4(predict,sampling_sigma=0.95,permutaion_sigma=1,epoch = 100,toplist=[]):\n",
        "    print(\"sampling_sigma:\",sampling_sigma)\n",
        "    print(\"permutaion_sigma:\",permutaion_sigma)\n",
        "    \n",
        "    metric_a= []\n",
        "    metric_b= []\n",
        "    metric_c= []\n",
        "    drift_data_ks_stats = []\n",
        "    drift_data_ks_pvals = []\n",
        "    drift_data_ks_stats_diff = []\n",
        "    drift_data_ks_pvals_diff = []     \n",
        "    drift_ratio1 = []\n",
        "    drift_ratio2 = []\n",
        "    for i in range(epoch):\n",
        "        #y_ref_d, _, x_ref_d, _ = train_test_split(y_ref, x_ref, train_size=0.10, random_state=i)\n",
        "        y_inf_d, x_inf_d, _, _ = split_sample(y_ref.copy(), x_ref.copy(), train_size=random.uniform(1-sampling_sigma,sampling_sigma),middle_offset = True)\n",
        "        #print(y_inf_d.shape, x_inf_d.shape)\n",
        "        #o_drift = ks_drift(x_ref[:,top_list], x_inf_d[:,top_list])\n",
        "        #permutation for x_inf_d\n",
        "        #for v in toplist:\n",
        "\n",
        "        # 20%의 feature에 대하여 permutaion...\n",
        "        #for q in range(int(len(toplist)*0.2)):\n",
        "        v = random.choice(toplist)\n",
        "        x_inf_d[:,v] = x_inf_d[:,v] + np.random.normal(0, df_stat['std'][v]*permutaion_sigma, x_inf_d.shape[0])\n",
        "\n",
        "        \"\"\"\n",
        "        for k in range(x_inf_d.shape[0]):\n",
        "            for v in toplist:\n",
        "                x_inf_d[k,v] = x_inf_d[k,v] + np.random.normal(0, df_stat['std'][v]*5, 1)[0]\n",
        "        \"\"\"\n",
        "        acc = precision_recall_fscore_support(y_inf_d, predict(x_inf_d),average='binary')\n",
        "        if acc[0] >0 and base_score[0] > acc[0]:\n",
        "            x_drift = ks_drift(x_ref[:,top_list], x_inf_d[:,top_list])\n",
        "            #sumo = np.sum((o_drift[:,0]))\n",
        "            sumd = np.sum((x_drift[:,0]))\n",
        "            #sump = np.sum(x_drift[:,1])\n",
        "            #drift_ratio1.append(o_drift[:,0])\n",
        "            #drift_ratio2.append(x_drift[:,0])\n",
        "            print(f\"\\r{i+1}/{epoch} acc:{acc[0]:.4f} {acc[1]:.4f} {acc[2]:.4f} sum:{sumd:.4f}\", end=\"\", flush=True)\n",
        "            metric_a.append([acc[0]/base_score[0],acc[1]/base_score[1],acc[2]/base_score[2]])\n",
        "            metric_b.append([(base_score[0] - acc[0]),(base_score[1] - acc[1]),(base_score[2] - acc[2])])\n",
        "            metric_c.append([acc[0],acc[1],acc[2]])\n",
        "            drift_data_ks_stats.append(x_drift[:,0])\n",
        "            drift_data_ks_pvals.append(x_drift[:,1])\n",
        "            #drift_data_ks_pvals.append([1 if a < 0.05 else 0 for a in x_drift[:,1]]) # x_drift[:,1])   \n",
        "            #drift_data_ks_stats_diff.append(base_drift[:,0]*(1-base_drift[:,1]) - x_drift[:,0]*(1-x_drift[:,1]))\n",
        "            drift_data_ks_pvals_diff.append([1 if a < 0.05 else 0 for a in x_drift[:,1]]) \n",
        "\n",
        "    metric_a = np.asarray(metric_a)\n",
        "    metric_b = np.asarray(metric_b)\n",
        "    metric_c = np.asarray(metric_c)        \n",
        "    drift_data_ks_stats = np.asarray(drift_data_ks_stats)\n",
        "    drift_data_ks_pvals = np.asarray(drift_data_ks_pvals)    \n",
        "    drift_data_ks_stats_diff = np.asarray(drift_data_ks_stats_diff)\n",
        "    drift_data_ks_pvals_diff = np.asarray(drift_data_ks_pvals_diff)  \n",
        "    \"\"\"\n",
        "    drift_ratio1 = np.asarray(drift_ratio1)\n",
        "    drift_ratio2 = np.asarray(drift_ratio2)\n",
        "\n",
        "    drift_ratio = []\n",
        "    for s in range(len(toplist)):\n",
        "        drift_ratio.append(sum(abs(drift_ratio2[:,s]))/sum(abs(drift_ratio1[:,s])))\n",
        "    \"\"\"\n",
        "    return  metric_a,metric_b,metric_c,drift_data_ks_stats,drift_data_ks_pvals,drift_data_ks_stats_diff,drift_data_ks_pvals_diff,y_ref.shape[0]\n",
        "\n"
      ],
      "metadata": {
        "id": "WptOxab7qC8r"
      },
      "execution_count": 559,
      "outputs": []
    },
    {
      "cell_type": "code",
      "source": [
        "TOP = 2\n",
        "samplingsigma=0.95\n",
        "permutaionsigma=0.4\n",
        "\n",
        "itc = getImportanceColumnNameTop(prefix=\"\",top=TOP)\n",
        "top_list = getImportanceIndexTop(top=TOP)\n",
        "print(itc)\n",
        "metric_a,metric_b,metric_c,drift_data_ks_stats,drift_data_ks_pvals,drift_data_ks_stats_diff,drift_data_ks_pvals_diff,length = drift_sampling4(cat.predict,sampling_sigma=samplingsigma,permutaion_sigma=permutaionsigma,epoch = 1000,toplist=top_list)\n"
      ],
      "metadata": {
        "colab": {
          "base_uri": "https://localhost:8080/"
        },
        "id": "oDnrSmjdkEE7",
        "outputId": "47ba3f52-d755-4fe5-989b-05fcaedb965a"
      },
      "execution_count": 603,
      "outputs": [
        {
          "output_type": "stream",
          "name": "stdout",
          "text": [
            "['MCC', 'Hour']\n",
            "sampling_sigma: 0.95\n",
            "permutaion_sigma: 0.4\n",
            "783/1000 acc:0.1943 0.3794 0.2570 sum:-0.1417"
          ]
        },
        {
          "output_type": "stream",
          "name": "stderr",
          "text": [
            "/usr/local/lib/python3.7/dist-packages/sklearn/metrics/_classification.py:1318: UndefinedMetricWarning: Recall and F-score are ill-defined and being set to 0.0 due to no true samples. Use `zero_division` parameter to control this behavior.\n",
            "  _warn_prf(average, modifier, msg_start, len(result))\n"
          ]
        },
        {
          "output_type": "stream",
          "name": "stdout",
          "text": [
            "1000/1000 acc:0.1700 0.3207 0.2222 sum:-0.1585"
          ]
        }
      ]
    },
    {
      "cell_type": "code",
      "source": [
        "drift_data_ks_stats.shape"
      ],
      "metadata": {
        "id": "QitCQ7j7U0M2",
        "outputId": "3972a210-da65-4747-8deb-7472d7948506",
        "colab": {
          "base_uri": "https://localhost:8080/"
        }
      },
      "execution_count": 604,
      "outputs": [
        {
          "output_type": "execute_result",
          "data": {
            "text/plain": [
              "(817, 2)"
            ]
          },
          "metadata": {},
          "execution_count": 604
        }
      ]
    },
    {
      "cell_type": "code",
      "source": [
        "\n",
        "import statsmodels.api as sm # import statsmodels \n",
        "\n",
        "trainset = pd.DataFrame(drift_data_ks_stats*drift_data_ks_pvals_diff,columns=COLUMNS[top_list])\n",
        "dx = trainset\n",
        "print(dx.shape)\n",
        "\n",
        "model = sm.OLS(metric_c[:,0], dx).fit() ## sm.OLS(output, input)\n",
        "# Print out the statistics\n",
        "print(model.summary())"
      ],
      "metadata": {
        "id": "76mvh9FSVEq7",
        "outputId": "a88dd63b-d4db-4907-bec2-9dee55bcc995",
        "colab": {
          "base_uri": "https://localhost:8080/"
        }
      },
      "execution_count": 605,
      "outputs": [
        {
          "output_type": "stream",
          "name": "stdout",
          "text": [
            "(817, 2)\n",
            "                                 OLS Regression Results                                \n",
            "=======================================================================================\n",
            "Dep. Variable:                      y   R-squared (uncentered):                   0.904\n",
            "Model:                            OLS   Adj. R-squared (uncentered):              0.903\n",
            "Method:                 Least Squares   F-statistic:                              3820.\n",
            "Date:                Thu, 21 Jul 2022   Prob (F-statistic):                        0.00\n",
            "Time:                        07:49:13   Log-Likelihood:                          241.14\n",
            "No. Observations:                 817   AIC:                                     -478.3\n",
            "Df Residuals:                     815   BIC:                                     -468.9\n",
            "Df Model:                           2                                                  \n",
            "Covariance Type:            nonrobust                                                  \n",
            "==============================================================================\n",
            "                 coef    std err          t      P>|t|      [0.025      0.975]\n",
            "------------------------------------------------------------------------------\n",
            "MCC           -1.2677      0.052    -24.343      0.000      -1.370      -1.165\n",
            "Hour         -14.5682      0.172    -84.561      0.000     -14.906     -14.230\n",
            "==============================================================================\n",
            "Omnibus:                     1027.130   Durbin-Watson:                   1.808\n",
            "Prob(Omnibus):                  0.000   Jarque-Bera (JB):           153573.603\n",
            "Skew:                           6.345   Prob(JB):                         0.00\n",
            "Kurtosis:                      68.957   Cond. No.                         3.31\n",
            "==============================================================================\n",
            "\n",
            "Warnings:\n",
            "[1] Standard Errors assume that the covariance matrix of the errors is correctly specified.\n"
          ]
        }
      ]
    },
    {
      "cell_type": "code",
      "source": [
        "x_ref.shape"
      ],
      "metadata": {
        "id": "M1dD_C7s2jae",
        "outputId": "a2fc1587-70e1-424f-d810-2eeaef16a7a8",
        "colab": {
          "base_uri": "https://localhost:8080/"
        }
      },
      "execution_count": 313,
      "outputs": [
        {
          "output_type": "execute_result",
          "data": {
            "text/plain": [
              "(26035, 8)"
            ]
          },
          "metadata": {},
          "execution_count": 313
        }
      ]
    },
    {
      "cell_type": "code",
      "source": [
        "acc_infs = []\n",
        "for i in range(100):\n",
        "    #y_ref_d, _, x_ref_d, _ = train_test_split(y_ref, x_ref, train_size=0.10, random_state=i)\n",
        "    y_inf_d,x_inf_d, _, _ = split_sample(y_inf, x_inf, train_size=0.5,middle_offset = True)\n",
        "    inf_drift = ks_drift(x_ref[:,top_list], x_inf_d[:,top_list])\n",
        "    dd = inf_drift[:,0]*[1 if a < 0.05 else 0 for a in inf_drift[:,1]]\n",
        "    acc_inf = model.predict(dd)[0]\n",
        "    acc = precision_recall_fscore_support(y_inf_d, cat.predict(x_inf_d),average='binary')\n",
        "    #print(f\"{x_inf_d.shape[0]} precision: {acc[0]:.4f}, predict:{acc_inf:.4f}\")\n",
        "    acc_infs.append(acc[0]/acc_inf)\n",
        "mdr = mean(acc_infs)\n",
        "print(mdr)\n"
      ],
      "metadata": {
        "colab": {
          "base_uri": "https://localhost:8080/"
        },
        "id": "Y49U42cG6asH",
        "outputId": "c284d23a-130f-460c-9a0e-07043c75ff91"
      },
      "execution_count": 606,
      "outputs": [
        {
          "output_type": "stream",
          "name": "stdout",
          "text": [
            "3.3845440175583374\n"
          ]
        }
      ]
    },
    {
      "cell_type": "code",
      "source": [
        "import math\n",
        "from statistics import mean\n",
        "\n",
        "def predict_precision_for_PPM3(models):\n",
        "\n",
        "    df = {}\n",
        "    df['The precision of the model on real data'] = []\n",
        "    df['Predicted precision'] = []\n",
        "    beta = 0\n",
        "    predict = cat.predict\n",
        "\n",
        "    window_size = 10000\n",
        "    step = 500\n",
        "    batch = math.ceil((X_test2.shape[0]-window_size)/step)\n",
        "    for i in range(batch):\n",
        "        ux = X_test2[i*step:i*step+window_size].values\n",
        "        uy = y_test2[i*step:i*step+window_size].values\n",
        "\n",
        "        f1 = precision_recall_fscore_support(uy, predict(ux),average='binary')\n",
        "        X3_drift = ks_drift(x_ref[:,top_list],ux[:,top_list])\n",
        "        #X3_drift = mean_drift[top_list,0] - X3_drift[:,0]\n",
        "\n",
        "        X3_drift = X3_drift[:,0] * [1 if a < 0.05 else 0 for a in X3_drift[:,1]] # *importances[top_list]\n",
        "        #X3_drift = X3_drift[:,0] * (1-X3_drift[:,1]) *importances\n",
        "        dd = pd.DataFrame(X3_drift.reshape(1,-1),columns=COLUMNS[top_list])\n",
        "        #dd = drift_scaler.transform(dd)\n",
        "        #acc_c = mean([m.predict(ss.transform(dd))[0][0] for m in  models]) #model_c.predict(dd)[0]\n",
        "        #acc_c = mean([m.predict(dd)[0][0] for m in  models]) \n",
        "\n",
        "        #print(dd.values)\n",
        "        #print(dd.values/drift_ratio)\n",
        "        \n",
        "        acc_c = models.predict(dd.values)[0]\n",
        "        acc_c = acc_c / mdr\n",
        "        \n",
        "        if acc_c - beta > 0:\n",
        "            beta = beta+ acc_c\n",
        "        \n",
        "        acc_c = base_score[0] + acc_c - beta\n",
        "        \"\"\"\n",
        "        if beta == 0:\n",
        "            beta = base_score[0] - acc_c\n",
        "        acc_c = beta + acc_c\n",
        "        \"\"\"\n",
        "        print(f\"{f1[0]} - {acc_c}\")\n",
        "        df['The precision of the model on real data'].append(f1[0])\n",
        "        df['Predicted precision'].append(acc_c)\n",
        "\n",
        "    df2 = pd.DataFrame(df)\n",
        "\n",
        "    return df2"
      ],
      "metadata": {
        "id": "FHKU-0l0NwQE"
      },
      "execution_count": 607,
      "outputs": []
    },
    {
      "cell_type": "code",
      "source": [
        "\n",
        "df2 = predict_precision_for_PPM3(model)\n",
        "MAE,RMSE,MAPE,r_2 = result_statistics(df2)\n",
        "df2.plot(title=f'TOP:{TOP}, sampling_sigma:{sampling_sigma}, permutaion_sigma:{permutaion_sigma}, R2:{r_2}', figsize=(20,5))\n"
      ],
      "metadata": {
        "colab": {
          "base_uri": "https://localhost:8080/",
          "height": 1000
        },
        "id": "QwTlK4cLNwzL",
        "outputId": "19f1c1b8-8bff-438f-c93f-272ced024ab5"
      },
      "execution_count": 608,
      "outputs": [
        {
          "output_type": "stream",
          "name": "stdout",
          "text": [
            "0.930648769574944 - 0.9481765834932822\n",
            "0.9331797235023042 - 0.9438532204790815\n",
            "0.9384965831435079 - 0.9026370073891656\n",
            "0.937799043062201 - 0.8967436573638656\n",
            "0.9396751740139211 - 0.9031617496344362\n",
            "0.9370629370629371 - 0.8916349310640659\n",
            "0.9353233830845771 - 0.8858514223013412\n",
            "0.9370629370629371 - 0.8943279698955653\n",
            "0.936542669584245 - 0.8966299585543813\n",
            "0.9384288747346072 - 0.9106838607164478\n",
            "0.9372384937238494 - 0.9109276147456538\n",
            "0.9389473684210526 - 0.9078396681945609\n",
            "0.9384920634920635 - 0.9239535888062713\n",
            "0.9450980392156862 - 0.9230933157588674\n",
            "0.943359375 - 0.9408344425664683\n",
            "0.9422680412371134 - 0.9341710414058715\n",
            "0.946058091286307 - 0.9284446068745171\n",
            "0.9488272921108742 - 0.9227688846816511\n",
            "0.9481641468682506 - 0.9224553935701671\n",
            "0.9488888888888889 - 0.9189086910026594\n",
            "0.9443207126948775 - 0.9218658427739317\n",
            "0.9356223175965666 - 0.9265066803657878\n",
            "0.9382716049382716 - 0.925046534617264\n",
            "0.9314516129032258 - 0.9214906993582277\n",
            "0.9304703476482618 - 0.9238860279159611\n",
            "0.9305555555555556 - 0.9284709804898024\n",
            "0.933852140077821 - 0.9428066861686555\n",
            "0.9349904397705545 - 0.9386896223027579\n",
            "0.9348268839103869 - 0.9353499782442867\n",
            "0.9307535641547862 - 0.9390366082831432\n",
            "0.9224489795918367 - 0.9349193237232016\n",
            "0.9260700389105059 - 0.9426483285601945\n",
            "0.9275653923541247 - 0.9368273649165673\n",
            "0.9241516966067864 - 0.9399902212294649\n",
            "0.9266802443991853 - 0.9283041987970488\n",
            "0.921161825726141 - 0.9326656112988303\n",
            "0.921161825726141 - 0.9316549241211378\n",
            "0.918580375782881 - 0.9227846580206762\n",
            "0.922 - 0.9375590009168187\n",
            "0.9221311475409836 - 0.9409459919084544\n",
            "0.9273858921161826 - 0.9440143191090788\n",
            "0.9316770186335404 - 0.9430607061627572\n",
            "0.9252747252747253 - 0.9329251382838235\n",
            "0.933184855233853 - 0.9463727873925878\n",
            "0.9304932735426009 - 0.9428353822706637\n",
            "0.9318181818181818 - 0.9414502566309673\n",
            "0.9318181818181818 - 0.9402338649116491\n",
            "0.927860696517413 - 0.9355543832255344\n",
            "0.9289099526066351 - 0.8486773633155177\n",
            "0.9289099526066351 - 0.853654444928377\n",
            "0.9399038461538461 - 0.8755322549523438\n",
            "0.9359605911330049 - 0.8747462970600671\n",
            "0.934010152284264 - 0.8663623498046614\n",
            "0.9396984924623115 - 0.8684960888027541\n",
            "0.9375 - 0.8893810471794629\n",
            "0.9422110552763819 - 0.897540265149453\n",
            "0.9358974358974359 - 0.9019010830445565\n",
            "0.9378109452736318 - 0.9196796647330602\n",
            "0.9396325459317585 - 0.9089583130584123\n",
            "0.941031941031941 - 0.9145920022975266\n",
            "0.9397590361445783 - 0.896626740811188\n",
            "0.9432098765432099 - 0.9030057047278445\n",
            "0.9444444444444444 - 0.90420366631005\n",
            "0.9457547169811321 - 0.898664021923553\n",
            "0.941747572815534 - 0.9069177690058158\n",
            "0.9385749385749386 - 0.9089950283792162\n",
            "0.9402985074626866 - 0.9090889628848117\n",
            "0.9387254901960784 - 0.9097809862714931\n",
            "0.940149625935162 - 0.8964191074961078\n",
            "0.9394736842105263 - 0.893818813956848\n",
            "0.9371584699453552 - 0.87151057010584\n",
            "0.9391304347826087 - 0.876263772340404\n",
            "0.940677966101695 - 0.8759072880210256\n",
            "0.9380530973451328 - 0.8757949233783179\n",
            "0.9307479224376731 - 0.8642667706411705\n",
            "0.9305555555555556 - 0.8662320392844965\n",
            "0.936986301369863 - 0.8709099578446217\n",
            "0.938375350140056 - 0.8637798571894365\n",
            "0.936986301369863 - 0.8810534692017281\n",
            "0.9354838709677419 - 0.8726495286832202\n",
            "0.9313432835820895 - 0.8875836971557934\n",
            "0.9290123456790124 - 0.885244848222753\n",
            "0.9347826086956522 - 0.88408434152145\n",
            "0.9272151898734177 - 0.8787134310553318\n",
            "0.9320987654320988 - 0.8748948170232992\n",
            "0.9376947040498442 - 0.866716574309519\n",
            "0.9363057324840764 - 0.859005625697005\n",
            "0.9411764705882353 - 0.85603004378862\n",
            "0.9321428571428572 - 0.8546448078019014\n",
            "0.9264705882352942 - 0.83995417266449\n",
            "0.9216417910447762 - 0.8275280713049921\n",
            "0.9204545454545454 - 0.8259555609137604\n",
            "0.8995983935742972 - 0.8164956581818205\n",
            "0.8888888888888888 - 0.8157875880272839\n",
            "0.8981481481481481 - 0.8158440676519768\n",
            "0.8944723618090452 - 0.8091085008037507\n",
            "0.873015873015873 - 0.8079670188462379\n",
            "0.8439306358381503 - 0.8069813014420538\n",
            "0.8280254777070064 - 0.7836350172705877\n",
            "0.8175675675675675 - 0.7963791878144192\n",
            "0.8222222222222222 - 0.7932383342212465\n",
            "0.816793893129771 - 0.7934022307953517\n",
            "0.7948717948717948 - 0.7941651789229013\n",
            "0.7628865979381443 - 0.7913953015561417\n",
            "0.7176470588235294 - 0.7849013392696231\n",
            "0.6708860759493671 - 0.7850903063729248\n",
            "0.6486486486486487 - 0.7830689320175397\n",
            "0.6623376623376623 - 0.7777913614503391\n",
            "0.654320987654321 - 0.7788959831336271\n",
            "0.686046511627907 - 0.7895260340298333\n",
            "0.7058823529411765 - 0.7991684818720054\n",
            "0.7142857142857143 - 0.8129823642133575\n",
            "0.75 - 0.8104160322210751\n",
            "0.7692307692307693 - 0.8007245125145824\n",
            "0.7831325301204819 - 0.8080603177113929\n",
            "0.7816091954022989 - 0.7969064930892277\n",
            "0.8045977011494253 - 0.791774536639821\n",
            "0.8241758241758241 - 0.7975991110825872\n",
            "0.8068181818181818 - 0.7929261199824468\n",
            "0.7816091954022989 - 0.790812000334822\n",
            "0.7619047619047619 - 0.8076363744703262\n",
            "0.7682926829268293 - 0.804825708228517\n",
            "0.7142857142857143 - 0.8055769506273603\n",
            "0.7176470588235294 - 0.815493214005626\n",
            "0.7058823529411765 - 0.8180220767306486\n",
            "0.7272727272727273 - 0.8190571225448343\n",
            "0.7303370786516854 - 0.8169144834679621\n",
            "0.6923076923076923 - 0.817277140322281\n",
            "0.7111111111111111 - 0.819821693796947\n",
            "0.6781609195402298 - 0.8149376967825627\n",
            "0.6590909090909091 - 0.8089865329657931\n",
            "0.6428571428571429 - 0.8093723791228483\n",
            "0.6206896551724138 - 0.8101833053346431\n",
            "0.5977011494252874 - 0.8101540568334477\n",
            "0.5679012345679012 - 0.8207009915881415\n",
            "0.5384615384615384 - 0.8271574989937572\n",
            "0.5 - 0.8311996530978497\n",
            "0.46153846153846156 - 0.8247560720106667\n",
            "0.47619047619047616 - 0.8248262618337464\n",
            "0.49206349206349204 - 0.8243446629274157\n",
            "0.5 - 0.8135207994442911\n",
            "0.5142857142857142 - 0.808842584465994\n",
            "0.5507246376811594 - 0.812381977332353\n",
            "0.5263157894736842 - 0.8113891256850948\n",
            "0.5555555555555556 - 0.8129610414696488\n",
            "0.527027027027027 - 0.8124182429998997\n",
            "0.5135135135135135 - 0.8150573255868391\n",
            "0.5 - 0.8127178820471207\n",
            "0.49206349206349204 - 0.8115389452087053\n",
            "0.5084745762711864 - 0.8132416557730792\n",
            "0.5087719298245614 - 0.8112387115548066\n",
            "0.5081967213114754 - 0.8041835206614266\n",
            "0.5254237288135594 - 0.8054557973987596\n",
            "0.5423728813559322 - 0.8072617520723234\n",
            "0.5625 - 0.7964844640036194\n",
            "0.5423728813559322 - 0.7883062212898392\n",
            "0.55 - 0.7833327627133682\n",
            "0.5714285714285714 - 0.7878014723076707\n",
            "0.5972222222222222 - 0.7935882648005484\n",
            "0.6 - 0.7820789161131476\n",
            "0.6052631578947368 - 0.7832632930418575\n",
            "MAE 0.08741314551088807\n",
            "RMSE 0.12893366210047633\n",
            "MAPE 0.13972284809172222\n",
            "R2 0.32407720404262275\n"
          ]
        },
        {
          "output_type": "execute_result",
          "data": {
            "text/plain": [
              "<matplotlib.axes._subplots.AxesSubplot at 0x7f1b3f5a0c10>"
            ]
          },
          "metadata": {},
          "execution_count": 608
        },
        {
          "output_type": "display_data",
          "data": {
            "text/plain": [
              "<Figure size 1440x360 with 1 Axes>"
            ],
            "image/png": "[encoded data removed]"
          },
          "metadata": {
            "needs_background": "light"
          }
        }
      ]
    },
    {
      "cell_type": "code",
      "source": [
        "pps['d_MCC'].plot(figsize=(20,5))\n",
        "pps['d_HOUR'].plot(figsize=(20,5))"
      ],
      "metadata": {
        "colab": {
          "base_uri": "https://localhost:8080/",
          "height": 270
        },
        "id": "it8nJvzB-_07",
        "outputId": "fe013cb2-3730-459a-ac6f-a4c663317838"
      },
      "execution_count": 250,
      "outputs": [
        {
          "output_type": "execute_result",
          "data": {
            "text/plain": [
              "<matplotlib.axes._subplots.AxesSubplot at 0x7f1b3a95be10>"
            ]
          },
          "metadata": {},
          "execution_count": 250
        },
        {
          "output_type": "display_data",
          "data": {
            "text/plain": [
              "<Figure size 1440x360 with 1 Axes>"
            ],
            "image/png": "[encoded data removed]"
          },
          "metadata": {
            "needs_background": "light"
          }
        }
      ]
    }
  ]
}