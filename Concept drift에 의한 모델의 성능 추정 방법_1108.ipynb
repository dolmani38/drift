{
  "nbformat": 4,
  "nbformat_minor": 0,
  "metadata": {
    "colab": {
      "name": "Untitled11.ipynb",
      "provenance": [],
      "machine_shape": "hm",
      "authorship_tag": "ABX9TyOvfGP8RLBl8s4tpszFX8je",
      "include_colab_link": true
    },
    "kernelspec": {
      "name": "python3",
      "display_name": "Python 3"
    },
    "language_info": {
      "name": "python"
    },
    "gpuClass": "standard"
  },
  "cells": [
    {
      "cell_type": "markdown",
      "metadata": {
        "id": "view-in-github",
        "colab_type": "text"
      },
      "source": [
        "<a href=\"https://colab.research.google.com/github/dolmani38/drift/blob/main/Concept%20drift%EC%97%90%20%EC%9D%98%ED%95%9C%20%EB%AA%A8%EB%8D%B8%EC%9D%98%20%EC%84%B1%EB%8A%A5%20%EC%B6%94%EC%A0%95%20%EB%B0%A9%EB%B2%95_1108.ipynb\" target=\"_parent\"><img src=\"https://colab.research.google.com/assets/colab-badge.svg\" alt=\"Open In Colab\"/></a>"
      ]
    },
    {
      "cell_type": "markdown",
      "source": [
        "# Concept drift로 인한 모델 성능 저하의 정량적 추정 방법 <br>\n",
        "\n",
        "Quantitative performance estimation method for model performance degradation due to concept drift"
      ],
      "metadata": {
        "id": "MdUY2ejjB2t0"
      }
    },
    {
      "cell_type": "markdown",
      "source": [
        "# 1. Introduction"
      ],
      "metadata": {
        "id": "YuDoL0OVr4n3"
      }
    },
    {
      "cell_type": "markdown",
      "source": [
        "*   기계학습은 Trainset에 의해 모델을 구축한 후, Testset을 사용하여 성능을 측정한다.\n",
        "*   통상, 측정된 성능값은 해당 모델을 대변하는 성능 지표가 된다.\n",
        "*   이렇게 구축된 모델은 live data (online data)를 입력해서 실 활용하게 되는데, 이때 초기에 측정한 성능을 지속하여 확보하고 있는지 운영 중에 성능을 실측하여 관리하기는 업무적으로 특수한 case 제외하고 매우 어렵다.\n",
        "*   시계열 Regression의 경우, 예측 기간의 도래 이후, 실측 Y값을 알 수 있으나 역시 업무에 따라 그 시간 간격이 크게 발생 할 수 있으며, classification의 경우, 예측 class가 정확한지 실측하기 위해서는 live data에 대해 별도의 labeling 작업을 해야 한다.\n",
        "*   이러한 이유로 실제 운영 중 모델 성능 관리가 간과되고 있으며, 이로 인해 경영상의 문제를 초래 할 수 있다.\n",
        "*   이상의 이슈를 극복하기 위해, concept drift의 통계량을 측정하여 모델의 성능 상태를 유추하는 연구들이 이루어져 왔지만, concept drift의 측정값 (통계량)을 통해 직접적으로 성능을 예측하는 연구는 희박하다.\n",
        "*   이번 연구에서는 concept drift의 측정값 (통계량)을 통해 직접적으로 precision 성능을 예측하는 성능 예측 모델(PPM, Performance prediction model)을 제안한다. \n",
        "* 이를 통해, 실제 비즈니스 환경에서 live data (online data)의 drift 상태를 통해 현재 모델의 성능을 정량적으로 추정하고 직관적인 모델 성능 관리가 이루어 질 수 있도록 한다.\n",
        "\n",
        "\n",
        "\n",
        "\n",
        "\n",
        "\n",
        "\n",
        "\n",
        "\n",
        "\n"
      ],
      "metadata": {
        "id": "aGIAaCn1CJB3"
      }
    },
    {
      "cell_type": "markdown",
      "source": [
        "# 2. 이론적 배경\n",
        "\n",
        "* LaTex  :https://deep.chulgil.me/ibmunjareul-wihan-gico/ \n",
        "* https://www.cmor-faculty.rice.edu/~heinken/latex/symbols.pdf\n",
        "\n",
        "* Trainset으로 모델을 학습한 이후, 시간이 경과하면, live data는 어떠한 사회, 문화, 환경적 요인에 의해 그 특성과 분포가 변화하게 된다.\n",
        "* 이때문에 학습 시점의 모델 성능을 유지할 수 없게된다.\n",
        "* 학습이후 이러한 현상은 Data Drift, Concept Drift로 설명할 수 있으나, 이를 학습시점의 상황으로 보면, Trainset과 Testset의 Distribution이 상이한 Covariate shift (Geeta Dharani. Y; Nimisha G Nair; Pallavi Satpathy; Jabez Christopher \"Covariate Shift: A Review and Analysis on Classifiers\", 2019 Global Conference for Advancement in Technology (GCAT))의 상황으로 설명할 수 있다.\n",
        "* 따라서, Covariate Shift 상황의 학습 방법에 대한 연구들을 통해, 모델 성능 추정 방법을 도출하고자 한다.\n",
        "\n",
        "* (https://citeseerx.ist.psu.edu/viewdoc/download?doi=10.1.1.427.8969&rep=rep1&type=pdf)\n",
        "\n",
        "* covariate shift의 문제에서 먼저, Trainset을 다음과 같이 정의한다.  \n",
        "$$\n",
        "X_L = \\{x_1, . . . , x_m\\}, Y_L = \\{y_1, . . . , y_m\\}\n",
        "\\tag{1}\n",
        "$$\n",
        "이때 x의 distribution, 즉 trainset의 distribution을 p(x|λ) 이라 한다.\n",
        "* 이제, covariate shift 상황의 Testset을 다음과 같이 정의한다.\n",
        "$$ \n",
        "X_T = \\{x_{m+1}, . . . , x_{m+n}\\}, Y_T = \\{y_{m+1}, . . . , y_{m+n}\\}\n",
        "\\tag{2}\n",
        "$$\n",
        "* 위의 testset의 distribution을 p(x|θ) 이라 한다.\n",
        "* (Hidetoshi Shimodaira, \"Improving predictive inference under covariate shift by weighting the log-likelihood function\", Journal of Statistical Planning and Inference 90 (2000) 227–244)에 의하면 위의 조건에 대한 covariate shift의 학습은 아래의 식을 성립한다.\n",
        "\n",
        "$$\n",
        "E_{(x,y)\\simθ}[l(f(x),y)] = E_{(x,y)\\simλ}[\\dfrac{p(x|θ)}{p(x|λ)} l(f(x),y)]\n",
        "\\tag{3}\n",
        "$$\n",
        "* 식(3)에서 l(f(x),y)은 모델 f(x)의 loss function을 의미한다.\n",
        "* 식(3)은 loss 의 scale조정에 의해 covariate shift을 보정할 수 있는 관계식이다.\n",
        "* 식(3)을 Drift 상황으로 일반화 해서 성능 관계식으로 바꾼다.  \n",
        "* f(x)를 일반적인 수치예측 (regression)이라 가정하면\n",
        "$$\n",
        "l_{squared}(f(x),y) = (y − f(x))^2\n",
        "\\tag{4}\n",
        "$$\n",
        "* 식(3)에 식(4)를 대입하여 정리하면,\n",
        "$$\n",
        "E_{(x,y)\\simθ}[(y − f(x))^2] = E_{(x,y)\\simλ}[\\dfrac{p(x|θ)}{p(x|λ)}(y − f(x))^2]\n",
        "\\tag{5}\n",
        "$$\n",
        "* 여기서 Expactaion의 연산 정리(https://blog.naver.com/mykepzzang/220837877074)에 의해 E(XY)=E(X)E(Y)를 대입하여\n",
        "$$\n",
        "E_{(x,y)\\simθ}[(y − f(x))^2] = E_{(x,y)\\simλ}[\\dfrac{p(x|θ)}{p(x|λ)}]E_{(x,y)\\simλ}[(y − f(x))^2]\n",
        "\\tag{6}\n",
        "$$\n",
        "와 같이 나타낼 수 있으며,\n",
        "$$\n",
        "E_{(x,y)\\simθ}[(y − f(x))^2] = Testset의 MSE(Mean Square Error)\n",
        "$$\n",
        "이고\n",
        "$$\n",
        "E_{(x,y)\\simλ}[(y − f(x))^2] = Trainset의 MSE(Mean Square Error)\n",
        "$$\n",
        "이기 때문에, \n",
        "* 식(6)을 정리하면,\n",
        "$$\n",
        "MSE_{testset} = E_{(x,y)\\simλ}[\\dfrac{p(x|θ)}{p(x|λ)}]MSE_{trainset}  \n",
        "\\tag{7}\n",
        "$$ \n",
        "* 식(7)을 통해, testset(live data)의 성능은 trainset의 성능(최초 측정 성능)과 trainset, testset의 distribution의 관계식이 성립함을 알 수 있다.\n"
      ],
      "metadata": {
        "id": "6BBowO3jT0yA"
      }
    },
    {
      "cell_type": "markdown",
      "source": [
        "# 3. Proposed Method"
      ],
      "metadata": {
        "id": "-N2SQ0-MGunc"
      }
    },
    {
      "cell_type": "markdown",
      "source": [
        "## pseudo code"
      ],
      "metadata": {
        "id": "8qAPuuGcBVLv"
      }
    },
    {
      "cell_type": "markdown",
      "source": [
        "--------------------------------------------------------------------------------\n",
        "**Step1 : performance modeling**\n",
        "\n",
        "--------------------------------------------------------------------------------\n",
        "&nbsp;&nbsp;1:&nbsp;&nbsp;$L_{trainset} =  \\{ Y_L, X_L\\} $ #이하 간략히 $L$ 로 표기 <br>\n",
        "\n",
        "&nbsp;&nbsp;2:&nbsp;&nbsp;$L_{testset} =  \\{ Y_T, X_T\\} $<br>\n",
        "&nbsp;&nbsp;3:&nbsp;&nbsp;$f(x,L) = train(Y_L, X_L)$ <br>\n",
        "&nbsp;&nbsp;4:&nbsp;&nbsp;$base\\_score = score(f(X_T,L),Y_T)$<br>\n",
        "&nbsp;&nbsp;5:&nbsp;&nbsp;$For$ number_of_sample $do $<br>\n",
        "&nbsp;&nbsp;6:&nbsp;&nbsp;&nbsp;&nbsp;&nbsp;&nbsp;$Y_b, X_b = block\\_sampling(Y_L, X_L, sampling\\_ratio)$<br>\n",
        "&nbsp;&nbsp;7:&nbsp;&nbsp;&nbsp;&nbsp;&nbsp;&nbsp;$X_b = noise\\_injection(X_b,noise\\_intensity)$<br>\n",
        "&nbsp;&nbsp;8:&nbsp;&nbsp;&nbsp;&nbsp;&nbsp;&nbsp;$drift = adjusted\\_ks\\_test(X_L, X_b)$<br>\n",
        "&nbsp;&nbsp;9:&nbsp;&nbsp;&nbsp;&nbsp;&nbsp;&nbsp;$\\Delta score\\_array \\leftarrow (base\\_score - score(f(X_b,L),Y_b))$<br>\n",
        "10:&nbsp;&nbsp;&nbsp;&nbsp;&nbsp;&nbsp;$drift\\_array \\leftarrow drift$ <br>\n",
        "11:&nbsp;&nbsp;$end$ <br>\n",
        "12:&nbsp;&nbsp;$ppm(d) = train(\\Delta score\\_array, drift\\_array)$"
      ],
      "metadata": {
        "id": "J__VOMuzJZqJ"
      }
    },
    {
      "cell_type": "markdown",
      "source": [
        "--------------------------------------------------------------------------------\n",
        "**Step2 : adjust scale**\n",
        "\n",
        "--------------------------------------------------------------------------------\n",
        "\n",
        "1:&nbsp;&nbsp;$For$ number_of_sample $do$<br>\n",
        "2:&nbsp;&nbsp;&nbsp;&nbsp;&nbsp;&nbsp;$Y_b, X_b = block\\_sampling(Y_T, X_T, sampling\\_ratio)$<br>\n",
        "3:&nbsp;&nbsp;&nbsp;&nbsp;&nbsp;&nbsp;$drift = adjusted\\_ks\\_test(X_L, X_b)$<br>\n",
        "4:&nbsp;&nbsp;&nbsp;&nbsp;&nbsp;&nbsp;$\\Delta score\\_array_{predicted} \\leftarrow ppm(drift)$<br>\n",
        "5:&nbsp;&nbsp;&nbsp;&nbsp;&nbsp;&nbsp;$\\Delta score\\_array_{real} \\leftarrow (base\\_score - score(f(X_b,L),Y_b))$<br>\n",
        "6:&nbsp;&nbsp;$end$<br>\n",
        "7:&nbsp;&nbsp;$adjusted\\_scale = \\dfrac{var(\\Delta score\\_array_{real})}{var(\\Delta score\\_array_{predicted})}$"
      ],
      "metadata": {
        "id": "1SFADfQENLcq"
      }
    },
    {
      "cell_type": "markdown",
      "source": [
        "--------------------------------------------------------------------------------\n",
        "**Step3 : apply perfomance_model**\n",
        "\n",
        "--------------------------------------------------------------------------------\n",
        "\n",
        "1:&nbsp;&nbsp;$l_{Input\\_live\\_data} =\\{ X_l\\}$ # live data에는 Y가 존재하지 않는다.<br>\n",
        "2:&nbsp;&nbsp;$drift = adjusted\\_ks\\_test(X_L, X_l)$ <br>\n",
        "3:&nbsp;&nbsp;$score_{predicted} = base\\_score - adjusted\\_scale * ppm(drift)$"
      ],
      "metadata": {
        "id": "gjwSiHmsQVoj"
      }
    },
    {
      "cell_type": "markdown",
      "source": [
        "* block sampling 에 대하서는 https://github.com/dolmani38/drift/blob/main/drift_sampling_0813.ipynb 참고!"
      ],
      "metadata": {
        "id": "SkrLgldLf7K-"
      }
    },
    {
      "cell_type": "markdown",
      "source": [
        "## 설명"
      ],
      "metadata": {
        "id": "KVB2WufxpRFP"
      }
    },
    {
      "cell_type": "markdown",
      "source": [
        "성능 예측 대상의 모델을 $f(x,L)$이라 할 때,\n",
        "\n",
        "trainset과 testset은 $f(x,L)$의 학습 및 성능 측정을 위해 활용된 데이터에 해당.<br>\n",
        "testset을 통하여 $f(x,L)$의 성능, base_score이 측정되었다.\n",
        "\n",
        "<b>Step1 : 성능 모델링 단계</b> <br>\n",
        "1. trainset에 대하여 random size로 블럭 샘플링 (block sampling)을 한다.\n",
        "2. 샘플링된 $X_b$의 일부에 Noise를 주입하여 drift를 유도한다.\n",
        "3. trainset($X_L$)과 drift유도된 Sample($X_b$)에 대해 변경된 Kolmogorov–Smirnov test를 하여, drift 통계량(Kolmogorov–Smirnov statistic)을 취득한다.\n",
        "4. 이때, 변경된 KS Test는 기존의 KS Test의 식(8)에서 식(9)와 같이 변경하여 적용한다.\n",
        "\n",
        "$$\n",
        "\\begin{align}\n",
        "D_n = {sup}_x |F_n(x) - F(x)|\n",
        "\\tag{8}\n",
        "\\end{align}\n",
        "$$\n",
        "\n",
        "$$\n",
        "\\begin{align}\n",
        "D_n = {sup}_x (F_n(x) - F(x))\n",
        "\\tag{9}\n",
        "\\end{align}\n",
        "$$\n",
        "\n",
        "5. 식(9)와 같이 절대값를 제거하므로 성능에 대한 drift 통계량의 설명력을 높인다.\n",
        "6. drift유도된 Sample에 대하여 $f(x,L)$의 성능편차($\\Delta score$)를 $\\Delta score\\_array$에 저장한다.\n",
        "7. drift통계량을 $drift\\_array$에 저장한다.\n",
        "8. 1~7까지의 과정을 반복하여 drift에 대한 성능 편차 dataset를 생성한다.\n",
        "9. drift에 대한 성능 편차 dataset을 통해, $ppm(d)$ 을 학습한다.\n",
        "\n",
        "\n",
        "<b>Step2 : scale 조정 단계 </b><br>\n",
        "Step1에서 $X_b$의 일부를 임의 치환하여 drift를 유도하였으므로 drift에 의한 성능 편차($\\Delta score$)는 실제 drift에서 발생하는 편차와 scale이 다를 수 있다. 이를 조정하기 위해 testset을 통해, 그 Scale을 측정한다.\n",
        "1. testset($Y_T,X_T$)에 대하여 random size로 블럭 샘플링(block sampling)을 한다.\n",
        "2. trainset과 testset에서 추출된 Sample에 대해 변경된 Kolmogorov–Smirnov test를 하여, drift 통계량을 취득한다.\n",
        "3. Step1에서 학습된 $ppm(d)$을 통해, 예측 성능 편차($\\Delta score_{predicted}$)를 구하여 $\\Delta score\\_array_{predicted}$에  저장한다.\n",
        "4. testset에서 추출된 Sample($Y_b,X_b$)에 대해 $f(x,L)$의 실 성능 편차($\\Delta score_{real}$)를 구하여 $\\Delta score\\_array_{real}$에 저장한다.\n",
        "5. 1~4의 과정을 반복하여 예측 성능 편차 dataset과 실 성능 편차 dataset을 생성한다.\n",
        "6. 예측 성능 편차 dataset과 실 성능 편차 dataset의 분산을 비교하여 보정 Scale 값을 구한다.\n",
        "\n",
        "<b>Step3 : $ppm(d)$의 적용 단계</b><br>\n",
        "1. 일정기간 축적한 실 dataset ($X_l$)를 취득한다.\n",
        "2. trainset($X_L$)과 실 dataset ($X_l$)에 대해 변경된 Kolmogorov–Smirnov test를 하여, drift통계량을 취득한다.\n",
        "3. $ppm(d)$을 통해 예측 성능 편차($\\Delta score _{predicted}$)를 구하고 보정 Scale 값을 곱한 후 base_score 에서 빼서 예측 성능값($score_{predicted}$)을 구한다. \n"
      ],
      "metadata": {
        "id": "h0nsMLKzGxU9"
      }
    },
    {
      "cell_type": "markdown",
      "source": [
        "# 4. 실험 계획"
      ],
      "metadata": {
        "id": "qclC6IuFH5y5"
      }
    },
    {
      "cell_type": "markdown",
      "source": [
        "*   Data\n",
        "1. Personal Loan Data\n",
        "> 미국의 개인 대출 기업 ‘Lending Club’의 공개 데이터 사용<BR>\n",
        "> 2007~2017년까지 총 2,260,701건의 데이터, 대출 건당 실제 ‘default’ 여부 포함\n",
        "151개 Column<BR>\n",
        "> 데이터 정제 후, 81개 Features, 120만건 사용<BR>\n",
        ">> trainset : 11,497건 (2010년)<BR>\n",
        ">> online dataset : 1,268,183건 (2011~2017년)<BR>\n",
        "\n",
        "2. Credit Card Transaction Data\n",
        "> This data has more than 20 million transactions generated from a multi-agent virtual world simulation performed by IBM. \n",
        "> The data covers 2000 (synthetic) consumers resident in the United States, but who travel the world. \n",
        "> The data also covers decades of purchases, and includes multiple cards from many of the consumers. \n",
        ">> trainset : 37,301건 (2007년, 1/30 축소)<BR>\n",
        ">> online dataset : 90,836건 (2008~2009년, 1/30 축소)<BR>\n",
        "\n",
        "* 예측 알고리즘\n",
        "> Random-forest for Personal Loan Data<BR>\n",
        "> Catboost for Credit Card Transaction Data\n",
        "\n",
        "* 성능 예측 알고리즘\n",
        "> Ordinary Least Squares regression\n",
        "\n",
        "* 실험의 변수\n",
        "> feature_count (order of importance)<br>\n",
        "> sampling_ratio (size) = 0.05 ~ 0.95, 0.20 ~ 0.80, 0.40 ~ 0.60<BR>\n",
        "> stdev_ratio = 1, 2, 3<BR>\n",
        "\n",
        "* 측정 지표\n",
        "> 예측 알고리즘의 성능 지표 : precision<BR>\n",
        "> PPM의 성능 지표<BR>\n",
        "    >>mean_absolute_error<br>\n",
        "    >>root_mean_square_error<br>\n",
        "    >>mean_absolute_percentage_error<br>\n",
        "    >>R_square<br>\n"
      ],
      "metadata": {
        "id": "N9iEkjRPH-ad"
      }
    },
    {
      "cell_type": "markdown",
      "source": [
        "# 5. 실험을 위한 기본 준비 "
      ],
      "metadata": {
        "id": "uNNbnbmhJAvK"
      }
    },
    {
      "cell_type": "code",
      "source": [
        "if True:\n",
        "    from google.colab import drive\n",
        "    drive.mount('/content/drive')"
      ],
      "metadata": {
        "colab": {
          "base_uri": "https://localhost:8080/"
        },
        "id": "J2c4ezIaJJjo",
        "outputId": "530b40b1-d88a-451e-9932-507b98a6f22a"
      },
      "execution_count": 1,
      "outputs": [
        {
          "output_type": "stream",
          "name": "stdout",
          "text": [
            "Mounted at /content/drive\n"
          ]
        }
      ]
    },
    {
      "cell_type": "code",
      "source": [
        "import os\n",
        "\n",
        "import pandas as pd\n",
        "import numpy as np\n",
        "import matplotlib.pyplot as plt\n",
        "import seaborn as sns\n",
        "from sklearn.model_selection import train_test_split\n",
        "from sklearn.preprocessing import MinMaxScaler\n",
        "from sklearn.preprocessing import StandardScaler\n",
        "from sklearn.metrics import classification_report, confusion_matrix, accuracy_score\n",
        "import tensorflow as tf\n",
        "from tensorflow.keras.models import Sequential\n",
        "from tensorflow.keras.layers import Dense, Dropout\n",
        "import random\n",
        "np.random.seed(1337)"
      ],
      "metadata": {
        "id": "JUNcaGM_J27R"
      },
      "execution_count": 2,
      "outputs": []
    },
    {
      "cell_type": "code",
      "source": [
        "def seed_everything(seed: int = 46):\n",
        "    random.seed(seed)\n",
        "    np.random.seed(seed)\n",
        "    os.environ[\"PYTHONHASHSEED\"] = str(seed)\n",
        "    tf.random.set_seed(seed)\n",
        "    "
      ],
      "metadata": {
        "id": "-vijWm4jrO78"
      },
      "execution_count": 3,
      "outputs": []
    },
    {
      "cell_type": "markdown",
      "source": [
        "# 6. Main 알고리즘 (Performance predit model) 구현 class"
      ],
      "metadata": {
        "id": "_rcq4koXVEdn"
      }
    },
    {
      "cell_type": "code",
      "source": [
        "# https://towardsdatascience.com/comparing-sample-distributions-with-the-kolmogorov-smirnov-ks-test-a2292ad6fee5\n",
        "\n",
        "from scipy import stats\n",
        "import sys\n",
        "import math\n",
        "if sys.version_info >= (3, 5):\n",
        "    from math import gcd\n",
        "else:\n",
        "    from fractions import gcd\n",
        "\n",
        "from scipy.stats import ks_2samp, kstest\n",
        "import statsmodels.api as sm # import statsmodels \n",
        "from sklearn.metrics import f1_score\n",
        "from sklearn.metrics import precision_recall_fscore_support\n",
        "import random\n",
        "from statistics import mean\n",
        "from sklearn.metrics import mean_absolute_error\n",
        "from sklearn.metrics import mean_squared_error \n",
        "from sklearn.metrics import mean_absolute_percentage_error\n",
        "from sklearn.metrics import r2_score\n",
        "\n",
        "class MPP:\n",
        "    def __init__(self,predict,column_names,importances ,y_ref,x_ref,y_inf,x_inf,scaler=None,verbose=False):\n",
        "        self.predict = predict\n",
        "        self.scaler = scaler\n",
        "        self.y_ref = y_ref\n",
        "        self.x_ref = x_ref\n",
        "        self.y_inf = y_inf\n",
        "        self.x_inf = x_inf\n",
        "        self.COLUMNS = column_names\n",
        "        self.verbose = verbose\n",
        "        importances = importances/sum(importances)\n",
        "\n",
        "        self.l = []\n",
        "        for x,(c,i) in enumerate(zip(column_names,importances)):\n",
        "            self.l.append((c,i,x))\n",
        "        self.l.sort(key = lambda x: x[1],reverse=True) \n",
        "\n",
        "        self.df_stat = pd.DataFrame({\"mean\":np.mean(x_ref,axis=0),\"std\":np.std(x_ref,axis=0)},index=column_names)\n",
        "\n",
        "    def split_sample(self,yy,xx,train_size = 0.7, middle_offset = False):\n",
        "        size = xx.shape[0]\n",
        "        offset = int(size*train_size)\n",
        "        mo = 0\n",
        "        if middle_offset:\n",
        "            mo = int(random.random() * (size - offset))\n",
        "            #print(mo)\n",
        "\n",
        "        x_ref1 = xx[mo:mo+offset]\n",
        "        y_ref1 = yy[mo:mo+offset]\n",
        "        x_inf1 = np.concatenate([xx[0:mo], xx[mo+offset:]], axis=0)\n",
        "        y_inf1 = np.concatenate([yy[0:mo],yy[mo+offset:]], axis=0)\n",
        "\n",
        "        return y_ref1,x_ref1,y_inf1,x_inf1 \n",
        "\n",
        "    def __ks_2samp2(self,sample1, sample2):\n",
        "        # Gets all observations\n",
        "        sample1 = np.sort(sample1)\n",
        "        sample2 = np.sort(sample2)\n",
        "        n1 = sample1.shape[0]\n",
        "        n2 = sample2.shape[0]   \n",
        "        data_all = np.concatenate([sample1, sample2])\n",
        "        cdf1 = np.searchsorted(sample1, data_all, side='right') / n1\n",
        "        cdf2 = np.searchsorted(sample2, data_all, side='right') / n2\n",
        "        # Evaluates the KS statistic\n",
        "        cddiffs = cdf1 - cdf2\n",
        "        minS = -np.min(cddiffs)\n",
        "        maxS = np.max(cddiffs)\n",
        "        ks_stat =  max(minS, maxS)\n",
        "        \n",
        "        if ks_stat == minS:\n",
        "            ks_stat = -ks_stat\n",
        "        \n",
        "        # Calculates the P-Value based on the two-sided test\n",
        "        # The P-Value comes from the KS Distribution Survival Function (SF = 1-CDF)\n",
        "        m, n = float(n1), float(n2)\n",
        "        en = m * n / (m + n)\n",
        "        p_value = 0.0 #stats.kstwobign.sf(math.sqrt(en) * abs(ks_stat))\n",
        "        #p_value = stats.kstwobign.sf(en * abs(ks_stat))\n",
        "        return ks_stat,p_value\n",
        "    \n",
        "    def __ks_drift(self,ref_x,inf_x):\n",
        "        x_drift = np.zeros((ref_x.shape[1],2))\n",
        "        for i in range(ref_x.shape[1]):\n",
        "            #s, p = ks_2samp(ref_x[:,i],inf_x[:,i],mode='asymp')\n",
        "            s, p = self.__ks_2samp2(ref_x[:,i],inf_x[:,i])\n",
        "            x_drift[i,0] = s\n",
        "            x_drift[i,1] = p\n",
        "        return x_drift\n",
        "\n",
        "    def __getImportanceColumnNameTop(self,prefix=\"\", top=5):\n",
        "        return [prefix+w for w in np.asarray(self.l[0:top])[:,0]]\n",
        "\n",
        "    def __getImportanceIndexTop(self,top=5):\n",
        "        return [int(w) for w in np.asarray(self.l[0:top])[:,2]]    \n",
        "\n",
        "\n",
        "    def drift_sampling(self,sampling_sigma=0.95,permutaion_sigma=1,epoch = 100,TOP=5):\n",
        "\n",
        "        self.itc = self.__getImportanceColumnNameTop(prefix=\"\",top=TOP)\n",
        "        self.toplist = self.__getImportanceIndexTop(top=TOP)\n",
        "\n",
        "        if self.verbose:\n",
        "            print(self.itc)\n",
        "            print(\"sampling_sigma:\",sampling_sigma)\n",
        "            print(\"permutaion_sigma:\",permutaion_sigma)\n",
        "        \n",
        "        if self.scaler is not None:\n",
        "            self.base_score = precision_recall_fscore_support(y_inf, self.predict(self.scaler.transform(x_inf)),average='binary')\n",
        "        else:\n",
        "            self.base_score = precision_recall_fscore_support(y_inf, self.predict(x_inf),average='binary')\n",
        "\n",
        "        if self.verbose:\n",
        "            print(\"base_score:\",base_score)\n",
        "        metric_a= []\n",
        "        metric_b= []\n",
        "        metric_c= []\n",
        "        drift_data_ks_stats = []\n",
        "        drift_data_ks_pvals = []\n",
        "        drift_data_ks_stats_diff = []\n",
        "        drift_data_ks_pvals_diff = []     \n",
        "        raw_drift = []\n",
        "        for i in range(epoch):\n",
        "            #y_ref_d, _, x_ref_d, _ = train_test_split(y_ref, x_ref, train_size=0.10, random_state=i)\n",
        "            y_inf_d, x_inf_d, _, _ = self.split_sample(self.y_ref.copy(), self.x_ref.copy(), train_size=random.uniform(1-sampling_sigma,sampling_sigma),middle_offset = True)\n",
        "            \n",
        "            # before permutation\n",
        "            o_drift = self.__ks_drift(self.x_ref[:,self.toplist], x_inf_d[:,self.toplist])\n",
        "\n",
        "            if self.scaler is not None:\n",
        "                acc1 = precision_recall_fscore_support(y_inf_d, self.predict(self.scaler.transform(x_inf_d)),average='binary')\n",
        "            else:\n",
        "                acc1 = precision_recall_fscore_support(y_inf_d, self.predict(x_inf_d),average='binary')\n",
        "\n",
        "            #permutation for x_inf_d\n",
        "            #for v in self.toplist:\n",
        "            p1 = random.random()\n",
        "            nums = np.random.choice([0, 1], size=x_inf_d.shape[0], p=[1-p1, p1])            \n",
        "            v = random.choice(self.toplist)\n",
        "            x_inf_d[:,v] = x_inf_d[:,v] + np.random.normal(0, self.df_stat['std'][v]*permutaion_sigma, x_inf_d.shape[0])*nums\n",
        "\n",
        "            if self.scaler is not None:\n",
        "                acc = precision_recall_fscore_support(y_inf_d, self.predict(self.scaler.transform(x_inf_d)),average='binary')\n",
        "            else:\n",
        "                acc = precision_recall_fscore_support(y_inf_d, self.predict(x_inf_d),average='binary')\n",
        "\n",
        "            if acc[0] >0 and self.base_score[0] > acc[0]:\n",
        "                x_drift = self.__ks_drift(self.x_ref[:,self.toplist], x_inf_d[:,self.toplist])\n",
        "                #sumo = np.sum((o_drift[:,0]))\n",
        "                sumd = np.sum((x_drift[:,0]))\n",
        "                #sump = np.sum(x_drift[:,1])\n",
        "                raw_drift.append(o_drift[:,0])\n",
        "                #drift_ratio2.append(x_drift[:,0])\n",
        "                print(f\"\\r{i+1}/{epoch} acc:{acc[0]:.4f} {acc[1]:.4f} {acc[2]:.4f} sum:{sumd:.4f}\", end=\"\", flush=True)\n",
        "                metric_a.append([acc[0]/self.base_score[0],acc[1]/self.base_score[1],acc[2]/self.base_score[2]])\n",
        "                metric_b.append([(self.base_score[0] - acc[0]),(self.base_score[1] - acc[1]),(self.base_score[2] - acc[2])])\n",
        "                metric_c.append([acc[0],acc[1],acc[2],acc1[0]])\n",
        "                drift_data_ks_stats.append(x_drift[:,0])\n",
        "                drift_data_ks_pvals.append(x_drift[:,1])\n",
        "                #drift_data_ks_pvals.append([1 if a < 0.05 else 0 for a in x_drift[:,1]]) # x_drift[:,1])   \n",
        "                #drift_data_ks_stats_diff.append(base_drift[:,0]*(1-base_drift[:,1]) - x_drift[:,0]*(1-x_drift[:,1]))\n",
        "                drift_data_ks_pvals_diff.append([1 if a < 0.05 else 0 for a in x_drift[:,1]]) \n",
        "\n",
        "        metric_a = np.asarray(metric_a)\n",
        "        metric_b = np.asarray(metric_b)\n",
        "        metric_c = np.asarray(metric_c)        \n",
        "        drift_data_ks_stats = np.asarray(drift_data_ks_stats)\n",
        "        drift_data_ks_pvals = np.asarray(drift_data_ks_pvals)    \n",
        "        drift_data_ks_stats_diff = np.asarray(drift_data_ks_stats_diff)\n",
        "        drift_data_ks_pvals_diff = np.asarray(drift_data_ks_pvals_diff)\n",
        "\n",
        "\n",
        "        # pericision의 distribution\n",
        "        # plotting two histograms on the same axis\n",
        "        alary = np.concatenate((metric_c[:,0],metric_c[:,3]))\n",
        "        min = np.min(alary)\n",
        "        max = np.max(alary)\n",
        "        if self.verbose:\n",
        "            plt.hist(metric_c[:,3], bins = 20, alpha=0.45, color='red',range=(min,max))\n",
        "            plt.hist(metric_c[:,0], bins = 20, alpha=0.45, color='blue',range=(min,max))\n",
        "            plt.title(\"distribution of pericision\")\n",
        "            plt.legend(['raw pericision','permuted pericision'])        \n",
        "            plt.show()\n",
        "\n",
        "        alary = np.concatenate((np.asarray(raw_drift)[:,0],drift_data_ks_stats[:,0]))\n",
        "        min = np.min(alary)\n",
        "        max = np.max(alary)\n",
        "        if self.verbose:\n",
        "            plt.hist(np.asarray(raw_drift)[:,0], bins = 20 , alpha=0.45, color='red',range=(min,max))\n",
        "            plt.hist(drift_data_ks_stats[:,0], bins = 20 , alpha=0.45, color='blue',range=(min,max))\n",
        "            plt.title(\"distribution of drift (most important feature)\")\n",
        "            plt.legend(['raw drift','permuted drift'])              \n",
        "            plt.show()\n",
        "\n",
        "            plt.figure(figsize=(20,5))\n",
        "            plt.plot(drift_data_ks_stats[:,0])\n",
        "            plt.title(\"plot of drift (most important feature)\")\n",
        "            plt.show()\n",
        "\n",
        "        \"\"\"\n",
        "        drift_ratio1 = np.asarray(drift_ratio1)\n",
        "        drift_ratio2 = np.asarray(drift_ratio2)\n",
        "\n",
        "        drift_ratio = []\n",
        "        for s in range(len(toplist)):\n",
        "            drift_ratio.append(sum(abs(drift_ratio2[:,s]))/sum(abs(drift_ratio1[:,s])))\n",
        "        \"\"\"\n",
        "        return  metric_b,metric_c,drift_data_ks_stats,drift_data_ks_pvals_diff,y_ref.shape[0]\n",
        "\n",
        "    def build_performance_model(self,metric_c,drift_data_ks_stats,drift_data_ks_pvals_diff):\n",
        "        dx = pd.DataFrame(drift_data_ks_stats*drift_data_ks_pvals_diff,columns=self.COLUMNS[self.toplist])\n",
        "        #dx['intercept'] = 1\n",
        "        #dx = trainset\n",
        "        if self.verbose:\n",
        "            print(dx.shape)\n",
        "\n",
        "        self.model = sm.OLS(metric_c[:,0], dx).fit() ## sm.OLS(output, input)\n",
        "        # Print out the statistics\n",
        "        if self.verbose:\n",
        "            print(self.model.summary())\n",
        "\n",
        "    def __reject_outliers_2(self,data, m=1.64):\n",
        "        data = np.asarray(data)\n",
        "        mean = np.mean(data)\n",
        "        if self.verbose:\n",
        "            print(\"\\nraw MDR\",mean,len(data))\n",
        "        standard_deviation = np.std(data)\n",
        "        distance_from_mean = abs(data - mean)\n",
        "        max_deviations = m\n",
        "        not_outlier = distance_from_mean < max_deviations * standard_deviation\n",
        "        no_outliers = data[not_outlier]\n",
        "        if self.verbose:\n",
        "            print(len(data))\n",
        "        \"\"\"\n",
        "        stdev = np.std(data)\n",
        "        mean = np.mean(data)\n",
        "        maskMin = mean - stdev * m\n",
        "        maskMax = mean + stdev * m\n",
        "        mask = np.ma.masked_outside(data, maskMin, maskMax)\n",
        "        #print('Masking values outside of {} and {}'.format(maskMin, maskMax))\n",
        "        \"\"\"\n",
        "        return no_outliers\n",
        "\n",
        "    def getMDR(self, zscore=0.7):\n",
        "        drift_array = []\n",
        "        real_array = []\n",
        "        predicted_array = []\n",
        "        acc_infs = []\n",
        "        ssize = int(self.y_inf.shape[0] * 0.5)\n",
        "        step=int(ssize/1000)\n",
        "        if self.verbose:\n",
        "            print(\"size,step:\",ssize,step)\n",
        "        epoch = 1000\n",
        "        if step == 1:\n",
        "            epoch = ssize        \n",
        "        for i in range(epoch):\n",
        "            #y_inf_d,x_inf_d, _, _ = self.split_sample(self.y_inf, self.x_inf, train_size=0.5,middle_offset = True)\n",
        "            if (i*step)+ssize >= self.y_inf.shape[0]:\n",
        "                break\n",
        "                \n",
        "            #y_inf_d = self.y_inf[(i*step):(i*step)+ssize]\n",
        "            #x_inf_d = self.x_inf[(i*step):(i*step)+ssize]\n",
        "            y_inf_d, x_inf_d, _, _ = self.split_sample(self.y_inf.copy(), self.x_inf.copy(), train_size=random.uniform(0.05,0.95),middle_offset = True)\n",
        "            \n",
        "            inf_drift = self.__ks_drift(self.x_ref[:,self.toplist], x_inf_d[:,self.toplist])\n",
        "\n",
        "            dd = np.asarray(inf_drift[:,0]*[1 if a < 0.05 else 0 for a in inf_drift[:,1]]).reshape(1,-1)\n",
        "            # add intercept term\n",
        "            #intc = np.ones((dd.shape[0],1))\n",
        "            #dd = np.concatenate((dd,intc),axis=1)\n",
        "\n",
        "            acc_delta = self.model.predict(dd)[0]\n",
        "\n",
        "            if self.scaler is not None:\n",
        "                acc_real = precision_recall_fscore_support(y_inf_d, self.predict(self.scaler.transform(x_inf_d)),average='binary')\n",
        "            else:\n",
        "                acc_real = precision_recall_fscore_support(y_inf_d, self.predict(x_inf_d),average='binary')\n",
        "\n",
        "            # 실 precision / 예측 precision \n",
        "            acc_predict = self.base_score[0] - acc_delta\n",
        "            precision_ratio = acc_real[0] / acc_predict\n",
        "            #if delta > 0 and acc_inf > 0:\n",
        "            acc_infs.append(precision_ratio)\n",
        "            drift_array.append(inf_drift[:,0])\n",
        "            real_array.append(acc_real[0])\n",
        "            predicted_array.append(acc_predict)\n",
        "\n",
        "            print(f\"\\r{i+1}/{epoch} drift1:{inf_drift[0,0]} real_acc:{acc_real[0]} predict_acc:{acc_predict} delta_ratio:{precision_ratio:.4f}\", end=\"\", flush=True)\n",
        "\n",
        "        #acc_infs = self.__reject_outliers_2(acc_infs).mean()\n",
        "        acc_infss = self.__reject_outliers_2(acc_infs,zscore)\n",
        "        if self.verbose:\n",
        "            plt.hist(acc_infss, bins = 20)\n",
        "            plt.title(\"distribution of delta ratio for real delta precision vs predicted delta precision, remove outlier (50%)\")\n",
        "            plt.show()\n",
        "\n",
        "        mdr = np.mean(acc_infss)\n",
        "        #mdr = mean(acc_infs)\n",
        "        if self.verbose:\n",
        "            print(\"\\nMDR:\",mdr)\n",
        "        \n",
        "        real_var = self.__reject_outliers_2(real_array)\n",
        "        real_dist = np.max(real_var) - np.min(real_var)\n",
        "\n",
        "        pred_var = self.__reject_outliers_2(predicted_array)\n",
        "        pred_dist = np.max(pred_var) - np.min(pred_var)\n",
        "        \"\"\"\n",
        "        real_dist = np.std(real_array)\n",
        "        pred_dist = np.std(predicted_array)\n",
        "        \"\"\"\n",
        "        dist_ratio = real_dist/pred_dist\n",
        "        if self.model.params[0] < 0:\n",
        "            dist_ratio = -dist_ratio\n",
        "        if self.verbose:\n",
        "            print(f\"real_dist:{real_dist}, pred_dist{pred_dist}, dist_ratio:{dist_ratio}\")\n",
        "\n",
        "        alary = np.concatenate((real_array,predicted_array))\n",
        "        min = np.min(alary)\n",
        "        max = np.max(alary)\n",
        "\n",
        "        if self.verbose:\n",
        "            plt.hist(real_array, bins = 20, alpha=0.45, color='red',range=(min,max))\n",
        "            plt.hist(predicted_array, bins = 20, alpha=0.45, color='blue',range=(min,max))\n",
        "            plt.title(\"distribution of delta pericision\")\n",
        "            plt.legend(['real delta pericision','predicted delta pericision'])        \n",
        "            plt.show()\n",
        "\n",
        "            plt.hist(np.asarray(drift_array)[:,0], bins = 20)\n",
        "            plt.title(\"distribution of drift (most important feature)\")\n",
        "            plt.show()\n",
        "\n",
        "            plt.figure(figsize=(20,5))\n",
        "            plt.plot(real_array, color='red')\n",
        "            plt.plot(predicted_array, color='blue')\n",
        "            plt.title(\"plot of delta pericision\")\n",
        "            plt.legend(['real delta pericision','predicted delta pericision'])    \n",
        "            plt.show()\n",
        "\n",
        "            plt.figure(figsize=(20,5))\n",
        "            plt.plot(np.asarray(drift_array)[:,0])\n",
        "            plt.title(\"plot of drift (most important feature)\")\n",
        "            plt.show()\n",
        "\n",
        "        return mdr,dist_ratio*4\n",
        "\n",
        "    def build_second_performance_model(self):\n",
        "        scnd_y = []\n",
        "        scnd_x = []\n",
        "        \n",
        "        ssize = int(self.y_inf.shape[0] * 0.5)\n",
        "        step=int(ssize/1000)\n",
        "        if self.verbose:\n",
        "            print(\"size,step:\",ssize,step)\n",
        "        epoch = 1000\n",
        "        if step == 1:\n",
        "            epoch = ssize\n",
        "        for i in range(epoch):\n",
        "            #y_inf_d,x_inf_d, _, _ = self.split_sample(self.y_inf, self.x_inf, train_size=0.5,middle_offset = True)\n",
        "            if (i*step)+ssize >= self.y_inf.shape[0]:\n",
        "                break\n",
        "                \n",
        "            y_inf_d = self.y_inf[(i*step):(i*step)+ssize]\n",
        "            x_inf_d = self.x_inf[(i*step):(i*step)+ssize]\n",
        "\n",
        "            inf_drift = self.__ks_drift(self.x_ref[:,self.toplist], x_inf_d[:,self.toplist])\n",
        "            dd = inf_drift[:,0]*[1 if a < 0.05 else 0 for a in inf_drift[:,1]]\n",
        "            acc_inf = self.model.predict(dd)[0]\n",
        "            if self.scaler is not None:\n",
        "                acc = precision_recall_fscore_support(y_inf_d, self.predict(self.scaler.transform(x_inf_d)),average='binary')\n",
        "            else:\n",
        "                acc = precision_recall_fscore_support(y_inf_d, self.predict(x_inf_d),average='binary')\n",
        "            \n",
        "            scnd_x.append([acc_inf]) #+[d for d in dd])\n",
        "            scnd_y.append(acc[0])\n",
        "            print(f\"\\r{i+1}/{epoch} acc:{acc[0]} {acc_inf}\", end=\"\", flush=True)\n",
        "\n",
        "        self.scnd_model = sm.OLS(scnd_y, np.asarray(scnd_x)).fit() ## sm.OLS(output, input)\n",
        "        # Print out the statistics\n",
        "        if self.verbose:\n",
        "            print(self.scnd_model.summary())\n",
        "\n",
        "    def predict_precision_for_PPM(self,y_test2,X_test2,mdr,dist_ratio,window_size = 10000,step = 500):\n",
        "\n",
        "        df = {}\n",
        "\n",
        "        drift_d = []\n",
        "        df['The precision of the model on real data'] = []\n",
        "        df['Predicted precision'] = []\n",
        "\n",
        "        beta = 0\n",
        "        #window_size = 10000\n",
        "        #step = 500\n",
        "        batch = math.ceil((X_test2.shape[0]-window_size)/step)\n",
        "        for i in range(batch):\n",
        "            ux = X_test2[i*step:i*step+window_size]\n",
        "            uy = y_test2[i*step:i*step+window_size]\n",
        "            if self.scaler is not None:\n",
        "                f1 = precision_recall_fscore_support(uy, self.predict(self.scaler.transform(ux)),average='binary')\n",
        "            else:\n",
        "                f1 = precision_recall_fscore_support(uy, self.predict(ux),average='binary')\n",
        "\n",
        "            X3_drift = self.__ks_drift(self.x_ref[:,self.toplist],ux[:,self.toplist])\n",
        "            #X3_drift = mean_drift[top_list,0] - X3_drift[:,0]\n",
        "            drift_d.append(X3_drift[:,0])\n",
        "            X3_drift = X3_drift[:,0] * [1 if a < 0.05 else 0 for a in X3_drift[:,1]] # *importances[top_list]\n",
        "            \n",
        "            #X3_drift = X3_drift[:,0] * (1-X3_drift[:,1]) *importances\n",
        "            dd = pd.DataFrame(X3_drift.reshape(1,-1),columns=self.COLUMNS[self.toplist])\n",
        "            # add intercept term\n",
        "            #dd['intercept'] = 1\n",
        "\n",
        "            #dd = drift_scaler.transform(dd)\n",
        "            #acc_c = mean([m.predict(ss.transform(dd))[0][0] for m in  models]) #model_c.predict(dd)[0]\n",
        "            #acc_c = mean([m.predict(dd)[0][0] for m in  models]) \n",
        "\n",
        "            #print(dd.values)\n",
        "            #print(dd.values/drift_ratio)\n",
        "            \n",
        "            # predicted precision\n",
        "            acc_c = (self.base_score[0] - self.model.predict(dd.values)[0]*dist_ratio) * mdr\n",
        "            \"\"\"\n",
        "            if (acc_c - beta) > base_score[0]:\n",
        "                beta = (acc_c - beta) - base_score[0]\n",
        "            \n",
        "            acc_c =  acc_c - beta\n",
        "            \n",
        "            if acc_c - beta > 0:\n",
        "                beta = beta+ acc_c\n",
        "            \n",
        "            acc_c = base_score[0] + acc_c - beta\n",
        "            \"\"\"\n",
        "            \n",
        "            if beta == 0:\n",
        "                beta = base_score[0] - acc_c\n",
        "\n",
        "            acc_c = beta + acc_c\n",
        "            if self.verbose:\n",
        "                print(f\"{f1[0]} - {acc_c}\")\n",
        "            df['The precision of the model on real data'].append(f1[0])\n",
        "            df['Predicted precision'].append(acc_c)\n",
        "            \n",
        "        \n",
        "        if self.verbose:\n",
        "            drift_df = pd.DataFrame(drift_d,columns=self.itc)\n",
        "            drift_df.plot(title=\"ks-test statistics of features\", legend=True,figsize=(20,5))\n",
        "\n",
        "        df2 = pd.DataFrame(df)\n",
        "\n",
        "        return df2\n",
        "\n",
        "\n",
        "    def predict_precision_for_second_model(self,y_test2,X_test2,window_size = 10000,step = 500):\n",
        "\n",
        "        df = {}\n",
        "        df['The precision of the model on real data'] = []\n",
        "        df['Predicted precision'] = []\n",
        "        beta = 0\n",
        "        #window_size = 10000\n",
        "        #step = 500\n",
        "        batch = math.ceil((X_test2.shape[0]-window_size)/step)\n",
        "        for i in range(batch):\n",
        "            ux = X_test2[i*step:i*step+window_size]\n",
        "            uy = y_test2[i*step:i*step+window_size]\n",
        "            if self.scaler is not None:\n",
        "                f1 = precision_recall_fscore_support(uy, self.predict(self.scaler.transform(ux)),average='binary')\n",
        "            else:\n",
        "                f1 = precision_recall_fscore_support(uy, self.predict(ux),average='binary')\n",
        "\n",
        "            X3_drift = self.__ks_drift(self.x_ref[:,self.toplist],ux[:,self.toplist])\n",
        "            #X3_drift = mean_drift[top_list,0] - X3_drift[:,0]\n",
        "\n",
        "            X3_drift = X3_drift[:,0] * [1 if a < 0.05 else 0 for a in X3_drift[:,1]] # *importances[top_list]\n",
        "            #X3_drift = X3_drift[:,0] * (1-X3_drift[:,1]) *importances\n",
        "            dd = pd.DataFrame(X3_drift.reshape(1,-1),columns=self.COLUMNS[self.toplist])\n",
        "            \n",
        "            acc_c = self.model.predict(dd.values)[0]\n",
        "            #acc_c = self.scnd_model.predict(np.asarray([acc_c] + [d for d in dd.values[0,:]]).reshape(1,-1))[0]\n",
        "            acc_c = self.scnd_model.predict(np.asarray([acc_c]).reshape(1,-1))[0]\n",
        "\n",
        "            if beta == 0:\n",
        "                beta = self.base_score[0] - acc_c\n",
        "            acc_c = beta + acc_c\n",
        "\n",
        "            if acc_c > self.base_score[0]:\n",
        "                acc_c = self.base_score[0]\n",
        "            if self.verbose:\n",
        "                print(f\"{f1[0]} - {acc_c}\")\n",
        "            df['The precision of the model on real data'].append(f1[0])\n",
        "            df['Predicted precision'].append(acc_c)\n",
        "\n",
        "        df2 = pd.DataFrame(df)\n",
        "\n",
        "        return df2\n",
        "\n",
        "    def result_statistics(self,df2):\n",
        "        MAE = mean_absolute_error(df2['The precision of the model on real data'], df2['Predicted precision'])\n",
        "        MSE = mean_squared_error(df2['The precision of the model on real data'], df2['Predicted precision']) \n",
        "        MAPE = mean_absolute_percentage_error(df2['The precision of the model on real data'], df2['Predicted precision'])\n",
        "        RMSE = np.sqrt(MSE)\n",
        "        r_2 = r2_score(df2['The precision of the model on real data'], df2['Predicted precision']) \n",
        "        print('')\n",
        "        print('MAE',MAE)\n",
        "        print('RMSE',RMSE)\n",
        "        print('MAPE',MAPE)\n",
        "        print('R2',r_2)\n",
        "        #display adjusted R-squared\n",
        "        #adj_r2 = 1 - (1-r_2)*(df2.shape[0]-1)/(df2.shape[0]-80)\n",
        "        #print('adj R2',adj_r2)\n",
        "        return MAE,RMSE,MAPE,r_2        "
      ],
      "metadata": {
        "id": "DyiCGKVdVHeH"
      },
      "execution_count": 4,
      "outputs": []
    },
    {
      "cell_type": "markdown",
      "source": [
        "# 7. loan predict 실험"
      ],
      "metadata": {
        "id": "_yFPAuj3VWf0"
      }
    },
    {
      "cell_type": "markdown",
      "source": [
        "## 데이터 구축"
      ],
      "metadata": {
        "id": "fU_VHcI1VcJh"
      }
    },
    {
      "cell_type": "code",
      "source": [
        "df_accepted = pd.read_csv(\"/content/drive/MyDrive/Drift/accepted_2007_to_2018Q4.csv\")\n",
        "\n",
        "print(df_accepted.shape)"
      ],
      "metadata": {
        "colab": {
          "base_uri": "https://localhost:8080/"
        },
        "id": "eW0ESQ-LJ86X",
        "outputId": "c8b94323-59a1-4c0e-c853-6a63602c86ca"
      },
      "execution_count": 5,
      "outputs": [
        {
          "output_type": "stream",
          "name": "stderr",
          "text": [
            "/usr/local/lib/python3.7/dist-packages/IPython/core/interactiveshell.py:3326: DtypeWarning: Columns (0,19,49,59,118,129,130,131,134,135,136,139,145,146,147) have mixed types.Specify dtype option on import or set low_memory=False.\n",
            "  exec(code_obj, self.user_global_ns, self.user_ns)\n"
          ]
        },
        {
          "output_type": "stream",
          "name": "stdout",
          "text": [
            "(2260701, 151)\n"
          ]
        }
      ]
    },
    {
      "cell_type": "markdown",
      "source": [
        "### 데이터 정제"
      ],
      "metadata": {
        "id": "CFPlPXzNKAiQ"
      }
    },
    {
      "cell_type": "code",
      "source": [
        "# for the sake of simplicity, let's consider only Fully Paid and Charged Off values:\n",
        "\n",
        "df_accepted = df_accepted[df_accepted.loan_status.isin(['Fully Paid', 'Charged Off'])]\n",
        "\n",
        "print(df_accepted.shape)"
      ],
      "metadata": {
        "colab": {
          "base_uri": "https://localhost:8080/"
        },
        "id": "qmlNZDqPKDXg",
        "outputId": "f40801f1-26a5-4926-dac0-d72a6224b989"
      },
      "execution_count": 6,
      "outputs": [
        {
          "output_type": "stream",
          "name": "stdout",
          "text": [
            "(1345310, 151)\n"
          ]
        }
      ]
    },
    {
      "cell_type": "code",
      "source": [
        "cols_to_drop = df_accepted.isnull().sum().sort_values(ascending=False).head(50).index\n",
        "df_accepted = df_accepted.drop(columns=cols_to_drop)\n",
        "df_accepted.shape"
      ],
      "metadata": {
        "colab": {
          "base_uri": "https://localhost:8080/"
        },
        "id": "fN2Jx2vXKbKm",
        "outputId": "71553e6b-fb8f-4db6-aaeb-eeb2517c8229"
      },
      "execution_count": 7,
      "outputs": [
        {
          "output_type": "execute_result",
          "data": {
            "text/plain": [
              "(1345310, 101)"
            ]
          },
          "metadata": {},
          "execution_count": 7
        }
      ]
    },
    {
      "cell_type": "code",
      "source": [
        "# maybe we can go further, and eliminate columns up to title:\n",
        "\n",
        "cols_to_drop = df_accepted.isnull().sum().sort_values(ascending=False).head(45).index\n",
        "df_accepted = df_accepted.drop(columns=cols_to_drop)\n",
        "df_accepted.shape"
      ],
      "metadata": {
        "colab": {
          "base_uri": "https://localhost:8080/"
        },
        "id": "4p3qUjW-KlCk",
        "outputId": "324e0a7a-96ef-47bf-fd33-6d4ebef8e9cd"
      },
      "execution_count": 8,
      "outputs": [
        {
          "output_type": "execute_result",
          "data": {
            "text/plain": [
              "(1345310, 56)"
            ]
          },
          "metadata": {},
          "execution_count": 8
        }
      ]
    },
    {
      "cell_type": "code",
      "source": [
        "# Remaining columns have missing data points, but they account for less than 0.2% of the total data. Let's remove the rows that are missing those values in those columns with dropna():\n",
        "\n",
        "df_accepted = df_accepted.dropna()\n",
        "df_accepted.shape"
      ],
      "metadata": {
        "colab": {
          "base_uri": "https://localhost:8080/"
        },
        "id": "BOLNQcD7KunK",
        "outputId": "a0f84bd4-7664-4ff8-85ce-061abc25b970"
      },
      "execution_count": 9,
      "outputs": [
        {
          "output_type": "execute_result",
          "data": {
            "text/plain": [
              "(1341026, 56)"
            ]
          },
          "metadata": {},
          "execution_count": 9
        }
      ]
    },
    {
      "cell_type": "code",
      "source": [
        "# These are constant columns. We can drop it either.\n",
        "\n",
        "cols_to_drop = ['out_prncp', 'out_prncp_inv', 'policy_code']\n",
        "df_accepted = df_accepted.drop(columns=cols_to_drop)\n",
        "df_accepted.shape"
      ],
      "metadata": {
        "colab": {
          "base_uri": "https://localhost:8080/"
        },
        "id": "HGUkk3rBK7s4",
        "outputId": "d10f92b0-4b36-4138-dd04-df8714395832"
      },
      "execution_count": 10,
      "outputs": [
        {
          "output_type": "execute_result",
          "data": {
            "text/plain": [
              "(1341026, 53)"
            ]
          },
          "metadata": {},
          "execution_count": 10
        }
      ]
    },
    {
      "cell_type": "code",
      "source": [
        "# It seems we have many \"duplicated\" information. Let's drop some columns, based on visual inspection at corr_pairs dataframe:\n",
        "\n",
        "cols_to_drop = ['fico_range_low', 'funded_amnt_inv', 'funded_amnt', 'total_pymnt_inv', 'total_pymnt', 'installment', 'collection_recovery_fee', 'total_rec_prncp', 'last_fico_range_low']\n",
        "df_accepted = df_accepted.drop(columns=cols_to_drop)\n",
        "df_accepted.shape"
      ],
      "metadata": {
        "colab": {
          "base_uri": "https://localhost:8080/"
        },
        "id": "k6Gp_sv5LHKx",
        "outputId": "9b35e7ae-8754-45d2-d34e-80c96529abee"
      },
      "execution_count": 11,
      "outputs": [
        {
          "output_type": "execute_result",
          "data": {
            "text/plain": [
              "(1341026, 44)"
            ]
          },
          "metadata": {},
          "execution_count": 11
        }
      ]
    },
    {
      "cell_type": "code",
      "source": [
        "values = df_accepted.loan_status.unique()\n",
        "encode = [1,0]\n",
        "d = dict(zip(values, encode))\n",
        "\n",
        "df_accepted['loan_paid'] = df_accepted['loan_status'].map(d)\n",
        "\n",
        "df_accepted = df_accepted.drop(columns=['loan_status'])\n"
      ],
      "metadata": {
        "id": "DlmXhnoWLLqu"
      },
      "execution_count": 12,
      "outputs": []
    },
    {
      "cell_type": "code",
      "source": [
        "df_accepted"
      ],
      "metadata": {
        "colab": {
          "base_uri": "https://localhost:8080/",
          "height": 0
        },
        "id": "kodDyF1YLYFD",
        "outputId": "5ffcf046-74fc-49f3-924d-7054aed28e2c"
      },
      "execution_count": 13,
      "outputs": [
        {
          "output_type": "execute_result",
          "data": {
            "text/plain": [
              "               id  loan_amnt        term  int_rate grade sub_grade  \\\n",
              "0        68407277     3600.0   36 months     13.99     C        C4   \n",
              "1        68355089    24700.0   36 months     11.99     C        C1   \n",
              "2        68341763    20000.0   60 months     10.78     B        B4   \n",
              "4        68476807    10400.0   60 months     22.45     F        F1   \n",
              "5        68426831    11950.0   36 months     13.44     C        C3   \n",
              "...           ...        ...         ...       ...   ...       ...   \n",
              "2260688  89905081    18000.0   60 months      9.49     B        B2   \n",
              "2260690  88948836    29400.0   60 months     13.99     C        C3   \n",
              "2260691  89996426    32000.0   60 months     14.49     C        C4   \n",
              "2260692  90006534    16000.0   60 months     12.79     C        C1   \n",
              "2260697  88224441    24000.0   60 months     14.49     C        C4   \n",
              "\n",
              "        home_ownership  annual_inc verification_status   issue_d  ...  \\\n",
              "0             MORTGAGE     55000.0        Not Verified  Dec-2015  ...   \n",
              "1             MORTGAGE     65000.0        Not Verified  Dec-2015  ...   \n",
              "2             MORTGAGE     63000.0        Not Verified  Dec-2015  ...   \n",
              "4             MORTGAGE    104433.0     Source Verified  Dec-2015  ...   \n",
              "5                 RENT     34000.0     Source Verified  Dec-2015  ...   \n",
              "...                ...         ...                 ...       ...  ...   \n",
              "2260688            OWN    130000.0        Not Verified  Oct-2016  ...   \n",
              "2260690       MORTGAGE    180792.0        Not Verified  Oct-2016  ...   \n",
              "2260691       MORTGAGE    157000.0     Source Verified  Oct-2016  ...   \n",
              "2260692           RENT    150000.0        Not Verified  Oct-2016  ...   \n",
              "2260697           RENT    110000.0        Not Verified  Oct-2016  ...   \n",
              "\n",
              "        application_type acc_now_delinq chargeoff_within_12_mths delinq_amnt  \\\n",
              "0             Individual            0.0                      0.0         0.0   \n",
              "1             Individual            0.0                      0.0         0.0   \n",
              "2              Joint App            0.0                      0.0         0.0   \n",
              "4             Individual            0.0                      0.0         0.0   \n",
              "5             Individual            0.0                      0.0         0.0   \n",
              "...                  ...            ...                      ...         ...   \n",
              "2260688       Individual            0.0                      0.0         0.0   \n",
              "2260690       Individual            0.0                      0.0         0.0   \n",
              "2260691       Individual            0.0                      0.0         0.0   \n",
              "2260692       Individual            0.0                      0.0         0.0   \n",
              "2260697       Individual            0.0                      0.0         0.0   \n",
              "\n",
              "        pub_rec_bankruptcies  tax_liens  hardship_flag disbursement_method  \\\n",
              "0                        0.0        0.0              N                Cash   \n",
              "1                        0.0        0.0              N                Cash   \n",
              "2                        0.0        0.0              N                Cash   \n",
              "4                        0.0        0.0              N                Cash   \n",
              "5                        0.0        0.0              N                Cash   \n",
              "...                      ...        ...            ...                 ...   \n",
              "2260688                  0.0        0.0              N                Cash   \n",
              "2260690                  0.0        0.0              N                Cash   \n",
              "2260691                  0.0        0.0              N                Cash   \n",
              "2260692                  3.0        0.0              N                Cash   \n",
              "2260697                  1.0        0.0              N                Cash   \n",
              "\n",
              "         debt_settlement_flag  loan_paid  \n",
              "0                           N          1  \n",
              "1                           N          1  \n",
              "2                           N          1  \n",
              "4                           N          1  \n",
              "5                           N          1  \n",
              "...                       ...        ...  \n",
              "2260688                     N          1  \n",
              "2260690                     N          1  \n",
              "2260691                     N          0  \n",
              "2260692                     N          1  \n",
              "2260697                     Y          0  \n",
              "\n",
              "[1341026 rows x 44 columns]"
            ],
            "text/html": [
              "\n",
              "  <div id=\"df-73e78c22-9d35-4cae-b6fa-ceb667de1dab\">\n",
              "    <div class=\"colab-df-container\">\n",
              "      <div>\n",
              "<style scoped>\n",
              "    .dataframe tbody tr th:only-of-type {\n",
              "        vertical-align: middle;\n",
              "    }\n",
              "\n",
              "    .dataframe tbody tr th {\n",
              "        vertical-align: top;\n",
              "    }\n",
              "\n",
              "    .dataframe thead th {\n",
              "        text-align: right;\n",
              "    }\n",
              "</style>\n",
              "<table border=\"1\" class=\"dataframe\">\n",
              "  <thead>\n",
              "    <tr style=\"text-align: right;\">\n",
              "      <th></th>\n",
              "      <th>id</th>\n",
              "      <th>loan_amnt</th>\n",
              "      <th>term</th>\n",
              "      <th>int_rate</th>\n",
              "      <th>grade</th>\n",
              "      <th>sub_grade</th>\n",
              "      <th>home_ownership</th>\n",
              "      <th>annual_inc</th>\n",
              "      <th>verification_status</th>\n",
              "      <th>issue_d</th>\n",
              "      <th>...</th>\n",
              "      <th>application_type</th>\n",
              "      <th>acc_now_delinq</th>\n",
              "      <th>chargeoff_within_12_mths</th>\n",
              "      <th>delinq_amnt</th>\n",
              "      <th>pub_rec_bankruptcies</th>\n",
              "      <th>tax_liens</th>\n",
              "      <th>hardship_flag</th>\n",
              "      <th>disbursement_method</th>\n",
              "      <th>debt_settlement_flag</th>\n",
              "      <th>loan_paid</th>\n",
              "    </tr>\n",
              "  </thead>\n",
              "  <tbody>\n",
              "    <tr>\n",
              "      <th>0</th>\n",
              "      <td>68407277</td>\n",
              "      <td>3600.0</td>\n",
              "      <td>36 months</td>\n",
              "      <td>13.99</td>\n",
              "      <td>C</td>\n",
              "      <td>C4</td>\n",
              "      <td>MORTGAGE</td>\n",
              "      <td>55000.0</td>\n",
              "      <td>Not Verified</td>\n",
              "      <td>Dec-2015</td>\n",
              "      <td>...</td>\n",
              "      <td>Individual</td>\n",
              "      <td>0.0</td>\n",
              "      <td>0.0</td>\n",
              "      <td>0.0</td>\n",
              "      <td>0.0</td>\n",
              "      <td>0.0</td>\n",
              "      <td>N</td>\n",
              "      <td>Cash</td>\n",
              "      <td>N</td>\n",
              "      <td>1</td>\n",
              "    </tr>\n",
              "    <tr>\n",
              "      <th>1</th>\n",
              "      <td>68355089</td>\n",
              "      <td>24700.0</td>\n",
              "      <td>36 months</td>\n",
              "      <td>11.99</td>\n",
              "      <td>C</td>\n",
              "      <td>C1</td>\n",
              "      <td>MORTGAGE</td>\n",
              "      <td>65000.0</td>\n",
              "      <td>Not Verified</td>\n",
              "      <td>Dec-2015</td>\n",
              "      <td>...</td>\n",
              "      <td>Individual</td>\n",
              "      <td>0.0</td>\n",
              "      <td>0.0</td>\n",
              "      <td>0.0</td>\n",
              "      <td>0.0</td>\n",
              "      <td>0.0</td>\n",
              "      <td>N</td>\n",
              "      <td>Cash</td>\n",
              "      <td>N</td>\n",
              "      <td>1</td>\n",
              "    </tr>\n",
              "    <tr>\n",
              "      <th>2</th>\n",
              "      <td>68341763</td>\n",
              "      <td>20000.0</td>\n",
              "      <td>60 months</td>\n",
              "      <td>10.78</td>\n",
              "      <td>B</td>\n",
              "      <td>B4</td>\n",
              "      <td>MORTGAGE</td>\n",
              "      <td>63000.0</td>\n",
              "      <td>Not Verified</td>\n",
              "      <td>Dec-2015</td>\n",
              "      <td>...</td>\n",
              "      <td>Joint App</td>\n",
              "      <td>0.0</td>\n",
              "      <td>0.0</td>\n",
              "      <td>0.0</td>\n",
              "      <td>0.0</td>\n",
              "      <td>0.0</td>\n",
              "      <td>N</td>\n",
              "      <td>Cash</td>\n",
              "      <td>N</td>\n",
              "      <td>1</td>\n",
              "    </tr>\n",
              "    <tr>\n",
              "      <th>4</th>\n",
              "      <td>68476807</td>\n",
              "      <td>10400.0</td>\n",
              "      <td>60 months</td>\n",
              "      <td>22.45</td>\n",
              "      <td>F</td>\n",
              "      <td>F1</td>\n",
              "      <td>MORTGAGE</td>\n",
              "      <td>104433.0</td>\n",
              "      <td>Source Verified</td>\n",
              "      <td>Dec-2015</td>\n",
              "      <td>...</td>\n",
              "      <td>Individual</td>\n",
              "      <td>0.0</td>\n",
              "      <td>0.0</td>\n",
              "      <td>0.0</td>\n",
              "      <td>0.0</td>\n",
              "      <td>0.0</td>\n",
              "      <td>N</td>\n",
              "      <td>Cash</td>\n",
              "      <td>N</td>\n",
              "      <td>1</td>\n",
              "    </tr>\n",
              "    <tr>\n",
              "      <th>5</th>\n",
              "      <td>68426831</td>\n",
              "      <td>11950.0</td>\n",
              "      <td>36 months</td>\n",
              "      <td>13.44</td>\n",
              "      <td>C</td>\n",
              "      <td>C3</td>\n",
              "      <td>RENT</td>\n",
              "      <td>34000.0</td>\n",
              "      <td>Source Verified</td>\n",
              "      <td>Dec-2015</td>\n",
              "      <td>...</td>\n",
              "      <td>Individual</td>\n",
              "      <td>0.0</td>\n",
              "      <td>0.0</td>\n",
              "      <td>0.0</td>\n",
              "      <td>0.0</td>\n",
              "      <td>0.0</td>\n",
              "      <td>N</td>\n",
              "      <td>Cash</td>\n",
              "      <td>N</td>\n",
              "      <td>1</td>\n",
              "    </tr>\n",
              "    <tr>\n",
              "      <th>...</th>\n",
              "      <td>...</td>\n",
              "      <td>...</td>\n",
              "      <td>...</td>\n",
              "      <td>...</td>\n",
              "      <td>...</td>\n",
              "      <td>...</td>\n",
              "      <td>...</td>\n",
              "      <td>...</td>\n",
              "      <td>...</td>\n",
              "      <td>...</td>\n",
              "      <td>...</td>\n",
              "      <td>...</td>\n",
              "      <td>...</td>\n",
              "      <td>...</td>\n",
              "      <td>...</td>\n",
              "      <td>...</td>\n",
              "      <td>...</td>\n",
              "      <td>...</td>\n",
              "      <td>...</td>\n",
              "      <td>...</td>\n",
              "      <td>...</td>\n",
              "    </tr>\n",
              "    <tr>\n",
              "      <th>2260688</th>\n",
              "      <td>89905081</td>\n",
              "      <td>18000.0</td>\n",
              "      <td>60 months</td>\n",
              "      <td>9.49</td>\n",
              "      <td>B</td>\n",
              "      <td>B2</td>\n",
              "      <td>OWN</td>\n",
              "      <td>130000.0</td>\n",
              "      <td>Not Verified</td>\n",
              "      <td>Oct-2016</td>\n",
              "      <td>...</td>\n",
              "      <td>Individual</td>\n",
              "      <td>0.0</td>\n",
              "      <td>0.0</td>\n",
              "      <td>0.0</td>\n",
              "      <td>0.0</td>\n",
              "      <td>0.0</td>\n",
              "      <td>N</td>\n",
              "      <td>Cash</td>\n",
              "      <td>N</td>\n",
              "      <td>1</td>\n",
              "    </tr>\n",
              "    <tr>\n",
              "      <th>2260690</th>\n",
              "      <td>88948836</td>\n",
              "      <td>29400.0</td>\n",
              "      <td>60 months</td>\n",
              "      <td>13.99</td>\n",
              "      <td>C</td>\n",
              "      <td>C3</td>\n",
              "      <td>MORTGAGE</td>\n",
              "      <td>180792.0</td>\n",
              "      <td>Not Verified</td>\n",
              "      <td>Oct-2016</td>\n",
              "      <td>...</td>\n",
              "      <td>Individual</td>\n",
              "      <td>0.0</td>\n",
              "      <td>0.0</td>\n",
              "      <td>0.0</td>\n",
              "      <td>0.0</td>\n",
              "      <td>0.0</td>\n",
              "      <td>N</td>\n",
              "      <td>Cash</td>\n",
              "      <td>N</td>\n",
              "      <td>1</td>\n",
              "    </tr>\n",
              "    <tr>\n",
              "      <th>2260691</th>\n",
              "      <td>89996426</td>\n",
              "      <td>32000.0</td>\n",
              "      <td>60 months</td>\n",
              "      <td>14.49</td>\n",
              "      <td>C</td>\n",
              "      <td>C4</td>\n",
              "      <td>MORTGAGE</td>\n",
              "      <td>157000.0</td>\n",
              "      <td>Source Verified</td>\n",
              "      <td>Oct-2016</td>\n",
              "      <td>...</td>\n",
              "      <td>Individual</td>\n",
              "      <td>0.0</td>\n",
              "      <td>0.0</td>\n",
              "      <td>0.0</td>\n",
              "      <td>0.0</td>\n",
              "      <td>0.0</td>\n",
              "      <td>N</td>\n",
              "      <td>Cash</td>\n",
              "      <td>N</td>\n",
              "      <td>0</td>\n",
              "    </tr>\n",
              "    <tr>\n",
              "      <th>2260692</th>\n",
              "      <td>90006534</td>\n",
              "      <td>16000.0</td>\n",
              "      <td>60 months</td>\n",
              "      <td>12.79</td>\n",
              "      <td>C</td>\n",
              "      <td>C1</td>\n",
              "      <td>RENT</td>\n",
              "      <td>150000.0</td>\n",
              "      <td>Not Verified</td>\n",
              "      <td>Oct-2016</td>\n",
              "      <td>...</td>\n",
              "      <td>Individual</td>\n",
              "      <td>0.0</td>\n",
              "      <td>0.0</td>\n",
              "      <td>0.0</td>\n",
              "      <td>3.0</td>\n",
              "      <td>0.0</td>\n",
              "      <td>N</td>\n",
              "      <td>Cash</td>\n",
              "      <td>N</td>\n",
              "      <td>1</td>\n",
              "    </tr>\n",
              "    <tr>\n",
              "      <th>2260697</th>\n",
              "      <td>88224441</td>\n",
              "      <td>24000.0</td>\n",
              "      <td>60 months</td>\n",
              "      <td>14.49</td>\n",
              "      <td>C</td>\n",
              "      <td>C4</td>\n",
              "      <td>RENT</td>\n",
              "      <td>110000.0</td>\n",
              "      <td>Not Verified</td>\n",
              "      <td>Oct-2016</td>\n",
              "      <td>...</td>\n",
              "      <td>Individual</td>\n",
              "      <td>0.0</td>\n",
              "      <td>0.0</td>\n",
              "      <td>0.0</td>\n",
              "      <td>1.0</td>\n",
              "      <td>0.0</td>\n",
              "      <td>N</td>\n",
              "      <td>Cash</td>\n",
              "      <td>Y</td>\n",
              "      <td>0</td>\n",
              "    </tr>\n",
              "  </tbody>\n",
              "</table>\n",
              "<p>1341026 rows × 44 columns</p>\n",
              "</div>\n",
              "      <button class=\"colab-df-convert\" onclick=\"convertToInteractive('df-73e78c22-9d35-4cae-b6fa-ceb667de1dab')\"\n",
              "              title=\"Convert this dataframe to an interactive table.\"\n",
              "              style=\"display:none;\">\n",
              "        \n",
              "  <svg xmlns=\"http://www.w3.org/2000/svg\" height=\"24px\"viewBox=\"0 0 24 24\"\n",
              "       width=\"24px\">\n",
              "    <path d=\"M0 0h24v24H0V0z\" fill=\"none\"/>\n",
              "    <path d=\"M18.56 5.44l.94 2.06.94-2.06 2.06-.94-2.06-.94-.94-2.06-.94 2.06-2.06.94zm-11 1L8.5 8.5l.94-2.06 2.06-.94-2.06-.94L8.5 2.5l-.94 2.06-2.06.94zm10 10l.94 2.06.94-2.06 2.06-.94-2.06-.94-.94-2.06-.94 2.06-2.06.94z\"/><path d=\"M17.41 7.96l-1.37-1.37c-.4-.4-.92-.59-1.43-.59-.52 0-1.04.2-1.43.59L10.3 9.45l-7.72 7.72c-.78.78-.78 2.05 0 2.83L4 21.41c.39.39.9.59 1.41.59.51 0 1.02-.2 1.41-.59l7.78-7.78 2.81-2.81c.8-.78.8-2.07 0-2.86zM5.41 20L4 18.59l7.72-7.72 1.47 1.35L5.41 20z\"/>\n",
              "  </svg>\n",
              "      </button>\n",
              "      \n",
              "  <style>\n",
              "    .colab-df-container {\n",
              "      display:flex;\n",
              "      flex-wrap:wrap;\n",
              "      gap: 12px;\n",
              "    }\n",
              "\n",
              "    .colab-df-convert {\n",
              "      background-color: #E8F0FE;\n",
              "      border: none;\n",
              "      border-radius: 50%;\n",
              "      cursor: pointer;\n",
              "      display: none;\n",
              "      fill: #1967D2;\n",
              "      height: 32px;\n",
              "      padding: 0 0 0 0;\n",
              "      width: 32px;\n",
              "    }\n",
              "\n",
              "    .colab-df-convert:hover {\n",
              "      background-color: #E2EBFA;\n",
              "      box-shadow: 0px 1px 2px rgba(60, 64, 67, 0.3), 0px 1px 3px 1px rgba(60, 64, 67, 0.15);\n",
              "      fill: #174EA6;\n",
              "    }\n",
              "\n",
              "    [theme=dark] .colab-df-convert {\n",
              "      background-color: #3B4455;\n",
              "      fill: #D2E3FC;\n",
              "    }\n",
              "\n",
              "    [theme=dark] .colab-df-convert:hover {\n",
              "      background-color: #434B5C;\n",
              "      box-shadow: 0px 1px 3px 1px rgba(0, 0, 0, 0.15);\n",
              "      filter: drop-shadow(0px 1px 2px rgba(0, 0, 0, 0.3));\n",
              "      fill: #FFFFFF;\n",
              "    }\n",
              "  </style>\n",
              "\n",
              "      <script>\n",
              "        const buttonEl =\n",
              "          document.querySelector('#df-73e78c22-9d35-4cae-b6fa-ceb667de1dab button.colab-df-convert');\n",
              "        buttonEl.style.display =\n",
              "          google.colab.kernel.accessAllowed ? 'block' : 'none';\n",
              "\n",
              "        async function convertToInteractive(key) {\n",
              "          const element = document.querySelector('#df-73e78c22-9d35-4cae-b6fa-ceb667de1dab');\n",
              "          const dataTable =\n",
              "            await google.colab.kernel.invokeFunction('convertToInteractive',\n",
              "                                                     [key], {});\n",
              "          if (!dataTable) return;\n",
              "\n",
              "          const docLinkHtml = 'Like what you see? Visit the ' +\n",
              "            '<a target=\"_blank\" href=https://colab.research.google.com/notebooks/data_table.ipynb>data table notebook</a>'\n",
              "            + ' to learn more about interactive tables.';\n",
              "          element.innerHTML = '';\n",
              "          dataTable['output_type'] = 'display_data';\n",
              "          await google.colab.output.renderOutput(dataTable, element);\n",
              "          const docLink = document.createElement('div');\n",
              "          docLink.innerHTML = docLinkHtml;\n",
              "          element.appendChild(docLink);\n",
              "        }\n",
              "      </script>\n",
              "    </div>\n",
              "  </div>\n",
              "  "
            ]
          },
          "metadata": {},
          "execution_count": 13
        }
      ]
    },
    {
      "cell_type": "code",
      "source": [
        "# droping constant columns\n",
        "\n",
        "print(df_accepted.pymnt_plan.value_counts())\n",
        "print(df_accepted.hardship_flag.value_counts())\n",
        "\n",
        "cols_to_drop = ['id', 'pymnt_plan', 'hardship_flag']\n",
        "df_accepted = df_accepted.drop(columns=cols_to_drop)\n",
        "df_accepted.shape"
      ],
      "metadata": {
        "colab": {
          "base_uri": "https://localhost:8080/"
        },
        "id": "ICfFBT4fLfCj",
        "outputId": "148b2782-33a7-4dc5-cd01-5d7ee294857b"
      },
      "execution_count": 14,
      "outputs": [
        {
          "output_type": "stream",
          "name": "stdout",
          "text": [
            "n    1341026\n",
            "Name: pymnt_plan, dtype: int64\n",
            "N    1341026\n",
            "Name: hardship_flag, dtype: int64\n"
          ]
        },
        {
          "output_type": "execute_result",
          "data": {
            "text/plain": [
              "(1341026, 41)"
            ]
          },
          "metadata": {},
          "execution_count": 14
        }
      ]
    },
    {
      "cell_type": "code",
      "source": [
        "cat_cols = df_accepted.select_dtypes(include=['object']).columns\n",
        "print(cat_cols)\n",
        "\n",
        "print(df_accepted.term.value_counts())\n",
        "\n",
        "# convert term into either a 36 or 60 integer numeric data type\n",
        "\n",
        "l1 = df_accepted.term.unique()\n",
        "l2 = [36, 60]\n",
        "d = dict(zip(l1, l2))\n",
        "\n",
        "df_accepted['term'] = df_accepted['term'].map(d)\n",
        "\n",
        "# as grade is part of sub_grade, so let's just drop the grade feature.\n",
        "\n",
        "df_accepted = df_accepted.drop(columns='grade')\n",
        "\n",
        "df_accepted = pd.get_dummies(df_accepted, columns = ['sub_grade'], prefix='', prefix_sep='', drop_first=True)\n",
        "\n",
        "cat_cols = df_accepted.select_dtypes(include=['object']).columns\n",
        "print(cat_cols)\n",
        "\n",
        "# for these columns, let's just create dummy variables, concatenate them with the original dataframe and drop original columns.\n",
        "\n",
        "df_accepted = pd.get_dummies(df_accepted, columns = ['verification_status'], prefix='', prefix_sep='', drop_first=True)\n",
        "df_accepted = pd.get_dummies(df_accepted, columns = ['application_type'], prefix='', prefix_sep='', drop_first=True)\n",
        "df_accepted = pd.get_dummies(df_accepted, columns = ['initial_list_status'], prefix='', prefix_sep='', drop_first=True)\n",
        "df_accepted = pd.get_dummies(df_accepted, columns = ['purpose'], prefix='', prefix_sep='', drop_first=True)"
      ],
      "metadata": {
        "colab": {
          "base_uri": "https://localhost:8080/"
        },
        "id": "08s4i8w-LkG3",
        "outputId": "acad4fe8-587a-4e99-9818-0a08b6bae23d"
      },
      "execution_count": 15,
      "outputs": [
        {
          "output_type": "stream",
          "name": "stdout",
          "text": [
            "Index(['term', 'grade', 'sub_grade', 'home_ownership', 'verification_status',\n",
            "       'issue_d', 'url', 'purpose', 'zip_code', 'addr_state',\n",
            "       'earliest_cr_line', 'initial_list_status', 'last_pymnt_d',\n",
            "       'last_credit_pull_d', 'application_type', 'disbursement_method',\n",
            "       'debt_settlement_flag'],\n",
            "      dtype='object')\n",
            " 36 months    1017398\n",
            " 60 months     323628\n",
            "Name: term, dtype: int64\n",
            "Index(['home_ownership', 'verification_status', 'issue_d', 'url', 'purpose',\n",
            "       'zip_code', 'addr_state', 'earliest_cr_line', 'initial_list_status',\n",
            "       'last_pymnt_d', 'last_credit_pull_d', 'application_type',\n",
            "       'disbursement_method', 'debt_settlement_flag'],\n",
            "      dtype='object')\n"
          ]
        }
      ]
    },
    {
      "cell_type": "code",
      "source": [
        "df_accepted.shape"
      ],
      "metadata": {
        "colab": {
          "base_uri": "https://localhost:8080/"
        },
        "id": "rQGED8QzL0Wn",
        "outputId": "58a87667-2fa2-4811-d909-dec6d4b395bd"
      },
      "execution_count": 16,
      "outputs": [
        {
          "output_type": "execute_result",
          "data": {
            "text/plain": [
              "(1341026, 86)"
            ]
          },
          "metadata": {},
          "execution_count": 16
        }
      ]
    },
    {
      "cell_type": "code",
      "source": [
        "df_accepted['home_ownership'] = df_accepted.home_ownership.replace('NONE', 'ANY')\n",
        "df_accepted = pd.get_dummies(df_accepted, columns = ['home_ownership'], prefix='', prefix_sep='', drop_first=True)\n",
        "df_accepted = df_accepted.drop(columns=[ 'url', 'last_pymnt_d', 'last_credit_pull_d'])\n",
        "df_accepted = df_accepted.drop(columns=['zip_code', 'addr_state'])\n",
        "df_accepted = pd.get_dummies(df_accepted, columns = ['disbursement_method'], prefix='', prefix_sep='', drop_first=True)\n",
        "df_accepted = pd.get_dummies(df_accepted, columns = ['debt_settlement_flag'], prefix='', prefix_sep='', drop_first=True)\n",
        "df_accepted = df_accepted.drop(columns=['earliest_cr_line'])\n",
        "df_accepted.shape"
      ],
      "metadata": {
        "colab": {
          "base_uri": "https://localhost:8080/"
        },
        "id": "MQklV-_8L9qf",
        "outputId": "7c007d58-c559-4a8b-f418-0ed793630333"
      },
      "execution_count": 17,
      "outputs": [
        {
          "output_type": "execute_result",
          "data": {
            "text/plain": [
              "(1341026, 83)"
            ]
          },
          "metadata": {},
          "execution_count": 17
        }
      ]
    },
    {
      "cell_type": "code",
      "source": [
        "df_accepted['issue_d'] = df_accepted['issue_d'].str.replace('Jan','01')\n",
        "df_accepted['issue_d'] = df_accepted['issue_d'].str.replace('Feb','02')\n",
        "df_accepted['issue_d'] = df_accepted['issue_d'].str.replace('Mar','03')\n",
        "df_accepted['issue_d'] = df_accepted['issue_d'].str.replace('Apr','04')\n",
        "df_accepted['issue_d'] = df_accepted['issue_d'].str.replace('May','05')\n",
        "df_accepted['issue_d'] = df_accepted['issue_d'].str.replace('Jun','06')\n",
        "df_accepted['issue_d'] = df_accepted['issue_d'].str.replace('Jul','07')\n",
        "df_accepted['issue_d'] = df_accepted['issue_d'].str.replace('Aug','08')\n",
        "df_accepted['issue_d'] = df_accepted['issue_d'].str.replace('Sep','09')\n",
        "df_accepted['issue_d'] = df_accepted['issue_d'].str.replace('Oct','10')\n",
        "df_accepted['issue_d'] = df_accepted['issue_d'].str.replace('Dec','11')\n",
        "df_accepted['issue_d'] = df_accepted['issue_d'].str.replace('Nov','12')"
      ],
      "metadata": {
        "id": "lNSDpsRZMNOw"
      },
      "execution_count": 18,
      "outputs": []
    },
    {
      "cell_type": "code",
      "source": [
        "def reorder_issue_d(dt):\n",
        "    a = dt.split('-')\n",
        "    return a[1]+a[0]\n",
        "\n",
        "reorder_issue_d('01-2009')"
      ],
      "metadata": {
        "colab": {
          "base_uri": "https://localhost:8080/",
          "height": 0
        },
        "id": "aEzn-q3dMOJv",
        "outputId": "05844223-c913-4b6f-af82-f88f16839338"
      },
      "execution_count": 19,
      "outputs": [
        {
          "output_type": "execute_result",
          "data": {
            "text/plain": [
              "'200901'"
            ],
            "application/vnd.google.colaboratory.intrinsic+json": {
              "type": "string"
            }
          },
          "metadata": {},
          "execution_count": 19
        }
      ]
    },
    {
      "cell_type": "code",
      "source": [
        " df_accepted['issue_d'] = df_accepted['issue_d'].apply(reorder_issue_d)\n",
        " df_accepted = df_accepted.sort_values(by='issue_d')\n",
        " df_accepted.reset_index(drop=True, inplace=True)"
      ],
      "metadata": {
        "id": "NTOD2T4MMTA1"
      },
      "execution_count": 20,
      "outputs": []
    },
    {
      "cell_type": "code",
      "source": [
        "df_accepted.info()"
      ],
      "metadata": {
        "colab": {
          "base_uri": "https://localhost:8080/"
        },
        "id": "Of4qdLUpT5fg",
        "outputId": "5c319355-63dc-4366-8bb8-781d927629fe"
      },
      "execution_count": 21,
      "outputs": [
        {
          "output_type": "stream",
          "name": "stdout",
          "text": [
            "<class 'pandas.core.frame.DataFrame'>\n",
            "RangeIndex: 1341026 entries, 0 to 1341025\n",
            "Data columns (total 83 columns):\n",
            " #   Column                      Non-Null Count    Dtype  \n",
            "---  ------                      --------------    -----  \n",
            " 0   loan_amnt                   1341026 non-null  float64\n",
            " 1   term                        1341026 non-null  int64  \n",
            " 2   int_rate                    1341026 non-null  float64\n",
            " 3   annual_inc                  1341026 non-null  float64\n",
            " 4   issue_d                     1341026 non-null  object \n",
            " 5   dti                         1341026 non-null  float64\n",
            " 6   delinq_2yrs                 1341026 non-null  float64\n",
            " 7   fico_range_high             1341026 non-null  float64\n",
            " 8   inq_last_6mths              1341026 non-null  float64\n",
            " 9   open_acc                    1341026 non-null  float64\n",
            " 10  pub_rec                     1341026 non-null  float64\n",
            " 11  revol_bal                   1341026 non-null  float64\n",
            " 12  revol_util                  1341026 non-null  float64\n",
            " 13  total_acc                   1341026 non-null  float64\n",
            " 14  total_rec_int               1341026 non-null  float64\n",
            " 15  total_rec_late_fee          1341026 non-null  float64\n",
            " 16  recoveries                  1341026 non-null  float64\n",
            " 17  last_pymnt_amnt             1341026 non-null  float64\n",
            " 18  last_fico_range_high        1341026 non-null  float64\n",
            " 19  collections_12_mths_ex_med  1341026 non-null  float64\n",
            " 20  acc_now_delinq              1341026 non-null  float64\n",
            " 21  chargeoff_within_12_mths    1341026 non-null  float64\n",
            " 22  delinq_amnt                 1341026 non-null  float64\n",
            " 23  pub_rec_bankruptcies        1341026 non-null  float64\n",
            " 24  tax_liens                   1341026 non-null  float64\n",
            " 25  loan_paid                   1341026 non-null  int64  \n",
            " 26  A2                          1341026 non-null  uint8  \n",
            " 27  A3                          1341026 non-null  uint8  \n",
            " 28  A4                          1341026 non-null  uint8  \n",
            " 29  A5                          1341026 non-null  uint8  \n",
            " 30  B1                          1341026 non-null  uint8  \n",
            " 31  B2                          1341026 non-null  uint8  \n",
            " 32  B3                          1341026 non-null  uint8  \n",
            " 33  B4                          1341026 non-null  uint8  \n",
            " 34  B5                          1341026 non-null  uint8  \n",
            " 35  C1                          1341026 non-null  uint8  \n",
            " 36  C2                          1341026 non-null  uint8  \n",
            " 37  C3                          1341026 non-null  uint8  \n",
            " 38  C4                          1341026 non-null  uint8  \n",
            " 39  C5                          1341026 non-null  uint8  \n",
            " 40  D1                          1341026 non-null  uint8  \n",
            " 41  D2                          1341026 non-null  uint8  \n",
            " 42  D3                          1341026 non-null  uint8  \n",
            " 43  D4                          1341026 non-null  uint8  \n",
            " 44  D5                          1341026 non-null  uint8  \n",
            " 45  E1                          1341026 non-null  uint8  \n",
            " 46  E2                          1341026 non-null  uint8  \n",
            " 47  E3                          1341026 non-null  uint8  \n",
            " 48  E4                          1341026 non-null  uint8  \n",
            " 49  E5                          1341026 non-null  uint8  \n",
            " 50  F1                          1341026 non-null  uint8  \n",
            " 51  F2                          1341026 non-null  uint8  \n",
            " 52  F3                          1341026 non-null  uint8  \n",
            " 53  F4                          1341026 non-null  uint8  \n",
            " 54  F5                          1341026 non-null  uint8  \n",
            " 55  G1                          1341026 non-null  uint8  \n",
            " 56  G2                          1341026 non-null  uint8  \n",
            " 57  G3                          1341026 non-null  uint8  \n",
            " 58  G4                          1341026 non-null  uint8  \n",
            " 59  G5                          1341026 non-null  uint8  \n",
            " 60  Source Verified             1341026 non-null  uint8  \n",
            " 61  Verified                    1341026 non-null  uint8  \n",
            " 62  Joint App                   1341026 non-null  uint8  \n",
            " 63  w                           1341026 non-null  uint8  \n",
            " 64  credit_card                 1341026 non-null  uint8  \n",
            " 65  debt_consolidation          1341026 non-null  uint8  \n",
            " 66  educational                 1341026 non-null  uint8  \n",
            " 67  home_improvement            1341026 non-null  uint8  \n",
            " 68  house                       1341026 non-null  uint8  \n",
            " 69  major_purchase              1341026 non-null  uint8  \n",
            " 70  medical                     1341026 non-null  uint8  \n",
            " 71  moving                      1341026 non-null  uint8  \n",
            " 72  other                       1341026 non-null  uint8  \n",
            " 73  renewable_energy            1341026 non-null  uint8  \n",
            " 74  small_business              1341026 non-null  uint8  \n",
            " 75  vacation                    1341026 non-null  uint8  \n",
            " 76  wedding                     1341026 non-null  uint8  \n",
            " 77  MORTGAGE                    1341026 non-null  uint8  \n",
            " 78  OTHER                       1341026 non-null  uint8  \n",
            " 79  OWN                         1341026 non-null  uint8  \n",
            " 80  RENT                        1341026 non-null  uint8  \n",
            " 81  DirectPay                   1341026 non-null  uint8  \n",
            " 82  Y                           1341026 non-null  uint8  \n",
            "dtypes: float64(23), int64(2), object(1), uint8(57)\n",
            "memory usage: 338.9+ MB\n"
          ]
        }
      ]
    },
    {
      "cell_type": "code",
      "source": [
        "df_accepted[['G1','G2','G3','G4']]"
      ],
      "metadata": {
        "colab": {
          "base_uri": "https://localhost:8080/",
          "height": 0
        },
        "id": "puwbvv-wUKSx",
        "outputId": "0fd9656b-30f4-45d4-d764-5a27fa1650d5"
      },
      "execution_count": 22,
      "outputs": [
        {
          "output_type": "execute_result",
          "data": {
            "text/plain": [
              "         G1  G2  G3  G4\n",
              "0         0   0   0   0\n",
              "1         0   0   0   0\n",
              "2         0   0   0   0\n",
              "3         0   0   0   0\n",
              "4         0   0   0   0\n",
              "...      ..  ..  ..  ..\n",
              "1341021   0   0   0   0\n",
              "1341022   0   0   0   0\n",
              "1341023   0   0   0   0\n",
              "1341024   0   0   0   0\n",
              "1341025   0   0   0   0\n",
              "\n",
              "[1341026 rows x 4 columns]"
            ],
            "text/html": [
              "\n",
              "  <div id=\"df-6429e60e-5fc2-4768-a2b4-f69030486b6f\">\n",
              "    <div class=\"colab-df-container\">\n",
              "      <div>\n",
              "<style scoped>\n",
              "    .dataframe tbody tr th:only-of-type {\n",
              "        vertical-align: middle;\n",
              "    }\n",
              "\n",
              "    .dataframe tbody tr th {\n",
              "        vertical-align: top;\n",
              "    }\n",
              "\n",
              "    .dataframe thead th {\n",
              "        text-align: right;\n",
              "    }\n",
              "</style>\n",
              "<table border=\"1\" class=\"dataframe\">\n",
              "  <thead>\n",
              "    <tr style=\"text-align: right;\">\n",
              "      <th></th>\n",
              "      <th>G1</th>\n",
              "      <th>G2</th>\n",
              "      <th>G3</th>\n",
              "      <th>G4</th>\n",
              "    </tr>\n",
              "  </thead>\n",
              "  <tbody>\n",
              "    <tr>\n",
              "      <th>0</th>\n",
              "      <td>0</td>\n",
              "      <td>0</td>\n",
              "      <td>0</td>\n",
              "      <td>0</td>\n",
              "    </tr>\n",
              "    <tr>\n",
              "      <th>1</th>\n",
              "      <td>0</td>\n",
              "      <td>0</td>\n",
              "      <td>0</td>\n",
              "      <td>0</td>\n",
              "    </tr>\n",
              "    <tr>\n",
              "      <th>2</th>\n",
              "      <td>0</td>\n",
              "      <td>0</td>\n",
              "      <td>0</td>\n",
              "      <td>0</td>\n",
              "    </tr>\n",
              "    <tr>\n",
              "      <th>3</th>\n",
              "      <td>0</td>\n",
              "      <td>0</td>\n",
              "      <td>0</td>\n",
              "      <td>0</td>\n",
              "    </tr>\n",
              "    <tr>\n",
              "      <th>4</th>\n",
              "      <td>0</td>\n",
              "      <td>0</td>\n",
              "      <td>0</td>\n",
              "      <td>0</td>\n",
              "    </tr>\n",
              "    <tr>\n",
              "      <th>...</th>\n",
              "      <td>...</td>\n",
              "      <td>...</td>\n",
              "      <td>...</td>\n",
              "      <td>...</td>\n",
              "    </tr>\n",
              "    <tr>\n",
              "      <th>1341021</th>\n",
              "      <td>0</td>\n",
              "      <td>0</td>\n",
              "      <td>0</td>\n",
              "      <td>0</td>\n",
              "    </tr>\n",
              "    <tr>\n",
              "      <th>1341022</th>\n",
              "      <td>0</td>\n",
              "      <td>0</td>\n",
              "      <td>0</td>\n",
              "      <td>0</td>\n",
              "    </tr>\n",
              "    <tr>\n",
              "      <th>1341023</th>\n",
              "      <td>0</td>\n",
              "      <td>0</td>\n",
              "      <td>0</td>\n",
              "      <td>0</td>\n",
              "    </tr>\n",
              "    <tr>\n",
              "      <th>1341024</th>\n",
              "      <td>0</td>\n",
              "      <td>0</td>\n",
              "      <td>0</td>\n",
              "      <td>0</td>\n",
              "    </tr>\n",
              "    <tr>\n",
              "      <th>1341025</th>\n",
              "      <td>0</td>\n",
              "      <td>0</td>\n",
              "      <td>0</td>\n",
              "      <td>0</td>\n",
              "    </tr>\n",
              "  </tbody>\n",
              "</table>\n",
              "<p>1341026 rows × 4 columns</p>\n",
              "</div>\n",
              "      <button class=\"colab-df-convert\" onclick=\"convertToInteractive('df-6429e60e-5fc2-4768-a2b4-f69030486b6f')\"\n",
              "              title=\"Convert this dataframe to an interactive table.\"\n",
              "              style=\"display:none;\">\n",
              "        \n",
              "  <svg xmlns=\"http://www.w3.org/2000/svg\" height=\"24px\"viewBox=\"0 0 24 24\"\n",
              "       width=\"24px\">\n",
              "    <path d=\"M0 0h24v24H0V0z\" fill=\"none\"/>\n",
              "    <path d=\"M18.56 5.44l.94 2.06.94-2.06 2.06-.94-2.06-.94-.94-2.06-.94 2.06-2.06.94zm-11 1L8.5 8.5l.94-2.06 2.06-.94-2.06-.94L8.5 2.5l-.94 2.06-2.06.94zm10 10l.94 2.06.94-2.06 2.06-.94-2.06-.94-.94-2.06-.94 2.06-2.06.94z\"/><path d=\"M17.41 7.96l-1.37-1.37c-.4-.4-.92-.59-1.43-.59-.52 0-1.04.2-1.43.59L10.3 9.45l-7.72 7.72c-.78.78-.78 2.05 0 2.83L4 21.41c.39.39.9.59 1.41.59.51 0 1.02-.2 1.41-.59l7.78-7.78 2.81-2.81c.8-.78.8-2.07 0-2.86zM5.41 20L4 18.59l7.72-7.72 1.47 1.35L5.41 20z\"/>\n",
              "  </svg>\n",
              "      </button>\n",
              "      \n",
              "  <style>\n",
              "    .colab-df-container {\n",
              "      display:flex;\n",
              "      flex-wrap:wrap;\n",
              "      gap: 12px;\n",
              "    }\n",
              "\n",
              "    .colab-df-convert {\n",
              "      background-color: #E8F0FE;\n",
              "      border: none;\n",
              "      border-radius: 50%;\n",
              "      cursor: pointer;\n",
              "      display: none;\n",
              "      fill: #1967D2;\n",
              "      height: 32px;\n",
              "      padding: 0 0 0 0;\n",
              "      width: 32px;\n",
              "    }\n",
              "\n",
              "    .colab-df-convert:hover {\n",
              "      background-color: #E2EBFA;\n",
              "      box-shadow: 0px 1px 2px rgba(60, 64, 67, 0.3), 0px 1px 3px 1px rgba(60, 64, 67, 0.15);\n",
              "      fill: #174EA6;\n",
              "    }\n",
              "\n",
              "    [theme=dark] .colab-df-convert {\n",
              "      background-color: #3B4455;\n",
              "      fill: #D2E3FC;\n",
              "    }\n",
              "\n",
              "    [theme=dark] .colab-df-convert:hover {\n",
              "      background-color: #434B5C;\n",
              "      box-shadow: 0px 1px 3px 1px rgba(0, 0, 0, 0.15);\n",
              "      filter: drop-shadow(0px 1px 2px rgba(0, 0, 0, 0.3));\n",
              "      fill: #FFFFFF;\n",
              "    }\n",
              "  </style>\n",
              "\n",
              "      <script>\n",
              "        const buttonEl =\n",
              "          document.querySelector('#df-6429e60e-5fc2-4768-a2b4-f69030486b6f button.colab-df-convert');\n",
              "        buttonEl.style.display =\n",
              "          google.colab.kernel.accessAllowed ? 'block' : 'none';\n",
              "\n",
              "        async function convertToInteractive(key) {\n",
              "          const element = document.querySelector('#df-6429e60e-5fc2-4768-a2b4-f69030486b6f');\n",
              "          const dataTable =\n",
              "            await google.colab.kernel.invokeFunction('convertToInteractive',\n",
              "                                                     [key], {});\n",
              "          if (!dataTable) return;\n",
              "\n",
              "          const docLinkHtml = 'Like what you see? Visit the ' +\n",
              "            '<a target=\"_blank\" href=https://colab.research.google.com/notebooks/data_table.ipynb>data table notebook</a>'\n",
              "            + ' to learn more about interactive tables.';\n",
              "          element.innerHTML = '';\n",
              "          dataTable['output_type'] = 'display_data';\n",
              "          await google.colab.output.renderOutput(dataTable, element);\n",
              "          const docLink = document.createElement('div');\n",
              "          docLink.innerHTML = docLinkHtml;\n",
              "          element.appendChild(docLink);\n",
              "        }\n",
              "      </script>\n",
              "    </div>\n",
              "  </div>\n",
              "  "
            ]
          },
          "metadata": {},
          "execution_count": 22
        }
      ]
    },
    {
      "cell_type": "markdown",
      "source": [
        "### dataset 만들기"
      ],
      "metadata": {
        "id": "88jAnxoUMpsJ"
      }
    },
    {
      "cell_type": "code",
      "source": [
        "X = {}\n",
        "Y = {}"
      ],
      "metadata": {
        "id": "V4squN4zMnph"
      },
      "execution_count": 23,
      "outputs": []
    },
    {
      "cell_type": "code",
      "source": [
        "# sampling data\n",
        "\n",
        "# df = df_accepted.sample(frac=0.8,random_state=42)\n",
        "# print(len(df))\n",
        "\n",
        "df = df_accepted[df_accepted['issue_d'].str.startswith('2007') + df_accepted['issue_d'].str.startswith('2008') + df_accepted['issue_d'].str.startswith('2009')].copy()\n",
        "df = df.drop(columns=['issue_d'])\n"
      ],
      "metadata": {
        "colab": {
          "base_uri": "https://localhost:8080/"
        },
        "id": "-XgRM0yLMtz7",
        "outputId": "222b2d30-851d-4d3b-e3f5-1146d9283260"
      },
      "execution_count": 24,
      "outputs": [
        {
          "output_type": "stream",
          "name": "stderr",
          "text": [
            "/usr/local/lib/python3.7/dist-packages/pandas/core/computation/expressions.py:215: UserWarning: evaluating in Python space because the '+' operator is not supported by numexpr for the bool dtype, use '|' instead\n",
            "  f\"evaluating in Python space because the {repr(op_str)} \"\n"
          ]
        }
      ]
    },
    {
      "cell_type": "code",
      "source": [
        "X[2009] = df.loc[:, df.columns != 'loan_paid'].values\n",
        "Y[2009] = df.loan_paid.values"
      ],
      "metadata": {
        "id": "9bRfAIU_Mx0u"
      },
      "execution_count": 25,
      "outputs": []
    },
    {
      "cell_type": "code",
      "source": [
        "for year in range(2010,2019):\n",
        "    print(year)\n",
        "    df = df_accepted[df_accepted['issue_d'].str.startswith(str(year))].copy()\n",
        "    df = df.drop(columns=['issue_d'])\n",
        "    X[year] = df.loc[:, df.columns != 'loan_paid'].values\n",
        "    Y[year] = df.loan_paid.values"
      ],
      "metadata": {
        "colab": {
          "base_uri": "https://localhost:8080/"
        },
        "id": "9ISfkOAIMz4N",
        "outputId": "a8abbbac-1d64-4679-ed17-35bf398284fe"
      },
      "execution_count": 26,
      "outputs": [
        {
          "output_type": "stream",
          "name": "stdout",
          "text": [
            "2010\n",
            "2011\n",
            "2012\n",
            "2013\n",
            "2014\n",
            "2015\n",
            "2016\n",
            "2017\n",
            "2018\n"
          ]
        }
      ]
    },
    {
      "cell_type": "code",
      "source": [
        "X[2010].shape"
      ],
      "metadata": {
        "colab": {
          "base_uri": "https://localhost:8080/"
        },
        "id": "aN_hvbEeM4TJ",
        "outputId": "cf6bfc29-b5ad-4740-9aaa-c6562ef472ff"
      },
      "execution_count": 27,
      "outputs": [
        {
          "output_type": "execute_result",
          "data": {
            "text/plain": [
              "(11497, 81)"
            ]
          },
          "metadata": {},
          "execution_count": 27
        }
      ]
    },
    {
      "cell_type": "code",
      "source": [
        "COLUMNS = df.loc[:, df.columns != 'loan_paid'].columns"
      ],
      "metadata": {
        "id": "9UBYo0HEBDr-"
      },
      "execution_count": 28,
      "outputs": []
    },
    {
      "cell_type": "code",
      "source": [
        "COLUMNS"
      ],
      "metadata": {
        "colab": {
          "base_uri": "https://localhost:8080/"
        },
        "id": "1H1cqfRtBL4I",
        "outputId": "dc21f71d-1e34-4522-a490-f020edce2328"
      },
      "execution_count": 29,
      "outputs": [
        {
          "output_type": "execute_result",
          "data": {
            "text/plain": [
              "Index(['loan_amnt', 'term', 'int_rate', 'annual_inc', 'dti', 'delinq_2yrs',\n",
              "       'fico_range_high', 'inq_last_6mths', 'open_acc', 'pub_rec', 'revol_bal',\n",
              "       'revol_util', 'total_acc', 'total_rec_int', 'total_rec_late_fee',\n",
              "       'recoveries', 'last_pymnt_amnt', 'last_fico_range_high',\n",
              "       'collections_12_mths_ex_med', 'acc_now_delinq',\n",
              "       'chargeoff_within_12_mths', 'delinq_amnt', 'pub_rec_bankruptcies',\n",
              "       'tax_liens', 'A2', 'A3', 'A4', 'A5', 'B1', 'B2', 'B3', 'B4', 'B5', 'C1',\n",
              "       'C2', 'C3', 'C4', 'C5', 'D1', 'D2', 'D3', 'D4', 'D5', 'E1', 'E2', 'E3',\n",
              "       'E4', 'E5', 'F1', 'F2', 'F3', 'F4', 'F5', 'G1', 'G2', 'G3', 'G4', 'G5',\n",
              "       'Source Verified', 'Verified', 'Joint App', 'w', 'credit_card',\n",
              "       'debt_consolidation', 'educational', 'home_improvement', 'house',\n",
              "       'major_purchase', 'medical', 'moving', 'other', 'renewable_energy',\n",
              "       'small_business', 'vacation', 'wedding', 'MORTGAGE', 'OTHER', 'OWN',\n",
              "       'RENT', 'DirectPay', 'Y'],\n",
              "      dtype='object')"
            ]
          },
          "metadata": {},
          "execution_count": 29
        }
      ]
    },
    {
      "cell_type": "markdown",
      "source": [
        "## 예측 모델 구축"
      ],
      "metadata": {
        "id": "wjmcjPU-NuDB"
      }
    },
    {
      "cell_type": "code",
      "source": [
        "ML = {}\n",
        "scaler = MinMaxScaler()"
      ],
      "metadata": {
        "id": "j1pTk3q7Xqca"
      },
      "execution_count": 30,
      "outputs": []
    },
    {
      "cell_type": "code",
      "source": [
        "MODEL_TYPE = 'RF'  ## RF / DL"
      ],
      "metadata": {
        "id": "IqnjFlMPX_KX"
      },
      "execution_count": 31,
      "outputs": []
    },
    {
      "cell_type": "markdown",
      "source": [
        "### random forest 모델"
      ],
      "metadata": {
        "id": "3OXxRO7DNFnp"
      }
    },
    {
      "cell_type": "code",
      "source": [
        "def get_one_hot(targets, nb_classes):\n",
        "    res = np.eye(nb_classes)[np.array(targets).reshape(-1)]\n",
        "    return res.reshape(list(targets.shape)+[nb_classes])"
      ],
      "metadata": {
        "id": "_aLKnDwtNL8s"
      },
      "execution_count": 32,
      "outputs": []
    },
    {
      "cell_type": "code",
      "source": [
        "from sklearn.ensemble import RandomForestClassifier\n",
        "\n",
        "def build_model_rf(year,x,y,epochs=5):\n",
        "    X_train= scaler.fit_transform(x)\n",
        "    y_train = y #get_one_hot(y,2)\n",
        "    model = RandomForestClassifier(n_estimators=80,max_depth=5)\n",
        "    model.fit(X_train,y_train)\n",
        "    return model"
      ],
      "metadata": {
        "id": "KJBtx9J2NQe4"
      },
      "execution_count": 33,
      "outputs": []
    },
    {
      "cell_type": "markdown",
      "source": [
        "### loan predict model build"
      ],
      "metadata": {
        "id": "nbRzLDsj9JdJ"
      }
    },
    {
      "cell_type": "code",
      "source": [
        "seed_everything()\n",
        "\n",
        "offset = int(Y[2010].shape[0] * 0.7)\n",
        "y_ref = Y[2010][0:offset]\n",
        "x_ref = X[2010][0:offset]\n",
        "y_inf = Y[2010][offset:]\n",
        "x_inf = X[2010][offset:]\n",
        "\n",
        "ML[2010] = build_model_rf(year,x_ref,y_ref,epochs=5)"
      ],
      "metadata": {
        "id": "PuNF88fd9Nfz"
      },
      "execution_count": 34,
      "outputs": []
    },
    {
      "cell_type": "code",
      "source": [
        "dd = np.zeros((4,4))\n",
        "# add intercept term\n",
        "intc = np.ones((dd.shape[0],1))\n",
        "dd = np.concatenate((dd,intc),axis=1)\n",
        "dd.shape"
      ],
      "metadata": {
        "colab": {
          "base_uri": "https://localhost:8080/"
        },
        "id": "kpFaXUWTqUKx",
        "outputId": "89be941e-659e-4be8-ef5c-eb5b0d810d4b"
      },
      "execution_count": 35,
      "outputs": [
        {
          "output_type": "execute_result",
          "data": {
            "text/plain": [
              "(4, 5)"
            ]
          },
          "metadata": {},
          "execution_count": 35
        }
      ]
    },
    {
      "cell_type": "code",
      "source": [
        "from sklearn.metrics import precision_recall_fscore_support\n",
        "\n",
        "base_score = precision_recall_fscore_support(y_inf, ML[2010].predict(scaler.transform(x_inf)),average='binary')\n",
        "base_score"
      ],
      "metadata": {
        "colab": {
          "base_uri": "https://localhost:8080/"
        },
        "id": "lPM598fvAo_4",
        "outputId": "5eee2d98-cae3-47b1-eb5d-23de980eea81"
      },
      "execution_count": 36,
      "outputs": [
        {
          "output_type": "execute_result",
          "data": {
            "text/plain": [
              "(0.9908045977011494, 1.0, 0.9953810623556583, None)"
            ]
          },
          "metadata": {},
          "execution_count": 36
        }
      ]
    },
    {
      "cell_type": "code",
      "source": [
        "x_inf.shape"
      ],
      "metadata": {
        "id": "v_eeF_qffQPa",
        "outputId": "71415e3d-3dc5-4920-e834-55812aec0241",
        "colab": {
          "base_uri": "https://localhost:8080/"
        }
      },
      "execution_count": 37,
      "outputs": [
        {
          "output_type": "execute_result",
          "data": {
            "text/plain": [
              "(3450, 81)"
            ]
          },
          "metadata": {},
          "execution_count": 37
        }
      ]
    },
    {
      "cell_type": "code",
      "source": [
        "x_ref.shape"
      ],
      "metadata": {
        "id": "rDMRDnXrfaym",
        "outputId": "2d2c21be-a6ab-4157-89f5-1864e85e72e5",
        "colab": {
          "base_uri": "https://localhost:8080/"
        }
      },
      "execution_count": 38,
      "outputs": [
        {
          "output_type": "execute_result",
          "data": {
            "text/plain": [
              "(8047, 81)"
            ]
          },
          "metadata": {},
          "execution_count": 38
        }
      ]
    },
    {
      "cell_type": "code",
      "source": [
        "y_hat = ML[2010].predict(scaler.transform(x_inf))"
      ],
      "metadata": {
        "id": "mqfiPkHIfF5S"
      },
      "execution_count": 39,
      "outputs": []
    },
    {
      "cell_type": "code",
      "source": [
        "y_inf"
      ],
      "metadata": {
        "id": "D-kvNRP0fiF5",
        "outputId": "f1a0fae3-6247-4c66-9262-d77ccad04e3c",
        "colab": {
          "base_uri": "https://localhost:8080/"
        }
      },
      "execution_count": 40,
      "outputs": [
        {
          "output_type": "execute_result",
          "data": {
            "text/plain": [
              "array([0, 1, 1, ..., 1, 1, 1])"
            ]
          },
          "metadata": {},
          "execution_count": 40
        }
      ]
    },
    {
      "cell_type": "code",
      "source": [
        "false_x = []\n",
        "true_x = []\n",
        "\n",
        "inx = 0\n",
        "for yt,yp in zip(y_inf,y_hat):\n",
        "    if yt == yp:\n",
        "        true_x.append(np.append(x_inf[inx],yt))\n",
        "    else:\n",
        "        false_x.append(np.append(x_inf[inx],yt))\n",
        "    inx = inx + 1\n",
        "\n",
        "true_x = np.asarray(true_x)\n",
        "false_x = np.asarray(false_x)\n"
      ],
      "metadata": {
        "id": "AMQdWTPYfowP"
      },
      "execution_count": 46,
      "outputs": []
    },
    {
      "cell_type": "code",
      "source": [
        "true_x.shape"
      ],
      "metadata": {
        "id": "xDwXHbGUgUvD",
        "outputId": "c3789490-b438-4f61-da49-aaeb1a869b42",
        "colab": {
          "base_uri": "https://localhost:8080/"
        }
      },
      "execution_count": 47,
      "outputs": [
        {
          "output_type": "execute_result",
          "data": {
            "text/plain": [
              "(3422, 82)"
            ]
          },
          "metadata": {},
          "execution_count": 47
        }
      ]
    },
    {
      "cell_type": "code",
      "source": [
        "false_x.shape"
      ],
      "metadata": {
        "id": "Oq8W7Fzsg7_b",
        "outputId": "71e19cb0-95a3-422a-af2d-517315118d75",
        "colab": {
          "base_uri": "https://localhost:8080/"
        }
      },
      "execution_count": 48,
      "outputs": [
        {
          "output_type": "execute_result",
          "data": {
            "text/plain": [
              "(28, 82)"
            ]
          },
          "metadata": {},
          "execution_count": 48
        }
      ]
    },
    {
      "cell_type": "code",
      "source": [
        "\n",
        "def __ks_2samp2(sample1, sample2):\n",
        "    # Gets all observations\n",
        "    sample1 = np.sort(sample1)\n",
        "    sample2 = np.sort(sample2)\n",
        "    n1 = sample1.shape[0]\n",
        "    n2 = sample2.shape[0]   \n",
        "    data_all = np.concatenate([sample1, sample2])\n",
        "    cdf1 = np.searchsorted(sample1, data_all, side='right') / n1\n",
        "    cdf2 = np.searchsorted(sample2, data_all, side='right') / n2\n",
        "    # Evaluates the KS statistic\n",
        "    cddiffs = cdf1 - cdf2\n",
        "    minS = -np.min(cddiffs)\n",
        "    maxS = np.max(cddiffs)\n",
        "    ks_stat =  max(minS, maxS)\n",
        "    \n",
        "    if ks_stat == minS:\n",
        "        ks_stat = -ks_stat\n",
        "    \n",
        "    # Calculates the P-Value based on the two-sided test\n",
        "    # The P-Value comes from the KS Distribution Survival Function (SF = 1-CDF)\n",
        "    m, n = float(n1), float(n2)\n",
        "    en = m * n / (m + n)\n",
        "    p_value = 0.0 #stats.kstwobign.sf(math.sqrt(en) * abs(ks_stat))\n",
        "    #p_value = stats.kstwobign.sf(en * abs(ks_stat))\n",
        "    return ks_stat,p_value\n",
        "\n",
        "def __ks_drift(ref_x,inf_x):\n",
        "    x_drift = np.zeros((ref_x.shape[1],2))\n",
        "    for i in range(ref_x.shape[1]):\n",
        "        #s, p = ks_2samp(ref_x[:,i],inf_x[:,i],mode='asymp')\n",
        "        s, p = __ks_2samp2(ref_x[:,i],inf_x[:,i])\n",
        "        x_drift[i,0] = s\n",
        "        x_drift[i,1] = p\n",
        "    return x_drift"
      ],
      "metadata": {
        "id": "vVdi2S4fgRVv"
      },
      "execution_count": 90,
      "outputs": []
    },
    {
      "cell_type": "code",
      "source": [
        "importances = ML[2010].feature_importances_\n",
        "importances = importances/sum(importances)\n",
        "\n",
        "l = []\n",
        "for x,(c,i) in enumerate(zip(COLUMNS,importances)):\n",
        "    l.append((c,i,x))\n",
        "l.sort(key = lambda x: x[1],reverse=True) \n",
        "\n",
        "top = 30\n",
        "\n",
        "toplist = [int(w) for w in np.asarray(l[0:top])[:,2]]\n",
        "\n",
        "toplist"
      ],
      "metadata": {
        "colab": {
          "base_uri": "https://localhost:8080/"
        },
        "id": "rKyYyOJRJYov",
        "outputId": "747ccafc-f5ef-4d9e-c242-0a0991b4fe4a"
      },
      "execution_count": 118,
      "outputs": [
        {
          "output_type": "execute_result",
          "data": {
            "text/plain": [
              "[15,\n",
              " 17,\n",
              " 16,\n",
              " 14,\n",
              " 2,\n",
              " 1,\n",
              " 80,\n",
              " 6,\n",
              " 13,\n",
              " 11,\n",
              " 3,\n",
              " 10,\n",
              " 12,\n",
              " 0,\n",
              " 7,\n",
              " 4,\n",
              " 9,\n",
              " 8,\n",
              " 72,\n",
              " 43,\n",
              " 55,\n",
              " 27,\n",
              " 39,\n",
              " 5,\n",
              " 66,\n",
              " 59,\n",
              " 62,\n",
              " 49,\n",
              " 40,\n",
              " 77]"
            ]
          },
          "metadata": {},
          "execution_count": 118
        }
      ]
    },
    {
      "cell_type": "code",
      "source": [
        "scores = []\n",
        "drifts = []\n",
        "epoch =1000\n",
        "\n",
        "for i in range(epoch):\n",
        "    tx = np.random.permutation(true_x)[0:np.random.randint(1,true_x.shape[0],1)[0]]\n",
        "    fx = false_x #np.random.permutation(false_x)[0:np.random.randint(1,false_x.shape[0],1)[0]]\n",
        "    ffx = np.concatenate((tx,fx))\n",
        "    np.random.shuffle(ffx)\n",
        "    tx = ffx[:,0:81]\n",
        "    ty = ffx[:,81]\n",
        "    base_score = precision_recall_fscore_support(ty, ML[2010].predict(scaler.transform(tx)),average='binary')\n",
        "    #x_ref2 = np.random.permutation(x_ref)[0:tx.shape[0]]\n",
        "    drift = __ks_drift(x_ref,tx)\n",
        "    scores.append(base_score[0])\n",
        "    drifts.append(drift[:,0])\n",
        "    print(f\"\\r{i+1}/{epoch} precision:{base_score[0]:.4f} drift:{drift[toplist[0],0]:.4f}\", end=\"\", flush=True)\n",
        "\n",
        "plt.hist(scores, bins = 100)\n",
        "plt.show()\n",
        "\n",
        "model = sm.OLS(scores, drifts).fit()\n",
        "print(model.summary())"
      ],
      "metadata": {
        "colab": {
          "base_uri": "https://localhost:8080/",
          "height": 1000
        },
        "id": "lJinflaV37wg",
        "outputId": "d9f3c052-3807-498b-9e70-f6699ddfdb72"
      },
      "execution_count": 200,
      "outputs": [
        {
          "output_type": "stream",
          "name": "stdout",
          "text": [
            "1000/1000 precision:0.9352 drift:0.0409"
          ]
        },
        {
          "output_type": "display_data",
          "data": {
            "text/plain": [
              "<Figure size 432x288 with 1 Axes>"
            ],
            "image/png": "[encoded data removed]"
          },
          "metadata": {
            "needs_background": "light"
          }
        },
        {
          "output_type": "stream",
          "name": "stdout",
          "text": [
            "                            OLS Regression Results                            \n",
            "==============================================================================\n",
            "Dep. Variable:                      y   R-squared:                       0.993\n",
            "Model:                            OLS   Adj. R-squared:                  0.992\n",
            "Method:                 Least Squares   F-statistic:                     1752.\n",
            "Date:                Tue, 08 Nov 2022   Prob (F-statistic):               0.00\n",
            "Time:                        13:38:38   Log-Likelihood:                 3394.9\n",
            "No. Observations:                1000   AIC:                            -6646.\n",
            "Df Residuals:                     928   BIC:                            -6293.\n",
            "Df Model:                          71                                         \n",
            "Covariance Type:            nonrobust                                         \n",
            "==============================================================================\n",
            "                 coef    std err          t      P>|t|      [0.025      0.975]\n",
            "------------------------------------------------------------------------------\n",
            "x1            -0.1517      0.023     -6.714      0.000      -0.196      -0.107\n",
            "x2             0.2668      0.027      9.940      0.000       0.214       0.320\n",
            "x3             0.0415      0.057      0.725      0.469      -0.071       0.154\n",
            "x4            -0.0807      0.019     -4.300      0.000      -0.118      -0.044\n",
            "x5            -0.0086      0.011     -0.776      0.438      -0.030       0.013\n",
            "x6            -0.0554      0.032     -1.748      0.081      -0.118       0.007\n",
            "x7             0.0039      0.023      0.168      0.867      -0.041       0.049\n",
            "x8             0.0240      0.018      1.320      0.187      -0.012       0.060\n",
            "x9             0.0086      0.014      0.604      0.546      -0.019       0.037\n",
            "x10            0.2361      0.098      2.414      0.016       0.044       0.428\n",
            "x11           -0.0189      0.026     -0.717      0.474      -0.071       0.033\n",
            "x12            0.0318      0.019      1.690      0.091      -0.005       0.069\n",
            "x13           -0.1226      0.026     -4.742      0.000      -0.173      -0.072\n",
            "x14            0.2310      0.029      7.970      0.000       0.174       0.288\n",
            "x15            0.2816      0.049      5.758      0.000       0.186       0.378\n",
            "x16           -0.9181      0.022    -41.443      0.000      -0.962      -0.875\n",
            "x17            0.0284      0.013      2.234      0.026       0.003       0.053\n",
            "x18           -0.0811      0.013     -6.451      0.000      -0.106      -0.056\n",
            "const       8.964e-11   1.48e-12     60.524      0.000    8.67e-11    9.25e-11\n",
            "x19        -7.289e-11   1.21e-12    -60.458      0.000   -7.53e-11   -7.05e-11\n",
            "x20        -2.244e-11    3.7e-13    -60.671      0.000   -2.32e-11   -2.17e-11\n",
            "x21        -3.158e-11   5.21e-13    -60.613      0.000   -3.26e-11   -3.06e-11\n",
            "x22           -0.1441      0.109     -1.324      0.186      -0.358       0.070\n",
            "x23         9.121e-11   1.51e-12     60.487      0.000    8.82e-11    9.42e-11\n",
            "x24            0.0143      0.093      0.154      0.877      -0.168       0.196\n",
            "x25           -0.0993      0.089     -1.110      0.267      -0.275       0.076\n",
            "x26           -0.1743      0.082     -2.122      0.034      -0.335      -0.013\n",
            "x27           -0.3831      0.087     -4.419      0.000      -0.553      -0.213\n",
            "x28           -0.2721      0.099     -2.744      0.006      -0.467      -0.077\n",
            "x29           -0.2103      0.095     -2.212      0.027      -0.397      -0.024\n",
            "x30           -0.3001      0.094     -3.186      0.001      -0.485      -0.115\n",
            "x31           -0.4442      0.090     -4.953      0.000      -0.620      -0.268\n",
            "x32           -0.3455      0.094     -3.663      0.000      -0.531      -0.160\n",
            "x33           -0.4605      0.112     -4.100      0.000      -0.681      -0.240\n",
            "x34           -0.7030      0.121     -5.803      0.000      -0.941      -0.465\n",
            "x35           -0.3921      0.117     -3.337      0.001      -0.623      -0.162\n",
            "x36           -0.2858      0.118     -2.423      0.016      -0.517      -0.054\n",
            "x37           -0.5329      0.129     -4.116      0.000      -0.787      -0.279\n",
            "x38           -0.5265      0.137     -3.833      0.000      -0.796      -0.257\n",
            "x39           -0.5697      0.127     -4.492      0.000      -0.819      -0.321\n",
            "x40           -0.2014      0.132     -1.522      0.128      -0.461       0.058\n",
            "x41           -0.2904      0.129     -2.255      0.024      -0.543      -0.038\n",
            "x42           -0.5212      0.141     -3.700      0.000      -0.798      -0.245\n",
            "x43           -0.8062      0.138     -5.826      0.000      -1.078      -0.535\n",
            "x44           -0.3296      0.141     -2.339      0.020      -0.606      -0.053\n",
            "x45           -0.5261      0.145     -3.628      0.000      -0.811      -0.241\n",
            "x46           -0.2897      0.153     -1.890      0.059      -0.590       0.011\n",
            "x47           -0.1037      0.170     -0.608      0.543      -0.438       0.231\n",
            "x48           -0.3269      0.166     -1.967      0.050      -0.653      -0.001\n",
            "x49           -0.8094      0.160     -5.062      0.000      -1.123      -0.496\n",
            "x50           -0.3632      0.183     -1.980      0.048      -0.723      -0.003\n",
            "x51           -0.7508      0.269     -2.794      0.005      -1.278      -0.223\n",
            "x52           -0.3805      0.232     -1.641      0.101      -0.836       0.074\n",
            "x53           -0.6878      0.224     -3.067      0.002      -1.128      -0.248\n",
            "x54            0.3972      0.232      1.709      0.088      -0.059       0.853\n",
            "x55           -0.7563      0.263     -2.876      0.004      -1.272      -0.240\n",
            "x56           -0.0359      0.221     -0.163      0.871      -0.469       0.397\n",
            "x57            0.0320      0.361      0.089      0.929      -0.676       0.740\n",
            "x58            0.0145      0.028      0.521      0.602      -0.040       0.069\n",
            "x59            0.0480      0.030      1.618      0.106      -0.010       0.106\n",
            "x60        -3.216e-11   5.32e-13    -60.497      0.000   -3.32e-11   -3.11e-11\n",
            "x61        -7.245e-11    1.2e-12    -60.495      0.000   -7.48e-11   -7.01e-11\n",
            "x62            0.0064      0.055      0.116      0.908      -0.102       0.114\n",
            "x63            0.0915      0.051      1.798      0.072      -0.008       0.191\n",
            "x64            0.5413      0.637      0.850      0.396      -0.709       1.791\n",
            "x65            0.0885      0.065      1.366      0.172      -0.039       0.216\n",
            "x66            0.4984      0.136      3.659      0.000       0.231       0.766\n",
            "x67            0.1385      0.067      2.062      0.039       0.007       0.270\n",
            "x68            0.0101      0.085      0.119      0.906      -0.157       0.177\n",
            "x69            0.2264      0.098      2.304      0.021       0.034       0.419\n",
            "x70            0.1836      0.061      2.988      0.003       0.063       0.304\n",
            "x71            0.4670      0.163      2.863      0.004       0.147       0.787\n",
            "x72            0.2494      0.075      3.313      0.001       0.102       0.397\n",
            "x73            0.1367      0.104      1.309      0.191      -0.068       0.342\n",
            "x74            0.0211      0.084      0.250      0.803      -0.144       0.186\n",
            "x75          983.7594     16.260     60.502      0.000     951.849    1015.670\n",
            "x76        -2951.1568     48.780    -60.500      0.000   -3046.888   -2855.426\n",
            "x77          983.6755     16.260     60.495      0.000     951.764    1015.587\n",
            "x78          983.7218     16.259     60.502      0.000     951.813    1015.631\n",
            "x79                 0          0        nan        nan           0           0\n",
            "x80           -0.1482      0.187     -0.791      0.429      -0.516       0.219\n",
            "==============================================================================\n",
            "Omnibus:                      313.841   Durbin-Watson:                   2.039\n",
            "Prob(Omnibus):                  0.000   Jarque-Bera (JB):             1339.827\n",
            "Skew:                          -1.420   Prob(JB):                    1.15e-291\n",
            "Kurtosis:                       7.909   Cond. No.                     1.09e+16\n",
            "==============================================================================\n",
            "\n",
            "Notes:\n",
            "[1] Standard Errors assume that the covariance matrix of the errors is correctly specified.\n",
            "[2] The smallest eigenvalue is 1.09e-30. This might indicate that there are\n",
            "strong multicollinearity problems or that the design matrix is singular.\n"
          ]
        }
      ]
    },
    {
      "cell_type": "markdown",
      "source": [
        "## loan predict model의 성능 예측 실험"
      ],
      "metadata": {
        "id": "AkbWI6nhR6Pg"
      }
    },
    {
      "cell_type": "code",
      "source": [
        "# 2010년의 data를 기준으로 그 이후의 data 들...\n",
        "X2 = np.concatenate((X[2011],X[2012],X[2013],X[2014],X[2015],X[2016],X[2017]))\n",
        "Y2 = np.concatenate((Y[2011],Y[2012],Y[2013],Y[2014],Y[2015],Y[2016],Y[2017]))"
      ],
      "metadata": {
        "id": "4zDqjncNbJ2C"
      },
      "execution_count": 44,
      "outputs": []
    },
    {
      "cell_type": "code",
      "source": [
        "print(\"trainset:\",X[2010].shape)\n",
        "print(\"online dataset:\",X2.shape)"
      ],
      "metadata": {
        "colab": {
          "base_uri": "https://localhost:8080/"
        },
        "id": "QYD0NtqWMLFC",
        "outputId": "4ff6cedc-acc3-4607-c43d-18c6af1b05bc"
      },
      "execution_count": 45,
      "outputs": [
        {
          "output_type": "stream",
          "name": "stdout",
          "text": [
            "trainset: (11497, 81)\n",
            "online dataset: (1268183, 81)\n"
          ]
        }
      ]
    },
    {
      "cell_type": "code",
      "source": [
        "result = {}\n",
        "result['precision'] = []\n",
        "result['predicted'] = []\n",
        "window_size = 8000\n",
        "step = 4000\n",
        "predicted = 0\n",
        "batch = math.ceil((X2.shape[0]-window_size)/step)\n",
        "for i in range(batch):\n",
        "    ux = X2[i*step:i*step+window_size]\n",
        "    uy = Y2[i*step:i*step+window_size]\n",
        "    if scaler is not None:\n",
        "        f1 = precision_recall_fscore_support(uy, ML[2010].predict(scaler.transform(ux)),average='binary')\n",
        "    else:\n",
        "        f1 = precision_recall_fscore_support(uy, ML[2010].predict(ux),average='binary')\n",
        "\n",
        "    drift = __ks_drift(x_ref,ux)\n",
        "    precision = f1[0]\n",
        "    predicted1 = model.predict(drift[:,0])[0]\n",
        "    if abs(predicted1-predicted) > 0.1 and predicted > 0:\n",
        "        predicted1 = predicted\n",
        "    result['precision'].append(precision)\n",
        "    result['predicted'].append(predicted1)\n",
        "    print(f\"\\r{i+1}/{batch} precision:{precision:.4f} predicted:{predicted1:.4f}\", end=\"\", flush=True)\n",
        "    predicted = predicted1"
      ],
      "metadata": {
        "colab": {
          "base_uri": "https://localhost:8080/"
        },
        "id": "j4iF4AiZC5a5",
        "outputId": "7fc7feea-1061-487d-9ae3-1182839c7ae9"
      },
      "execution_count": 201,
      "outputs": [
        {
          "output_type": "stream",
          "name": "stdout",
          "text": [
            "316/316 precision:0.8699 predicted:0.8583"
          ]
        }
      ]
    },
    {
      "cell_type": "code",
      "source": [
        "result_df = pd.DataFrame(result)"
      ],
      "metadata": {
        "id": "ekhqwRdYExrs"
      },
      "execution_count": 202,
      "outputs": []
    },
    {
      "cell_type": "code",
      "source": [
        "result_df.plot()"
      ],
      "metadata": {
        "colab": {
          "base_uri": "https://localhost:8080/",
          "height": 283
        },
        "id": "zgMG7oiHL259",
        "outputId": "dbfceb1e-cdaa-47f7-a9e8-05f2b76fcb8a"
      },
      "execution_count": 203,
      "outputs": [
        {
          "output_type": "execute_result",
          "data": {
            "text/plain": [
              "<matplotlib.axes._subplots.AxesSubplot at 0x7f99f85c1e50>"
            ]
          },
          "metadata": {},
          "execution_count": 203
        },
        {
          "output_type": "display_data",
          "data": {
            "text/plain": [
              "<Figure size 432x288 with 1 Axes>"
            ],
            "image/png": "[encoded data removed]"
          },
          "metadata": {
            "needs_background": "light"
          }
        }
      ]
    },
    {
      "cell_type": "code",
      "source": [
        "result_df[20:250].plot()"
      ],
      "metadata": {
        "colab": {
          "base_uri": "https://localhost:8080/",
          "height": 283
        },
        "id": "NuBXsZfGE5lr",
        "outputId": "f9fffb02-5c1c-49ed-c9a4-61abb2e90ae5"
      },
      "execution_count": 204,
      "outputs": [
        {
          "output_type": "execute_result",
          "data": {
            "text/plain": [
              "<matplotlib.axes._subplots.AxesSubplot at 0x7f99f86f1610>"
            ]
          },
          "metadata": {},
          "execution_count": 204
        },
        {
          "output_type": "display_data",
          "data": {
            "text/plain": [
              "<Figure size 432x288 with 1 Axes>"
            ],
            "image/png": "[encoded data removed]"
          },
          "metadata": {
            "needs_background": "light"
          }
        }
      ]
    },
    {
      "cell_type": "markdown",
      "source": [
        "### Error chart"
      ],
      "metadata": {
        "id": "zY8SezNGCRbW"
      }
    },
    {
      "cell_type": "code",
      "source": [
        "error_df = pd.DataFrame(erdic)\n",
        "error_df[['Exp#1.5','Exp#1.10','Exp#1.18']].plot(legend=True, figsize=(8,8))\n",
        "#error_df.plot(legend=True, figsize=(20,5))"
      ],
      "metadata": {
        "colab": {
          "base_uri": "https://localhost:8080/",
          "height": 501
        },
        "id": "RCci5tO1CUAR",
        "outputId": "f567bff9-cc65-4a2a-8979-9e0dd1944153"
      },
      "execution_count": null,
      "outputs": [
        {
          "output_type": "execute_result",
          "data": {
            "text/plain": [
              "<matplotlib.axes._subplots.AxesSubplot at 0x7f332416ca90>"
            ]
          },
          "metadata": {},
          "execution_count": 59
        },
        {
          "output_type": "display_data",
          "data": {
            "text/plain": [
              "<Figure size 576x576 with 1 Axes>"
            ],
            "image/png": "[encoded data removed]"
          },
          "metadata": {
            "needs_background": "light"
          }
        }
      ]
    },
    {
      "cell_type": "markdown",
      "source": [
        "# 8. Credit card transactions 실험\n",
        "\n",
        "\n",
        "https://www.kaggle.com/datasets/ealtman2019/credit-card-transactions\n",
        "\n",
        "https://www.kaggle.com/code/vadimabronin/notebookd76fc110c7"
      ],
      "metadata": {
        "id": "fUzyeLFy7JQ5"
      }
    },
    {
      "cell_type": "code",
      "source": [
        "from google.colab import files\n",
        "\n",
        "uploaded = files.upload()\n",
        "\n",
        "for fn in uploaded.keys():\n",
        "  print('User uploaded file \"{name}\" with length {length} bytes'.format(\n",
        "      name=fn, length=len(uploaded[fn])))\n",
        "  \n",
        "# Then move kaggle.json into the folder where the API expects to find it.\n",
        "!mkdir -p ~/.kaggle/ && mv kaggle.json ~/.kaggle/ && chmod 600 ~/.kaggle/kaggle.json"
      ],
      "metadata": {
        "id": "IAm4WpBm8bVM",
        "colab": {
          "resources": {
            "http://localhost:8080/nbextensions/google.colab/files.js": {
              "data": "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",
              "ok": true,
              "headers": [
                [
                  "content-type",
                  "application/javascript"
                ]
              ],
              "status": 200,
              "status_text": ""
            }
          },
          "base_uri": "https://localhost:8080/",
          "height": 95
        },
        "outputId": "412002e0-ff05-4ac4-cd2d-760da1c72cdd"
      },
      "execution_count": null,
      "outputs": [
        {
          "output_type": "display_data",
          "data": {
            "text/plain": [
              "<IPython.core.display.HTML object>"
            ],
            "text/html": [
              "\n",
              "     <input type=\"file\" id=\"files-c9bd6640-eda1-45fc-beec-a2907b0ead82\" name=\"files[]\" multiple disabled\n",
              "        style=\"border:none\" />\n",
              "     <output id=\"result-c9bd6640-eda1-45fc-beec-a2907b0ead82\">\n",
              "      Upload widget is only available when the cell has been executed in the\n",
              "      current browser session. Please rerun this cell to enable.\n",
              "      </output>\n",
              "      <script src=\"/nbextensions/google.colab/files.js\"></script> "
            ]
          },
          "metadata": {}
        },
        {
          "output_type": "stream",
          "name": "stdout",
          "text": [
            "Saving kaggle.json to kaggle.json\n",
            "User uploaded file \"kaggle.json\" with length 66 bytes\n"
          ]
        }
      ]
    },
    {
      "cell_type": "markdown",
      "source": [
        "## 데이터 구축"
      ],
      "metadata": {
        "id": "PQUydYltWq5u"
      }
    },
    {
      "cell_type": "code",
      "source": [
        "!kaggle datasets download \"ealtman2019/credit-card-transactions\""
      ],
      "metadata": {
        "colab": {
          "base_uri": "https://localhost:8080/"
        },
        "id": "G7RiVTOldu5Q",
        "outputId": "1a0cf88b-d927-4977-a0a0-def02ede7d92"
      },
      "execution_count": null,
      "outputs": [
        {
          "output_type": "stream",
          "name": "stdout",
          "text": [
            "Downloading credit-card-transactions.zip to /content\n",
            " 99% 261M/263M [00:02<00:00, 102MB/s]\n",
            "100% 263M/263M [00:02<00:00, 129MB/s]\n"
          ]
        }
      ]
    },
    {
      "cell_type": "code",
      "source": [
        "!unzip credit-card-transactions.zip"
      ],
      "metadata": {
        "colab": {
          "base_uri": "https://localhost:8080/"
        },
        "id": "eXCbtZSAd2Sc",
        "outputId": "9ee4cf4e-74e9-4b8d-ad35-8464c1306923"
      },
      "execution_count": null,
      "outputs": [
        {
          "output_type": "stream",
          "name": "stdout",
          "text": [
            "Archive:  credit-card-transactions.zip\n",
            "  inflating: User0_credit_card_transactions.csv  \n",
            "  inflating: credit_card_transactions-ibm_v2.csv  \n",
            "  inflating: sd254_cards.csv         \n",
            "  inflating: sd254_users.csv         \n"
          ]
        }
      ]
    },
    {
      "cell_type": "code",
      "source": [
        "df = pd.read_csv(\"credit_card_transactions-ibm_v2.csv\")"
      ],
      "metadata": {
        "id": "zZQUG9bSd4UO"
      },
      "execution_count": null,
      "outputs": []
    },
    {
      "cell_type": "code",
      "source": [
        "df['Year'].value_counts()"
      ],
      "metadata": {
        "colab": {
          "base_uri": "https://localhost:8080/"
        },
        "id": "ZPg9M-Xqd8pb",
        "outputId": "b5f9e3fb-8e63-41b0-802b-bbc6f833897c"
      },
      "execution_count": null,
      "outputs": [
        {
          "output_type": "execute_result",
          "data": {
            "text/plain": [
              "2019    1723938\n",
              "2017    1723360\n",
              "2018    1721615\n",
              "2016    1708924\n",
              "2015    1701371\n",
              "2014    1672343\n",
              "2013    1650917\n",
              "2012    1610829\n",
              "2011    1570551\n",
              "2010    1491225\n",
              "2009    1355434\n",
              "2008    1223460\n",
              "2007    1064483\n",
              "2006     908793\n",
              "2005     746653\n",
              "2004     597003\n",
              "2003     466408\n",
              "2002     350732\n",
              "2020     336500\n",
              "2001     257998\n",
              "2000     177729\n",
              "1999     118250\n",
              "1998      78345\n",
              "1997      49753\n",
              "1996      29945\n",
              "1995      20928\n",
              "1994      14316\n",
              "1993       8378\n",
              "1992       5134\n",
              "1991       1585\n",
              "Name: Year, dtype: int64"
            ]
          },
          "metadata": {},
          "execution_count": 64
        }
      ]
    },
    {
      "cell_type": "markdown",
      "source": [
        "### 데이터 정체 (1/30 로 축소)"
      ],
      "metadata": {
        "id": "g7rO5MJ3MdqM"
      }
    },
    {
      "cell_type": "code",
      "source": [
        "import numpy as np \n",
        "import pandas as pd \n",
        "import os\n",
        "import lightgbm as lgb\n",
        "from sklearn.model_selection import train_test_split\n",
        "from sklearn.metrics import classification_report\n",
        "\n",
        "seed_everything()"
      ],
      "metadata": {
        "id": "oupPi2-Pd-oS"
      },
      "execution_count": null,
      "outputs": []
    },
    {
      "cell_type": "code",
      "source": [
        "df['Is Fraud?']=df['Is Fraud?'].replace({'No':0,'Yes':1}) "
      ],
      "metadata": {
        "id": "k6UR_jP0d_Uj"
      },
      "execution_count": null,
      "outputs": []
    },
    {
      "cell_type": "code",
      "source": [
        "df1 = df[df['Is Fraud?']==1]\n",
        "df2 = df[df['Is Fraud?']==0]\n",
        "df3 = df2.sample(int(df2.shape[0]/30))\n",
        "df4 = pd.concat([df1,df3])\n",
        "\n",
        "print(\"Compression rate:\",df4.shape[0] / df.shape[0] )\n",
        "\n",
        "df = df4"
      ],
      "metadata": {
        "colab": {
          "base_uri": "https://localhost:8080/"
        },
        "id": "WqGUHxlVMmMb",
        "outputId": "e43c6dd9-1a55-4e8f-b146-4fedbb077db5"
      },
      "execution_count": null,
      "outputs": [
        {
          "output_type": "stream",
          "name": "stdout",
          "text": [
            "Compression rate: 0.034512832709364456\n"
          ]
        }
      ]
    },
    {
      "cell_type": "markdown",
      "source": [
        "### 기타 등등 전처리"
      ],
      "metadata": {
        "id": "efaqfh_-MtIZ"
      }
    },
    {
      "cell_type": "code",
      "source": [
        "df['Errors?']=df['Errors?'].fillna('NAN')\n",
        "df['Errors?']=df['Errors?'].apply(lambda value:value=='NAN')\n",
        "df['Errors?'].value_counts()"
      ],
      "metadata": {
        "colab": {
          "base_uri": "https://localhost:8080/"
        },
        "id": "eXVL_qaZeA_9",
        "outputId": "a21dae0e-fb49-4229-bd93-637a3d0f66a0"
      },
      "execution_count": null,
      "outputs": [
        {
          "output_type": "execute_result",
          "data": {
            "text/plain": [
              "True     827624\n",
              "False     14037\n",
              "Name: Errors?, dtype: int64"
            ]
          },
          "metadata": {},
          "execution_count": 68
        }
      ]
    },
    {
      "cell_type": "code",
      "source": [
        "df['Use Chip'].unique()\n",
        "df['is online']=df['Use Chip'].apply(lambda value:value=='Online Transaction')"
      ],
      "metadata": {
        "id": "qeI5dtpzeC8_"
      },
      "execution_count": null,
      "outputs": []
    },
    {
      "cell_type": "code",
      "source": [
        "\n",
        "from sklearn.preprocessing import LabelEncoder\n",
        "df['Use Chip']=df['Use Chip'].replace({'Swipe Transaction':0, 'Online Transaction':1, 'Chip Transaction':2})\n",
        "df['Zip'] = df['Zip'].fillna(df['Zip'].mean())  \n",
        "df['Amount'] = df['Amount'].apply(lambda value: float(value.split(\"$\")[1]))\n",
        "df['Hour'] = df['Time'].apply(lambda value: int(value.split(\":\")[0]))\n",
        "df['Minutes'] = df['Time'].apply(lambda value: int(value.split(\":\")[1]))\n",
        "df.drop(['Time'], axis=1, inplace=True)     \n",
        "df['Merchant State']=df['Merchant State'].fillna('NAN')    \n",
        "df['Merchant City']=df['Merchant City'].fillna('NAN') \n",
        "df['is vozmes']=df['Amount'].apply(lambda value: value<0)  \n",
        "df['abs_amount']=df['Amount'].apply(lambda value: abs(value))"
      ],
      "metadata": {
        "id": "Ahy50SKfeEus"
      },
      "execution_count": null,
      "outputs": []
    },
    {
      "cell_type": "code",
      "source": [
        "#encoding categorial features\n",
        "le=LabelEncoder() \n",
        "df['Merchant State']=le.fit_transform(df['Merchant State'])\n",
        "le=LabelEncoder()\n",
        "df['Merchant City']=le.fit_transform(df['Merchant City'])\n",
        "le=LabelEncoder()\n",
        "df['Errors?']=le.fit_transform(df['Errors?'])\n",
        "le=LabelEncoder()\n",
        "df['is online']=le.fit_transform(df['is online'])\n",
        "le=LabelEncoder()\n",
        "df['is vozmes']=le.fit_transform(df['is vozmes'])"
      ],
      "metadata": {
        "id": "C9sQKM1ZeGmN"
      },
      "execution_count": null,
      "outputs": []
    },
    {
      "cell_type": "code",
      "source": [
        "df = df.sort_values(['Year','Month','Day'])"
      ],
      "metadata": {
        "id": "vDqBmdMieJrZ"
      },
      "execution_count": null,
      "outputs": []
    },
    {
      "cell_type": "code",
      "source": [
        "df.Year.value_counts()"
      ],
      "metadata": {
        "colab": {
          "base_uri": "https://localhost:8080/"
        },
        "id": "Q9i5CgEwtTKu",
        "outputId": "d7f870b0-85c0-4a56-8e3f-eda69f0d1fe1"
      },
      "execution_count": null,
      "outputs": [
        {
          "output_type": "execute_result",
          "data": {
            "text/plain": [
              "2016    60726\n",
              "2018    60155\n",
              "2015    59749\n",
              "2019    59311\n",
              "2017    57298\n",
              "2014    56896\n",
              "2013    56777\n",
              "2012    55201\n",
              "2010    53148\n",
              "2011    52492\n",
              "2009    46303\n",
              "2008    44533\n",
              "2007    37301\n",
              "2006    31605\n",
              "2005    25058\n",
              "2004    20495\n",
              "2003    15674\n",
              "2002    11824\n",
              "2020    11342\n",
              "2001     9012\n",
              "2000     6057\n",
              "1999     3811\n",
              "1998     2641\n",
              "1997     1679\n",
              "1996      920\n",
              "1995      683\n",
              "1994      461\n",
              "1993      285\n",
              "1992      159\n",
              "1991       65\n",
              "Name: Year, dtype: int64"
            ]
          },
          "metadata": {},
          "execution_count": 73
        }
      ]
    },
    {
      "cell_type": "markdown",
      "source": [
        "### dataset 만들기"
      ],
      "metadata": {
        "id": "aagnKwa_XFSQ"
      }
    },
    {
      "cell_type": "code",
      "source": [
        "drop_columns = ['Is Fraud?','Zip','Year','Month','Day','Minutes','User','Errors?','Merchant Name','Merchant City','Merchant State']\n",
        "X = df[df['Year']==2007].drop(drop_columns,axis=1)\n",
        "y = df[df['Year']==2007]['Is Fraud?']"
      ],
      "metadata": {
        "id": "zaMkuT79eKUr"
      },
      "execution_count": null,
      "outputs": []
    },
    {
      "cell_type": "code",
      "source": [
        "X.info()"
      ],
      "metadata": {
        "colab": {
          "base_uri": "https://localhost:8080/"
        },
        "id": "AIN8Gx9WqnNb",
        "outputId": "bf1ceea2-b7e7-4944-f718-ac54f73e907d"
      },
      "execution_count": null,
      "outputs": [
        {
          "output_type": "stream",
          "name": "stdout",
          "text": [
            "<class 'pandas.core.frame.DataFrame'>\n",
            "Int64Index: 37301 entries, 19831724 to 16154702\n",
            "Data columns (total 8 columns):\n",
            " #   Column      Non-Null Count  Dtype  \n",
            "---  ------      --------------  -----  \n",
            " 0   Card        37301 non-null  int64  \n",
            " 1   Amount      37301 non-null  float64\n",
            " 2   Use Chip    37301 non-null  int64  \n",
            " 3   MCC         37301 non-null  int64  \n",
            " 4   is online   37301 non-null  int64  \n",
            " 5   Hour        37301 non-null  int64  \n",
            " 6   is vozmes   37301 non-null  int64  \n",
            " 7   abs_amount  37301 non-null  float64\n",
            "dtypes: float64(2), int64(6)\n",
            "memory usage: 2.6 MB\n"
          ]
        }
      ]
    },
    {
      "cell_type": "markdown",
      "source": [
        "이러한 데이터는 시계열 데이터는 아니지만, 시간적 특성을 포함하는 데이터로서\n",
        "testset을 나눌때 shuffle 없이 7:3으로 나눈다."
      ],
      "metadata": {
        "id": "H2XlDUFsCLlv"
      }
    },
    {
      "cell_type": "code",
      "source": [
        "X.shape"
      ],
      "metadata": {
        "id": "7uxnupe-ApDo",
        "outputId": "d6f17204-4240-42d7-ce75-2c821f9021e6",
        "colab": {
          "base_uri": "https://localhost:8080/"
        }
      },
      "execution_count": null,
      "outputs": [
        {
          "output_type": "execute_result",
          "data": {
            "text/plain": [
              "(37301, 8)"
            ]
          },
          "metadata": {},
          "execution_count": 76
        }
      ]
    },
    {
      "cell_type": "code",
      "source": [
        "offset = int(y.values.shape[0] * 0.7)\n",
        "y_ref = y.values[0:offset]\n",
        "x_ref = X.values[0:offset]\n",
        "y_inf = y.values[offset:]\n",
        "x_inf = X.values[offset:]"
      ],
      "metadata": {
        "id": "FrC_LQwrBAwe"
      },
      "execution_count": null,
      "outputs": []
    },
    {
      "cell_type": "code",
      "source": [
        "x_ref.shape[0] + x_inf.shape[0]"
      ],
      "metadata": {
        "id": "JU6wf9M3fyVl",
        "outputId": "35e63b0d-adb7-46ad-f3ae-2ba1d64e2601",
        "colab": {
          "base_uri": "https://localhost:8080/"
        }
      },
      "execution_count": null,
      "outputs": [
        {
          "output_type": "execute_result",
          "data": {
            "text/plain": [
              "37301"
            ]
          },
          "metadata": {},
          "execution_count": 78
        }
      ]
    },
    {
      "cell_type": "markdown",
      "source": [
        "## 예측모델 구축"
      ],
      "metadata": {
        "id": "w5ntF3PsXSI7"
      }
    },
    {
      "cell_type": "markdown",
      "source": [
        "### Catboost 모델 "
      ],
      "metadata": {
        "id": "hEjCG4WYXiSu"
      }
    },
    {
      "cell_type": "code",
      "source": [
        "!pip install catboost"
      ],
      "metadata": {
        "colab": {
          "base_uri": "https://localhost:8080/"
        },
        "id": "B7CqCtJTeeWt",
        "outputId": "69819295-fcea-4cb4-87d4-73cfd7875e7a"
      },
      "execution_count": null,
      "outputs": [
        {
          "output_type": "stream",
          "name": "stdout",
          "text": [
            "Looking in indexes: https://pypi.org/simple, https://us-python.pkg.dev/colab-wheels/public/simple/\n",
            "Collecting catboost\n",
            "  Downloading catboost-1.0.6-cp37-none-manylinux1_x86_64.whl (76.6 MB)\n",
            "\u001b[K     |████████████████████████████████| 76.6 MB 1.3 MB/s \n",
            "\u001b[?25hRequirement already satisfied: numpy>=1.16.0 in /usr/local/lib/python3.7/dist-packages (from catboost) (1.21.6)\n",
            "Requirement already satisfied: graphviz in /usr/local/lib/python3.7/dist-packages (from catboost) (0.10.1)\n",
            "Requirement already satisfied: six in /usr/local/lib/python3.7/dist-packages (from catboost) (1.15.0)\n",
            "Requirement already satisfied: matplotlib in /usr/local/lib/python3.7/dist-packages (from catboost) (3.2.2)\n",
            "Requirement already satisfied: pandas>=0.24.0 in /usr/local/lib/python3.7/dist-packages (from catboost) (1.3.5)\n",
            "Requirement already satisfied: plotly in /usr/local/lib/python3.7/dist-packages (from catboost) (5.5.0)\n",
            "Requirement already satisfied: scipy in /usr/local/lib/python3.7/dist-packages (from catboost) (1.7.3)\n",
            "Requirement already satisfied: python-dateutil>=2.7.3 in /usr/local/lib/python3.7/dist-packages (from pandas>=0.24.0->catboost) (2.8.2)\n",
            "Requirement already satisfied: pytz>=2017.3 in /usr/local/lib/python3.7/dist-packages (from pandas>=0.24.0->catboost) (2022.2.1)\n",
            "Requirement already satisfied: cycler>=0.10 in /usr/local/lib/python3.7/dist-packages (from matplotlib->catboost) (0.11.0)\n",
            "Requirement already satisfied: pyparsing!=2.0.4,!=2.1.2,!=2.1.6,>=2.0.1 in /usr/local/lib/python3.7/dist-packages (from matplotlib->catboost) (3.0.9)\n",
            "Requirement already satisfied: kiwisolver>=1.0.1 in /usr/local/lib/python3.7/dist-packages (from matplotlib->catboost) (1.4.4)\n",
            "Requirement already satisfied: typing-extensions in /usr/local/lib/python3.7/dist-packages (from kiwisolver>=1.0.1->matplotlib->catboost) (4.1.1)\n",
            "Requirement already satisfied: tenacity>=6.2.0 in /usr/local/lib/python3.7/dist-packages (from plotly->catboost) (8.0.1)\n",
            "Installing collected packages: catboost\n",
            "Successfully installed catboost-1.0.6\n"
          ]
        }
      ]
    },
    {
      "cell_type": "markdown",
      "source": [
        "### Credit card fraud transaction detect model build"
      ],
      "metadata": {
        "id": "ij5BDSs0X3uP"
      }
    },
    {
      "cell_type": "code",
      "source": [
        "#cat boost classifier\n",
        "\n",
        "from catboost import CatBoostClassifier\n",
        "\n",
        "seed_everything()\n",
        "\n",
        "cat = CatBoostClassifier()\n",
        "cat.fit(x_ref, y_ref,plot=False) \n",
        "y_pred=cat.predict(x_inf)\n",
        "print(classification_report(y_inf, y_pred))  "
      ],
      "metadata": {
        "colab": {
          "base_uri": "https://localhost:8080/"
        },
        "id": "hjSk2vzQeewx",
        "outputId": "42cee346-de1f-49a3-8595-d8ee8c3d5335"
      },
      "execution_count": null,
      "outputs": [
        {
          "output_type": "stream",
          "name": "stdout",
          "text": [
            "Learning rate set to 0.041487\n",
            "0:\tlearn: 0.6216151\ttotal: 53.9ms\tremaining: 53.9s\n",
            "1:\tlearn: 0.5551103\ttotal: 61.6ms\tremaining: 30.7s\n",
            "2:\tlearn: 0.4986417\ttotal: 68.9ms\tremaining: 22.9s\n",
            "3:\tlearn: 0.4565464\ttotal: 76.6ms\tremaining: 19.1s\n",
            "4:\tlearn: 0.4136850\ttotal: 88.1ms\tremaining: 17.5s\n",
            "5:\tlearn: 0.3820252\ttotal: 94.2ms\tremaining: 15.6s\n",
            "6:\tlearn: 0.3484819\ttotal: 100ms\tremaining: 14.2s\n",
            "7:\tlearn: 0.3184745\ttotal: 110ms\tremaining: 13.6s\n",
            "8:\tlearn: 0.2939070\ttotal: 122ms\tremaining: 13.4s\n",
            "9:\tlearn: 0.2715727\ttotal: 136ms\tremaining: 13.5s\n",
            "10:\tlearn: 0.2529872\ttotal: 146ms\tremaining: 13.1s\n",
            "11:\tlearn: 0.2348952\ttotal: 154ms\tremaining: 12.7s\n",
            "12:\tlearn: 0.2241845\ttotal: 165ms\tremaining: 12.5s\n",
            "13:\tlearn: 0.2115322\ttotal: 179ms\tremaining: 12.6s\n",
            "14:\tlearn: 0.2029825\ttotal: 188ms\tremaining: 12.3s\n",
            "15:\tlearn: 0.1922771\ttotal: 214ms\tremaining: 13.1s\n",
            "16:\tlearn: 0.1826835\ttotal: 221ms\tremaining: 12.8s\n",
            "17:\tlearn: 0.1743241\ttotal: 228ms\tremaining: 12.4s\n",
            "18:\tlearn: 0.1673404\ttotal: 236ms\tremaining: 12.2s\n",
            "19:\tlearn: 0.1602689\ttotal: 244ms\tremaining: 11.9s\n",
            "20:\tlearn: 0.1567231\ttotal: 251ms\tremaining: 11.7s\n",
            "21:\tlearn: 0.1513007\ttotal: 258ms\tremaining: 11.5s\n",
            "22:\tlearn: 0.1465507\ttotal: 266ms\tremaining: 11.3s\n",
            "23:\tlearn: 0.1424152\ttotal: 274ms\tremaining: 11.1s\n",
            "24:\tlearn: 0.1397801\ttotal: 281ms\tremaining: 11s\n",
            "25:\tlearn: 0.1379633\ttotal: 286ms\tremaining: 10.7s\n",
            "26:\tlearn: 0.1350060\ttotal: 294ms\tremaining: 10.6s\n",
            "27:\tlearn: 0.1321424\ttotal: 302ms\tremaining: 10.5s\n",
            "28:\tlearn: 0.1295213\ttotal: 309ms\tremaining: 10.4s\n",
            "29:\tlearn: 0.1273609\ttotal: 316ms\tremaining: 10.2s\n",
            "30:\tlearn: 0.1248290\ttotal: 322ms\tremaining: 10.1s\n",
            "31:\tlearn: 0.1225472\ttotal: 330ms\tremaining: 9.99s\n",
            "32:\tlearn: 0.1207014\ttotal: 339ms\tremaining: 9.92s\n",
            "33:\tlearn: 0.1193434\ttotal: 346ms\tremaining: 9.84s\n",
            "34:\tlearn: 0.1184835\ttotal: 354ms\tremaining: 9.77s\n",
            "35:\tlearn: 0.1175648\ttotal: 362ms\tremaining: 9.7s\n",
            "36:\tlearn: 0.1160759\ttotal: 369ms\tremaining: 9.61s\n",
            "37:\tlearn: 0.1144072\ttotal: 375ms\tremaining: 9.5s\n",
            "38:\tlearn: 0.1135919\ttotal: 381ms\tremaining: 9.39s\n",
            "39:\tlearn: 0.1126005\ttotal: 391ms\tremaining: 9.38s\n",
            "40:\tlearn: 0.1116059\ttotal: 398ms\tremaining: 9.31s\n",
            "41:\tlearn: 0.1104589\ttotal: 406ms\tremaining: 9.26s\n",
            "42:\tlearn: 0.1098168\ttotal: 412ms\tremaining: 9.17s\n",
            "43:\tlearn: 0.1090579\ttotal: 418ms\tremaining: 9.08s\n",
            "44:\tlearn: 0.1083436\ttotal: 424ms\tremaining: 9.01s\n",
            "45:\tlearn: 0.1073564\ttotal: 431ms\tremaining: 8.94s\n",
            "46:\tlearn: 0.1064812\ttotal: 437ms\tremaining: 8.87s\n",
            "47:\tlearn: 0.1060792\ttotal: 444ms\tremaining: 8.8s\n",
            "48:\tlearn: 0.1056991\ttotal: 450ms\tremaining: 8.74s\n",
            "49:\tlearn: 0.1051400\ttotal: 462ms\tremaining: 8.78s\n",
            "50:\tlearn: 0.1042884\ttotal: 469ms\tremaining: 8.72s\n",
            "51:\tlearn: 0.1038060\ttotal: 475ms\tremaining: 8.66s\n",
            "52:\tlearn: 0.1031928\ttotal: 481ms\tremaining: 8.6s\n",
            "53:\tlearn: 0.1027378\ttotal: 489ms\tremaining: 8.56s\n",
            "54:\tlearn: 0.1023793\ttotal: 495ms\tremaining: 8.5s\n",
            "55:\tlearn: 0.1019559\ttotal: 502ms\tremaining: 8.46s\n",
            "56:\tlearn: 0.1017561\ttotal: 510ms\tremaining: 8.43s\n",
            "57:\tlearn: 0.1013573\ttotal: 515ms\tremaining: 8.36s\n",
            "58:\tlearn: 0.1010554\ttotal: 520ms\tremaining: 8.29s\n",
            "59:\tlearn: 0.1006956\ttotal: 525ms\tremaining: 8.23s\n",
            "60:\tlearn: 0.1005283\ttotal: 531ms\tremaining: 8.17s\n",
            "61:\tlearn: 0.1002227\ttotal: 537ms\tremaining: 8.12s\n",
            "62:\tlearn: 0.0999332\ttotal: 542ms\tremaining: 8.06s\n",
            "63:\tlearn: 0.0996211\ttotal: 548ms\tremaining: 8.01s\n",
            "64:\tlearn: 0.0992484\ttotal: 553ms\tremaining: 7.95s\n",
            "65:\tlearn: 0.0989953\ttotal: 558ms\tremaining: 7.89s\n",
            "66:\tlearn: 0.0988056\ttotal: 563ms\tremaining: 7.83s\n",
            "67:\tlearn: 0.0983005\ttotal: 568ms\tremaining: 7.79s\n",
            "68:\tlearn: 0.0978982\ttotal: 573ms\tremaining: 7.74s\n",
            "69:\tlearn: 0.0975102\ttotal: 579ms\tremaining: 7.69s\n",
            "70:\tlearn: 0.0972522\ttotal: 586ms\tremaining: 7.67s\n",
            "71:\tlearn: 0.0969487\ttotal: 592ms\tremaining: 7.63s\n",
            "72:\tlearn: 0.0966996\ttotal: 598ms\tremaining: 7.59s\n",
            "73:\tlearn: 0.0964033\ttotal: 603ms\tremaining: 7.54s\n",
            "74:\tlearn: 0.0962079\ttotal: 608ms\tremaining: 7.5s\n",
            "75:\tlearn: 0.0960341\ttotal: 614ms\tremaining: 7.46s\n",
            "76:\tlearn: 0.0958460\ttotal: 619ms\tremaining: 7.42s\n",
            "77:\tlearn: 0.0956263\ttotal: 625ms\tremaining: 7.38s\n",
            "78:\tlearn: 0.0954456\ttotal: 630ms\tremaining: 7.34s\n",
            "79:\tlearn: 0.0952804\ttotal: 635ms\tremaining: 7.3s\n",
            "80:\tlearn: 0.0951509\ttotal: 640ms\tremaining: 7.26s\n",
            "81:\tlearn: 0.0950370\ttotal: 645ms\tremaining: 7.23s\n",
            "82:\tlearn: 0.0947788\ttotal: 650ms\tremaining: 7.19s\n",
            "83:\tlearn: 0.0945818\ttotal: 656ms\tremaining: 7.15s\n",
            "84:\tlearn: 0.0944197\ttotal: 661ms\tremaining: 7.12s\n",
            "85:\tlearn: 0.0941272\ttotal: 666ms\tremaining: 7.08s\n",
            "86:\tlearn: 0.0939604\ttotal: 672ms\tremaining: 7.05s\n",
            "87:\tlearn: 0.0938303\ttotal: 677ms\tremaining: 7.02s\n",
            "88:\tlearn: 0.0937406\ttotal: 683ms\tremaining: 6.99s\n",
            "89:\tlearn: 0.0934753\ttotal: 691ms\tremaining: 6.99s\n",
            "90:\tlearn: 0.0929870\ttotal: 696ms\tremaining: 6.96s\n",
            "91:\tlearn: 0.0927641\ttotal: 702ms\tremaining: 6.93s\n",
            "92:\tlearn: 0.0926237\ttotal: 707ms\tremaining: 6.9s\n",
            "93:\tlearn: 0.0924404\ttotal: 713ms\tremaining: 6.87s\n",
            "94:\tlearn: 0.0923150\ttotal: 718ms\tremaining: 6.84s\n",
            "95:\tlearn: 0.0921444\ttotal: 724ms\tremaining: 6.81s\n",
            "96:\tlearn: 0.0920160\ttotal: 729ms\tremaining: 6.79s\n",
            "97:\tlearn: 0.0918707\ttotal: 734ms\tremaining: 6.76s\n",
            "98:\tlearn: 0.0917276\ttotal: 740ms\tremaining: 6.73s\n",
            "99:\tlearn: 0.0916374\ttotal: 744ms\tremaining: 6.7s\n",
            "100:\tlearn: 0.0914738\ttotal: 750ms\tremaining: 6.68s\n",
            "101:\tlearn: 0.0912754\ttotal: 755ms\tremaining: 6.65s\n",
            "102:\tlearn: 0.0910135\ttotal: 760ms\tremaining: 6.62s\n",
            "103:\tlearn: 0.0908472\ttotal: 766ms\tremaining: 6.59s\n",
            "104:\tlearn: 0.0907202\ttotal: 770ms\tremaining: 6.57s\n",
            "105:\tlearn: 0.0906109\ttotal: 776ms\tremaining: 6.54s\n",
            "106:\tlearn: 0.0904541\ttotal: 785ms\tremaining: 6.55s\n",
            "107:\tlearn: 0.0903573\ttotal: 791ms\tremaining: 6.53s\n",
            "108:\tlearn: 0.0902384\ttotal: 796ms\tremaining: 6.51s\n",
            "109:\tlearn: 0.0900544\ttotal: 801ms\tremaining: 6.48s\n",
            "110:\tlearn: 0.0899378\ttotal: 808ms\tremaining: 6.47s\n",
            "111:\tlearn: 0.0898072\ttotal: 820ms\tremaining: 6.5s\n",
            "112:\tlearn: 0.0897284\ttotal: 827ms\tremaining: 6.49s\n",
            "113:\tlearn: 0.0896444\ttotal: 834ms\tremaining: 6.49s\n",
            "114:\tlearn: 0.0895009\ttotal: 841ms\tremaining: 6.47s\n",
            "115:\tlearn: 0.0894302\ttotal: 846ms\tremaining: 6.45s\n",
            "116:\tlearn: 0.0892157\ttotal: 851ms\tremaining: 6.42s\n",
            "117:\tlearn: 0.0891434\ttotal: 856ms\tremaining: 6.39s\n",
            "118:\tlearn: 0.0888994\ttotal: 860ms\tremaining: 6.37s\n",
            "119:\tlearn: 0.0887844\ttotal: 866ms\tremaining: 6.35s\n",
            "120:\tlearn: 0.0886543\ttotal: 871ms\tremaining: 6.33s\n",
            "121:\tlearn: 0.0885684\ttotal: 876ms\tremaining: 6.3s\n",
            "122:\tlearn: 0.0882638\ttotal: 882ms\tremaining: 6.29s\n",
            "123:\tlearn: 0.0881705\ttotal: 887ms\tremaining: 6.26s\n",
            "124:\tlearn: 0.0878906\ttotal: 892ms\tremaining: 6.24s\n",
            "125:\tlearn: 0.0876507\ttotal: 897ms\tremaining: 6.22s\n",
            "126:\tlearn: 0.0873747\ttotal: 902ms\tremaining: 6.2s\n",
            "127:\tlearn: 0.0872333\ttotal: 907ms\tremaining: 6.18s\n",
            "128:\tlearn: 0.0871408\ttotal: 912ms\tremaining: 6.16s\n",
            "129:\tlearn: 0.0869261\ttotal: 918ms\tremaining: 6.14s\n",
            "130:\tlearn: 0.0868191\ttotal: 923ms\tremaining: 6.12s\n",
            "131:\tlearn: 0.0865920\ttotal: 930ms\tremaining: 6.11s\n",
            "132:\tlearn: 0.0865203\ttotal: 935ms\tremaining: 6.1s\n",
            "133:\tlearn: 0.0863868\ttotal: 941ms\tremaining: 6.08s\n",
            "134:\tlearn: 0.0863132\ttotal: 946ms\tremaining: 6.06s\n",
            "135:\tlearn: 0.0862063\ttotal: 952ms\tremaining: 6.05s\n",
            "136:\tlearn: 0.0861171\ttotal: 958ms\tremaining: 6.03s\n",
            "137:\tlearn: 0.0860302\ttotal: 963ms\tremaining: 6.02s\n",
            "138:\tlearn: 0.0859263\ttotal: 972ms\tremaining: 6.02s\n",
            "139:\tlearn: 0.0858491\ttotal: 978ms\tremaining: 6s\n",
            "140:\tlearn: 0.0857891\ttotal: 984ms\tremaining: 6s\n",
            "141:\tlearn: 0.0857351\ttotal: 990ms\tremaining: 5.98s\n",
            "142:\tlearn: 0.0856802\ttotal: 995ms\tremaining: 5.96s\n",
            "143:\tlearn: 0.0856384\ttotal: 1000ms\tremaining: 5.94s\n",
            "144:\tlearn: 0.0855853\ttotal: 1s\tremaining: 5.93s\n",
            "145:\tlearn: 0.0855327\ttotal: 1.01s\tremaining: 5.92s\n",
            "146:\tlearn: 0.0853517\ttotal: 1.02s\tremaining: 5.9s\n",
            "147:\tlearn: 0.0852661\ttotal: 1.02s\tremaining: 5.88s\n",
            "148:\tlearn: 0.0852087\ttotal: 1.03s\tremaining: 5.86s\n",
            "149:\tlearn: 0.0850980\ttotal: 1.03s\tremaining: 5.84s\n",
            "150:\tlearn: 0.0850440\ttotal: 1.04s\tremaining: 5.83s\n",
            "151:\tlearn: 0.0849647\ttotal: 1.04s\tremaining: 5.81s\n",
            "152:\tlearn: 0.0848669\ttotal: 1.05s\tremaining: 5.8s\n",
            "153:\tlearn: 0.0848022\ttotal: 1.05s\tremaining: 5.78s\n",
            "154:\tlearn: 0.0847652\ttotal: 1.06s\tremaining: 5.77s\n",
            "155:\tlearn: 0.0845940\ttotal: 1.06s\tremaining: 5.75s\n",
            "156:\tlearn: 0.0845318\ttotal: 1.07s\tremaining: 5.74s\n",
            "157:\tlearn: 0.0844631\ttotal: 1.07s\tremaining: 5.72s\n",
            "158:\tlearn: 0.0842901\ttotal: 1.08s\tremaining: 5.71s\n",
            "159:\tlearn: 0.0841581\ttotal: 1.08s\tremaining: 5.69s\n",
            "160:\tlearn: 0.0841166\ttotal: 1.09s\tremaining: 5.67s\n",
            "161:\tlearn: 0.0840115\ttotal: 1.09s\tremaining: 5.66s\n",
            "162:\tlearn: 0.0839540\ttotal: 1.1s\tremaining: 5.64s\n",
            "163:\tlearn: 0.0839107\ttotal: 1.1s\tremaining: 5.62s\n",
            "164:\tlearn: 0.0838798\ttotal: 1.11s\tremaining: 5.61s\n",
            "165:\tlearn: 0.0837497\ttotal: 1.11s\tremaining: 5.6s\n",
            "166:\tlearn: 0.0836755\ttotal: 1.12s\tremaining: 5.58s\n",
            "167:\tlearn: 0.0835918\ttotal: 1.13s\tremaining: 5.57s\n",
            "168:\tlearn: 0.0835394\ttotal: 1.13s\tremaining: 5.56s\n",
            "169:\tlearn: 0.0834505\ttotal: 1.14s\tremaining: 5.54s\n",
            "170:\tlearn: 0.0832259\ttotal: 1.14s\tremaining: 5.53s\n",
            "171:\tlearn: 0.0830476\ttotal: 1.15s\tremaining: 5.52s\n",
            "172:\tlearn: 0.0829063\ttotal: 1.15s\tremaining: 5.51s\n",
            "173:\tlearn: 0.0828316\ttotal: 1.16s\tremaining: 5.49s\n",
            "174:\tlearn: 0.0827814\ttotal: 1.16s\tremaining: 5.48s\n",
            "175:\tlearn: 0.0826354\ttotal: 1.17s\tremaining: 5.47s\n",
            "176:\tlearn: 0.0825141\ttotal: 1.18s\tremaining: 5.47s\n",
            "177:\tlearn: 0.0823643\ttotal: 1.18s\tremaining: 5.46s\n",
            "178:\tlearn: 0.0822889\ttotal: 1.19s\tremaining: 5.46s\n",
            "179:\tlearn: 0.0822525\ttotal: 1.19s\tremaining: 5.44s\n",
            "180:\tlearn: 0.0821804\ttotal: 1.2s\tremaining: 5.43s\n",
            "181:\tlearn: 0.0821249\ttotal: 1.21s\tremaining: 5.42s\n",
            "182:\tlearn: 0.0820866\ttotal: 1.21s\tremaining: 5.41s\n",
            "183:\tlearn: 0.0820219\ttotal: 1.22s\tremaining: 5.4s\n",
            "184:\tlearn: 0.0819469\ttotal: 1.22s\tremaining: 5.38s\n",
            "185:\tlearn: 0.0818837\ttotal: 1.23s\tremaining: 5.37s\n",
            "186:\tlearn: 0.0817299\ttotal: 1.23s\tremaining: 5.36s\n",
            "187:\tlearn: 0.0815991\ttotal: 1.24s\tremaining: 5.35s\n",
            "188:\tlearn: 0.0815515\ttotal: 1.24s\tremaining: 5.33s\n",
            "189:\tlearn: 0.0815117\ttotal: 1.25s\tremaining: 5.32s\n",
            "190:\tlearn: 0.0814043\ttotal: 1.25s\tremaining: 5.32s\n",
            "191:\tlearn: 0.0813403\ttotal: 1.26s\tremaining: 5.3s\n",
            "192:\tlearn: 0.0812498\ttotal: 1.26s\tremaining: 5.29s\n",
            "193:\tlearn: 0.0812132\ttotal: 1.27s\tremaining: 5.28s\n",
            "194:\tlearn: 0.0811315\ttotal: 1.28s\tremaining: 5.27s\n",
            "195:\tlearn: 0.0811009\ttotal: 1.28s\tremaining: 5.26s\n",
            "196:\tlearn: 0.0809749\ttotal: 1.29s\tremaining: 5.25s\n",
            "197:\tlearn: 0.0809378\ttotal: 1.29s\tremaining: 5.24s\n",
            "198:\tlearn: 0.0808551\ttotal: 1.3s\tremaining: 5.22s\n",
            "199:\tlearn: 0.0807051\ttotal: 1.31s\tremaining: 5.23s\n",
            "200:\tlearn: 0.0806360\ttotal: 1.31s\tremaining: 5.22s\n",
            "201:\tlearn: 0.0805832\ttotal: 1.32s\tremaining: 5.21s\n",
            "202:\tlearn: 0.0805303\ttotal: 1.32s\tremaining: 5.2s\n",
            "203:\tlearn: 0.0803008\ttotal: 1.33s\tremaining: 5.2s\n",
            "204:\tlearn: 0.0802726\ttotal: 1.34s\tremaining: 5.19s\n",
            "205:\tlearn: 0.0802460\ttotal: 1.34s\tremaining: 5.18s\n",
            "206:\tlearn: 0.0800700\ttotal: 1.35s\tremaining: 5.17s\n",
            "207:\tlearn: 0.0799706\ttotal: 1.35s\tremaining: 5.16s\n",
            "208:\tlearn: 0.0799527\ttotal: 1.36s\tremaining: 5.16s\n",
            "209:\tlearn: 0.0799048\ttotal: 1.37s\tremaining: 5.15s\n",
            "210:\tlearn: 0.0797978\ttotal: 1.37s\tremaining: 5.14s\n",
            "211:\tlearn: 0.0797565\ttotal: 1.38s\tremaining: 5.13s\n",
            "212:\tlearn: 0.0797091\ttotal: 1.39s\tremaining: 5.12s\n",
            "213:\tlearn: 0.0796620\ttotal: 1.39s\tremaining: 5.11s\n",
            "214:\tlearn: 0.0796346\ttotal: 1.4s\tremaining: 5.09s\n",
            "215:\tlearn: 0.0795531\ttotal: 1.4s\tremaining: 5.08s\n",
            "216:\tlearn: 0.0795133\ttotal: 1.41s\tremaining: 5.07s\n",
            "217:\tlearn: 0.0794347\ttotal: 1.41s\tremaining: 5.06s\n",
            "218:\tlearn: 0.0793794\ttotal: 1.42s\tremaining: 5.05s\n",
            "219:\tlearn: 0.0793445\ttotal: 1.42s\tremaining: 5.04s\n",
            "220:\tlearn: 0.0792790\ttotal: 1.43s\tremaining: 5.03s\n",
            "221:\tlearn: 0.0791771\ttotal: 1.43s\tremaining: 5.02s\n",
            "222:\tlearn: 0.0790959\ttotal: 1.44s\tremaining: 5.01s\n",
            "223:\tlearn: 0.0790363\ttotal: 1.44s\tremaining: 5s\n",
            "224:\tlearn: 0.0789529\ttotal: 1.45s\tremaining: 4.99s\n",
            "225:\tlearn: 0.0789227\ttotal: 1.45s\tremaining: 4.98s\n",
            "226:\tlearn: 0.0788443\ttotal: 1.46s\tremaining: 4.97s\n",
            "227:\tlearn: 0.0788045\ttotal: 1.46s\tremaining: 4.95s\n",
            "228:\tlearn: 0.0787210\ttotal: 1.47s\tremaining: 4.95s\n",
            "229:\tlearn: 0.0786915\ttotal: 1.47s\tremaining: 4.93s\n",
            "230:\tlearn: 0.0785566\ttotal: 1.48s\tremaining: 4.92s\n",
            "231:\tlearn: 0.0785036\ttotal: 1.48s\tremaining: 4.91s\n",
            "232:\tlearn: 0.0784531\ttotal: 1.49s\tremaining: 4.91s\n",
            "233:\tlearn: 0.0783488\ttotal: 1.5s\tremaining: 4.9s\n",
            "234:\tlearn: 0.0783116\ttotal: 1.5s\tremaining: 4.89s\n",
            "235:\tlearn: 0.0782298\ttotal: 1.51s\tremaining: 4.88s\n",
            "236:\tlearn: 0.0781751\ttotal: 1.51s\tremaining: 4.87s\n",
            "237:\tlearn: 0.0781254\ttotal: 1.52s\tremaining: 4.86s\n",
            "238:\tlearn: 0.0780893\ttotal: 1.52s\tremaining: 4.85s\n",
            "239:\tlearn: 0.0780309\ttotal: 1.53s\tremaining: 4.84s\n",
            "240:\tlearn: 0.0779370\ttotal: 1.53s\tremaining: 4.83s\n",
            "241:\tlearn: 0.0778743\ttotal: 1.54s\tremaining: 4.82s\n",
            "242:\tlearn: 0.0778521\ttotal: 1.54s\tremaining: 4.81s\n",
            "243:\tlearn: 0.0778152\ttotal: 1.55s\tremaining: 4.8s\n",
            "244:\tlearn: 0.0777771\ttotal: 1.55s\tremaining: 4.79s\n",
            "245:\tlearn: 0.0777321\ttotal: 1.56s\tremaining: 4.79s\n",
            "246:\tlearn: 0.0776767\ttotal: 1.57s\tremaining: 4.79s\n",
            "247:\tlearn: 0.0776036\ttotal: 1.58s\tremaining: 4.78s\n",
            "248:\tlearn: 0.0774861\ttotal: 1.58s\tremaining: 4.77s\n",
            "249:\tlearn: 0.0774656\ttotal: 1.59s\tremaining: 4.76s\n",
            "250:\tlearn: 0.0773966\ttotal: 1.59s\tremaining: 4.75s\n",
            "251:\tlearn: 0.0773482\ttotal: 1.6s\tremaining: 4.75s\n",
            "252:\tlearn: 0.0772547\ttotal: 1.6s\tremaining: 4.74s\n",
            "253:\tlearn: 0.0771657\ttotal: 1.61s\tremaining: 4.73s\n",
            "254:\tlearn: 0.0770848\ttotal: 1.62s\tremaining: 4.72s\n",
            "255:\tlearn: 0.0770347\ttotal: 1.62s\tremaining: 4.71s\n",
            "256:\tlearn: 0.0769974\ttotal: 1.63s\tremaining: 4.71s\n",
            "257:\tlearn: 0.0769655\ttotal: 1.63s\tremaining: 4.7s\n",
            "258:\tlearn: 0.0769368\ttotal: 1.64s\tremaining: 4.69s\n",
            "259:\tlearn: 0.0768657\ttotal: 1.64s\tremaining: 4.68s\n",
            "260:\tlearn: 0.0768530\ttotal: 1.65s\tremaining: 4.67s\n",
            "261:\tlearn: 0.0767884\ttotal: 1.65s\tremaining: 4.66s\n",
            "262:\tlearn: 0.0767252\ttotal: 1.66s\tremaining: 4.65s\n",
            "263:\tlearn: 0.0766469\ttotal: 1.66s\tremaining: 4.64s\n",
            "264:\tlearn: 0.0765812\ttotal: 1.67s\tremaining: 4.63s\n",
            "265:\tlearn: 0.0765042\ttotal: 1.68s\tremaining: 4.63s\n",
            "266:\tlearn: 0.0764655\ttotal: 1.69s\tremaining: 4.63s\n",
            "267:\tlearn: 0.0764281\ttotal: 1.69s\tremaining: 4.62s\n",
            "268:\tlearn: 0.0763810\ttotal: 1.7s\tremaining: 4.61s\n",
            "269:\tlearn: 0.0763132\ttotal: 1.7s\tremaining: 4.6s\n",
            "270:\tlearn: 0.0762437\ttotal: 1.71s\tremaining: 4.59s\n",
            "271:\tlearn: 0.0761769\ttotal: 1.71s\tremaining: 4.58s\n",
            "272:\tlearn: 0.0760211\ttotal: 1.72s\tremaining: 4.58s\n",
            "273:\tlearn: 0.0759472\ttotal: 1.72s\tremaining: 4.57s\n",
            "274:\tlearn: 0.0759096\ttotal: 1.73s\tremaining: 4.56s\n",
            "275:\tlearn: 0.0758403\ttotal: 1.74s\tremaining: 4.55s\n",
            "276:\tlearn: 0.0758113\ttotal: 1.74s\tremaining: 4.54s\n",
            "277:\tlearn: 0.0757490\ttotal: 1.75s\tremaining: 4.54s\n",
            "278:\tlearn: 0.0757018\ttotal: 1.75s\tremaining: 4.53s\n",
            "279:\tlearn: 0.0756579\ttotal: 1.76s\tremaining: 4.52s\n",
            "280:\tlearn: 0.0755998\ttotal: 1.77s\tremaining: 4.52s\n",
            "281:\tlearn: 0.0755458\ttotal: 1.77s\tremaining: 4.51s\n",
            "282:\tlearn: 0.0754545\ttotal: 1.78s\tremaining: 4.5s\n",
            "283:\tlearn: 0.0754148\ttotal: 1.78s\tremaining: 4.5s\n",
            "284:\tlearn: 0.0753108\ttotal: 1.79s\tremaining: 4.49s\n",
            "285:\tlearn: 0.0752674\ttotal: 1.79s\tremaining: 4.48s\n",
            "286:\tlearn: 0.0751793\ttotal: 1.8s\tremaining: 4.47s\n",
            "287:\tlearn: 0.0751526\ttotal: 1.8s\tremaining: 4.46s\n",
            "288:\tlearn: 0.0750952\ttotal: 1.81s\tremaining: 4.45s\n",
            "289:\tlearn: 0.0750820\ttotal: 1.82s\tremaining: 4.45s\n",
            "290:\tlearn: 0.0750697\ttotal: 1.82s\tremaining: 4.44s\n",
            "291:\tlearn: 0.0750137\ttotal: 1.83s\tremaining: 4.44s\n",
            "292:\tlearn: 0.0749733\ttotal: 1.84s\tremaining: 4.43s\n",
            "293:\tlearn: 0.0749203\ttotal: 1.84s\tremaining: 4.42s\n",
            "294:\tlearn: 0.0749049\ttotal: 1.85s\tremaining: 4.42s\n",
            "295:\tlearn: 0.0748951\ttotal: 1.85s\tremaining: 4.41s\n",
            "296:\tlearn: 0.0748481\ttotal: 1.86s\tremaining: 4.4s\n",
            "297:\tlearn: 0.0748291\ttotal: 1.86s\tremaining: 4.39s\n",
            "298:\tlearn: 0.0748110\ttotal: 1.87s\tremaining: 4.38s\n",
            "299:\tlearn: 0.0747649\ttotal: 1.88s\tremaining: 4.38s\n",
            "300:\tlearn: 0.0747060\ttotal: 1.88s\tremaining: 4.37s\n",
            "301:\tlearn: 0.0746410\ttotal: 1.89s\tremaining: 4.37s\n",
            "302:\tlearn: 0.0745919\ttotal: 1.9s\tremaining: 4.36s\n",
            "303:\tlearn: 0.0745147\ttotal: 1.91s\tremaining: 4.36s\n",
            "304:\tlearn: 0.0744507\ttotal: 1.92s\tremaining: 4.37s\n",
            "305:\tlearn: 0.0743488\ttotal: 1.92s\tremaining: 4.36s\n",
            "306:\tlearn: 0.0743058\ttotal: 1.93s\tremaining: 4.36s\n",
            "307:\tlearn: 0.0742359\ttotal: 1.94s\tremaining: 4.35s\n",
            "308:\tlearn: 0.0741148\ttotal: 1.94s\tremaining: 4.35s\n",
            "309:\tlearn: 0.0741046\ttotal: 1.95s\tremaining: 4.34s\n",
            "310:\tlearn: 0.0740468\ttotal: 1.96s\tremaining: 4.33s\n",
            "311:\tlearn: 0.0739750\ttotal: 1.96s\tremaining: 4.33s\n",
            "312:\tlearn: 0.0739636\ttotal: 1.97s\tremaining: 4.32s\n",
            "313:\tlearn: 0.0739480\ttotal: 1.97s\tremaining: 4.31s\n",
            "314:\tlearn: 0.0738998\ttotal: 1.98s\tremaining: 4.31s\n",
            "315:\tlearn: 0.0738709\ttotal: 1.99s\tremaining: 4.3s\n",
            "316:\tlearn: 0.0738277\ttotal: 1.99s\tremaining: 4.29s\n",
            "317:\tlearn: 0.0738026\ttotal: 2s\tremaining: 4.29s\n",
            "318:\tlearn: 0.0737746\ttotal: 2.01s\tremaining: 4.28s\n",
            "319:\tlearn: 0.0737491\ttotal: 2.01s\tremaining: 4.28s\n",
            "320:\tlearn: 0.0737247\ttotal: 2.02s\tremaining: 4.27s\n",
            "321:\tlearn: 0.0737110\ttotal: 2.03s\tremaining: 4.28s\n",
            "322:\tlearn: 0.0736664\ttotal: 2.04s\tremaining: 4.27s\n",
            "323:\tlearn: 0.0736251\ttotal: 2.05s\tremaining: 4.27s\n",
            "324:\tlearn: 0.0735904\ttotal: 2.06s\tremaining: 4.27s\n",
            "325:\tlearn: 0.0735765\ttotal: 2.07s\tremaining: 4.28s\n",
            "326:\tlearn: 0.0735697\ttotal: 2.08s\tremaining: 4.28s\n",
            "327:\tlearn: 0.0735075\ttotal: 2.09s\tremaining: 4.29s\n",
            "328:\tlearn: 0.0734686\ttotal: 2.11s\tremaining: 4.3s\n",
            "329:\tlearn: 0.0734276\ttotal: 2.12s\tremaining: 4.3s\n",
            "330:\tlearn: 0.0734022\ttotal: 2.13s\tremaining: 4.29s\n",
            "331:\tlearn: 0.0733498\ttotal: 2.13s\tremaining: 4.29s\n",
            "332:\tlearn: 0.0732874\ttotal: 2.14s\tremaining: 4.29s\n",
            "333:\tlearn: 0.0732571\ttotal: 2.15s\tremaining: 4.28s\n",
            "334:\tlearn: 0.0731843\ttotal: 2.16s\tremaining: 4.29s\n",
            "335:\tlearn: 0.0731440\ttotal: 2.17s\tremaining: 4.29s\n",
            "336:\tlearn: 0.0730738\ttotal: 2.17s\tremaining: 4.28s\n",
            "337:\tlearn: 0.0730441\ttotal: 2.18s\tremaining: 4.27s\n",
            "338:\tlearn: 0.0729980\ttotal: 2.19s\tremaining: 4.26s\n",
            "339:\tlearn: 0.0729428\ttotal: 2.19s\tremaining: 4.25s\n",
            "340:\tlearn: 0.0728906\ttotal: 2.2s\tremaining: 4.25s\n",
            "341:\tlearn: 0.0728811\ttotal: 2.2s\tremaining: 4.24s\n",
            "342:\tlearn: 0.0728418\ttotal: 2.21s\tremaining: 4.23s\n",
            "343:\tlearn: 0.0727990\ttotal: 2.21s\tremaining: 4.22s\n",
            "344:\tlearn: 0.0727835\ttotal: 2.22s\tremaining: 4.21s\n",
            "345:\tlearn: 0.0727579\ttotal: 2.22s\tremaining: 4.2s\n",
            "346:\tlearn: 0.0726934\ttotal: 2.23s\tremaining: 4.2s\n",
            "347:\tlearn: 0.0726714\ttotal: 2.23s\tremaining: 4.19s\n",
            "348:\tlearn: 0.0726479\ttotal: 2.24s\tremaining: 4.18s\n",
            "349:\tlearn: 0.0726097\ttotal: 2.25s\tremaining: 4.17s\n",
            "350:\tlearn: 0.0725797\ttotal: 2.25s\tremaining: 4.16s\n",
            "351:\tlearn: 0.0725329\ttotal: 2.26s\tremaining: 4.16s\n",
            "352:\tlearn: 0.0724809\ttotal: 2.26s\tremaining: 4.15s\n",
            "353:\tlearn: 0.0724387\ttotal: 2.27s\tremaining: 4.14s\n",
            "354:\tlearn: 0.0723182\ttotal: 2.27s\tremaining: 4.13s\n",
            "355:\tlearn: 0.0722844\ttotal: 2.28s\tremaining: 4.12s\n",
            "356:\tlearn: 0.0722557\ttotal: 2.28s\tremaining: 4.12s\n",
            "357:\tlearn: 0.0722285\ttotal: 2.29s\tremaining: 4.11s\n",
            "358:\tlearn: 0.0722060\ttotal: 2.3s\tremaining: 4.1s\n",
            "359:\tlearn: 0.0721791\ttotal: 2.3s\tremaining: 4.09s\n",
            "360:\tlearn: 0.0721698\ttotal: 2.31s\tremaining: 4.09s\n",
            "361:\tlearn: 0.0721221\ttotal: 2.32s\tremaining: 4.08s\n",
            "362:\tlearn: 0.0720991\ttotal: 2.32s\tremaining: 4.07s\n",
            "363:\tlearn: 0.0719865\ttotal: 2.33s\tremaining: 4.07s\n",
            "364:\tlearn: 0.0719398\ttotal: 2.33s\tremaining: 4.06s\n",
            "365:\tlearn: 0.0719039\ttotal: 2.34s\tremaining: 4.05s\n",
            "366:\tlearn: 0.0718829\ttotal: 2.35s\tremaining: 4.04s\n",
            "367:\tlearn: 0.0718521\ttotal: 2.35s\tremaining: 4.04s\n",
            "368:\tlearn: 0.0718188\ttotal: 2.36s\tremaining: 4.03s\n",
            "369:\tlearn: 0.0717815\ttotal: 2.36s\tremaining: 4.03s\n",
            "370:\tlearn: 0.0717574\ttotal: 2.37s\tremaining: 4.02s\n",
            "371:\tlearn: 0.0717217\ttotal: 2.38s\tremaining: 4.01s\n",
            "372:\tlearn: 0.0716873\ttotal: 2.38s\tremaining: 4s\n",
            "373:\tlearn: 0.0716793\ttotal: 2.38s\tremaining: 3.99s\n",
            "374:\tlearn: 0.0716563\ttotal: 2.39s\tremaining: 3.98s\n",
            "375:\tlearn: 0.0716383\ttotal: 2.4s\tremaining: 3.98s\n",
            "376:\tlearn: 0.0716156\ttotal: 2.4s\tremaining: 3.97s\n",
            "377:\tlearn: 0.0715829\ttotal: 2.41s\tremaining: 3.97s\n",
            "378:\tlearn: 0.0715694\ttotal: 2.42s\tremaining: 3.96s\n",
            "379:\tlearn: 0.0715001\ttotal: 2.42s\tremaining: 3.95s\n",
            "380:\tlearn: 0.0714726\ttotal: 2.42s\tremaining: 3.94s\n",
            "381:\tlearn: 0.0714535\ttotal: 2.43s\tremaining: 3.93s\n",
            "382:\tlearn: 0.0713993\ttotal: 2.44s\tremaining: 3.92s\n",
            "383:\tlearn: 0.0713662\ttotal: 2.44s\tremaining: 3.92s\n",
            "384:\tlearn: 0.0713253\ttotal: 2.45s\tremaining: 3.91s\n",
            "385:\tlearn: 0.0712931\ttotal: 2.45s\tremaining: 3.9s\n",
            "386:\tlearn: 0.0712577\ttotal: 2.46s\tremaining: 3.89s\n",
            "387:\tlearn: 0.0712517\ttotal: 2.46s\tremaining: 3.89s\n",
            "388:\tlearn: 0.0711978\ttotal: 2.47s\tremaining: 3.88s\n",
            "389:\tlearn: 0.0711765\ttotal: 2.47s\tremaining: 3.87s\n",
            "390:\tlearn: 0.0711391\ttotal: 2.48s\tremaining: 3.86s\n",
            "391:\tlearn: 0.0711179\ttotal: 2.49s\tremaining: 3.86s\n",
            "392:\tlearn: 0.0710973\ttotal: 2.49s\tremaining: 3.85s\n",
            "393:\tlearn: 0.0710900\ttotal: 2.5s\tremaining: 3.84s\n",
            "394:\tlearn: 0.0710531\ttotal: 2.5s\tremaining: 3.83s\n",
            "395:\tlearn: 0.0710158\ttotal: 2.51s\tremaining: 3.83s\n",
            "396:\tlearn: 0.0709833\ttotal: 2.51s\tremaining: 3.82s\n",
            "397:\tlearn: 0.0709645\ttotal: 2.52s\tremaining: 3.81s\n",
            "398:\tlearn: 0.0709355\ttotal: 2.53s\tremaining: 3.81s\n",
            "399:\tlearn: 0.0709184\ttotal: 2.53s\tremaining: 3.8s\n",
            "400:\tlearn: 0.0709030\ttotal: 2.54s\tremaining: 3.79s\n",
            "401:\tlearn: 0.0708680\ttotal: 2.54s\tremaining: 3.78s\n",
            "402:\tlearn: 0.0708075\ttotal: 2.55s\tremaining: 3.77s\n",
            "403:\tlearn: 0.0707902\ttotal: 2.55s\tremaining: 3.77s\n",
            "404:\tlearn: 0.0707672\ttotal: 2.56s\tremaining: 3.76s\n",
            "405:\tlearn: 0.0707616\ttotal: 2.57s\tremaining: 3.75s\n",
            "406:\tlearn: 0.0707388\ttotal: 2.57s\tremaining: 3.75s\n",
            "407:\tlearn: 0.0707193\ttotal: 2.58s\tremaining: 3.74s\n",
            "408:\tlearn: 0.0707030\ttotal: 2.58s\tremaining: 3.73s\n",
            "409:\tlearn: 0.0706608\ttotal: 2.59s\tremaining: 3.73s\n",
            "410:\tlearn: 0.0705849\ttotal: 2.6s\tremaining: 3.72s\n",
            "411:\tlearn: 0.0705676\ttotal: 2.6s\tremaining: 3.71s\n",
            "412:\tlearn: 0.0705379\ttotal: 2.61s\tremaining: 3.71s\n",
            "413:\tlearn: 0.0705161\ttotal: 2.61s\tremaining: 3.7s\n",
            "414:\tlearn: 0.0704860\ttotal: 2.62s\tremaining: 3.69s\n",
            "415:\tlearn: 0.0703964\ttotal: 2.62s\tremaining: 3.68s\n",
            "416:\tlearn: 0.0703811\ttotal: 2.63s\tremaining: 3.67s\n",
            "417:\tlearn: 0.0703063\ttotal: 2.64s\tremaining: 3.67s\n",
            "418:\tlearn: 0.0702668\ttotal: 2.64s\tremaining: 3.66s\n",
            "419:\tlearn: 0.0702175\ttotal: 2.65s\tremaining: 3.66s\n",
            "420:\tlearn: 0.0701927\ttotal: 2.65s\tremaining: 3.65s\n",
            "421:\tlearn: 0.0701425\ttotal: 2.66s\tremaining: 3.64s\n",
            "422:\tlearn: 0.0701148\ttotal: 2.66s\tremaining: 3.63s\n",
            "423:\tlearn: 0.0700193\ttotal: 2.67s\tremaining: 3.63s\n",
            "424:\tlearn: 0.0700054\ttotal: 2.67s\tremaining: 3.62s\n",
            "425:\tlearn: 0.0699512\ttotal: 2.68s\tremaining: 3.61s\n",
            "426:\tlearn: 0.0699304\ttotal: 2.69s\tremaining: 3.6s\n",
            "427:\tlearn: 0.0699251\ttotal: 2.69s\tremaining: 3.6s\n",
            "428:\tlearn: 0.0698926\ttotal: 2.7s\tremaining: 3.59s\n",
            "429:\tlearn: 0.0698599\ttotal: 2.7s\tremaining: 3.58s\n",
            "430:\tlearn: 0.0698368\ttotal: 2.71s\tremaining: 3.57s\n",
            "431:\tlearn: 0.0697894\ttotal: 2.71s\tremaining: 3.57s\n",
            "432:\tlearn: 0.0697589\ttotal: 2.72s\tremaining: 3.56s\n",
            "433:\tlearn: 0.0697425\ttotal: 2.72s\tremaining: 3.55s\n",
            "434:\tlearn: 0.0697283\ttotal: 2.73s\tremaining: 3.54s\n",
            "435:\tlearn: 0.0696986\ttotal: 2.73s\tremaining: 3.54s\n",
            "436:\tlearn: 0.0696805\ttotal: 2.74s\tremaining: 3.53s\n",
            "437:\tlearn: 0.0696151\ttotal: 2.75s\tremaining: 3.53s\n",
            "438:\tlearn: 0.0695865\ttotal: 2.76s\tremaining: 3.52s\n",
            "439:\tlearn: 0.0695042\ttotal: 2.76s\tremaining: 3.52s\n",
            "440:\tlearn: 0.0694888\ttotal: 2.77s\tremaining: 3.51s\n",
            "441:\tlearn: 0.0694830\ttotal: 2.78s\tremaining: 3.5s\n",
            "442:\tlearn: 0.0694555\ttotal: 2.78s\tremaining: 3.5s\n",
            "443:\tlearn: 0.0694376\ttotal: 2.79s\tremaining: 3.49s\n",
            "444:\tlearn: 0.0694281\ttotal: 2.79s\tremaining: 3.48s\n",
            "445:\tlearn: 0.0694013\ttotal: 2.79s\tremaining: 3.47s\n",
            "446:\tlearn: 0.0693756\ttotal: 2.8s\tremaining: 3.46s\n",
            "447:\tlearn: 0.0693412\ttotal: 2.81s\tremaining: 3.46s\n",
            "448:\tlearn: 0.0693243\ttotal: 2.81s\tremaining: 3.45s\n",
            "449:\tlearn: 0.0693182\ttotal: 2.82s\tremaining: 3.44s\n",
            "450:\tlearn: 0.0692847\ttotal: 2.82s\tremaining: 3.43s\n",
            "451:\tlearn: 0.0692696\ttotal: 2.83s\tremaining: 3.43s\n",
            "452:\tlearn: 0.0691938\ttotal: 2.83s\tremaining: 3.42s\n",
            "453:\tlearn: 0.0691665\ttotal: 2.84s\tremaining: 3.41s\n",
            "454:\tlearn: 0.0691265\ttotal: 2.84s\tremaining: 3.4s\n",
            "455:\tlearn: 0.0690213\ttotal: 2.85s\tremaining: 3.4s\n",
            "456:\tlearn: 0.0689909\ttotal: 2.85s\tremaining: 3.39s\n",
            "457:\tlearn: 0.0689487\ttotal: 2.86s\tremaining: 3.38s\n",
            "458:\tlearn: 0.0689200\ttotal: 2.86s\tremaining: 3.38s\n",
            "459:\tlearn: 0.0688499\ttotal: 2.87s\tremaining: 3.37s\n",
            "460:\tlearn: 0.0688005\ttotal: 2.88s\tremaining: 3.36s\n",
            "461:\tlearn: 0.0687755\ttotal: 2.88s\tremaining: 3.35s\n",
            "462:\tlearn: 0.0687279\ttotal: 2.88s\tremaining: 3.35s\n",
            "463:\tlearn: 0.0687122\ttotal: 2.89s\tremaining: 3.34s\n",
            "464:\tlearn: 0.0686644\ttotal: 2.9s\tremaining: 3.34s\n",
            "465:\tlearn: 0.0686480\ttotal: 2.91s\tremaining: 3.33s\n",
            "466:\tlearn: 0.0686425\ttotal: 2.91s\tremaining: 3.32s\n",
            "467:\tlearn: 0.0686151\ttotal: 2.92s\tremaining: 3.32s\n",
            "468:\tlearn: 0.0685783\ttotal: 2.92s\tremaining: 3.31s\n",
            "469:\tlearn: 0.0685434\ttotal: 2.93s\tremaining: 3.31s\n",
            "470:\tlearn: 0.0685029\ttotal: 2.94s\tremaining: 3.3s\n",
            "471:\tlearn: 0.0684701\ttotal: 2.94s\tremaining: 3.29s\n",
            "472:\tlearn: 0.0684377\ttotal: 2.95s\tremaining: 3.29s\n",
            "473:\tlearn: 0.0683955\ttotal: 2.95s\tremaining: 3.28s\n",
            "474:\tlearn: 0.0683732\ttotal: 2.96s\tremaining: 3.27s\n",
            "475:\tlearn: 0.0683087\ttotal: 2.96s\tremaining: 3.26s\n",
            "476:\tlearn: 0.0682705\ttotal: 2.97s\tremaining: 3.26s\n",
            "477:\tlearn: 0.0682317\ttotal: 2.98s\tremaining: 3.25s\n",
            "478:\tlearn: 0.0681470\ttotal: 2.98s\tremaining: 3.25s\n",
            "479:\tlearn: 0.0681041\ttotal: 2.99s\tremaining: 3.24s\n",
            "480:\tlearn: 0.0680884\ttotal: 2.99s\tremaining: 3.23s\n",
            "481:\tlearn: 0.0680570\ttotal: 3s\tremaining: 3.22s\n",
            "482:\tlearn: 0.0680282\ttotal: 3s\tremaining: 3.22s\n",
            "483:\tlearn: 0.0679387\ttotal: 3.01s\tremaining: 3.21s\n",
            "484:\tlearn: 0.0679248\ttotal: 3.02s\tremaining: 3.21s\n",
            "485:\tlearn: 0.0678878\ttotal: 3.03s\tremaining: 3.2s\n",
            "486:\tlearn: 0.0678511\ttotal: 3.04s\tremaining: 3.2s\n",
            "487:\tlearn: 0.0678458\ttotal: 3.04s\tremaining: 3.19s\n",
            "488:\tlearn: 0.0678372\ttotal: 3.05s\tremaining: 3.19s\n",
            "489:\tlearn: 0.0677797\ttotal: 3.06s\tremaining: 3.18s\n",
            "490:\tlearn: 0.0677563\ttotal: 3.06s\tremaining: 3.18s\n",
            "491:\tlearn: 0.0677139\ttotal: 3.07s\tremaining: 3.17s\n",
            "492:\tlearn: 0.0676984\ttotal: 3.08s\tremaining: 3.16s\n",
            "493:\tlearn: 0.0676869\ttotal: 3.08s\tremaining: 3.16s\n",
            "494:\tlearn: 0.0676705\ttotal: 3.09s\tremaining: 3.15s\n",
            "495:\tlearn: 0.0676288\ttotal: 3.09s\tremaining: 3.14s\n",
            "496:\tlearn: 0.0675956\ttotal: 3.1s\tremaining: 3.14s\n",
            "497:\tlearn: 0.0675556\ttotal: 3.1s\tremaining: 3.13s\n",
            "498:\tlearn: 0.0675414\ttotal: 3.11s\tremaining: 3.12s\n",
            "499:\tlearn: 0.0675067\ttotal: 3.12s\tremaining: 3.12s\n",
            "500:\tlearn: 0.0674830\ttotal: 3.12s\tremaining: 3.11s\n",
            "501:\tlearn: 0.0674402\ttotal: 3.13s\tremaining: 3.1s\n",
            "502:\tlearn: 0.0674016\ttotal: 3.13s\tremaining: 3.1s\n",
            "503:\tlearn: 0.0673754\ttotal: 3.14s\tremaining: 3.09s\n",
            "504:\tlearn: 0.0673430\ttotal: 3.15s\tremaining: 3.08s\n",
            "505:\tlearn: 0.0672957\ttotal: 3.15s\tremaining: 3.08s\n",
            "506:\tlearn: 0.0672771\ttotal: 3.16s\tremaining: 3.08s\n",
            "507:\tlearn: 0.0672220\ttotal: 3.17s\tremaining: 3.07s\n",
            "508:\tlearn: 0.0671938\ttotal: 3.17s\tremaining: 3.06s\n",
            "509:\tlearn: 0.0671443\ttotal: 3.18s\tremaining: 3.06s\n",
            "510:\tlearn: 0.0671235\ttotal: 3.19s\tremaining: 3.05s\n",
            "511:\tlearn: 0.0670377\ttotal: 3.19s\tremaining: 3.04s\n",
            "512:\tlearn: 0.0670048\ttotal: 3.2s\tremaining: 3.04s\n",
            "513:\tlearn: 0.0669558\ttotal: 3.21s\tremaining: 3.03s\n",
            "514:\tlearn: 0.0669420\ttotal: 3.21s\tremaining: 3.02s\n",
            "515:\tlearn: 0.0669322\ttotal: 3.22s\tremaining: 3.02s\n",
            "516:\tlearn: 0.0668928\ttotal: 3.22s\tremaining: 3.01s\n",
            "517:\tlearn: 0.0668725\ttotal: 3.23s\tremaining: 3s\n",
            "518:\tlearn: 0.0668676\ttotal: 3.23s\tremaining: 3s\n",
            "519:\tlearn: 0.0668618\ttotal: 3.24s\tremaining: 2.99s\n",
            "520:\tlearn: 0.0668263\ttotal: 3.24s\tremaining: 2.98s\n",
            "521:\tlearn: 0.0668044\ttotal: 3.25s\tremaining: 2.98s\n",
            "522:\tlearn: 0.0667681\ttotal: 3.26s\tremaining: 2.97s\n",
            "523:\tlearn: 0.0667319\ttotal: 3.26s\tremaining: 2.96s\n",
            "524:\tlearn: 0.0666575\ttotal: 3.27s\tremaining: 2.96s\n",
            "525:\tlearn: 0.0665891\ttotal: 3.27s\tremaining: 2.95s\n",
            "526:\tlearn: 0.0665009\ttotal: 3.28s\tremaining: 2.94s\n",
            "527:\tlearn: 0.0664701\ttotal: 3.29s\tremaining: 2.94s\n",
            "528:\tlearn: 0.0664510\ttotal: 3.29s\tremaining: 2.93s\n",
            "529:\tlearn: 0.0664302\ttotal: 3.3s\tremaining: 2.92s\n",
            "530:\tlearn: 0.0664267\ttotal: 3.3s\tremaining: 2.92s\n",
            "531:\tlearn: 0.0664186\ttotal: 3.31s\tremaining: 2.92s\n",
            "532:\tlearn: 0.0663994\ttotal: 3.32s\tremaining: 2.91s\n",
            "533:\tlearn: 0.0663941\ttotal: 3.32s\tremaining: 2.9s\n",
            "534:\tlearn: 0.0663853\ttotal: 3.33s\tremaining: 2.9s\n",
            "535:\tlearn: 0.0663663\ttotal: 3.34s\tremaining: 2.89s\n",
            "536:\tlearn: 0.0663329\ttotal: 3.35s\tremaining: 2.89s\n",
            "537:\tlearn: 0.0663127\ttotal: 3.35s\tremaining: 2.88s\n",
            "538:\tlearn: 0.0662408\ttotal: 3.36s\tremaining: 2.87s\n",
            "539:\tlearn: 0.0661800\ttotal: 3.36s\tremaining: 2.87s\n",
            "540:\tlearn: 0.0661415\ttotal: 3.37s\tremaining: 2.86s\n",
            "541:\tlearn: 0.0661185\ttotal: 3.37s\tremaining: 2.85s\n",
            "542:\tlearn: 0.0660635\ttotal: 3.38s\tremaining: 2.85s\n",
            "543:\tlearn: 0.0660033\ttotal: 3.39s\tremaining: 2.84s\n",
            "544:\tlearn: 0.0659703\ttotal: 3.39s\tremaining: 2.83s\n",
            "545:\tlearn: 0.0659508\ttotal: 3.4s\tremaining: 2.83s\n",
            "546:\tlearn: 0.0659458\ttotal: 3.4s\tremaining: 2.82s\n",
            "547:\tlearn: 0.0659316\ttotal: 3.41s\tremaining: 2.81s\n",
            "548:\tlearn: 0.0659213\ttotal: 3.41s\tremaining: 2.8s\n",
            "549:\tlearn: 0.0658811\ttotal: 3.42s\tremaining: 2.8s\n",
            "550:\tlearn: 0.0658246\ttotal: 3.42s\tremaining: 2.79s\n",
            "551:\tlearn: 0.0657790\ttotal: 3.43s\tremaining: 2.78s\n",
            "552:\tlearn: 0.0657448\ttotal: 3.44s\tremaining: 2.78s\n",
            "553:\tlearn: 0.0657268\ttotal: 3.44s\tremaining: 2.77s\n",
            "554:\tlearn: 0.0656959\ttotal: 3.45s\tremaining: 2.76s\n",
            "555:\tlearn: 0.0656843\ttotal: 3.45s\tremaining: 2.76s\n",
            "556:\tlearn: 0.0656715\ttotal: 3.46s\tremaining: 2.75s\n",
            "557:\tlearn: 0.0656626\ttotal: 3.46s\tremaining: 2.74s\n",
            "558:\tlearn: 0.0656181\ttotal: 3.47s\tremaining: 2.74s\n",
            "559:\tlearn: 0.0656041\ttotal: 3.47s\tremaining: 2.73s\n",
            "560:\tlearn: 0.0655707\ttotal: 3.48s\tremaining: 2.72s\n",
            "561:\tlearn: 0.0654936\ttotal: 3.48s\tremaining: 2.71s\n",
            "562:\tlearn: 0.0654868\ttotal: 3.49s\tremaining: 2.71s\n",
            "563:\tlearn: 0.0654630\ttotal: 3.49s\tremaining: 2.7s\n",
            "564:\tlearn: 0.0654477\ttotal: 3.5s\tremaining: 2.69s\n",
            "565:\tlearn: 0.0653690\ttotal: 3.5s\tremaining: 2.69s\n",
            "566:\tlearn: 0.0653482\ttotal: 3.51s\tremaining: 2.68s\n",
            "567:\tlearn: 0.0653126\ttotal: 3.52s\tremaining: 2.67s\n",
            "568:\tlearn: 0.0652965\ttotal: 3.52s\tremaining: 2.67s\n",
            "569:\tlearn: 0.0652554\ttotal: 3.53s\tremaining: 2.66s\n",
            "570:\tlearn: 0.0652361\ttotal: 3.54s\tremaining: 2.66s\n",
            "571:\tlearn: 0.0652259\ttotal: 3.54s\tremaining: 2.65s\n",
            "572:\tlearn: 0.0651963\ttotal: 3.55s\tremaining: 2.64s\n",
            "573:\tlearn: 0.0651899\ttotal: 3.55s\tremaining: 2.64s\n",
            "574:\tlearn: 0.0651179\ttotal: 3.56s\tremaining: 2.63s\n",
            "575:\tlearn: 0.0650959\ttotal: 3.57s\tremaining: 2.63s\n",
            "576:\tlearn: 0.0650851\ttotal: 3.57s\tremaining: 2.62s\n",
            "577:\tlearn: 0.0649922\ttotal: 3.58s\tremaining: 2.61s\n",
            "578:\tlearn: 0.0649849\ttotal: 3.58s\tremaining: 2.6s\n",
            "579:\tlearn: 0.0649411\ttotal: 3.59s\tremaining: 2.6s\n",
            "580:\tlearn: 0.0648793\ttotal: 3.59s\tremaining: 2.59s\n",
            "581:\tlearn: 0.0648633\ttotal: 3.6s\tremaining: 2.58s\n",
            "582:\tlearn: 0.0648451\ttotal: 3.6s\tremaining: 2.58s\n",
            "583:\tlearn: 0.0648189\ttotal: 3.61s\tremaining: 2.57s\n",
            "584:\tlearn: 0.0647694\ttotal: 3.62s\tremaining: 2.56s\n",
            "585:\tlearn: 0.0647396\ttotal: 3.62s\tremaining: 2.56s\n",
            "586:\tlearn: 0.0646948\ttotal: 3.63s\tremaining: 2.55s\n",
            "587:\tlearn: 0.0646856\ttotal: 3.63s\tremaining: 2.54s\n",
            "588:\tlearn: 0.0646787\ttotal: 3.64s\tremaining: 2.54s\n",
            "589:\tlearn: 0.0646509\ttotal: 3.64s\tremaining: 2.53s\n",
            "590:\tlearn: 0.0645913\ttotal: 3.65s\tremaining: 2.53s\n",
            "591:\tlearn: 0.0645466\ttotal: 3.66s\tremaining: 2.52s\n",
            "592:\tlearn: 0.0645198\ttotal: 3.66s\tremaining: 2.51s\n",
            "593:\tlearn: 0.0645076\ttotal: 3.67s\tremaining: 2.51s\n",
            "594:\tlearn: 0.0644947\ttotal: 3.67s\tremaining: 2.5s\n",
            "595:\tlearn: 0.0644543\ttotal: 3.68s\tremaining: 2.49s\n",
            "596:\tlearn: 0.0643721\ttotal: 3.69s\tremaining: 2.49s\n",
            "597:\tlearn: 0.0643372\ttotal: 3.69s\tremaining: 2.48s\n",
            "598:\tlearn: 0.0642759\ttotal: 3.7s\tremaining: 2.48s\n",
            "599:\tlearn: 0.0642347\ttotal: 3.7s\tremaining: 2.47s\n",
            "600:\tlearn: 0.0641992\ttotal: 3.71s\tremaining: 2.46s\n",
            "601:\tlearn: 0.0641784\ttotal: 3.71s\tremaining: 2.46s\n",
            "602:\tlearn: 0.0641536\ttotal: 3.72s\tremaining: 2.45s\n",
            "603:\tlearn: 0.0641433\ttotal: 3.73s\tremaining: 2.44s\n",
            "604:\tlearn: 0.0641327\ttotal: 3.73s\tremaining: 2.44s\n",
            "605:\tlearn: 0.0641122\ttotal: 3.74s\tremaining: 2.43s\n",
            "606:\tlearn: 0.0641019\ttotal: 3.75s\tremaining: 2.42s\n",
            "607:\tlearn: 0.0640831\ttotal: 3.75s\tremaining: 2.42s\n",
            "608:\tlearn: 0.0640670\ttotal: 3.75s\tremaining: 2.41s\n",
            "609:\tlearn: 0.0640617\ttotal: 3.76s\tremaining: 2.4s\n",
            "610:\tlearn: 0.0640257\ttotal: 3.77s\tremaining: 2.4s\n",
            "611:\tlearn: 0.0640135\ttotal: 3.77s\tremaining: 2.39s\n",
            "612:\tlearn: 0.0639610\ttotal: 3.78s\tremaining: 2.38s\n",
            "613:\tlearn: 0.0639327\ttotal: 3.78s\tremaining: 2.38s\n",
            "614:\tlearn: 0.0639010\ttotal: 3.79s\tremaining: 2.37s\n",
            "615:\tlearn: 0.0638872\ttotal: 3.79s\tremaining: 2.36s\n",
            "616:\tlearn: 0.0638772\ttotal: 3.8s\tremaining: 2.36s\n",
            "617:\tlearn: 0.0638674\ttotal: 3.8s\tremaining: 2.35s\n",
            "618:\tlearn: 0.0638609\ttotal: 3.81s\tremaining: 2.35s\n",
            "619:\tlearn: 0.0638550\ttotal: 3.81s\tremaining: 2.34s\n",
            "620:\tlearn: 0.0638290\ttotal: 3.82s\tremaining: 2.33s\n",
            "621:\tlearn: 0.0638194\ttotal: 3.83s\tremaining: 2.33s\n",
            "622:\tlearn: 0.0637860\ttotal: 3.83s\tremaining: 2.32s\n",
            "623:\tlearn: 0.0637610\ttotal: 3.84s\tremaining: 2.31s\n",
            "624:\tlearn: 0.0637529\ttotal: 3.85s\tremaining: 2.31s\n",
            "625:\tlearn: 0.0637423\ttotal: 3.85s\tremaining: 2.3s\n",
            "626:\tlearn: 0.0636454\ttotal: 3.85s\tremaining: 2.29s\n",
            "627:\tlearn: 0.0636064\ttotal: 3.86s\tremaining: 2.29s\n",
            "628:\tlearn: 0.0635599\ttotal: 3.87s\tremaining: 2.28s\n",
            "629:\tlearn: 0.0635114\ttotal: 3.87s\tremaining: 2.27s\n",
            "630:\tlearn: 0.0634708\ttotal: 3.88s\tremaining: 2.27s\n",
            "631:\tlearn: 0.0634240\ttotal: 3.88s\tremaining: 2.26s\n",
            "632:\tlearn: 0.0633967\ttotal: 3.89s\tremaining: 2.25s\n",
            "633:\tlearn: 0.0633676\ttotal: 3.89s\tremaining: 2.25s\n",
            "634:\tlearn: 0.0633334\ttotal: 3.9s\tremaining: 2.24s\n",
            "635:\tlearn: 0.0633246\ttotal: 3.9s\tremaining: 2.23s\n",
            "636:\tlearn: 0.0632941\ttotal: 3.91s\tremaining: 2.23s\n",
            "637:\tlearn: 0.0632712\ttotal: 3.92s\tremaining: 2.22s\n",
            "638:\tlearn: 0.0632618\ttotal: 3.92s\tremaining: 2.22s\n",
            "639:\tlearn: 0.0632311\ttotal: 3.93s\tremaining: 2.21s\n",
            "640:\tlearn: 0.0632077\ttotal: 3.94s\tremaining: 2.21s\n",
            "641:\tlearn: 0.0631651\ttotal: 3.94s\tremaining: 2.2s\n",
            "642:\tlearn: 0.0631153\ttotal: 3.95s\tremaining: 2.19s\n",
            "643:\tlearn: 0.0630965\ttotal: 3.96s\tremaining: 2.19s\n",
            "644:\tlearn: 0.0630685\ttotal: 3.96s\tremaining: 2.18s\n",
            "645:\tlearn: 0.0630415\ttotal: 3.97s\tremaining: 2.17s\n",
            "646:\tlearn: 0.0630292\ttotal: 3.97s\tremaining: 2.17s\n",
            "647:\tlearn: 0.0630213\ttotal: 3.98s\tremaining: 2.16s\n",
            "648:\tlearn: 0.0630137\ttotal: 3.98s\tremaining: 2.15s\n",
            "649:\tlearn: 0.0630052\ttotal: 3.99s\tremaining: 2.15s\n",
            "650:\tlearn: 0.0629645\ttotal: 4s\tremaining: 2.14s\n",
            "651:\tlearn: 0.0629563\ttotal: 4s\tremaining: 2.13s\n",
            "652:\tlearn: 0.0629450\ttotal: 4s\tremaining: 2.13s\n",
            "653:\tlearn: 0.0629161\ttotal: 4.01s\tremaining: 2.12s\n",
            "654:\tlearn: 0.0629108\ttotal: 4.02s\tremaining: 2.12s\n",
            "655:\tlearn: 0.0628966\ttotal: 4.02s\tremaining: 2.11s\n",
            "656:\tlearn: 0.0628861\ttotal: 4.03s\tremaining: 2.1s\n",
            "657:\tlearn: 0.0628605\ttotal: 4.03s\tremaining: 2.1s\n",
            "658:\tlearn: 0.0628337\ttotal: 4.04s\tremaining: 2.09s\n",
            "659:\tlearn: 0.0628109\ttotal: 4.04s\tremaining: 2.08s\n",
            "660:\tlearn: 0.0627881\ttotal: 4.05s\tremaining: 2.08s\n",
            "661:\tlearn: 0.0627664\ttotal: 4.05s\tremaining: 2.07s\n",
            "662:\tlearn: 0.0627435\ttotal: 4.06s\tremaining: 2.06s\n",
            "663:\tlearn: 0.0627200\ttotal: 4.07s\tremaining: 2.06s\n",
            "664:\tlearn: 0.0627069\ttotal: 4.07s\tremaining: 2.05s\n",
            "665:\tlearn: 0.0626853\ttotal: 4.07s\tremaining: 2.04s\n",
            "666:\tlearn: 0.0626610\ttotal: 4.08s\tremaining: 2.04s\n",
            "667:\tlearn: 0.0626275\ttotal: 4.08s\tremaining: 2.03s\n",
            "668:\tlearn: 0.0626147\ttotal: 4.09s\tremaining: 2.02s\n",
            "669:\tlearn: 0.0625998\ttotal: 4.1s\tremaining: 2.02s\n",
            "670:\tlearn: 0.0625897\ttotal: 4.1s\tremaining: 2.01s\n",
            "671:\tlearn: 0.0625847\ttotal: 4.11s\tremaining: 2.01s\n",
            "672:\tlearn: 0.0625392\ttotal: 4.12s\tremaining: 2s\n",
            "673:\tlearn: 0.0625155\ttotal: 4.12s\tremaining: 2s\n",
            "674:\tlearn: 0.0624882\ttotal: 4.13s\tremaining: 1.99s\n",
            "675:\tlearn: 0.0624803\ttotal: 4.13s\tremaining: 1.98s\n",
            "676:\tlearn: 0.0624545\ttotal: 4.14s\tremaining: 1.98s\n",
            "677:\tlearn: 0.0624365\ttotal: 4.15s\tremaining: 1.97s\n",
            "678:\tlearn: 0.0624148\ttotal: 4.15s\tremaining: 1.96s\n",
            "679:\tlearn: 0.0623856\ttotal: 4.16s\tremaining: 1.96s\n",
            "680:\tlearn: 0.0623758\ttotal: 4.16s\tremaining: 1.95s\n",
            "681:\tlearn: 0.0623584\ttotal: 4.17s\tremaining: 1.94s\n",
            "682:\tlearn: 0.0623467\ttotal: 4.17s\tremaining: 1.94s\n",
            "683:\tlearn: 0.0623246\ttotal: 4.17s\tremaining: 1.93s\n",
            "684:\tlearn: 0.0623056\ttotal: 4.18s\tremaining: 1.92s\n",
            "685:\tlearn: 0.0622811\ttotal: 4.19s\tremaining: 1.92s\n",
            "686:\tlearn: 0.0622499\ttotal: 4.19s\tremaining: 1.91s\n",
            "687:\tlearn: 0.0622397\ttotal: 4.2s\tremaining: 1.9s\n",
            "688:\tlearn: 0.0622306\ttotal: 4.2s\tremaining: 1.9s\n",
            "689:\tlearn: 0.0622022\ttotal: 4.21s\tremaining: 1.89s\n",
            "690:\tlearn: 0.0621822\ttotal: 4.21s\tremaining: 1.88s\n",
            "691:\tlearn: 0.0621307\ttotal: 4.22s\tremaining: 1.88s\n",
            "692:\tlearn: 0.0621030\ttotal: 4.22s\tremaining: 1.87s\n",
            "693:\tlearn: 0.0620764\ttotal: 4.23s\tremaining: 1.86s\n",
            "694:\tlearn: 0.0620289\ttotal: 4.23s\tremaining: 1.86s\n",
            "695:\tlearn: 0.0620144\ttotal: 4.24s\tremaining: 1.85s\n",
            "696:\tlearn: 0.0619747\ttotal: 4.25s\tremaining: 1.85s\n",
            "697:\tlearn: 0.0619016\ttotal: 4.25s\tremaining: 1.84s\n",
            "698:\tlearn: 0.0618942\ttotal: 4.26s\tremaining: 1.83s\n",
            "699:\tlearn: 0.0618666\ttotal: 4.26s\tremaining: 1.83s\n",
            "700:\tlearn: 0.0618500\ttotal: 4.27s\tremaining: 1.82s\n",
            "701:\tlearn: 0.0618303\ttotal: 4.28s\tremaining: 1.81s\n",
            "702:\tlearn: 0.0618194\ttotal: 4.28s\tremaining: 1.81s\n",
            "703:\tlearn: 0.0617644\ttotal: 4.29s\tremaining: 1.8s\n",
            "704:\tlearn: 0.0617182\ttotal: 4.29s\tremaining: 1.8s\n",
            "705:\tlearn: 0.0617001\ttotal: 4.3s\tremaining: 1.79s\n",
            "706:\tlearn: 0.0616869\ttotal: 4.3s\tremaining: 1.78s\n",
            "707:\tlearn: 0.0616521\ttotal: 4.31s\tremaining: 1.78s\n",
            "708:\tlearn: 0.0616308\ttotal: 4.31s\tremaining: 1.77s\n",
            "709:\tlearn: 0.0616060\ttotal: 4.32s\tremaining: 1.76s\n",
            "710:\tlearn: 0.0615917\ttotal: 4.33s\tremaining: 1.76s\n",
            "711:\tlearn: 0.0615685\ttotal: 4.33s\tremaining: 1.75s\n",
            "712:\tlearn: 0.0615496\ttotal: 4.34s\tremaining: 1.75s\n",
            "713:\tlearn: 0.0615363\ttotal: 4.34s\tremaining: 1.74s\n",
            "714:\tlearn: 0.0615146\ttotal: 4.35s\tremaining: 1.73s\n",
            "715:\tlearn: 0.0614928\ttotal: 4.36s\tremaining: 1.73s\n",
            "716:\tlearn: 0.0614851\ttotal: 4.36s\tremaining: 1.72s\n",
            "717:\tlearn: 0.0614705\ttotal: 4.36s\tremaining: 1.71s\n",
            "718:\tlearn: 0.0614467\ttotal: 4.37s\tremaining: 1.71s\n",
            "719:\tlearn: 0.0614090\ttotal: 4.38s\tremaining: 1.7s\n",
            "720:\tlearn: 0.0613993\ttotal: 4.38s\tremaining: 1.7s\n",
            "721:\tlearn: 0.0613774\ttotal: 4.39s\tremaining: 1.69s\n",
            "722:\tlearn: 0.0613608\ttotal: 4.39s\tremaining: 1.68s\n",
            "723:\tlearn: 0.0613549\ttotal: 4.4s\tremaining: 1.68s\n",
            "724:\tlearn: 0.0613383\ttotal: 4.41s\tremaining: 1.67s\n",
            "725:\tlearn: 0.0613155\ttotal: 4.41s\tremaining: 1.67s\n",
            "726:\tlearn: 0.0612995\ttotal: 4.42s\tremaining: 1.66s\n",
            "727:\tlearn: 0.0612703\ttotal: 4.42s\tremaining: 1.65s\n",
            "728:\tlearn: 0.0612353\ttotal: 4.43s\tremaining: 1.65s\n",
            "729:\tlearn: 0.0612193\ttotal: 4.43s\tremaining: 1.64s\n",
            "730:\tlearn: 0.0612015\ttotal: 4.44s\tremaining: 1.63s\n",
            "731:\tlearn: 0.0611860\ttotal: 4.44s\tremaining: 1.63s\n",
            "732:\tlearn: 0.0611601\ttotal: 4.45s\tremaining: 1.62s\n",
            "733:\tlearn: 0.0611478\ttotal: 4.45s\tremaining: 1.61s\n",
            "734:\tlearn: 0.0611010\ttotal: 4.46s\tremaining: 1.61s\n",
            "735:\tlearn: 0.0610668\ttotal: 4.47s\tremaining: 1.6s\n",
            "736:\tlearn: 0.0610480\ttotal: 4.47s\tremaining: 1.59s\n",
            "737:\tlearn: 0.0610331\ttotal: 4.48s\tremaining: 1.59s\n",
            "738:\tlearn: 0.0610124\ttotal: 4.48s\tremaining: 1.58s\n",
            "739:\tlearn: 0.0609943\ttotal: 4.49s\tremaining: 1.58s\n",
            "740:\tlearn: 0.0609769\ttotal: 4.49s\tremaining: 1.57s\n",
            "741:\tlearn: 0.0609255\ttotal: 4.5s\tremaining: 1.56s\n",
            "742:\tlearn: 0.0608992\ttotal: 4.51s\tremaining: 1.56s\n",
            "743:\tlearn: 0.0608851\ttotal: 4.53s\tremaining: 1.56s\n",
            "744:\tlearn: 0.0608702\ttotal: 4.54s\tremaining: 1.55s\n",
            "745:\tlearn: 0.0608388\ttotal: 4.54s\tremaining: 1.55s\n",
            "746:\tlearn: 0.0608152\ttotal: 4.55s\tremaining: 1.54s\n",
            "747:\tlearn: 0.0608080\ttotal: 4.57s\tremaining: 1.54s\n",
            "748:\tlearn: 0.0607663\ttotal: 4.58s\tremaining: 1.53s\n",
            "749:\tlearn: 0.0607271\ttotal: 4.59s\tremaining: 1.53s\n",
            "750:\tlearn: 0.0607202\ttotal: 4.59s\tremaining: 1.52s\n",
            "751:\tlearn: 0.0606828\ttotal: 4.6s\tremaining: 1.52s\n",
            "752:\tlearn: 0.0606746\ttotal: 4.61s\tremaining: 1.51s\n",
            "753:\tlearn: 0.0606690\ttotal: 4.63s\tremaining: 1.51s\n",
            "754:\tlearn: 0.0606319\ttotal: 4.64s\tremaining: 1.5s\n",
            "755:\tlearn: 0.0606130\ttotal: 4.64s\tremaining: 1.5s\n",
            "756:\tlearn: 0.0605948\ttotal: 4.65s\tremaining: 1.49s\n",
            "757:\tlearn: 0.0605885\ttotal: 4.66s\tremaining: 1.49s\n",
            "758:\tlearn: 0.0605726\ttotal: 4.66s\tremaining: 1.48s\n",
            "759:\tlearn: 0.0605588\ttotal: 4.67s\tremaining: 1.48s\n",
            "760:\tlearn: 0.0605423\ttotal: 4.68s\tremaining: 1.47s\n",
            "761:\tlearn: 0.0605195\ttotal: 4.68s\tremaining: 1.46s\n",
            "762:\tlearn: 0.0604720\ttotal: 4.69s\tremaining: 1.46s\n",
            "763:\tlearn: 0.0604589\ttotal: 4.7s\tremaining: 1.45s\n",
            "764:\tlearn: 0.0604264\ttotal: 4.71s\tremaining: 1.45s\n",
            "765:\tlearn: 0.0604072\ttotal: 4.71s\tremaining: 1.44s\n",
            "766:\tlearn: 0.0603949\ttotal: 4.72s\tremaining: 1.43s\n",
            "767:\tlearn: 0.0603789\ttotal: 4.73s\tremaining: 1.43s\n",
            "768:\tlearn: 0.0603427\ttotal: 4.74s\tremaining: 1.42s\n",
            "769:\tlearn: 0.0603246\ttotal: 4.75s\tremaining: 1.42s\n",
            "770:\tlearn: 0.0602886\ttotal: 4.76s\tremaining: 1.41s\n",
            "771:\tlearn: 0.0602764\ttotal: 4.77s\tremaining: 1.41s\n",
            "772:\tlearn: 0.0602620\ttotal: 4.78s\tremaining: 1.4s\n",
            "773:\tlearn: 0.0602362\ttotal: 4.78s\tremaining: 1.4s\n",
            "774:\tlearn: 0.0602078\ttotal: 4.79s\tremaining: 1.39s\n",
            "775:\tlearn: 0.0602000\ttotal: 4.79s\tremaining: 1.38s\n",
            "776:\tlearn: 0.0601863\ttotal: 4.8s\tremaining: 1.38s\n",
            "777:\tlearn: 0.0601763\ttotal: 4.81s\tremaining: 1.37s\n",
            "778:\tlearn: 0.0601466\ttotal: 4.81s\tremaining: 1.36s\n",
            "779:\tlearn: 0.0601175\ttotal: 4.82s\tremaining: 1.36s\n",
            "780:\tlearn: 0.0601101\ttotal: 4.83s\tremaining: 1.35s\n",
            "781:\tlearn: 0.0600823\ttotal: 4.83s\tremaining: 1.35s\n",
            "782:\tlearn: 0.0600721\ttotal: 4.84s\tremaining: 1.34s\n",
            "783:\tlearn: 0.0600531\ttotal: 4.84s\tremaining: 1.33s\n",
            "784:\tlearn: 0.0600281\ttotal: 4.85s\tremaining: 1.33s\n",
            "785:\tlearn: 0.0599982\ttotal: 4.86s\tremaining: 1.32s\n",
            "786:\tlearn: 0.0599720\ttotal: 4.87s\tremaining: 1.32s\n",
            "787:\tlearn: 0.0599616\ttotal: 4.87s\tremaining: 1.31s\n",
            "788:\tlearn: 0.0599547\ttotal: 4.88s\tremaining: 1.3s\n",
            "789:\tlearn: 0.0599302\ttotal: 4.89s\tremaining: 1.3s\n",
            "790:\tlearn: 0.0598993\ttotal: 4.89s\tremaining: 1.29s\n",
            "791:\tlearn: 0.0598597\ttotal: 4.91s\tremaining: 1.29s\n",
            "792:\tlearn: 0.0598282\ttotal: 4.91s\tremaining: 1.28s\n",
            "793:\tlearn: 0.0597946\ttotal: 4.92s\tremaining: 1.28s\n",
            "794:\tlearn: 0.0597509\ttotal: 4.93s\tremaining: 1.27s\n",
            "795:\tlearn: 0.0597267\ttotal: 4.94s\tremaining: 1.27s\n",
            "796:\tlearn: 0.0596950\ttotal: 4.96s\tremaining: 1.26s\n",
            "797:\tlearn: 0.0596616\ttotal: 4.97s\tremaining: 1.26s\n",
            "798:\tlearn: 0.0596324\ttotal: 4.98s\tremaining: 1.25s\n",
            "799:\tlearn: 0.0596202\ttotal: 4.99s\tremaining: 1.25s\n",
            "800:\tlearn: 0.0596096\ttotal: 4.99s\tremaining: 1.24s\n",
            "801:\tlearn: 0.0595969\ttotal: 5s\tremaining: 1.24s\n",
            "802:\tlearn: 0.0595740\ttotal: 5.02s\tremaining: 1.23s\n",
            "803:\tlearn: 0.0594988\ttotal: 5.03s\tremaining: 1.23s\n",
            "804:\tlearn: 0.0594695\ttotal: 5.03s\tremaining: 1.22s\n",
            "805:\tlearn: 0.0594300\ttotal: 5.04s\tremaining: 1.21s\n",
            "806:\tlearn: 0.0593852\ttotal: 5.06s\tremaining: 1.21s\n",
            "807:\tlearn: 0.0593766\ttotal: 5.07s\tremaining: 1.2s\n",
            "808:\tlearn: 0.0593274\ttotal: 5.08s\tremaining: 1.2s\n",
            "809:\tlearn: 0.0593189\ttotal: 5.08s\tremaining: 1.19s\n",
            "810:\tlearn: 0.0593062\ttotal: 5.09s\tremaining: 1.19s\n",
            "811:\tlearn: 0.0592973\ttotal: 5.1s\tremaining: 1.18s\n",
            "812:\tlearn: 0.0592586\ttotal: 5.11s\tremaining: 1.17s\n",
            "813:\tlearn: 0.0592453\ttotal: 5.11s\tremaining: 1.17s\n",
            "814:\tlearn: 0.0592201\ttotal: 5.13s\tremaining: 1.16s\n",
            "815:\tlearn: 0.0592118\ttotal: 5.14s\tremaining: 1.16s\n",
            "816:\tlearn: 0.0591908\ttotal: 5.14s\tremaining: 1.15s\n",
            "817:\tlearn: 0.0591633\ttotal: 5.15s\tremaining: 1.15s\n",
            "818:\tlearn: 0.0591241\ttotal: 5.16s\tremaining: 1.14s\n",
            "819:\tlearn: 0.0590961\ttotal: 5.16s\tremaining: 1.13s\n",
            "820:\tlearn: 0.0590617\ttotal: 5.17s\tremaining: 1.13s\n",
            "821:\tlearn: 0.0590452\ttotal: 5.18s\tremaining: 1.12s\n",
            "822:\tlearn: 0.0590194\ttotal: 5.19s\tremaining: 1.11s\n",
            "823:\tlearn: 0.0590046\ttotal: 5.19s\tremaining: 1.11s\n",
            "824:\tlearn: 0.0589837\ttotal: 5.2s\tremaining: 1.1s\n",
            "825:\tlearn: 0.0589602\ttotal: 5.21s\tremaining: 1.1s\n",
            "826:\tlearn: 0.0589468\ttotal: 5.22s\tremaining: 1.09s\n",
            "827:\tlearn: 0.0589361\ttotal: 5.23s\tremaining: 1.09s\n",
            "828:\tlearn: 0.0589125\ttotal: 5.24s\tremaining: 1.08s\n",
            "829:\tlearn: 0.0588912\ttotal: 5.25s\tremaining: 1.08s\n",
            "830:\tlearn: 0.0588708\ttotal: 5.26s\tremaining: 1.07s\n",
            "831:\tlearn: 0.0588330\ttotal: 5.27s\tremaining: 1.06s\n",
            "832:\tlearn: 0.0587753\ttotal: 5.28s\tremaining: 1.06s\n",
            "833:\tlearn: 0.0587436\ttotal: 5.28s\tremaining: 1.05s\n",
            "834:\tlearn: 0.0587208\ttotal: 5.29s\tremaining: 1.04s\n",
            "835:\tlearn: 0.0587032\ttotal: 5.3s\tremaining: 1.04s\n",
            "836:\tlearn: 0.0586827\ttotal: 5.3s\tremaining: 1.03s\n",
            "837:\tlearn: 0.0586751\ttotal: 5.31s\tremaining: 1.03s\n",
            "838:\tlearn: 0.0586643\ttotal: 5.32s\tremaining: 1.02s\n",
            "839:\tlearn: 0.0586542\ttotal: 5.33s\tremaining: 1.01s\n",
            "840:\tlearn: 0.0586289\ttotal: 5.34s\tremaining: 1.01s\n",
            "841:\tlearn: 0.0586186\ttotal: 5.34s\tremaining: 1s\n",
            "842:\tlearn: 0.0585990\ttotal: 5.35s\tremaining: 997ms\n",
            "843:\tlearn: 0.0585776\ttotal: 5.36s\tremaining: 990ms\n",
            "844:\tlearn: 0.0585464\ttotal: 5.37s\tremaining: 984ms\n",
            "845:\tlearn: 0.0585240\ttotal: 5.38s\tremaining: 979ms\n",
            "846:\tlearn: 0.0585083\ttotal: 5.38s\tremaining: 972ms\n",
            "847:\tlearn: 0.0584967\ttotal: 5.39s\tremaining: 966ms\n",
            "848:\tlearn: 0.0584894\ttotal: 5.4s\tremaining: 961ms\n",
            "849:\tlearn: 0.0584767\ttotal: 5.41s\tremaining: 954ms\n",
            "850:\tlearn: 0.0584409\ttotal: 5.42s\tremaining: 948ms\n",
            "851:\tlearn: 0.0584190\ttotal: 5.42s\tremaining: 942ms\n",
            "852:\tlearn: 0.0584073\ttotal: 5.43s\tremaining: 936ms\n",
            "853:\tlearn: 0.0584003\ttotal: 5.43s\tremaining: 929ms\n",
            "854:\tlearn: 0.0583835\ttotal: 5.44s\tremaining: 923ms\n",
            "855:\tlearn: 0.0583763\ttotal: 5.45s\tremaining: 916ms\n",
            "856:\tlearn: 0.0583554\ttotal: 5.45s\tremaining: 910ms\n",
            "857:\tlearn: 0.0583456\ttotal: 5.46s\tremaining: 904ms\n",
            "858:\tlearn: 0.0583317\ttotal: 5.47s\tremaining: 898ms\n",
            "859:\tlearn: 0.0583247\ttotal: 5.48s\tremaining: 892ms\n",
            "860:\tlearn: 0.0583142\ttotal: 5.49s\tremaining: 886ms\n",
            "861:\tlearn: 0.0582984\ttotal: 5.49s\tremaining: 879ms\n",
            "862:\tlearn: 0.0582636\ttotal: 5.5s\tremaining: 873ms\n",
            "863:\tlearn: 0.0581851\ttotal: 5.51s\tremaining: 867ms\n",
            "864:\tlearn: 0.0581379\ttotal: 5.51s\tremaining: 861ms\n",
            "865:\tlearn: 0.0581318\ttotal: 5.53s\tremaining: 855ms\n",
            "866:\tlearn: 0.0581138\ttotal: 5.53s\tremaining: 849ms\n",
            "867:\tlearn: 0.0580579\ttotal: 5.54s\tremaining: 843ms\n",
            "868:\tlearn: 0.0580413\ttotal: 5.55s\tremaining: 837ms\n",
            "869:\tlearn: 0.0580122\ttotal: 5.56s\tremaining: 830ms\n",
            "870:\tlearn: 0.0580001\ttotal: 5.56s\tremaining: 824ms\n",
            "871:\tlearn: 0.0579728\ttotal: 5.57s\tremaining: 818ms\n",
            "872:\tlearn: 0.0579472\ttotal: 5.58s\tremaining: 811ms\n",
            "873:\tlearn: 0.0579322\ttotal: 5.58s\tremaining: 805ms\n",
            "874:\tlearn: 0.0578932\ttotal: 5.59s\tremaining: 799ms\n",
            "875:\tlearn: 0.0578650\ttotal: 5.6s\tremaining: 792ms\n",
            "876:\tlearn: 0.0578361\ttotal: 5.6s\tremaining: 786ms\n",
            "877:\tlearn: 0.0578228\ttotal: 5.61s\tremaining: 780ms\n",
            "878:\tlearn: 0.0577903\ttotal: 5.62s\tremaining: 773ms\n",
            "879:\tlearn: 0.0577780\ttotal: 5.62s\tremaining: 767ms\n",
            "880:\tlearn: 0.0577679\ttotal: 5.63s\tremaining: 760ms\n",
            "881:\tlearn: 0.0577620\ttotal: 5.63s\tremaining: 754ms\n",
            "882:\tlearn: 0.0577315\ttotal: 5.64s\tremaining: 748ms\n",
            "883:\tlearn: 0.0577271\ttotal: 5.65s\tremaining: 741ms\n",
            "884:\tlearn: 0.0577134\ttotal: 5.66s\tremaining: 736ms\n",
            "885:\tlearn: 0.0577065\ttotal: 5.67s\tremaining: 729ms\n",
            "886:\tlearn: 0.0576940\ttotal: 5.67s\tremaining: 723ms\n",
            "887:\tlearn: 0.0576704\ttotal: 5.68s\tremaining: 717ms\n",
            "888:\tlearn: 0.0576579\ttotal: 5.69s\tremaining: 710ms\n",
            "889:\tlearn: 0.0576474\ttotal: 5.7s\tremaining: 704ms\n",
            "890:\tlearn: 0.0576379\ttotal: 5.7s\tremaining: 698ms\n",
            "891:\tlearn: 0.0576106\ttotal: 5.71s\tremaining: 692ms\n",
            "892:\tlearn: 0.0575967\ttotal: 5.73s\tremaining: 686ms\n",
            "893:\tlearn: 0.0575704\ttotal: 5.74s\tremaining: 680ms\n",
            "894:\tlearn: 0.0575649\ttotal: 5.74s\tremaining: 674ms\n",
            "895:\tlearn: 0.0575174\ttotal: 5.75s\tremaining: 667ms\n",
            "896:\tlearn: 0.0574994\ttotal: 5.75s\tremaining: 661ms\n",
            "897:\tlearn: 0.0574943\ttotal: 5.76s\tremaining: 654ms\n",
            "898:\tlearn: 0.0574862\ttotal: 5.78s\tremaining: 649ms\n",
            "899:\tlearn: 0.0574720\ttotal: 5.79s\tremaining: 643ms\n",
            "900:\tlearn: 0.0574670\ttotal: 5.79s\tremaining: 637ms\n",
            "901:\tlearn: 0.0573617\ttotal: 5.8s\tremaining: 630ms\n",
            "902:\tlearn: 0.0573321\ttotal: 5.8s\tremaining: 624ms\n",
            "903:\tlearn: 0.0573029\ttotal: 5.81s\tremaining: 617ms\n",
            "904:\tlearn: 0.0572795\ttotal: 5.82s\tremaining: 611ms\n",
            "905:\tlearn: 0.0572558\ttotal: 5.83s\tremaining: 605ms\n",
            "906:\tlearn: 0.0572391\ttotal: 5.84s\tremaining: 598ms\n",
            "907:\tlearn: 0.0572320\ttotal: 5.85s\tremaining: 593ms\n",
            "908:\tlearn: 0.0571854\ttotal: 5.86s\tremaining: 586ms\n",
            "909:\tlearn: 0.0571572\ttotal: 5.86s\tremaining: 580ms\n",
            "910:\tlearn: 0.0571520\ttotal: 5.87s\tremaining: 574ms\n",
            "911:\tlearn: 0.0571460\ttotal: 5.88s\tremaining: 567ms\n",
            "912:\tlearn: 0.0571188\ttotal: 5.88s\tremaining: 561ms\n",
            "913:\tlearn: 0.0570929\ttotal: 5.89s\tremaining: 554ms\n",
            "914:\tlearn: 0.0570237\ttotal: 5.9s\tremaining: 548ms\n",
            "915:\tlearn: 0.0569973\ttotal: 5.91s\tremaining: 542ms\n",
            "916:\tlearn: 0.0569780\ttotal: 5.91s\tremaining: 535ms\n",
            "917:\tlearn: 0.0569631\ttotal: 5.92s\tremaining: 529ms\n",
            "918:\tlearn: 0.0569581\ttotal: 5.93s\tremaining: 523ms\n",
            "919:\tlearn: 0.0569184\ttotal: 5.93s\tremaining: 516ms\n",
            "920:\tlearn: 0.0569014\ttotal: 5.94s\tremaining: 510ms\n",
            "921:\tlearn: 0.0568763\ttotal: 5.95s\tremaining: 503ms\n",
            "922:\tlearn: 0.0568586\ttotal: 5.96s\tremaining: 497ms\n",
            "923:\tlearn: 0.0568504\ttotal: 5.97s\tremaining: 491ms\n",
            "924:\tlearn: 0.0567866\ttotal: 5.99s\tremaining: 485ms\n",
            "925:\tlearn: 0.0567755\ttotal: 5.99s\tremaining: 479ms\n",
            "926:\tlearn: 0.0567710\ttotal: 6s\tremaining: 472ms\n",
            "927:\tlearn: 0.0567609\ttotal: 6.01s\tremaining: 466ms\n",
            "928:\tlearn: 0.0567387\ttotal: 6.01s\tremaining: 460ms\n",
            "929:\tlearn: 0.0567298\ttotal: 6.02s\tremaining: 453ms\n",
            "930:\tlearn: 0.0567126\ttotal: 6.03s\tremaining: 447ms\n",
            "931:\tlearn: 0.0566909\ttotal: 6.04s\tremaining: 441ms\n",
            "932:\tlearn: 0.0566658\ttotal: 6.05s\tremaining: 435ms\n",
            "933:\tlearn: 0.0566424\ttotal: 6.06s\tremaining: 428ms\n",
            "934:\tlearn: 0.0566355\ttotal: 6.07s\tremaining: 422ms\n",
            "935:\tlearn: 0.0566053\ttotal: 6.07s\tremaining: 415ms\n",
            "936:\tlearn: 0.0566015\ttotal: 6.08s\tremaining: 409ms\n",
            "937:\tlearn: 0.0565835\ttotal: 6.09s\tremaining: 402ms\n",
            "938:\tlearn: 0.0565487\ttotal: 6.09s\tremaining: 396ms\n",
            "939:\tlearn: 0.0565364\ttotal: 6.1s\tremaining: 389ms\n",
            "940:\tlearn: 0.0565271\ttotal: 6.11s\tremaining: 383ms\n",
            "941:\tlearn: 0.0565180\ttotal: 6.11s\tremaining: 376ms\n",
            "942:\tlearn: 0.0564977\ttotal: 6.12s\tremaining: 370ms\n",
            "943:\tlearn: 0.0564844\ttotal: 6.13s\tremaining: 363ms\n",
            "944:\tlearn: 0.0564779\ttotal: 6.13s\tremaining: 357ms\n",
            "945:\tlearn: 0.0564453\ttotal: 6.14s\tremaining: 351ms\n",
            "946:\tlearn: 0.0564212\ttotal: 6.15s\tremaining: 344ms\n",
            "947:\tlearn: 0.0563741\ttotal: 6.16s\tremaining: 338ms\n",
            "948:\tlearn: 0.0563492\ttotal: 6.17s\tremaining: 331ms\n",
            "949:\tlearn: 0.0563360\ttotal: 6.18s\tremaining: 325ms\n",
            "950:\tlearn: 0.0563296\ttotal: 6.21s\tremaining: 320ms\n",
            "951:\tlearn: 0.0563123\ttotal: 6.22s\tremaining: 314ms\n",
            "952:\tlearn: 0.0562858\ttotal: 6.23s\tremaining: 307ms\n",
            "953:\tlearn: 0.0562705\ttotal: 6.24s\tremaining: 301ms\n",
            "954:\tlearn: 0.0562661\ttotal: 6.24s\tremaining: 294ms\n",
            "955:\tlearn: 0.0562492\ttotal: 6.25s\tremaining: 288ms\n",
            "956:\tlearn: 0.0562302\ttotal: 6.26s\tremaining: 281ms\n",
            "957:\tlearn: 0.0562231\ttotal: 6.26s\tremaining: 275ms\n",
            "958:\tlearn: 0.0562107\ttotal: 6.27s\tremaining: 268ms\n",
            "959:\tlearn: 0.0562024\ttotal: 6.28s\tremaining: 261ms\n",
            "960:\tlearn: 0.0561598\ttotal: 6.28s\tremaining: 255ms\n",
            "961:\tlearn: 0.0561458\ttotal: 6.29s\tremaining: 248ms\n",
            "962:\tlearn: 0.0561098\ttotal: 6.3s\tremaining: 242ms\n",
            "963:\tlearn: 0.0560880\ttotal: 6.3s\tremaining: 235ms\n",
            "964:\tlearn: 0.0560820\ttotal: 6.31s\tremaining: 229ms\n",
            "965:\tlearn: 0.0560711\ttotal: 6.32s\tremaining: 223ms\n",
            "966:\tlearn: 0.0560627\ttotal: 6.33s\tremaining: 216ms\n",
            "967:\tlearn: 0.0560435\ttotal: 6.34s\tremaining: 210ms\n",
            "968:\tlearn: 0.0560201\ttotal: 6.34s\tremaining: 203ms\n",
            "969:\tlearn: 0.0560038\ttotal: 6.35s\tremaining: 196ms\n",
            "970:\tlearn: 0.0559835\ttotal: 6.36s\tremaining: 190ms\n",
            "971:\tlearn: 0.0559815\ttotal: 6.36s\tremaining: 183ms\n",
            "972:\tlearn: 0.0559697\ttotal: 6.37s\tremaining: 177ms\n",
            "973:\tlearn: 0.0559311\ttotal: 6.38s\tremaining: 170ms\n",
            "974:\tlearn: 0.0559047\ttotal: 6.39s\tremaining: 164ms\n",
            "975:\tlearn: 0.0558933\ttotal: 6.4s\tremaining: 157ms\n",
            "976:\tlearn: 0.0558894\ttotal: 6.41s\tremaining: 151ms\n",
            "977:\tlearn: 0.0558733\ttotal: 6.41s\tremaining: 144ms\n",
            "978:\tlearn: 0.0558064\ttotal: 6.42s\tremaining: 138ms\n",
            "979:\tlearn: 0.0557995\ttotal: 6.43s\tremaining: 131ms\n",
            "980:\tlearn: 0.0557469\ttotal: 6.43s\tremaining: 125ms\n",
            "981:\tlearn: 0.0557040\ttotal: 6.44s\tremaining: 118ms\n",
            "982:\tlearn: 0.0556758\ttotal: 6.45s\tremaining: 111ms\n",
            "983:\tlearn: 0.0556496\ttotal: 6.45s\tremaining: 105ms\n",
            "984:\tlearn: 0.0556384\ttotal: 6.46s\tremaining: 98.3ms\n",
            "985:\tlearn: 0.0556118\ttotal: 6.46s\tremaining: 91.8ms\n",
            "986:\tlearn: 0.0555966\ttotal: 6.48s\tremaining: 85.3ms\n",
            "987:\tlearn: 0.0555892\ttotal: 6.49s\tremaining: 78.8ms\n",
            "988:\tlearn: 0.0555836\ttotal: 6.5s\tremaining: 72.3ms\n",
            "989:\tlearn: 0.0555652\ttotal: 6.5s\tremaining: 65.7ms\n",
            "990:\tlearn: 0.0555453\ttotal: 6.51s\tremaining: 59.1ms\n",
            "991:\tlearn: 0.0555391\ttotal: 6.52s\tremaining: 52.6ms\n",
            "992:\tlearn: 0.0555096\ttotal: 6.53s\tremaining: 46ms\n",
            "993:\tlearn: 0.0554828\ttotal: 6.54s\tremaining: 39.4ms\n",
            "994:\tlearn: 0.0554607\ttotal: 6.54s\tremaining: 32.9ms\n",
            "995:\tlearn: 0.0554466\ttotal: 6.55s\tremaining: 26.3ms\n",
            "996:\tlearn: 0.0554302\ttotal: 6.55s\tremaining: 19.7ms\n",
            "997:\tlearn: 0.0554160\ttotal: 6.56s\tremaining: 13.2ms\n",
            "998:\tlearn: 0.0554023\ttotal: 6.57s\tremaining: 6.58ms\n",
            "999:\tlearn: 0.0553914\ttotal: 6.58s\tremaining: 0us\n",
            "              precision    recall  f1-score   support\n",
            "\n",
            "           0       0.96      1.00      0.98     10294\n",
            "           1       0.94      0.56      0.70       897\n",
            "\n",
            "    accuracy                           0.96     11191\n",
            "   macro avg       0.95      0.78      0.84     11191\n",
            "weighted avg       0.96      0.96      0.96     11191\n",
            "\n"
          ]
        }
      ]
    },
    {
      "cell_type": "code",
      "source": [
        "from sklearn.metrics import f1_score,roc_auc_score\n",
        "print(f1_score(y_inf, y_pred)) \n",
        "print(roc_auc_score(y_inf, y_pred))"
      ],
      "metadata": {
        "colab": {
          "base_uri": "https://localhost:8080/"
        },
        "id": "vgx-XAo1rb4-",
        "outputId": "3bc824cf-6287-41d4-9f76-65093b22b205"
      },
      "execution_count": null,
      "outputs": [
        {
          "output_type": "stream",
          "name": "stdout",
          "text": [
            "0.6974789915966385\n",
            "0.7759890977827133\n"
          ]
        }
      ]
    },
    {
      "cell_type": "markdown",
      "source": [
        "## Credit card fraud transaction detect model 성능 예측 실험"
      ],
      "metadata": {
        "id": "gLNp28C6eM7-"
      }
    },
    {
      "cell_type": "code",
      "source": [
        "df1 = df[df['Year'] >= 2008]\n",
        "df2 = df1[df1['Year'] <= 2009]\n",
        "\n",
        "X_test2 = df2[df2['Year'] >= 2008].drop(drop_columns,axis=1)\n",
        "y_test2 = df2[df2['Year'] >= 2008]['Is Fraud?']"
      ],
      "metadata": {
        "id": "6Uc9moWFNImG"
      },
      "execution_count": null,
      "outputs": []
    },
    {
      "cell_type": "code",
      "source": [
        "y_pred=cat.predict(x_inf)\n",
        "print(classification_report(y_inf, y_pred))  \n",
        "\n",
        "base_score = precision_recall_fscore_support(y_inf, y_pred,average='binary')"
      ],
      "metadata": {
        "colab": {
          "base_uri": "https://localhost:8080/"
        },
        "id": "RyMGCVv9NU-Y",
        "outputId": "ce8d34b6-b287-45e5-fc14-f149eb932037"
      },
      "execution_count": null,
      "outputs": [
        {
          "output_type": "stream",
          "name": "stdout",
          "text": [
            "              precision    recall  f1-score   support\n",
            "\n",
            "           0       0.96      1.00      0.98     10294\n",
            "           1       0.94      0.56      0.70       897\n",
            "\n",
            "    accuracy                           0.96     11191\n",
            "   macro avg       0.95      0.78      0.84     11191\n",
            "weighted avg       0.96      0.96      0.96     11191\n",
            "\n"
          ]
        }
      ]
    },
    {
      "cell_type": "code",
      "source": [
        "base_score"
      ],
      "metadata": {
        "colab": {
          "base_uri": "https://localhost:8080/"
        },
        "id": "5pDJryBHwnJe",
        "outputId": "d986ef3e-4c86-4b8a-9aa6-ff74d382eec4"
      },
      "execution_count": null,
      "outputs": [
        {
          "output_type": "execute_result",
          "data": {
            "text/plain": [
              "(0.9378531073446328, 0.5551839464882943, 0.6974789915966385, None)"
            ]
          },
          "metadata": {},
          "execution_count": 84
        }
      ]
    },
    {
      "cell_type": "code",
      "source": [
        "\n",
        "print(\"trainset:\",X.shape)\n",
        "print(\"online dataset:\",X_test2.shape)"
      ],
      "metadata": {
        "colab": {
          "base_uri": "https://localhost:8080/"
        },
        "id": "pwlej8B4Pgca",
        "outputId": "b6ad60af-59b2-4606-f77c-7a3054da1f7a"
      },
      "execution_count": null,
      "outputs": [
        {
          "output_type": "stream",
          "name": "stdout",
          "text": [
            "trainset: (37301, 8)\n",
            "online dataset: (90836, 8)\n"
          ]
        }
      ]
    },
    {
      "cell_type": "code",
      "source": [
        "COLUMNS = X.columns"
      ],
      "metadata": {
        "id": "lbnUKr2Ik3t7"
      },
      "execution_count": null,
      "outputs": []
    },
    {
      "cell_type": "code",
      "source": [
        "COLUMNS"
      ],
      "metadata": {
        "colab": {
          "base_uri": "https://localhost:8080/"
        },
        "id": "ZWVBemF9k_61",
        "outputId": "aca7a53a-f1db-41db-81c1-bf7fbaf5d85d"
      },
      "execution_count": null,
      "outputs": [
        {
          "output_type": "execute_result",
          "data": {
            "text/plain": [
              "Index(['Card', 'Amount', 'Use Chip', 'MCC', 'is online', 'Hour', 'is vozmes',\n",
              "       'abs_amount'],\n",
              "      dtype='object')"
            ]
          },
          "metadata": {},
          "execution_count": 87
        }
      ]
    },
    {
      "cell_type": "code",
      "source": [
        "importances = cat.feature_importances_"
      ],
      "metadata": {
        "id": "SZPjlF2SlBiv"
      },
      "execution_count": null,
      "outputs": []
    },
    {
      "cell_type": "markdown",
      "source": [
        "### Error chart"
      ],
      "metadata": {
        "id": "QILSbU7wYRCd"
      }
    },
    {
      "cell_type": "code",
      "source": [
        "error_df = pd.DataFrame(erdic)\n",
        "error_df[['Exp#2.1','Exp#2.7','Exp#2.13']].plot(legend=True, figsize=(8,8))\n",
        "#error_df.plot(legend=True, figsize=(20,5))"
      ],
      "metadata": {
        "colab": {
          "base_uri": "https://localhost:8080/",
          "height": 501
        },
        "id": "YhnLjMthP_xi",
        "outputId": "5822a590-3525-43ac-802a-04d21c17d53c"
      },
      "execution_count": null,
      "outputs": [
        {
          "output_type": "execute_result",
          "data": {
            "text/plain": [
              "<matplotlib.axes._subplots.AxesSubplot at 0x7f330ddaea50>"
            ]
          },
          "metadata": {},
          "execution_count": 113
        },
        {
          "output_type": "display_data",
          "data": {
            "text/plain": [
              "<Figure size 576x576 with 1 Axes>"
            ],
            "image/png": "[encoded data removed]"
          },
          "metadata": {
            "needs_background": "light"
          }
        }
      ]
    }
  ]
}