{
  "nbformat": 4,
  "nbformat_minor": 0,
  "metadata": {
    "colab": {
      "name": "Untitled16.ipynb",
      "provenance": [],
      "machine_shape": "hm",
      "authorship_tag": "ABX9TyP/ufmYJy0bkSOU8R/Jsa2b",
      "include_colab_link": true
    },
    "kernelspec": {
      "name": "python3",
      "display_name": "Python 3"
    },
    "language_info": {
      "name": "python"
    },
    "accelerator": "GPU",
    "gpuClass": "standard"
  },
  "cells": [
    {
      "cell_type": "markdown",
      "metadata": {
        "id": "view-in-github",
        "colab_type": "text"
      },
      "source": [
        "<a href=\"https://colab.research.google.com/github/dolmani38/drift/blob/main/MMD_0802.ipynb\" target=\"_parent\"><img src=\"https://colab.research.google.com/assets/colab-badge.svg\" alt=\"Open In Colab\"/></a>"
      ]
    },
    {
      "cell_type": "code",
      "execution_count": 1,
      "metadata": {
        "colab": {
          "base_uri": "https://localhost:8080/"
        },
        "id": "5yxnIq6yrdJM",
        "outputId": "4ebe8198-b3be-4e99-f5c7-78675896b7bd"
      },
      "outputs": [
        {
          "output_type": "stream",
          "name": "stdout",
          "text": [
            "Mounted at /content/drive\n"
          ]
        }
      ],
      "source": [
        "if True:\n",
        "    from google.colab import drive\n",
        "    drive.mount('/content/drive')"
      ]
    },
    {
      "cell_type": "code",
      "source": [
        "import os\n",
        "\n",
        "import pandas as pd\n",
        "import numpy as np\n",
        "import matplotlib.pyplot as plt\n",
        "import seaborn as sns\n",
        "from sklearn.model_selection import train_test_split\n",
        "from sklearn.preprocessing import MinMaxScaler\n",
        "from sklearn.preprocessing import StandardScaler\n",
        "from sklearn.metrics import classification_report, confusion_matrix, accuracy_score\n",
        "import tensorflow as tf\n",
        "from tensorflow.keras.models import Sequential\n",
        "from tensorflow.keras.layers import Dense, Dropout\n",
        "import random\n",
        "np.random.seed(1337)"
      ],
      "metadata": {
        "id": "fcgs9kqBrohz"
      },
      "execution_count": 2,
      "outputs": []
    },
    {
      "cell_type": "code",
      "source": [
        "def seed_everything(seed: int = 46):\n",
        "    random.seed(seed)\n",
        "    np.random.seed(seed)\n",
        "    os.environ[\"PYTHONHASHSEED\"] = str(seed)\n",
        "    tf.random.set_seed(seed)"
      ],
      "metadata": {
        "id": "Fe6PfKOHrqfi"
      },
      "execution_count": 7,
      "outputs": []
    },
    {
      "cell_type": "code",
      "source": [
        "df_accepted = pd.read_csv(\"/content/drive/MyDrive/Drift/accepted_2007_to_2018Q4.csv\")\n",
        "\n",
        "print(df_accepted.shape)"
      ],
      "metadata": {
        "colab": {
          "base_uri": "https://localhost:8080/"
        },
        "id": "K3jy8Uqtrtbt",
        "outputId": "b1b5f4f0-1e69-49dd-db26-ac73f57ce23d"
      },
      "execution_count": 3,
      "outputs": [
        {
          "output_type": "stream",
          "name": "stderr",
          "text": [
            "/usr/local/lib/python3.7/dist-packages/IPython/core/interactiveshell.py:2882: DtypeWarning: Columns (0,19,49,59,118,129,130,131,134,135,136,139,145,146,147) have mixed types.Specify dtype option on import or set low_memory=False.\n",
            "  exec(code_obj, self.user_global_ns, self.user_ns)\n"
          ]
        },
        {
          "output_type": "stream",
          "name": "stdout",
          "text": [
            "(2260701, 151)\n"
          ]
        }
      ]
    },
    {
      "cell_type": "code",
      "source": [
        "df_accepted = df_accepted[df_accepted.loan_status.isin(['Fully Paid', 'Charged Off'])]\n",
        "cols_to_drop = df_accepted.isnull().sum().sort_values(ascending=False).head(50).index\n",
        "df_accepted = df_accepted.drop(columns=cols_to_drop)\n",
        "\n",
        "cols_to_drop = df_accepted.isnull().sum().sort_values(ascending=False).head(45).index\n",
        "df_accepted = df_accepted.drop(columns=cols_to_drop)\n",
        "\n",
        "df_accepted = df_accepted.dropna()\n",
        "\n",
        "cols_to_drop = ['out_prncp', 'out_prncp_inv', 'policy_code']\n",
        "df_accepted = df_accepted.drop(columns=cols_to_drop)\n",
        "\n",
        "cols_to_drop = ['fico_range_low', 'funded_amnt_inv', 'funded_amnt', 'total_pymnt_inv', 'total_pymnt', 'installment', 'collection_recovery_fee', 'total_rec_prncp', 'last_fico_range_low']\n",
        "df_accepted = df_accepted.drop(columns=cols_to_drop)\n",
        "\n",
        "values = df_accepted.loan_status.unique()\n",
        "encode = [1,0]\n",
        "d = dict(zip(values, encode))\n",
        "\n",
        "df_accepted['loan_paid'] = df_accepted['loan_status'].map(d)\n",
        "\n",
        "df_accepted = df_accepted.drop(columns=['loan_status'])\n",
        "\n",
        "cols_to_drop = ['id', 'pymnt_plan', 'hardship_flag']\n",
        "df_accepted = df_accepted.drop(columns=cols_to_drop)\n",
        "\n",
        "cat_cols = df_accepted.select_dtypes(include=['object']).columns\n",
        "print(cat_cols)\n",
        "\n",
        "print(df_accepted.term.value_counts())\n",
        "\n",
        "# convert term into either a 36 or 60 integer numeric data type\n",
        "\n",
        "l1 = df_accepted.term.unique()\n",
        "l2 = [36, 60]\n",
        "d = dict(zip(l1, l2))\n",
        "\n",
        "df_accepted['term'] = df_accepted['term'].map(d)\n",
        "\n",
        "# as grade is part of sub_grade, so let's just drop the grade feature.\n",
        "\n",
        "df_accepted = df_accepted.drop(columns='grade')\n",
        "\n",
        "df_accepted = pd.get_dummies(df_accepted, columns = ['sub_grade'], prefix='', prefix_sep='', drop_first=True)\n",
        "\n",
        "cat_cols = df_accepted.select_dtypes(include=['object']).columns\n",
        "print(cat_cols)\n",
        "\n",
        "# for these columns, let's just create dummy variables, concatenate them with the original dataframe and drop original columns.\n",
        "\n",
        "df_accepted = pd.get_dummies(df_accepted, columns = ['verification_status'], prefix='', prefix_sep='', drop_first=True)\n",
        "df_accepted = pd.get_dummies(df_accepted, columns = ['application_type'], prefix='', prefix_sep='', drop_first=True)\n",
        "df_accepted = pd.get_dummies(df_accepted, columns = ['initial_list_status'], prefix='', prefix_sep='', drop_first=True)\n",
        "df_accepted = pd.get_dummies(df_accepted, columns = ['purpose'], prefix='', prefix_sep='', drop_first=True)\n",
        "\n",
        "df_accepted['home_ownership'] = df_accepted.home_ownership.replace('NONE', 'ANY')\n",
        "df_accepted = pd.get_dummies(df_accepted, columns = ['home_ownership'], prefix='', prefix_sep='', drop_first=True)\n",
        "df_accepted = df_accepted.drop(columns=[ 'url', 'last_pymnt_d', 'last_credit_pull_d'])\n",
        "df_accepted = df_accepted.drop(columns=['zip_code', 'addr_state'])\n",
        "df_accepted = pd.get_dummies(df_accepted, columns = ['disbursement_method'], prefix='', prefix_sep='', drop_first=True)\n",
        "df_accepted = pd.get_dummies(df_accepted, columns = ['debt_settlement_flag'], prefix='', prefix_sep='', drop_first=True)\n",
        "df_accepted = df_accepted.drop(columns=['earliest_cr_line'])\n",
        "\n",
        "df_accepted['issue_d'] = df_accepted['issue_d'].str.replace('Jan','01')\n",
        "df_accepted['issue_d'] = df_accepted['issue_d'].str.replace('Feb','02')\n",
        "df_accepted['issue_d'] = df_accepted['issue_d'].str.replace('Mar','03')\n",
        "df_accepted['issue_d'] = df_accepted['issue_d'].str.replace('Apr','04')\n",
        "df_accepted['issue_d'] = df_accepted['issue_d'].str.replace('May','05')\n",
        "df_accepted['issue_d'] = df_accepted['issue_d'].str.replace('Jun','06')\n",
        "df_accepted['issue_d'] = df_accepted['issue_d'].str.replace('Jul','07')\n",
        "df_accepted['issue_d'] = df_accepted['issue_d'].str.replace('Aug','08')\n",
        "df_accepted['issue_d'] = df_accepted['issue_d'].str.replace('Sep','09')\n",
        "df_accepted['issue_d'] = df_accepted['issue_d'].str.replace('Oct','10')\n",
        "df_accepted['issue_d'] = df_accepted['issue_d'].str.replace('Dec','11')\n",
        "df_accepted['issue_d'] = df_accepted['issue_d'].str.replace('Nov','12')\n",
        "\n",
        "def reorder_issue_d(dt):\n",
        "    a = dt.split('-')\n",
        "    return a[1]+a[0]\n",
        "\n",
        "reorder_issue_d('01-2009')\n",
        "\n",
        "df_accepted['issue_d'] = df_accepted['issue_d'].apply(reorder_issue_d)\n",
        "df_accepted = df_accepted.sort_values(by='issue_d')\n",
        "df_accepted.reset_index(drop=True, inplace=True)\n",
        "\n",
        "X = {}\n",
        "Y = {}\n",
        "\n",
        "df = df_accepted[df_accepted['issue_d'].str.startswith('2007') + df_accepted['issue_d'].str.startswith('2008') + df_accepted['issue_d'].str.startswith('2009')].copy()\n",
        "df = df.drop(columns=['issue_d'])\n",
        "\n",
        "X[2009] = df.loc[:, df.columns != 'loan_paid'].values\n",
        "Y[2009] = df.loan_paid.values\n",
        "\n",
        "for year in range(2010,2019):\n",
        "    print(year)\n",
        "    df = df_accepted[df_accepted['issue_d'].str.startswith(str(year))].copy()\n",
        "    df = df.drop(columns=['issue_d'])\n",
        "    X[year] = df.loc[:, df.columns != 'loan_paid'].values\n",
        "    Y[year] = df.loan_paid.values\n",
        "\n",
        "COLUMNS = df.loc[:, df.columns != 'loan_paid'].columns\n"
      ],
      "metadata": {
        "colab": {
          "base_uri": "https://localhost:8080/"
        },
        "id": "nC-xZrifrt7l",
        "outputId": "fb45739d-5515-4b4b-9a00-31e6e705eb03"
      },
      "execution_count": 4,
      "outputs": [
        {
          "output_type": "stream",
          "name": "stdout",
          "text": [
            "Index(['term', 'grade', 'sub_grade', 'home_ownership', 'verification_status',\n",
            "       'issue_d', 'url', 'purpose', 'zip_code', 'addr_state',\n",
            "       'earliest_cr_line', 'initial_list_status', 'last_pymnt_d',\n",
            "       'last_credit_pull_d', 'application_type', 'disbursement_method',\n",
            "       'debt_settlement_flag'],\n",
            "      dtype='object')\n",
            " 36 months    1017398\n",
            " 60 months     323628\n",
            "Name: term, dtype: int64\n",
            "Index(['home_ownership', 'verification_status', 'issue_d', 'url', 'purpose',\n",
            "       'zip_code', 'addr_state', 'earliest_cr_line', 'initial_list_status',\n",
            "       'last_pymnt_d', 'last_credit_pull_d', 'application_type',\n",
            "       'disbursement_method', 'debt_settlement_flag'],\n",
            "      dtype='object')\n"
          ]
        },
        {
          "output_type": "stream",
          "name": "stderr",
          "text": [
            "/usr/local/lib/python3.7/dist-packages/pandas/core/computation/expressions.py:215: UserWarning: evaluating in Python space because the '+' operator is not supported by numexpr for the bool dtype, use '|' instead\n",
            "  f\"evaluating in Python space because the {repr(op_str)} \"\n"
          ]
        },
        {
          "output_type": "stream",
          "name": "stdout",
          "text": [
            "2010\n",
            "2011\n",
            "2012\n",
            "2013\n",
            "2014\n",
            "2015\n",
            "2016\n",
            "2017\n",
            "2018\n"
          ]
        }
      ]
    },
    {
      "cell_type": "code",
      "source": [
        "ML = {}\n",
        "scaler = MinMaxScaler()\n",
        "\n",
        "MODEL_TYPE = 'DL'  ## RF / DL\n",
        "\n",
        "def get_one_hot(targets, nb_classes):\n",
        "    res = np.eye(nb_classes)[np.array(targets).reshape(-1)]\n",
        "    return res.reshape(list(targets.shape)+[nb_classes])\n",
        "\n",
        "from sklearn.ensemble import RandomForestClassifier\n",
        "\n",
        "def build_model_rf(year,x,y,epochs=5):\n",
        "    X_train= scaler.fit_transform(x)\n",
        "    y_train = y #get_one_hot(y,2)\n",
        "    model = RandomForestClassifier(n_estimators=80,max_depth=5)\n",
        "    model.fit(X_train,y_train)\n",
        "    return model\n",
        "\n",
        "import os.path \n",
        "\n",
        "def build_model_dl(year,x,y,epochs=100):\n",
        "    #X_train, X_test, y_train, y_test = train_test_split(X[year], Y[year], test_size=0.2, random_state=42)\n",
        "    X_train= scaler.fit_transform(x)\n",
        "    #X_test = scaler.transform(X_test)\n",
        "    y_train = get_one_hot(y,2)\n",
        "\n",
        "    # building the model\n",
        "    model = Sequential()\n",
        "    model.add(Dense(units=78,activation='relu'))\n",
        "    model.add(Dense(units=39,activation='relu'))\n",
        "    model.add(Dense(units=19,activation='relu'))\n",
        "    model.add(Dense(units=8,activation='relu'))\n",
        "    model.add(Dense(units=4,activation='relu'))\n",
        "    model.add(Dense(units=2,activation='softmax'))\n",
        "    model.compile(loss='binary_crossentropy', optimizer='adam', metrics=['accuracy'])\n",
        "    weight_path = '/content/drive/MyDrive/Drift/model/ml_'+str(year)\n",
        "    if os.path.exists(weight_path+'.index'):\n",
        "        model.load_weights(weight_path)\n",
        "        print('load weights from ',weight_path)\n",
        "    else:\n",
        "        model.fit(x=X_train, \n",
        "                y=y_train, \n",
        "                epochs=epochs,\n",
        "                batch_size=512,\n",
        "                verbose=1)\n",
        "            #validation_data=(X_test, y_test), verbose=1)\n",
        "        if year > 2000:\n",
        "            model.save_weights(weight_path) \n",
        "            print('save weights to ',weight_path)\n",
        "    return model"
      ],
      "metadata": {
        "id": "0KtpFOxIsmOM"
      },
      "execution_count": 5,
      "outputs": []
    },
    {
      "cell_type": "code",
      "source": [
        "seed_everything()\n",
        "\n",
        "offset = int(Y[2010].shape[0] * 0.7)\n",
        "y_ref = Y[2010][0:offset]\n",
        "x_ref = X[2010][0:offset]\n",
        "y_inf = Y[2010][offset:]\n",
        "x_inf = X[2010][offset:]\n",
        "\n",
        "ML[2010] = build_model_dl(year,x_ref,y_ref,epochs=1000)\n"
      ],
      "metadata": {
        "colab": {
          "base_uri": "https://localhost:8080/"
        },
        "id": "nde0XiG5ssiq",
        "outputId": "3c465de6-607e-4577-f2ab-c30600954fd5"
      },
      "execution_count": 20,
      "outputs": [
        {
          "output_type": "stream",
          "name": "stdout",
          "text": [
            "load weights from  /content/drive/MyDrive/Drift/model/ml_2018\n"
          ]
        }
      ]
    },
    {
      "cell_type": "code",
      "source": [
        "from sklearn.metrics import precision_recall_fscore_support\n",
        "\n",
        "def predict(x):\n",
        "    return np.asarray([0 if r[0] > 0.5 else 1 for r in ML[2010].predict(scaler.transform(x))])\n",
        "    #return ML[2010].predict(scaler.transform(x))\n",
        "\n",
        "base_score = precision_recall_fscore_support(y_inf, predict(x_inf) ,average='binary')\n",
        "base_score"
      ],
      "metadata": {
        "colab": {
          "base_uri": "https://localhost:8080/"
        },
        "id": "O3nL0F2TzJBN",
        "outputId": "9bce4a3e-b1da-4144-a829-aa4d463fd5c7"
      },
      "execution_count": 24,
      "outputs": [
        {
          "output_type": "execute_result",
          "data": {
            "text/plain": [
              "(0.942577626541897, 0.7345044746436857, 0.8256333830104322, None)"
            ]
          },
          "metadata": {},
          "execution_count": 24
        }
      ]
    },
    {
      "cell_type": "code",
      "source": [
        "# 2010년의 data를 기준으로 그 이후의 data 들...\n",
        "X2 = np.concatenate((X[2011],X[2012],X[2013],X[2014],X[2015],X[2016],X[2017]))\n",
        "Y2 = np.concatenate((Y[2011],Y[2012],Y[2013],Y[2014],Y[2015],Y[2016],Y[2017]))\n",
        "\n",
        "print(\"trainset:\",X[2010].shape)\n",
        "print(\"online dataset:\",X2.shape)"
      ],
      "metadata": {
        "colab": {
          "base_uri": "https://localhost:8080/"
        },
        "id": "mdTrPN59s2FV",
        "outputId": "bb91740e-5cd9-4edd-971f-9a1d7617018d"
      },
      "execution_count": 11,
      "outputs": [
        {
          "output_type": "stream",
          "name": "stdout",
          "text": [
            "trainset: (11497, 81)\n",
            "online dataset: (1268183, 81)\n"
          ]
        }
      ]
    },
    {
      "cell_type": "code",
      "source": [
        "from scipy import stats\n",
        "import sys\n",
        "import math\n",
        "if sys.version_info >= (3, 5):\n",
        "    from math import gcd\n",
        "else:\n",
        "    from fractions import gcd\n",
        "\n",
        "from scipy.stats import ks_2samp, kstest\n",
        "import statsmodels.api as sm # import statsmodels \n",
        "from sklearn.metrics import f1_score\n",
        "from sklearn.metrics import precision_recall_fscore_support\n",
        "import random\n",
        "from statistics import mean\n",
        "from sklearn.metrics import mean_absolute_error\n",
        "from sklearn.metrics import mean_squared_error \n",
        "from sklearn.metrics import mean_absolute_percentage_error\n",
        "from sklearn.metrics import r2_score"
      ],
      "metadata": {
        "colab": {
          "base_uri": "https://localhost:8080/"
        },
        "id": "oCYb0EWsty4p",
        "outputId": "6a7907df-6403-490a-851f-abe3aa3e3d8e"
      },
      "execution_count": 12,
      "outputs": [
        {
          "output_type": "stream",
          "name": "stderr",
          "text": [
            "/usr/local/lib/python3.7/dist-packages/statsmodels/tools/_testing.py:19: FutureWarning: pandas.util.testing is deprecated. Use the functions in the public API at pandas.testing instead.\n",
            "  import pandas.util.testing as tm\n"
          ]
        }
      ]
    },
    {
      "cell_type": "code",
      "source": [
        "!pip install alibi-detect"
      ],
      "metadata": {
        "colab": {
          "base_uri": "https://localhost:8080/"
        },
        "id": "eBN6bSUKupSY",
        "outputId": "9b4dcdbc-2d82-4cd0-8f09-4bb6b282357d"
      },
      "execution_count": 13,
      "outputs": [
        {
          "output_type": "stream",
          "name": "stdout",
          "text": [
            "Looking in indexes: https://pypi.org/simple, https://us-python.pkg.dev/colab-wheels/public/simple/\n",
            "Collecting alibi-detect\n",
            "  Downloading alibi_detect-0.10.0-py3-none-any.whl (390 kB)\n",
            "\u001b[K     |████████████████████████████████| 390 kB 8.1 MB/s \n",
            "\u001b[?25hRequirement already satisfied: scikit-image!=0.17.1,<0.20,>=0.14.2 in /usr/local/lib/python3.7/dist-packages (from alibi-detect) (0.18.3)\n",
            "Collecting toml<1.0.0,>=0.10.1\n",
            "  Downloading toml-0.10.2-py2.py3-none-any.whl (16 kB)\n",
            "Requirement already satisfied: pandas<2.0.0,>=0.23.3 in /usr/local/lib/python3.7/dist-packages (from alibi-detect) (1.3.5)\n",
            "Requirement already satisfied: matplotlib<4.0.0,>=3.0.0 in /usr/local/lib/python3.7/dist-packages (from alibi-detect) (3.2.2)\n",
            "Requirement already satisfied: scikit-learn<2.0.0,>=0.20.2 in /usr/local/lib/python3.7/dist-packages (from alibi-detect) (1.0.2)\n",
            "Requirement already satisfied: tqdm<5.0.0,>=4.28.1 in /usr/local/lib/python3.7/dist-packages (from alibi-detect) (4.64.0)\n",
            "Requirement already satisfied: scipy<2.0.0,>=1.3.0 in /usr/local/lib/python3.7/dist-packages (from alibi-detect) (1.7.3)\n",
            "Requirement already satisfied: dill<0.4.0,>=0.3.0 in /usr/local/lib/python3.7/dist-packages (from alibi-detect) (0.3.5.1)\n",
            "Requirement already satisfied: typing-extensions>=3.7.4.3 in /usr/local/lib/python3.7/dist-packages (from alibi-detect) (4.1.1)\n",
            "Requirement already satisfied: opencv-python<5.0.0,>=3.2.0 in /usr/local/lib/python3.7/dist-packages (from alibi-detect) (4.6.0.66)\n",
            "Requirement already satisfied: requests<3.0.0,>=2.21.0 in /usr/local/lib/python3.7/dist-packages (from alibi-detect) (2.23.0)\n",
            "Requirement already satisfied: catalogue<3.0.0,>=2.0.0 in /usr/local/lib/python3.7/dist-packages (from alibi-detect) (2.0.8)\n",
            "Requirement already satisfied: pydantic<2.0.0,>=1.8.0 in /usr/local/lib/python3.7/dist-packages (from alibi-detect) (1.9.1)\n",
            "Requirement already satisfied: Pillow<10.0.0,>=5.4.1 in /usr/local/lib/python3.7/dist-packages (from alibi-detect) (7.1.2)\n",
            "Requirement already satisfied: numpy<2.0.0,>=1.16.2 in /usr/local/lib/python3.7/dist-packages (from alibi-detect) (1.21.6)\n",
            "Collecting numba!=0.54.0,<0.56.0,>=0.50.0\n",
            "  Downloading numba-0.55.2-cp37-cp37m-manylinux2014_x86_64.manylinux_2_17_x86_64.whl (3.3 MB)\n",
            "\u001b[K     |████████████████████████████████| 3.3 MB 75.0 MB/s \n",
            "\u001b[?25hCollecting transformers<5.0.0,>=4.0.0\n",
            "  Downloading transformers-4.21.0-py3-none-any.whl (4.7 MB)\n",
            "\u001b[K     |████████████████████████████████| 4.7 MB 47.7 MB/s \n",
            "\u001b[?25hRequirement already satisfied: zipp>=0.5 in /usr/local/lib/python3.7/dist-packages (from catalogue<3.0.0,>=2.0.0->alibi-detect) (3.8.1)\n",
            "Requirement already satisfied: python-dateutil>=2.1 in /usr/local/lib/python3.7/dist-packages (from matplotlib<4.0.0,>=3.0.0->alibi-detect) (2.8.2)\n",
            "Requirement already satisfied: cycler>=0.10 in /usr/local/lib/python3.7/dist-packages (from matplotlib<4.0.0,>=3.0.0->alibi-detect) (0.11.0)\n",
            "Requirement already satisfied: pyparsing!=2.0.4,!=2.1.2,!=2.1.6,>=2.0.1 in /usr/local/lib/python3.7/dist-packages (from matplotlib<4.0.0,>=3.0.0->alibi-detect) (3.0.9)\n",
            "Requirement already satisfied: kiwisolver>=1.0.1 in /usr/local/lib/python3.7/dist-packages (from matplotlib<4.0.0,>=3.0.0->alibi-detect) (1.4.4)\n",
            "Collecting llvmlite<0.39,>=0.38.0rc1\n",
            "  Downloading llvmlite-0.38.1-cp37-cp37m-manylinux_2_17_x86_64.manylinux2014_x86_64.whl (34.5 MB)\n",
            "\u001b[K     |████████████████████████████████| 34.5 MB 1.4 MB/s \n",
            "\u001b[?25hRequirement already satisfied: setuptools in /usr/local/lib/python3.7/dist-packages (from numba!=0.54.0,<0.56.0,>=0.50.0->alibi-detect) (57.4.0)\n",
            "Requirement already satisfied: pytz>=2017.3 in /usr/local/lib/python3.7/dist-packages (from pandas<2.0.0,>=0.23.3->alibi-detect) (2022.1)\n",
            "Requirement already satisfied: six>=1.5 in /usr/local/lib/python3.7/dist-packages (from python-dateutil>=2.1->matplotlib<4.0.0,>=3.0.0->alibi-detect) (1.15.0)\n",
            "Requirement already satisfied: certifi>=2017.4.17 in /usr/local/lib/python3.7/dist-packages (from requests<3.0.0,>=2.21.0->alibi-detect) (2022.6.15)\n",
            "Requirement already satisfied: idna<3,>=2.5 in /usr/local/lib/python3.7/dist-packages (from requests<3.0.0,>=2.21.0->alibi-detect) (2.10)\n",
            "Requirement already satisfied: urllib3!=1.25.0,!=1.25.1,<1.26,>=1.21.1 in /usr/local/lib/python3.7/dist-packages (from requests<3.0.0,>=2.21.0->alibi-detect) (1.24.3)\n",
            "Requirement already satisfied: chardet<4,>=3.0.2 in /usr/local/lib/python3.7/dist-packages (from requests<3.0.0,>=2.21.0->alibi-detect) (3.0.4)\n",
            "Requirement already satisfied: imageio>=2.3.0 in /usr/local/lib/python3.7/dist-packages (from scikit-image!=0.17.1,<0.20,>=0.14.2->alibi-detect) (2.9.0)\n",
            "Requirement already satisfied: PyWavelets>=1.1.1 in /usr/local/lib/python3.7/dist-packages (from scikit-image!=0.17.1,<0.20,>=0.14.2->alibi-detect) (1.3.0)\n",
            "Requirement already satisfied: tifffile>=2019.7.26 in /usr/local/lib/python3.7/dist-packages (from scikit-image!=0.17.1,<0.20,>=0.14.2->alibi-detect) (2021.11.2)\n",
            "Requirement already satisfied: networkx>=2.0 in /usr/local/lib/python3.7/dist-packages (from scikit-image!=0.17.1,<0.20,>=0.14.2->alibi-detect) (2.6.3)\n",
            "Requirement already satisfied: joblib>=0.11 in /usr/local/lib/python3.7/dist-packages (from scikit-learn<2.0.0,>=0.20.2->alibi-detect) (1.1.0)\n",
            "Requirement already satisfied: threadpoolctl>=2.0.0 in /usr/local/lib/python3.7/dist-packages (from scikit-learn<2.0.0,>=0.20.2->alibi-detect) (3.1.0)\n",
            "Requirement already satisfied: filelock in /usr/local/lib/python3.7/dist-packages (from transformers<5.0.0,>=4.0.0->alibi-detect) (3.7.1)\n",
            "Requirement already satisfied: importlib-metadata in /usr/local/lib/python3.7/dist-packages (from transformers<5.0.0,>=4.0.0->alibi-detect) (4.12.0)\n",
            "Collecting pyyaml>=5.1\n",
            "  Downloading PyYAML-6.0-cp37-cp37m-manylinux_2_5_x86_64.manylinux1_x86_64.manylinux_2_12_x86_64.manylinux2010_x86_64.whl (596 kB)\n",
            "\u001b[K     |████████████████████████████████| 596 kB 85.1 MB/s \n",
            "\u001b[?25hCollecting huggingface-hub<1.0,>=0.1.0\n",
            "  Downloading huggingface_hub-0.8.1-py3-none-any.whl (101 kB)\n",
            "\u001b[K     |████████████████████████████████| 101 kB 14.1 MB/s \n",
            "\u001b[?25hRequirement already satisfied: packaging>=20.0 in /usr/local/lib/python3.7/dist-packages (from transformers<5.0.0,>=4.0.0->alibi-detect) (21.3)\n",
            "Requirement already satisfied: regex!=2019.12.17 in /usr/local/lib/python3.7/dist-packages (from transformers<5.0.0,>=4.0.0->alibi-detect) (2022.6.2)\n",
            "Collecting tokenizers!=0.11.3,<0.13,>=0.11.1\n",
            "  Downloading tokenizers-0.12.1-cp37-cp37m-manylinux_2_12_x86_64.manylinux2010_x86_64.whl (6.6 MB)\n",
            "\u001b[K     |████████████████████████████████| 6.6 MB 86.1 MB/s \n",
            "\u001b[?25hInstalling collected packages: pyyaml, tokenizers, llvmlite, huggingface-hub, transformers, toml, numba, alibi-detect\n",
            "  Attempting uninstall: pyyaml\n",
            "    Found existing installation: PyYAML 3.13\n",
            "    Uninstalling PyYAML-3.13:\n",
            "      Successfully uninstalled PyYAML-3.13\n",
            "  Attempting uninstall: llvmlite\n",
            "    Found existing installation: llvmlite 0.39.0\n",
            "    Uninstalling llvmlite-0.39.0:\n",
            "      Successfully uninstalled llvmlite-0.39.0\n",
            "  Attempting uninstall: numba\n",
            "    Found existing installation: numba 0.56.0\n",
            "    Uninstalling numba-0.56.0:\n",
            "      Successfully uninstalled numba-0.56.0\n",
            "Successfully installed alibi-detect-0.10.0 huggingface-hub-0.8.1 llvmlite-0.38.1 numba-0.55.2 pyyaml-6.0 tokenizers-0.12.1 toml-0.10.2 transformers-4.21.0\n"
          ]
        }
      ]
    },
    {
      "cell_type": "code",
      "source": [
        "from alibi_detect.cd import ClassifierUncertaintyDrift, RegressorUncertaintyDrift\n",
        "clf =  ML[2010].predict # tensorflow classifier model\n",
        "cd = ClassifierUncertaintyDrift(\n",
        "  x_ref, model=clf, backend='tensorflow', p_val=0.05, preds_type='probs'\n",
        ")"
      ],
      "metadata": {
        "id": "nLuUu_rSvJ1Q"
      },
      "execution_count": 21,
      "outputs": []
    },
    {
      "cell_type": "code",
      "source": [
        "\n",
        "\n",
        "df = {}\n",
        "\n",
        "drift_d = []\n",
        "df['precision'] = []\n",
        "df['statistic'] = []\n",
        "df['p_value'] = []\n",
        "#df['dd_cad_statistic'] = []\n",
        "#df['dd_cad_p_value'] = []\n",
        "\n",
        "beta = 0\n",
        "window_size = 10000\n",
        "step = 10000\n",
        "batch = math.ceil((X2.shape[0]-window_size)/step)\n",
        "for i in range(batch):\n",
        "    ux = X2[i*step:i*step+window_size]\n",
        "    uy = Y2[i*step:i*step+window_size]\n",
        "    f1 = precision_recall_fscore_support(uy, predict(ux),average='binary')\n",
        "\n",
        "    df['precision'].append(f1[0])\n",
        "\n",
        "    preds = cd.predict(ux)\n",
        "    p = preds['data']['p_val'][0]\n",
        "    d = preds['data']['distance'][0]\n",
        "    df['p_value'].append(p)    \n",
        "    df['statistic'].append(d)\n",
        "    print(f1[0],d,p)\n",
        "\n",
        "df2 = pd.DataFrame(df)\n",
        "\n",
        "df2['statistic'].plot(legend=True,figsize=(20,5))\n",
        "plt.show()\n",
        "df2['p_value'].plot(legend=True,figsize=(20,5))\n",
        "plt.show()\n",
        "df2['precision'].plot(legend=True,figsize=(20,5))\n",
        "plt.show()"
      ],
      "metadata": {
        "id": "g_19-0nOtVjj",
        "outputId": "c01872a5-ffb8-42ff-f8ff-e7a58196a567",
        "colab": {
          "base_uri": "https://localhost:8080/",
          "height": 1000
        }
      },
      "execution_count": 28,
      "outputs": [
        {
          "output_type": "stream",
          "name": "stdout",
          "text": [
            "0.9378105706971842 0.0 1.0\n",
            "0.9462298165856717 0.0 1.0\n",
            "0.9545831261395658 0.0 1.0\n",
            "0.9519004372687521 0.0 1.0\n",
            "0.9531223267750214 0.0 1.0\n",
            "0.9538408542886669 0.0 1.0\n",
            "0.958815745947734 0.0 1.0\n",
            "0.9635310156782549 0.0 1.0\n",
            "0.9644281914893617 0.0 1.0\n",
            "0.9587973273942093 0.0 1.0\n",
            "0.9609362644314408 0.0 1.0\n",
            "0.9569117411500881 0.0 1.0\n",
            "0.9588292055323255 0.0 1.0\n",
            "0.9570760045183153 0.0 1.0\n",
            "0.9566984523995623 0.0 1.0\n",
            "0.9598840019333011 0.0 1.0\n",
            "0.9617363344051447 0.0 1.0\n",
            "0.9646529562982005 0.0 1.0\n",
            "0.9624502784407319 0.0 1.0\n",
            "0.9674493927125506 0.0 1.0\n",
            "0.9604813790860303 0.0 1.0\n",
            "0.9633575464083939 0.0 1.0\n",
            "0.9639508567733592 0.0 1.0\n",
            "0.9606741573033708 0.0 1.0\n",
            "0.965769358590894 0.0 1.0\n",
            "0.9601257445400397 0.0 1.0\n",
            "0.9636152184748297 0.0 1.0\n",
            "0.9622199933132731 0.0 1.0\n",
            "0.9652596838631231 0.0 1.0\n",
            "0.9608428446005268 0.0 1.0\n",
            "0.962257432793306 0.0 1.0\n",
            "0.9673167208378476 0.0 1.0\n",
            "0.9700577832253546 0.0 1.0\n",
            "0.9673419490045407 0.0 1.0\n",
            "0.962466960352423 0.0 1.0\n",
            "0.9638260869565217 0.0 1.0\n",
            "0.9617132867132867 0.0 1.0\n",
            "0.9598992986872864 0.0 1.0\n",
            "0.9554342082085608 0.0 1.0\n",
            "0.961355214399153 0.0 1.0\n",
            "0.9629005059021922 0.0 1.0\n",
            "0.9599089635854342 0.0 1.0\n",
            "0.961640916355887 0.0 1.0\n",
            "0.9655726007848734 0.0 1.0\n",
            "0.957874497465478 0.0 1.0\n",
            "0.9567217583915488 0.0 1.0\n",
            "0.9582110170954931 0.0 1.0\n",
            "0.9609773246616277 0.0 1.0\n",
            "0.953797132235794 0.0 1.0\n",
            "0.9510117145899893 0.0 1.0\n",
            "0.9543256313809779 0.0 1.0\n",
            "0.9598198198198198 0.0 1.0\n",
            "0.9594619495117007 0.0 1.0\n",
            "0.9537219730941704 0.0 1.0\n",
            "0.9510514865844815 0.0 1.0\n",
            "0.962144539032784 0.0 1.0\n",
            "0.9544483985765124 0.0 1.0\n",
            "0.9546279491833031 0.0 1.0\n",
            "0.9582029092248204 0.0 1.0\n",
            "0.9530679327976626 0.0 1.0\n",
            "0.9583566760037349 0.0 1.0\n",
            "0.9512108891638678 0.0 1.0\n",
            "0.954057919199142 0.0 1.0\n",
            "0.9557113858645506 0.0 1.0\n",
            "0.9492012206067133 0.0 1.0\n",
            "0.950787045413425 0.0 1.0\n",
            "0.9604807867419414 0.0 1.0\n",
            "0.9498635743519782 0.0 1.0\n",
            "0.9542290288896623 0.0 1.0\n",
            "0.9544317369549679 0.0 1.0\n",
            "0.9581863091037403 0.0 1.0\n",
            "0.9508054737571453 0.0 1.0\n",
            "0.9559007320121407 0.0 1.0\n",
            "0.9584151347492414 0.0 1.0\n",
            "0.9469587255611875 0.0 1.0\n",
            "0.951598499732095 0.0 1.0\n",
            "0.9503335804299481 0.0 1.0\n",
            "0.9493304379297864 0.0 1.0\n",
            "0.951471900089206 0.0 1.0\n",
            "0.9578035747189976 0.0 1.0\n",
            "0.9555122297057781 0.0 1.0\n",
            "0.9597690445148073 0.0 1.0\n",
            "0.9470812875068194 0.0 1.0\n",
            "0.9565057808772252 0.0 1.0\n",
            "0.9545369152733421 0.0 1.0\n",
            "0.951334664971854 0.0 1.0\n",
            "0.951905290418054 0.0 1.0\n",
            "0.9441671288593085 0.0 1.0\n",
            "0.9600882839801361 0.0 1.0\n",
            "0.9512558139534883 0.0 1.0\n",
            "0.9370925110132159 0.0 1.0\n",
            "0.9489113663637923 0.0 1.0\n",
            "0.9447127393838468 0.0 1.0\n",
            "0.9287419024889192 0.0 1.0\n",
            "0.9452727888851237 0.0 1.0\n",
            "0.9345117845117845 0.0 1.0\n",
            "0.9415007656967841 0.0 1.0\n",
            "0.9408805031446541 0.0 1.0\n",
            "0.9448818897637795 0.0 1.0\n",
            "0.9476250393205411 0.0 1.0\n",
            "0.9460470918446905 0.0 1.0\n",
            "0.94703024604294 0.0 1.0\n",
            "0.943207981580967 0.0 1.0\n",
            "0.9428010866284334 0.0 1.0\n",
            "0.9428274428274428 0.0 1.0\n",
            "0.9481200816088604 0.0 1.0\n",
            "0.9427589299058436 0.0 1.0\n",
            "0.9329030321224857 0.0 1.0\n",
            "0.9465385192971918 0.0 1.0\n",
            "0.9475113122171945 0.0 1.0\n",
            "0.9494415049970606 0.0 1.0\n",
            "0.9509247123926023 0.0 1.0\n",
            "0.9415424685284329 0.0 1.0\n",
            "0.948560572848166 0.0 1.0\n",
            "0.9475138121546961 0.0 1.0\n",
            "0.9412540287137415 0.0 1.0\n",
            "0.9383000143822811 0.0 1.0\n",
            "0.9401188922720023 0.0 1.0\n",
            "0.9361854342538275 0.0 1.0\n",
            "0.9380607814761216 0.0 1.0\n",
            "0.9356421356421356 0.0 1.0\n",
            "0.9370589895568727 0.0 1.0\n",
            "0.9273711193392196 0.0 1.0\n",
            "0.9273688604424656 0.0 1.0\n",
            "0.9289835164835165 0.0 1.0\n",
            "0.9303771799378127 0.0 1.0\n"
          ]
        },
        {
          "output_type": "display_data",
          "data": {
            "text/plain": [
              "<Figure size 1440x360 with 1 Axes>"
            ],
            "image/png": "[encoded data removed]"
          },
          "metadata": {
            "needs_background": "light"
          }
        },
        {
          "output_type": "display_data",
          "data": {
            "text/plain": [
              "<Figure size 1440x360 with 1 Axes>"
            ],
            "image/png": "[encoded data removed]"
          },
          "metadata": {
            "needs_background": "light"
          }
        },
        {
          "output_type": "display_data",
          "data": {
            "text/plain": [
              "<Figure size 1440x360 with 1 Axes>"
            ],
            "image/png": "[encoded data removed]"
          },
          "metadata": {
            "needs_background": "light"
          }
        }
      ]
    },
    {
      "cell_type": "code",
      "source": [
        "del df['dd_cad_statistic']\n",
        "del df['dd_cad_p_value']\n",
        "df2 = pd.DataFrame(df)\n",
        "\n"
      ],
      "metadata": {
        "id": "aikoBoMfIb3D"
      },
      "execution_count": null,
      "outputs": []
    },
    {
      "cell_type": "code",
      "source": [
        "df2['dd_mmd_statistic'].plot(legend=True,figsize=(20,5))\n",
        "plt.show()\n",
        "df2['dd_mmd_p_value'].plot(legend=True,figsize=(20,5))\n",
        "plt.show()\n",
        "df2['precision'].plot(legend=True,figsize=(20,5))\n",
        "plt.show()"
      ],
      "metadata": {
        "id": "Fs4EIwviIxU8"
      },
      "execution_count": null,
      "outputs": []
    }
  ]
}