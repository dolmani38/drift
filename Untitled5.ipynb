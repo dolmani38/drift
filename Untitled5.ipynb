{
  "nbformat": 4,
  "nbformat_minor": 0,
  "metadata": {
    "colab": {
      "name": "Untitled5.ipynb",
      "provenance": [],
      "authorship_tag": "ABX9TyMt1JdQXTs1n8HKU3Ol0vPO",
      "include_colab_link": true
    },
    "kernelspec": {
      "name": "python3",
      "display_name": "Python 3"
    },
    "language_info": {
      "name": "python"
    }
  },
  "cells": [
    {
      "cell_type": "markdown",
      "metadata": {
        "id": "view-in-github",
        "colab_type": "text"
      },
      "source": [
        "<a href=\"https://colab.research.google.com/github/dolmani38/drift/blob/main/Untitled5.ipynb\" target=\"_parent\"><img src=\"https://colab.research.google.com/assets/colab-badge.svg\" alt=\"Open In Colab\"/></a>"
      ]
    },
    {
      "cell_type": "code",
      "metadata": {
        "colab": {
          "base_uri": "https://localhost:8080/"
        },
        "id": "kINem9IPW9PM",
        "outputId": "c1dfae5d-47f4-4328-9df6-27a22515e320"
      },
      "source": [
        "pip install -U scikit-multiflow"
      ],
      "execution_count": 2,
      "outputs": [
        {
          "output_type": "stream",
          "name": "stdout",
          "text": [
            "Collecting scikit-multiflow\n",
            "  Downloading scikit_multiflow-0.5.3-cp37-cp37m-manylinux2010_x86_64.whl (1.1 MB)\n",
            "\u001b[?25l\r\u001b[K     |▎                               | 10 kB 18.8 MB/s eta 0:00:01\r\u001b[K     |▋                               | 20 kB 22.0 MB/s eta 0:00:01\r\u001b[K     |▉                               | 30 kB 15.7 MB/s eta 0:00:01\r\u001b[K     |█▏                              | 40 kB 11.7 MB/s eta 0:00:01\r\u001b[K     |█▌                              | 51 kB 7.7 MB/s eta 0:00:01\r\u001b[K     |█▊                              | 61 kB 7.2 MB/s eta 0:00:01\r\u001b[K     |██                              | 71 kB 7.1 MB/s eta 0:00:01\r\u001b[K     |██▍                             | 81 kB 8.0 MB/s eta 0:00:01\r\u001b[K     |██▋                             | 92 kB 6.8 MB/s eta 0:00:01\r\u001b[K     |███                             | 102 kB 7.3 MB/s eta 0:00:01\r\u001b[K     |███▏                            | 112 kB 7.3 MB/s eta 0:00:01\r\u001b[K     |███▌                            | 122 kB 7.3 MB/s eta 0:00:01\r\u001b[K     |███▉                            | 133 kB 7.3 MB/s eta 0:00:01\r\u001b[K     |████                            | 143 kB 7.3 MB/s eta 0:00:01\r\u001b[K     |████▍                           | 153 kB 7.3 MB/s eta 0:00:01\r\u001b[K     |████▊                           | 163 kB 7.3 MB/s eta 0:00:01\r\u001b[K     |█████                           | 174 kB 7.3 MB/s eta 0:00:01\r\u001b[K     |█████▎                          | 184 kB 7.3 MB/s eta 0:00:01\r\u001b[K     |█████▌                          | 194 kB 7.3 MB/s eta 0:00:01\r\u001b[K     |█████▉                          | 204 kB 7.3 MB/s eta 0:00:01\r\u001b[K     |██████▏                         | 215 kB 7.3 MB/s eta 0:00:01\r\u001b[K     |██████▍                         | 225 kB 7.3 MB/s eta 0:00:01\r\u001b[K     |██████▊                         | 235 kB 7.3 MB/s eta 0:00:01\r\u001b[K     |███████                         | 245 kB 7.3 MB/s eta 0:00:01\r\u001b[K     |███████▎                        | 256 kB 7.3 MB/s eta 0:00:01\r\u001b[K     |███████▋                        | 266 kB 7.3 MB/s eta 0:00:01\r\u001b[K     |████████                        | 276 kB 7.3 MB/s eta 0:00:01\r\u001b[K     |████████▏                       | 286 kB 7.3 MB/s eta 0:00:01\r\u001b[K     |████████▌                       | 296 kB 7.3 MB/s eta 0:00:01\r\u001b[K     |████████▊                       | 307 kB 7.3 MB/s eta 0:00:01\r\u001b[K     |█████████                       | 317 kB 7.3 MB/s eta 0:00:01\r\u001b[K     |█████████▍                      | 327 kB 7.3 MB/s eta 0:00:01\r\u001b[K     |█████████▋                      | 337 kB 7.3 MB/s eta 0:00:01\r\u001b[K     |██████████                      | 348 kB 7.3 MB/s eta 0:00:01\r\u001b[K     |██████████▎                     | 358 kB 7.3 MB/s eta 0:00:01\r\u001b[K     |██████████▌                     | 368 kB 7.3 MB/s eta 0:00:01\r\u001b[K     |██████████▉                     | 378 kB 7.3 MB/s eta 0:00:01\r\u001b[K     |███████████                     | 389 kB 7.3 MB/s eta 0:00:01\r\u001b[K     |███████████▍                    | 399 kB 7.3 MB/s eta 0:00:01\r\u001b[K     |███████████▊                    | 409 kB 7.3 MB/s eta 0:00:01\r\u001b[K     |████████████                    | 419 kB 7.3 MB/s eta 0:00:01\r\u001b[K     |████████████▎                   | 430 kB 7.3 MB/s eta 0:00:01\r\u001b[K     |████████████▋                   | 440 kB 7.3 MB/s eta 0:00:01\r\u001b[K     |████████████▉                   | 450 kB 7.3 MB/s eta 0:00:01\r\u001b[K     |█████████████▏                  | 460 kB 7.3 MB/s eta 0:00:01\r\u001b[K     |█████████████▌                  | 471 kB 7.3 MB/s eta 0:00:01\r\u001b[K     |█████████████▊                  | 481 kB 7.3 MB/s eta 0:00:01\r\u001b[K     |██████████████                  | 491 kB 7.3 MB/s eta 0:00:01\r\u001b[K     |██████████████▎                 | 501 kB 7.3 MB/s eta 0:00:01\r\u001b[K     |██████████████▋                 | 512 kB 7.3 MB/s eta 0:00:01\r\u001b[K     |███████████████                 | 522 kB 7.3 MB/s eta 0:00:01\r\u001b[K     |███████████████▏                | 532 kB 7.3 MB/s eta 0:00:01\r\u001b[K     |███████████████▌                | 542 kB 7.3 MB/s eta 0:00:01\r\u001b[K     |███████████████▉                | 552 kB 7.3 MB/s eta 0:00:01\r\u001b[K     |████████████████                | 563 kB 7.3 MB/s eta 0:00:01\r\u001b[K     |████████████████▍               | 573 kB 7.3 MB/s eta 0:00:01\r\u001b[K     |████████████████▋               | 583 kB 7.3 MB/s eta 0:00:01\r\u001b[K     |█████████████████               | 593 kB 7.3 MB/s eta 0:00:01\r\u001b[K     |█████████████████▎              | 604 kB 7.3 MB/s eta 0:00:01\r\u001b[K     |█████████████████▌              | 614 kB 7.3 MB/s eta 0:00:01\r\u001b[K     |█████████████████▉              | 624 kB 7.3 MB/s eta 0:00:01\r\u001b[K     |██████████████████▏             | 634 kB 7.3 MB/s eta 0:00:01\r\u001b[K     |██████████████████▍             | 645 kB 7.3 MB/s eta 0:00:01\r\u001b[K     |██████████████████▊             | 655 kB 7.3 MB/s eta 0:00:01\r\u001b[K     |███████████████████             | 665 kB 7.3 MB/s eta 0:00:01\r\u001b[K     |███████████████████▎            | 675 kB 7.3 MB/s eta 0:00:01\r\u001b[K     |███████████████████▋            | 686 kB 7.3 MB/s eta 0:00:01\r\u001b[K     |███████████████████▉            | 696 kB 7.3 MB/s eta 0:00:01\r\u001b[K     |████████████████████▏           | 706 kB 7.3 MB/s eta 0:00:01\r\u001b[K     |████████████████████▌           | 716 kB 7.3 MB/s eta 0:00:01\r\u001b[K     |████████████████████▊           | 727 kB 7.3 MB/s eta 0:00:01\r\u001b[K     |█████████████████████           | 737 kB 7.3 MB/s eta 0:00:01\r\u001b[K     |█████████████████████▍          | 747 kB 7.3 MB/s eta 0:00:01\r\u001b[K     |█████████████████████▋          | 757 kB 7.3 MB/s eta 0:00:01\r\u001b[K     |██████████████████████          | 768 kB 7.3 MB/s eta 0:00:01\r\u001b[K     |██████████████████████▏         | 778 kB 7.3 MB/s eta 0:00:01\r\u001b[K     |██████████████████████▌         | 788 kB 7.3 MB/s eta 0:00:01\r\u001b[K     |██████████████████████▉         | 798 kB 7.3 MB/s eta 0:00:01\r\u001b[K     |███████████████████████         | 808 kB 7.3 MB/s eta 0:00:01\r\u001b[K     |███████████████████████▍        | 819 kB 7.3 MB/s eta 0:00:01\r\u001b[K     |███████████████████████▊        | 829 kB 7.3 MB/s eta 0:00:01\r\u001b[K     |████████████████████████        | 839 kB 7.3 MB/s eta 0:00:01\r\u001b[K     |████████████████████████▎       | 849 kB 7.3 MB/s eta 0:00:01\r\u001b[K     |████████████████████████▌       | 860 kB 7.3 MB/s eta 0:00:01\r\u001b[K     |████████████████████████▉       | 870 kB 7.3 MB/s eta 0:00:01\r\u001b[K     |█████████████████████████▏      | 880 kB 7.3 MB/s eta 0:00:01\r\u001b[K     |█████████████████████████▍      | 890 kB 7.3 MB/s eta 0:00:01\r\u001b[K     |█████████████████████████▊      | 901 kB 7.3 MB/s eta 0:00:01\r\u001b[K     |██████████████████████████      | 911 kB 7.3 MB/s eta 0:00:01\r\u001b[K     |██████████████████████████▎     | 921 kB 7.3 MB/s eta 0:00:01\r\u001b[K     |██████████████████████████▋     | 931 kB 7.3 MB/s eta 0:00:01\r\u001b[K     |███████████████████████████     | 942 kB 7.3 MB/s eta 0:00:01\r\u001b[K     |███████████████████████████▏    | 952 kB 7.3 MB/s eta 0:00:01\r\u001b[K     |███████████████████████████▌    | 962 kB 7.3 MB/s eta 0:00:01\r\u001b[K     |███████████████████████████▊    | 972 kB 7.3 MB/s eta 0:00:01\r\u001b[K     |████████████████████████████    | 983 kB 7.3 MB/s eta 0:00:01\r\u001b[K     |████████████████████████████▍   | 993 kB 7.3 MB/s eta 0:00:01\r\u001b[K     |████████████████████████████▋   | 1.0 MB 7.3 MB/s eta 0:00:01\r\u001b[K     |█████████████████████████████   | 1.0 MB 7.3 MB/s eta 0:00:01\r\u001b[K     |█████████████████████████████▎  | 1.0 MB 7.3 MB/s eta 0:00:01\r\u001b[K     |█████████████████████████████▌  | 1.0 MB 7.3 MB/s eta 0:00:01\r\u001b[K     |█████████████████████████████▉  | 1.0 MB 7.3 MB/s eta 0:00:01\r\u001b[K     |██████████████████████████████  | 1.1 MB 7.3 MB/s eta 0:00:01\r\u001b[K     |██████████████████████████████▍ | 1.1 MB 7.3 MB/s eta 0:00:01\r\u001b[K     |██████████████████████████████▊ | 1.1 MB 7.3 MB/s eta 0:00:01\r\u001b[K     |███████████████████████████████ | 1.1 MB 7.3 MB/s eta 0:00:01\r\u001b[K     |███████████████████████████████▎| 1.1 MB 7.3 MB/s eta 0:00:01\r\u001b[K     |███████████████████████████████▋| 1.1 MB 7.3 MB/s eta 0:00:01\r\u001b[K     |███████████████████████████████▉| 1.1 MB 7.3 MB/s eta 0:00:01\r\u001b[K     |████████████████████████████████| 1.1 MB 7.3 MB/s \n",
            "\u001b[?25hRequirement already satisfied: numpy>=1.14.0 in /usr/local/lib/python3.7/dist-packages (from scikit-multiflow) (1.19.5)\n",
            "Requirement already satisfied: pandas>=0.25.3 in /usr/local/lib/python3.7/dist-packages (from scikit-multiflow) (1.1.5)\n",
            "Requirement already satisfied: matplotlib>=2.0.0 in /usr/local/lib/python3.7/dist-packages (from scikit-multiflow) (3.2.2)\n",
            "Requirement already satisfied: scikit-learn>=0.20 in /usr/local/lib/python3.7/dist-packages (from scikit-multiflow) (0.22.2.post1)\n",
            "Requirement already satisfied: scipy>=1.0.0 in /usr/local/lib/python3.7/dist-packages (from scikit-multiflow) (1.4.1)\n",
            "Requirement already satisfied: sortedcontainers>=1.5.7 in /usr/local/lib/python3.7/dist-packages (from scikit-multiflow) (2.4.0)\n",
            "Requirement already satisfied: kiwisolver>=1.0.1 in /usr/local/lib/python3.7/dist-packages (from matplotlib>=2.0.0->scikit-multiflow) (1.3.1)\n",
            "Requirement already satisfied: python-dateutil>=2.1 in /usr/local/lib/python3.7/dist-packages (from matplotlib>=2.0.0->scikit-multiflow) (2.8.2)\n",
            "Requirement already satisfied: pyparsing!=2.0.4,!=2.1.2,!=2.1.6,>=2.0.1 in /usr/local/lib/python3.7/dist-packages (from matplotlib>=2.0.0->scikit-multiflow) (2.4.7)\n",
            "Requirement already satisfied: cycler>=0.10 in /usr/local/lib/python3.7/dist-packages (from matplotlib>=2.0.0->scikit-multiflow) (0.10.0)\n",
            "Requirement already satisfied: six in /usr/local/lib/python3.7/dist-packages (from cycler>=0.10->matplotlib>=2.0.0->scikit-multiflow) (1.15.0)\n",
            "Requirement already satisfied: pytz>=2017.2 in /usr/local/lib/python3.7/dist-packages (from pandas>=0.25.3->scikit-multiflow) (2018.9)\n",
            "Requirement already satisfied: joblib>=0.11 in /usr/local/lib/python3.7/dist-packages (from scikit-learn>=0.20->scikit-multiflow) (1.0.1)\n",
            "Installing collected packages: scikit-multiflow\n",
            "Successfully installed scikit-multiflow-0.5.3\n"
          ]
        }
      ]
    },
    {
      "cell_type": "markdown",
      "metadata": {
        "id": "uoDlrwZmXy46"
      },
      "source": [
        "# skmultiflow.drift_detection.ADWIN\n",
        "\n",
        "https://scikit-multiflow.readthedocs.io/en/stable/api/generated/skmultiflow.drift_detection.ADWIN.html\n"
      ]
    },
    {
      "cell_type": "code",
      "metadata": {
        "colab": {
          "base_uri": "https://localhost:8080/",
          "height": 321
        },
        "id": "uzTuljK1XAmy",
        "outputId": "ccb5346c-f0b8-446f-f7ec-f84656da95a4"
      },
      "source": [
        "# Imports\n",
        "\n",
        "import matplotlib.pyplot as plt\n",
        "\n",
        "import numpy as np\n",
        "from skmultiflow.drift_detection.adwin import ADWIN\n",
        "adwin = ADWIN()\n",
        "# Simulating a data stream as a normal distribution of 1's and 0's\n",
        "data_stream = np.random.randint(2, size=2000)\n",
        "# Changing the data concept from index 999 to 2000\n",
        "for i in range(999, 2000):\n",
        "    data_stream[i] = np.random.randint(4, high=8)\n",
        "# Adding stream elements to ADWIN and verifying if drift occurred\n",
        "\n",
        "plt.plot(data_stream)\n",
        "plt.ylabel('some numbers')\n",
        "plt.show()\n",
        "for i in range(2000):\n",
        "    adwin.add_element(data_stream[i])\n",
        "    if adwin.detected_change():\n",
        "        print('Change detected in data: ' + str(data_stream[i]) + ' - at index: ' + str(i))"
      ],
      "execution_count": 4,
      "outputs": [
        {
          "output_type": "display_data",
          "data": {
            "image/png": "[encoded data removed]",
            "text/plain": [
              "<Figure size 432x288 with 1 Axes>"
            ]
          },
          "metadata": {
            "needs_background": "light"
          }
        },
        {
          "output_type": "stream",
          "name": "stdout",
          "text": [
            "Change detected in data: 5 - at index: 1023\n",
            "Change detected in data: 4 - at index: 1055\n",
            "Change detected in data: 5 - at index: 1087\n"
          ]
        }
      ]
    }
  ]
}