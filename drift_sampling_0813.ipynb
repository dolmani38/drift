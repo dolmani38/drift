{
  "nbformat": 4,
  "nbformat_minor": 0,
  "metadata": {
    "colab": {
      "name": "Untitled19.ipynb",
      "provenance": [],
      "machine_shape": "hm",
      "authorship_tag": "ABX9TyPY1F7HX6IubIps4Dm9IXZ/",
      "include_colab_link": true
    },
    "kernelspec": {
      "name": "python3",
      "display_name": "Python 3"
    },
    "language_info": {
      "name": "python"
    },
    "gpuClass": "standard"
  },
  "cells": [
    {
      "cell_type": "markdown",
      "metadata": {
        "id": "view-in-github",
        "colab_type": "text"
      },
      "source": [
        "<a href=\"https://colab.research.google.com/github/dolmani38/drift/blob/main/drift_sampling_0813.ipynb\" target=\"_parent\"><img src=\"https://colab.research.google.com/assets/colab-badge.svg\" alt=\"Open In Colab\"/></a>"
      ]
    },
    {
      "cell_type": "markdown",
      "source": [
        "# Drift를 측정하기 위한 sampling의 방법"
      ],
      "metadata": {
        "id": "rU_uUmBAKKU4"
      }
    },
    {
      "cell_type": "markdown",
      "source": [
        "# Abstract"
      ],
      "metadata": {
        "id": "FMfejdiVQfwC"
      }
    },
    {
      "cell_type": "markdown",
      "source": [
        "* 현실 세계의 data (예:대출에 대한 default 예측)는 개별적으로는 시간 요소가 고려되지 않는 time-series 가 아니며, iid(independent and identically distribution) 이라고 할 수 있느나, 장시간으로 보면 시간에 따라 data의 distribution이 변하는 (drift) '시간 요소를 포함 한다' 할 수 있다. 이런 data는 시간에 따라 변화 하는 현실 세계의 변수를 모두 포함 할 수 없기 때문에 non-time-series 이며 iid 이지만 '시간 요소를 포함 한다' 라고 표현 할 수 있다.\n",
        "* 이러한 data를 '시간의 영향을 받는 데이터 (Time Affected Data)' 라고 명명하고, 간략히 TAD 라고 하자.\n",
        "* TAD의 중요한 통계량은 drift 통계량인데, 그렇다면 TAD의 drift 모수 추정은 어떻게 할 수 있는가?\n",
        "* 이 주제의 중요성은 많은 인공지능 모델들의 대상 데이터가 사실은 TAD의 특성을 갖고 있으며, 그렇다면 모델의 성능은 영속적으로 유지 되지 않는다는 것이다.\n",
        "* 즉, TAD의 drift 모수 추정이 가능하다면 TAD를 대상으로 하는 모델의 성능을 추정할 수 있는 것이다. \n",
        "* 일반적인 iid(independent and identically distribution) data의 경우, random sampling에 해당하는 bootstrap sampling에 의해 모수 추정이 가능한다. TAD의 경우도 bootstrap sampling에 의해 drift 모수 추정이 가능할까? 만약 그렇지 않다면, 어떤 sampling 기법을 적용하여야 하는가?\n",
        "* 본, 연구의 주제이다."
      ],
      "metadata": {
        "id": "Y6hJ2-t2KSPq"
      }
    },
    {
      "cell_type": "code",
      "source": [
        "if True:\n",
        "    from google.colab import drive\n",
        "    drive.mount('/content/drive')"
      ],
      "metadata": {
        "colab": {
          "base_uri": "https://localhost:8080/"
        },
        "id": "Ci-9NFXsKRmm",
        "outputId": "c4cf3f36-8bc9-45d2-c1c7-a3d199ac1f40"
      },
      "execution_count": 1,
      "outputs": [
        {
          "output_type": "stream",
          "name": "stdout",
          "text": [
            "Mounted at /content/drive\n"
          ]
        }
      ]
    },
    {
      "cell_type": "code",
      "source": [
        "import os\n",
        "\n",
        "import pandas as pd\n",
        "import numpy as np\n",
        "import matplotlib.pyplot as plt\n",
        "import seaborn as sns\n",
        "from sklearn.model_selection import train_test_split\n",
        "from sklearn.preprocessing import MinMaxScaler\n",
        "from sklearn.preprocessing import StandardScaler\n",
        "from sklearn.metrics import classification_report, confusion_matrix, accuracy_score\n",
        "import tensorflow as tf\n",
        "from tensorflow.keras.models import Sequential\n",
        "from tensorflow.keras.layers import Dense, Dropout\n",
        "import random\n",
        "np.random.seed(1337)"
      ],
      "metadata": {
        "id": "MfjO-NVgRJ3r"
      },
      "execution_count": 2,
      "outputs": []
    },
    {
      "cell_type": "code",
      "source": [
        "df_accepted = pd.read_csv(\"/content/drive/MyDrive/Drift/accepted_2007_to_2018Q4.csv\")\n",
        "\n",
        "print(df_accepted.shape)"
      ],
      "metadata": {
        "colab": {
          "base_uri": "https://localhost:8080/"
        },
        "id": "TT61GYhyRN1Q",
        "outputId": "589a133a-2c24-43a2-f682-7a0103bfcbd3"
      },
      "execution_count": 3,
      "outputs": [
        {
          "output_type": "stream",
          "name": "stderr",
          "text": [
            "/usr/local/lib/python3.7/dist-packages/IPython/core/interactiveshell.py:2882: DtypeWarning: Columns (0,19,49,59,118,129,130,131,134,135,136,139,145,146,147) have mixed types.Specify dtype option on import or set low_memory=False.\n",
            "  exec(code_obj, self.user_global_ns, self.user_ns)\n"
          ]
        },
        {
          "output_type": "stream",
          "name": "stdout",
          "text": [
            "(2260701, 151)\n"
          ]
        }
      ]
    },
    {
      "cell_type": "code",
      "source": [
        "# for the sake of simplicity, let's consider only Fully Paid and Charged Off values:\n",
        "\n",
        "df_accepted = df_accepted[df_accepted.loan_status.isin(['Fully Paid', 'Charged Off'])]\n",
        "\n",
        "print(df_accepted.shape)\n",
        "\n",
        "cols_to_drop = df_accepted.isnull().sum().sort_values(ascending=False).head(50).index\n",
        "df_accepted = df_accepted.drop(columns=cols_to_drop)\n",
        "df_accepted.shape\n",
        "\n",
        "# maybe we can go further, and eliminate columns up to title:\n",
        "\n",
        "cols_to_drop = df_accepted.isnull().sum().sort_values(ascending=False).head(45).index\n",
        "df_accepted = df_accepted.drop(columns=cols_to_drop)\n",
        "df_accepted.shape\n",
        "\n",
        "# Remaining columns have missing data points, but they account for less than 0.2% of the total data. Let's remove the rows that are missing those values in those columns with dropna():\n",
        "\n",
        "df_accepted = df_accepted.dropna()\n",
        "df_accepted.shape\n",
        "\n",
        "# These are constant columns. We can drop it either.\n",
        "\n",
        "cols_to_drop = ['out_prncp', 'out_prncp_inv', 'policy_code']\n",
        "df_accepted = df_accepted.drop(columns=cols_to_drop)\n",
        "df_accepted.shape\n",
        "\n",
        "# It seems we have many \"duplicated\" information. Let's drop some columns, based on visual inspection at corr_pairs dataframe:\n",
        "\n",
        "cols_to_drop = ['fico_range_low', 'funded_amnt_inv', 'funded_amnt', 'total_pymnt_inv', 'total_pymnt', 'installment', 'collection_recovery_fee', 'total_rec_prncp', 'last_fico_range_low']\n",
        "df_accepted = df_accepted.drop(columns=cols_to_drop)\n",
        "df_accepted.shape\n",
        "\n",
        "values = df_accepted.loan_status.unique()\n",
        "encode = [1,0]\n",
        "d = dict(zip(values, encode))\n",
        "\n",
        "df_accepted['loan_paid'] = df_accepted['loan_status'].map(d)\n",
        "\n",
        "df_accepted = df_accepted.drop(columns=['loan_status'])\n",
        "\n",
        "# droping constant columns\n",
        "\n",
        "print(df_accepted.pymnt_plan.value_counts())\n",
        "print(df_accepted.hardship_flag.value_counts())\n",
        "\n",
        "cols_to_drop = ['id', 'pymnt_plan', 'hardship_flag']\n",
        "df_accepted = df_accepted.drop(columns=cols_to_drop)\n",
        "df_accepted.shape\n",
        "\n",
        "cat_cols = df_accepted.select_dtypes(include=['object']).columns\n",
        "print(cat_cols)\n",
        "\n",
        "print(df_accepted.term.value_counts())\n",
        "\n",
        "# convert term into either a 36 or 60 integer numeric data type\n",
        "\n",
        "l1 = df_accepted.term.unique()\n",
        "l2 = [36, 60]\n",
        "d = dict(zip(l1, l2))\n",
        "\n",
        "df_accepted['term'] = df_accepted['term'].map(d)\n",
        "\n",
        "# as grade is part of sub_grade, so let's just drop the grade feature.\n",
        "\n",
        "df_accepted = df_accepted.drop(columns='grade')\n",
        "\n",
        "df_accepted = pd.get_dummies(df_accepted, columns = ['sub_grade'], prefix='', prefix_sep='', drop_first=True)\n",
        "\n",
        "cat_cols = df_accepted.select_dtypes(include=['object']).columns\n",
        "print(cat_cols)\n",
        "\n",
        "# for these columns, let's just create dummy variables, concatenate them with the original dataframe and drop original columns.\n",
        "\n",
        "df_accepted = pd.get_dummies(df_accepted, columns = ['verification_status'], prefix='', prefix_sep='', drop_first=True)\n",
        "df_accepted = pd.get_dummies(df_accepted, columns = ['application_type'], prefix='', prefix_sep='', drop_first=True)\n",
        "df_accepted = pd.get_dummies(df_accepted, columns = ['initial_list_status'], prefix='', prefix_sep='', drop_first=True)\n",
        "df_accepted = pd.get_dummies(df_accepted, columns = ['purpose'], prefix='', prefix_sep='', drop_first=True)\n",
        "\n",
        "df_accepted['home_ownership'] = df_accepted.home_ownership.replace('NONE', 'ANY')\n",
        "df_accepted = pd.get_dummies(df_accepted, columns = ['home_ownership'], prefix='', prefix_sep='', drop_first=True)\n",
        "df_accepted = df_accepted.drop(columns=[ 'url', 'last_pymnt_d', 'last_credit_pull_d'])\n",
        "df_accepted = df_accepted.drop(columns=['zip_code', 'addr_state'])\n",
        "df_accepted = pd.get_dummies(df_accepted, columns = ['disbursement_method'], prefix='', prefix_sep='', drop_first=True)\n",
        "df_accepted = pd.get_dummies(df_accepted, columns = ['debt_settlement_flag'], prefix='', prefix_sep='', drop_first=True)\n",
        "df_accepted = df_accepted.drop(columns=['earliest_cr_line'])\n",
        "df_accepted.shape\n",
        "\n",
        "df_accepted['issue_d'] = df_accepted['issue_d'].str.replace('Jan','01')\n",
        "df_accepted['issue_d'] = df_accepted['issue_d'].str.replace('Feb','02')\n",
        "df_accepted['issue_d'] = df_accepted['issue_d'].str.replace('Mar','03')\n",
        "df_accepted['issue_d'] = df_accepted['issue_d'].str.replace('Apr','04')\n",
        "df_accepted['issue_d'] = df_accepted['issue_d'].str.replace('May','05')\n",
        "df_accepted['issue_d'] = df_accepted['issue_d'].str.replace('Jun','06')\n",
        "df_accepted['issue_d'] = df_accepted['issue_d'].str.replace('Jul','07')\n",
        "df_accepted['issue_d'] = df_accepted['issue_d'].str.replace('Aug','08')\n",
        "df_accepted['issue_d'] = df_accepted['issue_d'].str.replace('Sep','09')\n",
        "df_accepted['issue_d'] = df_accepted['issue_d'].str.replace('Oct','10')\n",
        "df_accepted['issue_d'] = df_accepted['issue_d'].str.replace('Dec','11')\n",
        "df_accepted['issue_d'] = df_accepted['issue_d'].str.replace('Nov','12')\n",
        "\n",
        "def reorder_issue_d(dt):\n",
        "    a = dt.split('-')\n",
        "    return a[1]+a[0]\n",
        "\n",
        "reorder_issue_d('01-2009')\n",
        "\n",
        "df_accepted['issue_d'] = df_accepted['issue_d'].apply(reorder_issue_d)\n",
        "df_accepted = df_accepted.sort_values(by='issue_d')\n",
        "df_accepted.reset_index(drop=True, inplace=True)\n",
        "\n",
        "X = {}\n",
        "Y = {}\n",
        "\n",
        "df = df_accepted[df_accepted['issue_d'].str.startswith('2007') + df_accepted['issue_d'].str.startswith('2008') + df_accepted['issue_d'].str.startswith('2009')].copy()\n",
        "df = df.drop(columns=['issue_d'])\n",
        "\n",
        "X[2009] = df.loc[:, df.columns != 'loan_paid'].values\n",
        "Y[2009] = df.loan_paid.values\n",
        "\n",
        "for year in range(2010,2019):\n",
        "    print(year)\n",
        "    df = df_accepted[df_accepted['issue_d'].str.startswith(str(year))].copy()\n",
        "    df = df.drop(columns=['issue_d'])\n",
        "    X[year] = df.loc[:, df.columns != 'loan_paid'].values\n",
        "    Y[year] = df.loan_paid.values\n",
        "\n",
        "COLUMNS = df.loc[:, df.columns != 'loan_paid'].columns\n",
        "\n"
      ],
      "metadata": {
        "colab": {
          "base_uri": "https://localhost:8080/"
        },
        "id": "PR1NrX28RQU4",
        "outputId": "81062b13-2576-44f6-ad71-49210b7a2018"
      },
      "execution_count": 4,
      "outputs": [
        {
          "output_type": "stream",
          "name": "stdout",
          "text": [
            "(1345310, 151)\n",
            "n    1341026\n",
            "Name: pymnt_plan, dtype: int64\n",
            "N    1341026\n",
            "Name: hardship_flag, dtype: int64\n",
            "Index(['term', 'grade', 'sub_grade', 'home_ownership', 'verification_status',\n",
            "       'issue_d', 'url', 'purpose', 'zip_code', 'addr_state',\n",
            "       'earliest_cr_line', 'initial_list_status', 'last_pymnt_d',\n",
            "       'last_credit_pull_d', 'application_type', 'disbursement_method',\n",
            "       'debt_settlement_flag'],\n",
            "      dtype='object')\n",
            " 36 months    1017398\n",
            " 60 months     323628\n",
            "Name: term, dtype: int64\n",
            "Index(['home_ownership', 'verification_status', 'issue_d', 'url', 'purpose',\n",
            "       'zip_code', 'addr_state', 'earliest_cr_line', 'initial_list_status',\n",
            "       'last_pymnt_d', 'last_credit_pull_d', 'application_type',\n",
            "       'disbursement_method', 'debt_settlement_flag'],\n",
            "      dtype='object')\n"
          ]
        },
        {
          "output_type": "stream",
          "name": "stderr",
          "text": [
            "/usr/local/lib/python3.7/dist-packages/pandas/core/computation/expressions.py:215: UserWarning: evaluating in Python space because the '+' operator is not supported by numexpr for the bool dtype, use '|' instead\n",
            "  f\"evaluating in Python space because the {repr(op_str)} \"\n"
          ]
        },
        {
          "output_type": "stream",
          "name": "stdout",
          "text": [
            "2010\n",
            "2011\n",
            "2012\n",
            "2013\n",
            "2014\n",
            "2015\n",
            "2016\n",
            "2017\n",
            "2018\n"
          ]
        }
      ]
    },
    {
      "cell_type": "code",
      "source": [
        "COLUMNS"
      ],
      "metadata": {
        "colab": {
          "base_uri": "https://localhost:8080/"
        },
        "id": "WU3QPJ8cSdjq",
        "outputId": "71edeb9f-3d06-4bce-b492-901e2ca91a9d"
      },
      "execution_count": 5,
      "outputs": [
        {
          "output_type": "execute_result",
          "data": {
            "text/plain": [
              "Index(['loan_amnt', 'term', 'int_rate', 'annual_inc', 'dti', 'delinq_2yrs',\n",
              "       'fico_range_high', 'inq_last_6mths', 'open_acc', 'pub_rec', 'revol_bal',\n",
              "       'revol_util', 'total_acc', 'total_rec_int', 'total_rec_late_fee',\n",
              "       'recoveries', 'last_pymnt_amnt', 'last_fico_range_high',\n",
              "       'collections_12_mths_ex_med', 'acc_now_delinq',\n",
              "       'chargeoff_within_12_mths', 'delinq_amnt', 'pub_rec_bankruptcies',\n",
              "       'tax_liens', 'A2', 'A3', 'A4', 'A5', 'B1', 'B2', 'B3', 'B4', 'B5', 'C1',\n",
              "       'C2', 'C3', 'C4', 'C5', 'D1', 'D2', 'D3', 'D4', 'D5', 'E1', 'E2', 'E3',\n",
              "       'E4', 'E5', 'F1', 'F2', 'F3', 'F4', 'F5', 'G1', 'G2', 'G3', 'G4', 'G5',\n",
              "       'Source Verified', 'Verified', 'Joint App', 'w', 'credit_card',\n",
              "       'debt_consolidation', 'educational', 'home_improvement', 'house',\n",
              "       'major_purchase', 'medical', 'moving', 'other', 'renewable_energy',\n",
              "       'small_business', 'vacation', 'wedding', 'MORTGAGE', 'OTHER', 'OWN',\n",
              "       'RENT', 'DirectPay', 'Y'],\n",
              "      dtype='object')"
            ]
          },
          "metadata": {},
          "execution_count": 5
        }
      ]
    },
    {
      "cell_type": "code",
      "source": [
        "df_accepted['recoveries'].plot(legend=True, figsize=(20,5))"
      ],
      "metadata": {
        "colab": {
          "base_uri": "https://localhost:8080/",
          "height": 351
        },
        "id": "LLVUWry9SBlG",
        "outputId": "735235ec-e1b0-419b-978c-3e357493fe78"
      },
      "execution_count": 6,
      "outputs": [
        {
          "output_type": "execute_result",
          "data": {
            "text/plain": [
              "<matplotlib.axes._subplots.AxesSubplot at 0x7f6338584190>"
            ]
          },
          "metadata": {},
          "execution_count": 6
        },
        {
          "output_type": "display_data",
          "data": {
            "text/plain": [
              "<Figure size 1440x360 with 1 Axes>"
            ],
            "image/png": "[encoded data removed]"
          },
          "metadata": {
            "needs_background": "light"
          }
        }
      ]
    },
    {
      "cell_type": "code",
      "source": [
        "df_accepted['recoveries'].hist(bins=100,legend=True, figsize=(20,5))"
      ],
      "metadata": {
        "colab": {
          "base_uri": "https://localhost:8080/",
          "height": 349
        },
        "id": "ettGRlJsWC-z",
        "outputId": "94d7392f-a3fa-43cc-8972-0a63ccc6de24"
      },
      "execution_count": 7,
      "outputs": [
        {
          "output_type": "execute_result",
          "data": {
            "text/plain": [
              "<matplotlib.axes._subplots.AxesSubplot at 0x7f6333ed7690>"
            ]
          },
          "metadata": {},
          "execution_count": 7
        },
        {
          "output_type": "display_data",
          "data": {
            "text/plain": [
              "<Figure size 1440x360 with 1 Axes>"
            ],
            "image/png": "[encoded data removed]"
          },
          "metadata": {
            "needs_background": "light"
          }
        }
      ]
    },
    {
      "cell_type": "code",
      "source": [
        "X[2009][:,15]"
      ],
      "metadata": {
        "colab": {
          "base_uri": "https://localhost:8080/"
        },
        "id": "nXx2_Kc8TInm",
        "outputId": "9f62687d-0fa0-4df2-939e-e66495dd8c95"
      },
      "execution_count": 8,
      "outputs": [
        {
          "output_type": "execute_result",
          "data": {
            "text/plain": [
              "array([1910.03,    0.  ,    0.  , ...,    0.  ,    0.  ,    0.  ])"
            ]
          },
          "metadata": {},
          "execution_count": 8
        }
      ]
    },
    {
      "cell_type": "code",
      "source": [
        "mean_recoveries = np.mean(df_accepted['recoveries'].values)"
      ],
      "metadata": {
        "id": "POPrfk49UF3p"
      },
      "execution_count": 9,
      "outputs": []
    },
    {
      "cell_type": "code",
      "source": [
        "mean_recoveries"
      ],
      "metadata": {
        "colab": {
          "base_uri": "https://localhost:8080/"
        },
        "id": "dzGmhwaCUa8d",
        "outputId": "da52c46b-e2ee-407c-9656-7fcca08d3839"
      },
      "execution_count": 10,
      "outputs": [
        {
          "output_type": "execute_result",
          "data": {
            "text/plain": [
              "239.50665637282694"
            ]
          },
          "metadata": {},
          "execution_count": 10
        }
      ]
    },
    {
      "cell_type": "markdown",
      "source": [
        "* 'recoveries' 의 평균값은 239.50, 으로 이는 모수에 해당."
      ],
      "metadata": {
        "id": "cARLmdD3akER"
      }
    },
    {
      "cell_type": "code",
      "source": [
        "pop = list(df_accepted['recoveries'].values)\n",
        "\n",
        "sample_mean = []\n",
        "for i in range(1000):\n",
        "  y = random.sample(pop,1000)\n",
        "  avg = np.mean(y)\n",
        "  sample_mean.append(avg)\n",
        "\n",
        "print(np.mean(sample_mean),np.std(sample_mean))"
      ],
      "metadata": {
        "colab": {
          "base_uri": "https://localhost:8080/"
        },
        "id": "g5nnTH7GU-FO",
        "outputId": "4feee7dd-79c1-4379-c3b7-eb6d0f391666"
      },
      "execution_count": 11,
      "outputs": [
        {
          "output_type": "stream",
          "name": "stdout",
          "text": [
            "239.4939005623832 31.735681323419122\n"
          ]
        }
      ]
    },
    {
      "cell_type": "markdown",
      "source": [
        "* bootstrap sampling 1000개 1000번으로 평균 239.32, 표준편차 30.31의 매우 근접한 통계량을 얻었다."
      ],
      "metadata": {
        "id": "D1y2RrAWdYUP"
      }
    },
    {
      "cell_type": "code",
      "source": [
        "from scipy.stats import ks_2samp, kstest\n",
        "pops = []\n",
        "for i in range(0,len(pop),1000):\n",
        "    pops.append(pop[i:i+1000])"
      ],
      "metadata": {
        "id": "wJIoU8kMTceG"
      },
      "execution_count": 57,
      "outputs": []
    },
    {
      "cell_type": "code",
      "source": [
        "sample_drift = []\n",
        "for pp in pops:\n",
        "    #p = ks_2samp(random.sample(pop,1000),pp)\n",
        "    p = ks_2samp(pops[0],pp)\n",
        "    sample_drift.append(p[0])"
      ],
      "metadata": {
        "id": "2Ghx7Z1gWtIt"
      },
      "execution_count": 63,
      "outputs": []
    },
    {
      "cell_type": "code",
      "source": [
        "plt.figure(figsize=(20,5))\n",
        "plt.plot(sample_drift)"
      ],
      "metadata": {
        "colab": {
          "base_uri": "https://localhost:8080/",
          "height": 338
        },
        "id": "r7y1o9HrXBVq",
        "outputId": "eb61c405-7b90-40e0-f07f-74b225c6a9fe"
      },
      "execution_count": 64,
      "outputs": [
        {
          "output_type": "execute_result",
          "data": {
            "text/plain": [
              "[<matplotlib.lines.Line2D at 0x7f6349f7ecd0>]"
            ]
          },
          "metadata": {},
          "execution_count": 64
        },
        {
          "output_type": "display_data",
          "data": {
            "text/plain": [
              "<Figure size 1440x360 with 1 Axes>"
            ],
            "image/png": "[encoded data removed]"
          },
          "metadata": {
            "needs_background": "light"
          }
        }
      ]
    },
    {
      "cell_type": "code",
      "source": [
        "print(np.mean(sample_drift),np.std(sample_drift))"
      ],
      "metadata": {
        "colab": {
          "base_uri": "https://localhost:8080/"
        },
        "id": "T2iyjwtdToyL",
        "outputId": "f80115aa-c65d-41de-9ff1-2348b75cbb5a"
      },
      "execution_count": 65,
      "outputs": [
        {
          "output_type": "stream",
          "name": "stdout",
          "text": [
            "0.0926892697466468 0.022963416533055458\n"
          ]
        }
      ]
    },
    {
      "cell_type": "markdown",
      "source": [
        "* 'recoveries'의 ks-test에 대한 (최초 1000개 기준, 1000개 Two-sample Kolmogorov–Smirnov test) drift 통계량은 0.0926, drift의 표준편차는 0.0229 "
      ],
      "metadata": {
        "id": "80a9K9_1dk20"
      }
    },
    {
      "cell_type": "code",
      "source": [
        "sample_drift_mean = []\n",
        "for i in range(1000):\n",
        "  y = random.sample(pop,1000)\n",
        "  p = ks_2samp(pops[0],y)\n",
        "  sample_drift_mean.append(p[0])"
      ],
      "metadata": {
        "id": "fOm04U3zXgiT"
      },
      "execution_count": 66,
      "outputs": []
    },
    {
      "cell_type": "code",
      "source": [
        "print(np.mean(sample_drift_mean),np.std(sample_drift_mean))"
      ],
      "metadata": {
        "colab": {
          "base_uri": "https://localhost:8080/"
        },
        "id": "WtgDSVfMZIUX",
        "outputId": "3c70f47e-17fa-49c5-eefb-7fda8c6689cf"
      },
      "execution_count": 67,
      "outputs": [
        {
          "output_type": "stream",
          "name": "stdout",
          "text": [
            "0.087144 0.009595064564660314\n"
          ]
        }
      ]
    },
    {
      "cell_type": "markdown",
      "source": [
        "* bootstrap samlping에 의한 'recoveries'의 ks-test에 대한 (최초 1000개 기준) drift 통계량은 0.0877, 표준편차 0.0096으로서 상당한 차이 발생. "
      ],
      "metadata": {
        "id": "GsVTGDWkd0TI"
      }
    },
    {
      "cell_type": "markdown",
      "source": [
        "## drift측정을 위한 sampling 방법\n",
        "* TAD는 시간 특성을 포함하기 때문에 random sampling에 해당하는 bootstap sampling으로는 시간특성을 파괴하므로 적함하지 않음.\n",
        "* 따라서 TAD의 시간 특성을 고려하여, Systematic sampling으로서 시작점은 random하게 일정구간을 그대로 sampling하는 방법(명명, range sampling) 을 적용한다.   "
      ],
      "metadata": {
        "id": "JXmxWPSHeDpT"
      }
    },
    {
      "cell_type": "code",
      "source": [
        "sample_drift_mean = []\n",
        "for i in range(1000):\n",
        "    # range sampling \n",
        "    y = random.randint(0,len(pop)-1000)\n",
        "    p = ks_2samp(pops[0],pop[y:y+1000])\n",
        "    sample_drift_mean.append(p[0])"
      ],
      "metadata": {
        "id": "0wVHNniLZ1SE"
      },
      "execution_count": 68,
      "outputs": []
    },
    {
      "cell_type": "code",
      "source": [
        "print(np.mean(sample_drift_mean),np.std(sample_drift_mean))"
      ],
      "metadata": {
        "colab": {
          "base_uri": "https://localhost:8080/"
        },
        "id": "2J09DfQnaHjs",
        "outputId": "bd9043c9-184f-4bc7-f9e4-c73a2cd78aa2"
      },
      "execution_count": 69,
      "outputs": [
        {
          "output_type": "stream",
          "name": "stdout",
          "text": [
            "0.091578 0.02343224095130468\n"
          ]
        }
      ]
    },
    {
      "cell_type": "markdown",
      "source": [
        "* range sampling의 결과,drift 통계량 0.0927, 표준편차 0.0224 의 결과로서 bootstrap sampling에 비해 모수(?)에 유사하게 추정되었다."
      ],
      "metadata": {
        "id": "h8UFRshDfC01"
      }
    },
    {
      "cell_type": "markdown",
      "source": [
        "# ks-test 실험\n",
        "\n",
        "* https://en.wikipedia.org/wiki/Kolmogorov%E2%80%93Smirnov_test\n",
        "* sample의 크기가 커지면 두 sample의 조금만 틀려도 drift로 판명 한다? --> 그렇겠지!\n"
      ],
      "metadata": {
        "id": "kvCxVRT4x4cD"
      }
    },
    {
      "cell_type": "code",
      "source": [
        "from scipy import stats\n",
        "import sys\n",
        "import math\n",
        "if sys.version_info >= (3, 5):\n",
        "    from math import gcd\n",
        "else:\n",
        "    from fractions import gcd\n",
        "\n",
        "def ks_2samp2(sample1, sample2):\n",
        "    # Gets all observations\n",
        "    sample1 = np.sort(sample1)\n",
        "    sample2 = np.sort(sample2)\n",
        "    n1 = sample1.shape[0]\n",
        "    n2 = sample2.shape[0]   \n",
        "    data_all = np.concatenate([sample1, sample2])\n",
        "    cdf1 = np.searchsorted(sample1, data_all, side='right') / n1\n",
        "    cdf2 = np.searchsorted(sample2, data_all, side='right') / n2\n",
        "    # Evaluates the KS statistic\n",
        "    cddiffs = cdf1 - cdf2\n",
        "    minS = -np.min(cddiffs)\n",
        "    maxS = np.max(cddiffs)\n",
        "    ks_stat =  max(minS, maxS)\n",
        "    \n",
        "    if ks_stat == minS:\n",
        "        ks_stat = -ks_stat\n",
        "    \n",
        "    # Calculates the P-Value based on the two-sided test\n",
        "    # The P-Value comes from the KS Distribution Survival Function (SF = 1-CDF)\n",
        "    m, n = float(n1), float(n2)\n",
        "    en = m * n / (m + n)\n",
        "    p_value = stats.kstwobign.sf(math.sqrt(en) * abs(ks_stat))\n",
        "\n",
        "    return ks_stat,p_value"
      ],
      "metadata": {
        "id": "qfY3urCh3VD4"
      },
      "execution_count": 20,
      "outputs": []
    },
    {
      "cell_type": "code",
      "source": [
        "from scipy.stats import ks_2samp, kstest\n",
        "\n",
        "sample_count = 10000\n",
        "d_values = []\n",
        "p_values = []\n",
        "\n",
        "d_values2 = []\n",
        "p_values2 = []\n",
        "\n",
        "for i in range(100):\n",
        "    sample1 = np.random.normal(0, 1, sample_count)\n",
        "    sample2 = np.random.normal(0.1, 1, sample_count)\n",
        "    p = ks_2samp(sample1,sample2)\n",
        "    d_values.append(p[0])\n",
        "    p_values.append(p[1])\n",
        "\n",
        "    p = ks_2samp2(sample1,sample2)\n",
        "    d_values2.append(p[0])\n",
        "    p_values2.append(p[1])\n",
        "\n",
        "plt.title(f'distribution of ks statistics in {sample_count} samples')\n",
        "plt.hist(d_values,bins=10)\n",
        "plt.show()\n",
        "\n",
        "plt.title(f'distribution of ks statistics in {sample_count} samples')\n",
        "plt.hist(d_values2,bins=10)\n",
        "plt.show()\n",
        "\n",
        "plt.title(f'distribution of ks p-value in {sample_count} samples')\n",
        "plt.hist(p_values,bins=10)\n",
        "plt.show()\n",
        "\n",
        "plt.title(f'distribution of ks p-value in {sample_count} samples')\n",
        "plt.hist(p_values2,bins=10)\n",
        "plt.show()"
      ],
      "metadata": {
        "id": "vciMqx4Kzm2_",
        "outputId": "9ec02f0b-053b-4ec7-b73c-cc0af9e017b8",
        "colab": {
          "base_uri": "https://localhost:8080/",
          "height": 1000
        }
      },
      "execution_count": 21,
      "outputs": [
        {
          "output_type": "display_data",
          "data": {
            "text/plain": [
              "<Figure size 432x288 with 1 Axes>"
            ],
            "image/png": "[encoded data removed]"
          },
          "metadata": {
            "needs_background": "light"
          }
        },
        {
          "output_type": "display_data",
          "data": {
            "text/plain": [
              "<Figure size 432x288 with 1 Axes>"
            ],
            "image/png": "[encoded data removed]"
          },
          "metadata": {
            "needs_background": "light"
          }
        },
        {
          "output_type": "display_data",
          "data": {
            "text/plain": [
              "<Figure size 432x288 with 1 Axes>"
            ],
            "image/png": "[encoded data removed]"
          },
          "metadata": {
            "needs_background": "light"
          }
        },
        {
          "output_type": "display_data",
          "data": {
            "text/plain": [
              "<Figure size 432x288 with 1 Axes>"
            ],
            "image/png": "[encoded data removed]"
          },
          "metadata": {
            "needs_background": "light"
          }
        }
      ]
    },
    {
      "cell_type": "code",
      "source": [
        "df_accepted.shape"
      ],
      "metadata": {
        "id": "ktJmVLi33Qli",
        "outputId": "cd9de01f-301a-4af3-e78a-99c08e09fd8f",
        "colab": {
          "base_uri": "https://localhost:8080/"
        }
      },
      "execution_count": 22,
      "outputs": [
        {
          "output_type": "execute_result",
          "data": {
            "text/plain": [
              "(1341026, 83)"
            ]
          },
          "metadata": {},
          "execution_count": 22
        }
      ]
    },
    {
      "cell_type": "code",
      "source": [
        "pops = []\n",
        "for i in range(0,len(pop),10000):\n",
        "    pops.append(pop[i:i+10000])"
      ],
      "metadata": {
        "id": "cxvAbNewIvG3"
      },
      "execution_count": 70,
      "outputs": []
    },
    {
      "cell_type": "code",
      "source": [
        "len(pops)"
      ],
      "metadata": {
        "id": "b_yFApdmIxTn",
        "outputId": "a746be7b-5e46-4276-b5a4-4e2727ca61b7",
        "colab": {
          "base_uri": "https://localhost:8080/"
        }
      },
      "execution_count": 24,
      "outputs": [
        {
          "output_type": "execute_result",
          "data": {
            "text/plain": [
              "135"
            ]
          },
          "metadata": {},
          "execution_count": 24
        }
      ]
    },
    {
      "cell_type": "code",
      "source": [
        "sample_drift_mean = []\n",
        "for i in range(1000):\n",
        "    # range sampling \n",
        "    y = random.randint(0,len(pop)-10000)\n",
        "    #p = ks_2samp(random.sample(pop,10000),pop[y:y+10000])\n",
        "    p = ks_2samp(pops[0],pop[y:y+10000])\n",
        "    sample_drift_mean.append(p[0])"
      ],
      "metadata": {
        "id": "H_uMkWj-JTZn"
      },
      "execution_count": 74,
      "outputs": []
    },
    {
      "cell_type": "code",
      "source": [
        "print(np.mean(sample_drift_mean),np.std(sample_drift_mean))"
      ],
      "metadata": {
        "id": "st-VN3jlJhYZ",
        "outputId": "6d5844e0-8890-4532-9817-a01dfd727f95",
        "colab": {
          "base_uri": "https://localhost:8080/"
        }
      },
      "execution_count": 75,
      "outputs": [
        {
          "output_type": "stream",
          "name": "stdout",
          "text": [
            "0.08844450000000001 0.01890811174469836\n"
          ]
        }
      ]
    },
    {
      "cell_type": "code",
      "source": [
        "sample_drift_mean = []\n",
        "sample_p_value_mean = []\n",
        "for i in range(4000):\n",
        "    # range sampling \n",
        "    y = random.randint(0,len(pops[0])-1000)\n",
        "    #p = ks_2samp(random.sample(pops[0],1000),pops[0][y:y+1000])\n",
        "    p = ks_2samp(pops[0],pops[0][y:y+1000])\n",
        "    sample_drift_mean.append(p[0])\n",
        "    sample_p_value_mean.append(p[1])\n",
        "\n",
        "print(np.mean(sample_drift_mean),np.std(sample_drift_mean))\n",
        "print(np.mean(sample_p_value_mean),np.std(sample_p_value_mean))    "
      ],
      "metadata": {
        "id": "nff1e3-BJtyK",
        "outputId": "6038963c-9e59-432b-d493-fae86a630c8d",
        "colab": {
          "base_uri": "https://localhost:8080/"
        }
      },
      "execution_count": 77,
      "outputs": [
        {
          "output_type": "stream",
          "name": "stdout",
          "text": [
            "0.01646555 0.006795828735150703\n",
            "0.8719340572626053 0.20264255420113236\n"
          ]
        }
      ]
    }
  ]
}