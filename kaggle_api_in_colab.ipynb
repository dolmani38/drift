{
  "nbformat": 4,
  "nbformat_minor": 0,
  "metadata": {
    "colab": {
      "name": "How to use the Kaggle API from Colab",
      "provenance": [],
      "collapsed_sections": [],
      "toc_visible": true,
      "machine_shape": "hm",
      "include_colab_link": true
    },
    "kernelspec": {
      "name": "python3",
      "display_name": "Python 3"
    },
    "accelerator": "GPU",
    "gpuClass": "standard",
    "widgets": {
      "application/vnd.jupyter.widget-state+json": {
        "9447c776c70e4cd8b2fbe042d0ff62b7": {
          "model_module": "catboost-widget",
          "model_name": "CatboostWidgetModel",
          "model_module_version": "^1.0.0",
          "state": {
            "_dom_classes": [],
            "_model_module": "catboost-widget",
            "_model_module_version": "^1.0.0",
            "_model_name": "CatboostWidgetModel",
            "_view_count": null,
            "_view_module": "catboost-widget",
            "_view_module_version": "^1.0.0",
            "_view_name": "CatboostWidgetView",
            "data": {
              "catboost_info": {
                "path": "catboost_info",
                "name": "catboost_info",
                "content": {
                  "passed_iterations": 999,
                  "total_iterations": 1000,
                  "data": {
                    "iterations": [
                      {
                        "learn": [
                          0.2804421968
                        ],
                        "iteration": 0,
                        "passed_time": 0.07679262784,
                        "remaining_time": 76.71583521
                      },
                      {
                        "learn": [
                          0.1237842009
                        ],
                        "iteration": 1,
                        "passed_time": 0.1465418023,
                        "remaining_time": 73.12435936
                      },
                      {
                        "learn": [
                          0.06293902605
                        ],
                        "iteration": 2,
                        "passed_time": 0.2194953754,
                        "remaining_time": 72.94562975
                      },
                      {
                        "learn": [
                          0.03277271308
                        ],
                        "iteration": 3,
                        "passed_time": 0.2901314417,
                        "remaining_time": 72.24272898
                      },
                      {
                        "learn": [
                          0.02285403737
                        ],
                        "iteration": 4,
                        "passed_time": 0.3682045632,
                        "remaining_time": 73.27270807
                      },
                      {
                        "learn": [
                          0.016481454
                        ],
                        "iteration": 5,
                        "passed_time": 0.4388485408,
                        "remaining_time": 72.70257492
                      },
                      {
                        "learn": [
                          0.0132590885
                        ],
                        "iteration": 6,
                        "passed_time": 0.5073063572,
                        "remaining_time": 71.96503039
                      },
                      {
                        "learn": [
                          0.01093023458
                        ],
                        "iteration": 7,
                        "passed_time": 0.5742064813,
                        "remaining_time": 71.20160368
                      },
                      {
                        "learn": [
                          0.009794135315
                        ],
                        "iteration": 8,
                        "passed_time": 0.6399670257,
                        "remaining_time": 70.46748027
                      },
                      {
                        "learn": [
                          0.009220241544
                        ],
                        "iteration": 9,
                        "passed_time": 0.705267936,
                        "remaining_time": 69.82152567
                      },
                      {
                        "learn": [
                          0.008518179593
                        ],
                        "iteration": 10,
                        "passed_time": 0.7839033186,
                        "remaining_time": 70.48003473
                      },
                      {
                        "learn": [
                          0.008227941456
                        ],
                        "iteration": 11,
                        "passed_time": 0.8547099866,
                        "remaining_time": 70.37112223
                      },
                      {
                        "learn": [
                          0.007846617693
                        ],
                        "iteration": 12,
                        "passed_time": 0.9258006564,
                        "remaining_time": 70.28963445
                      },
                      {
                        "learn": [
                          0.007717391584
                        ],
                        "iteration": 13,
                        "passed_time": 0.9954585809,
                        "remaining_time": 70.10872577
                      },
                      {
                        "learn": [
                          0.007510489145
                        ],
                        "iteration": 14,
                        "passed_time": 1.061541673,
                        "remaining_time": 69.7079032
                      },
                      {
                        "learn": [
                          0.007227238698
                        ],
                        "iteration": 15,
                        "passed_time": 1.138619938,
                        "remaining_time": 70.02512621
                      },
                      {
                        "learn": [
                          0.006981249696
                        ],
                        "iteration": 16,
                        "passed_time": 1.202291672,
                        "remaining_time": 69.52074786
                      },
                      {
                        "learn": [
                          0.006927625737
                        ],
                        "iteration": 17,
                        "passed_time": 1.269860491,
                        "remaining_time": 69.27794457
                      },
                      {
                        "learn": [
                          0.00673178722
                        ],
                        "iteration": 18,
                        "passed_time": 1.344539034,
                        "remaining_time": 69.42067327
                      },
                      {
                        "learn": [
                          0.006587775842
                        ],
                        "iteration": 19,
                        "passed_time": 1.412673858,
                        "remaining_time": 69.22101904
                      },
                      {
                        "learn": [
                          0.006462529532
                        ],
                        "iteration": 20,
                        "passed_time": 1.486449515,
                        "remaining_time": 69.29686072
                      },
                      {
                        "learn": [
                          0.006332004704
                        ],
                        "iteration": 21,
                        "passed_time": 1.552059408,
                        "remaining_time": 68.99609551
                      },
                      {
                        "learn": [
                          0.006285908451
                        ],
                        "iteration": 22,
                        "passed_time": 1.616736659,
                        "remaining_time": 68.67616154
                      },
                      {
                        "learn": [
                          0.006186130847
                        ],
                        "iteration": 23,
                        "passed_time": 1.692174998,
                        "remaining_time": 68.8151166
                      },
                      {
                        "learn": [
                          0.006135889323
                        ],
                        "iteration": 24,
                        "passed_time": 1.76167958,
                        "remaining_time": 68.70550362
                      },
                      {
                        "learn": [
                          0.006047278812
                        ],
                        "iteration": 25,
                        "passed_time": 1.833619892,
                        "remaining_time": 68.69022213
                      },
                      {
                        "learn": [
                          0.005944544673
                        ],
                        "iteration": 26,
                        "passed_time": 1.90490847,
                        "remaining_time": 68.64725707
                      },
                      {
                        "learn": [
                          0.005931737336
                        ],
                        "iteration": 27,
                        "passed_time": 1.967576023,
                        "remaining_time": 68.30299621
                      },
                      {
                        "learn": [
                          0.005862162969
                        ],
                        "iteration": 28,
                        "passed_time": 2.040720127,
                        "remaining_time": 68.32893943
                      },
                      {
                        "learn": [
                          0.005815706187
                        ],
                        "iteration": 29,
                        "passed_time": 2.104407867,
                        "remaining_time": 68.04252104
                      },
                      {
                        "learn": [
                          0.005768346228
                        ],
                        "iteration": 30,
                        "passed_time": 2.173438615,
                        "remaining_time": 67.93748445
                      },
                      {
                        "learn": [
                          0.005742389778
                        ],
                        "iteration": 31,
                        "passed_time": 2.237142041,
                        "remaining_time": 67.67354673
                      },
                      {
                        "learn": [
                          0.005693585367
                        ],
                        "iteration": 32,
                        "passed_time": 2.309495125,
                        "remaining_time": 67.67520562
                      },
                      {
                        "learn": [
                          0.005619282431
                        ],
                        "iteration": 33,
                        "passed_time": 2.375884149,
                        "remaining_time": 67.5030614
                      },
                      {
                        "learn": [
                          0.005553358396
                        ],
                        "iteration": 34,
                        "passed_time": 2.449277415,
                        "remaining_time": 67.53007729
                      },
                      {
                        "learn": [
                          0.005362016788
                        ],
                        "iteration": 35,
                        "passed_time": 2.520020711,
                        "remaining_time": 67.48055459
                      },
                      {
                        "learn": [
                          0.00533080054
                        ],
                        "iteration": 36,
                        "passed_time": 2.582987332,
                        "remaining_time": 67.22748109
                      },
                      {
                        "learn": [
                          0.005267425716
                        ],
                        "iteration": 37,
                        "passed_time": 2.651109962,
                        "remaining_time": 67.11494168
                      },
                      {
                        "learn": [
                          0.005234222754
                        ],
                        "iteration": 38,
                        "passed_time": 2.722033426,
                        "remaining_time": 67.07369544
                      },
                      {
                        "learn": [
                          0.005213198928
                        ],
                        "iteration": 39,
                        "passed_time": 2.783035281,
                        "remaining_time": 66.79284675
                      },
                      {
                        "learn": [
                          0.005144678851
                        ],
                        "iteration": 40,
                        "passed_time": 2.856166817,
                        "remaining_time": 66.80643847
                      },
                      {
                        "learn": [
                          0.00511205173
                        ],
                        "iteration": 41,
                        "passed_time": 2.923110862,
                        "remaining_time": 66.67476681
                      },
                      {
                        "learn": [
                          0.005082954558
                        ],
                        "iteration": 42,
                        "passed_time": 2.994792849,
                        "remaining_time": 66.65155247
                      },
                      {
                        "learn": [
                          0.005050921392
                        ],
                        "iteration": 43,
                        "passed_time": 3.06877351,
                        "remaining_time": 66.67607899
                      },
                      {
                        "learn": [
                          0.004945077713
                        ],
                        "iteration": 44,
                        "passed_time": 3.135054541,
                        "remaining_time": 66.53282415
                      },
                      {
                        "learn": [
                          0.004919469744
                        ],
                        "iteration": 45,
                        "passed_time": 3.203640128,
                        "remaining_time": 66.44071048
                      },
                      {
                        "learn": [
                          0.00480763413
                        ],
                        "iteration": 46,
                        "passed_time": 3.269343741,
                        "remaining_time": 66.29116138
                      },
                      {
                        "learn": [
                          0.00478258941
                        ],
                        "iteration": 47,
                        "passed_time": 3.339876112,
                        "remaining_time": 66.24087623
                      },
                      {
                        "learn": [
                          0.004762687441
                        ],
                        "iteration": 48,
                        "passed_time": 3.405908083,
                        "remaining_time": 66.10242015
                      },
                      {
                        "learn": [
                          0.00473809267
                        ],
                        "iteration": 49,
                        "passed_time": 3.481677949,
                        "remaining_time": 66.15188102
                      },
                      {
                        "learn": [
                          0.004732802573
                        ],
                        "iteration": 50,
                        "passed_time": 3.546019829,
                        "remaining_time": 65.98378075
                      },
                      {
                        "learn": [
                          0.00470798097
                        ],
                        "iteration": 51,
                        "passed_time": 3.614001464,
                        "remaining_time": 65.88602668
                      },
                      {
                        "learn": [
                          0.004648627466
                        ],
                        "iteration": 52,
                        "passed_time": 3.680776894,
                        "remaining_time": 65.76784374
                      },
                      {
                        "learn": [
                          0.004625418636
                        ],
                        "iteration": 53,
                        "passed_time": 3.752908586,
                        "remaining_time": 65.74539856
                      },
                      {
                        "learn": [
                          0.004599647269
                        ],
                        "iteration": 54,
                        "passed_time": 3.822179196,
                        "remaining_time": 65.671988
                      },
                      {
                        "learn": [
                          0.004577837953
                        ],
                        "iteration": 55,
                        "passed_time": 3.888725588,
                        "remaining_time": 65.55280278
                      },
                      {
                        "learn": [
                          0.004504840311
                        ],
                        "iteration": 56,
                        "passed_time": 3.963138612,
                        "remaining_time": 65.56560896
                      },
                      {
                        "learn": [
                          0.004481025877
                        ],
                        "iteration": 57,
                        "passed_time": 4.038721433,
                        "remaining_time": 65.59440672
                      },
                      {
                        "learn": [
                          0.004469638588
                        ],
                        "iteration": 58,
                        "passed_time": 4.099809318,
                        "remaining_time": 65.3884842
                      },
                      {
                        "learn": [
                          0.004457700361
                        ],
                        "iteration": 59,
                        "passed_time": 4.165295894,
                        "remaining_time": 65.25630234
                      },
                      {
                        "learn": [
                          0.004448565371
                        ],
                        "iteration": 60,
                        "passed_time": 4.231913846,
                        "remaining_time": 65.14372297
                      },
                      {
                        "learn": [
                          0.004421439966
                        ],
                        "iteration": 61,
                        "passed_time": 4.302072061,
                        "remaining_time": 65.08618699
                      },
                      {
                        "learn": [
                          0.004273025241
                        ],
                        "iteration": 62,
                        "passed_time": 4.371849365,
                        "remaining_time": 65.022585
                      },
                      {
                        "learn": [
                          0.004250512507
                        ],
                        "iteration": 63,
                        "passed_time": 4.445847731,
                        "remaining_time": 65.02052307
                      },
                      {
                        "learn": [
                          0.004218313669
                        ],
                        "iteration": 64,
                        "passed_time": 4.528910507,
                        "remaining_time": 65.14663576
                      },
                      {
                        "learn": [
                          0.004194159904
                        ],
                        "iteration": 65,
                        "passed_time": 4.59366415,
                        "remaining_time": 65.00730781
                      },
                      {
                        "learn": [
                          0.004175870181
                        ],
                        "iteration": 66,
                        "passed_time": 4.659993429,
                        "remaining_time": 64.89214731
                      },
                      {
                        "learn": [
                          0.004162329486
                        ],
                        "iteration": 67,
                        "passed_time": 4.731559445,
                        "remaining_time": 64.8501971
                      },
                      {
                        "learn": [
                          0.004143360122
                        ],
                        "iteration": 68,
                        "passed_time": 4.80339589,
                        "remaining_time": 64.81103729
                      },
                      {
                        "learn": [
                          0.004129060183
                        ],
                        "iteration": 69,
                        "passed_time": 4.881447835,
                        "remaining_time": 64.85352123
                      },
                      {
                        "learn": [
                          0.004110849152
                        ],
                        "iteration": 70,
                        "passed_time": 4.954665917,
                        "remaining_time": 64.82936108
                      },
                      {
                        "learn": [
                          0.004077597359
                        ],
                        "iteration": 71,
                        "passed_time": 5.031213082,
                        "remaining_time": 64.84674639
                      },
                      {
                        "learn": [
                          0.004065050888
                        ],
                        "iteration": 72,
                        "passed_time": 5.102189822,
                        "remaining_time": 64.79082144
                      },
                      {
                        "learn": [
                          0.004052357799
                        ],
                        "iteration": 73,
                        "passed_time": 5.163922037,
                        "remaining_time": 64.6188082
                      },
                      {
                        "learn": [
                          0.004038698339
                        ],
                        "iteration": 74,
                        "passed_time": 5.231815893,
                        "remaining_time": 64.52572934
                      },
                      {
                        "learn": [
                          0.004031491399
                        ],
                        "iteration": 75,
                        "passed_time": 5.298528185,
                        "remaining_time": 64.41894793
                      },
                      {
                        "learn": [
                          0.004019106848
                        ],
                        "iteration": 76,
                        "passed_time": 5.364968285,
                        "remaining_time": 64.30994451
                      },
                      {
                        "learn": [
                          0.003983386731
                        ],
                        "iteration": 77,
                        "passed_time": 5.432198639,
                        "remaining_time": 64.21137366
                      },
                      {
                        "learn": [
                          0.003967648101
                        ],
                        "iteration": 78,
                        "passed_time": 5.501930064,
                        "remaining_time": 64.14275429
                      },
                      {
                        "learn": [
                          0.003964109497
                        ],
                        "iteration": 79,
                        "passed_time": 5.564363963,
                        "remaining_time": 63.99018557
                      },
                      {
                        "learn": [
                          0.003932879477
                        ],
                        "iteration": 80,
                        "passed_time": 5.633758636,
                        "remaining_time": 63.91881712
                      },
                      {
                        "learn": [
                          0.003916464662
                        ],
                        "iteration": 81,
                        "passed_time": 5.700010869,
                        "remaining_time": 63.8123168
                      },
                      {
                        "learn": [
                          0.003898124054
                        ],
                        "iteration": 82,
                        "passed_time": 5.768826441,
                        "remaining_time": 63.73510658
                      },
                      {
                        "learn": [
                          0.00388092579
                        ],
                        "iteration": 83,
                        "passed_time": 5.834474755,
                        "remaining_time": 63.62355804
                      },
                      {
                        "learn": [
                          0.003877829071
                        ],
                        "iteration": 84,
                        "passed_time": 5.905706948,
                        "remaining_time": 63.57319832
                      },
                      {
                        "learn": [
                          0.003868932675
                        ],
                        "iteration": 85,
                        "passed_time": 5.975215248,
                        "remaining_time": 63.50403182
                      },
                      {
                        "learn": [
                          0.003852028166
                        ],
                        "iteration": 86,
                        "passed_time": 6.043547066,
                        "remaining_time": 63.42251116
                      },
                      {
                        "learn": [
                          0.00385042906
                        ],
                        "iteration": 87,
                        "passed_time": 6.10413148,
                        "remaining_time": 63.26099898
                      },
                      {
                        "learn": [
                          0.003835074872
                        ],
                        "iteration": 88,
                        "passed_time": 6.176928105,
                        "remaining_time": 63.22675847
                      },
                      {
                        "learn": [
                          0.003811330277
                        ],
                        "iteration": 89,
                        "passed_time": 6.246628595,
                        "remaining_time": 63.16035579
                      },
                      {
                        "learn": [
                          0.003808310583
                        ],
                        "iteration": 90,
                        "passed_time": 6.309698353,
                        "remaining_time": 63.02764618
                      },
                      {
                        "learn": [
                          0.003763907413
                        ],
                        "iteration": 91,
                        "passed_time": 6.374995391,
                        "remaining_time": 62.91843277
                      },
                      {
                        "learn": [
                          0.003748065547
                        ],
                        "iteration": 92,
                        "passed_time": 6.442193928,
                        "remaining_time": 62.82870852
                      },
                      {
                        "learn": [
                          0.003736248889
                        ],
                        "iteration": 93,
                        "passed_time": 6.506844911,
                        "remaining_time": 62.71490947
                      },
                      {
                        "learn": [
                          0.003730353291
                        ],
                        "iteration": 94,
                        "passed_time": 6.571501715,
                        "remaining_time": 62.60220055
                      },
                      {
                        "learn": [
                          0.003723110392
                        ],
                        "iteration": 95,
                        "passed_time": 6.636331581,
                        "remaining_time": 62.49212239
                      },
                      {
                        "learn": [
                          0.00369189785
                        ],
                        "iteration": 96,
                        "passed_time": 6.703940748,
                        "remaining_time": 62.40885047
                      },
                      {
                        "learn": [
                          0.003681187486
                        ],
                        "iteration": 97,
                        "passed_time": 6.7747187,
                        "remaining_time": 62.35506395
                      },
                      {
                        "learn": [
                          0.003644408246
                        ],
                        "iteration": 98,
                        "passed_time": 6.845386164,
                        "remaining_time": 62.29992862
                      },
                      {
                        "learn": [
                          0.003622857928
                        ],
                        "iteration": 99,
                        "passed_time": 6.926466062,
                        "remaining_time": 62.33819455
                      },
                      {
                        "learn": [
                          0.003609383672
                        ],
                        "iteration": 100,
                        "passed_time": 6.999586826,
                        "remaining_time": 62.30325304
                      },
                      {
                        "learn": [
                          0.003605186995
                        ],
                        "iteration": 101,
                        "passed_time": 7.067765599,
                        "remaining_time": 62.224054
                      },
                      {
                        "learn": [
                          0.003579925714
                        ],
                        "iteration": 102,
                        "passed_time": 7.13546585,
                        "remaining_time": 62.14090163
                      },
                      {
                        "learn": [
                          0.00355647754
                        ],
                        "iteration": 103,
                        "passed_time": 7.207413204,
                        "remaining_time": 62.09463684
                      },
                      {
                        "learn": [
                          0.003543644495
                        ],
                        "iteration": 104,
                        "passed_time": 7.275427472,
                        "remaining_time": 62.01435797
                      },
                      {
                        "learn": [
                          0.003539056878
                        ],
                        "iteration": 105,
                        "passed_time": 7.346179031,
                        "remaining_time": 61.95739673
                      },
                      {
                        "learn": [
                          0.003537213765
                        ],
                        "iteration": 106,
                        "passed_time": 7.414585164,
                        "remaining_time": 61.88060328
                      },
                      {
                        "learn": [
                          0.003516236544
                        ],
                        "iteration": 107,
                        "passed_time": 7.48311591,
                        "remaining_time": 61.80499437
                      },
                      {
                        "learn": [
                          0.00351306098
                        ],
                        "iteration": 108,
                        "passed_time": 7.54546569,
                        "remaining_time": 61.67899019
                      },
                      {
                        "learn": [
                          0.003507515534
                        ],
                        "iteration": 109,
                        "passed_time": 7.609832447,
                        "remaining_time": 61.57046252
                      },
                      {
                        "learn": [
                          0.003497676252
                        ],
                        "iteration": 110,
                        "passed_time": 7.675539798,
                        "remaining_time": 61.47346739
                      },
                      {
                        "learn": [
                          0.003444172481
                        ],
                        "iteration": 111,
                        "passed_time": 7.75203238,
                        "remaining_time": 61.46254244
                      },
                      {
                        "learn": [
                          0.003414245137
                        ],
                        "iteration": 112,
                        "passed_time": 7.829271191,
                        "remaining_time": 61.45631457
                      },
                      {
                        "learn": [
                          0.003407352003
                        ],
                        "iteration": 113,
                        "passed_time": 7.891888551,
                        "remaining_time": 61.335204
                      },
                      {
                        "learn": [
                          0.003405192992
                        ],
                        "iteration": 114,
                        "passed_time": 7.963221724,
                        "remaining_time": 61.28218457
                      },
                      {
                        "learn": [
                          0.003400119345
                        ],
                        "iteration": 115,
                        "passed_time": 8.0245392,
                        "remaining_time": 61.15252287
                      },
                      {
                        "learn": [
                          0.003394914778
                        ],
                        "iteration": 116,
                        "passed_time": 8.0889763,
                        "remaining_time": 61.04757327
                      },
                      {
                        "learn": [
                          0.003385405757
                        ],
                        "iteration": 117,
                        "passed_time": 8.153389946,
                        "remaining_time": 60.94313502
                      },
                      {
                        "learn": [
                          0.003374894007
                        ],
                        "iteration": 118,
                        "passed_time": 8.225339726,
                        "remaining_time": 60.89516217
                      },
                      {
                        "learn": [
                          0.003362741197
                        ],
                        "iteration": 119,
                        "passed_time": 8.29152163,
                        "remaining_time": 60.80449195
                      },
                      {
                        "learn": [
                          0.003362189955
                        ],
                        "iteration": 120,
                        "passed_time": 8.345394743,
                        "remaining_time": 60.62480974
                      },
                      {
                        "learn": [
                          0.003359165384
                        ],
                        "iteration": 121,
                        "passed_time": 8.407827561,
                        "remaining_time": 60.50879179
                      },
                      {
                        "learn": [
                          0.003354242142
                        ],
                        "iteration": 122,
                        "passed_time": 8.471551994,
                        "remaining_time": 60.40285446
                      },
                      {
                        "learn": [
                          0.003350428042
                        ],
                        "iteration": 123,
                        "passed_time": 8.53583965,
                        "remaining_time": 60.30157688
                      },
                      {
                        "learn": [
                          0.00334748627
                        ],
                        "iteration": 124,
                        "passed_time": 8.599156996,
                        "remaining_time": 60.19409897
                      },
                      {
                        "learn": [
                          0.00334095277
                        ],
                        "iteration": 125,
                        "passed_time": 8.666112329,
                        "remaining_time": 60.11255695
                      },
                      {
                        "learn": [
                          0.003340513737
                        ],
                        "iteration": 126,
                        "passed_time": 8.72826129,
                        "remaining_time": 59.99820556
                      },
                      {
                        "learn": [
                          0.003338099947
                        ],
                        "iteration": 127,
                        "passed_time": 8.793021576,
                        "remaining_time": 59.90245949
                      },
                      {
                        "learn": [
                          0.003336318968
                        ],
                        "iteration": 128,
                        "passed_time": 8.853487868,
                        "remaining_time": 59.77820103
                      },
                      {
                        "learn": [
                          0.003335264535
                        ],
                        "iteration": 129,
                        "passed_time": 8.927315186,
                        "remaining_time": 59.74434009
                      },
                      {
                        "learn": [
                          0.003333305915
                        ],
                        "iteration": 130,
                        "passed_time": 9.000140874,
                        "remaining_time": 59.70322458
                      },
                      {
                        "learn": [
                          0.003332048361
                        ],
                        "iteration": 131,
                        "passed_time": 9.068845773,
                        "remaining_time": 59.63453129
                      },
                      {
                        "learn": [
                          0.003330368753
                        ],
                        "iteration": 132,
                        "passed_time": 9.132318555,
                        "remaining_time": 59.53173073
                      },
                      {
                        "learn": [
                          0.003329341608
                        ],
                        "iteration": 133,
                        "passed_time": 9.18784672,
                        "remaining_time": 59.37817358
                      },
                      {
                        "learn": [
                          0.003329063682
                        ],
                        "iteration": 134,
                        "passed_time": 9.243596881,
                        "remaining_time": 59.22749113
                      },
                      {
                        "learn": [
                          0.003326900201
                        ],
                        "iteration": 135,
                        "passed_time": 9.305126248,
                        "remaining_time": 59.1149197
                      },
                      {
                        "learn": [
                          0.00332284144
                        ],
                        "iteration": 136,
                        "passed_time": 9.371554471,
                        "remaining_time": 59.03395261
                      },
                      {
                        "learn": [
                          0.003321797717
                        ],
                        "iteration": 137,
                        "passed_time": 9.434733791,
                        "remaining_time": 58.93290238
                      },
                      {
                        "learn": [
                          0.003315052282
                        ],
                        "iteration": 138,
                        "passed_time": 9.506173811,
                        "remaining_time": 58.88356584
                      },
                      {
                        "learn": [
                          0.003307853986
                        ],
                        "iteration": 139,
                        "passed_time": 9.574641669,
                        "remaining_time": 58.81565596
                      },
                      {
                        "learn": [
                          0.003298739541
                        ],
                        "iteration": 140,
                        "passed_time": 9.639817144,
                        "remaining_time": 58.72768033
                      },
                      {
                        "learn": [
                          0.003295116937
                        ],
                        "iteration": 141,
                        "passed_time": 9.707775228,
                        "remaining_time": 58.65683905
                      },
                      {
                        "learn": [
                          0.00329488997
                        ],
                        "iteration": 142,
                        "passed_time": 9.770165534,
                        "remaining_time": 58.55267037
                      },
                      {
                        "learn": [
                          0.00328396971
                        ],
                        "iteration": 143,
                        "passed_time": 9.838421153,
                        "remaining_time": 58.48394796
                      },
                      {
                        "learn": [
                          0.003275729819
                        ],
                        "iteration": 144,
                        "passed_time": 9.90327072,
                        "remaining_time": 58.39514804
                      },
                      {
                        "learn": [
                          0.003271997134
                        ],
                        "iteration": 145,
                        "passed_time": 9.974258173,
                        "remaining_time": 58.34257863
                      },
                      {
                        "learn": [
                          0.003269804374
                        ],
                        "iteration": 146,
                        "passed_time": 10.04216003,
                        "remaining_time": 58.27185381
                      },
                      {
                        "learn": [
                          0.003259915109
                        ],
                        "iteration": 147,
                        "passed_time": 10.10981655,
                        "remaining_time": 58.19975473
                      },
                      {
                        "learn": [
                          0.003255704852
                        ],
                        "iteration": 148,
                        "passed_time": 10.17438182,
                        "remaining_time": 58.11005992
                      },
                      {
                        "learn": [
                          0.003252950311
                        ],
                        "iteration": 149,
                        "passed_time": 10.23782738,
                        "remaining_time": 58.01435516
                      },
                      {
                        "learn": [
                          0.003235028457
                        ],
                        "iteration": 150,
                        "passed_time": 10.30567049,
                        "remaining_time": 57.94380297
                      },
                      {
                        "learn": [
                          0.003226834293
                        ],
                        "iteration": 151,
                        "passed_time": 10.37288587,
                        "remaining_time": 57.86978432
                      },
                      {
                        "learn": [
                          0.003223239635
                        ],
                        "iteration": 152,
                        "passed_time": 10.43566614,
                        "remaining_time": 57.77130207
                      },
                      {
                        "learn": [
                          0.003210338646
                        ],
                        "iteration": 153,
                        "passed_time": 10.50206449,
                        "remaining_time": 57.6931595
                      },
                      {
                        "learn": [
                          0.00320835749
                        ],
                        "iteration": 154,
                        "passed_time": 10.56206172,
                        "remaining_time": 57.58027198
                      },
                      {
                        "learn": [
                          0.003200928348
                        ],
                        "iteration": 155,
                        "passed_time": 10.62770297,
                        "remaining_time": 57.49859813
                      },
                      {
                        "learn": [
                          0.003194958422
                        ],
                        "iteration": 156,
                        "passed_time": 10.69290198,
                        "remaining_time": 57.41475394
                      },
                      {
                        "learn": [
                          0.003189552703
                        ],
                        "iteration": 157,
                        "passed_time": 10.76703878,
                        "remaining_time": 57.37877631
                      },
                      {
                        "learn": [
                          0.003183912717
                        ],
                        "iteration": 158,
                        "passed_time": 10.83316057,
                        "remaining_time": 57.29992478
                      },
                      {
                        "learn": [
                          0.003167738631
                        ],
                        "iteration": 159,
                        "passed_time": 10.90630239,
                        "remaining_time": 57.25808752
                      },
                      {
                        "learn": [
                          0.003165090749
                        ],
                        "iteration": 160,
                        "passed_time": 10.9832171,
                        "remaining_time": 57.23552265
                      },
                      {
                        "learn": [
                          0.003160021275
                        ],
                        "iteration": 161,
                        "passed_time": 11.04580402,
                        "remaining_time": 57.13817142
                      },
                      {
                        "learn": [
                          0.003150623343
                        ],
                        "iteration": 162,
                        "passed_time": 11.11077074,
                        "remaining_time": 57.05346691
                      },
                      {
                        "learn": [
                          0.003147890008
                        ],
                        "iteration": 163,
                        "passed_time": 11.17618725,
                        "remaining_time": 56.97129599
                      },
                      {
                        "learn": [
                          0.003144969392
                        ],
                        "iteration": 164,
                        "passed_time": 11.23832925,
                        "remaining_time": 56.87275712
                      },
                      {
                        "learn": [
                          0.003143550793
                        ],
                        "iteration": 165,
                        "passed_time": 11.2976476,
                        "remaining_time": 56.7604705
                      },
                      {
                        "learn": [
                          0.00313795299
                        ],
                        "iteration": 166,
                        "passed_time": 11.36494058,
                        "remaining_time": 56.6885958
                      },
                      {
                        "learn": [
                          0.003135818047
                        ],
                        "iteration": 167,
                        "passed_time": 11.42591033,
                        "remaining_time": 56.58546068
                      },
                      {
                        "learn": [
                          0.003134373592
                        ],
                        "iteration": 168,
                        "passed_time": 11.48679447,
                        "remaining_time": 56.48240359
                      },
                      {
                        "learn": [
                          0.003127595931
                        ],
                        "iteration": 169,
                        "passed_time": 11.552926,
                        "remaining_time": 56.40546224
                      },
                      {
                        "learn": [
                          0.003114529784
                        ],
                        "iteration": 170,
                        "passed_time": 11.62048643,
                        "remaining_time": 56.33557458
                      },
                      {
                        "learn": [
                          0.003106852337
                        ],
                        "iteration": 171,
                        "passed_time": 11.69771801,
                        "remaining_time": 56.31227044
                      },
                      {
                        "learn": [
                          0.003101962966
                        ],
                        "iteration": 172,
                        "passed_time": 11.77142174,
                        "remaining_time": 56.27147849
                      },
                      {
                        "learn": [
                          0.003100675116
                        ],
                        "iteration": 173,
                        "passed_time": 11.82829844,
                        "remaining_time": 56.15042824
                      },
                      {
                        "learn": [
                          0.003093522621
                        ],
                        "iteration": 174,
                        "passed_time": 11.89464691,
                        "remaining_time": 56.07476402
                      },
                      {
                        "learn": [
                          0.003085692769
                        ],
                        "iteration": 175,
                        "passed_time": 11.97243099,
                        "remaining_time": 56.05274508
                      },
                      {
                        "learn": [
                          0.003078090404
                        ],
                        "iteration": 176,
                        "passed_time": 12.04125658,
                        "remaining_time": 55.9884416
                      },
                      {
                        "learn": [
                          0.003072542129
                        ],
                        "iteration": 177,
                        "passed_time": 12.10267094,
                        "remaining_time": 55.88986243
                      },
                      {
                        "learn": [
                          0.003070880224
                        ],
                        "iteration": 178,
                        "passed_time": 12.16395965,
                        "remaining_time": 55.79112218
                      },
                      {
                        "learn": [
                          0.003069819964
                        ],
                        "iteration": 179,
                        "passed_time": 12.22296751,
                        "remaining_time": 55.68240756
                      },
                      {
                        "learn": [
                          0.00306774334
                        ],
                        "iteration": 180,
                        "passed_time": 12.28445259,
                        "remaining_time": 55.58545121
                      },
                      {
                        "learn": [
                          0.003067092452
                        ],
                        "iteration": 181,
                        "passed_time": 12.34248271,
                        "remaining_time": 55.47335635
                      },
                      {
                        "learn": [
                          0.003062998214
                        ],
                        "iteration": 182,
                        "passed_time": 12.40723891,
                        "remaining_time": 55.39188084
                      },
                      {
                        "learn": [
                          0.003055060588
                        ],
                        "iteration": 183,
                        "passed_time": 12.4735201,
                        "remaining_time": 55.31735001
                      },
                      {
                        "learn": [
                          0.003048432097
                        ],
                        "iteration": 184,
                        "passed_time": 12.54056993,
                        "remaining_time": 55.24629456
                      },
                      {
                        "learn": [
                          0.00304395008
                        ],
                        "iteration": 185,
                        "passed_time": 12.60345289,
                        "remaining_time": 55.15704651
                      },
                      {
                        "learn": [
                          0.003036500432
                        ],
                        "iteration": 186,
                        "passed_time": 12.67589301,
                        "remaining_time": 55.10963113
                      },
                      {
                        "learn": [
                          0.003035001897
                        ],
                        "iteration": 187,
                        "passed_time": 12.74692386,
                        "remaining_time": 55.05586262
                      },
                      {
                        "learn": [
                          0.003025003011
                        ],
                        "iteration": 188,
                        "passed_time": 12.82100901,
                        "remaining_time": 55.0150175
                      },
                      {
                        "learn": [
                          0.00301011698
                        ],
                        "iteration": 189,
                        "passed_time": 12.89600082,
                        "remaining_time": 54.9776877
                      },
                      {
                        "learn": [
                          0.003009137192
                        ],
                        "iteration": 190,
                        "passed_time": 12.95900936,
                        "remaining_time": 54.88920719
                      },
                      {
                        "learn": [
                          0.003007320031
                        ],
                        "iteration": 191,
                        "passed_time": 13.02928437,
                        "remaining_time": 54.8315717
                      },
                      {
                        "learn": [
                          0.002998717138
                        ],
                        "iteration": 192,
                        "passed_time": 13.09568944,
                        "remaining_time": 54.75762373
                      },
                      {
                        "learn": [
                          0.002992749954
                        ],
                        "iteration": 193,
                        "passed_time": 13.16510897,
                        "remaining_time": 54.69627748
                      },
                      {
                        "learn": [
                          0.002990500285
                        ],
                        "iteration": 194,
                        "passed_time": 13.22938953,
                        "remaining_time": 54.61363372
                      },
                      {
                        "learn": [
                          0.002985611441
                        ],
                        "iteration": 195,
                        "passed_time": 13.29425053,
                        "remaining_time": 54.53355831
                      },
                      {
                        "learn": [
                          0.002975115435
                        ],
                        "iteration": 196,
                        "passed_time": 13.36089832,
                        "remaining_time": 54.46092056
                      },
                      {
                        "learn": [
                          0.002967777032
                        ],
                        "iteration": 197,
                        "passed_time": 13.42720294,
                        "remaining_time": 54.38695331
                      },
                      {
                        "learn": [
                          0.002961639961
                        ],
                        "iteration": 198,
                        "passed_time": 13.48912974,
                        "remaining_time": 54.2954418
                      },
                      {
                        "learn": [
                          0.002958955516
                        ],
                        "iteration": 199,
                        "passed_time": 13.54474115,
                        "remaining_time": 54.1789646
                      },
                      {
                        "learn": [
                          0.002954952711
                        ],
                        "iteration": 200,
                        "passed_time": 13.61046612,
                        "remaining_time": 54.10329567
                      },
                      {
                        "learn": [
                          0.002952722044
                        ],
                        "iteration": 201,
                        "passed_time": 13.67249338,
                        "remaining_time": 54.01311742
                      },
                      {
                        "learn": [
                          0.002948834088
                        ],
                        "iteration": 202,
                        "passed_time": 13.73591665,
                        "remaining_time": 53.92869737
                      },
                      {
                        "learn": [
                          0.002946244558
                        ],
                        "iteration": 203,
                        "passed_time": 13.80731203,
                        "remaining_time": 53.87559006
                      },
                      {
                        "learn": [
                          0.002943182838
                        ],
                        "iteration": 204,
                        "passed_time": 13.86890637,
                        "remaining_time": 53.78429544
                      },
                      {
                        "learn": [
                          0.002942643022
                        ],
                        "iteration": 205,
                        "passed_time": 13.93186513,
                        "remaining_time": 53.6985481
                      },
                      {
                        "learn": [
                          0.00293317032
                        ],
                        "iteration": 206,
                        "passed_time": 14.0071727,
                        "remaining_time": 53.66032827
                      },
                      {
                        "learn": [
                          0.002924980753
                        ],
                        "iteration": 207,
                        "passed_time": 14.07654962,
                        "remaining_time": 53.59916972
                      },
                      {
                        "learn": [
                          0.002920017633
                        ],
                        "iteration": 208,
                        "passed_time": 14.14403877,
                        "remaining_time": 53.5307879
                      },
                      {
                        "learn": [
                          0.002907056063
                        ],
                        "iteration": 209,
                        "passed_time": 14.20948056,
                        "remaining_time": 53.45471259
                      },
                      {
                        "learn": [
                          0.002899728347
                        ],
                        "iteration": 210,
                        "passed_time": 14.28162948,
                        "remaining_time": 53.40381829
                      },
                      {
                        "learn": [
                          0.00289114779
                        ],
                        "iteration": 211,
                        "passed_time": 14.35136797,
                        "remaining_time": 53.34376396
                      },
                      {
                        "learn": [
                          0.002887855216
                        ],
                        "iteration": 212,
                        "passed_time": 14.41587145,
                        "remaining_time": 53.26427619
                      },
                      {
                        "learn": [
                          0.002884406641
                        ],
                        "iteration": 213,
                        "passed_time": 14.48290244,
                        "remaining_time": 53.19421176
                      },
                      {
                        "learn": [
                          0.002882248824
                        ],
                        "iteration": 214,
                        "passed_time": 14.54643317,
                        "remaining_time": 53.11139551
                      },
                      {
                        "learn": [
                          0.0028754069
                        ],
                        "iteration": 215,
                        "passed_time": 14.61520683,
                        "remaining_time": 53.04778776
                      },
                      {
                        "learn": [
                          0.002861234405
                        ],
                        "iteration": 216,
                        "passed_time": 14.68097118,
                        "remaining_time": 52.97327391
                      },
                      {
                        "learn": [
                          0.002855994823
                        ],
                        "iteration": 217,
                        "passed_time": 14.74460106,
                        "remaining_time": 52.89118362
                      },
                      {
                        "learn": [
                          0.002851892281
                        ],
                        "iteration": 218,
                        "passed_time": 14.83022608,
                        "remaining_time": 52.88770124
                      },
                      {
                        "learn": [
                          0.002850469032
                        ],
                        "iteration": 219,
                        "passed_time": 14.89207429,
                        "remaining_time": 52.79917247
                      },
                      {
                        "learn": [
                          0.002848308981
                        ],
                        "iteration": 220,
                        "passed_time": 14.95658425,
                        "remaining_time": 52.72026757
                      },
                      {
                        "learn": [
                          0.002847493388
                        ],
                        "iteration": 221,
                        "passed_time": 15.02556668,
                        "remaining_time": 52.6571661
                      },
                      {
                        "learn": [
                          0.002844373374
                        ],
                        "iteration": 222,
                        "passed_time": 15.09119005,
                        "remaining_time": 52.58230793
                      },
                      {
                        "learn": [
                          0.002834364151
                        ],
                        "iteration": 223,
                        "passed_time": 15.16076687,
                        "remaining_time": 52.52122807
                      },
                      {
                        "learn": [
                          0.002831349984
                        ],
                        "iteration": 224,
                        "passed_time": 15.22337577,
                        "remaining_time": 52.43607211
                      },
                      {
                        "learn": [
                          0.002824056978
                        ],
                        "iteration": 225,
                        "passed_time": 15.29035408,
                        "remaining_time": 52.3660799
                      },
                      {
                        "learn": [
                          0.00282374459
                        ],
                        "iteration": 226,
                        "passed_time": 15.35683691,
                        "remaining_time": 52.294427
                      },
                      {
                        "learn": [
                          0.002818375668
                        ],
                        "iteration": 227,
                        "passed_time": 15.42733208,
                        "remaining_time": 52.23640511
                      },
                      {
                        "learn": [
                          0.002813791826
                        ],
                        "iteration": 228,
                        "passed_time": 15.48994817,
                        "remaining_time": 52.15174689
                      },
                      {
                        "learn": [
                          0.002809734713
                        ],
                        "iteration": 229,
                        "passed_time": 15.5577848,
                        "remaining_time": 52.08475782
                      },
                      {
                        "learn": [
                          0.002808751226
                        ],
                        "iteration": 230,
                        "passed_time": 15.61940088,
                        "remaining_time": 51.99705316
                      },
                      {
                        "learn": [
                          0.00280562315
                        ],
                        "iteration": 231,
                        "passed_time": 15.68554914,
                        "remaining_time": 51.92457646
                      },
                      {
                        "learn": [
                          0.002802181514
                        ],
                        "iteration": 232,
                        "passed_time": 15.7496183,
                        "remaining_time": 51.84531002
                      },
                      {
                        "learn": [
                          0.002800690642
                        ],
                        "iteration": 233,
                        "passed_time": 15.82124765,
                        "remaining_time": 51.79092179
                      },
                      {
                        "learn": [
                          0.002790180028
                        ],
                        "iteration": 234,
                        "passed_time": 15.88850341,
                        "remaining_time": 51.72214941
                      },
                      {
                        "learn": [
                          0.002781799282
                        ],
                        "iteration": 235,
                        "passed_time": 15.95686426,
                        "remaining_time": 51.65696736
                      },
                      {
                        "learn": [
                          0.00277731005
                        ],
                        "iteration": 236,
                        "passed_time": 16.02997131,
                        "remaining_time": 51.60703844
                      },
                      {
                        "learn": [
                          0.002771131855
                        ],
                        "iteration": 237,
                        "passed_time": 16.09340996,
                        "remaining_time": 51.52595961
                      },
                      {
                        "learn": [
                          0.002770246745
                        ],
                        "iteration": 238,
                        "passed_time": 16.15422894,
                        "remaining_time": 51.43668714
                      },
                      {
                        "learn": [
                          0.002763758255
                        ],
                        "iteration": 239,
                        "passed_time": 16.21576323,
                        "remaining_time": 51.34991691
                      },
                      {
                        "learn": [
                          0.002763198839
                        ],
                        "iteration": 240,
                        "passed_time": 16.27363414,
                        "remaining_time": 51.25181872
                      },
                      {
                        "learn": [
                          0.002763073567
                        ],
                        "iteration": 241,
                        "passed_time": 16.32932376,
                        "remaining_time": 51.14722071
                      },
                      {
                        "learn": [
                          0.002755772949
                        ],
                        "iteration": 242,
                        "passed_time": 16.39903117,
                        "remaining_time": 51.0866938
                      },
                      {
                        "learn": [
                          0.002748612292
                        ],
                        "iteration": 243,
                        "passed_time": 16.46654566,
                        "remaining_time": 51.01929721
                      },
                      {
                        "learn": [
                          0.002744208456
                        ],
                        "iteration": 244,
                        "passed_time": 16.53413651,
                        "remaining_time": 50.95213496
                      },
                      {
                        "learn": [
                          0.002742228446
                        ],
                        "iteration": 245,
                        "passed_time": 16.59093805,
                        "remaining_time": 50.85189954
                      },
                      {
                        "learn": [
                          0.002740148341
                        ],
                        "iteration": 246,
                        "passed_time": 16.65454665,
                        "remaining_time": 50.77276771
                      },
                      {
                        "learn": [
                          0.002737303486
                        ],
                        "iteration": 247,
                        "passed_time": 16.71592756,
                        "remaining_time": 50.68700616
                      },
                      {
                        "learn": [
                          0.002732676372
                        ],
                        "iteration": 248,
                        "passed_time": 16.79030908,
                        "remaining_time": 50.64065109
                      },
                      {
                        "learn": [
                          0.002727030392
                        ],
                        "iteration": 249,
                        "passed_time": 16.85658962,
                        "remaining_time": 50.56976887
                      },
                      {
                        "learn": [
                          0.002722573492
                        ],
                        "iteration": 250,
                        "passed_time": 16.92308819,
                        "remaining_time": 50.49957393
                      },
                      {
                        "learn": [
                          0.00272155181
                        ],
                        "iteration": 251,
                        "passed_time": 16.98435725,
                        "remaining_time": 50.4138858
                      },
                      {
                        "learn": [
                          0.002714328132
                        ],
                        "iteration": 252,
                        "passed_time": 17.05976864,
                        "remaining_time": 50.37014693
                      },
                      {
                        "learn": [
                          0.002714110178
                        ],
                        "iteration": 253,
                        "passed_time": 17.11802463,
                        "remaining_time": 50.27577312
                      },
                      {
                        "learn": [
                          0.002709544254
                        ],
                        "iteration": 254,
                        "passed_time": 17.1802344,
                        "remaining_time": 50.19323383
                      },
                      {
                        "learn": [
                          0.002705701829
                        ],
                        "iteration": 255,
                        "passed_time": 17.24224991,
                        "remaining_time": 50.11028881
                      },
                      {
                        "learn": [
                          0.002705595633
                        ],
                        "iteration": 256,
                        "passed_time": 17.30730233,
                        "remaining_time": 50.03628652
                      },
                      {
                        "learn": [
                          0.002705153638
                        ],
                        "iteration": 257,
                        "passed_time": 17.36791494,
                        "remaining_time": 49.94958483
                      },
                      {
                        "learn": [
                          0.002692633391
                        ],
                        "iteration": 258,
                        "passed_time": 17.43385851,
                        "remaining_time": 49.87833651
                      },
                      {
                        "learn": [
                          0.002688157627
                        ],
                        "iteration": 259,
                        "passed_time": 17.49750843,
                        "remaining_time": 49.80060092
                      },
                      {
                        "learn": [
                          0.002683299712
                        ],
                        "iteration": 260,
                        "passed_time": 17.56624452,
                        "remaining_time": 49.73737433
                      },
                      {
                        "learn": [
                          0.002682558231
                        ],
                        "iteration": 261,
                        "passed_time": 17.62970495,
                        "remaining_time": 49.65924524
                      },
                      {
                        "learn": [
                          0.00267758637
                        ],
                        "iteration": 262,
                        "passed_time": 17.6933407,
                        "remaining_time": 49.58171899
                      },
                      {
                        "learn": [
                          0.002669621047
                        ],
                        "iteration": 263,
                        "passed_time": 17.75900825,
                        "remaining_time": 49.5099624
                      },
                      {
                        "learn": [
                          0.002664347135
                        ],
                        "iteration": 264,
                        "passed_time": 17.83893436,
                        "remaining_time": 49.47779908
                      },
                      {
                        "learn": [
                          0.002659541748
                        ],
                        "iteration": 265,
                        "passed_time": 17.90981123,
                        "remaining_time": 49.42030619
                      },
                      {
                        "learn": [
                          0.002657437377
                        ],
                        "iteration": 266,
                        "passed_time": 17.97501121,
                        "remaining_time": 49.34712814
                      },
                      {
                        "learn": [
                          0.002656959611
                        ],
                        "iteration": 267,
                        "passed_time": 18.03352634,
                        "remaining_time": 49.25575104
                      },
                      {
                        "learn": [
                          0.002654969955
                        ],
                        "iteration": 268,
                        "passed_time": 18.10570988,
                        "remaining_time": 49.20176179
                      },
                      {
                        "learn": [
                          0.002640318011
                        ],
                        "iteration": 269,
                        "passed_time": 18.1691669,
                        "remaining_time": 49.12404384
                      },
                      {
                        "learn": [
                          0.00263415111
                        ],
                        "iteration": 270,
                        "passed_time": 18.24170883,
                        "remaining_time": 49.07086987
                      },
                      {
                        "learn": [
                          0.002631070174
                        ],
                        "iteration": 271,
                        "passed_time": 18.30439089,
                        "remaining_time": 48.99116386
                      },
                      {
                        "learn": [
                          0.002623865154
                        ],
                        "iteration": 272,
                        "passed_time": 18.37765876,
                        "remaining_time": 48.93977259
                      },
                      {
                        "learn": [
                          0.002618555902
                        ],
                        "iteration": 273,
                        "passed_time": 18.44642997,
                        "remaining_time": 48.87630714
                      },
                      {
                        "learn": [
                          0.002617386662
                        ],
                        "iteration": 274,
                        "passed_time": 18.50560841,
                        "remaining_time": 48.78751307
                      },
                      {
                        "learn": [
                          0.002614903635
                        ],
                        "iteration": 275,
                        "passed_time": 18.57338802,
                        "remaining_time": 48.7214961
                      },
                      {
                        "learn": [
                          0.002612447423
                        ],
                        "iteration": 276,
                        "passed_time": 18.63808957,
                        "remaining_time": 48.64743235
                      },
                      {
                        "learn": [
                          0.002599358874
                        ],
                        "iteration": 277,
                        "passed_time": 18.70623518,
                        "remaining_time": 48.58238059
                      },
                      {
                        "learn": [
                          0.002597060523
                        ],
                        "iteration": 278,
                        "passed_time": 18.77179578,
                        "remaining_time": 48.51062637
                      },
                      {
                        "learn": [
                          0.002590362767
                        ],
                        "iteration": 279,
                        "passed_time": 18.85531621,
                        "remaining_time": 48.48509882
                      },
                      {
                        "learn": [
                          0.002590159146
                        ],
                        "iteration": 280,
                        "passed_time": 18.91775055,
                        "remaining_time": 48.40520514
                      },
                      {
                        "learn": [
                          0.002589154953
                        ],
                        "iteration": 281,
                        "passed_time": 18.98029273,
                        "remaining_time": 48.32570987
                      },
                      {
                        "learn": [
                          0.002583484548
                        ],
                        "iteration": 282,
                        "passed_time": 19.04702193,
                        "remaining_time": 48.25694247
                      },
                      {
                        "learn": [
                          0.002582550958
                        ],
                        "iteration": 283,
                        "passed_time": 19.11097994,
                        "remaining_time": 48.18120295
                      },
                      {
                        "learn": [
                          0.002577921742
                        ],
                        "iteration": 284,
                        "passed_time": 19.17860488,
                        "remaining_time": 48.11474558
                      },
                      {
                        "learn": [
                          0.002577735169
                        ],
                        "iteration": 285,
                        "passed_time": 19.24091315,
                        "remaining_time": 48.03500696
                      },
                      {
                        "learn": [
                          0.002574770093
                        ],
                        "iteration": 286,
                        "passed_time": 19.30481782,
                        "remaining_time": 47.95935576
                      },
                      {
                        "learn": [
                          0.002573696729
                        ],
                        "iteration": 287,
                        "passed_time": 19.37302941,
                        "remaining_time": 47.89443382
                      },
                      {
                        "learn": [
                          0.002571078387
                        ],
                        "iteration": 288,
                        "passed_time": 19.44216396,
                        "remaining_time": 47.83175978
                      },
                      {
                        "learn": [
                          0.002563145911
                        ],
                        "iteration": 289,
                        "passed_time": 19.5087704,
                        "remaining_time": 47.76285168
                      },
                      {
                        "learn": [
                          0.002562103221
                        ],
                        "iteration": 290,
                        "passed_time": 19.57444375,
                        "remaining_time": 47.69168598
                      },
                      {
                        "learn": [
                          0.002560010774
                        ],
                        "iteration": 291,
                        "passed_time": 19.64087824,
                        "remaining_time": 47.6224034
                      },
                      {
                        "learn": [
                          0.00254795792
                        ],
                        "iteration": 292,
                        "passed_time": 19.70523732,
                        "remaining_time": 47.54813236
                      },
                      {
                        "learn": [
                          0.002540332568
                        ],
                        "iteration": 293,
                        "passed_time": 19.77615351,
                        "remaining_time": 47.48967475
                      },
                      {
                        "learn": [
                          0.002533340207
                        ],
                        "iteration": 294,
                        "passed_time": 19.85718918,
                        "remaining_time": 47.45531653
                      },
                      {
                        "learn": [
                          0.002531149512
                        ],
                        "iteration": 295,
                        "passed_time": 19.92186396,
                        "remaining_time": 47.3817305
                      },
                      {
                        "learn": [
                          0.002519594801
                        ],
                        "iteration": 296,
                        "passed_time": 19.99402642,
                        "remaining_time": 47.32592786
                      },
                      {
                        "learn": [
                          0.002503611579
                        ],
                        "iteration": 297,
                        "passed_time": 20.06166568,
                        "remaining_time": 47.2593601
                      },
                      {
                        "learn": [
                          0.002499659792
                        ],
                        "iteration": 298,
                        "passed_time": 20.14449923,
                        "remaining_time": 47.22840791
                      },
                      {
                        "learn": [
                          0.002493621533
                        ],
                        "iteration": 299,
                        "passed_time": 20.2192839,
                        "remaining_time": 47.17832909
                      },
                      {
                        "learn": [
                          0.002491538493
                        ],
                        "iteration": 300,
                        "passed_time": 20.28140402,
                        "remaining_time": 47.09867578
                      },
                      {
                        "learn": [
                          0.002490019756
                        ],
                        "iteration": 301,
                        "passed_time": 20.34480061,
                        "remaining_time": 47.02208883
                      },
                      {
                        "learn": [
                          0.002487220409
                        ],
                        "iteration": 302,
                        "passed_time": 20.40816968,
                        "remaining_time": 46.94552564
                      },
                      {
                        "learn": [
                          0.002478996399
                        ],
                        "iteration": 303,
                        "passed_time": 20.48669311,
                        "remaining_time": 46.90374475
                      },
                      {
                        "learn": [
                          0.002472516468
                        ],
                        "iteration": 304,
                        "passed_time": 20.55370856,
                        "remaining_time": 46.83549983
                      },
                      {
                        "learn": [
                          0.002470706168
                        ],
                        "iteration": 305,
                        "passed_time": 20.6192712,
                        "remaining_time": 46.76396802
                      },
                      {
                        "learn": [
                          0.00246591282
                        ],
                        "iteration": 306,
                        "passed_time": 20.68402413,
                        "remaining_time": 46.6906473
                      },
                      {
                        "learn": [
                          0.002459909842
                        ],
                        "iteration": 307,
                        "passed_time": 20.75820929,
                        "remaining_time": 46.63857411
                      },
                      {
                        "learn": [
                          0.002452863975
                        ],
                        "iteration": 308,
                        "passed_time": 20.83391567,
                        "remaining_time": 46.58975963
                      },
                      {
                        "learn": [
                          0.002451782573
                        ],
                        "iteration": 309,
                        "passed_time": 20.90258042,
                        "remaining_time": 46.52509835
                      },
                      {
                        "learn": [
                          0.002449505402
                        ],
                        "iteration": 310,
                        "passed_time": 20.96761575,
                        "remaining_time": 46.45237059
                      },
                      {
                        "learn": [
                          0.002445033049
                        ],
                        "iteration": 311,
                        "passed_time": 21.03411424,
                        "remaining_time": 46.38291857
                      },
                      {
                        "learn": [
                          0.00244114841
                        ],
                        "iteration": 312,
                        "passed_time": 21.10517413,
                        "remaining_time": 46.32349721
                      },
                      {
                        "learn": [
                          0.002429806939
                        ],
                        "iteration": 313,
                        "passed_time": 21.18446457,
                        "remaining_time": 46.28198312
                      },
                      {
                        "learn": [
                          0.002422303473
                        ],
                        "iteration": 314,
                        "passed_time": 21.25682221,
                        "remaining_time": 46.22515306
                      },
                      {
                        "learn": [
                          0.002419359135
                        ],
                        "iteration": 315,
                        "passed_time": 21.32148178,
                        "remaining_time": 46.15156182
                      },
                      {
                        "learn": [
                          0.002412439724
                        ],
                        "iteration": 316,
                        "passed_time": 21.39050339,
                        "remaining_time": 46.08742529
                      },
                      {
                        "learn": [
                          0.002408940263
                        ],
                        "iteration": 317,
                        "passed_time": 21.46224736,
                        "remaining_time": 46.02909653
                      },
                      {
                        "learn": [
                          0.002405670158
                        ],
                        "iteration": 318,
                        "passed_time": 21.52799738,
                        "remaining_time": 45.95788781
                      },
                      {
                        "learn": [
                          0.002401294591
                        ],
                        "iteration": 319,
                        "passed_time": 21.59727772,
                        "remaining_time": 45.89421515
                      },
                      {
                        "learn": [
                          0.002392651486
                        ],
                        "iteration": 320,
                        "passed_time": 21.6739957,
                        "remaining_time": 45.84624013
                      },
                      {
                        "learn": [
                          0.002390597479
                        ],
                        "iteration": 321,
                        "passed_time": 21.73758002,
                        "remaining_time": 45.77043246
                      },
                      {
                        "learn": [
                          0.002385615998
                        ],
                        "iteration": 322,
                        "passed_time": 21.81221991,
                        "remaining_time": 45.71787268
                      },
                      {
                        "learn": [
                          0.002382008373
                        ],
                        "iteration": 323,
                        "passed_time": 21.89387625,
                        "remaining_time": 45.67981588
                      },
                      {
                        "learn": [
                          0.00237846522
                        ],
                        "iteration": 324,
                        "passed_time": 21.9598436,
                        "remaining_time": 45.60890593
                      },
                      {
                        "learn": [
                          0.002368990539
                        ],
                        "iteration": 325,
                        "passed_time": 22.03418959,
                        "remaining_time": 45.55534902
                      },
                      {
                        "learn": [
                          0.002364408803
                        ],
                        "iteration": 326,
                        "passed_time": 22.10264314,
                        "remaining_time": 45.48953772
                      },
                      {
                        "learn": [
                          0.002359429624
                        ],
                        "iteration": 327,
                        "passed_time": 22.17188386,
                        "remaining_time": 45.42532304
                      },
                      {
                        "learn": [
                          0.002353469133
                        ],
                        "iteration": 328,
                        "passed_time": 22.2439124,
                        "remaining_time": 45.36676359
                      },
                      {
                        "learn": [
                          0.002349938586
                        ],
                        "iteration": 329,
                        "passed_time": 22.30843934,
                        "remaining_time": 45.292892
                      },
                      {
                        "learn": [
                          0.002349849927
                        ],
                        "iteration": 330,
                        "passed_time": 22.36913985,
                        "remaining_time": 45.21134307
                      },
                      {
                        "learn": [
                          0.002347282632
                        ],
                        "iteration": 331,
                        "passed_time": 22.43162925,
                        "remaining_time": 45.13351909
                      },
                      {
                        "learn": [
                          0.002338996011
                        ],
                        "iteration": 332,
                        "passed_time": 22.50055473,
                        "remaining_time": 45.0686787
                      },
                      {
                        "learn": [
                          0.002336305505
                        ],
                        "iteration": 333,
                        "passed_time": 22.56524539,
                        "remaining_time": 44.99536955
                      },
                      {
                        "learn": [
                          0.002329101008
                        ],
                        "iteration": 334,
                        "passed_time": 22.63082342,
                        "remaining_time": 44.92387336
                      },
                      {
                        "learn": [
                          0.002328254862
                        ],
                        "iteration": 335,
                        "passed_time": 22.69369723,
                        "remaining_time": 44.84706833
                      },
                      {
                        "learn": [
                          0.002320012018
                        ],
                        "iteration": 336,
                        "passed_time": 22.76108956,
                        "remaining_time": 44.77923555
                      },
                      {
                        "learn": [
                          0.002314537237
                        ],
                        "iteration": 337,
                        "passed_time": 22.83213029,
                        "remaining_time": 44.71855105
                      },
                      {
                        "learn": [
                          0.002310264226
                        ],
                        "iteration": 338,
                        "passed_time": 22.91733809,
                        "remaining_time": 44.68542914
                      },
                      {
                        "learn": [
                          0.002304912117
                        ],
                        "iteration": 339,
                        "passed_time": 22.9872727,
                        "remaining_time": 44.62235288
                      },
                      {
                        "learn": [
                          0.002300880621
                        ],
                        "iteration": 340,
                        "passed_time": 23.05924391,
                        "remaining_time": 44.56317224
                      },
                      {
                        "learn": [
                          0.002292032688
                        ],
                        "iteration": 341,
                        "passed_time": 23.12537571,
                        "remaining_time": 44.49268191
                      },
                      {
                        "learn": [
                          0.002289200823
                        ],
                        "iteration": 342,
                        "passed_time": 23.19875231,
                        "remaining_time": 44.43609407
                      },
                      {
                        "learn": [
                          0.002285186845
                        ],
                        "iteration": 343,
                        "passed_time": 23.26698413,
                        "remaining_time": 44.36959764
                      },
                      {
                        "learn": [
                          0.002284246176
                        ],
                        "iteration": 344,
                        "passed_time": 23.33420958,
                        "remaining_time": 44.30118051
                      },
                      {
                        "learn": [
                          0.002281178344
                        ],
                        "iteration": 345,
                        "passed_time": 23.4048489,
                        "remaining_time": 44.23922307
                      },
                      {
                        "learn": [
                          0.002277615862
                        ],
                        "iteration": 346,
                        "passed_time": 23.47014581,
                        "remaining_time": 44.16716201
                      },
                      {
                        "learn": [
                          0.00227232535
                        ],
                        "iteration": 347,
                        "passed_time": 23.53921318,
                        "remaining_time": 44.10220401
                      },
                      {
                        "learn": [
                          0.002272253189
                        ],
                        "iteration": 348,
                        "passed_time": 23.59728212,
                        "remaining_time": 44.01670676
                      },
                      {
                        "learn": [
                          0.002271529001
                        ],
                        "iteration": 349,
                        "passed_time": 23.66237325,
                        "remaining_time": 43.94440746
                      },
                      {
                        "learn": [
                          0.002265093423
                        ],
                        "iteration": 350,
                        "passed_time": 23.7304147,
                        "remaining_time": 43.87760439
                      },
                      {
                        "learn": [
                          0.00226221878
                        ],
                        "iteration": 351,
                        "passed_time": 23.80428602,
                        "remaining_time": 43.82152653
                      },
                      {
                        "learn": [
                          0.002259198746
                        ],
                        "iteration": 352,
                        "passed_time": 23.88733298,
                        "remaining_time": 43.78216554
                      },
                      {
                        "learn": [
                          0.002252969982
                        ],
                        "iteration": 353,
                        "passed_time": 23.96126252,
                        "remaining_time": 43.72591974
                      },
                      {
                        "learn": [
                          0.002252570559
                        ],
                        "iteration": 354,
                        "passed_time": 24.02159727,
                        "remaining_time": 43.64487392
                      },
                      {
                        "learn": [
                          0.002251664368
                        ],
                        "iteration": 355,
                        "passed_time": 24.0868195,
                        "remaining_time": 43.57278583
                      },
                      {
                        "learn": [
                          0.002251126692
                        ],
                        "iteration": 356,
                        "passed_time": 24.16538673,
                        "remaining_time": 43.52477217
                      },
                      {
                        "learn": [
                          0.002250302263
                        ],
                        "iteration": 357,
                        "passed_time": 24.22757747,
                        "remaining_time": 43.44721993
                      },
                      {
                        "learn": [
                          0.002244961457
                        ],
                        "iteration": 358,
                        "passed_time": 24.29435016,
                        "remaining_time": 43.3779344
                      },
                      {
                        "learn": [
                          0.002236977807
                        ],
                        "iteration": 359,
                        "passed_time": 24.36310863,
                        "remaining_time": 43.31219312
                      },
                      {
                        "learn": [
                          0.002236915475
                        ],
                        "iteration": 360,
                        "passed_time": 24.42442062,
                        "remaining_time": 43.23325423
                      },
                      {
                        "learn": [
                          0.002230424511
                        ],
                        "iteration": 361,
                        "passed_time": 24.49034937,
                        "remaining_time": 43.16254945
                      },
                      {
                        "learn": [
                          0.002224056385
                        ],
                        "iteration": 362,
                        "passed_time": 24.5669064,
                        "remaining_time": 43.1105217
                      },
                      {
                        "learn": [
                          0.002221145569
                        ],
                        "iteration": 363,
                        "passed_time": 24.64031257,
                        "remaining_time": 43.05285383
                      },
                      {
                        "learn": [
                          0.002217005389
                        ],
                        "iteration": 364,
                        "passed_time": 24.70472769,
                        "remaining_time": 42.97945776
                      },
                      {
                        "learn": [
                          0.002214525517
                        ],
                        "iteration": 365,
                        "passed_time": 24.77531993,
                        "remaining_time": 42.91681103
                      },
                      {
                        "learn": [
                          0.002210976773
                        ],
                        "iteration": 366,
                        "passed_time": 24.84363219,
                        "remaining_time": 42.8501885
                      },
                      {
                        "learn": [
                          0.002204824506
                        ],
                        "iteration": 367,
                        "passed_time": 24.93271487,
                        "remaining_time": 42.81922772
                      },
                      {
                        "learn": [
                          0.002202976495
                        ],
                        "iteration": 368,
                        "passed_time": 24.99479525,
                        "remaining_time": 42.74177724
                      },
                      {
                        "learn": [
                          0.002201775104
                        ],
                        "iteration": 369,
                        "passed_time": 25.06312111,
                        "remaining_time": 42.67504406
                      },
                      {
                        "learn": [
                          0.002197854025
                        ],
                        "iteration": 370,
                        "passed_time": 25.12712783,
                        "remaining_time": 42.60097953
                      },
                      {
                        "learn": [
                          0.002192789014
                        ],
                        "iteration": 371,
                        "passed_time": 25.20088703,
                        "remaining_time": 42.54343294
                      },
                      {
                        "learn": [
                          0.002190634035
                        ],
                        "iteration": 372,
                        "passed_time": 25.27822598,
                        "remaining_time": 42.49181686
                      },
                      {
                        "learn": [
                          0.002187328512
                        ],
                        "iteration": 373,
                        "passed_time": 25.34674953,
                        "remaining_time": 42.42530803
                      },
                      {
                        "learn": [
                          0.002183372448
                        ],
                        "iteration": 374,
                        "passed_time": 25.41737119,
                        "remaining_time": 42.36228532
                      },
                      {
                        "learn": [
                          0.002182567639
                        ],
                        "iteration": 375,
                        "passed_time": 25.47738124,
                        "remaining_time": 42.28161143
                      },
                      {
                        "learn": [
                          0.002180011448
                        ],
                        "iteration": 376,
                        "passed_time": 25.54577602,
                        "remaining_time": 42.21490307
                      },
                      {
                        "learn": [
                          0.002178517522
                        ],
                        "iteration": 377,
                        "passed_time": 25.610355,
                        "remaining_time": 42.1419069
                      },
                      {
                        "learn": [
                          0.002164991545
                        ],
                        "iteration": 378,
                        "passed_time": 25.68852307,
                        "remaining_time": 42.09122117
                      },
                      {
                        "learn": [
                          0.002158153655
                        ],
                        "iteration": 379,
                        "passed_time": 25.76165294,
                        "remaining_time": 42.03217058
                      },
                      {
                        "learn": [
                          0.002152695676
                        ],
                        "iteration": 380,
                        "passed_time": 25.83192067,
                        "remaining_time": 41.96839605
                      },
                      {
                        "learn": [
                          0.002150492243
                        ],
                        "iteration": 381,
                        "passed_time": 25.91108878,
                        "remaining_time": 41.91898656
                      },
                      {
                        "learn": [
                          0.002140880753
                        ],
                        "iteration": 382,
                        "passed_time": 25.98715804,
                        "remaining_time": 41.86442954
                      },
                      {
                        "learn": [
                          0.002137700088
                        ],
                        "iteration": 383,
                        "passed_time": 26.05680425,
                        "remaining_time": 41.79945681
                      },
                      {
                        "learn": [
                          0.002136201718
                        ],
                        "iteration": 384,
                        "passed_time": 26.12404118,
                        "remaining_time": 41.73061124
                      },
                      {
                        "learn": [
                          0.002132823864
                        ],
                        "iteration": 385,
                        "passed_time": 26.19834912,
                        "remaining_time": 41.67302166
                      },
                      {
                        "learn": [
                          0.002129888284
                        ],
                        "iteration": 386,
                        "passed_time": 26.27049785,
                        "remaining_time": 41.61192554
                      },
                      {
                        "learn": [
                          0.002122328331
                        ],
                        "iteration": 387,
                        "passed_time": 26.34244192,
                        "remaining_time": 41.55044963
                      },
                      {
                        "learn": [
                          0.002119906604
                        ],
                        "iteration": 388,
                        "passed_time": 26.4188636,
                        "remaining_time": 41.49595285
                      },
                      {
                        "learn": [
                          0.002116952732
                        ],
                        "iteration": 389,
                        "passed_time": 26.4896797,
                        "remaining_time": 41.43257593
                      },
                      {
                        "learn": [
                          0.002115478782
                        ],
                        "iteration": 390,
                        "passed_time": 26.55827416,
                        "remaining_time": 41.36570067
                      },
                      {
                        "learn": [
                          0.002112572399
                        ],
                        "iteration": 391,
                        "passed_time": 26.62855202,
                        "remaining_time": 41.30142762
                      },
                      {
                        "learn": [
                          0.002111889892
                        ],
                        "iteration": 392,
                        "passed_time": 26.69105184,
                        "remaining_time": 41.2251106
                      },
                      {
                        "learn": [
                          0.002110165334
                        ],
                        "iteration": 393,
                        "passed_time": 26.75875763,
                        "remaining_time": 41.15687087
                      },
                      {
                        "learn": [
                          0.002110036374
                        ],
                        "iteration": 394,
                        "passed_time": 26.81878367,
                        "remaining_time": 41.07687119
                      },
                      {
                        "learn": [
                          0.002107170262
                        ],
                        "iteration": 395,
                        "passed_time": 26.8912768,
                        "remaining_time": 41.01598785
                      },
                      {
                        "learn": [
                          0.002106146586
                        ],
                        "iteration": 396,
                        "passed_time": 26.96528001,
                        "remaining_time": 40.95733967
                      },
                      {
                        "learn": [
                          0.002104630141
                        ],
                        "iteration": 397,
                        "passed_time": 27.02932647,
                        "remaining_time": 40.88355411
                      },
                      {
                        "learn": [
                          0.002101586698
                        ],
                        "iteration": 398,
                        "passed_time": 27.10814001,
                        "remaining_time": 40.83206052
                      },
                      {
                        "learn": [
                          0.002096285551
                        ],
                        "iteration": 399,
                        "passed_time": 27.17338941,
                        "remaining_time": 40.76008412
                      },
                      {
                        "learn": [
                          0.002093485743
                        ],
                        "iteration": 400,
                        "passed_time": 27.2451859,
                        "remaining_time": 40.69792108
                      },
                      {
                        "learn": [
                          0.002089427732
                        ],
                        "iteration": 401,
                        "passed_time": 27.30820475,
                        "remaining_time": 40.62265284
                      },
                      {
                        "learn": [
                          0.002085942062
                        ],
                        "iteration": 402,
                        "passed_time": 27.37922596,
                        "remaining_time": 40.5593
                      },
                      {
                        "learn": [
                          0.002085883415
                        ],
                        "iteration": 403,
                        "passed_time": 27.43995774,
                        "remaining_time": 40.48072973
                      },
                      {
                        "learn": [
                          0.002080938944
                        ],
                        "iteration": 404,
                        "passed_time": 27.51227354,
                        "remaining_time": 40.41926607
                      },
                      {
                        "learn": [
                          0.002079273965
                        ],
                        "iteration": 405,
                        "passed_time": 27.5780337,
                        "remaining_time": 40.34815768
                      },
                      {
                        "learn": [
                          0.002079216588
                        ],
                        "iteration": 406,
                        "passed_time": 27.64337805,
                        "remaining_time": 40.27646974
                      },
                      {
                        "learn": [
                          0.002078932817
                        ],
                        "iteration": 407,
                        "passed_time": 27.70709628,
                        "remaining_time": 40.20245343
                      },
                      {
                        "learn": [
                          0.002073674667
                        ],
                        "iteration": 408,
                        "passed_time": 27.77809596,
                        "remaining_time": 40.13900908
                      },
                      {
                        "learn": [
                          0.002068276167
                        ],
                        "iteration": 409,
                        "passed_time": 27.84913705,
                        "remaining_time": 40.07558747
                      },
                      {
                        "learn": [
                          0.002066577614
                        ],
                        "iteration": 410,
                        "passed_time": 27.92748747,
                        "remaining_time": 40.0226037
                      },
                      {
                        "learn": [
                          0.002066519139
                        ],
                        "iteration": 411,
                        "passed_time": 27.99259248,
                        "remaining_time": 39.95059315
                      },
                      {
                        "learn": [
                          0.002061658485
                        ],
                        "iteration": 412,
                        "passed_time": 28.07082876,
                        "remaining_time": 39.89727962
                      },
                      {
                        "learn": [
                          0.002059052786
                        ],
                        "iteration": 413,
                        "passed_time": 28.13622793,
                        "remaining_time": 39.82567529
                      },
                      {
                        "learn": [
                          0.002051118234
                        ],
                        "iteration": 414,
                        "passed_time": 28.19864212,
                        "remaining_time": 39.74989311
                      },
                      {
                        "learn": [
                          0.002048797208
                        ],
                        "iteration": 415,
                        "passed_time": 28.26753012,
                        "remaining_time": 39.68326344
                      },
                      {
                        "learn": [
                          0.002048036172
                        ],
                        "iteration": 416,
                        "passed_time": 28.33291915,
                        "remaining_time": 39.61173109
                      },
                      {
                        "learn": [
                          0.002044741929
                        ],
                        "iteration": 417,
                        "passed_time": 28.40235304,
                        "remaining_time": 39.54585997
                      },
                      {
                        "learn": [
                          0.002043180434
                        ],
                        "iteration": 418,
                        "passed_time": 28.47121841,
                        "remaining_time": 39.47918353
                      },
                      {
                        "learn": [
                          0.002040719935
                        ],
                        "iteration": 419,
                        "passed_time": 28.54038066,
                        "remaining_time": 39.41290662
                      },
                      {
                        "learn": [
                          0.002040214799
                        ],
                        "iteration": 420,
                        "passed_time": 28.59790518,
                        "remaining_time": 39.33061068
                      },
                      {
                        "learn": [
                          0.002037893648
                        ],
                        "iteration": 421,
                        "passed_time": 28.66092657,
                        "remaining_time": 39.25596103
                      },
                      {
                        "learn": [
                          0.002036007008
                        ],
                        "iteration": 422,
                        "passed_time": 28.72678804,
                        "remaining_time": 39.18524043
                      },
                      {
                        "learn": [
                          0.002031599076
                        ],
                        "iteration": 423,
                        "passed_time": 28.79219615,
                        "remaining_time": 39.11392685
                      },
                      {
                        "learn": [
                          0.002029311279
                        ],
                        "iteration": 424,
                        "passed_time": 28.86432001,
                        "remaining_time": 39.05172707
                      },
                      {
                        "learn": [
                          0.002023358923
                        ],
                        "iteration": 425,
                        "passed_time": 28.94640716,
                        "remaining_time": 39.00290543
                      },
                      {
                        "learn": [
                          0.002022300703
                        ],
                        "iteration": 426,
                        "passed_time": 29.02454392,
                        "remaining_time": 38.94862686
                      },
                      {
                        "learn": [
                          0.00202009551
                        ],
                        "iteration": 427,
                        "passed_time": 29.09044162,
                        "remaining_time": 38.87787993
                      },
                      {
                        "learn": [
                          0.002019562615
                        ],
                        "iteration": 428,
                        "passed_time": 29.14836381,
                        "remaining_time": 38.79654017
                      },
                      {
                        "learn": [
                          0.002018808183
                        ],
                        "iteration": 429,
                        "passed_time": 29.20747525,
                        "remaining_time": 38.71688579
                      },
                      {
                        "learn": [
                          0.002017145272
                        ],
                        "iteration": 430,
                        "passed_time": 29.27698961,
                        "remaining_time": 38.65106053
                      },
                      {
                        "learn": [
                          0.002015991022
                        ],
                        "iteration": 431,
                        "passed_time": 29.33568723,
                        "remaining_time": 38.57099617
                      },
                      {
                        "learn": [
                          0.002013484883
                        ],
                        "iteration": 432,
                        "passed_time": 29.40546439,
                        "remaining_time": 38.50553883
                      },
                      {
                        "learn": [
                          0.002011497923
                        ],
                        "iteration": 433,
                        "passed_time": 29.47513613,
                        "remaining_time": 38.43992408
                      },
                      {
                        "learn": [
                          0.002010871354
                        ],
                        "iteration": 434,
                        "passed_time": 29.53627065,
                        "remaining_time": 38.3632021
                      },
                      {
                        "learn": [
                          0.002006525705
                        ],
                        "iteration": 435,
                        "passed_time": 29.60809698,
                        "remaining_time": 38.30038233
                      },
                      {
                        "learn": [
                          0.002005528652
                        ],
                        "iteration": 436,
                        "passed_time": 29.67434421,
                        "remaining_time": 38.23033362
                      },
                      {
                        "learn": [
                          0.002004406969
                        ],
                        "iteration": 437,
                        "passed_time": 29.73912618,
                        "remaining_time": 38.15842217
                      },
                      {
                        "learn": [
                          0.001997371605
                        ],
                        "iteration": 438,
                        "passed_time": 29.80986662,
                        "remaining_time": 38.09415757
                      },
                      {
                        "learn": [
                          0.00199602545
                        ],
                        "iteration": 439,
                        "passed_time": 29.87512885,
                        "remaining_time": 38.02289127
                      },
                      {
                        "learn": [
                          0.001994141447
                        ],
                        "iteration": 440,
                        "passed_time": 29.93868879,
                        "remaining_time": 37.94949441
                      },
                      {
                        "learn": [
                          0.001993700201
                        ],
                        "iteration": 441,
                        "passed_time": 30.01998457,
                        "remaining_time": 37.89853256
                      },
                      {
                        "learn": [
                          0.001993332217
                        ],
                        "iteration": 442,
                        "passed_time": 30.07577642,
                        "remaining_time": 37.81536674
                      },
                      {
                        "learn": [
                          0.001991640137
                        ],
                        "iteration": 443,
                        "passed_time": 30.13714598,
                        "remaining_time": 37.73930893
                      },
                      {
                        "learn": [
                          0.001988814453
                        ],
                        "iteration": 444,
                        "passed_time": 30.20373151,
                        "remaining_time": 37.66982245
                      },
                      {
                        "learn": [
                          0.001988124762
                        ],
                        "iteration": 445,
                        "passed_time": 30.27785416,
                        "remaining_time": 37.60971122
                      },
                      {
                        "learn": [
                          0.001983988471
                        ],
                        "iteration": 446,
                        "passed_time": 30.35019156,
                        "remaining_time": 37.54732871
                      },
                      {
                        "learn": [
                          0.001982946355
                        ],
                        "iteration": 447,
                        "passed_time": 30.4139321,
                        "remaining_time": 37.4743092
                      },
                      {
                        "learn": [
                          0.001981477822
                        ],
                        "iteration": 448,
                        "passed_time": 30.47497226,
                        "remaining_time": 37.39801718
                      },
                      {
                        "learn": [
                          0.001980221939
                        ],
                        "iteration": 449,
                        "passed_time": 30.54011923,
                        "remaining_time": 37.32681239
                      },
                      {
                        "learn": [
                          0.001980186718
                        ],
                        "iteration": 450,
                        "passed_time": 30.60023737,
                        "remaining_time": 37.2495129
                      },
                      {
                        "learn": [
                          0.001973053452
                        ],
                        "iteration": 451,
                        "passed_time": 30.67180665,
                        "remaining_time": 37.18617266
                      },
                      {
                        "learn": [
                          0.001969332975
                        ],
                        "iteration": 452,
                        "passed_time": 30.74047112,
                        "remaining_time": 37.11928853
                      },
                      {
                        "learn": [
                          0.00196852542
                        ],
                        "iteration": 453,
                        "passed_time": 30.80465539,
                        "remaining_time": 37.04700846
                      },
                      {
                        "learn": [
                          0.001964222775
                        ],
                        "iteration": 454,
                        "passed_time": 30.87461235,
                        "remaining_time": 36.98167853
                      },
                      {
                        "learn": [
                          0.001961072368
                        ],
                        "iteration": 455,
                        "passed_time": 30.9482843,
                        "remaining_time": 36.92076022
                      },
                      {
                        "learn": [
                          0.001958785805
                        ],
                        "iteration": 456,
                        "passed_time": 31.03353251,
                        "remaining_time": 36.87354082
                      },
                      {
                        "learn": [
                          0.001957332463
                        ],
                        "iteration": 457,
                        "passed_time": 31.09578068,
                        "remaining_time": 36.79893696
                      },
                      {
                        "learn": [
                          0.001953484481
                        ],
                        "iteration": 458,
                        "passed_time": 31.16730691,
                        "remaining_time": 36.73532252
                      },
                      {
                        "learn": [
                          0.001950730555
                        ],
                        "iteration": 459,
                        "passed_time": 31.23277964,
                        "remaining_time": 36.6645674
                      },
                      {
                        "learn": [
                          0.001945743379
                        ],
                        "iteration": 460,
                        "passed_time": 31.30878678,
                        "remaining_time": 36.60615201
                      },
                      {
                        "learn": [
                          0.00194232712
                        ],
                        "iteration": 461,
                        "passed_time": 31.38166656,
                        "remaining_time": 36.54401863
                      },
                      {
                        "learn": [
                          0.001939134068
                        ],
                        "iteration": 462,
                        "passed_time": 31.45236026,
                        "remaining_time": 36.47930337
                      },
                      {
                        "learn": [
                          0.00192711534
                        ],
                        "iteration": 463,
                        "passed_time": 31.52744872,
                        "remaining_time": 36.41963904
                      },
                      {
                        "learn": [
                          0.001924153513
                        ],
                        "iteration": 464,
                        "passed_time": 31.59593254,
                        "remaining_time": 36.35230948
                      },
                      {
                        "learn": [
                          0.00192222432
                        ],
                        "iteration": 465,
                        "passed_time": 31.66568409,
                        "remaining_time": 36.28642769
                      },
                      {
                        "learn": [
                          0.001921707248
                        ],
                        "iteration": 466,
                        "passed_time": 31.72694698,
                        "remaining_time": 36.21084099
                      },
                      {
                        "learn": [
                          0.001916475258
                        ],
                        "iteration": 467,
                        "passed_time": 31.80206286,
                        "remaining_time": 36.15106291
                      },
                      {
                        "learn": [
                          0.001915751566
                        ],
                        "iteration": 468,
                        "passed_time": 31.86573463,
                        "remaining_time": 36.07826245
                      },
                      {
                        "learn": [
                          0.001911554622
                        ],
                        "iteration": 469,
                        "passed_time": 31.93276559,
                        "remaining_time": 36.00928885
                      },
                      {
                        "learn": [
                          0.001910370077
                        ],
                        "iteration": 470,
                        "passed_time": 32.02670891,
                        "remaining_time": 35.97054992
                      },
                      {
                        "learn": [
                          0.001908495581
                        ],
                        "iteration": 471,
                        "passed_time": 32.08884152,
                        "remaining_time": 35.89599221
                      },
                      {
                        "learn": [
                          0.001906846799
                        ],
                        "iteration": 472,
                        "passed_time": 32.15593845,
                        "remaining_time": 35.8270181
                      },
                      {
                        "learn": [
                          0.001901542416
                        ],
                        "iteration": 473,
                        "passed_time": 32.22209262,
                        "remaining_time": 35.75700573
                      },
                      {
                        "learn": [
                          0.001901414848
                        ],
                        "iteration": 474,
                        "passed_time": 32.29147905,
                        "remaining_time": 35.69058211
                      },
                      {
                        "learn": [
                          0.00190110865
                        ],
                        "iteration": 475,
                        "passed_time": 32.35379909,
                        "remaining_time": 35.61636707
                      },
                      {
                        "learn": [
                          0.001899360137
                        ],
                        "iteration": 476,
                        "passed_time": 32.42634299,
                        "remaining_time": 35.55341171
                      },
                      {
                        "learn": [
                          0.001897634347
                        ],
                        "iteration": 477,
                        "passed_time": 32.4903458,
                        "remaining_time": 35.48108893
                      },
                      {
                        "learn": [
                          0.0018953959
                        ],
                        "iteration": 478,
                        "passed_time": 32.5579158,
                        "remaining_time": 35.41268086
                      },
                      {
                        "learn": [
                          0.00189534745
                        ],
                        "iteration": 479,
                        "passed_time": 32.61886925,
                        "remaining_time": 35.33710836
                      },
                      {
                        "learn": [
                          0.001890788115
                        ],
                        "iteration": 480,
                        "passed_time": 32.69320222,
                        "remaining_time": 35.27603316
                      },
                      {
                        "learn": [
                          0.001884634693
                        ],
                        "iteration": 481,
                        "passed_time": 32.7559078,
                        "remaining_time": 35.20240714
                      },
                      {
                        "learn": [
                          0.001880441059
                        ],
                        "iteration": 482,
                        "passed_time": 32.82534375,
                        "remaining_time": 35.13603047
                      },
                      {
                        "learn": [
                          0.001876054012
                        ],
                        "iteration": 483,
                        "passed_time": 32.8968322,
                        "remaining_time": 35.07182937
                      },
                      {
                        "learn": [
                          0.001875950157
                        ],
                        "iteration": 484,
                        "passed_time": 32.95635921,
                        "remaining_time": 34.99489689
                      },
                      {
                        "learn": [
                          0.001875588488
                        ],
                        "iteration": 485,
                        "passed_time": 33.04616765,
                        "remaining_time": 34.95006208
                      },
                      {
                        "learn": [
                          0.00187416139
                        ],
                        "iteration": 486,
                        "passed_time": 33.10857777,
                        "remaining_time": 34.87618151
                      },
                      {
                        "learn": [
                          0.001871108372
                        ],
                        "iteration": 487,
                        "passed_time": 33.170252,
                        "remaining_time": 34.80157586
                      },
                      {
                        "learn": [
                          0.001868392527
                        ],
                        "iteration": 488,
                        "passed_time": 33.23490481,
                        "remaining_time": 34.7301357
                      },
                      {
                        "learn": [
                          0.001868358494
                        ],
                        "iteration": 489,
                        "passed_time": 33.29340011,
                        "remaining_time": 34.6523144
                      },
                      {
                        "learn": [
                          0.001867488102
                        ],
                        "iteration": 490,
                        "passed_time": 33.36478801,
                        "remaining_time": 34.58793706
                      },
                      {
                        "learn": [
                          0.001867184048
                        ],
                        "iteration": 491,
                        "passed_time": 33.4204306,
                        "remaining_time": 34.50727387
                      },
                      {
                        "learn": [
                          0.001866303473
                        ],
                        "iteration": 492,
                        "passed_time": 33.48090964,
                        "remaining_time": 34.43168598
                      },
                      {
                        "learn": [
                          0.001865942931
                        ],
                        "iteration": 493,
                        "passed_time": 33.54264265,
                        "remaining_time": 34.35744369
                      },
                      {
                        "learn": [
                          0.001863836697
                        ],
                        "iteration": 494,
                        "passed_time": 33.60494403,
                        "remaining_time": 34.28383179
                      },
                      {
                        "learn": [
                          0.001860195299
                        ],
                        "iteration": 495,
                        "passed_time": 33.67806414,
                        "remaining_time": 34.22125873
                      },
                      {
                        "learn": [
                          0.001857039322
                        ],
                        "iteration": 496,
                        "passed_time": 33.75233073,
                        "remaining_time": 34.15980353
                      },
                      {
                        "learn": [
                          0.001853402303
                        ],
                        "iteration": 497,
                        "passed_time": 33.81888014,
                        "remaining_time": 34.09051773
                      },
                      {
                        "learn": [
                          0.0018516055
                        ],
                        "iteration": 498,
                        "passed_time": 33.88233774,
                        "remaining_time": 34.0181387
                      },
                      {
                        "learn": [
                          0.001849410629
                        ],
                        "iteration": 499,
                        "passed_time": 33.945867,
                        "remaining_time": 33.945867
                      },
                      {
                        "learn": [
                          0.001841720065
                        ],
                        "iteration": 500,
                        "passed_time": 34.02941561,
                        "remaining_time": 33.89356963
                      },
                      {
                        "learn": [
                          0.00183679367
                        ],
                        "iteration": 501,
                        "passed_time": 34.12144666,
                        "remaining_time": 33.84956263
                      },
                      {
                        "learn": [
                          0.001835447032
                        ],
                        "iteration": 502,
                        "passed_time": 34.18250301,
                        "remaining_time": 33.77475944
                      },
                      {
                        "learn": [
                          0.00183146975
                        ],
                        "iteration": 503,
                        "passed_time": 34.25232408,
                        "remaining_time": 33.7086364
                      },
                      {
                        "learn": [
                          0.001829860163
                        ],
                        "iteration": 504,
                        "passed_time": 34.32803417,
                        "remaining_time": 33.64827112
                      },
                      {
                        "learn": [
                          0.001827800227
                        ],
                        "iteration": 505,
                        "passed_time": 34.39149662,
                        "remaining_time": 33.57588801
                      },
                      {
                        "learn": [
                          0.001827009153
                        ],
                        "iteration": 506,
                        "passed_time": 34.45476274,
                        "remaining_time": 33.50334918
                      },
                      {
                        "learn": [
                          0.001825245778
                        ],
                        "iteration": 507,
                        "passed_time": 34.51437219,
                        "remaining_time": 33.42730535
                      },
                      {
                        "learn": [
                          0.001823936906
                        ],
                        "iteration": 508,
                        "passed_time": 34.58346525,
                        "remaining_time": 33.36047434
                      },
                      {
                        "learn": [
                          0.001823085971
                        ],
                        "iteration": 509,
                        "passed_time": 34.64682893,
                        "remaining_time": 33.28812976
                      },
                      {
                        "learn": [
                          0.001821458889
                        ],
                        "iteration": 510,
                        "passed_time": 34.71620132,
                        "remaining_time": 33.22157034
                      },
                      {
                        "learn": [
                          0.001820574749
                        ],
                        "iteration": 511,
                        "passed_time": 34.77960326,
                        "remaining_time": 33.14930936
                      },
                      {
                        "learn": [
                          0.001817695562
                        ],
                        "iteration": 512,
                        "passed_time": 34.84654147,
                        "remaining_time": 33.08043995
                      },
                      {
                        "learn": [
                          0.001817660464
                        ],
                        "iteration": 513,
                        "passed_time": 34.90139523,
                        "remaining_time": 33.00015191
                      },
                      {
                        "learn": [
                          0.001816504418
                        ],
                        "iteration": 514,
                        "passed_time": 34.96516773,
                        "remaining_time": 32.92836185
                      },
                      {
                        "learn": [
                          0.001815821648
                        ],
                        "iteration": 515,
                        "passed_time": 35.04142287,
                        "remaining_time": 32.86831138
                      },
                      {
                        "learn": [
                          0.001813808351
                        ],
                        "iteration": 516,
                        "passed_time": 35.10889284,
                        "remaining_time": 32.7999908
                      },
                      {
                        "learn": [
                          0.001812111286
                        ],
                        "iteration": 517,
                        "passed_time": 35.17407222,
                        "remaining_time": 32.7295421
                      },
                      {
                        "learn": [
                          0.001811005247
                        ],
                        "iteration": 518,
                        "passed_time": 35.23635457,
                        "remaining_time": 32.6564288
                      },
                      {
                        "learn": [
                          0.001808119904
                        ],
                        "iteration": 519,
                        "passed_time": 35.3009082,
                        "remaining_time": 32.58545372
                      },
                      {
                        "learn": [
                          0.001806713796
                        ],
                        "iteration": 520,
                        "passed_time": 35.37765341,
                        "remaining_time": 32.52571206
                      },
                      {
                        "learn": [
                          0.001804409955
                        ],
                        "iteration": 521,
                        "passed_time": 35.44186727,
                        "remaining_time": 32.45443018
                      },
                      {
                        "learn": [
                          0.001803422502
                        ],
                        "iteration": 522,
                        "passed_time": 35.51412254,
                        "remaining_time": 32.39050946
                      },
                      {
                        "learn": [
                          0.001803353255
                        ],
                        "iteration": 523,
                        "passed_time": 35.5745689,
                        "remaining_time": 32.31582976
                      },
                      {
                        "learn": [
                          0.001803232157
                        ],
                        "iteration": 524,
                        "passed_time": 35.63319688,
                        "remaining_time": 32.23955908
                      },
                      {
                        "learn": [
                          0.001798214139
                        ],
                        "iteration": 525,
                        "passed_time": 35.70396741,
                        "remaining_time": 32.17429763
                      },
                      {
                        "learn": [
                          0.001794038915
                        ],
                        "iteration": 526,
                        "passed_time": 35.77342724,
                        "remaining_time": 32.10783887
                      },
                      {
                        "learn": [
                          0.001792067416
                        ],
                        "iteration": 527,
                        "passed_time": 35.84097166,
                        "remaining_time": 32.03965649
                      },
                      {
                        "learn": [
                          0.001790299536
                        ],
                        "iteration": 528,
                        "passed_time": 35.90498155,
                        "remaining_time": 31.96832951
                      },
                      {
                        "learn": [
                          0.00179026796
                        ],
                        "iteration": 529,
                        "passed_time": 35.95988998,
                        "remaining_time": 31.88895904
                      },
                      {
                        "learn": [
                          0.001788797235
                        ],
                        "iteration": 530,
                        "passed_time": 36.02764398,
                        "remaining_time": 31.82102642
                      },
                      {
                        "learn": [
                          0.001783778817
                        ],
                        "iteration": 531,
                        "passed_time": 36.17426022,
                        "remaining_time": 31.82246952
                      },
                      {
                        "learn": [
                          0.001782565562
                        ],
                        "iteration": 532,
                        "passed_time": 36.24054069,
                        "remaining_time": 31.75296905
                      },
                      {
                        "learn": [
                          0.001780393399
                        ],
                        "iteration": 533,
                        "passed_time": 36.3108646,
                        "remaining_time": 31.68700918
                      },
                      {
                        "learn": [
                          0.001779388746
                        ],
                        "iteration": 534,
                        "passed_time": 36.38598692,
                        "remaining_time": 31.62520358
                      },
                      {
                        "learn": [
                          0.001776932005
                        ],
                        "iteration": 535,
                        "passed_time": 36.44873376,
                        "remaining_time": 31.55263519
                      },
                      {
                        "learn": [
                          0.001774226373
                        ],
                        "iteration": 536,
                        "passed_time": 36.51279063,
                        "remaining_time": 31.48123289
                      },
                      {
                        "learn": [
                          0.001771033525
                        ],
                        "iteration": 537,
                        "passed_time": 36.58288026,
                        "remaining_time": 31.41503844
                      },
                      {
                        "learn": [
                          0.001769967829
                        ],
                        "iteration": 538,
                        "passed_time": 36.64762133,
                        "remaining_time": 31.34425498
                      },
                      {
                        "learn": [
                          0.001766956669
                        ],
                        "iteration": 539,
                        "passed_time": 36.71411441,
                        "remaining_time": 31.27498635
                      },
                      {
                        "learn": [
                          0.001764279728
                        ],
                        "iteration": 540,
                        "passed_time": 36.77692884,
                        "remaining_time": 31.20260691
                      },
                      {
                        "learn": [
                          0.001762742195
                        ],
                        "iteration": 541,
                        "passed_time": 36.84522081,
                        "remaining_time": 31.13489139
                      },
                      {
                        "learn": [
                          0.001760982897
                        ],
                        "iteration": 542,
                        "passed_time": 36.91414839,
                        "remaining_time": 31.06770868
                      },
                      {
                        "learn": [
                          0.001759160709
                        ],
                        "iteration": 543,
                        "passed_time": 36.98290317,
                        "remaining_time": 31.00037471
                      },
                      {
                        "learn": [
                          0.001751773218
                        ],
                        "iteration": 544,
                        "passed_time": 37.05364163,
                        "remaining_time": 30.93469163
                      },
                      {
                        "learn": [
                          0.001751180387
                        ],
                        "iteration": 545,
                        "passed_time": 37.11422958,
                        "remaining_time": 30.86054987
                      },
                      {
                        "learn": [
                          0.001747240019
                        ],
                        "iteration": 546,
                        "passed_time": 37.20191443,
                        "remaining_time": 30.80889806
                      },
                      {
                        "learn": [
                          0.001745877496
                        ],
                        "iteration": 547,
                        "passed_time": 37.26656594,
                        "remaining_time": 30.73811644
                      },
                      {
                        "learn": [
                          0.001745393759
                        ],
                        "iteration": 548,
                        "passed_time": 37.33514797,
                        "remaining_time": 30.67058603
                      },
                      {
                        "learn": [
                          0.001742922548
                        ],
                        "iteration": 549,
                        "passed_time": 37.40751487,
                        "remaining_time": 30.60614853
                      },
                      {
                        "learn": [
                          0.001734372515
                        ],
                        "iteration": 550,
                        "passed_time": 37.47423127,
                        "remaining_time": 30.53707775
                      },
                      {
                        "learn": [
                          0.001730647234
                        ],
                        "iteration": 551,
                        "passed_time": 37.54838161,
                        "remaining_time": 30.47404885
                      },
                      {
                        "learn": [
                          0.001728641239
                        ],
                        "iteration": 552,
                        "passed_time": 37.61258943,
                        "remaining_time": 30.40294299
                      },
                      {
                        "learn": [
                          0.001728161118
                        ],
                        "iteration": 553,
                        "passed_time": 37.67458024,
                        "remaining_time": 30.33007724
                      },
                      {
                        "learn": [
                          0.001727964673
                        ],
                        "iteration": 554,
                        "passed_time": 37.73518294,
                        "remaining_time": 30.25613768
                      },
                      {
                        "learn": [
                          0.001726962736
                        ],
                        "iteration": 555,
                        "passed_time": 37.79771553,
                        "remaining_time": 30.18378722
                      },
                      {
                        "learn": [
                          0.001726123003
                        ],
                        "iteration": 556,
                        "passed_time": 37.874205,
                        "remaining_time": 30.12257238
                      },
                      {
                        "learn": [
                          0.001722118834
                        ],
                        "iteration": 557,
                        "passed_time": 37.94069692,
                        "remaining_time": 30.05338358
                      },
                      {
                        "learn": [
                          0.001720687526
                        ],
                        "iteration": 558,
                        "passed_time": 38.00539397,
                        "remaining_time": 29.98278844
                      },
                      {
                        "learn": [
                          0.001718405645
                        ],
                        "iteration": 559,
                        "passed_time": 38.06839199,
                        "remaining_time": 29.91087942
                      },
                      {
                        "learn": [
                          0.001716517965
                        ],
                        "iteration": 560,
                        "passed_time": 38.1362866,
                        "remaining_time": 29.8428339
                      },
                      {
                        "learn": [
                          0.001715727972
                        ],
                        "iteration": 561,
                        "passed_time": 38.21923472,
                        "remaining_time": 29.78652101
                      },
                      {
                        "learn": [
                          0.001713248344
                        ],
                        "iteration": 562,
                        "passed_time": 38.29167285,
                        "remaining_time": 29.72195566
                      },
                      {
                        "learn": [
                          0.001712259001
                        ],
                        "iteration": 563,
                        "passed_time": 38.35364692,
                        "remaining_time": 29.64927315
                      },
                      {
                        "learn": [
                          0.001711920697
                        ],
                        "iteration": 564,
                        "passed_time": 38.42069415,
                        "remaining_time": 29.58053444
                      },
                      {
                        "learn": [
                          0.001707069157
                        ],
                        "iteration": 565,
                        "passed_time": 38.49184914,
                        "remaining_time": 29.51495146
                      },
                      {
                        "learn": [
                          0.001704394619
                        ],
                        "iteration": 566,
                        "passed_time": 38.56496102,
                        "remaining_time": 29.45084325
                      },
                      {
                        "learn": [
                          0.001701401791
                        ],
                        "iteration": 567,
                        "passed_time": 38.63334864,
                        "remaining_time": 29.38311023
                      },
                      {
                        "learn": [
                          0.001700588177
                        ],
                        "iteration": 568,
                        "passed_time": 38.70025579,
                        "remaining_time": 29.31425351
                      },
                      {
                        "learn": [
                          0.00169943944
                        ],
                        "iteration": 569,
                        "passed_time": 38.76248329,
                        "remaining_time": 29.24187336
                      },
                      {
                        "learn": [
                          0.001696308738
                        ],
                        "iteration": 570,
                        "passed_time": 38.83502429,
                        "remaining_time": 29.17727745
                      },
                      {
                        "learn": [
                          0.001693883521
                        ],
                        "iteration": 571,
                        "passed_time": 38.89859958,
                        "remaining_time": 29.10594514
                      },
                      {
                        "learn": [
                          0.001693558854
                        ],
                        "iteration": 572,
                        "passed_time": 38.96586912,
                        "remaining_time": 29.03739287
                      },
                      {
                        "learn": [
                          0.001692278686
                        ],
                        "iteration": 573,
                        "passed_time": 39.03455029,
                        "remaining_time": 28.96989273
                      },
                      {
                        "learn": [
                          0.001691248393
                        ],
                        "iteration": 574,
                        "passed_time": 39.09796515,
                        "remaining_time": 28.89849598
                      },
                      {
                        "learn": [
                          0.001689976794
                        ],
                        "iteration": 575,
                        "passed_time": 39.17819251,
                        "remaining_time": 28.83950282
                      },
                      {
                        "learn": [
                          0.001685094815
                        ],
                        "iteration": 576,
                        "passed_time": 39.25306497,
                        "remaining_time": 28.77651037
                      },
                      {
                        "learn": [
                          0.001683048734
                        ],
                        "iteration": 577,
                        "passed_time": 39.32537566,
                        "remaining_time": 28.71160645
                      },
                      {
                        "learn": [
                          0.001680378439
                        ],
                        "iteration": 578,
                        "passed_time": 39.40001428,
                        "remaining_time": 28.64836962
                      },
                      {
                        "learn": [
                          0.00167655119
                        ],
                        "iteration": 579,
                        "passed_time": 39.47070352,
                        "remaining_time": 28.58223358
                      },
                      {
                        "learn": [
                          0.001675193485
                        ],
                        "iteration": 580,
                        "passed_time": 39.53994068,
                        "remaining_time": 28.51503467
                      },
                      {
                        "learn": [
                          0.001674791636
                        ],
                        "iteration": 581,
                        "passed_time": 39.60168341,
                        "remaining_time": 28.44244616
                      },
                      {
                        "learn": [
                          0.001668198084
                        ],
                        "iteration": 582,
                        "passed_time": 39.6708597,
                        "remaining_time": 28.37521183
                      },
                      {
                        "learn": [
                          0.001666276488
                        ],
                        "iteration": 583,
                        "passed_time": 39.73389976,
                        "remaining_time": 28.30359983
                      },
                      {
                        "learn": [
                          0.001666183765
                        ],
                        "iteration": 584,
                        "passed_time": 39.79668263,
                        "remaining_time": 28.23183469
                      },
                      {
                        "learn": [
                          0.001661111818
                        ],
                        "iteration": 585,
                        "passed_time": 39.87119042,
                        "remaining_time": 28.16838367
                      },
                      {
                        "learn": [
                          0.001660039383
                        ],
                        "iteration": 586,
                        "passed_time": 39.94021058,
                        "remaining_time": 28.10103402
                      },
                      {
                        "learn": [
                          0.001656539791
                        ],
                        "iteration": 587,
                        "passed_time": 40.01340607,
                        "remaining_time": 28.03660425
                      },
                      {
                        "learn": [
                          0.001655095634
                        ],
                        "iteration": 588,
                        "passed_time": 40.07740837,
                        "remaining_time": 27.96572978
                      },
                      {
                        "learn": [
                          0.001654046498
                        ],
                        "iteration": 589,
                        "passed_time": 40.13741923,
                        "remaining_time": 27.89210489
                      },
                      {
                        "learn": [
                          0.001650573439
                        ],
                        "iteration": 590,
                        "passed_time": 40.24040582,
                        "remaining_time": 27.84826731
                      },
                      {
                        "learn": [
                          0.001648767147
                        ],
                        "iteration": 591,
                        "passed_time": 40.30655011,
                        "remaining_time": 27.77883859
                      },
                      {
                        "learn": [
                          0.001645221219
                        ],
                        "iteration": 592,
                        "passed_time": 40.37910517,
                        "remaining_time": 27.71382092
                      },
                      {
                        "learn": [
                          0.001643188924
                        ],
                        "iteration": 593,
                        "passed_time": 40.4543776,
                        "remaining_time": 27.6506352
                      },
                      {
                        "learn": [
                          0.001638875977
                        ],
                        "iteration": 594,
                        "passed_time": 40.53207116,
                        "remaining_time": 27.58905684
                      },
                      {
                        "learn": [
                          0.001636183394
                        ],
                        "iteration": 595,
                        "passed_time": 40.59696841,
                        "remaining_time": 27.5187504
                      },
                      {
                        "learn": [
                          0.001634724943
                        ],
                        "iteration": 596,
                        "passed_time": 40.6684896,
                        "remaining_time": 27.45293351
                      },
                      {
                        "learn": [
                          0.001634013249
                        ],
                        "iteration": 597,
                        "passed_time": 40.73184115,
                        "remaining_time": 27.38160559
                      },
                      {
                        "learn": [
                          0.001628228116
                        ],
                        "iteration": 598,
                        "passed_time": 40.80500894,
                        "remaining_time": 27.31687577
                      },
                      {
                        "learn": [
                          0.00162582538
                        ],
                        "iteration": 599,
                        "passed_time": 40.87766019,
                        "remaining_time": 27.25177346
                      },
                      {
                        "learn": [
                          0.001625091087
                        ],
                        "iteration": 600,
                        "passed_time": 40.94070989,
                        "remaining_time": 27.18027162
                      },
                      {
                        "learn": [
                          0.00162208977
                        ],
                        "iteration": 601,
                        "passed_time": 41.00515947,
                        "remaining_time": 27.10972337
                      },
                      {
                        "learn": [
                          0.001621410265
                        ],
                        "iteration": 602,
                        "passed_time": 41.06657895,
                        "remaining_time": 27.0372004
                      },
                      {
                        "learn": [
                          0.001620764253
                        ],
                        "iteration": 603,
                        "passed_time": 41.13083131,
                        "remaining_time": 26.96657152
                      },
                      {
                        "learn": [
                          0.001618650021
                        ],
                        "iteration": 604,
                        "passed_time": 41.21617527,
                        "remaining_time": 26.90973427
                      },
                      {
                        "learn": [
                          0.00161560175
                        ],
                        "iteration": 605,
                        "passed_time": 41.29001875,
                        "remaining_time": 26.84532572
                      },
                      {
                        "learn": [
                          0.001608488197
                        ],
                        "iteration": 606,
                        "passed_time": 41.35941735,
                        "remaining_time": 26.77800827
                      },
                      {
                        "learn": [
                          0.001604924651
                        ],
                        "iteration": 607,
                        "passed_time": 41.43547276,
                        "remaining_time": 26.71497586
                      },
                      {
                        "learn": [
                          0.001601742046
                        ],
                        "iteration": 608,
                        "passed_time": 41.50978484,
                        "remaining_time": 26.6507814
                      },
                      {
                        "learn": [
                          0.001597744868
                        ],
                        "iteration": 609,
                        "passed_time": 41.5790086,
                        "remaining_time": 26.58330058
                      },
                      {
                        "learn": [
                          0.001596263115
                        ],
                        "iteration": 610,
                        "passed_time": 41.64359195,
                        "remaining_time": 26.51285969
                      },
                      {
                        "learn": [
                          0.001595160468
                        ],
                        "iteration": 611,
                        "passed_time": 41.70955011,
                        "remaining_time": 26.44330954
                      },
                      {
                        "learn": [
                          0.0015930824
                        ],
                        "iteration": 612,
                        "passed_time": 41.77462534,
                        "remaining_time": 26.37321371
                      },
                      {
                        "learn": [
                          0.001589640223
                        ],
                        "iteration": 613,
                        "passed_time": 41.84419892,
                        "remaining_time": 26.30596218
                      },
                      {
                        "learn": [
                          0.001588162984
                        ],
                        "iteration": 614,
                        "passed_time": 41.90942558,
                        "remaining_time": 26.23598187
                      },
                      {
                        "learn": [
                          0.001586576036
                        ],
                        "iteration": 615,
                        "passed_time": 41.97368742,
                        "remaining_time": 26.16541554
                      },
                      {
                        "learn": [
                          0.001585096681
                        ],
                        "iteration": 616,
                        "passed_time": 42.04932464,
                        "remaining_time": 26.10193085
                      },
                      {
                        "learn": [
                          0.00158213464
                        ],
                        "iteration": 617,
                        "passed_time": 42.11208341,
                        "remaining_time": 26.03044638
                      },
                      {
                        "learn": [
                          0.001581373246
                        ],
                        "iteration": 618,
                        "passed_time": 42.17425057,
                        "remaining_time": 25.95862596
                      },
                      {
                        "learn": [
                          0.001580189425
                        ],
                        "iteration": 619,
                        "passed_time": 42.26062333,
                        "remaining_time": 25.90167237
                      },
                      {
                        "learn": [
                          0.001579664301
                        ],
                        "iteration": 620,
                        "passed_time": 42.32895329,
                        "remaining_time": 25.83361239
                      },
                      {
                        "learn": [
                          0.001577397938
                        ],
                        "iteration": 621,
                        "passed_time": 42.39163058,
                        "remaining_time": 25.76211633
                      },
                      {
                        "learn": [
                          0.001571948326
                        ],
                        "iteration": 622,
                        "passed_time": 42.47815974,
                        "remaining_time": 25.70508222
                      },
                      {
                        "learn": [
                          0.001566252987
                        ],
                        "iteration": 623,
                        "passed_time": 42.54976907,
                        "remaining_time": 25.63896341
                      },
                      {
                        "learn": [
                          0.001565924551
                        ],
                        "iteration": 624,
                        "passed_time": 42.61187438,
                        "remaining_time": 25.56712463
                      },
                      {
                        "learn": [
                          0.001562769303
                        ],
                        "iteration": 625,
                        "passed_time": 42.68279843,
                        "remaining_time": 25.50058565
                      },
                      {
                        "learn": [
                          0.001554887537
                        ],
                        "iteration": 626,
                        "passed_time": 42.75527133,
                        "remaining_time": 25.43495408
                      },
                      {
                        "learn": [
                          0.001550587571
                        ],
                        "iteration": 627,
                        "passed_time": 42.82024856,
                        "remaining_time": 25.36486061
                      },
                      {
                        "learn": [
                          0.001549974855
                        ],
                        "iteration": 628,
                        "passed_time": 42.87781827,
                        "remaining_time": 25.29041427
                      },
                      {
                        "learn": [
                          0.001547778364
                        ],
                        "iteration": 629,
                        "passed_time": 42.9436625,
                        "remaining_time": 25.22088115
                      },
                      {
                        "learn": [
                          0.00154742029
                        ],
                        "iteration": 630,
                        "passed_time": 43.00847874,
                        "remaining_time": 25.15075856
                      },
                      {
                        "learn": [
                          0.00154373425
                        ],
                        "iteration": 631,
                        "passed_time": 43.07801715,
                        "remaining_time": 25.08340239
                      },
                      {
                        "learn": [
                          0.001542370961
                        ],
                        "iteration": 632,
                        "passed_time": 43.14263218,
                        "remaining_time": 25.01318485
                      },
                      {
                        "learn": [
                          0.001540185818
                        ],
                        "iteration": 633,
                        "passed_time": 43.21600576,
                        "remaining_time": 24.94804118
                      },
                      {
                        "learn": [
                          0.001538983095
                        ],
                        "iteration": 634,
                        "passed_time": 43.30594701,
                        "remaining_time": 24.89239474
                      },
                      {
                        "learn": [
                          0.001531454886
                        ],
                        "iteration": 635,
                        "passed_time": 43.37762839,
                        "remaining_time": 24.82618983
                      },
                      {
                        "learn": [
                          0.00152612047
                        ],
                        "iteration": 636,
                        "passed_time": 43.45088876,
                        "remaining_time": 24.76086753
                      },
                      {
                        "learn": [
                          0.001523192254
                        ],
                        "iteration": 637,
                        "passed_time": 43.52176392,
                        "remaining_time": 24.69416699
                      },
                      {
                        "learn": [
                          0.001522360672
                        ],
                        "iteration": 638,
                        "passed_time": 43.58531055,
                        "remaining_time": 24.62331316
                      },
                      {
                        "learn": [
                          0.001521522198
                        ],
                        "iteration": 639,
                        "passed_time": 43.64984396,
                        "remaining_time": 24.55303723
                      },
                      {
                        "learn": [
                          0.001519575897
                        ],
                        "iteration": 640,
                        "passed_time": 43.7196464,
                        "remaining_time": 24.4857302
                      },
                      {
                        "learn": [
                          0.001514172818
                        ],
                        "iteration": 641,
                        "passed_time": 43.78428449,
                        "remaining_time": 24.41553559
                      },
                      {
                        "learn": [
                          0.001513051208
                        ],
                        "iteration": 642,
                        "passed_time": 43.85158254,
                        "remaining_time": 24.3468351
                      },
                      {
                        "learn": [
                          0.001511348704
                        ],
                        "iteration": 643,
                        "passed_time": 43.91844839,
                        "remaining_time": 24.27790004
                      },
                      {
                        "learn": [
                          0.001509130998
                        ],
                        "iteration": 644,
                        "passed_time": 43.98921617,
                        "remaining_time": 24.21111898
                      },
                      {
                        "learn": [
                          0.001507760398
                        ],
                        "iteration": 645,
                        "passed_time": 44.0520761,
                        "remaining_time": 24.13999216
                      },
                      {
                        "learn": [
                          0.001506745347
                        ],
                        "iteration": 646,
                        "passed_time": 44.1222337,
                        "remaining_time": 24.07287248
                      },
                      {
                        "learn": [
                          0.001503851932
                        ],
                        "iteration": 647,
                        "passed_time": 44.18878249,
                        "remaining_time": 24.00378308
                      },
                      {
                        "learn": [
                          0.001503117371
                        ],
                        "iteration": 648,
                        "passed_time": 44.27335613,
                        "remaining_time": 23.94444993
                      },
                      {
                        "learn": [
                          0.001502080663
                        ],
                        "iteration": 649,
                        "passed_time": 44.34449793,
                        "remaining_time": 23.87780658
                      },
                      {
                        "learn": [
                          0.001499581308
                        ],
                        "iteration": 650,
                        "passed_time": 44.41084068,
                        "remaining_time": 23.80857665
                      },
                      {
                        "learn": [
                          0.00149764514
                        ],
                        "iteration": 651,
                        "passed_time": 44.48501111,
                        "remaining_time": 23.74353354
                      },
                      {
                        "learn": [
                          0.001494996275
                        ],
                        "iteration": 652,
                        "passed_time": 44.55027297,
                        "remaining_time": 23.67372852
                      },
                      {
                        "learn": [
                          0.001492989622
                        ],
                        "iteration": 653,
                        "passed_time": 44.61357539,
                        "remaining_time": 23.60290074
                      },
                      {
                        "learn": [
                          0.001491546729
                        ],
                        "iteration": 654,
                        "passed_time": 44.68351486,
                        "remaining_time": 23.5355918
                      },
                      {
                        "learn": [
                          0.001487405522
                        ],
                        "iteration": 655,
                        "passed_time": 44.75053897,
                        "remaining_time": 23.46674605
                      },
                      {
                        "learn": [
                          0.001483988729
                        ],
                        "iteration": 656,
                        "passed_time": 44.82160848,
                        "remaining_time": 23.40001782
                      },
                      {
                        "learn": [
                          0.001481371441
                        ],
                        "iteration": 657,
                        "passed_time": 44.88833529,
                        "remaining_time": 23.33101926
                      },
                      {
                        "learn": [
                          0.001480247189
                        ],
                        "iteration": 658,
                        "passed_time": 44.95610684,
                        "remaining_time": 23.26256818
                      },
                      {
                        "learn": [
                          0.001478802873
                        ],
                        "iteration": 659,
                        "passed_time": 45.02903294,
                        "remaining_time": 23.19677454
                      },
                      {
                        "learn": [
                          0.00147557269
                        ],
                        "iteration": 660,
                        "passed_time": 45.10049389,
                        "remaining_time": 23.13020791
                      },
                      {
                        "learn": [
                          0.001473157302
                        ],
                        "iteration": 661,
                        "passed_time": 45.16972987,
                        "remaining_time": 23.06249048
                      },
                      {
                        "learn": [
                          0.001470962656
                        ],
                        "iteration": 662,
                        "passed_time": 45.23654922,
                        "remaining_time": 22.9935401
                      },
                      {
                        "learn": [
                          0.001466565864
                        ],
                        "iteration": 663,
                        "passed_time": 45.3328963,
                        "remaining_time": 22.93953789
                      },
                      {
                        "learn": [
                          0.001465831614
                        ],
                        "iteration": 664,
                        "passed_time": 45.40860329,
                        "remaining_time": 22.87501068
                      },
                      {
                        "learn": [
                          0.001462352558
                        ],
                        "iteration": 665,
                        "passed_time": 45.48577862,
                        "remaining_time": 22.81118628
                      },
                      {
                        "learn": [
                          0.001461717889
                        ],
                        "iteration": 666,
                        "passed_time": 45.55075156,
                        "remaining_time": 22.74122979
                      },
                      {
                        "learn": [
                          0.00146050633
                        ],
                        "iteration": 667,
                        "passed_time": 45.61784565,
                        "remaining_time": 22.67234245
                      },
                      {
                        "learn": [
                          0.001457182781
                        ],
                        "iteration": 668,
                        "passed_time": 45.69170236,
                        "remaining_time": 22.6068064
                      },
                      {
                        "learn": [
                          0.001451058631
                        ],
                        "iteration": 669,
                        "passed_time": 45.75927859,
                        "remaining_time": 22.53815214
                      },
                      {
                        "learn": [
                          0.00144657574
                        ],
                        "iteration": 670,
                        "passed_time": 45.83115212,
                        "remaining_time": 22.47160812
                      },
                      {
                        "learn": [
                          0.001446012139
                        ],
                        "iteration": 671,
                        "passed_time": 45.89101422,
                        "remaining_time": 22.39918551
                      },
                      {
                        "learn": [
                          0.001445173135
                        ],
                        "iteration": 672,
                        "passed_time": 45.95333562,
                        "remaining_time": 22.32799517
                      },
                      {
                        "learn": [
                          0.001444612094
                        ],
                        "iteration": 673,
                        "passed_time": 46.01764883,
                        "remaining_time": 22.25779454
                      },
                      {
                        "learn": [
                          0.001442457275
                        ],
                        "iteration": 674,
                        "passed_time": 46.08659309,
                        "remaining_time": 22.18984112
                      },
                      {
                        "learn": [
                          0.001439589761
                        ],
                        "iteration": 675,
                        "passed_time": 46.15801416,
                        "remaining_time": 22.12307187
                      },
                      {
                        "learn": [
                          0.001435839333
                        ],
                        "iteration": 676,
                        "passed_time": 46.23395007,
                        "remaining_time": 22.05844294
                      },
                      {
                        "learn": [
                          0.001434228602
                        ],
                        "iteration": 677,
                        "passed_time": 46.31864305,
                        "remaining_time": 21.99793962
                      },
                      {
                        "learn": [
                          0.001432036885
                        ],
                        "iteration": 678,
                        "passed_time": 46.39383074,
                        "remaining_time": 21.93287138
                      },
                      {
                        "learn": [
                          0.001431416149
                        ],
                        "iteration": 679,
                        "passed_time": 46.45502021,
                        "remaining_time": 21.86118598
                      },
                      {
                        "learn": [
                          0.001429644203
                        ],
                        "iteration": 680,
                        "passed_time": 46.54031975,
                        "remaining_time": 21.80082526
                      },
                      {
                        "learn": [
                          0.001427202901
                        ],
                        "iteration": 681,
                        "passed_time": 46.60757917,
                        "remaining_time": 21.73197973
                      },
                      {
                        "learn": [
                          0.001424196443
                        ],
                        "iteration": 682,
                        "passed_time": 46.67409621,
                        "remaining_time": 21.66279429
                      },
                      {
                        "learn": [
                          0.001421068357
                        ],
                        "iteration": 683,
                        "passed_time": 46.74167192,
                        "remaining_time": 21.59410574
                      },
                      {
                        "learn": [
                          0.001416536086
                        ],
                        "iteration": 684,
                        "passed_time": 46.8181725,
                        "remaining_time": 21.52952458
                      },
                      {
                        "learn": [
                          0.001415045097
                        ],
                        "iteration": 685,
                        "passed_time": 46.88307677,
                        "remaining_time": 21.45960074
                      },
                      {
                        "learn": [
                          0.001414306495
                        ],
                        "iteration": 686,
                        "passed_time": 46.94539442,
                        "remaining_time": 21.38851303
                      },
                      {
                        "learn": [
                          0.001413744677
                        ],
                        "iteration": 687,
                        "passed_time": 47.00847268,
                        "remaining_time": 21.31779575
                      },
                      {
                        "learn": [
                          0.001412590434
                        ],
                        "iteration": 688,
                        "passed_time": 47.07687605,
                        "remaining_time": 21.24950428
                      },
                      {
                        "learn": [
                          0.001412424033
                        ],
                        "iteration": 689,
                        "passed_time": 47.13646653,
                        "remaining_time": 21.17725308
                      },
                      {
                        "learn": [
                          0.001410540326
                        ],
                        "iteration": 690,
                        "passed_time": 47.206242,
                        "remaining_time": 21.10959302
                      },
                      {
                        "learn": [
                          0.001407955939
                        ],
                        "iteration": 691,
                        "passed_time": 47.27702709,
                        "remaining_time": 21.04237622
                      },
                      {
                        "learn": [
                          0.00140792852
                        ],
                        "iteration": 692,
                        "passed_time": 47.34737933,
                        "remaining_time": 20.97495737
                      },
                      {
                        "learn": [
                          0.001406484261
                        ],
                        "iteration": 693,
                        "passed_time": 47.42380151,
                        "remaining_time": 20.91020643
                      },
                      {
                        "learn": [
                          0.001404542075
                        ],
                        "iteration": 694,
                        "passed_time": 47.48887242,
                        "remaining_time": 20.84044042
                      },
                      {
                        "learn": [
                          0.001403638397
                        ],
                        "iteration": 695,
                        "passed_time": 47.55899548,
                        "remaining_time": 20.77289458
                      },
                      {
                        "learn": [
                          0.001403202017
                        ],
                        "iteration": 696,
                        "passed_time": 47.62013409,
                        "remaining_time": 20.70143562
                      },
                      {
                        "learn": [
                          0.001403174843
                        ],
                        "iteration": 697,
                        "passed_time": 47.68183799,
                        "remaining_time": 20.63025082
                      },
                      {
                        "learn": [
                          0.001401490698
                        ],
                        "iteration": 698,
                        "passed_time": 47.75194486,
                        "remaining_time": 20.56271159
                      },
                      {
                        "learn": [
                          0.001399759709
                        ],
                        "iteration": 699,
                        "passed_time": 47.81718508,
                        "remaining_time": 20.49307932
                      },
                      {
                        "learn": [
                          0.001397418267
                        ],
                        "iteration": 700,
                        "passed_time": 47.88599469,
                        "remaining_time": 20.42498204
                      },
                      {
                        "learn": [
                          0.001392909583
                        ],
                        "iteration": 701,
                        "passed_time": 47.95520096,
                        "remaining_time": 20.35705112
                      },
                      {
                        "learn": [
                          0.001392723012
                        ],
                        "iteration": 702,
                        "passed_time": 48.01052213,
                        "remaining_time": 20.28325046
                      },
                      {
                        "learn": [
                          0.001392203357
                        ],
                        "iteration": 703,
                        "passed_time": 48.07535734,
                        "remaining_time": 20.21350252
                      },
                      {
                        "learn": [
                          0.001391773059
                        ],
                        "iteration": 704,
                        "passed_time": 48.13880561,
                        "remaining_time": 20.14318816
                      },
                      {
                        "learn": [
                          0.001390448728
                        ],
                        "iteration": 705,
                        "passed_time": 48.20437957,
                        "remaining_time": 20.07377846
                      },
                      {
                        "learn": [
                          0.001389763953
                        ],
                        "iteration": 706,
                        "passed_time": 48.26762101,
                        "remaining_time": 20.00341295
                      },
                      {
                        "learn": [
                          0.001388139654
                        ],
                        "iteration": 707,
                        "passed_time": 48.33159412,
                        "remaining_time": 19.93336933
                      },
                      {
                        "learn": [
                          0.001386182046
                        ],
                        "iteration": 708,
                        "passed_time": 48.42056017,
                        "remaining_time": 19.87360086
                      },
                      {
                        "learn": [
                          0.001384560613
                        ],
                        "iteration": 709,
                        "passed_time": 48.48553808,
                        "remaining_time": 19.80395217
                      },
                      {
                        "learn": [
                          0.001381329707
                        ],
                        "iteration": 710,
                        "passed_time": 48.56130397,
                        "remaining_time": 19.73870161
                      },
                      {
                        "learn": [
                          0.001380320141
                        ],
                        "iteration": 711,
                        "passed_time": 48.63263401,
                        "remaining_time": 19.67162724
                      },
                      {
                        "learn": [
                          0.001379352728
                        ],
                        "iteration": 712,
                        "passed_time": 48.69838954,
                        "remaining_time": 19.60229705
                      },
                      {
                        "learn": [
                          0.001373810533
                        ],
                        "iteration": 713,
                        "passed_time": 48.76593482,
                        "remaining_time": 19.53369378
                      },
                      {
                        "learn": [
                          0.001372615551
                        ],
                        "iteration": 714,
                        "passed_time": 48.83767342,
                        "remaining_time": 19.46676493
                      },
                      {
                        "learn": [
                          0.001370518941
                        ],
                        "iteration": 715,
                        "passed_time": 48.90724226,
                        "remaining_time": 19.39896202
                      },
                      {
                        "learn": [
                          0.001369236283
                        ],
                        "iteration": 716,
                        "passed_time": 48.97385894,
                        "remaining_time": 19.32998895
                      },
                      {
                        "learn": [
                          0.00136878143
                        ],
                        "iteration": 717,
                        "passed_time": 49.03511746,
                        "remaining_time": 19.258918
                      },
                      {
                        "learn": [
                          0.001367351434
                        ],
                        "iteration": 718,
                        "passed_time": 49.11736111,
                        "remaining_time": 19.19607576
                      },
                      {
                        "learn": [
                          0.001360316462
                        ],
                        "iteration": 719,
                        "passed_time": 49.18802583,
                        "remaining_time": 19.12867671
                      },
                      {
                        "learn": [
                          0.001357247975
                        ],
                        "iteration": 720,
                        "passed_time": 49.25866719,
                        "remaining_time": 19.06125956
                      },
                      {
                        "learn": [
                          0.00135665895
                        ],
                        "iteration": 721,
                        "passed_time": 49.32423516,
                        "remaining_time": 18.99188002
                      },
                      {
                        "learn": [
                          0.001353213193
                        ],
                        "iteration": 722,
                        "passed_time": 49.41555224,
                        "remaining_time": 18.93237617
                      },
                      {
                        "learn": [
                          0.001351695174
                        ],
                        "iteration": 723,
                        "passed_time": 49.48058403,
                        "remaining_time": 18.86276408
                      },
                      {
                        "learn": [
                          0.001350966018
                        ],
                        "iteration": 724,
                        "passed_time": 49.55314097,
                        "remaining_time": 18.79601899
                      },
                      {
                        "learn": [
                          0.001347013936
                        ],
                        "iteration": 725,
                        "passed_time": 49.62595678,
                        "remaining_time": 18.72935559
                      },
                      {
                        "learn": [
                          0.001345065
                        ],
                        "iteration": 726,
                        "passed_time": 49.69264807,
                        "remaining_time": 18.66037541
                      },
                      {
                        "learn": [
                          0.001343845794
                        ],
                        "iteration": 727,
                        "passed_time": 49.75940739,
                        "remaining_time": 18.59142694
                      },
                      {
                        "learn": [
                          0.00134123543
                        ],
                        "iteration": 728,
                        "passed_time": 49.83375672,
                        "remaining_time": 18.525306
                      },
                      {
                        "learn": [
                          0.001340258053
                        ],
                        "iteration": 729,
                        "passed_time": 49.89630318,
                        "remaining_time": 18.45479707
                      },
                      {
                        "learn": [
                          0.00133819784
                        ],
                        "iteration": 730,
                        "passed_time": 49.96403686,
                        "remaining_time": 18.38621876
                      },
                      {
                        "learn": [
                          0.001334554946
                        ],
                        "iteration": 731,
                        "passed_time": 50.03491761,
                        "remaining_time": 18.31879497
                      },
                      {
                        "learn": [
                          0.001333457159
                        ],
                        "iteration": 732,
                        "passed_time": 50.10253918,
                        "remaining_time": 18.25017457
                      },
                      {
                        "learn": [
                          0.001330609809
                        ],
                        "iteration": 733,
                        "passed_time": 50.17456281,
                        "remaining_time": 18.18315219
                      },
                      {
                        "learn": [
                          0.001328859829
                        ],
                        "iteration": 734,
                        "passed_time": 50.24336751,
                        "remaining_time": 18.11495563
                      },
                      {
                        "learn": [
                          0.001327499266
                        ],
                        "iteration": 735,
                        "passed_time": 50.30570269,
                        "remaining_time": 18.04443684
                      },
                      {
                        "learn": [
                          0.001326731429
                        ],
                        "iteration": 736,
                        "passed_time": 50.36653549,
                        "remaining_time": 17.97340412
                      },
                      {
                        "learn": [
                          0.0013260564
                        ],
                        "iteration": 737,
                        "passed_time": 50.46064721,
                        "remaining_time": 17.91421351
                      },
                      {
                        "learn": [
                          0.001323931039
                        ],
                        "iteration": 738,
                        "passed_time": 50.5265064,
                        "remaining_time": 17.84495016
                      },
                      {
                        "learn": [
                          0.001323099228
                        ],
                        "iteration": 739,
                        "passed_time": 50.59453424,
                        "remaining_time": 17.77645798
                      },
                      {
                        "learn": [
                          0.001320239428
                        ],
                        "iteration": 740,
                        "passed_time": 50.6611258,
                        "remaining_time": 17.70746502
                      },
                      {
                        "learn": [
                          0.001317539894
                        ],
                        "iteration": 741,
                        "passed_time": 50.729394,
                        "remaining_time": 17.63906152
                      },
                      {
                        "learn": [
                          0.001315869826
                        ],
                        "iteration": 742,
                        "passed_time": 50.79883105,
                        "remaining_time": 17.57106269
                      },
                      {
                        "learn": [
                          0.001312177966
                        ],
                        "iteration": 743,
                        "passed_time": 50.86752586,
                        "remaining_time": 17.5028046
                      },
                      {
                        "learn": [
                          0.001309371292
                        ],
                        "iteration": 744,
                        "passed_time": 50.93781715,
                        "remaining_time": 17.43509177
                      },
                      {
                        "learn": [
                          0.001309344986
                        ],
                        "iteration": 745,
                        "passed_time": 50.99882883,
                        "remaining_time": 17.3642125
                      },
                      {
                        "learn": [
                          0.00130599763
                        ],
                        "iteration": 746,
                        "passed_time": 51.06842448,
                        "remaining_time": 17.29626693
                      },
                      {
                        "learn": [
                          0.001304618967
                        ],
                        "iteration": 747,
                        "passed_time": 51.13624905,
                        "remaining_time": 17.22772027
                      },
                      {
                        "learn": [
                          0.001303485162
                        ],
                        "iteration": 748,
                        "passed_time": 51.20313605,
                        "remaining_time": 17.15886135
                      },
                      {
                        "learn": [
                          0.001302123042
                        ],
                        "iteration": 749,
                        "passed_time": 51.26830961,
                        "remaining_time": 17.08943654
                      },
                      {
                        "learn": [
                          0.001300099034
                        ],
                        "iteration": 750,
                        "passed_time": 51.33698443,
                        "remaining_time": 17.02118392
                      },
                      {
                        "learn": [
                          0.001298630763
                        ],
                        "iteration": 751,
                        "passed_time": 51.41810546,
                        "remaining_time": 16.95703478
                      },
                      {
                        "learn": [
                          0.001296006114
                        ],
                        "iteration": 752,
                        "passed_time": 51.49042642,
                        "remaining_time": 16.88995395
                      },
                      {
                        "learn": [
                          0.001294702353
                        ],
                        "iteration": 753,
                        "passed_time": 51.56748819,
                        "remaining_time": 16.82440596
                      },
                      {
                        "learn": [
                          0.001293404327
                        ],
                        "iteration": 754,
                        "passed_time": 51.638512,
                        "remaining_time": 16.75686813
                      },
                      {
                        "learn": [
                          0.00129006994
                        ],
                        "iteration": 755,
                        "passed_time": 51.70604096,
                        "remaining_time": 16.68819312
                      },
                      {
                        "learn": [
                          0.001289119758
                        ],
                        "iteration": 756,
                        "passed_time": 51.76791897,
                        "remaining_time": 16.61770715
                      },
                      {
                        "learn": [
                          0.001288159859
                        ],
                        "iteration": 757,
                        "passed_time": 51.83452325,
                        "remaining_time": 16.5487528
                      },
                      {
                        "learn": [
                          0.001285816576
                        ],
                        "iteration": 758,
                        "passed_time": 51.91054155,
                        "remaining_time": 16.48279383
                      },
                      {
                        "learn": [
                          0.001284605672
                        ],
                        "iteration": 759,
                        "passed_time": 51.98012549,
                        "remaining_time": 16.41477647
                      },
                      {
                        "learn": [
                          0.001282514244
                        ],
                        "iteration": 760,
                        "passed_time": 52.0526535,
                        "remaining_time": 16.34767961
                      },
                      {
                        "learn": [
                          0.001281443909
                        ],
                        "iteration": 761,
                        "passed_time": 52.12500612,
                        "remaining_time": 16.28051372
                      },
                      {
                        "learn": [
                          0.001278592542
                        ],
                        "iteration": 762,
                        "passed_time": 52.19980311,
                        "remaining_time": 16.2140935
                      },
                      {
                        "learn": [
                          0.001274484825
                        ],
                        "iteration": 763,
                        "passed_time": 52.27240239,
                        "remaining_time": 16.14697247
                      },
                      {
                        "learn": [
                          0.00127173461
                        ],
                        "iteration": 764,
                        "passed_time": 52.33973948,
                        "remaining_time": 16.07822062
                      },
                      {
                        "learn": [
                          0.001268620599
                        ],
                        "iteration": 765,
                        "passed_time": 52.40974597,
                        "remaining_time": 16.01028793
                      },
                      {
                        "learn": [
                          0.001267707381
                        ],
                        "iteration": 766,
                        "passed_time": 52.50166866,
                        "remaining_time": 15.94900756
                      },
                      {
                        "learn": [
                          0.001267223984
                        ],
                        "iteration": 767,
                        "passed_time": 52.58177801,
                        "remaining_time": 15.88407878
                      },
                      {
                        "learn": [
                          0.001266873199
                        ],
                        "iteration": 768,
                        "passed_time": 52.64584629,
                        "remaining_time": 15.81429193
                      },
                      {
                        "learn": [
                          0.001264668798
                        ],
                        "iteration": 769,
                        "passed_time": 52.71284321,
                        "remaining_time": 15.74539472
                      },
                      {
                        "learn": [
                          0.001263154159
                        ],
                        "iteration": 770,
                        "passed_time": 52.77907925,
                        "remaining_time": 15.67627646
                      },
                      {
                        "learn": [
                          0.001262670401
                        ],
                        "iteration": 771,
                        "passed_time": 52.85122939,
                        "remaining_time": 15.60891231
                      },
                      {
                        "learn": [
                          0.001260536679
                        ],
                        "iteration": 772,
                        "passed_time": 52.9263143,
                        "remaining_time": 15.5423976
                      },
                      {
                        "learn": [
                          0.001257620455
                        ],
                        "iteration": 773,
                        "passed_time": 52.9901383,
                        "remaining_time": 15.47257268
                      },
                      {
                        "learn": [
                          0.001252268137
                        ],
                        "iteration": 774,
                        "passed_time": 53.06542142,
                        "remaining_time": 15.40609009
                      },
                      {
                        "learn": [
                          0.00125085469
                        ],
                        "iteration": 775,
                        "passed_time": 53.13392502,
                        "remaining_time": 15.33762784
                      },
                      {
                        "learn": [
                          0.001248888327
                        ],
                        "iteration": 776,
                        "passed_time": 53.20304013,
                        "remaining_time": 15.26934099
                      },
                      {
                        "learn": [
                          0.001247626013
                        ],
                        "iteration": 777,
                        "passed_time": 53.27575638,
                        "remaining_time": 15.20207958
                      },
                      {
                        "learn": [
                          0.001242517442
                        ],
                        "iteration": 778,
                        "passed_time": 53.34353836,
                        "remaining_time": 15.13340434
                      },
                      {
                        "learn": [
                          0.001241732989
                        ],
                        "iteration": 779,
                        "passed_time": 53.4095174,
                        "remaining_time": 15.06422286
                      },
                      {
                        "learn": [
                          0.001239106102
                        ],
                        "iteration": 780,
                        "passed_time": 53.51343259,
                        "remaining_time": 15.00568724
                      },
                      {
                        "learn": [
                          0.001238347171
                        ],
                        "iteration": 781,
                        "passed_time": 53.58488734,
                        "remaining_time": 14.9379865
                      },
                      {
                        "learn": [
                          0.00123413708
                        ],
                        "iteration": 782,
                        "passed_time": 53.65708822,
                        "remaining_time": 14.87048294
                      },
                      {
                        "learn": [
                          0.001232418154
                        ],
                        "iteration": 783,
                        "passed_time": 53.72963641,
                        "remaining_time": 14.80306309
                      },
                      {
                        "learn": [
                          0.001228469131
                        ],
                        "iteration": 784,
                        "passed_time": 53.80275721,
                        "remaining_time": 14.73578701
                      },
                      {
                        "learn": [
                          0.001226809734
                        ],
                        "iteration": 785,
                        "passed_time": 53.87094337,
                        "remaining_time": 14.66715252
                      },
                      {
                        "learn": [
                          0.001224265298
                        ],
                        "iteration": 786,
                        "passed_time": 53.94353684,
                        "remaining_time": 14.599712
                      },
                      {
                        "learn": [
                          0.001223428596
                        ],
                        "iteration": 787,
                        "passed_time": 54.01401663,
                        "remaining_time": 14.53168975
                      },
                      {
                        "learn": [
                          0.001221438196
                        ],
                        "iteration": 788,
                        "passed_time": 54.08699658,
                        "remaining_time": 14.46432988
                      },
                      {
                        "learn": [
                          0.001220262327
                        ],
                        "iteration": 789,
                        "passed_time": 54.16281379,
                        "remaining_time": 14.39770999
                      },
                      {
                        "learn": [
                          0.001218589597
                        ],
                        "iteration": 790,
                        "passed_time": 54.2303469,
                        "remaining_time": 14.328878
                      },
                      {
                        "learn": [
                          0.001217367626
                        ],
                        "iteration": 791,
                        "passed_time": 54.29592341,
                        "remaining_time": 14.25953544
                      },
                      {
                        "learn": [
                          0.001212990527
                        ],
                        "iteration": 792,
                        "passed_time": 54.36225293,
                        "remaining_time": 14.19039894
                      },
                      {
                        "learn": [
                          0.00121099683
                        ],
                        "iteration": 793,
                        "passed_time": 54.42971377,
                        "remaining_time": 14.12156302
                      },
                      {
                        "learn": [
                          0.001209282337
                        ],
                        "iteration": 794,
                        "passed_time": 54.52244188,
                        "remaining_time": 14.05924602
                      },
                      {
                        "learn": [
                          0.001208181253
                        ],
                        "iteration": 795,
                        "passed_time": 54.59030894,
                        "remaining_time": 13.99048118
                      },
                      {
                        "learn": [
                          0.001208024391
                        ],
                        "iteration": 796,
                        "passed_time": 54.65395128,
                        "remaining_time": 13.92064255
                      },
                      {
                        "learn": [
                          0.001205323115
                        ],
                        "iteration": 797,
                        "passed_time": 54.72214439,
                        "remaining_time": 13.85197139
                      },
                      {
                        "learn": [
                          0.001205201702
                        ],
                        "iteration": 798,
                        "passed_time": 54.78515965,
                        "remaining_time": 13.78199886
                      },
                      {
                        "learn": [
                          0.001203092618
                        ],
                        "iteration": 799,
                        "passed_time": 54.85328071,
                        "remaining_time": 13.71332018
                      },
                      {
                        "learn": [
                          0.00119524226
                        ],
                        "iteration": 800,
                        "passed_time": 54.92760558,
                        "remaining_time": 13.64618416
                      },
                      {
                        "learn": [
                          0.001193443163
                        ],
                        "iteration": 801,
                        "passed_time": 54.99805126,
                        "remaining_time": 13.57807251
                      },
                      {
                        "learn": [
                          0.001190567137
                        ],
                        "iteration": 802,
                        "passed_time": 55.06604059,
                        "remaining_time": 13.50935242
                      },
                      {
                        "learn": [
                          0.001188948931
                        ],
                        "iteration": 803,
                        "passed_time": 55.13298548,
                        "remaining_time": 13.44037955
                      },
                      {
                        "learn": [
                          0.001187355375
                        ],
                        "iteration": 804,
                        "passed_time": 55.19883396,
                        "remaining_time": 13.37114612
                      },
                      {
                        "learn": [
                          0.001185856329
                        ],
                        "iteration": 805,
                        "passed_time": 55.26327676,
                        "remaining_time": 13.30158274
                      },
                      {
                        "learn": [
                          0.001184403833
                        ],
                        "iteration": 806,
                        "passed_time": 55.3318495,
                        "remaining_time": 13.23301977
                      },
                      {
                        "learn": [
                          0.001183594875
                        ],
                        "iteration": 807,
                        "passed_time": 55.40169143,
                        "remaining_time": 13.16475836
                      },
                      {
                        "learn": [
                          0.00118128142
                        ],
                        "iteration": 808,
                        "passed_time": 55.46992537,
                        "remaining_time": 13.09611341
                      },
                      {
                        "learn": [
                          0.001177115272
                        ],
                        "iteration": 809,
                        "passed_time": 55.56421226,
                        "remaining_time": 13.03358065
                      },
                      {
                        "learn": [
                          0.001176980189
                        ],
                        "iteration": 810,
                        "passed_time": 55.63186383,
                        "remaining_time": 12.96476235
                      },
                      {
                        "learn": [
                          0.00117564163
                        ],
                        "iteration": 811,
                        "passed_time": 55.69449653,
                        "remaining_time": 12.89478491
                      },
                      {
                        "learn": [
                          0.001174794724
                        ],
                        "iteration": 812,
                        "passed_time": 55.76028715,
                        "remaining_time": 12.8255519
                      },
                      {
                        "learn": [
                          0.001170184425
                        ],
                        "iteration": 813,
                        "passed_time": 55.83294744,
                        "remaining_time": 12.75789708
                      },
                      {
                        "learn": [
                          0.001169656447
                        ],
                        "iteration": 814,
                        "passed_time": 55.90041125,
                        "remaining_time": 12.68905041
                      },
                      {
                        "learn": [
                          0.001167817765
                        ],
                        "iteration": 815,
                        "passed_time": 55.96914136,
                        "remaining_time": 12.62049266
                      },
                      {
                        "learn": [
                          0.001167626709
                        ],
                        "iteration": 816,
                        "passed_time": 56.03031208,
                        "remaining_time": 12.55024126
                      },
                      {
                        "learn": [
                          0.001166959857
                        ],
                        "iteration": 817,
                        "passed_time": 56.09338125,
                        "remaining_time": 12.48043446
                      },
                      {
                        "learn": [
                          0.001165780501
                        ],
                        "iteration": 818,
                        "passed_time": 56.15672379,
                        "remaining_time": 12.41070452
                      },
                      {
                        "learn": [
                          0.00116411368
                        ],
                        "iteration": 819,
                        "passed_time": 56.22599588,
                        "remaining_time": 12.34229178
                      },
                      {
                        "learn": [
                          0.001161519346
                        ],
                        "iteration": 820,
                        "passed_time": 56.299297,
                        "remaining_time": 12.27475537
                      },
                      {
                        "learn": [
                          0.001160268787
                        ],
                        "iteration": 821,
                        "passed_time": 56.36410524,
                        "remaining_time": 12.20536586
                      },
                      {
                        "learn": [
                          0.001159246951
                        ],
                        "iteration": 822,
                        "passed_time": 56.43078353,
                        "remaining_time": 12.13638965
                      },
                      {
                        "learn": [
                          0.001156095367
                        ],
                        "iteration": 823,
                        "passed_time": 56.50006459,
                        "remaining_time": 12.06797496
                      },
                      {
                        "learn": [
                          0.00115484831
                        ],
                        "iteration": 824,
                        "passed_time": 56.59638374,
                        "remaining_time": 12.00529352
                      },
                      {
                        "learn": [
                          0.001153855516
                        ],
                        "iteration": 825,
                        "passed_time": 56.67173804,
                        "remaining_time": 11.93811431
                      },
                      {
                        "learn": [
                          0.001153080236
                        ],
                        "iteration": 826,
                        "passed_time": 56.74148128,
                        "remaining_time": 11.86974155
                      },
                      {
                        "learn": [
                          0.001152125758
                        ],
                        "iteration": 827,
                        "passed_time": 56.8213388,
                        "remaining_time": 11.80346651
                      },
                      {
                        "learn": [
                          0.001149600866
                        ],
                        "iteration": 828,
                        "passed_time": 56.89251108,
                        "remaining_time": 11.73536718
                      },
                      {
                        "learn": [
                          0.001148064056
                        ],
                        "iteration": 829,
                        "passed_time": 56.96076239,
                        "remaining_time": 11.66666218
                      },
                      {
                        "learn": [
                          0.001145413049
                        ],
                        "iteration": 830,
                        "passed_time": 57.03884233,
                        "remaining_time": 11.59995711
                      },
                      {
                        "learn": [
                          0.001143087326
                        ],
                        "iteration": 831,
                        "passed_time": 57.11230784,
                        "remaining_time": 11.53229293
                      },
                      {
                        "learn": [
                          0.001142740475
                        ],
                        "iteration": 832,
                        "passed_time": 57.18076526,
                        "remaining_time": 11.4636108
                      },
                      {
                        "learn": [
                          0.001141013818
                        ],
                        "iteration": 833,
                        "passed_time": 57.24904222,
                        "remaining_time": 11.3948933
                      },
                      {
                        "learn": [
                          0.00114079064
                        ],
                        "iteration": 834,
                        "passed_time": 57.31970915,
                        "remaining_time": 11.32664911
                      },
                      {
                        "learn": [
                          0.001138212186
                        ],
                        "iteration": 835,
                        "passed_time": 57.38329082,
                        "remaining_time": 11.2570092
                      },
                      {
                        "learn": [
                          0.001135464598
                        ],
                        "iteration": 836,
                        "passed_time": 57.45464394,
                        "remaining_time": 11.18889721
                      },
                      {
                        "learn": [
                          0.001134331961
                        ],
                        "iteration": 837,
                        "passed_time": 57.52050184,
                        "remaining_time": 11.11971515
                      },
                      {
                        "learn": [
                          0.00112898453
                        ],
                        "iteration": 838,
                        "passed_time": 57.62193397,
                        "remaining_time": 11.05736754
                      },
                      {
                        "learn": [
                          0.001128353527
                        ],
                        "iteration": 839,
                        "passed_time": 57.69519054,
                        "remaining_time": 10.9895601
                      },
                      {
                        "learn": [
                          0.001128218437
                        ],
                        "iteration": 840,
                        "passed_time": 57.75306484,
                        "remaining_time": 10.91883152
                      },
                      {
                        "learn": [
                          0.001127348171
                        ],
                        "iteration": 841,
                        "passed_time": 57.81883618,
                        "remaining_time": 10.84961534
                      },
                      {
                        "learn": [
                          0.001125729359
                        ],
                        "iteration": 842,
                        "passed_time": 57.88341411,
                        "remaining_time": 10.78018507
                      },
                      {
                        "learn": [
                          0.001122172004
                        ],
                        "iteration": 843,
                        "passed_time": 57.95597441,
                        "remaining_time": 10.71224172
                      },
                      {
                        "learn": [
                          0.001120043214
                        ],
                        "iteration": 844,
                        "passed_time": 58.02252393,
                        "remaining_time": 10.64318486
                      },
                      {
                        "learn": [
                          0.001119603276
                        ],
                        "iteration": 845,
                        "passed_time": 58.08545917,
                        "remaining_time": 10.57347602
                      },
                      {
                        "learn": [
                          0.001118081134
                        ],
                        "iteration": 846,
                        "passed_time": 58.15055377,
                        "remaining_time": 10.50417323
                      },
                      {
                        "learn": [
                          0.001116753385
                        ],
                        "iteration": 847,
                        "passed_time": 58.21793967,
                        "remaining_time": 10.43529107
                      },
                      {
                        "learn": [
                          0.001114622554
                        ],
                        "iteration": 848,
                        "passed_time": 58.28589804,
                        "remaining_time": 10.36651426
                      },
                      {
                        "learn": [
                          0.00111361315
                        ],
                        "iteration": 849,
                        "passed_time": 58.35141991,
                        "remaining_time": 10.2973094
                      },
                      {
                        "learn": [
                          0.001112017247
                        ],
                        "iteration": 850,
                        "passed_time": 58.42081728,
                        "remaining_time": 10.22879175
                      },
                      {
                        "learn": [
                          0.001109298787
                        ],
                        "iteration": 851,
                        "passed_time": 58.49954853,
                        "remaining_time": 10.16189341
                      },
                      {
                        "learn": [
                          0.001108366902
                        ],
                        "iteration": 852,
                        "passed_time": 58.56373949,
                        "remaining_time": 10.09246155
                      },
                      {
                        "learn": [
                          0.001108023747
                        ],
                        "iteration": 853,
                        "passed_time": 58.6543201,
                        "remaining_time": 10.02755355
                      },
                      {
                        "learn": [
                          0.001105051047
                        ],
                        "iteration": 854,
                        "passed_time": 58.73575607,
                        "remaining_time": 9.961034656
                      },
                      {
                        "learn": [
                          0.001104749195
                        ],
                        "iteration": 855,
                        "passed_time": 58.80664264,
                        "remaining_time": 9.892706239
                      },
                      {
                        "learn": [
                          0.001101747556
                        ],
                        "iteration": 856,
                        "passed_time": 58.88020219,
                        "remaining_time": 9.824817868
                      },
                      {
                        "learn": [
                          0.001099271607
                        ],
                        "iteration": 857,
                        "passed_time": 58.95571329,
                        "remaining_time": 9.757239262
                      },
                      {
                        "learn": [
                          0.001098320873
                        ],
                        "iteration": 858,
                        "passed_time": 59.0260026,
                        "remaining_time": 9.68878506
                      },
                      {
                        "learn": [
                          0.001096943084
                        ],
                        "iteration": 859,
                        "passed_time": 59.09998881,
                        "remaining_time": 9.62092841
                      },
                      {
                        "learn": [
                          0.00109668488
                        ],
                        "iteration": 860,
                        "passed_time": 59.16335874,
                        "remaining_time": 9.551343629
                      },
                      {
                        "learn": [
                          0.001095989955
                        ],
                        "iteration": 861,
                        "passed_time": 59.23003971,
                        "remaining_time": 9.482303341
                      },
                      {
                        "learn": [
                          0.001095133163
                        ],
                        "iteration": 862,
                        "passed_time": 59.29483874,
                        "remaining_time": 9.412969765
                      },
                      {
                        "learn": [
                          0.001092931175
                        ],
                        "iteration": 863,
                        "passed_time": 59.36027342,
                        "remaining_time": 9.343746741
                      },
                      {
                        "learn": [
                          0.001089742434
                        ],
                        "iteration": 864,
                        "passed_time": 59.42951143,
                        "remaining_time": 9.275126061
                      },
                      {
                        "learn": [
                          0.001088548406
                        ],
                        "iteration": 865,
                        "passed_time": 59.50412925,
                        "remaining_time": 9.207336397
                      },
                      {
                        "learn": [
                          0.001086235223
                        ],
                        "iteration": 866,
                        "passed_time": 59.57793793,
                        "remaining_time": 9.139406857
                      },
                      {
                        "learn": [
                          0.0010839859
                        ],
                        "iteration": 867,
                        "passed_time": 59.67222553,
                        "remaining_time": 9.074578075
                      },
                      {
                        "learn": [
                          0.001082876229
                        ],
                        "iteration": 868,
                        "passed_time": 59.74247765,
                        "remaining_time": 9.006058195
                      },
                      {
                        "learn": [
                          0.001081949917
                        ],
                        "iteration": 869,
                        "passed_time": 59.81905529,
                        "remaining_time": 8.938479526
                      },
                      {
                        "learn": [
                          0.001079495315
                        ],
                        "iteration": 870,
                        "passed_time": 59.88469566,
                        "remaining_time": 8.869260321
                      },
                      {
                        "learn": [
                          0.001078567588
                        ],
                        "iteration": 871,
                        "passed_time": 59.95145883,
                        "remaining_time": 8.80021414
                      },
                      {
                        "learn": [
                          0.001074980304
                        ],
                        "iteration": 872,
                        "passed_time": 60.01797801,
                        "remaining_time": 8.731137695
                      },
                      {
                        "learn": [
                          0.001073617641
                        ],
                        "iteration": 873,
                        "passed_time": 60.08417409,
                        "remaining_time": 8.662020521
                      },
                      {
                        "learn": [
                          0.001071360926
                        ],
                        "iteration": 874,
                        "passed_time": 60.15509071,
                        "remaining_time": 8.593584388
                      },
                      {
                        "learn": [
                          0.001069735583
                        ],
                        "iteration": 875,
                        "passed_time": 60.22745249,
                        "remaining_time": 8.525347156
                      },
                      {
                        "learn": [
                          0.00106900846
                        ],
                        "iteration": 876,
                        "passed_time": 60.29706085,
                        "remaining_time": 8.45671435
                      },
                      {
                        "learn": [
                          0.001068489162
                        ],
                        "iteration": 877,
                        "passed_time": 60.36185772,
                        "remaining_time": 8.387410753
                      },
                      {
                        "learn": [
                          0.001063970486
                        ],
                        "iteration": 878,
                        "passed_time": 60.43810102,
                        "remaining_time": 8.319693087
                      },
                      {
                        "learn": [
                          0.00106304686
                        ],
                        "iteration": 879,
                        "passed_time": 60.5124259,
                        "remaining_time": 8.25169444
                      },
                      {
                        "learn": [
                          0.001061720829
                        ],
                        "iteration": 880,
                        "passed_time": 60.57817778,
                        "remaining_time": 8.182523446
                      },
                      {
                        "learn": [
                          0.001060735529
                        ],
                        "iteration": 881,
                        "passed_time": 60.66526982,
                        "remaining_time": 8.116215237
                      },
                      {
                        "learn": [
                          0.001060163944
                        ],
                        "iteration": 882,
                        "passed_time": 60.74667931,
                        "remaining_time": 8.049106998
                      },
                      {
                        "learn": [
                          0.001059211079
                        ],
                        "iteration": 883,
                        "passed_time": 60.81760855,
                        "remaining_time": 7.980591167
                      },
                      {
                        "learn": [
                          0.001058428398
                        ],
                        "iteration": 884,
                        "passed_time": 60.88559204,
                        "remaining_time": 7.911687102
                      },
                      {
                        "learn": [
                          0.001054664267
                        ],
                        "iteration": 885,
                        "passed_time": 60.95728501,
                        "remaining_time": 7.843262406
                      },
                      {
                        "learn": [
                          0.001053709765
                        ],
                        "iteration": 886,
                        "passed_time": 61.02572548,
                        "remaining_time": 7.774415986
                      },
                      {
                        "learn": [
                          0.001051535833
                        ],
                        "iteration": 887,
                        "passed_time": 61.09563964,
                        "remaining_time": 7.705756351
                      },
                      {
                        "learn": [
                          0.001049618572
                        ],
                        "iteration": 888,
                        "passed_time": 61.16452592,
                        "remaining_time": 7.636965554
                      },
                      {
                        "learn": [
                          0.001049289762
                        ],
                        "iteration": 889,
                        "passed_time": 61.22603755,
                        "remaining_time": 7.567263068
                      },
                      {
                        "learn": [
                          0.001048766206
                        ],
                        "iteration": 890,
                        "passed_time": 61.28883629,
                        "remaining_time": 7.497736427
                      },
                      {
                        "learn": [
                          0.001048270068
                        ],
                        "iteration": 891,
                        "passed_time": 61.35358293,
                        "remaining_time": 7.428460714
                      },
                      {
                        "learn": [
                          0.001047449115
                        ],
                        "iteration": 892,
                        "passed_time": 61.42288329,
                        "remaining_time": 7.359740776
                      },
                      {
                        "learn": [
                          0.001046922888
                        ],
                        "iteration": 893,
                        "passed_time": 61.48565874,
                        "remaining_time": 7.290245891
                      },
                      {
                        "learn": [
                          0.001046380174
                        ],
                        "iteration": 894,
                        "passed_time": 61.54927968,
                        "remaining_time": 7.220865214
                      },
                      {
                        "learn": [
                          0.001045810565
                        ],
                        "iteration": 895,
                        "passed_time": 61.6097714,
                        "remaining_time": 7.151134181
                      },
                      {
                        "learn": [
                          0.001045435064
                        ],
                        "iteration": 896,
                        "passed_time": 61.69324455,
                        "remaining_time": 7.084062641
                      },
                      {
                        "learn": [
                          0.001044568549
                        ],
                        "iteration": 897,
                        "passed_time": 61.77658045,
                        "remaining_time": 7.016938982
                      },
                      {
                        "learn": [
                          0.001044450358
                        ],
                        "iteration": 898,
                        "passed_time": 61.84237125,
                        "remaining_time": 6.947808116
                      },
                      {
                        "learn": [
                          0.001043693131
                        ],
                        "iteration": 899,
                        "passed_time": 61.90748865,
                        "remaining_time": 6.87860985
                      },
                      {
                        "learn": [
                          0.001042161758
                        ],
                        "iteration": 900,
                        "passed_time": 61.97233415,
                        "remaining_time": 6.809390767
                      },
                      {
                        "learn": [
                          0.001039808118
                        ],
                        "iteration": 901,
                        "passed_time": 62.04921474,
                        "remaining_time": 6.741488962
                      },
                      {
                        "learn": [
                          0.001038284881
                        ],
                        "iteration": 902,
                        "passed_time": 62.11939728,
                        "remaining_time": 6.67284777
                      },
                      {
                        "learn": [
                          0.001035941391
                        ],
                        "iteration": 903,
                        "passed_time": 62.18873504,
                        "remaining_time": 6.604113456
                      },
                      {
                        "learn": [
                          0.001034727702
                        ],
                        "iteration": 904,
                        "passed_time": 62.25601498,
                        "remaining_time": 6.535161794
                      },
                      {
                        "learn": [
                          0.001032876488
                        ],
                        "iteration": 905,
                        "passed_time": 62.32787768,
                        "remaining_time": 6.466689295
                      },
                      {
                        "learn": [
                          0.001031638218
                        ],
                        "iteration": 906,
                        "passed_time": 62.39378677,
                        "remaining_time": 6.397598864
                      },
                      {
                        "learn": [
                          0.001030413344
                        ],
                        "iteration": 907,
                        "passed_time": 62.45832145,
                        "remaining_time": 6.328376182
                      },
                      {
                        "learn": [
                          0.001029377895
                        ],
                        "iteration": 908,
                        "passed_time": 62.5251515,
                        "remaining_time": 6.259393605
                      },
                      {
                        "learn": [
                          0.00102748411
                        ],
                        "iteration": 909,
                        "passed_time": 62.59988445,
                        "remaining_time": 6.191197363
                      },
                      {
                        "learn": [
                          0.001025879695
                        ],
                        "iteration": 910,
                        "passed_time": 62.66860693,
                        "remaining_time": 6.12239958
                      },
                      {
                        "learn": [
                          0.001024859622
                        ],
                        "iteration": 911,
                        "passed_time": 62.82853234,
                        "remaining_time": 6.062402243
                      },
                      {
                        "learn": [
                          0.001022776395
                        ],
                        "iteration": 912,
                        "passed_time": 62.90035588,
                        "remaining_time": 5.993790758
                      },
                      {
                        "learn": [
                          0.001021967867
                        ],
                        "iteration": 913,
                        "passed_time": 62.96740717,
                        "remaining_time": 5.924723213
                      },
                      {
                        "learn": [
                          0.001021082663
                        ],
                        "iteration": 914,
                        "passed_time": 63.03926497,
                        "remaining_time": 5.856106582
                      },
                      {
                        "learn": [
                          0.001020935848
                        ],
                        "iteration": 915,
                        "passed_time": 63.10103209,
                        "remaining_time": 5.786557528
                      },
                      {
                        "learn": [
                          0.001018568466
                        ],
                        "iteration": 916,
                        "passed_time": 63.17239647,
                        "remaining_time": 5.717894119
                      },
                      {
                        "learn": [
                          0.001017817059
                        ],
                        "iteration": 917,
                        "passed_time": 63.23453856,
                        "remaining_time": 5.648401048
                      },
                      {
                        "learn": [
                          0.001014433902
                        ],
                        "iteration": 918,
                        "passed_time": 63.30879099,
                        "remaining_time": 5.579991372
                      },
                      {
                        "learn": [
                          0.001012844601
                        ],
                        "iteration": 919,
                        "passed_time": 63.37438516,
                        "remaining_time": 5.510816101
                      },
                      {
                        "learn": [
                          0.001009767475
                        ],
                        "iteration": 920,
                        "passed_time": 63.45447107,
                        "remaining_time": 5.442891656
                      },
                      {
                        "learn": [
                          0.001009357233
                        ],
                        "iteration": 921,
                        "passed_time": 63.52193193,
                        "remaining_time": 5.373872766
                      },
                      {
                        "learn": [
                          0.001009308811
                        ],
                        "iteration": 922,
                        "passed_time": 63.58602763,
                        "remaining_time": 5.30457652
                      },
                      {
                        "learn": [
                          0.001007984502
                        ],
                        "iteration": 923,
                        "passed_time": 63.65016815,
                        "remaining_time": 5.235295215
                      },
                      {
                        "learn": [
                          0.001007948512
                        ],
                        "iteration": 924,
                        "passed_time": 63.7089311,
                        "remaining_time": 5.165589008
                      },
                      {
                        "learn": [
                          0.001006601514
                        ],
                        "iteration": 925,
                        "passed_time": 63.80330775,
                        "remaining_time": 5.098752455
                      },
                      {
                        "learn": [
                          0.001006441541
                        ],
                        "iteration": 926,
                        "passed_time": 63.87739833,
                        "remaining_time": 5.030258984
                      },
                      {
                        "learn": [
                          0.00100547843
                        ],
                        "iteration": 927,
                        "passed_time": 63.94500913,
                        "remaining_time": 4.961250708
                      },
                      {
                        "learn": [
                          0.001004695173
                        ],
                        "iteration": 928,
                        "passed_time": 64.01120975,
                        "remaining_time": 4.892137667
                      },
                      {
                        "learn": [
                          0.001003348561
                        ],
                        "iteration": 929,
                        "passed_time": 64.07569029,
                        "remaining_time": 4.82290142
                      },
                      {
                        "learn": [
                          0.001002807221
                        ],
                        "iteration": 930,
                        "passed_time": 64.13749843,
                        "remaining_time": 4.753477327
                      },
                      {
                        "learn": [
                          0.001001642105
                        ],
                        "iteration": 931,
                        "passed_time": 64.20598463,
                        "remaining_time": 4.684556819
                      },
                      {
                        "learn": [
                          0.001000170593
                        ],
                        "iteration": 932,
                        "passed_time": 64.27278069,
                        "remaining_time": 4.61551587
                      },
                      {
                        "learn": [
                          0.0009999731233
                        ],
                        "iteration": 933,
                        "passed_time": 64.34013492,
                        "remaining_time": 4.54651917
                      },
                      {
                        "learn": [
                          0.0009978936234
                        ],
                        "iteration": 934,
                        "passed_time": 64.41910337,
                        "remaining_time": 4.47833339
                      },
                      {
                        "learn": [
                          0.0009969424424
                        ],
                        "iteration": 935,
                        "passed_time": 64.48694837,
                        "remaining_time": 4.409363991
                      },
                      {
                        "learn": [
                          0.0009946891776
                        ],
                        "iteration": 936,
                        "passed_time": 64.55618764,
                        "remaining_time": 4.340490738
                      },
                      {
                        "learn": [
                          0.0009931215803
                        ],
                        "iteration": 937,
                        "passed_time": 64.62848521,
                        "remaining_time": 4.271818852
                      },
                      {
                        "learn": [
                          0.0009904831899
                        ],
                        "iteration": 938,
                        "passed_time": 64.69847945,
                        "remaining_time": 4.202989613
                      },
                      {
                        "learn": [
                          0.0009899214014
                        ],
                        "iteration": 939,
                        "passed_time": 64.76860664,
                        "remaining_time": 4.134166381
                      },
                      {
                        "learn": [
                          0.0009895390729
                        ],
                        "iteration": 940,
                        "passed_time": 64.86844517,
                        "remaining_time": 4.067203257
                      },
                      {
                        "learn": [
                          0.000989163408
                        ],
                        "iteration": 941,
                        "passed_time": 64.94620775,
                        "remaining_time": 3.998811093
                      },
                      {
                        "learn": [
                          0.0009880416348
                        ],
                        "iteration": 942,
                        "passed_time": 65.01599136,
                        "remaining_time": 3.929916763
                      },
                      {
                        "learn": [
                          0.0009859974183
                        ],
                        "iteration": 943,
                        "passed_time": 65.08895983,
                        "remaining_time": 3.861209482
                      },
                      {
                        "learn": [
                          0.0009836701879
                        ],
                        "iteration": 944,
                        "passed_time": 65.16155226,
                        "remaining_time": 3.792471295
                      },
                      {
                        "learn": [
                          0.0009810341539
                        ],
                        "iteration": 945,
                        "passed_time": 65.23253356,
                        "remaining_time": 3.723632994
                      },
                      {
                        "learn": [
                          0.0009787798441
                        ],
                        "iteration": 946,
                        "passed_time": 65.29954738,
                        "remaining_time": 3.654568122
                      },
                      {
                        "learn": [
                          0.0009777386616
                        ],
                        "iteration": 947,
                        "passed_time": 65.36907818,
                        "remaining_time": 3.585645638
                      },
                      {
                        "learn": [
                          0.0009763535105
                        ],
                        "iteration": 948,
                        "passed_time": 65.43558604,
                        "remaining_time": 3.516559418
                      },
                      {
                        "learn": [
                          0.0009750668822
                        ],
                        "iteration": 949,
                        "passed_time": 65.50094684,
                        "remaining_time": 3.447418255
                      },
                      {
                        "learn": [
                          0.0009732661885
                        ],
                        "iteration": 950,
                        "passed_time": 65.57490674,
                        "remaining_time": 3.378728108
                      },
                      {
                        "learn": [
                          0.00097091004
                        ],
                        "iteration": 951,
                        "passed_time": 65.64760602,
                        "remaining_time": 3.309963329
                      },
                      {
                        "learn": [
                          0.0009674712773
                        ],
                        "iteration": 952,
                        "passed_time": 65.71547687,
                        "remaining_time": 3.240952165
                      },
                      {
                        "learn": [
                          0.0009652498758
                        ],
                        "iteration": 953,
                        "passed_time": 65.7925876,
                        "remaining_time": 3.17238892
                      },
                      {
                        "learn": [
                          0.0009637876574
                        ],
                        "iteration": 954,
                        "passed_time": 65.87688595,
                        "remaining_time": 3.104146458
                      },
                      {
                        "learn": [
                          0.0009613303521
                        ],
                        "iteration": 955,
                        "passed_time": 65.96235858,
                        "remaining_time": 3.035924453
                      },
                      {
                        "learn": [
                          0.0009602809237
                        ],
                        "iteration": 956,
                        "passed_time": 66.0311723,
                        "remaining_time": 2.966917878
                      },
                      {
                        "learn": [
                          0.000959155507
                        ],
                        "iteration": 957,
                        "passed_time": 66.09551285,
                        "remaining_time": 2.897715595
                      },
                      {
                        "learn": [
                          0.0009574928719
                        ],
                        "iteration": 958,
                        "passed_time": 66.16920964,
                        "remaining_time": 2.828923457
                      },
                      {
                        "learn": [
                          0.0009573055296
                        ],
                        "iteration": 959,
                        "passed_time": 66.22845751,
                        "remaining_time": 2.759519063
                      },
                      {
                        "learn": [
                          0.0009559063238
                        ],
                        "iteration": 960,
                        "passed_time": 66.29443533,
                        "remaining_time": 2.690408926
                      },
                      {
                        "learn": [
                          0.0009558836344
                        ],
                        "iteration": 961,
                        "passed_time": 66.35706375,
                        "remaining_time": 2.621172996
                      },
                      {
                        "learn": [
                          0.0009544608781
                        ],
                        "iteration": 962,
                        "passed_time": 66.42417909,
                        "remaining_time": 2.552123184
                      },
                      {
                        "learn": [
                          0.0009519361003
                        ],
                        "iteration": 963,
                        "passed_time": 66.49150959,
                        "remaining_time": 2.48308542
                      },
                      {
                        "learn": [
                          0.0009512370899
                        ],
                        "iteration": 964,
                        "passed_time": 66.5603464,
                        "remaining_time": 2.414105828
                      },
                      {
                        "learn": [
                          0.0009499919893
                        ],
                        "iteration": 965,
                        "passed_time": 66.6255365,
                        "remaining_time": 2.344998179
                      },
                      {
                        "learn": [
                          0.0009499089102
                        ],
                        "iteration": 966,
                        "passed_time": 66.68662733,
                        "remaining_time": 2.27575874
                      },
                      {
                        "learn": [
                          0.0009483104709
                        ],
                        "iteration": 967,
                        "passed_time": 66.75215598,
                        "remaining_time": 2.206682842
                      },
                      {
                        "learn": [
                          0.00094677897
                        ],
                        "iteration": 968,
                        "passed_time": 66.82275387,
                        "remaining_time": 2.13777644
                      },
                      {
                        "learn": [
                          0.0009451856536
                        ],
                        "iteration": 969,
                        "passed_time": 66.91324551,
                        "remaining_time": 2.06948182
                      },
                      {
                        "learn": [
                          0.0009442787328
                        ],
                        "iteration": 970,
                        "passed_time": 66.98662678,
                        "remaining_time": 2.00063046
                      },
                      {
                        "learn": [
                          0.0009430734314
                        ],
                        "iteration": 971,
                        "passed_time": 67.055025,
                        "remaining_time": 1.931626235
                      },
                      {
                        "learn": [
                          0.0009381457778
                        ],
                        "iteration": 972,
                        "passed_time": 67.12146292,
                        "remaining_time": 1.862568858
                      },
                      {
                        "learn": [
                          0.0009360771912
                        ],
                        "iteration": 973,
                        "passed_time": 67.201776,
                        "remaining_time": 1.793887244
                      },
                      {
                        "learn": [
                          0.0009347455718
                        ],
                        "iteration": 974,
                        "passed_time": 67.27397381,
                        "remaining_time": 1.724973687
                      },
                      {
                        "learn": [
                          0.0009343274148
                        ],
                        "iteration": 975,
                        "passed_time": 67.33564553,
                        "remaining_time": 1.655794562
                      },
                      {
                        "learn": [
                          0.0009329491164
                        ],
                        "iteration": 976,
                        "passed_time": 67.40848104,
                        "remaining_time": 1.586893617
                      },
                      {
                        "learn": [
                          0.0009322626261
                        ],
                        "iteration": 977,
                        "passed_time": 67.47376272,
                        "remaining_time": 1.517814703
                      },
                      {
                        "learn": [
                          0.0009310601504
                        ],
                        "iteration": 978,
                        "passed_time": 67.53880033,
                        "remaining_time": 1.448738312
                      },
                      {
                        "learn": [
                          0.0009307015235
                        ],
                        "iteration": 979,
                        "passed_time": 67.60291065,
                        "remaining_time": 1.379651238
                      },
                      {
                        "learn": [
                          0.000929655782
                        ],
                        "iteration": 980,
                        "passed_time": 67.66773025,
                        "remaining_time": 1.310588048
                      },
                      {
                        "learn": [
                          0.0009284104246
                        ],
                        "iteration": 981,
                        "passed_time": 67.73774023,
                        "remaining_time": 1.24162864
                      },
                      {
                        "learn": [
                          0.0009262415509
                        ],
                        "iteration": 982,
                        "passed_time": 67.82193198,
                        "remaining_time": 1.172912354
                      },
                      {
                        "learn": [
                          0.0009253083362
                        ],
                        "iteration": 983,
                        "passed_time": 67.88495701,
                        "remaining_time": 1.103820439
                      },
                      {
                        "learn": [
                          0.0009235316989
                        ],
                        "iteration": 984,
                        "passed_time": 67.98719521,
                        "remaining_time": 1.035337998
                      },
                      {
                        "learn": [
                          0.0009226007969
                        ],
                        "iteration": 985,
                        "passed_time": 68.05961918,
                        "remaining_time": 0.9663637612
                      },
                      {
                        "learn": [
                          0.0009216741356
                        ],
                        "iteration": 986,
                        "passed_time": 68.12413011,
                        "remaining_time": 0.8972783095
                      },
                      {
                        "learn": [
                          0.0009195972473
                        ],
                        "iteration": 987,
                        "passed_time": 68.19606809,
                        "remaining_time": 0.828292325
                      },
                      {
                        "learn": [
                          0.0009180543055
                        ],
                        "iteration": 988,
                        "passed_time": 68.26457682,
                        "remaining_time": 0.7592622296
                      },
                      {
                        "learn": [
                          0.0009167456724
                        ],
                        "iteration": 989,
                        "passed_time": 68.32924664,
                        "remaining_time": 0.6901944105
                      },
                      {
                        "learn": [
                          0.0009148299162
                        ],
                        "iteration": 990,
                        "passed_time": 68.39619678,
                        "remaining_time": 0.6211561766
                      },
                      {
                        "learn": [
                          0.0009134359289
                        ],
                        "iteration": 991,
                        "passed_time": 68.46784569,
                        "remaining_time": 0.5521600459
                      },
                      {
                        "learn": [
                          0.0009130859312
                        ],
                        "iteration": 992,
                        "passed_time": 68.53381496,
                        "remaining_time": 0.4831185345
                      },
                      {
                        "learn": [
                          0.0009129537468
                        ],
                        "iteration": 993,
                        "passed_time": 68.59435837,
                        "remaining_time": 0.414050453
                      },
                      {
                        "learn": [
                          0.0009119853109
                        ],
                        "iteration": 994,
                        "passed_time": 68.66218167,
                        "remaining_time": 0.3450360888
                      },
                      {
                        "learn": [
                          0.0009116178577
                        ],
                        "iteration": 995,
                        "passed_time": 68.73128671,
                        "remaining_time": 0.2760292639
                      },
                      {
                        "learn": [
                          0.0009078783127
                        ],
                        "iteration": 996,
                        "passed_time": 68.80293979,
                        "remaining_time": 0.2070299091
                      },
                      {
                        "learn": [
                          0.0009060654123
                        ],
                        "iteration": 997,
                        "passed_time": 68.88373461,
                        "remaining_time": 0.1380435563
                      },
                      {
                        "learn": [
                          0.000904564115
                        ],
                        "iteration": 998,
                        "passed_time": 68.9716726,
                        "remaining_time": 0.06904071331
                      },
                      {
                        "learn": [
                          0.0009039657117
                        ],
                        "iteration": 999,
                        "passed_time": 69.04572361,
                        "remaining_time": 0
                      }
                    ],
                    "meta": {
                      "test_sets": [],
                      "test_metrics": [],
                      "learn_metrics": [
                        {
                          "best_value": "Min",
                          "name": "Logloss"
                        }
                      ],
                      "launch_mode": "Train",
                      "parameters": "",
                      "iteration_count": 1000,
                      "learn_sets": [
                        "learn"
                      ],
                      "name": "experiment"
                    }
                  }
                }
              }
            },
            "layout": "IPY_MODEL_11587ab6bae44957b294a7a47b78a7d1"
          }
        }
      }
    }
  },
  "cells": [
    {
      "cell_type": "markdown",
      "metadata": {
        "id": "view-in-github",
        "colab_type": "text"
      },
      "source": [
        "<a href=\"https://colab.research.google.com/github/dolmani38/drift/blob/main/kaggle_api_in_colab.ipynb\" target=\"_parent\"><img src=\"https://colab.research.google.com/assets/colab-badge.svg\" alt=\"Open In Colab\"/></a>"
      ]
    },
    {
      "metadata": {
        "id": "DIf2PtekjPtY"
      },
      "cell_type": "markdown",
      "source": [
        "# Installing the [Kaggle API](https://github.com/Kaggle/kaggle-api) in Colab"
      ]
    },
    {
      "metadata": {
        "id": "OppyMnCuWjzJ",
        "colab": {
          "base_uri": "https://localhost:8080/"
        },
        "outputId": "664a002c-74dc-4b74-b01b-a7264235af3c"
      },
      "cell_type": "code",
      "source": [
        "!pip install kaggle"
      ],
      "execution_count": null,
      "outputs": [
        {
          "output_type": "stream",
          "name": "stdout",
          "text": [
            "Looking in indexes: https://pypi.org/simple, https://us-python.pkg.dev/colab-wheels/public/simple/\n",
            "Requirement already satisfied: kaggle in /usr/local/lib/python3.7/dist-packages (1.5.12)\n",
            "Requirement already satisfied: tqdm in /usr/local/lib/python3.7/dist-packages (from kaggle) (4.64.0)\n",
            "Requirement already satisfied: six>=1.10 in /usr/local/lib/python3.7/dist-packages (from kaggle) (1.15.0)\n",
            "Requirement already satisfied: requests in /usr/local/lib/python3.7/dist-packages (from kaggle) (2.23.0)\n",
            "Requirement already satisfied: python-dateutil in /usr/local/lib/python3.7/dist-packages (from kaggle) (2.8.2)\n",
            "Requirement already satisfied: python-slugify in /usr/local/lib/python3.7/dist-packages (from kaggle) (6.1.2)\n",
            "Requirement already satisfied: urllib3 in /usr/local/lib/python3.7/dist-packages (from kaggle) (1.24.3)\n",
            "Requirement already satisfied: certifi in /usr/local/lib/python3.7/dist-packages (from kaggle) (2022.6.15)\n",
            "Requirement already satisfied: text-unidecode>=1.3 in /usr/local/lib/python3.7/dist-packages (from python-slugify->kaggle) (1.3)\n",
            "Requirement already satisfied: idna<3,>=2.5 in /usr/local/lib/python3.7/dist-packages (from requests->kaggle) (2.10)\n",
            "Requirement already satisfied: chardet<4,>=3.0.2 in /usr/local/lib/python3.7/dist-packages (from requests->kaggle) (3.0.4)\n"
          ]
        }
      ]
    },
    {
      "metadata": {
        "id": "hMY4CFezjcG-"
      },
      "cell_type": "markdown",
      "source": [
        "# Authenticating with Kaggle using kaggle.json\n",
        "\n",
        "Navigate to https://www.kaggle.com. Then go to the [Account tab of your user profile](https://www.kaggle.com/me/account) and select Create API Token. This will trigger the download of kaggle.json, a file containing your API credentials.\n",
        "\n",
        "Then run the cell below to upload kaggle.json to your Colab runtime."
      ]
    },
    {
      "metadata": {
        "id": "0HtGf0HEXEa5",
        "outputId": "c8efd1e4-430d-4165-a9b0-234932e3ff58",
        "colab": {
          "resources": {
            "http://localhost:8080/nbextensions/google.colab/files.js": {
              "data": "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",
              "ok": true,
              "headers": [
                [
                  "content-type",
                  "application/javascript"
                ]
              ],
              "status": 200,
              "status_text": ""
            }
          },
          "base_uri": "https://localhost:8080/",
          "height": 95
        }
      },
      "cell_type": "code",
      "source": [
        "from google.colab import files\n",
        "\n",
        "uploaded = files.upload()\n",
        "\n",
        "for fn in uploaded.keys():\n",
        "  print('User uploaded file \"{name}\" with length {length} bytes'.format(\n",
        "      name=fn, length=len(uploaded[fn])))\n",
        "  \n",
        "# Then move kaggle.json into the folder where the API expects to find it.\n",
        "!mkdir -p ~/.kaggle/ && mv kaggle.json ~/.kaggle/ && chmod 600 ~/.kaggle/kaggle.json"
      ],
      "execution_count": 1,
      "outputs": [
        {
          "output_type": "display_data",
          "data": {
            "text/plain": [
              "<IPython.core.display.HTML object>"
            ],
            "text/html": [
              "\n",
              "     <input type=\"file\" id=\"files-74a42436-c176-4adc-9c64-ae903ee2aad0\" name=\"files[]\" multiple disabled\n",
              "        style=\"border:none\" />\n",
              "     <output id=\"result-74a42436-c176-4adc-9c64-ae903ee2aad0\">\n",
              "      Upload widget is only available when the cell has been executed in the\n",
              "      current browser session. Please rerun this cell to enable.\n",
              "      </output>\n",
              "      <script src=\"/nbextensions/google.colab/files.js\"></script> "
            ]
          },
          "metadata": {}
        },
        {
          "output_type": "stream",
          "name": "stdout",
          "text": [
            "Saving kaggle.json to kaggle.json\n",
            "User uploaded file \"kaggle.json\" with length 66 bytes\n"
          ]
        }
      ]
    },
    {
      "metadata": {
        "id": "HMk7Zz4ZkpCe"
      },
      "cell_type": "markdown",
      "source": [
        "# Using the Kaggle API\n",
        "\n",
        "For a more complete list of what you can do with the API, visit https://github.com/Kaggle/kaggle-api."
      ]
    },
    {
      "metadata": {
        "id": "SHVqmMXfilWG"
      },
      "cell_type": "markdown",
      "source": [
        "## Listing competitions"
      ]
    },
    {
      "metadata": {
        "id": "Oqt7Yfi5aQuM",
        "outputId": "3c715653-e76c-476e-c944-8de323d69a65",
        "colab": {
          "base_uri": "https://localhost:8080/"
        }
      },
      "cell_type": "code",
      "source": [
        "!kaggle competitions list"
      ],
      "execution_count": null,
      "outputs": [
        {
          "output_type": "stream",
          "name": "stdout",
          "text": [
            "ref                                            deadline             category            reward  teamCount  userHasEntered  \n",
            "---------------------------------------------  -------------------  ---------------  ---------  ---------  --------------  \n",
            "contradictory-my-dear-watson                   2030-07-01 23:59:00  Getting Started     Prizes         41           False  \n",
            "gan-getting-started                            2030-07-01 23:59:00  Getting Started     Prizes        131           False  \n",
            "store-sales-time-series-forecasting            2030-06-30 23:59:00  Getting Started  Knowledge        676           False  \n",
            "tpu-getting-started                            2030-06-03 23:59:00  Getting Started  Knowledge        134           False  \n",
            "digit-recognizer                               2030-01-01 00:00:00  Getting Started  Knowledge       1551           False  \n",
            "titanic                                        2030-01-01 00:00:00  Getting Started  Knowledge      14101           False  \n",
            "house-prices-advanced-regression-techniques    2030-01-01 00:00:00  Getting Started  Knowledge       4239           False  \n",
            "connectx                                       2030-01-01 00:00:00  Getting Started  Knowledge        192           False  \n",
            "nlp-getting-started                            2030-01-01 00:00:00  Getting Started  Knowledge        951           False  \n",
            "spaceship-titanic                              2030-01-01 00:00:00  Getting Started  Knowledge       2307           False  \n",
            "competitive-data-science-predict-future-sales  2022-12-31 23:59:00  Playground           Kudos      14967           False  \n",
            "amex-default-prediction                        2022-08-24 23:59:00  Featured          $100,000       1368           False  \n",
            "feedback-prize-effectiveness                   2022-08-23 23:59:00  Featured           $55,000        385           False  \n",
            "AI4Code                                        2022-08-11 23:59:00  Featured          $150,000        574           False  \n",
            "smartphone-decimeter-2022                      2022-07-29 23:59:00  Research           $10,000        290           False  \n",
            "ubiquant-market-prediction                     2022-07-18 23:59:00  Featured          $100,000       2459           False  \n",
            "uw-madison-gi-tract-image-segmentation         2022-07-14 23:59:00  Research           $25,000       1207           False  \n",
            "kore-2022                                      2022-07-12 23:59:00  Featured           $15,000        365           False  \n",
            "foursquare-location-matching                   2022-07-07 23:59:00  Featured           $25,000        895           False  \n",
            "jpx-tokyo-stock-exchange-prediction            2022-07-05 23:59:00  Featured           $63,000       1698           False  \n"
          ]
        }
      ]
    },
    {
      "metadata": {
        "id": "dNke00r6ig3h"
      },
      "cell_type": "markdown",
      "source": [
        "## Downloading a dataset"
      ]
    },
    {
      "metadata": {
        "id": "Aojvqv8Gaf8I",
        "colab": {
          "base_uri": "https://localhost:8080/"
        },
        "outputId": "9ae331cc-72be-4c5a-dc01-67ce1a4723e8"
      },
      "cell_type": "code",
      "source": [
        "!kaggle datasets download \"kartik2112/fraud-detection\""
      ],
      "execution_count": null,
      "outputs": [
        {
          "output_type": "stream",
          "name": "stdout",
          "text": [
            "Downloading fraud-detection.zip to /content\n",
            " 97% 195M/202M [00:01<00:00, 130MB/s]\n",
            "100% 202M/202M [00:01<00:00, 121MB/s]\n"
          ]
        }
      ]
    },
    {
      "metadata": {
        "id": "DsyV01gDaxls",
        "colab": {
          "base_uri": "https://localhost:8080/"
        },
        "outputId": "6f299ec6-c2b3-448d-a7e3-8d6a4303e0ed"
      },
      "cell_type": "code",
      "source": [
        "!unzip fraud-detection.zip"
      ],
      "execution_count": null,
      "outputs": [
        {
          "output_type": "stream",
          "name": "stdout",
          "text": [
            "Archive:  fraud-detection.zip\n",
            "  inflating: fraudTest.csv           \n",
            "  inflating: fraudTrain.csv          \n"
          ]
        }
      ]
    },
    {
      "metadata": {
        "id": "L7ZmFbHybsPk"
      },
      "cell_type": "code",
      "source": [
        "import pandas as pd \n",
        "\n",
        "train = pd.read_csv('fraudTrain.csv')\n",
        "test = pd.read_csv('fraudTest.csv')"
      ],
      "execution_count": null,
      "outputs": []
    },
    {
      "cell_type": "code",
      "source": [
        "#Concatenate the splitted data\n",
        "df = pd.concat([train,test],ignore_index=True)\n",
        "df.drop('Unnamed: 0',axis=1,inplace=True)"
      ],
      "metadata": {
        "id": "LHcma5xSeX69"
      },
      "execution_count": null,
      "outputs": []
    },
    {
      "cell_type": "code",
      "source": [
        "df.head()"
      ],
      "metadata": {
        "colab": {
          "base_uri": "https://localhost:8080/",
          "height": 577
        },
        "id": "Fzv0Q3kDe1fj",
        "outputId": "13e3dee7-0c88-498c-f4b9-47cabde09422"
      },
      "execution_count": null,
      "outputs": [
        {
          "output_type": "execute_result",
          "data": {
            "text/plain": [
              "  trans_date_trans_time            cc_num                            merchant  \\\n",
              "0   2019-01-01 00:00:18  2703186189652095          fraud_Rippin, Kub and Mann   \n",
              "1   2019-01-01 00:00:44      630423337322     fraud_Heller, Gutmann and Zieme   \n",
              "2   2019-01-01 00:00:51    38859492057661                fraud_Lind-Buckridge   \n",
              "3   2019-01-01 00:01:16  3534093764340240  fraud_Kutch, Hermiston and Farrell   \n",
              "4   2019-01-01 00:03:06   375534208663984                 fraud_Keeling-Crist   \n",
              "\n",
              "        category     amt      first     last gender  \\\n",
              "0       misc_net    4.97   Jennifer    Banks      F   \n",
              "1    grocery_pos  107.23  Stephanie     Gill      F   \n",
              "2  entertainment  220.11     Edward  Sanchez      M   \n",
              "3  gas_transport   45.00     Jeremy    White      M   \n",
              "4       misc_pos   41.96      Tyler   Garcia      M   \n",
              "\n",
              "                         street            city  ...      lat      long  \\\n",
              "0                561 Perry Cove  Moravian Falls  ...  36.0788  -81.1781   \n",
              "1  43039 Riley Greens Suite 393          Orient  ...  48.8878 -118.2105   \n",
              "2      594 White Dale Suite 530      Malad City  ...  42.1808 -112.2620   \n",
              "3   9443 Cynthia Court Apt. 038         Boulder  ...  46.2306 -112.1138   \n",
              "4              408 Bradley Rest        Doe Hill  ...  38.4207  -79.4629   \n",
              "\n",
              "   city_pop                                job         dob  \\\n",
              "0      3495          Psychologist, counselling  1988-03-09   \n",
              "1       149  Special educational needs teacher  1978-06-21   \n",
              "2      4154        Nature conservation officer  1962-01-19   \n",
              "3      1939                    Patent attorney  1967-01-12   \n",
              "4        99     Dance movement psychotherapist  1986-03-28   \n",
              "\n",
              "                          trans_num   unix_time  merch_lat  merch_long  \\\n",
              "0  0b242abb623afc578575680df30655b9  1325376018  36.011293  -82.048315   \n",
              "1  1f76529f8574734946361c461b024d99  1325376044  49.159047 -118.186462   \n",
              "2  a1a22d70485983eac12b5b88dad1cf95  1325376051  43.150704 -112.154481   \n",
              "3  6b849c168bdad6f867558c3793159a81  1325376076  47.034331 -112.561071   \n",
              "4  a41d7549acf90789359a9aa5346dcb46  1325376186  38.674999  -78.632459   \n",
              "\n",
              "   is_fraud  \n",
              "0         0  \n",
              "1         0  \n",
              "2         0  \n",
              "3         0  \n",
              "4         0  \n",
              "\n",
              "[5 rows x 22 columns]"
            ],
            "text/html": [
              "\n",
              "  <div id=\"df-5797f5b6-7f8e-4580-9bb6-d4e71e6a8393\">\n",
              "    <div class=\"colab-df-container\">\n",
              "      <div>\n",
              "<style scoped>\n",
              "    .dataframe tbody tr th:only-of-type {\n",
              "        vertical-align: middle;\n",
              "    }\n",
              "\n",
              "    .dataframe tbody tr th {\n",
              "        vertical-align: top;\n",
              "    }\n",
              "\n",
              "    .dataframe thead th {\n",
              "        text-align: right;\n",
              "    }\n",
              "</style>\n",
              "<table border=\"1\" class=\"dataframe\">\n",
              "  <thead>\n",
              "    <tr style=\"text-align: right;\">\n",
              "      <th></th>\n",
              "      <th>trans_date_trans_time</th>\n",
              "      <th>cc_num</th>\n",
              "      <th>merchant</th>\n",
              "      <th>category</th>\n",
              "      <th>amt</th>\n",
              "      <th>first</th>\n",
              "      <th>last</th>\n",
              "      <th>gender</th>\n",
              "      <th>street</th>\n",
              "      <th>city</th>\n",
              "      <th>...</th>\n",
              "      <th>lat</th>\n",
              "      <th>long</th>\n",
              "      <th>city_pop</th>\n",
              "      <th>job</th>\n",
              "      <th>dob</th>\n",
              "      <th>trans_num</th>\n",
              "      <th>unix_time</th>\n",
              "      <th>merch_lat</th>\n",
              "      <th>merch_long</th>\n",
              "      <th>is_fraud</th>\n",
              "    </tr>\n",
              "  </thead>\n",
              "  <tbody>\n",
              "    <tr>\n",
              "      <th>0</th>\n",
              "      <td>2019-01-01 00:00:18</td>\n",
              "      <td>2703186189652095</td>\n",
              "      <td>fraud_Rippin, Kub and Mann</td>\n",
              "      <td>misc_net</td>\n",
              "      <td>4.97</td>\n",
              "      <td>Jennifer</td>\n",
              "      <td>Banks</td>\n",
              "      <td>F</td>\n",
              "      <td>561 Perry Cove</td>\n",
              "      <td>Moravian Falls</td>\n",
              "      <td>...</td>\n",
              "      <td>36.0788</td>\n",
              "      <td>-81.1781</td>\n",
              "      <td>3495</td>\n",
              "      <td>Psychologist, counselling</td>\n",
              "      <td>1988-03-09</td>\n",
              "      <td>0b242abb623afc578575680df30655b9</td>\n",
              "      <td>1325376018</td>\n",
              "      <td>36.011293</td>\n",
              "      <td>-82.048315</td>\n",
              "      <td>0</td>\n",
              "    </tr>\n",
              "    <tr>\n",
              "      <th>1</th>\n",
              "      <td>2019-01-01 00:00:44</td>\n",
              "      <td>630423337322</td>\n",
              "      <td>fraud_Heller, Gutmann and Zieme</td>\n",
              "      <td>grocery_pos</td>\n",
              "      <td>107.23</td>\n",
              "      <td>Stephanie</td>\n",
              "      <td>Gill</td>\n",
              "      <td>F</td>\n",
              "      <td>43039 Riley Greens Suite 393</td>\n",
              "      <td>Orient</td>\n",
              "      <td>...</td>\n",
              "      <td>48.8878</td>\n",
              "      <td>-118.2105</td>\n",
              "      <td>149</td>\n",
              "      <td>Special educational needs teacher</td>\n",
              "      <td>1978-06-21</td>\n",
              "      <td>1f76529f8574734946361c461b024d99</td>\n",
              "      <td>1325376044</td>\n",
              "      <td>49.159047</td>\n",
              "      <td>-118.186462</td>\n",
              "      <td>0</td>\n",
              "    </tr>\n",
              "    <tr>\n",
              "      <th>2</th>\n",
              "      <td>2019-01-01 00:00:51</td>\n",
              "      <td>38859492057661</td>\n",
              "      <td>fraud_Lind-Buckridge</td>\n",
              "      <td>entertainment</td>\n",
              "      <td>220.11</td>\n",
              "      <td>Edward</td>\n",
              "      <td>Sanchez</td>\n",
              "      <td>M</td>\n",
              "      <td>594 White Dale Suite 530</td>\n",
              "      <td>Malad City</td>\n",
              "      <td>...</td>\n",
              "      <td>42.1808</td>\n",
              "      <td>-112.2620</td>\n",
              "      <td>4154</td>\n",
              "      <td>Nature conservation officer</td>\n",
              "      <td>1962-01-19</td>\n",
              "      <td>a1a22d70485983eac12b5b88dad1cf95</td>\n",
              "      <td>1325376051</td>\n",
              "      <td>43.150704</td>\n",
              "      <td>-112.154481</td>\n",
              "      <td>0</td>\n",
              "    </tr>\n",
              "    <tr>\n",
              "      <th>3</th>\n",
              "      <td>2019-01-01 00:01:16</td>\n",
              "      <td>3534093764340240</td>\n",
              "      <td>fraud_Kutch, Hermiston and Farrell</td>\n",
              "      <td>gas_transport</td>\n",
              "      <td>45.00</td>\n",
              "      <td>Jeremy</td>\n",
              "      <td>White</td>\n",
              "      <td>M</td>\n",
              "      <td>9443 Cynthia Court Apt. 038</td>\n",
              "      <td>Boulder</td>\n",
              "      <td>...</td>\n",
              "      <td>46.2306</td>\n",
              "      <td>-112.1138</td>\n",
              "      <td>1939</td>\n",
              "      <td>Patent attorney</td>\n",
              "      <td>1967-01-12</td>\n",
              "      <td>6b849c168bdad6f867558c3793159a81</td>\n",
              "      <td>1325376076</td>\n",
              "      <td>47.034331</td>\n",
              "      <td>-112.561071</td>\n",
              "      <td>0</td>\n",
              "    </tr>\n",
              "    <tr>\n",
              "      <th>4</th>\n",
              "      <td>2019-01-01 00:03:06</td>\n",
              "      <td>375534208663984</td>\n",
              "      <td>fraud_Keeling-Crist</td>\n",
              "      <td>misc_pos</td>\n",
              "      <td>41.96</td>\n",
              "      <td>Tyler</td>\n",
              "      <td>Garcia</td>\n",
              "      <td>M</td>\n",
              "      <td>408 Bradley Rest</td>\n",
              "      <td>Doe Hill</td>\n",
              "      <td>...</td>\n",
              "      <td>38.4207</td>\n",
              "      <td>-79.4629</td>\n",
              "      <td>99</td>\n",
              "      <td>Dance movement psychotherapist</td>\n",
              "      <td>1986-03-28</td>\n",
              "      <td>a41d7549acf90789359a9aa5346dcb46</td>\n",
              "      <td>1325376186</td>\n",
              "      <td>38.674999</td>\n",
              "      <td>-78.632459</td>\n",
              "      <td>0</td>\n",
              "    </tr>\n",
              "  </tbody>\n",
              "</table>\n",
              "<p>5 rows × 22 columns</p>\n",
              "</div>\n",
              "      <button class=\"colab-df-convert\" onclick=\"convertToInteractive('df-5797f5b6-7f8e-4580-9bb6-d4e71e6a8393')\"\n",
              "              title=\"Convert this dataframe to an interactive table.\"\n",
              "              style=\"display:none;\">\n",
              "        \n",
              "  <svg xmlns=\"http://www.w3.org/2000/svg\" height=\"24px\"viewBox=\"0 0 24 24\"\n",
              "       width=\"24px\">\n",
              "    <path d=\"M0 0h24v24H0V0z\" fill=\"none\"/>\n",
              "    <path d=\"M18.56 5.44l.94 2.06.94-2.06 2.06-.94-2.06-.94-.94-2.06-.94 2.06-2.06.94zm-11 1L8.5 8.5l.94-2.06 2.06-.94-2.06-.94L8.5 2.5l-.94 2.06-2.06.94zm10 10l.94 2.06.94-2.06 2.06-.94-2.06-.94-.94-2.06-.94 2.06-2.06.94z\"/><path d=\"M17.41 7.96l-1.37-1.37c-.4-.4-.92-.59-1.43-.59-.52 0-1.04.2-1.43.59L10.3 9.45l-7.72 7.72c-.78.78-.78 2.05 0 2.83L4 21.41c.39.39.9.59 1.41.59.51 0 1.02-.2 1.41-.59l7.78-7.78 2.81-2.81c.8-.78.8-2.07 0-2.86zM5.41 20L4 18.59l7.72-7.72 1.47 1.35L5.41 20z\"/>\n",
              "  </svg>\n",
              "      </button>\n",
              "      \n",
              "  <style>\n",
              "    .colab-df-container {\n",
              "      display:flex;\n",
              "      flex-wrap:wrap;\n",
              "      gap: 12px;\n",
              "    }\n",
              "\n",
              "    .colab-df-convert {\n",
              "      background-color: #E8F0FE;\n",
              "      border: none;\n",
              "      border-radius: 50%;\n",
              "      cursor: pointer;\n",
              "      display: none;\n",
              "      fill: #1967D2;\n",
              "      height: 32px;\n",
              "      padding: 0 0 0 0;\n",
              "      width: 32px;\n",
              "    }\n",
              "\n",
              "    .colab-df-convert:hover {\n",
              "      background-color: #E2EBFA;\n",
              "      box-shadow: 0px 1px 2px rgba(60, 64, 67, 0.3), 0px 1px 3px 1px rgba(60, 64, 67, 0.15);\n",
              "      fill: #174EA6;\n",
              "    }\n",
              "\n",
              "    [theme=dark] .colab-df-convert {\n",
              "      background-color: #3B4455;\n",
              "      fill: #D2E3FC;\n",
              "    }\n",
              "\n",
              "    [theme=dark] .colab-df-convert:hover {\n",
              "      background-color: #434B5C;\n",
              "      box-shadow: 0px 1px 3px 1px rgba(0, 0, 0, 0.15);\n",
              "      filter: drop-shadow(0px 1px 2px rgba(0, 0, 0, 0.3));\n",
              "      fill: #FFFFFF;\n",
              "    }\n",
              "  </style>\n",
              "\n",
              "      <script>\n",
              "        const buttonEl =\n",
              "          document.querySelector('#df-5797f5b6-7f8e-4580-9bb6-d4e71e6a8393 button.colab-df-convert');\n",
              "        buttonEl.style.display =\n",
              "          google.colab.kernel.accessAllowed ? 'block' : 'none';\n",
              "\n",
              "        async function convertToInteractive(key) {\n",
              "          const element = document.querySelector('#df-5797f5b6-7f8e-4580-9bb6-d4e71e6a8393');\n",
              "          const dataTable =\n",
              "            await google.colab.kernel.invokeFunction('convertToInteractive',\n",
              "                                                     [key], {});\n",
              "          if (!dataTable) return;\n",
              "\n",
              "          const docLinkHtml = 'Like what you see? Visit the ' +\n",
              "            '<a target=\"_blank\" href=https://colab.research.google.com/notebooks/data_table.ipynb>data table notebook</a>'\n",
              "            + ' to learn more about interactive tables.';\n",
              "          element.innerHTML = '';\n",
              "          dataTable['output_type'] = 'display_data';\n",
              "          await google.colab.output.renderOutput(dataTable, element);\n",
              "          const docLink = document.createElement('div');\n",
              "          docLink.innerHTML = docLinkHtml;\n",
              "          element.appendChild(docLink);\n",
              "        }\n",
              "      </script>\n",
              "    </div>\n",
              "  </div>\n",
              "  "
            ]
          },
          "metadata": {},
          "execution_count": 7
        }
      ]
    },
    {
      "cell_type": "code",
      "source": [
        "#Shape of the data (rows,columns)\n",
        "df.shape"
      ],
      "metadata": {
        "colab": {
          "base_uri": "https://localhost:8080/"
        },
        "id": "MXfFCI15e27z",
        "outputId": "18747feb-c722-4e6a-b8c7-5cb01653ad94"
      },
      "execution_count": null,
      "outputs": [
        {
          "output_type": "execute_result",
          "data": {
            "text/plain": [
              "(1852394, 22)"
            ]
          },
          "metadata": {},
          "execution_count": 8
        }
      ]
    },
    {
      "cell_type": "code",
      "source": [
        "#Finding dtypes and other basic info about the features\n",
        "df.info()"
      ],
      "metadata": {
        "colab": {
          "base_uri": "https://localhost:8080/"
        },
        "id": "WO8uiCuce6u2",
        "outputId": "d0250d72-1c5a-40bf-9eca-90a32acbf06f"
      },
      "execution_count": null,
      "outputs": [
        {
          "output_type": "stream",
          "name": "stdout",
          "text": [
            "<class 'pandas.core.frame.DataFrame'>\n",
            "RangeIndex: 1852394 entries, 0 to 1852393\n",
            "Data columns (total 22 columns):\n",
            " #   Column                 Dtype  \n",
            "---  ------                 -----  \n",
            " 0   trans_date_trans_time  object \n",
            " 1   cc_num                 int64  \n",
            " 2   merchant               object \n",
            " 3   category               object \n",
            " 4   amt                    float64\n",
            " 5   first                  object \n",
            " 6   last                   object \n",
            " 7   gender                 object \n",
            " 8   street                 object \n",
            " 9   city                   object \n",
            " 10  state                  object \n",
            " 11  zip                    int64  \n",
            " 12  lat                    float64\n",
            " 13  long                   float64\n",
            " 14  city_pop               int64  \n",
            " 15  job                    object \n",
            " 16  dob                    object \n",
            " 17  trans_num              object \n",
            " 18  unix_time              int64  \n",
            " 19  merch_lat              float64\n",
            " 20  merch_long             float64\n",
            " 21  is_fraud               int64  \n",
            "dtypes: float64(5), int64(5), object(12)\n",
            "memory usage: 310.9+ MB\n"
          ]
        }
      ]
    },
    {
      "cell_type": "code",
      "source": [
        "import numpy as np # linear algebra\n",
        "import pandas as pd # data processing, CSV file I/O (e.g. pd.read_csv)\n",
        "\n",
        "import matplotlib.pyplot as plt###\n",
        "                               ### Visualisation tools\n",
        "import seaborn as sns          ###\n",
        "\n",
        "from sklearn.linear_model import LinearRegression,LogisticRegression,SGDRegressor , Ridge,Lasso\n",
        "from sklearn.model_selection import train_test_split,GridSearchCV\n",
        "from sklearn.preprocessing import LabelEncoder,StandardScaler\n",
        "from warnings import filterwarnings\n",
        "filterwarnings('ignore')\n",
        "from sklearn.metrics import accuracy_score,precision_score,confusion_matrix\n",
        "from sklearn.metrics import classification_report,roc_curve,roc_auc_score\n",
        "from sklearn.neighbors import KNeighborsClassifier\n",
        "from sklearn.naive_bayes import GaussianNB\n",
        "\n",
        "# Input data files are available in the read-only \"../input/\" directory\n",
        "# For example, running this (by clicking run or pressing Shift+Enter) will list all files under the input directory\n",
        "\n",
        "import os"
      ],
      "metadata": {
        "id": "_AGpHx6QfJ9w"
      },
      "execution_count": 3,
      "outputs": []
    },
    {
      "cell_type": "code",
      "source": [
        "#dividing data into categorical and numerical\n",
        "df_cat = df.select_dtypes(include = 'object')\n",
        "df_num = df.select_dtypes(exclude = 'object')\n",
        "le = LabelEncoder()"
      ],
      "metadata": {
        "id": "BizQmguge-3K"
      },
      "execution_count": null,
      "outputs": []
    },
    {
      "cell_type": "code",
      "source": [
        "df['gender_le']  = le.fit_transform(df['gender'])"
      ],
      "metadata": {
        "id": "p6SZ9_aJfSg0"
      },
      "execution_count": null,
      "outputs": []
    },
    {
      "cell_type": "code",
      "source": [
        "# Seperating  numerical from nominal\n",
        "# cutting off some data to avoid heavy cpu usage\n",
        "df2 = df.select_dtypes(exclude = 'object')\n",
        "#df2 = df2.loc[:149999]"
      ],
      "metadata": {
        "id": "3sUrHipofeqQ"
      },
      "execution_count": null,
      "outputs": []
    },
    {
      "cell_type": "code",
      "source": [
        "# dropping the feature which is not useful for data analysis\n",
        "df2 = df2.drop(['cc_num'],axis=1)\n",
        "# seperating target and independent features\n",
        "x = df2.drop('is_fraud',axis=1)\n",
        "y = df2['is_fraud']"
      ],
      "metadata": {
        "id": "oyNx2-znfj25"
      },
      "execution_count": null,
      "outputs": []
    },
    {
      "cell_type": "code",
      "source": [
        "df_num = df_num.drop(['cc_num','zip'],axis=1)\n",
        "df_num = df_num.drop('is_fraud',axis=1)"
      ],
      "metadata": {
        "id": "b2QjqP_rhlMM"
      },
      "execution_count": null,
      "outputs": []
    },
    {
      "cell_type": "code",
      "source": [
        "df_num.columns"
      ],
      "metadata": {
        "colab": {
          "base_uri": "https://localhost:8080/"
        },
        "id": "ad3_wR09hpp0",
        "outputId": "d8fd1b80-cde1-4dcb-b552-41b8ceaee452"
      },
      "execution_count": null,
      "outputs": [
        {
          "output_type": "execute_result",
          "data": {
            "text/plain": [
              "Index(['amt', 'lat', 'long', 'city_pop', 'unix_time', 'merch_lat',\n",
              "       'merch_long'],\n",
              "      dtype='object')"
            ]
          },
          "metadata": {},
          "execution_count": 16
        }
      ]
    },
    {
      "cell_type": "code",
      "source": [
        "x.shape"
      ],
      "metadata": {
        "colab": {
          "base_uri": "https://localhost:8080/"
        },
        "id": "yyPmHWEinEt5",
        "outputId": "6aab29ef-badf-40e3-d9f9-ac789f658a98"
      },
      "execution_count": null,
      "outputs": [
        {
          "output_type": "execute_result",
          "data": {
            "text/plain": [
              "(1852394, 9)"
            ]
          },
          "metadata": {},
          "execution_count": 17
        }
      ]
    },
    {
      "cell_type": "code",
      "source": [
        "train_x = x[0:300000]\n",
        "train_y = 1-y[0:300000]\n"
      ],
      "metadata": {
        "id": "eUFSCpd6flER"
      },
      "execution_count": null,
      "outputs": []
    },
    {
      "cell_type": "code",
      "source": [
        "train_x"
      ],
      "metadata": {
        "colab": {
          "base_uri": "https://localhost:8080/",
          "height": 424
        },
        "id": "MrjXRQpKhQq7",
        "outputId": "174d0b5f-6f14-4958-830d-74c08a97233d"
      },
      "execution_count": null,
      "outputs": [
        {
          "output_type": "execute_result",
          "data": {
            "text/plain": [
              "           amt    zip      lat      long  city_pop   unix_time  merch_lat  \\\n",
              "0         4.97  28654  36.0788  -81.1781      3495  1325376018  36.011293   \n",
              "1       107.23  99160  48.8878 -118.2105       149  1325376044  49.159047   \n",
              "2       220.11  83252  42.1808 -112.2620      4154  1325376051  43.150704   \n",
              "3        45.00  59632  46.2306 -112.1138      1939  1325376076  47.034331   \n",
              "4        41.96  24433  38.4207  -79.4629        99  1325376186  38.674999   \n",
              "...        ...    ...      ...       ...       ...         ...        ...   \n",
              "299995   96.03  25106  38.8265  -82.1364       642  1338048681  39.298162   \n",
              "299996   59.77  63021  38.5770  -90.5255     92608  1338048685  39.339959   \n",
              "299997   77.82  73754  36.3850  -98.0727      1078  1338048717  36.545200   \n",
              "299998   53.20  27522  36.1124  -78.6476     12335  1338048723  36.078714   \n",
              "299999   78.53  54896  45.8327  -91.0144      1478  1338048746  45.181078   \n",
              "\n",
              "        merch_long  gender_le  \n",
              "0       -82.048315          0  \n",
              "1      -118.186462          0  \n",
              "2      -112.154481          1  \n",
              "3      -112.561071          1  \n",
              "4       -78.632459          1  \n",
              "...            ...        ...  \n",
              "299995  -82.030474          0  \n",
              "299996  -89.859340          1  \n",
              "299997  -98.854027          1  \n",
              "299998  -78.024839          0  \n",
              "299999  -90.340056          0  \n",
              "\n",
              "[300000 rows x 9 columns]"
            ],
            "text/html": [
              "\n",
              "  <div id=\"df-2a10bad4-5070-44c6-9fef-908d64172c29\">\n",
              "    <div class=\"colab-df-container\">\n",
              "      <div>\n",
              "<style scoped>\n",
              "    .dataframe tbody tr th:only-of-type {\n",
              "        vertical-align: middle;\n",
              "    }\n",
              "\n",
              "    .dataframe tbody tr th {\n",
              "        vertical-align: top;\n",
              "    }\n",
              "\n",
              "    .dataframe thead th {\n",
              "        text-align: right;\n",
              "    }\n",
              "</style>\n",
              "<table border=\"1\" class=\"dataframe\">\n",
              "  <thead>\n",
              "    <tr style=\"text-align: right;\">\n",
              "      <th></th>\n",
              "      <th>amt</th>\n",
              "      <th>zip</th>\n",
              "      <th>lat</th>\n",
              "      <th>long</th>\n",
              "      <th>city_pop</th>\n",
              "      <th>unix_time</th>\n",
              "      <th>merch_lat</th>\n",
              "      <th>merch_long</th>\n",
              "      <th>gender_le</th>\n",
              "    </tr>\n",
              "  </thead>\n",
              "  <tbody>\n",
              "    <tr>\n",
              "      <th>0</th>\n",
              "      <td>4.97</td>\n",
              "      <td>28654</td>\n",
              "      <td>36.0788</td>\n",
              "      <td>-81.1781</td>\n",
              "      <td>3495</td>\n",
              "      <td>1325376018</td>\n",
              "      <td>36.011293</td>\n",
              "      <td>-82.048315</td>\n",
              "      <td>0</td>\n",
              "    </tr>\n",
              "    <tr>\n",
              "      <th>1</th>\n",
              "      <td>107.23</td>\n",
              "      <td>99160</td>\n",
              "      <td>48.8878</td>\n",
              "      <td>-118.2105</td>\n",
              "      <td>149</td>\n",
              "      <td>1325376044</td>\n",
              "      <td>49.159047</td>\n",
              "      <td>-118.186462</td>\n",
              "      <td>0</td>\n",
              "    </tr>\n",
              "    <tr>\n",
              "      <th>2</th>\n",
              "      <td>220.11</td>\n",
              "      <td>83252</td>\n",
              "      <td>42.1808</td>\n",
              "      <td>-112.2620</td>\n",
              "      <td>4154</td>\n",
              "      <td>1325376051</td>\n",
              "      <td>43.150704</td>\n",
              "      <td>-112.154481</td>\n",
              "      <td>1</td>\n",
              "    </tr>\n",
              "    <tr>\n",
              "      <th>3</th>\n",
              "      <td>45.00</td>\n",
              "      <td>59632</td>\n",
              "      <td>46.2306</td>\n",
              "      <td>-112.1138</td>\n",
              "      <td>1939</td>\n",
              "      <td>1325376076</td>\n",
              "      <td>47.034331</td>\n",
              "      <td>-112.561071</td>\n",
              "      <td>1</td>\n",
              "    </tr>\n",
              "    <tr>\n",
              "      <th>4</th>\n",
              "      <td>41.96</td>\n",
              "      <td>24433</td>\n",
              "      <td>38.4207</td>\n",
              "      <td>-79.4629</td>\n",
              "      <td>99</td>\n",
              "      <td>1325376186</td>\n",
              "      <td>38.674999</td>\n",
              "      <td>-78.632459</td>\n",
              "      <td>1</td>\n",
              "    </tr>\n",
              "    <tr>\n",
              "      <th>...</th>\n",
              "      <td>...</td>\n",
              "      <td>...</td>\n",
              "      <td>...</td>\n",
              "      <td>...</td>\n",
              "      <td>...</td>\n",
              "      <td>...</td>\n",
              "      <td>...</td>\n",
              "      <td>...</td>\n",
              "      <td>...</td>\n",
              "    </tr>\n",
              "    <tr>\n",
              "      <th>299995</th>\n",
              "      <td>96.03</td>\n",
              "      <td>25106</td>\n",
              "      <td>38.8265</td>\n",
              "      <td>-82.1364</td>\n",
              "      <td>642</td>\n",
              "      <td>1338048681</td>\n",
              "      <td>39.298162</td>\n",
              "      <td>-82.030474</td>\n",
              "      <td>0</td>\n",
              "    </tr>\n",
              "    <tr>\n",
              "      <th>299996</th>\n",
              "      <td>59.77</td>\n",
              "      <td>63021</td>\n",
              "      <td>38.5770</td>\n",
              "      <td>-90.5255</td>\n",
              "      <td>92608</td>\n",
              "      <td>1338048685</td>\n",
              "      <td>39.339959</td>\n",
              "      <td>-89.859340</td>\n",
              "      <td>1</td>\n",
              "    </tr>\n",
              "    <tr>\n",
              "      <th>299997</th>\n",
              "      <td>77.82</td>\n",
              "      <td>73754</td>\n",
              "      <td>36.3850</td>\n",
              "      <td>-98.0727</td>\n",
              "      <td>1078</td>\n",
              "      <td>1338048717</td>\n",
              "      <td>36.545200</td>\n",
              "      <td>-98.854027</td>\n",
              "      <td>1</td>\n",
              "    </tr>\n",
              "    <tr>\n",
              "      <th>299998</th>\n",
              "      <td>53.20</td>\n",
              "      <td>27522</td>\n",
              "      <td>36.1124</td>\n",
              "      <td>-78.6476</td>\n",
              "      <td>12335</td>\n",
              "      <td>1338048723</td>\n",
              "      <td>36.078714</td>\n",
              "      <td>-78.024839</td>\n",
              "      <td>0</td>\n",
              "    </tr>\n",
              "    <tr>\n",
              "      <th>299999</th>\n",
              "      <td>78.53</td>\n",
              "      <td>54896</td>\n",
              "      <td>45.8327</td>\n",
              "      <td>-91.0144</td>\n",
              "      <td>1478</td>\n",
              "      <td>1338048746</td>\n",
              "      <td>45.181078</td>\n",
              "      <td>-90.340056</td>\n",
              "      <td>0</td>\n",
              "    </tr>\n",
              "  </tbody>\n",
              "</table>\n",
              "<p>300000 rows × 9 columns</p>\n",
              "</div>\n",
              "      <button class=\"colab-df-convert\" onclick=\"convertToInteractive('df-2a10bad4-5070-44c6-9fef-908d64172c29')\"\n",
              "              title=\"Convert this dataframe to an interactive table.\"\n",
              "              style=\"display:none;\">\n",
              "        \n",
              "  <svg xmlns=\"http://www.w3.org/2000/svg\" height=\"24px\"viewBox=\"0 0 24 24\"\n",
              "       width=\"24px\">\n",
              "    <path d=\"M0 0h24v24H0V0z\" fill=\"none\"/>\n",
              "    <path d=\"M18.56 5.44l.94 2.06.94-2.06 2.06-.94-2.06-.94-.94-2.06-.94 2.06-2.06.94zm-11 1L8.5 8.5l.94-2.06 2.06-.94-2.06-.94L8.5 2.5l-.94 2.06-2.06.94zm10 10l.94 2.06.94-2.06 2.06-.94-2.06-.94-.94-2.06-.94 2.06-2.06.94z\"/><path d=\"M17.41 7.96l-1.37-1.37c-.4-.4-.92-.59-1.43-.59-.52 0-1.04.2-1.43.59L10.3 9.45l-7.72 7.72c-.78.78-.78 2.05 0 2.83L4 21.41c.39.39.9.59 1.41.59.51 0 1.02-.2 1.41-.59l7.78-7.78 2.81-2.81c.8-.78.8-2.07 0-2.86zM5.41 20L4 18.59l7.72-7.72 1.47 1.35L5.41 20z\"/>\n",
              "  </svg>\n",
              "      </button>\n",
              "      \n",
              "  <style>\n",
              "    .colab-df-container {\n",
              "      display:flex;\n",
              "      flex-wrap:wrap;\n",
              "      gap: 12px;\n",
              "    }\n",
              "\n",
              "    .colab-df-convert {\n",
              "      background-color: #E8F0FE;\n",
              "      border: none;\n",
              "      border-radius: 50%;\n",
              "      cursor: pointer;\n",
              "      display: none;\n",
              "      fill: #1967D2;\n",
              "      height: 32px;\n",
              "      padding: 0 0 0 0;\n",
              "      width: 32px;\n",
              "    }\n",
              "\n",
              "    .colab-df-convert:hover {\n",
              "      background-color: #E2EBFA;\n",
              "      box-shadow: 0px 1px 2px rgba(60, 64, 67, 0.3), 0px 1px 3px 1px rgba(60, 64, 67, 0.15);\n",
              "      fill: #174EA6;\n",
              "    }\n",
              "\n",
              "    [theme=dark] .colab-df-convert {\n",
              "      background-color: #3B4455;\n",
              "      fill: #D2E3FC;\n",
              "    }\n",
              "\n",
              "    [theme=dark] .colab-df-convert:hover {\n",
              "      background-color: #434B5C;\n",
              "      box-shadow: 0px 1px 3px 1px rgba(0, 0, 0, 0.15);\n",
              "      filter: drop-shadow(0px 1px 2px rgba(0, 0, 0, 0.3));\n",
              "      fill: #FFFFFF;\n",
              "    }\n",
              "  </style>\n",
              "\n",
              "      <script>\n",
              "        const buttonEl =\n",
              "          document.querySelector('#df-2a10bad4-5070-44c6-9fef-908d64172c29 button.colab-df-convert');\n",
              "        buttonEl.style.display =\n",
              "          google.colab.kernel.accessAllowed ? 'block' : 'none';\n",
              "\n",
              "        async function convertToInteractive(key) {\n",
              "          const element = document.querySelector('#df-2a10bad4-5070-44c6-9fef-908d64172c29');\n",
              "          const dataTable =\n",
              "            await google.colab.kernel.invokeFunction('convertToInteractive',\n",
              "                                                     [key], {});\n",
              "          if (!dataTable) return;\n",
              "\n",
              "          const docLinkHtml = 'Like what you see? Visit the ' +\n",
              "            '<a target=\"_blank\" href=https://colab.research.google.com/notebooks/data_table.ipynb>data table notebook</a>'\n",
              "            + ' to learn more about interactive tables.';\n",
              "          element.innerHTML = '';\n",
              "          dataTable['output_type'] = 'display_data';\n",
              "          await google.colab.output.renderOutput(dataTable, element);\n",
              "          const docLink = document.createElement('div');\n",
              "          docLink.innerHTML = docLinkHtml;\n",
              "          element.appendChild(docLink);\n",
              "        }\n",
              "      </script>\n",
              "    </div>\n",
              "  </div>\n",
              "  "
            ]
          },
          "metadata": {},
          "execution_count": 19
        }
      ]
    },
    {
      "cell_type": "code",
      "source": [
        "# Scaling the data\n",
        "ss = StandardScaler()\n",
        "train_x[df_num.columns] = ss.fit_transform(train_x[df_num.columns])\n"
      ],
      "metadata": {
        "id": "t1xDGIh7hw1u"
      },
      "execution_count": null,
      "outputs": []
    },
    {
      "cell_type": "code",
      "source": [
        "train_y.value_counts()"
      ],
      "metadata": {
        "colab": {
          "base_uri": "https://localhost:8080/"
        },
        "id": "EKwDAePZi7M5",
        "outputId": "a3fabe0c-8ca4-4e58-a887-88a884359e20"
      },
      "execution_count": null,
      "outputs": [
        {
          "output_type": "execute_result",
          "data": {
            "text/plain": [
              "1    297745\n",
              "0      2255\n",
              "Name: is_fraud, dtype: int64"
            ]
          },
          "metadata": {},
          "execution_count": 24
        }
      ]
    },
    {
      "cell_type": "code",
      "source": [
        "import tensorflow as tf\n",
        "from tensorflow.keras import layers\n",
        "from tensorflow.keras import datasets, layers, models, optimizers\n",
        "from tensorflow.keras.utils import to_categorical\n",
        "import random"
      ],
      "metadata": {
        "id": "p71_5dSogH23"
      },
      "execution_count": null,
      "outputs": []
    },
    {
      "cell_type": "code",
      "source": [
        "\n",
        "epochs = 500\n",
        "\n",
        "model_c = tf.keras.Sequential([\n",
        "    tf.keras.layers.Dense(128, activation='relu', input_shape=(train_x.shape[1],)),\n",
        "    #tf.keras.layers.Dense(64, activation='relu'),\n",
        "    tf.keras.layers.Dense(1, activation='sigmoid')\n",
        "])\n",
        "\n",
        "# patience 매개변수는 성능 향상을 체크할 에포크 횟수입니다\n",
        "early_stop = tf.keras.callbacks.EarlyStopping(monitor='val_loss', patience=10)\n",
        "\n",
        "opt = optimizers.Adam(learning_rate=0.0000001)\n",
        "model_c.compile(optimizer=opt,\n",
        "            loss='binary_crossentropy',\n",
        "            metrics=['acc'])\n",
        "print(model_c.summary())\n",
        "#hist = model_c.fit(dx, metric_c[:,0], validation_split=0.2, batch_size=400, epochs=epochs,shuffle=False,verbose=0,callbacks=[early_stop,VerboseCallback(epochs)]) #, callbacks=[es_callback])\n",
        "hist = model_c.fit(train_x, train_y, validation_split=0.2, \n",
        "                   batch_size=5000, epochs=epochs,shuffle=False,use_multiprocessing=False,\n",
        "                   verbose=1, callbacks=[early_stop])"
      ],
      "metadata": {
        "colab": {
          "base_uri": "https://localhost:8080/",
          "height": 1000
        },
        "id": "2YQtp_A_gMno",
        "outputId": "788207b8-0e85-4ec4-80da-f6960e244b72"
      },
      "execution_count": null,
      "outputs": [
        {
          "output_type": "stream",
          "name": "stdout",
          "text": [
            "Model: \"sequential_3\"\n",
            "_________________________________________________________________\n",
            " Layer (type)                Output Shape              Param #   \n",
            "=================================================================\n",
            " dense_9 (Dense)             (None, 128)               1280      \n",
            "                                                                 \n",
            " dense_10 (Dense)            (None, 1)                 129       \n",
            "                                                                 \n",
            "=================================================================\n",
            "Total params: 1,409\n",
            "Trainable params: 1,409\n",
            "Non-trainable params: 0\n",
            "_________________________________________________________________\n",
            "None\n",
            "Epoch 1/500\n",
            "48/48 [==============================] - 1s 7ms/step - loss: 2173361.0000 - acc: 0.9922 - val_loss: 1742507.8750 - val_acc: 0.9937\n",
            "Epoch 2/500\n",
            "48/48 [==============================] - 0s 4ms/step - loss: 2172709.7500 - acc: 0.9922 - val_loss: 1741974.5000 - val_acc: 0.9937\n",
            "Epoch 3/500\n",
            "48/48 [==============================] - 0s 4ms/step - loss: 2172040.5000 - acc: 0.9922 - val_loss: 1741432.8750 - val_acc: 0.9937\n",
            "Epoch 4/500\n",
            "48/48 [==============================] - 0s 4ms/step - loss: 2171362.7500 - acc: 0.9922 - val_loss: 1740887.2500 - val_acc: 0.9937\n",
            "Epoch 5/500\n",
            "48/48 [==============================] - 0s 4ms/step - loss: 2170680.5000 - acc: 0.9922 - val_loss: 1740338.7500 - val_acc: 0.9937\n",
            "Epoch 6/500\n",
            "48/48 [==============================] - 0s 4ms/step - loss: 2169996.7500 - acc: 0.9922 - val_loss: 1739789.7500 - val_acc: 0.9937\n",
            "Epoch 7/500\n",
            "48/48 [==============================] - 0s 5ms/step - loss: 2169311.7500 - acc: 0.9922 - val_loss: 1739240.2500 - val_acc: 0.9937\n",
            "Epoch 8/500\n",
            "48/48 [==============================] - 0s 5ms/step - loss: 2168626.5000 - acc: 0.9922 - val_loss: 1738690.0000 - val_acc: 0.9937\n",
            "Epoch 9/500\n",
            "48/48 [==============================] - 0s 4ms/step - loss: 2167940.0000 - acc: 0.9922 - val_loss: 1738139.3750 - val_acc: 0.9937\n",
            "Epoch 10/500\n",
            "48/48 [==============================] - 0s 4ms/step - loss: 2167253.7500 - acc: 0.9922 - val_loss: 1737588.6250 - val_acc: 0.9937\n",
            "Epoch 11/500\n",
            "48/48 [==============================] - 0s 5ms/step - loss: 2166566.2500 - acc: 0.9922 - val_loss: 1737037.1250 - val_acc: 0.9937\n",
            "Epoch 12/500\n",
            "48/48 [==============================] - 0s 5ms/step - loss: 2165878.2500 - acc: 0.9922 - val_loss: 1736485.3750 - val_acc: 0.9937\n",
            "Epoch 13/500\n",
            "48/48 [==============================] - 0s 4ms/step - loss: 2165189.7500 - acc: 0.9922 - val_loss: 1735933.1250 - val_acc: 0.9937\n",
            "Epoch 14/500\n",
            "48/48 [==============================] - 0s 4ms/step - loss: 2164501.2500 - acc: 0.9922 - val_loss: 1735381.0000 - val_acc: 0.9937\n",
            "Epoch 15/500\n",
            "48/48 [==============================] - 0s 4ms/step - loss: 2163812.7500 - acc: 0.9922 - val_loss: 1734829.0000 - val_acc: 0.9937\n",
            "Epoch 16/500\n",
            "48/48 [==============================] - 0s 5ms/step - loss: 2163123.7500 - acc: 0.9922 - val_loss: 1734276.7500 - val_acc: 0.9937\n",
            "Epoch 17/500\n",
            "48/48 [==============================] - 0s 4ms/step - loss: 2162434.7500 - acc: 0.9922 - val_loss: 1733724.2500 - val_acc: 0.9937\n",
            "Epoch 18/500\n",
            "48/48 [==============================] - 0s 4ms/step - loss: 2161746.0000 - acc: 0.9922 - val_loss: 1733171.8750 - val_acc: 0.9937\n",
            "Epoch 19/500\n",
            "48/48 [==============================] - 0s 5ms/step - loss: 2161057.5000 - acc: 0.9922 - val_loss: 1732619.2500 - val_acc: 0.9937\n",
            "Epoch 20/500\n",
            "48/48 [==============================] - 0s 4ms/step - loss: 2160368.0000 - acc: 0.9922 - val_loss: 1732066.7500 - val_acc: 0.9937\n",
            "Epoch 21/500\n",
            "48/48 [==============================] - 0s 4ms/step - loss: 2159679.0000 - acc: 0.9922 - val_loss: 1731514.1250 - val_acc: 0.9937\n",
            "Epoch 22/500\n",
            "48/48 [==============================] - 0s 4ms/step - loss: 2158989.7500 - acc: 0.9922 - val_loss: 1730961.3750 - val_acc: 0.9937\n",
            "Epoch 23/500\n",
            "48/48 [==============================] - 0s 4ms/step - loss: 2158300.7500 - acc: 0.9922 - val_loss: 1730408.6250 - val_acc: 0.9937\n",
            "Epoch 24/500\n",
            "48/48 [==============================] - 0s 4ms/step - loss: 2157611.0000 - acc: 0.9922 - val_loss: 1729855.8750 - val_acc: 0.9937\n",
            "Epoch 25/500\n",
            "48/48 [==============================] - 0s 4ms/step - loss: 2156922.0000 - acc: 0.9922 - val_loss: 1729303.1250 - val_acc: 0.9937\n",
            "Epoch 26/500\n",
            "48/48 [==============================] - 0s 5ms/step - loss: 2156232.5000 - acc: 0.9922 - val_loss: 1728750.3750 - val_acc: 0.9937\n",
            "Epoch 27/500\n",
            "48/48 [==============================] - 0s 4ms/step - loss: 2155543.0000 - acc: 0.9922 - val_loss: 1728197.6250 - val_acc: 0.9937\n",
            "Epoch 28/500\n",
            "48/48 [==============================] - 0s 4ms/step - loss: 2154853.5000 - acc: 0.9922 - val_loss: 1727644.6250 - val_acc: 0.9937\n",
            "Epoch 29/500\n",
            "48/48 [==============================] - 0s 4ms/step - loss: 2154164.0000 - acc: 0.9922 - val_loss: 1727091.8750 - val_acc: 0.9937\n",
            "Epoch 30/500\n",
            "48/48 [==============================] - 0s 5ms/step - loss: 2153474.7500 - acc: 0.9922 - val_loss: 1726538.8750 - val_acc: 0.9937\n",
            "Epoch 31/500\n",
            "48/48 [==============================] - 0s 4ms/step - loss: 2152785.5000 - acc: 0.9922 - val_loss: 1725985.8750 - val_acc: 0.9937\n",
            "Epoch 32/500\n",
            "48/48 [==============================] - 0s 4ms/step - loss: 2152096.0000 - acc: 0.9922 - val_loss: 1725433.1250 - val_acc: 0.9937\n",
            "Epoch 33/500\n",
            "48/48 [==============================] - 0s 4ms/step - loss: 2151406.0000 - acc: 0.9922 - val_loss: 1724880.2500 - val_acc: 0.9937\n",
            "Epoch 34/500\n",
            "48/48 [==============================] - 0s 4ms/step - loss: 2150716.5000 - acc: 0.9922 - val_loss: 1724327.1250 - val_acc: 0.9937\n",
            "Epoch 35/500\n",
            "48/48 [==============================] - 0s 5ms/step - loss: 2150027.2500 - acc: 0.9922 - val_loss: 1723774.1250 - val_acc: 0.9937\n",
            "Epoch 36/500\n",
            "48/48 [==============================] - 0s 5ms/step - loss: 2149337.2500 - acc: 0.9922 - val_loss: 1723221.2500 - val_acc: 0.9937\n",
            "Epoch 37/500\n",
            "48/48 [==============================] - 0s 4ms/step - loss: 2148647.2500 - acc: 0.9922 - val_loss: 1722668.3750 - val_acc: 0.9937\n",
            "Epoch 38/500\n",
            "48/48 [==============================] - 0s 5ms/step - loss: 2147958.0000 - acc: 0.9922 - val_loss: 1722115.1250 - val_acc: 0.9937\n",
            "Epoch 39/500\n",
            "48/48 [==============================] - 0s 4ms/step - loss: 2147268.5000 - acc: 0.9922 - val_loss: 1721562.3750 - val_acc: 0.9937\n",
            "Epoch 40/500\n",
            "48/48 [==============================] - 0s 5ms/step - loss: 2146578.7500 - acc: 0.9922 - val_loss: 1721009.2500 - val_acc: 0.9937\n",
            "Epoch 41/500\n",
            "48/48 [==============================] - 0s 4ms/step - loss: 2145889.0000 - acc: 0.9922 - val_loss: 1720456.1250 - val_acc: 0.9937\n",
            "Epoch 42/500\n",
            "48/48 [==============================] - 0s 5ms/step - loss: 2145199.0000 - acc: 0.9922 - val_loss: 1719903.1250 - val_acc: 0.9937\n",
            "Epoch 43/500\n",
            "48/48 [==============================] - 0s 4ms/step - loss: 2144509.5000 - acc: 0.9922 - val_loss: 1719349.7500 - val_acc: 0.9937\n",
            "Epoch 44/500\n",
            "48/48 [==============================] - 0s 5ms/step - loss: 2143819.7500 - acc: 0.9922 - val_loss: 1718796.7500 - val_acc: 0.9937\n",
            "Epoch 45/500\n",
            "48/48 [==============================] - 0s 5ms/step - loss: 2143129.7500 - acc: 0.9922 - val_loss: 1718243.6250 - val_acc: 0.9937\n",
            "Epoch 46/500\n",
            "48/48 [==============================] - 0s 5ms/step - loss: 2142440.0000 - acc: 0.9922 - val_loss: 1717690.5000 - val_acc: 0.9937\n",
            "Epoch 47/500\n",
            "48/48 [==============================] - 0s 4ms/step - loss: 2141750.5000 - acc: 0.9922 - val_loss: 1717137.3750 - val_acc: 0.9937\n",
            "Epoch 48/500\n",
            "48/48 [==============================] - 0s 4ms/step - loss: 2141060.7500 - acc: 0.9922 - val_loss: 1716584.5000 - val_acc: 0.9937\n",
            "Epoch 49/500\n",
            "48/48 [==============================] - 0s 4ms/step - loss: 2140370.5000 - acc: 0.9922 - val_loss: 1716031.2500 - val_acc: 0.9937\n",
            "Epoch 50/500\n",
            "48/48 [==============================] - 0s 4ms/step - loss: 2139681.0000 - acc: 0.9922 - val_loss: 1715478.0000 - val_acc: 0.9937\n",
            "Epoch 51/500\n",
            "48/48 [==============================] - 0s 5ms/step - loss: 2138991.5000 - acc: 0.9922 - val_loss: 1714925.0000 - val_acc: 0.9937\n",
            "Epoch 52/500\n",
            "48/48 [==============================] - 0s 5ms/step - loss: 2138301.2500 - acc: 0.9922 - val_loss: 1714371.8750 - val_acc: 0.9937\n",
            "Epoch 53/500\n",
            "48/48 [==============================] - 0s 5ms/step - loss: 2137611.5000 - acc: 0.9922 - val_loss: 1713818.7500 - val_acc: 0.9937\n",
            "Epoch 54/500\n",
            "48/48 [==============================] - 0s 4ms/step - loss: 2136921.7500 - acc: 0.9922 - val_loss: 1713265.6250 - val_acc: 0.9937\n",
            "Epoch 55/500\n",
            "48/48 [==============================] - 0s 5ms/step - loss: 2136232.7500 - acc: 0.9922 - val_loss: 1712712.5000 - val_acc: 0.9937\n",
            "Epoch 56/500\n",
            "48/48 [==============================] - 0s 4ms/step - loss: 2135542.2500 - acc: 0.9922 - val_loss: 1712159.5000 - val_acc: 0.9937\n",
            "Epoch 57/500\n",
            "48/48 [==============================] - 0s 4ms/step - loss: 2134852.5000 - acc: 0.9922 - val_loss: 1711606.2500 - val_acc: 0.9937\n",
            "Epoch 58/500\n",
            "48/48 [==============================] - 0s 4ms/step - loss: 2134163.2500 - acc: 0.9922 - val_loss: 1711053.2500 - val_acc: 0.9937\n",
            "Epoch 59/500\n",
            "48/48 [==============================] - 0s 5ms/step - loss: 2133473.0000 - acc: 0.9922 - val_loss: 1710500.0000 - val_acc: 0.9937\n",
            "Epoch 60/500\n",
            "48/48 [==============================] - 0s 4ms/step - loss: 2132783.7500 - acc: 0.9922 - val_loss: 1709947.0000 - val_acc: 0.9937\n",
            "Epoch 61/500\n",
            "48/48 [==============================] - 0s 4ms/step - loss: 2132093.7500 - acc: 0.9922 - val_loss: 1709393.7500 - val_acc: 0.9937\n",
            "Epoch 62/500\n",
            "48/48 [==============================] - 0s 5ms/step - loss: 2131404.0000 - acc: 0.9922 - val_loss: 1708840.6250 - val_acc: 0.9937\n",
            "Epoch 63/500\n",
            "48/48 [==============================] - 0s 4ms/step - loss: 2130714.2500 - acc: 0.9922 - val_loss: 1708287.8750 - val_acc: 0.9937\n",
            "Epoch 64/500\n",
            "48/48 [==============================] - 0s 4ms/step - loss: 2130024.5000 - acc: 0.9922 - val_loss: 1707734.6250 - val_acc: 0.9937\n",
            "Epoch 65/500\n",
            "48/48 [==============================] - 0s 4ms/step - loss: 2129334.5000 - acc: 0.9922 - val_loss: 1707181.6250 - val_acc: 0.9937\n",
            "Epoch 66/500\n",
            "48/48 [==============================] - 0s 4ms/step - loss: 2128644.2500 - acc: 0.9922 - val_loss: 1706628.7500 - val_acc: 0.9937\n",
            "Epoch 67/500\n",
            "48/48 [==============================] - 0s 4ms/step - loss: 2127955.5000 - acc: 0.9922 - val_loss: 1706075.6250 - val_acc: 0.9937\n",
            "Epoch 68/500\n",
            "48/48 [==============================] - 0s 4ms/step - loss: 2127265.7500 - acc: 0.9922 - val_loss: 1705522.6250 - val_acc: 0.9937\n",
            "Epoch 69/500\n",
            "48/48 [==============================] - 0s 4ms/step - loss: 2126575.2500 - acc: 0.9922 - val_loss: 1704969.2500 - val_acc: 0.9937\n",
            "Epoch 70/500\n",
            "48/48 [==============================] - 0s 4ms/step - loss: 2125886.2500 - acc: 0.9922 - val_loss: 1704416.3750 - val_acc: 0.9937\n",
            "Epoch 71/500\n",
            "48/48 [==============================] - 0s 5ms/step - loss: 2125196.2500 - acc: 0.9922 - val_loss: 1703863.2500 - val_acc: 0.9937\n",
            "Epoch 72/500\n",
            "48/48 [==============================] - 0s 5ms/step - loss: 2124506.7500 - acc: 0.9922 - val_loss: 1703310.2500 - val_acc: 0.9937\n",
            "Epoch 73/500\n",
            "48/48 [==============================] - 0s 5ms/step - loss: 2123817.2500 - acc: 0.9922 - val_loss: 1702757.0000 - val_acc: 0.9937\n",
            "Epoch 74/500\n",
            "48/48 [==============================] - 0s 5ms/step - loss: 2123127.2500 - acc: 0.9922 - val_loss: 1702204.1250 - val_acc: 0.9937\n",
            "Epoch 75/500\n",
            "48/48 [==============================] - 0s 4ms/step - loss: 2122438.2500 - acc: 0.9922 - val_loss: 1701651.2500 - val_acc: 0.9937\n",
            "Epoch 76/500\n",
            "48/48 [==============================] - 0s 5ms/step - loss: 2121747.5000 - acc: 0.9922 - val_loss: 1701098.1250 - val_acc: 0.9937\n",
            "Epoch 77/500\n",
            "48/48 [==============================] - 0s 4ms/step - loss: 2121058.5000 - acc: 0.9922 - val_loss: 1700545.2500 - val_acc: 0.9937\n",
            "Epoch 78/500\n",
            "48/48 [==============================] - 0s 4ms/step - loss: 2120369.0000 - acc: 0.9922 - val_loss: 1699992.3750 - val_acc: 0.9937\n",
            "Epoch 79/500\n",
            "48/48 [==============================] - 0s 5ms/step - loss: 2119679.0000 - acc: 0.9922 - val_loss: 1699439.2500 - val_acc: 0.9937\n",
            "Epoch 80/500\n",
            "48/48 [==============================] - 0s 4ms/step - loss: 2118989.2500 - acc: 0.9922 - val_loss: 1698886.1250 - val_acc: 0.9937\n",
            "Epoch 81/500\n",
            "48/48 [==============================] - 0s 4ms/step - loss: 2118300.0000 - acc: 0.9922 - val_loss: 1698333.2500 - val_acc: 0.9937\n",
            "Epoch 82/500\n",
            "48/48 [==============================] - 0s 4ms/step - loss: 2117610.2500 - acc: 0.9922 - val_loss: 1697780.3750 - val_acc: 0.9937\n",
            "Epoch 83/500\n",
            "48/48 [==============================] - 0s 4ms/step - loss: 2116920.7500 - acc: 0.9922 - val_loss: 1697227.2500 - val_acc: 0.9937\n",
            "Epoch 84/500\n",
            "48/48 [==============================] - 0s 4ms/step - loss: 2116231.0000 - acc: 0.9922 - val_loss: 1696674.3750 - val_acc: 0.9937\n",
            "Epoch 85/500\n",
            "48/48 [==============================] - 0s 4ms/step - loss: 2115541.5000 - acc: 0.9922 - val_loss: 1696121.1250 - val_acc: 0.9937\n",
            "Epoch 86/500\n",
            "48/48 [==============================] - 0s 4ms/step - loss: 2114852.0000 - acc: 0.9922 - val_loss: 1695568.1250 - val_acc: 0.9937\n",
            "Epoch 87/500\n",
            "48/48 [==============================] - 0s 4ms/step - loss: 2114162.2500 - acc: 0.9922 - val_loss: 1695015.1250 - val_acc: 0.9937\n",
            "Epoch 88/500\n",
            "48/48 [==============================] - 0s 4ms/step - loss: 2113472.7500 - acc: 0.9922 - val_loss: 1694462.3750 - val_acc: 0.9937\n",
            "Epoch 89/500\n",
            "48/48 [==============================] - 0s 4ms/step - loss: 2112783.5000 - acc: 0.9922 - val_loss: 1693909.3750 - val_acc: 0.9937\n",
            "Epoch 90/500\n",
            "48/48 [==============================] - 0s 5ms/step - loss: 2112093.7500 - acc: 0.9922 - val_loss: 1693356.5000 - val_acc: 0.9937\n",
            "Epoch 91/500\n",
            "48/48 [==============================] - 0s 4ms/step - loss: 2111404.0000 - acc: 0.9922 - val_loss: 1692803.5000 - val_acc: 0.9937\n",
            "Epoch 92/500\n",
            "48/48 [==============================] - 0s 4ms/step - loss: 2110714.5000 - acc: 0.9922 - val_loss: 1692250.6250 - val_acc: 0.9937\n",
            "Epoch 93/500\n",
            "48/48 [==============================] - 0s 4ms/step - loss: 2110024.7500 - acc: 0.9922 - val_loss: 1691697.5000 - val_acc: 0.9937\n",
            "Epoch 94/500\n",
            "48/48 [==============================] - 0s 4ms/step - loss: 2109335.2500 - acc: 0.9922 - val_loss: 1691144.8750 - val_acc: 0.9937\n",
            "Epoch 95/500\n",
            "48/48 [==============================] - 0s 4ms/step - loss: 2108645.5000 - acc: 0.9922 - val_loss: 1690592.0000 - val_acc: 0.9937\n",
            "Epoch 96/500\n",
            "48/48 [==============================] - 0s 4ms/step - loss: 2107956.5000 - acc: 0.9922 - val_loss: 1690039.1250 - val_acc: 0.9937\n",
            "Epoch 97/500\n",
            "48/48 [==============================] - 0s 5ms/step - loss: 2107266.7500 - acc: 0.9922 - val_loss: 1689486.1250 - val_acc: 0.9937\n",
            "Epoch 98/500\n",
            "48/48 [==============================] - 0s 4ms/step - loss: 2106577.0000 - acc: 0.9922 - val_loss: 1688933.2500 - val_acc: 0.9937\n",
            "Epoch 99/500\n",
            "48/48 [==============================] - 0s 4ms/step - loss: 2105887.7500 - acc: 0.9922 - val_loss: 1688380.3750 - val_acc: 0.9937\n",
            "Epoch 100/500\n",
            "48/48 [==============================] - 0s 4ms/step - loss: 2105198.5000 - acc: 0.9922 - val_loss: 1687827.5000 - val_acc: 0.9937\n",
            "Epoch 101/500\n",
            "48/48 [==============================] - 0s 4ms/step - loss: 2104508.5000 - acc: 0.9922 - val_loss: 1687274.7500 - val_acc: 0.9937\n",
            "Epoch 102/500\n",
            "48/48 [==============================] - 0s 4ms/step - loss: 2103819.5000 - acc: 0.9922 - val_loss: 1686721.6250 - val_acc: 0.9937\n",
            "Epoch 103/500\n",
            "48/48 [==============================] - 0s 4ms/step - loss: 2103129.7500 - acc: 0.9922 - val_loss: 1686168.7500 - val_acc: 0.9937\n",
            "Epoch 104/500\n",
            "48/48 [==============================] - 0s 5ms/step - loss: 2102440.2500 - acc: 0.9922 - val_loss: 1685615.8750 - val_acc: 0.9937\n",
            "Epoch 105/500\n",
            "48/48 [==============================] - 0s 4ms/step - loss: 2101751.0000 - acc: 0.9922 - val_loss: 1685063.1250 - val_acc: 0.9937\n",
            "Epoch 106/500\n",
            "48/48 [==============================] - 0s 5ms/step - loss: 2101061.2500 - acc: 0.9922 - val_loss: 1684510.1250 - val_acc: 0.9937\n",
            "Epoch 107/500\n",
            "48/48 [==============================] - 0s 4ms/step - loss: 2100371.7500 - acc: 0.9922 - val_loss: 1683957.3750 - val_acc: 0.9937\n",
            "Epoch 108/500\n",
            "48/48 [==============================] - 0s 4ms/step - loss: 2099682.5000 - acc: 0.9922 - val_loss: 1683404.5000 - val_acc: 0.9937\n",
            "Epoch 109/500\n",
            "48/48 [==============================] - 0s 5ms/step - loss: 2098993.0000 - acc: 0.9922 - val_loss: 1682851.8750 - val_acc: 0.9937\n",
            "Epoch 110/500\n",
            "48/48 [==============================] - 0s 5ms/step - loss: 2098303.7500 - acc: 0.9922 - val_loss: 1682299.0000 - val_acc: 0.9937\n",
            "Epoch 111/500\n",
            "48/48 [==============================] - 0s 4ms/step - loss: 2097614.2500 - acc: 0.9922 - val_loss: 1681746.2500 - val_acc: 0.9937\n",
            "Epoch 112/500\n",
            "48/48 [==============================] - 0s 4ms/step - loss: 2096924.3750 - acc: 0.9922 - val_loss: 1681193.5000 - val_acc: 0.9937\n",
            "Epoch 113/500\n",
            "48/48 [==============================] - 0s 4ms/step - loss: 2096235.5000 - acc: 0.9922 - val_loss: 1680640.3750 - val_acc: 0.9937\n",
            "Epoch 114/500\n",
            "48/48 [==============================] - 0s 5ms/step - loss: 2095545.6250 - acc: 0.9922 - val_loss: 1680087.7500 - val_acc: 0.9937\n",
            "Epoch 115/500\n",
            "48/48 [==============================] - 0s 5ms/step - loss: 2094856.7500 - acc: 0.9922 - val_loss: 1679534.8750 - val_acc: 0.9937\n",
            "Epoch 116/500\n",
            "48/48 [==============================] - 0s 4ms/step - loss: 2094167.3750 - acc: 0.9922 - val_loss: 1678982.0000 - val_acc: 0.9937\n",
            "Epoch 117/500\n",
            "48/48 [==============================] - 0s 4ms/step - loss: 2093477.8750 - acc: 0.9922 - val_loss: 1678429.1250 - val_acc: 0.9937\n",
            "Epoch 118/500\n",
            "48/48 [==============================] - 0s 5ms/step - loss: 2092788.3750 - acc: 0.9922 - val_loss: 1677876.3750 - val_acc: 0.9937\n",
            "Epoch 119/500\n",
            "48/48 [==============================] - 0s 4ms/step - loss: 2092099.2500 - acc: 0.9922 - val_loss: 1677323.6250 - val_acc: 0.9937\n",
            "Epoch 120/500\n",
            "48/48 [==============================] - 0s 4ms/step - loss: 2091409.3750 - acc: 0.9922 - val_loss: 1676770.8750 - val_acc: 0.9937\n",
            "Epoch 121/500\n",
            "48/48 [==============================] - 0s 5ms/step - loss: 2090720.6250 - acc: 0.9922 - val_loss: 1676218.0000 - val_acc: 0.9937\n",
            "Epoch 122/500\n",
            "48/48 [==============================] - 0s 5ms/step - loss: 2090031.1250 - acc: 0.9922 - val_loss: 1675665.3750 - val_acc: 0.9937\n",
            "Epoch 123/500\n",
            "48/48 [==============================] - 0s 4ms/step - loss: 2089341.7500 - acc: 0.9922 - val_loss: 1675112.6250 - val_acc: 0.9937\n",
            "Epoch 124/500\n",
            "48/48 [==============================] - 0s 4ms/step - loss: 2088652.3750 - acc: 0.9922 - val_loss: 1674559.7500 - val_acc: 0.9937\n",
            "Epoch 125/500\n",
            "48/48 [==============================] - 0s 5ms/step - loss: 2087962.7500 - acc: 0.9922 - val_loss: 1674007.3750 - val_acc: 0.9937\n",
            "Epoch 126/500\n",
            "48/48 [==============================] - 0s 4ms/step - loss: 2087273.6250 - acc: 0.9922 - val_loss: 1673454.2500 - val_acc: 0.9937\n",
            "Epoch 127/500\n",
            "48/48 [==============================] - 0s 4ms/step - loss: 2086584.6250 - acc: 0.9922 - val_loss: 1672901.6250 - val_acc: 0.9937\n",
            "Epoch 128/500\n",
            "48/48 [==============================] - 0s 4ms/step - loss: 2085895.0000 - acc: 0.9922 - val_loss: 1672348.8750 - val_acc: 0.9937\n",
            "Epoch 129/500\n",
            "48/48 [==============================] - 0s 4ms/step - loss: 2085205.8750 - acc: 0.9922 - val_loss: 1671796.2500 - val_acc: 0.9937\n",
            "Epoch 130/500\n",
            "48/48 [==============================] - 0s 5ms/step - loss: 2084516.3750 - acc: 0.9922 - val_loss: 1671243.5000 - val_acc: 0.9937\n",
            "Epoch 131/500\n",
            "48/48 [==============================] - 0s 5ms/step - loss: 2083827.0000 - acc: 0.9922 - val_loss: 1670690.5000 - val_acc: 0.9937\n",
            "Epoch 132/500\n",
            "48/48 [==============================] - 0s 4ms/step - loss: 2083138.1250 - acc: 0.9922 - val_loss: 1670137.8750 - val_acc: 0.9937\n",
            "Epoch 133/500\n",
            "48/48 [==============================] - 0s 4ms/step - loss: 2082448.6250 - acc: 0.9922 - val_loss: 1669585.2500 - val_acc: 0.9937\n",
            "Epoch 134/500\n",
            "48/48 [==============================] - 0s 5ms/step - loss: 2081759.2500 - acc: 0.9922 - val_loss: 1669032.6250 - val_acc: 0.9937\n",
            "Epoch 135/500\n",
            "48/48 [==============================] - 0s 5ms/step - loss: 2081070.2500 - acc: 0.9922 - val_loss: 1668479.8750 - val_acc: 0.9937\n",
            "Epoch 136/500\n",
            "48/48 [==============================] - 0s 4ms/step - loss: 2080380.6250 - acc: 0.9922 - val_loss: 1667927.2500 - val_acc: 0.9937\n",
            "Epoch 137/500\n",
            "48/48 [==============================] - 0s 4ms/step - loss: 2079691.7500 - acc: 0.9922 - val_loss: 1667374.5000 - val_acc: 0.9937\n",
            "Epoch 138/500\n",
            "48/48 [==============================] - 0s 5ms/step - loss: 2079002.5000 - acc: 0.9922 - val_loss: 1666821.8750 - val_acc: 0.9937\n",
            "Epoch 139/500\n",
            "48/48 [==============================] - 0s 4ms/step - loss: 2078313.1250 - acc: 0.9922 - val_loss: 1666269.1250 - val_acc: 0.9937\n",
            "Epoch 140/500\n",
            "48/48 [==============================] - 0s 4ms/step - loss: 2077623.8750 - acc: 0.9922 - val_loss: 1665716.5000 - val_acc: 0.9937\n",
            "Epoch 141/500\n",
            "48/48 [==============================] - 0s 4ms/step - loss: 2076934.2500 - acc: 0.9922 - val_loss: 1665163.7500 - val_acc: 0.9937\n",
            "Epoch 142/500\n",
            "48/48 [==============================] - 0s 4ms/step - loss: 2076245.6250 - acc: 0.9922 - val_loss: 1664611.2500 - val_acc: 0.9937\n",
            "Epoch 143/500\n",
            "48/48 [==============================] - 0s 4ms/step - loss: 2075556.0000 - acc: 0.9922 - val_loss: 1664058.6250 - val_acc: 0.9937\n",
            "Epoch 144/500\n",
            "48/48 [==============================] - 0s 4ms/step - loss: 2074867.0000 - acc: 0.9922 - val_loss: 1663505.7500 - val_acc: 0.9937\n",
            "Epoch 145/500\n",
            "48/48 [==============================] - 0s 5ms/step - loss: 2074178.0000 - acc: 0.9922 - val_loss: 1662953.3750 - val_acc: 0.9937\n",
            "Epoch 146/500\n",
            "48/48 [==============================] - 0s 4ms/step - loss: 2073488.6250 - acc: 0.9922 - val_loss: 1662400.5000 - val_acc: 0.9937\n",
            "Epoch 147/500\n",
            "48/48 [==============================] - 0s 5ms/step - loss: 2072799.6250 - acc: 0.9922 - val_loss: 1661848.0000 - val_acc: 0.9937\n",
            "Epoch 148/500\n",
            "48/48 [==============================] - 0s 4ms/step - loss: 2072110.0000 - acc: 0.9922 - val_loss: 1661295.2500 - val_acc: 0.9937\n",
            "Epoch 149/500\n",
            "48/48 [==============================] - 0s 5ms/step - loss: 2071421.3750 - acc: 0.9922 - val_loss: 1660742.6250 - val_acc: 0.9937\n",
            "Epoch 150/500\n",
            "48/48 [==============================] - 0s 5ms/step - loss: 2070732.1250 - acc: 0.9922 - val_loss: 1660190.0000 - val_acc: 0.9937\n",
            "Epoch 151/500\n",
            "48/48 [==============================] - 0s 5ms/step - loss: 2070042.8750 - acc: 0.9922 - val_loss: 1659637.6250 - val_acc: 0.9937\n",
            "Epoch 152/500\n",
            "48/48 [==============================] - 0s 4ms/step - loss: 2069353.5000 - acc: 0.9922 - val_loss: 1659084.8750 - val_acc: 0.9937\n",
            "Epoch 153/500\n",
            "48/48 [==============================] - 0s 4ms/step - loss: 2068664.6250 - acc: 0.9922 - val_loss: 1658532.3750 - val_acc: 0.9937\n",
            "Epoch 154/500\n",
            "48/48 [==============================] - 0s 4ms/step - loss: 2067975.2500 - acc: 0.9922 - val_loss: 1657979.8750 - val_acc: 0.9937\n",
            "Epoch 155/500\n",
            "48/48 [==============================] - 0s 5ms/step - loss: 2067286.2500 - acc: 0.9922 - val_loss: 1657427.2500 - val_acc: 0.9937\n",
            "Epoch 156/500\n",
            "48/48 [==============================] - 0s 5ms/step - loss: 2066597.1250 - acc: 0.9922 - val_loss: 1656874.7500 - val_acc: 0.9937\n",
            "Epoch 157/500\n",
            "48/48 [==============================] - 0s 4ms/step - loss: 2065908.3750 - acc: 0.9922 - val_loss: 1656322.0000 - val_acc: 0.9937\n",
            "Epoch 158/500\n",
            "48/48 [==============================] - 0s 4ms/step - loss: 2065219.0000 - acc: 0.9922 - val_loss: 1655769.3750 - val_acc: 0.9937\n",
            "Epoch 159/500\n",
            "48/48 [==============================] - 0s 4ms/step - loss: 2064529.6250 - acc: 0.9922 - val_loss: 1655217.0000 - val_acc: 0.9937\n",
            "Epoch 160/500\n",
            "48/48 [==============================] - 0s 4ms/step - loss: 2063840.6250 - acc: 0.9922 - val_loss: 1654664.3750 - val_acc: 0.9937\n",
            "Epoch 161/500\n",
            "48/48 [==============================] - 0s 4ms/step - loss: 2063151.8750 - acc: 0.9922 - val_loss: 1654111.7500 - val_acc: 0.9937\n",
            "Epoch 162/500\n",
            "48/48 [==============================] - 0s 5ms/step - loss: 2062462.2500 - acc: 0.9922 - val_loss: 1653559.2500 - val_acc: 0.9937\n",
            "Epoch 163/500\n",
            "48/48 [==============================] - 0s 5ms/step - loss: 2061773.7500 - acc: 0.9922 - val_loss: 1653006.7500 - val_acc: 0.9937\n",
            "Epoch 164/500\n",
            "48/48 [==============================] - 0s 4ms/step - loss: 2061085.0000 - acc: 0.9922 - val_loss: 1652454.0000 - val_acc: 0.9937\n",
            "Epoch 165/500\n",
            "48/48 [==============================] - 0s 5ms/step - loss: 2060395.3750 - acc: 0.9922 - val_loss: 1651901.6250 - val_acc: 0.9937\n",
            "Epoch 166/500\n",
            "48/48 [==============================] - 0s 4ms/step - loss: 2059706.2500 - acc: 0.9922 - val_loss: 1651349.3750 - val_acc: 0.9937\n",
            "Epoch 167/500\n",
            "48/48 [==============================] - 0s 4ms/step - loss: 2059017.7500 - acc: 0.9922 - val_loss: 1650796.8750 - val_acc: 0.9937\n",
            "Epoch 168/500\n",
            "48/48 [==============================] - 0s 4ms/step - loss: 2058328.7500 - acc: 0.9922 - val_loss: 1650244.2500 - val_acc: 0.9937\n",
            "Epoch 169/500\n",
            "48/48 [==============================] - 0s 5ms/step - loss: 2057639.0000 - acc: 0.9922 - val_loss: 1649691.7500 - val_acc: 0.9937\n",
            "Epoch 170/500\n",
            "48/48 [==============================] - 0s 5ms/step - loss: 2056950.5000 - acc: 0.9922 - val_loss: 1649139.2500 - val_acc: 0.9937\n",
            "Epoch 171/500\n",
            "48/48 [==============================] - 0s 5ms/step - loss: 2056261.3750 - acc: 0.9922 - val_loss: 1648586.7500 - val_acc: 0.9937\n",
            "Epoch 172/500\n",
            "48/48 [==============================] - 0s 4ms/step - loss: 2055572.2500 - acc: 0.9922 - val_loss: 1648034.3750 - val_acc: 0.9937\n",
            "Epoch 173/500\n",
            "48/48 [==============================] - 0s 5ms/step - loss: 2054883.5000 - acc: 0.9922 - val_loss: 1647481.8750 - val_acc: 0.9937\n",
            "Epoch 174/500\n",
            "48/48 [==============================] - 0s 4ms/step - loss: 2054194.2500 - acc: 0.9922 - val_loss: 1646929.2500 - val_acc: 0.9937\n",
            "Epoch 175/500\n",
            "48/48 [==============================] - 0s 4ms/step - loss: 2053505.6250 - acc: 0.9922 - val_loss: 1646377.0000 - val_acc: 0.9937\n",
            "Epoch 176/500\n",
            "48/48 [==============================] - 0s 4ms/step - loss: 2052816.1250 - acc: 0.9922 - val_loss: 1645824.2500 - val_acc: 0.9937\n",
            "Epoch 177/500\n",
            "48/48 [==============================] - 0s 4ms/step - loss: 2052127.5000 - acc: 0.9922 - val_loss: 1645272.0000 - val_acc: 0.9937\n",
            "Epoch 178/500\n",
            "48/48 [==============================] - 0s 5ms/step - loss: 2051438.7500 - acc: 0.9922 - val_loss: 1644719.6250 - val_acc: 0.9937\n",
            "Epoch 179/500\n",
            "48/48 [==============================] - 0s 4ms/step - loss: 2050749.6250 - acc: 0.9922 - val_loss: 1644167.1250 - val_acc: 0.9937\n",
            "Epoch 180/500\n",
            "48/48 [==============================] - 0s 4ms/step - loss: 2050060.7500 - acc: 0.9922 - val_loss: 1643614.6250 - val_acc: 0.9937\n",
            "Epoch 181/500\n",
            "48/48 [==============================] - 0s 5ms/step - loss: 2049372.0000 - acc: 0.9922 - val_loss: 1643062.2500 - val_acc: 0.9937\n",
            "Epoch 182/500\n",
            "48/48 [==============================] - 0s 5ms/step - loss: 2048682.7500 - acc: 0.9922 - val_loss: 1642509.7500 - val_acc: 0.9937\n",
            "Epoch 183/500\n",
            "48/48 [==============================] - 0s 4ms/step - loss: 2047993.7500 - acc: 0.9922 - val_loss: 1641957.3750 - val_acc: 0.9937\n",
            "Epoch 184/500\n",
            "48/48 [==============================] - 0s 5ms/step - loss: 2047305.1250 - acc: 0.9922 - val_loss: 1641404.8750 - val_acc: 0.9937\n",
            "Epoch 185/500\n",
            "48/48 [==============================] - 0s 4ms/step - loss: 2046616.2500 - acc: 0.9922 - val_loss: 1640852.3750 - val_acc: 0.9937\n",
            "Epoch 186/500\n",
            "48/48 [==============================] - 0s 5ms/step - loss: 2045927.0000 - acc: 0.9922 - val_loss: 1640300.2500 - val_acc: 0.9937\n",
            "Epoch 187/500\n",
            "48/48 [==============================] - 0s 4ms/step - loss: 2045238.2500 - acc: 0.9922 - val_loss: 1639747.7500 - val_acc: 0.9937\n",
            "Epoch 188/500\n",
            "48/48 [==============================] - 0s 4ms/step - loss: 2044549.2500 - acc: 0.9922 - val_loss: 1639195.2500 - val_acc: 0.9937\n",
            "Epoch 189/500\n",
            "48/48 [==============================] - 0s 4ms/step - loss: 2043860.6250 - acc: 0.9922 - val_loss: 1638643.1250 - val_acc: 0.9937\n",
            "Epoch 190/500\n",
            "48/48 [==============================] - 0s 4ms/step - loss: 2043171.8750 - acc: 0.9922 - val_loss: 1638090.6250 - val_acc: 0.9937\n",
            "Epoch 191/500\n",
            "48/48 [==============================] - 0s 4ms/step - loss: 2042483.2500 - acc: 0.9922 - val_loss: 1637538.2500 - val_acc: 0.9937\n",
            "Epoch 192/500\n",
            "48/48 [==============================] - 0s 4ms/step - loss: 2041793.8750 - acc: 0.9922 - val_loss: 1636985.8750 - val_acc: 0.9937\n",
            "Epoch 193/500\n",
            "48/48 [==============================] - 0s 4ms/step - loss: 2041104.6250 - acc: 0.9922 - val_loss: 1636433.5000 - val_acc: 0.9937\n",
            "Epoch 194/500\n",
            "48/48 [==============================] - 0s 4ms/step - loss: 2040416.3750 - acc: 0.9922 - val_loss: 1635881.1250 - val_acc: 0.9937\n",
            "Epoch 195/500\n",
            "48/48 [==============================] - 0s 4ms/step - loss: 2039727.8750 - acc: 0.9922 - val_loss: 1635328.8750 - val_acc: 0.9937\n",
            "Epoch 196/500\n",
            "48/48 [==============================] - 0s 5ms/step - loss: 2039038.5000 - acc: 0.9922 - val_loss: 1634776.5000 - val_acc: 0.9937\n",
            "Epoch 197/500\n",
            "48/48 [==============================] - 0s 4ms/step - loss: 2038350.0000 - acc: 0.9922 - val_loss: 1634224.1250 - val_acc: 0.9937\n",
            "Epoch 198/500\n",
            "48/48 [==============================] - 0s 5ms/step - loss: 2037661.2500 - acc: 0.9922 - val_loss: 1633671.8750 - val_acc: 0.9937\n",
            "Epoch 199/500\n",
            "48/48 [==============================] - 0s 5ms/step - loss: 2036972.1250 - acc: 0.9922 - val_loss: 1633119.3750 - val_acc: 0.9937\n",
            "Epoch 200/500\n",
            "48/48 [==============================] - 0s 4ms/step - loss: 2036283.2500 - acc: 0.9922 - val_loss: 1632567.0000 - val_acc: 0.9937\n",
            "Epoch 201/500\n",
            "48/48 [==============================] - 0s 5ms/step - loss: 2035594.6250 - acc: 0.9922 - val_loss: 1632015.0000 - val_acc: 0.9937\n",
            "Epoch 202/500\n",
            "48/48 [==============================] - 0s 4ms/step - loss: 2034905.8750 - acc: 0.9922 - val_loss: 1631462.5000 - val_acc: 0.9937\n",
            "Epoch 203/500\n",
            "48/48 [==============================] - 0s 5ms/step - loss: 2034217.0000 - acc: 0.9922 - val_loss: 1630910.3750 - val_acc: 0.9937\n",
            "Epoch 204/500\n",
            "48/48 [==============================] - 0s 4ms/step - loss: 2033528.7500 - acc: 0.9922 - val_loss: 1630358.0000 - val_acc: 0.9937\n",
            "Epoch 205/500\n",
            "48/48 [==============================] - 0s 5ms/step - loss: 2032839.8750 - acc: 0.9922 - val_loss: 1629805.5000 - val_acc: 0.9937\n",
            "Epoch 206/500\n",
            "48/48 [==============================] - 0s 5ms/step - loss: 2032150.6250 - acc: 0.9922 - val_loss: 1629253.3750 - val_acc: 0.9937\n",
            "Epoch 207/500\n",
            "48/48 [==============================] - 0s 4ms/step - loss: 2031461.8750 - acc: 0.9922 - val_loss: 1628701.0000 - val_acc: 0.9937\n",
            "Epoch 208/500\n",
            "48/48 [==============================] - 0s 4ms/step - loss: 2030773.0000 - acc: 0.9922 - val_loss: 1628148.6250 - val_acc: 0.9937\n",
            "Epoch 209/500\n",
            "48/48 [==============================] - 0s 4ms/step - loss: 2030084.7500 - acc: 0.9922 - val_loss: 1627596.5000 - val_acc: 0.9937\n",
            "Epoch 210/500\n",
            "48/48 [==============================] - 0s 4ms/step - loss: 2029396.0000 - acc: 0.9922 - val_loss: 1627044.1250 - val_acc: 0.9937\n",
            "Epoch 211/500\n",
            "48/48 [==============================] - 0s 4ms/step - loss: 2028707.3750 - acc: 0.9922 - val_loss: 1626492.0000 - val_acc: 0.9937\n",
            "Epoch 212/500\n",
            "48/48 [==============================] - 0s 4ms/step - loss: 2028018.7500 - acc: 0.9922 - val_loss: 1625939.7500 - val_acc: 0.9937\n",
            "Epoch 213/500\n",
            "48/48 [==============================] - 0s 5ms/step - loss: 2027329.5000 - acc: 0.9922 - val_loss: 1625387.3750 - val_acc: 0.9937\n",
            "Epoch 214/500\n",
            "48/48 [==============================] - 0s 4ms/step - loss: 2026641.3750 - acc: 0.9922 - val_loss: 1624835.2500 - val_acc: 0.9937\n",
            "Epoch 215/500\n",
            "48/48 [==============================] - 0s 5ms/step - loss: 2025952.7500 - acc: 0.9922 - val_loss: 1624283.1250 - val_acc: 0.9937\n",
            "Epoch 216/500\n",
            "48/48 [==============================] - 0s 5ms/step - loss: 2025263.5000 - acc: 0.9922 - val_loss: 1623730.8750 - val_acc: 0.9937\n",
            "Epoch 217/500\n",
            "48/48 [==============================] - 0s 4ms/step - loss: 2024574.8750 - acc: 0.9922 - val_loss: 1623178.7500 - val_acc: 0.9937\n",
            "Epoch 218/500\n",
            "48/48 [==============================] - 0s 4ms/step - loss: 2023887.0000 - acc: 0.9922 - val_loss: 1622626.2500 - val_acc: 0.9937\n",
            "Epoch 219/500\n",
            "48/48 [==============================] - 0s 5ms/step - loss: 2023197.6250 - acc: 0.9922 - val_loss: 1622074.1250 - val_acc: 0.9937\n",
            "Epoch 220/500\n",
            "48/48 [==============================] - 0s 5ms/step - loss: 2022509.0000 - acc: 0.9922 - val_loss: 1621521.8750 - val_acc: 0.9937\n",
            "Epoch 221/500\n",
            "48/48 [==============================] - 0s 4ms/step - loss: 2021820.8750 - acc: 0.9922 - val_loss: 1620969.7500 - val_acc: 0.9937\n",
            "Epoch 222/500\n",
            "48/48 [==============================] - 0s 4ms/step - loss: 2021131.5000 - acc: 0.9922 - val_loss: 1620417.6250 - val_acc: 0.9937\n",
            "Epoch 223/500\n",
            "48/48 [==============================] - 0s 4ms/step - loss: 2020443.3750 - acc: 0.9922 - val_loss: 1619865.3750 - val_acc: 0.9937\n",
            "Epoch 224/500\n",
            "48/48 [==============================] - 0s 4ms/step - loss: 2019754.7500 - acc: 0.9922 - val_loss: 1619313.0000 - val_acc: 0.9937\n",
            "Epoch 225/500\n",
            "48/48 [==============================] - 0s 4ms/step - loss: 2019065.8750 - acc: 0.9922 - val_loss: 1618761.0000 - val_acc: 0.9937\n",
            "Epoch 226/500\n",
            "48/48 [==============================] - 0s 4ms/step - loss: 2018377.5000 - acc: 0.9922 - val_loss: 1618208.7500 - val_acc: 0.9937\n",
            "Epoch 227/500\n",
            "48/48 [==============================] - 0s 4ms/step - loss: 2017688.7500 - acc: 0.9922 - val_loss: 1617656.7500 - val_acc: 0.9937\n",
            "Epoch 228/500\n",
            "48/48 [==============================] - 0s 4ms/step - loss: 2017000.0000 - acc: 0.9922 - val_loss: 1617104.6250 - val_acc: 0.9937\n",
            "Epoch 229/500\n",
            "48/48 [==============================] - 0s 4ms/step - loss: 2016311.6250 - acc: 0.9922 - val_loss: 1616552.3750 - val_acc: 0.9937\n",
            "Epoch 230/500\n",
            "48/48 [==============================] - 0s 4ms/step - loss: 2015623.0000 - acc: 0.9922 - val_loss: 1616000.3750 - val_acc: 0.9937\n",
            "Epoch 231/500\n",
            "48/48 [==============================] - 0s 5ms/step - loss: 2014934.2500 - acc: 0.9922 - val_loss: 1615448.1250 - val_acc: 0.9937\n",
            "Epoch 232/500\n",
            "48/48 [==============================] - 0s 5ms/step - loss: 2014245.6250 - acc: 0.9922 - val_loss: 1614895.7500 - val_acc: 0.9937\n",
            "Epoch 233/500\n",
            "48/48 [==============================] - 0s 5ms/step - loss: 2013557.2500 - acc: 0.9922 - val_loss: 1614343.8750 - val_acc: 0.9937\n",
            "Epoch 234/500\n",
            "48/48 [==============================] - 0s 4ms/step - loss: 2012868.6250 - acc: 0.9922 - val_loss: 1613791.7500 - val_acc: 0.9937\n",
            "Epoch 235/500\n",
            "48/48 [==============================] - 0s 4ms/step - loss: 2012180.1250 - acc: 0.9922 - val_loss: 1613239.5000 - val_acc: 0.9937\n",
            "Epoch 236/500\n",
            "48/48 [==============================] - 0s 4ms/step - loss: 2011491.7500 - acc: 0.9922 - val_loss: 1612687.3750 - val_acc: 0.9937\n",
            "Epoch 237/500\n",
            "48/48 [==============================] - 0s 5ms/step - loss: 2010803.3750 - acc: 0.9922 - val_loss: 1612135.3750 - val_acc: 0.9937\n",
            "Epoch 238/500\n",
            "48/48 [==============================] - 0s 5ms/step - loss: 2010114.7500 - acc: 0.9922 - val_loss: 1611583.2500 - val_acc: 0.9937\n",
            "Epoch 239/500\n",
            "48/48 [==============================] - 0s 4ms/step - loss: 2009426.2500 - acc: 0.9922 - val_loss: 1611031.1250 - val_acc: 0.9937\n",
            "Epoch 240/500\n",
            "48/48 [==============================] - 0s 5ms/step - loss: 2008737.7500 - acc: 0.9922 - val_loss: 1610478.8750 - val_acc: 0.9937\n",
            "Epoch 241/500\n",
            "48/48 [==============================] - 0s 4ms/step - loss: 2008049.0000 - acc: 0.9922 - val_loss: 1609927.1250 - val_acc: 0.9937\n",
            "Epoch 242/500\n",
            "48/48 [==============================] - 0s 5ms/step - loss: 2007360.7500 - acc: 0.9922 - val_loss: 1609374.8750 - val_acc: 0.9937\n",
            "Epoch 243/500\n",
            "48/48 [==============================] - 0s 5ms/step - loss: 2006672.0000 - acc: 0.9922 - val_loss: 1608822.8750 - val_acc: 0.9937\n",
            "Epoch 244/500\n",
            "48/48 [==============================] - 0s 4ms/step - loss: 2005983.6250 - acc: 0.9922 - val_loss: 1608270.6250 - val_acc: 0.9937\n",
            "Epoch 245/500\n",
            "48/48 [==============================] - 0s 4ms/step - loss: 2005295.3750 - acc: 0.9922 - val_loss: 1607718.7500 - val_acc: 0.9937\n",
            "Epoch 246/500\n",
            "48/48 [==============================] - 0s 5ms/step - loss: 2004606.7500 - acc: 0.9922 - val_loss: 1607166.6250 - val_acc: 0.9937\n",
            "Epoch 247/500\n",
            "48/48 [==============================] - 0s 4ms/step - loss: 2003918.2500 - acc: 0.9922 - val_loss: 1606614.7500 - val_acc: 0.9937\n",
            "Epoch 248/500\n",
            "48/48 [==============================] - 0s 5ms/step - loss: 2003229.8750 - acc: 0.9922 - val_loss: 1606062.6250 - val_acc: 0.9937\n",
            "Epoch 249/500\n",
            "48/48 [==============================] - 0s 5ms/step - loss: 2002541.2500 - acc: 0.9922 - val_loss: 1605510.7500 - val_acc: 0.9937\n",
            "Epoch 250/500\n",
            "48/48 [==============================] - 0s 4ms/step - loss: 2001853.2500 - acc: 0.9922 - val_loss: 1604958.6250 - val_acc: 0.9937\n",
            "Epoch 251/500\n",
            "48/48 [==============================] - 0s 5ms/step - loss: 2001165.0000 - acc: 0.9922 - val_loss: 1604406.7500 - val_acc: 0.9937\n",
            "Epoch 252/500\n",
            "48/48 [==============================] - 0s 4ms/step - loss: 2000476.1250 - acc: 0.9922 - val_loss: 1603854.7500 - val_acc: 0.9937\n",
            "Epoch 253/500\n",
            "48/48 [==============================] - 0s 4ms/step - loss: 1999787.7500 - acc: 0.9922 - val_loss: 1603302.6250 - val_acc: 0.9937\n",
            "Epoch 254/500\n",
            "48/48 [==============================] - 0s 5ms/step - loss: 1999099.5000 - acc: 0.9922 - val_loss: 1602750.6250 - val_acc: 0.9937\n",
            "Epoch 255/500\n",
            "48/48 [==============================] - 0s 5ms/step - loss: 1998411.2500 - acc: 0.9922 - val_loss: 1602198.6250 - val_acc: 0.9937\n",
            "Epoch 256/500\n",
            "48/48 [==============================] - 0s 4ms/step - loss: 1997722.8750 - acc: 0.9922 - val_loss: 1601646.7500 - val_acc: 0.9937\n",
            "Epoch 257/500\n",
            "48/48 [==============================] - 0s 4ms/step - loss: 1997034.2500 - acc: 0.9922 - val_loss: 1601094.7500 - val_acc: 0.9937\n",
            "Epoch 258/500\n",
            "48/48 [==============================] - 0s 5ms/step - loss: 1996345.8750 - acc: 0.9922 - val_loss: 1600542.7500 - val_acc: 0.9937\n",
            "Epoch 259/500\n",
            "48/48 [==============================] - 0s 5ms/step - loss: 1995658.0000 - acc: 0.9922 - val_loss: 1599990.7500 - val_acc: 0.9937\n",
            "Epoch 260/500\n",
            "48/48 [==============================] - 0s 5ms/step - loss: 1994969.5000 - acc: 0.9922 - val_loss: 1599438.8750 - val_acc: 0.9937\n",
            "Epoch 261/500\n",
            "48/48 [==============================] - 0s 4ms/step - loss: 1994281.3750 - acc: 0.9922 - val_loss: 1598886.8750 - val_acc: 0.9937\n",
            "Epoch 262/500\n",
            "48/48 [==============================] - 0s 4ms/step - loss: 1993593.0000 - acc: 0.9922 - val_loss: 1598334.8750 - val_acc: 0.9937\n",
            "Epoch 263/500\n",
            "48/48 [==============================] - 0s 5ms/step - loss: 1992904.6250 - acc: 0.9922 - val_loss: 1597783.0000 - val_acc: 0.9937\n",
            "Epoch 264/500\n",
            "48/48 [==============================] - 0s 5ms/step - loss: 1992215.8750 - acc: 0.9922 - val_loss: 1597230.8750 - val_acc: 0.9937\n",
            "Epoch 265/500\n",
            "48/48 [==============================] - 0s 4ms/step - loss: 1991527.5000 - acc: 0.9922 - val_loss: 1596679.1250 - val_acc: 0.9937\n",
            "Epoch 266/500\n",
            "48/48 [==============================] - 0s 4ms/step - loss: 1990839.2500 - acc: 0.9922 - val_loss: 1596127.1250 - val_acc: 0.9937\n",
            "Epoch 267/500\n",
            "48/48 [==============================] - 0s 4ms/step - loss: 1990150.7500 - acc: 0.9922 - val_loss: 1595575.2500 - val_acc: 0.9937\n",
            "Epoch 268/500\n",
            "48/48 [==============================] - 0s 5ms/step - loss: 1989462.7500 - acc: 0.9922 - val_loss: 1595023.3750 - val_acc: 0.9937\n",
            "Epoch 269/500\n",
            "48/48 [==============================] - 0s 5ms/step - loss: 1988774.7500 - acc: 0.9922 - val_loss: 1594471.2500 - val_acc: 0.9937\n",
            "Epoch 270/500\n",
            "48/48 [==============================] - 0s 5ms/step - loss: 1988086.2500 - acc: 0.9922 - val_loss: 1593919.5000 - val_acc: 0.9937\n",
            "Epoch 271/500\n",
            "48/48 [==============================] - 0s 4ms/step - loss: 1987398.0000 - acc: 0.9922 - val_loss: 1593367.7500 - val_acc: 0.9937\n",
            "Epoch 272/500\n",
            "48/48 [==============================] - 0s 4ms/step - loss: 1986709.8750 - acc: 0.9922 - val_loss: 1592815.7500 - val_acc: 0.9937\n",
            "Epoch 273/500\n",
            "48/48 [==============================] - 0s 5ms/step - loss: 1986021.3750 - acc: 0.9922 - val_loss: 1592263.7500 - val_acc: 0.9937\n",
            "Epoch 274/500\n",
            "48/48 [==============================] - 0s 5ms/step - loss: 1985333.3750 - acc: 0.9922 - val_loss: 1591712.1250 - val_acc: 0.9937\n",
            "Epoch 275/500\n",
            "48/48 [==============================] - 0s 4ms/step - loss: 1984645.0000 - acc: 0.9922 - val_loss: 1591160.0000 - val_acc: 0.9937\n",
            "Epoch 276/500\n",
            "48/48 [==============================] - 0s 5ms/step - loss: 1983956.5000 - acc: 0.9922 - val_loss: 1590608.1250 - val_acc: 0.9937\n",
            "Epoch 277/500\n",
            "48/48 [==============================] - 0s 6ms/step - loss: 1983268.6250 - acc: 0.9922 - val_loss: 1590056.2500 - val_acc: 0.9937\n",
            "Epoch 278/500\n",
            "48/48 [==============================] - 0s 4ms/step - loss: 1982580.2500 - acc: 0.9922 - val_loss: 1589504.3750 - val_acc: 0.9937\n",
            "Epoch 279/500\n",
            "48/48 [==============================] - 0s 5ms/step - loss: 1981892.0000 - acc: 0.9922 - val_loss: 1588952.5000 - val_acc: 0.9937\n",
            "Epoch 280/500\n",
            "48/48 [==============================] - 0s 4ms/step - loss: 1981203.7500 - acc: 0.9922 - val_loss: 1588400.5000 - val_acc: 0.9937\n",
            "Epoch 281/500\n",
            "48/48 [==============================] - 0s 5ms/step - loss: 1980515.7500 - acc: 0.9922 - val_loss: 1587848.7500 - val_acc: 0.9937\n",
            "Epoch 282/500\n",
            "48/48 [==============================] - 0s 4ms/step - loss: 1979827.0000 - acc: 0.9922 - val_loss: 1587297.0000 - val_acc: 0.9937\n",
            "Epoch 283/500\n",
            "48/48 [==============================] - 0s 4ms/step - loss: 1979139.3750 - acc: 0.9922 - val_loss: 1586745.2500 - val_acc: 0.9937\n",
            "Epoch 284/500\n",
            "48/48 [==============================] - 0s 4ms/step - loss: 1978451.1250 - acc: 0.9922 - val_loss: 1586193.3750 - val_acc: 0.9937\n",
            "Epoch 285/500\n",
            "48/48 [==============================] - 0s 5ms/step - loss: 1977763.0000 - acc: 0.9922 - val_loss: 1585641.5000 - val_acc: 0.9937\n",
            "Epoch 286/500\n",
            "48/48 [==============================] - 0s 5ms/step - loss: 1977074.7500 - acc: 0.9922 - val_loss: 1585089.6250 - val_acc: 0.9937\n",
            "Epoch 287/500\n",
            "48/48 [==============================] - 0s 5ms/step - loss: 1976386.7500 - acc: 0.9922 - val_loss: 1584538.0000 - val_acc: 0.9937\n",
            "Epoch 288/500\n",
            "48/48 [==============================] - 0s 5ms/step - loss: 1975698.3750 - acc: 0.9922 - val_loss: 1583986.0000 - val_acc: 0.9937\n",
            "Epoch 289/500\n",
            "48/48 [==============================] - 0s 4ms/step - loss: 1975010.6250 - acc: 0.9922 - val_loss: 1583434.2500 - val_acc: 0.9937\n",
            "Epoch 290/500\n",
            "48/48 [==============================] - 0s 5ms/step - loss: 1974322.0000 - acc: 0.9922 - val_loss: 1582882.3750 - val_acc: 0.9937\n",
            "Epoch 291/500\n",
            "48/48 [==============================] - 0s 5ms/step - loss: 1973633.7500 - acc: 0.9922 - val_loss: 1582330.6250 - val_acc: 0.9937\n",
            "Epoch 292/500\n",
            "48/48 [==============================] - 0s 5ms/step - loss: 1972945.7500 - acc: 0.9922 - val_loss: 1581779.0000 - val_acc: 0.9937\n",
            "Epoch 293/500\n",
            "48/48 [==============================] - ETA: 0s - loss: 1972257.8750 - acc: 0.9922"
          ]
        },
        {
          "output_type": "error",
          "ename": "KeyboardInterrupt",
          "evalue": "ignored",
          "traceback": [
            "\u001b[0;31m---------------------------------------------------------------------------\u001b[0m",
            "\u001b[0;31mKeyboardInterrupt\u001b[0m                         Traceback (most recent call last)",
            "\u001b[0;32m<ipython-input-43-4417ee136be7>\u001b[0m in \u001b[0;36m<module>\u001b[0;34m()\u001b[0m\n\u001b[1;32m     19\u001b[0m hist = model_c.fit(train_x, train_y, validation_split=0.2, \n\u001b[1;32m     20\u001b[0m                    \u001b[0mbatch_size\u001b[0m\u001b[0;34m=\u001b[0m\u001b[0;36m5000\u001b[0m\u001b[0;34m,\u001b[0m \u001b[0mepochs\u001b[0m\u001b[0;34m=\u001b[0m\u001b[0mepochs\u001b[0m\u001b[0;34m,\u001b[0m\u001b[0mshuffle\u001b[0m\u001b[0;34m=\u001b[0m\u001b[0;32mFalse\u001b[0m\u001b[0;34m,\u001b[0m\u001b[0muse_multiprocessing\u001b[0m\u001b[0;34m=\u001b[0m\u001b[0;32mFalse\u001b[0m\u001b[0;34m,\u001b[0m\u001b[0;34m\u001b[0m\u001b[0;34m\u001b[0m\u001b[0m\n\u001b[0;32m---> 21\u001b[0;31m                    verbose=1, callbacks=[early_stop])\n\u001b[0m",
            "\u001b[0;32m/usr/local/lib/python3.7/dist-packages/keras/utils/traceback_utils.py\u001b[0m in \u001b[0;36merror_handler\u001b[0;34m(*args, **kwargs)\u001b[0m\n\u001b[1;32m     62\u001b[0m     \u001b[0mfiltered_tb\u001b[0m \u001b[0;34m=\u001b[0m \u001b[0;32mNone\u001b[0m\u001b[0;34m\u001b[0m\u001b[0;34m\u001b[0m\u001b[0m\n\u001b[1;32m     63\u001b[0m     \u001b[0;32mtry\u001b[0m\u001b[0;34m:\u001b[0m\u001b[0;34m\u001b[0m\u001b[0;34m\u001b[0m\u001b[0m\n\u001b[0;32m---> 64\u001b[0;31m       \u001b[0;32mreturn\u001b[0m \u001b[0mfn\u001b[0m\u001b[0;34m(\u001b[0m\u001b[0;34m*\u001b[0m\u001b[0margs\u001b[0m\u001b[0;34m,\u001b[0m \u001b[0;34m**\u001b[0m\u001b[0mkwargs\u001b[0m\u001b[0;34m)\u001b[0m\u001b[0;34m\u001b[0m\u001b[0;34m\u001b[0m\u001b[0m\n\u001b[0m\u001b[1;32m     65\u001b[0m     \u001b[0;32mexcept\u001b[0m \u001b[0mException\u001b[0m \u001b[0;32mas\u001b[0m \u001b[0me\u001b[0m\u001b[0;34m:\u001b[0m  \u001b[0;31m# pylint: disable=broad-except\u001b[0m\u001b[0;34m\u001b[0m\u001b[0;34m\u001b[0m\u001b[0m\n\u001b[1;32m     66\u001b[0m       \u001b[0mfiltered_tb\u001b[0m \u001b[0;34m=\u001b[0m \u001b[0m_process_traceback_frames\u001b[0m\u001b[0;34m(\u001b[0m\u001b[0me\u001b[0m\u001b[0;34m.\u001b[0m\u001b[0m__traceback__\u001b[0m\u001b[0;34m)\u001b[0m\u001b[0;34m\u001b[0m\u001b[0;34m\u001b[0m\u001b[0m\n",
            "\u001b[0;32m/usr/local/lib/python3.7/dist-packages/keras/engine/training.py\u001b[0m in \u001b[0;36mfit\u001b[0;34m(self, x, y, batch_size, epochs, verbose, callbacks, validation_split, validation_data, shuffle, class_weight, sample_weight, initial_epoch, steps_per_epoch, validation_steps, validation_batch_size, validation_freq, max_queue_size, workers, use_multiprocessing)\u001b[0m\n\u001b[1;32m   1429\u001b[0m               \u001b[0muse_multiprocessing\u001b[0m\u001b[0;34m=\u001b[0m\u001b[0muse_multiprocessing\u001b[0m\u001b[0;34m,\u001b[0m\u001b[0;34m\u001b[0m\u001b[0;34m\u001b[0m\u001b[0m\n\u001b[1;32m   1430\u001b[0m               \u001b[0mreturn_dict\u001b[0m\u001b[0;34m=\u001b[0m\u001b[0;32mTrue\u001b[0m\u001b[0;34m,\u001b[0m\u001b[0;34m\u001b[0m\u001b[0;34m\u001b[0m\u001b[0m\n\u001b[0;32m-> 1431\u001b[0;31m               _use_cached_eval_dataset=True)\n\u001b[0m\u001b[1;32m   1432\u001b[0m           \u001b[0mval_logs\u001b[0m \u001b[0;34m=\u001b[0m \u001b[0;34m{\u001b[0m\u001b[0;34m'val_'\u001b[0m \u001b[0;34m+\u001b[0m \u001b[0mname\u001b[0m\u001b[0;34m:\u001b[0m \u001b[0mval\u001b[0m \u001b[0;32mfor\u001b[0m \u001b[0mname\u001b[0m\u001b[0;34m,\u001b[0m \u001b[0mval\u001b[0m \u001b[0;32min\u001b[0m \u001b[0mval_logs\u001b[0m\u001b[0;34m.\u001b[0m\u001b[0mitems\u001b[0m\u001b[0;34m(\u001b[0m\u001b[0;34m)\u001b[0m\u001b[0;34m}\u001b[0m\u001b[0;34m\u001b[0m\u001b[0;34m\u001b[0m\u001b[0m\n\u001b[1;32m   1433\u001b[0m           \u001b[0mepoch_logs\u001b[0m\u001b[0;34m.\u001b[0m\u001b[0mupdate\u001b[0m\u001b[0;34m(\u001b[0m\u001b[0mval_logs\u001b[0m\u001b[0;34m)\u001b[0m\u001b[0;34m\u001b[0m\u001b[0;34m\u001b[0m\u001b[0m\n",
            "\u001b[0;32m/usr/local/lib/python3.7/dist-packages/keras/utils/traceback_utils.py\u001b[0m in \u001b[0;36merror_handler\u001b[0;34m(*args, **kwargs)\u001b[0m\n\u001b[1;32m     62\u001b[0m     \u001b[0mfiltered_tb\u001b[0m \u001b[0;34m=\u001b[0m \u001b[0;32mNone\u001b[0m\u001b[0;34m\u001b[0m\u001b[0;34m\u001b[0m\u001b[0m\n\u001b[1;32m     63\u001b[0m     \u001b[0;32mtry\u001b[0m\u001b[0;34m:\u001b[0m\u001b[0;34m\u001b[0m\u001b[0;34m\u001b[0m\u001b[0m\n\u001b[0;32m---> 64\u001b[0;31m       \u001b[0;32mreturn\u001b[0m \u001b[0mfn\u001b[0m\u001b[0;34m(\u001b[0m\u001b[0;34m*\u001b[0m\u001b[0margs\u001b[0m\u001b[0;34m,\u001b[0m \u001b[0;34m**\u001b[0m\u001b[0mkwargs\u001b[0m\u001b[0;34m)\u001b[0m\u001b[0;34m\u001b[0m\u001b[0;34m\u001b[0m\u001b[0m\n\u001b[0m\u001b[1;32m     65\u001b[0m     \u001b[0;32mexcept\u001b[0m \u001b[0mException\u001b[0m \u001b[0;32mas\u001b[0m \u001b[0me\u001b[0m\u001b[0;34m:\u001b[0m  \u001b[0;31m# pylint: disable=broad-except\u001b[0m\u001b[0;34m\u001b[0m\u001b[0;34m\u001b[0m\u001b[0m\n\u001b[1;32m     66\u001b[0m       \u001b[0mfiltered_tb\u001b[0m \u001b[0;34m=\u001b[0m \u001b[0m_process_traceback_frames\u001b[0m\u001b[0;34m(\u001b[0m\u001b[0me\u001b[0m\u001b[0;34m.\u001b[0m\u001b[0m__traceback__\u001b[0m\u001b[0;34m)\u001b[0m\u001b[0;34m\u001b[0m\u001b[0;34m\u001b[0m\u001b[0m\n",
            "\u001b[0;32m/usr/local/lib/python3.7/dist-packages/keras/engine/training.py\u001b[0m in \u001b[0;36mevaluate\u001b[0;34m(self, x, y, batch_size, verbose, sample_weight, steps, callbacks, max_queue_size, workers, use_multiprocessing, return_dict, **kwargs)\u001b[0m\n\u001b[1;32m   1708\u001b[0m       \u001b[0mself\u001b[0m\u001b[0;34m.\u001b[0m\u001b[0m_test_counter\u001b[0m\u001b[0;34m.\u001b[0m\u001b[0massign\u001b[0m\u001b[0;34m(\u001b[0m\u001b[0;36m0\u001b[0m\u001b[0;34m)\u001b[0m\u001b[0;34m\u001b[0m\u001b[0;34m\u001b[0m\u001b[0m\n\u001b[1;32m   1709\u001b[0m       \u001b[0mcallbacks\u001b[0m\u001b[0;34m.\u001b[0m\u001b[0mon_test_begin\u001b[0m\u001b[0;34m(\u001b[0m\u001b[0;34m)\u001b[0m\u001b[0;34m\u001b[0m\u001b[0;34m\u001b[0m\u001b[0m\n\u001b[0;32m-> 1710\u001b[0;31m       \u001b[0;32mfor\u001b[0m \u001b[0m_\u001b[0m\u001b[0;34m,\u001b[0m \u001b[0miterator\u001b[0m \u001b[0;32min\u001b[0m \u001b[0mdata_handler\u001b[0m\u001b[0;34m.\u001b[0m\u001b[0menumerate_epochs\u001b[0m\u001b[0;34m(\u001b[0m\u001b[0;34m)\u001b[0m\u001b[0;34m:\u001b[0m  \u001b[0;31m# Single epoch.\u001b[0m\u001b[0;34m\u001b[0m\u001b[0;34m\u001b[0m\u001b[0m\n\u001b[0m\u001b[1;32m   1711\u001b[0m         \u001b[0mself\u001b[0m\u001b[0;34m.\u001b[0m\u001b[0mreset_metrics\u001b[0m\u001b[0;34m(\u001b[0m\u001b[0;34m)\u001b[0m\u001b[0;34m\u001b[0m\u001b[0;34m\u001b[0m\u001b[0m\n\u001b[1;32m   1712\u001b[0m         \u001b[0;32mwith\u001b[0m \u001b[0mdata_handler\u001b[0m\u001b[0;34m.\u001b[0m\u001b[0mcatch_stop_iteration\u001b[0m\u001b[0;34m(\u001b[0m\u001b[0;34m)\u001b[0m\u001b[0;34m:\u001b[0m\u001b[0;34m\u001b[0m\u001b[0;34m\u001b[0m\u001b[0m\n",
            "\u001b[0;32m/usr/local/lib/python3.7/dist-packages/keras/engine/data_adapter.py\u001b[0m in \u001b[0;36menumerate_epochs\u001b[0;34m(self)\u001b[0m\n\u001b[1;32m   1189\u001b[0m     \u001b[0;34m\"\"\"Yields `(epoch, tf.data.Iterator)`.\"\"\"\u001b[0m\u001b[0;34m\u001b[0m\u001b[0;34m\u001b[0m\u001b[0m\n\u001b[1;32m   1190\u001b[0m     \u001b[0;32mwith\u001b[0m \u001b[0mself\u001b[0m\u001b[0;34m.\u001b[0m\u001b[0m_truncate_execution_to_epoch\u001b[0m\u001b[0;34m(\u001b[0m\u001b[0;34m)\u001b[0m\u001b[0;34m:\u001b[0m\u001b[0;34m\u001b[0m\u001b[0;34m\u001b[0m\u001b[0m\n\u001b[0;32m-> 1191\u001b[0;31m       \u001b[0mdata_iterator\u001b[0m \u001b[0;34m=\u001b[0m \u001b[0miter\u001b[0m\u001b[0;34m(\u001b[0m\u001b[0mself\u001b[0m\u001b[0;34m.\u001b[0m\u001b[0m_dataset\u001b[0m\u001b[0;34m)\u001b[0m\u001b[0;34m\u001b[0m\u001b[0;34m\u001b[0m\u001b[0m\n\u001b[0m\u001b[1;32m   1192\u001b[0m       \u001b[0;32mfor\u001b[0m \u001b[0mepoch\u001b[0m \u001b[0;32min\u001b[0m \u001b[0mrange\u001b[0m\u001b[0;34m(\u001b[0m\u001b[0mself\u001b[0m\u001b[0;34m.\u001b[0m\u001b[0m_initial_epoch\u001b[0m\u001b[0;34m,\u001b[0m \u001b[0mself\u001b[0m\u001b[0;34m.\u001b[0m\u001b[0m_epochs\u001b[0m\u001b[0;34m)\u001b[0m\u001b[0;34m:\u001b[0m\u001b[0;34m\u001b[0m\u001b[0;34m\u001b[0m\u001b[0m\n\u001b[1;32m   1193\u001b[0m         \u001b[0;32mif\u001b[0m \u001b[0mself\u001b[0m\u001b[0;34m.\u001b[0m\u001b[0m_insufficient_data\u001b[0m\u001b[0;34m:\u001b[0m  \u001b[0;31m# Set by `catch_stop_iteration`.\u001b[0m\u001b[0;34m\u001b[0m\u001b[0;34m\u001b[0m\u001b[0m\n",
            "\u001b[0;32m/usr/local/lib/python3.7/dist-packages/tensorflow/python/data/ops/dataset_ops.py\u001b[0m in \u001b[0;36m__iter__\u001b[0;34m(self)\u001b[0m\n\u001b[1;32m    484\u001b[0m     \u001b[0;32mif\u001b[0m \u001b[0mcontext\u001b[0m\u001b[0;34m.\u001b[0m\u001b[0mexecuting_eagerly\u001b[0m\u001b[0;34m(\u001b[0m\u001b[0;34m)\u001b[0m \u001b[0;32mor\u001b[0m \u001b[0mops\u001b[0m\u001b[0;34m.\u001b[0m\u001b[0minside_function\u001b[0m\u001b[0;34m(\u001b[0m\u001b[0;34m)\u001b[0m\u001b[0;34m:\u001b[0m\u001b[0;34m\u001b[0m\u001b[0;34m\u001b[0m\u001b[0m\n\u001b[1;32m    485\u001b[0m       \u001b[0;32mwith\u001b[0m \u001b[0mops\u001b[0m\u001b[0;34m.\u001b[0m\u001b[0mcolocate_with\u001b[0m\u001b[0;34m(\u001b[0m\u001b[0mself\u001b[0m\u001b[0;34m.\u001b[0m\u001b[0m_variant_tensor\u001b[0m\u001b[0;34m)\u001b[0m\u001b[0;34m:\u001b[0m\u001b[0;34m\u001b[0m\u001b[0;34m\u001b[0m\u001b[0m\n\u001b[0;32m--> 486\u001b[0;31m         \u001b[0;32mreturn\u001b[0m \u001b[0miterator_ops\u001b[0m\u001b[0;34m.\u001b[0m\u001b[0mOwnedIterator\u001b[0m\u001b[0;34m(\u001b[0m\u001b[0mself\u001b[0m\u001b[0;34m)\u001b[0m\u001b[0;34m\u001b[0m\u001b[0;34m\u001b[0m\u001b[0m\n\u001b[0m\u001b[1;32m    487\u001b[0m     \u001b[0;32melse\u001b[0m\u001b[0;34m:\u001b[0m\u001b[0;34m\u001b[0m\u001b[0;34m\u001b[0m\u001b[0m\n\u001b[1;32m    488\u001b[0m       raise RuntimeError(\"`tf.data.Dataset` only supports Python-style \"\n",
            "\u001b[0;32m/usr/local/lib/python3.7/dist-packages/tensorflow/python/data/ops/iterator_ops.py\u001b[0m in \u001b[0;36m__init__\u001b[0;34m(self, dataset, components, element_spec)\u001b[0m\n\u001b[1;32m    753\u001b[0m             \u001b[0;34m\"When `dataset` is provided, `element_spec` and `components` must \"\u001b[0m\u001b[0;34m\u001b[0m\u001b[0;34m\u001b[0m\u001b[0m\n\u001b[1;32m    754\u001b[0m             \"not be specified.\")\n\u001b[0;32m--> 755\u001b[0;31m       \u001b[0mself\u001b[0m\u001b[0;34m.\u001b[0m\u001b[0m_create_iterator\u001b[0m\u001b[0;34m(\u001b[0m\u001b[0mdataset\u001b[0m\u001b[0;34m)\u001b[0m\u001b[0;34m\u001b[0m\u001b[0;34m\u001b[0m\u001b[0m\n\u001b[0m\u001b[1;32m    756\u001b[0m \u001b[0;34m\u001b[0m\u001b[0m\n\u001b[1;32m    757\u001b[0m     \u001b[0mself\u001b[0m\u001b[0;34m.\u001b[0m\u001b[0m_get_next_call_count\u001b[0m \u001b[0;34m=\u001b[0m \u001b[0;36m0\u001b[0m\u001b[0;34m\u001b[0m\u001b[0;34m\u001b[0m\u001b[0m\n",
            "\u001b[0;32m/usr/local/lib/python3.7/dist-packages/tensorflow/python/data/ops/iterator_ops.py\u001b[0m in \u001b[0;36m_create_iterator\u001b[0;34m(self, dataset)\u001b[0m\n\u001b[1;32m    785\u001b[0m                 \u001b[0moutput_types\u001b[0m\u001b[0;34m=\u001b[0m\u001b[0mself\u001b[0m\u001b[0;34m.\u001b[0m\u001b[0m_flat_output_types\u001b[0m\u001b[0;34m,\u001b[0m\u001b[0;34m\u001b[0m\u001b[0;34m\u001b[0m\u001b[0m\n\u001b[1;32m    786\u001b[0m                 output_shapes=self._flat_output_shapes))\n\u001b[0;32m--> 787\u001b[0;31m         \u001b[0mgen_dataset_ops\u001b[0m\u001b[0;34m.\u001b[0m\u001b[0mmake_iterator\u001b[0m\u001b[0;34m(\u001b[0m\u001b[0mds_variant\u001b[0m\u001b[0;34m,\u001b[0m \u001b[0mself\u001b[0m\u001b[0;34m.\u001b[0m\u001b[0m_iterator_resource\u001b[0m\u001b[0;34m)\u001b[0m\u001b[0;34m\u001b[0m\u001b[0;34m\u001b[0m\u001b[0m\n\u001b[0m\u001b[1;32m    788\u001b[0m         \u001b[0;31m# Delete the resource when this object is deleted\u001b[0m\u001b[0;34m\u001b[0m\u001b[0;34m\u001b[0m\u001b[0;34m\u001b[0m\u001b[0m\n\u001b[1;32m    789\u001b[0m         self._resource_deleter = IteratorResourceDeleter(\n",
            "\u001b[0;32m/usr/local/lib/python3.7/dist-packages/tensorflow/python/ops/gen_dataset_ops.py\u001b[0m in \u001b[0;36mmake_iterator\u001b[0;34m(dataset, iterator, name)\u001b[0m\n\u001b[1;32m   3314\u001b[0m     \u001b[0;32mtry\u001b[0m\u001b[0;34m:\u001b[0m\u001b[0;34m\u001b[0m\u001b[0;34m\u001b[0m\u001b[0m\n\u001b[1;32m   3315\u001b[0m       _result = pywrap_tfe.TFE_Py_FastPathExecute(\n\u001b[0;32m-> 3316\u001b[0;31m         _ctx, \"MakeIterator\", name, dataset, iterator)\n\u001b[0m\u001b[1;32m   3317\u001b[0m       \u001b[0;32mreturn\u001b[0m \u001b[0m_result\u001b[0m\u001b[0;34m\u001b[0m\u001b[0;34m\u001b[0m\u001b[0m\n\u001b[1;32m   3318\u001b[0m     \u001b[0;32mexcept\u001b[0m \u001b[0m_core\u001b[0m\u001b[0;34m.\u001b[0m\u001b[0m_NotOkStatusException\u001b[0m \u001b[0;32mas\u001b[0m \u001b[0me\u001b[0m\u001b[0;34m:\u001b[0m\u001b[0;34m\u001b[0m\u001b[0;34m\u001b[0m\u001b[0m\n",
            "\u001b[0;31mKeyboardInterrupt\u001b[0m: "
          ]
        }
      ]
    },
    {
      "cell_type": "code",
      "source": [
        "#Naive Bayes model\n",
        "nb =GaussianNB()\n",
        "model_c = nb.fit(train_x, train_y)"
      ],
      "metadata": {
        "id": "JiI4RxTwpFLF"
      },
      "execution_count": null,
      "outputs": []
    },
    {
      "cell_type": "code",
      "source": [
        "from sklearn.ensemble import RandomForestClassifier\n",
        "\n",
        "model_c = RandomForestClassifier(n_estimators=120,max_depth=20)\n",
        "model_c.fit(train_x,train_y)"
      ],
      "metadata": {
        "id": "ONY7_5pJO5yM",
        "outputId": "8b9c0a7f-17b0-4f27-d68a-bf825e166632",
        "colab": {
          "base_uri": "https://localhost:8080/"
        }
      },
      "execution_count": null,
      "outputs": [
        {
          "output_type": "execute_result",
          "data": {
            "text/plain": [
              "RandomForestClassifier(max_depth=20, n_estimators=120)"
            ]
          },
          "metadata": {},
          "execution_count": 48
        }
      ]
    },
    {
      "cell_type": "code",
      "source": [
        "test_x = x[300000:310000]\n",
        "test_y = 1-y[300000:310000]\n",
        "test_x[df_num.columns] = ss.fit_transform(test_x[df_num.columns])"
      ],
      "metadata": {
        "id": "SAldYU2pipeS"
      },
      "execution_count": null,
      "outputs": []
    },
    {
      "cell_type": "code",
      "source": [
        "from sklearn.metrics import f1_score\n",
        "from sklearn.metrics import precision_recall_fscore_support\n",
        "\n",
        "pedict_y = model_c.predict(test_x)\n",
        "#ppy = [1 if py > 0.5 else 0 for py in pedict_y[:,0]]     \n",
        "ppy = [0 if py > 0.5 else 1 for py in pedict_y]              \n",
        "acc = precision_recall_fscore_support(test_y.values,np.asarray(ppy),average='binary')\n",
        "\n",
        "acc"
      ],
      "metadata": {
        "colab": {
          "base_uri": "https://localhost:8080/"
        },
        "id": "LJLPvy2Jj4gG",
        "outputId": "3bdd168c-8848-4172-e0aa-1827ad8f1604"
      },
      "execution_count": null,
      "outputs": [
        {
          "output_type": "execute_result",
          "data": {
            "text/plain": [
              "(0.9961, 1.0, 0.9980461900706378, None)"
            ]
          },
          "metadata": {},
          "execution_count": 54
        }
      ]
    },
    {
      "cell_type": "code",
      "source": [
        "ppy"
      ],
      "metadata": {
        "id": "IR_dmBtMQBbJ"
      },
      "execution_count": null,
      "outputs": []
    },
    {
      "cell_type": "code",
      "source": [
        "print(classification_report(test_y,ppy))"
      ],
      "metadata": {
        "colab": {
          "base_uri": "https://localhost:8080/"
        },
        "id": "8MMx2CoDlcQI",
        "outputId": "69cddb54-73b4-4af2-d920-19fce82de99b"
      },
      "execution_count": null,
      "outputs": [
        {
          "output_type": "stream",
          "name": "stdout",
          "text": [
            "              precision    recall  f1-score   support\n",
            "\n",
            "           0       0.00      0.00      0.00        39\n",
            "           1       1.00      1.00      1.00      9961\n",
            "\n",
            "    accuracy                           1.00     10000\n",
            "   macro avg       0.50      0.50      0.50     10000\n",
            "weighted avg       0.99      1.00      0.99     10000\n",
            "\n"
          ]
        }
      ]
    },
    {
      "cell_type": "code",
      "source": [
        "import math\n",
        "f1s = []\n",
        "batch_size = 10000\n",
        "batch = math.ceil(x[300000:-1].shape[0]/batch_size)\n",
        "for i in range(batch):\n",
        "    ux = x[300000:-1][i*batch_size:(i+1)*batch_size]\n",
        "    ux[df_num.columns] = ss.fit_transform(ux[df_num.columns])\n",
        "    uy = 1-y[300000:-1][i*batch_size:(i+1)*batch_size]\n",
        "    predict_y = model_c.predict(ux)\n",
        "    ppy = [0 if py > 0.5 else 1 for py in predict_y]       \n",
        "    f1 = precision_recall_fscore_support(uy, np.asarray(ppy),average='binary')\n",
        "    print(\"f1:\",f1[2])\n",
        "    f1s.append(f1[2])"
      ],
      "metadata": {
        "colab": {
          "base_uri": "https://localhost:8080/"
        },
        "id": "uCYSv-lMlmha",
        "outputId": "91c1e983-f49d-4d0e-c5fc-6e826fed2252"
      },
      "execution_count": null,
      "outputs": [
        {
          "output_type": "stream",
          "name": "stdout",
          "text": [
            "f1: 0.9980461900706378\n",
            "f1: 0.99964987745711\n",
            "f1: 0.9970915655400662\n",
            "f1: 0.9994496973335335\n",
            "f1: 0.9977951493285228\n",
            "f1: 0.9976444644915552\n",
            "f1: 0.9980963831279431\n",
            "f1: 0.9976444644915552\n",
            "f1: 0.9986481750362989\n",
            "f1: 0.9959335307997389\n",
            "f1: 0.99849774661993\n",
            "f1: 0.9975942261427425\n",
            "f1: 0.9973932223781832\n",
            "f1: 0.9981967541574834\n",
            "f1: 0.9993996397838703\n",
            "f1: 0.9987484355444306\n",
            "f1: 0.9978453675402115\n",
            "f1: 0.9963869931754317\n",
            "f1: 0.9991993594875901\n",
            "f1: 0.9973429588409285\n",
            "f1: 0.9988987886675343\n",
            "f1: 0.997895580719511\n",
            "f1: 0.9981967541574834\n",
            "f1: 0.9971418542847114\n",
            "f1: 0.9993996397838703\n",
            "f1: 0.9968903601163607\n",
            "f1: 0.9978453675402115\n",
            "f1: 0.9960343356257216\n",
            "f1: 0.9981967541574834\n",
            "f1: 0.9955805544395339\n",
            "f1: 0.9963869931754317\n",
            "f1: 0.9973932223781832\n",
            "f1: 0.9963366286947357\n",
            "f1: 0.9973429588409285\n",
            "f1: 0.9968903601163607\n",
            "f1: 0.9973932223781832\n",
            "f1: 0.9964877069744105\n",
            "f1: 0.9961351202128194\n",
            "f1: 0.9944190255920358\n",
            "f1: 0.9980963831279431\n",
            "f1: 0.9982469321312296\n",
            "f1: 0.9954796584630838\n",
            "f1: 0.998547894446948\n",
            "f1: 0.9976444644915552\n",
            "f1: 0.9973429588409285\n",
            "f1: 0.9979959919839679\n",
            "f1: 0.9978453675402115\n",
            "f1: 0.9955301089849832\n",
            "f1: 0.997895580719511\n",
            "f1: 0.9977951493285228\n",
            "f1: 0.997242416645776\n",
            "f1: 0.9986481750362989\n",
            "f1: 0.9987484355444306\n",
            "f1: 0.9967897271268058\n",
            "f1: 0.9989488963411582\n",
            "f1: 0.9987484355444306\n",
            "f1: 0.998397435897436\n",
            "f1: 0.9974937343358395\n",
            "f1: 0.9982971050786338\n",
            "f1: 0.9966387397782571\n",
            "f1: 0.9974434808762345\n",
            "f1: 0.9981967541574834\n",
            "f1: 0.9963869931754317\n",
            "f1: 0.9966387397782571\n",
            "f1: 0.996538056294215\n",
            "f1: 0.9962358845671266\n",
            "f1: 0.9973429588409285\n",
            "f1: 0.9958327057287745\n",
            "f1: 0.9973932223781832\n",
            "f1: 0.9973429588409285\n",
            "f1: 0.997242416645776\n",
            "f1: 0.9954796584630838\n",
            "f1: 0.9956309948274996\n",
            "f1: 0.9980461900706378\n",
            "f1: 0.9976946978049513\n",
            "f1: 0.9950758717716812\n",
            "f1: 0.9945201347343019\n",
            "f1: 0.997242416645776\n",
            "f1: 0.9990991892703432\n",
            "f1: 0.9969909729187563\n",
            "f1: 0.9986983078001402\n",
            "f1: 0.9970412717516675\n",
            "f1: 0.998447593770344\n",
            "f1: 0.9970412717516675\n",
            "f1: 0.9980963831279431\n",
            "f1: 0.9980461900706378\n",
            "f1: 0.995176848874598\n",
            "f1: 0.9961351202128194\n",
            "f1: 0.9950253756092658\n",
            "f1: 0.9970412717516675\n",
            "f1: 0.9976946978049513\n",
            "f1: 0.9955301089849832\n",
            "f1: 0.9977449260836884\n",
            "f1: 0.9973932223781832\n",
            "f1: 0.9979959919839679\n",
            "f1: 0.997292690263712\n",
            "f1: 0.9977951493285228\n",
            "f1: 0.9980963831279431\n",
            "f1: 0.9961351202128194\n",
            "f1: 0.9950758717716812\n",
            "f1: 0.9990490966418097\n",
            "f1: 0.9977449260836884\n",
            "f1: 0.997242416645776\n",
            "f1: 0.9976444644915552\n",
            "f1: 0.998598037252153\n",
            "f1: 0.997242416645776\n",
            "f1: 0.9992995096567597\n",
            "f1: 0.9973932223781832\n",
            "f1: 0.9973932223781832\n",
            "f1: 0.99849774661993\n",
            "f1: 0.998998998998999\n",
            "f1: 0.9971418542847114\n",
            "f1: 0.9973429588409285\n",
            "f1: 0.9958831207952605\n",
            "f1: 0.9971418542847114\n",
            "f1: 0.9990490966418097\n",
            "f1: 0.9981465711566397\n",
            "f1: 0.9981967541574834\n",
            "f1: 0.996185504918691\n",
            "f1: 0.9992995096567597\n",
            "f1: 0.997895580719511\n",
            "f1: 0.9967897271268058\n",
            "f1: 0.9979959919839679\n",
            "f1: 0.9975942261427425\n",
            "f1: 0.998998998998999\n",
            "f1: 0.9960847304487501\n",
            "f1: 0.9977449260836884\n",
            "f1: 0.9959335307997389\n",
            "f1: 0.9966387397782571\n",
            "f1: 0.9981967541574834\n",
            "f1: 0.9953787422141852\n",
            "f1: 0.9990991892703432\n",
            "f1: 0.9968903601163607\n",
            "f1: 0.998598037252153\n",
            "f1: 0.9979959919839679\n",
            "f1: 0.9971921379863617\n",
            "f1: 0.9982469321312296\n",
            "f1: 0.9987484355444306\n",
            "f1: 0.9973429588409285\n",
            "f1: 0.9970412717516675\n",
            "f1: 0.998397435897436\n",
            "f1: 0.9992995096567597\n",
            "f1: 0.998397435897436\n",
            "f1: 0.998598037252153\n",
            "f1: 0.9987985582699239\n",
            "f1: 0.9976444644915552\n",
            "f1: 0.998397435897436\n",
            "f1: 0.9991993594875901\n",
            "f1: 0.9982971050786338\n",
            "f1: 0.9994496973335335\n",
            "f1: 0.9992995096567597\n",
            "f1: 0.9996999099729919\n",
            "f1: 1.0\n",
            "f1: 1.0\n",
            "f1: 1.0\n",
            "f1: 1.0\n"
          ]
        }
      ]
    },
    {
      "cell_type": "code",
      "source": [
        "plt.figure(figsize=(20,5))\n",
        "plt.plot(f1s)"
      ],
      "metadata": {
        "colab": {
          "base_uri": "https://localhost:8080/",
          "height": 288
        },
        "id": "1BDlT0TIrWTh",
        "outputId": "62a40dc6-8197-4238-840d-52968e614a18"
      },
      "execution_count": null,
      "outputs": [
        {
          "output_type": "execute_result",
          "data": {
            "text/plain": [
              "[<matplotlib.lines.Line2D at 0x7fed70733e50>]"
            ]
          },
          "metadata": {},
          "execution_count": 58
        },
        {
          "output_type": "display_data",
          "data": {
            "text/plain": [
              "<Figure size 1440x360 with 1 Axes>"
            ],
            "image/png": "[encoded data removed]"
          },
          "metadata": {
            "needs_background": "light"
          }
        }
      ]
    },
    {
      "cell_type": "markdown",
      "source": [
        "# 다른거...."
      ],
      "metadata": {
        "id": "3PHGGf1MQvh4"
      }
    },
    {
      "cell_type": "code",
      "source": [
        "!kaggle datasets download \"ealtman2019/credit-card-transactions\"\n"
      ],
      "metadata": {
        "id": "zf96qkd3Qx0i",
        "outputId": "e550c4c3-0a21-4350-8195-e3900ac6bd74",
        "colab": {
          "base_uri": "https://localhost:8080/"
        }
      },
      "execution_count": 1,
      "outputs": [
        {
          "output_type": "stream",
          "name": "stdout",
          "text": [
            "credit-card-transactions.zip: Skipping, found more recently modified local copy (use --force to force download)\n"
          ]
        }
      ]
    },
    {
      "cell_type": "code",
      "source": [
        "!unzip credit-card-transactions.zip"
      ],
      "metadata": {
        "id": "oCuHS1KXRZuv",
        "outputId": "a7d19b08-6a62-467c-f099-dd231fcea203",
        "colab": {
          "base_uri": "https://localhost:8080/"
        }
      },
      "execution_count": 4,
      "outputs": [
        {
          "output_type": "stream",
          "name": "stdout",
          "text": [
            "Archive:  credit-card-transactions.zip\n",
            "  inflating: User0_credit_card_transactions.csv  \n",
            "  inflating: credit_card_transactions-ibm_v2.csv  \n",
            "  inflating: sd254_cards.csv         \n",
            "  inflating: sd254_users.csv         \n"
          ]
        }
      ]
    },
    {
      "cell_type": "code",
      "source": [
        "df = pd.read_csv(\"credit_card_transactions-ibm_v2.csv\")"
      ],
      "metadata": {
        "id": "_vurfq5URbfr"
      },
      "execution_count": 4,
      "outputs": []
    },
    {
      "cell_type": "code",
      "source": [
        "df.info()"
      ],
      "metadata": {
        "id": "_eei2GXORs-k",
        "outputId": "116b4e1e-7cf4-4250-c14a-fbbd2d40ba7e",
        "colab": {
          "base_uri": "https://localhost:8080/"
        }
      },
      "execution_count": 5,
      "outputs": [
        {
          "output_type": "stream",
          "name": "stdout",
          "text": [
            "<class 'pandas.core.frame.DataFrame'>\n",
            "RangeIndex: 24386900 entries, 0 to 24386899\n",
            "Data columns (total 15 columns):\n",
            " #   Column          Dtype  \n",
            "---  ------          -----  \n",
            " 0   User            int64  \n",
            " 1   Card            int64  \n",
            " 2   Year            int64  \n",
            " 3   Month           int64  \n",
            " 4   Day             int64  \n",
            " 5   Time            object \n",
            " 6   Amount          object \n",
            " 7   Use Chip        object \n",
            " 8   Merchant Name   int64  \n",
            " 9   Merchant City   object \n",
            " 10  Merchant State  object \n",
            " 11  Zip             float64\n",
            " 12  MCC             int64  \n",
            " 13  Errors?         object \n",
            " 14  Is Fraud?       object \n",
            "dtypes: float64(1), int64(7), object(7)\n",
            "memory usage: 2.7+ GB\n"
          ]
        }
      ]
    },
    {
      "cell_type": "code",
      "source": [
        "df.head() "
      ],
      "metadata": {
        "colab": {
          "base_uri": "https://localhost:8080/",
          "height": 374
        },
        "id": "D0Ke2d1pscz3",
        "outputId": "5b2d1190-0531-4708-b1d1-91552f6181c6"
      },
      "execution_count": 6,
      "outputs": [
        {
          "output_type": "execute_result",
          "data": {
            "text/plain": [
              "   User  Card  Year  Month  Day   Time   Amount           Use Chip  \\\n",
              "0     0     0  2002      9    1  06:21  $134.09  Swipe Transaction   \n",
              "1     0     0  2002      9    1  06:42   $38.48  Swipe Transaction   \n",
              "2     0     0  2002      9    2  06:22  $120.34  Swipe Transaction   \n",
              "3     0     0  2002      9    2  17:45  $128.95  Swipe Transaction   \n",
              "4     0     0  2002      9    3  06:23  $104.71  Swipe Transaction   \n",
              "\n",
              "         Merchant Name  Merchant City Merchant State      Zip   MCC Errors?  \\\n",
              "0  3527213246127876953       La Verne             CA  91750.0  5300     NaN   \n",
              "1  -727612092139916043  Monterey Park             CA  91754.0  5411     NaN   \n",
              "2  -727612092139916043  Monterey Park             CA  91754.0  5411     NaN   \n",
              "3  3414527459579106770  Monterey Park             CA  91754.0  5651     NaN   \n",
              "4  5817218446178736267       La Verne             CA  91750.0  5912     NaN   \n",
              "\n",
              "  Is Fraud?  \n",
              "0        No  \n",
              "1        No  \n",
              "2        No  \n",
              "3        No  \n",
              "4        No  "
            ],
            "text/html": [
              "\n",
              "  <div id=\"df-a81aecf4-ecd6-4a84-a3db-03d826d2c0ec\">\n",
              "    <div class=\"colab-df-container\">\n",
              "      <div>\n",
              "<style scoped>\n",
              "    .dataframe tbody tr th:only-of-type {\n",
              "        vertical-align: middle;\n",
              "    }\n",
              "\n",
              "    .dataframe tbody tr th {\n",
              "        vertical-align: top;\n",
              "    }\n",
              "\n",
              "    .dataframe thead th {\n",
              "        text-align: right;\n",
              "    }\n",
              "</style>\n",
              "<table border=\"1\" class=\"dataframe\">\n",
              "  <thead>\n",
              "    <tr style=\"text-align: right;\">\n",
              "      <th></th>\n",
              "      <th>User</th>\n",
              "      <th>Card</th>\n",
              "      <th>Year</th>\n",
              "      <th>Month</th>\n",
              "      <th>Day</th>\n",
              "      <th>Time</th>\n",
              "      <th>Amount</th>\n",
              "      <th>Use Chip</th>\n",
              "      <th>Merchant Name</th>\n",
              "      <th>Merchant City</th>\n",
              "      <th>Merchant State</th>\n",
              "      <th>Zip</th>\n",
              "      <th>MCC</th>\n",
              "      <th>Errors?</th>\n",
              "      <th>Is Fraud?</th>\n",
              "    </tr>\n",
              "  </thead>\n",
              "  <tbody>\n",
              "    <tr>\n",
              "      <th>0</th>\n",
              "      <td>0</td>\n",
              "      <td>0</td>\n",
              "      <td>2002</td>\n",
              "      <td>9</td>\n",
              "      <td>1</td>\n",
              "      <td>06:21</td>\n",
              "      <td>$134.09</td>\n",
              "      <td>Swipe Transaction</td>\n",
              "      <td>3527213246127876953</td>\n",
              "      <td>La Verne</td>\n",
              "      <td>CA</td>\n",
              "      <td>91750.0</td>\n",
              "      <td>5300</td>\n",
              "      <td>NaN</td>\n",
              "      <td>No</td>\n",
              "    </tr>\n",
              "    <tr>\n",
              "      <th>1</th>\n",
              "      <td>0</td>\n",
              "      <td>0</td>\n",
              "      <td>2002</td>\n",
              "      <td>9</td>\n",
              "      <td>1</td>\n",
              "      <td>06:42</td>\n",
              "      <td>$38.48</td>\n",
              "      <td>Swipe Transaction</td>\n",
              "      <td>-727612092139916043</td>\n",
              "      <td>Monterey Park</td>\n",
              "      <td>CA</td>\n",
              "      <td>91754.0</td>\n",
              "      <td>5411</td>\n",
              "      <td>NaN</td>\n",
              "      <td>No</td>\n",
              "    </tr>\n",
              "    <tr>\n",
              "      <th>2</th>\n",
              "      <td>0</td>\n",
              "      <td>0</td>\n",
              "      <td>2002</td>\n",
              "      <td>9</td>\n",
              "      <td>2</td>\n",
              "      <td>06:22</td>\n",
              "      <td>$120.34</td>\n",
              "      <td>Swipe Transaction</td>\n",
              "      <td>-727612092139916043</td>\n",
              "      <td>Monterey Park</td>\n",
              "      <td>CA</td>\n",
              "      <td>91754.0</td>\n",
              "      <td>5411</td>\n",
              "      <td>NaN</td>\n",
              "      <td>No</td>\n",
              "    </tr>\n",
              "    <tr>\n",
              "      <th>3</th>\n",
              "      <td>0</td>\n",
              "      <td>0</td>\n",
              "      <td>2002</td>\n",
              "      <td>9</td>\n",
              "      <td>2</td>\n",
              "      <td>17:45</td>\n",
              "      <td>$128.95</td>\n",
              "      <td>Swipe Transaction</td>\n",
              "      <td>3414527459579106770</td>\n",
              "      <td>Monterey Park</td>\n",
              "      <td>CA</td>\n",
              "      <td>91754.0</td>\n",
              "      <td>5651</td>\n",
              "      <td>NaN</td>\n",
              "      <td>No</td>\n",
              "    </tr>\n",
              "    <tr>\n",
              "      <th>4</th>\n",
              "      <td>0</td>\n",
              "      <td>0</td>\n",
              "      <td>2002</td>\n",
              "      <td>9</td>\n",
              "      <td>3</td>\n",
              "      <td>06:23</td>\n",
              "      <td>$104.71</td>\n",
              "      <td>Swipe Transaction</td>\n",
              "      <td>5817218446178736267</td>\n",
              "      <td>La Verne</td>\n",
              "      <td>CA</td>\n",
              "      <td>91750.0</td>\n",
              "      <td>5912</td>\n",
              "      <td>NaN</td>\n",
              "      <td>No</td>\n",
              "    </tr>\n",
              "  </tbody>\n",
              "</table>\n",
              "</div>\n",
              "      <button class=\"colab-df-convert\" onclick=\"convertToInteractive('df-a81aecf4-ecd6-4a84-a3db-03d826d2c0ec')\"\n",
              "              title=\"Convert this dataframe to an interactive table.\"\n",
              "              style=\"display:none;\">\n",
              "        \n",
              "  <svg xmlns=\"http://www.w3.org/2000/svg\" height=\"24px\"viewBox=\"0 0 24 24\"\n",
              "       width=\"24px\">\n",
              "    <path d=\"M0 0h24v24H0V0z\" fill=\"none\"/>\n",
              "    <path d=\"M18.56 5.44l.94 2.06.94-2.06 2.06-.94-2.06-.94-.94-2.06-.94 2.06-2.06.94zm-11 1L8.5 8.5l.94-2.06 2.06-.94-2.06-.94L8.5 2.5l-.94 2.06-2.06.94zm10 10l.94 2.06.94-2.06 2.06-.94-2.06-.94-.94-2.06-.94 2.06-2.06.94z\"/><path d=\"M17.41 7.96l-1.37-1.37c-.4-.4-.92-.59-1.43-.59-.52 0-1.04.2-1.43.59L10.3 9.45l-7.72 7.72c-.78.78-.78 2.05 0 2.83L4 21.41c.39.39.9.59 1.41.59.51 0 1.02-.2 1.41-.59l7.78-7.78 2.81-2.81c.8-.78.8-2.07 0-2.86zM5.41 20L4 18.59l7.72-7.72 1.47 1.35L5.41 20z\"/>\n",
              "  </svg>\n",
              "      </button>\n",
              "      \n",
              "  <style>\n",
              "    .colab-df-container {\n",
              "      display:flex;\n",
              "      flex-wrap:wrap;\n",
              "      gap: 12px;\n",
              "    }\n",
              "\n",
              "    .colab-df-convert {\n",
              "      background-color: #E8F0FE;\n",
              "      border: none;\n",
              "      border-radius: 50%;\n",
              "      cursor: pointer;\n",
              "      display: none;\n",
              "      fill: #1967D2;\n",
              "      height: 32px;\n",
              "      padding: 0 0 0 0;\n",
              "      width: 32px;\n",
              "    }\n",
              "\n",
              "    .colab-df-convert:hover {\n",
              "      background-color: #E2EBFA;\n",
              "      box-shadow: 0px 1px 2px rgba(60, 64, 67, 0.3), 0px 1px 3px 1px rgba(60, 64, 67, 0.15);\n",
              "      fill: #174EA6;\n",
              "    }\n",
              "\n",
              "    [theme=dark] .colab-df-convert {\n",
              "      background-color: #3B4455;\n",
              "      fill: #D2E3FC;\n",
              "    }\n",
              "\n",
              "    [theme=dark] .colab-df-convert:hover {\n",
              "      background-color: #434B5C;\n",
              "      box-shadow: 0px 1px 3px 1px rgba(0, 0, 0, 0.15);\n",
              "      filter: drop-shadow(0px 1px 2px rgba(0, 0, 0, 0.3));\n",
              "      fill: #FFFFFF;\n",
              "    }\n",
              "  </style>\n",
              "\n",
              "      <script>\n",
              "        const buttonEl =\n",
              "          document.querySelector('#df-a81aecf4-ecd6-4a84-a3db-03d826d2c0ec button.colab-df-convert');\n",
              "        buttonEl.style.display =\n",
              "          google.colab.kernel.accessAllowed ? 'block' : 'none';\n",
              "\n",
              "        async function convertToInteractive(key) {\n",
              "          const element = document.querySelector('#df-a81aecf4-ecd6-4a84-a3db-03d826d2c0ec');\n",
              "          const dataTable =\n",
              "            await google.colab.kernel.invokeFunction('convertToInteractive',\n",
              "                                                     [key], {});\n",
              "          if (!dataTable) return;\n",
              "\n",
              "          const docLinkHtml = 'Like what you see? Visit the ' +\n",
              "            '<a target=\"_blank\" href=https://colab.research.google.com/notebooks/data_table.ipynb>data table notebook</a>'\n",
              "            + ' to learn more about interactive tables.';\n",
              "          element.innerHTML = '';\n",
              "          dataTable['output_type'] = 'display_data';\n",
              "          await google.colab.output.renderOutput(dataTable, element);\n",
              "          const docLink = document.createElement('div');\n",
              "          docLink.innerHTML = docLinkHtml;\n",
              "          element.appendChild(docLink);\n",
              "        }\n",
              "      </script>\n",
              "    </div>\n",
              "  </div>\n",
              "  "
            ]
          },
          "metadata": {},
          "execution_count": 6
        }
      ]
    },
    {
      "cell_type": "code",
      "source": [
        "df['Year'].value_counts()"
      ],
      "metadata": {
        "id": "y7vwWfg-TWRO",
        "outputId": "37ae38c5-7317-4b30-bcad-473402d98870",
        "colab": {
          "base_uri": "https://localhost:8080/"
        }
      },
      "execution_count": 7,
      "outputs": [
        {
          "output_type": "execute_result",
          "data": {
            "text/plain": [
              "2019    1723938\n",
              "2017    1723360\n",
              "2018    1721615\n",
              "2016    1708924\n",
              "2015    1701371\n",
              "2014    1672343\n",
              "2013    1650917\n",
              "2012    1610829\n",
              "2011    1570551\n",
              "2010    1491225\n",
              "2009    1355434\n",
              "2008    1223460\n",
              "2007    1064483\n",
              "2006     908793\n",
              "2005     746653\n",
              "2004     597003\n",
              "2003     466408\n",
              "2002     350732\n",
              "2020     336500\n",
              "2001     257998\n",
              "2000     177729\n",
              "1999     118250\n",
              "1998      78345\n",
              "1997      49753\n",
              "1996      29945\n",
              "1995      20928\n",
              "1994      14316\n",
              "1993       8378\n",
              "1992       5134\n",
              "1991       1585\n",
              "Name: Year, dtype: int64"
            ]
          },
          "metadata": {},
          "execution_count": 7
        }
      ]
    },
    {
      "cell_type": "code",
      "source": [
        "import numpy as np \n",
        "import pandas as pd \n",
        "import os\n",
        "import lightgbm as lgb\n",
        "from sklearn.model_selection import train_test_split\n",
        "from sklearn.metrics import classification_report"
      ],
      "metadata": {
        "id": "JSaR70w1TnqE"
      },
      "execution_count": 8,
      "outputs": []
    },
    {
      "cell_type": "code",
      "source": [
        "df['Is Fraud?']=df['Is Fraud?'].replace({'No':0,'Yes':1}) "
      ],
      "metadata": {
        "id": "R0wC-1UlsntM"
      },
      "execution_count": 9,
      "outputs": []
    },
    {
      "cell_type": "code",
      "source": [
        "df.isnull().sum() "
      ],
      "metadata": {
        "colab": {
          "base_uri": "https://localhost:8080/"
        },
        "id": "pHwU5iwwsolQ",
        "outputId": "a8adf4b6-e1bb-456a-8f21-6cd3a8c68190"
      },
      "execution_count": 29,
      "outputs": [
        {
          "output_type": "execute_result",
          "data": {
            "text/plain": [
              "User                     0\n",
              "Card                     0\n",
              "Year                     0\n",
              "Month                    0\n",
              "Day                      0\n",
              "Time                     0\n",
              "Amount                   0\n",
              "Use Chip                 0\n",
              "Merchant Name            0\n",
              "Merchant City            0\n",
              "Merchant State     2720821\n",
              "Zip                2878135\n",
              "MCC                      0\n",
              "Errors?           23998469\n",
              "Is Fraud?                0\n",
              "dtype: int64"
            ]
          },
          "metadata": {},
          "execution_count": 29
        }
      ]
    },
    {
      "cell_type": "code",
      "source": [
        "df['Errors?']=df['Errors?'].fillna('NAN')\n",
        "df['Errors?']=df['Errors?'].apply(lambda value:value=='NAN')\n",
        "df['Errors?'].value_counts()"
      ],
      "metadata": {
        "colab": {
          "base_uri": "https://localhost:8080/"
        },
        "id": "rrgFjCBCsxuj",
        "outputId": "9314f01d-5520-46d4-f644-b441f311b0f9"
      },
      "execution_count": 10,
      "outputs": [
        {
          "output_type": "execute_result",
          "data": {
            "text/plain": [
              "True     23998469\n",
              "False      388431\n",
              "Name: Errors?, dtype: int64"
            ]
          },
          "metadata": {},
          "execution_count": 10
        }
      ]
    },
    {
      "cell_type": "code",
      "source": [
        "df['Use Chip'].unique()\n",
        "df['is online']=df['Use Chip'].apply(lambda value:value=='Online Transaction')"
      ],
      "metadata": {
        "id": "aLf8fr5us1OV"
      },
      "execution_count": 11,
      "outputs": []
    },
    {
      "cell_type": "code",
      "source": [
        "from sklearn.preprocessing import LabelEncoder\n",
        "df['Use Chip']=df['Use Chip'].replace({'Swipe Transaction':0, 'Online Transaction':1, 'Chip Transaction':2})\n",
        "df['Zip'] = df['Zip'].fillna(df['Zip'].mean())  \n",
        "df['Amount'] = df['Amount'].apply(lambda value: float(value.split(\"$\")[1]))\n",
        "df['Hour'] = df['Time'].apply(lambda value: int(value.split(\":\")[0]))\n",
        "df['Minutes'] = df['Time'].apply(lambda value: int(value.split(\":\")[1]))\n",
        "df.drop(['Time'], axis=1, inplace=True)     \n",
        "df['Merchant State']=df['Merchant State'].fillna('NAN')    \n",
        "df['Merchant City']=df['Merchant City'].fillna('NAN') \n",
        "df['is vozmes']=df['Amount'].apply(lambda value: value<0)  \n",
        "df['abs_amount']=df['Amount'].apply(lambda value: abs(value))"
      ],
      "metadata": {
        "id": "Y5EEeXi_s8xx"
      },
      "execution_count": 12,
      "outputs": []
    },
    {
      "cell_type": "code",
      "source": [
        "#encoding categorial features\n",
        "le=LabelEncoder() \n",
        "df['Merchant State']=le.fit_transform(df['Merchant State'])\n",
        "le=LabelEncoder()\n",
        "df['Merchant City']=le.fit_transform(df['Merchant City'])"
      ],
      "metadata": {
        "id": "q8HGsnhdtDGt"
      },
      "execution_count": 13,
      "outputs": []
    },
    {
      "cell_type": "code",
      "source": [
        "X = df[df['Year']==2007].drop(['Is Fraud?'],axis=1)\n",
        "y = df[df['Year']==2007]['Is Fraud?']"
      ],
      "metadata": {
        "id": "81ySMOyotS8D"
      },
      "execution_count": 16,
      "outputs": []
    },
    {
      "cell_type": "code",
      "source": [
        "random_state=42\n",
        "X_train, X_test, y_train, y_test = train_test_split(X, y, test_size = 0.3, random_state = 0, stratify=y)"
      ],
      "metadata": {
        "id": "km19iFSrtVo1"
      },
      "execution_count": 17,
      "outputs": []
    },
    {
      "cell_type": "code",
      "source": [
        "!pip install catboost"
      ],
      "metadata": {
        "colab": {
          "base_uri": "https://localhost:8080/"
        },
        "id": "KKJUbIaVty1D",
        "outputId": "6ba42fa4-4cbc-420c-b7d3-3a7c9386ee73"
      },
      "execution_count": 19,
      "outputs": [
        {
          "output_type": "stream",
          "name": "stdout",
          "text": [
            "Looking in indexes: https://pypi.org/simple, https://us-python.pkg.dev/colab-wheels/public/simple/\n",
            "Collecting catboost\n",
            "  Downloading catboost-1.0.6-cp37-none-manylinux1_x86_64.whl (76.6 MB)\n",
            "\u001b[K     |████████████████████████████████| 76.6 MB 1.7 MB/s \n",
            "\u001b[?25hRequirement already satisfied: six in /usr/local/lib/python3.7/dist-packages (from catboost) (1.15.0)\n",
            "Requirement already satisfied: plotly in /usr/local/lib/python3.7/dist-packages (from catboost) (5.5.0)\n",
            "Requirement already satisfied: scipy in /usr/local/lib/python3.7/dist-packages (from catboost) (1.4.1)\n",
            "Requirement already satisfied: matplotlib in /usr/local/lib/python3.7/dist-packages (from catboost) (3.2.2)\n",
            "Requirement already satisfied: pandas>=0.24.0 in /usr/local/lib/python3.7/dist-packages (from catboost) (1.3.5)\n",
            "Requirement already satisfied: graphviz in /usr/local/lib/python3.7/dist-packages (from catboost) (0.10.1)\n",
            "Requirement already satisfied: numpy>=1.16.0 in /usr/local/lib/python3.7/dist-packages (from catboost) (1.21.6)\n",
            "Requirement already satisfied: pytz>=2017.3 in /usr/local/lib/python3.7/dist-packages (from pandas>=0.24.0->catboost) (2022.1)\n",
            "Requirement already satisfied: python-dateutil>=2.7.3 in /usr/local/lib/python3.7/dist-packages (from pandas>=0.24.0->catboost) (2.8.2)\n",
            "Requirement already satisfied: cycler>=0.10 in /usr/local/lib/python3.7/dist-packages (from matplotlib->catboost) (0.11.0)\n",
            "Requirement already satisfied: pyparsing!=2.0.4,!=2.1.2,!=2.1.6,>=2.0.1 in /usr/local/lib/python3.7/dist-packages (from matplotlib->catboost) (3.0.9)\n",
            "Requirement already satisfied: kiwisolver>=1.0.1 in /usr/local/lib/python3.7/dist-packages (from matplotlib->catboost) (1.4.3)\n",
            "Requirement already satisfied: typing-extensions in /usr/local/lib/python3.7/dist-packages (from kiwisolver>=1.0.1->matplotlib->catboost) (4.1.1)\n",
            "Requirement already satisfied: tenacity>=6.2.0 in /usr/local/lib/python3.7/dist-packages (from plotly->catboost) (8.0.1)\n",
            "Installing collected packages: catboost\n",
            "Successfully installed catboost-1.0.6\n"
          ]
        }
      ]
    },
    {
      "cell_type": "code",
      "source": [
        "#cat boost classifier\n",
        "\n",
        "from catboost import CatBoostClassifier\n",
        "cat = CatBoostClassifier()\n",
        "cat.fit(X_train, y_train,plot=True) \n",
        "y_pred=cat.predict(X_test)   \n",
        "print(classification_report(y_test, y_pred))    "
      ],
      "metadata": {
        "colab": {
          "base_uri": "https://localhost:8080/",
          "height": 1000,
          "referenced_widgets": [
            "9447c776c70e4cd8b2fbe042d0ff62b7"
          ]
        },
        "id": "Xov_vyRCtYan",
        "outputId": "9a5d78d4-0601-4a04-fdcb-26c0949d75cc"
      },
      "execution_count": 18,
      "outputs": [
        {
          "output_type": "display_data",
          "data": {
            "text/plain": [
              "MetricVisualizer(layout=Layout(align_self='stretch', height='500px'))"
            ],
            "application/vnd.jupyter.widget-view+json": {
              "version_major": 2,
              "version_minor": 0,
              "model_id": "9447c776c70e4cd8b2fbe042d0ff62b7"
            }
          },
          "metadata": {}
        },
        {
          "output_type": "stream",
          "name": "stdout",
          "text": [
            "Learning rate set to 0.173532\n",
            "0:\tlearn: 0.2804422\ttotal: 76.8ms\tremaining: 1m 16s\n",
            "1:\tlearn: 0.1237842\ttotal: 147ms\tremaining: 1m 13s\n",
            "2:\tlearn: 0.0629390\ttotal: 219ms\tremaining: 1m 12s\n",
            "3:\tlearn: 0.0327727\ttotal: 290ms\tremaining: 1m 12s\n",
            "4:\tlearn: 0.0228540\ttotal: 368ms\tremaining: 1m 13s\n",
            "5:\tlearn: 0.0164815\ttotal: 439ms\tremaining: 1m 12s\n",
            "6:\tlearn: 0.0132591\ttotal: 507ms\tremaining: 1m 11s\n",
            "7:\tlearn: 0.0109302\ttotal: 574ms\tremaining: 1m 11s\n",
            "8:\tlearn: 0.0097941\ttotal: 640ms\tremaining: 1m 10s\n",
            "9:\tlearn: 0.0092202\ttotal: 705ms\tremaining: 1m 9s\n",
            "10:\tlearn: 0.0085182\ttotal: 784ms\tremaining: 1m 10s\n",
            "11:\tlearn: 0.0082279\ttotal: 855ms\tremaining: 1m 10s\n",
            "12:\tlearn: 0.0078466\ttotal: 926ms\tremaining: 1m 10s\n",
            "13:\tlearn: 0.0077174\ttotal: 995ms\tremaining: 1m 10s\n",
            "14:\tlearn: 0.0075105\ttotal: 1.06s\tremaining: 1m 9s\n",
            "15:\tlearn: 0.0072272\ttotal: 1.14s\tremaining: 1m 10s\n",
            "16:\tlearn: 0.0069812\ttotal: 1.2s\tremaining: 1m 9s\n",
            "17:\tlearn: 0.0069276\ttotal: 1.27s\tremaining: 1m 9s\n",
            "18:\tlearn: 0.0067318\ttotal: 1.34s\tremaining: 1m 9s\n",
            "19:\tlearn: 0.0065878\ttotal: 1.41s\tremaining: 1m 9s\n",
            "20:\tlearn: 0.0064625\ttotal: 1.49s\tremaining: 1m 9s\n",
            "21:\tlearn: 0.0063320\ttotal: 1.55s\tremaining: 1m 8s\n",
            "22:\tlearn: 0.0062859\ttotal: 1.62s\tremaining: 1m 8s\n",
            "23:\tlearn: 0.0061861\ttotal: 1.69s\tremaining: 1m 8s\n",
            "24:\tlearn: 0.0061359\ttotal: 1.76s\tremaining: 1m 8s\n",
            "25:\tlearn: 0.0060473\ttotal: 1.83s\tremaining: 1m 8s\n",
            "26:\tlearn: 0.0059445\ttotal: 1.9s\tremaining: 1m 8s\n",
            "27:\tlearn: 0.0059317\ttotal: 1.97s\tremaining: 1m 8s\n",
            "28:\tlearn: 0.0058622\ttotal: 2.04s\tremaining: 1m 8s\n",
            "29:\tlearn: 0.0058157\ttotal: 2.1s\tremaining: 1m 8s\n",
            "30:\tlearn: 0.0057683\ttotal: 2.17s\tremaining: 1m 7s\n",
            "31:\tlearn: 0.0057424\ttotal: 2.24s\tremaining: 1m 7s\n",
            "32:\tlearn: 0.0056936\ttotal: 2.31s\tremaining: 1m 7s\n",
            "33:\tlearn: 0.0056193\ttotal: 2.38s\tremaining: 1m 7s\n",
            "34:\tlearn: 0.0055534\ttotal: 2.45s\tremaining: 1m 7s\n",
            "35:\tlearn: 0.0053620\ttotal: 2.52s\tremaining: 1m 7s\n",
            "36:\tlearn: 0.0053308\ttotal: 2.58s\tremaining: 1m 7s\n",
            "37:\tlearn: 0.0052674\ttotal: 2.65s\tremaining: 1m 7s\n",
            "38:\tlearn: 0.0052342\ttotal: 2.72s\tremaining: 1m 7s\n",
            "39:\tlearn: 0.0052132\ttotal: 2.78s\tremaining: 1m 6s\n",
            "40:\tlearn: 0.0051447\ttotal: 2.86s\tremaining: 1m 6s\n",
            "41:\tlearn: 0.0051121\ttotal: 2.92s\tremaining: 1m 6s\n",
            "42:\tlearn: 0.0050830\ttotal: 2.99s\tremaining: 1m 6s\n",
            "43:\tlearn: 0.0050509\ttotal: 3.07s\tremaining: 1m 6s\n",
            "44:\tlearn: 0.0049451\ttotal: 3.13s\tremaining: 1m 6s\n",
            "45:\tlearn: 0.0049195\ttotal: 3.2s\tremaining: 1m 6s\n",
            "46:\tlearn: 0.0048076\ttotal: 3.27s\tremaining: 1m 6s\n",
            "47:\tlearn: 0.0047826\ttotal: 3.34s\tremaining: 1m 6s\n",
            "48:\tlearn: 0.0047627\ttotal: 3.4s\tremaining: 1m 6s\n",
            "49:\tlearn: 0.0047381\ttotal: 3.48s\tremaining: 1m 6s\n",
            "50:\tlearn: 0.0047328\ttotal: 3.55s\tremaining: 1m 5s\n",
            "51:\tlearn: 0.0047080\ttotal: 3.61s\tremaining: 1m 5s\n",
            "52:\tlearn: 0.0046486\ttotal: 3.68s\tremaining: 1m 5s\n",
            "53:\tlearn: 0.0046254\ttotal: 3.75s\tremaining: 1m 5s\n",
            "54:\tlearn: 0.0045996\ttotal: 3.82s\tremaining: 1m 5s\n",
            "55:\tlearn: 0.0045778\ttotal: 3.89s\tremaining: 1m 5s\n",
            "56:\tlearn: 0.0045048\ttotal: 3.96s\tremaining: 1m 5s\n",
            "57:\tlearn: 0.0044810\ttotal: 4.04s\tremaining: 1m 5s\n",
            "58:\tlearn: 0.0044696\ttotal: 4.1s\tremaining: 1m 5s\n",
            "59:\tlearn: 0.0044577\ttotal: 4.17s\tremaining: 1m 5s\n",
            "60:\tlearn: 0.0044486\ttotal: 4.23s\tremaining: 1m 5s\n",
            "61:\tlearn: 0.0044214\ttotal: 4.3s\tremaining: 1m 5s\n",
            "62:\tlearn: 0.0042730\ttotal: 4.37s\tremaining: 1m 5s\n",
            "63:\tlearn: 0.0042505\ttotal: 4.45s\tremaining: 1m 5s\n",
            "64:\tlearn: 0.0042183\ttotal: 4.53s\tremaining: 1m 5s\n",
            "65:\tlearn: 0.0041942\ttotal: 4.59s\tremaining: 1m 5s\n",
            "66:\tlearn: 0.0041759\ttotal: 4.66s\tremaining: 1m 4s\n",
            "67:\tlearn: 0.0041623\ttotal: 4.73s\tremaining: 1m 4s\n",
            "68:\tlearn: 0.0041434\ttotal: 4.8s\tremaining: 1m 4s\n",
            "69:\tlearn: 0.0041291\ttotal: 4.88s\tremaining: 1m 4s\n",
            "70:\tlearn: 0.0041108\ttotal: 4.95s\tremaining: 1m 4s\n",
            "71:\tlearn: 0.0040776\ttotal: 5.03s\tremaining: 1m 4s\n",
            "72:\tlearn: 0.0040651\ttotal: 5.1s\tremaining: 1m 4s\n",
            "73:\tlearn: 0.0040524\ttotal: 5.16s\tremaining: 1m 4s\n",
            "74:\tlearn: 0.0040387\ttotal: 5.23s\tremaining: 1m 4s\n",
            "75:\tlearn: 0.0040315\ttotal: 5.3s\tremaining: 1m 4s\n",
            "76:\tlearn: 0.0040191\ttotal: 5.36s\tremaining: 1m 4s\n",
            "77:\tlearn: 0.0039834\ttotal: 5.43s\tremaining: 1m 4s\n",
            "78:\tlearn: 0.0039676\ttotal: 5.5s\tremaining: 1m 4s\n",
            "79:\tlearn: 0.0039641\ttotal: 5.56s\tremaining: 1m 3s\n",
            "80:\tlearn: 0.0039329\ttotal: 5.63s\tremaining: 1m 3s\n",
            "81:\tlearn: 0.0039165\ttotal: 5.7s\tremaining: 1m 3s\n",
            "82:\tlearn: 0.0038981\ttotal: 5.77s\tremaining: 1m 3s\n",
            "83:\tlearn: 0.0038809\ttotal: 5.83s\tremaining: 1m 3s\n",
            "84:\tlearn: 0.0038778\ttotal: 5.91s\tremaining: 1m 3s\n",
            "85:\tlearn: 0.0038689\ttotal: 5.97s\tremaining: 1m 3s\n",
            "86:\tlearn: 0.0038520\ttotal: 6.04s\tremaining: 1m 3s\n",
            "87:\tlearn: 0.0038504\ttotal: 6.1s\tremaining: 1m 3s\n",
            "88:\tlearn: 0.0038351\ttotal: 6.18s\tremaining: 1m 3s\n",
            "89:\tlearn: 0.0038113\ttotal: 6.25s\tremaining: 1m 3s\n",
            "90:\tlearn: 0.0038083\ttotal: 6.31s\tremaining: 1m 3s\n",
            "91:\tlearn: 0.0037639\ttotal: 6.37s\tremaining: 1m 2s\n",
            "92:\tlearn: 0.0037481\ttotal: 6.44s\tremaining: 1m 2s\n",
            "93:\tlearn: 0.0037362\ttotal: 6.51s\tremaining: 1m 2s\n",
            "94:\tlearn: 0.0037304\ttotal: 6.57s\tremaining: 1m 2s\n",
            "95:\tlearn: 0.0037231\ttotal: 6.64s\tremaining: 1m 2s\n",
            "96:\tlearn: 0.0036919\ttotal: 6.7s\tremaining: 1m 2s\n",
            "97:\tlearn: 0.0036812\ttotal: 6.77s\tremaining: 1m 2s\n",
            "98:\tlearn: 0.0036444\ttotal: 6.84s\tremaining: 1m 2s\n",
            "99:\tlearn: 0.0036229\ttotal: 6.93s\tremaining: 1m 2s\n",
            "100:\tlearn: 0.0036094\ttotal: 7s\tremaining: 1m 2s\n",
            "101:\tlearn: 0.0036052\ttotal: 7.07s\tremaining: 1m 2s\n",
            "102:\tlearn: 0.0035799\ttotal: 7.13s\tremaining: 1m 2s\n",
            "103:\tlearn: 0.0035565\ttotal: 7.21s\tremaining: 1m 2s\n",
            "104:\tlearn: 0.0035436\ttotal: 7.28s\tremaining: 1m 2s\n",
            "105:\tlearn: 0.0035391\ttotal: 7.35s\tremaining: 1m 1s\n",
            "106:\tlearn: 0.0035372\ttotal: 7.41s\tremaining: 1m 1s\n",
            "107:\tlearn: 0.0035162\ttotal: 7.48s\tremaining: 1m 1s\n",
            "108:\tlearn: 0.0035131\ttotal: 7.54s\tremaining: 1m 1s\n",
            "109:\tlearn: 0.0035075\ttotal: 7.61s\tremaining: 1m 1s\n",
            "110:\tlearn: 0.0034977\ttotal: 7.67s\tremaining: 1m 1s\n",
            "111:\tlearn: 0.0034442\ttotal: 7.75s\tremaining: 1m 1s\n",
            "112:\tlearn: 0.0034142\ttotal: 7.83s\tremaining: 1m 1s\n",
            "113:\tlearn: 0.0034074\ttotal: 7.89s\tremaining: 1m 1s\n",
            "114:\tlearn: 0.0034052\ttotal: 7.96s\tremaining: 1m 1s\n",
            "115:\tlearn: 0.0034001\ttotal: 8.02s\tremaining: 1m 1s\n",
            "116:\tlearn: 0.0033949\ttotal: 8.09s\tremaining: 1m 1s\n",
            "117:\tlearn: 0.0033854\ttotal: 8.15s\tremaining: 1m\n",
            "118:\tlearn: 0.0033749\ttotal: 8.22s\tremaining: 1m\n",
            "119:\tlearn: 0.0033627\ttotal: 8.29s\tremaining: 1m\n",
            "120:\tlearn: 0.0033622\ttotal: 8.35s\tremaining: 1m\n",
            "121:\tlearn: 0.0033592\ttotal: 8.41s\tremaining: 1m\n",
            "122:\tlearn: 0.0033542\ttotal: 8.47s\tremaining: 1m\n",
            "123:\tlearn: 0.0033504\ttotal: 8.54s\tremaining: 1m\n",
            "124:\tlearn: 0.0033475\ttotal: 8.6s\tremaining: 1m\n",
            "125:\tlearn: 0.0033410\ttotal: 8.67s\tremaining: 1m\n",
            "126:\tlearn: 0.0033405\ttotal: 8.73s\tremaining: 60s\n",
            "127:\tlearn: 0.0033381\ttotal: 8.79s\tremaining: 59.9s\n",
            "128:\tlearn: 0.0033363\ttotal: 8.85s\tremaining: 59.8s\n",
            "129:\tlearn: 0.0033353\ttotal: 8.93s\tremaining: 59.7s\n",
            "130:\tlearn: 0.0033333\ttotal: 9s\tremaining: 59.7s\n",
            "131:\tlearn: 0.0033320\ttotal: 9.07s\tremaining: 59.6s\n",
            "132:\tlearn: 0.0033304\ttotal: 9.13s\tremaining: 59.5s\n",
            "133:\tlearn: 0.0033293\ttotal: 9.19s\tremaining: 59.4s\n",
            "134:\tlearn: 0.0033291\ttotal: 9.24s\tremaining: 59.2s\n",
            "135:\tlearn: 0.0033269\ttotal: 9.3s\tremaining: 59.1s\n",
            "136:\tlearn: 0.0033228\ttotal: 9.37s\tremaining: 59s\n",
            "137:\tlearn: 0.0033218\ttotal: 9.43s\tremaining: 58.9s\n",
            "138:\tlearn: 0.0033151\ttotal: 9.51s\tremaining: 58.9s\n",
            "139:\tlearn: 0.0033079\ttotal: 9.57s\tremaining: 58.8s\n",
            "140:\tlearn: 0.0032987\ttotal: 9.64s\tremaining: 58.7s\n",
            "141:\tlearn: 0.0032951\ttotal: 9.71s\tremaining: 58.7s\n",
            "142:\tlearn: 0.0032949\ttotal: 9.77s\tremaining: 58.6s\n",
            "143:\tlearn: 0.0032840\ttotal: 9.84s\tremaining: 58.5s\n",
            "144:\tlearn: 0.0032757\ttotal: 9.9s\tremaining: 58.4s\n",
            "145:\tlearn: 0.0032720\ttotal: 9.97s\tremaining: 58.3s\n",
            "146:\tlearn: 0.0032698\ttotal: 10s\tremaining: 58.3s\n",
            "147:\tlearn: 0.0032599\ttotal: 10.1s\tremaining: 58.2s\n",
            "148:\tlearn: 0.0032557\ttotal: 10.2s\tremaining: 58.1s\n",
            "149:\tlearn: 0.0032530\ttotal: 10.2s\tremaining: 58s\n",
            "150:\tlearn: 0.0032350\ttotal: 10.3s\tremaining: 57.9s\n",
            "151:\tlearn: 0.0032268\ttotal: 10.4s\tremaining: 57.9s\n",
            "152:\tlearn: 0.0032232\ttotal: 10.4s\tremaining: 57.8s\n",
            "153:\tlearn: 0.0032103\ttotal: 10.5s\tremaining: 57.7s\n",
            "154:\tlearn: 0.0032084\ttotal: 10.6s\tremaining: 57.6s\n",
            "155:\tlearn: 0.0032009\ttotal: 10.6s\tremaining: 57.5s\n",
            "156:\tlearn: 0.0031950\ttotal: 10.7s\tremaining: 57.4s\n",
            "157:\tlearn: 0.0031896\ttotal: 10.8s\tremaining: 57.4s\n",
            "158:\tlearn: 0.0031839\ttotal: 10.8s\tremaining: 57.3s\n",
            "159:\tlearn: 0.0031677\ttotal: 10.9s\tremaining: 57.3s\n",
            "160:\tlearn: 0.0031651\ttotal: 11s\tremaining: 57.2s\n",
            "161:\tlearn: 0.0031600\ttotal: 11s\tremaining: 57.1s\n",
            "162:\tlearn: 0.0031506\ttotal: 11.1s\tremaining: 57.1s\n",
            "163:\tlearn: 0.0031479\ttotal: 11.2s\tremaining: 57s\n",
            "164:\tlearn: 0.0031450\ttotal: 11.2s\tremaining: 56.9s\n",
            "165:\tlearn: 0.0031436\ttotal: 11.3s\tremaining: 56.8s\n",
            "166:\tlearn: 0.0031380\ttotal: 11.4s\tremaining: 56.7s\n",
            "167:\tlearn: 0.0031358\ttotal: 11.4s\tremaining: 56.6s\n",
            "168:\tlearn: 0.0031344\ttotal: 11.5s\tremaining: 56.5s\n",
            "169:\tlearn: 0.0031276\ttotal: 11.6s\tremaining: 56.4s\n",
            "170:\tlearn: 0.0031145\ttotal: 11.6s\tremaining: 56.3s\n",
            "171:\tlearn: 0.0031069\ttotal: 11.7s\tremaining: 56.3s\n",
            "172:\tlearn: 0.0031020\ttotal: 11.8s\tremaining: 56.3s\n",
            "173:\tlearn: 0.0031007\ttotal: 11.8s\tremaining: 56.1s\n",
            "174:\tlearn: 0.0030935\ttotal: 11.9s\tremaining: 56.1s\n",
            "175:\tlearn: 0.0030857\ttotal: 12s\tremaining: 56.1s\n",
            "176:\tlearn: 0.0030781\ttotal: 12s\tremaining: 56s\n",
            "177:\tlearn: 0.0030725\ttotal: 12.1s\tremaining: 55.9s\n",
            "178:\tlearn: 0.0030709\ttotal: 12.2s\tremaining: 55.8s\n",
            "179:\tlearn: 0.0030698\ttotal: 12.2s\tremaining: 55.7s\n",
            "180:\tlearn: 0.0030677\ttotal: 12.3s\tremaining: 55.6s\n",
            "181:\tlearn: 0.0030671\ttotal: 12.3s\tremaining: 55.5s\n",
            "182:\tlearn: 0.0030630\ttotal: 12.4s\tremaining: 55.4s\n",
            "183:\tlearn: 0.0030551\ttotal: 12.5s\tremaining: 55.3s\n",
            "184:\tlearn: 0.0030484\ttotal: 12.5s\tremaining: 55.2s\n",
            "185:\tlearn: 0.0030440\ttotal: 12.6s\tremaining: 55.2s\n",
            "186:\tlearn: 0.0030365\ttotal: 12.7s\tremaining: 55.1s\n",
            "187:\tlearn: 0.0030350\ttotal: 12.7s\tremaining: 55.1s\n",
            "188:\tlearn: 0.0030250\ttotal: 12.8s\tremaining: 55s\n",
            "189:\tlearn: 0.0030101\ttotal: 12.9s\tremaining: 55s\n",
            "190:\tlearn: 0.0030091\ttotal: 13s\tremaining: 54.9s\n",
            "191:\tlearn: 0.0030073\ttotal: 13s\tremaining: 54.8s\n",
            "192:\tlearn: 0.0029987\ttotal: 13.1s\tremaining: 54.8s\n",
            "193:\tlearn: 0.0029927\ttotal: 13.2s\tremaining: 54.7s\n",
            "194:\tlearn: 0.0029905\ttotal: 13.2s\tremaining: 54.6s\n",
            "195:\tlearn: 0.0029856\ttotal: 13.3s\tremaining: 54.5s\n",
            "196:\tlearn: 0.0029751\ttotal: 13.4s\tremaining: 54.5s\n",
            "197:\tlearn: 0.0029678\ttotal: 13.4s\tremaining: 54.4s\n",
            "198:\tlearn: 0.0029616\ttotal: 13.5s\tremaining: 54.3s\n",
            "199:\tlearn: 0.0029590\ttotal: 13.5s\tremaining: 54.2s\n",
            "200:\tlearn: 0.0029550\ttotal: 13.6s\tremaining: 54.1s\n",
            "201:\tlearn: 0.0029527\ttotal: 13.7s\tremaining: 54s\n",
            "202:\tlearn: 0.0029488\ttotal: 13.7s\tremaining: 53.9s\n",
            "203:\tlearn: 0.0029462\ttotal: 13.8s\tremaining: 53.9s\n",
            "204:\tlearn: 0.0029432\ttotal: 13.9s\tremaining: 53.8s\n",
            "205:\tlearn: 0.0029426\ttotal: 13.9s\tremaining: 53.7s\n",
            "206:\tlearn: 0.0029332\ttotal: 14s\tremaining: 53.7s\n",
            "207:\tlearn: 0.0029250\ttotal: 14.1s\tremaining: 53.6s\n",
            "208:\tlearn: 0.0029200\ttotal: 14.1s\tremaining: 53.5s\n",
            "209:\tlearn: 0.0029071\ttotal: 14.2s\tremaining: 53.5s\n",
            "210:\tlearn: 0.0028997\ttotal: 14.3s\tremaining: 53.4s\n",
            "211:\tlearn: 0.0028911\ttotal: 14.4s\tremaining: 53.3s\n",
            "212:\tlearn: 0.0028879\ttotal: 14.4s\tremaining: 53.3s\n",
            "213:\tlearn: 0.0028844\ttotal: 14.5s\tremaining: 53.2s\n",
            "214:\tlearn: 0.0028822\ttotal: 14.5s\tremaining: 53.1s\n",
            "215:\tlearn: 0.0028754\ttotal: 14.6s\tremaining: 53s\n",
            "216:\tlearn: 0.0028612\ttotal: 14.7s\tremaining: 53s\n",
            "217:\tlearn: 0.0028560\ttotal: 14.7s\tremaining: 52.9s\n",
            "218:\tlearn: 0.0028519\ttotal: 14.8s\tremaining: 52.9s\n",
            "219:\tlearn: 0.0028505\ttotal: 14.9s\tremaining: 52.8s\n",
            "220:\tlearn: 0.0028483\ttotal: 15s\tremaining: 52.7s\n",
            "221:\tlearn: 0.0028475\ttotal: 15s\tremaining: 52.7s\n",
            "222:\tlearn: 0.0028444\ttotal: 15.1s\tremaining: 52.6s\n",
            "223:\tlearn: 0.0028344\ttotal: 15.2s\tremaining: 52.5s\n",
            "224:\tlearn: 0.0028313\ttotal: 15.2s\tremaining: 52.4s\n",
            "225:\tlearn: 0.0028241\ttotal: 15.3s\tremaining: 52.4s\n",
            "226:\tlearn: 0.0028237\ttotal: 15.4s\tremaining: 52.3s\n",
            "227:\tlearn: 0.0028184\ttotal: 15.4s\tremaining: 52.2s\n",
            "228:\tlearn: 0.0028138\ttotal: 15.5s\tremaining: 52.2s\n",
            "229:\tlearn: 0.0028097\ttotal: 15.6s\tremaining: 52.1s\n",
            "230:\tlearn: 0.0028088\ttotal: 15.6s\tremaining: 52s\n",
            "231:\tlearn: 0.0028056\ttotal: 15.7s\tremaining: 51.9s\n",
            "232:\tlearn: 0.0028022\ttotal: 15.7s\tremaining: 51.8s\n",
            "233:\tlearn: 0.0028007\ttotal: 15.8s\tremaining: 51.8s\n",
            "234:\tlearn: 0.0027902\ttotal: 15.9s\tremaining: 51.7s\n",
            "235:\tlearn: 0.0027818\ttotal: 16s\tremaining: 51.7s\n",
            "236:\tlearn: 0.0027773\ttotal: 16s\tremaining: 51.6s\n",
            "237:\tlearn: 0.0027711\ttotal: 16.1s\tremaining: 51.5s\n",
            "238:\tlearn: 0.0027702\ttotal: 16.2s\tremaining: 51.4s\n",
            "239:\tlearn: 0.0027638\ttotal: 16.2s\tremaining: 51.3s\n",
            "240:\tlearn: 0.0027632\ttotal: 16.3s\tremaining: 51.3s\n",
            "241:\tlearn: 0.0027631\ttotal: 16.3s\tremaining: 51.1s\n",
            "242:\tlearn: 0.0027558\ttotal: 16.4s\tremaining: 51.1s\n",
            "243:\tlearn: 0.0027486\ttotal: 16.5s\tremaining: 51s\n",
            "244:\tlearn: 0.0027442\ttotal: 16.5s\tremaining: 51s\n",
            "245:\tlearn: 0.0027422\ttotal: 16.6s\tremaining: 50.9s\n",
            "246:\tlearn: 0.0027401\ttotal: 16.7s\tremaining: 50.8s\n",
            "247:\tlearn: 0.0027373\ttotal: 16.7s\tremaining: 50.7s\n",
            "248:\tlearn: 0.0027327\ttotal: 16.8s\tremaining: 50.6s\n",
            "249:\tlearn: 0.0027270\ttotal: 16.9s\tremaining: 50.6s\n",
            "250:\tlearn: 0.0027226\ttotal: 16.9s\tremaining: 50.5s\n",
            "251:\tlearn: 0.0027216\ttotal: 17s\tremaining: 50.4s\n",
            "252:\tlearn: 0.0027143\ttotal: 17.1s\tremaining: 50.4s\n",
            "253:\tlearn: 0.0027141\ttotal: 17.1s\tremaining: 50.3s\n",
            "254:\tlearn: 0.0027095\ttotal: 17.2s\tremaining: 50.2s\n",
            "255:\tlearn: 0.0027057\ttotal: 17.2s\tremaining: 50.1s\n",
            "256:\tlearn: 0.0027056\ttotal: 17.3s\tremaining: 50s\n",
            "257:\tlearn: 0.0027052\ttotal: 17.4s\tremaining: 49.9s\n",
            "258:\tlearn: 0.0026926\ttotal: 17.4s\tremaining: 49.9s\n",
            "259:\tlearn: 0.0026882\ttotal: 17.5s\tremaining: 49.8s\n",
            "260:\tlearn: 0.0026833\ttotal: 17.6s\tremaining: 49.7s\n",
            "261:\tlearn: 0.0026826\ttotal: 17.6s\tremaining: 49.7s\n",
            "262:\tlearn: 0.0026776\ttotal: 17.7s\tremaining: 49.6s\n",
            "263:\tlearn: 0.0026696\ttotal: 17.8s\tremaining: 49.5s\n",
            "264:\tlearn: 0.0026643\ttotal: 17.8s\tremaining: 49.5s\n",
            "265:\tlearn: 0.0026595\ttotal: 17.9s\tremaining: 49.4s\n",
            "266:\tlearn: 0.0026574\ttotal: 18s\tremaining: 49.3s\n",
            "267:\tlearn: 0.0026570\ttotal: 18s\tremaining: 49.3s\n",
            "268:\tlearn: 0.0026550\ttotal: 18.1s\tremaining: 49.2s\n",
            "269:\tlearn: 0.0026403\ttotal: 18.2s\tremaining: 49.1s\n",
            "270:\tlearn: 0.0026342\ttotal: 18.2s\tremaining: 49.1s\n",
            "271:\tlearn: 0.0026311\ttotal: 18.3s\tremaining: 49s\n",
            "272:\tlearn: 0.0026239\ttotal: 18.4s\tremaining: 48.9s\n",
            "273:\tlearn: 0.0026186\ttotal: 18.4s\tremaining: 48.9s\n",
            "274:\tlearn: 0.0026174\ttotal: 18.5s\tremaining: 48.8s\n",
            "275:\tlearn: 0.0026149\ttotal: 18.6s\tremaining: 48.7s\n",
            "276:\tlearn: 0.0026124\ttotal: 18.6s\tremaining: 48.6s\n",
            "277:\tlearn: 0.0025994\ttotal: 18.7s\tremaining: 48.6s\n",
            "278:\tlearn: 0.0025971\ttotal: 18.8s\tremaining: 48.5s\n",
            "279:\tlearn: 0.0025904\ttotal: 18.9s\tremaining: 48.5s\n",
            "280:\tlearn: 0.0025902\ttotal: 18.9s\tremaining: 48.4s\n",
            "281:\tlearn: 0.0025892\ttotal: 19s\tremaining: 48.3s\n",
            "282:\tlearn: 0.0025835\ttotal: 19s\tremaining: 48.3s\n",
            "283:\tlearn: 0.0025826\ttotal: 19.1s\tremaining: 48.2s\n",
            "284:\tlearn: 0.0025779\ttotal: 19.2s\tremaining: 48.1s\n",
            "285:\tlearn: 0.0025777\ttotal: 19.2s\tremaining: 48s\n",
            "286:\tlearn: 0.0025748\ttotal: 19.3s\tremaining: 48s\n",
            "287:\tlearn: 0.0025737\ttotal: 19.4s\tremaining: 47.9s\n",
            "288:\tlearn: 0.0025711\ttotal: 19.4s\tremaining: 47.8s\n",
            "289:\tlearn: 0.0025631\ttotal: 19.5s\tremaining: 47.8s\n",
            "290:\tlearn: 0.0025621\ttotal: 19.6s\tremaining: 47.7s\n",
            "291:\tlearn: 0.0025600\ttotal: 19.6s\tremaining: 47.6s\n",
            "292:\tlearn: 0.0025480\ttotal: 19.7s\tremaining: 47.5s\n",
            "293:\tlearn: 0.0025403\ttotal: 19.8s\tremaining: 47.5s\n",
            "294:\tlearn: 0.0025333\ttotal: 19.9s\tremaining: 47.5s\n",
            "295:\tlearn: 0.0025311\ttotal: 19.9s\tremaining: 47.4s\n",
            "296:\tlearn: 0.0025196\ttotal: 20s\tremaining: 47.3s\n",
            "297:\tlearn: 0.0025036\ttotal: 20.1s\tremaining: 47.3s\n",
            "298:\tlearn: 0.0024997\ttotal: 20.1s\tremaining: 47.2s\n",
            "299:\tlearn: 0.0024936\ttotal: 20.2s\tremaining: 47.2s\n",
            "300:\tlearn: 0.0024915\ttotal: 20.3s\tremaining: 47.1s\n",
            "301:\tlearn: 0.0024900\ttotal: 20.3s\tremaining: 47s\n",
            "302:\tlearn: 0.0024872\ttotal: 20.4s\tremaining: 46.9s\n",
            "303:\tlearn: 0.0024790\ttotal: 20.5s\tremaining: 46.9s\n",
            "304:\tlearn: 0.0024725\ttotal: 20.6s\tremaining: 46.8s\n",
            "305:\tlearn: 0.0024707\ttotal: 20.6s\tremaining: 46.8s\n",
            "306:\tlearn: 0.0024659\ttotal: 20.7s\tremaining: 46.7s\n",
            "307:\tlearn: 0.0024599\ttotal: 20.8s\tremaining: 46.6s\n",
            "308:\tlearn: 0.0024529\ttotal: 20.8s\tremaining: 46.6s\n",
            "309:\tlearn: 0.0024518\ttotal: 20.9s\tremaining: 46.5s\n",
            "310:\tlearn: 0.0024495\ttotal: 21s\tremaining: 46.5s\n",
            "311:\tlearn: 0.0024450\ttotal: 21s\tremaining: 46.4s\n",
            "312:\tlearn: 0.0024411\ttotal: 21.1s\tremaining: 46.3s\n",
            "313:\tlearn: 0.0024298\ttotal: 21.2s\tremaining: 46.3s\n",
            "314:\tlearn: 0.0024223\ttotal: 21.3s\tremaining: 46.2s\n",
            "315:\tlearn: 0.0024194\ttotal: 21.3s\tremaining: 46.2s\n",
            "316:\tlearn: 0.0024124\ttotal: 21.4s\tremaining: 46.1s\n",
            "317:\tlearn: 0.0024089\ttotal: 21.5s\tremaining: 46s\n",
            "318:\tlearn: 0.0024057\ttotal: 21.5s\tremaining: 46s\n",
            "319:\tlearn: 0.0024013\ttotal: 21.6s\tremaining: 45.9s\n",
            "320:\tlearn: 0.0023927\ttotal: 21.7s\tremaining: 45.8s\n",
            "321:\tlearn: 0.0023906\ttotal: 21.7s\tremaining: 45.8s\n",
            "322:\tlearn: 0.0023856\ttotal: 21.8s\tremaining: 45.7s\n",
            "323:\tlearn: 0.0023820\ttotal: 21.9s\tremaining: 45.7s\n",
            "324:\tlearn: 0.0023785\ttotal: 22s\tremaining: 45.6s\n",
            "325:\tlearn: 0.0023690\ttotal: 22s\tremaining: 45.6s\n",
            "326:\tlearn: 0.0023644\ttotal: 22.1s\tremaining: 45.5s\n",
            "327:\tlearn: 0.0023594\ttotal: 22.2s\tremaining: 45.4s\n",
            "328:\tlearn: 0.0023535\ttotal: 22.2s\tremaining: 45.4s\n",
            "329:\tlearn: 0.0023499\ttotal: 22.3s\tremaining: 45.3s\n",
            "330:\tlearn: 0.0023498\ttotal: 22.4s\tremaining: 45.2s\n",
            "331:\tlearn: 0.0023473\ttotal: 22.4s\tremaining: 45.1s\n",
            "332:\tlearn: 0.0023390\ttotal: 22.5s\tremaining: 45.1s\n",
            "333:\tlearn: 0.0023363\ttotal: 22.6s\tremaining: 45s\n",
            "334:\tlearn: 0.0023291\ttotal: 22.6s\tremaining: 44.9s\n",
            "335:\tlearn: 0.0023283\ttotal: 22.7s\tremaining: 44.8s\n",
            "336:\tlearn: 0.0023200\ttotal: 22.8s\tremaining: 44.8s\n",
            "337:\tlearn: 0.0023145\ttotal: 22.8s\tremaining: 44.7s\n",
            "338:\tlearn: 0.0023103\ttotal: 22.9s\tremaining: 44.7s\n",
            "339:\tlearn: 0.0023049\ttotal: 23s\tremaining: 44.6s\n",
            "340:\tlearn: 0.0023009\ttotal: 23.1s\tremaining: 44.6s\n",
            "341:\tlearn: 0.0022920\ttotal: 23.1s\tremaining: 44.5s\n",
            "342:\tlearn: 0.0022892\ttotal: 23.2s\tremaining: 44.4s\n",
            "343:\tlearn: 0.0022852\ttotal: 23.3s\tremaining: 44.4s\n",
            "344:\tlearn: 0.0022842\ttotal: 23.3s\tremaining: 44.3s\n",
            "345:\tlearn: 0.0022812\ttotal: 23.4s\tremaining: 44.2s\n",
            "346:\tlearn: 0.0022776\ttotal: 23.5s\tremaining: 44.2s\n",
            "347:\tlearn: 0.0022723\ttotal: 23.5s\tremaining: 44.1s\n",
            "348:\tlearn: 0.0022723\ttotal: 23.6s\tremaining: 44s\n",
            "349:\tlearn: 0.0022715\ttotal: 23.7s\tremaining: 43.9s\n",
            "350:\tlearn: 0.0022651\ttotal: 23.7s\tremaining: 43.9s\n",
            "351:\tlearn: 0.0022622\ttotal: 23.8s\tremaining: 43.8s\n",
            "352:\tlearn: 0.0022592\ttotal: 23.9s\tremaining: 43.8s\n",
            "353:\tlearn: 0.0022530\ttotal: 24s\tremaining: 43.7s\n",
            "354:\tlearn: 0.0022526\ttotal: 24s\tremaining: 43.6s\n",
            "355:\tlearn: 0.0022517\ttotal: 24.1s\tremaining: 43.6s\n",
            "356:\tlearn: 0.0022511\ttotal: 24.2s\tremaining: 43.5s\n",
            "357:\tlearn: 0.0022503\ttotal: 24.2s\tremaining: 43.4s\n",
            "358:\tlearn: 0.0022450\ttotal: 24.3s\tremaining: 43.4s\n",
            "359:\tlearn: 0.0022370\ttotal: 24.4s\tremaining: 43.3s\n",
            "360:\tlearn: 0.0022369\ttotal: 24.4s\tremaining: 43.2s\n",
            "361:\tlearn: 0.0022304\ttotal: 24.5s\tremaining: 43.2s\n",
            "362:\tlearn: 0.0022241\ttotal: 24.6s\tremaining: 43.1s\n",
            "363:\tlearn: 0.0022211\ttotal: 24.6s\tremaining: 43.1s\n",
            "364:\tlearn: 0.0022170\ttotal: 24.7s\tremaining: 43s\n",
            "365:\tlearn: 0.0022145\ttotal: 24.8s\tremaining: 42.9s\n",
            "366:\tlearn: 0.0022110\ttotal: 24.8s\tremaining: 42.9s\n",
            "367:\tlearn: 0.0022048\ttotal: 24.9s\tremaining: 42.8s\n",
            "368:\tlearn: 0.0022030\ttotal: 25s\tremaining: 42.7s\n",
            "369:\tlearn: 0.0022018\ttotal: 25.1s\tremaining: 42.7s\n",
            "370:\tlearn: 0.0021979\ttotal: 25.1s\tremaining: 42.6s\n",
            "371:\tlearn: 0.0021928\ttotal: 25.2s\tremaining: 42.5s\n",
            "372:\tlearn: 0.0021906\ttotal: 25.3s\tremaining: 42.5s\n",
            "373:\tlearn: 0.0021873\ttotal: 25.3s\tremaining: 42.4s\n",
            "374:\tlearn: 0.0021834\ttotal: 25.4s\tremaining: 42.4s\n",
            "375:\tlearn: 0.0021826\ttotal: 25.5s\tremaining: 42.3s\n",
            "376:\tlearn: 0.0021800\ttotal: 25.5s\tremaining: 42.2s\n",
            "377:\tlearn: 0.0021785\ttotal: 25.6s\tremaining: 42.1s\n",
            "378:\tlearn: 0.0021650\ttotal: 25.7s\tremaining: 42.1s\n",
            "379:\tlearn: 0.0021582\ttotal: 25.8s\tremaining: 42s\n",
            "380:\tlearn: 0.0021527\ttotal: 25.8s\tremaining: 42s\n",
            "381:\tlearn: 0.0021505\ttotal: 25.9s\tremaining: 41.9s\n",
            "382:\tlearn: 0.0021409\ttotal: 26s\tremaining: 41.9s\n",
            "383:\tlearn: 0.0021377\ttotal: 26.1s\tremaining: 41.8s\n",
            "384:\tlearn: 0.0021362\ttotal: 26.1s\tremaining: 41.7s\n",
            "385:\tlearn: 0.0021328\ttotal: 26.2s\tremaining: 41.7s\n",
            "386:\tlearn: 0.0021299\ttotal: 26.3s\tremaining: 41.6s\n",
            "387:\tlearn: 0.0021223\ttotal: 26.3s\tremaining: 41.5s\n",
            "388:\tlearn: 0.0021199\ttotal: 26.4s\tremaining: 41.5s\n",
            "389:\tlearn: 0.0021170\ttotal: 26.5s\tremaining: 41.4s\n",
            "390:\tlearn: 0.0021155\ttotal: 26.6s\tremaining: 41.4s\n",
            "391:\tlearn: 0.0021126\ttotal: 26.6s\tremaining: 41.3s\n",
            "392:\tlearn: 0.0021119\ttotal: 26.7s\tremaining: 41.2s\n",
            "393:\tlearn: 0.0021102\ttotal: 26.8s\tremaining: 41.2s\n",
            "394:\tlearn: 0.0021100\ttotal: 26.8s\tremaining: 41.1s\n",
            "395:\tlearn: 0.0021072\ttotal: 26.9s\tremaining: 41s\n",
            "396:\tlearn: 0.0021061\ttotal: 27s\tremaining: 41s\n",
            "397:\tlearn: 0.0021046\ttotal: 27s\tremaining: 40.9s\n",
            "398:\tlearn: 0.0021016\ttotal: 27.1s\tremaining: 40.8s\n",
            "399:\tlearn: 0.0020963\ttotal: 27.2s\tremaining: 40.8s\n",
            "400:\tlearn: 0.0020935\ttotal: 27.2s\tremaining: 40.7s\n",
            "401:\tlearn: 0.0020894\ttotal: 27.3s\tremaining: 40.6s\n",
            "402:\tlearn: 0.0020859\ttotal: 27.4s\tremaining: 40.6s\n",
            "403:\tlearn: 0.0020859\ttotal: 27.4s\tremaining: 40.5s\n",
            "404:\tlearn: 0.0020809\ttotal: 27.5s\tremaining: 40.4s\n",
            "405:\tlearn: 0.0020793\ttotal: 27.6s\tremaining: 40.3s\n",
            "406:\tlearn: 0.0020792\ttotal: 27.6s\tremaining: 40.3s\n",
            "407:\tlearn: 0.0020789\ttotal: 27.7s\tremaining: 40.2s\n",
            "408:\tlearn: 0.0020737\ttotal: 27.8s\tremaining: 40.1s\n",
            "409:\tlearn: 0.0020683\ttotal: 27.8s\tremaining: 40.1s\n",
            "410:\tlearn: 0.0020666\ttotal: 27.9s\tremaining: 40s\n",
            "411:\tlearn: 0.0020665\ttotal: 28s\tremaining: 40s\n",
            "412:\tlearn: 0.0020617\ttotal: 28.1s\tremaining: 39.9s\n",
            "413:\tlearn: 0.0020591\ttotal: 28.1s\tremaining: 39.8s\n",
            "414:\tlearn: 0.0020511\ttotal: 28.2s\tremaining: 39.7s\n",
            "415:\tlearn: 0.0020488\ttotal: 28.3s\tremaining: 39.7s\n",
            "416:\tlearn: 0.0020480\ttotal: 28.3s\tremaining: 39.6s\n",
            "417:\tlearn: 0.0020447\ttotal: 28.4s\tremaining: 39.5s\n",
            "418:\tlearn: 0.0020432\ttotal: 28.5s\tremaining: 39.5s\n",
            "419:\tlearn: 0.0020407\ttotal: 28.5s\tremaining: 39.4s\n",
            "420:\tlearn: 0.0020402\ttotal: 28.6s\tremaining: 39.3s\n",
            "421:\tlearn: 0.0020379\ttotal: 28.7s\tremaining: 39.3s\n",
            "422:\tlearn: 0.0020360\ttotal: 28.7s\tremaining: 39.2s\n",
            "423:\tlearn: 0.0020316\ttotal: 28.8s\tremaining: 39.1s\n",
            "424:\tlearn: 0.0020293\ttotal: 28.9s\tremaining: 39.1s\n",
            "425:\tlearn: 0.0020234\ttotal: 28.9s\tremaining: 39s\n",
            "426:\tlearn: 0.0020223\ttotal: 29s\tremaining: 38.9s\n",
            "427:\tlearn: 0.0020201\ttotal: 29.1s\tremaining: 38.9s\n",
            "428:\tlearn: 0.0020196\ttotal: 29.1s\tremaining: 38.8s\n",
            "429:\tlearn: 0.0020188\ttotal: 29.2s\tremaining: 38.7s\n",
            "430:\tlearn: 0.0020171\ttotal: 29.3s\tremaining: 38.7s\n",
            "431:\tlearn: 0.0020160\ttotal: 29.3s\tremaining: 38.6s\n",
            "432:\tlearn: 0.0020135\ttotal: 29.4s\tremaining: 38.5s\n",
            "433:\tlearn: 0.0020115\ttotal: 29.5s\tremaining: 38.4s\n",
            "434:\tlearn: 0.0020109\ttotal: 29.5s\tremaining: 38.4s\n",
            "435:\tlearn: 0.0020065\ttotal: 29.6s\tremaining: 38.3s\n",
            "436:\tlearn: 0.0020055\ttotal: 29.7s\tremaining: 38.2s\n",
            "437:\tlearn: 0.0020044\ttotal: 29.7s\tremaining: 38.2s\n",
            "438:\tlearn: 0.0019974\ttotal: 29.8s\tremaining: 38.1s\n",
            "439:\tlearn: 0.0019960\ttotal: 29.9s\tremaining: 38s\n",
            "440:\tlearn: 0.0019941\ttotal: 29.9s\tremaining: 37.9s\n",
            "441:\tlearn: 0.0019937\ttotal: 30s\tremaining: 37.9s\n",
            "442:\tlearn: 0.0019933\ttotal: 30.1s\tremaining: 37.8s\n",
            "443:\tlearn: 0.0019916\ttotal: 30.1s\tremaining: 37.7s\n",
            "444:\tlearn: 0.0019888\ttotal: 30.2s\tremaining: 37.7s\n",
            "445:\tlearn: 0.0019881\ttotal: 30.3s\tremaining: 37.6s\n",
            "446:\tlearn: 0.0019840\ttotal: 30.4s\tremaining: 37.5s\n",
            "447:\tlearn: 0.0019829\ttotal: 30.4s\tremaining: 37.5s\n",
            "448:\tlearn: 0.0019815\ttotal: 30.5s\tremaining: 37.4s\n",
            "449:\tlearn: 0.0019802\ttotal: 30.5s\tremaining: 37.3s\n",
            "450:\tlearn: 0.0019802\ttotal: 30.6s\tremaining: 37.2s\n",
            "451:\tlearn: 0.0019731\ttotal: 30.7s\tremaining: 37.2s\n",
            "452:\tlearn: 0.0019693\ttotal: 30.7s\tremaining: 37.1s\n",
            "453:\tlearn: 0.0019685\ttotal: 30.8s\tremaining: 37s\n",
            "454:\tlearn: 0.0019642\ttotal: 30.9s\tremaining: 37s\n",
            "455:\tlearn: 0.0019611\ttotal: 30.9s\tremaining: 36.9s\n",
            "456:\tlearn: 0.0019588\ttotal: 31s\tremaining: 36.9s\n",
            "457:\tlearn: 0.0019573\ttotal: 31.1s\tremaining: 36.8s\n",
            "458:\tlearn: 0.0019535\ttotal: 31.2s\tremaining: 36.7s\n",
            "459:\tlearn: 0.0019507\ttotal: 31.2s\tremaining: 36.7s\n",
            "460:\tlearn: 0.0019457\ttotal: 31.3s\tremaining: 36.6s\n",
            "461:\tlearn: 0.0019423\ttotal: 31.4s\tremaining: 36.5s\n",
            "462:\tlearn: 0.0019391\ttotal: 31.5s\tremaining: 36.5s\n",
            "463:\tlearn: 0.0019271\ttotal: 31.5s\tremaining: 36.4s\n",
            "464:\tlearn: 0.0019242\ttotal: 31.6s\tremaining: 36.4s\n",
            "465:\tlearn: 0.0019222\ttotal: 31.7s\tremaining: 36.3s\n",
            "466:\tlearn: 0.0019217\ttotal: 31.7s\tremaining: 36.2s\n",
            "467:\tlearn: 0.0019165\ttotal: 31.8s\tremaining: 36.2s\n",
            "468:\tlearn: 0.0019158\ttotal: 31.9s\tremaining: 36.1s\n",
            "469:\tlearn: 0.0019116\ttotal: 31.9s\tremaining: 36s\n",
            "470:\tlearn: 0.0019104\ttotal: 32s\tremaining: 36s\n",
            "471:\tlearn: 0.0019085\ttotal: 32.1s\tremaining: 35.9s\n",
            "472:\tlearn: 0.0019068\ttotal: 32.2s\tremaining: 35.8s\n",
            "473:\tlearn: 0.0019015\ttotal: 32.2s\tremaining: 35.8s\n",
            "474:\tlearn: 0.0019014\ttotal: 32.3s\tremaining: 35.7s\n",
            "475:\tlearn: 0.0019011\ttotal: 32.4s\tremaining: 35.6s\n",
            "476:\tlearn: 0.0018994\ttotal: 32.4s\tremaining: 35.6s\n",
            "477:\tlearn: 0.0018976\ttotal: 32.5s\tremaining: 35.5s\n",
            "478:\tlearn: 0.0018954\ttotal: 32.6s\tremaining: 35.4s\n",
            "479:\tlearn: 0.0018953\ttotal: 32.6s\tremaining: 35.3s\n",
            "480:\tlearn: 0.0018908\ttotal: 32.7s\tremaining: 35.3s\n",
            "481:\tlearn: 0.0018846\ttotal: 32.8s\tremaining: 35.2s\n",
            "482:\tlearn: 0.0018804\ttotal: 32.8s\tremaining: 35.1s\n",
            "483:\tlearn: 0.0018761\ttotal: 32.9s\tremaining: 35.1s\n",
            "484:\tlearn: 0.0018760\ttotal: 33s\tremaining: 35s\n",
            "485:\tlearn: 0.0018756\ttotal: 33s\tremaining: 35s\n",
            "486:\tlearn: 0.0018742\ttotal: 33.1s\tremaining: 34.9s\n",
            "487:\tlearn: 0.0018711\ttotal: 33.2s\tremaining: 34.8s\n",
            "488:\tlearn: 0.0018684\ttotal: 33.2s\tremaining: 34.7s\n",
            "489:\tlearn: 0.0018684\ttotal: 33.3s\tremaining: 34.7s\n",
            "490:\tlearn: 0.0018675\ttotal: 33.4s\tremaining: 34.6s\n",
            "491:\tlearn: 0.0018672\ttotal: 33.4s\tremaining: 34.5s\n",
            "492:\tlearn: 0.0018663\ttotal: 33.5s\tremaining: 34.4s\n",
            "493:\tlearn: 0.0018659\ttotal: 33.5s\tremaining: 34.4s\n",
            "494:\tlearn: 0.0018638\ttotal: 33.6s\tremaining: 34.3s\n",
            "495:\tlearn: 0.0018602\ttotal: 33.7s\tremaining: 34.2s\n",
            "496:\tlearn: 0.0018570\ttotal: 33.8s\tremaining: 34.2s\n",
            "497:\tlearn: 0.0018534\ttotal: 33.8s\tremaining: 34.1s\n",
            "498:\tlearn: 0.0018516\ttotal: 33.9s\tremaining: 34s\n",
            "499:\tlearn: 0.0018494\ttotal: 33.9s\tremaining: 33.9s\n",
            "500:\tlearn: 0.0018417\ttotal: 34s\tremaining: 33.9s\n",
            "501:\tlearn: 0.0018368\ttotal: 34.1s\tremaining: 33.8s\n",
            "502:\tlearn: 0.0018354\ttotal: 34.2s\tremaining: 33.8s\n",
            "503:\tlearn: 0.0018315\ttotal: 34.3s\tremaining: 33.7s\n",
            "504:\tlearn: 0.0018299\ttotal: 34.3s\tremaining: 33.6s\n",
            "505:\tlearn: 0.0018278\ttotal: 34.4s\tremaining: 33.6s\n",
            "506:\tlearn: 0.0018270\ttotal: 34.5s\tremaining: 33.5s\n",
            "507:\tlearn: 0.0018252\ttotal: 34.5s\tremaining: 33.4s\n",
            "508:\tlearn: 0.0018239\ttotal: 34.6s\tremaining: 33.4s\n",
            "509:\tlearn: 0.0018231\ttotal: 34.6s\tremaining: 33.3s\n",
            "510:\tlearn: 0.0018215\ttotal: 34.7s\tremaining: 33.2s\n",
            "511:\tlearn: 0.0018206\ttotal: 34.8s\tremaining: 33.1s\n",
            "512:\tlearn: 0.0018177\ttotal: 34.8s\tremaining: 33.1s\n",
            "513:\tlearn: 0.0018177\ttotal: 34.9s\tremaining: 33s\n",
            "514:\tlearn: 0.0018165\ttotal: 35s\tremaining: 32.9s\n",
            "515:\tlearn: 0.0018158\ttotal: 35s\tremaining: 32.9s\n",
            "516:\tlearn: 0.0018138\ttotal: 35.1s\tremaining: 32.8s\n",
            "517:\tlearn: 0.0018121\ttotal: 35.2s\tremaining: 32.7s\n",
            "518:\tlearn: 0.0018110\ttotal: 35.2s\tremaining: 32.7s\n",
            "519:\tlearn: 0.0018081\ttotal: 35.3s\tremaining: 32.6s\n",
            "520:\tlearn: 0.0018067\ttotal: 35.4s\tremaining: 32.5s\n",
            "521:\tlearn: 0.0018044\ttotal: 35.4s\tremaining: 32.5s\n",
            "522:\tlearn: 0.0018034\ttotal: 35.5s\tremaining: 32.4s\n",
            "523:\tlearn: 0.0018034\ttotal: 35.6s\tremaining: 32.3s\n",
            "524:\tlearn: 0.0018032\ttotal: 35.6s\tremaining: 32.2s\n",
            "525:\tlearn: 0.0017982\ttotal: 35.7s\tremaining: 32.2s\n",
            "526:\tlearn: 0.0017940\ttotal: 35.8s\tremaining: 32.1s\n",
            "527:\tlearn: 0.0017921\ttotal: 35.8s\tremaining: 32s\n",
            "528:\tlearn: 0.0017903\ttotal: 35.9s\tremaining: 32s\n",
            "529:\tlearn: 0.0017903\ttotal: 36s\tremaining: 31.9s\n",
            "530:\tlearn: 0.0017888\ttotal: 36s\tremaining: 31.8s\n",
            "531:\tlearn: 0.0017838\ttotal: 36.2s\tremaining: 31.8s\n",
            "532:\tlearn: 0.0017826\ttotal: 36.2s\tremaining: 31.8s\n",
            "533:\tlearn: 0.0017804\ttotal: 36.3s\tremaining: 31.7s\n",
            "534:\tlearn: 0.0017794\ttotal: 36.4s\tremaining: 31.6s\n",
            "535:\tlearn: 0.0017769\ttotal: 36.4s\tremaining: 31.6s\n",
            "536:\tlearn: 0.0017742\ttotal: 36.5s\tremaining: 31.5s\n",
            "537:\tlearn: 0.0017710\ttotal: 36.6s\tremaining: 31.4s\n",
            "538:\tlearn: 0.0017700\ttotal: 36.6s\tremaining: 31.3s\n",
            "539:\tlearn: 0.0017670\ttotal: 36.7s\tremaining: 31.3s\n",
            "540:\tlearn: 0.0017643\ttotal: 36.8s\tremaining: 31.2s\n",
            "541:\tlearn: 0.0017627\ttotal: 36.8s\tremaining: 31.1s\n",
            "542:\tlearn: 0.0017610\ttotal: 36.9s\tremaining: 31.1s\n",
            "543:\tlearn: 0.0017592\ttotal: 37s\tremaining: 31s\n",
            "544:\tlearn: 0.0017518\ttotal: 37.1s\tremaining: 30.9s\n",
            "545:\tlearn: 0.0017512\ttotal: 37.1s\tremaining: 30.9s\n",
            "546:\tlearn: 0.0017472\ttotal: 37.2s\tremaining: 30.8s\n",
            "547:\tlearn: 0.0017459\ttotal: 37.3s\tremaining: 30.7s\n",
            "548:\tlearn: 0.0017454\ttotal: 37.3s\tremaining: 30.7s\n",
            "549:\tlearn: 0.0017429\ttotal: 37.4s\tremaining: 30.6s\n",
            "550:\tlearn: 0.0017344\ttotal: 37.5s\tremaining: 30.5s\n",
            "551:\tlearn: 0.0017306\ttotal: 37.5s\tremaining: 30.5s\n",
            "552:\tlearn: 0.0017286\ttotal: 37.6s\tremaining: 30.4s\n",
            "553:\tlearn: 0.0017282\ttotal: 37.7s\tremaining: 30.3s\n",
            "554:\tlearn: 0.0017280\ttotal: 37.7s\tremaining: 30.3s\n",
            "555:\tlearn: 0.0017270\ttotal: 37.8s\tremaining: 30.2s\n",
            "556:\tlearn: 0.0017261\ttotal: 37.9s\tremaining: 30.1s\n",
            "557:\tlearn: 0.0017221\ttotal: 37.9s\tremaining: 30.1s\n",
            "558:\tlearn: 0.0017207\ttotal: 38s\tremaining: 30s\n",
            "559:\tlearn: 0.0017184\ttotal: 38.1s\tremaining: 29.9s\n",
            "560:\tlearn: 0.0017165\ttotal: 38.1s\tremaining: 29.8s\n",
            "561:\tlearn: 0.0017157\ttotal: 38.2s\tremaining: 29.8s\n",
            "562:\tlearn: 0.0017132\ttotal: 38.3s\tremaining: 29.7s\n",
            "563:\tlearn: 0.0017123\ttotal: 38.4s\tremaining: 29.6s\n",
            "564:\tlearn: 0.0017119\ttotal: 38.4s\tremaining: 29.6s\n",
            "565:\tlearn: 0.0017071\ttotal: 38.5s\tremaining: 29.5s\n",
            "566:\tlearn: 0.0017044\ttotal: 38.6s\tremaining: 29.4s\n",
            "567:\tlearn: 0.0017014\ttotal: 38.6s\tremaining: 29.4s\n",
            "568:\tlearn: 0.0017006\ttotal: 38.7s\tremaining: 29.3s\n",
            "569:\tlearn: 0.0016994\ttotal: 38.8s\tremaining: 29.2s\n",
            "570:\tlearn: 0.0016963\ttotal: 38.8s\tremaining: 29.2s\n",
            "571:\tlearn: 0.0016939\ttotal: 38.9s\tremaining: 29.1s\n",
            "572:\tlearn: 0.0016936\ttotal: 39s\tremaining: 29s\n",
            "573:\tlearn: 0.0016923\ttotal: 39s\tremaining: 29s\n",
            "574:\tlearn: 0.0016912\ttotal: 39.1s\tremaining: 28.9s\n",
            "575:\tlearn: 0.0016900\ttotal: 39.2s\tremaining: 28.8s\n",
            "576:\tlearn: 0.0016851\ttotal: 39.3s\tremaining: 28.8s\n",
            "577:\tlearn: 0.0016830\ttotal: 39.3s\tremaining: 28.7s\n",
            "578:\tlearn: 0.0016804\ttotal: 39.4s\tremaining: 28.6s\n",
            "579:\tlearn: 0.0016766\ttotal: 39.5s\tremaining: 28.6s\n",
            "580:\tlearn: 0.0016752\ttotal: 39.5s\tremaining: 28.5s\n",
            "581:\tlearn: 0.0016748\ttotal: 39.6s\tremaining: 28.4s\n",
            "582:\tlearn: 0.0016682\ttotal: 39.7s\tremaining: 28.4s\n",
            "583:\tlearn: 0.0016663\ttotal: 39.7s\tremaining: 28.3s\n",
            "584:\tlearn: 0.0016662\ttotal: 39.8s\tremaining: 28.2s\n",
            "585:\tlearn: 0.0016611\ttotal: 39.9s\tremaining: 28.2s\n",
            "586:\tlearn: 0.0016600\ttotal: 39.9s\tremaining: 28.1s\n",
            "587:\tlearn: 0.0016565\ttotal: 40s\tremaining: 28s\n",
            "588:\tlearn: 0.0016551\ttotal: 40.1s\tremaining: 28s\n",
            "589:\tlearn: 0.0016540\ttotal: 40.1s\tremaining: 27.9s\n",
            "590:\tlearn: 0.0016506\ttotal: 40.2s\tremaining: 27.8s\n",
            "591:\tlearn: 0.0016488\ttotal: 40.3s\tremaining: 27.8s\n",
            "592:\tlearn: 0.0016452\ttotal: 40.4s\tremaining: 27.7s\n",
            "593:\tlearn: 0.0016432\ttotal: 40.5s\tremaining: 27.6s\n",
            "594:\tlearn: 0.0016389\ttotal: 40.5s\tremaining: 27.6s\n",
            "595:\tlearn: 0.0016362\ttotal: 40.6s\tremaining: 27.5s\n",
            "596:\tlearn: 0.0016347\ttotal: 40.7s\tremaining: 27.5s\n",
            "597:\tlearn: 0.0016340\ttotal: 40.7s\tremaining: 27.4s\n",
            "598:\tlearn: 0.0016282\ttotal: 40.8s\tremaining: 27.3s\n",
            "599:\tlearn: 0.0016258\ttotal: 40.9s\tremaining: 27.3s\n",
            "600:\tlearn: 0.0016251\ttotal: 40.9s\tremaining: 27.2s\n",
            "601:\tlearn: 0.0016221\ttotal: 41s\tremaining: 27.1s\n",
            "602:\tlearn: 0.0016214\ttotal: 41.1s\tremaining: 27s\n",
            "603:\tlearn: 0.0016208\ttotal: 41.1s\tremaining: 27s\n",
            "604:\tlearn: 0.0016187\ttotal: 41.2s\tremaining: 26.9s\n",
            "605:\tlearn: 0.0016156\ttotal: 41.3s\tremaining: 26.8s\n",
            "606:\tlearn: 0.0016085\ttotal: 41.4s\tremaining: 26.8s\n",
            "607:\tlearn: 0.0016049\ttotal: 41.4s\tremaining: 26.7s\n",
            "608:\tlearn: 0.0016017\ttotal: 41.5s\tremaining: 26.6s\n",
            "609:\tlearn: 0.0015977\ttotal: 41.6s\tremaining: 26.6s\n",
            "610:\tlearn: 0.0015963\ttotal: 41.6s\tremaining: 26.5s\n",
            "611:\tlearn: 0.0015952\ttotal: 41.7s\tremaining: 26.4s\n",
            "612:\tlearn: 0.0015931\ttotal: 41.8s\tremaining: 26.4s\n",
            "613:\tlearn: 0.0015896\ttotal: 41.8s\tremaining: 26.3s\n",
            "614:\tlearn: 0.0015882\ttotal: 41.9s\tremaining: 26.2s\n",
            "615:\tlearn: 0.0015866\ttotal: 42s\tremaining: 26.2s\n",
            "616:\tlearn: 0.0015851\ttotal: 42s\tremaining: 26.1s\n",
            "617:\tlearn: 0.0015821\ttotal: 42.1s\tremaining: 26s\n",
            "618:\tlearn: 0.0015814\ttotal: 42.2s\tremaining: 26s\n",
            "619:\tlearn: 0.0015802\ttotal: 42.3s\tremaining: 25.9s\n",
            "620:\tlearn: 0.0015797\ttotal: 42.3s\tremaining: 25.8s\n",
            "621:\tlearn: 0.0015774\ttotal: 42.4s\tremaining: 25.8s\n",
            "622:\tlearn: 0.0015719\ttotal: 42.5s\tremaining: 25.7s\n",
            "623:\tlearn: 0.0015663\ttotal: 42.5s\tremaining: 25.6s\n",
            "624:\tlearn: 0.0015659\ttotal: 42.6s\tremaining: 25.6s\n",
            "625:\tlearn: 0.0015628\ttotal: 42.7s\tremaining: 25.5s\n",
            "626:\tlearn: 0.0015549\ttotal: 42.8s\tremaining: 25.4s\n",
            "627:\tlearn: 0.0015506\ttotal: 42.8s\tremaining: 25.4s\n",
            "628:\tlearn: 0.0015500\ttotal: 42.9s\tremaining: 25.3s\n",
            "629:\tlearn: 0.0015478\ttotal: 42.9s\tremaining: 25.2s\n",
            "630:\tlearn: 0.0015474\ttotal: 43s\tremaining: 25.1s\n",
            "631:\tlearn: 0.0015437\ttotal: 43.1s\tremaining: 25.1s\n",
            "632:\tlearn: 0.0015424\ttotal: 43.1s\tremaining: 25s\n",
            "633:\tlearn: 0.0015402\ttotal: 43.2s\tremaining: 24.9s\n",
            "634:\tlearn: 0.0015390\ttotal: 43.3s\tremaining: 24.9s\n",
            "635:\tlearn: 0.0015315\ttotal: 43.4s\tremaining: 24.8s\n",
            "636:\tlearn: 0.0015261\ttotal: 43.5s\tremaining: 24.8s\n",
            "637:\tlearn: 0.0015232\ttotal: 43.5s\tremaining: 24.7s\n",
            "638:\tlearn: 0.0015224\ttotal: 43.6s\tremaining: 24.6s\n",
            "639:\tlearn: 0.0015215\ttotal: 43.6s\tremaining: 24.6s\n",
            "640:\tlearn: 0.0015196\ttotal: 43.7s\tremaining: 24.5s\n",
            "641:\tlearn: 0.0015142\ttotal: 43.8s\tremaining: 24.4s\n",
            "642:\tlearn: 0.0015131\ttotal: 43.9s\tremaining: 24.3s\n",
            "643:\tlearn: 0.0015113\ttotal: 43.9s\tremaining: 24.3s\n",
            "644:\tlearn: 0.0015091\ttotal: 44s\tremaining: 24.2s\n",
            "645:\tlearn: 0.0015078\ttotal: 44.1s\tremaining: 24.1s\n",
            "646:\tlearn: 0.0015067\ttotal: 44.1s\tremaining: 24.1s\n",
            "647:\tlearn: 0.0015039\ttotal: 44.2s\tremaining: 24s\n",
            "648:\tlearn: 0.0015031\ttotal: 44.3s\tremaining: 23.9s\n",
            "649:\tlearn: 0.0015021\ttotal: 44.3s\tremaining: 23.9s\n",
            "650:\tlearn: 0.0014996\ttotal: 44.4s\tremaining: 23.8s\n",
            "651:\tlearn: 0.0014976\ttotal: 44.5s\tremaining: 23.7s\n",
            "652:\tlearn: 0.0014950\ttotal: 44.5s\tremaining: 23.7s\n",
            "653:\tlearn: 0.0014930\ttotal: 44.6s\tremaining: 23.6s\n",
            "654:\tlearn: 0.0014915\ttotal: 44.7s\tremaining: 23.5s\n",
            "655:\tlearn: 0.0014874\ttotal: 44.8s\tremaining: 23.5s\n",
            "656:\tlearn: 0.0014840\ttotal: 44.8s\tremaining: 23.4s\n",
            "657:\tlearn: 0.0014814\ttotal: 44.9s\tremaining: 23.3s\n",
            "658:\tlearn: 0.0014802\ttotal: 45s\tremaining: 23.3s\n",
            "659:\tlearn: 0.0014788\ttotal: 45s\tremaining: 23.2s\n",
            "660:\tlearn: 0.0014756\ttotal: 45.1s\tremaining: 23.1s\n",
            "661:\tlearn: 0.0014732\ttotal: 45.2s\tremaining: 23.1s\n",
            "662:\tlearn: 0.0014710\ttotal: 45.2s\tremaining: 23s\n",
            "663:\tlearn: 0.0014666\ttotal: 45.3s\tremaining: 22.9s\n",
            "664:\tlearn: 0.0014658\ttotal: 45.4s\tremaining: 22.9s\n",
            "665:\tlearn: 0.0014624\ttotal: 45.5s\tremaining: 22.8s\n",
            "666:\tlearn: 0.0014617\ttotal: 45.5s\tremaining: 22.7s\n",
            "667:\tlearn: 0.0014605\ttotal: 45.6s\tremaining: 22.7s\n",
            "668:\tlearn: 0.0014572\ttotal: 45.7s\tremaining: 22.6s\n",
            "669:\tlearn: 0.0014511\ttotal: 45.8s\tremaining: 22.5s\n",
            "670:\tlearn: 0.0014466\ttotal: 45.8s\tremaining: 22.5s\n",
            "671:\tlearn: 0.0014460\ttotal: 45.9s\tremaining: 22.4s\n",
            "672:\tlearn: 0.0014452\ttotal: 46s\tremaining: 22.3s\n",
            "673:\tlearn: 0.0014446\ttotal: 46s\tremaining: 22.3s\n",
            "674:\tlearn: 0.0014425\ttotal: 46.1s\tremaining: 22.2s\n",
            "675:\tlearn: 0.0014396\ttotal: 46.2s\tremaining: 22.1s\n",
            "676:\tlearn: 0.0014358\ttotal: 46.2s\tremaining: 22.1s\n",
            "677:\tlearn: 0.0014342\ttotal: 46.3s\tremaining: 22s\n",
            "678:\tlearn: 0.0014320\ttotal: 46.4s\tremaining: 21.9s\n",
            "679:\tlearn: 0.0014314\ttotal: 46.5s\tremaining: 21.9s\n",
            "680:\tlearn: 0.0014296\ttotal: 46.5s\tremaining: 21.8s\n",
            "681:\tlearn: 0.0014272\ttotal: 46.6s\tremaining: 21.7s\n",
            "682:\tlearn: 0.0014242\ttotal: 46.7s\tremaining: 21.7s\n",
            "683:\tlearn: 0.0014211\ttotal: 46.7s\tremaining: 21.6s\n",
            "684:\tlearn: 0.0014165\ttotal: 46.8s\tremaining: 21.5s\n",
            "685:\tlearn: 0.0014150\ttotal: 46.9s\tremaining: 21.5s\n",
            "686:\tlearn: 0.0014143\ttotal: 46.9s\tremaining: 21.4s\n",
            "687:\tlearn: 0.0014137\ttotal: 47s\tremaining: 21.3s\n",
            "688:\tlearn: 0.0014126\ttotal: 47.1s\tremaining: 21.2s\n",
            "689:\tlearn: 0.0014124\ttotal: 47.1s\tremaining: 21.2s\n",
            "690:\tlearn: 0.0014105\ttotal: 47.2s\tremaining: 21.1s\n",
            "691:\tlearn: 0.0014080\ttotal: 47.3s\tremaining: 21s\n",
            "692:\tlearn: 0.0014079\ttotal: 47.3s\tremaining: 21s\n",
            "693:\tlearn: 0.0014065\ttotal: 47.4s\tremaining: 20.9s\n",
            "694:\tlearn: 0.0014045\ttotal: 47.5s\tremaining: 20.8s\n",
            "695:\tlearn: 0.0014036\ttotal: 47.6s\tremaining: 20.8s\n",
            "696:\tlearn: 0.0014032\ttotal: 47.6s\tremaining: 20.7s\n",
            "697:\tlearn: 0.0014032\ttotal: 47.7s\tremaining: 20.6s\n",
            "698:\tlearn: 0.0014015\ttotal: 47.8s\tremaining: 20.6s\n",
            "699:\tlearn: 0.0013998\ttotal: 47.8s\tremaining: 20.5s\n",
            "700:\tlearn: 0.0013974\ttotal: 47.9s\tremaining: 20.4s\n",
            "701:\tlearn: 0.0013929\ttotal: 48s\tremaining: 20.4s\n",
            "702:\tlearn: 0.0013927\ttotal: 48s\tremaining: 20.3s\n",
            "703:\tlearn: 0.0013922\ttotal: 48.1s\tremaining: 20.2s\n",
            "704:\tlearn: 0.0013918\ttotal: 48.1s\tremaining: 20.1s\n",
            "705:\tlearn: 0.0013904\ttotal: 48.2s\tremaining: 20.1s\n",
            "706:\tlearn: 0.0013898\ttotal: 48.3s\tremaining: 20s\n",
            "707:\tlearn: 0.0013881\ttotal: 48.3s\tremaining: 19.9s\n",
            "708:\tlearn: 0.0013862\ttotal: 48.4s\tremaining: 19.9s\n",
            "709:\tlearn: 0.0013846\ttotal: 48.5s\tremaining: 19.8s\n",
            "710:\tlearn: 0.0013813\ttotal: 48.6s\tremaining: 19.7s\n",
            "711:\tlearn: 0.0013803\ttotal: 48.6s\tremaining: 19.7s\n",
            "712:\tlearn: 0.0013794\ttotal: 48.7s\tremaining: 19.6s\n",
            "713:\tlearn: 0.0013738\ttotal: 48.8s\tremaining: 19.5s\n",
            "714:\tlearn: 0.0013726\ttotal: 48.8s\tremaining: 19.5s\n",
            "715:\tlearn: 0.0013705\ttotal: 48.9s\tremaining: 19.4s\n",
            "716:\tlearn: 0.0013692\ttotal: 49s\tremaining: 19.3s\n",
            "717:\tlearn: 0.0013688\ttotal: 49s\tremaining: 19.3s\n",
            "718:\tlearn: 0.0013674\ttotal: 49.1s\tremaining: 19.2s\n",
            "719:\tlearn: 0.0013603\ttotal: 49.2s\tremaining: 19.1s\n",
            "720:\tlearn: 0.0013572\ttotal: 49.3s\tremaining: 19.1s\n",
            "721:\tlearn: 0.0013567\ttotal: 49.3s\tremaining: 19s\n",
            "722:\tlearn: 0.0013532\ttotal: 49.4s\tremaining: 18.9s\n",
            "723:\tlearn: 0.0013517\ttotal: 49.5s\tremaining: 18.9s\n",
            "724:\tlearn: 0.0013510\ttotal: 49.6s\tremaining: 18.8s\n",
            "725:\tlearn: 0.0013470\ttotal: 49.6s\tremaining: 18.7s\n",
            "726:\tlearn: 0.0013451\ttotal: 49.7s\tremaining: 18.7s\n",
            "727:\tlearn: 0.0013438\ttotal: 49.8s\tremaining: 18.6s\n",
            "728:\tlearn: 0.0013412\ttotal: 49.8s\tremaining: 18.5s\n",
            "729:\tlearn: 0.0013403\ttotal: 49.9s\tremaining: 18.5s\n",
            "730:\tlearn: 0.0013382\ttotal: 50s\tremaining: 18.4s\n",
            "731:\tlearn: 0.0013346\ttotal: 50s\tremaining: 18.3s\n",
            "732:\tlearn: 0.0013335\ttotal: 50.1s\tremaining: 18.3s\n",
            "733:\tlearn: 0.0013306\ttotal: 50.2s\tremaining: 18.2s\n",
            "734:\tlearn: 0.0013289\ttotal: 50.2s\tremaining: 18.1s\n",
            "735:\tlearn: 0.0013275\ttotal: 50.3s\tremaining: 18s\n",
            "736:\tlearn: 0.0013267\ttotal: 50.4s\tremaining: 18s\n",
            "737:\tlearn: 0.0013261\ttotal: 50.5s\tremaining: 17.9s\n",
            "738:\tlearn: 0.0013239\ttotal: 50.5s\tremaining: 17.8s\n",
            "739:\tlearn: 0.0013231\ttotal: 50.6s\tremaining: 17.8s\n",
            "740:\tlearn: 0.0013202\ttotal: 50.7s\tremaining: 17.7s\n",
            "741:\tlearn: 0.0013175\ttotal: 50.7s\tremaining: 17.6s\n",
            "742:\tlearn: 0.0013159\ttotal: 50.8s\tremaining: 17.6s\n",
            "743:\tlearn: 0.0013122\ttotal: 50.9s\tremaining: 17.5s\n",
            "744:\tlearn: 0.0013094\ttotal: 50.9s\tremaining: 17.4s\n",
            "745:\tlearn: 0.0013093\ttotal: 51s\tremaining: 17.4s\n",
            "746:\tlearn: 0.0013060\ttotal: 51.1s\tremaining: 17.3s\n",
            "747:\tlearn: 0.0013046\ttotal: 51.1s\tremaining: 17.2s\n",
            "748:\tlearn: 0.0013035\ttotal: 51.2s\tremaining: 17.2s\n",
            "749:\tlearn: 0.0013021\ttotal: 51.3s\tremaining: 17.1s\n",
            "750:\tlearn: 0.0013001\ttotal: 51.3s\tremaining: 17s\n",
            "751:\tlearn: 0.0012986\ttotal: 51.4s\tremaining: 17s\n",
            "752:\tlearn: 0.0012960\ttotal: 51.5s\tremaining: 16.9s\n",
            "753:\tlearn: 0.0012947\ttotal: 51.6s\tremaining: 16.8s\n",
            "754:\tlearn: 0.0012934\ttotal: 51.6s\tremaining: 16.8s\n",
            "755:\tlearn: 0.0012901\ttotal: 51.7s\tremaining: 16.7s\n",
            "756:\tlearn: 0.0012891\ttotal: 51.8s\tremaining: 16.6s\n",
            "757:\tlearn: 0.0012882\ttotal: 51.8s\tremaining: 16.5s\n",
            "758:\tlearn: 0.0012858\ttotal: 51.9s\tremaining: 16.5s\n",
            "759:\tlearn: 0.0012846\ttotal: 52s\tremaining: 16.4s\n",
            "760:\tlearn: 0.0012825\ttotal: 52.1s\tremaining: 16.3s\n",
            "761:\tlearn: 0.0012814\ttotal: 52.1s\tremaining: 16.3s\n",
            "762:\tlearn: 0.0012786\ttotal: 52.2s\tremaining: 16.2s\n",
            "763:\tlearn: 0.0012745\ttotal: 52.3s\tremaining: 16.1s\n",
            "764:\tlearn: 0.0012717\ttotal: 52.3s\tremaining: 16.1s\n",
            "765:\tlearn: 0.0012686\ttotal: 52.4s\tremaining: 16s\n",
            "766:\tlearn: 0.0012677\ttotal: 52.5s\tremaining: 15.9s\n",
            "767:\tlearn: 0.0012672\ttotal: 52.6s\tremaining: 15.9s\n",
            "768:\tlearn: 0.0012669\ttotal: 52.6s\tremaining: 15.8s\n",
            "769:\tlearn: 0.0012647\ttotal: 52.7s\tremaining: 15.7s\n",
            "770:\tlearn: 0.0012632\ttotal: 52.8s\tremaining: 15.7s\n",
            "771:\tlearn: 0.0012627\ttotal: 52.9s\tremaining: 15.6s\n",
            "772:\tlearn: 0.0012605\ttotal: 52.9s\tremaining: 15.5s\n",
            "773:\tlearn: 0.0012576\ttotal: 53s\tremaining: 15.5s\n",
            "774:\tlearn: 0.0012523\ttotal: 53.1s\tremaining: 15.4s\n",
            "775:\tlearn: 0.0012509\ttotal: 53.1s\tremaining: 15.3s\n",
            "776:\tlearn: 0.0012489\ttotal: 53.2s\tremaining: 15.3s\n",
            "777:\tlearn: 0.0012476\ttotal: 53.3s\tremaining: 15.2s\n",
            "778:\tlearn: 0.0012425\ttotal: 53.3s\tremaining: 15.1s\n",
            "779:\tlearn: 0.0012417\ttotal: 53.4s\tremaining: 15.1s\n",
            "780:\tlearn: 0.0012391\ttotal: 53.5s\tremaining: 15s\n",
            "781:\tlearn: 0.0012383\ttotal: 53.6s\tremaining: 14.9s\n",
            "782:\tlearn: 0.0012341\ttotal: 53.7s\tremaining: 14.9s\n",
            "783:\tlearn: 0.0012324\ttotal: 53.7s\tremaining: 14.8s\n",
            "784:\tlearn: 0.0012285\ttotal: 53.8s\tremaining: 14.7s\n",
            "785:\tlearn: 0.0012268\ttotal: 53.9s\tremaining: 14.7s\n",
            "786:\tlearn: 0.0012243\ttotal: 53.9s\tremaining: 14.6s\n",
            "787:\tlearn: 0.0012234\ttotal: 54s\tremaining: 14.5s\n",
            "788:\tlearn: 0.0012214\ttotal: 54.1s\tremaining: 14.5s\n",
            "789:\tlearn: 0.0012203\ttotal: 54.2s\tremaining: 14.4s\n",
            "790:\tlearn: 0.0012186\ttotal: 54.2s\tremaining: 14.3s\n",
            "791:\tlearn: 0.0012174\ttotal: 54.3s\tremaining: 14.3s\n",
            "792:\tlearn: 0.0012130\ttotal: 54.4s\tremaining: 14.2s\n",
            "793:\tlearn: 0.0012110\ttotal: 54.4s\tremaining: 14.1s\n",
            "794:\tlearn: 0.0012093\ttotal: 54.5s\tremaining: 14.1s\n",
            "795:\tlearn: 0.0012082\ttotal: 54.6s\tremaining: 14s\n",
            "796:\tlearn: 0.0012080\ttotal: 54.7s\tremaining: 13.9s\n",
            "797:\tlearn: 0.0012053\ttotal: 54.7s\tremaining: 13.9s\n",
            "798:\tlearn: 0.0012052\ttotal: 54.8s\tremaining: 13.8s\n",
            "799:\tlearn: 0.0012031\ttotal: 54.9s\tremaining: 13.7s\n",
            "800:\tlearn: 0.0011952\ttotal: 54.9s\tremaining: 13.6s\n",
            "801:\tlearn: 0.0011934\ttotal: 55s\tremaining: 13.6s\n",
            "802:\tlearn: 0.0011906\ttotal: 55.1s\tremaining: 13.5s\n",
            "803:\tlearn: 0.0011889\ttotal: 55.1s\tremaining: 13.4s\n",
            "804:\tlearn: 0.0011874\ttotal: 55.2s\tremaining: 13.4s\n",
            "805:\tlearn: 0.0011859\ttotal: 55.3s\tremaining: 13.3s\n",
            "806:\tlearn: 0.0011844\ttotal: 55.3s\tremaining: 13.2s\n",
            "807:\tlearn: 0.0011836\ttotal: 55.4s\tremaining: 13.2s\n",
            "808:\tlearn: 0.0011813\ttotal: 55.5s\tremaining: 13.1s\n",
            "809:\tlearn: 0.0011771\ttotal: 55.6s\tremaining: 13s\n",
            "810:\tlearn: 0.0011770\ttotal: 55.6s\tremaining: 13s\n",
            "811:\tlearn: 0.0011756\ttotal: 55.7s\tremaining: 12.9s\n",
            "812:\tlearn: 0.0011748\ttotal: 55.8s\tremaining: 12.8s\n",
            "813:\tlearn: 0.0011702\ttotal: 55.8s\tremaining: 12.8s\n",
            "814:\tlearn: 0.0011697\ttotal: 55.9s\tremaining: 12.7s\n",
            "815:\tlearn: 0.0011678\ttotal: 56s\tremaining: 12.6s\n",
            "816:\tlearn: 0.0011676\ttotal: 56s\tremaining: 12.6s\n",
            "817:\tlearn: 0.0011670\ttotal: 56.1s\tremaining: 12.5s\n",
            "818:\tlearn: 0.0011658\ttotal: 56.2s\tremaining: 12.4s\n",
            "819:\tlearn: 0.0011641\ttotal: 56.2s\tremaining: 12.3s\n",
            "820:\tlearn: 0.0011615\ttotal: 56.3s\tremaining: 12.3s\n",
            "821:\tlearn: 0.0011603\ttotal: 56.4s\tremaining: 12.2s\n",
            "822:\tlearn: 0.0011592\ttotal: 56.4s\tremaining: 12.1s\n",
            "823:\tlearn: 0.0011561\ttotal: 56.5s\tremaining: 12.1s\n",
            "824:\tlearn: 0.0011548\ttotal: 56.6s\tremaining: 12s\n",
            "825:\tlearn: 0.0011539\ttotal: 56.7s\tremaining: 11.9s\n",
            "826:\tlearn: 0.0011531\ttotal: 56.7s\tremaining: 11.9s\n",
            "827:\tlearn: 0.0011521\ttotal: 56.8s\tremaining: 11.8s\n",
            "828:\tlearn: 0.0011496\ttotal: 56.9s\tremaining: 11.7s\n",
            "829:\tlearn: 0.0011481\ttotal: 57s\tremaining: 11.7s\n",
            "830:\tlearn: 0.0011454\ttotal: 57s\tremaining: 11.6s\n",
            "831:\tlearn: 0.0011431\ttotal: 57.1s\tremaining: 11.5s\n",
            "832:\tlearn: 0.0011427\ttotal: 57.2s\tremaining: 11.5s\n",
            "833:\tlearn: 0.0011410\ttotal: 57.2s\tremaining: 11.4s\n",
            "834:\tlearn: 0.0011408\ttotal: 57.3s\tremaining: 11.3s\n",
            "835:\tlearn: 0.0011382\ttotal: 57.4s\tremaining: 11.3s\n",
            "836:\tlearn: 0.0011355\ttotal: 57.5s\tremaining: 11.2s\n",
            "837:\tlearn: 0.0011343\ttotal: 57.5s\tremaining: 11.1s\n",
            "838:\tlearn: 0.0011290\ttotal: 57.6s\tremaining: 11.1s\n",
            "839:\tlearn: 0.0011284\ttotal: 57.7s\tremaining: 11s\n",
            "840:\tlearn: 0.0011282\ttotal: 57.8s\tremaining: 10.9s\n",
            "841:\tlearn: 0.0011273\ttotal: 57.8s\tremaining: 10.8s\n",
            "842:\tlearn: 0.0011257\ttotal: 57.9s\tremaining: 10.8s\n",
            "843:\tlearn: 0.0011222\ttotal: 58s\tremaining: 10.7s\n",
            "844:\tlearn: 0.0011200\ttotal: 58s\tremaining: 10.6s\n",
            "845:\tlearn: 0.0011196\ttotal: 58.1s\tremaining: 10.6s\n",
            "846:\tlearn: 0.0011181\ttotal: 58.1s\tremaining: 10.5s\n",
            "847:\tlearn: 0.0011168\ttotal: 58.2s\tremaining: 10.4s\n",
            "848:\tlearn: 0.0011146\ttotal: 58.3s\tremaining: 10.4s\n",
            "849:\tlearn: 0.0011136\ttotal: 58.4s\tremaining: 10.3s\n",
            "850:\tlearn: 0.0011120\ttotal: 58.4s\tremaining: 10.2s\n",
            "851:\tlearn: 0.0011093\ttotal: 58.5s\tremaining: 10.2s\n",
            "852:\tlearn: 0.0011084\ttotal: 58.6s\tremaining: 10.1s\n",
            "853:\tlearn: 0.0011080\ttotal: 58.7s\tremaining: 10s\n",
            "854:\tlearn: 0.0011051\ttotal: 58.7s\tremaining: 9.96s\n",
            "855:\tlearn: 0.0011047\ttotal: 58.8s\tremaining: 9.89s\n",
            "856:\tlearn: 0.0011017\ttotal: 58.9s\tremaining: 9.82s\n",
            "857:\tlearn: 0.0010993\ttotal: 59s\tremaining: 9.76s\n",
            "858:\tlearn: 0.0010983\ttotal: 59s\tremaining: 9.69s\n",
            "859:\tlearn: 0.0010969\ttotal: 59.1s\tremaining: 9.62s\n",
            "860:\tlearn: 0.0010967\ttotal: 59.2s\tremaining: 9.55s\n",
            "861:\tlearn: 0.0010960\ttotal: 59.2s\tremaining: 9.48s\n",
            "862:\tlearn: 0.0010951\ttotal: 59.3s\tremaining: 9.41s\n",
            "863:\tlearn: 0.0010929\ttotal: 59.4s\tremaining: 9.34s\n",
            "864:\tlearn: 0.0010897\ttotal: 59.4s\tremaining: 9.28s\n",
            "865:\tlearn: 0.0010885\ttotal: 59.5s\tremaining: 9.21s\n",
            "866:\tlearn: 0.0010862\ttotal: 59.6s\tremaining: 9.14s\n",
            "867:\tlearn: 0.0010840\ttotal: 59.7s\tremaining: 9.07s\n",
            "868:\tlearn: 0.0010829\ttotal: 59.7s\tremaining: 9.01s\n",
            "869:\tlearn: 0.0010819\ttotal: 59.8s\tremaining: 8.94s\n",
            "870:\tlearn: 0.0010795\ttotal: 59.9s\tremaining: 8.87s\n",
            "871:\tlearn: 0.0010786\ttotal: 60s\tremaining: 8.8s\n",
            "872:\tlearn: 0.0010750\ttotal: 1m\tremaining: 8.73s\n",
            "873:\tlearn: 0.0010736\ttotal: 1m\tremaining: 8.66s\n",
            "874:\tlearn: 0.0010714\ttotal: 1m\tremaining: 8.59s\n",
            "875:\tlearn: 0.0010697\ttotal: 1m\tremaining: 8.53s\n",
            "876:\tlearn: 0.0010690\ttotal: 1m\tremaining: 8.46s\n",
            "877:\tlearn: 0.0010685\ttotal: 1m\tremaining: 8.39s\n",
            "878:\tlearn: 0.0010640\ttotal: 1m\tremaining: 8.32s\n",
            "879:\tlearn: 0.0010630\ttotal: 1m\tremaining: 8.25s\n",
            "880:\tlearn: 0.0010617\ttotal: 1m\tremaining: 8.18s\n",
            "881:\tlearn: 0.0010607\ttotal: 1m\tremaining: 8.12s\n",
            "882:\tlearn: 0.0010602\ttotal: 1m\tremaining: 8.05s\n",
            "883:\tlearn: 0.0010592\ttotal: 1m\tremaining: 7.98s\n",
            "884:\tlearn: 0.0010584\ttotal: 1m\tremaining: 7.91s\n",
            "885:\tlearn: 0.0010547\ttotal: 1m\tremaining: 7.84s\n",
            "886:\tlearn: 0.0010537\ttotal: 1m 1s\tremaining: 7.77s\n",
            "887:\tlearn: 0.0010515\ttotal: 1m 1s\tremaining: 7.71s\n",
            "888:\tlearn: 0.0010496\ttotal: 1m 1s\tremaining: 7.64s\n",
            "889:\tlearn: 0.0010493\ttotal: 1m 1s\tremaining: 7.57s\n",
            "890:\tlearn: 0.0010488\ttotal: 1m 1s\tremaining: 7.5s\n",
            "891:\tlearn: 0.0010483\ttotal: 1m 1s\tremaining: 7.43s\n",
            "892:\tlearn: 0.0010474\ttotal: 1m 1s\tremaining: 7.36s\n",
            "893:\tlearn: 0.0010469\ttotal: 1m 1s\tremaining: 7.29s\n",
            "894:\tlearn: 0.0010464\ttotal: 1m 1s\tremaining: 7.22s\n",
            "895:\tlearn: 0.0010458\ttotal: 1m 1s\tremaining: 7.15s\n",
            "896:\tlearn: 0.0010454\ttotal: 1m 1s\tremaining: 7.08s\n",
            "897:\tlearn: 0.0010446\ttotal: 1m 1s\tremaining: 7.02s\n",
            "898:\tlearn: 0.0010445\ttotal: 1m 1s\tremaining: 6.95s\n",
            "899:\tlearn: 0.0010437\ttotal: 1m 1s\tremaining: 6.88s\n",
            "900:\tlearn: 0.0010422\ttotal: 1m 1s\tremaining: 6.81s\n",
            "901:\tlearn: 0.0010398\ttotal: 1m 2s\tremaining: 6.74s\n",
            "902:\tlearn: 0.0010383\ttotal: 1m 2s\tremaining: 6.67s\n",
            "903:\tlearn: 0.0010359\ttotal: 1m 2s\tremaining: 6.6s\n",
            "904:\tlearn: 0.0010347\ttotal: 1m 2s\tremaining: 6.54s\n",
            "905:\tlearn: 0.0010329\ttotal: 1m 2s\tremaining: 6.47s\n",
            "906:\tlearn: 0.0010316\ttotal: 1m 2s\tremaining: 6.4s\n",
            "907:\tlearn: 0.0010304\ttotal: 1m 2s\tremaining: 6.33s\n",
            "908:\tlearn: 0.0010294\ttotal: 1m 2s\tremaining: 6.26s\n",
            "909:\tlearn: 0.0010275\ttotal: 1m 2s\tremaining: 6.19s\n",
            "910:\tlearn: 0.0010259\ttotal: 1m 2s\tremaining: 6.12s\n",
            "911:\tlearn: 0.0010249\ttotal: 1m 2s\tremaining: 6.06s\n",
            "912:\tlearn: 0.0010228\ttotal: 1m 2s\tremaining: 5.99s\n",
            "913:\tlearn: 0.0010220\ttotal: 1m 2s\tremaining: 5.92s\n",
            "914:\tlearn: 0.0010211\ttotal: 1m 3s\tremaining: 5.86s\n",
            "915:\tlearn: 0.0010209\ttotal: 1m 3s\tremaining: 5.79s\n",
            "916:\tlearn: 0.0010186\ttotal: 1m 3s\tremaining: 5.72s\n",
            "917:\tlearn: 0.0010178\ttotal: 1m 3s\tremaining: 5.65s\n",
            "918:\tlearn: 0.0010144\ttotal: 1m 3s\tremaining: 5.58s\n",
            "919:\tlearn: 0.0010128\ttotal: 1m 3s\tremaining: 5.51s\n",
            "920:\tlearn: 0.0010098\ttotal: 1m 3s\tremaining: 5.44s\n",
            "921:\tlearn: 0.0010094\ttotal: 1m 3s\tremaining: 5.37s\n",
            "922:\tlearn: 0.0010093\ttotal: 1m 3s\tremaining: 5.3s\n",
            "923:\tlearn: 0.0010080\ttotal: 1m 3s\tremaining: 5.24s\n",
            "924:\tlearn: 0.0010079\ttotal: 1m 3s\tremaining: 5.17s\n",
            "925:\tlearn: 0.0010066\ttotal: 1m 3s\tremaining: 5.1s\n",
            "926:\tlearn: 0.0010064\ttotal: 1m 3s\tremaining: 5.03s\n",
            "927:\tlearn: 0.0010055\ttotal: 1m 3s\tremaining: 4.96s\n",
            "928:\tlearn: 0.0010047\ttotal: 1m 4s\tremaining: 4.89s\n",
            "929:\tlearn: 0.0010033\ttotal: 1m 4s\tremaining: 4.82s\n",
            "930:\tlearn: 0.0010028\ttotal: 1m 4s\tremaining: 4.75s\n",
            "931:\tlearn: 0.0010016\ttotal: 1m 4s\tremaining: 4.68s\n",
            "932:\tlearn: 0.0010002\ttotal: 1m 4s\tremaining: 4.62s\n",
            "933:\tlearn: 0.0010000\ttotal: 1m 4s\tremaining: 4.55s\n",
            "934:\tlearn: 0.0009979\ttotal: 1m 4s\tremaining: 4.48s\n",
            "935:\tlearn: 0.0009969\ttotal: 1m 4s\tremaining: 4.41s\n",
            "936:\tlearn: 0.0009947\ttotal: 1m 4s\tremaining: 4.34s\n",
            "937:\tlearn: 0.0009931\ttotal: 1m 4s\tremaining: 4.27s\n",
            "938:\tlearn: 0.0009905\ttotal: 1m 4s\tremaining: 4.2s\n",
            "939:\tlearn: 0.0009899\ttotal: 1m 4s\tremaining: 4.13s\n",
            "940:\tlearn: 0.0009895\ttotal: 1m 4s\tremaining: 4.07s\n",
            "941:\tlearn: 0.0009892\ttotal: 1m 4s\tremaining: 4s\n",
            "942:\tlearn: 0.0009880\ttotal: 1m 5s\tremaining: 3.93s\n",
            "943:\tlearn: 0.0009860\ttotal: 1m 5s\tremaining: 3.86s\n",
            "944:\tlearn: 0.0009837\ttotal: 1m 5s\tremaining: 3.79s\n",
            "945:\tlearn: 0.0009810\ttotal: 1m 5s\tremaining: 3.72s\n",
            "946:\tlearn: 0.0009788\ttotal: 1m 5s\tremaining: 3.65s\n",
            "947:\tlearn: 0.0009777\ttotal: 1m 5s\tremaining: 3.58s\n",
            "948:\tlearn: 0.0009764\ttotal: 1m 5s\tremaining: 3.52s\n",
            "949:\tlearn: 0.0009751\ttotal: 1m 5s\tremaining: 3.45s\n",
            "950:\tlearn: 0.0009733\ttotal: 1m 5s\tremaining: 3.38s\n",
            "951:\tlearn: 0.0009709\ttotal: 1m 5s\tremaining: 3.31s\n",
            "952:\tlearn: 0.0009675\ttotal: 1m 5s\tremaining: 3.24s\n",
            "953:\tlearn: 0.0009652\ttotal: 1m 5s\tremaining: 3.17s\n",
            "954:\tlearn: 0.0009638\ttotal: 1m 5s\tremaining: 3.1s\n",
            "955:\tlearn: 0.0009613\ttotal: 1m 5s\tremaining: 3.04s\n",
            "956:\tlearn: 0.0009603\ttotal: 1m 6s\tremaining: 2.97s\n",
            "957:\tlearn: 0.0009592\ttotal: 1m 6s\tremaining: 2.9s\n",
            "958:\tlearn: 0.0009575\ttotal: 1m 6s\tremaining: 2.83s\n",
            "959:\tlearn: 0.0009573\ttotal: 1m 6s\tremaining: 2.76s\n",
            "960:\tlearn: 0.0009559\ttotal: 1m 6s\tremaining: 2.69s\n",
            "961:\tlearn: 0.0009559\ttotal: 1m 6s\tremaining: 2.62s\n",
            "962:\tlearn: 0.0009545\ttotal: 1m 6s\tremaining: 2.55s\n",
            "963:\tlearn: 0.0009519\ttotal: 1m 6s\tremaining: 2.48s\n",
            "964:\tlearn: 0.0009512\ttotal: 1m 6s\tremaining: 2.41s\n",
            "965:\tlearn: 0.0009500\ttotal: 1m 6s\tremaining: 2.34s\n",
            "966:\tlearn: 0.0009499\ttotal: 1m 6s\tremaining: 2.27s\n",
            "967:\tlearn: 0.0009483\ttotal: 1m 6s\tremaining: 2.21s\n",
            "968:\tlearn: 0.0009468\ttotal: 1m 6s\tremaining: 2.14s\n",
            "969:\tlearn: 0.0009452\ttotal: 1m 6s\tremaining: 2.07s\n",
            "970:\tlearn: 0.0009443\ttotal: 1m 6s\tremaining: 2s\n",
            "971:\tlearn: 0.0009431\ttotal: 1m 7s\tremaining: 1.93s\n",
            "972:\tlearn: 0.0009381\ttotal: 1m 7s\tremaining: 1.86s\n",
            "973:\tlearn: 0.0009361\ttotal: 1m 7s\tremaining: 1.79s\n",
            "974:\tlearn: 0.0009347\ttotal: 1m 7s\tremaining: 1.72s\n",
            "975:\tlearn: 0.0009343\ttotal: 1m 7s\tremaining: 1.66s\n",
            "976:\tlearn: 0.0009329\ttotal: 1m 7s\tremaining: 1.59s\n",
            "977:\tlearn: 0.0009323\ttotal: 1m 7s\tremaining: 1.52s\n",
            "978:\tlearn: 0.0009311\ttotal: 1m 7s\tremaining: 1.45s\n",
            "979:\tlearn: 0.0009307\ttotal: 1m 7s\tremaining: 1.38s\n",
            "980:\tlearn: 0.0009297\ttotal: 1m 7s\tremaining: 1.31s\n",
            "981:\tlearn: 0.0009284\ttotal: 1m 7s\tremaining: 1.24s\n",
            "982:\tlearn: 0.0009262\ttotal: 1m 7s\tremaining: 1.17s\n",
            "983:\tlearn: 0.0009253\ttotal: 1m 7s\tremaining: 1.1s\n",
            "984:\tlearn: 0.0009235\ttotal: 1m 7s\tremaining: 1.03s\n",
            "985:\tlearn: 0.0009226\ttotal: 1m 8s\tremaining: 966ms\n",
            "986:\tlearn: 0.0009217\ttotal: 1m 8s\tremaining: 897ms\n",
            "987:\tlearn: 0.0009196\ttotal: 1m 8s\tremaining: 828ms\n",
            "988:\tlearn: 0.0009181\ttotal: 1m 8s\tremaining: 759ms\n",
            "989:\tlearn: 0.0009167\ttotal: 1m 8s\tremaining: 690ms\n",
            "990:\tlearn: 0.0009148\ttotal: 1m 8s\tremaining: 621ms\n",
            "991:\tlearn: 0.0009134\ttotal: 1m 8s\tremaining: 552ms\n",
            "992:\tlearn: 0.0009131\ttotal: 1m 8s\tremaining: 483ms\n",
            "993:\tlearn: 0.0009130\ttotal: 1m 8s\tremaining: 414ms\n",
            "994:\tlearn: 0.0009120\ttotal: 1m 8s\tremaining: 345ms\n",
            "995:\tlearn: 0.0009116\ttotal: 1m 8s\tremaining: 276ms\n",
            "996:\tlearn: 0.0009079\ttotal: 1m 8s\tremaining: 207ms\n",
            "997:\tlearn: 0.0009061\ttotal: 1m 8s\tremaining: 138ms\n",
            "998:\tlearn: 0.0009046\ttotal: 1m 8s\tremaining: 69ms\n",
            "999:\tlearn: 0.0009040\ttotal: 1m 9s\tremaining: 0us\n",
            "              precision    recall  f1-score   support\n",
            "\n",
            "           0       1.00      1.00      1.00    318781\n",
            "           1       0.98      0.67      0.79       564\n",
            "\n",
            "    accuracy                           1.00    319345\n",
            "   macro avg       0.99      0.84      0.90    319345\n",
            "weighted avg       1.00      1.00      1.00    319345\n",
            "\n"
          ]
        }
      ]
    },
    {
      "cell_type": "code",
      "source": [
        "from sklearn.metrics import f1_score,roc_auc_score\n",
        "print(f1_score(y_test, y_pred)) \n",
        "print(roc_auc_score(y_test, y_pred))"
      ],
      "metadata": {
        "id": "MDgvcu36vvY9",
        "outputId": "638ec5e7-fcaa-44cb-ceae-5df8aa63658f",
        "colab": {
          "base_uri": "https://localhost:8080/"
        }
      },
      "execution_count": 19,
      "outputs": [
        {
          "output_type": "stream",
          "name": "stdout",
          "text": [
            "0.7949526813880126\n",
            "0.8350922667045414\n"
          ]
        }
      ]
    },
    {
      "cell_type": "markdown",
      "source": [
        "### Change datatypes\n",
        "Inorder to use the categorical feature attrribute in LightGBM, the object types need to be converted to the category datatype."
      ],
      "metadata": {
        "id": "GF5ts4jsTxA8"
      }
    },
    {
      "cell_type": "code",
      "source": [
        "for col in df.columns:\n",
        "    col_type = df[col].dtype\n",
        "    if col_type == 'object' or col_type.name == 'category':\n",
        "        df[col] = df[col].astype('category')"
      ],
      "metadata": {
        "id": "dsoLCJP6Tq_d"
      },
      "execution_count": null,
      "outputs": []
    },
    {
      "cell_type": "code",
      "source": [
        "y = df['Is Fraud?']\n",
        "X = df.drop(['Is Fraud?','Year','Zip','Merchant City','Merchant Name'],axis=1)"
      ],
      "metadata": {
        "id": "UVEgXZPNT685"
      },
      "execution_count": null,
      "outputs": []
    },
    {
      "cell_type": "code",
      "source": [
        "X"
      ],
      "metadata": {
        "id": "FeZJ5rYwsMtn",
        "outputId": "01926332-3591-4e35-ea87-c4f8f1622c5a",
        "colab": {
          "base_uri": "https://localhost:8080/",
          "height": 424
        }
      },
      "execution_count": null,
      "outputs": [
        {
          "output_type": "execute_result",
          "data": {
            "text/plain": [
              "          User  Card  Month  Day   Time   Amount           Use Chip  \\\n",
              "0            0     0      9    1  06:21  $134.09  Swipe Transaction   \n",
              "1            0     0      9    1  06:42   $38.48  Swipe Transaction   \n",
              "2            0     0      9    2  06:22  $120.34  Swipe Transaction   \n",
              "3            0     0      9    2  17:45  $128.95  Swipe Transaction   \n",
              "4            0     0      9    3  06:23  $104.71  Swipe Transaction   \n",
              "...        ...   ...    ...  ...    ...      ...                ...   \n",
              "24386895  1999     1      2   27  22:23  $-54.00   Chip Transaction   \n",
              "24386896  1999     1      2   27  22:24   $54.00   Chip Transaction   \n",
              "24386897  1999     1      2   28  07:43   $59.15   Chip Transaction   \n",
              "24386898  1999     1      2   28  20:10   $43.12   Chip Transaction   \n",
              "24386899  1999     1      2   28  23:10   $45.13   Chip Transaction   \n",
              "\n",
              "         Merchant State   MCC Errors?  \n",
              "0                    CA  5300     NaN  \n",
              "1                    CA  5411     NaN  \n",
              "2                    CA  5411     NaN  \n",
              "3                    CA  5651     NaN  \n",
              "4                    CA  5912     NaN  \n",
              "...                 ...   ...     ...  \n",
              "24386895             NH  5541     NaN  \n",
              "24386896             NH  5541     NaN  \n",
              "24386897             NH  4121     NaN  \n",
              "24386898             NH  4121     NaN  \n",
              "24386899             NH  5814     NaN  \n",
              "\n",
              "[24386900 rows x 10 columns]"
            ],
            "text/html": [
              "\n",
              "  <div id=\"df-273446f7-c446-48b2-86cd-0b6dbbafb866\">\n",
              "    <div class=\"colab-df-container\">\n",
              "      <div>\n",
              "<style scoped>\n",
              "    .dataframe tbody tr th:only-of-type {\n",
              "        vertical-align: middle;\n",
              "    }\n",
              "\n",
              "    .dataframe tbody tr th {\n",
              "        vertical-align: top;\n",
              "    }\n",
              "\n",
              "    .dataframe thead th {\n",
              "        text-align: right;\n",
              "    }\n",
              "</style>\n",
              "<table border=\"1\" class=\"dataframe\">\n",
              "  <thead>\n",
              "    <tr style=\"text-align: right;\">\n",
              "      <th></th>\n",
              "      <th>User</th>\n",
              "      <th>Card</th>\n",
              "      <th>Month</th>\n",
              "      <th>Day</th>\n",
              "      <th>Time</th>\n",
              "      <th>Amount</th>\n",
              "      <th>Use Chip</th>\n",
              "      <th>Merchant State</th>\n",
              "      <th>MCC</th>\n",
              "      <th>Errors?</th>\n",
              "    </tr>\n",
              "  </thead>\n",
              "  <tbody>\n",
              "    <tr>\n",
              "      <th>0</th>\n",
              "      <td>0</td>\n",
              "      <td>0</td>\n",
              "      <td>9</td>\n",
              "      <td>1</td>\n",
              "      <td>06:21</td>\n",
              "      <td>$134.09</td>\n",
              "      <td>Swipe Transaction</td>\n",
              "      <td>CA</td>\n",
              "      <td>5300</td>\n",
              "      <td>NaN</td>\n",
              "    </tr>\n",
              "    <tr>\n",
              "      <th>1</th>\n",
              "      <td>0</td>\n",
              "      <td>0</td>\n",
              "      <td>9</td>\n",
              "      <td>1</td>\n",
              "      <td>06:42</td>\n",
              "      <td>$38.48</td>\n",
              "      <td>Swipe Transaction</td>\n",
              "      <td>CA</td>\n",
              "      <td>5411</td>\n",
              "      <td>NaN</td>\n",
              "    </tr>\n",
              "    <tr>\n",
              "      <th>2</th>\n",
              "      <td>0</td>\n",
              "      <td>0</td>\n",
              "      <td>9</td>\n",
              "      <td>2</td>\n",
              "      <td>06:22</td>\n",
              "      <td>$120.34</td>\n",
              "      <td>Swipe Transaction</td>\n",
              "      <td>CA</td>\n",
              "      <td>5411</td>\n",
              "      <td>NaN</td>\n",
              "    </tr>\n",
              "    <tr>\n",
              "      <th>3</th>\n",
              "      <td>0</td>\n",
              "      <td>0</td>\n",
              "      <td>9</td>\n",
              "      <td>2</td>\n",
              "      <td>17:45</td>\n",
              "      <td>$128.95</td>\n",
              "      <td>Swipe Transaction</td>\n",
              "      <td>CA</td>\n",
              "      <td>5651</td>\n",
              "      <td>NaN</td>\n",
              "    </tr>\n",
              "    <tr>\n",
              "      <th>4</th>\n",
              "      <td>0</td>\n",
              "      <td>0</td>\n",
              "      <td>9</td>\n",
              "      <td>3</td>\n",
              "      <td>06:23</td>\n",
              "      <td>$104.71</td>\n",
              "      <td>Swipe Transaction</td>\n",
              "      <td>CA</td>\n",
              "      <td>5912</td>\n",
              "      <td>NaN</td>\n",
              "    </tr>\n",
              "    <tr>\n",
              "      <th>...</th>\n",
              "      <td>...</td>\n",
              "      <td>...</td>\n",
              "      <td>...</td>\n",
              "      <td>...</td>\n",
              "      <td>...</td>\n",
              "      <td>...</td>\n",
              "      <td>...</td>\n",
              "      <td>...</td>\n",
              "      <td>...</td>\n",
              "      <td>...</td>\n",
              "    </tr>\n",
              "    <tr>\n",
              "      <th>24386895</th>\n",
              "      <td>1999</td>\n",
              "      <td>1</td>\n",
              "      <td>2</td>\n",
              "      <td>27</td>\n",
              "      <td>22:23</td>\n",
              "      <td>$-54.00</td>\n",
              "      <td>Chip Transaction</td>\n",
              "      <td>NH</td>\n",
              "      <td>5541</td>\n",
              "      <td>NaN</td>\n",
              "    </tr>\n",
              "    <tr>\n",
              "      <th>24386896</th>\n",
              "      <td>1999</td>\n",
              "      <td>1</td>\n",
              "      <td>2</td>\n",
              "      <td>27</td>\n",
              "      <td>22:24</td>\n",
              "      <td>$54.00</td>\n",
              "      <td>Chip Transaction</td>\n",
              "      <td>NH</td>\n",
              "      <td>5541</td>\n",
              "      <td>NaN</td>\n",
              "    </tr>\n",
              "    <tr>\n",
              "      <th>24386897</th>\n",
              "      <td>1999</td>\n",
              "      <td>1</td>\n",
              "      <td>2</td>\n",
              "      <td>28</td>\n",
              "      <td>07:43</td>\n",
              "      <td>$59.15</td>\n",
              "      <td>Chip Transaction</td>\n",
              "      <td>NH</td>\n",
              "      <td>4121</td>\n",
              "      <td>NaN</td>\n",
              "    </tr>\n",
              "    <tr>\n",
              "      <th>24386898</th>\n",
              "      <td>1999</td>\n",
              "      <td>1</td>\n",
              "      <td>2</td>\n",
              "      <td>28</td>\n",
              "      <td>20:10</td>\n",
              "      <td>$43.12</td>\n",
              "      <td>Chip Transaction</td>\n",
              "      <td>NH</td>\n",
              "      <td>4121</td>\n",
              "      <td>NaN</td>\n",
              "    </tr>\n",
              "    <tr>\n",
              "      <th>24386899</th>\n",
              "      <td>1999</td>\n",
              "      <td>1</td>\n",
              "      <td>2</td>\n",
              "      <td>28</td>\n",
              "      <td>23:10</td>\n",
              "      <td>$45.13</td>\n",
              "      <td>Chip Transaction</td>\n",
              "      <td>NH</td>\n",
              "      <td>5814</td>\n",
              "      <td>NaN</td>\n",
              "    </tr>\n",
              "  </tbody>\n",
              "</table>\n",
              "<p>24386900 rows × 10 columns</p>\n",
              "</div>\n",
              "      <button class=\"colab-df-convert\" onclick=\"convertToInteractive('df-273446f7-c446-48b2-86cd-0b6dbbafb866')\"\n",
              "              title=\"Convert this dataframe to an interactive table.\"\n",
              "              style=\"display:none;\">\n",
              "        \n",
              "  <svg xmlns=\"http://www.w3.org/2000/svg\" height=\"24px\"viewBox=\"0 0 24 24\"\n",
              "       width=\"24px\">\n",
              "    <path d=\"M0 0h24v24H0V0z\" fill=\"none\"/>\n",
              "    <path d=\"M18.56 5.44l.94 2.06.94-2.06 2.06-.94-2.06-.94-.94-2.06-.94 2.06-2.06.94zm-11 1L8.5 8.5l.94-2.06 2.06-.94-2.06-.94L8.5 2.5l-.94 2.06-2.06.94zm10 10l.94 2.06.94-2.06 2.06-.94-2.06-.94-.94-2.06-.94 2.06-2.06.94z\"/><path d=\"M17.41 7.96l-1.37-1.37c-.4-.4-.92-.59-1.43-.59-.52 0-1.04.2-1.43.59L10.3 9.45l-7.72 7.72c-.78.78-.78 2.05 0 2.83L4 21.41c.39.39.9.59 1.41.59.51 0 1.02-.2 1.41-.59l7.78-7.78 2.81-2.81c.8-.78.8-2.07 0-2.86zM5.41 20L4 18.59l7.72-7.72 1.47 1.35L5.41 20z\"/>\n",
              "  </svg>\n",
              "      </button>\n",
              "      \n",
              "  <style>\n",
              "    .colab-df-container {\n",
              "      display:flex;\n",
              "      flex-wrap:wrap;\n",
              "      gap: 12px;\n",
              "    }\n",
              "\n",
              "    .colab-df-convert {\n",
              "      background-color: #E8F0FE;\n",
              "      border: none;\n",
              "      border-radius: 50%;\n",
              "      cursor: pointer;\n",
              "      display: none;\n",
              "      fill: #1967D2;\n",
              "      height: 32px;\n",
              "      padding: 0 0 0 0;\n",
              "      width: 32px;\n",
              "    }\n",
              "\n",
              "    .colab-df-convert:hover {\n",
              "      background-color: #E2EBFA;\n",
              "      box-shadow: 0px 1px 2px rgba(60, 64, 67, 0.3), 0px 1px 3px 1px rgba(60, 64, 67, 0.15);\n",
              "      fill: #174EA6;\n",
              "    }\n",
              "\n",
              "    [theme=dark] .colab-df-convert {\n",
              "      background-color: #3B4455;\n",
              "      fill: #D2E3FC;\n",
              "    }\n",
              "\n",
              "    [theme=dark] .colab-df-convert:hover {\n",
              "      background-color: #434B5C;\n",
              "      box-shadow: 0px 1px 3px 1px rgba(0, 0, 0, 0.15);\n",
              "      filter: drop-shadow(0px 1px 2px rgba(0, 0, 0, 0.3));\n",
              "      fill: #FFFFFF;\n",
              "    }\n",
              "  </style>\n",
              "\n",
              "      <script>\n",
              "        const buttonEl =\n",
              "          document.querySelector('#df-273446f7-c446-48b2-86cd-0b6dbbafb866 button.colab-df-convert');\n",
              "        buttonEl.style.display =\n",
              "          google.colab.kernel.accessAllowed ? 'block' : 'none';\n",
              "\n",
              "        async function convertToInteractive(key) {\n",
              "          const element = document.querySelector('#df-273446f7-c446-48b2-86cd-0b6dbbafb866');\n",
              "          const dataTable =\n",
              "            await google.colab.kernel.invokeFunction('convertToInteractive',\n",
              "                                                     [key], {});\n",
              "          if (!dataTable) return;\n",
              "\n",
              "          const docLinkHtml = 'Like what you see? Visit the ' +\n",
              "            '<a target=\"_blank\" href=https://colab.research.google.com/notebooks/data_table.ipynb>data table notebook</a>'\n",
              "            + ' to learn more about interactive tables.';\n",
              "          element.innerHTML = '';\n",
              "          dataTable['output_type'] = 'display_data';\n",
              "          await google.colab.output.renderOutput(dataTable, element);\n",
              "          const docLink = document.createElement('div');\n",
              "          docLink.innerHTML = docLinkHtml;\n",
              "          element.appendChild(docLink);\n",
              "        }\n",
              "      </script>\n",
              "    </div>\n",
              "  </div>\n",
              "  "
            ]
          },
          "metadata": {},
          "execution_count": 51
        }
      ]
    },
    {
      "cell_type": "code",
      "source": [
        "X_train, X_test, y_train, y_test = train_test_split(X, y, test_size = 0.3, random_state = 0, stratify=y)"
      ],
      "metadata": {
        "id": "atuRRorQUAm2"
      },
      "execution_count": null,
      "outputs": []
    },
    {
      "cell_type": "code",
      "source": [
        "# Undersampling the normal transactions data\n",
        "from imblearn.under_sampling import RandomUnderSampler\n",
        "\n",
        "# Reducing the majority class equal to minority class \n",
        "rus = RandomUnderSampler(sampling_strategy=1)\n",
        "\n",
        "X_res, Y_res = rus.fit_resample(X_train, y_train)\n",
        "\n",
        "print(X_res.shape, Y_res.shape)\n",
        "print(pd.value_counts(Y_res))"
      ],
      "metadata": {
        "id": "14lZ1hI_iC3m",
        "outputId": "77f7ab46-a3bd-4e1a-cc65-56ef28ec560d",
        "colab": {
          "base_uri": "https://localhost:8080/"
        }
      },
      "execution_count": null,
      "outputs": [
        {
          "output_type": "stream",
          "name": "stdout",
          "text": [
            "(41660, 10) (41660,)\n",
            "No     20830\n",
            "Yes    20830\n",
            "Name: Is Fraud?, dtype: int64\n"
          ]
        }
      ]
    },
    {
      "cell_type": "markdown",
      "source": [
        "###Train a LightGBM Model\n",
        "Initialize and train a model"
      ],
      "metadata": {
        "id": "n6J1jd_tUDpp"
      }
    },
    {
      "cell_type": "code",
      "source": [
        "model = lgb.LGBMClassifier()\n",
        "model.fit(X_res, Y_res, feature_name='auto', categorical_feature = 'auto', verbose=50)"
      ],
      "metadata": {
        "id": "lX9BtMDHUFr7",
        "outputId": "737c3046-35bc-46b0-9883-1aa7ccd75216",
        "colab": {
          "base_uri": "https://localhost:8080/"
        }
      },
      "execution_count": null,
      "outputs": [
        {
          "output_type": "execute_result",
          "data": {
            "text/plain": [
              "LGBMClassifier()"
            ]
          },
          "metadata": {},
          "execution_count": 41
        }
      ]
    },
    {
      "cell_type": "code",
      "source": [
        "y_pred=model.predict(X_test)\n",
        "print(classification_report(y_test, y_pred))"
      ],
      "metadata": {
        "id": "lhOxXtjPUOzG",
        "outputId": "4e1c6304-6bcc-4384-e54f-22b167df100b",
        "colab": {
          "base_uri": "https://localhost:8080/"
        }
      },
      "execution_count": null,
      "outputs": [
        {
          "output_type": "stream",
          "name": "stdout",
          "text": [
            "              precision    recall  f1-score   support\n",
            "\n",
            "          No       1.00      0.94      0.97   7307143\n",
            "         Yes       0.02      0.89      0.03      8927\n",
            "\n",
            "    accuracy                           0.94   7316070\n",
            "   macro avg       0.51      0.91      0.50   7316070\n",
            "weighted avg       1.00      0.94      0.97   7316070\n",
            "\n"
          ]
        }
      ]
    },
    {
      "cell_type": "code",
      "source": [
        "X_train = df[df['Year']==2007].drop(['Is Fraud?'],axis=1)\n",
        "y_train = df[df['Year']==2007]['Is Fraud?']"
      ],
      "metadata": {
        "id": "H2j9mB0oY5yG"
      },
      "execution_count": null,
      "outputs": []
    },
    {
      "cell_type": "code",
      "source": [
        "y_train.value_counts()"
      ],
      "metadata": {
        "id": "jgpHkH55ZSkx",
        "outputId": "126960aa-6d0b-40d2-8299-e9b83157d5be",
        "colab": {
          "base_uri": "https://localhost:8080/"
        }
      },
      "execution_count": null,
      "outputs": [
        {
          "output_type": "execute_result",
          "data": {
            "text/plain": [
              "No     1062602\n",
              "Yes       1881\n",
              "Name: Is Fraud?, dtype: int64"
            ]
          },
          "metadata": {},
          "execution_count": 49
        }
      ]
    },
    {
      "cell_type": "code",
      "source": [
        "model = lgb.LGBMClassifier()\n",
        "model.fit(X_train, y_train, feature_name='auto', categorical_feature = 'auto', verbose=50)"
      ],
      "metadata": {
        "id": "o5Mbx5kPZrza",
        "outputId": "48a8c594-6ed5-4908-af0c-3bb1ea0c9654",
        "colab": {
          "base_uri": "https://localhost:8080/"
        }
      },
      "execution_count": null,
      "outputs": [
        {
          "output_type": "execute_result",
          "data": {
            "text/plain": [
              "LGBMClassifier()"
            ]
          },
          "metadata": {},
          "execution_count": 20
        }
      ]
    },
    {
      "cell_type": "code",
      "source": [
        "from sklearn.ensemble import RandomForestClassifier\n",
        "\n",
        "model = RandomForestClassifier(n_estimators=120,max_depth=20)\n",
        "model.fit(train_x,train_y)"
      ],
      "metadata": {
        "id": "Sy5GZnA_sEAz"
      },
      "execution_count": null,
      "outputs": []
    },
    {
      "cell_type": "code",
      "source": [
        "X_test = df[df['Year']==2008].drop(['Is Fraud?'],axis=1)\n",
        "y_test = df[df['Year']==2008]['Is Fraud?']"
      ],
      "metadata": {
        "id": "pg1RtveKZtWD"
      },
      "execution_count": null,
      "outputs": []
    },
    {
      "cell_type": "code",
      "source": [
        "y_pred=model.predict(X_test)\n",
        "print(classification_report(y_test, y_pred))"
      ],
      "metadata": {
        "id": "srehihnRZ437",
        "outputId": "47cff587-d953-4b0b-dd53-84148f01052c",
        "colab": {
          "base_uri": "https://localhost:8080/"
        }
      },
      "execution_count": null,
      "outputs": [
        {
          "output_type": "stream",
          "name": "stdout",
          "text": [
            "              precision    recall  f1-score   support\n",
            "\n",
            "          No       1.00      1.00      1.00   1219750\n",
            "         Yes       0.38      0.37      0.38      3710\n",
            "\n",
            "    accuracy                           1.00   1223460\n",
            "   macro avg       0.69      0.69      0.69   1223460\n",
            "weighted avg       1.00      1.00      1.00   1223460\n",
            "\n"
          ]
        }
      ]
    },
    {
      "cell_type": "code",
      "source": [
        "from sklearn.metrics import f1_score\n",
        "from sklearn.metrics import precision_recall_fscore_support\n",
        "\n",
        "f1 = precision_recall_fscore_support([1 if m=='No' else 0 for m in y_test], [1 if m=='No' else 0 for m in y_pred],average='binary')\n",
        "f1"
      ],
      "metadata": {
        "id": "L29mJNBhaLYT",
        "outputId": "993d3844-6735-47ef-e592-323eb54722f5",
        "colab": {
          "base_uri": "https://localhost:8080/"
        }
      },
      "execution_count": null,
      "outputs": [
        {
          "output_type": "execute_result",
          "data": {
            "text/plain": [
              "(0.998097280529384, 0.9981651977864316, 0.9981312380025603, None)"
            ]
          },
          "metadata": {},
          "execution_count": 27
        }
      ]
    },
    {
      "cell_type": "code",
      "source": [
        "X_test = df[df['Year'] >= 2008].drop(['Is Fraud?'],axis=1)\n",
        "y_test = df[df['Year'] >= 2008]['Is Fraud?']"
      ],
      "metadata": {
        "id": "o-vKJ3HIaikv"
      },
      "execution_count": 20,
      "outputs": []
    },
    {
      "cell_type": "code",
      "source": [
        "y_test.value_counts()"
      ],
      "metadata": {
        "id": "2Dt64FxXbRPO",
        "outputId": "2c803b2b-cdd0-4351-c123-c9a9100e9434",
        "colab": {
          "base_uri": "https://localhost:8080/"
        }
      },
      "execution_count": 21,
      "outputs": [
        {
          "output_type": "execute_result",
          "data": {
            "text/plain": [
              "0    19465631\n",
              "1       24836\n",
              "Name: Is Fraud?, dtype: int64"
            ]
          },
          "metadata": {},
          "execution_count": 21
        }
      ]
    },
    {
      "cell_type": "code",
      "source": [
        "import math\n",
        "f1s = []\n",
        "batch_size = 200000\n",
        "batch = math.ceil(X_test.shape[0]/batch_size)\n",
        "for i in range(batch):\n",
        "    ux = X_test[i*batch_size:(i+1)*batch_size]\n",
        "    uy = y_test[i*batch_size:(i+1)*batch_size]\n",
        "    y_pred=cat.predict(ux)\n",
        "    #ppy = [1 if m=='No' else 0 for m in y_pred]   \n",
        "    f1 = f1_score(uy, y_pred) #precision_recall_fscore_support([1 if m=='No' else 0 for m in uy], ppy,average='binary')\n",
        "    print(\"p:\",f1,uy.value_counts())\n",
        "    f1s.append(f1)"
      ],
      "metadata": {
        "id": "0yjdqp6haIiA",
        "outputId": "b1f6f447-7862-4514-f21e-a55135c966cd",
        "colab": {
          "base_uri": "https://localhost:8080/"
        }
      },
      "execution_count": 22,
      "outputs": [
        {
          "output_type": "stream",
          "name": "stdout",
          "text": [
            "p: 0.4152046783625731 0    199746\n",
            "1       254\n",
            "Name: Is Fraud?, dtype: int64\n",
            "p: 0.45070422535211263 0    199851\n",
            "1       149\n",
            "Name: Is Fraud?, dtype: int64\n",
            "p: 0.35374149659863946 0    199770\n",
            "1       230\n",
            "Name: Is Fraud?, dtype: int64\n",
            "p: 0.5191256830601092 0    199761\n",
            "1       239\n",
            "Name: Is Fraud?, dtype: int64\n",
            "p: 0.38878504672897196 0    199733\n",
            "1       267\n",
            "Name: Is Fraud?, dtype: int64\n",
            "p: 0.4652014652014652 0    199703\n",
            "1       297\n",
            "Name: Is Fraud?, dtype: int64\n",
            "p: 0.5930232558139534 0    199767\n",
            "1       233\n",
            "Name: Is Fraud?, dtype: int64\n",
            "p: 0.538243626062323 0    199757\n",
            "1       243\n",
            "Name: Is Fraud?, dtype: int64\n",
            "p: 0.5835694050991501 0    199770\n",
            "1       230\n",
            "Name: Is Fraud?, dtype: int64\n",
            "p: 0.4185303514376997 0    199631\n",
            "1       369\n",
            "Name: Is Fraud?, dtype: int64\n",
            "p: 0.06766381766381767 0    199799\n",
            "1       201\n",
            "Name: Is Fraud?, dtype: int64\n",
            "p: 0.5217391304347826 0    199806\n",
            "1       194\n",
            "Name: Is Fraud?, dtype: int64\n",
            "p: 0.6132075471698113 0    199739\n",
            "1       261\n",
            "Name: Is Fraud?, dtype: int64\n",
            "p: 0.36714975845410625 0    199808\n",
            "1       192\n",
            "Name: Is Fraud?, dtype: int64\n",
            "p: 0.5612472160356347 0    199732\n",
            "1       268\n",
            "Name: Is Fraud?, dtype: int64\n",
            "p: 0.6006600660066007 0    199803\n",
            "1       197\n",
            "Name: Is Fraud?, dtype: int64\n",
            "p: 0.5182724252491694 0    199789\n",
            "1       211\n",
            "Name: Is Fraud?, dtype: int64\n",
            "p: 0.5213675213675213 0    199848\n",
            "1       152\n",
            "Name: Is Fraud?, dtype: int64\n",
            "p: 0.5252525252525253 0    199756\n",
            "1       244\n",
            "Name: Is Fraud?, dtype: int64\n",
            "p: 0.6091127098321343 0    199724\n",
            "1       276\n",
            "Name: Is Fraud?, dtype: int64\n",
            "p: 0.3961352657004831 0    199744\n",
            "1       256\n",
            "Name: Is Fraud?, dtype: int64\n",
            "p: 0.5482233502538072 0    199681\n",
            "1       319\n",
            "Name: Is Fraud?, dtype: int64\n",
            "p: 0.5614035087719299 0    199828\n",
            "1       172\n",
            "Name: Is Fraud?, dtype: int64\n",
            "p: 0.5182724252491694 0    199719\n",
            "1       281\n",
            "Name: Is Fraud?, dtype: int64\n",
            "p: 0.4232365145228215 0    199871\n",
            "1       129\n",
            "Name: Is Fraud?, dtype: int64\n",
            "p: 0.41604010025062654 0    199790\n",
            "1       210\n",
            "Name: Is Fraud?, dtype: int64\n",
            "p: 0.49673202614379086 0    199704\n",
            "1       296\n",
            "Name: Is Fraud?, dtype: int64\n",
            "p: 0.5074626865671641 0    199679\n",
            "1       321\n",
            "Name: Is Fraud?, dtype: int64\n",
            "p: 0.16216216216216214 0    199724\n",
            "1       276\n",
            "Name: Is Fraud?, dtype: int64\n",
            "p: 0.5525846702317291 0    199625\n",
            "1       375\n",
            "Name: Is Fraud?, dtype: int64\n",
            "p: 0.43827160493827166 0    199784\n",
            "1       216\n",
            "Name: Is Fraud?, dtype: int64\n",
            "p: 0.5393939393939394 0    199815\n",
            "1       185\n",
            "Name: Is Fraud?, dtype: int64\n",
            "p: 0.6244343891402715 0    199720\n",
            "1       280\n",
            "Name: Is Fraud?, dtype: int64\n",
            "p: 0.6073059360730594 0    199762\n",
            "1       238\n",
            "Name: Is Fraud?, dtype: int64\n",
            "p: 0.516795865633075 0    199745\n",
            "1       255\n",
            "Name: Is Fraud?, dtype: int64\n",
            "p: 0.48251748251748244 0    199731\n",
            "1       269\n",
            "Name: Is Fraud?, dtype: int64\n",
            "p: 0.5518987341772152 0    199732\n",
            "1       268\n",
            "Name: Is Fraud?, dtype: int64\n",
            "p: 0.6887052341597796 0    199774\n",
            "1       226\n",
            "Name: Is Fraud?, dtype: int64\n",
            "p: 0.4674698795180723 0    199767\n",
            "1       233\n",
            "Name: Is Fraud?, dtype: int64\n",
            "p: 0.6626506024096386 0    199678\n",
            "1       322\n",
            "Name: Is Fraud?, dtype: int64\n",
            "p: 0.4520547945205479 0    199761\n",
            "1       239\n",
            "Name: Is Fraud?, dtype: int64\n",
            "p: 0.5537459283387622 0    199800\n",
            "1       200\n",
            "Name: Is Fraud?, dtype: int64\n",
            "p: 0.4918918918918919 0    199772\n",
            "1       228\n",
            "Name: Is Fraud?, dtype: int64\n",
            "p: 0.5695364238410596 0    199796\n",
            "1       204\n",
            "Name: Is Fraud?, dtype: int64\n",
            "p: 0.5467625899280576 0    199670\n",
            "1       330\n",
            "Name: Is Fraud?, dtype: int64\n",
            "p: 0.5098743267504489 0    199655\n",
            "1       345\n",
            "Name: Is Fraud?, dtype: int64\n",
            "p: 0.4982206405693951 0    199834\n",
            "1       166\n",
            "Name: Is Fraud?, dtype: int64\n",
            "p: 0.625615763546798 0    199763\n",
            "1       237\n",
            "Name: Is Fraud?, dtype: int64\n",
            "p: 0.6085271317829457 0    199710\n",
            "1       290\n",
            "Name: Is Fraud?, dtype: int64\n",
            "p: 0.6067415730337079 0    199699\n",
            "1       301\n",
            "Name: Is Fraud?, dtype: int64\n",
            "p: 0.5833333333333334 0    199718\n",
            "1       282\n",
            "Name: Is Fraud?, dtype: int64\n",
            "p: 0.5951417004048583 0    199681\n",
            "1       319\n",
            "Name: Is Fraud?, dtype: int64\n",
            "p: 0.5440613026819924 0    199835\n",
            "1       165\n",
            "Name: Is Fraud?, dtype: int64\n",
            "p: 0.5124716553287982 0    199700\n",
            "1       300\n",
            "Name: Is Fraud?, dtype: int64\n",
            "p: 0.6125 0    199689\n",
            "1       311\n",
            "Name: Is Fraud?, dtype: int64\n",
            "p: 0.5866666666666667 0    199756\n",
            "1       244\n",
            "Name: Is Fraud?, dtype: int64\n",
            "p: 0.4709677419354839 0    199819\n",
            "1       181\n",
            "Name: Is Fraud?, dtype: int64\n",
            "p: 0.4862155388471177 0    199711\n",
            "1       289\n",
            "Name: Is Fraud?, dtype: int64\n",
            "p: 0.39383155397390274 0    199613\n",
            "1       387\n",
            "Name: Is Fraud?, dtype: int64\n",
            "p: 0.5892857142857143 0    199855\n",
            "1       145\n",
            "Name: Is Fraud?, dtype: int64\n",
            "p: 0.58008658008658 0    199695\n",
            "1       305\n",
            "Name: Is Fraud?, dtype: int64\n",
            "p: 0.48868778280542985 0    199848\n",
            "1       152\n",
            "Name: Is Fraud?, dtype: int64\n",
            "p: 0.6028169014084507 0    199765\n",
            "1       235\n",
            "Name: Is Fraud?, dtype: int64\n",
            "p: 0.5594059405940595 0    199727\n",
            "1       273\n",
            "Name: Is Fraud?, dtype: int64\n",
            "p: 0.49792531120331956 0    199673\n",
            "1       327\n",
            "Name: Is Fraud?, dtype: int64\n",
            "p: 0.5493562231759657 0    199684\n",
            "1       316\n",
            "Name: Is Fraud?, dtype: int64\n",
            "p: 0.48951048951048953 0    199711\n",
            "1       289\n",
            "Name: Is Fraud?, dtype: int64\n",
            "p: 0.516795865633075 0    199730\n",
            "1       270\n",
            "Name: Is Fraud?, dtype: int64\n",
            "p: 0.6237623762376238 0    199760\n",
            "1       240\n",
            "Name: Is Fraud?, dtype: int64\n",
            "p: 0.5528089887640449 0    199707\n",
            "1       293\n",
            "Name: Is Fraud?, dtype: int64\n",
            "p: 0.5680000000000001 0    199664\n",
            "1       336\n",
            "Name: Is Fraud?, dtype: int64\n",
            "p: 0.5391304347826087 0    199840\n",
            "1       160\n",
            "Name: Is Fraud?, dtype: int64\n",
            "p: 0.5688622754491017 0    199800\n",
            "1       200\n",
            "Name: Is Fraud?, dtype: int64\n",
            "p: 0.5897920604914934 0    199655\n",
            "1       345\n",
            "Name: Is Fraud?, dtype: int64\n",
            "p: 0.6096491228070176 0    199720\n",
            "1       280\n",
            "Name: Is Fraud?, dtype: int64\n",
            "p: 0.5576208178438663 0    199625\n",
            "1       375\n",
            "Name: Is Fraud?, dtype: int64\n",
            "p: 0.5481798715203425 0    199717\n",
            "1       283\n",
            "Name: Is Fraud?, dtype: int64\n",
            "p: 0.5177304964539007 0    199629\n",
            "1       371\n",
            "Name: Is Fraud?, dtype: int64\n",
            "p: 0.535064935064935 0    199759\n",
            "1       241\n",
            "Name: Is Fraud?, dtype: int64\n",
            "p: 0.5153061224489796 0    199746\n",
            "1       254\n",
            "Name: Is Fraud?, dtype: int64\n",
            "p: 0.4935897435897435 0    199812\n",
            "1       188\n",
            "Name: Is Fraud?, dtype: int64\n",
            "p: 0.5139664804469274 0    199771\n",
            "1       229\n",
            "Name: Is Fraud?, dtype: int64\n",
            "p: 0.45102505694760825 0    199762\n",
            "1       238\n",
            "Name: Is Fraud?, dtype: int64\n",
            "p: 0.4968152866242038 0    199739\n",
            "1       261\n",
            "Name: Is Fraud?, dtype: int64\n",
            "p: 0.5649717514124294 0    199664\n",
            "1       336\n",
            "Name: Is Fraud?, dtype: int64\n",
            "p: 0.5508982035928144 0    199763\n",
            "1       237\n",
            "Name: Is Fraud?, dtype: int64\n",
            "p: 0.5745140388768899 0    199676\n",
            "1       324\n",
            "Name: Is Fraud?, dtype: int64\n",
            "p: 0.44315992292870904 0    199717\n",
            "1       283\n",
            "Name: Is Fraud?, dtype: int64\n",
            "p: 0.455531453362256 0    199675\n",
            "1       325\n",
            "Name: Is Fraud?, dtype: int64\n",
            "p: 0.5328185328185329 0    199847\n",
            "1       153\n",
            "Name: Is Fraud?, dtype: int64\n",
            "p: 0.4641833810888252 0    199778\n",
            "1       222\n",
            "Name: Is Fraud?, dtype: int64\n",
            "p: 0.477326968973747 0    199700\n",
            "1       300\n",
            "Name: Is Fraud?, dtype: int64\n",
            "p: 0.6204620462046204 0    199796\n",
            "1       204\n",
            "Name: Is Fraud?, dtype: int64\n",
            "p: 0.6017699115044248 0    199779\n",
            "1       221\n",
            "Name: Is Fraud?, dtype: int64\n",
            "p: 0.5454545454545454 0    199764\n",
            "1       236\n",
            "Name: Is Fraud?, dtype: int64\n",
            "p: 0.6568047337278106 0    199787\n",
            "1       213\n",
            "Name: Is Fraud?, dtype: int64\n",
            "p: 0.29797979797979796 0    199822\n",
            "1       178\n",
            "Name: Is Fraud?, dtype: int64\n",
            "p: 0.40414507772020725 0    90321\n",
            "1      146\n",
            "Name: Is Fraud?, dtype: int64\n"
          ]
        }
      ]
    },
    {
      "cell_type": "code",
      "source": [
        "plt.figure(figsize=(20,5))\n",
        "plt.plot(f1s)"
      ],
      "metadata": {
        "id": "7mTz6St1cdES",
        "outputId": "0cf5862e-661d-46d8-eb3e-0ad2732e76c6",
        "colab": {
          "base_uri": "https://localhost:8080/",
          "height": 275
        }
      },
      "execution_count": 23,
      "outputs": [
        {
          "output_type": "execute_result",
          "data": {
            "text/plain": [
              "[<matplotlib.lines.Line2D at 0x7f83e71ffd50>]"
            ]
          },
          "metadata": {},
          "execution_count": 23
        },
        {
          "output_type": "display_data",
          "data": {
            "text/plain": [
              "<Figure size 1440x360 with 1 Axes>"
            ],
            "image/png": "[encoded data removed]"
          },
          "metadata": {
            "needs_background": "light"
          }
        }
      ]
    }
  ]
}