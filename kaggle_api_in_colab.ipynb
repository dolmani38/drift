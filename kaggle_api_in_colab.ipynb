{
  "nbformat": 4,
  "nbformat_minor": 0,
  "metadata": {
    "colab": {
      "name": "How to use the Kaggle API from Colab",
      "provenance": [],
      "collapsed_sections": [],
      "toc_visible": true,
      "machine_shape": "hm",
      "include_colab_link": true
    },
    "kernelspec": {
      "name": "python3",
      "display_name": "Python 3"
    },
    "accelerator": "GPU",
    "gpuClass": "standard",
    "widgets": {
      "application/vnd.jupyter.widget-state+json": {
        "28481f20a0ea40eaafab4d8e5ab0ca4d": {
          "model_module": "catboost-widget",
          "model_name": "CatboostWidgetModel",
          "model_module_version": "^1.0.0",
          "state": {
            "_dom_classes": [],
            "_model_module": "catboost-widget",
            "_model_module_version": "^1.0.0",
            "_model_name": "CatboostWidgetModel",
            "_view_count": null,
            "_view_module": "catboost-widget",
            "_view_module_version": "^1.0.0",
            "_view_name": "CatboostWidgetView",
            "data": {
              "catboost_info": {
                "path": "catboost_info",
                "name": "catboost_info",
                "content": {
                  "passed_iterations": 43,
                  "total_iterations": 1000,
                  "data": {
                    "iterations": [
                      {
                        "learn": [
                          0.03481567103
                        ],
                        "iteration": 0,
                        "passed_time": 1.813823478,
                        "remaining_time": 1812.009654
                      },
                      {
                        "learn": [
                          0.01002711177
                        ],
                        "iteration": 1,
                        "passed_time": 3.370680089,
                        "remaining_time": 1681.969365
                      },
                      {
                        "learn": [
                          0.006989350488
                        ],
                        "iteration": 2,
                        "passed_time": 4.926783578,
                        "remaining_time": 1637.334409
                      },
                      {
                        "learn": [
                          0.005942340567
                        ],
                        "iteration": 3,
                        "passed_time": 6.495661857,
                        "remaining_time": 1617.419802
                      },
                      {
                        "learn": [
                          0.005304274187
                        ],
                        "iteration": 4,
                        "passed_time": 8.275514541,
                        "remaining_time": 1646.827394
                      },
                      {
                        "learn": [
                          0.004995170715
                        ],
                        "iteration": 5,
                        "passed_time": 9.769464889,
                        "remaining_time": 1618.474683
                      },
                      {
                        "learn": [
                          0.004795085104
                        ],
                        "iteration": 6,
                        "passed_time": 11.43836682,
                        "remaining_time": 1622.614036
                      },
                      {
                        "learn": [
                          0.004504444943
                        ],
                        "iteration": 7,
                        "passed_time": 12.88158012,
                        "remaining_time": 1597.315935
                      },
                      {
                        "learn": [
                          0.004376048606
                        ],
                        "iteration": 8,
                        "passed_time": 14.44955637,
                        "remaining_time": 1591.056707
                      },
                      {
                        "learn": [
                          0.004226891227
                        ],
                        "iteration": 9,
                        "passed_time": 15.8872649,
                        "remaining_time": 1572.839225
                      },
                      {
                        "learn": [
                          0.004185011949
                        ],
                        "iteration": 10,
                        "passed_time": 17.44078113,
                        "remaining_time": 1568.084777
                      },
                      {
                        "learn": [
                          0.003795525699
                        ],
                        "iteration": 11,
                        "passed_time": 19.00767951,
                        "remaining_time": 1564.965613
                      },
                      {
                        "learn": [
                          0.003676202313
                        ],
                        "iteration": 12,
                        "passed_time": 20.63869388,
                        "remaining_time": 1566.953143
                      },
                      {
                        "learn": [
                          0.003609415435
                        ],
                        "iteration": 13,
                        "passed_time": 22.28429401,
                        "remaining_time": 1569.450993
                      },
                      {
                        "learn": [
                          0.003553357011
                        ],
                        "iteration": 14,
                        "passed_time": 23.905968,
                        "remaining_time": 1569.825232
                      },
                      {
                        "learn": [
                          0.003479271955
                        ],
                        "iteration": 15,
                        "passed_time": 25.49146876,
                        "remaining_time": 1567.725329
                      },
                      {
                        "learn": [
                          0.003435763718
                        ],
                        "iteration": 16,
                        "passed_time": 27.06868635,
                        "remaining_time": 1565.206982
                      },
                      {
                        "learn": [
                          0.003356606334
                        ],
                        "iteration": 17,
                        "passed_time": 28.64687328,
                        "remaining_time": 1562.846087
                      },
                      {
                        "learn": [
                          0.003093112033
                        ],
                        "iteration": 18,
                        "passed_time": 30.22122759,
                        "remaining_time": 1560.369698
                      },
                      {
                        "learn": [
                          0.003072984151
                        ],
                        "iteration": 19,
                        "passed_time": 31.73458346,
                        "remaining_time": 1554.99459
                      },
                      {
                        "learn": [
                          0.003027272722
                        ],
                        "iteration": 20,
                        "passed_time": 33.36598148,
                        "remaining_time": 1555.49028
                      },
                      {
                        "learn": [
                          0.003011563358
                        ],
                        "iteration": 21,
                        "passed_time": 34.90239331,
                        "remaining_time": 1551.57003
                      },
                      {
                        "learn": [
                          0.002990940814
                        ],
                        "iteration": 22,
                        "passed_time": 36.51475942,
                        "remaining_time": 1551.083476
                      },
                      {
                        "learn": [
                          0.002943615987
                        ],
                        "iteration": 23,
                        "passed_time": 38.11339139,
                        "remaining_time": 1549.944583
                      },
                      {
                        "learn": [
                          0.002915373937
                        ],
                        "iteration": 24,
                        "passed_time": 39.75058777,
                        "remaining_time": 1550.272923
                      },
                      {
                        "learn": [
                          0.002897576079
                        ],
                        "iteration": 25,
                        "passed_time": 41.33880942,
                        "remaining_time": 1548.615399
                      },
                      {
                        "learn": [
                          0.002865732479
                        ],
                        "iteration": 26,
                        "passed_time": 42.94606972,
                        "remaining_time": 1547.649105
                      },
                      {
                        "learn": [
                          0.002815009931
                        ],
                        "iteration": 27,
                        "passed_time": 44.52785913,
                        "remaining_time": 1545.752824
                      },
                      {
                        "learn": [
                          0.002726875359
                        ],
                        "iteration": 28,
                        "passed_time": 46.17946516,
                        "remaining_time": 1546.215885
                      },
                      {
                        "learn": [
                          0.00262382631
                        ],
                        "iteration": 29,
                        "passed_time": 47.86704268,
                        "remaining_time": 1547.701047
                      },
                      {
                        "learn": [
                          0.002612267564
                        ],
                        "iteration": 30,
                        "passed_time": 49.41369005,
                        "remaining_time": 1544.576312
                      },
                      {
                        "learn": [
                          0.002598379026
                        ],
                        "iteration": 31,
                        "passed_time": 50.88288541,
                        "remaining_time": 1539.207284
                      },
                      {
                        "learn": [
                          0.002592126699
                        ],
                        "iteration": 32,
                        "passed_time": 52.46412439,
                        "remaining_time": 1537.357827
                      },
                      {
                        "learn": [
                          0.002558533723
                        ],
                        "iteration": 33,
                        "passed_time": 54.14251812,
                        "remaining_time": 1538.284485
                      },
                      {
                        "learn": [
                          0.00254901599
                        ],
                        "iteration": 34,
                        "passed_time": 55.80585084,
                        "remaining_time": 1538.64703
                      },
                      {
                        "learn": [
                          0.002516249019
                        ],
                        "iteration": 35,
                        "passed_time": 57.44323201,
                        "remaining_time": 1538.202102
                      },
                      {
                        "learn": [
                          0.002508584263
                        ],
                        "iteration": 36,
                        "passed_time": 59.00666823,
                        "remaining_time": 1535.768149
                      },
                      {
                        "learn": [
                          0.00248635044
                        ],
                        "iteration": 37,
                        "passed_time": 60.64125415,
                        "remaining_time": 1535.181223
                      },
                      {
                        "learn": [
                          0.002460752417
                        ],
                        "iteration": 38,
                        "passed_time": 62.34029791,
                        "remaining_time": 1536.128879
                      },
                      {
                        "learn": [
                          0.002441876789
                        ],
                        "iteration": 39,
                        "passed_time": 64.0224189,
                        "remaining_time": 1536.538054
                      },
                      {
                        "learn": [
                          0.002438342857
                        ],
                        "iteration": 40,
                        "passed_time": 65.51720392,
                        "remaining_time": 1532.46338
                      },
                      {
                        "learn": [
                          0.002420931313
                        ],
                        "iteration": 41,
                        "passed_time": 67.16689141,
                        "remaining_time": 1532.044809
                      },
                      {
                        "learn": [
                          0.002418162804
                        ],
                        "iteration": 42,
                        "passed_time": 68.74963593,
                        "remaining_time": 1530.079107
                      },
                      {
                        "learn": [
                          0.002410538265
                        ],
                        "iteration": 43,
                        "passed_time": 70.39434323,
                        "remaining_time": 1529.477094
                      }
                    ],
                    "meta": {
                      "test_sets": [],
                      "test_metrics": [],
                      "learn_metrics": [
                        {
                          "best_value": "Min",
                          "name": "Logloss"
                        }
                      ],
                      "launch_mode": "Train",
                      "parameters": "",
                      "iteration_count": 1000,
                      "learn_sets": [
                        "learn"
                      ],
                      "name": "experiment"
                    }
                  }
                }
              }
            },
            "layout": "IPY_MODEL_4b42a2c3939346cb99bcac12d3c4a097"
          }
        }
      }
    }
  },
  "cells": [
    {
      "cell_type": "markdown",
      "metadata": {
        "id": "view-in-github",
        "colab_type": "text"
      },
      "source": [
        "<a href=\"https://colab.research.google.com/github/dolmani38/drift/blob/main/kaggle_api_in_colab.ipynb\" target=\"_parent\"><img src=\"https://colab.research.google.com/assets/colab-badge.svg\" alt=\"Open In Colab\"/></a>"
      ]
    },
    {
      "metadata": {
        "id": "DIf2PtekjPtY"
      },
      "cell_type": "markdown",
      "source": [
        "# Installing the [Kaggle API](https://github.com/Kaggle/kaggle-api) in Colab"
      ]
    },
    {
      "metadata": {
        "id": "OppyMnCuWjzJ",
        "colab": {
          "base_uri": "https://localhost:8080/"
        },
        "outputId": "664a002c-74dc-4b74-b01b-a7264235af3c"
      },
      "cell_type": "code",
      "source": [
        "!pip install kaggle"
      ],
      "execution_count": null,
      "outputs": [
        {
          "output_type": "stream",
          "name": "stdout",
          "text": [
            "Looking in indexes: https://pypi.org/simple, https://us-python.pkg.dev/colab-wheels/public/simple/\n",
            "Requirement already satisfied: kaggle in /usr/local/lib/python3.7/dist-packages (1.5.12)\n",
            "Requirement already satisfied: tqdm in /usr/local/lib/python3.7/dist-packages (from kaggle) (4.64.0)\n",
            "Requirement already satisfied: six>=1.10 in /usr/local/lib/python3.7/dist-packages (from kaggle) (1.15.0)\n",
            "Requirement already satisfied: requests in /usr/local/lib/python3.7/dist-packages (from kaggle) (2.23.0)\n",
            "Requirement already satisfied: python-dateutil in /usr/local/lib/python3.7/dist-packages (from kaggle) (2.8.2)\n",
            "Requirement already satisfied: python-slugify in /usr/local/lib/python3.7/dist-packages (from kaggle) (6.1.2)\n",
            "Requirement already satisfied: urllib3 in /usr/local/lib/python3.7/dist-packages (from kaggle) (1.24.3)\n",
            "Requirement already satisfied: certifi in /usr/local/lib/python3.7/dist-packages (from kaggle) (2022.6.15)\n",
            "Requirement already satisfied: text-unidecode>=1.3 in /usr/local/lib/python3.7/dist-packages (from python-slugify->kaggle) (1.3)\n",
            "Requirement already satisfied: idna<3,>=2.5 in /usr/local/lib/python3.7/dist-packages (from requests->kaggle) (2.10)\n",
            "Requirement already satisfied: chardet<4,>=3.0.2 in /usr/local/lib/python3.7/dist-packages (from requests->kaggle) (3.0.4)\n"
          ]
        }
      ]
    },
    {
      "metadata": {
        "id": "hMY4CFezjcG-"
      },
      "cell_type": "markdown",
      "source": [
        "# Authenticating with Kaggle using kaggle.json\n",
        "\n",
        "Navigate to https://www.kaggle.com. Then go to the [Account tab of your user profile](https://www.kaggle.com/me/account) and select Create API Token. This will trigger the download of kaggle.json, a file containing your API credentials.\n",
        "\n",
        "Then run the cell below to upload kaggle.json to your Colab runtime."
      ]
    },
    {
      "metadata": {
        "id": "0HtGf0HEXEa5",
        "outputId": "c8efd1e4-430d-4165-a9b0-234932e3ff58",
        "colab": {
          "resources": {
            "http://localhost:8080/nbextensions/google.colab/files.js": {
              "data": "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",
              "ok": true,
              "headers": [
                [
                  "content-type",
                  "application/javascript"
                ]
              ],
              "status": 200,
              "status_text": ""
            }
          },
          "base_uri": "https://localhost:8080/",
          "height": 95
        }
      },
      "cell_type": "code",
      "source": [
        "from google.colab import files\n",
        "\n",
        "uploaded = files.upload()\n",
        "\n",
        "for fn in uploaded.keys():\n",
        "  print('User uploaded file \"{name}\" with length {length} bytes'.format(\n",
        "      name=fn, length=len(uploaded[fn])))\n",
        "  \n",
        "# Then move kaggle.json into the folder where the API expects to find it.\n",
        "!mkdir -p ~/.kaggle/ && mv kaggle.json ~/.kaggle/ && chmod 600 ~/.kaggle/kaggle.json"
      ],
      "execution_count": 1,
      "outputs": [
        {
          "output_type": "display_data",
          "data": {
            "text/plain": [
              "<IPython.core.display.HTML object>"
            ],
            "text/html": [
              "\n",
              "     <input type=\"file\" id=\"files-74a42436-c176-4adc-9c64-ae903ee2aad0\" name=\"files[]\" multiple disabled\n",
              "        style=\"border:none\" />\n",
              "     <output id=\"result-74a42436-c176-4adc-9c64-ae903ee2aad0\">\n",
              "      Upload widget is only available when the cell has been executed in the\n",
              "      current browser session. Please rerun this cell to enable.\n",
              "      </output>\n",
              "      <script src=\"/nbextensions/google.colab/files.js\"></script> "
            ]
          },
          "metadata": {}
        },
        {
          "output_type": "stream",
          "name": "stdout",
          "text": [
            "Saving kaggle.json to kaggle.json\n",
            "User uploaded file \"kaggle.json\" with length 66 bytes\n"
          ]
        }
      ]
    },
    {
      "metadata": {
        "id": "HMk7Zz4ZkpCe"
      },
      "cell_type": "markdown",
      "source": [
        "# Using the Kaggle API\n",
        "\n",
        "For a more complete list of what you can do with the API, visit https://github.com/Kaggle/kaggle-api."
      ]
    },
    {
      "metadata": {
        "id": "SHVqmMXfilWG"
      },
      "cell_type": "markdown",
      "source": [
        "## Listing competitions"
      ]
    },
    {
      "metadata": {
        "id": "Oqt7Yfi5aQuM",
        "outputId": "3c715653-e76c-476e-c944-8de323d69a65",
        "colab": {
          "base_uri": "https://localhost:8080/"
        }
      },
      "cell_type": "code",
      "source": [
        "!kaggle competitions list"
      ],
      "execution_count": null,
      "outputs": [
        {
          "output_type": "stream",
          "name": "stdout",
          "text": [
            "ref                                            deadline             category            reward  teamCount  userHasEntered  \n",
            "---------------------------------------------  -------------------  ---------------  ---------  ---------  --------------  \n",
            "contradictory-my-dear-watson                   2030-07-01 23:59:00  Getting Started     Prizes         41           False  \n",
            "gan-getting-started                            2030-07-01 23:59:00  Getting Started     Prizes        131           False  \n",
            "store-sales-time-series-forecasting            2030-06-30 23:59:00  Getting Started  Knowledge        676           False  \n",
            "tpu-getting-started                            2030-06-03 23:59:00  Getting Started  Knowledge        134           False  \n",
            "digit-recognizer                               2030-01-01 00:00:00  Getting Started  Knowledge       1551           False  \n",
            "titanic                                        2030-01-01 00:00:00  Getting Started  Knowledge      14101           False  \n",
            "house-prices-advanced-regression-techniques    2030-01-01 00:00:00  Getting Started  Knowledge       4239           False  \n",
            "connectx                                       2030-01-01 00:00:00  Getting Started  Knowledge        192           False  \n",
            "nlp-getting-started                            2030-01-01 00:00:00  Getting Started  Knowledge        951           False  \n",
            "spaceship-titanic                              2030-01-01 00:00:00  Getting Started  Knowledge       2307           False  \n",
            "competitive-data-science-predict-future-sales  2022-12-31 23:59:00  Playground           Kudos      14967           False  \n",
            "amex-default-prediction                        2022-08-24 23:59:00  Featured          $100,000       1368           False  \n",
            "feedback-prize-effectiveness                   2022-08-23 23:59:00  Featured           $55,000        385           False  \n",
            "AI4Code                                        2022-08-11 23:59:00  Featured          $150,000        574           False  \n",
            "smartphone-decimeter-2022                      2022-07-29 23:59:00  Research           $10,000        290           False  \n",
            "ubiquant-market-prediction                     2022-07-18 23:59:00  Featured          $100,000       2459           False  \n",
            "uw-madison-gi-tract-image-segmentation         2022-07-14 23:59:00  Research           $25,000       1207           False  \n",
            "kore-2022                                      2022-07-12 23:59:00  Featured           $15,000        365           False  \n",
            "foursquare-location-matching                   2022-07-07 23:59:00  Featured           $25,000        895           False  \n",
            "jpx-tokyo-stock-exchange-prediction            2022-07-05 23:59:00  Featured           $63,000       1698           False  \n"
          ]
        }
      ]
    },
    {
      "metadata": {
        "id": "dNke00r6ig3h"
      },
      "cell_type": "markdown",
      "source": [
        "## Downloading a dataset"
      ]
    },
    {
      "metadata": {
        "id": "Aojvqv8Gaf8I",
        "colab": {
          "base_uri": "https://localhost:8080/"
        },
        "outputId": "9ae331cc-72be-4c5a-dc01-67ce1a4723e8"
      },
      "cell_type": "code",
      "source": [
        "!kaggle datasets download \"kartik2112/fraud-detection\""
      ],
      "execution_count": null,
      "outputs": [
        {
          "output_type": "stream",
          "name": "stdout",
          "text": [
            "Downloading fraud-detection.zip to /content\n",
            " 97% 195M/202M [00:01<00:00, 130MB/s]\n",
            "100% 202M/202M [00:01<00:00, 121MB/s]\n"
          ]
        }
      ]
    },
    {
      "metadata": {
        "id": "DsyV01gDaxls",
        "colab": {
          "base_uri": "https://localhost:8080/"
        },
        "outputId": "6f299ec6-c2b3-448d-a7e3-8d6a4303e0ed"
      },
      "cell_type": "code",
      "source": [
        "!unzip fraud-detection.zip"
      ],
      "execution_count": null,
      "outputs": [
        {
          "output_type": "stream",
          "name": "stdout",
          "text": [
            "Archive:  fraud-detection.zip\n",
            "  inflating: fraudTest.csv           \n",
            "  inflating: fraudTrain.csv          \n"
          ]
        }
      ]
    },
    {
      "metadata": {
        "id": "L7ZmFbHybsPk"
      },
      "cell_type": "code",
      "source": [
        "import pandas as pd \n",
        "\n",
        "train = pd.read_csv('fraudTrain.csv')\n",
        "test = pd.read_csv('fraudTest.csv')"
      ],
      "execution_count": null,
      "outputs": []
    },
    {
      "cell_type": "code",
      "source": [
        "#Concatenate the splitted data\n",
        "df = pd.concat([train,test],ignore_index=True)\n",
        "df.drop('Unnamed: 0',axis=1,inplace=True)"
      ],
      "metadata": {
        "id": "LHcma5xSeX69"
      },
      "execution_count": null,
      "outputs": []
    },
    {
      "cell_type": "code",
      "source": [
        "df.head()"
      ],
      "metadata": {
        "colab": {
          "base_uri": "https://localhost:8080/",
          "height": 577
        },
        "id": "Fzv0Q3kDe1fj",
        "outputId": "13e3dee7-0c88-498c-f4b9-47cabde09422"
      },
      "execution_count": null,
      "outputs": [
        {
          "output_type": "execute_result",
          "data": {
            "text/plain": [
              "  trans_date_trans_time            cc_num                            merchant  \\\n",
              "0   2019-01-01 00:00:18  2703186189652095          fraud_Rippin, Kub and Mann   \n",
              "1   2019-01-01 00:00:44      630423337322     fraud_Heller, Gutmann and Zieme   \n",
              "2   2019-01-01 00:00:51    38859492057661                fraud_Lind-Buckridge   \n",
              "3   2019-01-01 00:01:16  3534093764340240  fraud_Kutch, Hermiston and Farrell   \n",
              "4   2019-01-01 00:03:06   375534208663984                 fraud_Keeling-Crist   \n",
              "\n",
              "        category     amt      first     last gender  \\\n",
              "0       misc_net    4.97   Jennifer    Banks      F   \n",
              "1    grocery_pos  107.23  Stephanie     Gill      F   \n",
              "2  entertainment  220.11     Edward  Sanchez      M   \n",
              "3  gas_transport   45.00     Jeremy    White      M   \n",
              "4       misc_pos   41.96      Tyler   Garcia      M   \n",
              "\n",
              "                         street            city  ...      lat      long  \\\n",
              "0                561 Perry Cove  Moravian Falls  ...  36.0788  -81.1781   \n",
              "1  43039 Riley Greens Suite 393          Orient  ...  48.8878 -118.2105   \n",
              "2      594 White Dale Suite 530      Malad City  ...  42.1808 -112.2620   \n",
              "3   9443 Cynthia Court Apt. 038         Boulder  ...  46.2306 -112.1138   \n",
              "4              408 Bradley Rest        Doe Hill  ...  38.4207  -79.4629   \n",
              "\n",
              "   city_pop                                job         dob  \\\n",
              "0      3495          Psychologist, counselling  1988-03-09   \n",
              "1       149  Special educational needs teacher  1978-06-21   \n",
              "2      4154        Nature conservation officer  1962-01-19   \n",
              "3      1939                    Patent attorney  1967-01-12   \n",
              "4        99     Dance movement psychotherapist  1986-03-28   \n",
              "\n",
              "                          trans_num   unix_time  merch_lat  merch_long  \\\n",
              "0  0b242abb623afc578575680df30655b9  1325376018  36.011293  -82.048315   \n",
              "1  1f76529f8574734946361c461b024d99  1325376044  49.159047 -118.186462   \n",
              "2  a1a22d70485983eac12b5b88dad1cf95  1325376051  43.150704 -112.154481   \n",
              "3  6b849c168bdad6f867558c3793159a81  1325376076  47.034331 -112.561071   \n",
              "4  a41d7549acf90789359a9aa5346dcb46  1325376186  38.674999  -78.632459   \n",
              "\n",
              "   is_fraud  \n",
              "0         0  \n",
              "1         0  \n",
              "2         0  \n",
              "3         0  \n",
              "4         0  \n",
              "\n",
              "[5 rows x 22 columns]"
            ],
            "text/html": [
              "\n",
              "  <div id=\"df-5797f5b6-7f8e-4580-9bb6-d4e71e6a8393\">\n",
              "    <div class=\"colab-df-container\">\n",
              "      <div>\n",
              "<style scoped>\n",
              "    .dataframe tbody tr th:only-of-type {\n",
              "        vertical-align: middle;\n",
              "    }\n",
              "\n",
              "    .dataframe tbody tr th {\n",
              "        vertical-align: top;\n",
              "    }\n",
              "\n",
              "    .dataframe thead th {\n",
              "        text-align: right;\n",
              "    }\n",
              "</style>\n",
              "<table border=\"1\" class=\"dataframe\">\n",
              "  <thead>\n",
              "    <tr style=\"text-align: right;\">\n",
              "      <th></th>\n",
              "      <th>trans_date_trans_time</th>\n",
              "      <th>cc_num</th>\n",
              "      <th>merchant</th>\n",
              "      <th>category</th>\n",
              "      <th>amt</th>\n",
              "      <th>first</th>\n",
              "      <th>last</th>\n",
              "      <th>gender</th>\n",
              "      <th>street</th>\n",
              "      <th>city</th>\n",
              "      <th>...</th>\n",
              "      <th>lat</th>\n",
              "      <th>long</th>\n",
              "      <th>city_pop</th>\n",
              "      <th>job</th>\n",
              "      <th>dob</th>\n",
              "      <th>trans_num</th>\n",
              "      <th>unix_time</th>\n",
              "      <th>merch_lat</th>\n",
              "      <th>merch_long</th>\n",
              "      <th>is_fraud</th>\n",
              "    </tr>\n",
              "  </thead>\n",
              "  <tbody>\n",
              "    <tr>\n",
              "      <th>0</th>\n",
              "      <td>2019-01-01 00:00:18</td>\n",
              "      <td>2703186189652095</td>\n",
              "      <td>fraud_Rippin, Kub and Mann</td>\n",
              "      <td>misc_net</td>\n",
              "      <td>4.97</td>\n",
              "      <td>Jennifer</td>\n",
              "      <td>Banks</td>\n",
              "      <td>F</td>\n",
              "      <td>561 Perry Cove</td>\n",
              "      <td>Moravian Falls</td>\n",
              "      <td>...</td>\n",
              "      <td>36.0788</td>\n",
              "      <td>-81.1781</td>\n",
              "      <td>3495</td>\n",
              "      <td>Psychologist, counselling</td>\n",
              "      <td>1988-03-09</td>\n",
              "      <td>0b242abb623afc578575680df30655b9</td>\n",
              "      <td>1325376018</td>\n",
              "      <td>36.011293</td>\n",
              "      <td>-82.048315</td>\n",
              "      <td>0</td>\n",
              "    </tr>\n",
              "    <tr>\n",
              "      <th>1</th>\n",
              "      <td>2019-01-01 00:00:44</td>\n",
              "      <td>630423337322</td>\n",
              "      <td>fraud_Heller, Gutmann and Zieme</td>\n",
              "      <td>grocery_pos</td>\n",
              "      <td>107.23</td>\n",
              "      <td>Stephanie</td>\n",
              "      <td>Gill</td>\n",
              "      <td>F</td>\n",
              "      <td>43039 Riley Greens Suite 393</td>\n",
              "      <td>Orient</td>\n",
              "      <td>...</td>\n",
              "      <td>48.8878</td>\n",
              "      <td>-118.2105</td>\n",
              "      <td>149</td>\n",
              "      <td>Special educational needs teacher</td>\n",
              "      <td>1978-06-21</td>\n",
              "      <td>1f76529f8574734946361c461b024d99</td>\n",
              "      <td>1325376044</td>\n",
              "      <td>49.159047</td>\n",
              "      <td>-118.186462</td>\n",
              "      <td>0</td>\n",
              "    </tr>\n",
              "    <tr>\n",
              "      <th>2</th>\n",
              "      <td>2019-01-01 00:00:51</td>\n",
              "      <td>38859492057661</td>\n",
              "      <td>fraud_Lind-Buckridge</td>\n",
              "      <td>entertainment</td>\n",
              "      <td>220.11</td>\n",
              "      <td>Edward</td>\n",
              "      <td>Sanchez</td>\n",
              "      <td>M</td>\n",
              "      <td>594 White Dale Suite 530</td>\n",
              "      <td>Malad City</td>\n",
              "      <td>...</td>\n",
              "      <td>42.1808</td>\n",
              "      <td>-112.2620</td>\n",
              "      <td>4154</td>\n",
              "      <td>Nature conservation officer</td>\n",
              "      <td>1962-01-19</td>\n",
              "      <td>a1a22d70485983eac12b5b88dad1cf95</td>\n",
              "      <td>1325376051</td>\n",
              "      <td>43.150704</td>\n",
              "      <td>-112.154481</td>\n",
              "      <td>0</td>\n",
              "    </tr>\n",
              "    <tr>\n",
              "      <th>3</th>\n",
              "      <td>2019-01-01 00:01:16</td>\n",
              "      <td>3534093764340240</td>\n",
              "      <td>fraud_Kutch, Hermiston and Farrell</td>\n",
              "      <td>gas_transport</td>\n",
              "      <td>45.00</td>\n",
              "      <td>Jeremy</td>\n",
              "      <td>White</td>\n",
              "      <td>M</td>\n",
              "      <td>9443 Cynthia Court Apt. 038</td>\n",
              "      <td>Boulder</td>\n",
              "      <td>...</td>\n",
              "      <td>46.2306</td>\n",
              "      <td>-112.1138</td>\n",
              "      <td>1939</td>\n",
              "      <td>Patent attorney</td>\n",
              "      <td>1967-01-12</td>\n",
              "      <td>6b849c168bdad6f867558c3793159a81</td>\n",
              "      <td>1325376076</td>\n",
              "      <td>47.034331</td>\n",
              "      <td>-112.561071</td>\n",
              "      <td>0</td>\n",
              "    </tr>\n",
              "    <tr>\n",
              "      <th>4</th>\n",
              "      <td>2019-01-01 00:03:06</td>\n",
              "      <td>375534208663984</td>\n",
              "      <td>fraud_Keeling-Crist</td>\n",
              "      <td>misc_pos</td>\n",
              "      <td>41.96</td>\n",
              "      <td>Tyler</td>\n",
              "      <td>Garcia</td>\n",
              "      <td>M</td>\n",
              "      <td>408 Bradley Rest</td>\n",
              "      <td>Doe Hill</td>\n",
              "      <td>...</td>\n",
              "      <td>38.4207</td>\n",
              "      <td>-79.4629</td>\n",
              "      <td>99</td>\n",
              "      <td>Dance movement psychotherapist</td>\n",
              "      <td>1986-03-28</td>\n",
              "      <td>a41d7549acf90789359a9aa5346dcb46</td>\n",
              "      <td>1325376186</td>\n",
              "      <td>38.674999</td>\n",
              "      <td>-78.632459</td>\n",
              "      <td>0</td>\n",
              "    </tr>\n",
              "  </tbody>\n",
              "</table>\n",
              "<p>5 rows × 22 columns</p>\n",
              "</div>\n",
              "      <button class=\"colab-df-convert\" onclick=\"convertToInteractive('df-5797f5b6-7f8e-4580-9bb6-d4e71e6a8393')\"\n",
              "              title=\"Convert this dataframe to an interactive table.\"\n",
              "              style=\"display:none;\">\n",
              "        \n",
              "  <svg xmlns=\"http://www.w3.org/2000/svg\" height=\"24px\"viewBox=\"0 0 24 24\"\n",
              "       width=\"24px\">\n",
              "    <path d=\"M0 0h24v24H0V0z\" fill=\"none\"/>\n",
              "    <path d=\"M18.56 5.44l.94 2.06.94-2.06 2.06-.94-2.06-.94-.94-2.06-.94 2.06-2.06.94zm-11 1L8.5 8.5l.94-2.06 2.06-.94-2.06-.94L8.5 2.5l-.94 2.06-2.06.94zm10 10l.94 2.06.94-2.06 2.06-.94-2.06-.94-.94-2.06-.94 2.06-2.06.94z\"/><path d=\"M17.41 7.96l-1.37-1.37c-.4-.4-.92-.59-1.43-.59-.52 0-1.04.2-1.43.59L10.3 9.45l-7.72 7.72c-.78.78-.78 2.05 0 2.83L4 21.41c.39.39.9.59 1.41.59.51 0 1.02-.2 1.41-.59l7.78-7.78 2.81-2.81c.8-.78.8-2.07 0-2.86zM5.41 20L4 18.59l7.72-7.72 1.47 1.35L5.41 20z\"/>\n",
              "  </svg>\n",
              "      </button>\n",
              "      \n",
              "  <style>\n",
              "    .colab-df-container {\n",
              "      display:flex;\n",
              "      flex-wrap:wrap;\n",
              "      gap: 12px;\n",
              "    }\n",
              "\n",
              "    .colab-df-convert {\n",
              "      background-color: #E8F0FE;\n",
              "      border: none;\n",
              "      border-radius: 50%;\n",
              "      cursor: pointer;\n",
              "      display: none;\n",
              "      fill: #1967D2;\n",
              "      height: 32px;\n",
              "      padding: 0 0 0 0;\n",
              "      width: 32px;\n",
              "    }\n",
              "\n",
              "    .colab-df-convert:hover {\n",
              "      background-color: #E2EBFA;\n",
              "      box-shadow: 0px 1px 2px rgba(60, 64, 67, 0.3), 0px 1px 3px 1px rgba(60, 64, 67, 0.15);\n",
              "      fill: #174EA6;\n",
              "    }\n",
              "\n",
              "    [theme=dark] .colab-df-convert {\n",
              "      background-color: #3B4455;\n",
              "      fill: #D2E3FC;\n",
              "    }\n",
              "\n",
              "    [theme=dark] .colab-df-convert:hover {\n",
              "      background-color: #434B5C;\n",
              "      box-shadow: 0px 1px 3px 1px rgba(0, 0, 0, 0.15);\n",
              "      filter: drop-shadow(0px 1px 2px rgba(0, 0, 0, 0.3));\n",
              "      fill: #FFFFFF;\n",
              "    }\n",
              "  </style>\n",
              "\n",
              "      <script>\n",
              "        const buttonEl =\n",
              "          document.querySelector('#df-5797f5b6-7f8e-4580-9bb6-d4e71e6a8393 button.colab-df-convert');\n",
              "        buttonEl.style.display =\n",
              "          google.colab.kernel.accessAllowed ? 'block' : 'none';\n",
              "\n",
              "        async function convertToInteractive(key) {\n",
              "          const element = document.querySelector('#df-5797f5b6-7f8e-4580-9bb6-d4e71e6a8393');\n",
              "          const dataTable =\n",
              "            await google.colab.kernel.invokeFunction('convertToInteractive',\n",
              "                                                     [key], {});\n",
              "          if (!dataTable) return;\n",
              "\n",
              "          const docLinkHtml = 'Like what you see? Visit the ' +\n",
              "            '<a target=\"_blank\" href=https://colab.research.google.com/notebooks/data_table.ipynb>data table notebook</a>'\n",
              "            + ' to learn more about interactive tables.';\n",
              "          element.innerHTML = '';\n",
              "          dataTable['output_type'] = 'display_data';\n",
              "          await google.colab.output.renderOutput(dataTable, element);\n",
              "          const docLink = document.createElement('div');\n",
              "          docLink.innerHTML = docLinkHtml;\n",
              "          element.appendChild(docLink);\n",
              "        }\n",
              "      </script>\n",
              "    </div>\n",
              "  </div>\n",
              "  "
            ]
          },
          "metadata": {},
          "execution_count": 7
        }
      ]
    },
    {
      "cell_type": "code",
      "source": [
        "#Shape of the data (rows,columns)\n",
        "df.shape"
      ],
      "metadata": {
        "colab": {
          "base_uri": "https://localhost:8080/"
        },
        "id": "MXfFCI15e27z",
        "outputId": "18747feb-c722-4e6a-b8c7-5cb01653ad94"
      },
      "execution_count": null,
      "outputs": [
        {
          "output_type": "execute_result",
          "data": {
            "text/plain": [
              "(1852394, 22)"
            ]
          },
          "metadata": {},
          "execution_count": 8
        }
      ]
    },
    {
      "cell_type": "code",
      "source": [
        "#Finding dtypes and other basic info about the features\n",
        "df.info()"
      ],
      "metadata": {
        "colab": {
          "base_uri": "https://localhost:8080/"
        },
        "id": "WO8uiCuce6u2",
        "outputId": "d0250d72-1c5a-40bf-9eca-90a32acbf06f"
      },
      "execution_count": null,
      "outputs": [
        {
          "output_type": "stream",
          "name": "stdout",
          "text": [
            "<class 'pandas.core.frame.DataFrame'>\n",
            "RangeIndex: 1852394 entries, 0 to 1852393\n",
            "Data columns (total 22 columns):\n",
            " #   Column                 Dtype  \n",
            "---  ------                 -----  \n",
            " 0   trans_date_trans_time  object \n",
            " 1   cc_num                 int64  \n",
            " 2   merchant               object \n",
            " 3   category               object \n",
            " 4   amt                    float64\n",
            " 5   first                  object \n",
            " 6   last                   object \n",
            " 7   gender                 object \n",
            " 8   street                 object \n",
            " 9   city                   object \n",
            " 10  state                  object \n",
            " 11  zip                    int64  \n",
            " 12  lat                    float64\n",
            " 13  long                   float64\n",
            " 14  city_pop               int64  \n",
            " 15  job                    object \n",
            " 16  dob                    object \n",
            " 17  trans_num              object \n",
            " 18  unix_time              int64  \n",
            " 19  merch_lat              float64\n",
            " 20  merch_long             float64\n",
            " 21  is_fraud               int64  \n",
            "dtypes: float64(5), int64(5), object(12)\n",
            "memory usage: 310.9+ MB\n"
          ]
        }
      ]
    },
    {
      "cell_type": "code",
      "source": [
        "import numpy as np # linear algebra\n",
        "import pandas as pd # data processing, CSV file I/O (e.g. pd.read_csv)\n",
        "\n",
        "import matplotlib.pyplot as plt###\n",
        "                               ### Visualisation tools\n",
        "import seaborn as sns          ###\n",
        "\n",
        "from sklearn.linear_model import LinearRegression,LogisticRegression,SGDRegressor , Ridge,Lasso\n",
        "from sklearn.model_selection import train_test_split,GridSearchCV\n",
        "from sklearn.preprocessing import LabelEncoder,StandardScaler\n",
        "from warnings import filterwarnings\n",
        "filterwarnings('ignore')\n",
        "from sklearn.metrics import accuracy_score,precision_score,confusion_matrix\n",
        "from sklearn.metrics import classification_report,roc_curve,roc_auc_score\n",
        "from sklearn.neighbors import KNeighborsClassifier\n",
        "from sklearn.naive_bayes import GaussianNB\n",
        "\n",
        "# Input data files are available in the read-only \"../input/\" directory\n",
        "# For example, running this (by clicking run or pressing Shift+Enter) will list all files under the input directory\n",
        "\n",
        "import os"
      ],
      "metadata": {
        "id": "_AGpHx6QfJ9w"
      },
      "execution_count": 2,
      "outputs": []
    },
    {
      "cell_type": "code",
      "source": [
        "#dividing data into categorical and numerical\n",
        "df_cat = df.select_dtypes(include = 'object')\n",
        "df_num = df.select_dtypes(exclude = 'object')\n",
        "le = LabelEncoder()"
      ],
      "metadata": {
        "id": "BizQmguge-3K"
      },
      "execution_count": null,
      "outputs": []
    },
    {
      "cell_type": "code",
      "source": [
        "df['gender_le']  = le.fit_transform(df['gender'])"
      ],
      "metadata": {
        "id": "p6SZ9_aJfSg0"
      },
      "execution_count": null,
      "outputs": []
    },
    {
      "cell_type": "code",
      "source": [
        "# Seperating  numerical from nominal\n",
        "# cutting off some data to avoid heavy cpu usage\n",
        "df2 = df.select_dtypes(exclude = 'object')\n",
        "#df2 = df2.loc[:149999]"
      ],
      "metadata": {
        "id": "3sUrHipofeqQ"
      },
      "execution_count": null,
      "outputs": []
    },
    {
      "cell_type": "code",
      "source": [
        "# dropping the feature which is not useful for data analysis\n",
        "df2 = df2.drop(['cc_num'],axis=1)\n",
        "# seperating target and independent features\n",
        "x = df2.drop('is_fraud',axis=1)\n",
        "y = df2['is_fraud']"
      ],
      "metadata": {
        "id": "oyNx2-znfj25"
      },
      "execution_count": null,
      "outputs": []
    },
    {
      "cell_type": "code",
      "source": [
        "df_num = df_num.drop(['cc_num','zip'],axis=1)\n",
        "df_num = df_num.drop('is_fraud',axis=1)"
      ],
      "metadata": {
        "id": "b2QjqP_rhlMM"
      },
      "execution_count": null,
      "outputs": []
    },
    {
      "cell_type": "code",
      "source": [
        "df_num.columns"
      ],
      "metadata": {
        "colab": {
          "base_uri": "https://localhost:8080/"
        },
        "id": "ad3_wR09hpp0",
        "outputId": "d8fd1b80-cde1-4dcb-b552-41b8ceaee452"
      },
      "execution_count": null,
      "outputs": [
        {
          "output_type": "execute_result",
          "data": {
            "text/plain": [
              "Index(['amt', 'lat', 'long', 'city_pop', 'unix_time', 'merch_lat',\n",
              "       'merch_long'],\n",
              "      dtype='object')"
            ]
          },
          "metadata": {},
          "execution_count": 16
        }
      ]
    },
    {
      "cell_type": "code",
      "source": [
        "x.shape"
      ],
      "metadata": {
        "colab": {
          "base_uri": "https://localhost:8080/"
        },
        "id": "yyPmHWEinEt5",
        "outputId": "6aab29ef-badf-40e3-d9f9-ac789f658a98"
      },
      "execution_count": null,
      "outputs": [
        {
          "output_type": "execute_result",
          "data": {
            "text/plain": [
              "(1852394, 9)"
            ]
          },
          "metadata": {},
          "execution_count": 17
        }
      ]
    },
    {
      "cell_type": "code",
      "source": [
        "train_x = x[0:300000]\n",
        "train_y = 1-y[0:300000]\n"
      ],
      "metadata": {
        "id": "eUFSCpd6flER"
      },
      "execution_count": null,
      "outputs": []
    },
    {
      "cell_type": "code",
      "source": [
        "train_x"
      ],
      "metadata": {
        "colab": {
          "base_uri": "https://localhost:8080/",
          "height": 424
        },
        "id": "MrjXRQpKhQq7",
        "outputId": "174d0b5f-6f14-4958-830d-74c08a97233d"
      },
      "execution_count": null,
      "outputs": [
        {
          "output_type": "execute_result",
          "data": {
            "text/plain": [
              "           amt    zip      lat      long  city_pop   unix_time  merch_lat  \\\n",
              "0         4.97  28654  36.0788  -81.1781      3495  1325376018  36.011293   \n",
              "1       107.23  99160  48.8878 -118.2105       149  1325376044  49.159047   \n",
              "2       220.11  83252  42.1808 -112.2620      4154  1325376051  43.150704   \n",
              "3        45.00  59632  46.2306 -112.1138      1939  1325376076  47.034331   \n",
              "4        41.96  24433  38.4207  -79.4629        99  1325376186  38.674999   \n",
              "...        ...    ...      ...       ...       ...         ...        ...   \n",
              "299995   96.03  25106  38.8265  -82.1364       642  1338048681  39.298162   \n",
              "299996   59.77  63021  38.5770  -90.5255     92608  1338048685  39.339959   \n",
              "299997   77.82  73754  36.3850  -98.0727      1078  1338048717  36.545200   \n",
              "299998   53.20  27522  36.1124  -78.6476     12335  1338048723  36.078714   \n",
              "299999   78.53  54896  45.8327  -91.0144      1478  1338048746  45.181078   \n",
              "\n",
              "        merch_long  gender_le  \n",
              "0       -82.048315          0  \n",
              "1      -118.186462          0  \n",
              "2      -112.154481          1  \n",
              "3      -112.561071          1  \n",
              "4       -78.632459          1  \n",
              "...            ...        ...  \n",
              "299995  -82.030474          0  \n",
              "299996  -89.859340          1  \n",
              "299997  -98.854027          1  \n",
              "299998  -78.024839          0  \n",
              "299999  -90.340056          0  \n",
              "\n",
              "[300000 rows x 9 columns]"
            ],
            "text/html": [
              "\n",
              "  <div id=\"df-2a10bad4-5070-44c6-9fef-908d64172c29\">\n",
              "    <div class=\"colab-df-container\">\n",
              "      <div>\n",
              "<style scoped>\n",
              "    .dataframe tbody tr th:only-of-type {\n",
              "        vertical-align: middle;\n",
              "    }\n",
              "\n",
              "    .dataframe tbody tr th {\n",
              "        vertical-align: top;\n",
              "    }\n",
              "\n",
              "    .dataframe thead th {\n",
              "        text-align: right;\n",
              "    }\n",
              "</style>\n",
              "<table border=\"1\" class=\"dataframe\">\n",
              "  <thead>\n",
              "    <tr style=\"text-align: right;\">\n",
              "      <th></th>\n",
              "      <th>amt</th>\n",
              "      <th>zip</th>\n",
              "      <th>lat</th>\n",
              "      <th>long</th>\n",
              "      <th>city_pop</th>\n",
              "      <th>unix_time</th>\n",
              "      <th>merch_lat</th>\n",
              "      <th>merch_long</th>\n",
              "      <th>gender_le</th>\n",
              "    </tr>\n",
              "  </thead>\n",
              "  <tbody>\n",
              "    <tr>\n",
              "      <th>0</th>\n",
              "      <td>4.97</td>\n",
              "      <td>28654</td>\n",
              "      <td>36.0788</td>\n",
              "      <td>-81.1781</td>\n",
              "      <td>3495</td>\n",
              "      <td>1325376018</td>\n",
              "      <td>36.011293</td>\n",
              "      <td>-82.048315</td>\n",
              "      <td>0</td>\n",
              "    </tr>\n",
              "    <tr>\n",
              "      <th>1</th>\n",
              "      <td>107.23</td>\n",
              "      <td>99160</td>\n",
              "      <td>48.8878</td>\n",
              "      <td>-118.2105</td>\n",
              "      <td>149</td>\n",
              "      <td>1325376044</td>\n",
              "      <td>49.159047</td>\n",
              "      <td>-118.186462</td>\n",
              "      <td>0</td>\n",
              "    </tr>\n",
              "    <tr>\n",
              "      <th>2</th>\n",
              "      <td>220.11</td>\n",
              "      <td>83252</td>\n",
              "      <td>42.1808</td>\n",
              "      <td>-112.2620</td>\n",
              "      <td>4154</td>\n",
              "      <td>1325376051</td>\n",
              "      <td>43.150704</td>\n",
              "      <td>-112.154481</td>\n",
              "      <td>1</td>\n",
              "    </tr>\n",
              "    <tr>\n",
              "      <th>3</th>\n",
              "      <td>45.00</td>\n",
              "      <td>59632</td>\n",
              "      <td>46.2306</td>\n",
              "      <td>-112.1138</td>\n",
              "      <td>1939</td>\n",
              "      <td>1325376076</td>\n",
              "      <td>47.034331</td>\n",
              "      <td>-112.561071</td>\n",
              "      <td>1</td>\n",
              "    </tr>\n",
              "    <tr>\n",
              "      <th>4</th>\n",
              "      <td>41.96</td>\n",
              "      <td>24433</td>\n",
              "      <td>38.4207</td>\n",
              "      <td>-79.4629</td>\n",
              "      <td>99</td>\n",
              "      <td>1325376186</td>\n",
              "      <td>38.674999</td>\n",
              "      <td>-78.632459</td>\n",
              "      <td>1</td>\n",
              "    </tr>\n",
              "    <tr>\n",
              "      <th>...</th>\n",
              "      <td>...</td>\n",
              "      <td>...</td>\n",
              "      <td>...</td>\n",
              "      <td>...</td>\n",
              "      <td>...</td>\n",
              "      <td>...</td>\n",
              "      <td>...</td>\n",
              "      <td>...</td>\n",
              "      <td>...</td>\n",
              "    </tr>\n",
              "    <tr>\n",
              "      <th>299995</th>\n",
              "      <td>96.03</td>\n",
              "      <td>25106</td>\n",
              "      <td>38.8265</td>\n",
              "      <td>-82.1364</td>\n",
              "      <td>642</td>\n",
              "      <td>1338048681</td>\n",
              "      <td>39.298162</td>\n",
              "      <td>-82.030474</td>\n",
              "      <td>0</td>\n",
              "    </tr>\n",
              "    <tr>\n",
              "      <th>299996</th>\n",
              "      <td>59.77</td>\n",
              "      <td>63021</td>\n",
              "      <td>38.5770</td>\n",
              "      <td>-90.5255</td>\n",
              "      <td>92608</td>\n",
              "      <td>1338048685</td>\n",
              "      <td>39.339959</td>\n",
              "      <td>-89.859340</td>\n",
              "      <td>1</td>\n",
              "    </tr>\n",
              "    <tr>\n",
              "      <th>299997</th>\n",
              "      <td>77.82</td>\n",
              "      <td>73754</td>\n",
              "      <td>36.3850</td>\n",
              "      <td>-98.0727</td>\n",
              "      <td>1078</td>\n",
              "      <td>1338048717</td>\n",
              "      <td>36.545200</td>\n",
              "      <td>-98.854027</td>\n",
              "      <td>1</td>\n",
              "    </tr>\n",
              "    <tr>\n",
              "      <th>299998</th>\n",
              "      <td>53.20</td>\n",
              "      <td>27522</td>\n",
              "      <td>36.1124</td>\n",
              "      <td>-78.6476</td>\n",
              "      <td>12335</td>\n",
              "      <td>1338048723</td>\n",
              "      <td>36.078714</td>\n",
              "      <td>-78.024839</td>\n",
              "      <td>0</td>\n",
              "    </tr>\n",
              "    <tr>\n",
              "      <th>299999</th>\n",
              "      <td>78.53</td>\n",
              "      <td>54896</td>\n",
              "      <td>45.8327</td>\n",
              "      <td>-91.0144</td>\n",
              "      <td>1478</td>\n",
              "      <td>1338048746</td>\n",
              "      <td>45.181078</td>\n",
              "      <td>-90.340056</td>\n",
              "      <td>0</td>\n",
              "    </tr>\n",
              "  </tbody>\n",
              "</table>\n",
              "<p>300000 rows × 9 columns</p>\n",
              "</div>\n",
              "      <button class=\"colab-df-convert\" onclick=\"convertToInteractive('df-2a10bad4-5070-44c6-9fef-908d64172c29')\"\n",
              "              title=\"Convert this dataframe to an interactive table.\"\n",
              "              style=\"display:none;\">\n",
              "        \n",
              "  <svg xmlns=\"http://www.w3.org/2000/svg\" height=\"24px\"viewBox=\"0 0 24 24\"\n",
              "       width=\"24px\">\n",
              "    <path d=\"M0 0h24v24H0V0z\" fill=\"none\"/>\n",
              "    <path d=\"M18.56 5.44l.94 2.06.94-2.06 2.06-.94-2.06-.94-.94-2.06-.94 2.06-2.06.94zm-11 1L8.5 8.5l.94-2.06 2.06-.94-2.06-.94L8.5 2.5l-.94 2.06-2.06.94zm10 10l.94 2.06.94-2.06 2.06-.94-2.06-.94-.94-2.06-.94 2.06-2.06.94z\"/><path d=\"M17.41 7.96l-1.37-1.37c-.4-.4-.92-.59-1.43-.59-.52 0-1.04.2-1.43.59L10.3 9.45l-7.72 7.72c-.78.78-.78 2.05 0 2.83L4 21.41c.39.39.9.59 1.41.59.51 0 1.02-.2 1.41-.59l7.78-7.78 2.81-2.81c.8-.78.8-2.07 0-2.86zM5.41 20L4 18.59l7.72-7.72 1.47 1.35L5.41 20z\"/>\n",
              "  </svg>\n",
              "      </button>\n",
              "      \n",
              "  <style>\n",
              "    .colab-df-container {\n",
              "      display:flex;\n",
              "      flex-wrap:wrap;\n",
              "      gap: 12px;\n",
              "    }\n",
              "\n",
              "    .colab-df-convert {\n",
              "      background-color: #E8F0FE;\n",
              "      border: none;\n",
              "      border-radius: 50%;\n",
              "      cursor: pointer;\n",
              "      display: none;\n",
              "      fill: #1967D2;\n",
              "      height: 32px;\n",
              "      padding: 0 0 0 0;\n",
              "      width: 32px;\n",
              "    }\n",
              "\n",
              "    .colab-df-convert:hover {\n",
              "      background-color: #E2EBFA;\n",
              "      box-shadow: 0px 1px 2px rgba(60, 64, 67, 0.3), 0px 1px 3px 1px rgba(60, 64, 67, 0.15);\n",
              "      fill: #174EA6;\n",
              "    }\n",
              "\n",
              "    [theme=dark] .colab-df-convert {\n",
              "      background-color: #3B4455;\n",
              "      fill: #D2E3FC;\n",
              "    }\n",
              "\n",
              "    [theme=dark] .colab-df-convert:hover {\n",
              "      background-color: #434B5C;\n",
              "      box-shadow: 0px 1px 3px 1px rgba(0, 0, 0, 0.15);\n",
              "      filter: drop-shadow(0px 1px 2px rgba(0, 0, 0, 0.3));\n",
              "      fill: #FFFFFF;\n",
              "    }\n",
              "  </style>\n",
              "\n",
              "      <script>\n",
              "        const buttonEl =\n",
              "          document.querySelector('#df-2a10bad4-5070-44c6-9fef-908d64172c29 button.colab-df-convert');\n",
              "        buttonEl.style.display =\n",
              "          google.colab.kernel.accessAllowed ? 'block' : 'none';\n",
              "\n",
              "        async function convertToInteractive(key) {\n",
              "          const element = document.querySelector('#df-2a10bad4-5070-44c6-9fef-908d64172c29');\n",
              "          const dataTable =\n",
              "            await google.colab.kernel.invokeFunction('convertToInteractive',\n",
              "                                                     [key], {});\n",
              "          if (!dataTable) return;\n",
              "\n",
              "          const docLinkHtml = 'Like what you see? Visit the ' +\n",
              "            '<a target=\"_blank\" href=https://colab.research.google.com/notebooks/data_table.ipynb>data table notebook</a>'\n",
              "            + ' to learn more about interactive tables.';\n",
              "          element.innerHTML = '';\n",
              "          dataTable['output_type'] = 'display_data';\n",
              "          await google.colab.output.renderOutput(dataTable, element);\n",
              "          const docLink = document.createElement('div');\n",
              "          docLink.innerHTML = docLinkHtml;\n",
              "          element.appendChild(docLink);\n",
              "        }\n",
              "      </script>\n",
              "    </div>\n",
              "  </div>\n",
              "  "
            ]
          },
          "metadata": {},
          "execution_count": 19
        }
      ]
    },
    {
      "cell_type": "code",
      "source": [
        "# Scaling the data\n",
        "ss = StandardScaler()\n",
        "train_x[df_num.columns] = ss.fit_transform(train_x[df_num.columns])\n"
      ],
      "metadata": {
        "id": "t1xDGIh7hw1u"
      },
      "execution_count": null,
      "outputs": []
    },
    {
      "cell_type": "code",
      "source": [
        "train_y.value_counts()"
      ],
      "metadata": {
        "colab": {
          "base_uri": "https://localhost:8080/"
        },
        "id": "EKwDAePZi7M5",
        "outputId": "a3fabe0c-8ca4-4e58-a887-88a884359e20"
      },
      "execution_count": null,
      "outputs": [
        {
          "output_type": "execute_result",
          "data": {
            "text/plain": [
              "1    297745\n",
              "0      2255\n",
              "Name: is_fraud, dtype: int64"
            ]
          },
          "metadata": {},
          "execution_count": 24
        }
      ]
    },
    {
      "cell_type": "code",
      "source": [
        "import tensorflow as tf\n",
        "from tensorflow.keras import layers\n",
        "from tensorflow.keras import datasets, layers, models, optimizers\n",
        "from tensorflow.keras.utils import to_categorical\n",
        "import random"
      ],
      "metadata": {
        "id": "p71_5dSogH23"
      },
      "execution_count": null,
      "outputs": []
    },
    {
      "cell_type": "code",
      "source": [
        "\n",
        "epochs = 500\n",
        "\n",
        "model_c = tf.keras.Sequential([\n",
        "    tf.keras.layers.Dense(128, activation='relu', input_shape=(train_x.shape[1],)),\n",
        "    #tf.keras.layers.Dense(64, activation='relu'),\n",
        "    tf.keras.layers.Dense(1, activation='sigmoid')\n",
        "])\n",
        "\n",
        "# patience 매개변수는 성능 향상을 체크할 에포크 횟수입니다\n",
        "early_stop = tf.keras.callbacks.EarlyStopping(monitor='val_loss', patience=10)\n",
        "\n",
        "opt = optimizers.Adam(learning_rate=0.0000001)\n",
        "model_c.compile(optimizer=opt,\n",
        "            loss='binary_crossentropy',\n",
        "            metrics=['acc'])\n",
        "print(model_c.summary())\n",
        "#hist = model_c.fit(dx, metric_c[:,0], validation_split=0.2, batch_size=400, epochs=epochs,shuffle=False,verbose=0,callbacks=[early_stop,VerboseCallback(epochs)]) #, callbacks=[es_callback])\n",
        "hist = model_c.fit(train_x, train_y, validation_split=0.2, \n",
        "                   batch_size=5000, epochs=epochs,shuffle=False,use_multiprocessing=False,\n",
        "                   verbose=1, callbacks=[early_stop])"
      ],
      "metadata": {
        "colab": {
          "base_uri": "https://localhost:8080/",
          "height": 1000
        },
        "id": "2YQtp_A_gMno",
        "outputId": "788207b8-0e85-4ec4-80da-f6960e244b72"
      },
      "execution_count": null,
      "outputs": [
        {
          "output_type": "stream",
          "name": "stdout",
          "text": [
            "Model: \"sequential_3\"\n",
            "_________________________________________________________________\n",
            " Layer (type)                Output Shape              Param #   \n",
            "=================================================================\n",
            " dense_9 (Dense)             (None, 128)               1280      \n",
            "                                                                 \n",
            " dense_10 (Dense)            (None, 1)                 129       \n",
            "                                                                 \n",
            "=================================================================\n",
            "Total params: 1,409\n",
            "Trainable params: 1,409\n",
            "Non-trainable params: 0\n",
            "_________________________________________________________________\n",
            "None\n",
            "Epoch 1/500\n",
            "48/48 [==============================] - 1s 7ms/step - loss: 2173361.0000 - acc: 0.9922 - val_loss: 1742507.8750 - val_acc: 0.9937\n",
            "Epoch 2/500\n",
            "48/48 [==============================] - 0s 4ms/step - loss: 2172709.7500 - acc: 0.9922 - val_loss: 1741974.5000 - val_acc: 0.9937\n",
            "Epoch 3/500\n",
            "48/48 [==============================] - 0s 4ms/step - loss: 2172040.5000 - acc: 0.9922 - val_loss: 1741432.8750 - val_acc: 0.9937\n",
            "Epoch 4/500\n",
            "48/48 [==============================] - 0s 4ms/step - loss: 2171362.7500 - acc: 0.9922 - val_loss: 1740887.2500 - val_acc: 0.9937\n",
            "Epoch 5/500\n",
            "48/48 [==============================] - 0s 4ms/step - loss: 2170680.5000 - acc: 0.9922 - val_loss: 1740338.7500 - val_acc: 0.9937\n",
            "Epoch 6/500\n",
            "48/48 [==============================] - 0s 4ms/step - loss: 2169996.7500 - acc: 0.9922 - val_loss: 1739789.7500 - val_acc: 0.9937\n",
            "Epoch 7/500\n",
            "48/48 [==============================] - 0s 5ms/step - loss: 2169311.7500 - acc: 0.9922 - val_loss: 1739240.2500 - val_acc: 0.9937\n",
            "Epoch 8/500\n",
            "48/48 [==============================] - 0s 5ms/step - loss: 2168626.5000 - acc: 0.9922 - val_loss: 1738690.0000 - val_acc: 0.9937\n",
            "Epoch 9/500\n",
            "48/48 [==============================] - 0s 4ms/step - loss: 2167940.0000 - acc: 0.9922 - val_loss: 1738139.3750 - val_acc: 0.9937\n",
            "Epoch 10/500\n",
            "48/48 [==============================] - 0s 4ms/step - loss: 2167253.7500 - acc: 0.9922 - val_loss: 1737588.6250 - val_acc: 0.9937\n",
            "Epoch 11/500\n",
            "48/48 [==============================] - 0s 5ms/step - loss: 2166566.2500 - acc: 0.9922 - val_loss: 1737037.1250 - val_acc: 0.9937\n",
            "Epoch 12/500\n",
            "48/48 [==============================] - 0s 5ms/step - loss: 2165878.2500 - acc: 0.9922 - val_loss: 1736485.3750 - val_acc: 0.9937\n",
            "Epoch 13/500\n",
            "48/48 [==============================] - 0s 4ms/step - loss: 2165189.7500 - acc: 0.9922 - val_loss: 1735933.1250 - val_acc: 0.9937\n",
            "Epoch 14/500\n",
            "48/48 [==============================] - 0s 4ms/step - loss: 2164501.2500 - acc: 0.9922 - val_loss: 1735381.0000 - val_acc: 0.9937\n",
            "Epoch 15/500\n",
            "48/48 [==============================] - 0s 4ms/step - loss: 2163812.7500 - acc: 0.9922 - val_loss: 1734829.0000 - val_acc: 0.9937\n",
            "Epoch 16/500\n",
            "48/48 [==============================] - 0s 5ms/step - loss: 2163123.7500 - acc: 0.9922 - val_loss: 1734276.7500 - val_acc: 0.9937\n",
            "Epoch 17/500\n",
            "48/48 [==============================] - 0s 4ms/step - loss: 2162434.7500 - acc: 0.9922 - val_loss: 1733724.2500 - val_acc: 0.9937\n",
            "Epoch 18/500\n",
            "48/48 [==============================] - 0s 4ms/step - loss: 2161746.0000 - acc: 0.9922 - val_loss: 1733171.8750 - val_acc: 0.9937\n",
            "Epoch 19/500\n",
            "48/48 [==============================] - 0s 5ms/step - loss: 2161057.5000 - acc: 0.9922 - val_loss: 1732619.2500 - val_acc: 0.9937\n",
            "Epoch 20/500\n",
            "48/48 [==============================] - 0s 4ms/step - loss: 2160368.0000 - acc: 0.9922 - val_loss: 1732066.7500 - val_acc: 0.9937\n",
            "Epoch 21/500\n",
            "48/48 [==============================] - 0s 4ms/step - loss: 2159679.0000 - acc: 0.9922 - val_loss: 1731514.1250 - val_acc: 0.9937\n",
            "Epoch 22/500\n",
            "48/48 [==============================] - 0s 4ms/step - loss: 2158989.7500 - acc: 0.9922 - val_loss: 1730961.3750 - val_acc: 0.9937\n",
            "Epoch 23/500\n",
            "48/48 [==============================] - 0s 4ms/step - loss: 2158300.7500 - acc: 0.9922 - val_loss: 1730408.6250 - val_acc: 0.9937\n",
            "Epoch 24/500\n",
            "48/48 [==============================] - 0s 4ms/step - loss: 2157611.0000 - acc: 0.9922 - val_loss: 1729855.8750 - val_acc: 0.9937\n",
            "Epoch 25/500\n",
            "48/48 [==============================] - 0s 4ms/step - loss: 2156922.0000 - acc: 0.9922 - val_loss: 1729303.1250 - val_acc: 0.9937\n",
            "Epoch 26/500\n",
            "48/48 [==============================] - 0s 5ms/step - loss: 2156232.5000 - acc: 0.9922 - val_loss: 1728750.3750 - val_acc: 0.9937\n",
            "Epoch 27/500\n",
            "48/48 [==============================] - 0s 4ms/step - loss: 2155543.0000 - acc: 0.9922 - val_loss: 1728197.6250 - val_acc: 0.9937\n",
            "Epoch 28/500\n",
            "48/48 [==============================] - 0s 4ms/step - loss: 2154853.5000 - acc: 0.9922 - val_loss: 1727644.6250 - val_acc: 0.9937\n",
            "Epoch 29/500\n",
            "48/48 [==============================] - 0s 4ms/step - loss: 2154164.0000 - acc: 0.9922 - val_loss: 1727091.8750 - val_acc: 0.9937\n",
            "Epoch 30/500\n",
            "48/48 [==============================] - 0s 5ms/step - loss: 2153474.7500 - acc: 0.9922 - val_loss: 1726538.8750 - val_acc: 0.9937\n",
            "Epoch 31/500\n",
            "48/48 [==============================] - 0s 4ms/step - loss: 2152785.5000 - acc: 0.9922 - val_loss: 1725985.8750 - val_acc: 0.9937\n",
            "Epoch 32/500\n",
            "48/48 [==============================] - 0s 4ms/step - loss: 2152096.0000 - acc: 0.9922 - val_loss: 1725433.1250 - val_acc: 0.9937\n",
            "Epoch 33/500\n",
            "48/48 [==============================] - 0s 4ms/step - loss: 2151406.0000 - acc: 0.9922 - val_loss: 1724880.2500 - val_acc: 0.9937\n",
            "Epoch 34/500\n",
            "48/48 [==============================] - 0s 4ms/step - loss: 2150716.5000 - acc: 0.9922 - val_loss: 1724327.1250 - val_acc: 0.9937\n",
            "Epoch 35/500\n",
            "48/48 [==============================] - 0s 5ms/step - loss: 2150027.2500 - acc: 0.9922 - val_loss: 1723774.1250 - val_acc: 0.9937\n",
            "Epoch 36/500\n",
            "48/48 [==============================] - 0s 5ms/step - loss: 2149337.2500 - acc: 0.9922 - val_loss: 1723221.2500 - val_acc: 0.9937\n",
            "Epoch 37/500\n",
            "48/48 [==============================] - 0s 4ms/step - loss: 2148647.2500 - acc: 0.9922 - val_loss: 1722668.3750 - val_acc: 0.9937\n",
            "Epoch 38/500\n",
            "48/48 [==============================] - 0s 5ms/step - loss: 2147958.0000 - acc: 0.9922 - val_loss: 1722115.1250 - val_acc: 0.9937\n",
            "Epoch 39/500\n",
            "48/48 [==============================] - 0s 4ms/step - loss: 2147268.5000 - acc: 0.9922 - val_loss: 1721562.3750 - val_acc: 0.9937\n",
            "Epoch 40/500\n",
            "48/48 [==============================] - 0s 5ms/step - loss: 2146578.7500 - acc: 0.9922 - val_loss: 1721009.2500 - val_acc: 0.9937\n",
            "Epoch 41/500\n",
            "48/48 [==============================] - 0s 4ms/step - loss: 2145889.0000 - acc: 0.9922 - val_loss: 1720456.1250 - val_acc: 0.9937\n",
            "Epoch 42/500\n",
            "48/48 [==============================] - 0s 5ms/step - loss: 2145199.0000 - acc: 0.9922 - val_loss: 1719903.1250 - val_acc: 0.9937\n",
            "Epoch 43/500\n",
            "48/48 [==============================] - 0s 4ms/step - loss: 2144509.5000 - acc: 0.9922 - val_loss: 1719349.7500 - val_acc: 0.9937\n",
            "Epoch 44/500\n",
            "48/48 [==============================] - 0s 5ms/step - loss: 2143819.7500 - acc: 0.9922 - val_loss: 1718796.7500 - val_acc: 0.9937\n",
            "Epoch 45/500\n",
            "48/48 [==============================] - 0s 5ms/step - loss: 2143129.7500 - acc: 0.9922 - val_loss: 1718243.6250 - val_acc: 0.9937\n",
            "Epoch 46/500\n",
            "48/48 [==============================] - 0s 5ms/step - loss: 2142440.0000 - acc: 0.9922 - val_loss: 1717690.5000 - val_acc: 0.9937\n",
            "Epoch 47/500\n",
            "48/48 [==============================] - 0s 4ms/step - loss: 2141750.5000 - acc: 0.9922 - val_loss: 1717137.3750 - val_acc: 0.9937\n",
            "Epoch 48/500\n",
            "48/48 [==============================] - 0s 4ms/step - loss: 2141060.7500 - acc: 0.9922 - val_loss: 1716584.5000 - val_acc: 0.9937\n",
            "Epoch 49/500\n",
            "48/48 [==============================] - 0s 4ms/step - loss: 2140370.5000 - acc: 0.9922 - val_loss: 1716031.2500 - val_acc: 0.9937\n",
            "Epoch 50/500\n",
            "48/48 [==============================] - 0s 4ms/step - loss: 2139681.0000 - acc: 0.9922 - val_loss: 1715478.0000 - val_acc: 0.9937\n",
            "Epoch 51/500\n",
            "48/48 [==============================] - 0s 5ms/step - loss: 2138991.5000 - acc: 0.9922 - val_loss: 1714925.0000 - val_acc: 0.9937\n",
            "Epoch 52/500\n",
            "48/48 [==============================] - 0s 5ms/step - loss: 2138301.2500 - acc: 0.9922 - val_loss: 1714371.8750 - val_acc: 0.9937\n",
            "Epoch 53/500\n",
            "48/48 [==============================] - 0s 5ms/step - loss: 2137611.5000 - acc: 0.9922 - val_loss: 1713818.7500 - val_acc: 0.9937\n",
            "Epoch 54/500\n",
            "48/48 [==============================] - 0s 4ms/step - loss: 2136921.7500 - acc: 0.9922 - val_loss: 1713265.6250 - val_acc: 0.9937\n",
            "Epoch 55/500\n",
            "48/48 [==============================] - 0s 5ms/step - loss: 2136232.7500 - acc: 0.9922 - val_loss: 1712712.5000 - val_acc: 0.9937\n",
            "Epoch 56/500\n",
            "48/48 [==============================] - 0s 4ms/step - loss: 2135542.2500 - acc: 0.9922 - val_loss: 1712159.5000 - val_acc: 0.9937\n",
            "Epoch 57/500\n",
            "48/48 [==============================] - 0s 4ms/step - loss: 2134852.5000 - acc: 0.9922 - val_loss: 1711606.2500 - val_acc: 0.9937\n",
            "Epoch 58/500\n",
            "48/48 [==============================] - 0s 4ms/step - loss: 2134163.2500 - acc: 0.9922 - val_loss: 1711053.2500 - val_acc: 0.9937\n",
            "Epoch 59/500\n",
            "48/48 [==============================] - 0s 5ms/step - loss: 2133473.0000 - acc: 0.9922 - val_loss: 1710500.0000 - val_acc: 0.9937\n",
            "Epoch 60/500\n",
            "48/48 [==============================] - 0s 4ms/step - loss: 2132783.7500 - acc: 0.9922 - val_loss: 1709947.0000 - val_acc: 0.9937\n",
            "Epoch 61/500\n",
            "48/48 [==============================] - 0s 4ms/step - loss: 2132093.7500 - acc: 0.9922 - val_loss: 1709393.7500 - val_acc: 0.9937\n",
            "Epoch 62/500\n",
            "48/48 [==============================] - 0s 5ms/step - loss: 2131404.0000 - acc: 0.9922 - val_loss: 1708840.6250 - val_acc: 0.9937\n",
            "Epoch 63/500\n",
            "48/48 [==============================] - 0s 4ms/step - loss: 2130714.2500 - acc: 0.9922 - val_loss: 1708287.8750 - val_acc: 0.9937\n",
            "Epoch 64/500\n",
            "48/48 [==============================] - 0s 4ms/step - loss: 2130024.5000 - acc: 0.9922 - val_loss: 1707734.6250 - val_acc: 0.9937\n",
            "Epoch 65/500\n",
            "48/48 [==============================] - 0s 4ms/step - loss: 2129334.5000 - acc: 0.9922 - val_loss: 1707181.6250 - val_acc: 0.9937\n",
            "Epoch 66/500\n",
            "48/48 [==============================] - 0s 4ms/step - loss: 2128644.2500 - acc: 0.9922 - val_loss: 1706628.7500 - val_acc: 0.9937\n",
            "Epoch 67/500\n",
            "48/48 [==============================] - 0s 4ms/step - loss: 2127955.5000 - acc: 0.9922 - val_loss: 1706075.6250 - val_acc: 0.9937\n",
            "Epoch 68/500\n",
            "48/48 [==============================] - 0s 4ms/step - loss: 2127265.7500 - acc: 0.9922 - val_loss: 1705522.6250 - val_acc: 0.9937\n",
            "Epoch 69/500\n",
            "48/48 [==============================] - 0s 4ms/step - loss: 2126575.2500 - acc: 0.9922 - val_loss: 1704969.2500 - val_acc: 0.9937\n",
            "Epoch 70/500\n",
            "48/48 [==============================] - 0s 4ms/step - loss: 2125886.2500 - acc: 0.9922 - val_loss: 1704416.3750 - val_acc: 0.9937\n",
            "Epoch 71/500\n",
            "48/48 [==============================] - 0s 5ms/step - loss: 2125196.2500 - acc: 0.9922 - val_loss: 1703863.2500 - val_acc: 0.9937\n",
            "Epoch 72/500\n",
            "48/48 [==============================] - 0s 5ms/step - loss: 2124506.7500 - acc: 0.9922 - val_loss: 1703310.2500 - val_acc: 0.9937\n",
            "Epoch 73/500\n",
            "48/48 [==============================] - 0s 5ms/step - loss: 2123817.2500 - acc: 0.9922 - val_loss: 1702757.0000 - val_acc: 0.9937\n",
            "Epoch 74/500\n",
            "48/48 [==============================] - 0s 5ms/step - loss: 2123127.2500 - acc: 0.9922 - val_loss: 1702204.1250 - val_acc: 0.9937\n",
            "Epoch 75/500\n",
            "48/48 [==============================] - 0s 4ms/step - loss: 2122438.2500 - acc: 0.9922 - val_loss: 1701651.2500 - val_acc: 0.9937\n",
            "Epoch 76/500\n",
            "48/48 [==============================] - 0s 5ms/step - loss: 2121747.5000 - acc: 0.9922 - val_loss: 1701098.1250 - val_acc: 0.9937\n",
            "Epoch 77/500\n",
            "48/48 [==============================] - 0s 4ms/step - loss: 2121058.5000 - acc: 0.9922 - val_loss: 1700545.2500 - val_acc: 0.9937\n",
            "Epoch 78/500\n",
            "48/48 [==============================] - 0s 4ms/step - loss: 2120369.0000 - acc: 0.9922 - val_loss: 1699992.3750 - val_acc: 0.9937\n",
            "Epoch 79/500\n",
            "48/48 [==============================] - 0s 5ms/step - loss: 2119679.0000 - acc: 0.9922 - val_loss: 1699439.2500 - val_acc: 0.9937\n",
            "Epoch 80/500\n",
            "48/48 [==============================] - 0s 4ms/step - loss: 2118989.2500 - acc: 0.9922 - val_loss: 1698886.1250 - val_acc: 0.9937\n",
            "Epoch 81/500\n",
            "48/48 [==============================] - 0s 4ms/step - loss: 2118300.0000 - acc: 0.9922 - val_loss: 1698333.2500 - val_acc: 0.9937\n",
            "Epoch 82/500\n",
            "48/48 [==============================] - 0s 4ms/step - loss: 2117610.2500 - acc: 0.9922 - val_loss: 1697780.3750 - val_acc: 0.9937\n",
            "Epoch 83/500\n",
            "48/48 [==============================] - 0s 4ms/step - loss: 2116920.7500 - acc: 0.9922 - val_loss: 1697227.2500 - val_acc: 0.9937\n",
            "Epoch 84/500\n",
            "48/48 [==============================] - 0s 4ms/step - loss: 2116231.0000 - acc: 0.9922 - val_loss: 1696674.3750 - val_acc: 0.9937\n",
            "Epoch 85/500\n",
            "48/48 [==============================] - 0s 4ms/step - loss: 2115541.5000 - acc: 0.9922 - val_loss: 1696121.1250 - val_acc: 0.9937\n",
            "Epoch 86/500\n",
            "48/48 [==============================] - 0s 4ms/step - loss: 2114852.0000 - acc: 0.9922 - val_loss: 1695568.1250 - val_acc: 0.9937\n",
            "Epoch 87/500\n",
            "48/48 [==============================] - 0s 4ms/step - loss: 2114162.2500 - acc: 0.9922 - val_loss: 1695015.1250 - val_acc: 0.9937\n",
            "Epoch 88/500\n",
            "48/48 [==============================] - 0s 4ms/step - loss: 2113472.7500 - acc: 0.9922 - val_loss: 1694462.3750 - val_acc: 0.9937\n",
            "Epoch 89/500\n",
            "48/48 [==============================] - 0s 4ms/step - loss: 2112783.5000 - acc: 0.9922 - val_loss: 1693909.3750 - val_acc: 0.9937\n",
            "Epoch 90/500\n",
            "48/48 [==============================] - 0s 5ms/step - loss: 2112093.7500 - acc: 0.9922 - val_loss: 1693356.5000 - val_acc: 0.9937\n",
            "Epoch 91/500\n",
            "48/48 [==============================] - 0s 4ms/step - loss: 2111404.0000 - acc: 0.9922 - val_loss: 1692803.5000 - val_acc: 0.9937\n",
            "Epoch 92/500\n",
            "48/48 [==============================] - 0s 4ms/step - loss: 2110714.5000 - acc: 0.9922 - val_loss: 1692250.6250 - val_acc: 0.9937\n",
            "Epoch 93/500\n",
            "48/48 [==============================] - 0s 4ms/step - loss: 2110024.7500 - acc: 0.9922 - val_loss: 1691697.5000 - val_acc: 0.9937\n",
            "Epoch 94/500\n",
            "48/48 [==============================] - 0s 4ms/step - loss: 2109335.2500 - acc: 0.9922 - val_loss: 1691144.8750 - val_acc: 0.9937\n",
            "Epoch 95/500\n",
            "48/48 [==============================] - 0s 4ms/step - loss: 2108645.5000 - acc: 0.9922 - val_loss: 1690592.0000 - val_acc: 0.9937\n",
            "Epoch 96/500\n",
            "48/48 [==============================] - 0s 4ms/step - loss: 2107956.5000 - acc: 0.9922 - val_loss: 1690039.1250 - val_acc: 0.9937\n",
            "Epoch 97/500\n",
            "48/48 [==============================] - 0s 5ms/step - loss: 2107266.7500 - acc: 0.9922 - val_loss: 1689486.1250 - val_acc: 0.9937\n",
            "Epoch 98/500\n",
            "48/48 [==============================] - 0s 4ms/step - loss: 2106577.0000 - acc: 0.9922 - val_loss: 1688933.2500 - val_acc: 0.9937\n",
            "Epoch 99/500\n",
            "48/48 [==============================] - 0s 4ms/step - loss: 2105887.7500 - acc: 0.9922 - val_loss: 1688380.3750 - val_acc: 0.9937\n",
            "Epoch 100/500\n",
            "48/48 [==============================] - 0s 4ms/step - loss: 2105198.5000 - acc: 0.9922 - val_loss: 1687827.5000 - val_acc: 0.9937\n",
            "Epoch 101/500\n",
            "48/48 [==============================] - 0s 4ms/step - loss: 2104508.5000 - acc: 0.9922 - val_loss: 1687274.7500 - val_acc: 0.9937\n",
            "Epoch 102/500\n",
            "48/48 [==============================] - 0s 4ms/step - loss: 2103819.5000 - acc: 0.9922 - val_loss: 1686721.6250 - val_acc: 0.9937\n",
            "Epoch 103/500\n",
            "48/48 [==============================] - 0s 4ms/step - loss: 2103129.7500 - acc: 0.9922 - val_loss: 1686168.7500 - val_acc: 0.9937\n",
            "Epoch 104/500\n",
            "48/48 [==============================] - 0s 5ms/step - loss: 2102440.2500 - acc: 0.9922 - val_loss: 1685615.8750 - val_acc: 0.9937\n",
            "Epoch 105/500\n",
            "48/48 [==============================] - 0s 4ms/step - loss: 2101751.0000 - acc: 0.9922 - val_loss: 1685063.1250 - val_acc: 0.9937\n",
            "Epoch 106/500\n",
            "48/48 [==============================] - 0s 5ms/step - loss: 2101061.2500 - acc: 0.9922 - val_loss: 1684510.1250 - val_acc: 0.9937\n",
            "Epoch 107/500\n",
            "48/48 [==============================] - 0s 4ms/step - loss: 2100371.7500 - acc: 0.9922 - val_loss: 1683957.3750 - val_acc: 0.9937\n",
            "Epoch 108/500\n",
            "48/48 [==============================] - 0s 4ms/step - loss: 2099682.5000 - acc: 0.9922 - val_loss: 1683404.5000 - val_acc: 0.9937\n",
            "Epoch 109/500\n",
            "48/48 [==============================] - 0s 5ms/step - loss: 2098993.0000 - acc: 0.9922 - val_loss: 1682851.8750 - val_acc: 0.9937\n",
            "Epoch 110/500\n",
            "48/48 [==============================] - 0s 5ms/step - loss: 2098303.7500 - acc: 0.9922 - val_loss: 1682299.0000 - val_acc: 0.9937\n",
            "Epoch 111/500\n",
            "48/48 [==============================] - 0s 4ms/step - loss: 2097614.2500 - acc: 0.9922 - val_loss: 1681746.2500 - val_acc: 0.9937\n",
            "Epoch 112/500\n",
            "48/48 [==============================] - 0s 4ms/step - loss: 2096924.3750 - acc: 0.9922 - val_loss: 1681193.5000 - val_acc: 0.9937\n",
            "Epoch 113/500\n",
            "48/48 [==============================] - 0s 4ms/step - loss: 2096235.5000 - acc: 0.9922 - val_loss: 1680640.3750 - val_acc: 0.9937\n",
            "Epoch 114/500\n",
            "48/48 [==============================] - 0s 5ms/step - loss: 2095545.6250 - acc: 0.9922 - val_loss: 1680087.7500 - val_acc: 0.9937\n",
            "Epoch 115/500\n",
            "48/48 [==============================] - 0s 5ms/step - loss: 2094856.7500 - acc: 0.9922 - val_loss: 1679534.8750 - val_acc: 0.9937\n",
            "Epoch 116/500\n",
            "48/48 [==============================] - 0s 4ms/step - loss: 2094167.3750 - acc: 0.9922 - val_loss: 1678982.0000 - val_acc: 0.9937\n",
            "Epoch 117/500\n",
            "48/48 [==============================] - 0s 4ms/step - loss: 2093477.8750 - acc: 0.9922 - val_loss: 1678429.1250 - val_acc: 0.9937\n",
            "Epoch 118/500\n",
            "48/48 [==============================] - 0s 5ms/step - loss: 2092788.3750 - acc: 0.9922 - val_loss: 1677876.3750 - val_acc: 0.9937\n",
            "Epoch 119/500\n",
            "48/48 [==============================] - 0s 4ms/step - loss: 2092099.2500 - acc: 0.9922 - val_loss: 1677323.6250 - val_acc: 0.9937\n",
            "Epoch 120/500\n",
            "48/48 [==============================] - 0s 4ms/step - loss: 2091409.3750 - acc: 0.9922 - val_loss: 1676770.8750 - val_acc: 0.9937\n",
            "Epoch 121/500\n",
            "48/48 [==============================] - 0s 5ms/step - loss: 2090720.6250 - acc: 0.9922 - val_loss: 1676218.0000 - val_acc: 0.9937\n",
            "Epoch 122/500\n",
            "48/48 [==============================] - 0s 5ms/step - loss: 2090031.1250 - acc: 0.9922 - val_loss: 1675665.3750 - val_acc: 0.9937\n",
            "Epoch 123/500\n",
            "48/48 [==============================] - 0s 4ms/step - loss: 2089341.7500 - acc: 0.9922 - val_loss: 1675112.6250 - val_acc: 0.9937\n",
            "Epoch 124/500\n",
            "48/48 [==============================] - 0s 4ms/step - loss: 2088652.3750 - acc: 0.9922 - val_loss: 1674559.7500 - val_acc: 0.9937\n",
            "Epoch 125/500\n",
            "48/48 [==============================] - 0s 5ms/step - loss: 2087962.7500 - acc: 0.9922 - val_loss: 1674007.3750 - val_acc: 0.9937\n",
            "Epoch 126/500\n",
            "48/48 [==============================] - 0s 4ms/step - loss: 2087273.6250 - acc: 0.9922 - val_loss: 1673454.2500 - val_acc: 0.9937\n",
            "Epoch 127/500\n",
            "48/48 [==============================] - 0s 4ms/step - loss: 2086584.6250 - acc: 0.9922 - val_loss: 1672901.6250 - val_acc: 0.9937\n",
            "Epoch 128/500\n",
            "48/48 [==============================] - 0s 4ms/step - loss: 2085895.0000 - acc: 0.9922 - val_loss: 1672348.8750 - val_acc: 0.9937\n",
            "Epoch 129/500\n",
            "48/48 [==============================] - 0s 4ms/step - loss: 2085205.8750 - acc: 0.9922 - val_loss: 1671796.2500 - val_acc: 0.9937\n",
            "Epoch 130/500\n",
            "48/48 [==============================] - 0s 5ms/step - loss: 2084516.3750 - acc: 0.9922 - val_loss: 1671243.5000 - val_acc: 0.9937\n",
            "Epoch 131/500\n",
            "48/48 [==============================] - 0s 5ms/step - loss: 2083827.0000 - acc: 0.9922 - val_loss: 1670690.5000 - val_acc: 0.9937\n",
            "Epoch 132/500\n",
            "48/48 [==============================] - 0s 4ms/step - loss: 2083138.1250 - acc: 0.9922 - val_loss: 1670137.8750 - val_acc: 0.9937\n",
            "Epoch 133/500\n",
            "48/48 [==============================] - 0s 4ms/step - loss: 2082448.6250 - acc: 0.9922 - val_loss: 1669585.2500 - val_acc: 0.9937\n",
            "Epoch 134/500\n",
            "48/48 [==============================] - 0s 5ms/step - loss: 2081759.2500 - acc: 0.9922 - val_loss: 1669032.6250 - val_acc: 0.9937\n",
            "Epoch 135/500\n",
            "48/48 [==============================] - 0s 5ms/step - loss: 2081070.2500 - acc: 0.9922 - val_loss: 1668479.8750 - val_acc: 0.9937\n",
            "Epoch 136/500\n",
            "48/48 [==============================] - 0s 4ms/step - loss: 2080380.6250 - acc: 0.9922 - val_loss: 1667927.2500 - val_acc: 0.9937\n",
            "Epoch 137/500\n",
            "48/48 [==============================] - 0s 4ms/step - loss: 2079691.7500 - acc: 0.9922 - val_loss: 1667374.5000 - val_acc: 0.9937\n",
            "Epoch 138/500\n",
            "48/48 [==============================] - 0s 5ms/step - loss: 2079002.5000 - acc: 0.9922 - val_loss: 1666821.8750 - val_acc: 0.9937\n",
            "Epoch 139/500\n",
            "48/48 [==============================] - 0s 4ms/step - loss: 2078313.1250 - acc: 0.9922 - val_loss: 1666269.1250 - val_acc: 0.9937\n",
            "Epoch 140/500\n",
            "48/48 [==============================] - 0s 4ms/step - loss: 2077623.8750 - acc: 0.9922 - val_loss: 1665716.5000 - val_acc: 0.9937\n",
            "Epoch 141/500\n",
            "48/48 [==============================] - 0s 4ms/step - loss: 2076934.2500 - acc: 0.9922 - val_loss: 1665163.7500 - val_acc: 0.9937\n",
            "Epoch 142/500\n",
            "48/48 [==============================] - 0s 4ms/step - loss: 2076245.6250 - acc: 0.9922 - val_loss: 1664611.2500 - val_acc: 0.9937\n",
            "Epoch 143/500\n",
            "48/48 [==============================] - 0s 4ms/step - loss: 2075556.0000 - acc: 0.9922 - val_loss: 1664058.6250 - val_acc: 0.9937\n",
            "Epoch 144/500\n",
            "48/48 [==============================] - 0s 4ms/step - loss: 2074867.0000 - acc: 0.9922 - val_loss: 1663505.7500 - val_acc: 0.9937\n",
            "Epoch 145/500\n",
            "48/48 [==============================] - 0s 5ms/step - loss: 2074178.0000 - acc: 0.9922 - val_loss: 1662953.3750 - val_acc: 0.9937\n",
            "Epoch 146/500\n",
            "48/48 [==============================] - 0s 4ms/step - loss: 2073488.6250 - acc: 0.9922 - val_loss: 1662400.5000 - val_acc: 0.9937\n",
            "Epoch 147/500\n",
            "48/48 [==============================] - 0s 5ms/step - loss: 2072799.6250 - acc: 0.9922 - val_loss: 1661848.0000 - val_acc: 0.9937\n",
            "Epoch 148/500\n",
            "48/48 [==============================] - 0s 4ms/step - loss: 2072110.0000 - acc: 0.9922 - val_loss: 1661295.2500 - val_acc: 0.9937\n",
            "Epoch 149/500\n",
            "48/48 [==============================] - 0s 5ms/step - loss: 2071421.3750 - acc: 0.9922 - val_loss: 1660742.6250 - val_acc: 0.9937\n",
            "Epoch 150/500\n",
            "48/48 [==============================] - 0s 5ms/step - loss: 2070732.1250 - acc: 0.9922 - val_loss: 1660190.0000 - val_acc: 0.9937\n",
            "Epoch 151/500\n",
            "48/48 [==============================] - 0s 5ms/step - loss: 2070042.8750 - acc: 0.9922 - val_loss: 1659637.6250 - val_acc: 0.9937\n",
            "Epoch 152/500\n",
            "48/48 [==============================] - 0s 4ms/step - loss: 2069353.5000 - acc: 0.9922 - val_loss: 1659084.8750 - val_acc: 0.9937\n",
            "Epoch 153/500\n",
            "48/48 [==============================] - 0s 4ms/step - loss: 2068664.6250 - acc: 0.9922 - val_loss: 1658532.3750 - val_acc: 0.9937\n",
            "Epoch 154/500\n",
            "48/48 [==============================] - 0s 4ms/step - loss: 2067975.2500 - acc: 0.9922 - val_loss: 1657979.8750 - val_acc: 0.9937\n",
            "Epoch 155/500\n",
            "48/48 [==============================] - 0s 5ms/step - loss: 2067286.2500 - acc: 0.9922 - val_loss: 1657427.2500 - val_acc: 0.9937\n",
            "Epoch 156/500\n",
            "48/48 [==============================] - 0s 5ms/step - loss: 2066597.1250 - acc: 0.9922 - val_loss: 1656874.7500 - val_acc: 0.9937\n",
            "Epoch 157/500\n",
            "48/48 [==============================] - 0s 4ms/step - loss: 2065908.3750 - acc: 0.9922 - val_loss: 1656322.0000 - val_acc: 0.9937\n",
            "Epoch 158/500\n",
            "48/48 [==============================] - 0s 4ms/step - loss: 2065219.0000 - acc: 0.9922 - val_loss: 1655769.3750 - val_acc: 0.9937\n",
            "Epoch 159/500\n",
            "48/48 [==============================] - 0s 4ms/step - loss: 2064529.6250 - acc: 0.9922 - val_loss: 1655217.0000 - val_acc: 0.9937\n",
            "Epoch 160/500\n",
            "48/48 [==============================] - 0s 4ms/step - loss: 2063840.6250 - acc: 0.9922 - val_loss: 1654664.3750 - val_acc: 0.9937\n",
            "Epoch 161/500\n",
            "48/48 [==============================] - 0s 4ms/step - loss: 2063151.8750 - acc: 0.9922 - val_loss: 1654111.7500 - val_acc: 0.9937\n",
            "Epoch 162/500\n",
            "48/48 [==============================] - 0s 5ms/step - loss: 2062462.2500 - acc: 0.9922 - val_loss: 1653559.2500 - val_acc: 0.9937\n",
            "Epoch 163/500\n",
            "48/48 [==============================] - 0s 5ms/step - loss: 2061773.7500 - acc: 0.9922 - val_loss: 1653006.7500 - val_acc: 0.9937\n",
            "Epoch 164/500\n",
            "48/48 [==============================] - 0s 4ms/step - loss: 2061085.0000 - acc: 0.9922 - val_loss: 1652454.0000 - val_acc: 0.9937\n",
            "Epoch 165/500\n",
            "48/48 [==============================] - 0s 5ms/step - loss: 2060395.3750 - acc: 0.9922 - val_loss: 1651901.6250 - val_acc: 0.9937\n",
            "Epoch 166/500\n",
            "48/48 [==============================] - 0s 4ms/step - loss: 2059706.2500 - acc: 0.9922 - val_loss: 1651349.3750 - val_acc: 0.9937\n",
            "Epoch 167/500\n",
            "48/48 [==============================] - 0s 4ms/step - loss: 2059017.7500 - acc: 0.9922 - val_loss: 1650796.8750 - val_acc: 0.9937\n",
            "Epoch 168/500\n",
            "48/48 [==============================] - 0s 4ms/step - loss: 2058328.7500 - acc: 0.9922 - val_loss: 1650244.2500 - val_acc: 0.9937\n",
            "Epoch 169/500\n",
            "48/48 [==============================] - 0s 5ms/step - loss: 2057639.0000 - acc: 0.9922 - val_loss: 1649691.7500 - val_acc: 0.9937\n",
            "Epoch 170/500\n",
            "48/48 [==============================] - 0s 5ms/step - loss: 2056950.5000 - acc: 0.9922 - val_loss: 1649139.2500 - val_acc: 0.9937\n",
            "Epoch 171/500\n",
            "48/48 [==============================] - 0s 5ms/step - loss: 2056261.3750 - acc: 0.9922 - val_loss: 1648586.7500 - val_acc: 0.9937\n",
            "Epoch 172/500\n",
            "48/48 [==============================] - 0s 4ms/step - loss: 2055572.2500 - acc: 0.9922 - val_loss: 1648034.3750 - val_acc: 0.9937\n",
            "Epoch 173/500\n",
            "48/48 [==============================] - 0s 5ms/step - loss: 2054883.5000 - acc: 0.9922 - val_loss: 1647481.8750 - val_acc: 0.9937\n",
            "Epoch 174/500\n",
            "48/48 [==============================] - 0s 4ms/step - loss: 2054194.2500 - acc: 0.9922 - val_loss: 1646929.2500 - val_acc: 0.9937\n",
            "Epoch 175/500\n",
            "48/48 [==============================] - 0s 4ms/step - loss: 2053505.6250 - acc: 0.9922 - val_loss: 1646377.0000 - val_acc: 0.9937\n",
            "Epoch 176/500\n",
            "48/48 [==============================] - 0s 4ms/step - loss: 2052816.1250 - acc: 0.9922 - val_loss: 1645824.2500 - val_acc: 0.9937\n",
            "Epoch 177/500\n",
            "48/48 [==============================] - 0s 4ms/step - loss: 2052127.5000 - acc: 0.9922 - val_loss: 1645272.0000 - val_acc: 0.9937\n",
            "Epoch 178/500\n",
            "48/48 [==============================] - 0s 5ms/step - loss: 2051438.7500 - acc: 0.9922 - val_loss: 1644719.6250 - val_acc: 0.9937\n",
            "Epoch 179/500\n",
            "48/48 [==============================] - 0s 4ms/step - loss: 2050749.6250 - acc: 0.9922 - val_loss: 1644167.1250 - val_acc: 0.9937\n",
            "Epoch 180/500\n",
            "48/48 [==============================] - 0s 4ms/step - loss: 2050060.7500 - acc: 0.9922 - val_loss: 1643614.6250 - val_acc: 0.9937\n",
            "Epoch 181/500\n",
            "48/48 [==============================] - 0s 5ms/step - loss: 2049372.0000 - acc: 0.9922 - val_loss: 1643062.2500 - val_acc: 0.9937\n",
            "Epoch 182/500\n",
            "48/48 [==============================] - 0s 5ms/step - loss: 2048682.7500 - acc: 0.9922 - val_loss: 1642509.7500 - val_acc: 0.9937\n",
            "Epoch 183/500\n",
            "48/48 [==============================] - 0s 4ms/step - loss: 2047993.7500 - acc: 0.9922 - val_loss: 1641957.3750 - val_acc: 0.9937\n",
            "Epoch 184/500\n",
            "48/48 [==============================] - 0s 5ms/step - loss: 2047305.1250 - acc: 0.9922 - val_loss: 1641404.8750 - val_acc: 0.9937\n",
            "Epoch 185/500\n",
            "48/48 [==============================] - 0s 4ms/step - loss: 2046616.2500 - acc: 0.9922 - val_loss: 1640852.3750 - val_acc: 0.9937\n",
            "Epoch 186/500\n",
            "48/48 [==============================] - 0s 5ms/step - loss: 2045927.0000 - acc: 0.9922 - val_loss: 1640300.2500 - val_acc: 0.9937\n",
            "Epoch 187/500\n",
            "48/48 [==============================] - 0s 4ms/step - loss: 2045238.2500 - acc: 0.9922 - val_loss: 1639747.7500 - val_acc: 0.9937\n",
            "Epoch 188/500\n",
            "48/48 [==============================] - 0s 4ms/step - loss: 2044549.2500 - acc: 0.9922 - val_loss: 1639195.2500 - val_acc: 0.9937\n",
            "Epoch 189/500\n",
            "48/48 [==============================] - 0s 4ms/step - loss: 2043860.6250 - acc: 0.9922 - val_loss: 1638643.1250 - val_acc: 0.9937\n",
            "Epoch 190/500\n",
            "48/48 [==============================] - 0s 4ms/step - loss: 2043171.8750 - acc: 0.9922 - val_loss: 1638090.6250 - val_acc: 0.9937\n",
            "Epoch 191/500\n",
            "48/48 [==============================] - 0s 4ms/step - loss: 2042483.2500 - acc: 0.9922 - val_loss: 1637538.2500 - val_acc: 0.9937\n",
            "Epoch 192/500\n",
            "48/48 [==============================] - 0s 4ms/step - loss: 2041793.8750 - acc: 0.9922 - val_loss: 1636985.8750 - val_acc: 0.9937\n",
            "Epoch 193/500\n",
            "48/48 [==============================] - 0s 4ms/step - loss: 2041104.6250 - acc: 0.9922 - val_loss: 1636433.5000 - val_acc: 0.9937\n",
            "Epoch 194/500\n",
            "48/48 [==============================] - 0s 4ms/step - loss: 2040416.3750 - acc: 0.9922 - val_loss: 1635881.1250 - val_acc: 0.9937\n",
            "Epoch 195/500\n",
            "48/48 [==============================] - 0s 4ms/step - loss: 2039727.8750 - acc: 0.9922 - val_loss: 1635328.8750 - val_acc: 0.9937\n",
            "Epoch 196/500\n",
            "48/48 [==============================] - 0s 5ms/step - loss: 2039038.5000 - acc: 0.9922 - val_loss: 1634776.5000 - val_acc: 0.9937\n",
            "Epoch 197/500\n",
            "48/48 [==============================] - 0s 4ms/step - loss: 2038350.0000 - acc: 0.9922 - val_loss: 1634224.1250 - val_acc: 0.9937\n",
            "Epoch 198/500\n",
            "48/48 [==============================] - 0s 5ms/step - loss: 2037661.2500 - acc: 0.9922 - val_loss: 1633671.8750 - val_acc: 0.9937\n",
            "Epoch 199/500\n",
            "48/48 [==============================] - 0s 5ms/step - loss: 2036972.1250 - acc: 0.9922 - val_loss: 1633119.3750 - val_acc: 0.9937\n",
            "Epoch 200/500\n",
            "48/48 [==============================] - 0s 4ms/step - loss: 2036283.2500 - acc: 0.9922 - val_loss: 1632567.0000 - val_acc: 0.9937\n",
            "Epoch 201/500\n",
            "48/48 [==============================] - 0s 5ms/step - loss: 2035594.6250 - acc: 0.9922 - val_loss: 1632015.0000 - val_acc: 0.9937\n",
            "Epoch 202/500\n",
            "48/48 [==============================] - 0s 4ms/step - loss: 2034905.8750 - acc: 0.9922 - val_loss: 1631462.5000 - val_acc: 0.9937\n",
            "Epoch 203/500\n",
            "48/48 [==============================] - 0s 5ms/step - loss: 2034217.0000 - acc: 0.9922 - val_loss: 1630910.3750 - val_acc: 0.9937\n",
            "Epoch 204/500\n",
            "48/48 [==============================] - 0s 4ms/step - loss: 2033528.7500 - acc: 0.9922 - val_loss: 1630358.0000 - val_acc: 0.9937\n",
            "Epoch 205/500\n",
            "48/48 [==============================] - 0s 5ms/step - loss: 2032839.8750 - acc: 0.9922 - val_loss: 1629805.5000 - val_acc: 0.9937\n",
            "Epoch 206/500\n",
            "48/48 [==============================] - 0s 5ms/step - loss: 2032150.6250 - acc: 0.9922 - val_loss: 1629253.3750 - val_acc: 0.9937\n",
            "Epoch 207/500\n",
            "48/48 [==============================] - 0s 4ms/step - loss: 2031461.8750 - acc: 0.9922 - val_loss: 1628701.0000 - val_acc: 0.9937\n",
            "Epoch 208/500\n",
            "48/48 [==============================] - 0s 4ms/step - loss: 2030773.0000 - acc: 0.9922 - val_loss: 1628148.6250 - val_acc: 0.9937\n",
            "Epoch 209/500\n",
            "48/48 [==============================] - 0s 4ms/step - loss: 2030084.7500 - acc: 0.9922 - val_loss: 1627596.5000 - val_acc: 0.9937\n",
            "Epoch 210/500\n",
            "48/48 [==============================] - 0s 4ms/step - loss: 2029396.0000 - acc: 0.9922 - val_loss: 1627044.1250 - val_acc: 0.9937\n",
            "Epoch 211/500\n",
            "48/48 [==============================] - 0s 4ms/step - loss: 2028707.3750 - acc: 0.9922 - val_loss: 1626492.0000 - val_acc: 0.9937\n",
            "Epoch 212/500\n",
            "48/48 [==============================] - 0s 4ms/step - loss: 2028018.7500 - acc: 0.9922 - val_loss: 1625939.7500 - val_acc: 0.9937\n",
            "Epoch 213/500\n",
            "48/48 [==============================] - 0s 5ms/step - loss: 2027329.5000 - acc: 0.9922 - val_loss: 1625387.3750 - val_acc: 0.9937\n",
            "Epoch 214/500\n",
            "48/48 [==============================] - 0s 4ms/step - loss: 2026641.3750 - acc: 0.9922 - val_loss: 1624835.2500 - val_acc: 0.9937\n",
            "Epoch 215/500\n",
            "48/48 [==============================] - 0s 5ms/step - loss: 2025952.7500 - acc: 0.9922 - val_loss: 1624283.1250 - val_acc: 0.9937\n",
            "Epoch 216/500\n",
            "48/48 [==============================] - 0s 5ms/step - loss: 2025263.5000 - acc: 0.9922 - val_loss: 1623730.8750 - val_acc: 0.9937\n",
            "Epoch 217/500\n",
            "48/48 [==============================] - 0s 4ms/step - loss: 2024574.8750 - acc: 0.9922 - val_loss: 1623178.7500 - val_acc: 0.9937\n",
            "Epoch 218/500\n",
            "48/48 [==============================] - 0s 4ms/step - loss: 2023887.0000 - acc: 0.9922 - val_loss: 1622626.2500 - val_acc: 0.9937\n",
            "Epoch 219/500\n",
            "48/48 [==============================] - 0s 5ms/step - loss: 2023197.6250 - acc: 0.9922 - val_loss: 1622074.1250 - val_acc: 0.9937\n",
            "Epoch 220/500\n",
            "48/48 [==============================] - 0s 5ms/step - loss: 2022509.0000 - acc: 0.9922 - val_loss: 1621521.8750 - val_acc: 0.9937\n",
            "Epoch 221/500\n",
            "48/48 [==============================] - 0s 4ms/step - loss: 2021820.8750 - acc: 0.9922 - val_loss: 1620969.7500 - val_acc: 0.9937\n",
            "Epoch 222/500\n",
            "48/48 [==============================] - 0s 4ms/step - loss: 2021131.5000 - acc: 0.9922 - val_loss: 1620417.6250 - val_acc: 0.9937\n",
            "Epoch 223/500\n",
            "48/48 [==============================] - 0s 4ms/step - loss: 2020443.3750 - acc: 0.9922 - val_loss: 1619865.3750 - val_acc: 0.9937\n",
            "Epoch 224/500\n",
            "48/48 [==============================] - 0s 4ms/step - loss: 2019754.7500 - acc: 0.9922 - val_loss: 1619313.0000 - val_acc: 0.9937\n",
            "Epoch 225/500\n",
            "48/48 [==============================] - 0s 4ms/step - loss: 2019065.8750 - acc: 0.9922 - val_loss: 1618761.0000 - val_acc: 0.9937\n",
            "Epoch 226/500\n",
            "48/48 [==============================] - 0s 4ms/step - loss: 2018377.5000 - acc: 0.9922 - val_loss: 1618208.7500 - val_acc: 0.9937\n",
            "Epoch 227/500\n",
            "48/48 [==============================] - 0s 4ms/step - loss: 2017688.7500 - acc: 0.9922 - val_loss: 1617656.7500 - val_acc: 0.9937\n",
            "Epoch 228/500\n",
            "48/48 [==============================] - 0s 4ms/step - loss: 2017000.0000 - acc: 0.9922 - val_loss: 1617104.6250 - val_acc: 0.9937\n",
            "Epoch 229/500\n",
            "48/48 [==============================] - 0s 4ms/step - loss: 2016311.6250 - acc: 0.9922 - val_loss: 1616552.3750 - val_acc: 0.9937\n",
            "Epoch 230/500\n",
            "48/48 [==============================] - 0s 4ms/step - loss: 2015623.0000 - acc: 0.9922 - val_loss: 1616000.3750 - val_acc: 0.9937\n",
            "Epoch 231/500\n",
            "48/48 [==============================] - 0s 5ms/step - loss: 2014934.2500 - acc: 0.9922 - val_loss: 1615448.1250 - val_acc: 0.9937\n",
            "Epoch 232/500\n",
            "48/48 [==============================] - 0s 5ms/step - loss: 2014245.6250 - acc: 0.9922 - val_loss: 1614895.7500 - val_acc: 0.9937\n",
            "Epoch 233/500\n",
            "48/48 [==============================] - 0s 5ms/step - loss: 2013557.2500 - acc: 0.9922 - val_loss: 1614343.8750 - val_acc: 0.9937\n",
            "Epoch 234/500\n",
            "48/48 [==============================] - 0s 4ms/step - loss: 2012868.6250 - acc: 0.9922 - val_loss: 1613791.7500 - val_acc: 0.9937\n",
            "Epoch 235/500\n",
            "48/48 [==============================] - 0s 4ms/step - loss: 2012180.1250 - acc: 0.9922 - val_loss: 1613239.5000 - val_acc: 0.9937\n",
            "Epoch 236/500\n",
            "48/48 [==============================] - 0s 4ms/step - loss: 2011491.7500 - acc: 0.9922 - val_loss: 1612687.3750 - val_acc: 0.9937\n",
            "Epoch 237/500\n",
            "48/48 [==============================] - 0s 5ms/step - loss: 2010803.3750 - acc: 0.9922 - val_loss: 1612135.3750 - val_acc: 0.9937\n",
            "Epoch 238/500\n",
            "48/48 [==============================] - 0s 5ms/step - loss: 2010114.7500 - acc: 0.9922 - val_loss: 1611583.2500 - val_acc: 0.9937\n",
            "Epoch 239/500\n",
            "48/48 [==============================] - 0s 4ms/step - loss: 2009426.2500 - acc: 0.9922 - val_loss: 1611031.1250 - val_acc: 0.9937\n",
            "Epoch 240/500\n",
            "48/48 [==============================] - 0s 5ms/step - loss: 2008737.7500 - acc: 0.9922 - val_loss: 1610478.8750 - val_acc: 0.9937\n",
            "Epoch 241/500\n",
            "48/48 [==============================] - 0s 4ms/step - loss: 2008049.0000 - acc: 0.9922 - val_loss: 1609927.1250 - val_acc: 0.9937\n",
            "Epoch 242/500\n",
            "48/48 [==============================] - 0s 5ms/step - loss: 2007360.7500 - acc: 0.9922 - val_loss: 1609374.8750 - val_acc: 0.9937\n",
            "Epoch 243/500\n",
            "48/48 [==============================] - 0s 5ms/step - loss: 2006672.0000 - acc: 0.9922 - val_loss: 1608822.8750 - val_acc: 0.9937\n",
            "Epoch 244/500\n",
            "48/48 [==============================] - 0s 4ms/step - loss: 2005983.6250 - acc: 0.9922 - val_loss: 1608270.6250 - val_acc: 0.9937\n",
            "Epoch 245/500\n",
            "48/48 [==============================] - 0s 4ms/step - loss: 2005295.3750 - acc: 0.9922 - val_loss: 1607718.7500 - val_acc: 0.9937\n",
            "Epoch 246/500\n",
            "48/48 [==============================] - 0s 5ms/step - loss: 2004606.7500 - acc: 0.9922 - val_loss: 1607166.6250 - val_acc: 0.9937\n",
            "Epoch 247/500\n",
            "48/48 [==============================] - 0s 4ms/step - loss: 2003918.2500 - acc: 0.9922 - val_loss: 1606614.7500 - val_acc: 0.9937\n",
            "Epoch 248/500\n",
            "48/48 [==============================] - 0s 5ms/step - loss: 2003229.8750 - acc: 0.9922 - val_loss: 1606062.6250 - val_acc: 0.9937\n",
            "Epoch 249/500\n",
            "48/48 [==============================] - 0s 5ms/step - loss: 2002541.2500 - acc: 0.9922 - val_loss: 1605510.7500 - val_acc: 0.9937\n",
            "Epoch 250/500\n",
            "48/48 [==============================] - 0s 4ms/step - loss: 2001853.2500 - acc: 0.9922 - val_loss: 1604958.6250 - val_acc: 0.9937\n",
            "Epoch 251/500\n",
            "48/48 [==============================] - 0s 5ms/step - loss: 2001165.0000 - acc: 0.9922 - val_loss: 1604406.7500 - val_acc: 0.9937\n",
            "Epoch 252/500\n",
            "48/48 [==============================] - 0s 4ms/step - loss: 2000476.1250 - acc: 0.9922 - val_loss: 1603854.7500 - val_acc: 0.9937\n",
            "Epoch 253/500\n",
            "48/48 [==============================] - 0s 4ms/step - loss: 1999787.7500 - acc: 0.9922 - val_loss: 1603302.6250 - val_acc: 0.9937\n",
            "Epoch 254/500\n",
            "48/48 [==============================] - 0s 5ms/step - loss: 1999099.5000 - acc: 0.9922 - val_loss: 1602750.6250 - val_acc: 0.9937\n",
            "Epoch 255/500\n",
            "48/48 [==============================] - 0s 5ms/step - loss: 1998411.2500 - acc: 0.9922 - val_loss: 1602198.6250 - val_acc: 0.9937\n",
            "Epoch 256/500\n",
            "48/48 [==============================] - 0s 4ms/step - loss: 1997722.8750 - acc: 0.9922 - val_loss: 1601646.7500 - val_acc: 0.9937\n",
            "Epoch 257/500\n",
            "48/48 [==============================] - 0s 4ms/step - loss: 1997034.2500 - acc: 0.9922 - val_loss: 1601094.7500 - val_acc: 0.9937\n",
            "Epoch 258/500\n",
            "48/48 [==============================] - 0s 5ms/step - loss: 1996345.8750 - acc: 0.9922 - val_loss: 1600542.7500 - val_acc: 0.9937\n",
            "Epoch 259/500\n",
            "48/48 [==============================] - 0s 5ms/step - loss: 1995658.0000 - acc: 0.9922 - val_loss: 1599990.7500 - val_acc: 0.9937\n",
            "Epoch 260/500\n",
            "48/48 [==============================] - 0s 5ms/step - loss: 1994969.5000 - acc: 0.9922 - val_loss: 1599438.8750 - val_acc: 0.9937\n",
            "Epoch 261/500\n",
            "48/48 [==============================] - 0s 4ms/step - loss: 1994281.3750 - acc: 0.9922 - val_loss: 1598886.8750 - val_acc: 0.9937\n",
            "Epoch 262/500\n",
            "48/48 [==============================] - 0s 4ms/step - loss: 1993593.0000 - acc: 0.9922 - val_loss: 1598334.8750 - val_acc: 0.9937\n",
            "Epoch 263/500\n",
            "48/48 [==============================] - 0s 5ms/step - loss: 1992904.6250 - acc: 0.9922 - val_loss: 1597783.0000 - val_acc: 0.9937\n",
            "Epoch 264/500\n",
            "48/48 [==============================] - 0s 5ms/step - loss: 1992215.8750 - acc: 0.9922 - val_loss: 1597230.8750 - val_acc: 0.9937\n",
            "Epoch 265/500\n",
            "48/48 [==============================] - 0s 4ms/step - loss: 1991527.5000 - acc: 0.9922 - val_loss: 1596679.1250 - val_acc: 0.9937\n",
            "Epoch 266/500\n",
            "48/48 [==============================] - 0s 4ms/step - loss: 1990839.2500 - acc: 0.9922 - val_loss: 1596127.1250 - val_acc: 0.9937\n",
            "Epoch 267/500\n",
            "48/48 [==============================] - 0s 4ms/step - loss: 1990150.7500 - acc: 0.9922 - val_loss: 1595575.2500 - val_acc: 0.9937\n",
            "Epoch 268/500\n",
            "48/48 [==============================] - 0s 5ms/step - loss: 1989462.7500 - acc: 0.9922 - val_loss: 1595023.3750 - val_acc: 0.9937\n",
            "Epoch 269/500\n",
            "48/48 [==============================] - 0s 5ms/step - loss: 1988774.7500 - acc: 0.9922 - val_loss: 1594471.2500 - val_acc: 0.9937\n",
            "Epoch 270/500\n",
            "48/48 [==============================] - 0s 5ms/step - loss: 1988086.2500 - acc: 0.9922 - val_loss: 1593919.5000 - val_acc: 0.9937\n",
            "Epoch 271/500\n",
            "48/48 [==============================] - 0s 4ms/step - loss: 1987398.0000 - acc: 0.9922 - val_loss: 1593367.7500 - val_acc: 0.9937\n",
            "Epoch 272/500\n",
            "48/48 [==============================] - 0s 4ms/step - loss: 1986709.8750 - acc: 0.9922 - val_loss: 1592815.7500 - val_acc: 0.9937\n",
            "Epoch 273/500\n",
            "48/48 [==============================] - 0s 5ms/step - loss: 1986021.3750 - acc: 0.9922 - val_loss: 1592263.7500 - val_acc: 0.9937\n",
            "Epoch 274/500\n",
            "48/48 [==============================] - 0s 5ms/step - loss: 1985333.3750 - acc: 0.9922 - val_loss: 1591712.1250 - val_acc: 0.9937\n",
            "Epoch 275/500\n",
            "48/48 [==============================] - 0s 4ms/step - loss: 1984645.0000 - acc: 0.9922 - val_loss: 1591160.0000 - val_acc: 0.9937\n",
            "Epoch 276/500\n",
            "48/48 [==============================] - 0s 5ms/step - loss: 1983956.5000 - acc: 0.9922 - val_loss: 1590608.1250 - val_acc: 0.9937\n",
            "Epoch 277/500\n",
            "48/48 [==============================] - 0s 6ms/step - loss: 1983268.6250 - acc: 0.9922 - val_loss: 1590056.2500 - val_acc: 0.9937\n",
            "Epoch 278/500\n",
            "48/48 [==============================] - 0s 4ms/step - loss: 1982580.2500 - acc: 0.9922 - val_loss: 1589504.3750 - val_acc: 0.9937\n",
            "Epoch 279/500\n",
            "48/48 [==============================] - 0s 5ms/step - loss: 1981892.0000 - acc: 0.9922 - val_loss: 1588952.5000 - val_acc: 0.9937\n",
            "Epoch 280/500\n",
            "48/48 [==============================] - 0s 4ms/step - loss: 1981203.7500 - acc: 0.9922 - val_loss: 1588400.5000 - val_acc: 0.9937\n",
            "Epoch 281/500\n",
            "48/48 [==============================] - 0s 5ms/step - loss: 1980515.7500 - acc: 0.9922 - val_loss: 1587848.7500 - val_acc: 0.9937\n",
            "Epoch 282/500\n",
            "48/48 [==============================] - 0s 4ms/step - loss: 1979827.0000 - acc: 0.9922 - val_loss: 1587297.0000 - val_acc: 0.9937\n",
            "Epoch 283/500\n",
            "48/48 [==============================] - 0s 4ms/step - loss: 1979139.3750 - acc: 0.9922 - val_loss: 1586745.2500 - val_acc: 0.9937\n",
            "Epoch 284/500\n",
            "48/48 [==============================] - 0s 4ms/step - loss: 1978451.1250 - acc: 0.9922 - val_loss: 1586193.3750 - val_acc: 0.9937\n",
            "Epoch 285/500\n",
            "48/48 [==============================] - 0s 5ms/step - loss: 1977763.0000 - acc: 0.9922 - val_loss: 1585641.5000 - val_acc: 0.9937\n",
            "Epoch 286/500\n",
            "48/48 [==============================] - 0s 5ms/step - loss: 1977074.7500 - acc: 0.9922 - val_loss: 1585089.6250 - val_acc: 0.9937\n",
            "Epoch 287/500\n",
            "48/48 [==============================] - 0s 5ms/step - loss: 1976386.7500 - acc: 0.9922 - val_loss: 1584538.0000 - val_acc: 0.9937\n",
            "Epoch 288/500\n",
            "48/48 [==============================] - 0s 5ms/step - loss: 1975698.3750 - acc: 0.9922 - val_loss: 1583986.0000 - val_acc: 0.9937\n",
            "Epoch 289/500\n",
            "48/48 [==============================] - 0s 4ms/step - loss: 1975010.6250 - acc: 0.9922 - val_loss: 1583434.2500 - val_acc: 0.9937\n",
            "Epoch 290/500\n",
            "48/48 [==============================] - 0s 5ms/step - loss: 1974322.0000 - acc: 0.9922 - val_loss: 1582882.3750 - val_acc: 0.9937\n",
            "Epoch 291/500\n",
            "48/48 [==============================] - 0s 5ms/step - loss: 1973633.7500 - acc: 0.9922 - val_loss: 1582330.6250 - val_acc: 0.9937\n",
            "Epoch 292/500\n",
            "48/48 [==============================] - 0s 5ms/step - loss: 1972945.7500 - acc: 0.9922 - val_loss: 1581779.0000 - val_acc: 0.9937\n",
            "Epoch 293/500\n",
            "48/48 [==============================] - ETA: 0s - loss: 1972257.8750 - acc: 0.9922"
          ]
        },
        {
          "output_type": "error",
          "ename": "KeyboardInterrupt",
          "evalue": "ignored",
          "traceback": [
            "\u001b[0;31m---------------------------------------------------------------------------\u001b[0m",
            "\u001b[0;31mKeyboardInterrupt\u001b[0m                         Traceback (most recent call last)",
            "\u001b[0;32m<ipython-input-43-4417ee136be7>\u001b[0m in \u001b[0;36m<module>\u001b[0;34m()\u001b[0m\n\u001b[1;32m     19\u001b[0m hist = model_c.fit(train_x, train_y, validation_split=0.2, \n\u001b[1;32m     20\u001b[0m                    \u001b[0mbatch_size\u001b[0m\u001b[0;34m=\u001b[0m\u001b[0;36m5000\u001b[0m\u001b[0;34m,\u001b[0m \u001b[0mepochs\u001b[0m\u001b[0;34m=\u001b[0m\u001b[0mepochs\u001b[0m\u001b[0;34m,\u001b[0m\u001b[0mshuffle\u001b[0m\u001b[0;34m=\u001b[0m\u001b[0;32mFalse\u001b[0m\u001b[0;34m,\u001b[0m\u001b[0muse_multiprocessing\u001b[0m\u001b[0;34m=\u001b[0m\u001b[0;32mFalse\u001b[0m\u001b[0;34m,\u001b[0m\u001b[0;34m\u001b[0m\u001b[0;34m\u001b[0m\u001b[0m\n\u001b[0;32m---> 21\u001b[0;31m                    verbose=1, callbacks=[early_stop])\n\u001b[0m",
            "\u001b[0;32m/usr/local/lib/python3.7/dist-packages/keras/utils/traceback_utils.py\u001b[0m in \u001b[0;36merror_handler\u001b[0;34m(*args, **kwargs)\u001b[0m\n\u001b[1;32m     62\u001b[0m     \u001b[0mfiltered_tb\u001b[0m \u001b[0;34m=\u001b[0m \u001b[0;32mNone\u001b[0m\u001b[0;34m\u001b[0m\u001b[0;34m\u001b[0m\u001b[0m\n\u001b[1;32m     63\u001b[0m     \u001b[0;32mtry\u001b[0m\u001b[0;34m:\u001b[0m\u001b[0;34m\u001b[0m\u001b[0;34m\u001b[0m\u001b[0m\n\u001b[0;32m---> 64\u001b[0;31m       \u001b[0;32mreturn\u001b[0m \u001b[0mfn\u001b[0m\u001b[0;34m(\u001b[0m\u001b[0;34m*\u001b[0m\u001b[0margs\u001b[0m\u001b[0;34m,\u001b[0m \u001b[0;34m**\u001b[0m\u001b[0mkwargs\u001b[0m\u001b[0;34m)\u001b[0m\u001b[0;34m\u001b[0m\u001b[0;34m\u001b[0m\u001b[0m\n\u001b[0m\u001b[1;32m     65\u001b[0m     \u001b[0;32mexcept\u001b[0m \u001b[0mException\u001b[0m \u001b[0;32mas\u001b[0m \u001b[0me\u001b[0m\u001b[0;34m:\u001b[0m  \u001b[0;31m# pylint: disable=broad-except\u001b[0m\u001b[0;34m\u001b[0m\u001b[0;34m\u001b[0m\u001b[0m\n\u001b[1;32m     66\u001b[0m       \u001b[0mfiltered_tb\u001b[0m \u001b[0;34m=\u001b[0m \u001b[0m_process_traceback_frames\u001b[0m\u001b[0;34m(\u001b[0m\u001b[0me\u001b[0m\u001b[0;34m.\u001b[0m\u001b[0m__traceback__\u001b[0m\u001b[0;34m)\u001b[0m\u001b[0;34m\u001b[0m\u001b[0;34m\u001b[0m\u001b[0m\n",
            "\u001b[0;32m/usr/local/lib/python3.7/dist-packages/keras/engine/training.py\u001b[0m in \u001b[0;36mfit\u001b[0;34m(self, x, y, batch_size, epochs, verbose, callbacks, validation_split, validation_data, shuffle, class_weight, sample_weight, initial_epoch, steps_per_epoch, validation_steps, validation_batch_size, validation_freq, max_queue_size, workers, use_multiprocessing)\u001b[0m\n\u001b[1;32m   1429\u001b[0m               \u001b[0muse_multiprocessing\u001b[0m\u001b[0;34m=\u001b[0m\u001b[0muse_multiprocessing\u001b[0m\u001b[0;34m,\u001b[0m\u001b[0;34m\u001b[0m\u001b[0;34m\u001b[0m\u001b[0m\n\u001b[1;32m   1430\u001b[0m               \u001b[0mreturn_dict\u001b[0m\u001b[0;34m=\u001b[0m\u001b[0;32mTrue\u001b[0m\u001b[0;34m,\u001b[0m\u001b[0;34m\u001b[0m\u001b[0;34m\u001b[0m\u001b[0m\n\u001b[0;32m-> 1431\u001b[0;31m               _use_cached_eval_dataset=True)\n\u001b[0m\u001b[1;32m   1432\u001b[0m           \u001b[0mval_logs\u001b[0m \u001b[0;34m=\u001b[0m \u001b[0;34m{\u001b[0m\u001b[0;34m'val_'\u001b[0m \u001b[0;34m+\u001b[0m \u001b[0mname\u001b[0m\u001b[0;34m:\u001b[0m \u001b[0mval\u001b[0m \u001b[0;32mfor\u001b[0m \u001b[0mname\u001b[0m\u001b[0;34m,\u001b[0m \u001b[0mval\u001b[0m \u001b[0;32min\u001b[0m \u001b[0mval_logs\u001b[0m\u001b[0;34m.\u001b[0m\u001b[0mitems\u001b[0m\u001b[0;34m(\u001b[0m\u001b[0;34m)\u001b[0m\u001b[0;34m}\u001b[0m\u001b[0;34m\u001b[0m\u001b[0;34m\u001b[0m\u001b[0m\n\u001b[1;32m   1433\u001b[0m           \u001b[0mepoch_logs\u001b[0m\u001b[0;34m.\u001b[0m\u001b[0mupdate\u001b[0m\u001b[0;34m(\u001b[0m\u001b[0mval_logs\u001b[0m\u001b[0;34m)\u001b[0m\u001b[0;34m\u001b[0m\u001b[0;34m\u001b[0m\u001b[0m\n",
            "\u001b[0;32m/usr/local/lib/python3.7/dist-packages/keras/utils/traceback_utils.py\u001b[0m in \u001b[0;36merror_handler\u001b[0;34m(*args, **kwargs)\u001b[0m\n\u001b[1;32m     62\u001b[0m     \u001b[0mfiltered_tb\u001b[0m \u001b[0;34m=\u001b[0m \u001b[0;32mNone\u001b[0m\u001b[0;34m\u001b[0m\u001b[0;34m\u001b[0m\u001b[0m\n\u001b[1;32m     63\u001b[0m     \u001b[0;32mtry\u001b[0m\u001b[0;34m:\u001b[0m\u001b[0;34m\u001b[0m\u001b[0;34m\u001b[0m\u001b[0m\n\u001b[0;32m---> 64\u001b[0;31m       \u001b[0;32mreturn\u001b[0m \u001b[0mfn\u001b[0m\u001b[0;34m(\u001b[0m\u001b[0;34m*\u001b[0m\u001b[0margs\u001b[0m\u001b[0;34m,\u001b[0m \u001b[0;34m**\u001b[0m\u001b[0mkwargs\u001b[0m\u001b[0;34m)\u001b[0m\u001b[0;34m\u001b[0m\u001b[0;34m\u001b[0m\u001b[0m\n\u001b[0m\u001b[1;32m     65\u001b[0m     \u001b[0;32mexcept\u001b[0m \u001b[0mException\u001b[0m \u001b[0;32mas\u001b[0m \u001b[0me\u001b[0m\u001b[0;34m:\u001b[0m  \u001b[0;31m# pylint: disable=broad-except\u001b[0m\u001b[0;34m\u001b[0m\u001b[0;34m\u001b[0m\u001b[0m\n\u001b[1;32m     66\u001b[0m       \u001b[0mfiltered_tb\u001b[0m \u001b[0;34m=\u001b[0m \u001b[0m_process_traceback_frames\u001b[0m\u001b[0;34m(\u001b[0m\u001b[0me\u001b[0m\u001b[0;34m.\u001b[0m\u001b[0m__traceback__\u001b[0m\u001b[0;34m)\u001b[0m\u001b[0;34m\u001b[0m\u001b[0;34m\u001b[0m\u001b[0m\n",
            "\u001b[0;32m/usr/local/lib/python3.7/dist-packages/keras/engine/training.py\u001b[0m in \u001b[0;36mevaluate\u001b[0;34m(self, x, y, batch_size, verbose, sample_weight, steps, callbacks, max_queue_size, workers, use_multiprocessing, return_dict, **kwargs)\u001b[0m\n\u001b[1;32m   1708\u001b[0m       \u001b[0mself\u001b[0m\u001b[0;34m.\u001b[0m\u001b[0m_test_counter\u001b[0m\u001b[0;34m.\u001b[0m\u001b[0massign\u001b[0m\u001b[0;34m(\u001b[0m\u001b[0;36m0\u001b[0m\u001b[0;34m)\u001b[0m\u001b[0;34m\u001b[0m\u001b[0;34m\u001b[0m\u001b[0m\n\u001b[1;32m   1709\u001b[0m       \u001b[0mcallbacks\u001b[0m\u001b[0;34m.\u001b[0m\u001b[0mon_test_begin\u001b[0m\u001b[0;34m(\u001b[0m\u001b[0;34m)\u001b[0m\u001b[0;34m\u001b[0m\u001b[0;34m\u001b[0m\u001b[0m\n\u001b[0;32m-> 1710\u001b[0;31m       \u001b[0;32mfor\u001b[0m \u001b[0m_\u001b[0m\u001b[0;34m,\u001b[0m \u001b[0miterator\u001b[0m \u001b[0;32min\u001b[0m \u001b[0mdata_handler\u001b[0m\u001b[0;34m.\u001b[0m\u001b[0menumerate_epochs\u001b[0m\u001b[0;34m(\u001b[0m\u001b[0;34m)\u001b[0m\u001b[0;34m:\u001b[0m  \u001b[0;31m# Single epoch.\u001b[0m\u001b[0;34m\u001b[0m\u001b[0;34m\u001b[0m\u001b[0m\n\u001b[0m\u001b[1;32m   1711\u001b[0m         \u001b[0mself\u001b[0m\u001b[0;34m.\u001b[0m\u001b[0mreset_metrics\u001b[0m\u001b[0;34m(\u001b[0m\u001b[0;34m)\u001b[0m\u001b[0;34m\u001b[0m\u001b[0;34m\u001b[0m\u001b[0m\n\u001b[1;32m   1712\u001b[0m         \u001b[0;32mwith\u001b[0m \u001b[0mdata_handler\u001b[0m\u001b[0;34m.\u001b[0m\u001b[0mcatch_stop_iteration\u001b[0m\u001b[0;34m(\u001b[0m\u001b[0;34m)\u001b[0m\u001b[0;34m:\u001b[0m\u001b[0;34m\u001b[0m\u001b[0;34m\u001b[0m\u001b[0m\n",
            "\u001b[0;32m/usr/local/lib/python3.7/dist-packages/keras/engine/data_adapter.py\u001b[0m in \u001b[0;36menumerate_epochs\u001b[0;34m(self)\u001b[0m\n\u001b[1;32m   1189\u001b[0m     \u001b[0;34m\"\"\"Yields `(epoch, tf.data.Iterator)`.\"\"\"\u001b[0m\u001b[0;34m\u001b[0m\u001b[0;34m\u001b[0m\u001b[0m\n\u001b[1;32m   1190\u001b[0m     \u001b[0;32mwith\u001b[0m \u001b[0mself\u001b[0m\u001b[0;34m.\u001b[0m\u001b[0m_truncate_execution_to_epoch\u001b[0m\u001b[0;34m(\u001b[0m\u001b[0;34m)\u001b[0m\u001b[0;34m:\u001b[0m\u001b[0;34m\u001b[0m\u001b[0;34m\u001b[0m\u001b[0m\n\u001b[0;32m-> 1191\u001b[0;31m       \u001b[0mdata_iterator\u001b[0m \u001b[0;34m=\u001b[0m \u001b[0miter\u001b[0m\u001b[0;34m(\u001b[0m\u001b[0mself\u001b[0m\u001b[0;34m.\u001b[0m\u001b[0m_dataset\u001b[0m\u001b[0;34m)\u001b[0m\u001b[0;34m\u001b[0m\u001b[0;34m\u001b[0m\u001b[0m\n\u001b[0m\u001b[1;32m   1192\u001b[0m       \u001b[0;32mfor\u001b[0m \u001b[0mepoch\u001b[0m \u001b[0;32min\u001b[0m \u001b[0mrange\u001b[0m\u001b[0;34m(\u001b[0m\u001b[0mself\u001b[0m\u001b[0;34m.\u001b[0m\u001b[0m_initial_epoch\u001b[0m\u001b[0;34m,\u001b[0m \u001b[0mself\u001b[0m\u001b[0;34m.\u001b[0m\u001b[0m_epochs\u001b[0m\u001b[0;34m)\u001b[0m\u001b[0;34m:\u001b[0m\u001b[0;34m\u001b[0m\u001b[0;34m\u001b[0m\u001b[0m\n\u001b[1;32m   1193\u001b[0m         \u001b[0;32mif\u001b[0m \u001b[0mself\u001b[0m\u001b[0;34m.\u001b[0m\u001b[0m_insufficient_data\u001b[0m\u001b[0;34m:\u001b[0m  \u001b[0;31m# Set by `catch_stop_iteration`.\u001b[0m\u001b[0;34m\u001b[0m\u001b[0;34m\u001b[0m\u001b[0m\n",
            "\u001b[0;32m/usr/local/lib/python3.7/dist-packages/tensorflow/python/data/ops/dataset_ops.py\u001b[0m in \u001b[0;36m__iter__\u001b[0;34m(self)\u001b[0m\n\u001b[1;32m    484\u001b[0m     \u001b[0;32mif\u001b[0m \u001b[0mcontext\u001b[0m\u001b[0;34m.\u001b[0m\u001b[0mexecuting_eagerly\u001b[0m\u001b[0;34m(\u001b[0m\u001b[0;34m)\u001b[0m \u001b[0;32mor\u001b[0m \u001b[0mops\u001b[0m\u001b[0;34m.\u001b[0m\u001b[0minside_function\u001b[0m\u001b[0;34m(\u001b[0m\u001b[0;34m)\u001b[0m\u001b[0;34m:\u001b[0m\u001b[0;34m\u001b[0m\u001b[0;34m\u001b[0m\u001b[0m\n\u001b[1;32m    485\u001b[0m       \u001b[0;32mwith\u001b[0m \u001b[0mops\u001b[0m\u001b[0;34m.\u001b[0m\u001b[0mcolocate_with\u001b[0m\u001b[0;34m(\u001b[0m\u001b[0mself\u001b[0m\u001b[0;34m.\u001b[0m\u001b[0m_variant_tensor\u001b[0m\u001b[0;34m)\u001b[0m\u001b[0;34m:\u001b[0m\u001b[0;34m\u001b[0m\u001b[0;34m\u001b[0m\u001b[0m\n\u001b[0;32m--> 486\u001b[0;31m         \u001b[0;32mreturn\u001b[0m \u001b[0miterator_ops\u001b[0m\u001b[0;34m.\u001b[0m\u001b[0mOwnedIterator\u001b[0m\u001b[0;34m(\u001b[0m\u001b[0mself\u001b[0m\u001b[0;34m)\u001b[0m\u001b[0;34m\u001b[0m\u001b[0;34m\u001b[0m\u001b[0m\n\u001b[0m\u001b[1;32m    487\u001b[0m     \u001b[0;32melse\u001b[0m\u001b[0;34m:\u001b[0m\u001b[0;34m\u001b[0m\u001b[0;34m\u001b[0m\u001b[0m\n\u001b[1;32m    488\u001b[0m       raise RuntimeError(\"`tf.data.Dataset` only supports Python-style \"\n",
            "\u001b[0;32m/usr/local/lib/python3.7/dist-packages/tensorflow/python/data/ops/iterator_ops.py\u001b[0m in \u001b[0;36m__init__\u001b[0;34m(self, dataset, components, element_spec)\u001b[0m\n\u001b[1;32m    753\u001b[0m             \u001b[0;34m\"When `dataset` is provided, `element_spec` and `components` must \"\u001b[0m\u001b[0;34m\u001b[0m\u001b[0;34m\u001b[0m\u001b[0m\n\u001b[1;32m    754\u001b[0m             \"not be specified.\")\n\u001b[0;32m--> 755\u001b[0;31m       \u001b[0mself\u001b[0m\u001b[0;34m.\u001b[0m\u001b[0m_create_iterator\u001b[0m\u001b[0;34m(\u001b[0m\u001b[0mdataset\u001b[0m\u001b[0;34m)\u001b[0m\u001b[0;34m\u001b[0m\u001b[0;34m\u001b[0m\u001b[0m\n\u001b[0m\u001b[1;32m    756\u001b[0m \u001b[0;34m\u001b[0m\u001b[0m\n\u001b[1;32m    757\u001b[0m     \u001b[0mself\u001b[0m\u001b[0;34m.\u001b[0m\u001b[0m_get_next_call_count\u001b[0m \u001b[0;34m=\u001b[0m \u001b[0;36m0\u001b[0m\u001b[0;34m\u001b[0m\u001b[0;34m\u001b[0m\u001b[0m\n",
            "\u001b[0;32m/usr/local/lib/python3.7/dist-packages/tensorflow/python/data/ops/iterator_ops.py\u001b[0m in \u001b[0;36m_create_iterator\u001b[0;34m(self, dataset)\u001b[0m\n\u001b[1;32m    785\u001b[0m                 \u001b[0moutput_types\u001b[0m\u001b[0;34m=\u001b[0m\u001b[0mself\u001b[0m\u001b[0;34m.\u001b[0m\u001b[0m_flat_output_types\u001b[0m\u001b[0;34m,\u001b[0m\u001b[0;34m\u001b[0m\u001b[0;34m\u001b[0m\u001b[0m\n\u001b[1;32m    786\u001b[0m                 output_shapes=self._flat_output_shapes))\n\u001b[0;32m--> 787\u001b[0;31m         \u001b[0mgen_dataset_ops\u001b[0m\u001b[0;34m.\u001b[0m\u001b[0mmake_iterator\u001b[0m\u001b[0;34m(\u001b[0m\u001b[0mds_variant\u001b[0m\u001b[0;34m,\u001b[0m \u001b[0mself\u001b[0m\u001b[0;34m.\u001b[0m\u001b[0m_iterator_resource\u001b[0m\u001b[0;34m)\u001b[0m\u001b[0;34m\u001b[0m\u001b[0;34m\u001b[0m\u001b[0m\n\u001b[0m\u001b[1;32m    788\u001b[0m         \u001b[0;31m# Delete the resource when this object is deleted\u001b[0m\u001b[0;34m\u001b[0m\u001b[0;34m\u001b[0m\u001b[0;34m\u001b[0m\u001b[0m\n\u001b[1;32m    789\u001b[0m         self._resource_deleter = IteratorResourceDeleter(\n",
            "\u001b[0;32m/usr/local/lib/python3.7/dist-packages/tensorflow/python/ops/gen_dataset_ops.py\u001b[0m in \u001b[0;36mmake_iterator\u001b[0;34m(dataset, iterator, name)\u001b[0m\n\u001b[1;32m   3314\u001b[0m     \u001b[0;32mtry\u001b[0m\u001b[0;34m:\u001b[0m\u001b[0;34m\u001b[0m\u001b[0;34m\u001b[0m\u001b[0m\n\u001b[1;32m   3315\u001b[0m       _result = pywrap_tfe.TFE_Py_FastPathExecute(\n\u001b[0;32m-> 3316\u001b[0;31m         _ctx, \"MakeIterator\", name, dataset, iterator)\n\u001b[0m\u001b[1;32m   3317\u001b[0m       \u001b[0;32mreturn\u001b[0m \u001b[0m_result\u001b[0m\u001b[0;34m\u001b[0m\u001b[0;34m\u001b[0m\u001b[0m\n\u001b[1;32m   3318\u001b[0m     \u001b[0;32mexcept\u001b[0m \u001b[0m_core\u001b[0m\u001b[0;34m.\u001b[0m\u001b[0m_NotOkStatusException\u001b[0m \u001b[0;32mas\u001b[0m \u001b[0me\u001b[0m\u001b[0;34m:\u001b[0m\u001b[0;34m\u001b[0m\u001b[0;34m\u001b[0m\u001b[0m\n",
            "\u001b[0;31mKeyboardInterrupt\u001b[0m: "
          ]
        }
      ]
    },
    {
      "cell_type": "code",
      "source": [
        "#Naive Bayes model\n",
        "nb =GaussianNB()\n",
        "model_c = nb.fit(train_x, train_y)"
      ],
      "metadata": {
        "id": "JiI4RxTwpFLF"
      },
      "execution_count": null,
      "outputs": []
    },
    {
      "cell_type": "code",
      "source": [
        "from sklearn.ensemble import RandomForestClassifier\n",
        "\n",
        "model_c = RandomForestClassifier(n_estimators=120,max_depth=20)\n",
        "model_c.fit(train_x,train_y)"
      ],
      "metadata": {
        "id": "ONY7_5pJO5yM",
        "outputId": "8b9c0a7f-17b0-4f27-d68a-bf825e166632",
        "colab": {
          "base_uri": "https://localhost:8080/"
        }
      },
      "execution_count": null,
      "outputs": [
        {
          "output_type": "execute_result",
          "data": {
            "text/plain": [
              "RandomForestClassifier(max_depth=20, n_estimators=120)"
            ]
          },
          "metadata": {},
          "execution_count": 48
        }
      ]
    },
    {
      "cell_type": "code",
      "source": [
        "test_x = x[300000:310000]\n",
        "test_y = 1-y[300000:310000]\n",
        "test_x[df_num.columns] = ss.fit_transform(test_x[df_num.columns])"
      ],
      "metadata": {
        "id": "SAldYU2pipeS"
      },
      "execution_count": null,
      "outputs": []
    },
    {
      "cell_type": "code",
      "source": [
        "from sklearn.metrics import f1_score\n",
        "from sklearn.metrics import precision_recall_fscore_support\n",
        "\n",
        "pedict_y = model_c.predict(test_x)\n",
        "#ppy = [1 if py > 0.5 else 0 for py in pedict_y[:,0]]     \n",
        "ppy = [0 if py > 0.5 else 1 for py in pedict_y]              \n",
        "acc = precision_recall_fscore_support(test_y.values,np.asarray(ppy),average='binary')\n",
        "\n",
        "acc"
      ],
      "metadata": {
        "colab": {
          "base_uri": "https://localhost:8080/"
        },
        "id": "LJLPvy2Jj4gG",
        "outputId": "3bdd168c-8848-4172-e0aa-1827ad8f1604"
      },
      "execution_count": null,
      "outputs": [
        {
          "output_type": "execute_result",
          "data": {
            "text/plain": [
              "(0.9961, 1.0, 0.9980461900706378, None)"
            ]
          },
          "metadata": {},
          "execution_count": 54
        }
      ]
    },
    {
      "cell_type": "code",
      "source": [
        "ppy"
      ],
      "metadata": {
        "id": "IR_dmBtMQBbJ"
      },
      "execution_count": null,
      "outputs": []
    },
    {
      "cell_type": "code",
      "source": [
        "print(classification_report(test_y,ppy))"
      ],
      "metadata": {
        "colab": {
          "base_uri": "https://localhost:8080/"
        },
        "id": "8MMx2CoDlcQI",
        "outputId": "69cddb54-73b4-4af2-d920-19fce82de99b"
      },
      "execution_count": null,
      "outputs": [
        {
          "output_type": "stream",
          "name": "stdout",
          "text": [
            "              precision    recall  f1-score   support\n",
            "\n",
            "           0       0.00      0.00      0.00        39\n",
            "           1       1.00      1.00      1.00      9961\n",
            "\n",
            "    accuracy                           1.00     10000\n",
            "   macro avg       0.50      0.50      0.50     10000\n",
            "weighted avg       0.99      1.00      0.99     10000\n",
            "\n"
          ]
        }
      ]
    },
    {
      "cell_type": "code",
      "source": [
        "import math\n",
        "f1s = []\n",
        "batch_size = 10000\n",
        "batch = math.ceil(x[300000:-1].shape[0]/batch_size)\n",
        "for i in range(batch):\n",
        "    ux = x[300000:-1][i*batch_size:(i+1)*batch_size]\n",
        "    ux[df_num.columns] = ss.fit_transform(ux[df_num.columns])\n",
        "    uy = 1-y[300000:-1][i*batch_size:(i+1)*batch_size]\n",
        "    predict_y = model_c.predict(ux)\n",
        "    ppy = [0 if py > 0.5 else 1 for py in predict_y]       \n",
        "    f1 = precision_recall_fscore_support(uy, np.asarray(ppy),average='binary')\n",
        "    print(\"f1:\",f1[2])\n",
        "    f1s.append(f1[2])"
      ],
      "metadata": {
        "colab": {
          "base_uri": "https://localhost:8080/"
        },
        "id": "uCYSv-lMlmha",
        "outputId": "91c1e983-f49d-4d0e-c5fc-6e826fed2252"
      },
      "execution_count": null,
      "outputs": [
        {
          "output_type": "stream",
          "name": "stdout",
          "text": [
            "f1: 0.9980461900706378\n",
            "f1: 0.99964987745711\n",
            "f1: 0.9970915655400662\n",
            "f1: 0.9994496973335335\n",
            "f1: 0.9977951493285228\n",
            "f1: 0.9976444644915552\n",
            "f1: 0.9980963831279431\n",
            "f1: 0.9976444644915552\n",
            "f1: 0.9986481750362989\n",
            "f1: 0.9959335307997389\n",
            "f1: 0.99849774661993\n",
            "f1: 0.9975942261427425\n",
            "f1: 0.9973932223781832\n",
            "f1: 0.9981967541574834\n",
            "f1: 0.9993996397838703\n",
            "f1: 0.9987484355444306\n",
            "f1: 0.9978453675402115\n",
            "f1: 0.9963869931754317\n",
            "f1: 0.9991993594875901\n",
            "f1: 0.9973429588409285\n",
            "f1: 0.9988987886675343\n",
            "f1: 0.997895580719511\n",
            "f1: 0.9981967541574834\n",
            "f1: 0.9971418542847114\n",
            "f1: 0.9993996397838703\n",
            "f1: 0.9968903601163607\n",
            "f1: 0.9978453675402115\n",
            "f1: 0.9960343356257216\n",
            "f1: 0.9981967541574834\n",
            "f1: 0.9955805544395339\n",
            "f1: 0.9963869931754317\n",
            "f1: 0.9973932223781832\n",
            "f1: 0.9963366286947357\n",
            "f1: 0.9973429588409285\n",
            "f1: 0.9968903601163607\n",
            "f1: 0.9973932223781832\n",
            "f1: 0.9964877069744105\n",
            "f1: 0.9961351202128194\n",
            "f1: 0.9944190255920358\n",
            "f1: 0.9980963831279431\n",
            "f1: 0.9982469321312296\n",
            "f1: 0.9954796584630838\n",
            "f1: 0.998547894446948\n",
            "f1: 0.9976444644915552\n",
            "f1: 0.9973429588409285\n",
            "f1: 0.9979959919839679\n",
            "f1: 0.9978453675402115\n",
            "f1: 0.9955301089849832\n",
            "f1: 0.997895580719511\n",
            "f1: 0.9977951493285228\n",
            "f1: 0.997242416645776\n",
            "f1: 0.9986481750362989\n",
            "f1: 0.9987484355444306\n",
            "f1: 0.9967897271268058\n",
            "f1: 0.9989488963411582\n",
            "f1: 0.9987484355444306\n",
            "f1: 0.998397435897436\n",
            "f1: 0.9974937343358395\n",
            "f1: 0.9982971050786338\n",
            "f1: 0.9966387397782571\n",
            "f1: 0.9974434808762345\n",
            "f1: 0.9981967541574834\n",
            "f1: 0.9963869931754317\n",
            "f1: 0.9966387397782571\n",
            "f1: 0.996538056294215\n",
            "f1: 0.9962358845671266\n",
            "f1: 0.9973429588409285\n",
            "f1: 0.9958327057287745\n",
            "f1: 0.9973932223781832\n",
            "f1: 0.9973429588409285\n",
            "f1: 0.997242416645776\n",
            "f1: 0.9954796584630838\n",
            "f1: 0.9956309948274996\n",
            "f1: 0.9980461900706378\n",
            "f1: 0.9976946978049513\n",
            "f1: 0.9950758717716812\n",
            "f1: 0.9945201347343019\n",
            "f1: 0.997242416645776\n",
            "f1: 0.9990991892703432\n",
            "f1: 0.9969909729187563\n",
            "f1: 0.9986983078001402\n",
            "f1: 0.9970412717516675\n",
            "f1: 0.998447593770344\n",
            "f1: 0.9970412717516675\n",
            "f1: 0.9980963831279431\n",
            "f1: 0.9980461900706378\n",
            "f1: 0.995176848874598\n",
            "f1: 0.9961351202128194\n",
            "f1: 0.9950253756092658\n",
            "f1: 0.9970412717516675\n",
            "f1: 0.9976946978049513\n",
            "f1: 0.9955301089849832\n",
            "f1: 0.9977449260836884\n",
            "f1: 0.9973932223781832\n",
            "f1: 0.9979959919839679\n",
            "f1: 0.997292690263712\n",
            "f1: 0.9977951493285228\n",
            "f1: 0.9980963831279431\n",
            "f1: 0.9961351202128194\n",
            "f1: 0.9950758717716812\n",
            "f1: 0.9990490966418097\n",
            "f1: 0.9977449260836884\n",
            "f1: 0.997242416645776\n",
            "f1: 0.9976444644915552\n",
            "f1: 0.998598037252153\n",
            "f1: 0.997242416645776\n",
            "f1: 0.9992995096567597\n",
            "f1: 0.9973932223781832\n",
            "f1: 0.9973932223781832\n",
            "f1: 0.99849774661993\n",
            "f1: 0.998998998998999\n",
            "f1: 0.9971418542847114\n",
            "f1: 0.9973429588409285\n",
            "f1: 0.9958831207952605\n",
            "f1: 0.9971418542847114\n",
            "f1: 0.9990490966418097\n",
            "f1: 0.9981465711566397\n",
            "f1: 0.9981967541574834\n",
            "f1: 0.996185504918691\n",
            "f1: 0.9992995096567597\n",
            "f1: 0.997895580719511\n",
            "f1: 0.9967897271268058\n",
            "f1: 0.9979959919839679\n",
            "f1: 0.9975942261427425\n",
            "f1: 0.998998998998999\n",
            "f1: 0.9960847304487501\n",
            "f1: 0.9977449260836884\n",
            "f1: 0.9959335307997389\n",
            "f1: 0.9966387397782571\n",
            "f1: 0.9981967541574834\n",
            "f1: 0.9953787422141852\n",
            "f1: 0.9990991892703432\n",
            "f1: 0.9968903601163607\n",
            "f1: 0.998598037252153\n",
            "f1: 0.9979959919839679\n",
            "f1: 0.9971921379863617\n",
            "f1: 0.9982469321312296\n",
            "f1: 0.9987484355444306\n",
            "f1: 0.9973429588409285\n",
            "f1: 0.9970412717516675\n",
            "f1: 0.998397435897436\n",
            "f1: 0.9992995096567597\n",
            "f1: 0.998397435897436\n",
            "f1: 0.998598037252153\n",
            "f1: 0.9987985582699239\n",
            "f1: 0.9976444644915552\n",
            "f1: 0.998397435897436\n",
            "f1: 0.9991993594875901\n",
            "f1: 0.9982971050786338\n",
            "f1: 0.9994496973335335\n",
            "f1: 0.9992995096567597\n",
            "f1: 0.9996999099729919\n",
            "f1: 1.0\n",
            "f1: 1.0\n",
            "f1: 1.0\n",
            "f1: 1.0\n"
          ]
        }
      ]
    },
    {
      "cell_type": "code",
      "source": [
        "plt.figure(figsize=(20,5))\n",
        "plt.plot(f1s)"
      ],
      "metadata": {
        "colab": {
          "base_uri": "https://localhost:8080/",
          "height": 288
        },
        "id": "1BDlT0TIrWTh",
        "outputId": "62a40dc6-8197-4238-840d-52968e614a18"
      },
      "execution_count": null,
      "outputs": [
        {
          "output_type": "execute_result",
          "data": {
            "text/plain": [
              "[<matplotlib.lines.Line2D at 0x7fed70733e50>]"
            ]
          },
          "metadata": {},
          "execution_count": 58
        },
        {
          "output_type": "display_data",
          "data": {
            "text/plain": [
              "<Figure size 1440x360 with 1 Axes>"
            ],
            "image/png": "[encoded data removed]"
          },
          "metadata": {
            "needs_background": "light"
          }
        }
      ]
    },
    {
      "cell_type": "markdown",
      "source": [
        "# 다른거...."
      ],
      "metadata": {
        "id": "3PHGGf1MQvh4"
      }
    },
    {
      "cell_type": "code",
      "source": [
        "!kaggle datasets download \"ealtman2019/credit-card-transactions\"\n"
      ],
      "metadata": {
        "id": "zf96qkd3Qx0i",
        "outputId": "e53cd505-6dcb-4ecb-9382-2c5872f92ebf",
        "colab": {
          "base_uri": "https://localhost:8080/"
        }
      },
      "execution_count": 3,
      "outputs": [
        {
          "output_type": "stream",
          "name": "stdout",
          "text": [
            "Downloading credit-card-transactions.zip to /content\n",
            " 95% 250M/263M [00:02<00:00, 104MB/s]\n",
            "100% 263M/263M [00:02<00:00, 111MB/s]\n"
          ]
        }
      ]
    },
    {
      "cell_type": "code",
      "source": [
        "!unzip credit-card-transactions.zip"
      ],
      "metadata": {
        "id": "oCuHS1KXRZuv",
        "outputId": "a7d19b08-6a62-467c-f099-dd231fcea203",
        "colab": {
          "base_uri": "https://localhost:8080/"
        }
      },
      "execution_count": 4,
      "outputs": [
        {
          "output_type": "stream",
          "name": "stdout",
          "text": [
            "Archive:  credit-card-transactions.zip\n",
            "  inflating: User0_credit_card_transactions.csv  \n",
            "  inflating: credit_card_transactions-ibm_v2.csv  \n",
            "  inflating: sd254_cards.csv         \n",
            "  inflating: sd254_users.csv         \n"
          ]
        }
      ]
    },
    {
      "cell_type": "code",
      "source": [
        "df = pd.read_csv(\"credit_card_transactions-ibm_v2.csv\")"
      ],
      "metadata": {
        "id": "_vurfq5URbfr"
      },
      "execution_count": 5,
      "outputs": []
    },
    {
      "cell_type": "code",
      "source": [
        "df.info()"
      ],
      "metadata": {
        "id": "_eei2GXORs-k",
        "outputId": "b33359d8-b5b6-4706-80c2-d333d17c6ae3",
        "colab": {
          "base_uri": "https://localhost:8080/"
        }
      },
      "execution_count": 6,
      "outputs": [
        {
          "output_type": "stream",
          "name": "stdout",
          "text": [
            "<class 'pandas.core.frame.DataFrame'>\n",
            "RangeIndex: 24386900 entries, 0 to 24386899\n",
            "Data columns (total 15 columns):\n",
            " #   Column          Dtype  \n",
            "---  ------          -----  \n",
            " 0   User            int64  \n",
            " 1   Card            int64  \n",
            " 2   Year            int64  \n",
            " 3   Month           int64  \n",
            " 4   Day             int64  \n",
            " 5   Time            object \n",
            " 6   Amount          object \n",
            " 7   Use Chip        object \n",
            " 8   Merchant Name   int64  \n",
            " 9   Merchant City   object \n",
            " 10  Merchant State  object \n",
            " 11  Zip             float64\n",
            " 12  MCC             int64  \n",
            " 13  Errors?         object \n",
            " 14  Is Fraud?       object \n",
            "dtypes: float64(1), int64(7), object(7)\n",
            "memory usage: 2.7+ GB\n"
          ]
        }
      ]
    },
    {
      "cell_type": "code",
      "source": [
        "df.head() "
      ],
      "metadata": {
        "id": "D0Ke2d1pscz3",
        "outputId": "a257b03c-56cd-4ad2-e768-b5d846ee4e63",
        "colab": {
          "base_uri": "https://localhost:8080/",
          "height": 206
        }
      },
      "execution_count": 7,
      "outputs": [
        {
          "output_type": "execute_result",
          "data": {
            "text/plain": [
              "   User  Card  Year  Month  Day   Time   Amount           Use Chip  \\\n",
              "0     0     0  2002      9    1  06:21  $134.09  Swipe Transaction   \n",
              "1     0     0  2002      9    1  06:42   $38.48  Swipe Transaction   \n",
              "2     0     0  2002      9    2  06:22  $120.34  Swipe Transaction   \n",
              "3     0     0  2002      9    2  17:45  $128.95  Swipe Transaction   \n",
              "4     0     0  2002      9    3  06:23  $104.71  Swipe Transaction   \n",
              "\n",
              "         Merchant Name  Merchant City Merchant State      Zip   MCC Errors?  \\\n",
              "0  3527213246127876953       La Verne             CA  91750.0  5300     NaN   \n",
              "1  -727612092139916043  Monterey Park             CA  91754.0  5411     NaN   \n",
              "2  -727612092139916043  Monterey Park             CA  91754.0  5411     NaN   \n",
              "3  3414527459579106770  Monterey Park             CA  91754.0  5651     NaN   \n",
              "4  5817218446178736267       La Verne             CA  91750.0  5912     NaN   \n",
              "\n",
              "  Is Fraud?  \n",
              "0        No  \n",
              "1        No  \n",
              "2        No  \n",
              "3        No  \n",
              "4        No  "
            ],
            "text/html": [
              "\n",
              "  <div id=\"df-9145afb5-902e-43ce-91f2-9340124af3da\">\n",
              "    <div class=\"colab-df-container\">\n",
              "      <div>\n",
              "<style scoped>\n",
              "    .dataframe tbody tr th:only-of-type {\n",
              "        vertical-align: middle;\n",
              "    }\n",
              "\n",
              "    .dataframe tbody tr th {\n",
              "        vertical-align: top;\n",
              "    }\n",
              "\n",
              "    .dataframe thead th {\n",
              "        text-align: right;\n",
              "    }\n",
              "</style>\n",
              "<table border=\"1\" class=\"dataframe\">\n",
              "  <thead>\n",
              "    <tr style=\"text-align: right;\">\n",
              "      <th></th>\n",
              "      <th>User</th>\n",
              "      <th>Card</th>\n",
              "      <th>Year</th>\n",
              "      <th>Month</th>\n",
              "      <th>Day</th>\n",
              "      <th>Time</th>\n",
              "      <th>Amount</th>\n",
              "      <th>Use Chip</th>\n",
              "      <th>Merchant Name</th>\n",
              "      <th>Merchant City</th>\n",
              "      <th>Merchant State</th>\n",
              "      <th>Zip</th>\n",
              "      <th>MCC</th>\n",
              "      <th>Errors?</th>\n",
              "      <th>Is Fraud?</th>\n",
              "    </tr>\n",
              "  </thead>\n",
              "  <tbody>\n",
              "    <tr>\n",
              "      <th>0</th>\n",
              "      <td>0</td>\n",
              "      <td>0</td>\n",
              "      <td>2002</td>\n",
              "      <td>9</td>\n",
              "      <td>1</td>\n",
              "      <td>06:21</td>\n",
              "      <td>$134.09</td>\n",
              "      <td>Swipe Transaction</td>\n",
              "      <td>3527213246127876953</td>\n",
              "      <td>La Verne</td>\n",
              "      <td>CA</td>\n",
              "      <td>91750.0</td>\n",
              "      <td>5300</td>\n",
              "      <td>NaN</td>\n",
              "      <td>No</td>\n",
              "    </tr>\n",
              "    <tr>\n",
              "      <th>1</th>\n",
              "      <td>0</td>\n",
              "      <td>0</td>\n",
              "      <td>2002</td>\n",
              "      <td>9</td>\n",
              "      <td>1</td>\n",
              "      <td>06:42</td>\n",
              "      <td>$38.48</td>\n",
              "      <td>Swipe Transaction</td>\n",
              "      <td>-727612092139916043</td>\n",
              "      <td>Monterey Park</td>\n",
              "      <td>CA</td>\n",
              "      <td>91754.0</td>\n",
              "      <td>5411</td>\n",
              "      <td>NaN</td>\n",
              "      <td>No</td>\n",
              "    </tr>\n",
              "    <tr>\n",
              "      <th>2</th>\n",
              "      <td>0</td>\n",
              "      <td>0</td>\n",
              "      <td>2002</td>\n",
              "      <td>9</td>\n",
              "      <td>2</td>\n",
              "      <td>06:22</td>\n",
              "      <td>$120.34</td>\n",
              "      <td>Swipe Transaction</td>\n",
              "      <td>-727612092139916043</td>\n",
              "      <td>Monterey Park</td>\n",
              "      <td>CA</td>\n",
              "      <td>91754.0</td>\n",
              "      <td>5411</td>\n",
              "      <td>NaN</td>\n",
              "      <td>No</td>\n",
              "    </tr>\n",
              "    <tr>\n",
              "      <th>3</th>\n",
              "      <td>0</td>\n",
              "      <td>0</td>\n",
              "      <td>2002</td>\n",
              "      <td>9</td>\n",
              "      <td>2</td>\n",
              "      <td>17:45</td>\n",
              "      <td>$128.95</td>\n",
              "      <td>Swipe Transaction</td>\n",
              "      <td>3414527459579106770</td>\n",
              "      <td>Monterey Park</td>\n",
              "      <td>CA</td>\n",
              "      <td>91754.0</td>\n",
              "      <td>5651</td>\n",
              "      <td>NaN</td>\n",
              "      <td>No</td>\n",
              "    </tr>\n",
              "    <tr>\n",
              "      <th>4</th>\n",
              "      <td>0</td>\n",
              "      <td>0</td>\n",
              "      <td>2002</td>\n",
              "      <td>9</td>\n",
              "      <td>3</td>\n",
              "      <td>06:23</td>\n",
              "      <td>$104.71</td>\n",
              "      <td>Swipe Transaction</td>\n",
              "      <td>5817218446178736267</td>\n",
              "      <td>La Verne</td>\n",
              "      <td>CA</td>\n",
              "      <td>91750.0</td>\n",
              "      <td>5912</td>\n",
              "      <td>NaN</td>\n",
              "      <td>No</td>\n",
              "    </tr>\n",
              "  </tbody>\n",
              "</table>\n",
              "</div>\n",
              "      <button class=\"colab-df-convert\" onclick=\"convertToInteractive('df-9145afb5-902e-43ce-91f2-9340124af3da')\"\n",
              "              title=\"Convert this dataframe to an interactive table.\"\n",
              "              style=\"display:none;\">\n",
              "        \n",
              "  <svg xmlns=\"http://www.w3.org/2000/svg\" height=\"24px\"viewBox=\"0 0 24 24\"\n",
              "       width=\"24px\">\n",
              "    <path d=\"M0 0h24v24H0V0z\" fill=\"none\"/>\n",
              "    <path d=\"M18.56 5.44l.94 2.06.94-2.06 2.06-.94-2.06-.94-.94-2.06-.94 2.06-2.06.94zm-11 1L8.5 8.5l.94-2.06 2.06-.94-2.06-.94L8.5 2.5l-.94 2.06-2.06.94zm10 10l.94 2.06.94-2.06 2.06-.94-2.06-.94-.94-2.06-.94 2.06-2.06.94z\"/><path d=\"M17.41 7.96l-1.37-1.37c-.4-.4-.92-.59-1.43-.59-.52 0-1.04.2-1.43.59L10.3 9.45l-7.72 7.72c-.78.78-.78 2.05 0 2.83L4 21.41c.39.39.9.59 1.41.59.51 0 1.02-.2 1.41-.59l7.78-7.78 2.81-2.81c.8-.78.8-2.07 0-2.86zM5.41 20L4 18.59l7.72-7.72 1.47 1.35L5.41 20z\"/>\n",
              "  </svg>\n",
              "      </button>\n",
              "      \n",
              "  <style>\n",
              "    .colab-df-container {\n",
              "      display:flex;\n",
              "      flex-wrap:wrap;\n",
              "      gap: 12px;\n",
              "    }\n",
              "\n",
              "    .colab-df-convert {\n",
              "      background-color: #E8F0FE;\n",
              "      border: none;\n",
              "      border-radius: 50%;\n",
              "      cursor: pointer;\n",
              "      display: none;\n",
              "      fill: #1967D2;\n",
              "      height: 32px;\n",
              "      padding: 0 0 0 0;\n",
              "      width: 32px;\n",
              "    }\n",
              "\n",
              "    .colab-df-convert:hover {\n",
              "      background-color: #E2EBFA;\n",
              "      box-shadow: 0px 1px 2px rgba(60, 64, 67, 0.3), 0px 1px 3px 1px rgba(60, 64, 67, 0.15);\n",
              "      fill: #174EA6;\n",
              "    }\n",
              "\n",
              "    [theme=dark] .colab-df-convert {\n",
              "      background-color: #3B4455;\n",
              "      fill: #D2E3FC;\n",
              "    }\n",
              "\n",
              "    [theme=dark] .colab-df-convert:hover {\n",
              "      background-color: #434B5C;\n",
              "      box-shadow: 0px 1px 3px 1px rgba(0, 0, 0, 0.15);\n",
              "      filter: drop-shadow(0px 1px 2px rgba(0, 0, 0, 0.3));\n",
              "      fill: #FFFFFF;\n",
              "    }\n",
              "  </style>\n",
              "\n",
              "      <script>\n",
              "        const buttonEl =\n",
              "          document.querySelector('#df-9145afb5-902e-43ce-91f2-9340124af3da button.colab-df-convert');\n",
              "        buttonEl.style.display =\n",
              "          google.colab.kernel.accessAllowed ? 'block' : 'none';\n",
              "\n",
              "        async function convertToInteractive(key) {\n",
              "          const element = document.querySelector('#df-9145afb5-902e-43ce-91f2-9340124af3da');\n",
              "          const dataTable =\n",
              "            await google.colab.kernel.invokeFunction('convertToInteractive',\n",
              "                                                     [key], {});\n",
              "          if (!dataTable) return;\n",
              "\n",
              "          const docLinkHtml = 'Like what you see? Visit the ' +\n",
              "            '<a target=\"_blank\" href=https://colab.research.google.com/notebooks/data_table.ipynb>data table notebook</a>'\n",
              "            + ' to learn more about interactive tables.';\n",
              "          element.innerHTML = '';\n",
              "          dataTable['output_type'] = 'display_data';\n",
              "          await google.colab.output.renderOutput(dataTable, element);\n",
              "          const docLink = document.createElement('div');\n",
              "          docLink.innerHTML = docLinkHtml;\n",
              "          element.appendChild(docLink);\n",
              "        }\n",
              "      </script>\n",
              "    </div>\n",
              "  </div>\n",
              "  "
            ]
          },
          "metadata": {},
          "execution_count": 7
        }
      ]
    },
    {
      "cell_type": "code",
      "source": [
        "df['Year'].value_counts()"
      ],
      "metadata": {
        "id": "y7vwWfg-TWRO",
        "outputId": "007e0f6b-528d-4811-9665-b5ddadc3fca0",
        "colab": {
          "base_uri": "https://localhost:8080/"
        }
      },
      "execution_count": 8,
      "outputs": [
        {
          "output_type": "execute_result",
          "data": {
            "text/plain": [
              "2019    1723938\n",
              "2017    1723360\n",
              "2018    1721615\n",
              "2016    1708924\n",
              "2015    1701371\n",
              "2014    1672343\n",
              "2013    1650917\n",
              "2012    1610829\n",
              "2011    1570551\n",
              "2010    1491225\n",
              "2009    1355434\n",
              "2008    1223460\n",
              "2007    1064483\n",
              "2006     908793\n",
              "2005     746653\n",
              "2004     597003\n",
              "2003     466408\n",
              "2002     350732\n",
              "2020     336500\n",
              "2001     257998\n",
              "2000     177729\n",
              "1999     118250\n",
              "1998      78345\n",
              "1997      49753\n",
              "1996      29945\n",
              "1995      20928\n",
              "1994      14316\n",
              "1993       8378\n",
              "1992       5134\n",
              "1991       1585\n",
              "Name: Year, dtype: int64"
            ]
          },
          "metadata": {},
          "execution_count": 8
        }
      ]
    },
    {
      "cell_type": "code",
      "source": [
        "import numpy as np \n",
        "import pandas as pd \n",
        "import os\n",
        "import lightgbm as lgb\n",
        "from sklearn.model_selection import train_test_split\n",
        "from sklearn.metrics import classification_report"
      ],
      "metadata": {
        "id": "JSaR70w1TnqE"
      },
      "execution_count": 9,
      "outputs": []
    },
    {
      "cell_type": "code",
      "source": [
        "df['Is Fraud?']=df['Is Fraud?'].replace({'No':0,'Yes':1}) "
      ],
      "metadata": {
        "id": "R0wC-1UlsntM"
      },
      "execution_count": 10,
      "outputs": []
    },
    {
      "cell_type": "code",
      "source": [
        "df.isnull().sum() "
      ],
      "metadata": {
        "id": "pHwU5iwwsolQ",
        "outputId": "a2186625-6ca5-4006-c211-2c436c4ff95a",
        "colab": {
          "base_uri": "https://localhost:8080/"
        }
      },
      "execution_count": 11,
      "outputs": [
        {
          "output_type": "execute_result",
          "data": {
            "text/plain": [
              "User                     0\n",
              "Card                     0\n",
              "Year                     0\n",
              "Month                    0\n",
              "Day                      0\n",
              "Time                     0\n",
              "Amount                   0\n",
              "Use Chip                 0\n",
              "Merchant Name            0\n",
              "Merchant City            0\n",
              "Merchant State     2720821\n",
              "Zip                2878135\n",
              "MCC                      0\n",
              "Errors?           23998469\n",
              "Is Fraud?                0\n",
              "dtype: int64"
            ]
          },
          "metadata": {},
          "execution_count": 11
        }
      ]
    },
    {
      "cell_type": "code",
      "source": [
        "df['Errors?']=df['Errors?'].fillna('NAN')\n",
        "df['Errors?']=df['Errors?'].apply(lambda value:value=='NAN')\n",
        "df['Errors?'].value_counts()"
      ],
      "metadata": {
        "id": "rrgFjCBCsxuj",
        "outputId": "dfc62a38-2c58-4cc7-a1d9-8b89e1a84822",
        "colab": {
          "base_uri": "https://localhost:8080/"
        }
      },
      "execution_count": 12,
      "outputs": [
        {
          "output_type": "execute_result",
          "data": {
            "text/plain": [
              "True     23998469\n",
              "False      388431\n",
              "Name: Errors?, dtype: int64"
            ]
          },
          "metadata": {},
          "execution_count": 12
        }
      ]
    },
    {
      "cell_type": "code",
      "source": [
        "df['Use Chip'].unique()\n",
        "df['is online']=df['Use Chip'].apply(lambda value:value=='Online Transaction')"
      ],
      "metadata": {
        "id": "aLf8fr5us1OV"
      },
      "execution_count": 13,
      "outputs": []
    },
    {
      "cell_type": "code",
      "source": [
        "from sklearn.preprocessing import LabelEncoder\n",
        "df['Use Chip']=df['Use Chip'].replace({'Swipe Transaction':0, 'Online Transaction':1, 'Chip Transaction':2})\n",
        "df['Zip'] = df['Zip'].fillna(df['Zip'].mean())  \n",
        "df['Amount'] = df['Amount'].apply(lambda value: float(value.split(\"$\")[1]))\n",
        "df['Hour'] = df['Time'].apply(lambda value: int(value.split(\":\")[0]))\n",
        "df['Minutes'] = df['Time'].apply(lambda value: int(value.split(\":\")[1]))\n",
        "df.drop(['Time'], axis=1, inplace=True)     \n",
        "df['Merchant State']=df['Merchant State'].fillna('NAN')    \n",
        "df['Merchant City']=df['Merchant City'].fillna('NAN') \n",
        "df['is vozmes']=df['Amount'].apply(lambda value: value<0)  \n",
        "df['abs_amount']=df['Amount'].apply(lambda value: abs(value))"
      ],
      "metadata": {
        "id": "Y5EEeXi_s8xx"
      },
      "execution_count": 14,
      "outputs": []
    },
    {
      "cell_type": "code",
      "source": [
        "#encoding categorial features\n",
        "le=LabelEncoder() \n",
        "df['Merchant State']=le.fit_transform(df['Merchant State'])\n",
        "le=LabelEncoder()\n",
        "df['Merchant City']=le.fit_transform(df['Merchant City'])"
      ],
      "metadata": {
        "id": "q8HGsnhdtDGt"
      },
      "execution_count": 15,
      "outputs": []
    },
    {
      "cell_type": "code",
      "source": [
        "y=df['Is Fraud?'] \n",
        "df.drop('Is Fraud?',axis=1,inplace=True)\n",
        "X=df"
      ],
      "metadata": {
        "id": "81ySMOyotS8D"
      },
      "execution_count": 16,
      "outputs": []
    },
    {
      "cell_type": "code",
      "source": [
        "random_state=42\n",
        "X_train, X_test, y_train, y_test = train_test_split(X, y, test_size = 0.3, random_state = 0, stratify=y)"
      ],
      "metadata": {
        "id": "km19iFSrtVo1"
      },
      "execution_count": 17,
      "outputs": []
    },
    {
      "cell_type": "code",
      "source": [
        "!pip install catboost"
      ],
      "metadata": {
        "id": "KKJUbIaVty1D",
        "outputId": "6ba42fa4-4cbc-420c-b7d3-3a7c9386ee73",
        "colab": {
          "base_uri": "https://localhost:8080/"
        }
      },
      "execution_count": 19,
      "outputs": [
        {
          "output_type": "stream",
          "name": "stdout",
          "text": [
            "Looking in indexes: https://pypi.org/simple, https://us-python.pkg.dev/colab-wheels/public/simple/\n",
            "Collecting catboost\n",
            "  Downloading catboost-1.0.6-cp37-none-manylinux1_x86_64.whl (76.6 MB)\n",
            "\u001b[K     |████████████████████████████████| 76.6 MB 1.7 MB/s \n",
            "\u001b[?25hRequirement already satisfied: six in /usr/local/lib/python3.7/dist-packages (from catboost) (1.15.0)\n",
            "Requirement already satisfied: plotly in /usr/local/lib/python3.7/dist-packages (from catboost) (5.5.0)\n",
            "Requirement already satisfied: scipy in /usr/local/lib/python3.7/dist-packages (from catboost) (1.4.1)\n",
            "Requirement already satisfied: matplotlib in /usr/local/lib/python3.7/dist-packages (from catboost) (3.2.2)\n",
            "Requirement already satisfied: pandas>=0.24.0 in /usr/local/lib/python3.7/dist-packages (from catboost) (1.3.5)\n",
            "Requirement already satisfied: graphviz in /usr/local/lib/python3.7/dist-packages (from catboost) (0.10.1)\n",
            "Requirement already satisfied: numpy>=1.16.0 in /usr/local/lib/python3.7/dist-packages (from catboost) (1.21.6)\n",
            "Requirement already satisfied: pytz>=2017.3 in /usr/local/lib/python3.7/dist-packages (from pandas>=0.24.0->catboost) (2022.1)\n",
            "Requirement already satisfied: python-dateutil>=2.7.3 in /usr/local/lib/python3.7/dist-packages (from pandas>=0.24.0->catboost) (2.8.2)\n",
            "Requirement already satisfied: cycler>=0.10 in /usr/local/lib/python3.7/dist-packages (from matplotlib->catboost) (0.11.0)\n",
            "Requirement already satisfied: pyparsing!=2.0.4,!=2.1.2,!=2.1.6,>=2.0.1 in /usr/local/lib/python3.7/dist-packages (from matplotlib->catboost) (3.0.9)\n",
            "Requirement already satisfied: kiwisolver>=1.0.1 in /usr/local/lib/python3.7/dist-packages (from matplotlib->catboost) (1.4.3)\n",
            "Requirement already satisfied: typing-extensions in /usr/local/lib/python3.7/dist-packages (from kiwisolver>=1.0.1->matplotlib->catboost) (4.1.1)\n",
            "Requirement already satisfied: tenacity>=6.2.0 in /usr/local/lib/python3.7/dist-packages (from plotly->catboost) (8.0.1)\n",
            "Installing collected packages: catboost\n",
            "Successfully installed catboost-1.0.6\n"
          ]
        }
      ]
    },
    {
      "cell_type": "code",
      "source": [
        "#cat boost classifier\n",
        "\n",
        "from catboost import CatBoostClassifier\n",
        "cat = CatBoostClassifier()\n",
        "cat.fit(X_train, y_train,plot=True) \n",
        "y_pred=cat.predict(X_test)   \n",
        "print(classification_report(y_test, y_pred))    "
      ],
      "metadata": {
        "id": "Xov_vyRCtYan",
        "outputId": "b0de215e-7c2a-492d-85bb-f9d683e9f6bf",
        "colab": {
          "base_uri": "https://localhost:8080/",
          "height": 862,
          "referenced_widgets": [
            "28481f20a0ea40eaafab4d8e5ab0ca4d"
          ]
        }
      },
      "execution_count": null,
      "outputs": [
        {
          "output_type": "display_data",
          "data": {
            "text/plain": [
              "MetricVisualizer(layout=Layout(align_self='stretch', height='500px'))"
            ],
            "application/vnd.jupyter.widget-view+json": {
              "version_major": 2,
              "version_minor": 0,
              "model_id": "28481f20a0ea40eaafab4d8e5ab0ca4d"
            }
          },
          "metadata": {}
        },
        {
          "output_type": "stream",
          "name": "stdout",
          "text": [
            "Learning rate set to 0.5\n",
            "0:\tlearn: 0.0348157\ttotal: 1.81s\tremaining: 30m 12s\n",
            "1:\tlearn: 0.0100271\ttotal: 3.37s\tremaining: 28m 1s\n",
            "2:\tlearn: 0.0069894\ttotal: 4.93s\tremaining: 27m 17s\n",
            "3:\tlearn: 0.0059423\ttotal: 6.5s\tremaining: 26m 57s\n",
            "4:\tlearn: 0.0053043\ttotal: 8.28s\tremaining: 27m 26s\n",
            "5:\tlearn: 0.0049952\ttotal: 9.77s\tremaining: 26m 58s\n",
            "6:\tlearn: 0.0047951\ttotal: 11.4s\tremaining: 27m 2s\n",
            "7:\tlearn: 0.0045044\ttotal: 12.9s\tremaining: 26m 37s\n",
            "8:\tlearn: 0.0043760\ttotal: 14.4s\tremaining: 26m 31s\n",
            "9:\tlearn: 0.0042269\ttotal: 15.9s\tremaining: 26m 12s\n",
            "10:\tlearn: 0.0041850\ttotal: 17.4s\tremaining: 26m 8s\n",
            "11:\tlearn: 0.0037955\ttotal: 19s\tremaining: 26m 4s\n",
            "12:\tlearn: 0.0036762\ttotal: 20.6s\tremaining: 26m 6s\n",
            "13:\tlearn: 0.0036094\ttotal: 22.3s\tremaining: 26m 9s\n",
            "14:\tlearn: 0.0035534\ttotal: 23.9s\tremaining: 26m 9s\n",
            "15:\tlearn: 0.0034793\ttotal: 25.5s\tremaining: 26m 7s\n",
            "16:\tlearn: 0.0034358\ttotal: 27.1s\tremaining: 26m 5s\n",
            "17:\tlearn: 0.0033566\ttotal: 28.6s\tremaining: 26m 2s\n",
            "18:\tlearn: 0.0030931\ttotal: 30.2s\tremaining: 26m\n",
            "19:\tlearn: 0.0030730\ttotal: 31.7s\tremaining: 25m 54s\n",
            "20:\tlearn: 0.0030273\ttotal: 33.4s\tremaining: 25m 55s\n",
            "21:\tlearn: 0.0030116\ttotal: 34.9s\tremaining: 25m 51s\n",
            "22:\tlearn: 0.0029909\ttotal: 36.5s\tremaining: 25m 51s\n",
            "23:\tlearn: 0.0029436\ttotal: 38.1s\tremaining: 25m 49s\n",
            "24:\tlearn: 0.0029154\ttotal: 39.8s\tremaining: 25m 50s\n",
            "25:\tlearn: 0.0028976\ttotal: 41.3s\tremaining: 25m 48s\n",
            "26:\tlearn: 0.0028657\ttotal: 42.9s\tremaining: 25m 47s\n",
            "27:\tlearn: 0.0028150\ttotal: 44.5s\tremaining: 25m 45s\n",
            "28:\tlearn: 0.0027269\ttotal: 46.2s\tremaining: 25m 46s\n",
            "29:\tlearn: 0.0026238\ttotal: 47.9s\tremaining: 25m 47s\n",
            "30:\tlearn: 0.0026123\ttotal: 49.4s\tremaining: 25m 44s\n",
            "31:\tlearn: 0.0025984\ttotal: 50.9s\tremaining: 25m 39s\n",
            "32:\tlearn: 0.0025921\ttotal: 52.5s\tremaining: 25m 37s\n",
            "33:\tlearn: 0.0025585\ttotal: 54.1s\tremaining: 25m 38s\n",
            "34:\tlearn: 0.0025490\ttotal: 55.8s\tremaining: 25m 38s\n",
            "35:\tlearn: 0.0025162\ttotal: 57.4s\tremaining: 25m 38s\n",
            "36:\tlearn: 0.0025086\ttotal: 59s\tremaining: 25m 35s\n",
            "37:\tlearn: 0.0024864\ttotal: 1m\tremaining: 25m 35s\n",
            "38:\tlearn: 0.0024608\ttotal: 1m 2s\tremaining: 25m 36s\n",
            "39:\tlearn: 0.0024419\ttotal: 1m 4s\tremaining: 25m 36s\n",
            "40:\tlearn: 0.0024383\ttotal: 1m 5s\tremaining: 25m 32s\n",
            "41:\tlearn: 0.0024209\ttotal: 1m 7s\tremaining: 25m 32s\n",
            "42:\tlearn: 0.0024182\ttotal: 1m 8s\tremaining: 25m 30s\n",
            "43:\tlearn: 0.0024105\ttotal: 1m 10s\tremaining: 25m 29s\n",
            "44:\tlearn: 0.0024006\ttotal: 1m 11s\tremaining: 25m 25s\n"
          ]
        }
      ]
    },
    {
      "cell_type": "markdown",
      "source": [
        "### Change datatypes\n",
        "Inorder to use the categorical feature attrribute in LightGBM, the object types need to be converted to the category datatype."
      ],
      "metadata": {
        "id": "GF5ts4jsTxA8"
      }
    },
    {
      "cell_type": "code",
      "source": [
        "for col in df.columns:\n",
        "    col_type = df[col].dtype\n",
        "    if col_type == 'object' or col_type.name == 'category':\n",
        "        df[col] = df[col].astype('category')"
      ],
      "metadata": {
        "id": "dsoLCJP6Tq_d"
      },
      "execution_count": null,
      "outputs": []
    },
    {
      "cell_type": "code",
      "source": [
        "y = df['Is Fraud?']\n",
        "X = df.drop(['Is Fraud?','Year','Zip','Merchant City','Merchant Name'],axis=1)"
      ],
      "metadata": {
        "id": "UVEgXZPNT685"
      },
      "execution_count": null,
      "outputs": []
    },
    {
      "cell_type": "code",
      "source": [
        "X"
      ],
      "metadata": {
        "id": "FeZJ5rYwsMtn",
        "outputId": "01926332-3591-4e35-ea87-c4f8f1622c5a",
        "colab": {
          "base_uri": "https://localhost:8080/",
          "height": 424
        }
      },
      "execution_count": null,
      "outputs": [
        {
          "output_type": "execute_result",
          "data": {
            "text/plain": [
              "          User  Card  Month  Day   Time   Amount           Use Chip  \\\n",
              "0            0     0      9    1  06:21  $134.09  Swipe Transaction   \n",
              "1            0     0      9    1  06:42   $38.48  Swipe Transaction   \n",
              "2            0     0      9    2  06:22  $120.34  Swipe Transaction   \n",
              "3            0     0      9    2  17:45  $128.95  Swipe Transaction   \n",
              "4            0     0      9    3  06:23  $104.71  Swipe Transaction   \n",
              "...        ...   ...    ...  ...    ...      ...                ...   \n",
              "24386895  1999     1      2   27  22:23  $-54.00   Chip Transaction   \n",
              "24386896  1999     1      2   27  22:24   $54.00   Chip Transaction   \n",
              "24386897  1999     1      2   28  07:43   $59.15   Chip Transaction   \n",
              "24386898  1999     1      2   28  20:10   $43.12   Chip Transaction   \n",
              "24386899  1999     1      2   28  23:10   $45.13   Chip Transaction   \n",
              "\n",
              "         Merchant State   MCC Errors?  \n",
              "0                    CA  5300     NaN  \n",
              "1                    CA  5411     NaN  \n",
              "2                    CA  5411     NaN  \n",
              "3                    CA  5651     NaN  \n",
              "4                    CA  5912     NaN  \n",
              "...                 ...   ...     ...  \n",
              "24386895             NH  5541     NaN  \n",
              "24386896             NH  5541     NaN  \n",
              "24386897             NH  4121     NaN  \n",
              "24386898             NH  4121     NaN  \n",
              "24386899             NH  5814     NaN  \n",
              "\n",
              "[24386900 rows x 10 columns]"
            ],
            "text/html": [
              "\n",
              "  <div id=\"df-273446f7-c446-48b2-86cd-0b6dbbafb866\">\n",
              "    <div class=\"colab-df-container\">\n",
              "      <div>\n",
              "<style scoped>\n",
              "    .dataframe tbody tr th:only-of-type {\n",
              "        vertical-align: middle;\n",
              "    }\n",
              "\n",
              "    .dataframe tbody tr th {\n",
              "        vertical-align: top;\n",
              "    }\n",
              "\n",
              "    .dataframe thead th {\n",
              "        text-align: right;\n",
              "    }\n",
              "</style>\n",
              "<table border=\"1\" class=\"dataframe\">\n",
              "  <thead>\n",
              "    <tr style=\"text-align: right;\">\n",
              "      <th></th>\n",
              "      <th>User</th>\n",
              "      <th>Card</th>\n",
              "      <th>Month</th>\n",
              "      <th>Day</th>\n",
              "      <th>Time</th>\n",
              "      <th>Amount</th>\n",
              "      <th>Use Chip</th>\n",
              "      <th>Merchant State</th>\n",
              "      <th>MCC</th>\n",
              "      <th>Errors?</th>\n",
              "    </tr>\n",
              "  </thead>\n",
              "  <tbody>\n",
              "    <tr>\n",
              "      <th>0</th>\n",
              "      <td>0</td>\n",
              "      <td>0</td>\n",
              "      <td>9</td>\n",
              "      <td>1</td>\n",
              "      <td>06:21</td>\n",
              "      <td>$134.09</td>\n",
              "      <td>Swipe Transaction</td>\n",
              "      <td>CA</td>\n",
              "      <td>5300</td>\n",
              "      <td>NaN</td>\n",
              "    </tr>\n",
              "    <tr>\n",
              "      <th>1</th>\n",
              "      <td>0</td>\n",
              "      <td>0</td>\n",
              "      <td>9</td>\n",
              "      <td>1</td>\n",
              "      <td>06:42</td>\n",
              "      <td>$38.48</td>\n",
              "      <td>Swipe Transaction</td>\n",
              "      <td>CA</td>\n",
              "      <td>5411</td>\n",
              "      <td>NaN</td>\n",
              "    </tr>\n",
              "    <tr>\n",
              "      <th>2</th>\n",
              "      <td>0</td>\n",
              "      <td>0</td>\n",
              "      <td>9</td>\n",
              "      <td>2</td>\n",
              "      <td>06:22</td>\n",
              "      <td>$120.34</td>\n",
              "      <td>Swipe Transaction</td>\n",
              "      <td>CA</td>\n",
              "      <td>5411</td>\n",
              "      <td>NaN</td>\n",
              "    </tr>\n",
              "    <tr>\n",
              "      <th>3</th>\n",
              "      <td>0</td>\n",
              "      <td>0</td>\n",
              "      <td>9</td>\n",
              "      <td>2</td>\n",
              "      <td>17:45</td>\n",
              "      <td>$128.95</td>\n",
              "      <td>Swipe Transaction</td>\n",
              "      <td>CA</td>\n",
              "      <td>5651</td>\n",
              "      <td>NaN</td>\n",
              "    </tr>\n",
              "    <tr>\n",
              "      <th>4</th>\n",
              "      <td>0</td>\n",
              "      <td>0</td>\n",
              "      <td>9</td>\n",
              "      <td>3</td>\n",
              "      <td>06:23</td>\n",
              "      <td>$104.71</td>\n",
              "      <td>Swipe Transaction</td>\n",
              "      <td>CA</td>\n",
              "      <td>5912</td>\n",
              "      <td>NaN</td>\n",
              "    </tr>\n",
              "    <tr>\n",
              "      <th>...</th>\n",
              "      <td>...</td>\n",
              "      <td>...</td>\n",
              "      <td>...</td>\n",
              "      <td>...</td>\n",
              "      <td>...</td>\n",
              "      <td>...</td>\n",
              "      <td>...</td>\n",
              "      <td>...</td>\n",
              "      <td>...</td>\n",
              "      <td>...</td>\n",
              "    </tr>\n",
              "    <tr>\n",
              "      <th>24386895</th>\n",
              "      <td>1999</td>\n",
              "      <td>1</td>\n",
              "      <td>2</td>\n",
              "      <td>27</td>\n",
              "      <td>22:23</td>\n",
              "      <td>$-54.00</td>\n",
              "      <td>Chip Transaction</td>\n",
              "      <td>NH</td>\n",
              "      <td>5541</td>\n",
              "      <td>NaN</td>\n",
              "    </tr>\n",
              "    <tr>\n",
              "      <th>24386896</th>\n",
              "      <td>1999</td>\n",
              "      <td>1</td>\n",
              "      <td>2</td>\n",
              "      <td>27</td>\n",
              "      <td>22:24</td>\n",
              "      <td>$54.00</td>\n",
              "      <td>Chip Transaction</td>\n",
              "      <td>NH</td>\n",
              "      <td>5541</td>\n",
              "      <td>NaN</td>\n",
              "    </tr>\n",
              "    <tr>\n",
              "      <th>24386897</th>\n",
              "      <td>1999</td>\n",
              "      <td>1</td>\n",
              "      <td>2</td>\n",
              "      <td>28</td>\n",
              "      <td>07:43</td>\n",
              "      <td>$59.15</td>\n",
              "      <td>Chip Transaction</td>\n",
              "      <td>NH</td>\n",
              "      <td>4121</td>\n",
              "      <td>NaN</td>\n",
              "    </tr>\n",
              "    <tr>\n",
              "      <th>24386898</th>\n",
              "      <td>1999</td>\n",
              "      <td>1</td>\n",
              "      <td>2</td>\n",
              "      <td>28</td>\n",
              "      <td>20:10</td>\n",
              "      <td>$43.12</td>\n",
              "      <td>Chip Transaction</td>\n",
              "      <td>NH</td>\n",
              "      <td>4121</td>\n",
              "      <td>NaN</td>\n",
              "    </tr>\n",
              "    <tr>\n",
              "      <th>24386899</th>\n",
              "      <td>1999</td>\n",
              "      <td>1</td>\n",
              "      <td>2</td>\n",
              "      <td>28</td>\n",
              "      <td>23:10</td>\n",
              "      <td>$45.13</td>\n",
              "      <td>Chip Transaction</td>\n",
              "      <td>NH</td>\n",
              "      <td>5814</td>\n",
              "      <td>NaN</td>\n",
              "    </tr>\n",
              "  </tbody>\n",
              "</table>\n",
              "<p>24386900 rows × 10 columns</p>\n",
              "</div>\n",
              "      <button class=\"colab-df-convert\" onclick=\"convertToInteractive('df-273446f7-c446-48b2-86cd-0b6dbbafb866')\"\n",
              "              title=\"Convert this dataframe to an interactive table.\"\n",
              "              style=\"display:none;\">\n",
              "        \n",
              "  <svg xmlns=\"http://www.w3.org/2000/svg\" height=\"24px\"viewBox=\"0 0 24 24\"\n",
              "       width=\"24px\">\n",
              "    <path d=\"M0 0h24v24H0V0z\" fill=\"none\"/>\n",
              "    <path d=\"M18.56 5.44l.94 2.06.94-2.06 2.06-.94-2.06-.94-.94-2.06-.94 2.06-2.06.94zm-11 1L8.5 8.5l.94-2.06 2.06-.94-2.06-.94L8.5 2.5l-.94 2.06-2.06.94zm10 10l.94 2.06.94-2.06 2.06-.94-2.06-.94-.94-2.06-.94 2.06-2.06.94z\"/><path d=\"M17.41 7.96l-1.37-1.37c-.4-.4-.92-.59-1.43-.59-.52 0-1.04.2-1.43.59L10.3 9.45l-7.72 7.72c-.78.78-.78 2.05 0 2.83L4 21.41c.39.39.9.59 1.41.59.51 0 1.02-.2 1.41-.59l7.78-7.78 2.81-2.81c.8-.78.8-2.07 0-2.86zM5.41 20L4 18.59l7.72-7.72 1.47 1.35L5.41 20z\"/>\n",
              "  </svg>\n",
              "      </button>\n",
              "      \n",
              "  <style>\n",
              "    .colab-df-container {\n",
              "      display:flex;\n",
              "      flex-wrap:wrap;\n",
              "      gap: 12px;\n",
              "    }\n",
              "\n",
              "    .colab-df-convert {\n",
              "      background-color: #E8F0FE;\n",
              "      border: none;\n",
              "      border-radius: 50%;\n",
              "      cursor: pointer;\n",
              "      display: none;\n",
              "      fill: #1967D2;\n",
              "      height: 32px;\n",
              "      padding: 0 0 0 0;\n",
              "      width: 32px;\n",
              "    }\n",
              "\n",
              "    .colab-df-convert:hover {\n",
              "      background-color: #E2EBFA;\n",
              "      box-shadow: 0px 1px 2px rgba(60, 64, 67, 0.3), 0px 1px 3px 1px rgba(60, 64, 67, 0.15);\n",
              "      fill: #174EA6;\n",
              "    }\n",
              "\n",
              "    [theme=dark] .colab-df-convert {\n",
              "      background-color: #3B4455;\n",
              "      fill: #D2E3FC;\n",
              "    }\n",
              "\n",
              "    [theme=dark] .colab-df-convert:hover {\n",
              "      background-color: #434B5C;\n",
              "      box-shadow: 0px 1px 3px 1px rgba(0, 0, 0, 0.15);\n",
              "      filter: drop-shadow(0px 1px 2px rgba(0, 0, 0, 0.3));\n",
              "      fill: #FFFFFF;\n",
              "    }\n",
              "  </style>\n",
              "\n",
              "      <script>\n",
              "        const buttonEl =\n",
              "          document.querySelector('#df-273446f7-c446-48b2-86cd-0b6dbbafb866 button.colab-df-convert');\n",
              "        buttonEl.style.display =\n",
              "          google.colab.kernel.accessAllowed ? 'block' : 'none';\n",
              "\n",
              "        async function convertToInteractive(key) {\n",
              "          const element = document.querySelector('#df-273446f7-c446-48b2-86cd-0b6dbbafb866');\n",
              "          const dataTable =\n",
              "            await google.colab.kernel.invokeFunction('convertToInteractive',\n",
              "                                                     [key], {});\n",
              "          if (!dataTable) return;\n",
              "\n",
              "          const docLinkHtml = 'Like what you see? Visit the ' +\n",
              "            '<a target=\"_blank\" href=https://colab.research.google.com/notebooks/data_table.ipynb>data table notebook</a>'\n",
              "            + ' to learn more about interactive tables.';\n",
              "          element.innerHTML = '';\n",
              "          dataTable['output_type'] = 'display_data';\n",
              "          await google.colab.output.renderOutput(dataTable, element);\n",
              "          const docLink = document.createElement('div');\n",
              "          docLink.innerHTML = docLinkHtml;\n",
              "          element.appendChild(docLink);\n",
              "        }\n",
              "      </script>\n",
              "    </div>\n",
              "  </div>\n",
              "  "
            ]
          },
          "metadata": {},
          "execution_count": 51
        }
      ]
    },
    {
      "cell_type": "code",
      "source": [
        "X_train, X_test, y_train, y_test = train_test_split(X, y, test_size = 0.3, random_state = 0, stratify=y)"
      ],
      "metadata": {
        "id": "atuRRorQUAm2"
      },
      "execution_count": null,
      "outputs": []
    },
    {
      "cell_type": "code",
      "source": [
        "# Undersampling the normal transactions data\n",
        "from imblearn.under_sampling import RandomUnderSampler\n",
        "\n",
        "# Reducing the majority class equal to minority class \n",
        "rus = RandomUnderSampler(sampling_strategy=1)\n",
        "\n",
        "X_res, Y_res = rus.fit_resample(X_train, y_train)\n",
        "\n",
        "print(X_res.shape, Y_res.shape)\n",
        "print(pd.value_counts(Y_res))"
      ],
      "metadata": {
        "id": "14lZ1hI_iC3m",
        "outputId": "77f7ab46-a3bd-4e1a-cc65-56ef28ec560d",
        "colab": {
          "base_uri": "https://localhost:8080/"
        }
      },
      "execution_count": null,
      "outputs": [
        {
          "output_type": "stream",
          "name": "stdout",
          "text": [
            "(41660, 10) (41660,)\n",
            "No     20830\n",
            "Yes    20830\n",
            "Name: Is Fraud?, dtype: int64\n"
          ]
        }
      ]
    },
    {
      "cell_type": "markdown",
      "source": [
        "###Train a LightGBM Model\n",
        "Initialize and train a model"
      ],
      "metadata": {
        "id": "n6J1jd_tUDpp"
      }
    },
    {
      "cell_type": "code",
      "source": [
        "model = lgb.LGBMClassifier()\n",
        "model.fit(X_res, Y_res, feature_name='auto', categorical_feature = 'auto', verbose=50)"
      ],
      "metadata": {
        "id": "lX9BtMDHUFr7",
        "outputId": "737c3046-35bc-46b0-9883-1aa7ccd75216",
        "colab": {
          "base_uri": "https://localhost:8080/"
        }
      },
      "execution_count": null,
      "outputs": [
        {
          "output_type": "execute_result",
          "data": {
            "text/plain": [
              "LGBMClassifier()"
            ]
          },
          "metadata": {},
          "execution_count": 41
        }
      ]
    },
    {
      "cell_type": "code",
      "source": [
        "y_pred=model.predict(X_test)\n",
        "print(classification_report(y_test, y_pred))"
      ],
      "metadata": {
        "id": "lhOxXtjPUOzG",
        "outputId": "4e1c6304-6bcc-4384-e54f-22b167df100b",
        "colab": {
          "base_uri": "https://localhost:8080/"
        }
      },
      "execution_count": null,
      "outputs": [
        {
          "output_type": "stream",
          "name": "stdout",
          "text": [
            "              precision    recall  f1-score   support\n",
            "\n",
            "          No       1.00      0.94      0.97   7307143\n",
            "         Yes       0.02      0.89      0.03      8927\n",
            "\n",
            "    accuracy                           0.94   7316070\n",
            "   macro avg       0.51      0.91      0.50   7316070\n",
            "weighted avg       1.00      0.94      0.97   7316070\n",
            "\n"
          ]
        }
      ]
    },
    {
      "cell_type": "code",
      "source": [
        "X_train = df[df['Year']==2007].drop(['Is Fraud?'],axis=1)\n",
        "y_train = df[df['Year']==2007]['Is Fraud?']"
      ],
      "metadata": {
        "id": "H2j9mB0oY5yG"
      },
      "execution_count": null,
      "outputs": []
    },
    {
      "cell_type": "code",
      "source": [
        "y_train.value_counts()"
      ],
      "metadata": {
        "id": "jgpHkH55ZSkx",
        "outputId": "126960aa-6d0b-40d2-8299-e9b83157d5be",
        "colab": {
          "base_uri": "https://localhost:8080/"
        }
      },
      "execution_count": null,
      "outputs": [
        {
          "output_type": "execute_result",
          "data": {
            "text/plain": [
              "No     1062602\n",
              "Yes       1881\n",
              "Name: Is Fraud?, dtype: int64"
            ]
          },
          "metadata": {},
          "execution_count": 49
        }
      ]
    },
    {
      "cell_type": "code",
      "source": [
        "model = lgb.LGBMClassifier()\n",
        "model.fit(X_train, y_train, feature_name='auto', categorical_feature = 'auto', verbose=50)"
      ],
      "metadata": {
        "id": "o5Mbx5kPZrza",
        "outputId": "48a8c594-6ed5-4908-af0c-3bb1ea0c9654",
        "colab": {
          "base_uri": "https://localhost:8080/"
        }
      },
      "execution_count": null,
      "outputs": [
        {
          "output_type": "execute_result",
          "data": {
            "text/plain": [
              "LGBMClassifier()"
            ]
          },
          "metadata": {},
          "execution_count": 20
        }
      ]
    },
    {
      "cell_type": "code",
      "source": [
        "from sklearn.ensemble import RandomForestClassifier\n",
        "\n",
        "model = RandomForestClassifier(n_estimators=120,max_depth=20)\n",
        "model.fit(train_x,train_y)"
      ],
      "metadata": {
        "id": "Sy5GZnA_sEAz"
      },
      "execution_count": null,
      "outputs": []
    },
    {
      "cell_type": "code",
      "source": [
        "X_test = df[df['Year']==2008].drop(['Is Fraud?'],axis=1)\n",
        "y_test = df[df['Year']==2008]['Is Fraud?']"
      ],
      "metadata": {
        "id": "pg1RtveKZtWD"
      },
      "execution_count": null,
      "outputs": []
    },
    {
      "cell_type": "code",
      "source": [
        "y_pred=model.predict(X_test)\n",
        "print(classification_report(y_test, y_pred))"
      ],
      "metadata": {
        "id": "srehihnRZ437",
        "outputId": "47cff587-d953-4b0b-dd53-84148f01052c",
        "colab": {
          "base_uri": "https://localhost:8080/"
        }
      },
      "execution_count": null,
      "outputs": [
        {
          "output_type": "stream",
          "name": "stdout",
          "text": [
            "              precision    recall  f1-score   support\n",
            "\n",
            "          No       1.00      1.00      1.00   1219750\n",
            "         Yes       0.38      0.37      0.38      3710\n",
            "\n",
            "    accuracy                           1.00   1223460\n",
            "   macro avg       0.69      0.69      0.69   1223460\n",
            "weighted avg       1.00      1.00      1.00   1223460\n",
            "\n"
          ]
        }
      ]
    },
    {
      "cell_type": "code",
      "source": [
        "from sklearn.metrics import f1_score\n",
        "from sklearn.metrics import precision_recall_fscore_support\n",
        "\n",
        "f1 = precision_recall_fscore_support([1 if m=='No' else 0 for m in y_test], [1 if m=='No' else 0 for m in y_pred],average='binary')\n",
        "f1"
      ],
      "metadata": {
        "id": "L29mJNBhaLYT",
        "outputId": "993d3844-6735-47ef-e592-323eb54722f5",
        "colab": {
          "base_uri": "https://localhost:8080/"
        }
      },
      "execution_count": null,
      "outputs": [
        {
          "output_type": "execute_result",
          "data": {
            "text/plain": [
              "(0.998097280529384, 0.9981651977864316, 0.9981312380025603, None)"
            ]
          },
          "metadata": {},
          "execution_count": 27
        }
      ]
    },
    {
      "cell_type": "code",
      "source": [
        "X_test = df[df['Year'] >= 2008].drop(['Is Fraud?'],axis=1)\n",
        "y_test = df[df['Year'] >= 2008]['Is Fraud?']"
      ],
      "metadata": {
        "id": "o-vKJ3HIaikv"
      },
      "execution_count": null,
      "outputs": []
    },
    {
      "cell_type": "code",
      "source": [
        "y_test.value_counts()"
      ],
      "metadata": {
        "id": "2Dt64FxXbRPO",
        "outputId": "62a5bab2-acf8-4eeb-8b3b-6bee92d4daef",
        "colab": {
          "base_uri": "https://localhost:8080/"
        }
      },
      "execution_count": null,
      "outputs": [
        {
          "output_type": "execute_result",
          "data": {
            "text/plain": [
              "No     19465631\n",
              "Yes       24836\n",
              "Name: Is Fraud?, dtype: int64"
            ]
          },
          "metadata": {},
          "execution_count": 33
        }
      ]
    },
    {
      "cell_type": "code",
      "source": [
        "import math\n",
        "f1s = []\n",
        "batch_size = 200000\n",
        "batch = math.ceil(X_test.shape[0]/batch_size)\n",
        "for i in range(batch):\n",
        "    ux = X_test[i*batch_size:(i+1)*batch_size]\n",
        "    uy = y_test[i*batch_size:(i+1)*batch_size]\n",
        "    y_pred=model.predict(ux)\n",
        "    ppy = [1 if m=='No' else 0 for m in y_pred]   \n",
        "    f1 = precision_recall_fscore_support([1 if m=='No' else 0 for m in uy], ppy,average='binary')\n",
        "    print(\"p:\",f1[2],uy.value_counts())\n",
        "    f1s.append(f1[2])"
      ],
      "metadata": {
        "id": "0yjdqp6haIiA",
        "outputId": "a5f52d0e-1c38-4cb6-db34-51958d8366cb",
        "colab": {
          "base_uri": "https://localhost:8080/"
        }
      },
      "execution_count": null,
      "outputs": [
        {
          "output_type": "stream",
          "name": "stdout",
          "text": [
            "p: 0.9682434334382675 No     199745\n",
            "Yes       255\n",
            "Name: Is Fraud?, dtype: int64\n",
            "p: 0.9685271273808572 No     199773\n",
            "Yes       227\n",
            "Name: Is Fraud?, dtype: int64\n",
            "p: 0.9684692592057166 No     199761\n",
            "Yes       239\n",
            "Name: Is Fraud?, dtype: int64\n",
            "p: 0.9683741510120737 No     199774\n",
            "Yes       226\n",
            "Name: Is Fraud?, dtype: int64\n",
            "p: 0.9683174503177033 No     199759\n",
            "Yes       241\n",
            "Name: Is Fraud?, dtype: int64\n",
            "p: 0.9686654690371471 No     199750\n",
            "Yes       250\n",
            "Name: Is Fraud?, dtype: int64\n",
            "p: 0.9679658867558066 No     199760\n",
            "Yes       240\n",
            "Name: Is Fraud?, dtype: int64\n",
            "p: 0.9682117495158167 No     199757\n",
            "Yes       243\n",
            "Name: Is Fraud?, dtype: int64\n",
            "p: 0.9682860963809387 No     199783\n",
            "Yes       217\n",
            "Name: Is Fraud?, dtype: int64\n",
            "p: 0.9689770237453127 No     199722\n",
            "Yes       278\n",
            "Name: Is Fraud?, dtype: int64\n",
            "p: 0.9681631303844803 No     199749\n",
            "Yes       251\n",
            "Name: Is Fraud?, dtype: int64\n",
            "p: 0.9683967549870643 No     199739\n",
            "Yes       261\n",
            "Name: Is Fraud?, dtype: int64\n",
            "p: 0.968679737212334 No     199727\n",
            "Yes       273\n",
            "Name: Is Fraud?, dtype: int64\n",
            "p: 0.9682636817847322 No     199758\n",
            "Yes       242\n",
            "Name: Is Fraud?, dtype: int64\n",
            "p: 0.9684992010573407 No     199766\n",
            "Yes       234\n",
            "Name: Is Fraud?, dtype: int64\n",
            "p: 0.968929192623522 No     199753\n",
            "Yes       247\n",
            "Name: Is Fraud?, dtype: int64\n",
            "p: 0.968615838971915 No     199730\n",
            "Yes       270\n",
            "Name: Is Fraud?, dtype: int64\n",
            "p: 0.9691497211143044 No     199768\n",
            "Yes       232\n",
            "Name: Is Fraud?, dtype: int64\n",
            "p: 0.9680981563404687 No     199757\n",
            "Yes       243\n",
            "Name: Is Fraud?, dtype: int64\n",
            "p: 0.9683429905287184 No     199750\n",
            "Yes       250\n",
            "Name: Is Fraud?, dtype: int64\n",
            "p: 0.9686524097847015 No     199783\n",
            "Yes       217\n",
            "Name: Is Fraud?, dtype: int64\n",
            "p: 0.9680422143416149 No     199743\n",
            "Yes       257\n",
            "Name: Is Fraud?, dtype: int64\n",
            "p: 0.9685551800958756 No     199754\n",
            "Yes       246\n",
            "Name: Is Fraud?, dtype: int64\n",
            "p: 0.9678215967534866 No     199761\n",
            "Yes       239\n",
            "Name: Is Fraud?, dtype: int64\n",
            "p: 0.9683237352477855 No     199712\n",
            "Yes       288\n",
            "Name: Is Fraud?, dtype: int64\n",
            "p: 0.9681371093316254 No     199772\n",
            "Yes       228\n",
            "Name: Is Fraud?, dtype: int64\n",
            "p: 0.96827319088503 No     199743\n",
            "Yes       257\n",
            "Name: Is Fraud?, dtype: int64\n",
            "p: 0.96822941548632 No     199746\n",
            "Yes       254\n",
            "Name: Is Fraud?, dtype: int64\n",
            "p: 0.9681472739902545 No     199764\n",
            "Yes       236\n",
            "Name: Is Fraud?, dtype: int64\n",
            "p: 0.9684697475824396 No     199770\n",
            "Yes       230\n",
            "Name: Is Fraud?, dtype: int64\n",
            "p: 0.9683697919894239 No     199747\n",
            "Yes       253\n",
            "Name: Is Fraud?, dtype: int64\n",
            "p: 0.9687278996897568 No     199756\n",
            "Yes       244\n",
            "Name: Is Fraud?, dtype: int64\n",
            "p: 0.9687646770405924 No     199786\n",
            "Yes       214\n",
            "Name: Is Fraud?, dtype: int64\n",
            "p: 0.9681657950803796 No     199751\n",
            "Yes       249\n",
            "Name: Is Fraud?, dtype: int64\n",
            "p: 0.968268682074865 No     199760\n",
            "Yes       240\n",
            "Name: Is Fraud?, dtype: int64\n",
            "p: 0.9685103395225053 No     199773\n",
            "Yes       227\n",
            "Name: Is Fraud?, dtype: int64\n",
            "p: 0.9686477159527536 No     115941\n",
            "Yes       129\n",
            "Name: Is Fraud?, dtype: int64\n"
          ]
        }
      ]
    },
    {
      "cell_type": "code",
      "source": [
        "plt.figure(figsize=(20,5))\n",
        "plt.plot(f1s)"
      ],
      "metadata": {
        "id": "7mTz6St1cdES",
        "outputId": "c87edf87-7fb6-43a5-f093-623dda271a54",
        "colab": {
          "base_uri": "https://localhost:8080/",
          "height": 288
        }
      },
      "execution_count": null,
      "outputs": [
        {
          "output_type": "execute_result",
          "data": {
            "text/plain": [
              "[<matplotlib.lines.Line2D at 0x7f621cae6c10>]"
            ]
          },
          "metadata": {},
          "execution_count": 47
        },
        {
          "output_type": "display_data",
          "data": {
            "text/plain": [
              "<Figure size 1440x360 with 1 Axes>"
            ],
            "image/png": "[encoded data removed]"
          },
          "metadata": {
            "needs_background": "light"
          }
        }
      ]
    }
  ]
}