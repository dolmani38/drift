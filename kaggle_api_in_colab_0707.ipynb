{
  "nbformat": 4,
  "nbformat_minor": 0,
  "metadata": {
    "colab": {
      "name": "How to use the Kaggle API from Colab",
      "provenance": [],
      "collapsed_sections": [],
      "toc_visible": true,
      "machine_shape": "hm",
      "include_colab_link": true
    },
    "kernelspec": {
      "name": "python3",
      "display_name": "Python 3"
    },
    "accelerator": "GPU",
    "gpuClass": "standard",
    "widgets": {
      "application/vnd.jupyter.widget-state+json": {
        "14748f73cc2c47678b6fb60e3a9b08db": {
          "model_module": "catboost-widget",
          "model_name": "CatboostWidgetModel",
          "model_module_version": "^1.0.0",
          "state": {
            "_dom_classes": [],
            "_model_module": "catboost-widget",
            "_model_module_version": "^1.0.0",
            "_model_name": "CatboostWidgetModel",
            "_view_count": null,
            "_view_module": "catboost-widget",
            "_view_module_version": "^1.0.0",
            "_view_name": "CatboostWidgetView",
            "data": {
              "catboost_info": {
                "path": "catboost_info",
                "name": "catboost_info",
                "content": {
                  "passed_iterations": 999,
                  "total_iterations": 1000,
                  "data": {
                    "iterations": [
                      {
                        "learn": [
                          0.2810408935
                        ],
                        "iteration": 0,
                        "passed_time": 0.08356559631,
                        "remaining_time": 83.48203071
                      },
                      {
                        "learn": [
                          0.1240544711
                        ],
                        "iteration": 1,
                        "passed_time": 0.1587070307,
                        "remaining_time": 79.19480831
                      },
                      {
                        "learn": [
                          0.0630481804
                        ],
                        "iteration": 2,
                        "passed_time": 0.2352096174,
                        "remaining_time": 78.16799619
                      },
                      {
                        "learn": [
                          0.03287048884
                        ],
                        "iteration": 3,
                        "passed_time": 0.3082038478,
                        "remaining_time": 76.74275811
                      },
                      {
                        "learn": [
                          0.02288447028
                        ],
                        "iteration": 4,
                        "passed_time": 0.3890676628,
                        "remaining_time": 77.4244649
                      },
                      {
                        "learn": [
                          0.01611787477
                        ],
                        "iteration": 5,
                        "passed_time": 0.4708809223,
                        "remaining_time": 78.00927279
                      },
                      {
                        "learn": [
                          0.01303650227
                        ],
                        "iteration": 6,
                        "passed_time": 0.5427071268,
                        "remaining_time": 76.98688242
                      },
                      {
                        "learn": [
                          0.01152407645
                        ],
                        "iteration": 7,
                        "passed_time": 0.6169530193,
                        "remaining_time": 76.5021744
                      },
                      {
                        "learn": [
                          0.01047912883
                        ],
                        "iteration": 8,
                        "passed_time": 0.6816633944,
                        "remaining_time": 75.05871376
                      },
                      {
                        "learn": [
                          0.009737858111
                        ],
                        "iteration": 9,
                        "passed_time": 0.7532468273,
                        "remaining_time": 74.5714359
                      },
                      {
                        "learn": [
                          0.009137469491
                        ],
                        "iteration": 10,
                        "passed_time": 0.8270004604,
                        "remaining_time": 74.35485958
                      },
                      {
                        "learn": [
                          0.008835333099
                        ],
                        "iteration": 11,
                        "passed_time": 0.8966890035,
                        "remaining_time": 73.82739462
                      },
                      {
                        "learn": [
                          0.008265731695
                        ],
                        "iteration": 12,
                        "passed_time": 0.9668564743,
                        "remaining_time": 73.40671848
                      },
                      {
                        "learn": [
                          0.008019182663
                        ],
                        "iteration": 13,
                        "passed_time": 1.038962202,
                        "remaining_time": 73.17262369
                      },
                      {
                        "learn": [
                          0.007650792202
                        ],
                        "iteration": 14,
                        "passed_time": 1.112430942,
                        "remaining_time": 73.04963187
                      },
                      {
                        "learn": [
                          0.007525355493
                        ],
                        "iteration": 15,
                        "passed_time": 1.186257257,
                        "remaining_time": 72.95482129
                      },
                      {
                        "learn": [
                          0.00733100733
                        ],
                        "iteration": 16,
                        "passed_time": 1.262991387,
                        "remaining_time": 73.03061961
                      },
                      {
                        "learn": [
                          0.007054319509
                        ],
                        "iteration": 17,
                        "passed_time": 1.338058258,
                        "remaining_time": 72.99851162
                      },
                      {
                        "learn": [
                          0.006890325017
                        ],
                        "iteration": 18,
                        "passed_time": 1.414126913,
                        "remaining_time": 73.01360534
                      },
                      {
                        "learn": [
                          0.00680693535
                        ],
                        "iteration": 19,
                        "passed_time": 1.495421395,
                        "remaining_time": 73.27564835
                      },
                      {
                        "learn": [
                          0.006649026943
                        ],
                        "iteration": 20,
                        "passed_time": 1.564963134,
                        "remaining_time": 72.95709086
                      },
                      {
                        "learn": [
                          0.006585556059
                        ],
                        "iteration": 21,
                        "passed_time": 1.630155148,
                        "remaining_time": 72.46780613
                      },
                      {
                        "learn": [
                          0.006568474702
                        ],
                        "iteration": 22,
                        "passed_time": 1.701657443,
                        "remaining_time": 72.28344878
                      },
                      {
                        "learn": [
                          0.006523180231
                        ],
                        "iteration": 23,
                        "passed_time": 1.774792626,
                        "remaining_time": 72.17490011
                      },
                      {
                        "learn": [
                          0.006421198213
                        ],
                        "iteration": 24,
                        "passed_time": 1.853996901,
                        "remaining_time": 72.30587914
                      },
                      {
                        "learn": [
                          0.006380851221
                        ],
                        "iteration": 25,
                        "passed_time": 1.924269655,
                        "remaining_time": 72.08610169
                      },
                      {
                        "learn": [
                          0.006153305835
                        ],
                        "iteration": 26,
                        "passed_time": 1.9951447,
                        "remaining_time": 71.89910344
                      },
                      {
                        "learn": [
                          0.006133101596
                        ],
                        "iteration": 27,
                        "passed_time": 2.06348987,
                        "remaining_time": 71.63257692
                      },
                      {
                        "learn": [
                          0.00601656567
                        ],
                        "iteration": 28,
                        "passed_time": 2.135006296,
                        "remaining_time": 71.48590048
                      },
                      {
                        "learn": [
                          0.005924765948
                        ],
                        "iteration": 29,
                        "passed_time": 2.207048451,
                        "remaining_time": 71.36123326
                      },
                      {
                        "learn": [
                          0.005901496012
                        ],
                        "iteration": 30,
                        "passed_time": 2.275212255,
                        "remaining_time": 71.11873144
                      },
                      {
                        "learn": [
                          0.005894902667
                        ],
                        "iteration": 31,
                        "passed_time": 2.344028163,
                        "remaining_time": 70.90685193
                      },
                      {
                        "learn": [
                          0.005848945708
                        ],
                        "iteration": 32,
                        "passed_time": 2.41580604,
                        "remaining_time": 70.79043761
                      },
                      {
                        "learn": [
                          0.005698039399
                        ],
                        "iteration": 33,
                        "passed_time": 2.488042548,
                        "remaining_time": 70.68967946
                      },
                      {
                        "learn": [
                          0.005671867613
                        ],
                        "iteration": 34,
                        "passed_time": 2.562579894,
                        "remaining_time": 70.65398851
                      },
                      {
                        "learn": [
                          0.005586948615
                        ],
                        "iteration": 35,
                        "passed_time": 2.633159771,
                        "remaining_time": 70.51016719
                      },
                      {
                        "learn": [
                          0.005504568357
                        ],
                        "iteration": 36,
                        "passed_time": 2.709867053,
                        "remaining_time": 70.52978303
                      },
                      {
                        "learn": [
                          0.005487341044
                        ],
                        "iteration": 37,
                        "passed_time": 2.778151757,
                        "remaining_time": 70.33110501
                      },
                      {
                        "learn": [
                          0.005412288445
                        ],
                        "iteration": 38,
                        "passed_time": 2.854662155,
                        "remaining_time": 70.34180337
                      },
                      {
                        "learn": [
                          0.005349082265
                        ],
                        "iteration": 39,
                        "passed_time": 2.930339377,
                        "remaining_time": 70.32814504
                      },
                      {
                        "learn": [
                          0.00531823875
                        ],
                        "iteration": 40,
                        "passed_time": 3.007849811,
                        "remaining_time": 70.3543407
                      },
                      {
                        "learn": [
                          0.005274317271
                        ],
                        "iteration": 41,
                        "passed_time": 3.08017798,
                        "remaining_time": 70.25739297
                      },
                      {
                        "learn": [
                          0.005249685667
                        ],
                        "iteration": 42,
                        "passed_time": 3.15141306,
                        "remaining_time": 70.13726275
                      },
                      {
                        "learn": [
                          0.005221312386
                        ],
                        "iteration": 43,
                        "passed_time": 3.221032855,
                        "remaining_time": 69.9842593
                      },
                      {
                        "learn": [
                          0.00518264684
                        ],
                        "iteration": 44,
                        "passed_time": 3.296128104,
                        "remaining_time": 69.95116309
                      },
                      {
                        "learn": [
                          0.005159198505
                        ],
                        "iteration": 45,
                        "passed_time": 3.361587839,
                        "remaining_time": 69.71640866
                      },
                      {
                        "learn": [
                          0.005119468962
                        ],
                        "iteration": 46,
                        "passed_time": 3.438428724,
                        "remaining_time": 69.71962924
                      },
                      {
                        "learn": [
                          0.005109578855
                        ],
                        "iteration": 47,
                        "passed_time": 3.50747427,
                        "remaining_time": 69.56490635
                      },
                      {
                        "learn": [
                          0.005085963364
                        ],
                        "iteration": 48,
                        "passed_time": 3.581873211,
                        "remaining_time": 69.51758008
                      },
                      {
                        "learn": [
                          0.005057298609
                        ],
                        "iteration": 49,
                        "passed_time": 3.654523081,
                        "remaining_time": 69.43593855
                      },
                      {
                        "learn": [
                          0.005049700993
                        ],
                        "iteration": 50,
                        "passed_time": 3.728911374,
                        "remaining_time": 69.38699792
                      },
                      {
                        "learn": [
                          0.004999649293
                        ],
                        "iteration": 51,
                        "passed_time": 3.803595748,
                        "remaining_time": 69.34247634
                      },
                      {
                        "learn": [
                          0.004996212723
                        ],
                        "iteration": 52,
                        "passed_time": 3.873058526,
                        "remaining_time": 69.20351743
                      },
                      {
                        "learn": [
                          0.004982593668
                        ],
                        "iteration": 53,
                        "passed_time": 3.940835766,
                        "remaining_time": 69.03760434
                      },
                      {
                        "learn": [
                          0.004976425251
                        ],
                        "iteration": 54,
                        "passed_time": 4.005695781,
                        "remaining_time": 68.8251366
                      },
                      {
                        "learn": [
                          0.004952627461
                        ],
                        "iteration": 55,
                        "passed_time": 4.082316518,
                        "remaining_time": 68.81619273
                      },
                      {
                        "learn": [
                          0.004928004491
                        ],
                        "iteration": 56,
                        "passed_time": 4.153190449,
                        "remaining_time": 68.70979989
                      },
                      {
                        "learn": [
                          0.004921428648
                        ],
                        "iteration": 57,
                        "passed_time": 4.228322691,
                        "remaining_time": 68.67379267
                      },
                      {
                        "learn": [
                          0.00489169903
                        ],
                        "iteration": 58,
                        "passed_time": 4.30360758,
                        "remaining_time": 68.63889378
                      },
                      {
                        "learn": [
                          0.004884974609
                        ],
                        "iteration": 59,
                        "passed_time": 4.37191665,
                        "remaining_time": 68.49336085
                      },
                      {
                        "learn": [
                          0.004857276463
                        ],
                        "iteration": 60,
                        "passed_time": 4.443852202,
                        "remaining_time": 68.40618389
                      },
                      {
                        "learn": [
                          0.004831770093
                        ],
                        "iteration": 61,
                        "passed_time": 4.522758126,
                        "remaining_time": 68.42495359
                      },
                      {
                        "learn": [
                          0.004810810081
                        ],
                        "iteration": 62,
                        "passed_time": 4.598717652,
                        "remaining_time": 68.39680063
                      },
                      {
                        "learn": [
                          0.004802979618
                        ],
                        "iteration": 63,
                        "passed_time": 4.667372565,
                        "remaining_time": 68.26032376
                      },
                      {
                        "learn": [
                          0.004705348408
                        ],
                        "iteration": 64,
                        "passed_time": 4.746861101,
                        "remaining_time": 68.28177122
                      },
                      {
                        "learn": [
                          0.004655479225
                        ],
                        "iteration": 65,
                        "passed_time": 4.814823425,
                        "remaining_time": 68.13704665
                      },
                      {
                        "learn": [
                          0.004621338482
                        ],
                        "iteration": 66,
                        "passed_time": 4.886292061,
                        "remaining_time": 68.0434402
                      },
                      {
                        "learn": [
                          0.004596640203
                        ],
                        "iteration": 67,
                        "passed_time": 4.963668651,
                        "remaining_time": 68.03145857
                      },
                      {
                        "learn": [
                          0.00458593499
                        ],
                        "iteration": 68,
                        "passed_time": 5.028220019,
                        "remaining_time": 67.84453388
                      },
                      {
                        "learn": [
                          0.00456117967
                        ],
                        "iteration": 69,
                        "passed_time": 5.103168717,
                        "remaining_time": 67.79924153
                      },
                      {
                        "learn": [
                          0.004556834611
                        ],
                        "iteration": 70,
                        "passed_time": 5.17083341,
                        "remaining_time": 67.65780617
                      },
                      {
                        "learn": [
                          0.004546496171
                        ],
                        "iteration": 71,
                        "passed_time": 5.24267333,
                        "remaining_time": 67.57223403
                      },
                      {
                        "learn": [
                          0.004541857257
                        ],
                        "iteration": 72,
                        "passed_time": 5.30662997,
                        "remaining_time": 67.38693127
                      },
                      {
                        "learn": [
                          0.004530692913
                        ],
                        "iteration": 73,
                        "passed_time": 5.378421292,
                        "remaining_time": 67.30294751
                      },
                      {
                        "learn": [
                          0.004514403976
                        ],
                        "iteration": 74,
                        "passed_time": 5.451167939,
                        "remaining_time": 67.23107125
                      },
                      {
                        "learn": [
                          0.004489075139
                        ],
                        "iteration": 75,
                        "passed_time": 5.527099733,
                        "remaining_time": 67.19789675
                      },
                      {
                        "learn": [
                          0.00447916561
                        ],
                        "iteration": 76,
                        "passed_time": 5.603462832,
                        "remaining_time": 67.16878174
                      },
                      {
                        "learn": [
                          0.004422250681
                        ],
                        "iteration": 77,
                        "passed_time": 5.672058322,
                        "remaining_time": 67.04663812
                      },
                      {
                        "learn": [
                          0.004388810607
                        ],
                        "iteration": 78,
                        "passed_time": 5.745567569,
                        "remaining_time": 66.98313583
                      },
                      {
                        "learn": [
                          0.004384797446
                        ],
                        "iteration": 79,
                        "passed_time": 5.817110244,
                        "remaining_time": 66.89676781
                      },
                      {
                        "learn": [
                          0.004373293987
                        ],
                        "iteration": 80,
                        "passed_time": 5.885572937,
                        "remaining_time": 66.77582135
                      },
                      {
                        "learn": [
                          0.004366835689
                        ],
                        "iteration": 81,
                        "passed_time": 5.951086126,
                        "remaining_time": 66.62313493
                      },
                      {
                        "learn": [
                          0.004357332659
                        ],
                        "iteration": 82,
                        "passed_time": 6.019647702,
                        "remaining_time": 66.50622823
                      },
                      {
                        "learn": [
                          0.00433977246
                        ],
                        "iteration": 83,
                        "passed_time": 6.094982432,
                        "remaining_time": 66.46433223
                      },
                      {
                        "learn": [
                          0.004336737731
                        ],
                        "iteration": 84,
                        "passed_time": 6.158094245,
                        "remaining_time": 66.29007335
                      },
                      {
                        "learn": [
                          0.004295362927
                        ],
                        "iteration": 85,
                        "passed_time": 6.229428744,
                        "remaining_time": 66.20578921
                      },
                      {
                        "learn": [
                          0.004278458165
                        ],
                        "iteration": 86,
                        "passed_time": 6.296594756,
                        "remaining_time": 66.07805762
                      },
                      {
                        "learn": [
                          0.00424805808
                        ],
                        "iteration": 87,
                        "passed_time": 6.369596072,
                        "remaining_time": 66.01217747
                      },
                      {
                        "learn": [
                          0.004184091316
                        ],
                        "iteration": 88,
                        "passed_time": 6.444416012,
                        "remaining_time": 65.96475266
                      },
                      {
                        "learn": [
                          0.004146868833
                        ],
                        "iteration": 89,
                        "passed_time": 6.513664334,
                        "remaining_time": 65.86038382
                      },
                      {
                        "learn": [
                          0.004142197501
                        ],
                        "iteration": 90,
                        "passed_time": 6.589304356,
                        "remaining_time": 65.82063362
                      },
                      {
                        "learn": [
                          0.004138539992
                        ],
                        "iteration": 91,
                        "passed_time": 6.65804765,
                        "remaining_time": 65.7120355
                      },
                      {
                        "learn": [
                          0.004124612186
                        ],
                        "iteration": 92,
                        "passed_time": 6.735090839,
                        "remaining_time": 65.68524077
                      },
                      {
                        "learn": [
                          0.004122891722
                        ],
                        "iteration": 93,
                        "passed_time": 6.793240732,
                        "remaining_time": 65.47527769
                      },
                      {
                        "learn": [
                          0.004118358991
                        ],
                        "iteration": 94,
                        "passed_time": 6.863890998,
                        "remaining_time": 65.38759319
                      },
                      {
                        "learn": [
                          0.004093602749
                        ],
                        "iteration": 95,
                        "passed_time": 6.933152233,
                        "remaining_time": 65.28718352
                      },
                      {
                        "learn": [
                          0.004068890235
                        ],
                        "iteration": 96,
                        "passed_time": 7.001410027,
                        "remaining_time": 65.17807479
                      },
                      {
                        "learn": [
                          0.004055355583
                        ],
                        "iteration": 97,
                        "passed_time": 7.068743014,
                        "remaining_time": 65.06128774
                      },
                      {
                        "learn": [
                          0.004053811473
                        ],
                        "iteration": 98,
                        "passed_time": 7.13060004,
                        "remaining_time": 64.89566299
                      },
                      {
                        "learn": [
                          0.004050093585
                        ],
                        "iteration": 99,
                        "passed_time": 7.196384378,
                        "remaining_time": 64.76745941
                      },
                      {
                        "learn": [
                          0.004037354434
                        ],
                        "iteration": 100,
                        "passed_time": 7.26244375,
                        "remaining_time": 64.64293991
                      },
                      {
                        "learn": [
                          0.004025214701
                        ],
                        "iteration": 101,
                        "passed_time": 7.33240409,
                        "remaining_time": 64.55391051
                      },
                      {
                        "learn": [
                          0.004023931071
                        ],
                        "iteration": 102,
                        "passed_time": 7.391605155,
                        "remaining_time": 64.37155169
                      },
                      {
                        "learn": [
                          0.004005060675
                        ],
                        "iteration": 103,
                        "passed_time": 7.471487587,
                        "remaining_time": 64.36973921
                      },
                      {
                        "learn": [
                          0.00397938318
                        ],
                        "iteration": 104,
                        "passed_time": 7.544270133,
                        "remaining_time": 64.30592161
                      },
                      {
                        "learn": [
                          0.003957215165
                        ],
                        "iteration": 105,
                        "passed_time": 7.622442545,
                        "remaining_time": 64.28739279
                      },
                      {
                        "learn": [
                          0.003947991943
                        ],
                        "iteration": 106,
                        "passed_time": 7.685551138,
                        "remaining_time": 64.14202959
                      },
                      {
                        "learn": [
                          0.003942596987
                        ],
                        "iteration": 107,
                        "passed_time": 7.764768549,
                        "remaining_time": 64.13123654
                      },
                      {
                        "learn": [
                          0.003933537349
                        ],
                        "iteration": 108,
                        "passed_time": 7.831826943,
                        "remaining_time": 64.01979638
                      },
                      {
                        "learn": [
                          0.003920150526
                        ],
                        "iteration": 109,
                        "passed_time": 7.90019951,
                        "remaining_time": 63.91979603
                      },
                      {
                        "learn": [
                          0.003900522157
                        ],
                        "iteration": 110,
                        "passed_time": 7.972932875,
                        "remaining_time": 63.85529122
                      },
                      {
                        "learn": [
                          0.003889461509
                        ],
                        "iteration": 111,
                        "passed_time": 8.040777318,
                        "remaining_time": 63.75187731
                      },
                      {
                        "learn": [
                          0.003884437998
                        ],
                        "iteration": 112,
                        "passed_time": 8.110202889,
                        "remaining_time": 63.66150409
                      },
                      {
                        "learn": [
                          0.003854154141
                        ],
                        "iteration": 113,
                        "passed_time": 8.181017067,
                        "remaining_time": 63.58229054
                      },
                      {
                        "learn": [
                          0.003836142103
                        ],
                        "iteration": 114,
                        "passed_time": 8.247600384,
                        "remaining_time": 63.47066383
                      },
                      {
                        "learn": [
                          0.003831969811
                        ],
                        "iteration": 115,
                        "passed_time": 8.312592928,
                        "remaining_time": 63.34769094
                      },
                      {
                        "learn": [
                          0.003810621553
                        ],
                        "iteration": 116,
                        "passed_time": 8.384923712,
                        "remaining_time": 63.28109092
                      },
                      {
                        "learn": [
                          0.003809586768
                        ],
                        "iteration": 117,
                        "passed_time": 8.445309069,
                        "remaining_time": 63.12510677
                      },
                      {
                        "learn": [
                          0.003798214624
                        ],
                        "iteration": 118,
                        "passed_time": 8.519729479,
                        "remaining_time": 63.07463589
                      },
                      {
                        "learn": [
                          0.003793812749
                        ],
                        "iteration": 119,
                        "passed_time": 8.584840058,
                        "remaining_time": 62.95549376
                      },
                      {
                        "learn": [
                          0.003782475466
                        ],
                        "iteration": 120,
                        "passed_time": 8.663824326,
                        "remaining_time": 62.93802961
                      },
                      {
                        "learn": [
                          0.003770118624
                        ],
                        "iteration": 121,
                        "passed_time": 8.739388972,
                        "remaining_time": 62.89494687
                      },
                      {
                        "learn": [
                          0.003759580234
                        ],
                        "iteration": 122,
                        "passed_time": 8.809989914,
                        "remaining_time": 62.81594435
                      },
                      {
                        "learn": [
                          0.003750533458
                        ],
                        "iteration": 123,
                        "passed_time": 8.882559105,
                        "remaining_time": 62.75098206
                      },
                      {
                        "learn": [
                          0.003748191626
                        ],
                        "iteration": 124,
                        "passed_time": 8.946034652,
                        "remaining_time": 62.62224257
                      },
                      {
                        "learn": [
                          0.003744915043
                        ],
                        "iteration": 125,
                        "passed_time": 9.015586763,
                        "remaining_time": 62.53668913
                      },
                      {
                        "learn": [
                          0.003737835378
                        ],
                        "iteration": 126,
                        "passed_time": 9.082326847,
                        "remaining_time": 62.43205778
                      },
                      {
                        "learn": [
                          0.003727488487
                        ],
                        "iteration": 127,
                        "passed_time": 9.153517018,
                        "remaining_time": 62.35833468
                      },
                      {
                        "learn": [
                          0.003718094581
                        ],
                        "iteration": 128,
                        "passed_time": 9.233243113,
                        "remaining_time": 62.3422849
                      },
                      {
                        "learn": [
                          0.003681747773
                        ],
                        "iteration": 129,
                        "passed_time": 9.309105222,
                        "remaining_time": 62.29939648
                      },
                      {
                        "learn": [
                          0.003662378169
                        ],
                        "iteration": 130,
                        "passed_time": 9.38257127,
                        "remaining_time": 62.24011018
                      },
                      {
                        "learn": [
                          0.003648957764
                        ],
                        "iteration": 131,
                        "passed_time": 9.461283697,
                        "remaining_time": 62.21510795
                      },
                      {
                        "learn": [
                          0.00364809581
                        ],
                        "iteration": 132,
                        "passed_time": 9.51980977,
                        "remaining_time": 62.0577073
                      },
                      {
                        "learn": [
                          0.0036408329
                        ],
                        "iteration": 133,
                        "passed_time": 9.592961975,
                        "remaining_time": 61.99630649
                      },
                      {
                        "learn": [
                          0.003640065383
                        ],
                        "iteration": 134,
                        "passed_time": 9.656649426,
                        "remaining_time": 61.87408706
                      },
                      {
                        "learn": [
                          0.00363192828
                        ],
                        "iteration": 135,
                        "passed_time": 9.737229383,
                        "remaining_time": 61.86004549
                      },
                      {
                        "learn": [
                          0.003628370374
                        ],
                        "iteration": 136,
                        "passed_time": 9.802722444,
                        "remaining_time": 61.74999612
                      },
                      {
                        "learn": [
                          0.003621338059
                        ],
                        "iteration": 137,
                        "passed_time": 9.875389919,
                        "remaining_time": 61.6854066
                      },
                      {
                        "learn": [
                          0.003620617067
                        ],
                        "iteration": 138,
                        "passed_time": 9.932835648,
                        "remaining_time": 61.52641362
                      },
                      {
                        "learn": [
                          0.003615864643
                        ],
                        "iteration": 139,
                        "passed_time": 9.999099584,
                        "remaining_time": 61.4230403
                      },
                      {
                        "learn": [
                          0.003615248261
                        ],
                        "iteration": 140,
                        "passed_time": 10.05921929,
                        "remaining_time": 61.2827615
                      },
                      {
                        "learn": [
                          0.00360717507
                        ],
                        "iteration": 141,
                        "passed_time": 10.12771982,
                        "remaining_time": 61.19425076
                      },
                      {
                        "learn": [
                          0.003604536904
                        ],
                        "iteration": 142,
                        "passed_time": 10.19909285,
                        "remaining_time": 61.12323475
                      },
                      {
                        "learn": [
                          0.003601762425
                        ],
                        "iteration": 143,
                        "passed_time": 10.25874362,
                        "remaining_time": 60.98253152
                      },
                      {
                        "learn": [
                          0.003594318428
                        ],
                        "iteration": 144,
                        "passed_time": 10.32772069,
                        "remaining_time": 60.89793924
                      },
                      {
                        "learn": [
                          0.003586786059
                        ],
                        "iteration": 145,
                        "passed_time": 10.39492728,
                        "remaining_time": 60.80320475
                      },
                      {
                        "learn": [
                          0.003584632612
                        ],
                        "iteration": 146,
                        "passed_time": 10.46607068,
                        "remaining_time": 60.73168905
                      },
                      {
                        "learn": [
                          0.003582536614
                        ],
                        "iteration": 147,
                        "passed_time": 10.53328001,
                        "remaining_time": 60.63753086
                      },
                      {
                        "learn": [
                          0.003571355807
                        ],
                        "iteration": 148,
                        "passed_time": 10.60206012,
                        "remaining_time": 60.5527058
                      },
                      {
                        "learn": [
                          0.003560199252
                        ],
                        "iteration": 149,
                        "passed_time": 10.67239316,
                        "remaining_time": 60.4768946
                      },
                      {
                        "learn": [
                          0.003556848828
                        ],
                        "iteration": 150,
                        "passed_time": 10.75465358,
                        "remaining_time": 60.46821781
                      },
                      {
                        "learn": [
                          0.003542010361
                        ],
                        "iteration": 151,
                        "passed_time": 10.82801722,
                        "remaining_time": 60.40893816
                      },
                      {
                        "learn": [
                          0.00349179921
                        ],
                        "iteration": 152,
                        "passed_time": 10.89903185,
                        "remaining_time": 60.33647041
                      },
                      {
                        "learn": [
                          0.003483247881
                        ],
                        "iteration": 153,
                        "passed_time": 10.97358014,
                        "remaining_time": 60.28343376
                      },
                      {
                        "learn": [
                          0.003468786779
                        ],
                        "iteration": 154,
                        "passed_time": 11.04883416,
                        "remaining_time": 60.23396689
                      },
                      {
                        "learn": [
                          0.003467052746
                        ],
                        "iteration": 155,
                        "passed_time": 11.11713236,
                        "remaining_time": 60.1465366
                      },
                      {
                        "learn": [
                          0.00346193141
                        ],
                        "iteration": 156,
                        "passed_time": 11.18728963,
                        "remaining_time": 60.06933224
                      },
                      {
                        "learn": [
                          0.003446693365
                        ],
                        "iteration": 157,
                        "passed_time": 11.25941633,
                        "remaining_time": 60.00271234
                      },
                      {
                        "learn": [
                          0.003445178072
                        ],
                        "iteration": 158,
                        "passed_time": 11.32489589,
                        "remaining_time": 59.90086441
                      },
                      {
                        "learn": [
                          0.003441062381
                        ],
                        "iteration": 159,
                        "passed_time": 11.39424459,
                        "remaining_time": 59.81978408
                      },
                      {
                        "learn": [
                          0.003432405173
                        ],
                        "iteration": 160,
                        "passed_time": 11.4625783,
                        "remaining_time": 59.73356023
                      },
                      {
                        "learn": [
                          0.003429026663
                        ],
                        "iteration": 161,
                        "passed_time": 11.52474864,
                        "remaining_time": 59.61567505
                      },
                      {
                        "learn": [
                          0.00341442335
                        ],
                        "iteration": 162,
                        "passed_time": 11.59596369,
                        "remaining_time": 59.54491783
                      },
                      {
                        "learn": [
                          0.003407004949
                        ],
                        "iteration": 163,
                        "passed_time": 11.67789339,
                        "remaining_time": 59.52877362
                      },
                      {
                        "learn": [
                          0.003402213715
                        ],
                        "iteration": 164,
                        "passed_time": 11.75453456,
                        "remaining_time": 59.48506881
                      },
                      {
                        "learn": [
                          0.003400360218
                        ],
                        "iteration": 165,
                        "passed_time": 11.82208576,
                        "remaining_time": 59.39529835
                      },
                      {
                        "learn": [
                          0.003394410186
                        ],
                        "iteration": 166,
                        "passed_time": 11.89175718,
                        "remaining_time": 59.31636965
                      },
                      {
                        "learn": [
                          0.003390696362
                        ],
                        "iteration": 167,
                        "passed_time": 11.9644013,
                        "remaining_time": 59.25227311
                      },
                      {
                        "learn": [
                          0.003382745975
                        ],
                        "iteration": 168,
                        "passed_time": 12.03288508,
                        "remaining_time": 59.16761835
                      },
                      {
                        "learn": [
                          0.003372503034
                        ],
                        "iteration": 169,
                        "passed_time": 12.10762617,
                        "remaining_time": 59.11370425
                      },
                      {
                        "learn": [
                          0.003368614496
                        ],
                        "iteration": 170,
                        "passed_time": 12.17969473,
                        "remaining_time": 59.04659026
                      },
                      {
                        "learn": [
                          0.003360040642
                        ],
                        "iteration": 171,
                        "passed_time": 12.25389883,
                        "remaining_time": 58.98969904
                      },
                      {
                        "learn": [
                          0.003352239623
                        ],
                        "iteration": 172,
                        "passed_time": 12.32563251,
                        "remaining_time": 58.9207982
                      },
                      {
                        "learn": [
                          0.003349138957
                        ],
                        "iteration": 173,
                        "passed_time": 12.39334934,
                        "remaining_time": 58.8327963
                      },
                      {
                        "learn": [
                          0.003345726291
                        ],
                        "iteration": 174,
                        "passed_time": 12.46065795,
                        "remaining_time": 58.74310179
                      },
                      {
                        "learn": [
                          0.003336056027
                        ],
                        "iteration": 175,
                        "passed_time": 12.52783981,
                        "remaining_time": 58.6530682
                      },
                      {
                        "learn": [
                          0.003326226765
                        ],
                        "iteration": 176,
                        "passed_time": 12.59484079,
                        "remaining_time": 58.56245181
                      },
                      {
                        "learn": [
                          0.003323339474
                        ],
                        "iteration": 177,
                        "passed_time": 12.67018711,
                        "remaining_time": 58.51063934
                      },
                      {
                        "learn": [
                          0.003314348838
                        ],
                        "iteration": 178,
                        "passed_time": 12.75717553,
                        "remaining_time": 58.51196152
                      },
                      {
                        "learn": [
                          0.003304453992
                        ],
                        "iteration": 179,
                        "passed_time": 12.82957757,
                        "remaining_time": 58.44585336
                      },
                      {
                        "learn": [
                          0.003293964522
                        ],
                        "iteration": 180,
                        "passed_time": 12.90271666,
                        "remaining_time": 58.38301074
                      },
                      {
                        "learn": [
                          0.003284826614
                        ],
                        "iteration": 181,
                        "passed_time": 12.97322514,
                        "remaining_time": 58.30823166
                      },
                      {
                        "learn": [
                          0.003277890987
                        ],
                        "iteration": 182,
                        "passed_time": 13.0378967,
                        "remaining_time": 58.20744046
                      },
                      {
                        "learn": [
                          0.003277444324
                        ],
                        "iteration": 183,
                        "passed_time": 13.09249753,
                        "remaining_time": 58.06238033
                      },
                      {
                        "learn": [
                          0.003271810306
                        ],
                        "iteration": 184,
                        "passed_time": 13.16713636,
                        "remaining_time": 58.00657367
                      },
                      {
                        "learn": [
                          0.003269518676
                        ],
                        "iteration": 185,
                        "passed_time": 13.23559239,
                        "remaining_time": 57.92350649
                      },
                      {
                        "learn": [
                          0.003257799636
                        ],
                        "iteration": 186,
                        "passed_time": 13.31011346,
                        "remaining_time": 57.86696387
                      },
                      {
                        "learn": [
                          0.003257412843
                        ],
                        "iteration": 187,
                        "passed_time": 13.36743125,
                        "remaining_time": 57.73592646
                      },
                      {
                        "learn": [
                          0.003251917024
                        ],
                        "iteration": 188,
                        "passed_time": 13.43974101,
                        "remaining_time": 57.6699998
                      },
                      {
                        "learn": [
                          0.003246470509
                        ],
                        "iteration": 189,
                        "passed_time": 13.50495669,
                        "remaining_time": 57.57376274
                      },
                      {
                        "learn": [
                          0.003235390593
                        ],
                        "iteration": 190,
                        "passed_time": 13.57695287,
                        "remaining_time": 57.50656999
                      },
                      {
                        "learn": [
                          0.003234728998
                        ],
                        "iteration": 191,
                        "passed_time": 13.63065004,
                        "remaining_time": 57.36231892
                      },
                      {
                        "learn": [
                          0.003230094644
                        ],
                        "iteration": 192,
                        "passed_time": 13.70788558,
                        "remaining_time": 57.3174283
                      },
                      {
                        "learn": [
                          0.003228758284
                        ],
                        "iteration": 193,
                        "passed_time": 13.78170032,
                        "remaining_time": 57.25799206
                      },
                      {
                        "learn": [
                          0.003228395491
                        ],
                        "iteration": 194,
                        "passed_time": 13.83542241,
                        "remaining_time": 57.11546174
                      },
                      {
                        "learn": [
                          0.003225082561
                        ],
                        "iteration": 195,
                        "passed_time": 13.90781569,
                        "remaining_time": 57.05042765
                      },
                      {
                        "learn": [
                          0.003217466783
                        ],
                        "iteration": 196,
                        "passed_time": 13.97688843,
                        "remaining_time": 56.97178381
                      },
                      {
                        "learn": [
                          0.003215974696
                        ],
                        "iteration": 197,
                        "passed_time": 14.04507961,
                        "remaining_time": 56.88966591
                      },
                      {
                        "learn": [
                          0.003211266632
                        ],
                        "iteration": 198,
                        "passed_time": 14.11630968,
                        "remaining_time": 56.81991987
                      },
                      {
                        "learn": [
                          0.003207107394
                        ],
                        "iteration": 199,
                        "passed_time": 14.18732865,
                        "remaining_time": 56.74931459
                      },
                      {
                        "learn": [
                          0.003197373791
                        ],
                        "iteration": 200,
                        "passed_time": 14.25131076,
                        "remaining_time": 56.65073281
                      },
                      {
                        "learn": [
                          0.003192385713
                        ],
                        "iteration": 201,
                        "passed_time": 14.3228328,
                        "remaining_time": 56.58228007
                      },
                      {
                        "learn": [
                          0.003185686563
                        ],
                        "iteration": 202,
                        "passed_time": 14.39585795,
                        "remaining_time": 56.51969844
                      },
                      {
                        "learn": [
                          0.003183811771
                        ],
                        "iteration": 203,
                        "passed_time": 14.46132244,
                        "remaining_time": 56.42751306
                      },
                      {
                        "learn": [
                          0.003179346844
                        ],
                        "iteration": 204,
                        "passed_time": 14.54017015,
                        "remaining_time": 56.38748913
                      },
                      {
                        "learn": [
                          0.003166289197
                        ],
                        "iteration": 205,
                        "passed_time": 14.62087697,
                        "remaining_time": 56.35425395
                      },
                      {
                        "learn": [
                          0.003157345085
                        ],
                        "iteration": 206,
                        "passed_time": 14.69205076,
                        "remaining_time": 56.28403987
                      },
                      {
                        "learn": [
                          0.003147159547
                        ],
                        "iteration": 207,
                        "passed_time": 14.77982653,
                        "remaining_time": 56.27703178
                      },
                      {
                        "learn": [
                          0.003140245172
                        ],
                        "iteration": 208,
                        "passed_time": 14.84762785,
                        "remaining_time": 56.19365373
                      },
                      {
                        "learn": [
                          0.003138331004
                        ],
                        "iteration": 209,
                        "passed_time": 14.91618601,
                        "remaining_time": 56.11327118
                      },
                      {
                        "learn": [
                          0.003125874296
                        ],
                        "iteration": 210,
                        "passed_time": 14.98250836,
                        "remaining_time": 56.02464028
                      },
                      {
                        "learn": [
                          0.003102439704
                        ],
                        "iteration": 211,
                        "passed_time": 15.05579304,
                        "remaining_time": 55.96209864
                      },
                      {
                        "learn": [
                          0.003100791338
                        ],
                        "iteration": 212,
                        "passed_time": 15.12185643,
                        "remaining_time": 55.8727747
                      },
                      {
                        "learn": [
                          0.003098992553
                        ],
                        "iteration": 213,
                        "passed_time": 15.18686714,
                        "remaining_time": 55.77980174
                      },
                      {
                        "learn": [
                          0.003090949464
                        ],
                        "iteration": 214,
                        "passed_time": 15.26649995,
                        "remaining_time": 55.74047657
                      },
                      {
                        "learn": [
                          0.003086911741
                        ],
                        "iteration": 215,
                        "passed_time": 15.33256607,
                        "remaining_time": 55.65153612
                      },
                      {
                        "learn": [
                          0.003082174006
                        ],
                        "iteration": 216,
                        "passed_time": 15.39903412,
                        "remaining_time": 55.56425677
                      },
                      {
                        "learn": [
                          0.003070479924
                        ],
                        "iteration": 217,
                        "passed_time": 15.47310438,
                        "remaining_time": 55.50443865
                      },
                      {
                        "learn": [
                          0.003067693632
                        ],
                        "iteration": 218,
                        "passed_time": 15.54183964,
                        "remaining_time": 55.42546464
                      },
                      {
                        "learn": [
                          0.003066089819
                        ],
                        "iteration": 219,
                        "passed_time": 15.60603317,
                        "remaining_time": 55.33048123
                      },
                      {
                        "learn": [
                          0.003063118326
                        ],
                        "iteration": 220,
                        "passed_time": 15.67228309,
                        "remaining_time": 55.24302502
                      },
                      {
                        "learn": [
                          0.003052467023
                        ],
                        "iteration": 221,
                        "passed_time": 15.75848659,
                        "remaining_time": 55.22568724
                      },
                      {
                        "learn": [
                          0.003051078914
                        ],
                        "iteration": 222,
                        "passed_time": 15.82371235,
                        "remaining_time": 55.134639
                      },
                      {
                        "learn": [
                          0.003048742973
                        ],
                        "iteration": 223,
                        "passed_time": 15.89095178,
                        "remaining_time": 55.05079724
                      },
                      {
                        "learn": [
                          0.003047599207
                        ],
                        "iteration": 224,
                        "passed_time": 15.95188776,
                        "remaining_time": 54.94539117
                      },
                      {
                        "learn": [
                          0.003046182142
                        ],
                        "iteration": 225,
                        "passed_time": 16.01950928,
                        "remaining_time": 54.86327515
                      },
                      {
                        "learn": [
                          0.00304331446
                        ],
                        "iteration": 226,
                        "passed_time": 16.08919209,
                        "remaining_time": 54.78830609
                      },
                      {
                        "learn": [
                          0.003042529218
                        ],
                        "iteration": 227,
                        "passed_time": 16.15959975,
                        "remaining_time": 54.71583774
                      },
                      {
                        "learn": [
                          0.003041560332
                        ],
                        "iteration": 228,
                        "passed_time": 16.23193306,
                        "remaining_time": 54.64987071
                      },
                      {
                        "learn": [
                          0.003040839555
                        ],
                        "iteration": 229,
                        "passed_time": 16.29431949,
                        "remaining_time": 54.55054784
                      },
                      {
                        "learn": [
                          0.003038308906
                        ],
                        "iteration": 230,
                        "passed_time": 16.36170524,
                        "remaining_time": 54.46818759
                      },
                      {
                        "learn": [
                          0.003031416926
                        ],
                        "iteration": 231,
                        "passed_time": 16.43234756,
                        "remaining_time": 54.39673675
                      },
                      {
                        "learn": [
                          0.003027800008
                        ],
                        "iteration": 232,
                        "passed_time": 16.50686782,
                        "remaining_time": 54.33805845
                      },
                      {
                        "learn": [
                          0.003024403117
                        ],
                        "iteration": 233,
                        "passed_time": 16.57457284,
                        "remaining_time": 54.25693503
                      },
                      {
                        "learn": [
                          0.003023208761
                        ],
                        "iteration": 234,
                        "passed_time": 16.63355918,
                        "remaining_time": 54.14754372
                      },
                      {
                        "learn": [
                          0.003013796136
                        ],
                        "iteration": 235,
                        "passed_time": 16.70176014,
                        "remaining_time": 54.06840996
                      },
                      {
                        "learn": [
                          0.003007168545
                        ],
                        "iteration": 236,
                        "passed_time": 16.78790249,
                        "remaining_time": 54.04712911
                      },
                      {
                        "learn": [
                          0.003004785257
                        ],
                        "iteration": 237,
                        "passed_time": 16.85743608,
                        "remaining_time": 53.97212728
                      },
                      {
                        "learn": [
                          0.003002860262
                        ],
                        "iteration": 238,
                        "passed_time": 16.92319924,
                        "remaining_time": 53.88516579
                      },
                      {
                        "learn": [
                          0.003001798086
                        ],
                        "iteration": 239,
                        "passed_time": 16.98603324,
                        "remaining_time": 53.78910526
                      },
                      {
                        "learn": [
                          0.002997891519
                        ],
                        "iteration": 240,
                        "passed_time": 17.06550315,
                        "remaining_time": 53.74571326
                      },
                      {
                        "learn": [
                          0.002992509009
                        ],
                        "iteration": 241,
                        "passed_time": 17.13747038,
                        "remaining_time": 53.67852291
                      },
                      {
                        "learn": [
                          0.002988409741
                        ],
                        "iteration": 242,
                        "passed_time": 17.20379419,
                        "remaining_time": 53.59371277
                      },
                      {
                        "learn": [
                          0.002987071017
                        ],
                        "iteration": 243,
                        "passed_time": 17.27341117,
                        "remaining_time": 53.51925755
                      },
                      {
                        "learn": [
                          0.002976502209
                        ],
                        "iteration": 244,
                        "passed_time": 17.343953,
                        "remaining_time": 53.44769191
                      },
                      {
                        "learn": [
                          0.002973512144
                        ],
                        "iteration": 245,
                        "passed_time": 17.41334423,
                        "remaining_time": 53.37260792
                      },
                      {
                        "learn": [
                          0.002970976624
                        ],
                        "iteration": 246,
                        "passed_time": 17.48202695,
                        "remaining_time": 53.2954101
                      },
                      {
                        "learn": [
                          0.002969977307
                        ],
                        "iteration": 247,
                        "passed_time": 17.54671189,
                        "remaining_time": 53.20615864
                      },
                      {
                        "learn": [
                          0.002966976612
                        ],
                        "iteration": 248,
                        "passed_time": 17.61418886,
                        "remaining_time": 53.12552544
                      },
                      {
                        "learn": [
                          0.002958144516
                        ],
                        "iteration": 249,
                        "passed_time": 17.68816767,
                        "remaining_time": 53.06450301
                      },
                      {
                        "learn": [
                          0.002957252953
                        ],
                        "iteration": 250,
                        "passed_time": 17.76570944,
                        "remaining_time": 53.01400943
                      },
                      {
                        "learn": [
                          0.002956422586
                        ],
                        "iteration": 251,
                        "passed_time": 17.83386184,
                        "remaining_time": 52.93543117
                      },
                      {
                        "learn": [
                          0.002951521092
                        ],
                        "iteration": 252,
                        "passed_time": 17.90140708,
                        "remaining_time": 52.85514265
                      },
                      {
                        "learn": [
                          0.002945390145
                        ],
                        "iteration": 253,
                        "passed_time": 17.97476238,
                        "remaining_time": 52.79201863
                      },
                      {
                        "learn": [
                          0.002942580812
                        ],
                        "iteration": 254,
                        "passed_time": 18.04395467,
                        "remaining_time": 52.71665187
                      },
                      {
                        "learn": [
                          0.002940841681
                        ],
                        "iteration": 255,
                        "passed_time": 18.11354811,
                        "remaining_time": 52.64249919
                      },
                      {
                        "learn": [
                          0.002937500925
                        ],
                        "iteration": 256,
                        "passed_time": 18.18117265,
                        "remaining_time": 52.56268979
                      },
                      {
                        "learn": [
                          0.002935550762
                        ],
                        "iteration": 257,
                        "passed_time": 18.2492418,
                        "remaining_time": 52.48425356
                      },
                      {
                        "learn": [
                          0.002929424005
                        ],
                        "iteration": 258,
                        "passed_time": 18.31538007,
                        "remaining_time": 52.40037308
                      },
                      {
                        "learn": [
                          0.002921073148
                        ],
                        "iteration": 259,
                        "passed_time": 18.38827257,
                        "remaining_time": 52.33585271
                      },
                      {
                        "learn": [
                          0.002920423306
                        ],
                        "iteration": 260,
                        "passed_time": 18.45452717,
                        "remaining_time": 52.25247348
                      },
                      {
                        "learn": [
                          0.002915101766
                        ],
                        "iteration": 261,
                        "passed_time": 18.53219646,
                        "remaining_time": 52.20137782
                      },
                      {
                        "learn": [
                          0.002906067126
                        ],
                        "iteration": 262,
                        "passed_time": 18.60122123,
                        "remaining_time": 52.12585569
                      },
                      {
                        "learn": [
                          0.002898939131
                        ],
                        "iteration": 263,
                        "passed_time": 18.67181633,
                        "remaining_time": 52.05476068
                      },
                      {
                        "learn": [
                          0.002896074091
                        ],
                        "iteration": 264,
                        "passed_time": 18.7462823,
                        "remaining_time": 51.99440562
                      },
                      {
                        "learn": [
                          0.002892739249
                        ],
                        "iteration": 265,
                        "passed_time": 18.82470608,
                        "remaining_time": 51.94486564
                      },
                      {
                        "learn": [
                          0.002892049884
                        ],
                        "iteration": 266,
                        "passed_time": 18.88809391,
                        "remaining_time": 51.85383086
                      },
                      {
                        "learn": [
                          0.002886937149
                        ],
                        "iteration": 267,
                        "passed_time": 18.95714729,
                        "remaining_time": 51.77847691
                      },
                      {
                        "learn": [
                          0.002884503288
                        ],
                        "iteration": 268,
                        "passed_time": 19.02681821,
                        "remaining_time": 51.70484799
                      },
                      {
                        "learn": [
                          0.002873772247
                        ],
                        "iteration": 269,
                        "passed_time": 19.09694124,
                        "remaining_time": 51.63247075
                      },
                      {
                        "learn": [
                          0.002870427739
                        ],
                        "iteration": 270,
                        "passed_time": 19.1651884,
                        "remaining_time": 51.55506399
                      },
                      {
                        "learn": [
                          0.002869318088
                        ],
                        "iteration": 271,
                        "passed_time": 19.23324571,
                        "remaining_time": 51.47721646
                      },
                      {
                        "learn": [
                          0.002866160257
                        ],
                        "iteration": 272,
                        "passed_time": 19.30228041,
                        "remaining_time": 51.40204343
                      },
                      {
                        "learn": [
                          0.002864333341
                        ],
                        "iteration": 273,
                        "passed_time": 19.36886352,
                        "remaining_time": 51.32041939
                      },
                      {
                        "learn": [
                          0.002858328798
                        ],
                        "iteration": 274,
                        "passed_time": 19.43885381,
                        "remaining_time": 51.24788732
                      },
                      {
                        "learn": [
                          0.002854897753
                        ],
                        "iteration": 275,
                        "passed_time": 19.50537598,
                        "remaining_time": 51.16627612
                      },
                      {
                        "learn": [
                          0.002851809464
                        ],
                        "iteration": 276,
                        "passed_time": 19.57866783,
                        "remaining_time": 51.10244346
                      },
                      {
                        "learn": [
                          0.002848740742
                        ],
                        "iteration": 277,
                        "passed_time": 19.64783839,
                        "remaining_time": 51.02783927
                      },
                      {
                        "learn": [
                          0.002844905935
                        ],
                        "iteration": 278,
                        "passed_time": 19.71477472,
                        "remaining_time": 50.94750025
                      },
                      {
                        "learn": [
                          0.002838075955
                        ],
                        "iteration": 279,
                        "passed_time": 19.79903,
                        "remaining_time": 50.91179142
                      },
                      {
                        "learn": [
                          0.002837322454
                        ],
                        "iteration": 280,
                        "passed_time": 19.86000554,
                        "remaining_time": 50.81617075
                      },
                      {
                        "learn": [
                          0.00283664214
                        ],
                        "iteration": 281,
                        "passed_time": 19.92630167,
                        "remaining_time": 50.73434255
                      },
                      {
                        "learn": [
                          0.002835250549
                        ],
                        "iteration": 282,
                        "passed_time": 19.99230338,
                        "remaining_time": 50.65187816
                      },
                      {
                        "learn": [
                          0.002828324294
                        ],
                        "iteration": 283,
                        "passed_time": 20.06377208,
                        "remaining_time": 50.5833127
                      },
                      {
                        "learn": [
                          0.002825477388
                        ],
                        "iteration": 284,
                        "passed_time": 20.13310035,
                        "remaining_time": 50.50935701
                      },
                      {
                        "learn": [
                          0.00281757214
                        ],
                        "iteration": 285,
                        "passed_time": 20.19953785,
                        "remaining_time": 50.42821687
                      },
                      {
                        "learn": [
                          0.002815444699
                        ],
                        "iteration": 286,
                        "passed_time": 20.27014934,
                        "remaining_time": 50.35754872
                      },
                      {
                        "learn": [
                          0.002804041314
                        ],
                        "iteration": 287,
                        "passed_time": 20.33941028,
                        "remaining_time": 50.28354209
                      },
                      {
                        "learn": [
                          0.002802150189
                        ],
                        "iteration": 288,
                        "passed_time": 20.40866244,
                        "remaining_time": 50.20954671
                      },
                      {
                        "learn": [
                          0.002800896702
                        ],
                        "iteration": 289,
                        "passed_time": 20.47556742,
                        "remaining_time": 50.12983748
                      },
                      {
                        "learn": [
                          0.002795685685
                        ],
                        "iteration": 290,
                        "passed_time": 20.55503203,
                        "remaining_time": 50.08081688
                      },
                      {
                        "learn": [
                          0.002791949386
                        ],
                        "iteration": 291,
                        "passed_time": 20.62259209,
                        "remaining_time": 50.00272329
                      },
                      {
                        "learn": [
                          0.002791269687
                        ],
                        "iteration": 292,
                        "passed_time": 20.68111178,
                        "remaining_time": 49.90288747
                      },
                      {
                        "learn": [
                          0.002788361338
                        ],
                        "iteration": 293,
                        "passed_time": 20.74210871,
                        "remaining_time": 49.80928146
                      },
                      {
                        "learn": [
                          0.002781479917
                        ],
                        "iteration": 294,
                        "passed_time": 20.82537005,
                        "remaining_time": 49.76910468
                      },
                      {
                        "learn": [
                          0.002763605778
                        ],
                        "iteration": 295,
                        "passed_time": 20.90141893,
                        "remaining_time": 49.71148285
                      },
                      {
                        "learn": [
                          0.002754480938
                        ],
                        "iteration": 296,
                        "passed_time": 20.97026073,
                        "remaining_time": 49.63667776
                      },
                      {
                        "learn": [
                          0.002751497373
                        ],
                        "iteration": 297,
                        "passed_time": 21.03469692,
                        "remaining_time": 49.55153435
                      },
                      {
                        "learn": [
                          0.002745742712
                        ],
                        "iteration": 298,
                        "passed_time": 21.10811993,
                        "remaining_time": 49.48759891
                      },
                      {
                        "learn": [
                          0.002744259259
                        ],
                        "iteration": 299,
                        "passed_time": 21.17040487,
                        "remaining_time": 49.39761137
                      },
                      {
                        "learn": [
                          0.002741687881
                        ],
                        "iteration": 300,
                        "passed_time": 21.23840687,
                        "remaining_time": 49.32108439
                      },
                      {
                        "learn": [
                          0.002741256055
                        ],
                        "iteration": 301,
                        "passed_time": 21.29995018,
                        "remaining_time": 49.22968618
                      },
                      {
                        "learn": [
                          0.002738194255
                        ],
                        "iteration": 302,
                        "passed_time": 21.3692491,
                        "remaining_time": 49.15632549
                      },
                      {
                        "learn": [
                          0.002733848588
                        ],
                        "iteration": 303,
                        "passed_time": 21.44013366,
                        "remaining_time": 49.08662181
                      },
                      {
                        "learn": [
                          0.002727302144
                        ],
                        "iteration": 304,
                        "passed_time": 21.51077585,
                        "remaining_time": 49.01635809
                      },
                      {
                        "learn": [
                          0.002721401675
                        ],
                        "iteration": 305,
                        "passed_time": 21.58934151,
                        "remaining_time": 48.96406212
                      },
                      {
                        "learn": [
                          0.002721153361
                        ],
                        "iteration": 306,
                        "passed_time": 21.64628922,
                        "remaining_time": 48.86279619
                      },
                      {
                        "learn": [
                          0.002718249854
                        ],
                        "iteration": 307,
                        "passed_time": 21.71501256,
                        "remaining_time": 48.78827497
                      },
                      {
                        "learn": [
                          0.002717225546
                        ],
                        "iteration": 308,
                        "passed_time": 21.78627472,
                        "remaining_time": 48.71946871
                      },
                      {
                        "learn": [
                          0.002712917337
                        ],
                        "iteration": 309,
                        "passed_time": 21.87939142,
                        "remaining_time": 48.69929058
                      },
                      {
                        "learn": [
                          0.002710302988
                        ],
                        "iteration": 310,
                        "passed_time": 21.94884252,
                        "remaining_time": 48.62621381
                      },
                      {
                        "learn": [
                          0.002704533856
                        ],
                        "iteration": 311,
                        "passed_time": 22.01859374,
                        "remaining_time": 48.55382209
                      },
                      {
                        "learn": [
                          0.002703990776
                        ],
                        "iteration": 312,
                        "passed_time": 22.09437447,
                        "remaining_time": 48.49468134
                      },
                      {
                        "learn": [
                          0.002703692578
                        ],
                        "iteration": 313,
                        "passed_time": 22.15987867,
                        "remaining_time": 48.41298334
                      },
                      {
                        "learn": [
                          0.002700943157
                        ],
                        "iteration": 314,
                        "passed_time": 22.22665391,
                        "remaining_time": 48.33415215
                      },
                      {
                        "learn": [
                          0.002694690615
                        ],
                        "iteration": 315,
                        "passed_time": 22.29074285,
                        "remaining_time": 48.24958262
                      },
                      {
                        "learn": [
                          0.002691823702
                        ],
                        "iteration": 316,
                        "passed_time": 22.35549652,
                        "remaining_time": 48.16657452
                      },
                      {
                        "learn": [
                          0.002688228823
                        ],
                        "iteration": 317,
                        "passed_time": 22.42611605,
                        "remaining_time": 48.09626146
                      },
                      {
                        "learn": [
                          0.002683972101
                        ],
                        "iteration": 318,
                        "passed_time": 22.49352647,
                        "remaining_time": 48.0190957
                      },
                      {
                        "learn": [
                          0.002683777807
                        ],
                        "iteration": 319,
                        "passed_time": 22.5527306,
                        "remaining_time": 47.92455252
                      },
                      {
                        "learn": [
                          0.002680134173
                        ],
                        "iteration": 320,
                        "passed_time": 22.62352565,
                        "remaining_time": 47.8547474
                      },
                      {
                        "learn": [
                          0.002676775593
                        ],
                        "iteration": 321,
                        "passed_time": 22.69110138,
                        "remaining_time": 47.77815756
                      },
                      {
                        "learn": [
                          0.002676481737
                        ],
                        "iteration": 322,
                        "passed_time": 22.75636366,
                        "remaining_time": 47.69677462
                      },
                      {
                        "learn": [
                          0.002675612822
                        ],
                        "iteration": 323,
                        "passed_time": 22.83315364,
                        "remaining_time": 47.63954277
                      },
                      {
                        "learn": [
                          0.002670614988
                        ],
                        "iteration": 324,
                        "passed_time": 22.90821943,
                        "remaining_time": 47.57860959
                      },
                      {
                        "learn": [
                          0.002664304293
                        ],
                        "iteration": 325,
                        "passed_time": 22.97658994,
                        "remaining_time": 47.5037473
                      },
                      {
                        "learn": [
                          0.002658170112
                        ],
                        "iteration": 326,
                        "passed_time": 23.04880968,
                        "remaining_time": 47.43684684
                      },
                      {
                        "learn": [
                          0.002656587009
                        ],
                        "iteration": 327,
                        "passed_time": 23.11840178,
                        "remaining_time": 47.36453048
                      },
                      {
                        "learn": [
                          0.002654381476
                        ],
                        "iteration": 328,
                        "passed_time": 23.19081228,
                        "remaining_time": 47.29797885
                      },
                      {
                        "learn": [
                          0.002650101133
                        ],
                        "iteration": 329,
                        "passed_time": 23.26103524,
                        "remaining_time": 47.22695034
                      },
                      {
                        "learn": [
                          0.002649695589
                        ],
                        "iteration": 330,
                        "passed_time": 23.32735877,
                        "remaining_time": 47.14804536
                      },
                      {
                        "learn": [
                          0.002648103317
                        ],
                        "iteration": 331,
                        "passed_time": 23.39069373,
                        "remaining_time": 47.06320304
                      },
                      {
                        "learn": [
                          0.002643512964
                        ],
                        "iteration": 332,
                        "passed_time": 23.45980397,
                        "remaining_time": 46.9900578
                      },
                      {
                        "learn": [
                          0.002642262178
                        ],
                        "iteration": 333,
                        "passed_time": 23.53190951,
                        "remaining_time": 46.92290938
                      },
                      {
                        "learn": [
                          0.002641011314
                        ],
                        "iteration": 334,
                        "passed_time": 23.59743859,
                        "remaining_time": 46.84267661
                      },
                      {
                        "learn": [
                          0.002639872878
                        ],
                        "iteration": 335,
                        "passed_time": 23.66758196,
                        "remaining_time": 46.77165006
                      },
                      {
                        "learn": [
                          0.00263950603
                        ],
                        "iteration": 336,
                        "passed_time": 23.73369979,
                        "remaining_time": 46.69270908
                      },
                      {
                        "learn": [
                          0.00263591351
                        ],
                        "iteration": 337,
                        "passed_time": 23.80357118,
                        "remaining_time": 46.62119562
                      },
                      {
                        "learn": [
                          0.002632962536
                        ],
                        "iteration": 338,
                        "passed_time": 23.88664842,
                        "remaining_time": 46.57544131
                      },
                      {
                        "learn": [
                          0.002627755808
                        ],
                        "iteration": 339,
                        "passed_time": 23.96392518,
                        "remaining_time": 46.5182077
                      },
                      {
                        "learn": [
                          0.002625656261
                        ],
                        "iteration": 340,
                        "passed_time": 24.03588022,
                        "remaining_time": 46.45057203
                      },
                      {
                        "learn": [
                          0.002622928603
                        ],
                        "iteration": 341,
                        "passed_time": 24.10427298,
                        "remaining_time": 46.37605738
                      },
                      {
                        "learn": [
                          0.002619310214
                        ],
                        "iteration": 342,
                        "passed_time": 24.17878392,
                        "remaining_time": 46.31329748
                      },
                      {
                        "learn": [
                          0.002617324114
                        ],
                        "iteration": 343,
                        "passed_time": 24.24200301,
                        "remaining_time": 46.22893597
                      },
                      {
                        "learn": [
                          0.002615499336
                        ],
                        "iteration": 344,
                        "passed_time": 24.31037625,
                        "remaining_time": 46.15448245
                      },
                      {
                        "learn": [
                          0.002614211649
                        ],
                        "iteration": 345,
                        "passed_time": 24.37540882,
                        "remaining_time": 46.07374962
                      },
                      {
                        "learn": [
                          0.002609323006
                        ],
                        "iteration": 346,
                        "passed_time": 24.44430896,
                        "remaining_time": 46.00038545
                      },
                      {
                        "learn": [
                          0.002604064346
                        ],
                        "iteration": 347,
                        "passed_time": 24.51426239,
                        "remaining_time": 45.92902033
                      },
                      {
                        "learn": [
                          0.002596543506
                        ],
                        "iteration": 348,
                        "passed_time": 24.5861216,
                        "remaining_time": 45.86121824
                      },
                      {
                        "learn": [
                          0.002591120832
                        ],
                        "iteration": 349,
                        "passed_time": 24.66585241,
                        "remaining_time": 45.80801161
                      },
                      {
                        "learn": [
                          0.002589398158
                        ],
                        "iteration": 350,
                        "passed_time": 24.73028593,
                        "remaining_time": 45.72636915
                      },
                      {
                        "learn": [
                          0.002587765647
                        ],
                        "iteration": 351,
                        "passed_time": 24.80708186,
                        "remaining_time": 45.66758252
                      },
                      {
                        "learn": [
                          0.002584347749
                        ],
                        "iteration": 352,
                        "passed_time": 24.89527254,
                        "remaining_time": 45.62957884
                      },
                      {
                        "learn": [
                          0.002578395977
                        ],
                        "iteration": 353,
                        "passed_time": 24.97666962,
                        "remaining_time": 45.57889428
                      },
                      {
                        "learn": [
                          0.002575775678
                        ],
                        "iteration": 354,
                        "passed_time": 25.04471775,
                        "remaining_time": 45.50378296
                      },
                      {
                        "learn": [
                          0.002574920155
                        ],
                        "iteration": 355,
                        "passed_time": 25.11382489,
                        "remaining_time": 45.43062706
                      },
                      {
                        "learn": [
                          0.002568073672
                        ],
                        "iteration": 356,
                        "passed_time": 25.18350631,
                        "remaining_time": 45.35852817
                      },
                      {
                        "learn": [
                          0.002565684564
                        ],
                        "iteration": 357,
                        "passed_time": 25.25187451,
                        "remaining_time": 45.28408782
                      },
                      {
                        "learn": [
                          0.002563315143
                        ],
                        "iteration": 358,
                        "passed_time": 25.32930659,
                        "remaining_time": 45.22586496
                      },
                      {
                        "learn": [
                          0.002556580246
                        ],
                        "iteration": 359,
                        "passed_time": 25.40479964,
                        "remaining_time": 45.16408824
                      },
                      {
                        "learn": [
                          0.002549873151
                        ],
                        "iteration": 360,
                        "passed_time": 25.47724716,
                        "remaining_time": 45.0968447
                      },
                      {
                        "learn": [
                          0.002544736458
                        ],
                        "iteration": 361,
                        "passed_time": 25.5475984,
                        "remaining_time": 45.02587785
                      },
                      {
                        "learn": [
                          0.002538746677
                        ],
                        "iteration": 362,
                        "passed_time": 25.61744713,
                        "remaining_time": 44.95403257
                      },
                      {
                        "learn": [
                          0.002537646158
                        ],
                        "iteration": 363,
                        "passed_time": 25.68458588,
                        "remaining_time": 44.87746325
                      },
                      {
                        "learn": [
                          0.002535748358
                        ],
                        "iteration": 364,
                        "passed_time": 25.74978997,
                        "remaining_time": 44.79757981
                      },
                      {
                        "learn": [
                          0.002535078446
                        ],
                        "iteration": 365,
                        "passed_time": 25.81553534,
                        "remaining_time": 44.71871421
                      },
                      {
                        "learn": [
                          0.002529030875
                        ],
                        "iteration": 366,
                        "passed_time": 25.9129274,
                        "remaining_time": 44.6945042
                      },
                      {
                        "learn": [
                          0.002524493984
                        ],
                        "iteration": 367,
                        "passed_time": 25.98913577,
                        "remaining_time": 44.63351578
                      },
                      {
                        "learn": [
                          0.002522565667
                        ],
                        "iteration": 368,
                        "passed_time": 26.05457946,
                        "remaining_time": 44.55403696
                      },
                      {
                        "learn": [
                          0.002521654635
                        ],
                        "iteration": 369,
                        "passed_time": 26.12041425,
                        "remaining_time": 44.47529993
                      },
                      {
                        "learn": [
                          0.00251929892
                        ],
                        "iteration": 370,
                        "passed_time": 26.18531288,
                        "remaining_time": 44.39504529
                      },
                      {
                        "learn": [
                          0.002518980285
                        ],
                        "iteration": 371,
                        "passed_time": 26.24360235,
                        "remaining_time": 44.3037158
                      },
                      {
                        "learn": [
                          0.002518756382
                        ],
                        "iteration": 372,
                        "passed_time": 26.31249694,
                        "remaining_time": 44.23039031
                      },
                      {
                        "learn": [
                          0.00251665595
                        ],
                        "iteration": 373,
                        "passed_time": 26.37789856,
                        "remaining_time": 44.15124198
                      },
                      {
                        "learn": [
                          0.002516035212
                        ],
                        "iteration": 374,
                        "passed_time": 26.44200251,
                        "remaining_time": 44.07000418
                      },
                      {
                        "learn": [
                          0.002510525134
                        ],
                        "iteration": 375,
                        "passed_time": 26.51583781,
                        "remaining_time": 44.00500744
                      },
                      {
                        "learn": [
                          0.002505881309
                        ],
                        "iteration": 376,
                        "passed_time": 26.58936888,
                        "remaining_time": 43.93946103
                      },
                      {
                        "learn": [
                          0.002505490388
                        ],
                        "iteration": 377,
                        "passed_time": 26.65033768,
                        "remaining_time": 43.85320115
                      },
                      {
                        "learn": [
                          0.002496981372
                        ],
                        "iteration": 378,
                        "passed_time": 26.72741522,
                        "remaining_time": 43.79346926
                      },
                      {
                        "learn": [
                          0.002495349243
                        ],
                        "iteration": 379,
                        "passed_time": 26.79010266,
                        "remaining_time": 43.7101675
                      },
                      {
                        "learn": [
                          0.002490908408
                        ],
                        "iteration": 380,
                        "passed_time": 26.86175839,
                        "remaining_time": 43.64154448
                      },
                      {
                        "learn": [
                          0.002490001534
                        ],
                        "iteration": 381,
                        "passed_time": 26.94971311,
                        "remaining_time": 43.59927408
                      },
                      {
                        "learn": [
                          0.002488543264
                        ],
                        "iteration": 382,
                        "passed_time": 27.01479441,
                        "remaining_time": 43.51991684
                      },
                      {
                        "learn": [
                          0.002483520315
                        ],
                        "iteration": 383,
                        "passed_time": 27.08319329,
                        "remaining_time": 43.4459559
                      },
                      {
                        "learn": [
                          0.002482451457
                        ],
                        "iteration": 384,
                        "passed_time": 27.14484478,
                        "remaining_time": 43.36124555
                      },
                      {
                        "learn": [
                          0.002481148535
                        ],
                        "iteration": 385,
                        "passed_time": 27.21408287,
                        "remaining_time": 43.2887225
                      },
                      {
                        "learn": [
                          0.002475985012
                        ],
                        "iteration": 386,
                        "passed_time": 27.28477339,
                        "remaining_time": 43.21851703
                      },
                      {
                        "learn": [
                          0.002470754001
                        ],
                        "iteration": 387,
                        "passed_time": 27.34999561,
                        "remaining_time": 43.1396838
                      },
                      {
                        "learn": [
                          0.002463398206
                        ],
                        "iteration": 388,
                        "passed_time": 27.42986192,
                        "remaining_time": 43.08392194
                      },
                      {
                        "learn": [
                          0.002455809378
                        ],
                        "iteration": 389,
                        "passed_time": 27.50387591,
                        "remaining_time": 43.01888283
                      },
                      {
                        "learn": [
                          0.002452389382
                        ],
                        "iteration": 390,
                        "passed_time": 27.57010529,
                        "remaining_time": 42.94167295
                      },
                      {
                        "learn": [
                          0.002450862752
                        ],
                        "iteration": 391,
                        "passed_time": 27.64400344,
                        "remaining_time": 42.8764135
                      },
                      {
                        "learn": [
                          0.002444637224
                        ],
                        "iteration": 392,
                        "passed_time": 27.71680383,
                        "remaining_time": 42.80941457
                      },
                      {
                        "learn": [
                          0.002444174876
                        ],
                        "iteration": 393,
                        "passed_time": 27.77977649,
                        "remaining_time": 42.72727043
                      },
                      {
                        "learn": [
                          0.002442915096
                        ],
                        "iteration": 394,
                        "passed_time": 27.84419648,
                        "remaining_time": 42.64744017
                      },
                      {
                        "learn": [
                          0.002440331253
                        ],
                        "iteration": 395,
                        "passed_time": 28.00199022,
                        "remaining_time": 42.71010629
                      },
                      {
                        "learn": [
                          0.002433214692
                        ],
                        "iteration": 396,
                        "passed_time": 28.07517182,
                        "remaining_time": 42.64314511
                      },
                      {
                        "learn": [
                          0.002429202396
                        ],
                        "iteration": 397,
                        "passed_time": 28.14173222,
                        "remaining_time": 42.56613769
                      },
                      {
                        "learn": [
                          0.00242851987
                        ],
                        "iteration": 398,
                        "passed_time": 28.2089797,
                        "remaining_time": 42.49021754
                      },
                      {
                        "learn": [
                          0.002426974504
                        ],
                        "iteration": 399,
                        "passed_time": 28.27432297,
                        "remaining_time": 42.41148445
                      },
                      {
                        "learn": [
                          0.00241996541
                        ],
                        "iteration": 400,
                        "passed_time": 28.34750066,
                        "remaining_time": 42.34452094
                      },
                      {
                        "learn": [
                          0.002417790864
                        ],
                        "iteration": 401,
                        "passed_time": 28.41713665,
                        "remaining_time": 42.27225801
                      },
                      {
                        "learn": [
                          0.00241269108
                        ],
                        "iteration": 402,
                        "passed_time": 28.48901251,
                        "remaining_time": 42.20332622
                      },
                      {
                        "learn": [
                          0.002409290076
                        ],
                        "iteration": 403,
                        "passed_time": 28.56131777,
                        "remaining_time": 42.13501335
                      },
                      {
                        "learn": [
                          0.002407737819
                        ],
                        "iteration": 404,
                        "passed_time": 28.62429306,
                        "remaining_time": 42.05297375
                      },
                      {
                        "learn": [
                          0.00240014646
                        ],
                        "iteration": 405,
                        "passed_time": 28.69908783,
                        "remaining_time": 41.98832061
                      },
                      {
                        "learn": [
                          0.002397584145
                        ],
                        "iteration": 406,
                        "passed_time": 28.76826562,
                        "remaining_time": 41.91543369
                      },
                      {
                        "learn": [
                          0.002397243894
                        ],
                        "iteration": 407,
                        "passed_time": 28.82881532,
                        "remaining_time": 41.83004575
                      },
                      {
                        "learn": [
                          0.002394844715
                        ],
                        "iteration": 408,
                        "passed_time": 28.89902656,
                        "remaining_time": 41.7587401
                      },
                      {
                        "learn": [
                          0.002390776894
                        ],
                        "iteration": 409,
                        "passed_time": 28.98500925,
                        "remaining_time": 41.71013527
                      },
                      {
                        "learn": [
                          0.00238920723
                        ],
                        "iteration": 410,
                        "passed_time": 29.05629562,
                        "remaining_time": 41.6402874
                      },
                      {
                        "learn": [
                          0.0023842011
                        ],
                        "iteration": 411,
                        "passed_time": 29.13130429,
                        "remaining_time": 41.57574496
                      },
                      {
                        "learn": [
                          0.002383156486
                        ],
                        "iteration": 412,
                        "passed_time": 29.19594465,
                        "remaining_time": 41.49641527
                      },
                      {
                        "learn": [
                          0.002379185914
                        ],
                        "iteration": 413,
                        "passed_time": 29.26898611,
                        "remaining_time": 41.42904798
                      },
                      {
                        "learn": [
                          0.002378309975
                        ],
                        "iteration": 414,
                        "passed_time": 29.33447469,
                        "remaining_time": 41.35100649
                      },
                      {
                        "learn": [
                          0.002375033865
                        ],
                        "iteration": 415,
                        "passed_time": 29.40868118,
                        "remaining_time": 41.28526397
                      },
                      {
                        "learn": [
                          0.002368367273
                        ],
                        "iteration": 416,
                        "passed_time": 29.48394052,
                        "remaining_time": 41.22095282
                      },
                      {
                        "learn": [
                          0.002363930185
                        ],
                        "iteration": 417,
                        "passed_time": 29.55262086,
                        "remaining_time": 41.14742905
                      },
                      {
                        "learn": [
                          0.002360386508
                        ],
                        "iteration": 418,
                        "passed_time": 29.62292732,
                        "remaining_time": 41.07618323
                      },
                      {
                        "learn": [
                          0.002359596515
                        ],
                        "iteration": 419,
                        "passed_time": 29.68790655,
                        "remaining_time": 40.99758523
                      },
                      {
                        "learn": [
                          0.002353693181
                        ],
                        "iteration": 420,
                        "passed_time": 29.75587117,
                        "remaining_time": 40.92315773
                      },
                      {
                        "learn": [
                          0.002351959417
                        ],
                        "iteration": 421,
                        "passed_time": 29.82184784,
                        "remaining_time": 40.84603804
                      },
                      {
                        "learn": [
                          0.002351093534
                        ],
                        "iteration": 422,
                        "passed_time": 29.88256458,
                        "remaining_time": 40.76179612
                      },
                      {
                        "learn": [
                          0.002344987369
                        ],
                        "iteration": 423,
                        "passed_time": 29.96161968,
                        "remaining_time": 40.70257768
                      },
                      {
                        "learn": [
                          0.002340356682
                        ],
                        "iteration": 424,
                        "passed_time": 30.04696348,
                        "remaining_time": 40.65177412
                      },
                      {
                        "learn": [
                          0.002338204097
                        ],
                        "iteration": 425,
                        "passed_time": 30.12372201,
                        "remaining_time": 40.58924045
                      },
                      {
                        "learn": [
                          0.002336582468
                        ],
                        "iteration": 426,
                        "passed_time": 30.18917852,
                        "remaining_time": 40.51147376
                      },
                      {
                        "learn": [
                          0.002334548939
                        ],
                        "iteration": 427,
                        "passed_time": 30.25929364,
                        "remaining_time": 40.43999056
                      },
                      {
                        "learn": [
                          0.002332798046
                        ],
                        "iteration": 428,
                        "passed_time": 30.32877004,
                        "remaining_time": 40.36766362
                      },
                      {
                        "learn": [
                          0.002329624266
                        ],
                        "iteration": 429,
                        "passed_time": 30.39639774,
                        "remaining_time": 40.29289933
                      },
                      {
                        "learn": [
                          0.002327473766
                        ],
                        "iteration": 430,
                        "passed_time": 30.4676551,
                        "remaining_time": 40.22295998
                      },
                      {
                        "learn": [
                          0.002323286631
                        ],
                        "iteration": 431,
                        "passed_time": 30.54396719,
                        "remaining_time": 40.15966056
                      },
                      {
                        "learn": [
                          0.002321920431
                        ],
                        "iteration": 432,
                        "passed_time": 30.60767427,
                        "remaining_time": 40.07979518
                      },
                      {
                        "learn": [
                          0.002319307415
                        ],
                        "iteration": 433,
                        "passed_time": 30.67528035,
                        "remaining_time": 40.00508912
                      },
                      {
                        "learn": [
                          0.002315902449
                        ],
                        "iteration": 434,
                        "passed_time": 30.74874086,
                        "remaining_time": 39.93801974
                      },
                      {
                        "learn": [
                          0.00231331229
                        ],
                        "iteration": 435,
                        "passed_time": 30.82360752,
                        "remaining_time": 39.87274
                      },
                      {
                        "learn": [
                          0.002310924202
                        ],
                        "iteration": 436,
                        "passed_time": 30.88858088,
                        "remaining_time": 39.79467056
                      },
                      {
                        "learn": [
                          0.002306725247
                        ],
                        "iteration": 437,
                        "passed_time": 30.96942951,
                        "remaining_time": 39.73703056
                      },
                      {
                        "learn": [
                          0.002300116692
                        ],
                        "iteration": 438,
                        "passed_time": 31.06048123,
                        "remaining_time": 39.6923234
                      },
                      {
                        "learn": [
                          0.002298292223
                        ],
                        "iteration": 439,
                        "passed_time": 31.12405874,
                        "remaining_time": 39.6124384
                      },
                      {
                        "learn": [
                          0.002295832328
                        ],
                        "iteration": 440,
                        "passed_time": 31.19511068,
                        "remaining_time": 39.54210175
                      },
                      {
                        "learn": [
                          0.002292854979
                        ],
                        "iteration": 441,
                        "passed_time": 31.26104974,
                        "remaining_time": 39.46530713
                      },
                      {
                        "learn": [
                          0.002283135702
                        ],
                        "iteration": 442,
                        "passed_time": 31.32767576,
                        "remaining_time": 39.38942528
                      },
                      {
                        "learn": [
                          0.00227837854
                        ],
                        "iteration": 443,
                        "passed_time": 31.3956903,
                        "remaining_time": 39.31532389
                      },
                      {
                        "learn": [
                          0.002274204272
                        ],
                        "iteration": 444,
                        "passed_time": 31.46287259,
                        "remaining_time": 39.24021188
                      },
                      {
                        "learn": [
                          0.002270084827
                        ],
                        "iteration": 445,
                        "passed_time": 31.5331023,
                        "remaining_time": 39.1689208
                      },
                      {
                        "learn": [
                          0.002268000771
                        ],
                        "iteration": 446,
                        "passed_time": 31.60421227,
                        "remaining_time": 39.09872346
                      },
                      {
                        "learn": [
                          0.002263569825
                        ],
                        "iteration": 447,
                        "passed_time": 31.67605765,
                        "remaining_time": 39.02942817
                      },
                      {
                        "learn": [
                          0.002261147303
                        ],
                        "iteration": 448,
                        "passed_time": 31.74233503,
                        "remaining_time": 38.95328865
                      },
                      {
                        "learn": [
                          0.002259065863
                        ],
                        "iteration": 449,
                        "passed_time": 31.80461283,
                        "remaining_time": 38.87230456
                      },
                      {
                        "learn": [
                          0.002254518205
                        ],
                        "iteration": 450,
                        "passed_time": 31.87693858,
                        "remaining_time": 38.80363477
                      },
                      {
                        "learn": [
                          0.002249090309
                        ],
                        "iteration": 451,
                        "passed_time": 31.95202859,
                        "remaining_time": 38.73830014
                      },
                      {
                        "learn": [
                          0.00224848519
                        ],
                        "iteration": 452,
                        "passed_time": 32.02719238,
                        "remaining_time": 38.67301155
                      },
                      {
                        "learn": [
                          0.002247368044
                        ],
                        "iteration": 453,
                        "passed_time": 32.10004321,
                        "remaining_time": 38.60489778
                      },
                      {
                        "learn": [
                          0.002245824796
                        ],
                        "iteration": 454,
                        "passed_time": 32.17532358,
                        "remaining_time": 38.5396733
                      },
                      {
                        "learn": [
                          0.00224481995
                        ],
                        "iteration": 455,
                        "passed_time": 32.24030709,
                        "remaining_time": 38.46212073
                      },
                      {
                        "learn": [
                          0.002241357695
                        ],
                        "iteration": 456,
                        "passed_time": 32.31203371,
                        "remaining_time": 38.39263524
                      },
                      {
                        "learn": [
                          0.002234228962
                        ],
                        "iteration": 457,
                        "passed_time": 32.38544167,
                        "remaining_time": 38.32512967
                      },
                      {
                        "learn": [
                          0.002228597345
                        ],
                        "iteration": 458,
                        "passed_time": 32.45938869,
                        "remaining_time": 38.25823373
                      },
                      {
                        "learn": [
                          0.002225943544
                        ],
                        "iteration": 459,
                        "passed_time": 32.52790025,
                        "remaining_time": 38.18492638
                      },
                      {
                        "learn": [
                          0.002220304154
                        ],
                        "iteration": 460,
                        "passed_time": 32.60696641,
                        "remaining_time": 38.12398025
                      },
                      {
                        "learn": [
                          0.002217947002
                        ],
                        "iteration": 461,
                        "passed_time": 32.67588126,
                        "remaining_time": 38.05113446
                      },
                      {
                        "learn": [
                          0.002216019917
                        ],
                        "iteration": 462,
                        "passed_time": 32.74581005,
                        "remaining_time": 37.97948163
                      },
                      {
                        "learn": [
                          0.002212882676
                        ],
                        "iteration": 463,
                        "passed_time": 32.8142459,
                        "remaining_time": 37.90611165
                      },
                      {
                        "learn": [
                          0.002210009941
                        ],
                        "iteration": 464,
                        "passed_time": 32.8859789,
                        "remaining_time": 37.83655637
                      },
                      {
                        "learn": [
                          0.002207217587
                        ],
                        "iteration": 465,
                        "passed_time": 32.96435737,
                        "remaining_time": 37.77460694
                      },
                      {
                        "learn": [
                          0.002204664611
                        ],
                        "iteration": 466,
                        "passed_time": 33.06388145,
                        "remaining_time": 37.73672123
                      },
                      {
                        "learn": [
                          0.002202138067
                        ],
                        "iteration": 467,
                        "passed_time": 33.13196809,
                        "remaining_time": 37.66283552
                      },
                      {
                        "learn": [
                          0.002201079243
                        ],
                        "iteration": 468,
                        "passed_time": 33.19965818,
                        "remaining_time": 37.58852558
                      },
                      {
                        "learn": [
                          0.002197706126
                        ],
                        "iteration": 469,
                        "passed_time": 33.26956432,
                        "remaining_time": 37.51674274
                      },
                      {
                        "learn": [
                          0.002196034318
                        ],
                        "iteration": 470,
                        "passed_time": 33.34286243,
                        "remaining_time": 37.44877755
                      },
                      {
                        "learn": [
                          0.002192011864
                        ],
                        "iteration": 471,
                        "passed_time": 33.41554004,
                        "remaining_time": 37.38009564
                      },
                      {
                        "learn": [
                          0.002187817348
                        ],
                        "iteration": 472,
                        "passed_time": 33.48868761,
                        "remaining_time": 37.31192044
                      },
                      {
                        "learn": [
                          0.002186549576
                        ],
                        "iteration": 473,
                        "passed_time": 33.55127728,
                        "remaining_time": 37.23200812
                      },
                      {
                        "learn": [
                          0.002184204425
                        ],
                        "iteration": 474,
                        "passed_time": 33.61736942,
                        "remaining_time": 37.15603989
                      },
                      {
                        "learn": [
                          0.002182210918
                        ],
                        "iteration": 475,
                        "passed_time": 33.6865303,
                        "remaining_time": 37.08349134
                      },
                      {
                        "learn": [
                          0.002180707806
                        ],
                        "iteration": 476,
                        "passed_time": 33.75346941,
                        "remaining_time": 37.00852096
                      },
                      {
                        "learn": [
                          0.002176570308
                        ],
                        "iteration": 477,
                        "passed_time": 33.82326469,
                        "remaining_time": 36.93670328
                      },
                      {
                        "learn": [
                          0.002173976512
                        ],
                        "iteration": 478,
                        "passed_time": 33.8914698,
                        "remaining_time": 36.86316444
                      },
                      {
                        "learn": [
                          0.002172738662
                        ],
                        "iteration": 479,
                        "passed_time": 33.96160531,
                        "remaining_time": 36.79173908
                      },
                      {
                        "learn": [
                          0.002163288071
                        ],
                        "iteration": 480,
                        "passed_time": 34.03733339,
                        "remaining_time": 36.7263535
                      },
                      {
                        "learn": [
                          0.002161315977
                        ],
                        "iteration": 481,
                        "passed_time": 34.11781885,
                        "remaining_time": 36.66603769
                      },
                      {
                        "learn": [
                          0.002157669903
                        ],
                        "iteration": 482,
                        "passed_time": 34.19151566,
                        "remaining_time": 36.59837184
                      },
                      {
                        "learn": [
                          0.002155380035
                        ],
                        "iteration": 483,
                        "passed_time": 34.26132632,
                        "remaining_time": 36.52653798
                      },
                      {
                        "learn": [
                          0.00215411168
                        ],
                        "iteration": 484,
                        "passed_time": 34.32835711,
                        "remaining_time": 36.45176064
                      },
                      {
                        "learn": [
                          0.002153307844
                        ],
                        "iteration": 485,
                        "passed_time": 34.39144662,
                        "remaining_time": 36.37284683
                      },
                      {
                        "learn": [
                          0.002149236675
                        ],
                        "iteration": 486,
                        "passed_time": 34.46066793,
                        "remaining_time": 36.30045718
                      },
                      {
                        "learn": [
                          0.002146802397
                        ],
                        "iteration": 487,
                        "passed_time": 34.53186144,
                        "remaining_time": 36.2301497
                      },
                      {
                        "learn": [
                          0.002144594237
                        ],
                        "iteration": 488,
                        "passed_time": 34.60139252,
                        "remaining_time": 36.15810139
                      },
                      {
                        "learn": [
                          0.002135687404
                        ],
                        "iteration": 489,
                        "passed_time": 34.6797767,
                        "remaining_time": 36.09527779
                      },
                      {
                        "learn": [
                          0.002132663032
                        ],
                        "iteration": 490,
                        "passed_time": 34.75559532,
                        "remaining_time": 36.0297312
                      },
                      {
                        "learn": [
                          0.002128803878
                        ],
                        "iteration": 491,
                        "passed_time": 34.82307903,
                        "remaining_time": 35.95553689
                      },
                      {
                        "learn": [
                          0.002124685279
                        ],
                        "iteration": 492,
                        "passed_time": 34.90409635,
                        "remaining_time": 35.89528773
                      },
                      {
                        "learn": [
                          0.002120922587
                        ],
                        "iteration": 493,
                        "passed_time": 34.97229385,
                        "remaining_time": 35.82182325
                      },
                      {
                        "learn": [
                          0.002118723649
                        ],
                        "iteration": 494,
                        "passed_time": 35.05899629,
                        "remaining_time": 35.76725884
                      },
                      {
                        "learn": [
                          0.002116870645
                        ],
                        "iteration": 495,
                        "passed_time": 35.15078078,
                        "remaining_time": 35.71772885
                      },
                      {
                        "learn": [
                          0.002112210879
                        ],
                        "iteration": 496,
                        "passed_time": 35.22341623,
                        "remaining_time": 35.64864862
                      },
                      {
                        "learn": [
                          0.002111796492
                        ],
                        "iteration": 497,
                        "passed_time": 35.27892815,
                        "remaining_time": 35.56229303
                      },
                      {
                        "learn": [
                          0.002108235441
                        ],
                        "iteration": 498,
                        "passed_time": 35.34961314,
                        "remaining_time": 35.49129496
                      },
                      {
                        "learn": [
                          0.002105685047
                        ],
                        "iteration": 499,
                        "passed_time": 35.42107105,
                        "remaining_time": 35.42107105
                      },
                      {
                        "learn": [
                          0.00210420748
                        ],
                        "iteration": 500,
                        "passed_time": 35.49548534,
                        "remaining_time": 35.35378679
                      },
                      {
                        "learn": [
                          0.002097276091
                        ],
                        "iteration": 501,
                        "passed_time": 35.56511306,
                        "remaining_time": 35.2817257
                      },
                      {
                        "learn": [
                          0.002095341541
                        ],
                        "iteration": 502,
                        "passed_time": 35.63487296,
                        "remaining_time": 35.20980489
                      },
                      {
                        "learn": [
                          0.002091901516
                        ],
                        "iteration": 503,
                        "passed_time": 35.70496021,
                        "remaining_time": 35.13821481
                      },
                      {
                        "learn": [
                          0.002089019254
                        ],
                        "iteration": 504,
                        "passed_time": 35.78318362,
                        "remaining_time": 35.07460573
                      },
                      {
                        "learn": [
                          0.002084112158
                        ],
                        "iteration": 505,
                        "passed_time": 35.85910119,
                        "remaining_time": 35.00868772
                      },
                      {
                        "learn": [
                          0.002081060764
                        ],
                        "iteration": 506,
                        "passed_time": 35.92955699,
                        "remaining_time": 34.93741933
                      },
                      {
                        "learn": [
                          0.002076807977
                        ],
                        "iteration": 507,
                        "passed_time": 36.00630693,
                        "remaining_time": 34.87225002
                      },
                      {
                        "learn": [
                          0.002072080512
                        ],
                        "iteration": 508,
                        "passed_time": 36.08246511,
                        "remaining_time": 34.80646438
                      },
                      {
                        "learn": [
                          0.002071219299
                        ],
                        "iteration": 509,
                        "passed_time": 36.15290311,
                        "remaining_time": 34.7351422
                      },
                      {
                        "learn": [
                          0.002070765275
                        ],
                        "iteration": 510,
                        "passed_time": 36.22256399,
                        "remaining_time": 34.66307982
                      },
                      {
                        "learn": [
                          0.002069813384
                        ],
                        "iteration": 511,
                        "passed_time": 36.29725638,
                        "remaining_time": 34.59582249
                      },
                      {
                        "learn": [
                          0.002066337518
                        ],
                        "iteration": 512,
                        "passed_time": 36.37091107,
                        "remaining_time": 34.52755106
                      },
                      {
                        "learn": [
                          0.002065158077
                        ],
                        "iteration": 513,
                        "passed_time": 36.43772246,
                        "remaining_time": 34.45278817
                      },
                      {
                        "learn": [
                          0.00206040021
                        ],
                        "iteration": 514,
                        "passed_time": 36.5088231,
                        "remaining_time": 34.38209554
                      },
                      {
                        "learn": [
                          0.002059001863
                        ],
                        "iteration": 515,
                        "passed_time": 36.57191829,
                        "remaining_time": 34.30389235
                      },
                      {
                        "learn": [
                          0.002057330316
                        ],
                        "iteration": 516,
                        "passed_time": 36.64308526,
                        "remaining_time": 34.23328855
                      },
                      {
                        "learn": [
                          0.002054014017
                        ],
                        "iteration": 517,
                        "passed_time": 36.71378283,
                        "remaining_time": 34.1622458
                      },
                      {
                        "learn": [
                          0.00205239352
                        ],
                        "iteration": 518,
                        "passed_time": 36.77937275,
                        "remaining_time": 34.0864707
                      },
                      {
                        "learn": [
                          0.002048843824
                        ],
                        "iteration": 519,
                        "passed_time": 36.8504579,
                        "remaining_time": 34.0158073
                      },
                      {
                        "learn": [
                          0.002046451966
                        ],
                        "iteration": 520,
                        "passed_time": 36.91945504,
                        "remaining_time": 33.94322258
                      },
                      {
                        "learn": [
                          0.002045512853
                        ],
                        "iteration": 521,
                        "passed_time": 36.98905315,
                        "remaining_time": 33.87120193
                      },
                      {
                        "learn": [
                          0.002043938601
                        ],
                        "iteration": 522,
                        "passed_time": 37.06944989,
                        "remaining_time": 33.80903939
                      },
                      {
                        "learn": [
                          0.002043130279
                        ],
                        "iteration": 523,
                        "passed_time": 37.15951671,
                        "remaining_time": 33.75559151
                      },
                      {
                        "learn": [
                          0.002042242884
                        ],
                        "iteration": 524,
                        "passed_time": 37.22906155,
                        "remaining_time": 33.68343664
                      },
                      {
                        "learn": [
                          0.002035077489
                        ],
                        "iteration": 525,
                        "passed_time": 37.30473067,
                        "remaining_time": 33.61681053
                      },
                      {
                        "learn": [
                          0.002033429147
                        ],
                        "iteration": 526,
                        "passed_time": 37.37536142,
                        "remaining_time": 33.54562799
                      },
                      {
                        "learn": [
                          0.002032999277
                        ],
                        "iteration": 527,
                        "passed_time": 37.43809862,
                        "remaining_time": 33.46739119
                      },
                      {
                        "learn": [
                          0.002029583251
                        ],
                        "iteration": 528,
                        "passed_time": 37.50457245,
                        "remaining_time": 33.39253993
                      },
                      {
                        "learn": [
                          0.002026170716
                        ],
                        "iteration": 529,
                        "passed_time": 37.57643376,
                        "remaining_time": 33.32249786
                      },
                      {
                        "learn": [
                          0.002023690151
                        ],
                        "iteration": 530,
                        "passed_time": 37.65227792,
                        "remaining_time": 33.25596675
                      },
                      {
                        "learn": [
                          0.002022737819
                        ],
                        "iteration": 531,
                        "passed_time": 37.71968159,
                        "remaining_time": 33.18197554
                      },
                      {
                        "learn": [
                          0.002019798245
                        ],
                        "iteration": 532,
                        "passed_time": 37.79526418,
                        "remaining_time": 33.11517518
                      },
                      {
                        "learn": [
                          0.002019103114
                        ],
                        "iteration": 533,
                        "passed_time": 37.86107465,
                        "remaining_time": 33.0398142
                      },
                      {
                        "learn": [
                          0.002017406857
                        ],
                        "iteration": 534,
                        "passed_time": 37.93165289,
                        "remaining_time": 32.96863289
                      },
                      {
                        "learn": [
                          0.002014940837
                        ],
                        "iteration": 535,
                        "passed_time": 38.00602997,
                        "remaining_time": 32.90074236
                      },
                      {
                        "learn": [
                          0.0020067092
                        ],
                        "iteration": 536,
                        "passed_time": 38.08785544,
                        "remaining_time": 32.83924966
                      },
                      {
                        "learn": [
                          0.002005434661
                        ],
                        "iteration": 537,
                        "passed_time": 38.17324407,
                        "remaining_time": 32.78074119
                      },
                      {
                        "learn": [
                          0.002000077532
                        ],
                        "iteration": 538,
                        "passed_time": 38.24551981,
                        "remaining_time": 32.71091768
                      },
                      {
                        "learn": [
                          0.001998621356
                        ],
                        "iteration": 539,
                        "passed_time": 38.31800447,
                        "remaining_time": 32.64126307
                      },
                      {
                        "learn": [
                          0.001994733048
                        ],
                        "iteration": 540,
                        "passed_time": 38.3868256,
                        "remaining_time": 32.56848974
                      },
                      {
                        "learn": [
                          0.001993785013
                        ],
                        "iteration": 541,
                        "passed_time": 38.45799772,
                        "remaining_time": 32.49771763
                      },
                      {
                        "learn": [
                          0.001988377276
                        ],
                        "iteration": 542,
                        "passed_time": 38.5296706,
                        "remaining_time": 32.42736549
                      },
                      {
                        "learn": [
                          0.001987511647
                        ],
                        "iteration": 543,
                        "passed_time": 38.59715658,
                        "remaining_time": 32.3534989
                      },
                      {
                        "learn": [
                          0.001977031063
                        ],
                        "iteration": 544,
                        "passed_time": 38.67634839,
                        "remaining_time": 32.28942847
                      },
                      {
                        "learn": [
                          0.00197295114
                        ],
                        "iteration": 545,
                        "passed_time": 38.74510905,
                        "remaining_time": 32.21662914
                      },
                      {
                        "learn": [
                          0.001971927636
                        ],
                        "iteration": 546,
                        "passed_time": 38.81635127,
                        "remaining_time": 32.14589968
                      },
                      {
                        "learn": [
                          0.001970156065
                        ],
                        "iteration": 547,
                        "passed_time": 38.88925479,
                        "remaining_time": 32.07653862
                      },
                      {
                        "learn": [
                          0.001968559656
                        ],
                        "iteration": 548,
                        "passed_time": 38.95854815,
                        "remaining_time": 32.00419894
                      },
                      {
                        "learn": [
                          0.001967950808
                        ],
                        "iteration": 549,
                        "passed_time": 39.02497397,
                        "remaining_time": 31.92952416
                      },
                      {
                        "learn": [
                          0.001962606155
                        ],
                        "iteration": 550,
                        "passed_time": 39.10707324,
                        "remaining_time": 31.86765133
                      },
                      {
                        "learn": [
                          0.001961170088
                        ],
                        "iteration": 551,
                        "passed_time": 39.19552366,
                        "remaining_time": 31.81085978
                      },
                      {
                        "learn": [
                          0.001959934744
                        ],
                        "iteration": 552,
                        "passed_time": 39.25881064,
                        "remaining_time": 31.73361367
                      },
                      {
                        "learn": [
                          0.001958382977
                        ],
                        "iteration": 553,
                        "passed_time": 39.33323248,
                        "remaining_time": 31.66538211
                      },
                      {
                        "learn": [
                          0.001952314564
                        ],
                        "iteration": 554,
                        "passed_time": 39.40751813,
                        "remaining_time": 31.59701904
                      },
                      {
                        "learn": [
                          0.001945661406
                        ],
                        "iteration": 555,
                        "passed_time": 39.48521499,
                        "remaining_time": 31.53135873
                      },
                      {
                        "learn": [
                          0.00194401917
                        ],
                        "iteration": 556,
                        "passed_time": 39.55823614,
                        "remaining_time": 31.46193646
                      },
                      {
                        "learn": [
                          0.001941920292
                        ],
                        "iteration": 557,
                        "passed_time": 39.62550421,
                        "remaining_time": 31.38794419
                      },
                      {
                        "learn": [
                          0.001941212694
                        ],
                        "iteration": 558,
                        "passed_time": 39.69779204,
                        "remaining_time": 31.31793612
                      },
                      {
                        "learn": [
                          0.001939331706
                        ],
                        "iteration": 559,
                        "passed_time": 39.78055774,
                        "remaining_time": 31.25615251
                      },
                      {
                        "learn": [
                          0.00193599302
                        ],
                        "iteration": 560,
                        "passed_time": 39.85261327,
                        "remaining_time": 31.18591306
                      },
                      {
                        "learn": [
                          0.001935252224
                        ],
                        "iteration": 561,
                        "passed_time": 39.92334199,
                        "remaining_time": 31.11463308
                      },
                      {
                        "learn": [
                          0.001934744491
                        ],
                        "iteration": 562,
                        "passed_time": 39.99083978,
                        "remaining_time": 31.04084722
                      },
                      {
                        "learn": [
                          0.001933611175
                        ],
                        "iteration": 563,
                        "passed_time": 40.06089069,
                        "remaining_time": 30.96905734
                      },
                      {
                        "learn": [
                          0.001932570361
                        ],
                        "iteration": 564,
                        "passed_time": 40.1332219,
                        "remaining_time": 30.89902925
                      },
                      {
                        "learn": [
                          0.001921500213
                        ],
                        "iteration": 565,
                        "passed_time": 40.23438903,
                        "remaining_time": 30.85110396
                      },
                      {
                        "learn": [
                          0.001920051039
                        ],
                        "iteration": 566,
                        "passed_time": 40.2994172,
                        "remaining_time": 30.77539268
                      },
                      {
                        "learn": [
                          0.001917140957
                        ],
                        "iteration": 567,
                        "passed_time": 40.3740301,
                        "remaining_time": 30.70700881
                      },
                      {
                        "learn": [
                          0.001914636531
                        ],
                        "iteration": 568,
                        "passed_time": 40.44235019,
                        "remaining_time": 30.63383643
                      },
                      {
                        "learn": [
                          0.001914531235
                        ],
                        "iteration": 569,
                        "passed_time": 40.50454152,
                        "remaining_time": 30.55605764
                      },
                      {
                        "learn": [
                          0.001913809802
                        ],
                        "iteration": 570,
                        "passed_time": 40.5699092,
                        "remaining_time": 30.48071987
                      },
                      {
                        "learn": [
                          0.00190864878
                        ],
                        "iteration": 571,
                        "passed_time": 40.64125838,
                        "remaining_time": 30.40989264
                      },
                      {
                        "learn": [
                          0.0019055354
                        ],
                        "iteration": 572,
                        "passed_time": 40.71900815,
                        "remaining_time": 30.3438333
                      },
                      {
                        "learn": [
                          0.001904650187
                        ],
                        "iteration": 573,
                        "passed_time": 40.78527232,
                        "remaining_time": 30.26920907
                      },
                      {
                        "learn": [
                          0.001899657134
                        ],
                        "iteration": 574,
                        "passed_time": 40.85492959,
                        "remaining_time": 30.19712187
                      },
                      {
                        "learn": [
                          0.00189894085
                        ],
                        "iteration": 575,
                        "passed_time": 40.92314439,
                        "remaining_time": 30.12398129
                      },
                      {
                        "learn": [
                          0.001895774082
                        ],
                        "iteration": 576,
                        "passed_time": 40.99555862,
                        "remaining_time": 30.05393639
                      },
                      {
                        "learn": [
                          0.001895433208
                        ],
                        "iteration": 577,
                        "passed_time": 41.06396583,
                        "remaining_time": 29.98095775
                      },
                      {
                        "learn": [
                          0.001892347886
                        ],
                        "iteration": 578,
                        "passed_time": 41.14005493,
                        "remaining_time": 29.91358053
                      },
                      {
                        "learn": [
                          0.001889740564
                        ],
                        "iteration": 579,
                        "passed_time": 41.22746895,
                        "remaining_time": 29.85437407
                      },
                      {
                        "learn": [
                          0.001888059222
                        ],
                        "iteration": 580,
                        "passed_time": 41.29492495,
                        "remaining_time": 29.78067737
                      },
                      {
                        "learn": [
                          0.001884733628
                        ],
                        "iteration": 581,
                        "passed_time": 41.36807699,
                        "remaining_time": 29.71109309
                      },
                      {
                        "learn": [
                          0.001884528973
                        ],
                        "iteration": 582,
                        "passed_time": 41.43293518,
                        "remaining_time": 29.63556427
                      },
                      {
                        "learn": [
                          0.001882019132
                        ],
                        "iteration": 583,
                        "passed_time": 41.50445615,
                        "remaining_time": 29.56481808
                      },
                      {
                        "learn": [
                          0.001878158968
                        ],
                        "iteration": 584,
                        "passed_time": 41.57879499,
                        "remaining_time": 29.49606824
                      },
                      {
                        "learn": [
                          0.001877357057
                        ],
                        "iteration": 585,
                        "passed_time": 41.64707863,
                        "remaining_time": 29.42302142
                      },
                      {
                        "learn": [
                          0.001874179484
                        ],
                        "iteration": 586,
                        "passed_time": 41.71647356,
                        "remaining_time": 29.35077271
                      },
                      {
                        "learn": [
                          0.001873531893
                        ],
                        "iteration": 587,
                        "passed_time": 41.77852898,
                        "remaining_time": 29.27339105
                      },
                      {
                        "learn": [
                          0.001871579785
                        ],
                        "iteration": 588,
                        "passed_time": 41.84862562,
                        "remaining_time": 29.20167255
                      },
                      {
                        "learn": [
                          0.001871502829
                        ],
                        "iteration": 589,
                        "passed_time": 41.91102889,
                        "remaining_time": 29.1246133
                      },
                      {
                        "learn": [
                          0.001870257573
                        ],
                        "iteration": 590,
                        "passed_time": 41.99470717,
                        "remaining_time": 29.06232696
                      },
                      {
                        "learn": [
                          0.001867974461
                        ],
                        "iteration": 591,
                        "passed_time": 42.06887773,
                        "remaining_time": 28.99341573
                      },
                      {
                        "learn": [
                          0.001862387853
                        ],
                        "iteration": 592,
                        "passed_time": 42.14770535,
                        "remaining_time": 28.9276831
                      },
                      {
                        "learn": [
                          0.001856247338
                        ],
                        "iteration": 593,
                        "passed_time": 42.24938737,
                        "remaining_time": 28.8775274
                      },
                      {
                        "learn": [
                          0.001855963986
                        ],
                        "iteration": 594,
                        "passed_time": 42.3143172,
                        "remaining_time": 28.8021823
                      },
                      {
                        "learn": [
                          0.001848991915
                        ],
                        "iteration": 595,
                        "passed_time": 42.38295836,
                        "remaining_time": 28.72938788
                      },
                      {
                        "learn": [
                          0.00184573955
                        ],
                        "iteration": 596,
                        "passed_time": 42.45543366,
                        "remaining_time": 28.65919559
                      },
                      {
                        "learn": [
                          0.001843447892
                        ],
                        "iteration": 597,
                        "passed_time": 42.52281182,
                        "remaining_time": 28.58556915
                      },
                      {
                        "learn": [
                          0.001842582057
                        ],
                        "iteration": 598,
                        "passed_time": 42.58527118,
                        "remaining_time": 28.50867069
                      },
                      {
                        "learn": [
                          0.001840143521
                        ],
                        "iteration": 599,
                        "passed_time": 42.65103693,
                        "remaining_time": 28.43402462
                      },
                      {
                        "learn": [
                          0.001839866907
                        ],
                        "iteration": 600,
                        "passed_time": 42.70631818,
                        "remaining_time": 28.35244751
                      },
                      {
                        "learn": [
                          0.001835451616
                        ],
                        "iteration": 601,
                        "passed_time": 42.77681267,
                        "remaining_time": 28.28101569
                      },
                      {
                        "learn": [
                          0.001834765529
                        ],
                        "iteration": 602,
                        "passed_time": 42.84561572,
                        "remaining_time": 28.20847337
                      },
                      {
                        "learn": [
                          0.001830629923
                        ],
                        "iteration": 603,
                        "passed_time": 42.91605446,
                        "remaining_time": 28.13701584
                      },
                      {
                        "learn": [
                          0.001830197677
                        ],
                        "iteration": 604,
                        "passed_time": 42.97460665,
                        "remaining_time": 28.05780104
                      },
                      {
                        "learn": [
                          0.001826529552
                        ],
                        "iteration": 605,
                        "passed_time": 43.04312382,
                        "remaining_time": 27.98513331
                      },
                      {
                        "learn": [
                          0.001825877875
                        ],
                        "iteration": 606,
                        "passed_time": 43.10920811,
                        "remaining_time": 27.9109041
                      },
                      {
                        "learn": [
                          0.00182500163
                        ],
                        "iteration": 607,
                        "passed_time": 43.18011379,
                        "remaining_time": 27.83981021
                      },
                      {
                        "learn": [
                          0.00182314893
                        ],
                        "iteration": 608,
                        "passed_time": 43.27356451,
                        "remaining_time": 27.78319166
                      },
                      {
                        "learn": [
                          0.001821295565
                        ],
                        "iteration": 609,
                        "passed_time": 43.34496155,
                        "remaining_time": 27.71235246
                      },
                      {
                        "learn": [
                          0.001819716113
                        ],
                        "iteration": 610,
                        "passed_time": 43.4082333,
                        "remaining_time": 27.63633838
                      },
                      {
                        "learn": [
                          0.001816949192
                        ],
                        "iteration": 611,
                        "passed_time": 43.48589663,
                        "remaining_time": 27.56949002
                      },
                      {
                        "learn": [
                          0.001811942656
                        ],
                        "iteration": 612,
                        "passed_time": 43.55636717,
                        "remaining_time": 27.49806541
                      },
                      {
                        "learn": [
                          0.001811425469
                        ],
                        "iteration": 613,
                        "passed_time": 43.62096264,
                        "remaining_time": 27.42295046
                      },
                      {
                        "learn": [
                          0.001808654574
                        ],
                        "iteration": 614,
                        "passed_time": 43.68554541,
                        "remaining_time": 27.34786176
                      },
                      {
                        "learn": [
                          0.001806199799
                        ],
                        "iteration": 615,
                        "passed_time": 43.75559999,
                        "remaining_time": 27.27621818
                      },
                      {
                        "learn": [
                          0.001804126054
                        ],
                        "iteration": 616,
                        "passed_time": 43.81998191,
                        "remaining_time": 27.20105846
                      },
                      {
                        "learn": [
                          0.001803236376
                        ],
                        "iteration": 617,
                        "passed_time": 43.88932063,
                        "remaining_time": 27.12899754
                      },
                      {
                        "learn": [
                          0.00179858592
                        ],
                        "iteration": 618,
                        "passed_time": 43.96070815,
                        "remaining_time": 27.05820647
                      },
                      {
                        "learn": [
                          0.001797746126
                        ],
                        "iteration": 619,
                        "passed_time": 44.03255169,
                        "remaining_time": 26.98769297
                      },
                      {
                        "learn": [
                          0.001795238596
                        ],
                        "iteration": 620,
                        "passed_time": 44.11021383,
                        "remaining_time": 26.92072632
                      },
                      {
                        "learn": [
                          0.001792816236
                        ],
                        "iteration": 621,
                        "passed_time": 44.18668577,
                        "remaining_time": 26.85300196
                      },
                      {
                        "learn": [
                          0.001789377993
                        ],
                        "iteration": 622,
                        "passed_time": 44.2822199,
                        "remaining_time": 26.79678476
                      },
                      {
                        "learn": [
                          0.001787165519
                        ],
                        "iteration": 623,
                        "passed_time": 44.34943855,
                        "remaining_time": 26.72337964
                      },
                      {
                        "learn": [
                          0.001784754241
                        ],
                        "iteration": 624,
                        "passed_time": 44.42686446,
                        "remaining_time": 26.65611867
                      },
                      {
                        "learn": [
                          0.001782035361
                        ],
                        "iteration": 625,
                        "passed_time": 44.49984363,
                        "remaining_time": 26.58616856
                      },
                      {
                        "learn": [
                          0.001777048187
                        ],
                        "iteration": 626,
                        "passed_time": 44.57173957,
                        "remaining_time": 26.51556437
                      },
                      {
                        "learn": [
                          0.001774312915
                        ],
                        "iteration": 627,
                        "passed_time": 44.64277196,
                        "remaining_time": 26.44444454
                      },
                      {
                        "learn": [
                          0.001771324384
                        ],
                        "iteration": 628,
                        "passed_time": 44.71167333,
                        "remaining_time": 26.37206805
                      },
                      {
                        "learn": [
                          0.001769618747
                        ],
                        "iteration": 629,
                        "passed_time": 44.77485673,
                        "remaining_time": 26.29634443
                      },
                      {
                        "learn": [
                          0.001769048113
                        ],
                        "iteration": 630,
                        "passed_time": 44.84538705,
                        "remaining_time": 26.22495693
                      },
                      {
                        "learn": [
                          0.001765509813
                        ],
                        "iteration": 631,
                        "passed_time": 44.91267524,
                        "remaining_time": 26.15168431
                      },
                      {
                        "learn": [
                          0.001761568658
                        ],
                        "iteration": 632,
                        "passed_time": 44.98604614,
                        "remaining_time": 26.08195724
                      },
                      {
                        "learn": [
                          0.001755725983
                        ],
                        "iteration": 633,
                        "passed_time": 45.06419701,
                        "remaining_time": 26.01497808
                      },
                      {
                        "learn": [
                          0.001753630127
                        ],
                        "iteration": 634,
                        "passed_time": 45.13250986,
                        "remaining_time": 25.94230882
                      },
                      {
                        "learn": [
                          0.001749026656
                        ],
                        "iteration": 635,
                        "passed_time": 45.21073642,
                        "remaining_time": 25.87532713
                      },
                      {
                        "learn": [
                          0.001743619246
                        ],
                        "iteration": 636,
                        "passed_time": 45.31759638,
                        "remaining_time": 25.82462713
                      },
                      {
                        "learn": [
                          0.001741948359
                        ],
                        "iteration": 637,
                        "passed_time": 45.38580191,
                        "remaining_time": 25.75181864
                      },
                      {
                        "learn": [
                          0.001740575848
                        ],
                        "iteration": 638,
                        "passed_time": 45.45593714,
                        "remaining_time": 25.68011472
                      },
                      {
                        "learn": [
                          0.001735270098
                        ],
                        "iteration": 639,
                        "passed_time": 45.53035276,
                        "remaining_time": 25.61082343
                      },
                      {
                        "learn": [
                          0.001733535415
                        ],
                        "iteration": 640,
                        "passed_time": 45.5980692,
                        "remaining_time": 25.53776419
                      },
                      {
                        "learn": [
                          0.001728967883
                        ],
                        "iteration": 641,
                        "passed_time": 45.66800269,
                        "remaining_time": 25.46595789
                      },
                      {
                        "learn": [
                          0.001728785835
                        ],
                        "iteration": 642,
                        "passed_time": 45.72458106,
                        "remaining_time": 25.38674252
                      },
                      {
                        "learn": [
                          0.001725826802
                        ],
                        "iteration": 643,
                        "passed_time": 45.79658954,
                        "remaining_time": 25.31612714
                      },
                      {
                        "learn": [
                          0.001725485478
                        ],
                        "iteration": 644,
                        "passed_time": 45.85783712,
                        "remaining_time": 25.23958477
                      },
                      {
                        "learn": [
                          0.001723131882
                        ],
                        "iteration": 645,
                        "passed_time": 45.92911034,
                        "remaining_time": 25.16858369
                      },
                      {
                        "learn": [
                          0.001720496381
                        ],
                        "iteration": 646,
                        "passed_time": 46.00267325,
                        "remaining_time": 25.098831
                      },
                      {
                        "learn": [
                          0.001717498152
                        ],
                        "iteration": 647,
                        "passed_time": 46.06812643,
                        "remaining_time": 25.02466127
                      },
                      {
                        "learn": [
                          0.001716086912
                        ],
                        "iteration": 648,
                        "passed_time": 46.13569651,
                        "remaining_time": 24.95166329
                      },
                      {
                        "learn": [
                          0.00171166936
                        ],
                        "iteration": 649,
                        "passed_time": 46.21532943,
                        "remaining_time": 24.88517739
                      },
                      {
                        "learn": [
                          0.001708611625
                        ],
                        "iteration": 650,
                        "passed_time": 46.31622055,
                        "remaining_time": 24.83004757
                      },
                      {
                        "learn": [
                          0.001707379238
                        ],
                        "iteration": 651,
                        "passed_time": 46.38090919,
                        "remaining_time": 24.7554546
                      },
                      {
                        "learn": [
                          0.001705877929
                        ],
                        "iteration": 652,
                        "passed_time": 46.44904084,
                        "remaining_time": 24.68272155
                      },
                      {
                        "learn": [
                          0.001704355117
                        ],
                        "iteration": 653,
                        "passed_time": 46.51862443,
                        "remaining_time": 24.61077072
                      },
                      {
                        "learn": [
                          0.001701439203
                        ],
                        "iteration": 654,
                        "passed_time": 46.58764559,
                        "remaining_time": 24.53853088
                      },
                      {
                        "learn": [
                          0.001697438415
                        ],
                        "iteration": 655,
                        "passed_time": 46.66165911,
                        "remaining_time": 24.4689188
                      },
                      {
                        "learn": [
                          0.001693021157
                        ],
                        "iteration": 656,
                        "passed_time": 46.73240766,
                        "remaining_time": 24.39758878
                      },
                      {
                        "learn": [
                          0.001691102141
                        ],
                        "iteration": 657,
                        "passed_time": 46.80251102,
                        "remaining_time": 24.32592518
                      },
                      {
                        "learn": [
                          0.001690888146
                        ],
                        "iteration": 658,
                        "passed_time": 46.87125746,
                        "remaining_time": 24.25356418
                      },
                      {
                        "learn": [
                          0.001686437501
                        ],
                        "iteration": 659,
                        "passed_time": 46.94395199,
                        "remaining_time": 24.183248
                      },
                      {
                        "learn": [
                          0.001685067527
                        ],
                        "iteration": 660,
                        "passed_time": 47.00847519,
                        "remaining_time": 24.10873387
                      },
                      {
                        "learn": [
                          0.001683913407
                        ],
                        "iteration": 661,
                        "passed_time": 47.08098277,
                        "remaining_time": 24.03832655
                      },
                      {
                        "learn": [
                          0.001682458498
                        ],
                        "iteration": 662,
                        "passed_time": 47.14913369,
                        "remaining_time": 23.96569842
                      },
                      {
                        "learn": [
                          0.00168064214
                        ],
                        "iteration": 663,
                        "passed_time": 47.2218701,
                        "remaining_time": 23.89540415
                      },
                      {
                        "learn": [
                          0.001676812539
                        ],
                        "iteration": 664,
                        "passed_time": 47.32778281,
                        "remaining_time": 23.8418154
                      },
                      {
                        "learn": [
                          0.001674519762
                        ],
                        "iteration": 665,
                        "passed_time": 47.39427295,
                        "remaining_time": 23.76829905
                      },
                      {
                        "learn": [
                          0.001672481226
                        ],
                        "iteration": 666,
                        "passed_time": 47.46830751,
                        "remaining_time": 23.69857032
                      },
                      {
                        "learn": [
                          0.001668343377
                        ],
                        "iteration": 667,
                        "passed_time": 47.54399986,
                        "remaining_time": 23.62965263
                      },
                      {
                        "learn": [
                          0.001665647393
                        ],
                        "iteration": 668,
                        "passed_time": 47.61553566,
                        "remaining_time": 23.55865815
                      },
                      {
                        "learn": [
                          0.001663997947
                        ],
                        "iteration": 669,
                        "passed_time": 47.68264477,
                        "remaining_time": 23.48548175
                      },
                      {
                        "learn": [
                          0.00166015761
                        ],
                        "iteration": 670,
                        "passed_time": 47.75978738,
                        "remaining_time": 23.41724299
                      },
                      {
                        "learn": [
                          0.001659054594
                        ],
                        "iteration": 671,
                        "passed_time": 47.82598498,
                        "remaining_time": 23.34363553
                      },
                      {
                        "learn": [
                          0.00165758183
                        ],
                        "iteration": 672,
                        "passed_time": 47.89214458,
                        "remaining_time": 23.27003162
                      },
                      {
                        "learn": [
                          0.001655294049
                        ],
                        "iteration": 673,
                        "passed_time": 47.95756063,
                        "remaining_time": 23.19609016
                      },
                      {
                        "learn": [
                          0.001654308568
                        ],
                        "iteration": 674,
                        "passed_time": 48.03037501,
                        "remaining_time": 23.12573611
                      },
                      {
                        "learn": [
                          0.001648777183
                        ],
                        "iteration": 675,
                        "passed_time": 48.10603394,
                        "remaining_time": 23.05673816
                      },
                      {
                        "learn": [
                          0.001646406385
                        ],
                        "iteration": 676,
                        "passed_time": 48.17720556,
                        "remaining_time": 22.98557961
                      },
                      {
                        "learn": [
                          0.00164265079
                        ],
                        "iteration": 677,
                        "passed_time": 48.26140396,
                        "remaining_time": 22.92060778
                      },
                      {
                        "learn": [
                          0.00163928209
                        ],
                        "iteration": 678,
                        "passed_time": 48.35740991,
                        "remaining_time": 22.86116139
                      },
                      {
                        "learn": [
                          0.001637062499
                        ],
                        "iteration": 679,
                        "passed_time": 48.42877424,
                        "remaining_time": 22.79001141
                      },
                      {
                        "learn": [
                          0.001628938963
                        ],
                        "iteration": 680,
                        "passed_time": 48.51448031,
                        "remaining_time": 22.72557888
                      },
                      {
                        "learn": [
                          0.001625886222
                        ],
                        "iteration": 681,
                        "passed_time": 48.58389158,
                        "remaining_time": 22.6534861
                      },
                      {
                        "learn": [
                          0.001624612659
                        ],
                        "iteration": 682,
                        "passed_time": 48.64920433,
                        "remaining_time": 22.57949893
                      },
                      {
                        "learn": [
                          0.001623409793
                        ],
                        "iteration": 683,
                        "passed_time": 48.71384764,
                        "remaining_time": 22.50522786
                      },
                      {
                        "learn": [
                          0.001618340045
                        ],
                        "iteration": 684,
                        "passed_time": 48.79118263,
                        "remaining_time": 22.43682121
                      },
                      {
                        "learn": [
                          0.001617184686
                        ],
                        "iteration": 685,
                        "passed_time": 48.86496936,
                        "remaining_time": 22.3667644
                      },
                      {
                        "learn": [
                          0.001615452184
                        ],
                        "iteration": 686,
                        "passed_time": 48.93165197,
                        "remaining_time": 22.29346007
                      },
                      {
                        "learn": [
                          0.001614245058
                        ],
                        "iteration": 687,
                        "passed_time": 49.00246268,
                        "remaining_time": 22.22204703
                      },
                      {
                        "learn": [
                          0.001611182643
                        ],
                        "iteration": 688,
                        "passed_time": 49.07714173,
                        "remaining_time": 22.15238183
                      },
                      {
                        "learn": [
                          0.00160897661
                        ],
                        "iteration": 689,
                        "passed_time": 49.14422467,
                        "remaining_time": 22.07928934
                      },
                      {
                        "learn": [
                          0.001601875123
                        ],
                        "iteration": 690,
                        "passed_time": 49.22444213,
                        "remaining_time": 22.01208773
                      },
                      {
                        "learn": [
                          0.001597749427
                        ],
                        "iteration": 691,
                        "passed_time": 49.29903651,
                        "remaining_time": 21.94234573
                      },
                      {
                        "learn": [
                          0.00159761977
                        ],
                        "iteration": 692,
                        "passed_time": 49.38154307,
                        "remaining_time": 21.87609484
                      },
                      {
                        "learn": [
                          0.001594996807
                        ],
                        "iteration": 693,
                        "passed_time": 49.44967354,
                        "remaining_time": 21.80345836
                      },
                      {
                        "learn": [
                          0.001592728064
                        ],
                        "iteration": 694,
                        "passed_time": 49.51334947,
                        "remaining_time": 21.72887998
                      },
                      {
                        "learn": [
                          0.001592028296
                        ],
                        "iteration": 695,
                        "passed_time": 49.58648618,
                        "remaining_time": 21.65846523
                      },
                      {
                        "learn": [
                          0.001590283995
                        ],
                        "iteration": 696,
                        "passed_time": 49.65552909,
                        "remaining_time": 21.586263
                      },
                      {
                        "learn": [
                          0.001589514318
                        ],
                        "iteration": 697,
                        "passed_time": 49.7229793,
                        "remaining_time": 21.51338073
                      },
                      {
                        "learn": [
                          0.001588617219
                        ],
                        "iteration": 698,
                        "passed_time": 49.78849408,
                        "remaining_time": 21.43968057
                      },
                      {
                        "learn": [
                          0.00158823281
                        ],
                        "iteration": 699,
                        "passed_time": 49.8551846,
                        "remaining_time": 21.36650769
                      },
                      {
                        "learn": [
                          0.001587195772
                        ],
                        "iteration": 700,
                        "passed_time": 49.92809777,
                        "remaining_time": 21.29600747
                      },
                      {
                        "learn": [
                          0.00158609251
                        ],
                        "iteration": 701,
                        "passed_time": 49.99439329,
                        "remaining_time": 21.22269117
                      },
                      {
                        "learn": [
                          0.00158594765
                        ],
                        "iteration": 702,
                        "passed_time": 50.05668747,
                        "remaining_time": 21.14770438
                      },
                      {
                        "learn": [
                          0.001583342833
                        ],
                        "iteration": 703,
                        "passed_time": 50.12306111,
                        "remaining_time": 21.07446888
                      },
                      {
                        "learn": [
                          0.001578363287
                        ],
                        "iteration": 704,
                        "passed_time": 50.20214476,
                        "remaining_time": 21.00657121
                      },
                      {
                        "learn": [
                          0.001575672213
                        ],
                        "iteration": 705,
                        "passed_time": 50.27820786,
                        "remaining_time": 20.93738401
                      },
                      {
                        "learn": [
                          0.001573219752
                        ],
                        "iteration": 706,
                        "passed_time": 50.3649631,
                        "remaining_time": 20.87260847
                      },
                      {
                        "learn": [
                          0.001571332804
                        ],
                        "iteration": 707,
                        "passed_time": 50.44215581,
                        "remaining_time": 20.80382697
                      },
                      {
                        "learn": [
                          0.001568848307
                        ],
                        "iteration": 708,
                        "passed_time": 50.5172285,
                        "remaining_time": 20.73415161
                      },
                      {
                        "learn": [
                          0.00156715267
                        ],
                        "iteration": 709,
                        "passed_time": 50.58167108,
                        "remaining_time": 20.66011917
                      },
                      {
                        "learn": [
                          0.001565467708
                        ],
                        "iteration": 710,
                        "passed_time": 50.65040146,
                        "remaining_time": 20.58785657
                      },
                      {
                        "learn": [
                          0.001563613757
                        ],
                        "iteration": 711,
                        "passed_time": 50.7180118,
                        "remaining_time": 20.51515084
                      },
                      {
                        "learn": [
                          0.001563542576
                        ],
                        "iteration": 712,
                        "passed_time": 50.7794986,
                        "remaining_time": 20.43999453
                      },
                      {
                        "learn": [
                          0.001560337587
                        ],
                        "iteration": 713,
                        "passed_time": 50.86199541,
                        "remaining_time": 20.37329228
                      },
                      {
                        "learn": [
                          0.001557732633
                        ],
                        "iteration": 714,
                        "passed_time": 50.92787065,
                        "remaining_time": 20.29992047
                      },
                      {
                        "learn": [
                          0.001553285468
                        ],
                        "iteration": 715,
                        "passed_time": 50.9984048,
                        "remaining_time": 20.22841755
                      },
                      {
                        "learn": [
                          0.001552187647
                        ],
                        "iteration": 716,
                        "passed_time": 51.06922042,
                        "remaining_time": 20.15702842
                      },
                      {
                        "learn": [
                          0.00154895412
                        ],
                        "iteration": 717,
                        "passed_time": 51.13806376,
                        "remaining_time": 20.08486627
                      },
                      {
                        "learn": [
                          0.001546296389
                        ],
                        "iteration": 718,
                        "passed_time": 51.20542873,
                        "remaining_time": 20.01213557
                      },
                      {
                        "learn": [
                          0.00154255702
                        ],
                        "iteration": 719,
                        "passed_time": 51.288123,
                        "remaining_time": 19.94538117
                      },
                      {
                        "learn": [
                          0.00154007551
                        ],
                        "iteration": 720,
                        "passed_time": 51.35923445,
                        "remaining_time": 19.87410043
                      },
                      {
                        "learn": [
                          0.001538403833
                        ],
                        "iteration": 721,
                        "passed_time": 51.45515259,
                        "remaining_time": 19.81237177
                      },
                      {
                        "learn": [
                          0.001533634357
                        ],
                        "iteration": 722,
                        "passed_time": 51.52962409,
                        "remaining_time": 19.74233178
                      },
                      {
                        "learn": [
                          0.001532548092
                        ],
                        "iteration": 723,
                        "passed_time": 51.59708087,
                        "remaining_time": 19.66960541
                      },
                      {
                        "learn": [
                          0.001530115945
                        ],
                        "iteration": 724,
                        "passed_time": 51.67697874,
                        "remaining_time": 19.60161262
                      },
                      {
                        "learn": [
                          0.001527577915
                        ],
                        "iteration": 725,
                        "passed_time": 51.74987456,
                        "remaining_time": 19.53094439
                      },
                      {
                        "learn": [
                          0.001523995159
                        ],
                        "iteration": 726,
                        "passed_time": 51.82049716,
                        "remaining_time": 19.4594164
                      },
                      {
                        "learn": [
                          0.00151723521
                        ],
                        "iteration": 727,
                        "passed_time": 51.90033391,
                        "remaining_time": 19.39133355
                      },
                      {
                        "learn": [
                          0.001511470965
                        ],
                        "iteration": 728,
                        "passed_time": 51.97943824,
                        "remaining_time": 19.32294618
                      },
                      {
                        "learn": [
                          0.00151030074
                        ],
                        "iteration": 729,
                        "passed_time": 52.05141785,
                        "remaining_time": 19.25189427
                      },
                      {
                        "learn": [
                          0.001506416838
                        ],
                        "iteration": 730,
                        "passed_time": 52.118977,
                        "remaining_time": 19.17921315
                      },
                      {
                        "learn": [
                          0.001504465672
                        ],
                        "iteration": 731,
                        "passed_time": 52.1884495,
                        "remaining_time": 19.10724654
                      },
                      {
                        "learn": [
                          0.001501054963
                        ],
                        "iteration": 732,
                        "passed_time": 52.26813982,
                        "remaining_time": 19.03900864
                      },
                      {
                        "learn": [
                          0.001496645805
                        ],
                        "iteration": 733,
                        "passed_time": 52.34217535,
                        "remaining_time": 18.96869025
                      },
                      {
                        "learn": [
                          0.001494013138
                        ],
                        "iteration": 734,
                        "passed_time": 52.42694619,
                        "remaining_time": 18.9022323
                      },
                      {
                        "learn": [
                          0.001486546685
                        ],
                        "iteration": 735,
                        "passed_time": 52.507485,
                        "remaining_time": 18.83420658
                      },
                      {
                        "learn": [
                          0.001482396614
                        ],
                        "iteration": 736,
                        "passed_time": 52.58170517,
                        "remaining_time": 18.76389207
                      },
                      {
                        "learn": [
                          0.001480435692
                        ],
                        "iteration": 737,
                        "passed_time": 52.65400576,
                        "remaining_time": 18.69288551
                      },
                      {
                        "learn": [
                          0.001478214929
                        ],
                        "iteration": 738,
                        "passed_time": 52.72561486,
                        "remaining_time": 18.62163123
                      },
                      {
                        "learn": [
                          0.001475899272
                        ],
                        "iteration": 739,
                        "passed_time": 52.80036976,
                        "remaining_time": 18.55148127
                      },
                      {
                        "learn": [
                          0.00147169546
                        ],
                        "iteration": 740,
                        "passed_time": 52.8744623,
                        "remaining_time": 18.48108736
                      },
                      {
                        "learn": [
                          0.00147162944
                        ],
                        "iteration": 741,
                        "passed_time": 52.93418545,
                        "remaining_time": 18.40568712
                      },
                      {
                        "learn": [
                          0.001469848068
                        ],
                        "iteration": 742,
                        "passed_time": 53.012841,
                        "remaining_time": 18.33687771
                      },
                      {
                        "learn": [
                          0.00146842668
                        ],
                        "iteration": 743,
                        "passed_time": 53.08532581,
                        "remaining_time": 18.26591856
                      },
                      {
                        "learn": [
                          0.001466826463
                        ],
                        "iteration": 744,
                        "passed_time": 53.15193246,
                        "remaining_time": 18.19294333
                      },
                      {
                        "learn": [
                          0.00146384236
                        ],
                        "iteration": 745,
                        "passed_time": 53.22837037,
                        "remaining_time": 18.12333254
                      },
                      {
                        "learn": [
                          0.001462510607
                        ],
                        "iteration": 746,
                        "passed_time": 53.31058697,
                        "remaining_time": 18.05566065
                      },
                      {
                        "learn": [
                          0.001460549808
                        ],
                        "iteration": 747,
                        "passed_time": 53.38344862,
                        "remaining_time": 17.9847982
                      },
                      {
                        "learn": [
                          0.001457202998
                        ],
                        "iteration": 748,
                        "passed_time": 53.48480686,
                        "remaining_time": 17.92348
                      },
                      {
                        "learn": [
                          0.001455004201
                        ],
                        "iteration": 749,
                        "passed_time": 53.56238682,
                        "remaining_time": 17.85412894
                      },
                      {
                        "learn": [
                          0.001453196129
                        ],
                        "iteration": 750,
                        "passed_time": 53.6408111,
                        "remaining_time": 17.7850359
                      },
                      {
                        "learn": [
                          0.001449361079
                        ],
                        "iteration": 751,
                        "passed_time": 53.71272534,
                        "remaining_time": 17.71377112
                      },
                      {
                        "learn": [
                          0.001446107465
                        ],
                        "iteration": 752,
                        "passed_time": 53.78722357,
                        "remaining_time": 17.64335222
                      },
                      {
                        "learn": [
                          0.00144486124
                        ],
                        "iteration": 753,
                        "passed_time": 53.86215544,
                        "remaining_time": 17.57306398
                      },
                      {
                        "learn": [
                          0.001443620346
                        ],
                        "iteration": 754,
                        "passed_time": 53.93474793,
                        "remaining_time": 17.50200429
                      },
                      {
                        "learn": [
                          0.001437974684
                        ],
                        "iteration": 755,
                        "passed_time": 54.01357481,
                        "remaining_time": 17.43295272
                      },
                      {
                        "learn": [
                          0.001435937168
                        ],
                        "iteration": 756,
                        "passed_time": 54.0904138,
                        "remaining_time": 17.36323719
                      },
                      {
                        "learn": [
                          0.001428186386
                        ],
                        "iteration": 757,
                        "passed_time": 54.16295379,
                        "remaining_time": 17.29213036
                      },
                      {
                        "learn": [
                          0.001426926715
                        ],
                        "iteration": 758,
                        "passed_time": 54.24035701,
                        "remaining_time": 17.22256395
                      },
                      {
                        "learn": [
                          0.00142035651
                        ],
                        "iteration": 759,
                        "passed_time": 54.32054155,
                        "remaining_time": 17.15385523
                      },
                      {
                        "learn": [
                          0.001419466654
                        ],
                        "iteration": 760,
                        "passed_time": 54.39534198,
                        "remaining_time": 17.08342541
                      },
                      {
                        "learn": [
                          0.001418612299
                        ],
                        "iteration": 761,
                        "passed_time": 54.47993438,
                        "remaining_time": 17.0160425
                      },
                      {
                        "learn": [
                          0.001414886096
                        ],
                        "iteration": 762,
                        "passed_time": 54.55748503,
                        "remaining_time": 16.9464272
                      },
                      {
                        "learn": [
                          0.001414483155
                        ],
                        "iteration": 763,
                        "passed_time": 54.62198952,
                        "remaining_time": 16.87276116
                      },
                      {
                        "learn": [
                          0.001412927149
                        ],
                        "iteration": 764,
                        "passed_time": 54.69330229,
                        "remaining_time": 16.80121051
                      },
                      {
                        "learn": [
                          0.001411876904
                        ],
                        "iteration": 765,
                        "passed_time": 54.76416999,
                        "remaining_time": 16.72952451
                      },
                      {
                        "learn": [
                          0.001406467019
                        ],
                        "iteration": 766,
                        "passed_time": 54.84145054,
                        "remaining_time": 16.65978876
                      },
                      {
                        "learn": [
                          0.001401479281
                        ],
                        "iteration": 767,
                        "passed_time": 54.91916958,
                        "remaining_time": 16.59016581
                      },
                      {
                        "learn": [
                          0.001395426135
                        ],
                        "iteration": 768,
                        "passed_time": 54.99233268,
                        "remaining_time": 16.51915325
                      },
                      {
                        "learn": [
                          0.001394598811
                        ],
                        "iteration": 769,
                        "passed_time": 55.06216328,
                        "remaining_time": 16.44713968
                      },
                      {
                        "learn": [
                          0.001393684682
                        ],
                        "iteration": 770,
                        "passed_time": 55.1363756,
                        "remaining_time": 16.37643322
                      },
                      {
                        "learn": [
                          0.001393627488
                        ],
                        "iteration": 771,
                        "passed_time": 55.20107335,
                        "remaining_time": 16.30290767
                      },
                      {
                        "learn": [
                          0.001391390227
                        ],
                        "iteration": 772,
                        "passed_time": 55.27439331,
                        "remaining_time": 16.23193697
                      },
                      {
                        "learn": [
                          0.001389554883
                        ],
                        "iteration": 773,
                        "passed_time": 55.3552851,
                        "remaining_time": 16.1631711
                      },
                      {
                        "learn": [
                          0.001388329327
                        ],
                        "iteration": 774,
                        "passed_time": 55.42414368,
                        "remaining_time": 16.09088042
                      },
                      {
                        "learn": [
                          0.001387476058
                        ],
                        "iteration": 775,
                        "passed_time": 55.51254111,
                        "remaining_time": 16.02423867
                      },
                      {
                        "learn": [
                          0.001386193821
                        ],
                        "iteration": 776,
                        "passed_time": 55.59066462,
                        "remaining_time": 15.95459229
                      },
                      {
                        "learn": [
                          0.001384683664
                        ],
                        "iteration": 777,
                        "passed_time": 55.66958602,
                        "remaining_time": 15.8851518
                      },
                      {
                        "learn": [
                          0.001380112771
                        ],
                        "iteration": 778,
                        "passed_time": 55.75431523,
                        "remaining_time": 15.81733462
                      },
                      {
                        "learn": [
                          0.001376566937
                        ],
                        "iteration": 779,
                        "passed_time": 55.82738999,
                        "remaining_time": 15.74618692
                      },
                      {
                        "learn": [
                          0.001375653996
                        ],
                        "iteration": 780,
                        "passed_time": 55.8970973,
                        "remaining_time": 15.67409002
                      },
                      {
                        "learn": [
                          0.001372539786
                        ],
                        "iteration": 781,
                        "passed_time": 55.97059419,
                        "remaining_time": 15.60305567
                      },
                      {
                        "learn": [
                          0.00136755518
                        ],
                        "iteration": 782,
                        "passed_time": 56.05028849,
                        "remaining_time": 15.53373257
                      },
                      {
                        "learn": [
                          0.001366036137
                        ],
                        "iteration": 783,
                        "passed_time": 56.11978089,
                        "remaining_time": 15.46157229
                      },
                      {
                        "learn": [
                          0.001363941444
                        ],
                        "iteration": 784,
                        "passed_time": 56.19010913,
                        "remaining_time": 15.38964772
                      },
                      {
                        "learn": [
                          0.001363671608
                        ],
                        "iteration": 785,
                        "passed_time": 56.26469528,
                        "remaining_time": 15.3188865
                      },
                      {
                        "learn": [
                          0.001362750946
                        ],
                        "iteration": 786,
                        "passed_time": 56.33508177,
                        "remaining_time": 15.24697893
                      },
                      {
                        "learn": [
                          0.001358901605
                        ],
                        "iteration": 787,
                        "passed_time": 56.41833724,
                        "remaining_time": 15.17853743
                      },
                      {
                        "learn": [
                          0.001356127047
                        ],
                        "iteration": 788,
                        "passed_time": 56.49617192,
                        "remaining_time": 15.10860871
                      },
                      {
                        "learn": [
                          0.001352374839
                        ],
                        "iteration": 789,
                        "passed_time": 56.59507941,
                        "remaining_time": 15.04426161
                      },
                      {
                        "learn": [
                          0.001350997338
                        ],
                        "iteration": 790,
                        "passed_time": 56.66415311,
                        "remaining_time": 14.97194438
                      },
                      {
                        "learn": [
                          0.001349606281
                        ],
                        "iteration": 791,
                        "passed_time": 56.72902032,
                        "remaining_time": 14.89853059
                      },
                      {
                        "learn": [
                          0.001348585996
                        ],
                        "iteration": 792,
                        "passed_time": 56.79797127,
                        "remaining_time": 14.82620435
                      },
                      {
                        "learn": [
                          0.001344451424
                        ],
                        "iteration": 793,
                        "passed_time": 56.86749247,
                        "remaining_time": 14.75403457
                      },
                      {
                        "learn": [
                          0.001342044435
                        ],
                        "iteration": 794,
                        "passed_time": 56.94069374,
                        "remaining_time": 14.6828204
                      },
                      {
                        "learn": [
                          0.00133854871
                        ],
                        "iteration": 795,
                        "passed_time": 57.01578746,
                        "remaining_time": 14.61208623
                      },
                      {
                        "learn": [
                          0.001337995727
                        ],
                        "iteration": 796,
                        "passed_time": 57.08991936,
                        "remaining_time": 14.54109615
                      },
                      {
                        "learn": [
                          0.001332368448
                        ],
                        "iteration": 797,
                        "passed_time": 57.17082237,
                        "remaining_time": 14.47181218
                      },
                      {
                        "learn": [
                          0.001330798312
                        ],
                        "iteration": 798,
                        "passed_time": 57.23898001,
                        "remaining_time": 14.39929284
                      },
                      {
                        "learn": [
                          0.001330325521
                        ],
                        "iteration": 799,
                        "passed_time": 57.31023202,
                        "remaining_time": 14.32755801
                      },
                      {
                        "learn": [
                          0.00132861757
                        ],
                        "iteration": 800,
                        "passed_time": 57.3825796,
                        "remaining_time": 14.25609655
                      },
                      {
                        "learn": [
                          0.001327924459
                        ],
                        "iteration": 801,
                        "passed_time": 57.44726499,
                        "remaining_time": 14.18274123
                      },
                      {
                        "learn": [
                          0.001326001264
                        ],
                        "iteration": 802,
                        "passed_time": 57.51509779,
                        "remaining_time": 14.11017966
                      },
                      {
                        "learn": [
                          0.001319550197
                        ],
                        "iteration": 803,
                        "passed_time": 57.61401583,
                        "remaining_time": 14.04520784
                      },
                      {
                        "learn": [
                          0.001317637293
                        ],
                        "iteration": 804,
                        "passed_time": 57.68377553,
                        "remaining_time": 13.97308848
                      },
                      {
                        "learn": [
                          0.001316502719
                        ],
                        "iteration": 805,
                        "passed_time": 57.75092375,
                        "remaining_time": 13.90034641
                      },
                      {
                        "learn": [
                          0.001315684475
                        ],
                        "iteration": 806,
                        "passed_time": 57.82634734,
                        "remaining_time": 13.82959732
                      },
                      {
                        "learn": [
                          0.001314309063
                        ],
                        "iteration": 807,
                        "passed_time": 57.89473105,
                        "remaining_time": 13.75716381
                      },
                      {
                        "learn": [
                          0.001313636668
                        ],
                        "iteration": 808,
                        "passed_time": 57.96438975,
                        "remaining_time": 13.68504134
                      },
                      {
                        "learn": [
                          0.001313433159
                        ],
                        "iteration": 809,
                        "passed_time": 58.03571518,
                        "remaining_time": 13.61331591
                      },
                      {
                        "learn": [
                          0.001313036852
                        ],
                        "iteration": 810,
                        "passed_time": 58.10019206,
                        "remaining_time": 13.53999544
                      },
                      {
                        "learn": [
                          0.00131040319
                        ],
                        "iteration": 811,
                        "passed_time": 58.17399765,
                        "remaining_time": 13.4688566
                      },
                      {
                        "learn": [
                          0.00130882982
                        ],
                        "iteration": 812,
                        "passed_time": 58.24526221,
                        "remaining_time": 13.39712673
                      },
                      {
                        "learn": [
                          0.001304631387
                        ],
                        "iteration": 813,
                        "passed_time": 58.31745123,
                        "remaining_time": 13.32560925
                      },
                      {
                        "learn": [
                          0.001298427965
                        ],
                        "iteration": 814,
                        "passed_time": 58.39516956,
                        "remaining_time": 13.25534524
                      },
                      {
                        "learn": [
                          0.001295966594
                        ],
                        "iteration": 815,
                        "passed_time": 58.46767268,
                        "remaining_time": 13.18388698
                      },
                      {
                        "learn": [
                          0.001295610096
                        ],
                        "iteration": 816,
                        "passed_time": 58.53450177,
                        "remaining_time": 13.11115523
                      },
                      {
                        "learn": [
                          0.001294453951
                        ],
                        "iteration": 817,
                        "passed_time": 58.63833204,
                        "remaining_time": 13.04667045
                      },
                      {
                        "learn": [
                          0.001294245098
                        ],
                        "iteration": 818,
                        "passed_time": 58.70419635,
                        "remaining_time": 12.97369907
                      },
                      {
                        "learn": [
                          0.001292468792
                        ],
                        "iteration": 819,
                        "passed_time": 58.77554975,
                        "remaining_time": 12.90194995
                      },
                      {
                        "learn": [
                          0.001289866362
                        ],
                        "iteration": 820,
                        "passed_time": 58.84217581,
                        "remaining_time": 12.8291711
                      },
                      {
                        "learn": [
                          0.001287730527
                        ],
                        "iteration": 821,
                        "passed_time": 58.91577552,
                        "remaining_time": 12.75791733
                      },
                      {
                        "learn": [
                          0.001285055491
                        ],
                        "iteration": 822,
                        "passed_time": 58.99133151,
                        "remaining_time": 12.68707859
                      },
                      {
                        "learn": [
                          0.001282985681
                        ],
                        "iteration": 823,
                        "passed_time": 59.06014849,
                        "remaining_time": 12.614789
                      },
                      {
                        "learn": [
                          0.00127922226
                        ],
                        "iteration": 824,
                        "passed_time": 59.13078383,
                        "remaining_time": 12.54289354
                      },
                      {
                        "learn": [
                          0.001277431961
                        ],
                        "iteration": 825,
                        "passed_time": 59.20238492,
                        "remaining_time": 12.47120457
                      },
                      {
                        "learn": [
                          0.001274106652
                        ],
                        "iteration": 826,
                        "passed_time": 59.27632863,
                        "remaining_time": 12.40000587
                      },
                      {
                        "learn": [
                          0.001274043765
                        ],
                        "iteration": 827,
                        "passed_time": 59.3381613,
                        "remaining_time": 12.32628471
                      },
                      {
                        "learn": [
                          0.001271376838
                        ],
                        "iteration": 828,
                        "passed_time": 59.415782,
                        "remaining_time": 12.25584888
                      },
                      {
                        "learn": [
                          0.001270147354
                        ],
                        "iteration": 829,
                        "passed_time": 59.48107871,
                        "remaining_time": 12.18287154
                      },
                      {
                        "learn": [
                          0.001265649883
                        ],
                        "iteration": 830,
                        "passed_time": 59.55677557,
                        "remaining_time": 12.11202776
                      },
                      {
                        "learn": [
                          0.00126391494
                        ],
                        "iteration": 831,
                        "passed_time": 59.65586284,
                        "remaining_time": 12.04589538
                      },
                      {
                        "learn": [
                          0.001262777021
                        ],
                        "iteration": 832,
                        "passed_time": 59.72681612,
                        "remaining_time": 11.97404357
                      },
                      {
                        "learn": [
                          0.001260785728
                        ],
                        "iteration": 833,
                        "passed_time": 59.80381928,
                        "remaining_time": 11.90339808
                      },
                      {
                        "learn": [
                          0.001258455682
                        ],
                        "iteration": 834,
                        "passed_time": 59.87637805,
                        "remaining_time": 11.83185914
                      },
                      {
                        "learn": [
                          0.001255112242
                        ],
                        "iteration": 835,
                        "passed_time": 59.95056641,
                        "remaining_time": 11.76063743
                      },
                      {
                        "learn": [
                          0.001254313485
                        ],
                        "iteration": 836,
                        "passed_time": 60.02212336,
                        "remaining_time": 11.68889619
                      },
                      {
                        "learn": [
                          0.001251999506
                        ],
                        "iteration": 837,
                        "passed_time": 60.09162375,
                        "remaining_time": 11.61675781
                      },
                      {
                        "learn": [
                          0.001248724409
                        ],
                        "iteration": 838,
                        "passed_time": 60.16268802,
                        "remaining_time": 11.54492583
                      },
                      {
                        "learn": [
                          0.001243502974
                        ],
                        "iteration": 839,
                        "passed_time": 60.24476204,
                        "remaining_time": 11.47519277
                      },
                      {
                        "learn": [
                          0.001242335692
                        ],
                        "iteration": 840,
                        "passed_time": 60.31350917,
                        "remaining_time": 11.40291077
                      },
                      {
                        "learn": [
                          0.00124194101
                        ],
                        "iteration": 841,
                        "passed_time": 60.37783027,
                        "remaining_time": 11.32980663
                      },
                      {
                        "learn": [
                          0.00124065598
                        ],
                        "iteration": 842,
                        "passed_time": 60.45958442,
                        "remaining_time": 11.25997005
                      },
                      {
                        "learn": [
                          0.001239644377
                        ],
                        "iteration": 843,
                        "passed_time": 60.52844564,
                        "remaining_time": 11.18772218
                      },
                      {
                        "learn": [
                          0.001237454583
                        ],
                        "iteration": 844,
                        "passed_time": 60.59546378,
                        "remaining_time": 11.11514424
                      },
                      {
                        "learn": [
                          0.001234765918
                        ],
                        "iteration": 845,
                        "passed_time": 60.69272723,
                        "remaining_time": 11.0480851
                      },
                      {
                        "learn": [
                          0.00123230945
                        ],
                        "iteration": 846,
                        "passed_time": 60.76399537,
                        "remaining_time": 10.9762589
                      },
                      {
                        "learn": [
                          0.001231859552
                        ],
                        "iteration": 847,
                        "passed_time": 60.82841002,
                        "remaining_time": 10.90320557
                      },
                      {
                        "learn": [
                          0.001229594421
                        ],
                        "iteration": 848,
                        "passed_time": 60.90218254,
                        "remaining_time": 10.83183694
                      },
                      {
                        "learn": [
                          0.001228749978
                        ],
                        "iteration": 849,
                        "passed_time": 60.96441015,
                        "remaining_time": 10.75842532
                      },
                      {
                        "learn": [
                          0.001226252204
                        ],
                        "iteration": 850,
                        "passed_time": 61.03302275,
                        "remaining_time": 10.68615792
                      },
                      {
                        "learn": [
                          0.001224051166
                        ],
                        "iteration": 851,
                        "passed_time": 61.11362083,
                        "remaining_time": 10.61598108
                      },
                      {
                        "learn": [
                          0.001222898614
                        ],
                        "iteration": 852,
                        "passed_time": 61.18013156,
                        "remaining_time": 10.5433521
                      },
                      {
                        "learn": [
                          0.001221111925
                        ],
                        "iteration": 853,
                        "passed_time": 61.24902424,
                        "remaining_time": 10.47114466
                      },
                      {
                        "learn": [
                          0.001216555013
                        ],
                        "iteration": 854,
                        "passed_time": 61.32266212,
                        "remaining_time": 10.39974972
                      },
                      {
                        "learn": [
                          0.001213818844
                        ],
                        "iteration": 855,
                        "passed_time": 61.39619793,
                        "remaining_time": 10.32833236
                      },
                      {
                        "learn": [
                          0.001213542365
                        ],
                        "iteration": 856,
                        "passed_time": 61.46908629,
                        "remaining_time": 10.25680203
                      },
                      {
                        "learn": [
                          0.001210907125
                        ],
                        "iteration": 857,
                        "passed_time": 61.54401105,
                        "remaining_time": 10.18560556
                      },
                      {
                        "learn": [
                          0.001210853699
                        ],
                        "iteration": 858,
                        "passed_time": 61.60229066,
                        "remaining_time": 10.1116682
                      },
                      {
                        "learn": [
                          0.001207184127
                        ],
                        "iteration": 859,
                        "passed_time": 61.71419352,
                        "remaining_time": 10.04649662
                      },
                      {
                        "learn": [
                          0.001206125097
                        ],
                        "iteration": 860,
                        "passed_time": 61.78518643,
                        "remaining_time": 9.974611979
                      },
                      {
                        "learn": [
                          0.001204491431
                        ],
                        "iteration": 861,
                        "passed_time": 61.85076496,
                        "remaining_time": 9.901862604
                      },
                      {
                        "learn": [
                          0.001201779147
                        ],
                        "iteration": 862,
                        "passed_time": 61.91678187,
                        "remaining_time": 9.82919944
                      },
                      {
                        "learn": [
                          0.00119829919
                        ],
                        "iteration": 863,
                        "passed_time": 61.99577366,
                        "remaining_time": 9.758594002
                      },
                      {
                        "learn": [
                          0.001197647013
                        ],
                        "iteration": 864,
                        "passed_time": 62.07057386,
                        "remaining_time": 9.687314996
                      },
                      {
                        "learn": [
                          0.00119627455
                        ],
                        "iteration": 865,
                        "passed_time": 62.14508516,
                        "remaining_time": 9.615983155
                      },
                      {
                        "learn": [
                          0.001193969884
                        ],
                        "iteration": 866,
                        "passed_time": 62.21642837,
                        "remaining_time": 9.544157986
                      },
                      {
                        "learn": [
                          0.001192867556
                        ],
                        "iteration": 867,
                        "passed_time": 62.28422722,
                        "remaining_time": 9.471794923
                      },
                      {
                        "learn": [
                          0.001189596279
                        ],
                        "iteration": 868,
                        "passed_time": 62.36695228,
                        "remaining_time": 9.401692461
                      },
                      {
                        "learn": [
                          0.001186385019
                        ],
                        "iteration": 869,
                        "passed_time": 62.44771744,
                        "remaining_time": 9.331268124
                      },
                      {
                        "learn": [
                          0.001183769872
                        ],
                        "iteration": 870,
                        "passed_time": 62.52040743,
                        "remaining_time": 9.259624062
                      },
                      {
                        "learn": [
                          0.001181739251
                        ],
                        "iteration": 871,
                        "passed_time": 62.59060708,
                        "remaining_time": 9.187612049
                      },
                      {
                        "learn": [
                          0.001180495154
                        ],
                        "iteration": 872,
                        "passed_time": 62.66764968,
                        "remaining_time": 9.116599667
                      },
                      {
                        "learn": [
                          0.001178874664
                        ],
                        "iteration": 873,
                        "passed_time": 62.83862484,
                        "remaining_time": 9.059115251
                      },
                      {
                        "learn": [
                          0.001177116521
                        ],
                        "iteration": 874,
                        "passed_time": 62.91103704,
                        "remaining_time": 8.987291005
                      },
                      {
                        "learn": [
                          0.001176372037
                        ],
                        "iteration": 875,
                        "passed_time": 62.98434307,
                        "remaining_time": 8.915591941
                      },
                      {
                        "learn": [
                          0.001174716203
                        ],
                        "iteration": 876,
                        "passed_time": 63.05432966,
                        "remaining_time": 8.843423659
                      },
                      {
                        "learn": [
                          0.001173421485
                        ],
                        "iteration": 877,
                        "passed_time": 63.12565441,
                        "remaining_time": 8.771446285
                      },
                      {
                        "learn": [
                          0.001173373137
                        ],
                        "iteration": 878,
                        "passed_time": 63.18277396,
                        "remaining_time": 8.697514959
                      },
                      {
                        "learn": [
                          0.001169703577
                        ],
                        "iteration": 879,
                        "passed_time": 63.2602796,
                        "remaining_time": 8.626401763
                      },
                      {
                        "learn": [
                          0.001168115933
                        ],
                        "iteration": 880,
                        "passed_time": 63.33933678,
                        "remaining_time": 8.555483629
                      },
                      {
                        "learn": [
                          0.001164503556
                        ],
                        "iteration": 881,
                        "passed_time": 63.41579086,
                        "remaining_time": 8.484198778
                      },
                      {
                        "learn": [
                          0.001163440674
                        ],
                        "iteration": 882,
                        "passed_time": 63.49872395,
                        "remaining_time": 8.413760704
                      },
                      {
                        "learn": [
                          0.001162261112
                        ],
                        "iteration": 883,
                        "passed_time": 63.57302919,
                        "remaining_time": 8.342162201
                      },
                      {
                        "learn": [
                          0.00116063843
                        ],
                        "iteration": 884,
                        "passed_time": 63.645929,
                        "remaining_time": 8.270374955
                      },
                      {
                        "learn": [
                          0.001158978867
                        ],
                        "iteration": 885,
                        "passed_time": 63.71899061,
                        "remaining_time": 8.198606016
                      },
                      {
                        "learn": [
                          0.001158536016
                        ],
                        "iteration": 886,
                        "passed_time": 63.80635744,
                        "remaining_time": 8.128656585
                      },
                      {
                        "learn": [
                          0.00115586831
                        ],
                        "iteration": 887,
                        "passed_time": 63.89660154,
                        "remaining_time": 8.059030825
                      },
                      {
                        "learn": [
                          0.001152492463
                        ],
                        "iteration": 888,
                        "passed_time": 63.96596115,
                        "remaining_time": 7.986751055
                      },
                      {
                        "learn": [
                          0.001151897992
                        ],
                        "iteration": 889,
                        "passed_time": 64.0334789,
                        "remaining_time": 7.914250201
                      },
                      {
                        "learn": [
                          0.001150336327
                        ],
                        "iteration": 890,
                        "passed_time": 64.10983327,
                        "remaining_time": 7.842841556
                      },
                      {
                        "learn": [
                          0.001147051142
                        ],
                        "iteration": 891,
                        "passed_time": 64.22438993,
                        "remaining_time": 7.776047212
                      },
                      {
                        "learn": [
                          0.001145825956
                        ],
                        "iteration": 892,
                        "passed_time": 64.41895806,
                        "remaining_time": 7.718732937
                      },
                      {
                        "learn": [
                          0.001143663175
                        ],
                        "iteration": 893,
                        "passed_time": 64.59282822,
                        "remaining_time": 7.658657485
                      },
                      {
                        "learn": [
                          0.001143466711
                        ],
                        "iteration": 894,
                        "passed_time": 64.72636211,
                        "remaining_time": 7.593595555
                      },
                      {
                        "learn": [
                          0.001142539966
                        ],
                        "iteration": 895,
                        "passed_time": 64.79479147,
                        "remaining_time": 7.52082401
                      },
                      {
                        "learn": [
                          0.001138334398
                        ],
                        "iteration": 896,
                        "passed_time": 64.89860745,
                        "remaining_time": 7.452125493
                      },
                      {
                        "learn": [
                          0.001137772999
                        ],
                        "iteration": 897,
                        "passed_time": 64.97025298,
                        "remaining_time": 7.37969466
                      },
                      {
                        "learn": [
                          0.001136116878
                        ],
                        "iteration": 898,
                        "passed_time": 65.04479458,
                        "remaining_time": 7.307590937
                      },
                      {
                        "learn": [
                          0.001135433329
                        ],
                        "iteration": 899,
                        "passed_time": 65.10949623,
                        "remaining_time": 7.23438847
                      },
                      {
                        "learn": [
                          0.001134502347
                        ],
                        "iteration": 900,
                        "passed_time": 65.17775398,
                        "remaining_time": 7.161595609
                      },
                      {
                        "learn": [
                          0.00113003065
                        ],
                        "iteration": 901,
                        "passed_time": 65.41511057,
                        "remaining_time": 7.107184962
                      },
                      {
                        "learn": [
                          0.001129979701
                        ],
                        "iteration": 902,
                        "passed_time": 65.63916059,
                        "remaining_time": 7.050939731
                      },
                      {
                        "learn": [
                          0.001127277928
                        ],
                        "iteration": 903,
                        "passed_time": 65.71694388,
                        "remaining_time": 6.978790501
                      },
                      {
                        "learn": [
                          0.001126553362
                        ],
                        "iteration": 904,
                        "passed_time": 65.78105229,
                        "remaining_time": 6.905193334
                      },
                      {
                        "learn": [
                          0.001124002965
                        ],
                        "iteration": 905,
                        "passed_time": 65.8771481,
                        "remaining_time": 6.834935895
                      },
                      {
                        "learn": [
                          0.0011236573
                        ],
                        "iteration": 906,
                        "passed_time": 65.96256628,
                        "remaining_time": 6.763526642
                      },
                      {
                        "learn": [
                          0.001121151465
                        ],
                        "iteration": 907,
                        "passed_time": 66.04601431,
                        "remaining_time": 6.691886913
                      },
                      {
                        "learn": [
                          0.001119938645
                        ],
                        "iteration": 908,
                        "passed_time": 66.11597273,
                        "remaining_time": 6.618870757
                      },
                      {
                        "learn": [
                          0.001118592782
                        ],
                        "iteration": 909,
                        "passed_time": 66.20257802,
                        "remaining_time": 6.547507716
                      },
                      {
                        "learn": [
                          0.001117195845
                        ],
                        "iteration": 910,
                        "passed_time": 66.39832197,
                        "remaining_time": 6.486773497
                      },
                      {
                        "learn": [
                          0.001114866086
                        ],
                        "iteration": 911,
                        "passed_time": 66.62160496,
                        "remaining_time": 6.428400478
                      },
                      {
                        "learn": [
                          0.001113731637
                        ],
                        "iteration": 912,
                        "passed_time": 66.72759649,
                        "remaining_time": 6.358489479
                      },
                      {
                        "learn": [
                          0.001110175515
                        ],
                        "iteration": 913,
                        "passed_time": 66.80065668,
                        "remaining_time": 6.285400956
                      },
                      {
                        "learn": [
                          0.001109253461
                        ],
                        "iteration": 914,
                        "passed_time": 66.89518123,
                        "remaining_time": 6.214306453
                      },
                      {
                        "learn": [
                          0.001108051974
                        ],
                        "iteration": 915,
                        "passed_time": 66.97441486,
                        "remaining_time": 6.141758568
                      },
                      {
                        "learn": [
                          0.001107244554
                        ],
                        "iteration": 916,
                        "passed_time": 67.04040779,
                        "remaining_time": 6.067997652
                      },
                      {
                        "learn": [
                          0.001105869227
                        ],
                        "iteration": 917,
                        "passed_time": 67.10954654,
                        "remaining_time": 5.994534658
                      },
                      {
                        "learn": [
                          0.001104923439
                        ],
                        "iteration": 918,
                        "passed_time": 67.18061059,
                        "remaining_time": 5.92125077
                      },
                      {
                        "learn": [
                          0.001102185905
                        ],
                        "iteration": 919,
                        "passed_time": 67.25587599,
                        "remaining_time": 5.848337042
                      },
                      {
                        "learn": [
                          0.001097556356
                        ],
                        "iteration": 920,
                        "passed_time": 67.3278109,
                        "remaining_time": 5.775132531
                      },
                      {
                        "learn": [
                          0.001095918939
                        ],
                        "iteration": 921,
                        "passed_time": 67.39436528,
                        "remaining_time": 5.701475587
                      },
                      {
                        "learn": [
                          0.001092755364
                        ],
                        "iteration": 922,
                        "passed_time": 67.46407967,
                        "remaining_time": 5.628097654
                      },
                      {
                        "learn": [
                          0.001092316811
                        ],
                        "iteration": 923,
                        "passed_time": 67.53642767,
                        "remaining_time": 5.554944267
                      },
                      {
                        "learn": [
                          0.001090096043
                        ],
                        "iteration": 924,
                        "passed_time": 67.60921414,
                        "remaining_time": 5.481828174
                      },
                      {
                        "learn": [
                          0.001088149362
                        ],
                        "iteration": 925,
                        "passed_time": 67.68036964,
                        "remaining_time": 5.408582455
                      },
                      {
                        "learn": [
                          0.001087542297
                        ],
                        "iteration": 926,
                        "passed_time": 67.74879715,
                        "remaining_time": 5.33512642
                      },
                      {
                        "learn": [
                          0.00108619457
                        ],
                        "iteration": 927,
                        "passed_time": 67.82027903,
                        "remaining_time": 5.2619182
                      },
                      {
                        "learn": [
                          0.001084624415
                        ],
                        "iteration": 928,
                        "passed_time": 67.90516445,
                        "remaining_time": 5.189738079
                      },
                      {
                        "learn": [
                          0.001083147494
                        ],
                        "iteration": 929,
                        "passed_time": 67.99098663,
                        "remaining_time": 5.117601144
                      },
                      {
                        "learn": [
                          0.001081660673
                        ],
                        "iteration": 930,
                        "passed_time": 68.06010899,
                        "remaining_time": 5.044197121
                      },
                      {
                        "learn": [
                          0.001080083739
                        ],
                        "iteration": 931,
                        "passed_time": 68.13425981,
                        "remaining_time": 4.97116917
                      },
                      {
                        "learn": [
                          0.001079033677
                        ],
                        "iteration": 932,
                        "passed_time": 68.20532868,
                        "remaining_time": 4.897917494
                      },
                      {
                        "learn": [
                          0.001076896226
                        ],
                        "iteration": 933,
                        "passed_time": 68.27972954,
                        "remaining_time": 4.824905942
                      },
                      {
                        "learn": [
                          0.001076625394
                        ],
                        "iteration": 934,
                        "passed_time": 68.34402616,
                        "remaining_time": 4.751188984
                      },
                      {
                        "learn": [
                          0.001075336059
                        ],
                        "iteration": 935,
                        "passed_time": 68.41568365,
                        "remaining_time": 4.677995463
                      },
                      {
                        "learn": [
                          0.001073796108
                        ],
                        "iteration": 936,
                        "passed_time": 68.48257441,
                        "remaining_time": 4.604484725
                      },
                      {
                        "learn": [
                          0.001072193741
                        ],
                        "iteration": 937,
                        "passed_time": 68.5624826,
                        "remaining_time": 4.53184853
                      },
                      {
                        "learn": [
                          0.00106651416
                        ],
                        "iteration": 938,
                        "passed_time": 68.64047446,
                        "remaining_time": 4.459072356
                      },
                      {
                        "learn": [
                          0.001065419252
                        ],
                        "iteration": 939,
                        "passed_time": 68.70898551,
                        "remaining_time": 4.385679926
                      },
                      {
                        "learn": [
                          0.001063029247
                        ],
                        "iteration": 940,
                        "passed_time": 68.78733193,
                        "remaining_time": 4.312914542
                      },
                      {
                        "learn": [
                          0.001061139234
                        ],
                        "iteration": 941,
                        "passed_time": 68.86506767,
                        "remaining_time": 4.240099708
                      },
                      {
                        "learn": [
                          0.001060473274
                        ],
                        "iteration": 942,
                        "passed_time": 68.95521846,
                        "remaining_time": 4.16802487
                      },
                      {
                        "learn": [
                          0.001058308647
                        ],
                        "iteration": 943,
                        "passed_time": 69.03287982,
                        "remaining_time": 4.095170837
                      },
                      {
                        "learn": [
                          0.001053323462
                        ],
                        "iteration": 944,
                        "passed_time": 69.1182068,
                        "remaining_time": 4.022752777
                      },
                      {
                        "learn": [
                          0.001050309599
                        ],
                        "iteration": 945,
                        "passed_time": 69.19498684,
                        "remaining_time": 3.949819545
                      },
                      {
                        "learn": [
                          0.001048198151
                        ],
                        "iteration": 946,
                        "passed_time": 69.27123957,
                        "remaining_time": 3.876848677
                      },
                      {
                        "learn": [
                          0.001046344781
                        ],
                        "iteration": 947,
                        "passed_time": 69.3463387,
                        "remaining_time": 3.803807608
                      },
                      {
                        "learn": [
                          0.001046117989
                        ],
                        "iteration": 948,
                        "passed_time": 69.40717234,
                        "remaining_time": 3.729995563
                      },
                      {
                        "learn": [
                          0.001044487515
                        ],
                        "iteration": 949,
                        "passed_time": 69.63603193,
                        "remaining_time": 3.665054312
                      },
                      {
                        "learn": [
                          0.001043780089
                        ],
                        "iteration": 950,
                        "passed_time": 69.82817123,
                        "remaining_time": 3.59787633
                      },
                      {
                        "learn": [
                          0.00104256639
                        ],
                        "iteration": 951,
                        "passed_time": 69.99313696,
                        "remaining_time": 3.529065729
                      },
                      {
                        "learn": [
                          0.001041945811
                        ],
                        "iteration": 952,
                        "passed_time": 70.07361326,
                        "remaining_time": 3.455886488
                      },
                      {
                        "learn": [
                          0.001041078146
                        ],
                        "iteration": 953,
                        "passed_time": 70.13681135,
                        "remaining_time": 3.381858828
                      },
                      {
                        "learn": [
                          0.001039843796
                        ],
                        "iteration": 954,
                        "passed_time": 70.21672522,
                        "remaining_time": 3.308641502
                      },
                      {
                        "learn": [
                          0.001035894948
                        ],
                        "iteration": 955,
                        "passed_time": 70.28524572,
                        "remaining_time": 3.234885786
                      },
                      {
                        "learn": [
                          0.001035369468
                        ],
                        "iteration": 956,
                        "passed_time": 70.3446261,
                        "remaining_time": 3.160730326
                      },
                      {
                        "learn": [
                          0.00103315981
                        ],
                        "iteration": 957,
                        "passed_time": 70.41449666,
                        "remaining_time": 3.087065615
                      },
                      {
                        "learn": [
                          0.001032171866
                        ],
                        "iteration": 958,
                        "passed_time": 70.48475421,
                        "remaining_time": 3.013425363
                      },
                      {
                        "learn": [
                          0.001030880611
                        ],
                        "iteration": 959,
                        "passed_time": 70.55344145,
                        "remaining_time": 2.939726727
                      },
                      {
                        "learn": [
                          0.001030208733
                        ],
                        "iteration": 960,
                        "passed_time": 70.63202561,
                        "remaining_time": 2.866440165
                      },
                      {
                        "learn": [
                          0.001027853129
                        ],
                        "iteration": 961,
                        "passed_time": 70.71098062,
                        "remaining_time": 2.793157239
                      },
                      {
                        "learn": [
                          0.001024434709
                        ],
                        "iteration": 962,
                        "passed_time": 70.7857082,
                        "remaining_time": 2.719700107
                      },
                      {
                        "learn": [
                          0.001022817734
                        ],
                        "iteration": 963,
                        "passed_time": 70.85898491,
                        "remaining_time": 2.646186158
                      },
                      {
                        "learn": [
                          0.00102023964
                        ],
                        "iteration": 964,
                        "passed_time": 70.93469195,
                        "remaining_time": 2.572760848
                      },
                      {
                        "learn": [
                          0.001017688925
                        ],
                        "iteration": 965,
                        "passed_time": 71.0313917,
                        "remaining_time": 2.500069687
                      },
                      {
                        "learn": [
                          0.001013365086
                        ],
                        "iteration": 966,
                        "passed_time": 71.11334984,
                        "remaining_time": 2.426825796
                      },
                      {
                        "learn": [
                          0.001010553626
                        ],
                        "iteration": 967,
                        "passed_time": 71.18651899,
                        "remaining_time": 2.353273355
                      },
                      {
                        "learn": [
                          0.001009026433
                        ],
                        "iteration": 968,
                        "passed_time": 71.25609929,
                        "remaining_time": 2.279606891
                      },
                      {
                        "learn": [
                          0.001008442692
                        ],
                        "iteration": 969,
                        "passed_time": 71.3244194,
                        "remaining_time": 2.205909878
                      },
                      {
                        "learn": [
                          0.001004687935
                        ],
                        "iteration": 970,
                        "passed_time": 71.39905794,
                        "remaining_time": 2.132412647
                      },
                      {
                        "learn": [
                          0.001002083144
                        ],
                        "iteration": 971,
                        "passed_time": 71.47072199,
                        "remaining_time": 2.058827382
                      },
                      {
                        "learn": [
                          0.001001246912
                        ],
                        "iteration": 972,
                        "passed_time": 71.53654181,
                        "remaining_time": 1.985083894
                      },
                      {
                        "learn": [
                          0.001001208824
                        ],
                        "iteration": 973,
                        "passed_time": 71.59604011,
                        "remaining_time": 1.911187929
                      },
                      {
                        "learn": [
                          0.0009981218971
                        ],
                        "iteration": 974,
                        "passed_time": 71.68048544,
                        "remaining_time": 1.837961165
                      },
                      {
                        "learn": [
                          0.000995207865
                        ],
                        "iteration": 975,
                        "passed_time": 71.75712924,
                        "remaining_time": 1.764519571
                      },
                      {
                        "learn": [
                          0.0009943252316
                        ],
                        "iteration": 976,
                        "passed_time": 71.82920728,
                        "remaining_time": 1.690963938
                      },
                      {
                        "learn": [
                          0.0009894477867
                        ],
                        "iteration": 977,
                        "passed_time": 71.91240612,
                        "remaining_time": 1.617661487
                      },
                      {
                        "learn": [
                          0.0009879183608
                        ],
                        "iteration": 978,
                        "passed_time": 71.99185939,
                        "remaining_time": 1.544258475
                      },
                      {
                        "learn": [
                          0.0009868210569
                        ],
                        "iteration": 979,
                        "passed_time": 72.09424094,
                        "remaining_time": 1.47131104
                      },
                      {
                        "learn": [
                          0.0009865373986
                        ],
                        "iteration": 980,
                        "passed_time": 72.16018432,
                        "remaining_time": 1.397597861
                      },
                      {
                        "learn": [
                          0.0009864680193
                        ],
                        "iteration": 981,
                        "passed_time": 72.22582968,
                        "remaining_time": 1.323895045
                      },
                      {
                        "learn": [
                          0.0009852077949
                        ],
                        "iteration": 982,
                        "passed_time": 72.30057452,
                        "remaining_time": 1.250365989
                      },
                      {
                        "learn": [
                          0.0009839519651
                        ],
                        "iteration": 983,
                        "passed_time": 72.37449746,
                        "remaining_time": 1.176821097
                      },
                      {
                        "learn": [
                          0.0009829098293
                        ],
                        "iteration": 984,
                        "passed_time": 72.44579211,
                        "remaining_time": 1.103235413
                      },
                      {
                        "learn": [
                          0.0009818237265
                        ],
                        "iteration": 985,
                        "passed_time": 72.51517839,
                        "remaining_time": 1.029627279
                      },
                      {
                        "learn": [
                          0.0009816083616
                        ],
                        "iteration": 986,
                        "passed_time": 72.57412385,
                        "remaining_time": 0.9558901825
                      },
                      {
                        "learn": [
                          0.0009772432318
                        ],
                        "iteration": 987,
                        "passed_time": 72.66450339,
                        "remaining_time": 0.8825648185
                      },
                      {
                        "learn": [
                          0.0009767458057
                        ],
                        "iteration": 988,
                        "passed_time": 72.72929842,
                        "remaining_time": 0.8089204071
                      },
                      {
                        "learn": [
                          0.0009753234378
                        ],
                        "iteration": 989,
                        "passed_time": 72.79958079,
                        "remaining_time": 0.7353493009
                      },
                      {
                        "learn": [
                          0.0009738404157
                        ],
                        "iteration": 990,
                        "passed_time": 72.87489999,
                        "remaining_time": 0.6618305751
                      },
                      {
                        "learn": [
                          0.0009723609561
                        ],
                        "iteration": 991,
                        "passed_time": 72.9538843,
                        "remaining_time": 0.5883377766
                      },
                      {
                        "learn": [
                          0.0009710267649
                        ],
                        "iteration": 992,
                        "passed_time": 73.02466754,
                        "remaining_time": 0.5147761055
                      },
                      {
                        "learn": [
                          0.000970704956
                        ],
                        "iteration": 993,
                        "passed_time": 73.12439587,
                        "remaining_time": 0.4413947437
                      },
                      {
                        "learn": [
                          0.000969221749
                        ],
                        "iteration": 994,
                        "passed_time": 73.19509487,
                        "remaining_time": 0.3678145471
                      },
                      {
                        "learn": [
                          0.0009687255507
                        ],
                        "iteration": 995,
                        "passed_time": 73.26671754,
                        "remaining_time": 0.2942438455
                      },
                      {
                        "learn": [
                          0.0009677341172
                        ],
                        "iteration": 996,
                        "passed_time": 73.34061936,
                        "remaining_time": 0.2206839098
                      },
                      {
                        "learn": [
                          0.0009665720232
                        ],
                        "iteration": 997,
                        "passed_time": 73.415603,
                        "remaining_time": 0.1471254569
                      },
                      {
                        "learn": [
                          0.0009651149998
                        ],
                        "iteration": 998,
                        "passed_time": 73.48169262,
                        "remaining_time": 0.07355524787
                      },
                      {
                        "learn": [
                          0.0009649669862
                        ],
                        "iteration": 999,
                        "passed_time": 73.54006496,
                        "remaining_time": 0
                      }
                    ],
                    "meta": {
                      "test_sets": [],
                      "test_metrics": [],
                      "learn_metrics": [
                        {
                          "best_value": "Min",
                          "name": "Logloss"
                        }
                      ],
                      "launch_mode": "Train",
                      "parameters": "",
                      "iteration_count": 1000,
                      "learn_sets": [
                        "learn"
                      ],
                      "name": "experiment"
                    }
                  }
                }
              }
            },
            "layout": "IPY_MODEL_92833de930094d44a9387297f3f89a59"
          }
        }
      }
    }
  },
  "cells": [
    {
      "cell_type": "markdown",
      "metadata": {
        "id": "view-in-github",
        "colab_type": "text"
      },
      "source": [
        "<a href=\"https://colab.research.google.com/github/dolmani38/drift/blob/main/kaggle_api_in_colab_0707.ipynb\" target=\"_parent\"><img src=\"https://colab.research.google.com/assets/colab-badge.svg\" alt=\"Open In Colab\"/></a>"
      ]
    },
    {
      "metadata": {
        "id": "DIf2PtekjPtY"
      },
      "cell_type": "markdown",
      "source": [
        "# Installing the [Kaggle API](https://github.com/Kaggle/kaggle-api) in Colab"
      ]
    },
    {
      "metadata": {
        "id": "OppyMnCuWjzJ",
        "colab": {
          "base_uri": "https://localhost:8080/"
        },
        "outputId": "664a002c-74dc-4b74-b01b-a7264235af3c"
      },
      "cell_type": "code",
      "source": [
        "!pip install kaggle"
      ],
      "execution_count": null,
      "outputs": [
        {
          "output_type": "stream",
          "name": "stdout",
          "text": [
            "Looking in indexes: https://pypi.org/simple, https://us-python.pkg.dev/colab-wheels/public/simple/\n",
            "Requirement already satisfied: kaggle in /usr/local/lib/python3.7/dist-packages (1.5.12)\n",
            "Requirement already satisfied: tqdm in /usr/local/lib/python3.7/dist-packages (from kaggle) (4.64.0)\n",
            "Requirement already satisfied: six>=1.10 in /usr/local/lib/python3.7/dist-packages (from kaggle) (1.15.0)\n",
            "Requirement already satisfied: requests in /usr/local/lib/python3.7/dist-packages (from kaggle) (2.23.0)\n",
            "Requirement already satisfied: python-dateutil in /usr/local/lib/python3.7/dist-packages (from kaggle) (2.8.2)\n",
            "Requirement already satisfied: python-slugify in /usr/local/lib/python3.7/dist-packages (from kaggle) (6.1.2)\n",
            "Requirement already satisfied: urllib3 in /usr/local/lib/python3.7/dist-packages (from kaggle) (1.24.3)\n",
            "Requirement already satisfied: certifi in /usr/local/lib/python3.7/dist-packages (from kaggle) (2022.6.15)\n",
            "Requirement already satisfied: text-unidecode>=1.3 in /usr/local/lib/python3.7/dist-packages (from python-slugify->kaggle) (1.3)\n",
            "Requirement already satisfied: idna<3,>=2.5 in /usr/local/lib/python3.7/dist-packages (from requests->kaggle) (2.10)\n",
            "Requirement already satisfied: chardet<4,>=3.0.2 in /usr/local/lib/python3.7/dist-packages (from requests->kaggle) (3.0.4)\n"
          ]
        }
      ]
    },
    {
      "metadata": {
        "id": "hMY4CFezjcG-"
      },
      "cell_type": "markdown",
      "source": [
        "# Authenticating with Kaggle using kaggle.json\n",
        "\n",
        "Navigate to https://www.kaggle.com. Then go to the [Account tab of your user profile](https://www.kaggle.com/me/account) and select Create API Token. This will trigger the download of kaggle.json, a file containing your API credentials.\n",
        "\n",
        "Then run the cell below to upload kaggle.json to your Colab runtime."
      ]
    },
    {
      "metadata": {
        "id": "0HtGf0HEXEa5",
        "outputId": "ba7fbfda-668b-434e-ef35-6e1510cd2e98",
        "colab": {
          "resources": {
            "http://localhost:8080/nbextensions/google.colab/files.js": {
              "data": "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",
              "ok": true,
              "headers": [
                [
                  "content-type",
                  "application/javascript"
                ]
              ],
              "status": 200,
              "status_text": ""
            }
          },
          "base_uri": "https://localhost:8080/",
          "height": 95
        }
      },
      "cell_type": "code",
      "source": [
        "from google.colab import files\n",
        "\n",
        "uploaded = files.upload()\n",
        "\n",
        "for fn in uploaded.keys():\n",
        "  print('User uploaded file \"{name}\" with length {length} bytes'.format(\n",
        "      name=fn, length=len(uploaded[fn])))\n",
        "  \n",
        "# Then move kaggle.json into the folder where the API expects to find it.\n",
        "!mkdir -p ~/.kaggle/ && mv kaggle.json ~/.kaggle/ && chmod 600 ~/.kaggle/kaggle.json"
      ],
      "execution_count": 1,
      "outputs": [
        {
          "output_type": "display_data",
          "data": {
            "text/plain": [
              "<IPython.core.display.HTML object>"
            ],
            "text/html": [
              "\n",
              "     <input type=\"file\" id=\"files-3fd1c9c8-b3a2-4952-aa55-5d269e6d60af\" name=\"files[]\" multiple disabled\n",
              "        style=\"border:none\" />\n",
              "     <output id=\"result-3fd1c9c8-b3a2-4952-aa55-5d269e6d60af\">\n",
              "      Upload widget is only available when the cell has been executed in the\n",
              "      current browser session. Please rerun this cell to enable.\n",
              "      </output>\n",
              "      <script src=\"/nbextensions/google.colab/files.js\"></script> "
            ]
          },
          "metadata": {}
        },
        {
          "output_type": "stream",
          "name": "stdout",
          "text": [
            "Saving kaggle.json to kaggle.json\n",
            "User uploaded file \"kaggle.json\" with length 66 bytes\n"
          ]
        }
      ]
    },
    {
      "metadata": {
        "id": "HMk7Zz4ZkpCe"
      },
      "cell_type": "markdown",
      "source": [
        "# Using the Kaggle API\n",
        "\n",
        "For a more complete list of what you can do with the API, visit https://github.com/Kaggle/kaggle-api."
      ]
    },
    {
      "metadata": {
        "id": "SHVqmMXfilWG"
      },
      "cell_type": "markdown",
      "source": [
        "## Listing competitions"
      ]
    },
    {
      "metadata": {
        "id": "Oqt7Yfi5aQuM",
        "outputId": "3c715653-e76c-476e-c944-8de323d69a65",
        "colab": {
          "base_uri": "https://localhost:8080/"
        }
      },
      "cell_type": "code",
      "source": [
        "!kaggle competitions list"
      ],
      "execution_count": null,
      "outputs": [
        {
          "output_type": "stream",
          "name": "stdout",
          "text": [
            "ref                                            deadline             category            reward  teamCount  userHasEntered  \n",
            "---------------------------------------------  -------------------  ---------------  ---------  ---------  --------------  \n",
            "contradictory-my-dear-watson                   2030-07-01 23:59:00  Getting Started     Prizes         41           False  \n",
            "gan-getting-started                            2030-07-01 23:59:00  Getting Started     Prizes        131           False  \n",
            "store-sales-time-series-forecasting            2030-06-30 23:59:00  Getting Started  Knowledge        676           False  \n",
            "tpu-getting-started                            2030-06-03 23:59:00  Getting Started  Knowledge        134           False  \n",
            "digit-recognizer                               2030-01-01 00:00:00  Getting Started  Knowledge       1551           False  \n",
            "titanic                                        2030-01-01 00:00:00  Getting Started  Knowledge      14101           False  \n",
            "house-prices-advanced-regression-techniques    2030-01-01 00:00:00  Getting Started  Knowledge       4239           False  \n",
            "connectx                                       2030-01-01 00:00:00  Getting Started  Knowledge        192           False  \n",
            "nlp-getting-started                            2030-01-01 00:00:00  Getting Started  Knowledge        951           False  \n",
            "spaceship-titanic                              2030-01-01 00:00:00  Getting Started  Knowledge       2307           False  \n",
            "competitive-data-science-predict-future-sales  2022-12-31 23:59:00  Playground           Kudos      14967           False  \n",
            "amex-default-prediction                        2022-08-24 23:59:00  Featured          $100,000       1368           False  \n",
            "feedback-prize-effectiveness                   2022-08-23 23:59:00  Featured           $55,000        385           False  \n",
            "AI4Code                                        2022-08-11 23:59:00  Featured          $150,000        574           False  \n",
            "smartphone-decimeter-2022                      2022-07-29 23:59:00  Research           $10,000        290           False  \n",
            "ubiquant-market-prediction                     2022-07-18 23:59:00  Featured          $100,000       2459           False  \n",
            "uw-madison-gi-tract-image-segmentation         2022-07-14 23:59:00  Research           $25,000       1207           False  \n",
            "kore-2022                                      2022-07-12 23:59:00  Featured           $15,000        365           False  \n",
            "foursquare-location-matching                   2022-07-07 23:59:00  Featured           $25,000        895           False  \n",
            "jpx-tokyo-stock-exchange-prediction            2022-07-05 23:59:00  Featured           $63,000       1698           False  \n"
          ]
        }
      ]
    },
    {
      "metadata": {
        "id": "dNke00r6ig3h"
      },
      "cell_type": "markdown",
      "source": [
        "## Downloading a dataset"
      ]
    },
    {
      "metadata": {
        "id": "Aojvqv8Gaf8I",
        "colab": {
          "base_uri": "https://localhost:8080/"
        },
        "outputId": "9ae331cc-72be-4c5a-dc01-67ce1a4723e8"
      },
      "cell_type": "code",
      "source": [
        "!kaggle datasets download \"kartik2112/fraud-detection\""
      ],
      "execution_count": null,
      "outputs": [
        {
          "output_type": "stream",
          "name": "stdout",
          "text": [
            "Downloading fraud-detection.zip to /content\n",
            " 97% 195M/202M [00:01<00:00, 130MB/s]\n",
            "100% 202M/202M [00:01<00:00, 121MB/s]\n"
          ]
        }
      ]
    },
    {
      "metadata": {
        "id": "DsyV01gDaxls",
        "colab": {
          "base_uri": "https://localhost:8080/"
        },
        "outputId": "6f299ec6-c2b3-448d-a7e3-8d6a4303e0ed"
      },
      "cell_type": "code",
      "source": [
        "!unzip fraud-detection.zip"
      ],
      "execution_count": null,
      "outputs": [
        {
          "output_type": "stream",
          "name": "stdout",
          "text": [
            "Archive:  fraud-detection.zip\n",
            "  inflating: fraudTest.csv           \n",
            "  inflating: fraudTrain.csv          \n"
          ]
        }
      ]
    },
    {
      "metadata": {
        "id": "L7ZmFbHybsPk"
      },
      "cell_type": "code",
      "source": [
        "import pandas as pd \n",
        "\n",
        "train = pd.read_csv('fraudTrain.csv')\n",
        "test = pd.read_csv('fraudTest.csv')"
      ],
      "execution_count": null,
      "outputs": []
    },
    {
      "cell_type": "code",
      "source": [
        "#Concatenate the splitted data\n",
        "df = pd.concat([train,test],ignore_index=True)\n",
        "df.drop('Unnamed: 0',axis=1,inplace=True)"
      ],
      "metadata": {
        "id": "LHcma5xSeX69"
      },
      "execution_count": null,
      "outputs": []
    },
    {
      "cell_type": "code",
      "source": [
        "df.head()"
      ],
      "metadata": {
        "colab": {
          "base_uri": "https://localhost:8080/",
          "height": 577
        },
        "id": "Fzv0Q3kDe1fj",
        "outputId": "13e3dee7-0c88-498c-f4b9-47cabde09422"
      },
      "execution_count": null,
      "outputs": [
        {
          "output_type": "execute_result",
          "data": {
            "text/plain": [
              "  trans_date_trans_time            cc_num                            merchant  \\\n",
              "0   2019-01-01 00:00:18  2703186189652095          fraud_Rippin, Kub and Mann   \n",
              "1   2019-01-01 00:00:44      630423337322     fraud_Heller, Gutmann and Zieme   \n",
              "2   2019-01-01 00:00:51    38859492057661                fraud_Lind-Buckridge   \n",
              "3   2019-01-01 00:01:16  3534093764340240  fraud_Kutch, Hermiston and Farrell   \n",
              "4   2019-01-01 00:03:06   375534208663984                 fraud_Keeling-Crist   \n",
              "\n",
              "        category     amt      first     last gender  \\\n",
              "0       misc_net    4.97   Jennifer    Banks      F   \n",
              "1    grocery_pos  107.23  Stephanie     Gill      F   \n",
              "2  entertainment  220.11     Edward  Sanchez      M   \n",
              "3  gas_transport   45.00     Jeremy    White      M   \n",
              "4       misc_pos   41.96      Tyler   Garcia      M   \n",
              "\n",
              "                         street            city  ...      lat      long  \\\n",
              "0                561 Perry Cove  Moravian Falls  ...  36.0788  -81.1781   \n",
              "1  43039 Riley Greens Suite 393          Orient  ...  48.8878 -118.2105   \n",
              "2      594 White Dale Suite 530      Malad City  ...  42.1808 -112.2620   \n",
              "3   9443 Cynthia Court Apt. 038         Boulder  ...  46.2306 -112.1138   \n",
              "4              408 Bradley Rest        Doe Hill  ...  38.4207  -79.4629   \n",
              "\n",
              "   city_pop                                job         dob  \\\n",
              "0      3495          Psychologist, counselling  1988-03-09   \n",
              "1       149  Special educational needs teacher  1978-06-21   \n",
              "2      4154        Nature conservation officer  1962-01-19   \n",
              "3      1939                    Patent attorney  1967-01-12   \n",
              "4        99     Dance movement psychotherapist  1986-03-28   \n",
              "\n",
              "                          trans_num   unix_time  merch_lat  merch_long  \\\n",
              "0  0b242abb623afc578575680df30655b9  1325376018  36.011293  -82.048315   \n",
              "1  1f76529f8574734946361c461b024d99  1325376044  49.159047 -118.186462   \n",
              "2  a1a22d70485983eac12b5b88dad1cf95  1325376051  43.150704 -112.154481   \n",
              "3  6b849c168bdad6f867558c3793159a81  1325376076  47.034331 -112.561071   \n",
              "4  a41d7549acf90789359a9aa5346dcb46  1325376186  38.674999  -78.632459   \n",
              "\n",
              "   is_fraud  \n",
              "0         0  \n",
              "1         0  \n",
              "2         0  \n",
              "3         0  \n",
              "4         0  \n",
              "\n",
              "[5 rows x 22 columns]"
            ],
            "text/html": [
              "\n",
              "  <div id=\"df-5797f5b6-7f8e-4580-9bb6-d4e71e6a8393\">\n",
              "    <div class=\"colab-df-container\">\n",
              "      <div>\n",
              "<style scoped>\n",
              "    .dataframe tbody tr th:only-of-type {\n",
              "        vertical-align: middle;\n",
              "    }\n",
              "\n",
              "    .dataframe tbody tr th {\n",
              "        vertical-align: top;\n",
              "    }\n",
              "\n",
              "    .dataframe thead th {\n",
              "        text-align: right;\n",
              "    }\n",
              "</style>\n",
              "<table border=\"1\" class=\"dataframe\">\n",
              "  <thead>\n",
              "    <tr style=\"text-align: right;\">\n",
              "      <th></th>\n",
              "      <th>trans_date_trans_time</th>\n",
              "      <th>cc_num</th>\n",
              "      <th>merchant</th>\n",
              "      <th>category</th>\n",
              "      <th>amt</th>\n",
              "      <th>first</th>\n",
              "      <th>last</th>\n",
              "      <th>gender</th>\n",
              "      <th>street</th>\n",
              "      <th>city</th>\n",
              "      <th>...</th>\n",
              "      <th>lat</th>\n",
              "      <th>long</th>\n",
              "      <th>city_pop</th>\n",
              "      <th>job</th>\n",
              "      <th>dob</th>\n",
              "      <th>trans_num</th>\n",
              "      <th>unix_time</th>\n",
              "      <th>merch_lat</th>\n",
              "      <th>merch_long</th>\n",
              "      <th>is_fraud</th>\n",
              "    </tr>\n",
              "  </thead>\n",
              "  <tbody>\n",
              "    <tr>\n",
              "      <th>0</th>\n",
              "      <td>2019-01-01 00:00:18</td>\n",
              "      <td>2703186189652095</td>\n",
              "      <td>fraud_Rippin, Kub and Mann</td>\n",
              "      <td>misc_net</td>\n",
              "      <td>4.97</td>\n",
              "      <td>Jennifer</td>\n",
              "      <td>Banks</td>\n",
              "      <td>F</td>\n",
              "      <td>561 Perry Cove</td>\n",
              "      <td>Moravian Falls</td>\n",
              "      <td>...</td>\n",
              "      <td>36.0788</td>\n",
              "      <td>-81.1781</td>\n",
              "      <td>3495</td>\n",
              "      <td>Psychologist, counselling</td>\n",
              "      <td>1988-03-09</td>\n",
              "      <td>0b242abb623afc578575680df30655b9</td>\n",
              "      <td>1325376018</td>\n",
              "      <td>36.011293</td>\n",
              "      <td>-82.048315</td>\n",
              "      <td>0</td>\n",
              "    </tr>\n",
              "    <tr>\n",
              "      <th>1</th>\n",
              "      <td>2019-01-01 00:00:44</td>\n",
              "      <td>630423337322</td>\n",
              "      <td>fraud_Heller, Gutmann and Zieme</td>\n",
              "      <td>grocery_pos</td>\n",
              "      <td>107.23</td>\n",
              "      <td>Stephanie</td>\n",
              "      <td>Gill</td>\n",
              "      <td>F</td>\n",
              "      <td>43039 Riley Greens Suite 393</td>\n",
              "      <td>Orient</td>\n",
              "      <td>...</td>\n",
              "      <td>48.8878</td>\n",
              "      <td>-118.2105</td>\n",
              "      <td>149</td>\n",
              "      <td>Special educational needs teacher</td>\n",
              "      <td>1978-06-21</td>\n",
              "      <td>1f76529f8574734946361c461b024d99</td>\n",
              "      <td>1325376044</td>\n",
              "      <td>49.159047</td>\n",
              "      <td>-118.186462</td>\n",
              "      <td>0</td>\n",
              "    </tr>\n",
              "    <tr>\n",
              "      <th>2</th>\n",
              "      <td>2019-01-01 00:00:51</td>\n",
              "      <td>38859492057661</td>\n",
              "      <td>fraud_Lind-Buckridge</td>\n",
              "      <td>entertainment</td>\n",
              "      <td>220.11</td>\n",
              "      <td>Edward</td>\n",
              "      <td>Sanchez</td>\n",
              "      <td>M</td>\n",
              "      <td>594 White Dale Suite 530</td>\n",
              "      <td>Malad City</td>\n",
              "      <td>...</td>\n",
              "      <td>42.1808</td>\n",
              "      <td>-112.2620</td>\n",
              "      <td>4154</td>\n",
              "      <td>Nature conservation officer</td>\n",
              "      <td>1962-01-19</td>\n",
              "      <td>a1a22d70485983eac12b5b88dad1cf95</td>\n",
              "      <td>1325376051</td>\n",
              "      <td>43.150704</td>\n",
              "      <td>-112.154481</td>\n",
              "      <td>0</td>\n",
              "    </tr>\n",
              "    <tr>\n",
              "      <th>3</th>\n",
              "      <td>2019-01-01 00:01:16</td>\n",
              "      <td>3534093764340240</td>\n",
              "      <td>fraud_Kutch, Hermiston and Farrell</td>\n",
              "      <td>gas_transport</td>\n",
              "      <td>45.00</td>\n",
              "      <td>Jeremy</td>\n",
              "      <td>White</td>\n",
              "      <td>M</td>\n",
              "      <td>9443 Cynthia Court Apt. 038</td>\n",
              "      <td>Boulder</td>\n",
              "      <td>...</td>\n",
              "      <td>46.2306</td>\n",
              "      <td>-112.1138</td>\n",
              "      <td>1939</td>\n",
              "      <td>Patent attorney</td>\n",
              "      <td>1967-01-12</td>\n",
              "      <td>6b849c168bdad6f867558c3793159a81</td>\n",
              "      <td>1325376076</td>\n",
              "      <td>47.034331</td>\n",
              "      <td>-112.561071</td>\n",
              "      <td>0</td>\n",
              "    </tr>\n",
              "    <tr>\n",
              "      <th>4</th>\n",
              "      <td>2019-01-01 00:03:06</td>\n",
              "      <td>375534208663984</td>\n",
              "      <td>fraud_Keeling-Crist</td>\n",
              "      <td>misc_pos</td>\n",
              "      <td>41.96</td>\n",
              "      <td>Tyler</td>\n",
              "      <td>Garcia</td>\n",
              "      <td>M</td>\n",
              "      <td>408 Bradley Rest</td>\n",
              "      <td>Doe Hill</td>\n",
              "      <td>...</td>\n",
              "      <td>38.4207</td>\n",
              "      <td>-79.4629</td>\n",
              "      <td>99</td>\n",
              "      <td>Dance movement psychotherapist</td>\n",
              "      <td>1986-03-28</td>\n",
              "      <td>a41d7549acf90789359a9aa5346dcb46</td>\n",
              "      <td>1325376186</td>\n",
              "      <td>38.674999</td>\n",
              "      <td>-78.632459</td>\n",
              "      <td>0</td>\n",
              "    </tr>\n",
              "  </tbody>\n",
              "</table>\n",
              "<p>5 rows × 22 columns</p>\n",
              "</div>\n",
              "      <button class=\"colab-df-convert\" onclick=\"convertToInteractive('df-5797f5b6-7f8e-4580-9bb6-d4e71e6a8393')\"\n",
              "              title=\"Convert this dataframe to an interactive table.\"\n",
              "              style=\"display:none;\">\n",
              "        \n",
              "  <svg xmlns=\"http://www.w3.org/2000/svg\" height=\"24px\"viewBox=\"0 0 24 24\"\n",
              "       width=\"24px\">\n",
              "    <path d=\"M0 0h24v24H0V0z\" fill=\"none\"/>\n",
              "    <path d=\"M18.56 5.44l.94 2.06.94-2.06 2.06-.94-2.06-.94-.94-2.06-.94 2.06-2.06.94zm-11 1L8.5 8.5l.94-2.06 2.06-.94-2.06-.94L8.5 2.5l-.94 2.06-2.06.94zm10 10l.94 2.06.94-2.06 2.06-.94-2.06-.94-.94-2.06-.94 2.06-2.06.94z\"/><path d=\"M17.41 7.96l-1.37-1.37c-.4-.4-.92-.59-1.43-.59-.52 0-1.04.2-1.43.59L10.3 9.45l-7.72 7.72c-.78.78-.78 2.05 0 2.83L4 21.41c.39.39.9.59 1.41.59.51 0 1.02-.2 1.41-.59l7.78-7.78 2.81-2.81c.8-.78.8-2.07 0-2.86zM5.41 20L4 18.59l7.72-7.72 1.47 1.35L5.41 20z\"/>\n",
              "  </svg>\n",
              "      </button>\n",
              "      \n",
              "  <style>\n",
              "    .colab-df-container {\n",
              "      display:flex;\n",
              "      flex-wrap:wrap;\n",
              "      gap: 12px;\n",
              "    }\n",
              "\n",
              "    .colab-df-convert {\n",
              "      background-color: #E8F0FE;\n",
              "      border: none;\n",
              "      border-radius: 50%;\n",
              "      cursor: pointer;\n",
              "      display: none;\n",
              "      fill: #1967D2;\n",
              "      height: 32px;\n",
              "      padding: 0 0 0 0;\n",
              "      width: 32px;\n",
              "    }\n",
              "\n",
              "    .colab-df-convert:hover {\n",
              "      background-color: #E2EBFA;\n",
              "      box-shadow: 0px 1px 2px rgba(60, 64, 67, 0.3), 0px 1px 3px 1px rgba(60, 64, 67, 0.15);\n",
              "      fill: #174EA6;\n",
              "    }\n",
              "\n",
              "    [theme=dark] .colab-df-convert {\n",
              "      background-color: #3B4455;\n",
              "      fill: #D2E3FC;\n",
              "    }\n",
              "\n",
              "    [theme=dark] .colab-df-convert:hover {\n",
              "      background-color: #434B5C;\n",
              "      box-shadow: 0px 1px 3px 1px rgba(0, 0, 0, 0.15);\n",
              "      filter: drop-shadow(0px 1px 2px rgba(0, 0, 0, 0.3));\n",
              "      fill: #FFFFFF;\n",
              "    }\n",
              "  </style>\n",
              "\n",
              "      <script>\n",
              "        const buttonEl =\n",
              "          document.querySelector('#df-5797f5b6-7f8e-4580-9bb6-d4e71e6a8393 button.colab-df-convert');\n",
              "        buttonEl.style.display =\n",
              "          google.colab.kernel.accessAllowed ? 'block' : 'none';\n",
              "\n",
              "        async function convertToInteractive(key) {\n",
              "          const element = document.querySelector('#df-5797f5b6-7f8e-4580-9bb6-d4e71e6a8393');\n",
              "          const dataTable =\n",
              "            await google.colab.kernel.invokeFunction('convertToInteractive',\n",
              "                                                     [key], {});\n",
              "          if (!dataTable) return;\n",
              "\n",
              "          const docLinkHtml = 'Like what you see? Visit the ' +\n",
              "            '<a target=\"_blank\" href=https://colab.research.google.com/notebooks/data_table.ipynb>data table notebook</a>'\n",
              "            + ' to learn more about interactive tables.';\n",
              "          element.innerHTML = '';\n",
              "          dataTable['output_type'] = 'display_data';\n",
              "          await google.colab.output.renderOutput(dataTable, element);\n",
              "          const docLink = document.createElement('div');\n",
              "          docLink.innerHTML = docLinkHtml;\n",
              "          element.appendChild(docLink);\n",
              "        }\n",
              "      </script>\n",
              "    </div>\n",
              "  </div>\n",
              "  "
            ]
          },
          "metadata": {},
          "execution_count": 7
        }
      ]
    },
    {
      "cell_type": "code",
      "source": [
        "#Shape of the data (rows,columns)\n",
        "df.shape"
      ],
      "metadata": {
        "colab": {
          "base_uri": "https://localhost:8080/"
        },
        "id": "MXfFCI15e27z",
        "outputId": "18747feb-c722-4e6a-b8c7-5cb01653ad94"
      },
      "execution_count": null,
      "outputs": [
        {
          "output_type": "execute_result",
          "data": {
            "text/plain": [
              "(1852394, 22)"
            ]
          },
          "metadata": {},
          "execution_count": 8
        }
      ]
    },
    {
      "cell_type": "code",
      "source": [
        "#Finding dtypes and other basic info about the features\n",
        "df.info()"
      ],
      "metadata": {
        "colab": {
          "base_uri": "https://localhost:8080/"
        },
        "id": "WO8uiCuce6u2",
        "outputId": "d0250d72-1c5a-40bf-9eca-90a32acbf06f"
      },
      "execution_count": null,
      "outputs": [
        {
          "output_type": "stream",
          "name": "stdout",
          "text": [
            "<class 'pandas.core.frame.DataFrame'>\n",
            "RangeIndex: 1852394 entries, 0 to 1852393\n",
            "Data columns (total 22 columns):\n",
            " #   Column                 Dtype  \n",
            "---  ------                 -----  \n",
            " 0   trans_date_trans_time  object \n",
            " 1   cc_num                 int64  \n",
            " 2   merchant               object \n",
            " 3   category               object \n",
            " 4   amt                    float64\n",
            " 5   first                  object \n",
            " 6   last                   object \n",
            " 7   gender                 object \n",
            " 8   street                 object \n",
            " 9   city                   object \n",
            " 10  state                  object \n",
            " 11  zip                    int64  \n",
            " 12  lat                    float64\n",
            " 13  long                   float64\n",
            " 14  city_pop               int64  \n",
            " 15  job                    object \n",
            " 16  dob                    object \n",
            " 17  trans_num              object \n",
            " 18  unix_time              int64  \n",
            " 19  merch_lat              float64\n",
            " 20  merch_long             float64\n",
            " 21  is_fraud               int64  \n",
            "dtypes: float64(5), int64(5), object(12)\n",
            "memory usage: 310.9+ MB\n"
          ]
        }
      ]
    },
    {
      "cell_type": "code",
      "source": [
        "import numpy as np # linear algebra\n",
        "import pandas as pd # data processing, CSV file I/O (e.g. pd.read_csv)\n",
        "\n",
        "import matplotlib.pyplot as plt###\n",
        "                               ### Visualisation tools\n",
        "import seaborn as sns          ###\n",
        "\n",
        "from sklearn.linear_model import LinearRegression,LogisticRegression,SGDRegressor , Ridge,Lasso\n",
        "from sklearn.model_selection import train_test_split,GridSearchCV\n",
        "from sklearn.preprocessing import LabelEncoder,StandardScaler\n",
        "from warnings import filterwarnings\n",
        "filterwarnings('ignore')\n",
        "from sklearn.metrics import accuracy_score,precision_score,confusion_matrix\n",
        "from sklearn.metrics import classification_report,roc_curve,roc_auc_score\n",
        "from sklearn.neighbors import KNeighborsClassifier\n",
        "from sklearn.naive_bayes import GaussianNB\n",
        "\n",
        "# Input data files are available in the read-only \"../input/\" directory\n",
        "# For example, running this (by clicking run or pressing Shift+Enter) will list all files under the input directory\n",
        "\n",
        "import os"
      ],
      "metadata": {
        "id": "_AGpHx6QfJ9w"
      },
      "execution_count": 2,
      "outputs": []
    },
    {
      "cell_type": "code",
      "source": [
        "#dividing data into categorical and numerical\n",
        "df_cat = df.select_dtypes(include = 'object')\n",
        "df_num = df.select_dtypes(exclude = 'object')\n",
        "le = LabelEncoder()"
      ],
      "metadata": {
        "id": "BizQmguge-3K"
      },
      "execution_count": null,
      "outputs": []
    },
    {
      "cell_type": "code",
      "source": [
        "df['gender_le']  = le.fit_transform(df['gender'])"
      ],
      "metadata": {
        "id": "p6SZ9_aJfSg0"
      },
      "execution_count": null,
      "outputs": []
    },
    {
      "cell_type": "code",
      "source": [
        "# Seperating  numerical from nominal\n",
        "# cutting off some data to avoid heavy cpu usage\n",
        "df2 = df.select_dtypes(exclude = 'object')\n",
        "#df2 = df2.loc[:149999]"
      ],
      "metadata": {
        "id": "3sUrHipofeqQ"
      },
      "execution_count": null,
      "outputs": []
    },
    {
      "cell_type": "code",
      "source": [
        "# dropping the feature which is not useful for data analysis\n",
        "df2 = df2.drop(['cc_num'],axis=1)\n",
        "# seperating target and independent features\n",
        "x = df2.drop('is_fraud',axis=1)\n",
        "y = df2['is_fraud']"
      ],
      "metadata": {
        "id": "oyNx2-znfj25"
      },
      "execution_count": null,
      "outputs": []
    },
    {
      "cell_type": "code",
      "source": [
        "df_num = df_num.drop(['cc_num','zip'],axis=1)\n",
        "df_num = df_num.drop('is_fraud',axis=1)"
      ],
      "metadata": {
        "id": "b2QjqP_rhlMM"
      },
      "execution_count": null,
      "outputs": []
    },
    {
      "cell_type": "code",
      "source": [
        "df_num.columns"
      ],
      "metadata": {
        "colab": {
          "base_uri": "https://localhost:8080/"
        },
        "id": "ad3_wR09hpp0",
        "outputId": "d8fd1b80-cde1-4dcb-b552-41b8ceaee452"
      },
      "execution_count": null,
      "outputs": [
        {
          "output_type": "execute_result",
          "data": {
            "text/plain": [
              "Index(['amt', 'lat', 'long', 'city_pop', 'unix_time', 'merch_lat',\n",
              "       'merch_long'],\n",
              "      dtype='object')"
            ]
          },
          "metadata": {},
          "execution_count": 16
        }
      ]
    },
    {
      "cell_type": "code",
      "source": [
        "x.shape"
      ],
      "metadata": {
        "colab": {
          "base_uri": "https://localhost:8080/"
        },
        "id": "yyPmHWEinEt5",
        "outputId": "6aab29ef-badf-40e3-d9f9-ac789f658a98"
      },
      "execution_count": null,
      "outputs": [
        {
          "output_type": "execute_result",
          "data": {
            "text/plain": [
              "(1852394, 9)"
            ]
          },
          "metadata": {},
          "execution_count": 17
        }
      ]
    },
    {
      "cell_type": "code",
      "source": [
        "train_x = x[0:300000]\n",
        "train_y = 1-y[0:300000]\n"
      ],
      "metadata": {
        "id": "eUFSCpd6flER"
      },
      "execution_count": null,
      "outputs": []
    },
    {
      "cell_type": "code",
      "source": [
        "train_x"
      ],
      "metadata": {
        "colab": {
          "base_uri": "https://localhost:8080/",
          "height": 424
        },
        "id": "MrjXRQpKhQq7",
        "outputId": "174d0b5f-6f14-4958-830d-74c08a97233d"
      },
      "execution_count": null,
      "outputs": [
        {
          "output_type": "execute_result",
          "data": {
            "text/plain": [
              "           amt    zip      lat      long  city_pop   unix_time  merch_lat  \\\n",
              "0         4.97  28654  36.0788  -81.1781      3495  1325376018  36.011293   \n",
              "1       107.23  99160  48.8878 -118.2105       149  1325376044  49.159047   \n",
              "2       220.11  83252  42.1808 -112.2620      4154  1325376051  43.150704   \n",
              "3        45.00  59632  46.2306 -112.1138      1939  1325376076  47.034331   \n",
              "4        41.96  24433  38.4207  -79.4629        99  1325376186  38.674999   \n",
              "...        ...    ...      ...       ...       ...         ...        ...   \n",
              "299995   96.03  25106  38.8265  -82.1364       642  1338048681  39.298162   \n",
              "299996   59.77  63021  38.5770  -90.5255     92608  1338048685  39.339959   \n",
              "299997   77.82  73754  36.3850  -98.0727      1078  1338048717  36.545200   \n",
              "299998   53.20  27522  36.1124  -78.6476     12335  1338048723  36.078714   \n",
              "299999   78.53  54896  45.8327  -91.0144      1478  1338048746  45.181078   \n",
              "\n",
              "        merch_long  gender_le  \n",
              "0       -82.048315          0  \n",
              "1      -118.186462          0  \n",
              "2      -112.154481          1  \n",
              "3      -112.561071          1  \n",
              "4       -78.632459          1  \n",
              "...            ...        ...  \n",
              "299995  -82.030474          0  \n",
              "299996  -89.859340          1  \n",
              "299997  -98.854027          1  \n",
              "299998  -78.024839          0  \n",
              "299999  -90.340056          0  \n",
              "\n",
              "[300000 rows x 9 columns]"
            ],
            "text/html": [
              "\n",
              "  <div id=\"df-2a10bad4-5070-44c6-9fef-908d64172c29\">\n",
              "    <div class=\"colab-df-container\">\n",
              "      <div>\n",
              "<style scoped>\n",
              "    .dataframe tbody tr th:only-of-type {\n",
              "        vertical-align: middle;\n",
              "    }\n",
              "\n",
              "    .dataframe tbody tr th {\n",
              "        vertical-align: top;\n",
              "    }\n",
              "\n",
              "    .dataframe thead th {\n",
              "        text-align: right;\n",
              "    }\n",
              "</style>\n",
              "<table border=\"1\" class=\"dataframe\">\n",
              "  <thead>\n",
              "    <tr style=\"text-align: right;\">\n",
              "      <th></th>\n",
              "      <th>amt</th>\n",
              "      <th>zip</th>\n",
              "      <th>lat</th>\n",
              "      <th>long</th>\n",
              "      <th>city_pop</th>\n",
              "      <th>unix_time</th>\n",
              "      <th>merch_lat</th>\n",
              "      <th>merch_long</th>\n",
              "      <th>gender_le</th>\n",
              "    </tr>\n",
              "  </thead>\n",
              "  <tbody>\n",
              "    <tr>\n",
              "      <th>0</th>\n",
              "      <td>4.97</td>\n",
              "      <td>28654</td>\n",
              "      <td>36.0788</td>\n",
              "      <td>-81.1781</td>\n",
              "      <td>3495</td>\n",
              "      <td>1325376018</td>\n",
              "      <td>36.011293</td>\n",
              "      <td>-82.048315</td>\n",
              "      <td>0</td>\n",
              "    </tr>\n",
              "    <tr>\n",
              "      <th>1</th>\n",
              "      <td>107.23</td>\n",
              "      <td>99160</td>\n",
              "      <td>48.8878</td>\n",
              "      <td>-118.2105</td>\n",
              "      <td>149</td>\n",
              "      <td>1325376044</td>\n",
              "      <td>49.159047</td>\n",
              "      <td>-118.186462</td>\n",
              "      <td>0</td>\n",
              "    </tr>\n",
              "    <tr>\n",
              "      <th>2</th>\n",
              "      <td>220.11</td>\n",
              "      <td>83252</td>\n",
              "      <td>42.1808</td>\n",
              "      <td>-112.2620</td>\n",
              "      <td>4154</td>\n",
              "      <td>1325376051</td>\n",
              "      <td>43.150704</td>\n",
              "      <td>-112.154481</td>\n",
              "      <td>1</td>\n",
              "    </tr>\n",
              "    <tr>\n",
              "      <th>3</th>\n",
              "      <td>45.00</td>\n",
              "      <td>59632</td>\n",
              "      <td>46.2306</td>\n",
              "      <td>-112.1138</td>\n",
              "      <td>1939</td>\n",
              "      <td>1325376076</td>\n",
              "      <td>47.034331</td>\n",
              "      <td>-112.561071</td>\n",
              "      <td>1</td>\n",
              "    </tr>\n",
              "    <tr>\n",
              "      <th>4</th>\n",
              "      <td>41.96</td>\n",
              "      <td>24433</td>\n",
              "      <td>38.4207</td>\n",
              "      <td>-79.4629</td>\n",
              "      <td>99</td>\n",
              "      <td>1325376186</td>\n",
              "      <td>38.674999</td>\n",
              "      <td>-78.632459</td>\n",
              "      <td>1</td>\n",
              "    </tr>\n",
              "    <tr>\n",
              "      <th>...</th>\n",
              "      <td>...</td>\n",
              "      <td>...</td>\n",
              "      <td>...</td>\n",
              "      <td>...</td>\n",
              "      <td>...</td>\n",
              "      <td>...</td>\n",
              "      <td>...</td>\n",
              "      <td>...</td>\n",
              "      <td>...</td>\n",
              "    </tr>\n",
              "    <tr>\n",
              "      <th>299995</th>\n",
              "      <td>96.03</td>\n",
              "      <td>25106</td>\n",
              "      <td>38.8265</td>\n",
              "      <td>-82.1364</td>\n",
              "      <td>642</td>\n",
              "      <td>1338048681</td>\n",
              "      <td>39.298162</td>\n",
              "      <td>-82.030474</td>\n",
              "      <td>0</td>\n",
              "    </tr>\n",
              "    <tr>\n",
              "      <th>299996</th>\n",
              "      <td>59.77</td>\n",
              "      <td>63021</td>\n",
              "      <td>38.5770</td>\n",
              "      <td>-90.5255</td>\n",
              "      <td>92608</td>\n",
              "      <td>1338048685</td>\n",
              "      <td>39.339959</td>\n",
              "      <td>-89.859340</td>\n",
              "      <td>1</td>\n",
              "    </tr>\n",
              "    <tr>\n",
              "      <th>299997</th>\n",
              "      <td>77.82</td>\n",
              "      <td>73754</td>\n",
              "      <td>36.3850</td>\n",
              "      <td>-98.0727</td>\n",
              "      <td>1078</td>\n",
              "      <td>1338048717</td>\n",
              "      <td>36.545200</td>\n",
              "      <td>-98.854027</td>\n",
              "      <td>1</td>\n",
              "    </tr>\n",
              "    <tr>\n",
              "      <th>299998</th>\n",
              "      <td>53.20</td>\n",
              "      <td>27522</td>\n",
              "      <td>36.1124</td>\n",
              "      <td>-78.6476</td>\n",
              "      <td>12335</td>\n",
              "      <td>1338048723</td>\n",
              "      <td>36.078714</td>\n",
              "      <td>-78.024839</td>\n",
              "      <td>0</td>\n",
              "    </tr>\n",
              "    <tr>\n",
              "      <th>299999</th>\n",
              "      <td>78.53</td>\n",
              "      <td>54896</td>\n",
              "      <td>45.8327</td>\n",
              "      <td>-91.0144</td>\n",
              "      <td>1478</td>\n",
              "      <td>1338048746</td>\n",
              "      <td>45.181078</td>\n",
              "      <td>-90.340056</td>\n",
              "      <td>0</td>\n",
              "    </tr>\n",
              "  </tbody>\n",
              "</table>\n",
              "<p>300000 rows × 9 columns</p>\n",
              "</div>\n",
              "      <button class=\"colab-df-convert\" onclick=\"convertToInteractive('df-2a10bad4-5070-44c6-9fef-908d64172c29')\"\n",
              "              title=\"Convert this dataframe to an interactive table.\"\n",
              "              style=\"display:none;\">\n",
              "        \n",
              "  <svg xmlns=\"http://www.w3.org/2000/svg\" height=\"24px\"viewBox=\"0 0 24 24\"\n",
              "       width=\"24px\">\n",
              "    <path d=\"M0 0h24v24H0V0z\" fill=\"none\"/>\n",
              "    <path d=\"M18.56 5.44l.94 2.06.94-2.06 2.06-.94-2.06-.94-.94-2.06-.94 2.06-2.06.94zm-11 1L8.5 8.5l.94-2.06 2.06-.94-2.06-.94L8.5 2.5l-.94 2.06-2.06.94zm10 10l.94 2.06.94-2.06 2.06-.94-2.06-.94-.94-2.06-.94 2.06-2.06.94z\"/><path d=\"M17.41 7.96l-1.37-1.37c-.4-.4-.92-.59-1.43-.59-.52 0-1.04.2-1.43.59L10.3 9.45l-7.72 7.72c-.78.78-.78 2.05 0 2.83L4 21.41c.39.39.9.59 1.41.59.51 0 1.02-.2 1.41-.59l7.78-7.78 2.81-2.81c.8-.78.8-2.07 0-2.86zM5.41 20L4 18.59l7.72-7.72 1.47 1.35L5.41 20z\"/>\n",
              "  </svg>\n",
              "      </button>\n",
              "      \n",
              "  <style>\n",
              "    .colab-df-container {\n",
              "      display:flex;\n",
              "      flex-wrap:wrap;\n",
              "      gap: 12px;\n",
              "    }\n",
              "\n",
              "    .colab-df-convert {\n",
              "      background-color: #E8F0FE;\n",
              "      border: none;\n",
              "      border-radius: 50%;\n",
              "      cursor: pointer;\n",
              "      display: none;\n",
              "      fill: #1967D2;\n",
              "      height: 32px;\n",
              "      padding: 0 0 0 0;\n",
              "      width: 32px;\n",
              "    }\n",
              "\n",
              "    .colab-df-convert:hover {\n",
              "      background-color: #E2EBFA;\n",
              "      box-shadow: 0px 1px 2px rgba(60, 64, 67, 0.3), 0px 1px 3px 1px rgba(60, 64, 67, 0.15);\n",
              "      fill: #174EA6;\n",
              "    }\n",
              "\n",
              "    [theme=dark] .colab-df-convert {\n",
              "      background-color: #3B4455;\n",
              "      fill: #D2E3FC;\n",
              "    }\n",
              "\n",
              "    [theme=dark] .colab-df-convert:hover {\n",
              "      background-color: #434B5C;\n",
              "      box-shadow: 0px 1px 3px 1px rgba(0, 0, 0, 0.15);\n",
              "      filter: drop-shadow(0px 1px 2px rgba(0, 0, 0, 0.3));\n",
              "      fill: #FFFFFF;\n",
              "    }\n",
              "  </style>\n",
              "\n",
              "      <script>\n",
              "        const buttonEl =\n",
              "          document.querySelector('#df-2a10bad4-5070-44c6-9fef-908d64172c29 button.colab-df-convert');\n",
              "        buttonEl.style.display =\n",
              "          google.colab.kernel.accessAllowed ? 'block' : 'none';\n",
              "\n",
              "        async function convertToInteractive(key) {\n",
              "          const element = document.querySelector('#df-2a10bad4-5070-44c6-9fef-908d64172c29');\n",
              "          const dataTable =\n",
              "            await google.colab.kernel.invokeFunction('convertToInteractive',\n",
              "                                                     [key], {});\n",
              "          if (!dataTable) return;\n",
              "\n",
              "          const docLinkHtml = 'Like what you see? Visit the ' +\n",
              "            '<a target=\"_blank\" href=https://colab.research.google.com/notebooks/data_table.ipynb>data table notebook</a>'\n",
              "            + ' to learn more about interactive tables.';\n",
              "          element.innerHTML = '';\n",
              "          dataTable['output_type'] = 'display_data';\n",
              "          await google.colab.output.renderOutput(dataTable, element);\n",
              "          const docLink = document.createElement('div');\n",
              "          docLink.innerHTML = docLinkHtml;\n",
              "          element.appendChild(docLink);\n",
              "        }\n",
              "      </script>\n",
              "    </div>\n",
              "  </div>\n",
              "  "
            ]
          },
          "metadata": {},
          "execution_count": 19
        }
      ]
    },
    {
      "cell_type": "code",
      "source": [
        "# Scaling the data\n",
        "ss = StandardScaler()\n",
        "train_x[df_num.columns] = ss.fit_transform(train_x[df_num.columns])\n"
      ],
      "metadata": {
        "id": "t1xDGIh7hw1u"
      },
      "execution_count": null,
      "outputs": []
    },
    {
      "cell_type": "code",
      "source": [
        "train_y.value_counts()"
      ],
      "metadata": {
        "colab": {
          "base_uri": "https://localhost:8080/"
        },
        "id": "EKwDAePZi7M5",
        "outputId": "a3fabe0c-8ca4-4e58-a887-88a884359e20"
      },
      "execution_count": null,
      "outputs": [
        {
          "output_type": "execute_result",
          "data": {
            "text/plain": [
              "1    297745\n",
              "0      2255\n",
              "Name: is_fraud, dtype: int64"
            ]
          },
          "metadata": {},
          "execution_count": 24
        }
      ]
    },
    {
      "cell_type": "code",
      "source": [
        "import tensorflow as tf\n",
        "from tensorflow.keras import layers\n",
        "from tensorflow.keras import datasets, layers, models, optimizers\n",
        "from tensorflow.keras.utils import to_categorical\n",
        "import random"
      ],
      "metadata": {
        "id": "p71_5dSogH23"
      },
      "execution_count": null,
      "outputs": []
    },
    {
      "cell_type": "code",
      "source": [
        "\n",
        "epochs = 500\n",
        "\n",
        "model_c = tf.keras.Sequential([\n",
        "    tf.keras.layers.Dense(128, activation='relu', input_shape=(train_x.shape[1],)),\n",
        "    #tf.keras.layers.Dense(64, activation='relu'),\n",
        "    tf.keras.layers.Dense(1, activation='sigmoid')\n",
        "])\n",
        "\n",
        "# patience 매개변수는 성능 향상을 체크할 에포크 횟수입니다\n",
        "early_stop = tf.keras.callbacks.EarlyStopping(monitor='val_loss', patience=10)\n",
        "\n",
        "opt = optimizers.Adam(learning_rate=0.0000001)\n",
        "model_c.compile(optimizer=opt,\n",
        "            loss='binary_crossentropy',\n",
        "            metrics=['acc'])\n",
        "print(model_c.summary())\n",
        "#hist = model_c.fit(dx, metric_c[:,0], validation_split=0.2, batch_size=400, epochs=epochs,shuffle=False,verbose=0,callbacks=[early_stop,VerboseCallback(epochs)]) #, callbacks=[es_callback])\n",
        "hist = model_c.fit(train_x, train_y, validation_split=0.2, \n",
        "                   batch_size=5000, epochs=epochs,shuffle=False,use_multiprocessing=False,\n",
        "                   verbose=1, callbacks=[early_stop])"
      ],
      "metadata": {
        "colab": {
          "base_uri": "https://localhost:8080/",
          "height": 1000
        },
        "id": "2YQtp_A_gMno",
        "outputId": "788207b8-0e85-4ec4-80da-f6960e244b72"
      },
      "execution_count": null,
      "outputs": [
        {
          "output_type": "stream",
          "name": "stdout",
          "text": [
            "Model: \"sequential_3\"\n",
            "_________________________________________________________________\n",
            " Layer (type)                Output Shape              Param #   \n",
            "=================================================================\n",
            " dense_9 (Dense)             (None, 128)               1280      \n",
            "                                                                 \n",
            " dense_10 (Dense)            (None, 1)                 129       \n",
            "                                                                 \n",
            "=================================================================\n",
            "Total params: 1,409\n",
            "Trainable params: 1,409\n",
            "Non-trainable params: 0\n",
            "_________________________________________________________________\n",
            "None\n",
            "Epoch 1/500\n",
            "48/48 [==============================] - 1s 7ms/step - loss: 2173361.0000 - acc: 0.9922 - val_loss: 1742507.8750 - val_acc: 0.9937\n",
            "Epoch 2/500\n",
            "48/48 [==============================] - 0s 4ms/step - loss: 2172709.7500 - acc: 0.9922 - val_loss: 1741974.5000 - val_acc: 0.9937\n",
            "Epoch 3/500\n",
            "48/48 [==============================] - 0s 4ms/step - loss: 2172040.5000 - acc: 0.9922 - val_loss: 1741432.8750 - val_acc: 0.9937\n",
            "Epoch 4/500\n",
            "48/48 [==============================] - 0s 4ms/step - loss: 2171362.7500 - acc: 0.9922 - val_loss: 1740887.2500 - val_acc: 0.9937\n",
            "Epoch 5/500\n",
            "48/48 [==============================] - 0s 4ms/step - loss: 2170680.5000 - acc: 0.9922 - val_loss: 1740338.7500 - val_acc: 0.9937\n",
            "Epoch 6/500\n",
            "48/48 [==============================] - 0s 4ms/step - loss: 2169996.7500 - acc: 0.9922 - val_loss: 1739789.7500 - val_acc: 0.9937\n",
            "Epoch 7/500\n",
            "48/48 [==============================] - 0s 5ms/step - loss: 2169311.7500 - acc: 0.9922 - val_loss: 1739240.2500 - val_acc: 0.9937\n",
            "Epoch 8/500\n",
            "48/48 [==============================] - 0s 5ms/step - loss: 2168626.5000 - acc: 0.9922 - val_loss: 1738690.0000 - val_acc: 0.9937\n",
            "Epoch 9/500\n",
            "48/48 [==============================] - 0s 4ms/step - loss: 2167940.0000 - acc: 0.9922 - val_loss: 1738139.3750 - val_acc: 0.9937\n",
            "Epoch 10/500\n",
            "48/48 [==============================] - 0s 4ms/step - loss: 2167253.7500 - acc: 0.9922 - val_loss: 1737588.6250 - val_acc: 0.9937\n",
            "Epoch 11/500\n",
            "48/48 [==============================] - 0s 5ms/step - loss: 2166566.2500 - acc: 0.9922 - val_loss: 1737037.1250 - val_acc: 0.9937\n",
            "Epoch 12/500\n",
            "48/48 [==============================] - 0s 5ms/step - loss: 2165878.2500 - acc: 0.9922 - val_loss: 1736485.3750 - val_acc: 0.9937\n",
            "Epoch 13/500\n",
            "48/48 [==============================] - 0s 4ms/step - loss: 2165189.7500 - acc: 0.9922 - val_loss: 1735933.1250 - val_acc: 0.9937\n",
            "Epoch 14/500\n",
            "48/48 [==============================] - 0s 4ms/step - loss: 2164501.2500 - acc: 0.9922 - val_loss: 1735381.0000 - val_acc: 0.9937\n",
            "Epoch 15/500\n",
            "48/48 [==============================] - 0s 4ms/step - loss: 2163812.7500 - acc: 0.9922 - val_loss: 1734829.0000 - val_acc: 0.9937\n",
            "Epoch 16/500\n",
            "48/48 [==============================] - 0s 5ms/step - loss: 2163123.7500 - acc: 0.9922 - val_loss: 1734276.7500 - val_acc: 0.9937\n",
            "Epoch 17/500\n",
            "48/48 [==============================] - 0s 4ms/step - loss: 2162434.7500 - acc: 0.9922 - val_loss: 1733724.2500 - val_acc: 0.9937\n",
            "Epoch 18/500\n",
            "48/48 [==============================] - 0s 4ms/step - loss: 2161746.0000 - acc: 0.9922 - val_loss: 1733171.8750 - val_acc: 0.9937\n",
            "Epoch 19/500\n",
            "48/48 [==============================] - 0s 5ms/step - loss: 2161057.5000 - acc: 0.9922 - val_loss: 1732619.2500 - val_acc: 0.9937\n",
            "Epoch 20/500\n",
            "48/48 [==============================] - 0s 4ms/step - loss: 2160368.0000 - acc: 0.9922 - val_loss: 1732066.7500 - val_acc: 0.9937\n",
            "Epoch 21/500\n",
            "48/48 [==============================] - 0s 4ms/step - loss: 2159679.0000 - acc: 0.9922 - val_loss: 1731514.1250 - val_acc: 0.9937\n",
            "Epoch 22/500\n",
            "48/48 [==============================] - 0s 4ms/step - loss: 2158989.7500 - acc: 0.9922 - val_loss: 1730961.3750 - val_acc: 0.9937\n",
            "Epoch 23/500\n",
            "48/48 [==============================] - 0s 4ms/step - loss: 2158300.7500 - acc: 0.9922 - val_loss: 1730408.6250 - val_acc: 0.9937\n",
            "Epoch 24/500\n",
            "48/48 [==============================] - 0s 4ms/step - loss: 2157611.0000 - acc: 0.9922 - val_loss: 1729855.8750 - val_acc: 0.9937\n",
            "Epoch 25/500\n",
            "48/48 [==============================] - 0s 4ms/step - loss: 2156922.0000 - acc: 0.9922 - val_loss: 1729303.1250 - val_acc: 0.9937\n",
            "Epoch 26/500\n",
            "48/48 [==============================] - 0s 5ms/step - loss: 2156232.5000 - acc: 0.9922 - val_loss: 1728750.3750 - val_acc: 0.9937\n",
            "Epoch 27/500\n",
            "48/48 [==============================] - 0s 4ms/step - loss: 2155543.0000 - acc: 0.9922 - val_loss: 1728197.6250 - val_acc: 0.9937\n",
            "Epoch 28/500\n",
            "48/48 [==============================] - 0s 4ms/step - loss: 2154853.5000 - acc: 0.9922 - val_loss: 1727644.6250 - val_acc: 0.9937\n",
            "Epoch 29/500\n",
            "48/48 [==============================] - 0s 4ms/step - loss: 2154164.0000 - acc: 0.9922 - val_loss: 1727091.8750 - val_acc: 0.9937\n",
            "Epoch 30/500\n",
            "48/48 [==============================] - 0s 5ms/step - loss: 2153474.7500 - acc: 0.9922 - val_loss: 1726538.8750 - val_acc: 0.9937\n",
            "Epoch 31/500\n",
            "48/48 [==============================] - 0s 4ms/step - loss: 2152785.5000 - acc: 0.9922 - val_loss: 1725985.8750 - val_acc: 0.9937\n",
            "Epoch 32/500\n",
            "48/48 [==============================] - 0s 4ms/step - loss: 2152096.0000 - acc: 0.9922 - val_loss: 1725433.1250 - val_acc: 0.9937\n",
            "Epoch 33/500\n",
            "48/48 [==============================] - 0s 4ms/step - loss: 2151406.0000 - acc: 0.9922 - val_loss: 1724880.2500 - val_acc: 0.9937\n",
            "Epoch 34/500\n",
            "48/48 [==============================] - 0s 4ms/step - loss: 2150716.5000 - acc: 0.9922 - val_loss: 1724327.1250 - val_acc: 0.9937\n",
            "Epoch 35/500\n",
            "48/48 [==============================] - 0s 5ms/step - loss: 2150027.2500 - acc: 0.9922 - val_loss: 1723774.1250 - val_acc: 0.9937\n",
            "Epoch 36/500\n",
            "48/48 [==============================] - 0s 5ms/step - loss: 2149337.2500 - acc: 0.9922 - val_loss: 1723221.2500 - val_acc: 0.9937\n",
            "Epoch 37/500\n",
            "48/48 [==============================] - 0s 4ms/step - loss: 2148647.2500 - acc: 0.9922 - val_loss: 1722668.3750 - val_acc: 0.9937\n",
            "Epoch 38/500\n",
            "48/48 [==============================] - 0s 5ms/step - loss: 2147958.0000 - acc: 0.9922 - val_loss: 1722115.1250 - val_acc: 0.9937\n",
            "Epoch 39/500\n",
            "48/48 [==============================] - 0s 4ms/step - loss: 2147268.5000 - acc: 0.9922 - val_loss: 1721562.3750 - val_acc: 0.9937\n",
            "Epoch 40/500\n",
            "48/48 [==============================] - 0s 5ms/step - loss: 2146578.7500 - acc: 0.9922 - val_loss: 1721009.2500 - val_acc: 0.9937\n",
            "Epoch 41/500\n",
            "48/48 [==============================] - 0s 4ms/step - loss: 2145889.0000 - acc: 0.9922 - val_loss: 1720456.1250 - val_acc: 0.9937\n",
            "Epoch 42/500\n",
            "48/48 [==============================] - 0s 5ms/step - loss: 2145199.0000 - acc: 0.9922 - val_loss: 1719903.1250 - val_acc: 0.9937\n",
            "Epoch 43/500\n",
            "48/48 [==============================] - 0s 4ms/step - loss: 2144509.5000 - acc: 0.9922 - val_loss: 1719349.7500 - val_acc: 0.9937\n",
            "Epoch 44/500\n",
            "48/48 [==============================] - 0s 5ms/step - loss: 2143819.7500 - acc: 0.9922 - val_loss: 1718796.7500 - val_acc: 0.9937\n",
            "Epoch 45/500\n",
            "48/48 [==============================] - 0s 5ms/step - loss: 2143129.7500 - acc: 0.9922 - val_loss: 1718243.6250 - val_acc: 0.9937\n",
            "Epoch 46/500\n",
            "48/48 [==============================] - 0s 5ms/step - loss: 2142440.0000 - acc: 0.9922 - val_loss: 1717690.5000 - val_acc: 0.9937\n",
            "Epoch 47/500\n",
            "48/48 [==============================] - 0s 4ms/step - loss: 2141750.5000 - acc: 0.9922 - val_loss: 1717137.3750 - val_acc: 0.9937\n",
            "Epoch 48/500\n",
            "48/48 [==============================] - 0s 4ms/step - loss: 2141060.7500 - acc: 0.9922 - val_loss: 1716584.5000 - val_acc: 0.9937\n",
            "Epoch 49/500\n",
            "48/48 [==============================] - 0s 4ms/step - loss: 2140370.5000 - acc: 0.9922 - val_loss: 1716031.2500 - val_acc: 0.9937\n",
            "Epoch 50/500\n",
            "48/48 [==============================] - 0s 4ms/step - loss: 2139681.0000 - acc: 0.9922 - val_loss: 1715478.0000 - val_acc: 0.9937\n",
            "Epoch 51/500\n",
            "48/48 [==============================] - 0s 5ms/step - loss: 2138991.5000 - acc: 0.9922 - val_loss: 1714925.0000 - val_acc: 0.9937\n",
            "Epoch 52/500\n",
            "48/48 [==============================] - 0s 5ms/step - loss: 2138301.2500 - acc: 0.9922 - val_loss: 1714371.8750 - val_acc: 0.9937\n",
            "Epoch 53/500\n",
            "48/48 [==============================] - 0s 5ms/step - loss: 2137611.5000 - acc: 0.9922 - val_loss: 1713818.7500 - val_acc: 0.9937\n",
            "Epoch 54/500\n",
            "48/48 [==============================] - 0s 4ms/step - loss: 2136921.7500 - acc: 0.9922 - val_loss: 1713265.6250 - val_acc: 0.9937\n",
            "Epoch 55/500\n",
            "48/48 [==============================] - 0s 5ms/step - loss: 2136232.7500 - acc: 0.9922 - val_loss: 1712712.5000 - val_acc: 0.9937\n",
            "Epoch 56/500\n",
            "48/48 [==============================] - 0s 4ms/step - loss: 2135542.2500 - acc: 0.9922 - val_loss: 1712159.5000 - val_acc: 0.9937\n",
            "Epoch 57/500\n",
            "48/48 [==============================] - 0s 4ms/step - loss: 2134852.5000 - acc: 0.9922 - val_loss: 1711606.2500 - val_acc: 0.9937\n",
            "Epoch 58/500\n",
            "48/48 [==============================] - 0s 4ms/step - loss: 2134163.2500 - acc: 0.9922 - val_loss: 1711053.2500 - val_acc: 0.9937\n",
            "Epoch 59/500\n",
            "48/48 [==============================] - 0s 5ms/step - loss: 2133473.0000 - acc: 0.9922 - val_loss: 1710500.0000 - val_acc: 0.9937\n",
            "Epoch 60/500\n",
            "48/48 [==============================] - 0s 4ms/step - loss: 2132783.7500 - acc: 0.9922 - val_loss: 1709947.0000 - val_acc: 0.9937\n",
            "Epoch 61/500\n",
            "48/48 [==============================] - 0s 4ms/step - loss: 2132093.7500 - acc: 0.9922 - val_loss: 1709393.7500 - val_acc: 0.9937\n",
            "Epoch 62/500\n",
            "48/48 [==============================] - 0s 5ms/step - loss: 2131404.0000 - acc: 0.9922 - val_loss: 1708840.6250 - val_acc: 0.9937\n",
            "Epoch 63/500\n",
            "48/48 [==============================] - 0s 4ms/step - loss: 2130714.2500 - acc: 0.9922 - val_loss: 1708287.8750 - val_acc: 0.9937\n",
            "Epoch 64/500\n",
            "48/48 [==============================] - 0s 4ms/step - loss: 2130024.5000 - acc: 0.9922 - val_loss: 1707734.6250 - val_acc: 0.9937\n",
            "Epoch 65/500\n",
            "48/48 [==============================] - 0s 4ms/step - loss: 2129334.5000 - acc: 0.9922 - val_loss: 1707181.6250 - val_acc: 0.9937\n",
            "Epoch 66/500\n",
            "48/48 [==============================] - 0s 4ms/step - loss: 2128644.2500 - acc: 0.9922 - val_loss: 1706628.7500 - val_acc: 0.9937\n",
            "Epoch 67/500\n",
            "48/48 [==============================] - 0s 4ms/step - loss: 2127955.5000 - acc: 0.9922 - val_loss: 1706075.6250 - val_acc: 0.9937\n",
            "Epoch 68/500\n",
            "48/48 [==============================] - 0s 4ms/step - loss: 2127265.7500 - acc: 0.9922 - val_loss: 1705522.6250 - val_acc: 0.9937\n",
            "Epoch 69/500\n",
            "48/48 [==============================] - 0s 4ms/step - loss: 2126575.2500 - acc: 0.9922 - val_loss: 1704969.2500 - val_acc: 0.9937\n",
            "Epoch 70/500\n",
            "48/48 [==============================] - 0s 4ms/step - loss: 2125886.2500 - acc: 0.9922 - val_loss: 1704416.3750 - val_acc: 0.9937\n",
            "Epoch 71/500\n",
            "48/48 [==============================] - 0s 5ms/step - loss: 2125196.2500 - acc: 0.9922 - val_loss: 1703863.2500 - val_acc: 0.9937\n",
            "Epoch 72/500\n",
            "48/48 [==============================] - 0s 5ms/step - loss: 2124506.7500 - acc: 0.9922 - val_loss: 1703310.2500 - val_acc: 0.9937\n",
            "Epoch 73/500\n",
            "48/48 [==============================] - 0s 5ms/step - loss: 2123817.2500 - acc: 0.9922 - val_loss: 1702757.0000 - val_acc: 0.9937\n",
            "Epoch 74/500\n",
            "48/48 [==============================] - 0s 5ms/step - loss: 2123127.2500 - acc: 0.9922 - val_loss: 1702204.1250 - val_acc: 0.9937\n",
            "Epoch 75/500\n",
            "48/48 [==============================] - 0s 4ms/step - loss: 2122438.2500 - acc: 0.9922 - val_loss: 1701651.2500 - val_acc: 0.9937\n",
            "Epoch 76/500\n",
            "48/48 [==============================] - 0s 5ms/step - loss: 2121747.5000 - acc: 0.9922 - val_loss: 1701098.1250 - val_acc: 0.9937\n",
            "Epoch 77/500\n",
            "48/48 [==============================] - 0s 4ms/step - loss: 2121058.5000 - acc: 0.9922 - val_loss: 1700545.2500 - val_acc: 0.9937\n",
            "Epoch 78/500\n",
            "48/48 [==============================] - 0s 4ms/step - loss: 2120369.0000 - acc: 0.9922 - val_loss: 1699992.3750 - val_acc: 0.9937\n",
            "Epoch 79/500\n",
            "48/48 [==============================] - 0s 5ms/step - loss: 2119679.0000 - acc: 0.9922 - val_loss: 1699439.2500 - val_acc: 0.9937\n",
            "Epoch 80/500\n",
            "48/48 [==============================] - 0s 4ms/step - loss: 2118989.2500 - acc: 0.9922 - val_loss: 1698886.1250 - val_acc: 0.9937\n",
            "Epoch 81/500\n",
            "48/48 [==============================] - 0s 4ms/step - loss: 2118300.0000 - acc: 0.9922 - val_loss: 1698333.2500 - val_acc: 0.9937\n",
            "Epoch 82/500\n",
            "48/48 [==============================] - 0s 4ms/step - loss: 2117610.2500 - acc: 0.9922 - val_loss: 1697780.3750 - val_acc: 0.9937\n",
            "Epoch 83/500\n",
            "48/48 [==============================] - 0s 4ms/step - loss: 2116920.7500 - acc: 0.9922 - val_loss: 1697227.2500 - val_acc: 0.9937\n",
            "Epoch 84/500\n",
            "48/48 [==============================] - 0s 4ms/step - loss: 2116231.0000 - acc: 0.9922 - val_loss: 1696674.3750 - val_acc: 0.9937\n",
            "Epoch 85/500\n",
            "48/48 [==============================] - 0s 4ms/step - loss: 2115541.5000 - acc: 0.9922 - val_loss: 1696121.1250 - val_acc: 0.9937\n",
            "Epoch 86/500\n",
            "48/48 [==============================] - 0s 4ms/step - loss: 2114852.0000 - acc: 0.9922 - val_loss: 1695568.1250 - val_acc: 0.9937\n",
            "Epoch 87/500\n",
            "48/48 [==============================] - 0s 4ms/step - loss: 2114162.2500 - acc: 0.9922 - val_loss: 1695015.1250 - val_acc: 0.9937\n",
            "Epoch 88/500\n",
            "48/48 [==============================] - 0s 4ms/step - loss: 2113472.7500 - acc: 0.9922 - val_loss: 1694462.3750 - val_acc: 0.9937\n",
            "Epoch 89/500\n",
            "48/48 [==============================] - 0s 4ms/step - loss: 2112783.5000 - acc: 0.9922 - val_loss: 1693909.3750 - val_acc: 0.9937\n",
            "Epoch 90/500\n",
            "48/48 [==============================] - 0s 5ms/step - loss: 2112093.7500 - acc: 0.9922 - val_loss: 1693356.5000 - val_acc: 0.9937\n",
            "Epoch 91/500\n",
            "48/48 [==============================] - 0s 4ms/step - loss: 2111404.0000 - acc: 0.9922 - val_loss: 1692803.5000 - val_acc: 0.9937\n",
            "Epoch 92/500\n",
            "48/48 [==============================] - 0s 4ms/step - loss: 2110714.5000 - acc: 0.9922 - val_loss: 1692250.6250 - val_acc: 0.9937\n",
            "Epoch 93/500\n",
            "48/48 [==============================] - 0s 4ms/step - loss: 2110024.7500 - acc: 0.9922 - val_loss: 1691697.5000 - val_acc: 0.9937\n",
            "Epoch 94/500\n",
            "48/48 [==============================] - 0s 4ms/step - loss: 2109335.2500 - acc: 0.9922 - val_loss: 1691144.8750 - val_acc: 0.9937\n",
            "Epoch 95/500\n",
            "48/48 [==============================] - 0s 4ms/step - loss: 2108645.5000 - acc: 0.9922 - val_loss: 1690592.0000 - val_acc: 0.9937\n",
            "Epoch 96/500\n",
            "48/48 [==============================] - 0s 4ms/step - loss: 2107956.5000 - acc: 0.9922 - val_loss: 1690039.1250 - val_acc: 0.9937\n",
            "Epoch 97/500\n",
            "48/48 [==============================] - 0s 5ms/step - loss: 2107266.7500 - acc: 0.9922 - val_loss: 1689486.1250 - val_acc: 0.9937\n",
            "Epoch 98/500\n",
            "48/48 [==============================] - 0s 4ms/step - loss: 2106577.0000 - acc: 0.9922 - val_loss: 1688933.2500 - val_acc: 0.9937\n",
            "Epoch 99/500\n",
            "48/48 [==============================] - 0s 4ms/step - loss: 2105887.7500 - acc: 0.9922 - val_loss: 1688380.3750 - val_acc: 0.9937\n",
            "Epoch 100/500\n",
            "48/48 [==============================] - 0s 4ms/step - loss: 2105198.5000 - acc: 0.9922 - val_loss: 1687827.5000 - val_acc: 0.9937\n",
            "Epoch 101/500\n",
            "48/48 [==============================] - 0s 4ms/step - loss: 2104508.5000 - acc: 0.9922 - val_loss: 1687274.7500 - val_acc: 0.9937\n",
            "Epoch 102/500\n",
            "48/48 [==============================] - 0s 4ms/step - loss: 2103819.5000 - acc: 0.9922 - val_loss: 1686721.6250 - val_acc: 0.9937\n",
            "Epoch 103/500\n",
            "48/48 [==============================] - 0s 4ms/step - loss: 2103129.7500 - acc: 0.9922 - val_loss: 1686168.7500 - val_acc: 0.9937\n",
            "Epoch 104/500\n",
            "48/48 [==============================] - 0s 5ms/step - loss: 2102440.2500 - acc: 0.9922 - val_loss: 1685615.8750 - val_acc: 0.9937\n",
            "Epoch 105/500\n",
            "48/48 [==============================] - 0s 4ms/step - loss: 2101751.0000 - acc: 0.9922 - val_loss: 1685063.1250 - val_acc: 0.9937\n",
            "Epoch 106/500\n",
            "48/48 [==============================] - 0s 5ms/step - loss: 2101061.2500 - acc: 0.9922 - val_loss: 1684510.1250 - val_acc: 0.9937\n",
            "Epoch 107/500\n",
            "48/48 [==============================] - 0s 4ms/step - loss: 2100371.7500 - acc: 0.9922 - val_loss: 1683957.3750 - val_acc: 0.9937\n",
            "Epoch 108/500\n",
            "48/48 [==============================] - 0s 4ms/step - loss: 2099682.5000 - acc: 0.9922 - val_loss: 1683404.5000 - val_acc: 0.9937\n",
            "Epoch 109/500\n",
            "48/48 [==============================] - 0s 5ms/step - loss: 2098993.0000 - acc: 0.9922 - val_loss: 1682851.8750 - val_acc: 0.9937\n",
            "Epoch 110/500\n",
            "48/48 [==============================] - 0s 5ms/step - loss: 2098303.7500 - acc: 0.9922 - val_loss: 1682299.0000 - val_acc: 0.9937\n",
            "Epoch 111/500\n",
            "48/48 [==============================] - 0s 4ms/step - loss: 2097614.2500 - acc: 0.9922 - val_loss: 1681746.2500 - val_acc: 0.9937\n",
            "Epoch 112/500\n",
            "48/48 [==============================] - 0s 4ms/step - loss: 2096924.3750 - acc: 0.9922 - val_loss: 1681193.5000 - val_acc: 0.9937\n",
            "Epoch 113/500\n",
            "48/48 [==============================] - 0s 4ms/step - loss: 2096235.5000 - acc: 0.9922 - val_loss: 1680640.3750 - val_acc: 0.9937\n",
            "Epoch 114/500\n",
            "48/48 [==============================] - 0s 5ms/step - loss: 2095545.6250 - acc: 0.9922 - val_loss: 1680087.7500 - val_acc: 0.9937\n",
            "Epoch 115/500\n",
            "48/48 [==============================] - 0s 5ms/step - loss: 2094856.7500 - acc: 0.9922 - val_loss: 1679534.8750 - val_acc: 0.9937\n",
            "Epoch 116/500\n",
            "48/48 [==============================] - 0s 4ms/step - loss: 2094167.3750 - acc: 0.9922 - val_loss: 1678982.0000 - val_acc: 0.9937\n",
            "Epoch 117/500\n",
            "48/48 [==============================] - 0s 4ms/step - loss: 2093477.8750 - acc: 0.9922 - val_loss: 1678429.1250 - val_acc: 0.9937\n",
            "Epoch 118/500\n",
            "48/48 [==============================] - 0s 5ms/step - loss: 2092788.3750 - acc: 0.9922 - val_loss: 1677876.3750 - val_acc: 0.9937\n",
            "Epoch 119/500\n",
            "48/48 [==============================] - 0s 4ms/step - loss: 2092099.2500 - acc: 0.9922 - val_loss: 1677323.6250 - val_acc: 0.9937\n",
            "Epoch 120/500\n",
            "48/48 [==============================] - 0s 4ms/step - loss: 2091409.3750 - acc: 0.9922 - val_loss: 1676770.8750 - val_acc: 0.9937\n",
            "Epoch 121/500\n",
            "48/48 [==============================] - 0s 5ms/step - loss: 2090720.6250 - acc: 0.9922 - val_loss: 1676218.0000 - val_acc: 0.9937\n",
            "Epoch 122/500\n",
            "48/48 [==============================] - 0s 5ms/step - loss: 2090031.1250 - acc: 0.9922 - val_loss: 1675665.3750 - val_acc: 0.9937\n",
            "Epoch 123/500\n",
            "48/48 [==============================] - 0s 4ms/step - loss: 2089341.7500 - acc: 0.9922 - val_loss: 1675112.6250 - val_acc: 0.9937\n",
            "Epoch 124/500\n",
            "48/48 [==============================] - 0s 4ms/step - loss: 2088652.3750 - acc: 0.9922 - val_loss: 1674559.7500 - val_acc: 0.9937\n",
            "Epoch 125/500\n",
            "48/48 [==============================] - 0s 5ms/step - loss: 2087962.7500 - acc: 0.9922 - val_loss: 1674007.3750 - val_acc: 0.9937\n",
            "Epoch 126/500\n",
            "48/48 [==============================] - 0s 4ms/step - loss: 2087273.6250 - acc: 0.9922 - val_loss: 1673454.2500 - val_acc: 0.9937\n",
            "Epoch 127/500\n",
            "48/48 [==============================] - 0s 4ms/step - loss: 2086584.6250 - acc: 0.9922 - val_loss: 1672901.6250 - val_acc: 0.9937\n",
            "Epoch 128/500\n",
            "48/48 [==============================] - 0s 4ms/step - loss: 2085895.0000 - acc: 0.9922 - val_loss: 1672348.8750 - val_acc: 0.9937\n",
            "Epoch 129/500\n",
            "48/48 [==============================] - 0s 4ms/step - loss: 2085205.8750 - acc: 0.9922 - val_loss: 1671796.2500 - val_acc: 0.9937\n",
            "Epoch 130/500\n",
            "48/48 [==============================] - 0s 5ms/step - loss: 2084516.3750 - acc: 0.9922 - val_loss: 1671243.5000 - val_acc: 0.9937\n",
            "Epoch 131/500\n",
            "48/48 [==============================] - 0s 5ms/step - loss: 2083827.0000 - acc: 0.9922 - val_loss: 1670690.5000 - val_acc: 0.9937\n",
            "Epoch 132/500\n",
            "48/48 [==============================] - 0s 4ms/step - loss: 2083138.1250 - acc: 0.9922 - val_loss: 1670137.8750 - val_acc: 0.9937\n",
            "Epoch 133/500\n",
            "48/48 [==============================] - 0s 4ms/step - loss: 2082448.6250 - acc: 0.9922 - val_loss: 1669585.2500 - val_acc: 0.9937\n",
            "Epoch 134/500\n",
            "48/48 [==============================] - 0s 5ms/step - loss: 2081759.2500 - acc: 0.9922 - val_loss: 1669032.6250 - val_acc: 0.9937\n",
            "Epoch 135/500\n",
            "48/48 [==============================] - 0s 5ms/step - loss: 2081070.2500 - acc: 0.9922 - val_loss: 1668479.8750 - val_acc: 0.9937\n",
            "Epoch 136/500\n",
            "48/48 [==============================] - 0s 4ms/step - loss: 2080380.6250 - acc: 0.9922 - val_loss: 1667927.2500 - val_acc: 0.9937\n",
            "Epoch 137/500\n",
            "48/48 [==============================] - 0s 4ms/step - loss: 2079691.7500 - acc: 0.9922 - val_loss: 1667374.5000 - val_acc: 0.9937\n",
            "Epoch 138/500\n",
            "48/48 [==============================] - 0s 5ms/step - loss: 2079002.5000 - acc: 0.9922 - val_loss: 1666821.8750 - val_acc: 0.9937\n",
            "Epoch 139/500\n",
            "48/48 [==============================] - 0s 4ms/step - loss: 2078313.1250 - acc: 0.9922 - val_loss: 1666269.1250 - val_acc: 0.9937\n",
            "Epoch 140/500\n",
            "48/48 [==============================] - 0s 4ms/step - loss: 2077623.8750 - acc: 0.9922 - val_loss: 1665716.5000 - val_acc: 0.9937\n",
            "Epoch 141/500\n",
            "48/48 [==============================] - 0s 4ms/step - loss: 2076934.2500 - acc: 0.9922 - val_loss: 1665163.7500 - val_acc: 0.9937\n",
            "Epoch 142/500\n",
            "48/48 [==============================] - 0s 4ms/step - loss: 2076245.6250 - acc: 0.9922 - val_loss: 1664611.2500 - val_acc: 0.9937\n",
            "Epoch 143/500\n",
            "48/48 [==============================] - 0s 4ms/step - loss: 2075556.0000 - acc: 0.9922 - val_loss: 1664058.6250 - val_acc: 0.9937\n",
            "Epoch 144/500\n",
            "48/48 [==============================] - 0s 4ms/step - loss: 2074867.0000 - acc: 0.9922 - val_loss: 1663505.7500 - val_acc: 0.9937\n",
            "Epoch 145/500\n",
            "48/48 [==============================] - 0s 5ms/step - loss: 2074178.0000 - acc: 0.9922 - val_loss: 1662953.3750 - val_acc: 0.9937\n",
            "Epoch 146/500\n",
            "48/48 [==============================] - 0s 4ms/step - loss: 2073488.6250 - acc: 0.9922 - val_loss: 1662400.5000 - val_acc: 0.9937\n",
            "Epoch 147/500\n",
            "48/48 [==============================] - 0s 5ms/step - loss: 2072799.6250 - acc: 0.9922 - val_loss: 1661848.0000 - val_acc: 0.9937\n",
            "Epoch 148/500\n",
            "48/48 [==============================] - 0s 4ms/step - loss: 2072110.0000 - acc: 0.9922 - val_loss: 1661295.2500 - val_acc: 0.9937\n",
            "Epoch 149/500\n",
            "48/48 [==============================] - 0s 5ms/step - loss: 2071421.3750 - acc: 0.9922 - val_loss: 1660742.6250 - val_acc: 0.9937\n",
            "Epoch 150/500\n",
            "48/48 [==============================] - 0s 5ms/step - loss: 2070732.1250 - acc: 0.9922 - val_loss: 1660190.0000 - val_acc: 0.9937\n",
            "Epoch 151/500\n",
            "48/48 [==============================] - 0s 5ms/step - loss: 2070042.8750 - acc: 0.9922 - val_loss: 1659637.6250 - val_acc: 0.9937\n",
            "Epoch 152/500\n",
            "48/48 [==============================] - 0s 4ms/step - loss: 2069353.5000 - acc: 0.9922 - val_loss: 1659084.8750 - val_acc: 0.9937\n",
            "Epoch 153/500\n",
            "48/48 [==============================] - 0s 4ms/step - loss: 2068664.6250 - acc: 0.9922 - val_loss: 1658532.3750 - val_acc: 0.9937\n",
            "Epoch 154/500\n",
            "48/48 [==============================] - 0s 4ms/step - loss: 2067975.2500 - acc: 0.9922 - val_loss: 1657979.8750 - val_acc: 0.9937\n",
            "Epoch 155/500\n",
            "48/48 [==============================] - 0s 5ms/step - loss: 2067286.2500 - acc: 0.9922 - val_loss: 1657427.2500 - val_acc: 0.9937\n",
            "Epoch 156/500\n",
            "48/48 [==============================] - 0s 5ms/step - loss: 2066597.1250 - acc: 0.9922 - val_loss: 1656874.7500 - val_acc: 0.9937\n",
            "Epoch 157/500\n",
            "48/48 [==============================] - 0s 4ms/step - loss: 2065908.3750 - acc: 0.9922 - val_loss: 1656322.0000 - val_acc: 0.9937\n",
            "Epoch 158/500\n",
            "48/48 [==============================] - 0s 4ms/step - loss: 2065219.0000 - acc: 0.9922 - val_loss: 1655769.3750 - val_acc: 0.9937\n",
            "Epoch 159/500\n",
            "48/48 [==============================] - 0s 4ms/step - loss: 2064529.6250 - acc: 0.9922 - val_loss: 1655217.0000 - val_acc: 0.9937\n",
            "Epoch 160/500\n",
            "48/48 [==============================] - 0s 4ms/step - loss: 2063840.6250 - acc: 0.9922 - val_loss: 1654664.3750 - val_acc: 0.9937\n",
            "Epoch 161/500\n",
            "48/48 [==============================] - 0s 4ms/step - loss: 2063151.8750 - acc: 0.9922 - val_loss: 1654111.7500 - val_acc: 0.9937\n",
            "Epoch 162/500\n",
            "48/48 [==============================] - 0s 5ms/step - loss: 2062462.2500 - acc: 0.9922 - val_loss: 1653559.2500 - val_acc: 0.9937\n",
            "Epoch 163/500\n",
            "48/48 [==============================] - 0s 5ms/step - loss: 2061773.7500 - acc: 0.9922 - val_loss: 1653006.7500 - val_acc: 0.9937\n",
            "Epoch 164/500\n",
            "48/48 [==============================] - 0s 4ms/step - loss: 2061085.0000 - acc: 0.9922 - val_loss: 1652454.0000 - val_acc: 0.9937\n",
            "Epoch 165/500\n",
            "48/48 [==============================] - 0s 5ms/step - loss: 2060395.3750 - acc: 0.9922 - val_loss: 1651901.6250 - val_acc: 0.9937\n",
            "Epoch 166/500\n",
            "48/48 [==============================] - 0s 4ms/step - loss: 2059706.2500 - acc: 0.9922 - val_loss: 1651349.3750 - val_acc: 0.9937\n",
            "Epoch 167/500\n",
            "48/48 [==============================] - 0s 4ms/step - loss: 2059017.7500 - acc: 0.9922 - val_loss: 1650796.8750 - val_acc: 0.9937\n",
            "Epoch 168/500\n",
            "48/48 [==============================] - 0s 4ms/step - loss: 2058328.7500 - acc: 0.9922 - val_loss: 1650244.2500 - val_acc: 0.9937\n",
            "Epoch 169/500\n",
            "48/48 [==============================] - 0s 5ms/step - loss: 2057639.0000 - acc: 0.9922 - val_loss: 1649691.7500 - val_acc: 0.9937\n",
            "Epoch 170/500\n",
            "48/48 [==============================] - 0s 5ms/step - loss: 2056950.5000 - acc: 0.9922 - val_loss: 1649139.2500 - val_acc: 0.9937\n",
            "Epoch 171/500\n",
            "48/48 [==============================] - 0s 5ms/step - loss: 2056261.3750 - acc: 0.9922 - val_loss: 1648586.7500 - val_acc: 0.9937\n",
            "Epoch 172/500\n",
            "48/48 [==============================] - 0s 4ms/step - loss: 2055572.2500 - acc: 0.9922 - val_loss: 1648034.3750 - val_acc: 0.9937\n",
            "Epoch 173/500\n",
            "48/48 [==============================] - 0s 5ms/step - loss: 2054883.5000 - acc: 0.9922 - val_loss: 1647481.8750 - val_acc: 0.9937\n",
            "Epoch 174/500\n",
            "48/48 [==============================] - 0s 4ms/step - loss: 2054194.2500 - acc: 0.9922 - val_loss: 1646929.2500 - val_acc: 0.9937\n",
            "Epoch 175/500\n",
            "48/48 [==============================] - 0s 4ms/step - loss: 2053505.6250 - acc: 0.9922 - val_loss: 1646377.0000 - val_acc: 0.9937\n",
            "Epoch 176/500\n",
            "48/48 [==============================] - 0s 4ms/step - loss: 2052816.1250 - acc: 0.9922 - val_loss: 1645824.2500 - val_acc: 0.9937\n",
            "Epoch 177/500\n",
            "48/48 [==============================] - 0s 4ms/step - loss: 2052127.5000 - acc: 0.9922 - val_loss: 1645272.0000 - val_acc: 0.9937\n",
            "Epoch 178/500\n",
            "48/48 [==============================] - 0s 5ms/step - loss: 2051438.7500 - acc: 0.9922 - val_loss: 1644719.6250 - val_acc: 0.9937\n",
            "Epoch 179/500\n",
            "48/48 [==============================] - 0s 4ms/step - loss: 2050749.6250 - acc: 0.9922 - val_loss: 1644167.1250 - val_acc: 0.9937\n",
            "Epoch 180/500\n",
            "48/48 [==============================] - 0s 4ms/step - loss: 2050060.7500 - acc: 0.9922 - val_loss: 1643614.6250 - val_acc: 0.9937\n",
            "Epoch 181/500\n",
            "48/48 [==============================] - 0s 5ms/step - loss: 2049372.0000 - acc: 0.9922 - val_loss: 1643062.2500 - val_acc: 0.9937\n",
            "Epoch 182/500\n",
            "48/48 [==============================] - 0s 5ms/step - loss: 2048682.7500 - acc: 0.9922 - val_loss: 1642509.7500 - val_acc: 0.9937\n",
            "Epoch 183/500\n",
            "48/48 [==============================] - 0s 4ms/step - loss: 2047993.7500 - acc: 0.9922 - val_loss: 1641957.3750 - val_acc: 0.9937\n",
            "Epoch 184/500\n",
            "48/48 [==============================] - 0s 5ms/step - loss: 2047305.1250 - acc: 0.9922 - val_loss: 1641404.8750 - val_acc: 0.9937\n",
            "Epoch 185/500\n",
            "48/48 [==============================] - 0s 4ms/step - loss: 2046616.2500 - acc: 0.9922 - val_loss: 1640852.3750 - val_acc: 0.9937\n",
            "Epoch 186/500\n",
            "48/48 [==============================] - 0s 5ms/step - loss: 2045927.0000 - acc: 0.9922 - val_loss: 1640300.2500 - val_acc: 0.9937\n",
            "Epoch 187/500\n",
            "48/48 [==============================] - 0s 4ms/step - loss: 2045238.2500 - acc: 0.9922 - val_loss: 1639747.7500 - val_acc: 0.9937\n",
            "Epoch 188/500\n",
            "48/48 [==============================] - 0s 4ms/step - loss: 2044549.2500 - acc: 0.9922 - val_loss: 1639195.2500 - val_acc: 0.9937\n",
            "Epoch 189/500\n",
            "48/48 [==============================] - 0s 4ms/step - loss: 2043860.6250 - acc: 0.9922 - val_loss: 1638643.1250 - val_acc: 0.9937\n",
            "Epoch 190/500\n",
            "48/48 [==============================] - 0s 4ms/step - loss: 2043171.8750 - acc: 0.9922 - val_loss: 1638090.6250 - val_acc: 0.9937\n",
            "Epoch 191/500\n",
            "48/48 [==============================] - 0s 4ms/step - loss: 2042483.2500 - acc: 0.9922 - val_loss: 1637538.2500 - val_acc: 0.9937\n",
            "Epoch 192/500\n",
            "48/48 [==============================] - 0s 4ms/step - loss: 2041793.8750 - acc: 0.9922 - val_loss: 1636985.8750 - val_acc: 0.9937\n",
            "Epoch 193/500\n",
            "48/48 [==============================] - 0s 4ms/step - loss: 2041104.6250 - acc: 0.9922 - val_loss: 1636433.5000 - val_acc: 0.9937\n",
            "Epoch 194/500\n",
            "48/48 [==============================] - 0s 4ms/step - loss: 2040416.3750 - acc: 0.9922 - val_loss: 1635881.1250 - val_acc: 0.9937\n",
            "Epoch 195/500\n",
            "48/48 [==============================] - 0s 4ms/step - loss: 2039727.8750 - acc: 0.9922 - val_loss: 1635328.8750 - val_acc: 0.9937\n",
            "Epoch 196/500\n",
            "48/48 [==============================] - 0s 5ms/step - loss: 2039038.5000 - acc: 0.9922 - val_loss: 1634776.5000 - val_acc: 0.9937\n",
            "Epoch 197/500\n",
            "48/48 [==============================] - 0s 4ms/step - loss: 2038350.0000 - acc: 0.9922 - val_loss: 1634224.1250 - val_acc: 0.9937\n",
            "Epoch 198/500\n",
            "48/48 [==============================] - 0s 5ms/step - loss: 2037661.2500 - acc: 0.9922 - val_loss: 1633671.8750 - val_acc: 0.9937\n",
            "Epoch 199/500\n",
            "48/48 [==============================] - 0s 5ms/step - loss: 2036972.1250 - acc: 0.9922 - val_loss: 1633119.3750 - val_acc: 0.9937\n",
            "Epoch 200/500\n",
            "48/48 [==============================] - 0s 4ms/step - loss: 2036283.2500 - acc: 0.9922 - val_loss: 1632567.0000 - val_acc: 0.9937\n",
            "Epoch 201/500\n",
            "48/48 [==============================] - 0s 5ms/step - loss: 2035594.6250 - acc: 0.9922 - val_loss: 1632015.0000 - val_acc: 0.9937\n",
            "Epoch 202/500\n",
            "48/48 [==============================] - 0s 4ms/step - loss: 2034905.8750 - acc: 0.9922 - val_loss: 1631462.5000 - val_acc: 0.9937\n",
            "Epoch 203/500\n",
            "48/48 [==============================] - 0s 5ms/step - loss: 2034217.0000 - acc: 0.9922 - val_loss: 1630910.3750 - val_acc: 0.9937\n",
            "Epoch 204/500\n",
            "48/48 [==============================] - 0s 4ms/step - loss: 2033528.7500 - acc: 0.9922 - val_loss: 1630358.0000 - val_acc: 0.9937\n",
            "Epoch 205/500\n",
            "48/48 [==============================] - 0s 5ms/step - loss: 2032839.8750 - acc: 0.9922 - val_loss: 1629805.5000 - val_acc: 0.9937\n",
            "Epoch 206/500\n",
            "48/48 [==============================] - 0s 5ms/step - loss: 2032150.6250 - acc: 0.9922 - val_loss: 1629253.3750 - val_acc: 0.9937\n",
            "Epoch 207/500\n",
            "48/48 [==============================] - 0s 4ms/step - loss: 2031461.8750 - acc: 0.9922 - val_loss: 1628701.0000 - val_acc: 0.9937\n",
            "Epoch 208/500\n",
            "48/48 [==============================] - 0s 4ms/step - loss: 2030773.0000 - acc: 0.9922 - val_loss: 1628148.6250 - val_acc: 0.9937\n",
            "Epoch 209/500\n",
            "48/48 [==============================] - 0s 4ms/step - loss: 2030084.7500 - acc: 0.9922 - val_loss: 1627596.5000 - val_acc: 0.9937\n",
            "Epoch 210/500\n",
            "48/48 [==============================] - 0s 4ms/step - loss: 2029396.0000 - acc: 0.9922 - val_loss: 1627044.1250 - val_acc: 0.9937\n",
            "Epoch 211/500\n",
            "48/48 [==============================] - 0s 4ms/step - loss: 2028707.3750 - acc: 0.9922 - val_loss: 1626492.0000 - val_acc: 0.9937\n",
            "Epoch 212/500\n",
            "48/48 [==============================] - 0s 4ms/step - loss: 2028018.7500 - acc: 0.9922 - val_loss: 1625939.7500 - val_acc: 0.9937\n",
            "Epoch 213/500\n",
            "48/48 [==============================] - 0s 5ms/step - loss: 2027329.5000 - acc: 0.9922 - val_loss: 1625387.3750 - val_acc: 0.9937\n",
            "Epoch 214/500\n",
            "48/48 [==============================] - 0s 4ms/step - loss: 2026641.3750 - acc: 0.9922 - val_loss: 1624835.2500 - val_acc: 0.9937\n",
            "Epoch 215/500\n",
            "48/48 [==============================] - 0s 5ms/step - loss: 2025952.7500 - acc: 0.9922 - val_loss: 1624283.1250 - val_acc: 0.9937\n",
            "Epoch 216/500\n",
            "48/48 [==============================] - 0s 5ms/step - loss: 2025263.5000 - acc: 0.9922 - val_loss: 1623730.8750 - val_acc: 0.9937\n",
            "Epoch 217/500\n",
            "48/48 [==============================] - 0s 4ms/step - loss: 2024574.8750 - acc: 0.9922 - val_loss: 1623178.7500 - val_acc: 0.9937\n",
            "Epoch 218/500\n",
            "48/48 [==============================] - 0s 4ms/step - loss: 2023887.0000 - acc: 0.9922 - val_loss: 1622626.2500 - val_acc: 0.9937\n",
            "Epoch 219/500\n",
            "48/48 [==============================] - 0s 5ms/step - loss: 2023197.6250 - acc: 0.9922 - val_loss: 1622074.1250 - val_acc: 0.9937\n",
            "Epoch 220/500\n",
            "48/48 [==============================] - 0s 5ms/step - loss: 2022509.0000 - acc: 0.9922 - val_loss: 1621521.8750 - val_acc: 0.9937\n",
            "Epoch 221/500\n",
            "48/48 [==============================] - 0s 4ms/step - loss: 2021820.8750 - acc: 0.9922 - val_loss: 1620969.7500 - val_acc: 0.9937\n",
            "Epoch 222/500\n",
            "48/48 [==============================] - 0s 4ms/step - loss: 2021131.5000 - acc: 0.9922 - val_loss: 1620417.6250 - val_acc: 0.9937\n",
            "Epoch 223/500\n",
            "48/48 [==============================] - 0s 4ms/step - loss: 2020443.3750 - acc: 0.9922 - val_loss: 1619865.3750 - val_acc: 0.9937\n",
            "Epoch 224/500\n",
            "48/48 [==============================] - 0s 4ms/step - loss: 2019754.7500 - acc: 0.9922 - val_loss: 1619313.0000 - val_acc: 0.9937\n",
            "Epoch 225/500\n",
            "48/48 [==============================] - 0s 4ms/step - loss: 2019065.8750 - acc: 0.9922 - val_loss: 1618761.0000 - val_acc: 0.9937\n",
            "Epoch 226/500\n",
            "48/48 [==============================] - 0s 4ms/step - loss: 2018377.5000 - acc: 0.9922 - val_loss: 1618208.7500 - val_acc: 0.9937\n",
            "Epoch 227/500\n",
            "48/48 [==============================] - 0s 4ms/step - loss: 2017688.7500 - acc: 0.9922 - val_loss: 1617656.7500 - val_acc: 0.9937\n",
            "Epoch 228/500\n",
            "48/48 [==============================] - 0s 4ms/step - loss: 2017000.0000 - acc: 0.9922 - val_loss: 1617104.6250 - val_acc: 0.9937\n",
            "Epoch 229/500\n",
            "48/48 [==============================] - 0s 4ms/step - loss: 2016311.6250 - acc: 0.9922 - val_loss: 1616552.3750 - val_acc: 0.9937\n",
            "Epoch 230/500\n",
            "48/48 [==============================] - 0s 4ms/step - loss: 2015623.0000 - acc: 0.9922 - val_loss: 1616000.3750 - val_acc: 0.9937\n",
            "Epoch 231/500\n",
            "48/48 [==============================] - 0s 5ms/step - loss: 2014934.2500 - acc: 0.9922 - val_loss: 1615448.1250 - val_acc: 0.9937\n",
            "Epoch 232/500\n",
            "48/48 [==============================] - 0s 5ms/step - loss: 2014245.6250 - acc: 0.9922 - val_loss: 1614895.7500 - val_acc: 0.9937\n",
            "Epoch 233/500\n",
            "48/48 [==============================] - 0s 5ms/step - loss: 2013557.2500 - acc: 0.9922 - val_loss: 1614343.8750 - val_acc: 0.9937\n",
            "Epoch 234/500\n",
            "48/48 [==============================] - 0s 4ms/step - loss: 2012868.6250 - acc: 0.9922 - val_loss: 1613791.7500 - val_acc: 0.9937\n",
            "Epoch 235/500\n",
            "48/48 [==============================] - 0s 4ms/step - loss: 2012180.1250 - acc: 0.9922 - val_loss: 1613239.5000 - val_acc: 0.9937\n",
            "Epoch 236/500\n",
            "48/48 [==============================] - 0s 4ms/step - loss: 2011491.7500 - acc: 0.9922 - val_loss: 1612687.3750 - val_acc: 0.9937\n",
            "Epoch 237/500\n",
            "48/48 [==============================] - 0s 5ms/step - loss: 2010803.3750 - acc: 0.9922 - val_loss: 1612135.3750 - val_acc: 0.9937\n",
            "Epoch 238/500\n",
            "48/48 [==============================] - 0s 5ms/step - loss: 2010114.7500 - acc: 0.9922 - val_loss: 1611583.2500 - val_acc: 0.9937\n",
            "Epoch 239/500\n",
            "48/48 [==============================] - 0s 4ms/step - loss: 2009426.2500 - acc: 0.9922 - val_loss: 1611031.1250 - val_acc: 0.9937\n",
            "Epoch 240/500\n",
            "48/48 [==============================] - 0s 5ms/step - loss: 2008737.7500 - acc: 0.9922 - val_loss: 1610478.8750 - val_acc: 0.9937\n",
            "Epoch 241/500\n",
            "48/48 [==============================] - 0s 4ms/step - loss: 2008049.0000 - acc: 0.9922 - val_loss: 1609927.1250 - val_acc: 0.9937\n",
            "Epoch 242/500\n",
            "48/48 [==============================] - 0s 5ms/step - loss: 2007360.7500 - acc: 0.9922 - val_loss: 1609374.8750 - val_acc: 0.9937\n",
            "Epoch 243/500\n",
            "48/48 [==============================] - 0s 5ms/step - loss: 2006672.0000 - acc: 0.9922 - val_loss: 1608822.8750 - val_acc: 0.9937\n",
            "Epoch 244/500\n",
            "48/48 [==============================] - 0s 4ms/step - loss: 2005983.6250 - acc: 0.9922 - val_loss: 1608270.6250 - val_acc: 0.9937\n",
            "Epoch 245/500\n",
            "48/48 [==============================] - 0s 4ms/step - loss: 2005295.3750 - acc: 0.9922 - val_loss: 1607718.7500 - val_acc: 0.9937\n",
            "Epoch 246/500\n",
            "48/48 [==============================] - 0s 5ms/step - loss: 2004606.7500 - acc: 0.9922 - val_loss: 1607166.6250 - val_acc: 0.9937\n",
            "Epoch 247/500\n",
            "48/48 [==============================] - 0s 4ms/step - loss: 2003918.2500 - acc: 0.9922 - val_loss: 1606614.7500 - val_acc: 0.9937\n",
            "Epoch 248/500\n",
            "48/48 [==============================] - 0s 5ms/step - loss: 2003229.8750 - acc: 0.9922 - val_loss: 1606062.6250 - val_acc: 0.9937\n",
            "Epoch 249/500\n",
            "48/48 [==============================] - 0s 5ms/step - loss: 2002541.2500 - acc: 0.9922 - val_loss: 1605510.7500 - val_acc: 0.9937\n",
            "Epoch 250/500\n",
            "48/48 [==============================] - 0s 4ms/step - loss: 2001853.2500 - acc: 0.9922 - val_loss: 1604958.6250 - val_acc: 0.9937\n",
            "Epoch 251/500\n",
            "48/48 [==============================] - 0s 5ms/step - loss: 2001165.0000 - acc: 0.9922 - val_loss: 1604406.7500 - val_acc: 0.9937\n",
            "Epoch 252/500\n",
            "48/48 [==============================] - 0s 4ms/step - loss: 2000476.1250 - acc: 0.9922 - val_loss: 1603854.7500 - val_acc: 0.9937\n",
            "Epoch 253/500\n",
            "48/48 [==============================] - 0s 4ms/step - loss: 1999787.7500 - acc: 0.9922 - val_loss: 1603302.6250 - val_acc: 0.9937\n",
            "Epoch 254/500\n",
            "48/48 [==============================] - 0s 5ms/step - loss: 1999099.5000 - acc: 0.9922 - val_loss: 1602750.6250 - val_acc: 0.9937\n",
            "Epoch 255/500\n",
            "48/48 [==============================] - 0s 5ms/step - loss: 1998411.2500 - acc: 0.9922 - val_loss: 1602198.6250 - val_acc: 0.9937\n",
            "Epoch 256/500\n",
            "48/48 [==============================] - 0s 4ms/step - loss: 1997722.8750 - acc: 0.9922 - val_loss: 1601646.7500 - val_acc: 0.9937\n",
            "Epoch 257/500\n",
            "48/48 [==============================] - 0s 4ms/step - loss: 1997034.2500 - acc: 0.9922 - val_loss: 1601094.7500 - val_acc: 0.9937\n",
            "Epoch 258/500\n",
            "48/48 [==============================] - 0s 5ms/step - loss: 1996345.8750 - acc: 0.9922 - val_loss: 1600542.7500 - val_acc: 0.9937\n",
            "Epoch 259/500\n",
            "48/48 [==============================] - 0s 5ms/step - loss: 1995658.0000 - acc: 0.9922 - val_loss: 1599990.7500 - val_acc: 0.9937\n",
            "Epoch 260/500\n",
            "48/48 [==============================] - 0s 5ms/step - loss: 1994969.5000 - acc: 0.9922 - val_loss: 1599438.8750 - val_acc: 0.9937\n",
            "Epoch 261/500\n",
            "48/48 [==============================] - 0s 4ms/step - loss: 1994281.3750 - acc: 0.9922 - val_loss: 1598886.8750 - val_acc: 0.9937\n",
            "Epoch 262/500\n",
            "48/48 [==============================] - 0s 4ms/step - loss: 1993593.0000 - acc: 0.9922 - val_loss: 1598334.8750 - val_acc: 0.9937\n",
            "Epoch 263/500\n",
            "48/48 [==============================] - 0s 5ms/step - loss: 1992904.6250 - acc: 0.9922 - val_loss: 1597783.0000 - val_acc: 0.9937\n",
            "Epoch 264/500\n",
            "48/48 [==============================] - 0s 5ms/step - loss: 1992215.8750 - acc: 0.9922 - val_loss: 1597230.8750 - val_acc: 0.9937\n",
            "Epoch 265/500\n",
            "48/48 [==============================] - 0s 4ms/step - loss: 1991527.5000 - acc: 0.9922 - val_loss: 1596679.1250 - val_acc: 0.9937\n",
            "Epoch 266/500\n",
            "48/48 [==============================] - 0s 4ms/step - loss: 1990839.2500 - acc: 0.9922 - val_loss: 1596127.1250 - val_acc: 0.9937\n",
            "Epoch 267/500\n",
            "48/48 [==============================] - 0s 4ms/step - loss: 1990150.7500 - acc: 0.9922 - val_loss: 1595575.2500 - val_acc: 0.9937\n",
            "Epoch 268/500\n",
            "48/48 [==============================] - 0s 5ms/step - loss: 1989462.7500 - acc: 0.9922 - val_loss: 1595023.3750 - val_acc: 0.9937\n",
            "Epoch 269/500\n",
            "48/48 [==============================] - 0s 5ms/step - loss: 1988774.7500 - acc: 0.9922 - val_loss: 1594471.2500 - val_acc: 0.9937\n",
            "Epoch 270/500\n",
            "48/48 [==============================] - 0s 5ms/step - loss: 1988086.2500 - acc: 0.9922 - val_loss: 1593919.5000 - val_acc: 0.9937\n",
            "Epoch 271/500\n",
            "48/48 [==============================] - 0s 4ms/step - loss: 1987398.0000 - acc: 0.9922 - val_loss: 1593367.7500 - val_acc: 0.9937\n",
            "Epoch 272/500\n",
            "48/48 [==============================] - 0s 4ms/step - loss: 1986709.8750 - acc: 0.9922 - val_loss: 1592815.7500 - val_acc: 0.9937\n",
            "Epoch 273/500\n",
            "48/48 [==============================] - 0s 5ms/step - loss: 1986021.3750 - acc: 0.9922 - val_loss: 1592263.7500 - val_acc: 0.9937\n",
            "Epoch 274/500\n",
            "48/48 [==============================] - 0s 5ms/step - loss: 1985333.3750 - acc: 0.9922 - val_loss: 1591712.1250 - val_acc: 0.9937\n",
            "Epoch 275/500\n",
            "48/48 [==============================] - 0s 4ms/step - loss: 1984645.0000 - acc: 0.9922 - val_loss: 1591160.0000 - val_acc: 0.9937\n",
            "Epoch 276/500\n",
            "48/48 [==============================] - 0s 5ms/step - loss: 1983956.5000 - acc: 0.9922 - val_loss: 1590608.1250 - val_acc: 0.9937\n",
            "Epoch 277/500\n",
            "48/48 [==============================] - 0s 6ms/step - loss: 1983268.6250 - acc: 0.9922 - val_loss: 1590056.2500 - val_acc: 0.9937\n",
            "Epoch 278/500\n",
            "48/48 [==============================] - 0s 4ms/step - loss: 1982580.2500 - acc: 0.9922 - val_loss: 1589504.3750 - val_acc: 0.9937\n",
            "Epoch 279/500\n",
            "48/48 [==============================] - 0s 5ms/step - loss: 1981892.0000 - acc: 0.9922 - val_loss: 1588952.5000 - val_acc: 0.9937\n",
            "Epoch 280/500\n",
            "48/48 [==============================] - 0s 4ms/step - loss: 1981203.7500 - acc: 0.9922 - val_loss: 1588400.5000 - val_acc: 0.9937\n",
            "Epoch 281/500\n",
            "48/48 [==============================] - 0s 5ms/step - loss: 1980515.7500 - acc: 0.9922 - val_loss: 1587848.7500 - val_acc: 0.9937\n",
            "Epoch 282/500\n",
            "48/48 [==============================] - 0s 4ms/step - loss: 1979827.0000 - acc: 0.9922 - val_loss: 1587297.0000 - val_acc: 0.9937\n",
            "Epoch 283/500\n",
            "48/48 [==============================] - 0s 4ms/step - loss: 1979139.3750 - acc: 0.9922 - val_loss: 1586745.2500 - val_acc: 0.9937\n",
            "Epoch 284/500\n",
            "48/48 [==============================] - 0s 4ms/step - loss: 1978451.1250 - acc: 0.9922 - val_loss: 1586193.3750 - val_acc: 0.9937\n",
            "Epoch 285/500\n",
            "48/48 [==============================] - 0s 5ms/step - loss: 1977763.0000 - acc: 0.9922 - val_loss: 1585641.5000 - val_acc: 0.9937\n",
            "Epoch 286/500\n",
            "48/48 [==============================] - 0s 5ms/step - loss: 1977074.7500 - acc: 0.9922 - val_loss: 1585089.6250 - val_acc: 0.9937\n",
            "Epoch 287/500\n",
            "48/48 [==============================] - 0s 5ms/step - loss: 1976386.7500 - acc: 0.9922 - val_loss: 1584538.0000 - val_acc: 0.9937\n",
            "Epoch 288/500\n",
            "48/48 [==============================] - 0s 5ms/step - loss: 1975698.3750 - acc: 0.9922 - val_loss: 1583986.0000 - val_acc: 0.9937\n",
            "Epoch 289/500\n",
            "48/48 [==============================] - 0s 4ms/step - loss: 1975010.6250 - acc: 0.9922 - val_loss: 1583434.2500 - val_acc: 0.9937\n",
            "Epoch 290/500\n",
            "48/48 [==============================] - 0s 5ms/step - loss: 1974322.0000 - acc: 0.9922 - val_loss: 1582882.3750 - val_acc: 0.9937\n",
            "Epoch 291/500\n",
            "48/48 [==============================] - 0s 5ms/step - loss: 1973633.7500 - acc: 0.9922 - val_loss: 1582330.6250 - val_acc: 0.9937\n",
            "Epoch 292/500\n",
            "48/48 [==============================] - 0s 5ms/step - loss: 1972945.7500 - acc: 0.9922 - val_loss: 1581779.0000 - val_acc: 0.9937\n",
            "Epoch 293/500\n",
            "48/48 [==============================] - ETA: 0s - loss: 1972257.8750 - acc: 0.9922"
          ]
        },
        {
          "output_type": "error",
          "ename": "KeyboardInterrupt",
          "evalue": "ignored",
          "traceback": [
            "\u001b[0;31m---------------------------------------------------------------------------\u001b[0m",
            "\u001b[0;31mKeyboardInterrupt\u001b[0m                         Traceback (most recent call last)",
            "\u001b[0;32m<ipython-input-43-4417ee136be7>\u001b[0m in \u001b[0;36m<module>\u001b[0;34m()\u001b[0m\n\u001b[1;32m     19\u001b[0m hist = model_c.fit(train_x, train_y, validation_split=0.2, \n\u001b[1;32m     20\u001b[0m                    \u001b[0mbatch_size\u001b[0m\u001b[0;34m=\u001b[0m\u001b[0;36m5000\u001b[0m\u001b[0;34m,\u001b[0m \u001b[0mepochs\u001b[0m\u001b[0;34m=\u001b[0m\u001b[0mepochs\u001b[0m\u001b[0;34m,\u001b[0m\u001b[0mshuffle\u001b[0m\u001b[0;34m=\u001b[0m\u001b[0;32mFalse\u001b[0m\u001b[0;34m,\u001b[0m\u001b[0muse_multiprocessing\u001b[0m\u001b[0;34m=\u001b[0m\u001b[0;32mFalse\u001b[0m\u001b[0;34m,\u001b[0m\u001b[0;34m\u001b[0m\u001b[0;34m\u001b[0m\u001b[0m\n\u001b[0;32m---> 21\u001b[0;31m                    verbose=1, callbacks=[early_stop])\n\u001b[0m",
            "\u001b[0;32m/usr/local/lib/python3.7/dist-packages/keras/utils/traceback_utils.py\u001b[0m in \u001b[0;36merror_handler\u001b[0;34m(*args, **kwargs)\u001b[0m\n\u001b[1;32m     62\u001b[0m     \u001b[0mfiltered_tb\u001b[0m \u001b[0;34m=\u001b[0m \u001b[0;32mNone\u001b[0m\u001b[0;34m\u001b[0m\u001b[0;34m\u001b[0m\u001b[0m\n\u001b[1;32m     63\u001b[0m     \u001b[0;32mtry\u001b[0m\u001b[0;34m:\u001b[0m\u001b[0;34m\u001b[0m\u001b[0;34m\u001b[0m\u001b[0m\n\u001b[0;32m---> 64\u001b[0;31m       \u001b[0;32mreturn\u001b[0m \u001b[0mfn\u001b[0m\u001b[0;34m(\u001b[0m\u001b[0;34m*\u001b[0m\u001b[0margs\u001b[0m\u001b[0;34m,\u001b[0m \u001b[0;34m**\u001b[0m\u001b[0mkwargs\u001b[0m\u001b[0;34m)\u001b[0m\u001b[0;34m\u001b[0m\u001b[0;34m\u001b[0m\u001b[0m\n\u001b[0m\u001b[1;32m     65\u001b[0m     \u001b[0;32mexcept\u001b[0m \u001b[0mException\u001b[0m \u001b[0;32mas\u001b[0m \u001b[0me\u001b[0m\u001b[0;34m:\u001b[0m  \u001b[0;31m# pylint: disable=broad-except\u001b[0m\u001b[0;34m\u001b[0m\u001b[0;34m\u001b[0m\u001b[0m\n\u001b[1;32m     66\u001b[0m       \u001b[0mfiltered_tb\u001b[0m \u001b[0;34m=\u001b[0m \u001b[0m_process_traceback_frames\u001b[0m\u001b[0;34m(\u001b[0m\u001b[0me\u001b[0m\u001b[0;34m.\u001b[0m\u001b[0m__traceback__\u001b[0m\u001b[0;34m)\u001b[0m\u001b[0;34m\u001b[0m\u001b[0;34m\u001b[0m\u001b[0m\n",
            "\u001b[0;32m/usr/local/lib/python3.7/dist-packages/keras/engine/training.py\u001b[0m in \u001b[0;36mfit\u001b[0;34m(self, x, y, batch_size, epochs, verbose, callbacks, validation_split, validation_data, shuffle, class_weight, sample_weight, initial_epoch, steps_per_epoch, validation_steps, validation_batch_size, validation_freq, max_queue_size, workers, use_multiprocessing)\u001b[0m\n\u001b[1;32m   1429\u001b[0m               \u001b[0muse_multiprocessing\u001b[0m\u001b[0;34m=\u001b[0m\u001b[0muse_multiprocessing\u001b[0m\u001b[0;34m,\u001b[0m\u001b[0;34m\u001b[0m\u001b[0;34m\u001b[0m\u001b[0m\n\u001b[1;32m   1430\u001b[0m               \u001b[0mreturn_dict\u001b[0m\u001b[0;34m=\u001b[0m\u001b[0;32mTrue\u001b[0m\u001b[0;34m,\u001b[0m\u001b[0;34m\u001b[0m\u001b[0;34m\u001b[0m\u001b[0m\n\u001b[0;32m-> 1431\u001b[0;31m               _use_cached_eval_dataset=True)\n\u001b[0m\u001b[1;32m   1432\u001b[0m           \u001b[0mval_logs\u001b[0m \u001b[0;34m=\u001b[0m \u001b[0;34m{\u001b[0m\u001b[0;34m'val_'\u001b[0m \u001b[0;34m+\u001b[0m \u001b[0mname\u001b[0m\u001b[0;34m:\u001b[0m \u001b[0mval\u001b[0m \u001b[0;32mfor\u001b[0m \u001b[0mname\u001b[0m\u001b[0;34m,\u001b[0m \u001b[0mval\u001b[0m \u001b[0;32min\u001b[0m \u001b[0mval_logs\u001b[0m\u001b[0;34m.\u001b[0m\u001b[0mitems\u001b[0m\u001b[0;34m(\u001b[0m\u001b[0;34m)\u001b[0m\u001b[0;34m}\u001b[0m\u001b[0;34m\u001b[0m\u001b[0;34m\u001b[0m\u001b[0m\n\u001b[1;32m   1433\u001b[0m           \u001b[0mepoch_logs\u001b[0m\u001b[0;34m.\u001b[0m\u001b[0mupdate\u001b[0m\u001b[0;34m(\u001b[0m\u001b[0mval_logs\u001b[0m\u001b[0;34m)\u001b[0m\u001b[0;34m\u001b[0m\u001b[0;34m\u001b[0m\u001b[0m\n",
            "\u001b[0;32m/usr/local/lib/python3.7/dist-packages/keras/utils/traceback_utils.py\u001b[0m in \u001b[0;36merror_handler\u001b[0;34m(*args, **kwargs)\u001b[0m\n\u001b[1;32m     62\u001b[0m     \u001b[0mfiltered_tb\u001b[0m \u001b[0;34m=\u001b[0m \u001b[0;32mNone\u001b[0m\u001b[0;34m\u001b[0m\u001b[0;34m\u001b[0m\u001b[0m\n\u001b[1;32m     63\u001b[0m     \u001b[0;32mtry\u001b[0m\u001b[0;34m:\u001b[0m\u001b[0;34m\u001b[0m\u001b[0;34m\u001b[0m\u001b[0m\n\u001b[0;32m---> 64\u001b[0;31m       \u001b[0;32mreturn\u001b[0m \u001b[0mfn\u001b[0m\u001b[0;34m(\u001b[0m\u001b[0;34m*\u001b[0m\u001b[0margs\u001b[0m\u001b[0;34m,\u001b[0m \u001b[0;34m**\u001b[0m\u001b[0mkwargs\u001b[0m\u001b[0;34m)\u001b[0m\u001b[0;34m\u001b[0m\u001b[0;34m\u001b[0m\u001b[0m\n\u001b[0m\u001b[1;32m     65\u001b[0m     \u001b[0;32mexcept\u001b[0m \u001b[0mException\u001b[0m \u001b[0;32mas\u001b[0m \u001b[0me\u001b[0m\u001b[0;34m:\u001b[0m  \u001b[0;31m# pylint: disable=broad-except\u001b[0m\u001b[0;34m\u001b[0m\u001b[0;34m\u001b[0m\u001b[0m\n\u001b[1;32m     66\u001b[0m       \u001b[0mfiltered_tb\u001b[0m \u001b[0;34m=\u001b[0m \u001b[0m_process_traceback_frames\u001b[0m\u001b[0;34m(\u001b[0m\u001b[0me\u001b[0m\u001b[0;34m.\u001b[0m\u001b[0m__traceback__\u001b[0m\u001b[0;34m)\u001b[0m\u001b[0;34m\u001b[0m\u001b[0;34m\u001b[0m\u001b[0m\n",
            "\u001b[0;32m/usr/local/lib/python3.7/dist-packages/keras/engine/training.py\u001b[0m in \u001b[0;36mevaluate\u001b[0;34m(self, x, y, batch_size, verbose, sample_weight, steps, callbacks, max_queue_size, workers, use_multiprocessing, return_dict, **kwargs)\u001b[0m\n\u001b[1;32m   1708\u001b[0m       \u001b[0mself\u001b[0m\u001b[0;34m.\u001b[0m\u001b[0m_test_counter\u001b[0m\u001b[0;34m.\u001b[0m\u001b[0massign\u001b[0m\u001b[0;34m(\u001b[0m\u001b[0;36m0\u001b[0m\u001b[0;34m)\u001b[0m\u001b[0;34m\u001b[0m\u001b[0;34m\u001b[0m\u001b[0m\n\u001b[1;32m   1709\u001b[0m       \u001b[0mcallbacks\u001b[0m\u001b[0;34m.\u001b[0m\u001b[0mon_test_begin\u001b[0m\u001b[0;34m(\u001b[0m\u001b[0;34m)\u001b[0m\u001b[0;34m\u001b[0m\u001b[0;34m\u001b[0m\u001b[0m\n\u001b[0;32m-> 1710\u001b[0;31m       \u001b[0;32mfor\u001b[0m \u001b[0m_\u001b[0m\u001b[0;34m,\u001b[0m \u001b[0miterator\u001b[0m \u001b[0;32min\u001b[0m \u001b[0mdata_handler\u001b[0m\u001b[0;34m.\u001b[0m\u001b[0menumerate_epochs\u001b[0m\u001b[0;34m(\u001b[0m\u001b[0;34m)\u001b[0m\u001b[0;34m:\u001b[0m  \u001b[0;31m# Single epoch.\u001b[0m\u001b[0;34m\u001b[0m\u001b[0;34m\u001b[0m\u001b[0m\n\u001b[0m\u001b[1;32m   1711\u001b[0m         \u001b[0mself\u001b[0m\u001b[0;34m.\u001b[0m\u001b[0mreset_metrics\u001b[0m\u001b[0;34m(\u001b[0m\u001b[0;34m)\u001b[0m\u001b[0;34m\u001b[0m\u001b[0;34m\u001b[0m\u001b[0m\n\u001b[1;32m   1712\u001b[0m         \u001b[0;32mwith\u001b[0m \u001b[0mdata_handler\u001b[0m\u001b[0;34m.\u001b[0m\u001b[0mcatch_stop_iteration\u001b[0m\u001b[0;34m(\u001b[0m\u001b[0;34m)\u001b[0m\u001b[0;34m:\u001b[0m\u001b[0;34m\u001b[0m\u001b[0;34m\u001b[0m\u001b[0m\n",
            "\u001b[0;32m/usr/local/lib/python3.7/dist-packages/keras/engine/data_adapter.py\u001b[0m in \u001b[0;36menumerate_epochs\u001b[0;34m(self)\u001b[0m\n\u001b[1;32m   1189\u001b[0m     \u001b[0;34m\"\"\"Yields `(epoch, tf.data.Iterator)`.\"\"\"\u001b[0m\u001b[0;34m\u001b[0m\u001b[0;34m\u001b[0m\u001b[0m\n\u001b[1;32m   1190\u001b[0m     \u001b[0;32mwith\u001b[0m \u001b[0mself\u001b[0m\u001b[0;34m.\u001b[0m\u001b[0m_truncate_execution_to_epoch\u001b[0m\u001b[0;34m(\u001b[0m\u001b[0;34m)\u001b[0m\u001b[0;34m:\u001b[0m\u001b[0;34m\u001b[0m\u001b[0;34m\u001b[0m\u001b[0m\n\u001b[0;32m-> 1191\u001b[0;31m       \u001b[0mdata_iterator\u001b[0m \u001b[0;34m=\u001b[0m \u001b[0miter\u001b[0m\u001b[0;34m(\u001b[0m\u001b[0mself\u001b[0m\u001b[0;34m.\u001b[0m\u001b[0m_dataset\u001b[0m\u001b[0;34m)\u001b[0m\u001b[0;34m\u001b[0m\u001b[0;34m\u001b[0m\u001b[0m\n\u001b[0m\u001b[1;32m   1192\u001b[0m       \u001b[0;32mfor\u001b[0m \u001b[0mepoch\u001b[0m \u001b[0;32min\u001b[0m \u001b[0mrange\u001b[0m\u001b[0;34m(\u001b[0m\u001b[0mself\u001b[0m\u001b[0;34m.\u001b[0m\u001b[0m_initial_epoch\u001b[0m\u001b[0;34m,\u001b[0m \u001b[0mself\u001b[0m\u001b[0;34m.\u001b[0m\u001b[0m_epochs\u001b[0m\u001b[0;34m)\u001b[0m\u001b[0;34m:\u001b[0m\u001b[0;34m\u001b[0m\u001b[0;34m\u001b[0m\u001b[0m\n\u001b[1;32m   1193\u001b[0m         \u001b[0;32mif\u001b[0m \u001b[0mself\u001b[0m\u001b[0;34m.\u001b[0m\u001b[0m_insufficient_data\u001b[0m\u001b[0;34m:\u001b[0m  \u001b[0;31m# Set by `catch_stop_iteration`.\u001b[0m\u001b[0;34m\u001b[0m\u001b[0;34m\u001b[0m\u001b[0m\n",
            "\u001b[0;32m/usr/local/lib/python3.7/dist-packages/tensorflow/python/data/ops/dataset_ops.py\u001b[0m in \u001b[0;36m__iter__\u001b[0;34m(self)\u001b[0m\n\u001b[1;32m    484\u001b[0m     \u001b[0;32mif\u001b[0m \u001b[0mcontext\u001b[0m\u001b[0;34m.\u001b[0m\u001b[0mexecuting_eagerly\u001b[0m\u001b[0;34m(\u001b[0m\u001b[0;34m)\u001b[0m \u001b[0;32mor\u001b[0m \u001b[0mops\u001b[0m\u001b[0;34m.\u001b[0m\u001b[0minside_function\u001b[0m\u001b[0;34m(\u001b[0m\u001b[0;34m)\u001b[0m\u001b[0;34m:\u001b[0m\u001b[0;34m\u001b[0m\u001b[0;34m\u001b[0m\u001b[0m\n\u001b[1;32m    485\u001b[0m       \u001b[0;32mwith\u001b[0m \u001b[0mops\u001b[0m\u001b[0;34m.\u001b[0m\u001b[0mcolocate_with\u001b[0m\u001b[0;34m(\u001b[0m\u001b[0mself\u001b[0m\u001b[0;34m.\u001b[0m\u001b[0m_variant_tensor\u001b[0m\u001b[0;34m)\u001b[0m\u001b[0;34m:\u001b[0m\u001b[0;34m\u001b[0m\u001b[0;34m\u001b[0m\u001b[0m\n\u001b[0;32m--> 486\u001b[0;31m         \u001b[0;32mreturn\u001b[0m \u001b[0miterator_ops\u001b[0m\u001b[0;34m.\u001b[0m\u001b[0mOwnedIterator\u001b[0m\u001b[0;34m(\u001b[0m\u001b[0mself\u001b[0m\u001b[0;34m)\u001b[0m\u001b[0;34m\u001b[0m\u001b[0;34m\u001b[0m\u001b[0m\n\u001b[0m\u001b[1;32m    487\u001b[0m     \u001b[0;32melse\u001b[0m\u001b[0;34m:\u001b[0m\u001b[0;34m\u001b[0m\u001b[0;34m\u001b[0m\u001b[0m\n\u001b[1;32m    488\u001b[0m       raise RuntimeError(\"`tf.data.Dataset` only supports Python-style \"\n",
            "\u001b[0;32m/usr/local/lib/python3.7/dist-packages/tensorflow/python/data/ops/iterator_ops.py\u001b[0m in \u001b[0;36m__init__\u001b[0;34m(self, dataset, components, element_spec)\u001b[0m\n\u001b[1;32m    753\u001b[0m             \u001b[0;34m\"When `dataset` is provided, `element_spec` and `components` must \"\u001b[0m\u001b[0;34m\u001b[0m\u001b[0;34m\u001b[0m\u001b[0m\n\u001b[1;32m    754\u001b[0m             \"not be specified.\")\n\u001b[0;32m--> 755\u001b[0;31m       \u001b[0mself\u001b[0m\u001b[0;34m.\u001b[0m\u001b[0m_create_iterator\u001b[0m\u001b[0;34m(\u001b[0m\u001b[0mdataset\u001b[0m\u001b[0;34m)\u001b[0m\u001b[0;34m\u001b[0m\u001b[0;34m\u001b[0m\u001b[0m\n\u001b[0m\u001b[1;32m    756\u001b[0m \u001b[0;34m\u001b[0m\u001b[0m\n\u001b[1;32m    757\u001b[0m     \u001b[0mself\u001b[0m\u001b[0;34m.\u001b[0m\u001b[0m_get_next_call_count\u001b[0m \u001b[0;34m=\u001b[0m \u001b[0;36m0\u001b[0m\u001b[0;34m\u001b[0m\u001b[0;34m\u001b[0m\u001b[0m\n",
            "\u001b[0;32m/usr/local/lib/python3.7/dist-packages/tensorflow/python/data/ops/iterator_ops.py\u001b[0m in \u001b[0;36m_create_iterator\u001b[0;34m(self, dataset)\u001b[0m\n\u001b[1;32m    785\u001b[0m                 \u001b[0moutput_types\u001b[0m\u001b[0;34m=\u001b[0m\u001b[0mself\u001b[0m\u001b[0;34m.\u001b[0m\u001b[0m_flat_output_types\u001b[0m\u001b[0;34m,\u001b[0m\u001b[0;34m\u001b[0m\u001b[0;34m\u001b[0m\u001b[0m\n\u001b[1;32m    786\u001b[0m                 output_shapes=self._flat_output_shapes))\n\u001b[0;32m--> 787\u001b[0;31m         \u001b[0mgen_dataset_ops\u001b[0m\u001b[0;34m.\u001b[0m\u001b[0mmake_iterator\u001b[0m\u001b[0;34m(\u001b[0m\u001b[0mds_variant\u001b[0m\u001b[0;34m,\u001b[0m \u001b[0mself\u001b[0m\u001b[0;34m.\u001b[0m\u001b[0m_iterator_resource\u001b[0m\u001b[0;34m)\u001b[0m\u001b[0;34m\u001b[0m\u001b[0;34m\u001b[0m\u001b[0m\n\u001b[0m\u001b[1;32m    788\u001b[0m         \u001b[0;31m# Delete the resource when this object is deleted\u001b[0m\u001b[0;34m\u001b[0m\u001b[0;34m\u001b[0m\u001b[0;34m\u001b[0m\u001b[0m\n\u001b[1;32m    789\u001b[0m         self._resource_deleter = IteratorResourceDeleter(\n",
            "\u001b[0;32m/usr/local/lib/python3.7/dist-packages/tensorflow/python/ops/gen_dataset_ops.py\u001b[0m in \u001b[0;36mmake_iterator\u001b[0;34m(dataset, iterator, name)\u001b[0m\n\u001b[1;32m   3314\u001b[0m     \u001b[0;32mtry\u001b[0m\u001b[0;34m:\u001b[0m\u001b[0;34m\u001b[0m\u001b[0;34m\u001b[0m\u001b[0m\n\u001b[1;32m   3315\u001b[0m       _result = pywrap_tfe.TFE_Py_FastPathExecute(\n\u001b[0;32m-> 3316\u001b[0;31m         _ctx, \"MakeIterator\", name, dataset, iterator)\n\u001b[0m\u001b[1;32m   3317\u001b[0m       \u001b[0;32mreturn\u001b[0m \u001b[0m_result\u001b[0m\u001b[0;34m\u001b[0m\u001b[0;34m\u001b[0m\u001b[0m\n\u001b[1;32m   3318\u001b[0m     \u001b[0;32mexcept\u001b[0m \u001b[0m_core\u001b[0m\u001b[0;34m.\u001b[0m\u001b[0m_NotOkStatusException\u001b[0m \u001b[0;32mas\u001b[0m \u001b[0me\u001b[0m\u001b[0;34m:\u001b[0m\u001b[0;34m\u001b[0m\u001b[0;34m\u001b[0m\u001b[0m\n",
            "\u001b[0;31mKeyboardInterrupt\u001b[0m: "
          ]
        }
      ]
    },
    {
      "cell_type": "code",
      "source": [
        "#Naive Bayes model\n",
        "nb =GaussianNB()\n",
        "model_c = nb.fit(train_x, train_y)"
      ],
      "metadata": {
        "id": "JiI4RxTwpFLF"
      },
      "execution_count": null,
      "outputs": []
    },
    {
      "cell_type": "code",
      "source": [
        "from sklearn.ensemble import RandomForestClassifier\n",
        "\n",
        "model_c = RandomForestClassifier(n_estimators=120,max_depth=20)\n",
        "model_c.fit(train_x,train_y)"
      ],
      "metadata": {
        "id": "ONY7_5pJO5yM",
        "outputId": "8b9c0a7f-17b0-4f27-d68a-bf825e166632",
        "colab": {
          "base_uri": "https://localhost:8080/"
        }
      },
      "execution_count": null,
      "outputs": [
        {
          "output_type": "execute_result",
          "data": {
            "text/plain": [
              "RandomForestClassifier(max_depth=20, n_estimators=120)"
            ]
          },
          "metadata": {},
          "execution_count": 48
        }
      ]
    },
    {
      "cell_type": "code",
      "source": [
        "test_x = x[300000:310000]\n",
        "test_y = 1-y[300000:310000]\n",
        "test_x[df_num.columns] = ss.fit_transform(test_x[df_num.columns])"
      ],
      "metadata": {
        "id": "SAldYU2pipeS"
      },
      "execution_count": null,
      "outputs": []
    },
    {
      "cell_type": "code",
      "source": [
        "from sklearn.metrics import f1_score\n",
        "from sklearn.metrics import precision_recall_fscore_support\n",
        "\n",
        "pedict_y = model_c.predict(test_x)\n",
        "#ppy = [1 if py > 0.5 else 0 for py in pedict_y[:,0]]     \n",
        "ppy = [0 if py > 0.5 else 1 for py in pedict_y]              \n",
        "acc = precision_recall_fscore_support(test_y.values,np.asarray(ppy),average='binary')\n",
        "\n",
        "acc"
      ],
      "metadata": {
        "colab": {
          "base_uri": "https://localhost:8080/"
        },
        "id": "LJLPvy2Jj4gG",
        "outputId": "3bdd168c-8848-4172-e0aa-1827ad8f1604"
      },
      "execution_count": null,
      "outputs": [
        {
          "output_type": "execute_result",
          "data": {
            "text/plain": [
              "(0.9961, 1.0, 0.9980461900706378, None)"
            ]
          },
          "metadata": {},
          "execution_count": 54
        }
      ]
    },
    {
      "cell_type": "code",
      "source": [
        "ppy"
      ],
      "metadata": {
        "id": "IR_dmBtMQBbJ"
      },
      "execution_count": null,
      "outputs": []
    },
    {
      "cell_type": "code",
      "source": [
        "print(classification_report(test_y,ppy))"
      ],
      "metadata": {
        "colab": {
          "base_uri": "https://localhost:8080/"
        },
        "id": "8MMx2CoDlcQI",
        "outputId": "69cddb54-73b4-4af2-d920-19fce82de99b"
      },
      "execution_count": null,
      "outputs": [
        {
          "output_type": "stream",
          "name": "stdout",
          "text": [
            "              precision    recall  f1-score   support\n",
            "\n",
            "           0       0.00      0.00      0.00        39\n",
            "           1       1.00      1.00      1.00      9961\n",
            "\n",
            "    accuracy                           1.00     10000\n",
            "   macro avg       0.50      0.50      0.50     10000\n",
            "weighted avg       0.99      1.00      0.99     10000\n",
            "\n"
          ]
        }
      ]
    },
    {
      "cell_type": "code",
      "source": [
        "import math\n",
        "f1s = []\n",
        "batch_size = 10000\n",
        "batch = math.ceil(x[300000:-1].shape[0]/batch_size)\n",
        "for i in range(batch):\n",
        "    ux = x[300000:-1][i*batch_size:(i+1)*batch_size]\n",
        "    ux[df_num.columns] = ss.fit_transform(ux[df_num.columns])\n",
        "    uy = 1-y[300000:-1][i*batch_size:(i+1)*batch_size]\n",
        "    predict_y = model_c.predict(ux)\n",
        "    ppy = [0 if py > 0.5 else 1 for py in predict_y]       \n",
        "    f1 = precision_recall_fscore_support(uy, np.asarray(ppy),average='binary')\n",
        "    print(\"f1:\",f1[2])\n",
        "    f1s.append(f1[2])"
      ],
      "metadata": {
        "colab": {
          "base_uri": "https://localhost:8080/"
        },
        "id": "uCYSv-lMlmha",
        "outputId": "91c1e983-f49d-4d0e-c5fc-6e826fed2252"
      },
      "execution_count": null,
      "outputs": [
        {
          "output_type": "stream",
          "name": "stdout",
          "text": [
            "f1: 0.9980461900706378\n",
            "f1: 0.99964987745711\n",
            "f1: 0.9970915655400662\n",
            "f1: 0.9994496973335335\n",
            "f1: 0.9977951493285228\n",
            "f1: 0.9976444644915552\n",
            "f1: 0.9980963831279431\n",
            "f1: 0.9976444644915552\n",
            "f1: 0.9986481750362989\n",
            "f1: 0.9959335307997389\n",
            "f1: 0.99849774661993\n",
            "f1: 0.9975942261427425\n",
            "f1: 0.9973932223781832\n",
            "f1: 0.9981967541574834\n",
            "f1: 0.9993996397838703\n",
            "f1: 0.9987484355444306\n",
            "f1: 0.9978453675402115\n",
            "f1: 0.9963869931754317\n",
            "f1: 0.9991993594875901\n",
            "f1: 0.9973429588409285\n",
            "f1: 0.9988987886675343\n",
            "f1: 0.997895580719511\n",
            "f1: 0.9981967541574834\n",
            "f1: 0.9971418542847114\n",
            "f1: 0.9993996397838703\n",
            "f1: 0.9968903601163607\n",
            "f1: 0.9978453675402115\n",
            "f1: 0.9960343356257216\n",
            "f1: 0.9981967541574834\n",
            "f1: 0.9955805544395339\n",
            "f1: 0.9963869931754317\n",
            "f1: 0.9973932223781832\n",
            "f1: 0.9963366286947357\n",
            "f1: 0.9973429588409285\n",
            "f1: 0.9968903601163607\n",
            "f1: 0.9973932223781832\n",
            "f1: 0.9964877069744105\n",
            "f1: 0.9961351202128194\n",
            "f1: 0.9944190255920358\n",
            "f1: 0.9980963831279431\n",
            "f1: 0.9982469321312296\n",
            "f1: 0.9954796584630838\n",
            "f1: 0.998547894446948\n",
            "f1: 0.9976444644915552\n",
            "f1: 0.9973429588409285\n",
            "f1: 0.9979959919839679\n",
            "f1: 0.9978453675402115\n",
            "f1: 0.9955301089849832\n",
            "f1: 0.997895580719511\n",
            "f1: 0.9977951493285228\n",
            "f1: 0.997242416645776\n",
            "f1: 0.9986481750362989\n",
            "f1: 0.9987484355444306\n",
            "f1: 0.9967897271268058\n",
            "f1: 0.9989488963411582\n",
            "f1: 0.9987484355444306\n",
            "f1: 0.998397435897436\n",
            "f1: 0.9974937343358395\n",
            "f1: 0.9982971050786338\n",
            "f1: 0.9966387397782571\n",
            "f1: 0.9974434808762345\n",
            "f1: 0.9981967541574834\n",
            "f1: 0.9963869931754317\n",
            "f1: 0.9966387397782571\n",
            "f1: 0.996538056294215\n",
            "f1: 0.9962358845671266\n",
            "f1: 0.9973429588409285\n",
            "f1: 0.9958327057287745\n",
            "f1: 0.9973932223781832\n",
            "f1: 0.9973429588409285\n",
            "f1: 0.997242416645776\n",
            "f1: 0.9954796584630838\n",
            "f1: 0.9956309948274996\n",
            "f1: 0.9980461900706378\n",
            "f1: 0.9976946978049513\n",
            "f1: 0.9950758717716812\n",
            "f1: 0.9945201347343019\n",
            "f1: 0.997242416645776\n",
            "f1: 0.9990991892703432\n",
            "f1: 0.9969909729187563\n",
            "f1: 0.9986983078001402\n",
            "f1: 0.9970412717516675\n",
            "f1: 0.998447593770344\n",
            "f1: 0.9970412717516675\n",
            "f1: 0.9980963831279431\n",
            "f1: 0.9980461900706378\n",
            "f1: 0.995176848874598\n",
            "f1: 0.9961351202128194\n",
            "f1: 0.9950253756092658\n",
            "f1: 0.9970412717516675\n",
            "f1: 0.9976946978049513\n",
            "f1: 0.9955301089849832\n",
            "f1: 0.9977449260836884\n",
            "f1: 0.9973932223781832\n",
            "f1: 0.9979959919839679\n",
            "f1: 0.997292690263712\n",
            "f1: 0.9977951493285228\n",
            "f1: 0.9980963831279431\n",
            "f1: 0.9961351202128194\n",
            "f1: 0.9950758717716812\n",
            "f1: 0.9990490966418097\n",
            "f1: 0.9977449260836884\n",
            "f1: 0.997242416645776\n",
            "f1: 0.9976444644915552\n",
            "f1: 0.998598037252153\n",
            "f1: 0.997242416645776\n",
            "f1: 0.9992995096567597\n",
            "f1: 0.9973932223781832\n",
            "f1: 0.9973932223781832\n",
            "f1: 0.99849774661993\n",
            "f1: 0.998998998998999\n",
            "f1: 0.9971418542847114\n",
            "f1: 0.9973429588409285\n",
            "f1: 0.9958831207952605\n",
            "f1: 0.9971418542847114\n",
            "f1: 0.9990490966418097\n",
            "f1: 0.9981465711566397\n",
            "f1: 0.9981967541574834\n",
            "f1: 0.996185504918691\n",
            "f1: 0.9992995096567597\n",
            "f1: 0.997895580719511\n",
            "f1: 0.9967897271268058\n",
            "f1: 0.9979959919839679\n",
            "f1: 0.9975942261427425\n",
            "f1: 0.998998998998999\n",
            "f1: 0.9960847304487501\n",
            "f1: 0.9977449260836884\n",
            "f1: 0.9959335307997389\n",
            "f1: 0.9966387397782571\n",
            "f1: 0.9981967541574834\n",
            "f1: 0.9953787422141852\n",
            "f1: 0.9990991892703432\n",
            "f1: 0.9968903601163607\n",
            "f1: 0.998598037252153\n",
            "f1: 0.9979959919839679\n",
            "f1: 0.9971921379863617\n",
            "f1: 0.9982469321312296\n",
            "f1: 0.9987484355444306\n",
            "f1: 0.9973429588409285\n",
            "f1: 0.9970412717516675\n",
            "f1: 0.998397435897436\n",
            "f1: 0.9992995096567597\n",
            "f1: 0.998397435897436\n",
            "f1: 0.998598037252153\n",
            "f1: 0.9987985582699239\n",
            "f1: 0.9976444644915552\n",
            "f1: 0.998397435897436\n",
            "f1: 0.9991993594875901\n",
            "f1: 0.9982971050786338\n",
            "f1: 0.9994496973335335\n",
            "f1: 0.9992995096567597\n",
            "f1: 0.9996999099729919\n",
            "f1: 1.0\n",
            "f1: 1.0\n",
            "f1: 1.0\n",
            "f1: 1.0\n"
          ]
        }
      ]
    },
    {
      "cell_type": "code",
      "source": [
        "plt.figure(figsize=(20,5))\n",
        "plt.plot(f1s)"
      ],
      "metadata": {
        "colab": {
          "base_uri": "https://localhost:8080/",
          "height": 288
        },
        "id": "1BDlT0TIrWTh",
        "outputId": "62a40dc6-8197-4238-840d-52968e614a18"
      },
      "execution_count": null,
      "outputs": [
        {
          "output_type": "execute_result",
          "data": {
            "text/plain": [
              "[<matplotlib.lines.Line2D at 0x7fed70733e50>]"
            ]
          },
          "metadata": {},
          "execution_count": 58
        },
        {
          "output_type": "display_data",
          "data": {
            "text/plain": [
              "<Figure size 1440x360 with 1 Axes>"
            ],
            "image/png": "[encoded data removed]"
          },
          "metadata": {
            "needs_background": "light"
          }
        }
      ]
    },
    {
      "cell_type": "markdown",
      "source": [
        "# 다른거...."
      ],
      "metadata": {
        "id": "3PHGGf1MQvh4"
      }
    },
    {
      "cell_type": "code",
      "source": [
        "!kaggle datasets download \"ealtman2019/credit-card-transactions\"\n"
      ],
      "metadata": {
        "id": "zf96qkd3Qx0i",
        "outputId": "aa3b1cde-68f7-41fc-e33d-4f717919c6e2",
        "colab": {
          "base_uri": "https://localhost:8080/"
        }
      },
      "execution_count": 3,
      "outputs": [
        {
          "output_type": "stream",
          "name": "stdout",
          "text": [
            "Downloading credit-card-transactions.zip to /content\n",
            " 95% 249M/263M [00:02<00:00, 128MB/s]\n",
            "100% 263M/263M [00:02<00:00, 124MB/s]\n"
          ]
        }
      ]
    },
    {
      "cell_type": "code",
      "source": [
        "!unzip credit-card-transactions.zip"
      ],
      "metadata": {
        "id": "oCuHS1KXRZuv",
        "outputId": "1f25eaad-c497-4a31-b3b8-285ad7e1072e",
        "colab": {
          "base_uri": "https://localhost:8080/"
        }
      },
      "execution_count": 4,
      "outputs": [
        {
          "output_type": "stream",
          "name": "stdout",
          "text": [
            "Archive:  credit-card-transactions.zip\n",
            "  inflating: User0_credit_card_transactions.csv  \n",
            "  inflating: credit_card_transactions-ibm_v2.csv  \n",
            "  inflating: sd254_cards.csv         \n",
            "  inflating: sd254_users.csv         \n"
          ]
        }
      ]
    },
    {
      "cell_type": "code",
      "source": [
        "df = pd.read_csv(\"credit_card_transactions-ibm_v2.csv\")"
      ],
      "metadata": {
        "id": "_vurfq5URbfr"
      },
      "execution_count": 5,
      "outputs": []
    },
    {
      "cell_type": "code",
      "source": [
        "df.info()"
      ],
      "metadata": {
        "id": "_eei2GXORs-k",
        "outputId": "fc87b40d-b0d2-4fc7-9c35-438fb9f4b38f",
        "colab": {
          "base_uri": "https://localhost:8080/"
        }
      },
      "execution_count": 6,
      "outputs": [
        {
          "output_type": "stream",
          "name": "stdout",
          "text": [
            "<class 'pandas.core.frame.DataFrame'>\n",
            "RangeIndex: 24386900 entries, 0 to 24386899\n",
            "Data columns (total 15 columns):\n",
            " #   Column          Dtype  \n",
            "---  ------          -----  \n",
            " 0   User            int64  \n",
            " 1   Card            int64  \n",
            " 2   Year            int64  \n",
            " 3   Month           int64  \n",
            " 4   Day             int64  \n",
            " 5   Time            object \n",
            " 6   Amount          object \n",
            " 7   Use Chip        object \n",
            " 8   Merchant Name   int64  \n",
            " 9   Merchant City   object \n",
            " 10  Merchant State  object \n",
            " 11  Zip             float64\n",
            " 12  MCC             int64  \n",
            " 13  Errors?         object \n",
            " 14  Is Fraud?       object \n",
            "dtypes: float64(1), int64(7), object(7)\n",
            "memory usage: 2.7+ GB\n"
          ]
        }
      ]
    },
    {
      "cell_type": "code",
      "source": [
        "df.head() "
      ],
      "metadata": {
        "colab": {
          "base_uri": "https://localhost:8080/",
          "height": 374
        },
        "id": "D0Ke2d1pscz3",
        "outputId": "80d40274-3f6a-4865-89df-28e7b560e4c6"
      },
      "execution_count": 7,
      "outputs": [
        {
          "output_type": "execute_result",
          "data": {
            "text/plain": [
              "   User  Card  Year  Month  Day   Time   Amount           Use Chip  \\\n",
              "0     0     0  2002      9    1  06:21  $134.09  Swipe Transaction   \n",
              "1     0     0  2002      9    1  06:42   $38.48  Swipe Transaction   \n",
              "2     0     0  2002      9    2  06:22  $120.34  Swipe Transaction   \n",
              "3     0     0  2002      9    2  17:45  $128.95  Swipe Transaction   \n",
              "4     0     0  2002      9    3  06:23  $104.71  Swipe Transaction   \n",
              "\n",
              "         Merchant Name  Merchant City Merchant State      Zip   MCC Errors?  \\\n",
              "0  3527213246127876953       La Verne             CA  91750.0  5300     NaN   \n",
              "1  -727612092139916043  Monterey Park             CA  91754.0  5411     NaN   \n",
              "2  -727612092139916043  Monterey Park             CA  91754.0  5411     NaN   \n",
              "3  3414527459579106770  Monterey Park             CA  91754.0  5651     NaN   \n",
              "4  5817218446178736267       La Verne             CA  91750.0  5912     NaN   \n",
              "\n",
              "  Is Fraud?  \n",
              "0        No  \n",
              "1        No  \n",
              "2        No  \n",
              "3        No  \n",
              "4        No  "
            ],
            "text/html": [
              "\n",
              "  <div id=\"df-ddbd81af-f575-468e-82a5-679c107d8b8f\">\n",
              "    <div class=\"colab-df-container\">\n",
              "      <div>\n",
              "<style scoped>\n",
              "    .dataframe tbody tr th:only-of-type {\n",
              "        vertical-align: middle;\n",
              "    }\n",
              "\n",
              "    .dataframe tbody tr th {\n",
              "        vertical-align: top;\n",
              "    }\n",
              "\n",
              "    .dataframe thead th {\n",
              "        text-align: right;\n",
              "    }\n",
              "</style>\n",
              "<table border=\"1\" class=\"dataframe\">\n",
              "  <thead>\n",
              "    <tr style=\"text-align: right;\">\n",
              "      <th></th>\n",
              "      <th>User</th>\n",
              "      <th>Card</th>\n",
              "      <th>Year</th>\n",
              "      <th>Month</th>\n",
              "      <th>Day</th>\n",
              "      <th>Time</th>\n",
              "      <th>Amount</th>\n",
              "      <th>Use Chip</th>\n",
              "      <th>Merchant Name</th>\n",
              "      <th>Merchant City</th>\n",
              "      <th>Merchant State</th>\n",
              "      <th>Zip</th>\n",
              "      <th>MCC</th>\n",
              "      <th>Errors?</th>\n",
              "      <th>Is Fraud?</th>\n",
              "    </tr>\n",
              "  </thead>\n",
              "  <tbody>\n",
              "    <tr>\n",
              "      <th>0</th>\n",
              "      <td>0</td>\n",
              "      <td>0</td>\n",
              "      <td>2002</td>\n",
              "      <td>9</td>\n",
              "      <td>1</td>\n",
              "      <td>06:21</td>\n",
              "      <td>$134.09</td>\n",
              "      <td>Swipe Transaction</td>\n",
              "      <td>3527213246127876953</td>\n",
              "      <td>La Verne</td>\n",
              "      <td>CA</td>\n",
              "      <td>91750.0</td>\n",
              "      <td>5300</td>\n",
              "      <td>NaN</td>\n",
              "      <td>No</td>\n",
              "    </tr>\n",
              "    <tr>\n",
              "      <th>1</th>\n",
              "      <td>0</td>\n",
              "      <td>0</td>\n",
              "      <td>2002</td>\n",
              "      <td>9</td>\n",
              "      <td>1</td>\n",
              "      <td>06:42</td>\n",
              "      <td>$38.48</td>\n",
              "      <td>Swipe Transaction</td>\n",
              "      <td>-727612092139916043</td>\n",
              "      <td>Monterey Park</td>\n",
              "      <td>CA</td>\n",
              "      <td>91754.0</td>\n",
              "      <td>5411</td>\n",
              "      <td>NaN</td>\n",
              "      <td>No</td>\n",
              "    </tr>\n",
              "    <tr>\n",
              "      <th>2</th>\n",
              "      <td>0</td>\n",
              "      <td>0</td>\n",
              "      <td>2002</td>\n",
              "      <td>9</td>\n",
              "      <td>2</td>\n",
              "      <td>06:22</td>\n",
              "      <td>$120.34</td>\n",
              "      <td>Swipe Transaction</td>\n",
              "      <td>-727612092139916043</td>\n",
              "      <td>Monterey Park</td>\n",
              "      <td>CA</td>\n",
              "      <td>91754.0</td>\n",
              "      <td>5411</td>\n",
              "      <td>NaN</td>\n",
              "      <td>No</td>\n",
              "    </tr>\n",
              "    <tr>\n",
              "      <th>3</th>\n",
              "      <td>0</td>\n",
              "      <td>0</td>\n",
              "      <td>2002</td>\n",
              "      <td>9</td>\n",
              "      <td>2</td>\n",
              "      <td>17:45</td>\n",
              "      <td>$128.95</td>\n",
              "      <td>Swipe Transaction</td>\n",
              "      <td>3414527459579106770</td>\n",
              "      <td>Monterey Park</td>\n",
              "      <td>CA</td>\n",
              "      <td>91754.0</td>\n",
              "      <td>5651</td>\n",
              "      <td>NaN</td>\n",
              "      <td>No</td>\n",
              "    </tr>\n",
              "    <tr>\n",
              "      <th>4</th>\n",
              "      <td>0</td>\n",
              "      <td>0</td>\n",
              "      <td>2002</td>\n",
              "      <td>9</td>\n",
              "      <td>3</td>\n",
              "      <td>06:23</td>\n",
              "      <td>$104.71</td>\n",
              "      <td>Swipe Transaction</td>\n",
              "      <td>5817218446178736267</td>\n",
              "      <td>La Verne</td>\n",
              "      <td>CA</td>\n",
              "      <td>91750.0</td>\n",
              "      <td>5912</td>\n",
              "      <td>NaN</td>\n",
              "      <td>No</td>\n",
              "    </tr>\n",
              "  </tbody>\n",
              "</table>\n",
              "</div>\n",
              "      <button class=\"colab-df-convert\" onclick=\"convertToInteractive('df-ddbd81af-f575-468e-82a5-679c107d8b8f')\"\n",
              "              title=\"Convert this dataframe to an interactive table.\"\n",
              "              style=\"display:none;\">\n",
              "        \n",
              "  <svg xmlns=\"http://www.w3.org/2000/svg\" height=\"24px\"viewBox=\"0 0 24 24\"\n",
              "       width=\"24px\">\n",
              "    <path d=\"M0 0h24v24H0V0z\" fill=\"none\"/>\n",
              "    <path d=\"M18.56 5.44l.94 2.06.94-2.06 2.06-.94-2.06-.94-.94-2.06-.94 2.06-2.06.94zm-11 1L8.5 8.5l.94-2.06 2.06-.94-2.06-.94L8.5 2.5l-.94 2.06-2.06.94zm10 10l.94 2.06.94-2.06 2.06-.94-2.06-.94-.94-2.06-.94 2.06-2.06.94z\"/><path d=\"M17.41 7.96l-1.37-1.37c-.4-.4-.92-.59-1.43-.59-.52 0-1.04.2-1.43.59L10.3 9.45l-7.72 7.72c-.78.78-.78 2.05 0 2.83L4 21.41c.39.39.9.59 1.41.59.51 0 1.02-.2 1.41-.59l7.78-7.78 2.81-2.81c.8-.78.8-2.07 0-2.86zM5.41 20L4 18.59l7.72-7.72 1.47 1.35L5.41 20z\"/>\n",
              "  </svg>\n",
              "      </button>\n",
              "      \n",
              "  <style>\n",
              "    .colab-df-container {\n",
              "      display:flex;\n",
              "      flex-wrap:wrap;\n",
              "      gap: 12px;\n",
              "    }\n",
              "\n",
              "    .colab-df-convert {\n",
              "      background-color: #E8F0FE;\n",
              "      border: none;\n",
              "      border-radius: 50%;\n",
              "      cursor: pointer;\n",
              "      display: none;\n",
              "      fill: #1967D2;\n",
              "      height: 32px;\n",
              "      padding: 0 0 0 0;\n",
              "      width: 32px;\n",
              "    }\n",
              "\n",
              "    .colab-df-convert:hover {\n",
              "      background-color: #E2EBFA;\n",
              "      box-shadow: 0px 1px 2px rgba(60, 64, 67, 0.3), 0px 1px 3px 1px rgba(60, 64, 67, 0.15);\n",
              "      fill: #174EA6;\n",
              "    }\n",
              "\n",
              "    [theme=dark] .colab-df-convert {\n",
              "      background-color: #3B4455;\n",
              "      fill: #D2E3FC;\n",
              "    }\n",
              "\n",
              "    [theme=dark] .colab-df-convert:hover {\n",
              "      background-color: #434B5C;\n",
              "      box-shadow: 0px 1px 3px 1px rgba(0, 0, 0, 0.15);\n",
              "      filter: drop-shadow(0px 1px 2px rgba(0, 0, 0, 0.3));\n",
              "      fill: #FFFFFF;\n",
              "    }\n",
              "  </style>\n",
              "\n",
              "      <script>\n",
              "        const buttonEl =\n",
              "          document.querySelector('#df-ddbd81af-f575-468e-82a5-679c107d8b8f button.colab-df-convert');\n",
              "        buttonEl.style.display =\n",
              "          google.colab.kernel.accessAllowed ? 'block' : 'none';\n",
              "\n",
              "        async function convertToInteractive(key) {\n",
              "          const element = document.querySelector('#df-ddbd81af-f575-468e-82a5-679c107d8b8f');\n",
              "          const dataTable =\n",
              "            await google.colab.kernel.invokeFunction('convertToInteractive',\n",
              "                                                     [key], {});\n",
              "          if (!dataTable) return;\n",
              "\n",
              "          const docLinkHtml = 'Like what you see? Visit the ' +\n",
              "            '<a target=\"_blank\" href=https://colab.research.google.com/notebooks/data_table.ipynb>data table notebook</a>'\n",
              "            + ' to learn more about interactive tables.';\n",
              "          element.innerHTML = '';\n",
              "          dataTable['output_type'] = 'display_data';\n",
              "          await google.colab.output.renderOutput(dataTable, element);\n",
              "          const docLink = document.createElement('div');\n",
              "          docLink.innerHTML = docLinkHtml;\n",
              "          element.appendChild(docLink);\n",
              "        }\n",
              "      </script>\n",
              "    </div>\n",
              "  </div>\n",
              "  "
            ]
          },
          "metadata": {},
          "execution_count": 7
        }
      ]
    },
    {
      "cell_type": "code",
      "source": [
        "df['Year'].value_counts()"
      ],
      "metadata": {
        "id": "y7vwWfg-TWRO",
        "outputId": "37ae38c5-7317-4b30-bcad-473402d98870",
        "colab": {
          "base_uri": "https://localhost:8080/"
        }
      },
      "execution_count": null,
      "outputs": [
        {
          "output_type": "execute_result",
          "data": {
            "text/plain": [
              "2019    1723938\n",
              "2017    1723360\n",
              "2018    1721615\n",
              "2016    1708924\n",
              "2015    1701371\n",
              "2014    1672343\n",
              "2013    1650917\n",
              "2012    1610829\n",
              "2011    1570551\n",
              "2010    1491225\n",
              "2009    1355434\n",
              "2008    1223460\n",
              "2007    1064483\n",
              "2006     908793\n",
              "2005     746653\n",
              "2004     597003\n",
              "2003     466408\n",
              "2002     350732\n",
              "2020     336500\n",
              "2001     257998\n",
              "2000     177729\n",
              "1999     118250\n",
              "1998      78345\n",
              "1997      49753\n",
              "1996      29945\n",
              "1995      20928\n",
              "1994      14316\n",
              "1993       8378\n",
              "1992       5134\n",
              "1991       1585\n",
              "Name: Year, dtype: int64"
            ]
          },
          "metadata": {},
          "execution_count": 7
        }
      ]
    },
    {
      "cell_type": "code",
      "source": [
        "import numpy as np \n",
        "import pandas as pd \n",
        "import os\n",
        "import lightgbm as lgb\n",
        "from sklearn.model_selection import train_test_split\n",
        "from sklearn.metrics import classification_report"
      ],
      "metadata": {
        "id": "JSaR70w1TnqE"
      },
      "execution_count": 8,
      "outputs": []
    },
    {
      "cell_type": "code",
      "source": [
        "df['Is Fraud?']=df['Is Fraud?'].replace({'No':0,'Yes':1}) "
      ],
      "metadata": {
        "id": "R0wC-1UlsntM"
      },
      "execution_count": 9,
      "outputs": []
    },
    {
      "cell_type": "code",
      "source": [
        "df.isnull().sum() "
      ],
      "metadata": {
        "colab": {
          "base_uri": "https://localhost:8080/"
        },
        "id": "pHwU5iwwsolQ",
        "outputId": "a8adf4b6-e1bb-456a-8f21-6cd3a8c68190"
      },
      "execution_count": null,
      "outputs": [
        {
          "output_type": "execute_result",
          "data": {
            "text/plain": [
              "User                     0\n",
              "Card                     0\n",
              "Year                     0\n",
              "Month                    0\n",
              "Day                      0\n",
              "Time                     0\n",
              "Amount                   0\n",
              "Use Chip                 0\n",
              "Merchant Name            0\n",
              "Merchant City            0\n",
              "Merchant State     2720821\n",
              "Zip                2878135\n",
              "MCC                      0\n",
              "Errors?           23998469\n",
              "Is Fraud?                0\n",
              "dtype: int64"
            ]
          },
          "metadata": {},
          "execution_count": 29
        }
      ]
    },
    {
      "cell_type": "code",
      "source": [
        "df['Errors?']=df['Errors?'].fillna('NAN')\n",
        "df['Errors?']=df['Errors?'].apply(lambda value:value=='NAN')\n",
        "df['Errors?'].value_counts()"
      ],
      "metadata": {
        "colab": {
          "base_uri": "https://localhost:8080/"
        },
        "id": "rrgFjCBCsxuj",
        "outputId": "f39458b7-53b7-4cbf-d68b-bd04d8317f9c"
      },
      "execution_count": 10,
      "outputs": [
        {
          "output_type": "execute_result",
          "data": {
            "text/plain": [
              "True     23998469\n",
              "False      388431\n",
              "Name: Errors?, dtype: int64"
            ]
          },
          "metadata": {},
          "execution_count": 10
        }
      ]
    },
    {
      "cell_type": "code",
      "source": [
        "df['Use Chip'].unique()\n",
        "df['is online']=df['Use Chip'].apply(lambda value:value=='Online Transaction')"
      ],
      "metadata": {
        "id": "aLf8fr5us1OV"
      },
      "execution_count": 11,
      "outputs": []
    },
    {
      "cell_type": "code",
      "source": [
        "from sklearn.preprocessing import LabelEncoder\n",
        "df['Use Chip']=df['Use Chip'].replace({'Swipe Transaction':0, 'Online Transaction':1, 'Chip Transaction':2})\n",
        "df['Zip'] = df['Zip'].fillna(df['Zip'].mean())  \n",
        "df['Amount'] = df['Amount'].apply(lambda value: float(value.split(\"$\")[1]))\n",
        "df['Hour'] = df['Time'].apply(lambda value: int(value.split(\":\")[0]))\n",
        "df['Minutes'] = df['Time'].apply(lambda value: int(value.split(\":\")[1]))\n",
        "df.drop(['Time'], axis=1, inplace=True)     \n",
        "df['Merchant State']=df['Merchant State'].fillna('NAN')    \n",
        "df['Merchant City']=df['Merchant City'].fillna('NAN') \n",
        "df['is vozmes']=df['Amount'].apply(lambda value: value<0)  \n",
        "df['abs_amount']=df['Amount'].apply(lambda value: abs(value))"
      ],
      "metadata": {
        "id": "Y5EEeXi_s8xx"
      },
      "execution_count": 12,
      "outputs": []
    },
    {
      "cell_type": "code",
      "source": [
        "#encoding categorial features\n",
        "le=LabelEncoder() \n",
        "df['Merchant State']=le.fit_transform(df['Merchant State'])\n",
        "le=LabelEncoder()\n",
        "df['Merchant City']=le.fit_transform(df['Merchant City'])"
      ],
      "metadata": {
        "id": "q8HGsnhdtDGt"
      },
      "execution_count": 13,
      "outputs": []
    },
    {
      "cell_type": "code",
      "source": [
        "df = df.sort_values(['Year','Month','Day'])"
      ],
      "metadata": {
        "id": "Ia10nVlANMrN"
      },
      "execution_count": 39,
      "outputs": []
    },
    {
      "cell_type": "code",
      "source": [
        "X = df[df['Year']==2007].drop(['Is Fraud?'],axis=1)\n",
        "y = df[df['Year']==2007]['Is Fraud?']"
      ],
      "metadata": {
        "id": "81ySMOyotS8D"
      },
      "execution_count": 40,
      "outputs": []
    },
    {
      "cell_type": "code",
      "source": [
        "random_state=42\n",
        "X_train, X_test, y_train, y_test = train_test_split(X, y, test_size = 0.3, random_state = 0, stratify=y)"
      ],
      "metadata": {
        "id": "km19iFSrtVo1"
      },
      "execution_count": 41,
      "outputs": []
    },
    {
      "cell_type": "code",
      "source": [
        "X_train.shape"
      ],
      "metadata": {
        "id": "aLKmpcKUI7Ie",
        "outputId": "989d03a9-137b-4b7a-c821-379bd993d675",
        "colab": {
          "base_uri": "https://localhost:8080/"
        }
      },
      "execution_count": 42,
      "outputs": [
        {
          "output_type": "execute_result",
          "data": {
            "text/plain": [
              "(745138, 18)"
            ]
          },
          "metadata": {},
          "execution_count": 42
        }
      ]
    },
    {
      "cell_type": "code",
      "source": [
        "!pip install catboost"
      ],
      "metadata": {
        "colab": {
          "base_uri": "https://localhost:8080/"
        },
        "id": "KKJUbIaVty1D",
        "outputId": "ea7468b3-6dfa-451d-9b65-90fd915f2608"
      },
      "execution_count": 16,
      "outputs": [
        {
          "output_type": "stream",
          "name": "stdout",
          "text": [
            "Looking in indexes: https://pypi.org/simple, https://us-python.pkg.dev/colab-wheels/public/simple/\n",
            "Collecting catboost\n",
            "  Downloading catboost-1.0.6-cp37-none-manylinux1_x86_64.whl (76.6 MB)\n",
            "\u001b[K     |████████████████████████████████| 76.6 MB 167 kB/s \n",
            "\u001b[?25hRequirement already satisfied: pandas>=0.24.0 in /usr/local/lib/python3.7/dist-packages (from catboost) (1.3.5)\n",
            "Requirement already satisfied: matplotlib in /usr/local/lib/python3.7/dist-packages (from catboost) (3.2.2)\n",
            "Requirement already satisfied: scipy in /usr/local/lib/python3.7/dist-packages (from catboost) (1.4.1)\n",
            "Requirement already satisfied: plotly in /usr/local/lib/python3.7/dist-packages (from catboost) (5.5.0)\n",
            "Requirement already satisfied: six in /usr/local/lib/python3.7/dist-packages (from catboost) (1.15.0)\n",
            "Requirement already satisfied: graphviz in /usr/local/lib/python3.7/dist-packages (from catboost) (0.10.1)\n",
            "Requirement already satisfied: numpy>=1.16.0 in /usr/local/lib/python3.7/dist-packages (from catboost) (1.21.6)\n",
            "Requirement already satisfied: pytz>=2017.3 in /usr/local/lib/python3.7/dist-packages (from pandas>=0.24.0->catboost) (2022.1)\n",
            "Requirement already satisfied: python-dateutil>=2.7.3 in /usr/local/lib/python3.7/dist-packages (from pandas>=0.24.0->catboost) (2.8.2)\n",
            "Requirement already satisfied: cycler>=0.10 in /usr/local/lib/python3.7/dist-packages (from matplotlib->catboost) (0.11.0)\n",
            "Requirement already satisfied: kiwisolver>=1.0.1 in /usr/local/lib/python3.7/dist-packages (from matplotlib->catboost) (1.4.3)\n",
            "Requirement already satisfied: pyparsing!=2.0.4,!=2.1.2,!=2.1.6,>=2.0.1 in /usr/local/lib/python3.7/dist-packages (from matplotlib->catboost) (3.0.9)\n",
            "Requirement already satisfied: typing-extensions in /usr/local/lib/python3.7/dist-packages (from kiwisolver>=1.0.1->matplotlib->catboost) (4.1.1)\n",
            "Requirement already satisfied: tenacity>=6.2.0 in /usr/local/lib/python3.7/dist-packages (from plotly->catboost) (8.0.1)\n",
            "Installing collected packages: catboost\n",
            "Successfully installed catboost-1.0.6\n"
          ]
        }
      ]
    },
    {
      "cell_type": "code",
      "source": [
        "#cat boost classifier\n",
        "\n",
        "from catboost import CatBoostClassifier\n",
        "cat = CatBoostClassifier()\n",
        "cat.fit(X_train, y_train,plot=True) \n",
        "y_pred=cat.predict(X_test)   \n",
        "print(classification_report(y_test, y_pred))    "
      ],
      "metadata": {
        "colab": {
          "base_uri": "https://localhost:8080/",
          "height": 1000,
          "referenced_widgets": [
            "14748f73cc2c47678b6fb60e3a9b08db"
          ]
        },
        "id": "Xov_vyRCtYan",
        "outputId": "90970fba-aed7-4730-c24f-cf741949b9c6"
      },
      "execution_count": 43,
      "outputs": [
        {
          "output_type": "display_data",
          "data": {
            "text/plain": [
              "MetricVisualizer(layout=Layout(align_self='stretch', height='500px'))"
            ],
            "application/vnd.jupyter.widget-view+json": {
              "version_major": 2,
              "version_minor": 0,
              "model_id": "14748f73cc2c47678b6fb60e3a9b08db"
            }
          },
          "metadata": {}
        },
        {
          "output_type": "stream",
          "name": "stdout",
          "text": [
            "Learning rate set to 0.173532\n",
            "0:\tlearn: 0.2810409\ttotal: 83.6ms\tremaining: 1m 23s\n",
            "1:\tlearn: 0.1240545\ttotal: 159ms\tremaining: 1m 19s\n",
            "2:\tlearn: 0.0630482\ttotal: 235ms\tremaining: 1m 18s\n",
            "3:\tlearn: 0.0328705\ttotal: 308ms\tremaining: 1m 16s\n",
            "4:\tlearn: 0.0228845\ttotal: 389ms\tremaining: 1m 17s\n",
            "5:\tlearn: 0.0161179\ttotal: 471ms\tremaining: 1m 18s\n",
            "6:\tlearn: 0.0130365\ttotal: 543ms\tremaining: 1m 16s\n",
            "7:\tlearn: 0.0115241\ttotal: 617ms\tremaining: 1m 16s\n",
            "8:\tlearn: 0.0104791\ttotal: 682ms\tremaining: 1m 15s\n",
            "9:\tlearn: 0.0097379\ttotal: 753ms\tremaining: 1m 14s\n",
            "10:\tlearn: 0.0091375\ttotal: 827ms\tremaining: 1m 14s\n",
            "11:\tlearn: 0.0088353\ttotal: 897ms\tremaining: 1m 13s\n",
            "12:\tlearn: 0.0082657\ttotal: 967ms\tremaining: 1m 13s\n",
            "13:\tlearn: 0.0080192\ttotal: 1.04s\tremaining: 1m 13s\n",
            "14:\tlearn: 0.0076508\ttotal: 1.11s\tremaining: 1m 13s\n",
            "15:\tlearn: 0.0075254\ttotal: 1.19s\tremaining: 1m 12s\n",
            "16:\tlearn: 0.0073310\ttotal: 1.26s\tremaining: 1m 13s\n",
            "17:\tlearn: 0.0070543\ttotal: 1.34s\tremaining: 1m 12s\n",
            "18:\tlearn: 0.0068903\ttotal: 1.41s\tremaining: 1m 13s\n",
            "19:\tlearn: 0.0068069\ttotal: 1.5s\tremaining: 1m 13s\n",
            "20:\tlearn: 0.0066490\ttotal: 1.56s\tremaining: 1m 12s\n",
            "21:\tlearn: 0.0065856\ttotal: 1.63s\tremaining: 1m 12s\n",
            "22:\tlearn: 0.0065685\ttotal: 1.7s\tremaining: 1m 12s\n",
            "23:\tlearn: 0.0065232\ttotal: 1.77s\tremaining: 1m 12s\n",
            "24:\tlearn: 0.0064212\ttotal: 1.85s\tremaining: 1m 12s\n",
            "25:\tlearn: 0.0063809\ttotal: 1.92s\tremaining: 1m 12s\n",
            "26:\tlearn: 0.0061533\ttotal: 2s\tremaining: 1m 11s\n",
            "27:\tlearn: 0.0061331\ttotal: 2.06s\tremaining: 1m 11s\n",
            "28:\tlearn: 0.0060166\ttotal: 2.13s\tremaining: 1m 11s\n",
            "29:\tlearn: 0.0059248\ttotal: 2.21s\tremaining: 1m 11s\n",
            "30:\tlearn: 0.0059015\ttotal: 2.27s\tremaining: 1m 11s\n",
            "31:\tlearn: 0.0058949\ttotal: 2.34s\tremaining: 1m 10s\n",
            "32:\tlearn: 0.0058489\ttotal: 2.42s\tremaining: 1m 10s\n",
            "33:\tlearn: 0.0056980\ttotal: 2.49s\tremaining: 1m 10s\n",
            "34:\tlearn: 0.0056719\ttotal: 2.56s\tremaining: 1m 10s\n",
            "35:\tlearn: 0.0055869\ttotal: 2.63s\tremaining: 1m 10s\n",
            "36:\tlearn: 0.0055046\ttotal: 2.71s\tremaining: 1m 10s\n",
            "37:\tlearn: 0.0054873\ttotal: 2.78s\tremaining: 1m 10s\n",
            "38:\tlearn: 0.0054123\ttotal: 2.85s\tremaining: 1m 10s\n",
            "39:\tlearn: 0.0053491\ttotal: 2.93s\tremaining: 1m 10s\n",
            "40:\tlearn: 0.0053182\ttotal: 3.01s\tremaining: 1m 10s\n",
            "41:\tlearn: 0.0052743\ttotal: 3.08s\tremaining: 1m 10s\n",
            "42:\tlearn: 0.0052497\ttotal: 3.15s\tremaining: 1m 10s\n",
            "43:\tlearn: 0.0052213\ttotal: 3.22s\tremaining: 1m 9s\n",
            "44:\tlearn: 0.0051826\ttotal: 3.3s\tremaining: 1m 9s\n",
            "45:\tlearn: 0.0051592\ttotal: 3.36s\tremaining: 1m 9s\n",
            "46:\tlearn: 0.0051195\ttotal: 3.44s\tremaining: 1m 9s\n",
            "47:\tlearn: 0.0051096\ttotal: 3.51s\tremaining: 1m 9s\n",
            "48:\tlearn: 0.0050860\ttotal: 3.58s\tremaining: 1m 9s\n",
            "49:\tlearn: 0.0050573\ttotal: 3.65s\tremaining: 1m 9s\n",
            "50:\tlearn: 0.0050497\ttotal: 3.73s\tremaining: 1m 9s\n",
            "51:\tlearn: 0.0049996\ttotal: 3.8s\tremaining: 1m 9s\n",
            "52:\tlearn: 0.0049962\ttotal: 3.87s\tremaining: 1m 9s\n",
            "53:\tlearn: 0.0049826\ttotal: 3.94s\tremaining: 1m 9s\n",
            "54:\tlearn: 0.0049764\ttotal: 4s\tremaining: 1m 8s\n",
            "55:\tlearn: 0.0049526\ttotal: 4.08s\tremaining: 1m 8s\n",
            "56:\tlearn: 0.0049280\ttotal: 4.15s\tremaining: 1m 8s\n",
            "57:\tlearn: 0.0049214\ttotal: 4.23s\tremaining: 1m 8s\n",
            "58:\tlearn: 0.0048917\ttotal: 4.3s\tremaining: 1m 8s\n",
            "59:\tlearn: 0.0048850\ttotal: 4.37s\tremaining: 1m 8s\n",
            "60:\tlearn: 0.0048573\ttotal: 4.44s\tremaining: 1m 8s\n",
            "61:\tlearn: 0.0048318\ttotal: 4.52s\tremaining: 1m 8s\n",
            "62:\tlearn: 0.0048108\ttotal: 4.6s\tremaining: 1m 8s\n",
            "63:\tlearn: 0.0048030\ttotal: 4.67s\tremaining: 1m 8s\n",
            "64:\tlearn: 0.0047053\ttotal: 4.75s\tremaining: 1m 8s\n",
            "65:\tlearn: 0.0046555\ttotal: 4.81s\tremaining: 1m 8s\n",
            "66:\tlearn: 0.0046213\ttotal: 4.89s\tremaining: 1m 8s\n",
            "67:\tlearn: 0.0045966\ttotal: 4.96s\tremaining: 1m 8s\n",
            "68:\tlearn: 0.0045859\ttotal: 5.03s\tremaining: 1m 7s\n",
            "69:\tlearn: 0.0045612\ttotal: 5.1s\tremaining: 1m 7s\n",
            "70:\tlearn: 0.0045568\ttotal: 5.17s\tremaining: 1m 7s\n",
            "71:\tlearn: 0.0045465\ttotal: 5.24s\tremaining: 1m 7s\n",
            "72:\tlearn: 0.0045419\ttotal: 5.31s\tremaining: 1m 7s\n",
            "73:\tlearn: 0.0045307\ttotal: 5.38s\tremaining: 1m 7s\n",
            "74:\tlearn: 0.0045144\ttotal: 5.45s\tremaining: 1m 7s\n",
            "75:\tlearn: 0.0044891\ttotal: 5.53s\tremaining: 1m 7s\n",
            "76:\tlearn: 0.0044792\ttotal: 5.6s\tremaining: 1m 7s\n",
            "77:\tlearn: 0.0044223\ttotal: 5.67s\tremaining: 1m 7s\n",
            "78:\tlearn: 0.0043888\ttotal: 5.75s\tremaining: 1m 6s\n",
            "79:\tlearn: 0.0043848\ttotal: 5.82s\tremaining: 1m 6s\n",
            "80:\tlearn: 0.0043733\ttotal: 5.88s\tremaining: 1m 6s\n",
            "81:\tlearn: 0.0043668\ttotal: 5.95s\tremaining: 1m 6s\n",
            "82:\tlearn: 0.0043573\ttotal: 6.02s\tremaining: 1m 6s\n",
            "83:\tlearn: 0.0043398\ttotal: 6.09s\tremaining: 1m 6s\n",
            "84:\tlearn: 0.0043367\ttotal: 6.16s\tremaining: 1m 6s\n",
            "85:\tlearn: 0.0042954\ttotal: 6.23s\tremaining: 1m 6s\n",
            "86:\tlearn: 0.0042785\ttotal: 6.3s\tremaining: 1m 6s\n",
            "87:\tlearn: 0.0042481\ttotal: 6.37s\tremaining: 1m 6s\n",
            "88:\tlearn: 0.0041841\ttotal: 6.44s\tremaining: 1m 5s\n",
            "89:\tlearn: 0.0041469\ttotal: 6.51s\tremaining: 1m 5s\n",
            "90:\tlearn: 0.0041422\ttotal: 6.59s\tremaining: 1m 5s\n",
            "91:\tlearn: 0.0041385\ttotal: 6.66s\tremaining: 1m 5s\n",
            "92:\tlearn: 0.0041246\ttotal: 6.74s\tremaining: 1m 5s\n",
            "93:\tlearn: 0.0041229\ttotal: 6.79s\tremaining: 1m 5s\n",
            "94:\tlearn: 0.0041184\ttotal: 6.86s\tremaining: 1m 5s\n",
            "95:\tlearn: 0.0040936\ttotal: 6.93s\tremaining: 1m 5s\n",
            "96:\tlearn: 0.0040689\ttotal: 7s\tremaining: 1m 5s\n",
            "97:\tlearn: 0.0040554\ttotal: 7.07s\tremaining: 1m 5s\n",
            "98:\tlearn: 0.0040538\ttotal: 7.13s\tremaining: 1m 4s\n",
            "99:\tlearn: 0.0040501\ttotal: 7.2s\tremaining: 1m 4s\n",
            "100:\tlearn: 0.0040374\ttotal: 7.26s\tremaining: 1m 4s\n",
            "101:\tlearn: 0.0040252\ttotal: 7.33s\tremaining: 1m 4s\n",
            "102:\tlearn: 0.0040239\ttotal: 7.39s\tremaining: 1m 4s\n",
            "103:\tlearn: 0.0040051\ttotal: 7.47s\tremaining: 1m 4s\n",
            "104:\tlearn: 0.0039794\ttotal: 7.54s\tremaining: 1m 4s\n",
            "105:\tlearn: 0.0039572\ttotal: 7.62s\tremaining: 1m 4s\n",
            "106:\tlearn: 0.0039480\ttotal: 7.68s\tremaining: 1m 4s\n",
            "107:\tlearn: 0.0039426\ttotal: 7.76s\tremaining: 1m 4s\n",
            "108:\tlearn: 0.0039335\ttotal: 7.83s\tremaining: 1m 4s\n",
            "109:\tlearn: 0.0039202\ttotal: 7.9s\tremaining: 1m 3s\n",
            "110:\tlearn: 0.0039005\ttotal: 7.97s\tremaining: 1m 3s\n",
            "111:\tlearn: 0.0038895\ttotal: 8.04s\tremaining: 1m 3s\n",
            "112:\tlearn: 0.0038844\ttotal: 8.11s\tremaining: 1m 3s\n",
            "113:\tlearn: 0.0038542\ttotal: 8.18s\tremaining: 1m 3s\n",
            "114:\tlearn: 0.0038361\ttotal: 8.25s\tremaining: 1m 3s\n",
            "115:\tlearn: 0.0038320\ttotal: 8.31s\tremaining: 1m 3s\n",
            "116:\tlearn: 0.0038106\ttotal: 8.38s\tremaining: 1m 3s\n",
            "117:\tlearn: 0.0038096\ttotal: 8.45s\tremaining: 1m 3s\n",
            "118:\tlearn: 0.0037982\ttotal: 8.52s\tremaining: 1m 3s\n",
            "119:\tlearn: 0.0037938\ttotal: 8.58s\tremaining: 1m 2s\n",
            "120:\tlearn: 0.0037825\ttotal: 8.66s\tremaining: 1m 2s\n",
            "121:\tlearn: 0.0037701\ttotal: 8.74s\tremaining: 1m 2s\n",
            "122:\tlearn: 0.0037596\ttotal: 8.81s\tremaining: 1m 2s\n",
            "123:\tlearn: 0.0037505\ttotal: 8.88s\tremaining: 1m 2s\n",
            "124:\tlearn: 0.0037482\ttotal: 8.95s\tremaining: 1m 2s\n",
            "125:\tlearn: 0.0037449\ttotal: 9.02s\tremaining: 1m 2s\n",
            "126:\tlearn: 0.0037378\ttotal: 9.08s\tremaining: 1m 2s\n",
            "127:\tlearn: 0.0037275\ttotal: 9.15s\tremaining: 1m 2s\n",
            "128:\tlearn: 0.0037181\ttotal: 9.23s\tremaining: 1m 2s\n",
            "129:\tlearn: 0.0036817\ttotal: 9.31s\tremaining: 1m 2s\n",
            "130:\tlearn: 0.0036624\ttotal: 9.38s\tremaining: 1m 2s\n",
            "131:\tlearn: 0.0036490\ttotal: 9.46s\tremaining: 1m 2s\n",
            "132:\tlearn: 0.0036481\ttotal: 9.52s\tremaining: 1m 2s\n",
            "133:\tlearn: 0.0036408\ttotal: 9.59s\tremaining: 1m 1s\n",
            "134:\tlearn: 0.0036401\ttotal: 9.66s\tremaining: 1m 1s\n",
            "135:\tlearn: 0.0036319\ttotal: 9.74s\tremaining: 1m 1s\n",
            "136:\tlearn: 0.0036284\ttotal: 9.8s\tremaining: 1m 1s\n",
            "137:\tlearn: 0.0036213\ttotal: 9.88s\tremaining: 1m 1s\n",
            "138:\tlearn: 0.0036206\ttotal: 9.93s\tremaining: 1m 1s\n",
            "139:\tlearn: 0.0036159\ttotal: 10s\tremaining: 1m 1s\n",
            "140:\tlearn: 0.0036152\ttotal: 10.1s\tremaining: 1m 1s\n",
            "141:\tlearn: 0.0036072\ttotal: 10.1s\tremaining: 1m 1s\n",
            "142:\tlearn: 0.0036045\ttotal: 10.2s\tremaining: 1m 1s\n",
            "143:\tlearn: 0.0036018\ttotal: 10.3s\tremaining: 1m\n",
            "144:\tlearn: 0.0035943\ttotal: 10.3s\tremaining: 1m\n",
            "145:\tlearn: 0.0035868\ttotal: 10.4s\tremaining: 1m\n",
            "146:\tlearn: 0.0035846\ttotal: 10.5s\tremaining: 1m\n",
            "147:\tlearn: 0.0035825\ttotal: 10.5s\tremaining: 1m\n",
            "148:\tlearn: 0.0035714\ttotal: 10.6s\tremaining: 1m\n",
            "149:\tlearn: 0.0035602\ttotal: 10.7s\tremaining: 1m\n",
            "150:\tlearn: 0.0035568\ttotal: 10.8s\tremaining: 1m\n",
            "151:\tlearn: 0.0035420\ttotal: 10.8s\tremaining: 1m\n",
            "152:\tlearn: 0.0034918\ttotal: 10.9s\tremaining: 1m\n",
            "153:\tlearn: 0.0034832\ttotal: 11s\tremaining: 1m\n",
            "154:\tlearn: 0.0034688\ttotal: 11s\tremaining: 1m\n",
            "155:\tlearn: 0.0034671\ttotal: 11.1s\tremaining: 1m\n",
            "156:\tlearn: 0.0034619\ttotal: 11.2s\tremaining: 1m\n",
            "157:\tlearn: 0.0034467\ttotal: 11.3s\tremaining: 1m\n",
            "158:\tlearn: 0.0034452\ttotal: 11.3s\tremaining: 59.9s\n",
            "159:\tlearn: 0.0034411\ttotal: 11.4s\tremaining: 59.8s\n",
            "160:\tlearn: 0.0034324\ttotal: 11.5s\tremaining: 59.7s\n",
            "161:\tlearn: 0.0034290\ttotal: 11.5s\tremaining: 59.6s\n",
            "162:\tlearn: 0.0034144\ttotal: 11.6s\tremaining: 59.5s\n",
            "163:\tlearn: 0.0034070\ttotal: 11.7s\tremaining: 59.5s\n",
            "164:\tlearn: 0.0034022\ttotal: 11.8s\tremaining: 59.5s\n",
            "165:\tlearn: 0.0034004\ttotal: 11.8s\tremaining: 59.4s\n",
            "166:\tlearn: 0.0033944\ttotal: 11.9s\tremaining: 59.3s\n",
            "167:\tlearn: 0.0033907\ttotal: 12s\tremaining: 59.3s\n",
            "168:\tlearn: 0.0033827\ttotal: 12s\tremaining: 59.2s\n",
            "169:\tlearn: 0.0033725\ttotal: 12.1s\tremaining: 59.1s\n",
            "170:\tlearn: 0.0033686\ttotal: 12.2s\tremaining: 59s\n",
            "171:\tlearn: 0.0033600\ttotal: 12.3s\tremaining: 59s\n",
            "172:\tlearn: 0.0033522\ttotal: 12.3s\tremaining: 58.9s\n",
            "173:\tlearn: 0.0033491\ttotal: 12.4s\tremaining: 58.8s\n",
            "174:\tlearn: 0.0033457\ttotal: 12.5s\tremaining: 58.7s\n",
            "175:\tlearn: 0.0033361\ttotal: 12.5s\tremaining: 58.7s\n",
            "176:\tlearn: 0.0033262\ttotal: 12.6s\tremaining: 58.6s\n",
            "177:\tlearn: 0.0033233\ttotal: 12.7s\tremaining: 58.5s\n",
            "178:\tlearn: 0.0033143\ttotal: 12.8s\tremaining: 58.5s\n",
            "179:\tlearn: 0.0033045\ttotal: 12.8s\tremaining: 58.4s\n",
            "180:\tlearn: 0.0032940\ttotal: 12.9s\tremaining: 58.4s\n",
            "181:\tlearn: 0.0032848\ttotal: 13s\tremaining: 58.3s\n",
            "182:\tlearn: 0.0032779\ttotal: 13s\tremaining: 58.2s\n",
            "183:\tlearn: 0.0032774\ttotal: 13.1s\tremaining: 58.1s\n",
            "184:\tlearn: 0.0032718\ttotal: 13.2s\tremaining: 58s\n",
            "185:\tlearn: 0.0032695\ttotal: 13.2s\tremaining: 57.9s\n",
            "186:\tlearn: 0.0032578\ttotal: 13.3s\tremaining: 57.9s\n",
            "187:\tlearn: 0.0032574\ttotal: 13.4s\tremaining: 57.7s\n",
            "188:\tlearn: 0.0032519\ttotal: 13.4s\tremaining: 57.7s\n",
            "189:\tlearn: 0.0032465\ttotal: 13.5s\tremaining: 57.6s\n",
            "190:\tlearn: 0.0032354\ttotal: 13.6s\tremaining: 57.5s\n",
            "191:\tlearn: 0.0032347\ttotal: 13.6s\tremaining: 57.4s\n",
            "192:\tlearn: 0.0032301\ttotal: 13.7s\tremaining: 57.3s\n",
            "193:\tlearn: 0.0032288\ttotal: 13.8s\tremaining: 57.3s\n",
            "194:\tlearn: 0.0032284\ttotal: 13.8s\tremaining: 57.1s\n",
            "195:\tlearn: 0.0032251\ttotal: 13.9s\tremaining: 57s\n",
            "196:\tlearn: 0.0032175\ttotal: 14s\tremaining: 57s\n",
            "197:\tlearn: 0.0032160\ttotal: 14s\tremaining: 56.9s\n",
            "198:\tlearn: 0.0032113\ttotal: 14.1s\tremaining: 56.8s\n",
            "199:\tlearn: 0.0032071\ttotal: 14.2s\tremaining: 56.7s\n",
            "200:\tlearn: 0.0031974\ttotal: 14.3s\tremaining: 56.6s\n",
            "201:\tlearn: 0.0031924\ttotal: 14.3s\tremaining: 56.6s\n",
            "202:\tlearn: 0.0031857\ttotal: 14.4s\tremaining: 56.5s\n",
            "203:\tlearn: 0.0031838\ttotal: 14.5s\tremaining: 56.4s\n",
            "204:\tlearn: 0.0031793\ttotal: 14.5s\tremaining: 56.4s\n",
            "205:\tlearn: 0.0031663\ttotal: 14.6s\tremaining: 56.4s\n",
            "206:\tlearn: 0.0031573\ttotal: 14.7s\tremaining: 56.3s\n",
            "207:\tlearn: 0.0031472\ttotal: 14.8s\tremaining: 56.3s\n",
            "208:\tlearn: 0.0031402\ttotal: 14.8s\tremaining: 56.2s\n",
            "209:\tlearn: 0.0031383\ttotal: 14.9s\tremaining: 56.1s\n",
            "210:\tlearn: 0.0031259\ttotal: 15s\tremaining: 56s\n",
            "211:\tlearn: 0.0031024\ttotal: 15.1s\tremaining: 56s\n",
            "212:\tlearn: 0.0031008\ttotal: 15.1s\tremaining: 55.9s\n",
            "213:\tlearn: 0.0030990\ttotal: 15.2s\tremaining: 55.8s\n",
            "214:\tlearn: 0.0030909\ttotal: 15.3s\tremaining: 55.7s\n",
            "215:\tlearn: 0.0030869\ttotal: 15.3s\tremaining: 55.7s\n",
            "216:\tlearn: 0.0030822\ttotal: 15.4s\tremaining: 55.6s\n",
            "217:\tlearn: 0.0030705\ttotal: 15.5s\tremaining: 55.5s\n",
            "218:\tlearn: 0.0030677\ttotal: 15.5s\tremaining: 55.4s\n",
            "219:\tlearn: 0.0030661\ttotal: 15.6s\tremaining: 55.3s\n",
            "220:\tlearn: 0.0030631\ttotal: 15.7s\tremaining: 55.2s\n",
            "221:\tlearn: 0.0030525\ttotal: 15.8s\tremaining: 55.2s\n",
            "222:\tlearn: 0.0030511\ttotal: 15.8s\tremaining: 55.1s\n",
            "223:\tlearn: 0.0030487\ttotal: 15.9s\tremaining: 55s\n",
            "224:\tlearn: 0.0030476\ttotal: 16s\tremaining: 54.9s\n",
            "225:\tlearn: 0.0030462\ttotal: 16s\tremaining: 54.9s\n",
            "226:\tlearn: 0.0030433\ttotal: 16.1s\tremaining: 54.8s\n",
            "227:\tlearn: 0.0030425\ttotal: 16.2s\tremaining: 54.7s\n",
            "228:\tlearn: 0.0030416\ttotal: 16.2s\tremaining: 54.6s\n",
            "229:\tlearn: 0.0030408\ttotal: 16.3s\tremaining: 54.5s\n",
            "230:\tlearn: 0.0030383\ttotal: 16.4s\tremaining: 54.5s\n",
            "231:\tlearn: 0.0030314\ttotal: 16.4s\tremaining: 54.4s\n",
            "232:\tlearn: 0.0030278\ttotal: 16.5s\tremaining: 54.3s\n",
            "233:\tlearn: 0.0030244\ttotal: 16.6s\tremaining: 54.3s\n",
            "234:\tlearn: 0.0030232\ttotal: 16.6s\tremaining: 54.1s\n",
            "235:\tlearn: 0.0030138\ttotal: 16.7s\tremaining: 54.1s\n",
            "236:\tlearn: 0.0030072\ttotal: 16.8s\tremaining: 54s\n",
            "237:\tlearn: 0.0030048\ttotal: 16.9s\tremaining: 54s\n",
            "238:\tlearn: 0.0030029\ttotal: 16.9s\tremaining: 53.9s\n",
            "239:\tlearn: 0.0030018\ttotal: 17s\tremaining: 53.8s\n",
            "240:\tlearn: 0.0029979\ttotal: 17.1s\tremaining: 53.7s\n",
            "241:\tlearn: 0.0029925\ttotal: 17.1s\tremaining: 53.7s\n",
            "242:\tlearn: 0.0029884\ttotal: 17.2s\tremaining: 53.6s\n",
            "243:\tlearn: 0.0029871\ttotal: 17.3s\tremaining: 53.5s\n",
            "244:\tlearn: 0.0029765\ttotal: 17.3s\tremaining: 53.4s\n",
            "245:\tlearn: 0.0029735\ttotal: 17.4s\tremaining: 53.4s\n",
            "246:\tlearn: 0.0029710\ttotal: 17.5s\tremaining: 53.3s\n",
            "247:\tlearn: 0.0029700\ttotal: 17.5s\tremaining: 53.2s\n",
            "248:\tlearn: 0.0029670\ttotal: 17.6s\tremaining: 53.1s\n",
            "249:\tlearn: 0.0029581\ttotal: 17.7s\tremaining: 53.1s\n",
            "250:\tlearn: 0.0029573\ttotal: 17.8s\tremaining: 53s\n",
            "251:\tlearn: 0.0029564\ttotal: 17.8s\tremaining: 52.9s\n",
            "252:\tlearn: 0.0029515\ttotal: 17.9s\tremaining: 52.9s\n",
            "253:\tlearn: 0.0029454\ttotal: 18s\tremaining: 52.8s\n",
            "254:\tlearn: 0.0029426\ttotal: 18s\tremaining: 52.7s\n",
            "255:\tlearn: 0.0029408\ttotal: 18.1s\tremaining: 52.6s\n",
            "256:\tlearn: 0.0029375\ttotal: 18.2s\tremaining: 52.6s\n",
            "257:\tlearn: 0.0029356\ttotal: 18.2s\tremaining: 52.5s\n",
            "258:\tlearn: 0.0029294\ttotal: 18.3s\tremaining: 52.4s\n",
            "259:\tlearn: 0.0029211\ttotal: 18.4s\tremaining: 52.3s\n",
            "260:\tlearn: 0.0029204\ttotal: 18.5s\tremaining: 52.3s\n",
            "261:\tlearn: 0.0029151\ttotal: 18.5s\tremaining: 52.2s\n",
            "262:\tlearn: 0.0029061\ttotal: 18.6s\tremaining: 52.1s\n",
            "263:\tlearn: 0.0028989\ttotal: 18.7s\tremaining: 52.1s\n",
            "264:\tlearn: 0.0028961\ttotal: 18.7s\tremaining: 52s\n",
            "265:\tlearn: 0.0028927\ttotal: 18.8s\tremaining: 51.9s\n",
            "266:\tlearn: 0.0028920\ttotal: 18.9s\tremaining: 51.9s\n",
            "267:\tlearn: 0.0028869\ttotal: 19s\tremaining: 51.8s\n",
            "268:\tlearn: 0.0028845\ttotal: 19s\tremaining: 51.7s\n",
            "269:\tlearn: 0.0028738\ttotal: 19.1s\tremaining: 51.6s\n",
            "270:\tlearn: 0.0028704\ttotal: 19.2s\tremaining: 51.6s\n",
            "271:\tlearn: 0.0028693\ttotal: 19.2s\tremaining: 51.5s\n",
            "272:\tlearn: 0.0028662\ttotal: 19.3s\tremaining: 51.4s\n",
            "273:\tlearn: 0.0028643\ttotal: 19.4s\tremaining: 51.3s\n",
            "274:\tlearn: 0.0028583\ttotal: 19.4s\tremaining: 51.2s\n",
            "275:\tlearn: 0.0028549\ttotal: 19.5s\tremaining: 51.2s\n",
            "276:\tlearn: 0.0028518\ttotal: 19.6s\tremaining: 51.1s\n",
            "277:\tlearn: 0.0028487\ttotal: 19.6s\tremaining: 51s\n",
            "278:\tlearn: 0.0028449\ttotal: 19.7s\tremaining: 50.9s\n",
            "279:\tlearn: 0.0028381\ttotal: 19.8s\tremaining: 50.9s\n",
            "280:\tlearn: 0.0028373\ttotal: 19.9s\tremaining: 50.8s\n",
            "281:\tlearn: 0.0028366\ttotal: 19.9s\tremaining: 50.7s\n",
            "282:\tlearn: 0.0028353\ttotal: 20s\tremaining: 50.7s\n",
            "283:\tlearn: 0.0028283\ttotal: 20.1s\tremaining: 50.6s\n",
            "284:\tlearn: 0.0028255\ttotal: 20.1s\tremaining: 50.5s\n",
            "285:\tlearn: 0.0028176\ttotal: 20.2s\tremaining: 50.4s\n",
            "286:\tlearn: 0.0028154\ttotal: 20.3s\tremaining: 50.4s\n",
            "287:\tlearn: 0.0028040\ttotal: 20.3s\tremaining: 50.3s\n",
            "288:\tlearn: 0.0028022\ttotal: 20.4s\tremaining: 50.2s\n",
            "289:\tlearn: 0.0028009\ttotal: 20.5s\tremaining: 50.1s\n",
            "290:\tlearn: 0.0027957\ttotal: 20.6s\tremaining: 50.1s\n",
            "291:\tlearn: 0.0027919\ttotal: 20.6s\tremaining: 50s\n",
            "292:\tlearn: 0.0027913\ttotal: 20.7s\tremaining: 49.9s\n",
            "293:\tlearn: 0.0027884\ttotal: 20.7s\tremaining: 49.8s\n",
            "294:\tlearn: 0.0027815\ttotal: 20.8s\tremaining: 49.8s\n",
            "295:\tlearn: 0.0027636\ttotal: 20.9s\tremaining: 49.7s\n",
            "296:\tlearn: 0.0027545\ttotal: 21s\tremaining: 49.6s\n",
            "297:\tlearn: 0.0027515\ttotal: 21s\tremaining: 49.6s\n",
            "298:\tlearn: 0.0027457\ttotal: 21.1s\tremaining: 49.5s\n",
            "299:\tlearn: 0.0027443\ttotal: 21.2s\tremaining: 49.4s\n",
            "300:\tlearn: 0.0027417\ttotal: 21.2s\tremaining: 49.3s\n",
            "301:\tlearn: 0.0027413\ttotal: 21.3s\tremaining: 49.2s\n",
            "302:\tlearn: 0.0027382\ttotal: 21.4s\tremaining: 49.2s\n",
            "303:\tlearn: 0.0027338\ttotal: 21.4s\tremaining: 49.1s\n",
            "304:\tlearn: 0.0027273\ttotal: 21.5s\tremaining: 49s\n",
            "305:\tlearn: 0.0027214\ttotal: 21.6s\tremaining: 49s\n",
            "306:\tlearn: 0.0027212\ttotal: 21.6s\tremaining: 48.9s\n",
            "307:\tlearn: 0.0027182\ttotal: 21.7s\tremaining: 48.8s\n",
            "308:\tlearn: 0.0027172\ttotal: 21.8s\tremaining: 48.7s\n",
            "309:\tlearn: 0.0027129\ttotal: 21.9s\tremaining: 48.7s\n",
            "310:\tlearn: 0.0027103\ttotal: 21.9s\tremaining: 48.6s\n",
            "311:\tlearn: 0.0027045\ttotal: 22s\tremaining: 48.6s\n",
            "312:\tlearn: 0.0027040\ttotal: 22.1s\tremaining: 48.5s\n",
            "313:\tlearn: 0.0027037\ttotal: 22.2s\tremaining: 48.4s\n",
            "314:\tlearn: 0.0027009\ttotal: 22.2s\tremaining: 48.3s\n",
            "315:\tlearn: 0.0026947\ttotal: 22.3s\tremaining: 48.2s\n",
            "316:\tlearn: 0.0026918\ttotal: 22.4s\tremaining: 48.2s\n",
            "317:\tlearn: 0.0026882\ttotal: 22.4s\tremaining: 48.1s\n",
            "318:\tlearn: 0.0026840\ttotal: 22.5s\tremaining: 48s\n",
            "319:\tlearn: 0.0026838\ttotal: 22.6s\tremaining: 47.9s\n",
            "320:\tlearn: 0.0026801\ttotal: 22.6s\tremaining: 47.9s\n",
            "321:\tlearn: 0.0026768\ttotal: 22.7s\tremaining: 47.8s\n",
            "322:\tlearn: 0.0026765\ttotal: 22.8s\tremaining: 47.7s\n",
            "323:\tlearn: 0.0026756\ttotal: 22.8s\tremaining: 47.6s\n",
            "324:\tlearn: 0.0026706\ttotal: 22.9s\tremaining: 47.6s\n",
            "325:\tlearn: 0.0026643\ttotal: 23s\tremaining: 47.5s\n",
            "326:\tlearn: 0.0026582\ttotal: 23s\tremaining: 47.4s\n",
            "327:\tlearn: 0.0026566\ttotal: 23.1s\tremaining: 47.4s\n",
            "328:\tlearn: 0.0026544\ttotal: 23.2s\tremaining: 47.3s\n",
            "329:\tlearn: 0.0026501\ttotal: 23.3s\tremaining: 47.2s\n",
            "330:\tlearn: 0.0026497\ttotal: 23.3s\tremaining: 47.1s\n",
            "331:\tlearn: 0.0026481\ttotal: 23.4s\tremaining: 47.1s\n",
            "332:\tlearn: 0.0026435\ttotal: 23.5s\tremaining: 47s\n",
            "333:\tlearn: 0.0026423\ttotal: 23.5s\tremaining: 46.9s\n",
            "334:\tlearn: 0.0026410\ttotal: 23.6s\tremaining: 46.8s\n",
            "335:\tlearn: 0.0026399\ttotal: 23.7s\tremaining: 46.8s\n",
            "336:\tlearn: 0.0026395\ttotal: 23.7s\tremaining: 46.7s\n",
            "337:\tlearn: 0.0026359\ttotal: 23.8s\tremaining: 46.6s\n",
            "338:\tlearn: 0.0026330\ttotal: 23.9s\tremaining: 46.6s\n",
            "339:\tlearn: 0.0026278\ttotal: 24s\tremaining: 46.5s\n",
            "340:\tlearn: 0.0026257\ttotal: 24s\tremaining: 46.5s\n",
            "341:\tlearn: 0.0026229\ttotal: 24.1s\tremaining: 46.4s\n",
            "342:\tlearn: 0.0026193\ttotal: 24.2s\tremaining: 46.3s\n",
            "343:\tlearn: 0.0026173\ttotal: 24.2s\tremaining: 46.2s\n",
            "344:\tlearn: 0.0026155\ttotal: 24.3s\tremaining: 46.2s\n",
            "345:\tlearn: 0.0026142\ttotal: 24.4s\tremaining: 46.1s\n",
            "346:\tlearn: 0.0026093\ttotal: 24.4s\tremaining: 46s\n",
            "347:\tlearn: 0.0026041\ttotal: 24.5s\tremaining: 45.9s\n",
            "348:\tlearn: 0.0025965\ttotal: 24.6s\tremaining: 45.9s\n",
            "349:\tlearn: 0.0025911\ttotal: 24.7s\tremaining: 45.8s\n",
            "350:\tlearn: 0.0025894\ttotal: 24.7s\tremaining: 45.7s\n",
            "351:\tlearn: 0.0025878\ttotal: 24.8s\tremaining: 45.7s\n",
            "352:\tlearn: 0.0025843\ttotal: 24.9s\tremaining: 45.6s\n",
            "353:\tlearn: 0.0025784\ttotal: 25s\tremaining: 45.6s\n",
            "354:\tlearn: 0.0025758\ttotal: 25s\tremaining: 45.5s\n",
            "355:\tlearn: 0.0025749\ttotal: 25.1s\tremaining: 45.4s\n",
            "356:\tlearn: 0.0025681\ttotal: 25.2s\tremaining: 45.4s\n",
            "357:\tlearn: 0.0025657\ttotal: 25.3s\tremaining: 45.3s\n",
            "358:\tlearn: 0.0025633\ttotal: 25.3s\tremaining: 45.2s\n",
            "359:\tlearn: 0.0025566\ttotal: 25.4s\tremaining: 45.2s\n",
            "360:\tlearn: 0.0025499\ttotal: 25.5s\tremaining: 45.1s\n",
            "361:\tlearn: 0.0025447\ttotal: 25.5s\tremaining: 45s\n",
            "362:\tlearn: 0.0025387\ttotal: 25.6s\tremaining: 45s\n",
            "363:\tlearn: 0.0025376\ttotal: 25.7s\tremaining: 44.9s\n",
            "364:\tlearn: 0.0025357\ttotal: 25.7s\tremaining: 44.8s\n",
            "365:\tlearn: 0.0025351\ttotal: 25.8s\tremaining: 44.7s\n",
            "366:\tlearn: 0.0025290\ttotal: 25.9s\tremaining: 44.7s\n",
            "367:\tlearn: 0.0025245\ttotal: 26s\tremaining: 44.6s\n",
            "368:\tlearn: 0.0025226\ttotal: 26.1s\tremaining: 44.6s\n",
            "369:\tlearn: 0.0025217\ttotal: 26.1s\tremaining: 44.5s\n",
            "370:\tlearn: 0.0025193\ttotal: 26.2s\tremaining: 44.4s\n",
            "371:\tlearn: 0.0025190\ttotal: 26.2s\tremaining: 44.3s\n",
            "372:\tlearn: 0.0025188\ttotal: 26.3s\tremaining: 44.2s\n",
            "373:\tlearn: 0.0025167\ttotal: 26.4s\tremaining: 44.2s\n",
            "374:\tlearn: 0.0025160\ttotal: 26.4s\tremaining: 44.1s\n",
            "375:\tlearn: 0.0025105\ttotal: 26.5s\tremaining: 44s\n",
            "376:\tlearn: 0.0025059\ttotal: 26.6s\tremaining: 43.9s\n",
            "377:\tlearn: 0.0025055\ttotal: 26.6s\tremaining: 43.9s\n",
            "378:\tlearn: 0.0024970\ttotal: 26.7s\tremaining: 43.8s\n",
            "379:\tlearn: 0.0024953\ttotal: 26.8s\tremaining: 43.7s\n",
            "380:\tlearn: 0.0024909\ttotal: 26.9s\tremaining: 43.6s\n",
            "381:\tlearn: 0.0024900\ttotal: 26.9s\tremaining: 43.6s\n",
            "382:\tlearn: 0.0024885\ttotal: 27s\tremaining: 43.5s\n",
            "383:\tlearn: 0.0024835\ttotal: 27.1s\tremaining: 43.4s\n",
            "384:\tlearn: 0.0024825\ttotal: 27.1s\tremaining: 43.4s\n",
            "385:\tlearn: 0.0024811\ttotal: 27.2s\tremaining: 43.3s\n",
            "386:\tlearn: 0.0024760\ttotal: 27.3s\tremaining: 43.2s\n",
            "387:\tlearn: 0.0024708\ttotal: 27.3s\tremaining: 43.1s\n",
            "388:\tlearn: 0.0024634\ttotal: 27.4s\tremaining: 43.1s\n",
            "389:\tlearn: 0.0024558\ttotal: 27.5s\tremaining: 43s\n",
            "390:\tlearn: 0.0024524\ttotal: 27.6s\tremaining: 42.9s\n",
            "391:\tlearn: 0.0024509\ttotal: 27.6s\tremaining: 42.9s\n",
            "392:\tlearn: 0.0024446\ttotal: 27.7s\tremaining: 42.8s\n",
            "393:\tlearn: 0.0024442\ttotal: 27.8s\tremaining: 42.7s\n",
            "394:\tlearn: 0.0024429\ttotal: 27.8s\tremaining: 42.6s\n",
            "395:\tlearn: 0.0024403\ttotal: 28s\tremaining: 42.7s\n",
            "396:\tlearn: 0.0024332\ttotal: 28.1s\tremaining: 42.6s\n",
            "397:\tlearn: 0.0024292\ttotal: 28.1s\tremaining: 42.6s\n",
            "398:\tlearn: 0.0024285\ttotal: 28.2s\tremaining: 42.5s\n",
            "399:\tlearn: 0.0024270\ttotal: 28.3s\tremaining: 42.4s\n",
            "400:\tlearn: 0.0024200\ttotal: 28.3s\tremaining: 42.3s\n",
            "401:\tlearn: 0.0024178\ttotal: 28.4s\tremaining: 42.3s\n",
            "402:\tlearn: 0.0024127\ttotal: 28.5s\tremaining: 42.2s\n",
            "403:\tlearn: 0.0024093\ttotal: 28.6s\tremaining: 42.1s\n",
            "404:\tlearn: 0.0024077\ttotal: 28.6s\tremaining: 42.1s\n",
            "405:\tlearn: 0.0024001\ttotal: 28.7s\tremaining: 42s\n",
            "406:\tlearn: 0.0023976\ttotal: 28.8s\tremaining: 41.9s\n",
            "407:\tlearn: 0.0023972\ttotal: 28.8s\tremaining: 41.8s\n",
            "408:\tlearn: 0.0023948\ttotal: 28.9s\tremaining: 41.8s\n",
            "409:\tlearn: 0.0023908\ttotal: 29s\tremaining: 41.7s\n",
            "410:\tlearn: 0.0023892\ttotal: 29.1s\tremaining: 41.6s\n",
            "411:\tlearn: 0.0023842\ttotal: 29.1s\tremaining: 41.6s\n",
            "412:\tlearn: 0.0023832\ttotal: 29.2s\tremaining: 41.5s\n",
            "413:\tlearn: 0.0023792\ttotal: 29.3s\tremaining: 41.4s\n",
            "414:\tlearn: 0.0023783\ttotal: 29.3s\tremaining: 41.4s\n",
            "415:\tlearn: 0.0023750\ttotal: 29.4s\tremaining: 41.3s\n",
            "416:\tlearn: 0.0023684\ttotal: 29.5s\tremaining: 41.2s\n",
            "417:\tlearn: 0.0023639\ttotal: 29.6s\tremaining: 41.1s\n",
            "418:\tlearn: 0.0023604\ttotal: 29.6s\tremaining: 41.1s\n",
            "419:\tlearn: 0.0023596\ttotal: 29.7s\tremaining: 41s\n",
            "420:\tlearn: 0.0023537\ttotal: 29.8s\tremaining: 40.9s\n",
            "421:\tlearn: 0.0023520\ttotal: 29.8s\tremaining: 40.8s\n",
            "422:\tlearn: 0.0023511\ttotal: 29.9s\tremaining: 40.8s\n",
            "423:\tlearn: 0.0023450\ttotal: 30s\tremaining: 40.7s\n",
            "424:\tlearn: 0.0023404\ttotal: 30s\tremaining: 40.7s\n",
            "425:\tlearn: 0.0023382\ttotal: 30.1s\tremaining: 40.6s\n",
            "426:\tlearn: 0.0023366\ttotal: 30.2s\tremaining: 40.5s\n",
            "427:\tlearn: 0.0023345\ttotal: 30.3s\tremaining: 40.4s\n",
            "428:\tlearn: 0.0023328\ttotal: 30.3s\tremaining: 40.4s\n",
            "429:\tlearn: 0.0023296\ttotal: 30.4s\tremaining: 40.3s\n",
            "430:\tlearn: 0.0023275\ttotal: 30.5s\tremaining: 40.2s\n",
            "431:\tlearn: 0.0023233\ttotal: 30.5s\tremaining: 40.2s\n",
            "432:\tlearn: 0.0023219\ttotal: 30.6s\tremaining: 40.1s\n",
            "433:\tlearn: 0.0023193\ttotal: 30.7s\tremaining: 40s\n",
            "434:\tlearn: 0.0023159\ttotal: 30.7s\tremaining: 39.9s\n",
            "435:\tlearn: 0.0023133\ttotal: 30.8s\tremaining: 39.9s\n",
            "436:\tlearn: 0.0023109\ttotal: 30.9s\tremaining: 39.8s\n",
            "437:\tlearn: 0.0023067\ttotal: 31s\tremaining: 39.7s\n",
            "438:\tlearn: 0.0023001\ttotal: 31.1s\tremaining: 39.7s\n",
            "439:\tlearn: 0.0022983\ttotal: 31.1s\tremaining: 39.6s\n",
            "440:\tlearn: 0.0022958\ttotal: 31.2s\tremaining: 39.5s\n",
            "441:\tlearn: 0.0022929\ttotal: 31.3s\tremaining: 39.5s\n",
            "442:\tlearn: 0.0022831\ttotal: 31.3s\tremaining: 39.4s\n",
            "443:\tlearn: 0.0022784\ttotal: 31.4s\tremaining: 39.3s\n",
            "444:\tlearn: 0.0022742\ttotal: 31.5s\tremaining: 39.2s\n",
            "445:\tlearn: 0.0022701\ttotal: 31.5s\tremaining: 39.2s\n",
            "446:\tlearn: 0.0022680\ttotal: 31.6s\tremaining: 39.1s\n",
            "447:\tlearn: 0.0022636\ttotal: 31.7s\tremaining: 39s\n",
            "448:\tlearn: 0.0022611\ttotal: 31.7s\tremaining: 39s\n",
            "449:\tlearn: 0.0022591\ttotal: 31.8s\tremaining: 38.9s\n",
            "450:\tlearn: 0.0022545\ttotal: 31.9s\tremaining: 38.8s\n",
            "451:\tlearn: 0.0022491\ttotal: 32s\tremaining: 38.7s\n",
            "452:\tlearn: 0.0022485\ttotal: 32s\tremaining: 38.7s\n",
            "453:\tlearn: 0.0022474\ttotal: 32.1s\tremaining: 38.6s\n",
            "454:\tlearn: 0.0022458\ttotal: 32.2s\tremaining: 38.5s\n",
            "455:\tlearn: 0.0022448\ttotal: 32.2s\tremaining: 38.5s\n",
            "456:\tlearn: 0.0022414\ttotal: 32.3s\tremaining: 38.4s\n",
            "457:\tlearn: 0.0022342\ttotal: 32.4s\tremaining: 38.3s\n",
            "458:\tlearn: 0.0022286\ttotal: 32.5s\tremaining: 38.3s\n",
            "459:\tlearn: 0.0022259\ttotal: 32.5s\tremaining: 38.2s\n",
            "460:\tlearn: 0.0022203\ttotal: 32.6s\tremaining: 38.1s\n",
            "461:\tlearn: 0.0022179\ttotal: 32.7s\tremaining: 38.1s\n",
            "462:\tlearn: 0.0022160\ttotal: 32.7s\tremaining: 38s\n",
            "463:\tlearn: 0.0022129\ttotal: 32.8s\tremaining: 37.9s\n",
            "464:\tlearn: 0.0022100\ttotal: 32.9s\tremaining: 37.8s\n",
            "465:\tlearn: 0.0022072\ttotal: 33s\tremaining: 37.8s\n",
            "466:\tlearn: 0.0022047\ttotal: 33.1s\tremaining: 37.7s\n",
            "467:\tlearn: 0.0022021\ttotal: 33.1s\tremaining: 37.7s\n",
            "468:\tlearn: 0.0022011\ttotal: 33.2s\tremaining: 37.6s\n",
            "469:\tlearn: 0.0021977\ttotal: 33.3s\tremaining: 37.5s\n",
            "470:\tlearn: 0.0021960\ttotal: 33.3s\tremaining: 37.4s\n",
            "471:\tlearn: 0.0021920\ttotal: 33.4s\tremaining: 37.4s\n",
            "472:\tlearn: 0.0021878\ttotal: 33.5s\tremaining: 37.3s\n",
            "473:\tlearn: 0.0021865\ttotal: 33.6s\tremaining: 37.2s\n",
            "474:\tlearn: 0.0021842\ttotal: 33.6s\tremaining: 37.2s\n",
            "475:\tlearn: 0.0021822\ttotal: 33.7s\tremaining: 37.1s\n",
            "476:\tlearn: 0.0021807\ttotal: 33.8s\tremaining: 37s\n",
            "477:\tlearn: 0.0021766\ttotal: 33.8s\tremaining: 36.9s\n",
            "478:\tlearn: 0.0021740\ttotal: 33.9s\tremaining: 36.9s\n",
            "479:\tlearn: 0.0021727\ttotal: 34s\tremaining: 36.8s\n",
            "480:\tlearn: 0.0021633\ttotal: 34s\tremaining: 36.7s\n",
            "481:\tlearn: 0.0021613\ttotal: 34.1s\tremaining: 36.7s\n",
            "482:\tlearn: 0.0021577\ttotal: 34.2s\tremaining: 36.6s\n",
            "483:\tlearn: 0.0021554\ttotal: 34.3s\tremaining: 36.5s\n",
            "484:\tlearn: 0.0021541\ttotal: 34.3s\tremaining: 36.5s\n",
            "485:\tlearn: 0.0021533\ttotal: 34.4s\tremaining: 36.4s\n",
            "486:\tlearn: 0.0021492\ttotal: 34.5s\tremaining: 36.3s\n",
            "487:\tlearn: 0.0021468\ttotal: 34.5s\tremaining: 36.2s\n",
            "488:\tlearn: 0.0021446\ttotal: 34.6s\tremaining: 36.2s\n",
            "489:\tlearn: 0.0021357\ttotal: 34.7s\tremaining: 36.1s\n",
            "490:\tlearn: 0.0021327\ttotal: 34.8s\tremaining: 36s\n",
            "491:\tlearn: 0.0021288\ttotal: 34.8s\tremaining: 36s\n",
            "492:\tlearn: 0.0021247\ttotal: 34.9s\tremaining: 35.9s\n",
            "493:\tlearn: 0.0021209\ttotal: 35s\tremaining: 35.8s\n",
            "494:\tlearn: 0.0021187\ttotal: 35.1s\tremaining: 35.8s\n",
            "495:\tlearn: 0.0021169\ttotal: 35.1s\tremaining: 35.7s\n",
            "496:\tlearn: 0.0021122\ttotal: 35.2s\tremaining: 35.6s\n",
            "497:\tlearn: 0.0021118\ttotal: 35.3s\tremaining: 35.6s\n",
            "498:\tlearn: 0.0021082\ttotal: 35.3s\tremaining: 35.5s\n",
            "499:\tlearn: 0.0021057\ttotal: 35.4s\tremaining: 35.4s\n",
            "500:\tlearn: 0.0021042\ttotal: 35.5s\tremaining: 35.4s\n",
            "501:\tlearn: 0.0020973\ttotal: 35.6s\tremaining: 35.3s\n",
            "502:\tlearn: 0.0020953\ttotal: 35.6s\tremaining: 35.2s\n",
            "503:\tlearn: 0.0020919\ttotal: 35.7s\tremaining: 35.1s\n",
            "504:\tlearn: 0.0020890\ttotal: 35.8s\tremaining: 35.1s\n",
            "505:\tlearn: 0.0020841\ttotal: 35.9s\tremaining: 35s\n",
            "506:\tlearn: 0.0020811\ttotal: 35.9s\tremaining: 34.9s\n",
            "507:\tlearn: 0.0020768\ttotal: 36s\tremaining: 34.9s\n",
            "508:\tlearn: 0.0020721\ttotal: 36.1s\tremaining: 34.8s\n",
            "509:\tlearn: 0.0020712\ttotal: 36.2s\tremaining: 34.7s\n",
            "510:\tlearn: 0.0020708\ttotal: 36.2s\tremaining: 34.7s\n",
            "511:\tlearn: 0.0020698\ttotal: 36.3s\tremaining: 34.6s\n",
            "512:\tlearn: 0.0020663\ttotal: 36.4s\tremaining: 34.5s\n",
            "513:\tlearn: 0.0020652\ttotal: 36.4s\tremaining: 34.5s\n",
            "514:\tlearn: 0.0020604\ttotal: 36.5s\tremaining: 34.4s\n",
            "515:\tlearn: 0.0020590\ttotal: 36.6s\tremaining: 34.3s\n",
            "516:\tlearn: 0.0020573\ttotal: 36.6s\tremaining: 34.2s\n",
            "517:\tlearn: 0.0020540\ttotal: 36.7s\tremaining: 34.2s\n",
            "518:\tlearn: 0.0020524\ttotal: 36.8s\tremaining: 34.1s\n",
            "519:\tlearn: 0.0020488\ttotal: 36.9s\tremaining: 34s\n",
            "520:\tlearn: 0.0020465\ttotal: 36.9s\tremaining: 33.9s\n",
            "521:\tlearn: 0.0020455\ttotal: 37s\tremaining: 33.9s\n",
            "522:\tlearn: 0.0020439\ttotal: 37.1s\tremaining: 33.8s\n",
            "523:\tlearn: 0.0020431\ttotal: 37.2s\tremaining: 33.8s\n",
            "524:\tlearn: 0.0020422\ttotal: 37.2s\tremaining: 33.7s\n",
            "525:\tlearn: 0.0020351\ttotal: 37.3s\tremaining: 33.6s\n",
            "526:\tlearn: 0.0020334\ttotal: 37.4s\tremaining: 33.5s\n",
            "527:\tlearn: 0.0020330\ttotal: 37.4s\tremaining: 33.5s\n",
            "528:\tlearn: 0.0020296\ttotal: 37.5s\tremaining: 33.4s\n",
            "529:\tlearn: 0.0020262\ttotal: 37.6s\tremaining: 33.3s\n",
            "530:\tlearn: 0.0020237\ttotal: 37.7s\tremaining: 33.3s\n",
            "531:\tlearn: 0.0020227\ttotal: 37.7s\tremaining: 33.2s\n",
            "532:\tlearn: 0.0020198\ttotal: 37.8s\tremaining: 33.1s\n",
            "533:\tlearn: 0.0020191\ttotal: 37.9s\tremaining: 33s\n",
            "534:\tlearn: 0.0020174\ttotal: 37.9s\tremaining: 33s\n",
            "535:\tlearn: 0.0020149\ttotal: 38s\tremaining: 32.9s\n",
            "536:\tlearn: 0.0020067\ttotal: 38.1s\tremaining: 32.8s\n",
            "537:\tlearn: 0.0020054\ttotal: 38.2s\tremaining: 32.8s\n",
            "538:\tlearn: 0.0020001\ttotal: 38.2s\tremaining: 32.7s\n",
            "539:\tlearn: 0.0019986\ttotal: 38.3s\tremaining: 32.6s\n",
            "540:\tlearn: 0.0019947\ttotal: 38.4s\tremaining: 32.6s\n",
            "541:\tlearn: 0.0019938\ttotal: 38.5s\tremaining: 32.5s\n",
            "542:\tlearn: 0.0019884\ttotal: 38.5s\tremaining: 32.4s\n",
            "543:\tlearn: 0.0019875\ttotal: 38.6s\tremaining: 32.4s\n",
            "544:\tlearn: 0.0019770\ttotal: 38.7s\tremaining: 32.3s\n",
            "545:\tlearn: 0.0019730\ttotal: 38.7s\tremaining: 32.2s\n",
            "546:\tlearn: 0.0019719\ttotal: 38.8s\tremaining: 32.1s\n",
            "547:\tlearn: 0.0019702\ttotal: 38.9s\tremaining: 32.1s\n",
            "548:\tlearn: 0.0019686\ttotal: 39s\tremaining: 32s\n",
            "549:\tlearn: 0.0019680\ttotal: 39s\tremaining: 31.9s\n",
            "550:\tlearn: 0.0019626\ttotal: 39.1s\tremaining: 31.9s\n",
            "551:\tlearn: 0.0019612\ttotal: 39.2s\tremaining: 31.8s\n",
            "552:\tlearn: 0.0019599\ttotal: 39.3s\tremaining: 31.7s\n",
            "553:\tlearn: 0.0019584\ttotal: 39.3s\tremaining: 31.7s\n",
            "554:\tlearn: 0.0019523\ttotal: 39.4s\tremaining: 31.6s\n",
            "555:\tlearn: 0.0019457\ttotal: 39.5s\tremaining: 31.5s\n",
            "556:\tlearn: 0.0019440\ttotal: 39.6s\tremaining: 31.5s\n",
            "557:\tlearn: 0.0019419\ttotal: 39.6s\tremaining: 31.4s\n",
            "558:\tlearn: 0.0019412\ttotal: 39.7s\tremaining: 31.3s\n",
            "559:\tlearn: 0.0019393\ttotal: 39.8s\tremaining: 31.3s\n",
            "560:\tlearn: 0.0019360\ttotal: 39.9s\tremaining: 31.2s\n",
            "561:\tlearn: 0.0019353\ttotal: 39.9s\tremaining: 31.1s\n",
            "562:\tlearn: 0.0019347\ttotal: 40s\tremaining: 31s\n",
            "563:\tlearn: 0.0019336\ttotal: 40.1s\tremaining: 31s\n",
            "564:\tlearn: 0.0019326\ttotal: 40.1s\tremaining: 30.9s\n",
            "565:\tlearn: 0.0019215\ttotal: 40.2s\tremaining: 30.9s\n",
            "566:\tlearn: 0.0019201\ttotal: 40.3s\tremaining: 30.8s\n",
            "567:\tlearn: 0.0019171\ttotal: 40.4s\tremaining: 30.7s\n",
            "568:\tlearn: 0.0019146\ttotal: 40.4s\tremaining: 30.6s\n",
            "569:\tlearn: 0.0019145\ttotal: 40.5s\tremaining: 30.6s\n",
            "570:\tlearn: 0.0019138\ttotal: 40.6s\tremaining: 30.5s\n",
            "571:\tlearn: 0.0019086\ttotal: 40.6s\tremaining: 30.4s\n",
            "572:\tlearn: 0.0019055\ttotal: 40.7s\tremaining: 30.3s\n",
            "573:\tlearn: 0.0019047\ttotal: 40.8s\tremaining: 30.3s\n",
            "574:\tlearn: 0.0018997\ttotal: 40.9s\tremaining: 30.2s\n",
            "575:\tlearn: 0.0018989\ttotal: 40.9s\tremaining: 30.1s\n",
            "576:\tlearn: 0.0018958\ttotal: 41s\tremaining: 30.1s\n",
            "577:\tlearn: 0.0018954\ttotal: 41.1s\tremaining: 30s\n",
            "578:\tlearn: 0.0018923\ttotal: 41.1s\tremaining: 29.9s\n",
            "579:\tlearn: 0.0018897\ttotal: 41.2s\tremaining: 29.9s\n",
            "580:\tlearn: 0.0018881\ttotal: 41.3s\tremaining: 29.8s\n",
            "581:\tlearn: 0.0018847\ttotal: 41.4s\tremaining: 29.7s\n",
            "582:\tlearn: 0.0018845\ttotal: 41.4s\tremaining: 29.6s\n",
            "583:\tlearn: 0.0018820\ttotal: 41.5s\tremaining: 29.6s\n",
            "584:\tlearn: 0.0018782\ttotal: 41.6s\tremaining: 29.5s\n",
            "585:\tlearn: 0.0018774\ttotal: 41.6s\tremaining: 29.4s\n",
            "586:\tlearn: 0.0018742\ttotal: 41.7s\tremaining: 29.4s\n",
            "587:\tlearn: 0.0018735\ttotal: 41.8s\tremaining: 29.3s\n",
            "588:\tlearn: 0.0018716\ttotal: 41.8s\tremaining: 29.2s\n",
            "589:\tlearn: 0.0018715\ttotal: 41.9s\tremaining: 29.1s\n",
            "590:\tlearn: 0.0018703\ttotal: 42s\tremaining: 29.1s\n",
            "591:\tlearn: 0.0018680\ttotal: 42.1s\tremaining: 29s\n",
            "592:\tlearn: 0.0018624\ttotal: 42.1s\tremaining: 28.9s\n",
            "593:\tlearn: 0.0018562\ttotal: 42.2s\tremaining: 28.9s\n",
            "594:\tlearn: 0.0018560\ttotal: 42.3s\tremaining: 28.8s\n",
            "595:\tlearn: 0.0018490\ttotal: 42.4s\tremaining: 28.7s\n",
            "596:\tlearn: 0.0018457\ttotal: 42.5s\tremaining: 28.7s\n",
            "597:\tlearn: 0.0018434\ttotal: 42.5s\tremaining: 28.6s\n",
            "598:\tlearn: 0.0018426\ttotal: 42.6s\tremaining: 28.5s\n",
            "599:\tlearn: 0.0018401\ttotal: 42.7s\tremaining: 28.4s\n",
            "600:\tlearn: 0.0018399\ttotal: 42.7s\tremaining: 28.4s\n",
            "601:\tlearn: 0.0018355\ttotal: 42.8s\tremaining: 28.3s\n",
            "602:\tlearn: 0.0018348\ttotal: 42.8s\tremaining: 28.2s\n",
            "603:\tlearn: 0.0018306\ttotal: 42.9s\tremaining: 28.1s\n",
            "604:\tlearn: 0.0018302\ttotal: 43s\tremaining: 28.1s\n",
            "605:\tlearn: 0.0018265\ttotal: 43s\tremaining: 28s\n",
            "606:\tlearn: 0.0018259\ttotal: 43.1s\tremaining: 27.9s\n",
            "607:\tlearn: 0.0018250\ttotal: 43.2s\tremaining: 27.8s\n",
            "608:\tlearn: 0.0018231\ttotal: 43.3s\tremaining: 27.8s\n",
            "609:\tlearn: 0.0018213\ttotal: 43.3s\tremaining: 27.7s\n",
            "610:\tlearn: 0.0018197\ttotal: 43.4s\tremaining: 27.6s\n",
            "611:\tlearn: 0.0018169\ttotal: 43.5s\tremaining: 27.6s\n",
            "612:\tlearn: 0.0018119\ttotal: 43.6s\tremaining: 27.5s\n",
            "613:\tlearn: 0.0018114\ttotal: 43.6s\tremaining: 27.4s\n",
            "614:\tlearn: 0.0018087\ttotal: 43.7s\tremaining: 27.3s\n",
            "615:\tlearn: 0.0018062\ttotal: 43.8s\tremaining: 27.3s\n",
            "616:\tlearn: 0.0018041\ttotal: 43.8s\tremaining: 27.2s\n",
            "617:\tlearn: 0.0018032\ttotal: 43.9s\tremaining: 27.1s\n",
            "618:\tlearn: 0.0017986\ttotal: 44s\tremaining: 27.1s\n",
            "619:\tlearn: 0.0017977\ttotal: 44s\tremaining: 27s\n",
            "620:\tlearn: 0.0017952\ttotal: 44.1s\tremaining: 26.9s\n",
            "621:\tlearn: 0.0017928\ttotal: 44.2s\tremaining: 26.9s\n",
            "622:\tlearn: 0.0017894\ttotal: 44.3s\tremaining: 26.8s\n",
            "623:\tlearn: 0.0017872\ttotal: 44.3s\tremaining: 26.7s\n",
            "624:\tlearn: 0.0017848\ttotal: 44.4s\tremaining: 26.7s\n",
            "625:\tlearn: 0.0017820\ttotal: 44.5s\tremaining: 26.6s\n",
            "626:\tlearn: 0.0017770\ttotal: 44.6s\tremaining: 26.5s\n",
            "627:\tlearn: 0.0017743\ttotal: 44.6s\tremaining: 26.4s\n",
            "628:\tlearn: 0.0017713\ttotal: 44.7s\tremaining: 26.4s\n",
            "629:\tlearn: 0.0017696\ttotal: 44.8s\tremaining: 26.3s\n",
            "630:\tlearn: 0.0017690\ttotal: 44.8s\tremaining: 26.2s\n",
            "631:\tlearn: 0.0017655\ttotal: 44.9s\tremaining: 26.2s\n",
            "632:\tlearn: 0.0017616\ttotal: 45s\tremaining: 26.1s\n",
            "633:\tlearn: 0.0017557\ttotal: 45.1s\tremaining: 26s\n",
            "634:\tlearn: 0.0017536\ttotal: 45.1s\tremaining: 25.9s\n",
            "635:\tlearn: 0.0017490\ttotal: 45.2s\tremaining: 25.9s\n",
            "636:\tlearn: 0.0017436\ttotal: 45.3s\tremaining: 25.8s\n",
            "637:\tlearn: 0.0017419\ttotal: 45.4s\tremaining: 25.8s\n",
            "638:\tlearn: 0.0017406\ttotal: 45.5s\tremaining: 25.7s\n",
            "639:\tlearn: 0.0017353\ttotal: 45.5s\tremaining: 25.6s\n",
            "640:\tlearn: 0.0017335\ttotal: 45.6s\tremaining: 25.5s\n",
            "641:\tlearn: 0.0017290\ttotal: 45.7s\tremaining: 25.5s\n",
            "642:\tlearn: 0.0017288\ttotal: 45.7s\tremaining: 25.4s\n",
            "643:\tlearn: 0.0017258\ttotal: 45.8s\tremaining: 25.3s\n",
            "644:\tlearn: 0.0017255\ttotal: 45.9s\tremaining: 25.2s\n",
            "645:\tlearn: 0.0017231\ttotal: 45.9s\tremaining: 25.2s\n",
            "646:\tlearn: 0.0017205\ttotal: 46s\tremaining: 25.1s\n",
            "647:\tlearn: 0.0017175\ttotal: 46.1s\tremaining: 25s\n",
            "648:\tlearn: 0.0017161\ttotal: 46.1s\tremaining: 25s\n",
            "649:\tlearn: 0.0017117\ttotal: 46.2s\tremaining: 24.9s\n",
            "650:\tlearn: 0.0017086\ttotal: 46.3s\tremaining: 24.8s\n",
            "651:\tlearn: 0.0017074\ttotal: 46.4s\tremaining: 24.8s\n",
            "652:\tlearn: 0.0017059\ttotal: 46.4s\tremaining: 24.7s\n",
            "653:\tlearn: 0.0017044\ttotal: 46.5s\tremaining: 24.6s\n",
            "654:\tlearn: 0.0017014\ttotal: 46.6s\tremaining: 24.5s\n",
            "655:\tlearn: 0.0016974\ttotal: 46.7s\tremaining: 24.5s\n",
            "656:\tlearn: 0.0016930\ttotal: 46.7s\tremaining: 24.4s\n",
            "657:\tlearn: 0.0016911\ttotal: 46.8s\tremaining: 24.3s\n",
            "658:\tlearn: 0.0016909\ttotal: 46.9s\tremaining: 24.3s\n",
            "659:\tlearn: 0.0016864\ttotal: 46.9s\tremaining: 24.2s\n",
            "660:\tlearn: 0.0016851\ttotal: 47s\tremaining: 24.1s\n",
            "661:\tlearn: 0.0016839\ttotal: 47.1s\tremaining: 24s\n",
            "662:\tlearn: 0.0016825\ttotal: 47.1s\tremaining: 24s\n",
            "663:\tlearn: 0.0016806\ttotal: 47.2s\tremaining: 23.9s\n",
            "664:\tlearn: 0.0016768\ttotal: 47.3s\tremaining: 23.8s\n",
            "665:\tlearn: 0.0016745\ttotal: 47.4s\tremaining: 23.8s\n",
            "666:\tlearn: 0.0016725\ttotal: 47.5s\tremaining: 23.7s\n",
            "667:\tlearn: 0.0016683\ttotal: 47.5s\tremaining: 23.6s\n",
            "668:\tlearn: 0.0016656\ttotal: 47.6s\tremaining: 23.6s\n",
            "669:\tlearn: 0.0016640\ttotal: 47.7s\tremaining: 23.5s\n",
            "670:\tlearn: 0.0016602\ttotal: 47.8s\tremaining: 23.4s\n",
            "671:\tlearn: 0.0016591\ttotal: 47.8s\tremaining: 23.3s\n",
            "672:\tlearn: 0.0016576\ttotal: 47.9s\tremaining: 23.3s\n",
            "673:\tlearn: 0.0016553\ttotal: 48s\tremaining: 23.2s\n",
            "674:\tlearn: 0.0016543\ttotal: 48s\tremaining: 23.1s\n",
            "675:\tlearn: 0.0016488\ttotal: 48.1s\tremaining: 23.1s\n",
            "676:\tlearn: 0.0016464\ttotal: 48.2s\tremaining: 23s\n",
            "677:\tlearn: 0.0016427\ttotal: 48.3s\tremaining: 22.9s\n",
            "678:\tlearn: 0.0016393\ttotal: 48.4s\tremaining: 22.9s\n",
            "679:\tlearn: 0.0016371\ttotal: 48.4s\tremaining: 22.8s\n",
            "680:\tlearn: 0.0016289\ttotal: 48.5s\tremaining: 22.7s\n",
            "681:\tlearn: 0.0016259\ttotal: 48.6s\tremaining: 22.7s\n",
            "682:\tlearn: 0.0016246\ttotal: 48.6s\tremaining: 22.6s\n",
            "683:\tlearn: 0.0016234\ttotal: 48.7s\tremaining: 22.5s\n",
            "684:\tlearn: 0.0016183\ttotal: 48.8s\tremaining: 22.4s\n",
            "685:\tlearn: 0.0016172\ttotal: 48.9s\tremaining: 22.4s\n",
            "686:\tlearn: 0.0016155\ttotal: 48.9s\tremaining: 22.3s\n",
            "687:\tlearn: 0.0016142\ttotal: 49s\tremaining: 22.2s\n",
            "688:\tlearn: 0.0016112\ttotal: 49.1s\tremaining: 22.2s\n",
            "689:\tlearn: 0.0016090\ttotal: 49.1s\tremaining: 22.1s\n",
            "690:\tlearn: 0.0016019\ttotal: 49.2s\tremaining: 22s\n",
            "691:\tlearn: 0.0015977\ttotal: 49.3s\tremaining: 21.9s\n",
            "692:\tlearn: 0.0015976\ttotal: 49.4s\tremaining: 21.9s\n",
            "693:\tlearn: 0.0015950\ttotal: 49.4s\tremaining: 21.8s\n",
            "694:\tlearn: 0.0015927\ttotal: 49.5s\tremaining: 21.7s\n",
            "695:\tlearn: 0.0015920\ttotal: 49.6s\tremaining: 21.7s\n",
            "696:\tlearn: 0.0015903\ttotal: 49.7s\tremaining: 21.6s\n",
            "697:\tlearn: 0.0015895\ttotal: 49.7s\tremaining: 21.5s\n",
            "698:\tlearn: 0.0015886\ttotal: 49.8s\tremaining: 21.4s\n",
            "699:\tlearn: 0.0015882\ttotal: 49.9s\tremaining: 21.4s\n",
            "700:\tlearn: 0.0015872\ttotal: 49.9s\tremaining: 21.3s\n",
            "701:\tlearn: 0.0015861\ttotal: 50s\tremaining: 21.2s\n",
            "702:\tlearn: 0.0015859\ttotal: 50.1s\tremaining: 21.1s\n",
            "703:\tlearn: 0.0015833\ttotal: 50.1s\tremaining: 21.1s\n",
            "704:\tlearn: 0.0015784\ttotal: 50.2s\tremaining: 21s\n",
            "705:\tlearn: 0.0015757\ttotal: 50.3s\tremaining: 20.9s\n",
            "706:\tlearn: 0.0015732\ttotal: 50.4s\tremaining: 20.9s\n",
            "707:\tlearn: 0.0015713\ttotal: 50.4s\tremaining: 20.8s\n",
            "708:\tlearn: 0.0015688\ttotal: 50.5s\tremaining: 20.7s\n",
            "709:\tlearn: 0.0015672\ttotal: 50.6s\tremaining: 20.7s\n",
            "710:\tlearn: 0.0015655\ttotal: 50.6s\tremaining: 20.6s\n",
            "711:\tlearn: 0.0015636\ttotal: 50.7s\tremaining: 20.5s\n",
            "712:\tlearn: 0.0015635\ttotal: 50.8s\tremaining: 20.4s\n",
            "713:\tlearn: 0.0015603\ttotal: 50.9s\tremaining: 20.4s\n",
            "714:\tlearn: 0.0015577\ttotal: 50.9s\tremaining: 20.3s\n",
            "715:\tlearn: 0.0015533\ttotal: 51s\tremaining: 20.2s\n",
            "716:\tlearn: 0.0015522\ttotal: 51.1s\tremaining: 20.2s\n",
            "717:\tlearn: 0.0015490\ttotal: 51.1s\tremaining: 20.1s\n",
            "718:\tlearn: 0.0015463\ttotal: 51.2s\tremaining: 20s\n",
            "719:\tlearn: 0.0015426\ttotal: 51.3s\tremaining: 19.9s\n",
            "720:\tlearn: 0.0015401\ttotal: 51.4s\tremaining: 19.9s\n",
            "721:\tlearn: 0.0015384\ttotal: 51.5s\tremaining: 19.8s\n",
            "722:\tlearn: 0.0015336\ttotal: 51.5s\tremaining: 19.7s\n",
            "723:\tlearn: 0.0015325\ttotal: 51.6s\tremaining: 19.7s\n",
            "724:\tlearn: 0.0015301\ttotal: 51.7s\tremaining: 19.6s\n",
            "725:\tlearn: 0.0015276\ttotal: 51.7s\tremaining: 19.5s\n",
            "726:\tlearn: 0.0015240\ttotal: 51.8s\tremaining: 19.5s\n",
            "727:\tlearn: 0.0015172\ttotal: 51.9s\tremaining: 19.4s\n",
            "728:\tlearn: 0.0015115\ttotal: 52s\tremaining: 19.3s\n",
            "729:\tlearn: 0.0015103\ttotal: 52.1s\tremaining: 19.3s\n",
            "730:\tlearn: 0.0015064\ttotal: 52.1s\tremaining: 19.2s\n",
            "731:\tlearn: 0.0015045\ttotal: 52.2s\tremaining: 19.1s\n",
            "732:\tlearn: 0.0015011\ttotal: 52.3s\tremaining: 19s\n",
            "733:\tlearn: 0.0014966\ttotal: 52.3s\tremaining: 19s\n",
            "734:\tlearn: 0.0014940\ttotal: 52.4s\tremaining: 18.9s\n",
            "735:\tlearn: 0.0014865\ttotal: 52.5s\tremaining: 18.8s\n",
            "736:\tlearn: 0.0014824\ttotal: 52.6s\tremaining: 18.8s\n",
            "737:\tlearn: 0.0014804\ttotal: 52.7s\tremaining: 18.7s\n",
            "738:\tlearn: 0.0014782\ttotal: 52.7s\tremaining: 18.6s\n",
            "739:\tlearn: 0.0014759\ttotal: 52.8s\tremaining: 18.6s\n",
            "740:\tlearn: 0.0014717\ttotal: 52.9s\tremaining: 18.5s\n",
            "741:\tlearn: 0.0014716\ttotal: 52.9s\tremaining: 18.4s\n",
            "742:\tlearn: 0.0014698\ttotal: 53s\tremaining: 18.3s\n",
            "743:\tlearn: 0.0014684\ttotal: 53.1s\tremaining: 18.3s\n",
            "744:\tlearn: 0.0014668\ttotal: 53.2s\tremaining: 18.2s\n",
            "745:\tlearn: 0.0014638\ttotal: 53.2s\tremaining: 18.1s\n",
            "746:\tlearn: 0.0014625\ttotal: 53.3s\tremaining: 18.1s\n",
            "747:\tlearn: 0.0014605\ttotal: 53.4s\tremaining: 18s\n",
            "748:\tlearn: 0.0014572\ttotal: 53.5s\tremaining: 17.9s\n",
            "749:\tlearn: 0.0014550\ttotal: 53.6s\tremaining: 17.9s\n",
            "750:\tlearn: 0.0014532\ttotal: 53.6s\tremaining: 17.8s\n",
            "751:\tlearn: 0.0014494\ttotal: 53.7s\tremaining: 17.7s\n",
            "752:\tlearn: 0.0014461\ttotal: 53.8s\tremaining: 17.6s\n",
            "753:\tlearn: 0.0014449\ttotal: 53.9s\tremaining: 17.6s\n",
            "754:\tlearn: 0.0014436\ttotal: 53.9s\tremaining: 17.5s\n",
            "755:\tlearn: 0.0014380\ttotal: 54s\tremaining: 17.4s\n",
            "756:\tlearn: 0.0014359\ttotal: 54.1s\tremaining: 17.4s\n",
            "757:\tlearn: 0.0014282\ttotal: 54.2s\tremaining: 17.3s\n",
            "758:\tlearn: 0.0014269\ttotal: 54.2s\tremaining: 17.2s\n",
            "759:\tlearn: 0.0014204\ttotal: 54.3s\tremaining: 17.2s\n",
            "760:\tlearn: 0.0014195\ttotal: 54.4s\tremaining: 17.1s\n",
            "761:\tlearn: 0.0014186\ttotal: 54.5s\tremaining: 17s\n",
            "762:\tlearn: 0.0014149\ttotal: 54.6s\tremaining: 16.9s\n",
            "763:\tlearn: 0.0014145\ttotal: 54.6s\tremaining: 16.9s\n",
            "764:\tlearn: 0.0014129\ttotal: 54.7s\tremaining: 16.8s\n",
            "765:\tlearn: 0.0014119\ttotal: 54.8s\tremaining: 16.7s\n",
            "766:\tlearn: 0.0014065\ttotal: 54.8s\tremaining: 16.7s\n",
            "767:\tlearn: 0.0014015\ttotal: 54.9s\tremaining: 16.6s\n",
            "768:\tlearn: 0.0013954\ttotal: 55s\tremaining: 16.5s\n",
            "769:\tlearn: 0.0013946\ttotal: 55.1s\tremaining: 16.4s\n",
            "770:\tlearn: 0.0013937\ttotal: 55.1s\tremaining: 16.4s\n",
            "771:\tlearn: 0.0013936\ttotal: 55.2s\tremaining: 16.3s\n",
            "772:\tlearn: 0.0013914\ttotal: 55.3s\tremaining: 16.2s\n",
            "773:\tlearn: 0.0013896\ttotal: 55.4s\tremaining: 16.2s\n",
            "774:\tlearn: 0.0013883\ttotal: 55.4s\tremaining: 16.1s\n",
            "775:\tlearn: 0.0013875\ttotal: 55.5s\tremaining: 16s\n",
            "776:\tlearn: 0.0013862\ttotal: 55.6s\tremaining: 16s\n",
            "777:\tlearn: 0.0013847\ttotal: 55.7s\tremaining: 15.9s\n",
            "778:\tlearn: 0.0013801\ttotal: 55.8s\tremaining: 15.8s\n",
            "779:\tlearn: 0.0013766\ttotal: 55.8s\tremaining: 15.7s\n",
            "780:\tlearn: 0.0013757\ttotal: 55.9s\tremaining: 15.7s\n",
            "781:\tlearn: 0.0013725\ttotal: 56s\tremaining: 15.6s\n",
            "782:\tlearn: 0.0013676\ttotal: 56s\tremaining: 15.5s\n",
            "783:\tlearn: 0.0013660\ttotal: 56.1s\tremaining: 15.5s\n",
            "784:\tlearn: 0.0013639\ttotal: 56.2s\tremaining: 15.4s\n",
            "785:\tlearn: 0.0013637\ttotal: 56.3s\tremaining: 15.3s\n",
            "786:\tlearn: 0.0013628\ttotal: 56.3s\tremaining: 15.2s\n",
            "787:\tlearn: 0.0013589\ttotal: 56.4s\tremaining: 15.2s\n",
            "788:\tlearn: 0.0013561\ttotal: 56.5s\tremaining: 15.1s\n",
            "789:\tlearn: 0.0013524\ttotal: 56.6s\tremaining: 15s\n",
            "790:\tlearn: 0.0013510\ttotal: 56.7s\tremaining: 15s\n",
            "791:\tlearn: 0.0013496\ttotal: 56.7s\tremaining: 14.9s\n",
            "792:\tlearn: 0.0013486\ttotal: 56.8s\tremaining: 14.8s\n",
            "793:\tlearn: 0.0013445\ttotal: 56.9s\tremaining: 14.8s\n",
            "794:\tlearn: 0.0013420\ttotal: 56.9s\tremaining: 14.7s\n",
            "795:\tlearn: 0.0013385\ttotal: 57s\tremaining: 14.6s\n",
            "796:\tlearn: 0.0013380\ttotal: 57.1s\tremaining: 14.5s\n",
            "797:\tlearn: 0.0013324\ttotal: 57.2s\tremaining: 14.5s\n",
            "798:\tlearn: 0.0013308\ttotal: 57.2s\tremaining: 14.4s\n",
            "799:\tlearn: 0.0013303\ttotal: 57.3s\tremaining: 14.3s\n",
            "800:\tlearn: 0.0013286\ttotal: 57.4s\tremaining: 14.3s\n",
            "801:\tlearn: 0.0013279\ttotal: 57.4s\tremaining: 14.2s\n",
            "802:\tlearn: 0.0013260\ttotal: 57.5s\tremaining: 14.1s\n",
            "803:\tlearn: 0.0013196\ttotal: 57.6s\tremaining: 14s\n",
            "804:\tlearn: 0.0013176\ttotal: 57.7s\tremaining: 14s\n",
            "805:\tlearn: 0.0013165\ttotal: 57.8s\tremaining: 13.9s\n",
            "806:\tlearn: 0.0013157\ttotal: 57.8s\tremaining: 13.8s\n",
            "807:\tlearn: 0.0013143\ttotal: 57.9s\tremaining: 13.8s\n",
            "808:\tlearn: 0.0013136\ttotal: 58s\tremaining: 13.7s\n",
            "809:\tlearn: 0.0013134\ttotal: 58s\tremaining: 13.6s\n",
            "810:\tlearn: 0.0013130\ttotal: 58.1s\tremaining: 13.5s\n",
            "811:\tlearn: 0.0013104\ttotal: 58.2s\tremaining: 13.5s\n",
            "812:\tlearn: 0.0013088\ttotal: 58.2s\tremaining: 13.4s\n",
            "813:\tlearn: 0.0013046\ttotal: 58.3s\tremaining: 13.3s\n",
            "814:\tlearn: 0.0012984\ttotal: 58.4s\tremaining: 13.3s\n",
            "815:\tlearn: 0.0012960\ttotal: 58.5s\tremaining: 13.2s\n",
            "816:\tlearn: 0.0012956\ttotal: 58.5s\tremaining: 13.1s\n",
            "817:\tlearn: 0.0012945\ttotal: 58.6s\tremaining: 13s\n",
            "818:\tlearn: 0.0012942\ttotal: 58.7s\tremaining: 13s\n",
            "819:\tlearn: 0.0012925\ttotal: 58.8s\tremaining: 12.9s\n",
            "820:\tlearn: 0.0012899\ttotal: 58.8s\tremaining: 12.8s\n",
            "821:\tlearn: 0.0012877\ttotal: 58.9s\tremaining: 12.8s\n",
            "822:\tlearn: 0.0012851\ttotal: 59s\tremaining: 12.7s\n",
            "823:\tlearn: 0.0012830\ttotal: 59.1s\tremaining: 12.6s\n",
            "824:\tlearn: 0.0012792\ttotal: 59.1s\tremaining: 12.5s\n",
            "825:\tlearn: 0.0012774\ttotal: 59.2s\tremaining: 12.5s\n",
            "826:\tlearn: 0.0012741\ttotal: 59.3s\tremaining: 12.4s\n",
            "827:\tlearn: 0.0012740\ttotal: 59.3s\tremaining: 12.3s\n",
            "828:\tlearn: 0.0012714\ttotal: 59.4s\tremaining: 12.3s\n",
            "829:\tlearn: 0.0012701\ttotal: 59.5s\tremaining: 12.2s\n",
            "830:\tlearn: 0.0012656\ttotal: 59.6s\tremaining: 12.1s\n",
            "831:\tlearn: 0.0012639\ttotal: 59.7s\tremaining: 12s\n",
            "832:\tlearn: 0.0012628\ttotal: 59.7s\tremaining: 12s\n",
            "833:\tlearn: 0.0012608\ttotal: 59.8s\tremaining: 11.9s\n",
            "834:\tlearn: 0.0012585\ttotal: 59.9s\tremaining: 11.8s\n",
            "835:\tlearn: 0.0012551\ttotal: 60s\tremaining: 11.8s\n",
            "836:\tlearn: 0.0012543\ttotal: 1m\tremaining: 11.7s\n",
            "837:\tlearn: 0.0012520\ttotal: 1m\tremaining: 11.6s\n",
            "838:\tlearn: 0.0012487\ttotal: 1m\tremaining: 11.5s\n",
            "839:\tlearn: 0.0012435\ttotal: 1m\tremaining: 11.5s\n",
            "840:\tlearn: 0.0012423\ttotal: 1m\tremaining: 11.4s\n",
            "841:\tlearn: 0.0012419\ttotal: 1m\tremaining: 11.3s\n",
            "842:\tlearn: 0.0012407\ttotal: 1m\tremaining: 11.3s\n",
            "843:\tlearn: 0.0012396\ttotal: 1m\tremaining: 11.2s\n",
            "844:\tlearn: 0.0012375\ttotal: 1m\tremaining: 11.1s\n",
            "845:\tlearn: 0.0012348\ttotal: 1m\tremaining: 11s\n",
            "846:\tlearn: 0.0012323\ttotal: 1m\tremaining: 11s\n",
            "847:\tlearn: 0.0012319\ttotal: 1m\tremaining: 10.9s\n",
            "848:\tlearn: 0.0012296\ttotal: 1m\tremaining: 10.8s\n",
            "849:\tlearn: 0.0012287\ttotal: 1m\tremaining: 10.8s\n",
            "850:\tlearn: 0.0012263\ttotal: 1m 1s\tremaining: 10.7s\n",
            "851:\tlearn: 0.0012241\ttotal: 1m 1s\tremaining: 10.6s\n",
            "852:\tlearn: 0.0012229\ttotal: 1m 1s\tremaining: 10.5s\n",
            "853:\tlearn: 0.0012211\ttotal: 1m 1s\tremaining: 10.5s\n",
            "854:\tlearn: 0.0012166\ttotal: 1m 1s\tremaining: 10.4s\n",
            "855:\tlearn: 0.0012138\ttotal: 1m 1s\tremaining: 10.3s\n",
            "856:\tlearn: 0.0012135\ttotal: 1m 1s\tremaining: 10.3s\n",
            "857:\tlearn: 0.0012109\ttotal: 1m 1s\tremaining: 10.2s\n",
            "858:\tlearn: 0.0012109\ttotal: 1m 1s\tremaining: 10.1s\n",
            "859:\tlearn: 0.0012072\ttotal: 1m 1s\tremaining: 10s\n",
            "860:\tlearn: 0.0012061\ttotal: 1m 1s\tremaining: 9.97s\n",
            "861:\tlearn: 0.0012045\ttotal: 1m 1s\tremaining: 9.9s\n",
            "862:\tlearn: 0.0012018\ttotal: 1m 1s\tremaining: 9.83s\n",
            "863:\tlearn: 0.0011983\ttotal: 1m 1s\tremaining: 9.76s\n",
            "864:\tlearn: 0.0011976\ttotal: 1m 2s\tremaining: 9.69s\n",
            "865:\tlearn: 0.0011963\ttotal: 1m 2s\tremaining: 9.62s\n",
            "866:\tlearn: 0.0011940\ttotal: 1m 2s\tremaining: 9.54s\n",
            "867:\tlearn: 0.0011929\ttotal: 1m 2s\tremaining: 9.47s\n",
            "868:\tlearn: 0.0011896\ttotal: 1m 2s\tremaining: 9.4s\n",
            "869:\tlearn: 0.0011864\ttotal: 1m 2s\tremaining: 9.33s\n",
            "870:\tlearn: 0.0011838\ttotal: 1m 2s\tremaining: 9.26s\n",
            "871:\tlearn: 0.0011817\ttotal: 1m 2s\tremaining: 9.19s\n",
            "872:\tlearn: 0.0011805\ttotal: 1m 2s\tremaining: 9.12s\n",
            "873:\tlearn: 0.0011789\ttotal: 1m 2s\tremaining: 9.06s\n",
            "874:\tlearn: 0.0011771\ttotal: 1m 2s\tremaining: 8.99s\n",
            "875:\tlearn: 0.0011764\ttotal: 1m 2s\tremaining: 8.91s\n",
            "876:\tlearn: 0.0011747\ttotal: 1m 3s\tremaining: 8.84s\n",
            "877:\tlearn: 0.0011734\ttotal: 1m 3s\tremaining: 8.77s\n",
            "878:\tlearn: 0.0011734\ttotal: 1m 3s\tremaining: 8.7s\n",
            "879:\tlearn: 0.0011697\ttotal: 1m 3s\tremaining: 8.63s\n",
            "880:\tlearn: 0.0011681\ttotal: 1m 3s\tremaining: 8.55s\n",
            "881:\tlearn: 0.0011645\ttotal: 1m 3s\tremaining: 8.48s\n",
            "882:\tlearn: 0.0011634\ttotal: 1m 3s\tremaining: 8.41s\n",
            "883:\tlearn: 0.0011623\ttotal: 1m 3s\tremaining: 8.34s\n",
            "884:\tlearn: 0.0011606\ttotal: 1m 3s\tremaining: 8.27s\n",
            "885:\tlearn: 0.0011590\ttotal: 1m 3s\tremaining: 8.2s\n",
            "886:\tlearn: 0.0011585\ttotal: 1m 3s\tremaining: 8.13s\n",
            "887:\tlearn: 0.0011559\ttotal: 1m 3s\tremaining: 8.06s\n",
            "888:\tlearn: 0.0011525\ttotal: 1m 3s\tremaining: 7.99s\n",
            "889:\tlearn: 0.0011519\ttotal: 1m 4s\tremaining: 7.91s\n",
            "890:\tlearn: 0.0011503\ttotal: 1m 4s\tremaining: 7.84s\n",
            "891:\tlearn: 0.0011471\ttotal: 1m 4s\tremaining: 7.78s\n",
            "892:\tlearn: 0.0011458\ttotal: 1m 4s\tremaining: 7.72s\n",
            "893:\tlearn: 0.0011437\ttotal: 1m 4s\tremaining: 7.66s\n",
            "894:\tlearn: 0.0011435\ttotal: 1m 4s\tremaining: 7.59s\n",
            "895:\tlearn: 0.0011425\ttotal: 1m 4s\tremaining: 7.52s\n",
            "896:\tlearn: 0.0011383\ttotal: 1m 4s\tremaining: 7.45s\n",
            "897:\tlearn: 0.0011378\ttotal: 1m 4s\tremaining: 7.38s\n",
            "898:\tlearn: 0.0011361\ttotal: 1m 5s\tremaining: 7.31s\n",
            "899:\tlearn: 0.0011354\ttotal: 1m 5s\tremaining: 7.23s\n",
            "900:\tlearn: 0.0011345\ttotal: 1m 5s\tremaining: 7.16s\n",
            "901:\tlearn: 0.0011300\ttotal: 1m 5s\tremaining: 7.11s\n",
            "902:\tlearn: 0.0011300\ttotal: 1m 5s\tremaining: 7.05s\n",
            "903:\tlearn: 0.0011273\ttotal: 1m 5s\tremaining: 6.98s\n",
            "904:\tlearn: 0.0011266\ttotal: 1m 5s\tremaining: 6.91s\n",
            "905:\tlearn: 0.0011240\ttotal: 1m 5s\tremaining: 6.83s\n",
            "906:\tlearn: 0.0011237\ttotal: 1m 5s\tremaining: 6.76s\n",
            "907:\tlearn: 0.0011212\ttotal: 1m 6s\tremaining: 6.69s\n",
            "908:\tlearn: 0.0011199\ttotal: 1m 6s\tremaining: 6.62s\n",
            "909:\tlearn: 0.0011186\ttotal: 1m 6s\tremaining: 6.55s\n",
            "910:\tlearn: 0.0011172\ttotal: 1m 6s\tremaining: 6.49s\n",
            "911:\tlearn: 0.0011149\ttotal: 1m 6s\tremaining: 6.43s\n",
            "912:\tlearn: 0.0011137\ttotal: 1m 6s\tremaining: 6.36s\n",
            "913:\tlearn: 0.0011102\ttotal: 1m 6s\tremaining: 6.29s\n",
            "914:\tlearn: 0.0011093\ttotal: 1m 6s\tremaining: 6.21s\n",
            "915:\tlearn: 0.0011081\ttotal: 1m 6s\tremaining: 6.14s\n",
            "916:\tlearn: 0.0011072\ttotal: 1m 7s\tremaining: 6.07s\n",
            "917:\tlearn: 0.0011059\ttotal: 1m 7s\tremaining: 5.99s\n",
            "918:\tlearn: 0.0011049\ttotal: 1m 7s\tremaining: 5.92s\n",
            "919:\tlearn: 0.0011022\ttotal: 1m 7s\tremaining: 5.85s\n",
            "920:\tlearn: 0.0010976\ttotal: 1m 7s\tremaining: 5.78s\n",
            "921:\tlearn: 0.0010959\ttotal: 1m 7s\tremaining: 5.7s\n",
            "922:\tlearn: 0.0010928\ttotal: 1m 7s\tremaining: 5.63s\n",
            "923:\tlearn: 0.0010923\ttotal: 1m 7s\tremaining: 5.55s\n",
            "924:\tlearn: 0.0010901\ttotal: 1m 7s\tremaining: 5.48s\n",
            "925:\tlearn: 0.0010881\ttotal: 1m 7s\tremaining: 5.41s\n",
            "926:\tlearn: 0.0010875\ttotal: 1m 7s\tremaining: 5.33s\n",
            "927:\tlearn: 0.0010862\ttotal: 1m 7s\tremaining: 5.26s\n",
            "928:\tlearn: 0.0010846\ttotal: 1m 7s\tremaining: 5.19s\n",
            "929:\tlearn: 0.0010831\ttotal: 1m 7s\tremaining: 5.12s\n",
            "930:\tlearn: 0.0010817\ttotal: 1m 8s\tremaining: 5.04s\n",
            "931:\tlearn: 0.0010801\ttotal: 1m 8s\tremaining: 4.97s\n",
            "932:\tlearn: 0.0010790\ttotal: 1m 8s\tremaining: 4.9s\n",
            "933:\tlearn: 0.0010769\ttotal: 1m 8s\tremaining: 4.82s\n",
            "934:\tlearn: 0.0010766\ttotal: 1m 8s\tremaining: 4.75s\n",
            "935:\tlearn: 0.0010753\ttotal: 1m 8s\tremaining: 4.68s\n",
            "936:\tlearn: 0.0010738\ttotal: 1m 8s\tremaining: 4.6s\n",
            "937:\tlearn: 0.0010722\ttotal: 1m 8s\tremaining: 4.53s\n",
            "938:\tlearn: 0.0010665\ttotal: 1m 8s\tremaining: 4.46s\n",
            "939:\tlearn: 0.0010654\ttotal: 1m 8s\tremaining: 4.38s\n",
            "940:\tlearn: 0.0010630\ttotal: 1m 8s\tremaining: 4.31s\n",
            "941:\tlearn: 0.0010611\ttotal: 1m 8s\tremaining: 4.24s\n",
            "942:\tlearn: 0.0010605\ttotal: 1m 8s\tremaining: 4.17s\n",
            "943:\tlearn: 0.0010583\ttotal: 1m 9s\tremaining: 4.09s\n",
            "944:\tlearn: 0.0010533\ttotal: 1m 9s\tremaining: 4.02s\n",
            "945:\tlearn: 0.0010503\ttotal: 1m 9s\tremaining: 3.95s\n",
            "946:\tlearn: 0.0010482\ttotal: 1m 9s\tremaining: 3.88s\n",
            "947:\tlearn: 0.0010463\ttotal: 1m 9s\tremaining: 3.8s\n",
            "948:\tlearn: 0.0010461\ttotal: 1m 9s\tremaining: 3.73s\n",
            "949:\tlearn: 0.0010445\ttotal: 1m 9s\tremaining: 3.67s\n",
            "950:\tlearn: 0.0010438\ttotal: 1m 9s\tremaining: 3.6s\n",
            "951:\tlearn: 0.0010426\ttotal: 1m 9s\tremaining: 3.53s\n",
            "952:\tlearn: 0.0010419\ttotal: 1m 10s\tremaining: 3.46s\n",
            "953:\tlearn: 0.0010411\ttotal: 1m 10s\tremaining: 3.38s\n",
            "954:\tlearn: 0.0010398\ttotal: 1m 10s\tremaining: 3.31s\n",
            "955:\tlearn: 0.0010359\ttotal: 1m 10s\tremaining: 3.23s\n",
            "956:\tlearn: 0.0010354\ttotal: 1m 10s\tremaining: 3.16s\n",
            "957:\tlearn: 0.0010332\ttotal: 1m 10s\tremaining: 3.09s\n",
            "958:\tlearn: 0.0010322\ttotal: 1m 10s\tremaining: 3.01s\n",
            "959:\tlearn: 0.0010309\ttotal: 1m 10s\tremaining: 2.94s\n",
            "960:\tlearn: 0.0010302\ttotal: 1m 10s\tremaining: 2.87s\n",
            "961:\tlearn: 0.0010279\ttotal: 1m 10s\tremaining: 2.79s\n",
            "962:\tlearn: 0.0010244\ttotal: 1m 10s\tremaining: 2.72s\n",
            "963:\tlearn: 0.0010228\ttotal: 1m 10s\tremaining: 2.65s\n",
            "964:\tlearn: 0.0010202\ttotal: 1m 10s\tremaining: 2.57s\n",
            "965:\tlearn: 0.0010177\ttotal: 1m 11s\tremaining: 2.5s\n",
            "966:\tlearn: 0.0010134\ttotal: 1m 11s\tremaining: 2.43s\n",
            "967:\tlearn: 0.0010106\ttotal: 1m 11s\tremaining: 2.35s\n",
            "968:\tlearn: 0.0010090\ttotal: 1m 11s\tremaining: 2.28s\n",
            "969:\tlearn: 0.0010084\ttotal: 1m 11s\tremaining: 2.21s\n",
            "970:\tlearn: 0.0010047\ttotal: 1m 11s\tremaining: 2.13s\n",
            "971:\tlearn: 0.0010021\ttotal: 1m 11s\tremaining: 2.06s\n",
            "972:\tlearn: 0.0010012\ttotal: 1m 11s\tremaining: 1.99s\n",
            "973:\tlearn: 0.0010012\ttotal: 1m 11s\tremaining: 1.91s\n",
            "974:\tlearn: 0.0009981\ttotal: 1m 11s\tremaining: 1.84s\n",
            "975:\tlearn: 0.0009952\ttotal: 1m 11s\tremaining: 1.76s\n",
            "976:\tlearn: 0.0009943\ttotal: 1m 11s\tremaining: 1.69s\n",
            "977:\tlearn: 0.0009894\ttotal: 1m 11s\tremaining: 1.62s\n",
            "978:\tlearn: 0.0009879\ttotal: 1m 11s\tremaining: 1.54s\n",
            "979:\tlearn: 0.0009868\ttotal: 1m 12s\tremaining: 1.47s\n",
            "980:\tlearn: 0.0009865\ttotal: 1m 12s\tremaining: 1.4s\n",
            "981:\tlearn: 0.0009865\ttotal: 1m 12s\tremaining: 1.32s\n",
            "982:\tlearn: 0.0009852\ttotal: 1m 12s\tremaining: 1.25s\n",
            "983:\tlearn: 0.0009840\ttotal: 1m 12s\tremaining: 1.18s\n",
            "984:\tlearn: 0.0009829\ttotal: 1m 12s\tremaining: 1.1s\n",
            "985:\tlearn: 0.0009818\ttotal: 1m 12s\tremaining: 1.03s\n",
            "986:\tlearn: 0.0009816\ttotal: 1m 12s\tremaining: 956ms\n",
            "987:\tlearn: 0.0009772\ttotal: 1m 12s\tremaining: 883ms\n",
            "988:\tlearn: 0.0009767\ttotal: 1m 12s\tremaining: 809ms\n",
            "989:\tlearn: 0.0009753\ttotal: 1m 12s\tremaining: 735ms\n",
            "990:\tlearn: 0.0009738\ttotal: 1m 12s\tremaining: 662ms\n",
            "991:\tlearn: 0.0009724\ttotal: 1m 12s\tremaining: 588ms\n",
            "992:\tlearn: 0.0009710\ttotal: 1m 13s\tremaining: 515ms\n",
            "993:\tlearn: 0.0009707\ttotal: 1m 13s\tremaining: 441ms\n",
            "994:\tlearn: 0.0009692\ttotal: 1m 13s\tremaining: 368ms\n",
            "995:\tlearn: 0.0009687\ttotal: 1m 13s\tremaining: 294ms\n",
            "996:\tlearn: 0.0009677\ttotal: 1m 13s\tremaining: 221ms\n",
            "997:\tlearn: 0.0009666\ttotal: 1m 13s\tremaining: 147ms\n",
            "998:\tlearn: 0.0009651\ttotal: 1m 13s\tremaining: 73.6ms\n",
            "999:\tlearn: 0.0009650\ttotal: 1m 13s\tremaining: 0us\n",
            "              precision    recall  f1-score   support\n",
            "\n",
            "           0       1.00      1.00      1.00    318781\n",
            "           1       0.98      0.67      0.80       564\n",
            "\n",
            "    accuracy                           1.00    319345\n",
            "   macro avg       0.99      0.84      0.90    319345\n",
            "weighted avg       1.00      1.00      1.00    319345\n",
            "\n"
          ]
        }
      ]
    },
    {
      "cell_type": "code",
      "source": [
        "from sklearn.metrics import f1_score,roc_auc_score\n",
        "print(f1_score(y_test, y_pred)) \n",
        "print(roc_auc_score(y_test, y_pred))"
      ],
      "metadata": {
        "colab": {
          "base_uri": "https://localhost:8080/"
        },
        "id": "MDgvcu36vvY9",
        "outputId": "cc3a38be-31aa-478e-e9f5-03b756f9f851"
      },
      "execution_count": 44,
      "outputs": [
        {
          "output_type": "stream",
          "name": "stdout",
          "text": [
            "0.7978947368421052\n",
            "0.8359819284770547\n"
          ]
        }
      ]
    },
    {
      "cell_type": "code",
      "source": [
        "X_test2 = df[df['Year'] >= 2007].drop(['Is Fraud?'],axis=1)\n",
        "y_test2 = df[df['Year'] >= 2007]['Is Fraud?']"
      ],
      "metadata": {
        "id": "cI6i5PvTJAoM"
      },
      "execution_count": 45,
      "outputs": []
    },
    {
      "cell_type": "code",
      "source": [
        "X_test2"
      ],
      "metadata": {
        "id": "uLEr-2akJJc1",
        "outputId": "936d1066-008f-4ea7-e36c-915be5abc181",
        "colab": {
          "base_uri": "https://localhost:8080/",
          "height": 505
        }
      },
      "execution_count": 46,
      "outputs": [
        {
          "output_type": "execute_result",
          "data": {
            "text/plain": [
              "          User  Card  Year  Month  Day  Amount  Use Chip        Merchant Name  \\\n",
              "1619         0     0  2007      1    1  146.32         0  2027553650310142703   \n",
              "7247         0     2  2007      1    1  115.50         0 -4036697752531026796   \n",
              "12720        0     3  2007      1    1  123.28         0  6042526206085641250   \n",
              "12721        0     3  2007      1    1   84.38         0  2027553650310142703   \n",
              "12722        0     3  2007      1    1   77.54         0   486979357790570231   \n",
              "...        ...   ...   ...    ...  ...     ...       ...                  ...   \n",
              "24357916  1997     0  2020      2   28   16.94         1  7035602569409149834   \n",
              "24376356  1997     2  2020      2   28   42.45         1 -7421093378627544099   \n",
              "24386897  1999     1  2020      2   28   59.15         2  2500998799892805156   \n",
              "24386898  1999     1  2020      2   28   43.12         2  2500998799892805156   \n",
              "24386899  1999     1  2020      2   28   45.13         2  4751695835751691036   \n",
              "\n",
              "          Merchant City  Merchant State           Zip   MCC  Errors?  \\\n",
              "1619              10841             217  98148.000000  5541     True   \n",
              "7247              10841             217  98148.000000  5300     True   \n",
              "12720             10841             217  98155.000000  5912     True   \n",
              "12721             10841             217  98148.000000  5541    False   \n",
              "12722             10841             217  98148.000000  5812     True   \n",
              "...                 ...             ...           ...   ...      ...   \n",
              "24357916           8656             131  50956.442115  5311     True   \n",
              "24376356           8656             131  50956.442115  5311     True   \n",
              "24386897           7555             135   3054.000000  4121     True   \n",
              "24386898           7555             135   3054.000000  4121     True   \n",
              "24386899           7555             135   3054.000000  5814     True   \n",
              "\n",
              "          is online  Hour  Minutes  is vozmes  abs_amount  \n",
              "1619          False     6       48      False      146.32  \n",
              "7247          False     5       50      False      115.50  \n",
              "12720         False     6       17      False      123.28  \n",
              "12721         False     6       34      False       84.38  \n",
              "12722         False    19       32      False       77.54  \n",
              "...             ...   ...      ...        ...         ...  \n",
              "24357916       True    12       33      False       16.94  \n",
              "24376356       True     7       24      False       42.45  \n",
              "24386897      False     7       43      False       59.15  \n",
              "24386898      False    20       10      False       43.12  \n",
              "24386899      False    23       10      False       45.13  \n",
              "\n",
              "[20554950 rows x 18 columns]"
            ],
            "text/html": [
              "\n",
              "  <div id=\"df-1ea3dcbf-ba38-48e7-860d-091b364c2d0b\">\n",
              "    <div class=\"colab-df-container\">\n",
              "      <div>\n",
              "<style scoped>\n",
              "    .dataframe tbody tr th:only-of-type {\n",
              "        vertical-align: middle;\n",
              "    }\n",
              "\n",
              "    .dataframe tbody tr th {\n",
              "        vertical-align: top;\n",
              "    }\n",
              "\n",
              "    .dataframe thead th {\n",
              "        text-align: right;\n",
              "    }\n",
              "</style>\n",
              "<table border=\"1\" class=\"dataframe\">\n",
              "  <thead>\n",
              "    <tr style=\"text-align: right;\">\n",
              "      <th></th>\n",
              "      <th>User</th>\n",
              "      <th>Card</th>\n",
              "      <th>Year</th>\n",
              "      <th>Month</th>\n",
              "      <th>Day</th>\n",
              "      <th>Amount</th>\n",
              "      <th>Use Chip</th>\n",
              "      <th>Merchant Name</th>\n",
              "      <th>Merchant City</th>\n",
              "      <th>Merchant State</th>\n",
              "      <th>Zip</th>\n",
              "      <th>MCC</th>\n",
              "      <th>Errors?</th>\n",
              "      <th>is online</th>\n",
              "      <th>Hour</th>\n",
              "      <th>Minutes</th>\n",
              "      <th>is vozmes</th>\n",
              "      <th>abs_amount</th>\n",
              "    </tr>\n",
              "  </thead>\n",
              "  <tbody>\n",
              "    <tr>\n",
              "      <th>1619</th>\n",
              "      <td>0</td>\n",
              "      <td>0</td>\n",
              "      <td>2007</td>\n",
              "      <td>1</td>\n",
              "      <td>1</td>\n",
              "      <td>146.32</td>\n",
              "      <td>0</td>\n",
              "      <td>2027553650310142703</td>\n",
              "      <td>10841</td>\n",
              "      <td>217</td>\n",
              "      <td>98148.000000</td>\n",
              "      <td>5541</td>\n",
              "      <td>True</td>\n",
              "      <td>False</td>\n",
              "      <td>6</td>\n",
              "      <td>48</td>\n",
              "      <td>False</td>\n",
              "      <td>146.32</td>\n",
              "    </tr>\n",
              "    <tr>\n",
              "      <th>7247</th>\n",
              "      <td>0</td>\n",
              "      <td>2</td>\n",
              "      <td>2007</td>\n",
              "      <td>1</td>\n",
              "      <td>1</td>\n",
              "      <td>115.50</td>\n",
              "      <td>0</td>\n",
              "      <td>-4036697752531026796</td>\n",
              "      <td>10841</td>\n",
              "      <td>217</td>\n",
              "      <td>98148.000000</td>\n",
              "      <td>5300</td>\n",
              "      <td>True</td>\n",
              "      <td>False</td>\n",
              "      <td>5</td>\n",
              "      <td>50</td>\n",
              "      <td>False</td>\n",
              "      <td>115.50</td>\n",
              "    </tr>\n",
              "    <tr>\n",
              "      <th>12720</th>\n",
              "      <td>0</td>\n",
              "      <td>3</td>\n",
              "      <td>2007</td>\n",
              "      <td>1</td>\n",
              "      <td>1</td>\n",
              "      <td>123.28</td>\n",
              "      <td>0</td>\n",
              "      <td>6042526206085641250</td>\n",
              "      <td>10841</td>\n",
              "      <td>217</td>\n",
              "      <td>98155.000000</td>\n",
              "      <td>5912</td>\n",
              "      <td>True</td>\n",
              "      <td>False</td>\n",
              "      <td>6</td>\n",
              "      <td>17</td>\n",
              "      <td>False</td>\n",
              "      <td>123.28</td>\n",
              "    </tr>\n",
              "    <tr>\n",
              "      <th>12721</th>\n",
              "      <td>0</td>\n",
              "      <td>3</td>\n",
              "      <td>2007</td>\n",
              "      <td>1</td>\n",
              "      <td>1</td>\n",
              "      <td>84.38</td>\n",
              "      <td>0</td>\n",
              "      <td>2027553650310142703</td>\n",
              "      <td>10841</td>\n",
              "      <td>217</td>\n",
              "      <td>98148.000000</td>\n",
              "      <td>5541</td>\n",
              "      <td>False</td>\n",
              "      <td>False</td>\n",
              "      <td>6</td>\n",
              "      <td>34</td>\n",
              "      <td>False</td>\n",
              "      <td>84.38</td>\n",
              "    </tr>\n",
              "    <tr>\n",
              "      <th>12722</th>\n",
              "      <td>0</td>\n",
              "      <td>3</td>\n",
              "      <td>2007</td>\n",
              "      <td>1</td>\n",
              "      <td>1</td>\n",
              "      <td>77.54</td>\n",
              "      <td>0</td>\n",
              "      <td>486979357790570231</td>\n",
              "      <td>10841</td>\n",
              "      <td>217</td>\n",
              "      <td>98148.000000</td>\n",
              "      <td>5812</td>\n",
              "      <td>True</td>\n",
              "      <td>False</td>\n",
              "      <td>19</td>\n",
              "      <td>32</td>\n",
              "      <td>False</td>\n",
              "      <td>77.54</td>\n",
              "    </tr>\n",
              "    <tr>\n",
              "      <th>...</th>\n",
              "      <td>...</td>\n",
              "      <td>...</td>\n",
              "      <td>...</td>\n",
              "      <td>...</td>\n",
              "      <td>...</td>\n",
              "      <td>...</td>\n",
              "      <td>...</td>\n",
              "      <td>...</td>\n",
              "      <td>...</td>\n",
              "      <td>...</td>\n",
              "      <td>...</td>\n",
              "      <td>...</td>\n",
              "      <td>...</td>\n",
              "      <td>...</td>\n",
              "      <td>...</td>\n",
              "      <td>...</td>\n",
              "      <td>...</td>\n",
              "      <td>...</td>\n",
              "    </tr>\n",
              "    <tr>\n",
              "      <th>24357916</th>\n",
              "      <td>1997</td>\n",
              "      <td>0</td>\n",
              "      <td>2020</td>\n",
              "      <td>2</td>\n",
              "      <td>28</td>\n",
              "      <td>16.94</td>\n",
              "      <td>1</td>\n",
              "      <td>7035602569409149834</td>\n",
              "      <td>8656</td>\n",
              "      <td>131</td>\n",
              "      <td>50956.442115</td>\n",
              "      <td>5311</td>\n",
              "      <td>True</td>\n",
              "      <td>True</td>\n",
              "      <td>12</td>\n",
              "      <td>33</td>\n",
              "      <td>False</td>\n",
              "      <td>16.94</td>\n",
              "    </tr>\n",
              "    <tr>\n",
              "      <th>24376356</th>\n",
              "      <td>1997</td>\n",
              "      <td>2</td>\n",
              "      <td>2020</td>\n",
              "      <td>2</td>\n",
              "      <td>28</td>\n",
              "      <td>42.45</td>\n",
              "      <td>1</td>\n",
              "      <td>-7421093378627544099</td>\n",
              "      <td>8656</td>\n",
              "      <td>131</td>\n",
              "      <td>50956.442115</td>\n",
              "      <td>5311</td>\n",
              "      <td>True</td>\n",
              "      <td>True</td>\n",
              "      <td>7</td>\n",
              "      <td>24</td>\n",
              "      <td>False</td>\n",
              "      <td>42.45</td>\n",
              "    </tr>\n",
              "    <tr>\n",
              "      <th>24386897</th>\n",
              "      <td>1999</td>\n",
              "      <td>1</td>\n",
              "      <td>2020</td>\n",
              "      <td>2</td>\n",
              "      <td>28</td>\n",
              "      <td>59.15</td>\n",
              "      <td>2</td>\n",
              "      <td>2500998799892805156</td>\n",
              "      <td>7555</td>\n",
              "      <td>135</td>\n",
              "      <td>3054.000000</td>\n",
              "      <td>4121</td>\n",
              "      <td>True</td>\n",
              "      <td>False</td>\n",
              "      <td>7</td>\n",
              "      <td>43</td>\n",
              "      <td>False</td>\n",
              "      <td>59.15</td>\n",
              "    </tr>\n",
              "    <tr>\n",
              "      <th>24386898</th>\n",
              "      <td>1999</td>\n",
              "      <td>1</td>\n",
              "      <td>2020</td>\n",
              "      <td>2</td>\n",
              "      <td>28</td>\n",
              "      <td>43.12</td>\n",
              "      <td>2</td>\n",
              "      <td>2500998799892805156</td>\n",
              "      <td>7555</td>\n",
              "      <td>135</td>\n",
              "      <td>3054.000000</td>\n",
              "      <td>4121</td>\n",
              "      <td>True</td>\n",
              "      <td>False</td>\n",
              "      <td>20</td>\n",
              "      <td>10</td>\n",
              "      <td>False</td>\n",
              "      <td>43.12</td>\n",
              "    </tr>\n",
              "    <tr>\n",
              "      <th>24386899</th>\n",
              "      <td>1999</td>\n",
              "      <td>1</td>\n",
              "      <td>2020</td>\n",
              "      <td>2</td>\n",
              "      <td>28</td>\n",
              "      <td>45.13</td>\n",
              "      <td>2</td>\n",
              "      <td>4751695835751691036</td>\n",
              "      <td>7555</td>\n",
              "      <td>135</td>\n",
              "      <td>3054.000000</td>\n",
              "      <td>5814</td>\n",
              "      <td>True</td>\n",
              "      <td>False</td>\n",
              "      <td>23</td>\n",
              "      <td>10</td>\n",
              "      <td>False</td>\n",
              "      <td>45.13</td>\n",
              "    </tr>\n",
              "  </tbody>\n",
              "</table>\n",
              "<p>20554950 rows × 18 columns</p>\n",
              "</div>\n",
              "      <button class=\"colab-df-convert\" onclick=\"convertToInteractive('df-1ea3dcbf-ba38-48e7-860d-091b364c2d0b')\"\n",
              "              title=\"Convert this dataframe to an interactive table.\"\n",
              "              style=\"display:none;\">\n",
              "        \n",
              "  <svg xmlns=\"http://www.w3.org/2000/svg\" height=\"24px\"viewBox=\"0 0 24 24\"\n",
              "       width=\"24px\">\n",
              "    <path d=\"M0 0h24v24H0V0z\" fill=\"none\"/>\n",
              "    <path d=\"M18.56 5.44l.94 2.06.94-2.06 2.06-.94-2.06-.94-.94-2.06-.94 2.06-2.06.94zm-11 1L8.5 8.5l.94-2.06 2.06-.94-2.06-.94L8.5 2.5l-.94 2.06-2.06.94zm10 10l.94 2.06.94-2.06 2.06-.94-2.06-.94-.94-2.06-.94 2.06-2.06.94z\"/><path d=\"M17.41 7.96l-1.37-1.37c-.4-.4-.92-.59-1.43-.59-.52 0-1.04.2-1.43.59L10.3 9.45l-7.72 7.72c-.78.78-.78 2.05 0 2.83L4 21.41c.39.39.9.59 1.41.59.51 0 1.02-.2 1.41-.59l7.78-7.78 2.81-2.81c.8-.78.8-2.07 0-2.86zM5.41 20L4 18.59l7.72-7.72 1.47 1.35L5.41 20z\"/>\n",
              "  </svg>\n",
              "      </button>\n",
              "      \n",
              "  <style>\n",
              "    .colab-df-container {\n",
              "      display:flex;\n",
              "      flex-wrap:wrap;\n",
              "      gap: 12px;\n",
              "    }\n",
              "\n",
              "    .colab-df-convert {\n",
              "      background-color: #E8F0FE;\n",
              "      border: none;\n",
              "      border-radius: 50%;\n",
              "      cursor: pointer;\n",
              "      display: none;\n",
              "      fill: #1967D2;\n",
              "      height: 32px;\n",
              "      padding: 0 0 0 0;\n",
              "      width: 32px;\n",
              "    }\n",
              "\n",
              "    .colab-df-convert:hover {\n",
              "      background-color: #E2EBFA;\n",
              "      box-shadow: 0px 1px 2px rgba(60, 64, 67, 0.3), 0px 1px 3px 1px rgba(60, 64, 67, 0.15);\n",
              "      fill: #174EA6;\n",
              "    }\n",
              "\n",
              "    [theme=dark] .colab-df-convert {\n",
              "      background-color: #3B4455;\n",
              "      fill: #D2E3FC;\n",
              "    }\n",
              "\n",
              "    [theme=dark] .colab-df-convert:hover {\n",
              "      background-color: #434B5C;\n",
              "      box-shadow: 0px 1px 3px 1px rgba(0, 0, 0, 0.15);\n",
              "      filter: drop-shadow(0px 1px 2px rgba(0, 0, 0, 0.3));\n",
              "      fill: #FFFFFF;\n",
              "    }\n",
              "  </style>\n",
              "\n",
              "      <script>\n",
              "        const buttonEl =\n",
              "          document.querySelector('#df-1ea3dcbf-ba38-48e7-860d-091b364c2d0b button.colab-df-convert');\n",
              "        buttonEl.style.display =\n",
              "          google.colab.kernel.accessAllowed ? 'block' : 'none';\n",
              "\n",
              "        async function convertToInteractive(key) {\n",
              "          const element = document.querySelector('#df-1ea3dcbf-ba38-48e7-860d-091b364c2d0b');\n",
              "          const dataTable =\n",
              "            await google.colab.kernel.invokeFunction('convertToInteractive',\n",
              "                                                     [key], {});\n",
              "          if (!dataTable) return;\n",
              "\n",
              "          const docLinkHtml = 'Like what you see? Visit the ' +\n",
              "            '<a target=\"_blank\" href=https://colab.research.google.com/notebooks/data_table.ipynb>data table notebook</a>'\n",
              "            + ' to learn more about interactive tables.';\n",
              "          element.innerHTML = '';\n",
              "          dataTable['output_type'] = 'display_data';\n",
              "          await google.colab.output.renderOutput(dataTable, element);\n",
              "          const docLink = document.createElement('div');\n",
              "          docLink.innerHTML = docLinkHtml;\n",
              "          element.appendChild(docLink);\n",
              "        }\n",
              "      </script>\n",
              "    </div>\n",
              "  </div>\n",
              "  "
            ]
          },
          "metadata": {},
          "execution_count": 46
        }
      ]
    },
    {
      "cell_type": "code",
      "source": [
        "X_test2.iloc[0:1000].Year"
      ],
      "metadata": {
        "id": "SlHf3jSVKecN",
        "outputId": "3e67d8ef-4498-45db-ab5d-b5734571e137",
        "colab": {
          "base_uri": "https://localhost:8080/"
        }
      },
      "execution_count": 47,
      "outputs": [
        {
          "output_type": "execute_result",
          "data": {
            "text/plain": [
              "1619       2007\n",
              "7247       2007\n",
              "12720      2007\n",
              "12721      2007\n",
              "12722      2007\n",
              "           ... \n",
              "8646125    2007\n",
              "8666069    2007\n",
              "8666070    2007\n",
              "8680483    2007\n",
              "8680484    2007\n",
              "Name: Year, Length: 1000, dtype: int64"
            ]
          },
          "metadata": {},
          "execution_count": 47
        }
      ]
    },
    {
      "cell_type": "code",
      "source": [
        "import math\n",
        "f1s = []\n",
        "window_size = 200000\n",
        "step = 10000\n",
        "batch = math.ceil((X_test2.shape[0]-window_size)/step)\n",
        "for i in range(batch):\n",
        "    ux = X_test2[i*step:i*step+window_size]\n",
        "    uy = y_test2[i*step:i*step+window_size]\n",
        "    y_pred=cat.predict(ux)\n",
        "    #ppy = [1 if m=='No' else 0 for m in y_pred]   \n",
        "    f1 = f1_score(uy, y_pred) #precision_recall_fscore_support([1 if m=='No' else 0 for m in uy], ppy,average='binary')\n",
        "    print(f\"p:{f1:.4f} {ux.iloc[-1].Year}\\n{uy.value_counts()}\")\n",
        "    f1s.append(f1)"
      ],
      "metadata": {
        "id": "ACDNKzk1JPRp",
        "outputId": "75ddc6e8-5a84-428d-fe69-99bfed1993ec",
        "colab": {
          "base_uri": "https://localhost:8080/"
        }
      },
      "execution_count": 50,
      "outputs": [
        {
          "output_type": "stream",
          "name": "stdout",
          "text": [
            "\u001b[1;30;43m스트리밍 출력 내용이 길어서 마지막 5000줄이 삭제되었습니다.\u001b[0m\n",
            "Name: Is Fraud?, dtype: int64\n",
            "p:0.4744 2012\n",
            "0    199724\n",
            "1       276\n",
            "Name: Is Fraud?, dtype: int64\n",
            "p:0.4841 2012\n",
            "0    199743\n",
            "1       257\n",
            "Name: Is Fraud?, dtype: int64\n",
            "p:0.4870 2012\n",
            "0    199746\n",
            "1       254\n",
            "Name: Is Fraud?, dtype: int64\n",
            "p:0.4973 2012\n",
            "0    199729\n",
            "1       271\n",
            "Name: Is Fraud?, dtype: int64\n",
            "p:0.5152 2012\n",
            "0    199742\n",
            "1       258\n",
            "Name: Is Fraud?, dtype: int64\n",
            "p:0.5196 2012\n",
            "0    199745\n",
            "1       255\n",
            "Name: Is Fraud?, dtype: int64\n",
            "p:0.5421 2012\n",
            "0    199730\n",
            "1       270\n",
            "Name: Is Fraud?, dtype: int64\n",
            "p:0.5583 2012\n",
            "0    199743\n",
            "1       257\n",
            "Name: Is Fraud?, dtype: int64\n",
            "p:0.5876 2012\n",
            "0    199745\n",
            "1       255\n",
            "Name: Is Fraud?, dtype: int64\n",
            "p:0.5904 2012\n",
            "0    199742\n",
            "1       258\n",
            "Name: Is Fraud?, dtype: int64\n",
            "p:0.6154 2012\n",
            "0    199755\n",
            "1       245\n",
            "Name: Is Fraud?, dtype: int64\n",
            "p:0.5983 2012\n",
            "0    199756\n",
            "1       244\n",
            "Name: Is Fraud?, dtype: int64\n",
            "p:0.5902 2012\n",
            "0    199751\n",
            "1       249\n",
            "Name: Is Fraud?, dtype: int64\n",
            "p:0.5862 2012\n",
            "0    199763\n",
            "1       237\n",
            "Name: Is Fraud?, dtype: int64\n",
            "p:0.5879 2012\n",
            "0    199764\n",
            "1       236\n",
            "Name: Is Fraud?, dtype: int64\n",
            "p:0.5836 2012\n",
            "0    199760\n",
            "1       240\n",
            "Name: Is Fraud?, dtype: int64\n",
            "p:0.5851 2012\n",
            "0    199773\n",
            "1       227\n",
            "Name: Is Fraud?, dtype: int64\n",
            "p:0.5988 2012\n",
            "0    199769\n",
            "1       231\n",
            "Name: Is Fraud?, dtype: int64\n",
            "p:0.6102 2012\n",
            "0    199764\n",
            "1       236\n",
            "Name: Is Fraud?, dtype: int64\n",
            "p:0.5889 2012\n",
            "0    199769\n",
            "1       231\n",
            "Name: Is Fraud?, dtype: int64\n",
            "p:0.5756 2012\n",
            "0    199767\n",
            "1       233\n",
            "Name: Is Fraud?, dtype: int64\n",
            "p:0.6006 2012\n",
            "0    199758\n",
            "1       242\n",
            "Name: Is Fraud?, dtype: int64\n",
            "p:0.6011 2012\n",
            "0    199748\n",
            "1       252\n",
            "Name: Is Fraud?, dtype: int64\n",
            "p:0.5912 2012\n",
            "0    199753\n",
            "1       247\n",
            "Name: Is Fraud?, dtype: int64\n",
            "p:0.5892 2012\n",
            "0    199747\n",
            "1       253\n",
            "Name: Is Fraud?, dtype: int64\n",
            "p:0.5942 2012\n",
            "0    199743\n",
            "1       257\n",
            "Name: Is Fraud?, dtype: int64\n",
            "p:0.5791 2012\n",
            "0    199743\n",
            "1       257\n",
            "Name: Is Fraud?, dtype: int64\n",
            "p:0.5743 2012\n",
            "0    199723\n",
            "1       277\n",
            "Name: Is Fraud?, dtype: int64\n",
            "p:0.5693 2012\n",
            "0    199722\n",
            "1       278\n",
            "Name: Is Fraud?, dtype: int64\n",
            "p:0.5728 2012\n",
            "0    199717\n",
            "1       283\n",
            "Name: Is Fraud?, dtype: int64\n",
            "p:0.5721 2012\n",
            "0    199720\n",
            "1       280\n",
            "Name: Is Fraud?, dtype: int64\n",
            "p:0.5631 2012\n",
            "0    199721\n",
            "1       279\n",
            "Name: Is Fraud?, dtype: int64\n",
            "p:0.5625 2012\n",
            "0    199722\n",
            "1       278\n",
            "Name: Is Fraud?, dtype: int64\n",
            "p:0.5594 2012\n",
            "0    199713\n",
            "1       287\n",
            "Name: Is Fraud?, dtype: int64\n",
            "p:0.5550 2012\n",
            "0    199708\n",
            "1       292\n",
            "Name: Is Fraud?, dtype: int64\n",
            "p:0.5669 2012\n",
            "0    199708\n",
            "1       292\n",
            "Name: Is Fraud?, dtype: int64\n",
            "p:0.5720 2012\n",
            "0    199694\n",
            "1       306\n",
            "Name: Is Fraud?, dtype: int64\n",
            "p:0.5649 2012\n",
            "0    199711\n",
            "1       289\n",
            "Name: Is Fraud?, dtype: int64\n",
            "p:0.5493 2012\n",
            "0    199718\n",
            "1       282\n",
            "Name: Is Fraud?, dtype: int64\n",
            "p:0.5734 2012\n",
            "0    199715\n",
            "1       285\n",
            "Name: Is Fraud?, dtype: int64\n",
            "p:0.5872 2012\n",
            "0    199717\n",
            "1       283\n",
            "Name: Is Fraud?, dtype: int64\n",
            "p:0.5899 2012\n",
            "0    199719\n",
            "1       281\n",
            "Name: Is Fraud?, dtype: int64\n",
            "p:0.5943 2012\n",
            "0    199727\n",
            "1       273\n",
            "Name: Is Fraud?, dtype: int64\n",
            "p:0.6132 2012\n",
            "0    199731\n",
            "1       269\n",
            "Name: Is Fraud?, dtype: int64\n",
            "p:0.6184 2012\n",
            "0    199739\n",
            "1       261\n",
            "Name: Is Fraud?, dtype: int64\n",
            "p:0.6143 2012\n",
            "0    199743\n",
            "1       257\n",
            "Name: Is Fraud?, dtype: int64\n",
            "p:0.6142 2012\n",
            "0    199753\n",
            "1       247\n",
            "Name: Is Fraud?, dtype: int64\n",
            "p:0.6263 2012\n",
            "0    199765\n",
            "1       235\n",
            "Name: Is Fraud?, dtype: int64\n",
            "p:0.6193 2012\n",
            "0    199754\n",
            "1       246\n",
            "Name: Is Fraud?, dtype: int64\n",
            "p:0.6130 2012\n",
            "0    199759\n",
            "1       241\n",
            "Name: Is Fraud?, dtype: int64\n",
            "p:0.6126 2012\n",
            "0    199760\n",
            "1       240\n",
            "Name: Is Fraud?, dtype: int64\n",
            "p:0.6227 2012\n",
            "0    199752\n",
            "1       248\n",
            "Name: Is Fraud?, dtype: int64\n",
            "p:0.6263 2012\n",
            "0    199749\n",
            "1       251\n",
            "Name: Is Fraud?, dtype: int64\n",
            "p:0.6324 2012\n",
            "0    199756\n",
            "1       244\n",
            "Name: Is Fraud?, dtype: int64\n",
            "p:0.6366 2012\n",
            "0    199766\n",
            "1       234\n",
            "Name: Is Fraud?, dtype: int64\n",
            "p:0.6331 2012\n",
            "0    199763\n",
            "1       237\n",
            "Name: Is Fraud?, dtype: int64\n",
            "p:0.6486 2012\n",
            "0    199755\n",
            "1       245\n",
            "Name: Is Fraud?, dtype: int64\n",
            "p:0.6557 2012\n",
            "0    199760\n",
            "1       240\n",
            "Name: Is Fraud?, dtype: int64\n",
            "p:0.6631 2012\n",
            "0    199757\n",
            "1       243\n",
            "Name: Is Fraud?, dtype: int64\n",
            "p:0.6540 2012\n",
            "0    199758\n",
            "1       242\n",
            "Name: Is Fraud?, dtype: int64\n",
            "p:0.6575 2012\n",
            "0    199763\n",
            "1       237\n",
            "Name: Is Fraud?, dtype: int64\n",
            "p:0.6416 2012\n",
            "0    199772\n",
            "1       228\n",
            "Name: Is Fraud?, dtype: int64\n",
            "p:0.6337 2012\n",
            "0    199773\n",
            "1       227\n",
            "Name: Is Fraud?, dtype: int64\n",
            "p:0.6254 2012\n",
            "0    199775\n",
            "1       225\n",
            "Name: Is Fraud?, dtype: int64\n",
            "p:0.6438 2012\n",
            "0    199751\n",
            "1       249\n",
            "Name: Is Fraud?, dtype: int64\n",
            "p:0.6531 2012\n",
            "0    199744\n",
            "1       256\n",
            "Name: Is Fraud?, dtype: int64\n",
            "p:0.6667 2012\n",
            "0    199741\n",
            "1       259\n",
            "Name: Is Fraud?, dtype: int64\n",
            "p:0.6584 2012\n",
            "0    199737\n",
            "1       263\n",
            "Name: Is Fraud?, dtype: int64\n",
            "p:0.6617 2012\n",
            "0    199740\n",
            "1       260\n",
            "Name: Is Fraud?, dtype: int64\n",
            "p:0.6635 2012\n",
            "0    199725\n",
            "1       275\n",
            "Name: Is Fraud?, dtype: int64\n",
            "p:0.6622 2012\n",
            "0    199709\n",
            "1       291\n",
            "Name: Is Fraud?, dtype: int64\n",
            "p:0.6761 2012\n",
            "0    199732\n",
            "1       268\n",
            "Name: Is Fraud?, dtype: int64\n",
            "p:0.6835 2012\n",
            "0    199751\n",
            "1       249\n",
            "Name: Is Fraud?, dtype: int64\n",
            "p:0.6873 2012\n",
            "0    199756\n",
            "1       244\n",
            "Name: Is Fraud?, dtype: int64\n",
            "p:0.6891 2012\n",
            "0    199757\n",
            "1       243\n",
            "Name: Is Fraud?, dtype: int64\n",
            "p:0.6906 2012\n",
            "0    199772\n",
            "1       228\n",
            "Name: Is Fraud?, dtype: int64\n",
            "p:0.6773 2012\n",
            "0    199802\n",
            "1       198\n",
            "Name: Is Fraud?, dtype: int64\n",
            "p:0.6753 2012\n",
            "0    199805\n",
            "1       195\n",
            "Name: Is Fraud?, dtype: int64\n",
            "p:0.6780 2012\n",
            "0    199814\n",
            "1       186\n",
            "Name: Is Fraud?, dtype: int64\n",
            "p:0.6764 2012\n",
            "0    199828\n",
            "1       172\n",
            "Name: Is Fraud?, dtype: int64\n",
            "p:0.6590 2012\n",
            "0    199836\n",
            "1       164\n",
            "Name: Is Fraud?, dtype: int64\n",
            "p:0.6561 2012\n",
            "0    199841\n",
            "1       159\n",
            "Name: Is Fraud?, dtype: int64\n",
            "p:0.6612 2012\n",
            "0    199849\n",
            "1       151\n",
            "Name: Is Fraud?, dtype: int64\n",
            "p:0.6609 2012\n",
            "0    199857\n",
            "1       143\n",
            "Name: Is Fraud?, dtype: int64\n",
            "p:0.6211 2012\n",
            "0    199882\n",
            "1       118\n",
            "Name: Is Fraud?, dtype: int64\n",
            "p:0.5976 2012\n",
            "0    199898\n",
            "1       102\n",
            "Name: Is Fraud?, dtype: int64\n",
            "p:0.5753 2012\n",
            "0    199910\n",
            "1        90\n",
            "Name: Is Fraud?, dtype: int64\n",
            "p:0.5902 2012\n",
            "0    199927\n",
            "1        73\n",
            "Name: Is Fraud?, dtype: int64\n",
            "p:0.5833 2012\n",
            "0    199945\n",
            "1        55\n",
            "Name: Is Fraud?, dtype: int64\n",
            "p:0.5574 2012\n",
            "0    199969\n",
            "1        31\n",
            "Name: Is Fraud?, dtype: int64\n",
            "p:0.4000 2012\n",
            "0    199996\n",
            "1         4\n",
            "Name: Is Fraud?, dtype: int64\n",
            "p:0.2857 2012\n",
            "0    199998\n",
            "1         2\n",
            "Name: Is Fraud?, dtype: int64\n",
            "p:0.2857 2012\n",
            "0    199998\n",
            "1         2\n",
            "Name: Is Fraud?, dtype: int64\n",
            "p:0.0000 2012\n",
            "0    200000\n",
            "Name: Is Fraud?, dtype: int64\n",
            "p:0.0000 2012\n",
            "0    200000\n",
            "Name: Is Fraud?, dtype: int64\n",
            "p:0.0000 2012\n",
            "0    200000\n",
            "Name: Is Fraud?, dtype: int64\n",
            "p:0.0000 2012\n",
            "0    200000\n",
            "Name: Is Fraud?, dtype: int64\n",
            "p:0.0000 2012\n",
            "0    200000\n",
            "Name: Is Fraud?, dtype: int64\n",
            "p:0.0000 2012\n",
            "0    200000\n",
            "Name: Is Fraud?, dtype: int64\n",
            "p:0.0000 2012\n",
            "0    200000\n",
            "Name: Is Fraud?, dtype: int64\n",
            "p:0.0000 2012\n",
            "0    200000\n",
            "Name: Is Fraud?, dtype: int64\n",
            "p:0.0000 2012\n",
            "0    200000\n",
            "Name: Is Fraud?, dtype: int64\n",
            "p:0.0000 2012\n",
            "0    200000\n",
            "Name: Is Fraud?, dtype: int64\n",
            "p:0.0000 2012\n",
            "0    200000\n",
            "Name: Is Fraud?, dtype: int64\n",
            "p:0.0000 2012\n",
            "0    200000\n",
            "Name: Is Fraud?, dtype: int64\n",
            "p:0.0000 2012\n",
            "0    200000\n",
            "Name: Is Fraud?, dtype: int64\n",
            "p:0.0000 2012\n",
            "0    200000\n",
            "Name: Is Fraud?, dtype: int64\n",
            "p:0.0000 2012\n",
            "0    200000\n",
            "Name: Is Fraud?, dtype: int64\n",
            "p:0.0000 2012\n",
            "0    200000\n",
            "Name: Is Fraud?, dtype: int64\n",
            "p:0.0000 2012\n",
            "0    200000\n",
            "Name: Is Fraud?, dtype: int64\n",
            "p:0.0000 2012\n",
            "0    200000\n",
            "Name: Is Fraud?, dtype: int64\n",
            "p:0.0000 2012\n",
            "0    200000\n",
            "Name: Is Fraud?, dtype: int64\n",
            "p:0.0000 2012\n",
            "0    200000\n",
            "Name: Is Fraud?, dtype: int64\n",
            "p:0.0000 2012\n",
            "0    200000\n",
            "Name: Is Fraud?, dtype: int64\n",
            "p:0.0000 2012\n",
            "0    200000\n",
            "Name: Is Fraud?, dtype: int64\n",
            "p:0.0000 2012\n",
            "0    200000\n",
            "Name: Is Fraud?, dtype: int64\n",
            "p:0.0000 2012\n",
            "0    200000\n",
            "Name: Is Fraud?, dtype: int64\n",
            "p:0.0000 2012\n",
            "0    200000\n",
            "Name: Is Fraud?, dtype: int64\n",
            "p:0.0000 2012\n",
            "0    200000\n",
            "Name: Is Fraud?, dtype: int64\n",
            "p:0.0000 2012\n",
            "0    200000\n",
            "Name: Is Fraud?, dtype: int64\n",
            "p:0.0000 2012\n",
            "0    200000\n",
            "Name: Is Fraud?, dtype: int64\n",
            "p:0.0000 2012\n",
            "0    200000\n",
            "Name: Is Fraud?, dtype: int64\n",
            "p:0.0000 2012\n",
            "0    200000\n",
            "Name: Is Fraud?, dtype: int64\n",
            "p:0.0000 2012\n",
            "0    200000\n",
            "Name: Is Fraud?, dtype: int64\n",
            "p:0.0000 2012\n",
            "0    200000\n",
            "Name: Is Fraud?, dtype: int64\n",
            "p:0.0000 2012\n",
            "0    200000\n",
            "Name: Is Fraud?, dtype: int64\n",
            "p:0.0000 2012\n",
            "0    200000\n",
            "Name: Is Fraud?, dtype: int64\n",
            "p:0.0000 2012\n",
            "0    200000\n",
            "Name: Is Fraud?, dtype: int64\n",
            "p:0.0000 2012\n",
            "0    200000\n",
            "Name: Is Fraud?, dtype: int64\n",
            "p:0.0000 2012\n",
            "0    200000\n",
            "Name: Is Fraud?, dtype: int64\n",
            "p:0.0000 2012\n",
            "0    200000\n",
            "Name: Is Fraud?, dtype: int64\n",
            "p:0.0000 2013\n",
            "0    200000\n",
            "Name: Is Fraud?, dtype: int64\n",
            "p:0.0000 2013\n",
            "0    200000\n",
            "Name: Is Fraud?, dtype: int64\n",
            "p:0.0000 2013\n",
            "0    200000\n",
            "Name: Is Fraud?, dtype: int64\n",
            "p:0.0000 2013\n",
            "0    200000\n",
            "Name: Is Fraud?, dtype: int64\n",
            "p:0.0000 2013\n",
            "0    200000\n",
            "Name: Is Fraud?, dtype: int64\n",
            "p:0.0000 2013\n",
            "0    200000\n",
            "Name: Is Fraud?, dtype: int64\n",
            "p:0.0000 2013\n",
            "0    200000\n",
            "Name: Is Fraud?, dtype: int64\n",
            "p:0.0000 2013\n",
            "0    200000\n",
            "Name: Is Fraud?, dtype: int64\n",
            "p:0.0000 2013\n",
            "0    200000\n",
            "Name: Is Fraud?, dtype: int64\n",
            "p:0.0000 2013\n",
            "0    200000\n",
            "Name: Is Fraud?, dtype: int64\n",
            "p:0.0000 2013\n",
            "0    200000\n",
            "Name: Is Fraud?, dtype: int64\n",
            "p:0.0000 2013\n",
            "0    200000\n",
            "Name: Is Fraud?, dtype: int64\n",
            "p:0.0000 2013\n",
            "0    200000\n",
            "Name: Is Fraud?, dtype: int64\n",
            "p:0.0000 2013\n",
            "0    200000\n",
            "Name: Is Fraud?, dtype: int64\n",
            "p:0.0000 2013\n",
            "0    200000\n",
            "Name: Is Fraud?, dtype: int64\n",
            "p:0.0000 2013\n",
            "0    200000\n",
            "Name: Is Fraud?, dtype: int64\n",
            "p:0.0000 2013\n",
            "0    200000\n",
            "Name: Is Fraud?, dtype: int64\n",
            "p:0.0000 2013\n",
            "0    200000\n",
            "Name: Is Fraud?, dtype: int64\n",
            "p:0.0000 2013\n",
            "0    200000\n",
            "Name: Is Fraud?, dtype: int64\n",
            "p:0.0000 2013\n",
            "0    200000\n",
            "Name: Is Fraud?, dtype: int64\n",
            "p:0.0000 2013\n",
            "0    200000\n",
            "Name: Is Fraud?, dtype: int64\n",
            "p:0.2667 2013\n",
            "0    199991\n",
            "1         9\n",
            "Name: Is Fraud?, dtype: int64\n",
            "p:0.3448 2013\n",
            "0    199981\n",
            "1        19\n",
            "Name: Is Fraud?, dtype: int64\n",
            "p:0.3333 2013\n",
            "0    199980\n",
            "1        20\n",
            "Name: Is Fraud?, dtype: int64\n",
            "p:0.2564 2013\n",
            "0    199972\n",
            "1        28\n",
            "Name: Is Fraud?, dtype: int64\n",
            "p:0.2857 2013\n",
            "0    199964\n",
            "1        36\n",
            "Name: Is Fraud?, dtype: int64\n",
            "p:0.2593 2013\n",
            "0    199959\n",
            "1        41\n",
            "Name: Is Fraud?, dtype: int64\n",
            "p:0.2623 2013\n",
            "0    199953\n",
            "1        47\n",
            "Name: Is Fraud?, dtype: int64\n",
            "p:0.3333 2013\n",
            "0    199947\n",
            "1        53\n",
            "Name: Is Fraud?, dtype: int64\n",
            "p:0.3478 2013\n",
            "0    199932\n",
            "1        68\n",
            "Name: Is Fraud?, dtype: int64\n",
            "p:0.3670 2013\n",
            "0    199919\n",
            "1        81\n",
            "Name: Is Fraud?, dtype: int64\n",
            "p:0.3577 2013\n",
            "0    199909\n",
            "1        91\n",
            "Name: Is Fraud?, dtype: int64\n",
            "p:0.3788 2013\n",
            "0    199904\n",
            "1        96\n",
            "Name: Is Fraud?, dtype: int64\n",
            "p:0.3788 2013\n",
            "0    199904\n",
            "1        96\n",
            "Name: Is Fraud?, dtype: int64\n",
            "p:0.3788 2013\n",
            "0    199904\n",
            "1        96\n",
            "Name: Is Fraud?, dtype: int64\n",
            "p:0.3788 2013\n",
            "0    199904\n",
            "1        96\n",
            "Name: Is Fraud?, dtype: int64\n",
            "p:0.3759 2013\n",
            "0    199904\n",
            "1        96\n",
            "Name: Is Fraud?, dtype: int64\n",
            "p:0.3731 2013\n",
            "0    199904\n",
            "1        96\n",
            "Name: Is Fraud?, dtype: int64\n",
            "p:0.3759 2013\n",
            "0    199904\n",
            "1        96\n",
            "Name: Is Fraud?, dtype: int64\n",
            "p:0.3731 2013\n",
            "0    199904\n",
            "1        96\n",
            "Name: Is Fraud?, dtype: int64\n",
            "p:0.3759 2013\n",
            "0    199904\n",
            "1        96\n",
            "Name: Is Fraud?, dtype: int64\n",
            "p:0.3770 2013\n",
            "0    199913\n",
            "1        87\n",
            "Name: Is Fraud?, dtype: int64\n",
            "p:0.3704 2013\n",
            "0    199923\n",
            "1        77\n",
            "Name: Is Fraud?, dtype: int64\n",
            "p:0.3738 2013\n",
            "0    199924\n",
            "1        76\n",
            "Name: Is Fraud?, dtype: int64\n",
            "p:0.4040 2013\n",
            "0    199932\n",
            "1        68\n",
            "Name: Is Fraud?, dtype: int64\n",
            "p:0.3956 2013\n",
            "0    199940\n",
            "1        60\n",
            "Name: Is Fraud?, dtype: int64\n",
            "p:0.4186 2013\n",
            "0    199945\n",
            "1        55\n",
            "Name: Is Fraud?, dtype: int64\n",
            "p:0.4304 2013\n",
            "0    199951\n",
            "1        49\n",
            "Name: Is Fraud?, dtype: int64\n",
            "p:0.3824 2013\n",
            "0    199957\n",
            "1        43\n",
            "Name: Is Fraud?, dtype: int64\n",
            "p:0.3673 2013\n",
            "0    199972\n",
            "1        28\n",
            "Name: Is Fraud?, dtype: int64\n",
            "p:0.3125 2013\n",
            "0    199985\n",
            "1        15\n",
            "Name: Is Fraud?, dtype: int64\n",
            "p:0.2857 2013\n",
            "0    199995\n",
            "1         5\n",
            "Name: Is Fraud?, dtype: int64\n",
            "p:0.0000 2013\n",
            "0    200000\n",
            "Name: Is Fraud?, dtype: int64\n",
            "p:0.0000 2013\n",
            "0    200000\n",
            "Name: Is Fraud?, dtype: int64\n",
            "p:0.0000 2013\n",
            "0    200000\n",
            "Name: Is Fraud?, dtype: int64\n",
            "p:0.0000 2013\n",
            "0    200000\n",
            "Name: Is Fraud?, dtype: int64\n",
            "p:0.0000 2013\n",
            "0    200000\n",
            "Name: Is Fraud?, dtype: int64\n",
            "p:0.0000 2013\n",
            "0    200000\n",
            "Name: Is Fraud?, dtype: int64\n",
            "p:0.0000 2013\n",
            "0    200000\n",
            "Name: Is Fraud?, dtype: int64\n",
            "p:0.0000 2013\n",
            "0    200000\n",
            "Name: Is Fraud?, dtype: int64\n",
            "p:0.0000 2013\n",
            "0    200000\n",
            "Name: Is Fraud?, dtype: int64\n",
            "p:0.0000 2013\n",
            "0    200000\n",
            "Name: Is Fraud?, dtype: int64\n",
            "p:0.0000 2013\n",
            "0    200000\n",
            "Name: Is Fraud?, dtype: int64\n",
            "p:0.0000 2013\n",
            "0    200000\n",
            "Name: Is Fraud?, dtype: int64\n",
            "p:0.0000 2013\n",
            "0    200000\n",
            "Name: Is Fraud?, dtype: int64\n",
            "p:0.0000 2013\n",
            "0    200000\n",
            "Name: Is Fraud?, dtype: int64\n",
            "p:0.0000 2013\n",
            "0    200000\n",
            "Name: Is Fraud?, dtype: int64\n",
            "p:0.0000 2013\n",
            "0    200000\n",
            "Name: Is Fraud?, dtype: int64\n",
            "p:0.0000 2013\n",
            "0    200000\n",
            "Name: Is Fraud?, dtype: int64\n",
            "p:0.0000 2013\n",
            "0    200000\n",
            "Name: Is Fraud?, dtype: int64\n",
            "p:0.0000 2013\n",
            "0    200000\n",
            "Name: Is Fraud?, dtype: int64\n",
            "p:0.0000 2013\n",
            "0    200000\n",
            "Name: Is Fraud?, dtype: int64\n",
            "p:0.0000 2013\n",
            "0    200000\n",
            "Name: Is Fraud?, dtype: int64\n",
            "p:0.0000 2013\n",
            "0    200000\n",
            "Name: Is Fraud?, dtype: int64\n",
            "p:0.0000 2013\n",
            "0    200000\n",
            "Name: Is Fraud?, dtype: int64\n",
            "p:0.0000 2013\n",
            "0    200000\n",
            "Name: Is Fraud?, dtype: int64\n",
            "p:0.0000 2013\n",
            "0    200000\n",
            "Name: Is Fraud?, dtype: int64\n",
            "p:0.0000 2013\n",
            "0    200000\n",
            "Name: Is Fraud?, dtype: int64\n",
            "p:0.0000 2013\n",
            "0    200000\n",
            "Name: Is Fraud?, dtype: int64\n",
            "p:0.0000 2013\n",
            "0    200000\n",
            "Name: Is Fraud?, dtype: int64\n",
            "p:0.0000 2013\n",
            "0    200000\n",
            "Name: Is Fraud?, dtype: int64\n",
            "p:0.0000 2013\n",
            "0    200000\n",
            "Name: Is Fraud?, dtype: int64\n",
            "p:0.0000 2013\n",
            "0    200000\n",
            "Name: Is Fraud?, dtype: int64\n",
            "p:0.0000 2013\n",
            "0    200000\n",
            "Name: Is Fraud?, dtype: int64\n",
            "p:0.0000 2013\n",
            "0    200000\n",
            "Name: Is Fraud?, dtype: int64\n",
            "p:0.0000 2013\n",
            "0    200000\n",
            "Name: Is Fraud?, dtype: int64\n",
            "p:0.0000 2013\n",
            "0    200000\n",
            "Name: Is Fraud?, dtype: int64\n",
            "p:0.0000 2013\n",
            "0    200000\n",
            "Name: Is Fraud?, dtype: int64\n",
            "p:0.0000 2013\n",
            "0    200000\n",
            "Name: Is Fraud?, dtype: int64\n",
            "p:0.0000 2013\n",
            "0    200000\n",
            "Name: Is Fraud?, dtype: int64\n",
            "p:0.4068 2013\n",
            "0    199979\n",
            "1        21\n",
            "Name: Is Fraud?, dtype: int64\n",
            "p:0.5319 2013\n",
            "0    199958\n",
            "1        42\n",
            "Name: Is Fraud?, dtype: int64\n",
            "p:0.5263 2013\n",
            "0    199958\n",
            "1        42\n",
            "Name: Is Fraud?, dtype: int64\n",
            "p:0.6452 2013\n",
            "0    199923\n",
            "1        77\n",
            "Name: Is Fraud?, dtype: int64\n",
            "p:0.6497 2013\n",
            "0    199895\n",
            "1       105\n",
            "Name: Is Fraud?, dtype: int64\n",
            "p:0.6635 2013\n",
            "0    199886\n",
            "1       114\n",
            "Name: Is Fraud?, dtype: int64\n",
            "p:0.6935 2013\n",
            "0    199863\n",
            "1       137\n",
            "Name: Is Fraud?, dtype: int64\n",
            "p:0.7066 2013\n",
            "0    199819\n",
            "1       181\n",
            "Name: Is Fraud?, dtype: int64\n",
            "p:0.7138 2013\n",
            "0    199810\n",
            "1       190\n",
            "Name: Is Fraud?, dtype: int64\n",
            "p:0.7339 2013\n",
            "0    199791\n",
            "1       209\n",
            "Name: Is Fraud?, dtype: int64\n",
            "p:0.7335 2013\n",
            "0    199757\n",
            "1       243\n",
            "Name: Is Fraud?, dtype: int64\n",
            "p:0.7260 2013\n",
            "0    199744\n",
            "1       256\n",
            "Name: Is Fraud?, dtype: int64\n",
            "p:0.7244 2013\n",
            "0    199736\n",
            "1       264\n",
            "Name: Is Fraud?, dtype: int64\n",
            "p:0.7295 2013\n",
            "0    199706\n",
            "1       294\n",
            "Name: Is Fraud?, dtype: int64\n",
            "p:0.7236 2013\n",
            "0    199673\n",
            "1       327\n",
            "Name: Is Fraud?, dtype: int64\n",
            "p:0.7236 2013\n",
            "0    199673\n",
            "1       327\n",
            "Name: Is Fraud?, dtype: int64\n",
            "p:0.7194 2013\n",
            "0    199619\n",
            "1       381\n",
            "Name: Is Fraud?, dtype: int64\n",
            "p:0.7291 2013\n",
            "0    199573\n",
            "1       427\n",
            "Name: Is Fraud?, dtype: int64\n",
            "p:0.7374 2013\n",
            "0    199569\n",
            "1       431\n",
            "Name: Is Fraud?, dtype: int64\n",
            "p:0.7428 2013\n",
            "0    199549\n",
            "1       451\n",
            "Name: Is Fraud?, dtype: int64\n",
            "p:0.7497 2013\n",
            "0    199544\n",
            "1       456\n",
            "Name: Is Fraud?, dtype: int64\n",
            "p:0.7535 2013\n",
            "0    199560\n",
            "1       440\n",
            "Name: Is Fraud?, dtype: int64\n",
            "p:0.7586 2013\n",
            "0    199536\n",
            "1       464\n",
            "Name: Is Fraud?, dtype: int64\n",
            "p:0.7517 2013\n",
            "0    199534\n",
            "1       466\n",
            "Name: Is Fraud?, dtype: int64\n",
            "p:0.7583 2013\n",
            "0    199558\n",
            "1       442\n",
            "Name: Is Fraud?, dtype: int64\n",
            "p:0.7620 2013\n",
            "0    199556\n",
            "1       444\n",
            "Name: Is Fraud?, dtype: int64\n",
            "p:0.7619 2013\n",
            "0    199538\n",
            "1       462\n",
            "Name: Is Fraud?, dtype: int64\n",
            "p:0.7694 2013\n",
            "0    199563\n",
            "1       437\n",
            "Name: Is Fraud?, dtype: int64\n",
            "p:0.7742 2013\n",
            "0    199552\n",
            "1       448\n",
            "Name: Is Fraud?, dtype: int64\n",
            "p:0.7732 2013\n",
            "0    199532\n",
            "1       468\n",
            "Name: Is Fraud?, dtype: int64\n",
            "p:0.7740 2013\n",
            "0    199536\n",
            "1       464\n",
            "Name: Is Fraud?, dtype: int64\n",
            "p:0.7815 2013\n",
            "0    199547\n",
            "1       453\n",
            "Name: Is Fraud?, dtype: int64\n",
            "p:0.7914 2013\n",
            "0    199448\n",
            "1       552\n",
            "Name: Is Fraud?, dtype: int64\n",
            "p:0.7933 2013\n",
            "0    199429\n",
            "1       571\n",
            "Name: Is Fraud?, dtype: int64\n",
            "p:0.8039 2013\n",
            "0    199448\n",
            "1       552\n",
            "Name: Is Fraud?, dtype: int64\n",
            "p:0.8047 2013\n",
            "0    199400\n",
            "1       600\n",
            "Name: Is Fraud?, dtype: int64\n",
            "p:0.8214 2013\n",
            "0    199421\n",
            "1       579\n",
            "Name: Is Fraud?, dtype: int64\n",
            "p:0.8254 2013\n",
            "0    199461\n",
            "1       539\n",
            "Name: Is Fraud?, dtype: int64\n",
            "p:0.8211 2013\n",
            "0    199448\n",
            "1       552\n",
            "Name: Is Fraud?, dtype: int64\n",
            "p:0.8106 2013\n",
            "0    199429\n",
            "1       571\n",
            "Name: Is Fraud?, dtype: int64\n",
            "p:0.8084 2013\n",
            "0    199443\n",
            "1       557\n",
            "Name: Is Fraud?, dtype: int64\n",
            "p:0.8138 2013\n",
            "0    199391\n",
            "1       609\n",
            "Name: Is Fraud?, dtype: int64\n",
            "p:0.8017 2013\n",
            "0    199313\n",
            "1       687\n",
            "Name: Is Fraud?, dtype: int64\n",
            "p:0.8063 2013\n",
            "0    199336\n",
            "1       664\n",
            "Name: Is Fraud?, dtype: int64\n",
            "p:0.8045 2013\n",
            "0    199324\n",
            "1       676\n",
            "Name: Is Fraud?, dtype: int64\n",
            "p:0.8048 2013\n",
            "0    199270\n",
            "1       730\n",
            "Name: Is Fraud?, dtype: int64\n",
            "p:0.8060 2013\n",
            "0    199303\n",
            "1       697\n",
            "Name: Is Fraud?, dtype: int64\n",
            "p:0.8038 2013\n",
            "0    199320\n",
            "1       680\n",
            "Name: Is Fraud?, dtype: int64\n",
            "p:0.8013 2013\n",
            "0    199299\n",
            "1       701\n",
            "Name: Is Fraud?, dtype: int64\n",
            "p:0.8021 2013\n",
            "0    199325\n",
            "1       675\n",
            "Name: Is Fraud?, dtype: int64\n",
            "p:0.8054 2013\n",
            "0    199355\n",
            "1       645\n",
            "Name: Is Fraud?, dtype: int64\n",
            "p:0.8046 2013\n",
            "0    199346\n",
            "1       654\n",
            "Name: Is Fraud?, dtype: int64\n",
            "p:0.8012 2013\n",
            "0    199432\n",
            "1       568\n",
            "Name: Is Fraud?, dtype: int64\n",
            "p:0.8026 2013\n",
            "0    199475\n",
            "1       525\n",
            "Name: Is Fraud?, dtype: int64\n",
            "p:0.8021 2013\n",
            "0    199453\n",
            "1       547\n",
            "Name: Is Fraud?, dtype: int64\n",
            "p:0.7982 2013\n",
            "0    199472\n",
            "1       528\n",
            "Name: Is Fraud?, dtype: int64\n",
            "p:0.7922 2013\n",
            "0    199496\n",
            "1       504\n",
            "Name: Is Fraud?, dtype: int64\n",
            "p:0.7923 2013\n",
            "0    199489\n",
            "1       511\n",
            "Name: Is Fraud?, dtype: int64\n",
            "p:0.7951 2013\n",
            "0    199481\n",
            "1       519\n",
            "Name: Is Fraud?, dtype: int64\n",
            "p:0.8038 2013\n",
            "0    199510\n",
            "1       490\n",
            "Name: Is Fraud?, dtype: int64\n",
            "p:0.7945 2013\n",
            "0    199489\n",
            "1       511\n",
            "Name: Is Fraud?, dtype: int64\n",
            "p:0.7839 2013\n",
            "0    199502\n",
            "1       498\n",
            "Name: Is Fraud?, dtype: int64\n",
            "p:0.7960 2013\n",
            "0    199596\n",
            "1       404\n",
            "Name: Is Fraud?, dtype: int64\n",
            "p:0.7918 2013\n",
            "0    199604\n",
            "1       396\n",
            "Name: Is Fraud?, dtype: int64\n",
            "p:0.7945 2013\n",
            "0    199578\n",
            "1       422\n",
            "Name: Is Fraud?, dtype: int64\n",
            "p:0.7921 2013\n",
            "0    199617\n",
            "1       383\n",
            "Name: Is Fraud?, dtype: int64\n",
            "p:0.7890 2013\n",
            "0    199620\n",
            "1       380\n",
            "Name: Is Fraud?, dtype: int64\n",
            "p:0.7868 2013\n",
            "0    199574\n",
            "1       426\n",
            "Name: Is Fraud?, dtype: int64\n",
            "p:0.7973 2013\n",
            "0    199576\n",
            "1       424\n",
            "Name: Is Fraud?, dtype: int64\n",
            "p:0.7888 2013\n",
            "0    199584\n",
            "1       416\n",
            "Name: Is Fraud?, dtype: int64\n",
            "p:0.7934 2013\n",
            "0    199544\n",
            "1       456\n",
            "Name: Is Fraud?, dtype: int64\n",
            "p:0.7858 2013\n",
            "0    199538\n",
            "1       462\n",
            "Name: Is Fraud?, dtype: int64\n",
            "p:0.7795 2013\n",
            "0    199551\n",
            "1       449\n",
            "Name: Is Fraud?, dtype: int64\n",
            "p:0.7770 2013\n",
            "0    199505\n",
            "1       495\n",
            "Name: Is Fraud?, dtype: int64\n",
            "p:0.7674 2013\n",
            "0    199508\n",
            "1       492\n",
            "Name: Is Fraud?, dtype: int64\n",
            "p:0.7708 2014\n",
            "0    199533\n",
            "1       467\n",
            "Name: Is Fraud?, dtype: int64\n",
            "p:0.7656 2014\n",
            "0    199537\n",
            "1       463\n",
            "Name: Is Fraud?, dtype: int64\n",
            "p:0.7166 2014\n",
            "0    199497\n",
            "1       503\n",
            "Name: Is Fraud?, dtype: int64\n",
            "p:0.6911 2014\n",
            "0    199495\n",
            "1       505\n",
            "Name: Is Fraud?, dtype: int64\n",
            "p:0.6908 2014\n",
            "0    199505\n",
            "1       495\n",
            "Name: Is Fraud?, dtype: int64\n",
            "p:0.6852 2014\n",
            "0    199514\n",
            "1       486\n",
            "Name: Is Fraud?, dtype: int64\n",
            "p:0.6475 2014\n",
            "0    199519\n",
            "1       481\n",
            "Name: Is Fraud?, dtype: int64\n",
            "p:0.6438 2014\n",
            "0    199517\n",
            "1       483\n",
            "Name: Is Fraud?, dtype: int64\n",
            "p:0.6302 2014\n",
            "0    199498\n",
            "1       502\n",
            "Name: Is Fraud?, dtype: int64\n",
            "p:0.5848 2014\n",
            "0    199497\n",
            "1       503\n",
            "Name: Is Fraud?, dtype: int64\n",
            "p:0.5594 2014\n",
            "0    199513\n",
            "1       487\n",
            "Name: Is Fraud?, dtype: int64\n",
            "p:0.5579 2014\n",
            "0    199492\n",
            "1       508\n",
            "Name: Is Fraud?, dtype: int64\n",
            "p:0.5293 2014\n",
            "0    199495\n",
            "1       505\n",
            "Name: Is Fraud?, dtype: int64\n",
            "p:0.4969 2014\n",
            "0    199530\n",
            "1       470\n",
            "Name: Is Fraud?, dtype: int64\n",
            "p:0.4953 2014\n",
            "0    199528\n",
            "1       472\n",
            "Name: Is Fraud?, dtype: int64\n",
            "p:0.4467 2014\n",
            "0    199540\n",
            "1       460\n",
            "Name: Is Fraud?, dtype: int64\n",
            "p:0.4384 2014\n",
            "0    199549\n",
            "1       451\n",
            "Name: Is Fraud?, dtype: int64\n",
            "p:0.4383 2014\n",
            "0    199557\n",
            "1       443\n",
            "Name: Is Fraud?, dtype: int64\n",
            "p:0.3814 2014\n",
            "0    199535\n",
            "1       465\n",
            "Name: Is Fraud?, dtype: int64\n",
            "p:0.3484 2014\n",
            "0    199532\n",
            "1       468\n",
            "Name: Is Fraud?, dtype: int64\n",
            "p:0.3449 2014\n",
            "0    199531\n",
            "1       469\n",
            "Name: Is Fraud?, dtype: int64\n",
            "p:0.3456 2014\n",
            "0    199513\n",
            "1       487\n",
            "Name: Is Fraud?, dtype: int64\n",
            "p:0.3705 2014\n",
            "0    199531\n",
            "1       469\n",
            "Name: Is Fraud?, dtype: int64\n",
            "p:0.3835 2014\n",
            "0    199554\n",
            "1       446\n",
            "Name: Is Fraud?, dtype: int64\n",
            "p:0.3870 2014\n",
            "0    199533\n",
            "1       467\n",
            "Name: Is Fraud?, dtype: int64\n",
            "p:0.3803 2014\n",
            "0    199527\n",
            "1       473\n",
            "Name: Is Fraud?, dtype: int64\n",
            "p:0.3927 2014\n",
            "0    199563\n",
            "1       437\n",
            "Name: Is Fraud?, dtype: int64\n",
            "p:0.3856 2014\n",
            "0    199557\n",
            "1       443\n",
            "Name: Is Fraud?, dtype: int64\n",
            "p:0.3874 2014\n",
            "0    199544\n",
            "1       456\n",
            "Name: Is Fraud?, dtype: int64\n",
            "p:0.4154 2014\n",
            "0    199575\n",
            "1       425\n",
            "Name: Is Fraud?, dtype: int64\n",
            "p:0.4326 2014\n",
            "0    199564\n",
            "1       436\n",
            "Name: Is Fraud?, dtype: int64\n",
            "p:0.4434 2014\n",
            "0    199525\n",
            "1       475\n",
            "Name: Is Fraud?, dtype: int64\n",
            "p:0.4574 2014\n",
            "0    199520\n",
            "1       480\n",
            "Name: Is Fraud?, dtype: int64\n",
            "p:0.4479 2014\n",
            "0    199520\n",
            "1       480\n",
            "Name: Is Fraud?, dtype: int64\n",
            "p:0.4659 2014\n",
            "0    199495\n",
            "1       505\n",
            "Name: Is Fraud?, dtype: int64\n",
            "p:0.4848 2014\n",
            "0    199511\n",
            "1       489\n",
            "Name: Is Fraud?, dtype: int64\n",
            "p:0.4885 2014\n",
            "0    199519\n",
            "1       481\n",
            "Name: Is Fraud?, dtype: int64\n",
            "p:0.4941 2014\n",
            "0    199498\n",
            "1       502\n",
            "Name: Is Fraud?, dtype: int64\n",
            "p:0.5084 2014\n",
            "0    199566\n",
            "1       434\n",
            "Name: Is Fraud?, dtype: int64\n",
            "p:0.5217 2014\n",
            "0    199602\n",
            "1       398\n",
            "Name: Is Fraud?, dtype: int64\n",
            "p:0.5331 2014\n",
            "0    199567\n",
            "1       433\n",
            "Name: Is Fraud?, dtype: int64\n",
            "p:0.5622 2014\n",
            "0    199542\n",
            "1       458\n",
            "Name: Is Fraud?, dtype: int64\n",
            "p:0.5865 2014\n",
            "0    199569\n",
            "1       431\n",
            "Name: Is Fraud?, dtype: int64\n",
            "p:0.6018 2014\n",
            "0    199537\n",
            "1       463\n",
            "Name: Is Fraud?, dtype: int64\n",
            "p:0.6175 2014\n",
            "0    199514\n",
            "1       486\n",
            "Name: Is Fraud?, dtype: int64\n",
            "p:0.6295 2014\n",
            "0    199532\n",
            "1       468\n",
            "Name: Is Fraud?, dtype: int64\n",
            "p:0.6313 2014\n",
            "0    199533\n",
            "1       467\n",
            "Name: Is Fraud?, dtype: int64\n",
            "p:0.6401 2014\n",
            "0    199549\n",
            "1       451\n",
            "Name: Is Fraud?, dtype: int64\n",
            "p:0.6603 2014\n",
            "0    199587\n",
            "1       413\n",
            "Name: Is Fraud?, dtype: int64\n",
            "p:0.6579 2014\n",
            "0    199599\n",
            "1       401\n",
            "Name: Is Fraud?, dtype: int64\n",
            "p:0.6609 2014\n",
            "0    199620\n",
            "1       380\n",
            "Name: Is Fraud?, dtype: int64\n",
            "p:0.6802 2014\n",
            "0    199685\n",
            "1       315\n",
            "Name: Is Fraud?, dtype: int64\n",
            "p:0.6923 2014\n",
            "0    199735\n",
            "1       265\n",
            "Name: Is Fraud?, dtype: int64\n",
            "p:0.7010 2014\n",
            "0    199739\n",
            "1       261\n",
            "Name: Is Fraud?, dtype: int64\n",
            "p:0.7056 2014\n",
            "0    199771\n",
            "1       229\n",
            "Name: Is Fraud?, dtype: int64\n",
            "p:0.6962 2014\n",
            "0    199783\n",
            "1       217\n",
            "Name: Is Fraud?, dtype: int64\n",
            "p:0.6962 2014\n",
            "0    199783\n",
            "1       217\n",
            "Name: Is Fraud?, dtype: int64\n",
            "p:0.7055 2014\n",
            "0    199804\n",
            "1       196\n",
            "Name: Is Fraud?, dtype: int64\n",
            "p:0.7152 2014\n",
            "0    199810\n",
            "1       190\n",
            "Name: Is Fraud?, dtype: int64\n",
            "p:0.7129 2014\n",
            "0    199810\n",
            "1       190\n",
            "Name: Is Fraud?, dtype: int64\n",
            "p:0.7243 2014\n",
            "0    199850\n",
            "1       150\n",
            "Name: Is Fraud?, dtype: int64\n",
            "p:0.7176 2014\n",
            "0    199898\n",
            "1       102\n",
            "Name: Is Fraud?, dtype: int64\n",
            "p:0.6883 2014\n",
            "0    199906\n",
            "1        94\n",
            "Name: Is Fraud?, dtype: int64\n",
            "p:0.6383 2014\n",
            "0    199942\n",
            "1        58\n",
            "Name: Is Fraud?, dtype: int64\n",
            "p:0.4444 2014\n",
            "0    199986\n",
            "1        14\n",
            "Name: Is Fraud?, dtype: int64\n",
            "p:0.3636 2014\n",
            "0    199998\n",
            "1         2\n",
            "Name: Is Fraud?, dtype: int64\n",
            "p:0.0000 2014\n",
            "0    200000\n",
            "Name: Is Fraud?, dtype: int64\n",
            "p:0.0000 2014\n",
            "0    200000\n",
            "Name: Is Fraud?, dtype: int64\n",
            "p:0.0000 2014\n",
            "0    200000\n",
            "Name: Is Fraud?, dtype: int64\n",
            "p:0.0000 2014\n",
            "0    200000\n",
            "Name: Is Fraud?, dtype: int64\n",
            "p:0.0000 2014\n",
            "0    200000\n",
            "Name: Is Fraud?, dtype: int64\n",
            "p:0.0000 2014\n",
            "0    200000\n",
            "Name: Is Fraud?, dtype: int64\n",
            "p:0.0000 2014\n",
            "0    200000\n",
            "Name: Is Fraud?, dtype: int64\n",
            "p:0.0000 2014\n",
            "0    200000\n",
            "Name: Is Fraud?, dtype: int64\n",
            "p:0.0000 2014\n",
            "0    200000\n",
            "Name: Is Fraud?, dtype: int64\n",
            "p:0.0000 2014\n",
            "0    200000\n",
            "Name: Is Fraud?, dtype: int64\n",
            "p:0.0000 2014\n",
            "0    200000\n",
            "Name: Is Fraud?, dtype: int64\n",
            "p:0.0000 2014\n",
            "0    200000\n",
            "Name: Is Fraud?, dtype: int64\n",
            "p:0.0000 2014\n",
            "0    200000\n",
            "Name: Is Fraud?, dtype: int64\n",
            "p:0.0000 2014\n",
            "0    200000\n",
            "Name: Is Fraud?, dtype: int64\n",
            "p:0.0000 2014\n",
            "0    200000\n",
            "Name: Is Fraud?, dtype: int64\n",
            "p:0.0000 2014\n",
            "0    200000\n",
            "Name: Is Fraud?, dtype: int64\n",
            "p:0.0000 2014\n",
            "0    200000\n",
            "Name: Is Fraud?, dtype: int64\n",
            "p:0.0000 2014\n",
            "0    200000\n",
            "Name: Is Fraud?, dtype: int64\n",
            "p:0.0000 2014\n",
            "0    200000\n",
            "Name: Is Fraud?, dtype: int64\n",
            "p:0.0000 2014\n",
            "0    200000\n",
            "Name: Is Fraud?, dtype: int64\n",
            "p:0.0000 2014\n",
            "0    200000\n",
            "Name: Is Fraud?, dtype: int64\n",
            "p:0.0000 2014\n",
            "0    200000\n",
            "Name: Is Fraud?, dtype: int64\n",
            "p:0.0000 2014\n",
            "0    200000\n",
            "Name: Is Fraud?, dtype: int64\n",
            "p:0.0000 2014\n",
            "0    200000\n",
            "Name: Is Fraud?, dtype: int64\n",
            "p:0.0000 2014\n",
            "0    200000\n",
            "Name: Is Fraud?, dtype: int64\n",
            "p:0.0000 2014\n",
            "0    200000\n",
            "Name: Is Fraud?, dtype: int64\n",
            "p:0.0000 2014\n",
            "0    200000\n",
            "Name: Is Fraud?, dtype: int64\n",
            "p:0.0000 2014\n",
            "0    200000\n",
            "Name: Is Fraud?, dtype: int64\n",
            "p:0.0000 2014\n",
            "0    200000\n",
            "Name: Is Fraud?, dtype: int64\n",
            "p:0.0000 2014\n",
            "0    200000\n",
            "Name: Is Fraud?, dtype: int64\n",
            "p:0.0000 2014\n",
            "0    200000\n",
            "Name: Is Fraud?, dtype: int64\n",
            "p:0.0000 2014\n",
            "0    200000\n",
            "Name: Is Fraud?, dtype: int64\n",
            "p:0.0000 2014\n",
            "0    200000\n",
            "Name: Is Fraud?, dtype: int64\n",
            "p:0.0000 2014\n",
            "0    200000\n",
            "Name: Is Fraud?, dtype: int64\n",
            "p:0.0000 2014\n",
            "0    200000\n",
            "Name: Is Fraud?, dtype: int64\n",
            "p:0.0000 2014\n",
            "0    200000\n",
            "Name: Is Fraud?, dtype: int64\n",
            "p:0.0000 2014\n",
            "0    200000\n",
            "Name: Is Fraud?, dtype: int64\n",
            "p:0.0000 2014\n",
            "0    200000\n",
            "Name: Is Fraud?, dtype: int64\n",
            "p:0.0000 2014\n",
            "0    200000\n",
            "Name: Is Fraud?, dtype: int64\n",
            "p:0.0000 2014\n",
            "0    200000\n",
            "Name: Is Fraud?, dtype: int64\n",
            "p:0.0000 2014\n",
            "0    200000\n",
            "Name: Is Fraud?, dtype: int64\n",
            "p:0.0000 2014\n",
            "0    200000\n",
            "Name: Is Fraud?, dtype: int64\n",
            "p:0.0000 2014\n",
            "0    200000\n",
            "Name: Is Fraud?, dtype: int64\n",
            "p:0.0000 2014\n",
            "0    200000\n",
            "Name: Is Fraud?, dtype: int64\n",
            "p:0.0000 2014\n",
            "0    200000\n",
            "Name: Is Fraud?, dtype: int64\n",
            "p:0.0000 2014\n",
            "0    200000\n",
            "Name: Is Fraud?, dtype: int64\n",
            "p:0.0000 2014\n",
            "0    200000\n",
            "Name: Is Fraud?, dtype: int64\n",
            "p:0.0000 2014\n",
            "0    200000\n",
            "Name: Is Fraud?, dtype: int64\n",
            "p:0.0000 2014\n",
            "0    200000\n",
            "Name: Is Fraud?, dtype: int64\n",
            "p:0.0000 2014\n",
            "0    200000\n",
            "Name: Is Fraud?, dtype: int64\n",
            "p:0.0000 2014\n",
            "0    200000\n",
            "Name: Is Fraud?, dtype: int64\n",
            "p:0.0000 2014\n",
            "0    200000\n",
            "Name: Is Fraud?, dtype: int64\n",
            "p:0.0000 2014\n",
            "0    200000\n",
            "Name: Is Fraud?, dtype: int64\n",
            "p:0.0000 2014\n",
            "0    200000\n",
            "Name: Is Fraud?, dtype: int64\n",
            "p:0.0000 2014\n",
            "0    200000\n",
            "Name: Is Fraud?, dtype: int64\n",
            "p:0.0000 2014\n",
            "0    200000\n",
            "Name: Is Fraud?, dtype: int64\n",
            "p:0.0000 2014\n",
            "0    200000\n",
            "Name: Is Fraud?, dtype: int64\n",
            "p:0.0000 2014\n",
            "0    200000\n",
            "Name: Is Fraud?, dtype: int64\n",
            "p:0.0000 2014\n",
            "0    200000\n",
            "Name: Is Fraud?, dtype: int64\n",
            "p:0.0000 2014\n",
            "0    200000\n",
            "Name: Is Fraud?, dtype: int64\n",
            "p:0.0000 2014\n",
            "0    200000\n",
            "Name: Is Fraud?, dtype: int64\n",
            "p:0.0000 2014\n",
            "0    200000\n",
            "Name: Is Fraud?, dtype: int64\n",
            "p:0.0000 2014\n",
            "0    200000\n",
            "Name: Is Fraud?, dtype: int64\n",
            "p:0.0000 2014\n",
            "0    200000\n",
            "Name: Is Fraud?, dtype: int64\n",
            "p:0.0000 2014\n",
            "0    200000\n",
            "Name: Is Fraud?, dtype: int64\n",
            "p:0.0000 2014\n",
            "0    200000\n",
            "Name: Is Fraud?, dtype: int64\n",
            "p:0.0000 2014\n",
            "0    200000\n",
            "Name: Is Fraud?, dtype: int64\n",
            "p:0.0000 2014\n",
            "0    200000\n",
            "Name: Is Fraud?, dtype: int64\n",
            "p:0.0000 2014\n",
            "0    200000\n",
            "Name: Is Fraud?, dtype: int64\n",
            "p:0.0000 2014\n",
            "0    200000\n",
            "Name: Is Fraud?, dtype: int64\n",
            "p:0.0000 2014\n",
            "0    200000\n",
            "Name: Is Fraud?, dtype: int64\n",
            "p:0.0000 2014\n",
            "0    200000\n",
            "Name: Is Fraud?, dtype: int64\n",
            "p:0.0000 2014\n",
            "0    200000\n",
            "Name: Is Fraud?, dtype: int64\n",
            "p:0.0000 2014\n",
            "0    200000\n",
            "Name: Is Fraud?, dtype: int64\n",
            "p:0.0000 2014\n",
            "0    200000\n",
            "Name: Is Fraud?, dtype: int64\n",
            "p:0.0000 2014\n",
            "0    200000\n",
            "Name: Is Fraud?, dtype: int64\n",
            "p:0.0000 2014\n",
            "0    200000\n",
            "Name: Is Fraud?, dtype: int64\n",
            "p:0.0000 2014\n",
            "0    200000\n",
            "Name: Is Fraud?, dtype: int64\n",
            "p:0.0000 2014\n",
            "0    200000\n",
            "Name: Is Fraud?, dtype: int64\n",
            "p:0.0000 2014\n",
            "0    200000\n",
            "Name: Is Fraud?, dtype: int64\n",
            "p:0.0000 2014\n",
            "0    200000\n",
            "Name: Is Fraud?, dtype: int64\n",
            "p:0.0000 2014\n",
            "0    200000\n",
            "Name: Is Fraud?, dtype: int64\n",
            "p:0.0000 2014\n",
            "0    200000\n",
            "Name: Is Fraud?, dtype: int64\n",
            "p:0.0000 2014\n",
            "0    200000\n",
            "Name: Is Fraud?, dtype: int64\n",
            "p:0.0000 2014\n",
            "0    200000\n",
            "Name: Is Fraud?, dtype: int64\n",
            "p:0.0000 2014\n",
            "0    200000\n",
            "Name: Is Fraud?, dtype: int64\n",
            "p:0.0000 2014\n",
            "0    200000\n",
            "Name: Is Fraud?, dtype: int64\n",
            "p:0.0000 2014\n",
            "0    200000\n",
            "Name: Is Fraud?, dtype: int64\n",
            "p:0.0000 2014\n",
            "0    200000\n",
            "Name: Is Fraud?, dtype: int64\n",
            "p:0.0000 2014\n",
            "0    200000\n",
            "Name: Is Fraud?, dtype: int64\n",
            "p:0.0000 2014\n",
            "0    200000\n",
            "Name: Is Fraud?, dtype: int64\n",
            "p:0.0000 2014\n",
            "0    200000\n",
            "Name: Is Fraud?, dtype: int64\n",
            "p:0.0000 2014\n",
            "0    200000\n",
            "Name: Is Fraud?, dtype: int64\n",
            "p:0.0000 2014\n",
            "0    200000\n",
            "Name: Is Fraud?, dtype: int64\n",
            "p:0.0000 2014\n",
            "0    200000\n",
            "Name: Is Fraud?, dtype: int64\n",
            "p:0.0000 2014\n",
            "0    200000\n",
            "Name: Is Fraud?, dtype: int64\n",
            "p:0.0000 2014\n",
            "0    200000\n",
            "Name: Is Fraud?, dtype: int64\n",
            "p:0.0000 2014\n",
            "0    200000\n",
            "Name: Is Fraud?, dtype: int64\n",
            "p:0.0000 2014\n",
            "0    200000\n",
            "Name: Is Fraud?, dtype: int64\n",
            "p:0.0000 2014\n",
            "0    200000\n",
            "Name: Is Fraud?, dtype: int64\n",
            "p:0.0000 2014\n",
            "0    200000\n",
            "Name: Is Fraud?, dtype: int64\n",
            "p:0.0000 2015\n",
            "0    200000\n",
            "Name: Is Fraud?, dtype: int64\n",
            "p:0.0000 2015\n",
            "0    200000\n",
            "Name: Is Fraud?, dtype: int64\n",
            "p:0.0000 2015\n",
            "0    200000\n",
            "Name: Is Fraud?, dtype: int64\n",
            "p:0.0000 2015\n",
            "0    200000\n",
            "Name: Is Fraud?, dtype: int64\n",
            "p:0.0000 2015\n",
            "0    200000\n",
            "Name: Is Fraud?, dtype: int64\n",
            "p:0.0000 2015\n",
            "0    200000\n",
            "Name: Is Fraud?, dtype: int64\n",
            "p:0.0000 2015\n",
            "0    200000\n",
            "Name: Is Fraud?, dtype: int64\n",
            "p:0.0000 2015\n",
            "0    200000\n",
            "Name: Is Fraud?, dtype: int64\n",
            "p:0.0000 2015\n",
            "0    200000\n",
            "Name: Is Fraud?, dtype: int64\n",
            "p:0.0000 2015\n",
            "0    200000\n",
            "Name: Is Fraud?, dtype: int64\n",
            "p:0.0000 2015\n",
            "0    200000\n",
            "Name: Is Fraud?, dtype: int64\n",
            "p:0.0000 2015\n",
            "0    200000\n",
            "Name: Is Fraud?, dtype: int64\n",
            "p:0.0000 2015\n",
            "0    200000\n",
            "Name: Is Fraud?, dtype: int64\n",
            "p:0.0000 2015\n",
            "0    200000\n",
            "Name: Is Fraud?, dtype: int64\n",
            "p:0.0000 2015\n",
            "0    200000\n",
            "Name: Is Fraud?, dtype: int64\n",
            "p:0.0000 2015\n",
            "0    200000\n",
            "Name: Is Fraud?, dtype: int64\n",
            "p:0.0000 2015\n",
            "0    200000\n",
            "Name: Is Fraud?, dtype: int64\n",
            "p:0.0000 2015\n",
            "0    200000\n",
            "Name: Is Fraud?, dtype: int64\n",
            "p:0.0000 2015\n",
            "0    200000\n",
            "Name: Is Fraud?, dtype: int64\n",
            "p:0.0000 2015\n",
            "0    200000\n",
            "Name: Is Fraud?, dtype: int64\n",
            "p:0.0000 2015\n",
            "0    200000\n",
            "Name: Is Fraud?, dtype: int64\n",
            "p:0.0000 2015\n",
            "0    200000\n",
            "Name: Is Fraud?, dtype: int64\n",
            "p:0.0000 2015\n",
            "0    200000\n",
            "Name: Is Fraud?, dtype: int64\n",
            "p:0.0000 2015\n",
            "0    200000\n",
            "Name: Is Fraud?, dtype: int64\n",
            "p:0.0000 2015\n",
            "0    200000\n",
            "Name: Is Fraud?, dtype: int64\n",
            "p:0.0000 2015\n",
            "0    200000\n",
            "Name: Is Fraud?, dtype: int64\n",
            "p:0.0000 2015\n",
            "0    200000\n",
            "Name: Is Fraud?, dtype: int64\n",
            "p:0.0000 2015\n",
            "0    200000\n",
            "Name: Is Fraud?, dtype: int64\n",
            "p:0.0000 2015\n",
            "0    200000\n",
            "Name: Is Fraud?, dtype: int64\n",
            "p:0.0000 2015\n",
            "0    200000\n",
            "Name: Is Fraud?, dtype: int64\n",
            "p:0.0000 2015\n",
            "0    200000\n",
            "Name: Is Fraud?, dtype: int64\n",
            "p:0.0000 2015\n",
            "0    200000\n",
            "Name: Is Fraud?, dtype: int64\n",
            "p:0.0000 2015\n",
            "0    200000\n",
            "Name: Is Fraud?, dtype: int64\n",
            "p:0.0000 2015\n",
            "0    200000\n",
            "Name: Is Fraud?, dtype: int64\n",
            "p:0.0000 2015\n",
            "0    200000\n",
            "Name: Is Fraud?, dtype: int64\n",
            "p:0.0000 2015\n",
            "0    200000\n",
            "Name: Is Fraud?, dtype: int64\n",
            "p:0.0000 2015\n",
            "0    200000\n",
            "Name: Is Fraud?, dtype: int64\n",
            "p:0.0000 2015\n",
            "0    200000\n",
            "Name: Is Fraud?, dtype: int64\n",
            "p:0.0000 2015\n",
            "0    200000\n",
            "Name: Is Fraud?, dtype: int64\n",
            "p:0.0000 2015\n",
            "0    200000\n",
            "Name: Is Fraud?, dtype: int64\n",
            "p:0.0000 2015\n",
            "0    200000\n",
            "Name: Is Fraud?, dtype: int64\n",
            "p:0.0062 2015\n",
            "0    199999\n",
            "1         1\n",
            "Name: Is Fraud?, dtype: int64\n",
            "p:0.0545 2015\n",
            "0    199973\n",
            "1        27\n",
            "Name: Is Fraud?, dtype: int64\n",
            "p:0.1330 2015\n",
            "0    199938\n",
            "1        62\n",
            "Name: Is Fraud?, dtype: int64\n",
            "p:0.1618 2015\n",
            "0    199918\n",
            "1        82\n",
            "Name: Is Fraud?, dtype: int64\n",
            "p:0.2053 2015\n",
            "0    199890\n",
            "1       110\n",
            "Name: Is Fraud?, dtype: int64\n",
            "p:0.2069 2015\n",
            "0    199887\n",
            "1       113\n",
            "Name: Is Fraud?, dtype: int64\n",
            "p:0.2614 2015\n",
            "0    199853\n",
            "1       147\n",
            "Name: Is Fraud?, dtype: int64\n",
            "p:0.2784 2015\n",
            "0    199834\n",
            "1       166\n",
            "Name: Is Fraud?, dtype: int64\n",
            "p:0.2739 2015\n",
            "0    199824\n",
            "1       176\n",
            "Name: Is Fraud?, dtype: int64\n",
            "p:0.2815 2015\n",
            "0    199809\n",
            "1       191\n",
            "Name: Is Fraud?, dtype: int64\n",
            "p:0.2926 2015\n",
            "0    199789\n",
            "1       211\n",
            "Name: Is Fraud?, dtype: int64\n",
            "p:0.3125 2015\n",
            "0    199757\n",
            "1       243\n",
            "Name: Is Fraud?, dtype: int64\n",
            "p:0.3235 2015\n",
            "0    199734\n",
            "1       266\n",
            "Name: Is Fraud?, dtype: int64\n",
            "p:0.3544 2015\n",
            "0    199675\n",
            "1       325\n",
            "Name: Is Fraud?, dtype: int64\n",
            "p:0.3665 2015\n",
            "0    199638\n",
            "1       362\n",
            "Name: Is Fraud?, dtype: int64\n",
            "p:0.3790 2015\n",
            "0    199615\n",
            "1       385\n",
            "Name: Is Fraud?, dtype: int64\n",
            "p:0.3938 2015\n",
            "0    199596\n",
            "1       404\n",
            "Name: Is Fraud?, dtype: int64\n",
            "p:0.4093 2015\n",
            "0    199569\n",
            "1       431\n",
            "Name: Is Fraud?, dtype: int64\n",
            "p:0.4225 2015\n",
            "0    199550\n",
            "1       450\n",
            "Name: Is Fraud?, dtype: int64\n",
            "p:0.4326 2015\n",
            "0    199540\n",
            "1       460\n",
            "Name: Is Fraud?, dtype: int64\n",
            "p:0.4512 2015\n",
            "0    199525\n",
            "1       475\n",
            "Name: Is Fraud?, dtype: int64\n",
            "p:0.4500 2015\n",
            "0    199546\n",
            "1       454\n",
            "Name: Is Fraud?, dtype: int64\n",
            "p:0.4475 2015\n",
            "0    199576\n",
            "1       424\n",
            "Name: Is Fraud?, dtype: int64\n",
            "p:0.4491 2015\n",
            "0    199582\n",
            "1       418\n",
            "Name: Is Fraud?, dtype: int64\n",
            "p:0.4452 2015\n",
            "0    199598\n",
            "1       402\n",
            "Name: Is Fraud?, dtype: int64\n",
            "p:0.4526 2015\n",
            "0    199566\n",
            "1       434\n",
            "Name: Is Fraud?, dtype: int64\n",
            "p:0.4561 2015\n",
            "0    199559\n",
            "1       441\n",
            "Name: Is Fraud?, dtype: int64\n",
            "p:0.4569 2015\n",
            "0    199550\n",
            "1       450\n",
            "Name: Is Fraud?, dtype: int64\n",
            "p:0.4647 2015\n",
            "0    199534\n",
            "1       466\n",
            "Name: Is Fraud?, dtype: int64\n",
            "p:0.4725 2015\n",
            "0    199536\n",
            "1       464\n",
            "Name: Is Fraud?, dtype: int64\n",
            "p:0.4760 2015\n",
            "0    199542\n",
            "1       458\n",
            "Name: Is Fraud?, dtype: int64\n",
            "p:0.4719 2015\n",
            "0    199568\n",
            "1       432\n",
            "Name: Is Fraud?, dtype: int64\n",
            "p:0.4799 2015\n",
            "0    199566\n",
            "1       434\n",
            "Name: Is Fraud?, dtype: int64\n",
            "p:0.4755 2015\n",
            "0    199604\n",
            "1       396\n",
            "Name: Is Fraud?, dtype: int64\n",
            "p:0.4725 2015\n",
            "0    199633\n",
            "1       367\n",
            "Name: Is Fraud?, dtype: int64\n",
            "p:0.4656 2015\n",
            "0    199651\n",
            "1       349\n",
            "Name: Is Fraud?, dtype: int64\n",
            "p:0.4754 2015\n",
            "0    199629\n",
            "1       371\n",
            "Name: Is Fraud?, dtype: int64\n",
            "p:0.4749 2015\n",
            "0    199624\n",
            "1       376\n",
            "Name: Is Fraud?, dtype: int64\n",
            "p:0.4670 2015\n",
            "0    199630\n",
            "1       370\n",
            "Name: Is Fraud?, dtype: int64\n",
            "p:0.4748 2015\n",
            "0    199620\n",
            "1       380\n",
            "Name: Is Fraud?, dtype: int64\n",
            "p:0.4705 2015\n",
            "0    199604\n",
            "1       396\n",
            "Name: Is Fraud?, dtype: int64\n",
            "p:0.4730 2015\n",
            "0    199597\n",
            "1       403\n",
            "Name: Is Fraud?, dtype: int64\n",
            "p:0.4635 2015\n",
            "0    199590\n",
            "1       410\n",
            "Name: Is Fraud?, dtype: int64\n",
            "p:0.4689 2015\n",
            "0    199578\n",
            "1       422\n",
            "Name: Is Fraud?, dtype: int64\n",
            "p:0.4635 2015\n",
            "0    199589\n",
            "1       411\n",
            "Name: Is Fraud?, dtype: int64\n",
            "p:0.4770 2015\n",
            "0    199592\n",
            "1       408\n",
            "Name: Is Fraud?, dtype: int64\n",
            "p:0.4753 2015\n",
            "0    199587\n",
            "1       413\n",
            "Name: Is Fraud?, dtype: int64\n",
            "p:0.4847 2015\n",
            "0    199586\n",
            "1       414\n",
            "Name: Is Fraud?, dtype: int64\n",
            "p:0.4920 2015\n",
            "0    199587\n",
            "1       413\n",
            "Name: Is Fraud?, dtype: int64\n",
            "p:0.4982 2015\n",
            "0    199557\n",
            "1       443\n",
            "Name: Is Fraud?, dtype: int64\n",
            "p:0.4956 2015\n",
            "0    199551\n",
            "1       449\n",
            "Name: Is Fraud?, dtype: int64\n",
            "p:0.5004 2015\n",
            "0    199544\n",
            "1       456\n",
            "Name: Is Fraud?, dtype: int64\n",
            "p:0.5063 2015\n",
            "0    199537\n",
            "1       463\n",
            "Name: Is Fraud?, dtype: int64\n",
            "p:0.5077 2015\n",
            "0    199519\n",
            "1       481\n",
            "Name: Is Fraud?, dtype: int64\n",
            "p:0.5235 2015\n",
            "0    199488\n",
            "1       512\n",
            "Name: Is Fraud?, dtype: int64\n",
            "p:0.5190 2015\n",
            "0    199485\n",
            "1       515\n",
            "Name: Is Fraud?, dtype: int64\n",
            "p:0.5064 2015\n",
            "0    199495\n",
            "1       505\n",
            "Name: Is Fraud?, dtype: int64\n",
            "p:0.4970 2015\n",
            "0    199508\n",
            "1       492\n",
            "Name: Is Fraud?, dtype: int64\n",
            "p:0.5026 2015\n",
            "0    199475\n",
            "1       525\n",
            "Name: Is Fraud?, dtype: int64\n",
            "p:0.4914 2015\n",
            "0    199456\n",
            "1       544\n",
            "Name: Is Fraud?, dtype: int64\n",
            "p:0.4743 2015\n",
            "0    199469\n",
            "1       531\n",
            "Name: Is Fraud?, dtype: int64\n",
            "p:0.4575 2015\n",
            "0    199469\n",
            "1       531\n",
            "Name: Is Fraud?, dtype: int64\n",
            "p:0.4644 2015\n",
            "0    199436\n",
            "1       564\n",
            "Name: Is Fraud?, dtype: int64\n",
            "p:0.4649 2015\n",
            "0    199420\n",
            "1       580\n",
            "Name: Is Fraud?, dtype: int64\n",
            "p:0.4470 2015\n",
            "0    199403\n",
            "1       597\n",
            "Name: Is Fraud?, dtype: int64\n",
            "p:0.4355 2015\n",
            "0    199403\n",
            "1       597\n",
            "Name: Is Fraud?, dtype: int64\n",
            "p:0.4190 2015\n",
            "0    199423\n",
            "1       577\n",
            "Name: Is Fraud?, dtype: int64\n",
            "p:0.3904 2015\n",
            "0    199433\n",
            "1       567\n",
            "Name: Is Fraud?, dtype: int64\n",
            "p:0.3785 2015\n",
            "0    199439\n",
            "1       561\n",
            "Name: Is Fraud?, dtype: int64\n",
            "p:0.3577 2015\n",
            "0    199462\n",
            "1       538\n",
            "Name: Is Fraud?, dtype: int64\n",
            "p:0.3405 2015\n",
            "0    199473\n",
            "1       527\n",
            "Name: Is Fraud?, dtype: int64\n",
            "p:0.3195 2015\n",
            "0    199473\n",
            "1       527\n",
            "Name: Is Fraud?, dtype: int64\n",
            "p:0.3107 2015\n",
            "0    199469\n",
            "1       531\n",
            "Name: Is Fraud?, dtype: int64\n",
            "p:0.3045 2015\n",
            "0    199486\n",
            "1       514\n",
            "Name: Is Fraud?, dtype: int64\n",
            "p:0.2790 2015\n",
            "0    199525\n",
            "1       475\n",
            "Name: Is Fraud?, dtype: int64\n",
            "p:0.2738 2015\n",
            "0    199521\n",
            "1       479\n",
            "Name: Is Fraud?, dtype: int64\n",
            "p:0.2660 2015\n",
            "0    199529\n",
            "1       471\n",
            "Name: Is Fraud?, dtype: int64\n",
            "p:0.2596 2015\n",
            "0    199537\n",
            "1       463\n",
            "Name: Is Fraud?, dtype: int64\n",
            "p:0.2492 2015\n",
            "0    199562\n",
            "1       438\n",
            "Name: Is Fraud?, dtype: int64\n",
            "p:0.2411 2015\n",
            "0    199578\n",
            "1       422\n",
            "Name: Is Fraud?, dtype: int64\n",
            "p:0.2427 2015\n",
            "0    199571\n",
            "1       429\n",
            "Name: Is Fraud?, dtype: int64\n",
            "p:0.2449 2015\n",
            "0    199562\n",
            "1       438\n",
            "Name: Is Fraud?, dtype: int64\n",
            "p:0.2434 2015\n",
            "0    199561\n",
            "1       439\n",
            "Name: Is Fraud?, dtype: int64\n",
            "p:0.2250 2015\n",
            "0    199589\n",
            "1       411\n",
            "Name: Is Fraud?, dtype: int64\n",
            "p:0.2252 2015\n",
            "0    199596\n",
            "1       404\n",
            "Name: Is Fraud?, dtype: int64\n",
            "p:0.2170 2015\n",
            "0    199596\n",
            "1       404\n",
            "Name: Is Fraud?, dtype: int64\n",
            "p:0.2102 2015\n",
            "0    199609\n",
            "1       391\n",
            "Name: Is Fraud?, dtype: int64\n",
            "p:0.2093 2015\n",
            "0    199621\n",
            "1       379\n",
            "Name: Is Fraud?, dtype: int64\n",
            "p:0.2096 2015\n",
            "0    199612\n",
            "1       388\n",
            "Name: Is Fraud?, dtype: int64\n",
            "p:0.2151 2015\n",
            "0    199605\n",
            "1       395\n",
            "Name: Is Fraud?, dtype: int64\n",
            "p:0.2130 2015\n",
            "0    199612\n",
            "1       388\n",
            "Name: Is Fraud?, dtype: int64\n",
            "p:0.2215 2015\n",
            "0    199604\n",
            "1       396\n",
            "Name: Is Fraud?, dtype: int64\n",
            "p:0.2210 2015\n",
            "0    199604\n",
            "1       396\n",
            "Name: Is Fraud?, dtype: int64\n",
            "p:0.2185 2015\n",
            "0    199593\n",
            "1       407\n",
            "Name: Is Fraud?, dtype: int64\n",
            "p:0.2186 2015\n",
            "0    199578\n",
            "1       422\n",
            "Name: Is Fraud?, dtype: int64\n",
            "p:0.2197 2015\n",
            "0    199573\n",
            "1       427\n",
            "Name: Is Fraud?, dtype: int64\n",
            "p:0.2262 2015\n",
            "0    199568\n",
            "1       432\n",
            "Name: Is Fraud?, dtype: int64\n",
            "p:0.2269 2015\n",
            "0    199559\n",
            "1       441\n",
            "Name: Is Fraud?, dtype: int64\n",
            "p:0.2293 2015\n",
            "0    199553\n",
            "1       447\n",
            "Name: Is Fraud?, dtype: int64\n",
            "p:0.2362 2015\n",
            "0    199535\n",
            "1       465\n",
            "Name: Is Fraud?, dtype: int64\n",
            "p:0.2317 2015\n",
            "0    199546\n",
            "1       454\n",
            "Name: Is Fraud?, dtype: int64\n",
            "p:0.2314 2015\n",
            "0    199552\n",
            "1       448\n",
            "Name: Is Fraud?, dtype: int64\n",
            "p:0.2134 2015\n",
            "0    199577\n",
            "1       423\n",
            "Name: Is Fraud?, dtype: int64\n",
            "p:0.2029 2015\n",
            "0    199579\n",
            "1       421\n",
            "Name: Is Fraud?, dtype: int64\n",
            "p:0.1914 2015\n",
            "0    199578\n",
            "1       422\n",
            "Name: Is Fraud?, dtype: int64\n",
            "p:0.1827 2015\n",
            "0    199601\n",
            "1       399\n",
            "Name: Is Fraud?, dtype: int64\n",
            "p:0.1776 2015\n",
            "0    199600\n",
            "1       400\n",
            "Name: Is Fraud?, dtype: int64\n",
            "p:0.1766 2015\n",
            "0    199597\n",
            "1       403\n",
            "Name: Is Fraud?, dtype: int64\n",
            "p:0.1857 2015\n",
            "0    199567\n",
            "1       433\n",
            "Name: Is Fraud?, dtype: int64\n",
            "p:0.1816 2015\n",
            "0    199557\n",
            "1       443\n",
            "Name: Is Fraud?, dtype: int64\n",
            "p:0.1849 2015\n",
            "0    199534\n",
            "1       466\n",
            "Name: Is Fraud?, dtype: int64\n",
            "p:0.1811 2015\n",
            "0    199536\n",
            "1       464\n",
            "Name: Is Fraud?, dtype: int64\n",
            "p:0.1798 2015\n",
            "0    199536\n",
            "1       464\n",
            "Name: Is Fraud?, dtype: int64\n",
            "p:0.1828 2015\n",
            "0    199524\n",
            "1       476\n",
            "Name: Is Fraud?, dtype: int64\n",
            "p:0.1899 2015\n",
            "0    199522\n",
            "1       478\n",
            "Name: Is Fraud?, dtype: int64\n",
            "p:0.2001 2015\n",
            "0    199504\n",
            "1       496\n",
            "Name: Is Fraud?, dtype: int64\n",
            "p:0.2018 2015\n",
            "0    199491\n",
            "1       509\n",
            "Name: Is Fraud?, dtype: int64\n",
            "p:0.2134 2015\n",
            "0    199445\n",
            "1       555\n",
            "Name: Is Fraud?, dtype: int64\n",
            "p:0.2171 2015\n",
            "0    199427\n",
            "1       573\n",
            "Name: Is Fraud?, dtype: int64\n",
            "p:0.2092 2015\n",
            "0    199447\n",
            "1       553\n",
            "Name: Is Fraud?, dtype: int64\n",
            "p:0.2115 2015\n",
            "0    199423\n",
            "1       577\n",
            "Name: Is Fraud?, dtype: int64\n",
            "p:0.2186 2015\n",
            "0    199374\n",
            "1       626\n",
            "Name: Is Fraud?, dtype: int64\n",
            "p:0.2242 2015\n",
            "0    199370\n",
            "1       630\n",
            "Name: Is Fraud?, dtype: int64\n",
            "p:0.2363 2015\n",
            "0    199347\n",
            "1       653\n",
            "Name: Is Fraud?, dtype: int64\n",
            "p:0.2576 2015\n",
            "0    199289\n",
            "1       711\n",
            "Name: Is Fraud?, dtype: int64\n",
            "p:0.2727 2015\n",
            "0    199252\n",
            "1       748\n",
            "Name: Is Fraud?, dtype: int64\n",
            "p:0.2861 2015\n",
            "0    199236\n",
            "1       764\n",
            "Name: Is Fraud?, dtype: int64\n",
            "p:0.3067 2015\n",
            "0    199183\n",
            "1       817\n",
            "Name: Is Fraud?, dtype: int64\n",
            "p:0.3105 2015\n",
            "0    199190\n",
            "1       810\n",
            "Name: Is Fraud?, dtype: int64\n",
            "p:0.3233 2015\n",
            "0    199195\n",
            "1       805\n",
            "Name: Is Fraud?, dtype: int64\n",
            "p:0.3327 2016\n",
            "0    199188\n",
            "1       812\n",
            "Name: Is Fraud?, dtype: int64\n",
            "p:0.3428 2016\n",
            "0    199170\n",
            "1       830\n",
            "Name: Is Fraud?, dtype: int64\n",
            "p:0.3444 2016\n",
            "0    199159\n",
            "1       841\n",
            "Name: Is Fraud?, dtype: int64\n",
            "p:0.3493 2016\n",
            "0    199176\n",
            "1       824\n",
            "Name: Is Fraud?, dtype: int64\n",
            "p:0.3498 2016\n",
            "0    199153\n",
            "1       847\n",
            "Name: Is Fraud?, dtype: int64\n",
            "p:0.3460 2016\n",
            "0    199154\n",
            "1       846\n",
            "Name: Is Fraud?, dtype: int64\n",
            "p:0.3465 2016\n",
            "0    199175\n",
            "1       825\n",
            "Name: Is Fraud?, dtype: int64\n",
            "p:0.3457 2016\n",
            "0    199192\n",
            "1       808\n",
            "Name: Is Fraud?, dtype: int64\n",
            "p:0.3485 2016\n",
            "0    199207\n",
            "1       793\n",
            "Name: Is Fraud?, dtype: int64\n",
            "p:0.3638 2016\n",
            "0    199199\n",
            "1       801\n",
            "Name: Is Fraud?, dtype: int64\n",
            "p:0.3778 2016\n",
            "0    199205\n",
            "1       795\n",
            "Name: Is Fraud?, dtype: int64\n",
            "p:0.3801 2016\n",
            "0    199240\n",
            "1       760\n",
            "Name: Is Fraud?, dtype: int64\n",
            "p:0.3947 2016\n",
            "0    199247\n",
            "1       753\n",
            "Name: Is Fraud?, dtype: int64\n",
            "p:0.4165 2016\n",
            "0    199277\n",
            "1       723\n",
            "Name: Is Fraud?, dtype: int64\n",
            "p:0.4119 2016\n",
            "0    199317\n",
            "1       683\n",
            "Name: Is Fraud?, dtype: int64\n",
            "p:0.4126 2016\n",
            "0    199347\n",
            "1       653\n",
            "Name: Is Fraud?, dtype: int64\n",
            "p:0.4104 2016\n",
            "0    199355\n",
            "1       645\n",
            "Name: Is Fraud?, dtype: int64\n",
            "p:0.3868 2016\n",
            "0    199381\n",
            "1       619\n",
            "Name: Is Fraud?, dtype: int64\n",
            "p:0.3544 2016\n",
            "0    199406\n",
            "1       594\n",
            "Name: Is Fraud?, dtype: int64\n",
            "p:0.3468 2016\n",
            "0    199422\n",
            "1       578\n",
            "Name: Is Fraud?, dtype: int64\n",
            "p:0.3595 2016\n",
            "0    199430\n",
            "1       570\n",
            "Name: Is Fraud?, dtype: int64\n",
            "p:0.3628 2016\n",
            "0    199431\n",
            "1       569\n",
            "Name: Is Fraud?, dtype: int64\n",
            "p:0.3696 2016\n",
            "0    199461\n",
            "1       539\n",
            "Name: Is Fraud?, dtype: int64\n",
            "p:0.3611 2016\n",
            "0    199486\n",
            "1       514\n",
            "Name: Is Fraud?, dtype: int64\n",
            "p:0.3592 2016\n",
            "0    199507\n",
            "1       493\n",
            "Name: Is Fraud?, dtype: int64\n",
            "p:0.3632 2016\n",
            "0    199515\n",
            "1       485\n",
            "Name: Is Fraud?, dtype: int64\n",
            "p:0.3613 2016\n",
            "0    199515\n",
            "1       485\n",
            "Name: Is Fraud?, dtype: int64\n",
            "p:0.3692 2016\n",
            "0    199525\n",
            "1       475\n",
            "Name: Is Fraud?, dtype: int64\n",
            "p:0.3777 2016\n",
            "0    199530\n",
            "1       470\n",
            "Name: Is Fraud?, dtype: int64\n",
            "p:0.3774 2016\n",
            "0    199554\n",
            "1       446\n",
            "Name: Is Fraud?, dtype: int64\n",
            "p:0.3714 2016\n",
            "0    199569\n",
            "1       431\n",
            "Name: Is Fraud?, dtype: int64\n",
            "p:0.3782 2016\n",
            "0    199580\n",
            "1       420\n",
            "Name: Is Fraud?, dtype: int64\n",
            "p:0.3683 2016\n",
            "0    199593\n",
            "1       407\n",
            "Name: Is Fraud?, dtype: int64\n",
            "p:0.3826 2016\n",
            "0    199567\n",
            "1       433\n",
            "Name: Is Fraud?, dtype: int64\n",
            "p:0.3984 2016\n",
            "0    199564\n",
            "1       436\n",
            "Name: Is Fraud?, dtype: int64\n",
            "p:0.3980 2016\n",
            "0    199551\n",
            "1       449\n",
            "Name: Is Fraud?, dtype: int64\n",
            "p:0.4010 2016\n",
            "0    199549\n",
            "1       451\n",
            "Name: Is Fraud?, dtype: int64\n",
            "p:0.4055 2016\n",
            "0    199571\n",
            "1       429\n",
            "Name: Is Fraud?, dtype: int64\n",
            "p:0.4264 2016\n",
            "0    199584\n",
            "1       416\n",
            "Name: Is Fraud?, dtype: int64\n",
            "p:0.4322 2016\n",
            "0    199582\n",
            "1       418\n",
            "Name: Is Fraud?, dtype: int64\n",
            "p:0.4447 2016\n",
            "0    199577\n",
            "1       423\n",
            "Name: Is Fraud?, dtype: int64\n",
            "p:0.4407 2016\n",
            "0    199590\n",
            "1       410\n",
            "Name: Is Fraud?, dtype: int64\n",
            "p:0.4426 2016\n",
            "0    199586\n",
            "1       414\n",
            "Name: Is Fraud?, dtype: int64\n",
            "p:0.4583 2016\n",
            "0    199549\n",
            "1       451\n",
            "Name: Is Fraud?, dtype: int64\n",
            "p:0.4597 2016\n",
            "0    199548\n",
            "1       452\n",
            "Name: Is Fraud?, dtype: int64\n",
            "p:0.4592 2016\n",
            "0    199561\n",
            "1       439\n",
            "Name: Is Fraud?, dtype: int64\n",
            "p:0.4560 2016\n",
            "0    199551\n",
            "1       449\n",
            "Name: Is Fraud?, dtype: int64\n",
            "p:0.4519 2016\n",
            "0    199576\n",
            "1       424\n",
            "Name: Is Fraud?, dtype: int64\n",
            "p:0.4470 2016\n",
            "0    199574\n",
            "1       426\n",
            "Name: Is Fraud?, dtype: int64\n",
            "p:0.4464 2016\n",
            "0    199544\n",
            "1       456\n",
            "Name: Is Fraud?, dtype: int64\n",
            "p:0.4467 2016\n",
            "0    199543\n",
            "1       457\n",
            "Name: Is Fraud?, dtype: int64\n",
            "p:0.4426 2016\n",
            "0    199544\n",
            "1       456\n",
            "Name: Is Fraud?, dtype: int64\n",
            "p:0.4399 2016\n",
            "0    199542\n",
            "1       458\n",
            "Name: Is Fraud?, dtype: int64\n",
            "p:0.4371 2016\n",
            "0    199546\n",
            "1       454\n",
            "Name: Is Fraud?, dtype: int64\n",
            "p:0.4326 2016\n",
            "0    199544\n",
            "1       456\n",
            "Name: Is Fraud?, dtype: int64\n",
            "p:0.4278 2016\n",
            "0    199549\n",
            "1       451\n",
            "Name: Is Fraud?, dtype: int64\n",
            "p:0.4409 2016\n",
            "0    199531\n",
            "1       469\n",
            "Name: Is Fraud?, dtype: int64\n",
            "p:0.4363 2016\n",
            "0    199519\n",
            "1       481\n",
            "Name: Is Fraud?, dtype: int64\n",
            "p:0.4369 2016\n",
            "0    199509\n",
            "1       491\n",
            "Name: Is Fraud?, dtype: int64\n",
            "p:0.4411 2016\n",
            "0    199504\n",
            "1       496\n",
            "Name: Is Fraud?, dtype: int64\n",
            "p:0.4365 2016\n",
            "0    199518\n",
            "1       482\n",
            "Name: Is Fraud?, dtype: int64\n",
            "p:0.4344 2016\n",
            "0    199518\n",
            "1       482\n",
            "Name: Is Fraud?, dtype: int64\n",
            "p:0.4263 2016\n",
            "0    199520\n",
            "1       480\n",
            "Name: Is Fraud?, dtype: int64\n",
            "p:0.4183 2016\n",
            "0    199531\n",
            "1       469\n",
            "Name: Is Fraud?, dtype: int64\n",
            "p:0.4107 2016\n",
            "0    199537\n",
            "1       463\n",
            "Name: Is Fraud?, dtype: int64\n",
            "p:0.4041 2016\n",
            "0    199541\n",
            "1       459\n",
            "Name: Is Fraud?, dtype: int64\n",
            "p:0.4041 2016\n",
            "0    199543\n",
            "1       457\n",
            "Name: Is Fraud?, dtype: int64\n",
            "p:0.4037 2016\n",
            "0    199529\n",
            "1       471\n",
            "Name: Is Fraud?, dtype: int64\n",
            "p:0.3912 2016\n",
            "0    199556\n",
            "1       444\n",
            "Name: Is Fraud?, dtype: int64\n",
            "p:0.3929 2016\n",
            "0    199558\n",
            "1       442\n",
            "Name: Is Fraud?, dtype: int64\n",
            "p:0.3927 2016\n",
            "0    199563\n",
            "1       437\n",
            "Name: Is Fraud?, dtype: int64\n",
            "p:0.3960 2016\n",
            "0    199560\n",
            "1       440\n",
            "Name: Is Fraud?, dtype: int64\n",
            "p:0.4007 2016\n",
            "0    199545\n",
            "1       455\n",
            "Name: Is Fraud?, dtype: int64\n",
            "p:0.4028 2016\n",
            "0    199559\n",
            "1       441\n",
            "Name: Is Fraud?, dtype: int64\n",
            "p:0.4066 2016\n",
            "0    199578\n",
            "1       422\n",
            "Name: Is Fraud?, dtype: int64\n",
            "p:0.4154 2016\n",
            "0    199585\n",
            "1       415\n",
            "Name: Is Fraud?, dtype: int64\n",
            "p:0.4080 2016\n",
            "0    199598\n",
            "1       402\n",
            "Name: Is Fraud?, dtype: int64\n",
            "p:0.4097 2016\n",
            "0    199605\n",
            "1       395\n",
            "Name: Is Fraud?, dtype: int64\n",
            "p:0.4023 2016\n",
            "0    199614\n",
            "1       386\n",
            "Name: Is Fraud?, dtype: int64\n",
            "p:0.3902 2016\n",
            "0    199626\n",
            "1       374\n",
            "Name: Is Fraud?, dtype: int64\n",
            "p:0.3801 2016\n",
            "0    199617\n",
            "1       383\n",
            "Name: Is Fraud?, dtype: int64\n",
            "p:0.3876 2016\n",
            "0    199626\n",
            "1       374\n",
            "Name: Is Fraud?, dtype: int64\n",
            "p:0.4004 2016\n",
            "0    199619\n",
            "1       381\n",
            "Name: Is Fraud?, dtype: int64\n",
            "p:0.3937 2016\n",
            "0    199633\n",
            "1       367\n",
            "Name: Is Fraud?, dtype: int64\n",
            "p:0.4193 2016\n",
            "0    199622\n",
            "1       378\n",
            "Name: Is Fraud?, dtype: int64\n",
            "p:0.4264 2016\n",
            "0    199619\n",
            "1       381\n",
            "Name: Is Fraud?, dtype: int64\n",
            "p:0.4332 2016\n",
            "0    199635\n",
            "1       365\n",
            "Name: Is Fraud?, dtype: int64\n",
            "p:0.4392 2016\n",
            "0    199642\n",
            "1       358\n",
            "Name: Is Fraud?, dtype: int64\n",
            "p:0.4504 2016\n",
            "0    199632\n",
            "1       368\n",
            "Name: Is Fraud?, dtype: int64\n",
            "p:0.4459 2016\n",
            "0    199633\n",
            "1       367\n",
            "Name: Is Fraud?, dtype: int64\n",
            "p:0.4546 2016\n",
            "0    199624\n",
            "1       376\n",
            "Name: Is Fraud?, dtype: int64\n",
            "p:0.4539 2016\n",
            "0    199631\n",
            "1       369\n",
            "Name: Is Fraud?, dtype: int64\n",
            "p:0.4594 2016\n",
            "0    199628\n",
            "1       372\n",
            "Name: Is Fraud?, dtype: int64\n",
            "p:0.4550 2016\n",
            "0    199623\n",
            "1       377\n",
            "Name: Is Fraud?, dtype: int64\n",
            "p:0.4630 2016\n",
            "0    199610\n",
            "1       390\n",
            "Name: Is Fraud?, dtype: int64\n",
            "p:0.4551 2016\n",
            "0    199612\n",
            "1       388\n",
            "Name: Is Fraud?, dtype: int64\n",
            "p:0.4489 2016\n",
            "0    199625\n",
            "1       375\n",
            "Name: Is Fraud?, dtype: int64\n",
            "p:0.4303 2016\n",
            "0    199636\n",
            "1       364\n",
            "Name: Is Fraud?, dtype: int64\n",
            "p:0.4232 2016\n",
            "0    199631\n",
            "1       369\n",
            "Name: Is Fraud?, dtype: int64\n",
            "p:0.4232 2016\n",
            "0    199626\n",
            "1       374\n",
            "Name: Is Fraud?, dtype: int64\n",
            "p:0.4142 2016\n",
            "0    199635\n",
            "1       365\n",
            "Name: Is Fraud?, dtype: int64\n",
            "p:0.3971 2016\n",
            "0    199644\n",
            "1       356\n",
            "Name: Is Fraud?, dtype: int64\n",
            "p:0.3832 2016\n",
            "0    199652\n",
            "1       348\n",
            "Name: Is Fraud?, dtype: int64\n",
            "p:0.3753 2016\n",
            "0    199654\n",
            "1       346\n",
            "Name: Is Fraud?, dtype: int64\n",
            "p:0.3495 2016\n",
            "0    199644\n",
            "1       356\n",
            "Name: Is Fraud?, dtype: int64\n",
            "p:0.3333 2016\n",
            "0    199632\n",
            "1       368\n",
            "Name: Is Fraud?, dtype: int64\n",
            "p:0.3250 2016\n",
            "0    199618\n",
            "1       382\n",
            "Name: Is Fraud?, dtype: int64\n",
            "p:0.3027 2016\n",
            "0    199623\n",
            "1       377\n",
            "Name: Is Fraud?, dtype: int64\n",
            "p:0.2903 2016\n",
            "0    199610\n",
            "1       390\n",
            "Name: Is Fraud?, dtype: int64\n",
            "p:0.2827 2016\n",
            "0    199616\n",
            "1       384\n",
            "Name: Is Fraud?, dtype: int64\n",
            "p:0.2678 2016\n",
            "0    199611\n",
            "1       389\n",
            "Name: Is Fraud?, dtype: int64\n",
            "p:0.2496 2016\n",
            "0    199620\n",
            "1       380\n",
            "Name: Is Fraud?, dtype: int64\n",
            "p:0.2519 2016\n",
            "0    199594\n",
            "1       406\n",
            "Name: Is Fraud?, dtype: int64\n",
            "p:0.2483 2016\n",
            "0    199584\n",
            "1       416\n",
            "Name: Is Fraud?, dtype: int64\n",
            "p:0.2308 2016\n",
            "0    199607\n",
            "1       393\n",
            "Name: Is Fraud?, dtype: int64\n",
            "p:0.2313 2016\n",
            "0    199595\n",
            "1       405\n",
            "Name: Is Fraud?, dtype: int64\n",
            "p:0.2278 2016\n",
            "0    199591\n",
            "1       409\n",
            "Name: Is Fraud?, dtype: int64\n",
            "p:0.2265 2016\n",
            "0    199587\n",
            "1       413\n",
            "Name: Is Fraud?, dtype: int64\n",
            "p:0.2357 2016\n",
            "0    199570\n",
            "1       430\n",
            "Name: Is Fraud?, dtype: int64\n",
            "p:0.2330 2016\n",
            "0    199558\n",
            "1       442\n",
            "Name: Is Fraud?, dtype: int64\n",
            "p:0.2304 2016\n",
            "0    199552\n",
            "1       448\n",
            "Name: Is Fraud?, dtype: int64\n",
            "p:0.2307 2016\n",
            "0    199536\n",
            "1       464\n",
            "Name: Is Fraud?, dtype: int64\n",
            "p:0.2313 2016\n",
            "0    199515\n",
            "1       485\n",
            "Name: Is Fraud?, dtype: int64\n",
            "p:0.2307 2016\n",
            "0    199506\n",
            "1       494\n",
            "Name: Is Fraud?, dtype: int64\n",
            "p:0.2231 2016\n",
            "0    199532\n",
            "1       468\n",
            "Name: Is Fraud?, dtype: int64\n",
            "p:0.2283 2016\n",
            "0    199520\n",
            "1       480\n",
            "Name: Is Fraud?, dtype: int64\n",
            "p:0.2272 2016\n",
            "0    199525\n",
            "1       475\n",
            "Name: Is Fraud?, dtype: int64\n",
            "p:0.2349 2016\n",
            "0    199522\n",
            "1       478\n",
            "Name: Is Fraud?, dtype: int64\n",
            "p:0.2380 2016\n",
            "0    199531\n",
            "1       469\n",
            "Name: Is Fraud?, dtype: int64\n",
            "p:0.2370 2016\n",
            "0    199533\n",
            "1       467\n",
            "Name: Is Fraud?, dtype: int64\n",
            "p:0.2348 2016\n",
            "0    199540\n",
            "1       460\n",
            "Name: Is Fraud?, dtype: int64\n",
            "p:0.2432 2016\n",
            "0    199524\n",
            "1       476\n",
            "Name: Is Fraud?, dtype: int64\n",
            "p:0.2310 2016\n",
            "0    199560\n",
            "1       440\n",
            "Name: Is Fraud?, dtype: int64\n",
            "p:0.2228 2016\n",
            "0    199581\n",
            "1       419\n",
            "Name: Is Fraud?, dtype: int64\n",
            "p:0.2242 2016\n",
            "0    199574\n",
            "1       426\n",
            "Name: Is Fraud?, dtype: int64\n",
            "p:0.2166 2016\n",
            "0    199583\n",
            "1       417\n",
            "Name: Is Fraud?, dtype: int64\n",
            "p:0.2131 2016\n",
            "0    199582\n",
            "1       418\n",
            "Name: Is Fraud?, dtype: int64\n",
            "p:0.2131 2016\n",
            "0    199582\n",
            "1       418\n",
            "Name: Is Fraud?, dtype: int64\n",
            "p:0.2095 2016\n",
            "0    199578\n",
            "1       422\n",
            "Name: Is Fraud?, dtype: int64\n",
            "p:0.2067 2016\n",
            "0    199595\n",
            "1       405\n",
            "Name: Is Fraud?, dtype: int64\n",
            "p:0.2015 2016\n",
            "0    199614\n",
            "1       386\n",
            "Name: Is Fraud?, dtype: int64\n",
            "p:0.2011 2016\n",
            "0    199623\n",
            "1       377\n",
            "Name: Is Fraud?, dtype: int64\n",
            "p:0.2002 2016\n",
            "0    199628\n",
            "1       372\n",
            "Name: Is Fraud?, dtype: int64\n",
            "p:0.1941 2016\n",
            "0    199631\n",
            "1       369\n",
            "Name: Is Fraud?, dtype: int64\n",
            "p:0.1892 2016\n",
            "0    199621\n",
            "1       379\n",
            "Name: Is Fraud?, dtype: int64\n",
            "p:0.1791 2016\n",
            "0    199627\n",
            "1       373\n",
            "Name: Is Fraud?, dtype: int64\n",
            "p:0.1728 2016\n",
            "0    199632\n",
            "1       368\n",
            "Name: Is Fraud?, dtype: int64\n",
            "p:0.1594 2016\n",
            "0    199642\n",
            "1       358\n",
            "Name: Is Fraud?, dtype: int64\n",
            "p:0.1601 2016\n",
            "0    199620\n",
            "1       380\n",
            "Name: Is Fraud?, dtype: int64\n",
            "p:0.1529 2016\n",
            "0    199633\n",
            "1       367\n",
            "Name: Is Fraud?, dtype: int64\n",
            "p:0.1500 2016\n",
            "0    199634\n",
            "1       366\n",
            "Name: Is Fraud?, dtype: int64\n",
            "p:0.1551 2016\n",
            "0    199612\n",
            "1       388\n",
            "Name: Is Fraud?, dtype: int64\n",
            "p:0.1529 2016\n",
            "0    199618\n",
            "1       382\n",
            "Name: Is Fraud?, dtype: int64\n",
            "p:0.1567 2016\n",
            "0    199600\n",
            "1       400\n",
            "Name: Is Fraud?, dtype: int64\n",
            "p:0.1566 2016\n",
            "0    199590\n",
            "1       410\n",
            "Name: Is Fraud?, dtype: int64\n",
            "p:0.1578 2016\n",
            "0    199597\n",
            "1       403\n",
            "Name: Is Fraud?, dtype: int64\n",
            "p:0.1582 2016\n",
            "0    199599\n",
            "1       401\n",
            "Name: Is Fraud?, dtype: int64\n",
            "p:0.1560 2016\n",
            "0    199606\n",
            "1       394\n",
            "Name: Is Fraud?, dtype: int64\n",
            "p:0.1478 2016\n",
            "0    199632\n",
            "1       368\n",
            "Name: Is Fraud?, dtype: int64\n",
            "p:0.1481 2016\n",
            "0    199625\n",
            "1       375\n",
            "Name: Is Fraud?, dtype: int64\n",
            "p:0.1510 2016\n",
            "0    199613\n",
            "1       387\n",
            "Name: Is Fraud?, dtype: int64\n",
            "p:0.1601 2016\n",
            "0    199590\n",
            "1       410\n",
            "Name: Is Fraud?, dtype: int64\n",
            "p:0.1546 2016\n",
            "0    199610\n",
            "1       390\n",
            "Name: Is Fraud?, dtype: int64\n",
            "p:0.1601 2016\n",
            "0    199602\n",
            "1       398\n",
            "Name: Is Fraud?, dtype: int64\n",
            "p:0.1666 2016\n",
            "0    199594\n",
            "1       406\n",
            "Name: Is Fraud?, dtype: int64\n",
            "p:0.1621 2016\n",
            "0    199624\n",
            "1       376\n",
            "Name: Is Fraud?, dtype: int64\n",
            "p:0.1605 2016\n",
            "0    199638\n",
            "1       362\n",
            "Name: Is Fraud?, dtype: int64\n",
            "p:0.1647 2016\n",
            "0    199647\n",
            "1       353\n",
            "Name: Is Fraud?, dtype: int64\n",
            "p:0.1609 2016\n",
            "0    199683\n",
            "1       317\n",
            "Name: Is Fraud?, dtype: int64\n",
            "p:0.1635 2016\n",
            "0    199694\n",
            "1       306\n",
            "Name: Is Fraud?, dtype: int64\n",
            "p:0.1668 2017\n",
            "0    199714\n",
            "1       286\n",
            "Name: Is Fraud?, dtype: int64\n",
            "p:0.1563 2017\n",
            "0    199756\n",
            "1       244\n",
            "Name: Is Fraud?, dtype: int64\n",
            "p:0.1581 2017\n",
            "0    199765\n",
            "1       235\n",
            "Name: Is Fraud?, dtype: int64\n",
            "p:0.1552 2017\n",
            "0    199790\n",
            "1       210\n",
            "Name: Is Fraud?, dtype: int64\n",
            "p:0.1537 2017\n",
            "0    199813\n",
            "1       187\n",
            "Name: Is Fraud?, dtype: int64\n",
            "p:0.1530 2017\n",
            "0    199824\n",
            "1       176\n",
            "Name: Is Fraud?, dtype: int64\n",
            "p:0.1503 2017\n",
            "0    199843\n",
            "1       157\n",
            "Name: Is Fraud?, dtype: int64\n",
            "p:0.1549 2017\n",
            "0    199849\n",
            "1       151\n",
            "Name: Is Fraud?, dtype: int64\n",
            "p:0.1551 2017\n",
            "0    199863\n",
            "1       137\n",
            "Name: Is Fraud?, dtype: int64\n",
            "p:0.1514 2017\n",
            "0    199881\n",
            "1       119\n",
            "Name: Is Fraud?, dtype: int64\n",
            "p:0.1523 2017\n",
            "0    199895\n",
            "1       105\n",
            "Name: Is Fraud?, dtype: int64\n",
            "p:0.1122 2017\n",
            "0    199930\n",
            "1        70\n",
            "Name: Is Fraud?, dtype: int64\n",
            "p:0.1053 2017\n",
            "0    199944\n",
            "1        56\n",
            "Name: Is Fraud?, dtype: int64\n",
            "p:0.0693 2017\n",
            "0    199971\n",
            "1        29\n",
            "Name: Is Fraud?, dtype: int64\n",
            "p:0.0106 2017\n",
            "0    199998\n",
            "1         2\n",
            "Name: Is Fraud?, dtype: int64\n",
            "p:0.0145 2017\n",
            "0    199998\n",
            "1         2\n",
            "Name: Is Fraud?, dtype: int64\n",
            "p:0.0000 2017\n",
            "0    200000\n",
            "Name: Is Fraud?, dtype: int64\n",
            "p:0.0000 2017\n",
            "0    200000\n",
            "Name: Is Fraud?, dtype: int64\n",
            "p:0.0000 2017\n",
            "0    200000\n",
            "Name: Is Fraud?, dtype: int64\n",
            "p:0.0000 2017\n",
            "0    200000\n",
            "Name: Is Fraud?, dtype: int64\n",
            "p:0.0000 2017\n",
            "0    200000\n",
            "Name: Is Fraud?, dtype: int64\n",
            "p:0.0000 2017\n",
            "0    200000\n",
            "Name: Is Fraud?, dtype: int64\n",
            "p:0.0000 2017\n",
            "0    200000\n",
            "Name: Is Fraud?, dtype: int64\n",
            "p:0.0000 2017\n",
            "0    200000\n",
            "Name: Is Fraud?, dtype: int64\n",
            "p:0.0000 2017\n",
            "0    200000\n",
            "Name: Is Fraud?, dtype: int64\n",
            "p:0.0000 2017\n",
            "0    200000\n",
            "Name: Is Fraud?, dtype: int64\n",
            "p:0.0000 2017\n",
            "0    200000\n",
            "Name: Is Fraud?, dtype: int64\n",
            "p:0.0000 2017\n",
            "0    200000\n",
            "Name: Is Fraud?, dtype: int64\n",
            "p:0.0000 2017\n",
            "0    200000\n",
            "Name: Is Fraud?, dtype: int64\n",
            "p:0.0000 2017\n",
            "0    200000\n",
            "Name: Is Fraud?, dtype: int64\n",
            "p:0.0000 2017\n",
            "0    200000\n",
            "Name: Is Fraud?, dtype: int64\n",
            "p:0.0000 2017\n",
            "0    200000\n",
            "Name: Is Fraud?, dtype: int64\n",
            "p:0.0000 2017\n",
            "0    200000\n",
            "Name: Is Fraud?, dtype: int64\n",
            "p:0.0000 2017\n",
            "0    200000\n",
            "Name: Is Fraud?, dtype: int64\n",
            "p:0.0000 2017\n",
            "0    200000\n",
            "Name: Is Fraud?, dtype: int64\n",
            "p:0.0000 2017\n",
            "0    200000\n",
            "Name: Is Fraud?, dtype: int64\n",
            "p:0.0000 2017\n",
            "0    200000\n",
            "Name: Is Fraud?, dtype: int64\n",
            "p:0.0000 2017\n",
            "0    200000\n",
            "Name: Is Fraud?, dtype: int64\n",
            "p:0.0000 2017\n",
            "0    200000\n",
            "Name: Is Fraud?, dtype: int64\n",
            "p:0.0000 2017\n",
            "0    200000\n",
            "Name: Is Fraud?, dtype: int64\n",
            "p:0.0000 2017\n",
            "0    200000\n",
            "Name: Is Fraud?, dtype: int64\n",
            "p:0.0000 2017\n",
            "0    200000\n",
            "Name: Is Fraud?, dtype: int64\n",
            "p:0.0000 2017\n",
            "0    200000\n",
            "Name: Is Fraud?, dtype: int64\n",
            "p:0.0000 2017\n",
            "0    200000\n",
            "Name: Is Fraud?, dtype: int64\n",
            "p:0.0000 2017\n",
            "0    200000\n",
            "Name: Is Fraud?, dtype: int64\n",
            "p:0.0000 2017\n",
            "0    200000\n",
            "Name: Is Fraud?, dtype: int64\n",
            "p:0.0000 2017\n",
            "0    200000\n",
            "Name: Is Fraud?, dtype: int64\n",
            "p:0.0000 2017\n",
            "0    200000\n",
            "Name: Is Fraud?, dtype: int64\n",
            "p:0.0000 2017\n",
            "0    200000\n",
            "Name: Is Fraud?, dtype: int64\n",
            "p:0.0000 2017\n",
            "0    200000\n",
            "Name: Is Fraud?, dtype: int64\n",
            "p:0.0000 2017\n",
            "0    200000\n",
            "Name: Is Fraud?, dtype: int64\n",
            "p:0.0000 2017\n",
            "0    200000\n",
            "Name: Is Fraud?, dtype: int64\n",
            "p:0.0000 2017\n",
            "0    200000\n",
            "Name: Is Fraud?, dtype: int64\n",
            "p:0.0000 2017\n",
            "0    200000\n",
            "Name: Is Fraud?, dtype: int64\n",
            "p:0.0000 2017\n",
            "0    200000\n",
            "Name: Is Fraud?, dtype: int64\n",
            "p:0.0000 2017\n",
            "0    200000\n",
            "Name: Is Fraud?, dtype: int64\n",
            "p:0.0000 2017\n",
            "0    200000\n",
            "Name: Is Fraud?, dtype: int64\n",
            "p:0.0000 2017\n",
            "0    200000\n",
            "Name: Is Fraud?, dtype: int64\n",
            "p:0.0000 2017\n",
            "0    200000\n",
            "Name: Is Fraud?, dtype: int64\n",
            "p:0.0000 2017\n",
            "0    200000\n",
            "Name: Is Fraud?, dtype: int64\n",
            "p:0.0000 2017\n",
            "0    200000\n",
            "Name: Is Fraud?, dtype: int64\n",
            "p:0.0000 2017\n",
            "0    200000\n",
            "Name: Is Fraud?, dtype: int64\n",
            "p:0.0000 2017\n",
            "0    200000\n",
            "Name: Is Fraud?, dtype: int64\n",
            "p:0.0000 2017\n",
            "0    200000\n",
            "Name: Is Fraud?, dtype: int64\n",
            "p:0.0000 2017\n",
            "0    200000\n",
            "Name: Is Fraud?, dtype: int64\n",
            "p:0.0000 2017\n",
            "0    200000\n",
            "Name: Is Fraud?, dtype: int64\n",
            "p:0.0000 2017\n",
            "0    200000\n",
            "Name: Is Fraud?, dtype: int64\n",
            "p:0.0000 2017\n",
            "0    200000\n",
            "Name: Is Fraud?, dtype: int64\n",
            "p:0.0000 2017\n",
            "0    200000\n",
            "Name: Is Fraud?, dtype: int64\n",
            "p:0.0000 2017\n",
            "0    200000\n",
            "Name: Is Fraud?, dtype: int64\n",
            "p:0.0000 2017\n",
            "0    200000\n",
            "Name: Is Fraud?, dtype: int64\n",
            "p:0.0000 2017\n",
            "0    200000\n",
            "Name: Is Fraud?, dtype: int64\n",
            "p:0.0000 2017\n",
            "0    200000\n",
            "Name: Is Fraud?, dtype: int64\n",
            "p:0.0000 2017\n",
            "0    200000\n",
            "Name: Is Fraud?, dtype: int64\n",
            "p:0.0000 2017\n",
            "0    200000\n",
            "Name: Is Fraud?, dtype: int64\n",
            "p:0.0000 2017\n",
            "0    200000\n",
            "Name: Is Fraud?, dtype: int64\n",
            "p:0.0000 2017\n",
            "0    200000\n",
            "Name: Is Fraud?, dtype: int64\n",
            "p:0.0000 2017\n",
            "0    200000\n",
            "Name: Is Fraud?, dtype: int64\n",
            "p:0.0000 2017\n",
            "0    200000\n",
            "Name: Is Fraud?, dtype: int64\n",
            "p:0.0000 2017\n",
            "0    200000\n",
            "Name: Is Fraud?, dtype: int64\n",
            "p:0.0000 2017\n",
            "0    200000\n",
            "Name: Is Fraud?, dtype: int64\n",
            "p:0.0000 2017\n",
            "0    200000\n",
            "Name: Is Fraud?, dtype: int64\n",
            "p:0.0000 2017\n",
            "0    200000\n",
            "Name: Is Fraud?, dtype: int64\n",
            "p:0.0000 2017\n",
            "0    200000\n",
            "Name: Is Fraud?, dtype: int64\n",
            "p:0.0000 2017\n",
            "0    200000\n",
            "Name: Is Fraud?, dtype: int64\n",
            "p:0.0000 2017\n",
            "0    200000\n",
            "Name: Is Fraud?, dtype: int64\n",
            "p:0.0000 2017\n",
            "0    200000\n",
            "Name: Is Fraud?, dtype: int64\n",
            "p:0.0000 2017\n",
            "0    200000\n",
            "Name: Is Fraud?, dtype: int64\n",
            "p:0.0000 2017\n",
            "0    200000\n",
            "Name: Is Fraud?, dtype: int64\n",
            "p:0.0000 2017\n",
            "0    200000\n",
            "Name: Is Fraud?, dtype: int64\n",
            "p:0.0000 2017\n",
            "0    200000\n",
            "Name: Is Fraud?, dtype: int64\n",
            "p:0.0000 2017\n",
            "0    200000\n",
            "Name: Is Fraud?, dtype: int64\n",
            "p:0.0000 2017\n",
            "0    200000\n",
            "Name: Is Fraud?, dtype: int64\n",
            "p:0.0000 2017\n",
            "0    200000\n",
            "Name: Is Fraud?, dtype: int64\n",
            "p:0.0000 2017\n",
            "0    200000\n",
            "Name: Is Fraud?, dtype: int64\n",
            "p:0.0000 2017\n",
            "0    200000\n",
            "Name: Is Fraud?, dtype: int64\n",
            "p:0.0000 2017\n",
            "0    200000\n",
            "Name: Is Fraud?, dtype: int64\n",
            "p:0.0000 2017\n",
            "0    200000\n",
            "Name: Is Fraud?, dtype: int64\n",
            "p:0.0000 2017\n",
            "0    200000\n",
            "Name: Is Fraud?, dtype: int64\n",
            "p:0.0000 2017\n",
            "0    200000\n",
            "Name: Is Fraud?, dtype: int64\n",
            "p:0.0000 2017\n",
            "0    200000\n",
            "Name: Is Fraud?, dtype: int64\n",
            "p:0.0000 2017\n",
            "0    200000\n",
            "Name: Is Fraud?, dtype: int64\n",
            "p:0.0000 2017\n",
            "0    200000\n",
            "Name: Is Fraud?, dtype: int64\n",
            "p:0.0000 2017\n",
            "0    200000\n",
            "Name: Is Fraud?, dtype: int64\n",
            "p:0.0000 2017\n",
            "0    200000\n",
            "Name: Is Fraud?, dtype: int64\n",
            "p:0.0000 2017\n",
            "0    200000\n",
            "Name: Is Fraud?, dtype: int64\n",
            "p:0.0000 2017\n",
            "0    200000\n",
            "Name: Is Fraud?, dtype: int64\n",
            "p:0.0000 2017\n",
            "0    200000\n",
            "Name: Is Fraud?, dtype: int64\n",
            "p:0.0000 2017\n",
            "0    200000\n",
            "Name: Is Fraud?, dtype: int64\n",
            "p:0.0000 2017\n",
            "0    200000\n",
            "Name: Is Fraud?, dtype: int64\n",
            "p:0.0000 2017\n",
            "0    200000\n",
            "Name: Is Fraud?, dtype: int64\n",
            "p:0.0000 2017\n",
            "0    200000\n",
            "Name: Is Fraud?, dtype: int64\n",
            "p:0.0000 2017\n",
            "0    200000\n",
            "Name: Is Fraud?, dtype: int64\n",
            "p:0.0000 2017\n",
            "0    200000\n",
            "Name: Is Fraud?, dtype: int64\n",
            "p:0.0000 2017\n",
            "0    200000\n",
            "Name: Is Fraud?, dtype: int64\n",
            "p:0.0000 2017\n",
            "0    200000\n",
            "Name: Is Fraud?, dtype: int64\n",
            "p:0.0000 2017\n",
            "0    200000\n",
            "Name: Is Fraud?, dtype: int64\n",
            "p:0.0000 2017\n",
            "0    200000\n",
            "Name: Is Fraud?, dtype: int64\n",
            "p:0.0000 2017\n",
            "0    200000\n",
            "Name: Is Fraud?, dtype: int64\n",
            "p:0.0000 2017\n",
            "0    200000\n",
            "Name: Is Fraud?, dtype: int64\n",
            "p:0.0000 2017\n",
            "0    200000\n",
            "Name: Is Fraud?, dtype: int64\n",
            "p:0.0000 2017\n",
            "0    200000\n",
            "Name: Is Fraud?, dtype: int64\n",
            "p:0.0000 2017\n",
            "0    200000\n",
            "Name: Is Fraud?, dtype: int64\n",
            "p:0.0000 2017\n",
            "0    200000\n",
            "Name: Is Fraud?, dtype: int64\n",
            "p:0.0000 2017\n",
            "0    200000\n",
            "Name: Is Fraud?, dtype: int64\n",
            "p:0.0000 2017\n",
            "0    200000\n",
            "Name: Is Fraud?, dtype: int64\n",
            "p:0.0000 2017\n",
            "0    200000\n",
            "Name: Is Fraud?, dtype: int64\n",
            "p:0.0000 2017\n",
            "0    200000\n",
            "Name: Is Fraud?, dtype: int64\n",
            "p:0.0000 2017\n",
            "0    200000\n",
            "Name: Is Fraud?, dtype: int64\n",
            "p:0.0000 2017\n",
            "0    200000\n",
            "Name: Is Fraud?, dtype: int64\n",
            "p:0.0000 2017\n",
            "0    200000\n",
            "Name: Is Fraud?, dtype: int64\n",
            "p:0.0000 2017\n",
            "0    200000\n",
            "Name: Is Fraud?, dtype: int64\n",
            "p:0.0000 2017\n",
            "0    200000\n",
            "Name: Is Fraud?, dtype: int64\n",
            "p:0.0000 2017\n",
            "0    200000\n",
            "Name: Is Fraud?, dtype: int64\n",
            "p:0.0000 2017\n",
            "0    200000\n",
            "Name: Is Fraud?, dtype: int64\n",
            "p:0.0000 2017\n",
            "0    200000\n",
            "Name: Is Fraud?, dtype: int64\n",
            "p:0.0000 2017\n",
            "0    200000\n",
            "Name: Is Fraud?, dtype: int64\n",
            "p:0.0000 2017\n",
            "0    200000\n",
            "Name: Is Fraud?, dtype: int64\n",
            "p:0.0000 2017\n",
            "0    200000\n",
            "Name: Is Fraud?, dtype: int64\n",
            "p:0.0000 2017\n",
            "0    200000\n",
            "Name: Is Fraud?, dtype: int64\n",
            "p:0.0000 2017\n",
            "0    200000\n",
            "Name: Is Fraud?, dtype: int64\n",
            "p:0.0000 2017\n",
            "0    200000\n",
            "Name: Is Fraud?, dtype: int64\n",
            "p:0.0000 2017\n",
            "0    200000\n",
            "Name: Is Fraud?, dtype: int64\n",
            "p:0.0000 2017\n",
            "0    200000\n",
            "Name: Is Fraud?, dtype: int64\n",
            "p:0.0000 2017\n",
            "0    200000\n",
            "Name: Is Fraud?, dtype: int64\n",
            "p:0.0000 2017\n",
            "0    200000\n",
            "Name: Is Fraud?, dtype: int64\n",
            "p:0.0000 2017\n",
            "0    200000\n",
            "Name: Is Fraud?, dtype: int64\n",
            "p:0.0000 2017\n",
            "0    200000\n",
            "Name: Is Fraud?, dtype: int64\n",
            "p:0.0000 2017\n",
            "0    200000\n",
            "Name: Is Fraud?, dtype: int64\n",
            "p:0.0000 2017\n",
            "0    200000\n",
            "Name: Is Fraud?, dtype: int64\n",
            "p:0.0000 2017\n",
            "0    200000\n",
            "Name: Is Fraud?, dtype: int64\n",
            "p:0.0000 2017\n",
            "0    200000\n",
            "Name: Is Fraud?, dtype: int64\n",
            "p:0.0000 2017\n",
            "0    200000\n",
            "Name: Is Fraud?, dtype: int64\n",
            "p:0.0008 2017\n",
            "0    199994\n",
            "1         6\n",
            "Name: Is Fraud?, dtype: int64\n",
            "p:0.0015 2017\n",
            "0    199975\n",
            "1        25\n",
            "Name: Is Fraud?, dtype: int64\n",
            "p:0.0015 2017\n",
            "0    199972\n",
            "1        28\n",
            "Name: Is Fraud?, dtype: int64\n",
            "p:0.0023 2017\n",
            "0    199966\n",
            "1        34\n",
            "Name: Is Fraud?, dtype: int64\n",
            "p:0.0023 2017\n",
            "0    199955\n",
            "1        45\n",
            "Name: Is Fraud?, dtype: int64\n",
            "p:0.0032 2017\n",
            "0    199942\n",
            "1        58\n",
            "Name: Is Fraud?, dtype: int64\n",
            "p:0.0032 2017\n",
            "0    199925\n",
            "1        75\n",
            "Name: Is Fraud?, dtype: int64\n",
            "p:0.0054 2017\n",
            "0    199915\n",
            "1        85\n",
            "Name: Is Fraud?, dtype: int64\n",
            "p:0.0053 2017\n",
            "0    199892\n",
            "1       108\n",
            "Name: Is Fraud?, dtype: int64\n",
            "p:0.0052 2017\n",
            "0    199891\n",
            "1       109\n",
            "Name: Is Fraud?, dtype: int64\n",
            "p:0.0066 2017\n",
            "0    199871\n",
            "1       129\n",
            "Name: Is Fraud?, dtype: int64\n",
            "p:0.0100 2017\n",
            "0    199848\n",
            "1       152\n",
            "Name: Is Fraud?, dtype: int64\n",
            "p:0.0108 2017\n",
            "0    199842\n",
            "1       158\n",
            "Name: Is Fraud?, dtype: int64\n",
            "p:0.0111 2017\n",
            "0    199832\n",
            "1       168\n",
            "Name: Is Fraud?, dtype: int64\n",
            "p:0.0115 2017\n",
            "0    199805\n",
            "1       195\n",
            "Name: Is Fraud?, dtype: int64\n",
            "p:0.0117 2017\n",
            "0    199796\n",
            "1       204\n",
            "Name: Is Fraud?, dtype: int64\n",
            "p:0.0121 2017\n",
            "0    199786\n",
            "1       214\n",
            "Name: Is Fraud?, dtype: int64\n",
            "p:0.0125 2017\n",
            "0    199775\n",
            "1       225\n",
            "Name: Is Fraud?, dtype: int64\n",
            "p:0.0130 2017\n",
            "0    199760\n",
            "1       240\n",
            "Name: Is Fraud?, dtype: int64\n",
            "p:0.0141 2017\n",
            "0    199757\n",
            "1       243\n",
            "Name: Is Fraud?, dtype: int64\n",
            "p:0.0142 2018\n",
            "0    199739\n",
            "1       261\n",
            "Name: Is Fraud?, dtype: int64\n",
            "p:0.0143 2018\n",
            "0    199744\n",
            "1       256\n",
            "Name: Is Fraud?, dtype: int64\n",
            "p:0.0150 2018\n",
            "0    199735\n",
            "1       265\n",
            "Name: Is Fraud?, dtype: int64\n",
            "p:0.0146 2018\n",
            "0    199739\n",
            "1       261\n",
            "Name: Is Fraud?, dtype: int64\n",
            "p:0.0150 2018\n",
            "0    199735\n",
            "1       265\n",
            "Name: Is Fraud?, dtype: int64\n",
            "p:0.0141 2018\n",
            "0    199728\n",
            "1       272\n",
            "Name: Is Fraud?, dtype: int64\n",
            "p:0.0149 2018\n",
            "0    199745\n",
            "1       255\n",
            "Name: Is Fraud?, dtype: int64\n",
            "p:0.0119 2018\n",
            "0    199751\n",
            "1       249\n",
            "Name: Is Fraud?, dtype: int64\n",
            "p:0.0132 2018\n",
            "0    199766\n",
            "1       234\n",
            "Name: Is Fraud?, dtype: int64\n",
            "p:0.0146 2018\n",
            "0    199763\n",
            "1       237\n",
            "Name: Is Fraud?, dtype: int64\n",
            "p:0.0124 2018\n",
            "0    199774\n",
            "1       226\n",
            "Name: Is Fraud?, dtype: int64\n",
            "p:0.0023 2018\n",
            "0    199784\n",
            "1       216\n",
            "Name: Is Fraud?, dtype: int64\n",
            "p:0.0000 2018\n",
            "0    199779\n",
            "1       221\n",
            "Name: Is Fraud?, dtype: int64\n",
            "p:0.0000 2018\n",
            "0    199782\n",
            "1       218\n",
            "Name: Is Fraud?, dtype: int64\n",
            "p:0.0000 2018\n",
            "0    199792\n",
            "1       208\n",
            "Name: Is Fraud?, dtype: int64\n",
            "p:0.0000 2018\n",
            "0    199780\n",
            "1       220\n",
            "Name: Is Fraud?, dtype: int64\n",
            "p:0.0000 2018\n",
            "0    199782\n",
            "1       218\n",
            "Name: Is Fraud?, dtype: int64\n",
            "p:0.0000 2018\n",
            "0    199775\n",
            "1       225\n",
            "Name: Is Fraud?, dtype: int64\n",
            "p:0.0000 2018\n",
            "0    199775\n",
            "1       225\n",
            "Name: Is Fraud?, dtype: int64\n",
            "p:0.0000 2018\n",
            "0    199778\n",
            "1       222\n",
            "Name: Is Fraud?, dtype: int64\n",
            "p:0.0000 2018\n",
            "0    199790\n",
            "1       210\n",
            "Name: Is Fraud?, dtype: int64\n",
            "p:0.0000 2018\n",
            "0    199780\n",
            "1       220\n",
            "Name: Is Fraud?, dtype: int64\n",
            "p:0.0000 2018\n",
            "0    199785\n",
            "1       215\n",
            "Name: Is Fraud?, dtype: int64\n",
            "p:0.0000 2018\n",
            "0    199774\n",
            "1       226\n",
            "Name: Is Fraud?, dtype: int64\n",
            "p:0.0000 2018\n",
            "0    199771\n",
            "1       229\n",
            "Name: Is Fraud?, dtype: int64\n",
            "p:0.0000 2018\n",
            "0    199777\n",
            "1       223\n",
            "Name: Is Fraud?, dtype: int64\n",
            "p:0.0047 2018\n",
            "0    199765\n",
            "1       235\n",
            "Name: Is Fraud?, dtype: int64\n",
            "p:0.0044 2018\n",
            "0    199751\n",
            "1       249\n",
            "Name: Is Fraud?, dtype: int64\n",
            "p:0.0084 2018\n",
            "0    199730\n",
            "1       270\n",
            "Name: Is Fraud?, dtype: int64\n",
            "p:0.0083 2018\n",
            "0    199734\n",
            "1       266\n",
            "Name: Is Fraud?, dtype: int64\n",
            "p:0.0082 2018\n",
            "0    199729\n",
            "1       271\n",
            "Name: Is Fraud?, dtype: int64\n",
            "p:0.0078 2018\n",
            "0    199709\n",
            "1       291\n",
            "Name: Is Fraud?, dtype: int64\n",
            "p:0.0077 2018\n",
            "0    199708\n",
            "1       292\n",
            "Name: Is Fraud?, dtype: int64\n",
            "p:0.0111 2018\n",
            "0    199699\n",
            "1       301\n",
            "Name: Is Fraud?, dtype: int64\n",
            "p:0.0147 2018\n",
            "0    199701\n",
            "1       299\n",
            "Name: Is Fraud?, dtype: int64\n",
            "p:0.0185 2018\n",
            "0    199709\n",
            "1       291\n",
            "Name: Is Fraud?, dtype: int64\n",
            "p:0.0182 2018\n",
            "0    199711\n",
            "1       289\n",
            "Name: Is Fraud?, dtype: int64\n",
            "p:0.0178 2018\n",
            "0    199707\n",
            "1       293\n",
            "Name: Is Fraud?, dtype: int64\n",
            "p:0.0173 2018\n",
            "0    199693\n",
            "1       307\n",
            "Name: Is Fraud?, dtype: int64\n",
            "p:0.0169 2018\n",
            "0    199689\n",
            "1       311\n",
            "Name: Is Fraud?, dtype: int64\n",
            "p:0.0166 2018\n",
            "0    199689\n",
            "1       311\n",
            "Name: Is Fraud?, dtype: int64\n",
            "p:0.0165 2018\n",
            "0    199694\n",
            "1       306\n",
            "Name: Is Fraud?, dtype: int64\n",
            "p:0.0166 2018\n",
            "0    199696\n",
            "1       304\n",
            "Name: Is Fraud?, dtype: int64\n",
            "p:0.0168 2018\n",
            "0    199695\n",
            "1       305\n",
            "Name: Is Fraud?, dtype: int64\n",
            "p:0.0167 2018\n",
            "0    199692\n",
            "1       308\n",
            "Name: Is Fraud?, dtype: int64\n",
            "p:0.0165 2018\n",
            "0    199690\n",
            "1       310\n",
            "Name: Is Fraud?, dtype: int64\n",
            "p:0.0127 2018\n",
            "0    199674\n",
            "1       326\n",
            "Name: Is Fraud?, dtype: int64\n",
            "p:0.0152 2018\n",
            "0    199651\n",
            "1       349\n",
            "Name: Is Fraud?, dtype: int64\n",
            "p:0.0120 2018\n",
            "0    199652\n",
            "1       348\n",
            "Name: Is Fraud?, dtype: int64\n",
            "p:0.0115 2018\n",
            "0    199644\n",
            "1       356\n",
            "Name: Is Fraud?, dtype: int64\n",
            "p:0.0110 2018\n",
            "0    199639\n",
            "1       361\n",
            "Name: Is Fraud?, dtype: int64\n",
            "p:0.0107 2018\n",
            "0    199637\n",
            "1       363\n",
            "Name: Is Fraud?, dtype: int64\n",
            "p:0.0106 2018\n",
            "0    199647\n",
            "1       353\n",
            "Name: Is Fraud?, dtype: int64\n",
            "p:0.0076 2018\n",
            "0    199655\n",
            "1       345\n",
            "Name: Is Fraud?, dtype: int64\n",
            "p:0.0074 2018\n",
            "0    199648\n",
            "1       352\n",
            "Name: Is Fraud?, dtype: int64\n",
            "p:0.0049 2018\n",
            "0    199656\n",
            "1       344\n",
            "Name: Is Fraud?, dtype: int64\n",
            "p:0.0071 2018\n",
            "0    199639\n",
            "1       361\n",
            "Name: Is Fraud?, dtype: int64\n",
            "p:0.0072 2018\n",
            "0    199642\n",
            "1       358\n",
            "Name: Is Fraud?, dtype: int64\n",
            "p:0.0073 2018\n",
            "0    199652\n",
            "1       348\n",
            "Name: Is Fraud?, dtype: int64\n",
            "p:0.0073 2018\n",
            "0    199643\n",
            "1       357\n",
            "Name: Is Fraud?, dtype: int64\n",
            "p:0.0075 2018\n",
            "0    199649\n",
            "1       351\n",
            "Name: Is Fraud?, dtype: int64\n",
            "p:0.0075 2018\n",
            "0    199646\n",
            "1       354\n",
            "Name: Is Fraud?, dtype: int64\n",
            "p:0.0074 2018\n",
            "0    199651\n",
            "1       349\n",
            "Name: Is Fraud?, dtype: int64\n",
            "p:0.0073 2018\n",
            "0    199646\n",
            "1       354\n",
            "Name: Is Fraud?, dtype: int64\n",
            "p:0.0073 2018\n",
            "0    199661\n",
            "1       339\n",
            "Name: Is Fraud?, dtype: int64\n",
            "p:0.0073 2018\n",
            "0    199674\n",
            "1       326\n",
            "Name: Is Fraud?, dtype: int64\n",
            "p:0.0074 2018\n",
            "0    199691\n",
            "1       309\n",
            "Name: Is Fraud?, dtype: int64\n",
            "p:0.0050 2018\n",
            "0    199719\n",
            "1       281\n",
            "Name: Is Fraud?, dtype: int64\n",
            "p:0.0052 2018\n",
            "0    199742\n",
            "1       258\n",
            "Name: Is Fraud?, dtype: int64\n",
            "p:0.0051 2018\n",
            "0    199736\n",
            "1       264\n",
            "Name: Is Fraud?, dtype: int64\n",
            "p:0.0052 2018\n",
            "0    199745\n",
            "1       255\n",
            "Name: Is Fraud?, dtype: int64\n",
            "p:0.0053 2018\n",
            "0    199752\n",
            "1       248\n",
            "Name: Is Fraud?, dtype: int64\n",
            "p:0.0054 2018\n",
            "0    199739\n",
            "1       261\n",
            "Name: Is Fraud?, dtype: int64\n",
            "p:0.0057 2018\n",
            "0    199737\n",
            "1       263\n",
            "Name: Is Fraud?, dtype: int64\n",
            "p:0.0030 2018\n",
            "0    199740\n",
            "1       260\n",
            "Name: Is Fraud?, dtype: int64\n",
            "p:0.0031 2018\n",
            "0    199744\n",
            "1       256\n",
            "Name: Is Fraud?, dtype: int64\n",
            "p:0.0000 2018\n",
            "0    199763\n",
            "1       237\n",
            "Name: Is Fraud?, dtype: int64\n",
            "p:0.0031 2018\n",
            "0    199764\n",
            "1       236\n",
            "Name: Is Fraud?, dtype: int64\n",
            "p:0.0032 2018\n",
            "0    199775\n",
            "1       225\n",
            "Name: Is Fraud?, dtype: int64\n",
            "p:0.0031 2018\n",
            "0    199783\n",
            "1       217\n",
            "Name: Is Fraud?, dtype: int64\n",
            "p:0.0031 2018\n",
            "0    199784\n",
            "1       216\n",
            "Name: Is Fraud?, dtype: int64\n",
            "p:0.0032 2018\n",
            "0    199801\n",
            "1       199\n",
            "Name: Is Fraud?, dtype: int64\n",
            "p:0.0031 2018\n",
            "0    199796\n",
            "1       204\n",
            "Name: Is Fraud?, dtype: int64\n",
            "p:0.0032 2018\n",
            "0    199803\n",
            "1       197\n",
            "Name: Is Fraud?, dtype: int64\n",
            "p:0.0090 2018\n",
            "0    199785\n",
            "1       215\n",
            "Name: Is Fraud?, dtype: int64\n",
            "p:0.0092 2018\n",
            "0    199787\n",
            "1       213\n",
            "Name: Is Fraud?, dtype: int64\n",
            "p:0.0093 2018\n",
            "0    199786\n",
            "1       214\n",
            "Name: Is Fraud?, dtype: int64\n",
            "p:0.0093 2018\n",
            "0    199772\n",
            "1       228\n",
            "Name: Is Fraud?, dtype: int64\n",
            "p:0.0093 2018\n",
            "0    199766\n",
            "1       234\n",
            "Name: Is Fraud?, dtype: int64\n",
            "p:0.0097 2018\n",
            "0    199770\n",
            "1       230\n",
            "Name: Is Fraud?, dtype: int64\n",
            "p:0.0097 2018\n",
            "0    199755\n",
            "1       245\n",
            "Name: Is Fraud?, dtype: int64\n",
            "p:0.0099 2018\n",
            "0    199775\n",
            "1       225\n",
            "Name: Is Fraud?, dtype: int64\n",
            "p:0.0099 2018\n",
            "0    199786\n",
            "1       214\n",
            "Name: Is Fraud?, dtype: int64\n",
            "p:0.0095 2018\n",
            "0    199793\n",
            "1       207\n",
            "Name: Is Fraud?, dtype: int64\n",
            "p:0.0123 2018\n",
            "0    199796\n",
            "1       204\n",
            "Name: Is Fraud?, dtype: int64\n",
            "p:0.0119 2018\n",
            "0    199796\n",
            "1       204\n",
            "Name: Is Fraud?, dtype: int64\n",
            "p:0.0115 2018\n",
            "0    199790\n",
            "1       210\n",
            "Name: Is Fraud?, dtype: int64\n",
            "p:0.0115 2018\n",
            "0    199797\n",
            "1       203\n",
            "Name: Is Fraud?, dtype: int64\n",
            "p:0.0139 2018\n",
            "0    199794\n",
            "1       206\n",
            "Name: Is Fraud?, dtype: int64\n",
            "p:0.0138 2018\n",
            "0    199792\n",
            "1       208\n",
            "Name: Is Fraud?, dtype: int64\n",
            "p:0.0132 2018\n",
            "0    199777\n",
            "1       223\n",
            "Name: Is Fraud?, dtype: int64\n",
            "p:0.0125 2018\n",
            "0    199764\n",
            "1       236\n",
            "Name: Is Fraud?, dtype: int64\n",
            "p:0.0123 2018\n",
            "0    199762\n",
            "1       238\n",
            "Name: Is Fraud?, dtype: int64\n",
            "p:0.0189 2018\n",
            "0    199754\n",
            "1       246\n",
            "Name: Is Fraud?, dtype: int64\n",
            "p:0.0162 2018\n",
            "0    199759\n",
            "1       241\n",
            "Name: Is Fraud?, dtype: int64\n",
            "p:0.0156 2018\n",
            "0    199760\n",
            "1       240\n",
            "Name: Is Fraud?, dtype: int64\n",
            "p:0.0162 2018\n",
            "0    199753\n",
            "1       247\n",
            "Name: Is Fraud?, dtype: int64\n",
            "p:0.0154 2018\n",
            "0    199763\n",
            "1       237\n",
            "Name: Is Fraud?, dtype: int64\n",
            "p:0.0143 2018\n",
            "0    199765\n",
            "1       235\n",
            "Name: Is Fraud?, dtype: int64\n",
            "p:0.0147 2018\n",
            "0    199759\n",
            "1       241\n",
            "Name: Is Fraud?, dtype: int64\n",
            "p:0.0141 2018\n",
            "0    199771\n",
            "1       229\n",
            "Name: Is Fraud?, dtype: int64\n",
            "p:0.0132 2018\n",
            "0    199765\n",
            "1       235\n",
            "Name: Is Fraud?, dtype: int64\n",
            "p:0.0122 2018\n",
            "0    199761\n",
            "1       239\n",
            "Name: Is Fraud?, dtype: int64\n",
            "p:0.0124 2018\n",
            "0    199750\n",
            "1       250\n",
            "Name: Is Fraud?, dtype: int64\n",
            "p:0.0107 2018\n",
            "0    199744\n",
            "1       256\n",
            "Name: Is Fraud?, dtype: int64\n",
            "p:0.0106 2018\n",
            "0    199744\n",
            "1       256\n",
            "Name: Is Fraud?, dtype: int64\n",
            "p:0.0125 2018\n",
            "0    199732\n",
            "1       268\n",
            "Name: Is Fraud?, dtype: int64\n",
            "p:0.0129 2018\n",
            "0    199704\n",
            "1       296\n",
            "Name: Is Fraud?, dtype: int64\n",
            "p:0.0116 2018\n",
            "0    199705\n",
            "1       295\n",
            "Name: Is Fraud?, dtype: int64\n",
            "p:0.0122 2018\n",
            "0    199691\n",
            "1       309\n",
            "Name: Is Fraud?, dtype: int64\n",
            "p:0.0138 2018\n",
            "0    199673\n",
            "1       327\n",
            "Name: Is Fraud?, dtype: int64\n",
            "p:0.0145 2018\n",
            "0    199677\n",
            "1       323\n",
            "Name: Is Fraud?, dtype: int64\n",
            "p:0.0141 2018\n",
            "0    199675\n",
            "1       325\n",
            "Name: Is Fraud?, dtype: int64\n",
            "p:0.0128 2018\n",
            "0    199677\n",
            "1       323\n",
            "Name: Is Fraud?, dtype: int64\n",
            "p:0.0125 2018\n",
            "0    199671\n",
            "1       329\n",
            "Name: Is Fraud?, dtype: int64\n",
            "p:0.0123 2018\n",
            "0    199654\n",
            "1       346\n",
            "Name: Is Fraud?, dtype: int64\n",
            "p:0.0132 2018\n",
            "0    199653\n",
            "1       347\n",
            "Name: Is Fraud?, dtype: int64\n",
            "p:0.0139 2018\n",
            "0    199644\n",
            "1       356\n",
            "Name: Is Fraud?, dtype: int64\n",
            "p:0.0139 2018\n",
            "0    199651\n",
            "1       349\n",
            "Name: Is Fraud?, dtype: int64\n",
            "p:0.0132 2018\n",
            "0    199653\n",
            "1       347\n",
            "Name: Is Fraud?, dtype: int64\n",
            "p:0.0140 2018\n",
            "0    199636\n",
            "1       364\n",
            "Name: Is Fraud?, dtype: int64\n",
            "p:0.0149 2018\n",
            "0    199642\n",
            "1       358\n",
            "Name: Is Fraud?, dtype: int64\n",
            "p:0.0159 2018\n",
            "0    199643\n",
            "1       357\n",
            "Name: Is Fraud?, dtype: int64\n",
            "p:0.0155 2018\n",
            "0    199645\n",
            "1       355\n",
            "Name: Is Fraud?, dtype: int64\n",
            "p:0.0156 2018\n",
            "0    199658\n",
            "1       342\n",
            "Name: Is Fraud?, dtype: int64\n",
            "p:0.0153 2018\n",
            "0    199649\n",
            "1       351\n",
            "Name: Is Fraud?, dtype: int64\n",
            "p:0.0134 2018\n",
            "0    199663\n",
            "1       337\n",
            "Name: Is Fraud?, dtype: int64\n",
            "p:0.0126 2018\n",
            "0    199690\n",
            "1       310\n",
            "Name: Is Fraud?, dtype: int64\n",
            "p:0.0126 2018\n",
            "0    199700\n",
            "1       300\n",
            "Name: Is Fraud?, dtype: int64\n",
            "p:0.0135 2018\n",
            "0    199708\n",
            "1       292\n",
            "Name: Is Fraud?, dtype: int64\n",
            "p:0.0137 2018\n",
            "0    199721\n",
            "1       279\n",
            "Name: Is Fraud?, dtype: int64\n",
            "p:0.0129 2018\n",
            "0    199734\n",
            "1       266\n",
            "Name: Is Fraud?, dtype: int64\n",
            "p:0.0139 2018\n",
            "0    199729\n",
            "1       271\n",
            "Name: Is Fraud?, dtype: int64\n",
            "p:0.0142 2018\n",
            "0    199722\n",
            "1       278\n",
            "Name: Is Fraud?, dtype: int64\n",
            "p:0.0138 2018\n",
            "0    199720\n",
            "1       280\n",
            "Name: Is Fraud?, dtype: int64\n",
            "p:0.0141 2018\n",
            "0    199725\n",
            "1       275\n",
            "Name: Is Fraud?, dtype: int64\n",
            "p:0.0127 2018\n",
            "0    199729\n",
            "1       271\n",
            "Name: Is Fraud?, dtype: int64\n",
            "p:0.0156 2018\n",
            "0    199730\n",
            "1       270\n",
            "Name: Is Fraud?, dtype: int64\n",
            "p:0.0176 2018\n",
            "0    199727\n",
            "1       273\n",
            "Name: Is Fraud?, dtype: int64\n",
            "p:0.0190 2018\n",
            "0    199720\n",
            "1       280\n",
            "Name: Is Fraud?, dtype: int64\n",
            "p:0.0222 2018\n",
            "0    199721\n",
            "1       279\n",
            "Name: Is Fraud?, dtype: int64\n",
            "p:0.0286 2018\n",
            "0    199707\n",
            "1       293\n",
            "Name: Is Fraud?, dtype: int64\n",
            "p:0.0307 2018\n",
            "0    199699\n",
            "1       301\n",
            "Name: Is Fraud?, dtype: int64\n",
            "p:0.0326 2018\n",
            "0    199685\n",
            "1       315\n",
            "Name: Is Fraud?, dtype: int64\n",
            "p:0.0467 2018\n",
            "0    199660\n",
            "1       340\n",
            "Name: Is Fraud?, dtype: int64\n",
            "p:0.0523 2018\n",
            "0    199650\n",
            "1       350\n",
            "Name: Is Fraud?, dtype: int64\n",
            "p:0.0543 2018\n",
            "0    199649\n",
            "1       351\n",
            "Name: Is Fraud?, dtype: int64\n",
            "p:0.0604 2018\n",
            "0    199628\n",
            "1       372\n",
            "Name: Is Fraud?, dtype: int64\n",
            "p:0.0660 2018\n",
            "0    199602\n",
            "1       398\n",
            "Name: Is Fraud?, dtype: int64\n",
            "p:0.0663 2018\n",
            "0    199586\n",
            "1       414\n",
            "Name: Is Fraud?, dtype: int64\n",
            "p:0.0648 2018\n",
            "0    199599\n",
            "1       401\n",
            "Name: Is Fraud?, dtype: int64\n",
            "p:0.0641 2018\n",
            "0    199599\n",
            "1       401\n",
            "Name: Is Fraud?, dtype: int64\n",
            "p:0.0627 2018\n",
            "0    199601\n",
            "1       399\n",
            "Name: Is Fraud?, dtype: int64\n",
            "p:0.0619 2018\n",
            "0    199601\n",
            "1       399\n",
            "Name: Is Fraud?, dtype: int64\n",
            "p:0.0628 2018\n",
            "0    199624\n",
            "1       376\n",
            "Name: Is Fraud?, dtype: int64\n",
            "p:0.0651 2018\n",
            "0    199615\n",
            "1       385\n",
            "Name: Is Fraud?, dtype: int64\n",
            "p:0.0672 2018\n",
            "0    199606\n",
            "1       394\n",
            "Name: Is Fraud?, dtype: int64\n",
            "p:0.0662 2018\n",
            "0    199617\n",
            "1       383\n",
            "Name: Is Fraud?, dtype: int64\n",
            "p:0.0666 2018\n",
            "0    199619\n",
            "1       381\n",
            "Name: Is Fraud?, dtype: int64\n",
            "p:0.0682 2018\n",
            "0    199622\n",
            "1       378\n",
            "Name: Is Fraud?, dtype: int64\n",
            "p:0.0669 2018\n",
            "0    199632\n",
            "1       368\n",
            "Name: Is Fraud?, dtype: int64\n",
            "p:0.0630 2018\n",
            "0    199649\n",
            "1       351\n",
            "Name: Is Fraud?, dtype: int64\n",
            "p:0.0632 2019\n",
            "0    199639\n",
            "1       361\n",
            "Name: Is Fraud?, dtype: int64\n",
            "p:0.0641 2019\n",
            "0    199642\n",
            "1       358\n",
            "Name: Is Fraud?, dtype: int64\n",
            "p:0.0455 2019\n",
            "0    199673\n",
            "1       327\n",
            "Name: Is Fraud?, dtype: int64\n",
            "p:0.0380 2019\n",
            "0    199683\n",
            "1       317\n",
            "Name: Is Fraud?, dtype: int64\n",
            "p:0.0372 2019\n",
            "0    199678\n",
            "1       322\n",
            "Name: Is Fraud?, dtype: int64\n",
            "p:0.0286 2019\n",
            "0    199692\n",
            "1       308\n",
            "Name: Is Fraud?, dtype: int64\n",
            "p:0.0191 2019\n",
            "0    199716\n",
            "1       284\n",
            "Name: Is Fraud?, dtype: int64\n",
            "p:0.0142 2019\n",
            "0    199737\n",
            "1       263\n",
            "Name: Is Fraud?, dtype: int64\n",
            "p:0.0125 2019\n",
            "0    199730\n",
            "1       270\n",
            "Name: Is Fraud?, dtype: int64\n",
            "p:0.0134 2019\n",
            "0    199725\n",
            "1       275\n",
            "Name: Is Fraud?, dtype: int64\n",
            "p:0.0147 2019\n",
            "0    199725\n",
            "1       275\n",
            "Name: Is Fraud?, dtype: int64\n",
            "p:0.0123 2019\n",
            "0    199733\n",
            "1       267\n",
            "Name: Is Fraud?, dtype: int64\n",
            "p:0.0131 2019\n",
            "0    199711\n",
            "1       289\n",
            "Name: Is Fraud?, dtype: int64\n",
            "p:0.0077 2019\n",
            "0    199724\n",
            "1       276\n",
            "Name: Is Fraud?, dtype: int64\n",
            "p:0.0000 2019\n",
            "0    199725\n",
            "1       275\n",
            "Name: Is Fraud?, dtype: int64\n",
            "p:0.0000 2019\n",
            "0    199709\n",
            "1       291\n",
            "Name: Is Fraud?, dtype: int64\n",
            "p:0.0000 2019\n",
            "0    199712\n",
            "1       288\n",
            "Name: Is Fraud?, dtype: int64\n",
            "p:0.0000 2019\n",
            "0    199722\n",
            "1       278\n",
            "Name: Is Fraud?, dtype: int64\n",
            "p:0.0000 2019\n",
            "0    199732\n",
            "1       268\n",
            "Name: Is Fraud?, dtype: int64\n",
            "p:0.0000 2019\n",
            "0    199734\n",
            "1       266\n",
            "Name: Is Fraud?, dtype: int64\n",
            "p:0.0000 2019\n",
            "0    199747\n",
            "1       253\n",
            "Name: Is Fraud?, dtype: int64\n",
            "p:0.0000 2019\n",
            "0    199749\n",
            "1       251\n",
            "Name: Is Fraud?, dtype: int64\n",
            "p:0.0000 2019\n",
            "0    199733\n",
            "1       267\n",
            "Name: Is Fraud?, dtype: int64\n",
            "p:0.0000 2019\n",
            "0    199734\n",
            "1       266\n",
            "Name: Is Fraud?, dtype: int64\n",
            "p:0.0000 2019\n",
            "0    199736\n",
            "1       264\n",
            "Name: Is Fraud?, dtype: int64\n",
            "p:0.0000 2019\n",
            "0    199732\n",
            "1       268\n",
            "Name: Is Fraud?, dtype: int64\n",
            "p:0.0000 2019\n",
            "0    199733\n",
            "1       267\n",
            "Name: Is Fraud?, dtype: int64\n",
            "p:0.0000 2019\n",
            "0    199735\n",
            "1       265\n",
            "Name: Is Fraud?, dtype: int64\n",
            "p:0.0000 2019\n",
            "0    199744\n",
            "1       256\n",
            "Name: Is Fraud?, dtype: int64\n",
            "p:0.0000 2019\n",
            "0    199745\n",
            "1       255\n",
            "Name: Is Fraud?, dtype: int64\n",
            "p:0.0000 2019\n",
            "0    199754\n",
            "1       246\n",
            "Name: Is Fraud?, dtype: int64\n",
            "p:0.0000 2019\n",
            "0    199748\n",
            "1       252\n",
            "Name: Is Fraud?, dtype: int64\n",
            "p:0.0000 2019\n",
            "0    199755\n",
            "1       245\n",
            "Name: Is Fraud?, dtype: int64\n",
            "p:0.0000 2019\n",
            "0    199749\n",
            "1       251\n",
            "Name: Is Fraud?, dtype: int64\n",
            "p:0.0042 2019\n",
            "0    199758\n",
            "1       242\n",
            "Name: Is Fraud?, dtype: int64\n",
            "p:0.0042 2019\n",
            "0    199767\n",
            "1       233\n",
            "Name: Is Fraud?, dtype: int64\n",
            "p:0.0040 2019\n",
            "0    199765\n",
            "1       235\n",
            "Name: Is Fraud?, dtype: int64\n",
            "p:0.0039 2019\n",
            "0    199755\n",
            "1       245\n",
            "Name: Is Fraud?, dtype: int64\n",
            "p:0.0074 2019\n",
            "0    199732\n",
            "1       268\n",
            "Name: Is Fraud?, dtype: int64\n",
            "p:0.0073 2019\n",
            "0    199729\n",
            "1       271\n",
            "Name: Is Fraud?, dtype: int64\n",
            "p:0.0074 2019\n",
            "0    199730\n",
            "1       270\n",
            "Name: Is Fraud?, dtype: int64\n",
            "p:0.0072 2019\n",
            "0    199724\n",
            "1       276\n",
            "Name: Is Fraud?, dtype: int64\n",
            "p:0.0073 2019\n",
            "0    199730\n",
            "1       270\n",
            "Name: Is Fraud?, dtype: int64\n",
            "p:0.0072 2019\n",
            "0    199726\n",
            "1       274\n",
            "Name: Is Fraud?, dtype: int64\n",
            "p:0.0070 2019\n",
            "0    199715\n",
            "1       285\n",
            "Name: Is Fraud?, dtype: int64\n",
            "p:0.0071 2019\n",
            "0    199719\n",
            "1       281\n",
            "Name: Is Fraud?, dtype: int64\n",
            "p:0.0070 2019\n",
            "0    199715\n",
            "1       285\n",
            "Name: Is Fraud?, dtype: int64\n",
            "p:0.0067 2019\n",
            "0    199705\n",
            "1       295\n",
            "Name: Is Fraud?, dtype: int64\n",
            "p:0.0064 2019\n",
            "0    199697\n",
            "1       303\n",
            "Name: Is Fraud?, dtype: int64\n",
            "p:0.0062 2019\n",
            "0    199700\n",
            "1       300\n",
            "Name: Is Fraud?, dtype: int64\n",
            "p:0.0061 2019\n",
            "0    199691\n",
            "1       309\n",
            "Name: Is Fraud?, dtype: int64\n",
            "p:0.0089 2019\n",
            "0    199690\n",
            "1       310\n",
            "Name: Is Fraud?, dtype: int64\n",
            "p:0.0115 2019\n",
            "0    199692\n",
            "1       308\n",
            "Name: Is Fraud?, dtype: int64\n",
            "p:0.0169 2019\n",
            "0    199690\n",
            "1       310\n",
            "Name: Is Fraud?, dtype: int64\n",
            "p:0.0136 2019\n",
            "0    199680\n",
            "1       320\n",
            "Name: Is Fraud?, dtype: int64\n",
            "p:0.0132 2019\n",
            "0    199683\n",
            "1       317\n",
            "Name: Is Fraud?, dtype: int64\n",
            "p:0.0127 2019\n",
            "0    199680\n",
            "1       320\n",
            "Name: Is Fraud?, dtype: int64\n",
            "p:0.0127 2019\n",
            "0    199678\n",
            "1       322\n",
            "Name: Is Fraud?, dtype: int64\n",
            "p:0.0103 2019\n",
            "0    199686\n",
            "1       314\n",
            "Name: Is Fraud?, dtype: int64\n",
            "p:0.0104 2019\n",
            "0    199692\n",
            "1       308\n",
            "Name: Is Fraud?, dtype: int64\n",
            "p:0.0101 2019\n",
            "0    199682\n",
            "1       318\n",
            "Name: Is Fraud?, dtype: int64\n",
            "p:0.0101 2019\n",
            "0    199678\n",
            "1       322\n",
            "Name: Is Fraud?, dtype: int64\n",
            "p:0.0100 2019\n",
            "0    199679\n",
            "1       321\n",
            "Name: Is Fraud?, dtype: int64\n",
            "p:0.0100 2019\n",
            "0    199683\n",
            "1       317\n",
            "Name: Is Fraud?, dtype: int64\n",
            "p:0.0098 2019\n",
            "0    199679\n",
            "1       321\n",
            "Name: Is Fraud?, dtype: int64\n",
            "p:0.0145 2019\n",
            "0    199678\n",
            "1       322\n",
            "Name: Is Fraud?, dtype: int64\n",
            "p:0.0143 2019\n",
            "0    199668\n",
            "1       332\n",
            "Name: Is Fraud?, dtype: int64\n",
            "p:0.0142 2019\n",
            "0    199662\n",
            "1       338\n",
            "Name: Is Fraud?, dtype: int64\n",
            "p:0.0143 2019\n",
            "0    199657\n",
            "1       343\n",
            "Name: Is Fraud?, dtype: int64\n",
            "p:0.0141 2019\n",
            "0    199655\n",
            "1       345\n",
            "Name: Is Fraud?, dtype: int64\n",
            "p:0.0139 2019\n",
            "0    199652\n",
            "1       348\n",
            "Name: Is Fraud?, dtype: int64\n",
            "p:0.0116 2019\n",
            "0    199652\n",
            "1       348\n",
            "Name: Is Fraud?, dtype: int64\n",
            "p:0.0095 2019\n",
            "0    199663\n",
            "1       337\n",
            "Name: Is Fraud?, dtype: int64\n",
            "p:0.0048 2019\n",
            "0    199662\n",
            "1       338\n",
            "Name: Is Fraud?, dtype: int64\n",
            "p:0.0050 2019\n",
            "0    199666\n",
            "1       334\n",
            "Name: Is Fraud?, dtype: int64\n",
            "p:0.0052 2019\n",
            "0    199677\n",
            "1       323\n",
            "Name: Is Fraud?, dtype: int64\n",
            "p:0.0054 2019\n",
            "0    199676\n",
            "1       324\n",
            "Name: Is Fraud?, dtype: int64\n",
            "p:0.0053 2019\n",
            "0    199676\n",
            "1       324\n",
            "Name: Is Fraud?, dtype: int64\n",
            "p:0.0079 2019\n",
            "0    199677\n",
            "1       323\n",
            "Name: Is Fraud?, dtype: int64\n",
            "p:0.0078 2019\n",
            "0    199675\n",
            "1       325\n",
            "Name: Is Fraud?, dtype: int64\n",
            "p:0.0078 2019\n",
            "0    199675\n",
            "1       325\n",
            "Name: Is Fraud?, dtype: int64\n",
            "p:0.0078 2019\n",
            "0    199677\n",
            "1       323\n",
            "Name: Is Fraud?, dtype: int64\n",
            "p:0.0078 2019\n",
            "0    199680\n",
            "1       320\n",
            "Name: Is Fraud?, dtype: int64\n",
            "p:0.0129 2019\n",
            "0    199675\n",
            "1       325\n",
            "Name: Is Fraud?, dtype: int64\n",
            "p:0.0130 2019\n",
            "0    199677\n",
            "1       323\n",
            "Name: Is Fraud?, dtype: int64\n",
            "p:0.0104 2019\n",
            "0    199684\n",
            "1       316\n",
            "Name: Is Fraud?, dtype: int64\n",
            "p:0.0106 2019\n",
            "0    199688\n",
            "1       312\n",
            "Name: Is Fraud?, dtype: int64\n",
            "p:0.0109 2019\n",
            "0    199700\n",
            "1       300\n",
            "Name: Is Fraud?, dtype: int64\n",
            "p:0.0111 2019\n",
            "0    199713\n",
            "1       287\n",
            "Name: Is Fraud?, dtype: int64\n",
            "p:0.0114 2019\n",
            "0    199712\n",
            "1       288\n",
            "Name: Is Fraud?, dtype: int64\n",
            "p:0.0118 2019\n",
            "0    199720\n",
            "1       280\n",
            "Name: Is Fraud?, dtype: int64\n",
            "p:0.0119 2019\n",
            "0    199733\n",
            "1       267\n",
            "Name: Is Fraud?, dtype: int64\n",
            "p:0.0119 2019\n",
            "0    199739\n",
            "1       261\n",
            "Name: Is Fraud?, dtype: int64\n",
            "p:0.0119 2019\n",
            "0    199748\n",
            "1       252\n",
            "Name: Is Fraud?, dtype: int64\n",
            "p:0.0206 2019\n",
            "0    199749\n",
            "1       251\n",
            "Name: Is Fraud?, dtype: int64\n",
            "p:0.0228 2019\n",
            "0    199744\n",
            "1       256\n",
            "Name: Is Fraud?, dtype: int64\n",
            "p:0.0219 2019\n",
            "0    199732\n",
            "1       268\n",
            "Name: Is Fraud?, dtype: int64\n",
            "p:0.0214 2019\n",
            "0    199738\n",
            "1       262\n",
            "Name: Is Fraud?, dtype: int64\n",
            "p:0.0185 2019\n",
            "0    199747\n",
            "1       253\n",
            "Name: Is Fraud?, dtype: int64\n",
            "p:0.0183 2019\n",
            "0    199738\n",
            "1       262\n",
            "Name: Is Fraud?, dtype: int64\n",
            "p:0.0186 2019\n",
            "0    199746\n",
            "1       254\n",
            "Name: Is Fraud?, dtype: int64\n",
            "p:0.0179 2019\n",
            "0    199732\n",
            "1       268\n",
            "Name: Is Fraud?, dtype: int64\n",
            "p:0.0173 2019\n",
            "0    199738\n",
            "1       262\n",
            "Name: Is Fraud?, dtype: int64\n",
            "p:0.0118 2019\n",
            "0    199733\n",
            "1       267\n",
            "Name: Is Fraud?, dtype: int64\n",
            "p:0.0114 2019\n",
            "0    199720\n",
            "1       280\n",
            "Name: Is Fraud?, dtype: int64\n",
            "p:0.0110 2019\n",
            "0    199720\n",
            "1       280\n",
            "Name: Is Fraud?, dtype: int64\n",
            "p:0.0141 2019\n",
            "0    199720\n",
            "1       280\n",
            "Name: Is Fraud?, dtype: int64\n",
            "p:0.0131 2019\n",
            "0    199719\n",
            "1       281\n",
            "Name: Is Fraud?, dtype: int64\n",
            "p:0.0175 2019\n",
            "0    199711\n",
            "1       289\n",
            "Name: Is Fraud?, dtype: int64\n",
            "p:0.0177 2019\n",
            "0    199711\n",
            "1       289\n",
            "Name: Is Fraud?, dtype: int64\n",
            "p:0.0166 2019\n",
            "0    199706\n",
            "1       294\n",
            "Name: Is Fraud?, dtype: int64\n",
            "p:0.0170 2019\n",
            "0    199699\n",
            "1       301\n",
            "Name: Is Fraud?, dtype: int64\n",
            "p:0.0161 2019\n",
            "0    199697\n",
            "1       303\n",
            "Name: Is Fraud?, dtype: int64\n",
            "p:0.0184 2019\n",
            "0    199690\n",
            "1       310\n",
            "Name: Is Fraud?, dtype: int64\n",
            "p:0.0140 2019\n",
            "0    199690\n",
            "1       310\n",
            "Name: Is Fraud?, dtype: int64\n",
            "p:0.0126 2019\n",
            "0    199690\n",
            "1       310\n",
            "Name: Is Fraud?, dtype: int64\n",
            "p:0.0146 2019\n",
            "0    199690\n",
            "1       310\n",
            "Name: Is Fraud?, dtype: int64\n",
            "p:0.0155 2019\n",
            "0    199683\n",
            "1       317\n",
            "Name: Is Fraud?, dtype: int64\n",
            "p:0.0162 2019\n",
            "0    199685\n",
            "1       315\n",
            "Name: Is Fraud?, dtype: int64\n",
            "p:0.0169 2019\n",
            "0    199687\n",
            "1       313\n",
            "Name: Is Fraud?, dtype: int64\n",
            "p:0.0165 2019\n",
            "0    199693\n",
            "1       307\n",
            "Name: Is Fraud?, dtype: int64\n",
            "p:0.0164 2019\n",
            "0    199729\n",
            "1       271\n",
            "Name: Is Fraud?, dtype: int64\n",
            "p:0.0172 2019\n",
            "0    199729\n",
            "1       271\n",
            "Name: Is Fraud?, dtype: int64\n",
            "p:0.0166 2019\n",
            "0    199740\n",
            "1       260\n",
            "Name: Is Fraud?, dtype: int64\n",
            "p:0.0172 2019\n",
            "0    199764\n",
            "1       236\n",
            "Name: Is Fraud?, dtype: int64\n",
            "p:0.0162 2019\n",
            "0    199775\n",
            "1       225\n",
            "Name: Is Fraud?, dtype: int64\n",
            "p:0.0143 2019\n",
            "0    199775\n",
            "1       225\n",
            "Name: Is Fraud?, dtype: int64\n",
            "p:0.0152 2019\n",
            "0    199767\n",
            "1       233\n",
            "Name: Is Fraud?, dtype: int64\n",
            "p:0.0131 2019\n",
            "0    199775\n",
            "1       225\n",
            "Name: Is Fraud?, dtype: int64\n",
            "p:0.0124 2019\n",
            "0    199765\n",
            "1       235\n",
            "Name: Is Fraud?, dtype: int64\n",
            "p:0.0134 2019\n",
            "0    199755\n",
            "1       245\n",
            "Name: Is Fraud?, dtype: int64\n",
            "p:0.0134 2019\n",
            "0    199749\n",
            "1       251\n",
            "Name: Is Fraud?, dtype: int64\n",
            "p:0.0141 2019\n",
            "0    199732\n",
            "1       268\n",
            "Name: Is Fraud?, dtype: int64\n",
            "p:0.0136 2019\n",
            "0    199727\n",
            "1       273\n",
            "Name: Is Fraud?, dtype: int64\n",
            "p:0.0164 2019\n",
            "0    199703\n",
            "1       297\n",
            "Name: Is Fraud?, dtype: int64\n",
            "p:0.0163 2019\n",
            "0    199710\n",
            "1       290\n",
            "Name: Is Fraud?, dtype: int64\n",
            "p:0.0150 2019\n",
            "0    199706\n",
            "1       294\n",
            "Name: Is Fraud?, dtype: int64\n",
            "p:0.0145 2019\n",
            "0    199696\n",
            "1       304\n",
            "Name: Is Fraud?, dtype: int64\n",
            "p:0.0136 2019\n",
            "0    199695\n",
            "1       305\n",
            "Name: Is Fraud?, dtype: int64\n",
            "p:0.0125 2019\n",
            "0    199686\n",
            "1       314\n",
            "Name: Is Fraud?, dtype: int64\n",
            "p:0.0124 2019\n",
            "0    199671\n",
            "1       329\n",
            "Name: Is Fraud?, dtype: int64\n",
            "p:0.0134 2019\n",
            "0    199658\n",
            "1       342\n",
            "Name: Is Fraud?, dtype: int64\n",
            "p:0.0125 2019\n",
            "0    199661\n",
            "1       339\n",
            "Name: Is Fraud?, dtype: int64\n",
            "p:0.0130 2019\n",
            "0    199669\n",
            "1       331\n",
            "Name: Is Fraud?, dtype: int64\n",
            "p:0.0120 2019\n",
            "0    199683\n",
            "1       317\n",
            "Name: Is Fraud?, dtype: int64\n",
            "p:0.0116 2019\n",
            "0    199685\n",
            "1       315\n",
            "Name: Is Fraud?, dtype: int64\n",
            "p:0.0110 2019\n",
            "0    199696\n",
            "1       304\n",
            "Name: Is Fraud?, dtype: int64\n",
            "p:0.0099 2019\n",
            "0    199715\n",
            "1       285\n",
            "Name: Is Fraud?, dtype: int64\n",
            "p:0.0089 2019\n",
            "0    199725\n",
            "1       275\n",
            "Name: Is Fraud?, dtype: int64\n",
            "p:0.0086 2019\n",
            "0    199740\n",
            "1       260\n",
            "Name: Is Fraud?, dtype: int64\n",
            "p:0.0076 2019\n",
            "0    199762\n",
            "1       238\n",
            "Name: Is Fraud?, dtype: int64\n",
            "p:0.0068 2019\n",
            "0    199786\n",
            "1       214\n",
            "Name: Is Fraud?, dtype: int64\n",
            "p:0.0059 2019\n",
            "0    199805\n",
            "1       195\n",
            "Name: Is Fraud?, dtype: int64\n",
            "p:0.0043 2019\n",
            "0    199825\n",
            "1       175\n",
            "Name: Is Fraud?, dtype: int64\n",
            "p:0.0022 2019\n",
            "0    199869\n",
            "1       131\n",
            "Name: Is Fraud?, dtype: int64\n",
            "p:0.0022 2019\n",
            "0    199874\n",
            "1       126\n",
            "Name: Is Fraud?, dtype: int64\n",
            "p:0.0015 2019\n",
            "0    199896\n",
            "1       104\n",
            "Name: Is Fraud?, dtype: int64\n",
            "p:0.0008 2019\n",
            "0    199927\n",
            "1        73\n",
            "Name: Is Fraud?, dtype: int64\n",
            "p:0.0008 2019\n",
            "0    199940\n",
            "1        60\n",
            "Name: Is Fraud?, dtype: int64\n",
            "p:0.0008 2019\n",
            "0    199958\n",
            "1        42\n",
            "Name: Is Fraud?, dtype: int64\n",
            "p:0.0008 2019\n",
            "0    199980\n",
            "1        20\n",
            "Name: Is Fraud?, dtype: int64\n",
            "p:0.0000 2019\n",
            "0    200000\n",
            "Name: Is Fraud?, dtype: int64\n",
            "p:0.0000 2019\n",
            "0    200000\n",
            "Name: Is Fraud?, dtype: int64\n",
            "p:0.0000 2019\n",
            "0    200000\n",
            "Name: Is Fraud?, dtype: int64\n",
            "p:0.0000 2019\n",
            "0    200000\n",
            "Name: Is Fraud?, dtype: int64\n",
            "p:0.0000 2019\n",
            "0    200000\n",
            "Name: Is Fraud?, dtype: int64\n",
            "p:0.0000 2019\n",
            "0    200000\n",
            "Name: Is Fraud?, dtype: int64\n",
            "p:0.0000 2019\n",
            "0    200000\n",
            "Name: Is Fraud?, dtype: int64\n",
            "p:0.0000 2019\n",
            "0    200000\n",
            "Name: Is Fraud?, dtype: int64\n",
            "p:0.0000 2019\n",
            "0    200000\n",
            "Name: Is Fraud?, dtype: int64\n",
            "p:0.0000 2019\n",
            "0    200000\n",
            "Name: Is Fraud?, dtype: int64\n",
            "p:0.0000 2019\n",
            "0    200000\n",
            "Name: Is Fraud?, dtype: int64\n",
            "p:0.0000 2020\n",
            "0    200000\n",
            "Name: Is Fraud?, dtype: int64\n",
            "p:0.0000 2020\n",
            "0    200000\n",
            "Name: Is Fraud?, dtype: int64\n",
            "p:0.0000 2020\n",
            "0    200000\n",
            "Name: Is Fraud?, dtype: int64\n",
            "p:0.0000 2020\n",
            "0    200000\n",
            "Name: Is Fraud?, dtype: int64\n",
            "p:0.0000 2020\n",
            "0    200000\n",
            "Name: Is Fraud?, dtype: int64\n",
            "p:0.0000 2020\n",
            "0    200000\n",
            "Name: Is Fraud?, dtype: int64\n",
            "p:0.0000 2020\n",
            "0    200000\n",
            "Name: Is Fraud?, dtype: int64\n",
            "p:0.0000 2020\n",
            "0    200000\n",
            "Name: Is Fraud?, dtype: int64\n",
            "p:0.0000 2020\n",
            "0    200000\n",
            "Name: Is Fraud?, dtype: int64\n",
            "p:0.0000 2020\n",
            "0    200000\n",
            "Name: Is Fraud?, dtype: int64\n",
            "p:0.0000 2020\n",
            "0    200000\n",
            "Name: Is Fraud?, dtype: int64\n",
            "p:0.0000 2020\n",
            "0    200000\n",
            "Name: Is Fraud?, dtype: int64\n",
            "p:0.0000 2020\n",
            "0    200000\n",
            "Name: Is Fraud?, dtype: int64\n",
            "p:0.0000 2020\n",
            "0    200000\n",
            "Name: Is Fraud?, dtype: int64\n",
            "p:0.0000 2020\n",
            "0    200000\n",
            "Name: Is Fraud?, dtype: int64\n",
            "p:0.0000 2020\n",
            "0    200000\n",
            "Name: Is Fraud?, dtype: int64\n",
            "p:0.0000 2020\n",
            "0    200000\n",
            "Name: Is Fraud?, dtype: int64\n",
            "p:0.0000 2020\n",
            "0    200000\n",
            "Name: Is Fraud?, dtype: int64\n",
            "p:0.0000 2020\n",
            "0    200000\n",
            "Name: Is Fraud?, dtype: int64\n",
            "p:0.0000 2020\n",
            "0    200000\n",
            "Name: Is Fraud?, dtype: int64\n",
            "p:0.0000 2020\n",
            "0    200000\n",
            "Name: Is Fraud?, dtype: int64\n",
            "p:0.0000 2020\n",
            "0    200000\n",
            "Name: Is Fraud?, dtype: int64\n",
            "p:0.0000 2020\n",
            "0    200000\n",
            "Name: Is Fraud?, dtype: int64\n",
            "p:0.0000 2020\n",
            "0    200000\n",
            "Name: Is Fraud?, dtype: int64\n",
            "p:0.0000 2020\n",
            "0    200000\n",
            "Name: Is Fraud?, dtype: int64\n",
            "p:0.0000 2020\n",
            "0    200000\n",
            "Name: Is Fraud?, dtype: int64\n",
            "p:0.0000 2020\n",
            "0    200000\n",
            "Name: Is Fraud?, dtype: int64\n",
            "p:0.0000 2020\n",
            "0    200000\n",
            "Name: Is Fraud?, dtype: int64\n",
            "p:0.0000 2020\n",
            "0    200000\n",
            "Name: Is Fraud?, dtype: int64\n",
            "p:0.0000 2020\n",
            "0    200000\n",
            "Name: Is Fraud?, dtype: int64\n",
            "p:0.0000 2020\n",
            "0    200000\n",
            "Name: Is Fraud?, dtype: int64\n",
            "p:0.0000 2020\n",
            "0    200000\n",
            "Name: Is Fraud?, dtype: int64\n",
            "p:0.0000 2020\n",
            "0    200000\n",
            "Name: Is Fraud?, dtype: int64\n",
            "p:0.0000 2020\n",
            "0    200000\n",
            "Name: Is Fraud?, dtype: int64\n"
          ]
        }
      ]
    },
    {
      "cell_type": "code",
      "source": [
        "plt.figure(figsize=(20,5))\n",
        "plt.plot(f1s)"
      ],
      "metadata": {
        "id": "UkJ-k41yJ4l1",
        "outputId": "f4ea1993-8d09-4ee3-f1de-8684990e5259",
        "colab": {
          "base_uri": "https://localhost:8080/",
          "height": 291
        }
      },
      "execution_count": 51,
      "outputs": [
        {
          "output_type": "execute_result",
          "data": {
            "text/plain": [
              "[<matplotlib.lines.Line2D at 0x7f583f288450>]"
            ]
          },
          "metadata": {},
          "execution_count": 51
        },
        {
          "output_type": "display_data",
          "data": {
            "text/plain": [
              "<Figure size 1440x360 with 1 Axes>"
            ],
            "image/png": "[encoded data removed]"
          },
          "metadata": {
            "needs_background": "light"
          }
        }
      ]
    }
  ]
}