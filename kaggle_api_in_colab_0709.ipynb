{
  "nbformat": 4,
  "nbformat_minor": 0,
  "metadata": {
    "colab": {
      "name": "How to use the Kaggle API from Colab",
      "provenance": [],
      "collapsed_sections": [],
      "machine_shape": "hm",
      "include_colab_link": true
    },
    "kernelspec": {
      "name": "python3",
      "display_name": "Python 3"
    },
    "gpuClass": "standard",
    "widgets": {
      "application/vnd.jupyter.widget-state+json": {
        "f60160087a7545e7b9542c7b4fccfb8c": {
          "model_module": "catboost-widget",
          "model_name": "CatboostWidgetModel",
          "model_module_version": "^1.0.0",
          "state": {
            "_dom_classes": [],
            "_model_module": "catboost-widget",
            "_model_module_version": "^1.0.0",
            "_model_name": "CatboostWidgetModel",
            "_view_count": null,
            "_view_module": "catboost-widget",
            "_view_module_version": "^1.0.0",
            "_view_name": "CatboostWidgetView",
            "data": {
              "catboost_info": {
                "path": "catboost_info",
                "name": "catboost_info",
                "content": {
                  "passed_iterations": 999,
                  "total_iterations": 1000,
                  "data": {
                    "iterations": [
                      {
                        "learn": [
                          0.546977941
                        ],
                        "iteration": 0,
                        "passed_time": 0.05984045784,
                        "remaining_time": 59.78061738
                      },
                      {
                        "learn": [
                          0.4382765136
                        ],
                        "iteration": 1,
                        "passed_time": 0.07178820425,
                        "remaining_time": 35.82231392
                      },
                      {
                        "learn": [
                          0.3625875199
                        ],
                        "iteration": 2,
                        "passed_time": 0.08644455273,
                        "remaining_time": 28.72840636
                      },
                      {
                        "learn": [
                          0.3046188532
                        ],
                        "iteration": 3,
                        "passed_time": 0.09845245111,
                        "remaining_time": 24.51466033
                      },
                      {
                        "learn": [
                          0.2544762607
                        ],
                        "iteration": 4,
                        "passed_time": 0.1101431975,
                        "remaining_time": 21.91849631
                      },
                      {
                        "learn": [
                          0.2195066988
                        ],
                        "iteration": 5,
                        "passed_time": 0.1216330212,
                        "remaining_time": 20.15053717
                      },
                      {
                        "learn": [
                          0.1826177437
                        ],
                        "iteration": 6,
                        "passed_time": 0.1377361492,
                        "remaining_time": 19.53885659
                      },
                      {
                        "learn": [
                          0.1617108681
                        ],
                        "iteration": 7,
                        "passed_time": 0.1495426111,
                        "remaining_time": 18.54328378
                      },
                      {
                        "learn": [
                          0.1388479865
                        ],
                        "iteration": 8,
                        "passed_time": 0.1609248546,
                        "remaining_time": 17.71961455
                      },
                      {
                        "learn": [
                          0.1224243882
                        ],
                        "iteration": 9,
                        "passed_time": 0.1726539883,
                        "remaining_time": 17.09274484
                      },
                      {
                        "learn": [
                          0.1090735848
                        ],
                        "iteration": 10,
                        "passed_time": 0.1844408743,
                        "remaining_time": 16.58291134
                      },
                      {
                        "learn": [
                          0.09734986005
                        ],
                        "iteration": 11,
                        "passed_time": 0.1994922276,
                        "remaining_time": 16.42486007
                      },
                      {
                        "learn": [
                          0.08903835335
                        ],
                        "iteration": 12,
                        "passed_time": 0.2120651102,
                        "remaining_time": 16.10063568
                      },
                      {
                        "learn": [
                          0.08518180031
                        ],
                        "iteration": 13,
                        "passed_time": 0.2192474864,
                        "remaining_time": 15.44128725
                      },
                      {
                        "learn": [
                          0.07858785155
                        ],
                        "iteration": 14,
                        "passed_time": 0.2315129993,
                        "remaining_time": 15.20268695
                      },
                      {
                        "learn": [
                          0.07338739497
                        ],
                        "iteration": 15,
                        "passed_time": 0.2433013208,
                        "remaining_time": 14.96303123
                      },
                      {
                        "learn": [
                          0.06909984986
                        ],
                        "iteration": 16,
                        "passed_time": 0.2558160243,
                        "remaining_time": 14.79218541
                      },
                      {
                        "learn": [
                          0.06609229209
                        ],
                        "iteration": 17,
                        "passed_time": 0.2680045395,
                        "remaining_time": 14.62113654
                      },
                      {
                        "learn": [
                          0.06341469634
                        ],
                        "iteration": 18,
                        "passed_time": 0.2802237475,
                        "remaining_time": 14.46839454
                      },
                      {
                        "learn": [
                          0.06085251317
                        ],
                        "iteration": 19,
                        "passed_time": 0.2915526885,
                        "remaining_time": 14.28608174
                      },
                      {
                        "learn": [
                          0.0586118397
                        ],
                        "iteration": 20,
                        "passed_time": 0.3033043642,
                        "remaining_time": 14.1397606
                      },
                      {
                        "learn": [
                          0.05663655082
                        ],
                        "iteration": 21,
                        "passed_time": 0.3154814611,
                        "remaining_time": 14.02458495
                      },
                      {
                        "learn": [
                          0.0547943479
                        ],
                        "iteration": 22,
                        "passed_time": 0.328970267,
                        "remaining_time": 13.97408482
                      },
                      {
                        "learn": [
                          0.05339618254
                        ],
                        "iteration": 23,
                        "passed_time": 0.3407179716,
                        "remaining_time": 13.85586418
                      },
                      {
                        "learn": [
                          0.05183238785
                        ],
                        "iteration": 24,
                        "passed_time": 0.3530975232,
                        "remaining_time": 13.7708034
                      },
                      {
                        "learn": [
                          0.0507310567
                        ],
                        "iteration": 25,
                        "passed_time": 0.3647028846,
                        "remaining_time": 13.66233114
                      },
                      {
                        "learn": [
                          0.04965572676
                        ],
                        "iteration": 26,
                        "passed_time": 0.3764591819,
                        "remaining_time": 13.56647348
                      },
                      {
                        "learn": [
                          0.04858774572
                        ],
                        "iteration": 27,
                        "passed_time": 0.3883497728,
                        "remaining_time": 13.48128497
                      },
                      {
                        "learn": [
                          0.04781124829
                        ],
                        "iteration": 28,
                        "passed_time": 0.4024565805,
                        "remaining_time": 13.47535654
                      },
                      {
                        "learn": [
                          0.04687001155
                        ],
                        "iteration": 29,
                        "passed_time": 0.4157991722,
                        "remaining_time": 13.44417323
                      },
                      {
                        "learn": [
                          0.04628030494
                        ],
                        "iteration": 30,
                        "passed_time": 0.4281051543,
                        "remaining_time": 13.38173853
                      },
                      {
                        "learn": [
                          0.04577114593
                        ],
                        "iteration": 31,
                        "passed_time": 0.44008548,
                        "remaining_time": 13.31258577
                      },
                      {
                        "learn": [
                          0.04508037207
                        ],
                        "iteration": 32,
                        "passed_time": 0.452021975,
                        "remaining_time": 13.24561363
                      },
                      {
                        "learn": [
                          0.04426713585
                        ],
                        "iteration": 33,
                        "passed_time": 0.4640362496,
                        "remaining_time": 13.18408874
                      },
                      {
                        "learn": [
                          0.04331547033
                        ],
                        "iteration": 34,
                        "passed_time": 0.4774249152,
                        "remaining_time": 13.16328695
                      },
                      {
                        "learn": [
                          0.04290964119
                        ],
                        "iteration": 35,
                        "passed_time": 0.4921868497,
                        "remaining_time": 13.17967009
                      },
                      {
                        "learn": [
                          0.04232821472
                        ],
                        "iteration": 36,
                        "passed_time": 0.5043520069,
                        "remaining_time": 13.12678332
                      },
                      {
                        "learn": [
                          0.04185558997
                        ],
                        "iteration": 37,
                        "passed_time": 0.5167824032,
                        "remaining_time": 13.08275452
                      },
                      {
                        "learn": [
                          0.04147890256
                        ],
                        "iteration": 38,
                        "passed_time": 0.5283880096,
                        "remaining_time": 13.02002249
                      },
                      {
                        "learn": [
                          0.04085095521
                        ],
                        "iteration": 39,
                        "passed_time": 0.5404755905,
                        "remaining_time": 12.97141417
                      },
                      {
                        "learn": [
                          0.04043891537
                        ],
                        "iteration": 40,
                        "passed_time": 0.5522545506,
                        "remaining_time": 12.91736864
                      },
                      {
                        "learn": [
                          0.04013593754
                        ],
                        "iteration": 41,
                        "passed_time": 0.5636504089,
                        "remaining_time": 12.85659742
                      },
                      {
                        "learn": [
                          0.03982537317
                        ],
                        "iteration": 42,
                        "passed_time": 0.5749999272,
                        "remaining_time": 12.7970914
                      },
                      {
                        "learn": [
                          0.03958029241
                        ],
                        "iteration": 43,
                        "passed_time": 0.5882410349,
                        "remaining_time": 12.78087339
                      },
                      {
                        "learn": [
                          0.03916808199
                        ],
                        "iteration": 44,
                        "passed_time": 0.6053976305,
                        "remaining_time": 12.84788305
                      },
                      {
                        "learn": [
                          0.03882201482
                        ],
                        "iteration": 45,
                        "passed_time": 0.6164250839,
                        "remaining_time": 12.78412022
                      },
                      {
                        "learn": [
                          0.03830700806
                        ],
                        "iteration": 46,
                        "passed_time": 0.6302617009,
                        "remaining_time": 12.77956172
                      },
                      {
                        "learn": [
                          0.03780569265
                        ],
                        "iteration": 47,
                        "passed_time": 0.6432637586,
                        "remaining_time": 12.75806455
                      },
                      {
                        "learn": [
                          0.0374328838
                        ],
                        "iteration": 48,
                        "passed_time": 0.6558621661,
                        "remaining_time": 12.72908
                      },
                      {
                        "learn": [
                          0.03694187269
                        ],
                        "iteration": 49,
                        "passed_time": 0.6685562813,
                        "remaining_time": 12.70256935
                      },
                      {
                        "learn": [
                          0.03668535915
                        ],
                        "iteration": 50,
                        "passed_time": 0.6804580619,
                        "remaining_time": 12.66185688
                      },
                      {
                        "learn": [
                          0.03631990889
                        ],
                        "iteration": 51,
                        "passed_time": 0.6936684041,
                        "remaining_time": 12.6461086
                      },
                      {
                        "learn": [
                          0.03599589163
                        ],
                        "iteration": 52,
                        "passed_time": 0.7062216826,
                        "remaining_time": 12.61871572
                      },
                      {
                        "learn": [
                          0.03567675368
                        ],
                        "iteration": 53,
                        "passed_time": 0.7194367804,
                        "remaining_time": 12.60346656
                      },
                      {
                        "learn": [
                          0.03547992047
                        ],
                        "iteration": 54,
                        "passed_time": 0.7314444629,
                        "remaining_time": 12.56754577
                      },
                      {
                        "learn": [
                          0.03533934092
                        ],
                        "iteration": 55,
                        "passed_time": 0.7420015529,
                        "remaining_time": 12.50802618
                      },
                      {
                        "learn": [
                          0.03511836817
                        ],
                        "iteration": 56,
                        "passed_time": 0.7535829064,
                        "remaining_time": 12.46716984
                      },
                      {
                        "learn": [
                          0.03485093033
                        ],
                        "iteration": 57,
                        "passed_time": 0.7658918691,
                        "remaining_time": 12.43914036
                      },
                      {
                        "learn": [
                          0.03459491556
                        ],
                        "iteration": 58,
                        "passed_time": 0.7778921289,
                        "remaining_time": 12.40672023
                      },
                      {
                        "learn": [
                          0.03443517845
                        ],
                        "iteration": 59,
                        "passed_time": 0.7900045919,
                        "remaining_time": 12.37673861
                      },
                      {
                        "learn": [
                          0.03416929914
                        ],
                        "iteration": 60,
                        "passed_time": 0.8028632581,
                        "remaining_time": 12.3588295
                      },
                      {
                        "learn": [
                          0.03402514335
                        ],
                        "iteration": 61,
                        "passed_time": 0.8158000022,
                        "remaining_time": 12.34226455
                      },
                      {
                        "learn": [
                          0.03388274416
                        ],
                        "iteration": 62,
                        "passed_time": 0.8272904718,
                        "remaining_time": 12.30430432
                      },
                      {
                        "learn": [
                          0.03368077942
                        ],
                        "iteration": 63,
                        "passed_time": 0.8389489553,
                        "remaining_time": 12.26962847
                      },
                      {
                        "learn": [
                          0.03358481945
                        ],
                        "iteration": 64,
                        "passed_time": 0.8505477701,
                        "remaining_time": 12.23480254
                      },
                      {
                        "learn": [
                          0.03332871819
                        ],
                        "iteration": 65,
                        "passed_time": 0.8621318982,
                        "remaining_time": 12.20047262
                      },
                      {
                        "learn": [
                          0.03314772742
                        ],
                        "iteration": 66,
                        "passed_time": 0.8735863206,
                        "remaining_time": 12.16501548
                      },
                      {
                        "learn": [
                          0.03279757232
                        ],
                        "iteration": 67,
                        "passed_time": 0.8848811163,
                        "remaining_time": 12.12807648
                      },
                      {
                        "learn": [
                          0.03269289651
                        ],
                        "iteration": 68,
                        "passed_time": 0.8961765011,
                        "remaining_time": 12.09188873
                      },
                      {
                        "learn": [
                          0.03255074629
                        ],
                        "iteration": 69,
                        "passed_time": 0.9108520905,
                        "remaining_time": 12.10132063
                      },
                      {
                        "learn": [
                          0.03237356779
                        ],
                        "iteration": 70,
                        "passed_time": 0.9258249918,
                        "remaining_time": 12.11396363
                      },
                      {
                        "learn": [
                          0.03212809335
                        ],
                        "iteration": 71,
                        "passed_time": 0.9459389045,
                        "remaining_time": 12.19210144
                      },
                      {
                        "learn": [
                          0.0318258851
                        ],
                        "iteration": 72,
                        "passed_time": 0.9634981134,
                        "remaining_time": 12.23510618
                      },
                      {
                        "learn": [
                          0.03160967203
                        ],
                        "iteration": 73,
                        "passed_time": 0.9796085805,
                        "remaining_time": 12.25834521
                      },
                      {
                        "learn": [
                          0.03152038678
                        ],
                        "iteration": 74,
                        "passed_time": 0.9940073353,
                        "remaining_time": 12.2594238
                      },
                      {
                        "learn": [
                          0.03148340628
                        ],
                        "iteration": 75,
                        "passed_time": 1.012262568,
                        "remaining_time": 12.30698175
                      },
                      {
                        "learn": [
                          0.03143228578
                        ],
                        "iteration": 76,
                        "passed_time": 1.027289746,
                        "remaining_time": 12.31413553
                      },
                      {
                        "learn": [
                          0.03129662435
                        ],
                        "iteration": 77,
                        "passed_time": 1.04973319,
                        "remaining_time": 12.40838463
                      },
                      {
                        "learn": [
                          0.03106200066
                        ],
                        "iteration": 78,
                        "passed_time": 1.064451681,
                        "remaining_time": 12.40962023
                      },
                      {
                        "learn": [
                          0.03099988471
                        ],
                        "iteration": 79,
                        "passed_time": 1.079389501,
                        "remaining_time": 12.41297926
                      },
                      {
                        "learn": [
                          0.03090874991
                        ],
                        "iteration": 80,
                        "passed_time": 1.094345066,
                        "remaining_time": 12.41608785
                      },
                      {
                        "learn": [
                          0.03082721287
                        ],
                        "iteration": 81,
                        "passed_time": 1.108857636,
                        "remaining_time": 12.41379646
                      },
                      {
                        "learn": [
                          0.03071520919
                        ],
                        "iteration": 82,
                        "passed_time": 1.123644424,
                        "remaining_time": 12.4142402
                      },
                      {
                        "learn": [
                          0.03063565267
                        ],
                        "iteration": 83,
                        "passed_time": 1.145311395,
                        "remaining_time": 12.48934807
                      },
                      {
                        "learn": [
                          0.03044060353
                        ],
                        "iteration": 84,
                        "passed_time": 1.161291904,
                        "remaining_time": 12.50096579
                      },
                      {
                        "learn": [
                          0.03025868798
                        ],
                        "iteration": 85,
                        "passed_time": 1.175950524,
                        "remaining_time": 12.49789277
                      },
                      {
                        "learn": [
                          0.030163171
                        ],
                        "iteration": 86,
                        "passed_time": 1.190526084,
                        "remaining_time": 12.49368178
                      },
                      {
                        "learn": [
                          0.03006255564
                        ],
                        "iteration": 87,
                        "passed_time": 1.210631851,
                        "remaining_time": 12.54654828
                      },
                      {
                        "learn": [
                          0.02990400198
                        ],
                        "iteration": 88,
                        "passed_time": 1.223084017,
                        "remaining_time": 12.51943303
                      },
                      {
                        "learn": [
                          0.02974021655
                        ],
                        "iteration": 89,
                        "passed_time": 1.236759643,
                        "remaining_time": 12.50501417
                      },
                      {
                        "learn": [
                          0.02961393058
                        ],
                        "iteration": 90,
                        "passed_time": 1.249344003,
                        "remaining_time": 12.47971098
                      },
                      {
                        "learn": [
                          0.02947020485
                        ],
                        "iteration": 91,
                        "passed_time": 1.262545615,
                        "remaining_time": 12.46077629
                      },
                      {
                        "learn": [
                          0.02941199091
                        ],
                        "iteration": 92,
                        "passed_time": 1.274072669,
                        "remaining_time": 12.42563345
                      },
                      {
                        "learn": [
                          0.02930777183
                        ],
                        "iteration": 93,
                        "passed_time": 1.286092926,
                        "remaining_time": 12.39574672
                      },
                      {
                        "learn": [
                          0.02914697817
                        ],
                        "iteration": 94,
                        "passed_time": 1.300656873,
                        "remaining_time": 12.39046811
                      },
                      {
                        "learn": [
                          0.02908567302
                        ],
                        "iteration": 95,
                        "passed_time": 1.31182725,
                        "remaining_time": 12.35303994
                      },
                      {
                        "learn": [
                          0.02894122622
                        ],
                        "iteration": 96,
                        "passed_time": 1.325816902,
                        "remaining_time": 12.34239858
                      },
                      {
                        "learn": [
                          0.02889699465
                        ],
                        "iteration": 97,
                        "passed_time": 1.337577153,
                        "remaining_time": 12.31116931
                      },
                      {
                        "learn": [
                          0.02876000264
                        ],
                        "iteration": 98,
                        "passed_time": 1.348953904,
                        "remaining_time": 12.27684311
                      },
                      {
                        "learn": [
                          0.02869024921
                        ],
                        "iteration": 99,
                        "passed_time": 1.360520636,
                        "remaining_time": 12.24468573
                      },
                      {
                        "learn": [
                          0.02866787758
                        ],
                        "iteration": 100,
                        "passed_time": 1.3712433,
                        "remaining_time": 12.20542303
                      },
                      {
                        "learn": [
                          0.02860549487
                        ],
                        "iteration": 101,
                        "passed_time": 1.383668795,
                        "remaining_time": 12.18171155
                      },
                      {
                        "learn": [
                          0.02849939835
                        ],
                        "iteration": 102,
                        "passed_time": 1.395134774,
                        "remaining_time": 12.14986303
                      },
                      {
                        "learn": [
                          0.02840280503
                        ],
                        "iteration": 103,
                        "passed_time": 1.406758716,
                        "remaining_time": 12.1197674
                      },
                      {
                        "learn": [
                          0.0283517403
                        ],
                        "iteration": 104,
                        "passed_time": 1.419447522,
                        "remaining_time": 12.09910031
                      },
                      {
                        "learn": [
                          0.02829995653
                        ],
                        "iteration": 105,
                        "passed_time": 1.431288341,
                        "remaining_time": 12.07143186
                      },
                      {
                        "learn": [
                          0.02816896384
                        ],
                        "iteration": 106,
                        "passed_time": 1.443971772,
                        "remaining_time": 12.05109152
                      },
                      {
                        "learn": [
                          0.02809562247
                        ],
                        "iteration": 107,
                        "passed_time": 1.455584178,
                        "remaining_time": 12.0220471
                      },
                      {
                        "learn": [
                          0.02803200538
                        ],
                        "iteration": 108,
                        "passed_time": 1.470359761,
                        "remaining_time": 12.01917933
                      },
                      {
                        "learn": [
                          0.02798850093
                        ],
                        "iteration": 109,
                        "passed_time": 1.483484598,
                        "remaining_time": 12.00273902
                      },
                      {
                        "learn": [
                          0.02791353393
                        ],
                        "iteration": 110,
                        "passed_time": 1.495474224,
                        "remaining_time": 11.97726653
                      },
                      {
                        "learn": [
                          0.02785563282
                        ],
                        "iteration": 111,
                        "passed_time": 1.507153424,
                        "remaining_time": 11.94957358
                      },
                      {
                        "learn": [
                          0.02775148366
                        ],
                        "iteration": 112,
                        "passed_time": 1.519953967,
                        "remaining_time": 11.93096609
                      },
                      {
                        "learn": [
                          0.02763792953
                        ],
                        "iteration": 113,
                        "passed_time": 1.531650392,
                        "remaining_time": 11.90387936
                      },
                      {
                        "learn": [
                          0.02761449408
                        ],
                        "iteration": 114,
                        "passed_time": 1.542471954,
                        "remaining_time": 11.87032765
                      },
                      {
                        "learn": [
                          0.02751719666
                        ],
                        "iteration": 115,
                        "passed_time": 1.553211045,
                        "remaining_time": 11.83653934
                      },
                      {
                        "learn": [
                          0.02749083936
                        ],
                        "iteration": 116,
                        "passed_time": 1.563991802,
                        "remaining_time": 11.8034595
                      },
                      {
                        "learn": [
                          0.02744693922
                        ],
                        "iteration": 117,
                        "passed_time": 1.575668067,
                        "remaining_time": 11.77745115
                      },
                      {
                        "learn": [
                          0.02734162722
                        ],
                        "iteration": 118,
                        "passed_time": 1.587058501,
                        "remaining_time": 11.74956756
                      },
                      {
                        "learn": [
                          0.0273094541
                        ],
                        "iteration": 119,
                        "passed_time": 1.599108823,
                        "remaining_time": 11.72679803
                      },
                      {
                        "learn": [
                          0.02725775036
                        ],
                        "iteration": 120,
                        "passed_time": 1.610240839,
                        "remaining_time": 11.69753469
                      },
                      {
                        "learn": [
                          0.02720242432
                        ],
                        "iteration": 121,
                        "passed_time": 1.624921799,
                        "remaining_time": 11.69410934
                      },
                      {
                        "learn": [
                          0.02714546092
                        ],
                        "iteration": 122,
                        "passed_time": 1.638642912,
                        "remaining_time": 11.68365719
                      },
                      {
                        "learn": [
                          0.02705153198
                        ],
                        "iteration": 123,
                        "passed_time": 1.65209138,
                        "remaining_time": 11.6712262
                      },
                      {
                        "learn": [
                          0.0269624569
                        ],
                        "iteration": 124,
                        "passed_time": 1.664212473,
                        "remaining_time": 11.64948731
                      },
                      {
                        "learn": [
                          0.02682177832
                        ],
                        "iteration": 125,
                        "passed_time": 1.676446853,
                        "remaining_time": 11.6286869
                      },
                      {
                        "learn": [
                          0.02673772443
                        ],
                        "iteration": 126,
                        "passed_time": 1.688199604,
                        "remaining_time": 11.60471067
                      },
                      {
                        "learn": [
                          0.02660763468
                        ],
                        "iteration": 127,
                        "passed_time": 1.699781816,
                        "remaining_time": 11.57976362
                      },
                      {
                        "learn": [
                          0.02653158325
                        ],
                        "iteration": 128,
                        "passed_time": 1.712596619,
                        "remaining_time": 11.56334616
                      },
                      {
                        "learn": [
                          0.02642631571
                        ],
                        "iteration": 129,
                        "passed_time": 1.725334295,
                        "remaining_time": 11.54646797
                      },
                      {
                        "learn": [
                          0.02638706855
                        ],
                        "iteration": 130,
                        "passed_time": 1.736996434,
                        "remaining_time": 11.52251833
                      },
                      {
                        "learn": [
                          0.02632981575
                        ],
                        "iteration": 131,
                        "passed_time": 1.749074311,
                        "remaining_time": 11.50148865
                      },
                      {
                        "learn": [
                          0.02626578842
                        ],
                        "iteration": 132,
                        "passed_time": 1.759859925,
                        "remaining_time": 11.47216958
                      },
                      {
                        "learn": [
                          0.02623537754
                        ],
                        "iteration": 133,
                        "passed_time": 1.771234402,
                        "remaining_time": 11.44693278
                      },
                      {
                        "learn": [
                          0.02618490293
                        ],
                        "iteration": 134,
                        "passed_time": 1.784750008,
                        "remaining_time": 11.43562042
                      },
                      {
                        "learn": [
                          0.02612658834
                        ],
                        "iteration": 135,
                        "passed_time": 1.796560099,
                        "remaining_time": 11.41344063
                      },
                      {
                        "learn": [
                          0.02609689126
                        ],
                        "iteration": 136,
                        "passed_time": 1.808007422,
                        "remaining_time": 11.38912705
                      },
                      {
                        "learn": [
                          0.02604985949
                        ],
                        "iteration": 137,
                        "passed_time": 1.820705257,
                        "remaining_time": 11.3728111
                      },
                      {
                        "learn": [
                          0.02601108927
                        ],
                        "iteration": 138,
                        "passed_time": 1.832890686,
                        "remaining_time": 11.35337324
                      },
                      {
                        "learn": [
                          0.02594898464
                        ],
                        "iteration": 139,
                        "passed_time": 1.846786866,
                        "remaining_time": 11.34454789
                      },
                      {
                        "learn": [
                          0.02592337225
                        ],
                        "iteration": 140,
                        "passed_time": 1.857385075,
                        "remaining_time": 11.31555872
                      },
                      {
                        "learn": [
                          0.02585492394
                        ],
                        "iteration": 141,
                        "passed_time": 1.868665266,
                        "remaining_time": 11.29094928
                      },
                      {
                        "learn": [
                          0.02580100324
                        ],
                        "iteration": 142,
                        "passed_time": 1.879627736,
                        "remaining_time": 11.26462217
                      },
                      {
                        "learn": [
                          0.02570219822
                        ],
                        "iteration": 143,
                        "passed_time": 1.891308262,
                        "remaining_time": 11.24277689
                      },
                      {
                        "learn": [
                          0.02563181265
                        ],
                        "iteration": 144,
                        "passed_time": 1.902977315,
                        "remaining_time": 11.22100417
                      },
                      {
                        "learn": [
                          0.02558618906
                        ],
                        "iteration": 145,
                        "passed_time": 1.930512028,
                        "remaining_time": 11.2921731
                      },
                      {
                        "learn": [
                          0.02549659622
                        ],
                        "iteration": 146,
                        "passed_time": 1.942557969,
                        "remaining_time": 11.27212209
                      },
                      {
                        "learn": [
                          0.02544678367
                        ],
                        "iteration": 147,
                        "passed_time": 1.954598745,
                        "remaining_time": 11.25214953
                      },
                      {
                        "learn": [
                          0.0253861915
                        ],
                        "iteration": 148,
                        "passed_time": 1.966533334,
                        "remaining_time": 11.23167696
                      },
                      {
                        "learn": [
                          0.02529698586
                        ],
                        "iteration": 149,
                        "passed_time": 1.978821123,
                        "remaining_time": 11.2133197
                      },
                      {
                        "learn": [
                          0.02527176189
                        ],
                        "iteration": 150,
                        "passed_time": 1.989609033,
                        "remaining_time": 11.18660973
                      },
                      {
                        "learn": [
                          0.02523109847
                        ],
                        "iteration": 151,
                        "passed_time": 2.001658402,
                        "remaining_time": 11.16714687
                      },
                      {
                        "learn": [
                          0.02520262364
                        ],
                        "iteration": 152,
                        "passed_time": 2.012894813,
                        "remaining_time": 11.14328043
                      },
                      {
                        "learn": [
                          0.02518916994
                        ],
                        "iteration": 153,
                        "passed_time": 2.024838216,
                        "remaining_time": 11.12346189
                      },
                      {
                        "learn": [
                          0.0251748909
                        ],
                        "iteration": 154,
                        "passed_time": 2.037505029,
                        "remaining_time": 11.1076887
                      },
                      {
                        "learn": [
                          0.02507663637
                        ],
                        "iteration": 155,
                        "passed_time": 2.053794131,
                        "remaining_time": 11.11155286
                      },
                      {
                        "learn": [
                          0.02503469006
                        ],
                        "iteration": 156,
                        "passed_time": 2.065661482,
                        "remaining_time": 11.09141802
                      },
                      {
                        "learn": [
                          0.02493124742
                        ],
                        "iteration": 157,
                        "passed_time": 2.076880569,
                        "remaining_time": 11.06793316
                      },
                      {
                        "learn": [
                          0.02489793045
                        ],
                        "iteration": 158,
                        "passed_time": 2.0883141,
                        "remaining_time": 11.04573684
                      },
                      {
                        "learn": [
                          0.02486836918
                        ],
                        "iteration": 159,
                        "passed_time": 2.099827021,
                        "remaining_time": 11.02409186
                      },
                      {
                        "learn": [
                          0.02484549999
                        ],
                        "iteration": 160,
                        "passed_time": 2.111403365,
                        "remaining_time": 11.00290325
                      },
                      {
                        "learn": [
                          0.02475330703
                        ],
                        "iteration": 161,
                        "passed_time": 2.126577194,
                        "remaining_time": 11.00044252
                      },
                      {
                        "learn": [
                          0.02469328233
                        ],
                        "iteration": 162,
                        "passed_time": 2.139440219,
                        "remaining_time": 10.9859599
                      },
                      {
                        "learn": [
                          0.02463868504
                        ],
                        "iteration": 163,
                        "passed_time": 2.151335374,
                        "remaining_time": 10.96656325
                      },
                      {
                        "learn": [
                          0.02459385608
                        ],
                        "iteration": 164,
                        "passed_time": 2.162281354,
                        "remaining_time": 10.94245412
                      },
                      {
                        "learn": [
                          0.02455241096
                        ],
                        "iteration": 165,
                        "passed_time": 2.174353499,
                        "remaining_time": 10.92416155
                      },
                      {
                        "learn": [
                          0.02449850845
                        ],
                        "iteration": 166,
                        "passed_time": 2.18678831,
                        "remaining_time": 10.90775247
                      },
                      {
                        "learn": [
                          0.0244586441
                        ],
                        "iteration": 167,
                        "passed_time": 2.198576585,
                        "remaining_time": 10.8881888
                      },
                      {
                        "learn": [
                          0.02443018059
                        ],
                        "iteration": 168,
                        "passed_time": 2.210626884,
                        "remaining_time": 10.87000557
                      },
                      {
                        "learn": [
                          0.02438502949
                        ],
                        "iteration": 169,
                        "passed_time": 2.223588986,
                        "remaining_time": 10.85634622
                      },
                      {
                        "learn": [
                          0.02435573053
                        ],
                        "iteration": 170,
                        "passed_time": 2.235274028,
                        "remaining_time": 10.83650391
                      },
                      {
                        "learn": [
                          0.02430844575
                        ],
                        "iteration": 171,
                        "passed_time": 2.246582608,
                        "remaining_time": 10.81494418
                      },
                      {
                        "learn": [
                          0.02427889821
                        ],
                        "iteration": 172,
                        "passed_time": 2.258398858,
                        "remaining_time": 10.7959298
                      },
                      {
                        "learn": [
                          0.02424856333
                        ],
                        "iteration": 173,
                        "passed_time": 2.270967594,
                        "remaining_time": 10.7805703
                      },
                      {
                        "learn": [
                          0.02420331765
                        ],
                        "iteration": 174,
                        "passed_time": 2.282605972,
                        "remaining_time": 10.76085673
                      },
                      {
                        "learn": [
                          0.02418911904
                        ],
                        "iteration": 175,
                        "passed_time": 2.294493472,
                        "remaining_time": 10.74240125
                      },
                      {
                        "learn": [
                          0.02414683119
                        ],
                        "iteration": 176,
                        "passed_time": 2.306129721,
                        "remaining_time": 10.72285175
                      },
                      {
                        "learn": [
                          0.02410800075
                        ],
                        "iteration": 177,
                        "passed_time": 2.317255509,
                        "remaining_time": 10.70103387
                      },
                      {
                        "learn": [
                          0.02409067495
                        ],
                        "iteration": 178,
                        "passed_time": 2.328351967,
                        "remaining_time": 10.67920092
                      },
                      {
                        "learn": [
                          0.02404984298
                        ],
                        "iteration": 179,
                        "passed_time": 2.340160374,
                        "remaining_time": 10.66073059
                      },
                      {
                        "learn": [
                          0.02399426432
                        ],
                        "iteration": 180,
                        "passed_time": 2.352862232,
                        "remaining_time": 10.64637662
                      },
                      {
                        "learn": [
                          0.02395516469
                        ],
                        "iteration": 181,
                        "passed_time": 2.364893705,
                        "remaining_time": 10.62902775
                      },
                      {
                        "learn": [
                          0.02393904256
                        ],
                        "iteration": 182,
                        "passed_time": 2.3767382,
                        "remaining_time": 10.61090224
                      },
                      {
                        "learn": [
                          0.02384955804
                        ],
                        "iteration": 183,
                        "passed_time": 2.388047713,
                        "remaining_time": 10.59047247
                      },
                      {
                        "learn": [
                          0.02383694989
                        ],
                        "iteration": 184,
                        "passed_time": 2.399134672,
                        "remaining_time": 10.56916085
                      },
                      {
                        "learn": [
                          0.02381140056
                        ],
                        "iteration": 185,
                        "passed_time": 2.410553029,
                        "remaining_time": 10.54940949
                      },
                      {
                        "learn": [
                          0.02374459526
                        ],
                        "iteration": 186,
                        "passed_time": 2.423555867,
                        "remaining_time": 10.53663594
                      },
                      {
                        "learn": [
                          0.02372101228
                        ],
                        "iteration": 187,
                        "passed_time": 2.43565637,
                        "remaining_time": 10.51996262
                      },
                      {
                        "learn": [
                          0.02368793863
                        ],
                        "iteration": 188,
                        "passed_time": 2.446846758,
                        "remaining_time": 10.49943238
                      },
                      {
                        "learn": [
                          0.02367289972
                        ],
                        "iteration": 189,
                        "passed_time": 2.457988605,
                        "remaining_time": 10.47879353
                      },
                      {
                        "learn": [
                          0.02348084641
                        ],
                        "iteration": 190,
                        "passed_time": 2.469526764,
                        "remaining_time": 10.45993273
                      },
                      {
                        "learn": [
                          0.02346664092
                        ],
                        "iteration": 191,
                        "passed_time": 2.480199891,
                        "remaining_time": 10.43750787
                      },
                      {
                        "learn": [
                          0.02343570865
                        ],
                        "iteration": 192,
                        "passed_time": 2.492354776,
                        "remaining_time": 10.42140054
                      },
                      {
                        "learn": [
                          0.02341561339
                        ],
                        "iteration": 193,
                        "passed_time": 2.506169987,
                        "remaining_time": 10.41223201
                      },
                      {
                        "learn": [
                          0.023366068
                        ],
                        "iteration": 194,
                        "passed_time": 2.51821088,
                        "remaining_time": 10.39569107
                      },
                      {
                        "learn": [
                          0.02334666631
                        ],
                        "iteration": 195,
                        "passed_time": 2.529402865,
                        "remaining_time": 10.37571379
                      },
                      {
                        "learn": [
                          0.02332162059
                        ],
                        "iteration": 196,
                        "passed_time": 2.540725225,
                        "remaining_time": 10.35635714
                      },
                      {
                        "learn": [
                          0.02327462358
                        ],
                        "iteration": 197,
                        "passed_time": 2.552719823,
                        "remaining_time": 10.33980454
                      },
                      {
                        "learn": [
                          0.02325513864
                        ],
                        "iteration": 198,
                        "passed_time": 2.563434076,
                        "remaining_time": 10.3181442
                      },
                      {
                        "learn": [
                          0.02320530425
                        ],
                        "iteration": 199,
                        "passed_time": 2.57506561,
                        "remaining_time": 10.30026244
                      },
                      {
                        "learn": [
                          0.02316946113
                        ],
                        "iteration": 200,
                        "passed_time": 2.58624191,
                        "remaining_time": 10.28063327
                      },
                      {
                        "learn": [
                          0.02315331597
                        ],
                        "iteration": 201,
                        "passed_time": 2.596876269,
                        "remaining_time": 10.25894684
                      },
                      {
                        "learn": [
                          0.02311107905
                        ],
                        "iteration": 202,
                        "passed_time": 2.60846266,
                        "remaining_time": 10.24110709
                      },
                      {
                        "learn": [
                          0.02305484197
                        ],
                        "iteration": 203,
                        "passed_time": 2.621500753,
                        "remaining_time": 10.22899313
                      },
                      {
                        "learn": [
                          0.0230519476
                        ],
                        "iteration": 204,
                        "passed_time": 2.631327513,
                        "remaining_time": 10.20441645
                      },
                      {
                        "learn": [
                          0.02300864
                        ],
                        "iteration": 205,
                        "passed_time": 2.645161563,
                        "remaining_time": 10.19542855
                      },
                      {
                        "learn": [
                          0.02300072969
                        ],
                        "iteration": 206,
                        "passed_time": 2.659842705,
                        "remaining_time": 10.18963896
                      },
                      {
                        "learn": [
                          0.02297761193
                        ],
                        "iteration": 207,
                        "passed_time": 2.670642542,
                        "remaining_time": 10.16898507
                      },
                      {
                        "learn": [
                          0.02295076072
                        ],
                        "iteration": 208,
                        "passed_time": 2.685495876,
                        "remaining_time": 10.16376669
                      },
                      {
                        "learn": [
                          0.02292568751
                        ],
                        "iteration": 209,
                        "passed_time": 2.696396306,
                        "remaining_time": 10.1435861
                      },
                      {
                        "learn": [
                          0.02291509018
                        ],
                        "iteration": 210,
                        "passed_time": 2.707582163,
                        "remaining_time": 10.12456079
                      },
                      {
                        "learn": [
                          0.02288458069
                        ],
                        "iteration": 211,
                        "passed_time": 2.7189867,
                        "remaining_time": 10.10642226
                      },
                      {
                        "learn": [
                          0.02284051928
                        ],
                        "iteration": 212,
                        "passed_time": 2.73107701,
                        "remaining_time": 10.09088078
                      },
                      {
                        "learn": [
                          0.02279184127
                        ],
                        "iteration": 213,
                        "passed_time": 2.742967329,
                        "remaining_time": 10.07463701
                      },
                      {
                        "learn": [
                          0.02274997418
                        ],
                        "iteration": 214,
                        "passed_time": 2.755160483,
                        "remaining_time": 10.05953944
                      },
                      {
                        "learn": [
                          0.02272252315
                        ],
                        "iteration": 215,
                        "passed_time": 2.766491382,
                        "remaining_time": 10.04133909
                      },
                      {
                        "learn": [
                          0.02265915383
                        ],
                        "iteration": 216,
                        "passed_time": 2.778063595,
                        "remaining_time": 10.02407279
                      },
                      {
                        "learn": [
                          0.02258858556
                        ],
                        "iteration": 217,
                        "passed_time": 2.789344149,
                        "remaining_time": 10.0058125
                      },
                      {
                        "learn": [
                          0.02255404271
                        ],
                        "iteration": 218,
                        "passed_time": 2.801208168,
                        "remaining_time": 9.98969671
                      },
                      {
                        "learn": [
                          0.02250749475
                        ],
                        "iteration": 219,
                        "passed_time": 2.812042435,
                        "remaining_time": 9.969968634
                      },
                      {
                        "learn": [
                          0.02249234388
                        ],
                        "iteration": 220,
                        "passed_time": 2.825866255,
                        "remaining_time": 9.96085888
                      },
                      {
                        "learn": [
                          0.02247084852
                        ],
                        "iteration": 221,
                        "passed_time": 2.838070233,
                        "remaining_time": 9.946029914
                      },
                      {
                        "learn": [
                          0.02246262133
                        ],
                        "iteration": 222,
                        "passed_time": 2.848886776,
                        "remaining_time": 9.926390248
                      },
                      {
                        "learn": [
                          0.0224044474
                        ],
                        "iteration": 223,
                        "passed_time": 2.860639719,
                        "remaining_time": 9.910073312
                      },
                      {
                        "learn": [
                          0.02237329202
                        ],
                        "iteration": 224,
                        "passed_time": 2.872490215,
                        "remaining_time": 9.894132962
                      },
                      {
                        "learn": [
                          0.02233888457
                        ],
                        "iteration": 225,
                        "passed_time": 2.890970075,
                        "remaining_time": 9.900932913
                      },
                      {
                        "learn": [
                          0.02229616182
                        ],
                        "iteration": 226,
                        "passed_time": 2.907186666,
                        "remaining_time": 9.899803054
                      },
                      {
                        "learn": [
                          0.02228583004
                        ],
                        "iteration": 227,
                        "passed_time": 2.918392082,
                        "remaining_time": 9.881573192
                      },
                      {
                        "learn": [
                          0.02221540931
                        ],
                        "iteration": 228,
                        "passed_time": 2.930216218,
                        "remaining_time": 9.865487791
                      },
                      {
                        "learn": [
                          0.02218251714
                        ],
                        "iteration": 229,
                        "passed_time": 2.942183268,
                        "remaining_time": 9.849917896
                      },
                      {
                        "learn": [
                          0.02217264937
                        ],
                        "iteration": 230,
                        "passed_time": 2.953343454,
                        "remaining_time": 9.831693142
                      },
                      {
                        "learn": [
                          0.02216311223
                        ],
                        "iteration": 231,
                        "passed_time": 2.963827025,
                        "remaining_time": 9.811289463
                      },
                      {
                        "learn": [
                          0.02215505197
                        ],
                        "iteration": 232,
                        "passed_time": 2.974726866,
                        "remaining_time": 9.792341229
                      },
                      {
                        "learn": [
                          0.02211791991
                        ],
                        "iteration": 233,
                        "passed_time": 2.98627127,
                        "remaining_time": 9.775571763
                      },
                      {
                        "learn": [
                          0.02199800915
                        ],
                        "iteration": 234,
                        "passed_time": 2.998227286,
                        "remaining_time": 9.760186697
                      },
                      {
                        "learn": [
                          0.02196631216
                        ],
                        "iteration": 235,
                        "passed_time": 3.009212524,
                        "remaining_time": 9.741688
                      },
                      {
                        "learn": [
                          0.02192074395
                        ],
                        "iteration": 236,
                        "passed_time": 3.020395802,
                        "remaining_time": 9.723890283
                      },
                      {
                        "learn": [
                          0.02186002163
                        ],
                        "iteration": 237,
                        "passed_time": 3.03388297,
                        "remaining_time": 9.713524468
                      },
                      {
                        "learn": [
                          0.02184584121
                        ],
                        "iteration": 238,
                        "passed_time": 3.045646118,
                        "remaining_time": 9.69764308
                      },
                      {
                        "learn": [
                          0.02182649207
                        ],
                        "iteration": 239,
                        "passed_time": 3.062661881,
                        "remaining_time": 9.69842929
                      },
                      {
                        "learn": [
                          0.02181262044
                        ],
                        "iteration": 240,
                        "passed_time": 3.078767234,
                        "remaining_time": 9.696200542
                      },
                      {
                        "learn": [
                          0.02177689373
                        ],
                        "iteration": 241,
                        "passed_time": 3.095845977,
                        "remaining_time": 9.696905993
                      },
                      {
                        "learn": [
                          0.02177219144
                        ],
                        "iteration": 242,
                        "passed_time": 3.124767422,
                        "remaining_time": 9.734357773
                      },
                      {
                        "learn": [
                          0.02174048031
                        ],
                        "iteration": 243,
                        "passed_time": 3.142522513,
                        "remaining_time": 9.736668115
                      },
                      {
                        "learn": [
                          0.02171540387
                        ],
                        "iteration": 244,
                        "passed_time": 3.163742789,
                        "remaining_time": 9.749493084
                      },
                      {
                        "learn": [
                          0.02168581268
                        ],
                        "iteration": 245,
                        "passed_time": 3.182149877,
                        "remaining_time": 9.75341873
                      },
                      {
                        "learn": [
                          0.02158604246
                        ],
                        "iteration": 246,
                        "passed_time": 3.198317473,
                        "remaining_time": 9.750336265
                      },
                      {
                        "learn": [
                          0.02156806513
                        ],
                        "iteration": 247,
                        "passed_time": 3.223715773,
                        "remaining_time": 9.775138151
                      },
                      {
                        "learn": [
                          0.02155788209
                        ],
                        "iteration": 248,
                        "passed_time": 3.255506288,
                        "remaining_time": 9.818816153
                      },
                      {
                        "learn": [
                          0.02149515017
                        ],
                        "iteration": 249,
                        "passed_time": 3.281321245,
                        "remaining_time": 9.843963735
                      },
                      {
                        "learn": [
                          0.02145326044
                        ],
                        "iteration": 250,
                        "passed_time": 3.296421714,
                        "remaining_time": 9.836732525
                      },
                      {
                        "learn": [
                          0.02139429794
                        ],
                        "iteration": 251,
                        "passed_time": 3.311060474,
                        "remaining_time": 9.82806839
                      },
                      {
                        "learn": [
                          0.02134427481
                        ],
                        "iteration": 252,
                        "passed_time": 3.3270097,
                        "remaining_time": 9.823226268
                      },
                      {
                        "learn": [
                          0.02133491752
                        ],
                        "iteration": 253,
                        "passed_time": 3.339612332,
                        "remaining_time": 9.808467716
                      },
                      {
                        "learn": [
                          0.02125524459
                        ],
                        "iteration": 254,
                        "passed_time": 3.354084751,
                        "remaining_time": 9.799188782
                      },
                      {
                        "learn": [
                          0.02122362925
                        ],
                        "iteration": 255,
                        "passed_time": 3.368812721,
                        "remaining_time": 9.79061197
                      },
                      {
                        "learn": [
                          0.02119308984
                        ],
                        "iteration": 256,
                        "passed_time": 3.384440339,
                        "remaining_time": 9.784588216
                      },
                      {
                        "learn": [
                          0.02114241677
                        ],
                        "iteration": 257,
                        "passed_time": 3.400440335,
                        "remaining_time": 9.779560963
                      },
                      {
                        "learn": [
                          0.02108979836
                        ],
                        "iteration": 258,
                        "passed_time": 3.415643919,
                        "remaining_time": 9.772170441
                      },
                      {
                        "learn": [
                          0.02105173263
                        ],
                        "iteration": 259,
                        "passed_time": 3.431471602,
                        "remaining_time": 9.766496099
                      },
                      {
                        "learn": [
                          0.02097562057
                        ],
                        "iteration": 260,
                        "passed_time": 3.447739257,
                        "remaining_time": 9.761989697
                      },
                      {
                        "learn": [
                          0.02094687171
                        ],
                        "iteration": 261,
                        "passed_time": 3.466421613,
                        "remaining_time": 9.764195231
                      },
                      {
                        "learn": [
                          0.02091467676
                        ],
                        "iteration": 262,
                        "passed_time": 3.487373703,
                        "remaining_time": 9.772602355
                      },
                      {
                        "learn": [
                          0.02088921554
                        ],
                        "iteration": 263,
                        "passed_time": 3.504066842,
                        "remaining_time": 9.76891362
                      },
                      {
                        "learn": [
                          0.02088534021
                        ],
                        "iteration": 264,
                        "passed_time": 3.517942711,
                        "remaining_time": 9.757312804
                      },
                      {
                        "learn": [
                          0.02087507594
                        ],
                        "iteration": 265,
                        "passed_time": 3.532652533,
                        "remaining_time": 9.747996089
                      },
                      {
                        "learn": [
                          0.02084377868
                        ],
                        "iteration": 266,
                        "passed_time": 3.548606262,
                        "remaining_time": 9.742053894
                      },
                      {
                        "learn": [
                          0.0208158103
                        ],
                        "iteration": 267,
                        "passed_time": 3.564223904,
                        "remaining_time": 9.735119022
                      },
                      {
                        "learn": [
                          0.02080592151
                        ],
                        "iteration": 268,
                        "passed_time": 3.579683686,
                        "remaining_time": 9.727690613
                      },
                      {
                        "learn": [
                          0.02076058934
                        ],
                        "iteration": 269,
                        "passed_time": 3.59577648,
                        "remaining_time": 9.721914188
                      },
                      {
                        "learn": [
                          0.02074085299
                        ],
                        "iteration": 270,
                        "passed_time": 3.61109026,
                        "remaining_time": 9.713966051
                      },
                      {
                        "learn": [
                          0.02072522599
                        ],
                        "iteration": 271,
                        "passed_time": 3.626369606,
                        "remaining_time": 9.705871592
                      },
                      {
                        "learn": [
                          0.02071362063
                        ],
                        "iteration": 272,
                        "passed_time": 3.641218589,
                        "remaining_time": 9.696578441
                      },
                      {
                        "learn": [
                          0.0206882936
                        ],
                        "iteration": 273,
                        "passed_time": 3.656215324,
                        "remaining_time": 9.687636223
                      },
                      {
                        "learn": [
                          0.02068181047
                        ],
                        "iteration": 274,
                        "passed_time": 3.67170877,
                        "remaining_time": 9.679959484
                      },
                      {
                        "learn": [
                          0.02064033625
                        ],
                        "iteration": 275,
                        "passed_time": 3.692179677,
                        "remaining_time": 9.685282921
                      },
                      {
                        "learn": [
                          0.02060679173
                        ],
                        "iteration": 276,
                        "passed_time": 3.707490751,
                        "remaining_time": 9.676952394
                      },
                      {
                        "learn": [
                          0.02057001454
                        ],
                        "iteration": 277,
                        "passed_time": 3.72266744,
                        "remaining_time": 9.668222633
                      },
                      {
                        "learn": [
                          0.02055947218
                        ],
                        "iteration": 278,
                        "passed_time": 3.741735144,
                        "remaining_time": 9.669501932
                      },
                      {
                        "learn": [
                          0.02052999579
                        ],
                        "iteration": 279,
                        "passed_time": 3.762489503,
                        "remaining_time": 9.674973007
                      },
                      {
                        "learn": [
                          0.02050775794
                        ],
                        "iteration": 280,
                        "passed_time": 3.778473389,
                        "remaining_time": 9.668051126
                      },
                      {
                        "learn": [
                          0.02047214641
                        ],
                        "iteration": 281,
                        "passed_time": 3.793950023,
                        "remaining_time": 9.659773462
                      },
                      {
                        "learn": [
                          0.02045539174
                        ],
                        "iteration": 282,
                        "passed_time": 3.809380302,
                        "remaining_time": 9.651327479
                      },
                      {
                        "learn": [
                          0.02044482998
                        ],
                        "iteration": 283,
                        "passed_time": 3.823514221,
                        "remaining_time": 9.639564022
                      },
                      {
                        "learn": [
                          0.0203983863
                        ],
                        "iteration": 284,
                        "passed_time": 3.839647773,
                        "remaining_time": 9.632800553
                      },
                      {
                        "learn": [
                          0.02033499232
                        ],
                        "iteration": 285,
                        "passed_time": 3.856523083,
                        "remaining_time": 9.627823361
                      },
                      {
                        "learn": [
                          0.02032787342
                        ],
                        "iteration": 286,
                        "passed_time": 3.88745831,
                        "remaining_time": 9.657692596
                      },
                      {
                        "learn": [
                          0.02029086261
                        ],
                        "iteration": 287,
                        "passed_time": 3.914885708,
                        "remaining_time": 9.678467444
                      },
                      {
                        "learn": [
                          0.02027249523
                        ],
                        "iteration": 288,
                        "passed_time": 3.930039445,
                        "remaining_time": 9.66871296
                      },
                      {
                        "learn": [
                          0.02023397439
                        ],
                        "iteration": 289,
                        "passed_time": 3.945064271,
                        "remaining_time": 9.658605629
                      },
                      {
                        "learn": [
                          0.02011045952
                        ],
                        "iteration": 290,
                        "passed_time": 3.959835388,
                        "remaining_time": 9.647846357
                      },
                      {
                        "learn": [
                          0.02007359866
                        ],
                        "iteration": 291,
                        "passed_time": 3.975969218,
                        "remaining_time": 9.64036372
                      },
                      {
                        "learn": [
                          0.02004374961
                        ],
                        "iteration": 292,
                        "passed_time": 3.990483449,
                        "remaining_time": 9.628913987
                      },
                      {
                        "learn": [
                          0.02003208847
                        ],
                        "iteration": 293,
                        "passed_time": 4.004643946,
                        "remaining_time": 9.616593965
                      },
                      {
                        "learn": [
                          0.0199597523
                        ],
                        "iteration": 294,
                        "passed_time": 4.020289228,
                        "remaining_time": 9.60780985
                      },
                      {
                        "learn": [
                          0.01993155757
                        ],
                        "iteration": 295,
                        "passed_time": 4.033853981,
                        "remaining_time": 9.59403109
                      },
                      {
                        "learn": [
                          0.01990072958
                        ],
                        "iteration": 296,
                        "passed_time": 4.049650482,
                        "remaining_time": 9.585536327
                      },
                      {
                        "learn": [
                          0.01988875884
                        ],
                        "iteration": 297,
                        "passed_time": 4.062584144,
                        "remaining_time": 9.570248554
                      },
                      {
                        "learn": [
                          0.01988702044
                        ],
                        "iteration": 298,
                        "passed_time": 4.074891625,
                        "remaining_time": 9.553508458
                      },
                      {
                        "learn": [
                          0.01984473784
                        ],
                        "iteration": 299,
                        "passed_time": 4.095195215,
                        "remaining_time": 9.555455501
                      },
                      {
                        "learn": [
                          0.01979339019
                        ],
                        "iteration": 300,
                        "passed_time": 4.126529246,
                        "remaining_time": 9.582870242
                      },
                      {
                        "learn": [
                          0.01975896212
                        ],
                        "iteration": 301,
                        "passed_time": 4.149196698,
                        "remaining_time": 9.589865215
                      },
                      {
                        "learn": [
                          0.01974047834
                        ],
                        "iteration": 302,
                        "passed_time": 4.169175166,
                        "remaining_time": 9.590478846
                      },
                      {
                        "learn": [
                          0.01967685923
                        ],
                        "iteration": 303,
                        "passed_time": 4.189601763,
                        "remaining_time": 9.591982983
                      },
                      {
                        "learn": [
                          0.01964090981
                        ],
                        "iteration": 304,
                        "passed_time": 4.210801892,
                        "remaining_time": 9.595105951
                      },
                      {
                        "learn": [
                          0.01960937086
                        ],
                        "iteration": 305,
                        "passed_time": 4.228608887,
                        "remaining_time": 9.590374403
                      },
                      {
                        "learn": [
                          0.01959014783
                        ],
                        "iteration": 306,
                        "passed_time": 4.245370077,
                        "remaining_time": 9.583196948
                      },
                      {
                        "learn": [
                          0.01956983026
                        ],
                        "iteration": 307,
                        "passed_time": 4.261486469,
                        "remaining_time": 9.574508561
                      },
                      {
                        "learn": [
                          0.01953094524
                        ],
                        "iteration": 308,
                        "passed_time": 4.276573298,
                        "remaining_time": 9.563469738
                      },
                      {
                        "learn": [
                          0.01952177873
                        ],
                        "iteration": 309,
                        "passed_time": 4.292700235,
                        "remaining_time": 9.554719878
                      },
                      {
                        "learn": [
                          0.01951715041
                        ],
                        "iteration": 310,
                        "passed_time": 4.311508016,
                        "remaining_time": 9.551861811
                      },
                      {
                        "learn": [
                          0.01949336534
                        ],
                        "iteration": 311,
                        "passed_time": 4.329027292,
                        "remaining_time": 9.546060183
                      },
                      {
                        "learn": [
                          0.01946051845
                        ],
                        "iteration": 312,
                        "passed_time": 4.346540788,
                        "remaining_time": 9.540170996
                      },
                      {
                        "learn": [
                          0.01943585953
                        ],
                        "iteration": 313,
                        "passed_time": 4.362643825,
                        "remaining_time": 9.531126318
                      },
                      {
                        "learn": [
                          0.01937642212
                        ],
                        "iteration": 314,
                        "passed_time": 4.391040827,
                        "remaining_time": 9.548771323
                      },
                      {
                        "learn": [
                          0.01933082844
                        ],
                        "iteration": 315,
                        "passed_time": 4.424054015,
                        "remaining_time": 9.576116918
                      },
                      {
                        "learn": [
                          0.01930351443
                        ],
                        "iteration": 316,
                        "passed_time": 4.439934267,
                        "remaining_time": 9.566167522
                      },
                      {
                        "learn": [
                          0.01928209263
                        ],
                        "iteration": 317,
                        "passed_time": 4.458217,
                        "remaining_time": 9.561333314
                      },
                      {
                        "learn": [
                          0.01928067516
                        ],
                        "iteration": 318,
                        "passed_time": 4.48761114,
                        "remaining_time": 9.580135381
                      },
                      {
                        "learn": [
                          0.01926058231
                        ],
                        "iteration": 319,
                        "passed_time": 4.520642616,
                        "remaining_time": 9.606365559
                      },
                      {
                        "learn": [
                          0.01920094483
                        ],
                        "iteration": 320,
                        "passed_time": 4.53892612,
                        "remaining_time": 9.601030641
                      },
                      {
                        "learn": [
                          0.01913819957
                        ],
                        "iteration": 321,
                        "passed_time": 4.554986625,
                        "remaining_time": 9.590934571
                      },
                      {
                        "learn": [
                          0.01912768065
                        ],
                        "iteration": 322,
                        "passed_time": 4.570791186,
                        "remaining_time": 9.580265118
                      },
                      {
                        "learn": [
                          0.01911013862
                        ],
                        "iteration": 323,
                        "passed_time": 4.585662863,
                        "remaining_time": 9.567617578
                      },
                      {
                        "learn": [
                          0.01909326593
                        ],
                        "iteration": 324,
                        "passed_time": 4.599807121,
                        "remaining_time": 9.553445559
                      },
                      {
                        "learn": [
                          0.01909181409
                        ],
                        "iteration": 325,
                        "passed_time": 4.614341283,
                        "remaining_time": 9.54007983
                      },
                      {
                        "learn": [
                          0.01904346266
                        ],
                        "iteration": 326,
                        "passed_time": 4.629936588,
                        "remaining_time": 9.528890898
                      },
                      {
                        "learn": [
                          0.01903528277
                        ],
                        "iteration": 327,
                        "passed_time": 4.645857702,
                        "remaining_time": 9.518342608
                      },
                      {
                        "learn": [
                          0.01902150855
                        ],
                        "iteration": 328,
                        "passed_time": 4.660601052,
                        "remaining_time": 9.505359593
                      },
                      {
                        "learn": [
                          0.01899322773
                        ],
                        "iteration": 329,
                        "passed_time": 4.678395425,
                        "remaining_time": 9.498560408
                      },
                      {
                        "learn": [
                          0.01895314067
                        ],
                        "iteration": 330,
                        "passed_time": 4.698617063,
                        "remaining_time": 9.49660065
                      },
                      {
                        "learn": [
                          0.01888019782
                        ],
                        "iteration": 331,
                        "passed_time": 4.721544722,
                        "remaining_time": 9.499975524
                      },
                      {
                        "learn": [
                          0.01885880795
                        ],
                        "iteration": 332,
                        "passed_time": 4.758487845,
                        "remaining_time": 9.531265444
                      },
                      {
                        "learn": [
                          0.01881572952
                        ],
                        "iteration": 333,
                        "passed_time": 4.775665907,
                        "remaining_time": 9.522735012
                      },
                      {
                        "learn": [
                          0.01878939607
                        ],
                        "iteration": 334,
                        "passed_time": 4.802587593,
                        "remaining_time": 9.533494774
                      },
                      {
                        "learn": [
                          0.01867390386
                        ],
                        "iteration": 335,
                        "passed_time": 4.82767029,
                        "remaining_time": 9.54039605
                      },
                      {
                        "learn": [
                          0.01863216247
                        ],
                        "iteration": 336,
                        "passed_time": 4.844761129,
                        "remaining_time": 9.531384654
                      },
                      {
                        "learn": [
                          0.01859564073
                        ],
                        "iteration": 337,
                        "passed_time": 4.861127575,
                        "remaining_time": 9.520906671
                      },
                      {
                        "learn": [
                          0.01856718813
                        ],
                        "iteration": 338,
                        "passed_time": 5.014214574,
                        "remaining_time": 9.77697886
                      },
                      {
                        "learn": [
                          0.01855854504
                        ],
                        "iteration": 339,
                        "passed_time": 5.044179411,
                        "remaining_time": 9.791642386
                      },
                      {
                        "learn": [
                          0.01853288657
                        ],
                        "iteration": 340,
                        "passed_time": 5.061112726,
                        "remaining_time": 9.780860078
                      },
                      {
                        "learn": [
                          0.01851729191
                        ],
                        "iteration": 341,
                        "passed_time": 5.077028637,
                        "remaining_time": 9.768084337
                      },
                      {
                        "learn": [
                          0.01850402413
                        ],
                        "iteration": 342,
                        "passed_time": 5.092214718,
                        "remaining_time": 9.753892332
                      },
                      {
                        "learn": [
                          0.01848012266
                        ],
                        "iteration": 343,
                        "passed_time": 5.117798262,
                        "remaining_time": 9.759522267
                      },
                      {
                        "learn": [
                          0.01843752763
                        ],
                        "iteration": 344,
                        "passed_time": 5.136851364,
                        "remaining_time": 9.75257288
                      },
                      {
                        "learn": [
                          0.01841486943
                        ],
                        "iteration": 345,
                        "passed_time": 5.151350597,
                        "remaining_time": 9.736945927
                      },
                      {
                        "learn": [
                          0.01841349156
                        ],
                        "iteration": 346,
                        "passed_time": 5.165248544,
                        "remaining_time": 9.720193945
                      },
                      {
                        "learn": [
                          0.01839448477
                        ],
                        "iteration": 347,
                        "passed_time": 5.179639553,
                        "remaining_time": 9.704382151
                      },
                      {
                        "learn": [
                          0.01836064277
                        ],
                        "iteration": 348,
                        "passed_time": 5.195627871,
                        "remaining_time": 9.691558005
                      },
                      {
                        "learn": [
                          0.01833491599
                        ],
                        "iteration": 349,
                        "passed_time": 5.214317374,
                        "remaining_time": 9.683732267
                      },
                      {
                        "learn": [
                          0.0183123649
                        ],
                        "iteration": 350,
                        "passed_time": 5.230456618,
                        "remaining_time": 9.671129189
                      },
                      {
                        "learn": [
                          0.01829969936
                        ],
                        "iteration": 351,
                        "passed_time": 5.246162085,
                        "remaining_time": 9.657707475
                      },
                      {
                        "learn": [
                          0.01829834049
                        ],
                        "iteration": 352,
                        "passed_time": 5.260235302,
                        "remaining_time": 9.641281133
                      },
                      {
                        "learn": [
                          0.01828028555
                        ],
                        "iteration": 353,
                        "passed_time": 5.274971996,
                        "remaining_time": 9.62607884
                      },
                      {
                        "learn": [
                          0.01823884487
                        ],
                        "iteration": 354,
                        "passed_time": 5.29117771,
                        "remaining_time": 9.613548234
                      },
                      {
                        "learn": [
                          0.01823474846
                        ],
                        "iteration": 355,
                        "passed_time": 5.307770564,
                        "remaining_time": 9.601697312
                      },
                      {
                        "learn": [
                          0.01818225575
                        ],
                        "iteration": 356,
                        "passed_time": 5.323296793,
                        "remaining_time": 9.587898705
                      },
                      {
                        "learn": [
                          0.01815812591
                        ],
                        "iteration": 357,
                        "passed_time": 5.339234612,
                        "remaining_time": 9.57482855
                      },
                      {
                        "learn": [
                          0.01813413309
                        ],
                        "iteration": 358,
                        "passed_time": 5.354403065,
                        "remaining_time": 9.560368704
                      },
                      {
                        "learn": [
                          0.01812764754
                        ],
                        "iteration": 359,
                        "passed_time": 5.368811451,
                        "remaining_time": 9.544553691
                      },
                      {
                        "learn": [
                          0.01810784895
                        ],
                        "iteration": 360,
                        "passed_time": 5.38357316,
                        "remaining_time": 9.529371881
                      },
                      {
                        "learn": [
                          0.01807783337
                        ],
                        "iteration": 361,
                        "passed_time": 5.401088175,
                        "remaining_time": 9.519044904
                      },
                      {
                        "learn": [
                          0.01806921897
                        ],
                        "iteration": 362,
                        "passed_time": 5.416992274,
                        "remaining_time": 9.505851456
                      },
                      {
                        "learn": [
                          0.01805295498
                        ],
                        "iteration": 363,
                        "passed_time": 5.43487122,
                        "remaining_time": 9.496093671
                      },
                      {
                        "learn": [
                          0.01801377491
                        ],
                        "iteration": 364,
                        "passed_time": 5.450503256,
                        "remaining_time": 9.482382378
                      },
                      {
                        "learn": [
                          0.01799438939
                        ],
                        "iteration": 365,
                        "passed_time": 5.464998983,
                        "remaining_time": 9.466692228
                      },
                      {
                        "learn": [
                          0.01799322251
                        ],
                        "iteration": 366,
                        "passed_time": 5.478484502,
                        "remaining_time": 9.449266184
                      },
                      {
                        "learn": [
                          0.01798235074
                        ],
                        "iteration": 367,
                        "passed_time": 5.49330639,
                        "remaining_time": 9.434156627
                      },
                      {
                        "learn": [
                          0.01794566975
                        ],
                        "iteration": 368,
                        "passed_time": 5.5092527,
                        "remaining_time": 9.420971419
                      },
                      {
                        "learn": [
                          0.01794227742
                        ],
                        "iteration": 369,
                        "passed_time": 5.523708091,
                        "remaining_time": 9.405232695
                      },
                      {
                        "learn": [
                          0.01792440073
                        ],
                        "iteration": 370,
                        "passed_time": 5.540011259,
                        "remaining_time": 9.392633643
                      },
                      {
                        "learn": [
                          0.01789671204
                        ],
                        "iteration": 371,
                        "passed_time": 5.561481132,
                        "remaining_time": 9.388736965
                      },
                      {
                        "learn": [
                          0.01788163594
                        ],
                        "iteration": 372,
                        "passed_time": 5.576212874,
                        "remaining_time": 9.373419495
                      },
                      {
                        "learn": [
                          0.01785027281
                        ],
                        "iteration": 373,
                        "passed_time": 5.591513341,
                        "remaining_time": 9.359057089
                      },
                      {
                        "learn": [
                          0.01784366237
                        ],
                        "iteration": 374,
                        "passed_time": 5.609177102,
                        "remaining_time": 9.348628504
                      },
                      {
                        "learn": [
                          0.01783132664
                        ],
                        "iteration": 375,
                        "passed_time": 5.624241931,
                        "remaining_time": 9.333848312
                      },
                      {
                        "learn": [
                          0.01781900183
                        ],
                        "iteration": 376,
                        "passed_time": 5.642096769,
                        "remaining_time": 9.323677153
                      },
                      {
                        "learn": [
                          0.01779094291
                        ],
                        "iteration": 377,
                        "passed_time": 5.656612659,
                        "remaining_time": 9.307971096
                      },
                      {
                        "learn": [
                          0.01774662969
                        ],
                        "iteration": 378,
                        "passed_time": 5.671138803,
                        "remaining_time": 9.292288117
                      },
                      {
                        "learn": [
                          0.01772740019
                        ],
                        "iteration": 379,
                        "passed_time": 5.693552705,
                        "remaining_time": 9.289480729
                      },
                      {
                        "learn": [
                          0.01768499392
                        ],
                        "iteration": 380,
                        "passed_time": 5.708664991,
                        "remaining_time": 9.274707689
                      },
                      {
                        "learn": [
                          0.01766558092
                        ],
                        "iteration": 381,
                        "passed_time": 5.73572498,
                        "remaining_time": 9.279261879
                      },
                      {
                        "learn": [
                          0.01760101076
                        ],
                        "iteration": 382,
                        "passed_time": 5.754945241,
                        "remaining_time": 9.271021446
                      },
                      {
                        "learn": [
                          0.01756642263
                        ],
                        "iteration": 383,
                        "passed_time": 5.771348313,
                        "remaining_time": 9.258204585
                      },
                      {
                        "learn": [
                          0.01755883568
                        ],
                        "iteration": 384,
                        "passed_time": 5.786395733,
                        "remaining_time": 9.243203573
                      },
                      {
                        "learn": [
                          0.01749731227
                        ],
                        "iteration": 385,
                        "passed_time": 5.802095634,
                        "remaining_time": 9.229240205
                      },
                      {
                        "learn": [
                          0.01749282784
                        ],
                        "iteration": 386,
                        "passed_time": 5.816882457,
                        "remaining_time": 9.213821566
                      },
                      {
                        "learn": [
                          0.01744632717
                        ],
                        "iteration": 387,
                        "passed_time": 5.831706679,
                        "remaining_time": 9.198465175
                      },
                      {
                        "learn": [
                          0.0173914619
                        ],
                        "iteration": 388,
                        "passed_time": 5.849188262,
                        "remaining_time": 9.187285419
                      },
                      {
                        "learn": [
                          0.01737903725
                        ],
                        "iteration": 389,
                        "passed_time": 5.864372172,
                        "remaining_time": 9.172479551
                      },
                      {
                        "learn": [
                          0.01731663514
                        ],
                        "iteration": 390,
                        "passed_time": 5.89002833,
                        "remaining_time": 9.173982744
                      },
                      {
                        "learn": [
                          0.01730205781
                        ],
                        "iteration": 391,
                        "passed_time": 5.910917087,
                        "remaining_time": 9.167953032
                      },
                      {
                        "learn": [
                          0.01728283235
                        ],
                        "iteration": 392,
                        "passed_time": 5.93313634,
                        "remaining_time": 9.163902693
                      },
                      {
                        "learn": [
                          0.01725884963
                        ],
                        "iteration": 393,
                        "passed_time": 5.95949393,
                        "remaining_time": 9.166125181
                      },
                      {
                        "learn": [
                          0.01725277837
                        ],
                        "iteration": 394,
                        "passed_time": 5.980427689,
                        "remaining_time": 9.159895574
                      },
                      {
                        "learn": [
                          0.01721795986
                        ],
                        "iteration": 395,
                        "passed_time": 5.999487794,
                        "remaining_time": 9.150733909
                      },
                      {
                        "learn": [
                          0.01719781407
                        ],
                        "iteration": 396,
                        "passed_time": 6.036664962,
                        "remaining_time": 9.169040233
                      },
                      {
                        "learn": [
                          0.01718066127
                        ],
                        "iteration": 397,
                        "passed_time": 6.067816119,
                        "remaining_time": 9.177953025
                      },
                      {
                        "learn": [
                          0.01716708268
                        ],
                        "iteration": 398,
                        "passed_time": 6.105216962,
                        "remaining_time": 9.196078682
                      },
                      {
                        "learn": [
                          0.01716043303
                        ],
                        "iteration": 399,
                        "passed_time": 6.136243729,
                        "remaining_time": 9.204365594
                      },
                      {
                        "learn": [
                          0.01714387438
                        ],
                        "iteration": 400,
                        "passed_time": 6.163867225,
                        "remaining_time": 9.207372738
                      },
                      {
                        "learn": [
                          0.01713422851
                        ],
                        "iteration": 401,
                        "passed_time": 6.179142491,
                        "remaining_time": 9.19185873
                      },
                      {
                        "learn": [
                          0.01708464432
                        ],
                        "iteration": 402,
                        "passed_time": 6.196363103,
                        "remaining_time": 9.179227724
                      },
                      {
                        "learn": [
                          0.01706611931
                        ],
                        "iteration": 403,
                        "passed_time": 6.217339598,
                        "remaining_time": 9.172114853
                      },
                      {
                        "learn": [
                          0.01703526464
                        ],
                        "iteration": 404,
                        "passed_time": 6.233363456,
                        "remaining_time": 9.157657423
                      },
                      {
                        "learn": [
                          0.01702200657
                        ],
                        "iteration": 405,
                        "passed_time": 6.249657491,
                        "remaining_time": 9.14358756
                      },
                      {
                        "learn": [
                          0.01701391115
                        ],
                        "iteration": 406,
                        "passed_time": 6.265624021,
                        "remaining_time": 9.129029593
                      },
                      {
                        "learn": [
                          0.01698147894
                        ],
                        "iteration": 407,
                        "passed_time": 6.284020789,
                        "remaining_time": 9.117990949
                      },
                      {
                        "learn": [
                          0.01696883968
                        ],
                        "iteration": 408,
                        "passed_time": 6.299115657,
                        "remaining_time": 9.102145118
                      },
                      {
                        "learn": [
                          0.01694965262
                        ],
                        "iteration": 409,
                        "passed_time": 6.314200356,
                        "remaining_time": 9.086288317
                      },
                      {
                        "learn": [
                          0.01690454396
                        ],
                        "iteration": 410,
                        "passed_time": 6.339283822,
                        "remaining_time": 9.084764406
                      },
                      {
                        "learn": [
                          0.01689269003
                        ],
                        "iteration": 411,
                        "passed_time": 6.359469498,
                        "remaining_time": 9.07613608
                      },
                      {
                        "learn": [
                          0.0168599757
                        ],
                        "iteration": 412,
                        "passed_time": 6.396982002,
                        "remaining_time": 9.092078536
                      },
                      {
                        "learn": [
                          0.01685004811
                        ],
                        "iteration": 413,
                        "passed_time": 6.415891708,
                        "remaining_time": 9.081431258
                      },
                      {
                        "learn": [
                          0.01684407183
                        ],
                        "iteration": 414,
                        "passed_time": 6.435010413,
                        "remaining_time": 9.071038774
                      },
                      {
                        "learn": [
                          0.01680513104
                        ],
                        "iteration": 415,
                        "passed_time": 6.451402278,
                        "remaining_time": 9.056776274
                      },
                      {
                        "learn": [
                          0.01676999686
                        ],
                        "iteration": 416,
                        "passed_time": 6.466857116,
                        "remaining_time": 9.041193522
                      },
                      {
                        "learn": [
                          0.01672585623
                        ],
                        "iteration": 417,
                        "passed_time": 6.485536375,
                        "remaining_time": 9.030100885
                      },
                      {
                        "learn": [
                          0.01672359159
                        ],
                        "iteration": 418,
                        "passed_time": 6.500076079,
                        "remaining_time": 9.013231986
                      },
                      {
                        "learn": [
                          0.01671327719
                        ],
                        "iteration": 419,
                        "passed_time": 6.515135591,
                        "remaining_time": 8.997092006
                      },
                      {
                        "learn": [
                          0.01669657991
                        ],
                        "iteration": 420,
                        "passed_time": 6.542913694,
                        "remaining_time": 8.998449
                      },
                      {
                        "learn": [
                          0.01666449328
                        ],
                        "iteration": 421,
                        "passed_time": 6.568994701,
                        "remaining_time": 8.997343453
                      },
                      {
                        "learn": [
                          0.01662431003
                        ],
                        "iteration": 422,
                        "passed_time": 6.593784469,
                        "remaining_time": 8.994358484
                      },
                      {
                        "learn": [
                          0.01660508093
                        ],
                        "iteration": 423,
                        "passed_time": 6.624403928,
                        "remaining_time": 8.999190242
                      },
                      {
                        "learn": [
                          0.01659584409
                        ],
                        "iteration": 424,
                        "passed_time": 6.638429917,
                        "remaining_time": 8.981405181
                      },
                      {
                        "learn": [
                          0.01656563208
                        ],
                        "iteration": 425,
                        "passed_time": 6.658615985,
                        "remaining_time": 8.971937971
                      },
                      {
                        "learn": [
                          0.01656031502
                        ],
                        "iteration": 426,
                        "passed_time": 6.672927397,
                        "remaining_time": 8.954537233
                      },
                      {
                        "learn": [
                          0.01654199939
                        ],
                        "iteration": 427,
                        "passed_time": 6.688532445,
                        "remaining_time": 8.938879809
                      },
                      {
                        "learn": [
                          0.01652411663
                        ],
                        "iteration": 428,
                        "passed_time": 6.710238078,
                        "remaining_time": 8.931342523
                      },
                      {
                        "learn": [
                          0.01649579741
                        ],
                        "iteration": 429,
                        "passed_time": 6.725301739,
                        "remaining_time": 8.914934863
                      },
                      {
                        "learn": [
                          0.01648297545
                        ],
                        "iteration": 430,
                        "passed_time": 6.739415539,
                        "remaining_time": 8.897279447
                      },
                      {
                        "learn": [
                          0.01644956634
                        ],
                        "iteration": 431,
                        "passed_time": 6.753541459,
                        "remaining_time": 8.879656362
                      },
                      {
                        "learn": [
                          0.01644081088
                        ],
                        "iteration": 432,
                        "passed_time": 6.767761516,
                        "remaining_time": 8.862172701
                      },
                      {
                        "learn": [
                          0.01642607915
                        ],
                        "iteration": 433,
                        "passed_time": 6.782994397,
                        "remaining_time": 8.84602495
                      },
                      {
                        "learn": [
                          0.0163788263
                        ],
                        "iteration": 434,
                        "passed_time": 6.798084031,
                        "remaining_time": 8.82969535
                      },
                      {
                        "learn": [
                          0.01634376325
                        ],
                        "iteration": 435,
                        "passed_time": 6.821243292,
                        "remaining_time": 8.823810129
                      },
                      {
                        "learn": [
                          0.01634054958
                        ],
                        "iteration": 436,
                        "passed_time": 6.846433002,
                        "remaining_time": 8.820461739
                      },
                      {
                        "learn": [
                          0.01630957123
                        ],
                        "iteration": 437,
                        "passed_time": 6.873943808,
                        "remaining_time": 8.819991827
                      },
                      {
                        "learn": [
                          0.01628658887
                        ],
                        "iteration": 438,
                        "passed_time": 6.893946751,
                        "remaining_time": 8.809804391
                      },
                      {
                        "learn": [
                          0.01625243767
                        ],
                        "iteration": 439,
                        "passed_time": 6.922446875,
                        "remaining_time": 8.810386932
                      },
                      {
                        "learn": [
                          0.01623157648
                        ],
                        "iteration": 440,
                        "passed_time": 6.937536614,
                        "remaining_time": 8.793838928
                      },
                      {
                        "learn": [
                          0.01620586668
                        ],
                        "iteration": 441,
                        "passed_time": 6.955377806,
                        "remaining_time": 8.780771077
                      },
                      {
                        "learn": [
                          0.01616921195
                        ],
                        "iteration": 442,
                        "passed_time": 6.971163082,
                        "remaining_time": 8.765096696
                      },
                      {
                        "learn": [
                          0.01613469618
                        ],
                        "iteration": 443,
                        "passed_time": 6.992067701,
                        "remaining_time": 8.755832526
                      },
                      {
                        "learn": [
                          0.01610210675
                        ],
                        "iteration": 444,
                        "passed_time": 7.015041593,
                        "remaining_time": 8.749096818
                      },
                      {
                        "learn": [
                          0.01605822399
                        ],
                        "iteration": 445,
                        "passed_time": 7.059119461,
                        "remaining_time": 8.768502648
                      },
                      {
                        "learn": [
                          0.0160306897
                        ],
                        "iteration": 446,
                        "passed_time": 7.07843553,
                        "remaining_time": 8.756990712
                      },
                      {
                        "learn": [
                          0.0160121651
                        ],
                        "iteration": 447,
                        "passed_time": 7.098675796,
                        "remaining_time": 8.746582678
                      },
                      {
                        "learn": [
                          0.01599453334
                        ],
                        "iteration": 448,
                        "passed_time": 7.122810757,
                        "remaining_time": 8.740910305
                      },
                      {
                        "learn": [
                          0.01597258367
                        ],
                        "iteration": 449,
                        "passed_time": 7.141083408,
                        "remaining_time": 8.727990832
                      },
                      {
                        "learn": [
                          0.01594091861
                        ],
                        "iteration": 450,
                        "passed_time": 7.156028387,
                        "remaining_time": 8.710996861
                      },
                      {
                        "learn": [
                          0.01592295623
                        ],
                        "iteration": 451,
                        "passed_time": 7.175220639,
                        "remaining_time": 8.699161306
                      },
                      {
                        "learn": [
                          0.0158984028
                        ],
                        "iteration": 452,
                        "passed_time": 7.192530416,
                        "remaining_time": 8.685020171
                      },
                      {
                        "learn": [
                          0.01586877726
                        ],
                        "iteration": 453,
                        "passed_time": 7.20896766,
                        "remaining_time": 8.669815733
                      },
                      {
                        "learn": [
                          0.01585265433
                        ],
                        "iteration": 454,
                        "passed_time": 7.225669323,
                        "remaining_time": 8.654922596
                      },
                      {
                        "learn": [
                          0.01583926651
                        ],
                        "iteration": 455,
                        "passed_time": 7.26136765,
                        "remaining_time": 8.662684214
                      },
                      {
                        "learn": [
                          0.0158349389
                        ],
                        "iteration": 456,
                        "passed_time": 7.287713596,
                        "remaining_time": 8.659143287
                      },
                      {
                        "learn": [
                          0.01582130291
                        ],
                        "iteration": 457,
                        "passed_time": 7.304048715,
                        "remaining_time": 8.643655903
                      },
                      {
                        "learn": [
                          0.01579658701
                        ],
                        "iteration": 458,
                        "passed_time": 7.323275729,
                        "remaining_time": 8.631573353
                      },
                      {
                        "learn": [
                          0.01578323112
                        ],
                        "iteration": 459,
                        "passed_time": 7.349044198,
                        "remaining_time": 8.627138841
                      },
                      {
                        "learn": [
                          0.01576535483
                        ],
                        "iteration": 460,
                        "passed_time": 7.36813691,
                        "remaining_time": 8.614806496
                      },
                      {
                        "learn": [
                          0.01574018462
                        ],
                        "iteration": 461,
                        "passed_time": 7.413178599,
                        "remaining_time": 8.632662525
                      },
                      {
                        "learn": [
                          0.01569751643
                        ],
                        "iteration": 462,
                        "passed_time": 7.444179774,
                        "remaining_time": 8.633962286
                      },
                      {
                        "learn": [
                          0.01567179532
                        ],
                        "iteration": 463,
                        "passed_time": 7.467988695,
                        "remaining_time": 8.626814528
                      },
                      {
                        "learn": [
                          0.01565371087
                        ],
                        "iteration": 464,
                        "passed_time": 7.48267424,
                        "remaining_time": 8.60909832
                      },
                      {
                        "learn": [
                          0.0156287379
                        ],
                        "iteration": 465,
                        "passed_time": 7.497372464,
                        "remaining_time": 8.591409647
                      },
                      {
                        "learn": [
                          0.01560454582
                        ],
                        "iteration": 466,
                        "passed_time": 7.520795647,
                        "remaining_time": 8.58369182
                      },
                      {
                        "learn": [
                          0.01555736976
                        ],
                        "iteration": 467,
                        "passed_time": 7.544624493,
                        "remaining_time": 8.576368014
                      },
                      {
                        "learn": [
                          0.01553562259
                        ],
                        "iteration": 468,
                        "passed_time": 7.559875038,
                        "remaining_time": 8.559261504
                      },
                      {
                        "learn": [
                          0.01550528487
                        ],
                        "iteration": 469,
                        "passed_time": 7.584331487,
                        "remaining_time": 8.552544018
                      },
                      {
                        "learn": [
                          0.01550458321
                        ],
                        "iteration": 470,
                        "passed_time": 7.600284847,
                        "remaining_time": 8.536201028
                      },
                      {
                        "learn": [
                          0.01548891842
                        ],
                        "iteration": 471,
                        "passed_time": 7.655969232,
                        "remaining_time": 8.564304565
                      },
                      {
                        "learn": [
                          0.01547674457
                        ],
                        "iteration": 472,
                        "passed_time": 7.681260101,
                        "remaining_time": 8.55819043
                      },
                      {
                        "learn": [
                          0.01547127514
                        ],
                        "iteration": 473,
                        "passed_time": 7.704929718,
                        "remaining_time": 8.550196269
                      },
                      {
                        "learn": [
                          0.01542845417
                        ],
                        "iteration": 474,
                        "passed_time": 7.723075271,
                        "remaining_time": 8.536030563
                      },
                      {
                        "learn": [
                          0.01541502816
                        ],
                        "iteration": 475,
                        "passed_time": 7.747653585,
                        "remaining_time": 8.528929577
                      },
                      {
                        "learn": [
                          0.01538505805
                        ],
                        "iteration": 476,
                        "passed_time": 7.765439572,
                        "remaining_time": 8.514307958
                      },
                      {
                        "learn": [
                          0.01535968473
                        ],
                        "iteration": 477,
                        "passed_time": 7.785954044,
                        "remaining_time": 8.502652743
                      },
                      {
                        "learn": [
                          0.01533317485
                        ],
                        "iteration": 478,
                        "passed_time": 7.803100829,
                        "remaining_time": 8.487297562
                      },
                      {
                        "learn": [
                          0.01533242711
                        ],
                        "iteration": 479,
                        "passed_time": 7.823553411,
                        "remaining_time": 8.475516196
                      },
                      {
                        "learn": [
                          0.01531631953
                        ],
                        "iteration": 480,
                        "passed_time": 7.846907643,
                        "remaining_time": 8.46682966
                      },
                      {
                        "learn": [
                          0.0153006032
                        ],
                        "iteration": 481,
                        "passed_time": 7.877666546,
                        "remaining_time": 8.466039981
                      },
                      {
                        "learn": [
                          0.01527643578
                        ],
                        "iteration": 482,
                        "passed_time": 7.89520002,
                        "remaining_time": 8.450969794
                      },
                      {
                        "learn": [
                          0.01526133401
                        ],
                        "iteration": 483,
                        "passed_time": 7.911206746,
                        "remaining_time": 8.434261738
                      },
                      {
                        "learn": [
                          0.01525781579
                        ],
                        "iteration": 484,
                        "passed_time": 7.925093026,
                        "remaining_time": 8.415304966
                      },
                      {
                        "learn": [
                          0.01522050851
                        ],
                        "iteration": 485,
                        "passed_time": 7.943938553,
                        "remaining_time": 8.401614026
                      },
                      {
                        "learn": [
                          0.01521426648
                        ],
                        "iteration": 486,
                        "passed_time": 7.963727634,
                        "remaining_time": 8.388895845
                      },
                      {
                        "learn": [
                          0.01520437526
                        ],
                        "iteration": 487,
                        "passed_time": 7.996748189,
                        "remaining_time": 8.390030887
                      },
                      {
                        "learn": [
                          0.01518671056
                        ],
                        "iteration": 488,
                        "passed_time": 8.042617869,
                        "remaining_time": 8.404453438
                      },
                      {
                        "learn": [
                          0.01516461923
                        ],
                        "iteration": 489,
                        "passed_time": 8.066832263,
                        "remaining_time": 8.396090723
                      },
                      {
                        "learn": [
                          0.01513827001
                        ],
                        "iteration": 490,
                        "passed_time": 8.085843491,
                        "remaining_time": 8.382269525
                      },
                      {
                        "learn": [
                          0.01511597153
                        ],
                        "iteration": 491,
                        "passed_time": 8.110087351,
                        "remaining_time": 8.373830029
                      },
                      {
                        "learn": [
                          0.01509560607
                        ],
                        "iteration": 492,
                        "passed_time": 8.14174297,
                        "remaining_time": 8.372948652
                      },
                      {
                        "learn": [
                          0.0150734921
                        ],
                        "iteration": 493,
                        "passed_time": 8.160578807,
                        "remaining_time": 8.35881149
                      },
                      {
                        "learn": [
                          0.01506047715
                        ],
                        "iteration": 494,
                        "passed_time": 8.180511993,
                        "remaining_time": 8.345774862
                      },
                      {
                        "learn": [
                          0.01502281762
                        ],
                        "iteration": 495,
                        "passed_time": 8.201057308,
                        "remaining_time": 8.333332426
                      },
                      {
                        "learn": [
                          0.01501339587
                        ],
                        "iteration": 496,
                        "passed_time": 8.216060989,
                        "remaining_time": 8.315248848
                      },
                      {
                        "learn": [
                          0.01499310983
                        ],
                        "iteration": 497,
                        "passed_time": 8.23147657,
                        "remaining_time": 8.297592847
                      },
                      {
                        "learn": [
                          0.01498167847
                        ],
                        "iteration": 498,
                        "passed_time": 8.260761327,
                        "remaining_time": 8.293870591
                      },
                      {
                        "learn": [
                          0.0149645578
                        ],
                        "iteration": 499,
                        "passed_time": 8.279081559,
                        "remaining_time": 8.279081559
                      },
                      {
                        "learn": [
                          0.01496395799
                        ],
                        "iteration": 500,
                        "passed_time": 8.32561971,
                        "remaining_time": 8.292383703
                      },
                      {
                        "learn": [
                          0.01494271726
                        ],
                        "iteration": 501,
                        "passed_time": 8.362063175,
                        "remaining_time": 8.295433189
                      },
                      {
                        "learn": [
                          0.01492652946
                        ],
                        "iteration": 502,
                        "passed_time": 8.378331208,
                        "remaining_time": 8.278390876
                      },
                      {
                        "learn": [
                          0.01489155917
                        ],
                        "iteration": 503,
                        "passed_time": 8.393944056,
                        "remaining_time": 8.260706849
                      },
                      {
                        "learn": [
                          0.01486682629
                        ],
                        "iteration": 504,
                        "passed_time": 8.408748301,
                        "remaining_time": 8.242238434
                      },
                      {
                        "learn": [
                          0.01484761801
                        ],
                        "iteration": 505,
                        "passed_time": 8.432308999,
                        "remaining_time": 8.232333291
                      },
                      {
                        "learn": [
                          0.01483033324
                        ],
                        "iteration": 506,
                        "passed_time": 8.488025794,
                        "remaining_time": 8.253642438
                      },
                      {
                        "learn": [
                          0.01482979123
                        ],
                        "iteration": 507,
                        "passed_time": 8.511217517,
                        "remaining_time": 8.243147673
                      },
                      {
                        "learn": [
                          0.01482410597
                        ],
                        "iteration": 508,
                        "passed_time": 8.528164633,
                        "remaining_time": 8.226579243
                      },
                      {
                        "learn": [
                          0.01481502413
                        ],
                        "iteration": 509,
                        "passed_time": 8.543256105,
                        "remaining_time": 8.208226454
                      },
                      {
                        "learn": [
                          0.0148062224
                        ],
                        "iteration": 510,
                        "passed_time": 8.557568911,
                        "remaining_time": 8.189141287
                      },
                      {
                        "learn": [
                          0.01478575084
                        ],
                        "iteration": 511,
                        "passed_time": 8.577933936,
                        "remaining_time": 8.175843283
                      },
                      {
                        "learn": [
                          0.01477289291
                        ],
                        "iteration": 512,
                        "passed_time": 8.594070695,
                        "remaining_time": 8.158503759
                      },
                      {
                        "learn": [
                          0.01474822207
                        ],
                        "iteration": 513,
                        "passed_time": 8.610475257,
                        "remaining_time": 8.141422131
                      },
                      {
                        "learn": [
                          0.0147174644
                        ],
                        "iteration": 514,
                        "passed_time": 8.626743765,
                        "remaining_time": 8.124215002
                      },
                      {
                        "learn": [
                          0.01470763341
                        ],
                        "iteration": 515,
                        "passed_time": 8.641887424,
                        "remaining_time": 8.105956421
                      },
                      {
                        "learn": [
                          0.01469049496
                        ],
                        "iteration": 516,
                        "passed_time": 8.657295166,
                        "remaining_time": 8.087956606
                      },
                      {
                        "learn": [
                          0.0146838734
                        ],
                        "iteration": 517,
                        "passed_time": 8.67698345,
                        "remaining_time": 8.073949851
                      },
                      {
                        "learn": [
                          0.014683313
                        ],
                        "iteration": 518,
                        "passed_time": 8.694793283,
                        "remaining_time": 8.058180287
                      },
                      {
                        "learn": [
                          0.01465986037
                        ],
                        "iteration": 519,
                        "passed_time": 8.718466306,
                        "remaining_time": 8.047815052
                      },
                      {
                        "learn": [
                          0.01465580943
                        ],
                        "iteration": 520,
                        "passed_time": 8.73276777,
                        "remaining_time": 8.028782652
                      },
                      {
                        "learn": [
                          0.01463859014
                        ],
                        "iteration": 521,
                        "passed_time": 8.749454467,
                        "remaining_time": 8.011952558
                      },
                      {
                        "learn": [
                          0.01463345194
                        ],
                        "iteration": 522,
                        "passed_time": 8.786120284,
                        "remaining_time": 8.013344886
                      },
                      {
                        "learn": [
                          0.01460621372
                        ],
                        "iteration": 523,
                        "passed_time": 8.815260751,
                        "remaining_time": 8.00775595
                      },
                      {
                        "learn": [
                          0.01459186475
                        ],
                        "iteration": 524,
                        "passed_time": 8.842259999,
                        "remaining_time": 8.000139999
                      },
                      {
                        "learn": [
                          0.0145867029
                        ],
                        "iteration": 525,
                        "passed_time": 8.859424949,
                        "remaining_time": 7.983588262
                      },
                      {
                        "learn": [
                          0.01456074594
                        ],
                        "iteration": 526,
                        "passed_time": 8.87966971,
                        "remaining_time": 7.96979843
                      },
                      {
                        "learn": [
                          0.01453333897
                        ],
                        "iteration": 527,
                        "passed_time": 8.898466305,
                        "remaining_time": 7.954689575
                      },
                      {
                        "learn": [
                          0.0145180242
                        ],
                        "iteration": 528,
                        "passed_time": 8.913340247,
                        "remaining_time": 7.936074209
                      },
                      {
                        "learn": [
                          0.01451504011
                        ],
                        "iteration": 529,
                        "passed_time": 8.933293705,
                        "remaining_time": 7.921977437
                      },
                      {
                        "learn": [
                          0.01450442682
                        ],
                        "iteration": 530,
                        "passed_time": 8.955622487,
                        "remaining_time": 7.909956585
                      },
                      {
                        "learn": [
                          0.01450382499
                        ],
                        "iteration": 531,
                        "passed_time": 8.970754769,
                        "remaining_time": 7.891566226
                      },
                      {
                        "learn": [
                          0.01448514235
                        ],
                        "iteration": 532,
                        "passed_time": 9.000849568,
                        "remaining_time": 7.886297839
                      },
                      {
                        "learn": [
                          0.01448154247
                        ],
                        "iteration": 533,
                        "passed_time": 9.017748264,
                        "remaining_time": 7.86942077
                      },
                      {
                        "learn": [
                          0.01447528508
                        ],
                        "iteration": 534,
                        "passed_time": 9.037591666,
                        "remaining_time": 7.855103037
                      },
                      {
                        "learn": [
                          0.01445531168
                        ],
                        "iteration": 535,
                        "passed_time": 9.082142508,
                        "remaining_time": 7.862153216
                      },
                      {
                        "learn": [
                          0.01443199627
                        ],
                        "iteration": 536,
                        "passed_time": 9.103553257,
                        "remaining_time": 7.849059884
                      },
                      {
                        "learn": [
                          0.01440567312
                        ],
                        "iteration": 537,
                        "passed_time": 9.126105968,
                        "remaining_time": 7.836916278
                      },
                      {
                        "learn": [
                          0.01436922252
                        ],
                        "iteration": 538,
                        "passed_time": 9.148367835,
                        "remaining_time": 7.824485291
                      },
                      {
                        "learn": [
                          0.01435414844
                        ],
                        "iteration": 539,
                        "passed_time": 9.163972451,
                        "remaining_time": 7.806346902
                      },
                      {
                        "learn": [
                          0.01429603978
                        ],
                        "iteration": 540,
                        "passed_time": 9.181125624,
                        "remaining_time": 7.789531721
                      },
                      {
                        "learn": [
                          0.01428765396
                        ],
                        "iteration": 541,
                        "passed_time": 9.19795492,
                        "remaining_time": 7.772441611
                      },
                      {
                        "learn": [
                          0.01427504561
                        ],
                        "iteration": 542,
                        "passed_time": 9.215525596,
                        "remaining_time": 7.755976422
                      },
                      {
                        "learn": [
                          0.01425194826
                        ],
                        "iteration": 543,
                        "passed_time": 9.237930441,
                        "remaining_time": 7.74355934
                      },
                      {
                        "learn": [
                          0.01423229477
                        ],
                        "iteration": 544,
                        "passed_time": 9.254414274,
                        "remaining_time": 7.726162376
                      },
                      {
                        "learn": [
                          0.0142304529
                        ],
                        "iteration": 545,
                        "passed_time": 9.310699759,
                        "remaining_time": 7.741863902
                      },
                      {
                        "learn": [
                          0.01422593674
                        ],
                        "iteration": 546,
                        "passed_time": 9.337930843,
                        "remaining_time": 7.733240716
                      },
                      {
                        "learn": [
                          0.01419715534
                        ],
                        "iteration": 547,
                        "passed_time": 9.353757928,
                        "remaining_time": 7.7151434
                      },
                      {
                        "learn": [
                          0.01418091478
                        ],
                        "iteration": 548,
                        "passed_time": 9.376598864,
                        "remaining_time": 7.702816188
                      },
                      {
                        "learn": [
                          0.0141768984
                        ],
                        "iteration": 549,
                        "passed_time": 9.399252704,
                        "remaining_time": 7.690297667
                      },
                      {
                        "learn": [
                          0.0141551868
                        ],
                        "iteration": 550,
                        "passed_time": 9.41854554,
                        "remaining_time": 7.675003534
                      },
                      {
                        "learn": [
                          0.01415102571
                        ],
                        "iteration": 551,
                        "passed_time": 9.433507583,
                        "remaining_time": 7.656180067
                      },
                      {
                        "learn": [
                          0.01413082839
                        ],
                        "iteration": 552,
                        "passed_time": 9.449107397,
                        "remaining_time": 7.637886088
                      },
                      {
                        "learn": [
                          0.01412754216
                        ],
                        "iteration": 553,
                        "passed_time": 9.464356551,
                        "remaining_time": 7.619319534
                      },
                      {
                        "learn": [
                          0.01411983901
                        ],
                        "iteration": 554,
                        "passed_time": 9.479223069,
                        "remaining_time": 7.600458137
                      },
                      {
                        "learn": [
                          0.01408502696
                        ],
                        "iteration": 555,
                        "passed_time": 9.499486085,
                        "remaining_time": 7.585920542
                      },
                      {
                        "learn": [
                          0.01407118686
                        ],
                        "iteration": 556,
                        "passed_time": 9.514462636,
                        "remaining_time": 7.567157895
                      },
                      {
                        "learn": [
                          0.01406389597
                        ],
                        "iteration": 557,
                        "passed_time": 9.530015086,
                        "remaining_time": 7.548864996
                      },
                      {
                        "learn": [
                          0.01404462383
                        ],
                        "iteration": 558,
                        "passed_time": 9.548006622,
                        "remaining_time": 7.532506119
                      },
                      {
                        "learn": [
                          0.01403027466
                        ],
                        "iteration": 559,
                        "passed_time": 9.56279511,
                        "remaining_time": 7.513624729
                      },
                      {
                        "learn": [
                          0.01402749831
                        ],
                        "iteration": 560,
                        "passed_time": 9.577453145,
                        "remaining_time": 7.494655848
                      },
                      {
                        "learn": [
                          0.01399827514
                        ],
                        "iteration": 561,
                        "passed_time": 9.594299123,
                        "remaining_time": 7.477407501
                      },
                      {
                        "learn": [
                          0.01399486382
                        ],
                        "iteration": 562,
                        "passed_time": 9.609597652,
                        "remaining_time": 7.458959456
                      },
                      {
                        "learn": [
                          0.01397957108
                        ],
                        "iteration": 563,
                        "passed_time": 9.631620747,
                        "remaining_time": 7.445721003
                      },
                      {
                        "learn": [
                          0.01395549782
                        ],
                        "iteration": 564,
                        "passed_time": 9.669119627,
                        "remaining_time": 7.444366439
                      },
                      {
                        "learn": [
                          0.01393006044
                        ],
                        "iteration": 565,
                        "passed_time": 9.688388225,
                        "remaining_time": 7.428905459
                      },
                      {
                        "learn": [
                          0.01391767723
                        ],
                        "iteration": 566,
                        "passed_time": 9.705553267,
                        "remaining_time": 7.411824629
                      },
                      {
                        "learn": [
                          0.01390465944
                        ],
                        "iteration": 567,
                        "passed_time": 9.720939232,
                        "remaining_time": 7.393390402
                      },
                      {
                        "learn": [
                          0.01387299681
                        ],
                        "iteration": 568,
                        "passed_time": 9.746933685,
                        "remaining_time": 7.383002493
                      },
                      {
                        "learn": [
                          0.01385731161
                        ],
                        "iteration": 569,
                        "passed_time": 9.765303864,
                        "remaining_time": 7.366808178
                      },
                      {
                        "learn": [
                          0.01383648355
                        ],
                        "iteration": 570,
                        "passed_time": 9.801005415,
                        "remaining_time": 7.363627536
                      },
                      {
                        "learn": [
                          0.01381362083
                        ],
                        "iteration": 571,
                        "passed_time": 9.821180427,
                        "remaining_time": 7.348715424
                      },
                      {
                        "learn": [
                          0.0138027238
                        ],
                        "iteration": 572,
                        "passed_time": 9.839909198,
                        "remaining_time": 7.332707203
                      },
                      {
                        "learn": [
                          0.01379935715
                        ],
                        "iteration": 573,
                        "passed_time": 9.852867372,
                        "remaining_time": 7.312406795
                      },
                      {
                        "learn": [
                          0.01375556027
                        ],
                        "iteration": 574,
                        "passed_time": 9.874467226,
                        "remaining_time": 7.298519254
                      },
                      {
                        "learn": [
                          0.01373294209
                        ],
                        "iteration": 575,
                        "passed_time": 9.896030346,
                        "remaining_time": 7.284577894
                      },
                      {
                        "learn": [
                          0.0137155971
                        ],
                        "iteration": 576,
                        "passed_time": 9.916328401,
                        "remaining_time": 7.269682693
                      },
                      {
                        "learn": [
                          0.0137040174
                        ],
                        "iteration": 577,
                        "passed_time": 9.93106162,
                        "remaining_time": 7.250705888
                      },
                      {
                        "learn": [
                          0.01370073845
                        ],
                        "iteration": 578,
                        "passed_time": 9.943776274,
                        "remaining_time": 7.230276013
                      },
                      {
                        "learn": [
                          0.01369065869
                        ],
                        "iteration": 579,
                        "passed_time": 9.958706429,
                        "remaining_time": 7.211477069
                      },
                      {
                        "learn": [
                          0.01368812323
                        ],
                        "iteration": 580,
                        "passed_time": 9.972359452,
                        "remaining_time": 7.191770414
                      },
                      {
                        "learn": [
                          0.01366454672
                        ],
                        "iteration": 581,
                        "passed_time": 9.990343761,
                        "remaining_time": 7.175195347
                      },
                      {
                        "learn": [
                          0.01365629246
                        ],
                        "iteration": 582,
                        "passed_time": 10.00867911,
                        "remaining_time": 7.158866531
                      },
                      {
                        "learn": [
                          0.01362531936
                        ],
                        "iteration": 583,
                        "passed_time": 10.0607905,
                        "remaining_time": 7.166590492
                      },
                      {
                        "learn": [
                          0.01362049663
                        ],
                        "iteration": 584,
                        "passed_time": 10.10806567,
                        "remaining_time": 7.170679063
                      },
                      {
                        "learn": [
                          0.01359906493
                        ],
                        "iteration": 585,
                        "passed_time": 10.15162027,
                        "remaining_time": 7.171963807
                      },
                      {
                        "learn": [
                          0.01358935257
                        ],
                        "iteration": 586,
                        "passed_time": 10.17820013,
                        "remaining_time": 7.161152729
                      },
                      {
                        "learn": [
                          0.01358386737
                        ],
                        "iteration": 587,
                        "passed_time": 10.19473402,
                        "remaining_time": 7.143249006
                      },
                      {
                        "learn": [
                          0.0135683107
                        ],
                        "iteration": 588,
                        "passed_time": 10.20976541,
                        "remaining_time": 7.1243015
                      },
                      {
                        "learn": [
                          0.01355780007
                        ],
                        "iteration": 589,
                        "passed_time": 10.22466587,
                        "remaining_time": 7.105276281
                      },
                      {
                        "learn": [
                          0.01353672728
                        ],
                        "iteration": 590,
                        "passed_time": 10.23965303,
                        "remaining_time": 7.086325023
                      },
                      {
                        "learn": [
                          0.01352713961
                        ],
                        "iteration": 591,
                        "passed_time": 10.2738972,
                        "remaining_time": 7.080658882
                      },
                      {
                        "learn": [
                          0.01351168237
                        ],
                        "iteration": 592,
                        "passed_time": 10.31321319,
                        "remaining_time": 7.078377346
                      },
                      {
                        "learn": [
                          0.01350241037
                        ],
                        "iteration": 593,
                        "passed_time": 10.33117402,
                        "remaining_time": 7.061374837
                      },
                      {
                        "learn": [
                          0.01348201661
                        ],
                        "iteration": 594,
                        "passed_time": 10.34932085,
                        "remaining_time": 7.044495707
                      },
                      {
                        "learn": [
                          0.01346628957
                        ],
                        "iteration": 595,
                        "passed_time": 10.36493145,
                        "remaining_time": 7.025893132
                      },
                      {
                        "learn": [
                          0.01345363737
                        ],
                        "iteration": 596,
                        "passed_time": 10.38230276,
                        "remaining_time": 7.008489132
                      },
                      {
                        "learn": [
                          0.01344907716
                        ],
                        "iteration": 597,
                        "passed_time": 10.4058427,
                        "remaining_time": 6.995232049
                      },
                      {
                        "learn": [
                          0.01343658805
                        ],
                        "iteration": 598,
                        "passed_time": 10.42925588,
                        "remaining_time": 6.981855775
                      },
                      {
                        "learn": [
                          0.01343274788
                        ],
                        "iteration": 599,
                        "passed_time": 10.45096714,
                        "remaining_time": 6.967311427
                      },
                      {
                        "learn": [
                          0.01341998777
                        ],
                        "iteration": 600,
                        "passed_time": 10.47414208,
                        "remaining_time": 6.953714959
                      },
                      {
                        "learn": [
                          0.01341761197
                        ],
                        "iteration": 601,
                        "passed_time": 10.49017053,
                        "remaining_time": 6.935361911
                      },
                      {
                        "learn": [
                          0.01339071791
                        ],
                        "iteration": 602,
                        "passed_time": 10.51593422,
                        "remaining_time": 6.923426012
                      },
                      {
                        "learn": [
                          0.01338106435
                        ],
                        "iteration": 603,
                        "passed_time": 10.53214136,
                        "remaining_time": 6.905178772
                      },
                      {
                        "learn": [
                          0.01336806799
                        ],
                        "iteration": 604,
                        "passed_time": 10.5511897,
                        "remaining_time": 6.888793277
                      },
                      {
                        "learn": [
                          0.01335758647
                        ],
                        "iteration": 605,
                        "passed_time": 10.59815274,
                        "remaining_time": 6.89054815
                      },
                      {
                        "learn": [
                          0.01335718531
                        ],
                        "iteration": 606,
                        "passed_time": 10.61501452,
                        "remaining_time": 6.872653554
                      },
                      {
                        "learn": [
                          0.01335246059
                        ],
                        "iteration": 607,
                        "passed_time": 10.63595251,
                        "remaining_time": 6.857390431
                      },
                      {
                        "learn": [
                          0.01332587614
                        ],
                        "iteration": 608,
                        "passed_time": 10.65527096,
                        "remaining_time": 6.841068873
                      },
                      {
                        "learn": [
                          0.01331099647
                        ],
                        "iteration": 609,
                        "passed_time": 10.67637142,
                        "remaining_time": 6.82587681
                      },
                      {
                        "learn": [
                          0.01329941213
                        ],
                        "iteration": 610,
                        "passed_time": 10.69580352,
                        "remaining_time": 6.809603222
                      },
                      {
                        "learn": [
                          0.01328493928
                        ],
                        "iteration": 611,
                        "passed_time": 10.71526574,
                        "remaining_time": 6.79333841
                      },
                      {
                        "learn": [
                          0.01328456642
                        ],
                        "iteration": 612,
                        "passed_time": 10.73215081,
                        "remaining_time": 6.775436153
                      },
                      {
                        "learn": [
                          0.01326563116
                        ],
                        "iteration": 613,
                        "passed_time": 10.75576465,
                        "remaining_time": 6.761767351
                      },
                      {
                        "learn": [
                          0.01325630197
                        ],
                        "iteration": 614,
                        "passed_time": 10.77328806,
                        "remaining_time": 6.744253498
                      },
                      {
                        "learn": [
                          0.01324320092
                        ],
                        "iteration": 615,
                        "passed_time": 10.81770683,
                        "remaining_time": 6.743505556
                      },
                      {
                        "learn": [
                          0.01323247547
                        ],
                        "iteration": 616,
                        "passed_time": 10.83830481,
                        "remaining_time": 6.727829401
                      },
                      {
                        "learn": [
                          0.01320044664
                        ],
                        "iteration": 617,
                        "passed_time": 10.85560466,
                        "remaining_time": 6.710098671
                      },
                      {
                        "learn": [
                          0.01319658385
                        ],
                        "iteration": 618,
                        "passed_time": 10.87322313,
                        "remaining_time": 6.692565447
                      },
                      {
                        "learn": [
                          0.013192214
                        ],
                        "iteration": 619,
                        "passed_time": 10.89728916,
                        "remaining_time": 6.678983678
                      },
                      {
                        "learn": [
                          0.01318664171
                        ],
                        "iteration": 620,
                        "passed_time": 10.92779047,
                        "remaining_time": 6.669295635
                      },
                      {
                        "learn": [
                          0.01316750194
                        ],
                        "iteration": 621,
                        "passed_time": 10.94738848,
                        "remaining_time": 6.652914545
                      },
                      {
                        "learn": [
                          0.01316448773
                        ],
                        "iteration": 622,
                        "passed_time": 10.95921792,
                        "remaining_time": 6.631822082
                      },
                      {
                        "learn": [
                          0.01316222227
                        ],
                        "iteration": 623,
                        "passed_time": 10.99421016,
                        "remaining_time": 6.624716379
                      },
                      {
                        "learn": [
                          0.01313257228
                        ],
                        "iteration": 624,
                        "passed_time": 11.05320243,
                        "remaining_time": 6.63192146
                      },
                      {
                        "learn": [
                          0.01311610336
                        ],
                        "iteration": 625,
                        "passed_time": 11.15631204,
                        "remaining_time": 6.665272688
                      },
                      {
                        "learn": [
                          0.01310302575
                        ],
                        "iteration": 626,
                        "passed_time": 11.25337952,
                        "remaining_time": 6.694594195
                      },
                      {
                        "learn": [
                          0.01308615952
                        ],
                        "iteration": 627,
                        "passed_time": 11.27388092,
                        "remaining_time": 6.678158761
                      },
                      {
                        "learn": [
                          0.01307479101
                        ],
                        "iteration": 628,
                        "passed_time": 11.29627979,
                        "remaining_time": 6.662829573
                      },
                      {
                        "learn": [
                          0.01306010495
                        ],
                        "iteration": 629,
                        "passed_time": 11.32315304,
                        "remaining_time": 6.650105752
                      },
                      {
                        "learn": [
                          0.0130365246
                        ],
                        "iteration": 630,
                        "passed_time": 11.36635607,
                        "remaining_time": 6.646886513
                      },
                      {
                        "learn": [
                          0.01302149741
                        ],
                        "iteration": 631,
                        "passed_time": 11.38595917,
                        "remaining_time": 6.629799009
                      },
                      {
                        "learn": [
                          0.01301018225
                        ],
                        "iteration": 632,
                        "passed_time": 11.40306452,
                        "remaining_time": 6.611255415
                      },
                      {
                        "learn": [
                          0.01299576498
                        ],
                        "iteration": 633,
                        "passed_time": 11.43194301,
                        "remaining_time": 6.599512839
                      },
                      {
                        "learn": [
                          0.01297308616
                        ],
                        "iteration": 634,
                        "passed_time": 11.45145482,
                        "remaining_time": 6.582332297
                      },
                      {
                        "learn": [
                          0.01296943213
                        ],
                        "iteration": 635,
                        "passed_time": 11.47033567,
                        "remaining_time": 6.56478331
                      },
                      {
                        "learn": [
                          0.01296575
                        ],
                        "iteration": 636,
                        "passed_time": 11.52192098,
                        "remaining_time": 6.565867058
                      },
                      {
                        "learn": [
                          0.0129578302
                        ],
                        "iteration": 637,
                        "passed_time": 11.54982034,
                        "remaining_time": 6.553346336
                      },
                      {
                        "learn": [
                          0.01294937465
                        ],
                        "iteration": 638,
                        "passed_time": 11.56439435,
                        "remaining_time": 6.53324939
                      },
                      {
                        "learn": [
                          0.0129235246
                        ],
                        "iteration": 639,
                        "passed_time": 11.58365311,
                        "remaining_time": 6.515804872
                      },
                      {
                        "learn": [
                          0.01291283068
                        ],
                        "iteration": 640,
                        "passed_time": 11.60630631,
                        "remaining_time": 6.500255795
                      },
                      {
                        "learn": [
                          0.01290045433
                        ],
                        "iteration": 641,
                        "passed_time": 11.62464398,
                        "remaining_time": 6.482278106
                      },
                      {
                        "learn": [
                          0.01288135073
                        ],
                        "iteration": 642,
                        "passed_time": 11.65917896,
                        "remaining_time": 6.473292208
                      },
                      {
                        "learn": [
                          0.01286914455
                        ],
                        "iteration": 643,
                        "passed_time": 11.67518625,
                        "remaining_time": 6.453984947
                      },
                      {
                        "learn": [
                          0.0128498621
                        ],
                        "iteration": 644,
                        "passed_time": 11.69110339,
                        "remaining_time": 6.434638299
                      },
                      {
                        "learn": [
                          0.01284155954
                        ],
                        "iteration": 645,
                        "passed_time": 11.73537227,
                        "remaining_time": 6.430838677
                      },
                      {
                        "learn": [
                          0.01281964443
                        ],
                        "iteration": 646,
                        "passed_time": 11.78601651,
                        "remaining_time": 6.430392317
                      },
                      {
                        "learn": [
                          0.01279696945
                        ],
                        "iteration": 647,
                        "passed_time": 11.82947346,
                        "remaining_time": 6.425886818
                      },
                      {
                        "learn": [
                          0.01278035442
                        ],
                        "iteration": 648,
                        "passed_time": 11.87205921,
                        "remaining_time": 6.420790114
                      },
                      {
                        "learn": [
                          0.01275866485
                        ],
                        "iteration": 649,
                        "passed_time": 11.88796851,
                        "remaining_time": 6.401213812
                      },
                      {
                        "learn": [
                          0.01274930857
                        ],
                        "iteration": 650,
                        "passed_time": 11.91044808,
                        "remaining_time": 6.385171088
                      },
                      {
                        "learn": [
                          0.01274667773
                        ],
                        "iteration": 651,
                        "passed_time": 11.94153205,
                        "remaining_time": 6.373701154
                      },
                      {
                        "learn": [
                          0.01273753689
                        ],
                        "iteration": 652,
                        "passed_time": 11.96083751,
                        "remaining_time": 6.355912124
                      },
                      {
                        "learn": [
                          0.01272734193
                        ],
                        "iteration": 653,
                        "passed_time": 11.9751911,
                        "remaining_time": 6.335498657
                      },
                      {
                        "learn": [
                          0.01272258771
                        ],
                        "iteration": 654,
                        "passed_time": 11.99052858,
                        "remaining_time": 6.315621924
                      },
                      {
                        "learn": [
                          0.01271514484
                        ],
                        "iteration": 655,
                        "passed_time": 12.01270867,
                        "remaining_time": 6.299347231
                      },
                      {
                        "learn": [
                          0.01270826481
                        ],
                        "iteration": 656,
                        "passed_time": 12.05217326,
                        "remaining_time": 6.292078276
                      },
                      {
                        "learn": [
                          0.01268230543
                        ],
                        "iteration": 657,
                        "passed_time": 12.14852869,
                        "remaining_time": 6.314280868
                      },
                      {
                        "learn": [
                          0.01268010221
                        ],
                        "iteration": 658,
                        "passed_time": 12.19551575,
                        "remaining_time": 6.310577952
                      },
                      {
                        "learn": [
                          0.01267837917
                        ],
                        "iteration": 659,
                        "passed_time": 12.21060726,
                        "remaining_time": 6.29031283
                      },
                      {
                        "learn": [
                          0.01267582917
                        ],
                        "iteration": 660,
                        "passed_time": 12.2254379,
                        "remaining_time": 6.269929572
                      },
                      {
                        "learn": [
                          0.01266507442
                        ],
                        "iteration": 661,
                        "passed_time": 12.2406302,
                        "remaining_time": 6.249747747
                      },
                      {
                        "learn": [
                          0.012636234
                        ],
                        "iteration": 662,
                        "passed_time": 12.2585833,
                        "remaining_time": 6.230984269
                      },
                      {
                        "learn": [
                          0.01260466514
                        ],
                        "iteration": 663,
                        "passed_time": 12.27451792,
                        "remaining_time": 6.211201841
                      },
                      {
                        "learn": [
                          0.01259028464
                        ],
                        "iteration": 664,
                        "passed_time": 12.29886387,
                        "remaining_time": 6.195668263
                      },
                      {
                        "learn": [
                          0.01256679584
                        ],
                        "iteration": 665,
                        "passed_time": 12.31411397,
                        "remaining_time": 6.175546643
                      },
                      {
                        "learn": [
                          0.0125367071
                        ],
                        "iteration": 666,
                        "passed_time": 12.33120324,
                        "remaining_time": 6.15635784
                      },
                      {
                        "learn": [
                          0.01250498223
                        ],
                        "iteration": 667,
                        "passed_time": 12.34746469,
                        "remaining_time": 6.136763887
                      },
                      {
                        "learn": [
                          0.01248696245
                        ],
                        "iteration": 668,
                        "passed_time": 12.36337973,
                        "remaining_time": 6.117008507
                      },
                      {
                        "learn": [
                          0.01248396643
                        ],
                        "iteration": 669,
                        "passed_time": 12.37829495,
                        "remaining_time": 6.096772139
                      },
                      {
                        "learn": [
                          0.01245589316
                        ],
                        "iteration": 670,
                        "passed_time": 12.39520825,
                        "remaining_time": 6.077531316
                      },
                      {
                        "learn": [
                          0.01244685478
                        ],
                        "iteration": 671,
                        "passed_time": 12.41208441,
                        "remaining_time": 6.058279297
                      },
                      {
                        "learn": [
                          0.01243130275
                        ],
                        "iteration": 672,
                        "passed_time": 12.42931897,
                        "remaining_time": 6.039208475
                      },
                      {
                        "learn": [
                          0.01242477052
                        ],
                        "iteration": 673,
                        "passed_time": 12.44534341,
                        "remaining_time": 6.019557791
                      },
                      {
                        "learn": [
                          0.01241705644
                        ],
                        "iteration": 674,
                        "passed_time": 12.46048029,
                        "remaining_time": 5.999490509
                      },
                      {
                        "learn": [
                          0.0124073459
                        ],
                        "iteration": 675,
                        "passed_time": 12.47497328,
                        "remaining_time": 5.979129204
                      },
                      {
                        "learn": [
                          0.0124056263
                        ],
                        "iteration": 676,
                        "passed_time": 12.49528351,
                        "remaining_time": 5.961560672
                      },
                      {
                        "learn": [
                          0.01240039089
                        ],
                        "iteration": 677,
                        "passed_time": 12.51059541,
                        "remaining_time": 5.941610207
                      },
                      {
                        "learn": [
                          0.01238399392
                        ],
                        "iteration": 678,
                        "passed_time": 12.53060017,
                        "remaining_time": 5.923891981
                      },
                      {
                        "learn": [
                          0.01236491113
                        ],
                        "iteration": 679,
                        "passed_time": 12.55119902,
                        "remaining_time": 5.906446596
                      },
                      {
                        "learn": [
                          0.01233671681
                        ],
                        "iteration": 680,
                        "passed_time": 12.56834645,
                        "remaining_time": 5.887375207
                      },
                      {
                        "learn": [
                          0.01229942327
                        ],
                        "iteration": 681,
                        "passed_time": 12.59721405,
                        "remaining_time": 5.873774295
                      },
                      {
                        "learn": [
                          0.01228628484
                        ],
                        "iteration": 682,
                        "passed_time": 12.61578355,
                        "remaining_time": 5.855349025
                      },
                      {
                        "learn": [
                          0.01226873877
                        ],
                        "iteration": 683,
                        "passed_time": 12.65971867,
                        "remaining_time": 5.848641958
                      },
                      {
                        "learn": [
                          0.01225965047
                        ],
                        "iteration": 684,
                        "passed_time": 12.68612607,
                        "remaining_time": 5.833766005
                      },
                      {
                        "learn": [
                          0.01223389298
                        ],
                        "iteration": 685,
                        "passed_time": 12.7153076,
                        "remaining_time": 5.82012622
                      },
                      {
                        "learn": [
                          0.0122307565
                        ],
                        "iteration": 686,
                        "passed_time": 12.73154191,
                        "remaining_time": 5.800542385
                      },
                      {
                        "learn": [
                          0.01222518481
                        ],
                        "iteration": 687,
                        "passed_time": 12.75735126,
                        "remaining_time": 5.785310454
                      },
                      {
                        "learn": [
                          0.01220915059
                        ],
                        "iteration": 688,
                        "passed_time": 12.78223177,
                        "remaining_time": 5.769628565
                      },
                      {
                        "learn": [
                          0.01219038105
                        ],
                        "iteration": 689,
                        "passed_time": 12.79877977,
                        "remaining_time": 5.750176417
                      },
                      {
                        "learn": [
                          0.01217747321
                        ],
                        "iteration": 690,
                        "passed_time": 12.82346561,
                        "remaining_time": 5.734371742
                      },
                      {
                        "learn": [
                          0.01214964103
                        ],
                        "iteration": 691,
                        "passed_time": 12.86024605,
                        "remaining_time": 5.723924543
                      },
                      {
                        "learn": [
                          0.01213530864
                        ],
                        "iteration": 692,
                        "passed_time": 12.89134527,
                        "remaining_time": 5.710884556
                      },
                      {
                        "learn": [
                          0.01212151704
                        ],
                        "iteration": 693,
                        "passed_time": 12.91617379,
                        "remaining_time": 5.695027636
                      },
                      {
                        "learn": [
                          0.0121058674
                        ],
                        "iteration": 694,
                        "passed_time": 12.93205277,
                        "remaining_time": 5.675217402
                      },
                      {
                        "learn": [
                          0.01209949401
                        ],
                        "iteration": 695,
                        "passed_time": 12.94973538,
                        "remaining_time": 5.65620626
                      },
                      {
                        "learn": [
                          0.01208072973
                        ],
                        "iteration": 696,
                        "passed_time": 12.96592221,
                        "remaining_time": 5.636548678
                      },
                      {
                        "learn": [
                          0.01206564413
                        ],
                        "iteration": 697,
                        "passed_time": 13.05419763,
                        "remaining_time": 5.64809124
                      },
                      {
                        "learn": [
                          0.01204783554
                        ],
                        "iteration": 698,
                        "passed_time": 13.09195329,
                        "remaining_time": 5.63759362
                      },
                      {
                        "learn": [
                          0.01204039066
                        ],
                        "iteration": 699,
                        "passed_time": 13.14557997,
                        "remaining_time": 5.633819987
                      },
                      {
                        "learn": [
                          0.01203522457
                        ],
                        "iteration": 700,
                        "passed_time": 13.17308429,
                        "remaining_time": 5.618762057
                      },
                      {
                        "learn": [
                          0.01202863939
                        ],
                        "iteration": 701,
                        "passed_time": 13.1933441,
                        "remaining_time": 5.600593366
                      },
                      {
                        "learn": [
                          0.01202249537
                        ],
                        "iteration": 702,
                        "passed_time": 13.20922756,
                        "remaining_time": 5.580569824
                      },
                      {
                        "learn": [
                          0.01201403275
                        ],
                        "iteration": 703,
                        "passed_time": 13.22349854,
                        "remaining_time": 5.559880069
                      },
                      {
                        "learn": [
                          0.0120030274
                        ],
                        "iteration": 704,
                        "passed_time": 13.23930167,
                        "remaining_time": 5.539849634
                      },
                      {
                        "learn": [
                          0.01199476909
                        ],
                        "iteration": 705,
                        "passed_time": 13.2559275,
                        "remaining_time": 5.520173775
                      },
                      {
                        "learn": [
                          0.01199002699
                        ],
                        "iteration": 706,
                        "passed_time": 13.27503609,
                        "remaining_time": 5.501535466
                      },
                      {
                        "learn": [
                          0.0119794907
                        ],
                        "iteration": 707,
                        "passed_time": 13.29042845,
                        "remaining_time": 5.481363146
                      },
                      {
                        "learn": [
                          0.01197730467
                        ],
                        "iteration": 708,
                        "passed_time": 13.30500243,
                        "remaining_time": 5.460868417
                      },
                      {
                        "learn": [
                          0.01197049253
                        ],
                        "iteration": 709,
                        "passed_time": 13.3197208,
                        "remaining_time": 5.440449341
                      },
                      {
                        "learn": [
                          0.0119690211
                        ],
                        "iteration": 710,
                        "passed_time": 13.33444186,
                        "remaining_time": 5.420047396
                      },
                      {
                        "learn": [
                          0.01196451929
                        ],
                        "iteration": 711,
                        "passed_time": 13.35284805,
                        "remaining_time": 5.40115202
                      },
                      {
                        "learn": [
                          0.0119537423
                        ],
                        "iteration": 712,
                        "passed_time": 13.37300307,
                        "remaining_time": 5.382961963
                      },
                      {
                        "learn": [
                          0.01194234328
                        ],
                        "iteration": 713,
                        "passed_time": 13.38828617,
                        "remaining_time": 5.36281491
                      },
                      {
                        "learn": [
                          0.01193000553
                        ],
                        "iteration": 714,
                        "passed_time": 13.40277608,
                        "remaining_time": 5.342365291
                      },
                      {
                        "learn": [
                          0.01191293296
                        ],
                        "iteration": 715,
                        "passed_time": 13.43205682,
                        "remaining_time": 5.327799074
                      },
                      {
                        "learn": [
                          0.01189281668
                        ],
                        "iteration": 716,
                        "passed_time": 13.4535469,
                        "remaining_time": 5.310116837
                      },
                      {
                        "learn": [
                          0.01189111041
                        ],
                        "iteration": 717,
                        "passed_time": 13.48998796,
                        "remaining_time": 5.298296108
                      },
                      {
                        "learn": [
                          0.01186510435
                        ],
                        "iteration": 718,
                        "passed_time": 13.52302421,
                        "remaining_time": 5.28507622
                      },
                      {
                        "learn": [
                          0.01185709724
                        ],
                        "iteration": 719,
                        "passed_time": 13.5456055,
                        "remaining_time": 5.267735472
                      },
                      {
                        "learn": [
                          0.01184420273
                        ],
                        "iteration": 720,
                        "passed_time": 13.56133161,
                        "remaining_time": 5.24772749
                      },
                      {
                        "learn": [
                          0.01182128525
                        ],
                        "iteration": 721,
                        "passed_time": 13.57668759,
                        "remaining_time": 5.22758885
                      },
                      {
                        "learn": [
                          0.01181026191
                        ],
                        "iteration": 722,
                        "passed_time": 13.59091936,
                        "remaining_time": 5.207032727
                      },
                      {
                        "learn": [
                          0.01179513731
                        ],
                        "iteration": 723,
                        "passed_time": 13.60963535,
                        "remaining_time": 5.188203533
                      },
                      {
                        "learn": [
                          0.01176864885
                        ],
                        "iteration": 724,
                        "passed_time": 13.64797983,
                        "remaining_time": 5.176819935
                      },
                      {
                        "learn": [
                          0.0117542142
                        ],
                        "iteration": 725,
                        "passed_time": 13.66630889,
                        "remaining_time": 5.157808039
                      },
                      {
                        "learn": [
                          0.01173995132
                        ],
                        "iteration": 726,
                        "passed_time": 13.68113035,
                        "remaining_time": 5.137480862
                      },
                      {
                        "learn": [
                          0.01173674573
                        ],
                        "iteration": 727,
                        "passed_time": 13.69803592,
                        "remaining_time": 5.117947488
                      },
                      {
                        "learn": [
                          0.01173545395
                        ],
                        "iteration": 728,
                        "passed_time": 13.71827903,
                        "remaining_time": 5.099662028
                      },
                      {
                        "learn": [
                          0.01171889753
                        ],
                        "iteration": 729,
                        "passed_time": 13.73398822,
                        "remaining_time": 5.079694272
                      },
                      {
                        "learn": [
                          0.01171192493
                        ],
                        "iteration": 730,
                        "passed_time": 13.7511765,
                        "remaining_time": 5.060282461
                      },
                      {
                        "learn": [
                          0.01169036874
                        ],
                        "iteration": 731,
                        "passed_time": 13.7703042,
                        "remaining_time": 5.041586783
                      },
                      {
                        "learn": [
                          0.01168000948
                        ],
                        "iteration": 732,
                        "passed_time": 13.78394783,
                        "remaining_time": 5.020892321
                      },
                      {
                        "learn": [
                          0.01167629603
                        ],
                        "iteration": 733,
                        "passed_time": 13.7979548,
                        "remaining_time": 5.000348743
                      },
                      {
                        "learn": [
                          0.01166861106
                        ],
                        "iteration": 734,
                        "passed_time": 13.81210411,
                        "remaining_time": 4.979874272
                      },
                      {
                        "learn": [
                          0.01165812145
                        ],
                        "iteration": 735,
                        "passed_time": 13.83023424,
                        "remaining_time": 4.960844889
                      },
                      {
                        "learn": [
                          0.01163996001
                        ],
                        "iteration": 736,
                        "passed_time": 13.84568553,
                        "remaining_time": 4.940861999
                      },
                      {
                        "learn": [
                          0.01163743931
                        ],
                        "iteration": 737,
                        "passed_time": 13.87483189,
                        "remaining_time": 4.925753326
                      },
                      {
                        "learn": [
                          0.01162804848
                        ],
                        "iteration": 738,
                        "passed_time": 13.89505391,
                        "remaining_time": 4.907454763
                      },
                      {
                        "learn": [
                          0.0116175815
                        ],
                        "iteration": 739,
                        "passed_time": 13.91319598,
                        "remaining_time": 4.888420209
                      },
                      {
                        "learn": [
                          0.01160305853
                        ],
                        "iteration": 740,
                        "passed_time": 13.92978808,
                        "remaining_time": 4.868846305
                      },
                      {
                        "learn": [
                          0.01159072928
                        ],
                        "iteration": 741,
                        "passed_time": 13.94761225,
                        "remaining_time": 4.849708842
                      },
                      {
                        "learn": [
                          0.01157607474
                        ],
                        "iteration": 742,
                        "passed_time": 13.96289969,
                        "remaining_time": 4.829697471
                      },
                      {
                        "learn": [
                          0.01156914702
                        ],
                        "iteration": 743,
                        "passed_time": 13.97726454,
                        "remaining_time": 4.809381347
                      },
                      {
                        "learn": [
                          0.01156750845
                        ],
                        "iteration": 744,
                        "passed_time": 13.99144613,
                        "remaining_time": 4.789018475
                      },
                      {
                        "learn": [
                          0.01156121347
                        ],
                        "iteration": 745,
                        "passed_time": 14.00862876,
                        "remaining_time": 4.769693974
                      },
                      {
                        "learn": [
                          0.01154253043
                        ],
                        "iteration": 746,
                        "passed_time": 14.026756,
                        "remaining_time": 4.750695138
                      },
                      {
                        "learn": [
                          0.01153392452
                        ],
                        "iteration": 747,
                        "passed_time": 14.04104373,
                        "remaining_time": 4.730405105
                      },
                      {
                        "learn": [
                          0.01151769811
                        ],
                        "iteration": 748,
                        "passed_time": 14.05733174,
                        "remaining_time": 4.710801423
                      },
                      {
                        "learn": [
                          0.01150064252
                        ],
                        "iteration": 749,
                        "passed_time": 14.07339857,
                        "remaining_time": 4.691132858
                      },
                      {
                        "learn": [
                          0.01148541506
                        ],
                        "iteration": 750,
                        "passed_time": 14.08891334,
                        "remaining_time": 4.671290843
                      },
                      {
                        "learn": [
                          0.01148251685
                        ],
                        "iteration": 751,
                        "passed_time": 14.10729473,
                        "remaining_time": 4.65240571
                      },
                      {
                        "learn": [
                          0.01147122736
                        ],
                        "iteration": 752,
                        "passed_time": 14.13597186,
                        "remaining_time": 4.636899135
                      },
                      {
                        "learn": [
                          0.01146275342
                        ],
                        "iteration": 753,
                        "passed_time": 14.17450217,
                        "remaining_time": 4.624572325
                      },
                      {
                        "learn": [
                          0.01144969178
                        ],
                        "iteration": 754,
                        "passed_time": 14.19627194,
                        "remaining_time": 4.606737253
                      },
                      {
                        "learn": [
                          0.0114469698
                        ],
                        "iteration": 755,
                        "passed_time": 14.21167928,
                        "remaining_time": 4.586838286
                      },
                      {
                        "learn": [
                          0.01142439506
                        ],
                        "iteration": 756,
                        "passed_time": 14.22735739,
                        "remaining_time": 4.567038107
                      },
                      {
                        "learn": [
                          0.0114052761
                        ],
                        "iteration": 757,
                        "passed_time": 14.24291577,
                        "remaining_time": 4.547210576
                      },
                      {
                        "learn": [
                          0.01140177525
                        ],
                        "iteration": 758,
                        "passed_time": 14.2587772,
                        "remaining_time": 4.52749052
                      },
                      {
                        "learn": [
                          0.01138970326
                        ],
                        "iteration": 759,
                        "passed_time": 14.27138773,
                        "remaining_time": 4.506754021
                      },
                      {
                        "learn": [
                          0.01137901136
                        ],
                        "iteration": 760,
                        "passed_time": 14.28383982,
                        "remaining_time": 4.485989115
                      },
                      {
                        "learn": [
                          0.01137015789
                        ],
                        "iteration": 761,
                        "passed_time": 14.30178255,
                        "remaining_time": 4.466960953
                      },
                      {
                        "learn": [
                          0.01136125248
                        ],
                        "iteration": 762,
                        "passed_time": 14.3194591,
                        "remaining_time": 4.447852958
                      },
                      {
                        "learn": [
                          0.01135973881
                        ],
                        "iteration": 763,
                        "passed_time": 14.34380492,
                        "remaining_time": 4.430808851
                      },
                      {
                        "learn": [
                          0.01134166305
                        ],
                        "iteration": 764,
                        "passed_time": 14.36088953,
                        "remaining_time": 4.411515084
                      },
                      {
                        "learn": [
                          0.01131956303
                        ],
                        "iteration": 765,
                        "passed_time": 14.37780069,
                        "remaining_time": 4.392174102
                      },
                      {
                        "learn": [
                          0.01131792467
                        ],
                        "iteration": 766,
                        "passed_time": 14.39099629,
                        "remaining_time": 4.371710739
                      },
                      {
                        "learn": [
                          0.01131474393
                        ],
                        "iteration": 767,
                        "passed_time": 14.41118603,
                        "remaining_time": 4.353379113
                      },
                      {
                        "learn": [
                          0.01129745411
                        ],
                        "iteration": 768,
                        "passed_time": 14.43985965,
                        "remaining_time": 4.337591129
                      },
                      {
                        "learn": [
                          0.01128270096
                        ],
                        "iteration": 769,
                        "passed_time": 14.45732073,
                        "remaining_time": 4.318420478
                      },
                      {
                        "learn": [
                          0.0112737808
                        ],
                        "iteration": 770,
                        "passed_time": 14.4722451,
                        "remaining_time": 4.298500813
                      },
                      {
                        "learn": [
                          0.01127234312
                        ],
                        "iteration": 771,
                        "passed_time": 14.4866671,
                        "remaining_time": 4.278445725
                      },
                      {
                        "learn": [
                          0.0112479453
                        ],
                        "iteration": 772,
                        "passed_time": 14.50906935,
                        "remaining_time": 4.260748695
                      },
                      {
                        "learn": [
                          0.0112420343
                        ],
                        "iteration": 773,
                        "passed_time": 14.53179455,
                        "remaining_time": 4.24313381
                      },
                      {
                        "learn": [
                          0.01122658635
                        ],
                        "iteration": 774,
                        "passed_time": 14.56036084,
                        "remaining_time": 4.227201536
                      },
                      {
                        "learn": [
                          0.01120944244
                        ],
                        "iteration": 775,
                        "passed_time": 14.59193391,
                        "remaining_time": 4.212104633
                      },
                      {
                        "learn": [
                          0.01119643254
                        ],
                        "iteration": 776,
                        "passed_time": 14.60640659,
                        "remaining_time": 4.19205749
                      },
                      {
                        "learn": [
                          0.01118578348
                        ],
                        "iteration": 777,
                        "passed_time": 14.63186241,
                        "remaining_time": 4.175158682
                      },
                      {
                        "learn": [
                          0.01117385578
                        ],
                        "iteration": 778,
                        "passed_time": 14.64711441,
                        "remaining_time": 4.155343114
                      },
                      {
                        "learn": [
                          0.01116093237
                        ],
                        "iteration": 779,
                        "passed_time": 14.66358729,
                        "remaining_time": 4.135883596
                      },
                      {
                        "learn": [
                          0.01113910093
                        ],
                        "iteration": 780,
                        "passed_time": 14.68296586,
                        "remaining_time": 4.117246509
                      },
                      {
                        "learn": [
                          0.01112710816
                        ],
                        "iteration": 781,
                        "passed_time": 14.69794398,
                        "remaining_time": 4.097380803
                      },
                      {
                        "learn": [
                          0.01111490763
                        ],
                        "iteration": 782,
                        "passed_time": 14.7214257,
                        "remaining_time": 4.079884262
                      },
                      {
                        "learn": [
                          0.0111008618
                        ],
                        "iteration": 783,
                        "passed_time": 14.73672404,
                        "remaining_time": 4.060117849
                      },
                      {
                        "learn": [
                          0.01109946676
                        ],
                        "iteration": 784,
                        "passed_time": 14.75348871,
                        "remaining_time": 4.040764424
                      },
                      {
                        "learn": [
                          0.01109253256
                        ],
                        "iteration": 785,
                        "passed_time": 14.77048517,
                        "remaining_time": 4.021480694
                      },
                      {
                        "learn": [
                          0.0110807344
                        ],
                        "iteration": 786,
                        "passed_time": 14.78995307,
                        "remaining_time": 4.00287167
                      },
                      {
                        "learn": [
                          0.01106700687
                        ],
                        "iteration": 787,
                        "passed_time": 14.81466095,
                        "remaining_time": 3.985670205
                      },
                      {
                        "learn": [
                          0.01105053694
                        ],
                        "iteration": 788,
                        "passed_time": 14.83440004,
                        "remaining_time": 3.967120923
                      },
                      {
                        "learn": [
                          0.01103457952
                        ],
                        "iteration": 789,
                        "passed_time": 14.85309236,
                        "remaining_time": 3.948290373
                      },
                      {
                        "learn": [
                          0.01102822169
                        ],
                        "iteration": 790,
                        "passed_time": 14.8712401,
                        "remaining_time": 3.929316285
                      },
                      {
                        "learn": [
                          0.0110196853
                        ],
                        "iteration": 791,
                        "passed_time": 14.89515334,
                        "remaining_time": 3.911858452
                      },
                      {
                        "learn": [
                          0.0110129245
                        ],
                        "iteration": 792,
                        "passed_time": 14.92675987,
                        "remaining_time": 3.896392552
                      },
                      {
                        "learn": [
                          0.01099141095
                        ],
                        "iteration": 793,
                        "passed_time": 14.97127828,
                        "remaining_time": 3.884235927
                      },
                      {
                        "learn": [
                          0.01097793139
                        ],
                        "iteration": 794,
                        "passed_time": 14.98774925,
                        "remaining_time": 3.864765531
                      },
                      {
                        "learn": [
                          0.01096198993
                        ],
                        "iteration": 795,
                        "passed_time": 15.00281667,
                        "remaining_time": 3.844942966
                      },
                      {
                        "learn": [
                          0.01095109149
                        ],
                        "iteration": 796,
                        "passed_time": 15.01842814,
                        "remaining_time": 3.825270905
                      },
                      {
                        "learn": [
                          0.01094663232
                        ],
                        "iteration": 797,
                        "passed_time": 15.03780804,
                        "remaining_time": 3.806562938
                      },
                      {
                        "learn": [
                          0.01093680557
                        ],
                        "iteration": 798,
                        "passed_time": 15.07032865,
                        "remaining_time": 3.791159023
                      },
                      {
                        "learn": [
                          0.01091207208
                        ],
                        "iteration": 799,
                        "passed_time": 15.08857125,
                        "remaining_time": 3.772142813
                      },
                      {
                        "learn": [
                          0.01090151356
                        ],
                        "iteration": 800,
                        "passed_time": 15.10863913,
                        "remaining_time": 3.753582007
                      },
                      {
                        "learn": [
                          0.01089914867
                        ],
                        "iteration": 801,
                        "passed_time": 15.12019874,
                        "remaining_time": 3.732916897
                      },
                      {
                        "learn": [
                          0.01088806915
                        ],
                        "iteration": 802,
                        "passed_time": 15.1884019,
                        "remaining_time": 3.726170826
                      },
                      {
                        "learn": [
                          0.01088329876
                        ],
                        "iteration": 803,
                        "passed_time": 15.2025597,
                        "remaining_time": 3.706096642
                      },
                      {
                        "learn": [
                          0.01087297972
                        ],
                        "iteration": 804,
                        "passed_time": 15.21658211,
                        "remaining_time": 3.686004361
                      },
                      {
                        "learn": [
                          0.01087269093
                        ],
                        "iteration": 805,
                        "passed_time": 15.2302416,
                        "remaining_time": 3.665839788
                      },
                      {
                        "learn": [
                          0.01085725895
                        ],
                        "iteration": 806,
                        "passed_time": 15.24572255,
                        "remaining_time": 3.646126954
                      },
                      {
                        "learn": [
                          0.01085465397
                        ],
                        "iteration": 807,
                        "passed_time": 15.25955733,
                        "remaining_time": 3.626033424
                      },
                      {
                        "learn": [
                          0.01085043974
                        ],
                        "iteration": 808,
                        "passed_time": 15.27377782,
                        "remaining_time": 3.606046433
                      },
                      {
                        "learn": [
                          0.01084888383
                        ],
                        "iteration": 809,
                        "passed_time": 15.2884869,
                        "remaining_time": 3.586188285
                      },
                      {
                        "learn": [
                          0.0108280679
                        ],
                        "iteration": 810,
                        "passed_time": 15.30860889,
                        "remaining_time": 3.567604292
                      },
                      {
                        "learn": [
                          0.01082584792
                        ],
                        "iteration": 811,
                        "passed_time": 15.32370782,
                        "remaining_time": 3.547853534
                      },
                      {
                        "learn": [
                          0.0108117837
                        ],
                        "iteration": 812,
                        "passed_time": 15.33849224,
                        "remaining_time": 3.528041881
                      },
                      {
                        "learn": [
                          0.01080229323
                        ],
                        "iteration": 813,
                        "passed_time": 15.35376701,
                        "remaining_time": 3.508354625
                      },
                      {
                        "learn": [
                          0.0107777685
                        ],
                        "iteration": 814,
                        "passed_time": 15.36976853,
                        "remaining_time": 3.488843163
                      },
                      {
                        "learn": [
                          0.01076859816
                        ],
                        "iteration": 815,
                        "passed_time": 15.38731951,
                        "remaining_time": 3.469689694
                      },
                      {
                        "learn": [
                          0.01075872857
                        ],
                        "iteration": 816,
                        "passed_time": 15.40210094,
                        "remaining_time": 3.449919794
                      },
                      {
                        "learn": [
                          0.01075736505
                        ],
                        "iteration": 817,
                        "passed_time": 15.41562811,
                        "remaining_time": 3.429883027
                      },
                      {
                        "learn": [
                          0.0107500687
                        ],
                        "iteration": 818,
                        "passed_time": 15.43038112,
                        "remaining_time": 3.410133068
                      },
                      {
                        "learn": [
                          0.01074408313
                        ],
                        "iteration": 819,
                        "passed_time": 15.44778447,
                        "remaining_time": 3.390977079
                      },
                      {
                        "learn": [
                          0.01072186468
                        ],
                        "iteration": 820,
                        "passed_time": 15.46305106,
                        "remaining_time": 3.371359488
                      },
                      {
                        "learn": [
                          0.01072159872
                        ],
                        "iteration": 821,
                        "passed_time": 15.48219265,
                        "remaining_time": 3.352591595
                      },
                      {
                        "learn": [
                          0.010710789
                        ],
                        "iteration": 822,
                        "passed_time": 15.50244076,
                        "remaining_time": 3.334060771
                      },
                      {
                        "learn": [
                          0.01069423258
                        ],
                        "iteration": 823,
                        "passed_time": 15.53814307,
                        "remaining_time": 3.318826675
                      },
                      {
                        "learn": [
                          0.01068793699
                        ],
                        "iteration": 824,
                        "passed_time": 15.55807003,
                        "remaining_time": 3.300196674
                      },
                      {
                        "learn": [
                          0.01068772116
                        ],
                        "iteration": 825,
                        "passed_time": 15.57023415,
                        "remaining_time": 3.27992826
                      },
                      {
                        "learn": [
                          0.01068181925
                        ],
                        "iteration": 826,
                        "passed_time": 15.59379828,
                        "remaining_time": 3.262064212
                      },
                      {
                        "learn": [
                          0.0106632037
                        ],
                        "iteration": 827,
                        "passed_time": 15.61094163,
                        "remaining_time": 3.242852609
                      },
                      {
                        "learn": [
                          0.01065276341
                        ],
                        "iteration": 828,
                        "passed_time": 15.62622017,
                        "remaining_time": 3.223261337
                      },
                      {
                        "learn": [
                          0.01063983535
                        ],
                        "iteration": 829,
                        "passed_time": 15.64225956,
                        "remaining_time": 3.203836295
                      },
                      {
                        "learn": [
                          0.01063041299
                        ],
                        "iteration": 830,
                        "passed_time": 15.65506956,
                        "remaining_time": 3.183762642
                      },
                      {
                        "learn": [
                          0.01061844245
                        ],
                        "iteration": 831,
                        "passed_time": 15.67634777,
                        "remaining_time": 3.165416377
                      },
                      {
                        "learn": [
                          0.0106170763
                        ],
                        "iteration": 832,
                        "passed_time": 15.69211999,
                        "remaining_time": 3.14595923
                      },
                      {
                        "learn": [
                          0.01060906091
                        ],
                        "iteration": 833,
                        "passed_time": 15.70712006,
                        "remaining_time": 3.12635723
                      },
                      {
                        "learn": [
                          0.01059941645
                        ],
                        "iteration": 834,
                        "passed_time": 15.73433725,
                        "remaining_time": 3.109180414
                      },
                      {
                        "learn": [
                          0.01058274928
                        ],
                        "iteration": 835,
                        "passed_time": 15.75726653,
                        "remaining_time": 3.091138409
                      },
                      {
                        "learn": [
                          0.01057876867
                        ],
                        "iteration": 836,
                        "passed_time": 15.77323139,
                        "remaining_time": 3.071728456
                      },
                      {
                        "learn": [
                          0.0105564524
                        ],
                        "iteration": 837,
                        "passed_time": 15.79825704,
                        "remaining_time": 3.054078331
                      },
                      {
                        "learn": [
                          0.01054582578
                        ],
                        "iteration": 838,
                        "passed_time": 15.81522771,
                        "remaining_time": 3.034864913
                      },
                      {
                        "learn": [
                          0.01053127168
                        ],
                        "iteration": 839,
                        "passed_time": 15.83022355,
                        "remaining_time": 3.015280675
                      },
                      {
                        "learn": [
                          0.01052432395
                        ],
                        "iteration": 840,
                        "passed_time": 15.85001444,
                        "remaining_time": 2.996613907
                      },
                      {
                        "learn": [
                          0.01050642805
                        ],
                        "iteration": 841,
                        "passed_time": 15.8691726,
                        "remaining_time": 2.977825737
                      },
                      {
                        "learn": [
                          0.01050056535
                        ],
                        "iteration": 842,
                        "passed_time": 15.88358758,
                        "remaining_time": 2.958153322
                      },
                      {
                        "learn": [
                          0.01049897852
                        ],
                        "iteration": 843,
                        "passed_time": 15.89762943,
                        "remaining_time": 2.938424397
                      },
                      {
                        "learn": [
                          0.01048547369
                        ],
                        "iteration": 844,
                        "passed_time": 15.91284173,
                        "remaining_time": 2.918923631
                      },
                      {
                        "learn": [
                          0.01046960357
                        ],
                        "iteration": 845,
                        "passed_time": 15.94126152,
                        "remaining_time": 2.901837203
                      },
                      {
                        "learn": [
                          0.0104594648
                        ],
                        "iteration": 846,
                        "passed_time": 15.95974266,
                        "remaining_time": 2.882928722
                      },
                      {
                        "learn": [
                          0.01045632408
                        ],
                        "iteration": 847,
                        "passed_time": 15.97679328,
                        "remaining_time": 2.863764834
                      },
                      {
                        "learn": [
                          0.01044674328
                        ],
                        "iteration": 848,
                        "passed_time": 15.99086104,
                        "remaining_time": 2.844075404
                      },
                      {
                        "learn": [
                          0.01044429634
                        ],
                        "iteration": 849,
                        "passed_time": 16.00754315,
                        "remaining_time": 2.824860556
                      },
                      {
                        "learn": [
                          0.01043137556
                        ],
                        "iteration": 850,
                        "passed_time": 16.02255199,
                        "remaining_time": 2.805358692
                      },
                      {
                        "learn": [
                          0.01042749478
                        ],
                        "iteration": 851,
                        "passed_time": 16.03761105,
                        "remaining_time": 2.785876098
                      },
                      {
                        "learn": [
                          0.01042372939
                        ],
                        "iteration": 852,
                        "passed_time": 16.0521116,
                        "remaining_time": 2.766307626
                      },
                      {
                        "learn": [
                          0.01041031854
                        ],
                        "iteration": 853,
                        "passed_time": 16.06852486,
                        "remaining_time": 2.747078021
                      },
                      {
                        "learn": [
                          0.01040637955
                        ],
                        "iteration": 854,
                        "passed_time": 16.09373192,
                        "remaining_time": 2.729346348
                      },
                      {
                        "learn": [
                          0.0104061718
                        ],
                        "iteration": 855,
                        "passed_time": 16.11392407,
                        "remaining_time": 2.710753583
                      },
                      {
                        "learn": [
                          0.010401961
                        ],
                        "iteration": 856,
                        "passed_time": 16.1342615,
                        "remaining_time": 2.692181324
                      },
                      {
                        "learn": [
                          0.01039845308
                        ],
                        "iteration": 857,
                        "passed_time": 16.20094496,
                        "remaining_time": 2.681275273
                      },
                      {
                        "learn": [
                          0.01039277125
                        ],
                        "iteration": 858,
                        "passed_time": 16.24348986,
                        "remaining_time": 2.666277148
                      },
                      {
                        "learn": [
                          0.01038032761
                        ],
                        "iteration": 859,
                        "passed_time": 16.28695423,
                        "remaining_time": 2.651364642
                      },
                      {
                        "learn": [
                          0.01037185388
                        ],
                        "iteration": 860,
                        "passed_time": 16.32191115,
                        "remaining_time": 2.635012369
                      },
                      {
                        "learn": [
                          0.01035967194
                        ],
                        "iteration": 861,
                        "passed_time": 16.35604106,
                        "remaining_time": 2.618484532
                      },
                      {
                        "learn": [
                          0.01034322627
                        ],
                        "iteration": 862,
                        "passed_time": 16.4394867,
                        "remaining_time": 2.609744702
                      },
                      {
                        "learn": [
                          0.01034119908
                        ],
                        "iteration": 863,
                        "passed_time": 16.47095529,
                        "remaining_time": 2.592650369
                      },
                      {
                        "learn": [
                          0.01033770045
                        ],
                        "iteration": 864,
                        "passed_time": 16.500081,
                        "remaining_time": 2.57515715
                      },
                      {
                        "learn": [
                          0.01033000801
                        ],
                        "iteration": 865,
                        "passed_time": 16.53027661,
                        "remaining_time": 2.557802616
                      },
                      {
                        "learn": [
                          0.01031555354
                        ],
                        "iteration": 866,
                        "passed_time": 16.56767219,
                        "remaining_time": 2.541522954
                      },
                      {
                        "learn": [
                          0.01030209944
                        ],
                        "iteration": 867,
                        "passed_time": 16.65258825,
                        "remaining_time": 2.532421255
                      },
                      {
                        "learn": [
                          0.01027911385
                        ],
                        "iteration": 868,
                        "passed_time": 16.67809688,
                        "remaining_time": 2.514189519
                      },
                      {
                        "learn": [
                          0.01026726012
                        ],
                        "iteration": 869,
                        "passed_time": 16.6973141,
                        "remaining_time": 2.495000957
                      },
                      {
                        "learn": [
                          0.010248222
                        ],
                        "iteration": 870,
                        "passed_time": 16.72051538,
                        "remaining_time": 2.476402393
                      },
                      {
                        "learn": [
                          0.01023409048
                        ],
                        "iteration": 871,
                        "passed_time": 16.74246127,
                        "remaining_time": 2.457608994
                      },
                      {
                        "learn": [
                          0.01021674246
                        ],
                        "iteration": 872,
                        "passed_time": 16.76192117,
                        "remaining_time": 2.438446722
                      },
                      {
                        "learn": [
                          0.01021471931
                        ],
                        "iteration": 873,
                        "passed_time": 16.7742864,
                        "remaining_time": 2.418260968
                      },
                      {
                        "learn": [
                          0.0102017379
                        ],
                        "iteration": 874,
                        "passed_time": 16.79173238,
                        "remaining_time": 2.398818911
                      },
                      {
                        "learn": [
                          0.01018629986
                        ],
                        "iteration": 875,
                        "passed_time": 16.83752093,
                        "remaining_time": 2.383393374
                      },
                      {
                        "learn": [
                          0.01017809066
                        ],
                        "iteration": 876,
                        "passed_time": 16.85495598,
                        "remaining_time": 2.36392199
                      },
                      {
                        "learn": [
                          0.01017788291
                        ],
                        "iteration": 877,
                        "passed_time": 16.88631814,
                        "remaining_time": 2.346390448
                      },
                      {
                        "learn": [
                          0.01017045096
                        ],
                        "iteration": 878,
                        "passed_time": 16.91959824,
                        "remaining_time": 2.329091453
                      },
                      {
                        "learn": [
                          0.01015989951
                        ],
                        "iteration": 879,
                        "passed_time": 16.93834414,
                        "remaining_time": 2.309774201
                      },
                      {
                        "learn": [
                          0.0101524716
                        ],
                        "iteration": 880,
                        "passed_time": 16.98229391,
                        "remaining_time": 2.293862628
                      },
                      {
                        "learn": [
                          0.01014228109
                        ],
                        "iteration": 881,
                        "passed_time": 17.03738027,
                        "remaining_time": 2.279377405
                      },
                      {
                        "learn": [
                          0.01012804468
                        ],
                        "iteration": 882,
                        "passed_time": 17.08965349,
                        "remaining_time": 2.264427473
                      },
                      {
                        "learn": [
                          0.01011976374
                        ],
                        "iteration": 883,
                        "passed_time": 17.1153422,
                        "remaining_time": 2.245904632
                      },
                      {
                        "learn": [
                          0.01011240616
                        ],
                        "iteration": 884,
                        "passed_time": 17.13023221,
                        "remaining_time": 2.225962378
                      },
                      {
                        "learn": [
                          0.01011200925
                        ],
                        "iteration": 885,
                        "passed_time": 17.14698326,
                        "remaining_time": 2.206270984
                      },
                      {
                        "learn": [
                          0.01010130482
                        ],
                        "iteration": 886,
                        "passed_time": 17.18263541,
                        "remaining_time": 2.188994139
                      },
                      {
                        "learn": [
                          0.01009182264
                        ],
                        "iteration": 887,
                        "passed_time": 17.22145364,
                        "remaining_time": 2.172075234
                      },
                      {
                        "learn": [
                          0.01008619235
                        ],
                        "iteration": 888,
                        "passed_time": 17.24494651,
                        "remaining_time": 2.153193546
                      },
                      {
                        "learn": [
                          0.01007545901
                        ],
                        "iteration": 889,
                        "passed_time": 17.26019626,
                        "remaining_time": 2.133282684
                      },
                      {
                        "learn": [
                          0.01007205699
                        ],
                        "iteration": 890,
                        "passed_time": 17.28031281,
                        "remaining_time": 2.113977661
                      },
                      {
                        "learn": [
                          0.01005889289
                        ],
                        "iteration": 891,
                        "passed_time": 17.29824067,
                        "remaining_time": 2.094405821
                      },
                      {
                        "learn": [
                          0.01004000937
                        ],
                        "iteration": 892,
                        "passed_time": 17.31505565,
                        "remaining_time": 2.074704316
                      },
                      {
                        "learn": [
                          0.01002916812
                        ],
                        "iteration": 893,
                        "passed_time": 17.33212876,
                        "remaining_time": 2.055039876
                      },
                      {
                        "learn": [
                          0.01002281514
                        ],
                        "iteration": 894,
                        "passed_time": 17.34776716,
                        "remaining_time": 2.035212907
                      },
                      {
                        "learn": [
                          0.01001570431
                        ],
                        "iteration": 895,
                        "passed_time": 17.36589441,
                        "remaining_time": 2.015684172
                      },
                      {
                        "learn": [
                          0.01001472518
                        ],
                        "iteration": 896,
                        "passed_time": 17.38215709,
                        "remaining_time": 1.995944459
                      },
                      {
                        "learn": [
                          0.01001208706
                        ],
                        "iteration": 897,
                        "passed_time": 17.39631118,
                        "remaining_time": 1.975972985
                      },
                      {
                        "learn": [
                          0.01000665057
                        ],
                        "iteration": 898,
                        "passed_time": 17.41115861,
                        "remaining_time": 1.956092347
                      },
                      {
                        "learn": [
                          0.01000645495
                        ],
                        "iteration": 899,
                        "passed_time": 17.42496827,
                        "remaining_time": 1.936107586
                      },
                      {
                        "learn": [
                          0.009996250894
                        ],
                        "iteration": 900,
                        "passed_time": 17.44004869,
                        "remaining_time": 1.916276161
                      },
                      {
                        "learn": [
                          0.009980101281
                        ],
                        "iteration": 901,
                        "passed_time": 17.46189103,
                        "remaining_time": 1.897189935
                      },
                      {
                        "learn": [
                          0.009964901907
                        ],
                        "iteration": 902,
                        "passed_time": 17.48675956,
                        "remaining_time": 1.878422677
                      },
                      {
                        "learn": [
                          0.009957366082
                        ],
                        "iteration": 903,
                        "passed_time": 17.52214776,
                        "remaining_time": 1.860759054
                      },
                      {
                        "learn": [
                          0.009941172615
                        ],
                        "iteration": 904,
                        "passed_time": 17.6011945,
                        "remaining_time": 1.847639201
                      },
                      {
                        "learn": [
                          0.009926517476
                        ],
                        "iteration": 905,
                        "passed_time": 17.65142743,
                        "remaining_time": 1.831384302
                      },
                      {
                        "learn": [
                          0.009925602199
                        ],
                        "iteration": 906,
                        "passed_time": 17.7025938,
                        "remaining_time": 1.815150191
                      },
                      {
                        "learn": [
                          0.009914222373
                        ],
                        "iteration": 907,
                        "passed_time": 17.71953323,
                        "remaining_time": 1.795371208
                      },
                      {
                        "learn": [
                          0.009892449538
                        ],
                        "iteration": 908,
                        "passed_time": 17.73426442,
                        "remaining_time": 1.775377406
                      },
                      {
                        "learn": [
                          0.009885328406
                        ],
                        "iteration": 909,
                        "passed_time": 17.74908918,
                        "remaining_time": 1.755404425
                      },
                      {
                        "learn": [
                          0.009877292603
                        ],
                        "iteration": 910,
                        "passed_time": 17.76497565,
                        "remaining_time": 1.735546469
                      },
                      {
                        "learn": [
                          0.009868185509
                        ],
                        "iteration": 911,
                        "passed_time": 17.7797773,
                        "remaining_time": 1.715592547
                      },
                      {
                        "learn": [
                          0.009854535578
                        ],
                        "iteration": 912,
                        "passed_time": 17.79542921,
                        "remaining_time": 1.695730932
                      },
                      {
                        "learn": [
                          0.009842455299
                        ],
                        "iteration": 913,
                        "passed_time": 17.8118672,
                        "remaining_time": 1.675952494
                      },
                      {
                        "learn": [
                          0.009834447183
                        ],
                        "iteration": 914,
                        "passed_time": 17.82745888,
                        "remaining_time": 1.656102737
                      },
                      {
                        "learn": [
                          0.009822650844
                        ],
                        "iteration": 915,
                        "passed_time": 17.84472522,
                        "remaining_time": 1.63641585
                      },
                      {
                        "learn": [
                          0.009814260571
                        ],
                        "iteration": 916,
                        "passed_time": 17.85997529,
                        "remaining_time": 1.616551744
                      },
                      {
                        "learn": [
                          0.00980786293
                        ],
                        "iteration": 917,
                        "passed_time": 17.88789366,
                        "remaining_time": 1.597829282
                      },
                      {
                        "learn": [
                          0.009795508008
                        ],
                        "iteration": 918,
                        "passed_time": 17.92752058,
                        "remaining_time": 1.580118789
                      },
                      {
                        "learn": [
                          0.009793361382
                        ],
                        "iteration": 919,
                        "passed_time": 17.94528149,
                        "remaining_time": 1.56045926
                      },
                      {
                        "learn": [
                          0.009788891501
                        ],
                        "iteration": 920,
                        "passed_time": 17.99820423,
                        "remaining_time": 1.543819907
                      },
                      {
                        "learn": [
                          0.009786855419
                        ],
                        "iteration": 921,
                        "passed_time": 18.02682355,
                        "remaining_time": 1.52504581
                      },
                      {
                        "learn": [
                          0.009784772654
                        ],
                        "iteration": 922,
                        "passed_time": 18.04308249,
                        "remaining_time": 1.505219233
                      },
                      {
                        "learn": [
                          0.009782167885
                        ],
                        "iteration": 923,
                        "passed_time": 18.0642694,
                        "remaining_time": 1.485805708
                      },
                      {
                        "learn": [
                          0.009773950805
                        ],
                        "iteration": 924,
                        "passed_time": 18.09328899,
                        "remaining_time": 1.467023432
                      },
                      {
                        "learn": [
                          0.009761914785
                        ],
                        "iteration": 925,
                        "passed_time": 18.11093756,
                        "remaining_time": 1.447310345
                      },
                      {
                        "learn": [
                          0.009760273996
                        ],
                        "iteration": 926,
                        "passed_time": 18.13705046,
                        "remaining_time": 1.428268267
                      },
                      {
                        "learn": [
                          0.009758010762
                        ],
                        "iteration": 927,
                        "passed_time": 18.17022964,
                        "remaining_time": 1.409759196
                      },
                      {
                        "learn": [
                          0.009736834302
                        ],
                        "iteration": 928,
                        "passed_time": 18.23615295,
                        "remaining_time": 1.393721055
                      },
                      {
                        "learn": [
                          0.009731927497
                        ],
                        "iteration": 929,
                        "passed_time": 18.25894084,
                        "remaining_time": 1.374328881
                      },
                      {
                        "learn": [
                          0.009716383353
                        ],
                        "iteration": 930,
                        "passed_time": 18.27425323,
                        "remaining_time": 1.354375374
                      },
                      {
                        "learn": [
                          0.009698192203
                        ],
                        "iteration": 931,
                        "passed_time": 18.29015724,
                        "remaining_time": 1.334474991
                      },
                      {
                        "learn": [
                          0.009674301641
                        ],
                        "iteration": 932,
                        "passed_time": 18.30827566,
                        "remaining_time": 1.314742197
                      },
                      {
                        "learn": [
                          0.009660131321
                        ],
                        "iteration": 933,
                        "passed_time": 18.34319736,
                        "remaining_time": 1.296200242
                      },
                      {
                        "learn": [
                          0.009658360385
                        ],
                        "iteration": 934,
                        "passed_time": 18.39051964,
                        "remaining_time": 1.278485323
                      },
                      {
                        "learn": [
                          0.009648216961
                        ],
                        "iteration": 935,
                        "passed_time": 18.441844,
                        "remaining_time": 1.260980786
                      },
                      {
                        "learn": [
                          0.009633690959
                        ],
                        "iteration": 936,
                        "passed_time": 18.47113077,
                        "remaining_time": 1.241922346
                      },
                      {
                        "learn": [
                          0.009615260733
                        ],
                        "iteration": 937,
                        "passed_time": 18.4900627,
                        "remaining_time": 1.222157662
                      },
                      {
                        "learn": [
                          0.009595299252
                        ],
                        "iteration": 938,
                        "passed_time": 18.52130122,
                        "remaining_time": 1.203194222
                      },
                      {
                        "learn": [
                          0.009575174279
                        ],
                        "iteration": 939,
                        "passed_time": 18.58107986,
                        "remaining_time": 1.186026374
                      },
                      {
                        "learn": [
                          0.009565032269
                        ],
                        "iteration": 940,
                        "passed_time": 18.60862983,
                        "remaining_time": 1.166747248
                      },
                      {
                        "learn": [
                          0.009555456522
                        ],
                        "iteration": 941,
                        "passed_time": 18.6412323,
                        "remaining_time": 1.147761649
                      },
                      {
                        "learn": [
                          0.009548256978
                        ],
                        "iteration": 942,
                        "passed_time": 18.67489437,
                        "remaining_time": 1.128811219
                      },
                      {
                        "learn": [
                          0.00953593823
                        ],
                        "iteration": 943,
                        "passed_time": 18.73066912,
                        "remaining_time": 1.111141389
                      },
                      {
                        "learn": [
                          0.009521670906
                        ],
                        "iteration": 944,
                        "passed_time": 18.74669565,
                        "remaining_time": 1.091077525
                      },
                      {
                        "learn": [
                          0.009518883041
                        ],
                        "iteration": 945,
                        "passed_time": 18.7607917,
                        "remaining_time": 1.070912
                      },
                      {
                        "learn": [
                          0.009501471765
                        ],
                        "iteration": 946,
                        "passed_time": 18.77707406,
                        "remaining_time": 1.050881653
                      },
                      {
                        "learn": [
                          0.009499953242
                        ],
                        "iteration": 947,
                        "passed_time": 18.80962847,
                        "remaining_time": 1.031751773
                      },
                      {
                        "learn": [
                          0.009491356027
                        ],
                        "iteration": 948,
                        "passed_time": 18.8283089,
                        "remaining_time": 1.011848002
                      },
                      {
                        "learn": [
                          0.009475547951
                        ],
                        "iteration": 949,
                        "passed_time": 18.84445649,
                        "remaining_time": 0.9918134996
                      },
                      {
                        "learn": [
                          0.00947145093
                        ],
                        "iteration": 950,
                        "passed_time": 18.85890766,
                        "remaining_time": 0.9716997638
                      },
                      {
                        "learn": [
                          0.009455212801
                        ],
                        "iteration": 951,
                        "passed_time": 18.87600882,
                        "remaining_time": 0.9517315369
                      },
                      {
                        "learn": [
                          0.009452864285
                        ],
                        "iteration": 952,
                        "passed_time": 18.89147387,
                        "remaining_time": 0.931688638
                      },
                      {
                        "learn": [
                          0.009448914792
                        ],
                        "iteration": 953,
                        "passed_time": 18.90947083,
                        "remaining_time": 0.9117774193
                      },
                      {
                        "learn": [
                          0.009418864047
                        ],
                        "iteration": 954,
                        "passed_time": 18.92887886,
                        "remaining_time": 0.8919367004
                      },
                      {
                        "learn": [
                          0.009405596273
                        ],
                        "iteration": 955,
                        "passed_time": 18.94390757,
                        "remaining_time": 0.8718953277
                      },
                      {
                        "learn": [
                          0.009393547925
                        ],
                        "iteration": 956,
                        "passed_time": 18.97108946,
                        "remaining_time": 0.8524104982
                      },
                      {
                        "learn": [
                          0.009382298852
                        ],
                        "iteration": 957,
                        "passed_time": 19.0062716,
                        "remaining_time": 0.8332603417
                      },
                      {
                        "learn": [
                          0.009378454447
                        ],
                        "iteration": 958,
                        "passed_time": 19.02549383,
                        "remaining_time": 0.813394418
                      },
                      {
                        "learn": [
                          0.009374606001
                        ],
                        "iteration": 959,
                        "passed_time": 19.03811039,
                        "remaining_time": 0.7932545996
                      },
                      {
                        "learn": [
                          0.009368075787
                        ],
                        "iteration": 960,
                        "passed_time": 19.053495,
                        "remaining_time": 0.7732427732
                      },
                      {
                        "learn": [
                          0.009359442397
                        ],
                        "iteration": 961,
                        "passed_time": 19.0789225,
                        "remaining_time": 0.7536372713
                      },
                      {
                        "learn": [
                          0.009349023924
                        ],
                        "iteration": 962,
                        "passed_time": 19.09954815,
                        "remaining_time": 0.7338351833
                      },
                      {
                        "learn": [
                          0.009335009823
                        ],
                        "iteration": 963,
                        "passed_time": 19.12409599,
                        "remaining_time": 0.7141778586
                      },
                      {
                        "learn": [
                          0.009325322925
                        ],
                        "iteration": 964,
                        "passed_time": 19.140313,
                        "remaining_time": 0.6942082434
                      },
                      {
                        "learn": [
                          0.009313649458
                        ],
                        "iteration": 965,
                        "passed_time": 19.15570548,
                        "remaining_time": 0.6742173773
                      },
                      {
                        "learn": [
                          0.009306404241
                        ],
                        "iteration": 966,
                        "passed_time": 19.17135805,
                        "remaining_time": 0.6542448973
                      },
                      {
                        "learn": [
                          0.009295038966
                        ],
                        "iteration": 967,
                        "passed_time": 19.18659194,
                        "remaining_time": 0.6342675022
                      },
                      {
                        "learn": [
                          0.009287150489
                        ],
                        "iteration": 968,
                        "passed_time": 19.20219079,
                        "remaining_time": 0.6143115731
                      },
                      {
                        "learn": [
                          0.009273985378
                        ],
                        "iteration": 969,
                        "passed_time": 19.24700203,
                        "remaining_time": 0.595268104
                      },
                      {
                        "learn": [
                          0.009266407112
                        ],
                        "iteration": 970,
                        "passed_time": 19.28130829,
                        "remaining_time": 0.575857817
                      },
                      {
                        "learn": [
                          0.009254871675
                        ],
                        "iteration": 971,
                        "passed_time": 19.30095076,
                        "remaining_time": 0.5559944663
                      },
                      {
                        "learn": [
                          0.009241198301
                        ],
                        "iteration": 972,
                        "passed_time": 19.3173065,
                        "remaining_time": 0.5360403653
                      },
                      {
                        "learn": [
                          0.009224602468
                        ],
                        "iteration": 973,
                        "passed_time": 19.34007522,
                        "remaining_time": 0.5162648416
                      },
                      {
                        "learn": [
                          0.009222540721
                        ],
                        "iteration": 974,
                        "passed_time": 19.35972749,
                        "remaining_time": 0.496403269
                      },
                      {
                        "learn": [
                          0.009194639836
                        ],
                        "iteration": 975,
                        "passed_time": 19.37606931,
                        "remaining_time": 0.4764607207
                      },
                      {
                        "learn": [
                          0.009177163082
                        ],
                        "iteration": 976,
                        "passed_time": 19.39448349,
                        "remaining_time": 0.4565743298
                      },
                      {
                        "learn": [
                          0.009169799843
                        ],
                        "iteration": 977,
                        "passed_time": 19.40915704,
                        "remaining_time": 0.4366068045
                      },
                      {
                        "learn": [
                          0.009167770229
                        ],
                        "iteration": 978,
                        "passed_time": 19.42382409,
                        "remaining_time": 0.416649955
                      },
                      {
                        "learn": [
                          0.0091635855
                        ],
                        "iteration": 979,
                        "passed_time": 19.4461168,
                        "remaining_time": 0.3968595264
                      },
                      {
                        "learn": [
                          0.009154026527
                        ],
                        "iteration": 980,
                        "passed_time": 19.46141483,
                        "remaining_time": 0.3769285236
                      },
                      {
                        "learn": [
                          0.009150446459
                        ],
                        "iteration": 981,
                        "passed_time": 19.47702209,
                        "remaining_time": 0.3570126248
                      },
                      {
                        "learn": [
                          0.009148772527
                        ],
                        "iteration": 982,
                        "passed_time": 19.49118405,
                        "remaining_time": 0.3370804973
                      },
                      {
                        "learn": [
                          0.009146422394
                        ],
                        "iteration": 983,
                        "passed_time": 19.50605865,
                        "remaining_time": 0.3171716853
                      },
                      {
                        "learn": [
                          0.009135869934
                        ],
                        "iteration": 984,
                        "passed_time": 19.52057599,
                        "remaining_time": 0.2972676546
                      },
                      {
                        "learn": [
                          0.009124256893
                        ],
                        "iteration": 985,
                        "passed_time": 19.53549692,
                        "remaining_time": 0.2773802807
                      },
                      {
                        "learn": [
                          0.009114280599
                        ],
                        "iteration": 986,
                        "passed_time": 19.55105405,
                        "remaining_time": 0.2575113502
                      },
                      {
                        "learn": [
                          0.009099015747
                        ],
                        "iteration": 987,
                        "passed_time": 19.5665565,
                        "remaining_time": 0.2376504838
                      },
                      {
                        "learn": [
                          0.009089222751
                        ],
                        "iteration": 988,
                        "passed_time": 19.58695629,
                        "remaining_time": 0.2178529011
                      },
                      {
                        "learn": [
                          0.009081494129
                        ],
                        "iteration": 989,
                        "passed_time": 19.6019488,
                        "remaining_time": 0.1979994828
                      },
                      {
                        "learn": [
                          0.009081193415
                        ],
                        "iteration": 990,
                        "passed_time": 19.62279096,
                        "remaining_time": 0.1782089997
                      },
                      {
                        "learn": [
                          0.009074424328
                        ],
                        "iteration": 991,
                        "passed_time": 19.65988982,
                        "remaining_time": 0.1585474986
                      },
                      {
                        "learn": [
                          0.009069791965
                        ],
                        "iteration": 992,
                        "passed_time": 19.67895658,
                        "remaining_time": 0.1387237624
                      },
                      {
                        "learn": [
                          0.009067903007
                        ],
                        "iteration": 993,
                        "passed_time": 19.70001906,
                        "remaining_time": 0.1189135959
                      },
                      {
                        "learn": [
                          0.009059635
                        ],
                        "iteration": 994,
                        "passed_time": 19.73957322,
                        "remaining_time": 0.09919383525
                      },
                      {
                        "learn": [
                          0.009057982288
                        ],
                        "iteration": 995,
                        "passed_time": 19.75903964,
                        "remaining_time": 0.07935357286
                      },
                      {
                        "learn": [
                          0.009048797792
                        ],
                        "iteration": 996,
                        "passed_time": 19.77684959,
                        "remaining_time": 0.05950907599
                      },
                      {
                        "learn": [
                          0.009034461959
                        ],
                        "iteration": 997,
                        "passed_time": 19.80108711,
                        "remaining_time": 0.0396815373
                      },
                      {
                        "learn": [
                          0.009034199239
                        ],
                        "iteration": 998,
                        "passed_time": 19.82708486,
                        "remaining_time": 0.01984693179
                      },
                      {
                        "learn": [
                          0.00902634148
                        ],
                        "iteration": 999,
                        "passed_time": 19.84722915,
                        "remaining_time": 0
                      }
                    ],
                    "meta": {
                      "test_sets": [],
                      "test_metrics": [],
                      "learn_metrics": [
                        {
                          "best_value": "Min",
                          "name": "Logloss"
                        }
                      ],
                      "launch_mode": "Train",
                      "parameters": "",
                      "iteration_count": 1000,
                      "learn_sets": [
                        "learn"
                      ],
                      "name": "experiment"
                    }
                  }
                }
              }
            },
            "layout": "IPY_MODEL_9587a7e92cce45c8b95f4030f63fc676"
          }
        }
      }
    }
  },
  "cells": [
    {
      "cell_type": "markdown",
      "metadata": {
        "id": "view-in-github",
        "colab_type": "text"
      },
      "source": [
        "<a href=\"https://colab.research.google.com/github/dolmani38/drift/blob/main/kaggle_api_in_colab_0709.ipynb\" target=\"_parent\"><img src=\"https://colab.research.google.com/assets/colab-badge.svg\" alt=\"Open In Colab\"/></a>"
      ]
    },
    {
      "metadata": {
        "id": "DIf2PtekjPtY"
      },
      "cell_type": "markdown",
      "source": [
        "# Installing the [Kaggle API](https://github.com/Kaggle/kaggle-api) in Colab"
      ]
    },
    {
      "metadata": {
        "id": "OppyMnCuWjzJ",
        "colab": {
          "base_uri": "https://localhost:8080/"
        },
        "outputId": "664a002c-74dc-4b74-b01b-a7264235af3c"
      },
      "cell_type": "code",
      "source": [
        "!pip install kaggle"
      ],
      "execution_count": null,
      "outputs": [
        {
          "output_type": "stream",
          "name": "stdout",
          "text": [
            "Looking in indexes: https://pypi.org/simple, https://us-python.pkg.dev/colab-wheels/public/simple/\n",
            "Requirement already satisfied: kaggle in /usr/local/lib/python3.7/dist-packages (1.5.12)\n",
            "Requirement already satisfied: tqdm in /usr/local/lib/python3.7/dist-packages (from kaggle) (4.64.0)\n",
            "Requirement already satisfied: six>=1.10 in /usr/local/lib/python3.7/dist-packages (from kaggle) (1.15.0)\n",
            "Requirement already satisfied: requests in /usr/local/lib/python3.7/dist-packages (from kaggle) (2.23.0)\n",
            "Requirement already satisfied: python-dateutil in /usr/local/lib/python3.7/dist-packages (from kaggle) (2.8.2)\n",
            "Requirement already satisfied: python-slugify in /usr/local/lib/python3.7/dist-packages (from kaggle) (6.1.2)\n",
            "Requirement already satisfied: urllib3 in /usr/local/lib/python3.7/dist-packages (from kaggle) (1.24.3)\n",
            "Requirement already satisfied: certifi in /usr/local/lib/python3.7/dist-packages (from kaggle) (2022.6.15)\n",
            "Requirement already satisfied: text-unidecode>=1.3 in /usr/local/lib/python3.7/dist-packages (from python-slugify->kaggle) (1.3)\n",
            "Requirement already satisfied: idna<3,>=2.5 in /usr/local/lib/python3.7/dist-packages (from requests->kaggle) (2.10)\n",
            "Requirement already satisfied: chardet<4,>=3.0.2 in /usr/local/lib/python3.7/dist-packages (from requests->kaggle) (3.0.4)\n"
          ]
        }
      ]
    },
    {
      "metadata": {
        "id": "hMY4CFezjcG-"
      },
      "cell_type": "markdown",
      "source": [
        "# Authenticating with Kaggle using kaggle.json\n",
        "\n",
        "Navigate to https://www.kaggle.com. Then go to the [Account tab of your user profile](https://www.kaggle.com/me/account) and select Create API Token. This will trigger the download of kaggle.json, a file containing your API credentials.\n",
        "\n",
        "Then run the cell below to upload kaggle.json to your Colab runtime."
      ]
    },
    {
      "metadata": {
        "id": "0HtGf0HEXEa5",
        "outputId": "9874f310-1ab8-49a0-bfff-778dcaa551cb",
        "colab": {
          "resources": {
            "http://localhost:8080/nbextensions/google.colab/files.js": {
              "data": "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",
              "ok": true,
              "headers": [
                [
                  "content-type",
                  "application/javascript"
                ]
              ],
              "status": 200,
              "status_text": ""
            }
          },
          "base_uri": "https://localhost:8080/",
          "height": 95
        }
      },
      "cell_type": "code",
      "source": [
        "from google.colab import files\n",
        "\n",
        "uploaded = files.upload()\n",
        "\n",
        "for fn in uploaded.keys():\n",
        "  print('User uploaded file \"{name}\" with length {length} bytes'.format(\n",
        "      name=fn, length=len(uploaded[fn])))\n",
        "  \n",
        "# Then move kaggle.json into the folder where the API expects to find it.\n",
        "!mkdir -p ~/.kaggle/ && mv kaggle.json ~/.kaggle/ && chmod 600 ~/.kaggle/kaggle.json"
      ],
      "execution_count": 1,
      "outputs": [
        {
          "output_type": "display_data",
          "data": {
            "text/plain": [
              "<IPython.core.display.HTML object>"
            ],
            "text/html": [
              "\n",
              "     <input type=\"file\" id=\"files-ec58af07-44b0-4a55-8541-8b59b19d98e3\" name=\"files[]\" multiple disabled\n",
              "        style=\"border:none\" />\n",
              "     <output id=\"result-ec58af07-44b0-4a55-8541-8b59b19d98e3\">\n",
              "      Upload widget is only available when the cell has been executed in the\n",
              "      current browser session. Please rerun this cell to enable.\n",
              "      </output>\n",
              "      <script src=\"/nbextensions/google.colab/files.js\"></script> "
            ]
          },
          "metadata": {}
        },
        {
          "output_type": "stream",
          "name": "stdout",
          "text": [
            "Saving kaggle.json to kaggle.json\n",
            "User uploaded file \"kaggle.json\" with length 66 bytes\n"
          ]
        }
      ]
    },
    {
      "metadata": {
        "id": "HMk7Zz4ZkpCe"
      },
      "cell_type": "markdown",
      "source": [
        "# Using the Kaggle API\n",
        "\n",
        "For a more complete list of what you can do with the API, visit https://github.com/Kaggle/kaggle-api."
      ]
    },
    {
      "metadata": {
        "id": "SHVqmMXfilWG"
      },
      "cell_type": "markdown",
      "source": [
        "## Listing competitions"
      ]
    },
    {
      "metadata": {
        "id": "Oqt7Yfi5aQuM",
        "outputId": "3c715653-e76c-476e-c944-8de323d69a65",
        "colab": {
          "base_uri": "https://localhost:8080/"
        }
      },
      "cell_type": "code",
      "source": [
        "!kaggle competitions list"
      ],
      "execution_count": null,
      "outputs": [
        {
          "output_type": "stream",
          "name": "stdout",
          "text": [
            "ref                                            deadline             category            reward  teamCount  userHasEntered  \n",
            "---------------------------------------------  -------------------  ---------------  ---------  ---------  --------------  \n",
            "contradictory-my-dear-watson                   2030-07-01 23:59:00  Getting Started     Prizes         41           False  \n",
            "gan-getting-started                            2030-07-01 23:59:00  Getting Started     Prizes        131           False  \n",
            "store-sales-time-series-forecasting            2030-06-30 23:59:00  Getting Started  Knowledge        676           False  \n",
            "tpu-getting-started                            2030-06-03 23:59:00  Getting Started  Knowledge        134           False  \n",
            "digit-recognizer                               2030-01-01 00:00:00  Getting Started  Knowledge       1551           False  \n",
            "titanic                                        2030-01-01 00:00:00  Getting Started  Knowledge      14101           False  \n",
            "house-prices-advanced-regression-techniques    2030-01-01 00:00:00  Getting Started  Knowledge       4239           False  \n",
            "connectx                                       2030-01-01 00:00:00  Getting Started  Knowledge        192           False  \n",
            "nlp-getting-started                            2030-01-01 00:00:00  Getting Started  Knowledge        951           False  \n",
            "spaceship-titanic                              2030-01-01 00:00:00  Getting Started  Knowledge       2307           False  \n",
            "competitive-data-science-predict-future-sales  2022-12-31 23:59:00  Playground           Kudos      14967           False  \n",
            "amex-default-prediction                        2022-08-24 23:59:00  Featured          $100,000       1368           False  \n",
            "feedback-prize-effectiveness                   2022-08-23 23:59:00  Featured           $55,000        385           False  \n",
            "AI4Code                                        2022-08-11 23:59:00  Featured          $150,000        574           False  \n",
            "smartphone-decimeter-2022                      2022-07-29 23:59:00  Research           $10,000        290           False  \n",
            "ubiquant-market-prediction                     2022-07-18 23:59:00  Featured          $100,000       2459           False  \n",
            "uw-madison-gi-tract-image-segmentation         2022-07-14 23:59:00  Research           $25,000       1207           False  \n",
            "kore-2022                                      2022-07-12 23:59:00  Featured           $15,000        365           False  \n",
            "foursquare-location-matching                   2022-07-07 23:59:00  Featured           $25,000        895           False  \n",
            "jpx-tokyo-stock-exchange-prediction            2022-07-05 23:59:00  Featured           $63,000       1698           False  \n"
          ]
        }
      ]
    },
    {
      "metadata": {
        "id": "dNke00r6ig3h"
      },
      "cell_type": "markdown",
      "source": [
        "## Downloading a dataset"
      ]
    },
    {
      "metadata": {
        "id": "Aojvqv8Gaf8I",
        "colab": {
          "base_uri": "https://localhost:8080/"
        },
        "outputId": "9ae331cc-72be-4c5a-dc01-67ce1a4723e8"
      },
      "cell_type": "code",
      "source": [
        "!kaggle datasets download \"kartik2112/fraud-detection\""
      ],
      "execution_count": null,
      "outputs": [
        {
          "output_type": "stream",
          "name": "stdout",
          "text": [
            "Downloading fraud-detection.zip to /content\n",
            " 97% 195M/202M [00:01<00:00, 130MB/s]\n",
            "100% 202M/202M [00:01<00:00, 121MB/s]\n"
          ]
        }
      ]
    },
    {
      "metadata": {
        "id": "DsyV01gDaxls",
        "colab": {
          "base_uri": "https://localhost:8080/"
        },
        "outputId": "6f299ec6-c2b3-448d-a7e3-8d6a4303e0ed"
      },
      "cell_type": "code",
      "source": [
        "!unzip fraud-detection.zip"
      ],
      "execution_count": null,
      "outputs": [
        {
          "output_type": "stream",
          "name": "stdout",
          "text": [
            "Archive:  fraud-detection.zip\n",
            "  inflating: fraudTest.csv           \n",
            "  inflating: fraudTrain.csv          \n"
          ]
        }
      ]
    },
    {
      "metadata": {
        "id": "L7ZmFbHybsPk"
      },
      "cell_type": "code",
      "source": [
        "import pandas as pd \n",
        "\n",
        "train = pd.read_csv('fraudTrain.csv')\n",
        "test = pd.read_csv('fraudTest.csv')"
      ],
      "execution_count": null,
      "outputs": []
    },
    {
      "cell_type": "code",
      "source": [
        "#Concatenate the splitted data\n",
        "df = pd.concat([train,test],ignore_index=True)\n",
        "df.drop('Unnamed: 0',axis=1,inplace=True)"
      ],
      "metadata": {
        "id": "LHcma5xSeX69"
      },
      "execution_count": null,
      "outputs": []
    },
    {
      "cell_type": "code",
      "source": [
        "df.head()"
      ],
      "metadata": {
        "colab": {
          "base_uri": "https://localhost:8080/",
          "height": 577
        },
        "id": "Fzv0Q3kDe1fj",
        "outputId": "13e3dee7-0c88-498c-f4b9-47cabde09422"
      },
      "execution_count": null,
      "outputs": [
        {
          "output_type": "execute_result",
          "data": {
            "text/plain": [
              "  trans_date_trans_time            cc_num                            merchant  \\\n",
              "0   2019-01-01 00:00:18  2703186189652095          fraud_Rippin, Kub and Mann   \n",
              "1   2019-01-01 00:00:44      630423337322     fraud_Heller, Gutmann and Zieme   \n",
              "2   2019-01-01 00:00:51    38859492057661                fraud_Lind-Buckridge   \n",
              "3   2019-01-01 00:01:16  3534093764340240  fraud_Kutch, Hermiston and Farrell   \n",
              "4   2019-01-01 00:03:06   375534208663984                 fraud_Keeling-Crist   \n",
              "\n",
              "        category     amt      first     last gender  \\\n",
              "0       misc_net    4.97   Jennifer    Banks      F   \n",
              "1    grocery_pos  107.23  Stephanie     Gill      F   \n",
              "2  entertainment  220.11     Edward  Sanchez      M   \n",
              "3  gas_transport   45.00     Jeremy    White      M   \n",
              "4       misc_pos   41.96      Tyler   Garcia      M   \n",
              "\n",
              "                         street            city  ...      lat      long  \\\n",
              "0                561 Perry Cove  Moravian Falls  ...  36.0788  -81.1781   \n",
              "1  43039 Riley Greens Suite 393          Orient  ...  48.8878 -118.2105   \n",
              "2      594 White Dale Suite 530      Malad City  ...  42.1808 -112.2620   \n",
              "3   9443 Cynthia Court Apt. 038         Boulder  ...  46.2306 -112.1138   \n",
              "4              408 Bradley Rest        Doe Hill  ...  38.4207  -79.4629   \n",
              "\n",
              "   city_pop                                job         dob  \\\n",
              "0      3495          Psychologist, counselling  1988-03-09   \n",
              "1       149  Special educational needs teacher  1978-06-21   \n",
              "2      4154        Nature conservation officer  1962-01-19   \n",
              "3      1939                    Patent attorney  1967-01-12   \n",
              "4        99     Dance movement psychotherapist  1986-03-28   \n",
              "\n",
              "                          trans_num   unix_time  merch_lat  merch_long  \\\n",
              "0  0b242abb623afc578575680df30655b9  1325376018  36.011293  -82.048315   \n",
              "1  1f76529f8574734946361c461b024d99  1325376044  49.159047 -118.186462   \n",
              "2  a1a22d70485983eac12b5b88dad1cf95  1325376051  43.150704 -112.154481   \n",
              "3  6b849c168bdad6f867558c3793159a81  1325376076  47.034331 -112.561071   \n",
              "4  a41d7549acf90789359a9aa5346dcb46  1325376186  38.674999  -78.632459   \n",
              "\n",
              "   is_fraud  \n",
              "0         0  \n",
              "1         0  \n",
              "2         0  \n",
              "3         0  \n",
              "4         0  \n",
              "\n",
              "[5 rows x 22 columns]"
            ],
            "text/html": [
              "\n",
              "  <div id=\"df-5797f5b6-7f8e-4580-9bb6-d4e71e6a8393\">\n",
              "    <div class=\"colab-df-container\">\n",
              "      <div>\n",
              "<style scoped>\n",
              "    .dataframe tbody tr th:only-of-type {\n",
              "        vertical-align: middle;\n",
              "    }\n",
              "\n",
              "    .dataframe tbody tr th {\n",
              "        vertical-align: top;\n",
              "    }\n",
              "\n",
              "    .dataframe thead th {\n",
              "        text-align: right;\n",
              "    }\n",
              "</style>\n",
              "<table border=\"1\" class=\"dataframe\">\n",
              "  <thead>\n",
              "    <tr style=\"text-align: right;\">\n",
              "      <th></th>\n",
              "      <th>trans_date_trans_time</th>\n",
              "      <th>cc_num</th>\n",
              "      <th>merchant</th>\n",
              "      <th>category</th>\n",
              "      <th>amt</th>\n",
              "      <th>first</th>\n",
              "      <th>last</th>\n",
              "      <th>gender</th>\n",
              "      <th>street</th>\n",
              "      <th>city</th>\n",
              "      <th>...</th>\n",
              "      <th>lat</th>\n",
              "      <th>long</th>\n",
              "      <th>city_pop</th>\n",
              "      <th>job</th>\n",
              "      <th>dob</th>\n",
              "      <th>trans_num</th>\n",
              "      <th>unix_time</th>\n",
              "      <th>merch_lat</th>\n",
              "      <th>merch_long</th>\n",
              "      <th>is_fraud</th>\n",
              "    </tr>\n",
              "  </thead>\n",
              "  <tbody>\n",
              "    <tr>\n",
              "      <th>0</th>\n",
              "      <td>2019-01-01 00:00:18</td>\n",
              "      <td>2703186189652095</td>\n",
              "      <td>fraud_Rippin, Kub and Mann</td>\n",
              "      <td>misc_net</td>\n",
              "      <td>4.97</td>\n",
              "      <td>Jennifer</td>\n",
              "      <td>Banks</td>\n",
              "      <td>F</td>\n",
              "      <td>561 Perry Cove</td>\n",
              "      <td>Moravian Falls</td>\n",
              "      <td>...</td>\n",
              "      <td>36.0788</td>\n",
              "      <td>-81.1781</td>\n",
              "      <td>3495</td>\n",
              "      <td>Psychologist, counselling</td>\n",
              "      <td>1988-03-09</td>\n",
              "      <td>0b242abb623afc578575680df30655b9</td>\n",
              "      <td>1325376018</td>\n",
              "      <td>36.011293</td>\n",
              "      <td>-82.048315</td>\n",
              "      <td>0</td>\n",
              "    </tr>\n",
              "    <tr>\n",
              "      <th>1</th>\n",
              "      <td>2019-01-01 00:00:44</td>\n",
              "      <td>630423337322</td>\n",
              "      <td>fraud_Heller, Gutmann and Zieme</td>\n",
              "      <td>grocery_pos</td>\n",
              "      <td>107.23</td>\n",
              "      <td>Stephanie</td>\n",
              "      <td>Gill</td>\n",
              "      <td>F</td>\n",
              "      <td>43039 Riley Greens Suite 393</td>\n",
              "      <td>Orient</td>\n",
              "      <td>...</td>\n",
              "      <td>48.8878</td>\n",
              "      <td>-118.2105</td>\n",
              "      <td>149</td>\n",
              "      <td>Special educational needs teacher</td>\n",
              "      <td>1978-06-21</td>\n",
              "      <td>1f76529f8574734946361c461b024d99</td>\n",
              "      <td>1325376044</td>\n",
              "      <td>49.159047</td>\n",
              "      <td>-118.186462</td>\n",
              "      <td>0</td>\n",
              "    </tr>\n",
              "    <tr>\n",
              "      <th>2</th>\n",
              "      <td>2019-01-01 00:00:51</td>\n",
              "      <td>38859492057661</td>\n",
              "      <td>fraud_Lind-Buckridge</td>\n",
              "      <td>entertainment</td>\n",
              "      <td>220.11</td>\n",
              "      <td>Edward</td>\n",
              "      <td>Sanchez</td>\n",
              "      <td>M</td>\n",
              "      <td>594 White Dale Suite 530</td>\n",
              "      <td>Malad City</td>\n",
              "      <td>...</td>\n",
              "      <td>42.1808</td>\n",
              "      <td>-112.2620</td>\n",
              "      <td>4154</td>\n",
              "      <td>Nature conservation officer</td>\n",
              "      <td>1962-01-19</td>\n",
              "      <td>a1a22d70485983eac12b5b88dad1cf95</td>\n",
              "      <td>1325376051</td>\n",
              "      <td>43.150704</td>\n",
              "      <td>-112.154481</td>\n",
              "      <td>0</td>\n",
              "    </tr>\n",
              "    <tr>\n",
              "      <th>3</th>\n",
              "      <td>2019-01-01 00:01:16</td>\n",
              "      <td>3534093764340240</td>\n",
              "      <td>fraud_Kutch, Hermiston and Farrell</td>\n",
              "      <td>gas_transport</td>\n",
              "      <td>45.00</td>\n",
              "      <td>Jeremy</td>\n",
              "      <td>White</td>\n",
              "      <td>M</td>\n",
              "      <td>9443 Cynthia Court Apt. 038</td>\n",
              "      <td>Boulder</td>\n",
              "      <td>...</td>\n",
              "      <td>46.2306</td>\n",
              "      <td>-112.1138</td>\n",
              "      <td>1939</td>\n",
              "      <td>Patent attorney</td>\n",
              "      <td>1967-01-12</td>\n",
              "      <td>6b849c168bdad6f867558c3793159a81</td>\n",
              "      <td>1325376076</td>\n",
              "      <td>47.034331</td>\n",
              "      <td>-112.561071</td>\n",
              "      <td>0</td>\n",
              "    </tr>\n",
              "    <tr>\n",
              "      <th>4</th>\n",
              "      <td>2019-01-01 00:03:06</td>\n",
              "      <td>375534208663984</td>\n",
              "      <td>fraud_Keeling-Crist</td>\n",
              "      <td>misc_pos</td>\n",
              "      <td>41.96</td>\n",
              "      <td>Tyler</td>\n",
              "      <td>Garcia</td>\n",
              "      <td>M</td>\n",
              "      <td>408 Bradley Rest</td>\n",
              "      <td>Doe Hill</td>\n",
              "      <td>...</td>\n",
              "      <td>38.4207</td>\n",
              "      <td>-79.4629</td>\n",
              "      <td>99</td>\n",
              "      <td>Dance movement psychotherapist</td>\n",
              "      <td>1986-03-28</td>\n",
              "      <td>a41d7549acf90789359a9aa5346dcb46</td>\n",
              "      <td>1325376186</td>\n",
              "      <td>38.674999</td>\n",
              "      <td>-78.632459</td>\n",
              "      <td>0</td>\n",
              "    </tr>\n",
              "  </tbody>\n",
              "</table>\n",
              "<p>5 rows × 22 columns</p>\n",
              "</div>\n",
              "      <button class=\"colab-df-convert\" onclick=\"convertToInteractive('df-5797f5b6-7f8e-4580-9bb6-d4e71e6a8393')\"\n",
              "              title=\"Convert this dataframe to an interactive table.\"\n",
              "              style=\"display:none;\">\n",
              "        \n",
              "  <svg xmlns=\"http://www.w3.org/2000/svg\" height=\"24px\"viewBox=\"0 0 24 24\"\n",
              "       width=\"24px\">\n",
              "    <path d=\"M0 0h24v24H0V0z\" fill=\"none\"/>\n",
              "    <path d=\"M18.56 5.44l.94 2.06.94-2.06 2.06-.94-2.06-.94-.94-2.06-.94 2.06-2.06.94zm-11 1L8.5 8.5l.94-2.06 2.06-.94-2.06-.94L8.5 2.5l-.94 2.06-2.06.94zm10 10l.94 2.06.94-2.06 2.06-.94-2.06-.94-.94-2.06-.94 2.06-2.06.94z\"/><path d=\"M17.41 7.96l-1.37-1.37c-.4-.4-.92-.59-1.43-.59-.52 0-1.04.2-1.43.59L10.3 9.45l-7.72 7.72c-.78.78-.78 2.05 0 2.83L4 21.41c.39.39.9.59 1.41.59.51 0 1.02-.2 1.41-.59l7.78-7.78 2.81-2.81c.8-.78.8-2.07 0-2.86zM5.41 20L4 18.59l7.72-7.72 1.47 1.35L5.41 20z\"/>\n",
              "  </svg>\n",
              "      </button>\n",
              "      \n",
              "  <style>\n",
              "    .colab-df-container {\n",
              "      display:flex;\n",
              "      flex-wrap:wrap;\n",
              "      gap: 12px;\n",
              "    }\n",
              "\n",
              "    .colab-df-convert {\n",
              "      background-color: #E8F0FE;\n",
              "      border: none;\n",
              "      border-radius: 50%;\n",
              "      cursor: pointer;\n",
              "      display: none;\n",
              "      fill: #1967D2;\n",
              "      height: 32px;\n",
              "      padding: 0 0 0 0;\n",
              "      width: 32px;\n",
              "    }\n",
              "\n",
              "    .colab-df-convert:hover {\n",
              "      background-color: #E2EBFA;\n",
              "      box-shadow: 0px 1px 2px rgba(60, 64, 67, 0.3), 0px 1px 3px 1px rgba(60, 64, 67, 0.15);\n",
              "      fill: #174EA6;\n",
              "    }\n",
              "\n",
              "    [theme=dark] .colab-df-convert {\n",
              "      background-color: #3B4455;\n",
              "      fill: #D2E3FC;\n",
              "    }\n",
              "\n",
              "    [theme=dark] .colab-df-convert:hover {\n",
              "      background-color: #434B5C;\n",
              "      box-shadow: 0px 1px 3px 1px rgba(0, 0, 0, 0.15);\n",
              "      filter: drop-shadow(0px 1px 2px rgba(0, 0, 0, 0.3));\n",
              "      fill: #FFFFFF;\n",
              "    }\n",
              "  </style>\n",
              "\n",
              "      <script>\n",
              "        const buttonEl =\n",
              "          document.querySelector('#df-5797f5b6-7f8e-4580-9bb6-d4e71e6a8393 button.colab-df-convert');\n",
              "        buttonEl.style.display =\n",
              "          google.colab.kernel.accessAllowed ? 'block' : 'none';\n",
              "\n",
              "        async function convertToInteractive(key) {\n",
              "          const element = document.querySelector('#df-5797f5b6-7f8e-4580-9bb6-d4e71e6a8393');\n",
              "          const dataTable =\n",
              "            await google.colab.kernel.invokeFunction('convertToInteractive',\n",
              "                                                     [key], {});\n",
              "          if (!dataTable) return;\n",
              "\n",
              "          const docLinkHtml = 'Like what you see? Visit the ' +\n",
              "            '<a target=\"_blank\" href=https://colab.research.google.com/notebooks/data_table.ipynb>data table notebook</a>'\n",
              "            + ' to learn more about interactive tables.';\n",
              "          element.innerHTML = '';\n",
              "          dataTable['output_type'] = 'display_data';\n",
              "          await google.colab.output.renderOutput(dataTable, element);\n",
              "          const docLink = document.createElement('div');\n",
              "          docLink.innerHTML = docLinkHtml;\n",
              "          element.appendChild(docLink);\n",
              "        }\n",
              "      </script>\n",
              "    </div>\n",
              "  </div>\n",
              "  "
            ]
          },
          "metadata": {},
          "execution_count": 7
        }
      ]
    },
    {
      "cell_type": "code",
      "source": [
        "#Shape of the data (rows,columns)\n",
        "df.shape"
      ],
      "metadata": {
        "colab": {
          "base_uri": "https://localhost:8080/"
        },
        "id": "MXfFCI15e27z",
        "outputId": "18747feb-c722-4e6a-b8c7-5cb01653ad94"
      },
      "execution_count": null,
      "outputs": [
        {
          "output_type": "execute_result",
          "data": {
            "text/plain": [
              "(1852394, 22)"
            ]
          },
          "metadata": {},
          "execution_count": 8
        }
      ]
    },
    {
      "cell_type": "code",
      "source": [
        "#Finding dtypes and other basic info about the features\n",
        "df.info()"
      ],
      "metadata": {
        "colab": {
          "base_uri": "https://localhost:8080/"
        },
        "id": "WO8uiCuce6u2",
        "outputId": "d0250d72-1c5a-40bf-9eca-90a32acbf06f"
      },
      "execution_count": null,
      "outputs": [
        {
          "output_type": "stream",
          "name": "stdout",
          "text": [
            "<class 'pandas.core.frame.DataFrame'>\n",
            "RangeIndex: 1852394 entries, 0 to 1852393\n",
            "Data columns (total 22 columns):\n",
            " #   Column                 Dtype  \n",
            "---  ------                 -----  \n",
            " 0   trans_date_trans_time  object \n",
            " 1   cc_num                 int64  \n",
            " 2   merchant               object \n",
            " 3   category               object \n",
            " 4   amt                    float64\n",
            " 5   first                  object \n",
            " 6   last                   object \n",
            " 7   gender                 object \n",
            " 8   street                 object \n",
            " 9   city                   object \n",
            " 10  state                  object \n",
            " 11  zip                    int64  \n",
            " 12  lat                    float64\n",
            " 13  long                   float64\n",
            " 14  city_pop               int64  \n",
            " 15  job                    object \n",
            " 16  dob                    object \n",
            " 17  trans_num              object \n",
            " 18  unix_time              int64  \n",
            " 19  merch_lat              float64\n",
            " 20  merch_long             float64\n",
            " 21  is_fraud               int64  \n",
            "dtypes: float64(5), int64(5), object(12)\n",
            "memory usage: 310.9+ MB\n"
          ]
        }
      ]
    },
    {
      "cell_type": "code",
      "source": [
        "import numpy as np # linear algebra\n",
        "import pandas as pd # data processing, CSV file I/O (e.g. pd.read_csv)\n",
        "\n",
        "import matplotlib.pyplot as plt###\n",
        "                               ### Visualisation tools\n",
        "import seaborn as sns          ###\n",
        "\n",
        "from sklearn.linear_model import LinearRegression,LogisticRegression,SGDRegressor , Ridge,Lasso\n",
        "from sklearn.model_selection import train_test_split,GridSearchCV\n",
        "from sklearn.preprocessing import LabelEncoder,StandardScaler\n",
        "from warnings import filterwarnings\n",
        "filterwarnings('ignore')\n",
        "from sklearn.metrics import accuracy_score,precision_score,confusion_matrix\n",
        "from sklearn.metrics import classification_report,roc_curve,roc_auc_score\n",
        "from sklearn.neighbors import KNeighborsClassifier\n",
        "from sklearn.naive_bayes import GaussianNB\n",
        "\n",
        "# Input data files are available in the read-only \"../input/\" directory\n",
        "# For example, running this (by clicking run or pressing Shift+Enter) will list all files under the input directory\n",
        "\n",
        "import os"
      ],
      "metadata": {
        "id": "_AGpHx6QfJ9w"
      },
      "execution_count": null,
      "outputs": []
    },
    {
      "cell_type": "code",
      "source": [
        "#dividing data into categorical and numerical\n",
        "df_cat = df.select_dtypes(include = 'object')\n",
        "df_num = df.select_dtypes(exclude = 'object')\n",
        "le = LabelEncoder()"
      ],
      "metadata": {
        "id": "BizQmguge-3K"
      },
      "execution_count": null,
      "outputs": []
    },
    {
      "cell_type": "code",
      "source": [
        "df['gender_le']  = le.fit_transform(df['gender'])"
      ],
      "metadata": {
        "id": "p6SZ9_aJfSg0"
      },
      "execution_count": null,
      "outputs": []
    },
    {
      "cell_type": "code",
      "source": [
        "# Seperating  numerical from nominal\n",
        "# cutting off some data to avoid heavy cpu usage\n",
        "df2 = df.select_dtypes(exclude = 'object')\n",
        "#df2 = df2.loc[:149999]"
      ],
      "metadata": {
        "id": "3sUrHipofeqQ"
      },
      "execution_count": null,
      "outputs": []
    },
    {
      "cell_type": "code",
      "source": [
        "# dropping the feature which is not useful for data analysis\n",
        "df2 = df2.drop(['cc_num'],axis=1)\n",
        "# seperating target and independent features\n",
        "x = df2.drop('is_fraud',axis=1)\n",
        "y = df2['is_fraud']"
      ],
      "metadata": {
        "id": "oyNx2-znfj25"
      },
      "execution_count": null,
      "outputs": []
    },
    {
      "cell_type": "code",
      "source": [
        "df_num = df_num.drop(['cc_num','zip'],axis=1)\n",
        "df_num = df_num.drop('is_fraud',axis=1)"
      ],
      "metadata": {
        "id": "b2QjqP_rhlMM"
      },
      "execution_count": null,
      "outputs": []
    },
    {
      "cell_type": "code",
      "source": [
        "df_num.columns"
      ],
      "metadata": {
        "colab": {
          "base_uri": "https://localhost:8080/"
        },
        "id": "ad3_wR09hpp0",
        "outputId": "d8fd1b80-cde1-4dcb-b552-41b8ceaee452"
      },
      "execution_count": null,
      "outputs": [
        {
          "output_type": "execute_result",
          "data": {
            "text/plain": [
              "Index(['amt', 'lat', 'long', 'city_pop', 'unix_time', 'merch_lat',\n",
              "       'merch_long'],\n",
              "      dtype='object')"
            ]
          },
          "metadata": {},
          "execution_count": 16
        }
      ]
    },
    {
      "cell_type": "code",
      "source": [
        "x.shape"
      ],
      "metadata": {
        "colab": {
          "base_uri": "https://localhost:8080/"
        },
        "id": "yyPmHWEinEt5",
        "outputId": "6aab29ef-badf-40e3-d9f9-ac789f658a98"
      },
      "execution_count": null,
      "outputs": [
        {
          "output_type": "execute_result",
          "data": {
            "text/plain": [
              "(1852394, 9)"
            ]
          },
          "metadata": {},
          "execution_count": 17
        }
      ]
    },
    {
      "cell_type": "code",
      "source": [
        "train_x = x[0:300000]\n",
        "train_y = 1-y[0:300000]\n"
      ],
      "metadata": {
        "id": "eUFSCpd6flER"
      },
      "execution_count": null,
      "outputs": []
    },
    {
      "cell_type": "code",
      "source": [
        "train_x"
      ],
      "metadata": {
        "colab": {
          "base_uri": "https://localhost:8080/",
          "height": 424
        },
        "id": "MrjXRQpKhQq7",
        "outputId": "174d0b5f-6f14-4958-830d-74c08a97233d"
      },
      "execution_count": null,
      "outputs": [
        {
          "output_type": "execute_result",
          "data": {
            "text/plain": [
              "           amt    zip      lat      long  city_pop   unix_time  merch_lat  \\\n",
              "0         4.97  28654  36.0788  -81.1781      3495  1325376018  36.011293   \n",
              "1       107.23  99160  48.8878 -118.2105       149  1325376044  49.159047   \n",
              "2       220.11  83252  42.1808 -112.2620      4154  1325376051  43.150704   \n",
              "3        45.00  59632  46.2306 -112.1138      1939  1325376076  47.034331   \n",
              "4        41.96  24433  38.4207  -79.4629        99  1325376186  38.674999   \n",
              "...        ...    ...      ...       ...       ...         ...        ...   \n",
              "299995   96.03  25106  38.8265  -82.1364       642  1338048681  39.298162   \n",
              "299996   59.77  63021  38.5770  -90.5255     92608  1338048685  39.339959   \n",
              "299997   77.82  73754  36.3850  -98.0727      1078  1338048717  36.545200   \n",
              "299998   53.20  27522  36.1124  -78.6476     12335  1338048723  36.078714   \n",
              "299999   78.53  54896  45.8327  -91.0144      1478  1338048746  45.181078   \n",
              "\n",
              "        merch_long  gender_le  \n",
              "0       -82.048315          0  \n",
              "1      -118.186462          0  \n",
              "2      -112.154481          1  \n",
              "3      -112.561071          1  \n",
              "4       -78.632459          1  \n",
              "...            ...        ...  \n",
              "299995  -82.030474          0  \n",
              "299996  -89.859340          1  \n",
              "299997  -98.854027          1  \n",
              "299998  -78.024839          0  \n",
              "299999  -90.340056          0  \n",
              "\n",
              "[300000 rows x 9 columns]"
            ],
            "text/html": [
              "\n",
              "  <div id=\"df-2a10bad4-5070-44c6-9fef-908d64172c29\">\n",
              "    <div class=\"colab-df-container\">\n",
              "      <div>\n",
              "<style scoped>\n",
              "    .dataframe tbody tr th:only-of-type {\n",
              "        vertical-align: middle;\n",
              "    }\n",
              "\n",
              "    .dataframe tbody tr th {\n",
              "        vertical-align: top;\n",
              "    }\n",
              "\n",
              "    .dataframe thead th {\n",
              "        text-align: right;\n",
              "    }\n",
              "</style>\n",
              "<table border=\"1\" class=\"dataframe\">\n",
              "  <thead>\n",
              "    <tr style=\"text-align: right;\">\n",
              "      <th></th>\n",
              "      <th>amt</th>\n",
              "      <th>zip</th>\n",
              "      <th>lat</th>\n",
              "      <th>long</th>\n",
              "      <th>city_pop</th>\n",
              "      <th>unix_time</th>\n",
              "      <th>merch_lat</th>\n",
              "      <th>merch_long</th>\n",
              "      <th>gender_le</th>\n",
              "    </tr>\n",
              "  </thead>\n",
              "  <tbody>\n",
              "    <tr>\n",
              "      <th>0</th>\n",
              "      <td>4.97</td>\n",
              "      <td>28654</td>\n",
              "      <td>36.0788</td>\n",
              "      <td>-81.1781</td>\n",
              "      <td>3495</td>\n",
              "      <td>1325376018</td>\n",
              "      <td>36.011293</td>\n",
              "      <td>-82.048315</td>\n",
              "      <td>0</td>\n",
              "    </tr>\n",
              "    <tr>\n",
              "      <th>1</th>\n",
              "      <td>107.23</td>\n",
              "      <td>99160</td>\n",
              "      <td>48.8878</td>\n",
              "      <td>-118.2105</td>\n",
              "      <td>149</td>\n",
              "      <td>1325376044</td>\n",
              "      <td>49.159047</td>\n",
              "      <td>-118.186462</td>\n",
              "      <td>0</td>\n",
              "    </tr>\n",
              "    <tr>\n",
              "      <th>2</th>\n",
              "      <td>220.11</td>\n",
              "      <td>83252</td>\n",
              "      <td>42.1808</td>\n",
              "      <td>-112.2620</td>\n",
              "      <td>4154</td>\n",
              "      <td>1325376051</td>\n",
              "      <td>43.150704</td>\n",
              "      <td>-112.154481</td>\n",
              "      <td>1</td>\n",
              "    </tr>\n",
              "    <tr>\n",
              "      <th>3</th>\n",
              "      <td>45.00</td>\n",
              "      <td>59632</td>\n",
              "      <td>46.2306</td>\n",
              "      <td>-112.1138</td>\n",
              "      <td>1939</td>\n",
              "      <td>1325376076</td>\n",
              "      <td>47.034331</td>\n",
              "      <td>-112.561071</td>\n",
              "      <td>1</td>\n",
              "    </tr>\n",
              "    <tr>\n",
              "      <th>4</th>\n",
              "      <td>41.96</td>\n",
              "      <td>24433</td>\n",
              "      <td>38.4207</td>\n",
              "      <td>-79.4629</td>\n",
              "      <td>99</td>\n",
              "      <td>1325376186</td>\n",
              "      <td>38.674999</td>\n",
              "      <td>-78.632459</td>\n",
              "      <td>1</td>\n",
              "    </tr>\n",
              "    <tr>\n",
              "      <th>...</th>\n",
              "      <td>...</td>\n",
              "      <td>...</td>\n",
              "      <td>...</td>\n",
              "      <td>...</td>\n",
              "      <td>...</td>\n",
              "      <td>...</td>\n",
              "      <td>...</td>\n",
              "      <td>...</td>\n",
              "      <td>...</td>\n",
              "    </tr>\n",
              "    <tr>\n",
              "      <th>299995</th>\n",
              "      <td>96.03</td>\n",
              "      <td>25106</td>\n",
              "      <td>38.8265</td>\n",
              "      <td>-82.1364</td>\n",
              "      <td>642</td>\n",
              "      <td>1338048681</td>\n",
              "      <td>39.298162</td>\n",
              "      <td>-82.030474</td>\n",
              "      <td>0</td>\n",
              "    </tr>\n",
              "    <tr>\n",
              "      <th>299996</th>\n",
              "      <td>59.77</td>\n",
              "      <td>63021</td>\n",
              "      <td>38.5770</td>\n",
              "      <td>-90.5255</td>\n",
              "      <td>92608</td>\n",
              "      <td>1338048685</td>\n",
              "      <td>39.339959</td>\n",
              "      <td>-89.859340</td>\n",
              "      <td>1</td>\n",
              "    </tr>\n",
              "    <tr>\n",
              "      <th>299997</th>\n",
              "      <td>77.82</td>\n",
              "      <td>73754</td>\n",
              "      <td>36.3850</td>\n",
              "      <td>-98.0727</td>\n",
              "      <td>1078</td>\n",
              "      <td>1338048717</td>\n",
              "      <td>36.545200</td>\n",
              "      <td>-98.854027</td>\n",
              "      <td>1</td>\n",
              "    </tr>\n",
              "    <tr>\n",
              "      <th>299998</th>\n",
              "      <td>53.20</td>\n",
              "      <td>27522</td>\n",
              "      <td>36.1124</td>\n",
              "      <td>-78.6476</td>\n",
              "      <td>12335</td>\n",
              "      <td>1338048723</td>\n",
              "      <td>36.078714</td>\n",
              "      <td>-78.024839</td>\n",
              "      <td>0</td>\n",
              "    </tr>\n",
              "    <tr>\n",
              "      <th>299999</th>\n",
              "      <td>78.53</td>\n",
              "      <td>54896</td>\n",
              "      <td>45.8327</td>\n",
              "      <td>-91.0144</td>\n",
              "      <td>1478</td>\n",
              "      <td>1338048746</td>\n",
              "      <td>45.181078</td>\n",
              "      <td>-90.340056</td>\n",
              "      <td>0</td>\n",
              "    </tr>\n",
              "  </tbody>\n",
              "</table>\n",
              "<p>300000 rows × 9 columns</p>\n",
              "</div>\n",
              "      <button class=\"colab-df-convert\" onclick=\"convertToInteractive('df-2a10bad4-5070-44c6-9fef-908d64172c29')\"\n",
              "              title=\"Convert this dataframe to an interactive table.\"\n",
              "              style=\"display:none;\">\n",
              "        \n",
              "  <svg xmlns=\"http://www.w3.org/2000/svg\" height=\"24px\"viewBox=\"0 0 24 24\"\n",
              "       width=\"24px\">\n",
              "    <path d=\"M0 0h24v24H0V0z\" fill=\"none\"/>\n",
              "    <path d=\"M18.56 5.44l.94 2.06.94-2.06 2.06-.94-2.06-.94-.94-2.06-.94 2.06-2.06.94zm-11 1L8.5 8.5l.94-2.06 2.06-.94-2.06-.94L8.5 2.5l-.94 2.06-2.06.94zm10 10l.94 2.06.94-2.06 2.06-.94-2.06-.94-.94-2.06-.94 2.06-2.06.94z\"/><path d=\"M17.41 7.96l-1.37-1.37c-.4-.4-.92-.59-1.43-.59-.52 0-1.04.2-1.43.59L10.3 9.45l-7.72 7.72c-.78.78-.78 2.05 0 2.83L4 21.41c.39.39.9.59 1.41.59.51 0 1.02-.2 1.41-.59l7.78-7.78 2.81-2.81c.8-.78.8-2.07 0-2.86zM5.41 20L4 18.59l7.72-7.72 1.47 1.35L5.41 20z\"/>\n",
              "  </svg>\n",
              "      </button>\n",
              "      \n",
              "  <style>\n",
              "    .colab-df-container {\n",
              "      display:flex;\n",
              "      flex-wrap:wrap;\n",
              "      gap: 12px;\n",
              "    }\n",
              "\n",
              "    .colab-df-convert {\n",
              "      background-color: #E8F0FE;\n",
              "      border: none;\n",
              "      border-radius: 50%;\n",
              "      cursor: pointer;\n",
              "      display: none;\n",
              "      fill: #1967D2;\n",
              "      height: 32px;\n",
              "      padding: 0 0 0 0;\n",
              "      width: 32px;\n",
              "    }\n",
              "\n",
              "    .colab-df-convert:hover {\n",
              "      background-color: #E2EBFA;\n",
              "      box-shadow: 0px 1px 2px rgba(60, 64, 67, 0.3), 0px 1px 3px 1px rgba(60, 64, 67, 0.15);\n",
              "      fill: #174EA6;\n",
              "    }\n",
              "\n",
              "    [theme=dark] .colab-df-convert {\n",
              "      background-color: #3B4455;\n",
              "      fill: #D2E3FC;\n",
              "    }\n",
              "\n",
              "    [theme=dark] .colab-df-convert:hover {\n",
              "      background-color: #434B5C;\n",
              "      box-shadow: 0px 1px 3px 1px rgba(0, 0, 0, 0.15);\n",
              "      filter: drop-shadow(0px 1px 2px rgba(0, 0, 0, 0.3));\n",
              "      fill: #FFFFFF;\n",
              "    }\n",
              "  </style>\n",
              "\n",
              "      <script>\n",
              "        const buttonEl =\n",
              "          document.querySelector('#df-2a10bad4-5070-44c6-9fef-908d64172c29 button.colab-df-convert');\n",
              "        buttonEl.style.display =\n",
              "          google.colab.kernel.accessAllowed ? 'block' : 'none';\n",
              "\n",
              "        async function convertToInteractive(key) {\n",
              "          const element = document.querySelector('#df-2a10bad4-5070-44c6-9fef-908d64172c29');\n",
              "          const dataTable =\n",
              "            await google.colab.kernel.invokeFunction('convertToInteractive',\n",
              "                                                     [key], {});\n",
              "          if (!dataTable) return;\n",
              "\n",
              "          const docLinkHtml = 'Like what you see? Visit the ' +\n",
              "            '<a target=\"_blank\" href=https://colab.research.google.com/notebooks/data_table.ipynb>data table notebook</a>'\n",
              "            + ' to learn more about interactive tables.';\n",
              "          element.innerHTML = '';\n",
              "          dataTable['output_type'] = 'display_data';\n",
              "          await google.colab.output.renderOutput(dataTable, element);\n",
              "          const docLink = document.createElement('div');\n",
              "          docLink.innerHTML = docLinkHtml;\n",
              "          element.appendChild(docLink);\n",
              "        }\n",
              "      </script>\n",
              "    </div>\n",
              "  </div>\n",
              "  "
            ]
          },
          "metadata": {},
          "execution_count": 19
        }
      ]
    },
    {
      "cell_type": "code",
      "source": [
        "# Scaling the data\n",
        "ss = StandardScaler()\n",
        "train_x[df_num.columns] = ss.fit_transform(train_x[df_num.columns])\n"
      ],
      "metadata": {
        "id": "t1xDGIh7hw1u"
      },
      "execution_count": null,
      "outputs": []
    },
    {
      "cell_type": "code",
      "source": [
        "train_y.value_counts()"
      ],
      "metadata": {
        "colab": {
          "base_uri": "https://localhost:8080/"
        },
        "id": "EKwDAePZi7M5",
        "outputId": "a3fabe0c-8ca4-4e58-a887-88a884359e20"
      },
      "execution_count": null,
      "outputs": [
        {
          "output_type": "execute_result",
          "data": {
            "text/plain": [
              "1    297745\n",
              "0      2255\n",
              "Name: is_fraud, dtype: int64"
            ]
          },
          "metadata": {},
          "execution_count": 24
        }
      ]
    },
    {
      "cell_type": "code",
      "source": [
        "import tensorflow as tf\n",
        "from tensorflow.keras import layers\n",
        "from tensorflow.keras import datasets, layers, models, optimizers\n",
        "from tensorflow.keras.utils import to_categorical\n",
        "import random"
      ],
      "metadata": {
        "id": "p71_5dSogH23"
      },
      "execution_count": null,
      "outputs": []
    },
    {
      "cell_type": "code",
      "source": [
        "\n",
        "epochs = 500\n",
        "\n",
        "model_c = tf.keras.Sequential([\n",
        "    tf.keras.layers.Dense(128, activation='relu', input_shape=(train_x.shape[1],)),\n",
        "    #tf.keras.layers.Dense(64, activation='relu'),\n",
        "    tf.keras.layers.Dense(1, activation='sigmoid')\n",
        "])\n",
        "\n",
        "# patience 매개변수는 성능 향상을 체크할 에포크 횟수입니다\n",
        "early_stop = tf.keras.callbacks.EarlyStopping(monitor='val_loss', patience=10)\n",
        "\n",
        "opt = optimizers.Adam(learning_rate=0.0000001)\n",
        "model_c.compile(optimizer=opt,\n",
        "            loss='binary_crossentropy',\n",
        "            metrics=['acc'])\n",
        "print(model_c.summary())\n",
        "#hist = model_c.fit(dx, metric_c[:,0], validation_split=0.2, batch_size=400, epochs=epochs,shuffle=False,verbose=0,callbacks=[early_stop,VerboseCallback(epochs)]) #, callbacks=[es_callback])\n",
        "hist = model_c.fit(train_x, train_y, validation_split=0.2, \n",
        "                   batch_size=5000, epochs=epochs,shuffle=False,use_multiprocessing=False,\n",
        "                   verbose=1, callbacks=[early_stop])"
      ],
      "metadata": {
        "colab": {
          "base_uri": "https://localhost:8080/",
          "height": 1000
        },
        "id": "2YQtp_A_gMno",
        "outputId": "788207b8-0e85-4ec4-80da-f6960e244b72"
      },
      "execution_count": null,
      "outputs": [
        {
          "output_type": "stream",
          "name": "stdout",
          "text": [
            "Model: \"sequential_3\"\n",
            "_________________________________________________________________\n",
            " Layer (type)                Output Shape              Param #   \n",
            "=================================================================\n",
            " dense_9 (Dense)             (None, 128)               1280      \n",
            "                                                                 \n",
            " dense_10 (Dense)            (None, 1)                 129       \n",
            "                                                                 \n",
            "=================================================================\n",
            "Total params: 1,409\n",
            "Trainable params: 1,409\n",
            "Non-trainable params: 0\n",
            "_________________________________________________________________\n",
            "None\n",
            "Epoch 1/500\n",
            "48/48 [==============================] - 1s 7ms/step - loss: 2173361.0000 - acc: 0.9922 - val_loss: 1742507.8750 - val_acc: 0.9937\n",
            "Epoch 2/500\n",
            "48/48 [==============================] - 0s 4ms/step - loss: 2172709.7500 - acc: 0.9922 - val_loss: 1741974.5000 - val_acc: 0.9937\n",
            "Epoch 3/500\n",
            "48/48 [==============================] - 0s 4ms/step - loss: 2172040.5000 - acc: 0.9922 - val_loss: 1741432.8750 - val_acc: 0.9937\n",
            "Epoch 4/500\n",
            "48/48 [==============================] - 0s 4ms/step - loss: 2171362.7500 - acc: 0.9922 - val_loss: 1740887.2500 - val_acc: 0.9937\n",
            "Epoch 5/500\n",
            "48/48 [==============================] - 0s 4ms/step - loss: 2170680.5000 - acc: 0.9922 - val_loss: 1740338.7500 - val_acc: 0.9937\n",
            "Epoch 6/500\n",
            "48/48 [==============================] - 0s 4ms/step - loss: 2169996.7500 - acc: 0.9922 - val_loss: 1739789.7500 - val_acc: 0.9937\n",
            "Epoch 7/500\n",
            "48/48 [==============================] - 0s 5ms/step - loss: 2169311.7500 - acc: 0.9922 - val_loss: 1739240.2500 - val_acc: 0.9937\n",
            "Epoch 8/500\n",
            "48/48 [==============================] - 0s 5ms/step - loss: 2168626.5000 - acc: 0.9922 - val_loss: 1738690.0000 - val_acc: 0.9937\n",
            "Epoch 9/500\n",
            "48/48 [==============================] - 0s 4ms/step - loss: 2167940.0000 - acc: 0.9922 - val_loss: 1738139.3750 - val_acc: 0.9937\n",
            "Epoch 10/500\n",
            "48/48 [==============================] - 0s 4ms/step - loss: 2167253.7500 - acc: 0.9922 - val_loss: 1737588.6250 - val_acc: 0.9937\n",
            "Epoch 11/500\n",
            "48/48 [==============================] - 0s 5ms/step - loss: 2166566.2500 - acc: 0.9922 - val_loss: 1737037.1250 - val_acc: 0.9937\n",
            "Epoch 12/500\n",
            "48/48 [==============================] - 0s 5ms/step - loss: 2165878.2500 - acc: 0.9922 - val_loss: 1736485.3750 - val_acc: 0.9937\n",
            "Epoch 13/500\n",
            "48/48 [==============================] - 0s 4ms/step - loss: 2165189.7500 - acc: 0.9922 - val_loss: 1735933.1250 - val_acc: 0.9937\n",
            "Epoch 14/500\n",
            "48/48 [==============================] - 0s 4ms/step - loss: 2164501.2500 - acc: 0.9922 - val_loss: 1735381.0000 - val_acc: 0.9937\n",
            "Epoch 15/500\n",
            "48/48 [==============================] - 0s 4ms/step - loss: 2163812.7500 - acc: 0.9922 - val_loss: 1734829.0000 - val_acc: 0.9937\n",
            "Epoch 16/500\n",
            "48/48 [==============================] - 0s 5ms/step - loss: 2163123.7500 - acc: 0.9922 - val_loss: 1734276.7500 - val_acc: 0.9937\n",
            "Epoch 17/500\n",
            "48/48 [==============================] - 0s 4ms/step - loss: 2162434.7500 - acc: 0.9922 - val_loss: 1733724.2500 - val_acc: 0.9937\n",
            "Epoch 18/500\n",
            "48/48 [==============================] - 0s 4ms/step - loss: 2161746.0000 - acc: 0.9922 - val_loss: 1733171.8750 - val_acc: 0.9937\n",
            "Epoch 19/500\n",
            "48/48 [==============================] - 0s 5ms/step - loss: 2161057.5000 - acc: 0.9922 - val_loss: 1732619.2500 - val_acc: 0.9937\n",
            "Epoch 20/500\n",
            "48/48 [==============================] - 0s 4ms/step - loss: 2160368.0000 - acc: 0.9922 - val_loss: 1732066.7500 - val_acc: 0.9937\n",
            "Epoch 21/500\n",
            "48/48 [==============================] - 0s 4ms/step - loss: 2159679.0000 - acc: 0.9922 - val_loss: 1731514.1250 - val_acc: 0.9937\n",
            "Epoch 22/500\n",
            "48/48 [==============================] - 0s 4ms/step - loss: 2158989.7500 - acc: 0.9922 - val_loss: 1730961.3750 - val_acc: 0.9937\n",
            "Epoch 23/500\n",
            "48/48 [==============================] - 0s 4ms/step - loss: 2158300.7500 - acc: 0.9922 - val_loss: 1730408.6250 - val_acc: 0.9937\n",
            "Epoch 24/500\n",
            "48/48 [==============================] - 0s 4ms/step - loss: 2157611.0000 - acc: 0.9922 - val_loss: 1729855.8750 - val_acc: 0.9937\n",
            "Epoch 25/500\n",
            "48/48 [==============================] - 0s 4ms/step - loss: 2156922.0000 - acc: 0.9922 - val_loss: 1729303.1250 - val_acc: 0.9937\n",
            "Epoch 26/500\n",
            "48/48 [==============================] - 0s 5ms/step - loss: 2156232.5000 - acc: 0.9922 - val_loss: 1728750.3750 - val_acc: 0.9937\n",
            "Epoch 27/500\n",
            "48/48 [==============================] - 0s 4ms/step - loss: 2155543.0000 - acc: 0.9922 - val_loss: 1728197.6250 - val_acc: 0.9937\n",
            "Epoch 28/500\n",
            "48/48 [==============================] - 0s 4ms/step - loss: 2154853.5000 - acc: 0.9922 - val_loss: 1727644.6250 - val_acc: 0.9937\n",
            "Epoch 29/500\n",
            "48/48 [==============================] - 0s 4ms/step - loss: 2154164.0000 - acc: 0.9922 - val_loss: 1727091.8750 - val_acc: 0.9937\n",
            "Epoch 30/500\n",
            "48/48 [==============================] - 0s 5ms/step - loss: 2153474.7500 - acc: 0.9922 - val_loss: 1726538.8750 - val_acc: 0.9937\n",
            "Epoch 31/500\n",
            "48/48 [==============================] - 0s 4ms/step - loss: 2152785.5000 - acc: 0.9922 - val_loss: 1725985.8750 - val_acc: 0.9937\n",
            "Epoch 32/500\n",
            "48/48 [==============================] - 0s 4ms/step - loss: 2152096.0000 - acc: 0.9922 - val_loss: 1725433.1250 - val_acc: 0.9937\n",
            "Epoch 33/500\n",
            "48/48 [==============================] - 0s 4ms/step - loss: 2151406.0000 - acc: 0.9922 - val_loss: 1724880.2500 - val_acc: 0.9937\n",
            "Epoch 34/500\n",
            "48/48 [==============================] - 0s 4ms/step - loss: 2150716.5000 - acc: 0.9922 - val_loss: 1724327.1250 - val_acc: 0.9937\n",
            "Epoch 35/500\n",
            "48/48 [==============================] - 0s 5ms/step - loss: 2150027.2500 - acc: 0.9922 - val_loss: 1723774.1250 - val_acc: 0.9937\n",
            "Epoch 36/500\n",
            "48/48 [==============================] - 0s 5ms/step - loss: 2149337.2500 - acc: 0.9922 - val_loss: 1723221.2500 - val_acc: 0.9937\n",
            "Epoch 37/500\n",
            "48/48 [==============================] - 0s 4ms/step - loss: 2148647.2500 - acc: 0.9922 - val_loss: 1722668.3750 - val_acc: 0.9937\n",
            "Epoch 38/500\n",
            "48/48 [==============================] - 0s 5ms/step - loss: 2147958.0000 - acc: 0.9922 - val_loss: 1722115.1250 - val_acc: 0.9937\n",
            "Epoch 39/500\n",
            "48/48 [==============================] - 0s 4ms/step - loss: 2147268.5000 - acc: 0.9922 - val_loss: 1721562.3750 - val_acc: 0.9937\n",
            "Epoch 40/500\n",
            "48/48 [==============================] - 0s 5ms/step - loss: 2146578.7500 - acc: 0.9922 - val_loss: 1721009.2500 - val_acc: 0.9937\n",
            "Epoch 41/500\n",
            "48/48 [==============================] - 0s 4ms/step - loss: 2145889.0000 - acc: 0.9922 - val_loss: 1720456.1250 - val_acc: 0.9937\n",
            "Epoch 42/500\n",
            "48/48 [==============================] - 0s 5ms/step - loss: 2145199.0000 - acc: 0.9922 - val_loss: 1719903.1250 - val_acc: 0.9937\n",
            "Epoch 43/500\n",
            "48/48 [==============================] - 0s 4ms/step - loss: 2144509.5000 - acc: 0.9922 - val_loss: 1719349.7500 - val_acc: 0.9937\n",
            "Epoch 44/500\n",
            "48/48 [==============================] - 0s 5ms/step - loss: 2143819.7500 - acc: 0.9922 - val_loss: 1718796.7500 - val_acc: 0.9937\n",
            "Epoch 45/500\n",
            "48/48 [==============================] - 0s 5ms/step - loss: 2143129.7500 - acc: 0.9922 - val_loss: 1718243.6250 - val_acc: 0.9937\n",
            "Epoch 46/500\n",
            "48/48 [==============================] - 0s 5ms/step - loss: 2142440.0000 - acc: 0.9922 - val_loss: 1717690.5000 - val_acc: 0.9937\n",
            "Epoch 47/500\n",
            "48/48 [==============================] - 0s 4ms/step - loss: 2141750.5000 - acc: 0.9922 - val_loss: 1717137.3750 - val_acc: 0.9937\n",
            "Epoch 48/500\n",
            "48/48 [==============================] - 0s 4ms/step - loss: 2141060.7500 - acc: 0.9922 - val_loss: 1716584.5000 - val_acc: 0.9937\n",
            "Epoch 49/500\n",
            "48/48 [==============================] - 0s 4ms/step - loss: 2140370.5000 - acc: 0.9922 - val_loss: 1716031.2500 - val_acc: 0.9937\n",
            "Epoch 50/500\n",
            "48/48 [==============================] - 0s 4ms/step - loss: 2139681.0000 - acc: 0.9922 - val_loss: 1715478.0000 - val_acc: 0.9937\n",
            "Epoch 51/500\n",
            "48/48 [==============================] - 0s 5ms/step - loss: 2138991.5000 - acc: 0.9922 - val_loss: 1714925.0000 - val_acc: 0.9937\n",
            "Epoch 52/500\n",
            "48/48 [==============================] - 0s 5ms/step - loss: 2138301.2500 - acc: 0.9922 - val_loss: 1714371.8750 - val_acc: 0.9937\n",
            "Epoch 53/500\n",
            "48/48 [==============================] - 0s 5ms/step - loss: 2137611.5000 - acc: 0.9922 - val_loss: 1713818.7500 - val_acc: 0.9937\n",
            "Epoch 54/500\n",
            "48/48 [==============================] - 0s 4ms/step - loss: 2136921.7500 - acc: 0.9922 - val_loss: 1713265.6250 - val_acc: 0.9937\n",
            "Epoch 55/500\n",
            "48/48 [==============================] - 0s 5ms/step - loss: 2136232.7500 - acc: 0.9922 - val_loss: 1712712.5000 - val_acc: 0.9937\n",
            "Epoch 56/500\n",
            "48/48 [==============================] - 0s 4ms/step - loss: 2135542.2500 - acc: 0.9922 - val_loss: 1712159.5000 - val_acc: 0.9937\n",
            "Epoch 57/500\n",
            "48/48 [==============================] - 0s 4ms/step - loss: 2134852.5000 - acc: 0.9922 - val_loss: 1711606.2500 - val_acc: 0.9937\n",
            "Epoch 58/500\n",
            "48/48 [==============================] - 0s 4ms/step - loss: 2134163.2500 - acc: 0.9922 - val_loss: 1711053.2500 - val_acc: 0.9937\n",
            "Epoch 59/500\n",
            "48/48 [==============================] - 0s 5ms/step - loss: 2133473.0000 - acc: 0.9922 - val_loss: 1710500.0000 - val_acc: 0.9937\n",
            "Epoch 60/500\n",
            "48/48 [==============================] - 0s 4ms/step - loss: 2132783.7500 - acc: 0.9922 - val_loss: 1709947.0000 - val_acc: 0.9937\n",
            "Epoch 61/500\n",
            "48/48 [==============================] - 0s 4ms/step - loss: 2132093.7500 - acc: 0.9922 - val_loss: 1709393.7500 - val_acc: 0.9937\n",
            "Epoch 62/500\n",
            "48/48 [==============================] - 0s 5ms/step - loss: 2131404.0000 - acc: 0.9922 - val_loss: 1708840.6250 - val_acc: 0.9937\n",
            "Epoch 63/500\n",
            "48/48 [==============================] - 0s 4ms/step - loss: 2130714.2500 - acc: 0.9922 - val_loss: 1708287.8750 - val_acc: 0.9937\n",
            "Epoch 64/500\n",
            "48/48 [==============================] - 0s 4ms/step - loss: 2130024.5000 - acc: 0.9922 - val_loss: 1707734.6250 - val_acc: 0.9937\n",
            "Epoch 65/500\n",
            "48/48 [==============================] - 0s 4ms/step - loss: 2129334.5000 - acc: 0.9922 - val_loss: 1707181.6250 - val_acc: 0.9937\n",
            "Epoch 66/500\n",
            "48/48 [==============================] - 0s 4ms/step - loss: 2128644.2500 - acc: 0.9922 - val_loss: 1706628.7500 - val_acc: 0.9937\n",
            "Epoch 67/500\n",
            "48/48 [==============================] - 0s 4ms/step - loss: 2127955.5000 - acc: 0.9922 - val_loss: 1706075.6250 - val_acc: 0.9937\n",
            "Epoch 68/500\n",
            "48/48 [==============================] - 0s 4ms/step - loss: 2127265.7500 - acc: 0.9922 - val_loss: 1705522.6250 - val_acc: 0.9937\n",
            "Epoch 69/500\n",
            "48/48 [==============================] - 0s 4ms/step - loss: 2126575.2500 - acc: 0.9922 - val_loss: 1704969.2500 - val_acc: 0.9937\n",
            "Epoch 70/500\n",
            "48/48 [==============================] - 0s 4ms/step - loss: 2125886.2500 - acc: 0.9922 - val_loss: 1704416.3750 - val_acc: 0.9937\n",
            "Epoch 71/500\n",
            "48/48 [==============================] - 0s 5ms/step - loss: 2125196.2500 - acc: 0.9922 - val_loss: 1703863.2500 - val_acc: 0.9937\n",
            "Epoch 72/500\n",
            "48/48 [==============================] - 0s 5ms/step - loss: 2124506.7500 - acc: 0.9922 - val_loss: 1703310.2500 - val_acc: 0.9937\n",
            "Epoch 73/500\n",
            "48/48 [==============================] - 0s 5ms/step - loss: 2123817.2500 - acc: 0.9922 - val_loss: 1702757.0000 - val_acc: 0.9937\n",
            "Epoch 74/500\n",
            "48/48 [==============================] - 0s 5ms/step - loss: 2123127.2500 - acc: 0.9922 - val_loss: 1702204.1250 - val_acc: 0.9937\n",
            "Epoch 75/500\n",
            "48/48 [==============================] - 0s 4ms/step - loss: 2122438.2500 - acc: 0.9922 - val_loss: 1701651.2500 - val_acc: 0.9937\n",
            "Epoch 76/500\n",
            "48/48 [==============================] - 0s 5ms/step - loss: 2121747.5000 - acc: 0.9922 - val_loss: 1701098.1250 - val_acc: 0.9937\n",
            "Epoch 77/500\n",
            "48/48 [==============================] - 0s 4ms/step - loss: 2121058.5000 - acc: 0.9922 - val_loss: 1700545.2500 - val_acc: 0.9937\n",
            "Epoch 78/500\n",
            "48/48 [==============================] - 0s 4ms/step - loss: 2120369.0000 - acc: 0.9922 - val_loss: 1699992.3750 - val_acc: 0.9937\n",
            "Epoch 79/500\n",
            "48/48 [==============================] - 0s 5ms/step - loss: 2119679.0000 - acc: 0.9922 - val_loss: 1699439.2500 - val_acc: 0.9937\n",
            "Epoch 80/500\n",
            "48/48 [==============================] - 0s 4ms/step - loss: 2118989.2500 - acc: 0.9922 - val_loss: 1698886.1250 - val_acc: 0.9937\n",
            "Epoch 81/500\n",
            "48/48 [==============================] - 0s 4ms/step - loss: 2118300.0000 - acc: 0.9922 - val_loss: 1698333.2500 - val_acc: 0.9937\n",
            "Epoch 82/500\n",
            "48/48 [==============================] - 0s 4ms/step - loss: 2117610.2500 - acc: 0.9922 - val_loss: 1697780.3750 - val_acc: 0.9937\n",
            "Epoch 83/500\n",
            "48/48 [==============================] - 0s 4ms/step - loss: 2116920.7500 - acc: 0.9922 - val_loss: 1697227.2500 - val_acc: 0.9937\n",
            "Epoch 84/500\n",
            "48/48 [==============================] - 0s 4ms/step - loss: 2116231.0000 - acc: 0.9922 - val_loss: 1696674.3750 - val_acc: 0.9937\n",
            "Epoch 85/500\n",
            "48/48 [==============================] - 0s 4ms/step - loss: 2115541.5000 - acc: 0.9922 - val_loss: 1696121.1250 - val_acc: 0.9937\n",
            "Epoch 86/500\n",
            "48/48 [==============================] - 0s 4ms/step - loss: 2114852.0000 - acc: 0.9922 - val_loss: 1695568.1250 - val_acc: 0.9937\n",
            "Epoch 87/500\n",
            "48/48 [==============================] - 0s 4ms/step - loss: 2114162.2500 - acc: 0.9922 - val_loss: 1695015.1250 - val_acc: 0.9937\n",
            "Epoch 88/500\n",
            "48/48 [==============================] - 0s 4ms/step - loss: 2113472.7500 - acc: 0.9922 - val_loss: 1694462.3750 - val_acc: 0.9937\n",
            "Epoch 89/500\n",
            "48/48 [==============================] - 0s 4ms/step - loss: 2112783.5000 - acc: 0.9922 - val_loss: 1693909.3750 - val_acc: 0.9937\n",
            "Epoch 90/500\n",
            "48/48 [==============================] - 0s 5ms/step - loss: 2112093.7500 - acc: 0.9922 - val_loss: 1693356.5000 - val_acc: 0.9937\n",
            "Epoch 91/500\n",
            "48/48 [==============================] - 0s 4ms/step - loss: 2111404.0000 - acc: 0.9922 - val_loss: 1692803.5000 - val_acc: 0.9937\n",
            "Epoch 92/500\n",
            "48/48 [==============================] - 0s 4ms/step - loss: 2110714.5000 - acc: 0.9922 - val_loss: 1692250.6250 - val_acc: 0.9937\n",
            "Epoch 93/500\n",
            "48/48 [==============================] - 0s 4ms/step - loss: 2110024.7500 - acc: 0.9922 - val_loss: 1691697.5000 - val_acc: 0.9937\n",
            "Epoch 94/500\n",
            "48/48 [==============================] - 0s 4ms/step - loss: 2109335.2500 - acc: 0.9922 - val_loss: 1691144.8750 - val_acc: 0.9937\n",
            "Epoch 95/500\n",
            "48/48 [==============================] - 0s 4ms/step - loss: 2108645.5000 - acc: 0.9922 - val_loss: 1690592.0000 - val_acc: 0.9937\n",
            "Epoch 96/500\n",
            "48/48 [==============================] - 0s 4ms/step - loss: 2107956.5000 - acc: 0.9922 - val_loss: 1690039.1250 - val_acc: 0.9937\n",
            "Epoch 97/500\n",
            "48/48 [==============================] - 0s 5ms/step - loss: 2107266.7500 - acc: 0.9922 - val_loss: 1689486.1250 - val_acc: 0.9937\n",
            "Epoch 98/500\n",
            "48/48 [==============================] - 0s 4ms/step - loss: 2106577.0000 - acc: 0.9922 - val_loss: 1688933.2500 - val_acc: 0.9937\n",
            "Epoch 99/500\n",
            "48/48 [==============================] - 0s 4ms/step - loss: 2105887.7500 - acc: 0.9922 - val_loss: 1688380.3750 - val_acc: 0.9937\n",
            "Epoch 100/500\n",
            "48/48 [==============================] - 0s 4ms/step - loss: 2105198.5000 - acc: 0.9922 - val_loss: 1687827.5000 - val_acc: 0.9937\n",
            "Epoch 101/500\n",
            "48/48 [==============================] - 0s 4ms/step - loss: 2104508.5000 - acc: 0.9922 - val_loss: 1687274.7500 - val_acc: 0.9937\n",
            "Epoch 102/500\n",
            "48/48 [==============================] - 0s 4ms/step - loss: 2103819.5000 - acc: 0.9922 - val_loss: 1686721.6250 - val_acc: 0.9937\n",
            "Epoch 103/500\n",
            "48/48 [==============================] - 0s 4ms/step - loss: 2103129.7500 - acc: 0.9922 - val_loss: 1686168.7500 - val_acc: 0.9937\n",
            "Epoch 104/500\n",
            "48/48 [==============================] - 0s 5ms/step - loss: 2102440.2500 - acc: 0.9922 - val_loss: 1685615.8750 - val_acc: 0.9937\n",
            "Epoch 105/500\n",
            "48/48 [==============================] - 0s 4ms/step - loss: 2101751.0000 - acc: 0.9922 - val_loss: 1685063.1250 - val_acc: 0.9937\n",
            "Epoch 106/500\n",
            "48/48 [==============================] - 0s 5ms/step - loss: 2101061.2500 - acc: 0.9922 - val_loss: 1684510.1250 - val_acc: 0.9937\n",
            "Epoch 107/500\n",
            "48/48 [==============================] - 0s 4ms/step - loss: 2100371.7500 - acc: 0.9922 - val_loss: 1683957.3750 - val_acc: 0.9937\n",
            "Epoch 108/500\n",
            "48/48 [==============================] - 0s 4ms/step - loss: 2099682.5000 - acc: 0.9922 - val_loss: 1683404.5000 - val_acc: 0.9937\n",
            "Epoch 109/500\n",
            "48/48 [==============================] - 0s 5ms/step - loss: 2098993.0000 - acc: 0.9922 - val_loss: 1682851.8750 - val_acc: 0.9937\n",
            "Epoch 110/500\n",
            "48/48 [==============================] - 0s 5ms/step - loss: 2098303.7500 - acc: 0.9922 - val_loss: 1682299.0000 - val_acc: 0.9937\n",
            "Epoch 111/500\n",
            "48/48 [==============================] - 0s 4ms/step - loss: 2097614.2500 - acc: 0.9922 - val_loss: 1681746.2500 - val_acc: 0.9937\n",
            "Epoch 112/500\n",
            "48/48 [==============================] - 0s 4ms/step - loss: 2096924.3750 - acc: 0.9922 - val_loss: 1681193.5000 - val_acc: 0.9937\n",
            "Epoch 113/500\n",
            "48/48 [==============================] - 0s 4ms/step - loss: 2096235.5000 - acc: 0.9922 - val_loss: 1680640.3750 - val_acc: 0.9937\n",
            "Epoch 114/500\n",
            "48/48 [==============================] - 0s 5ms/step - loss: 2095545.6250 - acc: 0.9922 - val_loss: 1680087.7500 - val_acc: 0.9937\n",
            "Epoch 115/500\n",
            "48/48 [==============================] - 0s 5ms/step - loss: 2094856.7500 - acc: 0.9922 - val_loss: 1679534.8750 - val_acc: 0.9937\n",
            "Epoch 116/500\n",
            "48/48 [==============================] - 0s 4ms/step - loss: 2094167.3750 - acc: 0.9922 - val_loss: 1678982.0000 - val_acc: 0.9937\n",
            "Epoch 117/500\n",
            "48/48 [==============================] - 0s 4ms/step - loss: 2093477.8750 - acc: 0.9922 - val_loss: 1678429.1250 - val_acc: 0.9937\n",
            "Epoch 118/500\n",
            "48/48 [==============================] - 0s 5ms/step - loss: 2092788.3750 - acc: 0.9922 - val_loss: 1677876.3750 - val_acc: 0.9937\n",
            "Epoch 119/500\n",
            "48/48 [==============================] - 0s 4ms/step - loss: 2092099.2500 - acc: 0.9922 - val_loss: 1677323.6250 - val_acc: 0.9937\n",
            "Epoch 120/500\n",
            "48/48 [==============================] - 0s 4ms/step - loss: 2091409.3750 - acc: 0.9922 - val_loss: 1676770.8750 - val_acc: 0.9937\n",
            "Epoch 121/500\n",
            "48/48 [==============================] - 0s 5ms/step - loss: 2090720.6250 - acc: 0.9922 - val_loss: 1676218.0000 - val_acc: 0.9937\n",
            "Epoch 122/500\n",
            "48/48 [==============================] - 0s 5ms/step - loss: 2090031.1250 - acc: 0.9922 - val_loss: 1675665.3750 - val_acc: 0.9937\n",
            "Epoch 123/500\n",
            "48/48 [==============================] - 0s 4ms/step - loss: 2089341.7500 - acc: 0.9922 - val_loss: 1675112.6250 - val_acc: 0.9937\n",
            "Epoch 124/500\n",
            "48/48 [==============================] - 0s 4ms/step - loss: 2088652.3750 - acc: 0.9922 - val_loss: 1674559.7500 - val_acc: 0.9937\n",
            "Epoch 125/500\n",
            "48/48 [==============================] - 0s 5ms/step - loss: 2087962.7500 - acc: 0.9922 - val_loss: 1674007.3750 - val_acc: 0.9937\n",
            "Epoch 126/500\n",
            "48/48 [==============================] - 0s 4ms/step - loss: 2087273.6250 - acc: 0.9922 - val_loss: 1673454.2500 - val_acc: 0.9937\n",
            "Epoch 127/500\n",
            "48/48 [==============================] - 0s 4ms/step - loss: 2086584.6250 - acc: 0.9922 - val_loss: 1672901.6250 - val_acc: 0.9937\n",
            "Epoch 128/500\n",
            "48/48 [==============================] - 0s 4ms/step - loss: 2085895.0000 - acc: 0.9922 - val_loss: 1672348.8750 - val_acc: 0.9937\n",
            "Epoch 129/500\n",
            "48/48 [==============================] - 0s 4ms/step - loss: 2085205.8750 - acc: 0.9922 - val_loss: 1671796.2500 - val_acc: 0.9937\n",
            "Epoch 130/500\n",
            "48/48 [==============================] - 0s 5ms/step - loss: 2084516.3750 - acc: 0.9922 - val_loss: 1671243.5000 - val_acc: 0.9937\n",
            "Epoch 131/500\n",
            "48/48 [==============================] - 0s 5ms/step - loss: 2083827.0000 - acc: 0.9922 - val_loss: 1670690.5000 - val_acc: 0.9937\n",
            "Epoch 132/500\n",
            "48/48 [==============================] - 0s 4ms/step - loss: 2083138.1250 - acc: 0.9922 - val_loss: 1670137.8750 - val_acc: 0.9937\n",
            "Epoch 133/500\n",
            "48/48 [==============================] - 0s 4ms/step - loss: 2082448.6250 - acc: 0.9922 - val_loss: 1669585.2500 - val_acc: 0.9937\n",
            "Epoch 134/500\n",
            "48/48 [==============================] - 0s 5ms/step - loss: 2081759.2500 - acc: 0.9922 - val_loss: 1669032.6250 - val_acc: 0.9937\n",
            "Epoch 135/500\n",
            "48/48 [==============================] - 0s 5ms/step - loss: 2081070.2500 - acc: 0.9922 - val_loss: 1668479.8750 - val_acc: 0.9937\n",
            "Epoch 136/500\n",
            "48/48 [==============================] - 0s 4ms/step - loss: 2080380.6250 - acc: 0.9922 - val_loss: 1667927.2500 - val_acc: 0.9937\n",
            "Epoch 137/500\n",
            "48/48 [==============================] - 0s 4ms/step - loss: 2079691.7500 - acc: 0.9922 - val_loss: 1667374.5000 - val_acc: 0.9937\n",
            "Epoch 138/500\n",
            "48/48 [==============================] - 0s 5ms/step - loss: 2079002.5000 - acc: 0.9922 - val_loss: 1666821.8750 - val_acc: 0.9937\n",
            "Epoch 139/500\n",
            "48/48 [==============================] - 0s 4ms/step - loss: 2078313.1250 - acc: 0.9922 - val_loss: 1666269.1250 - val_acc: 0.9937\n",
            "Epoch 140/500\n",
            "48/48 [==============================] - 0s 4ms/step - loss: 2077623.8750 - acc: 0.9922 - val_loss: 1665716.5000 - val_acc: 0.9937\n",
            "Epoch 141/500\n",
            "48/48 [==============================] - 0s 4ms/step - loss: 2076934.2500 - acc: 0.9922 - val_loss: 1665163.7500 - val_acc: 0.9937\n",
            "Epoch 142/500\n",
            "48/48 [==============================] - 0s 4ms/step - loss: 2076245.6250 - acc: 0.9922 - val_loss: 1664611.2500 - val_acc: 0.9937\n",
            "Epoch 143/500\n",
            "48/48 [==============================] - 0s 4ms/step - loss: 2075556.0000 - acc: 0.9922 - val_loss: 1664058.6250 - val_acc: 0.9937\n",
            "Epoch 144/500\n",
            "48/48 [==============================] - 0s 4ms/step - loss: 2074867.0000 - acc: 0.9922 - val_loss: 1663505.7500 - val_acc: 0.9937\n",
            "Epoch 145/500\n",
            "48/48 [==============================] - 0s 5ms/step - loss: 2074178.0000 - acc: 0.9922 - val_loss: 1662953.3750 - val_acc: 0.9937\n",
            "Epoch 146/500\n",
            "48/48 [==============================] - 0s 4ms/step - loss: 2073488.6250 - acc: 0.9922 - val_loss: 1662400.5000 - val_acc: 0.9937\n",
            "Epoch 147/500\n",
            "48/48 [==============================] - 0s 5ms/step - loss: 2072799.6250 - acc: 0.9922 - val_loss: 1661848.0000 - val_acc: 0.9937\n",
            "Epoch 148/500\n",
            "48/48 [==============================] - 0s 4ms/step - loss: 2072110.0000 - acc: 0.9922 - val_loss: 1661295.2500 - val_acc: 0.9937\n",
            "Epoch 149/500\n",
            "48/48 [==============================] - 0s 5ms/step - loss: 2071421.3750 - acc: 0.9922 - val_loss: 1660742.6250 - val_acc: 0.9937\n",
            "Epoch 150/500\n",
            "48/48 [==============================] - 0s 5ms/step - loss: 2070732.1250 - acc: 0.9922 - val_loss: 1660190.0000 - val_acc: 0.9937\n",
            "Epoch 151/500\n",
            "48/48 [==============================] - 0s 5ms/step - loss: 2070042.8750 - acc: 0.9922 - val_loss: 1659637.6250 - val_acc: 0.9937\n",
            "Epoch 152/500\n",
            "48/48 [==============================] - 0s 4ms/step - loss: 2069353.5000 - acc: 0.9922 - val_loss: 1659084.8750 - val_acc: 0.9937\n",
            "Epoch 153/500\n",
            "48/48 [==============================] - 0s 4ms/step - loss: 2068664.6250 - acc: 0.9922 - val_loss: 1658532.3750 - val_acc: 0.9937\n",
            "Epoch 154/500\n",
            "48/48 [==============================] - 0s 4ms/step - loss: 2067975.2500 - acc: 0.9922 - val_loss: 1657979.8750 - val_acc: 0.9937\n",
            "Epoch 155/500\n",
            "48/48 [==============================] - 0s 5ms/step - loss: 2067286.2500 - acc: 0.9922 - val_loss: 1657427.2500 - val_acc: 0.9937\n",
            "Epoch 156/500\n",
            "48/48 [==============================] - 0s 5ms/step - loss: 2066597.1250 - acc: 0.9922 - val_loss: 1656874.7500 - val_acc: 0.9937\n",
            "Epoch 157/500\n",
            "48/48 [==============================] - 0s 4ms/step - loss: 2065908.3750 - acc: 0.9922 - val_loss: 1656322.0000 - val_acc: 0.9937\n",
            "Epoch 158/500\n",
            "48/48 [==============================] - 0s 4ms/step - loss: 2065219.0000 - acc: 0.9922 - val_loss: 1655769.3750 - val_acc: 0.9937\n",
            "Epoch 159/500\n",
            "48/48 [==============================] - 0s 4ms/step - loss: 2064529.6250 - acc: 0.9922 - val_loss: 1655217.0000 - val_acc: 0.9937\n",
            "Epoch 160/500\n",
            "48/48 [==============================] - 0s 4ms/step - loss: 2063840.6250 - acc: 0.9922 - val_loss: 1654664.3750 - val_acc: 0.9937\n",
            "Epoch 161/500\n",
            "48/48 [==============================] - 0s 4ms/step - loss: 2063151.8750 - acc: 0.9922 - val_loss: 1654111.7500 - val_acc: 0.9937\n",
            "Epoch 162/500\n",
            "48/48 [==============================] - 0s 5ms/step - loss: 2062462.2500 - acc: 0.9922 - val_loss: 1653559.2500 - val_acc: 0.9937\n",
            "Epoch 163/500\n",
            "48/48 [==============================] - 0s 5ms/step - loss: 2061773.7500 - acc: 0.9922 - val_loss: 1653006.7500 - val_acc: 0.9937\n",
            "Epoch 164/500\n",
            "48/48 [==============================] - 0s 4ms/step - loss: 2061085.0000 - acc: 0.9922 - val_loss: 1652454.0000 - val_acc: 0.9937\n",
            "Epoch 165/500\n",
            "48/48 [==============================] - 0s 5ms/step - loss: 2060395.3750 - acc: 0.9922 - val_loss: 1651901.6250 - val_acc: 0.9937\n",
            "Epoch 166/500\n",
            "48/48 [==============================] - 0s 4ms/step - loss: 2059706.2500 - acc: 0.9922 - val_loss: 1651349.3750 - val_acc: 0.9937\n",
            "Epoch 167/500\n",
            "48/48 [==============================] - 0s 4ms/step - loss: 2059017.7500 - acc: 0.9922 - val_loss: 1650796.8750 - val_acc: 0.9937\n",
            "Epoch 168/500\n",
            "48/48 [==============================] - 0s 4ms/step - loss: 2058328.7500 - acc: 0.9922 - val_loss: 1650244.2500 - val_acc: 0.9937\n",
            "Epoch 169/500\n",
            "48/48 [==============================] - 0s 5ms/step - loss: 2057639.0000 - acc: 0.9922 - val_loss: 1649691.7500 - val_acc: 0.9937\n",
            "Epoch 170/500\n",
            "48/48 [==============================] - 0s 5ms/step - loss: 2056950.5000 - acc: 0.9922 - val_loss: 1649139.2500 - val_acc: 0.9937\n",
            "Epoch 171/500\n",
            "48/48 [==============================] - 0s 5ms/step - loss: 2056261.3750 - acc: 0.9922 - val_loss: 1648586.7500 - val_acc: 0.9937\n",
            "Epoch 172/500\n",
            "48/48 [==============================] - 0s 4ms/step - loss: 2055572.2500 - acc: 0.9922 - val_loss: 1648034.3750 - val_acc: 0.9937\n",
            "Epoch 173/500\n",
            "48/48 [==============================] - 0s 5ms/step - loss: 2054883.5000 - acc: 0.9922 - val_loss: 1647481.8750 - val_acc: 0.9937\n",
            "Epoch 174/500\n",
            "48/48 [==============================] - 0s 4ms/step - loss: 2054194.2500 - acc: 0.9922 - val_loss: 1646929.2500 - val_acc: 0.9937\n",
            "Epoch 175/500\n",
            "48/48 [==============================] - 0s 4ms/step - loss: 2053505.6250 - acc: 0.9922 - val_loss: 1646377.0000 - val_acc: 0.9937\n",
            "Epoch 176/500\n",
            "48/48 [==============================] - 0s 4ms/step - loss: 2052816.1250 - acc: 0.9922 - val_loss: 1645824.2500 - val_acc: 0.9937\n",
            "Epoch 177/500\n",
            "48/48 [==============================] - 0s 4ms/step - loss: 2052127.5000 - acc: 0.9922 - val_loss: 1645272.0000 - val_acc: 0.9937\n",
            "Epoch 178/500\n",
            "48/48 [==============================] - 0s 5ms/step - loss: 2051438.7500 - acc: 0.9922 - val_loss: 1644719.6250 - val_acc: 0.9937\n",
            "Epoch 179/500\n",
            "48/48 [==============================] - 0s 4ms/step - loss: 2050749.6250 - acc: 0.9922 - val_loss: 1644167.1250 - val_acc: 0.9937\n",
            "Epoch 180/500\n",
            "48/48 [==============================] - 0s 4ms/step - loss: 2050060.7500 - acc: 0.9922 - val_loss: 1643614.6250 - val_acc: 0.9937\n",
            "Epoch 181/500\n",
            "48/48 [==============================] - 0s 5ms/step - loss: 2049372.0000 - acc: 0.9922 - val_loss: 1643062.2500 - val_acc: 0.9937\n",
            "Epoch 182/500\n",
            "48/48 [==============================] - 0s 5ms/step - loss: 2048682.7500 - acc: 0.9922 - val_loss: 1642509.7500 - val_acc: 0.9937\n",
            "Epoch 183/500\n",
            "48/48 [==============================] - 0s 4ms/step - loss: 2047993.7500 - acc: 0.9922 - val_loss: 1641957.3750 - val_acc: 0.9937\n",
            "Epoch 184/500\n",
            "48/48 [==============================] - 0s 5ms/step - loss: 2047305.1250 - acc: 0.9922 - val_loss: 1641404.8750 - val_acc: 0.9937\n",
            "Epoch 185/500\n",
            "48/48 [==============================] - 0s 4ms/step - loss: 2046616.2500 - acc: 0.9922 - val_loss: 1640852.3750 - val_acc: 0.9937\n",
            "Epoch 186/500\n",
            "48/48 [==============================] - 0s 5ms/step - loss: 2045927.0000 - acc: 0.9922 - val_loss: 1640300.2500 - val_acc: 0.9937\n",
            "Epoch 187/500\n",
            "48/48 [==============================] - 0s 4ms/step - loss: 2045238.2500 - acc: 0.9922 - val_loss: 1639747.7500 - val_acc: 0.9937\n",
            "Epoch 188/500\n",
            "48/48 [==============================] - 0s 4ms/step - loss: 2044549.2500 - acc: 0.9922 - val_loss: 1639195.2500 - val_acc: 0.9937\n",
            "Epoch 189/500\n",
            "48/48 [==============================] - 0s 4ms/step - loss: 2043860.6250 - acc: 0.9922 - val_loss: 1638643.1250 - val_acc: 0.9937\n",
            "Epoch 190/500\n",
            "48/48 [==============================] - 0s 4ms/step - loss: 2043171.8750 - acc: 0.9922 - val_loss: 1638090.6250 - val_acc: 0.9937\n",
            "Epoch 191/500\n",
            "48/48 [==============================] - 0s 4ms/step - loss: 2042483.2500 - acc: 0.9922 - val_loss: 1637538.2500 - val_acc: 0.9937\n",
            "Epoch 192/500\n",
            "48/48 [==============================] - 0s 4ms/step - loss: 2041793.8750 - acc: 0.9922 - val_loss: 1636985.8750 - val_acc: 0.9937\n",
            "Epoch 193/500\n",
            "48/48 [==============================] - 0s 4ms/step - loss: 2041104.6250 - acc: 0.9922 - val_loss: 1636433.5000 - val_acc: 0.9937\n",
            "Epoch 194/500\n",
            "48/48 [==============================] - 0s 4ms/step - loss: 2040416.3750 - acc: 0.9922 - val_loss: 1635881.1250 - val_acc: 0.9937\n",
            "Epoch 195/500\n",
            "48/48 [==============================] - 0s 4ms/step - loss: 2039727.8750 - acc: 0.9922 - val_loss: 1635328.8750 - val_acc: 0.9937\n",
            "Epoch 196/500\n",
            "48/48 [==============================] - 0s 5ms/step - loss: 2039038.5000 - acc: 0.9922 - val_loss: 1634776.5000 - val_acc: 0.9937\n",
            "Epoch 197/500\n",
            "48/48 [==============================] - 0s 4ms/step - loss: 2038350.0000 - acc: 0.9922 - val_loss: 1634224.1250 - val_acc: 0.9937\n",
            "Epoch 198/500\n",
            "48/48 [==============================] - 0s 5ms/step - loss: 2037661.2500 - acc: 0.9922 - val_loss: 1633671.8750 - val_acc: 0.9937\n",
            "Epoch 199/500\n",
            "48/48 [==============================] - 0s 5ms/step - loss: 2036972.1250 - acc: 0.9922 - val_loss: 1633119.3750 - val_acc: 0.9937\n",
            "Epoch 200/500\n",
            "48/48 [==============================] - 0s 4ms/step - loss: 2036283.2500 - acc: 0.9922 - val_loss: 1632567.0000 - val_acc: 0.9937\n",
            "Epoch 201/500\n",
            "48/48 [==============================] - 0s 5ms/step - loss: 2035594.6250 - acc: 0.9922 - val_loss: 1632015.0000 - val_acc: 0.9937\n",
            "Epoch 202/500\n",
            "48/48 [==============================] - 0s 4ms/step - loss: 2034905.8750 - acc: 0.9922 - val_loss: 1631462.5000 - val_acc: 0.9937\n",
            "Epoch 203/500\n",
            "48/48 [==============================] - 0s 5ms/step - loss: 2034217.0000 - acc: 0.9922 - val_loss: 1630910.3750 - val_acc: 0.9937\n",
            "Epoch 204/500\n",
            "48/48 [==============================] - 0s 4ms/step - loss: 2033528.7500 - acc: 0.9922 - val_loss: 1630358.0000 - val_acc: 0.9937\n",
            "Epoch 205/500\n",
            "48/48 [==============================] - 0s 5ms/step - loss: 2032839.8750 - acc: 0.9922 - val_loss: 1629805.5000 - val_acc: 0.9937\n",
            "Epoch 206/500\n",
            "48/48 [==============================] - 0s 5ms/step - loss: 2032150.6250 - acc: 0.9922 - val_loss: 1629253.3750 - val_acc: 0.9937\n",
            "Epoch 207/500\n",
            "48/48 [==============================] - 0s 4ms/step - loss: 2031461.8750 - acc: 0.9922 - val_loss: 1628701.0000 - val_acc: 0.9937\n",
            "Epoch 208/500\n",
            "48/48 [==============================] - 0s 4ms/step - loss: 2030773.0000 - acc: 0.9922 - val_loss: 1628148.6250 - val_acc: 0.9937\n",
            "Epoch 209/500\n",
            "48/48 [==============================] - 0s 4ms/step - loss: 2030084.7500 - acc: 0.9922 - val_loss: 1627596.5000 - val_acc: 0.9937\n",
            "Epoch 210/500\n",
            "48/48 [==============================] - 0s 4ms/step - loss: 2029396.0000 - acc: 0.9922 - val_loss: 1627044.1250 - val_acc: 0.9937\n",
            "Epoch 211/500\n",
            "48/48 [==============================] - 0s 4ms/step - loss: 2028707.3750 - acc: 0.9922 - val_loss: 1626492.0000 - val_acc: 0.9937\n",
            "Epoch 212/500\n",
            "48/48 [==============================] - 0s 4ms/step - loss: 2028018.7500 - acc: 0.9922 - val_loss: 1625939.7500 - val_acc: 0.9937\n",
            "Epoch 213/500\n",
            "48/48 [==============================] - 0s 5ms/step - loss: 2027329.5000 - acc: 0.9922 - val_loss: 1625387.3750 - val_acc: 0.9937\n",
            "Epoch 214/500\n",
            "48/48 [==============================] - 0s 4ms/step - loss: 2026641.3750 - acc: 0.9922 - val_loss: 1624835.2500 - val_acc: 0.9937\n",
            "Epoch 215/500\n",
            "48/48 [==============================] - 0s 5ms/step - loss: 2025952.7500 - acc: 0.9922 - val_loss: 1624283.1250 - val_acc: 0.9937\n",
            "Epoch 216/500\n",
            "48/48 [==============================] - 0s 5ms/step - loss: 2025263.5000 - acc: 0.9922 - val_loss: 1623730.8750 - val_acc: 0.9937\n",
            "Epoch 217/500\n",
            "48/48 [==============================] - 0s 4ms/step - loss: 2024574.8750 - acc: 0.9922 - val_loss: 1623178.7500 - val_acc: 0.9937\n",
            "Epoch 218/500\n",
            "48/48 [==============================] - 0s 4ms/step - loss: 2023887.0000 - acc: 0.9922 - val_loss: 1622626.2500 - val_acc: 0.9937\n",
            "Epoch 219/500\n",
            "48/48 [==============================] - 0s 5ms/step - loss: 2023197.6250 - acc: 0.9922 - val_loss: 1622074.1250 - val_acc: 0.9937\n",
            "Epoch 220/500\n",
            "48/48 [==============================] - 0s 5ms/step - loss: 2022509.0000 - acc: 0.9922 - val_loss: 1621521.8750 - val_acc: 0.9937\n",
            "Epoch 221/500\n",
            "48/48 [==============================] - 0s 4ms/step - loss: 2021820.8750 - acc: 0.9922 - val_loss: 1620969.7500 - val_acc: 0.9937\n",
            "Epoch 222/500\n",
            "48/48 [==============================] - 0s 4ms/step - loss: 2021131.5000 - acc: 0.9922 - val_loss: 1620417.6250 - val_acc: 0.9937\n",
            "Epoch 223/500\n",
            "48/48 [==============================] - 0s 4ms/step - loss: 2020443.3750 - acc: 0.9922 - val_loss: 1619865.3750 - val_acc: 0.9937\n",
            "Epoch 224/500\n",
            "48/48 [==============================] - 0s 4ms/step - loss: 2019754.7500 - acc: 0.9922 - val_loss: 1619313.0000 - val_acc: 0.9937\n",
            "Epoch 225/500\n",
            "48/48 [==============================] - 0s 4ms/step - loss: 2019065.8750 - acc: 0.9922 - val_loss: 1618761.0000 - val_acc: 0.9937\n",
            "Epoch 226/500\n",
            "48/48 [==============================] - 0s 4ms/step - loss: 2018377.5000 - acc: 0.9922 - val_loss: 1618208.7500 - val_acc: 0.9937\n",
            "Epoch 227/500\n",
            "48/48 [==============================] - 0s 4ms/step - loss: 2017688.7500 - acc: 0.9922 - val_loss: 1617656.7500 - val_acc: 0.9937\n",
            "Epoch 228/500\n",
            "48/48 [==============================] - 0s 4ms/step - loss: 2017000.0000 - acc: 0.9922 - val_loss: 1617104.6250 - val_acc: 0.9937\n",
            "Epoch 229/500\n",
            "48/48 [==============================] - 0s 4ms/step - loss: 2016311.6250 - acc: 0.9922 - val_loss: 1616552.3750 - val_acc: 0.9937\n",
            "Epoch 230/500\n",
            "48/48 [==============================] - 0s 4ms/step - loss: 2015623.0000 - acc: 0.9922 - val_loss: 1616000.3750 - val_acc: 0.9937\n",
            "Epoch 231/500\n",
            "48/48 [==============================] - 0s 5ms/step - loss: 2014934.2500 - acc: 0.9922 - val_loss: 1615448.1250 - val_acc: 0.9937\n",
            "Epoch 232/500\n",
            "48/48 [==============================] - 0s 5ms/step - loss: 2014245.6250 - acc: 0.9922 - val_loss: 1614895.7500 - val_acc: 0.9937\n",
            "Epoch 233/500\n",
            "48/48 [==============================] - 0s 5ms/step - loss: 2013557.2500 - acc: 0.9922 - val_loss: 1614343.8750 - val_acc: 0.9937\n",
            "Epoch 234/500\n",
            "48/48 [==============================] - 0s 4ms/step - loss: 2012868.6250 - acc: 0.9922 - val_loss: 1613791.7500 - val_acc: 0.9937\n",
            "Epoch 235/500\n",
            "48/48 [==============================] - 0s 4ms/step - loss: 2012180.1250 - acc: 0.9922 - val_loss: 1613239.5000 - val_acc: 0.9937\n",
            "Epoch 236/500\n",
            "48/48 [==============================] - 0s 4ms/step - loss: 2011491.7500 - acc: 0.9922 - val_loss: 1612687.3750 - val_acc: 0.9937\n",
            "Epoch 237/500\n",
            "48/48 [==============================] - 0s 5ms/step - loss: 2010803.3750 - acc: 0.9922 - val_loss: 1612135.3750 - val_acc: 0.9937\n",
            "Epoch 238/500\n",
            "48/48 [==============================] - 0s 5ms/step - loss: 2010114.7500 - acc: 0.9922 - val_loss: 1611583.2500 - val_acc: 0.9937\n",
            "Epoch 239/500\n",
            "48/48 [==============================] - 0s 4ms/step - loss: 2009426.2500 - acc: 0.9922 - val_loss: 1611031.1250 - val_acc: 0.9937\n",
            "Epoch 240/500\n",
            "48/48 [==============================] - 0s 5ms/step - loss: 2008737.7500 - acc: 0.9922 - val_loss: 1610478.8750 - val_acc: 0.9937\n",
            "Epoch 241/500\n",
            "48/48 [==============================] - 0s 4ms/step - loss: 2008049.0000 - acc: 0.9922 - val_loss: 1609927.1250 - val_acc: 0.9937\n",
            "Epoch 242/500\n",
            "48/48 [==============================] - 0s 5ms/step - loss: 2007360.7500 - acc: 0.9922 - val_loss: 1609374.8750 - val_acc: 0.9937\n",
            "Epoch 243/500\n",
            "48/48 [==============================] - 0s 5ms/step - loss: 2006672.0000 - acc: 0.9922 - val_loss: 1608822.8750 - val_acc: 0.9937\n",
            "Epoch 244/500\n",
            "48/48 [==============================] - 0s 4ms/step - loss: 2005983.6250 - acc: 0.9922 - val_loss: 1608270.6250 - val_acc: 0.9937\n",
            "Epoch 245/500\n",
            "48/48 [==============================] - 0s 4ms/step - loss: 2005295.3750 - acc: 0.9922 - val_loss: 1607718.7500 - val_acc: 0.9937\n",
            "Epoch 246/500\n",
            "48/48 [==============================] - 0s 5ms/step - loss: 2004606.7500 - acc: 0.9922 - val_loss: 1607166.6250 - val_acc: 0.9937\n",
            "Epoch 247/500\n",
            "48/48 [==============================] - 0s 4ms/step - loss: 2003918.2500 - acc: 0.9922 - val_loss: 1606614.7500 - val_acc: 0.9937\n",
            "Epoch 248/500\n",
            "48/48 [==============================] - 0s 5ms/step - loss: 2003229.8750 - acc: 0.9922 - val_loss: 1606062.6250 - val_acc: 0.9937\n",
            "Epoch 249/500\n",
            "48/48 [==============================] - 0s 5ms/step - loss: 2002541.2500 - acc: 0.9922 - val_loss: 1605510.7500 - val_acc: 0.9937\n",
            "Epoch 250/500\n",
            "48/48 [==============================] - 0s 4ms/step - loss: 2001853.2500 - acc: 0.9922 - val_loss: 1604958.6250 - val_acc: 0.9937\n",
            "Epoch 251/500\n",
            "48/48 [==============================] - 0s 5ms/step - loss: 2001165.0000 - acc: 0.9922 - val_loss: 1604406.7500 - val_acc: 0.9937\n",
            "Epoch 252/500\n",
            "48/48 [==============================] - 0s 4ms/step - loss: 2000476.1250 - acc: 0.9922 - val_loss: 1603854.7500 - val_acc: 0.9937\n",
            "Epoch 253/500\n",
            "48/48 [==============================] - 0s 4ms/step - loss: 1999787.7500 - acc: 0.9922 - val_loss: 1603302.6250 - val_acc: 0.9937\n",
            "Epoch 254/500\n",
            "48/48 [==============================] - 0s 5ms/step - loss: 1999099.5000 - acc: 0.9922 - val_loss: 1602750.6250 - val_acc: 0.9937\n",
            "Epoch 255/500\n",
            "48/48 [==============================] - 0s 5ms/step - loss: 1998411.2500 - acc: 0.9922 - val_loss: 1602198.6250 - val_acc: 0.9937\n",
            "Epoch 256/500\n",
            "48/48 [==============================] - 0s 4ms/step - loss: 1997722.8750 - acc: 0.9922 - val_loss: 1601646.7500 - val_acc: 0.9937\n",
            "Epoch 257/500\n",
            "48/48 [==============================] - 0s 4ms/step - loss: 1997034.2500 - acc: 0.9922 - val_loss: 1601094.7500 - val_acc: 0.9937\n",
            "Epoch 258/500\n",
            "48/48 [==============================] - 0s 5ms/step - loss: 1996345.8750 - acc: 0.9922 - val_loss: 1600542.7500 - val_acc: 0.9937\n",
            "Epoch 259/500\n",
            "48/48 [==============================] - 0s 5ms/step - loss: 1995658.0000 - acc: 0.9922 - val_loss: 1599990.7500 - val_acc: 0.9937\n",
            "Epoch 260/500\n",
            "48/48 [==============================] - 0s 5ms/step - loss: 1994969.5000 - acc: 0.9922 - val_loss: 1599438.8750 - val_acc: 0.9937\n",
            "Epoch 261/500\n",
            "48/48 [==============================] - 0s 4ms/step - loss: 1994281.3750 - acc: 0.9922 - val_loss: 1598886.8750 - val_acc: 0.9937\n",
            "Epoch 262/500\n",
            "48/48 [==============================] - 0s 4ms/step - loss: 1993593.0000 - acc: 0.9922 - val_loss: 1598334.8750 - val_acc: 0.9937\n",
            "Epoch 263/500\n",
            "48/48 [==============================] - 0s 5ms/step - loss: 1992904.6250 - acc: 0.9922 - val_loss: 1597783.0000 - val_acc: 0.9937\n",
            "Epoch 264/500\n",
            "48/48 [==============================] - 0s 5ms/step - loss: 1992215.8750 - acc: 0.9922 - val_loss: 1597230.8750 - val_acc: 0.9937\n",
            "Epoch 265/500\n",
            "48/48 [==============================] - 0s 4ms/step - loss: 1991527.5000 - acc: 0.9922 - val_loss: 1596679.1250 - val_acc: 0.9937\n",
            "Epoch 266/500\n",
            "48/48 [==============================] - 0s 4ms/step - loss: 1990839.2500 - acc: 0.9922 - val_loss: 1596127.1250 - val_acc: 0.9937\n",
            "Epoch 267/500\n",
            "48/48 [==============================] - 0s 4ms/step - loss: 1990150.7500 - acc: 0.9922 - val_loss: 1595575.2500 - val_acc: 0.9937\n",
            "Epoch 268/500\n",
            "48/48 [==============================] - 0s 5ms/step - loss: 1989462.7500 - acc: 0.9922 - val_loss: 1595023.3750 - val_acc: 0.9937\n",
            "Epoch 269/500\n",
            "48/48 [==============================] - 0s 5ms/step - loss: 1988774.7500 - acc: 0.9922 - val_loss: 1594471.2500 - val_acc: 0.9937\n",
            "Epoch 270/500\n",
            "48/48 [==============================] - 0s 5ms/step - loss: 1988086.2500 - acc: 0.9922 - val_loss: 1593919.5000 - val_acc: 0.9937\n",
            "Epoch 271/500\n",
            "48/48 [==============================] - 0s 4ms/step - loss: 1987398.0000 - acc: 0.9922 - val_loss: 1593367.7500 - val_acc: 0.9937\n",
            "Epoch 272/500\n",
            "48/48 [==============================] - 0s 4ms/step - loss: 1986709.8750 - acc: 0.9922 - val_loss: 1592815.7500 - val_acc: 0.9937\n",
            "Epoch 273/500\n",
            "48/48 [==============================] - 0s 5ms/step - loss: 1986021.3750 - acc: 0.9922 - val_loss: 1592263.7500 - val_acc: 0.9937\n",
            "Epoch 274/500\n",
            "48/48 [==============================] - 0s 5ms/step - loss: 1985333.3750 - acc: 0.9922 - val_loss: 1591712.1250 - val_acc: 0.9937\n",
            "Epoch 275/500\n",
            "48/48 [==============================] - 0s 4ms/step - loss: 1984645.0000 - acc: 0.9922 - val_loss: 1591160.0000 - val_acc: 0.9937\n",
            "Epoch 276/500\n",
            "48/48 [==============================] - 0s 5ms/step - loss: 1983956.5000 - acc: 0.9922 - val_loss: 1590608.1250 - val_acc: 0.9937\n",
            "Epoch 277/500\n",
            "48/48 [==============================] - 0s 6ms/step - loss: 1983268.6250 - acc: 0.9922 - val_loss: 1590056.2500 - val_acc: 0.9937\n",
            "Epoch 278/500\n",
            "48/48 [==============================] - 0s 4ms/step - loss: 1982580.2500 - acc: 0.9922 - val_loss: 1589504.3750 - val_acc: 0.9937\n",
            "Epoch 279/500\n",
            "48/48 [==============================] - 0s 5ms/step - loss: 1981892.0000 - acc: 0.9922 - val_loss: 1588952.5000 - val_acc: 0.9937\n",
            "Epoch 280/500\n",
            "48/48 [==============================] - 0s 4ms/step - loss: 1981203.7500 - acc: 0.9922 - val_loss: 1588400.5000 - val_acc: 0.9937\n",
            "Epoch 281/500\n",
            "48/48 [==============================] - 0s 5ms/step - loss: 1980515.7500 - acc: 0.9922 - val_loss: 1587848.7500 - val_acc: 0.9937\n",
            "Epoch 282/500\n",
            "48/48 [==============================] - 0s 4ms/step - loss: 1979827.0000 - acc: 0.9922 - val_loss: 1587297.0000 - val_acc: 0.9937\n",
            "Epoch 283/500\n",
            "48/48 [==============================] - 0s 4ms/step - loss: 1979139.3750 - acc: 0.9922 - val_loss: 1586745.2500 - val_acc: 0.9937\n",
            "Epoch 284/500\n",
            "48/48 [==============================] - 0s 4ms/step - loss: 1978451.1250 - acc: 0.9922 - val_loss: 1586193.3750 - val_acc: 0.9937\n",
            "Epoch 285/500\n",
            "48/48 [==============================] - 0s 5ms/step - loss: 1977763.0000 - acc: 0.9922 - val_loss: 1585641.5000 - val_acc: 0.9937\n",
            "Epoch 286/500\n",
            "48/48 [==============================] - 0s 5ms/step - loss: 1977074.7500 - acc: 0.9922 - val_loss: 1585089.6250 - val_acc: 0.9937\n",
            "Epoch 287/500\n",
            "48/48 [==============================] - 0s 5ms/step - loss: 1976386.7500 - acc: 0.9922 - val_loss: 1584538.0000 - val_acc: 0.9937\n",
            "Epoch 288/500\n",
            "48/48 [==============================] - 0s 5ms/step - loss: 1975698.3750 - acc: 0.9922 - val_loss: 1583986.0000 - val_acc: 0.9937\n",
            "Epoch 289/500\n",
            "48/48 [==============================] - 0s 4ms/step - loss: 1975010.6250 - acc: 0.9922 - val_loss: 1583434.2500 - val_acc: 0.9937\n",
            "Epoch 290/500\n",
            "48/48 [==============================] - 0s 5ms/step - loss: 1974322.0000 - acc: 0.9922 - val_loss: 1582882.3750 - val_acc: 0.9937\n",
            "Epoch 291/500\n",
            "48/48 [==============================] - 0s 5ms/step - loss: 1973633.7500 - acc: 0.9922 - val_loss: 1582330.6250 - val_acc: 0.9937\n",
            "Epoch 292/500\n",
            "48/48 [==============================] - 0s 5ms/step - loss: 1972945.7500 - acc: 0.9922 - val_loss: 1581779.0000 - val_acc: 0.9937\n",
            "Epoch 293/500\n",
            "48/48 [==============================] - ETA: 0s - loss: 1972257.8750 - acc: 0.9922"
          ]
        },
        {
          "output_type": "error",
          "ename": "KeyboardInterrupt",
          "evalue": "ignored",
          "traceback": [
            "\u001b[0;31m---------------------------------------------------------------------------\u001b[0m",
            "\u001b[0;31mKeyboardInterrupt\u001b[0m                         Traceback (most recent call last)",
            "\u001b[0;32m<ipython-input-43-4417ee136be7>\u001b[0m in \u001b[0;36m<module>\u001b[0;34m()\u001b[0m\n\u001b[1;32m     19\u001b[0m hist = model_c.fit(train_x, train_y, validation_split=0.2, \n\u001b[1;32m     20\u001b[0m                    \u001b[0mbatch_size\u001b[0m\u001b[0;34m=\u001b[0m\u001b[0;36m5000\u001b[0m\u001b[0;34m,\u001b[0m \u001b[0mepochs\u001b[0m\u001b[0;34m=\u001b[0m\u001b[0mepochs\u001b[0m\u001b[0;34m,\u001b[0m\u001b[0mshuffle\u001b[0m\u001b[0;34m=\u001b[0m\u001b[0;32mFalse\u001b[0m\u001b[0;34m,\u001b[0m\u001b[0muse_multiprocessing\u001b[0m\u001b[0;34m=\u001b[0m\u001b[0;32mFalse\u001b[0m\u001b[0;34m,\u001b[0m\u001b[0;34m\u001b[0m\u001b[0;34m\u001b[0m\u001b[0m\n\u001b[0;32m---> 21\u001b[0;31m                    verbose=1, callbacks=[early_stop])\n\u001b[0m",
            "\u001b[0;32m/usr/local/lib/python3.7/dist-packages/keras/utils/traceback_utils.py\u001b[0m in \u001b[0;36merror_handler\u001b[0;34m(*args, **kwargs)\u001b[0m\n\u001b[1;32m     62\u001b[0m     \u001b[0mfiltered_tb\u001b[0m \u001b[0;34m=\u001b[0m \u001b[0;32mNone\u001b[0m\u001b[0;34m\u001b[0m\u001b[0;34m\u001b[0m\u001b[0m\n\u001b[1;32m     63\u001b[0m     \u001b[0;32mtry\u001b[0m\u001b[0;34m:\u001b[0m\u001b[0;34m\u001b[0m\u001b[0;34m\u001b[0m\u001b[0m\n\u001b[0;32m---> 64\u001b[0;31m       \u001b[0;32mreturn\u001b[0m \u001b[0mfn\u001b[0m\u001b[0;34m(\u001b[0m\u001b[0;34m*\u001b[0m\u001b[0margs\u001b[0m\u001b[0;34m,\u001b[0m \u001b[0;34m**\u001b[0m\u001b[0mkwargs\u001b[0m\u001b[0;34m)\u001b[0m\u001b[0;34m\u001b[0m\u001b[0;34m\u001b[0m\u001b[0m\n\u001b[0m\u001b[1;32m     65\u001b[0m     \u001b[0;32mexcept\u001b[0m \u001b[0mException\u001b[0m \u001b[0;32mas\u001b[0m \u001b[0me\u001b[0m\u001b[0;34m:\u001b[0m  \u001b[0;31m# pylint: disable=broad-except\u001b[0m\u001b[0;34m\u001b[0m\u001b[0;34m\u001b[0m\u001b[0m\n\u001b[1;32m     66\u001b[0m       \u001b[0mfiltered_tb\u001b[0m \u001b[0;34m=\u001b[0m \u001b[0m_process_traceback_frames\u001b[0m\u001b[0;34m(\u001b[0m\u001b[0me\u001b[0m\u001b[0;34m.\u001b[0m\u001b[0m__traceback__\u001b[0m\u001b[0;34m)\u001b[0m\u001b[0;34m\u001b[0m\u001b[0;34m\u001b[0m\u001b[0m\n",
            "\u001b[0;32m/usr/local/lib/python3.7/dist-packages/keras/engine/training.py\u001b[0m in \u001b[0;36mfit\u001b[0;34m(self, x, y, batch_size, epochs, verbose, callbacks, validation_split, validation_data, shuffle, class_weight, sample_weight, initial_epoch, steps_per_epoch, validation_steps, validation_batch_size, validation_freq, max_queue_size, workers, use_multiprocessing)\u001b[0m\n\u001b[1;32m   1429\u001b[0m               \u001b[0muse_multiprocessing\u001b[0m\u001b[0;34m=\u001b[0m\u001b[0muse_multiprocessing\u001b[0m\u001b[0;34m,\u001b[0m\u001b[0;34m\u001b[0m\u001b[0;34m\u001b[0m\u001b[0m\n\u001b[1;32m   1430\u001b[0m               \u001b[0mreturn_dict\u001b[0m\u001b[0;34m=\u001b[0m\u001b[0;32mTrue\u001b[0m\u001b[0;34m,\u001b[0m\u001b[0;34m\u001b[0m\u001b[0;34m\u001b[0m\u001b[0m\n\u001b[0;32m-> 1431\u001b[0;31m               _use_cached_eval_dataset=True)\n\u001b[0m\u001b[1;32m   1432\u001b[0m           \u001b[0mval_logs\u001b[0m \u001b[0;34m=\u001b[0m \u001b[0;34m{\u001b[0m\u001b[0;34m'val_'\u001b[0m \u001b[0;34m+\u001b[0m \u001b[0mname\u001b[0m\u001b[0;34m:\u001b[0m \u001b[0mval\u001b[0m \u001b[0;32mfor\u001b[0m \u001b[0mname\u001b[0m\u001b[0;34m,\u001b[0m \u001b[0mval\u001b[0m \u001b[0;32min\u001b[0m \u001b[0mval_logs\u001b[0m\u001b[0;34m.\u001b[0m\u001b[0mitems\u001b[0m\u001b[0;34m(\u001b[0m\u001b[0;34m)\u001b[0m\u001b[0;34m}\u001b[0m\u001b[0;34m\u001b[0m\u001b[0;34m\u001b[0m\u001b[0m\n\u001b[1;32m   1433\u001b[0m           \u001b[0mepoch_logs\u001b[0m\u001b[0;34m.\u001b[0m\u001b[0mupdate\u001b[0m\u001b[0;34m(\u001b[0m\u001b[0mval_logs\u001b[0m\u001b[0;34m)\u001b[0m\u001b[0;34m\u001b[0m\u001b[0;34m\u001b[0m\u001b[0m\n",
            "\u001b[0;32m/usr/local/lib/python3.7/dist-packages/keras/utils/traceback_utils.py\u001b[0m in \u001b[0;36merror_handler\u001b[0;34m(*args, **kwargs)\u001b[0m\n\u001b[1;32m     62\u001b[0m     \u001b[0mfiltered_tb\u001b[0m \u001b[0;34m=\u001b[0m \u001b[0;32mNone\u001b[0m\u001b[0;34m\u001b[0m\u001b[0;34m\u001b[0m\u001b[0m\n\u001b[1;32m     63\u001b[0m     \u001b[0;32mtry\u001b[0m\u001b[0;34m:\u001b[0m\u001b[0;34m\u001b[0m\u001b[0;34m\u001b[0m\u001b[0m\n\u001b[0;32m---> 64\u001b[0;31m       \u001b[0;32mreturn\u001b[0m \u001b[0mfn\u001b[0m\u001b[0;34m(\u001b[0m\u001b[0;34m*\u001b[0m\u001b[0margs\u001b[0m\u001b[0;34m,\u001b[0m \u001b[0;34m**\u001b[0m\u001b[0mkwargs\u001b[0m\u001b[0;34m)\u001b[0m\u001b[0;34m\u001b[0m\u001b[0;34m\u001b[0m\u001b[0m\n\u001b[0m\u001b[1;32m     65\u001b[0m     \u001b[0;32mexcept\u001b[0m \u001b[0mException\u001b[0m \u001b[0;32mas\u001b[0m \u001b[0me\u001b[0m\u001b[0;34m:\u001b[0m  \u001b[0;31m# pylint: disable=broad-except\u001b[0m\u001b[0;34m\u001b[0m\u001b[0;34m\u001b[0m\u001b[0m\n\u001b[1;32m     66\u001b[0m       \u001b[0mfiltered_tb\u001b[0m \u001b[0;34m=\u001b[0m \u001b[0m_process_traceback_frames\u001b[0m\u001b[0;34m(\u001b[0m\u001b[0me\u001b[0m\u001b[0;34m.\u001b[0m\u001b[0m__traceback__\u001b[0m\u001b[0;34m)\u001b[0m\u001b[0;34m\u001b[0m\u001b[0;34m\u001b[0m\u001b[0m\n",
            "\u001b[0;32m/usr/local/lib/python3.7/dist-packages/keras/engine/training.py\u001b[0m in \u001b[0;36mevaluate\u001b[0;34m(self, x, y, batch_size, verbose, sample_weight, steps, callbacks, max_queue_size, workers, use_multiprocessing, return_dict, **kwargs)\u001b[0m\n\u001b[1;32m   1708\u001b[0m       \u001b[0mself\u001b[0m\u001b[0;34m.\u001b[0m\u001b[0m_test_counter\u001b[0m\u001b[0;34m.\u001b[0m\u001b[0massign\u001b[0m\u001b[0;34m(\u001b[0m\u001b[0;36m0\u001b[0m\u001b[0;34m)\u001b[0m\u001b[0;34m\u001b[0m\u001b[0;34m\u001b[0m\u001b[0m\n\u001b[1;32m   1709\u001b[0m       \u001b[0mcallbacks\u001b[0m\u001b[0;34m.\u001b[0m\u001b[0mon_test_begin\u001b[0m\u001b[0;34m(\u001b[0m\u001b[0;34m)\u001b[0m\u001b[0;34m\u001b[0m\u001b[0;34m\u001b[0m\u001b[0m\n\u001b[0;32m-> 1710\u001b[0;31m       \u001b[0;32mfor\u001b[0m \u001b[0m_\u001b[0m\u001b[0;34m,\u001b[0m \u001b[0miterator\u001b[0m \u001b[0;32min\u001b[0m \u001b[0mdata_handler\u001b[0m\u001b[0;34m.\u001b[0m\u001b[0menumerate_epochs\u001b[0m\u001b[0;34m(\u001b[0m\u001b[0;34m)\u001b[0m\u001b[0;34m:\u001b[0m  \u001b[0;31m# Single epoch.\u001b[0m\u001b[0;34m\u001b[0m\u001b[0;34m\u001b[0m\u001b[0m\n\u001b[0m\u001b[1;32m   1711\u001b[0m         \u001b[0mself\u001b[0m\u001b[0;34m.\u001b[0m\u001b[0mreset_metrics\u001b[0m\u001b[0;34m(\u001b[0m\u001b[0;34m)\u001b[0m\u001b[0;34m\u001b[0m\u001b[0;34m\u001b[0m\u001b[0m\n\u001b[1;32m   1712\u001b[0m         \u001b[0;32mwith\u001b[0m \u001b[0mdata_handler\u001b[0m\u001b[0;34m.\u001b[0m\u001b[0mcatch_stop_iteration\u001b[0m\u001b[0;34m(\u001b[0m\u001b[0;34m)\u001b[0m\u001b[0;34m:\u001b[0m\u001b[0;34m\u001b[0m\u001b[0;34m\u001b[0m\u001b[0m\n",
            "\u001b[0;32m/usr/local/lib/python3.7/dist-packages/keras/engine/data_adapter.py\u001b[0m in \u001b[0;36menumerate_epochs\u001b[0;34m(self)\u001b[0m\n\u001b[1;32m   1189\u001b[0m     \u001b[0;34m\"\"\"Yields `(epoch, tf.data.Iterator)`.\"\"\"\u001b[0m\u001b[0;34m\u001b[0m\u001b[0;34m\u001b[0m\u001b[0m\n\u001b[1;32m   1190\u001b[0m     \u001b[0;32mwith\u001b[0m \u001b[0mself\u001b[0m\u001b[0;34m.\u001b[0m\u001b[0m_truncate_execution_to_epoch\u001b[0m\u001b[0;34m(\u001b[0m\u001b[0;34m)\u001b[0m\u001b[0;34m:\u001b[0m\u001b[0;34m\u001b[0m\u001b[0;34m\u001b[0m\u001b[0m\n\u001b[0;32m-> 1191\u001b[0;31m       \u001b[0mdata_iterator\u001b[0m \u001b[0;34m=\u001b[0m \u001b[0miter\u001b[0m\u001b[0;34m(\u001b[0m\u001b[0mself\u001b[0m\u001b[0;34m.\u001b[0m\u001b[0m_dataset\u001b[0m\u001b[0;34m)\u001b[0m\u001b[0;34m\u001b[0m\u001b[0;34m\u001b[0m\u001b[0m\n\u001b[0m\u001b[1;32m   1192\u001b[0m       \u001b[0;32mfor\u001b[0m \u001b[0mepoch\u001b[0m \u001b[0;32min\u001b[0m \u001b[0mrange\u001b[0m\u001b[0;34m(\u001b[0m\u001b[0mself\u001b[0m\u001b[0;34m.\u001b[0m\u001b[0m_initial_epoch\u001b[0m\u001b[0;34m,\u001b[0m \u001b[0mself\u001b[0m\u001b[0;34m.\u001b[0m\u001b[0m_epochs\u001b[0m\u001b[0;34m)\u001b[0m\u001b[0;34m:\u001b[0m\u001b[0;34m\u001b[0m\u001b[0;34m\u001b[0m\u001b[0m\n\u001b[1;32m   1193\u001b[0m         \u001b[0;32mif\u001b[0m \u001b[0mself\u001b[0m\u001b[0;34m.\u001b[0m\u001b[0m_insufficient_data\u001b[0m\u001b[0;34m:\u001b[0m  \u001b[0;31m# Set by `catch_stop_iteration`.\u001b[0m\u001b[0;34m\u001b[0m\u001b[0;34m\u001b[0m\u001b[0m\n",
            "\u001b[0;32m/usr/local/lib/python3.7/dist-packages/tensorflow/python/data/ops/dataset_ops.py\u001b[0m in \u001b[0;36m__iter__\u001b[0;34m(self)\u001b[0m\n\u001b[1;32m    484\u001b[0m     \u001b[0;32mif\u001b[0m \u001b[0mcontext\u001b[0m\u001b[0;34m.\u001b[0m\u001b[0mexecuting_eagerly\u001b[0m\u001b[0;34m(\u001b[0m\u001b[0;34m)\u001b[0m \u001b[0;32mor\u001b[0m \u001b[0mops\u001b[0m\u001b[0;34m.\u001b[0m\u001b[0minside_function\u001b[0m\u001b[0;34m(\u001b[0m\u001b[0;34m)\u001b[0m\u001b[0;34m:\u001b[0m\u001b[0;34m\u001b[0m\u001b[0;34m\u001b[0m\u001b[0m\n\u001b[1;32m    485\u001b[0m       \u001b[0;32mwith\u001b[0m \u001b[0mops\u001b[0m\u001b[0;34m.\u001b[0m\u001b[0mcolocate_with\u001b[0m\u001b[0;34m(\u001b[0m\u001b[0mself\u001b[0m\u001b[0;34m.\u001b[0m\u001b[0m_variant_tensor\u001b[0m\u001b[0;34m)\u001b[0m\u001b[0;34m:\u001b[0m\u001b[0;34m\u001b[0m\u001b[0;34m\u001b[0m\u001b[0m\n\u001b[0;32m--> 486\u001b[0;31m         \u001b[0;32mreturn\u001b[0m \u001b[0miterator_ops\u001b[0m\u001b[0;34m.\u001b[0m\u001b[0mOwnedIterator\u001b[0m\u001b[0;34m(\u001b[0m\u001b[0mself\u001b[0m\u001b[0;34m)\u001b[0m\u001b[0;34m\u001b[0m\u001b[0;34m\u001b[0m\u001b[0m\n\u001b[0m\u001b[1;32m    487\u001b[0m     \u001b[0;32melse\u001b[0m\u001b[0;34m:\u001b[0m\u001b[0;34m\u001b[0m\u001b[0;34m\u001b[0m\u001b[0m\n\u001b[1;32m    488\u001b[0m       raise RuntimeError(\"`tf.data.Dataset` only supports Python-style \"\n",
            "\u001b[0;32m/usr/local/lib/python3.7/dist-packages/tensorflow/python/data/ops/iterator_ops.py\u001b[0m in \u001b[0;36m__init__\u001b[0;34m(self, dataset, components, element_spec)\u001b[0m\n\u001b[1;32m    753\u001b[0m             \u001b[0;34m\"When `dataset` is provided, `element_spec` and `components` must \"\u001b[0m\u001b[0;34m\u001b[0m\u001b[0;34m\u001b[0m\u001b[0m\n\u001b[1;32m    754\u001b[0m             \"not be specified.\")\n\u001b[0;32m--> 755\u001b[0;31m       \u001b[0mself\u001b[0m\u001b[0;34m.\u001b[0m\u001b[0m_create_iterator\u001b[0m\u001b[0;34m(\u001b[0m\u001b[0mdataset\u001b[0m\u001b[0;34m)\u001b[0m\u001b[0;34m\u001b[0m\u001b[0;34m\u001b[0m\u001b[0m\n\u001b[0m\u001b[1;32m    756\u001b[0m \u001b[0;34m\u001b[0m\u001b[0m\n\u001b[1;32m    757\u001b[0m     \u001b[0mself\u001b[0m\u001b[0;34m.\u001b[0m\u001b[0m_get_next_call_count\u001b[0m \u001b[0;34m=\u001b[0m \u001b[0;36m0\u001b[0m\u001b[0;34m\u001b[0m\u001b[0;34m\u001b[0m\u001b[0m\n",
            "\u001b[0;32m/usr/local/lib/python3.7/dist-packages/tensorflow/python/data/ops/iterator_ops.py\u001b[0m in \u001b[0;36m_create_iterator\u001b[0;34m(self, dataset)\u001b[0m\n\u001b[1;32m    785\u001b[0m                 \u001b[0moutput_types\u001b[0m\u001b[0;34m=\u001b[0m\u001b[0mself\u001b[0m\u001b[0;34m.\u001b[0m\u001b[0m_flat_output_types\u001b[0m\u001b[0;34m,\u001b[0m\u001b[0;34m\u001b[0m\u001b[0;34m\u001b[0m\u001b[0m\n\u001b[1;32m    786\u001b[0m                 output_shapes=self._flat_output_shapes))\n\u001b[0;32m--> 787\u001b[0;31m         \u001b[0mgen_dataset_ops\u001b[0m\u001b[0;34m.\u001b[0m\u001b[0mmake_iterator\u001b[0m\u001b[0;34m(\u001b[0m\u001b[0mds_variant\u001b[0m\u001b[0;34m,\u001b[0m \u001b[0mself\u001b[0m\u001b[0;34m.\u001b[0m\u001b[0m_iterator_resource\u001b[0m\u001b[0;34m)\u001b[0m\u001b[0;34m\u001b[0m\u001b[0;34m\u001b[0m\u001b[0m\n\u001b[0m\u001b[1;32m    788\u001b[0m         \u001b[0;31m# Delete the resource when this object is deleted\u001b[0m\u001b[0;34m\u001b[0m\u001b[0;34m\u001b[0m\u001b[0;34m\u001b[0m\u001b[0m\n\u001b[1;32m    789\u001b[0m         self._resource_deleter = IteratorResourceDeleter(\n",
            "\u001b[0;32m/usr/local/lib/python3.7/dist-packages/tensorflow/python/ops/gen_dataset_ops.py\u001b[0m in \u001b[0;36mmake_iterator\u001b[0;34m(dataset, iterator, name)\u001b[0m\n\u001b[1;32m   3314\u001b[0m     \u001b[0;32mtry\u001b[0m\u001b[0;34m:\u001b[0m\u001b[0;34m\u001b[0m\u001b[0;34m\u001b[0m\u001b[0m\n\u001b[1;32m   3315\u001b[0m       _result = pywrap_tfe.TFE_Py_FastPathExecute(\n\u001b[0;32m-> 3316\u001b[0;31m         _ctx, \"MakeIterator\", name, dataset, iterator)\n\u001b[0m\u001b[1;32m   3317\u001b[0m       \u001b[0;32mreturn\u001b[0m \u001b[0m_result\u001b[0m\u001b[0;34m\u001b[0m\u001b[0;34m\u001b[0m\u001b[0m\n\u001b[1;32m   3318\u001b[0m     \u001b[0;32mexcept\u001b[0m \u001b[0m_core\u001b[0m\u001b[0;34m.\u001b[0m\u001b[0m_NotOkStatusException\u001b[0m \u001b[0;32mas\u001b[0m \u001b[0me\u001b[0m\u001b[0;34m:\u001b[0m\u001b[0;34m\u001b[0m\u001b[0;34m\u001b[0m\u001b[0m\n",
            "\u001b[0;31mKeyboardInterrupt\u001b[0m: "
          ]
        }
      ]
    },
    {
      "cell_type": "code",
      "source": [
        "#Naive Bayes model\n",
        "nb =GaussianNB()\n",
        "model_c = nb.fit(train_x, train_y)"
      ],
      "metadata": {
        "id": "JiI4RxTwpFLF"
      },
      "execution_count": null,
      "outputs": []
    },
    {
      "cell_type": "code",
      "source": [
        "from sklearn.ensemble import RandomForestClassifier\n",
        "\n",
        "model_c = RandomForestClassifier(n_estimators=120,max_depth=20)\n",
        "model_c.fit(train_x,train_y)"
      ],
      "metadata": {
        "id": "ONY7_5pJO5yM",
        "outputId": "8b9c0a7f-17b0-4f27-d68a-bf825e166632",
        "colab": {
          "base_uri": "https://localhost:8080/"
        }
      },
      "execution_count": null,
      "outputs": [
        {
          "output_type": "execute_result",
          "data": {
            "text/plain": [
              "RandomForestClassifier(max_depth=20, n_estimators=120)"
            ]
          },
          "metadata": {},
          "execution_count": 48
        }
      ]
    },
    {
      "cell_type": "code",
      "source": [
        "test_x = x[300000:310000]\n",
        "test_y = 1-y[300000:310000]\n",
        "test_x[df_num.columns] = ss.fit_transform(test_x[df_num.columns])"
      ],
      "metadata": {
        "id": "SAldYU2pipeS"
      },
      "execution_count": null,
      "outputs": []
    },
    {
      "cell_type": "code",
      "source": [
        "from sklearn.metrics import f1_score\n",
        "from sklearn.metrics import precision_recall_fscore_support\n",
        "\n",
        "pedict_y = model_c.predict(test_x)\n",
        "#ppy = [1 if py > 0.5 else 0 for py in pedict_y[:,0]]     \n",
        "ppy = [0 if py > 0.5 else 1 for py in pedict_y]              \n",
        "acc = precision_recall_fscore_support(test_y.values,np.asarray(ppy),average='binary')\n",
        "\n",
        "acc"
      ],
      "metadata": {
        "colab": {
          "base_uri": "https://localhost:8080/"
        },
        "id": "LJLPvy2Jj4gG",
        "outputId": "3bdd168c-8848-4172-e0aa-1827ad8f1604"
      },
      "execution_count": null,
      "outputs": [
        {
          "output_type": "execute_result",
          "data": {
            "text/plain": [
              "(0.9961, 1.0, 0.9980461900706378, None)"
            ]
          },
          "metadata": {},
          "execution_count": 54
        }
      ]
    },
    {
      "cell_type": "code",
      "source": [
        "ppy"
      ],
      "metadata": {
        "id": "IR_dmBtMQBbJ"
      },
      "execution_count": null,
      "outputs": []
    },
    {
      "cell_type": "code",
      "source": [
        "print(classification_report(test_y,ppy))"
      ],
      "metadata": {
        "colab": {
          "base_uri": "https://localhost:8080/"
        },
        "id": "8MMx2CoDlcQI",
        "outputId": "69cddb54-73b4-4af2-d920-19fce82de99b"
      },
      "execution_count": null,
      "outputs": [
        {
          "output_type": "stream",
          "name": "stdout",
          "text": [
            "              precision    recall  f1-score   support\n",
            "\n",
            "           0       0.00      0.00      0.00        39\n",
            "           1       1.00      1.00      1.00      9961\n",
            "\n",
            "    accuracy                           1.00     10000\n",
            "   macro avg       0.50      0.50      0.50     10000\n",
            "weighted avg       0.99      1.00      0.99     10000\n",
            "\n"
          ]
        }
      ]
    },
    {
      "cell_type": "code",
      "source": [
        "import math\n",
        "f1s = []\n",
        "batch_size = 10000\n",
        "batch = math.ceil(x[300000:-1].shape[0]/batch_size)\n",
        "for i in range(batch):\n",
        "    ux = x[300000:-1][i*batch_size:(i+1)*batch_size]\n",
        "    ux[df_num.columns] = ss.fit_transform(ux[df_num.columns])\n",
        "    uy = 1-y[300000:-1][i*batch_size:(i+1)*batch_size]\n",
        "    predict_y = model_c.predict(ux)\n",
        "    ppy = [0 if py > 0.5 else 1 for py in predict_y]       \n",
        "    f1 = precision_recall_fscore_support(uy, np.asarray(ppy),average='binary')\n",
        "    print(\"f1:\",f1[2])\n",
        "    f1s.append(f1[2])"
      ],
      "metadata": {
        "colab": {
          "base_uri": "https://localhost:8080/"
        },
        "id": "uCYSv-lMlmha",
        "outputId": "91c1e983-f49d-4d0e-c5fc-6e826fed2252"
      },
      "execution_count": null,
      "outputs": [
        {
          "output_type": "stream",
          "name": "stdout",
          "text": [
            "f1: 0.9980461900706378\n",
            "f1: 0.99964987745711\n",
            "f1: 0.9970915655400662\n",
            "f1: 0.9994496973335335\n",
            "f1: 0.9977951493285228\n",
            "f1: 0.9976444644915552\n",
            "f1: 0.9980963831279431\n",
            "f1: 0.9976444644915552\n",
            "f1: 0.9986481750362989\n",
            "f1: 0.9959335307997389\n",
            "f1: 0.99849774661993\n",
            "f1: 0.9975942261427425\n",
            "f1: 0.9973932223781832\n",
            "f1: 0.9981967541574834\n",
            "f1: 0.9993996397838703\n",
            "f1: 0.9987484355444306\n",
            "f1: 0.9978453675402115\n",
            "f1: 0.9963869931754317\n",
            "f1: 0.9991993594875901\n",
            "f1: 0.9973429588409285\n",
            "f1: 0.9988987886675343\n",
            "f1: 0.997895580719511\n",
            "f1: 0.9981967541574834\n",
            "f1: 0.9971418542847114\n",
            "f1: 0.9993996397838703\n",
            "f1: 0.9968903601163607\n",
            "f1: 0.9978453675402115\n",
            "f1: 0.9960343356257216\n",
            "f1: 0.9981967541574834\n",
            "f1: 0.9955805544395339\n",
            "f1: 0.9963869931754317\n",
            "f1: 0.9973932223781832\n",
            "f1: 0.9963366286947357\n",
            "f1: 0.9973429588409285\n",
            "f1: 0.9968903601163607\n",
            "f1: 0.9973932223781832\n",
            "f1: 0.9964877069744105\n",
            "f1: 0.9961351202128194\n",
            "f1: 0.9944190255920358\n",
            "f1: 0.9980963831279431\n",
            "f1: 0.9982469321312296\n",
            "f1: 0.9954796584630838\n",
            "f1: 0.998547894446948\n",
            "f1: 0.9976444644915552\n",
            "f1: 0.9973429588409285\n",
            "f1: 0.9979959919839679\n",
            "f1: 0.9978453675402115\n",
            "f1: 0.9955301089849832\n",
            "f1: 0.997895580719511\n",
            "f1: 0.9977951493285228\n",
            "f1: 0.997242416645776\n",
            "f1: 0.9986481750362989\n",
            "f1: 0.9987484355444306\n",
            "f1: 0.9967897271268058\n",
            "f1: 0.9989488963411582\n",
            "f1: 0.9987484355444306\n",
            "f1: 0.998397435897436\n",
            "f1: 0.9974937343358395\n",
            "f1: 0.9982971050786338\n",
            "f1: 0.9966387397782571\n",
            "f1: 0.9974434808762345\n",
            "f1: 0.9981967541574834\n",
            "f1: 0.9963869931754317\n",
            "f1: 0.9966387397782571\n",
            "f1: 0.996538056294215\n",
            "f1: 0.9962358845671266\n",
            "f1: 0.9973429588409285\n",
            "f1: 0.9958327057287745\n",
            "f1: 0.9973932223781832\n",
            "f1: 0.9973429588409285\n",
            "f1: 0.997242416645776\n",
            "f1: 0.9954796584630838\n",
            "f1: 0.9956309948274996\n",
            "f1: 0.9980461900706378\n",
            "f1: 0.9976946978049513\n",
            "f1: 0.9950758717716812\n",
            "f1: 0.9945201347343019\n",
            "f1: 0.997242416645776\n",
            "f1: 0.9990991892703432\n",
            "f1: 0.9969909729187563\n",
            "f1: 0.9986983078001402\n",
            "f1: 0.9970412717516675\n",
            "f1: 0.998447593770344\n",
            "f1: 0.9970412717516675\n",
            "f1: 0.9980963831279431\n",
            "f1: 0.9980461900706378\n",
            "f1: 0.995176848874598\n",
            "f1: 0.9961351202128194\n",
            "f1: 0.9950253756092658\n",
            "f1: 0.9970412717516675\n",
            "f1: 0.9976946978049513\n",
            "f1: 0.9955301089849832\n",
            "f1: 0.9977449260836884\n",
            "f1: 0.9973932223781832\n",
            "f1: 0.9979959919839679\n",
            "f1: 0.997292690263712\n",
            "f1: 0.9977951493285228\n",
            "f1: 0.9980963831279431\n",
            "f1: 0.9961351202128194\n",
            "f1: 0.9950758717716812\n",
            "f1: 0.9990490966418097\n",
            "f1: 0.9977449260836884\n",
            "f1: 0.997242416645776\n",
            "f1: 0.9976444644915552\n",
            "f1: 0.998598037252153\n",
            "f1: 0.997242416645776\n",
            "f1: 0.9992995096567597\n",
            "f1: 0.9973932223781832\n",
            "f1: 0.9973932223781832\n",
            "f1: 0.99849774661993\n",
            "f1: 0.998998998998999\n",
            "f1: 0.9971418542847114\n",
            "f1: 0.9973429588409285\n",
            "f1: 0.9958831207952605\n",
            "f1: 0.9971418542847114\n",
            "f1: 0.9990490966418097\n",
            "f1: 0.9981465711566397\n",
            "f1: 0.9981967541574834\n",
            "f1: 0.996185504918691\n",
            "f1: 0.9992995096567597\n",
            "f1: 0.997895580719511\n",
            "f1: 0.9967897271268058\n",
            "f1: 0.9979959919839679\n",
            "f1: 0.9975942261427425\n",
            "f1: 0.998998998998999\n",
            "f1: 0.9960847304487501\n",
            "f1: 0.9977449260836884\n",
            "f1: 0.9959335307997389\n",
            "f1: 0.9966387397782571\n",
            "f1: 0.9981967541574834\n",
            "f1: 0.9953787422141852\n",
            "f1: 0.9990991892703432\n",
            "f1: 0.9968903601163607\n",
            "f1: 0.998598037252153\n",
            "f1: 0.9979959919839679\n",
            "f1: 0.9971921379863617\n",
            "f1: 0.9982469321312296\n",
            "f1: 0.9987484355444306\n",
            "f1: 0.9973429588409285\n",
            "f1: 0.9970412717516675\n",
            "f1: 0.998397435897436\n",
            "f1: 0.9992995096567597\n",
            "f1: 0.998397435897436\n",
            "f1: 0.998598037252153\n",
            "f1: 0.9987985582699239\n",
            "f1: 0.9976444644915552\n",
            "f1: 0.998397435897436\n",
            "f1: 0.9991993594875901\n",
            "f1: 0.9982971050786338\n",
            "f1: 0.9994496973335335\n",
            "f1: 0.9992995096567597\n",
            "f1: 0.9996999099729919\n",
            "f1: 1.0\n",
            "f1: 1.0\n",
            "f1: 1.0\n",
            "f1: 1.0\n"
          ]
        }
      ]
    },
    {
      "cell_type": "code",
      "source": [
        "plt.figure(figsize=(20,5))\n",
        "plt.plot(f1s)"
      ],
      "metadata": {
        "colab": {
          "base_uri": "https://localhost:8080/",
          "height": 288
        },
        "id": "1BDlT0TIrWTh",
        "outputId": "62a40dc6-8197-4238-840d-52968e614a18"
      },
      "execution_count": null,
      "outputs": [
        {
          "output_type": "execute_result",
          "data": {
            "text/plain": [
              "[<matplotlib.lines.Line2D at 0x7fed70733e50>]"
            ]
          },
          "metadata": {},
          "execution_count": 58
        },
        {
          "output_type": "display_data",
          "data": {
            "text/plain": [
              "<Figure size 1440x360 with 1 Axes>"
            ],
            "image/png": "[encoded data removed]"
          },
          "metadata": {
            "needs_background": "light"
          }
        }
      ]
    },
    {
      "cell_type": "markdown",
      "source": [
        "# 다른거...."
      ],
      "metadata": {
        "id": "3PHGGf1MQvh4"
      }
    },
    {
      "cell_type": "code",
      "source": [
        "import numpy as np # linear algebra\n",
        "import pandas as pd # data processing, CSV file I/O (e.g. pd.read_csv)\n",
        "\n",
        "import matplotlib.pyplot as plt###\n",
        "                               ### Visualisation tools\n",
        "import seaborn as sns          ###\n",
        "\n",
        "from sklearn.linear_model import LinearRegression,LogisticRegression,SGDRegressor , Ridge,Lasso\n",
        "from sklearn.model_selection import train_test_split,GridSearchCV\n",
        "from sklearn.preprocessing import LabelEncoder,StandardScaler\n",
        "from warnings import filterwarnings\n",
        "filterwarnings('ignore')\n",
        "from sklearn.metrics import accuracy_score,precision_score,confusion_matrix\n",
        "from sklearn.metrics import classification_report,roc_curve,roc_auc_score\n",
        "from sklearn.neighbors import KNeighborsClassifier\n",
        "from sklearn.naive_bayes import GaussianNB\n",
        "\n",
        "# Input data files are available in the read-only \"../input/\" directory\n",
        "# For example, running this (by clicking run or pressing Shift+Enter) will list all files under the input directory\n",
        "\n",
        "import os"
      ],
      "metadata": {
        "id": "1bdS3VjjORNF"
      },
      "execution_count": 3,
      "outputs": []
    },
    {
      "cell_type": "code",
      "source": [
        "!kaggle datasets download \"ealtman2019/credit-card-transactions\"\n"
      ],
      "metadata": {
        "id": "zf96qkd3Qx0i",
        "outputId": "7979fc0e-458c-42f6-b65d-ddb6e413fb8d",
        "colab": {
          "base_uri": "https://localhost:8080/"
        }
      },
      "execution_count": 2,
      "outputs": [
        {
          "output_type": "stream",
          "name": "stdout",
          "text": [
            "Downloading credit-card-transactions.zip to /content\n",
            " 98% 257M/263M [00:13<00:00, 22.5MB/s]\n",
            "100% 263M/263M [00:13<00:00, 20.8MB/s]\n"
          ]
        }
      ]
    },
    {
      "cell_type": "code",
      "source": [
        "!unzip credit-card-transactions.zip"
      ],
      "metadata": {
        "id": "oCuHS1KXRZuv",
        "outputId": "aaa6e46a-996d-4bbe-9ce9-2ed6187496f9",
        "colab": {
          "base_uri": "https://localhost:8080/"
        }
      },
      "execution_count": 4,
      "outputs": [
        {
          "output_type": "stream",
          "name": "stdout",
          "text": [
            "Archive:  credit-card-transactions.zip\n",
            "  inflating: User0_credit_card_transactions.csv  \n",
            "  inflating: credit_card_transactions-ibm_v2.csv  \n",
            "  inflating: sd254_cards.csv         \n",
            "  inflating: sd254_users.csv         \n"
          ]
        }
      ]
    },
    {
      "cell_type": "code",
      "source": [
        "df = pd.read_csv(\"credit_card_transactions-ibm_v2.csv\")"
      ],
      "metadata": {
        "id": "_vurfq5URbfr"
      },
      "execution_count": 5,
      "outputs": []
    },
    {
      "cell_type": "code",
      "source": [
        "df.info()"
      ],
      "metadata": {
        "id": "_eei2GXORs-k",
        "outputId": "7b2d9ac9-2b0b-4d39-873b-f89d08ecbe01",
        "colab": {
          "base_uri": "https://localhost:8080/"
        }
      },
      "execution_count": 7,
      "outputs": [
        {
          "output_type": "stream",
          "name": "stdout",
          "text": [
            "<class 'pandas.core.frame.DataFrame'>\n",
            "RangeIndex: 24386900 entries, 0 to 24386899\n",
            "Data columns (total 15 columns):\n",
            " #   Column          Dtype  \n",
            "---  ------          -----  \n",
            " 0   User            int64  \n",
            " 1   Card            int64  \n",
            " 2   Year            int64  \n",
            " 3   Month           int64  \n",
            " 4   Day             int64  \n",
            " 5   Time            object \n",
            " 6   Amount          object \n",
            " 7   Use Chip        object \n",
            " 8   Merchant Name   int64  \n",
            " 9   Merchant City   object \n",
            " 10  Merchant State  object \n",
            " 11  Zip             float64\n",
            " 12  MCC             int64  \n",
            " 13  Errors?         object \n",
            " 14  Is Fraud?       object \n",
            "dtypes: float64(1), int64(7), object(7)\n",
            "memory usage: 2.7+ GB\n"
          ]
        }
      ]
    },
    {
      "cell_type": "code",
      "source": [
        "df.shape"
      ],
      "metadata": {
        "colab": {
          "base_uri": "https://localhost:8080/"
        },
        "id": "D0Ke2d1pscz3",
        "outputId": "079cf8c7-e5a8-47d5-e3a3-87a75579b381"
      },
      "execution_count": 8,
      "outputs": [
        {
          "output_type": "execute_result",
          "data": {
            "text/plain": [
              "(24386900, 15)"
            ]
          },
          "metadata": {},
          "execution_count": 8
        }
      ]
    },
    {
      "cell_type": "code",
      "source": [
        "df['Year'].value_counts()"
      ],
      "metadata": {
        "id": "y7vwWfg-TWRO",
        "outputId": "0bf636c1-e747-4ec1-bf6f-bcc6e8993183",
        "colab": {
          "base_uri": "https://localhost:8080/"
        }
      },
      "execution_count": 9,
      "outputs": [
        {
          "output_type": "execute_result",
          "data": {
            "text/plain": [
              "2019    1723938\n",
              "2017    1723360\n",
              "2018    1721615\n",
              "2016    1708924\n",
              "2015    1701371\n",
              "2014    1672343\n",
              "2013    1650917\n",
              "2012    1610829\n",
              "2011    1570551\n",
              "2010    1491225\n",
              "2009    1355434\n",
              "2008    1223460\n",
              "2007    1064483\n",
              "2006     908793\n",
              "2005     746653\n",
              "2004     597003\n",
              "2003     466408\n",
              "2002     350732\n",
              "2020     336500\n",
              "2001     257998\n",
              "2000     177729\n",
              "1999     118250\n",
              "1998      78345\n",
              "1997      49753\n",
              "1996      29945\n",
              "1995      20928\n",
              "1994      14316\n",
              "1993       8378\n",
              "1992       5134\n",
              "1991       1585\n",
              "Name: Year, dtype: int64"
            ]
          },
          "metadata": {},
          "execution_count": 9
        }
      ]
    },
    {
      "cell_type": "code",
      "source": [
        "import numpy as np \n",
        "import pandas as pd \n",
        "import os\n",
        "import lightgbm as lgb\n",
        "from sklearn.model_selection import train_test_split\n",
        "from sklearn.metrics import classification_report"
      ],
      "metadata": {
        "id": "JSaR70w1TnqE"
      },
      "execution_count": 10,
      "outputs": []
    },
    {
      "cell_type": "code",
      "source": [
        "df['Is Fraud?']=df['Is Fraud?'].replace({'No':0,'Yes':1}) "
      ],
      "metadata": {
        "id": "R0wC-1UlsntM"
      },
      "execution_count": 11,
      "outputs": []
    },
    {
      "cell_type": "code",
      "source": [
        "df['Is Fraud?'].value_counts()"
      ],
      "metadata": {
        "colab": {
          "base_uri": "https://localhost:8080/"
        },
        "id": "pHwU5iwwsolQ",
        "outputId": "1f8c509f-2b70-41df-cbdb-17eab661cb8b"
      },
      "execution_count": 14,
      "outputs": [
        {
          "output_type": "execute_result",
          "data": {
            "text/plain": [
              "0    24357143\n",
              "1       29757\n",
              "Name: Is Fraud?, dtype: int64"
            ]
          },
          "metadata": {},
          "execution_count": 14
        }
      ]
    },
    {
      "cell_type": "code",
      "source": [
        "df1 = df[df['Is Fraud?']==1]"
      ],
      "metadata": {
        "id": "I_MLFfRdPJUo"
      },
      "execution_count": 16,
      "outputs": []
    },
    {
      "cell_type": "code",
      "source": [
        "df2 = df[df['Is Fraud?']==0]"
      ],
      "metadata": {
        "id": "DBfnN_9aPTUa"
      },
      "execution_count": 18,
      "outputs": []
    },
    {
      "cell_type": "code",
      "source": [
        "df3 = df2.sample(int(df2.shape[0]/10))"
      ],
      "metadata": {
        "id": "ZjZC_7qkPZ0S"
      },
      "execution_count": 19,
      "outputs": []
    },
    {
      "cell_type": "code",
      "source": [
        "df3.shape"
      ],
      "metadata": {
        "id": "tYkmQiWDP4Y1",
        "outputId": "8f5b7f6e-5f56-4175-d619-572b5a9d4332",
        "colab": {
          "base_uri": "https://localhost:8080/"
        }
      },
      "execution_count": 20,
      "outputs": [
        {
          "output_type": "execute_result",
          "data": {
            "text/plain": [
              "(2435714, 15)"
            ]
          },
          "metadata": {},
          "execution_count": 20
        }
      ]
    },
    {
      "cell_type": "code",
      "source": [
        "df4 = pd.concat([df1,df3])"
      ],
      "metadata": {
        "id": "fSCl2W8IP7zS"
      },
      "execution_count": 21,
      "outputs": []
    },
    {
      "cell_type": "code",
      "source": [
        "df4.shape"
      ],
      "metadata": {
        "id": "dojIXEH_QH_3",
        "outputId": "c3b685d8-8fb4-453b-eb4f-2c1802c4de9e",
        "colab": {
          "base_uri": "https://localhost:8080/"
        }
      },
      "execution_count": 22,
      "outputs": [
        {
          "output_type": "execute_result",
          "data": {
            "text/plain": [
              "(2465471, 15)"
            ]
          },
          "metadata": {},
          "execution_count": 22
        }
      ]
    },
    {
      "cell_type": "code",
      "source": [
        "df = df4"
      ],
      "metadata": {
        "id": "XUY4OO1WQQEW"
      },
      "execution_count": 23,
      "outputs": []
    },
    {
      "cell_type": "code",
      "source": [
        "df['Errors?']=df['Errors?'].fillna('NAN')\n",
        "df['Errors?']=df['Errors?'].apply(lambda value:value=='NAN')\n",
        "df['Errors?'].value_counts()"
      ],
      "metadata": {
        "colab": {
          "base_uri": "https://localhost:8080/"
        },
        "id": "rrgFjCBCsxuj",
        "outputId": "2aaee7c9-d1a5-44c7-d3bf-bab367934d2c"
      },
      "execution_count": 24,
      "outputs": [
        {
          "output_type": "execute_result",
          "data": {
            "text/plain": [
              "True     2425357\n",
              "False      40114\n",
              "Name: Errors?, dtype: int64"
            ]
          },
          "metadata": {},
          "execution_count": 24
        }
      ]
    },
    {
      "cell_type": "code",
      "source": [
        "df['Use Chip'].unique()\n",
        "df['is online']=df['Use Chip'].apply(lambda value:value=='Online Transaction')"
      ],
      "metadata": {
        "id": "aLf8fr5us1OV"
      },
      "execution_count": 25,
      "outputs": []
    },
    {
      "cell_type": "code",
      "source": [
        "from sklearn.preprocessing import LabelEncoder\n",
        "df['Use Chip']=df['Use Chip'].replace({'Swipe Transaction':0, 'Online Transaction':1, 'Chip Transaction':2})\n",
        "df['Zip'] = df['Zip'].fillna(df['Zip'].mean())  \n",
        "df['Amount'] = df['Amount'].apply(lambda value: float(value.split(\"$\")[1]))\n",
        "df['Hour'] = df['Time'].apply(lambda value: int(value.split(\":\")[0]))\n",
        "df['Minutes'] = df['Time'].apply(lambda value: int(value.split(\":\")[1]))\n",
        "df.drop(['Time'], axis=1, inplace=True)     \n",
        "df['Merchant State']=df['Merchant State'].fillna('NAN')    \n",
        "df['Merchant City']=df['Merchant City'].fillna('NAN') \n",
        "df['is vozmes']=df['Amount'].apply(lambda value: value<0)  \n",
        "df['abs_amount']=df['Amount'].apply(lambda value: abs(value))"
      ],
      "metadata": {
        "id": "Y5EEeXi_s8xx"
      },
      "execution_count": 26,
      "outputs": []
    },
    {
      "cell_type": "code",
      "source": [
        "#encoding categorial features\n",
        "le=LabelEncoder() \n",
        "df['Merchant State']=le.fit_transform(df['Merchant State'])\n",
        "le=LabelEncoder()\n",
        "df['Merchant City']=le.fit_transform(df['Merchant City'])"
      ],
      "metadata": {
        "id": "q8HGsnhdtDGt"
      },
      "execution_count": 27,
      "outputs": []
    },
    {
      "cell_type": "code",
      "source": [
        "df = df.sort_values(['Year','Month','Day'])"
      ],
      "metadata": {
        "id": "Ia10nVlANMrN"
      },
      "execution_count": 28,
      "outputs": []
    },
    {
      "cell_type": "code",
      "source": [
        "X = df[df['Year']==2007].drop(['Is Fraud?'],axis=1)\n",
        "y = df[df['Year']==2007]['Is Fraud?']"
      ],
      "metadata": {
        "id": "81ySMOyotS8D"
      },
      "execution_count": 29,
      "outputs": []
    },
    {
      "cell_type": "code",
      "source": [
        "random_state=42\n",
        "X_train, X_test, y_train, y_test = train_test_split(X, y, test_size = 0.3, random_state = 0, stratify=y)"
      ],
      "metadata": {
        "id": "km19iFSrtVo1"
      },
      "execution_count": 30,
      "outputs": []
    },
    {
      "cell_type": "code",
      "source": [
        "X_train.shape"
      ],
      "metadata": {
        "id": "aLKmpcKUI7Ie",
        "outputId": "51630693-f88c-4e68-8907-12b8ec38beb5",
        "colab": {
          "base_uri": "https://localhost:8080/"
        }
      },
      "execution_count": 31,
      "outputs": [
        {
          "output_type": "execute_result",
          "data": {
            "text/plain": [
              "(75504, 18)"
            ]
          },
          "metadata": {},
          "execution_count": 31
        }
      ]
    },
    {
      "cell_type": "code",
      "source": [
        "!pip install catboost"
      ],
      "metadata": {
        "colab": {
          "base_uri": "https://localhost:8080/"
        },
        "id": "KKJUbIaVty1D",
        "outputId": "144d1818-d7ef-4e7e-a887-c66108da94ee"
      },
      "execution_count": 32,
      "outputs": [
        {
          "output_type": "stream",
          "name": "stdout",
          "text": [
            "Looking in indexes: https://pypi.org/simple, https://us-python.pkg.dev/colab-wheels/public/simple/\n",
            "Collecting catboost\n",
            "  Downloading catboost-1.0.6-cp37-none-manylinux1_x86_64.whl (76.6 MB)\n",
            "\u001b[K     |████████████████████████████████| 76.6 MB 1.1 MB/s \n",
            "\u001b[?25hRequirement already satisfied: scipy in /usr/local/lib/python3.7/dist-packages (from catboost) (1.4.1)\n",
            "Requirement already satisfied: six in /usr/local/lib/python3.7/dist-packages (from catboost) (1.15.0)\n",
            "Requirement already satisfied: numpy>=1.16.0 in /usr/local/lib/python3.7/dist-packages (from catboost) (1.21.6)\n",
            "Requirement already satisfied: plotly in /usr/local/lib/python3.7/dist-packages (from catboost) (5.5.0)\n",
            "Requirement already satisfied: pandas>=0.24.0 in /usr/local/lib/python3.7/dist-packages (from catboost) (1.3.5)\n",
            "Requirement already satisfied: matplotlib in /usr/local/lib/python3.7/dist-packages (from catboost) (3.2.2)\n",
            "Requirement already satisfied: graphviz in /usr/local/lib/python3.7/dist-packages (from catboost) (0.10.1)\n",
            "Requirement already satisfied: python-dateutil>=2.7.3 in /usr/local/lib/python3.7/dist-packages (from pandas>=0.24.0->catboost) (2.8.2)\n",
            "Requirement already satisfied: pytz>=2017.3 in /usr/local/lib/python3.7/dist-packages (from pandas>=0.24.0->catboost) (2022.1)\n",
            "Requirement already satisfied: cycler>=0.10 in /usr/local/lib/python3.7/dist-packages (from matplotlib->catboost) (0.11.0)\n",
            "Requirement already satisfied: kiwisolver>=1.0.1 in /usr/local/lib/python3.7/dist-packages (from matplotlib->catboost) (1.4.3)\n",
            "Requirement already satisfied: pyparsing!=2.0.4,!=2.1.2,!=2.1.6,>=2.0.1 in /usr/local/lib/python3.7/dist-packages (from matplotlib->catboost) (3.0.9)\n",
            "Requirement already satisfied: typing-extensions in /usr/local/lib/python3.7/dist-packages (from kiwisolver>=1.0.1->matplotlib->catboost) (4.1.1)\n",
            "Requirement already satisfied: tenacity>=6.2.0 in /usr/local/lib/python3.7/dist-packages (from plotly->catboost) (8.0.1)\n",
            "Installing collected packages: catboost\n",
            "Successfully installed catboost-1.0.6\n"
          ]
        }
      ]
    },
    {
      "cell_type": "code",
      "source": [
        "#cat boost classifier\n",
        "\n",
        "from catboost import CatBoostClassifier\n",
        "cat = CatBoostClassifier()\n",
        "cat.fit(X_train, y_train,plot=True) \n",
        "y_pred=cat.predict(X_test)   \n",
        "print(classification_report(y_test, y_pred))    "
      ],
      "metadata": {
        "colab": {
          "base_uri": "https://localhost:8080/",
          "height": 1000,
          "referenced_widgets": [
            "f60160087a7545e7b9542c7b4fccfb8c"
          ]
        },
        "id": "Xov_vyRCtYan",
        "outputId": "6a1e21b7-9fce-42a9-8eca-91193c212928"
      },
      "execution_count": 33,
      "outputs": [
        {
          "output_type": "display_data",
          "data": {
            "text/plain": [
              "MetricVisualizer(layout=Layout(align_self='stretch', height='500px'))"
            ],
            "application/vnd.jupyter.widget-view+json": {
              "version_major": 2,
              "version_minor": 0,
              "model_id": "f60160087a7545e7b9542c7b4fccfb8c"
            }
          },
          "metadata": {}
        },
        {
          "output_type": "stream",
          "name": "stdout",
          "text": [
            "Learning rate set to 0.065287\n",
            "0:\tlearn: 0.5469779\ttotal: 59.8ms\tremaining: 59.8s\n",
            "1:\tlearn: 0.4382765\ttotal: 71.8ms\tremaining: 35.8s\n",
            "2:\tlearn: 0.3625875\ttotal: 86.4ms\tremaining: 28.7s\n",
            "3:\tlearn: 0.3046189\ttotal: 98.5ms\tremaining: 24.5s\n",
            "4:\tlearn: 0.2544763\ttotal: 110ms\tremaining: 21.9s\n",
            "5:\tlearn: 0.2195067\ttotal: 122ms\tremaining: 20.1s\n",
            "6:\tlearn: 0.1826177\ttotal: 138ms\tremaining: 19.5s\n",
            "7:\tlearn: 0.1617109\ttotal: 150ms\tremaining: 18.5s\n",
            "8:\tlearn: 0.1388480\ttotal: 161ms\tremaining: 17.7s\n",
            "9:\tlearn: 0.1224244\ttotal: 173ms\tremaining: 17.1s\n",
            "10:\tlearn: 0.1090736\ttotal: 184ms\tremaining: 16.6s\n",
            "11:\tlearn: 0.0973499\ttotal: 199ms\tremaining: 16.4s\n",
            "12:\tlearn: 0.0890384\ttotal: 212ms\tremaining: 16.1s\n",
            "13:\tlearn: 0.0851818\ttotal: 219ms\tremaining: 15.4s\n",
            "14:\tlearn: 0.0785879\ttotal: 232ms\tremaining: 15.2s\n",
            "15:\tlearn: 0.0733874\ttotal: 243ms\tremaining: 15s\n",
            "16:\tlearn: 0.0690998\ttotal: 256ms\tremaining: 14.8s\n",
            "17:\tlearn: 0.0660923\ttotal: 268ms\tremaining: 14.6s\n",
            "18:\tlearn: 0.0634147\ttotal: 280ms\tremaining: 14.5s\n",
            "19:\tlearn: 0.0608525\ttotal: 292ms\tremaining: 14.3s\n",
            "20:\tlearn: 0.0586118\ttotal: 303ms\tremaining: 14.1s\n",
            "21:\tlearn: 0.0566366\ttotal: 315ms\tremaining: 14s\n",
            "22:\tlearn: 0.0547943\ttotal: 329ms\tremaining: 14s\n",
            "23:\tlearn: 0.0533962\ttotal: 341ms\tremaining: 13.9s\n",
            "24:\tlearn: 0.0518324\ttotal: 353ms\tremaining: 13.8s\n",
            "25:\tlearn: 0.0507311\ttotal: 365ms\tremaining: 13.7s\n",
            "26:\tlearn: 0.0496557\ttotal: 376ms\tremaining: 13.6s\n",
            "27:\tlearn: 0.0485877\ttotal: 388ms\tremaining: 13.5s\n",
            "28:\tlearn: 0.0478112\ttotal: 402ms\tremaining: 13.5s\n",
            "29:\tlearn: 0.0468700\ttotal: 416ms\tremaining: 13.4s\n",
            "30:\tlearn: 0.0462803\ttotal: 428ms\tremaining: 13.4s\n",
            "31:\tlearn: 0.0457711\ttotal: 440ms\tremaining: 13.3s\n",
            "32:\tlearn: 0.0450804\ttotal: 452ms\tremaining: 13.2s\n",
            "33:\tlearn: 0.0442671\ttotal: 464ms\tremaining: 13.2s\n",
            "34:\tlearn: 0.0433155\ttotal: 477ms\tremaining: 13.2s\n",
            "35:\tlearn: 0.0429096\ttotal: 492ms\tremaining: 13.2s\n",
            "36:\tlearn: 0.0423282\ttotal: 504ms\tremaining: 13.1s\n",
            "37:\tlearn: 0.0418556\ttotal: 517ms\tremaining: 13.1s\n",
            "38:\tlearn: 0.0414789\ttotal: 528ms\tremaining: 13s\n",
            "39:\tlearn: 0.0408510\ttotal: 540ms\tremaining: 13s\n",
            "40:\tlearn: 0.0404389\ttotal: 552ms\tremaining: 12.9s\n",
            "41:\tlearn: 0.0401359\ttotal: 564ms\tremaining: 12.9s\n",
            "42:\tlearn: 0.0398254\ttotal: 575ms\tremaining: 12.8s\n",
            "43:\tlearn: 0.0395803\ttotal: 588ms\tremaining: 12.8s\n",
            "44:\tlearn: 0.0391681\ttotal: 605ms\tremaining: 12.8s\n",
            "45:\tlearn: 0.0388220\ttotal: 616ms\tremaining: 12.8s\n",
            "46:\tlearn: 0.0383070\ttotal: 630ms\tremaining: 12.8s\n",
            "47:\tlearn: 0.0378057\ttotal: 643ms\tremaining: 12.8s\n",
            "48:\tlearn: 0.0374329\ttotal: 656ms\tremaining: 12.7s\n",
            "49:\tlearn: 0.0369419\ttotal: 669ms\tremaining: 12.7s\n",
            "50:\tlearn: 0.0366854\ttotal: 680ms\tremaining: 12.7s\n",
            "51:\tlearn: 0.0363199\ttotal: 694ms\tremaining: 12.6s\n",
            "52:\tlearn: 0.0359959\ttotal: 706ms\tremaining: 12.6s\n",
            "53:\tlearn: 0.0356768\ttotal: 719ms\tremaining: 12.6s\n",
            "54:\tlearn: 0.0354799\ttotal: 731ms\tremaining: 12.6s\n",
            "55:\tlearn: 0.0353393\ttotal: 742ms\tremaining: 12.5s\n",
            "56:\tlearn: 0.0351184\ttotal: 754ms\tremaining: 12.5s\n",
            "57:\tlearn: 0.0348509\ttotal: 766ms\tremaining: 12.4s\n",
            "58:\tlearn: 0.0345949\ttotal: 778ms\tremaining: 12.4s\n",
            "59:\tlearn: 0.0344352\ttotal: 790ms\tremaining: 12.4s\n",
            "60:\tlearn: 0.0341693\ttotal: 803ms\tremaining: 12.4s\n",
            "61:\tlearn: 0.0340251\ttotal: 816ms\tremaining: 12.3s\n",
            "62:\tlearn: 0.0338827\ttotal: 827ms\tremaining: 12.3s\n",
            "63:\tlearn: 0.0336808\ttotal: 839ms\tremaining: 12.3s\n",
            "64:\tlearn: 0.0335848\ttotal: 851ms\tremaining: 12.2s\n",
            "65:\tlearn: 0.0333287\ttotal: 862ms\tremaining: 12.2s\n",
            "66:\tlearn: 0.0331477\ttotal: 874ms\tremaining: 12.2s\n",
            "67:\tlearn: 0.0327976\ttotal: 885ms\tremaining: 12.1s\n",
            "68:\tlearn: 0.0326929\ttotal: 896ms\tremaining: 12.1s\n",
            "69:\tlearn: 0.0325507\ttotal: 911ms\tremaining: 12.1s\n",
            "70:\tlearn: 0.0323736\ttotal: 926ms\tremaining: 12.1s\n",
            "71:\tlearn: 0.0321281\ttotal: 946ms\tremaining: 12.2s\n",
            "72:\tlearn: 0.0318259\ttotal: 963ms\tremaining: 12.2s\n",
            "73:\tlearn: 0.0316097\ttotal: 980ms\tremaining: 12.3s\n",
            "74:\tlearn: 0.0315204\ttotal: 994ms\tremaining: 12.3s\n",
            "75:\tlearn: 0.0314834\ttotal: 1.01s\tremaining: 12.3s\n",
            "76:\tlearn: 0.0314323\ttotal: 1.03s\tremaining: 12.3s\n",
            "77:\tlearn: 0.0312966\ttotal: 1.05s\tremaining: 12.4s\n",
            "78:\tlearn: 0.0310620\ttotal: 1.06s\tremaining: 12.4s\n",
            "79:\tlearn: 0.0309999\ttotal: 1.08s\tremaining: 12.4s\n",
            "80:\tlearn: 0.0309087\ttotal: 1.09s\tremaining: 12.4s\n",
            "81:\tlearn: 0.0308272\ttotal: 1.11s\tremaining: 12.4s\n",
            "82:\tlearn: 0.0307152\ttotal: 1.12s\tremaining: 12.4s\n",
            "83:\tlearn: 0.0306357\ttotal: 1.15s\tremaining: 12.5s\n",
            "84:\tlearn: 0.0304406\ttotal: 1.16s\tremaining: 12.5s\n",
            "85:\tlearn: 0.0302587\ttotal: 1.18s\tremaining: 12.5s\n",
            "86:\tlearn: 0.0301632\ttotal: 1.19s\tremaining: 12.5s\n",
            "87:\tlearn: 0.0300626\ttotal: 1.21s\tremaining: 12.5s\n",
            "88:\tlearn: 0.0299040\ttotal: 1.22s\tremaining: 12.5s\n",
            "89:\tlearn: 0.0297402\ttotal: 1.24s\tremaining: 12.5s\n",
            "90:\tlearn: 0.0296139\ttotal: 1.25s\tremaining: 12.5s\n",
            "91:\tlearn: 0.0294702\ttotal: 1.26s\tremaining: 12.5s\n",
            "92:\tlearn: 0.0294120\ttotal: 1.27s\tremaining: 12.4s\n",
            "93:\tlearn: 0.0293078\ttotal: 1.29s\tremaining: 12.4s\n",
            "94:\tlearn: 0.0291470\ttotal: 1.3s\tremaining: 12.4s\n",
            "95:\tlearn: 0.0290857\ttotal: 1.31s\tremaining: 12.4s\n",
            "96:\tlearn: 0.0289412\ttotal: 1.32s\tremaining: 12.3s\n",
            "97:\tlearn: 0.0288970\ttotal: 1.34s\tremaining: 12.3s\n",
            "98:\tlearn: 0.0287600\ttotal: 1.35s\tremaining: 12.3s\n",
            "99:\tlearn: 0.0286902\ttotal: 1.36s\tremaining: 12.2s\n",
            "100:\tlearn: 0.0286679\ttotal: 1.37s\tremaining: 12.2s\n",
            "101:\tlearn: 0.0286055\ttotal: 1.38s\tremaining: 12.2s\n",
            "102:\tlearn: 0.0284994\ttotal: 1.4s\tremaining: 12.1s\n",
            "103:\tlearn: 0.0284028\ttotal: 1.41s\tremaining: 12.1s\n",
            "104:\tlearn: 0.0283517\ttotal: 1.42s\tremaining: 12.1s\n",
            "105:\tlearn: 0.0283000\ttotal: 1.43s\tremaining: 12.1s\n",
            "106:\tlearn: 0.0281690\ttotal: 1.44s\tremaining: 12.1s\n",
            "107:\tlearn: 0.0280956\ttotal: 1.46s\tremaining: 12s\n",
            "108:\tlearn: 0.0280320\ttotal: 1.47s\tremaining: 12s\n",
            "109:\tlearn: 0.0279885\ttotal: 1.48s\tremaining: 12s\n",
            "110:\tlearn: 0.0279135\ttotal: 1.5s\tremaining: 12s\n",
            "111:\tlearn: 0.0278556\ttotal: 1.51s\tremaining: 11.9s\n",
            "112:\tlearn: 0.0277515\ttotal: 1.52s\tremaining: 11.9s\n",
            "113:\tlearn: 0.0276379\ttotal: 1.53s\tremaining: 11.9s\n",
            "114:\tlearn: 0.0276145\ttotal: 1.54s\tremaining: 11.9s\n",
            "115:\tlearn: 0.0275172\ttotal: 1.55s\tremaining: 11.8s\n",
            "116:\tlearn: 0.0274908\ttotal: 1.56s\tremaining: 11.8s\n",
            "117:\tlearn: 0.0274469\ttotal: 1.57s\tremaining: 11.8s\n",
            "118:\tlearn: 0.0273416\ttotal: 1.59s\tremaining: 11.7s\n",
            "119:\tlearn: 0.0273095\ttotal: 1.6s\tremaining: 11.7s\n",
            "120:\tlearn: 0.0272578\ttotal: 1.61s\tremaining: 11.7s\n",
            "121:\tlearn: 0.0272024\ttotal: 1.62s\tremaining: 11.7s\n",
            "122:\tlearn: 0.0271455\ttotal: 1.64s\tremaining: 11.7s\n",
            "123:\tlearn: 0.0270515\ttotal: 1.65s\tremaining: 11.7s\n",
            "124:\tlearn: 0.0269625\ttotal: 1.66s\tremaining: 11.6s\n",
            "125:\tlearn: 0.0268218\ttotal: 1.68s\tremaining: 11.6s\n",
            "126:\tlearn: 0.0267377\ttotal: 1.69s\tremaining: 11.6s\n",
            "127:\tlearn: 0.0266076\ttotal: 1.7s\tremaining: 11.6s\n",
            "128:\tlearn: 0.0265316\ttotal: 1.71s\tremaining: 11.6s\n",
            "129:\tlearn: 0.0264263\ttotal: 1.73s\tremaining: 11.5s\n",
            "130:\tlearn: 0.0263871\ttotal: 1.74s\tremaining: 11.5s\n",
            "131:\tlearn: 0.0263298\ttotal: 1.75s\tremaining: 11.5s\n",
            "132:\tlearn: 0.0262658\ttotal: 1.76s\tremaining: 11.5s\n",
            "133:\tlearn: 0.0262354\ttotal: 1.77s\tremaining: 11.4s\n",
            "134:\tlearn: 0.0261849\ttotal: 1.78s\tremaining: 11.4s\n",
            "135:\tlearn: 0.0261266\ttotal: 1.8s\tremaining: 11.4s\n",
            "136:\tlearn: 0.0260969\ttotal: 1.81s\tremaining: 11.4s\n",
            "137:\tlearn: 0.0260499\ttotal: 1.82s\tremaining: 11.4s\n",
            "138:\tlearn: 0.0260111\ttotal: 1.83s\tremaining: 11.4s\n",
            "139:\tlearn: 0.0259490\ttotal: 1.85s\tremaining: 11.3s\n",
            "140:\tlearn: 0.0259234\ttotal: 1.86s\tremaining: 11.3s\n",
            "141:\tlearn: 0.0258549\ttotal: 1.87s\tremaining: 11.3s\n",
            "142:\tlearn: 0.0258010\ttotal: 1.88s\tremaining: 11.3s\n",
            "143:\tlearn: 0.0257022\ttotal: 1.89s\tremaining: 11.2s\n",
            "144:\tlearn: 0.0256318\ttotal: 1.9s\tremaining: 11.2s\n",
            "145:\tlearn: 0.0255862\ttotal: 1.93s\tremaining: 11.3s\n",
            "146:\tlearn: 0.0254966\ttotal: 1.94s\tremaining: 11.3s\n",
            "147:\tlearn: 0.0254468\ttotal: 1.95s\tremaining: 11.3s\n",
            "148:\tlearn: 0.0253862\ttotal: 1.97s\tremaining: 11.2s\n",
            "149:\tlearn: 0.0252970\ttotal: 1.98s\tremaining: 11.2s\n",
            "150:\tlearn: 0.0252718\ttotal: 1.99s\tremaining: 11.2s\n",
            "151:\tlearn: 0.0252311\ttotal: 2s\tremaining: 11.2s\n",
            "152:\tlearn: 0.0252026\ttotal: 2.01s\tremaining: 11.1s\n",
            "153:\tlearn: 0.0251892\ttotal: 2.02s\tremaining: 11.1s\n",
            "154:\tlearn: 0.0251749\ttotal: 2.04s\tremaining: 11.1s\n",
            "155:\tlearn: 0.0250766\ttotal: 2.05s\tremaining: 11.1s\n",
            "156:\tlearn: 0.0250347\ttotal: 2.06s\tremaining: 11.1s\n",
            "157:\tlearn: 0.0249312\ttotal: 2.08s\tremaining: 11.1s\n",
            "158:\tlearn: 0.0248979\ttotal: 2.09s\tremaining: 11s\n",
            "159:\tlearn: 0.0248684\ttotal: 2.1s\tremaining: 11s\n",
            "160:\tlearn: 0.0248455\ttotal: 2.11s\tremaining: 11s\n",
            "161:\tlearn: 0.0247533\ttotal: 2.13s\tremaining: 11s\n",
            "162:\tlearn: 0.0246933\ttotal: 2.14s\tremaining: 11s\n",
            "163:\tlearn: 0.0246387\ttotal: 2.15s\tremaining: 11s\n",
            "164:\tlearn: 0.0245939\ttotal: 2.16s\tremaining: 10.9s\n",
            "165:\tlearn: 0.0245524\ttotal: 2.17s\tremaining: 10.9s\n",
            "166:\tlearn: 0.0244985\ttotal: 2.19s\tremaining: 10.9s\n",
            "167:\tlearn: 0.0244586\ttotal: 2.2s\tremaining: 10.9s\n",
            "168:\tlearn: 0.0244302\ttotal: 2.21s\tremaining: 10.9s\n",
            "169:\tlearn: 0.0243850\ttotal: 2.22s\tremaining: 10.9s\n",
            "170:\tlearn: 0.0243557\ttotal: 2.23s\tremaining: 10.8s\n",
            "171:\tlearn: 0.0243084\ttotal: 2.25s\tremaining: 10.8s\n",
            "172:\tlearn: 0.0242789\ttotal: 2.26s\tremaining: 10.8s\n",
            "173:\tlearn: 0.0242486\ttotal: 2.27s\tremaining: 10.8s\n",
            "174:\tlearn: 0.0242033\ttotal: 2.28s\tremaining: 10.8s\n",
            "175:\tlearn: 0.0241891\ttotal: 2.29s\tremaining: 10.7s\n",
            "176:\tlearn: 0.0241468\ttotal: 2.31s\tremaining: 10.7s\n",
            "177:\tlearn: 0.0241080\ttotal: 2.32s\tremaining: 10.7s\n",
            "178:\tlearn: 0.0240907\ttotal: 2.33s\tremaining: 10.7s\n",
            "179:\tlearn: 0.0240498\ttotal: 2.34s\tremaining: 10.7s\n",
            "180:\tlearn: 0.0239943\ttotal: 2.35s\tremaining: 10.6s\n",
            "181:\tlearn: 0.0239552\ttotal: 2.36s\tremaining: 10.6s\n",
            "182:\tlearn: 0.0239390\ttotal: 2.38s\tremaining: 10.6s\n",
            "183:\tlearn: 0.0238496\ttotal: 2.39s\tremaining: 10.6s\n",
            "184:\tlearn: 0.0238369\ttotal: 2.4s\tremaining: 10.6s\n",
            "185:\tlearn: 0.0238114\ttotal: 2.41s\tremaining: 10.5s\n",
            "186:\tlearn: 0.0237446\ttotal: 2.42s\tremaining: 10.5s\n",
            "187:\tlearn: 0.0237210\ttotal: 2.44s\tremaining: 10.5s\n",
            "188:\tlearn: 0.0236879\ttotal: 2.45s\tremaining: 10.5s\n",
            "189:\tlearn: 0.0236729\ttotal: 2.46s\tremaining: 10.5s\n",
            "190:\tlearn: 0.0234808\ttotal: 2.47s\tremaining: 10.5s\n",
            "191:\tlearn: 0.0234666\ttotal: 2.48s\tremaining: 10.4s\n",
            "192:\tlearn: 0.0234357\ttotal: 2.49s\tremaining: 10.4s\n",
            "193:\tlearn: 0.0234156\ttotal: 2.51s\tremaining: 10.4s\n",
            "194:\tlearn: 0.0233661\ttotal: 2.52s\tremaining: 10.4s\n",
            "195:\tlearn: 0.0233467\ttotal: 2.53s\tremaining: 10.4s\n",
            "196:\tlearn: 0.0233216\ttotal: 2.54s\tremaining: 10.4s\n",
            "197:\tlearn: 0.0232746\ttotal: 2.55s\tremaining: 10.3s\n",
            "198:\tlearn: 0.0232551\ttotal: 2.56s\tremaining: 10.3s\n",
            "199:\tlearn: 0.0232053\ttotal: 2.58s\tremaining: 10.3s\n",
            "200:\tlearn: 0.0231695\ttotal: 2.59s\tremaining: 10.3s\n",
            "201:\tlearn: 0.0231533\ttotal: 2.6s\tremaining: 10.3s\n",
            "202:\tlearn: 0.0231111\ttotal: 2.61s\tremaining: 10.2s\n",
            "203:\tlearn: 0.0230548\ttotal: 2.62s\tremaining: 10.2s\n",
            "204:\tlearn: 0.0230519\ttotal: 2.63s\tremaining: 10.2s\n",
            "205:\tlearn: 0.0230086\ttotal: 2.65s\tremaining: 10.2s\n",
            "206:\tlearn: 0.0230007\ttotal: 2.66s\tremaining: 10.2s\n",
            "207:\tlearn: 0.0229776\ttotal: 2.67s\tremaining: 10.2s\n",
            "208:\tlearn: 0.0229508\ttotal: 2.69s\tremaining: 10.2s\n",
            "209:\tlearn: 0.0229257\ttotal: 2.7s\tremaining: 10.1s\n",
            "210:\tlearn: 0.0229151\ttotal: 2.71s\tremaining: 10.1s\n",
            "211:\tlearn: 0.0228846\ttotal: 2.72s\tremaining: 10.1s\n",
            "212:\tlearn: 0.0228405\ttotal: 2.73s\tremaining: 10.1s\n",
            "213:\tlearn: 0.0227918\ttotal: 2.74s\tremaining: 10.1s\n",
            "214:\tlearn: 0.0227500\ttotal: 2.75s\tremaining: 10.1s\n",
            "215:\tlearn: 0.0227225\ttotal: 2.77s\tremaining: 10s\n",
            "216:\tlearn: 0.0226592\ttotal: 2.78s\tremaining: 10s\n",
            "217:\tlearn: 0.0225886\ttotal: 2.79s\tremaining: 10s\n",
            "218:\tlearn: 0.0225540\ttotal: 2.8s\tremaining: 9.99s\n",
            "219:\tlearn: 0.0225075\ttotal: 2.81s\tremaining: 9.97s\n",
            "220:\tlearn: 0.0224923\ttotal: 2.83s\tremaining: 9.96s\n",
            "221:\tlearn: 0.0224708\ttotal: 2.84s\tremaining: 9.95s\n",
            "222:\tlearn: 0.0224626\ttotal: 2.85s\tremaining: 9.93s\n",
            "223:\tlearn: 0.0224044\ttotal: 2.86s\tremaining: 9.91s\n",
            "224:\tlearn: 0.0223733\ttotal: 2.87s\tremaining: 9.89s\n",
            "225:\tlearn: 0.0223389\ttotal: 2.89s\tremaining: 9.9s\n",
            "226:\tlearn: 0.0222962\ttotal: 2.91s\tremaining: 9.9s\n",
            "227:\tlearn: 0.0222858\ttotal: 2.92s\tremaining: 9.88s\n",
            "228:\tlearn: 0.0222154\ttotal: 2.93s\tremaining: 9.87s\n",
            "229:\tlearn: 0.0221825\ttotal: 2.94s\tremaining: 9.85s\n",
            "230:\tlearn: 0.0221726\ttotal: 2.95s\tremaining: 9.83s\n",
            "231:\tlearn: 0.0221631\ttotal: 2.96s\tremaining: 9.81s\n",
            "232:\tlearn: 0.0221551\ttotal: 2.97s\tremaining: 9.79s\n",
            "233:\tlearn: 0.0221179\ttotal: 2.99s\tremaining: 9.78s\n",
            "234:\tlearn: 0.0219980\ttotal: 3s\tremaining: 9.76s\n",
            "235:\tlearn: 0.0219663\ttotal: 3.01s\tremaining: 9.74s\n",
            "236:\tlearn: 0.0219207\ttotal: 3.02s\tremaining: 9.72s\n",
            "237:\tlearn: 0.0218600\ttotal: 3.03s\tremaining: 9.71s\n",
            "238:\tlearn: 0.0218458\ttotal: 3.04s\tremaining: 9.7s\n",
            "239:\tlearn: 0.0218265\ttotal: 3.06s\tremaining: 9.7s\n",
            "240:\tlearn: 0.0218126\ttotal: 3.08s\tremaining: 9.7s\n",
            "241:\tlearn: 0.0217769\ttotal: 3.1s\tremaining: 9.7s\n",
            "242:\tlearn: 0.0217722\ttotal: 3.12s\tremaining: 9.73s\n",
            "243:\tlearn: 0.0217405\ttotal: 3.14s\tremaining: 9.74s\n",
            "244:\tlearn: 0.0217154\ttotal: 3.16s\tremaining: 9.75s\n",
            "245:\tlearn: 0.0216858\ttotal: 3.18s\tremaining: 9.75s\n",
            "246:\tlearn: 0.0215860\ttotal: 3.2s\tremaining: 9.75s\n",
            "247:\tlearn: 0.0215681\ttotal: 3.22s\tremaining: 9.78s\n",
            "248:\tlearn: 0.0215579\ttotal: 3.25s\tremaining: 9.82s\n",
            "249:\tlearn: 0.0214952\ttotal: 3.28s\tremaining: 9.84s\n",
            "250:\tlearn: 0.0214533\ttotal: 3.3s\tremaining: 9.84s\n",
            "251:\tlearn: 0.0213943\ttotal: 3.31s\tremaining: 9.83s\n",
            "252:\tlearn: 0.0213443\ttotal: 3.33s\tremaining: 9.82s\n",
            "253:\tlearn: 0.0213349\ttotal: 3.34s\tremaining: 9.81s\n",
            "254:\tlearn: 0.0212552\ttotal: 3.35s\tremaining: 9.8s\n",
            "255:\tlearn: 0.0212236\ttotal: 3.37s\tremaining: 9.79s\n",
            "256:\tlearn: 0.0211931\ttotal: 3.38s\tremaining: 9.78s\n",
            "257:\tlearn: 0.0211424\ttotal: 3.4s\tremaining: 9.78s\n",
            "258:\tlearn: 0.0210898\ttotal: 3.42s\tremaining: 9.77s\n",
            "259:\tlearn: 0.0210517\ttotal: 3.43s\tremaining: 9.77s\n",
            "260:\tlearn: 0.0209756\ttotal: 3.45s\tremaining: 9.76s\n",
            "261:\tlearn: 0.0209469\ttotal: 3.47s\tremaining: 9.76s\n",
            "262:\tlearn: 0.0209147\ttotal: 3.49s\tremaining: 9.77s\n",
            "263:\tlearn: 0.0208892\ttotal: 3.5s\tremaining: 9.77s\n",
            "264:\tlearn: 0.0208853\ttotal: 3.52s\tremaining: 9.76s\n",
            "265:\tlearn: 0.0208751\ttotal: 3.53s\tremaining: 9.75s\n",
            "266:\tlearn: 0.0208438\ttotal: 3.55s\tremaining: 9.74s\n",
            "267:\tlearn: 0.0208158\ttotal: 3.56s\tremaining: 9.73s\n",
            "268:\tlearn: 0.0208059\ttotal: 3.58s\tremaining: 9.73s\n",
            "269:\tlearn: 0.0207606\ttotal: 3.6s\tremaining: 9.72s\n",
            "270:\tlearn: 0.0207409\ttotal: 3.61s\tremaining: 9.71s\n",
            "271:\tlearn: 0.0207252\ttotal: 3.63s\tremaining: 9.71s\n",
            "272:\tlearn: 0.0207136\ttotal: 3.64s\tremaining: 9.7s\n",
            "273:\tlearn: 0.0206883\ttotal: 3.66s\tremaining: 9.69s\n",
            "274:\tlearn: 0.0206818\ttotal: 3.67s\tremaining: 9.68s\n",
            "275:\tlearn: 0.0206403\ttotal: 3.69s\tremaining: 9.69s\n",
            "276:\tlearn: 0.0206068\ttotal: 3.71s\tremaining: 9.68s\n",
            "277:\tlearn: 0.0205700\ttotal: 3.72s\tremaining: 9.67s\n",
            "278:\tlearn: 0.0205595\ttotal: 3.74s\tremaining: 9.67s\n",
            "279:\tlearn: 0.0205300\ttotal: 3.76s\tremaining: 9.67s\n",
            "280:\tlearn: 0.0205078\ttotal: 3.78s\tremaining: 9.67s\n",
            "281:\tlearn: 0.0204721\ttotal: 3.79s\tremaining: 9.66s\n",
            "282:\tlearn: 0.0204554\ttotal: 3.81s\tremaining: 9.65s\n",
            "283:\tlearn: 0.0204448\ttotal: 3.82s\tremaining: 9.64s\n",
            "284:\tlearn: 0.0203984\ttotal: 3.84s\tremaining: 9.63s\n",
            "285:\tlearn: 0.0203350\ttotal: 3.86s\tremaining: 9.63s\n",
            "286:\tlearn: 0.0203279\ttotal: 3.89s\tremaining: 9.66s\n",
            "287:\tlearn: 0.0202909\ttotal: 3.91s\tremaining: 9.68s\n",
            "288:\tlearn: 0.0202725\ttotal: 3.93s\tremaining: 9.67s\n",
            "289:\tlearn: 0.0202340\ttotal: 3.94s\tremaining: 9.66s\n",
            "290:\tlearn: 0.0201105\ttotal: 3.96s\tremaining: 9.65s\n",
            "291:\tlearn: 0.0200736\ttotal: 3.98s\tremaining: 9.64s\n",
            "292:\tlearn: 0.0200437\ttotal: 3.99s\tremaining: 9.63s\n",
            "293:\tlearn: 0.0200321\ttotal: 4s\tremaining: 9.62s\n",
            "294:\tlearn: 0.0199598\ttotal: 4.02s\tremaining: 9.61s\n",
            "295:\tlearn: 0.0199316\ttotal: 4.03s\tremaining: 9.59s\n",
            "296:\tlearn: 0.0199007\ttotal: 4.05s\tremaining: 9.59s\n",
            "297:\tlearn: 0.0198888\ttotal: 4.06s\tremaining: 9.57s\n",
            "298:\tlearn: 0.0198870\ttotal: 4.07s\tremaining: 9.55s\n",
            "299:\tlearn: 0.0198447\ttotal: 4.09s\tremaining: 9.55s\n",
            "300:\tlearn: 0.0197934\ttotal: 4.13s\tremaining: 9.58s\n",
            "301:\tlearn: 0.0197590\ttotal: 4.15s\tremaining: 9.59s\n",
            "302:\tlearn: 0.0197405\ttotal: 4.17s\tremaining: 9.59s\n",
            "303:\tlearn: 0.0196769\ttotal: 4.19s\tremaining: 9.59s\n",
            "304:\tlearn: 0.0196409\ttotal: 4.21s\tremaining: 9.6s\n",
            "305:\tlearn: 0.0196094\ttotal: 4.23s\tremaining: 9.59s\n",
            "306:\tlearn: 0.0195901\ttotal: 4.25s\tremaining: 9.58s\n",
            "307:\tlearn: 0.0195698\ttotal: 4.26s\tremaining: 9.57s\n",
            "308:\tlearn: 0.0195309\ttotal: 4.28s\tremaining: 9.56s\n",
            "309:\tlearn: 0.0195218\ttotal: 4.29s\tremaining: 9.55s\n",
            "310:\tlearn: 0.0195172\ttotal: 4.31s\tremaining: 9.55s\n",
            "311:\tlearn: 0.0194934\ttotal: 4.33s\tremaining: 9.55s\n",
            "312:\tlearn: 0.0194605\ttotal: 4.35s\tremaining: 9.54s\n",
            "313:\tlearn: 0.0194359\ttotal: 4.36s\tremaining: 9.53s\n",
            "314:\tlearn: 0.0193764\ttotal: 4.39s\tremaining: 9.55s\n",
            "315:\tlearn: 0.0193308\ttotal: 4.42s\tremaining: 9.58s\n",
            "316:\tlearn: 0.0193035\ttotal: 4.44s\tremaining: 9.57s\n",
            "317:\tlearn: 0.0192821\ttotal: 4.46s\tremaining: 9.56s\n",
            "318:\tlearn: 0.0192807\ttotal: 4.49s\tremaining: 9.58s\n",
            "319:\tlearn: 0.0192606\ttotal: 4.52s\tremaining: 9.61s\n",
            "320:\tlearn: 0.0192009\ttotal: 4.54s\tremaining: 9.6s\n",
            "321:\tlearn: 0.0191382\ttotal: 4.55s\tremaining: 9.59s\n",
            "322:\tlearn: 0.0191277\ttotal: 4.57s\tremaining: 9.58s\n",
            "323:\tlearn: 0.0191101\ttotal: 4.58s\tremaining: 9.57s\n",
            "324:\tlearn: 0.0190933\ttotal: 4.6s\tremaining: 9.55s\n",
            "325:\tlearn: 0.0190918\ttotal: 4.61s\tremaining: 9.54s\n",
            "326:\tlearn: 0.0190435\ttotal: 4.63s\tremaining: 9.53s\n",
            "327:\tlearn: 0.0190353\ttotal: 4.64s\tremaining: 9.52s\n",
            "328:\tlearn: 0.0190215\ttotal: 4.66s\tremaining: 9.51s\n",
            "329:\tlearn: 0.0189932\ttotal: 4.68s\tremaining: 9.5s\n",
            "330:\tlearn: 0.0189531\ttotal: 4.7s\tremaining: 9.5s\n",
            "331:\tlearn: 0.0188802\ttotal: 4.72s\tremaining: 9.5s\n",
            "332:\tlearn: 0.0188588\ttotal: 4.76s\tremaining: 9.53s\n",
            "333:\tlearn: 0.0188157\ttotal: 4.78s\tremaining: 9.52s\n",
            "334:\tlearn: 0.0187894\ttotal: 4.8s\tremaining: 9.53s\n",
            "335:\tlearn: 0.0186739\ttotal: 4.83s\tremaining: 9.54s\n",
            "336:\tlearn: 0.0186322\ttotal: 4.84s\tremaining: 9.53s\n",
            "337:\tlearn: 0.0185956\ttotal: 4.86s\tremaining: 9.52s\n",
            "338:\tlearn: 0.0185672\ttotal: 5.01s\tremaining: 9.78s\n",
            "339:\tlearn: 0.0185585\ttotal: 5.04s\tremaining: 9.79s\n",
            "340:\tlearn: 0.0185329\ttotal: 5.06s\tremaining: 9.78s\n",
            "341:\tlearn: 0.0185173\ttotal: 5.08s\tremaining: 9.77s\n",
            "342:\tlearn: 0.0185040\ttotal: 5.09s\tremaining: 9.75s\n",
            "343:\tlearn: 0.0184801\ttotal: 5.12s\tremaining: 9.76s\n",
            "344:\tlearn: 0.0184375\ttotal: 5.14s\tremaining: 9.75s\n",
            "345:\tlearn: 0.0184149\ttotal: 5.15s\tremaining: 9.74s\n",
            "346:\tlearn: 0.0184135\ttotal: 5.17s\tremaining: 9.72s\n",
            "347:\tlearn: 0.0183945\ttotal: 5.18s\tremaining: 9.7s\n",
            "348:\tlearn: 0.0183606\ttotal: 5.2s\tremaining: 9.69s\n",
            "349:\tlearn: 0.0183349\ttotal: 5.21s\tremaining: 9.68s\n",
            "350:\tlearn: 0.0183124\ttotal: 5.23s\tremaining: 9.67s\n",
            "351:\tlearn: 0.0182997\ttotal: 5.25s\tremaining: 9.66s\n",
            "352:\tlearn: 0.0182983\ttotal: 5.26s\tremaining: 9.64s\n",
            "353:\tlearn: 0.0182803\ttotal: 5.27s\tremaining: 9.63s\n",
            "354:\tlearn: 0.0182388\ttotal: 5.29s\tremaining: 9.61s\n",
            "355:\tlearn: 0.0182347\ttotal: 5.31s\tremaining: 9.6s\n",
            "356:\tlearn: 0.0181823\ttotal: 5.32s\tremaining: 9.59s\n",
            "357:\tlearn: 0.0181581\ttotal: 5.34s\tremaining: 9.57s\n",
            "358:\tlearn: 0.0181341\ttotal: 5.35s\tremaining: 9.56s\n",
            "359:\tlearn: 0.0181276\ttotal: 5.37s\tremaining: 9.54s\n",
            "360:\tlearn: 0.0181078\ttotal: 5.38s\tremaining: 9.53s\n",
            "361:\tlearn: 0.0180778\ttotal: 5.4s\tremaining: 9.52s\n",
            "362:\tlearn: 0.0180692\ttotal: 5.42s\tremaining: 9.51s\n",
            "363:\tlearn: 0.0180530\ttotal: 5.43s\tremaining: 9.5s\n",
            "364:\tlearn: 0.0180138\ttotal: 5.45s\tremaining: 9.48s\n",
            "365:\tlearn: 0.0179944\ttotal: 5.46s\tremaining: 9.47s\n",
            "366:\tlearn: 0.0179932\ttotal: 5.48s\tremaining: 9.45s\n",
            "367:\tlearn: 0.0179824\ttotal: 5.49s\tremaining: 9.43s\n",
            "368:\tlearn: 0.0179457\ttotal: 5.51s\tremaining: 9.42s\n",
            "369:\tlearn: 0.0179423\ttotal: 5.52s\tremaining: 9.4s\n",
            "370:\tlearn: 0.0179244\ttotal: 5.54s\tremaining: 9.39s\n",
            "371:\tlearn: 0.0178967\ttotal: 5.56s\tremaining: 9.39s\n",
            "372:\tlearn: 0.0178816\ttotal: 5.58s\tremaining: 9.37s\n",
            "373:\tlearn: 0.0178503\ttotal: 5.59s\tremaining: 9.36s\n",
            "374:\tlearn: 0.0178437\ttotal: 5.61s\tremaining: 9.35s\n",
            "375:\tlearn: 0.0178313\ttotal: 5.62s\tremaining: 9.33s\n",
            "376:\tlearn: 0.0178190\ttotal: 5.64s\tremaining: 9.32s\n",
            "377:\tlearn: 0.0177909\ttotal: 5.66s\tremaining: 9.31s\n",
            "378:\tlearn: 0.0177466\ttotal: 5.67s\tremaining: 9.29s\n",
            "379:\tlearn: 0.0177274\ttotal: 5.69s\tremaining: 9.29s\n",
            "380:\tlearn: 0.0176850\ttotal: 5.71s\tremaining: 9.27s\n",
            "381:\tlearn: 0.0176656\ttotal: 5.74s\tremaining: 9.28s\n",
            "382:\tlearn: 0.0176010\ttotal: 5.75s\tremaining: 9.27s\n",
            "383:\tlearn: 0.0175664\ttotal: 5.77s\tremaining: 9.26s\n",
            "384:\tlearn: 0.0175588\ttotal: 5.79s\tremaining: 9.24s\n",
            "385:\tlearn: 0.0174973\ttotal: 5.8s\tremaining: 9.23s\n",
            "386:\tlearn: 0.0174928\ttotal: 5.82s\tremaining: 9.21s\n",
            "387:\tlearn: 0.0174463\ttotal: 5.83s\tremaining: 9.2s\n",
            "388:\tlearn: 0.0173915\ttotal: 5.85s\tremaining: 9.19s\n",
            "389:\tlearn: 0.0173790\ttotal: 5.86s\tremaining: 9.17s\n",
            "390:\tlearn: 0.0173166\ttotal: 5.89s\tremaining: 9.17s\n",
            "391:\tlearn: 0.0173021\ttotal: 5.91s\tremaining: 9.17s\n",
            "392:\tlearn: 0.0172828\ttotal: 5.93s\tremaining: 9.16s\n",
            "393:\tlearn: 0.0172588\ttotal: 5.96s\tremaining: 9.17s\n",
            "394:\tlearn: 0.0172528\ttotal: 5.98s\tremaining: 9.16s\n",
            "395:\tlearn: 0.0172180\ttotal: 6s\tremaining: 9.15s\n",
            "396:\tlearn: 0.0171978\ttotal: 6.04s\tremaining: 9.17s\n",
            "397:\tlearn: 0.0171807\ttotal: 6.07s\tremaining: 9.18s\n",
            "398:\tlearn: 0.0171671\ttotal: 6.11s\tremaining: 9.2s\n",
            "399:\tlearn: 0.0171604\ttotal: 6.14s\tremaining: 9.2s\n",
            "400:\tlearn: 0.0171439\ttotal: 6.16s\tremaining: 9.21s\n",
            "401:\tlearn: 0.0171342\ttotal: 6.18s\tremaining: 9.19s\n",
            "402:\tlearn: 0.0170846\ttotal: 6.2s\tremaining: 9.18s\n",
            "403:\tlearn: 0.0170661\ttotal: 6.22s\tremaining: 9.17s\n",
            "404:\tlearn: 0.0170353\ttotal: 6.23s\tremaining: 9.16s\n",
            "405:\tlearn: 0.0170220\ttotal: 6.25s\tremaining: 9.14s\n",
            "406:\tlearn: 0.0170139\ttotal: 6.26s\tremaining: 9.13s\n",
            "407:\tlearn: 0.0169815\ttotal: 6.28s\tremaining: 9.12s\n",
            "408:\tlearn: 0.0169688\ttotal: 6.3s\tremaining: 9.1s\n",
            "409:\tlearn: 0.0169497\ttotal: 6.31s\tremaining: 9.09s\n",
            "410:\tlearn: 0.0169045\ttotal: 6.34s\tremaining: 9.08s\n",
            "411:\tlearn: 0.0168927\ttotal: 6.36s\tremaining: 9.08s\n",
            "412:\tlearn: 0.0168600\ttotal: 6.4s\tremaining: 9.09s\n",
            "413:\tlearn: 0.0168500\ttotal: 6.42s\tremaining: 9.08s\n",
            "414:\tlearn: 0.0168441\ttotal: 6.43s\tremaining: 9.07s\n",
            "415:\tlearn: 0.0168051\ttotal: 6.45s\tremaining: 9.06s\n",
            "416:\tlearn: 0.0167700\ttotal: 6.47s\tremaining: 9.04s\n",
            "417:\tlearn: 0.0167259\ttotal: 6.49s\tremaining: 9.03s\n",
            "418:\tlearn: 0.0167236\ttotal: 6.5s\tremaining: 9.01s\n",
            "419:\tlearn: 0.0167133\ttotal: 6.51s\tremaining: 9s\n",
            "420:\tlearn: 0.0166966\ttotal: 6.54s\tremaining: 9s\n",
            "421:\tlearn: 0.0166645\ttotal: 6.57s\tremaining: 9s\n",
            "422:\tlearn: 0.0166243\ttotal: 6.59s\tremaining: 8.99s\n",
            "423:\tlearn: 0.0166051\ttotal: 6.62s\tremaining: 9s\n",
            "424:\tlearn: 0.0165958\ttotal: 6.64s\tremaining: 8.98s\n",
            "425:\tlearn: 0.0165656\ttotal: 6.66s\tremaining: 8.97s\n",
            "426:\tlearn: 0.0165603\ttotal: 6.67s\tremaining: 8.95s\n",
            "427:\tlearn: 0.0165420\ttotal: 6.69s\tremaining: 8.94s\n",
            "428:\tlearn: 0.0165241\ttotal: 6.71s\tremaining: 8.93s\n",
            "429:\tlearn: 0.0164958\ttotal: 6.72s\tremaining: 8.91s\n",
            "430:\tlearn: 0.0164830\ttotal: 6.74s\tremaining: 8.9s\n",
            "431:\tlearn: 0.0164496\ttotal: 6.75s\tremaining: 8.88s\n",
            "432:\tlearn: 0.0164408\ttotal: 6.77s\tremaining: 8.86s\n",
            "433:\tlearn: 0.0164261\ttotal: 6.78s\tremaining: 8.85s\n",
            "434:\tlearn: 0.0163788\ttotal: 6.8s\tremaining: 8.83s\n",
            "435:\tlearn: 0.0163438\ttotal: 6.82s\tremaining: 8.82s\n",
            "436:\tlearn: 0.0163405\ttotal: 6.85s\tremaining: 8.82s\n",
            "437:\tlearn: 0.0163096\ttotal: 6.87s\tremaining: 8.82s\n",
            "438:\tlearn: 0.0162866\ttotal: 6.89s\tremaining: 8.81s\n",
            "439:\tlearn: 0.0162524\ttotal: 6.92s\tremaining: 8.81s\n",
            "440:\tlearn: 0.0162316\ttotal: 6.94s\tremaining: 8.79s\n",
            "441:\tlearn: 0.0162059\ttotal: 6.96s\tremaining: 8.78s\n",
            "442:\tlearn: 0.0161692\ttotal: 6.97s\tremaining: 8.77s\n",
            "443:\tlearn: 0.0161347\ttotal: 6.99s\tremaining: 8.76s\n",
            "444:\tlearn: 0.0161021\ttotal: 7.01s\tremaining: 8.75s\n",
            "445:\tlearn: 0.0160582\ttotal: 7.06s\tremaining: 8.77s\n",
            "446:\tlearn: 0.0160307\ttotal: 7.08s\tremaining: 8.76s\n",
            "447:\tlearn: 0.0160122\ttotal: 7.1s\tremaining: 8.75s\n",
            "448:\tlearn: 0.0159945\ttotal: 7.12s\tremaining: 8.74s\n",
            "449:\tlearn: 0.0159726\ttotal: 7.14s\tremaining: 8.73s\n",
            "450:\tlearn: 0.0159409\ttotal: 7.16s\tremaining: 8.71s\n",
            "451:\tlearn: 0.0159230\ttotal: 7.17s\tremaining: 8.7s\n",
            "452:\tlearn: 0.0158984\ttotal: 7.19s\tremaining: 8.69s\n",
            "453:\tlearn: 0.0158688\ttotal: 7.21s\tremaining: 8.67s\n",
            "454:\tlearn: 0.0158527\ttotal: 7.22s\tremaining: 8.65s\n",
            "455:\tlearn: 0.0158393\ttotal: 7.26s\tremaining: 8.66s\n",
            "456:\tlearn: 0.0158349\ttotal: 7.29s\tremaining: 8.66s\n",
            "457:\tlearn: 0.0158213\ttotal: 7.3s\tremaining: 8.64s\n",
            "458:\tlearn: 0.0157966\ttotal: 7.32s\tremaining: 8.63s\n",
            "459:\tlearn: 0.0157832\ttotal: 7.35s\tremaining: 8.63s\n",
            "460:\tlearn: 0.0157654\ttotal: 7.37s\tremaining: 8.61s\n",
            "461:\tlearn: 0.0157402\ttotal: 7.41s\tremaining: 8.63s\n",
            "462:\tlearn: 0.0156975\ttotal: 7.44s\tremaining: 8.63s\n",
            "463:\tlearn: 0.0156718\ttotal: 7.47s\tremaining: 8.63s\n",
            "464:\tlearn: 0.0156537\ttotal: 7.48s\tremaining: 8.61s\n",
            "465:\tlearn: 0.0156287\ttotal: 7.5s\tremaining: 8.59s\n",
            "466:\tlearn: 0.0156045\ttotal: 7.52s\tremaining: 8.58s\n",
            "467:\tlearn: 0.0155574\ttotal: 7.54s\tremaining: 8.58s\n",
            "468:\tlearn: 0.0155356\ttotal: 7.56s\tremaining: 8.56s\n",
            "469:\tlearn: 0.0155053\ttotal: 7.58s\tremaining: 8.55s\n",
            "470:\tlearn: 0.0155046\ttotal: 7.6s\tremaining: 8.54s\n",
            "471:\tlearn: 0.0154889\ttotal: 7.66s\tremaining: 8.56s\n",
            "472:\tlearn: 0.0154767\ttotal: 7.68s\tremaining: 8.56s\n",
            "473:\tlearn: 0.0154713\ttotal: 7.7s\tremaining: 8.55s\n",
            "474:\tlearn: 0.0154285\ttotal: 7.72s\tremaining: 8.54s\n",
            "475:\tlearn: 0.0154150\ttotal: 7.75s\tremaining: 8.53s\n",
            "476:\tlearn: 0.0153851\ttotal: 7.76s\tremaining: 8.51s\n",
            "477:\tlearn: 0.0153597\ttotal: 7.79s\tremaining: 8.5s\n",
            "478:\tlearn: 0.0153332\ttotal: 7.8s\tremaining: 8.49s\n",
            "479:\tlearn: 0.0153324\ttotal: 7.82s\tremaining: 8.47s\n",
            "480:\tlearn: 0.0153163\ttotal: 7.85s\tremaining: 8.47s\n",
            "481:\tlearn: 0.0153006\ttotal: 7.88s\tremaining: 8.47s\n",
            "482:\tlearn: 0.0152764\ttotal: 7.89s\tremaining: 8.45s\n",
            "483:\tlearn: 0.0152613\ttotal: 7.91s\tremaining: 8.43s\n",
            "484:\tlearn: 0.0152578\ttotal: 7.92s\tremaining: 8.41s\n",
            "485:\tlearn: 0.0152205\ttotal: 7.94s\tremaining: 8.4s\n",
            "486:\tlearn: 0.0152143\ttotal: 7.96s\tremaining: 8.39s\n",
            "487:\tlearn: 0.0152044\ttotal: 8s\tremaining: 8.39s\n",
            "488:\tlearn: 0.0151867\ttotal: 8.04s\tremaining: 8.4s\n",
            "489:\tlearn: 0.0151646\ttotal: 8.07s\tremaining: 8.4s\n",
            "490:\tlearn: 0.0151383\ttotal: 8.09s\tremaining: 8.38s\n",
            "491:\tlearn: 0.0151160\ttotal: 8.11s\tremaining: 8.37s\n",
            "492:\tlearn: 0.0150956\ttotal: 8.14s\tremaining: 8.37s\n",
            "493:\tlearn: 0.0150735\ttotal: 8.16s\tremaining: 8.36s\n",
            "494:\tlearn: 0.0150605\ttotal: 8.18s\tremaining: 8.35s\n",
            "495:\tlearn: 0.0150228\ttotal: 8.2s\tremaining: 8.33s\n",
            "496:\tlearn: 0.0150134\ttotal: 8.22s\tremaining: 8.31s\n",
            "497:\tlearn: 0.0149931\ttotal: 8.23s\tremaining: 8.3s\n",
            "498:\tlearn: 0.0149817\ttotal: 8.26s\tremaining: 8.29s\n",
            "499:\tlearn: 0.0149646\ttotal: 8.28s\tremaining: 8.28s\n",
            "500:\tlearn: 0.0149640\ttotal: 8.32s\tremaining: 8.29s\n",
            "501:\tlearn: 0.0149427\ttotal: 8.36s\tremaining: 8.29s\n",
            "502:\tlearn: 0.0149265\ttotal: 8.38s\tremaining: 8.28s\n",
            "503:\tlearn: 0.0148916\ttotal: 8.39s\tremaining: 8.26s\n",
            "504:\tlearn: 0.0148668\ttotal: 8.41s\tremaining: 8.24s\n",
            "505:\tlearn: 0.0148476\ttotal: 8.43s\tremaining: 8.23s\n",
            "506:\tlearn: 0.0148303\ttotal: 8.49s\tremaining: 8.25s\n",
            "507:\tlearn: 0.0148298\ttotal: 8.51s\tremaining: 8.24s\n",
            "508:\tlearn: 0.0148241\ttotal: 8.53s\tremaining: 8.23s\n",
            "509:\tlearn: 0.0148150\ttotal: 8.54s\tremaining: 8.21s\n",
            "510:\tlearn: 0.0148062\ttotal: 8.56s\tremaining: 8.19s\n",
            "511:\tlearn: 0.0147858\ttotal: 8.58s\tremaining: 8.18s\n",
            "512:\tlearn: 0.0147729\ttotal: 8.59s\tremaining: 8.16s\n",
            "513:\tlearn: 0.0147482\ttotal: 8.61s\tremaining: 8.14s\n",
            "514:\tlearn: 0.0147175\ttotal: 8.63s\tremaining: 8.12s\n",
            "515:\tlearn: 0.0147076\ttotal: 8.64s\tremaining: 8.11s\n",
            "516:\tlearn: 0.0146905\ttotal: 8.66s\tremaining: 8.09s\n",
            "517:\tlearn: 0.0146839\ttotal: 8.68s\tremaining: 8.07s\n",
            "518:\tlearn: 0.0146833\ttotal: 8.69s\tremaining: 8.06s\n",
            "519:\tlearn: 0.0146599\ttotal: 8.72s\tremaining: 8.05s\n",
            "520:\tlearn: 0.0146558\ttotal: 8.73s\tremaining: 8.03s\n",
            "521:\tlearn: 0.0146386\ttotal: 8.75s\tremaining: 8.01s\n",
            "522:\tlearn: 0.0146335\ttotal: 8.79s\tremaining: 8.01s\n",
            "523:\tlearn: 0.0146062\ttotal: 8.81s\tremaining: 8.01s\n",
            "524:\tlearn: 0.0145919\ttotal: 8.84s\tremaining: 8s\n",
            "525:\tlearn: 0.0145867\ttotal: 8.86s\tremaining: 7.98s\n",
            "526:\tlearn: 0.0145607\ttotal: 8.88s\tremaining: 7.97s\n",
            "527:\tlearn: 0.0145333\ttotal: 8.9s\tremaining: 7.95s\n",
            "528:\tlearn: 0.0145180\ttotal: 8.91s\tremaining: 7.94s\n",
            "529:\tlearn: 0.0145150\ttotal: 8.93s\tremaining: 7.92s\n",
            "530:\tlearn: 0.0145044\ttotal: 8.96s\tremaining: 7.91s\n",
            "531:\tlearn: 0.0145038\ttotal: 8.97s\tremaining: 7.89s\n",
            "532:\tlearn: 0.0144851\ttotal: 9s\tremaining: 7.89s\n",
            "533:\tlearn: 0.0144815\ttotal: 9.02s\tremaining: 7.87s\n",
            "534:\tlearn: 0.0144753\ttotal: 9.04s\tremaining: 7.86s\n",
            "535:\tlearn: 0.0144553\ttotal: 9.08s\tremaining: 7.86s\n",
            "536:\tlearn: 0.0144320\ttotal: 9.1s\tremaining: 7.85s\n",
            "537:\tlearn: 0.0144057\ttotal: 9.13s\tremaining: 7.84s\n",
            "538:\tlearn: 0.0143692\ttotal: 9.15s\tremaining: 7.82s\n",
            "539:\tlearn: 0.0143541\ttotal: 9.16s\tremaining: 7.81s\n",
            "540:\tlearn: 0.0142960\ttotal: 9.18s\tremaining: 7.79s\n",
            "541:\tlearn: 0.0142877\ttotal: 9.2s\tremaining: 7.77s\n",
            "542:\tlearn: 0.0142750\ttotal: 9.21s\tremaining: 7.75s\n",
            "543:\tlearn: 0.0142519\ttotal: 9.24s\tremaining: 7.74s\n",
            "544:\tlearn: 0.0142323\ttotal: 9.25s\tremaining: 7.73s\n",
            "545:\tlearn: 0.0142305\ttotal: 9.31s\tremaining: 7.74s\n",
            "546:\tlearn: 0.0142259\ttotal: 9.34s\tremaining: 7.73s\n",
            "547:\tlearn: 0.0141972\ttotal: 9.35s\tremaining: 7.71s\n",
            "548:\tlearn: 0.0141809\ttotal: 9.38s\tremaining: 7.7s\n",
            "549:\tlearn: 0.0141769\ttotal: 9.4s\tremaining: 7.69s\n",
            "550:\tlearn: 0.0141552\ttotal: 9.42s\tremaining: 7.67s\n",
            "551:\tlearn: 0.0141510\ttotal: 9.43s\tremaining: 7.66s\n",
            "552:\tlearn: 0.0141308\ttotal: 9.45s\tremaining: 7.64s\n",
            "553:\tlearn: 0.0141275\ttotal: 9.46s\tremaining: 7.62s\n",
            "554:\tlearn: 0.0141198\ttotal: 9.48s\tremaining: 7.6s\n",
            "555:\tlearn: 0.0140850\ttotal: 9.5s\tremaining: 7.58s\n",
            "556:\tlearn: 0.0140712\ttotal: 9.51s\tremaining: 7.57s\n",
            "557:\tlearn: 0.0140639\ttotal: 9.53s\tremaining: 7.55s\n",
            "558:\tlearn: 0.0140446\ttotal: 9.55s\tremaining: 7.53s\n",
            "559:\tlearn: 0.0140303\ttotal: 9.56s\tremaining: 7.51s\n",
            "560:\tlearn: 0.0140275\ttotal: 9.58s\tremaining: 7.49s\n",
            "561:\tlearn: 0.0139983\ttotal: 9.59s\tremaining: 7.48s\n",
            "562:\tlearn: 0.0139949\ttotal: 9.61s\tremaining: 7.46s\n",
            "563:\tlearn: 0.0139796\ttotal: 9.63s\tremaining: 7.45s\n",
            "564:\tlearn: 0.0139555\ttotal: 9.67s\tremaining: 7.44s\n",
            "565:\tlearn: 0.0139301\ttotal: 9.69s\tremaining: 7.43s\n",
            "566:\tlearn: 0.0139177\ttotal: 9.71s\tremaining: 7.41s\n",
            "567:\tlearn: 0.0139047\ttotal: 9.72s\tremaining: 7.39s\n",
            "568:\tlearn: 0.0138730\ttotal: 9.75s\tremaining: 7.38s\n",
            "569:\tlearn: 0.0138573\ttotal: 9.77s\tremaining: 7.37s\n",
            "570:\tlearn: 0.0138365\ttotal: 9.8s\tremaining: 7.36s\n",
            "571:\tlearn: 0.0138136\ttotal: 9.82s\tremaining: 7.35s\n",
            "572:\tlearn: 0.0138027\ttotal: 9.84s\tremaining: 7.33s\n",
            "573:\tlearn: 0.0137994\ttotal: 9.85s\tremaining: 7.31s\n",
            "574:\tlearn: 0.0137556\ttotal: 9.87s\tremaining: 7.3s\n",
            "575:\tlearn: 0.0137329\ttotal: 9.9s\tremaining: 7.28s\n",
            "576:\tlearn: 0.0137156\ttotal: 9.92s\tremaining: 7.27s\n",
            "577:\tlearn: 0.0137040\ttotal: 9.93s\tremaining: 7.25s\n",
            "578:\tlearn: 0.0137007\ttotal: 9.94s\tremaining: 7.23s\n",
            "579:\tlearn: 0.0136907\ttotal: 9.96s\tremaining: 7.21s\n",
            "580:\tlearn: 0.0136881\ttotal: 9.97s\tremaining: 7.19s\n",
            "581:\tlearn: 0.0136645\ttotal: 9.99s\tremaining: 7.17s\n",
            "582:\tlearn: 0.0136563\ttotal: 10s\tremaining: 7.16s\n",
            "583:\tlearn: 0.0136253\ttotal: 10.1s\tremaining: 7.17s\n",
            "584:\tlearn: 0.0136205\ttotal: 10.1s\tremaining: 7.17s\n",
            "585:\tlearn: 0.0135991\ttotal: 10.2s\tremaining: 7.17s\n",
            "586:\tlearn: 0.0135894\ttotal: 10.2s\tremaining: 7.16s\n",
            "587:\tlearn: 0.0135839\ttotal: 10.2s\tremaining: 7.14s\n",
            "588:\tlearn: 0.0135683\ttotal: 10.2s\tremaining: 7.12s\n",
            "589:\tlearn: 0.0135578\ttotal: 10.2s\tremaining: 7.11s\n",
            "590:\tlearn: 0.0135367\ttotal: 10.2s\tremaining: 7.09s\n",
            "591:\tlearn: 0.0135271\ttotal: 10.3s\tremaining: 7.08s\n",
            "592:\tlearn: 0.0135117\ttotal: 10.3s\tremaining: 7.08s\n",
            "593:\tlearn: 0.0135024\ttotal: 10.3s\tremaining: 7.06s\n",
            "594:\tlearn: 0.0134820\ttotal: 10.3s\tremaining: 7.04s\n",
            "595:\tlearn: 0.0134663\ttotal: 10.4s\tremaining: 7.03s\n",
            "596:\tlearn: 0.0134536\ttotal: 10.4s\tremaining: 7.01s\n",
            "597:\tlearn: 0.0134491\ttotal: 10.4s\tremaining: 7s\n",
            "598:\tlearn: 0.0134366\ttotal: 10.4s\tremaining: 6.98s\n",
            "599:\tlearn: 0.0134327\ttotal: 10.4s\tremaining: 6.97s\n",
            "600:\tlearn: 0.0134200\ttotal: 10.5s\tremaining: 6.95s\n",
            "601:\tlearn: 0.0134176\ttotal: 10.5s\tremaining: 6.93s\n",
            "602:\tlearn: 0.0133907\ttotal: 10.5s\tremaining: 6.92s\n",
            "603:\tlearn: 0.0133811\ttotal: 10.5s\tremaining: 6.91s\n",
            "604:\tlearn: 0.0133681\ttotal: 10.6s\tremaining: 6.89s\n",
            "605:\tlearn: 0.0133576\ttotal: 10.6s\tremaining: 6.89s\n",
            "606:\tlearn: 0.0133572\ttotal: 10.6s\tremaining: 6.87s\n",
            "607:\tlearn: 0.0133525\ttotal: 10.6s\tremaining: 6.86s\n",
            "608:\tlearn: 0.0133259\ttotal: 10.7s\tremaining: 6.84s\n",
            "609:\tlearn: 0.0133110\ttotal: 10.7s\tremaining: 6.83s\n",
            "610:\tlearn: 0.0132994\ttotal: 10.7s\tremaining: 6.81s\n",
            "611:\tlearn: 0.0132849\ttotal: 10.7s\tremaining: 6.79s\n",
            "612:\tlearn: 0.0132846\ttotal: 10.7s\tremaining: 6.78s\n",
            "613:\tlearn: 0.0132656\ttotal: 10.8s\tremaining: 6.76s\n",
            "614:\tlearn: 0.0132563\ttotal: 10.8s\tremaining: 6.74s\n",
            "615:\tlearn: 0.0132432\ttotal: 10.8s\tremaining: 6.74s\n",
            "616:\tlearn: 0.0132325\ttotal: 10.8s\tremaining: 6.73s\n",
            "617:\tlearn: 0.0132004\ttotal: 10.9s\tremaining: 6.71s\n",
            "618:\tlearn: 0.0131966\ttotal: 10.9s\tremaining: 6.69s\n",
            "619:\tlearn: 0.0131922\ttotal: 10.9s\tremaining: 6.68s\n",
            "620:\tlearn: 0.0131866\ttotal: 10.9s\tremaining: 6.67s\n",
            "621:\tlearn: 0.0131675\ttotal: 10.9s\tremaining: 6.65s\n",
            "622:\tlearn: 0.0131645\ttotal: 11s\tremaining: 6.63s\n",
            "623:\tlearn: 0.0131622\ttotal: 11s\tremaining: 6.62s\n",
            "624:\tlearn: 0.0131326\ttotal: 11.1s\tremaining: 6.63s\n",
            "625:\tlearn: 0.0131161\ttotal: 11.2s\tremaining: 6.67s\n",
            "626:\tlearn: 0.0131030\ttotal: 11.3s\tremaining: 6.69s\n",
            "627:\tlearn: 0.0130862\ttotal: 11.3s\tremaining: 6.68s\n",
            "628:\tlearn: 0.0130748\ttotal: 11.3s\tremaining: 6.66s\n",
            "629:\tlearn: 0.0130601\ttotal: 11.3s\tremaining: 6.65s\n",
            "630:\tlearn: 0.0130365\ttotal: 11.4s\tremaining: 6.65s\n",
            "631:\tlearn: 0.0130215\ttotal: 11.4s\tremaining: 6.63s\n",
            "632:\tlearn: 0.0130102\ttotal: 11.4s\tremaining: 6.61s\n",
            "633:\tlearn: 0.0129958\ttotal: 11.4s\tremaining: 6.6s\n",
            "634:\tlearn: 0.0129731\ttotal: 11.5s\tremaining: 6.58s\n",
            "635:\tlearn: 0.0129694\ttotal: 11.5s\tremaining: 6.56s\n",
            "636:\tlearn: 0.0129658\ttotal: 11.5s\tremaining: 6.57s\n",
            "637:\tlearn: 0.0129578\ttotal: 11.5s\tremaining: 6.55s\n",
            "638:\tlearn: 0.0129494\ttotal: 11.6s\tremaining: 6.53s\n",
            "639:\tlearn: 0.0129235\ttotal: 11.6s\tremaining: 6.51s\n",
            "640:\tlearn: 0.0129128\ttotal: 11.6s\tremaining: 6.5s\n",
            "641:\tlearn: 0.0129005\ttotal: 11.6s\tremaining: 6.48s\n",
            "642:\tlearn: 0.0128814\ttotal: 11.7s\tremaining: 6.47s\n",
            "643:\tlearn: 0.0128691\ttotal: 11.7s\tremaining: 6.45s\n",
            "644:\tlearn: 0.0128499\ttotal: 11.7s\tremaining: 6.43s\n",
            "645:\tlearn: 0.0128416\ttotal: 11.7s\tremaining: 6.43s\n",
            "646:\tlearn: 0.0128196\ttotal: 11.8s\tremaining: 6.43s\n",
            "647:\tlearn: 0.0127970\ttotal: 11.8s\tremaining: 6.42s\n",
            "648:\tlearn: 0.0127804\ttotal: 11.9s\tremaining: 6.42s\n",
            "649:\tlearn: 0.0127587\ttotal: 11.9s\tremaining: 6.4s\n",
            "650:\tlearn: 0.0127493\ttotal: 11.9s\tremaining: 6.38s\n",
            "651:\tlearn: 0.0127467\ttotal: 11.9s\tremaining: 6.37s\n",
            "652:\tlearn: 0.0127375\ttotal: 12s\tremaining: 6.36s\n",
            "653:\tlearn: 0.0127273\ttotal: 12s\tremaining: 6.33s\n",
            "654:\tlearn: 0.0127226\ttotal: 12s\tremaining: 6.32s\n",
            "655:\tlearn: 0.0127151\ttotal: 12s\tremaining: 6.3s\n",
            "656:\tlearn: 0.0127083\ttotal: 12.1s\tremaining: 6.29s\n",
            "657:\tlearn: 0.0126823\ttotal: 12.1s\tremaining: 6.31s\n",
            "658:\tlearn: 0.0126801\ttotal: 12.2s\tremaining: 6.31s\n",
            "659:\tlearn: 0.0126784\ttotal: 12.2s\tremaining: 6.29s\n",
            "660:\tlearn: 0.0126758\ttotal: 12.2s\tremaining: 6.27s\n",
            "661:\tlearn: 0.0126651\ttotal: 12.2s\tremaining: 6.25s\n",
            "662:\tlearn: 0.0126362\ttotal: 12.3s\tremaining: 6.23s\n",
            "663:\tlearn: 0.0126047\ttotal: 12.3s\tremaining: 6.21s\n",
            "664:\tlearn: 0.0125903\ttotal: 12.3s\tremaining: 6.2s\n",
            "665:\tlearn: 0.0125668\ttotal: 12.3s\tremaining: 6.17s\n",
            "666:\tlearn: 0.0125367\ttotal: 12.3s\tremaining: 6.16s\n",
            "667:\tlearn: 0.0125050\ttotal: 12.3s\tremaining: 6.14s\n",
            "668:\tlearn: 0.0124870\ttotal: 12.4s\tremaining: 6.12s\n",
            "669:\tlearn: 0.0124840\ttotal: 12.4s\tremaining: 6.1s\n",
            "670:\tlearn: 0.0124559\ttotal: 12.4s\tremaining: 6.08s\n",
            "671:\tlearn: 0.0124469\ttotal: 12.4s\tremaining: 6.06s\n",
            "672:\tlearn: 0.0124313\ttotal: 12.4s\tremaining: 6.04s\n",
            "673:\tlearn: 0.0124248\ttotal: 12.4s\tremaining: 6.02s\n",
            "674:\tlearn: 0.0124171\ttotal: 12.5s\tremaining: 6s\n",
            "675:\tlearn: 0.0124073\ttotal: 12.5s\tremaining: 5.98s\n",
            "676:\tlearn: 0.0124056\ttotal: 12.5s\tremaining: 5.96s\n",
            "677:\tlearn: 0.0124004\ttotal: 12.5s\tremaining: 5.94s\n",
            "678:\tlearn: 0.0123840\ttotal: 12.5s\tremaining: 5.92s\n",
            "679:\tlearn: 0.0123649\ttotal: 12.6s\tremaining: 5.91s\n",
            "680:\tlearn: 0.0123367\ttotal: 12.6s\tremaining: 5.89s\n",
            "681:\tlearn: 0.0122994\ttotal: 12.6s\tremaining: 5.87s\n",
            "682:\tlearn: 0.0122863\ttotal: 12.6s\tremaining: 5.86s\n",
            "683:\tlearn: 0.0122687\ttotal: 12.7s\tremaining: 5.85s\n",
            "684:\tlearn: 0.0122597\ttotal: 12.7s\tremaining: 5.83s\n",
            "685:\tlearn: 0.0122339\ttotal: 12.7s\tremaining: 5.82s\n",
            "686:\tlearn: 0.0122308\ttotal: 12.7s\tremaining: 5.8s\n",
            "687:\tlearn: 0.0122252\ttotal: 12.8s\tremaining: 5.79s\n",
            "688:\tlearn: 0.0122092\ttotal: 12.8s\tremaining: 5.77s\n",
            "689:\tlearn: 0.0121904\ttotal: 12.8s\tremaining: 5.75s\n",
            "690:\tlearn: 0.0121775\ttotal: 12.8s\tremaining: 5.73s\n",
            "691:\tlearn: 0.0121496\ttotal: 12.9s\tremaining: 5.72s\n",
            "692:\tlearn: 0.0121353\ttotal: 12.9s\tremaining: 5.71s\n",
            "693:\tlearn: 0.0121215\ttotal: 12.9s\tremaining: 5.7s\n",
            "694:\tlearn: 0.0121059\ttotal: 12.9s\tremaining: 5.67s\n",
            "695:\tlearn: 0.0120995\ttotal: 12.9s\tremaining: 5.66s\n",
            "696:\tlearn: 0.0120807\ttotal: 13s\tremaining: 5.64s\n",
            "697:\tlearn: 0.0120656\ttotal: 13.1s\tremaining: 5.65s\n",
            "698:\tlearn: 0.0120478\ttotal: 13.1s\tremaining: 5.64s\n",
            "699:\tlearn: 0.0120404\ttotal: 13.1s\tremaining: 5.63s\n",
            "700:\tlearn: 0.0120352\ttotal: 13.2s\tremaining: 5.62s\n",
            "701:\tlearn: 0.0120286\ttotal: 13.2s\tremaining: 5.6s\n",
            "702:\tlearn: 0.0120225\ttotal: 13.2s\tremaining: 5.58s\n",
            "703:\tlearn: 0.0120140\ttotal: 13.2s\tremaining: 5.56s\n",
            "704:\tlearn: 0.0120030\ttotal: 13.2s\tremaining: 5.54s\n",
            "705:\tlearn: 0.0119948\ttotal: 13.3s\tremaining: 5.52s\n",
            "706:\tlearn: 0.0119900\ttotal: 13.3s\tremaining: 5.5s\n",
            "707:\tlearn: 0.0119795\ttotal: 13.3s\tremaining: 5.48s\n",
            "708:\tlearn: 0.0119773\ttotal: 13.3s\tremaining: 5.46s\n",
            "709:\tlearn: 0.0119705\ttotal: 13.3s\tremaining: 5.44s\n",
            "710:\tlearn: 0.0119690\ttotal: 13.3s\tremaining: 5.42s\n",
            "711:\tlearn: 0.0119645\ttotal: 13.4s\tremaining: 5.4s\n",
            "712:\tlearn: 0.0119537\ttotal: 13.4s\tremaining: 5.38s\n",
            "713:\tlearn: 0.0119423\ttotal: 13.4s\tremaining: 5.36s\n",
            "714:\tlearn: 0.0119300\ttotal: 13.4s\tremaining: 5.34s\n",
            "715:\tlearn: 0.0119129\ttotal: 13.4s\tremaining: 5.33s\n",
            "716:\tlearn: 0.0118928\ttotal: 13.5s\tremaining: 5.31s\n",
            "717:\tlearn: 0.0118911\ttotal: 13.5s\tremaining: 5.3s\n",
            "718:\tlearn: 0.0118651\ttotal: 13.5s\tremaining: 5.29s\n",
            "719:\tlearn: 0.0118571\ttotal: 13.5s\tremaining: 5.27s\n",
            "720:\tlearn: 0.0118442\ttotal: 13.6s\tremaining: 5.25s\n",
            "721:\tlearn: 0.0118213\ttotal: 13.6s\tremaining: 5.23s\n",
            "722:\tlearn: 0.0118103\ttotal: 13.6s\tremaining: 5.21s\n",
            "723:\tlearn: 0.0117951\ttotal: 13.6s\tremaining: 5.19s\n",
            "724:\tlearn: 0.0117686\ttotal: 13.6s\tremaining: 5.18s\n",
            "725:\tlearn: 0.0117542\ttotal: 13.7s\tremaining: 5.16s\n",
            "726:\tlearn: 0.0117400\ttotal: 13.7s\tremaining: 5.14s\n",
            "727:\tlearn: 0.0117367\ttotal: 13.7s\tremaining: 5.12s\n",
            "728:\tlearn: 0.0117355\ttotal: 13.7s\tremaining: 5.1s\n",
            "729:\tlearn: 0.0117189\ttotal: 13.7s\tremaining: 5.08s\n",
            "730:\tlearn: 0.0117119\ttotal: 13.8s\tremaining: 5.06s\n",
            "731:\tlearn: 0.0116904\ttotal: 13.8s\tremaining: 5.04s\n",
            "732:\tlearn: 0.0116800\ttotal: 13.8s\tremaining: 5.02s\n",
            "733:\tlearn: 0.0116763\ttotal: 13.8s\tremaining: 5s\n",
            "734:\tlearn: 0.0116686\ttotal: 13.8s\tremaining: 4.98s\n",
            "735:\tlearn: 0.0116581\ttotal: 13.8s\tremaining: 4.96s\n",
            "736:\tlearn: 0.0116400\ttotal: 13.8s\tremaining: 4.94s\n",
            "737:\tlearn: 0.0116374\ttotal: 13.9s\tremaining: 4.92s\n",
            "738:\tlearn: 0.0116280\ttotal: 13.9s\tremaining: 4.91s\n",
            "739:\tlearn: 0.0116176\ttotal: 13.9s\tremaining: 4.89s\n",
            "740:\tlearn: 0.0116031\ttotal: 13.9s\tremaining: 4.87s\n",
            "741:\tlearn: 0.0115907\ttotal: 13.9s\tremaining: 4.85s\n",
            "742:\tlearn: 0.0115761\ttotal: 14s\tremaining: 4.83s\n",
            "743:\tlearn: 0.0115691\ttotal: 14s\tremaining: 4.81s\n",
            "744:\tlearn: 0.0115675\ttotal: 14s\tremaining: 4.79s\n",
            "745:\tlearn: 0.0115612\ttotal: 14s\tremaining: 4.77s\n",
            "746:\tlearn: 0.0115425\ttotal: 14s\tremaining: 4.75s\n",
            "747:\tlearn: 0.0115339\ttotal: 14s\tremaining: 4.73s\n",
            "748:\tlearn: 0.0115177\ttotal: 14.1s\tremaining: 4.71s\n",
            "749:\tlearn: 0.0115006\ttotal: 14.1s\tremaining: 4.69s\n",
            "750:\tlearn: 0.0114854\ttotal: 14.1s\tremaining: 4.67s\n",
            "751:\tlearn: 0.0114825\ttotal: 14.1s\tremaining: 4.65s\n",
            "752:\tlearn: 0.0114712\ttotal: 14.1s\tremaining: 4.64s\n",
            "753:\tlearn: 0.0114628\ttotal: 14.2s\tremaining: 4.62s\n",
            "754:\tlearn: 0.0114497\ttotal: 14.2s\tremaining: 4.61s\n",
            "755:\tlearn: 0.0114470\ttotal: 14.2s\tremaining: 4.59s\n",
            "756:\tlearn: 0.0114244\ttotal: 14.2s\tremaining: 4.57s\n",
            "757:\tlearn: 0.0114053\ttotal: 14.2s\tremaining: 4.55s\n",
            "758:\tlearn: 0.0114018\ttotal: 14.3s\tremaining: 4.53s\n",
            "759:\tlearn: 0.0113897\ttotal: 14.3s\tremaining: 4.51s\n",
            "760:\tlearn: 0.0113790\ttotal: 14.3s\tremaining: 4.49s\n",
            "761:\tlearn: 0.0113702\ttotal: 14.3s\tremaining: 4.47s\n",
            "762:\tlearn: 0.0113613\ttotal: 14.3s\tremaining: 4.45s\n",
            "763:\tlearn: 0.0113597\ttotal: 14.3s\tremaining: 4.43s\n",
            "764:\tlearn: 0.0113417\ttotal: 14.4s\tremaining: 4.41s\n",
            "765:\tlearn: 0.0113196\ttotal: 14.4s\tremaining: 4.39s\n",
            "766:\tlearn: 0.0113179\ttotal: 14.4s\tremaining: 4.37s\n",
            "767:\tlearn: 0.0113147\ttotal: 14.4s\tremaining: 4.35s\n",
            "768:\tlearn: 0.0112975\ttotal: 14.4s\tremaining: 4.34s\n",
            "769:\tlearn: 0.0112827\ttotal: 14.5s\tremaining: 4.32s\n",
            "770:\tlearn: 0.0112738\ttotal: 14.5s\tremaining: 4.3s\n",
            "771:\tlearn: 0.0112723\ttotal: 14.5s\tremaining: 4.28s\n",
            "772:\tlearn: 0.0112479\ttotal: 14.5s\tremaining: 4.26s\n",
            "773:\tlearn: 0.0112420\ttotal: 14.5s\tremaining: 4.24s\n",
            "774:\tlearn: 0.0112266\ttotal: 14.6s\tremaining: 4.23s\n",
            "775:\tlearn: 0.0112094\ttotal: 14.6s\tremaining: 4.21s\n",
            "776:\tlearn: 0.0111964\ttotal: 14.6s\tremaining: 4.19s\n",
            "777:\tlearn: 0.0111858\ttotal: 14.6s\tremaining: 4.17s\n",
            "778:\tlearn: 0.0111739\ttotal: 14.6s\tremaining: 4.16s\n",
            "779:\tlearn: 0.0111609\ttotal: 14.7s\tremaining: 4.13s\n",
            "780:\tlearn: 0.0111391\ttotal: 14.7s\tremaining: 4.12s\n",
            "781:\tlearn: 0.0111271\ttotal: 14.7s\tremaining: 4.1s\n",
            "782:\tlearn: 0.0111149\ttotal: 14.7s\tremaining: 4.08s\n",
            "783:\tlearn: 0.0111009\ttotal: 14.7s\tremaining: 4.06s\n",
            "784:\tlearn: 0.0110995\ttotal: 14.8s\tremaining: 4.04s\n",
            "785:\tlearn: 0.0110925\ttotal: 14.8s\tremaining: 4.02s\n",
            "786:\tlearn: 0.0110807\ttotal: 14.8s\tremaining: 4s\n",
            "787:\tlearn: 0.0110670\ttotal: 14.8s\tremaining: 3.98s\n",
            "788:\tlearn: 0.0110505\ttotal: 14.8s\tremaining: 3.97s\n",
            "789:\tlearn: 0.0110346\ttotal: 14.9s\tremaining: 3.95s\n",
            "790:\tlearn: 0.0110282\ttotal: 14.9s\tremaining: 3.93s\n",
            "791:\tlearn: 0.0110197\ttotal: 14.9s\tremaining: 3.91s\n",
            "792:\tlearn: 0.0110129\ttotal: 14.9s\tremaining: 3.9s\n",
            "793:\tlearn: 0.0109914\ttotal: 15s\tremaining: 3.88s\n",
            "794:\tlearn: 0.0109779\ttotal: 15s\tremaining: 3.86s\n",
            "795:\tlearn: 0.0109620\ttotal: 15s\tremaining: 3.84s\n",
            "796:\tlearn: 0.0109511\ttotal: 15s\tremaining: 3.83s\n",
            "797:\tlearn: 0.0109466\ttotal: 15s\tremaining: 3.81s\n",
            "798:\tlearn: 0.0109368\ttotal: 15.1s\tremaining: 3.79s\n",
            "799:\tlearn: 0.0109121\ttotal: 15.1s\tremaining: 3.77s\n",
            "800:\tlearn: 0.0109015\ttotal: 15.1s\tremaining: 3.75s\n",
            "801:\tlearn: 0.0108991\ttotal: 15.1s\tremaining: 3.73s\n",
            "802:\tlearn: 0.0108881\ttotal: 15.2s\tremaining: 3.73s\n",
            "803:\tlearn: 0.0108833\ttotal: 15.2s\tremaining: 3.71s\n",
            "804:\tlearn: 0.0108730\ttotal: 15.2s\tremaining: 3.69s\n",
            "805:\tlearn: 0.0108727\ttotal: 15.2s\tremaining: 3.67s\n",
            "806:\tlearn: 0.0108573\ttotal: 15.2s\tremaining: 3.65s\n",
            "807:\tlearn: 0.0108547\ttotal: 15.3s\tremaining: 3.63s\n",
            "808:\tlearn: 0.0108504\ttotal: 15.3s\tremaining: 3.61s\n",
            "809:\tlearn: 0.0108489\ttotal: 15.3s\tremaining: 3.59s\n",
            "810:\tlearn: 0.0108281\ttotal: 15.3s\tremaining: 3.57s\n",
            "811:\tlearn: 0.0108258\ttotal: 15.3s\tremaining: 3.55s\n",
            "812:\tlearn: 0.0108118\ttotal: 15.3s\tremaining: 3.53s\n",
            "813:\tlearn: 0.0108023\ttotal: 15.4s\tremaining: 3.51s\n",
            "814:\tlearn: 0.0107778\ttotal: 15.4s\tremaining: 3.49s\n",
            "815:\tlearn: 0.0107686\ttotal: 15.4s\tremaining: 3.47s\n",
            "816:\tlearn: 0.0107587\ttotal: 15.4s\tremaining: 3.45s\n",
            "817:\tlearn: 0.0107574\ttotal: 15.4s\tremaining: 3.43s\n",
            "818:\tlearn: 0.0107501\ttotal: 15.4s\tremaining: 3.41s\n",
            "819:\tlearn: 0.0107441\ttotal: 15.4s\tremaining: 3.39s\n",
            "820:\tlearn: 0.0107219\ttotal: 15.5s\tremaining: 3.37s\n",
            "821:\tlearn: 0.0107216\ttotal: 15.5s\tremaining: 3.35s\n",
            "822:\tlearn: 0.0107108\ttotal: 15.5s\tremaining: 3.33s\n",
            "823:\tlearn: 0.0106942\ttotal: 15.5s\tremaining: 3.32s\n",
            "824:\tlearn: 0.0106879\ttotal: 15.6s\tremaining: 3.3s\n",
            "825:\tlearn: 0.0106877\ttotal: 15.6s\tremaining: 3.28s\n",
            "826:\tlearn: 0.0106818\ttotal: 15.6s\tremaining: 3.26s\n",
            "827:\tlearn: 0.0106632\ttotal: 15.6s\tremaining: 3.24s\n",
            "828:\tlearn: 0.0106528\ttotal: 15.6s\tremaining: 3.22s\n",
            "829:\tlearn: 0.0106398\ttotal: 15.6s\tremaining: 3.2s\n",
            "830:\tlearn: 0.0106304\ttotal: 15.7s\tremaining: 3.18s\n",
            "831:\tlearn: 0.0106184\ttotal: 15.7s\tremaining: 3.17s\n",
            "832:\tlearn: 0.0106171\ttotal: 15.7s\tremaining: 3.15s\n",
            "833:\tlearn: 0.0106091\ttotal: 15.7s\tremaining: 3.13s\n",
            "834:\tlearn: 0.0105994\ttotal: 15.7s\tremaining: 3.11s\n",
            "835:\tlearn: 0.0105827\ttotal: 15.8s\tremaining: 3.09s\n",
            "836:\tlearn: 0.0105788\ttotal: 15.8s\tremaining: 3.07s\n",
            "837:\tlearn: 0.0105565\ttotal: 15.8s\tremaining: 3.05s\n",
            "838:\tlearn: 0.0105458\ttotal: 15.8s\tremaining: 3.03s\n",
            "839:\tlearn: 0.0105313\ttotal: 15.8s\tremaining: 3.02s\n",
            "840:\tlearn: 0.0105243\ttotal: 15.8s\tremaining: 3s\n",
            "841:\tlearn: 0.0105064\ttotal: 15.9s\tremaining: 2.98s\n",
            "842:\tlearn: 0.0105006\ttotal: 15.9s\tremaining: 2.96s\n",
            "843:\tlearn: 0.0104990\ttotal: 15.9s\tremaining: 2.94s\n",
            "844:\tlearn: 0.0104855\ttotal: 15.9s\tremaining: 2.92s\n",
            "845:\tlearn: 0.0104696\ttotal: 15.9s\tremaining: 2.9s\n",
            "846:\tlearn: 0.0104595\ttotal: 16s\tremaining: 2.88s\n",
            "847:\tlearn: 0.0104563\ttotal: 16s\tremaining: 2.86s\n",
            "848:\tlearn: 0.0104467\ttotal: 16s\tremaining: 2.84s\n",
            "849:\tlearn: 0.0104443\ttotal: 16s\tremaining: 2.82s\n",
            "850:\tlearn: 0.0104314\ttotal: 16s\tremaining: 2.81s\n",
            "851:\tlearn: 0.0104275\ttotal: 16s\tremaining: 2.79s\n",
            "852:\tlearn: 0.0104237\ttotal: 16.1s\tremaining: 2.77s\n",
            "853:\tlearn: 0.0104103\ttotal: 16.1s\tremaining: 2.75s\n",
            "854:\tlearn: 0.0104064\ttotal: 16.1s\tremaining: 2.73s\n",
            "855:\tlearn: 0.0104062\ttotal: 16.1s\tremaining: 2.71s\n",
            "856:\tlearn: 0.0104020\ttotal: 16.1s\tremaining: 2.69s\n",
            "857:\tlearn: 0.0103985\ttotal: 16.2s\tremaining: 2.68s\n",
            "858:\tlearn: 0.0103928\ttotal: 16.2s\tremaining: 2.67s\n",
            "859:\tlearn: 0.0103803\ttotal: 16.3s\tremaining: 2.65s\n",
            "860:\tlearn: 0.0103719\ttotal: 16.3s\tremaining: 2.63s\n",
            "861:\tlearn: 0.0103597\ttotal: 16.4s\tremaining: 2.62s\n",
            "862:\tlearn: 0.0103432\ttotal: 16.4s\tremaining: 2.61s\n",
            "863:\tlearn: 0.0103412\ttotal: 16.5s\tremaining: 2.59s\n",
            "864:\tlearn: 0.0103377\ttotal: 16.5s\tremaining: 2.58s\n",
            "865:\tlearn: 0.0103300\ttotal: 16.5s\tremaining: 2.56s\n",
            "866:\tlearn: 0.0103156\ttotal: 16.6s\tremaining: 2.54s\n",
            "867:\tlearn: 0.0103021\ttotal: 16.7s\tremaining: 2.53s\n",
            "868:\tlearn: 0.0102791\ttotal: 16.7s\tremaining: 2.51s\n",
            "869:\tlearn: 0.0102673\ttotal: 16.7s\tremaining: 2.5s\n",
            "870:\tlearn: 0.0102482\ttotal: 16.7s\tremaining: 2.48s\n",
            "871:\tlearn: 0.0102341\ttotal: 16.7s\tremaining: 2.46s\n",
            "872:\tlearn: 0.0102167\ttotal: 16.8s\tremaining: 2.44s\n",
            "873:\tlearn: 0.0102147\ttotal: 16.8s\tremaining: 2.42s\n",
            "874:\tlearn: 0.0102017\ttotal: 16.8s\tremaining: 2.4s\n",
            "875:\tlearn: 0.0101863\ttotal: 16.8s\tremaining: 2.38s\n",
            "876:\tlearn: 0.0101781\ttotal: 16.9s\tremaining: 2.36s\n",
            "877:\tlearn: 0.0101779\ttotal: 16.9s\tremaining: 2.35s\n",
            "878:\tlearn: 0.0101705\ttotal: 16.9s\tremaining: 2.33s\n",
            "879:\tlearn: 0.0101599\ttotal: 16.9s\tremaining: 2.31s\n",
            "880:\tlearn: 0.0101525\ttotal: 17s\tremaining: 2.29s\n",
            "881:\tlearn: 0.0101423\ttotal: 17s\tremaining: 2.28s\n",
            "882:\tlearn: 0.0101280\ttotal: 17.1s\tremaining: 2.26s\n",
            "883:\tlearn: 0.0101198\ttotal: 17.1s\tremaining: 2.25s\n",
            "884:\tlearn: 0.0101124\ttotal: 17.1s\tremaining: 2.23s\n",
            "885:\tlearn: 0.0101120\ttotal: 17.1s\tremaining: 2.21s\n",
            "886:\tlearn: 0.0101013\ttotal: 17.2s\tremaining: 2.19s\n",
            "887:\tlearn: 0.0100918\ttotal: 17.2s\tremaining: 2.17s\n",
            "888:\tlearn: 0.0100862\ttotal: 17.2s\tremaining: 2.15s\n",
            "889:\tlearn: 0.0100755\ttotal: 17.3s\tremaining: 2.13s\n",
            "890:\tlearn: 0.0100721\ttotal: 17.3s\tremaining: 2.11s\n",
            "891:\tlearn: 0.0100589\ttotal: 17.3s\tremaining: 2.09s\n",
            "892:\tlearn: 0.0100400\ttotal: 17.3s\tremaining: 2.07s\n",
            "893:\tlearn: 0.0100292\ttotal: 17.3s\tremaining: 2.06s\n",
            "894:\tlearn: 0.0100228\ttotal: 17.3s\tremaining: 2.04s\n",
            "895:\tlearn: 0.0100157\ttotal: 17.4s\tremaining: 2.02s\n",
            "896:\tlearn: 0.0100147\ttotal: 17.4s\tremaining: 2s\n",
            "897:\tlearn: 0.0100121\ttotal: 17.4s\tremaining: 1.98s\n",
            "898:\tlearn: 0.0100067\ttotal: 17.4s\tremaining: 1.96s\n",
            "899:\tlearn: 0.0100065\ttotal: 17.4s\tremaining: 1.94s\n",
            "900:\tlearn: 0.0099963\ttotal: 17.4s\tremaining: 1.92s\n",
            "901:\tlearn: 0.0099801\ttotal: 17.5s\tremaining: 1.9s\n",
            "902:\tlearn: 0.0099649\ttotal: 17.5s\tremaining: 1.88s\n",
            "903:\tlearn: 0.0099574\ttotal: 17.5s\tremaining: 1.86s\n",
            "904:\tlearn: 0.0099412\ttotal: 17.6s\tremaining: 1.85s\n",
            "905:\tlearn: 0.0099265\ttotal: 17.7s\tremaining: 1.83s\n",
            "906:\tlearn: 0.0099256\ttotal: 17.7s\tremaining: 1.81s\n",
            "907:\tlearn: 0.0099142\ttotal: 17.7s\tremaining: 1.79s\n",
            "908:\tlearn: 0.0098924\ttotal: 17.7s\tremaining: 1.77s\n",
            "909:\tlearn: 0.0098853\ttotal: 17.7s\tremaining: 1.75s\n",
            "910:\tlearn: 0.0098773\ttotal: 17.8s\tremaining: 1.74s\n",
            "911:\tlearn: 0.0098682\ttotal: 17.8s\tremaining: 1.72s\n",
            "912:\tlearn: 0.0098545\ttotal: 17.8s\tremaining: 1.7s\n",
            "913:\tlearn: 0.0098425\ttotal: 17.8s\tremaining: 1.68s\n",
            "914:\tlearn: 0.0098344\ttotal: 17.8s\tremaining: 1.66s\n",
            "915:\tlearn: 0.0098227\ttotal: 17.8s\tremaining: 1.64s\n",
            "916:\tlearn: 0.0098143\ttotal: 17.9s\tremaining: 1.62s\n",
            "917:\tlearn: 0.0098079\ttotal: 17.9s\tremaining: 1.6s\n",
            "918:\tlearn: 0.0097955\ttotal: 17.9s\tremaining: 1.58s\n",
            "919:\tlearn: 0.0097934\ttotal: 17.9s\tremaining: 1.56s\n",
            "920:\tlearn: 0.0097889\ttotal: 18s\tremaining: 1.54s\n",
            "921:\tlearn: 0.0097869\ttotal: 18s\tremaining: 1.52s\n",
            "922:\tlearn: 0.0097848\ttotal: 18s\tremaining: 1.5s\n",
            "923:\tlearn: 0.0097822\ttotal: 18.1s\tremaining: 1.49s\n",
            "924:\tlearn: 0.0097740\ttotal: 18.1s\tremaining: 1.47s\n",
            "925:\tlearn: 0.0097619\ttotal: 18.1s\tremaining: 1.45s\n",
            "926:\tlearn: 0.0097603\ttotal: 18.1s\tremaining: 1.43s\n",
            "927:\tlearn: 0.0097580\ttotal: 18.2s\tremaining: 1.41s\n",
            "928:\tlearn: 0.0097368\ttotal: 18.2s\tremaining: 1.39s\n",
            "929:\tlearn: 0.0097319\ttotal: 18.3s\tremaining: 1.37s\n",
            "930:\tlearn: 0.0097164\ttotal: 18.3s\tremaining: 1.35s\n",
            "931:\tlearn: 0.0096982\ttotal: 18.3s\tremaining: 1.33s\n",
            "932:\tlearn: 0.0096743\ttotal: 18.3s\tremaining: 1.31s\n",
            "933:\tlearn: 0.0096601\ttotal: 18.3s\tremaining: 1.3s\n",
            "934:\tlearn: 0.0096584\ttotal: 18.4s\tremaining: 1.28s\n",
            "935:\tlearn: 0.0096482\ttotal: 18.4s\tremaining: 1.26s\n",
            "936:\tlearn: 0.0096337\ttotal: 18.5s\tremaining: 1.24s\n",
            "937:\tlearn: 0.0096153\ttotal: 18.5s\tremaining: 1.22s\n",
            "938:\tlearn: 0.0095953\ttotal: 18.5s\tremaining: 1.2s\n",
            "939:\tlearn: 0.0095752\ttotal: 18.6s\tremaining: 1.19s\n",
            "940:\tlearn: 0.0095650\ttotal: 18.6s\tremaining: 1.17s\n",
            "941:\tlearn: 0.0095555\ttotal: 18.6s\tremaining: 1.15s\n",
            "942:\tlearn: 0.0095483\ttotal: 18.7s\tremaining: 1.13s\n",
            "943:\tlearn: 0.0095359\ttotal: 18.7s\tremaining: 1.11s\n",
            "944:\tlearn: 0.0095217\ttotal: 18.7s\tremaining: 1.09s\n",
            "945:\tlearn: 0.0095189\ttotal: 18.8s\tremaining: 1.07s\n",
            "946:\tlearn: 0.0095015\ttotal: 18.8s\tremaining: 1.05s\n",
            "947:\tlearn: 0.0095000\ttotal: 18.8s\tremaining: 1.03s\n",
            "948:\tlearn: 0.0094914\ttotal: 18.8s\tremaining: 1.01s\n",
            "949:\tlearn: 0.0094755\ttotal: 18.8s\tremaining: 992ms\n",
            "950:\tlearn: 0.0094715\ttotal: 18.9s\tremaining: 972ms\n",
            "951:\tlearn: 0.0094552\ttotal: 18.9s\tremaining: 952ms\n",
            "952:\tlearn: 0.0094529\ttotal: 18.9s\tremaining: 932ms\n",
            "953:\tlearn: 0.0094489\ttotal: 18.9s\tremaining: 912ms\n",
            "954:\tlearn: 0.0094189\ttotal: 18.9s\tremaining: 892ms\n",
            "955:\tlearn: 0.0094056\ttotal: 18.9s\tremaining: 872ms\n",
            "956:\tlearn: 0.0093935\ttotal: 19s\tremaining: 852ms\n",
            "957:\tlearn: 0.0093823\ttotal: 19s\tremaining: 833ms\n",
            "958:\tlearn: 0.0093785\ttotal: 19s\tremaining: 813ms\n",
            "959:\tlearn: 0.0093746\ttotal: 19s\tremaining: 793ms\n",
            "960:\tlearn: 0.0093681\ttotal: 19.1s\tremaining: 773ms\n",
            "961:\tlearn: 0.0093594\ttotal: 19.1s\tremaining: 754ms\n",
            "962:\tlearn: 0.0093490\ttotal: 19.1s\tremaining: 734ms\n",
            "963:\tlearn: 0.0093350\ttotal: 19.1s\tremaining: 714ms\n",
            "964:\tlearn: 0.0093253\ttotal: 19.1s\tremaining: 694ms\n",
            "965:\tlearn: 0.0093136\ttotal: 19.2s\tremaining: 674ms\n",
            "966:\tlearn: 0.0093064\ttotal: 19.2s\tremaining: 654ms\n",
            "967:\tlearn: 0.0092950\ttotal: 19.2s\tremaining: 634ms\n",
            "968:\tlearn: 0.0092872\ttotal: 19.2s\tremaining: 614ms\n",
            "969:\tlearn: 0.0092740\ttotal: 19.2s\tremaining: 595ms\n",
            "970:\tlearn: 0.0092664\ttotal: 19.3s\tremaining: 576ms\n",
            "971:\tlearn: 0.0092549\ttotal: 19.3s\tremaining: 556ms\n",
            "972:\tlearn: 0.0092412\ttotal: 19.3s\tremaining: 536ms\n",
            "973:\tlearn: 0.0092246\ttotal: 19.3s\tremaining: 516ms\n",
            "974:\tlearn: 0.0092225\ttotal: 19.4s\tremaining: 496ms\n",
            "975:\tlearn: 0.0091946\ttotal: 19.4s\tremaining: 476ms\n",
            "976:\tlearn: 0.0091772\ttotal: 19.4s\tremaining: 457ms\n",
            "977:\tlearn: 0.0091698\ttotal: 19.4s\tremaining: 437ms\n",
            "978:\tlearn: 0.0091678\ttotal: 19.4s\tremaining: 417ms\n",
            "979:\tlearn: 0.0091636\ttotal: 19.4s\tremaining: 397ms\n",
            "980:\tlearn: 0.0091540\ttotal: 19.5s\tremaining: 377ms\n",
            "981:\tlearn: 0.0091504\ttotal: 19.5s\tremaining: 357ms\n",
            "982:\tlearn: 0.0091488\ttotal: 19.5s\tremaining: 337ms\n",
            "983:\tlearn: 0.0091464\ttotal: 19.5s\tremaining: 317ms\n",
            "984:\tlearn: 0.0091359\ttotal: 19.5s\tremaining: 297ms\n",
            "985:\tlearn: 0.0091243\ttotal: 19.5s\tremaining: 277ms\n",
            "986:\tlearn: 0.0091143\ttotal: 19.6s\tremaining: 258ms\n",
            "987:\tlearn: 0.0090990\ttotal: 19.6s\tremaining: 238ms\n",
            "988:\tlearn: 0.0090892\ttotal: 19.6s\tremaining: 218ms\n",
            "989:\tlearn: 0.0090815\ttotal: 19.6s\tremaining: 198ms\n",
            "990:\tlearn: 0.0090812\ttotal: 19.6s\tremaining: 178ms\n",
            "991:\tlearn: 0.0090744\ttotal: 19.7s\tremaining: 159ms\n",
            "992:\tlearn: 0.0090698\ttotal: 19.7s\tremaining: 139ms\n",
            "993:\tlearn: 0.0090679\ttotal: 19.7s\tremaining: 119ms\n",
            "994:\tlearn: 0.0090596\ttotal: 19.7s\tremaining: 99.2ms\n",
            "995:\tlearn: 0.0090580\ttotal: 19.8s\tremaining: 79.4ms\n",
            "996:\tlearn: 0.0090488\ttotal: 19.8s\tremaining: 59.5ms\n",
            "997:\tlearn: 0.0090345\ttotal: 19.8s\tremaining: 39.7ms\n",
            "998:\tlearn: 0.0090342\ttotal: 19.8s\tremaining: 19.8ms\n",
            "999:\tlearn: 0.0090263\ttotal: 19.8s\tremaining: 0us\n",
            "              precision    recall  f1-score   support\n",
            "\n",
            "           0       0.99      1.00      1.00     31795\n",
            "           1       0.96      0.70      0.81       564\n",
            "\n",
            "    accuracy                           0.99     32359\n",
            "   macro avg       0.98      0.85      0.90     32359\n",
            "weighted avg       0.99      0.99      0.99     32359\n",
            "\n"
          ]
        }
      ]
    },
    {
      "cell_type": "code",
      "source": [
        "from sklearn.metrics import f1_score,roc_auc_score\n",
        "print(f1_score(y_test, y_pred)) \n",
        "print(roc_auc_score(y_test, y_pred))"
      ],
      "metadata": {
        "colab": {
          "base_uri": "https://localhost:8080/"
        },
        "id": "MDgvcu36vvY9",
        "outputId": "c44fbbd5-c45c-4543-8079-5c519192fa99"
      },
      "execution_count": 34,
      "outputs": [
        {
          "output_type": "stream",
          "name": "stdout",
          "text": [
            "0.806153846153846\n",
            "0.8481211919444045\n"
          ]
        }
      ]
    },
    {
      "cell_type": "code",
      "source": [
        "X_test2 = df[df['Year'] >= 2007].drop(['Is Fraud?'],axis=1)\n",
        "y_test2 = df[df['Year'] >= 2007]['Is Fraud?']"
      ],
      "metadata": {
        "id": "cI6i5PvTJAoM"
      },
      "execution_count": 35,
      "outputs": []
    },
    {
      "cell_type": "code",
      "source": [
        "X_test2"
      ],
      "metadata": {
        "id": "uLEr-2akJJc1",
        "outputId": "32723ec3-004c-4e55-cae2-434986023a66",
        "colab": {
          "base_uri": "https://localhost:8080/",
          "height": 505
        }
      },
      "execution_count": 36,
      "outputs": [
        {
          "output_type": "execute_result",
          "data": {
            "text/plain": [
              "          User  Card  Year  Month  Day  Amount  Use Chip        Merchant Name  \\\n",
              "4132694    341     1  2007      1    1    4.98         0  4722913068560264812   \n",
              "20659640  1683     2  2007      1    1   84.00         0  2027553650310142703   \n",
              "19671499  1596     0  2007      1    1   58.54         0  8829920464184665592   \n",
              "11025934   913     2  2007      1    1   11.24         0  2027553650310142703   \n",
              "7833063    667     0  2007      1    1    3.22         0 -4927381308738947637   \n",
              "...        ...   ...   ...    ...  ...     ...       ...                  ...   \n",
              "20514507  1672     0  2020      2   28  -52.00         0 -1288082279022882052   \n",
              "19850146  1607     4  2020      2   28   64.82         2  1925305407449316291   \n",
              "11485363   956     0  2020      2   28   80.00         0 -4282466774399734331   \n",
              "23826947  1948     0  2020      2   28   34.93         1 -6458444334611773637   \n",
              "20415441  1664     2  2020      2   28  -92.00         2  2027553650310142703   \n",
              "\n",
              "          Merchant City  Merchant State           Zip   MCC  Errors?  \\\n",
              "4132694            2346             180  75253.000000  5411     True   \n",
              "20659640           6033              58  30066.000000  5541     True   \n",
              "19671499           3660             124  28056.000000  7538     True   \n",
              "11025934           8918              54  32773.000000  5541     True   \n",
              "7833063            4837              74  47546.000000  5812     True   \n",
              "...                 ...             ...           ...   ...      ...   \n",
              "20514507           9579             102   4084.000000  5499     True   \n",
              "19850146           2940             180  79928.000000  5300     True   \n",
              "11485363           8736              25  95823.000000  4829     True   \n",
              "23826947           7242             123  50963.290143  4784     True   \n",
              "20415441           2327              87  41031.000000  5541     True   \n",
              "\n",
              "          is online  Hour  Minutes  is vozmes  abs_amount  \n",
              "4132694       False     6       41      False        4.98  \n",
              "20659640      False    12       53      False       84.00  \n",
              "19671499      False     6       59      False       58.54  \n",
              "11025934      False    11       56      False       11.24  \n",
              "7833063       False    21       55      False        3.22  \n",
              "...             ...   ...      ...        ...         ...  \n",
              "20514507      False    14       22       True       52.00  \n",
              "19850146      False    16       54      False       64.82  \n",
              "11485363      False     8       34      False       80.00  \n",
              "23826947       True    15       17      False       34.93  \n",
              "20415441      False    19       48       True       92.00  \n",
              "\n",
              "[2079742 rows x 18 columns]"
            ],
            "text/html": [
              "\n",
              "  <div id=\"df-cd3bd737-edcd-4377-868f-1edbd6dc7992\">\n",
              "    <div class=\"colab-df-container\">\n",
              "      <div>\n",
              "<style scoped>\n",
              "    .dataframe tbody tr th:only-of-type {\n",
              "        vertical-align: middle;\n",
              "    }\n",
              "\n",
              "    .dataframe tbody tr th {\n",
              "        vertical-align: top;\n",
              "    }\n",
              "\n",
              "    .dataframe thead th {\n",
              "        text-align: right;\n",
              "    }\n",
              "</style>\n",
              "<table border=\"1\" class=\"dataframe\">\n",
              "  <thead>\n",
              "    <tr style=\"text-align: right;\">\n",
              "      <th></th>\n",
              "      <th>User</th>\n",
              "      <th>Card</th>\n",
              "      <th>Year</th>\n",
              "      <th>Month</th>\n",
              "      <th>Day</th>\n",
              "      <th>Amount</th>\n",
              "      <th>Use Chip</th>\n",
              "      <th>Merchant Name</th>\n",
              "      <th>Merchant City</th>\n",
              "      <th>Merchant State</th>\n",
              "      <th>Zip</th>\n",
              "      <th>MCC</th>\n",
              "      <th>Errors?</th>\n",
              "      <th>is online</th>\n",
              "      <th>Hour</th>\n",
              "      <th>Minutes</th>\n",
              "      <th>is vozmes</th>\n",
              "      <th>abs_amount</th>\n",
              "    </tr>\n",
              "  </thead>\n",
              "  <tbody>\n",
              "    <tr>\n",
              "      <th>4132694</th>\n",
              "      <td>341</td>\n",
              "      <td>1</td>\n",
              "      <td>2007</td>\n",
              "      <td>1</td>\n",
              "      <td>1</td>\n",
              "      <td>4.98</td>\n",
              "      <td>0</td>\n",
              "      <td>4722913068560264812</td>\n",
              "      <td>2346</td>\n",
              "      <td>180</td>\n",
              "      <td>75253.000000</td>\n",
              "      <td>5411</td>\n",
              "      <td>True</td>\n",
              "      <td>False</td>\n",
              "      <td>6</td>\n",
              "      <td>41</td>\n",
              "      <td>False</td>\n",
              "      <td>4.98</td>\n",
              "    </tr>\n",
              "    <tr>\n",
              "      <th>20659640</th>\n",
              "      <td>1683</td>\n",
              "      <td>2</td>\n",
              "      <td>2007</td>\n",
              "      <td>1</td>\n",
              "      <td>1</td>\n",
              "      <td>84.00</td>\n",
              "      <td>0</td>\n",
              "      <td>2027553650310142703</td>\n",
              "      <td>6033</td>\n",
              "      <td>58</td>\n",
              "      <td>30066.000000</td>\n",
              "      <td>5541</td>\n",
              "      <td>True</td>\n",
              "      <td>False</td>\n",
              "      <td>12</td>\n",
              "      <td>53</td>\n",
              "      <td>False</td>\n",
              "      <td>84.00</td>\n",
              "    </tr>\n",
              "    <tr>\n",
              "      <th>19671499</th>\n",
              "      <td>1596</td>\n",
              "      <td>0</td>\n",
              "      <td>2007</td>\n",
              "      <td>1</td>\n",
              "      <td>1</td>\n",
              "      <td>58.54</td>\n",
              "      <td>0</td>\n",
              "      <td>8829920464184665592</td>\n",
              "      <td>3660</td>\n",
              "      <td>124</td>\n",
              "      <td>28056.000000</td>\n",
              "      <td>7538</td>\n",
              "      <td>True</td>\n",
              "      <td>False</td>\n",
              "      <td>6</td>\n",
              "      <td>59</td>\n",
              "      <td>False</td>\n",
              "      <td>58.54</td>\n",
              "    </tr>\n",
              "    <tr>\n",
              "      <th>11025934</th>\n",
              "      <td>913</td>\n",
              "      <td>2</td>\n",
              "      <td>2007</td>\n",
              "      <td>1</td>\n",
              "      <td>1</td>\n",
              "      <td>11.24</td>\n",
              "      <td>0</td>\n",
              "      <td>2027553650310142703</td>\n",
              "      <td>8918</td>\n",
              "      <td>54</td>\n",
              "      <td>32773.000000</td>\n",
              "      <td>5541</td>\n",
              "      <td>True</td>\n",
              "      <td>False</td>\n",
              "      <td>11</td>\n",
              "      <td>56</td>\n",
              "      <td>False</td>\n",
              "      <td>11.24</td>\n",
              "    </tr>\n",
              "    <tr>\n",
              "      <th>7833063</th>\n",
              "      <td>667</td>\n",
              "      <td>0</td>\n",
              "      <td>2007</td>\n",
              "      <td>1</td>\n",
              "      <td>1</td>\n",
              "      <td>3.22</td>\n",
              "      <td>0</td>\n",
              "      <td>-4927381308738947637</td>\n",
              "      <td>4837</td>\n",
              "      <td>74</td>\n",
              "      <td>47546.000000</td>\n",
              "      <td>5812</td>\n",
              "      <td>True</td>\n",
              "      <td>False</td>\n",
              "      <td>21</td>\n",
              "      <td>55</td>\n",
              "      <td>False</td>\n",
              "      <td>3.22</td>\n",
              "    </tr>\n",
              "    <tr>\n",
              "      <th>...</th>\n",
              "      <td>...</td>\n",
              "      <td>...</td>\n",
              "      <td>...</td>\n",
              "      <td>...</td>\n",
              "      <td>...</td>\n",
              "      <td>...</td>\n",
              "      <td>...</td>\n",
              "      <td>...</td>\n",
              "      <td>...</td>\n",
              "      <td>...</td>\n",
              "      <td>...</td>\n",
              "      <td>...</td>\n",
              "      <td>...</td>\n",
              "      <td>...</td>\n",
              "      <td>...</td>\n",
              "      <td>...</td>\n",
              "      <td>...</td>\n",
              "      <td>...</td>\n",
              "    </tr>\n",
              "    <tr>\n",
              "      <th>20514507</th>\n",
              "      <td>1672</td>\n",
              "      <td>0</td>\n",
              "      <td>2020</td>\n",
              "      <td>2</td>\n",
              "      <td>28</td>\n",
              "      <td>-52.00</td>\n",
              "      <td>0</td>\n",
              "      <td>-1288082279022882052</td>\n",
              "      <td>9579</td>\n",
              "      <td>102</td>\n",
              "      <td>4084.000000</td>\n",
              "      <td>5499</td>\n",
              "      <td>True</td>\n",
              "      <td>False</td>\n",
              "      <td>14</td>\n",
              "      <td>22</td>\n",
              "      <td>True</td>\n",
              "      <td>52.00</td>\n",
              "    </tr>\n",
              "    <tr>\n",
              "      <th>19850146</th>\n",
              "      <td>1607</td>\n",
              "      <td>4</td>\n",
              "      <td>2020</td>\n",
              "      <td>2</td>\n",
              "      <td>28</td>\n",
              "      <td>64.82</td>\n",
              "      <td>2</td>\n",
              "      <td>1925305407449316291</td>\n",
              "      <td>2940</td>\n",
              "      <td>180</td>\n",
              "      <td>79928.000000</td>\n",
              "      <td>5300</td>\n",
              "      <td>True</td>\n",
              "      <td>False</td>\n",
              "      <td>16</td>\n",
              "      <td>54</td>\n",
              "      <td>False</td>\n",
              "      <td>64.82</td>\n",
              "    </tr>\n",
              "    <tr>\n",
              "      <th>11485363</th>\n",
              "      <td>956</td>\n",
              "      <td>0</td>\n",
              "      <td>2020</td>\n",
              "      <td>2</td>\n",
              "      <td>28</td>\n",
              "      <td>80.00</td>\n",
              "      <td>0</td>\n",
              "      <td>-4282466774399734331</td>\n",
              "      <td>8736</td>\n",
              "      <td>25</td>\n",
              "      <td>95823.000000</td>\n",
              "      <td>4829</td>\n",
              "      <td>True</td>\n",
              "      <td>False</td>\n",
              "      <td>8</td>\n",
              "      <td>34</td>\n",
              "      <td>False</td>\n",
              "      <td>80.00</td>\n",
              "    </tr>\n",
              "    <tr>\n",
              "      <th>23826947</th>\n",
              "      <td>1948</td>\n",
              "      <td>0</td>\n",
              "      <td>2020</td>\n",
              "      <td>2</td>\n",
              "      <td>28</td>\n",
              "      <td>34.93</td>\n",
              "      <td>1</td>\n",
              "      <td>-6458444334611773637</td>\n",
              "      <td>7242</td>\n",
              "      <td>123</td>\n",
              "      <td>50963.290143</td>\n",
              "      <td>4784</td>\n",
              "      <td>True</td>\n",
              "      <td>True</td>\n",
              "      <td>15</td>\n",
              "      <td>17</td>\n",
              "      <td>False</td>\n",
              "      <td>34.93</td>\n",
              "    </tr>\n",
              "    <tr>\n",
              "      <th>20415441</th>\n",
              "      <td>1664</td>\n",
              "      <td>2</td>\n",
              "      <td>2020</td>\n",
              "      <td>2</td>\n",
              "      <td>28</td>\n",
              "      <td>-92.00</td>\n",
              "      <td>2</td>\n",
              "      <td>2027553650310142703</td>\n",
              "      <td>2327</td>\n",
              "      <td>87</td>\n",
              "      <td>41031.000000</td>\n",
              "      <td>5541</td>\n",
              "      <td>True</td>\n",
              "      <td>False</td>\n",
              "      <td>19</td>\n",
              "      <td>48</td>\n",
              "      <td>True</td>\n",
              "      <td>92.00</td>\n",
              "    </tr>\n",
              "  </tbody>\n",
              "</table>\n",
              "<p>2079742 rows × 18 columns</p>\n",
              "</div>\n",
              "      <button class=\"colab-df-convert\" onclick=\"convertToInteractive('df-cd3bd737-edcd-4377-868f-1edbd6dc7992')\"\n",
              "              title=\"Convert this dataframe to an interactive table.\"\n",
              "              style=\"display:none;\">\n",
              "        \n",
              "  <svg xmlns=\"http://www.w3.org/2000/svg\" height=\"24px\"viewBox=\"0 0 24 24\"\n",
              "       width=\"24px\">\n",
              "    <path d=\"M0 0h24v24H0V0z\" fill=\"none\"/>\n",
              "    <path d=\"M18.56 5.44l.94 2.06.94-2.06 2.06-.94-2.06-.94-.94-2.06-.94 2.06-2.06.94zm-11 1L8.5 8.5l.94-2.06 2.06-.94-2.06-.94L8.5 2.5l-.94 2.06-2.06.94zm10 10l.94 2.06.94-2.06 2.06-.94-2.06-.94-.94-2.06-.94 2.06-2.06.94z\"/><path d=\"M17.41 7.96l-1.37-1.37c-.4-.4-.92-.59-1.43-.59-.52 0-1.04.2-1.43.59L10.3 9.45l-7.72 7.72c-.78.78-.78 2.05 0 2.83L4 21.41c.39.39.9.59 1.41.59.51 0 1.02-.2 1.41-.59l7.78-7.78 2.81-2.81c.8-.78.8-2.07 0-2.86zM5.41 20L4 18.59l7.72-7.72 1.47 1.35L5.41 20z\"/>\n",
              "  </svg>\n",
              "      </button>\n",
              "      \n",
              "  <style>\n",
              "    .colab-df-container {\n",
              "      display:flex;\n",
              "      flex-wrap:wrap;\n",
              "      gap: 12px;\n",
              "    }\n",
              "\n",
              "    .colab-df-convert {\n",
              "      background-color: #E8F0FE;\n",
              "      border: none;\n",
              "      border-radius: 50%;\n",
              "      cursor: pointer;\n",
              "      display: none;\n",
              "      fill: #1967D2;\n",
              "      height: 32px;\n",
              "      padding: 0 0 0 0;\n",
              "      width: 32px;\n",
              "    }\n",
              "\n",
              "    .colab-df-convert:hover {\n",
              "      background-color: #E2EBFA;\n",
              "      box-shadow: 0px 1px 2px rgba(60, 64, 67, 0.3), 0px 1px 3px 1px rgba(60, 64, 67, 0.15);\n",
              "      fill: #174EA6;\n",
              "    }\n",
              "\n",
              "    [theme=dark] .colab-df-convert {\n",
              "      background-color: #3B4455;\n",
              "      fill: #D2E3FC;\n",
              "    }\n",
              "\n",
              "    [theme=dark] .colab-df-convert:hover {\n",
              "      background-color: #434B5C;\n",
              "      box-shadow: 0px 1px 3px 1px rgba(0, 0, 0, 0.15);\n",
              "      filter: drop-shadow(0px 1px 2px rgba(0, 0, 0, 0.3));\n",
              "      fill: #FFFFFF;\n",
              "    }\n",
              "  </style>\n",
              "\n",
              "      <script>\n",
              "        const buttonEl =\n",
              "          document.querySelector('#df-cd3bd737-edcd-4377-868f-1edbd6dc7992 button.colab-df-convert');\n",
              "        buttonEl.style.display =\n",
              "          google.colab.kernel.accessAllowed ? 'block' : 'none';\n",
              "\n",
              "        async function convertToInteractive(key) {\n",
              "          const element = document.querySelector('#df-cd3bd737-edcd-4377-868f-1edbd6dc7992');\n",
              "          const dataTable =\n",
              "            await google.colab.kernel.invokeFunction('convertToInteractive',\n",
              "                                                     [key], {});\n",
              "          if (!dataTable) return;\n",
              "\n",
              "          const docLinkHtml = 'Like what you see? Visit the ' +\n",
              "            '<a target=\"_blank\" href=https://colab.research.google.com/notebooks/data_table.ipynb>data table notebook</a>'\n",
              "            + ' to learn more about interactive tables.';\n",
              "          element.innerHTML = '';\n",
              "          dataTable['output_type'] = 'display_data';\n",
              "          await google.colab.output.renderOutput(dataTable, element);\n",
              "          const docLink = document.createElement('div');\n",
              "          docLink.innerHTML = docLinkHtml;\n",
              "          element.appendChild(docLink);\n",
              "        }\n",
              "      </script>\n",
              "    </div>\n",
              "  </div>\n",
              "  "
            ]
          },
          "metadata": {},
          "execution_count": 36
        }
      ]
    },
    {
      "cell_type": "code",
      "source": [
        "import math\n",
        "f1s = []\n",
        "window_size = 200000\n",
        "step = 10000\n",
        "batch = math.ceil((X_test2.shape[0]-window_size)/step)\n",
        "for i in range(batch):\n",
        "    ux = X_test2[i*step:i*step+window_size]\n",
        "    uy = y_test2[i*step:i*step+window_size]\n",
        "    y_pred=cat.predict(ux)\n",
        "    #ppy = [1 if m=='No' else 0 for m in y_pred]   \n",
        "    f1 = f1_score(uy, y_pred) #precision_recall_fscore_support([1 if m=='No' else 0 for m in uy], ppy,average='binary')\n",
        "    print(f\"p:{f1:.4f} {ux.iloc[-1].Year}\\n{uy.value_counts()}\")\n",
        "    f1s.append(f1)"
      ],
      "metadata": {
        "id": "ACDNKzk1JPRp",
        "outputId": "aa2c3454-3926-42fa-9e37-4d1fa12d3e34",
        "colab": {
          "base_uri": "https://localhost:8080/"
        }
      },
      "execution_count": 37,
      "outputs": [
        {
          "output_type": "stream",
          "name": "stdout",
          "text": [
            "p:0.7813 2008\n",
            "0    195600\n",
            "1      4400\n",
            "Name: Is Fraud?, dtype: int64\n",
            "p:0.7698 2008\n",
            "0    195254\n",
            "1      4746\n",
            "Name: Is Fraud?, dtype: int64\n",
            "p:0.7526 2008\n",
            "0    194931\n",
            "1      5069\n",
            "Name: Is Fraud?, dtype: int64\n",
            "p:0.7404 2008\n",
            "0    194784\n",
            "1      5216\n",
            "Name: Is Fraud?, dtype: int64\n",
            "p:0.7224 2009\n",
            "0    194634\n",
            "1      5366\n",
            "Name: Is Fraud?, dtype: int64\n",
            "p:0.6960 2009\n",
            "0    194495\n",
            "1      5505\n",
            "Name: Is Fraud?, dtype: int64\n",
            "p:0.6807 2009\n",
            "0    194419\n",
            "1      5581\n",
            "Name: Is Fraud?, dtype: int64\n",
            "p:0.6687 2009\n",
            "0    194473\n",
            "1      5527\n",
            "Name: Is Fraud?, dtype: int64\n",
            "p:0.6562 2009\n",
            "0    194707\n",
            "1      5293\n",
            "Name: Is Fraud?, dtype: int64\n",
            "p:0.6386 2009\n",
            "0    194910\n",
            "1      5090\n",
            "Name: Is Fraud?, dtype: int64\n",
            "p:0.6166 2009\n",
            "0    195216\n",
            "1      4784\n",
            "Name: Is Fraud?, dtype: int64\n",
            "p:0.6078 2009\n",
            "0    195405\n",
            "1      4595\n",
            "Name: Is Fraud?, dtype: int64\n",
            "p:0.6190 2009\n",
            "0    195591\n",
            "1      4409\n",
            "Name: Is Fraud?, dtype: int64\n",
            "p:0.6189 2009\n",
            "0    195830\n",
            "1      4170\n",
            "Name: Is Fraud?, dtype: int64\n",
            "p:0.6080 2009\n",
            "0    196037\n",
            "1      3963\n",
            "Name: Is Fraud?, dtype: int64\n",
            "p:0.5939 2009\n",
            "0    196322\n",
            "1      3678\n",
            "Name: Is Fraud?, dtype: int64\n",
            "p:0.5795 2009\n",
            "0    196564\n",
            "1      3436\n",
            "Name: Is Fraud?, dtype: int64\n",
            "p:0.5660 2009\n",
            "0    196799\n",
            "1      3201\n",
            "Name: Is Fraud?, dtype: int64\n",
            "p:0.5397 2010\n",
            "0    197040\n",
            "1      2960\n",
            "Name: Is Fraud?, dtype: int64\n",
            "p:0.5162 2010\n",
            "0    197020\n",
            "1      2980\n",
            "Name: Is Fraud?, dtype: int64\n",
            "p:0.5088 2010\n",
            "0    196981\n",
            "1      3019\n",
            "Name: Is Fraud?, dtype: int64\n",
            "p:0.5198 2010\n",
            "0    196977\n",
            "1      3023\n",
            "Name: Is Fraud?, dtype: int64\n",
            "p:0.5383 2010\n",
            "0    197138\n",
            "1      2862\n",
            "Name: Is Fraud?, dtype: int64\n",
            "p:0.5503 2010\n",
            "0    197160\n",
            "1      2840\n",
            "Name: Is Fraud?, dtype: int64\n",
            "p:0.5864 2010\n",
            "0    197181\n",
            "1      2819\n",
            "Name: Is Fraud?, dtype: int64\n",
            "p:0.6372 2010\n",
            "0    197227\n",
            "1      2773\n",
            "Name: Is Fraud?, dtype: int64\n",
            "p:0.6646 2010\n",
            "0    197125\n",
            "1      2875\n",
            "Name: Is Fraud?, dtype: int64\n",
            "p:0.6825 2010\n",
            "0    196973\n",
            "1      3027\n",
            "Name: Is Fraud?, dtype: int64\n",
            "p:0.6937 2010\n",
            "0    196717\n",
            "1      3283\n",
            "Name: Is Fraud?, dtype: int64\n",
            "p:0.7040 2010\n",
            "0    196610\n",
            "1      3390\n",
            "Name: Is Fraud?, dtype: int64\n",
            "p:0.7152 2010\n",
            "0    196381\n",
            "1      3619\n",
            "Name: Is Fraud?, dtype: int64\n",
            "p:0.7223 2010\n",
            "0    196186\n",
            "1      3814\n",
            "Name: Is Fraud?, dtype: int64\n",
            "p:0.7262 2010\n",
            "0    196060\n",
            "1      3940\n",
            "Name: Is Fraud?, dtype: int64\n",
            "p:0.7237 2011\n",
            "0    195980\n",
            "1      4020\n",
            "Name: Is Fraud?, dtype: int64\n",
            "p:0.7244 2011\n",
            "0    196007\n",
            "1      3993\n",
            "Name: Is Fraud?, dtype: int64\n",
            "p:0.7253 2011\n",
            "0    196047\n",
            "1      3953\n",
            "Name: Is Fraud?, dtype: int64\n",
            "p:0.7272 2011\n",
            "0    196076\n",
            "1      3924\n",
            "Name: Is Fraud?, dtype: int64\n",
            "p:0.7267 2011\n",
            "0    196110\n",
            "1      3890\n",
            "Name: Is Fraud?, dtype: int64\n",
            "p:0.7303 2011\n",
            "0    196174\n",
            "1      3826\n",
            "Name: Is Fraud?, dtype: int64\n",
            "p:0.7509 2011\n",
            "0    196494\n",
            "1      3506\n",
            "Name: Is Fraud?, dtype: int64\n",
            "p:0.7628 2011\n",
            "0    196798\n",
            "1      3202\n",
            "Name: Is Fraud?, dtype: int64\n",
            "p:0.7707 2011\n",
            "0    197163\n",
            "1      2837\n",
            "Name: Is Fraud?, dtype: int64\n",
            "p:0.7690 2011\n",
            "0    197413\n",
            "1      2587\n",
            "Name: Is Fraud?, dtype: int64\n",
            "p:0.7732 2011\n",
            "0    197696\n",
            "1      2304\n",
            "Name: Is Fraud?, dtype: int64\n",
            "p:0.7694 2011\n",
            "0    197934\n",
            "1      2066\n",
            "Name: Is Fraud?, dtype: int64\n",
            "p:0.7629 2011\n",
            "0    198186\n",
            "1      1814\n",
            "Name: Is Fraud?, dtype: int64\n",
            "p:0.7607 2011\n",
            "0    198485\n",
            "1      1515\n",
            "Name: Is Fraud?, dtype: int64\n",
            "p:0.7555 2011\n",
            "0    198717\n",
            "1      1283\n",
            "Name: Is Fraud?, dtype: int64\n",
            "p:0.7346 2011\n",
            "0    199006\n",
            "1       994\n",
            "Name: Is Fraud?, dtype: int64\n",
            "p:0.6797 2012\n",
            "0    199064\n",
            "1       936\n",
            "Name: Is Fraud?, dtype: int64\n",
            "p:0.5826 2012\n",
            "0    199212\n",
            "1       788\n",
            "Name: Is Fraud?, dtype: int64\n",
            "p:0.5167 2012\n",
            "0    199307\n",
            "1       693\n",
            "Name: Is Fraud?, dtype: int64\n",
            "p:0.4503 2012\n",
            "0    199389\n",
            "1       611\n",
            "Name: Is Fraud?, dtype: int64\n",
            "p:0.4620 2012\n",
            "0    199366\n",
            "1       634\n",
            "Name: Is Fraud?, dtype: int64\n",
            "p:0.4916 2012\n",
            "0    199216\n",
            "1       784\n",
            "Name: Is Fraud?, dtype: int64\n",
            "p:0.5206 2012\n",
            "0    199081\n",
            "1       919\n",
            "Name: Is Fraud?, dtype: int64\n",
            "p:0.5422 2012\n",
            "0    198978\n",
            "1      1022\n",
            "Name: Is Fraud?, dtype: int64\n",
            "p:0.5594 2012\n",
            "0    198847\n",
            "1      1153\n",
            "Name: Is Fraud?, dtype: int64\n",
            "p:0.5820 2012\n",
            "0    198711\n",
            "1      1289\n",
            "Name: Is Fraud?, dtype: int64\n",
            "p:0.5864 2012\n",
            "0    198667\n",
            "1      1333\n",
            "Name: Is Fraud?, dtype: int64\n",
            "p:0.5856 2012\n",
            "0    198667\n",
            "1      1333\n",
            "Name: Is Fraud?, dtype: int64\n",
            "p:0.5850 2012\n",
            "0    198667\n",
            "1      1333\n",
            "Name: Is Fraud?, dtype: int64\n",
            "p:0.5813 2012\n",
            "0    198667\n",
            "1      1333\n",
            "Name: Is Fraud?, dtype: int64\n",
            "p:0.5769 2012\n",
            "0    198667\n",
            "1      1333\n",
            "Name: Is Fraud?, dtype: int64\n",
            "p:0.5758 2012\n",
            "0    198667\n",
            "1      1333\n",
            "Name: Is Fraud?, dtype: int64\n",
            "p:0.5761 2013\n",
            "0    198667\n",
            "1      1333\n",
            "Name: Is Fraud?, dtype: int64\n",
            "p:0.5802 2013\n",
            "0    198667\n",
            "1      1333\n",
            "Name: Is Fraud?, dtype: int64\n",
            "p:0.5789 2013\n",
            "0    198619\n",
            "1      1381\n",
            "Name: Is Fraud?, dtype: int64\n",
            "p:0.5799 2013\n",
            "0    198571\n",
            "1      1429\n",
            "Name: Is Fraud?, dtype: int64\n",
            "p:0.6051 2013\n",
            "0    198700\n",
            "1      1300\n",
            "Name: Is Fraud?, dtype: int64\n",
            "p:0.6259 2013\n",
            "0    198838\n",
            "1      1162\n",
            "Name: Is Fraud?, dtype: int64\n",
            "p:0.6136 2013\n",
            "0    198982\n",
            "1      1018\n",
            "Name: Is Fraud?, dtype: int64\n",
            "p:0.6077 2013\n",
            "0    199081\n",
            "1       919\n",
            "Name: Is Fraud?, dtype: int64\n",
            "p:0.6099 2013\n",
            "0    199205\n",
            "1       795\n",
            "Name: Is Fraud?, dtype: int64\n",
            "p:0.6427 2013\n",
            "0    199174\n",
            "1       826\n",
            "Name: Is Fraud?, dtype: int64\n",
            "p:0.6658 2013\n",
            "0    199063\n",
            "1       937\n",
            "Name: Is Fraud?, dtype: int64\n",
            "p:0.6930 2013\n",
            "0    198975\n",
            "1      1025\n",
            "Name: Is Fraud?, dtype: int64\n",
            "p:0.7346 2013\n",
            "0    198762\n",
            "1      1238\n",
            "Name: Is Fraud?, dtype: int64\n",
            "p:0.7501 2013\n",
            "0    198564\n",
            "1      1436\n",
            "Name: Is Fraud?, dtype: int64\n",
            "p:0.7588 2013\n",
            "0    198440\n",
            "1      1560\n",
            "Name: Is Fraud?, dtype: int64\n",
            "p:0.7657 2013\n",
            "0    198228\n",
            "1      1772\n",
            "Name: Is Fraud?, dtype: int64\n",
            "p:0.7691 2014\n",
            "0    197977\n",
            "1      2023\n",
            "Name: Is Fraud?, dtype: int64\n",
            "p:0.7359 2014\n",
            "0    197746\n",
            "1      2254\n",
            "Name: Is Fraud?, dtype: int64\n",
            "p:0.7189 2014\n",
            "0    197509\n",
            "1      2491\n",
            "Name: Is Fraud?, dtype: int64\n",
            "p:0.7114 2014\n",
            "0    197329\n",
            "1      2671\n",
            "Name: Is Fraud?, dtype: int64\n",
            "p:0.7140 2014\n",
            "0    197082\n",
            "1      2918\n",
            "Name: Is Fraud?, dtype: int64\n",
            "p:0.7149 2014\n",
            "0    196930\n",
            "1      3070\n",
            "Name: Is Fraud?, dtype: int64\n",
            "p:0.7177 2014\n",
            "0    196978\n",
            "1      3022\n",
            "Name: Is Fraud?, dtype: int64\n",
            "p:0.7199 2014\n",
            "0    197026\n",
            "1      2974\n",
            "Name: Is Fraud?, dtype: int64\n",
            "p:0.7200 2014\n",
            "0    197026\n",
            "1      2974\n",
            "Name: Is Fraud?, dtype: int64\n",
            "p:0.7194 2014\n",
            "0    197026\n",
            "1      2974\n",
            "Name: Is Fraud?, dtype: int64\n",
            "p:0.7190 2014\n",
            "0    197026\n",
            "1      2974\n",
            "Name: Is Fraud?, dtype: int64\n",
            "p:0.7199 2014\n",
            "0    197026\n",
            "1      2974\n",
            "Name: Is Fraud?, dtype: int64\n",
            "p:0.7193 2014\n",
            "0    197026\n",
            "1      2974\n",
            "Name: Is Fraud?, dtype: int64\n",
            "p:0.7141 2014\n",
            "0    197207\n",
            "1      2793\n",
            "Name: Is Fraud?, dtype: int64\n",
            "p:0.7076 2014\n",
            "0    197453\n",
            "1      2547\n",
            "Name: Is Fraud?, dtype: int64\n",
            "p:0.6941 2014\n",
            "0    197644\n",
            "1      2356\n",
            "Name: Is Fraud?, dtype: int64\n",
            "p:0.6642 2014\n",
            "0    197988\n",
            "1      2012\n",
            "Name: Is Fraud?, dtype: int64\n",
            "p:0.6308 2015\n",
            "0    198322\n",
            "1      1678\n",
            "Name: Is Fraud?, dtype: int64\n",
            "p:0.6045 2015\n",
            "0    198490\n",
            "1      1510\n",
            "Name: Is Fraud?, dtype: int64\n",
            "p:0.5644 2015\n",
            "0    198702\n",
            "1      1298\n",
            "Name: Is Fraud?, dtype: int64\n",
            "p:0.4909 2015\n",
            "0    198953\n",
            "1      1047\n",
            "Name: Is Fraud?, dtype: int64\n",
            "p:0.5159 2015\n",
            "0    199152\n",
            "1       848\n",
            "Name: Is Fraud?, dtype: int64\n",
            "p:0.5547 2015\n",
            "0    199174\n",
            "1       826\n",
            "Name: Is Fraud?, dtype: int64\n",
            "p:0.5887 2015\n",
            "0    199115\n",
            "1       885\n",
            "Name: Is Fraud?, dtype: int64\n",
            "p:0.5676 2015\n",
            "0    199158\n",
            "1       842\n",
            "Name: Is Fraud?, dtype: int64\n",
            "p:0.5734 2015\n",
            "0    199116\n",
            "1       884\n",
            "Name: Is Fraud?, dtype: int64\n",
            "p:0.5936 2015\n",
            "0    198882\n",
            "1      1118\n",
            "Name: Is Fraud?, dtype: int64\n",
            "p:0.6135 2015\n",
            "0    198595\n",
            "1      1405\n",
            "Name: Is Fraud?, dtype: int64\n",
            "p:0.6197 2015\n",
            "0    198355\n",
            "1      1645\n",
            "Name: Is Fraud?, dtype: int64\n",
            "p:0.6093 2015\n",
            "0    198184\n",
            "1      1816\n",
            "Name: Is Fraud?, dtype: int64\n",
            "p:0.6024 2015\n",
            "0    197969\n",
            "1      2031\n",
            "Name: Is Fraud?, dtype: int64\n",
            "p:0.5940 2015\n",
            "0    197729\n",
            "1      2271\n",
            "Name: Is Fraud?, dtype: int64\n",
            "p:0.5796 2015\n",
            "0    197522\n",
            "1      2478\n",
            "Name: Is Fraud?, dtype: int64\n",
            "p:0.5843 2015\n",
            "0    197176\n",
            "1      2824\n",
            "Name: Is Fraud?, dtype: int64\n",
            "p:0.5931 2015\n",
            "0    196721\n",
            "1      3279\n",
            "Name: Is Fraud?, dtype: int64\n",
            "p:0.5803 2016\n",
            "0    196397\n",
            "1      3603\n",
            "Name: Is Fraud?, dtype: int64\n",
            "p:0.5735 2016\n",
            "0    196157\n",
            "1      3843\n",
            "Name: Is Fraud?, dtype: int64\n",
            "p:0.5730 2016\n",
            "0    195933\n",
            "1      4067\n",
            "Name: Is Fraud?, dtype: int64\n",
            "p:0.5758 2016\n",
            "0    195743\n",
            "1      4257\n",
            "Name: Is Fraud?, dtype: int64\n",
            "p:0.5795 2016\n",
            "0    195508\n",
            "1      4492\n",
            "Name: Is Fraud?, dtype: int64\n",
            "p:0.5856 2016\n",
            "0    195252\n",
            "1      4748\n",
            "Name: Is Fraud?, dtype: int64\n",
            "p:0.5901 2016\n",
            "0    195096\n",
            "1      4904\n",
            "Name: Is Fraud?, dtype: int64\n",
            "p:0.5894 2016\n",
            "0    195119\n",
            "1      4881\n",
            "Name: Is Fraud?, dtype: int64\n",
            "p:0.5862 2016\n",
            "0    195189\n",
            "1      4811\n",
            "Name: Is Fraud?, dtype: int64\n",
            "p:0.5860 2016\n",
            "0    195206\n",
            "1      4794\n",
            "Name: Is Fraud?, dtype: int64\n",
            "p:0.5791 2016\n",
            "0    195213\n",
            "1      4787\n",
            "Name: Is Fraud?, dtype: int64\n",
            "p:0.5770 2016\n",
            "0    195221\n",
            "1      4779\n",
            "Name: Is Fraud?, dtype: int64\n",
            "p:0.5689 2016\n",
            "0    195260\n",
            "1      4740\n",
            "Name: Is Fraud?, dtype: int64\n",
            "p:0.5595 2016\n",
            "0    195332\n",
            "1      4668\n",
            "Name: Is Fraud?, dtype: int64\n",
            "p:0.5563 2016\n",
            "0    195318\n",
            "1      4682\n",
            "Name: Is Fraud?, dtype: int64\n",
            "p:0.5512 2016\n",
            "0    195345\n",
            "1      4655\n",
            "Name: Is Fraud?, dtype: int64\n",
            "p:0.5487 2016\n",
            "0    195413\n",
            "1      4587\n",
            "Name: Is Fraud?, dtype: int64\n",
            "p:0.5484 2017\n",
            "0    195618\n",
            "1      4382\n",
            "Name: Is Fraud?, dtype: int64\n",
            "p:0.5415 2017\n",
            "0    195964\n",
            "1      4036\n",
            "Name: Is Fraud?, dtype: int64\n",
            "p:0.5269 2017\n",
            "0    196419\n",
            "1      3581\n",
            "Name: Is Fraud?, dtype: int64\n",
            "p:0.5355 2017\n",
            "0    196743\n",
            "1      3257\n",
            "Name: Is Fraud?, dtype: int64\n",
            "p:0.5366 2017\n",
            "0    196983\n",
            "1      3017\n",
            "Name: Is Fraud?, dtype: int64\n",
            "p:0.5306 2017\n",
            "0    197207\n",
            "1      2793\n",
            "Name: Is Fraud?, dtype: int64\n",
            "p:0.5203 2017\n",
            "0    197397\n",
            "1      2603\n",
            "Name: Is Fraud?, dtype: int64\n",
            "p:0.5063 2017\n",
            "0    197632\n",
            "1      2368\n",
            "Name: Is Fraud?, dtype: int64\n",
            "p:0.4869 2017\n",
            "0    197888\n",
            "1      2112\n",
            "Name: Is Fraud?, dtype: int64\n",
            "p:0.4748 2017\n",
            "0    198076\n",
            "1      1924\n",
            "Name: Is Fraud?, dtype: int64\n",
            "p:0.4589 2017\n",
            "0    198268\n",
            "1      1732\n",
            "Name: Is Fraud?, dtype: int64\n",
            "p:0.4324 2017\n",
            "0    198437\n",
            "1      1563\n",
            "Name: Is Fraud?, dtype: int64\n",
            "p:0.4026 2017\n",
            "0    198624\n",
            "1      1376\n",
            "Name: Is Fraud?, dtype: int64\n",
            "p:0.3726 2017\n",
            "0    198811\n",
            "1      1189\n",
            "Name: Is Fraud?, dtype: int64\n",
            "p:0.3205 2017\n",
            "0    199037\n",
            "1       963\n",
            "Name: Is Fraud?, dtype: int64\n",
            "p:0.2631 2017\n",
            "0    199251\n",
            "1       749\n",
            "Name: Is Fraud?, dtype: int64\n",
            "p:0.2287 2017\n",
            "0    199285\n",
            "1       715\n",
            "Name: Is Fraud?, dtype: int64\n",
            "p:0.1882 2018\n",
            "0    199345\n",
            "1       655\n",
            "Name: Is Fraud?, dtype: int64\n",
            "p:0.1310 2018\n",
            "0    199447\n",
            "1       553\n",
            "Name: Is Fraud?, dtype: int64\n",
            "p:0.0569 2018\n",
            "0    199490\n",
            "1       510\n",
            "Name: Is Fraud?, dtype: int64\n",
            "p:0.0670 2018\n",
            "0    199325\n",
            "1       675\n",
            "Name: Is Fraud?, dtype: int64\n",
            "p:0.0785 2018\n",
            "0    199188\n",
            "1       812\n",
            "Name: Is Fraud?, dtype: int64\n",
            "p:0.0842 2018\n",
            "0    198976\n",
            "1      1024\n",
            "Name: Is Fraud?, dtype: int64\n",
            "p:0.0926 2018\n",
            "0    198839\n",
            "1      1161\n",
            "Name: Is Fraud?, dtype: int64\n",
            "p:0.1046 2018\n",
            "0    198730\n",
            "1      1270\n",
            "Name: Is Fraud?, dtype: int64\n",
            "p:0.1117 2018\n",
            "0    198640\n",
            "1      1360\n",
            "Name: Is Fraud?, dtype: int64\n",
            "p:0.1193 2018\n",
            "0    198505\n",
            "1      1495\n",
            "Name: Is Fraud?, dtype: int64\n",
            "p:0.1252 2018\n",
            "0    198404\n",
            "1      1596\n",
            "Name: Is Fraud?, dtype: int64\n",
            "p:0.1344 2018\n",
            "0    198270\n",
            "1      1730\n",
            "Name: Is Fraud?, dtype: int64\n",
            "p:0.1401 2018\n",
            "0    198081\n",
            "1      1919\n",
            "Name: Is Fraud?, dtype: int64\n",
            "p:0.1451 2018\n",
            "0    197912\n",
            "1      2088\n",
            "Name: Is Fraud?, dtype: int64\n",
            "p:0.1487 2018\n",
            "0    197815\n",
            "1      2185\n",
            "Name: Is Fraud?, dtype: int64\n",
            "p:0.1620 2018\n",
            "0    197619\n",
            "1      2381\n",
            "Name: Is Fraud?, dtype: int64\n",
            "p:0.1848 2018\n",
            "0    197414\n",
            "1      2586\n",
            "Name: Is Fraud?, dtype: int64\n",
            "p:0.1912 2018\n",
            "0    197268\n",
            "1      2732\n",
            "Name: Is Fraud?, dtype: int64\n",
            "p:0.1940 2019\n",
            "0    197173\n",
            "1      2827\n",
            "Name: Is Fraud?, dtype: int64\n",
            "p:0.1913 2019\n",
            "0    197170\n",
            "1      2830\n",
            "Name: Is Fraud?, dtype: int64\n",
            "p:0.1879 2019\n",
            "0    197177\n",
            "1      2823\n",
            "Name: Is Fraud?, dtype: int64\n",
            "p:0.1919 2019\n",
            "0    197119\n",
            "1      2881\n",
            "Name: Is Fraud?, dtype: int64\n",
            "p:0.1963 2019\n",
            "0    197097\n",
            "1      2903\n",
            "Name: Is Fraud?, dtype: int64\n",
            "p:0.1948 2019\n",
            "0    197108\n",
            "1      2892\n",
            "Name: Is Fraud?, dtype: int64\n",
            "p:0.1967 2019\n",
            "0    197071\n",
            "1      2929\n",
            "Name: Is Fraud?, dtype: int64\n",
            "p:0.1999 2019\n",
            "0    197136\n",
            "1      2864\n",
            "Name: Is Fraud?, dtype: int64\n",
            "p:0.2005 2019\n",
            "0    197125\n",
            "1      2875\n",
            "Name: Is Fraud?, dtype: int64\n",
            "p:0.1989 2019\n",
            "0    197125\n",
            "1      2875\n",
            "Name: Is Fraud?, dtype: int64\n",
            "p:0.1977 2019\n",
            "0    197036\n",
            "1      2964\n",
            "Name: Is Fraud?, dtype: int64\n",
            "p:0.1977 2019\n",
            "0    197047\n",
            "1      2953\n",
            "Name: Is Fraud?, dtype: int64\n",
            "p:0.1926 2019\n",
            "0    197059\n",
            "1      2941\n",
            "Name: Is Fraud?, dtype: int64\n",
            "p:0.1897 2019\n",
            "0    196985\n",
            "1      3015\n",
            "Name: Is Fraud?, dtype: int64\n",
            "p:0.1838 2019\n",
            "0    197086\n",
            "1      2914\n",
            "Name: Is Fraud?, dtype: int64\n",
            "p:0.1771 2019\n",
            "0    197255\n",
            "1      2745\n",
            "Name: Is Fraud?, dtype: int64\n",
            "p:0.1714 2019\n",
            "0    197352\n",
            "1      2648\n",
            "Name: Is Fraud?, dtype: int64\n",
            "p:0.1612 2020\n",
            "0    197548\n",
            "1      2452\n",
            "Name: Is Fraud?, dtype: int64\n",
            "p:0.1407 2020\n",
            "0    197753\n",
            "1      2247\n",
            "Name: Is Fraud?, dtype: int64\n",
            "p:0.1385 2020\n",
            "0    197899\n",
            "1      2101\n",
            "Name: Is Fraud?, dtype: int64\n"
          ]
        }
      ]
    },
    {
      "cell_type": "code",
      "source": [
        "plt.figure(figsize=(20,5))\n",
        "plt.plot(f1s)"
      ],
      "metadata": {
        "id": "UkJ-k41yJ4l1",
        "outputId": "3469c509-6946-4c4b-ab72-b44b982e269d",
        "colab": {
          "base_uri": "https://localhost:8080/",
          "height": 338
        }
      },
      "execution_count": 38,
      "outputs": [
        {
          "output_type": "execute_result",
          "data": {
            "text/plain": [
              "[<matplotlib.lines.Line2D at 0x7f4cdf2b8e10>]"
            ]
          },
          "metadata": {},
          "execution_count": 38
        },
        {
          "output_type": "display_data",
          "data": {
            "text/plain": [
              "<Figure size 1440x360 with 1 Axes>"
            ],
            "image/png": "[encoded data removed]"
          },
          "metadata": {
            "needs_background": "light"
          }
        }
      ]
    }
  ]
}