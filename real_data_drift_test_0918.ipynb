{
  "nbformat": 4,
  "nbformat_minor": 0,
  "metadata": {
    "colab": {
      "name": "Untitled8.ipynb",
      "provenance": [],
      "machine_shape": "hm",
      "authorship_tag": "ABX9TyNes3NYT2ZmjTaEfaTHZuPi",
      "include_colab_link": true
    },
    "kernelspec": {
      "name": "python3",
      "display_name": "Python 3"
    },
    "language_info": {
      "name": "python"
    },
    "accelerator": "GPU"
  },
  "cells": [
    {
      "cell_type": "markdown",
      "metadata": {
        "id": "view-in-github",
        "colab_type": "text"
      },
      "source": [
        "<a href=\"https://colab.research.google.com/github/dolmani38/drift/blob/main/real_data_drift_test_0918.ipynb\" target=\"_parent\"><img src=\"https://colab.research.google.com/assets/colab-badge.svg\" alt=\"Open In Colab\"/></a>"
      ]
    },
    {
      "cell_type": "markdown",
      "metadata": {
        "id": "rAsqoHFlE7SP"
      },
      "source": [
        "#Default Prediction - Neural Network"
      ]
    },
    {
      "cell_type": "markdown",
      "metadata": {
        "id": "OGKsleJoE9oJ"
      },
      "source": [
        "https://www.kaggle.com/errearanhas/default-prediction-neural-network-99-acc\n",
        "\n",
        "##Introduction\n",
        "\n",
        "Using historical data on loans from Lendig Club - including information on whether or not the borrower defaulted (charge-off) - the main objective of this notebook will be to predict if a potential borrower is likely to pay back the loan.\n",
        "\n",
        "After explore and pre-process data, we are going to train a Neural Network binary classification model in order to achive this objective. Finally, we evaluate model performance and simulate its operation with a new customer prediction.\n",
        "\n",
        "Notebook sections:\n",
        "\n",
        "1. Import data\n",
        "2. Exploratory Data Analysis\n",
        "3. Pre-processing\n",
        "4. Define and train Model\n",
        "5. Evaluate Model\n",
        "\n",
        "p.s. work inspired by the excellent Tf2 and Keras DL Bootcamp"
      ]
    },
    {
      "cell_type": "code",
      "metadata": {
        "colab": {
          "base_uri": "https://localhost:8080/"
        },
        "id": "0soOMX5eGmDp",
        "outputId": "9cd674e6-a8d2-4975-8d7d-fd49ac074af3"
      },
      "source": [
        "if True:\n",
        "    from google.colab import drive\n",
        "    drive.mount('/content/drive')"
      ],
      "execution_count": 1,
      "outputs": [
        {
          "output_type": "stream",
          "name": "stdout",
          "text": [
            "Mounted at /content/drive\n"
          ]
        }
      ]
    },
    {
      "cell_type": "code",
      "metadata": {
        "colab": {
          "base_uri": "https://localhost:8080/"
        },
        "id": "pzQvEG1RoyFd",
        "outputId": "b60dfe5a-38fd-4bee-9b40-b6dc14130050"
      },
      "source": [
        "\n",
        "!pip3 install shap\n",
        "!pip3 install alibi-detect\n",
        "!pip3 install lime"
      ],
      "execution_count": 2,
      "outputs": [
        {
          "output_type": "stream",
          "name": "stdout",
          "text": [
            "Collecting shap\n",
            "  Downloading shap-0.39.0.tar.gz (356 kB)\n",
            "\u001b[?25l\r\u001b[K     |█                               | 10 kB 30.1 MB/s eta 0:00:01\r\u001b[K     |█▉                              | 20 kB 26.7 MB/s eta 0:00:01\r\u001b[K     |██▊                             | 30 kB 18.6 MB/s eta 0:00:01\r\u001b[K     |███▊                            | 40 kB 16.0 MB/s eta 0:00:01\r\u001b[K     |████▋                           | 51 kB 7.5 MB/s eta 0:00:01\r\u001b[K     |█████▌                          | 61 kB 8.8 MB/s eta 0:00:01\r\u001b[K     |██████▍                         | 71 kB 8.3 MB/s eta 0:00:01\r\u001b[K     |███████▍                        | 81 kB 9.3 MB/s eta 0:00:01\r\u001b[K     |████████▎                       | 92 kB 9.6 MB/s eta 0:00:01\r\u001b[K     |█████████▏                      | 102 kB 7.4 MB/s eta 0:00:01\r\u001b[K     |██████████▏                     | 112 kB 7.4 MB/s eta 0:00:01\r\u001b[K     |███████████                     | 122 kB 7.4 MB/s eta 0:00:01\r\u001b[K     |████████████                    | 133 kB 7.4 MB/s eta 0:00:01\r\u001b[K     |████████████▉                   | 143 kB 7.4 MB/s eta 0:00:01\r\u001b[K     |█████████████▉                  | 153 kB 7.4 MB/s eta 0:00:01\r\u001b[K     |██████████████▊                 | 163 kB 7.4 MB/s eta 0:00:01\r\u001b[K     |███████████████▋                | 174 kB 7.4 MB/s eta 0:00:01\r\u001b[K     |████████████████▋               | 184 kB 7.4 MB/s eta 0:00:01\r\u001b[K     |█████████████████▌              | 194 kB 7.4 MB/s eta 0:00:01\r\u001b[K     |██████████████████▍             | 204 kB 7.4 MB/s eta 0:00:01\r\u001b[K     |███████████████████▎            | 215 kB 7.4 MB/s eta 0:00:01\r\u001b[K     |████████████████████▎           | 225 kB 7.4 MB/s eta 0:00:01\r\u001b[K     |█████████████████████▏          | 235 kB 7.4 MB/s eta 0:00:01\r\u001b[K     |██████████████████████          | 245 kB 7.4 MB/s eta 0:00:01\r\u001b[K     |███████████████████████         | 256 kB 7.4 MB/s eta 0:00:01\r\u001b[K     |████████████████████████        | 266 kB 7.4 MB/s eta 0:00:01\r\u001b[K     |████████████████████████▉       | 276 kB 7.4 MB/s eta 0:00:01\r\u001b[K     |█████████████████████████▊      | 286 kB 7.4 MB/s eta 0:00:01\r\u001b[K     |██████████████████████████▊     | 296 kB 7.4 MB/s eta 0:00:01\r\u001b[K     |███████████████████████████▋    | 307 kB 7.4 MB/s eta 0:00:01\r\u001b[K     |████████████████████████████▌   | 317 kB 7.4 MB/s eta 0:00:01\r\u001b[K     |█████████████████████████████▍  | 327 kB 7.4 MB/s eta 0:00:01\r\u001b[K     |██████████████████████████████▍ | 337 kB 7.4 MB/s eta 0:00:01\r\u001b[K     |███████████████████████████████▎| 348 kB 7.4 MB/s eta 0:00:01\r\u001b[K     |████████████████████████████████| 356 kB 7.4 MB/s \n",
            "\u001b[?25hRequirement already satisfied: numpy in /usr/local/lib/python3.7/dist-packages (from shap) (1.19.5)\n",
            "Requirement already satisfied: scipy in /usr/local/lib/python3.7/dist-packages (from shap) (1.4.1)\n",
            "Requirement already satisfied: scikit-learn in /usr/local/lib/python3.7/dist-packages (from shap) (0.22.2.post1)\n",
            "Requirement already satisfied: pandas in /usr/local/lib/python3.7/dist-packages (from shap) (1.1.5)\n",
            "Requirement already satisfied: tqdm>4.25.0 in /usr/local/lib/python3.7/dist-packages (from shap) (4.62.2)\n",
            "Collecting slicer==0.0.7\n",
            "  Downloading slicer-0.0.7-py3-none-any.whl (14 kB)\n",
            "Requirement already satisfied: numba in /usr/local/lib/python3.7/dist-packages (from shap) (0.51.2)\n",
            "Requirement already satisfied: cloudpickle in /usr/local/lib/python3.7/dist-packages (from shap) (1.3.0)\n",
            "Requirement already satisfied: llvmlite<0.35,>=0.34.0.dev0 in /usr/local/lib/python3.7/dist-packages (from numba->shap) (0.34.0)\n",
            "Requirement already satisfied: setuptools in /usr/local/lib/python3.7/dist-packages (from numba->shap) (57.4.0)\n",
            "Requirement already satisfied: pytz>=2017.2 in /usr/local/lib/python3.7/dist-packages (from pandas->shap) (2018.9)\n",
            "Requirement already satisfied: python-dateutil>=2.7.3 in /usr/local/lib/python3.7/dist-packages (from pandas->shap) (2.8.2)\n",
            "Requirement already satisfied: six>=1.5 in /usr/local/lib/python3.7/dist-packages (from python-dateutil>=2.7.3->pandas->shap) (1.15.0)\n",
            "Requirement already satisfied: joblib>=0.11 in /usr/local/lib/python3.7/dist-packages (from scikit-learn->shap) (1.0.1)\n",
            "Building wheels for collected packages: shap\n",
            "  Building wheel for shap (setup.py) ... \u001b[?25l\u001b[?25hdone\n",
            "  Created wheel for shap: filename=shap-0.39.0-cp37-cp37m-linux_x86_64.whl size=491646 sha256=55ded2e01582d76c60016144fddbccaafeafd6a691c976b2d045fa762f32abe3\n",
            "  Stored in directory: /root/.cache/pip/wheels/ca/25/8f/6ae5df62c32651cd719e972e738a8aaa4a87414c4d2b14c9c0\n",
            "Successfully built shap\n",
            "Installing collected packages: slicer, shap\n",
            "Successfully installed shap-0.39.0 slicer-0.0.7\n",
            "Collecting alibi-detect\n",
            "  Downloading alibi_detect-0.7.2-py3-none-any.whl (207 kB)\n",
            "\u001b[K     |████████████████████████████████| 207 kB 7.3 MB/s \n",
            "\u001b[?25hRequirement already satisfied: opencv-python<5.0.0,>=3.2.0 in /usr/local/lib/python3.7/dist-packages (from alibi-detect) (4.1.2.30)\n",
            "Requirement already satisfied: scikit-learn<0.25.0,>=0.20.2 in /usr/local/lib/python3.7/dist-packages (from alibi-detect) (0.22.2.post1)\n",
            "Requirement already satisfied: numpy<2.0.0,>=1.16.2 in /usr/local/lib/python3.7/dist-packages (from alibi-detect) (1.19.5)\n",
            "Collecting tensorflow<2.6.0,>=2.0.0\n",
            "  Downloading tensorflow-2.5.1-cp37-cp37m-manylinux2010_x86_64.whl (454.4 MB)\n",
            "\u001b[K     |████████████████████████████████| 454.4 MB 9.2 kB/s \n",
            "\u001b[?25hRequirement already satisfied: pandas<2.0.0,>=0.23.3 in /usr/local/lib/python3.7/dist-packages (from alibi-detect) (1.1.5)\n",
            "Requirement already satisfied: scikit-image!=0.17.1,<0.19,>=0.14.2 in /usr/local/lib/python3.7/dist-packages (from alibi-detect) (0.16.2)\n",
            "Requirement already satisfied: matplotlib<4.0.0,>=3.0.0 in /usr/local/lib/python3.7/dist-packages (from alibi-detect) (3.2.2)\n",
            "Collecting transformers<5.0.0,>=4.0.0\n",
            "  Downloading transformers-4.10.2-py3-none-any.whl (2.8 MB)\n",
            "\u001b[K     |████████████████████████████████| 2.8 MB 61.1 MB/s \n",
            "\u001b[?25hRequirement already satisfied: tqdm<5.0.0,>=4.28.1 in /usr/local/lib/python3.7/dist-packages (from alibi-detect) (4.62.2)\n",
            "Requirement already satisfied: dill<0.4.0,>=0.3.0 in /usr/local/lib/python3.7/dist-packages (from alibi-detect) (0.3.4)\n",
            "Requirement already satisfied: scipy<2.0.0,>=1.3.0 in /usr/local/lib/python3.7/dist-packages (from alibi-detect) (1.4.1)\n",
            "Collecting tensorflow-probability<0.13.0,>=0.8.0\n",
            "  Downloading tensorflow_probability-0.12.2-py2.py3-none-any.whl (4.8 MB)\n",
            "\u001b[K     |████████████████████████████████| 4.8 MB 53.0 MB/s \n",
            "\u001b[?25hRequirement already satisfied: Pillow<9.0.0,>=5.4.1 in /usr/local/lib/python3.7/dist-packages (from alibi-detect) (7.1.2)\n",
            "Requirement already satisfied: python-dateutil>=2.1 in /usr/local/lib/python3.7/dist-packages (from matplotlib<4.0.0,>=3.0.0->alibi-detect) (2.8.2)\n",
            "Requirement already satisfied: kiwisolver>=1.0.1 in /usr/local/lib/python3.7/dist-packages (from matplotlib<4.0.0,>=3.0.0->alibi-detect) (1.3.2)\n",
            "Requirement already satisfied: cycler>=0.10 in /usr/local/lib/python3.7/dist-packages (from matplotlib<4.0.0,>=3.0.0->alibi-detect) (0.10.0)\n",
            "Requirement already satisfied: pyparsing!=2.0.4,!=2.1.2,!=2.1.6,>=2.0.1 in /usr/local/lib/python3.7/dist-packages (from matplotlib<4.0.0,>=3.0.0->alibi-detect) (2.4.7)\n",
            "Requirement already satisfied: six in /usr/local/lib/python3.7/dist-packages (from cycler>=0.10->matplotlib<4.0.0,>=3.0.0->alibi-detect) (1.15.0)\n",
            "Requirement already satisfied: pytz>=2017.2 in /usr/local/lib/python3.7/dist-packages (from pandas<2.0.0,>=0.23.3->alibi-detect) (2018.9)\n",
            "Requirement already satisfied: PyWavelets>=0.4.0 in /usr/local/lib/python3.7/dist-packages (from scikit-image!=0.17.1,<0.19,>=0.14.2->alibi-detect) (1.1.1)\n",
            "Requirement already satisfied: imageio>=2.3.0 in /usr/local/lib/python3.7/dist-packages (from scikit-image!=0.17.1,<0.19,>=0.14.2->alibi-detect) (2.4.1)\n",
            "Requirement already satisfied: networkx>=2.0 in /usr/local/lib/python3.7/dist-packages (from scikit-image!=0.17.1,<0.19,>=0.14.2->alibi-detect) (2.6.3)\n",
            "Requirement already satisfied: joblib>=0.11 in /usr/local/lib/python3.7/dist-packages (from scikit-learn<0.25.0,>=0.20.2->alibi-detect) (1.0.1)\n",
            "Requirement already satisfied: astunparse~=1.6.3 in /usr/local/lib/python3.7/dist-packages (from tensorflow<2.6.0,>=2.0.0->alibi-detect) (1.6.3)\n",
            "Requirement already satisfied: h5py~=3.1.0 in /usr/local/lib/python3.7/dist-packages (from tensorflow<2.6.0,>=2.0.0->alibi-detect) (3.1.0)\n",
            "Requirement already satisfied: wrapt~=1.12.1 in /usr/local/lib/python3.7/dist-packages (from tensorflow<2.6.0,>=2.0.0->alibi-detect) (1.12.1)\n",
            "Requirement already satisfied: google-pasta~=0.2 in /usr/local/lib/python3.7/dist-packages (from tensorflow<2.6.0,>=2.0.0->alibi-detect) (0.2.0)\n",
            "Requirement already satisfied: opt-einsum~=3.3.0 in /usr/local/lib/python3.7/dist-packages (from tensorflow<2.6.0,>=2.0.0->alibi-detect) (3.3.0)\n",
            "Collecting grpcio~=1.34.0\n",
            "  Downloading grpcio-1.34.1-cp37-cp37m-manylinux2014_x86_64.whl (4.0 MB)\n",
            "\u001b[K     |████████████████████████████████| 4.0 MB 45.6 MB/s \n",
            "\u001b[?25hRequirement already satisfied: tensorboard~=2.5 in /usr/local/lib/python3.7/dist-packages (from tensorflow<2.6.0,>=2.0.0->alibi-detect) (2.6.0)\n",
            "Requirement already satisfied: gast==0.4.0 in /usr/local/lib/python3.7/dist-packages (from tensorflow<2.6.0,>=2.0.0->alibi-detect) (0.4.0)\n",
            "Requirement already satisfied: protobuf>=3.9.2 in /usr/local/lib/python3.7/dist-packages (from tensorflow<2.6.0,>=2.0.0->alibi-detect) (3.17.3)\n",
            "Requirement already satisfied: absl-py~=0.10 in /usr/local/lib/python3.7/dist-packages (from tensorflow<2.6.0,>=2.0.0->alibi-detect) (0.12.0)\n",
            "Requirement already satisfied: flatbuffers~=1.12.0 in /usr/local/lib/python3.7/dist-packages (from tensorflow<2.6.0,>=2.0.0->alibi-detect) (1.12)\n",
            "Requirement already satisfied: keras-preprocessing~=1.1.2 in /usr/local/lib/python3.7/dist-packages (from tensorflow<2.6.0,>=2.0.0->alibi-detect) (1.1.2)\n",
            "Collecting tensorflow-estimator<2.6.0,>=2.5.0\n",
            "  Downloading tensorflow_estimator-2.5.0-py2.py3-none-any.whl (462 kB)\n",
            "\u001b[K     |████████████████████████████████| 462 kB 78.0 MB/s \n",
            "\u001b[?25hRequirement already satisfied: typing-extensions~=3.7.4 in /usr/local/lib/python3.7/dist-packages (from tensorflow<2.6.0,>=2.0.0->alibi-detect) (3.7.4.3)\n",
            "Requirement already satisfied: termcolor~=1.1.0 in /usr/local/lib/python3.7/dist-packages (from tensorflow<2.6.0,>=2.0.0->alibi-detect) (1.1.0)\n",
            "Collecting keras-nightly~=2.5.0.dev\n",
            "  Downloading keras_nightly-2.5.0.dev2021032900-py2.py3-none-any.whl (1.2 MB)\n",
            "\u001b[K     |████████████████████████████████| 1.2 MB 42.5 MB/s \n",
            "\u001b[?25hRequirement already satisfied: wheel~=0.35 in /usr/local/lib/python3.7/dist-packages (from tensorflow<2.6.0,>=2.0.0->alibi-detect) (0.37.0)\n",
            "Requirement already satisfied: cached-property in /usr/local/lib/python3.7/dist-packages (from h5py~=3.1.0->tensorflow<2.6.0,>=2.0.0->alibi-detect) (1.5.2)\n",
            "Requirement already satisfied: requests<3,>=2.21.0 in /usr/local/lib/python3.7/dist-packages (from tensorboard~=2.5->tensorflow<2.6.0,>=2.0.0->alibi-detect) (2.23.0)\n",
            "Requirement already satisfied: google-auth-oauthlib<0.5,>=0.4.1 in /usr/local/lib/python3.7/dist-packages (from tensorboard~=2.5->tensorflow<2.6.0,>=2.0.0->alibi-detect) (0.4.6)\n",
            "Requirement already satisfied: markdown>=2.6.8 in /usr/local/lib/python3.7/dist-packages (from tensorboard~=2.5->tensorflow<2.6.0,>=2.0.0->alibi-detect) (3.3.4)\n",
            "Requirement already satisfied: tensorboard-data-server<0.7.0,>=0.6.0 in /usr/local/lib/python3.7/dist-packages (from tensorboard~=2.5->tensorflow<2.6.0,>=2.0.0->alibi-detect) (0.6.1)\n",
            "Requirement already satisfied: tensorboard-plugin-wit>=1.6.0 in /usr/local/lib/python3.7/dist-packages (from tensorboard~=2.5->tensorflow<2.6.0,>=2.0.0->alibi-detect) (1.8.0)\n",
            "Requirement already satisfied: google-auth<2,>=1.6.3 in /usr/local/lib/python3.7/dist-packages (from tensorboard~=2.5->tensorflow<2.6.0,>=2.0.0->alibi-detect) (1.35.0)\n",
            "Requirement already satisfied: werkzeug>=0.11.15 in /usr/local/lib/python3.7/dist-packages (from tensorboard~=2.5->tensorflow<2.6.0,>=2.0.0->alibi-detect) (1.0.1)\n",
            "Requirement already satisfied: setuptools>=41.0.0 in /usr/local/lib/python3.7/dist-packages (from tensorboard~=2.5->tensorflow<2.6.0,>=2.0.0->alibi-detect) (57.4.0)\n",
            "Requirement already satisfied: cachetools<5.0,>=2.0.0 in /usr/local/lib/python3.7/dist-packages (from google-auth<2,>=1.6.3->tensorboard~=2.5->tensorflow<2.6.0,>=2.0.0->alibi-detect) (4.2.2)\n",
            "Requirement already satisfied: rsa<5,>=3.1.4 in /usr/local/lib/python3.7/dist-packages (from google-auth<2,>=1.6.3->tensorboard~=2.5->tensorflow<2.6.0,>=2.0.0->alibi-detect) (4.7.2)\n",
            "Requirement already satisfied: pyasn1-modules>=0.2.1 in /usr/local/lib/python3.7/dist-packages (from google-auth<2,>=1.6.3->tensorboard~=2.5->tensorflow<2.6.0,>=2.0.0->alibi-detect) (0.2.8)\n",
            "Requirement already satisfied: requests-oauthlib>=0.7.0 in /usr/local/lib/python3.7/dist-packages (from google-auth-oauthlib<0.5,>=0.4.1->tensorboard~=2.5->tensorflow<2.6.0,>=2.0.0->alibi-detect) (1.3.0)\n",
            "Requirement already satisfied: importlib-metadata in /usr/local/lib/python3.7/dist-packages (from markdown>=2.6.8->tensorboard~=2.5->tensorflow<2.6.0,>=2.0.0->alibi-detect) (4.8.1)\n",
            "Requirement already satisfied: pyasn1<0.5.0,>=0.4.6 in /usr/local/lib/python3.7/dist-packages (from pyasn1-modules>=0.2.1->google-auth<2,>=1.6.3->tensorboard~=2.5->tensorflow<2.6.0,>=2.0.0->alibi-detect) (0.4.8)\n",
            "Requirement already satisfied: certifi>=2017.4.17 in /usr/local/lib/python3.7/dist-packages (from requests<3,>=2.21.0->tensorboard~=2.5->tensorflow<2.6.0,>=2.0.0->alibi-detect) (2021.5.30)\n",
            "Requirement already satisfied: urllib3!=1.25.0,!=1.25.1,<1.26,>=1.21.1 in /usr/local/lib/python3.7/dist-packages (from requests<3,>=2.21.0->tensorboard~=2.5->tensorflow<2.6.0,>=2.0.0->alibi-detect) (1.24.3)\n",
            "Requirement already satisfied: chardet<4,>=3.0.2 in /usr/local/lib/python3.7/dist-packages (from requests<3,>=2.21.0->tensorboard~=2.5->tensorflow<2.6.0,>=2.0.0->alibi-detect) (3.0.4)\n",
            "Requirement already satisfied: idna<3,>=2.5 in /usr/local/lib/python3.7/dist-packages (from requests<3,>=2.21.0->tensorboard~=2.5->tensorflow<2.6.0,>=2.0.0->alibi-detect) (2.10)\n",
            "Requirement already satisfied: oauthlib>=3.0.0 in /usr/local/lib/python3.7/dist-packages (from requests-oauthlib>=0.7.0->google-auth-oauthlib<0.5,>=0.4.1->tensorboard~=2.5->tensorflow<2.6.0,>=2.0.0->alibi-detect) (3.1.1)\n",
            "Requirement already satisfied: decorator in /usr/local/lib/python3.7/dist-packages (from tensorflow-probability<0.13.0,>=0.8.0->alibi-detect) (4.4.2)\n",
            "Requirement already satisfied: dm-tree in /usr/local/lib/python3.7/dist-packages (from tensorflow-probability<0.13.0,>=0.8.0->alibi-detect) (0.1.6)\n",
            "Requirement already satisfied: cloudpickle>=1.3 in /usr/local/lib/python3.7/dist-packages (from tensorflow-probability<0.13.0,>=0.8.0->alibi-detect) (1.3.0)\n",
            "Requirement already satisfied: filelock in /usr/local/lib/python3.7/dist-packages (from transformers<5.0.0,>=4.0.0->alibi-detect) (3.0.12)\n",
            "Collecting huggingface-hub>=0.0.12\n",
            "  Downloading huggingface_hub-0.0.17-py3-none-any.whl (52 kB)\n",
            "\u001b[K     |████████████████████████████████| 52 kB 2.0 MB/s \n",
            "\u001b[?25hRequirement already satisfied: packaging in /usr/local/lib/python3.7/dist-packages (from transformers<5.0.0,>=4.0.0->alibi-detect) (21.0)\n",
            "Requirement already satisfied: regex!=2019.12.17 in /usr/local/lib/python3.7/dist-packages (from transformers<5.0.0,>=4.0.0->alibi-detect) (2019.12.20)\n",
            "Collecting sacremoses\n",
            "  Downloading sacremoses-0.0.45-py3-none-any.whl (895 kB)\n",
            "\u001b[K     |████████████████████████████████| 895 kB 61.0 MB/s \n",
            "\u001b[?25hCollecting pyyaml>=5.1\n",
            "  Downloading PyYAML-5.4.1-cp37-cp37m-manylinux1_x86_64.whl (636 kB)\n",
            "\u001b[K     |████████████████████████████████| 636 kB 41.5 MB/s \n",
            "\u001b[?25hCollecting tokenizers<0.11,>=0.10.1\n",
            "  Downloading tokenizers-0.10.3-cp37-cp37m-manylinux_2_5_x86_64.manylinux1_x86_64.manylinux_2_12_x86_64.manylinux2010_x86_64.whl (3.3 MB)\n",
            "\u001b[K     |████████████████████████████████| 3.3 MB 45.6 MB/s \n",
            "\u001b[?25hRequirement already satisfied: zipp>=0.5 in /usr/local/lib/python3.7/dist-packages (from importlib-metadata->markdown>=2.6.8->tensorboard~=2.5->tensorflow<2.6.0,>=2.0.0->alibi-detect) (3.5.0)\n",
            "Requirement already satisfied: click in /usr/local/lib/python3.7/dist-packages (from sacremoses->transformers<5.0.0,>=4.0.0->alibi-detect) (7.1.2)\n",
            "Installing collected packages: grpcio, tokenizers, tensorflow-estimator, sacremoses, pyyaml, keras-nightly, huggingface-hub, transformers, tensorflow-probability, tensorflow, alibi-detect\n",
            "  Attempting uninstall: grpcio\n",
            "    Found existing installation: grpcio 1.40.0\n",
            "    Uninstalling grpcio-1.40.0:\n",
            "      Successfully uninstalled grpcio-1.40.0\n",
            "  Attempting uninstall: tensorflow-estimator\n",
            "    Found existing installation: tensorflow-estimator 2.6.0\n",
            "    Uninstalling tensorflow-estimator-2.6.0:\n",
            "      Successfully uninstalled tensorflow-estimator-2.6.0\n",
            "  Attempting uninstall: pyyaml\n",
            "    Found existing installation: PyYAML 3.13\n",
            "    Uninstalling PyYAML-3.13:\n",
            "      Successfully uninstalled PyYAML-3.13\n",
            "  Attempting uninstall: tensorflow-probability\n",
            "    Found existing installation: tensorflow-probability 0.13.0\n",
            "    Uninstalling tensorflow-probability-0.13.0:\n",
            "      Successfully uninstalled tensorflow-probability-0.13.0\n",
            "  Attempting uninstall: tensorflow\n",
            "    Found existing installation: tensorflow 2.6.0\n",
            "    Uninstalling tensorflow-2.6.0:\n",
            "      Successfully uninstalled tensorflow-2.6.0\n",
            "Successfully installed alibi-detect-0.7.2 grpcio-1.34.1 huggingface-hub-0.0.17 keras-nightly-2.5.0.dev2021032900 pyyaml-5.4.1 sacremoses-0.0.45 tensorflow-2.5.1 tensorflow-estimator-2.5.0 tensorflow-probability-0.12.2 tokenizers-0.10.3 transformers-4.10.2\n",
            "Collecting lime\n",
            "  Downloading lime-0.2.0.1.tar.gz (275 kB)\n",
            "\u001b[K     |████████████████████████████████| 275 kB 7.1 MB/s \n",
            "\u001b[?25hRequirement already satisfied: matplotlib in /usr/local/lib/python3.7/dist-packages (from lime) (3.2.2)\n",
            "Requirement already satisfied: numpy in /usr/local/lib/python3.7/dist-packages (from lime) (1.19.5)\n",
            "Requirement already satisfied: scipy in /usr/local/lib/python3.7/dist-packages (from lime) (1.4.1)\n",
            "Requirement already satisfied: tqdm in /usr/local/lib/python3.7/dist-packages (from lime) (4.62.2)\n",
            "Requirement already satisfied: scikit-learn>=0.18 in /usr/local/lib/python3.7/dist-packages (from lime) (0.22.2.post1)\n",
            "Requirement already satisfied: scikit-image>=0.12 in /usr/local/lib/python3.7/dist-packages (from lime) (0.16.2)\n",
            "Requirement already satisfied: imageio>=2.3.0 in /usr/local/lib/python3.7/dist-packages (from scikit-image>=0.12->lime) (2.4.1)\n",
            "Requirement already satisfied: pillow>=4.3.0 in /usr/local/lib/python3.7/dist-packages (from scikit-image>=0.12->lime) (7.1.2)\n",
            "Requirement already satisfied: PyWavelets>=0.4.0 in /usr/local/lib/python3.7/dist-packages (from scikit-image>=0.12->lime) (1.1.1)\n",
            "Requirement already satisfied: networkx>=2.0 in /usr/local/lib/python3.7/dist-packages (from scikit-image>=0.12->lime) (2.6.3)\n",
            "Requirement already satisfied: python-dateutil>=2.1 in /usr/local/lib/python3.7/dist-packages (from matplotlib->lime) (2.8.2)\n",
            "Requirement already satisfied: kiwisolver>=1.0.1 in /usr/local/lib/python3.7/dist-packages (from matplotlib->lime) (1.3.2)\n",
            "Requirement already satisfied: pyparsing!=2.0.4,!=2.1.2,!=2.1.6,>=2.0.1 in /usr/local/lib/python3.7/dist-packages (from matplotlib->lime) (2.4.7)\n",
            "Requirement already satisfied: cycler>=0.10 in /usr/local/lib/python3.7/dist-packages (from matplotlib->lime) (0.10.0)\n",
            "Requirement already satisfied: six in /usr/local/lib/python3.7/dist-packages (from cycler>=0.10->matplotlib->lime) (1.15.0)\n",
            "Requirement already satisfied: joblib>=0.11 in /usr/local/lib/python3.7/dist-packages (from scikit-learn>=0.18->lime) (1.0.1)\n",
            "Building wheels for collected packages: lime\n",
            "  Building wheel for lime (setup.py) ... \u001b[?25l\u001b[?25hdone\n",
            "  Created wheel for lime: filename=lime-0.2.0.1-py3-none-any.whl size=283857 sha256=2c9d7f5c7cbb84d14460cf91ee637e133bd2ab30c3d2ec3c5362d1900ba209be\n",
            "  Stored in directory: /root/.cache/pip/wheels/ca/cb/e5/ac701e12d365a08917bf4c6171c0961bc880a8181359c66aa7\n",
            "Successfully built lime\n",
            "Installing collected packages: lime\n",
            "Successfully installed lime-0.2.0.1\n"
          ]
        }
      ]
    },
    {
      "cell_type": "code",
      "metadata": {
        "id": "qvYtJ0ugFTld"
      },
      "source": [
        "import os\n",
        "\n",
        "import pandas as pd\n",
        "import numpy as np\n",
        "import matplotlib.pyplot as plt\n",
        "import seaborn as sns\n",
        "from sklearn.model_selection import train_test_split\n",
        "from sklearn.preprocessing import MinMaxScaler\n",
        "from sklearn.metrics import classification_report, confusion_matrix, accuracy_score\n",
        "import tensorflow as tf\n",
        "from tensorflow.keras.models import Sequential\n",
        "from tensorflow.keras.layers import Dense, Dropout"
      ],
      "execution_count": 3,
      "outputs": []
    },
    {
      "cell_type": "code",
      "metadata": {
        "colab": {
          "base_uri": "https://localhost:8080/"
        },
        "id": "AunG3BJDFXrD",
        "outputId": "bf8ad384-92c6-46e9-fe70-b59925af95c3"
      },
      "source": [
        "df_accepted = pd.read_csv(\"/content/drive/MyDrive/Drift/accepted_2007_to_2018Q4.csv\")\n",
        "\n",
        "print(df_accepted.shape)"
      ],
      "execution_count": 4,
      "outputs": [
        {
          "output_type": "stream",
          "name": "stderr",
          "text": [
            "/usr/local/lib/python3.7/dist-packages/IPython/core/interactiveshell.py:2718: DtypeWarning: Columns (0,19,49,59,118,129,130,131,134,135,136,139,145,146,147) have mixed types.Specify dtype option on import or set low_memory=False.\n",
            "  interactivity=interactivity, compiler=compiler, result=result)\n"
          ]
        },
        {
          "output_type": "stream",
          "name": "stdout",
          "text": [
            "(2260701, 151)\n"
          ]
        }
      ]
    },
    {
      "cell_type": "markdown",
      "metadata": {
        "id": "tPBUcSIzG8-Y"
      },
      "source": [
        "##Exploratory Data Analysis (and some initial pre-processing)\n",
        "\n",
        "Since we are going to predict loan_status, let's take a brief closer look on it:"
      ]
    },
    {
      "cell_type": "code",
      "metadata": {
        "colab": {
          "base_uri": "https://localhost:8080/"
        },
        "id": "kdJe5lVyHA6R",
        "outputId": "53774dd3-17d7-438f-e29d-5f31949f454f"
      },
      "source": [
        "df_accepted.loan_status.value_counts()"
      ],
      "execution_count": 5,
      "outputs": [
        {
          "output_type": "execute_result",
          "data": {
            "text/plain": [
              "Fully Paid                                             1076751\n",
              "Current                                                 878317\n",
              "Charged Off                                             268559\n",
              "Late (31-120 days)                                       21467\n",
              "In Grace Period                                           8436\n",
              "Late (16-30 days)                                         4349\n",
              "Does not meet the credit policy. Status:Fully Paid        1988\n",
              "Does not meet the credit policy. Status:Charged Off        761\n",
              "Default                                                     40\n",
              "Name: loan_status, dtype: int64"
            ]
          },
          "metadata": {},
          "execution_count": 5
        }
      ]
    },
    {
      "cell_type": "markdown",
      "metadata": {
        "id": "OQbxdr6-ILcK"
      },
      "source": [
        "for the sake of simplicity, let's consider only Fully Paid and Charged Off values:"
      ]
    },
    {
      "cell_type": "code",
      "metadata": {
        "colab": {
          "base_uri": "https://localhost:8080/"
        },
        "id": "wp11PT2vIHT4",
        "outputId": "b961fca2-a20b-4430-b695-b4dce8642e9d"
      },
      "source": [
        "df_accepted = df_accepted[df_accepted.loan_status.isin(['Fully Paid', 'Charged Off'])]\n",
        "\n",
        "print(df_accepted.shape)"
      ],
      "execution_count": 6,
      "outputs": [
        {
          "output_type": "stream",
          "name": "stdout",
          "text": [
            "(1345310, 151)\n"
          ]
        }
      ]
    },
    {
      "cell_type": "code",
      "metadata": {
        "colab": {
          "base_uri": "https://localhost:8080/",
          "height": 309
        },
        "id": "Da9wshTjIVtP",
        "outputId": "cc00af91-65e7-44a5-f944-59c763f33c3d"
      },
      "source": [
        "sns.countplot(x=\"loan_status\", data=df_accepted)"
      ],
      "execution_count": 7,
      "outputs": [
        {
          "output_type": "execute_result",
          "data": {
            "text/plain": [
              "<matplotlib.axes._subplots.AxesSubplot at 0x7f8d34885090>"
            ]
          },
          "metadata": {},
          "execution_count": 7
        },
        {
          "output_type": "display_data",
          "data": {
            "image/png": "[encoded data removed]",
            "text/plain": [
              "<Figure size 432x288 with 1 Axes>"
            ]
          },
          "metadata": {
            "needs_background": "light"
          }
        }
      ]
    },
    {
      "cell_type": "markdown",
      "metadata": {
        "id": "8UJ2EyYDIhlP"
      },
      "source": [
        "checking now null values per columns:"
      ]
    },
    {
      "cell_type": "code",
      "metadata": {
        "colab": {
          "base_uri": "https://localhost:8080/"
        },
        "id": "Hs3SLTSlIcoA",
        "outputId": "96c076b8-f310-4398-afe1-5a23062f16f6"
      },
      "source": [
        "df_accepted.isnull().sum().sort_values(ascending=False)"
      ],
      "execution_count": 8,
      "outputs": [
        {
          "output_type": "execute_result",
          "data": {
            "text/plain": [
              "member_id                                     1345310\n",
              "next_pymnt_d                                  1345310\n",
              "orig_projected_additional_accrued_interest    1341551\n",
              "hardship_start_date                           1339556\n",
              "hardship_end_date                             1339556\n",
              "                                               ...   \n",
              "pub_rec                                             0\n",
              "open_acc                                            0\n",
              "hardship_flag                                       0\n",
              "fico_range_high                                     0\n",
              "id                                                  0\n",
              "Length: 151, dtype: int64"
            ]
          },
          "metadata": {},
          "execution_count": 8
        }
      ]
    },
    {
      "cell_type": "markdown",
      "metadata": {
        "id": "sS_uw2Z1ItH7"
      },
      "source": [
        "wow, there is a bunch of columns almost full of missing values. Let's check the first 50 columns sorted by missing values:"
      ]
    },
    {
      "cell_type": "code",
      "metadata": {
        "colab": {
          "base_uri": "https://localhost:8080/"
        },
        "id": "j4nxQM3CI3Uo",
        "outputId": "566bd326-003a-40a6-f907-8fd37224e12f"
      },
      "source": [
        "df_accepted.isnull().sum().sort_values(ascending=False).head(50)"
      ],
      "execution_count": 9,
      "outputs": [
        {
          "output_type": "execute_result",
          "data": {
            "text/plain": [
              "member_id                                     1345310\n",
              "next_pymnt_d                                  1345310\n",
              "orig_projected_additional_accrued_interest    1341551\n",
              "hardship_start_date                           1339556\n",
              "hardship_end_date                             1339556\n",
              "payment_plan_start_date                       1339556\n",
              "hardship_length                               1339556\n",
              "hardship_dpd                                  1339556\n",
              "hardship_loan_status                          1339556\n",
              "hardship_last_payment_amount                  1339556\n",
              "hardship_payoff_balance_amount                1339556\n",
              "hardship_amount                               1339556\n",
              "hardship_status                               1339556\n",
              "hardship_reason                               1339556\n",
              "hardship_type                                 1339556\n",
              "deferral_term                                 1339556\n",
              "sec_app_mths_since_last_major_derog           1338665\n",
              "sec_app_revol_util                            1327008\n",
              "revol_bal_joint                               1326681\n",
              "sec_app_fico_range_high                       1326680\n",
              "sec_app_collections_12_mths_ex_med            1326680\n",
              "sec_app_chargeoff_within_12_mths              1326680\n",
              "sec_app_num_rev_accts                         1326680\n",
              "sec_app_open_act_il                           1326680\n",
              "sec_app_fico_range_low                        1326680\n",
              "sec_app_open_acc                              1326680\n",
              "sec_app_mort_acc                              1326680\n",
              "sec_app_inq_last_6mths                        1326680\n",
              "sec_app_earliest_cr_line                      1326680\n",
              "verification_status_joint                     1319715\n",
              "dti_joint                                     1319513\n",
              "annual_inc_joint                              1319510\n",
              "settlement_percentage                         1312034\n",
              "settlement_term                               1312034\n",
              "debt_settlement_flag_date                     1312034\n",
              "settlement_status                             1312034\n",
              "settlement_date                               1312034\n",
              "settlement_amount                             1312034\n",
              "desc                                          1221778\n",
              "mths_since_last_record                        1116755\n",
              "mths_since_recent_bc_dlq                      1026290\n",
              "mths_since_last_major_derog                    991560\n",
              "mths_since_recent_revol_delinq                 895348\n",
              "il_util                                        880294\n",
              "mths_since_rcnt_il                             821928\n",
              "all_util                                       807765\n",
              "open_acc_6m                                    807713\n",
              "total_cu_tl                                    807713\n",
              "inq_last_12m                                   807713\n",
              "open_il_12m                                    807712\n",
              "dtype: int64"
            ]
          },
          "metadata": {},
          "execution_count": 9
        }
      ]
    },
    {
      "cell_type": "markdown",
      "metadata": {
        "id": "hncMK_f_I_ik"
      },
      "source": [
        "let's drop these columns, as it will not contribute to our goal."
      ]
    },
    {
      "cell_type": "code",
      "metadata": {
        "colab": {
          "base_uri": "https://localhost:8080/"
        },
        "id": "S0yzbzxWJAD9",
        "outputId": "bd46b3b4-3bf4-4841-839b-dac44be1f771"
      },
      "source": [
        "cols_to_drop = df_accepted.isnull().sum().sort_values(ascending=False).head(50).index\n",
        "df_accepted = df_accepted.drop(columns=cols_to_drop)\n",
        "df_accepted.shape"
      ],
      "execution_count": 10,
      "outputs": [
        {
          "output_type": "execute_result",
          "data": {
            "text/plain": [
              "(1345310, 101)"
            ]
          },
          "metadata": {},
          "execution_count": 10
        }
      ]
    },
    {
      "cell_type": "markdown",
      "metadata": {
        "id": "FfZ-w3dkJM3M"
      },
      "source": [
        "let's check again:"
      ]
    },
    {
      "cell_type": "code",
      "metadata": {
        "colab": {
          "base_uri": "https://localhost:8080/"
        },
        "id": "JlXRTruUJNu_",
        "outputId": "8033988d-af37-4b87-a2e1-6dcd8733018b"
      },
      "source": [
        "df_accepted.isnull().sum().sort_values(ascending=False).head(50)"
      ],
      "execution_count": 11,
      "outputs": [
        {
          "output_type": "execute_result",
          "data": {
            "text/plain": [
              "open_il_24m                   807712\n",
              "inq_fi                        807712\n",
              "open_rv_24m                   807712\n",
              "open_rv_12m                   807712\n",
              "open_act_il                   807712\n",
              "max_bal_bc                    807712\n",
              "total_bal_il                  807712\n",
              "mths_since_last_delinq        678743\n",
              "mths_since_recent_inq         174071\n",
              "num_tl_120dpd_2m              117401\n",
              "mo_sin_old_il_acct            105575\n",
              "emp_title                      85785\n",
              "emp_length                     78511\n",
              "pct_tl_nvr_dlq                 67681\n",
              "avg_cur_bal                    67549\n",
              "num_rev_accts                  67528\n",
              "mo_sin_old_rev_tl_op           67528\n",
              "mo_sin_rcnt_rev_tl_op          67528\n",
              "mo_sin_rcnt_tl                 67527\n",
              "num_accts_ever_120_pd          67527\n",
              "num_actv_rev_tl                67527\n",
              "num_actv_bc_tl                 67527\n",
              "num_bc_tl                      67527\n",
              "num_tl_op_past_12m             67527\n",
              "num_tl_90g_dpd_24m             67527\n",
              "total_il_high_credit_limit     67527\n",
              "tot_coll_amt                   67527\n",
              "tot_hi_cred_lim                67527\n",
              "tot_cur_bal                    67527\n",
              "num_il_tl                      67527\n",
              "total_rev_hi_lim               67527\n",
              "num_tl_30dpd                   67527\n",
              "num_rev_tl_bal_gt_0            67527\n",
              "num_op_rev_tl                  67527\n",
              "bc_util                        61912\n",
              "percent_bc_gt_75               61555\n",
              "bc_open_to_buy                 61143\n",
              "mths_since_recent_bc           60221\n",
              "num_sats                       55841\n",
              "num_bc_sats                    55841\n",
              "acc_open_past_24mths           47281\n",
              "total_bc_limit                 47281\n",
              "mort_acc                       47281\n",
              "total_bal_ex_mort              47281\n",
              "title                          16659\n",
              "last_pymnt_d                    2313\n",
              "revol_util                       857\n",
              "pub_rec_bankruptcies             697\n",
              "dti                              374\n",
              "chargeoff_within_12_mths          56\n",
              "dtype: int64"
            ]
          },
          "metadata": {},
          "execution_count": 11
        }
      ]
    },
    {
      "cell_type": "markdown",
      "metadata": {
        "id": "OSaRKj2UJaJx"
      },
      "source": [
        "maybe we can go further, and eliminate columns up to title:"
      ]
    },
    {
      "cell_type": "code",
      "metadata": {
        "colab": {
          "base_uri": "https://localhost:8080/"
        },
        "id": "mht_x6BLJaf6",
        "outputId": "e2a9eef8-411c-4f0a-dd11-0d7cec81946c"
      },
      "source": [
        "cols_to_drop = df_accepted.isnull().sum().sort_values(ascending=False).head(45).index\n",
        "df_accepted = df_accepted.drop(columns=cols_to_drop)\n",
        "df_accepted.shape"
      ],
      "execution_count": 12,
      "outputs": [
        {
          "output_type": "execute_result",
          "data": {
            "text/plain": [
              "(1345310, 56)"
            ]
          },
          "metadata": {},
          "execution_count": 12
        }
      ]
    },
    {
      "cell_type": "code",
      "metadata": {
        "colab": {
          "base_uri": "https://localhost:8080/"
        },
        "id": "OE8z1WpNJe6w",
        "outputId": "19353455-8023-4a92-a3ae-f228e3f5bec5"
      },
      "source": [
        "print(df_accepted['issue_d'])"
      ],
      "execution_count": 13,
      "outputs": [
        {
          "output_type": "stream",
          "name": "stdout",
          "text": [
            "0          Dec-2015\n",
            "1          Dec-2015\n",
            "2          Dec-2015\n",
            "4          Dec-2015\n",
            "5          Dec-2015\n",
            "             ...   \n",
            "2260688    Oct-2016\n",
            "2260690    Oct-2016\n",
            "2260691    Oct-2016\n",
            "2260692    Oct-2016\n",
            "2260697    Oct-2016\n",
            "Name: issue_d, Length: 1345310, dtype: object\n"
          ]
        }
      ]
    },
    {
      "cell_type": "markdown",
      "metadata": {
        "id": "0Dw8wNBDJ3LL"
      },
      "source": [
        "for the remaining columns with missing values, let's see the missing percentage:"
      ]
    },
    {
      "cell_type": "code",
      "metadata": {
        "colab": {
          "base_uri": "https://localhost:8080/"
        },
        "id": "PlvT2vm_J2t_",
        "outputId": "2b4ae93b-2c8b-44b0-9e19-e044d9f3e472"
      },
      "source": [
        "nulls = df_accepted.isnull().sum().sort_values(ascending=False)\n",
        "nulls_percentage = (nulls/df_accepted.shape[0]*100)\n",
        "nulls_percentage.head(15)"
      ],
      "execution_count": 14,
      "outputs": [
        {
          "output_type": "execute_result",
          "data": {
            "text/plain": [
              "last_pymnt_d                  0.171931\n",
              "revol_util                    0.063703\n",
              "pub_rec_bankruptcies          0.051810\n",
              "dti                           0.027800\n",
              "collections_12_mths_ex_med    0.004163\n",
              "chargeoff_within_12_mths      0.004163\n",
              "last_credit_pull_d            0.004088\n",
              "tax_liens                     0.002899\n",
              "zip_code                      0.000074\n",
              "inq_last_6mths                0.000074\n",
              "issue_d                       0.000000\n",
              "addr_state                    0.000000\n",
              "delinq_2yrs                   0.000000\n",
              "earliest_cr_line              0.000000\n",
              "purpose                       0.000000\n",
              "dtype: float64"
            ]
          },
          "metadata": {},
          "execution_count": 14
        }
      ]
    },
    {
      "cell_type": "markdown",
      "metadata": {
        "id": "515H6qpgJ-j_"
      },
      "source": [
        "Remaining columns have missing data points, but they account for less than 0.2% of the total data. Let's remove the rows that are missing those values in those columns with dropna():"
      ]
    },
    {
      "cell_type": "code",
      "metadata": {
        "colab": {
          "base_uri": "https://localhost:8080/"
        },
        "id": "vVIqTMseJ_GG",
        "outputId": "ea42402d-dde4-4618-aeda-d848587b81be"
      },
      "source": [
        "df_accepted = df_accepted.dropna()\n",
        "df_accepted.shape"
      ],
      "execution_count": 15,
      "outputs": [
        {
          "output_type": "execute_result",
          "data": {
            "text/plain": [
              "(1341026, 56)"
            ]
          },
          "metadata": {},
          "execution_count": 15
        }
      ]
    },
    {
      "cell_type": "code",
      "metadata": {
        "colab": {
          "base_uri": "https://localhost:8080/"
        },
        "id": "doX_fWiFKDYw",
        "outputId": "8e11dd18-f5d8-4968-f208-024410a4aff8"
      },
      "source": [
        "df_accepted.info()"
      ],
      "execution_count": 16,
      "outputs": [
        {
          "output_type": "stream",
          "name": "stdout",
          "text": [
            "<class 'pandas.core.frame.DataFrame'>\n",
            "Int64Index: 1341026 entries, 0 to 2260697\n",
            "Data columns (total 56 columns):\n",
            " #   Column                      Non-Null Count    Dtype  \n",
            "---  ------                      --------------    -----  \n",
            " 0   id                          1341026 non-null  object \n",
            " 1   loan_amnt                   1341026 non-null  float64\n",
            " 2   funded_amnt                 1341026 non-null  float64\n",
            " 3   funded_amnt_inv             1341026 non-null  float64\n",
            " 4   term                        1341026 non-null  object \n",
            " 5   int_rate                    1341026 non-null  float64\n",
            " 6   installment                 1341026 non-null  float64\n",
            " 7   grade                       1341026 non-null  object \n",
            " 8   sub_grade                   1341026 non-null  object \n",
            " 9   home_ownership              1341026 non-null  object \n",
            " 10  annual_inc                  1341026 non-null  float64\n",
            " 11  verification_status         1341026 non-null  object \n",
            " 12  issue_d                     1341026 non-null  object \n",
            " 13  loan_status                 1341026 non-null  object \n",
            " 14  pymnt_plan                  1341026 non-null  object \n",
            " 15  url                         1341026 non-null  object \n",
            " 16  purpose                     1341026 non-null  object \n",
            " 17  zip_code                    1341026 non-null  object \n",
            " 18  addr_state                  1341026 non-null  object \n",
            " 19  dti                         1341026 non-null  float64\n",
            " 20  delinq_2yrs                 1341026 non-null  float64\n",
            " 21  earliest_cr_line            1341026 non-null  object \n",
            " 22  fico_range_low              1341026 non-null  float64\n",
            " 23  fico_range_high             1341026 non-null  float64\n",
            " 24  inq_last_6mths              1341026 non-null  float64\n",
            " 25  open_acc                    1341026 non-null  float64\n",
            " 26  pub_rec                     1341026 non-null  float64\n",
            " 27  revol_bal                   1341026 non-null  float64\n",
            " 28  revol_util                  1341026 non-null  float64\n",
            " 29  total_acc                   1341026 non-null  float64\n",
            " 30  initial_list_status         1341026 non-null  object \n",
            " 31  out_prncp                   1341026 non-null  float64\n",
            " 32  out_prncp_inv               1341026 non-null  float64\n",
            " 33  total_pymnt                 1341026 non-null  float64\n",
            " 34  total_pymnt_inv             1341026 non-null  float64\n",
            " 35  total_rec_prncp             1341026 non-null  float64\n",
            " 36  total_rec_int               1341026 non-null  float64\n",
            " 37  total_rec_late_fee          1341026 non-null  float64\n",
            " 38  recoveries                  1341026 non-null  float64\n",
            " 39  collection_recovery_fee     1341026 non-null  float64\n",
            " 40  last_pymnt_d                1341026 non-null  object \n",
            " 41  last_pymnt_amnt             1341026 non-null  float64\n",
            " 42  last_credit_pull_d          1341026 non-null  object \n",
            " 43  last_fico_range_high        1341026 non-null  float64\n",
            " 44  last_fico_range_low         1341026 non-null  float64\n",
            " 45  collections_12_mths_ex_med  1341026 non-null  float64\n",
            " 46  policy_code                 1341026 non-null  float64\n",
            " 47  application_type            1341026 non-null  object \n",
            " 48  acc_now_delinq              1341026 non-null  float64\n",
            " 49  chargeoff_within_12_mths    1341026 non-null  float64\n",
            " 50  delinq_amnt                 1341026 non-null  float64\n",
            " 51  pub_rec_bankruptcies        1341026 non-null  float64\n",
            " 52  tax_liens                   1341026 non-null  float64\n",
            " 53  hardship_flag               1341026 non-null  object \n",
            " 54  disbursement_method         1341026 non-null  object \n",
            " 55  debt_settlement_flag        1341026 non-null  object \n",
            "dtypes: float64(35), object(21)\n",
            "memory usage: 583.2+ MB\n"
          ]
        }
      ]
    },
    {
      "cell_type": "markdown",
      "metadata": {
        "id": "m5KB9cemKMK9"
      },
      "source": [
        "let's now take a look at loan_amnt histogram, to have an idea of the amount distribution:"
      ]
    },
    {
      "cell_type": "code",
      "metadata": {
        "colab": {
          "base_uri": "https://localhost:8080/",
          "height": 353
        },
        "id": "-VZWIljRKLq5",
        "outputId": "8a0b2cd2-9739-48bf-cc8a-43087a8a4271"
      },
      "source": [
        "plt.figure(figsize=(15,5))\n",
        "sns.histplot(df_accepted.loan_amnt, kde=False)"
      ],
      "execution_count": 17,
      "outputs": [
        {
          "output_type": "execute_result",
          "data": {
            "text/plain": [
              "<matplotlib.axes._subplots.AxesSubplot at 0x7f8d3d0adf90>"
            ]
          },
          "metadata": {},
          "execution_count": 17
        },
        {
          "output_type": "display_data",
          "data": {
            "image/png": "[encoded data removed]",
            "text/plain": [
              "<Figure size 1080x360 with 1 Axes>"
            ]
          },
          "metadata": {
            "needs_background": "light"
          }
        }
      ]
    },
    {
      "cell_type": "markdown",
      "metadata": {
        "id": "gjaSV_OuKTpC"
      },
      "source": [
        "let's now see the correlation between continuous variables:"
      ]
    },
    {
      "cell_type": "code",
      "metadata": {
        "colab": {
          "base_uri": "https://localhost:8080/",
          "height": 741
        },
        "id": "A6BmGiNdKUNz",
        "outputId": "d8b4a456-026f-43a3-d851-35ccf45063ed"
      },
      "source": [
        "plt.figure(figsize=(12,10))\n",
        "mask = np.zeros_like(df_accepted.corr())\n",
        "mask[np.triu_indices_from(mask)] = True\n",
        "sns.heatmap(df_accepted.corr(), cmap='viridis', mask=mask, annot=False, square=True)"
      ],
      "execution_count": 18,
      "outputs": [
        {
          "output_type": "execute_result",
          "data": {
            "text/plain": [
              "<matplotlib.axes._subplots.AxesSubplot at 0x7f8d3875ba10>"
            ]
          },
          "metadata": {},
          "execution_count": 18
        },
        {
          "output_type": "display_data",
          "data": {
            "image/png": "[encoded data removed]",
            "text/plain": [
              "<Figure size 864x720 with 2 Axes>"
            ]
          },
          "metadata": {
            "needs_background": "light"
          }
        }
      ]
    },
    {
      "cell_type": "markdown",
      "metadata": {
        "id": "5y7Hdc0nKYt_"
      },
      "source": [
        "there are 3 columns with a visible different behaviour: out_prncp, out_prncp_inv and policy_code."
      ]
    },
    {
      "cell_type": "code",
      "metadata": {
        "colab": {
          "base_uri": "https://localhost:8080/"
        },
        "id": "8VCFT-mpKaes",
        "outputId": "56db1d4e-9867-490b-e955-0ff0596c4819"
      },
      "source": [
        "print(df_accepted.out_prncp.value_counts())\n",
        "print(df_accepted.out_prncp_inv.value_counts())\n",
        "print(df_accepted.policy_code.value_counts())"
      ],
      "execution_count": 19,
      "outputs": [
        {
          "output_type": "stream",
          "name": "stdout",
          "text": [
            "0.0    1341026\n",
            "Name: out_prncp, dtype: int64\n",
            "0.0    1341026\n",
            "Name: out_prncp_inv, dtype: int64\n",
            "1.0    1341026\n",
            "Name: policy_code, dtype: int64\n"
          ]
        }
      ]
    },
    {
      "cell_type": "markdown",
      "metadata": {
        "id": "PvegwH7IKgDF"
      },
      "source": [
        "These are constant columns. We can drop it either."
      ]
    },
    {
      "cell_type": "code",
      "metadata": {
        "colab": {
          "base_uri": "https://localhost:8080/"
        },
        "id": "-jsKyGTYKgZ5",
        "outputId": "02846aaa-ea86-433e-e747-85ae66b6741e"
      },
      "source": [
        "cols_to_drop = ['out_prncp', 'out_prncp_inv', 'policy_code']\n",
        "df_accepted = df_accepted.drop(columns=cols_to_drop)\n",
        "df_accepted.shape"
      ],
      "execution_count": 20,
      "outputs": [
        {
          "output_type": "execute_result",
          "data": {
            "text/plain": [
              "(1341026, 53)"
            ]
          },
          "metadata": {},
          "execution_count": 20
        }
      ]
    },
    {
      "cell_type": "code",
      "metadata": {
        "colab": {
          "base_uri": "https://localhost:8080/",
          "height": 741
        },
        "id": "s3KEOaTQKkLg",
        "outputId": "06912146-327f-487e-c772-6692235c5c63"
      },
      "source": [
        "plt.figure(figsize=(12,10))\n",
        "mask = np.zeros_like(df_accepted.corr())\n",
        "mask[np.triu_indices_from(mask)] = True\n",
        "sns.heatmap(df_accepted.corr(), cmap='viridis', mask=mask, annot=False, square=True)"
      ],
      "execution_count": 21,
      "outputs": [
        {
          "output_type": "execute_result",
          "data": {
            "text/plain": [
              "<matplotlib.axes._subplots.AxesSubplot at 0x7f8d38424b50>"
            ]
          },
          "metadata": {},
          "execution_count": 21
        },
        {
          "output_type": "display_data",
          "data": {
            "image/png": "[encoded data removed]",
            "text/plain": [
              "<Figure size 864x720 with 2 Axes>"
            ]
          },
          "metadata": {
            "needs_background": "light"
          }
        }
      ]
    },
    {
      "cell_type": "markdown",
      "metadata": {
        "id": "4F-neNARKsGS"
      },
      "source": [
        "There are many yellowish squares. This indicates almost perfect correlation between many variables. Let's dig deeper:"
      ]
    },
    {
      "cell_type": "code",
      "metadata": {
        "colab": {
          "base_uri": "https://localhost:8080/",
          "height": 665
        },
        "id": "kRYUdPhSKskS",
        "outputId": "f0325e08-47bf-49e0-f901-e93f011c62ed"
      },
      "source": [
        "# unstacking correlation to check highest correlation pairs\n",
        "\n",
        "c = df_accepted.corr().abs()\n",
        "unstack_corr = c.unstack()\n",
        "pairs = unstack_corr.sort_values(ascending=False)\n",
        "\n",
        "corr_pairs = pd.DataFrame(pairs).drop_duplicates().reset_index()\n",
        "corr_pairs.columns = ['feature1', 'feature2', 'corr']\n",
        "\n",
        "\n",
        "# check feature pairs above 0.8 in correlation\n",
        "\n",
        "cond1 = (corr_pairs.feature1 != corr_pairs.feature2)\n",
        "cond2 = (corr_pairs['corr']>0.80)\n",
        "\n",
        "corr_pairs[cond1 & cond2]"
      ],
      "execution_count": 22,
      "outputs": [
        {
          "output_type": "execute_result",
          "data": {
            "text/html": [
              "<div>\n",
              "<style scoped>\n",
              "    .dataframe tbody tr th:only-of-type {\n",
              "        vertical-align: middle;\n",
              "    }\n",
              "\n",
              "    .dataframe tbody tr th {\n",
              "        vertical-align: top;\n",
              "    }\n",
              "\n",
              "    .dataframe thead th {\n",
              "        text-align: right;\n",
              "    }\n",
              "</style>\n",
              "<table border=\"1\" class=\"dataframe\">\n",
              "  <thead>\n",
              "    <tr style=\"text-align: right;\">\n",
              "      <th></th>\n",
              "      <th>feature1</th>\n",
              "      <th>feature2</th>\n",
              "      <th>corr</th>\n",
              "    </tr>\n",
              "  </thead>\n",
              "  <tbody>\n",
              "    <tr>\n",
              "      <th>1</th>\n",
              "      <td>fico_range_high</td>\n",
              "      <td>fico_range_low</td>\n",
              "      <td>1.000000</td>\n",
              "    </tr>\n",
              "    <tr>\n",
              "      <th>2</th>\n",
              "      <td>loan_amnt</td>\n",
              "      <td>funded_amnt</td>\n",
              "      <td>0.999565</td>\n",
              "    </tr>\n",
              "    <tr>\n",
              "      <th>3</th>\n",
              "      <td>total_pymnt</td>\n",
              "      <td>total_pymnt_inv</td>\n",
              "      <td>0.999541</td>\n",
              "    </tr>\n",
              "    <tr>\n",
              "      <th>4</th>\n",
              "      <td>funded_amnt_inv</td>\n",
              "      <td>funded_amnt</td>\n",
              "      <td>0.999439</td>\n",
              "    </tr>\n",
              "    <tr>\n",
              "      <th>5</th>\n",
              "      <td>loan_amnt</td>\n",
              "      <td>funded_amnt_inv</td>\n",
              "      <td>0.998918</td>\n",
              "    </tr>\n",
              "    <tr>\n",
              "      <th>6</th>\n",
              "      <td>collection_recovery_fee</td>\n",
              "      <td>recoveries</td>\n",
              "      <td>0.972674</td>\n",
              "    </tr>\n",
              "    <tr>\n",
              "      <th>7</th>\n",
              "      <td>total_rec_prncp</td>\n",
              "      <td>total_pymnt</td>\n",
              "      <td>0.967104</td>\n",
              "    </tr>\n",
              "    <tr>\n",
              "      <th>8</th>\n",
              "      <td>total_rec_prncp</td>\n",
              "      <td>total_pymnt_inv</td>\n",
              "      <td>0.966725</td>\n",
              "    </tr>\n",
              "    <tr>\n",
              "      <th>9</th>\n",
              "      <td>funded_amnt</td>\n",
              "      <td>installment</td>\n",
              "      <td>0.954037</td>\n",
              "    </tr>\n",
              "    <tr>\n",
              "      <th>10</th>\n",
              "      <td>funded_amnt_inv</td>\n",
              "      <td>installment</td>\n",
              "      <td>0.953445</td>\n",
              "    </tr>\n",
              "    <tr>\n",
              "      <th>11</th>\n",
              "      <td>loan_amnt</td>\n",
              "      <td>installment</td>\n",
              "      <td>0.953387</td>\n",
              "    </tr>\n",
              "    <tr>\n",
              "      <th>12</th>\n",
              "      <td>funded_amnt_inv</td>\n",
              "      <td>total_pymnt_inv</td>\n",
              "      <td>0.857150</td>\n",
              "    </tr>\n",
              "    <tr>\n",
              "      <th>13</th>\n",
              "      <td>funded_amnt</td>\n",
              "      <td>total_pymnt</td>\n",
              "      <td>0.856901</td>\n",
              "    </tr>\n",
              "    <tr>\n",
              "      <th>14</th>\n",
              "      <td>total_pymnt_inv</td>\n",
              "      <td>funded_amnt</td>\n",
              "      <td>0.856675</td>\n",
              "    </tr>\n",
              "    <tr>\n",
              "      <th>15</th>\n",
              "      <td>loan_amnt</td>\n",
              "      <td>total_pymnt</td>\n",
              "      <td>0.856658</td>\n",
              "    </tr>\n",
              "    <tr>\n",
              "      <th>16</th>\n",
              "      <td>total_pymnt</td>\n",
              "      <td>funded_amnt_inv</td>\n",
              "      <td>0.856443</td>\n",
              "    </tr>\n",
              "    <tr>\n",
              "      <th>17</th>\n",
              "      <td>total_pymnt_inv</td>\n",
              "      <td>loan_amnt</td>\n",
              "      <td>0.856355</td>\n",
              "    </tr>\n",
              "    <tr>\n",
              "      <th>18</th>\n",
              "      <td>last_fico_range_high</td>\n",
              "      <td>last_fico_range_low</td>\n",
              "      <td>0.829740</td>\n",
              "    </tr>\n",
              "    <tr>\n",
              "      <th>19</th>\n",
              "      <td>installment</td>\n",
              "      <td>total_pymnt</td>\n",
              "      <td>0.818291</td>\n",
              "    </tr>\n",
              "    <tr>\n",
              "      <th>20</th>\n",
              "      <td>total_pymnt_inv</td>\n",
              "      <td>installment</td>\n",
              "      <td>0.818049</td>\n",
              "    </tr>\n",
              "  </tbody>\n",
              "</table>\n",
              "</div>"
            ],
            "text/plain": [
              "                   feature1             feature2      corr\n",
              "1           fico_range_high       fico_range_low  1.000000\n",
              "2                 loan_amnt          funded_amnt  0.999565\n",
              "3               total_pymnt      total_pymnt_inv  0.999541\n",
              "4           funded_amnt_inv          funded_amnt  0.999439\n",
              "5                 loan_amnt      funded_amnt_inv  0.998918\n",
              "6   collection_recovery_fee           recoveries  0.972674\n",
              "7           total_rec_prncp          total_pymnt  0.967104\n",
              "8           total_rec_prncp      total_pymnt_inv  0.966725\n",
              "9               funded_amnt          installment  0.954037\n",
              "10          funded_amnt_inv          installment  0.953445\n",
              "11                loan_amnt          installment  0.953387\n",
              "12          funded_amnt_inv      total_pymnt_inv  0.857150\n",
              "13              funded_amnt          total_pymnt  0.856901\n",
              "14          total_pymnt_inv          funded_amnt  0.856675\n",
              "15                loan_amnt          total_pymnt  0.856658\n",
              "16              total_pymnt      funded_amnt_inv  0.856443\n",
              "17          total_pymnt_inv            loan_amnt  0.856355\n",
              "18     last_fico_range_high  last_fico_range_low  0.829740\n",
              "19              installment          total_pymnt  0.818291\n",
              "20          total_pymnt_inv          installment  0.818049"
            ]
          },
          "metadata": {},
          "execution_count": 22
        }
      ]
    },
    {
      "cell_type": "markdown",
      "metadata": {
        "id": "C5fI8rqYLltH"
      },
      "source": [
        "Let's perform scatterplot and visually check some relationships among these features:"
      ]
    },
    {
      "cell_type": "code",
      "metadata": {
        "colab": {
          "base_uri": "https://localhost:8080/",
          "height": 298
        },
        "id": "hQZpnf0GLmCS",
        "outputId": "6f4394d0-184e-41d8-c7d5-310d259c8bf0"
      },
      "source": [
        "sns.scatterplot(x=df_accepted.fico_range_low, y=df_accepted.fico_range_high)"
      ],
      "execution_count": 23,
      "outputs": [
        {
          "output_type": "execute_result",
          "data": {
            "text/plain": [
              "<matplotlib.axes._subplots.AxesSubplot at 0x7f8d36e97710>"
            ]
          },
          "metadata": {},
          "execution_count": 23
        },
        {
          "output_type": "display_data",
          "data": {
            "image/png": "[encoded data removed]",
            "text/plain": [
              "<Figure size 432x288 with 1 Axes>"
            ]
          },
          "metadata": {
            "needs_background": "light"
          }
        }
      ]
    },
    {
      "cell_type": "code",
      "metadata": {
        "colab": {
          "base_uri": "https://localhost:8080/",
          "height": 298
        },
        "id": "lETwyqJHLrnh",
        "outputId": "6918e6cd-2e2a-4074-8e03-b968f08e545e"
      },
      "source": [
        "sns.scatterplot(x=df_accepted.funded_amnt, y=df_accepted.loan_amnt)"
      ],
      "execution_count": 24,
      "outputs": [
        {
          "output_type": "execute_result",
          "data": {
            "text/plain": [
              "<matplotlib.axes._subplots.AxesSubplot at 0x7f8d3a077c50>"
            ]
          },
          "metadata": {},
          "execution_count": 24
        },
        {
          "output_type": "display_data",
          "data": {
            "image/png": "[encoded data removed]",
            "text/plain": [
              "<Figure size 432x288 with 1 Axes>"
            ]
          },
          "metadata": {
            "needs_background": "light"
          }
        }
      ]
    },
    {
      "cell_type": "code",
      "metadata": {
        "colab": {
          "base_uri": "https://localhost:8080/",
          "height": 298
        },
        "id": "mHlzuZkfMP7W",
        "outputId": "ddca99eb-d804-41b0-edcf-bf0361fa659b"
      },
      "source": [
        "sns.scatterplot(x=df_accepted.funded_amnt, y=df_accepted.funded_amnt_inv)"
      ],
      "execution_count": 25,
      "outputs": [
        {
          "output_type": "execute_result",
          "data": {
            "text/plain": [
              "<matplotlib.axes._subplots.AxesSubplot at 0x7f8d344923d0>"
            ]
          },
          "metadata": {},
          "execution_count": 25
        },
        {
          "output_type": "display_data",
          "data": {
            "image/png": "[encoded data removed]",
            "text/plain": [
              "<Figure size 432x288 with 1 Axes>"
            ]
          },
          "metadata": {
            "needs_background": "light"
          }
        }
      ]
    },
    {
      "cell_type": "code",
      "metadata": {
        "colab": {
          "base_uri": "https://localhost:8080/",
          "height": 298
        },
        "id": "NUhaIoKaMSS_",
        "outputId": "3a73f5da-b1ab-4f86-d339-c0b0e9a777af"
      },
      "source": [
        "sns.scatterplot(x=df_accepted.total_pymnt, y=df_accepted.installment)"
      ],
      "execution_count": 26,
      "outputs": [
        {
          "output_type": "execute_result",
          "data": {
            "text/plain": [
              "<matplotlib.axes._subplots.AxesSubplot at 0x7f8d43a689d0>"
            ]
          },
          "metadata": {},
          "execution_count": 26
        },
        {
          "output_type": "display_data",
          "data": {
            "image/png": "[encoded data removed]",
            "text/plain": [
              "<Figure size 432x288 with 1 Axes>"
            ]
          },
          "metadata": {
            "needs_background": "light"
          }
        }
      ]
    },
    {
      "cell_type": "markdown",
      "metadata": {
        "id": "8_EV7EoUMasI"
      },
      "source": [
        "It seems we have many \"duplicated\" information. Let's drop some columns, based on visual inspection at corr_pairs dataframe:"
      ]
    },
    {
      "cell_type": "code",
      "metadata": {
        "colab": {
          "base_uri": "https://localhost:8080/"
        },
        "id": "w6og5XuFMa9h",
        "outputId": "98879cbb-d103-48e7-fe09-aab27851338c"
      },
      "source": [
        "cols_to_drop = ['fico_range_low', 'funded_amnt_inv', 'funded_amnt', 'total_pymnt_inv', 'total_pymnt', 'installment', 'collection_recovery_fee', 'total_rec_prncp', 'last_fico_range_low']\n",
        "df_accepted = df_accepted.drop(columns=cols_to_drop)\n",
        "df_accepted.shape"
      ],
      "execution_count": 27,
      "outputs": [
        {
          "output_type": "execute_result",
          "data": {
            "text/plain": [
              "(1341026, 44)"
            ]
          },
          "metadata": {},
          "execution_count": 27
        }
      ]
    },
    {
      "cell_type": "markdown",
      "metadata": {
        "id": "iEZNJAjPMfGu"
      },
      "source": [
        "as our target column is categorical (loan_status), let's create a new feature - loan_paid - that is 1 for 'Fully Paid' and 0 for 'Charged Off'"
      ]
    },
    {
      "cell_type": "code",
      "metadata": {
        "id": "NyObqmMPMj-Z"
      },
      "source": [
        "values = df_accepted.loan_status.unique()\n",
        "encode = [1,0]\n",
        "d = dict(zip(values, encode))"
      ],
      "execution_count": 28,
      "outputs": []
    },
    {
      "cell_type": "code",
      "metadata": {
        "id": "LBpDiUw7Mobs"
      },
      "source": [
        "df_accepted['loan_paid'] = df_accepted['loan_status'].map(d)\n",
        "\n",
        "df_accepted = df_accepted.drop(columns=['loan_status'])"
      ],
      "execution_count": 29,
      "outputs": []
    },
    {
      "cell_type": "code",
      "metadata": {
        "colab": {
          "base_uri": "https://localhost:8080/",
          "height": 582
        },
        "id": "O4p3lh-MMxgb",
        "outputId": "aee787bf-3b04-49d7-ced5-bd45af48160a"
      },
      "source": [
        "# checking correlation of features to the new loan_paid column\n",
        "\n",
        "\n",
        "plt.figure(figsize=(15,7))\n",
        "new_corr = df_accepted.corr().iloc[:-1,-1].sort_values()\n",
        "new_corr.plot.bar(rot=90)"
      ],
      "execution_count": 30,
      "outputs": [
        {
          "output_type": "execute_result",
          "data": {
            "text/plain": [
              "<matplotlib.axes._subplots.AxesSubplot at 0x7f8d39080d50>"
            ]
          },
          "metadata": {},
          "execution_count": 30
        },
        {
          "output_type": "display_data",
          "data": {
            "image/png": "[encoded data removed]",
            "text/plain": [
              "<Figure size 1080x504 with 1 Axes>"
            ]
          },
          "metadata": {
            "needs_background": "light"
          }
        }
      ]
    },
    {
      "cell_type": "markdown",
      "metadata": {
        "id": "OCsSsfbjM3zw"
      },
      "source": [
        "##Pre-processing\n",
        "\n",
        "we still have many string categorical columns. Let's work on it:"
      ]
    },
    {
      "cell_type": "code",
      "metadata": {
        "colab": {
          "base_uri": "https://localhost:8080/",
          "height": 307
        },
        "id": "dNACOAW2M71J",
        "outputId": "77553930-4332-4647-fba0-97c103538520"
      },
      "source": [
        "df_accepted.head()"
      ],
      "execution_count": 31,
      "outputs": [
        {
          "output_type": "execute_result",
          "data": {
            "text/html": [
              "<div>\n",
              "<style scoped>\n",
              "    .dataframe tbody tr th:only-of-type {\n",
              "        vertical-align: middle;\n",
              "    }\n",
              "\n",
              "    .dataframe tbody tr th {\n",
              "        vertical-align: top;\n",
              "    }\n",
              "\n",
              "    .dataframe thead th {\n",
              "        text-align: right;\n",
              "    }\n",
              "</style>\n",
              "<table border=\"1\" class=\"dataframe\">\n",
              "  <thead>\n",
              "    <tr style=\"text-align: right;\">\n",
              "      <th></th>\n",
              "      <th>id</th>\n",
              "      <th>loan_amnt</th>\n",
              "      <th>term</th>\n",
              "      <th>int_rate</th>\n",
              "      <th>grade</th>\n",
              "      <th>sub_grade</th>\n",
              "      <th>home_ownership</th>\n",
              "      <th>annual_inc</th>\n",
              "      <th>verification_status</th>\n",
              "      <th>issue_d</th>\n",
              "      <th>pymnt_plan</th>\n",
              "      <th>url</th>\n",
              "      <th>purpose</th>\n",
              "      <th>zip_code</th>\n",
              "      <th>addr_state</th>\n",
              "      <th>dti</th>\n",
              "      <th>delinq_2yrs</th>\n",
              "      <th>earliest_cr_line</th>\n",
              "      <th>fico_range_high</th>\n",
              "      <th>inq_last_6mths</th>\n",
              "      <th>open_acc</th>\n",
              "      <th>pub_rec</th>\n",
              "      <th>revol_bal</th>\n",
              "      <th>revol_util</th>\n",
              "      <th>total_acc</th>\n",
              "      <th>initial_list_status</th>\n",
              "      <th>total_rec_int</th>\n",
              "      <th>total_rec_late_fee</th>\n",
              "      <th>recoveries</th>\n",
              "      <th>last_pymnt_d</th>\n",
              "      <th>last_pymnt_amnt</th>\n",
              "      <th>last_credit_pull_d</th>\n",
              "      <th>last_fico_range_high</th>\n",
              "      <th>collections_12_mths_ex_med</th>\n",
              "      <th>application_type</th>\n",
              "      <th>acc_now_delinq</th>\n",
              "      <th>chargeoff_within_12_mths</th>\n",
              "      <th>delinq_amnt</th>\n",
              "      <th>pub_rec_bankruptcies</th>\n",
              "      <th>tax_liens</th>\n",
              "      <th>hardship_flag</th>\n",
              "      <th>disbursement_method</th>\n",
              "      <th>debt_settlement_flag</th>\n",
              "      <th>loan_paid</th>\n",
              "    </tr>\n",
              "  </thead>\n",
              "  <tbody>\n",
              "    <tr>\n",
              "      <th>0</th>\n",
              "      <td>68407277</td>\n",
              "      <td>3600.0</td>\n",
              "      <td>36 months</td>\n",
              "      <td>13.99</td>\n",
              "      <td>C</td>\n",
              "      <td>C4</td>\n",
              "      <td>MORTGAGE</td>\n",
              "      <td>55000.0</td>\n",
              "      <td>Not Verified</td>\n",
              "      <td>Dec-2015</td>\n",
              "      <td>n</td>\n",
              "      <td>https://lendingclub.com/browse/loanDetail.acti...</td>\n",
              "      <td>debt_consolidation</td>\n",
              "      <td>190xx</td>\n",
              "      <td>PA</td>\n",
              "      <td>5.91</td>\n",
              "      <td>0.0</td>\n",
              "      <td>Aug-2003</td>\n",
              "      <td>679.0</td>\n",
              "      <td>1.0</td>\n",
              "      <td>7.0</td>\n",
              "      <td>0.0</td>\n",
              "      <td>2765.0</td>\n",
              "      <td>29.7</td>\n",
              "      <td>13.0</td>\n",
              "      <td>w</td>\n",
              "      <td>821.72</td>\n",
              "      <td>0.0</td>\n",
              "      <td>0.0</td>\n",
              "      <td>Jan-2019</td>\n",
              "      <td>122.67</td>\n",
              "      <td>Mar-2019</td>\n",
              "      <td>564.0</td>\n",
              "      <td>0.0</td>\n",
              "      <td>Individual</td>\n",
              "      <td>0.0</td>\n",
              "      <td>0.0</td>\n",
              "      <td>0.0</td>\n",
              "      <td>0.0</td>\n",
              "      <td>0.0</td>\n",
              "      <td>N</td>\n",
              "      <td>Cash</td>\n",
              "      <td>N</td>\n",
              "      <td>1</td>\n",
              "    </tr>\n",
              "    <tr>\n",
              "      <th>1</th>\n",
              "      <td>68355089</td>\n",
              "      <td>24700.0</td>\n",
              "      <td>36 months</td>\n",
              "      <td>11.99</td>\n",
              "      <td>C</td>\n",
              "      <td>C1</td>\n",
              "      <td>MORTGAGE</td>\n",
              "      <td>65000.0</td>\n",
              "      <td>Not Verified</td>\n",
              "      <td>Dec-2015</td>\n",
              "      <td>n</td>\n",
              "      <td>https://lendingclub.com/browse/loanDetail.acti...</td>\n",
              "      <td>small_business</td>\n",
              "      <td>577xx</td>\n",
              "      <td>SD</td>\n",
              "      <td>16.06</td>\n",
              "      <td>1.0</td>\n",
              "      <td>Dec-1999</td>\n",
              "      <td>719.0</td>\n",
              "      <td>4.0</td>\n",
              "      <td>22.0</td>\n",
              "      <td>0.0</td>\n",
              "      <td>21470.0</td>\n",
              "      <td>19.2</td>\n",
              "      <td>38.0</td>\n",
              "      <td>w</td>\n",
              "      <td>979.66</td>\n",
              "      <td>0.0</td>\n",
              "      <td>0.0</td>\n",
              "      <td>Jun-2016</td>\n",
              "      <td>926.35</td>\n",
              "      <td>Mar-2019</td>\n",
              "      <td>699.0</td>\n",
              "      <td>0.0</td>\n",
              "      <td>Individual</td>\n",
              "      <td>0.0</td>\n",
              "      <td>0.0</td>\n",
              "      <td>0.0</td>\n",
              "      <td>0.0</td>\n",
              "      <td>0.0</td>\n",
              "      <td>N</td>\n",
              "      <td>Cash</td>\n",
              "      <td>N</td>\n",
              "      <td>1</td>\n",
              "    </tr>\n",
              "    <tr>\n",
              "      <th>2</th>\n",
              "      <td>68341763</td>\n",
              "      <td>20000.0</td>\n",
              "      <td>60 months</td>\n",
              "      <td>10.78</td>\n",
              "      <td>B</td>\n",
              "      <td>B4</td>\n",
              "      <td>MORTGAGE</td>\n",
              "      <td>63000.0</td>\n",
              "      <td>Not Verified</td>\n",
              "      <td>Dec-2015</td>\n",
              "      <td>n</td>\n",
              "      <td>https://lendingclub.com/browse/loanDetail.acti...</td>\n",
              "      <td>home_improvement</td>\n",
              "      <td>605xx</td>\n",
              "      <td>IL</td>\n",
              "      <td>10.78</td>\n",
              "      <td>0.0</td>\n",
              "      <td>Aug-2000</td>\n",
              "      <td>699.0</td>\n",
              "      <td>0.0</td>\n",
              "      <td>6.0</td>\n",
              "      <td>0.0</td>\n",
              "      <td>7869.0</td>\n",
              "      <td>56.2</td>\n",
              "      <td>18.0</td>\n",
              "      <td>w</td>\n",
              "      <td>2705.92</td>\n",
              "      <td>0.0</td>\n",
              "      <td>0.0</td>\n",
              "      <td>Jun-2017</td>\n",
              "      <td>15813.30</td>\n",
              "      <td>Mar-2019</td>\n",
              "      <td>704.0</td>\n",
              "      <td>0.0</td>\n",
              "      <td>Joint App</td>\n",
              "      <td>0.0</td>\n",
              "      <td>0.0</td>\n",
              "      <td>0.0</td>\n",
              "      <td>0.0</td>\n",
              "      <td>0.0</td>\n",
              "      <td>N</td>\n",
              "      <td>Cash</td>\n",
              "      <td>N</td>\n",
              "      <td>1</td>\n",
              "    </tr>\n",
              "    <tr>\n",
              "      <th>4</th>\n",
              "      <td>68476807</td>\n",
              "      <td>10400.0</td>\n",
              "      <td>60 months</td>\n",
              "      <td>22.45</td>\n",
              "      <td>F</td>\n",
              "      <td>F1</td>\n",
              "      <td>MORTGAGE</td>\n",
              "      <td>104433.0</td>\n",
              "      <td>Source Verified</td>\n",
              "      <td>Dec-2015</td>\n",
              "      <td>n</td>\n",
              "      <td>https://lendingclub.com/browse/loanDetail.acti...</td>\n",
              "      <td>major_purchase</td>\n",
              "      <td>174xx</td>\n",
              "      <td>PA</td>\n",
              "      <td>25.37</td>\n",
              "      <td>1.0</td>\n",
              "      <td>Jun-1998</td>\n",
              "      <td>699.0</td>\n",
              "      <td>3.0</td>\n",
              "      <td>12.0</td>\n",
              "      <td>0.0</td>\n",
              "      <td>21929.0</td>\n",
              "      <td>64.5</td>\n",
              "      <td>35.0</td>\n",
              "      <td>w</td>\n",
              "      <td>1340.50</td>\n",
              "      <td>0.0</td>\n",
              "      <td>0.0</td>\n",
              "      <td>Jul-2016</td>\n",
              "      <td>10128.96</td>\n",
              "      <td>Mar-2018</td>\n",
              "      <td>704.0</td>\n",
              "      <td>0.0</td>\n",
              "      <td>Individual</td>\n",
              "      <td>0.0</td>\n",
              "      <td>0.0</td>\n",
              "      <td>0.0</td>\n",
              "      <td>0.0</td>\n",
              "      <td>0.0</td>\n",
              "      <td>N</td>\n",
              "      <td>Cash</td>\n",
              "      <td>N</td>\n",
              "      <td>1</td>\n",
              "    </tr>\n",
              "    <tr>\n",
              "      <th>5</th>\n",
              "      <td>68426831</td>\n",
              "      <td>11950.0</td>\n",
              "      <td>36 months</td>\n",
              "      <td>13.44</td>\n",
              "      <td>C</td>\n",
              "      <td>C3</td>\n",
              "      <td>RENT</td>\n",
              "      <td>34000.0</td>\n",
              "      <td>Source Verified</td>\n",
              "      <td>Dec-2015</td>\n",
              "      <td>n</td>\n",
              "      <td>https://lendingclub.com/browse/loanDetail.acti...</td>\n",
              "      <td>debt_consolidation</td>\n",
              "      <td>300xx</td>\n",
              "      <td>GA</td>\n",
              "      <td>10.20</td>\n",
              "      <td>0.0</td>\n",
              "      <td>Oct-1987</td>\n",
              "      <td>694.0</td>\n",
              "      <td>0.0</td>\n",
              "      <td>5.0</td>\n",
              "      <td>0.0</td>\n",
              "      <td>8822.0</td>\n",
              "      <td>68.4</td>\n",
              "      <td>6.0</td>\n",
              "      <td>w</td>\n",
              "      <td>1758.95</td>\n",
              "      <td>0.0</td>\n",
              "      <td>0.0</td>\n",
              "      <td>May-2017</td>\n",
              "      <td>7653.56</td>\n",
              "      <td>May-2017</td>\n",
              "      <td>759.0</td>\n",
              "      <td>0.0</td>\n",
              "      <td>Individual</td>\n",
              "      <td>0.0</td>\n",
              "      <td>0.0</td>\n",
              "      <td>0.0</td>\n",
              "      <td>0.0</td>\n",
              "      <td>0.0</td>\n",
              "      <td>N</td>\n",
              "      <td>Cash</td>\n",
              "      <td>N</td>\n",
              "      <td>1</td>\n",
              "    </tr>\n",
              "  </tbody>\n",
              "</table>\n",
              "</div>"
            ],
            "text/plain": [
              "         id  loan_amnt  ... debt_settlement_flag  loan_paid\n",
              "0  68407277     3600.0  ...                    N          1\n",
              "1  68355089    24700.0  ...                    N          1\n",
              "2  68341763    20000.0  ...                    N          1\n",
              "4  68476807    10400.0  ...                    N          1\n",
              "5  68426831    11950.0  ...                    N          1\n",
              "\n",
              "[5 rows x 44 columns]"
            ]
          },
          "metadata": {},
          "execution_count": 31
        }
      ]
    },
    {
      "cell_type": "code",
      "metadata": {
        "colab": {
          "base_uri": "https://localhost:8080/",
          "height": 710
        },
        "id": "enwLfwStNB8H",
        "outputId": "e8dc9f47-df6f-442a-cb95-73df5feef21d"
      },
      "source": [
        "cat_cols = df_accepted.select_dtypes(include=['object']).columns\n",
        "print(cat_cols)\n",
        "df_accepted[cat_cols]"
      ],
      "execution_count": 32,
      "outputs": [
        {
          "output_type": "stream",
          "name": "stdout",
          "text": [
            "Index(['id', 'term', 'grade', 'sub_grade', 'home_ownership',\n",
            "       'verification_status', 'issue_d', 'pymnt_plan', 'url', 'purpose',\n",
            "       'zip_code', 'addr_state', 'earliest_cr_line', 'initial_list_status',\n",
            "       'last_pymnt_d', 'last_credit_pull_d', 'application_type',\n",
            "       'hardship_flag', 'disbursement_method', 'debt_settlement_flag'],\n",
            "      dtype='object')\n"
          ]
        },
        {
          "output_type": "execute_result",
          "data": {
            "text/html": [
              "<div>\n",
              "<style scoped>\n",
              "    .dataframe tbody tr th:only-of-type {\n",
              "        vertical-align: middle;\n",
              "    }\n",
              "\n",
              "    .dataframe tbody tr th {\n",
              "        vertical-align: top;\n",
              "    }\n",
              "\n",
              "    .dataframe thead th {\n",
              "        text-align: right;\n",
              "    }\n",
              "</style>\n",
              "<table border=\"1\" class=\"dataframe\">\n",
              "  <thead>\n",
              "    <tr style=\"text-align: right;\">\n",
              "      <th></th>\n",
              "      <th>id</th>\n",
              "      <th>term</th>\n",
              "      <th>grade</th>\n",
              "      <th>sub_grade</th>\n",
              "      <th>home_ownership</th>\n",
              "      <th>verification_status</th>\n",
              "      <th>issue_d</th>\n",
              "      <th>pymnt_plan</th>\n",
              "      <th>url</th>\n",
              "      <th>purpose</th>\n",
              "      <th>zip_code</th>\n",
              "      <th>addr_state</th>\n",
              "      <th>earliest_cr_line</th>\n",
              "      <th>initial_list_status</th>\n",
              "      <th>last_pymnt_d</th>\n",
              "      <th>last_credit_pull_d</th>\n",
              "      <th>application_type</th>\n",
              "      <th>hardship_flag</th>\n",
              "      <th>disbursement_method</th>\n",
              "      <th>debt_settlement_flag</th>\n",
              "    </tr>\n",
              "  </thead>\n",
              "  <tbody>\n",
              "    <tr>\n",
              "      <th>0</th>\n",
              "      <td>68407277</td>\n",
              "      <td>36 months</td>\n",
              "      <td>C</td>\n",
              "      <td>C4</td>\n",
              "      <td>MORTGAGE</td>\n",
              "      <td>Not Verified</td>\n",
              "      <td>Dec-2015</td>\n",
              "      <td>n</td>\n",
              "      <td>https://lendingclub.com/browse/loanDetail.acti...</td>\n",
              "      <td>debt_consolidation</td>\n",
              "      <td>190xx</td>\n",
              "      <td>PA</td>\n",
              "      <td>Aug-2003</td>\n",
              "      <td>w</td>\n",
              "      <td>Jan-2019</td>\n",
              "      <td>Mar-2019</td>\n",
              "      <td>Individual</td>\n",
              "      <td>N</td>\n",
              "      <td>Cash</td>\n",
              "      <td>N</td>\n",
              "    </tr>\n",
              "    <tr>\n",
              "      <th>1</th>\n",
              "      <td>68355089</td>\n",
              "      <td>36 months</td>\n",
              "      <td>C</td>\n",
              "      <td>C1</td>\n",
              "      <td>MORTGAGE</td>\n",
              "      <td>Not Verified</td>\n",
              "      <td>Dec-2015</td>\n",
              "      <td>n</td>\n",
              "      <td>https://lendingclub.com/browse/loanDetail.acti...</td>\n",
              "      <td>small_business</td>\n",
              "      <td>577xx</td>\n",
              "      <td>SD</td>\n",
              "      <td>Dec-1999</td>\n",
              "      <td>w</td>\n",
              "      <td>Jun-2016</td>\n",
              "      <td>Mar-2019</td>\n",
              "      <td>Individual</td>\n",
              "      <td>N</td>\n",
              "      <td>Cash</td>\n",
              "      <td>N</td>\n",
              "    </tr>\n",
              "    <tr>\n",
              "      <th>2</th>\n",
              "      <td>68341763</td>\n",
              "      <td>60 months</td>\n",
              "      <td>B</td>\n",
              "      <td>B4</td>\n",
              "      <td>MORTGAGE</td>\n",
              "      <td>Not Verified</td>\n",
              "      <td>Dec-2015</td>\n",
              "      <td>n</td>\n",
              "      <td>https://lendingclub.com/browse/loanDetail.acti...</td>\n",
              "      <td>home_improvement</td>\n",
              "      <td>605xx</td>\n",
              "      <td>IL</td>\n",
              "      <td>Aug-2000</td>\n",
              "      <td>w</td>\n",
              "      <td>Jun-2017</td>\n",
              "      <td>Mar-2019</td>\n",
              "      <td>Joint App</td>\n",
              "      <td>N</td>\n",
              "      <td>Cash</td>\n",
              "      <td>N</td>\n",
              "    </tr>\n",
              "    <tr>\n",
              "      <th>4</th>\n",
              "      <td>68476807</td>\n",
              "      <td>60 months</td>\n",
              "      <td>F</td>\n",
              "      <td>F1</td>\n",
              "      <td>MORTGAGE</td>\n",
              "      <td>Source Verified</td>\n",
              "      <td>Dec-2015</td>\n",
              "      <td>n</td>\n",
              "      <td>https://lendingclub.com/browse/loanDetail.acti...</td>\n",
              "      <td>major_purchase</td>\n",
              "      <td>174xx</td>\n",
              "      <td>PA</td>\n",
              "      <td>Jun-1998</td>\n",
              "      <td>w</td>\n",
              "      <td>Jul-2016</td>\n",
              "      <td>Mar-2018</td>\n",
              "      <td>Individual</td>\n",
              "      <td>N</td>\n",
              "      <td>Cash</td>\n",
              "      <td>N</td>\n",
              "    </tr>\n",
              "    <tr>\n",
              "      <th>5</th>\n",
              "      <td>68426831</td>\n",
              "      <td>36 months</td>\n",
              "      <td>C</td>\n",
              "      <td>C3</td>\n",
              "      <td>RENT</td>\n",
              "      <td>Source Verified</td>\n",
              "      <td>Dec-2015</td>\n",
              "      <td>n</td>\n",
              "      <td>https://lendingclub.com/browse/loanDetail.acti...</td>\n",
              "      <td>debt_consolidation</td>\n",
              "      <td>300xx</td>\n",
              "      <td>GA</td>\n",
              "      <td>Oct-1987</td>\n",
              "      <td>w</td>\n",
              "      <td>May-2017</td>\n",
              "      <td>May-2017</td>\n",
              "      <td>Individual</td>\n",
              "      <td>N</td>\n",
              "      <td>Cash</td>\n",
              "      <td>N</td>\n",
              "    </tr>\n",
              "    <tr>\n",
              "      <th>...</th>\n",
              "      <td>...</td>\n",
              "      <td>...</td>\n",
              "      <td>...</td>\n",
              "      <td>...</td>\n",
              "      <td>...</td>\n",
              "      <td>...</td>\n",
              "      <td>...</td>\n",
              "      <td>...</td>\n",
              "      <td>...</td>\n",
              "      <td>...</td>\n",
              "      <td>...</td>\n",
              "      <td>...</td>\n",
              "      <td>...</td>\n",
              "      <td>...</td>\n",
              "      <td>...</td>\n",
              "      <td>...</td>\n",
              "      <td>...</td>\n",
              "      <td>...</td>\n",
              "      <td>...</td>\n",
              "      <td>...</td>\n",
              "    </tr>\n",
              "    <tr>\n",
              "      <th>2260688</th>\n",
              "      <td>89905081</td>\n",
              "      <td>60 months</td>\n",
              "      <td>B</td>\n",
              "      <td>B2</td>\n",
              "      <td>OWN</td>\n",
              "      <td>Not Verified</td>\n",
              "      <td>Oct-2016</td>\n",
              "      <td>n</td>\n",
              "      <td>https://lendingclub.com/browse/loanDetail.acti...</td>\n",
              "      <td>home_improvement</td>\n",
              "      <td>775xx</td>\n",
              "      <td>TX</td>\n",
              "      <td>Jul-2004</td>\n",
              "      <td>f</td>\n",
              "      <td>Aug-2018</td>\n",
              "      <td>Mar-2019</td>\n",
              "      <td>Individual</td>\n",
              "      <td>N</td>\n",
              "      <td>Cash</td>\n",
              "      <td>N</td>\n",
              "    </tr>\n",
              "    <tr>\n",
              "      <th>2260690</th>\n",
              "      <td>88948836</td>\n",
              "      <td>60 months</td>\n",
              "      <td>C</td>\n",
              "      <td>C3</td>\n",
              "      <td>MORTGAGE</td>\n",
              "      <td>Not Verified</td>\n",
              "      <td>Oct-2016</td>\n",
              "      <td>n</td>\n",
              "      <td>https://lendingclub.com/browse/loanDetail.acti...</td>\n",
              "      <td>debt_consolidation</td>\n",
              "      <td>900xx</td>\n",
              "      <td>CA</td>\n",
              "      <td>Mar-2002</td>\n",
              "      <td>f</td>\n",
              "      <td>Jul-2018</td>\n",
              "      <td>Jul-2018</td>\n",
              "      <td>Individual</td>\n",
              "      <td>N</td>\n",
              "      <td>Cash</td>\n",
              "      <td>N</td>\n",
              "    </tr>\n",
              "    <tr>\n",
              "      <th>2260691</th>\n",
              "      <td>89996426</td>\n",
              "      <td>60 months</td>\n",
              "      <td>C</td>\n",
              "      <td>C4</td>\n",
              "      <td>MORTGAGE</td>\n",
              "      <td>Source Verified</td>\n",
              "      <td>Oct-2016</td>\n",
              "      <td>n</td>\n",
              "      <td>https://lendingclub.com/browse/loanDetail.acti...</td>\n",
              "      <td>home_improvement</td>\n",
              "      <td>863xx</td>\n",
              "      <td>AZ</td>\n",
              "      <td>Jun-2011</td>\n",
              "      <td>f</td>\n",
              "      <td>Mar-2017</td>\n",
              "      <td>Dec-2018</td>\n",
              "      <td>Individual</td>\n",
              "      <td>N</td>\n",
              "      <td>Cash</td>\n",
              "      <td>N</td>\n",
              "    </tr>\n",
              "    <tr>\n",
              "      <th>2260692</th>\n",
              "      <td>90006534</td>\n",
              "      <td>60 months</td>\n",
              "      <td>C</td>\n",
              "      <td>C1</td>\n",
              "      <td>RENT</td>\n",
              "      <td>Not Verified</td>\n",
              "      <td>Oct-2016</td>\n",
              "      <td>n</td>\n",
              "      <td>https://lendingclub.com/browse/loanDetail.acti...</td>\n",
              "      <td>medical</td>\n",
              "      <td>284xx</td>\n",
              "      <td>NC</td>\n",
              "      <td>Aug-1997</td>\n",
              "      <td>f</td>\n",
              "      <td>Mar-2018</td>\n",
              "      <td>Mar-2019</td>\n",
              "      <td>Individual</td>\n",
              "      <td>N</td>\n",
              "      <td>Cash</td>\n",
              "      <td>N</td>\n",
              "    </tr>\n",
              "    <tr>\n",
              "      <th>2260697</th>\n",
              "      <td>88224441</td>\n",
              "      <td>60 months</td>\n",
              "      <td>C</td>\n",
              "      <td>C4</td>\n",
              "      <td>RENT</td>\n",
              "      <td>Not Verified</td>\n",
              "      <td>Oct-2016</td>\n",
              "      <td>n</td>\n",
              "      <td>https://lendingclub.com/browse/loanDetail.acti...</td>\n",
              "      <td>debt_consolidation</td>\n",
              "      <td>334xx</td>\n",
              "      <td>FL</td>\n",
              "      <td>Jul-1999</td>\n",
              "      <td>f</td>\n",
              "      <td>Oct-2017</td>\n",
              "      <td>Mar-2019</td>\n",
              "      <td>Individual</td>\n",
              "      <td>N</td>\n",
              "      <td>Cash</td>\n",
              "      <td>Y</td>\n",
              "    </tr>\n",
              "  </tbody>\n",
              "</table>\n",
              "<p>1341026 rows × 20 columns</p>\n",
              "</div>"
            ],
            "text/plain": [
              "               id        term  ... disbursement_method debt_settlement_flag\n",
              "0        68407277   36 months  ...                Cash                    N\n",
              "1        68355089   36 months  ...                Cash                    N\n",
              "2        68341763   60 months  ...                Cash                    N\n",
              "4        68476807   60 months  ...                Cash                    N\n",
              "5        68426831   36 months  ...                Cash                    N\n",
              "...           ...         ...  ...                 ...                  ...\n",
              "2260688  89905081   60 months  ...                Cash                    N\n",
              "2260690  88948836   60 months  ...                Cash                    N\n",
              "2260691  89996426   60 months  ...                Cash                    N\n",
              "2260692  90006534   60 months  ...                Cash                    N\n",
              "2260697  88224441   60 months  ...                Cash                    Y\n",
              "\n",
              "[1341026 rows x 20 columns]"
            ]
          },
          "metadata": {},
          "execution_count": 32
        }
      ]
    },
    {
      "cell_type": "code",
      "metadata": {
        "colab": {
          "base_uri": "https://localhost:8080/"
        },
        "id": "cMqEC2l4NIiu",
        "outputId": "a2eee93d-815a-4ab1-d20a-f709eeedc32b"
      },
      "source": [
        "# droping constant columns\n",
        "\n",
        "print(df_accepted.pymnt_plan.value_counts())\n",
        "print(df_accepted.hardship_flag.value_counts())\n",
        "\n",
        "cols_to_drop = ['id', 'pymnt_plan', 'hardship_flag']\n",
        "df_accepted = df_accepted.drop(columns=cols_to_drop)\n",
        "df_accepted.shape"
      ],
      "execution_count": 33,
      "outputs": [
        {
          "output_type": "stream",
          "name": "stdout",
          "text": [
            "n    1341026\n",
            "Name: pymnt_plan, dtype: int64\n",
            "N    1341026\n",
            "Name: hardship_flag, dtype: int64\n"
          ]
        },
        {
          "output_type": "execute_result",
          "data": {
            "text/plain": [
              "(1341026, 41)"
            ]
          },
          "metadata": {},
          "execution_count": 33
        }
      ]
    },
    {
      "cell_type": "code",
      "metadata": {
        "colab": {
          "base_uri": "https://localhost:8080/"
        },
        "id": "4PBXeV67NZ3u",
        "outputId": "dbcbbff9-eccc-48a2-e34e-e530ee047cfc"
      },
      "source": [
        "cat_cols = df_accepted.select_dtypes(include=['object']).columns\n",
        "print(cat_cols)"
      ],
      "execution_count": 34,
      "outputs": [
        {
          "output_type": "stream",
          "name": "stdout",
          "text": [
            "Index(['term', 'grade', 'sub_grade', 'home_ownership', 'verification_status',\n",
            "       'issue_d', 'url', 'purpose', 'zip_code', 'addr_state',\n",
            "       'earliest_cr_line', 'initial_list_status', 'last_pymnt_d',\n",
            "       'last_credit_pull_d', 'application_type', 'disbursement_method',\n",
            "       'debt_settlement_flag'],\n",
            "      dtype='object')\n"
          ]
        }
      ]
    },
    {
      "cell_type": "code",
      "metadata": {
        "colab": {
          "base_uri": "https://localhost:8080/"
        },
        "id": "LoSKhJejNhyZ",
        "outputId": "731173a6-b14c-4968-a095-230206a46018"
      },
      "source": [
        "print(df_accepted.term.value_counts())\n",
        "\n",
        "# convert term into either a 36 or 60 integer numeric data type\n",
        "\n",
        "l1 = df_accepted.term.unique()\n",
        "l2 = [36, 60]\n",
        "d = dict(zip(l1, l2))\n",
        "\n",
        "df_accepted['term'] = df_accepted['term'].map(d)"
      ],
      "execution_count": 35,
      "outputs": [
        {
          "output_type": "stream",
          "name": "stdout",
          "text": [
            " 36 months    1017398\n",
            " 60 months     323628\n",
            "Name: term, dtype: int64\n"
          ]
        }
      ]
    },
    {
      "cell_type": "code",
      "metadata": {
        "colab": {
          "base_uri": "https://localhost:8080/"
        },
        "id": "ye26LRQLNyUq",
        "outputId": "c8e13aad-0708-47f4-a018-243a6b297d01"
      },
      "source": [
        "print(df_accepted.grade.value_counts())\n",
        "print(df_accepted.sub_grade.value_counts())"
      ],
      "execution_count": 36,
      "outputs": [
        {
          "output_type": "stream",
          "name": "stdout",
          "text": [
            "B    391850\n",
            "C    380490\n",
            "A    234657\n",
            "D    200019\n",
            "E     93126\n",
            "F     31854\n",
            "G      9030\n",
            "Name: grade, dtype: int64\n",
            "C1    85247\n",
            "B4    83003\n",
            "B5    82327\n",
            "B3    81658\n",
            "C2    78960\n",
            "C3    74781\n",
            "C4    74173\n",
            "B2    73870\n",
            "B1    70992\n",
            "C5    67329\n",
            "A5    63892\n",
            "A4    52135\n",
            "D1    51092\n",
            "D2    44637\n",
            "A1    43634\n",
            "D3    39134\n",
            "A3    37900\n",
            "A2    37096\n",
            "D4    35412\n",
            "D5    29744\n",
            "E1    23657\n",
            "E2    21244\n",
            "E3    18279\n",
            "E4    15621\n",
            "E5    14325\n",
            "F1     9914\n",
            "F2     7149\n",
            "F3     6055\n",
            "F4     4826\n",
            "F5     3910\n",
            "G1     2967\n",
            "G2     2109\n",
            "G3     1600\n",
            "G4     1259\n",
            "G5     1095\n",
            "Name: sub_grade, dtype: int64\n"
          ]
        }
      ]
    },
    {
      "cell_type": "code",
      "metadata": {
        "colab": {
          "base_uri": "https://localhost:8080/",
          "height": 297
        },
        "id": "ofx2a6v5N1WR",
        "outputId": "be1080d2-1530-4ded-dd21-d5a8aa23525c"
      },
      "source": [
        "# checking count per grade and loan_paid\n",
        "\n",
        "sns.countplot(x=df_accepted.grade, hue=df_accepted.loan_paid)"
      ],
      "execution_count": 37,
      "outputs": [
        {
          "output_type": "execute_result",
          "data": {
            "text/plain": [
              "<matplotlib.axes._subplots.AxesSubplot at 0x7f8d5220d290>"
            ]
          },
          "metadata": {},
          "execution_count": 37
        },
        {
          "output_type": "display_data",
          "data": {
            "image/png": "[encoded data removed]",
            "text/plain": [
              "<Figure size 432x288 with 1 Axes>"
            ]
          },
          "metadata": {
            "needs_background": "light"
          }
        }
      ]
    },
    {
      "cell_type": "code",
      "metadata": {
        "colab": {
          "base_uri": "https://localhost:8080/",
          "height": 298
        },
        "id": "U-ERPEy6OFDU",
        "outputId": "0ed92499-4a87-43ec-80b6-841601839c19"
      },
      "source": [
        "# checking count per subgrade and loan_paid\n",
        "\n",
        "l = list(df_accepted.sub_grade.unique())\n",
        "l.sort()\n",
        "\n",
        "plt.figure(figsize=(12,4))\n",
        "sns.countplot(x=df_accepted.sub_grade, order=l, hue=df_accepted.loan_paid, palette='coolwarm')"
      ],
      "execution_count": 38,
      "outputs": [
        {
          "output_type": "execute_result",
          "data": {
            "text/plain": [
              "<matplotlib.axes._subplots.AxesSubplot at 0x7f8d4d40d950>"
            ]
          },
          "metadata": {},
          "execution_count": 38
        },
        {
          "output_type": "display_data",
          "data": {
            "image/png": "[encoded data removed]",
            "text/plain": [
              "<Figure size 864x288 with 1 Axes>"
            ]
          },
          "metadata": {
            "needs_background": "light"
          }
        }
      ]
    },
    {
      "cell_type": "code",
      "metadata": {
        "id": "jE6rDQx4OQ9x"
      },
      "source": [
        "# as grade is part of sub_grade, so let's just drop the grade feature.\n",
        "\n",
        "df_accepted = df_accepted.drop(columns='grade')"
      ],
      "execution_count": 39,
      "outputs": []
    },
    {
      "cell_type": "code",
      "metadata": {
        "id": "81NC-z7wOe_t"
      },
      "source": [
        "df_accepted = pd.get_dummies(df_accepted, columns = ['sub_grade'], prefix='', prefix_sep='', drop_first=True)"
      ],
      "execution_count": 40,
      "outputs": []
    },
    {
      "cell_type": "code",
      "metadata": {
        "colab": {
          "base_uri": "https://localhost:8080/"
        },
        "id": "KnwaYkUQOhGI",
        "outputId": "7f6d1713-ca37-43c2-b56a-930c7c2ddb9f"
      },
      "source": [
        "cat_cols = df_accepted.select_dtypes(include=['object']).columns\n",
        "print(cat_cols)"
      ],
      "execution_count": 41,
      "outputs": [
        {
          "output_type": "stream",
          "name": "stdout",
          "text": [
            "Index(['home_ownership', 'verification_status', 'issue_d', 'url', 'purpose',\n",
            "       'zip_code', 'addr_state', 'earliest_cr_line', 'initial_list_status',\n",
            "       'last_pymnt_d', 'last_credit_pull_d', 'application_type',\n",
            "       'disbursement_method', 'debt_settlement_flag'],\n",
            "      dtype='object')\n"
          ]
        }
      ]
    },
    {
      "cell_type": "markdown",
      "metadata": {
        "id": "YcOL6UOfO0xm"
      },
      "source": [
        "features verification_status, application_type, initial_list_status, purpose"
      ]
    },
    {
      "cell_type": "code",
      "metadata": {
        "colab": {
          "base_uri": "https://localhost:8080/"
        },
        "id": "lHgO-EnlO1Vu",
        "outputId": "bc31dd9f-1627-4045-cff2-83ec4e5a5f5b"
      },
      "source": [
        "print(df_accepted.verification_status.unique())\n",
        "print(df_accepted.application_type.unique())\n",
        "print(df_accepted.initial_list_status.unique())\n",
        "print(df_accepted.purpose.unique())"
      ],
      "execution_count": 42,
      "outputs": [
        {
          "output_type": "stream",
          "name": "stdout",
          "text": [
            "['Not Verified' 'Source Verified' 'Verified']\n",
            "['Individual' 'Joint App']\n",
            "['w' 'f']\n",
            "['debt_consolidation' 'small_business' 'home_improvement' 'major_purchase'\n",
            " 'credit_card' 'other' 'house' 'vacation' 'car' 'medical' 'moving'\n",
            " 'renewable_energy' 'wedding' 'educational']\n"
          ]
        }
      ]
    },
    {
      "cell_type": "code",
      "metadata": {
        "id": "Ob7EHnesPDDE"
      },
      "source": [
        "# for these columns, let's just create dummy variables, concatenate them with the original dataframe and drop original columns.\n",
        "\n",
        "df_accepted = pd.get_dummies(df_accepted, columns = ['verification_status'], prefix='', prefix_sep='', drop_first=True)\n",
        "df_accepted = pd.get_dummies(df_accepted, columns = ['application_type'], prefix='', prefix_sep='', drop_first=True)\n",
        "df_accepted = pd.get_dummies(df_accepted, columns = ['initial_list_status'], prefix='', prefix_sep='', drop_first=True)\n",
        "df_accepted = pd.get_dummies(df_accepted, columns = ['purpose'], prefix='', prefix_sep='', drop_first=True)"
      ],
      "execution_count": 43,
      "outputs": []
    },
    {
      "cell_type": "code",
      "metadata": {
        "colab": {
          "base_uri": "https://localhost:8080/",
          "height": 622
        },
        "id": "qUDhuBzrPGmb",
        "outputId": "0da5d85c-d31f-4f31-a986-121ff35bbca4"
      },
      "source": [
        "df_accepted"
      ],
      "execution_count": 44,
      "outputs": [
        {
          "output_type": "execute_result",
          "data": {
            "text/html": [
              "<div>\n",
              "<style scoped>\n",
              "    .dataframe tbody tr th:only-of-type {\n",
              "        vertical-align: middle;\n",
              "    }\n",
              "\n",
              "    .dataframe tbody tr th {\n",
              "        vertical-align: top;\n",
              "    }\n",
              "\n",
              "    .dataframe thead th {\n",
              "        text-align: right;\n",
              "    }\n",
              "</style>\n",
              "<table border=\"1\" class=\"dataframe\">\n",
              "  <thead>\n",
              "    <tr style=\"text-align: right;\">\n",
              "      <th></th>\n",
              "      <th>loan_amnt</th>\n",
              "      <th>term</th>\n",
              "      <th>int_rate</th>\n",
              "      <th>home_ownership</th>\n",
              "      <th>annual_inc</th>\n",
              "      <th>issue_d</th>\n",
              "      <th>url</th>\n",
              "      <th>zip_code</th>\n",
              "      <th>addr_state</th>\n",
              "      <th>dti</th>\n",
              "      <th>delinq_2yrs</th>\n",
              "      <th>earliest_cr_line</th>\n",
              "      <th>fico_range_high</th>\n",
              "      <th>inq_last_6mths</th>\n",
              "      <th>open_acc</th>\n",
              "      <th>pub_rec</th>\n",
              "      <th>revol_bal</th>\n",
              "      <th>revol_util</th>\n",
              "      <th>total_acc</th>\n",
              "      <th>total_rec_int</th>\n",
              "      <th>total_rec_late_fee</th>\n",
              "      <th>recoveries</th>\n",
              "      <th>last_pymnt_d</th>\n",
              "      <th>last_pymnt_amnt</th>\n",
              "      <th>last_credit_pull_d</th>\n",
              "      <th>last_fico_range_high</th>\n",
              "      <th>collections_12_mths_ex_med</th>\n",
              "      <th>acc_now_delinq</th>\n",
              "      <th>chargeoff_within_12_mths</th>\n",
              "      <th>delinq_amnt</th>\n",
              "      <th>pub_rec_bankruptcies</th>\n",
              "      <th>tax_liens</th>\n",
              "      <th>disbursement_method</th>\n",
              "      <th>debt_settlement_flag</th>\n",
              "      <th>loan_paid</th>\n",
              "      <th>A2</th>\n",
              "      <th>A3</th>\n",
              "      <th>A4</th>\n",
              "      <th>A5</th>\n",
              "      <th>B1</th>\n",
              "      <th>...</th>\n",
              "      <th>C3</th>\n",
              "      <th>C4</th>\n",
              "      <th>C5</th>\n",
              "      <th>D1</th>\n",
              "      <th>D2</th>\n",
              "      <th>D3</th>\n",
              "      <th>D4</th>\n",
              "      <th>D5</th>\n",
              "      <th>E1</th>\n",
              "      <th>E2</th>\n",
              "      <th>E3</th>\n",
              "      <th>E4</th>\n",
              "      <th>E5</th>\n",
              "      <th>F1</th>\n",
              "      <th>F2</th>\n",
              "      <th>F3</th>\n",
              "      <th>F4</th>\n",
              "      <th>F5</th>\n",
              "      <th>G1</th>\n",
              "      <th>G2</th>\n",
              "      <th>G3</th>\n",
              "      <th>G4</th>\n",
              "      <th>G5</th>\n",
              "      <th>Source Verified</th>\n",
              "      <th>Verified</th>\n",
              "      <th>Joint App</th>\n",
              "      <th>w</th>\n",
              "      <th>credit_card</th>\n",
              "      <th>debt_consolidation</th>\n",
              "      <th>educational</th>\n",
              "      <th>home_improvement</th>\n",
              "      <th>house</th>\n",
              "      <th>major_purchase</th>\n",
              "      <th>medical</th>\n",
              "      <th>moving</th>\n",
              "      <th>other</th>\n",
              "      <th>renewable_energy</th>\n",
              "      <th>small_business</th>\n",
              "      <th>vacation</th>\n",
              "      <th>wedding</th>\n",
              "    </tr>\n",
              "  </thead>\n",
              "  <tbody>\n",
              "    <tr>\n",
              "      <th>0</th>\n",
              "      <td>3600.0</td>\n",
              "      <td>36</td>\n",
              "      <td>13.99</td>\n",
              "      <td>MORTGAGE</td>\n",
              "      <td>55000.0</td>\n",
              "      <td>Dec-2015</td>\n",
              "      <td>https://lendingclub.com/browse/loanDetail.acti...</td>\n",
              "      <td>190xx</td>\n",
              "      <td>PA</td>\n",
              "      <td>5.91</td>\n",
              "      <td>0.0</td>\n",
              "      <td>Aug-2003</td>\n",
              "      <td>679.0</td>\n",
              "      <td>1.0</td>\n",
              "      <td>7.0</td>\n",
              "      <td>0.0</td>\n",
              "      <td>2765.0</td>\n",
              "      <td>29.7</td>\n",
              "      <td>13.0</td>\n",
              "      <td>821.72</td>\n",
              "      <td>0.0</td>\n",
              "      <td>0.0</td>\n",
              "      <td>Jan-2019</td>\n",
              "      <td>122.67</td>\n",
              "      <td>Mar-2019</td>\n",
              "      <td>564.0</td>\n",
              "      <td>0.0</td>\n",
              "      <td>0.0</td>\n",
              "      <td>0.0</td>\n",
              "      <td>0.0</td>\n",
              "      <td>0.0</td>\n",
              "      <td>0.0</td>\n",
              "      <td>Cash</td>\n",
              "      <td>N</td>\n",
              "      <td>1</td>\n",
              "      <td>0</td>\n",
              "      <td>0</td>\n",
              "      <td>0</td>\n",
              "      <td>0</td>\n",
              "      <td>0</td>\n",
              "      <td>...</td>\n",
              "      <td>0</td>\n",
              "      <td>1</td>\n",
              "      <td>0</td>\n",
              "      <td>0</td>\n",
              "      <td>0</td>\n",
              "      <td>0</td>\n",
              "      <td>0</td>\n",
              "      <td>0</td>\n",
              "      <td>0</td>\n",
              "      <td>0</td>\n",
              "      <td>0</td>\n",
              "      <td>0</td>\n",
              "      <td>0</td>\n",
              "      <td>0</td>\n",
              "      <td>0</td>\n",
              "      <td>0</td>\n",
              "      <td>0</td>\n",
              "      <td>0</td>\n",
              "      <td>0</td>\n",
              "      <td>0</td>\n",
              "      <td>0</td>\n",
              "      <td>0</td>\n",
              "      <td>0</td>\n",
              "      <td>0</td>\n",
              "      <td>0</td>\n",
              "      <td>0</td>\n",
              "      <td>1</td>\n",
              "      <td>0</td>\n",
              "      <td>1</td>\n",
              "      <td>0</td>\n",
              "      <td>0</td>\n",
              "      <td>0</td>\n",
              "      <td>0</td>\n",
              "      <td>0</td>\n",
              "      <td>0</td>\n",
              "      <td>0</td>\n",
              "      <td>0</td>\n",
              "      <td>0</td>\n",
              "      <td>0</td>\n",
              "      <td>0</td>\n",
              "    </tr>\n",
              "    <tr>\n",
              "      <th>1</th>\n",
              "      <td>24700.0</td>\n",
              "      <td>36</td>\n",
              "      <td>11.99</td>\n",
              "      <td>MORTGAGE</td>\n",
              "      <td>65000.0</td>\n",
              "      <td>Dec-2015</td>\n",
              "      <td>https://lendingclub.com/browse/loanDetail.acti...</td>\n",
              "      <td>577xx</td>\n",
              "      <td>SD</td>\n",
              "      <td>16.06</td>\n",
              "      <td>1.0</td>\n",
              "      <td>Dec-1999</td>\n",
              "      <td>719.0</td>\n",
              "      <td>4.0</td>\n",
              "      <td>22.0</td>\n",
              "      <td>0.0</td>\n",
              "      <td>21470.0</td>\n",
              "      <td>19.2</td>\n",
              "      <td>38.0</td>\n",
              "      <td>979.66</td>\n",
              "      <td>0.0</td>\n",
              "      <td>0.0</td>\n",
              "      <td>Jun-2016</td>\n",
              "      <td>926.35</td>\n",
              "      <td>Mar-2019</td>\n",
              "      <td>699.0</td>\n",
              "      <td>0.0</td>\n",
              "      <td>0.0</td>\n",
              "      <td>0.0</td>\n",
              "      <td>0.0</td>\n",
              "      <td>0.0</td>\n",
              "      <td>0.0</td>\n",
              "      <td>Cash</td>\n",
              "      <td>N</td>\n",
              "      <td>1</td>\n",
              "      <td>0</td>\n",
              "      <td>0</td>\n",
              "      <td>0</td>\n",
              "      <td>0</td>\n",
              "      <td>0</td>\n",
              "      <td>...</td>\n",
              "      <td>0</td>\n",
              "      <td>0</td>\n",
              "      <td>0</td>\n",
              "      <td>0</td>\n",
              "      <td>0</td>\n",
              "      <td>0</td>\n",
              "      <td>0</td>\n",
              "      <td>0</td>\n",
              "      <td>0</td>\n",
              "      <td>0</td>\n",
              "      <td>0</td>\n",
              "      <td>0</td>\n",
              "      <td>0</td>\n",
              "      <td>0</td>\n",
              "      <td>0</td>\n",
              "      <td>0</td>\n",
              "      <td>0</td>\n",
              "      <td>0</td>\n",
              "      <td>0</td>\n",
              "      <td>0</td>\n",
              "      <td>0</td>\n",
              "      <td>0</td>\n",
              "      <td>0</td>\n",
              "      <td>0</td>\n",
              "      <td>0</td>\n",
              "      <td>0</td>\n",
              "      <td>1</td>\n",
              "      <td>0</td>\n",
              "      <td>0</td>\n",
              "      <td>0</td>\n",
              "      <td>0</td>\n",
              "      <td>0</td>\n",
              "      <td>0</td>\n",
              "      <td>0</td>\n",
              "      <td>0</td>\n",
              "      <td>0</td>\n",
              "      <td>0</td>\n",
              "      <td>1</td>\n",
              "      <td>0</td>\n",
              "      <td>0</td>\n",
              "    </tr>\n",
              "    <tr>\n",
              "      <th>2</th>\n",
              "      <td>20000.0</td>\n",
              "      <td>60</td>\n",
              "      <td>10.78</td>\n",
              "      <td>MORTGAGE</td>\n",
              "      <td>63000.0</td>\n",
              "      <td>Dec-2015</td>\n",
              "      <td>https://lendingclub.com/browse/loanDetail.acti...</td>\n",
              "      <td>605xx</td>\n",
              "      <td>IL</td>\n",
              "      <td>10.78</td>\n",
              "      <td>0.0</td>\n",
              "      <td>Aug-2000</td>\n",
              "      <td>699.0</td>\n",
              "      <td>0.0</td>\n",
              "      <td>6.0</td>\n",
              "      <td>0.0</td>\n",
              "      <td>7869.0</td>\n",
              "      <td>56.2</td>\n",
              "      <td>18.0</td>\n",
              "      <td>2705.92</td>\n",
              "      <td>0.0</td>\n",
              "      <td>0.0</td>\n",
              "      <td>Jun-2017</td>\n",
              "      <td>15813.30</td>\n",
              "      <td>Mar-2019</td>\n",
              "      <td>704.0</td>\n",
              "      <td>0.0</td>\n",
              "      <td>0.0</td>\n",
              "      <td>0.0</td>\n",
              "      <td>0.0</td>\n",
              "      <td>0.0</td>\n",
              "      <td>0.0</td>\n",
              "      <td>Cash</td>\n",
              "      <td>N</td>\n",
              "      <td>1</td>\n",
              "      <td>0</td>\n",
              "      <td>0</td>\n",
              "      <td>0</td>\n",
              "      <td>0</td>\n",
              "      <td>0</td>\n",
              "      <td>...</td>\n",
              "      <td>0</td>\n",
              "      <td>0</td>\n",
              "      <td>0</td>\n",
              "      <td>0</td>\n",
              "      <td>0</td>\n",
              "      <td>0</td>\n",
              "      <td>0</td>\n",
              "      <td>0</td>\n",
              "      <td>0</td>\n",
              "      <td>0</td>\n",
              "      <td>0</td>\n",
              "      <td>0</td>\n",
              "      <td>0</td>\n",
              "      <td>0</td>\n",
              "      <td>0</td>\n",
              "      <td>0</td>\n",
              "      <td>0</td>\n",
              "      <td>0</td>\n",
              "      <td>0</td>\n",
              "      <td>0</td>\n",
              "      <td>0</td>\n",
              "      <td>0</td>\n",
              "      <td>0</td>\n",
              "      <td>0</td>\n",
              "      <td>0</td>\n",
              "      <td>1</td>\n",
              "      <td>1</td>\n",
              "      <td>0</td>\n",
              "      <td>0</td>\n",
              "      <td>0</td>\n",
              "      <td>1</td>\n",
              "      <td>0</td>\n",
              "      <td>0</td>\n",
              "      <td>0</td>\n",
              "      <td>0</td>\n",
              "      <td>0</td>\n",
              "      <td>0</td>\n",
              "      <td>0</td>\n",
              "      <td>0</td>\n",
              "      <td>0</td>\n",
              "    </tr>\n",
              "    <tr>\n",
              "      <th>4</th>\n",
              "      <td>10400.0</td>\n",
              "      <td>60</td>\n",
              "      <td>22.45</td>\n",
              "      <td>MORTGAGE</td>\n",
              "      <td>104433.0</td>\n",
              "      <td>Dec-2015</td>\n",
              "      <td>https://lendingclub.com/browse/loanDetail.acti...</td>\n",
              "      <td>174xx</td>\n",
              "      <td>PA</td>\n",
              "      <td>25.37</td>\n",
              "      <td>1.0</td>\n",
              "      <td>Jun-1998</td>\n",
              "      <td>699.0</td>\n",
              "      <td>3.0</td>\n",
              "      <td>12.0</td>\n",
              "      <td>0.0</td>\n",
              "      <td>21929.0</td>\n",
              "      <td>64.5</td>\n",
              "      <td>35.0</td>\n",
              "      <td>1340.50</td>\n",
              "      <td>0.0</td>\n",
              "      <td>0.0</td>\n",
              "      <td>Jul-2016</td>\n",
              "      <td>10128.96</td>\n",
              "      <td>Mar-2018</td>\n",
              "      <td>704.0</td>\n",
              "      <td>0.0</td>\n",
              "      <td>0.0</td>\n",
              "      <td>0.0</td>\n",
              "      <td>0.0</td>\n",
              "      <td>0.0</td>\n",
              "      <td>0.0</td>\n",
              "      <td>Cash</td>\n",
              "      <td>N</td>\n",
              "      <td>1</td>\n",
              "      <td>0</td>\n",
              "      <td>0</td>\n",
              "      <td>0</td>\n",
              "      <td>0</td>\n",
              "      <td>0</td>\n",
              "      <td>...</td>\n",
              "      <td>0</td>\n",
              "      <td>0</td>\n",
              "      <td>0</td>\n",
              "      <td>0</td>\n",
              "      <td>0</td>\n",
              "      <td>0</td>\n",
              "      <td>0</td>\n",
              "      <td>0</td>\n",
              "      <td>0</td>\n",
              "      <td>0</td>\n",
              "      <td>0</td>\n",
              "      <td>0</td>\n",
              "      <td>0</td>\n",
              "      <td>1</td>\n",
              "      <td>0</td>\n",
              "      <td>0</td>\n",
              "      <td>0</td>\n",
              "      <td>0</td>\n",
              "      <td>0</td>\n",
              "      <td>0</td>\n",
              "      <td>0</td>\n",
              "      <td>0</td>\n",
              "      <td>0</td>\n",
              "      <td>1</td>\n",
              "      <td>0</td>\n",
              "      <td>0</td>\n",
              "      <td>1</td>\n",
              "      <td>0</td>\n",
              "      <td>0</td>\n",
              "      <td>0</td>\n",
              "      <td>0</td>\n",
              "      <td>0</td>\n",
              "      <td>1</td>\n",
              "      <td>0</td>\n",
              "      <td>0</td>\n",
              "      <td>0</td>\n",
              "      <td>0</td>\n",
              "      <td>0</td>\n",
              "      <td>0</td>\n",
              "      <td>0</td>\n",
              "    </tr>\n",
              "    <tr>\n",
              "      <th>5</th>\n",
              "      <td>11950.0</td>\n",
              "      <td>36</td>\n",
              "      <td>13.44</td>\n",
              "      <td>RENT</td>\n",
              "      <td>34000.0</td>\n",
              "      <td>Dec-2015</td>\n",
              "      <td>https://lendingclub.com/browse/loanDetail.acti...</td>\n",
              "      <td>300xx</td>\n",
              "      <td>GA</td>\n",
              "      <td>10.20</td>\n",
              "      <td>0.0</td>\n",
              "      <td>Oct-1987</td>\n",
              "      <td>694.0</td>\n",
              "      <td>0.0</td>\n",
              "      <td>5.0</td>\n",
              "      <td>0.0</td>\n",
              "      <td>8822.0</td>\n",
              "      <td>68.4</td>\n",
              "      <td>6.0</td>\n",
              "      <td>1758.95</td>\n",
              "      <td>0.0</td>\n",
              "      <td>0.0</td>\n",
              "      <td>May-2017</td>\n",
              "      <td>7653.56</td>\n",
              "      <td>May-2017</td>\n",
              "      <td>759.0</td>\n",
              "      <td>0.0</td>\n",
              "      <td>0.0</td>\n",
              "      <td>0.0</td>\n",
              "      <td>0.0</td>\n",
              "      <td>0.0</td>\n",
              "      <td>0.0</td>\n",
              "      <td>Cash</td>\n",
              "      <td>N</td>\n",
              "      <td>1</td>\n",
              "      <td>0</td>\n",
              "      <td>0</td>\n",
              "      <td>0</td>\n",
              "      <td>0</td>\n",
              "      <td>0</td>\n",
              "      <td>...</td>\n",
              "      <td>1</td>\n",
              "      <td>0</td>\n",
              "      <td>0</td>\n",
              "      <td>0</td>\n",
              "      <td>0</td>\n",
              "      <td>0</td>\n",
              "      <td>0</td>\n",
              "      <td>0</td>\n",
              "      <td>0</td>\n",
              "      <td>0</td>\n",
              "      <td>0</td>\n",
              "      <td>0</td>\n",
              "      <td>0</td>\n",
              "      <td>0</td>\n",
              "      <td>0</td>\n",
              "      <td>0</td>\n",
              "      <td>0</td>\n",
              "      <td>0</td>\n",
              "      <td>0</td>\n",
              "      <td>0</td>\n",
              "      <td>0</td>\n",
              "      <td>0</td>\n",
              "      <td>0</td>\n",
              "      <td>1</td>\n",
              "      <td>0</td>\n",
              "      <td>0</td>\n",
              "      <td>1</td>\n",
              "      <td>0</td>\n",
              "      <td>1</td>\n",
              "      <td>0</td>\n",
              "      <td>0</td>\n",
              "      <td>0</td>\n",
              "      <td>0</td>\n",
              "      <td>0</td>\n",
              "      <td>0</td>\n",
              "      <td>0</td>\n",
              "      <td>0</td>\n",
              "      <td>0</td>\n",
              "      <td>0</td>\n",
              "      <td>0</td>\n",
              "    </tr>\n",
              "    <tr>\n",
              "      <th>...</th>\n",
              "      <td>...</td>\n",
              "      <td>...</td>\n",
              "      <td>...</td>\n",
              "      <td>...</td>\n",
              "      <td>...</td>\n",
              "      <td>...</td>\n",
              "      <td>...</td>\n",
              "      <td>...</td>\n",
              "      <td>...</td>\n",
              "      <td>...</td>\n",
              "      <td>...</td>\n",
              "      <td>...</td>\n",
              "      <td>...</td>\n",
              "      <td>...</td>\n",
              "      <td>...</td>\n",
              "      <td>...</td>\n",
              "      <td>...</td>\n",
              "      <td>...</td>\n",
              "      <td>...</td>\n",
              "      <td>...</td>\n",
              "      <td>...</td>\n",
              "      <td>...</td>\n",
              "      <td>...</td>\n",
              "      <td>...</td>\n",
              "      <td>...</td>\n",
              "      <td>...</td>\n",
              "      <td>...</td>\n",
              "      <td>...</td>\n",
              "      <td>...</td>\n",
              "      <td>...</td>\n",
              "      <td>...</td>\n",
              "      <td>...</td>\n",
              "      <td>...</td>\n",
              "      <td>...</td>\n",
              "      <td>...</td>\n",
              "      <td>...</td>\n",
              "      <td>...</td>\n",
              "      <td>...</td>\n",
              "      <td>...</td>\n",
              "      <td>...</td>\n",
              "      <td>...</td>\n",
              "      <td>...</td>\n",
              "      <td>...</td>\n",
              "      <td>...</td>\n",
              "      <td>...</td>\n",
              "      <td>...</td>\n",
              "      <td>...</td>\n",
              "      <td>...</td>\n",
              "      <td>...</td>\n",
              "      <td>...</td>\n",
              "      <td>...</td>\n",
              "      <td>...</td>\n",
              "      <td>...</td>\n",
              "      <td>...</td>\n",
              "      <td>...</td>\n",
              "      <td>...</td>\n",
              "      <td>...</td>\n",
              "      <td>...</td>\n",
              "      <td>...</td>\n",
              "      <td>...</td>\n",
              "      <td>...</td>\n",
              "      <td>...</td>\n",
              "      <td>...</td>\n",
              "      <td>...</td>\n",
              "      <td>...</td>\n",
              "      <td>...</td>\n",
              "      <td>...</td>\n",
              "      <td>...</td>\n",
              "      <td>...</td>\n",
              "      <td>...</td>\n",
              "      <td>...</td>\n",
              "      <td>...</td>\n",
              "      <td>...</td>\n",
              "      <td>...</td>\n",
              "      <td>...</td>\n",
              "      <td>...</td>\n",
              "      <td>...</td>\n",
              "      <td>...</td>\n",
              "      <td>...</td>\n",
              "      <td>...</td>\n",
              "      <td>...</td>\n",
              "    </tr>\n",
              "    <tr>\n",
              "      <th>2260688</th>\n",
              "      <td>18000.0</td>\n",
              "      <td>60</td>\n",
              "      <td>9.49</td>\n",
              "      <td>OWN</td>\n",
              "      <td>130000.0</td>\n",
              "      <td>Oct-2016</td>\n",
              "      <td>https://lendingclub.com/browse/loanDetail.acti...</td>\n",
              "      <td>775xx</td>\n",
              "      <td>TX</td>\n",
              "      <td>20.59</td>\n",
              "      <td>0.0</td>\n",
              "      <td>Jul-2004</td>\n",
              "      <td>739.0</td>\n",
              "      <td>1.0</td>\n",
              "      <td>17.0</td>\n",
              "      <td>0.0</td>\n",
              "      <td>23833.0</td>\n",
              "      <td>34.0</td>\n",
              "      <td>39.0</td>\n",
              "      <td>2756.23</td>\n",
              "      <td>0.0</td>\n",
              "      <td>0.0</td>\n",
              "      <td>Aug-2018</td>\n",
              "      <td>12828.77</td>\n",
              "      <td>Mar-2019</td>\n",
              "      <td>709.0</td>\n",
              "      <td>0.0</td>\n",
              "      <td>0.0</td>\n",
              "      <td>0.0</td>\n",
              "      <td>0.0</td>\n",
              "      <td>0.0</td>\n",
              "      <td>0.0</td>\n",
              "      <td>Cash</td>\n",
              "      <td>N</td>\n",
              "      <td>1</td>\n",
              "      <td>0</td>\n",
              "      <td>0</td>\n",
              "      <td>0</td>\n",
              "      <td>0</td>\n",
              "      <td>0</td>\n",
              "      <td>...</td>\n",
              "      <td>0</td>\n",
              "      <td>0</td>\n",
              "      <td>0</td>\n",
              "      <td>0</td>\n",
              "      <td>0</td>\n",
              "      <td>0</td>\n",
              "      <td>0</td>\n",
              "      <td>0</td>\n",
              "      <td>0</td>\n",
              "      <td>0</td>\n",
              "      <td>0</td>\n",
              "      <td>0</td>\n",
              "      <td>0</td>\n",
              "      <td>0</td>\n",
              "      <td>0</td>\n",
              "      <td>0</td>\n",
              "      <td>0</td>\n",
              "      <td>0</td>\n",
              "      <td>0</td>\n",
              "      <td>0</td>\n",
              "      <td>0</td>\n",
              "      <td>0</td>\n",
              "      <td>0</td>\n",
              "      <td>0</td>\n",
              "      <td>0</td>\n",
              "      <td>0</td>\n",
              "      <td>0</td>\n",
              "      <td>0</td>\n",
              "      <td>0</td>\n",
              "      <td>0</td>\n",
              "      <td>1</td>\n",
              "      <td>0</td>\n",
              "      <td>0</td>\n",
              "      <td>0</td>\n",
              "      <td>0</td>\n",
              "      <td>0</td>\n",
              "      <td>0</td>\n",
              "      <td>0</td>\n",
              "      <td>0</td>\n",
              "      <td>0</td>\n",
              "    </tr>\n",
              "    <tr>\n",
              "      <th>2260690</th>\n",
              "      <td>29400.0</td>\n",
              "      <td>60</td>\n",
              "      <td>13.99</td>\n",
              "      <td>MORTGAGE</td>\n",
              "      <td>180792.0</td>\n",
              "      <td>Oct-2016</td>\n",
              "      <td>https://lendingclub.com/browse/loanDetail.acti...</td>\n",
              "      <td>900xx</td>\n",
              "      <td>CA</td>\n",
              "      <td>22.03</td>\n",
              "      <td>0.0</td>\n",
              "      <td>Mar-2002</td>\n",
              "      <td>709.0</td>\n",
              "      <td>1.0</td>\n",
              "      <td>16.0</td>\n",
              "      <td>0.0</td>\n",
              "      <td>77480.0</td>\n",
              "      <td>85.2</td>\n",
              "      <td>32.0</td>\n",
              "      <td>6448.76</td>\n",
              "      <td>0.0</td>\n",
              "      <td>0.0</td>\n",
              "      <td>Jul-2018</td>\n",
              "      <td>22192.81</td>\n",
              "      <td>Jul-2018</td>\n",
              "      <td>719.0</td>\n",
              "      <td>0.0</td>\n",
              "      <td>0.0</td>\n",
              "      <td>0.0</td>\n",
              "      <td>0.0</td>\n",
              "      <td>0.0</td>\n",
              "      <td>0.0</td>\n",
              "      <td>Cash</td>\n",
              "      <td>N</td>\n",
              "      <td>1</td>\n",
              "      <td>0</td>\n",
              "      <td>0</td>\n",
              "      <td>0</td>\n",
              "      <td>0</td>\n",
              "      <td>0</td>\n",
              "      <td>...</td>\n",
              "      <td>1</td>\n",
              "      <td>0</td>\n",
              "      <td>0</td>\n",
              "      <td>0</td>\n",
              "      <td>0</td>\n",
              "      <td>0</td>\n",
              "      <td>0</td>\n",
              "      <td>0</td>\n",
              "      <td>0</td>\n",
              "      <td>0</td>\n",
              "      <td>0</td>\n",
              "      <td>0</td>\n",
              "      <td>0</td>\n",
              "      <td>0</td>\n",
              "      <td>0</td>\n",
              "      <td>0</td>\n",
              "      <td>0</td>\n",
              "      <td>0</td>\n",
              "      <td>0</td>\n",
              "      <td>0</td>\n",
              "      <td>0</td>\n",
              "      <td>0</td>\n",
              "      <td>0</td>\n",
              "      <td>0</td>\n",
              "      <td>0</td>\n",
              "      <td>0</td>\n",
              "      <td>0</td>\n",
              "      <td>0</td>\n",
              "      <td>1</td>\n",
              "      <td>0</td>\n",
              "      <td>0</td>\n",
              "      <td>0</td>\n",
              "      <td>0</td>\n",
              "      <td>0</td>\n",
              "      <td>0</td>\n",
              "      <td>0</td>\n",
              "      <td>0</td>\n",
              "      <td>0</td>\n",
              "      <td>0</td>\n",
              "      <td>0</td>\n",
              "    </tr>\n",
              "    <tr>\n",
              "      <th>2260691</th>\n",
              "      <td>32000.0</td>\n",
              "      <td>60</td>\n",
              "      <td>14.49</td>\n",
              "      <td>MORTGAGE</td>\n",
              "      <td>157000.0</td>\n",
              "      <td>Oct-2016</td>\n",
              "      <td>https://lendingclub.com/browse/loanDetail.acti...</td>\n",
              "      <td>863xx</td>\n",
              "      <td>AZ</td>\n",
              "      <td>10.34</td>\n",
              "      <td>0.0</td>\n",
              "      <td>Jun-2011</td>\n",
              "      <td>739.0</td>\n",
              "      <td>0.0</td>\n",
              "      <td>14.0</td>\n",
              "      <td>0.0</td>\n",
              "      <td>111598.0</td>\n",
              "      <td>27.4</td>\n",
              "      <td>18.0</td>\n",
              "      <td>1861.47</td>\n",
              "      <td>0.0</td>\n",
              "      <td>0.0</td>\n",
              "      <td>Mar-2017</td>\n",
              "      <td>752.74</td>\n",
              "      <td>Dec-2018</td>\n",
              "      <td>499.0</td>\n",
              "      <td>0.0</td>\n",
              "      <td>0.0</td>\n",
              "      <td>0.0</td>\n",
              "      <td>0.0</td>\n",
              "      <td>0.0</td>\n",
              "      <td>0.0</td>\n",
              "      <td>Cash</td>\n",
              "      <td>N</td>\n",
              "      <td>0</td>\n",
              "      <td>0</td>\n",
              "      <td>0</td>\n",
              "      <td>0</td>\n",
              "      <td>0</td>\n",
              "      <td>0</td>\n",
              "      <td>...</td>\n",
              "      <td>0</td>\n",
              "      <td>1</td>\n",
              "      <td>0</td>\n",
              "      <td>0</td>\n",
              "      <td>0</td>\n",
              "      <td>0</td>\n",
              "      <td>0</td>\n",
              "      <td>0</td>\n",
              "      <td>0</td>\n",
              "      <td>0</td>\n",
              "      <td>0</td>\n",
              "      <td>0</td>\n",
              "      <td>0</td>\n",
              "      <td>0</td>\n",
              "      <td>0</td>\n",
              "      <td>0</td>\n",
              "      <td>0</td>\n",
              "      <td>0</td>\n",
              "      <td>0</td>\n",
              "      <td>0</td>\n",
              "      <td>0</td>\n",
              "      <td>0</td>\n",
              "      <td>0</td>\n",
              "      <td>1</td>\n",
              "      <td>0</td>\n",
              "      <td>0</td>\n",
              "      <td>0</td>\n",
              "      <td>0</td>\n",
              "      <td>0</td>\n",
              "      <td>0</td>\n",
              "      <td>1</td>\n",
              "      <td>0</td>\n",
              "      <td>0</td>\n",
              "      <td>0</td>\n",
              "      <td>0</td>\n",
              "      <td>0</td>\n",
              "      <td>0</td>\n",
              "      <td>0</td>\n",
              "      <td>0</td>\n",
              "      <td>0</td>\n",
              "    </tr>\n",
              "    <tr>\n",
              "      <th>2260692</th>\n",
              "      <td>16000.0</td>\n",
              "      <td>60</td>\n",
              "      <td>12.79</td>\n",
              "      <td>RENT</td>\n",
              "      <td>150000.0</td>\n",
              "      <td>Oct-2016</td>\n",
              "      <td>https://lendingclub.com/browse/loanDetail.acti...</td>\n",
              "      <td>284xx</td>\n",
              "      <td>NC</td>\n",
              "      <td>12.25</td>\n",
              "      <td>0.0</td>\n",
              "      <td>Aug-1997</td>\n",
              "      <td>669.0</td>\n",
              "      <td>0.0</td>\n",
              "      <td>12.0</td>\n",
              "      <td>4.0</td>\n",
              "      <td>7700.0</td>\n",
              "      <td>55.0</td>\n",
              "      <td>28.0</td>\n",
              "      <td>2660.61</td>\n",
              "      <td>0.0</td>\n",
              "      <td>0.0</td>\n",
              "      <td>Mar-2018</td>\n",
              "      <td>12874.54</td>\n",
              "      <td>Mar-2019</td>\n",
              "      <td>684.0</td>\n",
              "      <td>0.0</td>\n",
              "      <td>0.0</td>\n",
              "      <td>0.0</td>\n",
              "      <td>0.0</td>\n",
              "      <td>3.0</td>\n",
              "      <td>0.0</td>\n",
              "      <td>Cash</td>\n",
              "      <td>N</td>\n",
              "      <td>1</td>\n",
              "      <td>0</td>\n",
              "      <td>0</td>\n",
              "      <td>0</td>\n",
              "      <td>0</td>\n",
              "      <td>0</td>\n",
              "      <td>...</td>\n",
              "      <td>0</td>\n",
              "      <td>0</td>\n",
              "      <td>0</td>\n",
              "      <td>0</td>\n",
              "      <td>0</td>\n",
              "      <td>0</td>\n",
              "      <td>0</td>\n",
              "      <td>0</td>\n",
              "      <td>0</td>\n",
              "      <td>0</td>\n",
              "      <td>0</td>\n",
              "      <td>0</td>\n",
              "      <td>0</td>\n",
              "      <td>0</td>\n",
              "      <td>0</td>\n",
              "      <td>0</td>\n",
              "      <td>0</td>\n",
              "      <td>0</td>\n",
              "      <td>0</td>\n",
              "      <td>0</td>\n",
              "      <td>0</td>\n",
              "      <td>0</td>\n",
              "      <td>0</td>\n",
              "      <td>0</td>\n",
              "      <td>0</td>\n",
              "      <td>0</td>\n",
              "      <td>0</td>\n",
              "      <td>0</td>\n",
              "      <td>0</td>\n",
              "      <td>0</td>\n",
              "      <td>0</td>\n",
              "      <td>0</td>\n",
              "      <td>0</td>\n",
              "      <td>1</td>\n",
              "      <td>0</td>\n",
              "      <td>0</td>\n",
              "      <td>0</td>\n",
              "      <td>0</td>\n",
              "      <td>0</td>\n",
              "      <td>0</td>\n",
              "    </tr>\n",
              "    <tr>\n",
              "      <th>2260697</th>\n",
              "      <td>24000.0</td>\n",
              "      <td>60</td>\n",
              "      <td>14.49</td>\n",
              "      <td>RENT</td>\n",
              "      <td>110000.0</td>\n",
              "      <td>Oct-2016</td>\n",
              "      <td>https://lendingclub.com/browse/loanDetail.acti...</td>\n",
              "      <td>334xx</td>\n",
              "      <td>FL</td>\n",
              "      <td>18.30</td>\n",
              "      <td>0.0</td>\n",
              "      <td>Jul-1999</td>\n",
              "      <td>664.0</td>\n",
              "      <td>0.0</td>\n",
              "      <td>10.0</td>\n",
              "      <td>1.0</td>\n",
              "      <td>17641.0</td>\n",
              "      <td>68.1</td>\n",
              "      <td>31.0</td>\n",
              "      <td>3233.49</td>\n",
              "      <td>0.0</td>\n",
              "      <td>0.0</td>\n",
              "      <td>Oct-2017</td>\n",
              "      <td>564.56</td>\n",
              "      <td>Mar-2019</td>\n",
              "      <td>594.0</td>\n",
              "      <td>0.0</td>\n",
              "      <td>0.0</td>\n",
              "      <td>0.0</td>\n",
              "      <td>0.0</td>\n",
              "      <td>1.0</td>\n",
              "      <td>0.0</td>\n",
              "      <td>Cash</td>\n",
              "      <td>Y</td>\n",
              "      <td>0</td>\n",
              "      <td>0</td>\n",
              "      <td>0</td>\n",
              "      <td>0</td>\n",
              "      <td>0</td>\n",
              "      <td>0</td>\n",
              "      <td>...</td>\n",
              "      <td>0</td>\n",
              "      <td>1</td>\n",
              "      <td>0</td>\n",
              "      <td>0</td>\n",
              "      <td>0</td>\n",
              "      <td>0</td>\n",
              "      <td>0</td>\n",
              "      <td>0</td>\n",
              "      <td>0</td>\n",
              "      <td>0</td>\n",
              "      <td>0</td>\n",
              "      <td>0</td>\n",
              "      <td>0</td>\n",
              "      <td>0</td>\n",
              "      <td>0</td>\n",
              "      <td>0</td>\n",
              "      <td>0</td>\n",
              "      <td>0</td>\n",
              "      <td>0</td>\n",
              "      <td>0</td>\n",
              "      <td>0</td>\n",
              "      <td>0</td>\n",
              "      <td>0</td>\n",
              "      <td>0</td>\n",
              "      <td>0</td>\n",
              "      <td>0</td>\n",
              "      <td>0</td>\n",
              "      <td>0</td>\n",
              "      <td>1</td>\n",
              "      <td>0</td>\n",
              "      <td>0</td>\n",
              "      <td>0</td>\n",
              "      <td>0</td>\n",
              "      <td>0</td>\n",
              "      <td>0</td>\n",
              "      <td>0</td>\n",
              "      <td>0</td>\n",
              "      <td>0</td>\n",
              "      <td>0</td>\n",
              "      <td>0</td>\n",
              "    </tr>\n",
              "  </tbody>\n",
              "</table>\n",
              "<p>1341026 rows × 86 columns</p>\n",
              "</div>"
            ],
            "text/plain": [
              "         loan_amnt  term  int_rate  ... small_business  vacation wedding\n",
              "0           3600.0    36     13.99  ...              0         0       0\n",
              "1          24700.0    36     11.99  ...              1         0       0\n",
              "2          20000.0    60     10.78  ...              0         0       0\n",
              "4          10400.0    60     22.45  ...              0         0       0\n",
              "5          11950.0    36     13.44  ...              0         0       0\n",
              "...            ...   ...       ...  ...            ...       ...     ...\n",
              "2260688    18000.0    60      9.49  ...              0         0       0\n",
              "2260690    29400.0    60     13.99  ...              0         0       0\n",
              "2260691    32000.0    60     14.49  ...              0         0       0\n",
              "2260692    16000.0    60     12.79  ...              0         0       0\n",
              "2260697    24000.0    60     14.49  ...              0         0       0\n",
              "\n",
              "[1341026 rows x 86 columns]"
            ]
          },
          "metadata": {},
          "execution_count": 44
        }
      ]
    },
    {
      "cell_type": "code",
      "metadata": {
        "colab": {
          "base_uri": "https://localhost:8080/"
        },
        "id": "TrQIPOC3PUFN",
        "outputId": "2a27c24c-47f6-449c-85ea-ae7c85a4df07"
      },
      "source": [
        "cat_cols = df_accepted.select_dtypes(include=['object']).columns\n",
        "print(cat_cols)"
      ],
      "execution_count": 45,
      "outputs": [
        {
          "output_type": "stream",
          "name": "stdout",
          "text": [
            "Index(['home_ownership', 'issue_d', 'url', 'zip_code', 'addr_state',\n",
            "       'earliest_cr_line', 'last_pymnt_d', 'last_credit_pull_d',\n",
            "       'disbursement_method', 'debt_settlement_flag'],\n",
            "      dtype='object')\n"
          ]
        }
      ]
    },
    {
      "cell_type": "markdown",
      "metadata": {
        "id": "u0TauguAPnqJ"
      },
      "source": [
        "feature home_ownership"
      ]
    },
    {
      "cell_type": "code",
      "metadata": {
        "colab": {
          "base_uri": "https://localhost:8080/"
        },
        "id": "TbyvT4NgPqs1",
        "outputId": "ba56187f-a5b8-46a1-eec6-393477aae017"
      },
      "source": [
        "df_accepted.home_ownership.value_counts()"
      ],
      "execution_count": 46,
      "outputs": [
        {
          "output_type": "execute_result",
          "data": {
            "text/plain": [
              "MORTGAGE    663868\n",
              "RENT        532493\n",
              "OWN         144195\n",
              "ANY            283\n",
              "OTHER          142\n",
              "NONE            45\n",
              "Name: home_ownership, dtype: int64"
            ]
          },
          "metadata": {},
          "execution_count": 46
        }
      ]
    },
    {
      "cell_type": "code",
      "metadata": {
        "id": "_4X2FwnuP4OE"
      },
      "source": [
        "df_accepted['home_ownership'] = df_accepted.home_ownership.replace('NONE', 'ANY')\n",
        "df_accepted = pd.get_dummies(df_accepted, columns = ['home_ownership'], prefix='', prefix_sep='', drop_first=True)"
      ],
      "execution_count": 47,
      "outputs": []
    },
    {
      "cell_type": "markdown",
      "metadata": {
        "id": "-ud6E4WLQApN"
      },
      "source": [
        "features issue_d, url, last_pymnt_d and last_credit_pull_d\n",
        "\n",
        "--> 여기서는 issue_d column을 drop 했지만... 우리는 이걸 살린다!!!"
      ]
    },
    {
      "cell_type": "code",
      "metadata": {
        "id": "yd059h6HP_Y1"
      },
      "source": [
        "df_accepted = df_accepted.drop(columns=[ 'url', 'last_pymnt_d', 'last_credit_pull_d'])"
      ],
      "execution_count": 48,
      "outputs": []
    },
    {
      "cell_type": "code",
      "metadata": {
        "id": "pZK1heeMQTc4"
      },
      "source": [
        "df_accepted = df_accepted.drop(columns=['zip_code', 'addr_state'])"
      ],
      "execution_count": 49,
      "outputs": []
    },
    {
      "cell_type": "code",
      "metadata": {
        "colab": {
          "base_uri": "https://localhost:8080/"
        },
        "id": "nhW6VUfBQVta",
        "outputId": "7c0579a1-eaa0-4d3c-87c8-bfecc770c699"
      },
      "source": [
        "cat_cols = df_accepted.select_dtypes(include=['object']).columns\n",
        "print(cat_cols)"
      ],
      "execution_count": 50,
      "outputs": [
        {
          "output_type": "stream",
          "name": "stdout",
          "text": [
            "Index(['issue_d', 'earliest_cr_line', 'disbursement_method',\n",
            "       'debt_settlement_flag'],\n",
            "      dtype='object')\n"
          ]
        }
      ]
    },
    {
      "cell_type": "markdown",
      "metadata": {
        "id": "GMXziYImQajQ"
      },
      "source": [
        "features disbursement_method and debt_settlement_flag"
      ]
    },
    {
      "cell_type": "code",
      "metadata": {
        "colab": {
          "base_uri": "https://localhost:8080/"
        },
        "id": "swvsVSLvQa58",
        "outputId": "a63b7b16-5b13-4ed0-f3d4-b80d0e123931"
      },
      "source": [
        "print(df_accepted.disbursement_method.value_counts())\n",
        "print(df_accepted.debt_settlement_flag.value_counts())"
      ],
      "execution_count": 51,
      "outputs": [
        {
          "output_type": "stream",
          "name": "stdout",
          "text": [
            "Cash         1334162\n",
            "DirectPay       6864\n",
            "Name: disbursement_method, dtype: int64\n",
            "N    1307844\n",
            "Y      33182\n",
            "Name: debt_settlement_flag, dtype: int64\n"
          ]
        }
      ]
    },
    {
      "cell_type": "code",
      "metadata": {
        "id": "VqaCGzo3Qf37"
      },
      "source": [
        "df_accepted = pd.get_dummies(df_accepted, columns = ['disbursement_method'], prefix='', prefix_sep='', drop_first=True)\n",
        "df_accepted = pd.get_dummies(df_accepted, columns = ['debt_settlement_flag'], prefix='', prefix_sep='', drop_first=True)"
      ],
      "execution_count": 52,
      "outputs": []
    },
    {
      "cell_type": "markdown",
      "metadata": {
        "id": "szh0byKzQm1K"
      },
      "source": [
        "feature earliest_cr_line"
      ]
    },
    {
      "cell_type": "code",
      "metadata": {
        "colab": {
          "base_uri": "https://localhost:8080/"
        },
        "id": "HQLq0iq7QnGM",
        "outputId": "afedc3d9-d24e-40ee-a29d-484e8360be84"
      },
      "source": [
        "print(df_accepted.earliest_cr_line.value_counts())"
      ],
      "execution_count": 53,
      "outputs": [
        {
          "output_type": "stream",
          "name": "stdout",
          "text": [
            "Aug-2001    9365\n",
            "Aug-2002    9066\n",
            "Sep-2003    9000\n",
            "Oct-2001    8838\n",
            "Aug-2000    8822\n",
            "            ... \n",
            "Sep-1957       1\n",
            "Aug-1951       1\n",
            "Oct-1950       1\n",
            "Feb-1957       1\n",
            "Jun-1955       1\n",
            "Name: earliest_cr_line, Length: 739, dtype: int64\n"
          ]
        }
      ]
    },
    {
      "cell_type": "code",
      "metadata": {
        "id": "_8YAcugyQs7X"
      },
      "source": [
        "df_accepted = df_accepted.drop(columns=['earliest_cr_line'])"
      ],
      "execution_count": 54,
      "outputs": []
    },
    {
      "cell_type": "code",
      "metadata": {
        "colab": {
          "base_uri": "https://localhost:8080/"
        },
        "id": "X4x_l8yMQwhd",
        "outputId": "3096d59c-4f83-4704-d3b6-2b24bf3be129"
      },
      "source": [
        "df_accepted.shape"
      ],
      "execution_count": 55,
      "outputs": [
        {
          "output_type": "execute_result",
          "data": {
            "text/plain": [
              "(1341026, 83)"
            ]
          },
          "metadata": {},
          "execution_count": 55
        }
      ]
    },
    {
      "cell_type": "code",
      "metadata": {
        "colab": {
          "base_uri": "https://localhost:8080/",
          "height": 452
        },
        "id": "2ih6fGn8Q89x",
        "outputId": "68720be9-68c6-4690-82da-c0e43eeabe23"
      },
      "source": [
        "df_accepted"
      ],
      "execution_count": 101,
      "outputs": [
        {
          "output_type": "execute_result",
          "data": {
            "text/html": [
              "<div>\n",
              "<style scoped>\n",
              "    .dataframe tbody tr th:only-of-type {\n",
              "        vertical-align: middle;\n",
              "    }\n",
              "\n",
              "    .dataframe tbody tr th {\n",
              "        vertical-align: top;\n",
              "    }\n",
              "\n",
              "    .dataframe thead th {\n",
              "        text-align: right;\n",
              "    }\n",
              "</style>\n",
              "<table border=\"1\" class=\"dataframe\">\n",
              "  <thead>\n",
              "    <tr style=\"text-align: right;\">\n",
              "      <th></th>\n",
              "      <th>loan_amnt</th>\n",
              "      <th>term</th>\n",
              "      <th>int_rate</th>\n",
              "      <th>annual_inc</th>\n",
              "      <th>issue_d</th>\n",
              "      <th>dti</th>\n",
              "      <th>delinq_2yrs</th>\n",
              "      <th>fico_range_high</th>\n",
              "      <th>inq_last_6mths</th>\n",
              "      <th>open_acc</th>\n",
              "      <th>pub_rec</th>\n",
              "      <th>revol_bal</th>\n",
              "      <th>revol_util</th>\n",
              "      <th>total_acc</th>\n",
              "      <th>total_rec_int</th>\n",
              "      <th>total_rec_late_fee</th>\n",
              "      <th>recoveries</th>\n",
              "      <th>last_pymnt_amnt</th>\n",
              "      <th>last_fico_range_high</th>\n",
              "      <th>collections_12_mths_ex_med</th>\n",
              "      <th>acc_now_delinq</th>\n",
              "      <th>chargeoff_within_12_mths</th>\n",
              "      <th>delinq_amnt</th>\n",
              "      <th>pub_rec_bankruptcies</th>\n",
              "      <th>tax_liens</th>\n",
              "      <th>loan_paid</th>\n",
              "      <th>A2</th>\n",
              "      <th>A3</th>\n",
              "      <th>A4</th>\n",
              "      <th>A5</th>\n",
              "      <th>B1</th>\n",
              "      <th>B2</th>\n",
              "      <th>B3</th>\n",
              "      <th>B4</th>\n",
              "      <th>B5</th>\n",
              "      <th>C1</th>\n",
              "      <th>C2</th>\n",
              "      <th>C3</th>\n",
              "      <th>C4</th>\n",
              "      <th>C5</th>\n",
              "      <th>...</th>\n",
              "      <th>D4</th>\n",
              "      <th>D5</th>\n",
              "      <th>E1</th>\n",
              "      <th>E2</th>\n",
              "      <th>E3</th>\n",
              "      <th>E4</th>\n",
              "      <th>E5</th>\n",
              "      <th>F1</th>\n",
              "      <th>F2</th>\n",
              "      <th>F3</th>\n",
              "      <th>F4</th>\n",
              "      <th>F5</th>\n",
              "      <th>G1</th>\n",
              "      <th>G2</th>\n",
              "      <th>G3</th>\n",
              "      <th>G4</th>\n",
              "      <th>G5</th>\n",
              "      <th>Source Verified</th>\n",
              "      <th>Verified</th>\n",
              "      <th>Joint App</th>\n",
              "      <th>w</th>\n",
              "      <th>credit_card</th>\n",
              "      <th>debt_consolidation</th>\n",
              "      <th>educational</th>\n",
              "      <th>home_improvement</th>\n",
              "      <th>house</th>\n",
              "      <th>major_purchase</th>\n",
              "      <th>medical</th>\n",
              "      <th>moving</th>\n",
              "      <th>other</th>\n",
              "      <th>renewable_energy</th>\n",
              "      <th>small_business</th>\n",
              "      <th>vacation</th>\n",
              "      <th>wedding</th>\n",
              "      <th>MORTGAGE</th>\n",
              "      <th>OTHER</th>\n",
              "      <th>OWN</th>\n",
              "      <th>RENT</th>\n",
              "      <th>DirectPay</th>\n",
              "      <th>Y</th>\n",
              "    </tr>\n",
              "  </thead>\n",
              "  <tbody>\n",
              "    <tr>\n",
              "      <th>0</th>\n",
              "      <td>9000.0</td>\n",
              "      <td>36</td>\n",
              "      <td>12.49</td>\n",
              "      <td>39000.00</td>\n",
              "      <td>200710</td>\n",
              "      <td>5.08</td>\n",
              "      <td>0.0</td>\n",
              "      <td>669.0</td>\n",
              "      <td>3.0</td>\n",
              "      <td>9.0</td>\n",
              "      <td>1.0</td>\n",
              "      <td>26233.0</td>\n",
              "      <td>62.9</td>\n",
              "      <td>37.0</td>\n",
              "      <td>609.26</td>\n",
              "      <td>0.0</td>\n",
              "      <td>1910.03</td>\n",
              "      <td>301.05</td>\n",
              "      <td>564.0</td>\n",
              "      <td>0.0</td>\n",
              "      <td>0.0</td>\n",
              "      <td>0.0</td>\n",
              "      <td>0.0</td>\n",
              "      <td>1.0</td>\n",
              "      <td>0.0</td>\n",
              "      <td>0</td>\n",
              "      <td>0</td>\n",
              "      <td>0</td>\n",
              "      <td>0</td>\n",
              "      <td>0</td>\n",
              "      <td>0</td>\n",
              "      <td>0</td>\n",
              "      <td>0</td>\n",
              "      <td>0</td>\n",
              "      <td>0</td>\n",
              "      <td>0</td>\n",
              "      <td>0</td>\n",
              "      <td>0</td>\n",
              "      <td>0</td>\n",
              "      <td>0</td>\n",
              "      <td>...</td>\n",
              "      <td>0</td>\n",
              "      <td>0</td>\n",
              "      <td>0</td>\n",
              "      <td>0</td>\n",
              "      <td>0</td>\n",
              "      <td>0</td>\n",
              "      <td>0</td>\n",
              "      <td>0</td>\n",
              "      <td>0</td>\n",
              "      <td>0</td>\n",
              "      <td>0</td>\n",
              "      <td>0</td>\n",
              "      <td>0</td>\n",
              "      <td>0</td>\n",
              "      <td>0</td>\n",
              "      <td>0</td>\n",
              "      <td>0</td>\n",
              "      <td>0</td>\n",
              "      <td>0</td>\n",
              "      <td>0</td>\n",
              "      <td>0</td>\n",
              "      <td>0</td>\n",
              "      <td>1</td>\n",
              "      <td>0</td>\n",
              "      <td>0</td>\n",
              "      <td>0</td>\n",
              "      <td>0</td>\n",
              "      <td>0</td>\n",
              "      <td>0</td>\n",
              "      <td>0</td>\n",
              "      <td>0</td>\n",
              "      <td>0</td>\n",
              "      <td>0</td>\n",
              "      <td>0</td>\n",
              "      <td>1</td>\n",
              "      <td>0</td>\n",
              "      <td>0</td>\n",
              "      <td>0</td>\n",
              "      <td>0</td>\n",
              "      <td>0</td>\n",
              "    </tr>\n",
              "    <tr>\n",
              "      <th>1</th>\n",
              "      <td>12375.0</td>\n",
              "      <td>36</td>\n",
              "      <td>10.91</td>\n",
              "      <td>80000.00</td>\n",
              "      <td>200711</td>\n",
              "      <td>9.23</td>\n",
              "      <td>0.0</td>\n",
              "      <td>689.0</td>\n",
              "      <td>0.0</td>\n",
              "      <td>4.0</td>\n",
              "      <td>1.0</td>\n",
              "      <td>13126.0</td>\n",
              "      <td>96.5</td>\n",
              "      <td>4.0</td>\n",
              "      <td>1995.92</td>\n",
              "      <td>0.0</td>\n",
              "      <td>0.00</td>\n",
              "      <td>4259.11</td>\n",
              "      <td>509.0</td>\n",
              "      <td>0.0</td>\n",
              "      <td>0.0</td>\n",
              "      <td>0.0</td>\n",
              "      <td>0.0</td>\n",
              "      <td>1.0</td>\n",
              "      <td>0.0</td>\n",
              "      <td>1</td>\n",
              "      <td>0</td>\n",
              "      <td>0</td>\n",
              "      <td>0</td>\n",
              "      <td>0</td>\n",
              "      <td>0</td>\n",
              "      <td>0</td>\n",
              "      <td>0</td>\n",
              "      <td>0</td>\n",
              "      <td>0</td>\n",
              "      <td>0</td>\n",
              "      <td>0</td>\n",
              "      <td>1</td>\n",
              "      <td>0</td>\n",
              "      <td>0</td>\n",
              "      <td>...</td>\n",
              "      <td>0</td>\n",
              "      <td>0</td>\n",
              "      <td>0</td>\n",
              "      <td>0</td>\n",
              "      <td>0</td>\n",
              "      <td>0</td>\n",
              "      <td>0</td>\n",
              "      <td>0</td>\n",
              "      <td>0</td>\n",
              "      <td>0</td>\n",
              "      <td>0</td>\n",
              "      <td>0</td>\n",
              "      <td>0</td>\n",
              "      <td>0</td>\n",
              "      <td>0</td>\n",
              "      <td>0</td>\n",
              "      <td>0</td>\n",
              "      <td>0</td>\n",
              "      <td>0</td>\n",
              "      <td>0</td>\n",
              "      <td>0</td>\n",
              "      <td>0</td>\n",
              "      <td>1</td>\n",
              "      <td>0</td>\n",
              "      <td>0</td>\n",
              "      <td>0</td>\n",
              "      <td>0</td>\n",
              "      <td>0</td>\n",
              "      <td>0</td>\n",
              "      <td>0</td>\n",
              "      <td>0</td>\n",
              "      <td>0</td>\n",
              "      <td>0</td>\n",
              "      <td>0</td>\n",
              "      <td>0</td>\n",
              "      <td>0</td>\n",
              "      <td>0</td>\n",
              "      <td>1</td>\n",
              "      <td>0</td>\n",
              "      <td>0</td>\n",
              "    </tr>\n",
              "    <tr>\n",
              "      <th>2</th>\n",
              "      <td>12000.0</td>\n",
              "      <td>36</td>\n",
              "      <td>9.01</td>\n",
              "      <td>100671.39</td>\n",
              "      <td>200711</td>\n",
              "      <td>6.64</td>\n",
              "      <td>0.0</td>\n",
              "      <td>724.0</td>\n",
              "      <td>0.0</td>\n",
              "      <td>16.0</td>\n",
              "      <td>1.0</td>\n",
              "      <td>7606.0</td>\n",
              "      <td>18.6</td>\n",
              "      <td>39.0</td>\n",
              "      <td>347.22</td>\n",
              "      <td>0.0</td>\n",
              "      <td>0.00</td>\n",
              "      <td>11202.55</td>\n",
              "      <td>774.0</td>\n",
              "      <td>0.0</td>\n",
              "      <td>0.0</td>\n",
              "      <td>0.0</td>\n",
              "      <td>0.0</td>\n",
              "      <td>1.0</td>\n",
              "      <td>0.0</td>\n",
              "      <td>1</td>\n",
              "      <td>0</td>\n",
              "      <td>0</td>\n",
              "      <td>0</td>\n",
              "      <td>0</td>\n",
              "      <td>0</td>\n",
              "      <td>1</td>\n",
              "      <td>0</td>\n",
              "      <td>0</td>\n",
              "      <td>0</td>\n",
              "      <td>0</td>\n",
              "      <td>0</td>\n",
              "      <td>0</td>\n",
              "      <td>0</td>\n",
              "      <td>0</td>\n",
              "      <td>...</td>\n",
              "      <td>0</td>\n",
              "      <td>0</td>\n",
              "      <td>0</td>\n",
              "      <td>0</td>\n",
              "      <td>0</td>\n",
              "      <td>0</td>\n",
              "      <td>0</td>\n",
              "      <td>0</td>\n",
              "      <td>0</td>\n",
              "      <td>0</td>\n",
              "      <td>0</td>\n",
              "      <td>0</td>\n",
              "      <td>0</td>\n",
              "      <td>0</td>\n",
              "      <td>0</td>\n",
              "      <td>0</td>\n",
              "      <td>0</td>\n",
              "      <td>0</td>\n",
              "      <td>0</td>\n",
              "      <td>0</td>\n",
              "      <td>0</td>\n",
              "      <td>1</td>\n",
              "      <td>0</td>\n",
              "      <td>0</td>\n",
              "      <td>0</td>\n",
              "      <td>0</td>\n",
              "      <td>0</td>\n",
              "      <td>0</td>\n",
              "      <td>0</td>\n",
              "      <td>0</td>\n",
              "      <td>0</td>\n",
              "      <td>0</td>\n",
              "      <td>0</td>\n",
              "      <td>0</td>\n",
              "      <td>1</td>\n",
              "      <td>0</td>\n",
              "      <td>0</td>\n",
              "      <td>0</td>\n",
              "      <td>0</td>\n",
              "      <td>0</td>\n",
              "    </tr>\n",
              "    <tr>\n",
              "      <th>3</th>\n",
              "      <td>7000.0</td>\n",
              "      <td>36</td>\n",
              "      <td>10.59</td>\n",
              "      <td>63500.00</td>\n",
              "      <td>200712</td>\n",
              "      <td>8.50</td>\n",
              "      <td>0.0</td>\n",
              "      <td>684.0</td>\n",
              "      <td>1.0</td>\n",
              "      <td>9.0</td>\n",
              "      <td>1.0</td>\n",
              "      <td>14930.0</td>\n",
              "      <td>79.0</td>\n",
              "      <td>21.0</td>\n",
              "      <td>1174.02</td>\n",
              "      <td>0.0</td>\n",
              "      <td>0.00</td>\n",
              "      <td>1571.29</td>\n",
              "      <td>599.0</td>\n",
              "      <td>0.0</td>\n",
              "      <td>0.0</td>\n",
              "      <td>0.0</td>\n",
              "      <td>0.0</td>\n",
              "      <td>1.0</td>\n",
              "      <td>0.0</td>\n",
              "      <td>1</td>\n",
              "      <td>0</td>\n",
              "      <td>0</td>\n",
              "      <td>0</td>\n",
              "      <td>0</td>\n",
              "      <td>0</td>\n",
              "      <td>0</td>\n",
              "      <td>0</td>\n",
              "      <td>0</td>\n",
              "      <td>0</td>\n",
              "      <td>0</td>\n",
              "      <td>1</td>\n",
              "      <td>0</td>\n",
              "      <td>0</td>\n",
              "      <td>0</td>\n",
              "      <td>...</td>\n",
              "      <td>0</td>\n",
              "      <td>0</td>\n",
              "      <td>0</td>\n",
              "      <td>0</td>\n",
              "      <td>0</td>\n",
              "      <td>0</td>\n",
              "      <td>0</td>\n",
              "      <td>0</td>\n",
              "      <td>0</td>\n",
              "      <td>0</td>\n",
              "      <td>0</td>\n",
              "      <td>0</td>\n",
              "      <td>0</td>\n",
              "      <td>0</td>\n",
              "      <td>0</td>\n",
              "      <td>0</td>\n",
              "      <td>0</td>\n",
              "      <td>0</td>\n",
              "      <td>0</td>\n",
              "      <td>0</td>\n",
              "      <td>0</td>\n",
              "      <td>0</td>\n",
              "      <td>1</td>\n",
              "      <td>0</td>\n",
              "      <td>0</td>\n",
              "      <td>0</td>\n",
              "      <td>0</td>\n",
              "      <td>0</td>\n",
              "      <td>0</td>\n",
              "      <td>0</td>\n",
              "      <td>0</td>\n",
              "      <td>0</td>\n",
              "      <td>0</td>\n",
              "      <td>0</td>\n",
              "      <td>1</td>\n",
              "      <td>0</td>\n",
              "      <td>0</td>\n",
              "      <td>0</td>\n",
              "      <td>0</td>\n",
              "      <td>0</td>\n",
              "    </tr>\n",
              "    <tr>\n",
              "      <th>4</th>\n",
              "      <td>4800.0</td>\n",
              "      <td>36</td>\n",
              "      <td>10.28</td>\n",
              "      <td>35000.00</td>\n",
              "      <td>200712</td>\n",
              "      <td>7.51</td>\n",
              "      <td>0.0</td>\n",
              "      <td>689.0</td>\n",
              "      <td>0.0</td>\n",
              "      <td>11.0</td>\n",
              "      <td>1.0</td>\n",
              "      <td>5836.0</td>\n",
              "      <td>68.7</td>\n",
              "      <td>12.0</td>\n",
              "      <td>334.09</td>\n",
              "      <td>0.0</td>\n",
              "      <td>0.00</td>\n",
              "      <td>3891.08</td>\n",
              "      <td>729.0</td>\n",
              "      <td>0.0</td>\n",
              "      <td>0.0</td>\n",
              "      <td>0.0</td>\n",
              "      <td>0.0</td>\n",
              "      <td>1.0</td>\n",
              "      <td>0.0</td>\n",
              "      <td>1</td>\n",
              "      <td>0</td>\n",
              "      <td>0</td>\n",
              "      <td>0</td>\n",
              "      <td>0</td>\n",
              "      <td>0</td>\n",
              "      <td>0</td>\n",
              "      <td>0</td>\n",
              "      <td>0</td>\n",
              "      <td>0</td>\n",
              "      <td>1</td>\n",
              "      <td>0</td>\n",
              "      <td>0</td>\n",
              "      <td>0</td>\n",
              "      <td>0</td>\n",
              "      <td>...</td>\n",
              "      <td>0</td>\n",
              "      <td>0</td>\n",
              "      <td>0</td>\n",
              "      <td>0</td>\n",
              "      <td>0</td>\n",
              "      <td>0</td>\n",
              "      <td>0</td>\n",
              "      <td>0</td>\n",
              "      <td>0</td>\n",
              "      <td>0</td>\n",
              "      <td>0</td>\n",
              "      <td>0</td>\n",
              "      <td>0</td>\n",
              "      <td>0</td>\n",
              "      <td>0</td>\n",
              "      <td>0</td>\n",
              "      <td>0</td>\n",
              "      <td>0</td>\n",
              "      <td>0</td>\n",
              "      <td>0</td>\n",
              "      <td>0</td>\n",
              "      <td>0</td>\n",
              "      <td>1</td>\n",
              "      <td>0</td>\n",
              "      <td>0</td>\n",
              "      <td>0</td>\n",
              "      <td>0</td>\n",
              "      <td>0</td>\n",
              "      <td>0</td>\n",
              "      <td>0</td>\n",
              "      <td>0</td>\n",
              "      <td>0</td>\n",
              "      <td>0</td>\n",
              "      <td>0</td>\n",
              "      <td>0</td>\n",
              "      <td>0</td>\n",
              "      <td>0</td>\n",
              "      <td>1</td>\n",
              "      <td>0</td>\n",
              "      <td>0</td>\n",
              "    </tr>\n",
              "    <tr>\n",
              "      <th>...</th>\n",
              "      <td>...</td>\n",
              "      <td>...</td>\n",
              "      <td>...</td>\n",
              "      <td>...</td>\n",
              "      <td>...</td>\n",
              "      <td>...</td>\n",
              "      <td>...</td>\n",
              "      <td>...</td>\n",
              "      <td>...</td>\n",
              "      <td>...</td>\n",
              "      <td>...</td>\n",
              "      <td>...</td>\n",
              "      <td>...</td>\n",
              "      <td>...</td>\n",
              "      <td>...</td>\n",
              "      <td>...</td>\n",
              "      <td>...</td>\n",
              "      <td>...</td>\n",
              "      <td>...</td>\n",
              "      <td>...</td>\n",
              "      <td>...</td>\n",
              "      <td>...</td>\n",
              "      <td>...</td>\n",
              "      <td>...</td>\n",
              "      <td>...</td>\n",
              "      <td>...</td>\n",
              "      <td>...</td>\n",
              "      <td>...</td>\n",
              "      <td>...</td>\n",
              "      <td>...</td>\n",
              "      <td>...</td>\n",
              "      <td>...</td>\n",
              "      <td>...</td>\n",
              "      <td>...</td>\n",
              "      <td>...</td>\n",
              "      <td>...</td>\n",
              "      <td>...</td>\n",
              "      <td>...</td>\n",
              "      <td>...</td>\n",
              "      <td>...</td>\n",
              "      <td>...</td>\n",
              "      <td>...</td>\n",
              "      <td>...</td>\n",
              "      <td>...</td>\n",
              "      <td>...</td>\n",
              "      <td>...</td>\n",
              "      <td>...</td>\n",
              "      <td>...</td>\n",
              "      <td>...</td>\n",
              "      <td>...</td>\n",
              "      <td>...</td>\n",
              "      <td>...</td>\n",
              "      <td>...</td>\n",
              "      <td>...</td>\n",
              "      <td>...</td>\n",
              "      <td>...</td>\n",
              "      <td>...</td>\n",
              "      <td>...</td>\n",
              "      <td>...</td>\n",
              "      <td>...</td>\n",
              "      <td>...</td>\n",
              "      <td>...</td>\n",
              "      <td>...</td>\n",
              "      <td>...</td>\n",
              "      <td>...</td>\n",
              "      <td>...</td>\n",
              "      <td>...</td>\n",
              "      <td>...</td>\n",
              "      <td>...</td>\n",
              "      <td>...</td>\n",
              "      <td>...</td>\n",
              "      <td>...</td>\n",
              "      <td>...</td>\n",
              "      <td>...</td>\n",
              "      <td>...</td>\n",
              "      <td>...</td>\n",
              "      <td>...</td>\n",
              "      <td>...</td>\n",
              "      <td>...</td>\n",
              "      <td>...</td>\n",
              "      <td>...</td>\n",
              "    </tr>\n",
              "    <tr>\n",
              "      <th>1341021</th>\n",
              "      <td>10000.0</td>\n",
              "      <td>60</td>\n",
              "      <td>13.56</td>\n",
              "      <td>40000.00</td>\n",
              "      <td>201812</td>\n",
              "      <td>10.89</td>\n",
              "      <td>0.0</td>\n",
              "      <td>689.0</td>\n",
              "      <td>1.0</td>\n",
              "      <td>7.0</td>\n",
              "      <td>1.0</td>\n",
              "      <td>745.0</td>\n",
              "      <td>8.2</td>\n",
              "      <td>21.0</td>\n",
              "      <td>112.82</td>\n",
              "      <td>0.0</td>\n",
              "      <td>0.00</td>\n",
              "      <td>10127.89</td>\n",
              "      <td>689.0</td>\n",
              "      <td>0.0</td>\n",
              "      <td>0.0</td>\n",
              "      <td>0.0</td>\n",
              "      <td>0.0</td>\n",
              "      <td>1.0</td>\n",
              "      <td>0.0</td>\n",
              "      <td>1</td>\n",
              "      <td>0</td>\n",
              "      <td>0</td>\n",
              "      <td>0</td>\n",
              "      <td>0</td>\n",
              "      <td>0</td>\n",
              "      <td>0</td>\n",
              "      <td>0</td>\n",
              "      <td>0</td>\n",
              "      <td>0</td>\n",
              "      <td>1</td>\n",
              "      <td>0</td>\n",
              "      <td>0</td>\n",
              "      <td>0</td>\n",
              "      <td>0</td>\n",
              "      <td>...</td>\n",
              "      <td>0</td>\n",
              "      <td>0</td>\n",
              "      <td>0</td>\n",
              "      <td>0</td>\n",
              "      <td>0</td>\n",
              "      <td>0</td>\n",
              "      <td>0</td>\n",
              "      <td>0</td>\n",
              "      <td>0</td>\n",
              "      <td>0</td>\n",
              "      <td>0</td>\n",
              "      <td>0</td>\n",
              "      <td>0</td>\n",
              "      <td>0</td>\n",
              "      <td>0</td>\n",
              "      <td>0</td>\n",
              "      <td>0</td>\n",
              "      <td>1</td>\n",
              "      <td>0</td>\n",
              "      <td>0</td>\n",
              "      <td>0</td>\n",
              "      <td>0</td>\n",
              "      <td>1</td>\n",
              "      <td>0</td>\n",
              "      <td>0</td>\n",
              "      <td>0</td>\n",
              "      <td>0</td>\n",
              "      <td>0</td>\n",
              "      <td>0</td>\n",
              "      <td>0</td>\n",
              "      <td>0</td>\n",
              "      <td>0</td>\n",
              "      <td>0</td>\n",
              "      <td>0</td>\n",
              "      <td>0</td>\n",
              "      <td>0</td>\n",
              "      <td>0</td>\n",
              "      <td>1</td>\n",
              "      <td>0</td>\n",
              "      <td>0</td>\n",
              "    </tr>\n",
              "    <tr>\n",
              "      <th>1341022</th>\n",
              "      <td>14400.0</td>\n",
              "      <td>60</td>\n",
              "      <td>11.80</td>\n",
              "      <td>120000.00</td>\n",
              "      <td>201812</td>\n",
              "      <td>17.71</td>\n",
              "      <td>0.0</td>\n",
              "      <td>669.0</td>\n",
              "      <td>0.0</td>\n",
              "      <td>18.0</td>\n",
              "      <td>0.0</td>\n",
              "      <td>31980.0</td>\n",
              "      <td>74.0</td>\n",
              "      <td>28.0</td>\n",
              "      <td>365.34</td>\n",
              "      <td>0.0</td>\n",
              "      <td>0.00</td>\n",
              "      <td>14455.91</td>\n",
              "      <td>699.0</td>\n",
              "      <td>0.0</td>\n",
              "      <td>0.0</td>\n",
              "      <td>0.0</td>\n",
              "      <td>0.0</td>\n",
              "      <td>0.0</td>\n",
              "      <td>0.0</td>\n",
              "      <td>1</td>\n",
              "      <td>0</td>\n",
              "      <td>0</td>\n",
              "      <td>0</td>\n",
              "      <td>0</td>\n",
              "      <td>0</td>\n",
              "      <td>0</td>\n",
              "      <td>0</td>\n",
              "      <td>1</td>\n",
              "      <td>0</td>\n",
              "      <td>0</td>\n",
              "      <td>0</td>\n",
              "      <td>0</td>\n",
              "      <td>0</td>\n",
              "      <td>0</td>\n",
              "      <td>...</td>\n",
              "      <td>0</td>\n",
              "      <td>0</td>\n",
              "      <td>0</td>\n",
              "      <td>0</td>\n",
              "      <td>0</td>\n",
              "      <td>0</td>\n",
              "      <td>0</td>\n",
              "      <td>0</td>\n",
              "      <td>0</td>\n",
              "      <td>0</td>\n",
              "      <td>0</td>\n",
              "      <td>0</td>\n",
              "      <td>0</td>\n",
              "      <td>0</td>\n",
              "      <td>0</td>\n",
              "      <td>0</td>\n",
              "      <td>0</td>\n",
              "      <td>1</td>\n",
              "      <td>0</td>\n",
              "      <td>0</td>\n",
              "      <td>1</td>\n",
              "      <td>1</td>\n",
              "      <td>0</td>\n",
              "      <td>0</td>\n",
              "      <td>0</td>\n",
              "      <td>0</td>\n",
              "      <td>0</td>\n",
              "      <td>0</td>\n",
              "      <td>0</td>\n",
              "      <td>0</td>\n",
              "      <td>0</td>\n",
              "      <td>0</td>\n",
              "      <td>0</td>\n",
              "      <td>0</td>\n",
              "      <td>1</td>\n",
              "      <td>0</td>\n",
              "      <td>0</td>\n",
              "      <td>0</td>\n",
              "      <td>1</td>\n",
              "      <td>0</td>\n",
              "    </tr>\n",
              "    <tr>\n",
              "      <th>1341023</th>\n",
              "      <td>5000.0</td>\n",
              "      <td>36</td>\n",
              "      <td>16.14</td>\n",
              "      <td>45000.00</td>\n",
              "      <td>201812</td>\n",
              "      <td>1.63</td>\n",
              "      <td>0.0</td>\n",
              "      <td>724.0</td>\n",
              "      <td>2.0</td>\n",
              "      <td>3.0</td>\n",
              "      <td>0.0</td>\n",
              "      <td>4516.0</td>\n",
              "      <td>38.6</td>\n",
              "      <td>8.0</td>\n",
              "      <td>158.64</td>\n",
              "      <td>0.0</td>\n",
              "      <td>0.00</td>\n",
              "      <td>2815.33</td>\n",
              "      <td>739.0</td>\n",
              "      <td>0.0</td>\n",
              "      <td>0.0</td>\n",
              "      <td>0.0</td>\n",
              "      <td>0.0</td>\n",
              "      <td>0.0</td>\n",
              "      <td>0.0</td>\n",
              "      <td>1</td>\n",
              "      <td>0</td>\n",
              "      <td>0</td>\n",
              "      <td>0</td>\n",
              "      <td>0</td>\n",
              "      <td>0</td>\n",
              "      <td>0</td>\n",
              "      <td>0</td>\n",
              "      <td>0</td>\n",
              "      <td>0</td>\n",
              "      <td>0</td>\n",
              "      <td>0</td>\n",
              "      <td>0</td>\n",
              "      <td>1</td>\n",
              "      <td>0</td>\n",
              "      <td>...</td>\n",
              "      <td>0</td>\n",
              "      <td>0</td>\n",
              "      <td>0</td>\n",
              "      <td>0</td>\n",
              "      <td>0</td>\n",
              "      <td>0</td>\n",
              "      <td>0</td>\n",
              "      <td>0</td>\n",
              "      <td>0</td>\n",
              "      <td>0</td>\n",
              "      <td>0</td>\n",
              "      <td>0</td>\n",
              "      <td>0</td>\n",
              "      <td>0</td>\n",
              "      <td>0</td>\n",
              "      <td>0</td>\n",
              "      <td>0</td>\n",
              "      <td>0</td>\n",
              "      <td>0</td>\n",
              "      <td>0</td>\n",
              "      <td>1</td>\n",
              "      <td>0</td>\n",
              "      <td>0</td>\n",
              "      <td>0</td>\n",
              "      <td>1</td>\n",
              "      <td>0</td>\n",
              "      <td>0</td>\n",
              "      <td>0</td>\n",
              "      <td>0</td>\n",
              "      <td>0</td>\n",
              "      <td>0</td>\n",
              "      <td>0</td>\n",
              "      <td>0</td>\n",
              "      <td>0</td>\n",
              "      <td>0</td>\n",
              "      <td>0</td>\n",
              "      <td>0</td>\n",
              "      <td>1</td>\n",
              "      <td>0</td>\n",
              "      <td>0</td>\n",
              "    </tr>\n",
              "    <tr>\n",
              "      <th>1341024</th>\n",
              "      <td>30000.0</td>\n",
              "      <td>60</td>\n",
              "      <td>17.97</td>\n",
              "      <td>99936.00</td>\n",
              "      <td>201812</td>\n",
              "      <td>24.95</td>\n",
              "      <td>0.0</td>\n",
              "      <td>689.0</td>\n",
              "      <td>0.0</td>\n",
              "      <td>15.0</td>\n",
              "      <td>0.0</td>\n",
              "      <td>31060.0</td>\n",
              "      <td>77.8</td>\n",
              "      <td>42.0</td>\n",
              "      <td>1742.87</td>\n",
              "      <td>0.0</td>\n",
              "      <td>0.00</td>\n",
              "      <td>29728.46</td>\n",
              "      <td>709.0</td>\n",
              "      <td>0.0</td>\n",
              "      <td>0.0</td>\n",
              "      <td>0.0</td>\n",
              "      <td>0.0</td>\n",
              "      <td>0.0</td>\n",
              "      <td>0.0</td>\n",
              "      <td>1</td>\n",
              "      <td>0</td>\n",
              "      <td>0</td>\n",
              "      <td>0</td>\n",
              "      <td>0</td>\n",
              "      <td>0</td>\n",
              "      <td>0</td>\n",
              "      <td>0</td>\n",
              "      <td>0</td>\n",
              "      <td>0</td>\n",
              "      <td>0</td>\n",
              "      <td>0</td>\n",
              "      <td>0</td>\n",
              "      <td>0</td>\n",
              "      <td>0</td>\n",
              "      <td>...</td>\n",
              "      <td>0</td>\n",
              "      <td>0</td>\n",
              "      <td>0</td>\n",
              "      <td>0</td>\n",
              "      <td>0</td>\n",
              "      <td>0</td>\n",
              "      <td>0</td>\n",
              "      <td>0</td>\n",
              "      <td>0</td>\n",
              "      <td>0</td>\n",
              "      <td>0</td>\n",
              "      <td>0</td>\n",
              "      <td>0</td>\n",
              "      <td>0</td>\n",
              "      <td>0</td>\n",
              "      <td>0</td>\n",
              "      <td>0</td>\n",
              "      <td>0</td>\n",
              "      <td>1</td>\n",
              "      <td>1</td>\n",
              "      <td>1</td>\n",
              "      <td>0</td>\n",
              "      <td>0</td>\n",
              "      <td>0</td>\n",
              "      <td>0</td>\n",
              "      <td>0</td>\n",
              "      <td>0</td>\n",
              "      <td>1</td>\n",
              "      <td>0</td>\n",
              "      <td>0</td>\n",
              "      <td>0</td>\n",
              "      <td>0</td>\n",
              "      <td>0</td>\n",
              "      <td>0</td>\n",
              "      <td>1</td>\n",
              "      <td>0</td>\n",
              "      <td>0</td>\n",
              "      <td>0</td>\n",
              "      <td>0</td>\n",
              "      <td>0</td>\n",
              "    </tr>\n",
              "    <tr>\n",
              "      <th>1341025</th>\n",
              "      <td>3500.0</td>\n",
              "      <td>36</td>\n",
              "      <td>10.33</td>\n",
              "      <td>58000.00</td>\n",
              "      <td>201812</td>\n",
              "      <td>18.44</td>\n",
              "      <td>0.0</td>\n",
              "      <td>754.0</td>\n",
              "      <td>2.0</td>\n",
              "      <td>16.0</td>\n",
              "      <td>0.0</td>\n",
              "      <td>148.0</td>\n",
              "      <td>0.3</td>\n",
              "      <td>17.0</td>\n",
              "      <td>106.05</td>\n",
              "      <td>0.0</td>\n",
              "      <td>0.00</td>\n",
              "      <td>1770.63</td>\n",
              "      <td>709.0</td>\n",
              "      <td>0.0</td>\n",
              "      <td>0.0</td>\n",
              "      <td>0.0</td>\n",
              "      <td>0.0</td>\n",
              "      <td>0.0</td>\n",
              "      <td>0.0</td>\n",
              "      <td>1</td>\n",
              "      <td>0</td>\n",
              "      <td>0</td>\n",
              "      <td>0</td>\n",
              "      <td>0</td>\n",
              "      <td>1</td>\n",
              "      <td>0</td>\n",
              "      <td>0</td>\n",
              "      <td>0</td>\n",
              "      <td>0</td>\n",
              "      <td>0</td>\n",
              "      <td>0</td>\n",
              "      <td>0</td>\n",
              "      <td>0</td>\n",
              "      <td>0</td>\n",
              "      <td>...</td>\n",
              "      <td>0</td>\n",
              "      <td>0</td>\n",
              "      <td>0</td>\n",
              "      <td>0</td>\n",
              "      <td>0</td>\n",
              "      <td>0</td>\n",
              "      <td>0</td>\n",
              "      <td>0</td>\n",
              "      <td>0</td>\n",
              "      <td>0</td>\n",
              "      <td>0</td>\n",
              "      <td>0</td>\n",
              "      <td>0</td>\n",
              "      <td>0</td>\n",
              "      <td>0</td>\n",
              "      <td>0</td>\n",
              "      <td>0</td>\n",
              "      <td>1</td>\n",
              "      <td>0</td>\n",
              "      <td>0</td>\n",
              "      <td>1</td>\n",
              "      <td>0</td>\n",
              "      <td>1</td>\n",
              "      <td>0</td>\n",
              "      <td>0</td>\n",
              "      <td>0</td>\n",
              "      <td>0</td>\n",
              "      <td>0</td>\n",
              "      <td>0</td>\n",
              "      <td>0</td>\n",
              "      <td>0</td>\n",
              "      <td>0</td>\n",
              "      <td>0</td>\n",
              "      <td>0</td>\n",
              "      <td>0</td>\n",
              "      <td>0</td>\n",
              "      <td>0</td>\n",
              "      <td>1</td>\n",
              "      <td>0</td>\n",
              "      <td>0</td>\n",
              "    </tr>\n",
              "  </tbody>\n",
              "</table>\n",
              "<p>1341026 rows × 83 columns</p>\n",
              "</div>"
            ],
            "text/plain": [
              "         loan_amnt  term  int_rate  annual_inc  ... OWN  RENT  DirectPay  Y\n",
              "0           9000.0    36     12.49    39000.00  ...   0     0          0  0\n",
              "1          12375.0    36     10.91    80000.00  ...   0     1          0  0\n",
              "2          12000.0    36      9.01   100671.39  ...   0     0          0  0\n",
              "3           7000.0    36     10.59    63500.00  ...   0     0          0  0\n",
              "4           4800.0    36     10.28    35000.00  ...   0     1          0  0\n",
              "...            ...   ...       ...         ...  ...  ..   ...        ... ..\n",
              "1341021    10000.0    60     13.56    40000.00  ...   0     1          0  0\n",
              "1341022    14400.0    60     11.80   120000.00  ...   0     0          1  0\n",
              "1341023     5000.0    36     16.14    45000.00  ...   0     1          0  0\n",
              "1341024    30000.0    60     17.97    99936.00  ...   0     0          0  0\n",
              "1341025     3500.0    36     10.33    58000.00  ...   0     1          0  0\n",
              "\n",
              "[1341026 rows x 83 columns]"
            ]
          },
          "metadata": {},
          "execution_count": 101
        }
      ]
    },
    {
      "cell_type": "markdown",
      "metadata": {
        "id": "kox1PXS5OLaF"
      },
      "source": [
        "날짜 (issue_d) 정리 및 sort"
      ]
    },
    {
      "cell_type": "code",
      "metadata": {
        "id": "F7FFamfjKhoE"
      },
      "source": [
        "df_accepted['issue_d'] = df_accepted['issue_d'].str.replace('Jan','01')\n",
        "df_accepted['issue_d'] = df_accepted['issue_d'].str.replace('Feb','02')\n",
        "df_accepted['issue_d'] = df_accepted['issue_d'].str.replace('Mar','03')\n",
        "df_accepted['issue_d'] = df_accepted['issue_d'].str.replace('Apr','04')\n",
        "df_accepted['issue_d'] = df_accepted['issue_d'].str.replace('May','05')\n",
        "df_accepted['issue_d'] = df_accepted['issue_d'].str.replace('Jun','06')\n",
        "df_accepted['issue_d'] = df_accepted['issue_d'].str.replace('Jul','07')\n",
        "df_accepted['issue_d'] = df_accepted['issue_d'].str.replace('Aug','08')\n",
        "df_accepted['issue_d'] = df_accepted['issue_d'].str.replace('Sep','09')\n",
        "df_accepted['issue_d'] = df_accepted['issue_d'].str.replace('Oct','10')\n",
        "df_accepted['issue_d'] = df_accepted['issue_d'].str.replace('Dec','11')\n",
        "df_accepted['issue_d'] = df_accepted['issue_d'].str.replace('Nov','12')"
      ],
      "execution_count": 77,
      "outputs": []
    },
    {
      "cell_type": "code",
      "metadata": {
        "colab": {
          "base_uri": "https://localhost:8080/",
          "height": 35
        },
        "id": "860EGLGINHsD",
        "outputId": "1fe14eca-0ba7-468b-de51-58d9dd4fc05b"
      },
      "source": [
        "def reorder_issue_d(dt):\n",
        "    a = dt.split('-')\n",
        "    return a[1]+a[0]\n",
        "\n",
        "reorder_issue_d('01-2009')"
      ],
      "execution_count": 86,
      "outputs": [
        {
          "output_type": "execute_result",
          "data": {
            "application/vnd.google.colaboratory.intrinsic+json": {
              "type": "string"
            },
            "text/plain": [
              "'200901'"
            ]
          },
          "metadata": {},
          "execution_count": 86
        }
      ]
    },
    {
      "cell_type": "code",
      "metadata": {
        "id": "m1Qbww6FNhAE"
      },
      "source": [
        " df_accepted['issue_d'] = df_accepted['issue_d'].apply(reorder_issue_d)\n",
        " df_accepted = df_accepted.sort_values(by='issue_d')\n",
        " df_accepted.reset_index(drop=True, inplace=True)"
      ],
      "execution_count": 90,
      "outputs": []
    },
    {
      "cell_type": "code",
      "metadata": {
        "colab": {
          "base_uri": "https://localhost:8080/",
          "height": 282
        },
        "id": "RpTb5TntRXIg",
        "outputId": "64cb7caa-70e4-4091-e5e7-355afe907226"
      },
      "source": [
        "plt.plot(df_accepted['issue_d'].value_counts())"
      ],
      "execution_count": 102,
      "outputs": [
        {
          "output_type": "execute_result",
          "data": {
            "text/plain": [
              "[<matplotlib.lines.Line2D at 0x7f8d4bcc7a90>]"
            ]
          },
          "metadata": {},
          "execution_count": 102
        },
        {
          "output_type": "display_data",
          "data": {
            "image/png": "[encoded data removed]",
            "text/plain": [
              "<Figure size 432x288 with 1 Axes>"
            ]
          },
          "metadata": {
            "needs_background": "light"
          }
        }
      ]
    },
    {
      "cell_type": "code",
      "metadata": {
        "colab": {
          "base_uri": "https://localhost:8080/"
        },
        "id": "xuL7Ugt3SlRI",
        "outputId": "144bbf1b-5359-474f-df24-f0f328791c3f"
      },
      "source": [
        "df_accepted[df_accepted['issue_d'].str.startswith('2009')]['issue_d'].value_counts()"
      ],
      "execution_count": 103,
      "outputs": [
        {
          "output_type": "execute_result",
          "data": {
            "text/plain": [
              "200912    597\n",
              "200911    595\n",
              "200910    543\n",
              "200909    445\n",
              "200908    407\n",
              "200907    372\n",
              "200906    353\n",
              "200905    319\n",
              "200904    287\n",
              "200903    275\n",
              "200902    259\n",
              "200901    236\n",
              "Name: issue_d, dtype: int64"
            ]
          },
          "metadata": {},
          "execution_count": 103
        }
      ]
    },
    {
      "cell_type": "markdown",
      "metadata": {
        "id": "ElEIDV7vQvQ9"
      },
      "source": [
        ""
      ]
    },
    {
      "cell_type": "markdown",
      "metadata": {
        "id": "R3fVHlCdVHsm"
      },
      "source": [
        "##Creating a Neural Network Model\n",
        "\n",
        "now we are ready to start our modelling phase. First, let's apply a train-test-split and scale data before training."
      ]
    },
    {
      "cell_type": "markdown",
      "metadata": {
        "id": "uV-Ibd_zV1ey"
      },
      "source": [
        "2007,2008,2009 년도 데이터로 학습하고, 이후 각 년도별 Acc를 측정한다."
      ]
    },
    {
      "cell_type": "code",
      "metadata": {
        "id": "lp4UWKMTapcV"
      },
      "source": [
        "X = {}\n",
        "Y = {}"
      ],
      "execution_count": 59,
      "outputs": []
    },
    {
      "cell_type": "code",
      "metadata": {
        "id": "xz3U2D-QVJ4E"
      },
      "source": [
        "# sampling data\n",
        "\n",
        "# df = df_accepted.sample(frac=0.8,random_state=42)\n",
        "# print(len(df))\n",
        "\n",
        "df = df_accepted[df_accepted['issue_d'].str.startswith('2007') + df_accepted['issue_d'].str.startswith('2008') + df_accepted['issue_d'].str.startswith('2009')].copy()\n",
        "df = df.drop(columns=['issue_d'])\n"
      ],
      "execution_count": 105,
      "outputs": []
    },
    {
      "cell_type": "code",
      "metadata": {
        "id": "IzlOEmeeYD7V"
      },
      "source": [
        "X[2009] = df.loc[:, df.columns != 'loan_paid'].values\n",
        "Y[2009] = df.loan_paid.values"
      ],
      "execution_count": 106,
      "outputs": []
    },
    {
      "cell_type": "code",
      "metadata": {
        "colab": {
          "base_uri": "https://localhost:8080/"
        },
        "id": "M3uLSEdSaX-z",
        "outputId": "f8b9fec0-4230-4ee3-e31d-e3e7341d590b"
      },
      "source": [
        "for year in range(2010,2019):\n",
        "    print(year)\n",
        "    df = df_accepted[df_accepted['issue_d'].str.startswith(str(year))].copy()\n",
        "    df = df.drop(columns=['issue_d'])\n",
        "    X[year] = df.loc[:, df.columns != 'loan_paid'].values\n",
        "    Y[year] = df.loan_paid.values"
      ],
      "execution_count": 107,
      "outputs": [
        {
          "output_type": "stream",
          "name": "stdout",
          "text": [
            "2010\n",
            "2011\n",
            "2012\n",
            "2013\n",
            "2014\n",
            "2015\n",
            "2016\n",
            "2017\n",
            "2018\n"
          ]
        }
      ]
    },
    {
      "cell_type": "markdown",
      "metadata": {
        "id": "MybnlYUGcIhQ"
      },
      "source": [
        "각 년도별 학습"
      ]
    },
    {
      "cell_type": "code",
      "metadata": {
        "id": "MPGnhWBPg49u"
      },
      "source": [
        "ML = {}\n",
        "scaler = MinMaxScaler()"
      ],
      "execution_count": 108,
      "outputs": []
    },
    {
      "cell_type": "code",
      "metadata": {
        "colab": {
          "base_uri": "https://localhost:8080/"
        },
        "id": "stv_uosJYacS",
        "outputId": "e58e23c6-9a93-41be-a851-a425d02e58c6"
      },
      "source": [
        "for year in range(2009,2019):\n",
        "    #X_train, X_test, y_train, y_test = train_test_split(X[year], Y[year], test_size=0.2, random_state=42)\n",
        "    X_train= scaler.fit_transform(X[year])\n",
        "    #X_test = scaler.transform(X_test)\n",
        "    y_train = Y[year]\n",
        "\n",
        "    # building the model\n",
        "    print(str(year) + '년도 학습 ======================================')\n",
        "    ML[year] = Sequential()\n",
        "    ML[year].add(Dense(units=78,activation='relu'))\n",
        "    ML[year].add(Dense(units=39,activation='relu'))\n",
        "    ML[year].add(Dense(units=19,activation='relu'))\n",
        "    ML[year].add(Dense(units=8,activation='relu'))\n",
        "    ML[year].add(Dense(units=4,activation='relu'))\n",
        "    ML[year].add(Dense(units=1,activation='sigmoid'))\n",
        "    ML[year].compile(loss='binary_crossentropy', optimizer='adam', metrics=['accuracy'])\n",
        "    ML[year].fit(x=X_train, \n",
        "            y=y_train, \n",
        "            epochs=5,\n",
        "            batch_size=512,\n",
        "            verbose=1)\n",
        "            #validation_data=(X_test, y_test), verbose=1)\n",
        "            "
      ],
      "execution_count": 64,
      "outputs": [
        {
          "output_type": "stream",
          "name": "stdout",
          "text": [
            "2009년도 학습 ======================================\n",
            "Epoch 1/5\n",
            "12/12 [==============================] - 1s 3ms/step - loss: 0.6697 - accuracy: 0.8446\n",
            "Epoch 2/5\n",
            "12/12 [==============================] - 0s 3ms/step - loss: 0.5929 - accuracy: 0.8708\n",
            "Epoch 3/5\n",
            "12/12 [==============================] - 0s 3ms/step - loss: 0.4645 - accuracy: 0.8708\n",
            "Epoch 4/5\n",
            "12/12 [==============================] - 0s 3ms/step - loss: 0.3923 - accuracy: 0.8708\n",
            "Epoch 5/5\n",
            "12/12 [==============================] - 0s 3ms/step - loss: 0.3864 - accuracy: 0.8708\n",
            "2010년도 학습 ======================================\n",
            "Epoch 1/5\n",
            "23/23 [==============================] - 1s 3ms/step - loss: 0.5612 - accuracy: 0.8685\n",
            "Epoch 2/5\n",
            "23/23 [==============================] - 0s 3ms/step - loss: 0.3903 - accuracy: 0.8728\n",
            "Epoch 3/5\n",
            "23/23 [==============================] - 0s 4ms/step - loss: 0.3658 - accuracy: 0.8728\n",
            "Epoch 4/5\n",
            "23/23 [==============================] - 0s 3ms/step - loss: 0.3511 - accuracy: 0.8728\n",
            "Epoch 5/5\n",
            "23/23 [==============================] - 0s 3ms/step - loss: 0.3372 - accuracy: 0.8728\n",
            "2011년도 학습 ======================================\n",
            "Epoch 1/5\n",
            "43/43 [==============================] - 1s 3ms/step - loss: 0.6242 - accuracy: 0.8117\n",
            "Epoch 2/5\n",
            "43/43 [==============================] - 0s 3ms/step - loss: 0.4151 - accuracy: 0.8498\n",
            "Epoch 3/5\n",
            "43/43 [==============================] - 0s 3ms/step - loss: 0.3731 - accuracy: 0.8498\n",
            "Epoch 4/5\n",
            "43/43 [==============================] - 0s 3ms/step - loss: 0.3315 - accuracy: 0.8568\n",
            "Epoch 5/5\n",
            "43/43 [==============================] - 0s 3ms/step - loss: 0.2428 - accuracy: 0.9027\n",
            "2012년도 학습 ======================================\n",
            "Epoch 1/5\n",
            "105/105 [==============================] - 1s 3ms/step - loss: 0.4337 - accuracy: 0.8390\n",
            "Epoch 2/5\n",
            "105/105 [==============================] - 0s 3ms/step - loss: 0.2849 - accuracy: 0.8640\n",
            "Epoch 3/5\n",
            "105/105 [==============================] - 0s 3ms/step - loss: 0.2085 - accuracy: 0.9238\n",
            "Epoch 4/5\n",
            "105/105 [==============================] - 0s 3ms/step - loss: 0.1959 - accuracy: 0.9328\n",
            "Epoch 5/5\n",
            "105/105 [==============================] - 0s 3ms/step - loss: 0.1838 - accuracy: 0.9391\n",
            "2013년도 학습 ======================================\n",
            "Epoch 1/5\n",
            "263/263 [==============================] - 1s 3ms/step - loss: 0.3201 - accuracy: 0.8680\n",
            "Epoch 2/5\n",
            "263/263 [==============================] - 1s 3ms/step - loss: 0.1749 - accuracy: 0.9441\n",
            "Epoch 3/5\n",
            "263/263 [==============================] - 1s 3ms/step - loss: 0.1564 - accuracy: 0.9512\n",
            "Epoch 4/5\n",
            "263/263 [==============================] - 1s 3ms/step - loss: 0.1422 - accuracy: 0.9560\n",
            "Epoch 5/5\n",
            "263/263 [==============================] - 1s 3ms/step - loss: 0.1306 - accuracy: 0.9592\n",
            "2014년도 학습 ======================================\n",
            "Epoch 1/5\n",
            "436/436 [==============================] - 2s 3ms/step - loss: 0.6353 - accuracy: 0.8070\n",
            "Epoch 2/5\n",
            "436/436 [==============================] - 1s 3ms/step - loss: 0.4597 - accuracy: 0.9106\n",
            "Epoch 3/5\n",
            "436/436 [==============================] - 1s 3ms/step - loss: 0.3179 - accuracy: 0.9599\n",
            "Epoch 4/5\n",
            "436/436 [==============================] - 1s 3ms/step - loss: 0.2526 - accuracy: 0.9625\n",
            "Epoch 5/5\n",
            "436/436 [==============================] - 1s 3ms/step - loss: 0.2075 - accuracy: 0.9654\n",
            "2015년도 학습 ======================================\n",
            "Epoch 1/5\n",
            "733/733 [==============================] - 3s 3ms/step - loss: 0.1611 - accuracy: 0.9331\n",
            "Epoch 2/5\n",
            "733/733 [==============================] - 2s 3ms/step - loss: 0.0853 - accuracy: 0.9667\n",
            "Epoch 3/5\n",
            "733/733 [==============================] - 2s 3ms/step - loss: 0.0783 - accuracy: 0.9701\n",
            "Epoch 4/5\n",
            "733/733 [==============================] - 2s 3ms/step - loss: 0.0738 - accuracy: 0.9719\n",
            "Epoch 5/5\n",
            "733/733 [==============================] - 2s 3ms/step - loss: 0.0697 - accuracy: 0.9735\n",
            "2016년도 학습 ======================================\n",
            "Epoch 1/5\n",
            "571/571 [==============================] - 2s 3ms/step - loss: 0.1609 - accuracy: 0.9337\n",
            "Epoch 2/5\n",
            "571/571 [==============================] - 2s 3ms/step - loss: 0.0735 - accuracy: 0.9746\n",
            "Epoch 3/5\n",
            "571/571 [==============================] - 2s 3ms/step - loss: 0.0692 - accuracy: 0.9760\n",
            "Epoch 4/5\n",
            "571/571 [==============================] - 2s 3ms/step - loss: 0.0659 - accuracy: 0.9769\n",
            "Epoch 5/5\n",
            "571/571 [==============================] - 2s 3ms/step - loss: 0.0642 - accuracy: 0.9775\n",
            "2017년도 학습 ======================================\n",
            "Epoch 1/5\n",
            "329/329 [==============================] - 2s 3ms/step - loss: 0.1751 - accuracy: 0.9329\n",
            "Epoch 2/5\n",
            "329/329 [==============================] - 1s 3ms/step - loss: 0.0613 - accuracy: 0.9795\n",
            "Epoch 3/5\n",
            "329/329 [==============================] - 1s 3ms/step - loss: 0.0557 - accuracy: 0.9813\n",
            "Epoch 4/5\n",
            "329/329 [==============================] - 1s 3ms/step - loss: 0.0538 - accuracy: 0.9820\n",
            "Epoch 5/5\n",
            "329/329 [==============================] - 1s 3ms/step - loss: 0.0512 - accuracy: 0.9831\n",
            "2018년도 학습 ======================================\n",
            "Epoch 1/5\n",
            "109/109 [==============================] - 1s 3ms/step - loss: 0.3888 - accuracy: 0.8591\n",
            "Epoch 2/5\n",
            "109/109 [==============================] - 0s 3ms/step - loss: 0.0781 - accuracy: 0.9760\n",
            "Epoch 3/5\n",
            "109/109 [==============================] - 0s 3ms/step - loss: 0.0589 - accuracy: 0.9818\n",
            "Epoch 4/5\n",
            "109/109 [==============================] - 0s 3ms/step - loss: 0.0572 - accuracy: 0.9819\n",
            "Epoch 5/5\n",
            "109/109 [==============================] - 0s 3ms/step - loss: 0.0554 - accuracy: 0.9823\n"
          ]
        }
      ]
    },
    {
      "cell_type": "markdown",
      "metadata": {
        "id": "wMGAN24nY1tG"
      },
      "source": [
        "Evaluate model"
      ]
    },
    {
      "cell_type": "code",
      "metadata": {
        "id": "mW5vt4qNjsnT"
      },
      "source": [
        "metric = np.zeros((10,10))\n",
        "mdf = pd.DataFrame(metric,columns=['2009','2010','2011','2012','2013','2014','2015','2016','2017','2018'],index=['2009','2010','2011','2012','2013','2014','2015','2016','2017','2018'])\n"
      ],
      "execution_count": 65,
      "outputs": []
    },
    {
      "cell_type": "code",
      "metadata": {
        "colab": {
          "base_uri": "https://localhost:8080/",
          "height": 1000
        },
        "id": "jYMkwDqcZb0B",
        "outputId": "aab7af67-e753-4978-d654-9469ebc449c6"
      },
      "source": [
        "# 2009년 학습으로 2010~2018년까지의 acc 비교\n",
        "for model_year in range(2009,2019):\n",
        "    print('model:',model_year)\n",
        "    for year in range(2009,2019):\n",
        "        print('\\ttest:',year)\n",
        "        X_test = scaler.fit_transform(X[year])\n",
        "        predictions = (ML[model_year].predict(X_test) > 0.5).astype(\"int32\")\n",
        "        acc = accuracy_score(Y[year], predictions)\n",
        "        print('\\tacc:',acc)\n",
        "        mdf.iloc[year-2009,model_year-2009] = acc\n",
        "\n",
        "mdf"
      ],
      "execution_count": 66,
      "outputs": [
        {
          "output_type": "stream",
          "name": "stdout",
          "text": [
            "model: 2009\n",
            "test: 2009\n",
            "acc: 0.8707952389166811\n",
            "test: 2010\n",
            "acc: 0.8728363921022876\n",
            "test: 2011\n",
            "acc: 0.8497808535178777\n",
            "test: 2012\n",
            "acc: 0.8390349230191513\n",
            "test: 2013\n",
            "acc: 0.8445916836272339\n",
            "test: 2014\n",
            "acc: 0.816032528206371\n",
            "test: 2015\n",
            "acc: 0.7987885509533763\n",
            "test: 2016\n",
            "acc: 0.768492705536267\n",
            "test: 2017\n",
            "acc: 0.7714694684825412\n",
            "test: 2018\n",
            "acc: 0.8506363750922609\n",
            "model: 2010\n",
            "test: 2009\n",
            "acc: 0.8707952389166811\n",
            "test: 2010\n",
            "acc: 0.8728363921022876\n",
            "test: 2011\n",
            "acc: 0.8497808535178777\n",
            "test: 2012\n",
            "acc: 0.8390349230191513\n",
            "test: 2013\n",
            "acc: 0.8445916836272339\n",
            "test: 2014\n",
            "acc: 0.816032528206371\n",
            "test: 2015\n",
            "acc: 0.7987885509533763\n",
            "test: 2016\n",
            "acc: 0.768492705536267\n",
            "test: 2017\n",
            "acc: 0.7714694684825412\n",
            "test: 2018\n",
            "acc: 0.8506363750922609\n",
            "model: 2011\n",
            "test: 2009\n",
            "acc: 0.8935656373986545\n",
            "test: 2010\n",
            "acc: 0.9183265199617291\n",
            "test: 2011\n",
            "acc: 0.912479815455594\n",
            "test: 2012\n",
            "acc: 0.9103642508449118\n",
            "test: 2013\n",
            "acc: 0.9189309643011008\n",
            "test: 2014\n",
            "acc: 0.9037886743678811\n",
            "test: 2015\n",
            "acc: 0.8967842213027343\n",
            "test: 2016\n",
            "acc: 0.9390514631685166\n",
            "test: 2017\n",
            "acc: 0.9589290062779523\n",
            "test: 2018\n",
            "acc: 0.9581090568687105\n",
            "model: 2012\n",
            "test: 2009\n",
            "acc: 0.9058133517336553\n",
            "test: 2010\n",
            "acc: 0.9266765243106897\n",
            "test: 2011\n",
            "acc: 0.9297347174163784\n",
            "test: 2012\n",
            "acc: 0.9421517085993241\n",
            "test: 2013\n",
            "acc: 0.9483532155750004\n",
            "test: 2014\n",
            "acc: 0.9498388848497904\n",
            "test: 2015\n",
            "acc: 0.9482014887173144\n",
            "test: 2016\n",
            "acc: 0.8786023362807641\n",
            "test: 2017\n",
            "acc: 0.9218908693508823\n",
            "test: 2018\n",
            "acc: 0.9235449783074403\n",
            "model: 2013\n",
            "test: 2009\n",
            "acc: 0.9156460238054166\n",
            "test: 2010\n",
            "acc: 0.9328520483604419\n",
            "test: 2011\n",
            "acc: 0.9420069204152249\n",
            "test: 2012\n",
            "acc: 0.9512767555388659\n",
            "test: 2013\n",
            "acc: 0.9620801331095034\n",
            "test: 2014\n",
            "acc: 0.962140183644344\n",
            "test: 2015\n",
            "acc: 0.9617129846862603\n",
            "test: 2016\n",
            "acc: 0.8946621286493698\n",
            "test: 2017\n",
            "acc: 0.9318571929178521\n",
            "test: 2018\n",
            "acc: 0.9292696538191506\n",
            "model: 2014\n",
            "test: 2009\n",
            "acc: 0.9187510781438675\n",
            "test: 2010\n",
            "acc: 0.9372879881708271\n",
            "test: 2011\n",
            "acc: 0.9405767012687428\n",
            "test: 2012\n",
            "acc: 0.9520277882087871\n",
            "test: 2013\n",
            "acc: 0.9609436513006403\n",
            "test: 2014\n",
            "acc: 0.9642674421735735\n",
            "test: 2015\n",
            "acc: 0.9649335622573902\n",
            "test: 2016\n",
            "acc: 0.8601173271306162\n",
            "test: 2017\n",
            "acc: 0.9104931488949735\n",
            "test: 2018\n",
            "acc: 0.9093593043979189\n",
            "model: 2015\n",
            "test: 2009\n",
            "acc: 0.7210626185958254\n",
            "test: 2010\n",
            "acc: 0.5233539184134992\n",
            "test: 2011\n",
            "acc: 0.5772087658592849\n",
            "test: 2012\n",
            "acc: 0.5806609087495306\n",
            "test: 2013\n",
            "acc: 0.5955907477010385\n",
            "test: 2014\n",
            "acc: 0.6627083501629103\n",
            "test: 2015\n",
            "acc: 0.9740434244763896\n",
            "test: 2016\n",
            "acc: 0.8463698712138056\n",
            "test: 2017\n",
            "acc: 0.8960425736634852\n",
            "test: 2018\n",
            "acc: 0.9098273596284362\n",
            "model: 2016\n",
            "test: 2009\n",
            "acc: 0.7253751940658961\n",
            "test: 2010\n",
            "acc: 0.6159867791597808\n",
            "test: 2011\n",
            "acc: 0.6818454440599769\n",
            "test: 2012\n",
            "acc: 0.6903116785580172\n",
            "test: 2013\n",
            "acc: 0.7174765647051833\n",
            "test: 2014\n",
            "acc: 0.7812110114800155\n",
            "test: 2015\n",
            "acc: 0.910756942370857\n",
            "test: 2016\n",
            "acc: 0.9782790880637603\n",
            "test: 2017\n",
            "acc: 0.9797228673077266\n",
            "test: 2018\n",
            "acc: 0.97632720661038\n",
            "model: 2017\n",
            "test: 2009\n",
            "acc: 0.8123167155425219\n",
            "test: 2010\n",
            "acc: 0.7615899799947813\n",
            "test: 2011\n",
            "acc: 0.8481199538638985\n",
            "test: 2012\n",
            "acc: 0.8479534359744649\n",
            "test: 2013\n",
            "acc: 0.8710575966009537\n",
            "test: 2014\n",
            "acc: 0.909326727163386\n",
            "test: 2015\n",
            "acc: 0.8883035447681611\n",
            "test: 2016\n",
            "acc: 0.967240760060887\n",
            "test: 2017\n",
            "acc: 0.9828707525821568\n",
            "test: 2018\n",
            "acc: 0.9822139012403464\n",
            "model: 2018\n",
            "test: 2009\n",
            "acc: 0.8782128687252027\n",
            "test: 2010\n",
            "acc: 0.888318691832652\n",
            "test: 2011\n",
            "acc: 0.8680046136101499\n",
            "test: 2012\n",
            "acc: 0.8650582050319189\n",
            "test: 2013\n",
            "acc: 0.8757075156359099\n",
            "test: 2014\n",
            "acc: 0.8639856028578866\n",
            "test: 2015\n",
            "acc: 0.8392510557522501\n",
            "test: 2016\n",
            "acc: 0.960512408284732\n",
            "test: 2017\n",
            "acc: 0.9773530442426366\n",
            "test: 2018\n",
            "acc: 0.9836360690561486\n"
          ]
        },
        {
          "output_type": "execute_result",
          "data": {
            "text/html": [
              "<div>\n",
              "<style scoped>\n",
              "    .dataframe tbody tr th:only-of-type {\n",
              "        vertical-align: middle;\n",
              "    }\n",
              "\n",
              "    .dataframe tbody tr th {\n",
              "        vertical-align: top;\n",
              "    }\n",
              "\n",
              "    .dataframe thead th {\n",
              "        text-align: right;\n",
              "    }\n",
              "</style>\n",
              "<table border=\"1\" class=\"dataframe\">\n",
              "  <thead>\n",
              "    <tr style=\"text-align: right;\">\n",
              "      <th></th>\n",
              "      <th>2009</th>\n",
              "      <th>2010</th>\n",
              "      <th>2011</th>\n",
              "      <th>2012</th>\n",
              "      <th>2013</th>\n",
              "      <th>2014</th>\n",
              "      <th>2015</th>\n",
              "      <th>2016</th>\n",
              "      <th>2017</th>\n",
              "      <th>2018</th>\n",
              "    </tr>\n",
              "  </thead>\n",
              "  <tbody>\n",
              "    <tr>\n",
              "      <th>2009</th>\n",
              "      <td>0.870795</td>\n",
              "      <td>0.870795</td>\n",
              "      <td>0.893566</td>\n",
              "      <td>0.905813</td>\n",
              "      <td>0.915646</td>\n",
              "      <td>0.918751</td>\n",
              "      <td>0.721063</td>\n",
              "      <td>0.725375</td>\n",
              "      <td>0.812317</td>\n",
              "      <td>0.878213</td>\n",
              "    </tr>\n",
              "    <tr>\n",
              "      <th>2010</th>\n",
              "      <td>0.872836</td>\n",
              "      <td>0.872836</td>\n",
              "      <td>0.918327</td>\n",
              "      <td>0.926677</td>\n",
              "      <td>0.932852</td>\n",
              "      <td>0.937288</td>\n",
              "      <td>0.523354</td>\n",
              "      <td>0.615987</td>\n",
              "      <td>0.761590</td>\n",
              "      <td>0.888319</td>\n",
              "    </tr>\n",
              "    <tr>\n",
              "      <th>2011</th>\n",
              "      <td>0.849781</td>\n",
              "      <td>0.849781</td>\n",
              "      <td>0.912480</td>\n",
              "      <td>0.929735</td>\n",
              "      <td>0.942007</td>\n",
              "      <td>0.940577</td>\n",
              "      <td>0.577209</td>\n",
              "      <td>0.681845</td>\n",
              "      <td>0.848120</td>\n",
              "      <td>0.868005</td>\n",
              "    </tr>\n",
              "    <tr>\n",
              "      <th>2012</th>\n",
              "      <td>0.839035</td>\n",
              "      <td>0.839035</td>\n",
              "      <td>0.910364</td>\n",
              "      <td>0.942152</td>\n",
              "      <td>0.951277</td>\n",
              "      <td>0.952028</td>\n",
              "      <td>0.580661</td>\n",
              "      <td>0.690312</td>\n",
              "      <td>0.847953</td>\n",
              "      <td>0.865058</td>\n",
              "    </tr>\n",
              "    <tr>\n",
              "      <th>2013</th>\n",
              "      <td>0.844592</td>\n",
              "      <td>0.844592</td>\n",
              "      <td>0.918931</td>\n",
              "      <td>0.948353</td>\n",
              "      <td>0.962080</td>\n",
              "      <td>0.960944</td>\n",
              "      <td>0.595591</td>\n",
              "      <td>0.717477</td>\n",
              "      <td>0.871058</td>\n",
              "      <td>0.875708</td>\n",
              "    </tr>\n",
              "    <tr>\n",
              "      <th>2014</th>\n",
              "      <td>0.816033</td>\n",
              "      <td>0.816033</td>\n",
              "      <td>0.903789</td>\n",
              "      <td>0.949839</td>\n",
              "      <td>0.962140</td>\n",
              "      <td>0.964267</td>\n",
              "      <td>0.662708</td>\n",
              "      <td>0.781211</td>\n",
              "      <td>0.909327</td>\n",
              "      <td>0.863986</td>\n",
              "    </tr>\n",
              "    <tr>\n",
              "      <th>2015</th>\n",
              "      <td>0.798789</td>\n",
              "      <td>0.798789</td>\n",
              "      <td>0.896784</td>\n",
              "      <td>0.948201</td>\n",
              "      <td>0.961713</td>\n",
              "      <td>0.964934</td>\n",
              "      <td>0.974043</td>\n",
              "      <td>0.910757</td>\n",
              "      <td>0.888304</td>\n",
              "      <td>0.839251</td>\n",
              "    </tr>\n",
              "    <tr>\n",
              "      <th>2016</th>\n",
              "      <td>0.768493</td>\n",
              "      <td>0.768493</td>\n",
              "      <td>0.939051</td>\n",
              "      <td>0.878602</td>\n",
              "      <td>0.894662</td>\n",
              "      <td>0.860117</td>\n",
              "      <td>0.846370</td>\n",
              "      <td>0.978279</td>\n",
              "      <td>0.967241</td>\n",
              "      <td>0.960512</td>\n",
              "    </tr>\n",
              "    <tr>\n",
              "      <th>2017</th>\n",
              "      <td>0.771469</td>\n",
              "      <td>0.771469</td>\n",
              "      <td>0.958929</td>\n",
              "      <td>0.921891</td>\n",
              "      <td>0.931857</td>\n",
              "      <td>0.910493</td>\n",
              "      <td>0.896043</td>\n",
              "      <td>0.979723</td>\n",
              "      <td>0.982871</td>\n",
              "      <td>0.977353</td>\n",
              "    </tr>\n",
              "    <tr>\n",
              "      <th>2018</th>\n",
              "      <td>0.850636</td>\n",
              "      <td>0.850636</td>\n",
              "      <td>0.958109</td>\n",
              "      <td>0.923545</td>\n",
              "      <td>0.929270</td>\n",
              "      <td>0.909359</td>\n",
              "      <td>0.909827</td>\n",
              "      <td>0.976327</td>\n",
              "      <td>0.982214</td>\n",
              "      <td>0.983636</td>\n",
              "    </tr>\n",
              "  </tbody>\n",
              "</table>\n",
              "</div>"
            ],
            "text/plain": [
              "          2009      2010      2011  ...      2016      2017      2018\n",
              "2009  0.870795  0.870795  0.893566  ...  0.725375  0.812317  0.878213\n",
              "2010  0.872836  0.872836  0.918327  ...  0.615987  0.761590  0.888319\n",
              "2011  0.849781  0.849781  0.912480  ...  0.681845  0.848120  0.868005\n",
              "2012  0.839035  0.839035  0.910364  ...  0.690312  0.847953  0.865058\n",
              "2013  0.844592  0.844592  0.918931  ...  0.717477  0.871058  0.875708\n",
              "2014  0.816033  0.816033  0.903789  ...  0.781211  0.909327  0.863986\n",
              "2015  0.798789  0.798789  0.896784  ...  0.910757  0.888304  0.839251\n",
              "2016  0.768493  0.768493  0.939051  ...  0.978279  0.967241  0.960512\n",
              "2017  0.771469  0.771469  0.958929  ...  0.979723  0.982871  0.977353\n",
              "2018  0.850636  0.850636  0.958109  ...  0.976327  0.982214  0.983636\n",
              "\n",
              "[10 rows x 10 columns]"
            ]
          },
          "metadata": {},
          "execution_count": 66
        }
      ]
    },
    {
      "cell_type": "code",
      "metadata": {
        "colab": {
          "base_uri": "https://localhost:8080/",
          "height": 606
        },
        "id": "8n-aKP2rs0ZF",
        "outputId": "17522619-2102-4c0c-cfca-be365f3d27e8"
      },
      "source": [
        "plt.figure(figsize=(12,10))\n",
        "mask = np.zeros_like(mdf)\n",
        "mask[np.triu_indices_from(mask)] = False\n",
        "sns.heatmap(mdf, cmap='viridis', mask=mask, annot=False, square=True)"
      ],
      "execution_count": 67,
      "outputs": [
        {
          "output_type": "execute_result",
          "data": {
            "text/plain": [
              "<matplotlib.axes._subplots.AxesSubplot at 0x7f8d4d40a710>"
            ]
          },
          "metadata": {},
          "execution_count": 67
        },
        {
          "output_type": "display_data",
          "data": {
            "image/png": "[encoded data removed]",
            "text/plain": [
              "<Figure size 864x720 with 2 Axes>"
            ]
          },
          "metadata": {
            "needs_background": "light"
          }
        }
      ]
    },
    {
      "cell_type": "code",
      "metadata": {
        "id": "Wt18S6uZ3R8W"
      },
      "source": [
        "import shap\n",
        "import sys\n",
        "from alibi_detect.cd import ChiSquareDrift, KSDrift"
      ],
      "execution_count": 68,
      "outputs": []
    },
    {
      "cell_type": "code",
      "metadata": {
        "colab": {
          "base_uri": "https://localhost:8080/"
        },
        "id": "ByOGbQgy3S6b",
        "outputId": "60263da2-6cbf-49ba-d89e-84f24dd8c99e"
      },
      "source": [
        "# XAI를 위한 lime  정의\n",
        "from lime import lime_tabular, lime_text\n",
        "\n",
        "model = ML[2009]\n",
        "X_test = scaler.fit_transform(X[2009])\n",
        "y_test = Y[2009]\n",
        "\n",
        "# ##### EXPLANATIONS #####\n",
        "print()\n",
        "print(\"Generating explanations...\")\n",
        "\n",
        "x_columns = df.loc[:, df.columns != 'loan_paid'].columns\n",
        "\n",
        "exp = lime_tabular.LimeTabularExplainer(\n",
        "    X_test,\n",
        "    training_labels=y_test,\n",
        "    feature_names=x_columns\n",
        ") "
      ],
      "execution_count": 69,
      "outputs": [
        {
          "output_type": "stream",
          "name": "stdout",
          "text": [
            "\n",
            "Generating explanations...\n"
          ]
        }
      ]
    },
    {
      "cell_type": "code",
      "metadata": {
        "colab": {
          "base_uri": "https://localhost:8080/",
          "height": 1000
        },
        "id": "V5A7NC157Lwq",
        "outputId": "0dd80a47-c5e6-4f94-ad06-99fe025e8f04"
      },
      "source": [
        "import operator\n",
        "import warnings\n",
        "warnings.filterwarnings('ignore')\n",
        "\n",
        "# 변수의 영향력 분석\n",
        "# 소팅을 위한 초기화 \n",
        "exp_ana = {}\n",
        "for k in x_columns:\n",
        "  exp_ana[k] = 0\n",
        "\n",
        "def predict(data):\n",
        "    return (model.predict(data) > 0.5).astype(\"int32\")\n",
        "\n",
        "for x in X_test[0:100]:\n",
        "    p = exp.explain_instance(x, predict, num_features=len(x_columns),labels=(0,))\n",
        "    for t in p.as_map()[0]:\n",
        "        exp_ana[x_columns[t[0]]] += np.abs(t[1])\n",
        "\n",
        "sorted_x = sorted(exp_ana.items(), key=operator.itemgetter(1))\n",
        "\n",
        "effect_result_table = pd.DataFrame(sorted_x,columns=['Feature', 'Importance'])\n",
        "effect_result_table['Importance'] = effect_result_table['Importance']\n",
        "effect_result_table.plot(x='Feature',y='Importance',kind='bar',figsize=(20,10))\n",
        "plt.show()\n",
        "effect_result_table"
      ],
      "execution_count": 71,
      "outputs": [
        {
          "output_type": "display_data",
          "data": {
            "image/png": "[encoded data removed]",
            "text/plain": [
              "<Figure size 1440x720 with 1 Axes>"
            ]
          },
          "metadata": {
            "needs_background": "light"
          }
        },
        {
          "output_type": "execute_result",
          "data": {
            "text/html": [
              "<div>\n",
              "<style scoped>\n",
              "    .dataframe tbody tr th:only-of-type {\n",
              "        vertical-align: middle;\n",
              "    }\n",
              "\n",
              "    .dataframe tbody tr th {\n",
              "        vertical-align: top;\n",
              "    }\n",
              "\n",
              "    .dataframe thead th {\n",
              "        text-align: right;\n",
              "    }\n",
              "</style>\n",
              "<table border=\"1\" class=\"dataframe\">\n",
              "  <thead>\n",
              "    <tr style=\"text-align: right;\">\n",
              "      <th></th>\n",
              "      <th>Feature</th>\n",
              "      <th>Importance</th>\n",
              "    </tr>\n",
              "  </thead>\n",
              "  <tbody>\n",
              "    <tr>\n",
              "      <th>0</th>\n",
              "      <td>loan_amnt</td>\n",
              "      <td>0.0</td>\n",
              "    </tr>\n",
              "    <tr>\n",
              "      <th>1</th>\n",
              "      <td>term</td>\n",
              "      <td>0.0</td>\n",
              "    </tr>\n",
              "    <tr>\n",
              "      <th>2</th>\n",
              "      <td>int_rate</td>\n",
              "      <td>0.0</td>\n",
              "    </tr>\n",
              "    <tr>\n",
              "      <th>3</th>\n",
              "      <td>annual_inc</td>\n",
              "      <td>0.0</td>\n",
              "    </tr>\n",
              "    <tr>\n",
              "      <th>4</th>\n",
              "      <td>dti</td>\n",
              "      <td>0.0</td>\n",
              "    </tr>\n",
              "    <tr>\n",
              "      <th>...</th>\n",
              "      <td>...</td>\n",
              "      <td>...</td>\n",
              "    </tr>\n",
              "    <tr>\n",
              "      <th>76</th>\n",
              "      <td>OTHER</td>\n",
              "      <td>0.0</td>\n",
              "    </tr>\n",
              "    <tr>\n",
              "      <th>77</th>\n",
              "      <td>OWN</td>\n",
              "      <td>0.0</td>\n",
              "    </tr>\n",
              "    <tr>\n",
              "      <th>78</th>\n",
              "      <td>RENT</td>\n",
              "      <td>0.0</td>\n",
              "    </tr>\n",
              "    <tr>\n",
              "      <th>79</th>\n",
              "      <td>DirectPay</td>\n",
              "      <td>0.0</td>\n",
              "    </tr>\n",
              "    <tr>\n",
              "      <th>80</th>\n",
              "      <td>Y</td>\n",
              "      <td>0.0</td>\n",
              "    </tr>\n",
              "  </tbody>\n",
              "</table>\n",
              "<p>81 rows × 2 columns</p>\n",
              "</div>"
            ],
            "text/plain": [
              "       Feature  Importance\n",
              "0    loan_amnt         0.0\n",
              "1         term         0.0\n",
              "2     int_rate         0.0\n",
              "3   annual_inc         0.0\n",
              "4          dti         0.0\n",
              "..         ...         ...\n",
              "76       OTHER         0.0\n",
              "77         OWN         0.0\n",
              "78        RENT         0.0\n",
              "79   DirectPay         0.0\n",
              "80           Y         0.0\n",
              "\n",
              "[81 rows x 2 columns]"
            ]
          },
          "metadata": {},
          "execution_count": 71
        }
      ]
    },
    {
      "cell_type": "code",
      "metadata": {
        "id": "7xhq8az0FAdO"
      },
      "source": [
        ""
      ],
      "execution_count": 70,
      "outputs": []
    }
  ]
}