{
  "nbformat": 4,
  "nbformat_minor": 0,
  "metadata": {
    "colab": {
      "provenance": [],
      "authorship_tag": "ABX9TyPv+73P8LrcRl3EY3wJlQWD",
      "include_colab_link": true
    },
    "kernelspec": {
      "name": "python3",
      "display_name": "Python 3"
    },
    "language_info": {
      "name": "python"
    }
  },
  "cells": [
    {
      "cell_type": "markdown",
      "metadata": {
        "id": "view-in-github",
        "colab_type": "text"
      },
      "source": [
        "<a href=\"https://colab.research.google.com/github/dolmani38/drift/blob/main/synthetic_data_generation_1112.ipynb\" target=\"_parent\"><img src=\"https://colab.research.google.com/assets/colab-badge.svg\" alt=\"Open In Colab\"/></a>"
      ]
    },
    {
      "cell_type": "code",
      "execution_count": 1,
      "metadata": {
        "colab": {
          "base_uri": "https://localhost:8080/"
        },
        "id": "ckPhOqqkSx4P",
        "outputId": "85376604-afc9-4b3a-f38a-5c7cc749a850"
      },
      "outputs": [
        {
          "output_type": "stream",
          "name": "stdout",
          "text": [
            "Mounted at /content/drive\n"
          ]
        }
      ],
      "source": [
        "if True:\n",
        "    from google.colab import drive\n",
        "    drive.mount('/content/drive')"
      ]
    },
    {
      "cell_type": "code",
      "source": [
        "import os\n",
        "\n",
        "import pandas as pd\n",
        "import numpy as np\n",
        "import matplotlib.pyplot as plt"
      ],
      "metadata": {
        "id": "GZnq_6TTTKJ4"
      },
      "execution_count": 2,
      "outputs": []
    },
    {
      "cell_type": "code",
      "source": [
        "# 30개의 feature x1~x30\n",
        "# y = 1/0\n",
        "# 30개의 weight w1~w30"
      ],
      "metadata": {
        "id": "CQaJRuMITLFl"
      },
      "execution_count": null,
      "outputs": []
    },
    {
      "cell_type": "code",
      "source": [],
      "metadata": {
        "colab": {
          "base_uri": "https://localhost:8080/"
        },
        "id": "ncbMbGYHUrMX",
        "outputId": "a1d009c4-fe99-4954-e471-dbcba187d9bf"
      },
      "execution_count": 3,
      "outputs": [
        {
          "output_type": "execute_result",
          "data": {
            "text/plain": [
              "array([ 1.32721340e+00,  7.13674027e-01,  4.15374988e-01,  1.37167483e+00,\n",
              "        5.27115606e-01, -9.61980505e-01,  1.05229089e+00,  1.37304179e+00,\n",
              "       -3.46609285e-02,  9.72252963e-01,  8.07366875e-01,  1.35673844e+00,\n",
              "        2.23913758e+00,  1.17896408e+00,  2.53185170e+00,  4.85110852e-02,\n",
              "        1.92054897e-01,  1.33708471e+00, -6.91017997e-01,  2.76229897e-01,\n",
              "        5.69938811e-01,  2.21030362e+00,  1.49948553e+00,  8.81079859e-01,\n",
              "        6.27062448e-01,  6.38838729e-01, -7.92205439e-01,  1.35539164e+00,\n",
              "        1.17493311e+00,  3.30392628e-01,  1.19392906e+00,  2.19771655e+00,\n",
              "        2.13001311e+00, -1.95826514e-01,  1.60858158e+00,  1.56417780e+00,\n",
              "        1.61021719e+00,  1.29288805e+00, -6.13570191e-01,  1.39721349e+00,\n",
              "        1.26543072e+00,  9.34580083e-01,  9.09385629e-01, -4.63103482e-01,\n",
              "        2.55132521e+00,  1.33127200e+00, -4.64532357e-01,  1.93986114e+00,\n",
              "       -5.93704114e-01,  5.06035553e-01,  1.05335812e+00,  1.58579737e+00,\n",
              "        1.13594241e+00,  2.29468340e+00,  5.45169822e-02,  1.53851907e+00,\n",
              "        9.75488119e-01,  1.08509974e+00, -2.94910324e-04,  2.93954300e+00,\n",
              "        1.73986086e+00,  1.86389699e+00,  1.05578254e+00,  1.17259570e+00,\n",
              "        1.08365799e-01,  6.81632644e-02,  8.79096573e-01,  1.50636057e+00,\n",
              "        1.56700399e+00,  9.44416687e-01,  1.50877485e+00,  2.97902971e+00,\n",
              "        1.97314931e+00,  1.99594828e+00,  9.07031407e-01,  2.66539309e+00,\n",
              "        6.51177948e-01,  7.57792411e-01,  3.67738559e-02, -3.61783585e-01,\n",
              "       -1.19471211e+00,  1.52643489e+00,  1.55265266e+00, -2.52895207e-02,\n",
              "        1.55958131e+00,  2.12408649e+00,  1.47996090e+00,  8.30548773e-01,\n",
              "        4.32237238e-01,  1.20630432e+00,  1.33029015e+00,  2.45910251e+00,\n",
              "        7.45329776e-01,  1.61420264e+00,  1.81680761e+00, -7.26176061e-01,\n",
              "        1.24076537e+00,  1.13044562e+00,  1.80970279e+00,  2.08725867e+00])"
            ]
          },
          "metadata": {},
          "execution_count": 3
        }
      ]
    },
    {
      "cell_type": "code",
      "source": [
        "import random\n",
        "\n",
        "data_x = {}\n",
        "weight = {}\n",
        "errors = []\n",
        "for f in range(10):\n",
        "    data_x[f'x{f}'] = []\n",
        "    weight[f'w{f}'] = []\n",
        "    d = random.uniform(-0.002, 0.002)\n",
        "    w = random.uniform(0, 10)\n",
        "    w_delta = random.uniform(-0.005, 0.005)\n",
        "    for i in range(10000):\n",
        "        data_x[f'x{f}'].extend(np.random.normal(1.0+(i*d),1.0,100))\n",
        "        weight[f'w{f}'].extend(w + (w_delta*i)+np.random.normal(0.0,0.01,100))\n",
        "\n",
        "for i in range(10000):        \n",
        "    errors.extend(np.random.normal(1.0,2.0,100))"
      ],
      "metadata": {
        "id": "LrtPaSU_U8p6"
      },
      "execution_count": 91,
      "outputs": []
    },
    {
      "cell_type": "code",
      "source": [
        "dataset = pd.DataFrame(data_x)\n",
        "importance = pd.DataFrame(weight)"
      ],
      "metadata": {
        "id": "51Img-VQWlU1"
      },
      "execution_count": 92,
      "outputs": []
    },
    {
      "cell_type": "code",
      "source": [
        "dataset.plot()"
      ],
      "metadata": {
        "colab": {
          "base_uri": "https://localhost:8080/",
          "height": 283
        },
        "id": "DmDgeeXXWplN",
        "outputId": "f854a119-d562-4c1a-cdd9-c3a5639de022"
      },
      "execution_count": 79,
      "outputs": [
        {
          "output_type": "execute_result",
          "data": {
            "text/plain": [
              "<matplotlib.axes._subplots.AxesSubplot at 0x7fbb5eb94850>"
            ]
          },
          "metadata": {},
          "execution_count": 79
        },
        {
          "output_type": "display_data",
          "data": {
            "text/plain": [
              "<Figure size 432x288 with 1 Axes>"
            ],
            "image/png": "[encoded data removed]"
          },
          "metadata": {
            "needs_background": "light"
          }
        }
      ]
    },
    {
      "cell_type": "code",
      "source": [
        "importance.plot()"
      ],
      "metadata": {
        "colab": {
          "base_uri": "https://localhost:8080/",
          "height": 283
        },
        "id": "ju-kTLwLZh--",
        "outputId": "550f823b-4f17-4caf-b6ad-e7b63393347a"
      },
      "execution_count": 80,
      "outputs": [
        {
          "output_type": "execute_result",
          "data": {
            "text/plain": [
              "<matplotlib.axes._subplots.AxesSubplot at 0x7fbb61c196d0>"
            ]
          },
          "metadata": {},
          "execution_count": 80
        },
        {
          "output_type": "display_data",
          "data": {
            "text/plain": [
              "<Figure size 432x288 with 1 Axes>"
            ],
            "image/png": "[encoded data removed]"
          },
          "metadata": {
            "needs_background": "light"
          }
        }
      ]
    },
    {
      "cell_type": "code",
      "source": [
        "def adj_weight(x):\n",
        "    if x < 0.0:\n",
        "        return 0.0\n",
        "    return x+1-1"
      ],
      "metadata": {
        "id": "phrTWhUqdbXp"
      },
      "execution_count": 53,
      "outputs": []
    },
    {
      "cell_type": "code",
      "source": [
        "adj_weight(-1)"
      ],
      "metadata": {
        "colab": {
          "base_uri": "https://localhost:8080/"
        },
        "id": "04lL8_rKex_m",
        "outputId": "fa549728-73b2-4cdb-ad71-3460ff567d3f"
      },
      "execution_count": 54,
      "outputs": [
        {
          "output_type": "execute_result",
          "data": {
            "text/plain": [
              "0.0"
            ]
          },
          "metadata": {},
          "execution_count": 54
        }
      ]
    },
    {
      "cell_type": "code",
      "source": [
        "for f in range(10):\n",
        "    importance[f'w{f}'] = importance[f'w{f}'].apply(adj_weight)"
      ],
      "metadata": {
        "id": "LbjSEfh_alPS"
      },
      "execution_count": 93,
      "outputs": []
    },
    {
      "cell_type": "code",
      "source": [
        "importance.shape"
      ],
      "metadata": {
        "colab": {
          "base_uri": "https://localhost:8080/"
        },
        "id": "9p1q8RTfeF2m",
        "outputId": "8ef63363-6d99-42ac-dd04-fc3530fd1440"
      },
      "execution_count": 82,
      "outputs": [
        {
          "output_type": "execute_result",
          "data": {
            "text/plain": [
              "(100000, 10)"
            ]
          },
          "metadata": {},
          "execution_count": 82
        }
      ]
    },
    {
      "cell_type": "code",
      "source": [
        "dataset.shape"
      ],
      "metadata": {
        "colab": {
          "base_uri": "https://localhost:8080/"
        },
        "id": "ueRH2oEagDre",
        "outputId": "87b8e59e-c85d-441d-d99e-23df9ee04600"
      },
      "execution_count": 83,
      "outputs": [
        {
          "output_type": "execute_result",
          "data": {
            "text/plain": [
              "(100000, 10)"
            ]
          },
          "metadata": {},
          "execution_count": 83
        }
      ]
    },
    {
      "cell_type": "code",
      "source": [
        "len(errors)"
      ],
      "metadata": {
        "colab": {
          "base_uri": "https://localhost:8080/"
        },
        "id": "E5lVF5qtgJIU",
        "outputId": "d57e623e-e9c9-4f23-d459-a42feea85ffa"
      },
      "execution_count": 84,
      "outputs": [
        {
          "output_type": "execute_result",
          "data": {
            "text/plain": [
              "100000"
            ]
          },
          "metadata": {},
          "execution_count": 84
        }
      ]
    },
    {
      "cell_type": "code",
      "source": [
        "y=np.sum(np.multiply(importance.values,dataset.values),axis=1) + np.asarray(errors)"
      ],
      "metadata": {
        "id": "NoIO3qcMfTEu"
      },
      "execution_count": 94,
      "outputs": []
    },
    {
      "cell_type": "code",
      "source": [
        "plt.plot(y)"
      ],
      "metadata": {
        "colab": {
          "base_uri": "https://localhost:8080/",
          "height": 296
        },
        "id": "t5NgM9VGh9vN",
        "outputId": "4769133f-8cd2-4a9b-8735-fef3c4adac20"
      },
      "execution_count": 95,
      "outputs": [
        {
          "output_type": "execute_result",
          "data": {
            "text/plain": [
              "[<matplotlib.lines.Line2D at 0x7fbb382bf590>]"
            ]
          },
          "metadata": {},
          "execution_count": 95
        },
        {
          "output_type": "display_data",
          "data": {
            "text/plain": [
              "<Figure size 432x288 with 1 Axes>"
            ],
            "image/png": "[encoded data removed]"
          },
          "metadata": {
            "needs_background": "light"
          }
        }
      ]
    },
    {
      "cell_type": "code",
      "source": [
        "dataset['y'] = [1 if i > 0 else 0 for i in y]"
      ],
      "metadata": {
        "id": "shpApXcJiPKd"
      },
      "execution_count": 96,
      "outputs": []
    },
    {
      "cell_type": "code",
      "source": [
        "dataset"
      ],
      "metadata": {
        "colab": {
          "base_uri": "https://localhost:8080/",
          "height": 424
        },
        "id": "2S0MppLhjMSN",
        "outputId": "c9df9b27-02d1-46b5-dd05-31a0e7fde17e"
      },
      "execution_count": 101,
      "outputs": [
        {
          "output_type": "execute_result",
          "data": {
            "text/plain": [
              "               x0         x1         x2        x3        x4         x5  \\\n",
              "0       -0.436098   2.016749   0.143108  1.467411  0.424547   1.077912   \n",
              "1       -0.214423   1.704164   2.839124  1.613714  1.765123   1.849176   \n",
              "2        1.727316   1.102070   1.054399  1.005548  0.597528   0.785501   \n",
              "3        0.604143   0.908379  -0.002461  0.552422  2.394884   3.623380   \n",
              "4        2.736235   1.633641   0.502721  1.227504  3.253444   0.567363   \n",
              "...           ...        ...        ...       ...       ...        ...   \n",
              "999995  -9.395306  -9.304973 -13.976640 -5.049658  8.043084  17.798869   \n",
              "999996 -10.291800  -8.807786 -12.418769 -6.364509  8.397367  14.108351   \n",
              "999997  -8.915349  -8.102645 -12.469708 -5.829627  8.569982  17.266480   \n",
              "999998  -9.684141 -10.330952 -13.551626 -5.492569  7.223996  16.836514   \n",
              "999999  -8.812609  -8.456543 -13.522550 -5.066486  8.234301  17.435607   \n",
              "\n",
              "               x6         x7         x8         x9  y  \n",
              "0        1.703357   2.093790   0.742644   0.629767  1  \n",
              "1        0.612850  -0.176687  -1.083774  -0.289538  1  \n",
              "2        0.190790  -0.084674   1.814378   1.210073  1  \n",
              "3        0.849601   1.661799   1.727537   0.980628  1  \n",
              "4       -1.555482   2.736505  -0.286653   0.519170  1  \n",
              "...           ...        ...        ...        ... ..  \n",
              "999995  15.917025 -17.065351  17.482172 -15.326360  1  \n",
              "999996  18.398155 -17.545381  17.972564 -14.111775  0  \n",
              "999997  16.620278 -16.329832  16.700955 -16.840188  1  \n",
              "999998  16.840060 -18.222049  17.634282 -13.927758  0  \n",
              "999999  16.971688 -16.760372  17.507144 -14.263905  1  \n",
              "\n",
              "[1000000 rows x 11 columns]"
            ],
            "text/html": [
              "\n",
              "  <div id=\"df-0e4147de-66e3-4aa3-ba83-cd9e43d17247\">\n",
              "    <div class=\"colab-df-container\">\n",
              "      <div>\n",
              "<style scoped>\n",
              "    .dataframe tbody tr th:only-of-type {\n",
              "        vertical-align: middle;\n",
              "    }\n",
              "\n",
              "    .dataframe tbody tr th {\n",
              "        vertical-align: top;\n",
              "    }\n",
              "\n",
              "    .dataframe thead th {\n",
              "        text-align: right;\n",
              "    }\n",
              "</style>\n",
              "<table border=\"1\" class=\"dataframe\">\n",
              "  <thead>\n",
              "    <tr style=\"text-align: right;\">\n",
              "      <th></th>\n",
              "      <th>x0</th>\n",
              "      <th>x1</th>\n",
              "      <th>x2</th>\n",
              "      <th>x3</th>\n",
              "      <th>x4</th>\n",
              "      <th>x5</th>\n",
              "      <th>x6</th>\n",
              "      <th>x7</th>\n",
              "      <th>x8</th>\n",
              "      <th>x9</th>\n",
              "      <th>y</th>\n",
              "    </tr>\n",
              "  </thead>\n",
              "  <tbody>\n",
              "    <tr>\n",
              "      <th>0</th>\n",
              "      <td>-0.436098</td>\n",
              "      <td>2.016749</td>\n",
              "      <td>0.143108</td>\n",
              "      <td>1.467411</td>\n",
              "      <td>0.424547</td>\n",
              "      <td>1.077912</td>\n",
              "      <td>1.703357</td>\n",
              "      <td>2.093790</td>\n",
              "      <td>0.742644</td>\n",
              "      <td>0.629767</td>\n",
              "      <td>1</td>\n",
              "    </tr>\n",
              "    <tr>\n",
              "      <th>1</th>\n",
              "      <td>-0.214423</td>\n",
              "      <td>1.704164</td>\n",
              "      <td>2.839124</td>\n",
              "      <td>1.613714</td>\n",
              "      <td>1.765123</td>\n",
              "      <td>1.849176</td>\n",
              "      <td>0.612850</td>\n",
              "      <td>-0.176687</td>\n",
              "      <td>-1.083774</td>\n",
              "      <td>-0.289538</td>\n",
              "      <td>1</td>\n",
              "    </tr>\n",
              "    <tr>\n",
              "      <th>2</th>\n",
              "      <td>1.727316</td>\n",
              "      <td>1.102070</td>\n",
              "      <td>1.054399</td>\n",
              "      <td>1.005548</td>\n",
              "      <td>0.597528</td>\n",
              "      <td>0.785501</td>\n",
              "      <td>0.190790</td>\n",
              "      <td>-0.084674</td>\n",
              "      <td>1.814378</td>\n",
              "      <td>1.210073</td>\n",
              "      <td>1</td>\n",
              "    </tr>\n",
              "    <tr>\n",
              "      <th>3</th>\n",
              "      <td>0.604143</td>\n",
              "      <td>0.908379</td>\n",
              "      <td>-0.002461</td>\n",
              "      <td>0.552422</td>\n",
              "      <td>2.394884</td>\n",
              "      <td>3.623380</td>\n",
              "      <td>0.849601</td>\n",
              "      <td>1.661799</td>\n",
              "      <td>1.727537</td>\n",
              "      <td>0.980628</td>\n",
              "      <td>1</td>\n",
              "    </tr>\n",
              "    <tr>\n",
              "      <th>4</th>\n",
              "      <td>2.736235</td>\n",
              "      <td>1.633641</td>\n",
              "      <td>0.502721</td>\n",
              "      <td>1.227504</td>\n",
              "      <td>3.253444</td>\n",
              "      <td>0.567363</td>\n",
              "      <td>-1.555482</td>\n",
              "      <td>2.736505</td>\n",
              "      <td>-0.286653</td>\n",
              "      <td>0.519170</td>\n",
              "      <td>1</td>\n",
              "    </tr>\n",
              "    <tr>\n",
              "      <th>...</th>\n",
              "      <td>...</td>\n",
              "      <td>...</td>\n",
              "      <td>...</td>\n",
              "      <td>...</td>\n",
              "      <td>...</td>\n",
              "      <td>...</td>\n",
              "      <td>...</td>\n",
              "      <td>...</td>\n",
              "      <td>...</td>\n",
              "      <td>...</td>\n",
              "      <td>...</td>\n",
              "    </tr>\n",
              "    <tr>\n",
              "      <th>999995</th>\n",
              "      <td>-9.395306</td>\n",
              "      <td>-9.304973</td>\n",
              "      <td>-13.976640</td>\n",
              "      <td>-5.049658</td>\n",
              "      <td>8.043084</td>\n",
              "      <td>17.798869</td>\n",
              "      <td>15.917025</td>\n",
              "      <td>-17.065351</td>\n",
              "      <td>17.482172</td>\n",
              "      <td>-15.326360</td>\n",
              "      <td>1</td>\n",
              "    </tr>\n",
              "    <tr>\n",
              "      <th>999996</th>\n",
              "      <td>-10.291800</td>\n",
              "      <td>-8.807786</td>\n",
              "      <td>-12.418769</td>\n",
              "      <td>-6.364509</td>\n",
              "      <td>8.397367</td>\n",
              "      <td>14.108351</td>\n",
              "      <td>18.398155</td>\n",
              "      <td>-17.545381</td>\n",
              "      <td>17.972564</td>\n",
              "      <td>-14.111775</td>\n",
              "      <td>0</td>\n",
              "    </tr>\n",
              "    <tr>\n",
              "      <th>999997</th>\n",
              "      <td>-8.915349</td>\n",
              "      <td>-8.102645</td>\n",
              "      <td>-12.469708</td>\n",
              "      <td>-5.829627</td>\n",
              "      <td>8.569982</td>\n",
              "      <td>17.266480</td>\n",
              "      <td>16.620278</td>\n",
              "      <td>-16.329832</td>\n",
              "      <td>16.700955</td>\n",
              "      <td>-16.840188</td>\n",
              "      <td>1</td>\n",
              "    </tr>\n",
              "    <tr>\n",
              "      <th>999998</th>\n",
              "      <td>-9.684141</td>\n",
              "      <td>-10.330952</td>\n",
              "      <td>-13.551626</td>\n",
              "      <td>-5.492569</td>\n",
              "      <td>7.223996</td>\n",
              "      <td>16.836514</td>\n",
              "      <td>16.840060</td>\n",
              "      <td>-18.222049</td>\n",
              "      <td>17.634282</td>\n",
              "      <td>-13.927758</td>\n",
              "      <td>0</td>\n",
              "    </tr>\n",
              "    <tr>\n",
              "      <th>999999</th>\n",
              "      <td>-8.812609</td>\n",
              "      <td>-8.456543</td>\n",
              "      <td>-13.522550</td>\n",
              "      <td>-5.066486</td>\n",
              "      <td>8.234301</td>\n",
              "      <td>17.435607</td>\n",
              "      <td>16.971688</td>\n",
              "      <td>-16.760372</td>\n",
              "      <td>17.507144</td>\n",
              "      <td>-14.263905</td>\n",
              "      <td>1</td>\n",
              "    </tr>\n",
              "  </tbody>\n",
              "</table>\n",
              "<p>1000000 rows × 11 columns</p>\n",
              "</div>\n",
              "      <button class=\"colab-df-convert\" onclick=\"convertToInteractive('df-0e4147de-66e3-4aa3-ba83-cd9e43d17247')\"\n",
              "              title=\"Convert this dataframe to an interactive table.\"\n",
              "              style=\"display:none;\">\n",
              "        \n",
              "  <svg xmlns=\"http://www.w3.org/2000/svg\" height=\"24px\"viewBox=\"0 0 24 24\"\n",
              "       width=\"24px\">\n",
              "    <path d=\"M0 0h24v24H0V0z\" fill=\"none\"/>\n",
              "    <path d=\"M18.56 5.44l.94 2.06.94-2.06 2.06-.94-2.06-.94-.94-2.06-.94 2.06-2.06.94zm-11 1L8.5 8.5l.94-2.06 2.06-.94-2.06-.94L8.5 2.5l-.94 2.06-2.06.94zm10 10l.94 2.06.94-2.06 2.06-.94-2.06-.94-.94-2.06-.94 2.06-2.06.94z\"/><path d=\"M17.41 7.96l-1.37-1.37c-.4-.4-.92-.59-1.43-.59-.52 0-1.04.2-1.43.59L10.3 9.45l-7.72 7.72c-.78.78-.78 2.05 0 2.83L4 21.41c.39.39.9.59 1.41.59.51 0 1.02-.2 1.41-.59l7.78-7.78 2.81-2.81c.8-.78.8-2.07 0-2.86zM5.41 20L4 18.59l7.72-7.72 1.47 1.35L5.41 20z\"/>\n",
              "  </svg>\n",
              "      </button>\n",
              "      \n",
              "  <style>\n",
              "    .colab-df-container {\n",
              "      display:flex;\n",
              "      flex-wrap:wrap;\n",
              "      gap: 12px;\n",
              "    }\n",
              "\n",
              "    .colab-df-convert {\n",
              "      background-color: #E8F0FE;\n",
              "      border: none;\n",
              "      border-radius: 50%;\n",
              "      cursor: pointer;\n",
              "      display: none;\n",
              "      fill: #1967D2;\n",
              "      height: 32px;\n",
              "      padding: 0 0 0 0;\n",
              "      width: 32px;\n",
              "    }\n",
              "\n",
              "    .colab-df-convert:hover {\n",
              "      background-color: #E2EBFA;\n",
              "      box-shadow: 0px 1px 2px rgba(60, 64, 67, 0.3), 0px 1px 3px 1px rgba(60, 64, 67, 0.15);\n",
              "      fill: #174EA6;\n",
              "    }\n",
              "\n",
              "    [theme=dark] .colab-df-convert {\n",
              "      background-color: #3B4455;\n",
              "      fill: #D2E3FC;\n",
              "    }\n",
              "\n",
              "    [theme=dark] .colab-df-convert:hover {\n",
              "      background-color: #434B5C;\n",
              "      box-shadow: 0px 1px 3px 1px rgba(0, 0, 0, 0.15);\n",
              "      filter: drop-shadow(0px 1px 2px rgba(0, 0, 0, 0.3));\n",
              "      fill: #FFFFFF;\n",
              "    }\n",
              "  </style>\n",
              "\n",
              "      <script>\n",
              "        const buttonEl =\n",
              "          document.querySelector('#df-0e4147de-66e3-4aa3-ba83-cd9e43d17247 button.colab-df-convert');\n",
              "        buttonEl.style.display =\n",
              "          google.colab.kernel.accessAllowed ? 'block' : 'none';\n",
              "\n",
              "        async function convertToInteractive(key) {\n",
              "          const element = document.querySelector('#df-0e4147de-66e3-4aa3-ba83-cd9e43d17247');\n",
              "          const dataTable =\n",
              "            await google.colab.kernel.invokeFunction('convertToInteractive',\n",
              "                                                     [key], {});\n",
              "          if (!dataTable) return;\n",
              "\n",
              "          const docLinkHtml = 'Like what you see? Visit the ' +\n",
              "            '<a target=\"_blank\" href=https://colab.research.google.com/notebooks/data_table.ipynb>data table notebook</a>'\n",
              "            + ' to learn more about interactive tables.';\n",
              "          element.innerHTML = '';\n",
              "          dataTable['output_type'] = 'display_data';\n",
              "          await google.colab.output.renderOutput(dataTable, element);\n",
              "          const docLink = document.createElement('div');\n",
              "          docLink.innerHTML = docLinkHtml;\n",
              "          element.appendChild(docLink);\n",
              "        }\n",
              "      </script>\n",
              "    </div>\n",
              "  </div>\n",
              "  "
            ]
          },
          "metadata": {},
          "execution_count": 101
        }
      ]
    },
    {
      "cell_type": "code",
      "source": [
        "dataset.to_csv('/content/drive/MyDrive/laos/synthetic_dataset_1.csv')"
      ],
      "metadata": {
        "id": "y3OY9oPLj4A_"
      },
      "execution_count": 98,
      "outputs": []
    },
    {
      "cell_type": "code",
      "source": [
        "from sklearn.ensemble import RandomForestClassifier"
      ],
      "metadata": {
        "id": "bK2fq65hj2rC"
      },
      "execution_count": 99,
      "outputs": []
    },
    {
      "cell_type": "code",
      "source": [
        "trainset = dataset[0:100000].drop(columns=['y']).values\n",
        "y = dataset[0:100000]['y'].values"
      ],
      "metadata": {
        "id": "KW6RsyAEkcSY"
      },
      "execution_count": 102,
      "outputs": []
    },
    {
      "cell_type": "code",
      "source": [
        "business_model = RandomForestClassifier(n_estimators=80,max_depth=5)\n",
        "business_model.fit(trainset,y)"
      ],
      "metadata": {
        "colab": {
          "base_uri": "https://localhost:8080/"
        },
        "id": "UcRugxQrkNp7",
        "outputId": "8ea8d5c7-8c40-4547-acdb-6c242c423034"
      },
      "execution_count": 135,
      "outputs": [
        {
          "output_type": "execute_result",
          "data": {
            "text/plain": [
              "RandomForestClassifier(max_depth=5, n_estimators=80)"
            ]
          },
          "metadata": {},
          "execution_count": 135
        }
      ]
    },
    {
      "cell_type": "code",
      "source": [
        "testset = dataset[100000:110000].drop(columns=['y']).values\n",
        "test_y = dataset[100000:110000]['y'].values"
      ],
      "metadata": {
        "id": "QjwsEiuYldr4"
      },
      "execution_count": 107,
      "outputs": []
    },
    {
      "cell_type": "code",
      "source": [
        "from sklearn.metrics import precision_recall_fscore_support\n",
        "\n",
        "base_score = precision_recall_fscore_support(test_y, business_model.predict(testset),average='binary')"
      ],
      "metadata": {
        "id": "2Mu1C2tslnBq"
      },
      "execution_count": 136,
      "outputs": []
    },
    {
      "cell_type": "code",
      "source": [
        "base_score"
      ],
      "metadata": {
        "colab": {
          "base_uri": "https://localhost:8080/"
        },
        "id": "P2xcK1womLNi",
        "outputId": "58ca2567-d125-410c-c75e-9d3dd3438807"
      },
      "execution_count": 137,
      "outputs": [
        {
          "output_type": "execute_result",
          "data": {
            "text/plain": [
              "(0.9107769423558897, 1.0, 0.9533053515215111, None)"
            ]
          },
          "metadata": {},
          "execution_count": 137
        }
      ]
    },
    {
      "cell_type": "code",
      "source": [
        "\n",
        "def __ks_2samp2(sample1, sample2):\n",
        "    # Gets all observations\n",
        "    sample1 = np.sort(sample1)\n",
        "    sample2 = np.sort(sample2)\n",
        "    n1 = sample1.shape[0]\n",
        "    n2 = sample2.shape[0]   \n",
        "    data_all = np.concatenate([sample1, sample2])\n",
        "    cdf1 = np.searchsorted(sample1, data_all, side='right') / n1\n",
        "    cdf2 = np.searchsorted(sample2, data_all, side='right') / n2\n",
        "    # Evaluates the KS statistic\n",
        "    cddiffs = cdf1 - cdf2\n",
        "    minS = -np.min(cddiffs)\n",
        "    maxS = np.max(cddiffs)\n",
        "    ks_stat =  max(minS, maxS)\n",
        "    \n",
        "    #if ks_stat == minS:\n",
        "    #    ks_stat = -ks_stat\n",
        "    \n",
        "    # Calculates the P-Value based on the two-sided test\n",
        "    # The P-Value comes from the KS Distribution Survival Function (SF = 1-CDF)\n",
        "    m, n = float(n1), float(n2)\n",
        "    en = m * n / (m + n)\n",
        "    p_value = 0.0 #stats.kstwobign.sf(math.sqrt(en) * abs(ks_stat))\n",
        "    #p_value = stats.kstwobign.sf(en * abs(ks_stat))\n",
        "    return ks_stat,p_value\n",
        "\n",
        "def __ks_drift(ref_x,inf_x):\n",
        "    x_drift = np.zeros((ref_x.shape[1],2))\n",
        "    for i in range(ref_x.shape[1]):\n",
        "        #s, p = ks_2samp(ref_x[:,i],inf_x[:,i],mode='asymp')\n",
        "        s, p = __ks_2samp2(ref_x[:,i],inf_x[:,i])\n",
        "        x_drift[i,0] = s\n",
        "        x_drift[i,1] = p\n",
        "    return x_drift"
      ],
      "metadata": {
        "id": "4mQF78vmoRX1"
      },
      "execution_count": 152,
      "outputs": []
    },
    {
      "cell_type": "code",
      "source": [
        "X2 = dataset[110000:600000].drop(columns=['y']).values\n",
        "Y2 = dataset[110000:600000]['y'].values"
      ],
      "metadata": {
        "id": "QCsdw4UZm1BB"
      },
      "execution_count": 119,
      "outputs": []
    },
    {
      "cell_type": "code",
      "source": [
        "import math\n",
        "\n",
        "result = {}\n",
        "result['precision'] = []\n",
        "result['predicted'] = []\n",
        "result['drift'] = []\n",
        "window_size = 5000\n",
        "step = 2500\n",
        "predicted = 0\n",
        "batch = math.ceil((X2.shape[0]-window_size)/step)\n",
        "for i in range(batch):\n",
        "    ux = X2[i*step:i*step+window_size]\n",
        "    uy = Y2[i*step:i*step+window_size]\n",
        "    f1 = precision_recall_fscore_support(uy, business_model.predict(ux),average='binary')\n",
        "    drift = __ks_drift(trainset,ux)\n",
        "    result['precision'].append(f1[0])\n",
        "    result['predicted'].append(0.0)\n",
        "    result['drift'].append(sum(abs(drift[:,0])))"
      ],
      "metadata": {
        "id": "vqdVwC_cmtCQ"
      },
      "execution_count": 153,
      "outputs": []
    },
    {
      "cell_type": "code",
      "source": [
        "result_df = pd.DataFrame(result)"
      ],
      "metadata": {
        "id": "jCWAHwUOnWtB"
      },
      "execution_count": 154,
      "outputs": []
    },
    {
      "cell_type": "code",
      "source": [
        "result_df['precision'].plot()"
      ],
      "metadata": {
        "colab": {
          "base_uri": "https://localhost:8080/",
          "height": 283
        },
        "id": "hEPYRckRncHR",
        "outputId": "99f72221-c322-418a-8eb8-54c142359a71"
      },
      "execution_count": 155,
      "outputs": [
        {
          "output_type": "execute_result",
          "data": {
            "text/plain": [
              "<matplotlib.axes._subplots.AxesSubplot at 0x7fbb1cb20350>"
            ]
          },
          "metadata": {},
          "execution_count": 155
        },
        {
          "output_type": "display_data",
          "data": {
            "text/plain": [
              "<Figure size 432x288 with 1 Axes>"
            ],
            "image/png": "[encoded data removed]"
          },
          "metadata": {
            "needs_background": "light"
          }
        }
      ]
    },
    {
      "cell_type": "code",
      "source": [
        "result_df['drift'].plot()"
      ],
      "metadata": {
        "colab": {
          "base_uri": "https://localhost:8080/",
          "height": 283
        },
        "id": "zqA-Qk-OpADO",
        "outputId": "07fd251f-24ba-4fe3-f126-9822b15b70b3"
      },
      "execution_count": 156,
      "outputs": [
        {
          "output_type": "execute_result",
          "data": {
            "text/plain": [
              "<matplotlib.axes._subplots.AxesSubplot at 0x7fbb1ca82f10>"
            ]
          },
          "metadata": {},
          "execution_count": 156
        },
        {
          "output_type": "display_data",
          "data": {
            "text/plain": [
              "<Figure size 432x288 with 1 Axes>"
            ],
            "image/png": "[encoded data removed]"
          },
          "metadata": {
            "needs_background": "light"
          }
        }
      ]
    },
    {
      "cell_type": "code",
      "source": [
        "false_x = []\n",
        "true_x = []\n",
        "\n",
        "y_hat = business_model.predict(testset)\n",
        "\n",
        "inx = 0\n",
        "for yt,yp in zip(test_y,y_hat):\n",
        "    if yt == yp:\n",
        "        true_x.append(np.append(testset[inx],yt))\n",
        "    else:\n",
        "        false_x.append(np.append(testset[inx],yt))\n",
        "    inx = inx + 1\n",
        "\n",
        "true_x = np.asarray(true_x)\n",
        "false_x = np.asarray(false_x)"
      ],
      "metadata": {
        "id": "K-a4NrWIp3-V"
      },
      "execution_count": 157,
      "outputs": []
    },
    {
      "cell_type": "code",
      "source": [
        "import statsmodels.api as sm\n",
        "\n",
        "def ppm_build(ratio = 100,epoch =1000):\n",
        "    scores = []\n",
        "    drifts = []\n",
        "\n",
        "    sample_size = false_x.shape[0] * ratio\n",
        "    aa = np.random.randint(1,sample_size,epoch)\n",
        "    for i in range(epoch):\n",
        "        tx = true_x[np.random.choice(true_x.shape[0], sample_size, replace=True)[0:aa[i]],:]\n",
        "        fx = false_x #np.random.permutation(false_x)[0:np.random.randint(1,false_x.shape[0],1)[0]]\n",
        "        #fx = np.random.permutation(false_x)[0:np.random.randint(1,false_x.shape[0],1)[0]]\n",
        "        #tx = true_x[np.random.choice(true_x.shape[0], fx.shape[0] * ratio, replace=True)[0:np.random.randint(1,fx.shape[0] * ratio,1)[0]],:]\n",
        "        ffx = np.concatenate((tx,fx))\n",
        "        np.random.shuffle(ffx)\n",
        "        tx = ffx[:,0:10]\n",
        "        ty = ffx[:,10]\n",
        "        base_score = precision_recall_fscore_support(ty, business_model.predict(tx),average='binary')\n",
        "        #x_ref2 = np.random.permutation(x_ref)[0:tx.shape[0]]\n",
        "        drift = __ks_drift(trainset,tx)\n",
        "        scores.append(base_score[0])\n",
        "        drifts.append(drift[:,0])\n",
        "        print(f\"\\r{i+1}/{epoch} precision:{base_score[0]:.4f} drift:{drift[0,0]:.4f}\", end=\"\", flush=True)\n",
        "\n",
        "    plt.hist(scores, bins = 100)\n",
        "    plt.show()\n",
        "\n",
        "    model = sm.OLS(scores, drifts).fit()\n",
        "    print('Model R^2:',model.rsquared)\n",
        "    return model"
      ],
      "metadata": {
        "id": "IWTqGt6-p1yx"
      },
      "execution_count": 159,
      "outputs": []
    },
    {
      "cell_type": "code",
      "source": [
        "ppmodel = ppm_build(ratio = 80,epoch =300)"
      ],
      "metadata": {
        "colab": {
          "base_uri": "https://localhost:8080/"
        },
        "id": "PMxlZTCJrxdt",
        "outputId": "66a2634a-9e6b-4387-d969-ed63bc15dc56"
      },
      "execution_count": null,
      "outputs": [
        {
          "output_type": "stream",
          "name": "stdout",
          "text": [
            "140/300 precision:0.6736 drift:0.2647"
          ]
        }
      ]
    },
    {
      "cell_type": "code",
      "source": [
        "from sklearn.metrics import r2_score\n",
        "\n",
        "def test1(model):\n",
        "    result = {}\n",
        "    result['precision'] = []\n",
        "    result['predicted'] = []\n",
        "    window_size = 5000\n",
        "    step = 2500\n",
        "    predicted = 0\n",
        "    batch = math.ceil((X2.shape[0]-window_size)/step)\n",
        "    for i in range(batch):\n",
        "        ux = X2[i*step:i*step+window_size]\n",
        "        uy = Y2[i*step:i*step+window_size]\n",
        "        f1 = precision_recall_fscore_support(uy, business_model.predict(ux),average='binary')\n",
        "\n",
        "        drift = __ks_drift(trainset,ux)\n",
        "        precision = f1[0]\n",
        "        predicted1 = model.predict(drift[:,0])[0]\n",
        "        if abs(predicted1-predicted) > 0.1 and predicted > 0:\n",
        "            predicted1 = predicted\n",
        "        result['precision'].append(precision)\n",
        "        result['predicted'].append(predicted1)\n",
        "        print(f\"\\r{i+1}/{batch} precision:{precision:.4f} predicted:{predicted1:.4f}\", end=\"\", flush=True)\n",
        "        predicted = predicted1\n",
        "\n",
        "    R2 = r2_score(result['precision'],result['predicted'])\n",
        "    print('')\n",
        "    print('R2:',R2)\n",
        "    result_df = pd.DataFrame(result)\n",
        "    result_df.plot()\n",
        "    plt.show()\n",
        "    return R2, result_df"
      ],
      "metadata": {
        "id": "8OnJldbysXe8"
      },
      "execution_count": 150,
      "outputs": []
    },
    {
      "cell_type": "code",
      "source": [
        "R2, result_df = test1(ppmodel)"
      ],
      "metadata": {
        "colab": {
          "base_uri": "https://localhost:8080/",
          "height": 305
        },
        "id": "JuvRva8zxltZ",
        "outputId": "5f28e805-6858-4096-d02a-479905c66fb7"
      },
      "execution_count": 151,
      "outputs": [
        {
          "output_type": "stream",
          "name": "stdout",
          "text": [
            "194/194 precision:0.2774 predicted:2.2359\n",
            "R2: -79.12325949777158\n"
          ]
        },
        {
          "output_type": "display_data",
          "data": {
            "text/plain": [
              "<Figure size 432x288 with 1 Axes>"
            ],
            "image/png": "[encoded data removed]"
          },
          "metadata": {
            "needs_background": "light"
          }
        }
      ]
    }
  ]
}